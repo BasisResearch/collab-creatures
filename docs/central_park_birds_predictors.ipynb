{
 "cells": [
  {
   "cell_type": "code",
   "execution_count": 2,
   "metadata": {},
   "outputs": [],
   "source": [
    "import os\n",
    "import sys\n",
    "\n",
    "current_dir =  os.getcwd()\n",
    "parent_dir = os.path.dirname(current_dir)\n",
    "sys.path.insert(0, parent_dir)\n",
    "\n",
    "import math\n",
    "import random\n",
    "import numpy as np\n",
    "import pandas as pd\n",
    "import matplotlib.pyplot as plt\n",
    "import seaborn as sns\n",
    "import pickle\n",
    "import torch\n",
    "import pyro\n",
    "from collab import foraging_toolkit as ft\n",
    "import torch.nn.functional as F\n",
    "import logging\n",
    "import time\n",
    "import dill\n",
    "import copy\n",
    "\n",
    "from scipy.signal import find_peaks\n",
    "\n",
    "import plotly.io as pio\n",
    "from plotly import express as px, graph_objects as go, figure_factory as ff\n",
    "from pyro.nn import PyroModule\n",
    "import pyro.distributions as dist\n",
    "from pyro.infer.autoguide import (\n",
    "    AutoNormal,\n",
    "    AutoDiagonalNormal,\n",
    "    AutoMultivariateNormal,\n",
    "    init_to_mean,\n",
    "    init_to_value,\n",
    ")\n",
    "\n",
    "\n",
    "from pyro.contrib.autoguide import AutoLaplaceApproximation\n",
    "from pyro.infer import SVI, Trace_ELBO, MCMC, NUTS\n",
    "from pyro.optim import Adam\n",
    "import pyro.optim as optim\n",
    "from pyro.infer import Predictive\n",
    "from pyro.infer import MCMC, NUTS\n"
   ]
  },
  {
   "cell_type": "code",
   "execution_count": 3,
   "metadata": {},
   "outputs": [
    {
     "data": {
      "text/html": [
       "<div>\n",
       "<style scoped>\n",
       "    .dataframe tbody tr th:only-of-type {\n",
       "        vertical-align: middle;\n",
       "    }\n",
       "\n",
       "    .dataframe tbody tr th {\n",
       "        vertical-align: top;\n",
       "    }\n",
       "\n",
       "    .dataframe thead th {\n",
       "        text-align: right;\n",
       "    }\n",
       "</style>\n",
       "<table border=\"1\" class=\"dataframe\">\n",
       "  <thead>\n",
       "    <tr style=\"text-align: right;\">\n",
       "      <th></th>\n",
       "      <th>x</th>\n",
       "      <th>y</th>\n",
       "      <th>time</th>\n",
       "      <th>bird</th>\n",
       "    </tr>\n",
       "  </thead>\n",
       "  <tbody>\n",
       "    <tr>\n",
       "      <th>0</th>\n",
       "      <td>84.853396</td>\n",
       "      <td>22.812170</td>\n",
       "      <td>0</td>\n",
       "      <td>1</td>\n",
       "    </tr>\n",
       "    <tr>\n",
       "      <th>1</th>\n",
       "      <td>308.485824</td>\n",
       "      <td>22.659691</td>\n",
       "      <td>0</td>\n",
       "      <td>2</td>\n",
       "    </tr>\n",
       "    <tr>\n",
       "      <th>2</th>\n",
       "      <td>75.273170</td>\n",
       "      <td>91.047143</td>\n",
       "      <td>0</td>\n",
       "      <td>12</td>\n",
       "    </tr>\n",
       "    <tr>\n",
       "      <th>3</th>\n",
       "      <td>68.939135</td>\n",
       "      <td>99.259521</td>\n",
       "      <td>0</td>\n",
       "      <td>17</td>\n",
       "    </tr>\n",
       "    <tr>\n",
       "      <th>4</th>\n",
       "      <td>155.181453</td>\n",
       "      <td>109.061447</td>\n",
       "      <td>0</td>\n",
       "      <td>20</td>\n",
       "    </tr>\n",
       "  </tbody>\n",
       "</table>\n",
       "</div>"
      ],
      "text/plain": [
       "            x           y  time  bird\n",
       "0   84.853396   22.812170     0     1\n",
       "1  308.485824   22.659691     0     2\n",
       "2   75.273170   91.047143     0    12\n",
       "3   68.939135   99.259521     0    17\n",
       "4  155.181453  109.061447     0    20"
      ]
     },
     "metadata": {},
     "output_type": "display_data"
    },
    {
     "data": {
      "text/html": [
       "<div>\n",
       "<style scoped>\n",
       "    .dataframe tbody tr th:only-of-type {\n",
       "        vertical-align: middle;\n",
       "    }\n",
       "\n",
       "    .dataframe tbody tr th {\n",
       "        vertical-align: top;\n",
       "    }\n",
       "\n",
       "    .dataframe thead th {\n",
       "        text-align: right;\n",
       "    }\n",
       "</style>\n",
       "<table border=\"1\" class=\"dataframe\">\n",
       "  <thead>\n",
       "    <tr style=\"text-align: right;\">\n",
       "      <th></th>\n",
       "      <th>x</th>\n",
       "      <th>y</th>\n",
       "      <th>time</th>\n",
       "      <th>bird</th>\n",
       "    </tr>\n",
       "  </thead>\n",
       "  <tbody>\n",
       "    <tr>\n",
       "      <th>0</th>\n",
       "      <td>294.843352</td>\n",
       "      <td>82.777842</td>\n",
       "      <td>0</td>\n",
       "      <td>2</td>\n",
       "    </tr>\n",
       "    <tr>\n",
       "      <th>1</th>\n",
       "      <td>110.659049</td>\n",
       "      <td>86.254356</td>\n",
       "      <td>0</td>\n",
       "      <td>3</td>\n",
       "    </tr>\n",
       "    <tr>\n",
       "      <th>2</th>\n",
       "      <td>6.545799</td>\n",
       "      <td>136.260651</td>\n",
       "      <td>0</td>\n",
       "      <td>11</td>\n",
       "    </tr>\n",
       "    <tr>\n",
       "      <th>3</th>\n",
       "      <td>294.693470</td>\n",
       "      <td>83.130834</td>\n",
       "      <td>1</td>\n",
       "      <td>2</td>\n",
       "    </tr>\n",
       "    <tr>\n",
       "      <th>4</th>\n",
       "      <td>110.614951</td>\n",
       "      <td>86.297426</td>\n",
       "      <td>1</td>\n",
       "      <td>3</td>\n",
       "    </tr>\n",
       "  </tbody>\n",
       "</table>\n",
       "</div>"
      ],
      "text/plain": [
       "            x           y  time  bird\n",
       "0  294.843352   82.777842     0     2\n",
       "1  110.659049   86.254356     0     3\n",
       "2    6.545799  136.260651     0    11\n",
       "3  294.693470   83.130834     1     2\n",
       "4  110.614951   86.297426     1     3"
      ]
     },
     "metadata": {},
     "output_type": "display_data"
    },
    {
     "name": "stdout",
     "output_type": "stream",
     "text": [
      "(8867, 4)\n",
      "(22821, 4)\n"
     ]
    }
   ],
   "source": [
    "ducks_raw = pd.read_csv('../data/central_park_birds_cleaned_2022/20221215122046189_-5_25_bone.avi.hand_checked_cleaned_df.csv')\n",
    "sparrows_raw = pd.read_csv('../data/central_park_birds_cleaned_2022/20221229124843603_n5_25_bone.avi.hand_checked_cleaned_df.csv')\n",
    "\n",
    "display(ducks_raw.head())\n",
    "display(sparrows_raw.head())\n",
    "\n",
    "print(ducks_raw.shape)\n",
    "print(sparrows_raw.shape)"
   ]
  },
  {
   "cell_type": "code",
   "execution_count": 4,
   "metadata": {},
   "outputs": [
    {
     "data": {
      "text/plain": [
       "2309.8"
      ]
     },
     "execution_count": 4,
     "metadata": {},
     "output_type": "execute_result"
    }
   ],
   "source": [
    "1450/5\n",
    "\n",
    "11549/5"
   ]
  },
  {
   "cell_type": "code",
   "execution_count": 5,
   "metadata": {},
   "outputs": [
    {
     "name": "stdout",
     "output_type": "stream",
     "text": [
      "original_frames: 1450\n",
      "original_shape: (8867, 4)\n",
      "resulting_frames: 300\n",
      "resulting_shape: (1858, 4)\n",
      "min_time 1\n",
      "max_time 300\n",
      "original_frames: 11549\n",
      "original_shape: (22821, 4)\n",
      "resulting_frames: 2300\n",
      "resulting_shape: (4562, 4)\n",
      "min_time 1\n",
      "max_time 2300\n",
      "[ 2  3 11 26 27 10 21 25  4  5  6 22  7  8 23  9 12 13 24 14 15 16 17  0\n",
      " 18 19  1 20]\n",
      "800\n",
      "[ 2  3 11 26 27 10 21 25  4  5  6 22  7  8]\n",
      "len_ducks_sub:  1858\n",
      "len sps_sub:  1810\n"
     ]
    }
   ],
   "source": [
    "# tweak frames to obtain similar dataset sizes\n",
    "\n",
    "ducks_sub = ft.subsample_frames_evenly_spaced(ducks_raw, 300)\n",
    "ducks_sub = ft.rescale_to_grid(ducks_sub, 90)\n",
    "ducks_obj = ft.object_from_data(ducks_sub, grid_size=90, frames=300,\n",
    "                                calculate_step_size_max = True)\n",
    "\n",
    "\n",
    "\n",
    "\n",
    "sps_sub = ft.subsample_frames_evenly_spaced(sparrows_raw, 2300)\n",
    "print(sps_sub['bird'].unique())\n",
    "sps_sub = sps_sub[sps_sub['time']<=800]\n",
    "sps_sub = ft.rescale_to_grid(sps_sub, 90)\n",
    "sps_obj = ft.object_from_data(sps_sub, grid_size=90, frames=300,\n",
    "                              calculate_step_size_max = True)\n",
    "\n",
    "print(sps_sub['time'].max())\n",
    "print(sps_sub['bird'].unique())\n",
    "print(\"len_ducks_sub: \", len(ducks_sub))\n",
    "print(\"len sps_sub: \", len(sps_sub))    "
   ]
  },
  {
   "cell_type": "code",
   "execution_count": 6,
   "metadata": {},
   "outputs": [
    {
     "data": {
      "text/plain": [
       "(1810, 4)"
      ]
     },
     "execution_count": 6,
     "metadata": {},
     "output_type": "execute_result"
    }
   ],
   "source": [
    "sps_obj.birdsDF.shape"
   ]
  },
  {
   "cell_type": "code",
   "execution_count": 7,
   "metadata": {},
   "outputs": [
    {
     "name": "stdout",
     "output_type": "stream",
     "text": [
      "6.0\n",
      "25.0\n"
     ]
    }
   ],
   "source": [
    "# these are max shifts along an axis\n",
    "# sparrows et al. seem more jumpy\n",
    "print(ducks_obj.step_size_max)\n",
    "print(sps_obj.step_size_max)\n"
   ]
  },
  {
   "cell_type": "code",
   "execution_count": 8,
   "metadata": {},
   "outputs": [],
   "source": [
    "#let's get a feel for the distance distribution of ducks\n",
    "duck_distances = ft.cp_birds_to_bird_distances(ducks_obj)\n"
   ]
  },
  {
   "cell_type": "code",
   "execution_count": 9,
   "metadata": {},
   "outputs": [],
   "source": [
    "sps_distances = ft.cp_birds_to_bird_distances_sps(sps_obj)"
   ]
  },
  {
   "cell_type": "code",
   "execution_count": 10,
   "metadata": {},
   "outputs": [
    {
     "data": {
      "image/png": "[encoded data removed]",
      "text/plain": [
       "<Figure size 640x480 with 1 Axes>"
      ]
     },
     "metadata": {},
     "output_type": "display_data"
    }
   ],
   "source": [
    "ft.cp_distances_and_peaks(duck_distances)"
   ]
  },
  {
   "cell_type": "code",
   "execution_count": 11,
   "metadata": {},
   "outputs": [
    {
     "data": {
      "image/png": "[encoded data removed]",
      "text/plain": [
       "<Figure size 640x480 with 1 Axes>"
      ]
     },
     "metadata": {},
     "output_type": "display_data"
    }
   ],
   "source": [
    "# now sparrows et al.\n",
    "ft.cp_distances_and_peaks(sps_distances)\n",
    "\n",
    "# we will use 19, 46, and 84 as proximity hyperparameters\n",
    "# 19 should work well for sparrows, less so ducks\n",
    "# 46 should work well for ducks, not terribly for sparrows\n",
    "# 85 should not work very well for either"
   ]
  },
  {
   "cell_type": "code",
   "execution_count": 12,
   "metadata": {},
   "outputs": [],
   "source": [
    "# note were severely subsampling the grid here, mostly for speed\n",
    "\n",
    "ducks_vis = ft.cp_generate_visibility(ducks_obj.birds, sampling_rate=0.02)\n",
    "ducks_obj.visibility = ducks_vis[\"visibility\"]\n",
    "ducks_obj.visibilityDF = ducks_vis[\"visibilityDF\"]\n",
    "\n",
    "sps_vis = ft.cp_generate_visibility(sps_obj.birds, sampling_rate=0.02)\n",
    "sps_obj.visibility = sps_vis[\"visibility\"]\n",
    "sps_obj.visibilityDF = sps_vis[\"visibilityDF\"]"
   ]
  },
  {
   "cell_type": "code",
   "execution_count": 13,
   "metadata": {},
   "outputs": [],
   "source": [
    "# now the combinations we want\n",
    "# this is a longish process, so we'll save the results\n",
    "# and if you don't want to run it, just load them  from (cell below)\n",
    "\n",
    "def cp_derive(obj, optimal_list, bird_distances = None):\n",
    "\n",
    "    objects = {}\n",
    "    \n",
    "    \n",
    "    for optimal in optimal_list:\n",
    "        prox = ft.cp_generate_proximity_score(\n",
    "        obj,\n",
    "        visibility_range=100,\n",
    "        getting_worse=2,\n",
    "        optimal=optimal,\n",
    "        proximity_decay=0.1,\n",
    "        time_shift=0,\n",
    "        bird_distances = bird_distances)\n",
    "    \n",
    "        _obj = copy.copy(obj)\n",
    "        _obj.proximity = prox[\"proximity\"]\n",
    "        _obj.proximityDF = prox[\"proximityDF\"]\n",
    "        ft.cp_add_how_far_squared_scaled(_obj)\n",
    "    \n",
    "        objects[optimal] = _obj   \n",
    "    \n",
    "    return objects\n",
    "    \n"
   ]
  },
  {
   "cell_type": "code",
   "execution_count": 14,
   "metadata": {},
   "outputs": [],
   "source": [
    "        \n",
    "ducks_objects = cp_derive(ducks_obj, [19, 46, 85])\n"
   ]
  },
  {
   "cell_type": "code",
   "execution_count": 15,
   "metadata": {},
   "outputs": [],
   "source": [
    "\n",
    "def cp_derive_sps(obj, optimal_list, bird_distances = None):\n",
    "\n",
    "    objects = {}\n",
    "    \n",
    "    \n",
    "    for optimal in optimal_list:\n",
    "        prox = ft.cp_generate_proximity_score_sps(\n",
    "        obj,\n",
    "        visibility_range=100,\n",
    "        getting_worse=2,\n",
    "        optimal=optimal,\n",
    "        proximity_decay=0.1,\n",
    "        time_shift=0,\n",
    "        bird_distances = sps_distances)\n",
    "    \n",
    "        _obj = copy.copy(obj)\n",
    "        _obj.proximity = prox[\"proximity\"]\n",
    "        _obj.proximityDF = prox[\"proximityDF\"]\n",
    "        ft.cp_add_how_far_squared_scaled(_obj)\n",
    "    \n",
    "        objects[optimal] = _obj   \n",
    "    \n",
    "    return objects\n",
    "    "
   ]
  },
  {
   "cell_type": "code",
   "execution_count": 16,
   "metadata": {},
   "outputs": [],
   "source": [
    "sps_objects = cp_derive_sps(sps_obj, [19, 46, 85])"
   ]
  },
  {
   "cell_type": "code",
   "execution_count": 18,
   "metadata": {},
   "outputs": [
    {
     "data": {
      "text/html": [
       "<div>\n",
       "<style scoped>\n",
       "    .dataframe tbody tr th:only-of-type {\n",
       "        vertical-align: middle;\n",
       "    }\n",
       "\n",
       "    .dataframe tbody tr th {\n",
       "        vertical-align: top;\n",
       "    }\n",
       "\n",
       "    .dataframe thead th {\n",
       "        text-align: right;\n",
       "    }\n",
       "</style>\n",
       "<table border=\"1\" class=\"dataframe\">\n",
       "  <thead>\n",
       "    <tr style=\"text-align: right;\">\n",
       "      <th></th>\n",
       "      <th>x</th>\n",
       "      <th>y</th>\n",
       "      <th>distance</th>\n",
       "      <th>distance_x</th>\n",
       "      <th>distance_y</th>\n",
       "      <th>visibility</th>\n",
       "      <th>bird</th>\n",
       "      <th>time</th>\n",
       "      <th>proximity</th>\n",
       "      <th>proximity_standardized</th>\n",
       "    </tr>\n",
       "  </thead>\n",
       "  <tbody>\n",
       "    <tr>\n",
       "      <th>6922</th>\n",
       "      <td>77</td>\n",
       "      <td>83</td>\n",
       "      <td>11.747340</td>\n",
       "      <td>5.0</td>\n",
       "      <td>64.0</td>\n",
       "      <td>0.979055</td>\n",
       "      <td>1</td>\n",
       "      <td>116</td>\n",
       "      <td>0.004350</td>\n",
       "      <td>-0.687867</td>\n",
       "    </tr>\n",
       "    <tr>\n",
       "      <th>5993</th>\n",
       "      <td>67</td>\n",
       "      <td>54</td>\n",
       "      <td>7.745967</td>\n",
       "      <td>5.0</td>\n",
       "      <td>35.0</td>\n",
       "      <td>0.990875</td>\n",
       "      <td>1</td>\n",
       "      <td>116</td>\n",
       "      <td>0.043595</td>\n",
       "      <td>-0.267459</td>\n",
       "    </tr>\n",
       "    <tr>\n",
       "      <th>7081</th>\n",
       "      <td>79</td>\n",
       "      <td>62</td>\n",
       "      <td>10.000000</td>\n",
       "      <td>7.0</td>\n",
       "      <td>43.0</td>\n",
       "      <td>0.984808</td>\n",
       "      <td>1</td>\n",
       "      <td>116</td>\n",
       "      <td>0.010644</td>\n",
       "      <td>-0.620451</td>\n",
       "    </tr>\n",
       "    <tr>\n",
       "      <th>6143</th>\n",
       "      <td>69</td>\n",
       "      <td>24</td>\n",
       "      <td>2.000000</td>\n",
       "      <td>3.0</td>\n",
       "      <td>5.0</td>\n",
       "      <td>0.999391</td>\n",
       "      <td>1</td>\n",
       "      <td>116</td>\n",
       "      <td>0.044714</td>\n",
       "      <td>-0.255471</td>\n",
       "    </tr>\n",
       "    <tr>\n",
       "      <th>5844</th>\n",
       "      <td>65</td>\n",
       "      <td>85</td>\n",
       "      <td>10.862780</td>\n",
       "      <td>7.0</td>\n",
       "      <td>66.0</td>\n",
       "      <td>0.982081</td>\n",
       "      <td>1</td>\n",
       "      <td>116</td>\n",
       "      <td>0.009394</td>\n",
       "      <td>-0.633833</td>\n",
       "    </tr>\n",
       "  </tbody>\n",
       "</table>\n",
       "</div>"
      ],
      "text/plain": [
       "       x   y   distance  distance_x  distance_y  visibility  bird  time  \\\n",
       "6922  77  83  11.747340         5.0        64.0    0.979055     1   116   \n",
       "5993  67  54   7.745967         5.0        35.0    0.990875     1   116   \n",
       "7081  79  62  10.000000         7.0        43.0    0.984808     1   116   \n",
       "6143  69  24   2.000000         3.0         5.0    0.999391     1   116   \n",
       "5844  65  85  10.862780         7.0        66.0    0.982081     1   116   \n",
       "\n",
       "      proximity  proximity_standardized  \n",
       "6922   0.004350               -0.687867  \n",
       "5993   0.043595               -0.267459  \n",
       "7081   0.010644               -0.620451  \n",
       "6143   0.044714               -0.255471  \n",
       "5844   0.009394               -0.633833  "
      ]
     },
     "execution_count": 18,
     "metadata": {},
     "output_type": "execute_result"
    }
   ],
   "source": [
    "\n",
    "central_park_objects = [ducks_objects, sps_objects]\n"
   ]
  },
  {
   "cell_type": "code",
   "execution_count": 19,
   "metadata": {},
   "outputs": [],
   "source": [
    "\n",
    "path = \"../data/central_park_birds_cleaned_2022/central_park_objects.pkl\"\n",
    "with open(path, \"wb\") as file:\n",
    "    dill.dump(central_park_objects, file)\n"
   ]
  }
 ],
 "metadata": {
  "kernelspec": {
   "display_name": "chirho",
   "language": "python",
   "name": "python3"
  },
  "language_info": {
   "codemirror_mode": {
    "name": "ipython",
    "version": 3
   },
   "file_extension": ".py",
   "mimetype": "text/x-python",
   "name": "python",
   "nbconvert_exporter": "python",
   "pygments_lexer": "ipython3",
   "version": "3.11.4"
  },
  "orig_nbformat": 4
 },
 "nbformat": 4,
 "nbformat_minor": 2
}
