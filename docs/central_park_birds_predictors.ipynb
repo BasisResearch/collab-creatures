{
 "cells": [
  {
   "cell_type": "code",
   "execution_count": 3,
   "metadata": {},
   "outputs": [],
   "source": [
    "import os\n",
    "import sys\n",
    "\n",
    "current_dir =  os.getcwd()\n",
    "parent_dir = os.path.dirname(current_dir)\n",
    "sys.path.insert(0, parent_dir)\n",
    "\n",
    "import math\n",
    "import random\n",
    "import numpy as np\n",
    "import pandas as pd\n",
    "import matplotlib.pyplot as plt\n",
    "import seaborn as sns\n",
    "import pickle\n",
    "import torch\n",
    "import pyro\n",
    "from collab import foraging_toolkit as ft\n",
    "import torch.nn.functional as F\n",
    "import logging\n",
    "import time\n",
    "import dill\n",
    "import copy\n",
    "\n",
    "from scipy.signal import find_peaks\n",
    "\n",
    "import plotly.io as pio\n",
    "from plotly import express as px, graph_objects as go, figure_factory as ff\n",
    "from pyro.nn import PyroModule\n",
    "import pyro.distributions as dist\n",
    "from pyro.infer.autoguide import (\n",
    "    AutoNormal,\n",
    "    AutoDiagonalNormal,\n",
    "    AutoMultivariateNormal,\n",
    "    init_to_mean,\n",
    "    init_to_value,\n",
    ")\n",
    "\n",
    "\n",
    "from pyro.contrib.autoguide import AutoLaplaceApproximation\n",
    "from pyro.infer import SVI, Trace_ELBO, MCMC, NUTS\n",
    "from pyro.optim import Adam\n",
    "import pyro.optim as optim\n",
    "from pyro.infer import Predictive\n",
    "from pyro.infer import MCMC, NUTS\n"
   ]
  },
  {
   "cell_type": "code",
   "execution_count": 4,
   "metadata": {},
   "outputs": [
    {
     "data": {
      "text/html": [
       "<div>\n",
       "<style scoped>\n",
       "    .dataframe tbody tr th:only-of-type {\n",
       "        vertical-align: middle;\n",
       "    }\n",
       "\n",
       "    .dataframe tbody tr th {\n",
       "        vertical-align: top;\n",
       "    }\n",
       "\n",
       "    .dataframe thead th {\n",
       "        text-align: right;\n",
       "    }\n",
       "</style>\n",
       "<table border=\"1\" class=\"dataframe\">\n",
       "  <thead>\n",
       "    <tr style=\"text-align: right;\">\n",
       "      <th></th>\n",
       "      <th>x</th>\n",
       "      <th>y</th>\n",
       "      <th>time</th>\n",
       "      <th>bird</th>\n",
       "    </tr>\n",
       "  </thead>\n",
       "  <tbody>\n",
       "    <tr>\n",
       "      <th>0</th>\n",
       "      <td>84.853396</td>\n",
       "      <td>22.812170</td>\n",
       "      <td>0</td>\n",
       "      <td>1</td>\n",
       "    </tr>\n",
       "    <tr>\n",
       "      <th>1</th>\n",
       "      <td>308.485824</td>\n",
       "      <td>22.659691</td>\n",
       "      <td>0</td>\n",
       "      <td>2</td>\n",
       "    </tr>\n",
       "    <tr>\n",
       "      <th>2</th>\n",
       "      <td>75.273170</td>\n",
       "      <td>91.047143</td>\n",
       "      <td>0</td>\n",
       "      <td>12</td>\n",
       "    </tr>\n",
       "    <tr>\n",
       "      <th>3</th>\n",
       "      <td>68.939135</td>\n",
       "      <td>99.259521</td>\n",
       "      <td>0</td>\n",
       "      <td>17</td>\n",
       "    </tr>\n",
       "    <tr>\n",
       "      <th>4</th>\n",
       "      <td>155.181453</td>\n",
       "      <td>109.061447</td>\n",
       "      <td>0</td>\n",
       "      <td>20</td>\n",
       "    </tr>\n",
       "  </tbody>\n",
       "</table>\n",
       "</div>"
      ],
      "text/plain": [
       "            x           y  time  bird\n",
       "0   84.853396   22.812170     0     1\n",
       "1  308.485824   22.659691     0     2\n",
       "2   75.273170   91.047143     0    12\n",
       "3   68.939135   99.259521     0    17\n",
       "4  155.181453  109.061447     0    20"
      ]
     },
     "metadata": {},
     "output_type": "display_data"
    },
    {
     "data": {
      "text/html": [
       "<div>\n",
       "<style scoped>\n",
       "    .dataframe tbody tr th:only-of-type {\n",
       "        vertical-align: middle;\n",
       "    }\n",
       "\n",
       "    .dataframe tbody tr th {\n",
       "        vertical-align: top;\n",
       "    }\n",
       "\n",
       "    .dataframe thead th {\n",
       "        text-align: right;\n",
       "    }\n",
       "</style>\n",
       "<table border=\"1\" class=\"dataframe\">\n",
       "  <thead>\n",
       "    <tr style=\"text-align: right;\">\n",
       "      <th></th>\n",
       "      <th>x</th>\n",
       "      <th>y</th>\n",
       "      <th>time</th>\n",
       "      <th>bird</th>\n",
       "    </tr>\n",
       "  </thead>\n",
       "  <tbody>\n",
       "    <tr>\n",
       "      <th>0</th>\n",
       "      <td>294.843352</td>\n",
       "      <td>82.777842</td>\n",
       "      <td>0</td>\n",
       "      <td>2</td>\n",
       "    </tr>\n",
       "    <tr>\n",
       "      <th>1</th>\n",
       "      <td>110.659049</td>\n",
       "      <td>86.254356</td>\n",
       "      <td>0</td>\n",
       "      <td>3</td>\n",
       "    </tr>\n",
       "    <tr>\n",
       "      <th>2</th>\n",
       "      <td>6.545799</td>\n",
       "      <td>136.260651</td>\n",
       "      <td>0</td>\n",
       "      <td>11</td>\n",
       "    </tr>\n",
       "    <tr>\n",
       "      <th>3</th>\n",
       "      <td>294.693470</td>\n",
       "      <td>83.130834</td>\n",
       "      <td>1</td>\n",
       "      <td>2</td>\n",
       "    </tr>\n",
       "    <tr>\n",
       "      <th>4</th>\n",
       "      <td>110.614951</td>\n",
       "      <td>86.297426</td>\n",
       "      <td>1</td>\n",
       "      <td>3</td>\n",
       "    </tr>\n",
       "  </tbody>\n",
       "</table>\n",
       "</div>"
      ],
      "text/plain": [
       "            x           y  time  bird\n",
       "0  294.843352   82.777842     0     2\n",
       "1  110.659049   86.254356     0     3\n",
       "2    6.545799  136.260651     0    11\n",
       "3  294.693470   83.130834     1     2\n",
       "4  110.614951   86.297426     1     3"
      ]
     },
     "metadata": {},
     "output_type": "display_data"
    },
    {
     "name": "stdout",
     "output_type": "stream",
     "text": [
      "(8867, 4)\n",
      "(22821, 4)\n"
     ]
    }
   ],
   "source": [
    "ducks_raw = pd.read_csv('../data/central_park_birds_cleaned_2022/20221215122046189_-5_25_bone.avi.hand_checked_cleaned_df.csv')\n",
    "sparrows_raw = pd.read_csv('../data/central_park_birds_cleaned_2022/20221229124843603_n5_25_bone.avi.hand_checked_cleaned_df.csv')\n",
    "\n",
    "display(ducks_raw.head())\n",
    "display(sparrows_raw.head())\n",
    "\n",
    "print(ducks_raw.shape)\n",
    "print(sparrows_raw.shape)"
   ]
  },
  {
   "cell_type": "code",
   "execution_count": 5,
   "metadata": {},
   "outputs": [
    {
     "data": {
      "text/plain": [
       "2309.8"
      ]
     },
     "execution_count": 5,
     "metadata": {},
     "output_type": "execute_result"
    }
   ],
   "source": [
    "1450/5\n",
    "\n",
    "11549/5"
   ]
  },
  {
   "cell_type": "code",
   "execution_count": 6,
   "metadata": {},
   "outputs": [
    {
     "name": "stdout",
     "output_type": "stream",
     "text": [
      "original_frames: 1450\n",
      "original_shape: (8867, 4)\n",
      "resulting_frames: 300\n",
      "resulting_shape: (1858, 4)\n",
      "min_time 1\n",
      "max_time 300\n",
      "original_frames: 11549\n",
      "original_shape: (22821, 4)\n",
      "resulting_frames: 2300\n",
      "resulting_shape: (4562, 4)\n",
      "min_time 1\n",
      "max_time 2300\n",
      "[ 2  3 11 26 27 10 21 25  4  5  6 22  7  8 23  9 12 13 24 14 15 16 17  0\n",
      " 18 19  1 20]\n",
      "800\n",
      "[ 2  3 11 26 27 10 21 25  4  5  6 22  7  8]\n",
      "len_ducks_sub:  1858\n",
      "len sps_sub:  1810\n"
     ]
    }
   ],
   "source": [
    "# tweak frames to obtain similar dataset sizes\n",
    "\n",
    "ducks_sub = ft.subsample_frames_evenly_spaced(ducks_raw, 300)\n",
    "ducks_sub = ft.rescale_to_grid(ducks_sub, 90)\n",
    "ducks_obj = ft.object_from_data(ducks_sub, grid_size=90, frames=300,\n",
    "                                calculate_step_size_max = True)\n",
    "\n",
    "\n",
    "\n",
    "\n",
    "sps_sub = ft.subsample_frames_evenly_spaced(sparrows_raw, 2300)\n",
    "print(sps_sub['bird'].unique())\n",
    "sps_sub = sps_sub[sps_sub['time']<=800]\n",
    "sps_sub = ft.rescale_to_grid(sps_sub, 90)\n",
    "sps_obj = ft.object_from_data(sps_sub, grid_size=90, frames=300,\n",
    "                              calculate_step_size_max = True)\n",
    "\n",
    "print(sps_sub['time'].max())\n",
    "print(sps_sub['bird'].unique())\n",
    "print(\"len_ducks_sub: \", len(ducks_sub))\n",
    "print(\"len sps_sub: \", len(sps_sub))    "
   ]
  },
  {
   "cell_type": "code",
   "execution_count": 7,
   "metadata": {},
   "outputs": [
    {
     "data": {
      "text/plain": [
       "(1810, 4)"
      ]
     },
     "execution_count": 7,
     "metadata": {},
     "output_type": "execute_result"
    }
   ],
   "source": [
    "sps_obj.birdsDF.shape"
   ]
  },
  {
   "cell_type": "code",
   "execution_count": 8,
   "metadata": {},
   "outputs": [
    {
     "name": "stdout",
     "output_type": "stream",
     "text": [
      "6.0\n",
      "25.0\n"
     ]
    }
   ],
   "source": [
    "# these are max shifts along an axis\n",
    "# sparrows et al. seem more jumpy\n",
    "print(ducks_obj.step_size_max)\n",
    "print(sps_obj.step_size_max)\n"
   ]
  },
  {
   "cell_type": "code",
   "execution_count": 9,
   "metadata": {},
   "outputs": [],
   "source": [
    "#let's get a feel for the distance distribution of ducks\n",
    "duck_distances = ft.cp_birds_to_bird_distances(ducks_obj)\n"
   ]
  },
  {
   "cell_type": "code",
   "execution_count": 10,
   "metadata": {},
   "outputs": [],
   "source": [
    "sps_distances = ft.cp_birds_to_bird_distances_sps(sps_obj)"
   ]
  },
  {
   "cell_type": "code",
   "execution_count": 11,
   "metadata": {},
   "outputs": [
    {
     "data": {
      "image/png": "[encoded data removed]",
      "text/plain": [
       "<Figure size 640x480 with 1 Axes>"
      ]
     },
     "metadata": {},
     "output_type": "display_data"
    }
   ],
   "source": [
    "ft.cp_distances_and_peaks(duck_distances)"
   ]
  },
  {
   "cell_type": "code",
   "execution_count": 12,
   "metadata": {},
   "outputs": [
    {
     "data": {
      "image/png": "[encoded data removed]",
      "text/plain": [
       "<Figure size 640x480 with 1 Axes>"
      ]
     },
     "metadata": {},
     "output_type": "display_data"
    }
   ],
   "source": [
    "# now sparrows et al.\n",
    "ft.cp_distances_and_peaks(sps_distances)\n",
    "\n",
    "# we will use 19, 46, and 84 as proximity hyperparameters\n",
    "# 19 should work well for sparrows, less so ducks\n",
    "# 46 should work well for ducks, not terribly for sparrows\n",
    "# 85 should not work very well for either"
   ]
  },
  {
   "cell_type": "code",
   "execution_count": 13,
   "metadata": {},
   "outputs": [],
   "source": [
    "# note were severely subsampling the grid here, mostly for speed\n",
    "\n",
    "ducks_vis = ft.cp_generate_visibility(ducks_obj.birds, sampling_rate=0.02)\n",
    "ducks_obj.visibility = ducks_vis[\"visibility\"]\n",
    "ducks_obj.visibilityDF = ducks_vis[\"visibilityDF\"]\n",
    "\n",
    "sps_vis = ft.cp_generate_visibility(sps_obj.birds, sampling_rate=0.02)\n",
    "sps_obj.visibility = sps_vis[\"visibility\"]\n",
    "sps_obj.visibilityDF = sps_vis[\"visibilityDF\"]"
   ]
  },
  {
   "cell_type": "code",
   "execution_count": 14,
   "metadata": {},
   "outputs": [],
   "source": [
    "# now the combinations we want\n",
    "# this is a longish process, so we'll save the results\n",
    "# and if you don't want to run it, just load them  from (cell below)\n",
    "\n",
    "def cp_derive(obj, optimal_list, bird_distances = None):\n",
    "\n",
    "    objects = {}\n",
    "    \n",
    "    \n",
    "    for optimal in optimal_list:\n",
    "        prox = ft.cp_generate_proximity_score(\n",
    "        obj,\n",
    "        visibility_range=100,\n",
    "        getting_worse=2,\n",
    "        optimal=optimal,\n",
    "        proximity_decay=0.1,\n",
    "        time_shift=0,\n",
    "        bird_distances = bird_distances)\n",
    "    \n",
    "        _obj = copy.copy(obj)\n",
    "        _obj.proximity = prox[\"proximity\"]\n",
    "        _obj.proximityDF = prox[\"proximityDF\"]\n",
    "        ft.cp_add_how_far_squared_scaled(_obj)\n",
    "    \n",
    "        objects[optimal] = _obj   \n",
    "    \n",
    "    return objects\n",
    "    \n"
   ]
  },
  {
   "cell_type": "code",
   "execution_count": 15,
   "metadata": {},
   "outputs": [],
   "source": [
    "        \n",
    "ducks_objects = cp_derive(ducks_obj, [19, 46, 85])\n"
   ]
  },
  {
   "cell_type": "code",
   "execution_count": 16,
   "metadata": {},
   "outputs": [],
   "source": [
    "\n",
    "def cp_derive_sps(obj, optimal_list, bird_distances = None):\n",
    "\n",
    "    objects = {}\n",
    "    \n",
    "    \n",
    "    for optimal in optimal_list:\n",
    "        prox = ft.cp_generate_proximity_score_sps(\n",
    "        obj,\n",
    "        visibility_range=100,\n",
    "        getting_worse=2,\n",
    "        optimal=optimal,\n",
    "        proximity_decay=0.1,\n",
    "        time_shift=0,\n",
    "        bird_distances = sps_distances)\n",
    "    \n",
    "        _obj = copy.copy(obj)\n",
    "        _obj.proximity = prox[\"proximity\"]\n",
    "        _obj.proximityDF = prox[\"proximityDF\"]\n",
    "        ft.cp_add_how_far_squared_scaled(_obj)\n",
    "    \n",
    "        objects[optimal] = _obj   \n",
    "    \n",
    "    return objects\n",
    "    "
   ]
  },
  {
   "cell_type": "code",
   "execution_count": 17,
   "metadata": {},
   "outputs": [],
   "source": [
    "sps_objects = cp_derive_sps(sps_obj, [19, 46, 85])"
   ]
  },
  {
   "cell_type": "code",
   "execution_count": 18,
   "metadata": {},
   "outputs": [],
   "source": [
    "\n",
    "central_park_objects = [ducks_objects, sps_objects]\n"
   ]
  },
  {
   "cell_type": "code",
   "execution_count": 19,
   "metadata": {},
   "outputs": [],
   "source": [
    "\n",
    "path = \"../data/central_park_birds_cleaned_2022/central_park_objects.pkl\"\n",
    "with open(path, \"wb\") as file:\n",
    "    dill.dump(central_park_objects, file)\n"
   ]
  },
  {
   "cell_type": "code",
   "execution_count": 20,
   "metadata": {},
   "outputs": [],
   "source": [
    "def trajectory_plot(data, rewards, max_time, xrange = [0, 30], yrange = [0, 30], title = \"\"):\n",
    "    \n",
    "    data = data[data['time'] <= max_time]\n",
    "\n",
    "    df = data\n",
    "    # jitter x and y\n",
    "    df['x'] = df['x'] + np.random.normal(0, .2, len(df))\n",
    "    df['y'] = df['y'] + np.random.normal(0, .2, len(df))\n",
    "\n",
    "    # smooth x and y\n",
    "    df['x'] = df['x'].rolling(3, min_periods=1).mean()\n",
    "    df['y'] = df['y'].rolling(3, min_periods=1).mean()\n",
    "\n",
    "    fig = px.line(df, x='x', y='y', color='bird', width = 700, height = 700, template='presentation', title = title)\n",
    "    \n",
    "\n",
    "    # add rewards\n",
    "    if len(rewards) > 0:\n",
    "        rewards = rewards[rewards['time'] <= max_time]\n",
    "        fig.add_trace(go.Scatter(\n",
    "                x=rewards['x'],\n",
    "                y=rewards['y'],\n",
    "                mode='markers', \n",
    "                marker={'symbol': 'square', \n",
    "                    'size': 10,\n",
    "                    'color': 'yellow',\n",
    "                    'line': {'width': 2, 'color': 'yellow'}}))\n",
    "\n",
    "    fig.data = fig.data[::-1] # reverse the order of the traces\n",
    "\n",
    "    # axis image, and 30x30 axis lims\n",
    "    fig.update_xaxes(range=xrange)\n",
    "    fig.update_yaxes(range=yrange)\n",
    "\n",
    "\n",
    "    # remove legend and x labels and ticks\n",
    "    fig.update_layout(\n",
    "        showlegend=False,\n",
    "    )\n",
    "    fig.show()\n",
    "    return fig"
   ]
  },
  {
   "cell_type": "code",
   "execution_count": 22,
   "metadata": {},
   "outputs": [
    {
     "ename": "TypeError",
     "evalue": "list indices must be integers or slices, not str",
     "output_type": "error",
     "traceback": [
      "\u001b[0;31m---------------------------------------------------------------------------\u001b[0m",
      "\u001b[0;31mTypeError\u001b[0m                                 Traceback (most recent call last)",
      "Cell \u001b[0;32mIn[22], line 1\u001b[0m\n\u001b[0;32m----> 1\u001b[0m trajectory_plot(ducks_obj\u001b[39m.\u001b[39;49mbirdsDF, [], \u001b[39m800\u001b[39;49m, xrange \u001b[39m=\u001b[39;49m [\u001b[39m0\u001b[39;49m, \u001b[39m30\u001b[39;49m], yrange \u001b[39m=\u001b[39;49m [\u001b[39m0\u001b[39;49m, \u001b[39m30\u001b[39;49m], title \u001b[39m=\u001b[39;49m \u001b[39m\"\u001b[39;49m\u001b[39mDucks\u001b[39;49m\u001b[39m\"\u001b[39;49m)\n",
      "Cell \u001b[0;32mIn[20], line 2\u001b[0m, in \u001b[0;36mtrajectory_plot\u001b[0;34m(data, rewards, max_time, xrange, yrange, title)\u001b[0m\n\u001b[1;32m      1\u001b[0m \u001b[39mdef\u001b[39;00m \u001b[39mtrajectory_plot\u001b[39m(data, rewards, max_time, xrange \u001b[39m=\u001b[39m [\u001b[39m0\u001b[39m, \u001b[39m30\u001b[39m], yrange \u001b[39m=\u001b[39m [\u001b[39m0\u001b[39m, \u001b[39m30\u001b[39m], title \u001b[39m=\u001b[39m \u001b[39m\"\u001b[39m\u001b[39m\"\u001b[39m):\n\u001b[0;32m----> 2\u001b[0m     rewards \u001b[39m=\u001b[39m rewards[rewards[\u001b[39m'\u001b[39;49m\u001b[39mtime\u001b[39;49m\u001b[39m'\u001b[39;49m] \u001b[39m<\u001b[39m\u001b[39m=\u001b[39m max_time]\n\u001b[1;32m      3\u001b[0m     data \u001b[39m=\u001b[39m data[data[\u001b[39m'\u001b[39m\u001b[39mtime\u001b[39m\u001b[39m'\u001b[39m] \u001b[39m<\u001b[39m\u001b[39m=\u001b[39m max_time]\n\u001b[1;32m      5\u001b[0m     df \u001b[39m=\u001b[39m data\n",
      "\u001b[0;31mTypeError\u001b[0m: list indices must be integers or slices, not str"
     ]
    }
   ],
   "source": [
    "trajectory_plot(ducks_obj.birdsDF, [], 800, xrange = [0, 30], yrange = [0, 30], title = \"Ducks\")"
   ]
  },
  {
   "cell_type": "code",
   "execution_count": null,
   "metadata": {},
   "outputs": [],
   "source": []
  }
 ],
 "metadata": {
  "kernelspec": {
   "display_name": "Python 3.11.5 ('elm_collab')",
   "language": "python",
   "name": "python3"
  },
  "language_info": {
   "codemirror_mode": {
    "name": "ipython",
    "version": 3
   },
   "file_extension": ".py",
   "mimetype": "text/x-python",
   "name": "python",
   "nbconvert_exporter": "python",
   "pygments_lexer": "ipython3",
   "version": "3.11.5"
  },
  "orig_nbformat": 4,
  "vscode": {
   "interpreter": {
    "hash": "5883c200001963f9c71d117b2067039ffcfe95d2ec18fe3e67d4d08d7043acc0"
   }
  }
 },
 "nbformat": 4,
 "nbformat_minor": 2
}
