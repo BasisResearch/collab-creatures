{
 "cells": [
  {
   "cell_type": "code",
   "execution_count": 12,
   "metadata": {},
   "outputs": [
    {
     "ename": "ModuleNotFoundError",
     "evalue": "No module named 'ft'",
     "output_type": "error",
     "traceback": [
      "\u001b[0;31m---------------------------------------------------------------------------\u001b[0m",
      "\u001b[0;31mModuleNotFoundError\u001b[0m                       Traceback (most recent call last)",
      "Cell \u001b[0;32mIn[12], line 27\u001b[0m\n\u001b[1;32m     24\u001b[0m \u001b[38;5;28;01mfrom\u001b[39;00m \u001b[38;5;21;01mcollab\u001b[39;00m\u001b[38;5;21;01m.\u001b[39;00m\u001b[38;5;21;01mforaging\u001b[39;00m \u001b[38;5;28;01mimport\u001b[39;00m random_hungry_followers \u001b[38;5;28;01mas\u001b[39;00m rhf\n\u001b[1;32m     25\u001b[0m \u001b[38;5;28;01mfrom\u001b[39;00m \u001b[38;5;21;01mcollab\u001b[39;00m\u001b[38;5;21;01m.\u001b[39;00m\u001b[38;5;21;01mforaging\u001b[39;00m \u001b[38;5;28;01mimport\u001b[39;00m toolkit \u001b[38;5;28;01mas\u001b[39;00m ft\n\u001b[0;32m---> 27\u001b[0m \u001b[38;5;28;01mfrom\u001b[39;00m \u001b[38;5;21;01mft\u001b[39;00m\u001b[38;5;21;01m.\u001b[39;00m\u001b[38;5;21;01mvelocity\u001b[39;00m \u001b[38;5;28;01mimport\u001b[39;00m add_velocities_to_foragers\n\u001b[1;32m     29\u001b[0m logging\u001b[38;5;241m.\u001b[39mbasicConfig(\u001b[38;5;28mformat\u001b[39m\u001b[38;5;241m=\u001b[39m\u001b[38;5;124m\"\u001b[39m\u001b[38;5;132;01m%(message)s\u001b[39;00m\u001b[38;5;124m\"\u001b[39m, level\u001b[38;5;241m=\u001b[39mlogging\u001b[38;5;241m.\u001b[39mINFO)\n\u001b[1;32m     31\u001b[0m \u001b[38;5;66;03m# users can ignore smoke_test -- it's for automatic testing on GitHub, to make sure the notebook runs on future updates to the repository\u001b[39;00m\n",
      "\u001b[0;31mModuleNotFoundError\u001b[0m: No module named 'ft'"
     ]
    }
   ],
   "source": [
    "# importing packages. See https://github.com/BasisResearch/collab-creatures for repo setup\n",
    "import logging\n",
    "import os\n",
    "import random\n",
    "import time\n",
    "import warnings\n",
    "\n",
    "warnings.simplefilter(action=\"ignore\", category=FutureWarning)\n",
    "\n",
    "import numpy as np\n",
    "\n",
    "from collab.utils import find_repo_root\n",
    "\n",
    "root = find_repo_root()\n",
    "from collab.foraging import random_hungry_followers as rhf\n",
    "from collab.foraging import toolkit as ft\n",
    "from collab.foraging.toolkit.velocity import add_velocities_to_foragers\n",
    "\n",
    "logging.basicConfig(format=\"%(message)s\", level=logging.INFO)\n",
    "\n",
    "# users can ignore smoke_test -- it's for automatic testing on GitHub, to make sure the notebook runs on future updates to the repository\n",
    "smoke_test = \"CI\" in os.environ\n",
    "num_frames = 5 if smoke_test else 50\n",
    "num_svi_iters = 10 if smoke_test else 1000\n",
    "num_samples = 10 if smoke_test else 1000\n",
    "\n",
    "\n",
    "notebook_starts = time.time()"
   ]
  },
  {
   "cell_type": "code",
   "execution_count": 2,
   "metadata": {},
   "outputs": [
    {
     "name": "stderr",
     "output_type": "stream",
     "text": [
      "2024-05-22 17:33:32,927 - traces done\n",
      "2024-05-22 17:33:33,180 - visibility done\n",
      "2024-05-22 17:33:33,389 - proximity done\n",
      "2024-05-22 17:33:33,492 - how_far done\n",
      "2024-05-22 17:33:33,525 - derivedDF done\n",
      "2024-05-22 17:33:33,526 - starting to generate communicates\n",
      "2024-05-22 17:33:33,985 - communicates done\n"
     ]
    }
   ],
   "source": [
    "random.seed(23)\n",
    "np.random.seed(23)\n",
    "\n",
    "random_foragers_sim = rhf.RandomForagers(\n",
    "    grid_size=40,\n",
    "    probabilities=[1, 2, 3, 2, 1, 2, 3, 2, 1],\n",
    "    num_foragers=3,\n",
    "    num_frames=num_frames,\n",
    "    num_rewards=15,\n",
    "    grab_range=3,\n",
    ")\n",
    "\n",
    "# run a particular simulation with these parameters\n",
    "random_foragers_sim()\n",
    "\n",
    "# the results of the simulation are stored in `random_foragers_sim.foragersDF`.\n",
    "# each row contains the x and y coordinates of a forager at a particular time\n",
    "\n",
    "random_foragers_sim.foragersDF.head()\n",
    "\n",
    "preferred_proximity = 4  # the distance at which foragers prefer to be from each other\n",
    "random_foragers_derived = ft.derive_predictors(\n",
    "    random_foragers_sim, optimal=preferred_proximity, dropna=False\n",
    ")\n",
    "\n",
    "\n",
    "# derived = random_foragers_derived.derivedDF\n",
    "\n",
    "# display(data.head())"
   ]
  },
  {
   "cell_type": "code",
   "execution_count": 19,
   "metadata": {},
   "outputs": [
    {
     "data": {
      "text/plain": [
       "True"
      ]
     },
     "metadata": {},
     "output_type": "display_data"
    }
   ],
   "source": [
    "foragers = random_foragers_sim.foragers\n",
    "len(foragers)\n",
    "\n",
    "add_velocities_to_foragers(foragers)\n",
    "\n",
    "display(foragers[0].shape[1] == 7)\n",
    "\n",
    "# TODO loop later\n",
    "# forager = foragers[0]\n",
    "\n",
    "# display(forager.head())\n",
    "\n",
    "# forager['velocity_x'] = forager['x'].diff().fillna(0)\n",
    "# forager['velocity_y'] = forager['y'].diff().fillna(0)"
   ]
  },
  {
   "cell_type": "code",
   "execution_count": 1,
   "metadata": {},
   "outputs": [
    {
     "ename": "NameError",
     "evalue": "name 'os' is not defined",
     "output_type": "error",
     "traceback": [
      "\u001b[0;31m---------------------------------------------------------------------------\u001b[0m",
      "\u001b[0;31mNameError\u001b[0m                                 Traceback (most recent call last)",
      "Cell \u001b[0;32mIn[1], line 4\u001b[0m\n\u001b[1;32m      1\u001b[0m \u001b[38;5;28;01mfrom\u001b[39;00m \u001b[38;5;21;01mcollab\u001b[39;00m\u001b[38;5;21;01m.\u001b[39;00m\u001b[38;5;21;01mforaging\u001b[39;00m \u001b[38;5;28;01mimport\u001b[39;00m central_park_birds \u001b[38;5;28;01mas\u001b[39;00m cpb\n\u001b[1;32m      3\u001b[0m \u001b[38;5;66;03m# this file is generated using `central_park_birds_predictors.ipynb`\u001b[39;00m\n\u001b[0;32m----> 4\u001b[0m path \u001b[38;5;241m=\u001b[39m \u001b[43mos\u001b[49m\u001b[38;5;241m.\u001b[39mpath\u001b[38;5;241m.\u001b[39mjoin(\n\u001b[1;32m      5\u001b[0m     root,\n\u001b[1;32m      6\u001b[0m     \u001b[38;5;124mf\u001b[39m\u001b[38;5;124m\"\u001b[39m\u001b[38;5;124mdata/foraging/central_park_birds_cleaned_2022/central_park_objects_sampling_rate_\u001b[39m\u001b[38;5;132;01m{\u001b[39;00msampling_rate\u001b[38;5;132;01m}\u001b[39;00m\u001b[38;5;124m.pkl\u001b[39m\u001b[38;5;124m\"\u001b[39m,\n\u001b[1;32m      7\u001b[0m )\n\u001b[1;32m      9\u001b[0m \u001b[38;5;28;01mwith\u001b[39;00m \u001b[38;5;28mopen\u001b[39m(path, \u001b[38;5;124m\"\u001b[39m\u001b[38;5;124mrb\u001b[39m\u001b[38;5;124m\"\u001b[39m) \u001b[38;5;28;01mas\u001b[39;00m file:\n\u001b[1;32m     10\u001b[0m         central_park_objects \u001b[38;5;241m=\u001b[39m dill\u001b[38;5;241m.\u001b[39mload(file)\n",
      "\u001b[0;31mNameError\u001b[0m: name 'os' is not defined"
     ]
    }
   ],
   "source": [
    "# this file is generated using `central_park_birds_predictors.ipynb`\n",
    "path = os.path.join(\n",
    "    root,\n",
    "    f\"data/foraging/central_park_birds_cleaned_2022/central_park_objects_sampling_rate_{sampling_rate}.pkl\",\n",
    ")\n",
    "\n",
    "with open(path, \"rb\") as file:\n",
    "    central_park_objects = dill.load(file)"
   ]
  }
 ],
 "metadata": {
  "kernelspec": {
   "display_name": "collab",
   "language": "python",
   "name": "python3"
  },
  "language_info": {
   "codemirror_mode": {
    "name": "ipython",
    "version": 3
   },
   "file_extension": ".py",
   "mimetype": "text/x-python",
   "name": "python",
   "nbconvert_exporter": "python",
   "pygments_lexer": "ipython3",
   "version": "3.10.13"
  }
 },
 "nbformat": 4,
 "nbformat_minor": 2
}
