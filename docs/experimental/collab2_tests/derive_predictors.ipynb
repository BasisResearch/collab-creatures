{
 "cells": [
  {
   "cell_type": "code",
   "execution_count": 7,
   "metadata": {},
   "outputs": [],
   "source": [
    "import pandas as pd\n",
    "import collab2.foraging.toolkit as ftk\n",
    "\n",
    "import pyro\n",
    "import pyro.distributions as dist\n",
    "import pyro.optim as optim\n",
    "import torch\n",
    "from pyro.infer import SVI, Predictive, Trace_ELBO\n",
    "from pyro.infer.autoguide import AutoMultivariateNormal, init_to_mean"
   ]
  },
  {
   "cell_type": "code",
   "execution_count": 8,
   "metadata": {},
   "outputs": [
    {
     "name": "stdout",
     "output_type": "stream",
     "text": [
      "original_frames: 18739\n",
      "original_shape: (74956, 5)\n",
      "resulting_frames: 155\n",
      "resulting_shape: (620, 5)\n",
      "new frame-rate =  1.00\n"
     ]
    },
    {
     "name": "stderr",
     "output_type": "stream",
     "text": [
      "/Users/Admin/Repositories/collab-creatures/collab2/foraging/toolkit/utils.py:36: UserWarning:  Nan values in data.\n",
      "                Specify handling of missing data using `skip_incomplete_frames` argument to `generate_all_predictors`\n",
      "  warnings.warn(\n"
     ]
    }
   ],
   "source": [
    "# load data\n",
    "fish_data = pd.read_csv(\"4wpf_test.csv\")\n",
    "gridMin = 0\n",
    "gridMax = 300\n",
    "grid_size = 50\n",
    "fps = 121\n",
    "\n",
    "# scaling and subsampling\n",
    "fishDF_scaled = ftk.rescale_to_grid(\n",
    "    fish_data, size=grid_size, gridMin=gridMin, gridMax=gridMax\n",
    ")\n",
    "fishDF_scaled_subsampled = ftk.subsample_frames_constant_frame_rate(\n",
    "    fishDF_scaled, frame_spacing=121, fps=fps\n",
    ")\n",
    "\n",
    "# create a test foragers object with 20 frames\n",
    "num_frames = 10\n",
    "foragers_object = ftk.dataObject(\n",
    "    fishDF_scaled_subsampled.loc[fishDF_scaled_subsampled[\"time\"] < num_frames],\n",
    "    grid_size=grid_size,\n",
    ")"
   ]
  },
  {
   "cell_type": "code",
   "execution_count": 9,
   "metadata": {},
   "outputs": [
    {
     "name": "stderr",
     "output_type": "stream",
     "text": [
      "/Users/Admin/Repositories/collab-creatures/collab2/foraging/toolkit/velocity.py:182: UserWarning: Dropped 7/36 instances from vicsek predictor calculation\n",
      "            due to invalid velocity values\n",
      "  warnings.warn(\n",
      "2024-08-29 12:00:00,954 - vicsek completed\n",
      "/Users/Admin/Repositories/collab-creatures/collab2/foraging/toolkit/velocity.py:32: UserWarning: Using existing velocity data.\n",
      "                Delete corresponding columns from foragersDF to re-calculate velocity values.\n",
      "  warnings.warn(\n",
      "/Users/Admin/Repositories/collab-creatures/collab2/foraging/toolkit/velocity.py:182: UserWarning: Dropped 7/36 instances from vicsek_large_sigma predictor calculation\n",
      "            due to invalid velocity values\n",
      "  warnings.warn(\n",
      "2024-08-29 12:00:01,047 - vicsek_large_sigma completed\n",
      "/Users/Admin/Repositories/collab-creatures/collab2/foraging/toolkit/velocity.py:32: UserWarning: Using existing velocity data.\n",
      "                Delete corresponding columns from foragersDF to re-calculate velocity values.\n",
      "  warnings.warn(\n",
      "/Users/Admin/Repositories/collab-creatures/collab2/foraging/toolkit/velocity.py:182: UserWarning: Dropped 7/36 instances from pairwiseCopying predictor calculation\n",
      "            due to invalid velocity values\n",
      "  warnings.warn(\n",
      "2024-08-29 12:00:01,211 - pairwiseCopying completed\n"
     ]
    }
   ],
   "source": [
    "# derive predictors\n",
    "\n",
    "local_windows_kwargs = {\n",
    "    \"window_size\": 15,\n",
    "    \"sampling_fraction\": 1,\n",
    "    \"skip_incomplete_frames\": True,\n",
    "}\n",
    "\n",
    "predictor_kwargs = {\n",
    "    \"vicsek\": {\n",
    "        \"interaction_length\": grid_size / 3,\n",
    "        \"interaction_constraint\": None,\n",
    "        \"interaction_constraint_params\": None,\n",
    "        \"dt\": 1,\n",
    "        \"sigma_v\": 3,\n",
    "        \"sigma_t\": 0.3,\n",
    "    },\n",
    "    \"vicsek_large_sigma\": {\n",
    "    \"interaction_length\": grid_size / 3,\n",
    "    \"interaction_constraint\": None,\n",
    "    \"interaction_constraint_params\": None,\n",
    "    \"dt\": 1,\n",
    "    \"sigma_v\": 10,\n",
    "    \"sigma_t\": 1,\n",
    "    },\n",
    "    \"pairwiseCopying\": {\n",
    "        \"interaction_length\": grid_size / 3,\n",
    "        \"interaction_constraint\": None,\n",
    "        \"interaction_constraint_params\": None,\n",
    "        \"dt\": 1,\n",
    "        \"sigma_v\": 3,\n",
    "        \"sigma_t\": 0.3,\n",
    "    },\n",
    "}\n",
    "\n",
    "combined_predictorDF = ftk.derive_predictors(\n",
    "    foragers_object, local_windows_kwargs, predictor_kwargs, dropna=True, add_scaled_scores=True\n",
    ")"
   ]
  },
  {
   "cell_type": "code",
   "execution_count": 10,
   "metadata": {},
   "outputs": [],
   "source": [
    "# calculate next_step_score\n",
    "\n",
    "next_step_score = ftk.generate_next_step_score(foragers_object, nonlinearity_exponent=1)\n",
    "combined_predictorDF."
   ]
  },
  {
   "cell_type": "markdown",
   "metadata": {},
   "source": [
    "# Try inference pipeline"
   ]
  },
  {
   "cell_type": "code",
   "execution_count": null,
   "metadata": {},
   "outputs": [],
   "source": [
    "# convert each predictor and next_step_score to tensor"
   ]
  }
 ],
 "metadata": {
  "kernelspec": {
   "display_name": "Python 3",
   "language": "python",
   "name": "python3"
  },
  "language_info": {
   "codemirror_mode": {
    "name": "ipython",
    "version": 3
   },
   "file_extension": ".py",
   "mimetype": "text/x-python",
   "name": "python",
   "nbconvert_exporter": "python",
   "pygments_lexer": "ipython3",
   "version": "3.12.4"
  }
 },
 "nbformat": 4,
 "nbformat_minor": 2
}
