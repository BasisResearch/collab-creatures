{
 "cells": [
  {
   "cell_type": "code",
   "execution_count": 1,
   "metadata": {},
   "outputs": [],
   "source": [
    "import numpy as np\n",
    "import pandas as pd\n",
    "\n",
    "from collab2.foraging.toolkit import dataObject, filter_by_distance, rescale_to_grid"
   ]
  },
  {
   "cell_type": "code",
   "execution_count": 2,
   "metadata": {},
   "outputs": [
    {
     "name": "stderr",
     "output_type": "stream",
     "text": [
      "/Users/Admin/Repositories/collab-creatures/collab2/foraging/toolkit/utils.py:42: UserWarning: \n",
      "                NaN values in data. The default behavior of predictor/score generating functions is\n",
      "                to ignore foragers with missing positional data. To modify, see documentation of\n",
      "                `derive_predictors_and_scores` and `generate_local_windows`\n",
      "                \n",
      "  warnings.warn(\n",
      "/Users/Admin/Repositories/collab-creatures/collab2/foraging/toolkit/utils.py:62: UserWarning: \n",
      "                    Missing frames encountered for forager 0, adding NaN fillers.\n",
      "                    The default behavior of predictor/score generating functions is\n",
      "                    to ignore foragers with missing positional data. To modify, see documentation of\n",
      "                    `derive_predictors_and_scores` and `generate_local_windows`\n",
      "                    \n",
      "  warnings.warn(\n",
      "/Users/Admin/Repositories/collab-creatures/collab2/foraging/toolkit/utils.py:62: UserWarning: \n",
      "                    Missing frames encountered for forager 1, adding NaN fillers.\n",
      "                    The default behavior of predictor/score generating functions is\n",
      "                    to ignore foragers with missing positional data. To modify, see documentation of\n",
      "                    `derive_predictors_and_scores` and `generate_local_windows`\n",
      "                    \n",
      "  warnings.warn(\n",
      "/Users/Admin/Repositories/collab-creatures/collab2/foraging/toolkit/utils.py:62: UserWarning: \n",
      "                    Missing frames encountered for forager 3, adding NaN fillers.\n",
      "                    The default behavior of predictor/score generating functions is\n",
      "                    to ignore foragers with missing positional data. To modify, see documentation of\n",
      "                    `derive_predictors_and_scores` and `generate_local_windows`\n",
      "                    \n",
      "  warnings.warn(\n"
     ]
    },
    {
     "data": {
      "text/plain": [
       "[      x     y  time  forager\n",
       " 0   NaN   NaN     0      0.0\n",
       " 1  28.0  10.0     1      0.0\n",
       " 2  13.0   0.0     2      0.0\n",
       " 3   5.0   7.0     3      0.0\n",
       " 4  17.0  18.0     4      0.0\n",
       " 5  15.0  16.0     5      0.0\n",
       " 6   NaN   NaN     6      0.0\n",
       " 7  19.0  10.0     7      0.0,\n",
       "       x     y  time  forager\n",
       " 0   NaN   NaN     0      1.0\n",
       " 1  13.0   7.0     1      1.0\n",
       " 2  15.0  15.0     2      1.0\n",
       " 3  28.0  12.0     3      1.0\n",
       " 4   NaN   NaN     4      1.0\n",
       " 5  17.0  24.0     5      1.0\n",
       " 6   NaN   NaN     6      1.0\n",
       " 7  18.0  22.0     7      1.0,\n",
       "       x     y  time  forager\n",
       " 0  12.0  22.0     0      2.0\n",
       " 1  12.0  14.0     1      2.0\n",
       " 2   1.0  21.0     2      2.0\n",
       " 3  12.0  26.0     3      2.0\n",
       " 4   4.0   5.0     4      2.0\n",
       " 5  23.0  25.0     5      2.0\n",
       " 6  12.0  23.0     6      2.0\n",
       " 7   5.0  25.0     7      2.0,\n",
       "       x     y  time  forager\n",
       " 0   NaN   NaN     0      3.0\n",
       " 1  15.0  12.0     1      3.0\n",
       " 2  15.0  15.0     2      3.0\n",
       " 3   NaN   NaN     3      3.0\n",
       " 4   NaN   NaN     4      3.0\n",
       " 5  18.0  16.0     5      3.0\n",
       " 6   5.0   7.0     6      3.0\n",
       " 7  17.0  19.0     7      3.0]"
      ]
     },
     "metadata": {},
     "output_type": "display_data"
    }
   ],
   "source": [
    "# create a test object\n",
    "\n",
    "num_frames = 8\n",
    "num_foragers = 4\n",
    "grid_size = 30\n",
    "n_nans = int(num_frames * num_foragers / 5)\n",
    "n_missing = int(num_frames * num_foragers / 5)\n",
    "gridMin = -1\n",
    "gridMax = 1\n",
    "\n",
    "np.random.seed(42)\n",
    "\n",
    "# generate data\n",
    "theta = 2 * np.pi * np.random.rand(num_frames * num_foragers)\n",
    "r = np.random.rand(num_frames * num_foragers)\n",
    "\n",
    "data = {\n",
    "    \"x\": r * np.cos(theta),\n",
    "    \"y\": r * np.sin(theta),\n",
    "    \"time\": np.tile(np.arange(num_frames), num_foragers),\n",
    "    \"forager\": np.concatenate([i * np.ones(num_frames) for i in range(num_foragers)]),\n",
    "}\n",
    "\n",
    "foragersDF = pd.DataFrame(data)\n",
    "\n",
    "# add nan values\n",
    "nan_ind = np.random.randint(0, num_frames * num_foragers, size=n_nans)\n",
    "foragersDF.loc[nan_ind, [\"x\", \"y\"]] = np.nan\n",
    "\n",
    "# remove values for certain time points\n",
    "drop_ind = np.random.randint(0, num_frames * num_foragers, size=n_missing)\n",
    "foragersDF = foragersDF.drop(drop_ind)\n",
    "\n",
    "# scaling and subsampling\n",
    "foragersDF_scaled = rescale_to_grid(\n",
    "    foragersDF, size=grid_size, gridMin=gridMin, gridMax=gridMax\n",
    ")\n",
    "foragers_object = dataObject(foragersDF_scaled, grid_size=grid_size)\n",
    "\n",
    "display(foragers_object.foragers)"
   ]
  },
  {
   "cell_type": "code",
   "execution_count": 3,
   "metadata": {},
   "outputs": [
    {
     "data": {
      "text/plain": [
       "[1.0, 3.0]"
      ]
     },
     "execution_count": 3,
     "metadata": {},
     "output_type": "execute_result"
    }
   ],
   "source": [
    "# interaction partners of forager f at time t\n",
    "f = 2\n",
    "t = 1\n",
    "L = 15\n",
    "filter_by_distance(foragers_object.foragersDF, f=f, t=t, interaction_length=L)"
   ]
  },
  {
   "cell_type": "code",
   "execution_count": 4,
   "metadata": {},
   "outputs": [
    {
     "data": {
      "text/plain": [
       "[3.0]"
      ]
     },
     "execution_count": 4,
     "metadata": {},
     "output_type": "execute_result"
    }
   ],
   "source": [
    "# adding constraint\n",
    "\n",
    "# suppose we only want foragers that are on the right half of the grid\n",
    "\n",
    "# convention : every constraint function must take a list of foragers (within interaction distance), index of focal forager, current time, foragersDF + any additional parameters\n",
    "\n",
    "\n",
    "def filter_x_constraint(f_ind, f, t, foragersDF, grid_size):\n",
    "    current_positions = foragersDF.loc[\n",
    "        np.logical_and(foragersDF[\"forager\"].isin(f_ind), foragersDF[\"time\"] == t)\n",
    "    ]\n",
    "    f_ind_constr = current_positions.loc[\n",
    "        current_positions[\"x\"] >= grid_size / 2, \"forager\"\n",
    "    ].to_list()\n",
    "    return f_ind_constr\n",
    "\n",
    "\n",
    "# interaction partners of forager 1 at time 1 with constraint\n",
    "filter_by_distance(\n",
    "    foragers_object.foragersDF,\n",
    "    f=f,\n",
    "    t=t,\n",
    "    interaction_length=L,\n",
    "    interaction_constraint=filter_x_constraint,\n",
    "    grid_size=foragers_object.grid_size,\n",
    ")"
   ]
  }
 ],
 "metadata": {
  "kernelspec": {
   "display_name": "Python 3",
   "language": "python",
   "name": "python3"
  },
  "language_info": {
   "codemirror_mode": {
    "name": "ipython",
    "version": 3
   },
   "file_extension": ".py",
   "mimetype": "text/x-python",
   "name": "python",
   "nbconvert_exporter": "python",
   "pygments_lexer": "ipython3",
   "version": "3.12.4"
  }
 },
 "nbformat": 4,
 "nbformat_minor": 2
}
