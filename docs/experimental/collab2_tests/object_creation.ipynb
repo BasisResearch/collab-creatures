{
 "cells": [
  {
   "cell_type": "code",
   "execution_count": 1,
   "metadata": {},
   "outputs": [],
   "source": [
    "import numpy as np\n",
    "import pandas as pd"
   ]
  },
  {
   "cell_type": "markdown",
   "metadata": {},
   "source": [
    "# Generate test data"
   ]
  },
  {
   "cell_type": "code",
   "execution_count": 2,
   "metadata": {},
   "outputs": [
    {
     "data": {
      "text/html": [
       "<div>\n",
       "<style scoped>\n",
       "    .dataframe tbody tr th:only-of-type {\n",
       "        vertical-align: middle;\n",
       "    }\n",
       "\n",
       "    .dataframe tbody tr th {\n",
       "        vertical-align: top;\n",
       "    }\n",
       "\n",
       "    .dataframe thead th {\n",
       "        text-align: right;\n",
       "    }\n",
       "</style>\n",
       "<table border=\"1\" class=\"dataframe\">\n",
       "  <thead>\n",
       "    <tr style=\"text-align: right;\">\n",
       "      <th></th>\n",
       "      <th>x</th>\n",
       "      <th>y</th>\n",
       "      <th>time</th>\n",
       "      <th>forager</th>\n",
       "    </tr>\n",
       "  </thead>\n",
       "  <tbody>\n",
       "    <tr>\n",
       "      <th>0</th>\n",
       "      <td>0.496714</td>\n",
       "      <td>-0.562288</td>\n",
       "      <td>0</td>\n",
       "      <td>0.0</td>\n",
       "    </tr>\n",
       "    <tr>\n",
       "      <th>1</th>\n",
       "      <td>-0.138264</td>\n",
       "      <td>-1.012831</td>\n",
       "      <td>1</td>\n",
       "      <td>0.0</td>\n",
       "    </tr>\n",
       "    <tr>\n",
       "      <th>2</th>\n",
       "      <td>0.647689</td>\n",
       "      <td>0.314247</td>\n",
       "      <td>2</td>\n",
       "      <td>0.0</td>\n",
       "    </tr>\n",
       "    <tr>\n",
       "      <th>3</th>\n",
       "      <td>1.523030</td>\n",
       "      <td>-0.908024</td>\n",
       "      <td>3</td>\n",
       "      <td>0.0</td>\n",
       "    </tr>\n",
       "    <tr>\n",
       "      <th>4</th>\n",
       "      <td>NaN</td>\n",
       "      <td>NaN</td>\n",
       "      <td>4</td>\n",
       "      <td>0.0</td>\n",
       "    </tr>\n",
       "    <tr>\n",
       "      <th>5</th>\n",
       "      <td>-0.234137</td>\n",
       "      <td>1.465649</td>\n",
       "      <td>0</td>\n",
       "      <td>1.0</td>\n",
       "    </tr>\n",
       "    <tr>\n",
       "      <th>7</th>\n",
       "      <td>0.767435</td>\n",
       "      <td>0.067528</td>\n",
       "      <td>2</td>\n",
       "      <td>1.0</td>\n",
       "    </tr>\n",
       "    <tr>\n",
       "      <th>8</th>\n",
       "      <td>-0.469474</td>\n",
       "      <td>-1.424748</td>\n",
       "      <td>3</td>\n",
       "      <td>1.0</td>\n",
       "    </tr>\n",
       "    <tr>\n",
       "      <th>9</th>\n",
       "      <td>NaN</td>\n",
       "      <td>NaN</td>\n",
       "      <td>4</td>\n",
       "      <td>1.0</td>\n",
       "    </tr>\n",
       "    <tr>\n",
       "      <th>10</th>\n",
       "      <td>-0.463418</td>\n",
       "      <td>0.110923</td>\n",
       "      <td>0</td>\n",
       "      <td>2.0</td>\n",
       "    </tr>\n",
       "    <tr>\n",
       "      <th>11</th>\n",
       "      <td>-0.465730</td>\n",
       "      <td>-1.150994</td>\n",
       "      <td>1</td>\n",
       "      <td>2.0</td>\n",
       "    </tr>\n",
       "    <tr>\n",
       "      <th>13</th>\n",
       "      <td>-1.913280</td>\n",
       "      <td>-0.600639</td>\n",
       "      <td>3</td>\n",
       "      <td>2.0</td>\n",
       "    </tr>\n",
       "  </tbody>\n",
       "</table>\n",
       "</div>"
      ],
      "text/plain": [
       "           x         y  time  forager\n",
       "0   0.496714 -0.562288     0      0.0\n",
       "1  -0.138264 -1.012831     1      0.0\n",
       "2   0.647689  0.314247     2      0.0\n",
       "3   1.523030 -0.908024     3      0.0\n",
       "4        NaN       NaN     4      0.0\n",
       "5  -0.234137  1.465649     0      1.0\n",
       "7   0.767435  0.067528     2      1.0\n",
       "8  -0.469474 -1.424748     3      1.0\n",
       "9        NaN       NaN     4      1.0\n",
       "10 -0.463418  0.110923     0      2.0\n",
       "11 -0.465730 -1.150994     1      2.0\n",
       "13 -1.913280 -0.600639     3      2.0"
      ]
     },
     "execution_count": 2,
     "metadata": {},
     "output_type": "execute_result"
    }
   ],
   "source": [
    "num_frames = 5\n",
    "num_foragers = 3\n",
    "\n",
    "np.random.seed(42)\n",
    "\n",
    "data = {\n",
    "    \"x\": np.random.randn(num_frames * num_foragers),\n",
    "    \"y\": np.random.randn(num_frames * num_foragers),\n",
    "    \"time\": np.tile(np.arange(num_frames), num_foragers),\n",
    "    \"forager\": np.concatenate([i * np.ones(num_frames) for i in range(num_foragers)]),\n",
    "}\n",
    "foragersDF = pd.DataFrame(data)\n",
    "\n",
    "# add nan values\n",
    "nan_ind = [4, 9, 6]\n",
    "foragersDF.loc[nan_ind, [\"x\", \"y\"]] = np.nan\n",
    "\n",
    "# remove values for certain time points\n",
    "drop_ind = [12, 6, 14]\n",
    "drop_t = foragersDF[\"time\"][drop_ind].to_list()\n",
    "drop_f = foragersDF[\"forager\"][drop_ind].to_list()\n",
    "foragersDF = foragersDF.drop(drop_ind)\n",
    "\n",
    "foragersDF"
   ]
  },
  {
   "cell_type": "markdown",
   "metadata": {},
   "source": [
    "# Object creation functions \n",
    "dataObject(df) must display a warning when df contains nans and/or if any timeframes are incomplete"
   ]
  },
  {
   "cell_type": "code",
   "execution_count": 3,
   "metadata": {},
   "outputs": [],
   "source": [
    "from collab2.foraging.toolkit import (\n",
    "    dataObject,\n",
    "    rescale_to_grid,\n",
    "    subset_frames_evenly_spaced,\n",
    ")\n",
    "\n",
    "foragersDF_scaled = rescale_to_grid(foragersDF, size=5)"
   ]
  },
  {
   "cell_type": "code",
   "execution_count": 4,
   "metadata": {},
   "outputs": [
    {
     "name": "stderr",
     "output_type": "stream",
     "text": [
      "/Users/Admin/Repositories/collab-creatures/collab2/foraging/toolkit/utils.py:29: UserWarning: Nan values in data. Specify handling of missing data using `skip_incomplete_frames` argument to `generate_all_predictors`\n",
      "  warnings.warn(f\"Nan values in data. Specify handling of missing data using `skip_incomplete_frames` argument to `generate_all_predictors`\")\n",
      "/Users/Admin/Repositories/collab-creatures/collab2/foraging/toolkit/utils.py:40: UserWarning: Missing frames encountered for forager 1, adding NaN fillers. Specify handling of missing data using `skip_incomplete_frames` argument to `generate_all_predictors`\n",
      "  warnings.warn(f\"Missing frames encountered for forager {f}, adding NaN fillers. Specify handling of missing data using `skip_incomplete_frames` argument to `generate_all_predictors`\")\n",
      "/Users/Admin/Repositories/collab-creatures/collab2/foraging/toolkit/utils.py:40: UserWarning: Missing frames encountered for forager 2, adding NaN fillers. Specify handling of missing data using `skip_incomplete_frames` argument to `generate_all_predictors`\n",
      "  warnings.warn(f\"Missing frames encountered for forager {f}, adding NaN fillers. Specify handling of missing data using `skip_incomplete_frames` argument to `generate_all_predictors`\")\n"
     ]
    }
   ],
   "source": [
    "foragers_object = dataObject(foragersDF_scaled)"
   ]
  },
  {
   "cell_type": "code",
   "execution_count": 5,
   "metadata": {},
   "outputs": [
    {
     "data": {
      "text/plain": [
       "[     x    y  time  forager\n",
       " 0  3.0  2.0     0      0.0\n",
       " 1  3.0  1.0     1      0.0\n",
       " 2  3.0  3.0     2      0.0\n",
       " 3  5.0  1.0     3      0.0\n",
       " 4  NaN  NaN     4      0.0,\n",
       "      x    y  time  forager\n",
       " 0  2.0  5.0     0      1.0\n",
       " 1  NaN  NaN     1      1.0\n",
       " 2  4.0  3.0     2      1.0\n",
       " 3  2.0  1.0     3      1.0\n",
       " 4  NaN  NaN     4      1.0,\n",
       "      x    y  time  forager\n",
       " 0  2.0  3.0     0      2.0\n",
       " 1  2.0  1.0     1      2.0\n",
       " 2  NaN  NaN     2      2.0\n",
       " 3  1.0  2.0     3      2.0\n",
       " 4  NaN  NaN     4      2.0]"
      ]
     },
     "metadata": {},
     "output_type": "display_data"
    }
   ],
   "source": [
    "display(foragers_object.foragers)"
   ]
  },
  {
   "cell_type": "code",
   "execution_count": 6,
   "metadata": {},
   "outputs": [
    {
     "data": {
      "text/plain": [
       "2.0"
      ]
     },
     "execution_count": 6,
     "metadata": {},
     "output_type": "execute_result"
    }
   ],
   "source": [
    "foragers_object.calculate_step_size_max()\n",
    "foragers_object.step_size_max"
   ]
  }
 ],
 "metadata": {
  "kernelspec": {
   "display_name": "Python 3",
   "language": "python",
   "name": "python3"
  },
  "language_info": {
   "codemirror_mode": {
    "name": "ipython",
    "version": 3
   },
   "file_extension": ".py",
   "mimetype": "text/x-python",
   "name": "python",
   "nbconvert_exporter": "python",
   "pygments_lexer": "ipython3",
   "version": "3.10.13"
  }
 },
 "nbformat": 4,
 "nbformat_minor": 2
}
