{
 "cells": [
  {
   "cell_type": "code",
   "execution_count": 11,
   "metadata": {},
   "outputs": [],
   "source": [
    "import os\n",
    "\n",
    "import matplotlib.pyplot as plt\n",
    "import pyro\n",
    "import pyro.distributions as dist\n",
    "import seaborn as sns\n",
    "import torch\n",
    "from chirho.dynamical.handlers import (DynamicIntervention, LogTrajectory,\n",
    "                                       StaticBatchObservation,\n",
    "                                       StaticIntervention)\n",
    "from chirho.dynamical.handlers.solver import TorchDiffEq\n",
    "from chirho.dynamical.ops import Dynamics, State, simulate\n",
    "from chirho.observational.handlers import condition\n",
    "from pyro.infer import Predictive\n",
    "from pyro.infer.autoguide import AutoMultivariateNormal\n",
    "\n",
    "pyro.settings.set(module_local_params=True)\n",
    "\n",
    "sns.set_style(\"white\")\n",
    "\n",
    "# Set seed for reproducibility\n",
    "seed = 123\n",
    "pyro.clear_param_store()\n",
    "pyro.set_rng_seed(seed)\n",
    "\n",
    "import matplotlib.pyplot as plt\n",
    "import pandas as pd\n",
    "import seaborn as sns\n",
    "import torch\n",
    "\n",
    "from collab.foraging import locust as lc\n",
    "from collab.foraging import toolkit as ft\n",
    "from collab.utils import find_repo_root"
   ]
  },
  {
   "cell_type": "code",
   "execution_count": 12,
   "metadata": {},
   "outputs": [],
   "source": [
    "smoke_test = \"CI\" in os.environ\n",
    "subset_starts = 420\n",
    "subset_ends = 430 if smoke_test else 480\n",
    "desired_frames = 500 if smoke_test else 900\n",
    "num_iterations = 50 if smoke_test else 2000\n",
    "num_samples = 20 if smoke_test else 1000\n",
    "sample_size = 100 if smoke_test else 1000\n",
    "locust_sample_size = 100 if smoke_test else 178770\n",
    "root = find_repo_root()"
   ]
  },
  {
   "cell_type": "code",
   "execution_count": 13,
   "metadata": {},
   "outputs": [
    {
     "name": "stdout",
     "output_type": "stream",
     "text": [
      "original_frames: 45000\n",
      "original_shape: (675000, 4)\n",
      "resulting_frames: 900\n",
      "resulting_shape: (13500, 4)\n",
      "min_time 1\n",
      "max_time 900\n"
     ]
    }
   ],
   "source": [
    "locust_data_path = os.path.join(root, \"data/foraging/locust/15EQ20191202_tracked.csv\")\n",
    "\n",
    "df = lc.load_and_clean_locust(\n",
    "    path=locust_data_path,\n",
    "    desired_frames=desired_frames,\n",
    "    grid_size=100,\n",
    "    rewards_x=[0.68074, -0.69292],\n",
    "    rewards_y=[-0.03068, -0.03068],\n",
    "    subset_starts=subset_starts,\n",
    "    subset_ends=subset_ends,\n",
    ")\n",
    "\n",
    "loc_subset = df[\"subset\"]\n",
    "loc_all = df[\"all_frames\"]"
   ]
  },
  {
   "cell_type": "code",
   "execution_count": 14,
   "metadata": {},
   "outputs": [
    {
     "data": {
      "text/html": [
       "<div>\n",
       "<style scoped>\n",
       "    .dataframe tbody tr th:only-of-type {\n",
       "        vertical-align: middle;\n",
       "    }\n",
       "\n",
       "    .dataframe tbody tr th {\n",
       "        vertical-align: top;\n",
       "    }\n",
       "\n",
       "    .dataframe thead th {\n",
       "        text-align: right;\n",
       "    }\n",
       "</style>\n",
       "<table border=\"1\" class=\"dataframe\">\n",
       "  <thead>\n",
       "    <tr style=\"text-align: right;\">\n",
       "      <th></th>\n",
       "      <th>x</th>\n",
       "      <th>y</th>\n",
       "      <th>time</th>\n",
       "      <th>forager</th>\n",
       "      <th>type</th>\n",
       "    </tr>\n",
       "  </thead>\n",
       "  <tbody>\n",
       "    <tr>\n",
       "      <th>313875</th>\n",
       "      <td>13.0</td>\n",
       "      <td>51.0</td>\n",
       "      <td>420</td>\n",
       "      <td>1</td>\n",
       "      <td>locust</td>\n",
       "    </tr>\n",
       "    <tr>\n",
       "      <th>313876</th>\n",
       "      <td>13.0</td>\n",
       "      <td>47.0</td>\n",
       "      <td>420</td>\n",
       "      <td>2</td>\n",
       "      <td>locust</td>\n",
       "    </tr>\n",
       "    <tr>\n",
       "      <th>313877</th>\n",
       "      <td>3.0</td>\n",
       "      <td>63.0</td>\n",
       "      <td>420</td>\n",
       "      <td>3</td>\n",
       "      <td>locust</td>\n",
       "    </tr>\n",
       "    <tr>\n",
       "      <th>313878</th>\n",
       "      <td>25.0</td>\n",
       "      <td>89.0</td>\n",
       "      <td>420</td>\n",
       "      <td>4</td>\n",
       "      <td>locust</td>\n",
       "    </tr>\n",
       "    <tr>\n",
       "      <th>313879</th>\n",
       "      <td>19.0</td>\n",
       "      <td>48.0</td>\n",
       "      <td>420</td>\n",
       "      <td>5</td>\n",
       "      <td>locust</td>\n",
       "    </tr>\n",
       "  </tbody>\n",
       "</table>\n",
       "</div>"
      ],
      "text/plain": [
       "           x     y  time  forager    type\n",
       "313875  13.0  51.0   420        1  locust\n",
       "313876  13.0  47.0   420        2  locust\n",
       "313877   3.0  63.0   420        3  locust\n",
       "313878  25.0  89.0   420        4  locust\n",
       "313879  19.0  48.0   420        5  locust"
      ]
     },
     "metadata": {},
     "output_type": "display_data"
    },
    {
     "data": {
      "text/plain": [
       "count    915.000000\n",
       "mean      36.555191\n",
       "std       27.625741\n",
       "min        1.000000\n",
       "25%       17.000000\n",
       "50%       25.000000\n",
       "75%       56.000000\n",
       "max       99.000000\n",
       "Name: x, dtype: float64"
      ]
     },
     "metadata": {},
     "output_type": "display_data"
    },
    {
     "name": "stdout",
     "output_type": "stream",
     "text": [
      "      x     y\n",
      "0  84.0  48.0\n",
      "1  15.0  48.0\n"
     ]
    }
   ],
   "source": [
    "object = loc_subset\n",
    "rewards = object.rewardsDF.iloc[:, [0, 1]].drop_duplicates().reset_index(drop=True)\n",
    "df = object.foragersDF\n",
    "start, end, N_obs = min(df[\"time\"]), max(df[\"time\"]), len(df[\"time\"].unique())\n",
    "\n",
    "\n",
    "display(df.head())\n",
    "\n",
    "display(df[\"x\"].describe())\n",
    "print(rewards)"
   ]
  },
  {
   "cell_type": "code",
   "execution_count": 15,
   "metadata": {},
   "outputs": [
    {
     "data": {
      "text/html": [
       "<div>\n",
       "<style scoped>\n",
       "    .dataframe tbody tr th:only-of-type {\n",
       "        vertical-align: middle;\n",
       "    }\n",
       "\n",
       "    .dataframe tbody tr th {\n",
       "        vertical-align: top;\n",
       "    }\n",
       "\n",
       "    .dataframe thead th {\n",
       "        text-align: right;\n",
       "    }\n",
       "</style>\n",
       "<table border=\"1\" class=\"dataframe\">\n",
       "  <thead>\n",
       "    <tr style=\"text-align: right;\">\n",
       "      <th></th>\n",
       "      <th>x</th>\n",
       "      <th>y</th>\n",
       "      <th>time</th>\n",
       "      <th>state</th>\n",
       "    </tr>\n",
       "  </thead>\n",
       "  <tbody>\n",
       "    <tr>\n",
       "      <th>313875</th>\n",
       "      <td>13.0</td>\n",
       "      <td>51.0</td>\n",
       "      <td>420</td>\n",
       "      <td>feed_l</td>\n",
       "    </tr>\n",
       "    <tr>\n",
       "      <th>313876</th>\n",
       "      <td>13.0</td>\n",
       "      <td>47.0</td>\n",
       "      <td>420</td>\n",
       "      <td>feed_l</td>\n",
       "    </tr>\n",
       "    <tr>\n",
       "      <th>313877</th>\n",
       "      <td>3.0</td>\n",
       "      <td>63.0</td>\n",
       "      <td>420</td>\n",
       "      <td>edge_l</td>\n",
       "    </tr>\n",
       "    <tr>\n",
       "      <th>313878</th>\n",
       "      <td>25.0</td>\n",
       "      <td>89.0</td>\n",
       "      <td>420</td>\n",
       "      <td>search_l</td>\n",
       "    </tr>\n",
       "    <tr>\n",
       "      <th>313879</th>\n",
       "      <td>19.0</td>\n",
       "      <td>48.0</td>\n",
       "      <td>420</td>\n",
       "      <td>feed_l</td>\n",
       "    </tr>\n",
       "  </tbody>\n",
       "</table>\n",
       "</div>"
      ],
      "text/plain": [
       "           x     y  time     state\n",
       "313875  13.0  51.0   420    feed_l\n",
       "313876  13.0  47.0   420    feed_l\n",
       "313877   3.0  63.0   420    edge_l\n",
       "313878  25.0  89.0   420  search_l\n",
       "313879  19.0  48.0   420    feed_l"
      ]
     },
     "metadata": {},
     "output_type": "display_data"
    },
    {
     "name": "stdout",
     "output_type": "stream",
     "text": [
      "   x  y     state  time\n",
      "0  0  0    edge_l   419\n",
      "1  0  0    edge_r   419\n",
      "2  0  0    feed_l   419\n",
      "3  0  0    feed_r   419\n",
      "4  0  0  search_l   419\n",
      "5  0  0  search_r   419\n"
     ]
    },
    {
     "data": {
      "image/png": "[encoded data removed]",
      "text/plain": [
       "<Figure size 640x480 with 1 Axes>"
      ]
     },
     "metadata": {},
     "output_type": "display_data"
    }
   ],
   "source": [
    "left_idx = rewards[\"x\"].idxmin()\n",
    "right_idx = rewards[\"x\"].idxmax()\n",
    "x_left = rewards.iloc[left_idx, 0]\n",
    "y_left = rewards.iloc[left_idx, 1]\n",
    "\n",
    "x_right = rewards.iloc[right_idx, 0]\n",
    "y_right = rewards.iloc[right_idx, 1]\n",
    "\n",
    "x_center = 50\n",
    "y_center = 50\n",
    "\n",
    "\n",
    "df_cat = ft.add_ring(\n",
    "    df, \"feed_l\", x0=x_left, y0=y_left, outside_radius=10, inside_radius=0\n",
    ")\n",
    "\n",
    "\n",
    "df_cat = ft.add_ring(\n",
    "    df_cat, \"feed_r\", x0=x_right, y0=y_right, outside_radius=10, inside_radius=0\n",
    ")\n",
    "\n",
    "df_cat = ft.add_ring(\n",
    "    df_cat,\n",
    "    \"edge\",\n",
    "    x0=x_center,\n",
    "    y0=y_center,\n",
    "    outside_radius=51,\n",
    "    inside_radius=47,\n",
    "    divide_by_side=True,\n",
    ")\n",
    "\n",
    "df_cat = ft.add_ring(\n",
    "    df_cat,\n",
    "    \"search\",\n",
    "    x0=x_center,\n",
    "    y0=y_center,\n",
    "    outside_radius=50,\n",
    "    inside_radius=0,\n",
    "    divide_by_side=True,\n",
    ")\n",
    "\n",
    "\n",
    "df_cat.drop([\"forager\", \"type\"], inplace=True, axis=1)\n",
    "\n",
    "unique_states = set(df_cat[\"state\"])\n",
    "\n",
    "\n",
    "# these will be added to ensure the animation starts with\n",
    "# all states represented\n",
    "# ignore the initial frame in the animation\n",
    "initial_fake_positions = pd.DataFrame(\n",
    "    {\n",
    "        \"x\": [0] * len(unique_states),\n",
    "        \"y\": [0] * len(unique_states),\n",
    "        \"state\": sorted(list(unique_states)),\n",
    "        \"time\": [(start - 1)] * len(unique_states),\n",
    "    }\n",
    ")\n",
    "\n",
    "display(df_cat.head())\n",
    "\n",
    "print(initial_fake_positions)\n",
    "\n",
    "plt.bar(df_cat[\"state\"].value_counts().index, df_cat[\"state\"].value_counts())\n",
    "\n",
    "df_cat_vis = pd.concat([initial_fake_positions, df_cat])\n",
    "object.foragersDF = df_cat_vis"
   ]
  },
  {
   "cell_type": "code",
   "execution_count": 16,
   "metadata": {},
   "outputs": [
    {
     "data": {
      "application/vnd.plotly.v1+json": {
       "config": {
        "plotlyServerURL": "https://plot.ly"
       },
       "data": [
        {
         "hovertemplate": "state=edge_l<br>time=419<br>x=%{x}<br>y=%{y}<extra></extra>",
         "legendgroup": "edge_l",
         "marker": {
          "color": "#636efa",
          "symbol": "circle"
         },
         "mode": "markers",
         "name": "edge_l",
         "orientation": "v",
         "showlegend": true,
         "type": "scatter",
         "x": [
          0
         ],
         "xaxis": "x",
         "y": [
          0
         ],
         "yaxis": "y"
        },
        {
         "hovertemplate": "state=edge_r<br>time=419<br>x=%{x}<br>y=%{y}<extra></extra>",
         "legendgroup": "edge_r",
         "marker": {
          "color": "#EF553B",
          "symbol": "circle"
         },
         "mode": "markers",
         "name": "edge_r",
         "orientation": "v",
         "showlegend": true,
         "type": "scatter",
         "x": [
          0
         ],
         "xaxis": "x",
         "y": [
          0
         ],
         "yaxis": "y"
        },
        {
         "hovertemplate": "state=feed_l<br>time=419<br>x=%{x}<br>y=%{y}<extra></extra>",
         "legendgroup": "feed_l",
         "marker": {
          "color": "#00cc96",
          "symbol": "circle"
         },
         "mode": "markers",
         "name": "feed_l",
         "orientation": "v",
         "showlegend": true,
         "type": "scatter",
         "x": [
          0
         ],
         "xaxis": "x",
         "y": [
          0
         ],
         "yaxis": "y"
        },
        {
         "hovertemplate": "state=feed_r<br>time=419<br>x=%{x}<br>y=%{y}<extra></extra>",
         "legendgroup": "feed_r",
         "marker": {
          "color": "#ab63fa",
          "symbol": "circle"
         },
         "mode": "markers",
         "name": "feed_r",
         "orientation": "v",
         "showlegend": true,
         "type": "scatter",
         "x": [
          0
         ],
         "xaxis": "x",
         "y": [
          0
         ],
         "yaxis": "y"
        },
        {
         "hovertemplate": "state=search_l<br>time=419<br>x=%{x}<br>y=%{y}<extra></extra>",
         "legendgroup": "search_l",
         "marker": {
          "color": "#FFA15A",
          "symbol": "circle"
         },
         "mode": "markers",
         "name": "search_l",
         "orientation": "v",
         "showlegend": true,
         "type": "scatter",
         "x": [
          0
         ],
         "xaxis": "x",
         "y": [
          0
         ],
         "yaxis": "y"
        },
        {
         "hovertemplate": "state=search_r<br>time=419<br>x=%{x}<br>y=%{y}<extra></extra>",
         "legendgroup": "search_r",
         "marker": {
          "color": "#19d3f3",
          "symbol": "circle"
         },
         "mode": "markers",
         "name": "search_r",
         "orientation": "v",
         "showlegend": true,
         "type": "scatter",
         "x": [
          0
         ],
         "xaxis": "x",
         "y": [
          0
         ],
         "yaxis": "y"
        }
       ],
       "frames": [
        {
         "data": [
          {
           "hovertemplate": "state=edge_l<br>time=419<br>x=%{x}<br>y=%{y}<extra></extra>",
           "legendgroup": "edge_l",
           "marker": {
            "color": "#636efa",
            "symbol": "circle"
           },
           "mode": "markers",
           "name": "edge_l",
           "orientation": "v",
           "showlegend": true,
           "type": "scatter",
           "x": [
            0
           ],
           "xaxis": "x",
           "y": [
            0
           ],
           "yaxis": "y"
          },
          {
           "hovertemplate": "state=edge_r<br>time=419<br>x=%{x}<br>y=%{y}<extra></extra>",
           "legendgroup": "edge_r",
           "marker": {
            "color": "#EF553B",
            "symbol": "circle"
           },
           "mode": "markers",
           "name": "edge_r",
           "orientation": "v",
           "showlegend": true,
           "type": "scatter",
           "x": [
            0
           ],
           "xaxis": "x",
           "y": [
            0
           ],
           "yaxis": "y"
          },
          {
           "hovertemplate": "state=feed_l<br>time=419<br>x=%{x}<br>y=%{y}<extra></extra>",
           "legendgroup": "feed_l",
           "marker": {
            "color": "#00cc96",
            "symbol": "circle"
           },
           "mode": "markers",
           "name": "feed_l",
           "orientation": "v",
           "showlegend": true,
           "type": "scatter",
           "x": [
            0
           ],
           "xaxis": "x",
           "y": [
            0
           ],
           "yaxis": "y"
          },
          {
           "hovertemplate": "state=feed_r<br>time=419<br>x=%{x}<br>y=%{y}<extra></extra>",
           "legendgroup": "feed_r",
           "marker": {
            "color": "#ab63fa",
            "symbol": "circle"
           },
           "mode": "markers",
           "name": "feed_r",
           "orientation": "v",
           "showlegend": true,
           "type": "scatter",
           "x": [
            0
           ],
           "xaxis": "x",
           "y": [
            0
           ],
           "yaxis": "y"
          },
          {
           "hovertemplate": "state=search_l<br>time=419<br>x=%{x}<br>y=%{y}<extra></extra>",
           "legendgroup": "search_l",
           "marker": {
            "color": "#FFA15A",
            "symbol": "circle"
           },
           "mode": "markers",
           "name": "search_l",
           "orientation": "v",
           "showlegend": true,
           "type": "scatter",
           "x": [
            0
           ],
           "xaxis": "x",
           "y": [
            0
           ],
           "yaxis": "y"
          },
          {
           "hovertemplate": "state=search_r<br>time=419<br>x=%{x}<br>y=%{y}<extra></extra>",
           "legendgroup": "search_r",
           "marker": {
            "color": "#19d3f3",
            "symbol": "circle"
           },
           "mode": "markers",
           "name": "search_r",
           "orientation": "v",
           "showlegend": true,
           "type": "scatter",
           "x": [
            0
           ],
           "xaxis": "x",
           "y": [
            0
           ],
           "yaxis": "y"
          }
         ],
         "name": "419"
        },
        {
         "data": [
          {
           "hovertemplate": "state=edge_l<br>time=420<br>x=%{x}<br>y=%{y}<extra></extra>",
           "legendgroup": "edge_l",
           "marker": {
            "color": "#636efa",
            "symbol": "circle"
           },
           "mode": "markers",
           "name": "edge_l",
           "orientation": "v",
           "showlegend": true,
           "type": "scatter",
           "x": [
            3,
            29,
            48,
            1,
            5,
            36
           ],
           "xaxis": "x",
           "y": [
            63,
            6,
            2,
            47,
            31,
            3
           ],
           "yaxis": "y"
          },
          {
           "hovertemplate": "state=feed_l<br>time=420<br>x=%{x}<br>y=%{y}<extra></extra>",
           "legendgroup": "feed_l",
           "marker": {
            "color": "#00cc96",
            "symbol": "circle"
           },
           "mode": "markers",
           "name": "feed_l",
           "orientation": "v",
           "showlegend": true,
           "type": "scatter",
           "x": [
            13,
            13,
            19
           ],
           "xaxis": "x",
           "y": [
            51,
            47,
            48
           ],
           "yaxis": "y"
          },
          {
           "hovertemplate": "state=feed_r<br>time=420<br>x=%{x}<br>y=%{y}<extra></extra>",
           "legendgroup": "feed_r",
           "marker": {
            "color": "#ab63fa",
            "symbol": "circle"
           },
           "mode": "markers",
           "name": "feed_r",
           "orientation": "v",
           "showlegend": true,
           "type": "scatter",
           "x": [
            85,
            80,
            89
           ],
           "xaxis": "x",
           "y": [
            49,
            46,
            49
           ],
           "yaxis": "y"
          },
          {
           "hovertemplate": "state=search_l<br>time=420<br>x=%{x}<br>y=%{y}<extra></extra>",
           "legendgroup": "search_l",
           "marker": {
            "color": "#FFA15A",
            "symbol": "circle"
           },
           "mode": "markers",
           "name": "search_l",
           "orientation": "v",
           "showlegend": true,
           "type": "scatter",
           "x": [
            25,
            46,
            23
           ],
           "xaxis": "x",
           "y": [
            89,
            55,
            85
           ],
           "yaxis": "y"
          }
         ],
         "name": "420"
        },
        {
         "data": [
          {
           "hovertemplate": "state=edge_l<br>time=421<br>x=%{x}<br>y=%{y}<extra></extra>",
           "legendgroup": "edge_l",
           "marker": {
            "color": "#636efa",
            "symbol": "circle"
           },
           "mode": "markers",
           "name": "edge_l",
           "orientation": "v",
           "showlegend": true,
           "type": "scatter",
           "x": [
            4,
            27,
            1,
            6,
            36
           ],
           "xaxis": "x",
           "y": [
            66,
            7,
            49,
            30,
            3
           ],
           "yaxis": "y"
          },
          {
           "hovertemplate": "state=feed_l<br>time=421<br>x=%{x}<br>y=%{y}<extra></extra>",
           "legendgroup": "feed_l",
           "marker": {
            "color": "#00cc96",
            "symbol": "circle"
           },
           "mode": "markers",
           "name": "feed_l",
           "orientation": "v",
           "showlegend": true,
           "type": "scatter",
           "x": [
            12,
            13,
            19
           ],
           "xaxis": "x",
           "y": [
            51,
            46,
            48
           ],
           "yaxis": "y"
          },
          {
           "hovertemplate": "state=feed_r<br>time=421<br>x=%{x}<br>y=%{y}<extra></extra>",
           "legendgroup": "feed_r",
           "marker": {
            "color": "#ab63fa",
            "symbol": "circle"
           },
           "mode": "markers",
           "name": "feed_r",
           "orientation": "v",
           "showlegend": true,
           "type": "scatter",
           "x": [
            85,
            82,
            89
           ],
           "xaxis": "x",
           "y": [
            48,
            45,
            49
           ],
           "yaxis": "y"
          },
          {
           "hovertemplate": "state=search_l<br>time=421<br>x=%{x}<br>y=%{y}<extra></extra>",
           "legendgroup": "search_l",
           "marker": {
            "color": "#FFA15A",
            "symbol": "circle"
           },
           "mode": "markers",
           "name": "search_l",
           "orientation": "v",
           "showlegend": true,
           "type": "scatter",
           "x": [
            25,
            40,
            46,
            23
           ],
           "xaxis": "x",
           "y": [
            89,
            59,
            5,
            85
           ],
           "yaxis": "y"
          }
         ],
         "name": "421"
        },
        {
         "data": [
          {
           "hovertemplate": "state=edge_l<br>time=422<br>x=%{x}<br>y=%{y}<extra></extra>",
           "legendgroup": "edge_l",
           "marker": {
            "color": "#636efa",
            "symbol": "circle"
           },
           "mode": "markers",
           "name": "edge_l",
           "orientation": "v",
           "showlegend": true,
           "type": "scatter",
           "x": [
            6,
            26,
            1,
            7,
            36
           ],
           "xaxis": "x",
           "y": [
            71,
            7,
            52,
            28,
            3
           ],
           "yaxis": "y"
          },
          {
           "hovertemplate": "state=feed_l<br>time=422<br>x=%{x}<br>y=%{y}<extra></extra>",
           "legendgroup": "feed_l",
           "marker": {
            "color": "#00cc96",
            "symbol": "circle"
           },
           "mode": "markers",
           "name": "feed_l",
           "orientation": "v",
           "showlegend": true,
           "type": "scatter",
           "x": [
            12,
            13,
            19
           ],
           "xaxis": "x",
           "y": [
            51,
            46,
            49
           ],
           "yaxis": "y"
          },
          {
           "hovertemplate": "state=feed_r<br>time=422<br>x=%{x}<br>y=%{y}<extra></extra>",
           "legendgroup": "feed_r",
           "marker": {
            "color": "#ab63fa",
            "symbol": "circle"
           },
           "mode": "markers",
           "name": "feed_r",
           "orientation": "v",
           "showlegend": true,
           "type": "scatter",
           "x": [
            85,
            83,
            88
           ],
           "xaxis": "x",
           "y": [
            47,
            44,
            48
           ],
           "yaxis": "y"
          },
          {
           "hovertemplate": "state=search_l<br>time=422<br>x=%{x}<br>y=%{y}<extra></extra>",
           "legendgroup": "search_l",
           "marker": {
            "color": "#FFA15A",
            "symbol": "circle"
           },
           "mode": "markers",
           "name": "search_l",
           "orientation": "v",
           "showlegend": true,
           "type": "scatter",
           "x": [
            25,
            35,
            43,
            23
           ],
           "xaxis": "x",
           "y": [
            89,
            64,
            7,
            85
           ],
           "yaxis": "y"
          }
         ],
         "name": "422"
        },
        {
         "data": [
          {
           "hovertemplate": "state=edge_l<br>time=423<br>x=%{x}<br>y=%{y}<extra></extra>",
           "legendgroup": "edge_l",
           "marker": {
            "color": "#636efa",
            "symbol": "circle"
           },
           "mode": "markers",
           "name": "edge_l",
           "orientation": "v",
           "showlegend": true,
           "type": "scatter",
           "x": [
            9,
            26,
            1,
            10,
            36
           ],
           "xaxis": "x",
           "y": [
            76,
            7,
            56,
            22,
            3
           ],
           "yaxis": "y"
          },
          {
           "hovertemplate": "state=feed_l<br>time=423<br>x=%{x}<br>y=%{y}<extra></extra>",
           "legendgroup": "feed_l",
           "marker": {
            "color": "#00cc96",
            "symbol": "circle"
           },
           "mode": "markers",
           "name": "feed_l",
           "orientation": "v",
           "showlegend": true,
           "type": "scatter",
           "x": [
            12,
            13,
            19
           ],
           "xaxis": "x",
           "y": [
            51,
            46,
            49
           ],
           "yaxis": "y"
          },
          {
           "hovertemplate": "state=feed_r<br>time=423<br>x=%{x}<br>y=%{y}<extra></extra>",
           "legendgroup": "feed_r",
           "marker": {
            "color": "#ab63fa",
            "symbol": "circle"
           },
           "mode": "markers",
           "name": "feed_r",
           "orientation": "v",
           "showlegend": true,
           "type": "scatter",
           "x": [
            86,
            86,
            88
           ],
           "xaxis": "x",
           "y": [
            46,
            44,
            47
           ],
           "yaxis": "y"
          },
          {
           "hovertemplate": "state=search_l<br>time=423<br>x=%{x}<br>y=%{y}<extra></extra>",
           "legendgroup": "search_l",
           "marker": {
            "color": "#FFA15A",
            "symbol": "circle"
           },
           "mode": "markers",
           "name": "search_l",
           "orientation": "v",
           "showlegend": true,
           "type": "scatter",
           "x": [
            25,
            31,
            39,
            23
           ],
           "xaxis": "x",
           "y": [
            89,
            70,
            10,
            85
           ],
           "yaxis": "y"
          }
         ],
         "name": "423"
        },
        {
         "data": [
          {
           "hovertemplate": "state=edge_l<br>time=424<br>x=%{x}<br>y=%{y}<extra></extra>",
           "legendgroup": "edge_l",
           "marker": {
            "color": "#636efa",
            "symbol": "circle"
           },
           "mode": "markers",
           "name": "edge_l",
           "orientation": "v",
           "showlegend": true,
           "type": "scatter",
           "x": [
            13,
            26,
            2,
            13,
            36
           ],
           "xaxis": "x",
           "y": [
            81,
            7,
            59,
            18,
            3
           ],
           "yaxis": "y"
          },
          {
           "hovertemplate": "state=feed_l<br>time=424<br>x=%{x}<br>y=%{y}<extra></extra>",
           "legendgroup": "feed_l",
           "marker": {
            "color": "#00cc96",
            "symbol": "circle"
           },
           "mode": "markers",
           "name": "feed_l",
           "orientation": "v",
           "showlegend": true,
           "type": "scatter",
           "x": [
            12,
            14,
            19
           ],
           "xaxis": "x",
           "y": [
            51,
            46,
            49
           ],
           "yaxis": "y"
          },
          {
           "hovertemplate": "state=feed_r<br>time=424<br>x=%{x}<br>y=%{y}<extra></extra>",
           "legendgroup": "feed_r",
           "marker": {
            "color": "#ab63fa",
            "symbol": "circle"
           },
           "mode": "markers",
           "name": "feed_r",
           "orientation": "v",
           "showlegend": true,
           "type": "scatter",
           "x": [
            86,
            88,
            88
           ],
           "xaxis": "x",
           "y": [
            46,
            43,
            47
           ],
           "yaxis": "y"
          },
          {
           "hovertemplate": "state=search_l<br>time=424<br>x=%{x}<br>y=%{y}<extra></extra>",
           "legendgroup": "search_l",
           "marker": {
            "color": "#FFA15A",
            "symbol": "circle"
           },
           "mode": "markers",
           "name": "search_l",
           "orientation": "v",
           "showlegend": true,
           "type": "scatter",
           "x": [
            25,
            28,
            35,
            23
           ],
           "xaxis": "x",
           "y": [
            89,
            76,
            12,
            85
           ],
           "yaxis": "y"
          }
         ],
         "name": "424"
        },
        {
         "data": [
          {
           "hovertemplate": "state=edge_l<br>time=425<br>x=%{x}<br>y=%{y}<extra></extra>",
           "legendgroup": "edge_l",
           "marker": {
            "color": "#636efa",
            "symbol": "circle"
           },
           "mode": "markers",
           "name": "edge_l",
           "orientation": "v",
           "showlegend": true,
           "type": "scatter",
           "x": [
            17,
            26,
            2,
            14,
            36
           ],
           "xaxis": "x",
           "y": [
            86,
            7,
            61,
            18,
            3
           ],
           "yaxis": "y"
          },
          {
           "hovertemplate": "state=feed_l<br>time=425<br>x=%{x}<br>y=%{y}<extra></extra>",
           "legendgroup": "feed_l",
           "marker": {
            "color": "#00cc96",
            "symbol": "circle"
           },
           "mode": "markers",
           "name": "feed_l",
           "orientation": "v",
           "showlegend": true,
           "type": "scatter",
           "x": [
            12,
            14,
            19
           ],
           "xaxis": "x",
           "y": [
            51,
            46,
            49
           ],
           "yaxis": "y"
          },
          {
           "hovertemplate": "state=feed_r<br>time=425<br>x=%{x}<br>y=%{y}<extra></extra>",
           "legendgroup": "feed_r",
           "marker": {
            "color": "#ab63fa",
            "symbol": "circle"
           },
           "mode": "markers",
           "name": "feed_r",
           "orientation": "v",
           "showlegend": true,
           "type": "scatter",
           "x": [
            86,
            86,
            88
           ],
           "xaxis": "x",
           "y": [
            46,
            43,
            47
           ],
           "yaxis": "y"
          },
          {
           "hovertemplate": "state=search_l<br>time=425<br>x=%{x}<br>y=%{y}<extra></extra>",
           "legendgroup": "search_l",
           "marker": {
            "color": "#FFA15A",
            "symbol": "circle"
           },
           "mode": "markers",
           "name": "search_l",
           "orientation": "v",
           "showlegend": true,
           "type": "scatter",
           "x": [
            25,
            28,
            32,
            23
           ],
           "xaxis": "x",
           "y": [
            89,
            81,
            13,
            85
           ],
           "yaxis": "y"
          }
         ],
         "name": "425"
        },
        {
         "data": [
          {
           "hovertemplate": "state=edge_l<br>time=426<br>x=%{x}<br>y=%{y}<extra></extra>",
           "legendgroup": "edge_l",
           "marker": {
            "color": "#636efa",
            "symbol": "circle"
           },
           "mode": "markers",
           "name": "edge_l",
           "orientation": "v",
           "showlegend": true,
           "type": "scatter",
           "x": [
            20,
            26,
            3,
            14,
            37
           ],
           "xaxis": "x",
           "y": [
            89,
            7,
            63,
            17,
            3
           ],
           "yaxis": "y"
          },
          {
           "hovertemplate": "state=feed_l<br>time=426<br>x=%{x}<br>y=%{y}<extra></extra>",
           "legendgroup": "feed_l",
           "marker": {
            "color": "#00cc96",
            "symbol": "circle"
           },
           "mode": "markers",
           "name": "feed_l",
           "orientation": "v",
           "showlegend": true,
           "type": "scatter",
           "x": [
            12,
            14,
            19
           ],
           "xaxis": "x",
           "y": [
            51,
            45,
            49
           ],
           "yaxis": "y"
          },
          {
           "hovertemplate": "state=feed_r<br>time=426<br>x=%{x}<br>y=%{y}<extra></extra>",
           "legendgroup": "feed_r",
           "marker": {
            "color": "#ab63fa",
            "symbol": "circle"
           },
           "mode": "markers",
           "name": "feed_r",
           "orientation": "v",
           "showlegend": true,
           "type": "scatter",
           "x": [
            84,
            82,
            88
           ],
           "xaxis": "x",
           "y": [
            45,
            43,
            46
           ],
           "yaxis": "y"
          },
          {
           "hovertemplate": "state=search_l<br>time=426<br>x=%{x}<br>y=%{y}<extra></extra>",
           "legendgroup": "search_l",
           "marker": {
            "color": "#FFA15A",
            "symbol": "circle"
           },
           "mode": "markers",
           "name": "search_l",
           "orientation": "v",
           "showlegend": true,
           "type": "scatter",
           "x": [
            25,
            28,
            32,
            23
           ],
           "xaxis": "x",
           "y": [
            89,
            82,
            13,
            85
           ],
           "yaxis": "y"
          }
         ],
         "name": "426"
        },
        {
         "data": [
          {
           "hovertemplate": "state=edge_l<br>time=427<br>x=%{x}<br>y=%{y}<extra></extra>",
           "legendgroup": "edge_l",
           "marker": {
            "color": "#636efa",
            "symbol": "circle"
           },
           "mode": "markers",
           "name": "edge_l",
           "orientation": "v",
           "showlegend": true,
           "type": "scatter",
           "x": [
            23,
            26,
            4,
            14,
            41
           ],
           "xaxis": "x",
           "y": [
            91,
            7,
            66,
            17,
            2
           ],
           "yaxis": "y"
          },
          {
           "hovertemplate": "state=feed_l<br>time=427<br>x=%{x}<br>y=%{y}<extra></extra>",
           "legendgroup": "feed_l",
           "marker": {
            "color": "#00cc96",
            "symbol": "circle"
           },
           "mode": "markers",
           "name": "feed_l",
           "orientation": "v",
           "showlegend": true,
           "type": "scatter",
           "x": [
            12,
            14,
            19
           ],
           "xaxis": "x",
           "y": [
            50,
            45,
            49
           ],
           "yaxis": "y"
          },
          {
           "hovertemplate": "state=feed_r<br>time=427<br>x=%{x}<br>y=%{y}<extra></extra>",
           "legendgroup": "feed_r",
           "marker": {
            "color": "#ab63fa",
            "symbol": "circle"
           },
           "mode": "markers",
           "name": "feed_r",
           "orientation": "v",
           "showlegend": true,
           "type": "scatter",
           "x": [
            84,
            78,
            88
           ],
           "xaxis": "x",
           "y": [
            45,
            45,
            46
           ],
           "yaxis": "y"
          },
          {
           "hovertemplate": "state=search_l<br>time=427<br>x=%{x}<br>y=%{y}<extra></extra>",
           "legendgroup": "search_l",
           "marker": {
            "color": "#FFA15A",
            "symbol": "circle"
           },
           "mode": "markers",
           "name": "search_l",
           "orientation": "v",
           "showlegend": true,
           "type": "scatter",
           "x": [
            26,
            28,
            32,
            23
           ],
           "xaxis": "x",
           "y": [
            89,
            84,
            13,
            85
           ],
           "yaxis": "y"
          }
         ],
         "name": "427"
        },
        {
         "data": [
          {
           "hovertemplate": "state=edge_l<br>time=428<br>x=%{x}<br>y=%{y}<extra></extra>",
           "legendgroup": "edge_l",
           "marker": {
            "color": "#636efa",
            "symbol": "circle"
           },
           "mode": "markers",
           "name": "edge_l",
           "orientation": "v",
           "showlegend": true,
           "type": "scatter",
           "x": [
            27,
            25,
            5,
            14,
            44
           ],
           "xaxis": "x",
           "y": [
            92,
            8,
            68,
            17,
            1
           ],
           "yaxis": "y"
          },
          {
           "hovertemplate": "state=feed_l<br>time=428<br>x=%{x}<br>y=%{y}<extra></extra>",
           "legendgroup": "feed_l",
           "marker": {
            "color": "#00cc96",
            "symbol": "circle"
           },
           "mode": "markers",
           "name": "feed_l",
           "orientation": "v",
           "showlegend": true,
           "type": "scatter",
           "x": [
            12,
            14,
            19
           ],
           "xaxis": "x",
           "y": [
            50,
            45,
            49
           ],
           "yaxis": "y"
          },
          {
           "hovertemplate": "state=feed_r<br>time=428<br>x=%{x}<br>y=%{y}<extra></extra>",
           "legendgroup": "feed_r",
           "marker": {
            "color": "#ab63fa",
            "symbol": "circle"
           },
           "mode": "markers",
           "name": "feed_r",
           "orientation": "v",
           "showlegend": true,
           "type": "scatter",
           "x": [
            84,
            76,
            88
           ],
           "xaxis": "x",
           "y": [
            45,
            47,
            46
           ],
           "yaxis": "y"
          },
          {
           "hovertemplate": "state=search_l<br>time=428<br>x=%{x}<br>y=%{y}<extra></extra>",
           "legendgroup": "search_l",
           "marker": {
            "color": "#FFA15A",
            "symbol": "circle"
           },
           "mode": "markers",
           "name": "search_l",
           "orientation": "v",
           "showlegend": true,
           "type": "scatter",
           "x": [
            26,
            31,
            32,
            23
           ],
           "xaxis": "x",
           "y": [
            89,
            89,
            13,
            86
           ],
           "yaxis": "y"
          }
         ],
         "name": "428"
        },
        {
         "data": [
          {
           "hovertemplate": "state=edge_l<br>time=429<br>x=%{x}<br>y=%{y}<extra></extra>",
           "legendgroup": "edge_l",
           "marker": {
            "color": "#636efa",
            "symbol": "circle"
           },
           "mode": "markers",
           "name": "edge_l",
           "orientation": "v",
           "showlegend": true,
           "type": "scatter",
           "x": [
            32,
            23,
            6,
            14,
            46
           ],
           "xaxis": "x",
           "y": [
            95,
            9,
            71,
            17,
            1
           ],
           "yaxis": "y"
          },
          {
           "hovertemplate": "state=feed_l<br>time=429<br>x=%{x}<br>y=%{y}<extra></extra>",
           "legendgroup": "feed_l",
           "marker": {
            "color": "#00cc96",
            "symbol": "circle"
           },
           "mode": "markers",
           "name": "feed_l",
           "orientation": "v",
           "showlegend": true,
           "type": "scatter",
           "x": [
            12,
            14,
            19
           ],
           "xaxis": "x",
           "y": [
            50,
            45,
            49
           ],
           "yaxis": "y"
          },
          {
           "hovertemplate": "state=feed_r<br>time=429<br>x=%{x}<br>y=%{y}<extra></extra>",
           "legendgroup": "feed_r",
           "marker": {
            "color": "#ab63fa",
            "symbol": "circle"
           },
           "mode": "markers",
           "name": "feed_r",
           "orientation": "v",
           "showlegend": true,
           "type": "scatter",
           "x": [
            84,
            88
           ],
           "xaxis": "x",
           "y": [
            45,
            46
           ],
           "yaxis": "y"
          },
          {
           "hovertemplate": "state=search_l<br>time=429<br>x=%{x}<br>y=%{y}<extra></extra>",
           "legendgroup": "search_l",
           "marker": {
            "color": "#FFA15A",
            "symbol": "circle"
           },
           "mode": "markers",
           "name": "search_l",
           "orientation": "v",
           "showlegend": true,
           "type": "scatter",
           "x": [
            26,
            32,
            32,
            23
           ],
           "xaxis": "x",
           "y": [
            89,
            90,
            13,
            86
           ],
           "yaxis": "y"
          },
          {
           "hovertemplate": "state=search_r<br>time=429<br>x=%{x}<br>y=%{y}<extra></extra>",
           "legendgroup": "search_r",
           "marker": {
            "color": "#19d3f3",
            "symbol": "circle"
           },
           "mode": "markers",
           "name": "search_r",
           "orientation": "v",
           "showlegend": true,
           "type": "scatter",
           "x": [
            72
           ],
           "xaxis": "x",
           "y": [
            50
           ],
           "yaxis": "y"
          }
         ],
         "name": "429"
        },
        {
         "data": [
          {
           "hovertemplate": "state=edge_l<br>time=430<br>x=%{x}<br>y=%{y}<extra></extra>",
           "legendgroup": "edge_l",
           "marker": {
            "color": "#636efa",
            "symbol": "circle"
           },
           "mode": "markers",
           "name": "edge_l",
           "orientation": "v",
           "showlegend": true,
           "type": "scatter",
           "x": [
            38,
            22,
            7,
            14,
            48
           ],
           "xaxis": "x",
           "y": [
            97,
            10,
            73,
            17,
            1
           ],
           "yaxis": "y"
          },
          {
           "hovertemplate": "state=feed_l<br>time=430<br>x=%{x}<br>y=%{y}<extra></extra>",
           "legendgroup": "feed_l",
           "marker": {
            "color": "#00cc96",
            "symbol": "circle"
           },
           "mode": "markers",
           "name": "feed_l",
           "orientation": "v",
           "showlegend": true,
           "type": "scatter",
           "x": [
            12,
            15,
            19
           ],
           "xaxis": "x",
           "y": [
            50,
            45,
            49
           ],
           "yaxis": "y"
          },
          {
           "hovertemplate": "state=feed_r<br>time=430<br>x=%{x}<br>y=%{y}<extra></extra>",
           "legendgroup": "feed_r",
           "marker": {
            "color": "#ab63fa",
            "symbol": "circle"
           },
           "mode": "markers",
           "name": "feed_r",
           "orientation": "v",
           "showlegend": true,
           "type": "scatter",
           "x": [
            83,
            87
           ],
           "xaxis": "x",
           "y": [
            45,
            45
           ],
           "yaxis": "y"
          },
          {
           "hovertemplate": "state=search_l<br>time=430<br>x=%{x}<br>y=%{y}<extra></extra>",
           "legendgroup": "search_l",
           "marker": {
            "color": "#FFA15A",
            "symbol": "circle"
           },
           "mode": "markers",
           "name": "search_l",
           "orientation": "v",
           "showlegend": true,
           "type": "scatter",
           "x": [
            26,
            32,
            32,
            23
           ],
           "xaxis": "x",
           "y": [
            89,
            91,
            13,
            86
           ],
           "yaxis": "y"
          },
          {
           "hovertemplate": "state=search_r<br>time=430<br>x=%{x}<br>y=%{y}<extra></extra>",
           "legendgroup": "search_r",
           "marker": {
            "color": "#19d3f3",
            "symbol": "circle"
           },
           "mode": "markers",
           "name": "search_r",
           "orientation": "v",
           "showlegend": true,
           "type": "scatter",
           "x": [
            71
           ],
           "xaxis": "x",
           "y": [
            50
           ],
           "yaxis": "y"
          }
         ],
         "name": "430"
        },
        {
         "data": [
          {
           "hovertemplate": "state=edge_l<br>time=431<br>x=%{x}<br>y=%{y}<extra></extra>",
           "legendgroup": "edge_l",
           "marker": {
            "color": "#636efa",
            "symbol": "circle"
           },
           "mode": "markers",
           "name": "edge_l",
           "orientation": "v",
           "showlegend": true,
           "type": "scatter",
           "x": [
            44,
            21,
            8,
            14,
            49
           ],
           "xaxis": "x",
           "y": [
            98,
            10,
            76,
            17,
            1
           ],
           "yaxis": "y"
          },
          {
           "hovertemplate": "state=feed_l<br>time=431<br>x=%{x}<br>y=%{y}<extra></extra>",
           "legendgroup": "feed_l",
           "marker": {
            "color": "#00cc96",
            "symbol": "circle"
           },
           "mode": "markers",
           "name": "feed_l",
           "orientation": "v",
           "showlegend": true,
           "type": "scatter",
           "x": [
            12,
            16,
            19
           ],
           "xaxis": "x",
           "y": [
            49,
            45,
            49
           ],
           "yaxis": "y"
          },
          {
           "hovertemplate": "state=feed_r<br>time=431<br>x=%{x}<br>y=%{y}<extra></extra>",
           "legendgroup": "feed_r",
           "marker": {
            "color": "#ab63fa",
            "symbol": "circle"
           },
           "mode": "markers",
           "name": "feed_r",
           "orientation": "v",
           "showlegend": true,
           "type": "scatter",
           "x": [
            83,
            87
           ],
           "xaxis": "x",
           "y": [
            45,
            45
           ],
           "yaxis": "y"
          },
          {
           "hovertemplate": "state=search_l<br>time=431<br>x=%{x}<br>y=%{y}<extra></extra>",
           "legendgroup": "search_l",
           "marker": {
            "color": "#FFA15A",
            "symbol": "circle"
           },
           "mode": "markers",
           "name": "search_l",
           "orientation": "v",
           "showlegend": true,
           "type": "scatter",
           "x": [
            26,
            34,
            32,
            23
           ],
           "xaxis": "x",
           "y": [
            89,
            91,
            13,
            86
           ],
           "yaxis": "y"
          },
          {
           "hovertemplate": "state=search_r<br>time=431<br>x=%{x}<br>y=%{y}<extra></extra>",
           "legendgroup": "search_r",
           "marker": {
            "color": "#19d3f3",
            "symbol": "circle"
           },
           "mode": "markers",
           "name": "search_r",
           "orientation": "v",
           "showlegend": true,
           "type": "scatter",
           "x": [
            66
           ],
           "xaxis": "x",
           "y": [
            50
           ],
           "yaxis": "y"
          }
         ],
         "name": "431"
        },
        {
         "data": [
          {
           "hovertemplate": "state=edge_l<br>time=432<br>x=%{x}<br>y=%{y}<extra></extra>",
           "legendgroup": "edge_l",
           "marker": {
            "color": "#636efa",
            "symbol": "circle"
           },
           "mode": "markers",
           "name": "edge_l",
           "orientation": "v",
           "showlegend": true,
           "type": "scatter",
           "x": [
            20,
            10,
            14
           ],
           "xaxis": "x",
           "y": [
            11,
            78,
            17
           ],
           "yaxis": "y"
          },
          {
           "hovertemplate": "state=edge_r<br>time=432<br>x=%{x}<br>y=%{y}<extra></extra>",
           "legendgroup": "edge_r",
           "marker": {
            "color": "#EF553B",
            "symbol": "circle"
           },
           "mode": "markers",
           "name": "edge_r",
           "orientation": "v",
           "showlegend": true,
           "type": "scatter",
           "x": [
            50,
            50
           ],
           "xaxis": "x",
           "y": [
            98,
            1
           ],
           "yaxis": "y"
          },
          {
           "hovertemplate": "state=feed_l<br>time=432<br>x=%{x}<br>y=%{y}<extra></extra>",
           "legendgroup": "feed_l",
           "marker": {
            "color": "#00cc96",
            "symbol": "circle"
           },
           "mode": "markers",
           "name": "feed_l",
           "orientation": "v",
           "showlegend": true,
           "type": "scatter",
           "x": [
            12,
            17,
            18
           ],
           "xaxis": "x",
           "y": [
            49,
            46,
            50
           ],
           "yaxis": "y"
          },
          {
           "hovertemplate": "state=feed_r<br>time=432<br>x=%{x}<br>y=%{y}<extra></extra>",
           "legendgroup": "feed_r",
           "marker": {
            "color": "#ab63fa",
            "symbol": "circle"
           },
           "mode": "markers",
           "name": "feed_r",
           "orientation": "v",
           "showlegend": true,
           "type": "scatter",
           "x": [
            83,
            86
           ],
           "xaxis": "x",
           "y": [
            45,
            44
           ],
           "yaxis": "y"
          },
          {
           "hovertemplate": "state=search_l<br>time=432<br>x=%{x}<br>y=%{y}<extra></extra>",
           "legendgroup": "search_l",
           "marker": {
            "color": "#FFA15A",
            "symbol": "circle"
           },
           "mode": "markers",
           "name": "search_l",
           "orientation": "v",
           "showlegend": true,
           "type": "scatter",
           "x": [
            26,
            39,
            32,
            23
           ],
           "xaxis": "x",
           "y": [
            89,
            92,
            13,
            86
           ],
           "yaxis": "y"
          },
          {
           "hovertemplate": "state=search_r<br>time=432<br>x=%{x}<br>y=%{y}<extra></extra>",
           "legendgroup": "search_r",
           "marker": {
            "color": "#19d3f3",
            "symbol": "circle"
           },
           "mode": "markers",
           "name": "search_r",
           "orientation": "v",
           "showlegend": true,
           "type": "scatter",
           "x": [
            61
           ],
           "xaxis": "x",
           "y": [
            49
           ],
           "yaxis": "y"
          }
         ],
         "name": "432"
        },
        {
         "data": [
          {
           "hovertemplate": "state=edge_l<br>time=433<br>x=%{x}<br>y=%{y}<extra></extra>",
           "legendgroup": "edge_l",
           "marker": {
            "color": "#636efa",
            "symbol": "circle"
           },
           "mode": "markers",
           "name": "edge_l",
           "orientation": "v",
           "showlegend": true,
           "type": "scatter",
           "x": [
            18,
            11,
            14
           ],
           "xaxis": "x",
           "y": [
            13,
            80,
            17
           ],
           "yaxis": "y"
          },
          {
           "hovertemplate": "state=edge_r<br>time=433<br>x=%{x}<br>y=%{y}<extra></extra>",
           "legendgroup": "edge_r",
           "marker": {
            "color": "#EF553B",
            "symbol": "circle"
           },
           "mode": "markers",
           "name": "edge_r",
           "orientation": "v",
           "showlegend": true,
           "type": "scatter",
           "x": [
            55,
            52
           ],
           "xaxis": "x",
           "y": [
            98,
            1
           ],
           "yaxis": "y"
          },
          {
           "hovertemplate": "state=feed_l<br>time=433<br>x=%{x}<br>y=%{y}<extra></extra>",
           "legendgroup": "feed_l",
           "marker": {
            "color": "#00cc96",
            "symbol": "circle"
           },
           "mode": "markers",
           "name": "feed_l",
           "orientation": "v",
           "showlegend": true,
           "type": "scatter",
           "x": [
            11,
            17,
            18
           ],
           "xaxis": "x",
           "y": [
            49,
            46,
            51
           ],
           "yaxis": "y"
          },
          {
           "hovertemplate": "state=feed_r<br>time=433<br>x=%{x}<br>y=%{y}<extra></extra>",
           "legendgroup": "feed_r",
           "marker": {
            "color": "#ab63fa",
            "symbol": "circle"
           },
           "mode": "markers",
           "name": "feed_r",
           "orientation": "v",
           "showlegend": true,
           "type": "scatter",
           "x": [
            83,
            84
           ],
           "xaxis": "x",
           "y": [
            45,
            42
           ],
           "yaxis": "y"
          },
          {
           "hovertemplate": "state=search_l<br>time=433<br>x=%{x}<br>y=%{y}<extra></extra>",
           "legendgroup": "search_l",
           "marker": {
            "color": "#FFA15A",
            "symbol": "circle"
           },
           "mode": "markers",
           "name": "search_l",
           "orientation": "v",
           "showlegend": true,
           "type": "scatter",
           "x": [
            26,
            44,
            32,
            23
           ],
           "xaxis": "x",
           "y": [
            89,
            91,
            13,
            86
           ],
           "yaxis": "y"
          },
          {
           "hovertemplate": "state=search_r<br>time=433<br>x=%{x}<br>y=%{y}<extra></extra>",
           "legendgroup": "search_r",
           "marker": {
            "color": "#19d3f3",
            "symbol": "circle"
           },
           "mode": "markers",
           "name": "search_r",
           "orientation": "v",
           "showlegend": true,
           "type": "scatter",
           "x": [
            61
           ],
           "xaxis": "x",
           "y": [
            49
           ],
           "yaxis": "y"
          }
         ],
         "name": "433"
        },
        {
         "data": [
          {
           "hovertemplate": "state=edge_l<br>time=434<br>x=%{x}<br>y=%{y}<extra></extra>",
           "legendgroup": "edge_l",
           "marker": {
            "color": "#636efa",
            "symbol": "circle"
           },
           "mode": "markers",
           "name": "edge_l",
           "orientation": "v",
           "showlegend": true,
           "type": "scatter",
           "x": [
            17,
            13,
            14
           ],
           "xaxis": "x",
           "y": [
            13,
            82,
            18
           ],
           "yaxis": "y"
          },
          {
           "hovertemplate": "state=edge_r<br>time=434<br>x=%{x}<br>y=%{y}<extra></extra>",
           "legendgroup": "edge_r",
           "marker": {
            "color": "#EF553B",
            "symbol": "circle"
           },
           "mode": "markers",
           "name": "edge_r",
           "orientation": "v",
           "showlegend": true,
           "type": "scatter",
           "x": [
            60,
            54
           ],
           "xaxis": "x",
           "y": [
            98,
            1
           ],
           "yaxis": "y"
          },
          {
           "hovertemplate": "state=feed_l<br>time=434<br>x=%{x}<br>y=%{y}<extra></extra>",
           "legendgroup": "feed_l",
           "marker": {
            "color": "#00cc96",
            "symbol": "circle"
           },
           "mode": "markers",
           "name": "feed_l",
           "orientation": "v",
           "showlegend": true,
           "type": "scatter",
           "x": [
            11,
            17,
            17
           ],
           "xaxis": "x",
           "y": [
            49,
            45,
            51
           ],
           "yaxis": "y"
          },
          {
           "hovertemplate": "state=feed_r<br>time=434<br>x=%{x}<br>y=%{y}<extra></extra>",
           "legendgroup": "feed_r",
           "marker": {
            "color": "#ab63fa",
            "symbol": "circle"
           },
           "mode": "markers",
           "name": "feed_r",
           "orientation": "v",
           "showlegend": true,
           "type": "scatter",
           "x": [
            83,
            81
           ],
           "xaxis": "x",
           "y": [
            45,
            41
           ],
           "yaxis": "y"
          },
          {
           "hovertemplate": "state=search_l<br>time=434<br>x=%{x}<br>y=%{y}<extra></extra>",
           "legendgroup": "search_l",
           "marker": {
            "color": "#FFA15A",
            "symbol": "circle"
           },
           "mode": "markers",
           "name": "search_l",
           "orientation": "v",
           "showlegend": true,
           "type": "scatter",
           "x": [
            26,
            49,
            32,
            23
           ],
           "xaxis": "x",
           "y": [
            89,
            88,
            13,
            86
           ],
           "yaxis": "y"
          },
          {
           "hovertemplate": "state=search_r<br>time=434<br>x=%{x}<br>y=%{y}<extra></extra>",
           "legendgroup": "search_r",
           "marker": {
            "color": "#19d3f3",
            "symbol": "circle"
           },
           "mode": "markers",
           "name": "search_r",
           "orientation": "v",
           "showlegend": true,
           "type": "scatter",
           "x": [
            61
           ],
           "xaxis": "x",
           "y": [
            49
           ],
           "yaxis": "y"
          }
         ],
         "name": "434"
        },
        {
         "data": [
          {
           "hovertemplate": "state=edge_l<br>time=435<br>x=%{x}<br>y=%{y}<extra></extra>",
           "legendgroup": "edge_l",
           "marker": {
            "color": "#636efa",
            "symbol": "circle"
           },
           "mode": "markers",
           "name": "edge_l",
           "orientation": "v",
           "showlegend": true,
           "type": "scatter",
           "x": [
            17,
            15,
            14
           ],
           "xaxis": "x",
           "y": [
            14,
            84,
            18
           ],
           "yaxis": "y"
          },
          {
           "hovertemplate": "state=edge_r<br>time=435<br>x=%{x}<br>y=%{y}<extra></extra>",
           "legendgroup": "edge_r",
           "marker": {
            "color": "#EF553B",
            "symbol": "circle"
           },
           "mode": "markers",
           "name": "edge_r",
           "orientation": "v",
           "showlegend": true,
           "type": "scatter",
           "x": [
            66,
            56
           ],
           "xaxis": "x",
           "y": [
            96,
            1
           ],
           "yaxis": "y"
          },
          {
           "hovertemplate": "state=feed_l<br>time=435<br>x=%{x}<br>y=%{y}<extra></extra>",
           "legendgroup": "feed_l",
           "marker": {
            "color": "#00cc96",
            "symbol": "circle"
           },
           "mode": "markers",
           "name": "feed_l",
           "orientation": "v",
           "showlegend": true,
           "type": "scatter",
           "x": [
            11,
            17,
            17
           ],
           "xaxis": "x",
           "y": [
            48,
            46,
            51
           ],
           "yaxis": "y"
          },
          {
           "hovertemplate": "state=feed_r<br>time=435<br>x=%{x}<br>y=%{y}<extra></extra>",
           "legendgroup": "feed_r",
           "marker": {
            "color": "#ab63fa",
            "symbol": "circle"
           },
           "mode": "markers",
           "name": "feed_r",
           "orientation": "v",
           "showlegend": true,
           "type": "scatter",
           "x": [
            83,
            77
           ],
           "xaxis": "x",
           "y": [
            44,
            46
           ],
           "yaxis": "y"
          },
          {
           "hovertemplate": "state=search_l<br>time=435<br>x=%{x}<br>y=%{y}<extra></extra>",
           "legendgroup": "search_l",
           "marker": {
            "color": "#FFA15A",
            "symbol": "circle"
           },
           "mode": "markers",
           "name": "search_l",
           "orientation": "v",
           "showlegend": true,
           "type": "scatter",
           "x": [
            26,
            32,
            23
           ],
           "xaxis": "x",
           "y": [
            89,
            13,
            86
           ],
           "yaxis": "y"
          },
          {
           "hovertemplate": "state=search_r<br>time=435<br>x=%{x}<br>y=%{y}<extra></extra>",
           "legendgroup": "search_r",
           "marker": {
            "color": "#19d3f3",
            "symbol": "circle"
           },
           "mode": "markers",
           "name": "search_r",
           "orientation": "v",
           "showlegend": true,
           "type": "scatter",
           "x": [
            53,
            61
           ],
           "xaxis": "x",
           "y": [
            85,
            49
           ],
           "yaxis": "y"
          }
         ],
         "name": "435"
        },
        {
         "data": [
          {
           "hovertemplate": "state=edge_l<br>time=436<br>x=%{x}<br>y=%{y}<extra></extra>",
           "legendgroup": "edge_l",
           "marker": {
            "color": "#636efa",
            "symbol": "circle"
           },
           "mode": "markers",
           "name": "edge_l",
           "orientation": "v",
           "showlegend": true,
           "type": "scatter",
           "x": [
            17,
            17,
            14
           ],
           "xaxis": "x",
           "y": [
            14,
            86,
            18
           ],
           "yaxis": "y"
          },
          {
           "hovertemplate": "state=edge_r<br>time=436<br>x=%{x}<br>y=%{y}<extra></extra>",
           "legendgroup": "edge_r",
           "marker": {
            "color": "#EF553B",
            "symbol": "circle"
           },
           "mode": "markers",
           "name": "edge_r",
           "orientation": "v",
           "showlegend": true,
           "type": "scatter",
           "x": [
            71,
            57
           ],
           "xaxis": "x",
           "y": [
            94,
            1
           ],
           "yaxis": "y"
          },
          {
           "hovertemplate": "state=feed_l<br>time=436<br>x=%{x}<br>y=%{y}<extra></extra>",
           "legendgroup": "feed_l",
           "marker": {
            "color": "#00cc96",
            "symbol": "circle"
           },
           "mode": "markers",
           "name": "feed_l",
           "orientation": "v",
           "showlegend": true,
           "type": "scatter",
           "x": [
            11,
            18,
            17
           ],
           "xaxis": "x",
           "y": [
            48,
            46,
            51
           ],
           "yaxis": "y"
          },
          {
           "hovertemplate": "state=feed_r<br>time=436<br>x=%{x}<br>y=%{y}<extra></extra>",
           "legendgroup": "feed_r",
           "marker": {
            "color": "#ab63fa",
            "symbol": "circle"
           },
           "mode": "markers",
           "name": "feed_r",
           "orientation": "v",
           "showlegend": true,
           "type": "scatter",
           "x": [
            83,
            76
           ],
           "xaxis": "x",
           "y": [
            44,
            49
           ],
           "yaxis": "y"
          },
          {
           "hovertemplate": "state=search_l<br>time=436<br>x=%{x}<br>y=%{y}<extra></extra>",
           "legendgroup": "search_l",
           "marker": {
            "color": "#FFA15A",
            "symbol": "circle"
           },
           "mode": "markers",
           "name": "search_l",
           "orientation": "v",
           "showlegend": true,
           "type": "scatter",
           "x": [
            26,
            32,
            23
           ],
           "xaxis": "x",
           "y": [
            89,
            13,
            86
           ],
           "yaxis": "y"
          },
          {
           "hovertemplate": "state=search_r<br>time=436<br>x=%{x}<br>y=%{y}<extra></extra>",
           "legendgroup": "search_r",
           "marker": {
            "color": "#19d3f3",
            "symbol": "circle"
           },
           "mode": "markers",
           "name": "search_r",
           "orientation": "v",
           "showlegend": true,
           "type": "scatter",
           "x": [
            57,
            61
           ],
           "xaxis": "x",
           "y": [
            81,
            49
           ],
           "yaxis": "y"
          }
         ],
         "name": "436"
        },
        {
         "data": [
          {
           "hovertemplate": "state=edge_l<br>time=437<br>x=%{x}<br>y=%{y}<extra></extra>",
           "legendgroup": "edge_l",
           "marker": {
            "color": "#636efa",
            "symbol": "circle"
           },
           "mode": "markers",
           "name": "edge_l",
           "orientation": "v",
           "showlegend": true,
           "type": "scatter",
           "x": [
            16,
            19,
            15
           ],
           "xaxis": "x",
           "y": [
            14,
            87,
            17
           ],
           "yaxis": "y"
          },
          {
           "hovertemplate": "state=edge_r<br>time=437<br>x=%{x}<br>y=%{y}<extra></extra>",
           "legendgroup": "edge_r",
           "marker": {
            "color": "#EF553B",
            "symbol": "circle"
           },
           "mode": "markers",
           "name": "edge_r",
           "orientation": "v",
           "showlegend": true,
           "type": "scatter",
           "x": [
            76,
            58
           ],
           "xaxis": "x",
           "y": [
            91,
            1
           ],
           "yaxis": "y"
          },
          {
           "hovertemplate": "state=feed_l<br>time=437<br>x=%{x}<br>y=%{y}<extra></extra>",
           "legendgroup": "feed_l",
           "marker": {
            "color": "#00cc96",
            "symbol": "circle"
           },
           "mode": "markers",
           "name": "feed_l",
           "orientation": "v",
           "showlegend": true,
           "type": "scatter",
           "x": [
            11,
            18,
            17
           ],
           "xaxis": "x",
           "y": [
            48,
            46,
            51
           ],
           "yaxis": "y"
          },
          {
           "hovertemplate": "state=feed_r<br>time=437<br>x=%{x}<br>y=%{y}<extra></extra>",
           "legendgroup": "feed_r",
           "marker": {
            "color": "#ab63fa",
            "symbol": "circle"
           },
           "mode": "markers",
           "name": "feed_r",
           "orientation": "v",
           "showlegend": true,
           "type": "scatter",
           "x": [
            83,
            76
           ],
           "xaxis": "x",
           "y": [
            44,
            49
           ],
           "yaxis": "y"
          },
          {
           "hovertemplate": "state=search_l<br>time=437<br>x=%{x}<br>y=%{y}<extra></extra>",
           "legendgroup": "search_l",
           "marker": {
            "color": "#FFA15A",
            "symbol": "circle"
           },
           "mode": "markers",
           "name": "search_l",
           "orientation": "v",
           "showlegend": true,
           "type": "scatter",
           "x": [
            26,
            32,
            23
           ],
           "xaxis": "x",
           "y": [
            89,
            13,
            85
           ],
           "yaxis": "y"
          },
          {
           "hovertemplate": "state=search_r<br>time=437<br>x=%{x}<br>y=%{y}<extra></extra>",
           "legendgroup": "search_r",
           "marker": {
            "color": "#19d3f3",
            "symbol": "circle"
           },
           "mode": "markers",
           "name": "search_r",
           "orientation": "v",
           "showlegend": true,
           "type": "scatter",
           "x": [
            59,
            59
           ],
           "xaxis": "x",
           "y": [
            79,
            45
           ],
           "yaxis": "y"
          }
         ],
         "name": "437"
        },
        {
         "data": [
          {
           "hovertemplate": "state=edge_l<br>time=438<br>x=%{x}<br>y=%{y}<extra></extra>",
           "legendgroup": "edge_l",
           "marker": {
            "color": "#636efa",
            "symbol": "circle"
           },
           "mode": "markers",
           "name": "edge_l",
           "orientation": "v",
           "showlegend": true,
           "type": "scatter",
           "x": [
            15,
            21
           ],
           "xaxis": "x",
           "y": [
            16,
            89
           ],
           "yaxis": "y"
          },
          {
           "hovertemplate": "state=edge_r<br>time=438<br>x=%{x}<br>y=%{y}<extra></extra>",
           "legendgroup": "edge_r",
           "marker": {
            "color": "#EF553B",
            "symbol": "circle"
           },
           "mode": "markers",
           "name": "edge_r",
           "orientation": "v",
           "showlegend": true,
           "type": "scatter",
           "x": [
            80,
            59
           ],
           "xaxis": "x",
           "y": [
            88,
            2
           ],
           "yaxis": "y"
          },
          {
           "hovertemplate": "state=feed_l<br>time=438<br>x=%{x}<br>y=%{y}<extra></extra>",
           "legendgroup": "feed_l",
           "marker": {
            "color": "#00cc96",
            "symbol": "circle"
           },
           "mode": "markers",
           "name": "feed_l",
           "orientation": "v",
           "showlegend": true,
           "type": "scatter",
           "x": [
            11,
            18,
            16
           ],
           "xaxis": "x",
           "y": [
            48,
            46,
            52
           ],
           "yaxis": "y"
          },
          {
           "hovertemplate": "state=feed_r<br>time=438<br>x=%{x}<br>y=%{y}<extra></extra>",
           "legendgroup": "feed_r",
           "marker": {
            "color": "#ab63fa",
            "symbol": "circle"
           },
           "mode": "markers",
           "name": "feed_r",
           "orientation": "v",
           "showlegend": true,
           "type": "scatter",
           "x": [
            83,
            78
           ],
           "xaxis": "x",
           "y": [
            44,
            50
           ],
           "yaxis": "y"
          },
          {
           "hovertemplate": "state=search_l<br>time=438<br>x=%{x}<br>y=%{y}<extra></extra>",
           "legendgroup": "search_l",
           "marker": {
            "color": "#FFA15A",
            "symbol": "circle"
           },
           "mode": "markers",
           "name": "search_l",
           "orientation": "v",
           "showlegend": true,
           "type": "scatter",
           "x": [
            26,
            32,
            18,
            23
           ],
           "xaxis": "x",
           "y": [
            89,
            13,
            16,
            85
           ],
           "yaxis": "y"
          },
          {
           "hovertemplate": "state=search_r<br>time=438<br>x=%{x}<br>y=%{y}<extra></extra>",
           "legendgroup": "search_r",
           "marker": {
            "color": "#19d3f3",
            "symbol": "circle"
           },
           "mode": "markers",
           "name": "search_r",
           "orientation": "v",
           "showlegend": true,
           "type": "scatter",
           "x": [
            60,
            56
           ],
           "xaxis": "x",
           "y": [
            77,
            38
           ],
           "yaxis": "y"
          }
         ],
         "name": "438"
        },
        {
         "data": [
          {
           "hovertemplate": "state=edge_l<br>time=439<br>x=%{x}<br>y=%{y}<extra></extra>",
           "legendgroup": "edge_l",
           "marker": {
            "color": "#636efa",
            "symbol": "circle"
           },
           "mode": "markers",
           "name": "edge_l",
           "orientation": "v",
           "showlegend": true,
           "type": "scatter",
           "x": [
            13,
            23
           ],
           "xaxis": "x",
           "y": [
            18,
            91
           ],
           "yaxis": "y"
          },
          {
           "hovertemplate": "state=edge_r<br>time=439<br>x=%{x}<br>y=%{y}<extra></extra>",
           "legendgroup": "edge_r",
           "marker": {
            "color": "#EF553B",
            "symbol": "circle"
           },
           "mode": "markers",
           "name": "edge_r",
           "orientation": "v",
           "showlegend": true,
           "type": "scatter",
           "x": [
            84,
            58
           ],
           "xaxis": "x",
           "y": [
            84,
            2
           ],
           "yaxis": "y"
          },
          {
           "hovertemplate": "state=feed_l<br>time=439<br>x=%{x}<br>y=%{y}<extra></extra>",
           "legendgroup": "feed_l",
           "marker": {
            "color": "#00cc96",
            "symbol": "circle"
           },
           "mode": "markers",
           "name": "feed_l",
           "orientation": "v",
           "showlegend": true,
           "type": "scatter",
           "x": [
            11,
            18,
            14
           ],
           "xaxis": "x",
           "y": [
            48,
            46,
            51
           ],
           "yaxis": "y"
          },
          {
           "hovertemplate": "state=feed_r<br>time=439<br>x=%{x}<br>y=%{y}<extra></extra>",
           "legendgroup": "feed_r",
           "marker": {
            "color": "#ab63fa",
            "symbol": "circle"
           },
           "mode": "markers",
           "name": "feed_r",
           "orientation": "v",
           "showlegend": true,
           "type": "scatter",
           "x": [
            83,
            79
           ],
           "xaxis": "x",
           "y": [
            45,
            50
           ],
           "yaxis": "y"
          },
          {
           "hovertemplate": "state=search_l<br>time=439<br>x=%{x}<br>y=%{y}<extra></extra>",
           "legendgroup": "search_l",
           "marker": {
            "color": "#FFA15A",
            "symbol": "circle"
           },
           "mode": "markers",
           "name": "search_l",
           "orientation": "v",
           "showlegend": true,
           "type": "scatter",
           "x": [
            26,
            32,
            20,
            23
           ],
           "xaxis": "x",
           "y": [
            89,
            13,
            14,
            85
           ],
           "yaxis": "y"
          },
          {
           "hovertemplate": "state=search_r<br>time=439<br>x=%{x}<br>y=%{y}<extra></extra>",
           "legendgroup": "search_r",
           "marker": {
            "color": "#19d3f3",
            "symbol": "circle"
           },
           "mode": "markers",
           "name": "search_r",
           "orientation": "v",
           "showlegend": true,
           "type": "scatter",
           "x": [
            63,
            55
           ],
           "xaxis": "x",
           "y": [
            72,
            37
           ],
           "yaxis": "y"
          }
         ],
         "name": "439"
        },
        {
         "data": [
          {
           "hovertemplate": "state=edge_l<br>time=440<br>x=%{x}<br>y=%{y}<extra></extra>",
           "legendgroup": "edge_l",
           "marker": {
            "color": "#636efa",
            "symbol": "circle"
           },
           "mode": "markers",
           "name": "edge_l",
           "orientation": "v",
           "showlegend": true,
           "type": "scatter",
           "x": [
            12,
            25,
            21
           ],
           "xaxis": "x",
           "y": [
            20,
            93,
            13
           ],
           "yaxis": "y"
          },
          {
           "hovertemplate": "state=edge_r<br>time=440<br>x=%{x}<br>y=%{y}<extra></extra>",
           "legendgroup": "edge_r",
           "marker": {
            "color": "#EF553B",
            "symbol": "circle"
           },
           "mode": "markers",
           "name": "edge_r",
           "orientation": "v",
           "showlegend": true,
           "type": "scatter",
           "x": [
            88,
            56
           ],
           "xaxis": "x",
           "y": [
            81,
            1
           ],
           "yaxis": "y"
          },
          {
           "hovertemplate": "state=feed_l<br>time=440<br>x=%{x}<br>y=%{y}<extra></extra>",
           "legendgroup": "feed_l",
           "marker": {
            "color": "#00cc96",
            "symbol": "circle"
           },
           "mode": "markers",
           "name": "feed_l",
           "orientation": "v",
           "showlegend": true,
           "type": "scatter",
           "x": [
            11,
            18,
            13
           ],
           "xaxis": "x",
           "y": [
            48,
            47,
            51
           ],
           "yaxis": "y"
          },
          {
           "hovertemplate": "state=feed_r<br>time=440<br>x=%{x}<br>y=%{y}<extra></extra>",
           "legendgroup": "feed_r",
           "marker": {
            "color": "#ab63fa",
            "symbol": "circle"
           },
           "mode": "markers",
           "name": "feed_r",
           "orientation": "v",
           "showlegend": true,
           "type": "scatter",
           "x": [
            83,
            79
           ],
           "xaxis": "x",
           "y": [
            45,
            50
           ],
           "yaxis": "y"
          },
          {
           "hovertemplate": "state=search_l<br>time=440<br>x=%{x}<br>y=%{y}<extra></extra>",
           "legendgroup": "search_l",
           "marker": {
            "color": "#FFA15A",
            "symbol": "circle"
           },
           "mode": "markers",
           "name": "search_l",
           "orientation": "v",
           "showlegend": true,
           "type": "scatter",
           "x": [
            26,
            32,
            23
           ],
           "xaxis": "x",
           "y": [
            89,
            13,
            85
           ],
           "yaxis": "y"
          },
          {
           "hovertemplate": "state=search_r<br>time=440<br>x=%{x}<br>y=%{y}<extra></extra>",
           "legendgroup": "search_r",
           "marker": {
            "color": "#19d3f3",
            "symbol": "circle"
           },
           "mode": "markers",
           "name": "search_r",
           "orientation": "v",
           "showlegend": true,
           "type": "scatter",
           "x": [
            64,
            55
           ],
           "xaxis": "x",
           "y": [
            67,
            37
           ],
           "yaxis": "y"
          }
         ],
         "name": "440"
        },
        {
         "data": [
          {
           "hovertemplate": "state=edge_l<br>time=441<br>x=%{x}<br>y=%{y}<extra></extra>",
           "legendgroup": "edge_l",
           "marker": {
            "color": "#636efa",
            "symbol": "circle"
           },
           "mode": "markers",
           "name": "edge_l",
           "orientation": "v",
           "showlegend": true,
           "type": "scatter",
           "x": [
            11,
            26,
            21
           ],
           "xaxis": "x",
           "y": [
            20,
            93,
            13
           ],
           "yaxis": "y"
          },
          {
           "hovertemplate": "state=edge_r<br>time=441<br>x=%{x}<br>y=%{y}<extra></extra>",
           "legendgroup": "edge_r",
           "marker": {
            "color": "#EF553B",
            "symbol": "circle"
           },
           "mode": "markers",
           "name": "edge_r",
           "orientation": "v",
           "showlegend": true,
           "type": "scatter",
           "x": [
            91,
            55
           ],
           "xaxis": "x",
           "y": [
            76,
            1
           ],
           "yaxis": "y"
          },
          {
           "hovertemplate": "state=feed_l<br>time=441<br>x=%{x}<br>y=%{y}<extra></extra>",
           "legendgroup": "feed_l",
           "marker": {
            "color": "#00cc96",
            "symbol": "circle"
           },
           "mode": "markers",
           "name": "feed_l",
           "orientation": "v",
           "showlegend": true,
           "type": "scatter",
           "x": [
            11,
            19,
            14
           ],
           "xaxis": "x",
           "y": [
            48,
            47,
            51
           ],
           "yaxis": "y"
          },
          {
           "hovertemplate": "state=feed_r<br>time=441<br>x=%{x}<br>y=%{y}<extra></extra>",
           "legendgroup": "feed_r",
           "marker": {
            "color": "#ab63fa",
            "symbol": "circle"
           },
           "mode": "markers",
           "name": "feed_r",
           "orientation": "v",
           "showlegend": true,
           "type": "scatter",
           "x": [
            83,
            80
           ],
           "xaxis": "x",
           "y": [
            45,
            50
           ],
           "yaxis": "y"
          },
          {
           "hovertemplate": "state=search_l<br>time=441<br>x=%{x}<br>y=%{y}<extra></extra>",
           "legendgroup": "search_l",
           "marker": {
            "color": "#FFA15A",
            "symbol": "circle"
           },
           "mode": "markers",
           "name": "search_l",
           "orientation": "v",
           "showlegend": true,
           "type": "scatter",
           "x": [
            26,
            32,
            23
           ],
           "xaxis": "x",
           "y": [
            89,
            13,
            85
           ],
           "yaxis": "y"
          },
          {
           "hovertemplate": "state=search_r<br>time=441<br>x=%{x}<br>y=%{y}<extra></extra>",
           "legendgroup": "search_r",
           "marker": {
            "color": "#19d3f3",
            "symbol": "circle"
           },
           "mode": "markers",
           "name": "search_r",
           "orientation": "v",
           "showlegend": true,
           "type": "scatter",
           "x": [
            64,
            55
           ],
           "xaxis": "x",
           "y": [
            61,
            37
           ],
           "yaxis": "y"
          }
         ],
         "name": "441"
        },
        {
         "data": [
          {
           "hovertemplate": "state=edge_l<br>time=442<br>x=%{x}<br>y=%{y}<extra></extra>",
           "legendgroup": "edge_l",
           "marker": {
            "color": "#636efa",
            "symbol": "circle"
           },
           "mode": "markers",
           "name": "edge_l",
           "orientation": "v",
           "showlegend": true,
           "type": "scatter",
           "x": [
            11,
            26,
            21
           ],
           "xaxis": "x",
           "y": [
            20,
            93,
            12
           ],
           "yaxis": "y"
          },
          {
           "hovertemplate": "state=edge_r<br>time=442<br>x=%{x}<br>y=%{y}<extra></extra>",
           "legendgroup": "edge_r",
           "marker": {
            "color": "#EF553B",
            "symbol": "circle"
           },
           "mode": "markers",
           "name": "edge_r",
           "orientation": "v",
           "showlegend": true,
           "type": "scatter",
           "x": [
            94,
            53
           ],
           "xaxis": "x",
           "y": [
            71,
            1
           ],
           "yaxis": "y"
          },
          {
           "hovertemplate": "state=feed_l<br>time=442<br>x=%{x}<br>y=%{y}<extra></extra>",
           "legendgroup": "feed_l",
           "marker": {
            "color": "#00cc96",
            "symbol": "circle"
           },
           "mode": "markers",
           "name": "feed_l",
           "orientation": "v",
           "showlegend": true,
           "type": "scatter",
           "x": [
            11,
            19,
            14
           ],
           "xaxis": "x",
           "y": [
            48,
            47,
            53
           ],
           "yaxis": "y"
          },
          {
           "hovertemplate": "state=feed_r<br>time=442<br>x=%{x}<br>y=%{y}<extra></extra>",
           "legendgroup": "feed_r",
           "marker": {
            "color": "#ab63fa",
            "symbol": "circle"
           },
           "mode": "markers",
           "name": "feed_r",
           "orientation": "v",
           "showlegend": true,
           "type": "scatter",
           "x": [
            83,
            80
           ],
           "xaxis": "x",
           "y": [
            45,
            50
           ],
           "yaxis": "y"
          },
          {
           "hovertemplate": "state=search_l<br>time=442<br>x=%{x}<br>y=%{y}<extra></extra>",
           "legendgroup": "search_l",
           "marker": {
            "color": "#FFA15A",
            "symbol": "circle"
           },
           "mode": "markers",
           "name": "search_l",
           "orientation": "v",
           "showlegend": true,
           "type": "scatter",
           "x": [
            26,
            32,
            23
           ],
           "xaxis": "x",
           "y": [
            89,
            13,
            85
           ],
           "yaxis": "y"
          },
          {
           "hovertemplate": "state=search_r<br>time=442<br>x=%{x}<br>y=%{y}<extra></extra>",
           "legendgroup": "search_r",
           "marker": {
            "color": "#19d3f3",
            "symbol": "circle"
           },
           "mode": "markers",
           "name": "search_r",
           "orientation": "v",
           "showlegend": true,
           "type": "scatter",
           "x": [
            63,
            54
           ],
           "xaxis": "x",
           "y": [
            55,
            36
           ],
           "yaxis": "y"
          }
         ],
         "name": "442"
        },
        {
         "data": [
          {
           "hovertemplate": "state=edge_l<br>time=443<br>x=%{x}<br>y=%{y}<extra></extra>",
           "legendgroup": "edge_l",
           "marker": {
            "color": "#636efa",
            "symbol": "circle"
           },
           "mode": "markers",
           "name": "edge_l",
           "orientation": "v",
           "showlegend": true,
           "type": "scatter",
           "x": [
            11,
            28,
            22
           ],
           "xaxis": "x",
           "y": [
            20,
            94,
            11
           ],
           "yaxis": "y"
          },
          {
           "hovertemplate": "state=edge_r<br>time=443<br>x=%{x}<br>y=%{y}<extra></extra>",
           "legendgroup": "edge_r",
           "marker": {
            "color": "#EF553B",
            "symbol": "circle"
           },
           "mode": "markers",
           "name": "edge_r",
           "orientation": "v",
           "showlegend": true,
           "type": "scatter",
           "x": [
            96,
            52
           ],
           "xaxis": "x",
           "y": [
            67,
            1
           ],
           "yaxis": "y"
          },
          {
           "hovertemplate": "state=feed_l<br>time=443<br>x=%{x}<br>y=%{y}<extra></extra>",
           "legendgroup": "feed_l",
           "marker": {
            "color": "#00cc96",
            "symbol": "circle"
           },
           "mode": "markers",
           "name": "feed_l",
           "orientation": "v",
           "showlegend": true,
           "type": "scatter",
           "x": [
            11,
            19,
            14
           ],
           "xaxis": "x",
           "y": [
            49,
            47,
            53
           ],
           "yaxis": "y"
          },
          {
           "hovertemplate": "state=feed_r<br>time=443<br>x=%{x}<br>y=%{y}<extra></extra>",
           "legendgroup": "feed_r",
           "marker": {
            "color": "#ab63fa",
            "symbol": "circle"
           },
           "mode": "markers",
           "name": "feed_r",
           "orientation": "v",
           "showlegend": true,
           "type": "scatter",
           "x": [
            83,
            81
           ],
           "xaxis": "x",
           "y": [
            45,
            50
           ],
           "yaxis": "y"
          },
          {
           "hovertemplate": "state=search_l<br>time=443<br>x=%{x}<br>y=%{y}<extra></extra>",
           "legendgroup": "search_l",
           "marker": {
            "color": "#FFA15A",
            "symbol": "circle"
           },
           "mode": "markers",
           "name": "search_l",
           "orientation": "v",
           "showlegend": true,
           "type": "scatter",
           "x": [
            26,
            45,
            32,
            23
           ],
           "xaxis": "x",
           "y": [
            89,
            33,
            13,
            85
           ],
           "yaxis": "y"
          },
          {
           "hovertemplate": "state=search_r<br>time=443<br>x=%{x}<br>y=%{y}<extra></extra>",
           "legendgroup": "search_r",
           "marker": {
            "color": "#19d3f3",
            "symbol": "circle"
           },
           "mode": "markers",
           "name": "search_r",
           "orientation": "v",
           "showlegend": true,
           "type": "scatter",
           "x": [
            61
           ],
           "xaxis": "x",
           "y": [
            49
           ],
           "yaxis": "y"
          }
         ],
         "name": "443"
        },
        {
         "data": [
          {
           "hovertemplate": "state=edge_l<br>time=444<br>x=%{x}<br>y=%{y}<extra></extra>",
           "legendgroup": "edge_l",
           "marker": {
            "color": "#636efa",
            "symbol": "circle"
           },
           "mode": "markers",
           "name": "edge_l",
           "orientation": "v",
           "showlegend": true,
           "type": "scatter",
           "x": [
            11,
            30,
            24
           ],
           "xaxis": "x",
           "y": [
            20,
            95,
            9
           ],
           "yaxis": "y"
          },
          {
           "hovertemplate": "state=edge_r<br>time=444<br>x=%{x}<br>y=%{y}<extra></extra>",
           "legendgroup": "edge_r",
           "marker": {
            "color": "#EF553B",
            "symbol": "circle"
           },
           "mode": "markers",
           "name": "edge_r",
           "orientation": "v",
           "showlegend": true,
           "type": "scatter",
           "x": [
            97,
            52
           ],
           "xaxis": "x",
           "y": [
            61,
            1
           ],
           "yaxis": "y"
          },
          {
           "hovertemplate": "state=feed_l<br>time=444<br>x=%{x}<br>y=%{y}<extra></extra>",
           "legendgroup": "feed_l",
           "marker": {
            "color": "#00cc96",
            "symbol": "circle"
           },
           "mode": "markers",
           "name": "feed_l",
           "orientation": "v",
           "showlegend": true,
           "type": "scatter",
           "x": [
            11,
            19,
            14
           ],
           "xaxis": "x",
           "y": [
            49,
            47,
            53
           ],
           "yaxis": "y"
          },
          {
           "hovertemplate": "state=feed_r<br>time=444<br>x=%{x}<br>y=%{y}<extra></extra>",
           "legendgroup": "feed_r",
           "marker": {
            "color": "#ab63fa",
            "symbol": "circle"
           },
           "mode": "markers",
           "name": "feed_r",
           "orientation": "v",
           "showlegend": true,
           "type": "scatter",
           "x": [
            83,
            81
           ],
           "xaxis": "x",
           "y": [
            45,
            50
           ],
           "yaxis": "y"
          },
          {
           "hovertemplate": "state=search_l<br>time=444<br>x=%{x}<br>y=%{y}<extra></extra>",
           "legendgroup": "search_l",
           "marker": {
            "color": "#FFA15A",
            "symbol": "circle"
           },
           "mode": "markers",
           "name": "search_l",
           "orientation": "v",
           "showlegend": true,
           "type": "scatter",
           "x": [
            26,
            37,
            32,
            23
           ],
           "xaxis": "x",
           "y": [
            89,
            30,
            13,
            85
           ],
           "yaxis": "y"
          },
          {
           "hovertemplate": "state=search_r<br>time=444<br>x=%{x}<br>y=%{y}<extra></extra>",
           "legendgroup": "search_r",
           "marker": {
            "color": "#19d3f3",
            "symbol": "circle"
           },
           "mode": "markers",
           "name": "search_r",
           "orientation": "v",
           "showlegend": true,
           "type": "scatter",
           "x": [
            58
           ],
           "xaxis": "x",
           "y": [
            44
           ],
           "yaxis": "y"
          }
         ],
         "name": "444"
        },
        {
         "data": [
          {
           "hovertemplate": "state=edge_l<br>time=445<br>x=%{x}<br>y=%{y}<extra></extra>",
           "legendgroup": "edge_l",
           "marker": {
            "color": "#636efa",
            "symbol": "circle"
           },
           "mode": "markers",
           "name": "edge_l",
           "orientation": "v",
           "showlegend": true,
           "type": "scatter",
           "x": [
            11,
            32,
            27
           ],
           "xaxis": "x",
           "y": [
            21,
            96,
            7
           ],
           "yaxis": "y"
          },
          {
           "hovertemplate": "state=edge_r<br>time=445<br>x=%{x}<br>y=%{y}<extra></extra>",
           "legendgroup": "edge_r",
           "marker": {
            "color": "#EF553B",
            "symbol": "circle"
           },
           "mode": "markers",
           "name": "edge_r",
           "orientation": "v",
           "showlegend": true,
           "type": "scatter",
           "x": [
            98,
            52
           ],
           "xaxis": "x",
           "y": [
            56,
            1
           ],
           "yaxis": "y"
          },
          {
           "hovertemplate": "state=feed_l<br>time=445<br>x=%{x}<br>y=%{y}<extra></extra>",
           "legendgroup": "feed_l",
           "marker": {
            "color": "#00cc96",
            "symbol": "circle"
           },
           "mode": "markers",
           "name": "feed_l",
           "orientation": "v",
           "showlegend": true,
           "type": "scatter",
           "x": [
            11,
            19,
            14
           ],
           "xaxis": "x",
           "y": [
            49,
            48,
            53
           ],
           "yaxis": "y"
          },
          {
           "hovertemplate": "state=feed_r<br>time=445<br>x=%{x}<br>y=%{y}<extra></extra>",
           "legendgroup": "feed_r",
           "marker": {
            "color": "#ab63fa",
            "symbol": "circle"
           },
           "mode": "markers",
           "name": "feed_r",
           "orientation": "v",
           "showlegend": true,
           "type": "scatter",
           "x": [
            83,
            81
           ],
           "xaxis": "x",
           "y": [
            45,
            50
           ],
           "yaxis": "y"
          },
          {
           "hovertemplate": "state=search_l<br>time=445<br>x=%{x}<br>y=%{y}<extra></extra>",
           "legendgroup": "search_l",
           "marker": {
            "color": "#FFA15A",
            "symbol": "circle"
           },
           "mode": "markers",
           "name": "search_l",
           "orientation": "v",
           "showlegend": true,
           "type": "scatter",
           "x": [
            26,
            34,
            32,
            23
           ],
           "xaxis": "x",
           "y": [
            89,
            29,
            13,
            86
           ],
           "yaxis": "y"
          },
          {
           "hovertemplate": "state=search_r<br>time=445<br>x=%{x}<br>y=%{y}<extra></extra>",
           "legendgroup": "search_r",
           "marker": {
            "color": "#19d3f3",
            "symbol": "circle"
           },
           "mode": "markers",
           "name": "search_r",
           "orientation": "v",
           "showlegend": true,
           "type": "scatter",
           "x": [
            54
           ],
           "xaxis": "x",
           "y": [
            40
           ],
           "yaxis": "y"
          }
         ],
         "name": "445"
        },
        {
         "data": [
          {
           "hovertemplate": "state=edge_l<br>time=446<br>x=%{x}<br>y=%{y}<extra></extra>",
           "legendgroup": "edge_l",
           "marker": {
            "color": "#636efa",
            "symbol": "circle"
           },
           "mode": "markers",
           "name": "edge_l",
           "orientation": "v",
           "showlegend": true,
           "type": "scatter",
           "x": [
            9,
            34,
            30
           ],
           "xaxis": "x",
           "y": [
            23,
            96,
            5
           ],
           "yaxis": "y"
          },
          {
           "hovertemplate": "state=edge_r<br>time=446<br>x=%{x}<br>y=%{y}<extra></extra>",
           "legendgroup": "edge_r",
           "marker": {
            "color": "#EF553B",
            "symbol": "circle"
           },
           "mode": "markers",
           "name": "edge_r",
           "orientation": "v",
           "showlegend": true,
           "type": "scatter",
           "x": [
            99,
            52
           ],
           "xaxis": "x",
           "y": [
            51,
            1
           ],
           "yaxis": "y"
          },
          {
           "hovertemplate": "state=feed_l<br>time=446<br>x=%{x}<br>y=%{y}<extra></extra>",
           "legendgroup": "feed_l",
           "marker": {
            "color": "#00cc96",
            "symbol": "circle"
           },
           "mode": "markers",
           "name": "feed_l",
           "orientation": "v",
           "showlegend": true,
           "type": "scatter",
           "x": [
            11,
            19,
            14
           ],
           "xaxis": "x",
           "y": [
            49,
            49,
            52
           ],
           "yaxis": "y"
          },
          {
           "hovertemplate": "state=feed_r<br>time=446<br>x=%{x}<br>y=%{y}<extra></extra>",
           "legendgroup": "feed_r",
           "marker": {
            "color": "#ab63fa",
            "symbol": "circle"
           },
           "mode": "markers",
           "name": "feed_r",
           "orientation": "v",
           "showlegend": true,
           "type": "scatter",
           "x": [
            83,
            81
           ],
           "xaxis": "x",
           "y": [
            45,
            50
           ],
           "yaxis": "y"
          },
          {
           "hovertemplate": "state=search_l<br>time=446<br>x=%{x}<br>y=%{y}<extra></extra>",
           "legendgroup": "search_l",
           "marker": {
            "color": "#FFA15A",
            "symbol": "circle"
           },
           "mode": "markers",
           "name": "search_l",
           "orientation": "v",
           "showlegend": true,
           "type": "scatter",
           "x": [
            26,
            49,
            32,
            32,
            23
           ],
           "xaxis": "x",
           "y": [
            89,
            37,
            33,
            13,
            86
           ],
           "yaxis": "y"
          }
         ],
         "name": "446"
        },
        {
         "data": [
          {
           "hovertemplate": "state=edge_l<br>time=447<br>x=%{x}<br>y=%{y}<extra></extra>",
           "legendgroup": "edge_l",
           "marker": {
            "color": "#636efa",
            "symbol": "circle"
           },
           "mode": "markers",
           "name": "edge_l",
           "orientation": "v",
           "showlegend": true,
           "type": "scatter",
           "x": [
            9,
            36,
            32
           ],
           "xaxis": "x",
           "y": [
            23,
            97,
            4
           ],
           "yaxis": "y"
          },
          {
           "hovertemplate": "state=edge_r<br>time=447<br>x=%{x}<br>y=%{y}<extra></extra>",
           "legendgroup": "edge_r",
           "marker": {
            "color": "#EF553B",
            "symbol": "circle"
           },
           "mode": "markers",
           "name": "edge_r",
           "orientation": "v",
           "showlegend": true,
           "type": "scatter",
           "x": [
            99,
            50
           ],
           "xaxis": "x",
           "y": [
            46,
            1
           ],
           "yaxis": "y"
          },
          {
           "hovertemplate": "state=feed_l<br>time=447<br>x=%{x}<br>y=%{y}<extra></extra>",
           "legendgroup": "feed_l",
           "marker": {
            "color": "#00cc96",
            "symbol": "circle"
           },
           "mode": "markers",
           "name": "feed_l",
           "orientation": "v",
           "showlegend": true,
           "type": "scatter",
           "x": [
            11,
            19,
            13
           ],
           "xaxis": "x",
           "y": [
            48,
            49,
            52
           ],
           "yaxis": "y"
          },
          {
           "hovertemplate": "state=feed_r<br>time=447<br>x=%{x}<br>y=%{y}<extra></extra>",
           "legendgroup": "feed_r",
           "marker": {
            "color": "#ab63fa",
            "symbol": "circle"
           },
           "mode": "markers",
           "name": "feed_r",
           "orientation": "v",
           "showlegend": true,
           "type": "scatter",
           "x": [
            83,
            82
           ],
           "xaxis": "x",
           "y": [
            45,
            50
           ],
           "yaxis": "y"
          },
          {
           "hovertemplate": "state=search_l<br>time=447<br>x=%{x}<br>y=%{y}<extra></extra>",
           "legendgroup": "search_l",
           "marker": {
            "color": "#FFA15A",
            "symbol": "circle"
           },
           "mode": "markers",
           "name": "search_l",
           "orientation": "v",
           "showlegend": true,
           "type": "scatter",
           "x": [
            26,
            44,
            25,
            32,
            23
           ],
           "xaxis": "x",
           "y": [
            89,
            34,
            40,
            13,
            86
           ],
           "yaxis": "y"
          }
         ],
         "name": "447"
        },
        {
         "data": [
          {
           "hovertemplate": "state=edge_l<br>time=448<br>x=%{x}<br>y=%{y}<extra></extra>",
           "legendgroup": "edge_l",
           "marker": {
            "color": "#636efa",
            "symbol": "circle"
           },
           "mode": "markers",
           "name": "edge_l",
           "orientation": "v",
           "showlegend": true,
           "type": "scatter",
           "x": [
            8,
            38,
            36,
            48
           ],
           "xaxis": "x",
           "y": [
            25,
            97,
            3,
            1
           ],
           "yaxis": "y"
          },
          {
           "hovertemplate": "state=edge_r<br>time=448<br>x=%{x}<br>y=%{y}<extra></extra>",
           "legendgroup": "edge_r",
           "marker": {
            "color": "#EF553B",
            "symbol": "circle"
           },
           "mode": "markers",
           "name": "edge_r",
           "orientation": "v",
           "showlegend": true,
           "type": "scatter",
           "x": [
            97
           ],
           "xaxis": "x",
           "y": [
            39
           ],
           "yaxis": "y"
          },
          {
           "hovertemplate": "state=feed_l<br>time=448<br>x=%{x}<br>y=%{y}<extra></extra>",
           "legendgroup": "feed_l",
           "marker": {
            "color": "#00cc96",
            "symbol": "circle"
           },
           "mode": "markers",
           "name": "feed_l",
           "orientation": "v",
           "showlegend": true,
           "type": "scatter",
           "x": [
            12,
            19,
            13,
            19
           ],
           "xaxis": "x",
           "y": [
            48,
            49,
            51,
            44
           ],
           "yaxis": "y"
          },
          {
           "hovertemplate": "state=feed_r<br>time=448<br>x=%{x}<br>y=%{y}<extra></extra>",
           "legendgroup": "feed_r",
           "marker": {
            "color": "#ab63fa",
            "symbol": "circle"
           },
           "mode": "markers",
           "name": "feed_r",
           "orientation": "v",
           "showlegend": true,
           "type": "scatter",
           "x": [
            83,
            83
           ],
           "xaxis": "x",
           "y": [
            45,
            49
           ],
           "yaxis": "y"
          },
          {
           "hovertemplate": "state=search_l<br>time=448<br>x=%{x}<br>y=%{y}<extra></extra>",
           "legendgroup": "search_l",
           "marker": {
            "color": "#FFA15A",
            "symbol": "circle"
           },
           "mode": "markers",
           "name": "search_l",
           "orientation": "v",
           "showlegend": true,
           "type": "scatter",
           "x": [
            26,
            37,
            32,
            23
           ],
           "xaxis": "x",
           "y": [
            89,
            33,
            14,
            86
           ],
           "yaxis": "y"
          }
         ],
         "name": "448"
        },
        {
         "data": [
          {
           "hovertemplate": "state=edge_l<br>time=449<br>x=%{x}<br>y=%{y}<extra></extra>",
           "legendgroup": "edge_l",
           "marker": {
            "color": "#636efa",
            "symbol": "circle"
           },
           "mode": "markers",
           "name": "edge_l",
           "orientation": "v",
           "showlegend": true,
           "type": "scatter",
           "x": [
            7,
            41,
            38,
            47
           ],
           "xaxis": "x",
           "y": [
            26,
            98,
            3,
            1
           ],
           "yaxis": "y"
          },
          {
           "hovertemplate": "state=edge_r<br>time=449<br>x=%{x}<br>y=%{y}<extra></extra>",
           "legendgroup": "edge_r",
           "marker": {
            "color": "#EF553B",
            "symbol": "circle"
           },
           "mode": "markers",
           "name": "edge_r",
           "orientation": "v",
           "showlegend": true,
           "type": "scatter",
           "x": [
            95
           ],
           "xaxis": "x",
           "y": [
            32
           ],
           "yaxis": "y"
          },
          {
           "hovertemplate": "state=feed_l<br>time=449<br>x=%{x}<br>y=%{y}<extra></extra>",
           "legendgroup": "feed_l",
           "marker": {
            "color": "#00cc96",
            "symbol": "circle"
           },
           "mode": "markers",
           "name": "feed_l",
           "orientation": "v",
           "showlegend": true,
           "type": "scatter",
           "x": [
            12,
            19,
            14,
            19
           ],
           "xaxis": "x",
           "y": [
            48,
            49,
            49,
            44
           ],
           "yaxis": "y"
          },
          {
           "hovertemplate": "state=feed_r<br>time=449<br>x=%{x}<br>y=%{y}<extra></extra>",
           "legendgroup": "feed_r",
           "marker": {
            "color": "#ab63fa",
            "symbol": "circle"
           },
           "mode": "markers",
           "name": "feed_r",
           "orientation": "v",
           "showlegend": true,
           "type": "scatter",
           "x": [
            82,
            83
           ],
           "xaxis": "x",
           "y": [
            45,
            48
           ],
           "yaxis": "y"
          },
          {
           "hovertemplate": "state=search_l<br>time=449<br>x=%{x}<br>y=%{y}<extra></extra>",
           "legendgroup": "search_l",
           "marker": {
            "color": "#FFA15A",
            "symbol": "circle"
           },
           "mode": "markers",
           "name": "search_l",
           "orientation": "v",
           "showlegend": true,
           "type": "scatter",
           "x": [
            26,
            30,
            31,
            23
           ],
           "xaxis": "x",
           "y": [
            89,
            34,
            15,
            85
           ],
           "yaxis": "y"
          }
         ],
         "name": "449"
        },
        {
         "data": [
          {
           "hovertemplate": "state=edge_l<br>time=450<br>x=%{x}<br>y=%{y}<extra></extra>",
           "legendgroup": "edge_l",
           "marker": {
            "color": "#636efa",
            "symbol": "circle"
           },
           "mode": "markers",
           "name": "edge_l",
           "orientation": "v",
           "showlegend": true,
           "type": "scatter",
           "x": [
            6,
            43,
            38,
            43
           ],
           "xaxis": "x",
           "y": [
            29,
            98,
            3,
            1
           ],
           "yaxis": "y"
          },
          {
           "hovertemplate": "state=edge_r<br>time=450<br>x=%{x}<br>y=%{y}<extra></extra>",
           "legendgroup": "edge_r",
           "marker": {
            "color": "#EF553B",
            "symbol": "circle"
           },
           "mode": "markers",
           "name": "edge_r",
           "orientation": "v",
           "showlegend": true,
           "type": "scatter",
           "x": [
            93
           ],
           "xaxis": "x",
           "y": [
            28
           ],
           "yaxis": "y"
          },
          {
           "hovertemplate": "state=feed_l<br>time=450<br>x=%{x}<br>y=%{y}<extra></extra>",
           "legendgroup": "feed_l",
           "marker": {
            "color": "#00cc96",
            "symbol": "circle"
           },
           "mode": "markers",
           "name": "feed_l",
           "orientation": "v",
           "showlegend": true,
           "type": "scatter",
           "x": [
            12,
            19,
            19
           ],
           "xaxis": "x",
           "y": [
            48,
            48,
            44
           ],
           "yaxis": "y"
          },
          {
           "hovertemplate": "state=feed_r<br>time=450<br>x=%{x}<br>y=%{y}<extra></extra>",
           "legendgroup": "feed_r",
           "marker": {
            "color": "#ab63fa",
            "symbol": "circle"
           },
           "mode": "markers",
           "name": "feed_r",
           "orientation": "v",
           "showlegend": true,
           "type": "scatter",
           "x": [
            82,
            82
           ],
           "xaxis": "x",
           "y": [
            45,
            48
           ],
           "yaxis": "y"
          },
          {
           "hovertemplate": "state=search_l<br>time=450<br>x=%{x}<br>y=%{y}<extra></extra>",
           "legendgroup": "search_l",
           "marker": {
            "color": "#FFA15A",
            "symbol": "circle"
           },
           "mode": "markers",
           "name": "search_l",
           "orientation": "v",
           "showlegend": true,
           "type": "scatter",
           "x": [
            26,
            15,
            24,
            30,
            23
           ],
           "xaxis": "x",
           "y": [
            89,
            48,
            35,
            15,
            85
           ],
           "yaxis": "y"
          }
         ],
         "name": "450"
        },
        {
         "data": [
          {
           "hovertemplate": "state=edge_l<br>time=451<br>x=%{x}<br>y=%{y}<extra></extra>",
           "legendgroup": "edge_l",
           "marker": {
            "color": "#636efa",
            "symbol": "circle"
           },
           "mode": "markers",
           "name": "edge_l",
           "orientation": "v",
           "showlegend": true,
           "type": "scatter",
           "x": [
            5,
            45,
            38,
            42
           ],
           "xaxis": "x",
           "y": [
            32,
            99,
            3,
            2
           ],
           "yaxis": "y"
          },
          {
           "hovertemplate": "state=edge_r<br>time=451<br>x=%{x}<br>y=%{y}<extra></extra>",
           "legendgroup": "edge_r",
           "marker": {
            "color": "#EF553B",
            "symbol": "circle"
           },
           "mode": "markers",
           "name": "edge_r",
           "orientation": "v",
           "showlegend": true,
           "type": "scatter",
           "x": [
            90
           ],
           "xaxis": "x",
           "y": [
            23
           ],
           "yaxis": "y"
          },
          {
           "hovertemplate": "state=feed_l<br>time=451<br>x=%{x}<br>y=%{y}<extra></extra>",
           "legendgroup": "feed_l",
           "marker": {
            "color": "#00cc96",
            "symbol": "circle"
           },
           "mode": "markers",
           "name": "feed_l",
           "orientation": "v",
           "showlegend": true,
           "type": "scatter",
           "x": [
            12,
            19,
            16,
            19
           ],
           "xaxis": "x",
           "y": [
            48,
            48,
            48,
            44
           ],
           "yaxis": "y"
          },
          {
           "hovertemplate": "state=feed_r<br>time=451<br>x=%{x}<br>y=%{y}<extra></extra>",
           "legendgroup": "feed_r",
           "marker": {
            "color": "#ab63fa",
            "symbol": "circle"
           },
           "mode": "markers",
           "name": "feed_r",
           "orientation": "v",
           "showlegend": true,
           "type": "scatter",
           "x": [
            82,
            82
           ],
           "xaxis": "x",
           "y": [
            45,
            48
           ],
           "yaxis": "y"
          },
          {
           "hovertemplate": "state=search_l<br>time=451<br>x=%{x}<br>y=%{y}<extra></extra>",
           "legendgroup": "search_l",
           "marker": {
            "color": "#FFA15A",
            "symbol": "circle"
           },
           "mode": "markers",
           "name": "search_l",
           "orientation": "v",
           "showlegend": true,
           "type": "scatter",
           "x": [
            26,
            20,
            29,
            23
           ],
           "xaxis": "x",
           "y": [
            89,
            36,
            15,
            85
           ],
           "yaxis": "y"
          }
         ],
         "name": "451"
        },
        {
         "data": [
          {
           "hovertemplate": "state=edge_l<br>time=452<br>x=%{x}<br>y=%{y}<extra></extra>",
           "legendgroup": "edge_l",
           "marker": {
            "color": "#636efa",
            "symbol": "circle"
           },
           "mode": "markers",
           "name": "edge_l",
           "orientation": "v",
           "showlegend": true,
           "type": "scatter",
           "x": [
            3,
            47,
            38,
            41
           ],
           "xaxis": "x",
           "y": [
            35,
            99,
            3,
            2
           ],
           "yaxis": "y"
          },
          {
           "hovertemplate": "state=edge_r<br>time=452<br>x=%{x}<br>y=%{y}<extra></extra>",
           "legendgroup": "edge_r",
           "marker": {
            "color": "#EF553B",
            "symbol": "circle"
           },
           "mode": "markers",
           "name": "edge_r",
           "orientation": "v",
           "showlegend": true,
           "type": "scatter",
           "x": [
            88
           ],
           "xaxis": "x",
           "y": [
            19
           ],
           "yaxis": "y"
          },
          {
           "hovertemplate": "state=feed_l<br>time=452<br>x=%{x}<br>y=%{y}<extra></extra>",
           "legendgroup": "feed_l",
           "marker": {
            "color": "#00cc96",
            "symbol": "circle"
           },
           "mode": "markers",
           "name": "feed_l",
           "orientation": "v",
           "showlegend": true,
           "type": "scatter",
           "x": [
            12,
            19,
            15,
            19
           ],
           "xaxis": "x",
           "y": [
            48,
            49,
            47,
            44
           ],
           "yaxis": "y"
          },
          {
           "hovertemplate": "state=feed_r<br>time=452<br>x=%{x}<br>y=%{y}<extra></extra>",
           "legendgroup": "feed_r",
           "marker": {
            "color": "#ab63fa",
            "symbol": "circle"
           },
           "mode": "markers",
           "name": "feed_r",
           "orientation": "v",
           "showlegend": true,
           "type": "scatter",
           "x": [
            82,
            81
           ],
           "xaxis": "x",
           "y": [
            45,
            47
           ],
           "yaxis": "y"
          },
          {
           "hovertemplate": "state=search_l<br>time=452<br>x=%{x}<br>y=%{y}<extra></extra>",
           "legendgroup": "search_l",
           "marker": {
            "color": "#FFA15A",
            "symbol": "circle"
           },
           "mode": "markers",
           "name": "search_l",
           "orientation": "v",
           "showlegend": true,
           "type": "scatter",
           "x": [
            26,
            16,
            28,
            23
           ],
           "xaxis": "x",
           "y": [
            89,
            37,
            14,
            86
           ],
           "yaxis": "y"
          }
         ],
         "name": "452"
        },
        {
         "data": [
          {
           "hovertemplate": "state=edge_l<br>time=453<br>x=%{x}<br>y=%{y}<extra></extra>",
           "legendgroup": "edge_l",
           "marker": {
            "color": "#636efa",
            "symbol": "circle"
           },
           "mode": "markers",
           "name": "edge_l",
           "orientation": "v",
           "showlegend": true,
           "type": "scatter",
           "x": [
            3,
            37,
            40
           ],
           "xaxis": "x",
           "y": [
            38,
            3,
            1
           ],
           "yaxis": "y"
          },
          {
           "hovertemplate": "state=edge_r<br>time=453<br>x=%{x}<br>y=%{y}<extra></extra>",
           "legendgroup": "edge_r",
           "marker": {
            "color": "#EF553B",
            "symbol": "circle"
           },
           "mode": "markers",
           "name": "edge_r",
           "orientation": "v",
           "showlegend": true,
           "type": "scatter",
           "x": [
            86,
            50
           ],
           "xaxis": "x",
           "y": [
            16,
            99
           ],
           "yaxis": "y"
          },
          {
           "hovertemplate": "state=feed_l<br>time=453<br>x=%{x}<br>y=%{y}<extra></extra>",
           "legendgroup": "feed_l",
           "marker": {
            "color": "#00cc96",
            "symbol": "circle"
           },
           "mode": "markers",
           "name": "feed_l",
           "orientation": "v",
           "showlegend": true,
           "type": "scatter",
           "x": [
            12,
            19,
            15,
            19
           ],
           "xaxis": "x",
           "y": [
            48,
            49,
            46,
            45
           ],
           "yaxis": "y"
          },
          {
           "hovertemplate": "state=feed_r<br>time=453<br>x=%{x}<br>y=%{y}<extra></extra>",
           "legendgroup": "feed_r",
           "marker": {
            "color": "#ab63fa",
            "symbol": "circle"
           },
           "mode": "markers",
           "name": "feed_r",
           "orientation": "v",
           "showlegend": true,
           "type": "scatter",
           "x": [
            83,
            81
           ],
           "xaxis": "x",
           "y": [
            44,
            47
           ],
           "yaxis": "y"
          },
          {
           "hovertemplate": "state=search_l<br>time=453<br>x=%{x}<br>y=%{y}<extra></extra>",
           "legendgroup": "search_l",
           "marker": {
            "color": "#FFA15A",
            "symbol": "circle"
           },
           "mode": "markers",
           "name": "search_l",
           "orientation": "v",
           "showlegend": true,
           "type": "scatter",
           "x": [
            26,
            14,
            25,
            23
           ],
           "xaxis": "x",
           "y": [
            89,
            38,
            13,
            85
           ],
           "yaxis": "y"
          }
         ],
         "name": "453"
        },
        {
         "data": [
          {
           "hovertemplate": "state=edge_l<br>time=454<br>x=%{x}<br>y=%{y}<extra></extra>",
           "legendgroup": "edge_l",
           "marker": {
            "color": "#636efa",
            "symbol": "circle"
           },
           "mode": "markers",
           "name": "edge_l",
           "orientation": "v",
           "showlegend": true,
           "type": "scatter",
           "x": [
            2,
            22,
            37,
            39
           ],
           "xaxis": "x",
           "y": [
            41,
            12,
            3,
            1
           ],
           "yaxis": "y"
          },
          {
           "hovertemplate": "state=edge_r<br>time=454<br>x=%{x}<br>y=%{y}<extra></extra>",
           "legendgroup": "edge_r",
           "marker": {
            "color": "#EF553B",
            "symbol": "circle"
           },
           "mode": "markers",
           "name": "edge_r",
           "orientation": "v",
           "showlegend": true,
           "type": "scatter",
           "x": [
            82,
            52
           ],
           "xaxis": "x",
           "y": [
            13,
            99
           ],
           "yaxis": "y"
          },
          {
           "hovertemplate": "state=feed_l<br>time=454<br>x=%{x}<br>y=%{y}<extra></extra>",
           "legendgroup": "feed_l",
           "marker": {
            "color": "#00cc96",
            "symbol": "circle"
           },
           "mode": "markers",
           "name": "feed_l",
           "orientation": "v",
           "showlegend": true,
           "type": "scatter",
           "x": [
            12,
            19,
            15,
            14,
            18
           ],
           "xaxis": "x",
           "y": [
            47,
            49,
            46,
            39,
            45
           ],
           "yaxis": "y"
          },
          {
           "hovertemplate": "state=feed_r<br>time=454<br>x=%{x}<br>y=%{y}<extra></extra>",
           "legendgroup": "feed_r",
           "marker": {
            "color": "#ab63fa",
            "symbol": "circle"
           },
           "mode": "markers",
           "name": "feed_r",
           "orientation": "v",
           "showlegend": true,
           "type": "scatter",
           "x": [
            83,
            81
           ],
           "xaxis": "x",
           "y": [
            44,
            47
           ],
           "yaxis": "y"
          },
          {
           "hovertemplate": "state=search_l<br>time=454<br>x=%{x}<br>y=%{y}<extra></extra>",
           "legendgroup": "search_l",
           "marker": {
            "color": "#FFA15A",
            "symbol": "circle"
           },
           "mode": "markers",
           "name": "search_l",
           "orientation": "v",
           "showlegend": true,
           "type": "scatter",
           "x": [
            26,
            23
           ],
           "xaxis": "x",
           "y": [
            89,
            85
           ],
           "yaxis": "y"
          }
         ],
         "name": "454"
        },
        {
         "data": [
          {
           "hovertemplate": "state=edge_l<br>time=455<br>x=%{x}<br>y=%{y}<extra></extra>",
           "legendgroup": "edge_l",
           "marker": {
            "color": "#636efa",
            "symbol": "circle"
           },
           "mode": "markers",
           "name": "edge_l",
           "orientation": "v",
           "showlegend": true,
           "type": "scatter",
           "x": [
            1,
            22,
            40,
            39
           ],
           "xaxis": "x",
           "y": [
            44,
            12,
            4,
            2
           ],
           "yaxis": "y"
          },
          {
           "hovertemplate": "state=edge_r<br>time=455<br>x=%{x}<br>y=%{y}<extra></extra>",
           "legendgroup": "edge_r",
           "marker": {
            "color": "#EF553B",
            "symbol": "circle"
           },
           "mode": "markers",
           "name": "edge_r",
           "orientation": "v",
           "showlegend": true,
           "type": "scatter",
           "x": [
            79,
            54
           ],
           "xaxis": "x",
           "y": [
            10,
            99
           ],
           "yaxis": "y"
          },
          {
           "hovertemplate": "state=feed_l<br>time=455<br>x=%{x}<br>y=%{y}<extra></extra>",
           "legendgroup": "feed_l",
           "marker": {
            "color": "#00cc96",
            "symbol": "circle"
           },
           "mode": "markers",
           "name": "feed_l",
           "orientation": "v",
           "showlegend": true,
           "type": "scatter",
           "x": [
            12,
            19,
            15,
            14,
            18
           ],
           "xaxis": "x",
           "y": [
            47,
            49,
            46,
            39,
            45
           ],
           "yaxis": "y"
          },
          {
           "hovertemplate": "state=feed_r<br>time=455<br>x=%{x}<br>y=%{y}<extra></extra>",
           "legendgroup": "feed_r",
           "marker": {
            "color": "#ab63fa",
            "symbol": "circle"
           },
           "mode": "markers",
           "name": "feed_r",
           "orientation": "v",
           "showlegend": true,
           "type": "scatter",
           "x": [
            83,
            81
           ],
           "xaxis": "x",
           "y": [
            44,
            48
           ],
           "yaxis": "y"
          },
          {
           "hovertemplate": "state=search_l<br>time=455<br>x=%{x}<br>y=%{y}<extra></extra>",
           "legendgroup": "search_l",
           "marker": {
            "color": "#FFA15A",
            "symbol": "circle"
           },
           "mode": "markers",
           "name": "search_l",
           "orientation": "v",
           "showlegend": true,
           "type": "scatter",
           "x": [
            26,
            23
           ],
           "xaxis": "x",
           "y": [
            89,
            85
           ],
           "yaxis": "y"
          }
         ],
         "name": "455"
        },
        {
         "data": [
          {
           "hovertemplate": "state=edge_l<br>time=456<br>x=%{x}<br>y=%{y}<extra></extra>",
           "legendgroup": "edge_l",
           "marker": {
            "color": "#636efa",
            "symbol": "circle"
           },
           "mode": "markers",
           "name": "edge_l",
           "orientation": "v",
           "showlegend": true,
           "type": "scatter",
           "x": [
            1,
            22,
            38
           ],
           "xaxis": "x",
           "y": [
            47,
            12,
            3
           ],
           "yaxis": "y"
          },
          {
           "hovertemplate": "state=edge_r<br>time=456<br>x=%{x}<br>y=%{y}<extra></extra>",
           "legendgroup": "edge_r",
           "marker": {
            "color": "#EF553B",
            "symbol": "circle"
           },
           "mode": "markers",
           "name": "edge_r",
           "orientation": "v",
           "showlegend": true,
           "type": "scatter",
           "x": [
            75,
            56,
            50
           ],
           "xaxis": "x",
           "y": [
            8,
            99,
            2
           ],
           "yaxis": "y"
          },
          {
           "hovertemplate": "state=feed_l<br>time=456<br>x=%{x}<br>y=%{y}<extra></extra>",
           "legendgroup": "feed_l",
           "marker": {
            "color": "#00cc96",
            "symbol": "circle"
           },
           "mode": "markers",
           "name": "feed_l",
           "orientation": "v",
           "showlegend": true,
           "type": "scatter",
           "x": [
            12,
            19,
            15,
            14,
            18
           ],
           "xaxis": "x",
           "y": [
            47,
            49,
            45,
            39,
            46
           ],
           "yaxis": "y"
          },
          {
           "hovertemplate": "state=feed_r<br>time=456<br>x=%{x}<br>y=%{y}<extra></extra>",
           "legendgroup": "feed_r",
           "marker": {
            "color": "#ab63fa",
            "symbol": "circle"
           },
           "mode": "markers",
           "name": "feed_r",
           "orientation": "v",
           "showlegend": true,
           "type": "scatter",
           "x": [
            82,
            81
           ],
           "xaxis": "x",
           "y": [
            43,
            48
           ],
           "yaxis": "y"
          },
          {
           "hovertemplate": "state=search_l<br>time=456<br>x=%{x}<br>y=%{y}<extra></extra>",
           "legendgroup": "search_l",
           "marker": {
            "color": "#FFA15A",
            "symbol": "circle"
           },
           "mode": "markers",
           "name": "search_l",
           "orientation": "v",
           "showlegend": true,
           "type": "scatter",
           "x": [
            26,
            23
           ],
           "xaxis": "x",
           "y": [
            89,
            86
           ],
           "yaxis": "y"
          }
         ],
         "name": "456"
        },
        {
         "data": [
          {
           "hovertemplate": "state=edge_l<br>time=457<br>x=%{x}<br>y=%{y}<extra></extra>",
           "legendgroup": "edge_l",
           "marker": {
            "color": "#636efa",
            "symbol": "circle"
           },
           "mode": "markers",
           "name": "edge_l",
           "orientation": "v",
           "showlegend": true,
           "type": "scatter",
           "x": [
            1,
            22,
            34
           ],
           "xaxis": "x",
           "y": [
            50,
            12,
            4
           ],
           "yaxis": "y"
          },
          {
           "hovertemplate": "state=edge_r<br>time=457<br>x=%{x}<br>y=%{y}<extra></extra>",
           "legendgroup": "edge_r",
           "marker": {
            "color": "#EF553B",
            "symbol": "circle"
           },
           "mode": "markers",
           "name": "edge_r",
           "orientation": "v",
           "showlegend": true,
           "type": "scatter",
           "x": [
            70,
            57,
            54
           ],
           "xaxis": "x",
           "y": [
            5,
            98,
            1
           ],
           "yaxis": "y"
          },
          {
           "hovertemplate": "state=feed_l<br>time=457<br>x=%{x}<br>y=%{y}<extra></extra>",
           "legendgroup": "feed_l",
           "marker": {
            "color": "#00cc96",
            "symbol": "circle"
           },
           "mode": "markers",
           "name": "feed_l",
           "orientation": "v",
           "showlegend": true,
           "type": "scatter",
           "x": [
            12,
            19,
            15,
            14,
            17
           ],
           "xaxis": "x",
           "y": [
            48,
            49,
            45,
            39,
            47
           ],
           "yaxis": "y"
          },
          {
           "hovertemplate": "state=feed_r<br>time=457<br>x=%{x}<br>y=%{y}<extra></extra>",
           "legendgroup": "feed_r",
           "marker": {
            "color": "#ab63fa",
            "symbol": "circle"
           },
           "mode": "markers",
           "name": "feed_r",
           "orientation": "v",
           "showlegend": true,
           "type": "scatter",
           "x": [
            82,
            81
           ],
           "xaxis": "x",
           "y": [
            43,
            48
           ],
           "yaxis": "y"
          },
          {
           "hovertemplate": "state=search_l<br>time=457<br>x=%{x}<br>y=%{y}<extra></extra>",
           "legendgroup": "search_l",
           "marker": {
            "color": "#FFA15A",
            "symbol": "circle"
           },
           "mode": "markers",
           "name": "search_l",
           "orientation": "v",
           "showlegend": true,
           "type": "scatter",
           "x": [
            26,
            23
           ],
           "xaxis": "x",
           "y": [
            89,
            86
           ],
           "yaxis": "y"
          }
         ],
         "name": "457"
        },
        {
         "data": [
          {
           "hovertemplate": "state=edge_l<br>time=458<br>x=%{x}<br>y=%{y}<extra></extra>",
           "legendgroup": "edge_l",
           "marker": {
            "color": "#636efa",
            "symbol": "circle"
           },
           "mode": "markers",
           "name": "edge_l",
           "orientation": "v",
           "showlegend": true,
           "type": "scatter",
           "x": [
            1,
            21,
            32
           ],
           "xaxis": "x",
           "y": [
            54,
            12,
            5
           ],
           "yaxis": "y"
          },
          {
           "hovertemplate": "state=edge_r<br>time=458<br>x=%{x}<br>y=%{y}<extra></extra>",
           "legendgroup": "edge_r",
           "marker": {
            "color": "#EF553B",
            "symbol": "circle"
           },
           "mode": "markers",
           "name": "edge_r",
           "orientation": "v",
           "showlegend": true,
           "type": "scatter",
           "x": [
            66,
            59,
            59
           ],
           "xaxis": "x",
           "y": [
            4,
            98,
            2
           ],
           "yaxis": "y"
          },
          {
           "hovertemplate": "state=feed_l<br>time=458<br>x=%{x}<br>y=%{y}<extra></extra>",
           "legendgroup": "feed_l",
           "marker": {
            "color": "#00cc96",
            "symbol": "circle"
           },
           "mode": "markers",
           "name": "feed_l",
           "orientation": "v",
           "showlegend": true,
           "type": "scatter",
           "x": [
            11,
            19,
            15,
            14,
            17
           ],
           "xaxis": "x",
           "y": [
            48,
            49,
            45,
            39,
            48
           ],
           "yaxis": "y"
          },
          {
           "hovertemplate": "state=feed_r<br>time=458<br>x=%{x}<br>y=%{y}<extra></extra>",
           "legendgroup": "feed_r",
           "marker": {
            "color": "#ab63fa",
            "symbol": "circle"
           },
           "mode": "markers",
           "name": "feed_r",
           "orientation": "v",
           "showlegend": true,
           "type": "scatter",
           "x": [
            82,
            82
           ],
           "xaxis": "x",
           "y": [
            44,
            48
           ],
           "yaxis": "y"
          },
          {
           "hovertemplate": "state=search_l<br>time=458<br>x=%{x}<br>y=%{y}<extra></extra>",
           "legendgroup": "search_l",
           "marker": {
            "color": "#FFA15A",
            "symbol": "circle"
           },
           "mode": "markers",
           "name": "search_l",
           "orientation": "v",
           "showlegend": true,
           "type": "scatter",
           "x": [
            26,
            23
           ],
           "xaxis": "x",
           "y": [
            89,
            86
           ],
           "yaxis": "y"
          }
         ],
         "name": "458"
        },
        {
         "data": [
          {
           "hovertemplate": "state=edge_l<br>time=459<br>x=%{x}<br>y=%{y}<extra></extra>",
           "legendgroup": "edge_l",
           "marker": {
            "color": "#636efa",
            "symbol": "circle"
           },
           "mode": "markers",
           "name": "edge_l",
           "orientation": "v",
           "showlegend": true,
           "type": "scatter",
           "x": [
            2,
            21,
            31
           ],
           "xaxis": "x",
           "y": [
            56,
            11,
            5
           ],
           "yaxis": "y"
          },
          {
           "hovertemplate": "state=edge_r<br>time=459<br>x=%{x}<br>y=%{y}<extra></extra>",
           "legendgroup": "edge_r",
           "marker": {
            "color": "#EF553B",
            "symbol": "circle"
           },
           "mode": "markers",
           "name": "edge_r",
           "orientation": "v",
           "showlegend": true,
           "type": "scatter",
           "x": [
            64,
            61,
            60
           ],
           "xaxis": "x",
           "y": [
            3,
            98,
            2
           ],
           "yaxis": "y"
          },
          {
           "hovertemplate": "state=feed_l<br>time=459<br>x=%{x}<br>y=%{y}<extra></extra>",
           "legendgroup": "feed_l",
           "marker": {
            "color": "#00cc96",
            "symbol": "circle"
           },
           "mode": "markers",
           "name": "feed_l",
           "orientation": "v",
           "showlegend": true,
           "type": "scatter",
           "x": [
            10,
            19,
            15,
            14,
            16
           ],
           "xaxis": "x",
           "y": [
            48,
            49,
            45,
            39,
            48
           ],
           "yaxis": "y"
          },
          {
           "hovertemplate": "state=feed_r<br>time=459<br>x=%{x}<br>y=%{y}<extra></extra>",
           "legendgroup": "feed_r",
           "marker": {
            "color": "#ab63fa",
            "symbol": "circle"
           },
           "mode": "markers",
           "name": "feed_r",
           "orientation": "v",
           "showlegend": true,
           "type": "scatter",
           "x": [
            82,
            82
           ],
           "xaxis": "x",
           "y": [
            44,
            49
           ],
           "yaxis": "y"
          },
          {
           "hovertemplate": "state=search_l<br>time=459<br>x=%{x}<br>y=%{y}<extra></extra>",
           "legendgroup": "search_l",
           "marker": {
            "color": "#FFA15A",
            "symbol": "circle"
           },
           "mode": "markers",
           "name": "search_l",
           "orientation": "v",
           "showlegend": true,
           "type": "scatter",
           "x": [
            26,
            23
           ],
           "xaxis": "x",
           "y": [
            89,
            86
           ],
           "yaxis": "y"
          }
         ],
         "name": "459"
        },
        {
         "data": [
          {
           "hovertemplate": "state=edge_l<br>time=460<br>x=%{x}<br>y=%{y}<extra></extra>",
           "legendgroup": "edge_l",
           "marker": {
            "color": "#636efa",
            "symbol": "circle"
           },
           "mode": "markers",
           "name": "edge_l",
           "orientation": "v",
           "showlegend": true,
           "type": "scatter",
           "x": [
            2,
            22,
            30
           ],
           "xaxis": "x",
           "y": [
            59,
            12,
            5
           ],
           "yaxis": "y"
          },
          {
           "hovertemplate": "state=edge_r<br>time=460<br>x=%{x}<br>y=%{y}<extra></extra>",
           "legendgroup": "edge_r",
           "marker": {
            "color": "#EF553B",
            "symbol": "circle"
           },
           "mode": "markers",
           "name": "edge_r",
           "orientation": "v",
           "showlegend": true,
           "type": "scatter",
           "x": [
            62,
            63
           ],
           "xaxis": "x",
           "y": [
            2,
            97
           ],
           "yaxis": "y"
          },
          {
           "hovertemplate": "state=feed_l<br>time=460<br>x=%{x}<br>y=%{y}<extra></extra>",
           "legendgroup": "feed_l",
           "marker": {
            "color": "#00cc96",
            "symbol": "circle"
           },
           "mode": "markers",
           "name": "feed_l",
           "orientation": "v",
           "showlegend": true,
           "type": "scatter",
           "x": [
            10,
            19,
            15,
            14,
            14
           ],
           "xaxis": "x",
           "y": [
            48,
            50,
            46,
            39,
            50
           ],
           "yaxis": "y"
          },
          {
           "hovertemplate": "state=feed_r<br>time=460<br>x=%{x}<br>y=%{y}<extra></extra>",
           "legendgroup": "feed_r",
           "marker": {
            "color": "#ab63fa",
            "symbol": "circle"
           },
           "mode": "markers",
           "name": "feed_r",
           "orientation": "v",
           "showlegend": true,
           "type": "scatter",
           "x": [
            82,
            82
           ],
           "xaxis": "x",
           "y": [
            44,
            50
           ],
           "yaxis": "y"
          },
          {
           "hovertemplate": "state=search_l<br>time=460<br>x=%{x}<br>y=%{y}<extra></extra>",
           "legendgroup": "search_l",
           "marker": {
            "color": "#FFA15A",
            "symbol": "circle"
           },
           "mode": "markers",
           "name": "search_l",
           "orientation": "v",
           "showlegend": true,
           "type": "scatter",
           "x": [
            26,
            23
           ],
           "xaxis": "x",
           "y": [
            89,
            86
           ],
           "yaxis": "y"
          },
          {
           "hovertemplate": "state=search_r<br>time=460<br>x=%{x}<br>y=%{y}<extra></extra>",
           "legendgroup": "search_r",
           "marker": {
            "color": "#19d3f3",
            "symbol": "circle"
           },
           "mode": "markers",
           "name": "search_r",
           "orientation": "v",
           "showlegend": true,
           "type": "scatter",
           "x": [
            63
           ],
           "xaxis": "x",
           "y": [
            5
           ],
           "yaxis": "y"
          }
         ],
         "name": "460"
        },
        {
         "data": [
          {
           "hovertemplate": "state=edge_l<br>time=461<br>x=%{x}<br>y=%{y}<extra></extra>",
           "legendgroup": "edge_l",
           "marker": {
            "color": "#636efa",
            "symbol": "circle"
           },
           "mode": "markers",
           "name": "edge_l",
           "orientation": "v",
           "showlegend": true,
           "type": "scatter",
           "x": [
            3,
            30
           ],
           "xaxis": "x",
           "y": [
            62,
            6
           ],
           "yaxis": "y"
          },
          {
           "hovertemplate": "state=edge_r<br>time=461<br>x=%{x}<br>y=%{y}<extra></extra>",
           "legendgroup": "edge_r",
           "marker": {
            "color": "#EF553B",
            "symbol": "circle"
           },
           "mode": "markers",
           "name": "edge_r",
           "orientation": "v",
           "showlegend": true,
           "type": "scatter",
           "x": [
            57,
            65
           ],
           "xaxis": "x",
           "y": [
            2,
            97
           ],
           "yaxis": "y"
          },
          {
           "hovertemplate": "state=feed_l<br>time=461<br>x=%{x}<br>y=%{y}<extra></extra>",
           "legendgroup": "feed_l",
           "marker": {
            "color": "#00cc96",
            "symbol": "circle"
           },
           "mode": "markers",
           "name": "feed_l",
           "orientation": "v",
           "showlegend": true,
           "type": "scatter",
           "x": [
            10,
            18,
            15,
            14,
            14
           ],
           "xaxis": "x",
           "y": [
            48,
            50,
            45,
            39,
            50
           ],
           "yaxis": "y"
          },
          {
           "hovertemplate": "state=feed_r<br>time=461<br>x=%{x}<br>y=%{y}<extra></extra>",
           "legendgroup": "feed_r",
           "marker": {
            "color": "#ab63fa",
            "symbol": "circle"
           },
           "mode": "markers",
           "name": "feed_r",
           "orientation": "v",
           "showlegend": true,
           "type": "scatter",
           "x": [
            82,
            82
           ],
           "xaxis": "x",
           "y": [
            44,
            50
           ],
           "yaxis": "y"
          },
          {
           "hovertemplate": "state=search_l<br>time=461<br>x=%{x}<br>y=%{y}<extra></extra>",
           "legendgroup": "search_l",
           "marker": {
            "color": "#FFA15A",
            "symbol": "circle"
           },
           "mode": "markers",
           "name": "search_l",
           "orientation": "v",
           "showlegend": true,
           "type": "scatter",
           "x": [
            26,
            22,
            23
           ],
           "xaxis": "x",
           "y": [
            89,
            14,
            86
           ],
           "yaxis": "y"
          },
          {
           "hovertemplate": "state=search_r<br>time=461<br>x=%{x}<br>y=%{y}<extra></extra>",
           "legendgroup": "search_r",
           "marker": {
            "color": "#19d3f3",
            "symbol": "circle"
           },
           "mode": "markers",
           "name": "search_r",
           "orientation": "v",
           "showlegend": true,
           "type": "scatter",
           "x": [
            72
           ],
           "xaxis": "x",
           "y": [
            9
           ],
           "yaxis": "y"
          }
         ],
         "name": "461"
        },
        {
         "data": [
          {
           "hovertemplate": "state=edge_l<br>time=462<br>x=%{x}<br>y=%{y}<extra></extra>",
           "legendgroup": "edge_l",
           "marker": {
            "color": "#636efa",
            "symbol": "circle"
           },
           "mode": "markers",
           "name": "edge_l",
           "orientation": "v",
           "showlegend": true,
           "type": "scatter",
           "x": [
            3,
            30
           ],
           "xaxis": "x",
           "y": [
            63,
            6
           ],
           "yaxis": "y"
          },
          {
           "hovertemplate": "state=edge_r<br>time=462<br>x=%{x}<br>y=%{y}<extra></extra>",
           "legendgroup": "edge_r",
           "marker": {
            "color": "#EF553B",
            "symbol": "circle"
           },
           "mode": "markers",
           "name": "edge_r",
           "orientation": "v",
           "showlegend": true,
           "type": "scatter",
           "x": [
            52,
            67,
            80
           ],
           "xaxis": "x",
           "y": [
            1,
            96,
            12
           ],
           "yaxis": "y"
          },
          {
           "hovertemplate": "state=feed_l<br>time=462<br>x=%{x}<br>y=%{y}<extra></extra>",
           "legendgroup": "feed_l",
           "marker": {
            "color": "#00cc96",
            "symbol": "circle"
           },
           "mode": "markers",
           "name": "feed_l",
           "orientation": "v",
           "showlegend": true,
           "type": "scatter",
           "x": [
            10,
            18,
            17,
            14,
            14
           ],
           "xaxis": "x",
           "y": [
            48,
            51,
            46,
            39,
            51
           ],
           "yaxis": "y"
          },
          {
           "hovertemplate": "state=feed_r<br>time=462<br>x=%{x}<br>y=%{y}<extra></extra>",
           "legendgroup": "feed_r",
           "marker": {
            "color": "#ab63fa",
            "symbol": "circle"
           },
           "mode": "markers",
           "name": "feed_r",
           "orientation": "v",
           "showlegend": true,
           "type": "scatter",
           "x": [
            82,
            82
           ],
           "xaxis": "x",
           "y": [
            45,
            50
           ],
           "yaxis": "y"
          },
          {
           "hovertemplate": "state=search_l<br>time=462<br>x=%{x}<br>y=%{y}<extra></extra>",
           "legendgroup": "search_l",
           "marker": {
            "color": "#FFA15A",
            "symbol": "circle"
           },
           "mode": "markers",
           "name": "search_l",
           "orientation": "v",
           "showlegend": true,
           "type": "scatter",
           "x": [
            26,
            22,
            23
           ],
           "xaxis": "x",
           "y": [
            89,
            17,
            86
           ],
           "yaxis": "y"
          }
         ],
         "name": "462"
        },
        {
         "data": [
          {
           "hovertemplate": "state=edge_l<br>time=463<br>x=%{x}<br>y=%{y}<extra></extra>",
           "legendgroup": "edge_l",
           "marker": {
            "color": "#636efa",
            "symbol": "circle"
           },
           "mode": "markers",
           "name": "edge_l",
           "orientation": "v",
           "showlegend": true,
           "type": "scatter",
           "x": [
            47,
            3,
            30
           ],
           "xaxis": "x",
           "y": [
            1,
            65,
            6
           ],
           "yaxis": "y"
          },
          {
           "hovertemplate": "state=edge_r<br>time=463<br>x=%{x}<br>y=%{y}<extra></extra>",
           "legendgroup": "edge_r",
           "marker": {
            "color": "#EF553B",
            "symbol": "circle"
           },
           "mode": "markers",
           "name": "edge_r",
           "orientation": "v",
           "showlegend": true,
           "type": "scatter",
           "x": [
            69,
            83
           ],
           "xaxis": "x",
           "y": [
            95,
            14
           ],
           "yaxis": "y"
          },
          {
           "hovertemplate": "state=feed_l<br>time=463<br>x=%{x}<br>y=%{y}<extra></extra>",
           "legendgroup": "feed_l",
           "marker": {
            "color": "#00cc96",
            "symbol": "circle"
           },
           "mode": "markers",
           "name": "feed_l",
           "orientation": "v",
           "showlegend": true,
           "type": "scatter",
           "x": [
            11,
            18,
            18,
            14,
            15
           ],
           "xaxis": "x",
           "y": [
            48,
            51,
            46,
            39,
            52
           ],
           "yaxis": "y"
          },
          {
           "hovertemplate": "state=feed_r<br>time=463<br>x=%{x}<br>y=%{y}<extra></extra>",
           "legendgroup": "feed_r",
           "marker": {
            "color": "#ab63fa",
            "symbol": "circle"
           },
           "mode": "markers",
           "name": "feed_r",
           "orientation": "v",
           "showlegend": true,
           "type": "scatter",
           "x": [
            82,
            82
           ],
           "xaxis": "x",
           "y": [
            45,
            50
           ],
           "yaxis": "y"
          },
          {
           "hovertemplate": "state=search_l<br>time=463<br>x=%{x}<br>y=%{y}<extra></extra>",
           "legendgroup": "search_l",
           "marker": {
            "color": "#FFA15A",
            "symbol": "circle"
           },
           "mode": "markers",
           "name": "search_l",
           "orientation": "v",
           "showlegend": true,
           "type": "scatter",
           "x": [
            26,
            22,
            23
           ],
           "xaxis": "x",
           "y": [
            89,
            21,
            86
           ],
           "yaxis": "y"
          }
         ],
         "name": "463"
        },
        {
         "data": [
          {
           "hovertemplate": "state=edge_l<br>time=464<br>x=%{x}<br>y=%{y}<extra></extra>",
           "legendgroup": "edge_l",
           "marker": {
            "color": "#636efa",
            "symbol": "circle"
           },
           "mode": "markers",
           "name": "edge_l",
           "orientation": "v",
           "showlegend": true,
           "type": "scatter",
           "x": [
            43,
            4,
            30
           ],
           "xaxis": "x",
           "y": [
            1,
            67,
            6
           ],
           "yaxis": "y"
          },
          {
           "hovertemplate": "state=edge_r<br>time=464<br>x=%{x}<br>y=%{y}<extra></extra>",
           "legendgroup": "edge_r",
           "marker": {
            "color": "#EF553B",
            "symbol": "circle"
           },
           "mode": "markers",
           "name": "edge_r",
           "orientation": "v",
           "showlegend": true,
           "type": "scatter",
           "x": [
            71,
            83
           ],
           "xaxis": "x",
           "y": [
            94,
            14
           ],
           "yaxis": "y"
          },
          {
           "hovertemplate": "state=feed_l<br>time=464<br>x=%{x}<br>y=%{y}<extra></extra>",
           "legendgroup": "feed_l",
           "marker": {
            "color": "#00cc96",
            "symbol": "circle"
           },
           "mode": "markers",
           "name": "feed_l",
           "orientation": "v",
           "showlegend": true,
           "type": "scatter",
           "x": [
            11,
            18,
            19,
            13,
            18
           ],
           "xaxis": "x",
           "y": [
            48,
            51,
            47,
            39,
            54
           ],
           "yaxis": "y"
          },
          {
           "hovertemplate": "state=feed_r<br>time=464<br>x=%{x}<br>y=%{y}<extra></extra>",
           "legendgroup": "feed_r",
           "marker": {
            "color": "#ab63fa",
            "symbol": "circle"
           },
           "mode": "markers",
           "name": "feed_r",
           "orientation": "v",
           "showlegend": true,
           "type": "scatter",
           "x": [
            82,
            82
           ],
           "xaxis": "x",
           "y": [
            45,
            50
           ],
           "yaxis": "y"
          },
          {
           "hovertemplate": "state=search_l<br>time=464<br>x=%{x}<br>y=%{y}<extra></extra>",
           "legendgroup": "search_l",
           "marker": {
            "color": "#FFA15A",
            "symbol": "circle"
           },
           "mode": "markers",
           "name": "search_l",
           "orientation": "v",
           "showlegend": true,
           "type": "scatter",
           "x": [
            26,
            23,
            23
           ],
           "xaxis": "x",
           "y": [
            89,
            27,
            86
           ],
           "yaxis": "y"
          }
         ],
         "name": "464"
        },
        {
         "data": [
          {
           "hovertemplate": "state=edge_l<br>time=465<br>x=%{x}<br>y=%{y}<extra></extra>",
           "legendgroup": "edge_l",
           "marker": {
            "color": "#636efa",
            "symbol": "circle"
           },
           "mode": "markers",
           "name": "edge_l",
           "orientation": "v",
           "showlegend": true,
           "type": "scatter",
           "x": [
            39,
            5,
            28
           ],
           "xaxis": "x",
           "y": [
            3,
            69,
            6
           ],
           "yaxis": "y"
          },
          {
           "hovertemplate": "state=edge_r<br>time=465<br>x=%{x}<br>y=%{y}<extra></extra>",
           "legendgroup": "edge_r",
           "marker": {
            "color": "#EF553B",
            "symbol": "circle"
           },
           "mode": "markers",
           "name": "edge_r",
           "orientation": "v",
           "showlegend": true,
           "type": "scatter",
           "x": [
            73,
            85
           ],
           "xaxis": "x",
           "y": [
            94,
            16
           ],
           "yaxis": "y"
          },
          {
           "hovertemplate": "state=feed_l<br>time=465<br>x=%{x}<br>y=%{y}<extra></extra>",
           "legendgroup": "feed_l",
           "marker": {
            "color": "#00cc96",
            "symbol": "circle"
           },
           "mode": "markers",
           "name": "feed_l",
           "orientation": "v",
           "showlegend": true,
           "type": "scatter",
           "x": [
            11,
            17,
            19,
            13
           ],
           "xaxis": "x",
           "y": [
            48,
            51,
            47,
            39
           ],
           "yaxis": "y"
          },
          {
           "hovertemplate": "state=feed_r<br>time=465<br>x=%{x}<br>y=%{y}<extra></extra>",
           "legendgroup": "feed_r",
           "marker": {
            "color": "#ab63fa",
            "symbol": "circle"
           },
           "mode": "markers",
           "name": "feed_r",
           "orientation": "v",
           "showlegend": true,
           "type": "scatter",
           "x": [
            82,
            82
           ],
           "xaxis": "x",
           "y": [
            45,
            50
           ],
           "yaxis": "y"
          },
          {
           "hovertemplate": "state=search_l<br>time=465<br>x=%{x}<br>y=%{y}<extra></extra>",
           "legendgroup": "search_l",
           "marker": {
            "color": "#FFA15A",
            "symbol": "circle"
           },
           "mode": "markers",
           "name": "search_l",
           "orientation": "v",
           "showlegend": true,
           "type": "scatter",
           "x": [
            26,
            17,
            24,
            23
           ],
           "xaxis": "x",
           "y": [
            89,
            58,
            32,
            85
           ],
           "yaxis": "y"
          }
         ],
         "name": "465"
        },
        {
         "data": [
          {
           "hovertemplate": "state=edge_l<br>time=466<br>x=%{x}<br>y=%{y}<extra></extra>",
           "legendgroup": "edge_l",
           "marker": {
            "color": "#636efa",
            "symbol": "circle"
           },
           "mode": "markers",
           "name": "edge_l",
           "orientation": "v",
           "showlegend": true,
           "type": "scatter",
           "x": [
            37,
            6,
            25
           ],
           "xaxis": "x",
           "y": [
            3,
            71,
            8
           ],
           "yaxis": "y"
          },
          {
           "hovertemplate": "state=edge_r<br>time=466<br>x=%{x}<br>y=%{y}<extra></extra>",
           "legendgroup": "edge_r",
           "marker": {
            "color": "#EF553B",
            "symbol": "circle"
           },
           "mode": "markers",
           "name": "edge_r",
           "orientation": "v",
           "showlegend": true,
           "type": "scatter",
           "x": [
            74,
            86
           ],
           "xaxis": "x",
           "y": [
            93,
            17
           ],
           "yaxis": "y"
          },
          {
           "hovertemplate": "state=feed_l<br>time=466<br>x=%{x}<br>y=%{y}<extra></extra>",
           "legendgroup": "feed_l",
           "marker": {
            "color": "#00cc96",
            "symbol": "circle"
           },
           "mode": "markers",
           "name": "feed_l",
           "orientation": "v",
           "showlegend": true,
           "type": "scatter",
           "x": [
            11,
            17,
            19,
            13
           ],
           "xaxis": "x",
           "y": [
            48,
            51,
            47,
            39
           ],
           "yaxis": "y"
          },
          {
           "hovertemplate": "state=feed_r<br>time=466<br>x=%{x}<br>y=%{y}<extra></extra>",
           "legendgroup": "feed_r",
           "marker": {
            "color": "#ab63fa",
            "symbol": "circle"
           },
           "mode": "markers",
           "name": "feed_r",
           "orientation": "v",
           "showlegend": true,
           "type": "scatter",
           "x": [
            82,
            82
           ],
           "xaxis": "x",
           "y": [
            45,
            50
           ],
           "yaxis": "y"
          },
          {
           "hovertemplate": "state=search_l<br>time=466<br>x=%{x}<br>y=%{y}<extra></extra>",
           "legendgroup": "search_l",
           "marker": {
            "color": "#FFA15A",
            "symbol": "circle"
           },
           "mode": "markers",
           "name": "search_l",
           "orientation": "v",
           "showlegend": true,
           "type": "scatter",
           "x": [
            26,
            12,
            25,
            23
           ],
           "xaxis": "x",
           "y": [
            89,
            58,
            36,
            86
           ],
           "yaxis": "y"
          }
         ],
         "name": "466"
        },
        {
         "data": [
          {
           "hovertemplate": "state=edge_l<br>time=467<br>x=%{x}<br>y=%{y}<extra></extra>",
           "legendgroup": "edge_l",
           "marker": {
            "color": "#636efa",
            "symbol": "circle"
           },
           "mode": "markers",
           "name": "edge_l",
           "orientation": "v",
           "showlegend": true,
           "type": "scatter",
           "x": [
            34,
            7,
            25
           ],
           "xaxis": "x",
           "y": [
            4,
            73,
            8
           ],
           "yaxis": "y"
          },
          {
           "hovertemplate": "state=edge_r<br>time=467<br>x=%{x}<br>y=%{y}<extra></extra>",
           "legendgroup": "edge_r",
           "marker": {
            "color": "#EF553B",
            "symbol": "circle"
           },
           "mode": "markers",
           "name": "edge_r",
           "orientation": "v",
           "showlegend": true,
           "type": "scatter",
           "x": [
            76,
            86
           ],
           "xaxis": "x",
           "y": [
            92,
            17
           ],
           "yaxis": "y"
          },
          {
           "hovertemplate": "state=feed_l<br>time=467<br>x=%{x}<br>y=%{y}<extra></extra>",
           "legendgroup": "feed_l",
           "marker": {
            "color": "#00cc96",
            "symbol": "circle"
           },
           "mode": "markers",
           "name": "feed_l",
           "orientation": "v",
           "showlegend": true,
           "type": "scatter",
           "x": [
            11,
            17,
            19,
            13,
            11
           ],
           "xaxis": "x",
           "y": [
            49,
            51,
            47,
            39,
            56
           ],
           "yaxis": "y"
          },
          {
           "hovertemplate": "state=feed_r<br>time=467<br>x=%{x}<br>y=%{y}<extra></extra>",
           "legendgroup": "feed_r",
           "marker": {
            "color": "#ab63fa",
            "symbol": "circle"
           },
           "mode": "markers",
           "name": "feed_r",
           "orientation": "v",
           "showlegend": true,
           "type": "scatter",
           "x": [
            82,
            82
           ],
           "xaxis": "x",
           "y": [
            45,
            50
           ],
           "yaxis": "y"
          },
          {
           "hovertemplate": "state=search_l<br>time=467<br>x=%{x}<br>y=%{y}<extra></extra>",
           "legendgroup": "search_l",
           "marker": {
            "color": "#FFA15A",
            "symbol": "circle"
           },
           "mode": "markers",
           "name": "search_l",
           "orientation": "v",
           "showlegend": true,
           "type": "scatter",
           "x": [
            26,
            25,
            23
           ],
           "xaxis": "x",
           "y": [
            89,
            41,
            86
           ],
           "yaxis": "y"
          }
         ],
         "name": "467"
        },
        {
         "data": [
          {
           "hovertemplate": "state=edge_l<br>time=468<br>x=%{x}<br>y=%{y}<extra></extra>",
           "legendgroup": "edge_l",
           "marker": {
            "color": "#636efa",
            "symbol": "circle"
           },
           "mode": "markers",
           "name": "edge_l",
           "orientation": "v",
           "showlegend": true,
           "type": "scatter",
           "x": [
            30,
            8,
            25
           ],
           "xaxis": "x",
           "y": [
            6,
            75,
            8
           ],
           "yaxis": "y"
          },
          {
           "hovertemplate": "state=edge_r<br>time=468<br>x=%{x}<br>y=%{y}<extra></extra>",
           "legendgroup": "edge_r",
           "marker": {
            "color": "#EF553B",
            "symbol": "circle"
           },
           "mode": "markers",
           "name": "edge_r",
           "orientation": "v",
           "showlegend": true,
           "type": "scatter",
           "x": [
            78,
            86
           ],
           "xaxis": "x",
           "y": [
            90,
            18
           ],
           "yaxis": "y"
          },
          {
           "hovertemplate": "state=feed_l<br>time=468<br>x=%{x}<br>y=%{y}<extra></extra>",
           "legendgroup": "feed_l",
           "marker": {
            "color": "#00cc96",
            "symbol": "circle"
           },
           "mode": "markers",
           "name": "feed_l",
           "orientation": "v",
           "showlegend": true,
           "type": "scatter",
           "x": [
            11,
            17,
            19,
            13,
            12,
            24
           ],
           "xaxis": "x",
           "y": [
            49,
            51,
            47,
            39,
            53,
            46
           ],
           "yaxis": "y"
          },
          {
           "hovertemplate": "state=feed_r<br>time=468<br>x=%{x}<br>y=%{y}<extra></extra>",
           "legendgroup": "feed_r",
           "marker": {
            "color": "#ab63fa",
            "symbol": "circle"
           },
           "mode": "markers",
           "name": "feed_r",
           "orientation": "v",
           "showlegend": true,
           "type": "scatter",
           "x": [
            82,
            82
           ],
           "xaxis": "x",
           "y": [
            45,
            50
           ],
           "yaxis": "y"
          },
          {
           "hovertemplate": "state=search_l<br>time=468<br>x=%{x}<br>y=%{y}<extra></extra>",
           "legendgroup": "search_l",
           "marker": {
            "color": "#FFA15A",
            "symbol": "circle"
           },
           "mode": "markers",
           "name": "search_l",
           "orientation": "v",
           "showlegend": true,
           "type": "scatter",
           "x": [
            26,
            23
           ],
           "xaxis": "x",
           "y": [
            89,
            85
           ],
           "yaxis": "y"
          }
         ],
         "name": "468"
        },
        {
         "data": [
          {
           "hovertemplate": "state=edge_l<br>time=469<br>x=%{x}<br>y=%{y}<extra></extra>",
           "legendgroup": "edge_l",
           "marker": {
            "color": "#636efa",
            "symbol": "circle"
           },
           "mode": "markers",
           "name": "edge_l",
           "orientation": "v",
           "showlegend": true,
           "type": "scatter",
           "x": [
            27,
            10,
            24
           ],
           "xaxis": "x",
           "y": [
            6,
            77,
            9
           ],
           "yaxis": "y"
          },
          {
           "hovertemplate": "state=edge_r<br>time=469<br>x=%{x}<br>y=%{y}<extra></extra>",
           "legendgroup": "edge_r",
           "marker": {
            "color": "#EF553B",
            "symbol": "circle"
           },
           "mode": "markers",
           "name": "edge_r",
           "orientation": "v",
           "showlegend": true,
           "type": "scatter",
           "x": [
            79,
            91
           ],
           "xaxis": "x",
           "y": [
            89,
            25
           ],
           "yaxis": "y"
          },
          {
           "hovertemplate": "state=feed_l<br>time=469<br>x=%{x}<br>y=%{y}<extra></extra>",
           "legendgroup": "feed_l",
           "marker": {
            "color": "#00cc96",
            "symbol": "circle"
           },
           "mode": "markers",
           "name": "feed_l",
           "orientation": "v",
           "showlegend": true,
           "type": "scatter",
           "x": [
            11,
            17,
            19,
            13,
            12,
            23
           ],
           "xaxis": "x",
           "y": [
            49,
            51,
            47,
            39,
            53,
            50
           ],
           "yaxis": "y"
          },
          {
           "hovertemplate": "state=feed_r<br>time=469<br>x=%{x}<br>y=%{y}<extra></extra>",
           "legendgroup": "feed_r",
           "marker": {
            "color": "#ab63fa",
            "symbol": "circle"
           },
           "mode": "markers",
           "name": "feed_r",
           "orientation": "v",
           "showlegend": true,
           "type": "scatter",
           "x": [
            81,
            82
           ],
           "xaxis": "x",
           "y": [
            45,
            50
           ],
           "yaxis": "y"
          },
          {
           "hovertemplate": "state=search_l<br>time=469<br>x=%{x}<br>y=%{y}<extra></extra>",
           "legendgroup": "search_l",
           "marker": {
            "color": "#FFA15A",
            "symbol": "circle"
           },
           "mode": "markers",
           "name": "search_l",
           "orientation": "v",
           "showlegend": true,
           "type": "scatter",
           "x": [
            26,
            23
           ],
           "xaxis": "x",
           "y": [
            89,
            86
           ],
           "yaxis": "y"
          }
         ],
         "name": "469"
        },
        {
         "data": [
          {
           "hovertemplate": "state=edge_l<br>time=470<br>x=%{x}<br>y=%{y}<extra></extra>",
           "legendgroup": "edge_l",
           "marker": {
            "color": "#636efa",
            "symbol": "circle"
           },
           "mode": "markers",
           "name": "edge_l",
           "orientation": "v",
           "showlegend": true,
           "type": "scatter",
           "x": [
            26,
            10,
            23
           ],
           "xaxis": "x",
           "y": [
            7,
            78,
            9
           ],
           "yaxis": "y"
          },
          {
           "hovertemplate": "state=edge_r<br>time=470<br>x=%{x}<br>y=%{y}<extra></extra>",
           "legendgroup": "edge_r",
           "marker": {
            "color": "#EF553B",
            "symbol": "circle"
           },
           "mode": "markers",
           "name": "edge_r",
           "orientation": "v",
           "showlegend": true,
           "type": "scatter",
           "x": [
            81,
            96
           ],
           "xaxis": "x",
           "y": [
            88,
            34
           ],
           "yaxis": "y"
          },
          {
           "hovertemplate": "state=feed_l<br>time=470<br>x=%{x}<br>y=%{y}<extra></extra>",
           "legendgroup": "feed_l",
           "marker": {
            "color": "#00cc96",
            "symbol": "circle"
           },
           "mode": "markers",
           "name": "feed_l",
           "orientation": "v",
           "showlegend": true,
           "type": "scatter",
           "x": [
            11,
            17,
            19,
            12,
            12,
            20
           ],
           "xaxis": "x",
           "y": [
            49,
            51,
            47,
            41,
            53,
            54
           ],
           "yaxis": "y"
          },
          {
           "hovertemplate": "state=feed_r<br>time=470<br>x=%{x}<br>y=%{y}<extra></extra>",
           "legendgroup": "feed_r",
           "marker": {
            "color": "#ab63fa",
            "symbol": "circle"
           },
           "mode": "markers",
           "name": "feed_r",
           "orientation": "v",
           "showlegend": true,
           "type": "scatter",
           "x": [
            81,
            82
           ],
           "xaxis": "x",
           "y": [
            45,
            50
           ],
           "yaxis": "y"
          },
          {
           "hovertemplate": "state=search_l<br>time=470<br>x=%{x}<br>y=%{y}<extra></extra>",
           "legendgroup": "search_l",
           "marker": {
            "color": "#FFA15A",
            "symbol": "circle"
           },
           "mode": "markers",
           "name": "search_l",
           "orientation": "v",
           "showlegend": true,
           "type": "scatter",
           "x": [
            26,
            23
           ],
           "xaxis": "x",
           "y": [
            89,
            86
           ],
           "yaxis": "y"
          }
         ],
         "name": "470"
        },
        {
         "data": [
          {
           "hovertemplate": "state=edge_l<br>time=471<br>x=%{x}<br>y=%{y}<extra></extra>",
           "legendgroup": "edge_l",
           "marker": {
            "color": "#636efa",
            "symbol": "circle"
           },
           "mode": "markers",
           "name": "edge_l",
           "orientation": "v",
           "showlegend": true,
           "type": "scatter",
           "x": [
            25,
            11,
            23
           ],
           "xaxis": "x",
           "y": [
            8,
            80,
            10
           ],
           "yaxis": "y"
          },
          {
           "hovertemplate": "state=edge_r<br>time=471<br>x=%{x}<br>y=%{y}<extra></extra>",
           "legendgroup": "edge_r",
           "marker": {
            "color": "#EF553B",
            "symbol": "circle"
           },
           "mode": "markers",
           "name": "edge_r",
           "orientation": "v",
           "showlegend": true,
           "type": "scatter",
           "x": [
            82,
            98
           ],
           "xaxis": "x",
           "y": [
            87,
            40
           ],
           "yaxis": "y"
          },
          {
           "hovertemplate": "state=feed_l<br>time=471<br>x=%{x}<br>y=%{y}<extra></extra>",
           "legendgroup": "feed_l",
           "marker": {
            "color": "#00cc96",
            "symbol": "circle"
           },
           "mode": "markers",
           "name": "feed_l",
           "orientation": "v",
           "showlegend": true,
           "type": "scatter",
           "x": [
            11,
            17,
            19,
            12,
            13,
            16
           ],
           "xaxis": "x",
           "y": [
            48,
            51,
            47,
            43,
            52,
            57
           ],
           "yaxis": "y"
          },
          {
           "hovertemplate": "state=feed_r<br>time=471<br>x=%{x}<br>y=%{y}<extra></extra>",
           "legendgroup": "feed_r",
           "marker": {
            "color": "#ab63fa",
            "symbol": "circle"
           },
           "mode": "markers",
           "name": "feed_r",
           "orientation": "v",
           "showlegend": true,
           "type": "scatter",
           "x": [
            81,
            82
           ],
           "xaxis": "x",
           "y": [
            45,
            50
           ],
           "yaxis": "y"
          },
          {
           "hovertemplate": "state=search_l<br>time=471<br>x=%{x}<br>y=%{y}<extra></extra>",
           "legendgroup": "search_l",
           "marker": {
            "color": "#FFA15A",
            "symbol": "circle"
           },
           "mode": "markers",
           "name": "search_l",
           "orientation": "v",
           "showlegend": true,
           "type": "scatter",
           "x": [
            26,
            23
           ],
           "xaxis": "x",
           "y": [
            89,
            86
           ],
           "yaxis": "y"
          }
         ],
         "name": "471"
        },
        {
         "data": [
          {
           "hovertemplate": "state=edge_l<br>time=472<br>x=%{x}<br>y=%{y}<extra></extra>",
           "legendgroup": "edge_l",
           "marker": {
            "color": "#636efa",
            "symbol": "circle"
           },
           "mode": "markers",
           "name": "edge_l",
           "orientation": "v",
           "showlegend": true,
           "type": "scatter",
           "x": [
            25,
            13,
            22
           ],
           "xaxis": "x",
           "y": [
            8,
            81,
            10
           ],
           "yaxis": "y"
          },
          {
           "hovertemplate": "state=edge_r<br>time=472<br>x=%{x}<br>y=%{y}<extra></extra>",
           "legendgroup": "edge_r",
           "marker": {
            "color": "#EF553B",
            "symbol": "circle"
           },
           "mode": "markers",
           "name": "edge_r",
           "orientation": "v",
           "showlegend": true,
           "type": "scatter",
           "x": [
            84,
            99
           ],
           "xaxis": "x",
           "y": [
            85,
            44
           ],
           "yaxis": "y"
          },
          {
           "hovertemplate": "state=feed_l<br>time=472<br>x=%{x}<br>y=%{y}<extra></extra>",
           "legendgroup": "feed_l",
           "marker": {
            "color": "#00cc96",
            "symbol": "circle"
           },
           "mode": "markers",
           "name": "feed_l",
           "orientation": "v",
           "showlegend": true,
           "type": "scatter",
           "x": [
            10,
            17,
            19,
            12,
            14
           ],
           "xaxis": "x",
           "y": [
            48,
            52,
            47,
            44,
            51
           ],
           "yaxis": "y"
          },
          {
           "hovertemplate": "state=feed_r<br>time=472<br>x=%{x}<br>y=%{y}<extra></extra>",
           "legendgroup": "feed_r",
           "marker": {
            "color": "#ab63fa",
            "symbol": "circle"
           },
           "mode": "markers",
           "name": "feed_r",
           "orientation": "v",
           "showlegend": true,
           "type": "scatter",
           "x": [
            81,
            81
           ],
           "xaxis": "x",
           "y": [
            45,
            50
           ],
           "yaxis": "y"
          },
          {
           "hovertemplate": "state=search_l<br>time=472<br>x=%{x}<br>y=%{y}<extra></extra>",
           "legendgroup": "search_l",
           "marker": {
            "color": "#FFA15A",
            "symbol": "circle"
           },
           "mode": "markers",
           "name": "search_l",
           "orientation": "v",
           "showlegend": true,
           "type": "scatter",
           "x": [
            26,
            11,
            23
           ],
           "xaxis": "x",
           "y": [
            89,
            59,
            86
           ],
           "yaxis": "y"
          }
         ],
         "name": "472"
        },
        {
         "data": [
          {
           "hovertemplate": "state=edge_l<br>time=473<br>x=%{x}<br>y=%{y}<extra></extra>",
           "legendgroup": "edge_l",
           "marker": {
            "color": "#636efa",
            "symbol": "circle"
           },
           "mode": "markers",
           "name": "edge_l",
           "orientation": "v",
           "showlegend": true,
           "type": "scatter",
           "x": [
            25,
            14,
            21
           ],
           "xaxis": "x",
           "y": [
            8,
            83,
            10
           ],
           "yaxis": "y"
          },
          {
           "hovertemplate": "state=edge_r<br>time=473<br>x=%{x}<br>y=%{y}<extra></extra>",
           "legendgroup": "edge_r",
           "marker": {
            "color": "#EF553B",
            "symbol": "circle"
           },
           "mode": "markers",
           "name": "edge_r",
           "orientation": "v",
           "showlegend": true,
           "type": "scatter",
           "x": [
            86,
            99
           ],
           "xaxis": "x",
           "y": [
            84,
            48
           ],
           "yaxis": "y"
          },
          {
           "hovertemplate": "state=feed_l<br>time=473<br>x=%{x}<br>y=%{y}<extra></extra>",
           "legendgroup": "feed_l",
           "marker": {
            "color": "#00cc96",
            "symbol": "circle"
           },
           "mode": "markers",
           "name": "feed_l",
           "orientation": "v",
           "showlegend": true,
           "type": "scatter",
           "x": [
            10,
            17,
            19,
            12,
            14
           ],
           "xaxis": "x",
           "y": [
            48,
            52,
            48,
            44,
            50
           ],
           "yaxis": "y"
          },
          {
           "hovertemplate": "state=feed_r<br>time=473<br>x=%{x}<br>y=%{y}<extra></extra>",
           "legendgroup": "feed_r",
           "marker": {
            "color": "#ab63fa",
            "symbol": "circle"
           },
           "mode": "markers",
           "name": "feed_r",
           "orientation": "v",
           "showlegend": true,
           "type": "scatter",
           "x": [
            81,
            81
           ],
           "xaxis": "x",
           "y": [
            45,
            50
           ],
           "yaxis": "y"
          },
          {
           "hovertemplate": "state=search_l<br>time=473<br>x=%{x}<br>y=%{y}<extra></extra>",
           "legendgroup": "search_l",
           "marker": {
            "color": "#FFA15A",
            "symbol": "circle"
           },
           "mode": "markers",
           "name": "search_l",
           "orientation": "v",
           "showlegend": true,
           "type": "scatter",
           "x": [
            26,
            6,
            23
           ],
           "xaxis": "x",
           "y": [
            89,
            61,
            86
           ],
           "yaxis": "y"
          }
         ],
         "name": "473"
        },
        {
         "data": [
          {
           "hovertemplate": "state=edge_l<br>time=474<br>x=%{x}<br>y=%{y}<extra></extra>",
           "legendgroup": "edge_l",
           "marker": {
            "color": "#636efa",
            "symbol": "circle"
           },
           "mode": "markers",
           "name": "edge_l",
           "orientation": "v",
           "showlegend": true,
           "type": "scatter",
           "x": [
            24,
            16,
            3,
            19
           ],
           "xaxis": "x",
           "y": [
            9,
            85,
            61,
            12
           ],
           "yaxis": "y"
          },
          {
           "hovertemplate": "state=edge_r<br>time=474<br>x=%{x}<br>y=%{y}<extra></extra>",
           "legendgroup": "edge_r",
           "marker": {
            "color": "#EF553B",
            "symbol": "circle"
           },
           "mode": "markers",
           "name": "edge_r",
           "orientation": "v",
           "showlegend": true,
           "type": "scatter",
           "x": [
            88,
            98
           ],
           "xaxis": "x",
           "y": [
            82,
            52
           ],
           "yaxis": "y"
          },
          {
           "hovertemplate": "state=feed_l<br>time=474<br>x=%{x}<br>y=%{y}<extra></extra>",
           "legendgroup": "feed_l",
           "marker": {
            "color": "#00cc96",
            "symbol": "circle"
           },
           "mode": "markers",
           "name": "feed_l",
           "orientation": "v",
           "showlegend": true,
           "type": "scatter",
           "x": [
            10,
            16,
            19,
            12
           ],
           "xaxis": "x",
           "y": [
            48,
            53,
            48,
            44
           ],
           "yaxis": "y"
          },
          {
           "hovertemplate": "state=feed_r<br>time=474<br>x=%{x}<br>y=%{y}<extra></extra>",
           "legendgroup": "feed_r",
           "marker": {
            "color": "#ab63fa",
            "symbol": "circle"
           },
           "mode": "markers",
           "name": "feed_r",
           "orientation": "v",
           "showlegend": true,
           "type": "scatter",
           "x": [
            81,
            81
           ],
           "xaxis": "x",
           "y": [
            45,
            50
           ],
           "yaxis": "y"
          },
          {
           "hovertemplate": "state=search_l<br>time=474<br>x=%{x}<br>y=%{y}<extra></extra>",
           "legendgroup": "search_l",
           "marker": {
            "color": "#FFA15A",
            "symbol": "circle"
           },
           "mode": "markers",
           "name": "search_l",
           "orientation": "v",
           "showlegend": true,
           "type": "scatter",
           "x": [
            26,
            15,
            23
           ],
           "xaxis": "x",
           "y": [
            89,
            48,
            86
           ],
           "yaxis": "y"
          }
         ],
         "name": "474"
        },
        {
         "data": [
          {
           "hovertemplate": "state=edge_l<br>time=475<br>x=%{x}<br>y=%{y}<extra></extra>",
           "legendgroup": "edge_l",
           "marker": {
            "color": "#636efa",
            "symbol": "circle"
           },
           "mode": "markers",
           "name": "edge_l",
           "orientation": "v",
           "showlegend": true,
           "type": "scatter",
           "x": [
            22,
            18,
            3,
            18
           ],
           "xaxis": "x",
           "y": [
            9,
            87,
            60,
            13
           ],
           "yaxis": "y"
          },
          {
           "hovertemplate": "state=edge_r<br>time=475<br>x=%{x}<br>y=%{y}<extra></extra>",
           "legendgroup": "edge_r",
           "marker": {
            "color": "#EF553B",
            "symbol": "circle"
           },
           "mode": "markers",
           "name": "edge_r",
           "orientation": "v",
           "showlegend": true,
           "type": "scatter",
           "x": [
            89,
            98
           ],
           "xaxis": "x",
           "y": [
            80,
            52
           ],
           "yaxis": "y"
          },
          {
           "hovertemplate": "state=feed_l<br>time=475<br>x=%{x}<br>y=%{y}<extra></extra>",
           "legendgroup": "feed_l",
           "marker": {
            "color": "#00cc96",
            "symbol": "circle"
           },
           "mode": "markers",
           "name": "feed_l",
           "orientation": "v",
           "showlegend": true,
           "type": "scatter",
           "x": [
            10,
            18,
            19,
            12,
            15
           ],
           "xaxis": "x",
           "y": [
            49,
            53,
            47,
            43,
            47
           ],
           "yaxis": "y"
          },
          {
           "hovertemplate": "state=feed_r<br>time=475<br>x=%{x}<br>y=%{y}<extra></extra>",
           "legendgroup": "feed_r",
           "marker": {
            "color": "#ab63fa",
            "symbol": "circle"
           },
           "mode": "markers",
           "name": "feed_r",
           "orientation": "v",
           "showlegend": true,
           "type": "scatter",
           "x": [
            81,
            81
           ],
           "xaxis": "x",
           "y": [
            45,
            50
           ],
           "yaxis": "y"
          },
          {
           "hovertemplate": "state=search_l<br>time=475<br>x=%{x}<br>y=%{y}<extra></extra>",
           "legendgroup": "search_l",
           "marker": {
            "color": "#FFA15A",
            "symbol": "circle"
           },
           "mode": "markers",
           "name": "search_l",
           "orientation": "v",
           "showlegend": true,
           "type": "scatter",
           "x": [
            26,
            23
           ],
           "xaxis": "x",
           "y": [
            89,
            86
           ],
           "yaxis": "y"
          }
         ],
         "name": "475"
        },
        {
         "data": [
          {
           "hovertemplate": "state=edge_l<br>time=476<br>x=%{x}<br>y=%{y}<extra></extra>",
           "legendgroup": "edge_l",
           "marker": {
            "color": "#636efa",
            "symbol": "circle"
           },
           "mode": "markers",
           "name": "edge_l",
           "orientation": "v",
           "showlegend": true,
           "type": "scatter",
           "x": [
            22,
            20,
            3,
            18
           ],
           "xaxis": "x",
           "y": [
            10,
            88,
            61,
            13
           ],
           "yaxis": "y"
          },
          {
           "hovertemplate": "state=edge_r<br>time=476<br>x=%{x}<br>y=%{y}<extra></extra>",
           "legendgroup": "edge_r",
           "marker": {
            "color": "#EF553B",
            "symbol": "circle"
           },
           "mode": "markers",
           "name": "edge_r",
           "orientation": "v",
           "showlegend": true,
           "type": "scatter",
           "x": [
            90,
            98
           ],
           "xaxis": "x",
           "y": [
            78,
            52
           ],
           "yaxis": "y"
          },
          {
           "hovertemplate": "state=feed_l<br>time=476<br>x=%{x}<br>y=%{y}<extra></extra>",
           "legendgroup": "feed_l",
           "marker": {
            "color": "#00cc96",
            "symbol": "circle"
           },
           "mode": "markers",
           "name": "feed_l",
           "orientation": "v",
           "showlegend": true,
           "type": "scatter",
           "x": [
            10,
            21,
            19,
            16,
            15
           ],
           "xaxis": "x",
           "y": [
            49,
            53,
            47,
            41,
            47
           ],
           "yaxis": "y"
          },
          {
           "hovertemplate": "state=feed_r<br>time=476<br>x=%{x}<br>y=%{y}<extra></extra>",
           "legendgroup": "feed_r",
           "marker": {
            "color": "#ab63fa",
            "symbol": "circle"
           },
           "mode": "markers",
           "name": "feed_r",
           "orientation": "v",
           "showlegend": true,
           "type": "scatter",
           "x": [
            81,
            81
           ],
           "xaxis": "x",
           "y": [
            45,
            51
           ],
           "yaxis": "y"
          },
          {
           "hovertemplate": "state=search_l<br>time=476<br>x=%{x}<br>y=%{y}<extra></extra>",
           "legendgroup": "search_l",
           "marker": {
            "color": "#FFA15A",
            "symbol": "circle"
           },
           "mode": "markers",
           "name": "search_l",
           "orientation": "v",
           "showlegend": true,
           "type": "scatter",
           "x": [
            26,
            23
           ],
           "xaxis": "x",
           "y": [
            89,
            86
           ],
           "yaxis": "y"
          }
         ],
         "name": "476"
        },
        {
         "data": [
          {
           "hovertemplate": "state=edge_l<br>time=477<br>x=%{x}<br>y=%{y}<extra></extra>",
           "legendgroup": "edge_l",
           "marker": {
            "color": "#636efa",
            "symbol": "circle"
           },
           "mode": "markers",
           "name": "edge_l",
           "orientation": "v",
           "showlegend": true,
           "type": "scatter",
           "x": [
            21,
            21,
            3,
            18
           ],
           "xaxis": "x",
           "y": [
            10,
            90,
            63,
            13
           ],
           "yaxis": "y"
          },
          {
           "hovertemplate": "state=edge_r<br>time=477<br>x=%{x}<br>y=%{y}<extra></extra>",
           "legendgroup": "edge_r",
           "marker": {
            "color": "#EF553B",
            "symbol": "circle"
           },
           "mode": "markers",
           "name": "edge_r",
           "orientation": "v",
           "showlegend": true,
           "type": "scatter",
           "x": [
            92,
            98
           ],
           "xaxis": "x",
           "y": [
            76,
            52
           ],
           "yaxis": "y"
          },
          {
           "hovertemplate": "state=feed_l<br>time=477<br>x=%{x}<br>y=%{y}<extra></extra>",
           "legendgroup": "feed_l",
           "marker": {
            "color": "#00cc96",
            "symbol": "circle"
           },
           "mode": "markers",
           "name": "feed_l",
           "orientation": "v",
           "showlegend": true,
           "type": "scatter",
           "x": [
            10,
            22,
            19,
            16
           ],
           "xaxis": "x",
           "y": [
            49,
            52,
            47,
            49
           ],
           "yaxis": "y"
          },
          {
           "hovertemplate": "state=feed_r<br>time=477<br>x=%{x}<br>y=%{y}<extra></extra>",
           "legendgroup": "feed_r",
           "marker": {
            "color": "#ab63fa",
            "symbol": "circle"
           },
           "mode": "markers",
           "name": "feed_r",
           "orientation": "v",
           "showlegend": true,
           "type": "scatter",
           "x": [
            81,
            81
           ],
           "xaxis": "x",
           "y": [
            45,
            51
           ],
           "yaxis": "y"
          },
          {
           "hovertemplate": "state=search_l<br>time=477<br>x=%{x}<br>y=%{y}<extra></extra>",
           "legendgroup": "search_l",
           "marker": {
            "color": "#FFA15A",
            "symbol": "circle"
           },
           "mode": "markers",
           "name": "search_l",
           "orientation": "v",
           "showlegend": true,
           "type": "scatter",
           "x": [
            26,
            21,
            23
           ],
           "xaxis": "x",
           "y": [
            89,
            38,
            86
           ],
           "yaxis": "y"
          }
         ],
         "name": "477"
        },
        {
         "data": [
          {
           "hovertemplate": "state=edge_l<br>time=478<br>x=%{x}<br>y=%{y}<extra></extra>",
           "legendgroup": "edge_l",
           "marker": {
            "color": "#636efa",
            "symbol": "circle"
           },
           "mode": "markers",
           "name": "edge_l",
           "orientation": "v",
           "showlegend": true,
           "type": "scatter",
           "x": [
            19,
            23,
            4,
            18
           ],
           "xaxis": "x",
           "y": [
            12,
            91,
            65,
            14
           ],
           "yaxis": "y"
          },
          {
           "hovertemplate": "state=edge_r<br>time=478<br>x=%{x}<br>y=%{y}<extra></extra>",
           "legendgroup": "edge_r",
           "marker": {
            "color": "#EF553B",
            "symbol": "circle"
           },
           "mode": "markers",
           "name": "edge_r",
           "orientation": "v",
           "showlegend": true,
           "type": "scatter",
           "x": [
            93,
            98
           ],
           "xaxis": "x",
           "y": [
            73,
            53
           ],
           "yaxis": "y"
          },
          {
           "hovertemplate": "state=feed_l<br>time=478<br>x=%{x}<br>y=%{y}<extra></extra>",
           "legendgroup": "feed_l",
           "marker": {
            "color": "#00cc96",
            "symbol": "circle"
           },
           "mode": "markers",
           "name": "feed_l",
           "orientation": "v",
           "showlegend": true,
           "type": "scatter",
           "x": [
            10,
            23,
            19,
            21
           ],
           "xaxis": "x",
           "y": [
            49,
            49,
            48,
            53
           ],
           "yaxis": "y"
          },
          {
           "hovertemplate": "state=feed_r<br>time=478<br>x=%{x}<br>y=%{y}<extra></extra>",
           "legendgroup": "feed_r",
           "marker": {
            "color": "#ab63fa",
            "symbol": "circle"
           },
           "mode": "markers",
           "name": "feed_r",
           "orientation": "v",
           "showlegend": true,
           "type": "scatter",
           "x": [
            81,
            81
           ],
           "xaxis": "x",
           "y": [
            45,
            51
           ],
           "yaxis": "y"
          },
          {
           "hovertemplate": "state=search_l<br>time=478<br>x=%{x}<br>y=%{y}<extra></extra>",
           "legendgroup": "search_l",
           "marker": {
            "color": "#FFA15A",
            "symbol": "circle"
           },
           "mode": "markers",
           "name": "search_l",
           "orientation": "v",
           "showlegend": true,
           "type": "scatter",
           "x": [
            26,
            25,
            23
           ],
           "xaxis": "x",
           "y": [
            89,
            33,
            86
           ],
           "yaxis": "y"
          }
         ],
         "name": "478"
        },
        {
         "data": [
          {
           "hovertemplate": "state=edge_l<br>time=479<br>x=%{x}<br>y=%{y}<extra></extra>",
           "legendgroup": "edge_l",
           "marker": {
            "color": "#636efa",
            "symbol": "circle"
           },
           "mode": "markers",
           "name": "edge_l",
           "orientation": "v",
           "showlegend": true,
           "type": "scatter",
           "x": [
            19,
            25,
            4,
            17
           ],
           "xaxis": "x",
           "y": [
            12,
            92,
            67,
            14
           ],
           "yaxis": "y"
          },
          {
           "hovertemplate": "state=edge_r<br>time=479<br>x=%{x}<br>y=%{y}<extra></extra>",
           "legendgroup": "edge_r",
           "marker": {
            "color": "#EF553B",
            "symbol": "circle"
           },
           "mode": "markers",
           "name": "edge_r",
           "orientation": "v",
           "showlegend": true,
           "type": "scatter",
           "x": [
            94,
            98
           ],
           "xaxis": "x",
           "y": [
            71,
            53
           ],
           "yaxis": "y"
          },
          {
           "hovertemplate": "state=feed_l<br>time=479<br>x=%{x}<br>y=%{y}<extra></extra>",
           "legendgroup": "feed_l",
           "marker": {
            "color": "#00cc96",
            "symbol": "circle"
           },
           "mode": "markers",
           "name": "feed_l",
           "orientation": "v",
           "showlegend": true,
           "type": "scatter",
           "x": [
            10,
            23,
            19
           ],
           "xaxis": "x",
           "y": [
            49,
            47,
            49
           ],
           "yaxis": "y"
          },
          {
           "hovertemplate": "state=feed_r<br>time=479<br>x=%{x}<br>y=%{y}<extra></extra>",
           "legendgroup": "feed_r",
           "marker": {
            "color": "#ab63fa",
            "symbol": "circle"
           },
           "mode": "markers",
           "name": "feed_r",
           "orientation": "v",
           "showlegend": true,
           "type": "scatter",
           "x": [
            81,
            81
           ],
           "xaxis": "x",
           "y": [
            45,
            52
           ],
           "yaxis": "y"
          },
          {
           "hovertemplate": "state=search_l<br>time=479<br>x=%{x}<br>y=%{y}<extra></extra>",
           "legendgroup": "search_l",
           "marker": {
            "color": "#FFA15A",
            "symbol": "circle"
           },
           "mode": "markers",
           "name": "search_l",
           "orientation": "v",
           "showlegend": true,
           "type": "scatter",
           "x": [
            26,
            27,
            28,
            23
           ],
           "xaxis": "x",
           "y": [
            89,
            29,
            53,
            86
           ],
           "yaxis": "y"
          }
         ],
         "name": "479"
        },
        {
         "data": [
          {
           "hovertemplate": "state=edge_l<br>time=480<br>x=%{x}<br>y=%{y}<extra></extra>",
           "legendgroup": "edge_l",
           "marker": {
            "color": "#636efa",
            "symbol": "circle"
           },
           "mode": "markers",
           "name": "edge_l",
           "orientation": "v",
           "showlegend": true,
           "type": "scatter",
           "x": [
            19,
            28,
            5,
            17
           ],
           "xaxis": "x",
           "y": [
            12,
            93,
            69,
            14
           ],
           "yaxis": "y"
          },
          {
           "hovertemplate": "state=edge_r<br>time=480<br>x=%{x}<br>y=%{y}<extra></extra>",
           "legendgroup": "edge_r",
           "marker": {
            "color": "#EF553B",
            "symbol": "circle"
           },
           "mode": "markers",
           "name": "edge_r",
           "orientation": "v",
           "showlegend": true,
           "type": "scatter",
           "x": [
            95,
            98
           ],
           "xaxis": "x",
           "y": [
            69,
            58
           ],
           "yaxis": "y"
          },
          {
           "hovertemplate": "state=feed_l<br>time=480<br>x=%{x}<br>y=%{y}<extra></extra>",
           "legendgroup": "feed_l",
           "marker": {
            "color": "#00cc96",
            "symbol": "circle"
           },
           "mode": "markers",
           "name": "feed_l",
           "orientation": "v",
           "showlegend": true,
           "type": "scatter",
           "x": [
            10,
            21,
            19
           ],
           "xaxis": "x",
           "y": [
            49,
            46,
            49
           ],
           "yaxis": "y"
          },
          {
           "hovertemplate": "state=feed_r<br>time=480<br>x=%{x}<br>y=%{y}<extra></extra>",
           "legendgroup": "feed_r",
           "marker": {
            "color": "#ab63fa",
            "symbol": "circle"
           },
           "mode": "markers",
           "name": "feed_r",
           "orientation": "v",
           "showlegend": true,
           "type": "scatter",
           "x": [
            81,
            81
           ],
           "xaxis": "x",
           "y": [
            45,
            52
           ],
           "yaxis": "y"
          },
          {
           "hovertemplate": "state=search_l<br>time=480<br>x=%{x}<br>y=%{y}<extra></extra>",
           "legendgroup": "search_l",
           "marker": {
            "color": "#FFA15A",
            "symbol": "circle"
           },
           "mode": "markers",
           "name": "search_l",
           "orientation": "v",
           "showlegend": true,
           "type": "scatter",
           "x": [
            26,
            28,
            34,
            23
           ],
           "xaxis": "x",
           "y": [
            89,
            25,
            53,
            86
           ],
           "yaxis": "y"
          }
         ],
         "name": "480"
        }
       ],
       "layout": {
        "autosize": false,
        "height": 600,
        "legend": {
         "title": {
          "text": "state"
         },
         "tracegroupgap": 0
        },
        "margin": {
         "t": 60
        },
        "sliders": [
         {
          "active": 0,
          "currentvalue": {
           "prefix": "time="
          },
          "len": 0.9,
          "pad": {
           "b": 10,
           "t": 60
          },
          "steps": [
           {
            "args": [
             [
              "419"
             ],
             {
              "frame": {
               "duration": 0,
               "redraw": false
              },
              "fromcurrent": true,
              "mode": "immediate",
              "transition": {
               "duration": 0,
               "easing": "linear"
              }
             }
            ],
            "label": "419",
            "method": "animate"
           },
           {
            "args": [
             [
              "420"
             ],
             {
              "frame": {
               "duration": 0,
               "redraw": false
              },
              "fromcurrent": true,
              "mode": "immediate",
              "transition": {
               "duration": 0,
               "easing": "linear"
              }
             }
            ],
            "label": "420",
            "method": "animate"
           },
           {
            "args": [
             [
              "421"
             ],
             {
              "frame": {
               "duration": 0,
               "redraw": false
              },
              "fromcurrent": true,
              "mode": "immediate",
              "transition": {
               "duration": 0,
               "easing": "linear"
              }
             }
            ],
            "label": "421",
            "method": "animate"
           },
           {
            "args": [
             [
              "422"
             ],
             {
              "frame": {
               "duration": 0,
               "redraw": false
              },
              "fromcurrent": true,
              "mode": "immediate",
              "transition": {
               "duration": 0,
               "easing": "linear"
              }
             }
            ],
            "label": "422",
            "method": "animate"
           },
           {
            "args": [
             [
              "423"
             ],
             {
              "frame": {
               "duration": 0,
               "redraw": false
              },
              "fromcurrent": true,
              "mode": "immediate",
              "transition": {
               "duration": 0,
               "easing": "linear"
              }
             }
            ],
            "label": "423",
            "method": "animate"
           },
           {
            "args": [
             [
              "424"
             ],
             {
              "frame": {
               "duration": 0,
               "redraw": false
              },
              "fromcurrent": true,
              "mode": "immediate",
              "transition": {
               "duration": 0,
               "easing": "linear"
              }
             }
            ],
            "label": "424",
            "method": "animate"
           },
           {
            "args": [
             [
              "425"
             ],
             {
              "frame": {
               "duration": 0,
               "redraw": false
              },
              "fromcurrent": true,
              "mode": "immediate",
              "transition": {
               "duration": 0,
               "easing": "linear"
              }
             }
            ],
            "label": "425",
            "method": "animate"
           },
           {
            "args": [
             [
              "426"
             ],
             {
              "frame": {
               "duration": 0,
               "redraw": false
              },
              "fromcurrent": true,
              "mode": "immediate",
              "transition": {
               "duration": 0,
               "easing": "linear"
              }
             }
            ],
            "label": "426",
            "method": "animate"
           },
           {
            "args": [
             [
              "427"
             ],
             {
              "frame": {
               "duration": 0,
               "redraw": false
              },
              "fromcurrent": true,
              "mode": "immediate",
              "transition": {
               "duration": 0,
               "easing": "linear"
              }
             }
            ],
            "label": "427",
            "method": "animate"
           },
           {
            "args": [
             [
              "428"
             ],
             {
              "frame": {
               "duration": 0,
               "redraw": false
              },
              "fromcurrent": true,
              "mode": "immediate",
              "transition": {
               "duration": 0,
               "easing": "linear"
              }
             }
            ],
            "label": "428",
            "method": "animate"
           },
           {
            "args": [
             [
              "429"
             ],
             {
              "frame": {
               "duration": 0,
               "redraw": false
              },
              "fromcurrent": true,
              "mode": "immediate",
              "transition": {
               "duration": 0,
               "easing": "linear"
              }
             }
            ],
            "label": "429",
            "method": "animate"
           },
           {
            "args": [
             [
              "430"
             ],
             {
              "frame": {
               "duration": 0,
               "redraw": false
              },
              "fromcurrent": true,
              "mode": "immediate",
              "transition": {
               "duration": 0,
               "easing": "linear"
              }
             }
            ],
            "label": "430",
            "method": "animate"
           },
           {
            "args": [
             [
              "431"
             ],
             {
              "frame": {
               "duration": 0,
               "redraw": false
              },
              "fromcurrent": true,
              "mode": "immediate",
              "transition": {
               "duration": 0,
               "easing": "linear"
              }
             }
            ],
            "label": "431",
            "method": "animate"
           },
           {
            "args": [
             [
              "432"
             ],
             {
              "frame": {
               "duration": 0,
               "redraw": false
              },
              "fromcurrent": true,
              "mode": "immediate",
              "transition": {
               "duration": 0,
               "easing": "linear"
              }
             }
            ],
            "label": "432",
            "method": "animate"
           },
           {
            "args": [
             [
              "433"
             ],
             {
              "frame": {
               "duration": 0,
               "redraw": false
              },
              "fromcurrent": true,
              "mode": "immediate",
              "transition": {
               "duration": 0,
               "easing": "linear"
              }
             }
            ],
            "label": "433",
            "method": "animate"
           },
           {
            "args": [
             [
              "434"
             ],
             {
              "frame": {
               "duration": 0,
               "redraw": false
              },
              "fromcurrent": true,
              "mode": "immediate",
              "transition": {
               "duration": 0,
               "easing": "linear"
              }
             }
            ],
            "label": "434",
            "method": "animate"
           },
           {
            "args": [
             [
              "435"
             ],
             {
              "frame": {
               "duration": 0,
               "redraw": false
              },
              "fromcurrent": true,
              "mode": "immediate",
              "transition": {
               "duration": 0,
               "easing": "linear"
              }
             }
            ],
            "label": "435",
            "method": "animate"
           },
           {
            "args": [
             [
              "436"
             ],
             {
              "frame": {
               "duration": 0,
               "redraw": false
              },
              "fromcurrent": true,
              "mode": "immediate",
              "transition": {
               "duration": 0,
               "easing": "linear"
              }
             }
            ],
            "label": "436",
            "method": "animate"
           },
           {
            "args": [
             [
              "437"
             ],
             {
              "frame": {
               "duration": 0,
               "redraw": false
              },
              "fromcurrent": true,
              "mode": "immediate",
              "transition": {
               "duration": 0,
               "easing": "linear"
              }
             }
            ],
            "label": "437",
            "method": "animate"
           },
           {
            "args": [
             [
              "438"
             ],
             {
              "frame": {
               "duration": 0,
               "redraw": false
              },
              "fromcurrent": true,
              "mode": "immediate",
              "transition": {
               "duration": 0,
               "easing": "linear"
              }
             }
            ],
            "label": "438",
            "method": "animate"
           },
           {
            "args": [
             [
              "439"
             ],
             {
              "frame": {
               "duration": 0,
               "redraw": false
              },
              "fromcurrent": true,
              "mode": "immediate",
              "transition": {
               "duration": 0,
               "easing": "linear"
              }
             }
            ],
            "label": "439",
            "method": "animate"
           },
           {
            "args": [
             [
              "440"
             ],
             {
              "frame": {
               "duration": 0,
               "redraw": false
              },
              "fromcurrent": true,
              "mode": "immediate",
              "transition": {
               "duration": 0,
               "easing": "linear"
              }
             }
            ],
            "label": "440",
            "method": "animate"
           },
           {
            "args": [
             [
              "441"
             ],
             {
              "frame": {
               "duration": 0,
               "redraw": false
              },
              "fromcurrent": true,
              "mode": "immediate",
              "transition": {
               "duration": 0,
               "easing": "linear"
              }
             }
            ],
            "label": "441",
            "method": "animate"
           },
           {
            "args": [
             [
              "442"
             ],
             {
              "frame": {
               "duration": 0,
               "redraw": false
              },
              "fromcurrent": true,
              "mode": "immediate",
              "transition": {
               "duration": 0,
               "easing": "linear"
              }
             }
            ],
            "label": "442",
            "method": "animate"
           },
           {
            "args": [
             [
              "443"
             ],
             {
              "frame": {
               "duration": 0,
               "redraw": false
              },
              "fromcurrent": true,
              "mode": "immediate",
              "transition": {
               "duration": 0,
               "easing": "linear"
              }
             }
            ],
            "label": "443",
            "method": "animate"
           },
           {
            "args": [
             [
              "444"
             ],
             {
              "frame": {
               "duration": 0,
               "redraw": false
              },
              "fromcurrent": true,
              "mode": "immediate",
              "transition": {
               "duration": 0,
               "easing": "linear"
              }
             }
            ],
            "label": "444",
            "method": "animate"
           },
           {
            "args": [
             [
              "445"
             ],
             {
              "frame": {
               "duration": 0,
               "redraw": false
              },
              "fromcurrent": true,
              "mode": "immediate",
              "transition": {
               "duration": 0,
               "easing": "linear"
              }
             }
            ],
            "label": "445",
            "method": "animate"
           },
           {
            "args": [
             [
              "446"
             ],
             {
              "frame": {
               "duration": 0,
               "redraw": false
              },
              "fromcurrent": true,
              "mode": "immediate",
              "transition": {
               "duration": 0,
               "easing": "linear"
              }
             }
            ],
            "label": "446",
            "method": "animate"
           },
           {
            "args": [
             [
              "447"
             ],
             {
              "frame": {
               "duration": 0,
               "redraw": false
              },
              "fromcurrent": true,
              "mode": "immediate",
              "transition": {
               "duration": 0,
               "easing": "linear"
              }
             }
            ],
            "label": "447",
            "method": "animate"
           },
           {
            "args": [
             [
              "448"
             ],
             {
              "frame": {
               "duration": 0,
               "redraw": false
              },
              "fromcurrent": true,
              "mode": "immediate",
              "transition": {
               "duration": 0,
               "easing": "linear"
              }
             }
            ],
            "label": "448",
            "method": "animate"
           },
           {
            "args": [
             [
              "449"
             ],
             {
              "frame": {
               "duration": 0,
               "redraw": false
              },
              "fromcurrent": true,
              "mode": "immediate",
              "transition": {
               "duration": 0,
               "easing": "linear"
              }
             }
            ],
            "label": "449",
            "method": "animate"
           },
           {
            "args": [
             [
              "450"
             ],
             {
              "frame": {
               "duration": 0,
               "redraw": false
              },
              "fromcurrent": true,
              "mode": "immediate",
              "transition": {
               "duration": 0,
               "easing": "linear"
              }
             }
            ],
            "label": "450",
            "method": "animate"
           },
           {
            "args": [
             [
              "451"
             ],
             {
              "frame": {
               "duration": 0,
               "redraw": false
              },
              "fromcurrent": true,
              "mode": "immediate",
              "transition": {
               "duration": 0,
               "easing": "linear"
              }
             }
            ],
            "label": "451",
            "method": "animate"
           },
           {
            "args": [
             [
              "452"
             ],
             {
              "frame": {
               "duration": 0,
               "redraw": false
              },
              "fromcurrent": true,
              "mode": "immediate",
              "transition": {
               "duration": 0,
               "easing": "linear"
              }
             }
            ],
            "label": "452",
            "method": "animate"
           },
           {
            "args": [
             [
              "453"
             ],
             {
              "frame": {
               "duration": 0,
               "redraw": false
              },
              "fromcurrent": true,
              "mode": "immediate",
              "transition": {
               "duration": 0,
               "easing": "linear"
              }
             }
            ],
            "label": "453",
            "method": "animate"
           },
           {
            "args": [
             [
              "454"
             ],
             {
              "frame": {
               "duration": 0,
               "redraw": false
              },
              "fromcurrent": true,
              "mode": "immediate",
              "transition": {
               "duration": 0,
               "easing": "linear"
              }
             }
            ],
            "label": "454",
            "method": "animate"
           },
           {
            "args": [
             [
              "455"
             ],
             {
              "frame": {
               "duration": 0,
               "redraw": false
              },
              "fromcurrent": true,
              "mode": "immediate",
              "transition": {
               "duration": 0,
               "easing": "linear"
              }
             }
            ],
            "label": "455",
            "method": "animate"
           },
           {
            "args": [
             [
              "456"
             ],
             {
              "frame": {
               "duration": 0,
               "redraw": false
              },
              "fromcurrent": true,
              "mode": "immediate",
              "transition": {
               "duration": 0,
               "easing": "linear"
              }
             }
            ],
            "label": "456",
            "method": "animate"
           },
           {
            "args": [
             [
              "457"
             ],
             {
              "frame": {
               "duration": 0,
               "redraw": false
              },
              "fromcurrent": true,
              "mode": "immediate",
              "transition": {
               "duration": 0,
               "easing": "linear"
              }
             }
            ],
            "label": "457",
            "method": "animate"
           },
           {
            "args": [
             [
              "458"
             ],
             {
              "frame": {
               "duration": 0,
               "redraw": false
              },
              "fromcurrent": true,
              "mode": "immediate",
              "transition": {
               "duration": 0,
               "easing": "linear"
              }
             }
            ],
            "label": "458",
            "method": "animate"
           },
           {
            "args": [
             [
              "459"
             ],
             {
              "frame": {
               "duration": 0,
               "redraw": false
              },
              "fromcurrent": true,
              "mode": "immediate",
              "transition": {
               "duration": 0,
               "easing": "linear"
              }
             }
            ],
            "label": "459",
            "method": "animate"
           },
           {
            "args": [
             [
              "460"
             ],
             {
              "frame": {
               "duration": 0,
               "redraw": false
              },
              "fromcurrent": true,
              "mode": "immediate",
              "transition": {
               "duration": 0,
               "easing": "linear"
              }
             }
            ],
            "label": "460",
            "method": "animate"
           },
           {
            "args": [
             [
              "461"
             ],
             {
              "frame": {
               "duration": 0,
               "redraw": false
              },
              "fromcurrent": true,
              "mode": "immediate",
              "transition": {
               "duration": 0,
               "easing": "linear"
              }
             }
            ],
            "label": "461",
            "method": "animate"
           },
           {
            "args": [
             [
              "462"
             ],
             {
              "frame": {
               "duration": 0,
               "redraw": false
              },
              "fromcurrent": true,
              "mode": "immediate",
              "transition": {
               "duration": 0,
               "easing": "linear"
              }
             }
            ],
            "label": "462",
            "method": "animate"
           },
           {
            "args": [
             [
              "463"
             ],
             {
              "frame": {
               "duration": 0,
               "redraw": false
              },
              "fromcurrent": true,
              "mode": "immediate",
              "transition": {
               "duration": 0,
               "easing": "linear"
              }
             }
            ],
            "label": "463",
            "method": "animate"
           },
           {
            "args": [
             [
              "464"
             ],
             {
              "frame": {
               "duration": 0,
               "redraw": false
              },
              "fromcurrent": true,
              "mode": "immediate",
              "transition": {
               "duration": 0,
               "easing": "linear"
              }
             }
            ],
            "label": "464",
            "method": "animate"
           },
           {
            "args": [
             [
              "465"
             ],
             {
              "frame": {
               "duration": 0,
               "redraw": false
              },
              "fromcurrent": true,
              "mode": "immediate",
              "transition": {
               "duration": 0,
               "easing": "linear"
              }
             }
            ],
            "label": "465",
            "method": "animate"
           },
           {
            "args": [
             [
              "466"
             ],
             {
              "frame": {
               "duration": 0,
               "redraw": false
              },
              "fromcurrent": true,
              "mode": "immediate",
              "transition": {
               "duration": 0,
               "easing": "linear"
              }
             }
            ],
            "label": "466",
            "method": "animate"
           },
           {
            "args": [
             [
              "467"
             ],
             {
              "frame": {
               "duration": 0,
               "redraw": false
              },
              "fromcurrent": true,
              "mode": "immediate",
              "transition": {
               "duration": 0,
               "easing": "linear"
              }
             }
            ],
            "label": "467",
            "method": "animate"
           },
           {
            "args": [
             [
              "468"
             ],
             {
              "frame": {
               "duration": 0,
               "redraw": false
              },
              "fromcurrent": true,
              "mode": "immediate",
              "transition": {
               "duration": 0,
               "easing": "linear"
              }
             }
            ],
            "label": "468",
            "method": "animate"
           },
           {
            "args": [
             [
              "469"
             ],
             {
              "frame": {
               "duration": 0,
               "redraw": false
              },
              "fromcurrent": true,
              "mode": "immediate",
              "transition": {
               "duration": 0,
               "easing": "linear"
              }
             }
            ],
            "label": "469",
            "method": "animate"
           },
           {
            "args": [
             [
              "470"
             ],
             {
              "frame": {
               "duration": 0,
               "redraw": false
              },
              "fromcurrent": true,
              "mode": "immediate",
              "transition": {
               "duration": 0,
               "easing": "linear"
              }
             }
            ],
            "label": "470",
            "method": "animate"
           },
           {
            "args": [
             [
              "471"
             ],
             {
              "frame": {
               "duration": 0,
               "redraw": false
              },
              "fromcurrent": true,
              "mode": "immediate",
              "transition": {
               "duration": 0,
               "easing": "linear"
              }
             }
            ],
            "label": "471",
            "method": "animate"
           },
           {
            "args": [
             [
              "472"
             ],
             {
              "frame": {
               "duration": 0,
               "redraw": false
              },
              "fromcurrent": true,
              "mode": "immediate",
              "transition": {
               "duration": 0,
               "easing": "linear"
              }
             }
            ],
            "label": "472",
            "method": "animate"
           },
           {
            "args": [
             [
              "473"
             ],
             {
              "frame": {
               "duration": 0,
               "redraw": false
              },
              "fromcurrent": true,
              "mode": "immediate",
              "transition": {
               "duration": 0,
               "easing": "linear"
              }
             }
            ],
            "label": "473",
            "method": "animate"
           },
           {
            "args": [
             [
              "474"
             ],
             {
              "frame": {
               "duration": 0,
               "redraw": false
              },
              "fromcurrent": true,
              "mode": "immediate",
              "transition": {
               "duration": 0,
               "easing": "linear"
              }
             }
            ],
            "label": "474",
            "method": "animate"
           },
           {
            "args": [
             [
              "475"
             ],
             {
              "frame": {
               "duration": 0,
               "redraw": false
              },
              "fromcurrent": true,
              "mode": "immediate",
              "transition": {
               "duration": 0,
               "easing": "linear"
              }
             }
            ],
            "label": "475",
            "method": "animate"
           },
           {
            "args": [
             [
              "476"
             ],
             {
              "frame": {
               "duration": 0,
               "redraw": false
              },
              "fromcurrent": true,
              "mode": "immediate",
              "transition": {
               "duration": 0,
               "easing": "linear"
              }
             }
            ],
            "label": "476",
            "method": "animate"
           },
           {
            "args": [
             [
              "477"
             ],
             {
              "frame": {
               "duration": 0,
               "redraw": false
              },
              "fromcurrent": true,
              "mode": "immediate",
              "transition": {
               "duration": 0,
               "easing": "linear"
              }
             }
            ],
            "label": "477",
            "method": "animate"
           },
           {
            "args": [
             [
              "478"
             ],
             {
              "frame": {
               "duration": 0,
               "redraw": false
              },
              "fromcurrent": true,
              "mode": "immediate",
              "transition": {
               "duration": 0,
               "easing": "linear"
              }
             }
            ],
            "label": "478",
            "method": "animate"
           },
           {
            "args": [
             [
              "479"
             ],
             {
              "frame": {
               "duration": 0,
               "redraw": false
              },
              "fromcurrent": true,
              "mode": "immediate",
              "transition": {
               "duration": 0,
               "easing": "linear"
              }
             }
            ],
            "label": "479",
            "method": "animate"
           },
           {
            "args": [
             [
              "480"
             ],
             {
              "frame": {
               "duration": 0,
               "redraw": false
              },
              "fromcurrent": true,
              "mode": "immediate",
              "transition": {
               "duration": 0,
               "easing": "linear"
              }
             }
            ],
            "label": "480",
            "method": "animate"
           }
          ],
          "x": 0.1,
          "xanchor": "left",
          "y": 0,
          "yanchor": "top"
         }
        ],
        "template": {
         "data": {
          "pie": [
           {
            "automargin": true,
            "type": "pie"
           }
          ],
          "scatter": [
           {
            "line": {
             "width": 3
            },
            "marker": {
             "size": 9
            },
            "type": "scatter"
           }
          ],
          "scatter3d": [
           {
            "line": {
             "width": 3
            },
            "marker": {
             "size": 9
            },
            "type": "scatter3d"
           }
          ],
          "scattergeo": [
           {
            "line": {
             "width": 3
            },
            "marker": {
             "size": 9
            },
            "type": "scattergeo"
           }
          ],
          "scattergl": [
           {
            "line": {
             "width": 3
            },
            "marker": {
             "size": 9
            },
            "type": "scattergl"
           }
          ],
          "scatterpolar": [
           {
            "line": {
             "width": 3
            },
            "marker": {
             "size": 9
            },
            "type": "scatterpolar"
           }
          ],
          "scatterpolargl": [
           {
            "line": {
             "width": 3
            },
            "marker": {
             "size": 9
            },
            "type": "scatterpolargl"
           }
          ],
          "scatterternary": [
           {
            "line": {
             "width": 3
            },
            "marker": {
             "size": 9
            },
            "type": "scatterternary"
           }
          ],
          "table": [
           {
            "cells": {
             "height": 30
            },
            "header": {
             "height": 36
            },
            "type": "table"
           }
          ]
         },
         "layout": {
          "font": {
           "size": 18
          },
          "xaxis": {
           "title": {
            "standoff": 15
           }
          },
          "yaxis": {
           "title": {
            "standoff": 15
           }
          }
         }
        },
        "updatemenus": [
         {
          "buttons": [
           {
            "args": [
             null,
             {
              "frame": {
               "duration": 500,
               "redraw": false
              },
              "fromcurrent": true,
              "mode": "immediate",
              "transition": {
               "duration": 0,
               "easing": "linear"
              }
             }
            ],
            "label": "&#9654;",
            "method": "animate"
           },
           {
            "args": [
             [
              null
             ],
             {
              "frame": {
               "duration": 0,
               "redraw": false
              },
              "fromcurrent": true,
              "mode": "immediate",
              "transition": {
               "duration": 0,
               "easing": "linear"
              }
             }
            ],
            "label": "&#9724;",
            "method": "animate"
           }
          ],
          "direction": "left",
          "pad": {
           "r": 10,
           "t": 70
          },
          "showactive": false,
          "type": "buttons",
          "x": 0.1,
          "xanchor": "right",
          "y": 0,
          "yanchor": "top"
         }
        ],
        "width": 600,
        "xaxis": {
         "anchor": "y",
         "domain": [
          0,
          1
         ],
         "range": [
          -1,
          101
         ],
         "showgrid": false,
         "showticklabels": false,
         "ticks": "",
         "title": {
          "text": ""
         },
         "zeroline": false
        },
        "yaxis": {
         "anchor": "x",
         "domain": [
          0,
          1
         ],
         "range": [
          -1,
          101
         ],
         "scaleanchor": "x",
         "showgrid": false,
         "showticklabels": false,
         "ticks": "",
         "title": {
          "text": ""
         },
         "zeroline": false
        }
       }
      }
     },
     "metadata": {},
     "output_type": "display_data"
    }
   ],
   "source": [
    "ft.animate_foragers(\n",
    "    loc_subset,\n",
    "    # loc_all,\n",
    "    plot_rewards=True,\n",
    "    width=600,\n",
    "    height=600,\n",
    "    point_size=10,\n",
    "    color_by_state=True,\n",
    ")"
   ]
  },
  {
   "cell_type": "code",
   "execution_count": 17,
   "metadata": {},
   "outputs": [
    {
     "name": "stdout",
     "output_type": "stream",
     "text": [
      "Tensor length: 61\n"
     ]
    }
   ],
   "source": [
    "all_states = df_cat[\"state\"].unique()\n",
    "all_times = sorted(df_cat[\"time\"].unique())\n",
    "all_combinations = pd.DataFrame(\n",
    "    [(state, time) for state in all_states for time in all_times],\n",
    "    columns=[\"state\", \"time\"],\n",
    ")\n",
    "counts = pd.merge(\n",
    "    all_combinations,\n",
    "    df_cat.groupby([\"state\", \"time\"]).size().reset_index(name=\"count\"),\n",
    "    how=\"left\",\n",
    "    on=[\"state\", \"time\"],\n",
    ")\n",
    "counts[\"count\"].fillna(0, inplace=True)\n",
    "\n",
    "count_data = {}\n",
    "for state in unique_states:\n",
    "    count_data[state] = torch.tensor(counts[counts[\"state\"] == state][\"count\"].values)\n",
    "\n",
    "shapes = [tensor.shape for tensor in count_data.values()]\n",
    "assert all(shape == shapes[0] for shape in shapes)\n",
    "\n",
    "\n",
    "tensor_length = len(next(iter(count_data.values())))\n",
    "print(f\"Tensor length: {tensor_length}\")\n",
    "sums_per_position = [\n",
    "    sum(count_data[state][k] for state in count_data) for k in range(tensor_length)\n",
    "]\n",
    "assert all(\n",
    "    sums_per_position[0] == sum_at_k for sum_at_k in sums_per_position[1:]\n",
    "), \"Population count is not constant!\""
   ]
  },
  {
   "cell_type": "code",
   "execution_count": 22,
   "metadata": {},
   "outputs": [],
   "source": [
    "def moving_average(data, window_size):\n",
    "    cumsum = torch.cumsum(data, dim=0)\n",
    "    cumsum[window_size:] = cumsum[window_size:] - cumsum[:-window_size]\n",
    "    return cumsum[window_size - 1 :] / window_size\n",
    "\n",
    "\n",
    "def plot_trajectories(data, all_times, window_size, title = \"Counts\"):\n",
    "    for state, color in zip(\n",
    "        [\"edge_l\", \"edge_r\", \"feed_l\", \"feed_r\", \"search_l\", \"search_r\"],\n",
    "        [\"green\", \"darkgreen\", \"red\", \"darkred\", \"orange\", \"darkorange\"],\n",
    "    ):\n",
    "        if window_size == 0:\n",
    "           sns.lineplot(x=all_times, y=data[state], label=f\"{state}\", color=color)\n",
    "           plt.title(title)\n",
    "        else:\n",
    "            running_averages = { state: moving_average(data[state].float(), window_size)\n",
    "                            for state in data}\n",
    "            sns.lineplot(x=all_times[window_size - 1 :],\n",
    "                        y=running_averages[state],\n",
    "                        label=f\"{state} (avg)\",\n",
    "                        color=color,\n",
    "                     )\n",
    "            plt.title(f\"{title} (running average, window size = {window_size})\")\n",
    "        # plt.xlim(start, end)\n",
    "        plt.xlabel(\"time (frames)\")\n",
    "        plt.ylabel(\"# of locust\")\n",
    "        plt.legend(loc=\"upper right\")\n",
    "        sns.despine()\n",
    "\n",
    "#     plt.title(\"Observed counts\")\n",
    "#     #plt.xlim(start, end)\n",
    "#     plt.xlabel(\"time (frames)\")\n",
    "#     plt.ylabel(\"# of locust\")\n",
    "#     plt.legend(loc=\"upper right\")"
   ]
  },
  {
   "cell_type": "code",
   "execution_count": 25,
   "metadata": {},
   "outputs": [
    {
     "data": {
      "image/png": "[encoded data removed]",
      "text/plain": [
       "<Figure size 640x480 with 1 Axes>"
      ]
     },
     "metadata": {},
     "output_type": "display_data"
    }
   ],
   "source": [
    "plot_trajectories(count_data, all_times, window_size=0)\n"
   ]
  },
  {
   "cell_type": "code",
   "execution_count": 27,
   "metadata": {},
   "outputs": [
    {
     "data": {
      "image/png": "[encoded data removed]",
      "text/plain": [
       "<Figure size 640x480 with 1 Axes>"
      ]
     },
     "metadata": {},
     "output_type": "display_data"
    }
   ],
   "source": [
    "plot_trajectories(count_data, all_times, window_size=8)"
   ]
  },
  {
   "cell_type": "code",
   "execution_count": 28,
   "metadata": {},
   "outputs": [
    {
     "name": "stdout",
     "output_type": "stream",
     "text": [
      "dict_keys(['edge_l', 'edge_r', 'search_l', 'search_r', 'feed_r', 'feed_l'])\n"
     ]
    }
   ],
   "source": [
    "locust_keys = count_data.keys()\n",
    "\n",
    "print(count_data.keys())\n",
    "\n",
    "# iota: pull inside\n",
    "# rho: push outside\n",
    "# chi: stable flow between lr within the same distance class\n",
    "\n",
    "class LocustDynamics(pyro.nn.PyroModule):\n",
    "    def __init__(self, iota_l, iota_r,  chi_l, chi_r):\n",
    "        super().__init__()\n",
    "        self.iota = iota\n",
    "        self.rho = rho\n",
    "        self.chi = chi  \n",
    "\n",
    "    def forward(self, X: State[torch.Tensor]):\n",
    "        dX = dict()\n",
    "        \n",
    "        dX[\"edge_l\"] = (self.chi_l[0] * X[\"edge_r\"] * X[\"edge_l\"]\n",
    "                        - self.iota_l[0] * X[\"search_l\"] * X[\"edge_l\"]\n",
    "                    )\n",
    "        \n",
    "        dX[\"edge_r\"] = (self.chi_r[0] * X[\"edge_l\"] * X[\"edge_r\"]\n",
    "                        - self.iota_r[0] * X[\"search_r\"] * X[\"edge_r\"]\n",
    "                    )\n",
    "        \n",
    "        dX[\"search_l\"] = (self.chi_l[1] * X[\"search_r\"] * X[\"search_l\"]\n",
    "                        + self.iota_l[0] * X[\"search_l\"] * X[\"edge_l\"]\n",
    "                        - self.iota_l[1] * X[\"search_l\"] * X[\"feed_l\"]\n",
    "                        )\n",
    "        \n",
    "        dX[\"search_r\"] = (self.chi_r[1] * X[\"search_l\"] * X[\"search_r\"]\n",
    "                        + self.iota_r[0] * X[\"search_r\"] * X[\"edge_r\"]\n",
    "                        - self.iota_r[1] * X[\"search_r\"] * X[\"feed_r\"]\n",
    "                        )\n",
    "        \n",
    "        dX[\"feed_l\"] = (self.iota_l[1] * X[\"search_l\"] * X[\"feed_l\"])\n",
    "        dX[\"feed_r\"] = (self.iota_r[1] * X[\"search_r\"] * X[\"feed_r\"])\n",
    "        \n",
    "       \n",
    "def locust_noisy_model(X: State[torch.Tensor]) -> None:\n",
    "    event_dim = 1 if X[\"I\"].shape and X[\"I\"].shape[-1] > 1 else 0\n",
    "\n",
    "    for key in locust_keys:\n",
    "        pyro.sample(\n",
    "            f\"{key}_obs\", dist.Poisson(X[key]).to_event(event_dim)\n",
    "        )\n"
   ]
  }
 ],
 "metadata": {
  "kernelspec": {
   "display_name": "collab",
   "language": "python",
   "name": "python3"
  },
  "language_info": {
   "codemirror_mode": {
    "name": "ipython",
    "version": 3
   },
   "file_extension": ".py",
   "mimetype": "text/x-python",
   "name": "python",
   "nbconvert_exporter": "python",
   "pygments_lexer": "ipython3",
   "version": "3.10.13"
  }
 },
 "nbformat": 4,
 "nbformat_minor": 2
}
