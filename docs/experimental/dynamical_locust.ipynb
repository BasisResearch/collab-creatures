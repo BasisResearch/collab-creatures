{
 "cells": [
  {
   "cell_type": "code",
   "execution_count": 1,
   "metadata": {},
   "outputs": [],
   "source": [
    "import os\n",
    "\n",
    "import matplotlib.pyplot as plt\n",
    "import pyro\n",
    "import pyro.distributions as dist\n",
    "import seaborn as sns\n",
    "import torch\n",
    "from chirho.dynamical.handlers import (DynamicIntervention, LogTrajectory,\n",
    "                                       StaticBatchObservation,\n",
    "                                       StaticIntervention)\n",
    "from chirho.dynamical.handlers.solver import TorchDiffEq\n",
    "from chirho.dynamical.ops import Dynamics, State, simulate\n",
    "from chirho.observational.handlers import condition\n",
    "from pyro.infer import Predictive\n",
    "from pyro.infer.autoguide import AutoMultivariateNormal\n",
    "\n",
    "pyro.settings.set(module_local_params=True)\n",
    "\n",
    "sns.set_style(\"white\")\n",
    "\n",
    "# Set seed for reproducibility\n",
    "seed = 123\n",
    "pyro.clear_param_store()\n",
    "pyro.set_rng_seed(seed)\n",
    "\n",
    "import matplotlib.pyplot as plt\n",
    "import pandas as pd\n",
    "import seaborn as sns\n",
    "import torch\n",
    "\n",
    "from collab.foraging import locust as lc\n",
    "from collab.foraging import toolkit as ft\n",
    "from collab.utils import find_repo_root"
   ]
  },
  {
   "cell_type": "code",
   "execution_count": 2,
   "metadata": {},
   "outputs": [],
   "source": [
    "smoke_test = \"CI\" in os.environ\n",
    "subset_starts = 420\n",
    "subset_ends = 430 if smoke_test else 480\n",
    "desired_frames = 500 if smoke_test else 900\n",
    "num_iterations = 50 if smoke_test else 2000\n",
    "num_samples = 20 if smoke_test else 1000\n",
    "num_steps = 10 if smoke_test else 1000\n",
    "sample_size = 100 if smoke_test else 1000\n",
    "locust_sample_size = 100 if smoke_test else 178770\n",
    "root = find_repo_root()"
   ]
  },
  {
   "cell_type": "code",
   "execution_count": 3,
   "metadata": {},
   "outputs": [
    {
     "name": "stdout",
     "output_type": "stream",
     "text": [
      "original_frames: 45000\n",
      "original_shape: (675000, 4)\n",
      "resulting_frames: 900\n",
      "resulting_shape: (13500, 4)\n",
      "min_time 1\n",
      "max_time 900\n"
     ]
    }
   ],
   "source": [
    "locust_data_path = os.path.join(root, \"data/foraging/locust/15EQ20191202_tracked.csv\")\n",
    "\n",
    "df = lc.load_and_clean_locust(\n",
    "    path=locust_data_path,\n",
    "    desired_frames=desired_frames,\n",
    "    grid_size=100,\n",
    "    rewards_x=[0.68074, -0.69292],\n",
    "    rewards_y=[-0.03068, -0.03068],\n",
    "    subset_starts=subset_starts,\n",
    "    subset_ends=subset_ends,\n",
    ")\n",
    "\n",
    "loc_subset = df[\"subset\"]\n",
    "loc_all = df[\"all_frames\"]"
   ]
  },
  {
   "cell_type": "code",
   "execution_count": 4,
   "metadata": {},
   "outputs": [
    {
     "name": "stdout",
     "output_type": "stream",
     "text": [
      "420 480 61\n"
     ]
    }
   ],
   "source": [
    "object = loc_subset\n",
    "rewards = object.rewardsDF.iloc[:, [0, 1]].drop_duplicates().reset_index(drop=True)\n",
    "df = object.foragersDF\n",
    "start, end, N_obs = min(df[\"time\"]), max(df[\"time\"]), len(df[\"time\"].unique())\n",
    "\n",
    "print(start, end, N_obs)"
   ]
  },
  {
   "cell_type": "code",
   "execution_count": 5,
   "metadata": {},
   "outputs": [
    {
     "data": {
      "text/html": [
       "<div>\n",
       "<style scoped>\n",
       "    .dataframe tbody tr th:only-of-type {\n",
       "        vertical-align: middle;\n",
       "    }\n",
       "\n",
       "    .dataframe tbody tr th {\n",
       "        vertical-align: top;\n",
       "    }\n",
       "\n",
       "    .dataframe thead th {\n",
       "        text-align: right;\n",
       "    }\n",
       "</style>\n",
       "<table border=\"1\" class=\"dataframe\">\n",
       "  <thead>\n",
       "    <tr style=\"text-align: right;\">\n",
       "      <th></th>\n",
       "      <th>x</th>\n",
       "      <th>y</th>\n",
       "      <th>time</th>\n",
       "      <th>state</th>\n",
       "    </tr>\n",
       "  </thead>\n",
       "  <tbody>\n",
       "    <tr>\n",
       "      <th>313875</th>\n",
       "      <td>13.0</td>\n",
       "      <td>51.0</td>\n",
       "      <td>420</td>\n",
       "      <td>feed_l</td>\n",
       "    </tr>\n",
       "    <tr>\n",
       "      <th>313876</th>\n",
       "      <td>13.0</td>\n",
       "      <td>47.0</td>\n",
       "      <td>420</td>\n",
       "      <td>feed_l</td>\n",
       "    </tr>\n",
       "    <tr>\n",
       "      <th>313877</th>\n",
       "      <td>3.0</td>\n",
       "      <td>63.0</td>\n",
       "      <td>420</td>\n",
       "      <td>edge_l</td>\n",
       "    </tr>\n",
       "    <tr>\n",
       "      <th>313878</th>\n",
       "      <td>25.0</td>\n",
       "      <td>89.0</td>\n",
       "      <td>420</td>\n",
       "      <td>search_l</td>\n",
       "    </tr>\n",
       "    <tr>\n",
       "      <th>313879</th>\n",
       "      <td>19.0</td>\n",
       "      <td>48.0</td>\n",
       "      <td>420</td>\n",
       "      <td>feed_l</td>\n",
       "    </tr>\n",
       "  </tbody>\n",
       "</table>\n",
       "</div>"
      ],
      "text/plain": [
       "           x     y  time     state\n",
       "313875  13.0  51.0   420    feed_l\n",
       "313876  13.0  47.0   420    feed_l\n",
       "313877   3.0  63.0   420    edge_l\n",
       "313878  25.0  89.0   420  search_l\n",
       "313879  19.0  48.0   420    feed_l"
      ]
     },
     "metadata": {},
     "output_type": "display_data"
    },
    {
     "name": "stdout",
     "output_type": "stream",
     "text": [
      "   x  y     state  time\n",
      "0  0  0    edge_l   419\n",
      "1  0  0    edge_r   419\n",
      "2  0  0    feed_l   419\n",
      "3  0  0    feed_r   419\n",
      "4  0  0  search_l   419\n",
      "5  0  0  search_r   419\n"
     ]
    },
    {
     "data": {
      "image/png": "[encoded data removed]",
      "text/plain": [
       "<Figure size 640x480 with 1 Axes>"
      ]
     },
     "metadata": {},
     "output_type": "display_data"
    }
   ],
   "source": [
    "left_idx = rewards[\"x\"].idxmin()\n",
    "right_idx = rewards[\"x\"].idxmax()\n",
    "x_left = rewards.iloc[left_idx, 0]\n",
    "y_left = rewards.iloc[left_idx, 1]\n",
    "\n",
    "x_right = rewards.iloc[right_idx, 0]\n",
    "y_right = rewards.iloc[right_idx, 1]\n",
    "\n",
    "x_center = 50\n",
    "y_center = 50\n",
    "\n",
    "\n",
    "df_cat = ft.add_ring(\n",
    "    df, \"feed_l\", x0=x_left, y0=y_left, outside_radius=10, inside_radius=0\n",
    ")\n",
    "\n",
    "\n",
    "df_cat = ft.add_ring(\n",
    "    df_cat, \"feed_r\", x0=x_right, y0=y_right, outside_radius=10, inside_radius=0\n",
    ")\n",
    "\n",
    "df_cat = ft.add_ring(\n",
    "    df_cat,\n",
    "    \"edge\",\n",
    "    x0=x_center,\n",
    "    y0=y_center,\n",
    "    outside_radius=51,\n",
    "    inside_radius=47,\n",
    "    divide_by_side=True,\n",
    ")\n",
    "\n",
    "df_cat = ft.add_ring(\n",
    "    df_cat,\n",
    "    \"search\",\n",
    "    x0=x_center,\n",
    "    y0=y_center,\n",
    "    outside_radius=50,\n",
    "    inside_radius=0,\n",
    "    divide_by_side=True,\n",
    ")\n",
    "\n",
    "\n",
    "df_cat.drop([\"forager\", \"type\"], inplace=True, axis=1)\n",
    "\n",
    "unique_states = set(df_cat[\"state\"])\n",
    "\n",
    "\n",
    "# these will be added to ensure the animation starts with\n",
    "# all states represented\n",
    "# ignore the initial frame in the animation\n",
    "initial_fake_positions = pd.DataFrame(\n",
    "    {\n",
    "        \"x\": [0] * len(unique_states),\n",
    "        \"y\": [0] * len(unique_states),\n",
    "        \"state\": sorted(list(unique_states)),\n",
    "        \"time\": [(start - 1)] * len(unique_states),\n",
    "    }\n",
    ")\n",
    "\n",
    "display(df_cat.head())\n",
    "\n",
    "print(initial_fake_positions)\n",
    "\n",
    "plt.bar(df_cat[\"state\"].value_counts().index, df_cat[\"state\"].value_counts())\n",
    "\n",
    "df_cat_vis = pd.concat([initial_fake_positions, df_cat])\n",
    "object.foragersDF = df_cat_vis"
   ]
  },
  {
   "cell_type": "code",
   "execution_count": 6,
   "metadata": {},
   "outputs": [
    {
     "data": {
      "application/vnd.plotly.v1+json": {
       "config": {
        "plotlyServerURL": "https://plot.ly"
       },
       "data": [
        {
         "hovertemplate": "state=edge_l<br>time=419<br>x=%{x}<br>y=%{y}<extra></extra>",
         "legendgroup": "edge_l",
         "marker": {
          "color": "#636efa",
          "symbol": "circle"
         },
         "mode": "markers",
         "name": "edge_l",
         "orientation": "v",
         "showlegend": true,
         "type": "scatter",
         "x": [
          0
         ],
         "xaxis": "x",
         "y": [
          0
         ],
         "yaxis": "y"
        },
        {
         "hovertemplate": "state=edge_r<br>time=419<br>x=%{x}<br>y=%{y}<extra></extra>",
         "legendgroup": "edge_r",
         "marker": {
          "color": "#EF553B",
          "symbol": "circle"
         },
         "mode": "markers",
         "name": "edge_r",
         "orientation": "v",
         "showlegend": true,
         "type": "scatter",
         "x": [
          0
         ],
         "xaxis": "x",
         "y": [
          0
         ],
         "yaxis": "y"
        },
        {
         "hovertemplate": "state=feed_l<br>time=419<br>x=%{x}<br>y=%{y}<extra></extra>",
         "legendgroup": "feed_l",
         "marker": {
          "color": "#00cc96",
          "symbol": "circle"
         },
         "mode": "markers",
         "name": "feed_l",
         "orientation": "v",
         "showlegend": true,
         "type": "scatter",
         "x": [
          0
         ],
         "xaxis": "x",
         "y": [
          0
         ],
         "yaxis": "y"
        },
        {
         "hovertemplate": "state=feed_r<br>time=419<br>x=%{x}<br>y=%{y}<extra></extra>",
         "legendgroup": "feed_r",
         "marker": {
          "color": "#ab63fa",
          "symbol": "circle"
         },
         "mode": "markers",
         "name": "feed_r",
         "orientation": "v",
         "showlegend": true,
         "type": "scatter",
         "x": [
          0
         ],
         "xaxis": "x",
         "y": [
          0
         ],
         "yaxis": "y"
        },
        {
         "hovertemplate": "state=search_l<br>time=419<br>x=%{x}<br>y=%{y}<extra></extra>",
         "legendgroup": "search_l",
         "marker": {
          "color": "#FFA15A",
          "symbol": "circle"
         },
         "mode": "markers",
         "name": "search_l",
         "orientation": "v",
         "showlegend": true,
         "type": "scatter",
         "x": [
          0
         ],
         "xaxis": "x",
         "y": [
          0
         ],
         "yaxis": "y"
        },
        {
         "hovertemplate": "state=search_r<br>time=419<br>x=%{x}<br>y=%{y}<extra></extra>",
         "legendgroup": "search_r",
         "marker": {
          "color": "#19d3f3",
          "symbol": "circle"
         },
         "mode": "markers",
         "name": "search_r",
         "orientation": "v",
         "showlegend": true,
         "type": "scatter",
         "x": [
          0
         ],
         "xaxis": "x",
         "y": [
          0
         ],
         "yaxis": "y"
        }
       ],
       "frames": [
        {
         "data": [
          {
           "hovertemplate": "state=edge_l<br>time=419<br>x=%{x}<br>y=%{y}<extra></extra>",
           "legendgroup": "edge_l",
           "marker": {
            "color": "#636efa",
            "symbol": "circle"
           },
           "mode": "markers",
           "name": "edge_l",
           "orientation": "v",
           "showlegend": true,
           "type": "scatter",
           "x": [
            0
           ],
           "xaxis": "x",
           "y": [
            0
           ],
           "yaxis": "y"
          },
          {
           "hovertemplate": "state=edge_r<br>time=419<br>x=%{x}<br>y=%{y}<extra></extra>",
           "legendgroup": "edge_r",
           "marker": {
            "color": "#EF553B",
            "symbol": "circle"
           },
           "mode": "markers",
           "name": "edge_r",
           "orientation": "v",
           "showlegend": true,
           "type": "scatter",
           "x": [
            0
           ],
           "xaxis": "x",
           "y": [
            0
           ],
           "yaxis": "y"
          },
          {
           "hovertemplate": "state=feed_l<br>time=419<br>x=%{x}<br>y=%{y}<extra></extra>",
           "legendgroup": "feed_l",
           "marker": {
            "color": "#00cc96",
            "symbol": "circle"
           },
           "mode": "markers",
           "name": "feed_l",
           "orientation": "v",
           "showlegend": true,
           "type": "scatter",
           "x": [
            0
           ],
           "xaxis": "x",
           "y": [
            0
           ],
           "yaxis": "y"
          },
          {
           "hovertemplate": "state=feed_r<br>time=419<br>x=%{x}<br>y=%{y}<extra></extra>",
           "legendgroup": "feed_r",
           "marker": {
            "color": "#ab63fa",
            "symbol": "circle"
           },
           "mode": "markers",
           "name": "feed_r",
           "orientation": "v",
           "showlegend": true,
           "type": "scatter",
           "x": [
            0
           ],
           "xaxis": "x",
           "y": [
            0
           ],
           "yaxis": "y"
          },
          {
           "hovertemplate": "state=search_l<br>time=419<br>x=%{x}<br>y=%{y}<extra></extra>",
           "legendgroup": "search_l",
           "marker": {
            "color": "#FFA15A",
            "symbol": "circle"
           },
           "mode": "markers",
           "name": "search_l",
           "orientation": "v",
           "showlegend": true,
           "type": "scatter",
           "x": [
            0
           ],
           "xaxis": "x",
           "y": [
            0
           ],
           "yaxis": "y"
          },
          {
           "hovertemplate": "state=search_r<br>time=419<br>x=%{x}<br>y=%{y}<extra></extra>",
           "legendgroup": "search_r",
           "marker": {
            "color": "#19d3f3",
            "symbol": "circle"
           },
           "mode": "markers",
           "name": "search_r",
           "orientation": "v",
           "showlegend": true,
           "type": "scatter",
           "x": [
            0
           ],
           "xaxis": "x",
           "y": [
            0
           ],
           "yaxis": "y"
          }
         ],
         "name": "419"
        },
        {
         "data": [
          {
           "hovertemplate": "state=edge_l<br>time=420<br>x=%{x}<br>y=%{y}<extra></extra>",
           "legendgroup": "edge_l",
           "marker": {
            "color": "#636efa",
            "symbol": "circle"
           },
           "mode": "markers",
           "name": "edge_l",
           "orientation": "v",
           "showlegend": true,
           "type": "scatter",
           "x": [
            3,
            29,
            48,
            1,
            5,
            36
           ],
           "xaxis": "x",
           "y": [
            63,
            6,
            2,
            47,
            31,
            3
           ],
           "yaxis": "y"
          },
          {
           "hovertemplate": "state=feed_l<br>time=420<br>x=%{x}<br>y=%{y}<extra></extra>",
           "legendgroup": "feed_l",
           "marker": {
            "color": "#00cc96",
            "symbol": "circle"
           },
           "mode": "markers",
           "name": "feed_l",
           "orientation": "v",
           "showlegend": true,
           "type": "scatter",
           "x": [
            13,
            13,
            19
           ],
           "xaxis": "x",
           "y": [
            51,
            47,
            48
           ],
           "yaxis": "y"
          },
          {
           "hovertemplate": "state=feed_r<br>time=420<br>x=%{x}<br>y=%{y}<extra></extra>",
           "legendgroup": "feed_r",
           "marker": {
            "color": "#ab63fa",
            "symbol": "circle"
           },
           "mode": "markers",
           "name": "feed_r",
           "orientation": "v",
           "showlegend": true,
           "type": "scatter",
           "x": [
            85,
            80,
            89
           ],
           "xaxis": "x",
           "y": [
            49,
            46,
            49
           ],
           "yaxis": "y"
          },
          {
           "hovertemplate": "state=search_l<br>time=420<br>x=%{x}<br>y=%{y}<extra></extra>",
           "legendgroup": "search_l",
           "marker": {
            "color": "#FFA15A",
            "symbol": "circle"
           },
           "mode": "markers",
           "name": "search_l",
           "orientation": "v",
           "showlegend": true,
           "type": "scatter",
           "x": [
            25,
            46,
            23
           ],
           "xaxis": "x",
           "y": [
            89,
            55,
            85
           ],
           "yaxis": "y"
          }
         ],
         "name": "420"
        },
        {
         "data": [
          {
           "hovertemplate": "state=edge_l<br>time=421<br>x=%{x}<br>y=%{y}<extra></extra>",
           "legendgroup": "edge_l",
           "marker": {
            "color": "#636efa",
            "symbol": "circle"
           },
           "mode": "markers",
           "name": "edge_l",
           "orientation": "v",
           "showlegend": true,
           "type": "scatter",
           "x": [
            4,
            27,
            1,
            6,
            36
           ],
           "xaxis": "x",
           "y": [
            66,
            7,
            49,
            30,
            3
           ],
           "yaxis": "y"
          },
          {
           "hovertemplate": "state=feed_l<br>time=421<br>x=%{x}<br>y=%{y}<extra></extra>",
           "legendgroup": "feed_l",
           "marker": {
            "color": "#00cc96",
            "symbol": "circle"
           },
           "mode": "markers",
           "name": "feed_l",
           "orientation": "v",
           "showlegend": true,
           "type": "scatter",
           "x": [
            12,
            13,
            19
           ],
           "xaxis": "x",
           "y": [
            51,
            46,
            48
           ],
           "yaxis": "y"
          },
          {
           "hovertemplate": "state=feed_r<br>time=421<br>x=%{x}<br>y=%{y}<extra></extra>",
           "legendgroup": "feed_r",
           "marker": {
            "color": "#ab63fa",
            "symbol": "circle"
           },
           "mode": "markers",
           "name": "feed_r",
           "orientation": "v",
           "showlegend": true,
           "type": "scatter",
           "x": [
            85,
            82,
            89
           ],
           "xaxis": "x",
           "y": [
            48,
            45,
            49
           ],
           "yaxis": "y"
          },
          {
           "hovertemplate": "state=search_l<br>time=421<br>x=%{x}<br>y=%{y}<extra></extra>",
           "legendgroup": "search_l",
           "marker": {
            "color": "#FFA15A",
            "symbol": "circle"
           },
           "mode": "markers",
           "name": "search_l",
           "orientation": "v",
           "showlegend": true,
           "type": "scatter",
           "x": [
            25,
            40,
            46,
            23
           ],
           "xaxis": "x",
           "y": [
            89,
            59,
            5,
            85
           ],
           "yaxis": "y"
          }
         ],
         "name": "421"
        },
        {
         "data": [
          {
           "hovertemplate": "state=edge_l<br>time=422<br>x=%{x}<br>y=%{y}<extra></extra>",
           "legendgroup": "edge_l",
           "marker": {
            "color": "#636efa",
            "symbol": "circle"
           },
           "mode": "markers",
           "name": "edge_l",
           "orientation": "v",
           "showlegend": true,
           "type": "scatter",
           "x": [
            6,
            26,
            1,
            7,
            36
           ],
           "xaxis": "x",
           "y": [
            71,
            7,
            52,
            28,
            3
           ],
           "yaxis": "y"
          },
          {
           "hovertemplate": "state=feed_l<br>time=422<br>x=%{x}<br>y=%{y}<extra></extra>",
           "legendgroup": "feed_l",
           "marker": {
            "color": "#00cc96",
            "symbol": "circle"
           },
           "mode": "markers",
           "name": "feed_l",
           "orientation": "v",
           "showlegend": true,
           "type": "scatter",
           "x": [
            12,
            13,
            19
           ],
           "xaxis": "x",
           "y": [
            51,
            46,
            49
           ],
           "yaxis": "y"
          },
          {
           "hovertemplate": "state=feed_r<br>time=422<br>x=%{x}<br>y=%{y}<extra></extra>",
           "legendgroup": "feed_r",
           "marker": {
            "color": "#ab63fa",
            "symbol": "circle"
           },
           "mode": "markers",
           "name": "feed_r",
           "orientation": "v",
           "showlegend": true,
           "type": "scatter",
           "x": [
            85,
            83,
            88
           ],
           "xaxis": "x",
           "y": [
            47,
            44,
            48
           ],
           "yaxis": "y"
          },
          {
           "hovertemplate": "state=search_l<br>time=422<br>x=%{x}<br>y=%{y}<extra></extra>",
           "legendgroup": "search_l",
           "marker": {
            "color": "#FFA15A",
            "symbol": "circle"
           },
           "mode": "markers",
           "name": "search_l",
           "orientation": "v",
           "showlegend": true,
           "type": "scatter",
           "x": [
            25,
            35,
            43,
            23
           ],
           "xaxis": "x",
           "y": [
            89,
            64,
            7,
            85
           ],
           "yaxis": "y"
          }
         ],
         "name": "422"
        },
        {
         "data": [
          {
           "hovertemplate": "state=edge_l<br>time=423<br>x=%{x}<br>y=%{y}<extra></extra>",
           "legendgroup": "edge_l",
           "marker": {
            "color": "#636efa",
            "symbol": "circle"
           },
           "mode": "markers",
           "name": "edge_l",
           "orientation": "v",
           "showlegend": true,
           "type": "scatter",
           "x": [
            9,
            26,
            1,
            10,
            36
           ],
           "xaxis": "x",
           "y": [
            76,
            7,
            56,
            22,
            3
           ],
           "yaxis": "y"
          },
          {
           "hovertemplate": "state=feed_l<br>time=423<br>x=%{x}<br>y=%{y}<extra></extra>",
           "legendgroup": "feed_l",
           "marker": {
            "color": "#00cc96",
            "symbol": "circle"
           },
           "mode": "markers",
           "name": "feed_l",
           "orientation": "v",
           "showlegend": true,
           "type": "scatter",
           "x": [
            12,
            13,
            19
           ],
           "xaxis": "x",
           "y": [
            51,
            46,
            49
           ],
           "yaxis": "y"
          },
          {
           "hovertemplate": "state=feed_r<br>time=423<br>x=%{x}<br>y=%{y}<extra></extra>",
           "legendgroup": "feed_r",
           "marker": {
            "color": "#ab63fa",
            "symbol": "circle"
           },
           "mode": "markers",
           "name": "feed_r",
           "orientation": "v",
           "showlegend": true,
           "type": "scatter",
           "x": [
            86,
            86,
            88
           ],
           "xaxis": "x",
           "y": [
            46,
            44,
            47
           ],
           "yaxis": "y"
          },
          {
           "hovertemplate": "state=search_l<br>time=423<br>x=%{x}<br>y=%{y}<extra></extra>",
           "legendgroup": "search_l",
           "marker": {
            "color": "#FFA15A",
            "symbol": "circle"
           },
           "mode": "markers",
           "name": "search_l",
           "orientation": "v",
           "showlegend": true,
           "type": "scatter",
           "x": [
            25,
            31,
            39,
            23
           ],
           "xaxis": "x",
           "y": [
            89,
            70,
            10,
            85
           ],
           "yaxis": "y"
          }
         ],
         "name": "423"
        },
        {
         "data": [
          {
           "hovertemplate": "state=edge_l<br>time=424<br>x=%{x}<br>y=%{y}<extra></extra>",
           "legendgroup": "edge_l",
           "marker": {
            "color": "#636efa",
            "symbol": "circle"
           },
           "mode": "markers",
           "name": "edge_l",
           "orientation": "v",
           "showlegend": true,
           "type": "scatter",
           "x": [
            13,
            26,
            2,
            13,
            36
           ],
           "xaxis": "x",
           "y": [
            81,
            7,
            59,
            18,
            3
           ],
           "yaxis": "y"
          },
          {
           "hovertemplate": "state=feed_l<br>time=424<br>x=%{x}<br>y=%{y}<extra></extra>",
           "legendgroup": "feed_l",
           "marker": {
            "color": "#00cc96",
            "symbol": "circle"
           },
           "mode": "markers",
           "name": "feed_l",
           "orientation": "v",
           "showlegend": true,
           "type": "scatter",
           "x": [
            12,
            14,
            19
           ],
           "xaxis": "x",
           "y": [
            51,
            46,
            49
           ],
           "yaxis": "y"
          },
          {
           "hovertemplate": "state=feed_r<br>time=424<br>x=%{x}<br>y=%{y}<extra></extra>",
           "legendgroup": "feed_r",
           "marker": {
            "color": "#ab63fa",
            "symbol": "circle"
           },
           "mode": "markers",
           "name": "feed_r",
           "orientation": "v",
           "showlegend": true,
           "type": "scatter",
           "x": [
            86,
            88,
            88
           ],
           "xaxis": "x",
           "y": [
            46,
            43,
            47
           ],
           "yaxis": "y"
          },
          {
           "hovertemplate": "state=search_l<br>time=424<br>x=%{x}<br>y=%{y}<extra></extra>",
           "legendgroup": "search_l",
           "marker": {
            "color": "#FFA15A",
            "symbol": "circle"
           },
           "mode": "markers",
           "name": "search_l",
           "orientation": "v",
           "showlegend": true,
           "type": "scatter",
           "x": [
            25,
            28,
            35,
            23
           ],
           "xaxis": "x",
           "y": [
            89,
            76,
            12,
            85
           ],
           "yaxis": "y"
          }
         ],
         "name": "424"
        },
        {
         "data": [
          {
           "hovertemplate": "state=edge_l<br>time=425<br>x=%{x}<br>y=%{y}<extra></extra>",
           "legendgroup": "edge_l",
           "marker": {
            "color": "#636efa",
            "symbol": "circle"
           },
           "mode": "markers",
           "name": "edge_l",
           "orientation": "v",
           "showlegend": true,
           "type": "scatter",
           "x": [
            17,
            26,
            2,
            14,
            36
           ],
           "xaxis": "x",
           "y": [
            86,
            7,
            61,
            18,
            3
           ],
           "yaxis": "y"
          },
          {
           "hovertemplate": "state=feed_l<br>time=425<br>x=%{x}<br>y=%{y}<extra></extra>",
           "legendgroup": "feed_l",
           "marker": {
            "color": "#00cc96",
            "symbol": "circle"
           },
           "mode": "markers",
           "name": "feed_l",
           "orientation": "v",
           "showlegend": true,
           "type": "scatter",
           "x": [
            12,
            14,
            19
           ],
           "xaxis": "x",
           "y": [
            51,
            46,
            49
           ],
           "yaxis": "y"
          },
          {
           "hovertemplate": "state=feed_r<br>time=425<br>x=%{x}<br>y=%{y}<extra></extra>",
           "legendgroup": "feed_r",
           "marker": {
            "color": "#ab63fa",
            "symbol": "circle"
           },
           "mode": "markers",
           "name": "feed_r",
           "orientation": "v",
           "showlegend": true,
           "type": "scatter",
           "x": [
            86,
            86,
            88
           ],
           "xaxis": "x",
           "y": [
            46,
            43,
            47
           ],
           "yaxis": "y"
          },
          {
           "hovertemplate": "state=search_l<br>time=425<br>x=%{x}<br>y=%{y}<extra></extra>",
           "legendgroup": "search_l",
           "marker": {
            "color": "#FFA15A",
            "symbol": "circle"
           },
           "mode": "markers",
           "name": "search_l",
           "orientation": "v",
           "showlegend": true,
           "type": "scatter",
           "x": [
            25,
            28,
            32,
            23
           ],
           "xaxis": "x",
           "y": [
            89,
            81,
            13,
            85
           ],
           "yaxis": "y"
          }
         ],
         "name": "425"
        },
        {
         "data": [
          {
           "hovertemplate": "state=edge_l<br>time=426<br>x=%{x}<br>y=%{y}<extra></extra>",
           "legendgroup": "edge_l",
           "marker": {
            "color": "#636efa",
            "symbol": "circle"
           },
           "mode": "markers",
           "name": "edge_l",
           "orientation": "v",
           "showlegend": true,
           "type": "scatter",
           "x": [
            20,
            26,
            3,
            14,
            37
           ],
           "xaxis": "x",
           "y": [
            89,
            7,
            63,
            17,
            3
           ],
           "yaxis": "y"
          },
          {
           "hovertemplate": "state=feed_l<br>time=426<br>x=%{x}<br>y=%{y}<extra></extra>",
           "legendgroup": "feed_l",
           "marker": {
            "color": "#00cc96",
            "symbol": "circle"
           },
           "mode": "markers",
           "name": "feed_l",
           "orientation": "v",
           "showlegend": true,
           "type": "scatter",
           "x": [
            12,
            14,
            19
           ],
           "xaxis": "x",
           "y": [
            51,
            45,
            49
           ],
           "yaxis": "y"
          },
          {
           "hovertemplate": "state=feed_r<br>time=426<br>x=%{x}<br>y=%{y}<extra></extra>",
           "legendgroup": "feed_r",
           "marker": {
            "color": "#ab63fa",
            "symbol": "circle"
           },
           "mode": "markers",
           "name": "feed_r",
           "orientation": "v",
           "showlegend": true,
           "type": "scatter",
           "x": [
            84,
            82,
            88
           ],
           "xaxis": "x",
           "y": [
            45,
            43,
            46
           ],
           "yaxis": "y"
          },
          {
           "hovertemplate": "state=search_l<br>time=426<br>x=%{x}<br>y=%{y}<extra></extra>",
           "legendgroup": "search_l",
           "marker": {
            "color": "#FFA15A",
            "symbol": "circle"
           },
           "mode": "markers",
           "name": "search_l",
           "orientation": "v",
           "showlegend": true,
           "type": "scatter",
           "x": [
            25,
            28,
            32,
            23
           ],
           "xaxis": "x",
           "y": [
            89,
            82,
            13,
            85
           ],
           "yaxis": "y"
          }
         ],
         "name": "426"
        },
        {
         "data": [
          {
           "hovertemplate": "state=edge_l<br>time=427<br>x=%{x}<br>y=%{y}<extra></extra>",
           "legendgroup": "edge_l",
           "marker": {
            "color": "#636efa",
            "symbol": "circle"
           },
           "mode": "markers",
           "name": "edge_l",
           "orientation": "v",
           "showlegend": true,
           "type": "scatter",
           "x": [
            23,
            26,
            4,
            14,
            41
           ],
           "xaxis": "x",
           "y": [
            91,
            7,
            66,
            17,
            2
           ],
           "yaxis": "y"
          },
          {
           "hovertemplate": "state=feed_l<br>time=427<br>x=%{x}<br>y=%{y}<extra></extra>",
           "legendgroup": "feed_l",
           "marker": {
            "color": "#00cc96",
            "symbol": "circle"
           },
           "mode": "markers",
           "name": "feed_l",
           "orientation": "v",
           "showlegend": true,
           "type": "scatter",
           "x": [
            12,
            14,
            19
           ],
           "xaxis": "x",
           "y": [
            50,
            45,
            49
           ],
           "yaxis": "y"
          },
          {
           "hovertemplate": "state=feed_r<br>time=427<br>x=%{x}<br>y=%{y}<extra></extra>",
           "legendgroup": "feed_r",
           "marker": {
            "color": "#ab63fa",
            "symbol": "circle"
           },
           "mode": "markers",
           "name": "feed_r",
           "orientation": "v",
           "showlegend": true,
           "type": "scatter",
           "x": [
            84,
            78,
            88
           ],
           "xaxis": "x",
           "y": [
            45,
            45,
            46
           ],
           "yaxis": "y"
          },
          {
           "hovertemplate": "state=search_l<br>time=427<br>x=%{x}<br>y=%{y}<extra></extra>",
           "legendgroup": "search_l",
           "marker": {
            "color": "#FFA15A",
            "symbol": "circle"
           },
           "mode": "markers",
           "name": "search_l",
           "orientation": "v",
           "showlegend": true,
           "type": "scatter",
           "x": [
            26,
            28,
            32,
            23
           ],
           "xaxis": "x",
           "y": [
            89,
            84,
            13,
            85
           ],
           "yaxis": "y"
          }
         ],
         "name": "427"
        },
        {
         "data": [
          {
           "hovertemplate": "state=edge_l<br>time=428<br>x=%{x}<br>y=%{y}<extra></extra>",
           "legendgroup": "edge_l",
           "marker": {
            "color": "#636efa",
            "symbol": "circle"
           },
           "mode": "markers",
           "name": "edge_l",
           "orientation": "v",
           "showlegend": true,
           "type": "scatter",
           "x": [
            27,
            25,
            5,
            14,
            44
           ],
           "xaxis": "x",
           "y": [
            92,
            8,
            68,
            17,
            1
           ],
           "yaxis": "y"
          },
          {
           "hovertemplate": "state=feed_l<br>time=428<br>x=%{x}<br>y=%{y}<extra></extra>",
           "legendgroup": "feed_l",
           "marker": {
            "color": "#00cc96",
            "symbol": "circle"
           },
           "mode": "markers",
           "name": "feed_l",
           "orientation": "v",
           "showlegend": true,
           "type": "scatter",
           "x": [
            12,
            14,
            19
           ],
           "xaxis": "x",
           "y": [
            50,
            45,
            49
           ],
           "yaxis": "y"
          },
          {
           "hovertemplate": "state=feed_r<br>time=428<br>x=%{x}<br>y=%{y}<extra></extra>",
           "legendgroup": "feed_r",
           "marker": {
            "color": "#ab63fa",
            "symbol": "circle"
           },
           "mode": "markers",
           "name": "feed_r",
           "orientation": "v",
           "showlegend": true,
           "type": "scatter",
           "x": [
            84,
            76,
            88
           ],
           "xaxis": "x",
           "y": [
            45,
            47,
            46
           ],
           "yaxis": "y"
          },
          {
           "hovertemplate": "state=search_l<br>time=428<br>x=%{x}<br>y=%{y}<extra></extra>",
           "legendgroup": "search_l",
           "marker": {
            "color": "#FFA15A",
            "symbol": "circle"
           },
           "mode": "markers",
           "name": "search_l",
           "orientation": "v",
           "showlegend": true,
           "type": "scatter",
           "x": [
            26,
            31,
            32,
            23
           ],
           "xaxis": "x",
           "y": [
            89,
            89,
            13,
            86
           ],
           "yaxis": "y"
          }
         ],
         "name": "428"
        },
        {
         "data": [
          {
           "hovertemplate": "state=edge_l<br>time=429<br>x=%{x}<br>y=%{y}<extra></extra>",
           "legendgroup": "edge_l",
           "marker": {
            "color": "#636efa",
            "symbol": "circle"
           },
           "mode": "markers",
           "name": "edge_l",
           "orientation": "v",
           "showlegend": true,
           "type": "scatter",
           "x": [
            32,
            23,
            6,
            14,
            46
           ],
           "xaxis": "x",
           "y": [
            95,
            9,
            71,
            17,
            1
           ],
           "yaxis": "y"
          },
          {
           "hovertemplate": "state=feed_l<br>time=429<br>x=%{x}<br>y=%{y}<extra></extra>",
           "legendgroup": "feed_l",
           "marker": {
            "color": "#00cc96",
            "symbol": "circle"
           },
           "mode": "markers",
           "name": "feed_l",
           "orientation": "v",
           "showlegend": true,
           "type": "scatter",
           "x": [
            12,
            14,
            19
           ],
           "xaxis": "x",
           "y": [
            50,
            45,
            49
           ],
           "yaxis": "y"
          },
          {
           "hovertemplate": "state=feed_r<br>time=429<br>x=%{x}<br>y=%{y}<extra></extra>",
           "legendgroup": "feed_r",
           "marker": {
            "color": "#ab63fa",
            "symbol": "circle"
           },
           "mode": "markers",
           "name": "feed_r",
           "orientation": "v",
           "showlegend": true,
           "type": "scatter",
           "x": [
            84,
            88
           ],
           "xaxis": "x",
           "y": [
            45,
            46
           ],
           "yaxis": "y"
          },
          {
           "hovertemplate": "state=search_l<br>time=429<br>x=%{x}<br>y=%{y}<extra></extra>",
           "legendgroup": "search_l",
           "marker": {
            "color": "#FFA15A",
            "symbol": "circle"
           },
           "mode": "markers",
           "name": "search_l",
           "orientation": "v",
           "showlegend": true,
           "type": "scatter",
           "x": [
            26,
            32,
            32,
            23
           ],
           "xaxis": "x",
           "y": [
            89,
            90,
            13,
            86
           ],
           "yaxis": "y"
          },
          {
           "hovertemplate": "state=search_r<br>time=429<br>x=%{x}<br>y=%{y}<extra></extra>",
           "legendgroup": "search_r",
           "marker": {
            "color": "#19d3f3",
            "symbol": "circle"
           },
           "mode": "markers",
           "name": "search_r",
           "orientation": "v",
           "showlegend": true,
           "type": "scatter",
           "x": [
            72
           ],
           "xaxis": "x",
           "y": [
            50
           ],
           "yaxis": "y"
          }
         ],
         "name": "429"
        },
        {
         "data": [
          {
           "hovertemplate": "state=edge_l<br>time=430<br>x=%{x}<br>y=%{y}<extra></extra>",
           "legendgroup": "edge_l",
           "marker": {
            "color": "#636efa",
            "symbol": "circle"
           },
           "mode": "markers",
           "name": "edge_l",
           "orientation": "v",
           "showlegend": true,
           "type": "scatter",
           "x": [
            38,
            22,
            7,
            14,
            48
           ],
           "xaxis": "x",
           "y": [
            97,
            10,
            73,
            17,
            1
           ],
           "yaxis": "y"
          },
          {
           "hovertemplate": "state=feed_l<br>time=430<br>x=%{x}<br>y=%{y}<extra></extra>",
           "legendgroup": "feed_l",
           "marker": {
            "color": "#00cc96",
            "symbol": "circle"
           },
           "mode": "markers",
           "name": "feed_l",
           "orientation": "v",
           "showlegend": true,
           "type": "scatter",
           "x": [
            12,
            15,
            19
           ],
           "xaxis": "x",
           "y": [
            50,
            45,
            49
           ],
           "yaxis": "y"
          },
          {
           "hovertemplate": "state=feed_r<br>time=430<br>x=%{x}<br>y=%{y}<extra></extra>",
           "legendgroup": "feed_r",
           "marker": {
            "color": "#ab63fa",
            "symbol": "circle"
           },
           "mode": "markers",
           "name": "feed_r",
           "orientation": "v",
           "showlegend": true,
           "type": "scatter",
           "x": [
            83,
            87
           ],
           "xaxis": "x",
           "y": [
            45,
            45
           ],
           "yaxis": "y"
          },
          {
           "hovertemplate": "state=search_l<br>time=430<br>x=%{x}<br>y=%{y}<extra></extra>",
           "legendgroup": "search_l",
           "marker": {
            "color": "#FFA15A",
            "symbol": "circle"
           },
           "mode": "markers",
           "name": "search_l",
           "orientation": "v",
           "showlegend": true,
           "type": "scatter",
           "x": [
            26,
            32,
            32,
            23
           ],
           "xaxis": "x",
           "y": [
            89,
            91,
            13,
            86
           ],
           "yaxis": "y"
          },
          {
           "hovertemplate": "state=search_r<br>time=430<br>x=%{x}<br>y=%{y}<extra></extra>",
           "legendgroup": "search_r",
           "marker": {
            "color": "#19d3f3",
            "symbol": "circle"
           },
           "mode": "markers",
           "name": "search_r",
           "orientation": "v",
           "showlegend": true,
           "type": "scatter",
           "x": [
            71
           ],
           "xaxis": "x",
           "y": [
            50
           ],
           "yaxis": "y"
          }
         ],
         "name": "430"
        },
        {
         "data": [
          {
           "hovertemplate": "state=edge_l<br>time=431<br>x=%{x}<br>y=%{y}<extra></extra>",
           "legendgroup": "edge_l",
           "marker": {
            "color": "#636efa",
            "symbol": "circle"
           },
           "mode": "markers",
           "name": "edge_l",
           "orientation": "v",
           "showlegend": true,
           "type": "scatter",
           "x": [
            44,
            21,
            8,
            14,
            49
           ],
           "xaxis": "x",
           "y": [
            98,
            10,
            76,
            17,
            1
           ],
           "yaxis": "y"
          },
          {
           "hovertemplate": "state=feed_l<br>time=431<br>x=%{x}<br>y=%{y}<extra></extra>",
           "legendgroup": "feed_l",
           "marker": {
            "color": "#00cc96",
            "symbol": "circle"
           },
           "mode": "markers",
           "name": "feed_l",
           "orientation": "v",
           "showlegend": true,
           "type": "scatter",
           "x": [
            12,
            16,
            19
           ],
           "xaxis": "x",
           "y": [
            49,
            45,
            49
           ],
           "yaxis": "y"
          },
          {
           "hovertemplate": "state=feed_r<br>time=431<br>x=%{x}<br>y=%{y}<extra></extra>",
           "legendgroup": "feed_r",
           "marker": {
            "color": "#ab63fa",
            "symbol": "circle"
           },
           "mode": "markers",
           "name": "feed_r",
           "orientation": "v",
           "showlegend": true,
           "type": "scatter",
           "x": [
            83,
            87
           ],
           "xaxis": "x",
           "y": [
            45,
            45
           ],
           "yaxis": "y"
          },
          {
           "hovertemplate": "state=search_l<br>time=431<br>x=%{x}<br>y=%{y}<extra></extra>",
           "legendgroup": "search_l",
           "marker": {
            "color": "#FFA15A",
            "symbol": "circle"
           },
           "mode": "markers",
           "name": "search_l",
           "orientation": "v",
           "showlegend": true,
           "type": "scatter",
           "x": [
            26,
            34,
            32,
            23
           ],
           "xaxis": "x",
           "y": [
            89,
            91,
            13,
            86
           ],
           "yaxis": "y"
          },
          {
           "hovertemplate": "state=search_r<br>time=431<br>x=%{x}<br>y=%{y}<extra></extra>",
           "legendgroup": "search_r",
           "marker": {
            "color": "#19d3f3",
            "symbol": "circle"
           },
           "mode": "markers",
           "name": "search_r",
           "orientation": "v",
           "showlegend": true,
           "type": "scatter",
           "x": [
            66
           ],
           "xaxis": "x",
           "y": [
            50
           ],
           "yaxis": "y"
          }
         ],
         "name": "431"
        },
        {
         "data": [
          {
           "hovertemplate": "state=edge_l<br>time=432<br>x=%{x}<br>y=%{y}<extra></extra>",
           "legendgroup": "edge_l",
           "marker": {
            "color": "#636efa",
            "symbol": "circle"
           },
           "mode": "markers",
           "name": "edge_l",
           "orientation": "v",
           "showlegend": true,
           "type": "scatter",
           "x": [
            20,
            10,
            14
           ],
           "xaxis": "x",
           "y": [
            11,
            78,
            17
           ],
           "yaxis": "y"
          },
          {
           "hovertemplate": "state=edge_r<br>time=432<br>x=%{x}<br>y=%{y}<extra></extra>",
           "legendgroup": "edge_r",
           "marker": {
            "color": "#EF553B",
            "symbol": "circle"
           },
           "mode": "markers",
           "name": "edge_r",
           "orientation": "v",
           "showlegend": true,
           "type": "scatter",
           "x": [
            50,
            50
           ],
           "xaxis": "x",
           "y": [
            98,
            1
           ],
           "yaxis": "y"
          },
          {
           "hovertemplate": "state=feed_l<br>time=432<br>x=%{x}<br>y=%{y}<extra></extra>",
           "legendgroup": "feed_l",
           "marker": {
            "color": "#00cc96",
            "symbol": "circle"
           },
           "mode": "markers",
           "name": "feed_l",
           "orientation": "v",
           "showlegend": true,
           "type": "scatter",
           "x": [
            12,
            17,
            18
           ],
           "xaxis": "x",
           "y": [
            49,
            46,
            50
           ],
           "yaxis": "y"
          },
          {
           "hovertemplate": "state=feed_r<br>time=432<br>x=%{x}<br>y=%{y}<extra></extra>",
           "legendgroup": "feed_r",
           "marker": {
            "color": "#ab63fa",
            "symbol": "circle"
           },
           "mode": "markers",
           "name": "feed_r",
           "orientation": "v",
           "showlegend": true,
           "type": "scatter",
           "x": [
            83,
            86
           ],
           "xaxis": "x",
           "y": [
            45,
            44
           ],
           "yaxis": "y"
          },
          {
           "hovertemplate": "state=search_l<br>time=432<br>x=%{x}<br>y=%{y}<extra></extra>",
           "legendgroup": "search_l",
           "marker": {
            "color": "#FFA15A",
            "symbol": "circle"
           },
           "mode": "markers",
           "name": "search_l",
           "orientation": "v",
           "showlegend": true,
           "type": "scatter",
           "x": [
            26,
            39,
            32,
            23
           ],
           "xaxis": "x",
           "y": [
            89,
            92,
            13,
            86
           ],
           "yaxis": "y"
          },
          {
           "hovertemplate": "state=search_r<br>time=432<br>x=%{x}<br>y=%{y}<extra></extra>",
           "legendgroup": "search_r",
           "marker": {
            "color": "#19d3f3",
            "symbol": "circle"
           },
           "mode": "markers",
           "name": "search_r",
           "orientation": "v",
           "showlegend": true,
           "type": "scatter",
           "x": [
            61
           ],
           "xaxis": "x",
           "y": [
            49
           ],
           "yaxis": "y"
          }
         ],
         "name": "432"
        },
        {
         "data": [
          {
           "hovertemplate": "state=edge_l<br>time=433<br>x=%{x}<br>y=%{y}<extra></extra>",
           "legendgroup": "edge_l",
           "marker": {
            "color": "#636efa",
            "symbol": "circle"
           },
           "mode": "markers",
           "name": "edge_l",
           "orientation": "v",
           "showlegend": true,
           "type": "scatter",
           "x": [
            18,
            11,
            14
           ],
           "xaxis": "x",
           "y": [
            13,
            80,
            17
           ],
           "yaxis": "y"
          },
          {
           "hovertemplate": "state=edge_r<br>time=433<br>x=%{x}<br>y=%{y}<extra></extra>",
           "legendgroup": "edge_r",
           "marker": {
            "color": "#EF553B",
            "symbol": "circle"
           },
           "mode": "markers",
           "name": "edge_r",
           "orientation": "v",
           "showlegend": true,
           "type": "scatter",
           "x": [
            55,
            52
           ],
           "xaxis": "x",
           "y": [
            98,
            1
           ],
           "yaxis": "y"
          },
          {
           "hovertemplate": "state=feed_l<br>time=433<br>x=%{x}<br>y=%{y}<extra></extra>",
           "legendgroup": "feed_l",
           "marker": {
            "color": "#00cc96",
            "symbol": "circle"
           },
           "mode": "markers",
           "name": "feed_l",
           "orientation": "v",
           "showlegend": true,
           "type": "scatter",
           "x": [
            11,
            17,
            18
           ],
           "xaxis": "x",
           "y": [
            49,
            46,
            51
           ],
           "yaxis": "y"
          },
          {
           "hovertemplate": "state=feed_r<br>time=433<br>x=%{x}<br>y=%{y}<extra></extra>",
           "legendgroup": "feed_r",
           "marker": {
            "color": "#ab63fa",
            "symbol": "circle"
           },
           "mode": "markers",
           "name": "feed_r",
           "orientation": "v",
           "showlegend": true,
           "type": "scatter",
           "x": [
            83,
            84
           ],
           "xaxis": "x",
           "y": [
            45,
            42
           ],
           "yaxis": "y"
          },
          {
           "hovertemplate": "state=search_l<br>time=433<br>x=%{x}<br>y=%{y}<extra></extra>",
           "legendgroup": "search_l",
           "marker": {
            "color": "#FFA15A",
            "symbol": "circle"
           },
           "mode": "markers",
           "name": "search_l",
           "orientation": "v",
           "showlegend": true,
           "type": "scatter",
           "x": [
            26,
            44,
            32,
            23
           ],
           "xaxis": "x",
           "y": [
            89,
            91,
            13,
            86
           ],
           "yaxis": "y"
          },
          {
           "hovertemplate": "state=search_r<br>time=433<br>x=%{x}<br>y=%{y}<extra></extra>",
           "legendgroup": "search_r",
           "marker": {
            "color": "#19d3f3",
            "symbol": "circle"
           },
           "mode": "markers",
           "name": "search_r",
           "orientation": "v",
           "showlegend": true,
           "type": "scatter",
           "x": [
            61
           ],
           "xaxis": "x",
           "y": [
            49
           ],
           "yaxis": "y"
          }
         ],
         "name": "433"
        },
        {
         "data": [
          {
           "hovertemplate": "state=edge_l<br>time=434<br>x=%{x}<br>y=%{y}<extra></extra>",
           "legendgroup": "edge_l",
           "marker": {
            "color": "#636efa",
            "symbol": "circle"
           },
           "mode": "markers",
           "name": "edge_l",
           "orientation": "v",
           "showlegend": true,
           "type": "scatter",
           "x": [
            17,
            13,
            14
           ],
           "xaxis": "x",
           "y": [
            13,
            82,
            18
           ],
           "yaxis": "y"
          },
          {
           "hovertemplate": "state=edge_r<br>time=434<br>x=%{x}<br>y=%{y}<extra></extra>",
           "legendgroup": "edge_r",
           "marker": {
            "color": "#EF553B",
            "symbol": "circle"
           },
           "mode": "markers",
           "name": "edge_r",
           "orientation": "v",
           "showlegend": true,
           "type": "scatter",
           "x": [
            60,
            54
           ],
           "xaxis": "x",
           "y": [
            98,
            1
           ],
           "yaxis": "y"
          },
          {
           "hovertemplate": "state=feed_l<br>time=434<br>x=%{x}<br>y=%{y}<extra></extra>",
           "legendgroup": "feed_l",
           "marker": {
            "color": "#00cc96",
            "symbol": "circle"
           },
           "mode": "markers",
           "name": "feed_l",
           "orientation": "v",
           "showlegend": true,
           "type": "scatter",
           "x": [
            11,
            17,
            17
           ],
           "xaxis": "x",
           "y": [
            49,
            45,
            51
           ],
           "yaxis": "y"
          },
          {
           "hovertemplate": "state=feed_r<br>time=434<br>x=%{x}<br>y=%{y}<extra></extra>",
           "legendgroup": "feed_r",
           "marker": {
            "color": "#ab63fa",
            "symbol": "circle"
           },
           "mode": "markers",
           "name": "feed_r",
           "orientation": "v",
           "showlegend": true,
           "type": "scatter",
           "x": [
            83,
            81
           ],
           "xaxis": "x",
           "y": [
            45,
            41
           ],
           "yaxis": "y"
          },
          {
           "hovertemplate": "state=search_l<br>time=434<br>x=%{x}<br>y=%{y}<extra></extra>",
           "legendgroup": "search_l",
           "marker": {
            "color": "#FFA15A",
            "symbol": "circle"
           },
           "mode": "markers",
           "name": "search_l",
           "orientation": "v",
           "showlegend": true,
           "type": "scatter",
           "x": [
            26,
            49,
            32,
            23
           ],
           "xaxis": "x",
           "y": [
            89,
            88,
            13,
            86
           ],
           "yaxis": "y"
          },
          {
           "hovertemplate": "state=search_r<br>time=434<br>x=%{x}<br>y=%{y}<extra></extra>",
           "legendgroup": "search_r",
           "marker": {
            "color": "#19d3f3",
            "symbol": "circle"
           },
           "mode": "markers",
           "name": "search_r",
           "orientation": "v",
           "showlegend": true,
           "type": "scatter",
           "x": [
            61
           ],
           "xaxis": "x",
           "y": [
            49
           ],
           "yaxis": "y"
          }
         ],
         "name": "434"
        },
        {
         "data": [
          {
           "hovertemplate": "state=edge_l<br>time=435<br>x=%{x}<br>y=%{y}<extra></extra>",
           "legendgroup": "edge_l",
           "marker": {
            "color": "#636efa",
            "symbol": "circle"
           },
           "mode": "markers",
           "name": "edge_l",
           "orientation": "v",
           "showlegend": true,
           "type": "scatter",
           "x": [
            17,
            15,
            14
           ],
           "xaxis": "x",
           "y": [
            14,
            84,
            18
           ],
           "yaxis": "y"
          },
          {
           "hovertemplate": "state=edge_r<br>time=435<br>x=%{x}<br>y=%{y}<extra></extra>",
           "legendgroup": "edge_r",
           "marker": {
            "color": "#EF553B",
            "symbol": "circle"
           },
           "mode": "markers",
           "name": "edge_r",
           "orientation": "v",
           "showlegend": true,
           "type": "scatter",
           "x": [
            66,
            56
           ],
           "xaxis": "x",
           "y": [
            96,
            1
           ],
           "yaxis": "y"
          },
          {
           "hovertemplate": "state=feed_l<br>time=435<br>x=%{x}<br>y=%{y}<extra></extra>",
           "legendgroup": "feed_l",
           "marker": {
            "color": "#00cc96",
            "symbol": "circle"
           },
           "mode": "markers",
           "name": "feed_l",
           "orientation": "v",
           "showlegend": true,
           "type": "scatter",
           "x": [
            11,
            17,
            17
           ],
           "xaxis": "x",
           "y": [
            48,
            46,
            51
           ],
           "yaxis": "y"
          },
          {
           "hovertemplate": "state=feed_r<br>time=435<br>x=%{x}<br>y=%{y}<extra></extra>",
           "legendgroup": "feed_r",
           "marker": {
            "color": "#ab63fa",
            "symbol": "circle"
           },
           "mode": "markers",
           "name": "feed_r",
           "orientation": "v",
           "showlegend": true,
           "type": "scatter",
           "x": [
            83,
            77
           ],
           "xaxis": "x",
           "y": [
            44,
            46
           ],
           "yaxis": "y"
          },
          {
           "hovertemplate": "state=search_l<br>time=435<br>x=%{x}<br>y=%{y}<extra></extra>",
           "legendgroup": "search_l",
           "marker": {
            "color": "#FFA15A",
            "symbol": "circle"
           },
           "mode": "markers",
           "name": "search_l",
           "orientation": "v",
           "showlegend": true,
           "type": "scatter",
           "x": [
            26,
            32,
            23
           ],
           "xaxis": "x",
           "y": [
            89,
            13,
            86
           ],
           "yaxis": "y"
          },
          {
           "hovertemplate": "state=search_r<br>time=435<br>x=%{x}<br>y=%{y}<extra></extra>",
           "legendgroup": "search_r",
           "marker": {
            "color": "#19d3f3",
            "symbol": "circle"
           },
           "mode": "markers",
           "name": "search_r",
           "orientation": "v",
           "showlegend": true,
           "type": "scatter",
           "x": [
            53,
            61
           ],
           "xaxis": "x",
           "y": [
            85,
            49
           ],
           "yaxis": "y"
          }
         ],
         "name": "435"
        },
        {
         "data": [
          {
           "hovertemplate": "state=edge_l<br>time=436<br>x=%{x}<br>y=%{y}<extra></extra>",
           "legendgroup": "edge_l",
           "marker": {
            "color": "#636efa",
            "symbol": "circle"
           },
           "mode": "markers",
           "name": "edge_l",
           "orientation": "v",
           "showlegend": true,
           "type": "scatter",
           "x": [
            17,
            17,
            14
           ],
           "xaxis": "x",
           "y": [
            14,
            86,
            18
           ],
           "yaxis": "y"
          },
          {
           "hovertemplate": "state=edge_r<br>time=436<br>x=%{x}<br>y=%{y}<extra></extra>",
           "legendgroup": "edge_r",
           "marker": {
            "color": "#EF553B",
            "symbol": "circle"
           },
           "mode": "markers",
           "name": "edge_r",
           "orientation": "v",
           "showlegend": true,
           "type": "scatter",
           "x": [
            71,
            57
           ],
           "xaxis": "x",
           "y": [
            94,
            1
           ],
           "yaxis": "y"
          },
          {
           "hovertemplate": "state=feed_l<br>time=436<br>x=%{x}<br>y=%{y}<extra></extra>",
           "legendgroup": "feed_l",
           "marker": {
            "color": "#00cc96",
            "symbol": "circle"
           },
           "mode": "markers",
           "name": "feed_l",
           "orientation": "v",
           "showlegend": true,
           "type": "scatter",
           "x": [
            11,
            18,
            17
           ],
           "xaxis": "x",
           "y": [
            48,
            46,
            51
           ],
           "yaxis": "y"
          },
          {
           "hovertemplate": "state=feed_r<br>time=436<br>x=%{x}<br>y=%{y}<extra></extra>",
           "legendgroup": "feed_r",
           "marker": {
            "color": "#ab63fa",
            "symbol": "circle"
           },
           "mode": "markers",
           "name": "feed_r",
           "orientation": "v",
           "showlegend": true,
           "type": "scatter",
           "x": [
            83,
            76
           ],
           "xaxis": "x",
           "y": [
            44,
            49
           ],
           "yaxis": "y"
          },
          {
           "hovertemplate": "state=search_l<br>time=436<br>x=%{x}<br>y=%{y}<extra></extra>",
           "legendgroup": "search_l",
           "marker": {
            "color": "#FFA15A",
            "symbol": "circle"
           },
           "mode": "markers",
           "name": "search_l",
           "orientation": "v",
           "showlegend": true,
           "type": "scatter",
           "x": [
            26,
            32,
            23
           ],
           "xaxis": "x",
           "y": [
            89,
            13,
            86
           ],
           "yaxis": "y"
          },
          {
           "hovertemplate": "state=search_r<br>time=436<br>x=%{x}<br>y=%{y}<extra></extra>",
           "legendgroup": "search_r",
           "marker": {
            "color": "#19d3f3",
            "symbol": "circle"
           },
           "mode": "markers",
           "name": "search_r",
           "orientation": "v",
           "showlegend": true,
           "type": "scatter",
           "x": [
            57,
            61
           ],
           "xaxis": "x",
           "y": [
            81,
            49
           ],
           "yaxis": "y"
          }
         ],
         "name": "436"
        },
        {
         "data": [
          {
           "hovertemplate": "state=edge_l<br>time=437<br>x=%{x}<br>y=%{y}<extra></extra>",
           "legendgroup": "edge_l",
           "marker": {
            "color": "#636efa",
            "symbol": "circle"
           },
           "mode": "markers",
           "name": "edge_l",
           "orientation": "v",
           "showlegend": true,
           "type": "scatter",
           "x": [
            16,
            19,
            15
           ],
           "xaxis": "x",
           "y": [
            14,
            87,
            17
           ],
           "yaxis": "y"
          },
          {
           "hovertemplate": "state=edge_r<br>time=437<br>x=%{x}<br>y=%{y}<extra></extra>",
           "legendgroup": "edge_r",
           "marker": {
            "color": "#EF553B",
            "symbol": "circle"
           },
           "mode": "markers",
           "name": "edge_r",
           "orientation": "v",
           "showlegend": true,
           "type": "scatter",
           "x": [
            76,
            58
           ],
           "xaxis": "x",
           "y": [
            91,
            1
           ],
           "yaxis": "y"
          },
          {
           "hovertemplate": "state=feed_l<br>time=437<br>x=%{x}<br>y=%{y}<extra></extra>",
           "legendgroup": "feed_l",
           "marker": {
            "color": "#00cc96",
            "symbol": "circle"
           },
           "mode": "markers",
           "name": "feed_l",
           "orientation": "v",
           "showlegend": true,
           "type": "scatter",
           "x": [
            11,
            18,
            17
           ],
           "xaxis": "x",
           "y": [
            48,
            46,
            51
           ],
           "yaxis": "y"
          },
          {
           "hovertemplate": "state=feed_r<br>time=437<br>x=%{x}<br>y=%{y}<extra></extra>",
           "legendgroup": "feed_r",
           "marker": {
            "color": "#ab63fa",
            "symbol": "circle"
           },
           "mode": "markers",
           "name": "feed_r",
           "orientation": "v",
           "showlegend": true,
           "type": "scatter",
           "x": [
            83,
            76
           ],
           "xaxis": "x",
           "y": [
            44,
            49
           ],
           "yaxis": "y"
          },
          {
           "hovertemplate": "state=search_l<br>time=437<br>x=%{x}<br>y=%{y}<extra></extra>",
           "legendgroup": "search_l",
           "marker": {
            "color": "#FFA15A",
            "symbol": "circle"
           },
           "mode": "markers",
           "name": "search_l",
           "orientation": "v",
           "showlegend": true,
           "type": "scatter",
           "x": [
            26,
            32,
            23
           ],
           "xaxis": "x",
           "y": [
            89,
            13,
            85
           ],
           "yaxis": "y"
          },
          {
           "hovertemplate": "state=search_r<br>time=437<br>x=%{x}<br>y=%{y}<extra></extra>",
           "legendgroup": "search_r",
           "marker": {
            "color": "#19d3f3",
            "symbol": "circle"
           },
           "mode": "markers",
           "name": "search_r",
           "orientation": "v",
           "showlegend": true,
           "type": "scatter",
           "x": [
            59,
            59
           ],
           "xaxis": "x",
           "y": [
            79,
            45
           ],
           "yaxis": "y"
          }
         ],
         "name": "437"
        },
        {
         "data": [
          {
           "hovertemplate": "state=edge_l<br>time=438<br>x=%{x}<br>y=%{y}<extra></extra>",
           "legendgroup": "edge_l",
           "marker": {
            "color": "#636efa",
            "symbol": "circle"
           },
           "mode": "markers",
           "name": "edge_l",
           "orientation": "v",
           "showlegend": true,
           "type": "scatter",
           "x": [
            15,
            21
           ],
           "xaxis": "x",
           "y": [
            16,
            89
           ],
           "yaxis": "y"
          },
          {
           "hovertemplate": "state=edge_r<br>time=438<br>x=%{x}<br>y=%{y}<extra></extra>",
           "legendgroup": "edge_r",
           "marker": {
            "color": "#EF553B",
            "symbol": "circle"
           },
           "mode": "markers",
           "name": "edge_r",
           "orientation": "v",
           "showlegend": true,
           "type": "scatter",
           "x": [
            80,
            59
           ],
           "xaxis": "x",
           "y": [
            88,
            2
           ],
           "yaxis": "y"
          },
          {
           "hovertemplate": "state=feed_l<br>time=438<br>x=%{x}<br>y=%{y}<extra></extra>",
           "legendgroup": "feed_l",
           "marker": {
            "color": "#00cc96",
            "symbol": "circle"
           },
           "mode": "markers",
           "name": "feed_l",
           "orientation": "v",
           "showlegend": true,
           "type": "scatter",
           "x": [
            11,
            18,
            16
           ],
           "xaxis": "x",
           "y": [
            48,
            46,
            52
           ],
           "yaxis": "y"
          },
          {
           "hovertemplate": "state=feed_r<br>time=438<br>x=%{x}<br>y=%{y}<extra></extra>",
           "legendgroup": "feed_r",
           "marker": {
            "color": "#ab63fa",
            "symbol": "circle"
           },
           "mode": "markers",
           "name": "feed_r",
           "orientation": "v",
           "showlegend": true,
           "type": "scatter",
           "x": [
            83,
            78
           ],
           "xaxis": "x",
           "y": [
            44,
            50
           ],
           "yaxis": "y"
          },
          {
           "hovertemplate": "state=search_l<br>time=438<br>x=%{x}<br>y=%{y}<extra></extra>",
           "legendgroup": "search_l",
           "marker": {
            "color": "#FFA15A",
            "symbol": "circle"
           },
           "mode": "markers",
           "name": "search_l",
           "orientation": "v",
           "showlegend": true,
           "type": "scatter",
           "x": [
            26,
            32,
            18,
            23
           ],
           "xaxis": "x",
           "y": [
            89,
            13,
            16,
            85
           ],
           "yaxis": "y"
          },
          {
           "hovertemplate": "state=search_r<br>time=438<br>x=%{x}<br>y=%{y}<extra></extra>",
           "legendgroup": "search_r",
           "marker": {
            "color": "#19d3f3",
            "symbol": "circle"
           },
           "mode": "markers",
           "name": "search_r",
           "orientation": "v",
           "showlegend": true,
           "type": "scatter",
           "x": [
            60,
            56
           ],
           "xaxis": "x",
           "y": [
            77,
            38
           ],
           "yaxis": "y"
          }
         ],
         "name": "438"
        },
        {
         "data": [
          {
           "hovertemplate": "state=edge_l<br>time=439<br>x=%{x}<br>y=%{y}<extra></extra>",
           "legendgroup": "edge_l",
           "marker": {
            "color": "#636efa",
            "symbol": "circle"
           },
           "mode": "markers",
           "name": "edge_l",
           "orientation": "v",
           "showlegend": true,
           "type": "scatter",
           "x": [
            13,
            23
           ],
           "xaxis": "x",
           "y": [
            18,
            91
           ],
           "yaxis": "y"
          },
          {
           "hovertemplate": "state=edge_r<br>time=439<br>x=%{x}<br>y=%{y}<extra></extra>",
           "legendgroup": "edge_r",
           "marker": {
            "color": "#EF553B",
            "symbol": "circle"
           },
           "mode": "markers",
           "name": "edge_r",
           "orientation": "v",
           "showlegend": true,
           "type": "scatter",
           "x": [
            84,
            58
           ],
           "xaxis": "x",
           "y": [
            84,
            2
           ],
           "yaxis": "y"
          },
          {
           "hovertemplate": "state=feed_l<br>time=439<br>x=%{x}<br>y=%{y}<extra></extra>",
           "legendgroup": "feed_l",
           "marker": {
            "color": "#00cc96",
            "symbol": "circle"
           },
           "mode": "markers",
           "name": "feed_l",
           "orientation": "v",
           "showlegend": true,
           "type": "scatter",
           "x": [
            11,
            18,
            14
           ],
           "xaxis": "x",
           "y": [
            48,
            46,
            51
           ],
           "yaxis": "y"
          },
          {
           "hovertemplate": "state=feed_r<br>time=439<br>x=%{x}<br>y=%{y}<extra></extra>",
           "legendgroup": "feed_r",
           "marker": {
            "color": "#ab63fa",
            "symbol": "circle"
           },
           "mode": "markers",
           "name": "feed_r",
           "orientation": "v",
           "showlegend": true,
           "type": "scatter",
           "x": [
            83,
            79
           ],
           "xaxis": "x",
           "y": [
            45,
            50
           ],
           "yaxis": "y"
          },
          {
           "hovertemplate": "state=search_l<br>time=439<br>x=%{x}<br>y=%{y}<extra></extra>",
           "legendgroup": "search_l",
           "marker": {
            "color": "#FFA15A",
            "symbol": "circle"
           },
           "mode": "markers",
           "name": "search_l",
           "orientation": "v",
           "showlegend": true,
           "type": "scatter",
           "x": [
            26,
            32,
            20,
            23
           ],
           "xaxis": "x",
           "y": [
            89,
            13,
            14,
            85
           ],
           "yaxis": "y"
          },
          {
           "hovertemplate": "state=search_r<br>time=439<br>x=%{x}<br>y=%{y}<extra></extra>",
           "legendgroup": "search_r",
           "marker": {
            "color": "#19d3f3",
            "symbol": "circle"
           },
           "mode": "markers",
           "name": "search_r",
           "orientation": "v",
           "showlegend": true,
           "type": "scatter",
           "x": [
            63,
            55
           ],
           "xaxis": "x",
           "y": [
            72,
            37
           ],
           "yaxis": "y"
          }
         ],
         "name": "439"
        },
        {
         "data": [
          {
           "hovertemplate": "state=edge_l<br>time=440<br>x=%{x}<br>y=%{y}<extra></extra>",
           "legendgroup": "edge_l",
           "marker": {
            "color": "#636efa",
            "symbol": "circle"
           },
           "mode": "markers",
           "name": "edge_l",
           "orientation": "v",
           "showlegend": true,
           "type": "scatter",
           "x": [
            12,
            25,
            21
           ],
           "xaxis": "x",
           "y": [
            20,
            93,
            13
           ],
           "yaxis": "y"
          },
          {
           "hovertemplate": "state=edge_r<br>time=440<br>x=%{x}<br>y=%{y}<extra></extra>",
           "legendgroup": "edge_r",
           "marker": {
            "color": "#EF553B",
            "symbol": "circle"
           },
           "mode": "markers",
           "name": "edge_r",
           "orientation": "v",
           "showlegend": true,
           "type": "scatter",
           "x": [
            88,
            56
           ],
           "xaxis": "x",
           "y": [
            81,
            1
           ],
           "yaxis": "y"
          },
          {
           "hovertemplate": "state=feed_l<br>time=440<br>x=%{x}<br>y=%{y}<extra></extra>",
           "legendgroup": "feed_l",
           "marker": {
            "color": "#00cc96",
            "symbol": "circle"
           },
           "mode": "markers",
           "name": "feed_l",
           "orientation": "v",
           "showlegend": true,
           "type": "scatter",
           "x": [
            11,
            18,
            13
           ],
           "xaxis": "x",
           "y": [
            48,
            47,
            51
           ],
           "yaxis": "y"
          },
          {
           "hovertemplate": "state=feed_r<br>time=440<br>x=%{x}<br>y=%{y}<extra></extra>",
           "legendgroup": "feed_r",
           "marker": {
            "color": "#ab63fa",
            "symbol": "circle"
           },
           "mode": "markers",
           "name": "feed_r",
           "orientation": "v",
           "showlegend": true,
           "type": "scatter",
           "x": [
            83,
            79
           ],
           "xaxis": "x",
           "y": [
            45,
            50
           ],
           "yaxis": "y"
          },
          {
           "hovertemplate": "state=search_l<br>time=440<br>x=%{x}<br>y=%{y}<extra></extra>",
           "legendgroup": "search_l",
           "marker": {
            "color": "#FFA15A",
            "symbol": "circle"
           },
           "mode": "markers",
           "name": "search_l",
           "orientation": "v",
           "showlegend": true,
           "type": "scatter",
           "x": [
            26,
            32,
            23
           ],
           "xaxis": "x",
           "y": [
            89,
            13,
            85
           ],
           "yaxis": "y"
          },
          {
           "hovertemplate": "state=search_r<br>time=440<br>x=%{x}<br>y=%{y}<extra></extra>",
           "legendgroup": "search_r",
           "marker": {
            "color": "#19d3f3",
            "symbol": "circle"
           },
           "mode": "markers",
           "name": "search_r",
           "orientation": "v",
           "showlegend": true,
           "type": "scatter",
           "x": [
            64,
            55
           ],
           "xaxis": "x",
           "y": [
            67,
            37
           ],
           "yaxis": "y"
          }
         ],
         "name": "440"
        },
        {
         "data": [
          {
           "hovertemplate": "state=edge_l<br>time=441<br>x=%{x}<br>y=%{y}<extra></extra>",
           "legendgroup": "edge_l",
           "marker": {
            "color": "#636efa",
            "symbol": "circle"
           },
           "mode": "markers",
           "name": "edge_l",
           "orientation": "v",
           "showlegend": true,
           "type": "scatter",
           "x": [
            11,
            26,
            21
           ],
           "xaxis": "x",
           "y": [
            20,
            93,
            13
           ],
           "yaxis": "y"
          },
          {
           "hovertemplate": "state=edge_r<br>time=441<br>x=%{x}<br>y=%{y}<extra></extra>",
           "legendgroup": "edge_r",
           "marker": {
            "color": "#EF553B",
            "symbol": "circle"
           },
           "mode": "markers",
           "name": "edge_r",
           "orientation": "v",
           "showlegend": true,
           "type": "scatter",
           "x": [
            91,
            55
           ],
           "xaxis": "x",
           "y": [
            76,
            1
           ],
           "yaxis": "y"
          },
          {
           "hovertemplate": "state=feed_l<br>time=441<br>x=%{x}<br>y=%{y}<extra></extra>",
           "legendgroup": "feed_l",
           "marker": {
            "color": "#00cc96",
            "symbol": "circle"
           },
           "mode": "markers",
           "name": "feed_l",
           "orientation": "v",
           "showlegend": true,
           "type": "scatter",
           "x": [
            11,
            19,
            14
           ],
           "xaxis": "x",
           "y": [
            48,
            47,
            51
           ],
           "yaxis": "y"
          },
          {
           "hovertemplate": "state=feed_r<br>time=441<br>x=%{x}<br>y=%{y}<extra></extra>",
           "legendgroup": "feed_r",
           "marker": {
            "color": "#ab63fa",
            "symbol": "circle"
           },
           "mode": "markers",
           "name": "feed_r",
           "orientation": "v",
           "showlegend": true,
           "type": "scatter",
           "x": [
            83,
            80
           ],
           "xaxis": "x",
           "y": [
            45,
            50
           ],
           "yaxis": "y"
          },
          {
           "hovertemplate": "state=search_l<br>time=441<br>x=%{x}<br>y=%{y}<extra></extra>",
           "legendgroup": "search_l",
           "marker": {
            "color": "#FFA15A",
            "symbol": "circle"
           },
           "mode": "markers",
           "name": "search_l",
           "orientation": "v",
           "showlegend": true,
           "type": "scatter",
           "x": [
            26,
            32,
            23
           ],
           "xaxis": "x",
           "y": [
            89,
            13,
            85
           ],
           "yaxis": "y"
          },
          {
           "hovertemplate": "state=search_r<br>time=441<br>x=%{x}<br>y=%{y}<extra></extra>",
           "legendgroup": "search_r",
           "marker": {
            "color": "#19d3f3",
            "symbol": "circle"
           },
           "mode": "markers",
           "name": "search_r",
           "orientation": "v",
           "showlegend": true,
           "type": "scatter",
           "x": [
            64,
            55
           ],
           "xaxis": "x",
           "y": [
            61,
            37
           ],
           "yaxis": "y"
          }
         ],
         "name": "441"
        },
        {
         "data": [
          {
           "hovertemplate": "state=edge_l<br>time=442<br>x=%{x}<br>y=%{y}<extra></extra>",
           "legendgroup": "edge_l",
           "marker": {
            "color": "#636efa",
            "symbol": "circle"
           },
           "mode": "markers",
           "name": "edge_l",
           "orientation": "v",
           "showlegend": true,
           "type": "scatter",
           "x": [
            11,
            26,
            21
           ],
           "xaxis": "x",
           "y": [
            20,
            93,
            12
           ],
           "yaxis": "y"
          },
          {
           "hovertemplate": "state=edge_r<br>time=442<br>x=%{x}<br>y=%{y}<extra></extra>",
           "legendgroup": "edge_r",
           "marker": {
            "color": "#EF553B",
            "symbol": "circle"
           },
           "mode": "markers",
           "name": "edge_r",
           "orientation": "v",
           "showlegend": true,
           "type": "scatter",
           "x": [
            94,
            53
           ],
           "xaxis": "x",
           "y": [
            71,
            1
           ],
           "yaxis": "y"
          },
          {
           "hovertemplate": "state=feed_l<br>time=442<br>x=%{x}<br>y=%{y}<extra></extra>",
           "legendgroup": "feed_l",
           "marker": {
            "color": "#00cc96",
            "symbol": "circle"
           },
           "mode": "markers",
           "name": "feed_l",
           "orientation": "v",
           "showlegend": true,
           "type": "scatter",
           "x": [
            11,
            19,
            14
           ],
           "xaxis": "x",
           "y": [
            48,
            47,
            53
           ],
           "yaxis": "y"
          },
          {
           "hovertemplate": "state=feed_r<br>time=442<br>x=%{x}<br>y=%{y}<extra></extra>",
           "legendgroup": "feed_r",
           "marker": {
            "color": "#ab63fa",
            "symbol": "circle"
           },
           "mode": "markers",
           "name": "feed_r",
           "orientation": "v",
           "showlegend": true,
           "type": "scatter",
           "x": [
            83,
            80
           ],
           "xaxis": "x",
           "y": [
            45,
            50
           ],
           "yaxis": "y"
          },
          {
           "hovertemplate": "state=search_l<br>time=442<br>x=%{x}<br>y=%{y}<extra></extra>",
           "legendgroup": "search_l",
           "marker": {
            "color": "#FFA15A",
            "symbol": "circle"
           },
           "mode": "markers",
           "name": "search_l",
           "orientation": "v",
           "showlegend": true,
           "type": "scatter",
           "x": [
            26,
            32,
            23
           ],
           "xaxis": "x",
           "y": [
            89,
            13,
            85
           ],
           "yaxis": "y"
          },
          {
           "hovertemplate": "state=search_r<br>time=442<br>x=%{x}<br>y=%{y}<extra></extra>",
           "legendgroup": "search_r",
           "marker": {
            "color": "#19d3f3",
            "symbol": "circle"
           },
           "mode": "markers",
           "name": "search_r",
           "orientation": "v",
           "showlegend": true,
           "type": "scatter",
           "x": [
            63,
            54
           ],
           "xaxis": "x",
           "y": [
            55,
            36
           ],
           "yaxis": "y"
          }
         ],
         "name": "442"
        },
        {
         "data": [
          {
           "hovertemplate": "state=edge_l<br>time=443<br>x=%{x}<br>y=%{y}<extra></extra>",
           "legendgroup": "edge_l",
           "marker": {
            "color": "#636efa",
            "symbol": "circle"
           },
           "mode": "markers",
           "name": "edge_l",
           "orientation": "v",
           "showlegend": true,
           "type": "scatter",
           "x": [
            11,
            28,
            22
           ],
           "xaxis": "x",
           "y": [
            20,
            94,
            11
           ],
           "yaxis": "y"
          },
          {
           "hovertemplate": "state=edge_r<br>time=443<br>x=%{x}<br>y=%{y}<extra></extra>",
           "legendgroup": "edge_r",
           "marker": {
            "color": "#EF553B",
            "symbol": "circle"
           },
           "mode": "markers",
           "name": "edge_r",
           "orientation": "v",
           "showlegend": true,
           "type": "scatter",
           "x": [
            96,
            52
           ],
           "xaxis": "x",
           "y": [
            67,
            1
           ],
           "yaxis": "y"
          },
          {
           "hovertemplate": "state=feed_l<br>time=443<br>x=%{x}<br>y=%{y}<extra></extra>",
           "legendgroup": "feed_l",
           "marker": {
            "color": "#00cc96",
            "symbol": "circle"
           },
           "mode": "markers",
           "name": "feed_l",
           "orientation": "v",
           "showlegend": true,
           "type": "scatter",
           "x": [
            11,
            19,
            14
           ],
           "xaxis": "x",
           "y": [
            49,
            47,
            53
           ],
           "yaxis": "y"
          },
          {
           "hovertemplate": "state=feed_r<br>time=443<br>x=%{x}<br>y=%{y}<extra></extra>",
           "legendgroup": "feed_r",
           "marker": {
            "color": "#ab63fa",
            "symbol": "circle"
           },
           "mode": "markers",
           "name": "feed_r",
           "orientation": "v",
           "showlegend": true,
           "type": "scatter",
           "x": [
            83,
            81
           ],
           "xaxis": "x",
           "y": [
            45,
            50
           ],
           "yaxis": "y"
          },
          {
           "hovertemplate": "state=search_l<br>time=443<br>x=%{x}<br>y=%{y}<extra></extra>",
           "legendgroup": "search_l",
           "marker": {
            "color": "#FFA15A",
            "symbol": "circle"
           },
           "mode": "markers",
           "name": "search_l",
           "orientation": "v",
           "showlegend": true,
           "type": "scatter",
           "x": [
            26,
            45,
            32,
            23
           ],
           "xaxis": "x",
           "y": [
            89,
            33,
            13,
            85
           ],
           "yaxis": "y"
          },
          {
           "hovertemplate": "state=search_r<br>time=443<br>x=%{x}<br>y=%{y}<extra></extra>",
           "legendgroup": "search_r",
           "marker": {
            "color": "#19d3f3",
            "symbol": "circle"
           },
           "mode": "markers",
           "name": "search_r",
           "orientation": "v",
           "showlegend": true,
           "type": "scatter",
           "x": [
            61
           ],
           "xaxis": "x",
           "y": [
            49
           ],
           "yaxis": "y"
          }
         ],
         "name": "443"
        },
        {
         "data": [
          {
           "hovertemplate": "state=edge_l<br>time=444<br>x=%{x}<br>y=%{y}<extra></extra>",
           "legendgroup": "edge_l",
           "marker": {
            "color": "#636efa",
            "symbol": "circle"
           },
           "mode": "markers",
           "name": "edge_l",
           "orientation": "v",
           "showlegend": true,
           "type": "scatter",
           "x": [
            11,
            30,
            24
           ],
           "xaxis": "x",
           "y": [
            20,
            95,
            9
           ],
           "yaxis": "y"
          },
          {
           "hovertemplate": "state=edge_r<br>time=444<br>x=%{x}<br>y=%{y}<extra></extra>",
           "legendgroup": "edge_r",
           "marker": {
            "color": "#EF553B",
            "symbol": "circle"
           },
           "mode": "markers",
           "name": "edge_r",
           "orientation": "v",
           "showlegend": true,
           "type": "scatter",
           "x": [
            97,
            52
           ],
           "xaxis": "x",
           "y": [
            61,
            1
           ],
           "yaxis": "y"
          },
          {
           "hovertemplate": "state=feed_l<br>time=444<br>x=%{x}<br>y=%{y}<extra></extra>",
           "legendgroup": "feed_l",
           "marker": {
            "color": "#00cc96",
            "symbol": "circle"
           },
           "mode": "markers",
           "name": "feed_l",
           "orientation": "v",
           "showlegend": true,
           "type": "scatter",
           "x": [
            11,
            19,
            14
           ],
           "xaxis": "x",
           "y": [
            49,
            47,
            53
           ],
           "yaxis": "y"
          },
          {
           "hovertemplate": "state=feed_r<br>time=444<br>x=%{x}<br>y=%{y}<extra></extra>",
           "legendgroup": "feed_r",
           "marker": {
            "color": "#ab63fa",
            "symbol": "circle"
           },
           "mode": "markers",
           "name": "feed_r",
           "orientation": "v",
           "showlegend": true,
           "type": "scatter",
           "x": [
            83,
            81
           ],
           "xaxis": "x",
           "y": [
            45,
            50
           ],
           "yaxis": "y"
          },
          {
           "hovertemplate": "state=search_l<br>time=444<br>x=%{x}<br>y=%{y}<extra></extra>",
           "legendgroup": "search_l",
           "marker": {
            "color": "#FFA15A",
            "symbol": "circle"
           },
           "mode": "markers",
           "name": "search_l",
           "orientation": "v",
           "showlegend": true,
           "type": "scatter",
           "x": [
            26,
            37,
            32,
            23
           ],
           "xaxis": "x",
           "y": [
            89,
            30,
            13,
            85
           ],
           "yaxis": "y"
          },
          {
           "hovertemplate": "state=search_r<br>time=444<br>x=%{x}<br>y=%{y}<extra></extra>",
           "legendgroup": "search_r",
           "marker": {
            "color": "#19d3f3",
            "symbol": "circle"
           },
           "mode": "markers",
           "name": "search_r",
           "orientation": "v",
           "showlegend": true,
           "type": "scatter",
           "x": [
            58
           ],
           "xaxis": "x",
           "y": [
            44
           ],
           "yaxis": "y"
          }
         ],
         "name": "444"
        },
        {
         "data": [
          {
           "hovertemplate": "state=edge_l<br>time=445<br>x=%{x}<br>y=%{y}<extra></extra>",
           "legendgroup": "edge_l",
           "marker": {
            "color": "#636efa",
            "symbol": "circle"
           },
           "mode": "markers",
           "name": "edge_l",
           "orientation": "v",
           "showlegend": true,
           "type": "scatter",
           "x": [
            11,
            32,
            27
           ],
           "xaxis": "x",
           "y": [
            21,
            96,
            7
           ],
           "yaxis": "y"
          },
          {
           "hovertemplate": "state=edge_r<br>time=445<br>x=%{x}<br>y=%{y}<extra></extra>",
           "legendgroup": "edge_r",
           "marker": {
            "color": "#EF553B",
            "symbol": "circle"
           },
           "mode": "markers",
           "name": "edge_r",
           "orientation": "v",
           "showlegend": true,
           "type": "scatter",
           "x": [
            98,
            52
           ],
           "xaxis": "x",
           "y": [
            56,
            1
           ],
           "yaxis": "y"
          },
          {
           "hovertemplate": "state=feed_l<br>time=445<br>x=%{x}<br>y=%{y}<extra></extra>",
           "legendgroup": "feed_l",
           "marker": {
            "color": "#00cc96",
            "symbol": "circle"
           },
           "mode": "markers",
           "name": "feed_l",
           "orientation": "v",
           "showlegend": true,
           "type": "scatter",
           "x": [
            11,
            19,
            14
           ],
           "xaxis": "x",
           "y": [
            49,
            48,
            53
           ],
           "yaxis": "y"
          },
          {
           "hovertemplate": "state=feed_r<br>time=445<br>x=%{x}<br>y=%{y}<extra></extra>",
           "legendgroup": "feed_r",
           "marker": {
            "color": "#ab63fa",
            "symbol": "circle"
           },
           "mode": "markers",
           "name": "feed_r",
           "orientation": "v",
           "showlegend": true,
           "type": "scatter",
           "x": [
            83,
            81
           ],
           "xaxis": "x",
           "y": [
            45,
            50
           ],
           "yaxis": "y"
          },
          {
           "hovertemplate": "state=search_l<br>time=445<br>x=%{x}<br>y=%{y}<extra></extra>",
           "legendgroup": "search_l",
           "marker": {
            "color": "#FFA15A",
            "symbol": "circle"
           },
           "mode": "markers",
           "name": "search_l",
           "orientation": "v",
           "showlegend": true,
           "type": "scatter",
           "x": [
            26,
            34,
            32,
            23
           ],
           "xaxis": "x",
           "y": [
            89,
            29,
            13,
            86
           ],
           "yaxis": "y"
          },
          {
           "hovertemplate": "state=search_r<br>time=445<br>x=%{x}<br>y=%{y}<extra></extra>",
           "legendgroup": "search_r",
           "marker": {
            "color": "#19d3f3",
            "symbol": "circle"
           },
           "mode": "markers",
           "name": "search_r",
           "orientation": "v",
           "showlegend": true,
           "type": "scatter",
           "x": [
            54
           ],
           "xaxis": "x",
           "y": [
            40
           ],
           "yaxis": "y"
          }
         ],
         "name": "445"
        },
        {
         "data": [
          {
           "hovertemplate": "state=edge_l<br>time=446<br>x=%{x}<br>y=%{y}<extra></extra>",
           "legendgroup": "edge_l",
           "marker": {
            "color": "#636efa",
            "symbol": "circle"
           },
           "mode": "markers",
           "name": "edge_l",
           "orientation": "v",
           "showlegend": true,
           "type": "scatter",
           "x": [
            9,
            34,
            30
           ],
           "xaxis": "x",
           "y": [
            23,
            96,
            5
           ],
           "yaxis": "y"
          },
          {
           "hovertemplate": "state=edge_r<br>time=446<br>x=%{x}<br>y=%{y}<extra></extra>",
           "legendgroup": "edge_r",
           "marker": {
            "color": "#EF553B",
            "symbol": "circle"
           },
           "mode": "markers",
           "name": "edge_r",
           "orientation": "v",
           "showlegend": true,
           "type": "scatter",
           "x": [
            99,
            52
           ],
           "xaxis": "x",
           "y": [
            51,
            1
           ],
           "yaxis": "y"
          },
          {
           "hovertemplate": "state=feed_l<br>time=446<br>x=%{x}<br>y=%{y}<extra></extra>",
           "legendgroup": "feed_l",
           "marker": {
            "color": "#00cc96",
            "symbol": "circle"
           },
           "mode": "markers",
           "name": "feed_l",
           "orientation": "v",
           "showlegend": true,
           "type": "scatter",
           "x": [
            11,
            19,
            14
           ],
           "xaxis": "x",
           "y": [
            49,
            49,
            52
           ],
           "yaxis": "y"
          },
          {
           "hovertemplate": "state=feed_r<br>time=446<br>x=%{x}<br>y=%{y}<extra></extra>",
           "legendgroup": "feed_r",
           "marker": {
            "color": "#ab63fa",
            "symbol": "circle"
           },
           "mode": "markers",
           "name": "feed_r",
           "orientation": "v",
           "showlegend": true,
           "type": "scatter",
           "x": [
            83,
            81
           ],
           "xaxis": "x",
           "y": [
            45,
            50
           ],
           "yaxis": "y"
          },
          {
           "hovertemplate": "state=search_l<br>time=446<br>x=%{x}<br>y=%{y}<extra></extra>",
           "legendgroup": "search_l",
           "marker": {
            "color": "#FFA15A",
            "symbol": "circle"
           },
           "mode": "markers",
           "name": "search_l",
           "orientation": "v",
           "showlegend": true,
           "type": "scatter",
           "x": [
            26,
            49,
            32,
            32,
            23
           ],
           "xaxis": "x",
           "y": [
            89,
            37,
            33,
            13,
            86
           ],
           "yaxis": "y"
          }
         ],
         "name": "446"
        },
        {
         "data": [
          {
           "hovertemplate": "state=edge_l<br>time=447<br>x=%{x}<br>y=%{y}<extra></extra>",
           "legendgroup": "edge_l",
           "marker": {
            "color": "#636efa",
            "symbol": "circle"
           },
           "mode": "markers",
           "name": "edge_l",
           "orientation": "v",
           "showlegend": true,
           "type": "scatter",
           "x": [
            9,
            36,
            32
           ],
           "xaxis": "x",
           "y": [
            23,
            97,
            4
           ],
           "yaxis": "y"
          },
          {
           "hovertemplate": "state=edge_r<br>time=447<br>x=%{x}<br>y=%{y}<extra></extra>",
           "legendgroup": "edge_r",
           "marker": {
            "color": "#EF553B",
            "symbol": "circle"
           },
           "mode": "markers",
           "name": "edge_r",
           "orientation": "v",
           "showlegend": true,
           "type": "scatter",
           "x": [
            99,
            50
           ],
           "xaxis": "x",
           "y": [
            46,
            1
           ],
           "yaxis": "y"
          },
          {
           "hovertemplate": "state=feed_l<br>time=447<br>x=%{x}<br>y=%{y}<extra></extra>",
           "legendgroup": "feed_l",
           "marker": {
            "color": "#00cc96",
            "symbol": "circle"
           },
           "mode": "markers",
           "name": "feed_l",
           "orientation": "v",
           "showlegend": true,
           "type": "scatter",
           "x": [
            11,
            19,
            13
           ],
           "xaxis": "x",
           "y": [
            48,
            49,
            52
           ],
           "yaxis": "y"
          },
          {
           "hovertemplate": "state=feed_r<br>time=447<br>x=%{x}<br>y=%{y}<extra></extra>",
           "legendgroup": "feed_r",
           "marker": {
            "color": "#ab63fa",
            "symbol": "circle"
           },
           "mode": "markers",
           "name": "feed_r",
           "orientation": "v",
           "showlegend": true,
           "type": "scatter",
           "x": [
            83,
            82
           ],
           "xaxis": "x",
           "y": [
            45,
            50
           ],
           "yaxis": "y"
          },
          {
           "hovertemplate": "state=search_l<br>time=447<br>x=%{x}<br>y=%{y}<extra></extra>",
           "legendgroup": "search_l",
           "marker": {
            "color": "#FFA15A",
            "symbol": "circle"
           },
           "mode": "markers",
           "name": "search_l",
           "orientation": "v",
           "showlegend": true,
           "type": "scatter",
           "x": [
            26,
            44,
            25,
            32,
            23
           ],
           "xaxis": "x",
           "y": [
            89,
            34,
            40,
            13,
            86
           ],
           "yaxis": "y"
          }
         ],
         "name": "447"
        },
        {
         "data": [
          {
           "hovertemplate": "state=edge_l<br>time=448<br>x=%{x}<br>y=%{y}<extra></extra>",
           "legendgroup": "edge_l",
           "marker": {
            "color": "#636efa",
            "symbol": "circle"
           },
           "mode": "markers",
           "name": "edge_l",
           "orientation": "v",
           "showlegend": true,
           "type": "scatter",
           "x": [
            8,
            38,
            36,
            48
           ],
           "xaxis": "x",
           "y": [
            25,
            97,
            3,
            1
           ],
           "yaxis": "y"
          },
          {
           "hovertemplate": "state=edge_r<br>time=448<br>x=%{x}<br>y=%{y}<extra></extra>",
           "legendgroup": "edge_r",
           "marker": {
            "color": "#EF553B",
            "symbol": "circle"
           },
           "mode": "markers",
           "name": "edge_r",
           "orientation": "v",
           "showlegend": true,
           "type": "scatter",
           "x": [
            97
           ],
           "xaxis": "x",
           "y": [
            39
           ],
           "yaxis": "y"
          },
          {
           "hovertemplate": "state=feed_l<br>time=448<br>x=%{x}<br>y=%{y}<extra></extra>",
           "legendgroup": "feed_l",
           "marker": {
            "color": "#00cc96",
            "symbol": "circle"
           },
           "mode": "markers",
           "name": "feed_l",
           "orientation": "v",
           "showlegend": true,
           "type": "scatter",
           "x": [
            12,
            19,
            13,
            19
           ],
           "xaxis": "x",
           "y": [
            48,
            49,
            51,
            44
           ],
           "yaxis": "y"
          },
          {
           "hovertemplate": "state=feed_r<br>time=448<br>x=%{x}<br>y=%{y}<extra></extra>",
           "legendgroup": "feed_r",
           "marker": {
            "color": "#ab63fa",
            "symbol": "circle"
           },
           "mode": "markers",
           "name": "feed_r",
           "orientation": "v",
           "showlegend": true,
           "type": "scatter",
           "x": [
            83,
            83
           ],
           "xaxis": "x",
           "y": [
            45,
            49
           ],
           "yaxis": "y"
          },
          {
           "hovertemplate": "state=search_l<br>time=448<br>x=%{x}<br>y=%{y}<extra></extra>",
           "legendgroup": "search_l",
           "marker": {
            "color": "#FFA15A",
            "symbol": "circle"
           },
           "mode": "markers",
           "name": "search_l",
           "orientation": "v",
           "showlegend": true,
           "type": "scatter",
           "x": [
            26,
            37,
            32,
            23
           ],
           "xaxis": "x",
           "y": [
            89,
            33,
            14,
            86
           ],
           "yaxis": "y"
          }
         ],
         "name": "448"
        },
        {
         "data": [
          {
           "hovertemplate": "state=edge_l<br>time=449<br>x=%{x}<br>y=%{y}<extra></extra>",
           "legendgroup": "edge_l",
           "marker": {
            "color": "#636efa",
            "symbol": "circle"
           },
           "mode": "markers",
           "name": "edge_l",
           "orientation": "v",
           "showlegend": true,
           "type": "scatter",
           "x": [
            7,
            41,
            38,
            47
           ],
           "xaxis": "x",
           "y": [
            26,
            98,
            3,
            1
           ],
           "yaxis": "y"
          },
          {
           "hovertemplate": "state=edge_r<br>time=449<br>x=%{x}<br>y=%{y}<extra></extra>",
           "legendgroup": "edge_r",
           "marker": {
            "color": "#EF553B",
            "symbol": "circle"
           },
           "mode": "markers",
           "name": "edge_r",
           "orientation": "v",
           "showlegend": true,
           "type": "scatter",
           "x": [
            95
           ],
           "xaxis": "x",
           "y": [
            32
           ],
           "yaxis": "y"
          },
          {
           "hovertemplate": "state=feed_l<br>time=449<br>x=%{x}<br>y=%{y}<extra></extra>",
           "legendgroup": "feed_l",
           "marker": {
            "color": "#00cc96",
            "symbol": "circle"
           },
           "mode": "markers",
           "name": "feed_l",
           "orientation": "v",
           "showlegend": true,
           "type": "scatter",
           "x": [
            12,
            19,
            14,
            19
           ],
           "xaxis": "x",
           "y": [
            48,
            49,
            49,
            44
           ],
           "yaxis": "y"
          },
          {
           "hovertemplate": "state=feed_r<br>time=449<br>x=%{x}<br>y=%{y}<extra></extra>",
           "legendgroup": "feed_r",
           "marker": {
            "color": "#ab63fa",
            "symbol": "circle"
           },
           "mode": "markers",
           "name": "feed_r",
           "orientation": "v",
           "showlegend": true,
           "type": "scatter",
           "x": [
            82,
            83
           ],
           "xaxis": "x",
           "y": [
            45,
            48
           ],
           "yaxis": "y"
          },
          {
           "hovertemplate": "state=search_l<br>time=449<br>x=%{x}<br>y=%{y}<extra></extra>",
           "legendgroup": "search_l",
           "marker": {
            "color": "#FFA15A",
            "symbol": "circle"
           },
           "mode": "markers",
           "name": "search_l",
           "orientation": "v",
           "showlegend": true,
           "type": "scatter",
           "x": [
            26,
            30,
            31,
            23
           ],
           "xaxis": "x",
           "y": [
            89,
            34,
            15,
            85
           ],
           "yaxis": "y"
          }
         ],
         "name": "449"
        },
        {
         "data": [
          {
           "hovertemplate": "state=edge_l<br>time=450<br>x=%{x}<br>y=%{y}<extra></extra>",
           "legendgroup": "edge_l",
           "marker": {
            "color": "#636efa",
            "symbol": "circle"
           },
           "mode": "markers",
           "name": "edge_l",
           "orientation": "v",
           "showlegend": true,
           "type": "scatter",
           "x": [
            6,
            43,
            38,
            43
           ],
           "xaxis": "x",
           "y": [
            29,
            98,
            3,
            1
           ],
           "yaxis": "y"
          },
          {
           "hovertemplate": "state=edge_r<br>time=450<br>x=%{x}<br>y=%{y}<extra></extra>",
           "legendgroup": "edge_r",
           "marker": {
            "color": "#EF553B",
            "symbol": "circle"
           },
           "mode": "markers",
           "name": "edge_r",
           "orientation": "v",
           "showlegend": true,
           "type": "scatter",
           "x": [
            93
           ],
           "xaxis": "x",
           "y": [
            28
           ],
           "yaxis": "y"
          },
          {
           "hovertemplate": "state=feed_l<br>time=450<br>x=%{x}<br>y=%{y}<extra></extra>",
           "legendgroup": "feed_l",
           "marker": {
            "color": "#00cc96",
            "symbol": "circle"
           },
           "mode": "markers",
           "name": "feed_l",
           "orientation": "v",
           "showlegend": true,
           "type": "scatter",
           "x": [
            12,
            19,
            19
           ],
           "xaxis": "x",
           "y": [
            48,
            48,
            44
           ],
           "yaxis": "y"
          },
          {
           "hovertemplate": "state=feed_r<br>time=450<br>x=%{x}<br>y=%{y}<extra></extra>",
           "legendgroup": "feed_r",
           "marker": {
            "color": "#ab63fa",
            "symbol": "circle"
           },
           "mode": "markers",
           "name": "feed_r",
           "orientation": "v",
           "showlegend": true,
           "type": "scatter",
           "x": [
            82,
            82
           ],
           "xaxis": "x",
           "y": [
            45,
            48
           ],
           "yaxis": "y"
          },
          {
           "hovertemplate": "state=search_l<br>time=450<br>x=%{x}<br>y=%{y}<extra></extra>",
           "legendgroup": "search_l",
           "marker": {
            "color": "#FFA15A",
            "symbol": "circle"
           },
           "mode": "markers",
           "name": "search_l",
           "orientation": "v",
           "showlegend": true,
           "type": "scatter",
           "x": [
            26,
            15,
            24,
            30,
            23
           ],
           "xaxis": "x",
           "y": [
            89,
            48,
            35,
            15,
            85
           ],
           "yaxis": "y"
          }
         ],
         "name": "450"
        },
        {
         "data": [
          {
           "hovertemplate": "state=edge_l<br>time=451<br>x=%{x}<br>y=%{y}<extra></extra>",
           "legendgroup": "edge_l",
           "marker": {
            "color": "#636efa",
            "symbol": "circle"
           },
           "mode": "markers",
           "name": "edge_l",
           "orientation": "v",
           "showlegend": true,
           "type": "scatter",
           "x": [
            5,
            45,
            38,
            42
           ],
           "xaxis": "x",
           "y": [
            32,
            99,
            3,
            2
           ],
           "yaxis": "y"
          },
          {
           "hovertemplate": "state=edge_r<br>time=451<br>x=%{x}<br>y=%{y}<extra></extra>",
           "legendgroup": "edge_r",
           "marker": {
            "color": "#EF553B",
            "symbol": "circle"
           },
           "mode": "markers",
           "name": "edge_r",
           "orientation": "v",
           "showlegend": true,
           "type": "scatter",
           "x": [
            90
           ],
           "xaxis": "x",
           "y": [
            23
           ],
           "yaxis": "y"
          },
          {
           "hovertemplate": "state=feed_l<br>time=451<br>x=%{x}<br>y=%{y}<extra></extra>",
           "legendgroup": "feed_l",
           "marker": {
            "color": "#00cc96",
            "symbol": "circle"
           },
           "mode": "markers",
           "name": "feed_l",
           "orientation": "v",
           "showlegend": true,
           "type": "scatter",
           "x": [
            12,
            19,
            16,
            19
           ],
           "xaxis": "x",
           "y": [
            48,
            48,
            48,
            44
           ],
           "yaxis": "y"
          },
          {
           "hovertemplate": "state=feed_r<br>time=451<br>x=%{x}<br>y=%{y}<extra></extra>",
           "legendgroup": "feed_r",
           "marker": {
            "color": "#ab63fa",
            "symbol": "circle"
           },
           "mode": "markers",
           "name": "feed_r",
           "orientation": "v",
           "showlegend": true,
           "type": "scatter",
           "x": [
            82,
            82
           ],
           "xaxis": "x",
           "y": [
            45,
            48
           ],
           "yaxis": "y"
          },
          {
           "hovertemplate": "state=search_l<br>time=451<br>x=%{x}<br>y=%{y}<extra></extra>",
           "legendgroup": "search_l",
           "marker": {
            "color": "#FFA15A",
            "symbol": "circle"
           },
           "mode": "markers",
           "name": "search_l",
           "orientation": "v",
           "showlegend": true,
           "type": "scatter",
           "x": [
            26,
            20,
            29,
            23
           ],
           "xaxis": "x",
           "y": [
            89,
            36,
            15,
            85
           ],
           "yaxis": "y"
          }
         ],
         "name": "451"
        },
        {
         "data": [
          {
           "hovertemplate": "state=edge_l<br>time=452<br>x=%{x}<br>y=%{y}<extra></extra>",
           "legendgroup": "edge_l",
           "marker": {
            "color": "#636efa",
            "symbol": "circle"
           },
           "mode": "markers",
           "name": "edge_l",
           "orientation": "v",
           "showlegend": true,
           "type": "scatter",
           "x": [
            3,
            47,
            38,
            41
           ],
           "xaxis": "x",
           "y": [
            35,
            99,
            3,
            2
           ],
           "yaxis": "y"
          },
          {
           "hovertemplate": "state=edge_r<br>time=452<br>x=%{x}<br>y=%{y}<extra></extra>",
           "legendgroup": "edge_r",
           "marker": {
            "color": "#EF553B",
            "symbol": "circle"
           },
           "mode": "markers",
           "name": "edge_r",
           "orientation": "v",
           "showlegend": true,
           "type": "scatter",
           "x": [
            88
           ],
           "xaxis": "x",
           "y": [
            19
           ],
           "yaxis": "y"
          },
          {
           "hovertemplate": "state=feed_l<br>time=452<br>x=%{x}<br>y=%{y}<extra></extra>",
           "legendgroup": "feed_l",
           "marker": {
            "color": "#00cc96",
            "symbol": "circle"
           },
           "mode": "markers",
           "name": "feed_l",
           "orientation": "v",
           "showlegend": true,
           "type": "scatter",
           "x": [
            12,
            19,
            15,
            19
           ],
           "xaxis": "x",
           "y": [
            48,
            49,
            47,
            44
           ],
           "yaxis": "y"
          },
          {
           "hovertemplate": "state=feed_r<br>time=452<br>x=%{x}<br>y=%{y}<extra></extra>",
           "legendgroup": "feed_r",
           "marker": {
            "color": "#ab63fa",
            "symbol": "circle"
           },
           "mode": "markers",
           "name": "feed_r",
           "orientation": "v",
           "showlegend": true,
           "type": "scatter",
           "x": [
            82,
            81
           ],
           "xaxis": "x",
           "y": [
            45,
            47
           ],
           "yaxis": "y"
          },
          {
           "hovertemplate": "state=search_l<br>time=452<br>x=%{x}<br>y=%{y}<extra></extra>",
           "legendgroup": "search_l",
           "marker": {
            "color": "#FFA15A",
            "symbol": "circle"
           },
           "mode": "markers",
           "name": "search_l",
           "orientation": "v",
           "showlegend": true,
           "type": "scatter",
           "x": [
            26,
            16,
            28,
            23
           ],
           "xaxis": "x",
           "y": [
            89,
            37,
            14,
            86
           ],
           "yaxis": "y"
          }
         ],
         "name": "452"
        },
        {
         "data": [
          {
           "hovertemplate": "state=edge_l<br>time=453<br>x=%{x}<br>y=%{y}<extra></extra>",
           "legendgroup": "edge_l",
           "marker": {
            "color": "#636efa",
            "symbol": "circle"
           },
           "mode": "markers",
           "name": "edge_l",
           "orientation": "v",
           "showlegend": true,
           "type": "scatter",
           "x": [
            3,
            37,
            40
           ],
           "xaxis": "x",
           "y": [
            38,
            3,
            1
           ],
           "yaxis": "y"
          },
          {
           "hovertemplate": "state=edge_r<br>time=453<br>x=%{x}<br>y=%{y}<extra></extra>",
           "legendgroup": "edge_r",
           "marker": {
            "color": "#EF553B",
            "symbol": "circle"
           },
           "mode": "markers",
           "name": "edge_r",
           "orientation": "v",
           "showlegend": true,
           "type": "scatter",
           "x": [
            86,
            50
           ],
           "xaxis": "x",
           "y": [
            16,
            99
           ],
           "yaxis": "y"
          },
          {
           "hovertemplate": "state=feed_l<br>time=453<br>x=%{x}<br>y=%{y}<extra></extra>",
           "legendgroup": "feed_l",
           "marker": {
            "color": "#00cc96",
            "symbol": "circle"
           },
           "mode": "markers",
           "name": "feed_l",
           "orientation": "v",
           "showlegend": true,
           "type": "scatter",
           "x": [
            12,
            19,
            15,
            19
           ],
           "xaxis": "x",
           "y": [
            48,
            49,
            46,
            45
           ],
           "yaxis": "y"
          },
          {
           "hovertemplate": "state=feed_r<br>time=453<br>x=%{x}<br>y=%{y}<extra></extra>",
           "legendgroup": "feed_r",
           "marker": {
            "color": "#ab63fa",
            "symbol": "circle"
           },
           "mode": "markers",
           "name": "feed_r",
           "orientation": "v",
           "showlegend": true,
           "type": "scatter",
           "x": [
            83,
            81
           ],
           "xaxis": "x",
           "y": [
            44,
            47
           ],
           "yaxis": "y"
          },
          {
           "hovertemplate": "state=search_l<br>time=453<br>x=%{x}<br>y=%{y}<extra></extra>",
           "legendgroup": "search_l",
           "marker": {
            "color": "#FFA15A",
            "symbol": "circle"
           },
           "mode": "markers",
           "name": "search_l",
           "orientation": "v",
           "showlegend": true,
           "type": "scatter",
           "x": [
            26,
            14,
            25,
            23
           ],
           "xaxis": "x",
           "y": [
            89,
            38,
            13,
            85
           ],
           "yaxis": "y"
          }
         ],
         "name": "453"
        },
        {
         "data": [
          {
           "hovertemplate": "state=edge_l<br>time=454<br>x=%{x}<br>y=%{y}<extra></extra>",
           "legendgroup": "edge_l",
           "marker": {
            "color": "#636efa",
            "symbol": "circle"
           },
           "mode": "markers",
           "name": "edge_l",
           "orientation": "v",
           "showlegend": true,
           "type": "scatter",
           "x": [
            2,
            22,
            37,
            39
           ],
           "xaxis": "x",
           "y": [
            41,
            12,
            3,
            1
           ],
           "yaxis": "y"
          },
          {
           "hovertemplate": "state=edge_r<br>time=454<br>x=%{x}<br>y=%{y}<extra></extra>",
           "legendgroup": "edge_r",
           "marker": {
            "color": "#EF553B",
            "symbol": "circle"
           },
           "mode": "markers",
           "name": "edge_r",
           "orientation": "v",
           "showlegend": true,
           "type": "scatter",
           "x": [
            82,
            52
           ],
           "xaxis": "x",
           "y": [
            13,
            99
           ],
           "yaxis": "y"
          },
          {
           "hovertemplate": "state=feed_l<br>time=454<br>x=%{x}<br>y=%{y}<extra></extra>",
           "legendgroup": "feed_l",
           "marker": {
            "color": "#00cc96",
            "symbol": "circle"
           },
           "mode": "markers",
           "name": "feed_l",
           "orientation": "v",
           "showlegend": true,
           "type": "scatter",
           "x": [
            12,
            19,
            15,
            14,
            18
           ],
           "xaxis": "x",
           "y": [
            47,
            49,
            46,
            39,
            45
           ],
           "yaxis": "y"
          },
          {
           "hovertemplate": "state=feed_r<br>time=454<br>x=%{x}<br>y=%{y}<extra></extra>",
           "legendgroup": "feed_r",
           "marker": {
            "color": "#ab63fa",
            "symbol": "circle"
           },
           "mode": "markers",
           "name": "feed_r",
           "orientation": "v",
           "showlegend": true,
           "type": "scatter",
           "x": [
            83,
            81
           ],
           "xaxis": "x",
           "y": [
            44,
            47
           ],
           "yaxis": "y"
          },
          {
           "hovertemplate": "state=search_l<br>time=454<br>x=%{x}<br>y=%{y}<extra></extra>",
           "legendgroup": "search_l",
           "marker": {
            "color": "#FFA15A",
            "symbol": "circle"
           },
           "mode": "markers",
           "name": "search_l",
           "orientation": "v",
           "showlegend": true,
           "type": "scatter",
           "x": [
            26,
            23
           ],
           "xaxis": "x",
           "y": [
            89,
            85
           ],
           "yaxis": "y"
          }
         ],
         "name": "454"
        },
        {
         "data": [
          {
           "hovertemplate": "state=edge_l<br>time=455<br>x=%{x}<br>y=%{y}<extra></extra>",
           "legendgroup": "edge_l",
           "marker": {
            "color": "#636efa",
            "symbol": "circle"
           },
           "mode": "markers",
           "name": "edge_l",
           "orientation": "v",
           "showlegend": true,
           "type": "scatter",
           "x": [
            1,
            22,
            40,
            39
           ],
           "xaxis": "x",
           "y": [
            44,
            12,
            4,
            2
           ],
           "yaxis": "y"
          },
          {
           "hovertemplate": "state=edge_r<br>time=455<br>x=%{x}<br>y=%{y}<extra></extra>",
           "legendgroup": "edge_r",
           "marker": {
            "color": "#EF553B",
            "symbol": "circle"
           },
           "mode": "markers",
           "name": "edge_r",
           "orientation": "v",
           "showlegend": true,
           "type": "scatter",
           "x": [
            79,
            54
           ],
           "xaxis": "x",
           "y": [
            10,
            99
           ],
           "yaxis": "y"
          },
          {
           "hovertemplate": "state=feed_l<br>time=455<br>x=%{x}<br>y=%{y}<extra></extra>",
           "legendgroup": "feed_l",
           "marker": {
            "color": "#00cc96",
            "symbol": "circle"
           },
           "mode": "markers",
           "name": "feed_l",
           "orientation": "v",
           "showlegend": true,
           "type": "scatter",
           "x": [
            12,
            19,
            15,
            14,
            18
           ],
           "xaxis": "x",
           "y": [
            47,
            49,
            46,
            39,
            45
           ],
           "yaxis": "y"
          },
          {
           "hovertemplate": "state=feed_r<br>time=455<br>x=%{x}<br>y=%{y}<extra></extra>",
           "legendgroup": "feed_r",
           "marker": {
            "color": "#ab63fa",
            "symbol": "circle"
           },
           "mode": "markers",
           "name": "feed_r",
           "orientation": "v",
           "showlegend": true,
           "type": "scatter",
           "x": [
            83,
            81
           ],
           "xaxis": "x",
           "y": [
            44,
            48
           ],
           "yaxis": "y"
          },
          {
           "hovertemplate": "state=search_l<br>time=455<br>x=%{x}<br>y=%{y}<extra></extra>",
           "legendgroup": "search_l",
           "marker": {
            "color": "#FFA15A",
            "symbol": "circle"
           },
           "mode": "markers",
           "name": "search_l",
           "orientation": "v",
           "showlegend": true,
           "type": "scatter",
           "x": [
            26,
            23
           ],
           "xaxis": "x",
           "y": [
            89,
            85
           ],
           "yaxis": "y"
          }
         ],
         "name": "455"
        },
        {
         "data": [
          {
           "hovertemplate": "state=edge_l<br>time=456<br>x=%{x}<br>y=%{y}<extra></extra>",
           "legendgroup": "edge_l",
           "marker": {
            "color": "#636efa",
            "symbol": "circle"
           },
           "mode": "markers",
           "name": "edge_l",
           "orientation": "v",
           "showlegend": true,
           "type": "scatter",
           "x": [
            1,
            22,
            38
           ],
           "xaxis": "x",
           "y": [
            47,
            12,
            3
           ],
           "yaxis": "y"
          },
          {
           "hovertemplate": "state=edge_r<br>time=456<br>x=%{x}<br>y=%{y}<extra></extra>",
           "legendgroup": "edge_r",
           "marker": {
            "color": "#EF553B",
            "symbol": "circle"
           },
           "mode": "markers",
           "name": "edge_r",
           "orientation": "v",
           "showlegend": true,
           "type": "scatter",
           "x": [
            75,
            56,
            50
           ],
           "xaxis": "x",
           "y": [
            8,
            99,
            2
           ],
           "yaxis": "y"
          },
          {
           "hovertemplate": "state=feed_l<br>time=456<br>x=%{x}<br>y=%{y}<extra></extra>",
           "legendgroup": "feed_l",
           "marker": {
            "color": "#00cc96",
            "symbol": "circle"
           },
           "mode": "markers",
           "name": "feed_l",
           "orientation": "v",
           "showlegend": true,
           "type": "scatter",
           "x": [
            12,
            19,
            15,
            14,
            18
           ],
           "xaxis": "x",
           "y": [
            47,
            49,
            45,
            39,
            46
           ],
           "yaxis": "y"
          },
          {
           "hovertemplate": "state=feed_r<br>time=456<br>x=%{x}<br>y=%{y}<extra></extra>",
           "legendgroup": "feed_r",
           "marker": {
            "color": "#ab63fa",
            "symbol": "circle"
           },
           "mode": "markers",
           "name": "feed_r",
           "orientation": "v",
           "showlegend": true,
           "type": "scatter",
           "x": [
            82,
            81
           ],
           "xaxis": "x",
           "y": [
            43,
            48
           ],
           "yaxis": "y"
          },
          {
           "hovertemplate": "state=search_l<br>time=456<br>x=%{x}<br>y=%{y}<extra></extra>",
           "legendgroup": "search_l",
           "marker": {
            "color": "#FFA15A",
            "symbol": "circle"
           },
           "mode": "markers",
           "name": "search_l",
           "orientation": "v",
           "showlegend": true,
           "type": "scatter",
           "x": [
            26,
            23
           ],
           "xaxis": "x",
           "y": [
            89,
            86
           ],
           "yaxis": "y"
          }
         ],
         "name": "456"
        },
        {
         "data": [
          {
           "hovertemplate": "state=edge_l<br>time=457<br>x=%{x}<br>y=%{y}<extra></extra>",
           "legendgroup": "edge_l",
           "marker": {
            "color": "#636efa",
            "symbol": "circle"
           },
           "mode": "markers",
           "name": "edge_l",
           "orientation": "v",
           "showlegend": true,
           "type": "scatter",
           "x": [
            1,
            22,
            34
           ],
           "xaxis": "x",
           "y": [
            50,
            12,
            4
           ],
           "yaxis": "y"
          },
          {
           "hovertemplate": "state=edge_r<br>time=457<br>x=%{x}<br>y=%{y}<extra></extra>",
           "legendgroup": "edge_r",
           "marker": {
            "color": "#EF553B",
            "symbol": "circle"
           },
           "mode": "markers",
           "name": "edge_r",
           "orientation": "v",
           "showlegend": true,
           "type": "scatter",
           "x": [
            70,
            57,
            54
           ],
           "xaxis": "x",
           "y": [
            5,
            98,
            1
           ],
           "yaxis": "y"
          },
          {
           "hovertemplate": "state=feed_l<br>time=457<br>x=%{x}<br>y=%{y}<extra></extra>",
           "legendgroup": "feed_l",
           "marker": {
            "color": "#00cc96",
            "symbol": "circle"
           },
           "mode": "markers",
           "name": "feed_l",
           "orientation": "v",
           "showlegend": true,
           "type": "scatter",
           "x": [
            12,
            19,
            15,
            14,
            17
           ],
           "xaxis": "x",
           "y": [
            48,
            49,
            45,
            39,
            47
           ],
           "yaxis": "y"
          },
          {
           "hovertemplate": "state=feed_r<br>time=457<br>x=%{x}<br>y=%{y}<extra></extra>",
           "legendgroup": "feed_r",
           "marker": {
            "color": "#ab63fa",
            "symbol": "circle"
           },
           "mode": "markers",
           "name": "feed_r",
           "orientation": "v",
           "showlegend": true,
           "type": "scatter",
           "x": [
            82,
            81
           ],
           "xaxis": "x",
           "y": [
            43,
            48
           ],
           "yaxis": "y"
          },
          {
           "hovertemplate": "state=search_l<br>time=457<br>x=%{x}<br>y=%{y}<extra></extra>",
           "legendgroup": "search_l",
           "marker": {
            "color": "#FFA15A",
            "symbol": "circle"
           },
           "mode": "markers",
           "name": "search_l",
           "orientation": "v",
           "showlegend": true,
           "type": "scatter",
           "x": [
            26,
            23
           ],
           "xaxis": "x",
           "y": [
            89,
            86
           ],
           "yaxis": "y"
          }
         ],
         "name": "457"
        },
        {
         "data": [
          {
           "hovertemplate": "state=edge_l<br>time=458<br>x=%{x}<br>y=%{y}<extra></extra>",
           "legendgroup": "edge_l",
           "marker": {
            "color": "#636efa",
            "symbol": "circle"
           },
           "mode": "markers",
           "name": "edge_l",
           "orientation": "v",
           "showlegend": true,
           "type": "scatter",
           "x": [
            1,
            21,
            32
           ],
           "xaxis": "x",
           "y": [
            54,
            12,
            5
           ],
           "yaxis": "y"
          },
          {
           "hovertemplate": "state=edge_r<br>time=458<br>x=%{x}<br>y=%{y}<extra></extra>",
           "legendgroup": "edge_r",
           "marker": {
            "color": "#EF553B",
            "symbol": "circle"
           },
           "mode": "markers",
           "name": "edge_r",
           "orientation": "v",
           "showlegend": true,
           "type": "scatter",
           "x": [
            66,
            59,
            59
           ],
           "xaxis": "x",
           "y": [
            4,
            98,
            2
           ],
           "yaxis": "y"
          },
          {
           "hovertemplate": "state=feed_l<br>time=458<br>x=%{x}<br>y=%{y}<extra></extra>",
           "legendgroup": "feed_l",
           "marker": {
            "color": "#00cc96",
            "symbol": "circle"
           },
           "mode": "markers",
           "name": "feed_l",
           "orientation": "v",
           "showlegend": true,
           "type": "scatter",
           "x": [
            11,
            19,
            15,
            14,
            17
           ],
           "xaxis": "x",
           "y": [
            48,
            49,
            45,
            39,
            48
           ],
           "yaxis": "y"
          },
          {
           "hovertemplate": "state=feed_r<br>time=458<br>x=%{x}<br>y=%{y}<extra></extra>",
           "legendgroup": "feed_r",
           "marker": {
            "color": "#ab63fa",
            "symbol": "circle"
           },
           "mode": "markers",
           "name": "feed_r",
           "orientation": "v",
           "showlegend": true,
           "type": "scatter",
           "x": [
            82,
            82
           ],
           "xaxis": "x",
           "y": [
            44,
            48
           ],
           "yaxis": "y"
          },
          {
           "hovertemplate": "state=search_l<br>time=458<br>x=%{x}<br>y=%{y}<extra></extra>",
           "legendgroup": "search_l",
           "marker": {
            "color": "#FFA15A",
            "symbol": "circle"
           },
           "mode": "markers",
           "name": "search_l",
           "orientation": "v",
           "showlegend": true,
           "type": "scatter",
           "x": [
            26,
            23
           ],
           "xaxis": "x",
           "y": [
            89,
            86
           ],
           "yaxis": "y"
          }
         ],
         "name": "458"
        },
        {
         "data": [
          {
           "hovertemplate": "state=edge_l<br>time=459<br>x=%{x}<br>y=%{y}<extra></extra>",
           "legendgroup": "edge_l",
           "marker": {
            "color": "#636efa",
            "symbol": "circle"
           },
           "mode": "markers",
           "name": "edge_l",
           "orientation": "v",
           "showlegend": true,
           "type": "scatter",
           "x": [
            2,
            21,
            31
           ],
           "xaxis": "x",
           "y": [
            56,
            11,
            5
           ],
           "yaxis": "y"
          },
          {
           "hovertemplate": "state=edge_r<br>time=459<br>x=%{x}<br>y=%{y}<extra></extra>",
           "legendgroup": "edge_r",
           "marker": {
            "color": "#EF553B",
            "symbol": "circle"
           },
           "mode": "markers",
           "name": "edge_r",
           "orientation": "v",
           "showlegend": true,
           "type": "scatter",
           "x": [
            64,
            61,
            60
           ],
           "xaxis": "x",
           "y": [
            3,
            98,
            2
           ],
           "yaxis": "y"
          },
          {
           "hovertemplate": "state=feed_l<br>time=459<br>x=%{x}<br>y=%{y}<extra></extra>",
           "legendgroup": "feed_l",
           "marker": {
            "color": "#00cc96",
            "symbol": "circle"
           },
           "mode": "markers",
           "name": "feed_l",
           "orientation": "v",
           "showlegend": true,
           "type": "scatter",
           "x": [
            10,
            19,
            15,
            14,
            16
           ],
           "xaxis": "x",
           "y": [
            48,
            49,
            45,
            39,
            48
           ],
           "yaxis": "y"
          },
          {
           "hovertemplate": "state=feed_r<br>time=459<br>x=%{x}<br>y=%{y}<extra></extra>",
           "legendgroup": "feed_r",
           "marker": {
            "color": "#ab63fa",
            "symbol": "circle"
           },
           "mode": "markers",
           "name": "feed_r",
           "orientation": "v",
           "showlegend": true,
           "type": "scatter",
           "x": [
            82,
            82
           ],
           "xaxis": "x",
           "y": [
            44,
            49
           ],
           "yaxis": "y"
          },
          {
           "hovertemplate": "state=search_l<br>time=459<br>x=%{x}<br>y=%{y}<extra></extra>",
           "legendgroup": "search_l",
           "marker": {
            "color": "#FFA15A",
            "symbol": "circle"
           },
           "mode": "markers",
           "name": "search_l",
           "orientation": "v",
           "showlegend": true,
           "type": "scatter",
           "x": [
            26,
            23
           ],
           "xaxis": "x",
           "y": [
            89,
            86
           ],
           "yaxis": "y"
          }
         ],
         "name": "459"
        },
        {
         "data": [
          {
           "hovertemplate": "state=edge_l<br>time=460<br>x=%{x}<br>y=%{y}<extra></extra>",
           "legendgroup": "edge_l",
           "marker": {
            "color": "#636efa",
            "symbol": "circle"
           },
           "mode": "markers",
           "name": "edge_l",
           "orientation": "v",
           "showlegend": true,
           "type": "scatter",
           "x": [
            2,
            22,
            30
           ],
           "xaxis": "x",
           "y": [
            59,
            12,
            5
           ],
           "yaxis": "y"
          },
          {
           "hovertemplate": "state=edge_r<br>time=460<br>x=%{x}<br>y=%{y}<extra></extra>",
           "legendgroup": "edge_r",
           "marker": {
            "color": "#EF553B",
            "symbol": "circle"
           },
           "mode": "markers",
           "name": "edge_r",
           "orientation": "v",
           "showlegend": true,
           "type": "scatter",
           "x": [
            62,
            63
           ],
           "xaxis": "x",
           "y": [
            2,
            97
           ],
           "yaxis": "y"
          },
          {
           "hovertemplate": "state=feed_l<br>time=460<br>x=%{x}<br>y=%{y}<extra></extra>",
           "legendgroup": "feed_l",
           "marker": {
            "color": "#00cc96",
            "symbol": "circle"
           },
           "mode": "markers",
           "name": "feed_l",
           "orientation": "v",
           "showlegend": true,
           "type": "scatter",
           "x": [
            10,
            19,
            15,
            14,
            14
           ],
           "xaxis": "x",
           "y": [
            48,
            50,
            46,
            39,
            50
           ],
           "yaxis": "y"
          },
          {
           "hovertemplate": "state=feed_r<br>time=460<br>x=%{x}<br>y=%{y}<extra></extra>",
           "legendgroup": "feed_r",
           "marker": {
            "color": "#ab63fa",
            "symbol": "circle"
           },
           "mode": "markers",
           "name": "feed_r",
           "orientation": "v",
           "showlegend": true,
           "type": "scatter",
           "x": [
            82,
            82
           ],
           "xaxis": "x",
           "y": [
            44,
            50
           ],
           "yaxis": "y"
          },
          {
           "hovertemplate": "state=search_l<br>time=460<br>x=%{x}<br>y=%{y}<extra></extra>",
           "legendgroup": "search_l",
           "marker": {
            "color": "#FFA15A",
            "symbol": "circle"
           },
           "mode": "markers",
           "name": "search_l",
           "orientation": "v",
           "showlegend": true,
           "type": "scatter",
           "x": [
            26,
            23
           ],
           "xaxis": "x",
           "y": [
            89,
            86
           ],
           "yaxis": "y"
          },
          {
           "hovertemplate": "state=search_r<br>time=460<br>x=%{x}<br>y=%{y}<extra></extra>",
           "legendgroup": "search_r",
           "marker": {
            "color": "#19d3f3",
            "symbol": "circle"
           },
           "mode": "markers",
           "name": "search_r",
           "orientation": "v",
           "showlegend": true,
           "type": "scatter",
           "x": [
            63
           ],
           "xaxis": "x",
           "y": [
            5
           ],
           "yaxis": "y"
          }
         ],
         "name": "460"
        },
        {
         "data": [
          {
           "hovertemplate": "state=edge_l<br>time=461<br>x=%{x}<br>y=%{y}<extra></extra>",
           "legendgroup": "edge_l",
           "marker": {
            "color": "#636efa",
            "symbol": "circle"
           },
           "mode": "markers",
           "name": "edge_l",
           "orientation": "v",
           "showlegend": true,
           "type": "scatter",
           "x": [
            3,
            30
           ],
           "xaxis": "x",
           "y": [
            62,
            6
           ],
           "yaxis": "y"
          },
          {
           "hovertemplate": "state=edge_r<br>time=461<br>x=%{x}<br>y=%{y}<extra></extra>",
           "legendgroup": "edge_r",
           "marker": {
            "color": "#EF553B",
            "symbol": "circle"
           },
           "mode": "markers",
           "name": "edge_r",
           "orientation": "v",
           "showlegend": true,
           "type": "scatter",
           "x": [
            57,
            65
           ],
           "xaxis": "x",
           "y": [
            2,
            97
           ],
           "yaxis": "y"
          },
          {
           "hovertemplate": "state=feed_l<br>time=461<br>x=%{x}<br>y=%{y}<extra></extra>",
           "legendgroup": "feed_l",
           "marker": {
            "color": "#00cc96",
            "symbol": "circle"
           },
           "mode": "markers",
           "name": "feed_l",
           "orientation": "v",
           "showlegend": true,
           "type": "scatter",
           "x": [
            10,
            18,
            15,
            14,
            14
           ],
           "xaxis": "x",
           "y": [
            48,
            50,
            45,
            39,
            50
           ],
           "yaxis": "y"
          },
          {
           "hovertemplate": "state=feed_r<br>time=461<br>x=%{x}<br>y=%{y}<extra></extra>",
           "legendgroup": "feed_r",
           "marker": {
            "color": "#ab63fa",
            "symbol": "circle"
           },
           "mode": "markers",
           "name": "feed_r",
           "orientation": "v",
           "showlegend": true,
           "type": "scatter",
           "x": [
            82,
            82
           ],
           "xaxis": "x",
           "y": [
            44,
            50
           ],
           "yaxis": "y"
          },
          {
           "hovertemplate": "state=search_l<br>time=461<br>x=%{x}<br>y=%{y}<extra></extra>",
           "legendgroup": "search_l",
           "marker": {
            "color": "#FFA15A",
            "symbol": "circle"
           },
           "mode": "markers",
           "name": "search_l",
           "orientation": "v",
           "showlegend": true,
           "type": "scatter",
           "x": [
            26,
            22,
            23
           ],
           "xaxis": "x",
           "y": [
            89,
            14,
            86
           ],
           "yaxis": "y"
          },
          {
           "hovertemplate": "state=search_r<br>time=461<br>x=%{x}<br>y=%{y}<extra></extra>",
           "legendgroup": "search_r",
           "marker": {
            "color": "#19d3f3",
            "symbol": "circle"
           },
           "mode": "markers",
           "name": "search_r",
           "orientation": "v",
           "showlegend": true,
           "type": "scatter",
           "x": [
            72
           ],
           "xaxis": "x",
           "y": [
            9
           ],
           "yaxis": "y"
          }
         ],
         "name": "461"
        },
        {
         "data": [
          {
           "hovertemplate": "state=edge_l<br>time=462<br>x=%{x}<br>y=%{y}<extra></extra>",
           "legendgroup": "edge_l",
           "marker": {
            "color": "#636efa",
            "symbol": "circle"
           },
           "mode": "markers",
           "name": "edge_l",
           "orientation": "v",
           "showlegend": true,
           "type": "scatter",
           "x": [
            3,
            30
           ],
           "xaxis": "x",
           "y": [
            63,
            6
           ],
           "yaxis": "y"
          },
          {
           "hovertemplate": "state=edge_r<br>time=462<br>x=%{x}<br>y=%{y}<extra></extra>",
           "legendgroup": "edge_r",
           "marker": {
            "color": "#EF553B",
            "symbol": "circle"
           },
           "mode": "markers",
           "name": "edge_r",
           "orientation": "v",
           "showlegend": true,
           "type": "scatter",
           "x": [
            52,
            67,
            80
           ],
           "xaxis": "x",
           "y": [
            1,
            96,
            12
           ],
           "yaxis": "y"
          },
          {
           "hovertemplate": "state=feed_l<br>time=462<br>x=%{x}<br>y=%{y}<extra></extra>",
           "legendgroup": "feed_l",
           "marker": {
            "color": "#00cc96",
            "symbol": "circle"
           },
           "mode": "markers",
           "name": "feed_l",
           "orientation": "v",
           "showlegend": true,
           "type": "scatter",
           "x": [
            10,
            18,
            17,
            14,
            14
           ],
           "xaxis": "x",
           "y": [
            48,
            51,
            46,
            39,
            51
           ],
           "yaxis": "y"
          },
          {
           "hovertemplate": "state=feed_r<br>time=462<br>x=%{x}<br>y=%{y}<extra></extra>",
           "legendgroup": "feed_r",
           "marker": {
            "color": "#ab63fa",
            "symbol": "circle"
           },
           "mode": "markers",
           "name": "feed_r",
           "orientation": "v",
           "showlegend": true,
           "type": "scatter",
           "x": [
            82,
            82
           ],
           "xaxis": "x",
           "y": [
            45,
            50
           ],
           "yaxis": "y"
          },
          {
           "hovertemplate": "state=search_l<br>time=462<br>x=%{x}<br>y=%{y}<extra></extra>",
           "legendgroup": "search_l",
           "marker": {
            "color": "#FFA15A",
            "symbol": "circle"
           },
           "mode": "markers",
           "name": "search_l",
           "orientation": "v",
           "showlegend": true,
           "type": "scatter",
           "x": [
            26,
            22,
            23
           ],
           "xaxis": "x",
           "y": [
            89,
            17,
            86
           ],
           "yaxis": "y"
          }
         ],
         "name": "462"
        },
        {
         "data": [
          {
           "hovertemplate": "state=edge_l<br>time=463<br>x=%{x}<br>y=%{y}<extra></extra>",
           "legendgroup": "edge_l",
           "marker": {
            "color": "#636efa",
            "symbol": "circle"
           },
           "mode": "markers",
           "name": "edge_l",
           "orientation": "v",
           "showlegend": true,
           "type": "scatter",
           "x": [
            47,
            3,
            30
           ],
           "xaxis": "x",
           "y": [
            1,
            65,
            6
           ],
           "yaxis": "y"
          },
          {
           "hovertemplate": "state=edge_r<br>time=463<br>x=%{x}<br>y=%{y}<extra></extra>",
           "legendgroup": "edge_r",
           "marker": {
            "color": "#EF553B",
            "symbol": "circle"
           },
           "mode": "markers",
           "name": "edge_r",
           "orientation": "v",
           "showlegend": true,
           "type": "scatter",
           "x": [
            69,
            83
           ],
           "xaxis": "x",
           "y": [
            95,
            14
           ],
           "yaxis": "y"
          },
          {
           "hovertemplate": "state=feed_l<br>time=463<br>x=%{x}<br>y=%{y}<extra></extra>",
           "legendgroup": "feed_l",
           "marker": {
            "color": "#00cc96",
            "symbol": "circle"
           },
           "mode": "markers",
           "name": "feed_l",
           "orientation": "v",
           "showlegend": true,
           "type": "scatter",
           "x": [
            11,
            18,
            18,
            14,
            15
           ],
           "xaxis": "x",
           "y": [
            48,
            51,
            46,
            39,
            52
           ],
           "yaxis": "y"
          },
          {
           "hovertemplate": "state=feed_r<br>time=463<br>x=%{x}<br>y=%{y}<extra></extra>",
           "legendgroup": "feed_r",
           "marker": {
            "color": "#ab63fa",
            "symbol": "circle"
           },
           "mode": "markers",
           "name": "feed_r",
           "orientation": "v",
           "showlegend": true,
           "type": "scatter",
           "x": [
            82,
            82
           ],
           "xaxis": "x",
           "y": [
            45,
            50
           ],
           "yaxis": "y"
          },
          {
           "hovertemplate": "state=search_l<br>time=463<br>x=%{x}<br>y=%{y}<extra></extra>",
           "legendgroup": "search_l",
           "marker": {
            "color": "#FFA15A",
            "symbol": "circle"
           },
           "mode": "markers",
           "name": "search_l",
           "orientation": "v",
           "showlegend": true,
           "type": "scatter",
           "x": [
            26,
            22,
            23
           ],
           "xaxis": "x",
           "y": [
            89,
            21,
            86
           ],
           "yaxis": "y"
          }
         ],
         "name": "463"
        },
        {
         "data": [
          {
           "hovertemplate": "state=edge_l<br>time=464<br>x=%{x}<br>y=%{y}<extra></extra>",
           "legendgroup": "edge_l",
           "marker": {
            "color": "#636efa",
            "symbol": "circle"
           },
           "mode": "markers",
           "name": "edge_l",
           "orientation": "v",
           "showlegend": true,
           "type": "scatter",
           "x": [
            43,
            4,
            30
           ],
           "xaxis": "x",
           "y": [
            1,
            67,
            6
           ],
           "yaxis": "y"
          },
          {
           "hovertemplate": "state=edge_r<br>time=464<br>x=%{x}<br>y=%{y}<extra></extra>",
           "legendgroup": "edge_r",
           "marker": {
            "color": "#EF553B",
            "symbol": "circle"
           },
           "mode": "markers",
           "name": "edge_r",
           "orientation": "v",
           "showlegend": true,
           "type": "scatter",
           "x": [
            71,
            83
           ],
           "xaxis": "x",
           "y": [
            94,
            14
           ],
           "yaxis": "y"
          },
          {
           "hovertemplate": "state=feed_l<br>time=464<br>x=%{x}<br>y=%{y}<extra></extra>",
           "legendgroup": "feed_l",
           "marker": {
            "color": "#00cc96",
            "symbol": "circle"
           },
           "mode": "markers",
           "name": "feed_l",
           "orientation": "v",
           "showlegend": true,
           "type": "scatter",
           "x": [
            11,
            18,
            19,
            13,
            18
           ],
           "xaxis": "x",
           "y": [
            48,
            51,
            47,
            39,
            54
           ],
           "yaxis": "y"
          },
          {
           "hovertemplate": "state=feed_r<br>time=464<br>x=%{x}<br>y=%{y}<extra></extra>",
           "legendgroup": "feed_r",
           "marker": {
            "color": "#ab63fa",
            "symbol": "circle"
           },
           "mode": "markers",
           "name": "feed_r",
           "orientation": "v",
           "showlegend": true,
           "type": "scatter",
           "x": [
            82,
            82
           ],
           "xaxis": "x",
           "y": [
            45,
            50
           ],
           "yaxis": "y"
          },
          {
           "hovertemplate": "state=search_l<br>time=464<br>x=%{x}<br>y=%{y}<extra></extra>",
           "legendgroup": "search_l",
           "marker": {
            "color": "#FFA15A",
            "symbol": "circle"
           },
           "mode": "markers",
           "name": "search_l",
           "orientation": "v",
           "showlegend": true,
           "type": "scatter",
           "x": [
            26,
            23,
            23
           ],
           "xaxis": "x",
           "y": [
            89,
            27,
            86
           ],
           "yaxis": "y"
          }
         ],
         "name": "464"
        },
        {
         "data": [
          {
           "hovertemplate": "state=edge_l<br>time=465<br>x=%{x}<br>y=%{y}<extra></extra>",
           "legendgroup": "edge_l",
           "marker": {
            "color": "#636efa",
            "symbol": "circle"
           },
           "mode": "markers",
           "name": "edge_l",
           "orientation": "v",
           "showlegend": true,
           "type": "scatter",
           "x": [
            39,
            5,
            28
           ],
           "xaxis": "x",
           "y": [
            3,
            69,
            6
           ],
           "yaxis": "y"
          },
          {
           "hovertemplate": "state=edge_r<br>time=465<br>x=%{x}<br>y=%{y}<extra></extra>",
           "legendgroup": "edge_r",
           "marker": {
            "color": "#EF553B",
            "symbol": "circle"
           },
           "mode": "markers",
           "name": "edge_r",
           "orientation": "v",
           "showlegend": true,
           "type": "scatter",
           "x": [
            73,
            85
           ],
           "xaxis": "x",
           "y": [
            94,
            16
           ],
           "yaxis": "y"
          },
          {
           "hovertemplate": "state=feed_l<br>time=465<br>x=%{x}<br>y=%{y}<extra></extra>",
           "legendgroup": "feed_l",
           "marker": {
            "color": "#00cc96",
            "symbol": "circle"
           },
           "mode": "markers",
           "name": "feed_l",
           "orientation": "v",
           "showlegend": true,
           "type": "scatter",
           "x": [
            11,
            17,
            19,
            13
           ],
           "xaxis": "x",
           "y": [
            48,
            51,
            47,
            39
           ],
           "yaxis": "y"
          },
          {
           "hovertemplate": "state=feed_r<br>time=465<br>x=%{x}<br>y=%{y}<extra></extra>",
           "legendgroup": "feed_r",
           "marker": {
            "color": "#ab63fa",
            "symbol": "circle"
           },
           "mode": "markers",
           "name": "feed_r",
           "orientation": "v",
           "showlegend": true,
           "type": "scatter",
           "x": [
            82,
            82
           ],
           "xaxis": "x",
           "y": [
            45,
            50
           ],
           "yaxis": "y"
          },
          {
           "hovertemplate": "state=search_l<br>time=465<br>x=%{x}<br>y=%{y}<extra></extra>",
           "legendgroup": "search_l",
           "marker": {
            "color": "#FFA15A",
            "symbol": "circle"
           },
           "mode": "markers",
           "name": "search_l",
           "orientation": "v",
           "showlegend": true,
           "type": "scatter",
           "x": [
            26,
            17,
            24,
            23
           ],
           "xaxis": "x",
           "y": [
            89,
            58,
            32,
            85
           ],
           "yaxis": "y"
          }
         ],
         "name": "465"
        },
        {
         "data": [
          {
           "hovertemplate": "state=edge_l<br>time=466<br>x=%{x}<br>y=%{y}<extra></extra>",
           "legendgroup": "edge_l",
           "marker": {
            "color": "#636efa",
            "symbol": "circle"
           },
           "mode": "markers",
           "name": "edge_l",
           "orientation": "v",
           "showlegend": true,
           "type": "scatter",
           "x": [
            37,
            6,
            25
           ],
           "xaxis": "x",
           "y": [
            3,
            71,
            8
           ],
           "yaxis": "y"
          },
          {
           "hovertemplate": "state=edge_r<br>time=466<br>x=%{x}<br>y=%{y}<extra></extra>",
           "legendgroup": "edge_r",
           "marker": {
            "color": "#EF553B",
            "symbol": "circle"
           },
           "mode": "markers",
           "name": "edge_r",
           "orientation": "v",
           "showlegend": true,
           "type": "scatter",
           "x": [
            74,
            86
           ],
           "xaxis": "x",
           "y": [
            93,
            17
           ],
           "yaxis": "y"
          },
          {
           "hovertemplate": "state=feed_l<br>time=466<br>x=%{x}<br>y=%{y}<extra></extra>",
           "legendgroup": "feed_l",
           "marker": {
            "color": "#00cc96",
            "symbol": "circle"
           },
           "mode": "markers",
           "name": "feed_l",
           "orientation": "v",
           "showlegend": true,
           "type": "scatter",
           "x": [
            11,
            17,
            19,
            13
           ],
           "xaxis": "x",
           "y": [
            48,
            51,
            47,
            39
           ],
           "yaxis": "y"
          },
          {
           "hovertemplate": "state=feed_r<br>time=466<br>x=%{x}<br>y=%{y}<extra></extra>",
           "legendgroup": "feed_r",
           "marker": {
            "color": "#ab63fa",
            "symbol": "circle"
           },
           "mode": "markers",
           "name": "feed_r",
           "orientation": "v",
           "showlegend": true,
           "type": "scatter",
           "x": [
            82,
            82
           ],
           "xaxis": "x",
           "y": [
            45,
            50
           ],
           "yaxis": "y"
          },
          {
           "hovertemplate": "state=search_l<br>time=466<br>x=%{x}<br>y=%{y}<extra></extra>",
           "legendgroup": "search_l",
           "marker": {
            "color": "#FFA15A",
            "symbol": "circle"
           },
           "mode": "markers",
           "name": "search_l",
           "orientation": "v",
           "showlegend": true,
           "type": "scatter",
           "x": [
            26,
            12,
            25,
            23
           ],
           "xaxis": "x",
           "y": [
            89,
            58,
            36,
            86
           ],
           "yaxis": "y"
          }
         ],
         "name": "466"
        },
        {
         "data": [
          {
           "hovertemplate": "state=edge_l<br>time=467<br>x=%{x}<br>y=%{y}<extra></extra>",
           "legendgroup": "edge_l",
           "marker": {
            "color": "#636efa",
            "symbol": "circle"
           },
           "mode": "markers",
           "name": "edge_l",
           "orientation": "v",
           "showlegend": true,
           "type": "scatter",
           "x": [
            34,
            7,
            25
           ],
           "xaxis": "x",
           "y": [
            4,
            73,
            8
           ],
           "yaxis": "y"
          },
          {
           "hovertemplate": "state=edge_r<br>time=467<br>x=%{x}<br>y=%{y}<extra></extra>",
           "legendgroup": "edge_r",
           "marker": {
            "color": "#EF553B",
            "symbol": "circle"
           },
           "mode": "markers",
           "name": "edge_r",
           "orientation": "v",
           "showlegend": true,
           "type": "scatter",
           "x": [
            76,
            86
           ],
           "xaxis": "x",
           "y": [
            92,
            17
           ],
           "yaxis": "y"
          },
          {
           "hovertemplate": "state=feed_l<br>time=467<br>x=%{x}<br>y=%{y}<extra></extra>",
           "legendgroup": "feed_l",
           "marker": {
            "color": "#00cc96",
            "symbol": "circle"
           },
           "mode": "markers",
           "name": "feed_l",
           "orientation": "v",
           "showlegend": true,
           "type": "scatter",
           "x": [
            11,
            17,
            19,
            13,
            11
           ],
           "xaxis": "x",
           "y": [
            49,
            51,
            47,
            39,
            56
           ],
           "yaxis": "y"
          },
          {
           "hovertemplate": "state=feed_r<br>time=467<br>x=%{x}<br>y=%{y}<extra></extra>",
           "legendgroup": "feed_r",
           "marker": {
            "color": "#ab63fa",
            "symbol": "circle"
           },
           "mode": "markers",
           "name": "feed_r",
           "orientation": "v",
           "showlegend": true,
           "type": "scatter",
           "x": [
            82,
            82
           ],
           "xaxis": "x",
           "y": [
            45,
            50
           ],
           "yaxis": "y"
          },
          {
           "hovertemplate": "state=search_l<br>time=467<br>x=%{x}<br>y=%{y}<extra></extra>",
           "legendgroup": "search_l",
           "marker": {
            "color": "#FFA15A",
            "symbol": "circle"
           },
           "mode": "markers",
           "name": "search_l",
           "orientation": "v",
           "showlegend": true,
           "type": "scatter",
           "x": [
            26,
            25,
            23
           ],
           "xaxis": "x",
           "y": [
            89,
            41,
            86
           ],
           "yaxis": "y"
          }
         ],
         "name": "467"
        },
        {
         "data": [
          {
           "hovertemplate": "state=edge_l<br>time=468<br>x=%{x}<br>y=%{y}<extra></extra>",
           "legendgroup": "edge_l",
           "marker": {
            "color": "#636efa",
            "symbol": "circle"
           },
           "mode": "markers",
           "name": "edge_l",
           "orientation": "v",
           "showlegend": true,
           "type": "scatter",
           "x": [
            30,
            8,
            25
           ],
           "xaxis": "x",
           "y": [
            6,
            75,
            8
           ],
           "yaxis": "y"
          },
          {
           "hovertemplate": "state=edge_r<br>time=468<br>x=%{x}<br>y=%{y}<extra></extra>",
           "legendgroup": "edge_r",
           "marker": {
            "color": "#EF553B",
            "symbol": "circle"
           },
           "mode": "markers",
           "name": "edge_r",
           "orientation": "v",
           "showlegend": true,
           "type": "scatter",
           "x": [
            78,
            86
           ],
           "xaxis": "x",
           "y": [
            90,
            18
           ],
           "yaxis": "y"
          },
          {
           "hovertemplate": "state=feed_l<br>time=468<br>x=%{x}<br>y=%{y}<extra></extra>",
           "legendgroup": "feed_l",
           "marker": {
            "color": "#00cc96",
            "symbol": "circle"
           },
           "mode": "markers",
           "name": "feed_l",
           "orientation": "v",
           "showlegend": true,
           "type": "scatter",
           "x": [
            11,
            17,
            19,
            13,
            12,
            24
           ],
           "xaxis": "x",
           "y": [
            49,
            51,
            47,
            39,
            53,
            46
           ],
           "yaxis": "y"
          },
          {
           "hovertemplate": "state=feed_r<br>time=468<br>x=%{x}<br>y=%{y}<extra></extra>",
           "legendgroup": "feed_r",
           "marker": {
            "color": "#ab63fa",
            "symbol": "circle"
           },
           "mode": "markers",
           "name": "feed_r",
           "orientation": "v",
           "showlegend": true,
           "type": "scatter",
           "x": [
            82,
            82
           ],
           "xaxis": "x",
           "y": [
            45,
            50
           ],
           "yaxis": "y"
          },
          {
           "hovertemplate": "state=search_l<br>time=468<br>x=%{x}<br>y=%{y}<extra></extra>",
           "legendgroup": "search_l",
           "marker": {
            "color": "#FFA15A",
            "symbol": "circle"
           },
           "mode": "markers",
           "name": "search_l",
           "orientation": "v",
           "showlegend": true,
           "type": "scatter",
           "x": [
            26,
            23
           ],
           "xaxis": "x",
           "y": [
            89,
            85
           ],
           "yaxis": "y"
          }
         ],
         "name": "468"
        },
        {
         "data": [
          {
           "hovertemplate": "state=edge_l<br>time=469<br>x=%{x}<br>y=%{y}<extra></extra>",
           "legendgroup": "edge_l",
           "marker": {
            "color": "#636efa",
            "symbol": "circle"
           },
           "mode": "markers",
           "name": "edge_l",
           "orientation": "v",
           "showlegend": true,
           "type": "scatter",
           "x": [
            27,
            10,
            24
           ],
           "xaxis": "x",
           "y": [
            6,
            77,
            9
           ],
           "yaxis": "y"
          },
          {
           "hovertemplate": "state=edge_r<br>time=469<br>x=%{x}<br>y=%{y}<extra></extra>",
           "legendgroup": "edge_r",
           "marker": {
            "color": "#EF553B",
            "symbol": "circle"
           },
           "mode": "markers",
           "name": "edge_r",
           "orientation": "v",
           "showlegend": true,
           "type": "scatter",
           "x": [
            79,
            91
           ],
           "xaxis": "x",
           "y": [
            89,
            25
           ],
           "yaxis": "y"
          },
          {
           "hovertemplate": "state=feed_l<br>time=469<br>x=%{x}<br>y=%{y}<extra></extra>",
           "legendgroup": "feed_l",
           "marker": {
            "color": "#00cc96",
            "symbol": "circle"
           },
           "mode": "markers",
           "name": "feed_l",
           "orientation": "v",
           "showlegend": true,
           "type": "scatter",
           "x": [
            11,
            17,
            19,
            13,
            12,
            23
           ],
           "xaxis": "x",
           "y": [
            49,
            51,
            47,
            39,
            53,
            50
           ],
           "yaxis": "y"
          },
          {
           "hovertemplate": "state=feed_r<br>time=469<br>x=%{x}<br>y=%{y}<extra></extra>",
           "legendgroup": "feed_r",
           "marker": {
            "color": "#ab63fa",
            "symbol": "circle"
           },
           "mode": "markers",
           "name": "feed_r",
           "orientation": "v",
           "showlegend": true,
           "type": "scatter",
           "x": [
            81,
            82
           ],
           "xaxis": "x",
           "y": [
            45,
            50
           ],
           "yaxis": "y"
          },
          {
           "hovertemplate": "state=search_l<br>time=469<br>x=%{x}<br>y=%{y}<extra></extra>",
           "legendgroup": "search_l",
           "marker": {
            "color": "#FFA15A",
            "symbol": "circle"
           },
           "mode": "markers",
           "name": "search_l",
           "orientation": "v",
           "showlegend": true,
           "type": "scatter",
           "x": [
            26,
            23
           ],
           "xaxis": "x",
           "y": [
            89,
            86
           ],
           "yaxis": "y"
          }
         ],
         "name": "469"
        },
        {
         "data": [
          {
           "hovertemplate": "state=edge_l<br>time=470<br>x=%{x}<br>y=%{y}<extra></extra>",
           "legendgroup": "edge_l",
           "marker": {
            "color": "#636efa",
            "symbol": "circle"
           },
           "mode": "markers",
           "name": "edge_l",
           "orientation": "v",
           "showlegend": true,
           "type": "scatter",
           "x": [
            26,
            10,
            23
           ],
           "xaxis": "x",
           "y": [
            7,
            78,
            9
           ],
           "yaxis": "y"
          },
          {
           "hovertemplate": "state=edge_r<br>time=470<br>x=%{x}<br>y=%{y}<extra></extra>",
           "legendgroup": "edge_r",
           "marker": {
            "color": "#EF553B",
            "symbol": "circle"
           },
           "mode": "markers",
           "name": "edge_r",
           "orientation": "v",
           "showlegend": true,
           "type": "scatter",
           "x": [
            81,
            96
           ],
           "xaxis": "x",
           "y": [
            88,
            34
           ],
           "yaxis": "y"
          },
          {
           "hovertemplate": "state=feed_l<br>time=470<br>x=%{x}<br>y=%{y}<extra></extra>",
           "legendgroup": "feed_l",
           "marker": {
            "color": "#00cc96",
            "symbol": "circle"
           },
           "mode": "markers",
           "name": "feed_l",
           "orientation": "v",
           "showlegend": true,
           "type": "scatter",
           "x": [
            11,
            17,
            19,
            12,
            12,
            20
           ],
           "xaxis": "x",
           "y": [
            49,
            51,
            47,
            41,
            53,
            54
           ],
           "yaxis": "y"
          },
          {
           "hovertemplate": "state=feed_r<br>time=470<br>x=%{x}<br>y=%{y}<extra></extra>",
           "legendgroup": "feed_r",
           "marker": {
            "color": "#ab63fa",
            "symbol": "circle"
           },
           "mode": "markers",
           "name": "feed_r",
           "orientation": "v",
           "showlegend": true,
           "type": "scatter",
           "x": [
            81,
            82
           ],
           "xaxis": "x",
           "y": [
            45,
            50
           ],
           "yaxis": "y"
          },
          {
           "hovertemplate": "state=search_l<br>time=470<br>x=%{x}<br>y=%{y}<extra></extra>",
           "legendgroup": "search_l",
           "marker": {
            "color": "#FFA15A",
            "symbol": "circle"
           },
           "mode": "markers",
           "name": "search_l",
           "orientation": "v",
           "showlegend": true,
           "type": "scatter",
           "x": [
            26,
            23
           ],
           "xaxis": "x",
           "y": [
            89,
            86
           ],
           "yaxis": "y"
          }
         ],
         "name": "470"
        },
        {
         "data": [
          {
           "hovertemplate": "state=edge_l<br>time=471<br>x=%{x}<br>y=%{y}<extra></extra>",
           "legendgroup": "edge_l",
           "marker": {
            "color": "#636efa",
            "symbol": "circle"
           },
           "mode": "markers",
           "name": "edge_l",
           "orientation": "v",
           "showlegend": true,
           "type": "scatter",
           "x": [
            25,
            11,
            23
           ],
           "xaxis": "x",
           "y": [
            8,
            80,
            10
           ],
           "yaxis": "y"
          },
          {
           "hovertemplate": "state=edge_r<br>time=471<br>x=%{x}<br>y=%{y}<extra></extra>",
           "legendgroup": "edge_r",
           "marker": {
            "color": "#EF553B",
            "symbol": "circle"
           },
           "mode": "markers",
           "name": "edge_r",
           "orientation": "v",
           "showlegend": true,
           "type": "scatter",
           "x": [
            82,
            98
           ],
           "xaxis": "x",
           "y": [
            87,
            40
           ],
           "yaxis": "y"
          },
          {
           "hovertemplate": "state=feed_l<br>time=471<br>x=%{x}<br>y=%{y}<extra></extra>",
           "legendgroup": "feed_l",
           "marker": {
            "color": "#00cc96",
            "symbol": "circle"
           },
           "mode": "markers",
           "name": "feed_l",
           "orientation": "v",
           "showlegend": true,
           "type": "scatter",
           "x": [
            11,
            17,
            19,
            12,
            13,
            16
           ],
           "xaxis": "x",
           "y": [
            48,
            51,
            47,
            43,
            52,
            57
           ],
           "yaxis": "y"
          },
          {
           "hovertemplate": "state=feed_r<br>time=471<br>x=%{x}<br>y=%{y}<extra></extra>",
           "legendgroup": "feed_r",
           "marker": {
            "color": "#ab63fa",
            "symbol": "circle"
           },
           "mode": "markers",
           "name": "feed_r",
           "orientation": "v",
           "showlegend": true,
           "type": "scatter",
           "x": [
            81,
            82
           ],
           "xaxis": "x",
           "y": [
            45,
            50
           ],
           "yaxis": "y"
          },
          {
           "hovertemplate": "state=search_l<br>time=471<br>x=%{x}<br>y=%{y}<extra></extra>",
           "legendgroup": "search_l",
           "marker": {
            "color": "#FFA15A",
            "symbol": "circle"
           },
           "mode": "markers",
           "name": "search_l",
           "orientation": "v",
           "showlegend": true,
           "type": "scatter",
           "x": [
            26,
            23
           ],
           "xaxis": "x",
           "y": [
            89,
            86
           ],
           "yaxis": "y"
          }
         ],
         "name": "471"
        },
        {
         "data": [
          {
           "hovertemplate": "state=edge_l<br>time=472<br>x=%{x}<br>y=%{y}<extra></extra>",
           "legendgroup": "edge_l",
           "marker": {
            "color": "#636efa",
            "symbol": "circle"
           },
           "mode": "markers",
           "name": "edge_l",
           "orientation": "v",
           "showlegend": true,
           "type": "scatter",
           "x": [
            25,
            13,
            22
           ],
           "xaxis": "x",
           "y": [
            8,
            81,
            10
           ],
           "yaxis": "y"
          },
          {
           "hovertemplate": "state=edge_r<br>time=472<br>x=%{x}<br>y=%{y}<extra></extra>",
           "legendgroup": "edge_r",
           "marker": {
            "color": "#EF553B",
            "symbol": "circle"
           },
           "mode": "markers",
           "name": "edge_r",
           "orientation": "v",
           "showlegend": true,
           "type": "scatter",
           "x": [
            84,
            99
           ],
           "xaxis": "x",
           "y": [
            85,
            44
           ],
           "yaxis": "y"
          },
          {
           "hovertemplate": "state=feed_l<br>time=472<br>x=%{x}<br>y=%{y}<extra></extra>",
           "legendgroup": "feed_l",
           "marker": {
            "color": "#00cc96",
            "symbol": "circle"
           },
           "mode": "markers",
           "name": "feed_l",
           "orientation": "v",
           "showlegend": true,
           "type": "scatter",
           "x": [
            10,
            17,
            19,
            12,
            14
           ],
           "xaxis": "x",
           "y": [
            48,
            52,
            47,
            44,
            51
           ],
           "yaxis": "y"
          },
          {
           "hovertemplate": "state=feed_r<br>time=472<br>x=%{x}<br>y=%{y}<extra></extra>",
           "legendgroup": "feed_r",
           "marker": {
            "color": "#ab63fa",
            "symbol": "circle"
           },
           "mode": "markers",
           "name": "feed_r",
           "orientation": "v",
           "showlegend": true,
           "type": "scatter",
           "x": [
            81,
            81
           ],
           "xaxis": "x",
           "y": [
            45,
            50
           ],
           "yaxis": "y"
          },
          {
           "hovertemplate": "state=search_l<br>time=472<br>x=%{x}<br>y=%{y}<extra></extra>",
           "legendgroup": "search_l",
           "marker": {
            "color": "#FFA15A",
            "symbol": "circle"
           },
           "mode": "markers",
           "name": "search_l",
           "orientation": "v",
           "showlegend": true,
           "type": "scatter",
           "x": [
            26,
            11,
            23
           ],
           "xaxis": "x",
           "y": [
            89,
            59,
            86
           ],
           "yaxis": "y"
          }
         ],
         "name": "472"
        },
        {
         "data": [
          {
           "hovertemplate": "state=edge_l<br>time=473<br>x=%{x}<br>y=%{y}<extra></extra>",
           "legendgroup": "edge_l",
           "marker": {
            "color": "#636efa",
            "symbol": "circle"
           },
           "mode": "markers",
           "name": "edge_l",
           "orientation": "v",
           "showlegend": true,
           "type": "scatter",
           "x": [
            25,
            14,
            21
           ],
           "xaxis": "x",
           "y": [
            8,
            83,
            10
           ],
           "yaxis": "y"
          },
          {
           "hovertemplate": "state=edge_r<br>time=473<br>x=%{x}<br>y=%{y}<extra></extra>",
           "legendgroup": "edge_r",
           "marker": {
            "color": "#EF553B",
            "symbol": "circle"
           },
           "mode": "markers",
           "name": "edge_r",
           "orientation": "v",
           "showlegend": true,
           "type": "scatter",
           "x": [
            86,
            99
           ],
           "xaxis": "x",
           "y": [
            84,
            48
           ],
           "yaxis": "y"
          },
          {
           "hovertemplate": "state=feed_l<br>time=473<br>x=%{x}<br>y=%{y}<extra></extra>",
           "legendgroup": "feed_l",
           "marker": {
            "color": "#00cc96",
            "symbol": "circle"
           },
           "mode": "markers",
           "name": "feed_l",
           "orientation": "v",
           "showlegend": true,
           "type": "scatter",
           "x": [
            10,
            17,
            19,
            12,
            14
           ],
           "xaxis": "x",
           "y": [
            48,
            52,
            48,
            44,
            50
           ],
           "yaxis": "y"
          },
          {
           "hovertemplate": "state=feed_r<br>time=473<br>x=%{x}<br>y=%{y}<extra></extra>",
           "legendgroup": "feed_r",
           "marker": {
            "color": "#ab63fa",
            "symbol": "circle"
           },
           "mode": "markers",
           "name": "feed_r",
           "orientation": "v",
           "showlegend": true,
           "type": "scatter",
           "x": [
            81,
            81
           ],
           "xaxis": "x",
           "y": [
            45,
            50
           ],
           "yaxis": "y"
          },
          {
           "hovertemplate": "state=search_l<br>time=473<br>x=%{x}<br>y=%{y}<extra></extra>",
           "legendgroup": "search_l",
           "marker": {
            "color": "#FFA15A",
            "symbol": "circle"
           },
           "mode": "markers",
           "name": "search_l",
           "orientation": "v",
           "showlegend": true,
           "type": "scatter",
           "x": [
            26,
            6,
            23
           ],
           "xaxis": "x",
           "y": [
            89,
            61,
            86
           ],
           "yaxis": "y"
          }
         ],
         "name": "473"
        },
        {
         "data": [
          {
           "hovertemplate": "state=edge_l<br>time=474<br>x=%{x}<br>y=%{y}<extra></extra>",
           "legendgroup": "edge_l",
           "marker": {
            "color": "#636efa",
            "symbol": "circle"
           },
           "mode": "markers",
           "name": "edge_l",
           "orientation": "v",
           "showlegend": true,
           "type": "scatter",
           "x": [
            24,
            16,
            3,
            19
           ],
           "xaxis": "x",
           "y": [
            9,
            85,
            61,
            12
           ],
           "yaxis": "y"
          },
          {
           "hovertemplate": "state=edge_r<br>time=474<br>x=%{x}<br>y=%{y}<extra></extra>",
           "legendgroup": "edge_r",
           "marker": {
            "color": "#EF553B",
            "symbol": "circle"
           },
           "mode": "markers",
           "name": "edge_r",
           "orientation": "v",
           "showlegend": true,
           "type": "scatter",
           "x": [
            88,
            98
           ],
           "xaxis": "x",
           "y": [
            82,
            52
           ],
           "yaxis": "y"
          },
          {
           "hovertemplate": "state=feed_l<br>time=474<br>x=%{x}<br>y=%{y}<extra></extra>",
           "legendgroup": "feed_l",
           "marker": {
            "color": "#00cc96",
            "symbol": "circle"
           },
           "mode": "markers",
           "name": "feed_l",
           "orientation": "v",
           "showlegend": true,
           "type": "scatter",
           "x": [
            10,
            16,
            19,
            12
           ],
           "xaxis": "x",
           "y": [
            48,
            53,
            48,
            44
           ],
           "yaxis": "y"
          },
          {
           "hovertemplate": "state=feed_r<br>time=474<br>x=%{x}<br>y=%{y}<extra></extra>",
           "legendgroup": "feed_r",
           "marker": {
            "color": "#ab63fa",
            "symbol": "circle"
           },
           "mode": "markers",
           "name": "feed_r",
           "orientation": "v",
           "showlegend": true,
           "type": "scatter",
           "x": [
            81,
            81
           ],
           "xaxis": "x",
           "y": [
            45,
            50
           ],
           "yaxis": "y"
          },
          {
           "hovertemplate": "state=search_l<br>time=474<br>x=%{x}<br>y=%{y}<extra></extra>",
           "legendgroup": "search_l",
           "marker": {
            "color": "#FFA15A",
            "symbol": "circle"
           },
           "mode": "markers",
           "name": "search_l",
           "orientation": "v",
           "showlegend": true,
           "type": "scatter",
           "x": [
            26,
            15,
            23
           ],
           "xaxis": "x",
           "y": [
            89,
            48,
            86
           ],
           "yaxis": "y"
          }
         ],
         "name": "474"
        },
        {
         "data": [
          {
           "hovertemplate": "state=edge_l<br>time=475<br>x=%{x}<br>y=%{y}<extra></extra>",
           "legendgroup": "edge_l",
           "marker": {
            "color": "#636efa",
            "symbol": "circle"
           },
           "mode": "markers",
           "name": "edge_l",
           "orientation": "v",
           "showlegend": true,
           "type": "scatter",
           "x": [
            22,
            18,
            3,
            18
           ],
           "xaxis": "x",
           "y": [
            9,
            87,
            60,
            13
           ],
           "yaxis": "y"
          },
          {
           "hovertemplate": "state=edge_r<br>time=475<br>x=%{x}<br>y=%{y}<extra></extra>",
           "legendgroup": "edge_r",
           "marker": {
            "color": "#EF553B",
            "symbol": "circle"
           },
           "mode": "markers",
           "name": "edge_r",
           "orientation": "v",
           "showlegend": true,
           "type": "scatter",
           "x": [
            89,
            98
           ],
           "xaxis": "x",
           "y": [
            80,
            52
           ],
           "yaxis": "y"
          },
          {
           "hovertemplate": "state=feed_l<br>time=475<br>x=%{x}<br>y=%{y}<extra></extra>",
           "legendgroup": "feed_l",
           "marker": {
            "color": "#00cc96",
            "symbol": "circle"
           },
           "mode": "markers",
           "name": "feed_l",
           "orientation": "v",
           "showlegend": true,
           "type": "scatter",
           "x": [
            10,
            18,
            19,
            12,
            15
           ],
           "xaxis": "x",
           "y": [
            49,
            53,
            47,
            43,
            47
           ],
           "yaxis": "y"
          },
          {
           "hovertemplate": "state=feed_r<br>time=475<br>x=%{x}<br>y=%{y}<extra></extra>",
           "legendgroup": "feed_r",
           "marker": {
            "color": "#ab63fa",
            "symbol": "circle"
           },
           "mode": "markers",
           "name": "feed_r",
           "orientation": "v",
           "showlegend": true,
           "type": "scatter",
           "x": [
            81,
            81
           ],
           "xaxis": "x",
           "y": [
            45,
            50
           ],
           "yaxis": "y"
          },
          {
           "hovertemplate": "state=search_l<br>time=475<br>x=%{x}<br>y=%{y}<extra></extra>",
           "legendgroup": "search_l",
           "marker": {
            "color": "#FFA15A",
            "symbol": "circle"
           },
           "mode": "markers",
           "name": "search_l",
           "orientation": "v",
           "showlegend": true,
           "type": "scatter",
           "x": [
            26,
            23
           ],
           "xaxis": "x",
           "y": [
            89,
            86
           ],
           "yaxis": "y"
          }
         ],
         "name": "475"
        },
        {
         "data": [
          {
           "hovertemplate": "state=edge_l<br>time=476<br>x=%{x}<br>y=%{y}<extra></extra>",
           "legendgroup": "edge_l",
           "marker": {
            "color": "#636efa",
            "symbol": "circle"
           },
           "mode": "markers",
           "name": "edge_l",
           "orientation": "v",
           "showlegend": true,
           "type": "scatter",
           "x": [
            22,
            20,
            3,
            18
           ],
           "xaxis": "x",
           "y": [
            10,
            88,
            61,
            13
           ],
           "yaxis": "y"
          },
          {
           "hovertemplate": "state=edge_r<br>time=476<br>x=%{x}<br>y=%{y}<extra></extra>",
           "legendgroup": "edge_r",
           "marker": {
            "color": "#EF553B",
            "symbol": "circle"
           },
           "mode": "markers",
           "name": "edge_r",
           "orientation": "v",
           "showlegend": true,
           "type": "scatter",
           "x": [
            90,
            98
           ],
           "xaxis": "x",
           "y": [
            78,
            52
           ],
           "yaxis": "y"
          },
          {
           "hovertemplate": "state=feed_l<br>time=476<br>x=%{x}<br>y=%{y}<extra></extra>",
           "legendgroup": "feed_l",
           "marker": {
            "color": "#00cc96",
            "symbol": "circle"
           },
           "mode": "markers",
           "name": "feed_l",
           "orientation": "v",
           "showlegend": true,
           "type": "scatter",
           "x": [
            10,
            21,
            19,
            16,
            15
           ],
           "xaxis": "x",
           "y": [
            49,
            53,
            47,
            41,
            47
           ],
           "yaxis": "y"
          },
          {
           "hovertemplate": "state=feed_r<br>time=476<br>x=%{x}<br>y=%{y}<extra></extra>",
           "legendgroup": "feed_r",
           "marker": {
            "color": "#ab63fa",
            "symbol": "circle"
           },
           "mode": "markers",
           "name": "feed_r",
           "orientation": "v",
           "showlegend": true,
           "type": "scatter",
           "x": [
            81,
            81
           ],
           "xaxis": "x",
           "y": [
            45,
            51
           ],
           "yaxis": "y"
          },
          {
           "hovertemplate": "state=search_l<br>time=476<br>x=%{x}<br>y=%{y}<extra></extra>",
           "legendgroup": "search_l",
           "marker": {
            "color": "#FFA15A",
            "symbol": "circle"
           },
           "mode": "markers",
           "name": "search_l",
           "orientation": "v",
           "showlegend": true,
           "type": "scatter",
           "x": [
            26,
            23
           ],
           "xaxis": "x",
           "y": [
            89,
            86
           ],
           "yaxis": "y"
          }
         ],
         "name": "476"
        },
        {
         "data": [
          {
           "hovertemplate": "state=edge_l<br>time=477<br>x=%{x}<br>y=%{y}<extra></extra>",
           "legendgroup": "edge_l",
           "marker": {
            "color": "#636efa",
            "symbol": "circle"
           },
           "mode": "markers",
           "name": "edge_l",
           "orientation": "v",
           "showlegend": true,
           "type": "scatter",
           "x": [
            21,
            21,
            3,
            18
           ],
           "xaxis": "x",
           "y": [
            10,
            90,
            63,
            13
           ],
           "yaxis": "y"
          },
          {
           "hovertemplate": "state=edge_r<br>time=477<br>x=%{x}<br>y=%{y}<extra></extra>",
           "legendgroup": "edge_r",
           "marker": {
            "color": "#EF553B",
            "symbol": "circle"
           },
           "mode": "markers",
           "name": "edge_r",
           "orientation": "v",
           "showlegend": true,
           "type": "scatter",
           "x": [
            92,
            98
           ],
           "xaxis": "x",
           "y": [
            76,
            52
           ],
           "yaxis": "y"
          },
          {
           "hovertemplate": "state=feed_l<br>time=477<br>x=%{x}<br>y=%{y}<extra></extra>",
           "legendgroup": "feed_l",
           "marker": {
            "color": "#00cc96",
            "symbol": "circle"
           },
           "mode": "markers",
           "name": "feed_l",
           "orientation": "v",
           "showlegend": true,
           "type": "scatter",
           "x": [
            10,
            22,
            19,
            16
           ],
           "xaxis": "x",
           "y": [
            49,
            52,
            47,
            49
           ],
           "yaxis": "y"
          },
          {
           "hovertemplate": "state=feed_r<br>time=477<br>x=%{x}<br>y=%{y}<extra></extra>",
           "legendgroup": "feed_r",
           "marker": {
            "color": "#ab63fa",
            "symbol": "circle"
           },
           "mode": "markers",
           "name": "feed_r",
           "orientation": "v",
           "showlegend": true,
           "type": "scatter",
           "x": [
            81,
            81
           ],
           "xaxis": "x",
           "y": [
            45,
            51
           ],
           "yaxis": "y"
          },
          {
           "hovertemplate": "state=search_l<br>time=477<br>x=%{x}<br>y=%{y}<extra></extra>",
           "legendgroup": "search_l",
           "marker": {
            "color": "#FFA15A",
            "symbol": "circle"
           },
           "mode": "markers",
           "name": "search_l",
           "orientation": "v",
           "showlegend": true,
           "type": "scatter",
           "x": [
            26,
            21,
            23
           ],
           "xaxis": "x",
           "y": [
            89,
            38,
            86
           ],
           "yaxis": "y"
          }
         ],
         "name": "477"
        },
        {
         "data": [
          {
           "hovertemplate": "state=edge_l<br>time=478<br>x=%{x}<br>y=%{y}<extra></extra>",
           "legendgroup": "edge_l",
           "marker": {
            "color": "#636efa",
            "symbol": "circle"
           },
           "mode": "markers",
           "name": "edge_l",
           "orientation": "v",
           "showlegend": true,
           "type": "scatter",
           "x": [
            19,
            23,
            4,
            18
           ],
           "xaxis": "x",
           "y": [
            12,
            91,
            65,
            14
           ],
           "yaxis": "y"
          },
          {
           "hovertemplate": "state=edge_r<br>time=478<br>x=%{x}<br>y=%{y}<extra></extra>",
           "legendgroup": "edge_r",
           "marker": {
            "color": "#EF553B",
            "symbol": "circle"
           },
           "mode": "markers",
           "name": "edge_r",
           "orientation": "v",
           "showlegend": true,
           "type": "scatter",
           "x": [
            93,
            98
           ],
           "xaxis": "x",
           "y": [
            73,
            53
           ],
           "yaxis": "y"
          },
          {
           "hovertemplate": "state=feed_l<br>time=478<br>x=%{x}<br>y=%{y}<extra></extra>",
           "legendgroup": "feed_l",
           "marker": {
            "color": "#00cc96",
            "symbol": "circle"
           },
           "mode": "markers",
           "name": "feed_l",
           "orientation": "v",
           "showlegend": true,
           "type": "scatter",
           "x": [
            10,
            23,
            19,
            21
           ],
           "xaxis": "x",
           "y": [
            49,
            49,
            48,
            53
           ],
           "yaxis": "y"
          },
          {
           "hovertemplate": "state=feed_r<br>time=478<br>x=%{x}<br>y=%{y}<extra></extra>",
           "legendgroup": "feed_r",
           "marker": {
            "color": "#ab63fa",
            "symbol": "circle"
           },
           "mode": "markers",
           "name": "feed_r",
           "orientation": "v",
           "showlegend": true,
           "type": "scatter",
           "x": [
            81,
            81
           ],
           "xaxis": "x",
           "y": [
            45,
            51
           ],
           "yaxis": "y"
          },
          {
           "hovertemplate": "state=search_l<br>time=478<br>x=%{x}<br>y=%{y}<extra></extra>",
           "legendgroup": "search_l",
           "marker": {
            "color": "#FFA15A",
            "symbol": "circle"
           },
           "mode": "markers",
           "name": "search_l",
           "orientation": "v",
           "showlegend": true,
           "type": "scatter",
           "x": [
            26,
            25,
            23
           ],
           "xaxis": "x",
           "y": [
            89,
            33,
            86
           ],
           "yaxis": "y"
          }
         ],
         "name": "478"
        },
        {
         "data": [
          {
           "hovertemplate": "state=edge_l<br>time=479<br>x=%{x}<br>y=%{y}<extra></extra>",
           "legendgroup": "edge_l",
           "marker": {
            "color": "#636efa",
            "symbol": "circle"
           },
           "mode": "markers",
           "name": "edge_l",
           "orientation": "v",
           "showlegend": true,
           "type": "scatter",
           "x": [
            19,
            25,
            4,
            17
           ],
           "xaxis": "x",
           "y": [
            12,
            92,
            67,
            14
           ],
           "yaxis": "y"
          },
          {
           "hovertemplate": "state=edge_r<br>time=479<br>x=%{x}<br>y=%{y}<extra></extra>",
           "legendgroup": "edge_r",
           "marker": {
            "color": "#EF553B",
            "symbol": "circle"
           },
           "mode": "markers",
           "name": "edge_r",
           "orientation": "v",
           "showlegend": true,
           "type": "scatter",
           "x": [
            94,
            98
           ],
           "xaxis": "x",
           "y": [
            71,
            53
           ],
           "yaxis": "y"
          },
          {
           "hovertemplate": "state=feed_l<br>time=479<br>x=%{x}<br>y=%{y}<extra></extra>",
           "legendgroup": "feed_l",
           "marker": {
            "color": "#00cc96",
            "symbol": "circle"
           },
           "mode": "markers",
           "name": "feed_l",
           "orientation": "v",
           "showlegend": true,
           "type": "scatter",
           "x": [
            10,
            23,
            19
           ],
           "xaxis": "x",
           "y": [
            49,
            47,
            49
           ],
           "yaxis": "y"
          },
          {
           "hovertemplate": "state=feed_r<br>time=479<br>x=%{x}<br>y=%{y}<extra></extra>",
           "legendgroup": "feed_r",
           "marker": {
            "color": "#ab63fa",
            "symbol": "circle"
           },
           "mode": "markers",
           "name": "feed_r",
           "orientation": "v",
           "showlegend": true,
           "type": "scatter",
           "x": [
            81,
            81
           ],
           "xaxis": "x",
           "y": [
            45,
            52
           ],
           "yaxis": "y"
          },
          {
           "hovertemplate": "state=search_l<br>time=479<br>x=%{x}<br>y=%{y}<extra></extra>",
           "legendgroup": "search_l",
           "marker": {
            "color": "#FFA15A",
            "symbol": "circle"
           },
           "mode": "markers",
           "name": "search_l",
           "orientation": "v",
           "showlegend": true,
           "type": "scatter",
           "x": [
            26,
            27,
            28,
            23
           ],
           "xaxis": "x",
           "y": [
            89,
            29,
            53,
            86
           ],
           "yaxis": "y"
          }
         ],
         "name": "479"
        },
        {
         "data": [
          {
           "hovertemplate": "state=edge_l<br>time=480<br>x=%{x}<br>y=%{y}<extra></extra>",
           "legendgroup": "edge_l",
           "marker": {
            "color": "#636efa",
            "symbol": "circle"
           },
           "mode": "markers",
           "name": "edge_l",
           "orientation": "v",
           "showlegend": true,
           "type": "scatter",
           "x": [
            19,
            28,
            5,
            17
           ],
           "xaxis": "x",
           "y": [
            12,
            93,
            69,
            14
           ],
           "yaxis": "y"
          },
          {
           "hovertemplate": "state=edge_r<br>time=480<br>x=%{x}<br>y=%{y}<extra></extra>",
           "legendgroup": "edge_r",
           "marker": {
            "color": "#EF553B",
            "symbol": "circle"
           },
           "mode": "markers",
           "name": "edge_r",
           "orientation": "v",
           "showlegend": true,
           "type": "scatter",
           "x": [
            95,
            98
           ],
           "xaxis": "x",
           "y": [
            69,
            58
           ],
           "yaxis": "y"
          },
          {
           "hovertemplate": "state=feed_l<br>time=480<br>x=%{x}<br>y=%{y}<extra></extra>",
           "legendgroup": "feed_l",
           "marker": {
            "color": "#00cc96",
            "symbol": "circle"
           },
           "mode": "markers",
           "name": "feed_l",
           "orientation": "v",
           "showlegend": true,
           "type": "scatter",
           "x": [
            10,
            21,
            19
           ],
           "xaxis": "x",
           "y": [
            49,
            46,
            49
           ],
           "yaxis": "y"
          },
          {
           "hovertemplate": "state=feed_r<br>time=480<br>x=%{x}<br>y=%{y}<extra></extra>",
           "legendgroup": "feed_r",
           "marker": {
            "color": "#ab63fa",
            "symbol": "circle"
           },
           "mode": "markers",
           "name": "feed_r",
           "orientation": "v",
           "showlegend": true,
           "type": "scatter",
           "x": [
            81,
            81
           ],
           "xaxis": "x",
           "y": [
            45,
            52
           ],
           "yaxis": "y"
          },
          {
           "hovertemplate": "state=search_l<br>time=480<br>x=%{x}<br>y=%{y}<extra></extra>",
           "legendgroup": "search_l",
           "marker": {
            "color": "#FFA15A",
            "symbol": "circle"
           },
           "mode": "markers",
           "name": "search_l",
           "orientation": "v",
           "showlegend": true,
           "type": "scatter",
           "x": [
            26,
            28,
            34,
            23
           ],
           "xaxis": "x",
           "y": [
            89,
            25,
            53,
            86
           ],
           "yaxis": "y"
          }
         ],
         "name": "480"
        }
       ],
       "layout": {
        "autosize": false,
        "height": 600,
        "legend": {
         "title": {
          "text": "state"
         },
         "tracegroupgap": 0
        },
        "margin": {
         "t": 60
        },
        "sliders": [
         {
          "active": 0,
          "currentvalue": {
           "prefix": "time="
          },
          "len": 0.9,
          "pad": {
           "b": 10,
           "t": 60
          },
          "steps": [
           {
            "args": [
             [
              "419"
             ],
             {
              "frame": {
               "duration": 0,
               "redraw": false
              },
              "fromcurrent": true,
              "mode": "immediate",
              "transition": {
               "duration": 0,
               "easing": "linear"
              }
             }
            ],
            "label": "419",
            "method": "animate"
           },
           {
            "args": [
             [
              "420"
             ],
             {
              "frame": {
               "duration": 0,
               "redraw": false
              },
              "fromcurrent": true,
              "mode": "immediate",
              "transition": {
               "duration": 0,
               "easing": "linear"
              }
             }
            ],
            "label": "420",
            "method": "animate"
           },
           {
            "args": [
             [
              "421"
             ],
             {
              "frame": {
               "duration": 0,
               "redraw": false
              },
              "fromcurrent": true,
              "mode": "immediate",
              "transition": {
               "duration": 0,
               "easing": "linear"
              }
             }
            ],
            "label": "421",
            "method": "animate"
           },
           {
            "args": [
             [
              "422"
             ],
             {
              "frame": {
               "duration": 0,
               "redraw": false
              },
              "fromcurrent": true,
              "mode": "immediate",
              "transition": {
               "duration": 0,
               "easing": "linear"
              }
             }
            ],
            "label": "422",
            "method": "animate"
           },
           {
            "args": [
             [
              "423"
             ],
             {
              "frame": {
               "duration": 0,
               "redraw": false
              },
              "fromcurrent": true,
              "mode": "immediate",
              "transition": {
               "duration": 0,
               "easing": "linear"
              }
             }
            ],
            "label": "423",
            "method": "animate"
           },
           {
            "args": [
             [
              "424"
             ],
             {
              "frame": {
               "duration": 0,
               "redraw": false
              },
              "fromcurrent": true,
              "mode": "immediate",
              "transition": {
               "duration": 0,
               "easing": "linear"
              }
             }
            ],
            "label": "424",
            "method": "animate"
           },
           {
            "args": [
             [
              "425"
             ],
             {
              "frame": {
               "duration": 0,
               "redraw": false
              },
              "fromcurrent": true,
              "mode": "immediate",
              "transition": {
               "duration": 0,
               "easing": "linear"
              }
             }
            ],
            "label": "425",
            "method": "animate"
           },
           {
            "args": [
             [
              "426"
             ],
             {
              "frame": {
               "duration": 0,
               "redraw": false
              },
              "fromcurrent": true,
              "mode": "immediate",
              "transition": {
               "duration": 0,
               "easing": "linear"
              }
             }
            ],
            "label": "426",
            "method": "animate"
           },
           {
            "args": [
             [
              "427"
             ],
             {
              "frame": {
               "duration": 0,
               "redraw": false
              },
              "fromcurrent": true,
              "mode": "immediate",
              "transition": {
               "duration": 0,
               "easing": "linear"
              }
             }
            ],
            "label": "427",
            "method": "animate"
           },
           {
            "args": [
             [
              "428"
             ],
             {
              "frame": {
               "duration": 0,
               "redraw": false
              },
              "fromcurrent": true,
              "mode": "immediate",
              "transition": {
               "duration": 0,
               "easing": "linear"
              }
             }
            ],
            "label": "428",
            "method": "animate"
           },
           {
            "args": [
             [
              "429"
             ],
             {
              "frame": {
               "duration": 0,
               "redraw": false
              },
              "fromcurrent": true,
              "mode": "immediate",
              "transition": {
               "duration": 0,
               "easing": "linear"
              }
             }
            ],
            "label": "429",
            "method": "animate"
           },
           {
            "args": [
             [
              "430"
             ],
             {
              "frame": {
               "duration": 0,
               "redraw": false
              },
              "fromcurrent": true,
              "mode": "immediate",
              "transition": {
               "duration": 0,
               "easing": "linear"
              }
             }
            ],
            "label": "430",
            "method": "animate"
           },
           {
            "args": [
             [
              "431"
             ],
             {
              "frame": {
               "duration": 0,
               "redraw": false
              },
              "fromcurrent": true,
              "mode": "immediate",
              "transition": {
               "duration": 0,
               "easing": "linear"
              }
             }
            ],
            "label": "431",
            "method": "animate"
           },
           {
            "args": [
             [
              "432"
             ],
             {
              "frame": {
               "duration": 0,
               "redraw": false
              },
              "fromcurrent": true,
              "mode": "immediate",
              "transition": {
               "duration": 0,
               "easing": "linear"
              }
             }
            ],
            "label": "432",
            "method": "animate"
           },
           {
            "args": [
             [
              "433"
             ],
             {
              "frame": {
               "duration": 0,
               "redraw": false
              },
              "fromcurrent": true,
              "mode": "immediate",
              "transition": {
               "duration": 0,
               "easing": "linear"
              }
             }
            ],
            "label": "433",
            "method": "animate"
           },
           {
            "args": [
             [
              "434"
             ],
             {
              "frame": {
               "duration": 0,
               "redraw": false
              },
              "fromcurrent": true,
              "mode": "immediate",
              "transition": {
               "duration": 0,
               "easing": "linear"
              }
             }
            ],
            "label": "434",
            "method": "animate"
           },
           {
            "args": [
             [
              "435"
             ],
             {
              "frame": {
               "duration": 0,
               "redraw": false
              },
              "fromcurrent": true,
              "mode": "immediate",
              "transition": {
               "duration": 0,
               "easing": "linear"
              }
             }
            ],
            "label": "435",
            "method": "animate"
           },
           {
            "args": [
             [
              "436"
             ],
             {
              "frame": {
               "duration": 0,
               "redraw": false
              },
              "fromcurrent": true,
              "mode": "immediate",
              "transition": {
               "duration": 0,
               "easing": "linear"
              }
             }
            ],
            "label": "436",
            "method": "animate"
           },
           {
            "args": [
             [
              "437"
             ],
             {
              "frame": {
               "duration": 0,
               "redraw": false
              },
              "fromcurrent": true,
              "mode": "immediate",
              "transition": {
               "duration": 0,
               "easing": "linear"
              }
             }
            ],
            "label": "437",
            "method": "animate"
           },
           {
            "args": [
             [
              "438"
             ],
             {
              "frame": {
               "duration": 0,
               "redraw": false
              },
              "fromcurrent": true,
              "mode": "immediate",
              "transition": {
               "duration": 0,
               "easing": "linear"
              }
             }
            ],
            "label": "438",
            "method": "animate"
           },
           {
            "args": [
             [
              "439"
             ],
             {
              "frame": {
               "duration": 0,
               "redraw": false
              },
              "fromcurrent": true,
              "mode": "immediate",
              "transition": {
               "duration": 0,
               "easing": "linear"
              }
             }
            ],
            "label": "439",
            "method": "animate"
           },
           {
            "args": [
             [
              "440"
             ],
             {
              "frame": {
               "duration": 0,
               "redraw": false
              },
              "fromcurrent": true,
              "mode": "immediate",
              "transition": {
               "duration": 0,
               "easing": "linear"
              }
             }
            ],
            "label": "440",
            "method": "animate"
           },
           {
            "args": [
             [
              "441"
             ],
             {
              "frame": {
               "duration": 0,
               "redraw": false
              },
              "fromcurrent": true,
              "mode": "immediate",
              "transition": {
               "duration": 0,
               "easing": "linear"
              }
             }
            ],
            "label": "441",
            "method": "animate"
           },
           {
            "args": [
             [
              "442"
             ],
             {
              "frame": {
               "duration": 0,
               "redraw": false
              },
              "fromcurrent": true,
              "mode": "immediate",
              "transition": {
               "duration": 0,
               "easing": "linear"
              }
             }
            ],
            "label": "442",
            "method": "animate"
           },
           {
            "args": [
             [
              "443"
             ],
             {
              "frame": {
               "duration": 0,
               "redraw": false
              },
              "fromcurrent": true,
              "mode": "immediate",
              "transition": {
               "duration": 0,
               "easing": "linear"
              }
             }
            ],
            "label": "443",
            "method": "animate"
           },
           {
            "args": [
             [
              "444"
             ],
             {
              "frame": {
               "duration": 0,
               "redraw": false
              },
              "fromcurrent": true,
              "mode": "immediate",
              "transition": {
               "duration": 0,
               "easing": "linear"
              }
             }
            ],
            "label": "444",
            "method": "animate"
           },
           {
            "args": [
             [
              "445"
             ],
             {
              "frame": {
               "duration": 0,
               "redraw": false
              },
              "fromcurrent": true,
              "mode": "immediate",
              "transition": {
               "duration": 0,
               "easing": "linear"
              }
             }
            ],
            "label": "445",
            "method": "animate"
           },
           {
            "args": [
             [
              "446"
             ],
             {
              "frame": {
               "duration": 0,
               "redraw": false
              },
              "fromcurrent": true,
              "mode": "immediate",
              "transition": {
               "duration": 0,
               "easing": "linear"
              }
             }
            ],
            "label": "446",
            "method": "animate"
           },
           {
            "args": [
             [
              "447"
             ],
             {
              "frame": {
               "duration": 0,
               "redraw": false
              },
              "fromcurrent": true,
              "mode": "immediate",
              "transition": {
               "duration": 0,
               "easing": "linear"
              }
             }
            ],
            "label": "447",
            "method": "animate"
           },
           {
            "args": [
             [
              "448"
             ],
             {
              "frame": {
               "duration": 0,
               "redraw": false
              },
              "fromcurrent": true,
              "mode": "immediate",
              "transition": {
               "duration": 0,
               "easing": "linear"
              }
             }
            ],
            "label": "448",
            "method": "animate"
           },
           {
            "args": [
             [
              "449"
             ],
             {
              "frame": {
               "duration": 0,
               "redraw": false
              },
              "fromcurrent": true,
              "mode": "immediate",
              "transition": {
               "duration": 0,
               "easing": "linear"
              }
             }
            ],
            "label": "449",
            "method": "animate"
           },
           {
            "args": [
             [
              "450"
             ],
             {
              "frame": {
               "duration": 0,
               "redraw": false
              },
              "fromcurrent": true,
              "mode": "immediate",
              "transition": {
               "duration": 0,
               "easing": "linear"
              }
             }
            ],
            "label": "450",
            "method": "animate"
           },
           {
            "args": [
             [
              "451"
             ],
             {
              "frame": {
               "duration": 0,
               "redraw": false
              },
              "fromcurrent": true,
              "mode": "immediate",
              "transition": {
               "duration": 0,
               "easing": "linear"
              }
             }
            ],
            "label": "451",
            "method": "animate"
           },
           {
            "args": [
             [
              "452"
             ],
             {
              "frame": {
               "duration": 0,
               "redraw": false
              },
              "fromcurrent": true,
              "mode": "immediate",
              "transition": {
               "duration": 0,
               "easing": "linear"
              }
             }
            ],
            "label": "452",
            "method": "animate"
           },
           {
            "args": [
             [
              "453"
             ],
             {
              "frame": {
               "duration": 0,
               "redraw": false
              },
              "fromcurrent": true,
              "mode": "immediate",
              "transition": {
               "duration": 0,
               "easing": "linear"
              }
             }
            ],
            "label": "453",
            "method": "animate"
           },
           {
            "args": [
             [
              "454"
             ],
             {
              "frame": {
               "duration": 0,
               "redraw": false
              },
              "fromcurrent": true,
              "mode": "immediate",
              "transition": {
               "duration": 0,
               "easing": "linear"
              }
             }
            ],
            "label": "454",
            "method": "animate"
           },
           {
            "args": [
             [
              "455"
             ],
             {
              "frame": {
               "duration": 0,
               "redraw": false
              },
              "fromcurrent": true,
              "mode": "immediate",
              "transition": {
               "duration": 0,
               "easing": "linear"
              }
             }
            ],
            "label": "455",
            "method": "animate"
           },
           {
            "args": [
             [
              "456"
             ],
             {
              "frame": {
               "duration": 0,
               "redraw": false
              },
              "fromcurrent": true,
              "mode": "immediate",
              "transition": {
               "duration": 0,
               "easing": "linear"
              }
             }
            ],
            "label": "456",
            "method": "animate"
           },
           {
            "args": [
             [
              "457"
             ],
             {
              "frame": {
               "duration": 0,
               "redraw": false
              },
              "fromcurrent": true,
              "mode": "immediate",
              "transition": {
               "duration": 0,
               "easing": "linear"
              }
             }
            ],
            "label": "457",
            "method": "animate"
           },
           {
            "args": [
             [
              "458"
             ],
             {
              "frame": {
               "duration": 0,
               "redraw": false
              },
              "fromcurrent": true,
              "mode": "immediate",
              "transition": {
               "duration": 0,
               "easing": "linear"
              }
             }
            ],
            "label": "458",
            "method": "animate"
           },
           {
            "args": [
             [
              "459"
             ],
             {
              "frame": {
               "duration": 0,
               "redraw": false
              },
              "fromcurrent": true,
              "mode": "immediate",
              "transition": {
               "duration": 0,
               "easing": "linear"
              }
             }
            ],
            "label": "459",
            "method": "animate"
           },
           {
            "args": [
             [
              "460"
             ],
             {
              "frame": {
               "duration": 0,
               "redraw": false
              },
              "fromcurrent": true,
              "mode": "immediate",
              "transition": {
               "duration": 0,
               "easing": "linear"
              }
             }
            ],
            "label": "460",
            "method": "animate"
           },
           {
            "args": [
             [
              "461"
             ],
             {
              "frame": {
               "duration": 0,
               "redraw": false
              },
              "fromcurrent": true,
              "mode": "immediate",
              "transition": {
               "duration": 0,
               "easing": "linear"
              }
             }
            ],
            "label": "461",
            "method": "animate"
           },
           {
            "args": [
             [
              "462"
             ],
             {
              "frame": {
               "duration": 0,
               "redraw": false
              },
              "fromcurrent": true,
              "mode": "immediate",
              "transition": {
               "duration": 0,
               "easing": "linear"
              }
             }
            ],
            "label": "462",
            "method": "animate"
           },
           {
            "args": [
             [
              "463"
             ],
             {
              "frame": {
               "duration": 0,
               "redraw": false
              },
              "fromcurrent": true,
              "mode": "immediate",
              "transition": {
               "duration": 0,
               "easing": "linear"
              }
             }
            ],
            "label": "463",
            "method": "animate"
           },
           {
            "args": [
             [
              "464"
             ],
             {
              "frame": {
               "duration": 0,
               "redraw": false
              },
              "fromcurrent": true,
              "mode": "immediate",
              "transition": {
               "duration": 0,
               "easing": "linear"
              }
             }
            ],
            "label": "464",
            "method": "animate"
           },
           {
            "args": [
             [
              "465"
             ],
             {
              "frame": {
               "duration": 0,
               "redraw": false
              },
              "fromcurrent": true,
              "mode": "immediate",
              "transition": {
               "duration": 0,
               "easing": "linear"
              }
             }
            ],
            "label": "465",
            "method": "animate"
           },
           {
            "args": [
             [
              "466"
             ],
             {
              "frame": {
               "duration": 0,
               "redraw": false
              },
              "fromcurrent": true,
              "mode": "immediate",
              "transition": {
               "duration": 0,
               "easing": "linear"
              }
             }
            ],
            "label": "466",
            "method": "animate"
           },
           {
            "args": [
             [
              "467"
             ],
             {
              "frame": {
               "duration": 0,
               "redraw": false
              },
              "fromcurrent": true,
              "mode": "immediate",
              "transition": {
               "duration": 0,
               "easing": "linear"
              }
             }
            ],
            "label": "467",
            "method": "animate"
           },
           {
            "args": [
             [
              "468"
             ],
             {
              "frame": {
               "duration": 0,
               "redraw": false
              },
              "fromcurrent": true,
              "mode": "immediate",
              "transition": {
               "duration": 0,
               "easing": "linear"
              }
             }
            ],
            "label": "468",
            "method": "animate"
           },
           {
            "args": [
             [
              "469"
             ],
             {
              "frame": {
               "duration": 0,
               "redraw": false
              },
              "fromcurrent": true,
              "mode": "immediate",
              "transition": {
               "duration": 0,
               "easing": "linear"
              }
             }
            ],
            "label": "469",
            "method": "animate"
           },
           {
            "args": [
             [
              "470"
             ],
             {
              "frame": {
               "duration": 0,
               "redraw": false
              },
              "fromcurrent": true,
              "mode": "immediate",
              "transition": {
               "duration": 0,
               "easing": "linear"
              }
             }
            ],
            "label": "470",
            "method": "animate"
           },
           {
            "args": [
             [
              "471"
             ],
             {
              "frame": {
               "duration": 0,
               "redraw": false
              },
              "fromcurrent": true,
              "mode": "immediate",
              "transition": {
               "duration": 0,
               "easing": "linear"
              }
             }
            ],
            "label": "471",
            "method": "animate"
           },
           {
            "args": [
             [
              "472"
             ],
             {
              "frame": {
               "duration": 0,
               "redraw": false
              },
              "fromcurrent": true,
              "mode": "immediate",
              "transition": {
               "duration": 0,
               "easing": "linear"
              }
             }
            ],
            "label": "472",
            "method": "animate"
           },
           {
            "args": [
             [
              "473"
             ],
             {
              "frame": {
               "duration": 0,
               "redraw": false
              },
              "fromcurrent": true,
              "mode": "immediate",
              "transition": {
               "duration": 0,
               "easing": "linear"
              }
             }
            ],
            "label": "473",
            "method": "animate"
           },
           {
            "args": [
             [
              "474"
             ],
             {
              "frame": {
               "duration": 0,
               "redraw": false
              },
              "fromcurrent": true,
              "mode": "immediate",
              "transition": {
               "duration": 0,
               "easing": "linear"
              }
             }
            ],
            "label": "474",
            "method": "animate"
           },
           {
            "args": [
             [
              "475"
             ],
             {
              "frame": {
               "duration": 0,
               "redraw": false
              },
              "fromcurrent": true,
              "mode": "immediate",
              "transition": {
               "duration": 0,
               "easing": "linear"
              }
             }
            ],
            "label": "475",
            "method": "animate"
           },
           {
            "args": [
             [
              "476"
             ],
             {
              "frame": {
               "duration": 0,
               "redraw": false
              },
              "fromcurrent": true,
              "mode": "immediate",
              "transition": {
               "duration": 0,
               "easing": "linear"
              }
             }
            ],
            "label": "476",
            "method": "animate"
           },
           {
            "args": [
             [
              "477"
             ],
             {
              "frame": {
               "duration": 0,
               "redraw": false
              },
              "fromcurrent": true,
              "mode": "immediate",
              "transition": {
               "duration": 0,
               "easing": "linear"
              }
             }
            ],
            "label": "477",
            "method": "animate"
           },
           {
            "args": [
             [
              "478"
             ],
             {
              "frame": {
               "duration": 0,
               "redraw": false
              },
              "fromcurrent": true,
              "mode": "immediate",
              "transition": {
               "duration": 0,
               "easing": "linear"
              }
             }
            ],
            "label": "478",
            "method": "animate"
           },
           {
            "args": [
             [
              "479"
             ],
             {
              "frame": {
               "duration": 0,
               "redraw": false
              },
              "fromcurrent": true,
              "mode": "immediate",
              "transition": {
               "duration": 0,
               "easing": "linear"
              }
             }
            ],
            "label": "479",
            "method": "animate"
           },
           {
            "args": [
             [
              "480"
             ],
             {
              "frame": {
               "duration": 0,
               "redraw": false
              },
              "fromcurrent": true,
              "mode": "immediate",
              "transition": {
               "duration": 0,
               "easing": "linear"
              }
             }
            ],
            "label": "480",
            "method": "animate"
           }
          ],
          "x": 0.1,
          "xanchor": "left",
          "y": 0,
          "yanchor": "top"
         }
        ],
        "template": {
         "data": {
          "pie": [
           {
            "automargin": true,
            "type": "pie"
           }
          ],
          "scatter": [
           {
            "line": {
             "width": 3
            },
            "marker": {
             "size": 9
            },
            "type": "scatter"
           }
          ],
          "scatter3d": [
           {
            "line": {
             "width": 3
            },
            "marker": {
             "size": 9
            },
            "type": "scatter3d"
           }
          ],
          "scattergeo": [
           {
            "line": {
             "width": 3
            },
            "marker": {
             "size": 9
            },
            "type": "scattergeo"
           }
          ],
          "scattergl": [
           {
            "line": {
             "width": 3
            },
            "marker": {
             "size": 9
            },
            "type": "scattergl"
           }
          ],
          "scatterpolar": [
           {
            "line": {
             "width": 3
            },
            "marker": {
             "size": 9
            },
            "type": "scatterpolar"
           }
          ],
          "scatterpolargl": [
           {
            "line": {
             "width": 3
            },
            "marker": {
             "size": 9
            },
            "type": "scatterpolargl"
           }
          ],
          "scatterternary": [
           {
            "line": {
             "width": 3
            },
            "marker": {
             "size": 9
            },
            "type": "scatterternary"
           }
          ],
          "table": [
           {
            "cells": {
             "height": 30
            },
            "header": {
             "height": 36
            },
            "type": "table"
           }
          ]
         },
         "layout": {
          "font": {
           "size": 18
          },
          "xaxis": {
           "title": {
            "standoff": 15
           }
          },
          "yaxis": {
           "title": {
            "standoff": 15
           }
          }
         }
        },
        "updatemenus": [
         {
          "buttons": [
           {
            "args": [
             null,
             {
              "frame": {
               "duration": 500,
               "redraw": false
              },
              "fromcurrent": true,
              "mode": "immediate",
              "transition": {
               "duration": 0,
               "easing": "linear"
              }
             }
            ],
            "label": "&#9654;",
            "method": "animate"
           },
           {
            "args": [
             [
              null
             ],
             {
              "frame": {
               "duration": 0,
               "redraw": false
              },
              "fromcurrent": true,
              "mode": "immediate",
              "transition": {
               "duration": 0,
               "easing": "linear"
              }
             }
            ],
            "label": "&#9724;",
            "method": "animate"
           }
          ],
          "direction": "left",
          "pad": {
           "r": 10,
           "t": 70
          },
          "showactive": false,
          "type": "buttons",
          "x": 0.1,
          "xanchor": "right",
          "y": 0,
          "yanchor": "top"
         }
        ],
        "width": 600,
        "xaxis": {
         "anchor": "y",
         "domain": [
          0,
          1
         ],
         "range": [
          -1,
          101
         ],
         "showgrid": false,
         "showticklabels": false,
         "ticks": "",
         "title": {
          "text": ""
         },
         "zeroline": false
        },
        "yaxis": {
         "anchor": "x",
         "domain": [
          0,
          1
         ],
         "range": [
          -1,
          101
         ],
         "scaleanchor": "x",
         "showgrid": false,
         "showticklabels": false,
         "ticks": "",
         "title": {
          "text": ""
         },
         "zeroline": false
        }
       }
      }
     },
     "metadata": {},
     "output_type": "display_data"
    }
   ],
   "source": [
    "ft.animate_foragers(\n",
    "    loc_subset,\n",
    "    # loc_all,\n",
    "    plot_rewards=True,\n",
    "    width=600,\n",
    "    height=600,\n",
    "    point_size=10,\n",
    "    color_by_state=True,\n",
    ")"
   ]
  },
  {
   "cell_type": "code",
   "execution_count": 7,
   "metadata": {},
   "outputs": [
    {
     "name": "stdout",
     "output_type": "stream",
     "text": [
      "{'search_l': tensor(3., dtype=torch.float64), 'search_r': tensor(0., dtype=torch.float64), 'feed_r': tensor(3., dtype=torch.float64), 'feed_l': tensor(3., dtype=torch.float64), 'edge_r': tensor(0., dtype=torch.float64), 'edge_l': tensor(6., dtype=torch.float64)}\n"
     ]
    }
   ],
   "source": [
    "all_states = df_cat[\"state\"].unique()\n",
    "times = sorted(df_cat[\"time\"].unique())\n",
    "all_combinations = pd.DataFrame(\n",
    "    [(state, time) for state in all_states for time in times],\n",
    "    columns=[\"state\", \"time\"],\n",
    ")\n",
    "counts = pd.merge(\n",
    "    all_combinations,\n",
    "    df_cat.groupby([\"state\", \"time\"]).size().reset_index(name=\"count\"),\n",
    "    how=\"left\",\n",
    "    on=[\"state\", \"time\"],\n",
    ")\n",
    "counts[\"count\"].fillna(0, inplace=True)\n",
    "\n",
    "count_data = {}\n",
    "for state in unique_states:\n",
    "    count_data[f\"{state}_obs\"] = torch.tensor(counts[counts[\"state\"] == state][\"count\"].values)\n",
    "\n",
    "shapes = [tensor.shape for tensor in count_data.values()]\n",
    "assert all(shape == shapes[0] for shape in shapes)\n",
    "\n",
    "\n",
    "tensor_length = len(next(iter(count_data.values())))\n",
    "\n",
    "assert N_obs == tensor_length, \"Tensor length does not match number of observations!\"\n",
    "\n",
    "sums_per_position = [\n",
    "    sum(count_data[state][k] for state in count_data) for k in range(tensor_length)\n",
    "]\n",
    "assert all(\n",
    "    sums_per_position[0] == sum_at_k for sum_at_k in sums_per_position[1:]\n",
    "), \"Population count is not constant!\"\n",
    "\n",
    "init_state = {key[:-4]: count_data[key][0] for key in count_data.keys()}\n",
    "\n",
    "print(init_state)\n"
   ]
  },
  {
   "cell_type": "code",
   "execution_count": 8,
   "metadata": {},
   "outputs": [],
   "source": [
    "def moving_average(data, window_size):\n",
    "    cumsum = torch.cumsum(data, dim=0)\n",
    "    cumsum[window_size:] = cumsum[window_size:] - cumsum[:-window_size]\n",
    "    return cumsum[window_size - 1 :] / window_size\n",
    "\n",
    "\n",
    "def plot_trajectories(data, times, window_size, title = \"Counts\", \n",
    "                      scatter_data = None, scatter_data_type = None, observed = False):\n",
    "    \n",
    "    keys = [\"edge_l\", \"edge_r\", \"feed_l\", \"feed_r\", \"search_l\", \"search_r\"]\n",
    "    observed_keys = [f\"{key}_obs\" for key in keys]\n",
    "    colors = [\"green\", \"darkgreen\", \"red\", \"darkred\", \"orange\", \"darkorange\"]\n",
    "\n",
    "    \n",
    "    used_keys = observed_keys if observed else keys\n",
    "    for state, color in zip(used_keys, colors):\n",
    "        if window_size == 0:\n",
    "           sns.lineplot(x=times, y=data[state], label=f\"{state}\", color=color)\n",
    "           plt.title(title)\n",
    "        else:\n",
    "            running_averages = { state: moving_average(data[state].float(), window_size)\n",
    "                            for state in data}\n",
    "            sns.lineplot(x=times[window_size - 1 :],\n",
    "                        y=running_averages[state],\n",
    "                        label=f\"{state} (avg)\",\n",
    "                        color=color,\n",
    "                     )\n",
    "            plt.title(f\"{title} (running average, window size = {window_size})\")\n",
    "        \n",
    "    if scatter_data is not None:\n",
    "        for state, color in zip(observed_keys, colors):\n",
    "            sns.scatterplot(\n",
    "            x=times,\n",
    "            y=scatter_data[state],\n",
    "            label= f\"{state} - {scatter_data_type}\",\n",
    "            color=color,\n",
    "            )\n",
    "\n",
    "        # plt.xlim(start, end)\n",
    "    plt.xlabel(\"time (frames)\")\n",
    "    plt.ylabel(\"# of locust\")\n",
    "    plt.legend(loc=\"upper right\", fontsize=\"x-small\")\n",
    "    sns.despine()\n",
    "\n"
   ]
  },
  {
   "cell_type": "code",
   "execution_count": 9,
   "metadata": {},
   "outputs": [
    {
     "data": {
      "image/png": "[encoded data removed]",
      "text/plain": [
       "<Figure size 640x480 with 1 Axes>"
      ]
     },
     "metadata": {},
     "output_type": "display_data"
    }
   ],
   "source": [
    "plot_trajectories(count_data, times, window_size=0, observed = True)\n"
   ]
  },
  {
   "cell_type": "code",
   "execution_count": 10,
   "metadata": {},
   "outputs": [
    {
     "data": {
      "image/png": "[encoded data removed]",
      "text/plain": [
       "<Figure size 640x480 with 1 Axes>"
      ]
     },
     "metadata": {},
     "output_type": "display_data"
    }
   ],
   "source": [
    "plot_trajectories(count_data, times, window_size=8, observed=True)"
   ]
  },
  {
   "cell_type": "code",
   "execution_count": 11,
   "metadata": {},
   "outputs": [
    {
     "ename": "ValueError",
     "evalue": "too many values to unpack (expected 5)",
     "output_type": "error",
     "traceback": [
      "\u001b[0;31m---------------------------------------------------------------------------\u001b[0m",
      "\u001b[0;31mValueError\u001b[0m                                Traceback (most recent call last)",
      "Cell \u001b[0;32mIn[11], line 2\u001b[0m\n\u001b[1;32m      1\u001b[0m true_wonder \u001b[38;5;241m=\u001b[39m torch\u001b[38;5;241m.\u001b[39mtensor([\u001b[38;5;241m0.01\u001b[39m, \u001b[38;5;241m0.01\u001b[39m, \u001b[38;5;241m0.01\u001b[39m, \u001b[38;5;241m0.01\u001b[39m, \u001b[38;5;241m0.01\u001b[39m, \u001b[38;5;241m0.01\u001b[39m])\n\u001b[0;32m----> 2\u001b[0m w_ee, w_es, w_se, w_sf, w_ss,  \u001b[38;5;241m=\u001b[39m torch\u001b[38;5;241m.\u001b[39munbind(true_wonder)\n\u001b[1;32m      4\u001b[0m true_attraction \u001b[38;5;241m=\u001b[39m torch\u001b[38;5;241m.\u001b[39mtensor([\u001b[38;5;241m0.01\u001b[39m, \u001b[38;5;241m0.01\u001b[39m, \u001b[38;5;241m0.01\u001b[39m, \u001b[38;5;241m0.01\u001b[39m, \u001b[38;5;241m0.01\u001b[39m, \u001b[38;5;241m0.01\u001b[39m])\n\u001b[1;32m      6\u001b[0m \u001b[38;5;28;01mclass\u001b[39;00m \u001b[38;5;21;01mLocustDynamics\u001b[39;00m(pyro\u001b[38;5;241m.\u001b[39mnn\u001b[38;5;241m.\u001b[39mPyroModule):\n",
      "\u001b[0;31mValueError\u001b[0m: too many values to unpack (expected 5)"
     ]
    }
   ],
   "source": [
    "true_wonder = torch.tensor([0.01, 0.01, 0.01, 0.01, 0.01, 0.01])\n",
    "w_ee, w_es, w_se, w_sf, w_ss,  = torch.unbind(true_wonder)\n",
    "\n",
    "true_attraction = torch.tensor([0.01, 0.01, 0.02, 0.02, 0.04, 0.01, 0.01])\n",
    "a_eler, a_erel, a_es, a_se, a_f, a_slsr, a_srsl = torch.unbind(true_attraction)\n",
    "\n",
    "\n",
    "class LocustDynamics(pyro.nn.PyroModule):\n",
    "    def __init__(self, attraction, wonder):\n",
    "        super().__init__()\n",
    "        self.attraction = attraction\n",
    "        self.wonder = wonder\n",
    "\n",
    "    def forward(self, X: State[torch.Tensor]):\n",
    "        dX = dict()\n",
    "        \n",
    "        dX[\"edge_l\"] = (self.attraction[0] * X[\"edge_r\"] * X[\"edge_l\"] \n",
    "                        - self.wonder[0] * X[\"edge_l\"] \n",
    "                        + self.wonder[0] * X[\"edge_r\"]\n",
    "                        - self.attraction[1] * X[\"edge_l\"] * X[\"search_l\"]\n",
    "                        - self.attraction[3] * X[\"edge_l\"] * X[\"feed_l\"]\n",
    "                        - self.wonder[2] * X[\"edge_l\"]\n",
    "                        + self.wonder[1] * X[\"search_l\"]\n",
    "                        )\n",
    "                        \n",
    "                        \n",
    "        \n",
    "        dX[\"edge_r\"] = (- self.attraction[0] * X[\"edge_l\"] * X[\"edge_r\"]\n",
    "                        + self.wonder[0] * X[\"edge_l\"]\n",
    "                        - self.wonder[0] * X[\"edge_r\"]\n",
    "                        - self.attraction[2] * X[\"edge_r\"] * X[\"search_r\"]\n",
    "                        - self.attraction[4] * X[\"edge_r\"] * X[\"feed_r\"]\n",
    "                        - self.wonder[2] * X[\"edge_r\"]\n",
    "                        )\n",
    "                    \n",
    "        \n",
    "        dX[\"search_l\"] =  (\n",
    "            self.attraction[0] * X[\"search_r\"] * X[\"search_l\"]\n",
    "            - self.wonder[0] * X[\"search_l\"]\n",
    "            + self.wonder[0] * X[\"search_r\"]\n",
    "            + self.attraction[1] * X[\"edge_l\"] * X[\"search_l\"]\n",
    "            + self.attraction[3] * X[\"edge_l\"] * X[\"feed_l\"]\n",
    "            + self.wonder[2] * X[\"edge_l\"]\n",
    "            - self.attraction[5] * X[\"search_l\"] * X[\"feed_l\"]\n",
    "            - self.wonder[1] * X[\"search_l\"]\n",
    "            - self.wonder[2] *X[\"search_l\"]\n",
    "                     )\n",
    "\n",
    "  \n",
    "        dX[\"search_r\"] =  (\n",
    "            - self.attraction[0] * X[\"search_r\"] * X[\"search_l\"]\n",
    "            - self.wonder[0] * X[\"search_r\"]\n",
    "            + self.wonder[0] * X[\"search_l\"]\n",
    "            + self.attraction[2] * X[\"edge_r\"] * X[\"search_r\"]\n",
    "            + self.attraction[4] * X[\"edge_r\"] * X[\"feed_r\"]\n",
    "            + self.wonder[2] * X[\"edge_r\"]\n",
    "            - self.attraction[6] * X[\"search_r\"] * X[\"feed_r\"]\n",
    "            - self.wonder[1] * X[\"search_r\"]\n",
    "            - self.wonder[2] * X[\"search_r\"]\n",
    "                     )\n",
    "\n",
    "        dX[\"feed_l\"] = (self.attraction[5] * X[\"search_l\"] * X[\"feed_l\"]\n",
    "                        + self.wonder[2] * X[\"search_l\"] \n",
    "                        - self.wonder[1] * X[\"feed_l\"]\n",
    "                        )         \n",
    "\n",
    "        dX[\"feed_r\"] = (self.attraction[6] * X[\"search_r\"] * X[\"feed_r\"]\n",
    "                        + self.wonder[2] * X[\"search_r\"] \n",
    "                        - self.wonder[1] * X[\"feed_r\"]\n",
    "                        )             \n",
    "        \n",
    "        return dX\n",
    "    \n",
    "       \n",
    "def locust_noisy_model(X: State[torch.Tensor]) -> None:\n",
    "    event_dim = 1 if X[\"edge_l\"].shape and X[\"edge_l\"].shape[-1] > 1 else 0\n",
    "    keys = [\"edge_l\", \"edge_r\", \"search_l\", \"search_r\", \"feed_l\", \"feed_r\"]\n",
    "    for key in keys:\n",
    "        pyro.sample(\n",
    "            f\"{key}_obs\", dist.Poisson(X[key]).to_event(event_dim)\n",
    "        )"
   ]
  },
  {
   "cell_type": "code",
   "execution_count": 12,
   "metadata": {},
   "outputs": [
    {
     "name": "stdout",
     "output_type": "stream",
     "text": [
      "logging shape torch.Size([62])\n"
     ]
    },
    {
     "data": {
      "image/png": "[encoded data removed]",
      "text/plain": [
       "<Figure size 640x480 with 1 Axes>"
      ]
     },
     "metadata": {},
     "output_type": "display_data"
    }
   ],
   "source": [
    "start_time = torch.tensor(start).float()\n",
    "end_time = torch.tensor(end+2).float()\n",
    "step_size = 1\n",
    "logging_times = torch.arange(start_time, end_time, step_size)\n",
    "\n",
    "print(\"logging shape\", logging_times.shape)\n",
    "\n",
    "#assert logging_times.squeeze().tolist() == times + 1\n",
    "\n",
    "attraction_true = torch.tensor([0.01, 0.02, 0.02, 0.03, 0.03, 0.04, 0.04])\n",
    "wonder_true = torch.tensor([0.01, 0.02, 0.03])\n",
    "\n",
    "\n",
    "locust_true = LocustDynamics(attraction_true, wonder_true)\n",
    "\n",
    "\n",
    "with TorchDiffEq(), LogTrajectory(logging_times) as lt:\n",
    "    simulate(locust_true, init_state, start_time, end_time)\n",
    "\n",
    "locust_true_traj = lt.trajectory\n",
    "\n",
    "plot_trajectories(locust_true_traj, logging_times[:-1], window_size=0)"
   ]
  },
  {
   "cell_type": "code",
   "execution_count": 13,
   "metadata": {},
   "outputs": [],
   "source": [
    "for _, tensor in locust_true_traj.items():\n",
    "    assert torch.all(tensor >= 0)\n",
    "        #locust_true_traj[key] = torch.clamp(tensor, min=0)\n",
    "\n",
    "with pyro.poutine.trace() as tr:\n",
    "    locust_noisy_model(locust_true_traj)\n",
    "\n",
    "keys = [\"edge_l\", \"edge_r\", \"search_l\", \"search_r\", \"feed_l\", \"feed_r\"]\n",
    "observed_keys = [f\"{key}_obs\" for key in keys]\n",
    "\n",
    "synthetic_data = dict(**{k: tr.trace.nodes[k][\"value\"] for k in observed_keys})\n",
    "\n",
    "assert count_data.keys() == synthetic_data.keys()\n",
    "\n",
    "assert count_data[\"edge_l_obs\"].shape == synthetic_data[\"edge_l_obs\"].shape, f\"count: {count_data['edge_l_obs'].shape}, synthetic: {synthetic_data['edge_l_obs'].shape}\"\n"
   ]
  },
  {
   "cell_type": "code",
   "execution_count": 15,
   "metadata": {},
   "outputs": [
    {
     "data": {
      "image/png": "[encoded data removed]",
      "text/plain": [
       "<Figure size 640x480 with 1 Axes>"
      ]
     },
     "metadata": {},
     "output_type": "display_data"
    }
   ],
   "source": [
    "plot_trajectories(locust_true_traj, times, window_size=0, title=\"True counts\",\n",
    "                  scatter_data=synthetic_data, scatter_data_type=\"synthetic\")"
   ]
  },
  {
   "cell_type": "code",
   "execution_count": 16,
   "metadata": {},
   "outputs": [
    {
     "data": {
      "image/png": "[encoded data removed]",
      "text/plain": [
       "<Figure size 640x480 with 1 Axes>"
      ]
     },
     "metadata": {},
     "output_type": "display_data"
    }
   ],
   "source": [
    "plot_trajectories(locust_true_traj, times, window_size=0, title=\"True counts\",\n",
    "                  scatter_data=count_data, scatter_data_type=\"observed\")"
   ]
  },
  {
   "cell_type": "code",
   "execution_count": 26,
   "metadata": {},
   "outputs": [],
   "source": [
    "def bayesian_locust(base_model=LocustDynamics) -> Dynamics[torch.Tensor]:\n",
    "    \n",
    "    with pyro.plate(\"attr\", size=7):\n",
    "        attraction = pyro.sample(\"attraction\", dist.Uniform(0,0.1))\n",
    "    with pyro.plate(\"wond\", size=3):\n",
    "        wonder = pyro.sample(\"wonder\", dist.Uniform(0, .1))\n",
    "\n",
    "    locust_model = base_model(attraction, wonder)\n",
    "    return locust_model\n",
    "\n",
    "\n",
    "def simulated_bayesian_locust(\n",
    "    init_state, start_time, logging_times, base_model=LocustDynamics\n",
    ") -> State[torch.Tensor]:\n",
    "    locust_model = bayesian_locust(base_model)\n",
    "    with TorchDiffEq(), LogTrajectory(logging_times) as lt:  #, is_traced=True is unexpected keyword?\n",
    "        simulate(locust_model, init_state, start_time, logging_times[-1])\n",
    "    return lt.trajectory"
   ]
  },
  {
   "cell_type": "code",
   "execution_count": 24,
   "metadata": {},
   "outputs": [
    {
     "ename": "AssertionError",
     "evalue": "underflow in dt 2.5669613003574758e-14",
     "output_type": "error",
     "traceback": [
      "\u001b[0;31m---------------------------------------------------------------------------\u001b[0m",
      "\u001b[0;31mAssertionError\u001b[0m                            Traceback (most recent call last)",
      "Cell \u001b[0;32mIn[24], line 2\u001b[0m\n\u001b[1;32m      1\u001b[0m prior_predictive \u001b[38;5;241m=\u001b[39m Predictive(simulated_bayesian_locust, num_samples\u001b[38;5;241m=\u001b[39m\u001b[38;5;241m10\u001b[39m)\n\u001b[0;32m----> 2\u001b[0m locust_prior_samples \u001b[38;5;241m=\u001b[39m \u001b[43mprior_predictive\u001b[49m\u001b[43m(\u001b[49m\u001b[43minit_state\u001b[49m\u001b[43m,\u001b[49m\u001b[43m \u001b[49m\u001b[43mstart_time\u001b[49m\u001b[43m,\u001b[49m\u001b[43m \u001b[49m\u001b[43mlogging_times\u001b[49m\u001b[43m)\u001b[49m\n",
      "File \u001b[0;32m~/.local/lib/python3.10/site-packages/torch/nn/modules/module.py:1518\u001b[0m, in \u001b[0;36mModule._wrapped_call_impl\u001b[0;34m(self, *args, **kwargs)\u001b[0m\n\u001b[1;32m   1516\u001b[0m     \u001b[38;5;28;01mreturn\u001b[39;00m \u001b[38;5;28mself\u001b[39m\u001b[38;5;241m.\u001b[39m_compiled_call_impl(\u001b[38;5;241m*\u001b[39margs, \u001b[38;5;241m*\u001b[39m\u001b[38;5;241m*\u001b[39mkwargs)  \u001b[38;5;66;03m# type: ignore[misc]\u001b[39;00m\n\u001b[1;32m   1517\u001b[0m \u001b[38;5;28;01melse\u001b[39;00m:\n\u001b[0;32m-> 1518\u001b[0m     \u001b[38;5;28;01mreturn\u001b[39;00m \u001b[38;5;28;43mself\u001b[39;49m\u001b[38;5;241;43m.\u001b[39;49m\u001b[43m_call_impl\u001b[49m\u001b[43m(\u001b[49m\u001b[38;5;241;43m*\u001b[39;49m\u001b[43margs\u001b[49m\u001b[43m,\u001b[49m\u001b[43m \u001b[49m\u001b[38;5;241;43m*\u001b[39;49m\u001b[38;5;241;43m*\u001b[39;49m\u001b[43mkwargs\u001b[49m\u001b[43m)\u001b[49m\n",
      "File \u001b[0;32m~/.local/lib/python3.10/site-packages/torch/nn/modules/module.py:1527\u001b[0m, in \u001b[0;36mModule._call_impl\u001b[0;34m(self, *args, **kwargs)\u001b[0m\n\u001b[1;32m   1522\u001b[0m \u001b[38;5;66;03m# If we don't have any hooks, we want to skip the rest of the logic in\u001b[39;00m\n\u001b[1;32m   1523\u001b[0m \u001b[38;5;66;03m# this function, and just call forward.\u001b[39;00m\n\u001b[1;32m   1524\u001b[0m \u001b[38;5;28;01mif\u001b[39;00m \u001b[38;5;129;01mnot\u001b[39;00m (\u001b[38;5;28mself\u001b[39m\u001b[38;5;241m.\u001b[39m_backward_hooks \u001b[38;5;129;01mor\u001b[39;00m \u001b[38;5;28mself\u001b[39m\u001b[38;5;241m.\u001b[39m_backward_pre_hooks \u001b[38;5;129;01mor\u001b[39;00m \u001b[38;5;28mself\u001b[39m\u001b[38;5;241m.\u001b[39m_forward_hooks \u001b[38;5;129;01mor\u001b[39;00m \u001b[38;5;28mself\u001b[39m\u001b[38;5;241m.\u001b[39m_forward_pre_hooks\n\u001b[1;32m   1525\u001b[0m         \u001b[38;5;129;01mor\u001b[39;00m _global_backward_pre_hooks \u001b[38;5;129;01mor\u001b[39;00m _global_backward_hooks\n\u001b[1;32m   1526\u001b[0m         \u001b[38;5;129;01mor\u001b[39;00m _global_forward_hooks \u001b[38;5;129;01mor\u001b[39;00m _global_forward_pre_hooks):\n\u001b[0;32m-> 1527\u001b[0m     \u001b[38;5;28;01mreturn\u001b[39;00m \u001b[43mforward_call\u001b[49m\u001b[43m(\u001b[49m\u001b[38;5;241;43m*\u001b[39;49m\u001b[43margs\u001b[49m\u001b[43m,\u001b[49m\u001b[43m \u001b[49m\u001b[38;5;241;43m*\u001b[39;49m\u001b[38;5;241;43m*\u001b[39;49m\u001b[43mkwargs\u001b[49m\u001b[43m)\u001b[49m\n\u001b[1;32m   1529\u001b[0m \u001b[38;5;28;01mtry\u001b[39;00m:\n\u001b[1;32m   1530\u001b[0m     result \u001b[38;5;241m=\u001b[39m \u001b[38;5;28;01mNone\u001b[39;00m\n",
      "File \u001b[0;32m~/.local/lib/python3.10/site-packages/pyro/infer/predictive.py:273\u001b[0m, in \u001b[0;36mPredictive.forward\u001b[0;34m(self, *args, **kwargs)\u001b[0m\n\u001b[1;32m    263\u001b[0m     return_sites \u001b[38;5;241m=\u001b[39m \u001b[38;5;28;01mNone\u001b[39;00m \u001b[38;5;28;01mif\u001b[39;00m \u001b[38;5;129;01mnot\u001b[39;00m return_sites \u001b[38;5;28;01melse\u001b[39;00m return_sites\n\u001b[1;32m    264\u001b[0m     posterior_samples \u001b[38;5;241m=\u001b[39m _predictive(\n\u001b[1;32m    265\u001b[0m         \u001b[38;5;28mself\u001b[39m\u001b[38;5;241m.\u001b[39mguide,\n\u001b[1;32m    266\u001b[0m         posterior_samples,\n\u001b[0;32m   (...)\u001b[0m\n\u001b[1;32m    271\u001b[0m         model_kwargs\u001b[38;5;241m=\u001b[39mkwargs,\n\u001b[1;32m    272\u001b[0m     )\n\u001b[0;32m--> 273\u001b[0m \u001b[38;5;28;01mreturn\u001b[39;00m \u001b[43m_predictive\u001b[49m\u001b[43m(\u001b[49m\n\u001b[1;32m    274\u001b[0m \u001b[43m    \u001b[49m\u001b[38;5;28;43mself\u001b[39;49m\u001b[38;5;241;43m.\u001b[39;49m\u001b[43mmodel\u001b[49m\u001b[43m,\u001b[49m\n\u001b[1;32m    275\u001b[0m \u001b[43m    \u001b[49m\u001b[43mposterior_samples\u001b[49m\u001b[43m,\u001b[49m\n\u001b[1;32m    276\u001b[0m \u001b[43m    \u001b[49m\u001b[38;5;28;43mself\u001b[39;49m\u001b[38;5;241;43m.\u001b[39;49m\u001b[43mnum_samples\u001b[49m\u001b[43m,\u001b[49m\n\u001b[1;32m    277\u001b[0m \u001b[43m    \u001b[49m\u001b[43mreturn_sites\u001b[49m\u001b[38;5;241;43m=\u001b[39;49m\u001b[43mreturn_sites\u001b[49m\u001b[43m,\u001b[49m\n\u001b[1;32m    278\u001b[0m \u001b[43m    \u001b[49m\u001b[43mparallel\u001b[49m\u001b[38;5;241;43m=\u001b[39;49m\u001b[38;5;28;43mself\u001b[39;49m\u001b[38;5;241;43m.\u001b[39;49m\u001b[43mparallel\u001b[49m\u001b[43m,\u001b[49m\n\u001b[1;32m    279\u001b[0m \u001b[43m    \u001b[49m\u001b[43mmodel_args\u001b[49m\u001b[38;5;241;43m=\u001b[39;49m\u001b[43margs\u001b[49m\u001b[43m,\u001b[49m\n\u001b[1;32m    280\u001b[0m \u001b[43m    \u001b[49m\u001b[43mmodel_kwargs\u001b[49m\u001b[38;5;241;43m=\u001b[39;49m\u001b[43mkwargs\u001b[49m\u001b[43m,\u001b[49m\n\u001b[1;32m    281\u001b[0m \u001b[43m\u001b[49m\u001b[43m)\u001b[49m\n",
      "File \u001b[0;32m~/.local/lib/python3.10/site-packages/pyro/infer/predictive.py:78\u001b[0m, in \u001b[0;36m_predictive\u001b[0;34m(model, posterior_samples, num_samples, return_sites, return_trace, parallel, model_args, model_kwargs)\u001b[0m\n\u001b[1;32m     67\u001b[0m \u001b[38;5;28;01mdef\u001b[39;00m \u001b[38;5;21m_predictive\u001b[39m(\n\u001b[1;32m     68\u001b[0m     model,\n\u001b[1;32m     69\u001b[0m     posterior_samples,\n\u001b[0;32m   (...)\u001b[0m\n\u001b[1;32m     75\u001b[0m     model_kwargs\u001b[38;5;241m=\u001b[39m{},\n\u001b[1;32m     76\u001b[0m ):\n\u001b[1;32m     77\u001b[0m     model \u001b[38;5;241m=\u001b[39m torch\u001b[38;5;241m.\u001b[39mno_grad()(poutine\u001b[38;5;241m.\u001b[39mmask(model, mask\u001b[38;5;241m=\u001b[39m\u001b[38;5;28;01mFalse\u001b[39;00m))\n\u001b[0;32m---> 78\u001b[0m     max_plate_nesting \u001b[38;5;241m=\u001b[39m \u001b[43m_guess_max_plate_nesting\u001b[49m\u001b[43m(\u001b[49m\u001b[43mmodel\u001b[49m\u001b[43m,\u001b[49m\u001b[43m \u001b[49m\u001b[43mmodel_args\u001b[49m\u001b[43m,\u001b[49m\u001b[43m \u001b[49m\u001b[43mmodel_kwargs\u001b[49m\u001b[43m)\u001b[49m\n\u001b[1;32m     79\u001b[0m     vectorize \u001b[38;5;241m=\u001b[39m pyro\u001b[38;5;241m.\u001b[39mplate(\n\u001b[1;32m     80\u001b[0m         \u001b[38;5;124m\"\u001b[39m\u001b[38;5;124m_num_predictive_samples\u001b[39m\u001b[38;5;124m\"\u001b[39m, num_samples, dim\u001b[38;5;241m=\u001b[39m\u001b[38;5;241m-\u001b[39mmax_plate_nesting \u001b[38;5;241m-\u001b[39m \u001b[38;5;241m1\u001b[39m\n\u001b[1;32m     81\u001b[0m     )\n\u001b[1;32m     82\u001b[0m     model_trace \u001b[38;5;241m=\u001b[39m prune_subsample_sites(\n\u001b[1;32m     83\u001b[0m         poutine\u001b[38;5;241m.\u001b[39mtrace(model)\u001b[38;5;241m.\u001b[39mget_trace(\u001b[38;5;241m*\u001b[39mmodel_args, \u001b[38;5;241m*\u001b[39m\u001b[38;5;241m*\u001b[39mmodel_kwargs)\n\u001b[1;32m     84\u001b[0m     )\n",
      "File \u001b[0;32m~/.local/lib/python3.10/site-packages/pyro/infer/predictive.py:21\u001b[0m, in \u001b[0;36m_guess_max_plate_nesting\u001b[0;34m(model, args, kwargs)\u001b[0m\n\u001b[1;32m     15\u001b[0m \u001b[38;5;250m\u001b[39m\u001b[38;5;124;03m\"\"\"\u001b[39;00m\n\u001b[1;32m     16\u001b[0m \u001b[38;5;124;03mGuesses max_plate_nesting by running the model once\u001b[39;00m\n\u001b[1;32m     17\u001b[0m \u001b[38;5;124;03mwithout enumeration. This optimistically assumes static model\u001b[39;00m\n\u001b[1;32m     18\u001b[0m \u001b[38;5;124;03mstructure.\u001b[39;00m\n\u001b[1;32m     19\u001b[0m \u001b[38;5;124;03m\"\"\"\u001b[39;00m\n\u001b[1;32m     20\u001b[0m \u001b[38;5;28;01mwith\u001b[39;00m poutine\u001b[38;5;241m.\u001b[39mblock():\n\u001b[0;32m---> 21\u001b[0m     model_trace \u001b[38;5;241m=\u001b[39m \u001b[43mpoutine\u001b[49m\u001b[38;5;241;43m.\u001b[39;49m\u001b[43mtrace\u001b[49m\u001b[43m(\u001b[49m\u001b[43mmodel\u001b[49m\u001b[43m)\u001b[49m\u001b[38;5;241;43m.\u001b[39;49m\u001b[43mget_trace\u001b[49m\u001b[43m(\u001b[49m\u001b[38;5;241;43m*\u001b[39;49m\u001b[43margs\u001b[49m\u001b[43m,\u001b[49m\u001b[43m \u001b[49m\u001b[38;5;241;43m*\u001b[39;49m\u001b[38;5;241;43m*\u001b[39;49m\u001b[43mkwargs\u001b[49m\u001b[43m)\u001b[49m\n\u001b[1;32m     22\u001b[0m sites \u001b[38;5;241m=\u001b[39m [site \u001b[38;5;28;01mfor\u001b[39;00m site \u001b[38;5;129;01min\u001b[39;00m model_trace\u001b[38;5;241m.\u001b[39mnodes\u001b[38;5;241m.\u001b[39mvalues() \u001b[38;5;28;01mif\u001b[39;00m site[\u001b[38;5;124m\"\u001b[39m\u001b[38;5;124mtype\u001b[39m\u001b[38;5;124m\"\u001b[39m] \u001b[38;5;241m==\u001b[39m \u001b[38;5;124m\"\u001b[39m\u001b[38;5;124msample\u001b[39m\u001b[38;5;124m\"\u001b[39m]\n\u001b[1;32m     24\u001b[0m dims \u001b[38;5;241m=\u001b[39m [\n\u001b[1;32m     25\u001b[0m     frame\u001b[38;5;241m.\u001b[39mdim\n\u001b[1;32m     26\u001b[0m     \u001b[38;5;28;01mfor\u001b[39;00m site \u001b[38;5;129;01min\u001b[39;00m sites\n\u001b[1;32m     27\u001b[0m     \u001b[38;5;28;01mfor\u001b[39;00m frame \u001b[38;5;129;01min\u001b[39;00m site[\u001b[38;5;124m\"\u001b[39m\u001b[38;5;124mcond_indep_stack\u001b[39m\u001b[38;5;124m\"\u001b[39m]\n\u001b[1;32m     28\u001b[0m     \u001b[38;5;28;01mif\u001b[39;00m frame\u001b[38;5;241m.\u001b[39mvectorized\n\u001b[1;32m     29\u001b[0m ]\n",
      "File \u001b[0;32m~/.local/lib/python3.10/site-packages/pyro/poutine/trace_messenger.py:198\u001b[0m, in \u001b[0;36mTraceHandler.get_trace\u001b[0;34m(self, *args, **kwargs)\u001b[0m\n\u001b[1;32m    190\u001b[0m \u001b[38;5;28;01mdef\u001b[39;00m \u001b[38;5;21mget_trace\u001b[39m(\u001b[38;5;28mself\u001b[39m, \u001b[38;5;241m*\u001b[39margs, \u001b[38;5;241m*\u001b[39m\u001b[38;5;241m*\u001b[39mkwargs):\n\u001b[1;32m    191\u001b[0m \u001b[38;5;250m    \u001b[39m\u001b[38;5;124;03m\"\"\"\u001b[39;00m\n\u001b[1;32m    192\u001b[0m \u001b[38;5;124;03m    :returns: data structure\u001b[39;00m\n\u001b[1;32m    193\u001b[0m \u001b[38;5;124;03m    :rtype: pyro.poutine.Trace\u001b[39;00m\n\u001b[0;32m   (...)\u001b[0m\n\u001b[1;32m    196\u001b[0m \u001b[38;5;124;03m    Calls this poutine and returns its trace instead of the function's return value.\u001b[39;00m\n\u001b[1;32m    197\u001b[0m \u001b[38;5;124;03m    \"\"\"\u001b[39;00m\n\u001b[0;32m--> 198\u001b[0m     \u001b[38;5;28;43mself\u001b[39;49m\u001b[43m(\u001b[49m\u001b[38;5;241;43m*\u001b[39;49m\u001b[43margs\u001b[49m\u001b[43m,\u001b[49m\u001b[43m \u001b[49m\u001b[38;5;241;43m*\u001b[39;49m\u001b[38;5;241;43m*\u001b[39;49m\u001b[43mkwargs\u001b[49m\u001b[43m)\u001b[49m\n\u001b[1;32m    199\u001b[0m     \u001b[38;5;28;01mreturn\u001b[39;00m \u001b[38;5;28mself\u001b[39m\u001b[38;5;241m.\u001b[39mmsngr\u001b[38;5;241m.\u001b[39mget_trace()\n",
      "File \u001b[0;32m~/.local/lib/python3.10/site-packages/pyro/poutine/trace_messenger.py:174\u001b[0m, in \u001b[0;36mTraceHandler.__call__\u001b[0;34m(self, *args, **kwargs)\u001b[0m\n\u001b[1;32m    170\u001b[0m \u001b[38;5;28mself\u001b[39m\u001b[38;5;241m.\u001b[39mmsngr\u001b[38;5;241m.\u001b[39mtrace\u001b[38;5;241m.\u001b[39madd_node(\n\u001b[1;32m    171\u001b[0m     \u001b[38;5;124m\"\u001b[39m\u001b[38;5;124m_INPUT\u001b[39m\u001b[38;5;124m\"\u001b[39m, name\u001b[38;5;241m=\u001b[39m\u001b[38;5;124m\"\u001b[39m\u001b[38;5;124m_INPUT\u001b[39m\u001b[38;5;124m\"\u001b[39m, \u001b[38;5;28mtype\u001b[39m\u001b[38;5;241m=\u001b[39m\u001b[38;5;124m\"\u001b[39m\u001b[38;5;124margs\u001b[39m\u001b[38;5;124m\"\u001b[39m, args\u001b[38;5;241m=\u001b[39margs, kwargs\u001b[38;5;241m=\u001b[39mkwargs\n\u001b[1;32m    172\u001b[0m )\n\u001b[1;32m    173\u001b[0m \u001b[38;5;28;01mtry\u001b[39;00m:\n\u001b[0;32m--> 174\u001b[0m     ret \u001b[38;5;241m=\u001b[39m \u001b[38;5;28;43mself\u001b[39;49m\u001b[38;5;241;43m.\u001b[39;49m\u001b[43mfn\u001b[49m\u001b[43m(\u001b[49m\u001b[38;5;241;43m*\u001b[39;49m\u001b[43margs\u001b[49m\u001b[43m,\u001b[49m\u001b[43m \u001b[49m\u001b[38;5;241;43m*\u001b[39;49m\u001b[38;5;241;43m*\u001b[39;49m\u001b[43mkwargs\u001b[49m\u001b[43m)\u001b[49m\n\u001b[1;32m    175\u001b[0m \u001b[38;5;28;01mexcept\u001b[39;00m (\u001b[38;5;167;01mValueError\u001b[39;00m, \u001b[38;5;167;01mRuntimeError\u001b[39;00m) \u001b[38;5;28;01mas\u001b[39;00m e:\n\u001b[1;32m    176\u001b[0m     exc_type, exc_value, traceback \u001b[38;5;241m=\u001b[39m sys\u001b[38;5;241m.\u001b[39mexc_info()\n",
      "File \u001b[0;32m~/.local/lib/python3.10/site-packages/torch/utils/_contextlib.py:115\u001b[0m, in \u001b[0;36mcontext_decorator.<locals>.decorate_context\u001b[0;34m(*args, **kwargs)\u001b[0m\n\u001b[1;32m    112\u001b[0m \u001b[38;5;129m@functools\u001b[39m\u001b[38;5;241m.\u001b[39mwraps(func)\n\u001b[1;32m    113\u001b[0m \u001b[38;5;28;01mdef\u001b[39;00m \u001b[38;5;21mdecorate_context\u001b[39m(\u001b[38;5;241m*\u001b[39margs, \u001b[38;5;241m*\u001b[39m\u001b[38;5;241m*\u001b[39mkwargs):\n\u001b[1;32m    114\u001b[0m     \u001b[38;5;28;01mwith\u001b[39;00m ctx_factory():\n\u001b[0;32m--> 115\u001b[0m         \u001b[38;5;28;01mreturn\u001b[39;00m \u001b[43mfunc\u001b[49m\u001b[43m(\u001b[49m\u001b[38;5;241;43m*\u001b[39;49m\u001b[43margs\u001b[49m\u001b[43m,\u001b[49m\u001b[43m \u001b[49m\u001b[38;5;241;43m*\u001b[39;49m\u001b[38;5;241;43m*\u001b[39;49m\u001b[43mkwargs\u001b[49m\u001b[43m)\u001b[49m\n",
      "File \u001b[0;32m~/.local/lib/python3.10/site-packages/pyro/poutine/messenger.py:12\u001b[0m, in \u001b[0;36m_context_wrap\u001b[0;34m(context, fn, *args, **kwargs)\u001b[0m\n\u001b[1;32m     10\u001b[0m \u001b[38;5;28;01mdef\u001b[39;00m \u001b[38;5;21m_context_wrap\u001b[39m(context, fn, \u001b[38;5;241m*\u001b[39margs, \u001b[38;5;241m*\u001b[39m\u001b[38;5;241m*\u001b[39mkwargs):\n\u001b[1;32m     11\u001b[0m     \u001b[38;5;28;01mwith\u001b[39;00m context:\n\u001b[0;32m---> 12\u001b[0m         \u001b[38;5;28;01mreturn\u001b[39;00m \u001b[43mfn\u001b[49m\u001b[43m(\u001b[49m\u001b[38;5;241;43m*\u001b[39;49m\u001b[43margs\u001b[49m\u001b[43m,\u001b[49m\u001b[43m \u001b[49m\u001b[38;5;241;43m*\u001b[39;49m\u001b[38;5;241;43m*\u001b[39;49m\u001b[43mkwargs\u001b[49m\u001b[43m)\u001b[49m\n",
      "Cell \u001b[0;32mIn[23], line 17\u001b[0m, in \u001b[0;36msimulated_bayesian_locust\u001b[0;34m(init_state, start_time, logging_times, base_model)\u001b[0m\n\u001b[1;32m     15\u001b[0m locust_model \u001b[38;5;241m=\u001b[39m bayesian_locust(base_model)\n\u001b[1;32m     16\u001b[0m \u001b[38;5;28;01mwith\u001b[39;00m TorchDiffEq(), LogTrajectory(logging_times) \u001b[38;5;28;01mas\u001b[39;00m lt:  \u001b[38;5;66;03m#, is_traced=True is unexpected keyword?\u001b[39;00m\n\u001b[0;32m---> 17\u001b[0m     \u001b[43msimulate\u001b[49m\u001b[43m(\u001b[49m\u001b[43mlocust_model\u001b[49m\u001b[43m,\u001b[49m\u001b[43m \u001b[49m\u001b[43minit_state\u001b[49m\u001b[43m,\u001b[49m\u001b[43m \u001b[49m\u001b[43mstart_time\u001b[49m\u001b[43m,\u001b[49m\u001b[43m \u001b[49m\u001b[43mlogging_times\u001b[49m\u001b[43m[\u001b[49m\u001b[38;5;241;43m-\u001b[39;49m\u001b[38;5;241;43m1\u001b[39;49m\u001b[43m]\u001b[49m\u001b[43m)\u001b[49m\n\u001b[1;32m     18\u001b[0m \u001b[38;5;28;01mreturn\u001b[39;00m lt\u001b[38;5;241m.\u001b[39mtrajectory\n",
      "File \u001b[0;32m~/.local/lib/python3.10/site-packages/pyro/poutine/runtime.py:281\u001b[0m, in \u001b[0;36meffectful.<locals>._fn\u001b[0;34m(*args, **kwargs)\u001b[0m\n\u001b[1;32m    264\u001b[0m msg \u001b[38;5;241m=\u001b[39m {\n\u001b[1;32m    265\u001b[0m     \u001b[38;5;124m\"\u001b[39m\u001b[38;5;124mtype\u001b[39m\u001b[38;5;124m\"\u001b[39m: \u001b[38;5;28mtype\u001b[39m,\n\u001b[1;32m    266\u001b[0m     \u001b[38;5;124m\"\u001b[39m\u001b[38;5;124mname\u001b[39m\u001b[38;5;124m\"\u001b[39m: name,\n\u001b[0;32m   (...)\u001b[0m\n\u001b[1;32m    278\u001b[0m     \u001b[38;5;124m\"\u001b[39m\u001b[38;5;124minfer\u001b[39m\u001b[38;5;124m\"\u001b[39m: infer,\n\u001b[1;32m    279\u001b[0m }\n\u001b[1;32m    280\u001b[0m \u001b[38;5;66;03m# apply the stack and return its return value\u001b[39;00m\n\u001b[0;32m--> 281\u001b[0m \u001b[43mapply_stack\u001b[49m\u001b[43m(\u001b[49m\u001b[43mmsg\u001b[49m\u001b[43m)\u001b[49m\n\u001b[1;32m    282\u001b[0m \u001b[38;5;28;01mreturn\u001b[39;00m msg[\u001b[38;5;124m\"\u001b[39m\u001b[38;5;124mvalue\u001b[39m\u001b[38;5;124m\"\u001b[39m]\n",
      "File \u001b[0;32m~/.local/lib/python3.10/site-packages/pyro/poutine/runtime.py:212\u001b[0m, in \u001b[0;36mapply_stack\u001b[0;34m(initial_msg)\u001b[0m\n\u001b[1;32m    209\u001b[0m \u001b[38;5;28;01mfor\u001b[39;00m frame \u001b[38;5;129;01min\u001b[39;00m \u001b[38;5;28mreversed\u001b[39m(stack):\n\u001b[1;32m    210\u001b[0m     pointer \u001b[38;5;241m=\u001b[39m pointer \u001b[38;5;241m+\u001b[39m \u001b[38;5;241m1\u001b[39m\n\u001b[0;32m--> 212\u001b[0m     \u001b[43mframe\u001b[49m\u001b[38;5;241;43m.\u001b[39;49m\u001b[43m_process_message\u001b[49m\u001b[43m(\u001b[49m\u001b[43mmsg\u001b[49m\u001b[43m)\u001b[49m\n\u001b[1;32m    214\u001b[0m     \u001b[38;5;28;01mif\u001b[39;00m msg[\u001b[38;5;124m\"\u001b[39m\u001b[38;5;124mstop\u001b[39m\u001b[38;5;124m\"\u001b[39m]:\n\u001b[1;32m    215\u001b[0m         \u001b[38;5;28;01mbreak\u001b[39;00m\n",
      "File \u001b[0;32m~/.local/lib/python3.10/site-packages/pyro/poutine/messenger.py:162\u001b[0m, in \u001b[0;36mMessenger._process_message\u001b[0;34m(self, msg)\u001b[0m\n\u001b[1;32m    160\u001b[0m method \u001b[38;5;241m=\u001b[39m \u001b[38;5;28mgetattr\u001b[39m(\u001b[38;5;28mself\u001b[39m, \u001b[38;5;124m\"\u001b[39m\u001b[38;5;124m_pyro_\u001b[39m\u001b[38;5;132;01m{}\u001b[39;00m\u001b[38;5;124m\"\u001b[39m\u001b[38;5;241m.\u001b[39mformat(msg[\u001b[38;5;124m\"\u001b[39m\u001b[38;5;124mtype\u001b[39m\u001b[38;5;124m\"\u001b[39m]), \u001b[38;5;28;01mNone\u001b[39;00m)\n\u001b[1;32m    161\u001b[0m \u001b[38;5;28;01mif\u001b[39;00m method \u001b[38;5;129;01mis\u001b[39;00m \u001b[38;5;129;01mnot\u001b[39;00m \u001b[38;5;28;01mNone\u001b[39;00m:\n\u001b[0;32m--> 162\u001b[0m     \u001b[38;5;28;01mreturn\u001b[39;00m \u001b[43mmethod\u001b[49m\u001b[43m(\u001b[49m\u001b[43mmsg\u001b[49m\u001b[43m)\u001b[49m\n\u001b[1;32m    163\u001b[0m \u001b[38;5;28;01mreturn\u001b[39;00m \u001b[38;5;28;01mNone\u001b[39;00m\n",
      "File \u001b[0;32m~/s78projects/chirho/chirho/dynamical/internals/solver.py:70\u001b[0m, in \u001b[0;36mSolver._pyro_simulate\u001b[0;34m(msg)\u001b[0m\n\u001b[1;32m     67\u001b[0m     \u001b[38;5;28;01mif\u001b[39;00m ph\u001b[38;5;241m.\u001b[39mpriority \u001b[38;5;241m>\u001b[39m start_time:\n\u001b[1;32m     68\u001b[0m         \u001b[38;5;28;01mbreak\u001b[39;00m\n\u001b[0;32m---> 70\u001b[0m state, start_time, next_interruption \u001b[38;5;241m=\u001b[39m \u001b[43msimulate_to_interruption\u001b[49m\u001b[43m(\u001b[49m\n\u001b[1;32m     71\u001b[0m \u001b[43m    \u001b[49m\u001b[43mpossible_interruptions\u001b[49m\u001b[43m,\u001b[49m\n\u001b[1;32m     72\u001b[0m \u001b[43m    \u001b[49m\u001b[43mdynamics\u001b[49m\u001b[43m,\u001b[49m\n\u001b[1;32m     73\u001b[0m \u001b[43m    \u001b[49m\u001b[43mstate\u001b[49m\u001b[43m,\u001b[49m\n\u001b[1;32m     74\u001b[0m \u001b[43m    \u001b[49m\u001b[43mstart_time\u001b[49m\u001b[43m,\u001b[49m\n\u001b[1;32m     75\u001b[0m \u001b[43m    \u001b[49m\u001b[43mend_time\u001b[49m\u001b[43m,\u001b[49m\n\u001b[1;32m     76\u001b[0m \u001b[43m    \u001b[49m\u001b[38;5;241;43m*\u001b[39;49m\u001b[38;5;241;43m*\u001b[39;49m\u001b[43mmsg\u001b[49m\u001b[43m[\u001b[49m\u001b[38;5;124;43m\"\u001b[39;49m\u001b[38;5;124;43mkwargs\u001b[39;49m\u001b[38;5;124;43m\"\u001b[39;49m\u001b[43m]\u001b[49m\u001b[43m,\u001b[49m\n\u001b[1;32m     77\u001b[0m \u001b[43m\u001b[49m\u001b[43m)\u001b[49m\n\u001b[1;32m     79\u001b[0m \u001b[38;5;28;01mif\u001b[39;00m next_interruption \u001b[38;5;129;01mis\u001b[39;00m \u001b[38;5;129;01mnot\u001b[39;00m \u001b[38;5;28;01mNone\u001b[39;00m:\n\u001b[1;32m     80\u001b[0m     dynamics, state \u001b[38;5;241m=\u001b[39m next_interruption\u001b[38;5;241m.\u001b[39mapply_fn(dynamics, state)\n",
      "File \u001b[0;32m~/.local/lib/python3.10/site-packages/pyro/poutine/runtime.py:281\u001b[0m, in \u001b[0;36meffectful.<locals>._fn\u001b[0;34m(*args, **kwargs)\u001b[0m\n\u001b[1;32m    264\u001b[0m msg \u001b[38;5;241m=\u001b[39m {\n\u001b[1;32m    265\u001b[0m     \u001b[38;5;124m\"\u001b[39m\u001b[38;5;124mtype\u001b[39m\u001b[38;5;124m\"\u001b[39m: \u001b[38;5;28mtype\u001b[39m,\n\u001b[1;32m    266\u001b[0m     \u001b[38;5;124m\"\u001b[39m\u001b[38;5;124mname\u001b[39m\u001b[38;5;124m\"\u001b[39m: name,\n\u001b[0;32m   (...)\u001b[0m\n\u001b[1;32m    278\u001b[0m     \u001b[38;5;124m\"\u001b[39m\u001b[38;5;124minfer\u001b[39m\u001b[38;5;124m\"\u001b[39m: infer,\n\u001b[1;32m    279\u001b[0m }\n\u001b[1;32m    280\u001b[0m \u001b[38;5;66;03m# apply the stack and return its return value\u001b[39;00m\n\u001b[0;32m--> 281\u001b[0m \u001b[43mapply_stack\u001b[49m\u001b[43m(\u001b[49m\u001b[43mmsg\u001b[49m\u001b[43m)\u001b[49m\n\u001b[1;32m    282\u001b[0m \u001b[38;5;28;01mreturn\u001b[39;00m msg[\u001b[38;5;124m\"\u001b[39m\u001b[38;5;124mvalue\u001b[39m\u001b[38;5;124m\"\u001b[39m]\n",
      "File \u001b[0;32m~/.local/lib/python3.10/site-packages/pyro/poutine/runtime.py:212\u001b[0m, in \u001b[0;36mapply_stack\u001b[0;34m(initial_msg)\u001b[0m\n\u001b[1;32m    209\u001b[0m \u001b[38;5;28;01mfor\u001b[39;00m frame \u001b[38;5;129;01min\u001b[39;00m \u001b[38;5;28mreversed\u001b[39m(stack):\n\u001b[1;32m    210\u001b[0m     pointer \u001b[38;5;241m=\u001b[39m pointer \u001b[38;5;241m+\u001b[39m \u001b[38;5;241m1\u001b[39m\n\u001b[0;32m--> 212\u001b[0m     \u001b[43mframe\u001b[49m\u001b[38;5;241;43m.\u001b[39;49m\u001b[43m_process_message\u001b[49m\u001b[43m(\u001b[49m\u001b[43mmsg\u001b[49m\u001b[43m)\u001b[49m\n\u001b[1;32m    214\u001b[0m     \u001b[38;5;28;01mif\u001b[39;00m msg[\u001b[38;5;124m\"\u001b[39m\u001b[38;5;124mstop\u001b[39m\u001b[38;5;124m\"\u001b[39m]:\n\u001b[1;32m    215\u001b[0m         \u001b[38;5;28;01mbreak\u001b[39;00m\n",
      "File \u001b[0;32m~/.local/lib/python3.10/site-packages/pyro/poutine/messenger.py:162\u001b[0m, in \u001b[0;36mMessenger._process_message\u001b[0;34m(self, msg)\u001b[0m\n\u001b[1;32m    160\u001b[0m method \u001b[38;5;241m=\u001b[39m \u001b[38;5;28mgetattr\u001b[39m(\u001b[38;5;28mself\u001b[39m, \u001b[38;5;124m\"\u001b[39m\u001b[38;5;124m_pyro_\u001b[39m\u001b[38;5;132;01m{}\u001b[39;00m\u001b[38;5;124m\"\u001b[39m\u001b[38;5;241m.\u001b[39mformat(msg[\u001b[38;5;124m\"\u001b[39m\u001b[38;5;124mtype\u001b[39m\u001b[38;5;124m\"\u001b[39m]), \u001b[38;5;28;01mNone\u001b[39;00m)\n\u001b[1;32m    161\u001b[0m \u001b[38;5;28;01mif\u001b[39;00m method \u001b[38;5;129;01mis\u001b[39;00m \u001b[38;5;129;01mnot\u001b[39;00m \u001b[38;5;28;01mNone\u001b[39;00m:\n\u001b[0;32m--> 162\u001b[0m     \u001b[38;5;28;01mreturn\u001b[39;00m \u001b[43mmethod\u001b[49m\u001b[43m(\u001b[49m\u001b[43mmsg\u001b[49m\u001b[43m)\u001b[49m\n\u001b[1;32m    163\u001b[0m \u001b[38;5;28;01mreturn\u001b[39;00m \u001b[38;5;28;01mNone\u001b[39;00m\n",
      "File \u001b[0;32m~/s78projects/chirho/chirho/dynamical/handlers/solver.py:60\u001b[0m, in \u001b[0;36mTorchDiffEq._pyro_simulate_to_interruption\u001b[0;34m(self, msg)\u001b[0m\n\u001b[1;32m     58\u001b[0m interruptions, dynamics, initial_state, start_time, end_time \u001b[38;5;241m=\u001b[39m msg[\u001b[38;5;124m\"\u001b[39m\u001b[38;5;124margs\u001b[39m\u001b[38;5;124m\"\u001b[39m]\n\u001b[1;32m     59\u001b[0m msg[\u001b[38;5;124m\"\u001b[39m\u001b[38;5;124mkwargs\u001b[39m\u001b[38;5;124m\"\u001b[39m]\u001b[38;5;241m.\u001b[39mupdate(\u001b[38;5;28mself\u001b[39m\u001b[38;5;241m.\u001b[39modeint_kwargs)\n\u001b[0;32m---> 60\u001b[0m msg[\u001b[38;5;124m\"\u001b[39m\u001b[38;5;124mvalue\u001b[39m\u001b[38;5;124m\"\u001b[39m] \u001b[38;5;241m=\u001b[39m \u001b[43mtorchdiffeq_simulate_to_interruption\u001b[49m\u001b[43m(\u001b[49m\n\u001b[1;32m     61\u001b[0m \u001b[43m    \u001b[49m\u001b[43minterruptions\u001b[49m\u001b[43m,\u001b[49m\n\u001b[1;32m     62\u001b[0m \u001b[43m    \u001b[49m\u001b[43mdynamics\u001b[49m\u001b[43m,\u001b[49m\n\u001b[1;32m     63\u001b[0m \u001b[43m    \u001b[49m\u001b[43minitial_state\u001b[49m\u001b[43m,\u001b[49m\n\u001b[1;32m     64\u001b[0m \u001b[43m    \u001b[49m\u001b[43mstart_time\u001b[49m\u001b[43m,\u001b[49m\n\u001b[1;32m     65\u001b[0m \u001b[43m    \u001b[49m\u001b[43mend_time\u001b[49m\u001b[43m,\u001b[49m\n\u001b[1;32m     66\u001b[0m \u001b[43m    \u001b[49m\u001b[38;5;241;43m*\u001b[39;49m\u001b[38;5;241;43m*\u001b[39;49m\u001b[43mmsg\u001b[49m\u001b[43m[\u001b[49m\u001b[38;5;124;43m\"\u001b[39;49m\u001b[38;5;124;43mkwargs\u001b[39;49m\u001b[38;5;124;43m\"\u001b[39;49m\u001b[43m]\u001b[49m\u001b[43m,\u001b[49m\n\u001b[1;32m     67\u001b[0m \u001b[43m\u001b[49m\u001b[43m)\u001b[49m\n\u001b[1;32m     68\u001b[0m msg[\u001b[38;5;124m\"\u001b[39m\u001b[38;5;124mdone\u001b[39m\u001b[38;5;124m\"\u001b[39m] \u001b[38;5;241m=\u001b[39m \u001b[38;5;28;01mTrue\u001b[39;00m\n",
      "File \u001b[0;32m~/s78projects/chirho/chirho/dynamical/internals/backends/torchdiffeq.py:257\u001b[0m, in \u001b[0;36mtorchdiffeq_simulate_to_interruption\u001b[0;34m(interruptions, dynamics, initial_state, start_time, end_time, **kwargs)\u001b[0m\n\u001b[1;32m    251\u001b[0m     interruptions\u001b[38;5;241m.\u001b[39mappend(StaticInterruption(end_time))\n\u001b[1;32m    253\u001b[0m (next_interruption,), interruption_time \u001b[38;5;241m=\u001b[39m _torchdiffeq_get_next_interruptions(\n\u001b[1;32m    254\u001b[0m     dynamics, initial_state, start_time, interruptions, \u001b[38;5;241m*\u001b[39m\u001b[38;5;241m*\u001b[39mkwargs\n\u001b[1;32m    255\u001b[0m )\n\u001b[0;32m--> 257\u001b[0m value \u001b[38;5;241m=\u001b[39m \u001b[43msimulate_point\u001b[49m\u001b[43m(\u001b[49m\n\u001b[1;32m    258\u001b[0m \u001b[43m    \u001b[49m\u001b[43mdynamics\u001b[49m\u001b[43m,\u001b[49m\u001b[43m \u001b[49m\u001b[43minitial_state\u001b[49m\u001b[43m,\u001b[49m\u001b[43m \u001b[49m\u001b[43mstart_time\u001b[49m\u001b[43m,\u001b[49m\u001b[43m \u001b[49m\u001b[43minterruption_time\u001b[49m\u001b[43m,\u001b[49m\u001b[43m \u001b[49m\u001b[38;5;241;43m*\u001b[39;49m\u001b[38;5;241;43m*\u001b[39;49m\u001b[43mkwargs\u001b[49m\n\u001b[1;32m    259\u001b[0m \u001b[43m\u001b[49m\u001b[43m)\u001b[49m\n\u001b[1;32m    260\u001b[0m \u001b[38;5;28;01mreturn\u001b[39;00m value, interruption_time, next_interruption\n",
      "File \u001b[0;32m~/.local/lib/python3.10/site-packages/pyro/poutine/runtime.py:281\u001b[0m, in \u001b[0;36meffectful.<locals>._fn\u001b[0;34m(*args, **kwargs)\u001b[0m\n\u001b[1;32m    264\u001b[0m msg \u001b[38;5;241m=\u001b[39m {\n\u001b[1;32m    265\u001b[0m     \u001b[38;5;124m\"\u001b[39m\u001b[38;5;124mtype\u001b[39m\u001b[38;5;124m\"\u001b[39m: \u001b[38;5;28mtype\u001b[39m,\n\u001b[1;32m    266\u001b[0m     \u001b[38;5;124m\"\u001b[39m\u001b[38;5;124mname\u001b[39m\u001b[38;5;124m\"\u001b[39m: name,\n\u001b[0;32m   (...)\u001b[0m\n\u001b[1;32m    278\u001b[0m     \u001b[38;5;124m\"\u001b[39m\u001b[38;5;124minfer\u001b[39m\u001b[38;5;124m\"\u001b[39m: infer,\n\u001b[1;32m    279\u001b[0m }\n\u001b[1;32m    280\u001b[0m \u001b[38;5;66;03m# apply the stack and return its return value\u001b[39;00m\n\u001b[0;32m--> 281\u001b[0m \u001b[43mapply_stack\u001b[49m\u001b[43m(\u001b[49m\u001b[43mmsg\u001b[49m\u001b[43m)\u001b[49m\n\u001b[1;32m    282\u001b[0m \u001b[38;5;28;01mreturn\u001b[39;00m msg[\u001b[38;5;124m\"\u001b[39m\u001b[38;5;124mvalue\u001b[39m\u001b[38;5;124m\"\u001b[39m]\n",
      "File \u001b[0;32m~/.local/lib/python3.10/site-packages/pyro/poutine/runtime.py:212\u001b[0m, in \u001b[0;36mapply_stack\u001b[0;34m(initial_msg)\u001b[0m\n\u001b[1;32m    209\u001b[0m \u001b[38;5;28;01mfor\u001b[39;00m frame \u001b[38;5;129;01min\u001b[39;00m \u001b[38;5;28mreversed\u001b[39m(stack):\n\u001b[1;32m    210\u001b[0m     pointer \u001b[38;5;241m=\u001b[39m pointer \u001b[38;5;241m+\u001b[39m \u001b[38;5;241m1\u001b[39m\n\u001b[0;32m--> 212\u001b[0m     \u001b[43mframe\u001b[49m\u001b[38;5;241;43m.\u001b[39;49m\u001b[43m_process_message\u001b[49m\u001b[43m(\u001b[49m\u001b[43mmsg\u001b[49m\u001b[43m)\u001b[49m\n\u001b[1;32m    214\u001b[0m     \u001b[38;5;28;01mif\u001b[39;00m msg[\u001b[38;5;124m\"\u001b[39m\u001b[38;5;124mstop\u001b[39m\u001b[38;5;124m\"\u001b[39m]:\n\u001b[1;32m    215\u001b[0m         \u001b[38;5;28;01mbreak\u001b[39;00m\n",
      "File \u001b[0;32m~/.local/lib/python3.10/site-packages/pyro/poutine/messenger.py:162\u001b[0m, in \u001b[0;36mMessenger._process_message\u001b[0;34m(self, msg)\u001b[0m\n\u001b[1;32m    160\u001b[0m method \u001b[38;5;241m=\u001b[39m \u001b[38;5;28mgetattr\u001b[39m(\u001b[38;5;28mself\u001b[39m, \u001b[38;5;124m\"\u001b[39m\u001b[38;5;124m_pyro_\u001b[39m\u001b[38;5;132;01m{}\u001b[39;00m\u001b[38;5;124m\"\u001b[39m\u001b[38;5;241m.\u001b[39mformat(msg[\u001b[38;5;124m\"\u001b[39m\u001b[38;5;124mtype\u001b[39m\u001b[38;5;124m\"\u001b[39m]), \u001b[38;5;28;01mNone\u001b[39;00m)\n\u001b[1;32m    161\u001b[0m \u001b[38;5;28;01mif\u001b[39;00m method \u001b[38;5;129;01mis\u001b[39;00m \u001b[38;5;129;01mnot\u001b[39;00m \u001b[38;5;28;01mNone\u001b[39;00m:\n\u001b[0;32m--> 162\u001b[0m     \u001b[38;5;28;01mreturn\u001b[39;00m \u001b[43mmethod\u001b[49m\u001b[43m(\u001b[49m\u001b[43mmsg\u001b[49m\u001b[43m)\u001b[49m\n\u001b[1;32m    163\u001b[0m \u001b[38;5;28;01mreturn\u001b[39;00m \u001b[38;5;28;01mNone\u001b[39;00m\n",
      "File \u001b[0;32m~/s78projects/chirho/chirho/dynamical/handlers/trajectory.py:42\u001b[0m, in \u001b[0;36mLogTrajectory._pyro_simulate_point\u001b[0;34m(self, msg)\u001b[0m\n\u001b[1;32m     37\u001b[0m timespan \u001b[38;5;241m=\u001b[39m torch\u001b[38;5;241m.\u001b[39mconcat(\n\u001b[1;32m     38\u001b[0m     (start_time\u001b[38;5;241m.\u001b[39munsqueeze(\u001b[38;5;241m-\u001b[39m\u001b[38;5;241m1\u001b[39m), filtered_timespan, end_time\u001b[38;5;241m.\u001b[39munsqueeze(\u001b[38;5;241m-\u001b[39m\u001b[38;5;241m1\u001b[39m))\n\u001b[1;32m     39\u001b[0m )\n\u001b[1;32m     41\u001b[0m \u001b[38;5;28;01mwith\u001b[39;00m pyro\u001b[38;5;241m.\u001b[39mpoutine\u001b[38;5;241m.\u001b[39mmessenger\u001b[38;5;241m.\u001b[39mblock_messengers(\u001b[38;5;28;01mlambda\u001b[39;00m m: m \u001b[38;5;129;01mis\u001b[39;00m \u001b[38;5;28mself\u001b[39m):\n\u001b[0;32m---> 42\u001b[0m     trajectory \u001b[38;5;241m=\u001b[39m \u001b[43msimulate_trajectory\u001b[49m\u001b[43m(\u001b[49m\n\u001b[1;32m     43\u001b[0m \u001b[43m        \u001b[49m\u001b[43mdynamics\u001b[49m\u001b[43m,\u001b[49m\u001b[43m \u001b[49m\u001b[43minitial_state\u001b[49m\u001b[43m,\u001b[49m\u001b[43m \u001b[49m\u001b[43mtimespan\u001b[49m\u001b[43m,\u001b[49m\u001b[43m \u001b[49m\u001b[38;5;241;43m*\u001b[39;49m\u001b[38;5;241;43m*\u001b[39;49m\u001b[43mmsg\u001b[49m\u001b[43m[\u001b[49m\u001b[38;5;124;43m\"\u001b[39;49m\u001b[38;5;124;43mkwargs\u001b[39;49m\u001b[38;5;124;43m\"\u001b[39;49m\u001b[43m]\u001b[49m\n\u001b[1;32m     44\u001b[0m \u001b[43m    \u001b[49m\u001b[43m)\u001b[49m\n\u001b[1;32m     46\u001b[0m \u001b[38;5;66;03m# TODO support dim != -1\u001b[39;00m\n\u001b[1;32m     47\u001b[0m idx_name \u001b[38;5;241m=\u001b[39m \u001b[38;5;124m\"\u001b[39m\u001b[38;5;124m__time\u001b[39m\u001b[38;5;124m\"\u001b[39m\n",
      "File \u001b[0;32m~/.local/lib/python3.10/site-packages/pyro/poutine/runtime.py:281\u001b[0m, in \u001b[0;36meffectful.<locals>._fn\u001b[0;34m(*args, **kwargs)\u001b[0m\n\u001b[1;32m    264\u001b[0m msg \u001b[38;5;241m=\u001b[39m {\n\u001b[1;32m    265\u001b[0m     \u001b[38;5;124m\"\u001b[39m\u001b[38;5;124mtype\u001b[39m\u001b[38;5;124m\"\u001b[39m: \u001b[38;5;28mtype\u001b[39m,\n\u001b[1;32m    266\u001b[0m     \u001b[38;5;124m\"\u001b[39m\u001b[38;5;124mname\u001b[39m\u001b[38;5;124m\"\u001b[39m: name,\n\u001b[0;32m   (...)\u001b[0m\n\u001b[1;32m    278\u001b[0m     \u001b[38;5;124m\"\u001b[39m\u001b[38;5;124minfer\u001b[39m\u001b[38;5;124m\"\u001b[39m: infer,\n\u001b[1;32m    279\u001b[0m }\n\u001b[1;32m    280\u001b[0m \u001b[38;5;66;03m# apply the stack and return its return value\u001b[39;00m\n\u001b[0;32m--> 281\u001b[0m \u001b[43mapply_stack\u001b[49m\u001b[43m(\u001b[49m\u001b[43mmsg\u001b[49m\u001b[43m)\u001b[49m\n\u001b[1;32m    282\u001b[0m \u001b[38;5;28;01mreturn\u001b[39;00m msg[\u001b[38;5;124m\"\u001b[39m\u001b[38;5;124mvalue\u001b[39m\u001b[38;5;124m\"\u001b[39m]\n",
      "File \u001b[0;32m~/.local/lib/python3.10/site-packages/pyro/poutine/runtime.py:212\u001b[0m, in \u001b[0;36mapply_stack\u001b[0;34m(initial_msg)\u001b[0m\n\u001b[1;32m    209\u001b[0m \u001b[38;5;28;01mfor\u001b[39;00m frame \u001b[38;5;129;01min\u001b[39;00m \u001b[38;5;28mreversed\u001b[39m(stack):\n\u001b[1;32m    210\u001b[0m     pointer \u001b[38;5;241m=\u001b[39m pointer \u001b[38;5;241m+\u001b[39m \u001b[38;5;241m1\u001b[39m\n\u001b[0;32m--> 212\u001b[0m     \u001b[43mframe\u001b[49m\u001b[38;5;241;43m.\u001b[39;49m\u001b[43m_process_message\u001b[49m\u001b[43m(\u001b[49m\u001b[43mmsg\u001b[49m\u001b[43m)\u001b[49m\n\u001b[1;32m    214\u001b[0m     \u001b[38;5;28;01mif\u001b[39;00m msg[\u001b[38;5;124m\"\u001b[39m\u001b[38;5;124mstop\u001b[39m\u001b[38;5;124m\"\u001b[39m]:\n\u001b[1;32m    215\u001b[0m         \u001b[38;5;28;01mbreak\u001b[39;00m\n",
      "File \u001b[0;32m~/.local/lib/python3.10/site-packages/pyro/poutine/messenger.py:162\u001b[0m, in \u001b[0;36mMessenger._process_message\u001b[0;34m(self, msg)\u001b[0m\n\u001b[1;32m    160\u001b[0m method \u001b[38;5;241m=\u001b[39m \u001b[38;5;28mgetattr\u001b[39m(\u001b[38;5;28mself\u001b[39m, \u001b[38;5;124m\"\u001b[39m\u001b[38;5;124m_pyro_\u001b[39m\u001b[38;5;132;01m{}\u001b[39;00m\u001b[38;5;124m\"\u001b[39m\u001b[38;5;241m.\u001b[39mformat(msg[\u001b[38;5;124m\"\u001b[39m\u001b[38;5;124mtype\u001b[39m\u001b[38;5;124m\"\u001b[39m]), \u001b[38;5;28;01mNone\u001b[39;00m)\n\u001b[1;32m    161\u001b[0m \u001b[38;5;28;01mif\u001b[39;00m method \u001b[38;5;129;01mis\u001b[39;00m \u001b[38;5;129;01mnot\u001b[39;00m \u001b[38;5;28;01mNone\u001b[39;00m:\n\u001b[0;32m--> 162\u001b[0m     \u001b[38;5;28;01mreturn\u001b[39;00m \u001b[43mmethod\u001b[49m\u001b[43m(\u001b[49m\u001b[43mmsg\u001b[49m\u001b[43m)\u001b[49m\n\u001b[1;32m    163\u001b[0m \u001b[38;5;28;01mreturn\u001b[39;00m \u001b[38;5;28;01mNone\u001b[39;00m\n",
      "File \u001b[0;32m~/s78projects/chirho/chirho/dynamical/handlers/solver.py:48\u001b[0m, in \u001b[0;36mTorchDiffEq._pyro_simulate_trajectory\u001b[0;34m(self, msg)\u001b[0m\n\u001b[1;32m     45\u001b[0m dynamics, initial_state, timespan \u001b[38;5;241m=\u001b[39m msg[\u001b[38;5;124m\"\u001b[39m\u001b[38;5;124margs\u001b[39m\u001b[38;5;124m\"\u001b[39m]\n\u001b[1;32m     46\u001b[0m msg[\u001b[38;5;124m\"\u001b[39m\u001b[38;5;124mkwargs\u001b[39m\u001b[38;5;124m\"\u001b[39m]\u001b[38;5;241m.\u001b[39mupdate(\u001b[38;5;28mself\u001b[39m\u001b[38;5;241m.\u001b[39modeint_kwargs)\n\u001b[0;32m---> 48\u001b[0m msg[\u001b[38;5;124m\"\u001b[39m\u001b[38;5;124mvalue\u001b[39m\u001b[38;5;124m\"\u001b[39m] \u001b[38;5;241m=\u001b[39m \u001b[43mtorchdiffeq_simulate_trajectory\u001b[49m\u001b[43m(\u001b[49m\n\u001b[1;32m     49\u001b[0m \u001b[43m    \u001b[49m\u001b[43mdynamics\u001b[49m\u001b[43m,\u001b[49m\u001b[43m \u001b[49m\u001b[43minitial_state\u001b[49m\u001b[43m,\u001b[49m\u001b[43m \u001b[49m\u001b[43mtimespan\u001b[49m\u001b[43m,\u001b[49m\u001b[43m \u001b[49m\u001b[38;5;241;43m*\u001b[39;49m\u001b[38;5;241;43m*\u001b[39;49m\u001b[43mmsg\u001b[49m\u001b[43m[\u001b[49m\u001b[38;5;124;43m\"\u001b[39;49m\u001b[38;5;124;43mkwargs\u001b[39;49m\u001b[38;5;124;43m\"\u001b[39;49m\u001b[43m]\u001b[49m\n\u001b[1;32m     50\u001b[0m \u001b[43m\u001b[49m\u001b[43m)\u001b[49m\n\u001b[1;32m     51\u001b[0m msg[\u001b[38;5;124m\"\u001b[39m\u001b[38;5;124mdone\u001b[39m\u001b[38;5;124m\"\u001b[39m] \u001b[38;5;241m=\u001b[39m \u001b[38;5;28;01mTrue\u001b[39;00m\n",
      "File \u001b[0;32m~/s78projects/chirho/chirho/dynamical/internals/backends/torchdiffeq.py:174\u001b[0m, in \u001b[0;36mtorchdiffeq_simulate_trajectory\u001b[0;34m(dynamics, initial_state, timespan, **kwargs)\u001b[0m\n\u001b[1;32m    168\u001b[0m \u001b[38;5;28;01mdef\u001b[39;00m \u001b[38;5;21mtorchdiffeq_simulate_trajectory\u001b[39m(\n\u001b[1;32m    169\u001b[0m     dynamics: Dynamics[torch\u001b[38;5;241m.\u001b[39mTensor],\n\u001b[1;32m    170\u001b[0m     initial_state: State[torch\u001b[38;5;241m.\u001b[39mTensor],\n\u001b[1;32m    171\u001b[0m     timespan: torch\u001b[38;5;241m.\u001b[39mTensor,\n\u001b[1;32m    172\u001b[0m     \u001b[38;5;241m*\u001b[39m\u001b[38;5;241m*\u001b[39mkwargs,\n\u001b[1;32m    173\u001b[0m ) \u001b[38;5;241m-\u001b[39m\u001b[38;5;241m>\u001b[39m State[torch\u001b[38;5;241m.\u001b[39mTensor]:\n\u001b[0;32m--> 174\u001b[0m     \u001b[38;5;28;01mreturn\u001b[39;00m \u001b[43m_torchdiffeq_ode_simulate_inner\u001b[49m\u001b[43m(\u001b[49m\u001b[43mdynamics\u001b[49m\u001b[43m,\u001b[49m\u001b[43m \u001b[49m\u001b[43minitial_state\u001b[49m\u001b[43m,\u001b[49m\u001b[43m \u001b[49m\u001b[43mtimespan\u001b[49m\u001b[43m,\u001b[49m\u001b[43m \u001b[49m\u001b[38;5;241;43m*\u001b[39;49m\u001b[38;5;241;43m*\u001b[39;49m\u001b[43mkwargs\u001b[49m\u001b[43m)\u001b[49m\n",
      "File \u001b[0;32m~/s78projects/chirho/chirho/dynamical/internals/backends/torchdiffeq.py:76\u001b[0m, in \u001b[0;36m_torchdiffeq_ode_simulate_inner\u001b[0;34m(dynamics, initial_state, timespan, **odeint_kwargs)\u001b[0m\n\u001b[1;32m     73\u001b[0m time_dim \u001b[38;5;241m=\u001b[39m \u001b[38;5;241m-\u001b[39m\u001b[38;5;241m1\u001b[39m\n\u001b[1;32m     75\u001b[0m \u001b[38;5;28;01mif\u001b[39;00m torch\u001b[38;5;241m.\u001b[39many(diff):\n\u001b[0;32m---> 76\u001b[0m     solns \u001b[38;5;241m=\u001b[39m \u001b[43m_batched_odeint\u001b[49m\u001b[43m(\u001b[49m\u001b[43m  \u001b[49m\u001b[38;5;66;43;03m# torchdiffeq.odeint(\u001b[39;49;00m\n\u001b[1;32m     77\u001b[0m \u001b[43m        \u001b[49m\u001b[43mfunctools\u001b[49m\u001b[38;5;241;43m.\u001b[39;49m\u001b[43mpartial\u001b[49m\u001b[43m(\u001b[49m\u001b[43m_deriv\u001b[49m\u001b[43m,\u001b[49m\u001b[43m \u001b[49m\u001b[43mdynamics\u001b[49m\u001b[43m,\u001b[49m\u001b[43m \u001b[49m\u001b[43mvar_order\u001b[49m\u001b[43m)\u001b[49m\u001b[43m,\u001b[49m\n\u001b[1;32m     78\u001b[0m \u001b[43m        \u001b[49m\u001b[38;5;28;43mtuple\u001b[39;49m\u001b[43m(\u001b[49m\u001b[43minitial_state\u001b[49m\u001b[43m[\u001b[49m\u001b[43mv\u001b[49m\u001b[43m]\u001b[49m\u001b[43m \u001b[49m\u001b[38;5;28;43;01mfor\u001b[39;49;00m\u001b[43m \u001b[49m\u001b[43mv\u001b[49m\u001b[43m \u001b[49m\u001b[38;5;129;43;01min\u001b[39;49;00m\u001b[43m \u001b[49m\u001b[43mvar_order\u001b[49m\u001b[43m)\u001b[49m\u001b[43m,\u001b[49m\n\u001b[1;32m     79\u001b[0m \u001b[43m        \u001b[49m\u001b[43mtimespan_\u001b[49m\u001b[43m,\u001b[49m\n\u001b[1;32m     80\u001b[0m \u001b[43m        \u001b[49m\u001b[38;5;241;43m*\u001b[39;49m\u001b[38;5;241;43m*\u001b[39;49m\u001b[43modeint_kwargs\u001b[49m\u001b[43m,\u001b[49m\n\u001b[1;32m     81\u001b[0m \u001b[43m    \u001b[49m\u001b[43m)\u001b[49m\n\u001b[1;32m     82\u001b[0m \u001b[38;5;28;01melse\u001b[39;00m:\n\u001b[1;32m     83\u001b[0m     solns \u001b[38;5;241m=\u001b[39m \u001b[38;5;28mtuple\u001b[39m(initial_state[v]\u001b[38;5;241m.\u001b[39munsqueeze(time_dim) \u001b[38;5;28;01mfor\u001b[39;00m v \u001b[38;5;129;01min\u001b[39;00m var_order)\n",
      "File \u001b[0;32m~/s78projects/chirho/chirho/dynamical/internals/backends/torchdiffeq.py:132\u001b[0m, in \u001b[0;36m_batched_odeint\u001b[0;34m(func, y0, t, event_fn, **odeint_kwargs)\u001b[0m\n\u001b[1;32m    128\u001b[0m     event_t, yt_raw \u001b[38;5;241m=\u001b[39m torchdiffeq\u001b[38;5;241m.\u001b[39modeint_event(\n\u001b[1;32m    129\u001b[0m         func, y0_expanded, t, event_fn\u001b[38;5;241m=\u001b[39mevent_fn, \u001b[38;5;241m*\u001b[39m\u001b[38;5;241m*\u001b[39modeint_kwargs\n\u001b[1;32m    130\u001b[0m     )\n\u001b[1;32m    131\u001b[0m \u001b[38;5;28;01melse\u001b[39;00m:\n\u001b[0;32m--> 132\u001b[0m     yt_raw \u001b[38;5;241m=\u001b[39m \u001b[43mtorchdiffeq\u001b[49m\u001b[38;5;241;43m.\u001b[39;49m\u001b[43modeint\u001b[49m\u001b[43m(\u001b[49m\u001b[43mfunc\u001b[49m\u001b[43m,\u001b[49m\u001b[43m \u001b[49m\u001b[43my0_expanded\u001b[49m\u001b[43m,\u001b[49m\u001b[43m \u001b[49m\u001b[43mt\u001b[49m\u001b[43m,\u001b[49m\u001b[43m \u001b[49m\u001b[38;5;241;43m*\u001b[39;49m\u001b[38;5;241;43m*\u001b[39;49m\u001b[43modeint_kwargs\u001b[49m\u001b[43m)\u001b[49m\n\u001b[1;32m    134\u001b[0m yt \u001b[38;5;241m=\u001b[39m \u001b[38;5;28mtuple\u001b[39m(\n\u001b[1;32m    135\u001b[0m     torch\u001b[38;5;241m.\u001b[39mtranspose(\n\u001b[1;32m    136\u001b[0m         yt_[(\u001b[38;5;241m.\u001b[39m\u001b[38;5;241m.\u001b[39m\u001b[38;5;241m.\u001b[39m, \u001b[38;5;28;01mNone\u001b[39;00m) \u001b[38;5;241m+\u001b[39m yt_\u001b[38;5;241m.\u001b[39mshape[\u001b[38;5;28mlen\u001b[39m(yt_\u001b[38;5;241m.\u001b[39mshape) \u001b[38;5;241m-\u001b[39m event_dim :]],\n\u001b[0;32m   (...)\u001b[0m\n\u001b[1;32m    140\u001b[0m     \u001b[38;5;28;01mfor\u001b[39;00m yt_ \u001b[38;5;129;01min\u001b[39;00m yt_raw\n\u001b[1;32m    141\u001b[0m )\n\u001b[1;32m    142\u001b[0m \u001b[38;5;28;01mreturn\u001b[39;00m yt \u001b[38;5;28;01mif\u001b[39;00m event_fn \u001b[38;5;129;01mis\u001b[39;00m \u001b[38;5;28;01mNone\u001b[39;00m \u001b[38;5;28;01melse\u001b[39;00m (event_t, yt)\n",
      "File \u001b[0;32m~/miniconda3/envs/collab/lib/python3.10/site-packages/torchdiffeq/_impl/odeint.py:77\u001b[0m, in \u001b[0;36modeint\u001b[0;34m(func, y0, t, rtol, atol, method, options, event_fn)\u001b[0m\n\u001b[1;32m     74\u001b[0m solver \u001b[38;5;241m=\u001b[39m SOLVERS[method](func\u001b[38;5;241m=\u001b[39mfunc, y0\u001b[38;5;241m=\u001b[39my0, rtol\u001b[38;5;241m=\u001b[39mrtol, atol\u001b[38;5;241m=\u001b[39matol, \u001b[38;5;241m*\u001b[39m\u001b[38;5;241m*\u001b[39moptions)\n\u001b[1;32m     76\u001b[0m \u001b[38;5;28;01mif\u001b[39;00m event_fn \u001b[38;5;129;01mis\u001b[39;00m \u001b[38;5;28;01mNone\u001b[39;00m:\n\u001b[0;32m---> 77\u001b[0m     solution \u001b[38;5;241m=\u001b[39m \u001b[43msolver\u001b[49m\u001b[38;5;241;43m.\u001b[39;49m\u001b[43mintegrate\u001b[49m\u001b[43m(\u001b[49m\u001b[43mt\u001b[49m\u001b[43m)\u001b[49m\n\u001b[1;32m     78\u001b[0m \u001b[38;5;28;01melse\u001b[39;00m:\n\u001b[1;32m     79\u001b[0m     event_t, solution \u001b[38;5;241m=\u001b[39m solver\u001b[38;5;241m.\u001b[39mintegrate_until_event(t[\u001b[38;5;241m0\u001b[39m], event_fn)\n",
      "File \u001b[0;32m~/miniconda3/envs/collab/lib/python3.10/site-packages/torchdiffeq/_impl/solvers.py:30\u001b[0m, in \u001b[0;36mAdaptiveStepsizeODESolver.integrate\u001b[0;34m(self, t)\u001b[0m\n\u001b[1;32m     28\u001b[0m \u001b[38;5;28mself\u001b[39m\u001b[38;5;241m.\u001b[39m_before_integrate(t)\n\u001b[1;32m     29\u001b[0m \u001b[38;5;28;01mfor\u001b[39;00m i \u001b[38;5;129;01min\u001b[39;00m \u001b[38;5;28mrange\u001b[39m(\u001b[38;5;241m1\u001b[39m, \u001b[38;5;28mlen\u001b[39m(t)):\n\u001b[0;32m---> 30\u001b[0m     solution[i] \u001b[38;5;241m=\u001b[39m \u001b[38;5;28;43mself\u001b[39;49m\u001b[38;5;241;43m.\u001b[39;49m\u001b[43m_advance\u001b[49m\u001b[43m(\u001b[49m\u001b[43mt\u001b[49m\u001b[43m[\u001b[49m\u001b[43mi\u001b[49m\u001b[43m]\u001b[49m\u001b[43m)\u001b[49m\n\u001b[1;32m     31\u001b[0m \u001b[38;5;28;01mreturn\u001b[39;00m solution\n",
      "File \u001b[0;32m~/miniconda3/envs/collab/lib/python3.10/site-packages/torchdiffeq/_impl/rk_common.py:194\u001b[0m, in \u001b[0;36mRKAdaptiveStepsizeODESolver._advance\u001b[0;34m(self, next_t)\u001b[0m\n\u001b[1;32m    192\u001b[0m \u001b[38;5;28;01mwhile\u001b[39;00m next_t \u001b[38;5;241m>\u001b[39m \u001b[38;5;28mself\u001b[39m\u001b[38;5;241m.\u001b[39mrk_state\u001b[38;5;241m.\u001b[39mt1:\n\u001b[1;32m    193\u001b[0m     \u001b[38;5;28;01massert\u001b[39;00m n_steps \u001b[38;5;241m<\u001b[39m \u001b[38;5;28mself\u001b[39m\u001b[38;5;241m.\u001b[39mmax_num_steps, \u001b[38;5;124m'\u001b[39m\u001b[38;5;124mmax_num_steps exceeded (\u001b[39m\u001b[38;5;132;01m{}\u001b[39;00m\u001b[38;5;124m>=\u001b[39m\u001b[38;5;132;01m{}\u001b[39;00m\u001b[38;5;124m)\u001b[39m\u001b[38;5;124m'\u001b[39m\u001b[38;5;241m.\u001b[39mformat(n_steps, \u001b[38;5;28mself\u001b[39m\u001b[38;5;241m.\u001b[39mmax_num_steps)\n\u001b[0;32m--> 194\u001b[0m     \u001b[38;5;28mself\u001b[39m\u001b[38;5;241m.\u001b[39mrk_state \u001b[38;5;241m=\u001b[39m \u001b[38;5;28;43mself\u001b[39;49m\u001b[38;5;241;43m.\u001b[39;49m\u001b[43m_adaptive_step\u001b[49m\u001b[43m(\u001b[49m\u001b[38;5;28;43mself\u001b[39;49m\u001b[38;5;241;43m.\u001b[39;49m\u001b[43mrk_state\u001b[49m\u001b[43m)\u001b[49m\n\u001b[1;32m    195\u001b[0m     n_steps \u001b[38;5;241m+\u001b[39m\u001b[38;5;241m=\u001b[39m \u001b[38;5;241m1\u001b[39m\n\u001b[1;32m    196\u001b[0m \u001b[38;5;28;01mreturn\u001b[39;00m _interp_evaluate(\u001b[38;5;28mself\u001b[39m\u001b[38;5;241m.\u001b[39mrk_state\u001b[38;5;241m.\u001b[39minterp_coeff, \u001b[38;5;28mself\u001b[39m\u001b[38;5;241m.\u001b[39mrk_state\u001b[38;5;241m.\u001b[39mt0, \u001b[38;5;28mself\u001b[39m\u001b[38;5;241m.\u001b[39mrk_state\u001b[38;5;241m.\u001b[39mt1, next_t)\n",
      "File \u001b[0;32m~/miniconda3/envs/collab/lib/python3.10/site-packages/torchdiffeq/_impl/rk_common.py:228\u001b[0m, in \u001b[0;36mRKAdaptiveStepsizeODESolver._adaptive_step\u001b[0;34m(self, rk_state)\u001b[0m\n\u001b[1;32m    215\u001b[0m t1 \u001b[38;5;241m=\u001b[39m t0 \u001b[38;5;241m+\u001b[39m dt\n\u001b[1;32m    216\u001b[0m \u001b[38;5;66;03m# dtypes: self.y0.dtype (probably float32); self.dtype (probably float64)\u001b[39;00m\n\u001b[1;32m    217\u001b[0m \u001b[38;5;66;03m# used for state and timelike objects respectively.\u001b[39;00m\n\u001b[1;32m    218\u001b[0m \u001b[38;5;66;03m# Then:\u001b[39;00m\n\u001b[0;32m   (...)\u001b[0m\n\u001b[1;32m    226\u001b[0m \u001b[38;5;66;03m#                      Assertions                      #\u001b[39;00m\n\u001b[1;32m    227\u001b[0m \u001b[38;5;66;03m########################################################\u001b[39;00m\n\u001b[0;32m--> 228\u001b[0m \u001b[38;5;28;01massert\u001b[39;00m t0 \u001b[38;5;241m+\u001b[39m dt \u001b[38;5;241m>\u001b[39m t0, \u001b[38;5;124m'\u001b[39m\u001b[38;5;124munderflow in dt \u001b[39m\u001b[38;5;132;01m{}\u001b[39;00m\u001b[38;5;124m'\u001b[39m\u001b[38;5;241m.\u001b[39mformat(dt\u001b[38;5;241m.\u001b[39mitem())\n\u001b[1;32m    229\u001b[0m \u001b[38;5;28;01massert\u001b[39;00m torch\u001b[38;5;241m.\u001b[39misfinite(y0)\u001b[38;5;241m.\u001b[39mall(), \u001b[38;5;124m'\u001b[39m\u001b[38;5;124mnon-finite values in state `y`: \u001b[39m\u001b[38;5;132;01m{}\u001b[39;00m\u001b[38;5;124m'\u001b[39m\u001b[38;5;241m.\u001b[39mformat(y0)\n\u001b[1;32m    231\u001b[0m \u001b[38;5;66;03m########################################################\u001b[39;00m\n\u001b[1;32m    232\u001b[0m \u001b[38;5;66;03m#     Make step, respecting prescribed grid points     #\u001b[39;00m\n\u001b[1;32m    233\u001b[0m \u001b[38;5;66;03m########################################################\u001b[39;00m\n",
      "\u001b[0;31mAssertionError\u001b[0m: underflow in dt 2.5669613003574758e-14"
     ]
    }
   ],
   "source": [
    "prior_predictive = Predictive(simulated_bayesian_locust, num_samples=10)\n",
    "locust_prior_samples = prior_predictive(init_state, start_time, logging_times)"
   ]
  },
  {
   "cell_type": "code",
   "execution_count": 64,
   "metadata": {},
   "outputs": [],
   "source": [
    "def locust_uncertainty_plot(\n",
    "    time, state_pred, ylabel, color, ax, mean_label=\"posterior mean\"\n",
    "):\n",
    "\n",
    "    sns.lineplot(\n",
    "        x=time,\n",
    "        y=state_pred.mean(dim=0).squeeze().tolist(),\n",
    "        color=color,\n",
    "        label=mean_label,\n",
    "        ax=ax,\n",
    "    )\n",
    "    #95% Credible Interval\n",
    "    ax.fill_between(\n",
    "        time,\n",
    "        torch.quantile(state_pred, 0.025, dim=0).squeeze(),\n",
    "        torch.quantile(state_pred, 0.975, dim=0).squeeze(),\n",
    "        alpha=0.2,\n",
    "        color=color,\n",
    "        label=\"95% credible interval\",\n",
    "    )\n",
    "\n",
    "    ax.set_xlabel(\"time\")\n",
    "    ax.set_ylabel(ylabel)\n",
    "\n",
    "def locust_data_plot(time, data, data_label, ax):\n",
    "    sns.lineplot(\n",
    "        x=time, y=data, color=\"black\", ax=ax, linestyle=\"--\", label=data_label\n",
    "    )\n",
    "\n",
    "def locust_test_plot(test_start_time, test_end_time, ax):\n",
    "    ax.axvline(\n",
    "        test_start_time, color=\"black\", linestyle=\":\", label=\"measurement period\"\n",
    "    )\n",
    "    ax.axvline(test_end_time, color=\"black\", linestyle=\":\")\n",
    "\n",
    "\n",
    "def locust_plot(\n",
    "    time_period,\n",
    "    state_pred,\n",
    "    data,\n",
    "    ylabel,\n",
    "    color,\n",
    "    data_label,\n",
    "    ax,\n",
    "    legend=False,\n",
    "    test_plot=True,\n",
    "    test_start_time=start_time,\n",
    "    test_end_time=start_time,\n",
    "    mean_label=\"posterior mean\",\n",
    "):\n",
    "    locust_uncertainty_plot(\n",
    "        time_period, state_pred, ylabel, color, ax, mean_label=mean_label\n",
    "    )\n",
    "    locust_data_plot(time_period, data, data_label, ax)\n",
    "    if test_plot:\n",
    "        locust_test_plot(test_start_time, test_end_time, ax)\n",
    "    if legend:\n",
    "        ax.legend()\n",
    "    else:\n",
    "        ax.legend().remove()\n",
    "    sns.despine()"
   ]
  },
  {
   "cell_type": "code",
   "execution_count": 65,
   "metadata": {},
   "outputs": [
    {
     "data": {
      "image/png": "[encoded data removed]",
      "text/plain": [
       "<Figure size 1500x500 with 1 Axes>"
      ]
     },
     "metadata": {},
     "output_type": "display_data"
    }
   ],
   "source": [
    "state = \"edge_r\"\n",
    "color = \"green\"\n",
    "\n",
    "fig, ax = plt.subplots(1, 1, figsize=(15, 5))\n",
    "\n",
    "locust_plot(\n",
    "        logging_times,\n",
    "        locust_prior_samples[state],\n",
    "        locust_true_traj[state],\n",
    "        f\"# in {state}\",\n",
    "        color,\n",
    "        \"ground truth\",\n",
    "        ax,\n",
    "        legend=True,\n",
    "        test_plot=False,\n",
    "        mean_label=\"prior mean\",\n",
    "        )\n",
    "\n"
   ]
  },
  {
   "cell_type": "code",
   "execution_count": 66,
   "metadata": {},
   "outputs": [
    {
     "data": {
      "image/png": "[encoded data removed]",
      "text/plain": [
       "<Figure size 1500x500 with 6 Axes>"
      ]
     },
     "metadata": {},
     "output_type": "display_data"
    }
   ],
   "source": [
    "fig, ax = plt.subplots(2, 3, figsize=(15, 5))\n",
    "\n",
    "ax = ax.flatten()\n",
    "\n",
    "for i, state, color in zip(range(6),\n",
    "        [\"edge_l\", \"edge_r\", \"feed_l\", \"feed_r\", \"search_l\", \"search_r\"],\n",
    "        [\"green\", \"darkgreen\", \"red\", \"darkred\", \"orange\", \"darkorange\"],\n",
    "    ):\n",
    "        locust_plot(\n",
    "        logging_times,\n",
    "        locust_prior_samples[state],\n",
    "        locust_true_traj[state],\n",
    "        f\"# in {state}\",\n",
    "        color,\n",
    "        \"ground truth\",\n",
    "        ax[i],\n",
    "        legend=True,\n",
    "        test_plot=False,\n",
    "        mean_label=\"prior mean\",\n",
    "        )\n"
   ]
  },
  {
   "cell_type": "code",
   "execution_count": 68,
   "metadata": {},
   "outputs": [],
   "source": [
    "def conditioned_locust(\n",
    "    obs_times, data, init_state, start_time, base_model=LocustDynamics\n",
    ") -> None:\n",
    "    sir = bayesian_locust(base_model)\n",
    "    obs = condition(data=data)(locust_noisy_model)\n",
    "    with TorchDiffEq(), StaticBatchObservation(obs_times, observation=obs):\n",
    "        simulate(sir, init_state, start_time, obs_times[-1])\n",
    "\n",
    "\n",
    "def run_svi_inference(\n",
    "    model,\n",
    "    num_steps=num_steps,\n",
    "    verbose=True,\n",
    "    lr=0.03,\n",
    "    vi_family=AutoMultivariateNormal,\n",
    "    guide=None,\n",
    "    **model_kwargs\n",
    "):\n",
    "    if guide is None:\n",
    "        guide = vi_family(model)\n",
    "    elbo = pyro.infer.Trace_ELBO()(model, guide)\n",
    "    # initialize parameters\n",
    "    elbo(**model_kwargs)\n",
    "    adam = torch.optim.Adam(elbo.parameters(), lr=lr)\n",
    "    # Do gradient steps\n",
    "    for step in range(1, num_steps + 1):\n",
    "        adam.zero_grad()\n",
    "        loss = elbo(**model_kwargs)\n",
    "        loss.backward()\n",
    "        adam.step()\n",
    "        if (step % 100 == 0) or (step == 1) & verbose:\n",
    "            print(\"[iteration %04d] loss: %.4f\" % (step, loss))\n",
    "    return guide"
   ]
  },
  {
   "cell_type": "code",
   "execution_count": 69,
   "metadata": {},
   "outputs": [
    {
     "ename": "ValueError",
     "evalue": "Continuous inference cannot handle discrete sample site 'edge_r_obs'. Consider enumerating that variable as documented in https://pyro.ai/examples/enumeration.html . If you are already enumerating, take care to hide this site when constructing an autoguide, e.g. guide = AutoNormal(poutine.block(model, hide=['edge_r_obs'])).\nTrace Shapes:\n Param Sites:\nSample Sites:",
     "output_type": "error",
     "traceback": [
      "\u001b[0;31m---------------------------------------------------------------------------\u001b[0m",
      "\u001b[0;31mNotImplementedError\u001b[0m                       Traceback (most recent call last)",
      "File \u001b[0;32m~/.local/lib/python3.10/site-packages/pyro/infer/autoguide/utils.py:71\u001b[0m, in \u001b[0;36mhelpful_support_errors\u001b[0;34m(site)\u001b[0m\n\u001b[1;32m     70\u001b[0m \u001b[38;5;28;01mtry\u001b[39;00m:\n\u001b[0;32m---> 71\u001b[0m     \u001b[38;5;28;01myield\u001b[39;00m\n\u001b[1;32m     72\u001b[0m \u001b[38;5;28;01mexcept\u001b[39;00m \u001b[38;5;167;01mNotImplementedError\u001b[39;00m \u001b[38;5;28;01mas\u001b[39;00m e:\n",
      "File \u001b[0;32m~/.local/lib/python3.10/site-packages/pyro/infer/autoguide/guides.py:644\u001b[0m, in \u001b[0;36mAutoContinuous._setup_prototype\u001b[0;34m(self, *args, **kwargs)\u001b[0m\n\u001b[1;32m    642\u001b[0m \u001b[38;5;28;01mwith\u001b[39;00m helpful_support_errors(site):\n\u001b[1;32m    643\u001b[0m     \u001b[38;5;28mself\u001b[39m\u001b[38;5;241m.\u001b[39m_unconstrained_shapes[name] \u001b[38;5;241m=\u001b[39m (\n\u001b[0;32m--> 644\u001b[0m         \u001b[43mbiject_to\u001b[49m\u001b[43m(\u001b[49m\u001b[43msite\u001b[49m\u001b[43m[\u001b[49m\u001b[38;5;124;43m\"\u001b[39;49m\u001b[38;5;124;43mfn\u001b[39;49m\u001b[38;5;124;43m\"\u001b[39;49m\u001b[43m]\u001b[49m\u001b[38;5;241;43m.\u001b[39;49m\u001b[43msupport\u001b[49m\u001b[43m)\u001b[49m\u001b[38;5;241m.\u001b[39minv(site[\u001b[38;5;124m\"\u001b[39m\u001b[38;5;124mvalue\u001b[39m\u001b[38;5;124m\"\u001b[39m])\u001b[38;5;241m.\u001b[39mshape\n\u001b[1;32m    645\u001b[0m     )\n\u001b[1;32m    647\u001b[0m \u001b[38;5;66;03m# Collect independence contexts.\u001b[39;00m\n",
      "File \u001b[0;32m~/.local/lib/python3.10/site-packages/torch/distributions/constraint_registry.py:149\u001b[0m, in \u001b[0;36mConstraintRegistry.__call__\u001b[0;34m(self, constraint)\u001b[0m\n\u001b[1;32m    146\u001b[0m     \u001b[38;5;28;01mraise\u001b[39;00m \u001b[38;5;167;01mNotImplementedError\u001b[39;00m(\n\u001b[1;32m    147\u001b[0m         \u001b[38;5;124mf\u001b[39m\u001b[38;5;124m\"\u001b[39m\u001b[38;5;124mCannot transform \u001b[39m\u001b[38;5;132;01m{\u001b[39;00m\u001b[38;5;28mtype\u001b[39m(constraint)\u001b[38;5;241m.\u001b[39m\u001b[38;5;18m__name__\u001b[39m\u001b[38;5;132;01m}\u001b[39;00m\u001b[38;5;124m constraints\u001b[39m\u001b[38;5;124m\"\u001b[39m\n\u001b[1;32m    148\u001b[0m     ) \u001b[38;5;28;01mfrom\u001b[39;00m \u001b[38;5;28;01mNone\u001b[39;00m\n\u001b[0;32m--> 149\u001b[0m \u001b[38;5;28;01mreturn\u001b[39;00m \u001b[43mfactory\u001b[49m\u001b[43m(\u001b[49m\u001b[43mconstraint\u001b[49m\u001b[43m)\u001b[49m\n",
      "File \u001b[0;32m~/.local/lib/python3.10/site-packages/torch/distributions/constraint_registry.py:169\u001b[0m, in \u001b[0;36m_biject_to_independent\u001b[0;34m(constraint)\u001b[0m\n\u001b[1;32m    167\u001b[0m \u001b[38;5;129m@biject_to\u001b[39m\u001b[38;5;241m.\u001b[39mregister(constraints\u001b[38;5;241m.\u001b[39mindependent)\n\u001b[1;32m    168\u001b[0m \u001b[38;5;28;01mdef\u001b[39;00m \u001b[38;5;21m_biject_to_independent\u001b[39m(constraint):\n\u001b[0;32m--> 169\u001b[0m     base_transform \u001b[38;5;241m=\u001b[39m \u001b[43mbiject_to\u001b[49m\u001b[43m(\u001b[49m\u001b[43mconstraint\u001b[49m\u001b[38;5;241;43m.\u001b[39;49m\u001b[43mbase_constraint\u001b[49m\u001b[43m)\u001b[49m\n\u001b[1;32m    170\u001b[0m     \u001b[38;5;28;01mreturn\u001b[39;00m transforms\u001b[38;5;241m.\u001b[39mIndependentTransform(\n\u001b[1;32m    171\u001b[0m         base_transform, constraint\u001b[38;5;241m.\u001b[39mreinterpreted_batch_ndims\n\u001b[1;32m    172\u001b[0m     )\n",
      "File \u001b[0;32m~/.local/lib/python3.10/site-packages/torch/distributions/constraint_registry.py:146\u001b[0m, in \u001b[0;36mConstraintRegistry.__call__\u001b[0;34m(self, constraint)\u001b[0m\n\u001b[1;32m    145\u001b[0m \u001b[38;5;28;01mexcept\u001b[39;00m \u001b[38;5;167;01mKeyError\u001b[39;00m:\n\u001b[0;32m--> 146\u001b[0m     \u001b[38;5;28;01mraise\u001b[39;00m \u001b[38;5;167;01mNotImplementedError\u001b[39;00m(\n\u001b[1;32m    147\u001b[0m         \u001b[38;5;124mf\u001b[39m\u001b[38;5;124m\"\u001b[39m\u001b[38;5;124mCannot transform \u001b[39m\u001b[38;5;132;01m{\u001b[39;00m\u001b[38;5;28mtype\u001b[39m(constraint)\u001b[38;5;241m.\u001b[39m\u001b[38;5;18m__name__\u001b[39m\u001b[38;5;132;01m}\u001b[39;00m\u001b[38;5;124m constraints\u001b[39m\u001b[38;5;124m\"\u001b[39m\n\u001b[1;32m    148\u001b[0m     ) \u001b[38;5;28;01mfrom\u001b[39;00m \u001b[38;5;28;01mNone\u001b[39;00m\n\u001b[1;32m    149\u001b[0m \u001b[38;5;28;01mreturn\u001b[39;00m factory(constraint)\n",
      "\u001b[0;31mNotImplementedError\u001b[0m: Cannot transform _IntegerGreaterThan constraints",
      "\nDuring handling of the above exception, another exception occurred:\n",
      "\u001b[0;31mValueError\u001b[0m                                Traceback (most recent call last)",
      "File \u001b[0;32m~/.local/lib/python3.10/site-packages/pyro/poutine/trace_messenger.py:174\u001b[0m, in \u001b[0;36mTraceHandler.__call__\u001b[0;34m(self, *args, **kwargs)\u001b[0m\n\u001b[1;32m    173\u001b[0m \u001b[38;5;28;01mtry\u001b[39;00m:\n\u001b[0;32m--> 174\u001b[0m     ret \u001b[38;5;241m=\u001b[39m \u001b[38;5;28;43mself\u001b[39;49m\u001b[38;5;241;43m.\u001b[39;49m\u001b[43mfn\u001b[49m\u001b[43m(\u001b[49m\u001b[38;5;241;43m*\u001b[39;49m\u001b[43margs\u001b[49m\u001b[43m,\u001b[49m\u001b[43m \u001b[49m\u001b[38;5;241;43m*\u001b[39;49m\u001b[38;5;241;43m*\u001b[39;49m\u001b[43mkwargs\u001b[49m\u001b[43m)\u001b[49m\n\u001b[1;32m    175\u001b[0m \u001b[38;5;28;01mexcept\u001b[39;00m (\u001b[38;5;167;01mValueError\u001b[39;00m, \u001b[38;5;167;01mRuntimeError\u001b[39;00m) \u001b[38;5;28;01mas\u001b[39;00m e:\n",
      "File \u001b[0;32m~/.local/lib/python3.10/site-packages/pyro/nn/module.py:449\u001b[0m, in \u001b[0;36mPyroModule.__call__\u001b[0;34m(self, *args, **kwargs)\u001b[0m\n\u001b[1;32m    448\u001b[0m \u001b[38;5;28;01mwith\u001b[39;00m \u001b[38;5;28mself\u001b[39m\u001b[38;5;241m.\u001b[39m_pyro_context:\n\u001b[0;32m--> 449\u001b[0m     result \u001b[38;5;241m=\u001b[39m \u001b[38;5;28;43msuper\u001b[39;49m\u001b[43m(\u001b[49m\u001b[43m)\u001b[49m\u001b[38;5;241;43m.\u001b[39;49m\u001b[38;5;21;43m__call__\u001b[39;49m\u001b[43m(\u001b[49m\u001b[38;5;241;43m*\u001b[39;49m\u001b[43margs\u001b[49m\u001b[43m,\u001b[49m\u001b[43m \u001b[49m\u001b[38;5;241;43m*\u001b[39;49m\u001b[38;5;241;43m*\u001b[39;49m\u001b[43mkwargs\u001b[49m\u001b[43m)\u001b[49m\n\u001b[1;32m    450\u001b[0m \u001b[38;5;28;01mif\u001b[39;00m (\n\u001b[1;32m    451\u001b[0m     pyro\u001b[38;5;241m.\u001b[39msettings\u001b[38;5;241m.\u001b[39mget(\u001b[38;5;124m\"\u001b[39m\u001b[38;5;124mvalidate_poutine\u001b[39m\u001b[38;5;124m\"\u001b[39m)\n\u001b[1;32m    452\u001b[0m     \u001b[38;5;129;01mand\u001b[39;00m \u001b[38;5;129;01mnot\u001b[39;00m \u001b[38;5;28mself\u001b[39m\u001b[38;5;241m.\u001b[39m_pyro_context\u001b[38;5;241m.\u001b[39mactive\n\u001b[1;32m    453\u001b[0m     \u001b[38;5;129;01mand\u001b[39;00m _is_module_local_param_enabled()\n\u001b[1;32m    454\u001b[0m ):\n",
      "File \u001b[0;32m~/.local/lib/python3.10/site-packages/torch/nn/modules/module.py:1518\u001b[0m, in \u001b[0;36mModule._wrapped_call_impl\u001b[0;34m(self, *args, **kwargs)\u001b[0m\n\u001b[1;32m   1517\u001b[0m \u001b[38;5;28;01melse\u001b[39;00m:\n\u001b[0;32m-> 1518\u001b[0m     \u001b[38;5;28;01mreturn\u001b[39;00m \u001b[38;5;28;43mself\u001b[39;49m\u001b[38;5;241;43m.\u001b[39;49m\u001b[43m_call_impl\u001b[49m\u001b[43m(\u001b[49m\u001b[38;5;241;43m*\u001b[39;49m\u001b[43margs\u001b[49m\u001b[43m,\u001b[49m\u001b[43m \u001b[49m\u001b[38;5;241;43m*\u001b[39;49m\u001b[38;5;241;43m*\u001b[39;49m\u001b[43mkwargs\u001b[49m\u001b[43m)\u001b[49m\n",
      "File \u001b[0;32m~/.local/lib/python3.10/site-packages/torch/nn/modules/module.py:1527\u001b[0m, in \u001b[0;36mModule._call_impl\u001b[0;34m(self, *args, **kwargs)\u001b[0m\n\u001b[1;32m   1524\u001b[0m \u001b[38;5;28;01mif\u001b[39;00m \u001b[38;5;129;01mnot\u001b[39;00m (\u001b[38;5;28mself\u001b[39m\u001b[38;5;241m.\u001b[39m_backward_hooks \u001b[38;5;129;01mor\u001b[39;00m \u001b[38;5;28mself\u001b[39m\u001b[38;5;241m.\u001b[39m_backward_pre_hooks \u001b[38;5;129;01mor\u001b[39;00m \u001b[38;5;28mself\u001b[39m\u001b[38;5;241m.\u001b[39m_forward_hooks \u001b[38;5;129;01mor\u001b[39;00m \u001b[38;5;28mself\u001b[39m\u001b[38;5;241m.\u001b[39m_forward_pre_hooks\n\u001b[1;32m   1525\u001b[0m         \u001b[38;5;129;01mor\u001b[39;00m _global_backward_pre_hooks \u001b[38;5;129;01mor\u001b[39;00m _global_backward_hooks\n\u001b[1;32m   1526\u001b[0m         \u001b[38;5;129;01mor\u001b[39;00m _global_forward_hooks \u001b[38;5;129;01mor\u001b[39;00m _global_forward_pre_hooks):\n\u001b[0;32m-> 1527\u001b[0m     \u001b[38;5;28;01mreturn\u001b[39;00m \u001b[43mforward_call\u001b[49m\u001b[43m(\u001b[49m\u001b[38;5;241;43m*\u001b[39;49m\u001b[43margs\u001b[49m\u001b[43m,\u001b[49m\u001b[43m \u001b[49m\u001b[38;5;241;43m*\u001b[39;49m\u001b[38;5;241;43m*\u001b[39;49m\u001b[43mkwargs\u001b[49m\u001b[43m)\u001b[49m\n\u001b[1;32m   1529\u001b[0m \u001b[38;5;28;01mtry\u001b[39;00m:\n",
      "File \u001b[0;32m~/.local/lib/python3.10/site-packages/pyro/infer/autoguide/guides.py:759\u001b[0m, in \u001b[0;36mAutoContinuous.forward\u001b[0;34m(self, *args, **kwargs)\u001b[0m\n\u001b[1;32m    758\u001b[0m \u001b[38;5;28;01mif\u001b[39;00m \u001b[38;5;28mself\u001b[39m\u001b[38;5;241m.\u001b[39mprototype_trace \u001b[38;5;129;01mis\u001b[39;00m \u001b[38;5;28;01mNone\u001b[39;00m:\n\u001b[0;32m--> 759\u001b[0m     \u001b[38;5;28;43mself\u001b[39;49m\u001b[38;5;241;43m.\u001b[39;49m\u001b[43m_setup_prototype\u001b[49m\u001b[43m(\u001b[49m\u001b[38;5;241;43m*\u001b[39;49m\u001b[43margs\u001b[49m\u001b[43m,\u001b[49m\u001b[43m \u001b[49m\u001b[38;5;241;43m*\u001b[39;49m\u001b[38;5;241;43m*\u001b[39;49m\u001b[43mkwargs\u001b[49m\u001b[43m)\u001b[49m\n\u001b[1;32m    761\u001b[0m latent \u001b[38;5;241m=\u001b[39m \u001b[38;5;28mself\u001b[39m\u001b[38;5;241m.\u001b[39msample_latent(\u001b[38;5;241m*\u001b[39margs, \u001b[38;5;241m*\u001b[39m\u001b[38;5;241m*\u001b[39mkwargs)\n",
      "File \u001b[0;32m~/.local/lib/python3.10/site-packages/pyro/infer/autoguide/guides.py:875\u001b[0m, in \u001b[0;36mAutoMultivariateNormal._setup_prototype\u001b[0;34m(self, *args, **kwargs)\u001b[0m\n\u001b[1;32m    874\u001b[0m \u001b[38;5;28;01mdef\u001b[39;00m \u001b[38;5;21m_setup_prototype\u001b[39m(\u001b[38;5;28mself\u001b[39m, \u001b[38;5;241m*\u001b[39margs, \u001b[38;5;241m*\u001b[39m\u001b[38;5;241m*\u001b[39mkwargs):\n\u001b[0;32m--> 875\u001b[0m     \u001b[38;5;28;43msuper\u001b[39;49m\u001b[43m(\u001b[49m\u001b[43m)\u001b[49m\u001b[38;5;241;43m.\u001b[39;49m\u001b[43m_setup_prototype\u001b[49m\u001b[43m(\u001b[49m\u001b[38;5;241;43m*\u001b[39;49m\u001b[43margs\u001b[49m\u001b[43m,\u001b[49m\u001b[43m \u001b[49m\u001b[38;5;241;43m*\u001b[39;49m\u001b[38;5;241;43m*\u001b[39;49m\u001b[43mkwargs\u001b[49m\u001b[43m)\u001b[49m\n\u001b[1;32m    876\u001b[0m     \u001b[38;5;66;03m# Initialize guide params\u001b[39;00m\n",
      "File \u001b[0;32m~/.local/lib/python3.10/site-packages/pyro/infer/autoguide/guides.py:642\u001b[0m, in \u001b[0;36mAutoContinuous._setup_prototype\u001b[0;34m(self, *args, **kwargs)\u001b[0m\n\u001b[1;32m    639\u001b[0m \u001b[38;5;28;01mfor\u001b[39;00m name, site \u001b[38;5;129;01min\u001b[39;00m \u001b[38;5;28mself\u001b[39m\u001b[38;5;241m.\u001b[39mprototype_trace\u001b[38;5;241m.\u001b[39miter_stochastic_nodes():\n\u001b[1;32m    640\u001b[0m     \u001b[38;5;66;03m# Collect the shapes of unconstrained values.\u001b[39;00m\n\u001b[1;32m    641\u001b[0m     \u001b[38;5;66;03m# These may differ from the shapes of constrained values.\u001b[39;00m\n\u001b[0;32m--> 642\u001b[0m     \u001b[38;5;28;01mwith\u001b[39;00m helpful_support_errors(site):\n\u001b[1;32m    643\u001b[0m         \u001b[38;5;28mself\u001b[39m\u001b[38;5;241m.\u001b[39m_unconstrained_shapes[name] \u001b[38;5;241m=\u001b[39m (\n\u001b[1;32m    644\u001b[0m             biject_to(site[\u001b[38;5;124m\"\u001b[39m\u001b[38;5;124mfn\u001b[39m\u001b[38;5;124m\"\u001b[39m]\u001b[38;5;241m.\u001b[39msupport)\u001b[38;5;241m.\u001b[39minv(site[\u001b[38;5;124m\"\u001b[39m\u001b[38;5;124mvalue\u001b[39m\u001b[38;5;124m\"\u001b[39m])\u001b[38;5;241m.\u001b[39mshape\n\u001b[1;32m    645\u001b[0m         )\n",
      "File \u001b[0;32m~/miniconda3/envs/collab/lib/python3.10/contextlib.py:153\u001b[0m, in \u001b[0;36m_GeneratorContextManager.__exit__\u001b[0;34m(self, typ, value, traceback)\u001b[0m\n\u001b[1;32m    152\u001b[0m \u001b[38;5;28;01mtry\u001b[39;00m:\n\u001b[0;32m--> 153\u001b[0m     \u001b[38;5;28;43mself\u001b[39;49m\u001b[38;5;241;43m.\u001b[39;49m\u001b[43mgen\u001b[49m\u001b[38;5;241;43m.\u001b[39;49m\u001b[43mthrow\u001b[49m\u001b[43m(\u001b[49m\u001b[43mtyp\u001b[49m\u001b[43m,\u001b[49m\u001b[43m \u001b[49m\u001b[43mvalue\u001b[49m\u001b[43m,\u001b[49m\u001b[43m \u001b[49m\u001b[43mtraceback\u001b[49m\u001b[43m)\u001b[49m\n\u001b[1;32m    154\u001b[0m \u001b[38;5;28;01mexcept\u001b[39;00m \u001b[38;5;167;01mStopIteration\u001b[39;00m \u001b[38;5;28;01mas\u001b[39;00m exc:\n\u001b[1;32m    155\u001b[0m     \u001b[38;5;66;03m# Suppress StopIteration *unless* it's the same exception that\u001b[39;00m\n\u001b[1;32m    156\u001b[0m     \u001b[38;5;66;03m# was passed to throw().  This prevents a StopIteration\u001b[39;00m\n\u001b[1;32m    157\u001b[0m     \u001b[38;5;66;03m# raised inside the \"with\" statement from being suppressed.\u001b[39;00m\n",
      "File \u001b[0;32m~/.local/lib/python3.10/site-packages/pyro/infer/autoguide/utils.py:76\u001b[0m, in \u001b[0;36mhelpful_support_errors\u001b[0;34m(site)\u001b[0m\n\u001b[1;32m     75\u001b[0m     name \u001b[38;5;241m=\u001b[39m site[\u001b[38;5;124m\"\u001b[39m\u001b[38;5;124mname\u001b[39m\u001b[38;5;124m\"\u001b[39m]\n\u001b[0;32m---> 76\u001b[0m     \u001b[38;5;28;01mraise\u001b[39;00m \u001b[38;5;167;01mValueError\u001b[39;00m(\n\u001b[1;32m     77\u001b[0m         \u001b[38;5;124mf\u001b[39m\u001b[38;5;124m\"\u001b[39m\u001b[38;5;124mContinuous inference cannot handle discrete sample site \u001b[39m\u001b[38;5;124m'\u001b[39m\u001b[38;5;132;01m{\u001b[39;00mname\u001b[38;5;132;01m}\u001b[39;00m\u001b[38;5;124m'\u001b[39m\u001b[38;5;124m. \u001b[39m\u001b[38;5;124m\"\u001b[39m\n\u001b[1;32m     78\u001b[0m         \u001b[38;5;124m\"\u001b[39m\u001b[38;5;124mConsider enumerating that variable as documented in \u001b[39m\u001b[38;5;124m\"\u001b[39m\n\u001b[1;32m     79\u001b[0m         \u001b[38;5;124m\"\u001b[39m\u001b[38;5;124mhttps://pyro.ai/examples/enumeration.html . \u001b[39m\u001b[38;5;124m\"\u001b[39m\n\u001b[1;32m     80\u001b[0m         \u001b[38;5;124m\"\u001b[39m\u001b[38;5;124mIf you are already enumerating, take care to hide this site when \u001b[39m\u001b[38;5;124m\"\u001b[39m\n\u001b[1;32m     81\u001b[0m         \u001b[38;5;124m\"\u001b[39m\u001b[38;5;124mconstructing an autoguide, e.g. \u001b[39m\u001b[38;5;124m\"\u001b[39m\n\u001b[1;32m     82\u001b[0m         \u001b[38;5;124mf\u001b[39m\u001b[38;5;124m\"\u001b[39m\u001b[38;5;124mguide = AutoNormal(poutine.block(model, hide=[\u001b[39m\u001b[38;5;124m'\u001b[39m\u001b[38;5;132;01m{\u001b[39;00mname\u001b[38;5;132;01m}\u001b[39;00m\u001b[38;5;124m'\u001b[39m\u001b[38;5;124m])).\u001b[39m\u001b[38;5;124m\"\u001b[39m\n\u001b[1;32m     83\u001b[0m     )\n\u001b[1;32m     84\u001b[0m \u001b[38;5;28;01mif\u001b[39;00m \u001b[38;5;124m\"\u001b[39m\u001b[38;5;124msphere\u001b[39m\u001b[38;5;124m\"\u001b[39m \u001b[38;5;129;01min\u001b[39;00m support_name:\n",
      "\u001b[0;31mValueError\u001b[0m: Continuous inference cannot handle discrete sample site 'edge_r_obs'. Consider enumerating that variable as documented in https://pyro.ai/examples/enumeration.html . If you are already enumerating, take care to hide this site when constructing an autoguide, e.g. guide = AutoNormal(poutine.block(model, hide=['edge_r_obs'])).",
      "\nThe above exception was the direct cause of the following exception:\n",
      "\u001b[0;31mValueError\u001b[0m                                Traceback (most recent call last)",
      "Cell \u001b[0;32mIn[69], line 1\u001b[0m\n\u001b[0;32m----> 1\u001b[0m sir_guide \u001b[38;5;241m=\u001b[39m \u001b[43mrun_svi_inference\u001b[49m\u001b[43m(\u001b[49m\n\u001b[1;32m      2\u001b[0m \u001b[43m    \u001b[49m\u001b[43mconditioned_locust\u001b[49m\u001b[43m,\u001b[49m\n\u001b[1;32m      3\u001b[0m \u001b[43m    \u001b[49m\u001b[43mnum_steps\u001b[49m\u001b[38;5;241;43m=\u001b[39;49m\u001b[43mnum_steps\u001b[49m\u001b[43m,\u001b[49m\n\u001b[1;32m      4\u001b[0m \u001b[43m    \u001b[49m\u001b[43mobs_times\u001b[49m\u001b[38;5;241;43m=\u001b[39;49m\u001b[43mlogging_times\u001b[49m\u001b[43m,\u001b[49m\n\u001b[1;32m      5\u001b[0m \u001b[43m    \u001b[49m\u001b[43mdata\u001b[49m\u001b[38;5;241;43m=\u001b[39;49m\u001b[43msynthetic_data\u001b[49m\u001b[43m,\u001b[49m\n\u001b[1;32m      6\u001b[0m \u001b[43m    \u001b[49m\u001b[43minit_state\u001b[49m\u001b[38;5;241;43m=\u001b[39;49m\u001b[43minit_state\u001b[49m\u001b[43m,\u001b[49m\n\u001b[1;32m      7\u001b[0m \u001b[43m    \u001b[49m\u001b[43mstart_time\u001b[49m\u001b[38;5;241;43m=\u001b[39;49m\u001b[43mstart_time\u001b[49m\u001b[43m,\u001b[49m\n\u001b[1;32m      8\u001b[0m \u001b[43m)\u001b[49m\n",
      "Cell \u001b[0;32mIn[68], line 23\u001b[0m, in \u001b[0;36mrun_svi_inference\u001b[0;34m(model, num_steps, verbose, lr, vi_family, guide, **model_kwargs)\u001b[0m\n\u001b[1;32m     21\u001b[0m elbo \u001b[38;5;241m=\u001b[39m pyro\u001b[38;5;241m.\u001b[39minfer\u001b[38;5;241m.\u001b[39mTrace_ELBO()(model, guide)\n\u001b[1;32m     22\u001b[0m \u001b[38;5;66;03m# initialize parameters\u001b[39;00m\n\u001b[0;32m---> 23\u001b[0m \u001b[43melbo\u001b[49m\u001b[43m(\u001b[49m\u001b[38;5;241;43m*\u001b[39;49m\u001b[38;5;241;43m*\u001b[39;49m\u001b[43mmodel_kwargs\u001b[49m\u001b[43m)\u001b[49m\n\u001b[1;32m     24\u001b[0m adam \u001b[38;5;241m=\u001b[39m torch\u001b[38;5;241m.\u001b[39moptim\u001b[38;5;241m.\u001b[39mAdam(elbo\u001b[38;5;241m.\u001b[39mparameters(), lr\u001b[38;5;241m=\u001b[39mlr)\n\u001b[1;32m     25\u001b[0m \u001b[38;5;66;03m# Do gradient steps\u001b[39;00m\n",
      "File \u001b[0;32m~/.local/lib/python3.10/site-packages/torch/nn/modules/module.py:1518\u001b[0m, in \u001b[0;36mModule._wrapped_call_impl\u001b[0;34m(self, *args, **kwargs)\u001b[0m\n\u001b[1;32m   1516\u001b[0m     \u001b[38;5;28;01mreturn\u001b[39;00m \u001b[38;5;28mself\u001b[39m\u001b[38;5;241m.\u001b[39m_compiled_call_impl(\u001b[38;5;241m*\u001b[39margs, \u001b[38;5;241m*\u001b[39m\u001b[38;5;241m*\u001b[39mkwargs)  \u001b[38;5;66;03m# type: ignore[misc]\u001b[39;00m\n\u001b[1;32m   1517\u001b[0m \u001b[38;5;28;01melse\u001b[39;00m:\n\u001b[0;32m-> 1518\u001b[0m     \u001b[38;5;28;01mreturn\u001b[39;00m \u001b[38;5;28;43mself\u001b[39;49m\u001b[38;5;241;43m.\u001b[39;49m\u001b[43m_call_impl\u001b[49m\u001b[43m(\u001b[49m\u001b[38;5;241;43m*\u001b[39;49m\u001b[43margs\u001b[49m\u001b[43m,\u001b[49m\u001b[43m \u001b[49m\u001b[38;5;241;43m*\u001b[39;49m\u001b[38;5;241;43m*\u001b[39;49m\u001b[43mkwargs\u001b[49m\u001b[43m)\u001b[49m\n",
      "File \u001b[0;32m~/.local/lib/python3.10/site-packages/torch/nn/modules/module.py:1527\u001b[0m, in \u001b[0;36mModule._call_impl\u001b[0;34m(self, *args, **kwargs)\u001b[0m\n\u001b[1;32m   1522\u001b[0m \u001b[38;5;66;03m# If we don't have any hooks, we want to skip the rest of the logic in\u001b[39;00m\n\u001b[1;32m   1523\u001b[0m \u001b[38;5;66;03m# this function, and just call forward.\u001b[39;00m\n\u001b[1;32m   1524\u001b[0m \u001b[38;5;28;01mif\u001b[39;00m \u001b[38;5;129;01mnot\u001b[39;00m (\u001b[38;5;28mself\u001b[39m\u001b[38;5;241m.\u001b[39m_backward_hooks \u001b[38;5;129;01mor\u001b[39;00m \u001b[38;5;28mself\u001b[39m\u001b[38;5;241m.\u001b[39m_backward_pre_hooks \u001b[38;5;129;01mor\u001b[39;00m \u001b[38;5;28mself\u001b[39m\u001b[38;5;241m.\u001b[39m_forward_hooks \u001b[38;5;129;01mor\u001b[39;00m \u001b[38;5;28mself\u001b[39m\u001b[38;5;241m.\u001b[39m_forward_pre_hooks\n\u001b[1;32m   1525\u001b[0m         \u001b[38;5;129;01mor\u001b[39;00m _global_backward_pre_hooks \u001b[38;5;129;01mor\u001b[39;00m _global_backward_hooks\n\u001b[1;32m   1526\u001b[0m         \u001b[38;5;129;01mor\u001b[39;00m _global_forward_hooks \u001b[38;5;129;01mor\u001b[39;00m _global_forward_pre_hooks):\n\u001b[0;32m-> 1527\u001b[0m     \u001b[38;5;28;01mreturn\u001b[39;00m \u001b[43mforward_call\u001b[49m\u001b[43m(\u001b[49m\u001b[38;5;241;43m*\u001b[39;49m\u001b[43margs\u001b[49m\u001b[43m,\u001b[49m\u001b[43m \u001b[49m\u001b[38;5;241;43m*\u001b[39;49m\u001b[38;5;241;43m*\u001b[39;49m\u001b[43mkwargs\u001b[49m\u001b[43m)\u001b[49m\n\u001b[1;32m   1529\u001b[0m \u001b[38;5;28;01mtry\u001b[39;00m:\n\u001b[1;32m   1530\u001b[0m     result \u001b[38;5;241m=\u001b[39m \u001b[38;5;28;01mNone\u001b[39;00m\n",
      "File \u001b[0;32m~/.local/lib/python3.10/site-packages/pyro/infer/elbo.py:25\u001b[0m, in \u001b[0;36mELBOModule.forward\u001b[0;34m(self, *args, **kwargs)\u001b[0m\n\u001b[1;32m     24\u001b[0m \u001b[38;5;28;01mdef\u001b[39;00m \u001b[38;5;21mforward\u001b[39m(\u001b[38;5;28mself\u001b[39m, \u001b[38;5;241m*\u001b[39margs, \u001b[38;5;241m*\u001b[39m\u001b[38;5;241m*\u001b[39mkwargs):\n\u001b[0;32m---> 25\u001b[0m     \u001b[38;5;28;01mreturn\u001b[39;00m \u001b[38;5;28;43mself\u001b[39;49m\u001b[38;5;241;43m.\u001b[39;49m\u001b[43melbo\u001b[49m\u001b[38;5;241;43m.\u001b[39;49m\u001b[43mdifferentiable_loss\u001b[49m\u001b[43m(\u001b[49m\u001b[38;5;28;43mself\u001b[39;49m\u001b[38;5;241;43m.\u001b[39;49m\u001b[43mmodel\u001b[49m\u001b[43m,\u001b[49m\u001b[43m \u001b[49m\u001b[38;5;28;43mself\u001b[39;49m\u001b[38;5;241;43m.\u001b[39;49m\u001b[43mguide\u001b[49m\u001b[43m,\u001b[49m\u001b[43m \u001b[49m\u001b[38;5;241;43m*\u001b[39;49m\u001b[43margs\u001b[49m\u001b[43m,\u001b[49m\u001b[43m \u001b[49m\u001b[38;5;241;43m*\u001b[39;49m\u001b[38;5;241;43m*\u001b[39;49m\u001b[43mkwargs\u001b[49m\u001b[43m)\u001b[49m\n",
      "File \u001b[0;32m~/.local/lib/python3.10/site-packages/pyro/infer/trace_elbo.py:121\u001b[0m, in \u001b[0;36mTrace_ELBO.differentiable_loss\u001b[0;34m(self, model, guide, *args, **kwargs)\u001b[0m\n\u001b[1;32m    119\u001b[0m loss \u001b[38;5;241m=\u001b[39m \u001b[38;5;241m0.0\u001b[39m\n\u001b[1;32m    120\u001b[0m surrogate_loss \u001b[38;5;241m=\u001b[39m \u001b[38;5;241m0.0\u001b[39m\n\u001b[0;32m--> 121\u001b[0m \u001b[38;5;28;01mfor\u001b[39;00m model_trace, guide_trace \u001b[38;5;129;01min\u001b[39;00m \u001b[38;5;28mself\u001b[39m\u001b[38;5;241m.\u001b[39m_get_traces(model, guide, args, kwargs):\n\u001b[1;32m    122\u001b[0m     loss_particle, surrogate_loss_particle \u001b[38;5;241m=\u001b[39m \u001b[38;5;28mself\u001b[39m\u001b[38;5;241m.\u001b[39m_differentiable_loss_particle(\n\u001b[1;32m    123\u001b[0m         model_trace, guide_trace\n\u001b[1;32m    124\u001b[0m     )\n\u001b[1;32m    125\u001b[0m     surrogate_loss \u001b[38;5;241m+\u001b[39m\u001b[38;5;241m=\u001b[39m surrogate_loss_particle \u001b[38;5;241m/\u001b[39m \u001b[38;5;28mself\u001b[39m\u001b[38;5;241m.\u001b[39mnum_particles\n",
      "File \u001b[0;32m~/.local/lib/python3.10/site-packages/pyro/infer/elbo.py:237\u001b[0m, in \u001b[0;36mELBO._get_traces\u001b[0;34m(self, model, guide, args, kwargs)\u001b[0m\n\u001b[1;32m    235\u001b[0m \u001b[38;5;28;01melse\u001b[39;00m:\n\u001b[1;32m    236\u001b[0m     \u001b[38;5;28;01mfor\u001b[39;00m i \u001b[38;5;129;01min\u001b[39;00m \u001b[38;5;28mrange\u001b[39m(\u001b[38;5;28mself\u001b[39m\u001b[38;5;241m.\u001b[39mnum_particles):\n\u001b[0;32m--> 237\u001b[0m         \u001b[38;5;28;01myield\u001b[39;00m \u001b[38;5;28;43mself\u001b[39;49m\u001b[38;5;241;43m.\u001b[39;49m\u001b[43m_get_trace\u001b[49m\u001b[43m(\u001b[49m\u001b[43mmodel\u001b[49m\u001b[43m,\u001b[49m\u001b[43m \u001b[49m\u001b[43mguide\u001b[49m\u001b[43m,\u001b[49m\u001b[43m \u001b[49m\u001b[43margs\u001b[49m\u001b[43m,\u001b[49m\u001b[43m \u001b[49m\u001b[43mkwargs\u001b[49m\u001b[43m)\u001b[49m\n",
      "File \u001b[0;32m~/.local/lib/python3.10/site-packages/pyro/infer/trace_elbo.py:57\u001b[0m, in \u001b[0;36mTrace_ELBO._get_trace\u001b[0;34m(self, model, guide, args, kwargs)\u001b[0m\n\u001b[1;32m     52\u001b[0m \u001b[38;5;28;01mdef\u001b[39;00m \u001b[38;5;21m_get_trace\u001b[39m(\u001b[38;5;28mself\u001b[39m, model, guide, args, kwargs):\n\u001b[1;32m     53\u001b[0m \u001b[38;5;250m    \u001b[39m\u001b[38;5;124;03m\"\"\"\u001b[39;00m\n\u001b[1;32m     54\u001b[0m \u001b[38;5;124;03m    Returns a single trace from the guide, and the model that is run\u001b[39;00m\n\u001b[1;32m     55\u001b[0m \u001b[38;5;124;03m    against it.\u001b[39;00m\n\u001b[1;32m     56\u001b[0m \u001b[38;5;124;03m    \"\"\"\u001b[39;00m\n\u001b[0;32m---> 57\u001b[0m     model_trace, guide_trace \u001b[38;5;241m=\u001b[39m \u001b[43mget_importance_trace\u001b[49m\u001b[43m(\u001b[49m\n\u001b[1;32m     58\u001b[0m \u001b[43m        \u001b[49m\u001b[38;5;124;43m\"\u001b[39;49m\u001b[38;5;124;43mflat\u001b[39;49m\u001b[38;5;124;43m\"\u001b[39;49m\u001b[43m,\u001b[49m\u001b[43m \u001b[49m\u001b[38;5;28;43mself\u001b[39;49m\u001b[38;5;241;43m.\u001b[39;49m\u001b[43mmax_plate_nesting\u001b[49m\u001b[43m,\u001b[49m\u001b[43m \u001b[49m\u001b[43mmodel\u001b[49m\u001b[43m,\u001b[49m\u001b[43m \u001b[49m\u001b[43mguide\u001b[49m\u001b[43m,\u001b[49m\u001b[43m \u001b[49m\u001b[43margs\u001b[49m\u001b[43m,\u001b[49m\u001b[43m \u001b[49m\u001b[43mkwargs\u001b[49m\n\u001b[1;32m     59\u001b[0m \u001b[43m    \u001b[49m\u001b[43m)\u001b[49m\n\u001b[1;32m     60\u001b[0m     \u001b[38;5;28;01mif\u001b[39;00m is_validation_enabled():\n\u001b[1;32m     61\u001b[0m         check_if_enumerated(guide_trace)\n",
      "File \u001b[0;32m~/.local/lib/python3.10/site-packages/pyro/infer/enum.py:60\u001b[0m, in \u001b[0;36mget_importance_trace\u001b[0;34m(graph_type, max_plate_nesting, model, guide, args, kwargs, detach)\u001b[0m\n\u001b[1;32m     58\u001b[0m     model_trace, guide_trace \u001b[38;5;241m=\u001b[39m unwrapped_guide\u001b[38;5;241m.\u001b[39mget_traces()\n\u001b[1;32m     59\u001b[0m \u001b[38;5;28;01melse\u001b[39;00m:\n\u001b[0;32m---> 60\u001b[0m     guide_trace \u001b[38;5;241m=\u001b[39m \u001b[43mpoutine\u001b[49m\u001b[38;5;241;43m.\u001b[39;49m\u001b[43mtrace\u001b[49m\u001b[43m(\u001b[49m\u001b[43mguide\u001b[49m\u001b[43m,\u001b[49m\u001b[43m \u001b[49m\u001b[43mgraph_type\u001b[49m\u001b[38;5;241;43m=\u001b[39;49m\u001b[43mgraph_type\u001b[49m\u001b[43m)\u001b[49m\u001b[38;5;241;43m.\u001b[39;49m\u001b[43mget_trace\u001b[49m\u001b[43m(\u001b[49m\n\u001b[1;32m     61\u001b[0m \u001b[43m        \u001b[49m\u001b[38;5;241;43m*\u001b[39;49m\u001b[43margs\u001b[49m\u001b[43m,\u001b[49m\u001b[43m \u001b[49m\u001b[38;5;241;43m*\u001b[39;49m\u001b[38;5;241;43m*\u001b[39;49m\u001b[43mkwargs\u001b[49m\n\u001b[1;32m     62\u001b[0m \u001b[43m    \u001b[49m\u001b[43m)\u001b[49m\n\u001b[1;32m     63\u001b[0m     \u001b[38;5;28;01mif\u001b[39;00m detach:\n\u001b[1;32m     64\u001b[0m         guide_trace\u001b[38;5;241m.\u001b[39mdetach_()\n",
      "File \u001b[0;32m~/.local/lib/python3.10/site-packages/pyro/poutine/trace_messenger.py:198\u001b[0m, in \u001b[0;36mTraceHandler.get_trace\u001b[0;34m(self, *args, **kwargs)\u001b[0m\n\u001b[1;32m    190\u001b[0m \u001b[38;5;28;01mdef\u001b[39;00m \u001b[38;5;21mget_trace\u001b[39m(\u001b[38;5;28mself\u001b[39m, \u001b[38;5;241m*\u001b[39margs, \u001b[38;5;241m*\u001b[39m\u001b[38;5;241m*\u001b[39mkwargs):\n\u001b[1;32m    191\u001b[0m \u001b[38;5;250m    \u001b[39m\u001b[38;5;124;03m\"\"\"\u001b[39;00m\n\u001b[1;32m    192\u001b[0m \u001b[38;5;124;03m    :returns: data structure\u001b[39;00m\n\u001b[1;32m    193\u001b[0m \u001b[38;5;124;03m    :rtype: pyro.poutine.Trace\u001b[39;00m\n\u001b[0;32m   (...)\u001b[0m\n\u001b[1;32m    196\u001b[0m \u001b[38;5;124;03m    Calls this poutine and returns its trace instead of the function's return value.\u001b[39;00m\n\u001b[1;32m    197\u001b[0m \u001b[38;5;124;03m    \"\"\"\u001b[39;00m\n\u001b[0;32m--> 198\u001b[0m     \u001b[38;5;28;43mself\u001b[39;49m\u001b[43m(\u001b[49m\u001b[38;5;241;43m*\u001b[39;49m\u001b[43margs\u001b[49m\u001b[43m,\u001b[49m\u001b[43m \u001b[49m\u001b[38;5;241;43m*\u001b[39;49m\u001b[38;5;241;43m*\u001b[39;49m\u001b[43mkwargs\u001b[49m\u001b[43m)\u001b[49m\n\u001b[1;32m    199\u001b[0m     \u001b[38;5;28;01mreturn\u001b[39;00m \u001b[38;5;28mself\u001b[39m\u001b[38;5;241m.\u001b[39mmsngr\u001b[38;5;241m.\u001b[39mget_trace()\n",
      "File \u001b[0;32m~/.local/lib/python3.10/site-packages/pyro/poutine/trace_messenger.py:180\u001b[0m, in \u001b[0;36mTraceHandler.__call__\u001b[0;34m(self, *args, **kwargs)\u001b[0m\n\u001b[1;32m    178\u001b[0m         exc \u001b[38;5;241m=\u001b[39m exc_type(\u001b[38;5;124m\"\u001b[39m\u001b[38;5;132;01m{}\u001b[39;00m\u001b[38;5;130;01m\\n\u001b[39;00m\u001b[38;5;132;01m{}\u001b[39;00m\u001b[38;5;124m\"\u001b[39m\u001b[38;5;241m.\u001b[39mformat(exc_value, shapes))\n\u001b[1;32m    179\u001b[0m         exc \u001b[38;5;241m=\u001b[39m exc\u001b[38;5;241m.\u001b[39mwith_traceback(traceback)\n\u001b[0;32m--> 180\u001b[0m         \u001b[38;5;28;01mraise\u001b[39;00m exc \u001b[38;5;28;01mfrom\u001b[39;00m \u001b[38;5;21;01me\u001b[39;00m\n\u001b[1;32m    181\u001b[0m     \u001b[38;5;28mself\u001b[39m\u001b[38;5;241m.\u001b[39mmsngr\u001b[38;5;241m.\u001b[39mtrace\u001b[38;5;241m.\u001b[39madd_node(\n\u001b[1;32m    182\u001b[0m         \u001b[38;5;124m\"\u001b[39m\u001b[38;5;124m_RETURN\u001b[39m\u001b[38;5;124m\"\u001b[39m, name\u001b[38;5;241m=\u001b[39m\u001b[38;5;124m\"\u001b[39m\u001b[38;5;124m_RETURN\u001b[39m\u001b[38;5;124m\"\u001b[39m, \u001b[38;5;28mtype\u001b[39m\u001b[38;5;241m=\u001b[39m\u001b[38;5;124m\"\u001b[39m\u001b[38;5;124mreturn\u001b[39m\u001b[38;5;124m\"\u001b[39m, value\u001b[38;5;241m=\u001b[39mret\n\u001b[1;32m    183\u001b[0m     )\n\u001b[1;32m    184\u001b[0m \u001b[38;5;28;01mreturn\u001b[39;00m ret\n",
      "File \u001b[0;32m~/.local/lib/python3.10/site-packages/pyro/poutine/trace_messenger.py:174\u001b[0m, in \u001b[0;36mTraceHandler.__call__\u001b[0;34m(self, *args, **kwargs)\u001b[0m\n\u001b[1;32m    170\u001b[0m \u001b[38;5;28mself\u001b[39m\u001b[38;5;241m.\u001b[39mmsngr\u001b[38;5;241m.\u001b[39mtrace\u001b[38;5;241m.\u001b[39madd_node(\n\u001b[1;32m    171\u001b[0m     \u001b[38;5;124m\"\u001b[39m\u001b[38;5;124m_INPUT\u001b[39m\u001b[38;5;124m\"\u001b[39m, name\u001b[38;5;241m=\u001b[39m\u001b[38;5;124m\"\u001b[39m\u001b[38;5;124m_INPUT\u001b[39m\u001b[38;5;124m\"\u001b[39m, \u001b[38;5;28mtype\u001b[39m\u001b[38;5;241m=\u001b[39m\u001b[38;5;124m\"\u001b[39m\u001b[38;5;124margs\u001b[39m\u001b[38;5;124m\"\u001b[39m, args\u001b[38;5;241m=\u001b[39margs, kwargs\u001b[38;5;241m=\u001b[39mkwargs\n\u001b[1;32m    172\u001b[0m )\n\u001b[1;32m    173\u001b[0m \u001b[38;5;28;01mtry\u001b[39;00m:\n\u001b[0;32m--> 174\u001b[0m     ret \u001b[38;5;241m=\u001b[39m \u001b[38;5;28;43mself\u001b[39;49m\u001b[38;5;241;43m.\u001b[39;49m\u001b[43mfn\u001b[49m\u001b[43m(\u001b[49m\u001b[38;5;241;43m*\u001b[39;49m\u001b[43margs\u001b[49m\u001b[43m,\u001b[49m\u001b[43m \u001b[49m\u001b[38;5;241;43m*\u001b[39;49m\u001b[38;5;241;43m*\u001b[39;49m\u001b[43mkwargs\u001b[49m\u001b[43m)\u001b[49m\n\u001b[1;32m    175\u001b[0m \u001b[38;5;28;01mexcept\u001b[39;00m (\u001b[38;5;167;01mValueError\u001b[39;00m, \u001b[38;5;167;01mRuntimeError\u001b[39;00m) \u001b[38;5;28;01mas\u001b[39;00m e:\n\u001b[1;32m    176\u001b[0m     exc_type, exc_value, traceback \u001b[38;5;241m=\u001b[39m sys\u001b[38;5;241m.\u001b[39mexc_info()\n",
      "File \u001b[0;32m~/.local/lib/python3.10/site-packages/pyro/nn/module.py:449\u001b[0m, in \u001b[0;36mPyroModule.__call__\u001b[0;34m(self, *args, **kwargs)\u001b[0m\n\u001b[1;32m    447\u001b[0m \u001b[38;5;28;01mdef\u001b[39;00m \u001b[38;5;21m__call__\u001b[39m(\u001b[38;5;28mself\u001b[39m, \u001b[38;5;241m*\u001b[39margs, \u001b[38;5;241m*\u001b[39m\u001b[38;5;241m*\u001b[39mkwargs):\n\u001b[1;32m    448\u001b[0m     \u001b[38;5;28;01mwith\u001b[39;00m \u001b[38;5;28mself\u001b[39m\u001b[38;5;241m.\u001b[39m_pyro_context:\n\u001b[0;32m--> 449\u001b[0m         result \u001b[38;5;241m=\u001b[39m \u001b[38;5;28;43msuper\u001b[39;49m\u001b[43m(\u001b[49m\u001b[43m)\u001b[49m\u001b[38;5;241;43m.\u001b[39;49m\u001b[38;5;21;43m__call__\u001b[39;49m\u001b[43m(\u001b[49m\u001b[38;5;241;43m*\u001b[39;49m\u001b[43margs\u001b[49m\u001b[43m,\u001b[49m\u001b[43m \u001b[49m\u001b[38;5;241;43m*\u001b[39;49m\u001b[38;5;241;43m*\u001b[39;49m\u001b[43mkwargs\u001b[49m\u001b[43m)\u001b[49m\n\u001b[1;32m    450\u001b[0m     \u001b[38;5;28;01mif\u001b[39;00m (\n\u001b[1;32m    451\u001b[0m         pyro\u001b[38;5;241m.\u001b[39msettings\u001b[38;5;241m.\u001b[39mget(\u001b[38;5;124m\"\u001b[39m\u001b[38;5;124mvalidate_poutine\u001b[39m\u001b[38;5;124m\"\u001b[39m)\n\u001b[1;32m    452\u001b[0m         \u001b[38;5;129;01mand\u001b[39;00m \u001b[38;5;129;01mnot\u001b[39;00m \u001b[38;5;28mself\u001b[39m\u001b[38;5;241m.\u001b[39m_pyro_context\u001b[38;5;241m.\u001b[39mactive\n\u001b[1;32m    453\u001b[0m         \u001b[38;5;129;01mand\u001b[39;00m _is_module_local_param_enabled()\n\u001b[1;32m    454\u001b[0m     ):\n\u001b[1;32m    455\u001b[0m         \u001b[38;5;28mself\u001b[39m\u001b[38;5;241m.\u001b[39m_check_module_local_param_usage()\n",
      "File \u001b[0;32m~/.local/lib/python3.10/site-packages/torch/nn/modules/module.py:1518\u001b[0m, in \u001b[0;36mModule._wrapped_call_impl\u001b[0;34m(self, *args, **kwargs)\u001b[0m\n\u001b[1;32m   1516\u001b[0m     \u001b[38;5;28;01mreturn\u001b[39;00m \u001b[38;5;28mself\u001b[39m\u001b[38;5;241m.\u001b[39m_compiled_call_impl(\u001b[38;5;241m*\u001b[39margs, \u001b[38;5;241m*\u001b[39m\u001b[38;5;241m*\u001b[39mkwargs)  \u001b[38;5;66;03m# type: ignore[misc]\u001b[39;00m\n\u001b[1;32m   1517\u001b[0m \u001b[38;5;28;01melse\u001b[39;00m:\n\u001b[0;32m-> 1518\u001b[0m     \u001b[38;5;28;01mreturn\u001b[39;00m \u001b[38;5;28;43mself\u001b[39;49m\u001b[38;5;241;43m.\u001b[39;49m\u001b[43m_call_impl\u001b[49m\u001b[43m(\u001b[49m\u001b[38;5;241;43m*\u001b[39;49m\u001b[43margs\u001b[49m\u001b[43m,\u001b[49m\u001b[43m \u001b[49m\u001b[38;5;241;43m*\u001b[39;49m\u001b[38;5;241;43m*\u001b[39;49m\u001b[43mkwargs\u001b[49m\u001b[43m)\u001b[49m\n",
      "File \u001b[0;32m~/.local/lib/python3.10/site-packages/torch/nn/modules/module.py:1527\u001b[0m, in \u001b[0;36mModule._call_impl\u001b[0;34m(self, *args, **kwargs)\u001b[0m\n\u001b[1;32m   1522\u001b[0m \u001b[38;5;66;03m# If we don't have any hooks, we want to skip the rest of the logic in\u001b[39;00m\n\u001b[1;32m   1523\u001b[0m \u001b[38;5;66;03m# this function, and just call forward.\u001b[39;00m\n\u001b[1;32m   1524\u001b[0m \u001b[38;5;28;01mif\u001b[39;00m \u001b[38;5;129;01mnot\u001b[39;00m (\u001b[38;5;28mself\u001b[39m\u001b[38;5;241m.\u001b[39m_backward_hooks \u001b[38;5;129;01mor\u001b[39;00m \u001b[38;5;28mself\u001b[39m\u001b[38;5;241m.\u001b[39m_backward_pre_hooks \u001b[38;5;129;01mor\u001b[39;00m \u001b[38;5;28mself\u001b[39m\u001b[38;5;241m.\u001b[39m_forward_hooks \u001b[38;5;129;01mor\u001b[39;00m \u001b[38;5;28mself\u001b[39m\u001b[38;5;241m.\u001b[39m_forward_pre_hooks\n\u001b[1;32m   1525\u001b[0m         \u001b[38;5;129;01mor\u001b[39;00m _global_backward_pre_hooks \u001b[38;5;129;01mor\u001b[39;00m _global_backward_hooks\n\u001b[1;32m   1526\u001b[0m         \u001b[38;5;129;01mor\u001b[39;00m _global_forward_hooks \u001b[38;5;129;01mor\u001b[39;00m _global_forward_pre_hooks):\n\u001b[0;32m-> 1527\u001b[0m     \u001b[38;5;28;01mreturn\u001b[39;00m \u001b[43mforward_call\u001b[49m\u001b[43m(\u001b[49m\u001b[38;5;241;43m*\u001b[39;49m\u001b[43margs\u001b[49m\u001b[43m,\u001b[49m\u001b[43m \u001b[49m\u001b[38;5;241;43m*\u001b[39;49m\u001b[38;5;241;43m*\u001b[39;49m\u001b[43mkwargs\u001b[49m\u001b[43m)\u001b[49m\n\u001b[1;32m   1529\u001b[0m \u001b[38;5;28;01mtry\u001b[39;00m:\n\u001b[1;32m   1530\u001b[0m     result \u001b[38;5;241m=\u001b[39m \u001b[38;5;28;01mNone\u001b[39;00m\n",
      "File \u001b[0;32m~/.local/lib/python3.10/site-packages/pyro/infer/autoguide/guides.py:759\u001b[0m, in \u001b[0;36mAutoContinuous.forward\u001b[0;34m(self, *args, **kwargs)\u001b[0m\n\u001b[1;32m    757\u001b[0m \u001b[38;5;66;03m# if we've never run the model before, do so now so we can inspect the model structure\u001b[39;00m\n\u001b[1;32m    758\u001b[0m \u001b[38;5;28;01mif\u001b[39;00m \u001b[38;5;28mself\u001b[39m\u001b[38;5;241m.\u001b[39mprototype_trace \u001b[38;5;129;01mis\u001b[39;00m \u001b[38;5;28;01mNone\u001b[39;00m:\n\u001b[0;32m--> 759\u001b[0m     \u001b[38;5;28;43mself\u001b[39;49m\u001b[38;5;241;43m.\u001b[39;49m\u001b[43m_setup_prototype\u001b[49m\u001b[43m(\u001b[49m\u001b[38;5;241;43m*\u001b[39;49m\u001b[43margs\u001b[49m\u001b[43m,\u001b[49m\u001b[43m \u001b[49m\u001b[38;5;241;43m*\u001b[39;49m\u001b[38;5;241;43m*\u001b[39;49m\u001b[43mkwargs\u001b[49m\u001b[43m)\u001b[49m\n\u001b[1;32m    761\u001b[0m latent \u001b[38;5;241m=\u001b[39m \u001b[38;5;28mself\u001b[39m\u001b[38;5;241m.\u001b[39msample_latent(\u001b[38;5;241m*\u001b[39margs, \u001b[38;5;241m*\u001b[39m\u001b[38;5;241m*\u001b[39mkwargs)\n\u001b[1;32m    762\u001b[0m plates \u001b[38;5;241m=\u001b[39m \u001b[38;5;28mself\u001b[39m\u001b[38;5;241m.\u001b[39m_create_plates(\u001b[38;5;241m*\u001b[39margs, \u001b[38;5;241m*\u001b[39m\u001b[38;5;241m*\u001b[39mkwargs)\n",
      "File \u001b[0;32m~/.local/lib/python3.10/site-packages/pyro/infer/autoguide/guides.py:875\u001b[0m, in \u001b[0;36mAutoMultivariateNormal._setup_prototype\u001b[0;34m(self, *args, **kwargs)\u001b[0m\n\u001b[1;32m    874\u001b[0m \u001b[38;5;28;01mdef\u001b[39;00m \u001b[38;5;21m_setup_prototype\u001b[39m(\u001b[38;5;28mself\u001b[39m, \u001b[38;5;241m*\u001b[39margs, \u001b[38;5;241m*\u001b[39m\u001b[38;5;241m*\u001b[39mkwargs):\n\u001b[0;32m--> 875\u001b[0m     \u001b[38;5;28;43msuper\u001b[39;49m\u001b[43m(\u001b[49m\u001b[43m)\u001b[49m\u001b[38;5;241;43m.\u001b[39;49m\u001b[43m_setup_prototype\u001b[49m\u001b[43m(\u001b[49m\u001b[38;5;241;43m*\u001b[39;49m\u001b[43margs\u001b[49m\u001b[43m,\u001b[49m\u001b[43m \u001b[49m\u001b[38;5;241;43m*\u001b[39;49m\u001b[38;5;241;43m*\u001b[39;49m\u001b[43mkwargs\u001b[49m\u001b[43m)\u001b[49m\n\u001b[1;32m    876\u001b[0m     \u001b[38;5;66;03m# Initialize guide params\u001b[39;00m\n\u001b[1;32m    877\u001b[0m     \u001b[38;5;28mself\u001b[39m\u001b[38;5;241m.\u001b[39mloc \u001b[38;5;241m=\u001b[39m nn\u001b[38;5;241m.\u001b[39mParameter(\u001b[38;5;28mself\u001b[39m\u001b[38;5;241m.\u001b[39m_init_loc())\n",
      "File \u001b[0;32m~/.local/lib/python3.10/site-packages/pyro/infer/autoguide/guides.py:642\u001b[0m, in \u001b[0;36mAutoContinuous._setup_prototype\u001b[0;34m(self, *args, **kwargs)\u001b[0m\n\u001b[1;32m    638\u001b[0m \u001b[38;5;28mself\u001b[39m\u001b[38;5;241m.\u001b[39m_cond_indep_stacks \u001b[38;5;241m=\u001b[39m {}\n\u001b[1;32m    639\u001b[0m \u001b[38;5;28;01mfor\u001b[39;00m name, site \u001b[38;5;129;01min\u001b[39;00m \u001b[38;5;28mself\u001b[39m\u001b[38;5;241m.\u001b[39mprototype_trace\u001b[38;5;241m.\u001b[39miter_stochastic_nodes():\n\u001b[1;32m    640\u001b[0m     \u001b[38;5;66;03m# Collect the shapes of unconstrained values.\u001b[39;00m\n\u001b[1;32m    641\u001b[0m     \u001b[38;5;66;03m# These may differ from the shapes of constrained values.\u001b[39;00m\n\u001b[0;32m--> 642\u001b[0m     \u001b[38;5;28;01mwith\u001b[39;00m helpful_support_errors(site):\n\u001b[1;32m    643\u001b[0m         \u001b[38;5;28mself\u001b[39m\u001b[38;5;241m.\u001b[39m_unconstrained_shapes[name] \u001b[38;5;241m=\u001b[39m (\n\u001b[1;32m    644\u001b[0m             biject_to(site[\u001b[38;5;124m\"\u001b[39m\u001b[38;5;124mfn\u001b[39m\u001b[38;5;124m\"\u001b[39m]\u001b[38;5;241m.\u001b[39msupport)\u001b[38;5;241m.\u001b[39minv(site[\u001b[38;5;124m\"\u001b[39m\u001b[38;5;124mvalue\u001b[39m\u001b[38;5;124m\"\u001b[39m])\u001b[38;5;241m.\u001b[39mshape\n\u001b[1;32m    645\u001b[0m         )\n\u001b[1;32m    647\u001b[0m     \u001b[38;5;66;03m# Collect independence contexts.\u001b[39;00m\n",
      "File \u001b[0;32m~/miniconda3/envs/collab/lib/python3.10/contextlib.py:153\u001b[0m, in \u001b[0;36m_GeneratorContextManager.__exit__\u001b[0;34m(self, typ, value, traceback)\u001b[0m\n\u001b[1;32m    151\u001b[0m     value \u001b[38;5;241m=\u001b[39m typ()\n\u001b[1;32m    152\u001b[0m \u001b[38;5;28;01mtry\u001b[39;00m:\n\u001b[0;32m--> 153\u001b[0m     \u001b[38;5;28;43mself\u001b[39;49m\u001b[38;5;241;43m.\u001b[39;49m\u001b[43mgen\u001b[49m\u001b[38;5;241;43m.\u001b[39;49m\u001b[43mthrow\u001b[49m\u001b[43m(\u001b[49m\u001b[43mtyp\u001b[49m\u001b[43m,\u001b[49m\u001b[43m \u001b[49m\u001b[43mvalue\u001b[49m\u001b[43m,\u001b[49m\u001b[43m \u001b[49m\u001b[43mtraceback\u001b[49m\u001b[43m)\u001b[49m\n\u001b[1;32m    154\u001b[0m \u001b[38;5;28;01mexcept\u001b[39;00m \u001b[38;5;167;01mStopIteration\u001b[39;00m \u001b[38;5;28;01mas\u001b[39;00m exc:\n\u001b[1;32m    155\u001b[0m     \u001b[38;5;66;03m# Suppress StopIteration *unless* it's the same exception that\u001b[39;00m\n\u001b[1;32m    156\u001b[0m     \u001b[38;5;66;03m# was passed to throw().  This prevents a StopIteration\u001b[39;00m\n\u001b[1;32m    157\u001b[0m     \u001b[38;5;66;03m# raised inside the \"with\" statement from being suppressed.\u001b[39;00m\n\u001b[1;32m    158\u001b[0m     \u001b[38;5;28;01mreturn\u001b[39;00m exc \u001b[38;5;129;01mis\u001b[39;00m \u001b[38;5;129;01mnot\u001b[39;00m value\n",
      "File \u001b[0;32m~/.local/lib/python3.10/site-packages/pyro/infer/autoguide/utils.py:76\u001b[0m, in \u001b[0;36mhelpful_support_errors\u001b[0;34m(site)\u001b[0m\n\u001b[1;32m     74\u001b[0m \u001b[38;5;28;01mif\u001b[39;00m site[\u001b[38;5;124m\"\u001b[39m\u001b[38;5;124mfn\u001b[39m\u001b[38;5;124m\"\u001b[39m]\u001b[38;5;241m.\u001b[39msupport\u001b[38;5;241m.\u001b[39mis_discrete:\n\u001b[1;32m     75\u001b[0m     name \u001b[38;5;241m=\u001b[39m site[\u001b[38;5;124m\"\u001b[39m\u001b[38;5;124mname\u001b[39m\u001b[38;5;124m\"\u001b[39m]\n\u001b[0;32m---> 76\u001b[0m     \u001b[38;5;28;01mraise\u001b[39;00m \u001b[38;5;167;01mValueError\u001b[39;00m(\n\u001b[1;32m     77\u001b[0m         \u001b[38;5;124mf\u001b[39m\u001b[38;5;124m\"\u001b[39m\u001b[38;5;124mContinuous inference cannot handle discrete sample site \u001b[39m\u001b[38;5;124m'\u001b[39m\u001b[38;5;132;01m{\u001b[39;00mname\u001b[38;5;132;01m}\u001b[39;00m\u001b[38;5;124m'\u001b[39m\u001b[38;5;124m. \u001b[39m\u001b[38;5;124m\"\u001b[39m\n\u001b[1;32m     78\u001b[0m         \u001b[38;5;124m\"\u001b[39m\u001b[38;5;124mConsider enumerating that variable as documented in \u001b[39m\u001b[38;5;124m\"\u001b[39m\n\u001b[1;32m     79\u001b[0m         \u001b[38;5;124m\"\u001b[39m\u001b[38;5;124mhttps://pyro.ai/examples/enumeration.html . \u001b[39m\u001b[38;5;124m\"\u001b[39m\n\u001b[1;32m     80\u001b[0m         \u001b[38;5;124m\"\u001b[39m\u001b[38;5;124mIf you are already enumerating, take care to hide this site when \u001b[39m\u001b[38;5;124m\"\u001b[39m\n\u001b[1;32m     81\u001b[0m         \u001b[38;5;124m\"\u001b[39m\u001b[38;5;124mconstructing an autoguide, e.g. \u001b[39m\u001b[38;5;124m\"\u001b[39m\n\u001b[1;32m     82\u001b[0m         \u001b[38;5;124mf\u001b[39m\u001b[38;5;124m\"\u001b[39m\u001b[38;5;124mguide = AutoNormal(poutine.block(model, hide=[\u001b[39m\u001b[38;5;124m'\u001b[39m\u001b[38;5;132;01m{\u001b[39;00mname\u001b[38;5;132;01m}\u001b[39;00m\u001b[38;5;124m'\u001b[39m\u001b[38;5;124m])).\u001b[39m\u001b[38;5;124m\"\u001b[39m\n\u001b[1;32m     83\u001b[0m     )\n\u001b[1;32m     84\u001b[0m \u001b[38;5;28;01mif\u001b[39;00m \u001b[38;5;124m\"\u001b[39m\u001b[38;5;124msphere\u001b[39m\u001b[38;5;124m\"\u001b[39m \u001b[38;5;129;01min\u001b[39;00m support_name:\n\u001b[1;32m     85\u001b[0m     name \u001b[38;5;241m=\u001b[39m site[\u001b[38;5;124m\"\u001b[39m\u001b[38;5;124mname\u001b[39m\u001b[38;5;124m\"\u001b[39m]\n",
      "\u001b[0;31mValueError\u001b[0m: Continuous inference cannot handle discrete sample site 'edge_r_obs'. Consider enumerating that variable as documented in https://pyro.ai/examples/enumeration.html . If you are already enumerating, take care to hide this site when constructing an autoguide, e.g. guide = AutoNormal(poutine.block(model, hide=['edge_r_obs'])).\nTrace Shapes:\n Param Sites:\nSample Sites:"
     ]
    }
   ],
   "source": [
    "sir_guide = run_svi_inference(\n",
    "    conditioned_locust,\n",
    "    num_steps=num_steps,\n",
    "    obs_times=logging_times,\n",
    "    data=synthetic_data,\n",
    "    init_state=init_state,\n",
    "    start_time=start_time,\n",
    ")"
   ]
  }
 ],
 "metadata": {
  "kernelspec": {
   "display_name": "collab",
   "language": "python",
   "name": "python3"
  },
  "language_info": {
   "codemirror_mode": {
    "name": "ipython",
    "version": 3
   },
   "file_extension": ".py",
   "mimetype": "text/x-python",
   "name": "python",
   "nbconvert_exporter": "python",
   "pygments_lexer": "ipython3",
   "version": "3.10.13"
  }
 },
 "nbformat": 4,
 "nbformat_minor": 2
}
