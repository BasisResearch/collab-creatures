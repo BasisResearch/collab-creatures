{
 "cells": [
  {
   "cell_type": "code",
   "execution_count": 1,
   "metadata": {},
   "outputs": [
    {
     "name": "stderr",
     "output_type": "stream",
     "text": [
      "/Users/Admin/Repositories/collab-creatures/collab_env/lib/python3.12/site-packages/tqdm/auto.py:21: TqdmWarning: IProgress not found. Please update jupyter and ipywidgets. See https://ipywidgets.readthedocs.io/en/stable/user_install.html\n",
      "  from .autonotebook import tqdm as notebook_tqdm\n"
     ]
    }
   ],
   "source": [
    "import os\n",
    "import time\n",
    "\n",
    "import dill\n",
    "import matplotlib.pyplot as plt\n",
    "import pandas as pd\n",
    "\n",
    "from collab.foraging import central_park_birds as cpb\n",
    "from collab.foraging import toolkit as ft\n",
    "from collab.utils import find_repo_root\n",
    "\n",
    "root = os.path.dirname(os.path.dirname(os.path.dirname(os.path.abspath(\".\"))))\n",
    "\n",
    "# the smoke test code is to make sure that the code runs without error\n",
    "# during continuous integration\n",
    "# can be ignored by the reader\n",
    "smoke_test = \"CI\" in os.environ\n",
    "frames = 150 if smoke_test else 300\n",
    "frames_sps = 150 if smoke_test else 2300\n",
    "sampling_rate = 0.001 if smoke_test else 0.01\n",
    "\n",
    "notebook_starts = time.time()"
   ]
  },
  {
   "cell_type": "markdown",
   "metadata": {},
   "source": [
    "Import raw .csv files of positions and angles for each age"
   ]
  },
  {
   "cell_type": "code",
   "execution_count": 2,
   "metadata": {},
   "outputs": [],
   "source": [
    "fish_raw_2wpf = pd.read_csv(\n",
    "    os.path.join(\n",
    "        root,\n",
    "        \"data/fish_all_ages/2wpf_091522_6.csv\",\n",
    "    )\n",
    ")\n",
    "\n",
    "fish_raw_4wpf = pd.read_csv(\n",
    "    os.path.join(\n",
    "        root,\n",
    "        \"data/fish_all_ages/4wpf_060222_1.csv\",\n",
    "    )\n",
    ")\n",
    "\n",
    "fish_raw_6wpf = pd.read_csv(\n",
    "    os.path.join(\n",
    "        root,\n",
    "        \"data/fish_all_ages/6wpf_061522_1.csv\",\n",
    "    )\n",
    ")\n",
    "\n",
    "fish_raw_8wpf = pd.read_csv(\n",
    "    os.path.join(\n",
    "        root,\n",
    "        \"data/fish_all_ages/8wpf_091622_2.csv\",\n",
    "    )\n",
    ")"
   ]
  },
  {
   "cell_type": "markdown",
   "metadata": {},
   "source": [
    "Remove all frames where *any* fish goes missing\n",
    "\n",
    "\n",
    "PS: I am keeping the unprocessed data files in the repo for now, just in case I want to use a different method to deal with nans later on\n",
    "\n",
    "PPS: This could potentially be packaged into a function in toolkit if it is of general use?"
   ]
  },
  {
   "cell_type": "code",
   "execution_count": 3,
   "metadata": {},
   "outputs": [],
   "source": [
    "#find rows of dataframe with nan values \n",
    "nan_rows = fish_raw_2wpf.index[fish_raw_2wpf.isna().any(axis=1)]\n",
    "\n",
    "#find timepoints corresponding to these rows (have to do this since dataframe is flattened in the fish dimension)\n",
    "timepoints = fish_raw_2wpf[\"time\"][nan_rows]\n",
    "\n",
    "#filter out those timepoints\n",
    "fish_filtered_2wpf = fish_raw_2wpf[~fish_raw_2wpf[\"time\"].isin(timepoints)] \n",
    "\n",
    "#repeating for other ages\n",
    "#4wpf\n",
    "nan_rows = fish_raw_4wpf.index[fish_raw_4wpf.isna().any(axis=1)]\n",
    "timepoints = fish_raw_4wpf[\"time\"][nan_rows]\n",
    "fish_filtered_4wpf = fish_raw_4wpf[~fish_raw_4wpf[\"time\"].isin(timepoints)] \n",
    "\n",
    "#6wpf\n",
    "nan_rows = fish_raw_6wpf.index[fish_raw_6wpf.isna().any(axis=1)]\n",
    "timepoints = fish_raw_6wpf[\"time\"][nan_rows]\n",
    "fish_filtered_6wpf = fish_raw_6wpf[~fish_raw_6wpf[\"time\"].isin(timepoints)] \n",
    "\n",
    "#8wpf\n",
    "nan_rows = fish_raw_8wpf.index[fish_raw_8wpf.isna().any(axis=1)]\n",
    "timepoints = fish_raw_8wpf[\"time\"][nan_rows]\n",
    "fish_filtered_8wpf = fish_raw_8wpf[~fish_raw_8wpf[\"time\"].isin(timepoints)] "
   ]
  },
  {
   "cell_type": "markdown",
   "metadata": {},
   "source": [
    "2 week old fish are in a smaller arena (150mm diameter) compared to older fish (300mm diameter). Different ages also have different characteristic length scales (e.g., swimming speeds, body length, interaction distance)\n",
    "\n",
    "To allow for comparison across ages, we need the distance between grid points to be the same in absolute units for all ages.\n",
    "\n",
    "Choose:\n",
    "\n",
    "2wpf: 90 x 90 grid spanning 0 to 150mm in each direction\n",
    "\n",
    "4-8wpf: 180 x 180 grid spanning 0 to 300mm in each direction"
   ]
  },
  {
   "cell_type": "code",
   "execution_count": 6,
   "metadata": {},
   "outputs": [
    {
     "ename": "TypeError",
     "evalue": "rescale_to_grid() got an unexpected keyword argument 'gridMin'",
     "output_type": "error",
     "traceback": [
      "\u001b[0;31m---------------------------------------------------------------------------\u001b[0m",
      "\u001b[0;31mTypeError\u001b[0m                                 Traceback (most recent call last)",
      "Cell \u001b[0;32mIn[6], line 22\u001b[0m\n\u001b[1;32m     18\u001b[0m fish_filtered_8wpf \u001b[38;5;241m=\u001b[39mfish_filtered_8wpf\u001b[38;5;241m.\u001b[39mrename(columns\u001b[38;5;241m=\u001b[39m{\u001b[38;5;124m\"\u001b[39m\u001b[38;5;124mfish\u001b[39m\u001b[38;5;124m\"\u001b[39m: \u001b[38;5;124m\"\u001b[39m\u001b[38;5;124mforager\u001b[39m\u001b[38;5;124m\"\u001b[39m})\n\u001b[1;32m     20\u001b[0m \u001b[38;5;66;03m#no subsampling in time for now\u001b[39;00m\n\u001b[0;32m---> 22\u001b[0m fish_filtered_2wpf \u001b[38;5;241m=\u001b[39m \u001b[43mft\u001b[49m\u001b[38;5;241;43m.\u001b[39;49m\u001b[43mrescale_to_grid\u001b[49m\u001b[43m(\u001b[49m\u001b[43mfish_filtered_2wpf\u001b[49m\u001b[43m,\u001b[49m\u001b[43m \u001b[49m\u001b[43msize\u001b[49m\u001b[38;5;241;43m=\u001b[39;49m\u001b[43mgridSizes\u001b[49m\u001b[43m[\u001b[49m\u001b[38;5;124;43m'\u001b[39;49m\u001b[38;5;124;43m2wpf\u001b[39;49m\u001b[38;5;124;43m'\u001b[39;49m\u001b[43m]\u001b[49m\u001b[43m,\u001b[49m\u001b[43m \u001b[49m\u001b[43mgridMin\u001b[49m\u001b[38;5;241;43m=\u001b[39;49m\u001b[38;5;241;43m0\u001b[39;49m\u001b[43m,\u001b[49m\u001b[43m \u001b[49m\u001b[43mgridMax\u001b[49m\u001b[38;5;241;43m=\u001b[39;49m\u001b[43mgridMaxes\u001b[49m\u001b[43m[\u001b[49m\u001b[38;5;124;43m'\u001b[39;49m\u001b[38;5;124;43m2wpf\u001b[39;49m\u001b[38;5;124;43m'\u001b[39;49m\u001b[43m]\u001b[49m\u001b[43m)\u001b[49m\n\u001b[1;32m     23\u001b[0m fish_2wpf_obj \u001b[38;5;241m=\u001b[39m ft\u001b[38;5;241m.\u001b[39mobject_from_data(\n\u001b[1;32m     24\u001b[0m     fish_filtered_2wpf, grid_size\u001b[38;5;241m=\u001b[39mgridSizes[\u001b[38;5;124m'\u001b[39m\u001b[38;5;124m2wpf\u001b[39m\u001b[38;5;124m'\u001b[39m], frames\u001b[38;5;241m=\u001b[39mfish_filtered_2wpf[\u001b[38;5;124m\"\u001b[39m\u001b[38;5;124mtime\u001b[39m\u001b[38;5;124m\"\u001b[39m]\u001b[38;5;241m.\u001b[39mmax(), calculate_step_size_max\u001b[38;5;241m=\u001b[39m\u001b[38;5;28;01mTrue\u001b[39;00m\n\u001b[1;32m     25\u001b[0m )\n",
      "\u001b[0;31mTypeError\u001b[0m: rescale_to_grid() got an unexpected keyword argument 'gridMin'"
     ]
    }
   ],
   "source": [
    "gridSizes = {\n",
    "    '2wpf' : 90,\n",
    "    '4wpf' : 180,\n",
    "    '6wpf' : 180,\n",
    "    '8wpf' : 180\n",
    "}\n",
    "\n",
    "gridMaxes = {\n",
    "    '2wpf' : 150,\n",
    "    '4wpf' : 300,\n",
    "    '6wpf' : 300,\n",
    "    '8wpf' : 300\n",
    "}\n",
    "\n",
    "fish_filtered_2wpf =fish_filtered_2wpf.rename(columns={\"fish\": \"forager\"})\n",
    "fish_filtered_4wpf =fish_filtered_4wpf.rename(columns={\"fish\": \"forager\"})\n",
    "fish_filtered_6wpf =fish_filtered_6wpf.rename(columns={\"fish\": \"forager\"})\n",
    "fish_filtered_8wpf =fish_filtered_8wpf.rename(columns={\"fish\": \"forager\"})\n",
    "\n",
    "#no subsampling in time for now\n",
    "\n",
    "fish_filtered_2wpf = ft.rescale_to_grid(fish_filtered_2wpf, size=gridSizes['2wpf'], gridMin=0, gridMax=gridMaxes['2wpf'])\n",
    "fish_2wpf_obj = ft.object_from_data(\n",
    "    fish_filtered_2wpf, grid_size=gridSizes['2wpf'], frames=fish_filtered_2wpf[\"time\"].max(), calculate_step_size_max=True\n",
    ")"
   ]
  }
 ],
 "metadata": {
  "kernelspec": {
   "display_name": "collab_env",
   "language": "python",
   "name": "python3"
  },
  "language_info": {
   "codemirror_mode": {
    "name": "ipython",
    "version": 3
   },
   "file_extension": ".py",
   "mimetype": "text/x-python",
   "name": "python",
   "nbconvert_exporter": "python",
   "pygments_lexer": "ipython3",
   "version": "3.12.4"
  }
 },
 "nbformat": 4,
 "nbformat_minor": 2
}
