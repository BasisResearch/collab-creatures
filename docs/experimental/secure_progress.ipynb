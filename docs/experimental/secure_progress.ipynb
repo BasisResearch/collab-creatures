{
 "cells": [
  {
   "cell_type": "code",
   "execution_count": 1,
   "metadata": {},
   "outputs": [],
   "source": [
    "import dill\n",
    "import os\n",
    "\n",
    "from collab.utils import find_repo_root"
   ]
  },
  {
   "cell_type": "code",
   "execution_count": null,
   "metadata": {},
   "outputs": [],
   "source": [
    "#subfolder = \"foraging/locust/ds\""
   ]
  },
  {
   "cell_type": "code",
   "execution_count": null,
   "metadata": {},
   "outputs": [],
   "source": [
    "class ProgressSaver():\n",
    "    def __init__(self, name, subfolder, filename = None):\n",
    "        self.name = name\n",
    "        if filename is None:\n",
    "            self.filename = name + \".pkl\"\n",
    "        else:\n",
    "            self.filename = filename + \".pkl\"\n",
    "        self.subfolder = subfolder\n",
    "        self.file_path = os.path.join(find_repo_root(), 'data', self.subfolder, self.filename)\n",
    "\n",
    "    def __enter__(self):\n",
    "        if not os.path.exists(self.file_path):\n",
    "            return self\n",
    "        else:\n",
    "            with open(self.file_path, 'rb') as f:\n",
    "                loaded_object = dill.load(f)\n",
    "            return loaded_object\n",
    "    \n",
    "    def __exit__(self, exc_type, exc_value, traceback):\n",
    "        if exc_type is None:\n",
    "            # If no exception occurred, dump the data to the file\n",
    "            if not os.path.exists(self.file_path):\n",
    "                with open(self.file_path, 'wb') as f:\n",
    "                    dill.dump(self, f)\n",
    "            "
   ]
  }
 ],
 "metadata": {
  "kernelspec": {
   "display_name": "collab",
   "language": "python",
   "name": "python3"
  },
  "language_info": {
   "codemirror_mode": {
    "name": "ipython",
    "version": 3
   },
   "file_extension": ".py",
   "mimetype": "text/x-python",
   "name": "python",
   "nbconvert_exporter": "python",
   "pygments_lexer": "ipython3",
   "version": "3.10.13"
  }
 },
 "nbformat": 4,
 "nbformat_minor": 2
}
