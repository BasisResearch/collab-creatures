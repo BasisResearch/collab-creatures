{
 "cells": [
  {
   "cell_type": "code",
   "execution_count": 1,
   "metadata": {},
   "outputs": [],
   "source": [
    "import os\n",
    "\n",
    "import dill\n",
    "\n",
    "from collab.utils import find_repo_root"
   ]
  },
  {
   "cell_type": "code",
   "execution_count": 2,
   "metadata": {},
   "outputs": [],
   "source": [
    "class ProgressSaverContext:\n",
    "    def __init__(self, file_path):\n",
    "        self.file_path = file_path\n",
    "\n",
    "    def save_progress(self, name):\n",
    "        os.makedirs(os.path.dirname(self.file_path), exist_ok=True)\n",
    "        with open(self.file_path, \"wb\") as f:\n",
    "            dill.dump(name, f)\n",
    "\n",
    "    def load_progress(self):\n",
    "        with open(self.file_path, \"rb\") as f:\n",
    "            return dill.load(f)\n",
    "\n",
    "\n",
    "def progress_saver(name, subfolder, filename=None, properties=None, code_f=None):\n",
    "    property_names = [name for name, value in globals().items() if value in properties]\n",
    "\n",
    "    properties_string = \"_\".join(\n",
    "        [f\"{var_name}_{var}\" for var_name, var in zip(property_names, properties)]\n",
    "    )\n",
    "    if filename is None:\n",
    "        filename = f\"{name}_{properties_string}.pkl\"\n",
    "\n",
    "    file_path = os.path.join(find_repo_root(), \"data\", subfolder, filename)\n",
    "\n",
    "    print(file_path)\n",
    "\n",
    "    progress_context = ProgressSaverContext(file_path)\n",
    "\n",
    "    print(\"path missing, executing code\", not os.path.exists(file_path))\n",
    "    if not os.path.exists(file_path):\n",
    "        try:\n",
    "            result = code_f()\n",
    "            progress_context.save_progress(result)\n",
    "            return result\n",
    "        except Exception as e:\n",
    "            print(f\"Error executing code: {e}\")\n",
    "\n",
    "    else:\n",
    "        loaded_data = progress_context.load_progress()\n",
    "        return loaded_data"
   ]
  },
  {
   "cell_type": "code",
   "execution_count": 6,
   "metadata": {},
   "outputs": [
    {
     "name": "stdout",
     "output_type": "stream",
     "text": [
      "/home/rafal/s78projects/collaborative-intelligence/data/test/test_variable_num_0_blam_2.pkl\n",
      "path missing, executing code True\n",
      "/home/rafal/s78projects/collaborative-intelligence/data/test/test_variable_num_0_blam_2.pkl\n",
      "path missing, executing code False\n",
      "1\n"
     ]
    }
   ],
   "source": [
    "import shutil\n",
    "\n",
    "num = 0\n",
    "blam = 2\n",
    "\n",
    "\n",
    "def test_var1():\n",
    "    return 1\n",
    "\n",
    "\n",
    "def test_var2():\n",
    "    return 2\n",
    "\n",
    "\n",
    "file_path = os.path.join(\n",
    "    find_repo_root(), \"data\", \"test\", \"test_variable_num_0_blam_2.pkl\"\n",
    ")\n",
    "folder_path = os.path.dirname(file_path)\n",
    "if os.path.exists(folder_path):\n",
    "    shutil.rmtree(folder_path)\n",
    "assert not os.path.exists(folder_path)\n",
    "\n",
    "\n",
    "test_variable = progress_saver(\n",
    "    name=\"test_variable\", subfolder=\"test\", properties=[num, blam], code_f=test_var1\n",
    ")\n",
    "\n",
    "\n",
    "assert os.path.exists(folder_path)\n",
    "\n",
    "assert test_variable == 1\n",
    "\n",
    "with open(file_path, \"rb\") as f:\n",
    "    loaded_variable = dill.load(f)\n",
    "\n",
    "assert loaded_variable == 1\n",
    "\n",
    "\n",
    "test_variable = progress_saver(\n",
    "    name=\"test_variable\", subfolder=\"test\", properties=[num, blam], code_f=test_var2\n",
    ")\n",
    "\n",
    "print(test_variable)\n",
    "\n",
    "with open(file_path, \"rb\") as f:\n",
    "    loaded_variable = dill.load(f)\n",
    "\n",
    "assert loaded_variable == 1\n",
    "\n",
    "# # # print(test_variable)"
   ]
  }
 ],
 "metadata": {
  "kernelspec": {
   "display_name": "collab",
   "language": "python",
   "name": "python3"
  },
  "language_info": {
   "codemirror_mode": {
    "name": "ipython",
    "version": 3
   },
   "file_extension": ".py",
   "mimetype": "text/x-python",
   "name": "python",
   "nbconvert_exporter": "python",
   "pygments_lexer": "ipython3",
   "version": "3.10.13"
  }
 },
 "nbformat": 4,
 "nbformat_minor": 2
}
