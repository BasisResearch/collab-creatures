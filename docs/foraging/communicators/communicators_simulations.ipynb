{
 "cells": [
  {
   "cell_type": "code",
   "execution_count": 1,
   "metadata": {},
   "outputs": [],
   "source": [
    "import os\n",
    "import sys\n",
    "import time\n",
    "\n",
    "current_dir = os.getcwd()\n",
    "parent_dir = os.path.dirname(current_dir)\n",
    "sys.path.insert(0, parent_dir)\n",
    "\n",
    "import logging\n",
    "from itertools import product\n",
    "\n",
    "import numpy as np\n",
    "import pandas as pd\n",
    "\n",
    "import collab.foraging.communicators as com\n",
    "from collab.foraging import toolkit as ft\n",
    "from collab.utils import find_repo_root\n",
    "\n",
    "logging.basicConfig(level=logging.INFO, format=\"%(asctime)s %(message)s\")\n",
    "\n",
    "\n",
    "# if you need to change the number of frames, replace 50 with your desired number\n",
    "smoke_test = \"CI\" in os.environ\n",
    "N_frames_notebook = 10 if smoke_test else 50\n",
    "\n",
    "notebook_starts = time.time()"
   ]
  },
  {
   "cell_type": "markdown",
   "metadata": {},
   "source": [
    "Parameters of the forward model. Specify the parameter values for all the cases you are interested in. \n",
    "The next cell will generate all the combinations to pass forward to the simulation."
   ]
  },
  {
   "cell_type": "code",
   "execution_count": 2,
   "metadata": {},
   "outputs": [],
   "source": [
    "# Simulation setup 1 for the communication detection problem\n",
    "repo_root = find_repo_root()\n",
    "\n",
    "\n",
    "def simulation_setup_1():\n",
    "    global N_sims, metadataDF, home_dir, N_runs, N_frames, N_agents, edge_size, N_total_food_units\n",
    "    home_dir = os.path.join(\n",
    "        repo_root, \"data/foraging/communicators/communicators_strong/\"\n",
    "    )\n",
    "    # # agent parameters\n",
    "    sight_radius = [5]\n",
    "    c_trust = [0, 0.6]  # 0: ignorers\n",
    "    N_agents = 9\n",
    "\n",
    "    # # environment parameters\n",
    "    edge_size = 30\n",
    "    N_total_food_units = 16\n",
    "    reward_patch_dim = [4]  # clustered is 4, distributed is 1\n",
    "\n",
    "    # simulation parameters\n",
    "    N_runs = 1  # How many times would you like to run each case?\n",
    "    N_frames = N_frames_notebook\n",
    "\n",
    "    # Generate a dataframe containing all possible combinations of the parameter values specified above.\n",
    "    param_list = [i for i in product(c_trust, sight_radius, reward_patch_dim)]\n",
    "    metadataDF = pd.DataFrame(param_list)\n",
    "    metadataDF.columns = [\"c_trust\", \"sight_radius\", \"reward_patch_dim\"]\n",
    "    metadataDF[\"sim index\"] = np.arange(len(metadataDF)).astype(int)\n",
    "    N_sims = len(metadataDF) if not smoke_test else 1\n",
    "\n",
    "    # save metadata to home directory\n",
    "    if not smoke_test:\n",
    "        metadataDF.to_csv(os.path.join(home_dir, \"metadataDF.csv\"))\n",
    "        pd.DataFrame(\n",
    "            [\n",
    "                {\n",
    "                    \"N_sims\": N_sims,\n",
    "                    \"N_runs\": N_runs,\n",
    "                    \"N_frames\": N_frames,\n",
    "                    \"N_agents\": N_agents,\n",
    "                    \"N_total_food_units\": N_total_food_units,\n",
    "                    \"edge_size\": edge_size,\n",
    "                }\n",
    "            ]\n",
    "        ).to_csv(os.path.join(home_dir, \"additional_meta_params.csv\"))"
   ]
  },
  {
   "cell_type": "code",
   "execution_count": 3,
   "metadata": {},
   "outputs": [],
   "source": [
    "# setup for the extended data generation used in the paper\n",
    "\n",
    "\n",
    "def simulation_setup_2():\n",
    "    global N_sims, metadataDF, home_dir, N_runs, N_frames, N_agents, edge_size, N_total_food_units\n",
    "    # custom list of locations for simulation setup 2\n",
    "    # with focus on low values of c_trust\n",
    "    min_value = 0.0\n",
    "    max_value = 0.7\n",
    "    density1 = 0.005\n",
    "    density2 = 0.01\n",
    "    c_locations = []\n",
    "\n",
    "    current_value = min_value\n",
    "    while current_value < 0.3:\n",
    "        c_locations.append(current_value)\n",
    "        current_value += density1\n",
    "    while current_value <= max_value:\n",
    "        c_locations.append(current_value)\n",
    "        current_value += density2\n",
    "\n",
    "    home_dir = os.path.join(\n",
    "        repo_root, \"data/foraging/communicators/communicators_weak/\"\n",
    "    )\n",
    "    # agent parameters\n",
    "    sight_radius = [5]\n",
    "    c_trust = c_locations\n",
    "    # 0: ignorers,\n",
    "    N_agents = 9\n",
    "\n",
    "    # environment parameters\n",
    "    edge_size = 45\n",
    "    N_total_food_units = 16\n",
    "    reward_patch_dim = [1, 2, 4]  # clustered is 4, distributed is 1\n",
    "\n",
    "    # simulation parameters\n",
    "    N_runs = 2  # How many times would you like to run each case?\n",
    "    N_frames = N_frames_notebook\n",
    "\n",
    "    # Generate a dataframe containing all possible combinations of the parameter values specified above.\n",
    "    param_list = [i for i in product(c_trust, sight_radius, reward_patch_dim)]\n",
    "    metadataDF = pd.DataFrame(param_list)\n",
    "    metadataDF.columns = [\"c_trust\", \"sight_radius\", \"reward_patch_dim\"]\n",
    "    metadataDF[\"sim index\"] = np.arange(len(metadataDF)).astype(int)\n",
    "    N_sims = len(metadataDF)\n",
    "\n",
    "    # save metadata to home directory\n",
    "    if not smoke_test:\n",
    "        metadataDF.to_csv(os.path.join(home_dir, \"metadataDF.csv\"))\n",
    "        pd.DataFrame(\n",
    "            [\n",
    "                {\n",
    "                    \"N_sims\": N_sims,\n",
    "                    \"N_runs\": N_runs,\n",
    "                    \"N_frames\": N_frames,\n",
    "                    \"N_agents\": N_agents,\n",
    "                    \"N_total_food_units\": N_total_food_units,\n",
    "                    \"edge_size\": edge_size,\n",
    "                }\n",
    "            ]\n",
    "        ).to_csv(os.path.join(home_dir, \"additional_meta_params.csv\"))"
   ]
  },
  {
   "cell_type": "code",
   "execution_count": 4,
   "metadata": {},
   "outputs": [
    {
     "data": {
      "text/html": [
       "<div>\n",
       "<style scoped>\n",
       "    .dataframe tbody tr th:only-of-type {\n",
       "        vertical-align: middle;\n",
       "    }\n",
       "\n",
       "    .dataframe tbody tr th {\n",
       "        vertical-align: top;\n",
       "    }\n",
       "\n",
       "    .dataframe thead th {\n",
       "        text-align: right;\n",
       "    }\n",
       "</style>\n",
       "<table border=\"1\" class=\"dataframe\">\n",
       "  <thead>\n",
       "    <tr style=\"text-align: right;\">\n",
       "      <th></th>\n",
       "      <th>c_trust</th>\n",
       "      <th>sight_radius</th>\n",
       "      <th>reward_patch_dim</th>\n",
       "      <th>sim index</th>\n",
       "    </tr>\n",
       "  </thead>\n",
       "  <tbody>\n",
       "    <tr>\n",
       "      <th>0</th>\n",
       "      <td>0.0</td>\n",
       "      <td>5</td>\n",
       "      <td>4</td>\n",
       "      <td>0</td>\n",
       "    </tr>\n",
       "    <tr>\n",
       "      <th>1</th>\n",
       "      <td>0.6</td>\n",
       "      <td>5</td>\n",
       "      <td>4</td>\n",
       "      <td>1</td>\n",
       "    </tr>\n",
       "  </tbody>\n",
       "</table>\n",
       "</div>"
      ],
      "text/plain": [
       "   c_trust  sight_radius  reward_patch_dim  sim index\n",
       "0      0.0             5                 4          0\n",
       "1      0.6             5                 4          1"
      ]
     },
     "metadata": {},
     "output_type": "display_data"
    },
    {
     "name": "stdout",
     "output_type": "stream",
     "text": [
      "(2, 4)\n",
      "/home/rafal/s78projects/collaborative-intelligence/data/foraging/communicators/communicators_strong/\n"
     ]
    }
   ],
   "source": [
    "# Simulations set right,\n",
    "# Before you start, keep in sight,\n",
    "# Data safe from overwrite.\n",
    "\n",
    "\n",
    "simulation_setup_1()\n",
    "display(metadataDF)\n",
    "print(metadataDF.shape)\n",
    "print(home_dir)"
   ]
  },
  {
   "cell_type": "code",
   "execution_count": 5,
   "metadata": {},
   "outputs": [
    {
     "name": "stderr",
     "output_type": "stream",
     "text": [
      "2023-12-14 03:13:34,309 - Starting simulation setting 1/2, about to run it 1 times.\n",
      "2023-12-14 03:13:37,628 - Saved results for batch 1/2.\n",
      "2023-12-14 03:13:37,629 - Starting simulation setting 2/2, about to run it 1 times.\n",
      "2023-12-14 03:13:40,670 - Saved results for batch 2/2.\n"
     ]
    }
   ],
   "source": [
    "# Fresh start if you choose,\n",
    "# Or pick up where you did cruise,\n",
    "# Options yours to use.\n",
    "\n",
    "fresh_start = True\n",
    "if fresh_start:\n",
    "    start = 0\n",
    "else:\n",
    "    resultsDF = pd.read_csv(os.path.join(home_dir, \"resultsDF.csv\"))\n",
    "    start = resultsDF.iloc[-1][\"sim index\"].astype(\n",
    "        int\n",
    "    )  # start with the last existing batch\n",
    "\n",
    "    logging.info(f\"Starting from batch {start+1}.\")\n",
    "\n",
    "all_results = []\n",
    "\n",
    "for si in range(start, N_sims):\n",
    "    # 1. pull out parameters from row si in the metadata\n",
    "    df_row = metadataDF.iloc[[si]]\n",
    "    c_trust = df_row[\"c_trust\"].iloc[0]\n",
    "    sight_radius = df_row[\"sight_radius\"].iloc[0]\n",
    "    reward_patch_dim = df_row[\"reward_patch_dim\"].iloc[0].astype(int)\n",
    "\n",
    "    # arrays to save success measures for each run of this simulation\n",
    "    mean_times_to_first_reward = np.zeros((N_runs))\n",
    "    num_foragers_failed = np.zeros((N_runs))\n",
    "\n",
    "    logging.info(\n",
    "        f\"Starting simulation setting {si+1}/{N_sims}, about to run it {N_runs} times.\"\n",
    "    )\n",
    "\n",
    "    # Do multiple runs of the simulation and store the results in a results dataframe\n",
    "    batch_results = []\n",
    "    for ri in range(N_runs):\n",
    "        # initialize environment\n",
    "        env = com.Environment(\n",
    "            edge_size=edge_size,\n",
    "            N_total_food_units=N_total_food_units,\n",
    "            patch_dim=reward_patch_dim,\n",
    "        )\n",
    "        env.add_food_patches()\n",
    "\n",
    "        # run simulation\n",
    "        sim = com.SimulateCommunicators(\n",
    "            env, N_frames, N_agents, c_trust=c_trust, sight_radius=sight_radius\n",
    "        )\n",
    "        sim.run()\n",
    "\n",
    "        # Compute success measures\n",
    "        time_to_first_allforagers = np.zeros(N_agents)\n",
    "        for forager_id in range(\n",
    "            1, N_agents + 1\n",
    "        ):  # compute time to first food for each forager\n",
    "            singleforagerDF = sim.all_foragersDF.loc[\n",
    "                sim.all_foragersDF.forager == forager_id\n",
    "            ]\n",
    "            time_to_first_allforagers[\n",
    "                forager_id - 1\n",
    "            ] = com.compute_time_to_first_reward(\n",
    "                singleforagerDF, sim.all_rewardsDF, N_frames\n",
    "            )\n",
    "        mean_times_to_first_reward = np.mean(\n",
    "            time_to_first_allforagers\n",
    "        )  # take the average across foragers\n",
    "        num_foragers_failed = np.sum(\n",
    "            time_to_first_allforagers == N_frames\n",
    "        )  # number of foragers that failed to reach food\n",
    "\n",
    "        # Save the simulation results in a folder named sim{si}_run{ri} in the home directory\n",
    "        sim_folder = \"sim\" + str(si) + \"_run\" + str(ri)\n",
    "        sim_dir = os.path.join(home_dir, sim_folder)\n",
    "        if not os.path.isdir(sim_dir):\n",
    "            os.makedirs(sim_dir)\n",
    "        if not smoke_test:\n",
    "            sim.all_foragersDF.to_csv(os.path.join(sim_dir, \"foragerlocsDF.csv\"))\n",
    "            sim.all_rewardsDF.to_csv(os.path.join(sim_dir, \"rewardlocsDF.csv\"))\n",
    "\n",
    "        # Combine the metadata and the success measures for the results dataframe\n",
    "        results_onesim = {\n",
    "            \"c_trust\": c_trust,\n",
    "            \"sight_radius\": sight_radius,\n",
    "            \"reward_patch_dim\": reward_patch_dim,\n",
    "            \"sim index\": si,\n",
    "            \"run index\": ri,\n",
    "            \"time to first food\": mean_times_to_first_reward,\n",
    "            \"num foragers failed\": num_foragers_failed,\n",
    "        }\n",
    "        batch_results.append(results_onesim)\n",
    "\n",
    "    batch_resultsDF = pd.DataFrame(batch_results)\n",
    "\n",
    "    if \"resultsDF\" in locals():\n",
    "        resultsDF = pd.concat([resultsDF, batch_resultsDF], ignore_index=True, axis=0)\n",
    "    else:\n",
    "        resultsDF = batch_resultsDF.copy()\n",
    "\n",
    "    if not smoke_test:\n",
    "        resultsDF.to_csv(os.path.join(home_dir, \"resultsDF.csv\"))\n",
    "        logging.info(f\"Saved results for batch {si+1}/{N_sims}.\")"
   ]
  },
  {
   "cell_type": "code",
   "execution_count": 6,
   "metadata": {},
   "outputs": [
    {
     "data": {
      "application/vnd.plotly.v1+json": {
       "config": {
        "plotlyServerURL": "https://plot.ly"
       },
       "data": [
        {
         "hovertemplate": "forager=1<br>time=1<br>x=%{x}<br>y=%{y}<extra></extra>",
         "legendgroup": "1",
         "marker": {
          "color": "#636efa",
          "line": {
           "width": 3
          },
          "opacity": 0.8,
          "size": 14,
          "symbol": "square"
         },
         "mode": "markers",
         "name": "1",
         "orientation": "v",
         "showlegend": true,
         "type": "scatter",
         "x": [
          12
         ],
         "xaxis": "x",
         "y": [
          16
         ],
         "yaxis": "y"
        },
        {
         "hovertemplate": "forager=2<br>time=1<br>x=%{x}<br>y=%{y}<extra></extra>",
         "legendgroup": "2",
         "marker": {
          "color": "#EF553B",
          "line": {
           "width": 3
          },
          "opacity": 0.8,
          "size": 14,
          "symbol": "square"
         },
         "mode": "markers",
         "name": "2",
         "orientation": "v",
         "showlegend": true,
         "type": "scatter",
         "x": [
          1
         ],
         "xaxis": "x",
         "y": [
          12
         ],
         "yaxis": "y"
        },
        {
         "hovertemplate": "forager=3<br>time=1<br>x=%{x}<br>y=%{y}<extra></extra>",
         "legendgroup": "3",
         "marker": {
          "color": "#00cc96",
          "line": {
           "width": 3
          },
          "opacity": 0.8,
          "size": 14,
          "symbol": "square"
         },
         "mode": "markers",
         "name": "3",
         "orientation": "v",
         "showlegend": true,
         "type": "scatter",
         "x": [
          5
         ],
         "xaxis": "x",
         "y": [
          11
         ],
         "yaxis": "y"
        },
        {
         "hovertemplate": "forager=4<br>time=1<br>x=%{x}<br>y=%{y}<extra></extra>",
         "legendgroup": "4",
         "marker": {
          "color": "#ab63fa",
          "line": {
           "width": 3
          },
          "opacity": 0.8,
          "size": 14,
          "symbol": "square"
         },
         "mode": "markers",
         "name": "4",
         "orientation": "v",
         "showlegend": true,
         "type": "scatter",
         "x": [
          22
         ],
         "xaxis": "x",
         "y": [
          10
         ],
         "yaxis": "y"
        },
        {
         "hovertemplate": "forager=5<br>time=1<br>x=%{x}<br>y=%{y}<extra></extra>",
         "legendgroup": "5",
         "marker": {
          "color": "#FFA15A",
          "line": {
           "width": 3
          },
          "opacity": 0.8,
          "size": 14,
          "symbol": "square"
         },
         "mode": "markers",
         "name": "5",
         "orientation": "v",
         "showlegend": true,
         "type": "scatter",
         "x": [
          9
         ],
         "xaxis": "x",
         "y": [
          8
         ],
         "yaxis": "y"
        },
        {
         "hovertemplate": "forager=6<br>time=1<br>x=%{x}<br>y=%{y}<extra></extra>",
         "legendgroup": "6",
         "marker": {
          "color": "#19d3f3",
          "line": {
           "width": 3
          },
          "opacity": 0.8,
          "size": 14,
          "symbol": "square"
         },
         "mode": "markers",
         "name": "6",
         "orientation": "v",
         "showlegend": true,
         "type": "scatter",
         "x": [
          4
         ],
         "xaxis": "x",
         "y": [
          8
         ],
         "yaxis": "y"
        },
        {
         "hovertemplate": "forager=7<br>time=1<br>x=%{x}<br>y=%{y}<extra></extra>",
         "legendgroup": "7",
         "marker": {
          "color": "#FF6692",
          "line": {
           "width": 3
          },
          "opacity": 0.8,
          "size": 14,
          "symbol": "square"
         },
         "mode": "markers",
         "name": "7",
         "orientation": "v",
         "showlegend": true,
         "type": "scatter",
         "x": [
          15
         ],
         "xaxis": "x",
         "y": [
          16
         ],
         "yaxis": "y"
        },
        {
         "hovertemplate": "forager=8<br>time=1<br>x=%{x}<br>y=%{y}<extra></extra>",
         "legendgroup": "8",
         "marker": {
          "color": "#B6E880",
          "line": {
           "width": 3
          },
          "opacity": 0.8,
          "size": 14,
          "symbol": "square"
         },
         "mode": "markers",
         "name": "8",
         "orientation": "v",
         "showlegend": true,
         "type": "scatter",
         "x": [
          7
         ],
         "xaxis": "x",
         "y": [
          16
         ],
         "yaxis": "y"
        },
        {
         "hovertemplate": "forager=9<br>time=1<br>x=%{x}<br>y=%{y}<extra></extra>",
         "legendgroup": "9",
         "marker": {
          "color": "#FF97FF",
          "line": {
           "width": 3
          },
          "opacity": 0.8,
          "size": 14,
          "symbol": "square"
         },
         "mode": "markers",
         "name": "9",
         "orientation": "v",
         "showlegend": true,
         "type": "scatter",
         "x": [
          19
         ],
         "xaxis": "x",
         "y": [
          12
         ],
         "yaxis": "y"
        },
        {
         "hovertemplate": "forager=reward<br>time=1<br>x=%{x}<br>y=%{y}<extra></extra>",
         "legendgroup": "reward",
         "marker": {
          "color": "yellow",
          "symbol": "square"
         },
         "mode": "markers",
         "name": "reward",
         "orientation": "v",
         "showlegend": false,
         "type": "scatter",
         "x": [
          14,
          15,
          16,
          17,
          14,
          15,
          16,
          17,
          14,
          15,
          16,
          17,
          14,
          15,
          16,
          17
         ],
         "xaxis": "x",
         "y": [
          15,
          15,
          15,
          15,
          16,
          16,
          16,
          16,
          17,
          17,
          17,
          17,
          18,
          18,
          18,
          18
         ],
         "yaxis": "y"
        }
       ],
       "frames": [
        {
         "data": [
          {
           "hovertemplate": "forager=1<br>time=1<br>x=%{x}<br>y=%{y}<extra></extra>",
           "legendgroup": "1",
           "marker": {
            "color": "#636efa",
            "line": {
             "width": 3
            },
            "opacity": 0.8,
            "size": 14,
            "symbol": "square"
           },
           "mode": "markers",
           "name": "1",
           "orientation": "v",
           "showlegend": true,
           "type": "scatter",
           "x": [
            12
           ],
           "xaxis": "x",
           "y": [
            16
           ],
           "yaxis": "y"
          },
          {
           "hovertemplate": "forager=2<br>time=1<br>x=%{x}<br>y=%{y}<extra></extra>",
           "legendgroup": "2",
           "marker": {
            "color": "#EF553B",
            "line": {
             "width": 3
            },
            "opacity": 0.8,
            "size": 14,
            "symbol": "square"
           },
           "mode": "markers",
           "name": "2",
           "orientation": "v",
           "showlegend": true,
           "type": "scatter",
           "x": [
            1
           ],
           "xaxis": "x",
           "y": [
            12
           ],
           "yaxis": "y"
          },
          {
           "hovertemplate": "forager=3<br>time=1<br>x=%{x}<br>y=%{y}<extra></extra>",
           "legendgroup": "3",
           "marker": {
            "color": "#00cc96",
            "line": {
             "width": 3
            },
            "opacity": 0.8,
            "size": 14,
            "symbol": "square"
           },
           "mode": "markers",
           "name": "3",
           "orientation": "v",
           "showlegend": true,
           "type": "scatter",
           "x": [
            5
           ],
           "xaxis": "x",
           "y": [
            11
           ],
           "yaxis": "y"
          },
          {
           "hovertemplate": "forager=4<br>time=1<br>x=%{x}<br>y=%{y}<extra></extra>",
           "legendgroup": "4",
           "marker": {
            "color": "#ab63fa",
            "line": {
             "width": 3
            },
            "opacity": 0.8,
            "size": 14,
            "symbol": "square"
           },
           "mode": "markers",
           "name": "4",
           "orientation": "v",
           "showlegend": true,
           "type": "scatter",
           "x": [
            22
           ],
           "xaxis": "x",
           "y": [
            10
           ],
           "yaxis": "y"
          },
          {
           "hovertemplate": "forager=5<br>time=1<br>x=%{x}<br>y=%{y}<extra></extra>",
           "legendgroup": "5",
           "marker": {
            "color": "#FFA15A",
            "line": {
             "width": 3
            },
            "opacity": 0.8,
            "size": 14,
            "symbol": "square"
           },
           "mode": "markers",
           "name": "5",
           "orientation": "v",
           "showlegend": true,
           "type": "scatter",
           "x": [
            9
           ],
           "xaxis": "x",
           "y": [
            8
           ],
           "yaxis": "y"
          },
          {
           "hovertemplate": "forager=6<br>time=1<br>x=%{x}<br>y=%{y}<extra></extra>",
           "legendgroup": "6",
           "marker": {
            "color": "#19d3f3",
            "line": {
             "width": 3
            },
            "opacity": 0.8,
            "size": 14,
            "symbol": "square"
           },
           "mode": "markers",
           "name": "6",
           "orientation": "v",
           "showlegend": true,
           "type": "scatter",
           "x": [
            4
           ],
           "xaxis": "x",
           "y": [
            8
           ],
           "yaxis": "y"
          },
          {
           "hovertemplate": "forager=7<br>time=1<br>x=%{x}<br>y=%{y}<extra></extra>",
           "legendgroup": "7",
           "marker": {
            "color": "#FF6692",
            "line": {
             "width": 3
            },
            "opacity": 0.8,
            "size": 14,
            "symbol": "square"
           },
           "mode": "markers",
           "name": "7",
           "orientation": "v",
           "showlegend": true,
           "type": "scatter",
           "x": [
            15
           ],
           "xaxis": "x",
           "y": [
            16
           ],
           "yaxis": "y"
          },
          {
           "hovertemplate": "forager=8<br>time=1<br>x=%{x}<br>y=%{y}<extra></extra>",
           "legendgroup": "8",
           "marker": {
            "color": "#B6E880",
            "line": {
             "width": 3
            },
            "opacity": 0.8,
            "size": 14,
            "symbol": "square"
           },
           "mode": "markers",
           "name": "8",
           "orientation": "v",
           "showlegend": true,
           "type": "scatter",
           "x": [
            7
           ],
           "xaxis": "x",
           "y": [
            16
           ],
           "yaxis": "y"
          },
          {
           "hovertemplate": "forager=9<br>time=1<br>x=%{x}<br>y=%{y}<extra></extra>",
           "legendgroup": "9",
           "marker": {
            "color": "#FF97FF",
            "line": {
             "width": 3
            },
            "opacity": 0.8,
            "size": 14,
            "symbol": "square"
           },
           "mode": "markers",
           "name": "9",
           "orientation": "v",
           "showlegend": true,
           "type": "scatter",
           "x": [
            19
           ],
           "xaxis": "x",
           "y": [
            12
           ],
           "yaxis": "y"
          },
          {
           "hovertemplate": "forager=reward<br>time=1<br>x=%{x}<br>y=%{y}<extra></extra>",
           "legendgroup": "reward",
           "marker": {
            "color": "yellow",
            "symbol": "square"
           },
           "mode": "markers",
           "name": "reward",
           "orientation": "v",
           "showlegend": false,
           "type": "scatter",
           "x": [
            14,
            15,
            16,
            17,
            14,
            15,
            16,
            17,
            14,
            15,
            16,
            17,
            14,
            15,
            16,
            17
           ],
           "xaxis": "x",
           "y": [
            15,
            15,
            15,
            15,
            16,
            16,
            16,
            16,
            17,
            17,
            17,
            17,
            18,
            18,
            18,
            18
           ],
           "yaxis": "y"
          }
         ],
         "name": "1"
        },
        {
         "data": [
          {
           "hovertemplate": "forager=1<br>time=2<br>x=%{x}<br>y=%{y}<extra></extra>",
           "legendgroup": "1",
           "marker": {
            "color": "#636efa",
            "line": {
             "width": 3
            },
            "opacity": 0.8,
            "size": 14,
            "symbol": "square"
           },
           "mode": "markers",
           "name": "1",
           "orientation": "v",
           "showlegend": true,
           "type": "scatter",
           "x": [
            14
           ],
           "xaxis": "x",
           "y": [
            16
           ],
           "yaxis": "y"
          },
          {
           "hovertemplate": "forager=2<br>time=2<br>x=%{x}<br>y=%{y}<extra></extra>",
           "legendgroup": "2",
           "marker": {
            "color": "#EF553B",
            "line": {
             "width": 3
            },
            "opacity": 0.8,
            "size": 14,
            "symbol": "square"
           },
           "mode": "markers",
           "name": "2",
           "orientation": "v",
           "showlegend": true,
           "type": "scatter",
           "x": [
            1
           ],
           "xaxis": "x",
           "y": [
            13
           ],
           "yaxis": "y"
          },
          {
           "hovertemplate": "forager=3<br>time=2<br>x=%{x}<br>y=%{y}<extra></extra>",
           "legendgroup": "3",
           "marker": {
            "color": "#00cc96",
            "line": {
             "width": 3
            },
            "opacity": 0.8,
            "size": 14,
            "symbol": "square"
           },
           "mode": "markers",
           "name": "3",
           "orientation": "v",
           "showlegend": true,
           "type": "scatter",
           "x": [
            5
           ],
           "xaxis": "x",
           "y": [
            14
           ],
           "yaxis": "y"
          },
          {
           "hovertemplate": "forager=4<br>time=2<br>x=%{x}<br>y=%{y}<extra></extra>",
           "legendgroup": "4",
           "marker": {
            "color": "#ab63fa",
            "line": {
             "width": 3
            },
            "opacity": 0.8,
            "size": 14,
            "symbol": "square"
           },
           "mode": "markers",
           "name": "4",
           "orientation": "v",
           "showlegend": true,
           "type": "scatter",
           "x": [
            22
           ],
           "xaxis": "x",
           "y": [
            7
           ],
           "yaxis": "y"
          },
          {
           "hovertemplate": "forager=5<br>time=2<br>x=%{x}<br>y=%{y}<extra></extra>",
           "legendgroup": "5",
           "marker": {
            "color": "#FFA15A",
            "line": {
             "width": 3
            },
            "opacity": 0.8,
            "size": 14,
            "symbol": "square"
           },
           "mode": "markers",
           "name": "5",
           "orientation": "v",
           "showlegend": true,
           "type": "scatter",
           "x": [
            8
           ],
           "xaxis": "x",
           "y": [
            6
           ],
           "yaxis": "y"
          },
          {
           "hovertemplate": "forager=6<br>time=2<br>x=%{x}<br>y=%{y}<extra></extra>",
           "legendgroup": "6",
           "marker": {
            "color": "#19d3f3",
            "line": {
             "width": 3
            },
            "opacity": 0.8,
            "size": 14,
            "symbol": "square"
           },
           "mode": "markers",
           "name": "6",
           "orientation": "v",
           "showlegend": true,
           "type": "scatter",
           "x": [
            6
           ],
           "xaxis": "x",
           "y": [
            7
           ],
           "yaxis": "y"
          },
          {
           "hovertemplate": "forager=7<br>time=2<br>x=%{x}<br>y=%{y}<extra></extra>",
           "legendgroup": "7",
           "marker": {
            "color": "#FF6692",
            "line": {
             "width": 3
            },
            "opacity": 0.8,
            "size": 14,
            "symbol": "square"
           },
           "mode": "markers",
           "name": "7",
           "orientation": "v",
           "showlegend": true,
           "type": "scatter",
           "x": [
            16
           ],
           "xaxis": "x",
           "y": [
            17
           ],
           "yaxis": "y"
          },
          {
           "hovertemplate": "forager=8<br>time=2<br>x=%{x}<br>y=%{y}<extra></extra>",
           "legendgroup": "8",
           "marker": {
            "color": "#B6E880",
            "line": {
             "width": 3
            },
            "opacity": 0.8,
            "size": 14,
            "symbol": "square"
           },
           "mode": "markers",
           "name": "8",
           "orientation": "v",
           "showlegend": true,
           "type": "scatter",
           "x": [
            7
           ],
           "xaxis": "x",
           "y": [
            14
           ],
           "yaxis": "y"
          },
          {
           "hovertemplate": "forager=9<br>time=2<br>x=%{x}<br>y=%{y}<extra></extra>",
           "legendgroup": "9",
           "marker": {
            "color": "#FF97FF",
            "line": {
             "width": 3
            },
            "opacity": 0.8,
            "size": 14,
            "symbol": "square"
           },
           "mode": "markers",
           "name": "9",
           "orientation": "v",
           "showlegend": true,
           "type": "scatter",
           "x": [
            17
           ],
           "xaxis": "x",
           "y": [
            14
           ],
           "yaxis": "y"
          },
          {
           "hovertemplate": "forager=reward<br>time=2<br>x=%{x}<br>y=%{y}<extra></extra>",
           "legendgroup": "reward",
           "marker": {
            "color": "yellow",
            "symbol": "square"
           },
           "mode": "markers",
           "name": "reward",
           "orientation": "v",
           "showlegend": false,
           "type": "scatter",
           "x": [
            14,
            15,
            16,
            17,
            14,
            15,
            16,
            17,
            14,
            15,
            16,
            17,
            14,
            15,
            16,
            17
           ],
           "xaxis": "x",
           "y": [
            15,
            15,
            15,
            15,
            16,
            16,
            16,
            16,
            17,
            17,
            17,
            17,
            18,
            18,
            18,
            18
           ],
           "yaxis": "y"
          }
         ],
         "name": "2"
        },
        {
         "data": [
          {
           "hovertemplate": "forager=1<br>time=3<br>x=%{x}<br>y=%{y}<extra></extra>",
           "legendgroup": "1",
           "marker": {
            "color": "#636efa",
            "line": {
             "width": 3
            },
            "opacity": 0.8,
            "size": 14,
            "symbol": "square"
           },
           "mode": "markers",
           "name": "1",
           "orientation": "v",
           "showlegend": true,
           "type": "scatter",
           "x": [
            16
           ],
           "xaxis": "x",
           "y": [
            16
           ],
           "yaxis": "y"
          },
          {
           "hovertemplate": "forager=2<br>time=3<br>x=%{x}<br>y=%{y}<extra></extra>",
           "legendgroup": "2",
           "marker": {
            "color": "#EF553B",
            "line": {
             "width": 3
            },
            "opacity": 0.8,
            "size": 14,
            "symbol": "square"
           },
           "mode": "markers",
           "name": "2",
           "orientation": "v",
           "showlegend": true,
           "type": "scatter",
           "x": [
            2
           ],
           "xaxis": "x",
           "y": [
            14
           ],
           "yaxis": "y"
          },
          {
           "hovertemplate": "forager=3<br>time=3<br>x=%{x}<br>y=%{y}<extra></extra>",
           "legendgroup": "3",
           "marker": {
            "color": "#00cc96",
            "line": {
             "width": 3
            },
            "opacity": 0.8,
            "size": 14,
            "symbol": "square"
           },
           "mode": "markers",
           "name": "3",
           "orientation": "v",
           "showlegend": true,
           "type": "scatter",
           "x": [
            5
           ],
           "xaxis": "x",
           "y": [
            15
           ],
           "yaxis": "y"
          },
          {
           "hovertemplate": "forager=4<br>time=3<br>x=%{x}<br>y=%{y}<extra></extra>",
           "legendgroup": "4",
           "marker": {
            "color": "#ab63fa",
            "line": {
             "width": 3
            },
            "opacity": 0.8,
            "size": 14,
            "symbol": "square"
           },
           "mode": "markers",
           "name": "4",
           "orientation": "v",
           "showlegend": true,
           "type": "scatter",
           "x": [
            23
           ],
           "xaxis": "x",
           "y": [
            6
           ],
           "yaxis": "y"
          },
          {
           "hovertemplate": "forager=5<br>time=3<br>x=%{x}<br>y=%{y}<extra></extra>",
           "legendgroup": "5",
           "marker": {
            "color": "#FFA15A",
            "line": {
             "width": 3
            },
            "opacity": 0.8,
            "size": 14,
            "symbol": "square"
           },
           "mode": "markers",
           "name": "5",
           "orientation": "v",
           "showlegend": true,
           "type": "scatter",
           "x": [
            8
           ],
           "xaxis": "x",
           "y": [
            8
           ],
           "yaxis": "y"
          },
          {
           "hovertemplate": "forager=6<br>time=3<br>x=%{x}<br>y=%{y}<extra></extra>",
           "legendgroup": "6",
           "marker": {
            "color": "#19d3f3",
            "line": {
             "width": 3
            },
            "opacity": 0.8,
            "size": 14,
            "symbol": "square"
           },
           "mode": "markers",
           "name": "6",
           "orientation": "v",
           "showlegend": true,
           "type": "scatter",
           "x": [
            6
           ],
           "xaxis": "x",
           "y": [
            5
           ],
           "yaxis": "y"
          },
          {
           "hovertemplate": "forager=7<br>time=3<br>x=%{x}<br>y=%{y}<extra></extra>",
           "legendgroup": "7",
           "marker": {
            "color": "#FF6692",
            "line": {
             "width": 3
            },
            "opacity": 0.8,
            "size": 14,
            "symbol": "square"
           },
           "mode": "markers",
           "name": "7",
           "orientation": "v",
           "showlegend": true,
           "type": "scatter",
           "x": [
            16
           ],
           "xaxis": "x",
           "y": [
            16
           ],
           "yaxis": "y"
          },
          {
           "hovertemplate": "forager=8<br>time=3<br>x=%{x}<br>y=%{y}<extra></extra>",
           "legendgroup": "8",
           "marker": {
            "color": "#B6E880",
            "line": {
             "width": 3
            },
            "opacity": 0.8,
            "size": 14,
            "symbol": "square"
           },
           "mode": "markers",
           "name": "8",
           "orientation": "v",
           "showlegend": true,
           "type": "scatter",
           "x": [
            8
           ],
           "xaxis": "x",
           "y": [
            14
           ],
           "yaxis": "y"
          },
          {
           "hovertemplate": "forager=9<br>time=3<br>x=%{x}<br>y=%{y}<extra></extra>",
           "legendgroup": "9",
           "marker": {
            "color": "#FF97FF",
            "line": {
             "width": 3
            },
            "opacity": 0.8,
            "size": 14,
            "symbol": "square"
           },
           "mode": "markers",
           "name": "9",
           "orientation": "v",
           "showlegend": true,
           "type": "scatter",
           "x": [
            16
           ],
           "xaxis": "x",
           "y": [
            16
           ],
           "yaxis": "y"
          },
          {
           "hovertemplate": "forager=reward<br>time=3<br>x=%{x}<br>y=%{y}<extra></extra>",
           "legendgroup": "reward",
           "marker": {
            "color": "yellow",
            "symbol": "square"
           },
           "mode": "markers",
           "name": "reward",
           "orientation": "v",
           "showlegend": false,
           "type": "scatter",
           "x": [
            14,
            15,
            16,
            17,
            14,
            15,
            16,
            17,
            14,
            15,
            16,
            17,
            14,
            15,
            16,
            17
           ],
           "xaxis": "x",
           "y": [
            15,
            15,
            15,
            15,
            16,
            16,
            16,
            16,
            17,
            17,
            17,
            17,
            18,
            18,
            18,
            18
           ],
           "yaxis": "y"
          }
         ],
         "name": "3"
        },
        {
         "data": [
          {
           "hovertemplate": "forager=1<br>time=4<br>x=%{x}<br>y=%{y}<extra></extra>",
           "legendgroup": "1",
           "marker": {
            "color": "#636efa",
            "line": {
             "width": 3
            },
            "opacity": 0.8,
            "size": 14,
            "symbol": "square"
           },
           "mode": "markers",
           "name": "1",
           "orientation": "v",
           "showlegend": true,
           "type": "scatter",
           "x": [
            15
           ],
           "xaxis": "x",
           "y": [
            17
           ],
           "yaxis": "y"
          },
          {
           "hovertemplate": "forager=2<br>time=4<br>x=%{x}<br>y=%{y}<extra></extra>",
           "legendgroup": "2",
           "marker": {
            "color": "#EF553B",
            "line": {
             "width": 3
            },
            "opacity": 0.8,
            "size": 14,
            "symbol": "square"
           },
           "mode": "markers",
           "name": "2",
           "orientation": "v",
           "showlegend": true,
           "type": "scatter",
           "x": [
            1
           ],
           "xaxis": "x",
           "y": [
            14
           ],
           "yaxis": "y"
          },
          {
           "hovertemplate": "forager=3<br>time=4<br>x=%{x}<br>y=%{y}<extra></extra>",
           "legendgroup": "3",
           "marker": {
            "color": "#00cc96",
            "line": {
             "width": 3
            },
            "opacity": 0.8,
            "size": 14,
            "symbol": "square"
           },
           "mode": "markers",
           "name": "3",
           "orientation": "v",
           "showlegend": true,
           "type": "scatter",
           "x": [
            7
           ],
           "xaxis": "x",
           "y": [
            14
           ],
           "yaxis": "y"
          },
          {
           "hovertemplate": "forager=4<br>time=4<br>x=%{x}<br>y=%{y}<extra></extra>",
           "legendgroup": "4",
           "marker": {
            "color": "#ab63fa",
            "line": {
             "width": 3
            },
            "opacity": 0.8,
            "size": 14,
            "symbol": "square"
           },
           "mode": "markers",
           "name": "4",
           "orientation": "v",
           "showlegend": true,
           "type": "scatter",
           "x": [
            21
           ],
           "xaxis": "x",
           "y": [
            8
           ],
           "yaxis": "y"
          },
          {
           "hovertemplate": "forager=5<br>time=4<br>x=%{x}<br>y=%{y}<extra></extra>",
           "legendgroup": "5",
           "marker": {
            "color": "#FFA15A",
            "line": {
             "width": 3
            },
            "opacity": 0.8,
            "size": 14,
            "symbol": "square"
           },
           "mode": "markers",
           "name": "5",
           "orientation": "v",
           "showlegend": true,
           "type": "scatter",
           "x": [
            6
           ],
           "xaxis": "x",
           "y": [
            10
           ],
           "yaxis": "y"
          },
          {
           "hovertemplate": "forager=6<br>time=4<br>x=%{x}<br>y=%{y}<extra></extra>",
           "legendgroup": "6",
           "marker": {
            "color": "#19d3f3",
            "line": {
             "width": 3
            },
            "opacity": 0.8,
            "size": 14,
            "symbol": "square"
           },
           "mode": "markers",
           "name": "6",
           "orientation": "v",
           "showlegend": true,
           "type": "scatter",
           "x": [
            6
           ],
           "xaxis": "x",
           "y": [
            2
           ],
           "yaxis": "y"
          },
          {
           "hovertemplate": "forager=7<br>time=4<br>x=%{x}<br>y=%{y}<extra></extra>",
           "legendgroup": "7",
           "marker": {
            "color": "#FF6692",
            "line": {
             "width": 3
            },
            "opacity": 0.8,
            "size": 14,
            "symbol": "square"
           },
           "mode": "markers",
           "name": "7",
           "orientation": "v",
           "showlegend": true,
           "type": "scatter",
           "x": [
            15
           ],
           "xaxis": "x",
           "y": [
            17
           ],
           "yaxis": "y"
          },
          {
           "hovertemplate": "forager=8<br>time=4<br>x=%{x}<br>y=%{y}<extra></extra>",
           "legendgroup": "8",
           "marker": {
            "color": "#B6E880",
            "line": {
             "width": 3
            },
            "opacity": 0.8,
            "size": 14,
            "symbol": "square"
           },
           "mode": "markers",
           "name": "8",
           "orientation": "v",
           "showlegend": true,
           "type": "scatter",
           "x": [
            8
           ],
           "xaxis": "x",
           "y": [
            16
           ],
           "yaxis": "y"
          },
          {
           "hovertemplate": "forager=9<br>time=4<br>x=%{x}<br>y=%{y}<extra></extra>",
           "legendgroup": "9",
           "marker": {
            "color": "#FF97FF",
            "line": {
             "width": 3
            },
            "opacity": 0.8,
            "size": 14,
            "symbol": "square"
           },
           "mode": "markers",
           "name": "9",
           "orientation": "v",
           "showlegend": true,
           "type": "scatter",
           "x": [
            15
           ],
           "xaxis": "x",
           "y": [
            17
           ],
           "yaxis": "y"
          },
          {
           "hovertemplate": "forager=reward<br>time=4<br>x=%{x}<br>y=%{y}<extra></extra>",
           "legendgroup": "reward",
           "marker": {
            "color": "yellow",
            "symbol": "square"
           },
           "mode": "markers",
           "name": "reward",
           "orientation": "v",
           "showlegend": false,
           "type": "scatter",
           "x": [
            14,
            15,
            16,
            17,
            14,
            15,
            16,
            17,
            14,
            15,
            16,
            17,
            14,
            15,
            16,
            17
           ],
           "xaxis": "x",
           "y": [
            15,
            15,
            15,
            15,
            16,
            16,
            16,
            16,
            17,
            17,
            17,
            17,
            18,
            18,
            18,
            18
           ],
           "yaxis": "y"
          }
         ],
         "name": "4"
        },
        {
         "data": [
          {
           "hovertemplate": "forager=1<br>time=5<br>x=%{x}<br>y=%{y}<extra></extra>",
           "legendgroup": "1",
           "marker": {
            "color": "#636efa",
            "line": {
             "width": 3
            },
            "opacity": 0.8,
            "size": 14,
            "symbol": "square"
           },
           "mode": "markers",
           "name": "1",
           "orientation": "v",
           "showlegend": true,
           "type": "scatter",
           "x": [
            17
           ],
           "xaxis": "x",
           "y": [
            17
           ],
           "yaxis": "y"
          },
          {
           "hovertemplate": "forager=2<br>time=5<br>x=%{x}<br>y=%{y}<extra></extra>",
           "legendgroup": "2",
           "marker": {
            "color": "#EF553B",
            "line": {
             "width": 3
            },
            "opacity": 0.8,
            "size": 14,
            "symbol": "square"
           },
           "mode": "markers",
           "name": "2",
           "orientation": "v",
           "showlegend": true,
           "type": "scatter",
           "x": [
            3
           ],
           "xaxis": "x",
           "y": [
            12
           ],
           "yaxis": "y"
          },
          {
           "hovertemplate": "forager=3<br>time=5<br>x=%{x}<br>y=%{y}<extra></extra>",
           "legendgroup": "3",
           "marker": {
            "color": "#00cc96",
            "line": {
             "width": 3
            },
            "opacity": 0.8,
            "size": 14,
            "symbol": "square"
           },
           "mode": "markers",
           "name": "3",
           "orientation": "v",
           "showlegend": true,
           "type": "scatter",
           "x": [
            7
           ],
           "xaxis": "x",
           "y": [
            15
           ],
           "yaxis": "y"
          },
          {
           "hovertemplate": "forager=4<br>time=5<br>x=%{x}<br>y=%{y}<extra></extra>",
           "legendgroup": "4",
           "marker": {
            "color": "#ab63fa",
            "line": {
             "width": 3
            },
            "opacity": 0.8,
            "size": 14,
            "symbol": "square"
           },
           "mode": "markers",
           "name": "4",
           "orientation": "v",
           "showlegend": true,
           "type": "scatter",
           "x": [
            21
           ],
           "xaxis": "x",
           "y": [
            6
           ],
           "yaxis": "y"
          },
          {
           "hovertemplate": "forager=5<br>time=5<br>x=%{x}<br>y=%{y}<extra></extra>",
           "legendgroup": "5",
           "marker": {
            "color": "#FFA15A",
            "line": {
             "width": 3
            },
            "opacity": 0.8,
            "size": 14,
            "symbol": "square"
           },
           "mode": "markers",
           "name": "5",
           "orientation": "v",
           "showlegend": true,
           "type": "scatter",
           "x": [
            8
           ],
           "xaxis": "x",
           "y": [
            12
           ],
           "yaxis": "y"
          },
          {
           "hovertemplate": "forager=6<br>time=5<br>x=%{x}<br>y=%{y}<extra></extra>",
           "legendgroup": "6",
           "marker": {
            "color": "#19d3f3",
            "line": {
             "width": 3
            },
            "opacity": 0.8,
            "size": 14,
            "symbol": "square"
           },
           "mode": "markers",
           "name": "6",
           "orientation": "v",
           "showlegend": true,
           "type": "scatter",
           "x": [
            3
           ],
           "xaxis": "x",
           "y": [
            2
           ],
           "yaxis": "y"
          },
          {
           "hovertemplate": "forager=7<br>time=5<br>x=%{x}<br>y=%{y}<extra></extra>",
           "legendgroup": "7",
           "marker": {
            "color": "#FF6692",
            "line": {
             "width": 3
            },
            "opacity": 0.8,
            "size": 14,
            "symbol": "square"
           },
           "mode": "markers",
           "name": "7",
           "orientation": "v",
           "showlegend": true,
           "type": "scatter",
           "x": [
            17
           ],
           "xaxis": "x",
           "y": [
            17
           ],
           "yaxis": "y"
          },
          {
           "hovertemplate": "forager=8<br>time=5<br>x=%{x}<br>y=%{y}<extra></extra>",
           "legendgroup": "8",
           "marker": {
            "color": "#B6E880",
            "line": {
             "width": 3
            },
            "opacity": 0.8,
            "size": 14,
            "symbol": "square"
           },
           "mode": "markers",
           "name": "8",
           "orientation": "v",
           "showlegend": true,
           "type": "scatter",
           "x": [
            6
           ],
           "xaxis": "x",
           "y": [
            16
           ],
           "yaxis": "y"
          },
          {
           "hovertemplate": "forager=9<br>time=5<br>x=%{x}<br>y=%{y}<extra></extra>",
           "legendgroup": "9",
           "marker": {
            "color": "#FF97FF",
            "line": {
             "width": 3
            },
            "opacity": 0.8,
            "size": 14,
            "symbol": "square"
           },
           "mode": "markers",
           "name": "9",
           "orientation": "v",
           "showlegend": true,
           "type": "scatter",
           "x": [
            17
           ],
           "xaxis": "x",
           "y": [
            17
           ],
           "yaxis": "y"
          },
          {
           "hovertemplate": "forager=reward<br>time=5<br>x=%{x}<br>y=%{y}<extra></extra>",
           "legendgroup": "reward",
           "marker": {
            "color": "yellow",
            "symbol": "square"
           },
           "mode": "markers",
           "name": "reward",
           "orientation": "v",
           "showlegend": false,
           "type": "scatter",
           "x": [
            14,
            15,
            16,
            17,
            14,
            15,
            16,
            17,
            14,
            15,
            16,
            17,
            14,
            15,
            16,
            17
           ],
           "xaxis": "x",
           "y": [
            15,
            15,
            15,
            15,
            16,
            16,
            16,
            16,
            17,
            17,
            17,
            17,
            18,
            18,
            18,
            18
           ],
           "yaxis": "y"
          }
         ],
         "name": "5"
        },
        {
         "data": [
          {
           "hovertemplate": "forager=1<br>time=6<br>x=%{x}<br>y=%{y}<extra></extra>",
           "legendgroup": "1",
           "marker": {
            "color": "#636efa",
            "line": {
             "width": 3
            },
            "opacity": 0.8,
            "size": 14,
            "symbol": "square"
           },
           "mode": "markers",
           "name": "1",
           "orientation": "v",
           "showlegend": true,
           "type": "scatter",
           "x": [
            14
           ],
           "xaxis": "x",
           "y": [
            17
           ],
           "yaxis": "y"
          },
          {
           "hovertemplate": "forager=2<br>time=6<br>x=%{x}<br>y=%{y}<extra></extra>",
           "legendgroup": "2",
           "marker": {
            "color": "#EF553B",
            "line": {
             "width": 3
            },
            "opacity": 0.8,
            "size": 14,
            "symbol": "square"
           },
           "mode": "markers",
           "name": "2",
           "orientation": "v",
           "showlegend": true,
           "type": "scatter",
           "x": [
            5
           ],
           "xaxis": "x",
           "y": [
            11
           ],
           "yaxis": "y"
          },
          {
           "hovertemplate": "forager=3<br>time=6<br>x=%{x}<br>y=%{y}<extra></extra>",
           "legendgroup": "3",
           "marker": {
            "color": "#00cc96",
            "line": {
             "width": 3
            },
            "opacity": 0.8,
            "size": 14,
            "symbol": "square"
           },
           "mode": "markers",
           "name": "3",
           "orientation": "v",
           "showlegend": true,
           "type": "scatter",
           "x": [
            8
           ],
           "xaxis": "x",
           "y": [
            15
           ],
           "yaxis": "y"
          },
          {
           "hovertemplate": "forager=4<br>time=6<br>x=%{x}<br>y=%{y}<extra></extra>",
           "legendgroup": "4",
           "marker": {
            "color": "#ab63fa",
            "line": {
             "width": 3
            },
            "opacity": 0.8,
            "size": 14,
            "symbol": "square"
           },
           "mode": "markers",
           "name": "4",
           "orientation": "v",
           "showlegend": true,
           "type": "scatter",
           "x": [
            23
           ],
           "xaxis": "x",
           "y": [
            4
           ],
           "yaxis": "y"
          },
          {
           "hovertemplate": "forager=5<br>time=6<br>x=%{x}<br>y=%{y}<extra></extra>",
           "legendgroup": "5",
           "marker": {
            "color": "#FFA15A",
            "line": {
             "width": 3
            },
            "opacity": 0.8,
            "size": 14,
            "symbol": "square"
           },
           "mode": "markers",
           "name": "5",
           "orientation": "v",
           "showlegend": true,
           "type": "scatter",
           "x": [
            10
           ],
           "xaxis": "x",
           "y": [
            11
           ],
           "yaxis": "y"
          },
          {
           "hovertemplate": "forager=6<br>time=6<br>x=%{x}<br>y=%{y}<extra></extra>",
           "legendgroup": "6",
           "marker": {
            "color": "#19d3f3",
            "line": {
             "width": 3
            },
            "opacity": 0.8,
            "size": 14,
            "symbol": "square"
           },
           "mode": "markers",
           "name": "6",
           "orientation": "v",
           "showlegend": true,
           "type": "scatter",
           "x": [
            1
           ],
           "xaxis": "x",
           "y": [
            2
           ],
           "yaxis": "y"
          },
          {
           "hovertemplate": "forager=7<br>time=6<br>x=%{x}<br>y=%{y}<extra></extra>",
           "legendgroup": "7",
           "marker": {
            "color": "#FF6692",
            "line": {
             "width": 3
            },
            "opacity": 0.8,
            "size": 14,
            "symbol": "square"
           },
           "mode": "markers",
           "name": "7",
           "orientation": "v",
           "showlegend": true,
           "type": "scatter",
           "x": [
            14
           ],
           "xaxis": "x",
           "y": [
            17
           ],
           "yaxis": "y"
          },
          {
           "hovertemplate": "forager=8<br>time=6<br>x=%{x}<br>y=%{y}<extra></extra>",
           "legendgroup": "8",
           "marker": {
            "color": "#B6E880",
            "line": {
             "width": 3
            },
            "opacity": 0.8,
            "size": 14,
            "symbol": "square"
           },
           "mode": "markers",
           "name": "8",
           "orientation": "v",
           "showlegend": true,
           "type": "scatter",
           "x": [
            7
           ],
           "xaxis": "x",
           "y": [
            18
           ],
           "yaxis": "y"
          },
          {
           "hovertemplate": "forager=9<br>time=6<br>x=%{x}<br>y=%{y}<extra></extra>",
           "legendgroup": "9",
           "marker": {
            "color": "#FF97FF",
            "line": {
             "width": 3
            },
            "opacity": 0.8,
            "size": 14,
            "symbol": "square"
           },
           "mode": "markers",
           "name": "9",
           "orientation": "v",
           "showlegend": true,
           "type": "scatter",
           "x": [
            14
           ],
           "xaxis": "x",
           "y": [
            17
           ],
           "yaxis": "y"
          },
          {
           "hovertemplate": "forager=reward<br>time=6<br>x=%{x}<br>y=%{y}<extra></extra>",
           "legendgroup": "reward",
           "marker": {
            "color": "yellow",
            "symbol": "square"
           },
           "mode": "markers",
           "name": "reward",
           "orientation": "v",
           "showlegend": false,
           "type": "scatter",
           "x": [
            14,
            15,
            16,
            17,
            14,
            15,
            16,
            17,
            14,
            15,
            16,
            17,
            14,
            15,
            16,
            17
           ],
           "xaxis": "x",
           "y": [
            15,
            15,
            15,
            15,
            16,
            16,
            16,
            16,
            17,
            17,
            17,
            17,
            18,
            18,
            18,
            18
           ],
           "yaxis": "y"
          }
         ],
         "name": "6"
        },
        {
         "data": [
          {
           "hovertemplate": "forager=1<br>time=7<br>x=%{x}<br>y=%{y}<extra></extra>",
           "legendgroup": "1",
           "marker": {
            "color": "#636efa",
            "line": {
             "width": 3
            },
            "opacity": 0.8,
            "size": 14,
            "symbol": "square"
           },
           "mode": "markers",
           "name": "1",
           "orientation": "v",
           "showlegend": true,
           "type": "scatter",
           "x": [
            16
           ],
           "xaxis": "x",
           "y": [
            15
           ],
           "yaxis": "y"
          },
          {
           "hovertemplate": "forager=2<br>time=7<br>x=%{x}<br>y=%{y}<extra></extra>",
           "legendgroup": "2",
           "marker": {
            "color": "#EF553B",
            "line": {
             "width": 3
            },
            "opacity": 0.8,
            "size": 14,
            "symbol": "square"
           },
           "mode": "markers",
           "name": "2",
           "orientation": "v",
           "showlegend": true,
           "type": "scatter",
           "x": [
            3
           ],
           "xaxis": "x",
           "y": [
            11
           ],
           "yaxis": "y"
          },
          {
           "hovertemplate": "forager=3<br>time=7<br>x=%{x}<br>y=%{y}<extra></extra>",
           "legendgroup": "3",
           "marker": {
            "color": "#00cc96",
            "line": {
             "width": 3
            },
            "opacity": 0.8,
            "size": 14,
            "symbol": "square"
           },
           "mode": "markers",
           "name": "3",
           "orientation": "v",
           "showlegend": true,
           "type": "scatter",
           "x": [
            11
           ],
           "xaxis": "x",
           "y": [
            15
           ],
           "yaxis": "y"
          },
          {
           "hovertemplate": "forager=4<br>time=7<br>x=%{x}<br>y=%{y}<extra></extra>",
           "legendgroup": "4",
           "marker": {
            "color": "#ab63fa",
            "line": {
             "width": 3
            },
            "opacity": 0.8,
            "size": 14,
            "symbol": "square"
           },
           "mode": "markers",
           "name": "4",
           "orientation": "v",
           "showlegend": true,
           "type": "scatter",
           "x": [
            24
           ],
           "xaxis": "x",
           "y": [
            4
           ],
           "yaxis": "y"
          },
          {
           "hovertemplate": "forager=5<br>time=7<br>x=%{x}<br>y=%{y}<extra></extra>",
           "legendgroup": "5",
           "marker": {
            "color": "#FFA15A",
            "line": {
             "width": 3
            },
            "opacity": 0.8,
            "size": 14,
            "symbol": "square"
           },
           "mode": "markers",
           "name": "5",
           "orientation": "v",
           "showlegend": true,
           "type": "scatter",
           "x": [
            9
           ],
           "xaxis": "x",
           "y": [
            10
           ],
           "yaxis": "y"
          },
          {
           "hovertemplate": "forager=6<br>time=7<br>x=%{x}<br>y=%{y}<extra></extra>",
           "legendgroup": "6",
           "marker": {
            "color": "#19d3f3",
            "line": {
             "width": 3
            },
            "opacity": 0.8,
            "size": 14,
            "symbol": "square"
           },
           "mode": "markers",
           "name": "6",
           "orientation": "v",
           "showlegend": true,
           "type": "scatter",
           "x": [
            1
           ],
           "xaxis": "x",
           "y": [
            3
           ],
           "yaxis": "y"
          },
          {
           "hovertemplate": "forager=7<br>time=7<br>x=%{x}<br>y=%{y}<extra></extra>",
           "legendgroup": "7",
           "marker": {
            "color": "#FF6692",
            "line": {
             "width": 3
            },
            "opacity": 0.8,
            "size": 14,
            "symbol": "square"
           },
           "mode": "markers",
           "name": "7",
           "orientation": "v",
           "showlegend": true,
           "type": "scatter",
           "x": [
            16
           ],
           "xaxis": "x",
           "y": [
            15
           ],
           "yaxis": "y"
          },
          {
           "hovertemplate": "forager=8<br>time=7<br>x=%{x}<br>y=%{y}<extra></extra>",
           "legendgroup": "8",
           "marker": {
            "color": "#B6E880",
            "line": {
             "width": 3
            },
            "opacity": 0.8,
            "size": 14,
            "symbol": "square"
           },
           "mode": "markers",
           "name": "8",
           "orientation": "v",
           "showlegend": true,
           "type": "scatter",
           "x": [
            5
           ],
           "xaxis": "x",
           "y": [
            19
           ],
           "yaxis": "y"
          },
          {
           "hovertemplate": "forager=9<br>time=7<br>x=%{x}<br>y=%{y}<extra></extra>",
           "legendgroup": "9",
           "marker": {
            "color": "#FF97FF",
            "line": {
             "width": 3
            },
            "opacity": 0.8,
            "size": 14,
            "symbol": "square"
           },
           "mode": "markers",
           "name": "9",
           "orientation": "v",
           "showlegend": true,
           "type": "scatter",
           "x": [
            16
           ],
           "xaxis": "x",
           "y": [
            15
           ],
           "yaxis": "y"
          },
          {
           "hovertemplate": "forager=reward<br>time=7<br>x=%{x}<br>y=%{y}<extra></extra>",
           "legendgroup": "reward",
           "marker": {
            "color": "yellow",
            "symbol": "square"
           },
           "mode": "markers",
           "name": "reward",
           "orientation": "v",
           "showlegend": false,
           "type": "scatter",
           "x": [
            14,
            15,
            16,
            17,
            14,
            15,
            16,
            17,
            14,
            15,
            16,
            17,
            14,
            15,
            16,
            17
           ],
           "xaxis": "x",
           "y": [
            15,
            15,
            15,
            15,
            16,
            16,
            16,
            16,
            17,
            17,
            17,
            17,
            18,
            18,
            18,
            18
           ],
           "yaxis": "y"
          }
         ],
         "name": "7"
        },
        {
         "data": [
          {
           "hovertemplate": "forager=1<br>time=8<br>x=%{x}<br>y=%{y}<extra></extra>",
           "legendgroup": "1",
           "marker": {
            "color": "#636efa",
            "line": {
             "width": 3
            },
            "opacity": 0.8,
            "size": 14,
            "symbol": "square"
           },
           "mode": "markers",
           "name": "1",
           "orientation": "v",
           "showlegend": true,
           "type": "scatter",
           "x": [
            17
           ],
           "xaxis": "x",
           "y": [
            16
           ],
           "yaxis": "y"
          },
          {
           "hovertemplate": "forager=2<br>time=8<br>x=%{x}<br>y=%{y}<extra></extra>",
           "legendgroup": "2",
           "marker": {
            "color": "#EF553B",
            "line": {
             "width": 3
            },
            "opacity": 0.8,
            "size": 14,
            "symbol": "square"
           },
           "mode": "markers",
           "name": "2",
           "orientation": "v",
           "showlegend": true,
           "type": "scatter",
           "x": [
            5
           ],
           "xaxis": "x",
           "y": [
            11
           ],
           "yaxis": "y"
          },
          {
           "hovertemplate": "forager=3<br>time=8<br>x=%{x}<br>y=%{y}<extra></extra>",
           "legendgroup": "3",
           "marker": {
            "color": "#00cc96",
            "line": {
             "width": 3
            },
            "opacity": 0.8,
            "size": 14,
            "symbol": "square"
           },
           "mode": "markers",
           "name": "3",
           "orientation": "v",
           "showlegend": true,
           "type": "scatter",
           "x": [
            14
           ],
           "xaxis": "x",
           "y": [
            15
           ],
           "yaxis": "y"
          },
          {
           "hovertemplate": "forager=4<br>time=8<br>x=%{x}<br>y=%{y}<extra></extra>",
           "legendgroup": "4",
           "marker": {
            "color": "#ab63fa",
            "line": {
             "width": 3
            },
            "opacity": 0.8,
            "size": 14,
            "symbol": "square"
           },
           "mode": "markers",
           "name": "4",
           "orientation": "v",
           "showlegend": true,
           "type": "scatter",
           "x": [
            22
           ],
           "xaxis": "x",
           "y": [
            6
           ],
           "yaxis": "y"
          },
          {
           "hovertemplate": "forager=5<br>time=8<br>x=%{x}<br>y=%{y}<extra></extra>",
           "legendgroup": "5",
           "marker": {
            "color": "#FFA15A",
            "line": {
             "width": 3
            },
            "opacity": 0.8,
            "size": 14,
            "symbol": "square"
           },
           "mode": "markers",
           "name": "5",
           "orientation": "v",
           "showlegend": true,
           "type": "scatter",
           "x": [
            10
           ],
           "xaxis": "x",
           "y": [
            11
           ],
           "yaxis": "y"
          },
          {
           "hovertemplate": "forager=6<br>time=8<br>x=%{x}<br>y=%{y}<extra></extra>",
           "legendgroup": "6",
           "marker": {
            "color": "#19d3f3",
            "line": {
             "width": 3
            },
            "opacity": 0.8,
            "size": 14,
            "symbol": "square"
           },
           "mode": "markers",
           "name": "6",
           "orientation": "v",
           "showlegend": true,
           "type": "scatter",
           "x": [
            3
           ],
           "xaxis": "x",
           "y": [
            3
           ],
           "yaxis": "y"
          },
          {
           "hovertemplate": "forager=7<br>time=8<br>x=%{x}<br>y=%{y}<extra></extra>",
           "legendgroup": "7",
           "marker": {
            "color": "#FF6692",
            "line": {
             "width": 3
            },
            "opacity": 0.8,
            "size": 14,
            "symbol": "square"
           },
           "mode": "markers",
           "name": "7",
           "orientation": "v",
           "showlegend": true,
           "type": "scatter",
           "x": [
            17
           ],
           "xaxis": "x",
           "y": [
            16
           ],
           "yaxis": "y"
          },
          {
           "hovertemplate": "forager=8<br>time=8<br>x=%{x}<br>y=%{y}<extra></extra>",
           "legendgroup": "8",
           "marker": {
            "color": "#B6E880",
            "line": {
             "width": 3
            },
            "opacity": 0.8,
            "size": 14,
            "symbol": "square"
           },
           "mode": "markers",
           "name": "8",
           "orientation": "v",
           "showlegend": true,
           "type": "scatter",
           "x": [
            5
           ],
           "xaxis": "x",
           "y": [
            20
           ],
           "yaxis": "y"
          },
          {
           "hovertemplate": "forager=9<br>time=8<br>x=%{x}<br>y=%{y}<extra></extra>",
           "legendgroup": "9",
           "marker": {
            "color": "#FF97FF",
            "line": {
             "width": 3
            },
            "opacity": 0.8,
            "size": 14,
            "symbol": "square"
           },
           "mode": "markers",
           "name": "9",
           "orientation": "v",
           "showlegend": true,
           "type": "scatter",
           "x": [
            17
           ],
           "xaxis": "x",
           "y": [
            16
           ],
           "yaxis": "y"
          },
          {
           "hovertemplate": "forager=reward<br>time=8<br>x=%{x}<br>y=%{y}<extra></extra>",
           "legendgroup": "reward",
           "marker": {
            "color": "yellow",
            "symbol": "square"
           },
           "mode": "markers",
           "name": "reward",
           "orientation": "v",
           "showlegend": false,
           "type": "scatter",
           "x": [
            14,
            15,
            16,
            17,
            14,
            15,
            16,
            17,
            14,
            15,
            16,
            17,
            14,
            15,
            16,
            17
           ],
           "xaxis": "x",
           "y": [
            15,
            15,
            15,
            15,
            16,
            16,
            16,
            16,
            17,
            17,
            17,
            17,
            18,
            18,
            18,
            18
           ],
           "yaxis": "y"
          }
         ],
         "name": "8"
        },
        {
         "data": [
          {
           "hovertemplate": "forager=1<br>time=9<br>x=%{x}<br>y=%{y}<extra></extra>",
           "legendgroup": "1",
           "marker": {
            "color": "#636efa",
            "line": {
             "width": 3
            },
            "opacity": 0.8,
            "size": 14,
            "symbol": "square"
           },
           "mode": "markers",
           "name": "1",
           "orientation": "v",
           "showlegend": true,
           "type": "scatter",
           "x": [
            15
           ],
           "xaxis": "x",
           "y": [
            18
           ],
           "yaxis": "y"
          },
          {
           "hovertemplate": "forager=2<br>time=9<br>x=%{x}<br>y=%{y}<extra></extra>",
           "legendgroup": "2",
           "marker": {
            "color": "#EF553B",
            "line": {
             "width": 3
            },
            "opacity": 0.8,
            "size": 14,
            "symbol": "square"
           },
           "mode": "markers",
           "name": "2",
           "orientation": "v",
           "showlegend": true,
           "type": "scatter",
           "x": [
            4
           ],
           "xaxis": "x",
           "y": [
            9
           ],
           "yaxis": "y"
          },
          {
           "hovertemplate": "forager=3<br>time=9<br>x=%{x}<br>y=%{y}<extra></extra>",
           "legendgroup": "3",
           "marker": {
            "color": "#00cc96",
            "line": {
             "width": 3
            },
            "opacity": 0.8,
            "size": 14,
            "symbol": "square"
           },
           "mode": "markers",
           "name": "3",
           "orientation": "v",
           "showlegend": true,
           "type": "scatter",
           "x": [
            15
           ],
           "xaxis": "x",
           "y": [
            15
           ],
           "yaxis": "y"
          },
          {
           "hovertemplate": "forager=4<br>time=9<br>x=%{x}<br>y=%{y}<extra></extra>",
           "legendgroup": "4",
           "marker": {
            "color": "#ab63fa",
            "line": {
             "width": 3
            },
            "opacity": 0.8,
            "size": 14,
            "symbol": "square"
           },
           "mode": "markers",
           "name": "4",
           "orientation": "v",
           "showlegend": true,
           "type": "scatter",
           "x": [
            20
           ],
           "xaxis": "x",
           "y": [
            8
           ],
           "yaxis": "y"
          },
          {
           "hovertemplate": "forager=5<br>time=9<br>x=%{x}<br>y=%{y}<extra></extra>",
           "legendgroup": "5",
           "marker": {
            "color": "#FFA15A",
            "line": {
             "width": 3
            },
            "opacity": 0.8,
            "size": 14,
            "symbol": "square"
           },
           "mode": "markers",
           "name": "5",
           "orientation": "v",
           "showlegend": true,
           "type": "scatter",
           "x": [
            8
           ],
           "xaxis": "x",
           "y": [
            11
           ],
           "yaxis": "y"
          },
          {
           "hovertemplate": "forager=6<br>time=9<br>x=%{x}<br>y=%{y}<extra></extra>",
           "legendgroup": "6",
           "marker": {
            "color": "#19d3f3",
            "line": {
             "width": 3
            },
            "opacity": 0.8,
            "size": 14,
            "symbol": "square"
           },
           "mode": "markers",
           "name": "6",
           "orientation": "v",
           "showlegend": true,
           "type": "scatter",
           "x": [
            2
           ],
           "xaxis": "x",
           "y": [
            4
           ],
           "yaxis": "y"
          },
          {
           "hovertemplate": "forager=7<br>time=9<br>x=%{x}<br>y=%{y}<extra></extra>",
           "legendgroup": "7",
           "marker": {
            "color": "#FF6692",
            "line": {
             "width": 3
            },
            "opacity": 0.8,
            "size": 14,
            "symbol": "square"
           },
           "mode": "markers",
           "name": "7",
           "orientation": "v",
           "showlegend": true,
           "type": "scatter",
           "x": [
            15
           ],
           "xaxis": "x",
           "y": [
            18
           ],
           "yaxis": "y"
          },
          {
           "hovertemplate": "forager=8<br>time=9<br>x=%{x}<br>y=%{y}<extra></extra>",
           "legendgroup": "8",
           "marker": {
            "color": "#B6E880",
            "line": {
             "width": 3
            },
            "opacity": 0.8,
            "size": 14,
            "symbol": "square"
           },
           "mode": "markers",
           "name": "8",
           "orientation": "v",
           "showlegend": true,
           "type": "scatter",
           "x": [
            4
           ],
           "xaxis": "x",
           "y": [
            18
           ],
           "yaxis": "y"
          },
          {
           "hovertemplate": "forager=9<br>time=9<br>x=%{x}<br>y=%{y}<extra></extra>",
           "legendgroup": "9",
           "marker": {
            "color": "#FF97FF",
            "line": {
             "width": 3
            },
            "opacity": 0.8,
            "size": 14,
            "symbol": "square"
           },
           "mode": "markers",
           "name": "9",
           "orientation": "v",
           "showlegend": true,
           "type": "scatter",
           "x": [
            15
           ],
           "xaxis": "x",
           "y": [
            18
           ],
           "yaxis": "y"
          },
          {
           "hovertemplate": "forager=reward<br>time=9<br>x=%{x}<br>y=%{y}<extra></extra>",
           "legendgroup": "reward",
           "marker": {
            "color": "yellow",
            "symbol": "square"
           },
           "mode": "markers",
           "name": "reward",
           "orientation": "v",
           "showlegend": false,
           "type": "scatter",
           "x": [
            14,
            15,
            16,
            17,
            14,
            15,
            16,
            17,
            14,
            15,
            16,
            17,
            14,
            15,
            16,
            17
           ],
           "xaxis": "x",
           "y": [
            15,
            15,
            15,
            15,
            16,
            16,
            16,
            16,
            17,
            17,
            17,
            17,
            18,
            18,
            18,
            18
           ],
           "yaxis": "y"
          }
         ],
         "name": "9"
        },
        {
         "data": [
          {
           "hovertemplate": "forager=1<br>time=10<br>x=%{x}<br>y=%{y}<extra></extra>",
           "legendgroup": "1",
           "marker": {
            "color": "#636efa",
            "line": {
             "width": 3
            },
            "opacity": 0.8,
            "size": 14,
            "symbol": "square"
           },
           "mode": "markers",
           "name": "1",
           "orientation": "v",
           "showlegend": true,
           "type": "scatter",
           "x": [
            16
           ],
           "xaxis": "x",
           "y": [
            18
           ],
           "yaxis": "y"
          },
          {
           "hovertemplate": "forager=2<br>time=10<br>x=%{x}<br>y=%{y}<extra></extra>",
           "legendgroup": "2",
           "marker": {
            "color": "#EF553B",
            "line": {
             "width": 3
            },
            "opacity": 0.8,
            "size": 14,
            "symbol": "square"
           },
           "mode": "markers",
           "name": "2",
           "orientation": "v",
           "showlegend": true,
           "type": "scatter",
           "x": [
            4
           ],
           "xaxis": "x",
           "y": [
            6
           ],
           "yaxis": "y"
          },
          {
           "hovertemplate": "forager=3<br>time=10<br>x=%{x}<br>y=%{y}<extra></extra>",
           "legendgroup": "3",
           "marker": {
            "color": "#00cc96",
            "line": {
             "width": 3
            },
            "opacity": 0.8,
            "size": 14,
            "symbol": "square"
           },
           "mode": "markers",
           "name": "3",
           "orientation": "v",
           "showlegend": true,
           "type": "scatter",
           "x": [
            17
           ],
           "xaxis": "x",
           "y": [
            15
           ],
           "yaxis": "y"
          },
          {
           "hovertemplate": "forager=4<br>time=10<br>x=%{x}<br>y=%{y}<extra></extra>",
           "legendgroup": "4",
           "marker": {
            "color": "#ab63fa",
            "line": {
             "width": 3
            },
            "opacity": 0.8,
            "size": 14,
            "symbol": "square"
           },
           "mode": "markers",
           "name": "4",
           "orientation": "v",
           "showlegend": true,
           "type": "scatter",
           "x": [
            19
           ],
           "xaxis": "x",
           "y": [
            7
           ],
           "yaxis": "y"
          },
          {
           "hovertemplate": "forager=5<br>time=10<br>x=%{x}<br>y=%{y}<extra></extra>",
           "legendgroup": "5",
           "marker": {
            "color": "#FFA15A",
            "line": {
             "width": 3
            },
            "opacity": 0.8,
            "size": 14,
            "symbol": "square"
           },
           "mode": "markers",
           "name": "5",
           "orientation": "v",
           "showlegend": true,
           "type": "scatter",
           "x": [
            8
           ],
           "xaxis": "x",
           "y": [
            14
           ],
           "yaxis": "y"
          },
          {
           "hovertemplate": "forager=6<br>time=10<br>x=%{x}<br>y=%{y}<extra></extra>",
           "legendgroup": "6",
           "marker": {
            "color": "#19d3f3",
            "line": {
             "width": 3
            },
            "opacity": 0.8,
            "size": 14,
            "symbol": "square"
           },
           "mode": "markers",
           "name": "6",
           "orientation": "v",
           "showlegend": true,
           "type": "scatter",
           "x": [
            1
           ],
           "xaxis": "x",
           "y": [
            2
           ],
           "yaxis": "y"
          },
          {
           "hovertemplate": "forager=7<br>time=10<br>x=%{x}<br>y=%{y}<extra></extra>",
           "legendgroup": "7",
           "marker": {
            "color": "#FF6692",
            "line": {
             "width": 3
            },
            "opacity": 0.8,
            "size": 14,
            "symbol": "square"
           },
           "mode": "markers",
           "name": "7",
           "orientation": "v",
           "showlegend": true,
           "type": "scatter",
           "x": [
            16
           ],
           "xaxis": "x",
           "y": [
            18
           ],
           "yaxis": "y"
          },
          {
           "hovertemplate": "forager=8<br>time=10<br>x=%{x}<br>y=%{y}<extra></extra>",
           "legendgroup": "8",
           "marker": {
            "color": "#B6E880",
            "line": {
             "width": 3
            },
            "opacity": 0.8,
            "size": 14,
            "symbol": "square"
           },
           "mode": "markers",
           "name": "8",
           "orientation": "v",
           "showlegend": true,
           "type": "scatter",
           "x": [
            4
           ],
           "xaxis": "x",
           "y": [
            19
           ],
           "yaxis": "y"
          },
          {
           "hovertemplate": "forager=9<br>time=10<br>x=%{x}<br>y=%{y}<extra></extra>",
           "legendgroup": "9",
           "marker": {
            "color": "#FF97FF",
            "line": {
             "width": 3
            },
            "opacity": 0.8,
            "size": 14,
            "symbol": "square"
           },
           "mode": "markers",
           "name": "9",
           "orientation": "v",
           "showlegend": true,
           "type": "scatter",
           "x": [
            16
           ],
           "xaxis": "x",
           "y": [
            18
           ],
           "yaxis": "y"
          },
          {
           "hovertemplate": "forager=reward<br>time=10<br>x=%{x}<br>y=%{y}<extra></extra>",
           "legendgroup": "reward",
           "marker": {
            "color": "yellow",
            "symbol": "square"
           },
           "mode": "markers",
           "name": "reward",
           "orientation": "v",
           "showlegend": false,
           "type": "scatter",
           "x": [
            14,
            15,
            16,
            17,
            14,
            15,
            16,
            17,
            14,
            15,
            16,
            17,
            14,
            15,
            16,
            17
           ],
           "xaxis": "x",
           "y": [
            15,
            15,
            15,
            15,
            16,
            16,
            16,
            16,
            17,
            17,
            17,
            17,
            18,
            18,
            18,
            18
           ],
           "yaxis": "y"
          }
         ],
         "name": "10"
        },
        {
         "data": [
          {
           "hovertemplate": "forager=1<br>time=11<br>x=%{x}<br>y=%{y}<extra></extra>",
           "legendgroup": "1",
           "marker": {
            "color": "#636efa",
            "line": {
             "width": 3
            },
            "opacity": 0.8,
            "size": 14,
            "symbol": "square"
           },
           "mode": "markers",
           "name": "1",
           "orientation": "v",
           "showlegend": true,
           "type": "scatter",
           "x": [
            14
           ],
           "xaxis": "x",
           "y": [
            18
           ],
           "yaxis": "y"
          },
          {
           "hovertemplate": "forager=2<br>time=11<br>x=%{x}<br>y=%{y}<extra></extra>",
           "legendgroup": "2",
           "marker": {
            "color": "#EF553B",
            "line": {
             "width": 3
            },
            "opacity": 0.8,
            "size": 14,
            "symbol": "square"
           },
           "mode": "markers",
           "name": "2",
           "orientation": "v",
           "showlegend": true,
           "type": "scatter",
           "x": [
            7
           ],
           "xaxis": "x",
           "y": [
            6
           ],
           "yaxis": "y"
          },
          {
           "hovertemplate": "forager=3<br>time=11<br>x=%{x}<br>y=%{y}<extra></extra>",
           "legendgroup": "3",
           "marker": {
            "color": "#00cc96",
            "line": {
             "width": 3
            },
            "opacity": 0.8,
            "size": 14,
            "symbol": "square"
           },
           "mode": "markers",
           "name": "3",
           "orientation": "v",
           "showlegend": true,
           "type": "scatter",
           "x": [
            17
           ],
           "xaxis": "x",
           "y": [
            18
           ],
           "yaxis": "y"
          },
          {
           "hovertemplate": "forager=4<br>time=11<br>x=%{x}<br>y=%{y}<extra></extra>",
           "legendgroup": "4",
           "marker": {
            "color": "#ab63fa",
            "line": {
             "width": 3
            },
            "opacity": 0.8,
            "size": 14,
            "symbol": "square"
           },
           "mode": "markers",
           "name": "4",
           "orientation": "v",
           "showlegend": true,
           "type": "scatter",
           "x": [
            18
           ],
           "xaxis": "x",
           "y": [
            9
           ],
           "yaxis": "y"
          },
          {
           "hovertemplate": "forager=5<br>time=11<br>x=%{x}<br>y=%{y}<extra></extra>",
           "legendgroup": "5",
           "marker": {
            "color": "#FFA15A",
            "line": {
             "width": 3
            },
            "opacity": 0.8,
            "size": 14,
            "symbol": "square"
           },
           "mode": "markers",
           "name": "5",
           "orientation": "v",
           "showlegend": true,
           "type": "scatter",
           "x": [
            7
           ],
           "xaxis": "x",
           "y": [
            13
           ],
           "yaxis": "y"
          },
          {
           "hovertemplate": "forager=6<br>time=11<br>x=%{x}<br>y=%{y}<extra></extra>",
           "legendgroup": "6",
           "marker": {
            "color": "#19d3f3",
            "line": {
             "width": 3
            },
            "opacity": 0.8,
            "size": 14,
            "symbol": "square"
           },
           "mode": "markers",
           "name": "6",
           "orientation": "v",
           "showlegend": true,
           "type": "scatter",
           "x": [
            3
           ],
           "xaxis": "x",
           "y": [
            0
           ],
           "yaxis": "y"
          },
          {
           "hovertemplate": "forager=7<br>time=11<br>x=%{x}<br>y=%{y}<extra></extra>",
           "legendgroup": "7",
           "marker": {
            "color": "#FF6692",
            "line": {
             "width": 3
            },
            "opacity": 0.8,
            "size": 14,
            "symbol": "square"
           },
           "mode": "markers",
           "name": "7",
           "orientation": "v",
           "showlegend": true,
           "type": "scatter",
           "x": [
            14
           ],
           "xaxis": "x",
           "y": [
            18
           ],
           "yaxis": "y"
          },
          {
           "hovertemplate": "forager=8<br>time=11<br>x=%{x}<br>y=%{y}<extra></extra>",
           "legendgroup": "8",
           "marker": {
            "color": "#B6E880",
            "line": {
             "width": 3
            },
            "opacity": 0.8,
            "size": 14,
            "symbol": "square"
           },
           "mode": "markers",
           "name": "8",
           "orientation": "v",
           "showlegend": true,
           "type": "scatter",
           "x": [
            4
           ],
           "xaxis": "x",
           "y": [
            17
           ],
           "yaxis": "y"
          },
          {
           "hovertemplate": "forager=9<br>time=11<br>x=%{x}<br>y=%{y}<extra></extra>",
           "legendgroup": "9",
           "marker": {
            "color": "#FF97FF",
            "line": {
             "width": 3
            },
            "opacity": 0.8,
            "size": 14,
            "symbol": "square"
           },
           "mode": "markers",
           "name": "9",
           "orientation": "v",
           "showlegend": true,
           "type": "scatter",
           "x": [
            14
           ],
           "xaxis": "x",
           "y": [
            18
           ],
           "yaxis": "y"
          },
          {
           "hovertemplate": "forager=reward<br>time=11<br>x=%{x}<br>y=%{y}<extra></extra>",
           "legendgroup": "reward",
           "marker": {
            "color": "yellow",
            "symbol": "square"
           },
           "mode": "markers",
           "name": "reward",
           "orientation": "v",
           "showlegend": false,
           "type": "scatter",
           "x": [
            14,
            15,
            16,
            17,
            14,
            15,
            16,
            17,
            14,
            15,
            16,
            17,
            14,
            15,
            16,
            17
           ],
           "xaxis": "x",
           "y": [
            15,
            15,
            15,
            15,
            16,
            16,
            16,
            16,
            17,
            17,
            17,
            17,
            18,
            18,
            18,
            18
           ],
           "yaxis": "y"
          }
         ],
         "name": "11"
        },
        {
         "data": [
          {
           "hovertemplate": "forager=1<br>time=12<br>x=%{x}<br>y=%{y}<extra></extra>",
           "legendgroup": "1",
           "marker": {
            "color": "#636efa",
            "line": {
             "width": 3
            },
            "opacity": 0.8,
            "size": 14,
            "symbol": "square"
           },
           "mode": "markers",
           "name": "1",
           "orientation": "v",
           "showlegend": true,
           "type": "scatter",
           "x": [
            15
           ],
           "xaxis": "x",
           "y": [
            16
           ],
           "yaxis": "y"
          },
          {
           "hovertemplate": "forager=2<br>time=12<br>x=%{x}<br>y=%{y}<extra></extra>",
           "legendgroup": "2",
           "marker": {
            "color": "#EF553B",
            "line": {
             "width": 3
            },
            "opacity": 0.8,
            "size": 14,
            "symbol": "square"
           },
           "mode": "markers",
           "name": "2",
           "orientation": "v",
           "showlegend": true,
           "type": "scatter",
           "x": [
            5
           ],
           "xaxis": "x",
           "y": [
            5
           ],
           "yaxis": "y"
          },
          {
           "hovertemplate": "forager=3<br>time=12<br>x=%{x}<br>y=%{y}<extra></extra>",
           "legendgroup": "3",
           "marker": {
            "color": "#00cc96",
            "line": {
             "width": 3
            },
            "opacity": 0.8,
            "size": 14,
            "symbol": "square"
           },
           "mode": "markers",
           "name": "3",
           "orientation": "v",
           "showlegend": true,
           "type": "scatter",
           "x": [
            15
           ],
           "xaxis": "x",
           "y": [
            16
           ],
           "yaxis": "y"
          },
          {
           "hovertemplate": "forager=4<br>time=12<br>x=%{x}<br>y=%{y}<extra></extra>",
           "legendgroup": "4",
           "marker": {
            "color": "#ab63fa",
            "line": {
             "width": 3
            },
            "opacity": 0.8,
            "size": 14,
            "symbol": "square"
           },
           "mode": "markers",
           "name": "4",
           "orientation": "v",
           "showlegend": true,
           "type": "scatter",
           "x": [
            16
           ],
           "xaxis": "x",
           "y": [
            10
           ],
           "yaxis": "y"
          },
          {
           "hovertemplate": "forager=5<br>time=12<br>x=%{x}<br>y=%{y}<extra></extra>",
           "legendgroup": "5",
           "marker": {
            "color": "#FFA15A",
            "line": {
             "width": 3
            },
            "opacity": 0.8,
            "size": 14,
            "symbol": "square"
           },
           "mode": "markers",
           "name": "5",
           "orientation": "v",
           "showlegend": true,
           "type": "scatter",
           "x": [
            6
           ],
           "xaxis": "x",
           "y": [
            15
           ],
           "yaxis": "y"
          },
          {
           "hovertemplate": "forager=6<br>time=12<br>x=%{x}<br>y=%{y}<extra></extra>",
           "legendgroup": "6",
           "marker": {
            "color": "#19d3f3",
            "line": {
             "width": 3
            },
            "opacity": 0.8,
            "size": 14,
            "symbol": "square"
           },
           "mode": "markers",
           "name": "6",
           "orientation": "v",
           "showlegend": true,
           "type": "scatter",
           "x": [
            3
           ],
           "xaxis": "x",
           "y": [
            1
           ],
           "yaxis": "y"
          },
          {
           "hovertemplate": "forager=7<br>time=12<br>x=%{x}<br>y=%{y}<extra></extra>",
           "legendgroup": "7",
           "marker": {
            "color": "#FF6692",
            "line": {
             "width": 3
            },
            "opacity": 0.8,
            "size": 14,
            "symbol": "square"
           },
           "mode": "markers",
           "name": "7",
           "orientation": "v",
           "showlegend": true,
           "type": "scatter",
           "x": [
            15
           ],
           "xaxis": "x",
           "y": [
            16
           ],
           "yaxis": "y"
          },
          {
           "hovertemplate": "forager=8<br>time=12<br>x=%{x}<br>y=%{y}<extra></extra>",
           "legendgroup": "8",
           "marker": {
            "color": "#B6E880",
            "line": {
             "width": 3
            },
            "opacity": 0.8,
            "size": 14,
            "symbol": "square"
           },
           "mode": "markers",
           "name": "8",
           "orientation": "v",
           "showlegend": true,
           "type": "scatter",
           "x": [
            5
           ],
           "xaxis": "x",
           "y": [
            15
           ],
           "yaxis": "y"
          },
          {
           "hovertemplate": "forager=9<br>time=12<br>x=%{x}<br>y=%{y}<extra></extra>",
           "legendgroup": "9",
           "marker": {
            "color": "#FF97FF",
            "line": {
             "width": 3
            },
            "opacity": 0.8,
            "size": 14,
            "symbol": "square"
           },
           "mode": "markers",
           "name": "9",
           "orientation": "v",
           "showlegend": true,
           "type": "scatter",
           "x": [
            15
           ],
           "xaxis": "x",
           "y": [
            16
           ],
           "yaxis": "y"
          },
          {
           "hovertemplate": "forager=reward<br>time=12<br>x=%{x}<br>y=%{y}<extra></extra>",
           "legendgroup": "reward",
           "marker": {
            "color": "yellow",
            "symbol": "square"
           },
           "mode": "markers",
           "name": "reward",
           "orientation": "v",
           "showlegend": false,
           "type": "scatter",
           "x": [
            14,
            15,
            16,
            17,
            14,
            16,
            17,
            14,
            15,
            16,
            17,
            14,
            15,
            16,
            17
           ],
           "xaxis": "x",
           "y": [
            15,
            15,
            15,
            15,
            16,
            16,
            16,
            17,
            17,
            17,
            17,
            18,
            18,
            18,
            18
           ],
           "yaxis": "y"
          }
         ],
         "name": "12"
        },
        {
         "data": [
          {
           "hovertemplate": "forager=1<br>time=13<br>x=%{x}<br>y=%{y}<extra></extra>",
           "legendgroup": "1",
           "marker": {
            "color": "#636efa",
            "line": {
             "width": 3
            },
            "opacity": 0.8,
            "size": 14,
            "symbol": "square"
           },
           "mode": "markers",
           "name": "1",
           "orientation": "v",
           "showlegend": true,
           "type": "scatter",
           "x": [
            16
           ],
           "xaxis": "x",
           "y": [
            17
           ],
           "yaxis": "y"
          },
          {
           "hovertemplate": "forager=2<br>time=13<br>x=%{x}<br>y=%{y}<extra></extra>",
           "legendgroup": "2",
           "marker": {
            "color": "#EF553B",
            "line": {
             "width": 3
            },
            "opacity": 0.8,
            "size": 14,
            "symbol": "square"
           },
           "mode": "markers",
           "name": "2",
           "orientation": "v",
           "showlegend": true,
           "type": "scatter",
           "x": [
            7
           ],
           "xaxis": "x",
           "y": [
            5
           ],
           "yaxis": "y"
          },
          {
           "hovertemplate": "forager=3<br>time=13<br>x=%{x}<br>y=%{y}<extra></extra>",
           "legendgroup": "3",
           "marker": {
            "color": "#00cc96",
            "line": {
             "width": 3
            },
            "opacity": 0.8,
            "size": 14,
            "symbol": "square"
           },
           "mode": "markers",
           "name": "3",
           "orientation": "v",
           "showlegend": true,
           "type": "scatter",
           "x": [
            16
           ],
           "xaxis": "x",
           "y": [
            17
           ],
           "yaxis": "y"
          },
          {
           "hovertemplate": "forager=4<br>time=13<br>x=%{x}<br>y=%{y}<extra></extra>",
           "legendgroup": "4",
           "marker": {
            "color": "#ab63fa",
            "line": {
             "width": 3
            },
            "opacity": 0.8,
            "size": 14,
            "symbol": "square"
           },
           "mode": "markers",
           "name": "4",
           "orientation": "v",
           "showlegend": true,
           "type": "scatter",
           "x": [
            16
           ],
           "xaxis": "x",
           "y": [
            13
           ],
           "yaxis": "y"
          },
          {
           "hovertemplate": "forager=5<br>time=13<br>x=%{x}<br>y=%{y}<extra></extra>",
           "legendgroup": "5",
           "marker": {
            "color": "#FFA15A",
            "line": {
             "width": 3
            },
            "opacity": 0.8,
            "size": 14,
            "symbol": "square"
           },
           "mode": "markers",
           "name": "5",
           "orientation": "v",
           "showlegend": true,
           "type": "scatter",
           "x": [
            4
           ],
           "xaxis": "x",
           "y": [
            13
           ],
           "yaxis": "y"
          },
          {
           "hovertemplate": "forager=6<br>time=13<br>x=%{x}<br>y=%{y}<extra></extra>",
           "legendgroup": "6",
           "marker": {
            "color": "#19d3f3",
            "line": {
             "width": 3
            },
            "opacity": 0.8,
            "size": 14,
            "symbol": "square"
           },
           "mode": "markers",
           "name": "6",
           "orientation": "v",
           "showlegend": true,
           "type": "scatter",
           "x": [
            3
           ],
           "xaxis": "x",
           "y": [
            4
           ],
           "yaxis": "y"
          },
          {
           "hovertemplate": "forager=7<br>time=13<br>x=%{x}<br>y=%{y}<extra></extra>",
           "legendgroup": "7",
           "marker": {
            "color": "#FF6692",
            "line": {
             "width": 3
            },
            "opacity": 0.8,
            "size": 14,
            "symbol": "square"
           },
           "mode": "markers",
           "name": "7",
           "orientation": "v",
           "showlegend": true,
           "type": "scatter",
           "x": [
            16
           ],
           "xaxis": "x",
           "y": [
            17
           ],
           "yaxis": "y"
          },
          {
           "hovertemplate": "forager=8<br>time=13<br>x=%{x}<br>y=%{y}<extra></extra>",
           "legendgroup": "8",
           "marker": {
            "color": "#B6E880",
            "line": {
             "width": 3
            },
            "opacity": 0.8,
            "size": 14,
            "symbol": "square"
           },
           "mode": "markers",
           "name": "8",
           "orientation": "v",
           "showlegend": true,
           "type": "scatter",
           "x": [
            3
           ],
           "xaxis": "x",
           "y": [
            17
           ],
           "yaxis": "y"
          },
          {
           "hovertemplate": "forager=9<br>time=13<br>x=%{x}<br>y=%{y}<extra></extra>",
           "legendgroup": "9",
           "marker": {
            "color": "#FF97FF",
            "line": {
             "width": 3
            },
            "opacity": 0.8,
            "size": 14,
            "symbol": "square"
           },
           "mode": "markers",
           "name": "9",
           "orientation": "v",
           "showlegend": true,
           "type": "scatter",
           "x": [
            16
           ],
           "xaxis": "x",
           "y": [
            17
           ],
           "yaxis": "y"
          },
          {
           "hovertemplate": "forager=reward<br>time=13<br>x=%{x}<br>y=%{y}<extra></extra>",
           "legendgroup": "reward",
           "marker": {
            "color": "yellow",
            "symbol": "square"
           },
           "mode": "markers",
           "name": "reward",
           "orientation": "v",
           "showlegend": false,
           "type": "scatter",
           "x": [
            14,
            15,
            16,
            17,
            14,
            16,
            17,
            14,
            15,
            17,
            14,
            15,
            16,
            17
           ],
           "xaxis": "x",
           "y": [
            15,
            15,
            15,
            15,
            16,
            16,
            16,
            17,
            17,
            17,
            18,
            18,
            18,
            18
           ],
           "yaxis": "y"
          }
         ],
         "name": "13"
        },
        {
         "data": [
          {
           "hovertemplate": "forager=1<br>time=14<br>x=%{x}<br>y=%{y}<extra></extra>",
           "legendgroup": "1",
           "marker": {
            "color": "#636efa",
            "line": {
             "width": 3
            },
            "opacity": 0.8,
            "size": 14,
            "symbol": "square"
           },
           "mode": "markers",
           "name": "1",
           "orientation": "v",
           "showlegend": true,
           "type": "scatter",
           "x": [
            15
           ],
           "xaxis": "x",
           "y": [
            15
           ],
           "yaxis": "y"
          },
          {
           "hovertemplate": "forager=2<br>time=14<br>x=%{x}<br>y=%{y}<extra></extra>",
           "legendgroup": "2",
           "marker": {
            "color": "#EF553B",
            "line": {
             "width": 3
            },
            "opacity": 0.8,
            "size": 14,
            "symbol": "square"
           },
           "mode": "markers",
           "name": "2",
           "orientation": "v",
           "showlegend": true,
           "type": "scatter",
           "x": [
            9
           ],
           "xaxis": "x",
           "y": [
            3
           ],
           "yaxis": "y"
          },
          {
           "hovertemplate": "forager=3<br>time=14<br>x=%{x}<br>y=%{y}<extra></extra>",
           "legendgroup": "3",
           "marker": {
            "color": "#00cc96",
            "line": {
             "width": 3
            },
            "opacity": 0.8,
            "size": 14,
            "symbol": "square"
           },
           "mode": "markers",
           "name": "3",
           "orientation": "v",
           "showlegend": true,
           "type": "scatter",
           "x": [
            15
           ],
           "xaxis": "x",
           "y": [
            15
           ],
           "yaxis": "y"
          },
          {
           "hovertemplate": "forager=4<br>time=14<br>x=%{x}<br>y=%{y}<extra></extra>",
           "legendgroup": "4",
           "marker": {
            "color": "#ab63fa",
            "line": {
             "width": 3
            },
            "opacity": 0.8,
            "size": 14,
            "symbol": "square"
           },
           "mode": "markers",
           "name": "4",
           "orientation": "v",
           "showlegend": true,
           "type": "scatter",
           "x": [
            15
           ],
           "xaxis": "x",
           "y": [
            15
           ],
           "yaxis": "y"
          },
          {
           "hovertemplate": "forager=5<br>time=14<br>x=%{x}<br>y=%{y}<extra></extra>",
           "legendgroup": "5",
           "marker": {
            "color": "#FFA15A",
            "line": {
             "width": 3
            },
            "opacity": 0.8,
            "size": 14,
            "symbol": "square"
           },
           "mode": "markers",
           "name": "5",
           "orientation": "v",
           "showlegend": true,
           "type": "scatter",
           "x": [
            7
           ],
           "xaxis": "x",
           "y": [
            13
           ],
           "yaxis": "y"
          },
          {
           "hovertemplate": "forager=6<br>time=14<br>x=%{x}<br>y=%{y}<extra></extra>",
           "legendgroup": "6",
           "marker": {
            "color": "#19d3f3",
            "line": {
             "width": 3
            },
            "opacity": 0.8,
            "size": 14,
            "symbol": "square"
           },
           "mode": "markers",
           "name": "6",
           "orientation": "v",
           "showlegend": true,
           "type": "scatter",
           "x": [
            3
           ],
           "xaxis": "x",
           "y": [
            4
           ],
           "yaxis": "y"
          },
          {
           "hovertemplate": "forager=7<br>time=14<br>x=%{x}<br>y=%{y}<extra></extra>",
           "legendgroup": "7",
           "marker": {
            "color": "#FF6692",
            "line": {
             "width": 3
            },
            "opacity": 0.8,
            "size": 14,
            "symbol": "square"
           },
           "mode": "markers",
           "name": "7",
           "orientation": "v",
           "showlegend": true,
           "type": "scatter",
           "x": [
            15
           ],
           "xaxis": "x",
           "y": [
            15
           ],
           "yaxis": "y"
          },
          {
           "hovertemplate": "forager=8<br>time=14<br>x=%{x}<br>y=%{y}<extra></extra>",
           "legendgroup": "8",
           "marker": {
            "color": "#B6E880",
            "line": {
             "width": 3
            },
            "opacity": 0.8,
            "size": 14,
            "symbol": "square"
           },
           "mode": "markers",
           "name": "8",
           "orientation": "v",
           "showlegend": true,
           "type": "scatter",
           "x": [
            2
           ],
           "xaxis": "x",
           "y": [
            18
           ],
           "yaxis": "y"
          },
          {
           "hovertemplate": "forager=9<br>time=14<br>x=%{x}<br>y=%{y}<extra></extra>",
           "legendgroup": "9",
           "marker": {
            "color": "#FF97FF",
            "line": {
             "width": 3
            },
            "opacity": 0.8,
            "size": 14,
            "symbol": "square"
           },
           "mode": "markers",
           "name": "9",
           "orientation": "v",
           "showlegend": true,
           "type": "scatter",
           "x": [
            15
           ],
           "xaxis": "x",
           "y": [
            15
           ],
           "yaxis": "y"
          },
          {
           "hovertemplate": "forager=reward<br>time=14<br>x=%{x}<br>y=%{y}<extra></extra>",
           "legendgroup": "reward",
           "marker": {
            "color": "yellow",
            "symbol": "square"
           },
           "mode": "markers",
           "name": "reward",
           "orientation": "v",
           "showlegend": false,
           "type": "scatter",
           "x": [
            14,
            16,
            17,
            14,
            16,
            17,
            14,
            15,
            17,
            14,
            15,
            16,
            17
           ],
           "xaxis": "x",
           "y": [
            15,
            15,
            15,
            16,
            16,
            16,
            17,
            17,
            17,
            18,
            18,
            18,
            18
           ],
           "yaxis": "y"
          }
         ],
         "name": "14"
        },
        {
         "data": [
          {
           "hovertemplate": "forager=1<br>time=15<br>x=%{x}<br>y=%{y}<extra></extra>",
           "legendgroup": "1",
           "marker": {
            "color": "#636efa",
            "line": {
             "width": 3
            },
            "opacity": 0.8,
            "size": 14,
            "symbol": "square"
           },
           "mode": "markers",
           "name": "1",
           "orientation": "v",
           "showlegend": true,
           "type": "scatter",
           "x": [
            14
           ],
           "xaxis": "x",
           "y": [
            16
           ],
           "yaxis": "y"
          },
          {
           "hovertemplate": "forager=2<br>time=15<br>x=%{x}<br>y=%{y}<extra></extra>",
           "legendgroup": "2",
           "marker": {
            "color": "#EF553B",
            "line": {
             "width": 3
            },
            "opacity": 0.8,
            "size": 14,
            "symbol": "square"
           },
           "mode": "markers",
           "name": "2",
           "orientation": "v",
           "showlegend": true,
           "type": "scatter",
           "x": [
            9
           ],
           "xaxis": "x",
           "y": [
            6
           ],
           "yaxis": "y"
          },
          {
           "hovertemplate": "forager=3<br>time=15<br>x=%{x}<br>y=%{y}<extra></extra>",
           "legendgroup": "3",
           "marker": {
            "color": "#00cc96",
            "line": {
             "width": 3
            },
            "opacity": 0.8,
            "size": 14,
            "symbol": "square"
           },
           "mode": "markers",
           "name": "3",
           "orientation": "v",
           "showlegend": true,
           "type": "scatter",
           "x": [
            14
           ],
           "xaxis": "x",
           "y": [
            16
           ],
           "yaxis": "y"
          },
          {
           "hovertemplate": "forager=4<br>time=15<br>x=%{x}<br>y=%{y}<extra></extra>",
           "legendgroup": "4",
           "marker": {
            "color": "#ab63fa",
            "line": {
             "width": 3
            },
            "opacity": 0.8,
            "size": 14,
            "symbol": "square"
           },
           "mode": "markers",
           "name": "4",
           "orientation": "v",
           "showlegend": true,
           "type": "scatter",
           "x": [
            14
           ],
           "xaxis": "x",
           "y": [
            16
           ],
           "yaxis": "y"
          },
          {
           "hovertemplate": "forager=5<br>time=15<br>x=%{x}<br>y=%{y}<extra></extra>",
           "legendgroup": "5",
           "marker": {
            "color": "#FFA15A",
            "line": {
             "width": 3
            },
            "opacity": 0.8,
            "size": 14,
            "symbol": "square"
           },
           "mode": "markers",
           "name": "5",
           "orientation": "v",
           "showlegend": true,
           "type": "scatter",
           "x": [
            6
           ],
           "xaxis": "x",
           "y": [
            13
           ],
           "yaxis": "y"
          },
          {
           "hovertemplate": "forager=6<br>time=15<br>x=%{x}<br>y=%{y}<extra></extra>",
           "legendgroup": "6",
           "marker": {
            "color": "#19d3f3",
            "line": {
             "width": 3
            },
            "opacity": 0.8,
            "size": 14,
            "symbol": "square"
           },
           "mode": "markers",
           "name": "6",
           "orientation": "v",
           "showlegend": true,
           "type": "scatter",
           "x": [
            3
           ],
           "xaxis": "x",
           "y": [
            3
           ],
           "yaxis": "y"
          },
          {
           "hovertemplate": "forager=7<br>time=15<br>x=%{x}<br>y=%{y}<extra></extra>",
           "legendgroup": "7",
           "marker": {
            "color": "#FF6692",
            "line": {
             "width": 3
            },
            "opacity": 0.8,
            "size": 14,
            "symbol": "square"
           },
           "mode": "markers",
           "name": "7",
           "orientation": "v",
           "showlegend": true,
           "type": "scatter",
           "x": [
            14
           ],
           "xaxis": "x",
           "y": [
            16
           ],
           "yaxis": "y"
          },
          {
           "hovertemplate": "forager=8<br>time=15<br>x=%{x}<br>y=%{y}<extra></extra>",
           "legendgroup": "8",
           "marker": {
            "color": "#B6E880",
            "line": {
             "width": 3
            },
            "opacity": 0.8,
            "size": 14,
            "symbol": "square"
           },
           "mode": "markers",
           "name": "8",
           "orientation": "v",
           "showlegend": true,
           "type": "scatter",
           "x": [
            1
           ],
           "xaxis": "x",
           "y": [
            17
           ],
           "yaxis": "y"
          },
          {
           "hovertemplate": "forager=9<br>time=15<br>x=%{x}<br>y=%{y}<extra></extra>",
           "legendgroup": "9",
           "marker": {
            "color": "#FF97FF",
            "line": {
             "width": 3
            },
            "opacity": 0.8,
            "size": 14,
            "symbol": "square"
           },
           "mode": "markers",
           "name": "9",
           "orientation": "v",
           "showlegend": true,
           "type": "scatter",
           "x": [
            14
           ],
           "xaxis": "x",
           "y": [
            16
           ],
           "yaxis": "y"
          },
          {
           "hovertemplate": "forager=reward<br>time=15<br>x=%{x}<br>y=%{y}<extra></extra>",
           "legendgroup": "reward",
           "marker": {
            "color": "yellow",
            "symbol": "square"
           },
           "mode": "markers",
           "name": "reward",
           "orientation": "v",
           "showlegend": false,
           "type": "scatter",
           "x": [
            14,
            16,
            17,
            16,
            17,
            14,
            15,
            17,
            14,
            15,
            16,
            17
           ],
           "xaxis": "x",
           "y": [
            15,
            15,
            15,
            16,
            16,
            17,
            17,
            17,
            18,
            18,
            18,
            18
           ],
           "yaxis": "y"
          }
         ],
         "name": "15"
        },
        {
         "data": [
          {
           "hovertemplate": "forager=1<br>time=16<br>x=%{x}<br>y=%{y}<extra></extra>",
           "legendgroup": "1",
           "marker": {
            "color": "#636efa",
            "line": {
             "width": 3
            },
            "opacity": 0.8,
            "size": 14,
            "symbol": "square"
           },
           "mode": "markers",
           "name": "1",
           "orientation": "v",
           "showlegend": true,
           "type": "scatter",
           "x": [
            14
           ],
           "xaxis": "x",
           "y": [
            15
           ],
           "yaxis": "y"
          },
          {
           "hovertemplate": "forager=2<br>time=16<br>x=%{x}<br>y=%{y}<extra></extra>",
           "legendgroup": "2",
           "marker": {
            "color": "#EF553B",
            "line": {
             "width": 3
            },
            "opacity": 0.8,
            "size": 14,
            "symbol": "square"
           },
           "mode": "markers",
           "name": "2",
           "orientation": "v",
           "showlegend": true,
           "type": "scatter",
           "x": [
            7
           ],
           "xaxis": "x",
           "y": [
            4
           ],
           "yaxis": "y"
          },
          {
           "hovertemplate": "forager=3<br>time=16<br>x=%{x}<br>y=%{y}<extra></extra>",
           "legendgroup": "3",
           "marker": {
            "color": "#00cc96",
            "line": {
             "width": 3
            },
            "opacity": 0.8,
            "size": 14,
            "symbol": "square"
           },
           "mode": "markers",
           "name": "3",
           "orientation": "v",
           "showlegend": true,
           "type": "scatter",
           "x": [
            14
           ],
           "xaxis": "x",
           "y": [
            15
           ],
           "yaxis": "y"
          },
          {
           "hovertemplate": "forager=4<br>time=16<br>x=%{x}<br>y=%{y}<extra></extra>",
           "legendgroup": "4",
           "marker": {
            "color": "#ab63fa",
            "line": {
             "width": 3
            },
            "opacity": 0.8,
            "size": 14,
            "symbol": "square"
           },
           "mode": "markers",
           "name": "4",
           "orientation": "v",
           "showlegend": true,
           "type": "scatter",
           "x": [
            14
           ],
           "xaxis": "x",
           "y": [
            15
           ],
           "yaxis": "y"
          },
          {
           "hovertemplate": "forager=5<br>time=16<br>x=%{x}<br>y=%{y}<extra></extra>",
           "legendgroup": "5",
           "marker": {
            "color": "#FFA15A",
            "line": {
             "width": 3
            },
            "opacity": 0.8,
            "size": 14,
            "symbol": "square"
           },
           "mode": "markers",
           "name": "5",
           "orientation": "v",
           "showlegend": true,
           "type": "scatter",
           "x": [
            4
           ],
           "xaxis": "x",
           "y": [
            12
           ],
           "yaxis": "y"
          },
          {
           "hovertemplate": "forager=6<br>time=16<br>x=%{x}<br>y=%{y}<extra></extra>",
           "legendgroup": "6",
           "marker": {
            "color": "#19d3f3",
            "line": {
             "width": 3
            },
            "opacity": 0.8,
            "size": 14,
            "symbol": "square"
           },
           "mode": "markers",
           "name": "6",
           "orientation": "v",
           "showlegend": true,
           "type": "scatter",
           "x": [
            3
           ],
           "xaxis": "x",
           "y": [
            2
           ],
           "yaxis": "y"
          },
          {
           "hovertemplate": "forager=7<br>time=16<br>x=%{x}<br>y=%{y}<extra></extra>",
           "legendgroup": "7",
           "marker": {
            "color": "#FF6692",
            "line": {
             "width": 3
            },
            "opacity": 0.8,
            "size": 14,
            "symbol": "square"
           },
           "mode": "markers",
           "name": "7",
           "orientation": "v",
           "showlegend": true,
           "type": "scatter",
           "x": [
            14
           ],
           "xaxis": "x",
           "y": [
            15
           ],
           "yaxis": "y"
          },
          {
           "hovertemplate": "forager=8<br>time=16<br>x=%{x}<br>y=%{y}<extra></extra>",
           "legendgroup": "8",
           "marker": {
            "color": "#B6E880",
            "line": {
             "width": 3
            },
            "opacity": 0.8,
            "size": 14,
            "symbol": "square"
           },
           "mode": "markers",
           "name": "8",
           "orientation": "v",
           "showlegend": true,
           "type": "scatter",
           "x": [
            3
           ],
           "xaxis": "x",
           "y": [
            16
           ],
           "yaxis": "y"
          },
          {
           "hovertemplate": "forager=9<br>time=16<br>x=%{x}<br>y=%{y}<extra></extra>",
           "legendgroup": "9",
           "marker": {
            "color": "#FF97FF",
            "line": {
             "width": 3
            },
            "opacity": 0.8,
            "size": 14,
            "symbol": "square"
           },
           "mode": "markers",
           "name": "9",
           "orientation": "v",
           "showlegend": true,
           "type": "scatter",
           "x": [
            14
           ],
           "xaxis": "x",
           "y": [
            15
           ],
           "yaxis": "y"
          },
          {
           "hovertemplate": "forager=reward<br>time=16<br>x=%{x}<br>y=%{y}<extra></extra>",
           "legendgroup": "reward",
           "marker": {
            "color": "yellow",
            "symbol": "square"
           },
           "mode": "markers",
           "name": "reward",
           "orientation": "v",
           "showlegend": false,
           "type": "scatter",
           "x": [
            16,
            17,
            16,
            17,
            14,
            15,
            17,
            14,
            15,
            16,
            17
           ],
           "xaxis": "x",
           "y": [
            15,
            15,
            16,
            16,
            17,
            17,
            17,
            18,
            18,
            18,
            18
           ],
           "yaxis": "y"
          }
         ],
         "name": "16"
        },
        {
         "data": [
          {
           "hovertemplate": "forager=1<br>time=17<br>x=%{x}<br>y=%{y}<extra></extra>",
           "legendgroup": "1",
           "marker": {
            "color": "#636efa",
            "line": {
             "width": 3
            },
            "opacity": 0.8,
            "size": 14,
            "symbol": "square"
           },
           "mode": "markers",
           "name": "1",
           "orientation": "v",
           "showlegend": true,
           "type": "scatter",
           "x": [
            17
           ],
           "xaxis": "x",
           "y": [
            15
           ],
           "yaxis": "y"
          },
          {
           "hovertemplate": "forager=2<br>time=17<br>x=%{x}<br>y=%{y}<extra></extra>",
           "legendgroup": "2",
           "marker": {
            "color": "#EF553B",
            "line": {
             "width": 3
            },
            "opacity": 0.8,
            "size": 14,
            "symbol": "square"
           },
           "mode": "markers",
           "name": "2",
           "orientation": "v",
           "showlegend": true,
           "type": "scatter",
           "x": [
            7
           ],
           "xaxis": "x",
           "y": [
            6
           ],
           "yaxis": "y"
          },
          {
           "hovertemplate": "forager=3<br>time=17<br>x=%{x}<br>y=%{y}<extra></extra>",
           "legendgroup": "3",
           "marker": {
            "color": "#00cc96",
            "line": {
             "width": 3
            },
            "opacity": 0.8,
            "size": 14,
            "symbol": "square"
           },
           "mode": "markers",
           "name": "3",
           "orientation": "v",
           "showlegend": true,
           "type": "scatter",
           "x": [
            17
           ],
           "xaxis": "x",
           "y": [
            15
           ],
           "yaxis": "y"
          },
          {
           "hovertemplate": "forager=4<br>time=17<br>x=%{x}<br>y=%{y}<extra></extra>",
           "legendgroup": "4",
           "marker": {
            "color": "#ab63fa",
            "line": {
             "width": 3
            },
            "opacity": 0.8,
            "size": 14,
            "symbol": "square"
           },
           "mode": "markers",
           "name": "4",
           "orientation": "v",
           "showlegend": true,
           "type": "scatter",
           "x": [
            17
           ],
           "xaxis": "x",
           "y": [
            15
           ],
           "yaxis": "y"
          },
          {
           "hovertemplate": "forager=5<br>time=17<br>x=%{x}<br>y=%{y}<extra></extra>",
           "legendgroup": "5",
           "marker": {
            "color": "#FFA15A",
            "line": {
             "width": 3
            },
            "opacity": 0.8,
            "size": 14,
            "symbol": "square"
           },
           "mode": "markers",
           "name": "5",
           "orientation": "v",
           "showlegend": true,
           "type": "scatter",
           "x": [
            4
           ],
           "xaxis": "x",
           "y": [
            12
           ],
           "yaxis": "y"
          },
          {
           "hovertemplate": "forager=6<br>time=17<br>x=%{x}<br>y=%{y}<extra></extra>",
           "legendgroup": "6",
           "marker": {
            "color": "#19d3f3",
            "line": {
             "width": 3
            },
            "opacity": 0.8,
            "size": 14,
            "symbol": "square"
           },
           "mode": "markers",
           "name": "6",
           "orientation": "v",
           "showlegend": true,
           "type": "scatter",
           "x": [
            1
           ],
           "xaxis": "x",
           "y": [
            2
           ],
           "yaxis": "y"
          },
          {
           "hovertemplate": "forager=7<br>time=17<br>x=%{x}<br>y=%{y}<extra></extra>",
           "legendgroup": "7",
           "marker": {
            "color": "#FF6692",
            "line": {
             "width": 3
            },
            "opacity": 0.8,
            "size": 14,
            "symbol": "square"
           },
           "mode": "markers",
           "name": "7",
           "orientation": "v",
           "showlegend": true,
           "type": "scatter",
           "x": [
            17
           ],
           "xaxis": "x",
           "y": [
            15
           ],
           "yaxis": "y"
          },
          {
           "hovertemplate": "forager=8<br>time=17<br>x=%{x}<br>y=%{y}<extra></extra>",
           "legendgroup": "8",
           "marker": {
            "color": "#B6E880",
            "line": {
             "width": 3
            },
            "opacity": 0.8,
            "size": 14,
            "symbol": "square"
           },
           "mode": "markers",
           "name": "8",
           "orientation": "v",
           "showlegend": true,
           "type": "scatter",
           "x": [
            1
           ],
           "xaxis": "x",
           "y": [
            15
           ],
           "yaxis": "y"
          },
          {
           "hovertemplate": "forager=9<br>time=17<br>x=%{x}<br>y=%{y}<extra></extra>",
           "legendgroup": "9",
           "marker": {
            "color": "#FF97FF",
            "line": {
             "width": 3
            },
            "opacity": 0.8,
            "size": 14,
            "symbol": "square"
           },
           "mode": "markers",
           "name": "9",
           "orientation": "v",
           "showlegend": true,
           "type": "scatter",
           "x": [
            17
           ],
           "xaxis": "x",
           "y": [
            15
           ],
           "yaxis": "y"
          },
          {
           "hovertemplate": "forager=reward<br>time=17<br>x=%{x}<br>y=%{y}<extra></extra>",
           "legendgroup": "reward",
           "marker": {
            "color": "yellow",
            "symbol": "square"
           },
           "mode": "markers",
           "name": "reward",
           "orientation": "v",
           "showlegend": false,
           "type": "scatter",
           "x": [
            16,
            16,
            17,
            14,
            15,
            17,
            14,
            15,
            16,
            17
           ],
           "xaxis": "x",
           "y": [
            15,
            16,
            16,
            17,
            17,
            17,
            18,
            18,
            18,
            18
           ],
           "yaxis": "y"
          }
         ],
         "name": "17"
        },
        {
         "data": [
          {
           "hovertemplate": "forager=1<br>time=18<br>x=%{x}<br>y=%{y}<extra></extra>",
           "legendgroup": "1",
           "marker": {
            "color": "#636efa",
            "line": {
             "width": 3
            },
            "opacity": 0.8,
            "size": 14,
            "symbol": "square"
           },
           "mode": "markers",
           "name": "1",
           "orientation": "v",
           "showlegend": true,
           "type": "scatter",
           "x": [
            17
           ],
           "xaxis": "x",
           "y": [
            18
           ],
           "yaxis": "y"
          },
          {
           "hovertemplate": "forager=2<br>time=18<br>x=%{x}<br>y=%{y}<extra></extra>",
           "legendgroup": "2",
           "marker": {
            "color": "#EF553B",
            "line": {
             "width": 3
            },
            "opacity": 0.8,
            "size": 14,
            "symbol": "square"
           },
           "mode": "markers",
           "name": "2",
           "orientation": "v",
           "showlegend": true,
           "type": "scatter",
           "x": [
            8
           ],
           "xaxis": "x",
           "y": [
            4
           ],
           "yaxis": "y"
          },
          {
           "hovertemplate": "forager=3<br>time=18<br>x=%{x}<br>y=%{y}<extra></extra>",
           "legendgroup": "3",
           "marker": {
            "color": "#00cc96",
            "line": {
             "width": 3
            },
            "opacity": 0.8,
            "size": 14,
            "symbol": "square"
           },
           "mode": "markers",
           "name": "3",
           "orientation": "v",
           "showlegend": true,
           "type": "scatter",
           "x": [
            17
           ],
           "xaxis": "x",
           "y": [
            18
           ],
           "yaxis": "y"
          },
          {
           "hovertemplate": "forager=4<br>time=18<br>x=%{x}<br>y=%{y}<extra></extra>",
           "legendgroup": "4",
           "marker": {
            "color": "#ab63fa",
            "line": {
             "width": 3
            },
            "opacity": 0.8,
            "size": 14,
            "symbol": "square"
           },
           "mode": "markers",
           "name": "4",
           "orientation": "v",
           "showlegend": true,
           "type": "scatter",
           "x": [
            17
           ],
           "xaxis": "x",
           "y": [
            18
           ],
           "yaxis": "y"
          },
          {
           "hovertemplate": "forager=5<br>time=18<br>x=%{x}<br>y=%{y}<extra></extra>",
           "legendgroup": "5",
           "marker": {
            "color": "#FFA15A",
            "line": {
             "width": 3
            },
            "opacity": 0.8,
            "size": 14,
            "symbol": "square"
           },
           "mode": "markers",
           "name": "5",
           "orientation": "v",
           "showlegend": true,
           "type": "scatter",
           "x": [
            5
           ],
           "xaxis": "x",
           "y": [
            11
           ],
           "yaxis": "y"
          },
          {
           "hovertemplate": "forager=6<br>time=18<br>x=%{x}<br>y=%{y}<extra></extra>",
           "legendgroup": "6",
           "marker": {
            "color": "#19d3f3",
            "line": {
             "width": 3
            },
            "opacity": 0.8,
            "size": 14,
            "symbol": "square"
           },
           "mode": "markers",
           "name": "6",
           "orientation": "v",
           "showlegend": true,
           "type": "scatter",
           "x": [
            3
           ],
           "xaxis": "x",
           "y": [
            2
           ],
           "yaxis": "y"
          },
          {
           "hovertemplate": "forager=7<br>time=18<br>x=%{x}<br>y=%{y}<extra></extra>",
           "legendgroup": "7",
           "marker": {
            "color": "#FF6692",
            "line": {
             "width": 3
            },
            "opacity": 0.8,
            "size": 14,
            "symbol": "square"
           },
           "mode": "markers",
           "name": "7",
           "orientation": "v",
           "showlegend": true,
           "type": "scatter",
           "x": [
            17
           ],
           "xaxis": "x",
           "y": [
            18
           ],
           "yaxis": "y"
          },
          {
           "hovertemplate": "forager=8<br>time=18<br>x=%{x}<br>y=%{y}<extra></extra>",
           "legendgroup": "8",
           "marker": {
            "color": "#B6E880",
            "line": {
             "width": 3
            },
            "opacity": 0.8,
            "size": 14,
            "symbol": "square"
           },
           "mode": "markers",
           "name": "8",
           "orientation": "v",
           "showlegend": true,
           "type": "scatter",
           "x": [
            0
           ],
           "xaxis": "x",
           "y": [
            13
           ],
           "yaxis": "y"
          },
          {
           "hovertemplate": "forager=9<br>time=18<br>x=%{x}<br>y=%{y}<extra></extra>",
           "legendgroup": "9",
           "marker": {
            "color": "#FF97FF",
            "line": {
             "width": 3
            },
            "opacity": 0.8,
            "size": 14,
            "symbol": "square"
           },
           "mode": "markers",
           "name": "9",
           "orientation": "v",
           "showlegend": true,
           "type": "scatter",
           "x": [
            17
           ],
           "xaxis": "x",
           "y": [
            18
           ],
           "yaxis": "y"
          },
          {
           "hovertemplate": "forager=reward<br>time=18<br>x=%{x}<br>y=%{y}<extra></extra>",
           "legendgroup": "reward",
           "marker": {
            "color": "yellow",
            "symbol": "square"
           },
           "mode": "markers",
           "name": "reward",
           "orientation": "v",
           "showlegend": false,
           "type": "scatter",
           "x": [
            16,
            16,
            17,
            14,
            15,
            17,
            14,
            15,
            16
           ],
           "xaxis": "x",
           "y": [
            15,
            16,
            16,
            17,
            17,
            17,
            18,
            18,
            18
           ],
           "yaxis": "y"
          }
         ],
         "name": "18"
        },
        {
         "data": [
          {
           "hovertemplate": "forager=1<br>time=19<br>x=%{x}<br>y=%{y}<extra></extra>",
           "legendgroup": "1",
           "marker": {
            "color": "#636efa",
            "line": {
             "width": 3
            },
            "opacity": 0.8,
            "size": 14,
            "symbol": "square"
           },
           "mode": "markers",
           "name": "1",
           "orientation": "v",
           "showlegend": true,
           "type": "scatter",
           "x": [
            15
           ],
           "xaxis": "x",
           "y": [
            17
           ],
           "yaxis": "y"
          },
          {
           "hovertemplate": "forager=2<br>time=19<br>x=%{x}<br>y=%{y}<extra></extra>",
           "legendgroup": "2",
           "marker": {
            "color": "#EF553B",
            "line": {
             "width": 3
            },
            "opacity": 0.8,
            "size": 14,
            "symbol": "square"
           },
           "mode": "markers",
           "name": "2",
           "orientation": "v",
           "showlegend": true,
           "type": "scatter",
           "x": [
            8
           ],
           "xaxis": "x",
           "y": [
            3
           ],
           "yaxis": "y"
          },
          {
           "hovertemplate": "forager=3<br>time=19<br>x=%{x}<br>y=%{y}<extra></extra>",
           "legendgroup": "3",
           "marker": {
            "color": "#00cc96",
            "line": {
             "width": 3
            },
            "opacity": 0.8,
            "size": 14,
            "symbol": "square"
           },
           "mode": "markers",
           "name": "3",
           "orientation": "v",
           "showlegend": true,
           "type": "scatter",
           "x": [
            15
           ],
           "xaxis": "x",
           "y": [
            17
           ],
           "yaxis": "y"
          },
          {
           "hovertemplate": "forager=4<br>time=19<br>x=%{x}<br>y=%{y}<extra></extra>",
           "legendgroup": "4",
           "marker": {
            "color": "#ab63fa",
            "line": {
             "width": 3
            },
            "opacity": 0.8,
            "size": 14,
            "symbol": "square"
           },
           "mode": "markers",
           "name": "4",
           "orientation": "v",
           "showlegend": true,
           "type": "scatter",
           "x": [
            15
           ],
           "xaxis": "x",
           "y": [
            17
           ],
           "yaxis": "y"
          },
          {
           "hovertemplate": "forager=5<br>time=19<br>x=%{x}<br>y=%{y}<extra></extra>",
           "legendgroup": "5",
           "marker": {
            "color": "#FFA15A",
            "line": {
             "width": 3
            },
            "opacity": 0.8,
            "size": 14,
            "symbol": "square"
           },
           "mode": "markers",
           "name": "5",
           "orientation": "v",
           "showlegend": true,
           "type": "scatter",
           "x": [
            6
           ],
           "xaxis": "x",
           "y": [
            12
           ],
           "yaxis": "y"
          },
          {
           "hovertemplate": "forager=6<br>time=19<br>x=%{x}<br>y=%{y}<extra></extra>",
           "legendgroup": "6",
           "marker": {
            "color": "#19d3f3",
            "line": {
             "width": 3
            },
            "opacity": 0.8,
            "size": 14,
            "symbol": "square"
           },
           "mode": "markers",
           "name": "6",
           "orientation": "v",
           "showlegend": true,
           "type": "scatter",
           "x": [
            2
           ],
           "xaxis": "x",
           "y": [
            2
           ],
           "yaxis": "y"
          },
          {
           "hovertemplate": "forager=7<br>time=19<br>x=%{x}<br>y=%{y}<extra></extra>",
           "legendgroup": "7",
           "marker": {
            "color": "#FF6692",
            "line": {
             "width": 3
            },
            "opacity": 0.8,
            "size": 14,
            "symbol": "square"
           },
           "mode": "markers",
           "name": "7",
           "orientation": "v",
           "showlegend": true,
           "type": "scatter",
           "x": [
            15
           ],
           "xaxis": "x",
           "y": [
            17
           ],
           "yaxis": "y"
          },
          {
           "hovertemplate": "forager=8<br>time=19<br>x=%{x}<br>y=%{y}<extra></extra>",
           "legendgroup": "8",
           "marker": {
            "color": "#B6E880",
            "line": {
             "width": 3
            },
            "opacity": 0.8,
            "size": 14,
            "symbol": "square"
           },
           "mode": "markers",
           "name": "8",
           "orientation": "v",
           "showlegend": true,
           "type": "scatter",
           "x": [
            1
           ],
           "xaxis": "x",
           "y": [
            15
           ],
           "yaxis": "y"
          },
          {
           "hovertemplate": "forager=9<br>time=19<br>x=%{x}<br>y=%{y}<extra></extra>",
           "legendgroup": "9",
           "marker": {
            "color": "#FF97FF",
            "line": {
             "width": 3
            },
            "opacity": 0.8,
            "size": 14,
            "symbol": "square"
           },
           "mode": "markers",
           "name": "9",
           "orientation": "v",
           "showlegend": true,
           "type": "scatter",
           "x": [
            15
           ],
           "xaxis": "x",
           "y": [
            17
           ],
           "yaxis": "y"
          },
          {
           "hovertemplate": "forager=reward<br>time=19<br>x=%{x}<br>y=%{y}<extra></extra>",
           "legendgroup": "reward",
           "marker": {
            "color": "yellow",
            "symbol": "square"
           },
           "mode": "markers",
           "name": "reward",
           "orientation": "v",
           "showlegend": false,
           "type": "scatter",
           "x": [
            16,
            16,
            17,
            14,
            17,
            14,
            15,
            16
           ],
           "xaxis": "x",
           "y": [
            15,
            16,
            16,
            17,
            17,
            18,
            18,
            18
           ],
           "yaxis": "y"
          }
         ],
         "name": "19"
        },
        {
         "data": [
          {
           "hovertemplate": "forager=1<br>time=20<br>x=%{x}<br>y=%{y}<extra></extra>",
           "legendgroup": "1",
           "marker": {
            "color": "#636efa",
            "line": {
             "width": 3
            },
            "opacity": 0.8,
            "size": 14,
            "symbol": "square"
           },
           "mode": "markers",
           "name": "1",
           "orientation": "v",
           "showlegend": true,
           "type": "scatter",
           "x": [
            16
           ],
           "xaxis": "x",
           "y": [
            16
           ],
           "yaxis": "y"
          },
          {
           "hovertemplate": "forager=2<br>time=20<br>x=%{x}<br>y=%{y}<extra></extra>",
           "legendgroup": "2",
           "marker": {
            "color": "#EF553B",
            "line": {
             "width": 3
            },
            "opacity": 0.8,
            "size": 14,
            "symbol": "square"
           },
           "mode": "markers",
           "name": "2",
           "orientation": "v",
           "showlegend": true,
           "type": "scatter",
           "x": [
            7
           ],
           "xaxis": "x",
           "y": [
            1
           ],
           "yaxis": "y"
          },
          {
           "hovertemplate": "forager=3<br>time=20<br>x=%{x}<br>y=%{y}<extra></extra>",
           "legendgroup": "3",
           "marker": {
            "color": "#00cc96",
            "line": {
             "width": 3
            },
            "opacity": 0.8,
            "size": 14,
            "symbol": "square"
           },
           "mode": "markers",
           "name": "3",
           "orientation": "v",
           "showlegend": true,
           "type": "scatter",
           "x": [
            16
           ],
           "xaxis": "x",
           "y": [
            16
           ],
           "yaxis": "y"
          },
          {
           "hovertemplate": "forager=4<br>time=20<br>x=%{x}<br>y=%{y}<extra></extra>",
           "legendgroup": "4",
           "marker": {
            "color": "#ab63fa",
            "line": {
             "width": 3
            },
            "opacity": 0.8,
            "size": 14,
            "symbol": "square"
           },
           "mode": "markers",
           "name": "4",
           "orientation": "v",
           "showlegend": true,
           "type": "scatter",
           "x": [
            16
           ],
           "xaxis": "x",
           "y": [
            16
           ],
           "yaxis": "y"
          },
          {
           "hovertemplate": "forager=5<br>time=20<br>x=%{x}<br>y=%{y}<extra></extra>",
           "legendgroup": "5",
           "marker": {
            "color": "#FFA15A",
            "line": {
             "width": 3
            },
            "opacity": 0.8,
            "size": 14,
            "symbol": "square"
           },
           "mode": "markers",
           "name": "5",
           "orientation": "v",
           "showlegend": true,
           "type": "scatter",
           "x": [
            7
           ],
           "xaxis": "x",
           "y": [
            14
           ],
           "yaxis": "y"
          },
          {
           "hovertemplate": "forager=6<br>time=20<br>x=%{x}<br>y=%{y}<extra></extra>",
           "legendgroup": "6",
           "marker": {
            "color": "#19d3f3",
            "line": {
             "width": 3
            },
            "opacity": 0.8,
            "size": 14,
            "symbol": "square"
           },
           "mode": "markers",
           "name": "6",
           "orientation": "v",
           "showlegend": true,
           "type": "scatter",
           "x": [
            2
           ],
           "xaxis": "x",
           "y": [
            0
           ],
           "yaxis": "y"
          },
          {
           "hovertemplate": "forager=7<br>time=20<br>x=%{x}<br>y=%{y}<extra></extra>",
           "legendgroup": "7",
           "marker": {
            "color": "#FF6692",
            "line": {
             "width": 3
            },
            "opacity": 0.8,
            "size": 14,
            "symbol": "square"
           },
           "mode": "markers",
           "name": "7",
           "orientation": "v",
           "showlegend": true,
           "type": "scatter",
           "x": [
            16
           ],
           "xaxis": "x",
           "y": [
            16
           ],
           "yaxis": "y"
          },
          {
           "hovertemplate": "forager=8<br>time=20<br>x=%{x}<br>y=%{y}<extra></extra>",
           "legendgroup": "8",
           "marker": {
            "color": "#B6E880",
            "line": {
             "width": 3
            },
            "opacity": 0.8,
            "size": 14,
            "symbol": "square"
           },
           "mode": "markers",
           "name": "8",
           "orientation": "v",
           "showlegend": true,
           "type": "scatter",
           "x": [
            0
           ],
           "xaxis": "x",
           "y": [
            13
           ],
           "yaxis": "y"
          },
          {
           "hovertemplate": "forager=9<br>time=20<br>x=%{x}<br>y=%{y}<extra></extra>",
           "legendgroup": "9",
           "marker": {
            "color": "#FF97FF",
            "line": {
             "width": 3
            },
            "opacity": 0.8,
            "size": 14,
            "symbol": "square"
           },
           "mode": "markers",
           "name": "9",
           "orientation": "v",
           "showlegend": true,
           "type": "scatter",
           "x": [
            16
           ],
           "xaxis": "x",
           "y": [
            16
           ],
           "yaxis": "y"
          },
          {
           "hovertemplate": "forager=reward<br>time=20<br>x=%{x}<br>y=%{y}<extra></extra>",
           "legendgroup": "reward",
           "marker": {
            "color": "yellow",
            "symbol": "square"
           },
           "mode": "markers",
           "name": "reward",
           "orientation": "v",
           "showlegend": false,
           "type": "scatter",
           "x": [
            16,
            17,
            14,
            17,
            14,
            15,
            16
           ],
           "xaxis": "x",
           "y": [
            15,
            16,
            17,
            17,
            18,
            18,
            18
           ],
           "yaxis": "y"
          }
         ],
         "name": "20"
        },
        {
         "data": [
          {
           "hovertemplate": "forager=1<br>time=21<br>x=%{x}<br>y=%{y}<extra></extra>",
           "legendgroup": "1",
           "marker": {
            "color": "#636efa",
            "line": {
             "width": 3
            },
            "opacity": 0.8,
            "size": 14,
            "symbol": "square"
           },
           "mode": "markers",
           "name": "1",
           "orientation": "v",
           "showlegend": true,
           "type": "scatter",
           "x": [
            16
           ],
           "xaxis": "x",
           "y": [
            18
           ],
           "yaxis": "y"
          },
          {
           "hovertemplate": "forager=2<br>time=21<br>x=%{x}<br>y=%{y}<extra></extra>",
           "legendgroup": "2",
           "marker": {
            "color": "#EF553B",
            "line": {
             "width": 3
            },
            "opacity": 0.8,
            "size": 14,
            "symbol": "square"
           },
           "mode": "markers",
           "name": "2",
           "orientation": "v",
           "showlegend": true,
           "type": "scatter",
           "x": [
            8
           ],
           "xaxis": "x",
           "y": [
            1
           ],
           "yaxis": "y"
          },
          {
           "hovertemplate": "forager=3<br>time=21<br>x=%{x}<br>y=%{y}<extra></extra>",
           "legendgroup": "3",
           "marker": {
            "color": "#00cc96",
            "line": {
             "width": 3
            },
            "opacity": 0.8,
            "size": 14,
            "symbol": "square"
           },
           "mode": "markers",
           "name": "3",
           "orientation": "v",
           "showlegend": true,
           "type": "scatter",
           "x": [
            16
           ],
           "xaxis": "x",
           "y": [
            18
           ],
           "yaxis": "y"
          },
          {
           "hovertemplate": "forager=4<br>time=21<br>x=%{x}<br>y=%{y}<extra></extra>",
           "legendgroup": "4",
           "marker": {
            "color": "#ab63fa",
            "line": {
             "width": 3
            },
            "opacity": 0.8,
            "size": 14,
            "symbol": "square"
           },
           "mode": "markers",
           "name": "4",
           "orientation": "v",
           "showlegend": true,
           "type": "scatter",
           "x": [
            16
           ],
           "xaxis": "x",
           "y": [
            18
           ],
           "yaxis": "y"
          },
          {
           "hovertemplate": "forager=5<br>time=21<br>x=%{x}<br>y=%{y}<extra></extra>",
           "legendgroup": "5",
           "marker": {
            "color": "#FFA15A",
            "line": {
             "width": 3
            },
            "opacity": 0.8,
            "size": 14,
            "symbol": "square"
           },
           "mode": "markers",
           "name": "5",
           "orientation": "v",
           "showlegend": true,
           "type": "scatter",
           "x": [
            9
           ],
           "xaxis": "x",
           "y": [
            14
           ],
           "yaxis": "y"
          },
          {
           "hovertemplate": "forager=6<br>time=21<br>x=%{x}<br>y=%{y}<extra></extra>",
           "legendgroup": "6",
           "marker": {
            "color": "#19d3f3",
            "line": {
             "width": 3
            },
            "opacity": 0.8,
            "size": 14,
            "symbol": "square"
           },
           "mode": "markers",
           "name": "6",
           "orientation": "v",
           "showlegend": true,
           "type": "scatter",
           "x": [
            2
           ],
           "xaxis": "x",
           "y": [
            2
           ],
           "yaxis": "y"
          },
          {
           "hovertemplate": "forager=7<br>time=21<br>x=%{x}<br>y=%{y}<extra></extra>",
           "legendgroup": "7",
           "marker": {
            "color": "#FF6692",
            "line": {
             "width": 3
            },
            "opacity": 0.8,
            "size": 14,
            "symbol": "square"
           },
           "mode": "markers",
           "name": "7",
           "orientation": "v",
           "showlegend": true,
           "type": "scatter",
           "x": [
            16
           ],
           "xaxis": "x",
           "y": [
            18
           ],
           "yaxis": "y"
          },
          {
           "hovertemplate": "forager=8<br>time=21<br>x=%{x}<br>y=%{y}<extra></extra>",
           "legendgroup": "8",
           "marker": {
            "color": "#B6E880",
            "line": {
             "width": 3
            },
            "opacity": 0.8,
            "size": 14,
            "symbol": "square"
           },
           "mode": "markers",
           "name": "8",
           "orientation": "v",
           "showlegend": true,
           "type": "scatter",
           "x": [
            1
           ],
           "xaxis": "x",
           "y": [
            13
           ],
           "yaxis": "y"
          },
          {
           "hovertemplate": "forager=9<br>time=21<br>x=%{x}<br>y=%{y}<extra></extra>",
           "legendgroup": "9",
           "marker": {
            "color": "#FF97FF",
            "line": {
             "width": 3
            },
            "opacity": 0.8,
            "size": 14,
            "symbol": "square"
           },
           "mode": "markers",
           "name": "9",
           "orientation": "v",
           "showlegend": true,
           "type": "scatter",
           "x": [
            16
           ],
           "xaxis": "x",
           "y": [
            18
           ],
           "yaxis": "y"
          },
          {
           "hovertemplate": "forager=reward<br>time=21<br>x=%{x}<br>y=%{y}<extra></extra>",
           "legendgroup": "reward",
           "marker": {
            "color": "yellow",
            "symbol": "square"
           },
           "mode": "markers",
           "name": "reward",
           "orientation": "v",
           "showlegend": false,
           "type": "scatter",
           "x": [
            16,
            17,
            14,
            17,
            14,
            15
           ],
           "xaxis": "x",
           "y": [
            15,
            16,
            17,
            17,
            18,
            18
           ],
           "yaxis": "y"
          }
         ],
         "name": "21"
        },
        {
         "data": [
          {
           "hovertemplate": "forager=1<br>time=22<br>x=%{x}<br>y=%{y}<extra></extra>",
           "legendgroup": "1",
           "marker": {
            "color": "#636efa",
            "line": {
             "width": 3
            },
            "opacity": 0.8,
            "size": 14,
            "symbol": "square"
           },
           "mode": "markers",
           "name": "1",
           "orientation": "v",
           "showlegend": true,
           "type": "scatter",
           "x": [
            15
           ],
           "xaxis": "x",
           "y": [
            18
           ],
           "yaxis": "y"
          },
          {
           "hovertemplate": "forager=2<br>time=22<br>x=%{x}<br>y=%{y}<extra></extra>",
           "legendgroup": "2",
           "marker": {
            "color": "#EF553B",
            "line": {
             "width": 3
            },
            "opacity": 0.8,
            "size": 14,
            "symbol": "square"
           },
           "mode": "markers",
           "name": "2",
           "orientation": "v",
           "showlegend": true,
           "type": "scatter",
           "x": [
            9
           ],
           "xaxis": "x",
           "y": [
            1
           ],
           "yaxis": "y"
          },
          {
           "hovertemplate": "forager=3<br>time=22<br>x=%{x}<br>y=%{y}<extra></extra>",
           "legendgroup": "3",
           "marker": {
            "color": "#00cc96",
            "line": {
             "width": 3
            },
            "opacity": 0.8,
            "size": 14,
            "symbol": "square"
           },
           "mode": "markers",
           "name": "3",
           "orientation": "v",
           "showlegend": true,
           "type": "scatter",
           "x": [
            15
           ],
           "xaxis": "x",
           "y": [
            18
           ],
           "yaxis": "y"
          },
          {
           "hovertemplate": "forager=4<br>time=22<br>x=%{x}<br>y=%{y}<extra></extra>",
           "legendgroup": "4",
           "marker": {
            "color": "#ab63fa",
            "line": {
             "width": 3
            },
            "opacity": 0.8,
            "size": 14,
            "symbol": "square"
           },
           "mode": "markers",
           "name": "4",
           "orientation": "v",
           "showlegend": true,
           "type": "scatter",
           "x": [
            15
           ],
           "xaxis": "x",
           "y": [
            18
           ],
           "yaxis": "y"
          },
          {
           "hovertemplate": "forager=5<br>time=22<br>x=%{x}<br>y=%{y}<extra></extra>",
           "legendgroup": "5",
           "marker": {
            "color": "#FFA15A",
            "line": {
             "width": 3
            },
            "opacity": 0.8,
            "size": 14,
            "symbol": "square"
           },
           "mode": "markers",
           "name": "5",
           "orientation": "v",
           "showlegend": true,
           "type": "scatter",
           "x": [
            12
           ],
           "xaxis": "x",
           "y": [
            14
           ],
           "yaxis": "y"
          },
          {
           "hovertemplate": "forager=6<br>time=22<br>x=%{x}<br>y=%{y}<extra></extra>",
           "legendgroup": "6",
           "marker": {
            "color": "#19d3f3",
            "line": {
             "width": 3
            },
            "opacity": 0.8,
            "size": 14,
            "symbol": "square"
           },
           "mode": "markers",
           "name": "6",
           "orientation": "v",
           "showlegend": true,
           "type": "scatter",
           "x": [
            2
           ],
           "xaxis": "x",
           "y": [
            4
           ],
           "yaxis": "y"
          },
          {
           "hovertemplate": "forager=7<br>time=22<br>x=%{x}<br>y=%{y}<extra></extra>",
           "legendgroup": "7",
           "marker": {
            "color": "#FF6692",
            "line": {
             "width": 3
            },
            "opacity": 0.8,
            "size": 14,
            "symbol": "square"
           },
           "mode": "markers",
           "name": "7",
           "orientation": "v",
           "showlegend": true,
           "type": "scatter",
           "x": [
            15
           ],
           "xaxis": "x",
           "y": [
            18
           ],
           "yaxis": "y"
          },
          {
           "hovertemplate": "forager=8<br>time=22<br>x=%{x}<br>y=%{y}<extra></extra>",
           "legendgroup": "8",
           "marker": {
            "color": "#B6E880",
            "line": {
             "width": 3
            },
            "opacity": 0.8,
            "size": 14,
            "symbol": "square"
           },
           "mode": "markers",
           "name": "8",
           "orientation": "v",
           "showlegend": true,
           "type": "scatter",
           "x": [
            0
           ],
           "xaxis": "x",
           "y": [
            13
           ],
           "yaxis": "y"
          },
          {
           "hovertemplate": "forager=9<br>time=22<br>x=%{x}<br>y=%{y}<extra></extra>",
           "legendgroup": "9",
           "marker": {
            "color": "#FF97FF",
            "line": {
             "width": 3
            },
            "opacity": 0.8,
            "size": 14,
            "symbol": "square"
           },
           "mode": "markers",
           "name": "9",
           "orientation": "v",
           "showlegend": true,
           "type": "scatter",
           "x": [
            15
           ],
           "xaxis": "x",
           "y": [
            18
           ],
           "yaxis": "y"
          },
          {
           "hovertemplate": "forager=reward<br>time=22<br>x=%{x}<br>y=%{y}<extra></extra>",
           "legendgroup": "reward",
           "marker": {
            "color": "yellow",
            "symbol": "square"
           },
           "mode": "markers",
           "name": "reward",
           "orientation": "v",
           "showlegend": false,
           "type": "scatter",
           "x": [
            16,
            17,
            14,
            17,
            14
           ],
           "xaxis": "x",
           "y": [
            15,
            16,
            17,
            17,
            18
           ],
           "yaxis": "y"
          }
         ],
         "name": "22"
        },
        {
         "data": [
          {
           "hovertemplate": "forager=1<br>time=23<br>x=%{x}<br>y=%{y}<extra></extra>",
           "legendgroup": "1",
           "marker": {
            "color": "#636efa",
            "line": {
             "width": 3
            },
            "opacity": 0.8,
            "size": 14,
            "symbol": "square"
           },
           "mode": "markers",
           "name": "1",
           "orientation": "v",
           "showlegend": true,
           "type": "scatter",
           "x": [
            17
           ],
           "xaxis": "x",
           "y": [
            17
           ],
           "yaxis": "y"
          },
          {
           "hovertemplate": "forager=2<br>time=23<br>x=%{x}<br>y=%{y}<extra></extra>",
           "legendgroup": "2",
           "marker": {
            "color": "#EF553B",
            "line": {
             "width": 3
            },
            "opacity": 0.8,
            "size": 14,
            "symbol": "square"
           },
           "mode": "markers",
           "name": "2",
           "orientation": "v",
           "showlegend": true,
           "type": "scatter",
           "x": [
            11
           ],
           "xaxis": "x",
           "y": [
            0
           ],
           "yaxis": "y"
          },
          {
           "hovertemplate": "forager=3<br>time=23<br>x=%{x}<br>y=%{y}<extra></extra>",
           "legendgroup": "3",
           "marker": {
            "color": "#00cc96",
            "line": {
             "width": 3
            },
            "opacity": 0.8,
            "size": 14,
            "symbol": "square"
           },
           "mode": "markers",
           "name": "3",
           "orientation": "v",
           "showlegend": true,
           "type": "scatter",
           "x": [
            17
           ],
           "xaxis": "x",
           "y": [
            17
           ],
           "yaxis": "y"
          },
          {
           "hovertemplate": "forager=4<br>time=23<br>x=%{x}<br>y=%{y}<extra></extra>",
           "legendgroup": "4",
           "marker": {
            "color": "#ab63fa",
            "line": {
             "width": 3
            },
            "opacity": 0.8,
            "size": 14,
            "symbol": "square"
           },
           "mode": "markers",
           "name": "4",
           "orientation": "v",
           "showlegend": true,
           "type": "scatter",
           "x": [
            17
           ],
           "xaxis": "x",
           "y": [
            17
           ],
           "yaxis": "y"
          },
          {
           "hovertemplate": "forager=5<br>time=23<br>x=%{x}<br>y=%{y}<extra></extra>",
           "legendgroup": "5",
           "marker": {
            "color": "#FFA15A",
            "line": {
             "width": 3
            },
            "opacity": 0.8,
            "size": 14,
            "symbol": "square"
           },
           "mode": "markers",
           "name": "5",
           "orientation": "v",
           "showlegend": true,
           "type": "scatter",
           "x": [
            14
           ],
           "xaxis": "x",
           "y": [
            16
           ],
           "yaxis": "y"
          },
          {
           "hovertemplate": "forager=6<br>time=23<br>x=%{x}<br>y=%{y}<extra></extra>",
           "legendgroup": "6",
           "marker": {
            "color": "#19d3f3",
            "line": {
             "width": 3
            },
            "opacity": 0.8,
            "size": 14,
            "symbol": "square"
           },
           "mode": "markers",
           "name": "6",
           "orientation": "v",
           "showlegend": true,
           "type": "scatter",
           "x": [
            4
           ],
           "xaxis": "x",
           "y": [
            5
           ],
           "yaxis": "y"
          },
          {
           "hovertemplate": "forager=7<br>time=23<br>x=%{x}<br>y=%{y}<extra></extra>",
           "legendgroup": "7",
           "marker": {
            "color": "#FF6692",
            "line": {
             "width": 3
            },
            "opacity": 0.8,
            "size": 14,
            "symbol": "square"
           },
           "mode": "markers",
           "name": "7",
           "orientation": "v",
           "showlegend": true,
           "type": "scatter",
           "x": [
            17
           ],
           "xaxis": "x",
           "y": [
            17
           ],
           "yaxis": "y"
          },
          {
           "hovertemplate": "forager=8<br>time=23<br>x=%{x}<br>y=%{y}<extra></extra>",
           "legendgroup": "8",
           "marker": {
            "color": "#B6E880",
            "line": {
             "width": 3
            },
            "opacity": 0.8,
            "size": 14,
            "symbol": "square"
           },
           "mode": "markers",
           "name": "8",
           "orientation": "v",
           "showlegend": true,
           "type": "scatter",
           "x": [
            2
           ],
           "xaxis": "x",
           "y": [
            15
           ],
           "yaxis": "y"
          },
          {
           "hovertemplate": "forager=9<br>time=23<br>x=%{x}<br>y=%{y}<extra></extra>",
           "legendgroup": "9",
           "marker": {
            "color": "#FF97FF",
            "line": {
             "width": 3
            },
            "opacity": 0.8,
            "size": 14,
            "symbol": "square"
           },
           "mode": "markers",
           "name": "9",
           "orientation": "v",
           "showlegend": true,
           "type": "scatter",
           "x": [
            17
           ],
           "xaxis": "x",
           "y": [
            17
           ],
           "yaxis": "y"
          },
          {
           "hovertemplate": "forager=reward<br>time=23<br>x=%{x}<br>y=%{y}<extra></extra>",
           "legendgroup": "reward",
           "marker": {
            "color": "yellow",
            "symbol": "square"
           },
           "mode": "markers",
           "name": "reward",
           "orientation": "v",
           "showlegend": false,
           "type": "scatter",
           "x": [
            16,
            17,
            14,
            14
           ],
           "xaxis": "x",
           "y": [
            15,
            16,
            17,
            18
           ],
           "yaxis": "y"
          }
         ],
         "name": "23"
        },
        {
         "data": [
          {
           "hovertemplate": "forager=1<br>time=24<br>x=%{x}<br>y=%{y}<extra></extra>",
           "legendgroup": "1",
           "marker": {
            "color": "#636efa",
            "line": {
             "width": 3
            },
            "opacity": 0.8,
            "size": 14,
            "symbol": "square"
           },
           "mode": "markers",
           "name": "1",
           "orientation": "v",
           "showlegend": true,
           "type": "scatter",
           "x": [
            14
           ],
           "xaxis": "x",
           "y": [
            17
           ],
           "yaxis": "y"
          },
          {
           "hovertemplate": "forager=2<br>time=24<br>x=%{x}<br>y=%{y}<extra></extra>",
           "legendgroup": "2",
           "marker": {
            "color": "#EF553B",
            "line": {
             "width": 3
            },
            "opacity": 0.8,
            "size": 14,
            "symbol": "square"
           },
           "mode": "markers",
           "name": "2",
           "orientation": "v",
           "showlegend": true,
           "type": "scatter",
           "x": [
            11
           ],
           "xaxis": "x",
           "y": [
            2
           ],
           "yaxis": "y"
          },
          {
           "hovertemplate": "forager=3<br>time=24<br>x=%{x}<br>y=%{y}<extra></extra>",
           "legendgroup": "3",
           "marker": {
            "color": "#00cc96",
            "line": {
             "width": 3
            },
            "opacity": 0.8,
            "size": 14,
            "symbol": "square"
           },
           "mode": "markers",
           "name": "3",
           "orientation": "v",
           "showlegend": true,
           "type": "scatter",
           "x": [
            14
           ],
           "xaxis": "x",
           "y": [
            17
           ],
           "yaxis": "y"
          },
          {
           "hovertemplate": "forager=4<br>time=24<br>x=%{x}<br>y=%{y}<extra></extra>",
           "legendgroup": "4",
           "marker": {
            "color": "#ab63fa",
            "line": {
             "width": 3
            },
            "opacity": 0.8,
            "size": 14,
            "symbol": "square"
           },
           "mode": "markers",
           "name": "4",
           "orientation": "v",
           "showlegend": true,
           "type": "scatter",
           "x": [
            14
           ],
           "xaxis": "x",
           "y": [
            17
           ],
           "yaxis": "y"
          },
          {
           "hovertemplate": "forager=5<br>time=24<br>x=%{x}<br>y=%{y}<extra></extra>",
           "legendgroup": "5",
           "marker": {
            "color": "#FFA15A",
            "line": {
             "width": 3
            },
            "opacity": 0.8,
            "size": 14,
            "symbol": "square"
           },
           "mode": "markers",
           "name": "5",
           "orientation": "v",
           "showlegend": true,
           "type": "scatter",
           "x": [
            14
           ],
           "xaxis": "x",
           "y": [
            17
           ],
           "yaxis": "y"
          },
          {
           "hovertemplate": "forager=6<br>time=24<br>x=%{x}<br>y=%{y}<extra></extra>",
           "legendgroup": "6",
           "marker": {
            "color": "#19d3f3",
            "line": {
             "width": 3
            },
            "opacity": 0.8,
            "size": 14,
            "symbol": "square"
           },
           "mode": "markers",
           "name": "6",
           "orientation": "v",
           "showlegend": true,
           "type": "scatter",
           "x": [
            2
           ],
           "xaxis": "x",
           "y": [
            4
           ],
           "yaxis": "y"
          },
          {
           "hovertemplate": "forager=7<br>time=24<br>x=%{x}<br>y=%{y}<extra></extra>",
           "legendgroup": "7",
           "marker": {
            "color": "#FF6692",
            "line": {
             "width": 3
            },
            "opacity": 0.8,
            "size": 14,
            "symbol": "square"
           },
           "mode": "markers",
           "name": "7",
           "orientation": "v",
           "showlegend": true,
           "type": "scatter",
           "x": [
            14
           ],
           "xaxis": "x",
           "y": [
            17
           ],
           "yaxis": "y"
          },
          {
           "hovertemplate": "forager=8<br>time=24<br>x=%{x}<br>y=%{y}<extra></extra>",
           "legendgroup": "8",
           "marker": {
            "color": "#B6E880",
            "line": {
             "width": 3
            },
            "opacity": 0.8,
            "size": 14,
            "symbol": "square"
           },
           "mode": "markers",
           "name": "8",
           "orientation": "v",
           "showlegend": true,
           "type": "scatter",
           "x": [
            0
           ],
           "xaxis": "x",
           "y": [
            15
           ],
           "yaxis": "y"
          },
          {
           "hovertemplate": "forager=9<br>time=24<br>x=%{x}<br>y=%{y}<extra></extra>",
           "legendgroup": "9",
           "marker": {
            "color": "#FF97FF",
            "line": {
             "width": 3
            },
            "opacity": 0.8,
            "size": 14,
            "symbol": "square"
           },
           "mode": "markers",
           "name": "9",
           "orientation": "v",
           "showlegend": true,
           "type": "scatter",
           "x": [
            14
           ],
           "xaxis": "x",
           "y": [
            17
           ],
           "yaxis": "y"
          },
          {
           "hovertemplate": "forager=reward<br>time=24<br>x=%{x}<br>y=%{y}<extra></extra>",
           "legendgroup": "reward",
           "marker": {
            "color": "yellow",
            "symbol": "square"
           },
           "mode": "markers",
           "name": "reward",
           "orientation": "v",
           "showlegend": false,
           "type": "scatter",
           "x": [
            16,
            17,
            14
           ],
           "xaxis": "x",
           "y": [
            15,
            16,
            18
           ],
           "yaxis": "y"
          }
         ],
         "name": "24"
        },
        {
         "data": [
          {
           "hovertemplate": "forager=1<br>time=25<br>x=%{x}<br>y=%{y}<extra></extra>",
           "legendgroup": "1",
           "marker": {
            "color": "#636efa",
            "line": {
             "width": 3
            },
            "opacity": 0.8,
            "size": 14,
            "symbol": "square"
           },
           "mode": "markers",
           "name": "1",
           "orientation": "v",
           "showlegend": true,
           "type": "scatter",
           "x": [
            16
           ],
           "xaxis": "x",
           "y": [
            15
           ],
           "yaxis": "y"
          },
          {
           "hovertemplate": "forager=2<br>time=25<br>x=%{x}<br>y=%{y}<extra></extra>",
           "legendgroup": "2",
           "marker": {
            "color": "#EF553B",
            "line": {
             "width": 3
            },
            "opacity": 0.8,
            "size": 14,
            "symbol": "square"
           },
           "mode": "markers",
           "name": "2",
           "orientation": "v",
           "showlegend": true,
           "type": "scatter",
           "x": [
            11
           ],
           "xaxis": "x",
           "y": [
            3
           ],
           "yaxis": "y"
          },
          {
           "hovertemplate": "forager=3<br>time=25<br>x=%{x}<br>y=%{y}<extra></extra>",
           "legendgroup": "3",
           "marker": {
            "color": "#00cc96",
            "line": {
             "width": 3
            },
            "opacity": 0.8,
            "size": 14,
            "symbol": "square"
           },
           "mode": "markers",
           "name": "3",
           "orientation": "v",
           "showlegend": true,
           "type": "scatter",
           "x": [
            16
           ],
           "xaxis": "x",
           "y": [
            15
           ],
           "yaxis": "y"
          },
          {
           "hovertemplate": "forager=4<br>time=25<br>x=%{x}<br>y=%{y}<extra></extra>",
           "legendgroup": "4",
           "marker": {
            "color": "#ab63fa",
            "line": {
             "width": 3
            },
            "opacity": 0.8,
            "size": 14,
            "symbol": "square"
           },
           "mode": "markers",
           "name": "4",
           "orientation": "v",
           "showlegend": true,
           "type": "scatter",
           "x": [
            16
           ],
           "xaxis": "x",
           "y": [
            15
           ],
           "yaxis": "y"
          },
          {
           "hovertemplate": "forager=5<br>time=25<br>x=%{x}<br>y=%{y}<extra></extra>",
           "legendgroup": "5",
           "marker": {
            "color": "#FFA15A",
            "line": {
             "width": 3
            },
            "opacity": 0.8,
            "size": 14,
            "symbol": "square"
           },
           "mode": "markers",
           "name": "5",
           "orientation": "v",
           "showlegend": true,
           "type": "scatter",
           "x": [
            16
           ],
           "xaxis": "x",
           "y": [
            15
           ],
           "yaxis": "y"
          },
          {
           "hovertemplate": "forager=6<br>time=25<br>x=%{x}<br>y=%{y}<extra></extra>",
           "legendgroup": "6",
           "marker": {
            "color": "#19d3f3",
            "line": {
             "width": 3
            },
            "opacity": 0.8,
            "size": 14,
            "symbol": "square"
           },
           "mode": "markers",
           "name": "6",
           "orientation": "v",
           "showlegend": true,
           "type": "scatter",
           "x": [
            4
           ],
           "xaxis": "x",
           "y": [
            4
           ],
           "yaxis": "y"
          },
          {
           "hovertemplate": "forager=7<br>time=25<br>x=%{x}<br>y=%{y}<extra></extra>",
           "legendgroup": "7",
           "marker": {
            "color": "#FF6692",
            "line": {
             "width": 3
            },
            "opacity": 0.8,
            "size": 14,
            "symbol": "square"
           },
           "mode": "markers",
           "name": "7",
           "orientation": "v",
           "showlegend": true,
           "type": "scatter",
           "x": [
            16
           ],
           "xaxis": "x",
           "y": [
            15
           ],
           "yaxis": "y"
          },
          {
           "hovertemplate": "forager=8<br>time=25<br>x=%{x}<br>y=%{y}<extra></extra>",
           "legendgroup": "8",
           "marker": {
            "color": "#B6E880",
            "line": {
             "width": 3
            },
            "opacity": 0.8,
            "size": 14,
            "symbol": "square"
           },
           "mode": "markers",
           "name": "8",
           "orientation": "v",
           "showlegend": true,
           "type": "scatter",
           "x": [
            2
           ],
           "xaxis": "x",
           "y": [
            17
           ],
           "yaxis": "y"
          },
          {
           "hovertemplate": "forager=9<br>time=25<br>x=%{x}<br>y=%{y}<extra></extra>",
           "legendgroup": "9",
           "marker": {
            "color": "#FF97FF",
            "line": {
             "width": 3
            },
            "opacity": 0.8,
            "size": 14,
            "symbol": "square"
           },
           "mode": "markers",
           "name": "9",
           "orientation": "v",
           "showlegend": true,
           "type": "scatter",
           "x": [
            16
           ],
           "xaxis": "x",
           "y": [
            15
           ],
           "yaxis": "y"
          },
          {
           "hovertemplate": "forager=reward<br>time=25<br>x=%{x}<br>y=%{y}<extra></extra>",
           "legendgroup": "reward",
           "marker": {
            "color": "yellow",
            "symbol": "square"
           },
           "mode": "markers",
           "name": "reward",
           "orientation": "v",
           "showlegend": false,
           "type": "scatter",
           "x": [
            17,
            14
           ],
           "xaxis": "x",
           "y": [
            16,
            18
           ],
           "yaxis": "y"
          }
         ],
         "name": "25"
        },
        {
         "data": [
          {
           "hovertemplate": "forager=1<br>time=26<br>x=%{x}<br>y=%{y}<extra></extra>",
           "legendgroup": "1",
           "marker": {
            "color": "#636efa",
            "line": {
             "width": 3
            },
            "opacity": 0.8,
            "size": 14,
            "symbol": "square"
           },
           "mode": "markers",
           "name": "1",
           "orientation": "v",
           "showlegend": true,
           "type": "scatter",
           "x": [
            17
           ],
           "xaxis": "x",
           "y": [
            16
           ],
           "yaxis": "y"
          },
          {
           "hovertemplate": "forager=2<br>time=26<br>x=%{x}<br>y=%{y}<extra></extra>",
           "legendgroup": "2",
           "marker": {
            "color": "#EF553B",
            "line": {
             "width": 3
            },
            "opacity": 0.8,
            "size": 14,
            "symbol": "square"
           },
           "mode": "markers",
           "name": "2",
           "orientation": "v",
           "showlegend": true,
           "type": "scatter",
           "x": [
            9
           ],
           "xaxis": "x",
           "y": [
            3
           ],
           "yaxis": "y"
          },
          {
           "hovertemplate": "forager=3<br>time=26<br>x=%{x}<br>y=%{y}<extra></extra>",
           "legendgroup": "3",
           "marker": {
            "color": "#00cc96",
            "line": {
             "width": 3
            },
            "opacity": 0.8,
            "size": 14,
            "symbol": "square"
           },
           "mode": "markers",
           "name": "3",
           "orientation": "v",
           "showlegend": true,
           "type": "scatter",
           "x": [
            17
           ],
           "xaxis": "x",
           "y": [
            16
           ],
           "yaxis": "y"
          },
          {
           "hovertemplate": "forager=4<br>time=26<br>x=%{x}<br>y=%{y}<extra></extra>",
           "legendgroup": "4",
           "marker": {
            "color": "#ab63fa",
            "line": {
             "width": 3
            },
            "opacity": 0.8,
            "size": 14,
            "symbol": "square"
           },
           "mode": "markers",
           "name": "4",
           "orientation": "v",
           "showlegend": true,
           "type": "scatter",
           "x": [
            17
           ],
           "xaxis": "x",
           "y": [
            16
           ],
           "yaxis": "y"
          },
          {
           "hovertemplate": "forager=5<br>time=26<br>x=%{x}<br>y=%{y}<extra></extra>",
           "legendgroup": "5",
           "marker": {
            "color": "#FFA15A",
            "line": {
             "width": 3
            },
            "opacity": 0.8,
            "size": 14,
            "symbol": "square"
           },
           "mode": "markers",
           "name": "5",
           "orientation": "v",
           "showlegend": true,
           "type": "scatter",
           "x": [
            17
           ],
           "xaxis": "x",
           "y": [
            16
           ],
           "yaxis": "y"
          },
          {
           "hovertemplate": "forager=6<br>time=26<br>x=%{x}<br>y=%{y}<extra></extra>",
           "legendgroup": "6",
           "marker": {
            "color": "#19d3f3",
            "line": {
             "width": 3
            },
            "opacity": 0.8,
            "size": 14,
            "symbol": "square"
           },
           "mode": "markers",
           "name": "6",
           "orientation": "v",
           "showlegend": true,
           "type": "scatter",
           "x": [
            4
           ],
           "xaxis": "x",
           "y": [
            4
           ],
           "yaxis": "y"
          },
          {
           "hovertemplate": "forager=7<br>time=26<br>x=%{x}<br>y=%{y}<extra></extra>",
           "legendgroup": "7",
           "marker": {
            "color": "#FF6692",
            "line": {
             "width": 3
            },
            "opacity": 0.8,
            "size": 14,
            "symbol": "square"
           },
           "mode": "markers",
           "name": "7",
           "orientation": "v",
           "showlegend": true,
           "type": "scatter",
           "x": [
            17
           ],
           "xaxis": "x",
           "y": [
            16
           ],
           "yaxis": "y"
          },
          {
           "hovertemplate": "forager=8<br>time=26<br>x=%{x}<br>y=%{y}<extra></extra>",
           "legendgroup": "8",
           "marker": {
            "color": "#B6E880",
            "line": {
             "width": 3
            },
            "opacity": 0.8,
            "size": 14,
            "symbol": "square"
           },
           "mode": "markers",
           "name": "8",
           "orientation": "v",
           "showlegend": true,
           "type": "scatter",
           "x": [
            3
           ],
           "xaxis": "x",
           "y": [
            17
           ],
           "yaxis": "y"
          },
          {
           "hovertemplate": "forager=9<br>time=26<br>x=%{x}<br>y=%{y}<extra></extra>",
           "legendgroup": "9",
           "marker": {
            "color": "#FF97FF",
            "line": {
             "width": 3
            },
            "opacity": 0.8,
            "size": 14,
            "symbol": "square"
           },
           "mode": "markers",
           "name": "9",
           "orientation": "v",
           "showlegend": true,
           "type": "scatter",
           "x": [
            17
           ],
           "xaxis": "x",
           "y": [
            16
           ],
           "yaxis": "y"
          },
          {
           "hovertemplate": "forager=reward<br>time=26<br>x=%{x}<br>y=%{y}<extra></extra>",
           "legendgroup": "reward",
           "marker": {
            "color": "yellow",
            "symbol": "square"
           },
           "mode": "markers",
           "name": "reward",
           "orientation": "v",
           "showlegend": false,
           "type": "scatter",
           "x": [
            14
           ],
           "xaxis": "x",
           "y": [
            18
           ],
           "yaxis": "y"
          }
         ],
         "name": "26"
        },
        {
         "data": [
          {
           "hovertemplate": "forager=1<br>time=27<br>x=%{x}<br>y=%{y}<extra></extra>",
           "legendgroup": "1",
           "marker": {
            "color": "#636efa",
            "line": {
             "width": 3
            },
            "opacity": 0.8,
            "size": 14,
            "symbol": "square"
           },
           "mode": "markers",
           "name": "1",
           "orientation": "v",
           "showlegend": true,
           "type": "scatter",
           "x": [
            15
           ],
           "xaxis": "x",
           "y": [
            18
           ],
           "yaxis": "y"
          },
          {
           "hovertemplate": "forager=2<br>time=27<br>x=%{x}<br>y=%{y}<extra></extra>",
           "legendgroup": "2",
           "marker": {
            "color": "#EF553B",
            "line": {
             "width": 3
            },
            "opacity": 0.8,
            "size": 14,
            "symbol": "square"
           },
           "mode": "markers",
           "name": "2",
           "orientation": "v",
           "showlegend": true,
           "type": "scatter",
           "x": [
            9
           ],
           "xaxis": "x",
           "y": [
            2
           ],
           "yaxis": "y"
          },
          {
           "hovertemplate": "forager=3<br>time=27<br>x=%{x}<br>y=%{y}<extra></extra>",
           "legendgroup": "3",
           "marker": {
            "color": "#00cc96",
            "line": {
             "width": 3
            },
            "opacity": 0.8,
            "size": 14,
            "symbol": "square"
           },
           "mode": "markers",
           "name": "3",
           "orientation": "v",
           "showlegend": true,
           "type": "scatter",
           "x": [
            15
           ],
           "xaxis": "x",
           "y": [
            18
           ],
           "yaxis": "y"
          },
          {
           "hovertemplate": "forager=4<br>time=27<br>x=%{x}<br>y=%{y}<extra></extra>",
           "legendgroup": "4",
           "marker": {
            "color": "#ab63fa",
            "line": {
             "width": 3
            },
            "opacity": 0.8,
            "size": 14,
            "symbol": "square"
           },
           "mode": "markers",
           "name": "4",
           "orientation": "v",
           "showlegend": true,
           "type": "scatter",
           "x": [
            15
           ],
           "xaxis": "x",
           "y": [
            18
           ],
           "yaxis": "y"
          },
          {
           "hovertemplate": "forager=5<br>time=27<br>x=%{x}<br>y=%{y}<extra></extra>",
           "legendgroup": "5",
           "marker": {
            "color": "#FFA15A",
            "line": {
             "width": 3
            },
            "opacity": 0.8,
            "size": 14,
            "symbol": "square"
           },
           "mode": "markers",
           "name": "5",
           "orientation": "v",
           "showlegend": true,
           "type": "scatter",
           "x": [
            15
           ],
           "xaxis": "x",
           "y": [
            18
           ],
           "yaxis": "y"
          },
          {
           "hovertemplate": "forager=6<br>time=27<br>x=%{x}<br>y=%{y}<extra></extra>",
           "legendgroup": "6",
           "marker": {
            "color": "#19d3f3",
            "line": {
             "width": 3
            },
            "opacity": 0.8,
            "size": 14,
            "symbol": "square"
           },
           "mode": "markers",
           "name": "6",
           "orientation": "v",
           "showlegend": true,
           "type": "scatter",
           "x": [
            6
           ],
           "xaxis": "x",
           "y": [
            4
           ],
           "yaxis": "y"
          },
          {
           "hovertemplate": "forager=7<br>time=27<br>x=%{x}<br>y=%{y}<extra></extra>",
           "legendgroup": "7",
           "marker": {
            "color": "#FF6692",
            "line": {
             "width": 3
            },
            "opacity": 0.8,
            "size": 14,
            "symbol": "square"
           },
           "mode": "markers",
           "name": "7",
           "orientation": "v",
           "showlegend": true,
           "type": "scatter",
           "x": [
            15
           ],
           "xaxis": "x",
           "y": [
            18
           ],
           "yaxis": "y"
          },
          {
           "hovertemplate": "forager=8<br>time=27<br>x=%{x}<br>y=%{y}<extra></extra>",
           "legendgroup": "8",
           "marker": {
            "color": "#B6E880",
            "line": {
             "width": 3
            },
            "opacity": 0.8,
            "size": 14,
            "symbol": "square"
           },
           "mode": "markers",
           "name": "8",
           "orientation": "v",
           "showlegend": true,
           "type": "scatter",
           "x": [
            2
           ],
           "xaxis": "x",
           "y": [
            17
           ],
           "yaxis": "y"
          },
          {
           "hovertemplate": "forager=9<br>time=27<br>x=%{x}<br>y=%{y}<extra></extra>",
           "legendgroup": "9",
           "marker": {
            "color": "#FF97FF",
            "line": {
             "width": 3
            },
            "opacity": 0.8,
            "size": 14,
            "symbol": "square"
           },
           "mode": "markers",
           "name": "9",
           "orientation": "v",
           "showlegend": true,
           "type": "scatter",
           "x": [
            15
           ],
           "xaxis": "x",
           "y": [
            18
           ],
           "yaxis": "y"
          },
          {
           "hovertemplate": "forager=reward<br>time=27<br>x=%{x}<br>y=%{y}<extra></extra>",
           "legendgroup": "reward",
           "marker": {
            "color": "yellow",
            "symbol": "square"
           },
           "mode": "markers",
           "name": "reward",
           "orientation": "v",
           "showlegend": false,
           "type": "scatter",
           "x": [
            14
           ],
           "xaxis": "x",
           "y": [
            18
           ],
           "yaxis": "y"
          }
         ],
         "name": "27"
        },
        {
         "data": [
          {
           "hovertemplate": "forager=1<br>time=28<br>x=%{x}<br>y=%{y}<extra></extra>",
           "legendgroup": "1",
           "marker": {
            "color": "#636efa",
            "line": {
             "width": 3
            },
            "opacity": 0.8,
            "size": 14,
            "symbol": "square"
           },
           "mode": "markers",
           "name": "1",
           "orientation": "v",
           "showlegend": true,
           "type": "scatter",
           "x": [
            14
           ],
           "xaxis": "x",
           "y": [
            18
           ],
           "yaxis": "y"
          },
          {
           "hovertemplate": "forager=2<br>time=28<br>x=%{x}<br>y=%{y}<extra></extra>",
           "legendgroup": "2",
           "marker": {
            "color": "#EF553B",
            "line": {
             "width": 3
            },
            "opacity": 0.8,
            "size": 14,
            "symbol": "square"
           },
           "mode": "markers",
           "name": "2",
           "orientation": "v",
           "showlegend": true,
           "type": "scatter",
           "x": [
            9
           ],
           "xaxis": "x",
           "y": [
            4
           ],
           "yaxis": "y"
          },
          {
           "hovertemplate": "forager=3<br>time=28<br>x=%{x}<br>y=%{y}<extra></extra>",
           "legendgroup": "3",
           "marker": {
            "color": "#00cc96",
            "line": {
             "width": 3
            },
            "opacity": 0.8,
            "size": 14,
            "symbol": "square"
           },
           "mode": "markers",
           "name": "3",
           "orientation": "v",
           "showlegend": true,
           "type": "scatter",
           "x": [
            14
           ],
           "xaxis": "x",
           "y": [
            18
           ],
           "yaxis": "y"
          },
          {
           "hovertemplate": "forager=4<br>time=28<br>x=%{x}<br>y=%{y}<extra></extra>",
           "legendgroup": "4",
           "marker": {
            "color": "#ab63fa",
            "line": {
             "width": 3
            },
            "opacity": 0.8,
            "size": 14,
            "symbol": "square"
           },
           "mode": "markers",
           "name": "4",
           "orientation": "v",
           "showlegend": true,
           "type": "scatter",
           "x": [
            14
           ],
           "xaxis": "x",
           "y": [
            18
           ],
           "yaxis": "y"
          },
          {
           "hovertemplate": "forager=5<br>time=28<br>x=%{x}<br>y=%{y}<extra></extra>",
           "legendgroup": "5",
           "marker": {
            "color": "#FFA15A",
            "line": {
             "width": 3
            },
            "opacity": 0.8,
            "size": 14,
            "symbol": "square"
           },
           "mode": "markers",
           "name": "5",
           "orientation": "v",
           "showlegend": true,
           "type": "scatter",
           "x": [
            14
           ],
           "xaxis": "x",
           "y": [
            18
           ],
           "yaxis": "y"
          },
          {
           "hovertemplate": "forager=6<br>time=28<br>x=%{x}<br>y=%{y}<extra></extra>",
           "legendgroup": "6",
           "marker": {
            "color": "#19d3f3",
            "line": {
             "width": 3
            },
            "opacity": 0.8,
            "size": 14,
            "symbol": "square"
           },
           "mode": "markers",
           "name": "6",
           "orientation": "v",
           "showlegend": true,
           "type": "scatter",
           "x": [
            4
           ],
           "xaxis": "x",
           "y": [
            4
           ],
           "yaxis": "y"
          },
          {
           "hovertemplate": "forager=7<br>time=28<br>x=%{x}<br>y=%{y}<extra></extra>",
           "legendgroup": "7",
           "marker": {
            "color": "#FF6692",
            "line": {
             "width": 3
            },
            "opacity": 0.8,
            "size": 14,
            "symbol": "square"
           },
           "mode": "markers",
           "name": "7",
           "orientation": "v",
           "showlegend": true,
           "type": "scatter",
           "x": [
            14
           ],
           "xaxis": "x",
           "y": [
            18
           ],
           "yaxis": "y"
          },
          {
           "hovertemplate": "forager=8<br>time=28<br>x=%{x}<br>y=%{y}<extra></extra>",
           "legendgroup": "8",
           "marker": {
            "color": "#B6E880",
            "line": {
             "width": 3
            },
            "opacity": 0.8,
            "size": 14,
            "symbol": "square"
           },
           "mode": "markers",
           "name": "8",
           "orientation": "v",
           "showlegend": true,
           "type": "scatter",
           "x": [
            4
           ],
           "xaxis": "x",
           "y": [
            15
           ],
           "yaxis": "y"
          },
          {
           "hovertemplate": "forager=9<br>time=28<br>x=%{x}<br>y=%{y}<extra></extra>",
           "legendgroup": "9",
           "marker": {
            "color": "#FF97FF",
            "line": {
             "width": 3
            },
            "opacity": 0.8,
            "size": 14,
            "symbol": "square"
           },
           "mode": "markers",
           "name": "9",
           "orientation": "v",
           "showlegend": true,
           "type": "scatter",
           "x": [
            14
           ],
           "xaxis": "x",
           "y": [
            18
           ],
           "yaxis": "y"
          },
          {
           "hovertemplate": "forager=reward<br>time=28<br>x=%{x}<br>y=%{y}<extra></extra>",
           "legendgroup": "reward",
           "marker": {
            "color": "yellow",
            "symbol": "square"
           },
           "mode": "markers",
           "name": "reward",
           "orientation": "v",
           "showlegend": false,
           "type": "scatter",
           "x": [
            3,
            4,
            5,
            6,
            3,
            4,
            5,
            6,
            3,
            4,
            5,
            6,
            3,
            4,
            5,
            6
           ],
           "xaxis": "x",
           "y": [
            23,
            23,
            23,
            23,
            24,
            24,
            24,
            24,
            25,
            25,
            25,
            25,
            26,
            26,
            26,
            26
           ],
           "yaxis": "y"
          }
         ],
         "name": "28"
        },
        {
         "data": [
          {
           "hovertemplate": "forager=1<br>time=29<br>x=%{x}<br>y=%{y}<extra></extra>",
           "legendgroup": "1",
           "marker": {
            "color": "#636efa",
            "line": {
             "width": 3
            },
            "opacity": 0.8,
            "size": 14,
            "symbol": "square"
           },
           "mode": "markers",
           "name": "1",
           "orientation": "v",
           "showlegend": true,
           "type": "scatter",
           "x": [
            13
           ],
           "xaxis": "x",
           "y": [
            19
           ],
           "yaxis": "y"
          },
          {
           "hovertemplate": "forager=2<br>time=29<br>x=%{x}<br>y=%{y}<extra></extra>",
           "legendgroup": "2",
           "marker": {
            "color": "#EF553B",
            "line": {
             "width": 3
            },
            "opacity": 0.8,
            "size": 14,
            "symbol": "square"
           },
           "mode": "markers",
           "name": "2",
           "orientation": "v",
           "showlegend": true,
           "type": "scatter",
           "x": [
            12
           ],
           "xaxis": "x",
           "y": [
            4
           ],
           "yaxis": "y"
          },
          {
           "hovertemplate": "forager=3<br>time=29<br>x=%{x}<br>y=%{y}<extra></extra>",
           "legendgroup": "3",
           "marker": {
            "color": "#00cc96",
            "line": {
             "width": 3
            },
            "opacity": 0.8,
            "size": 14,
            "symbol": "square"
           },
           "mode": "markers",
           "name": "3",
           "orientation": "v",
           "showlegend": true,
           "type": "scatter",
           "x": [
            15
           ],
           "xaxis": "x",
           "y": [
            17
           ],
           "yaxis": "y"
          },
          {
           "hovertemplate": "forager=4<br>time=29<br>x=%{x}<br>y=%{y}<extra></extra>",
           "legendgroup": "4",
           "marker": {
            "color": "#ab63fa",
            "line": {
             "width": 3
            },
            "opacity": 0.8,
            "size": 14,
            "symbol": "square"
           },
           "mode": "markers",
           "name": "4",
           "orientation": "v",
           "showlegend": true,
           "type": "scatter",
           "x": [
            12
           ],
           "xaxis": "x",
           "y": [
            16
           ],
           "yaxis": "y"
          },
          {
           "hovertemplate": "forager=5<br>time=29<br>x=%{x}<br>y=%{y}<extra></extra>",
           "legendgroup": "5",
           "marker": {
            "color": "#FFA15A",
            "line": {
             "width": 3
            },
            "opacity": 0.8,
            "size": 14,
            "symbol": "square"
           },
           "mode": "markers",
           "name": "5",
           "orientation": "v",
           "showlegend": true,
           "type": "scatter",
           "x": [
            12
           ],
           "xaxis": "x",
           "y": [
            20
           ],
           "yaxis": "y"
          },
          {
           "hovertemplate": "forager=6<br>time=29<br>x=%{x}<br>y=%{y}<extra></extra>",
           "legendgroup": "6",
           "marker": {
            "color": "#19d3f3",
            "line": {
             "width": 3
            },
            "opacity": 0.8,
            "size": 14,
            "symbol": "square"
           },
           "mode": "markers",
           "name": "6",
           "orientation": "v",
           "showlegend": true,
           "type": "scatter",
           "x": [
            2
           ],
           "xaxis": "x",
           "y": [
            3
           ],
           "yaxis": "y"
          },
          {
           "hovertemplate": "forager=7<br>time=29<br>x=%{x}<br>y=%{y}<extra></extra>",
           "legendgroup": "7",
           "marker": {
            "color": "#FF6692",
            "line": {
             "width": 3
            },
            "opacity": 0.8,
            "size": 14,
            "symbol": "square"
           },
           "mode": "markers",
           "name": "7",
           "orientation": "v",
           "showlegend": true,
           "type": "scatter",
           "x": [
            16
           ],
           "xaxis": "x",
           "y": [
            17
           ],
           "yaxis": "y"
          },
          {
           "hovertemplate": "forager=8<br>time=29<br>x=%{x}<br>y=%{y}<extra></extra>",
           "legendgroup": "8",
           "marker": {
            "color": "#B6E880",
            "line": {
             "width": 3
            },
            "opacity": 0.8,
            "size": 14,
            "symbol": "square"
           },
           "mode": "markers",
           "name": "8",
           "orientation": "v",
           "showlegend": true,
           "type": "scatter",
           "x": [
            4
           ],
           "xaxis": "x",
           "y": [
            12
           ],
           "yaxis": "y"
          },
          {
           "hovertemplate": "forager=9<br>time=29<br>x=%{x}<br>y=%{y}<extra></extra>",
           "legendgroup": "9",
           "marker": {
            "color": "#FF97FF",
            "line": {
             "width": 3
            },
            "opacity": 0.8,
            "size": 14,
            "symbol": "square"
           },
           "mode": "markers",
           "name": "9",
           "orientation": "v",
           "showlegend": true,
           "type": "scatter",
           "x": [
            17
           ],
           "xaxis": "x",
           "y": [
            18
           ],
           "yaxis": "y"
          },
          {
           "hovertemplate": "forager=reward<br>time=29<br>x=%{x}<br>y=%{y}<extra></extra>",
           "legendgroup": "reward",
           "marker": {
            "color": "yellow",
            "symbol": "square"
           },
           "mode": "markers",
           "name": "reward",
           "orientation": "v",
           "showlegend": false,
           "type": "scatter",
           "x": [
            3,
            4,
            5,
            6,
            3,
            4,
            5,
            6,
            3,
            4,
            5,
            6,
            3,
            4,
            5,
            6
           ],
           "xaxis": "x",
           "y": [
            23,
            23,
            23,
            23,
            24,
            24,
            24,
            24,
            25,
            25,
            25,
            25,
            26,
            26,
            26,
            26
           ],
           "yaxis": "y"
          }
         ],
         "name": "29"
        },
        {
         "data": [
          {
           "hovertemplate": "forager=1<br>time=30<br>x=%{x}<br>y=%{y}<extra></extra>",
           "legendgroup": "1",
           "marker": {
            "color": "#636efa",
            "line": {
             "width": 3
            },
            "opacity": 0.8,
            "size": 14,
            "symbol": "square"
           },
           "mode": "markers",
           "name": "1",
           "orientation": "v",
           "showlegend": true,
           "type": "scatter",
           "x": [
            14
           ],
           "xaxis": "x",
           "y": [
            20
           ],
           "yaxis": "y"
          },
          {
           "hovertemplate": "forager=2<br>time=30<br>x=%{x}<br>y=%{y}<extra></extra>",
           "legendgroup": "2",
           "marker": {
            "color": "#EF553B",
            "line": {
             "width": 3
            },
            "opacity": 0.8,
            "size": 14,
            "symbol": "square"
           },
           "mode": "markers",
           "name": "2",
           "orientation": "v",
           "showlegend": true,
           "type": "scatter",
           "x": [
            13
           ],
           "xaxis": "x",
           "y": [
            2
           ],
           "yaxis": "y"
          },
          {
           "hovertemplate": "forager=3<br>time=30<br>x=%{x}<br>y=%{y}<extra></extra>",
           "legendgroup": "3",
           "marker": {
            "color": "#00cc96",
            "line": {
             "width": 3
            },
            "opacity": 0.8,
            "size": 14,
            "symbol": "square"
           },
           "mode": "markers",
           "name": "3",
           "orientation": "v",
           "showlegend": true,
           "type": "scatter",
           "x": [
            16
           ],
           "xaxis": "x",
           "y": [
            19
           ],
           "yaxis": "y"
          },
          {
           "hovertemplate": "forager=4<br>time=30<br>x=%{x}<br>y=%{y}<extra></extra>",
           "legendgroup": "4",
           "marker": {
            "color": "#ab63fa",
            "line": {
             "width": 3
            },
            "opacity": 0.8,
            "size": 14,
            "symbol": "square"
           },
           "mode": "markers",
           "name": "4",
           "orientation": "v",
           "showlegend": true,
           "type": "scatter",
           "x": [
            9
           ],
           "xaxis": "x",
           "y": [
            16
           ],
           "yaxis": "y"
          },
          {
           "hovertemplate": "forager=5<br>time=30<br>x=%{x}<br>y=%{y}<extra></extra>",
           "legendgroup": "5",
           "marker": {
            "color": "#FFA15A",
            "line": {
             "width": 3
            },
            "opacity": 0.8,
            "size": 14,
            "symbol": "square"
           },
           "mode": "markers",
           "name": "5",
           "orientation": "v",
           "showlegend": true,
           "type": "scatter",
           "x": [
            12
           ],
           "xaxis": "x",
           "y": [
            17
           ],
           "yaxis": "y"
          },
          {
           "hovertemplate": "forager=6<br>time=30<br>x=%{x}<br>y=%{y}<extra></extra>",
           "legendgroup": "6",
           "marker": {
            "color": "#19d3f3",
            "line": {
             "width": 3
            },
            "opacity": 0.8,
            "size": 14,
            "symbol": "square"
           },
           "mode": "markers",
           "name": "6",
           "orientation": "v",
           "showlegend": true,
           "type": "scatter",
           "x": [
            2
           ],
           "xaxis": "x",
           "y": [
            3
           ],
           "yaxis": "y"
          },
          {
           "hovertemplate": "forager=7<br>time=30<br>x=%{x}<br>y=%{y}<extra></extra>",
           "legendgroup": "7",
           "marker": {
            "color": "#FF6692",
            "line": {
             "width": 3
            },
            "opacity": 0.8,
            "size": 14,
            "symbol": "square"
           },
           "mode": "markers",
           "name": "7",
           "orientation": "v",
           "showlegend": true,
           "type": "scatter",
           "x": [
            17
           ],
           "xaxis": "x",
           "y": [
            18
           ],
           "yaxis": "y"
          },
          {
           "hovertemplate": "forager=8<br>time=30<br>x=%{x}<br>y=%{y}<extra></extra>",
           "legendgroup": "8",
           "marker": {
            "color": "#B6E880",
            "line": {
             "width": 3
            },
            "opacity": 0.8,
            "size": 14,
            "symbol": "square"
           },
           "mode": "markers",
           "name": "8",
           "orientation": "v",
           "showlegend": true,
           "type": "scatter",
           "x": [
            3
           ],
           "xaxis": "x",
           "y": [
            11
           ],
           "yaxis": "y"
          },
          {
           "hovertemplate": "forager=9<br>time=30<br>x=%{x}<br>y=%{y}<extra></extra>",
           "legendgroup": "9",
           "marker": {
            "color": "#FF97FF",
            "line": {
             "width": 3
            },
            "opacity": 0.8,
            "size": 14,
            "symbol": "square"
           },
           "mode": "markers",
           "name": "9",
           "orientation": "v",
           "showlegend": true,
           "type": "scatter",
           "x": [
            20
           ],
           "xaxis": "x",
           "y": [
            18
           ],
           "yaxis": "y"
          },
          {
           "hovertemplate": "forager=reward<br>time=30<br>x=%{x}<br>y=%{y}<extra></extra>",
           "legendgroup": "reward",
           "marker": {
            "color": "yellow",
            "symbol": "square"
           },
           "mode": "markers",
           "name": "reward",
           "orientation": "v",
           "showlegend": false,
           "type": "scatter",
           "x": [
            3,
            4,
            5,
            6,
            3,
            4,
            5,
            6,
            3,
            4,
            5,
            6,
            3,
            4,
            5,
            6
           ],
           "xaxis": "x",
           "y": [
            23,
            23,
            23,
            23,
            24,
            24,
            24,
            24,
            25,
            25,
            25,
            25,
            26,
            26,
            26,
            26
           ],
           "yaxis": "y"
          }
         ],
         "name": "30"
        },
        {
         "data": [
          {
           "hovertemplate": "forager=1<br>time=31<br>x=%{x}<br>y=%{y}<extra></extra>",
           "legendgroup": "1",
           "marker": {
            "color": "#636efa",
            "line": {
             "width": 3
            },
            "opacity": 0.8,
            "size": 14,
            "symbol": "square"
           },
           "mode": "markers",
           "name": "1",
           "orientation": "v",
           "showlegend": true,
           "type": "scatter",
           "x": [
            14
           ],
           "xaxis": "x",
           "y": [
            21
           ],
           "yaxis": "y"
          },
          {
           "hovertemplate": "forager=2<br>time=31<br>x=%{x}<br>y=%{y}<extra></extra>",
           "legendgroup": "2",
           "marker": {
            "color": "#EF553B",
            "line": {
             "width": 3
            },
            "opacity": 0.8,
            "size": 14,
            "symbol": "square"
           },
           "mode": "markers",
           "name": "2",
           "orientation": "v",
           "showlegend": true,
           "type": "scatter",
           "x": [
            12
           ],
           "xaxis": "x",
           "y": [
            4
           ],
           "yaxis": "y"
          },
          {
           "hovertemplate": "forager=3<br>time=31<br>x=%{x}<br>y=%{y}<extra></extra>",
           "legendgroup": "3",
           "marker": {
            "color": "#00cc96",
            "line": {
             "width": 3
            },
            "opacity": 0.8,
            "size": 14,
            "symbol": "square"
           },
           "mode": "markers",
           "name": "3",
           "orientation": "v",
           "showlegend": true,
           "type": "scatter",
           "x": [
            15
           ],
           "xaxis": "x",
           "y": [
            21
           ],
           "yaxis": "y"
          },
          {
           "hovertemplate": "forager=4<br>time=31<br>x=%{x}<br>y=%{y}<extra></extra>",
           "legendgroup": "4",
           "marker": {
            "color": "#ab63fa",
            "line": {
             "width": 3
            },
            "opacity": 0.8,
            "size": 14,
            "symbol": "square"
           },
           "mode": "markers",
           "name": "4",
           "orientation": "v",
           "showlegend": true,
           "type": "scatter",
           "x": [
            7
           ],
           "xaxis": "x",
           "y": [
            16
           ],
           "yaxis": "y"
          },
          {
           "hovertemplate": "forager=5<br>time=31<br>x=%{x}<br>y=%{y}<extra></extra>",
           "legendgroup": "5",
           "marker": {
            "color": "#FFA15A",
            "line": {
             "width": 3
            },
            "opacity": 0.8,
            "size": 14,
            "symbol": "square"
           },
           "mode": "markers",
           "name": "5",
           "orientation": "v",
           "showlegend": true,
           "type": "scatter",
           "x": [
            12
           ],
           "xaxis": "x",
           "y": [
            19
           ],
           "yaxis": "y"
          },
          {
           "hovertemplate": "forager=6<br>time=31<br>x=%{x}<br>y=%{y}<extra></extra>",
           "legendgroup": "6",
           "marker": {
            "color": "#19d3f3",
            "line": {
             "width": 3
            },
            "opacity": 0.8,
            "size": 14,
            "symbol": "square"
           },
           "mode": "markers",
           "name": "6",
           "orientation": "v",
           "showlegend": true,
           "type": "scatter",
           "x": [
            2
           ],
           "xaxis": "x",
           "y": [
            4
           ],
           "yaxis": "y"
          },
          {
           "hovertemplate": "forager=7<br>time=31<br>x=%{x}<br>y=%{y}<extra></extra>",
           "legendgroup": "7",
           "marker": {
            "color": "#FF6692",
            "line": {
             "width": 3
            },
            "opacity": 0.8,
            "size": 14,
            "symbol": "square"
           },
           "mode": "markers",
           "name": "7",
           "orientation": "v",
           "showlegend": true,
           "type": "scatter",
           "x": [
            17
           ],
           "xaxis": "x",
           "y": [
            21
           ],
           "yaxis": "y"
          },
          {
           "hovertemplate": "forager=8<br>time=31<br>x=%{x}<br>y=%{y}<extra></extra>",
           "legendgroup": "8",
           "marker": {
            "color": "#B6E880",
            "line": {
             "width": 3
            },
            "opacity": 0.8,
            "size": 14,
            "symbol": "square"
           },
           "mode": "markers",
           "name": "8",
           "orientation": "v",
           "showlegend": true,
           "type": "scatter",
           "x": [
            2
           ],
           "xaxis": "x",
           "y": [
            12
           ],
           "yaxis": "y"
          },
          {
           "hovertemplate": "forager=9<br>time=31<br>x=%{x}<br>y=%{y}<extra></extra>",
           "legendgroup": "9",
           "marker": {
            "color": "#FF97FF",
            "line": {
             "width": 3
            },
            "opacity": 0.8,
            "size": 14,
            "symbol": "square"
           },
           "mode": "markers",
           "name": "9",
           "orientation": "v",
           "showlegend": true,
           "type": "scatter",
           "x": [
            20
           ],
           "xaxis": "x",
           "y": [
            15
           ],
           "yaxis": "y"
          },
          {
           "hovertemplate": "forager=reward<br>time=31<br>x=%{x}<br>y=%{y}<extra></extra>",
           "legendgroup": "reward",
           "marker": {
            "color": "yellow",
            "symbol": "square"
           },
           "mode": "markers",
           "name": "reward",
           "orientation": "v",
           "showlegend": false,
           "type": "scatter",
           "x": [
            3,
            4,
            5,
            6,
            3,
            4,
            5,
            6,
            3,
            4,
            5,
            6,
            3,
            4,
            5,
            6
           ],
           "xaxis": "x",
           "y": [
            23,
            23,
            23,
            23,
            24,
            24,
            24,
            24,
            25,
            25,
            25,
            25,
            26,
            26,
            26,
            26
           ],
           "yaxis": "y"
          }
         ],
         "name": "31"
        },
        {
         "data": [
          {
           "hovertemplate": "forager=1<br>time=32<br>x=%{x}<br>y=%{y}<extra></extra>",
           "legendgroup": "1",
           "marker": {
            "color": "#636efa",
            "line": {
             "width": 3
            },
            "opacity": 0.8,
            "size": 14,
            "symbol": "square"
           },
           "mode": "markers",
           "name": "1",
           "orientation": "v",
           "showlegend": true,
           "type": "scatter",
           "x": [
            14
           ],
           "xaxis": "x",
           "y": [
            24
           ],
           "yaxis": "y"
          },
          {
           "hovertemplate": "forager=2<br>time=32<br>x=%{x}<br>y=%{y}<extra></extra>",
           "legendgroup": "2",
           "marker": {
            "color": "#EF553B",
            "line": {
             "width": 3
            },
            "opacity": 0.8,
            "size": 14,
            "symbol": "square"
           },
           "mode": "markers",
           "name": "2",
           "orientation": "v",
           "showlegend": true,
           "type": "scatter",
           "x": [
            13
           ],
           "xaxis": "x",
           "y": [
            3
           ],
           "yaxis": "y"
          },
          {
           "hovertemplate": "forager=3<br>time=32<br>x=%{x}<br>y=%{y}<extra></extra>",
           "legendgroup": "3",
           "marker": {
            "color": "#00cc96",
            "line": {
             "width": 3
            },
            "opacity": 0.8,
            "size": 14,
            "symbol": "square"
           },
           "mode": "markers",
           "name": "3",
           "orientation": "v",
           "showlegend": true,
           "type": "scatter",
           "x": [
            16
           ],
           "xaxis": "x",
           "y": [
            22
           ],
           "yaxis": "y"
          },
          {
           "hovertemplate": "forager=4<br>time=32<br>x=%{x}<br>y=%{y}<extra></extra>",
           "legendgroup": "4",
           "marker": {
            "color": "#ab63fa",
            "line": {
             "width": 3
            },
            "opacity": 0.8,
            "size": 14,
            "symbol": "square"
           },
           "mode": "markers",
           "name": "4",
           "orientation": "v",
           "showlegend": true,
           "type": "scatter",
           "x": [
            6
           ],
           "xaxis": "x",
           "y": [
            18
           ],
           "yaxis": "y"
          },
          {
           "hovertemplate": "forager=5<br>time=32<br>x=%{x}<br>y=%{y}<extra></extra>",
           "legendgroup": "5",
           "marker": {
            "color": "#FFA15A",
            "line": {
             "width": 3
            },
            "opacity": 0.8,
            "size": 14,
            "symbol": "square"
           },
           "mode": "markers",
           "name": "5",
           "orientation": "v",
           "showlegend": true,
           "type": "scatter",
           "x": [
            11
           ],
           "xaxis": "x",
           "y": [
            20
           ],
           "yaxis": "y"
          },
          {
           "hovertemplate": "forager=6<br>time=32<br>x=%{x}<br>y=%{y}<extra></extra>",
           "legendgroup": "6",
           "marker": {
            "color": "#19d3f3",
            "line": {
             "width": 3
            },
            "opacity": 0.8,
            "size": 14,
            "symbol": "square"
           },
           "mode": "markers",
           "name": "6",
           "orientation": "v",
           "showlegend": true,
           "type": "scatter",
           "x": [
            1
           ],
           "xaxis": "x",
           "y": [
            4
           ],
           "yaxis": "y"
          },
          {
           "hovertemplate": "forager=7<br>time=32<br>x=%{x}<br>y=%{y}<extra></extra>",
           "legendgroup": "7",
           "marker": {
            "color": "#FF6692",
            "line": {
             "width": 3
            },
            "opacity": 0.8,
            "size": 14,
            "symbol": "square"
           },
           "mode": "markers",
           "name": "7",
           "orientation": "v",
           "showlegend": true,
           "type": "scatter",
           "x": [
            18
           ],
           "xaxis": "x",
           "y": [
            22
           ],
           "yaxis": "y"
          },
          {
           "hovertemplate": "forager=8<br>time=32<br>x=%{x}<br>y=%{y}<extra></extra>",
           "legendgroup": "8",
           "marker": {
            "color": "#B6E880",
            "line": {
             "width": 3
            },
            "opacity": 0.8,
            "size": 14,
            "symbol": "square"
           },
           "mode": "markers",
           "name": "8",
           "orientation": "v",
           "showlegend": true,
           "type": "scatter",
           "x": [
            3
           ],
           "xaxis": "x",
           "y": [
            10
           ],
           "yaxis": "y"
          },
          {
           "hovertemplate": "forager=9<br>time=32<br>x=%{x}<br>y=%{y}<extra></extra>",
           "legendgroup": "9",
           "marker": {
            "color": "#FF97FF",
            "line": {
             "width": 3
            },
            "opacity": 0.8,
            "size": 14,
            "symbol": "square"
           },
           "mode": "markers",
           "name": "9",
           "orientation": "v",
           "showlegend": true,
           "type": "scatter",
           "x": [
            22
           ],
           "xaxis": "x",
           "y": [
            16
           ],
           "yaxis": "y"
          },
          {
           "hovertemplate": "forager=reward<br>time=32<br>x=%{x}<br>y=%{y}<extra></extra>",
           "legendgroup": "reward",
           "marker": {
            "color": "yellow",
            "symbol": "square"
           },
           "mode": "markers",
           "name": "reward",
           "orientation": "v",
           "showlegend": false,
           "type": "scatter",
           "x": [
            3,
            4,
            5,
            6,
            3,
            4,
            5,
            6,
            3,
            4,
            5,
            6,
            3,
            4,
            5,
            6
           ],
           "xaxis": "x",
           "y": [
            23,
            23,
            23,
            23,
            24,
            24,
            24,
            24,
            25,
            25,
            25,
            25,
            26,
            26,
            26,
            26
           ],
           "yaxis": "y"
          }
         ],
         "name": "32"
        },
        {
         "data": [
          {
           "hovertemplate": "forager=1<br>time=33<br>x=%{x}<br>y=%{y}<extra></extra>",
           "legendgroup": "1",
           "marker": {
            "color": "#636efa",
            "line": {
             "width": 3
            },
            "opacity": 0.8,
            "size": 14,
            "symbol": "square"
           },
           "mode": "markers",
           "name": "1",
           "orientation": "v",
           "showlegend": true,
           "type": "scatter",
           "x": [
            14
           ],
           "xaxis": "x",
           "y": [
            25
           ],
           "yaxis": "y"
          },
          {
           "hovertemplate": "forager=2<br>time=33<br>x=%{x}<br>y=%{y}<extra></extra>",
           "legendgroup": "2",
           "marker": {
            "color": "#EF553B",
            "line": {
             "width": 3
            },
            "opacity": 0.8,
            "size": 14,
            "symbol": "square"
           },
           "mode": "markers",
           "name": "2",
           "orientation": "v",
           "showlegend": true,
           "type": "scatter",
           "x": [
            13
           ],
           "xaxis": "x",
           "y": [
            5
           ],
           "yaxis": "y"
          },
          {
           "hovertemplate": "forager=3<br>time=33<br>x=%{x}<br>y=%{y}<extra></extra>",
           "legendgroup": "3",
           "marker": {
            "color": "#00cc96",
            "line": {
             "width": 3
            },
            "opacity": 0.8,
            "size": 14,
            "symbol": "square"
           },
           "mode": "markers",
           "name": "3",
           "orientation": "v",
           "showlegend": true,
           "type": "scatter",
           "x": [
            14
           ],
           "xaxis": "x",
           "y": [
            20
           ],
           "yaxis": "y"
          },
          {
           "hovertemplate": "forager=4<br>time=33<br>x=%{x}<br>y=%{y}<extra></extra>",
           "legendgroup": "4",
           "marker": {
            "color": "#ab63fa",
            "line": {
             "width": 3
            },
            "opacity": 0.8,
            "size": 14,
            "symbol": "square"
           },
           "mode": "markers",
           "name": "4",
           "orientation": "v",
           "showlegend": true,
           "type": "scatter",
           "x": [
            6
           ],
           "xaxis": "x",
           "y": [
            21
           ],
           "yaxis": "y"
          },
          {
           "hovertemplate": "forager=5<br>time=33<br>x=%{x}<br>y=%{y}<extra></extra>",
           "legendgroup": "5",
           "marker": {
            "color": "#FFA15A",
            "line": {
             "width": 3
            },
            "opacity": 0.8,
            "size": 14,
            "symbol": "square"
           },
           "mode": "markers",
           "name": "5",
           "orientation": "v",
           "showlegend": true,
           "type": "scatter",
           "x": [
            14
           ],
           "xaxis": "x",
           "y": [
            20
           ],
           "yaxis": "y"
          },
          {
           "hovertemplate": "forager=6<br>time=33<br>x=%{x}<br>y=%{y}<extra></extra>",
           "legendgroup": "6",
           "marker": {
            "color": "#19d3f3",
            "line": {
             "width": 3
            },
            "opacity": 0.8,
            "size": 14,
            "symbol": "square"
           },
           "mode": "markers",
           "name": "6",
           "orientation": "v",
           "showlegend": true,
           "type": "scatter",
           "x": [
            4
           ],
           "xaxis": "x",
           "y": [
            4
           ],
           "yaxis": "y"
          },
          {
           "hovertemplate": "forager=7<br>time=33<br>x=%{x}<br>y=%{y}<extra></extra>",
           "legendgroup": "7",
           "marker": {
            "color": "#FF6692",
            "line": {
             "width": 3
            },
            "opacity": 0.8,
            "size": 14,
            "symbol": "square"
           },
           "mode": "markers",
           "name": "7",
           "orientation": "v",
           "showlegend": true,
           "type": "scatter",
           "x": [
            18
           ],
           "xaxis": "x",
           "y": [
            19
           ],
           "yaxis": "y"
          },
          {
           "hovertemplate": "forager=8<br>time=33<br>x=%{x}<br>y=%{y}<extra></extra>",
           "legendgroup": "8",
           "marker": {
            "color": "#B6E880",
            "line": {
             "width": 3
            },
            "opacity": 0.8,
            "size": 14,
            "symbol": "square"
           },
           "mode": "markers",
           "name": "8",
           "orientation": "v",
           "showlegend": true,
           "type": "scatter",
           "x": [
            3
           ],
           "xaxis": "x",
           "y": [
            11
           ],
           "yaxis": "y"
          },
          {
           "hovertemplate": "forager=9<br>time=33<br>x=%{x}<br>y=%{y}<extra></extra>",
           "legendgroup": "9",
           "marker": {
            "color": "#FF97FF",
            "line": {
             "width": 3
            },
            "opacity": 0.8,
            "size": 14,
            "symbol": "square"
           },
           "mode": "markers",
           "name": "9",
           "orientation": "v",
           "showlegend": true,
           "type": "scatter",
           "x": [
            22
           ],
           "xaxis": "x",
           "y": [
            14
           ],
           "yaxis": "y"
          },
          {
           "hovertemplate": "forager=reward<br>time=33<br>x=%{x}<br>y=%{y}<extra></extra>",
           "legendgroup": "reward",
           "marker": {
            "color": "yellow",
            "symbol": "square"
           },
           "mode": "markers",
           "name": "reward",
           "orientation": "v",
           "showlegend": false,
           "type": "scatter",
           "x": [
            3,
            4,
            5,
            6,
            3,
            4,
            5,
            6,
            3,
            4,
            5,
            6,
            3,
            4,
            5,
            6
           ],
           "xaxis": "x",
           "y": [
            23,
            23,
            23,
            23,
            24,
            24,
            24,
            24,
            25,
            25,
            25,
            25,
            26,
            26,
            26,
            26
           ],
           "yaxis": "y"
          }
         ],
         "name": "33"
        },
        {
         "data": [
          {
           "hovertemplate": "forager=1<br>time=34<br>x=%{x}<br>y=%{y}<extra></extra>",
           "legendgroup": "1",
           "marker": {
            "color": "#636efa",
            "line": {
             "width": 3
            },
            "opacity": 0.8,
            "size": 14,
            "symbol": "square"
           },
           "mode": "markers",
           "name": "1",
           "orientation": "v",
           "showlegend": true,
           "type": "scatter",
           "x": [
            16
           ],
           "xaxis": "x",
           "y": [
            25
           ],
           "yaxis": "y"
          },
          {
           "hovertemplate": "forager=2<br>time=34<br>x=%{x}<br>y=%{y}<extra></extra>",
           "legendgroup": "2",
           "marker": {
            "color": "#EF553B",
            "line": {
             "width": 3
            },
            "opacity": 0.8,
            "size": 14,
            "symbol": "square"
           },
           "mode": "markers",
           "name": "2",
           "orientation": "v",
           "showlegend": true,
           "type": "scatter",
           "x": [
            11
           ],
           "xaxis": "x",
           "y": [
            5
           ],
           "yaxis": "y"
          },
          {
           "hovertemplate": "forager=3<br>time=34<br>x=%{x}<br>y=%{y}<extra></extra>",
           "legendgroup": "3",
           "marker": {
            "color": "#00cc96",
            "line": {
             "width": 3
            },
            "opacity": 0.8,
            "size": 14,
            "symbol": "square"
           },
           "mode": "markers",
           "name": "3",
           "orientation": "v",
           "showlegend": true,
           "type": "scatter",
           "x": [
            14
           ],
           "xaxis": "x",
           "y": [
            19
           ],
           "yaxis": "y"
          },
          {
           "hovertemplate": "forager=4<br>time=34<br>x=%{x}<br>y=%{y}<extra></extra>",
           "legendgroup": "4",
           "marker": {
            "color": "#ab63fa",
            "line": {
             "width": 3
            },
            "opacity": 0.8,
            "size": 14,
            "symbol": "square"
           },
           "mode": "markers",
           "name": "4",
           "orientation": "v",
           "showlegend": true,
           "type": "scatter",
           "x": [
            4
           ],
           "xaxis": "x",
           "y": [
            23
           ],
           "yaxis": "y"
          },
          {
           "hovertemplate": "forager=5<br>time=34<br>x=%{x}<br>y=%{y}<extra></extra>",
           "legendgroup": "5",
           "marker": {
            "color": "#FFA15A",
            "line": {
             "width": 3
            },
            "opacity": 0.8,
            "size": 14,
            "symbol": "square"
           },
           "mode": "markers",
           "name": "5",
           "orientation": "v",
           "showlegend": true,
           "type": "scatter",
           "x": [
            16
           ],
           "xaxis": "x",
           "y": [
            22
           ],
           "yaxis": "y"
          },
          {
           "hovertemplate": "forager=6<br>time=34<br>x=%{x}<br>y=%{y}<extra></extra>",
           "legendgroup": "6",
           "marker": {
            "color": "#19d3f3",
            "line": {
             "width": 3
            },
            "opacity": 0.8,
            "size": 14,
            "symbol": "square"
           },
           "mode": "markers",
           "name": "6",
           "orientation": "v",
           "showlegend": true,
           "type": "scatter",
           "x": [
            5
           ],
           "xaxis": "x",
           "y": [
            3
           ],
           "yaxis": "y"
          },
          {
           "hovertemplate": "forager=7<br>time=34<br>x=%{x}<br>y=%{y}<extra></extra>",
           "legendgroup": "7",
           "marker": {
            "color": "#FF6692",
            "line": {
             "width": 3
            },
            "opacity": 0.8,
            "size": 14,
            "symbol": "square"
           },
           "mode": "markers",
           "name": "7",
           "orientation": "v",
           "showlegend": true,
           "type": "scatter",
           "x": [
            20
           ],
           "xaxis": "x",
           "y": [
            20
           ],
           "yaxis": "y"
          },
          {
           "hovertemplate": "forager=8<br>time=34<br>x=%{x}<br>y=%{y}<extra></extra>",
           "legendgroup": "8",
           "marker": {
            "color": "#B6E880",
            "line": {
             "width": 3
            },
            "opacity": 0.8,
            "size": 14,
            "symbol": "square"
           },
           "mode": "markers",
           "name": "8",
           "orientation": "v",
           "showlegend": true,
           "type": "scatter",
           "x": [
            5
           ],
           "xaxis": "x",
           "y": [
            13
           ],
           "yaxis": "y"
          },
          {
           "hovertemplate": "forager=9<br>time=34<br>x=%{x}<br>y=%{y}<extra></extra>",
           "legendgroup": "9",
           "marker": {
            "color": "#FF97FF",
            "line": {
             "width": 3
            },
            "opacity": 0.8,
            "size": 14,
            "symbol": "square"
           },
           "mode": "markers",
           "name": "9",
           "orientation": "v",
           "showlegend": true,
           "type": "scatter",
           "x": [
            24
           ],
           "xaxis": "x",
           "y": [
            12
           ],
           "yaxis": "y"
          },
          {
           "hovertemplate": "forager=reward<br>time=34<br>x=%{x}<br>y=%{y}<extra></extra>",
           "legendgroup": "reward",
           "marker": {
            "color": "yellow",
            "symbol": "square"
           },
           "mode": "markers",
           "name": "reward",
           "orientation": "v",
           "showlegend": false,
           "type": "scatter",
           "x": [
            3,
            4,
            5,
            6,
            3,
            4,
            5,
            6,
            3,
            4,
            5,
            6,
            3,
            4,
            5,
            6
           ],
           "xaxis": "x",
           "y": [
            23,
            23,
            23,
            23,
            24,
            24,
            24,
            24,
            25,
            25,
            25,
            25,
            26,
            26,
            26,
            26
           ],
           "yaxis": "y"
          }
         ],
         "name": "34"
        },
        {
         "data": [
          {
           "hovertemplate": "forager=1<br>time=35<br>x=%{x}<br>y=%{y}<extra></extra>",
           "legendgroup": "1",
           "marker": {
            "color": "#636efa",
            "line": {
             "width": 3
            },
            "opacity": 0.8,
            "size": 14,
            "symbol": "square"
           },
           "mode": "markers",
           "name": "1",
           "orientation": "v",
           "showlegend": true,
           "type": "scatter",
           "x": [
            18
           ],
           "xaxis": "x",
           "y": [
            24
           ],
           "yaxis": "y"
          },
          {
           "hovertemplate": "forager=2<br>time=35<br>x=%{x}<br>y=%{y}<extra></extra>",
           "legendgroup": "2",
           "marker": {
            "color": "#EF553B",
            "line": {
             "width": 3
            },
            "opacity": 0.8,
            "size": 14,
            "symbol": "square"
           },
           "mode": "markers",
           "name": "2",
           "orientation": "v",
           "showlegend": true,
           "type": "scatter",
           "x": [
            11
           ],
           "xaxis": "x",
           "y": [
            6
           ],
           "yaxis": "y"
          },
          {
           "hovertemplate": "forager=3<br>time=35<br>x=%{x}<br>y=%{y}<extra></extra>",
           "legendgroup": "3",
           "marker": {
            "color": "#00cc96",
            "line": {
             "width": 3
            },
            "opacity": 0.8,
            "size": 14,
            "symbol": "square"
           },
           "mode": "markers",
           "name": "3",
           "orientation": "v",
           "showlegend": true,
           "type": "scatter",
           "x": [
            16
           ],
           "xaxis": "x",
           "y": [
            18
           ],
           "yaxis": "y"
          },
          {
           "hovertemplate": "forager=4<br>time=35<br>x=%{x}<br>y=%{y}<extra></extra>",
           "legendgroup": "4",
           "marker": {
            "color": "#ab63fa",
            "line": {
             "width": 3
            },
            "opacity": 0.8,
            "size": 14,
            "symbol": "square"
           },
           "mode": "markers",
           "name": "4",
           "orientation": "v",
           "showlegend": true,
           "type": "scatter",
           "x": [
            4
           ],
           "xaxis": "x",
           "y": [
            25
           ],
           "yaxis": "y"
          },
          {
           "hovertemplate": "forager=5<br>time=35<br>x=%{x}<br>y=%{y}<extra></extra>",
           "legendgroup": "5",
           "marker": {
            "color": "#FFA15A",
            "line": {
             "width": 3
            },
            "opacity": 0.8,
            "size": 14,
            "symbol": "square"
           },
           "mode": "markers",
           "name": "5",
           "orientation": "v",
           "showlegend": true,
           "type": "scatter",
           "x": [
            19
           ],
           "xaxis": "x",
           "y": [
            22
           ],
           "yaxis": "y"
          },
          {
           "hovertemplate": "forager=6<br>time=35<br>x=%{x}<br>y=%{y}<extra></extra>",
           "legendgroup": "6",
           "marker": {
            "color": "#19d3f3",
            "line": {
             "width": 3
            },
            "opacity": 0.8,
            "size": 14,
            "symbol": "square"
           },
           "mode": "markers",
           "name": "6",
           "orientation": "v",
           "showlegend": true,
           "type": "scatter",
           "x": [
            2
           ],
           "xaxis": "x",
           "y": [
            3
           ],
           "yaxis": "y"
          },
          {
           "hovertemplate": "forager=7<br>time=35<br>x=%{x}<br>y=%{y}<extra></extra>",
           "legendgroup": "7",
           "marker": {
            "color": "#FF6692",
            "line": {
             "width": 3
            },
            "opacity": 0.8,
            "size": 14,
            "symbol": "square"
           },
           "mode": "markers",
           "name": "7",
           "orientation": "v",
           "showlegend": true,
           "type": "scatter",
           "x": [
            22
           ],
           "xaxis": "x",
           "y": [
            22
           ],
           "yaxis": "y"
          },
          {
           "hovertemplate": "forager=8<br>time=35<br>x=%{x}<br>y=%{y}<extra></extra>",
           "legendgroup": "8",
           "marker": {
            "color": "#B6E880",
            "line": {
             "width": 3
            },
            "opacity": 0.8,
            "size": 14,
            "symbol": "square"
           },
           "mode": "markers",
           "name": "8",
           "orientation": "v",
           "showlegend": true,
           "type": "scatter",
           "x": [
            3
           ],
           "xaxis": "x",
           "y": [
            15
           ],
           "yaxis": "y"
          },
          {
           "hovertemplate": "forager=9<br>time=35<br>x=%{x}<br>y=%{y}<extra></extra>",
           "legendgroup": "9",
           "marker": {
            "color": "#FF97FF",
            "line": {
             "width": 3
            },
            "opacity": 0.8,
            "size": 14,
            "symbol": "square"
           },
           "mode": "markers",
           "name": "9",
           "orientation": "v",
           "showlegend": true,
           "type": "scatter",
           "x": [
            22
           ],
           "xaxis": "x",
           "y": [
            14
           ],
           "yaxis": "y"
          },
          {
           "hovertemplate": "forager=reward<br>time=35<br>x=%{x}<br>y=%{y}<extra></extra>",
           "legendgroup": "reward",
           "marker": {
            "color": "yellow",
            "symbol": "square"
           },
           "mode": "markers",
           "name": "reward",
           "orientation": "v",
           "showlegend": false,
           "type": "scatter",
           "x": [
            3,
            4,
            5,
            6,
            3,
            4,
            5,
            6,
            3,
            4,
            5,
            6,
            3,
            4,
            5,
            6
           ],
           "xaxis": "x",
           "y": [
            23,
            23,
            23,
            23,
            24,
            24,
            24,
            24,
            25,
            25,
            25,
            25,
            26,
            26,
            26,
            26
           ],
           "yaxis": "y"
          }
         ],
         "name": "35"
        },
        {
         "data": [
          {
           "hovertemplate": "forager=1<br>time=36<br>x=%{x}<br>y=%{y}<extra></extra>",
           "legendgroup": "1",
           "marker": {
            "color": "#636efa",
            "line": {
             "width": 3
            },
            "opacity": 0.8,
            "size": 14,
            "symbol": "square"
           },
           "mode": "markers",
           "name": "1",
           "orientation": "v",
           "showlegend": true,
           "type": "scatter",
           "x": [
            16
           ],
           "xaxis": "x",
           "y": [
            25
           ],
           "yaxis": "y"
          },
          {
           "hovertemplate": "forager=2<br>time=36<br>x=%{x}<br>y=%{y}<extra></extra>",
           "legendgroup": "2",
           "marker": {
            "color": "#EF553B",
            "line": {
             "width": 3
            },
            "opacity": 0.8,
            "size": 14,
            "symbol": "square"
           },
           "mode": "markers",
           "name": "2",
           "orientation": "v",
           "showlegend": true,
           "type": "scatter",
           "x": [
            11
           ],
           "xaxis": "x",
           "y": [
            4
           ],
           "yaxis": "y"
          },
          {
           "hovertemplate": "forager=3<br>time=36<br>x=%{x}<br>y=%{y}<extra></extra>",
           "legendgroup": "3",
           "marker": {
            "color": "#00cc96",
            "line": {
             "width": 3
            },
            "opacity": 0.8,
            "size": 14,
            "symbol": "square"
           },
           "mode": "markers",
           "name": "3",
           "orientation": "v",
           "showlegend": true,
           "type": "scatter",
           "x": [
            15
           ],
           "xaxis": "x",
           "y": [
            20
           ],
           "yaxis": "y"
          },
          {
           "hovertemplate": "forager=4<br>time=36<br>x=%{x}<br>y=%{y}<extra></extra>",
           "legendgroup": "4",
           "marker": {
            "color": "#ab63fa",
            "line": {
             "width": 3
            },
            "opacity": 0.8,
            "size": 14,
            "symbol": "square"
           },
           "mode": "markers",
           "name": "4",
           "orientation": "v",
           "showlegend": true,
           "type": "scatter",
           "x": [
            5
           ],
           "xaxis": "x",
           "y": [
            25
           ],
           "yaxis": "y"
          },
          {
           "hovertemplate": "forager=5<br>time=36<br>x=%{x}<br>y=%{y}<extra></extra>",
           "legendgroup": "5",
           "marker": {
            "color": "#FFA15A",
            "line": {
             "width": 3
            },
            "opacity": 0.8,
            "size": 14,
            "symbol": "square"
           },
           "mode": "markers",
           "name": "5",
           "orientation": "v",
           "showlegend": true,
           "type": "scatter",
           "x": [
            18
           ],
           "xaxis": "x",
           "y": [
            21
           ],
           "yaxis": "y"
          },
          {
           "hovertemplate": "forager=6<br>time=36<br>x=%{x}<br>y=%{y}<extra></extra>",
           "legendgroup": "6",
           "marker": {
            "color": "#19d3f3",
            "line": {
             "width": 3
            },
            "opacity": 0.8,
            "size": 14,
            "symbol": "square"
           },
           "mode": "markers",
           "name": "6",
           "orientation": "v",
           "showlegend": true,
           "type": "scatter",
           "x": [
            1
           ],
           "xaxis": "x",
           "y": [
            1
           ],
           "yaxis": "y"
          },
          {
           "hovertemplate": "forager=7<br>time=36<br>x=%{x}<br>y=%{y}<extra></extra>",
           "legendgroup": "7",
           "marker": {
            "color": "#FF6692",
            "line": {
             "width": 3
            },
            "opacity": 0.8,
            "size": 14,
            "symbol": "square"
           },
           "mode": "markers",
           "name": "7",
           "orientation": "v",
           "showlegend": true,
           "type": "scatter",
           "x": [
            22
           ],
           "xaxis": "x",
           "y": [
            20
           ],
           "yaxis": "y"
          },
          {
           "hovertemplate": "forager=8<br>time=36<br>x=%{x}<br>y=%{y}<extra></extra>",
           "legendgroup": "8",
           "marker": {
            "color": "#B6E880",
            "line": {
             "width": 3
            },
            "opacity": 0.8,
            "size": 14,
            "symbol": "square"
           },
           "mode": "markers",
           "name": "8",
           "orientation": "v",
           "showlegend": true,
           "type": "scatter",
           "x": [
            2
           ],
           "xaxis": "x",
           "y": [
            13
           ],
           "yaxis": "y"
          },
          {
           "hovertemplate": "forager=9<br>time=36<br>x=%{x}<br>y=%{y}<extra></extra>",
           "legendgroup": "9",
           "marker": {
            "color": "#FF97FF",
            "line": {
             "width": 3
            },
            "opacity": 0.8,
            "size": 14,
            "symbol": "square"
           },
           "mode": "markers",
           "name": "9",
           "orientation": "v",
           "showlegend": true,
           "type": "scatter",
           "x": [
            21
           ],
           "xaxis": "x",
           "y": [
            15
           ],
           "yaxis": "y"
          },
          {
           "hovertemplate": "forager=reward<br>time=36<br>x=%{x}<br>y=%{y}<extra></extra>",
           "legendgroup": "reward",
           "marker": {
            "color": "yellow",
            "symbol": "square"
           },
           "mode": "markers",
           "name": "reward",
           "orientation": "v",
           "showlegend": false,
           "type": "scatter",
           "x": [
            3,
            4,
            5,
            6,
            3,
            4,
            5,
            6,
            3,
            4,
            5,
            6,
            3,
            4,
            5,
            6
           ],
           "xaxis": "x",
           "y": [
            23,
            23,
            23,
            23,
            24,
            24,
            24,
            24,
            25,
            25,
            25,
            25,
            26,
            26,
            26,
            26
           ],
           "yaxis": "y"
          }
         ],
         "name": "36"
        },
        {
         "data": [
          {
           "hovertemplate": "forager=1<br>time=37<br>x=%{x}<br>y=%{y}<extra></extra>",
           "legendgroup": "1",
           "marker": {
            "color": "#636efa",
            "line": {
             "width": 3
            },
            "opacity": 0.8,
            "size": 14,
            "symbol": "square"
           },
           "mode": "markers",
           "name": "1",
           "orientation": "v",
           "showlegend": true,
           "type": "scatter",
           "x": [
            14
           ],
           "xaxis": "x",
           "y": [
            24
           ],
           "yaxis": "y"
          },
          {
           "hovertemplate": "forager=2<br>time=37<br>x=%{x}<br>y=%{y}<extra></extra>",
           "legendgroup": "2",
           "marker": {
            "color": "#EF553B",
            "line": {
             "width": 3
            },
            "opacity": 0.8,
            "size": 14,
            "symbol": "square"
           },
           "mode": "markers",
           "name": "2",
           "orientation": "v",
           "showlegend": true,
           "type": "scatter",
           "x": [
            13
           ],
           "xaxis": "x",
           "y": [
            2
           ],
           "yaxis": "y"
          },
          {
           "hovertemplate": "forager=3<br>time=37<br>x=%{x}<br>y=%{y}<extra></extra>",
           "legendgroup": "3",
           "marker": {
            "color": "#00cc96",
            "line": {
             "width": 3
            },
            "opacity": 0.8,
            "size": 14,
            "symbol": "square"
           },
           "mode": "markers",
           "name": "3",
           "orientation": "v",
           "showlegend": true,
           "type": "scatter",
           "x": [
            17
           ],
           "xaxis": "x",
           "y": [
            21
           ],
           "yaxis": "y"
          },
          {
           "hovertemplate": "forager=4<br>time=37<br>x=%{x}<br>y=%{y}<extra></extra>",
           "legendgroup": "4",
           "marker": {
            "color": "#ab63fa",
            "line": {
             "width": 3
            },
            "opacity": 0.8,
            "size": 14,
            "symbol": "square"
           },
           "mode": "markers",
           "name": "4",
           "orientation": "v",
           "showlegend": true,
           "type": "scatter",
           "x": [
            4
           ],
           "xaxis": "x",
           "y": [
            24
           ],
           "yaxis": "y"
          },
          {
           "hovertemplate": "forager=5<br>time=37<br>x=%{x}<br>y=%{y}<extra></extra>",
           "legendgroup": "5",
           "marker": {
            "color": "#FFA15A",
            "line": {
             "width": 3
            },
            "opacity": 0.8,
            "size": 14,
            "symbol": "square"
           },
           "mode": "markers",
           "name": "5",
           "orientation": "v",
           "showlegend": true,
           "type": "scatter",
           "x": [
            15
           ],
           "xaxis": "x",
           "y": [
            21
           ],
           "yaxis": "y"
          },
          {
           "hovertemplate": "forager=6<br>time=37<br>x=%{x}<br>y=%{y}<extra></extra>",
           "legendgroup": "6",
           "marker": {
            "color": "#19d3f3",
            "line": {
             "width": 3
            },
            "opacity": 0.8,
            "size": 14,
            "symbol": "square"
           },
           "mode": "markers",
           "name": "6",
           "orientation": "v",
           "showlegend": true,
           "type": "scatter",
           "x": [
            2
           ],
           "xaxis": "x",
           "y": [
            2
           ],
           "yaxis": "y"
          },
          {
           "hovertemplate": "forager=7<br>time=37<br>x=%{x}<br>y=%{y}<extra></extra>",
           "legendgroup": "7",
           "marker": {
            "color": "#FF6692",
            "line": {
             "width": 3
            },
            "opacity": 0.8,
            "size": 14,
            "symbol": "square"
           },
           "mode": "markers",
           "name": "7",
           "orientation": "v",
           "showlegend": true,
           "type": "scatter",
           "x": [
            23
           ],
           "xaxis": "x",
           "y": [
            19
           ],
           "yaxis": "y"
          },
          {
           "hovertemplate": "forager=8<br>time=37<br>x=%{x}<br>y=%{y}<extra></extra>",
           "legendgroup": "8",
           "marker": {
            "color": "#B6E880",
            "line": {
             "width": 3
            },
            "opacity": 0.8,
            "size": 14,
            "symbol": "square"
           },
           "mode": "markers",
           "name": "8",
           "orientation": "v",
           "showlegend": true,
           "type": "scatter",
           "x": [
            1
           ],
           "xaxis": "x",
           "y": [
            11
           ],
           "yaxis": "y"
          },
          {
           "hovertemplate": "forager=9<br>time=37<br>x=%{x}<br>y=%{y}<extra></extra>",
           "legendgroup": "9",
           "marker": {
            "color": "#FF97FF",
            "line": {
             "width": 3
            },
            "opacity": 0.8,
            "size": 14,
            "symbol": "square"
           },
           "mode": "markers",
           "name": "9",
           "orientation": "v",
           "showlegend": true,
           "type": "scatter",
           "x": [
            18
           ],
           "xaxis": "x",
           "y": [
            15
           ],
           "yaxis": "y"
          },
          {
           "hovertemplate": "forager=reward<br>time=37<br>x=%{x}<br>y=%{y}<extra></extra>",
           "legendgroup": "reward",
           "marker": {
            "color": "yellow",
            "symbol": "square"
           },
           "mode": "markers",
           "name": "reward",
           "orientation": "v",
           "showlegend": false,
           "type": "scatter",
           "x": [
            3,
            4,
            5,
            6,
            3,
            4,
            5,
            6,
            3,
            4,
            5,
            6,
            3,
            4,
            5,
            6
           ],
           "xaxis": "x",
           "y": [
            23,
            23,
            23,
            23,
            24,
            24,
            24,
            24,
            25,
            25,
            25,
            25,
            26,
            26,
            26,
            26
           ],
           "yaxis": "y"
          }
         ],
         "name": "37"
        },
        {
         "data": [
          {
           "hovertemplate": "forager=1<br>time=38<br>x=%{x}<br>y=%{y}<extra></extra>",
           "legendgroup": "1",
           "marker": {
            "color": "#636efa",
            "line": {
             "width": 3
            },
            "opacity": 0.8,
            "size": 14,
            "symbol": "square"
           },
           "mode": "markers",
           "name": "1",
           "orientation": "v",
           "showlegend": true,
           "type": "scatter",
           "x": [
            16
           ],
           "xaxis": "x",
           "y": [
            26
           ],
           "yaxis": "y"
          },
          {
           "hovertemplate": "forager=2<br>time=38<br>x=%{x}<br>y=%{y}<extra></extra>",
           "legendgroup": "2",
           "marker": {
            "color": "#EF553B",
            "line": {
             "width": 3
            },
            "opacity": 0.8,
            "size": 14,
            "symbol": "square"
           },
           "mode": "markers",
           "name": "2",
           "orientation": "v",
           "showlegend": true,
           "type": "scatter",
           "x": [
            10
           ],
           "xaxis": "x",
           "y": [
            2
           ],
           "yaxis": "y"
          },
          {
           "hovertemplate": "forager=3<br>time=38<br>x=%{x}<br>y=%{y}<extra></extra>",
           "legendgroup": "3",
           "marker": {
            "color": "#00cc96",
            "line": {
             "width": 3
            },
            "opacity": 0.8,
            "size": 14,
            "symbol": "square"
           },
           "mode": "markers",
           "name": "3",
           "orientation": "v",
           "showlegend": true,
           "type": "scatter",
           "x": [
            18
           ],
           "xaxis": "x",
           "y": [
            21
           ],
           "yaxis": "y"
          },
          {
           "hovertemplate": "forager=4<br>time=38<br>x=%{x}<br>y=%{y}<extra></extra>",
           "legendgroup": "4",
           "marker": {
            "color": "#ab63fa",
            "line": {
             "width": 3
            },
            "opacity": 0.8,
            "size": 14,
            "symbol": "square"
           },
           "mode": "markers",
           "name": "4",
           "orientation": "v",
           "showlegend": true,
           "type": "scatter",
           "x": [
            5
           ],
           "xaxis": "x",
           "y": [
            24
           ],
           "yaxis": "y"
          },
          {
           "hovertemplate": "forager=5<br>time=38<br>x=%{x}<br>y=%{y}<extra></extra>",
           "legendgroup": "5",
           "marker": {
            "color": "#FFA15A",
            "line": {
             "width": 3
            },
            "opacity": 0.8,
            "size": 14,
            "symbol": "square"
           },
           "mode": "markers",
           "name": "5",
           "orientation": "v",
           "showlegend": true,
           "type": "scatter",
           "x": [
            17
           ],
           "xaxis": "x",
           "y": [
            22
           ],
           "yaxis": "y"
          },
          {
           "hovertemplate": "forager=6<br>time=38<br>x=%{x}<br>y=%{y}<extra></extra>",
           "legendgroup": "6",
           "marker": {
            "color": "#19d3f3",
            "line": {
             "width": 3
            },
            "opacity": 0.8,
            "size": 14,
            "symbol": "square"
           },
           "mode": "markers",
           "name": "6",
           "orientation": "v",
           "showlegend": true,
           "type": "scatter",
           "x": [
            3
           ],
           "xaxis": "x",
           "y": [
            3
           ],
           "yaxis": "y"
          },
          {
           "hovertemplate": "forager=7<br>time=38<br>x=%{x}<br>y=%{y}<extra></extra>",
           "legendgroup": "7",
           "marker": {
            "color": "#FF6692",
            "line": {
             "width": 3
            },
            "opacity": 0.8,
            "size": 14,
            "symbol": "square"
           },
           "mode": "markers",
           "name": "7",
           "orientation": "v",
           "showlegend": true,
           "type": "scatter",
           "x": [
            24
           ],
           "xaxis": "x",
           "y": [
            21
           ],
           "yaxis": "y"
          },
          {
           "hovertemplate": "forager=8<br>time=38<br>x=%{x}<br>y=%{y}<extra></extra>",
           "legendgroup": "8",
           "marker": {
            "color": "#B6E880",
            "line": {
             "width": 3
            },
            "opacity": 0.8,
            "size": 14,
            "symbol": "square"
           },
           "mode": "markers",
           "name": "8",
           "orientation": "v",
           "showlegend": true,
           "type": "scatter",
           "x": [
            1
           ],
           "xaxis": "x",
           "y": [
            8
           ],
           "yaxis": "y"
          },
          {
           "hovertemplate": "forager=9<br>time=38<br>x=%{x}<br>y=%{y}<extra></extra>",
           "legendgroup": "9",
           "marker": {
            "color": "#FF97FF",
            "line": {
             "width": 3
            },
            "opacity": 0.8,
            "size": 14,
            "symbol": "square"
           },
           "mode": "markers",
           "name": "9",
           "orientation": "v",
           "showlegend": true,
           "type": "scatter",
           "x": [
            20
           ],
           "xaxis": "x",
           "y": [
            13
           ],
           "yaxis": "y"
          },
          {
           "hovertemplate": "forager=reward<br>time=38<br>x=%{x}<br>y=%{y}<extra></extra>",
           "legendgroup": "reward",
           "marker": {
            "color": "yellow",
            "symbol": "square"
           },
           "mode": "markers",
           "name": "reward",
           "orientation": "v",
           "showlegend": false,
           "type": "scatter",
           "x": [
            3,
            4,
            5,
            6,
            3,
            4,
            5,
            6,
            3,
            4,
            5,
            6,
            3,
            4,
            5,
            6
           ],
           "xaxis": "x",
           "y": [
            23,
            23,
            23,
            23,
            24,
            24,
            24,
            24,
            25,
            25,
            25,
            25,
            26,
            26,
            26,
            26
           ],
           "yaxis": "y"
          }
         ],
         "name": "38"
        },
        {
         "data": [
          {
           "hovertemplate": "forager=1<br>time=39<br>x=%{x}<br>y=%{y}<extra></extra>",
           "legendgroup": "1",
           "marker": {
            "color": "#636efa",
            "line": {
             "width": 3
            },
            "opacity": 0.8,
            "size": 14,
            "symbol": "square"
           },
           "mode": "markers",
           "name": "1",
           "orientation": "v",
           "showlegend": true,
           "type": "scatter",
           "x": [
            14
           ],
           "xaxis": "x",
           "y": [
            28
           ],
           "yaxis": "y"
          },
          {
           "hovertemplate": "forager=2<br>time=39<br>x=%{x}<br>y=%{y}<extra></extra>",
           "legendgroup": "2",
           "marker": {
            "color": "#EF553B",
            "line": {
             "width": 3
            },
            "opacity": 0.8,
            "size": 14,
            "symbol": "square"
           },
           "mode": "markers",
           "name": "2",
           "orientation": "v",
           "showlegend": true,
           "type": "scatter",
           "x": [
            9
           ],
           "xaxis": "x",
           "y": [
            4
           ],
           "yaxis": "y"
          },
          {
           "hovertemplate": "forager=3<br>time=39<br>x=%{x}<br>y=%{y}<extra></extra>",
           "legendgroup": "3",
           "marker": {
            "color": "#00cc96",
            "line": {
             "width": 3
            },
            "opacity": 0.8,
            "size": 14,
            "symbol": "square"
           },
           "mode": "markers",
           "name": "3",
           "orientation": "v",
           "showlegend": true,
           "type": "scatter",
           "x": [
            17
           ],
           "xaxis": "x",
           "y": [
            23
           ],
           "yaxis": "y"
          },
          {
           "hovertemplate": "forager=4<br>time=39<br>x=%{x}<br>y=%{y}<extra></extra>",
           "legendgroup": "4",
           "marker": {
            "color": "#ab63fa",
            "line": {
             "width": 3
            },
            "opacity": 0.8,
            "size": 14,
            "symbol": "square"
           },
           "mode": "markers",
           "name": "4",
           "orientation": "v",
           "showlegend": true,
           "type": "scatter",
           "x": [
            4
           ],
           "xaxis": "x",
           "y": [
            26
           ],
           "yaxis": "y"
          },
          {
           "hovertemplate": "forager=5<br>time=39<br>x=%{x}<br>y=%{y}<extra></extra>",
           "legendgroup": "5",
           "marker": {
            "color": "#FFA15A",
            "line": {
             "width": 3
            },
            "opacity": 0.8,
            "size": 14,
            "symbol": "square"
           },
           "mode": "markers",
           "name": "5",
           "orientation": "v",
           "showlegend": true,
           "type": "scatter",
           "x": [
            15
           ],
           "xaxis": "x",
           "y": [
            20
           ],
           "yaxis": "y"
          },
          {
           "hovertemplate": "forager=6<br>time=39<br>x=%{x}<br>y=%{y}<extra></extra>",
           "legendgroup": "6",
           "marker": {
            "color": "#19d3f3",
            "line": {
             "width": 3
            },
            "opacity": 0.8,
            "size": 14,
            "symbol": "square"
           },
           "mode": "markers",
           "name": "6",
           "orientation": "v",
           "showlegend": true,
           "type": "scatter",
           "x": [
            5
           ],
           "xaxis": "x",
           "y": [
            3
           ],
           "yaxis": "y"
          },
          {
           "hovertemplate": "forager=7<br>time=39<br>x=%{x}<br>y=%{y}<extra></extra>",
           "legendgroup": "7",
           "marker": {
            "color": "#FF6692",
            "line": {
             "width": 3
            },
            "opacity": 0.8,
            "size": 14,
            "symbol": "square"
           },
           "mode": "markers",
           "name": "7",
           "orientation": "v",
           "showlegend": true,
           "type": "scatter",
           "x": [
            24
           ],
           "xaxis": "x",
           "y": [
            19
           ],
           "yaxis": "y"
          },
          {
           "hovertemplate": "forager=8<br>time=39<br>x=%{x}<br>y=%{y}<extra></extra>",
           "legendgroup": "8",
           "marker": {
            "color": "#B6E880",
            "line": {
             "width": 3
            },
            "opacity": 0.8,
            "size": 14,
            "symbol": "square"
           },
           "mode": "markers",
           "name": "8",
           "orientation": "v",
           "showlegend": true,
           "type": "scatter",
           "x": [
            1
           ],
           "xaxis": "x",
           "y": [
            6
           ],
           "yaxis": "y"
          },
          {
           "hovertemplate": "forager=9<br>time=39<br>x=%{x}<br>y=%{y}<extra></extra>",
           "legendgroup": "9",
           "marker": {
            "color": "#FF97FF",
            "line": {
             "width": 3
            },
            "opacity": 0.8,
            "size": 14,
            "symbol": "square"
           },
           "mode": "markers",
           "name": "9",
           "orientation": "v",
           "showlegend": true,
           "type": "scatter",
           "x": [
            18
           ],
           "xaxis": "x",
           "y": [
            15
           ],
           "yaxis": "y"
          },
          {
           "hovertemplate": "forager=reward<br>time=39<br>x=%{x}<br>y=%{y}<extra></extra>",
           "legendgroup": "reward",
           "marker": {
            "color": "yellow",
            "symbol": "square"
           },
           "mode": "markers",
           "name": "reward",
           "orientation": "v",
           "showlegend": false,
           "type": "scatter",
           "x": [
            3,
            4,
            5,
            6,
            3,
            4,
            5,
            6,
            3,
            4,
            5,
            6,
            3,
            4,
            5,
            6
           ],
           "xaxis": "x",
           "y": [
            23,
            23,
            23,
            23,
            24,
            24,
            24,
            24,
            25,
            25,
            25,
            25,
            26,
            26,
            26,
            26
           ],
           "yaxis": "y"
          }
         ],
         "name": "39"
        },
        {
         "data": [
          {
           "hovertemplate": "forager=1<br>time=40<br>x=%{x}<br>y=%{y}<extra></extra>",
           "legendgroup": "1",
           "marker": {
            "color": "#636efa",
            "line": {
             "width": 3
            },
            "opacity": 0.8,
            "size": 14,
            "symbol": "square"
           },
           "mode": "markers",
           "name": "1",
           "orientation": "v",
           "showlegend": true,
           "type": "scatter",
           "x": [
            14
           ],
           "xaxis": "x",
           "y": [
            25
           ],
           "yaxis": "y"
          },
          {
           "hovertemplate": "forager=2<br>time=40<br>x=%{x}<br>y=%{y}<extra></extra>",
           "legendgroup": "2",
           "marker": {
            "color": "#EF553B",
            "line": {
             "width": 3
            },
            "opacity": 0.8,
            "size": 14,
            "symbol": "square"
           },
           "mode": "markers",
           "name": "2",
           "orientation": "v",
           "showlegend": true,
           "type": "scatter",
           "x": [
            10
           ],
           "xaxis": "x",
           "y": [
            3
           ],
           "yaxis": "y"
          },
          {
           "hovertemplate": "forager=3<br>time=40<br>x=%{x}<br>y=%{y}<extra></extra>",
           "legendgroup": "3",
           "marker": {
            "color": "#00cc96",
            "line": {
             "width": 3
            },
            "opacity": 0.8,
            "size": 14,
            "symbol": "square"
           },
           "mode": "markers",
           "name": "3",
           "orientation": "v",
           "showlegend": true,
           "type": "scatter",
           "x": [
            16
           ],
           "xaxis": "x",
           "y": [
            24
           ],
           "yaxis": "y"
          },
          {
           "hovertemplate": "forager=4<br>time=40<br>x=%{x}<br>y=%{y}<extra></extra>",
           "legendgroup": "4",
           "marker": {
            "color": "#ab63fa",
            "line": {
             "width": 3
            },
            "opacity": 0.8,
            "size": 14,
            "symbol": "square"
           },
           "mode": "markers",
           "name": "4",
           "orientation": "v",
           "showlegend": true,
           "type": "scatter",
           "x": [
            3
           ],
           "xaxis": "x",
           "y": [
            25
           ],
           "yaxis": "y"
          },
          {
           "hovertemplate": "forager=5<br>time=40<br>x=%{x}<br>y=%{y}<extra></extra>",
           "legendgroup": "5",
           "marker": {
            "color": "#FFA15A",
            "line": {
             "width": 3
            },
            "opacity": 0.8,
            "size": 14,
            "symbol": "square"
           },
           "mode": "markers",
           "name": "5",
           "orientation": "v",
           "showlegend": true,
           "type": "scatter",
           "x": [
            15
           ],
           "xaxis": "x",
           "y": [
            17
           ],
           "yaxis": "y"
          },
          {
           "hovertemplate": "forager=6<br>time=40<br>x=%{x}<br>y=%{y}<extra></extra>",
           "legendgroup": "6",
           "marker": {
            "color": "#19d3f3",
            "line": {
             "width": 3
            },
            "opacity": 0.8,
            "size": 14,
            "symbol": "square"
           },
           "mode": "markers",
           "name": "6",
           "orientation": "v",
           "showlegend": true,
           "type": "scatter",
           "x": [
            7
           ],
           "xaxis": "x",
           "y": [
            2
           ],
           "yaxis": "y"
          },
          {
           "hovertemplate": "forager=7<br>time=40<br>x=%{x}<br>y=%{y}<extra></extra>",
           "legendgroup": "7",
           "marker": {
            "color": "#FF6692",
            "line": {
             "width": 3
            },
            "opacity": 0.8,
            "size": 14,
            "symbol": "square"
           },
           "mode": "markers",
           "name": "7",
           "orientation": "v",
           "showlegend": true,
           "type": "scatter",
           "x": [
            22
           ],
           "xaxis": "x",
           "y": [
            19
           ],
           "yaxis": "y"
          },
          {
           "hovertemplate": "forager=8<br>time=40<br>x=%{x}<br>y=%{y}<extra></extra>",
           "legendgroup": "8",
           "marker": {
            "color": "#B6E880",
            "line": {
             "width": 3
            },
            "opacity": 0.8,
            "size": 14,
            "symbol": "square"
           },
           "mode": "markers",
           "name": "8",
           "orientation": "v",
           "showlegend": true,
           "type": "scatter",
           "x": [
            3
           ],
           "xaxis": "x",
           "y": [
            6
           ],
           "yaxis": "y"
          },
          {
           "hovertemplate": "forager=9<br>time=40<br>x=%{x}<br>y=%{y}<extra></extra>",
           "legendgroup": "9",
           "marker": {
            "color": "#FF97FF",
            "line": {
             "width": 3
            },
            "opacity": 0.8,
            "size": 14,
            "symbol": "square"
           },
           "mode": "markers",
           "name": "9",
           "orientation": "v",
           "showlegend": true,
           "type": "scatter",
           "x": [
            18
           ],
           "xaxis": "x",
           "y": [
            16
           ],
           "yaxis": "y"
          },
          {
           "hovertemplate": "forager=reward<br>time=40<br>x=%{x}<br>y=%{y}<extra></extra>",
           "legendgroup": "reward",
           "marker": {
            "color": "yellow",
            "symbol": "square"
           },
           "mode": "markers",
           "name": "reward",
           "orientation": "v",
           "showlegend": false,
           "type": "scatter",
           "x": [
            3,
            4,
            5,
            6,
            3,
            4,
            5,
            6,
            3,
            4,
            5,
            6,
            3,
            4,
            5,
            6
           ],
           "xaxis": "x",
           "y": [
            23,
            23,
            23,
            23,
            24,
            24,
            24,
            24,
            25,
            25,
            25,
            25,
            26,
            26,
            26,
            26
           ],
           "yaxis": "y"
          }
         ],
         "name": "40"
        },
        {
         "data": [
          {
           "hovertemplate": "forager=1<br>time=41<br>x=%{x}<br>y=%{y}<extra></extra>",
           "legendgroup": "1",
           "marker": {
            "color": "#636efa",
            "line": {
             "width": 3
            },
            "opacity": 0.8,
            "size": 14,
            "symbol": "square"
           },
           "mode": "markers",
           "name": "1",
           "orientation": "v",
           "showlegend": true,
           "type": "scatter",
           "x": [
            13
           ],
           "xaxis": "x",
           "y": [
            23
           ],
           "yaxis": "y"
          },
          {
           "hovertemplate": "forager=2<br>time=41<br>x=%{x}<br>y=%{y}<extra></extra>",
           "legendgroup": "2",
           "marker": {
            "color": "#EF553B",
            "line": {
             "width": 3
            },
            "opacity": 0.8,
            "size": 14,
            "symbol": "square"
           },
           "mode": "markers",
           "name": "2",
           "orientation": "v",
           "showlegend": true,
           "type": "scatter",
           "x": [
            7
           ],
           "xaxis": "x",
           "y": [
            3
           ],
           "yaxis": "y"
          },
          {
           "hovertemplate": "forager=3<br>time=41<br>x=%{x}<br>y=%{y}<extra></extra>",
           "legendgroup": "3",
           "marker": {
            "color": "#00cc96",
            "line": {
             "width": 3
            },
            "opacity": 0.8,
            "size": 14,
            "symbol": "square"
           },
           "mode": "markers",
           "name": "3",
           "orientation": "v",
           "showlegend": true,
           "type": "scatter",
           "x": [
            16
           ],
           "xaxis": "x",
           "y": [
            22
           ],
           "yaxis": "y"
          },
          {
           "hovertemplate": "forager=4<br>time=41<br>x=%{x}<br>y=%{y}<extra></extra>",
           "legendgroup": "4",
           "marker": {
            "color": "#ab63fa",
            "line": {
             "width": 3
            },
            "opacity": 0.8,
            "size": 14,
            "symbol": "square"
           },
           "mode": "markers",
           "name": "4",
           "orientation": "v",
           "showlegend": true,
           "type": "scatter",
           "x": [
            5
           ],
           "xaxis": "x",
           "y": [
            26
           ],
           "yaxis": "y"
          },
          {
           "hovertemplate": "forager=5<br>time=41<br>x=%{x}<br>y=%{y}<extra></extra>",
           "legendgroup": "5",
           "marker": {
            "color": "#FFA15A",
            "line": {
             "width": 3
            },
            "opacity": 0.8,
            "size": 14,
            "symbol": "square"
           },
           "mode": "markers",
           "name": "5",
           "orientation": "v",
           "showlegend": true,
           "type": "scatter",
           "x": [
            13
           ],
           "xaxis": "x",
           "y": [
            16
           ],
           "yaxis": "y"
          },
          {
           "hovertemplate": "forager=6<br>time=41<br>x=%{x}<br>y=%{y}<extra></extra>",
           "legendgroup": "6",
           "marker": {
            "color": "#19d3f3",
            "line": {
             "width": 3
            },
            "opacity": 0.8,
            "size": 14,
            "symbol": "square"
           },
           "mode": "markers",
           "name": "6",
           "orientation": "v",
           "showlegend": true,
           "type": "scatter",
           "x": [
            10
           ],
           "xaxis": "x",
           "y": [
            2
           ],
           "yaxis": "y"
          },
          {
           "hovertemplate": "forager=7<br>time=41<br>x=%{x}<br>y=%{y}<extra></extra>",
           "legendgroup": "7",
           "marker": {
            "color": "#FF6692",
            "line": {
             "width": 3
            },
            "opacity": 0.8,
            "size": 14,
            "symbol": "square"
           },
           "mode": "markers",
           "name": "7",
           "orientation": "v",
           "showlegend": true,
           "type": "scatter",
           "x": [
            24
           ],
           "xaxis": "x",
           "y": [
            18
           ],
           "yaxis": "y"
          },
          {
           "hovertemplate": "forager=8<br>time=41<br>x=%{x}<br>y=%{y}<extra></extra>",
           "legendgroup": "8",
           "marker": {
            "color": "#B6E880",
            "line": {
             "width": 3
            },
            "opacity": 0.8,
            "size": 14,
            "symbol": "square"
           },
           "mode": "markers",
           "name": "8",
           "orientation": "v",
           "showlegend": true,
           "type": "scatter",
           "x": [
            4
           ],
           "xaxis": "x",
           "y": [
            8
           ],
           "yaxis": "y"
          },
          {
           "hovertemplate": "forager=9<br>time=41<br>x=%{x}<br>y=%{y}<extra></extra>",
           "legendgroup": "9",
           "marker": {
            "color": "#FF97FF",
            "line": {
             "width": 3
            },
            "opacity": 0.8,
            "size": 14,
            "symbol": "square"
           },
           "mode": "markers",
           "name": "9",
           "orientation": "v",
           "showlegend": true,
           "type": "scatter",
           "x": [
            18
           ],
           "xaxis": "x",
           "y": [
            18
           ],
           "yaxis": "y"
          },
          {
           "hovertemplate": "forager=reward<br>time=41<br>x=%{x}<br>y=%{y}<extra></extra>",
           "legendgroup": "reward",
           "marker": {
            "color": "yellow",
            "symbol": "square"
           },
           "mode": "markers",
           "name": "reward",
           "orientation": "v",
           "showlegend": false,
           "type": "scatter",
           "x": [
            3,
            4,
            5,
            6,
            3,
            4,
            5,
            6,
            3,
            4,
            5,
            6,
            3,
            4,
            5,
            6
           ],
           "xaxis": "x",
           "y": [
            23,
            23,
            23,
            23,
            24,
            24,
            24,
            24,
            25,
            25,
            25,
            25,
            26,
            26,
            26,
            26
           ],
           "yaxis": "y"
          }
         ],
         "name": "41"
        },
        {
         "data": [
          {
           "hovertemplate": "forager=1<br>time=42<br>x=%{x}<br>y=%{y}<extra></extra>",
           "legendgroup": "1",
           "marker": {
            "color": "#636efa",
            "line": {
             "width": 3
            },
            "opacity": 0.8,
            "size": 14,
            "symbol": "square"
           },
           "mode": "markers",
           "name": "1",
           "orientation": "v",
           "showlegend": true,
           "type": "scatter",
           "x": [
            15
           ],
           "xaxis": "x",
           "y": [
            22
           ],
           "yaxis": "y"
          },
          {
           "hovertemplate": "forager=2<br>time=42<br>x=%{x}<br>y=%{y}<extra></extra>",
           "legendgroup": "2",
           "marker": {
            "color": "#EF553B",
            "line": {
             "width": 3
            },
            "opacity": 0.8,
            "size": 14,
            "symbol": "square"
           },
           "mode": "markers",
           "name": "2",
           "orientation": "v",
           "showlegend": true,
           "type": "scatter",
           "x": [
            9
           ],
           "xaxis": "x",
           "y": [
            3
           ],
           "yaxis": "y"
          },
          {
           "hovertemplate": "forager=3<br>time=42<br>x=%{x}<br>y=%{y}<extra></extra>",
           "legendgroup": "3",
           "marker": {
            "color": "#00cc96",
            "line": {
             "width": 3
            },
            "opacity": 0.8,
            "size": 14,
            "symbol": "square"
           },
           "mode": "markers",
           "name": "3",
           "orientation": "v",
           "showlegend": true,
           "type": "scatter",
           "x": [
            18
           ],
           "xaxis": "x",
           "y": [
            20
           ],
           "yaxis": "y"
          },
          {
           "hovertemplate": "forager=4<br>time=42<br>x=%{x}<br>y=%{y}<extra></extra>",
           "legendgroup": "4",
           "marker": {
            "color": "#ab63fa",
            "line": {
             "width": 3
            },
            "opacity": 0.8,
            "size": 14,
            "symbol": "square"
           },
           "mode": "markers",
           "name": "4",
           "orientation": "v",
           "showlegend": true,
           "type": "scatter",
           "x": [
            3
           ],
           "xaxis": "x",
           "y": [
            24
           ],
           "yaxis": "y"
          },
          {
           "hovertemplate": "forager=5<br>time=42<br>x=%{x}<br>y=%{y}<extra></extra>",
           "legendgroup": "5",
           "marker": {
            "color": "#FFA15A",
            "line": {
             "width": 3
            },
            "opacity": 0.8,
            "size": 14,
            "symbol": "square"
           },
           "mode": "markers",
           "name": "5",
           "orientation": "v",
           "showlegend": true,
           "type": "scatter",
           "x": [
            14
           ],
           "xaxis": "x",
           "y": [
            16
           ],
           "yaxis": "y"
          },
          {
           "hovertemplate": "forager=6<br>time=42<br>x=%{x}<br>y=%{y}<extra></extra>",
           "legendgroup": "6",
           "marker": {
            "color": "#19d3f3",
            "line": {
             "width": 3
            },
            "opacity": 0.8,
            "size": 14,
            "symbol": "square"
           },
           "mode": "markers",
           "name": "6",
           "orientation": "v",
           "showlegend": true,
           "type": "scatter",
           "x": [
            10
           ],
           "xaxis": "x",
           "y": [
            2
           ],
           "yaxis": "y"
          },
          {
           "hovertemplate": "forager=7<br>time=42<br>x=%{x}<br>y=%{y}<extra></extra>",
           "legendgroup": "7",
           "marker": {
            "color": "#FF6692",
            "line": {
             "width": 3
            },
            "opacity": 0.8,
            "size": 14,
            "symbol": "square"
           },
           "mode": "markers",
           "name": "7",
           "orientation": "v",
           "showlegend": true,
           "type": "scatter",
           "x": [
            24
           ],
           "xaxis": "x",
           "y": [
            18
           ],
           "yaxis": "y"
          },
          {
           "hovertemplate": "forager=8<br>time=42<br>x=%{x}<br>y=%{y}<extra></extra>",
           "legendgroup": "8",
           "marker": {
            "color": "#B6E880",
            "line": {
             "width": 3
            },
            "opacity": 0.8,
            "size": 14,
            "symbol": "square"
           },
           "mode": "markers",
           "name": "8",
           "orientation": "v",
           "showlegend": true,
           "type": "scatter",
           "x": [
            3
           ],
           "xaxis": "x",
           "y": [
            10
           ],
           "yaxis": "y"
          },
          {
           "hovertemplate": "forager=9<br>time=42<br>x=%{x}<br>y=%{y}<extra></extra>",
           "legendgroup": "9",
           "marker": {
            "color": "#FF97FF",
            "line": {
             "width": 3
            },
            "opacity": 0.8,
            "size": 14,
            "symbol": "square"
           },
           "mode": "markers",
           "name": "9",
           "orientation": "v",
           "showlegend": true,
           "type": "scatter",
           "x": [
            17
           ],
           "xaxis": "x",
           "y": [
            16
           ],
           "yaxis": "y"
          },
          {
           "hovertemplate": "forager=reward<br>time=42<br>x=%{x}<br>y=%{y}<extra></extra>",
           "legendgroup": "reward",
           "marker": {
            "color": "yellow",
            "symbol": "square"
           },
           "mode": "markers",
           "name": "reward",
           "orientation": "v",
           "showlegend": false,
           "type": "scatter",
           "x": [
            3,
            4,
            5,
            6,
            3,
            4,
            5,
            6,
            3,
            4,
            5,
            6,
            3,
            4,
            5,
            6
           ],
           "xaxis": "x",
           "y": [
            23,
            23,
            23,
            23,
            24,
            24,
            24,
            24,
            25,
            25,
            25,
            25,
            26,
            26,
            26,
            26
           ],
           "yaxis": "y"
          }
         ],
         "name": "42"
        },
        {
         "data": [
          {
           "hovertemplate": "forager=1<br>time=43<br>x=%{x}<br>y=%{y}<extra></extra>",
           "legendgroup": "1",
           "marker": {
            "color": "#636efa",
            "line": {
             "width": 3
            },
            "opacity": 0.8,
            "size": 14,
            "symbol": "square"
           },
           "mode": "markers",
           "name": "1",
           "orientation": "v",
           "showlegend": true,
           "type": "scatter",
           "x": [
            17
           ],
           "xaxis": "x",
           "y": [
            22
           ],
           "yaxis": "y"
          },
          {
           "hovertemplate": "forager=2<br>time=43<br>x=%{x}<br>y=%{y}<extra></extra>",
           "legendgroup": "2",
           "marker": {
            "color": "#EF553B",
            "line": {
             "width": 3
            },
            "opacity": 0.8,
            "size": 14,
            "symbol": "square"
           },
           "mode": "markers",
           "name": "2",
           "orientation": "v",
           "showlegend": true,
           "type": "scatter",
           "x": [
            9
           ],
           "xaxis": "x",
           "y": [
            0
           ],
           "yaxis": "y"
          },
          {
           "hovertemplate": "forager=3<br>time=43<br>x=%{x}<br>y=%{y}<extra></extra>",
           "legendgroup": "3",
           "marker": {
            "color": "#00cc96",
            "line": {
             "width": 3
            },
            "opacity": 0.8,
            "size": 14,
            "symbol": "square"
           },
           "mode": "markers",
           "name": "3",
           "orientation": "v",
           "showlegend": true,
           "type": "scatter",
           "x": [
            20
           ],
           "xaxis": "x",
           "y": [
            20
           ],
           "yaxis": "y"
          },
          {
           "hovertemplate": "forager=4<br>time=43<br>x=%{x}<br>y=%{y}<extra></extra>",
           "legendgroup": "4",
           "marker": {
            "color": "#ab63fa",
            "line": {
             "width": 3
            },
            "opacity": 0.8,
            "size": 14,
            "symbol": "square"
           },
           "mode": "markers",
           "name": "4",
           "orientation": "v",
           "showlegend": true,
           "type": "scatter",
           "x": [
            3
           ],
           "xaxis": "x",
           "y": [
            26
           ],
           "yaxis": "y"
          },
          {
           "hovertemplate": "forager=5<br>time=43<br>x=%{x}<br>y=%{y}<extra></extra>",
           "legendgroup": "5",
           "marker": {
            "color": "#FFA15A",
            "line": {
             "width": 3
            },
            "opacity": 0.8,
            "size": 14,
            "symbol": "square"
           },
           "mode": "markers",
           "name": "5",
           "orientation": "v",
           "showlegend": true,
           "type": "scatter",
           "x": [
            12
           ],
           "xaxis": "x",
           "y": [
            17
           ],
           "yaxis": "y"
          },
          {
           "hovertemplate": "forager=6<br>time=43<br>x=%{x}<br>y=%{y}<extra></extra>",
           "legendgroup": "6",
           "marker": {
            "color": "#19d3f3",
            "line": {
             "width": 3
            },
            "opacity": 0.8,
            "size": 14,
            "symbol": "square"
           },
           "mode": "markers",
           "name": "6",
           "orientation": "v",
           "showlegend": true,
           "type": "scatter",
           "x": [
            12
           ],
           "xaxis": "x",
           "y": [
            0
           ],
           "yaxis": "y"
          },
          {
           "hovertemplate": "forager=7<br>time=43<br>x=%{x}<br>y=%{y}<extra></extra>",
           "legendgroup": "7",
           "marker": {
            "color": "#FF6692",
            "line": {
             "width": 3
            },
            "opacity": 0.8,
            "size": 14,
            "symbol": "square"
           },
           "mode": "markers",
           "name": "7",
           "orientation": "v",
           "showlegend": true,
           "type": "scatter",
           "x": [
            22
           ],
           "xaxis": "x",
           "y": [
            19
           ],
           "yaxis": "y"
          },
          {
           "hovertemplate": "forager=8<br>time=43<br>x=%{x}<br>y=%{y}<extra></extra>",
           "legendgroup": "8",
           "marker": {
            "color": "#B6E880",
            "line": {
             "width": 3
            },
            "opacity": 0.8,
            "size": 14,
            "symbol": "square"
           },
           "mode": "markers",
           "name": "8",
           "orientation": "v",
           "showlegend": true,
           "type": "scatter",
           "x": [
            6
           ],
           "xaxis": "x",
           "y": [
            10
           ],
           "yaxis": "y"
          },
          {
           "hovertemplate": "forager=9<br>time=43<br>x=%{x}<br>y=%{y}<extra></extra>",
           "legendgroup": "9",
           "marker": {
            "color": "#FF97FF",
            "line": {
             "width": 3
            },
            "opacity": 0.8,
            "size": 14,
            "symbol": "square"
           },
           "mode": "markers",
           "name": "9",
           "orientation": "v",
           "showlegend": true,
           "type": "scatter",
           "x": [
            17
           ],
           "xaxis": "x",
           "y": [
            16
           ],
           "yaxis": "y"
          },
          {
           "hovertemplate": "forager=reward<br>time=43<br>x=%{x}<br>y=%{y}<extra></extra>",
           "legendgroup": "reward",
           "marker": {
            "color": "yellow",
            "symbol": "square"
           },
           "mode": "markers",
           "name": "reward",
           "orientation": "v",
           "showlegend": false,
           "type": "scatter",
           "x": [
            3,
            4,
            5,
            6,
            3,
            4,
            5,
            6,
            3,
            4,
            5,
            6,
            3,
            4,
            5,
            6
           ],
           "xaxis": "x",
           "y": [
            23,
            23,
            23,
            23,
            24,
            24,
            24,
            24,
            25,
            25,
            25,
            25,
            26,
            26,
            26,
            26
           ],
           "yaxis": "y"
          }
         ],
         "name": "43"
        },
        {
         "data": [
          {
           "hovertemplate": "forager=1<br>time=44<br>x=%{x}<br>y=%{y}<extra></extra>",
           "legendgroup": "1",
           "marker": {
            "color": "#636efa",
            "line": {
             "width": 3
            },
            "opacity": 0.8,
            "size": 14,
            "symbol": "square"
           },
           "mode": "markers",
           "name": "1",
           "orientation": "v",
           "showlegend": true,
           "type": "scatter",
           "x": [
            16
           ],
           "xaxis": "x",
           "y": [
            20
           ],
           "yaxis": "y"
          },
          {
           "hovertemplate": "forager=2<br>time=44<br>x=%{x}<br>y=%{y}<extra></extra>",
           "legendgroup": "2",
           "marker": {
            "color": "#EF553B",
            "line": {
             "width": 3
            },
            "opacity": 0.8,
            "size": 14,
            "symbol": "square"
           },
           "mode": "markers",
           "name": "2",
           "orientation": "v",
           "showlegend": true,
           "type": "scatter",
           "x": [
            9
           ],
           "xaxis": "x",
           "y": [
            0
           ],
           "yaxis": "y"
          },
          {
           "hovertemplate": "forager=3<br>time=44<br>x=%{x}<br>y=%{y}<extra></extra>",
           "legendgroup": "3",
           "marker": {
            "color": "#00cc96",
            "line": {
             "width": 3
            },
            "opacity": 0.8,
            "size": 14,
            "symbol": "square"
           },
           "mode": "markers",
           "name": "3",
           "orientation": "v",
           "showlegend": true,
           "type": "scatter",
           "x": [
            20
           ],
           "xaxis": "x",
           "y": [
            18
           ],
           "yaxis": "y"
          },
          {
           "hovertemplate": "forager=4<br>time=44<br>x=%{x}<br>y=%{y}<extra></extra>",
           "legendgroup": "4",
           "marker": {
            "color": "#ab63fa",
            "line": {
             "width": 3
            },
            "opacity": 0.8,
            "size": 14,
            "symbol": "square"
           },
           "mode": "markers",
           "name": "4",
           "orientation": "v",
           "showlegend": true,
           "type": "scatter",
           "x": [
            4
           ],
           "xaxis": "x",
           "y": [
            25
           ],
           "yaxis": "y"
          },
          {
           "hovertemplate": "forager=5<br>time=44<br>x=%{x}<br>y=%{y}<extra></extra>",
           "legendgroup": "5",
           "marker": {
            "color": "#FFA15A",
            "line": {
             "width": 3
            },
            "opacity": 0.8,
            "size": 14,
            "symbol": "square"
           },
           "mode": "markers",
           "name": "5",
           "orientation": "v",
           "showlegend": true,
           "type": "scatter",
           "x": [
            14
           ],
           "xaxis": "x",
           "y": [
            19
           ],
           "yaxis": "y"
          },
          {
           "hovertemplate": "forager=6<br>time=44<br>x=%{x}<br>y=%{y}<extra></extra>",
           "legendgroup": "6",
           "marker": {
            "color": "#19d3f3",
            "line": {
             "width": 3
            },
            "opacity": 0.8,
            "size": 14,
            "symbol": "square"
           },
           "mode": "markers",
           "name": "6",
           "orientation": "v",
           "showlegend": true,
           "type": "scatter",
           "x": [
            10
           ],
           "xaxis": "x",
           "y": [
            0
           ],
           "yaxis": "y"
          },
          {
           "hovertemplate": "forager=7<br>time=44<br>x=%{x}<br>y=%{y}<extra></extra>",
           "legendgroup": "7",
           "marker": {
            "color": "#FF6692",
            "line": {
             "width": 3
            },
            "opacity": 0.8,
            "size": 14,
            "symbol": "square"
           },
           "mode": "markers",
           "name": "7",
           "orientation": "v",
           "showlegend": true,
           "type": "scatter",
           "x": [
            20
           ],
           "xaxis": "x",
           "y": [
            19
           ],
           "yaxis": "y"
          },
          {
           "hovertemplate": "forager=8<br>time=44<br>x=%{x}<br>y=%{y}<extra></extra>",
           "legendgroup": "8",
           "marker": {
            "color": "#B6E880",
            "line": {
             "width": 3
            },
            "opacity": 0.8,
            "size": 14,
            "symbol": "square"
           },
           "mode": "markers",
           "name": "8",
           "orientation": "v",
           "showlegend": true,
           "type": "scatter",
           "x": [
            4
           ],
           "xaxis": "x",
           "y": [
            10
           ],
           "yaxis": "y"
          },
          {
           "hovertemplate": "forager=9<br>time=44<br>x=%{x}<br>y=%{y}<extra></extra>",
           "legendgroup": "9",
           "marker": {
            "color": "#FF97FF",
            "line": {
             "width": 3
            },
            "opacity": 0.8,
            "size": 14,
            "symbol": "square"
           },
           "mode": "markers",
           "name": "9",
           "orientation": "v",
           "showlegend": true,
           "type": "scatter",
           "x": [
            17
           ],
           "xaxis": "x",
           "y": [
            19
           ],
           "yaxis": "y"
          },
          {
           "hovertemplate": "forager=reward<br>time=44<br>x=%{x}<br>y=%{y}<extra></extra>",
           "legendgroup": "reward",
           "marker": {
            "color": "yellow",
            "symbol": "square"
           },
           "mode": "markers",
           "name": "reward",
           "orientation": "v",
           "showlegend": false,
           "type": "scatter",
           "x": [
            3,
            4,
            5,
            6,
            3,
            4,
            5,
            6,
            3,
            4,
            5,
            6,
            3,
            4,
            5,
            6
           ],
           "xaxis": "x",
           "y": [
            23,
            23,
            23,
            23,
            24,
            24,
            24,
            24,
            25,
            25,
            25,
            25,
            26,
            26,
            26,
            26
           ],
           "yaxis": "y"
          }
         ],
         "name": "44"
        },
        {
         "data": [
          {
           "hovertemplate": "forager=1<br>time=45<br>x=%{x}<br>y=%{y}<extra></extra>",
           "legendgroup": "1",
           "marker": {
            "color": "#636efa",
            "line": {
             "width": 3
            },
            "opacity": 0.8,
            "size": 14,
            "symbol": "square"
           },
           "mode": "markers",
           "name": "1",
           "orientation": "v",
           "showlegend": true,
           "type": "scatter",
           "x": [
            16
           ],
           "xaxis": "x",
           "y": [
            18
           ],
           "yaxis": "y"
          },
          {
           "hovertemplate": "forager=2<br>time=45<br>x=%{x}<br>y=%{y}<extra></extra>",
           "legendgroup": "2",
           "marker": {
            "color": "#EF553B",
            "line": {
             "width": 3
            },
            "opacity": 0.8,
            "size": 14,
            "symbol": "square"
           },
           "mode": "markers",
           "name": "2",
           "orientation": "v",
           "showlegend": true,
           "type": "scatter",
           "x": [
            10
           ],
           "xaxis": "x",
           "y": [
            0
           ],
           "yaxis": "y"
          },
          {
           "hovertemplate": "forager=3<br>time=45<br>x=%{x}<br>y=%{y}<extra></extra>",
           "legendgroup": "3",
           "marker": {
            "color": "#00cc96",
            "line": {
             "width": 3
            },
            "opacity": 0.8,
            "size": 14,
            "symbol": "square"
           },
           "mode": "markers",
           "name": "3",
           "orientation": "v",
           "showlegend": true,
           "type": "scatter",
           "x": [
            17
           ],
           "xaxis": "x",
           "y": [
            18
           ],
           "yaxis": "y"
          },
          {
           "hovertemplate": "forager=4<br>time=45<br>x=%{x}<br>y=%{y}<extra></extra>",
           "legendgroup": "4",
           "marker": {
            "color": "#ab63fa",
            "line": {
             "width": 3
            },
            "opacity": 0.8,
            "size": 14,
            "symbol": "square"
           },
           "mode": "markers",
           "name": "4",
           "orientation": "v",
           "showlegend": true,
           "type": "scatter",
           "x": [
            6
           ],
           "xaxis": "x",
           "y": [
            25
           ],
           "yaxis": "y"
          },
          {
           "hovertemplate": "forager=5<br>time=45<br>x=%{x}<br>y=%{y}<extra></extra>",
           "legendgroup": "5",
           "marker": {
            "color": "#FFA15A",
            "line": {
             "width": 3
            },
            "opacity": 0.8,
            "size": 14,
            "symbol": "square"
           },
           "mode": "markers",
           "name": "5",
           "orientation": "v",
           "showlegend": true,
           "type": "scatter",
           "x": [
            12
           ],
           "xaxis": "x",
           "y": [
            20
           ],
           "yaxis": "y"
          },
          {
           "hovertemplate": "forager=6<br>time=45<br>x=%{x}<br>y=%{y}<extra></extra>",
           "legendgroup": "6",
           "marker": {
            "color": "#19d3f3",
            "line": {
             "width": 3
            },
            "opacity": 0.8,
            "size": 14,
            "symbol": "square"
           },
           "mode": "markers",
           "name": "6",
           "orientation": "v",
           "showlegend": true,
           "type": "scatter",
           "x": [
            12
           ],
           "xaxis": "x",
           "y": [
            2
           ],
           "yaxis": "y"
          },
          {
           "hovertemplate": "forager=7<br>time=45<br>x=%{x}<br>y=%{y}<extra></extra>",
           "legendgroup": "7",
           "marker": {
            "color": "#FF6692",
            "line": {
             "width": 3
            },
            "opacity": 0.8,
            "size": 14,
            "symbol": "square"
           },
           "mode": "markers",
           "name": "7",
           "orientation": "v",
           "showlegend": true,
           "type": "scatter",
           "x": [
            20
           ],
           "xaxis": "x",
           "y": [
            21
           ],
           "yaxis": "y"
          },
          {
           "hovertemplate": "forager=8<br>time=45<br>x=%{x}<br>y=%{y}<extra></extra>",
           "legendgroup": "8",
           "marker": {
            "color": "#B6E880",
            "line": {
             "width": 3
            },
            "opacity": 0.8,
            "size": 14,
            "symbol": "square"
           },
           "mode": "markers",
           "name": "8",
           "orientation": "v",
           "showlegend": true,
           "type": "scatter",
           "x": [
            1
           ],
           "xaxis": "x",
           "y": [
            10
           ],
           "yaxis": "y"
          },
          {
           "hovertemplate": "forager=9<br>time=45<br>x=%{x}<br>y=%{y}<extra></extra>",
           "legendgroup": "9",
           "marker": {
            "color": "#FF97FF",
            "line": {
             "width": 3
            },
            "opacity": 0.8,
            "size": 14,
            "symbol": "square"
           },
           "mode": "markers",
           "name": "9",
           "orientation": "v",
           "showlegend": true,
           "type": "scatter",
           "x": [
            17
           ],
           "xaxis": "x",
           "y": [
            19
           ],
           "yaxis": "y"
          },
          {
           "hovertemplate": "forager=reward<br>time=45<br>x=%{x}<br>y=%{y}<extra></extra>",
           "legendgroup": "reward",
           "marker": {
            "color": "yellow",
            "symbol": "square"
           },
           "mode": "markers",
           "name": "reward",
           "orientation": "v",
           "showlegend": false,
           "type": "scatter",
           "x": [
            3,
            4,
            5,
            6,
            3,
            4,
            5,
            6,
            3,
            4,
            5,
            6,
            3,
            4,
            5,
            6
           ],
           "xaxis": "x",
           "y": [
            23,
            23,
            23,
            23,
            24,
            24,
            24,
            24,
            25,
            25,
            25,
            25,
            26,
            26,
            26,
            26
           ],
           "yaxis": "y"
          }
         ],
         "name": "45"
        },
        {
         "data": [
          {
           "hovertemplate": "forager=1<br>time=46<br>x=%{x}<br>y=%{y}<extra></extra>",
           "legendgroup": "1",
           "marker": {
            "color": "#636efa",
            "line": {
             "width": 3
            },
            "opacity": 0.8,
            "size": 14,
            "symbol": "square"
           },
           "mode": "markers",
           "name": "1",
           "orientation": "v",
           "showlegend": true,
           "type": "scatter",
           "x": [
            18
           ],
           "xaxis": "x",
           "y": [
            16
           ],
           "yaxis": "y"
          },
          {
           "hovertemplate": "forager=2<br>time=46<br>x=%{x}<br>y=%{y}<extra></extra>",
           "legendgroup": "2",
           "marker": {
            "color": "#EF553B",
            "line": {
             "width": 3
            },
            "opacity": 0.8,
            "size": 14,
            "symbol": "square"
           },
           "mode": "markers",
           "name": "2",
           "orientation": "v",
           "showlegend": true,
           "type": "scatter",
           "x": [
            11
           ],
           "xaxis": "x",
           "y": [
            1
           ],
           "yaxis": "y"
          },
          {
           "hovertemplate": "forager=3<br>time=46<br>x=%{x}<br>y=%{y}<extra></extra>",
           "legendgroup": "3",
           "marker": {
            "color": "#00cc96",
            "line": {
             "width": 3
            },
            "opacity": 0.8,
            "size": 14,
            "symbol": "square"
           },
           "mode": "markers",
           "name": "3",
           "orientation": "v",
           "showlegend": true,
           "type": "scatter",
           "x": [
            17
           ],
           "xaxis": "x",
           "y": [
            17
           ],
           "yaxis": "y"
          },
          {
           "hovertemplate": "forager=4<br>time=46<br>x=%{x}<br>y=%{y}<extra></extra>",
           "legendgroup": "4",
           "marker": {
            "color": "#ab63fa",
            "line": {
             "width": 3
            },
            "opacity": 0.8,
            "size": 14,
            "symbol": "square"
           },
           "mode": "markers",
           "name": "4",
           "orientation": "v",
           "showlegend": true,
           "type": "scatter",
           "x": [
            5
           ],
           "xaxis": "x",
           "y": [
            23
           ],
           "yaxis": "y"
          },
          {
           "hovertemplate": "forager=5<br>time=46<br>x=%{x}<br>y=%{y}<extra></extra>",
           "legendgroup": "5",
           "marker": {
            "color": "#FFA15A",
            "line": {
             "width": 3
            },
            "opacity": 0.8,
            "size": 14,
            "symbol": "square"
           },
           "mode": "markers",
           "name": "5",
           "orientation": "v",
           "showlegend": true,
           "type": "scatter",
           "x": [
            11
           ],
           "xaxis": "x",
           "y": [
            21
           ],
           "yaxis": "y"
          },
          {
           "hovertemplate": "forager=6<br>time=46<br>x=%{x}<br>y=%{y}<extra></extra>",
           "legendgroup": "6",
           "marker": {
            "color": "#19d3f3",
            "line": {
             "width": 3
            },
            "opacity": 0.8,
            "size": 14,
            "symbol": "square"
           },
           "mode": "markers",
           "name": "6",
           "orientation": "v",
           "showlegend": true,
           "type": "scatter",
           "x": [
            11
           ],
           "xaxis": "x",
           "y": [
            0
           ],
           "yaxis": "y"
          },
          {
           "hovertemplate": "forager=7<br>time=46<br>x=%{x}<br>y=%{y}<extra></extra>",
           "legendgroup": "7",
           "marker": {
            "color": "#FF6692",
            "line": {
             "width": 3
            },
            "opacity": 0.8,
            "size": 14,
            "symbol": "square"
           },
           "mode": "markers",
           "name": "7",
           "orientation": "v",
           "showlegend": true,
           "type": "scatter",
           "x": [
            18
           ],
           "xaxis": "x",
           "y": [
            20
           ],
           "yaxis": "y"
          },
          {
           "hovertemplate": "forager=8<br>time=46<br>x=%{x}<br>y=%{y}<extra></extra>",
           "legendgroup": "8",
           "marker": {
            "color": "#B6E880",
            "line": {
             "width": 3
            },
            "opacity": 0.8,
            "size": 14,
            "symbol": "square"
           },
           "mode": "markers",
           "name": "8",
           "orientation": "v",
           "showlegend": true,
           "type": "scatter",
           "x": [
            1
           ],
           "xaxis": "x",
           "y": [
            11
           ],
           "yaxis": "y"
          },
          {
           "hovertemplate": "forager=9<br>time=46<br>x=%{x}<br>y=%{y}<extra></extra>",
           "legendgroup": "9",
           "marker": {
            "color": "#FF97FF",
            "line": {
             "width": 3
            },
            "opacity": 0.8,
            "size": 14,
            "symbol": "square"
           },
           "mode": "markers",
           "name": "9",
           "orientation": "v",
           "showlegend": true,
           "type": "scatter",
           "x": [
            17
           ],
           "xaxis": "x",
           "y": [
            19
           ],
           "yaxis": "y"
          },
          {
           "hovertemplate": "forager=reward<br>time=46<br>x=%{x}<br>y=%{y}<extra></extra>",
           "legendgroup": "reward",
           "marker": {
            "color": "yellow",
            "symbol": "square"
           },
           "mode": "markers",
           "name": "reward",
           "orientation": "v",
           "showlegend": false,
           "type": "scatter",
           "x": [
            3,
            4,
            5,
            6,
            3,
            4,
            5,
            6,
            3,
            4,
            5,
            6,
            3,
            4,
            5,
            6
           ],
           "xaxis": "x",
           "y": [
            23,
            23,
            23,
            23,
            24,
            24,
            24,
            24,
            25,
            25,
            25,
            25,
            26,
            26,
            26,
            26
           ],
           "yaxis": "y"
          }
         ],
         "name": "46"
        },
        {
         "data": [
          {
           "hovertemplate": "forager=1<br>time=47<br>x=%{x}<br>y=%{y}<extra></extra>",
           "legendgroup": "1",
           "marker": {
            "color": "#636efa",
            "line": {
             "width": 3
            },
            "opacity": 0.8,
            "size": 14,
            "symbol": "square"
           },
           "mode": "markers",
           "name": "1",
           "orientation": "v",
           "showlegend": true,
           "type": "scatter",
           "x": [
            20
           ],
           "xaxis": "x",
           "y": [
            15
           ],
           "yaxis": "y"
          },
          {
           "hovertemplate": "forager=2<br>time=47<br>x=%{x}<br>y=%{y}<extra></extra>",
           "legendgroup": "2",
           "marker": {
            "color": "#EF553B",
            "line": {
             "width": 3
            },
            "opacity": 0.8,
            "size": 14,
            "symbol": "square"
           },
           "mode": "markers",
           "name": "2",
           "orientation": "v",
           "showlegend": true,
           "type": "scatter",
           "x": [
            12
           ],
           "xaxis": "x",
           "y": [
            3
           ],
           "yaxis": "y"
          },
          {
           "hovertemplate": "forager=3<br>time=47<br>x=%{x}<br>y=%{y}<extra></extra>",
           "legendgroup": "3",
           "marker": {
            "color": "#00cc96",
            "line": {
             "width": 3
            },
            "opacity": 0.8,
            "size": 14,
            "symbol": "square"
           },
           "mode": "markers",
           "name": "3",
           "orientation": "v",
           "showlegend": true,
           "type": "scatter",
           "x": [
            16
           ],
           "xaxis": "x",
           "y": [
            19
           ],
           "yaxis": "y"
          },
          {
           "hovertemplate": "forager=4<br>time=47<br>x=%{x}<br>y=%{y}<extra></extra>",
           "legendgroup": "4",
           "marker": {
            "color": "#ab63fa",
            "line": {
             "width": 3
            },
            "opacity": 0.8,
            "size": 14,
            "symbol": "square"
           },
           "mode": "markers",
           "name": "4",
           "orientation": "v",
           "showlegend": true,
           "type": "scatter",
           "x": [
            6
           ],
           "xaxis": "x",
           "y": [
            24
           ],
           "yaxis": "y"
          },
          {
           "hovertemplate": "forager=5<br>time=47<br>x=%{x}<br>y=%{y}<extra></extra>",
           "legendgroup": "5",
           "marker": {
            "color": "#FFA15A",
            "line": {
             "width": 3
            },
            "opacity": 0.8,
            "size": 14,
            "symbol": "square"
           },
           "mode": "markers",
           "name": "5",
           "orientation": "v",
           "showlegend": true,
           "type": "scatter",
           "x": [
            11
           ],
           "xaxis": "x",
           "y": [
            20
           ],
           "yaxis": "y"
          },
          {
           "hovertemplate": "forager=6<br>time=47<br>x=%{x}<br>y=%{y}<extra></extra>",
           "legendgroup": "6",
           "marker": {
            "color": "#19d3f3",
            "line": {
             "width": 3
            },
            "opacity": 0.8,
            "size": 14,
            "symbol": "square"
           },
           "mode": "markers",
           "name": "6",
           "orientation": "v",
           "showlegend": true,
           "type": "scatter",
           "x": [
            9
           ],
           "xaxis": "x",
           "y": [
            1
           ],
           "yaxis": "y"
          },
          {
           "hovertemplate": "forager=7<br>time=47<br>x=%{x}<br>y=%{y}<extra></extra>",
           "legendgroup": "7",
           "marker": {
            "color": "#FF6692",
            "line": {
             "width": 3
            },
            "opacity": 0.8,
            "size": 14,
            "symbol": "square"
           },
           "mode": "markers",
           "name": "7",
           "orientation": "v",
           "showlegend": true,
           "type": "scatter",
           "x": [
            18
           ],
           "xaxis": "x",
           "y": [
            19
           ],
           "yaxis": "y"
          },
          {
           "hovertemplate": "forager=8<br>time=47<br>x=%{x}<br>y=%{y}<extra></extra>",
           "legendgroup": "8",
           "marker": {
            "color": "#B6E880",
            "line": {
             "width": 3
            },
            "opacity": 0.8,
            "size": 14,
            "symbol": "square"
           },
           "mode": "markers",
           "name": "8",
           "orientation": "v",
           "showlegend": true,
           "type": "scatter",
           "x": [
            0
           ],
           "xaxis": "x",
           "y": [
            13
           ],
           "yaxis": "y"
          },
          {
           "hovertemplate": "forager=9<br>time=47<br>x=%{x}<br>y=%{y}<extra></extra>",
           "legendgroup": "9",
           "marker": {
            "color": "#FF97FF",
            "line": {
             "width": 3
            },
            "opacity": 0.8,
            "size": 14,
            "symbol": "square"
           },
           "mode": "markers",
           "name": "9",
           "orientation": "v",
           "showlegend": true,
           "type": "scatter",
           "x": [
            17
           ],
           "xaxis": "x",
           "y": [
            18
           ],
           "yaxis": "y"
          },
          {
           "hovertemplate": "forager=reward<br>time=47<br>x=%{x}<br>y=%{y}<extra></extra>",
           "legendgroup": "reward",
           "marker": {
            "color": "yellow",
            "symbol": "square"
           },
           "mode": "markers",
           "name": "reward",
           "orientation": "v",
           "showlegend": false,
           "type": "scatter",
           "x": [
            3,
            4,
            5,
            6,
            3,
            4,
            5,
            6,
            3,
            4,
            5,
            6,
            3,
            4,
            5,
            6
           ],
           "xaxis": "x",
           "y": [
            23,
            23,
            23,
            23,
            24,
            24,
            24,
            24,
            25,
            25,
            25,
            25,
            26,
            26,
            26,
            26
           ],
           "yaxis": "y"
          }
         ],
         "name": "47"
        },
        {
         "data": [
          {
           "hovertemplate": "forager=1<br>time=48<br>x=%{x}<br>y=%{y}<extra></extra>",
           "legendgroup": "1",
           "marker": {
            "color": "#636efa",
            "line": {
             "width": 3
            },
            "opacity": 0.8,
            "size": 14,
            "symbol": "square"
           },
           "mode": "markers",
           "name": "1",
           "orientation": "v",
           "showlegend": true,
           "type": "scatter",
           "x": [
            18
           ],
           "xaxis": "x",
           "y": [
            14
           ],
           "yaxis": "y"
          },
          {
           "hovertemplate": "forager=2<br>time=48<br>x=%{x}<br>y=%{y}<extra></extra>",
           "legendgroup": "2",
           "marker": {
            "color": "#EF553B",
            "line": {
             "width": 3
            },
            "opacity": 0.8,
            "size": 14,
            "symbol": "square"
           },
           "mode": "markers",
           "name": "2",
           "orientation": "v",
           "showlegend": true,
           "type": "scatter",
           "x": [
            12
           ],
           "xaxis": "x",
           "y": [
            6
           ],
           "yaxis": "y"
          },
          {
           "hovertemplate": "forager=3<br>time=48<br>x=%{x}<br>y=%{y}<extra></extra>",
           "legendgroup": "3",
           "marker": {
            "color": "#00cc96",
            "line": {
             "width": 3
            },
            "opacity": 0.8,
            "size": 14,
            "symbol": "square"
           },
           "mode": "markers",
           "name": "3",
           "orientation": "v",
           "showlegend": true,
           "type": "scatter",
           "x": [
            16
           ],
           "xaxis": "x",
           "y": [
            20
           ],
           "yaxis": "y"
          },
          {
           "hovertemplate": "forager=4<br>time=48<br>x=%{x}<br>y=%{y}<extra></extra>",
           "legendgroup": "4",
           "marker": {
            "color": "#ab63fa",
            "line": {
             "width": 3
            },
            "opacity": 0.8,
            "size": 14,
            "symbol": "square"
           },
           "mode": "markers",
           "name": "4",
           "orientation": "v",
           "showlegend": true,
           "type": "scatter",
           "x": [
            6
           ],
           "xaxis": "x",
           "y": [
            26
           ],
           "yaxis": "y"
          },
          {
           "hovertemplate": "forager=5<br>time=48<br>x=%{x}<br>y=%{y}<extra></extra>",
           "legendgroup": "5",
           "marker": {
            "color": "#FFA15A",
            "line": {
             "width": 3
            },
            "opacity": 0.8,
            "size": 14,
            "symbol": "square"
           },
           "mode": "markers",
           "name": "5",
           "orientation": "v",
           "showlegend": true,
           "type": "scatter",
           "x": [
            11
           ],
           "xaxis": "x",
           "y": [
            21
           ],
           "yaxis": "y"
          },
          {
           "hovertemplate": "forager=6<br>time=48<br>x=%{x}<br>y=%{y}<extra></extra>",
           "legendgroup": "6",
           "marker": {
            "color": "#19d3f3",
            "line": {
             "width": 3
            },
            "opacity": 0.8,
            "size": 14,
            "symbol": "square"
           },
           "mode": "markers",
           "name": "6",
           "orientation": "v",
           "showlegend": true,
           "type": "scatter",
           "x": [
            9
           ],
           "xaxis": "x",
           "y": [
            0
           ],
           "yaxis": "y"
          },
          {
           "hovertemplate": "forager=7<br>time=48<br>x=%{x}<br>y=%{y}<extra></extra>",
           "legendgroup": "7",
           "marker": {
            "color": "#FF6692",
            "line": {
             "width": 3
            },
            "opacity": 0.8,
            "size": 14,
            "symbol": "square"
           },
           "mode": "markers",
           "name": "7",
           "orientation": "v",
           "showlegend": true,
           "type": "scatter",
           "x": [
            17
           ],
           "xaxis": "x",
           "y": [
            17
           ],
           "yaxis": "y"
          },
          {
           "hovertemplate": "forager=8<br>time=48<br>x=%{x}<br>y=%{y}<extra></extra>",
           "legendgroup": "8",
           "marker": {
            "color": "#B6E880",
            "line": {
             "width": 3
            },
            "opacity": 0.8,
            "size": 14,
            "symbol": "square"
           },
           "mode": "markers",
           "name": "8",
           "orientation": "v",
           "showlegend": true,
           "type": "scatter",
           "x": [
            0
           ],
           "xaxis": "x",
           "y": [
            11
           ],
           "yaxis": "y"
          },
          {
           "hovertemplate": "forager=9<br>time=48<br>x=%{x}<br>y=%{y}<extra></extra>",
           "legendgroup": "9",
           "marker": {
            "color": "#FF97FF",
            "line": {
             "width": 3
            },
            "opacity": 0.8,
            "size": 14,
            "symbol": "square"
           },
           "mode": "markers",
           "name": "9",
           "orientation": "v",
           "showlegend": true,
           "type": "scatter",
           "x": [
            17
           ],
           "xaxis": "x",
           "y": [
            15
           ],
           "yaxis": "y"
          },
          {
           "hovertemplate": "forager=reward<br>time=48<br>x=%{x}<br>y=%{y}<extra></extra>",
           "legendgroup": "reward",
           "marker": {
            "color": "yellow",
            "symbol": "square"
           },
           "mode": "markers",
           "name": "reward",
           "orientation": "v",
           "showlegend": false,
           "type": "scatter",
           "x": [
            3,
            4,
            5,
            6,
            3,
            4,
            5,
            6,
            3,
            4,
            5,
            6,
            3,
            4,
            5,
            6
           ],
           "xaxis": "x",
           "y": [
            23,
            23,
            23,
            23,
            24,
            24,
            24,
            24,
            25,
            25,
            25,
            25,
            26,
            26,
            26,
            26
           ],
           "yaxis": "y"
          }
         ],
         "name": "48"
        },
        {
         "data": [
          {
           "hovertemplate": "forager=1<br>time=49<br>x=%{x}<br>y=%{y}<extra></extra>",
           "legendgroup": "1",
           "marker": {
            "color": "#636efa",
            "line": {
             "width": 3
            },
            "opacity": 0.8,
            "size": 14,
            "symbol": "square"
           },
           "mode": "markers",
           "name": "1",
           "orientation": "v",
           "showlegend": true,
           "type": "scatter",
           "x": [
            17
           ],
           "xaxis": "x",
           "y": [
            12
           ],
           "yaxis": "y"
          },
          {
           "hovertemplate": "forager=2<br>time=49<br>x=%{x}<br>y=%{y}<extra></extra>",
           "legendgroup": "2",
           "marker": {
            "color": "#EF553B",
            "line": {
             "width": 3
            },
            "opacity": 0.8,
            "size": 14,
            "symbol": "square"
           },
           "mode": "markers",
           "name": "2",
           "orientation": "v",
           "showlegend": true,
           "type": "scatter",
           "x": [
            11
           ],
           "xaxis": "x",
           "y": [
            5
           ],
           "yaxis": "y"
          },
          {
           "hovertemplate": "forager=3<br>time=49<br>x=%{x}<br>y=%{y}<extra></extra>",
           "legendgroup": "3",
           "marker": {
            "color": "#00cc96",
            "line": {
             "width": 3
            },
            "opacity": 0.8,
            "size": 14,
            "symbol": "square"
           },
           "mode": "markers",
           "name": "3",
           "orientation": "v",
           "showlegend": true,
           "type": "scatter",
           "x": [
            16
           ],
           "xaxis": "x",
           "y": [
            20
           ],
           "yaxis": "y"
          },
          {
           "hovertemplate": "forager=4<br>time=49<br>x=%{x}<br>y=%{y}<extra></extra>",
           "legendgroup": "4",
           "marker": {
            "color": "#ab63fa",
            "line": {
             "width": 3
            },
            "opacity": 0.8,
            "size": 14,
            "symbol": "square"
           },
           "mode": "markers",
           "name": "4",
           "orientation": "v",
           "showlegend": true,
           "type": "scatter",
           "x": [
            4
           ],
           "xaxis": "x",
           "y": [
            24
           ],
           "yaxis": "y"
          },
          {
           "hovertemplate": "forager=5<br>time=49<br>x=%{x}<br>y=%{y}<extra></extra>",
           "legendgroup": "5",
           "marker": {
            "color": "#FFA15A",
            "line": {
             "width": 3
            },
            "opacity": 0.8,
            "size": 14,
            "symbol": "square"
           },
           "mode": "markers",
           "name": "5",
           "orientation": "v",
           "showlegend": true,
           "type": "scatter",
           "x": [
            11
           ],
           "xaxis": "x",
           "y": [
            19
           ],
           "yaxis": "y"
          },
          {
           "hovertemplate": "forager=6<br>time=49<br>x=%{x}<br>y=%{y}<extra></extra>",
           "legendgroup": "6",
           "marker": {
            "color": "#19d3f3",
            "line": {
             "width": 3
            },
            "opacity": 0.8,
            "size": 14,
            "symbol": "square"
           },
           "mode": "markers",
           "name": "6",
           "orientation": "v",
           "showlegend": true,
           "type": "scatter",
           "x": [
            9
           ],
           "xaxis": "x",
           "y": [
            1
           ],
           "yaxis": "y"
          },
          {
           "hovertemplate": "forager=7<br>time=49<br>x=%{x}<br>y=%{y}<extra></extra>",
           "legendgroup": "7",
           "marker": {
            "color": "#FF6692",
            "line": {
             "width": 3
            },
            "opacity": 0.8,
            "size": 14,
            "symbol": "square"
           },
           "mode": "markers",
           "name": "7",
           "orientation": "v",
           "showlegend": true,
           "type": "scatter",
           "x": [
            18
           ],
           "xaxis": "x",
           "y": [
            15
           ],
           "yaxis": "y"
          },
          {
           "hovertemplate": "forager=8<br>time=49<br>x=%{x}<br>y=%{y}<extra></extra>",
           "legendgroup": "8",
           "marker": {
            "color": "#B6E880",
            "line": {
             "width": 3
            },
            "opacity": 0.8,
            "size": 14,
            "symbol": "square"
           },
           "mode": "markers",
           "name": "8",
           "orientation": "v",
           "showlegend": true,
           "type": "scatter",
           "x": [
            0
           ],
           "xaxis": "x",
           "y": [
            14
           ],
           "yaxis": "y"
          },
          {
           "hovertemplate": "forager=9<br>time=49<br>x=%{x}<br>y=%{y}<extra></extra>",
           "legendgroup": "9",
           "marker": {
            "color": "#FF97FF",
            "line": {
             "width": 3
            },
            "opacity": 0.8,
            "size": 14,
            "symbol": "square"
           },
           "mode": "markers",
           "name": "9",
           "orientation": "v",
           "showlegend": true,
           "type": "scatter",
           "x": [
            18
           ],
           "xaxis": "x",
           "y": [
            17
           ],
           "yaxis": "y"
          },
          {
           "hovertemplate": "forager=reward<br>time=49<br>x=%{x}<br>y=%{y}<extra></extra>",
           "legendgroup": "reward",
           "marker": {
            "color": "yellow",
            "symbol": "square"
           },
           "mode": "markers",
           "name": "reward",
           "orientation": "v",
           "showlegend": false,
           "type": "scatter",
           "x": [
            3,
            4,
            5,
            6,
            3,
            4,
            5,
            6,
            3,
            4,
            5,
            6,
            3,
            4,
            5,
            6
           ],
           "xaxis": "x",
           "y": [
            23,
            23,
            23,
            23,
            24,
            24,
            24,
            24,
            25,
            25,
            25,
            25,
            26,
            26,
            26,
            26
           ],
           "yaxis": "y"
          }
         ],
         "name": "49"
        }
       ],
       "layout": {
        "autosize": false,
        "height": 600,
        "legend": {
         "title": {
          "text": "forager"
         },
         "tracegroupgap": 0
        },
        "margin": {
         "t": 60
        },
        "sliders": [
         {
          "active": 0,
          "currentvalue": {
           "prefix": "time="
          },
          "len": 0.9,
          "pad": {
           "b": 10,
           "t": 60
          },
          "steps": [
           {
            "args": [
             [
              "1"
             ],
             {
              "frame": {
               "duration": 0,
               "redraw": false
              },
              "fromcurrent": true,
              "mode": "immediate",
              "transition": {
               "duration": 0,
               "easing": "linear"
              }
             }
            ],
            "label": "1",
            "method": "animate"
           },
           {
            "args": [
             [
              "2"
             ],
             {
              "frame": {
               "duration": 0,
               "redraw": false
              },
              "fromcurrent": true,
              "mode": "immediate",
              "transition": {
               "duration": 0,
               "easing": "linear"
              }
             }
            ],
            "label": "2",
            "method": "animate"
           },
           {
            "args": [
             [
              "3"
             ],
             {
              "frame": {
               "duration": 0,
               "redraw": false
              },
              "fromcurrent": true,
              "mode": "immediate",
              "transition": {
               "duration": 0,
               "easing": "linear"
              }
             }
            ],
            "label": "3",
            "method": "animate"
           },
           {
            "args": [
             [
              "4"
             ],
             {
              "frame": {
               "duration": 0,
               "redraw": false
              },
              "fromcurrent": true,
              "mode": "immediate",
              "transition": {
               "duration": 0,
               "easing": "linear"
              }
             }
            ],
            "label": "4",
            "method": "animate"
           },
           {
            "args": [
             [
              "5"
             ],
             {
              "frame": {
               "duration": 0,
               "redraw": false
              },
              "fromcurrent": true,
              "mode": "immediate",
              "transition": {
               "duration": 0,
               "easing": "linear"
              }
             }
            ],
            "label": "5",
            "method": "animate"
           },
           {
            "args": [
             [
              "6"
             ],
             {
              "frame": {
               "duration": 0,
               "redraw": false
              },
              "fromcurrent": true,
              "mode": "immediate",
              "transition": {
               "duration": 0,
               "easing": "linear"
              }
             }
            ],
            "label": "6",
            "method": "animate"
           },
           {
            "args": [
             [
              "7"
             ],
             {
              "frame": {
               "duration": 0,
               "redraw": false
              },
              "fromcurrent": true,
              "mode": "immediate",
              "transition": {
               "duration": 0,
               "easing": "linear"
              }
             }
            ],
            "label": "7",
            "method": "animate"
           },
           {
            "args": [
             [
              "8"
             ],
             {
              "frame": {
               "duration": 0,
               "redraw": false
              },
              "fromcurrent": true,
              "mode": "immediate",
              "transition": {
               "duration": 0,
               "easing": "linear"
              }
             }
            ],
            "label": "8",
            "method": "animate"
           },
           {
            "args": [
             [
              "9"
             ],
             {
              "frame": {
               "duration": 0,
               "redraw": false
              },
              "fromcurrent": true,
              "mode": "immediate",
              "transition": {
               "duration": 0,
               "easing": "linear"
              }
             }
            ],
            "label": "9",
            "method": "animate"
           },
           {
            "args": [
             [
              "10"
             ],
             {
              "frame": {
               "duration": 0,
               "redraw": false
              },
              "fromcurrent": true,
              "mode": "immediate",
              "transition": {
               "duration": 0,
               "easing": "linear"
              }
             }
            ],
            "label": "10",
            "method": "animate"
           },
           {
            "args": [
             [
              "11"
             ],
             {
              "frame": {
               "duration": 0,
               "redraw": false
              },
              "fromcurrent": true,
              "mode": "immediate",
              "transition": {
               "duration": 0,
               "easing": "linear"
              }
             }
            ],
            "label": "11",
            "method": "animate"
           },
           {
            "args": [
             [
              "12"
             ],
             {
              "frame": {
               "duration": 0,
               "redraw": false
              },
              "fromcurrent": true,
              "mode": "immediate",
              "transition": {
               "duration": 0,
               "easing": "linear"
              }
             }
            ],
            "label": "12",
            "method": "animate"
           },
           {
            "args": [
             [
              "13"
             ],
             {
              "frame": {
               "duration": 0,
               "redraw": false
              },
              "fromcurrent": true,
              "mode": "immediate",
              "transition": {
               "duration": 0,
               "easing": "linear"
              }
             }
            ],
            "label": "13",
            "method": "animate"
           },
           {
            "args": [
             [
              "14"
             ],
             {
              "frame": {
               "duration": 0,
               "redraw": false
              },
              "fromcurrent": true,
              "mode": "immediate",
              "transition": {
               "duration": 0,
               "easing": "linear"
              }
             }
            ],
            "label": "14",
            "method": "animate"
           },
           {
            "args": [
             [
              "15"
             ],
             {
              "frame": {
               "duration": 0,
               "redraw": false
              },
              "fromcurrent": true,
              "mode": "immediate",
              "transition": {
               "duration": 0,
               "easing": "linear"
              }
             }
            ],
            "label": "15",
            "method": "animate"
           },
           {
            "args": [
             [
              "16"
             ],
             {
              "frame": {
               "duration": 0,
               "redraw": false
              },
              "fromcurrent": true,
              "mode": "immediate",
              "transition": {
               "duration": 0,
               "easing": "linear"
              }
             }
            ],
            "label": "16",
            "method": "animate"
           },
           {
            "args": [
             [
              "17"
             ],
             {
              "frame": {
               "duration": 0,
               "redraw": false
              },
              "fromcurrent": true,
              "mode": "immediate",
              "transition": {
               "duration": 0,
               "easing": "linear"
              }
             }
            ],
            "label": "17",
            "method": "animate"
           },
           {
            "args": [
             [
              "18"
             ],
             {
              "frame": {
               "duration": 0,
               "redraw": false
              },
              "fromcurrent": true,
              "mode": "immediate",
              "transition": {
               "duration": 0,
               "easing": "linear"
              }
             }
            ],
            "label": "18",
            "method": "animate"
           },
           {
            "args": [
             [
              "19"
             ],
             {
              "frame": {
               "duration": 0,
               "redraw": false
              },
              "fromcurrent": true,
              "mode": "immediate",
              "transition": {
               "duration": 0,
               "easing": "linear"
              }
             }
            ],
            "label": "19",
            "method": "animate"
           },
           {
            "args": [
             [
              "20"
             ],
             {
              "frame": {
               "duration": 0,
               "redraw": false
              },
              "fromcurrent": true,
              "mode": "immediate",
              "transition": {
               "duration": 0,
               "easing": "linear"
              }
             }
            ],
            "label": "20",
            "method": "animate"
           },
           {
            "args": [
             [
              "21"
             ],
             {
              "frame": {
               "duration": 0,
               "redraw": false
              },
              "fromcurrent": true,
              "mode": "immediate",
              "transition": {
               "duration": 0,
               "easing": "linear"
              }
             }
            ],
            "label": "21",
            "method": "animate"
           },
           {
            "args": [
             [
              "22"
             ],
             {
              "frame": {
               "duration": 0,
               "redraw": false
              },
              "fromcurrent": true,
              "mode": "immediate",
              "transition": {
               "duration": 0,
               "easing": "linear"
              }
             }
            ],
            "label": "22",
            "method": "animate"
           },
           {
            "args": [
             [
              "23"
             ],
             {
              "frame": {
               "duration": 0,
               "redraw": false
              },
              "fromcurrent": true,
              "mode": "immediate",
              "transition": {
               "duration": 0,
               "easing": "linear"
              }
             }
            ],
            "label": "23",
            "method": "animate"
           },
           {
            "args": [
             [
              "24"
             ],
             {
              "frame": {
               "duration": 0,
               "redraw": false
              },
              "fromcurrent": true,
              "mode": "immediate",
              "transition": {
               "duration": 0,
               "easing": "linear"
              }
             }
            ],
            "label": "24",
            "method": "animate"
           },
           {
            "args": [
             [
              "25"
             ],
             {
              "frame": {
               "duration": 0,
               "redraw": false
              },
              "fromcurrent": true,
              "mode": "immediate",
              "transition": {
               "duration": 0,
               "easing": "linear"
              }
             }
            ],
            "label": "25",
            "method": "animate"
           },
           {
            "args": [
             [
              "26"
             ],
             {
              "frame": {
               "duration": 0,
               "redraw": false
              },
              "fromcurrent": true,
              "mode": "immediate",
              "transition": {
               "duration": 0,
               "easing": "linear"
              }
             }
            ],
            "label": "26",
            "method": "animate"
           },
           {
            "args": [
             [
              "27"
             ],
             {
              "frame": {
               "duration": 0,
               "redraw": false
              },
              "fromcurrent": true,
              "mode": "immediate",
              "transition": {
               "duration": 0,
               "easing": "linear"
              }
             }
            ],
            "label": "27",
            "method": "animate"
           },
           {
            "args": [
             [
              "28"
             ],
             {
              "frame": {
               "duration": 0,
               "redraw": false
              },
              "fromcurrent": true,
              "mode": "immediate",
              "transition": {
               "duration": 0,
               "easing": "linear"
              }
             }
            ],
            "label": "28",
            "method": "animate"
           },
           {
            "args": [
             [
              "29"
             ],
             {
              "frame": {
               "duration": 0,
               "redraw": false
              },
              "fromcurrent": true,
              "mode": "immediate",
              "transition": {
               "duration": 0,
               "easing": "linear"
              }
             }
            ],
            "label": "29",
            "method": "animate"
           },
           {
            "args": [
             [
              "30"
             ],
             {
              "frame": {
               "duration": 0,
               "redraw": false
              },
              "fromcurrent": true,
              "mode": "immediate",
              "transition": {
               "duration": 0,
               "easing": "linear"
              }
             }
            ],
            "label": "30",
            "method": "animate"
           },
           {
            "args": [
             [
              "31"
             ],
             {
              "frame": {
               "duration": 0,
               "redraw": false
              },
              "fromcurrent": true,
              "mode": "immediate",
              "transition": {
               "duration": 0,
               "easing": "linear"
              }
             }
            ],
            "label": "31",
            "method": "animate"
           },
           {
            "args": [
             [
              "32"
             ],
             {
              "frame": {
               "duration": 0,
               "redraw": false
              },
              "fromcurrent": true,
              "mode": "immediate",
              "transition": {
               "duration": 0,
               "easing": "linear"
              }
             }
            ],
            "label": "32",
            "method": "animate"
           },
           {
            "args": [
             [
              "33"
             ],
             {
              "frame": {
               "duration": 0,
               "redraw": false
              },
              "fromcurrent": true,
              "mode": "immediate",
              "transition": {
               "duration": 0,
               "easing": "linear"
              }
             }
            ],
            "label": "33",
            "method": "animate"
           },
           {
            "args": [
             [
              "34"
             ],
             {
              "frame": {
               "duration": 0,
               "redraw": false
              },
              "fromcurrent": true,
              "mode": "immediate",
              "transition": {
               "duration": 0,
               "easing": "linear"
              }
             }
            ],
            "label": "34",
            "method": "animate"
           },
           {
            "args": [
             [
              "35"
             ],
             {
              "frame": {
               "duration": 0,
               "redraw": false
              },
              "fromcurrent": true,
              "mode": "immediate",
              "transition": {
               "duration": 0,
               "easing": "linear"
              }
             }
            ],
            "label": "35",
            "method": "animate"
           },
           {
            "args": [
             [
              "36"
             ],
             {
              "frame": {
               "duration": 0,
               "redraw": false
              },
              "fromcurrent": true,
              "mode": "immediate",
              "transition": {
               "duration": 0,
               "easing": "linear"
              }
             }
            ],
            "label": "36",
            "method": "animate"
           },
           {
            "args": [
             [
              "37"
             ],
             {
              "frame": {
               "duration": 0,
               "redraw": false
              },
              "fromcurrent": true,
              "mode": "immediate",
              "transition": {
               "duration": 0,
               "easing": "linear"
              }
             }
            ],
            "label": "37",
            "method": "animate"
           },
           {
            "args": [
             [
              "38"
             ],
             {
              "frame": {
               "duration": 0,
               "redraw": false
              },
              "fromcurrent": true,
              "mode": "immediate",
              "transition": {
               "duration": 0,
               "easing": "linear"
              }
             }
            ],
            "label": "38",
            "method": "animate"
           },
           {
            "args": [
             [
              "39"
             ],
             {
              "frame": {
               "duration": 0,
               "redraw": false
              },
              "fromcurrent": true,
              "mode": "immediate",
              "transition": {
               "duration": 0,
               "easing": "linear"
              }
             }
            ],
            "label": "39",
            "method": "animate"
           },
           {
            "args": [
             [
              "40"
             ],
             {
              "frame": {
               "duration": 0,
               "redraw": false
              },
              "fromcurrent": true,
              "mode": "immediate",
              "transition": {
               "duration": 0,
               "easing": "linear"
              }
             }
            ],
            "label": "40",
            "method": "animate"
           },
           {
            "args": [
             [
              "41"
             ],
             {
              "frame": {
               "duration": 0,
               "redraw": false
              },
              "fromcurrent": true,
              "mode": "immediate",
              "transition": {
               "duration": 0,
               "easing": "linear"
              }
             }
            ],
            "label": "41",
            "method": "animate"
           },
           {
            "args": [
             [
              "42"
             ],
             {
              "frame": {
               "duration": 0,
               "redraw": false
              },
              "fromcurrent": true,
              "mode": "immediate",
              "transition": {
               "duration": 0,
               "easing": "linear"
              }
             }
            ],
            "label": "42",
            "method": "animate"
           },
           {
            "args": [
             [
              "43"
             ],
             {
              "frame": {
               "duration": 0,
               "redraw": false
              },
              "fromcurrent": true,
              "mode": "immediate",
              "transition": {
               "duration": 0,
               "easing": "linear"
              }
             }
            ],
            "label": "43",
            "method": "animate"
           },
           {
            "args": [
             [
              "44"
             ],
             {
              "frame": {
               "duration": 0,
               "redraw": false
              },
              "fromcurrent": true,
              "mode": "immediate",
              "transition": {
               "duration": 0,
               "easing": "linear"
              }
             }
            ],
            "label": "44",
            "method": "animate"
           },
           {
            "args": [
             [
              "45"
             ],
             {
              "frame": {
               "duration": 0,
               "redraw": false
              },
              "fromcurrent": true,
              "mode": "immediate",
              "transition": {
               "duration": 0,
               "easing": "linear"
              }
             }
            ],
            "label": "45",
            "method": "animate"
           },
           {
            "args": [
             [
              "46"
             ],
             {
              "frame": {
               "duration": 0,
               "redraw": false
              },
              "fromcurrent": true,
              "mode": "immediate",
              "transition": {
               "duration": 0,
               "easing": "linear"
              }
             }
            ],
            "label": "46",
            "method": "animate"
           },
           {
            "args": [
             [
              "47"
             ],
             {
              "frame": {
               "duration": 0,
               "redraw": false
              },
              "fromcurrent": true,
              "mode": "immediate",
              "transition": {
               "duration": 0,
               "easing": "linear"
              }
             }
            ],
            "label": "47",
            "method": "animate"
           },
           {
            "args": [
             [
              "48"
             ],
             {
              "frame": {
               "duration": 0,
               "redraw": false
              },
              "fromcurrent": true,
              "mode": "immediate",
              "transition": {
               "duration": 0,
               "easing": "linear"
              }
             }
            ],
            "label": "48",
            "method": "animate"
           },
           {
            "args": [
             [
              "49"
             ],
             {
              "frame": {
               "duration": 0,
               "redraw": false
              },
              "fromcurrent": true,
              "mode": "immediate",
              "transition": {
               "duration": 0,
               "easing": "linear"
              }
             }
            ],
            "label": "49",
            "method": "animate"
           }
          ],
          "x": 0.1,
          "xanchor": "left",
          "y": 0,
          "yanchor": "top"
         }
        ],
        "template": {
         "data": {
          "pie": [
           {
            "automargin": true,
            "type": "pie"
           }
          ],
          "scatter": [
           {
            "line": {
             "width": 3
            },
            "marker": {
             "size": 9
            },
            "type": "scatter"
           }
          ],
          "scatter3d": [
           {
            "line": {
             "width": 3
            },
            "marker": {
             "size": 9
            },
            "type": "scatter3d"
           }
          ],
          "scattergeo": [
           {
            "line": {
             "width": 3
            },
            "marker": {
             "size": 9
            },
            "type": "scattergeo"
           }
          ],
          "scattergl": [
           {
            "line": {
             "width": 3
            },
            "marker": {
             "size": 9
            },
            "type": "scattergl"
           }
          ],
          "scatterpolar": [
           {
            "line": {
             "width": 3
            },
            "marker": {
             "size": 9
            },
            "type": "scatterpolar"
           }
          ],
          "scatterpolargl": [
           {
            "line": {
             "width": 3
            },
            "marker": {
             "size": 9
            },
            "type": "scatterpolargl"
           }
          ],
          "scatterternary": [
           {
            "line": {
             "width": 3
            },
            "marker": {
             "size": 9
            },
            "type": "scatterternary"
           }
          ],
          "table": [
           {
            "cells": {
             "height": 30
            },
            "header": {
             "height": 36
            },
            "type": "table"
           }
          ]
         },
         "layout": {
          "font": {
           "size": 18
          },
          "xaxis": {
           "title": {
            "standoff": 15
           }
          },
          "yaxis": {
           "title": {
            "standoff": 15
           }
          }
         }
        },
        "updatemenus": [
         {
          "buttons": [
           {
            "args": [
             null,
             {
              "frame": {
               "duration": 500,
               "redraw": false
              },
              "fromcurrent": true,
              "mode": "immediate",
              "transition": {
               "duration": 0,
               "easing": "linear"
              }
             }
            ],
            "label": "&#9654;",
            "method": "animate"
           },
           {
            "args": [
             [
              null
             ],
             {
              "frame": {
               "duration": 0,
               "redraw": false
              },
              "fromcurrent": true,
              "mode": "immediate",
              "transition": {
               "duration": 0,
               "easing": "linear"
              }
             }
            ],
            "label": "&#9724;",
            "method": "animate"
           }
          ],
          "direction": "left",
          "pad": {
           "r": 10,
           "t": 70
          },
          "showactive": false,
          "type": "buttons",
          "x": 0.1,
          "xanchor": "right",
          "y": 0,
          "yanchor": "top"
         }
        ],
        "width": 600,
        "xaxis": {
         "anchor": "y",
         "domain": [
          0,
          1
         ],
         "range": [
          -1,
          29
         ],
         "showgrid": false,
         "showticklabels": false,
         "ticks": "",
         "title": {
          "text": ""
         },
         "zeroline": false
        },
        "yaxis": {
         "anchor": "x",
         "domain": [
          0,
          1
         ],
         "range": [
          -1,
          29
         ],
         "scaleanchor": "x",
         "showgrid": false,
         "showticklabels": false,
         "ticks": "",
         "title": {
          "text": ""
         },
         "zeroline": false
        }
       }
      }
     },
     "metadata": {},
     "output_type": "display_data"
    },
    {
     "name": "stdout",
     "output_type": "stream",
     "text": [
      "Time taken to compile the whole notebook is 7.61 seconds =  0.13 minutes\n"
     ]
    }
   ],
   "source": [
    "# to make sure the results make sense\n",
    "# feel free to animate one of them\n",
    "\n",
    "# load the data from the first simulation\n",
    "sim_folder = \"sim0_run0\"\n",
    "sim_dir = os.path.join(home_dir, sim_folder)\n",
    "foragerlocsDF = pd.read_csv(os.path.join(sim_dir, \"foragerlocsDF.csv\"), index_col=0)\n",
    "rewardlocsDF = pd.read_csv(os.path.join(sim_dir, \"rewardlocsDF.csv\"), index_col=0)\n",
    "\n",
    "# animate\n",
    "communicators = ft.object_from_data(foragerlocsDF, rewardlocsDF)\n",
    "ft.animate_foragers(\n",
    "    communicators, plot_rewards=True, width=600, height=600, point_size=10\n",
    ")\n",
    "\n",
    "notebook_ends = time.time()\n",
    "print(\n",
    "    \"Time taken to compile the whole notebook is\",\n",
    "    round((notebook_ends - notebook_starts), 2),\n",
    "    \"seconds = \",\n",
    "    round((notebook_ends - notebook_starts) / 60, 2),\n",
    "    \"minutes\",\n",
    ")"
   ]
  }
 ],
 "metadata": {
  "kernelspec": {
   "display_name": "Python 3.11.5 ('elm_collab')",
   "language": "python",
   "name": "python3"
  },
  "language_info": {
   "codemirror_mode": {
    "name": "ipython",
    "version": 3
   },
   "file_extension": ".py",
   "mimetype": "text/x-python",
   "name": "python",
   "nbconvert_exporter": "python",
   "pygments_lexer": "ipython3",
   "version": "3.10.13"
  },
  "orig_nbformat": 4,
  "vscode": {
   "interpreter": {
    "hash": "5883c200001963f9c71d117b2067039ffcfe95d2ec18fe3e67d4d08d7043acc0"
   }
  }
 },
 "nbformat": 4,
 "nbformat_minor": 2
}
