{
 "cells": [
  {
   "cell_type": "code",
   "execution_count": 17,
   "metadata": {},
   "outputs": [],
   "source": [
    "import os\n",
    "import time\n",
    "\n",
    "import dill\n",
    "import matplotlib.pyplot as plt\n",
    "import pandas as pd\n",
    "\n",
    "from collab.foraging import central_park_birds as cpb\n",
    "from collab.foraging import toolkit as ft\n",
    "from collab.utils import find_repo_root\n",
    "\n",
    "root = find_repo_root()\n",
    "\n",
    "# the smoke test code is to make sure that the code runs without error\n",
    "# during continuous integration\n",
    "# can be ignored by the reader\n",
    "smoke_test = \"CI\" in os.environ\n",
    "frames = 150 if smoke_test else 300\n",
    "frames_sps = 150 if smoke_test else 2300\n",
    "sampling_rate = 0.001 if smoke_test else 0.01\n",
    "\n",
    "notebook_starts = time.time()"
   ]
  }
 ],
 "metadata": {
  "kernelspec": {
   "display_name": "Python 3",
   "language": "python",
   "name": "python3"
  },
  "language_info": {
   "codemirror_mode": {
    "name": "ipython",
    "version": 3
   },
   "file_extension": ".py",
   "mimetype": "text/x-python",
   "name": "python",
   "nbconvert_exporter": "python",
   "pygments_lexer": "ipython3",
   "version": "3.12.4"
  }
 },
 "nbformat": 4,
 "nbformat_minor": 2
}
