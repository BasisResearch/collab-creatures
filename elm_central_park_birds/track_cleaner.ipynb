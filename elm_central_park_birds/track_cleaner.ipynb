{
 "cells": [
  {
   "cell_type": "code",
   "execution_count": 145,
   "metadata": {},
   "outputs": [
    {
     "data": {
      "text/plain": [
       "<module 'sleap_track_cleaning' from '/Users/emily/code/collaborative-intelligence/elm_central_park_birds/sleap_track_cleaning.py'>"
      ]
     },
     "execution_count": 145,
     "metadata": {},
     "output_type": "execute_result"
    }
   ],
   "source": [
    "import sleap_track_cleaning\n",
    "from importlib import reload\n",
    "\n",
    "reload(sleap_track_cleaning)"
   ]
  },
  {
   "cell_type": "code",
   "execution_count": 146,
   "metadata": {},
   "outputs": [
    {
     "name": "stdout",
     "output_type": "stream",
     "text": [
      "Pre-cleaning, total of 98 tracks\n",
      "removing jumps resulted in 258 tracks\n",
      "interpolated missing points\n",
      "merging in 111 tracks\n",
      "merging in 34 tracks\n",
      "merging in 8 tracks\n",
      "merging in 1 tracks\n",
      "merging in 0 tracks\n",
      "interpolated missing points\n",
      "removing 40 tracks, out of 104\n",
      "smoothed tracks\n",
      "Total of 64 tracks\n",
      "Saved a total of 64 tracks\n",
      "File saved as /Users/emily/data/FLIRcam/ForTracking/use_me/from_colab/20221215122046189_-5_25_bone.avi.000_20221215122046189_-5_25_bone.analysis_cleaned.h5\n",
      "Pre-cleaning, total of 82 tracks\n",
      "removing jumps resulted in 121 tracks\n",
      "interpolated missing points\n",
      "merging in 50 tracks\n",
      "merging in 19 tracks\n",
      "merging in 3 tracks\n",
      "merging in 1 tracks\n",
      "merging in 0 tracks\n",
      "interpolated missing points\n",
      "removing 20 tracks, out of 48\n",
      "smoothed tracks\n",
      "Total of 28 tracks\n",
      "Saved a total of 28 tracks\n",
      "File saved as /Users/emily/data/FLIRcam/ForTracking/use_me/from_colab/20221215121330884_n5_25_bone.avi.000_20221215121330884_n5_25_bone.analysis_cleaned.h5\n",
      "Pre-cleaning, total of 351 tracks\n",
      "removing jumps resulted in 529 tracks\n",
      "interpolated missing points\n",
      "merging in 186 tracks\n",
      "merging in 67 tracks\n",
      "merging in 14 tracks\n",
      "merging in 2 tracks\n",
      "merging in 0 tracks\n",
      "interpolated missing points\n",
      "removing 116 tracks, out of 260\n",
      "smoothed tracks\n",
      "Total of 144 tracks\n",
      "Saved a total of 144 tracks\n",
      "File saved as /Users/emily/data/FLIRcam/ForTracking/use_me/from_colab/20221229124126908_30_bone.avi.000_20221229124126908_30_bone.analysis_cleaned.h5\n",
      "Pre-cleaning, total of 289 tracks\n",
      "removing jumps resulted in 405 tracks\n",
      "interpolated missing points\n",
      "merging in 154 tracks\n",
      "merging in 52 tracks\n",
      "merging in 12 tracks\n",
      "merging in 4 tracks\n",
      "merging in 1 tracks\n",
      "merging in 0 tracks\n",
      "interpolated missing points\n",
      "removing 66 tracks, out of 182\n",
      "smoothed tracks\n",
      "Total of 116 tracks\n",
      "Saved a total of 116 tracks\n",
      "File saved as /Users/emily/data/FLIRcam/ForTracking/use_me/from_colab/20221229124843603_n5_25_bone.avi.000_20221229124843603_n5_25_bone.analysis_cleaned.h5\n",
      "Pre-cleaning, total of 392 tracks\n",
      "removing jumps resulted in 526 tracks\n",
      "interpolated missing points\n",
      "merging in 172 tracks\n",
      "merging in 53 tracks\n",
      "merging in 13 tracks\n",
      "merging in 0 tracks\n",
      "interpolated missing points\n",
      "removing 85 tracks, out of 288\n",
      "smoothed tracks\n",
      "Total of 203 tracks\n",
      "Saved a total of 203 tracks\n",
      "File saved as /Users/emily/data/FLIRcam/ForTracking/use_me/from_colab/20221230095646549_-5_25_bone.avi.000_20221230095646549_-5_25_bone.analysis_cleaned.h5\n",
      "Pre-cleaning, total of 406 tracks\n",
      "removing jumps resulted in 680 tracks\n",
      "interpolated missing points\n",
      "merging in 294 tracks\n",
      "merging in 99 tracks\n",
      "merging in 36 tracks\n",
      "merging in 10 tracks\n",
      "merging in 1 tracks\n",
      "merging in 0 tracks\n",
      "interpolated missing points\n",
      "removing 54 tracks, out of 240\n",
      "smoothed tracks\n",
      "Total of 186 tracks\n",
      "Saved a total of 186 tracks\n",
      "File saved as /Users/emily/data/FLIRcam/ForTracking/use_me/from_colab/20221215123342191_-5_25_bone.avi.000_20221215123342191_-5_25_bone.analysis_cleaned.h5\n"
     ]
    }
   ],
   "source": [
    "folder_from_colab = '/Users/emily/data/FLIRcam/ForTracking/use_me/from_colab'\n",
    "h5_files = [f for f in os.listdir(folder_from_colab) if f.endswith('analysis.h5')]\n",
    "\n",
    "# iterate over .h5 files in folder\n",
    "for file in h5_files:\n",
    "    filename = os.path.join(folder_from_colab,file)\n",
    "    sleap_track_cleaning.generate_cleaned_analysis_file(filename, max_jump = 30, merge_max_distance = 10, merge_max_time = 100, min_length = 10, smooth_win = 9, smooth_poly = 3)"
   ]
  },
  {
   "cell_type": "code",
   "execution_count": 63,
   "metadata": {},
   "outputs": [
    {
     "name": "stdout",
     "output_type": "stream",
     "text": [
      "Dataset: edge_inds (2, 2)\n",
      "Dataset: edge_names (2, 2)\n",
      "Dataset: instance_scores (392, 10407)\n",
      "Dataset: labels_path ()\n",
      "Dataset: node_names (3,)\n",
      "Dataset: point_scores (392, 3, 10407)\n",
      "Dataset: provenance ()\n",
      "Dataset: track_names (392,)\n",
      "Dataset: track_occupancy (10407, 392)\n",
      "Dataset: tracking_scores (392, 10407)\n",
      "Dataset: tracks (392, 2, 3, 10407)\n",
      "Dataset: video_ind ()\n",
      "Dataset: video_path ()\n"
     ]
    },
    {
     "data": {
      "text/plain": [
       "array([[1, 1, 1, ..., 0, 0, 0],\n",
       "       [1, 0, 1, ..., 0, 0, 0],\n",
       "       [1, 1, 1, ..., 0, 0, 0],\n",
       "       ...,\n",
       "       [0, 0, 0, ..., 0, 0, 0],\n",
       "       [0, 0, 0, ..., 0, 0, 0],\n",
       "       [0, 0, 0, ..., 0, 0, 0]], dtype=uint8)"
      ]
     },
     "execution_count": 63,
     "metadata": {},
     "output_type": "execute_result"
    }
   ],
   "source": [
    "import h5py\n",
    "def print_fields_recursive(group, indent=0):\n",
    "    \"\"\"Recursively print datasets and groups in an h5py group.\"\"\"\n",
    "    items = sorted(group.items())\n",
    "    for name, item in items:\n",
    "        if isinstance(item, h5py.Dataset):  # Check if item is a dataset\n",
    "            print(\"  \" * indent + f\"Dataset: {name} {item.shape}\")\n",
    "        elif isinstance(item, h5py.Group):  # Check if item is a group\n",
    "            print(\"  \" * indent + f\"Group: {name}\")\n",
    "            print_fields_recursive(item, indent + 1)\n",
    "\n",
    "# filename = 'path_to_your_file.h5'\n",
    "with h5py.File(filename, 'r') as f:\n",
    "    print_fields_recursive(f)\n",
    "with h5py.File(filename, 'r') as f:\n",
    "    instance_scores = f[\"track_occupancy\"][:]\n"
   ]
  },
  {
   "cell_type": "code",
   "execution_count": null,
   "metadata": {},
   "outputs": [],
   "source": []
  }
 ],
 "metadata": {
  "kernelspec": {
   "display_name": "Python 3.11.5 ('elm_collab')",
   "language": "python",
   "name": "python3"
  },
  "language_info": {
   "codemirror_mode": {
    "name": "ipython",
    "version": 3
   },
   "file_extension": ".py",
   "mimetype": "text/x-python",
   "name": "python",
   "nbconvert_exporter": "python",
   "pygments_lexer": "ipython3",
   "version": "3.11.5"
  },
  "orig_nbformat": 4,
  "vscode": {
   "interpreter": {
    "hash": "5883c200001963f9c71d117b2067039ffcfe95d2ec18fe3e67d4d08d7043acc0"
   }
  }
 },
 "nbformat": 4,
 "nbformat_minor": 2
}
