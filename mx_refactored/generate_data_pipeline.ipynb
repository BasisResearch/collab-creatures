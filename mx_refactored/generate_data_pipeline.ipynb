{
 "cells": [
  {
   "cell_type": "code",
   "execution_count": 8,
   "metadata": {},
   "outputs": [],
   "source": [
    "import numpy as np\n",
    "from itertools import product\n",
    "import pandas as pd\n",
    "import pickle\n",
    "import os\n",
    "import foraging_toolkit as ft\n",
    "import environments\n",
    "import simulation\n",
    "import success_metrics\n",
    "import imp\n",
    "imp.reload(ft)\n",
    "imp.reload(simulation)\n",
    "imp.reload(environments)\n",
    "imp.reload(success_metrics)\n",
    "from pydrive.auth import GoogleAuth\n",
    "from pydrive.drive import GoogleDrive"
   ]
  },
  {
   "cell_type": "markdown",
   "metadata": {},
   "source": [
    "Parameters of the forward model. Specify the parameter values for all the cases you are interested in. "
   ]
  },
  {
   "cell_type": "code",
   "execution_count": 9,
   "metadata": {},
   "outputs": [
    {
     "name": "stdout",
     "output_type": "stream",
     "text": [
      "4\n",
      "param_list [(0.0, 5, 1), (0.0, 5, 4), (0.5, 5, 1), (0.5, 5, 4)]\n"
     ]
    }
   ],
   "source": [
    "#These parameter values correspond to what is used in the CVPR paper, to the best of my knowledge\n",
    "c_trust = np.array([0, 0.5])\n",
    "sight_radius = [5]\n",
    "reward_patch_dim = [1, 4] # clustered is 4, distributed is 1\n",
    "\n",
    "# List of all possible combination of parameter values \n",
    "param_list = [i for i in product(c_trust, sight_radius, reward_patch_dim)]\n",
    "\n",
    "print(len(param_list))\n",
    "print('param_list', param_list)\n",
    "\n",
    "\n"
   ]
  },
  {
   "cell_type": "markdown",
   "metadata": {},
   "source": [
    "Generate a dataframe containing all possible combinations of the parameter values specified above."
   ]
  },
  {
   "cell_type": "code",
   "execution_count": 10,
   "metadata": {},
   "outputs": [
    {
     "data": {
      "text/html": [
       "<div>\n",
       "<style scoped>\n",
       "    .dataframe tbody tr th:only-of-type {\n",
       "        vertical-align: middle;\n",
       "    }\n",
       "\n",
       "    .dataframe tbody tr th {\n",
       "        vertical-align: top;\n",
       "    }\n",
       "\n",
       "    .dataframe thead th {\n",
       "        text-align: right;\n",
       "    }\n",
       "</style>\n",
       "<table border=\"1\" class=\"dataframe\">\n",
       "  <thead>\n",
       "    <tr style=\"text-align: right;\">\n",
       "      <th></th>\n",
       "      <th>c_trust</th>\n",
       "      <th>sight_radius</th>\n",
       "      <th>reward_patch_dim</th>\n",
       "      <th>sim index</th>\n",
       "    </tr>\n",
       "  </thead>\n",
       "  <tbody>\n",
       "    <tr>\n",
       "      <th>0</th>\n",
       "      <td>0.0</td>\n",
       "      <td>5</td>\n",
       "      <td>1</td>\n",
       "      <td>0</td>\n",
       "    </tr>\n",
       "    <tr>\n",
       "      <th>1</th>\n",
       "      <td>0.0</td>\n",
       "      <td>5</td>\n",
       "      <td>4</td>\n",
       "      <td>1</td>\n",
       "    </tr>\n",
       "    <tr>\n",
       "      <th>2</th>\n",
       "      <td>0.5</td>\n",
       "      <td>5</td>\n",
       "      <td>1</td>\n",
       "      <td>2</td>\n",
       "    </tr>\n",
       "    <tr>\n",
       "      <th>3</th>\n",
       "      <td>0.5</td>\n",
       "      <td>5</td>\n",
       "      <td>4</td>\n",
       "      <td>3</td>\n",
       "    </tr>\n",
       "  </tbody>\n",
       "</table>\n",
       "</div>"
      ],
      "text/plain": [
       "   c_trust  sight_radius  reward_patch_dim  sim index\n",
       "0      0.0             5                 1          0\n",
       "1      0.0             5                 4          1\n",
       "2      0.5             5                 1          2\n",
       "3      0.5             5                 4          3"
      ]
     },
     "metadata": {},
     "output_type": "display_data"
    }
   ],
   "source": [
    "#each row of both dataframes corresponds to one experiment.  \n",
    "#columns are parameters \n",
    "metadataDF = pd.DataFrame(param_list)\n",
    "\n",
    "# success_metricsDF = pd.DataFrame(results)\n",
    "# allresultsDF = pd.concat([metadataDF, success_metricsDF], axis='columns') # concatenate metadata and results \n",
    "metadataDF.columns = [\"c_trust\", \"sight_radius\", \"reward_patch_dim\"] \n",
    "metadataDF['sim index'] = np.arange(len(metadataDF)).astype(int)\n",
    "metadataDF.head()\n",
    "display(metadataDF)"
   ]
  },
  {
   "cell_type": "code",
   "execution_count": 11,
   "metadata": {},
   "outputs": [
    {
     "name": "stdout",
     "output_type": "stream",
     "text": [
      "   c_trust  sight_radius  reward_patch_dim  sim index\n",
      "1      0.0             5                 4          1\n",
      "0.0\n",
      "5\n",
      "4\n"
     ]
    }
   ],
   "source": [
    "# select a specific row of the data frame\n",
    "ind = 1\n",
    "row = metadataDF.iloc[[ind]]\n",
    "print(row)\n",
    "print(row['c_trust'].iloc[0])\n",
    "print(row['sight_radius'].iloc[0])\n",
    "print(row['reward_patch_dim'].iloc[0])"
   ]
  },
  {
   "cell_type": "markdown",
   "metadata": {},
   "source": [
    "*Part 2*\n",
    "Test run one of the simulations from metadata (one row)"
   ]
  },
  {
   "cell_type": "code",
   "execution_count": 16,
   "metadata": {},
   "outputs": [
    {
     "ename": "FileNotFoundError",
     "evalue": "[Errno 2] No such file or directory: 'tmp_files/additional_meta_params.sav'",
     "output_type": "error",
     "traceback": [
      "\u001b[0;31m---------------------------------------------------------------------------\u001b[0m",
      "\u001b[0;31mFileNotFoundError\u001b[0m                         Traceback (most recent call last)",
      "Cell \u001b[0;32mIn[16], line 16\u001b[0m\n\u001b[1;32m     12\u001b[0m \u001b[39m# save these extra metatdata parameters into a dictionary \u001b[39;00m\n\u001b[1;32m     13\u001b[0m dictionary \u001b[39m=\u001b[39m {\u001b[39m'\u001b[39m\u001b[39mN_sims\u001b[39m\u001b[39m'\u001b[39m:N_sims, \u001b[39m'\u001b[39m\u001b[39mN_runs\u001b[39m\u001b[39m'\u001b[39m:N_runs, \u001b[39m'\u001b[39m\u001b[39mN_frames\u001b[39m\u001b[39m'\u001b[39m:N_frames, \u001b[39m'\u001b[39m\u001b[39mN_agents\u001b[39m\u001b[39m'\u001b[39m:N_agents, \\\n\u001b[1;32m     14\u001b[0m               \u001b[39m'\u001b[39m\u001b[39mN_total_food_units\u001b[39m\u001b[39m'\u001b[39m:N_total_food_units, \u001b[39m'\u001b[39m\u001b[39medge_size\u001b[39m\u001b[39m'\u001b[39m:edge_size}\n\u001b[0;32m---> 16\u001b[0m pickle\u001b[39m.\u001b[39mdump(dictionary, \u001b[39mopen\u001b[39;49m(home_dir\u001b[39m+\u001b[39;49m \u001b[39m'\u001b[39;49m\u001b[39madditional_meta_params.sav\u001b[39;49m\u001b[39m'\u001b[39;49m, \u001b[39m'\u001b[39;49m\u001b[39mwb\u001b[39;49m\u001b[39m'\u001b[39;49m))\n\u001b[1;32m     18\u001b[0m \u001b[39m# data frame to store all success values across all simulations and runs of each simulation\u001b[39;00m\n\u001b[1;32m     19\u001b[0m success_measures_allDF \u001b[39m=\u001b[39m pd\u001b[39m.\u001b[39mDataFrame() \n",
      "File \u001b[0;32m~/mambaforge/envs/elm_collab/lib/python3.11/site-packages/IPython/core/interactiveshell.py:286\u001b[0m, in \u001b[0;36m_modified_open\u001b[0;34m(file, *args, **kwargs)\u001b[0m\n\u001b[1;32m    279\u001b[0m \u001b[39mif\u001b[39;00m file \u001b[39min\u001b[39;00m {\u001b[39m0\u001b[39m, \u001b[39m1\u001b[39m, \u001b[39m2\u001b[39m}:\n\u001b[1;32m    280\u001b[0m     \u001b[39mraise\u001b[39;00m \u001b[39mValueError\u001b[39;00m(\n\u001b[1;32m    281\u001b[0m         \u001b[39mf\u001b[39m\u001b[39m\"\u001b[39m\u001b[39mIPython won\u001b[39m\u001b[39m'\u001b[39m\u001b[39mt let you open fd=\u001b[39m\u001b[39m{\u001b[39;00mfile\u001b[39m}\u001b[39;00m\u001b[39m by default \u001b[39m\u001b[39m\"\u001b[39m\n\u001b[1;32m    282\u001b[0m         \u001b[39m\"\u001b[39m\u001b[39mas it is likely to crash IPython. If you know what you are doing, \u001b[39m\u001b[39m\"\u001b[39m\n\u001b[1;32m    283\u001b[0m         \u001b[39m\"\u001b[39m\u001b[39myou can use builtins\u001b[39m\u001b[39m'\u001b[39m\u001b[39m open.\u001b[39m\u001b[39m\"\u001b[39m\n\u001b[1;32m    284\u001b[0m     )\n\u001b[0;32m--> 286\u001b[0m \u001b[39mreturn\u001b[39;00m io_open(file, \u001b[39m*\u001b[39;49margs, \u001b[39m*\u001b[39;49m\u001b[39m*\u001b[39;49mkwargs)\n",
      "\u001b[0;31mFileNotFoundError\u001b[0m: [Errno 2] No such file or directory: 'tmp_files/additional_meta_params.sav'"
     ]
    }
   ],
   "source": [
    "# choose a location to save the results data\n",
    "home_dir = \"/Users/emily/code/collaborative-intelligence/tmp_files/\" \n",
    "\n",
    "# parameters to add\n",
    "N_runs = 2 # How many times would you like to run a simulation (row of metadataDF)\n",
    "N_frames = 50\n",
    "N_agents = 9\n",
    "N_total_food_units = 16\n",
    "edge_size = 30\n",
    "N_sims = len(metadataDF)\n",
    "\n",
    "# save these extra metatdata parameters into a dictionary \n",
    "dictionary = {'N_sims':N_sims, 'N_runs':N_runs, 'N_frames':N_frames, 'N_agents':N_agents, \\\n",
    "              'N_total_food_units':N_total_food_units, 'edge_size':edge_size}\n",
    "\n",
    "pickle.dump(dictionary, open(home_dir+ 'additional_meta_params.sav', 'wb'))\n",
    "\n",
    "# data frame to store all success values across all simulations and runs of each simulation\n",
    "success_measures_allDF = pd.DataFrame() \n",
    "success_sims_list = []\n",
    "\n",
    "\n",
    "\n",
    "# save metadata to home directory\n",
    "metadataDF.to_csv(home_dir + '\\metadataDF' + '.csv')\n",
    "\n",
    "for si in range(N_sims):\n",
    "    \n",
    "    # 1. pull out parameters from row si in the metadata\n",
    "    df_row = metadataDF.iloc[[si]]\n",
    "    c_trust = df_row['c_trust'].iloc[0]\n",
    "    sight_radius = df_row['sight_radius'].iloc[0]\n",
    "    reward_patch_dim = df_row['reward_patch_dim'].iloc[0].astype(int)\n",
    "\n",
    "    # print(df_row)\n",
    "    # print(reward_patch_dim)\n",
    "\n",
    "    # arrays to save success measures for each run of this simulation\n",
    "    mean_times_to_first_reward = np.zeros((N_runs))\n",
    "    num_birds_failed = np.zeros((N_runs))\n",
    "\n",
    "    # Do multiple runs of the simulation and store the results in a results dataframe\n",
    "    for ri in range(N_runs):\n",
    "        #  Feed the parameters through the run() function once (later we'll do this many times)\n",
    "        env = environments.Environment(edge_size=edge_size, N_total_food_units=N_total_food_units, patch_dim=reward_patch_dim)\n",
    "        env.add_food_patches() #food_statistics_type=\"drop_food_once\")\n",
    "        sim = simulation.SimulateCommunicators(env, N_frames, N_agents, c_trust=c_trust, sight_radius=sight_radius)\n",
    "        sim.run()\n",
    "        # print(sim.all_birdsDF)\n",
    "        # # print(sim.all_rewardsDF) \n",
    "        # # by this point we should have birdlocsDF and rewardlocsDF \n",
    "        \n",
    "\n",
    "        # Compute success measures \n",
    "        \n",
    "        time_to_first_allbirds = np.zeros(N_agents)\n",
    "        for bird_id in range(1, N_agents + 1): # compute time to first food for each bird \n",
    "            singlebirdDF = sim.all_birdsDF.loc[sim.all_birdsDF['bird'] == bird_id]  \n",
    "            time_to_first_allbirds[bird_id - 1] = success_metrics.compute_time_to_first_reward(singlebirdDF, sim.all_rewardsDF, N_frames)\n",
    "            \n",
    "        # these are the success measures\n",
    "        mean_times_to_first_reward[ri] = np.mean(time_to_first_allbirds) # take the average across birds\n",
    "        num_birds_failed[ri] = np.sum(time_to_first_allbirds == N_frames) # number of birds that failed to reach food\n",
    "        # print(num_birds_failed)\n",
    "        #\n",
    "\n",
    "        # SAVE THE RAW DATA \n",
    "        # make a new folder  \n",
    "        sim_folder = 'sim' + str(si) + '_run' + str(ri)\n",
    "        sim_dir = home_dir + sim_folder\n",
    "        if not os.path.isdir(sim_dir):\n",
    "            os.makedirs(sim_dir)\n",
    "            print(\"Directory %s was created.\" %sim_folder)\n",
    "\n",
    "        birdfile = '\\\\birdlocsDF'\n",
    "        rewardfile = '\\\\rewardlocsDF'\n",
    "        sim.all_birdsDF.to_csv(sim_dir + birdfile + \".csv\")\n",
    "        sim.all_rewardsDF.to_csv(sim_dir + rewardfile + \".csv\")\n",
    "\n",
    "       \n",
    "\n",
    "    #Combine the metadata and the success measures into the results dataframe \n",
    "        # create a new row in the results data frame, then concatenate \n",
    "    success_measures_onesim_DF = pd.DataFrame(\n",
    "        {\n",
    "            \"run index\": np.arange(N_runs),\n",
    "            \"time to first food\": mean_times_to_first_reward,\n",
    "            \"num birds failed\": num_birds_failed,\n",
    "        }\n",
    "    )\n",
    "\n",
    "    success_sims_list.append(success_measures_onesim_DF)\n",
    "\n",
    "success_measures_allDF = pd.concat(success_sims_list)\n",
    "\n",
    "# print(len(success_sims_list))\n",
    "# print(len(mean_times_to_first_reward))\n",
    "# print(len(success_measures_onesim_DF))\n",
    "print(display(success_measures_onesim_DF))\n",
    "print(display(success_measures_allDF))\n",
    "\n",
    "# Concatenate metadataDF and success_measures_allDF into a new dataframe called resultsDF\n",
    "\n",
    "    \n",
    "# Save the results dataframe into the same folder as the metadata\n"
   ]
  },
  {
   "cell_type": "markdown",
   "metadata": {},
   "source": [
    "Concatenate metadataDF and success_measures_allDF into a new dataframe called resultsDF"
   ]
  },
  {
   "cell_type": "code",
   "execution_count": 104,
   "metadata": {},
   "outputs": [
    {
     "data": {
      "text/html": [
       "<div>\n",
       "<style scoped>\n",
       "    .dataframe tbody tr th:only-of-type {\n",
       "        vertical-align: middle;\n",
       "    }\n",
       "\n",
       "    .dataframe tbody tr th {\n",
       "        vertical-align: top;\n",
       "    }\n",
       "\n",
       "    .dataframe thead th {\n",
       "        text-align: right;\n",
       "    }\n",
       "</style>\n",
       "<table border=\"1\" class=\"dataframe\">\n",
       "  <thead>\n",
       "    <tr style=\"text-align: right;\">\n",
       "      <th></th>\n",
       "      <th>c_trust</th>\n",
       "      <th>sight_radius</th>\n",
       "      <th>reward_patch_dim</th>\n",
       "      <th>sim index</th>\n",
       "    </tr>\n",
       "  </thead>\n",
       "  <tbody>\n",
       "    <tr>\n",
       "      <th>0</th>\n",
       "      <td>0.0</td>\n",
       "      <td>5.0</td>\n",
       "      <td>1.0</td>\n",
       "      <td>0.0</td>\n",
       "    </tr>\n",
       "    <tr>\n",
       "      <th>1</th>\n",
       "      <td>0.0</td>\n",
       "      <td>5.0</td>\n",
       "      <td>1.0</td>\n",
       "      <td>0.0</td>\n",
       "    </tr>\n",
       "    <tr>\n",
       "      <th>2</th>\n",
       "      <td>0.0</td>\n",
       "      <td>5.0</td>\n",
       "      <td>4.0</td>\n",
       "      <td>1.0</td>\n",
       "    </tr>\n",
       "    <tr>\n",
       "      <th>3</th>\n",
       "      <td>0.0</td>\n",
       "      <td>5.0</td>\n",
       "      <td>4.0</td>\n",
       "      <td>1.0</td>\n",
       "    </tr>\n",
       "    <tr>\n",
       "      <th>4</th>\n",
       "      <td>0.5</td>\n",
       "      <td>5.0</td>\n",
       "      <td>1.0</td>\n",
       "      <td>2.0</td>\n",
       "    </tr>\n",
       "    <tr>\n",
       "      <th>5</th>\n",
       "      <td>0.5</td>\n",
       "      <td>5.0</td>\n",
       "      <td>1.0</td>\n",
       "      <td>2.0</td>\n",
       "    </tr>\n",
       "    <tr>\n",
       "      <th>6</th>\n",
       "      <td>0.5</td>\n",
       "      <td>5.0</td>\n",
       "      <td>4.0</td>\n",
       "      <td>3.0</td>\n",
       "    </tr>\n",
       "    <tr>\n",
       "      <th>7</th>\n",
       "      <td>0.5</td>\n",
       "      <td>5.0</td>\n",
       "      <td>4.0</td>\n",
       "      <td>3.0</td>\n",
       "    </tr>\n",
       "  </tbody>\n",
       "</table>\n",
       "</div>"
      ],
      "text/plain": [
       "   c_trust  sight_radius  reward_patch_dim  sim index\n",
       "0      0.0           5.0               1.0        0.0\n",
       "1      0.0           5.0               1.0        0.0\n",
       "2      0.0           5.0               4.0        1.0\n",
       "3      0.0           5.0               4.0        1.0\n",
       "4      0.5           5.0               1.0        2.0\n",
       "5      0.5           5.0               1.0        2.0\n",
       "6      0.5           5.0               4.0        3.0\n",
       "7      0.5           5.0               4.0        3.0"
      ]
     },
     "metadata": {},
     "output_type": "display_data"
    }
   ],
   "source": [
    "# First, duplicate each row (sim) of metadataDF by the number of runs\n",
    "newDF = pd.DataFrame(np.repeat(metadataDF.values, N_runs, axis=0))\n",
    "newDF.columns = metadataDF.columns\n",
    "display(newDF)\n"
   ]
  },
  {
   "cell_type": "code",
   "execution_count": 105,
   "metadata": {},
   "outputs": [
    {
     "data": {
      "text/html": [
       "<div>\n",
       "<style scoped>\n",
       "    .dataframe tbody tr th:only-of-type {\n",
       "        vertical-align: middle;\n",
       "    }\n",
       "\n",
       "    .dataframe tbody tr th {\n",
       "        vertical-align: top;\n",
       "    }\n",
       "\n",
       "    .dataframe thead th {\n",
       "        text-align: right;\n",
       "    }\n",
       "</style>\n",
       "<table border=\"1\" class=\"dataframe\">\n",
       "  <thead>\n",
       "    <tr style=\"text-align: right;\">\n",
       "      <th></th>\n",
       "      <th>run index</th>\n",
       "      <th>time to first food</th>\n",
       "      <th>num birds failed</th>\n",
       "    </tr>\n",
       "  </thead>\n",
       "  <tbody>\n",
       "    <tr>\n",
       "      <th>0</th>\n",
       "      <td>0</td>\n",
       "      <td>2.888889</td>\n",
       "      <td>0.0</td>\n",
       "    </tr>\n",
       "    <tr>\n",
       "      <th>1</th>\n",
       "      <td>1</td>\n",
       "      <td>7.000000</td>\n",
       "      <td>1.0</td>\n",
       "    </tr>\n",
       "    <tr>\n",
       "      <th>2</th>\n",
       "      <td>0</td>\n",
       "      <td>33.666667</td>\n",
       "      <td>5.0</td>\n",
       "    </tr>\n",
       "    <tr>\n",
       "      <th>3</th>\n",
       "      <td>1</td>\n",
       "      <td>44.888889</td>\n",
       "      <td>8.0</td>\n",
       "    </tr>\n",
       "    <tr>\n",
       "      <th>4</th>\n",
       "      <td>0</td>\n",
       "      <td>1.666667</td>\n",
       "      <td>0.0</td>\n",
       "    </tr>\n",
       "    <tr>\n",
       "      <th>5</th>\n",
       "      <td>1</td>\n",
       "      <td>7.333333</td>\n",
       "      <td>1.0</td>\n",
       "    </tr>\n",
       "    <tr>\n",
       "      <th>6</th>\n",
       "      <td>0</td>\n",
       "      <td>39.000000</td>\n",
       "      <td>6.0</td>\n",
       "    </tr>\n",
       "    <tr>\n",
       "      <th>7</th>\n",
       "      <td>1</td>\n",
       "      <td>29.444444</td>\n",
       "      <td>4.0</td>\n",
       "    </tr>\n",
       "  </tbody>\n",
       "</table>\n",
       "</div>"
      ],
      "text/plain": [
       "   run index  time to first food  num birds failed\n",
       "0          0            2.888889               0.0\n",
       "1          1            7.000000               1.0\n",
       "2          0           33.666667               5.0\n",
       "3          1           44.888889               8.0\n",
       "4          0            1.666667               0.0\n",
       "5          1            7.333333               1.0\n",
       "6          0           39.000000               6.0\n",
       "7          1           29.444444               4.0"
      ]
     },
     "metadata": {},
     "output_type": "display_data"
    }
   ],
   "source": [
    "# change the indexing of the rows of this dataframe so we can concatenate with metadataDF\n",
    "successDF = success_measures_allDF.reset_index(drop=True)\n",
    "display(successDF)"
   ]
  },
  {
   "cell_type": "code",
   "execution_count": 106,
   "metadata": {},
   "outputs": [
    {
     "data": {
      "text/html": [
       "<div>\n",
       "<style scoped>\n",
       "    .dataframe tbody tr th:only-of-type {\n",
       "        vertical-align: middle;\n",
       "    }\n",
       "\n",
       "    .dataframe tbody tr th {\n",
       "        vertical-align: top;\n",
       "    }\n",
       "\n",
       "    .dataframe thead th {\n",
       "        text-align: right;\n",
       "    }\n",
       "</style>\n",
       "<table border=\"1\" class=\"dataframe\">\n",
       "  <thead>\n",
       "    <tr style=\"text-align: right;\">\n",
       "      <th></th>\n",
       "      <th>c_trust</th>\n",
       "      <th>sight_radius</th>\n",
       "      <th>reward_patch_dim</th>\n",
       "      <th>sim index</th>\n",
       "      <th>run index</th>\n",
       "      <th>time to first food</th>\n",
       "      <th>num birds failed</th>\n",
       "    </tr>\n",
       "  </thead>\n",
       "  <tbody>\n",
       "    <tr>\n",
       "      <th>0</th>\n",
       "      <td>0.0</td>\n",
       "      <td>5.0</td>\n",
       "      <td>1.0</td>\n",
       "      <td>0.0</td>\n",
       "      <td>0</td>\n",
       "      <td>2.888889</td>\n",
       "      <td>0.0</td>\n",
       "    </tr>\n",
       "    <tr>\n",
       "      <th>1</th>\n",
       "      <td>0.0</td>\n",
       "      <td>5.0</td>\n",
       "      <td>1.0</td>\n",
       "      <td>0.0</td>\n",
       "      <td>1</td>\n",
       "      <td>7.000000</td>\n",
       "      <td>1.0</td>\n",
       "    </tr>\n",
       "    <tr>\n",
       "      <th>2</th>\n",
       "      <td>0.0</td>\n",
       "      <td>5.0</td>\n",
       "      <td>4.0</td>\n",
       "      <td>1.0</td>\n",
       "      <td>0</td>\n",
       "      <td>33.666667</td>\n",
       "      <td>5.0</td>\n",
       "    </tr>\n",
       "    <tr>\n",
       "      <th>3</th>\n",
       "      <td>0.0</td>\n",
       "      <td>5.0</td>\n",
       "      <td>4.0</td>\n",
       "      <td>1.0</td>\n",
       "      <td>1</td>\n",
       "      <td>44.888889</td>\n",
       "      <td>8.0</td>\n",
       "    </tr>\n",
       "    <tr>\n",
       "      <th>4</th>\n",
       "      <td>0.5</td>\n",
       "      <td>5.0</td>\n",
       "      <td>1.0</td>\n",
       "      <td>2.0</td>\n",
       "      <td>0</td>\n",
       "      <td>1.666667</td>\n",
       "      <td>0.0</td>\n",
       "    </tr>\n",
       "    <tr>\n",
       "      <th>5</th>\n",
       "      <td>0.5</td>\n",
       "      <td>5.0</td>\n",
       "      <td>1.0</td>\n",
       "      <td>2.0</td>\n",
       "      <td>1</td>\n",
       "      <td>7.333333</td>\n",
       "      <td>1.0</td>\n",
       "    </tr>\n",
       "    <tr>\n",
       "      <th>6</th>\n",
       "      <td>0.5</td>\n",
       "      <td>5.0</td>\n",
       "      <td>4.0</td>\n",
       "      <td>3.0</td>\n",
       "      <td>0</td>\n",
       "      <td>39.000000</td>\n",
       "      <td>6.0</td>\n",
       "    </tr>\n",
       "    <tr>\n",
       "      <th>7</th>\n",
       "      <td>0.5</td>\n",
       "      <td>5.0</td>\n",
       "      <td>4.0</td>\n",
       "      <td>3.0</td>\n",
       "      <td>1</td>\n",
       "      <td>29.444444</td>\n",
       "      <td>4.0</td>\n",
       "    </tr>\n",
       "  </tbody>\n",
       "</table>\n",
       "</div>"
      ],
      "text/plain": [
       "   c_trust  sight_radius  reward_patch_dim  sim index  run index  \\\n",
       "0      0.0           5.0               1.0        0.0          0   \n",
       "1      0.0           5.0               1.0        0.0          1   \n",
       "2      0.0           5.0               4.0        1.0          0   \n",
       "3      0.0           5.0               4.0        1.0          1   \n",
       "4      0.5           5.0               1.0        2.0          0   \n",
       "5      0.5           5.0               1.0        2.0          1   \n",
       "6      0.5           5.0               4.0        3.0          0   \n",
       "7      0.5           5.0               4.0        3.0          1   \n",
       "\n",
       "   time to first food  num birds failed  \n",
       "0            2.888889               0.0  \n",
       "1            7.000000               1.0  \n",
       "2           33.666667               5.0  \n",
       "3           44.888889               8.0  \n",
       "4            1.666667               0.0  \n",
       "5            7.333333               1.0  \n",
       "6           39.000000               6.0  \n",
       "7           29.444444               4.0  "
      ]
     },
     "metadata": {},
     "output_type": "display_data"
    }
   ],
   "source": [
    "# Concatenate metadataDF and successDF\n",
    "allresultsDF = pd.concat([newDF, successDF], axis=1)\n",
    "display(allresultsDF)"
   ]
  },
  {
   "cell_type": "code",
   "execution_count": 107,
   "metadata": {},
   "outputs": [],
   "source": [
    "# save metadata to home directory\n",
    "allresultsDF.to_csv(home_dir + 'resultsDF' + '.csv')"
   ]
  },
  {
   "cell_type": "markdown",
   "metadata": {},
   "source": [
    "Test one of the simulations by animating it."
   ]
  },
  {
   "cell_type": "code",
   "execution_count": 108,
   "metadata": {},
   "outputs": [
    {
     "data": {
      "application/vnd.plotly.v1+json": {
       "config": {
        "plotlyServerURL": "https://plot.ly"
       },
       "data": [
        {
         "hovertemplate": "bird=1<br>time=1<br>x=%{x}<br>y=%{y}<extra></extra>",
         "legendgroup": "1",
         "marker": {
          "color": "#636efa",
          "line": {
           "width": 3
          },
          "opacity": 0.8,
          "size": 14,
          "symbol": "square"
         },
         "mode": "markers",
         "name": "1",
         "orientation": "v",
         "showlegend": true,
         "type": "scatter",
         "x": [
          26
         ],
         "xaxis": "x",
         "y": [
          12
         ],
         "yaxis": "y"
        },
        {
         "hovertemplate": "bird=2<br>time=1<br>x=%{x}<br>y=%{y}<extra></extra>",
         "legendgroup": "2",
         "marker": {
          "color": "#EF553B",
          "line": {
           "width": 3
          },
          "opacity": 0.8,
          "size": 14,
          "symbol": "square"
         },
         "mode": "markers",
         "name": "2",
         "orientation": "v",
         "showlegend": true,
         "type": "scatter",
         "x": [
          25
         ],
         "xaxis": "x",
         "y": [
          7
         ],
         "yaxis": "y"
        },
        {
         "hovertemplate": "bird=3<br>time=1<br>x=%{x}<br>y=%{y}<extra></extra>",
         "legendgroup": "3",
         "marker": {
          "color": "#00cc96",
          "line": {
           "width": 3
          },
          "opacity": 0.8,
          "size": 14,
          "symbol": "square"
         },
         "mode": "markers",
         "name": "3",
         "orientation": "v",
         "showlegend": true,
         "type": "scatter",
         "x": [
          21
         ],
         "xaxis": "x",
         "y": [
          22
         ],
         "yaxis": "y"
        },
        {
         "hovertemplate": "bird=4<br>time=1<br>x=%{x}<br>y=%{y}<extra></extra>",
         "legendgroup": "4",
         "marker": {
          "color": "#ab63fa",
          "line": {
           "width": 3
          },
          "opacity": 0.8,
          "size": 14,
          "symbol": "square"
         },
         "mode": "markers",
         "name": "4",
         "orientation": "v",
         "showlegend": true,
         "type": "scatter",
         "x": [
          2
         ],
         "xaxis": "x",
         "y": [
          17
         ],
         "yaxis": "y"
        },
        {
         "hovertemplate": "bird=5<br>time=1<br>x=%{x}<br>y=%{y}<extra></extra>",
         "legendgroup": "5",
         "marker": {
          "color": "#FFA15A",
          "line": {
           "width": 3
          },
          "opacity": 0.8,
          "size": 14,
          "symbol": "square"
         },
         "mode": "markers",
         "name": "5",
         "orientation": "v",
         "showlegend": true,
         "type": "scatter",
         "x": [
          20
         ],
         "xaxis": "x",
         "y": [
          27
         ],
         "yaxis": "y"
        },
        {
         "hovertemplate": "bird=6<br>time=1<br>x=%{x}<br>y=%{y}<extra></extra>",
         "legendgroup": "6",
         "marker": {
          "color": "#19d3f3",
          "line": {
           "width": 3
          },
          "opacity": 0.8,
          "size": 14,
          "symbol": "square"
         },
         "mode": "markers",
         "name": "6",
         "orientation": "v",
         "showlegend": true,
         "type": "scatter",
         "x": [
          6
         ],
         "xaxis": "x",
         "y": [
          10
         ],
         "yaxis": "y"
        },
        {
         "hovertemplate": "bird=7<br>time=1<br>x=%{x}<br>y=%{y}<extra></extra>",
         "legendgroup": "7",
         "marker": {
          "color": "#FF6692",
          "line": {
           "width": 3
          },
          "opacity": 0.8,
          "size": 14,
          "symbol": "square"
         },
         "mode": "markers",
         "name": "7",
         "orientation": "v",
         "showlegend": true,
         "type": "scatter",
         "x": [
          7
         ],
         "xaxis": "x",
         "y": [
          19
         ],
         "yaxis": "y"
        },
        {
         "hovertemplate": "bird=8<br>time=1<br>x=%{x}<br>y=%{y}<extra></extra>",
         "legendgroup": "8",
         "marker": {
          "color": "#B6E880",
          "line": {
           "width": 3
          },
          "opacity": 0.8,
          "size": 14,
          "symbol": "square"
         },
         "mode": "markers",
         "name": "8",
         "orientation": "v",
         "showlegend": true,
         "type": "scatter",
         "x": [
          15
         ],
         "xaxis": "x",
         "y": [
          14
         ],
         "yaxis": "y"
        },
        {
         "hovertemplate": "bird=9<br>time=1<br>x=%{x}<br>y=%{y}<extra></extra>",
         "legendgroup": "9",
         "marker": {
          "color": "#FF97FF",
          "line": {
           "width": 3
          },
          "opacity": 0.8,
          "size": 14,
          "symbol": "square"
         },
         "mode": "markers",
         "name": "9",
         "orientation": "v",
         "showlegend": true,
         "type": "scatter",
         "x": [
          6
         ],
         "xaxis": "x",
         "y": [
          15
         ],
         "yaxis": "y"
        },
        {
         "hovertemplate": "bird=reward<br>time=1<br>x=%{x}<br>y=%{y}<extra></extra>",
         "legendgroup": "reward",
         "marker": {
          "color": "yellow",
          "symbol": "square"
         },
         "mode": "markers",
         "name": "reward",
         "orientation": "v",
         "showlegend": false,
         "type": "scatter",
         "x": [
          15,
          16,
          17,
          18,
          15,
          16,
          17,
          18,
          15,
          16,
          17,
          18,
          15,
          16,
          17,
          18
         ],
         "xaxis": "x",
         "y": [
          8,
          8,
          8,
          8,
          9,
          9,
          9,
          9,
          10,
          10,
          10,
          10,
          11,
          11,
          11,
          11
         ],
         "yaxis": "y"
        }
       ],
       "frames": [
        {
         "data": [
          {
           "hovertemplate": "bird=1<br>time=1<br>x=%{x}<br>y=%{y}<extra></extra>",
           "legendgroup": "1",
           "marker": {
            "color": "#636efa",
            "line": {
             "width": 3
            },
            "opacity": 0.8,
            "size": 14,
            "symbol": "square"
           },
           "mode": "markers",
           "name": "1",
           "orientation": "v",
           "showlegend": true,
           "type": "scatter",
           "x": [
            26
           ],
           "xaxis": "x",
           "y": [
            12
           ],
           "yaxis": "y"
          },
          {
           "hovertemplate": "bird=2<br>time=1<br>x=%{x}<br>y=%{y}<extra></extra>",
           "legendgroup": "2",
           "marker": {
            "color": "#EF553B",
            "line": {
             "width": 3
            },
            "opacity": 0.8,
            "size": 14,
            "symbol": "square"
           },
           "mode": "markers",
           "name": "2",
           "orientation": "v",
           "showlegend": true,
           "type": "scatter",
           "x": [
            25
           ],
           "xaxis": "x",
           "y": [
            7
           ],
           "yaxis": "y"
          },
          {
           "hovertemplate": "bird=3<br>time=1<br>x=%{x}<br>y=%{y}<extra></extra>",
           "legendgroup": "3",
           "marker": {
            "color": "#00cc96",
            "line": {
             "width": 3
            },
            "opacity": 0.8,
            "size": 14,
            "symbol": "square"
           },
           "mode": "markers",
           "name": "3",
           "orientation": "v",
           "showlegend": true,
           "type": "scatter",
           "x": [
            21
           ],
           "xaxis": "x",
           "y": [
            22
           ],
           "yaxis": "y"
          },
          {
           "hovertemplate": "bird=4<br>time=1<br>x=%{x}<br>y=%{y}<extra></extra>",
           "legendgroup": "4",
           "marker": {
            "color": "#ab63fa",
            "line": {
             "width": 3
            },
            "opacity": 0.8,
            "size": 14,
            "symbol": "square"
           },
           "mode": "markers",
           "name": "4",
           "orientation": "v",
           "showlegend": true,
           "type": "scatter",
           "x": [
            2
           ],
           "xaxis": "x",
           "y": [
            17
           ],
           "yaxis": "y"
          },
          {
           "hovertemplate": "bird=5<br>time=1<br>x=%{x}<br>y=%{y}<extra></extra>",
           "legendgroup": "5",
           "marker": {
            "color": "#FFA15A",
            "line": {
             "width": 3
            },
            "opacity": 0.8,
            "size": 14,
            "symbol": "square"
           },
           "mode": "markers",
           "name": "5",
           "orientation": "v",
           "showlegend": true,
           "type": "scatter",
           "x": [
            20
           ],
           "xaxis": "x",
           "y": [
            27
           ],
           "yaxis": "y"
          },
          {
           "hovertemplate": "bird=6<br>time=1<br>x=%{x}<br>y=%{y}<extra></extra>",
           "legendgroup": "6",
           "marker": {
            "color": "#19d3f3",
            "line": {
             "width": 3
            },
            "opacity": 0.8,
            "size": 14,
            "symbol": "square"
           },
           "mode": "markers",
           "name": "6",
           "orientation": "v",
           "showlegend": true,
           "type": "scatter",
           "x": [
            6
           ],
           "xaxis": "x",
           "y": [
            10
           ],
           "yaxis": "y"
          },
          {
           "hovertemplate": "bird=7<br>time=1<br>x=%{x}<br>y=%{y}<extra></extra>",
           "legendgroup": "7",
           "marker": {
            "color": "#FF6692",
            "line": {
             "width": 3
            },
            "opacity": 0.8,
            "size": 14,
            "symbol": "square"
           },
           "mode": "markers",
           "name": "7",
           "orientation": "v",
           "showlegend": true,
           "type": "scatter",
           "x": [
            7
           ],
           "xaxis": "x",
           "y": [
            19
           ],
           "yaxis": "y"
          },
          {
           "hovertemplate": "bird=8<br>time=1<br>x=%{x}<br>y=%{y}<extra></extra>",
           "legendgroup": "8",
           "marker": {
            "color": "#B6E880",
            "line": {
             "width": 3
            },
            "opacity": 0.8,
            "size": 14,
            "symbol": "square"
           },
           "mode": "markers",
           "name": "8",
           "orientation": "v",
           "showlegend": true,
           "type": "scatter",
           "x": [
            15
           ],
           "xaxis": "x",
           "y": [
            14
           ],
           "yaxis": "y"
          },
          {
           "hovertemplate": "bird=9<br>time=1<br>x=%{x}<br>y=%{y}<extra></extra>",
           "legendgroup": "9",
           "marker": {
            "color": "#FF97FF",
            "line": {
             "width": 3
            },
            "opacity": 0.8,
            "size": 14,
            "symbol": "square"
           },
           "mode": "markers",
           "name": "9",
           "orientation": "v",
           "showlegend": true,
           "type": "scatter",
           "x": [
            6
           ],
           "xaxis": "x",
           "y": [
            15
           ],
           "yaxis": "y"
          },
          {
           "hovertemplate": "bird=reward<br>time=1<br>x=%{x}<br>y=%{y}<extra></extra>",
           "legendgroup": "reward",
           "marker": {
            "color": "yellow",
            "symbol": "square"
           },
           "mode": "markers",
           "name": "reward",
           "orientation": "v",
           "showlegend": false,
           "type": "scatter",
           "x": [
            15,
            16,
            17,
            18,
            15,
            16,
            17,
            18,
            15,
            16,
            17,
            18,
            15,
            16,
            17,
            18
           ],
           "xaxis": "x",
           "y": [
            8,
            8,
            8,
            8,
            9,
            9,
            9,
            9,
            10,
            10,
            10,
            10,
            11,
            11,
            11,
            11
           ],
           "yaxis": "y"
          }
         ],
         "name": "1"
        },
        {
         "data": [
          {
           "hovertemplate": "bird=1<br>time=2<br>x=%{x}<br>y=%{y}<extra></extra>",
           "legendgroup": "1",
           "marker": {
            "color": "#636efa",
            "line": {
             "width": 3
            },
            "opacity": 0.8,
            "size": 14,
            "symbol": "square"
           },
           "mode": "markers",
           "name": "1",
           "orientation": "v",
           "showlegend": true,
           "type": "scatter",
           "x": [
            24
           ],
           "xaxis": "x",
           "y": [
            13
           ],
           "yaxis": "y"
          },
          {
           "hovertemplate": "bird=2<br>time=2<br>x=%{x}<br>y=%{y}<extra></extra>",
           "legendgroup": "2",
           "marker": {
            "color": "#EF553B",
            "line": {
             "width": 3
            },
            "opacity": 0.8,
            "size": 14,
            "symbol": "square"
           },
           "mode": "markers",
           "name": "2",
           "orientation": "v",
           "showlegend": true,
           "type": "scatter",
           "x": [
            27
           ],
           "xaxis": "x",
           "y": [
            9
           ],
           "yaxis": "y"
          },
          {
           "hovertemplate": "bird=3<br>time=2<br>x=%{x}<br>y=%{y}<extra></extra>",
           "legendgroup": "3",
           "marker": {
            "color": "#00cc96",
            "line": {
             "width": 3
            },
            "opacity": 0.8,
            "size": 14,
            "symbol": "square"
           },
           "mode": "markers",
           "name": "3",
           "orientation": "v",
           "showlegend": true,
           "type": "scatter",
           "x": [
            21
           ],
           "xaxis": "x",
           "y": [
            21
           ],
           "yaxis": "y"
          },
          {
           "hovertemplate": "bird=4<br>time=2<br>x=%{x}<br>y=%{y}<extra></extra>",
           "legendgroup": "4",
           "marker": {
            "color": "#ab63fa",
            "line": {
             "width": 3
            },
            "opacity": 0.8,
            "size": 14,
            "symbol": "square"
           },
           "mode": "markers",
           "name": "4",
           "orientation": "v",
           "showlegend": true,
           "type": "scatter",
           "x": [
            1
           ],
           "xaxis": "x",
           "y": [
            16
           ],
           "yaxis": "y"
          },
          {
           "hovertemplate": "bird=5<br>time=2<br>x=%{x}<br>y=%{y}<extra></extra>",
           "legendgroup": "5",
           "marker": {
            "color": "#FFA15A",
            "line": {
             "width": 3
            },
            "opacity": 0.8,
            "size": 14,
            "symbol": "square"
           },
           "mode": "markers",
           "name": "5",
           "orientation": "v",
           "showlegend": true,
           "type": "scatter",
           "x": [
            22
           ],
           "xaxis": "x",
           "y": [
            26
           ],
           "yaxis": "y"
          },
          {
           "hovertemplate": "bird=6<br>time=2<br>x=%{x}<br>y=%{y}<extra></extra>",
           "legendgroup": "6",
           "marker": {
            "color": "#19d3f3",
            "line": {
             "width": 3
            },
            "opacity": 0.8,
            "size": 14,
            "symbol": "square"
           },
           "mode": "markers",
           "name": "6",
           "orientation": "v",
           "showlegend": true,
           "type": "scatter",
           "x": [
            8
           ],
           "xaxis": "x",
           "y": [
            8
           ],
           "yaxis": "y"
          },
          {
           "hovertemplate": "bird=7<br>time=2<br>x=%{x}<br>y=%{y}<extra></extra>",
           "legendgroup": "7",
           "marker": {
            "color": "#FF6692",
            "line": {
             "width": 3
            },
            "opacity": 0.8,
            "size": 14,
            "symbol": "square"
           },
           "mode": "markers",
           "name": "7",
           "orientation": "v",
           "showlegend": true,
           "type": "scatter",
           "x": [
            9
           ],
           "xaxis": "x",
           "y": [
            19
           ],
           "yaxis": "y"
          },
          {
           "hovertemplate": "bird=8<br>time=2<br>x=%{x}<br>y=%{y}<extra></extra>",
           "legendgroup": "8",
           "marker": {
            "color": "#B6E880",
            "line": {
             "width": 3
            },
            "opacity": 0.8,
            "size": 14,
            "symbol": "square"
           },
           "mode": "markers",
           "name": "8",
           "orientation": "v",
           "showlegend": true,
           "type": "scatter",
           "x": [
            15
           ],
           "xaxis": "x",
           "y": [
            11
           ],
           "yaxis": "y"
          },
          {
           "hovertemplate": "bird=9<br>time=2<br>x=%{x}<br>y=%{y}<extra></extra>",
           "legendgroup": "9",
           "marker": {
            "color": "#FF97FF",
            "line": {
             "width": 3
            },
            "opacity": 0.8,
            "size": 14,
            "symbol": "square"
           },
           "mode": "markers",
           "name": "9",
           "orientation": "v",
           "showlegend": true,
           "type": "scatter",
           "x": [
            6
           ],
           "xaxis": "x",
           "y": [
            16
           ],
           "yaxis": "y"
          },
          {
           "hovertemplate": "bird=reward<br>time=2<br>x=%{x}<br>y=%{y}<extra></extra>",
           "legendgroup": "reward",
           "marker": {
            "color": "yellow",
            "symbol": "square"
           },
           "mode": "markers",
           "name": "reward",
           "orientation": "v",
           "showlegend": false,
           "type": "scatter",
           "x": [
            15,
            16,
            17,
            18,
            15,
            16,
            17,
            18,
            15,
            16,
            17,
            18,
            15,
            16,
            17,
            18
           ],
           "xaxis": "x",
           "y": [
            8,
            8,
            8,
            8,
            9,
            9,
            9,
            9,
            10,
            10,
            10,
            10,
            11,
            11,
            11,
            11
           ],
           "yaxis": "y"
          }
         ],
         "name": "2"
        },
        {
         "data": [
          {
           "hovertemplate": "bird=1<br>time=3<br>x=%{x}<br>y=%{y}<extra></extra>",
           "legendgroup": "1",
           "marker": {
            "color": "#636efa",
            "line": {
             "width": 3
            },
            "opacity": 0.8,
            "size": 14,
            "symbol": "square"
           },
           "mode": "markers",
           "name": "1",
           "orientation": "v",
           "showlegend": true,
           "type": "scatter",
           "x": [
            22
           ],
           "xaxis": "x",
           "y": [
            15
           ],
           "yaxis": "y"
          },
          {
           "hovertemplate": "bird=2<br>time=3<br>x=%{x}<br>y=%{y}<extra></extra>",
           "legendgroup": "2",
           "marker": {
            "color": "#EF553B",
            "line": {
             "width": 3
            },
            "opacity": 0.8,
            "size": 14,
            "symbol": "square"
           },
           "mode": "markers",
           "name": "2",
           "orientation": "v",
           "showlegend": true,
           "type": "scatter",
           "x": [
            26
           ],
           "xaxis": "x",
           "y": [
            8
           ],
           "yaxis": "y"
          },
          {
           "hovertemplate": "bird=3<br>time=3<br>x=%{x}<br>y=%{y}<extra></extra>",
           "legendgroup": "3",
           "marker": {
            "color": "#00cc96",
            "line": {
             "width": 3
            },
            "opacity": 0.8,
            "size": 14,
            "symbol": "square"
           },
           "mode": "markers",
           "name": "3",
           "orientation": "v",
           "showlegend": true,
           "type": "scatter",
           "x": [
            22
           ],
           "xaxis": "x",
           "y": [
            19
           ],
           "yaxis": "y"
          },
          {
           "hovertemplate": "bird=4<br>time=3<br>x=%{x}<br>y=%{y}<extra></extra>",
           "legendgroup": "4",
           "marker": {
            "color": "#ab63fa",
            "line": {
             "width": 3
            },
            "opacity": 0.8,
            "size": 14,
            "symbol": "square"
           },
           "mode": "markers",
           "name": "4",
           "orientation": "v",
           "showlegend": true,
           "type": "scatter",
           "x": [
            3
           ],
           "xaxis": "x",
           "y": [
            14
           ],
           "yaxis": "y"
          },
          {
           "hovertemplate": "bird=5<br>time=3<br>x=%{x}<br>y=%{y}<extra></extra>",
           "legendgroup": "5",
           "marker": {
            "color": "#FFA15A",
            "line": {
             "width": 3
            },
            "opacity": 0.8,
            "size": 14,
            "symbol": "square"
           },
           "mode": "markers",
           "name": "5",
           "orientation": "v",
           "showlegend": true,
           "type": "scatter",
           "x": [
            19
           ],
           "xaxis": "x",
           "y": [
            26
           ],
           "yaxis": "y"
          },
          {
           "hovertemplate": "bird=6<br>time=3<br>x=%{x}<br>y=%{y}<extra></extra>",
           "legendgroup": "6",
           "marker": {
            "color": "#19d3f3",
            "line": {
             "width": 3
            },
            "opacity": 0.8,
            "size": 14,
            "symbol": "square"
           },
           "mode": "markers",
           "name": "6",
           "orientation": "v",
           "showlegend": true,
           "type": "scatter",
           "x": [
            10
           ],
           "xaxis": "x",
           "y": [
            7
           ],
           "yaxis": "y"
          },
          {
           "hovertemplate": "bird=7<br>time=3<br>x=%{x}<br>y=%{y}<extra></extra>",
           "legendgroup": "7",
           "marker": {
            "color": "#FF6692",
            "line": {
             "width": 3
            },
            "opacity": 0.8,
            "size": 14,
            "symbol": "square"
           },
           "mode": "markers",
           "name": "7",
           "orientation": "v",
           "showlegend": true,
           "type": "scatter",
           "x": [
            8
           ],
           "xaxis": "x",
           "y": [
            19
           ],
           "yaxis": "y"
          },
          {
           "hovertemplate": "bird=8<br>time=3<br>x=%{x}<br>y=%{y}<extra></extra>",
           "legendgroup": "8",
           "marker": {
            "color": "#B6E880",
            "line": {
             "width": 3
            },
            "opacity": 0.8,
            "size": 14,
            "symbol": "square"
           },
           "mode": "markers",
           "name": "8",
           "orientation": "v",
           "showlegend": true,
           "type": "scatter",
           "x": [
            17
           ],
           "xaxis": "x",
           "y": [
            10
           ],
           "yaxis": "y"
          },
          {
           "hovertemplate": "bird=9<br>time=3<br>x=%{x}<br>y=%{y}<extra></extra>",
           "legendgroup": "9",
           "marker": {
            "color": "#FF97FF",
            "line": {
             "width": 3
            },
            "opacity": 0.8,
            "size": 14,
            "symbol": "square"
           },
           "mode": "markers",
           "name": "9",
           "orientation": "v",
           "showlegend": true,
           "type": "scatter",
           "x": [
            7
           ],
           "xaxis": "x",
           "y": [
            15
           ],
           "yaxis": "y"
          },
          {
           "hovertemplate": "bird=reward<br>time=3<br>x=%{x}<br>y=%{y}<extra></extra>",
           "legendgroup": "reward",
           "marker": {
            "color": "yellow",
            "symbol": "square"
           },
           "mode": "markers",
           "name": "reward",
           "orientation": "v",
           "showlegend": false,
           "type": "scatter",
           "x": [
            15,
            16,
            17,
            18,
            15,
            16,
            17,
            18,
            15,
            16,
            17,
            18,
            15,
            16,
            17,
            18
           ],
           "xaxis": "x",
           "y": [
            8,
            8,
            8,
            8,
            9,
            9,
            9,
            9,
            10,
            10,
            10,
            10,
            11,
            11,
            11,
            11
           ],
           "yaxis": "y"
          }
         ],
         "name": "3"
        },
        {
         "data": [
          {
           "hovertemplate": "bird=1<br>time=4<br>x=%{x}<br>y=%{y}<extra></extra>",
           "legendgroup": "1",
           "marker": {
            "color": "#636efa",
            "line": {
             "width": 3
            },
            "opacity": 0.8,
            "size": 14,
            "symbol": "square"
           },
           "mode": "markers",
           "name": "1",
           "orientation": "v",
           "showlegend": true,
           "type": "scatter",
           "x": [
            24
           ],
           "xaxis": "x",
           "y": [
            14
           ],
           "yaxis": "y"
          },
          {
           "hovertemplate": "bird=2<br>time=4<br>x=%{x}<br>y=%{y}<extra></extra>",
           "legendgroup": "2",
           "marker": {
            "color": "#EF553B",
            "line": {
             "width": 3
            },
            "opacity": 0.8,
            "size": 14,
            "symbol": "square"
           },
           "mode": "markers",
           "name": "2",
           "orientation": "v",
           "showlegend": true,
           "type": "scatter",
           "x": [
            26
           ],
           "xaxis": "x",
           "y": [
            7
           ],
           "yaxis": "y"
          },
          {
           "hovertemplate": "bird=3<br>time=4<br>x=%{x}<br>y=%{y}<extra></extra>",
           "legendgroup": "3",
           "marker": {
            "color": "#00cc96",
            "line": {
             "width": 3
            },
            "opacity": 0.8,
            "size": 14,
            "symbol": "square"
           },
           "mode": "markers",
           "name": "3",
           "orientation": "v",
           "showlegend": true,
           "type": "scatter",
           "x": [
            20
           ],
           "xaxis": "x",
           "y": [
            17
           ],
           "yaxis": "y"
          },
          {
           "hovertemplate": "bird=4<br>time=4<br>x=%{x}<br>y=%{y}<extra></extra>",
           "legendgroup": "4",
           "marker": {
            "color": "#ab63fa",
            "line": {
             "width": 3
            },
            "opacity": 0.8,
            "size": 14,
            "symbol": "square"
           },
           "mode": "markers",
           "name": "4",
           "orientation": "v",
           "showlegend": true,
           "type": "scatter",
           "x": [
            4
           ],
           "xaxis": "x",
           "y": [
            16
           ],
           "yaxis": "y"
          },
          {
           "hovertemplate": "bird=5<br>time=4<br>x=%{x}<br>y=%{y}<extra></extra>",
           "legendgroup": "5",
           "marker": {
            "color": "#FFA15A",
            "line": {
             "width": 3
            },
            "opacity": 0.8,
            "size": 14,
            "symbol": "square"
           },
           "mode": "markers",
           "name": "5",
           "orientation": "v",
           "showlegend": true,
           "type": "scatter",
           "x": [
            19
           ],
           "xaxis": "x",
           "y": [
            29
           ],
           "yaxis": "y"
          },
          {
           "hovertemplate": "bird=6<br>time=4<br>x=%{x}<br>y=%{y}<extra></extra>",
           "legendgroup": "6",
           "marker": {
            "color": "#19d3f3",
            "line": {
             "width": 3
            },
            "opacity": 0.8,
            "size": 14,
            "symbol": "square"
           },
           "mode": "markers",
           "name": "6",
           "orientation": "v",
           "showlegend": true,
           "type": "scatter",
           "x": [
            10
           ],
           "xaxis": "x",
           "y": [
            7
           ],
           "yaxis": "y"
          },
          {
           "hovertemplate": "bird=7<br>time=4<br>x=%{x}<br>y=%{y}<extra></extra>",
           "legendgroup": "7",
           "marker": {
            "color": "#FF6692",
            "line": {
             "width": 3
            },
            "opacity": 0.8,
            "size": 14,
            "symbol": "square"
           },
           "mode": "markers",
           "name": "7",
           "orientation": "v",
           "showlegend": true,
           "type": "scatter",
           "x": [
            7
           ],
           "xaxis": "x",
           "y": [
            20
           ],
           "yaxis": "y"
          },
          {
           "hovertemplate": "bird=8<br>time=4<br>x=%{x}<br>y=%{y}<extra></extra>",
           "legendgroup": "8",
           "marker": {
            "color": "#B6E880",
            "line": {
             "width": 3
            },
            "opacity": 0.8,
            "size": 14,
            "symbol": "square"
           },
           "mode": "markers",
           "name": "8",
           "orientation": "v",
           "showlegend": true,
           "type": "scatter",
           "x": [
            17
           ],
           "xaxis": "x",
           "y": [
            10
           ],
           "yaxis": "y"
          },
          {
           "hovertemplate": "bird=9<br>time=4<br>x=%{x}<br>y=%{y}<extra></extra>",
           "legendgroup": "9",
           "marker": {
            "color": "#FF97FF",
            "line": {
             "width": 3
            },
            "opacity": 0.8,
            "size": 14,
            "symbol": "square"
           },
           "mode": "markers",
           "name": "9",
           "orientation": "v",
           "showlegend": true,
           "type": "scatter",
           "x": [
            6
           ],
           "xaxis": "x",
           "y": [
            16
           ],
           "yaxis": "y"
          },
          {
           "hovertemplate": "bird=reward<br>time=4<br>x=%{x}<br>y=%{y}<extra></extra>",
           "legendgroup": "reward",
           "marker": {
            "color": "yellow",
            "symbol": "square"
           },
           "mode": "markers",
           "name": "reward",
           "orientation": "v",
           "showlegend": false,
           "type": "scatter",
           "x": [
            15,
            16,
            17,
            18,
            15,
            16,
            17,
            18,
            15,
            16,
            17,
            18,
            15,
            16,
            17,
            18
           ],
           "xaxis": "x",
           "y": [
            8,
            8,
            8,
            8,
            9,
            9,
            9,
            9,
            10,
            10,
            10,
            10,
            11,
            11,
            11,
            11
           ],
           "yaxis": "y"
          }
         ],
         "name": "4"
        },
        {
         "data": [
          {
           "hovertemplate": "bird=1<br>time=5<br>x=%{x}<br>y=%{y}<extra></extra>",
           "legendgroup": "1",
           "marker": {
            "color": "#636efa",
            "line": {
             "width": 3
            },
            "opacity": 0.8,
            "size": 14,
            "symbol": "square"
           },
           "mode": "markers",
           "name": "1",
           "orientation": "v",
           "showlegend": true,
           "type": "scatter",
           "x": [
            26
           ],
           "xaxis": "x",
           "y": [
            13
           ],
           "yaxis": "y"
          },
          {
           "hovertemplate": "bird=2<br>time=5<br>x=%{x}<br>y=%{y}<extra></extra>",
           "legendgroup": "2",
           "marker": {
            "color": "#EF553B",
            "line": {
             "width": 3
            },
            "opacity": 0.8,
            "size": 14,
            "symbol": "square"
           },
           "mode": "markers",
           "name": "2",
           "orientation": "v",
           "showlegend": true,
           "type": "scatter",
           "x": [
            27
           ],
           "xaxis": "x",
           "y": [
            6
           ],
           "yaxis": "y"
          },
          {
           "hovertemplate": "bird=3<br>time=5<br>x=%{x}<br>y=%{y}<extra></extra>",
           "legendgroup": "3",
           "marker": {
            "color": "#00cc96",
            "line": {
             "width": 3
            },
            "opacity": 0.8,
            "size": 14,
            "symbol": "square"
           },
           "mode": "markers",
           "name": "3",
           "orientation": "v",
           "showlegend": true,
           "type": "scatter",
           "x": [
            19
           ],
           "xaxis": "x",
           "y": [
            19
           ],
           "yaxis": "y"
          },
          {
           "hovertemplate": "bird=4<br>time=5<br>x=%{x}<br>y=%{y}<extra></extra>",
           "legendgroup": "4",
           "marker": {
            "color": "#ab63fa",
            "line": {
             "width": 3
            },
            "opacity": 0.8,
            "size": 14,
            "symbol": "square"
           },
           "mode": "markers",
           "name": "4",
           "orientation": "v",
           "showlegend": true,
           "type": "scatter",
           "x": [
            6
           ],
           "xaxis": "x",
           "y": [
            16
           ],
           "yaxis": "y"
          },
          {
           "hovertemplate": "bird=5<br>time=5<br>x=%{x}<br>y=%{y}<extra></extra>",
           "legendgroup": "5",
           "marker": {
            "color": "#FFA15A",
            "line": {
             "width": 3
            },
            "opacity": 0.8,
            "size": 14,
            "symbol": "square"
           },
           "mode": "markers",
           "name": "5",
           "orientation": "v",
           "showlegend": true,
           "type": "scatter",
           "x": [
            21
           ],
           "xaxis": "x",
           "y": [
            28
           ],
           "yaxis": "y"
          },
          {
           "hovertemplate": "bird=6<br>time=5<br>x=%{x}<br>y=%{y}<extra></extra>",
           "legendgroup": "6",
           "marker": {
            "color": "#19d3f3",
            "line": {
             "width": 3
            },
            "opacity": 0.8,
            "size": 14,
            "symbol": "square"
           },
           "mode": "markers",
           "name": "6",
           "orientation": "v",
           "showlegend": true,
           "type": "scatter",
           "x": [
            12
           ],
           "xaxis": "x",
           "y": [
            8
           ],
           "yaxis": "y"
          },
          {
           "hovertemplate": "bird=7<br>time=5<br>x=%{x}<br>y=%{y}<extra></extra>",
           "legendgroup": "7",
           "marker": {
            "color": "#FF6692",
            "line": {
             "width": 3
            },
            "opacity": 0.8,
            "size": 14,
            "symbol": "square"
           },
           "mode": "markers",
           "name": "7",
           "orientation": "v",
           "showlegend": true,
           "type": "scatter",
           "x": [
            7
           ],
           "xaxis": "x",
           "y": [
            18
           ],
           "yaxis": "y"
          },
          {
           "hovertemplate": "bird=8<br>time=5<br>x=%{x}<br>y=%{y}<extra></extra>",
           "legendgroup": "8",
           "marker": {
            "color": "#B6E880",
            "line": {
             "width": 3
            },
            "opacity": 0.8,
            "size": 14,
            "symbol": "square"
           },
           "mode": "markers",
           "name": "8",
           "orientation": "v",
           "showlegend": true,
           "type": "scatter",
           "x": [
            16
           ],
           "xaxis": "x",
           "y": [
            10
           ],
           "yaxis": "y"
          },
          {
           "hovertemplate": "bird=9<br>time=5<br>x=%{x}<br>y=%{y}<extra></extra>",
           "legendgroup": "9",
           "marker": {
            "color": "#FF97FF",
            "line": {
             "width": 3
            },
            "opacity": 0.8,
            "size": 14,
            "symbol": "square"
           },
           "mode": "markers",
           "name": "9",
           "orientation": "v",
           "showlegend": true,
           "type": "scatter",
           "x": [
            3
           ],
           "xaxis": "x",
           "y": [
            16
           ],
           "yaxis": "y"
          },
          {
           "hovertemplate": "bird=reward<br>time=5<br>x=%{x}<br>y=%{y}<extra></extra>",
           "legendgroup": "reward",
           "marker": {
            "color": "yellow",
            "symbol": "square"
           },
           "mode": "markers",
           "name": "reward",
           "orientation": "v",
           "showlegend": false,
           "type": "scatter",
           "x": [
            15,
            16,
            17,
            18,
            15,
            16,
            17,
            18,
            15,
            16,
            17,
            18,
            15,
            16,
            17,
            18
           ],
           "xaxis": "x",
           "y": [
            8,
            8,
            8,
            8,
            9,
            9,
            9,
            9,
            10,
            10,
            10,
            10,
            11,
            11,
            11,
            11
           ],
           "yaxis": "y"
          }
         ],
         "name": "5"
        },
        {
         "data": [
          {
           "hovertemplate": "bird=1<br>time=6<br>x=%{x}<br>y=%{y}<extra></extra>",
           "legendgroup": "1",
           "marker": {
            "color": "#636efa",
            "line": {
             "width": 3
            },
            "opacity": 0.8,
            "size": 14,
            "symbol": "square"
           },
           "mode": "markers",
           "name": "1",
           "orientation": "v",
           "showlegend": true,
           "type": "scatter",
           "x": [
            24
           ],
           "xaxis": "x",
           "y": [
            12
           ],
           "yaxis": "y"
          },
          {
           "hovertemplate": "bird=2<br>time=6<br>x=%{x}<br>y=%{y}<extra></extra>",
           "legendgroup": "2",
           "marker": {
            "color": "#EF553B",
            "line": {
             "width": 3
            },
            "opacity": 0.8,
            "size": 14,
            "symbol": "square"
           },
           "mode": "markers",
           "name": "2",
           "orientation": "v",
           "showlegend": true,
           "type": "scatter",
           "x": [
            27
           ],
           "xaxis": "x",
           "y": [
            4
           ],
           "yaxis": "y"
          },
          {
           "hovertemplate": "bird=3<br>time=6<br>x=%{x}<br>y=%{y}<extra></extra>",
           "legendgroup": "3",
           "marker": {
            "color": "#00cc96",
            "line": {
             "width": 3
            },
            "opacity": 0.8,
            "size": 14,
            "symbol": "square"
           },
           "mode": "markers",
           "name": "3",
           "orientation": "v",
           "showlegend": true,
           "type": "scatter",
           "x": [
            21
           ],
           "xaxis": "x",
           "y": [
            17
           ],
           "yaxis": "y"
          },
          {
           "hovertemplate": "bird=4<br>time=6<br>x=%{x}<br>y=%{y}<extra></extra>",
           "legendgroup": "4",
           "marker": {
            "color": "#ab63fa",
            "line": {
             "width": 3
            },
            "opacity": 0.8,
            "size": 14,
            "symbol": "square"
           },
           "mode": "markers",
           "name": "4",
           "orientation": "v",
           "showlegend": true,
           "type": "scatter",
           "x": [
            7
           ],
           "xaxis": "x",
           "y": [
            18
           ],
           "yaxis": "y"
          },
          {
           "hovertemplate": "bird=5<br>time=6<br>x=%{x}<br>y=%{y}<extra></extra>",
           "legendgroup": "5",
           "marker": {
            "color": "#FFA15A",
            "line": {
             "width": 3
            },
            "opacity": 0.8,
            "size": 14,
            "symbol": "square"
           },
           "mode": "markers",
           "name": "5",
           "orientation": "v",
           "showlegend": true,
           "type": "scatter",
           "x": [
            22
           ],
           "xaxis": "x",
           "y": [
            26
           ],
           "yaxis": "y"
          },
          {
           "hovertemplate": "bird=6<br>time=6<br>x=%{x}<br>y=%{y}<extra></extra>",
           "legendgroup": "6",
           "marker": {
            "color": "#19d3f3",
            "line": {
             "width": 3
            },
            "opacity": 0.8,
            "size": 14,
            "symbol": "square"
           },
           "mode": "markers",
           "name": "6",
           "orientation": "v",
           "showlegend": true,
           "type": "scatter",
           "x": [
            15
           ],
           "xaxis": "x",
           "y": [
            8
           ],
           "yaxis": "y"
          },
          {
           "hovertemplate": "bird=7<br>time=6<br>x=%{x}<br>y=%{y}<extra></extra>",
           "legendgroup": "7",
           "marker": {
            "color": "#FF6692",
            "line": {
             "width": 3
            },
            "opacity": 0.8,
            "size": 14,
            "symbol": "square"
           },
           "mode": "markers",
           "name": "7",
           "orientation": "v",
           "showlegend": true,
           "type": "scatter",
           "x": [
            8
           ],
           "xaxis": "x",
           "y": [
            19
           ],
           "yaxis": "y"
          },
          {
           "hovertemplate": "bird=8<br>time=6<br>x=%{x}<br>y=%{y}<extra></extra>",
           "legendgroup": "8",
           "marker": {
            "color": "#B6E880",
            "line": {
             "width": 3
            },
            "opacity": 0.8,
            "size": 14,
            "symbol": "square"
           },
           "mode": "markers",
           "name": "8",
           "orientation": "v",
           "showlegend": true,
           "type": "scatter",
           "x": [
            15
           ],
           "xaxis": "x",
           "y": [
            8
           ],
           "yaxis": "y"
          },
          {
           "hovertemplate": "bird=9<br>time=6<br>x=%{x}<br>y=%{y}<extra></extra>",
           "legendgroup": "9",
           "marker": {
            "color": "#FF97FF",
            "line": {
             "width": 3
            },
            "opacity": 0.8,
            "size": 14,
            "symbol": "square"
           },
           "mode": "markers",
           "name": "9",
           "orientation": "v",
           "showlegend": true,
           "type": "scatter",
           "x": [
            4
           ],
           "xaxis": "x",
           "y": [
            15
           ],
           "yaxis": "y"
          },
          {
           "hovertemplate": "bird=reward<br>time=6<br>x=%{x}<br>y=%{y}<extra></extra>",
           "legendgroup": "reward",
           "marker": {
            "color": "yellow",
            "symbol": "square"
           },
           "mode": "markers",
           "name": "reward",
           "orientation": "v",
           "showlegend": false,
           "type": "scatter",
           "x": [
            15,
            16,
            17,
            18,
            15,
            16,
            17,
            18,
            15,
            16,
            17,
            18,
            15,
            16,
            17,
            18
           ],
           "xaxis": "x",
           "y": [
            8,
            8,
            8,
            8,
            9,
            9,
            9,
            9,
            10,
            10,
            10,
            10,
            11,
            11,
            11,
            11
           ],
           "yaxis": "y"
          }
         ],
         "name": "6"
        },
        {
         "data": [
          {
           "hovertemplate": "bird=1<br>time=7<br>x=%{x}<br>y=%{y}<extra></extra>",
           "legendgroup": "1",
           "marker": {
            "color": "#636efa",
            "line": {
             "width": 3
            },
            "opacity": 0.8,
            "size": 14,
            "symbol": "square"
           },
           "mode": "markers",
           "name": "1",
           "orientation": "v",
           "showlegend": true,
           "type": "scatter",
           "x": [
            26
           ],
           "xaxis": "x",
           "y": [
            11
           ],
           "yaxis": "y"
          },
          {
           "hovertemplate": "bird=2<br>time=7<br>x=%{x}<br>y=%{y}<extra></extra>",
           "legendgroup": "2",
           "marker": {
            "color": "#EF553B",
            "line": {
             "width": 3
            },
            "opacity": 0.8,
            "size": 14,
            "symbol": "square"
           },
           "mode": "markers",
           "name": "2",
           "orientation": "v",
           "showlegend": true,
           "type": "scatter",
           "x": [
            26
           ],
           "xaxis": "x",
           "y": [
            5
           ],
           "yaxis": "y"
          },
          {
           "hovertemplate": "bird=3<br>time=7<br>x=%{x}<br>y=%{y}<extra></extra>",
           "legendgroup": "3",
           "marker": {
            "color": "#00cc96",
            "line": {
             "width": 3
            },
            "opacity": 0.8,
            "size": 14,
            "symbol": "square"
           },
           "mode": "markers",
           "name": "3",
           "orientation": "v",
           "showlegend": true,
           "type": "scatter",
           "x": [
            23
           ],
           "xaxis": "x",
           "y": [
            18
           ],
           "yaxis": "y"
          },
          {
           "hovertemplate": "bird=4<br>time=7<br>x=%{x}<br>y=%{y}<extra></extra>",
           "legendgroup": "4",
           "marker": {
            "color": "#ab63fa",
            "line": {
             "width": 3
            },
            "opacity": 0.8,
            "size": 14,
            "symbol": "square"
           },
           "mode": "markers",
           "name": "4",
           "orientation": "v",
           "showlegend": true,
           "type": "scatter",
           "x": [
            7
           ],
           "xaxis": "x",
           "y": [
            18
           ],
           "yaxis": "y"
          },
          {
           "hovertemplate": "bird=5<br>time=7<br>x=%{x}<br>y=%{y}<extra></extra>",
           "legendgroup": "5",
           "marker": {
            "color": "#FFA15A",
            "line": {
             "width": 3
            },
            "opacity": 0.8,
            "size": 14,
            "symbol": "square"
           },
           "mode": "markers",
           "name": "5",
           "orientation": "v",
           "showlegend": true,
           "type": "scatter",
           "x": [
            21
           ],
           "xaxis": "x",
           "y": [
            25
           ],
           "yaxis": "y"
          },
          {
           "hovertemplate": "bird=6<br>time=7<br>x=%{x}<br>y=%{y}<extra></extra>",
           "legendgroup": "6",
           "marker": {
            "color": "#19d3f3",
            "line": {
             "width": 3
            },
            "opacity": 0.8,
            "size": 14,
            "symbol": "square"
           },
           "mode": "markers",
           "name": "6",
           "orientation": "v",
           "showlegend": true,
           "type": "scatter",
           "x": [
            15
           ],
           "xaxis": "x",
           "y": [
            8
           ],
           "yaxis": "y"
          },
          {
           "hovertemplate": "bird=7<br>time=7<br>x=%{x}<br>y=%{y}<extra></extra>",
           "legendgroup": "7",
           "marker": {
            "color": "#FF6692",
            "line": {
             "width": 3
            },
            "opacity": 0.8,
            "size": 14,
            "symbol": "square"
           },
           "mode": "markers",
           "name": "7",
           "orientation": "v",
           "showlegend": true,
           "type": "scatter",
           "x": [
            6
           ],
           "xaxis": "x",
           "y": [
            21
           ],
           "yaxis": "y"
          },
          {
           "hovertemplate": "bird=8<br>time=7<br>x=%{x}<br>y=%{y}<extra></extra>",
           "legendgroup": "8",
           "marker": {
            "color": "#B6E880",
            "line": {
             "width": 3
            },
            "opacity": 0.8,
            "size": 14,
            "symbol": "square"
           },
           "mode": "markers",
           "name": "8",
           "orientation": "v",
           "showlegend": true,
           "type": "scatter",
           "x": [
            15
           ],
           "xaxis": "x",
           "y": [
            8
           ],
           "yaxis": "y"
          },
          {
           "hovertemplate": "bird=9<br>time=7<br>x=%{x}<br>y=%{y}<extra></extra>",
           "legendgroup": "9",
           "marker": {
            "color": "#FF97FF",
            "line": {
             "width": 3
            },
            "opacity": 0.8,
            "size": 14,
            "symbol": "square"
           },
           "mode": "markers",
           "name": "9",
           "orientation": "v",
           "showlegend": true,
           "type": "scatter",
           "x": [
            5
           ],
           "xaxis": "x",
           "y": [
            13
           ],
           "yaxis": "y"
          },
          {
           "hovertemplate": "bird=reward<br>time=7<br>x=%{x}<br>y=%{y}<extra></extra>",
           "legendgroup": "reward",
           "marker": {
            "color": "yellow",
            "symbol": "square"
           },
           "mode": "markers",
           "name": "reward",
           "orientation": "v",
           "showlegend": false,
           "type": "scatter",
           "x": [
            16,
            17,
            18,
            15,
            16,
            17,
            18,
            15,
            16,
            17,
            18,
            15,
            16,
            17,
            18
           ],
           "xaxis": "x",
           "y": [
            8,
            8,
            8,
            9,
            9,
            9,
            9,
            10,
            10,
            10,
            10,
            11,
            11,
            11,
            11
           ],
           "yaxis": "y"
          }
         ],
         "name": "7"
        },
        {
         "data": [
          {
           "hovertemplate": "bird=1<br>time=8<br>x=%{x}<br>y=%{y}<extra></extra>",
           "legendgroup": "1",
           "marker": {
            "color": "#636efa",
            "line": {
             "width": 3
            },
            "opacity": 0.8,
            "size": 14,
            "symbol": "square"
           },
           "mode": "markers",
           "name": "1",
           "orientation": "v",
           "showlegend": true,
           "type": "scatter",
           "x": [
            26
           ],
           "xaxis": "x",
           "y": [
            8
           ],
           "yaxis": "y"
          },
          {
           "hovertemplate": "bird=2<br>time=8<br>x=%{x}<br>y=%{y}<extra></extra>",
           "legendgroup": "2",
           "marker": {
            "color": "#EF553B",
            "line": {
             "width": 3
            },
            "opacity": 0.8,
            "size": 14,
            "symbol": "square"
           },
           "mode": "markers",
           "name": "2",
           "orientation": "v",
           "showlegend": true,
           "type": "scatter",
           "x": [
            25
           ],
           "xaxis": "x",
           "y": [
            5
           ],
           "yaxis": "y"
          },
          {
           "hovertemplate": "bird=3<br>time=8<br>x=%{x}<br>y=%{y}<extra></extra>",
           "legendgroup": "3",
           "marker": {
            "color": "#00cc96",
            "line": {
             "width": 3
            },
            "opacity": 0.8,
            "size": 14,
            "symbol": "square"
           },
           "mode": "markers",
           "name": "3",
           "orientation": "v",
           "showlegend": true,
           "type": "scatter",
           "x": [
            21
           ],
           "xaxis": "x",
           "y": [
            18
           ],
           "yaxis": "y"
          },
          {
           "hovertemplate": "bird=4<br>time=8<br>x=%{x}<br>y=%{y}<extra></extra>",
           "legendgroup": "4",
           "marker": {
            "color": "#ab63fa",
            "line": {
             "width": 3
            },
            "opacity": 0.8,
            "size": 14,
            "symbol": "square"
           },
           "mode": "markers",
           "name": "4",
           "orientation": "v",
           "showlegend": true,
           "type": "scatter",
           "x": [
            5
           ],
           "xaxis": "x",
           "y": [
            20
           ],
           "yaxis": "y"
          },
          {
           "hovertemplate": "bird=5<br>time=8<br>x=%{x}<br>y=%{y}<extra></extra>",
           "legendgroup": "5",
           "marker": {
            "color": "#FFA15A",
            "line": {
             "width": 3
            },
            "opacity": 0.8,
            "size": 14,
            "symbol": "square"
           },
           "mode": "markers",
           "name": "5",
           "orientation": "v",
           "showlegend": true,
           "type": "scatter",
           "x": [
            20
           ],
           "xaxis": "x",
           "y": [
            26
           ],
           "yaxis": "y"
          },
          {
           "hovertemplate": "bird=6<br>time=8<br>x=%{x}<br>y=%{y}<extra></extra>",
           "legendgroup": "6",
           "marker": {
            "color": "#19d3f3",
            "line": {
             "width": 3
            },
            "opacity": 0.8,
            "size": 14,
            "symbol": "square"
           },
           "mode": "markers",
           "name": "6",
           "orientation": "v",
           "showlegend": true,
           "type": "scatter",
           "x": [
            15
           ],
           "xaxis": "x",
           "y": [
            8
           ],
           "yaxis": "y"
          },
          {
           "hovertemplate": "bird=7<br>time=8<br>x=%{x}<br>y=%{y}<extra></extra>",
           "legendgroup": "7",
           "marker": {
            "color": "#FF6692",
            "line": {
             "width": 3
            },
            "opacity": 0.8,
            "size": 14,
            "symbol": "square"
           },
           "mode": "markers",
           "name": "7",
           "orientation": "v",
           "showlegend": true,
           "type": "scatter",
           "x": [
            8
           ],
           "xaxis": "x",
           "y": [
            19
           ],
           "yaxis": "y"
          },
          {
           "hovertemplate": "bird=8<br>time=8<br>x=%{x}<br>y=%{y}<extra></extra>",
           "legendgroup": "8",
           "marker": {
            "color": "#B6E880",
            "line": {
             "width": 3
            },
            "opacity": 0.8,
            "size": 14,
            "symbol": "square"
           },
           "mode": "markers",
           "name": "8",
           "orientation": "v",
           "showlegend": true,
           "type": "scatter",
           "x": [
            15
           ],
           "xaxis": "x",
           "y": [
            8
           ],
           "yaxis": "y"
          },
          {
           "hovertemplate": "bird=9<br>time=8<br>x=%{x}<br>y=%{y}<extra></extra>",
           "legendgroup": "9",
           "marker": {
            "color": "#FF97FF",
            "line": {
             "width": 3
            },
            "opacity": 0.8,
            "size": 14,
            "symbol": "square"
           },
           "mode": "markers",
           "name": "9",
           "orientation": "v",
           "showlegend": true,
           "type": "scatter",
           "x": [
            3
           ],
           "xaxis": "x",
           "y": [
            15
           ],
           "yaxis": "y"
          },
          {
           "hovertemplate": "bird=reward<br>time=8<br>x=%{x}<br>y=%{y}<extra></extra>",
           "legendgroup": "reward",
           "marker": {
            "color": "yellow",
            "symbol": "square"
           },
           "mode": "markers",
           "name": "reward",
           "orientation": "v",
           "showlegend": false,
           "type": "scatter",
           "x": [
            16,
            17,
            18,
            15,
            16,
            17,
            18,
            15,
            16,
            17,
            18,
            15,
            16,
            17,
            18
           ],
           "xaxis": "x",
           "y": [
            8,
            8,
            8,
            9,
            9,
            9,
            9,
            10,
            10,
            10,
            10,
            11,
            11,
            11,
            11
           ],
           "yaxis": "y"
          }
         ],
         "name": "8"
        },
        {
         "data": [
          {
           "hovertemplate": "bird=1<br>time=9<br>x=%{x}<br>y=%{y}<extra></extra>",
           "legendgroup": "1",
           "marker": {
            "color": "#636efa",
            "line": {
             "width": 3
            },
            "opacity": 0.8,
            "size": 14,
            "symbol": "square"
           },
           "mode": "markers",
           "name": "1",
           "orientation": "v",
           "showlegend": true,
           "type": "scatter",
           "x": [
            24
           ],
           "xaxis": "x",
           "y": [
            7
           ],
           "yaxis": "y"
          },
          {
           "hovertemplate": "bird=2<br>time=9<br>x=%{x}<br>y=%{y}<extra></extra>",
           "legendgroup": "2",
           "marker": {
            "color": "#EF553B",
            "line": {
             "width": 3
            },
            "opacity": 0.8,
            "size": 14,
            "symbol": "square"
           },
           "mode": "markers",
           "name": "2",
           "orientation": "v",
           "showlegend": true,
           "type": "scatter",
           "x": [
            24
           ],
           "xaxis": "x",
           "y": [
            5
           ],
           "yaxis": "y"
          },
          {
           "hovertemplate": "bird=3<br>time=9<br>x=%{x}<br>y=%{y}<extra></extra>",
           "legendgroup": "3",
           "marker": {
            "color": "#00cc96",
            "line": {
             "width": 3
            },
            "opacity": 0.8,
            "size": 14,
            "symbol": "square"
           },
           "mode": "markers",
           "name": "3",
           "orientation": "v",
           "showlegend": true,
           "type": "scatter",
           "x": [
            20
           ],
           "xaxis": "x",
           "y": [
            18
           ],
           "yaxis": "y"
          },
          {
           "hovertemplate": "bird=4<br>time=9<br>x=%{x}<br>y=%{y}<extra></extra>",
           "legendgroup": "4",
           "marker": {
            "color": "#ab63fa",
            "line": {
             "width": 3
            },
            "opacity": 0.8,
            "size": 14,
            "symbol": "square"
           },
           "mode": "markers",
           "name": "4",
           "orientation": "v",
           "showlegend": true,
           "type": "scatter",
           "x": [
            4
           ],
           "xaxis": "x",
           "y": [
            22
           ],
           "yaxis": "y"
          },
          {
           "hovertemplate": "bird=5<br>time=9<br>x=%{x}<br>y=%{y}<extra></extra>",
           "legendgroup": "5",
           "marker": {
            "color": "#FFA15A",
            "line": {
             "width": 3
            },
            "opacity": 0.8,
            "size": 14,
            "symbol": "square"
           },
           "mode": "markers",
           "name": "5",
           "orientation": "v",
           "showlegend": true,
           "type": "scatter",
           "x": [
            18
           ],
           "xaxis": "x",
           "y": [
            24
           ],
           "yaxis": "y"
          },
          {
           "hovertemplate": "bird=6<br>time=9<br>x=%{x}<br>y=%{y}<extra></extra>",
           "legendgroup": "6",
           "marker": {
            "color": "#19d3f3",
            "line": {
             "width": 3
            },
            "opacity": 0.8,
            "size": 14,
            "symbol": "square"
           },
           "mode": "markers",
           "name": "6",
           "orientation": "v",
           "showlegend": true,
           "type": "scatter",
           "x": [
            15
           ],
           "xaxis": "x",
           "y": [
            8
           ],
           "yaxis": "y"
          },
          {
           "hovertemplate": "bird=7<br>time=9<br>x=%{x}<br>y=%{y}<extra></extra>",
           "legendgroup": "7",
           "marker": {
            "color": "#FF6692",
            "line": {
             "width": 3
            },
            "opacity": 0.8,
            "size": 14,
            "symbol": "square"
           },
           "mode": "markers",
           "name": "7",
           "orientation": "v",
           "showlegend": true,
           "type": "scatter",
           "x": [
            7
           ],
           "xaxis": "x",
           "y": [
            21
           ],
           "yaxis": "y"
          },
          {
           "hovertemplate": "bird=8<br>time=9<br>x=%{x}<br>y=%{y}<extra></extra>",
           "legendgroup": "8",
           "marker": {
            "color": "#B6E880",
            "line": {
             "width": 3
            },
            "opacity": 0.8,
            "size": 14,
            "symbol": "square"
           },
           "mode": "markers",
           "name": "8",
           "orientation": "v",
           "showlegend": true,
           "type": "scatter",
           "x": [
            15
           ],
           "xaxis": "x",
           "y": [
            8
           ],
           "yaxis": "y"
          },
          {
           "hovertemplate": "bird=9<br>time=9<br>x=%{x}<br>y=%{y}<extra></extra>",
           "legendgroup": "9",
           "marker": {
            "color": "#FF97FF",
            "line": {
             "width": 3
            },
            "opacity": 0.8,
            "size": 14,
            "symbol": "square"
           },
           "mode": "markers",
           "name": "9",
           "orientation": "v",
           "showlegend": true,
           "type": "scatter",
           "x": [
            3
           ],
           "xaxis": "x",
           "y": [
            18
           ],
           "yaxis": "y"
          },
          {
           "hovertemplate": "bird=reward<br>time=9<br>x=%{x}<br>y=%{y}<extra></extra>",
           "legendgroup": "reward",
           "marker": {
            "color": "yellow",
            "symbol": "square"
           },
           "mode": "markers",
           "name": "reward",
           "orientation": "v",
           "showlegend": false,
           "type": "scatter",
           "x": [
            16,
            17,
            18,
            15,
            16,
            17,
            18,
            15,
            16,
            17,
            18,
            15,
            16,
            17,
            18
           ],
           "xaxis": "x",
           "y": [
            8,
            8,
            8,
            9,
            9,
            9,
            9,
            10,
            10,
            10,
            10,
            11,
            11,
            11,
            11
           ],
           "yaxis": "y"
          }
         ],
         "name": "9"
        },
        {
         "data": [
          {
           "hovertemplate": "bird=1<br>time=10<br>x=%{x}<br>y=%{y}<extra></extra>",
           "legendgroup": "1",
           "marker": {
            "color": "#636efa",
            "line": {
             "width": 3
            },
            "opacity": 0.8,
            "size": 14,
            "symbol": "square"
           },
           "mode": "markers",
           "name": "1",
           "orientation": "v",
           "showlegend": true,
           "type": "scatter",
           "x": [
            23
           ],
           "xaxis": "x",
           "y": [
            7
           ],
           "yaxis": "y"
          },
          {
           "hovertemplate": "bird=2<br>time=10<br>x=%{x}<br>y=%{y}<extra></extra>",
           "legendgroup": "2",
           "marker": {
            "color": "#EF553B",
            "line": {
             "width": 3
            },
            "opacity": 0.8,
            "size": 14,
            "symbol": "square"
           },
           "mode": "markers",
           "name": "2",
           "orientation": "v",
           "showlegend": true,
           "type": "scatter",
           "x": [
            22
           ],
           "xaxis": "x",
           "y": [
            6
           ],
           "yaxis": "y"
          },
          {
           "hovertemplate": "bird=3<br>time=10<br>x=%{x}<br>y=%{y}<extra></extra>",
           "legendgroup": "3",
           "marker": {
            "color": "#00cc96",
            "line": {
             "width": 3
            },
            "opacity": 0.8,
            "size": 14,
            "symbol": "square"
           },
           "mode": "markers",
           "name": "3",
           "orientation": "v",
           "showlegend": true,
           "type": "scatter",
           "x": [
            18
           ],
           "xaxis": "x",
           "y": [
            19
           ],
           "yaxis": "y"
          },
          {
           "hovertemplate": "bird=4<br>time=10<br>x=%{x}<br>y=%{y}<extra></extra>",
           "legendgroup": "4",
           "marker": {
            "color": "#ab63fa",
            "line": {
             "width": 3
            },
            "opacity": 0.8,
            "size": 14,
            "symbol": "square"
           },
           "mode": "markers",
           "name": "4",
           "orientation": "v",
           "showlegend": true,
           "type": "scatter",
           "x": [
            3
           ],
           "xaxis": "x",
           "y": [
            24
           ],
           "yaxis": "y"
          },
          {
           "hovertemplate": "bird=5<br>time=10<br>x=%{x}<br>y=%{y}<extra></extra>",
           "legendgroup": "5",
           "marker": {
            "color": "#FFA15A",
            "line": {
             "width": 3
            },
            "opacity": 0.8,
            "size": 14,
            "symbol": "square"
           },
           "mode": "markers",
           "name": "5",
           "orientation": "v",
           "showlegend": true,
           "type": "scatter",
           "x": [
            20
           ],
           "xaxis": "x",
           "y": [
            22
           ],
           "yaxis": "y"
          },
          {
           "hovertemplate": "bird=6<br>time=10<br>x=%{x}<br>y=%{y}<extra></extra>",
           "legendgroup": "6",
           "marker": {
            "color": "#19d3f3",
            "line": {
             "width": 3
            },
            "opacity": 0.8,
            "size": 14,
            "symbol": "square"
           },
           "mode": "markers",
           "name": "6",
           "orientation": "v",
           "showlegend": true,
           "type": "scatter",
           "x": [
            15
           ],
           "xaxis": "x",
           "y": [
            8
           ],
           "yaxis": "y"
          },
          {
           "hovertemplate": "bird=7<br>time=10<br>x=%{x}<br>y=%{y}<extra></extra>",
           "legendgroup": "7",
           "marker": {
            "color": "#FF6692",
            "line": {
             "width": 3
            },
            "opacity": 0.8,
            "size": 14,
            "symbol": "square"
           },
           "mode": "markers",
           "name": "7",
           "orientation": "v",
           "showlegend": true,
           "type": "scatter",
           "x": [
            6
           ],
           "xaxis": "x",
           "y": [
            23
           ],
           "yaxis": "y"
          },
          {
           "hovertemplate": "bird=8<br>time=10<br>x=%{x}<br>y=%{y}<extra></extra>",
           "legendgroup": "8",
           "marker": {
            "color": "#B6E880",
            "line": {
             "width": 3
            },
            "opacity": 0.8,
            "size": 14,
            "symbol": "square"
           },
           "mode": "markers",
           "name": "8",
           "orientation": "v",
           "showlegend": true,
           "type": "scatter",
           "x": [
            15
           ],
           "xaxis": "x",
           "y": [
            8
           ],
           "yaxis": "y"
          },
          {
           "hovertemplate": "bird=9<br>time=10<br>x=%{x}<br>y=%{y}<extra></extra>",
           "legendgroup": "9",
           "marker": {
            "color": "#FF97FF",
            "line": {
             "width": 3
            },
            "opacity": 0.8,
            "size": 14,
            "symbol": "square"
           },
           "mode": "markers",
           "name": "9",
           "orientation": "v",
           "showlegend": true,
           "type": "scatter",
           "x": [
            4
           ],
           "xaxis": "x",
           "y": [
            18
           ],
           "yaxis": "y"
          },
          {
           "hovertemplate": "bird=reward<br>time=10<br>x=%{x}<br>y=%{y}<extra></extra>",
           "legendgroup": "reward",
           "marker": {
            "color": "yellow",
            "symbol": "square"
           },
           "mode": "markers",
           "name": "reward",
           "orientation": "v",
           "showlegend": false,
           "type": "scatter",
           "x": [
            16,
            17,
            18,
            15,
            16,
            17,
            18,
            15,
            16,
            17,
            18,
            15,
            16,
            17,
            18
           ],
           "xaxis": "x",
           "y": [
            8,
            8,
            8,
            9,
            9,
            9,
            9,
            10,
            10,
            10,
            10,
            11,
            11,
            11,
            11
           ],
           "yaxis": "y"
          }
         ],
         "name": "10"
        },
        {
         "data": [
          {
           "hovertemplate": "bird=1<br>time=11<br>x=%{x}<br>y=%{y}<extra></extra>",
           "legendgroup": "1",
           "marker": {
            "color": "#636efa",
            "line": {
             "width": 3
            },
            "opacity": 0.8,
            "size": 14,
            "symbol": "square"
           },
           "mode": "markers",
           "name": "1",
           "orientation": "v",
           "showlegend": true,
           "type": "scatter",
           "x": [
            21
           ],
           "xaxis": "x",
           "y": [
            9
           ],
           "yaxis": "y"
          },
          {
           "hovertemplate": "bird=2<br>time=11<br>x=%{x}<br>y=%{y}<extra></extra>",
           "legendgroup": "2",
           "marker": {
            "color": "#EF553B",
            "line": {
             "width": 3
            },
            "opacity": 0.8,
            "size": 14,
            "symbol": "square"
           },
           "mode": "markers",
           "name": "2",
           "orientation": "v",
           "showlegend": true,
           "type": "scatter",
           "x": [
            20
           ],
           "xaxis": "x",
           "y": [
            8
           ],
           "yaxis": "y"
          },
          {
           "hovertemplate": "bird=3<br>time=11<br>x=%{x}<br>y=%{y}<extra></extra>",
           "legendgroup": "3",
           "marker": {
            "color": "#00cc96",
            "line": {
             "width": 3
            },
            "opacity": 0.8,
            "size": 14,
            "symbol": "square"
           },
           "mode": "markers",
           "name": "3",
           "orientation": "v",
           "showlegend": true,
           "type": "scatter",
           "x": [
            20
           ],
           "xaxis": "x",
           "y": [
            17
           ],
           "yaxis": "y"
          },
          {
           "hovertemplate": "bird=4<br>time=11<br>x=%{x}<br>y=%{y}<extra></extra>",
           "legendgroup": "4",
           "marker": {
            "color": "#ab63fa",
            "line": {
             "width": 3
            },
            "opacity": 0.8,
            "size": 14,
            "symbol": "square"
           },
           "mode": "markers",
           "name": "4",
           "orientation": "v",
           "showlegend": true,
           "type": "scatter",
           "x": [
            2
           ],
           "xaxis": "x",
           "y": [
            25
           ],
           "yaxis": "y"
          },
          {
           "hovertemplate": "bird=5<br>time=11<br>x=%{x}<br>y=%{y}<extra></extra>",
           "legendgroup": "5",
           "marker": {
            "color": "#FFA15A",
            "line": {
             "width": 3
            },
            "opacity": 0.8,
            "size": 14,
            "symbol": "square"
           },
           "mode": "markers",
           "name": "5",
           "orientation": "v",
           "showlegend": true,
           "type": "scatter",
           "x": [
            21
           ],
           "xaxis": "x",
           "y": [
            23
           ],
           "yaxis": "y"
          },
          {
           "hovertemplate": "bird=6<br>time=11<br>x=%{x}<br>y=%{y}<extra></extra>",
           "legendgroup": "6",
           "marker": {
            "color": "#19d3f3",
            "line": {
             "width": 3
            },
            "opacity": 0.8,
            "size": 14,
            "symbol": "square"
           },
           "mode": "markers",
           "name": "6",
           "orientation": "v",
           "showlegend": true,
           "type": "scatter",
           "x": [
            15
           ],
           "xaxis": "x",
           "y": [
            8
           ],
           "yaxis": "y"
          },
          {
           "hovertemplate": "bird=7<br>time=11<br>x=%{x}<br>y=%{y}<extra></extra>",
           "legendgroup": "7",
           "marker": {
            "color": "#FF6692",
            "line": {
             "width": 3
            },
            "opacity": 0.8,
            "size": 14,
            "symbol": "square"
           },
           "mode": "markers",
           "name": "7",
           "orientation": "v",
           "showlegend": true,
           "type": "scatter",
           "x": [
            7
           ],
           "xaxis": "x",
           "y": [
            21
           ],
           "yaxis": "y"
          },
          {
           "hovertemplate": "bird=8<br>time=11<br>x=%{x}<br>y=%{y}<extra></extra>",
           "legendgroup": "8",
           "marker": {
            "color": "#B6E880",
            "line": {
             "width": 3
            },
            "opacity": 0.8,
            "size": 14,
            "symbol": "square"
           },
           "mode": "markers",
           "name": "8",
           "orientation": "v",
           "showlegend": true,
           "type": "scatter",
           "x": [
            15
           ],
           "xaxis": "x",
           "y": [
            8
           ],
           "yaxis": "y"
          },
          {
           "hovertemplate": "bird=9<br>time=11<br>x=%{x}<br>y=%{y}<extra></extra>",
           "legendgroup": "9",
           "marker": {
            "color": "#FF97FF",
            "line": {
             "width": 3
            },
            "opacity": 0.8,
            "size": 14,
            "symbol": "square"
           },
           "mode": "markers",
           "name": "9",
           "orientation": "v",
           "showlegend": true,
           "type": "scatter",
           "x": [
            4
           ],
           "xaxis": "x",
           "y": [
            21
           ],
           "yaxis": "y"
          },
          {
           "hovertemplate": "bird=reward<br>time=11<br>x=%{x}<br>y=%{y}<extra></extra>",
           "legendgroup": "reward",
           "marker": {
            "color": "yellow",
            "symbol": "square"
           },
           "mode": "markers",
           "name": "reward",
           "orientation": "v",
           "showlegend": false,
           "type": "scatter",
           "x": [
            16,
            17,
            18,
            15,
            16,
            17,
            18,
            15,
            16,
            17,
            18,
            15,
            16,
            17,
            18
           ],
           "xaxis": "x",
           "y": [
            8,
            8,
            8,
            9,
            9,
            9,
            9,
            10,
            10,
            10,
            10,
            11,
            11,
            11,
            11
           ],
           "yaxis": "y"
          }
         ],
         "name": "11"
        },
        {
         "data": [
          {
           "hovertemplate": "bird=1<br>time=12<br>x=%{x}<br>y=%{y}<extra></extra>",
           "legendgroup": "1",
           "marker": {
            "color": "#636efa",
            "line": {
             "width": 3
            },
            "opacity": 0.8,
            "size": 14,
            "symbol": "square"
           },
           "mode": "markers",
           "name": "1",
           "orientation": "v",
           "showlegend": true,
           "type": "scatter",
           "x": [
            18
           ],
           "xaxis": "x",
           "y": [
            9
           ],
           "yaxis": "y"
          },
          {
           "hovertemplate": "bird=2<br>time=12<br>x=%{x}<br>y=%{y}<extra></extra>",
           "legendgroup": "2",
           "marker": {
            "color": "#EF553B",
            "line": {
             "width": 3
            },
            "opacity": 0.8,
            "size": 14,
            "symbol": "square"
           },
           "mode": "markers",
           "name": "2",
           "orientation": "v",
           "showlegend": true,
           "type": "scatter",
           "x": [
            18
           ],
           "xaxis": "x",
           "y": [
            9
           ],
           "yaxis": "y"
          },
          {
           "hovertemplate": "bird=3<br>time=12<br>x=%{x}<br>y=%{y}<extra></extra>",
           "legendgroup": "3",
           "marker": {
            "color": "#00cc96",
            "line": {
             "width": 3
            },
            "opacity": 0.8,
            "size": 14,
            "symbol": "square"
           },
           "mode": "markers",
           "name": "3",
           "orientation": "v",
           "showlegend": true,
           "type": "scatter",
           "x": [
            18
           ],
           "xaxis": "x",
           "y": [
            15
           ],
           "yaxis": "y"
          },
          {
           "hovertemplate": "bird=4<br>time=12<br>x=%{x}<br>y=%{y}<extra></extra>",
           "legendgroup": "4",
           "marker": {
            "color": "#ab63fa",
            "line": {
             "width": 3
            },
            "opacity": 0.8,
            "size": 14,
            "symbol": "square"
           },
           "mode": "markers",
           "name": "4",
           "orientation": "v",
           "showlegend": true,
           "type": "scatter",
           "x": [
            3
           ],
           "xaxis": "x",
           "y": [
            26
           ],
           "yaxis": "y"
          },
          {
           "hovertemplate": "bird=5<br>time=12<br>x=%{x}<br>y=%{y}<extra></extra>",
           "legendgroup": "5",
           "marker": {
            "color": "#FFA15A",
            "line": {
             "width": 3
            },
            "opacity": 0.8,
            "size": 14,
            "symbol": "square"
           },
           "mode": "markers",
           "name": "5",
           "orientation": "v",
           "showlegend": true,
           "type": "scatter",
           "x": [
            19
           ],
           "xaxis": "x",
           "y": [
            22
           ],
           "yaxis": "y"
          },
          {
           "hovertemplate": "bird=6<br>time=12<br>x=%{x}<br>y=%{y}<extra></extra>",
           "legendgroup": "6",
           "marker": {
            "color": "#19d3f3",
            "line": {
             "width": 3
            },
            "opacity": 0.8,
            "size": 14,
            "symbol": "square"
           },
           "mode": "markers",
           "name": "6",
           "orientation": "v",
           "showlegend": true,
           "type": "scatter",
           "x": [
            15
           ],
           "xaxis": "x",
           "y": [
            8
           ],
           "yaxis": "y"
          },
          {
           "hovertemplate": "bird=7<br>time=12<br>x=%{x}<br>y=%{y}<extra></extra>",
           "legendgroup": "7",
           "marker": {
            "color": "#FF6692",
            "line": {
             "width": 3
            },
            "opacity": 0.8,
            "size": 14,
            "symbol": "square"
           },
           "mode": "markers",
           "name": "7",
           "orientation": "v",
           "showlegend": true,
           "type": "scatter",
           "x": [
            9
           ],
           "xaxis": "x",
           "y": [
            20
           ],
           "yaxis": "y"
          },
          {
           "hovertemplate": "bird=8<br>time=12<br>x=%{x}<br>y=%{y}<extra></extra>",
           "legendgroup": "8",
           "marker": {
            "color": "#B6E880",
            "line": {
             "width": 3
            },
            "opacity": 0.8,
            "size": 14,
            "symbol": "square"
           },
           "mode": "markers",
           "name": "8",
           "orientation": "v",
           "showlegend": true,
           "type": "scatter",
           "x": [
            15
           ],
           "xaxis": "x",
           "y": [
            8
           ],
           "yaxis": "y"
          },
          {
           "hovertemplate": "bird=9<br>time=12<br>x=%{x}<br>y=%{y}<extra></extra>",
           "legendgroup": "9",
           "marker": {
            "color": "#FF97FF",
            "line": {
             "width": 3
            },
            "opacity": 0.8,
            "size": 14,
            "symbol": "square"
           },
           "mode": "markers",
           "name": "9",
           "orientation": "v",
           "showlegend": true,
           "type": "scatter",
           "x": [
            6
           ],
           "xaxis": "x",
           "y": [
            19
           ],
           "yaxis": "y"
          },
          {
           "hovertemplate": "bird=reward<br>time=12<br>x=%{x}<br>y=%{y}<extra></extra>",
           "legendgroup": "reward",
           "marker": {
            "color": "yellow",
            "symbol": "square"
           },
           "mode": "markers",
           "name": "reward",
           "orientation": "v",
           "showlegend": false,
           "type": "scatter",
           "x": [
            16,
            17,
            18,
            15,
            16,
            17,
            18,
            15,
            16,
            17,
            18,
            15,
            16,
            17,
            18
           ],
           "xaxis": "x",
           "y": [
            8,
            8,
            8,
            9,
            9,
            9,
            9,
            10,
            10,
            10,
            10,
            11,
            11,
            11,
            11
           ],
           "yaxis": "y"
          }
         ],
         "name": "12"
        },
        {
         "data": [
          {
           "hovertemplate": "bird=1<br>time=13<br>x=%{x}<br>y=%{y}<extra></extra>",
           "legendgroup": "1",
           "marker": {
            "color": "#636efa",
            "line": {
             "width": 3
            },
            "opacity": 0.8,
            "size": 14,
            "symbol": "square"
           },
           "mode": "markers",
           "name": "1",
           "orientation": "v",
           "showlegend": true,
           "type": "scatter",
           "x": [
            18
           ],
           "xaxis": "x",
           "y": [
            9
           ],
           "yaxis": "y"
          },
          {
           "hovertemplate": "bird=2<br>time=13<br>x=%{x}<br>y=%{y}<extra></extra>",
           "legendgroup": "2",
           "marker": {
            "color": "#EF553B",
            "line": {
             "width": 3
            },
            "opacity": 0.8,
            "size": 14,
            "symbol": "square"
           },
           "mode": "markers",
           "name": "2",
           "orientation": "v",
           "showlegend": true,
           "type": "scatter",
           "x": [
            18
           ],
           "xaxis": "x",
           "y": [
            9
           ],
           "yaxis": "y"
          },
          {
           "hovertemplate": "bird=3<br>time=13<br>x=%{x}<br>y=%{y}<extra></extra>",
           "legendgroup": "3",
           "marker": {
            "color": "#00cc96",
            "line": {
             "width": 3
            },
            "opacity": 0.8,
            "size": 14,
            "symbol": "square"
           },
           "mode": "markers",
           "name": "3",
           "orientation": "v",
           "showlegend": true,
           "type": "scatter",
           "x": [
            18
           ],
           "xaxis": "x",
           "y": [
            12
           ],
           "yaxis": "y"
          },
          {
           "hovertemplate": "bird=4<br>time=13<br>x=%{x}<br>y=%{y}<extra></extra>",
           "legendgroup": "4",
           "marker": {
            "color": "#ab63fa",
            "line": {
             "width": 3
            },
            "opacity": 0.8,
            "size": 14,
            "symbol": "square"
           },
           "mode": "markers",
           "name": "4",
           "orientation": "v",
           "showlegend": true,
           "type": "scatter",
           "x": [
            3
           ],
           "xaxis": "x",
           "y": [
            29
           ],
           "yaxis": "y"
          },
          {
           "hovertemplate": "bird=5<br>time=13<br>x=%{x}<br>y=%{y}<extra></extra>",
           "legendgroup": "5",
           "marker": {
            "color": "#FFA15A",
            "line": {
             "width": 3
            },
            "opacity": 0.8,
            "size": 14,
            "symbol": "square"
           },
           "mode": "markers",
           "name": "5",
           "orientation": "v",
           "showlegend": true,
           "type": "scatter",
           "x": [
            19
           ],
           "xaxis": "x",
           "y": [
            20
           ],
           "yaxis": "y"
          },
          {
           "hovertemplate": "bird=6<br>time=13<br>x=%{x}<br>y=%{y}<extra></extra>",
           "legendgroup": "6",
           "marker": {
            "color": "#19d3f3",
            "line": {
             "width": 3
            },
            "opacity": 0.8,
            "size": 14,
            "symbol": "square"
           },
           "mode": "markers",
           "name": "6",
           "orientation": "v",
           "showlegend": true,
           "type": "scatter",
           "x": [
            15
           ],
           "xaxis": "x",
           "y": [
            8
           ],
           "yaxis": "y"
          },
          {
           "hovertemplate": "bird=7<br>time=13<br>x=%{x}<br>y=%{y}<extra></extra>",
           "legendgroup": "7",
           "marker": {
            "color": "#FF6692",
            "line": {
             "width": 3
            },
            "opacity": 0.8,
            "size": 14,
            "symbol": "square"
           },
           "mode": "markers",
           "name": "7",
           "orientation": "v",
           "showlegend": true,
           "type": "scatter",
           "x": [
            11
           ],
           "xaxis": "x",
           "y": [
            20
           ],
           "yaxis": "y"
          },
          {
           "hovertemplate": "bird=8<br>time=13<br>x=%{x}<br>y=%{y}<extra></extra>",
           "legendgroup": "8",
           "marker": {
            "color": "#B6E880",
            "line": {
             "width": 3
            },
            "opacity": 0.8,
            "size": 14,
            "symbol": "square"
           },
           "mode": "markers",
           "name": "8",
           "orientation": "v",
           "showlegend": true,
           "type": "scatter",
           "x": [
            15
           ],
           "xaxis": "x",
           "y": [
            8
           ],
           "yaxis": "y"
          },
          {
           "hovertemplate": "bird=9<br>time=13<br>x=%{x}<br>y=%{y}<extra></extra>",
           "legendgroup": "9",
           "marker": {
            "color": "#FF97FF",
            "line": {
             "width": 3
            },
            "opacity": 0.8,
            "size": 14,
            "symbol": "square"
           },
           "mode": "markers",
           "name": "9",
           "orientation": "v",
           "showlegend": true,
           "type": "scatter",
           "x": [
            4
           ],
           "xaxis": "x",
           "y": [
            21
           ],
           "yaxis": "y"
          },
          {
           "hovertemplate": "bird=reward<br>time=13<br>x=%{x}<br>y=%{y}<extra></extra>",
           "legendgroup": "reward",
           "marker": {
            "color": "yellow",
            "symbol": "square"
           },
           "mode": "markers",
           "name": "reward",
           "orientation": "v",
           "showlegend": false,
           "type": "scatter",
           "x": [
            16,
            17,
            18,
            15,
            16,
            17,
            15,
            16,
            17,
            18,
            15,
            16,
            17,
            18
           ],
           "xaxis": "x",
           "y": [
            8,
            8,
            8,
            9,
            9,
            9,
            10,
            10,
            10,
            10,
            11,
            11,
            11,
            11
           ],
           "yaxis": "y"
          }
         ],
         "name": "13"
        },
        {
         "data": [
          {
           "hovertemplate": "bird=1<br>time=14<br>x=%{x}<br>y=%{y}<extra></extra>",
           "legendgroup": "1",
           "marker": {
            "color": "#636efa",
            "line": {
             "width": 3
            },
            "opacity": 0.8,
            "size": 14,
            "symbol": "square"
           },
           "mode": "markers",
           "name": "1",
           "orientation": "v",
           "showlegend": true,
           "type": "scatter",
           "x": [
            18
           ],
           "xaxis": "x",
           "y": [
            9
           ],
           "yaxis": "y"
          },
          {
           "hovertemplate": "bird=2<br>time=14<br>x=%{x}<br>y=%{y}<extra></extra>",
           "legendgroup": "2",
           "marker": {
            "color": "#EF553B",
            "line": {
             "width": 3
            },
            "opacity": 0.8,
            "size": 14,
            "symbol": "square"
           },
           "mode": "markers",
           "name": "2",
           "orientation": "v",
           "showlegend": true,
           "type": "scatter",
           "x": [
            18
           ],
           "xaxis": "x",
           "y": [
            9
           ],
           "yaxis": "y"
          },
          {
           "hovertemplate": "bird=3<br>time=14<br>x=%{x}<br>y=%{y}<extra></extra>",
           "legendgroup": "3",
           "marker": {
            "color": "#00cc96",
            "line": {
             "width": 3
            },
            "opacity": 0.8,
            "size": 14,
            "symbol": "square"
           },
           "mode": "markers",
           "name": "3",
           "orientation": "v",
           "showlegend": true,
           "type": "scatter",
           "x": [
            18
           ],
           "xaxis": "x",
           "y": [
            9
           ],
           "yaxis": "y"
          },
          {
           "hovertemplate": "bird=4<br>time=14<br>x=%{x}<br>y=%{y}<extra></extra>",
           "legendgroup": "4",
           "marker": {
            "color": "#ab63fa",
            "line": {
             "width": 3
            },
            "opacity": 0.8,
            "size": 14,
            "symbol": "square"
           },
           "mode": "markers",
           "name": "4",
           "orientation": "v",
           "showlegend": true,
           "type": "scatter",
           "x": [
            4
           ],
           "xaxis": "x",
           "y": [
            28
           ],
           "yaxis": "y"
          },
          {
           "hovertemplate": "bird=5<br>time=14<br>x=%{x}<br>y=%{y}<extra></extra>",
           "legendgroup": "5",
           "marker": {
            "color": "#FFA15A",
            "line": {
             "width": 3
            },
            "opacity": 0.8,
            "size": 14,
            "symbol": "square"
           },
           "mode": "markers",
           "name": "5",
           "orientation": "v",
           "showlegend": true,
           "type": "scatter",
           "x": [
            19
           ],
           "xaxis": "x",
           "y": [
            19
           ],
           "yaxis": "y"
          },
          {
           "hovertemplate": "bird=6<br>time=14<br>x=%{x}<br>y=%{y}<extra></extra>",
           "legendgroup": "6",
           "marker": {
            "color": "#19d3f3",
            "line": {
             "width": 3
            },
            "opacity": 0.8,
            "size": 14,
            "symbol": "square"
           },
           "mode": "markers",
           "name": "6",
           "orientation": "v",
           "showlegend": true,
           "type": "scatter",
           "x": [
            15
           ],
           "xaxis": "x",
           "y": [
            8
           ],
           "yaxis": "y"
          },
          {
           "hovertemplate": "bird=7<br>time=14<br>x=%{x}<br>y=%{y}<extra></extra>",
           "legendgroup": "7",
           "marker": {
            "color": "#FF6692",
            "line": {
             "width": 3
            },
            "opacity": 0.8,
            "size": 14,
            "symbol": "square"
           },
           "mode": "markers",
           "name": "7",
           "orientation": "v",
           "showlegend": true,
           "type": "scatter",
           "x": [
            11
           ],
           "xaxis": "x",
           "y": [
            22
           ],
           "yaxis": "y"
          },
          {
           "hovertemplate": "bird=8<br>time=14<br>x=%{x}<br>y=%{y}<extra></extra>",
           "legendgroup": "8",
           "marker": {
            "color": "#B6E880",
            "line": {
             "width": 3
            },
            "opacity": 0.8,
            "size": 14,
            "symbol": "square"
           },
           "mode": "markers",
           "name": "8",
           "orientation": "v",
           "showlegend": true,
           "type": "scatter",
           "x": [
            15
           ],
           "xaxis": "x",
           "y": [
            8
           ],
           "yaxis": "y"
          },
          {
           "hovertemplate": "bird=9<br>time=14<br>x=%{x}<br>y=%{y}<extra></extra>",
           "legendgroup": "9",
           "marker": {
            "color": "#FF97FF",
            "line": {
             "width": 3
            },
            "opacity": 0.8,
            "size": 14,
            "symbol": "square"
           },
           "mode": "markers",
           "name": "9",
           "orientation": "v",
           "showlegend": true,
           "type": "scatter",
           "x": [
            6
           ],
           "xaxis": "x",
           "y": [
            23
           ],
           "yaxis": "y"
          },
          {
           "hovertemplate": "bird=reward<br>time=14<br>x=%{x}<br>y=%{y}<extra></extra>",
           "legendgroup": "reward",
           "marker": {
            "color": "yellow",
            "symbol": "square"
           },
           "mode": "markers",
           "name": "reward",
           "orientation": "v",
           "showlegend": false,
           "type": "scatter",
           "x": [
            16,
            17,
            18,
            15,
            16,
            17,
            15,
            16,
            17,
            18,
            15,
            16,
            17,
            18
           ],
           "xaxis": "x",
           "y": [
            8,
            8,
            8,
            9,
            9,
            9,
            10,
            10,
            10,
            10,
            11,
            11,
            11,
            11
           ],
           "yaxis": "y"
          }
         ],
         "name": "14"
        },
        {
         "data": [
          {
           "hovertemplate": "bird=1<br>time=15<br>x=%{x}<br>y=%{y}<extra></extra>",
           "legendgroup": "1",
           "marker": {
            "color": "#636efa",
            "line": {
             "width": 3
            },
            "opacity": 0.8,
            "size": 14,
            "symbol": "square"
           },
           "mode": "markers",
           "name": "1",
           "orientation": "v",
           "showlegend": true,
           "type": "scatter",
           "x": [
            18
           ],
           "xaxis": "x",
           "y": [
            9
           ],
           "yaxis": "y"
          },
          {
           "hovertemplate": "bird=2<br>time=15<br>x=%{x}<br>y=%{y}<extra></extra>",
           "legendgroup": "2",
           "marker": {
            "color": "#EF553B",
            "line": {
             "width": 3
            },
            "opacity": 0.8,
            "size": 14,
            "symbol": "square"
           },
           "mode": "markers",
           "name": "2",
           "orientation": "v",
           "showlegend": true,
           "type": "scatter",
           "x": [
            18
           ],
           "xaxis": "x",
           "y": [
            9
           ],
           "yaxis": "y"
          },
          {
           "hovertemplate": "bird=3<br>time=15<br>x=%{x}<br>y=%{y}<extra></extra>",
           "legendgroup": "3",
           "marker": {
            "color": "#00cc96",
            "line": {
             "width": 3
            },
            "opacity": 0.8,
            "size": 14,
            "symbol": "square"
           },
           "mode": "markers",
           "name": "3",
           "orientation": "v",
           "showlegend": true,
           "type": "scatter",
           "x": [
            18
           ],
           "xaxis": "x",
           "y": [
            9
           ],
           "yaxis": "y"
          },
          {
           "hovertemplate": "bird=4<br>time=15<br>x=%{x}<br>y=%{y}<extra></extra>",
           "legendgroup": "4",
           "marker": {
            "color": "#ab63fa",
            "line": {
             "width": 3
            },
            "opacity": 0.8,
            "size": 14,
            "symbol": "square"
           },
           "mode": "markers",
           "name": "4",
           "orientation": "v",
           "showlegend": true,
           "type": "scatter",
           "x": [
            5
           ],
           "xaxis": "x",
           "y": [
            27
           ],
           "yaxis": "y"
          },
          {
           "hovertemplate": "bird=5<br>time=15<br>x=%{x}<br>y=%{y}<extra></extra>",
           "legendgroup": "5",
           "marker": {
            "color": "#FFA15A",
            "line": {
             "width": 3
            },
            "opacity": 0.8,
            "size": 14,
            "symbol": "square"
           },
           "mode": "markers",
           "name": "5",
           "orientation": "v",
           "showlegend": true,
           "type": "scatter",
           "x": [
            19
           ],
           "xaxis": "x",
           "y": [
            16
           ],
           "yaxis": "y"
          },
          {
           "hovertemplate": "bird=6<br>time=15<br>x=%{x}<br>y=%{y}<extra></extra>",
           "legendgroup": "6",
           "marker": {
            "color": "#19d3f3",
            "line": {
             "width": 3
            },
            "opacity": 0.8,
            "size": 14,
            "symbol": "square"
           },
           "mode": "markers",
           "name": "6",
           "orientation": "v",
           "showlegend": true,
           "type": "scatter",
           "x": [
            15
           ],
           "xaxis": "x",
           "y": [
            8
           ],
           "yaxis": "y"
          },
          {
           "hovertemplate": "bird=7<br>time=15<br>x=%{x}<br>y=%{y}<extra></extra>",
           "legendgroup": "7",
           "marker": {
            "color": "#FF6692",
            "line": {
             "width": 3
            },
            "opacity": 0.8,
            "size": 14,
            "symbol": "square"
           },
           "mode": "markers",
           "name": "7",
           "orientation": "v",
           "showlegend": true,
           "type": "scatter",
           "x": [
            8
           ],
           "xaxis": "x",
           "y": [
            22
           ],
           "yaxis": "y"
          },
          {
           "hovertemplate": "bird=8<br>time=15<br>x=%{x}<br>y=%{y}<extra></extra>",
           "legendgroup": "8",
           "marker": {
            "color": "#B6E880",
            "line": {
             "width": 3
            },
            "opacity": 0.8,
            "size": 14,
            "symbol": "square"
           },
           "mode": "markers",
           "name": "8",
           "orientation": "v",
           "showlegend": true,
           "type": "scatter",
           "x": [
            15
           ],
           "xaxis": "x",
           "y": [
            8
           ],
           "yaxis": "y"
          },
          {
           "hovertemplate": "bird=9<br>time=15<br>x=%{x}<br>y=%{y}<extra></extra>",
           "legendgroup": "9",
           "marker": {
            "color": "#FF97FF",
            "line": {
             "width": 3
            },
            "opacity": 0.8,
            "size": 14,
            "symbol": "square"
           },
           "mode": "markers",
           "name": "9",
           "orientation": "v",
           "showlegend": true,
           "type": "scatter",
           "x": [
            8
           ],
           "xaxis": "x",
           "y": [
            25
           ],
           "yaxis": "y"
          },
          {
           "hovertemplate": "bird=reward<br>time=15<br>x=%{x}<br>y=%{y}<extra></extra>",
           "legendgroup": "reward",
           "marker": {
            "color": "yellow",
            "symbol": "square"
           },
           "mode": "markers",
           "name": "reward",
           "orientation": "v",
           "showlegend": false,
           "type": "scatter",
           "x": [
            16,
            17,
            18,
            15,
            16,
            17,
            15,
            16,
            17,
            18,
            15,
            16,
            17,
            18
           ],
           "xaxis": "x",
           "y": [
            8,
            8,
            8,
            9,
            9,
            9,
            10,
            10,
            10,
            10,
            11,
            11,
            11,
            11
           ],
           "yaxis": "y"
          }
         ],
         "name": "15"
        },
        {
         "data": [
          {
           "hovertemplate": "bird=1<br>time=16<br>x=%{x}<br>y=%{y}<extra></extra>",
           "legendgroup": "1",
           "marker": {
            "color": "#636efa",
            "line": {
             "width": 3
            },
            "opacity": 0.8,
            "size": 14,
            "symbol": "square"
           },
           "mode": "markers",
           "name": "1",
           "orientation": "v",
           "showlegend": true,
           "type": "scatter",
           "x": [
            18
           ],
           "xaxis": "x",
           "y": [
            9
           ],
           "yaxis": "y"
          },
          {
           "hovertemplate": "bird=2<br>time=16<br>x=%{x}<br>y=%{y}<extra></extra>",
           "legendgroup": "2",
           "marker": {
            "color": "#EF553B",
            "line": {
             "width": 3
            },
            "opacity": 0.8,
            "size": 14,
            "symbol": "square"
           },
           "mode": "markers",
           "name": "2",
           "orientation": "v",
           "showlegend": true,
           "type": "scatter",
           "x": [
            18
           ],
           "xaxis": "x",
           "y": [
            9
           ],
           "yaxis": "y"
          },
          {
           "hovertemplate": "bird=3<br>time=16<br>x=%{x}<br>y=%{y}<extra></extra>",
           "legendgroup": "3",
           "marker": {
            "color": "#00cc96",
            "line": {
             "width": 3
            },
            "opacity": 0.8,
            "size": 14,
            "symbol": "square"
           },
           "mode": "markers",
           "name": "3",
           "orientation": "v",
           "showlegend": true,
           "type": "scatter",
           "x": [
            18
           ],
           "xaxis": "x",
           "y": [
            9
           ],
           "yaxis": "y"
          },
          {
           "hovertemplate": "bird=4<br>time=16<br>x=%{x}<br>y=%{y}<extra></extra>",
           "legendgroup": "4",
           "marker": {
            "color": "#ab63fa",
            "line": {
             "width": 3
            },
            "opacity": 0.8,
            "size": 14,
            "symbol": "square"
           },
           "mode": "markers",
           "name": "4",
           "orientation": "v",
           "showlegend": true,
           "type": "scatter",
           "x": [
            4
           ],
           "xaxis": "x",
           "y": [
            27
           ],
           "yaxis": "y"
          },
          {
           "hovertemplate": "bird=5<br>time=16<br>x=%{x}<br>y=%{y}<extra></extra>",
           "legendgroup": "5",
           "marker": {
            "color": "#FFA15A",
            "line": {
             "width": 3
            },
            "opacity": 0.8,
            "size": 14,
            "symbol": "square"
           },
           "mode": "markers",
           "name": "5",
           "orientation": "v",
           "showlegend": true,
           "type": "scatter",
           "x": [
            20
           ],
           "xaxis": "x",
           "y": [
            14
           ],
           "yaxis": "y"
          },
          {
           "hovertemplate": "bird=6<br>time=16<br>x=%{x}<br>y=%{y}<extra></extra>",
           "legendgroup": "6",
           "marker": {
            "color": "#19d3f3",
            "line": {
             "width": 3
            },
            "opacity": 0.8,
            "size": 14,
            "symbol": "square"
           },
           "mode": "markers",
           "name": "6",
           "orientation": "v",
           "showlegend": true,
           "type": "scatter",
           "x": [
            15
           ],
           "xaxis": "x",
           "y": [
            8
           ],
           "yaxis": "y"
          },
          {
           "hovertemplate": "bird=7<br>time=16<br>x=%{x}<br>y=%{y}<extra></extra>",
           "legendgroup": "7",
           "marker": {
            "color": "#FF6692",
            "line": {
             "width": 3
            },
            "opacity": 0.8,
            "size": 14,
            "symbol": "square"
           },
           "mode": "markers",
           "name": "7",
           "orientation": "v",
           "showlegend": true,
           "type": "scatter",
           "x": [
            7
           ],
           "xaxis": "x",
           "y": [
            20
           ],
           "yaxis": "y"
          },
          {
           "hovertemplate": "bird=8<br>time=16<br>x=%{x}<br>y=%{y}<extra></extra>",
           "legendgroup": "8",
           "marker": {
            "color": "#B6E880",
            "line": {
             "width": 3
            },
            "opacity": 0.8,
            "size": 14,
            "symbol": "square"
           },
           "mode": "markers",
           "name": "8",
           "orientation": "v",
           "showlegend": true,
           "type": "scatter",
           "x": [
            15
           ],
           "xaxis": "x",
           "y": [
            8
           ],
           "yaxis": "y"
          },
          {
           "hovertemplate": "bird=9<br>time=16<br>x=%{x}<br>y=%{y}<extra></extra>",
           "legendgroup": "9",
           "marker": {
            "color": "#FF97FF",
            "line": {
             "width": 3
            },
            "opacity": 0.8,
            "size": 14,
            "symbol": "square"
           },
           "mode": "markers",
           "name": "9",
           "orientation": "v",
           "showlegend": true,
           "type": "scatter",
           "x": [
            6
           ],
           "xaxis": "x",
           "y": [
            25
           ],
           "yaxis": "y"
          },
          {
           "hovertemplate": "bird=reward<br>time=16<br>x=%{x}<br>y=%{y}<extra></extra>",
           "legendgroup": "reward",
           "marker": {
            "color": "yellow",
            "symbol": "square"
           },
           "mode": "markers",
           "name": "reward",
           "orientation": "v",
           "showlegend": false,
           "type": "scatter",
           "x": [
            16,
            17,
            18,
            15,
            16,
            17,
            15,
            16,
            17,
            18,
            15,
            16,
            17,
            18
           ],
           "xaxis": "x",
           "y": [
            8,
            8,
            8,
            9,
            9,
            9,
            10,
            10,
            10,
            10,
            11,
            11,
            11,
            11
           ],
           "yaxis": "y"
          }
         ],
         "name": "16"
        },
        {
         "data": [
          {
           "hovertemplate": "bird=1<br>time=17<br>x=%{x}<br>y=%{y}<extra></extra>",
           "legendgroup": "1",
           "marker": {
            "color": "#636efa",
            "line": {
             "width": 3
            },
            "opacity": 0.8,
            "size": 14,
            "symbol": "square"
           },
           "mode": "markers",
           "name": "1",
           "orientation": "v",
           "showlegend": true,
           "type": "scatter",
           "x": [
            18
           ],
           "xaxis": "x",
           "y": [
            9
           ],
           "yaxis": "y"
          },
          {
           "hovertemplate": "bird=2<br>time=17<br>x=%{x}<br>y=%{y}<extra></extra>",
           "legendgroup": "2",
           "marker": {
            "color": "#EF553B",
            "line": {
             "width": 3
            },
            "opacity": 0.8,
            "size": 14,
            "symbol": "square"
           },
           "mode": "markers",
           "name": "2",
           "orientation": "v",
           "showlegend": true,
           "type": "scatter",
           "x": [
            18
           ],
           "xaxis": "x",
           "y": [
            9
           ],
           "yaxis": "y"
          },
          {
           "hovertemplate": "bird=3<br>time=17<br>x=%{x}<br>y=%{y}<extra></extra>",
           "legendgroup": "3",
           "marker": {
            "color": "#00cc96",
            "line": {
             "width": 3
            },
            "opacity": 0.8,
            "size": 14,
            "symbol": "square"
           },
           "mode": "markers",
           "name": "3",
           "orientation": "v",
           "showlegend": true,
           "type": "scatter",
           "x": [
            18
           ],
           "xaxis": "x",
           "y": [
            9
           ],
           "yaxis": "y"
          },
          {
           "hovertemplate": "bird=4<br>time=17<br>x=%{x}<br>y=%{y}<extra></extra>",
           "legendgroup": "4",
           "marker": {
            "color": "#ab63fa",
            "line": {
             "width": 3
            },
            "opacity": 0.8,
            "size": 14,
            "symbol": "square"
           },
           "mode": "markers",
           "name": "4",
           "orientation": "v",
           "showlegend": true,
           "type": "scatter",
           "x": [
            4
           ],
           "xaxis": "x",
           "y": [
            27
           ],
           "yaxis": "y"
          },
          {
           "hovertemplate": "bird=5<br>time=17<br>x=%{x}<br>y=%{y}<extra></extra>",
           "legendgroup": "5",
           "marker": {
            "color": "#FFA15A",
            "line": {
             "width": 3
            },
            "opacity": 0.8,
            "size": 14,
            "symbol": "square"
           },
           "mode": "markers",
           "name": "5",
           "orientation": "v",
           "showlegend": true,
           "type": "scatter",
           "x": [
            18
           ],
           "xaxis": "x",
           "y": [
            12
           ],
           "yaxis": "y"
          },
          {
           "hovertemplate": "bird=6<br>time=17<br>x=%{x}<br>y=%{y}<extra></extra>",
           "legendgroup": "6",
           "marker": {
            "color": "#19d3f3",
            "line": {
             "width": 3
            },
            "opacity": 0.8,
            "size": 14,
            "symbol": "square"
           },
           "mode": "markers",
           "name": "6",
           "orientation": "v",
           "showlegend": true,
           "type": "scatter",
           "x": [
            15
           ],
           "xaxis": "x",
           "y": [
            8
           ],
           "yaxis": "y"
          },
          {
           "hovertemplate": "bird=7<br>time=17<br>x=%{x}<br>y=%{y}<extra></extra>",
           "legendgroup": "7",
           "marker": {
            "color": "#FF6692",
            "line": {
             "width": 3
            },
            "opacity": 0.8,
            "size": 14,
            "symbol": "square"
           },
           "mode": "markers",
           "name": "7",
           "orientation": "v",
           "showlegend": true,
           "type": "scatter",
           "x": [
            6
           ],
           "xaxis": "x",
           "y": [
            22
           ],
           "yaxis": "y"
          },
          {
           "hovertemplate": "bird=8<br>time=17<br>x=%{x}<br>y=%{y}<extra></extra>",
           "legendgroup": "8",
           "marker": {
            "color": "#B6E880",
            "line": {
             "width": 3
            },
            "opacity": 0.8,
            "size": 14,
            "symbol": "square"
           },
           "mode": "markers",
           "name": "8",
           "orientation": "v",
           "showlegend": true,
           "type": "scatter",
           "x": [
            15
           ],
           "xaxis": "x",
           "y": [
            8
           ],
           "yaxis": "y"
          },
          {
           "hovertemplate": "bird=9<br>time=17<br>x=%{x}<br>y=%{y}<extra></extra>",
           "legendgroup": "9",
           "marker": {
            "color": "#FF97FF",
            "line": {
             "width": 3
            },
            "opacity": 0.8,
            "size": 14,
            "symbol": "square"
           },
           "mode": "markers",
           "name": "9",
           "orientation": "v",
           "showlegend": true,
           "type": "scatter",
           "x": [
            9
           ],
           "xaxis": "x",
           "y": [
            25
           ],
           "yaxis": "y"
          },
          {
           "hovertemplate": "bird=reward<br>time=17<br>x=%{x}<br>y=%{y}<extra></extra>",
           "legendgroup": "reward",
           "marker": {
            "color": "yellow",
            "symbol": "square"
           },
           "mode": "markers",
           "name": "reward",
           "orientation": "v",
           "showlegend": false,
           "type": "scatter",
           "x": [
            16,
            17,
            18,
            15,
            16,
            17,
            15,
            16,
            17,
            18,
            15,
            16,
            17,
            18
           ],
           "xaxis": "x",
           "y": [
            8,
            8,
            8,
            9,
            9,
            9,
            10,
            10,
            10,
            10,
            11,
            11,
            11,
            11
           ],
           "yaxis": "y"
          }
         ],
         "name": "17"
        },
        {
         "data": [
          {
           "hovertemplate": "bird=1<br>time=18<br>x=%{x}<br>y=%{y}<extra></extra>",
           "legendgroup": "1",
           "marker": {
            "color": "#636efa",
            "line": {
             "width": 3
            },
            "opacity": 0.8,
            "size": 14,
            "symbol": "square"
           },
           "mode": "markers",
           "name": "1",
           "orientation": "v",
           "showlegend": true,
           "type": "scatter",
           "x": [
            18
           ],
           "xaxis": "x",
           "y": [
            9
           ],
           "yaxis": "y"
          },
          {
           "hovertemplate": "bird=2<br>time=18<br>x=%{x}<br>y=%{y}<extra></extra>",
           "legendgroup": "2",
           "marker": {
            "color": "#EF553B",
            "line": {
             "width": 3
            },
            "opacity": 0.8,
            "size": 14,
            "symbol": "square"
           },
           "mode": "markers",
           "name": "2",
           "orientation": "v",
           "showlegend": true,
           "type": "scatter",
           "x": [
            18
           ],
           "xaxis": "x",
           "y": [
            9
           ],
           "yaxis": "y"
          },
          {
           "hovertemplate": "bird=3<br>time=18<br>x=%{x}<br>y=%{y}<extra></extra>",
           "legendgroup": "3",
           "marker": {
            "color": "#00cc96",
            "line": {
             "width": 3
            },
            "opacity": 0.8,
            "size": 14,
            "symbol": "square"
           },
           "mode": "markers",
           "name": "3",
           "orientation": "v",
           "showlegend": true,
           "type": "scatter",
           "x": [
            18
           ],
           "xaxis": "x",
           "y": [
            9
           ],
           "yaxis": "y"
          },
          {
           "hovertemplate": "bird=4<br>time=18<br>x=%{x}<br>y=%{y}<extra></extra>",
           "legendgroup": "4",
           "marker": {
            "color": "#ab63fa",
            "line": {
             "width": 3
            },
            "opacity": 0.8,
            "size": 14,
            "symbol": "square"
           },
           "mode": "markers",
           "name": "4",
           "orientation": "v",
           "showlegend": true,
           "type": "scatter",
           "x": [
            3
           ],
           "xaxis": "x",
           "y": [
            29
           ],
           "yaxis": "y"
          },
          {
           "hovertemplate": "bird=5<br>time=18<br>x=%{x}<br>y=%{y}<extra></extra>",
           "legendgroup": "5",
           "marker": {
            "color": "#FFA15A",
            "line": {
             "width": 3
            },
            "opacity": 0.8,
            "size": 14,
            "symbol": "square"
           },
           "mode": "markers",
           "name": "5",
           "orientation": "v",
           "showlegend": true,
           "type": "scatter",
           "x": [
            18
           ],
           "xaxis": "x",
           "y": [
            9
           ],
           "yaxis": "y"
          },
          {
           "hovertemplate": "bird=6<br>time=18<br>x=%{x}<br>y=%{y}<extra></extra>",
           "legendgroup": "6",
           "marker": {
            "color": "#19d3f3",
            "line": {
             "width": 3
            },
            "opacity": 0.8,
            "size": 14,
            "symbol": "square"
           },
           "mode": "markers",
           "name": "6",
           "orientation": "v",
           "showlegend": true,
           "type": "scatter",
           "x": [
            15
           ],
           "xaxis": "x",
           "y": [
            8
           ],
           "yaxis": "y"
          },
          {
           "hovertemplate": "bird=7<br>time=18<br>x=%{x}<br>y=%{y}<extra></extra>",
           "legendgroup": "7",
           "marker": {
            "color": "#FF6692",
            "line": {
             "width": 3
            },
            "opacity": 0.8,
            "size": 14,
            "symbol": "square"
           },
           "mode": "markers",
           "name": "7",
           "orientation": "v",
           "showlegend": true,
           "type": "scatter",
           "x": [
            4
           ],
           "xaxis": "x",
           "y": [
            20
           ],
           "yaxis": "y"
          },
          {
           "hovertemplate": "bird=8<br>time=18<br>x=%{x}<br>y=%{y}<extra></extra>",
           "legendgroup": "8",
           "marker": {
            "color": "#B6E880",
            "line": {
             "width": 3
            },
            "opacity": 0.8,
            "size": 14,
            "symbol": "square"
           },
           "mode": "markers",
           "name": "8",
           "orientation": "v",
           "showlegend": true,
           "type": "scatter",
           "x": [
            15
           ],
           "xaxis": "x",
           "y": [
            8
           ],
           "yaxis": "y"
          },
          {
           "hovertemplate": "bird=9<br>time=18<br>x=%{x}<br>y=%{y}<extra></extra>",
           "legendgroup": "9",
           "marker": {
            "color": "#FF97FF",
            "line": {
             "width": 3
            },
            "opacity": 0.8,
            "size": 14,
            "symbol": "square"
           },
           "mode": "markers",
           "name": "9",
           "orientation": "v",
           "showlegend": true,
           "type": "scatter",
           "x": [
            12
           ],
           "xaxis": "x",
           "y": [
            25
           ],
           "yaxis": "y"
          },
          {
           "hovertemplate": "bird=reward<br>time=18<br>x=%{x}<br>y=%{y}<extra></extra>",
           "legendgroup": "reward",
           "marker": {
            "color": "yellow",
            "symbol": "square"
           },
           "mode": "markers",
           "name": "reward",
           "orientation": "v",
           "showlegend": false,
           "type": "scatter",
           "x": [
            16,
            17,
            18,
            15,
            16,
            17,
            15,
            16,
            17,
            18,
            15,
            16,
            17,
            18
           ],
           "xaxis": "x",
           "y": [
            8,
            8,
            8,
            9,
            9,
            9,
            10,
            10,
            10,
            10,
            11,
            11,
            11,
            11
           ],
           "yaxis": "y"
          }
         ],
         "name": "18"
        },
        {
         "data": [
          {
           "hovertemplate": "bird=1<br>time=19<br>x=%{x}<br>y=%{y}<extra></extra>",
           "legendgroup": "1",
           "marker": {
            "color": "#636efa",
            "line": {
             "width": 3
            },
            "opacity": 0.8,
            "size": 14,
            "symbol": "square"
           },
           "mode": "markers",
           "name": "1",
           "orientation": "v",
           "showlegend": true,
           "type": "scatter",
           "x": [
            18
           ],
           "xaxis": "x",
           "y": [
            9
           ],
           "yaxis": "y"
          },
          {
           "hovertemplate": "bird=2<br>time=19<br>x=%{x}<br>y=%{y}<extra></extra>",
           "legendgroup": "2",
           "marker": {
            "color": "#EF553B",
            "line": {
             "width": 3
            },
            "opacity": 0.8,
            "size": 14,
            "symbol": "square"
           },
           "mode": "markers",
           "name": "2",
           "orientation": "v",
           "showlegend": true,
           "type": "scatter",
           "x": [
            18
           ],
           "xaxis": "x",
           "y": [
            9
           ],
           "yaxis": "y"
          },
          {
           "hovertemplate": "bird=3<br>time=19<br>x=%{x}<br>y=%{y}<extra></extra>",
           "legendgroup": "3",
           "marker": {
            "color": "#00cc96",
            "line": {
             "width": 3
            },
            "opacity": 0.8,
            "size": 14,
            "symbol": "square"
           },
           "mode": "markers",
           "name": "3",
           "orientation": "v",
           "showlegend": true,
           "type": "scatter",
           "x": [
            18
           ],
           "xaxis": "x",
           "y": [
            9
           ],
           "yaxis": "y"
          },
          {
           "hovertemplate": "bird=4<br>time=19<br>x=%{x}<br>y=%{y}<extra></extra>",
           "legendgroup": "4",
           "marker": {
            "color": "#ab63fa",
            "line": {
             "width": 3
            },
            "opacity": 0.8,
            "size": 14,
            "symbol": "square"
           },
           "mode": "markers",
           "name": "4",
           "orientation": "v",
           "showlegend": true,
           "type": "scatter",
           "x": [
            1
           ],
           "xaxis": "x",
           "y": [
            29
           ],
           "yaxis": "y"
          },
          {
           "hovertemplate": "bird=5<br>time=19<br>x=%{x}<br>y=%{y}<extra></extra>",
           "legendgroup": "5",
           "marker": {
            "color": "#FFA15A",
            "line": {
             "width": 3
            },
            "opacity": 0.8,
            "size": 14,
            "symbol": "square"
           },
           "mode": "markers",
           "name": "5",
           "orientation": "v",
           "showlegend": true,
           "type": "scatter",
           "x": [
            18
           ],
           "xaxis": "x",
           "y": [
            9
           ],
           "yaxis": "y"
          },
          {
           "hovertemplate": "bird=6<br>time=19<br>x=%{x}<br>y=%{y}<extra></extra>",
           "legendgroup": "6",
           "marker": {
            "color": "#19d3f3",
            "line": {
             "width": 3
            },
            "opacity": 0.8,
            "size": 14,
            "symbol": "square"
           },
           "mode": "markers",
           "name": "6",
           "orientation": "v",
           "showlegend": true,
           "type": "scatter",
           "x": [
            15
           ],
           "xaxis": "x",
           "y": [
            8
           ],
           "yaxis": "y"
          },
          {
           "hovertemplate": "bird=7<br>time=19<br>x=%{x}<br>y=%{y}<extra></extra>",
           "legendgroup": "7",
           "marker": {
            "color": "#FF6692",
            "line": {
             "width": 3
            },
            "opacity": 0.8,
            "size": 14,
            "symbol": "square"
           },
           "mode": "markers",
           "name": "7",
           "orientation": "v",
           "showlegend": true,
           "type": "scatter",
           "x": [
            2
           ],
           "xaxis": "x",
           "y": [
            18
           ],
           "yaxis": "y"
          },
          {
           "hovertemplate": "bird=8<br>time=19<br>x=%{x}<br>y=%{y}<extra></extra>",
           "legendgroup": "8",
           "marker": {
            "color": "#B6E880",
            "line": {
             "width": 3
            },
            "opacity": 0.8,
            "size": 14,
            "symbol": "square"
           },
           "mode": "markers",
           "name": "8",
           "orientation": "v",
           "showlegend": true,
           "type": "scatter",
           "x": [
            15
           ],
           "xaxis": "x",
           "y": [
            8
           ],
           "yaxis": "y"
          },
          {
           "hovertemplate": "bird=9<br>time=19<br>x=%{x}<br>y=%{y}<extra></extra>",
           "legendgroup": "9",
           "marker": {
            "color": "#FF97FF",
            "line": {
             "width": 3
            },
            "opacity": 0.8,
            "size": 14,
            "symbol": "square"
           },
           "mode": "markers",
           "name": "9",
           "orientation": "v",
           "showlegend": true,
           "type": "scatter",
           "x": [
            14
           ],
           "xaxis": "x",
           "y": [
            23
           ],
           "yaxis": "y"
          },
          {
           "hovertemplate": "bird=reward<br>time=19<br>x=%{x}<br>y=%{y}<extra></extra>",
           "legendgroup": "reward",
           "marker": {
            "color": "yellow",
            "symbol": "square"
           },
           "mode": "markers",
           "name": "reward",
           "orientation": "v",
           "showlegend": false,
           "type": "scatter",
           "x": [
            16,
            17,
            18,
            15,
            16,
            17,
            15,
            16,
            17,
            18,
            15,
            16,
            17,
            18
           ],
           "xaxis": "x",
           "y": [
            8,
            8,
            8,
            9,
            9,
            9,
            10,
            10,
            10,
            10,
            11,
            11,
            11,
            11
           ],
           "yaxis": "y"
          }
         ],
         "name": "19"
        },
        {
         "data": [
          {
           "hovertemplate": "bird=1<br>time=20<br>x=%{x}<br>y=%{y}<extra></extra>",
           "legendgroup": "1",
           "marker": {
            "color": "#636efa",
            "line": {
             "width": 3
            },
            "opacity": 0.8,
            "size": 14,
            "symbol": "square"
           },
           "mode": "markers",
           "name": "1",
           "orientation": "v",
           "showlegend": true,
           "type": "scatter",
           "x": [
            18
           ],
           "xaxis": "x",
           "y": [
            9
           ],
           "yaxis": "y"
          },
          {
           "hovertemplate": "bird=2<br>time=20<br>x=%{x}<br>y=%{y}<extra></extra>",
           "legendgroup": "2",
           "marker": {
            "color": "#EF553B",
            "line": {
             "width": 3
            },
            "opacity": 0.8,
            "size": 14,
            "symbol": "square"
           },
           "mode": "markers",
           "name": "2",
           "orientation": "v",
           "showlegend": true,
           "type": "scatter",
           "x": [
            18
           ],
           "xaxis": "x",
           "y": [
            9
           ],
           "yaxis": "y"
          },
          {
           "hovertemplate": "bird=3<br>time=20<br>x=%{x}<br>y=%{y}<extra></extra>",
           "legendgroup": "3",
           "marker": {
            "color": "#00cc96",
            "line": {
             "width": 3
            },
            "opacity": 0.8,
            "size": 14,
            "symbol": "square"
           },
           "mode": "markers",
           "name": "3",
           "orientation": "v",
           "showlegend": true,
           "type": "scatter",
           "x": [
            18
           ],
           "xaxis": "x",
           "y": [
            9
           ],
           "yaxis": "y"
          },
          {
           "hovertemplate": "bird=4<br>time=20<br>x=%{x}<br>y=%{y}<extra></extra>",
           "legendgroup": "4",
           "marker": {
            "color": "#ab63fa",
            "line": {
             "width": 3
            },
            "opacity": 0.8,
            "size": 14,
            "symbol": "square"
           },
           "mode": "markers",
           "name": "4",
           "orientation": "v",
           "showlegend": true,
           "type": "scatter",
           "x": [
            2
           ],
           "xaxis": "x",
           "y": [
            28
           ],
           "yaxis": "y"
          },
          {
           "hovertemplate": "bird=5<br>time=20<br>x=%{x}<br>y=%{y}<extra></extra>",
           "legendgroup": "5",
           "marker": {
            "color": "#FFA15A",
            "line": {
             "width": 3
            },
            "opacity": 0.8,
            "size": 14,
            "symbol": "square"
           },
           "mode": "markers",
           "name": "5",
           "orientation": "v",
           "showlegend": true,
           "type": "scatter",
           "x": [
            18
           ],
           "xaxis": "x",
           "y": [
            9
           ],
           "yaxis": "y"
          },
          {
           "hovertemplate": "bird=6<br>time=20<br>x=%{x}<br>y=%{y}<extra></extra>",
           "legendgroup": "6",
           "marker": {
            "color": "#19d3f3",
            "line": {
             "width": 3
            },
            "opacity": 0.8,
            "size": 14,
            "symbol": "square"
           },
           "mode": "markers",
           "name": "6",
           "orientation": "v",
           "showlegend": true,
           "type": "scatter",
           "x": [
            15
           ],
           "xaxis": "x",
           "y": [
            8
           ],
           "yaxis": "y"
          },
          {
           "hovertemplate": "bird=7<br>time=20<br>x=%{x}<br>y=%{y}<extra></extra>",
           "legendgroup": "7",
           "marker": {
            "color": "#FF6692",
            "line": {
             "width": 3
            },
            "opacity": 0.8,
            "size": 14,
            "symbol": "square"
           },
           "mode": "markers",
           "name": "7",
           "orientation": "v",
           "showlegend": true,
           "type": "scatter",
           "x": [
            1
           ],
           "xaxis": "x",
           "y": [
            20
           ],
           "yaxis": "y"
          },
          {
           "hovertemplate": "bird=8<br>time=20<br>x=%{x}<br>y=%{y}<extra></extra>",
           "legendgroup": "8",
           "marker": {
            "color": "#B6E880",
            "line": {
             "width": 3
            },
            "opacity": 0.8,
            "size": 14,
            "symbol": "square"
           },
           "mode": "markers",
           "name": "8",
           "orientation": "v",
           "showlegend": true,
           "type": "scatter",
           "x": [
            15
           ],
           "xaxis": "x",
           "y": [
            8
           ],
           "yaxis": "y"
          },
          {
           "hovertemplate": "bird=9<br>time=20<br>x=%{x}<br>y=%{y}<extra></extra>",
           "legendgroup": "9",
           "marker": {
            "color": "#FF97FF",
            "line": {
             "width": 3
            },
            "opacity": 0.8,
            "size": 14,
            "symbol": "square"
           },
           "mode": "markers",
           "name": "9",
           "orientation": "v",
           "showlegend": true,
           "type": "scatter",
           "x": [
            15
           ],
           "xaxis": "x",
           "y": [
            24
           ],
           "yaxis": "y"
          },
          {
           "hovertemplate": "bird=reward<br>time=20<br>x=%{x}<br>y=%{y}<extra></extra>",
           "legendgroup": "reward",
           "marker": {
            "color": "yellow",
            "symbol": "square"
           },
           "mode": "markers",
           "name": "reward",
           "orientation": "v",
           "showlegend": false,
           "type": "scatter",
           "x": [
            16,
            17,
            18,
            15,
            16,
            17,
            15,
            16,
            17,
            18,
            15,
            16,
            17,
            18
           ],
           "xaxis": "x",
           "y": [
            8,
            8,
            8,
            9,
            9,
            9,
            10,
            10,
            10,
            10,
            11,
            11,
            11,
            11
           ],
           "yaxis": "y"
          }
         ],
         "name": "20"
        },
        {
         "data": [
          {
           "hovertemplate": "bird=1<br>time=21<br>x=%{x}<br>y=%{y}<extra></extra>",
           "legendgroup": "1",
           "marker": {
            "color": "#636efa",
            "line": {
             "width": 3
            },
            "opacity": 0.8,
            "size": 14,
            "symbol": "square"
           },
           "mode": "markers",
           "name": "1",
           "orientation": "v",
           "showlegend": true,
           "type": "scatter",
           "x": [
            18
           ],
           "xaxis": "x",
           "y": [
            9
           ],
           "yaxis": "y"
          },
          {
           "hovertemplate": "bird=2<br>time=21<br>x=%{x}<br>y=%{y}<extra></extra>",
           "legendgroup": "2",
           "marker": {
            "color": "#EF553B",
            "line": {
             "width": 3
            },
            "opacity": 0.8,
            "size": 14,
            "symbol": "square"
           },
           "mode": "markers",
           "name": "2",
           "orientation": "v",
           "showlegend": true,
           "type": "scatter",
           "x": [
            18
           ],
           "xaxis": "x",
           "y": [
            9
           ],
           "yaxis": "y"
          },
          {
           "hovertemplate": "bird=3<br>time=21<br>x=%{x}<br>y=%{y}<extra></extra>",
           "legendgroup": "3",
           "marker": {
            "color": "#00cc96",
            "line": {
             "width": 3
            },
            "opacity": 0.8,
            "size": 14,
            "symbol": "square"
           },
           "mode": "markers",
           "name": "3",
           "orientation": "v",
           "showlegend": true,
           "type": "scatter",
           "x": [
            18
           ],
           "xaxis": "x",
           "y": [
            9
           ],
           "yaxis": "y"
          },
          {
           "hovertemplate": "bird=4<br>time=21<br>x=%{x}<br>y=%{y}<extra></extra>",
           "legendgroup": "4",
           "marker": {
            "color": "#ab63fa",
            "line": {
             "width": 3
            },
            "opacity": 0.8,
            "size": 14,
            "symbol": "square"
           },
           "mode": "markers",
           "name": "4",
           "orientation": "v",
           "showlegend": true,
           "type": "scatter",
           "x": [
            3
           ],
           "xaxis": "x",
           "y": [
            27
           ],
           "yaxis": "y"
          },
          {
           "hovertemplate": "bird=5<br>time=21<br>x=%{x}<br>y=%{y}<extra></extra>",
           "legendgroup": "5",
           "marker": {
            "color": "#FFA15A",
            "line": {
             "width": 3
            },
            "opacity": 0.8,
            "size": 14,
            "symbol": "square"
           },
           "mode": "markers",
           "name": "5",
           "orientation": "v",
           "showlegend": true,
           "type": "scatter",
           "x": [
            18
           ],
           "xaxis": "x",
           "y": [
            9
           ],
           "yaxis": "y"
          },
          {
           "hovertemplate": "bird=6<br>time=21<br>x=%{x}<br>y=%{y}<extra></extra>",
           "legendgroup": "6",
           "marker": {
            "color": "#19d3f3",
            "line": {
             "width": 3
            },
            "opacity": 0.8,
            "size": 14,
            "symbol": "square"
           },
           "mode": "markers",
           "name": "6",
           "orientation": "v",
           "showlegend": true,
           "type": "scatter",
           "x": [
            15
           ],
           "xaxis": "x",
           "y": [
            8
           ],
           "yaxis": "y"
          },
          {
           "hovertemplate": "bird=7<br>time=21<br>x=%{x}<br>y=%{y}<extra></extra>",
           "legendgroup": "7",
           "marker": {
            "color": "#FF6692",
            "line": {
             "width": 3
            },
            "opacity": 0.8,
            "size": 14,
            "symbol": "square"
           },
           "mode": "markers",
           "name": "7",
           "orientation": "v",
           "showlegend": true,
           "type": "scatter",
           "x": [
            0
           ],
           "xaxis": "x",
           "y": [
            22
           ],
           "yaxis": "y"
          },
          {
           "hovertemplate": "bird=8<br>time=21<br>x=%{x}<br>y=%{y}<extra></extra>",
           "legendgroup": "8",
           "marker": {
            "color": "#B6E880",
            "line": {
             "width": 3
            },
            "opacity": 0.8,
            "size": 14,
            "symbol": "square"
           },
           "mode": "markers",
           "name": "8",
           "orientation": "v",
           "showlegend": true,
           "type": "scatter",
           "x": [
            15
           ],
           "xaxis": "x",
           "y": [
            8
           ],
           "yaxis": "y"
          },
          {
           "hovertemplate": "bird=9<br>time=21<br>x=%{x}<br>y=%{y}<extra></extra>",
           "legendgroup": "9",
           "marker": {
            "color": "#FF97FF",
            "line": {
             "width": 3
            },
            "opacity": 0.8,
            "size": 14,
            "symbol": "square"
           },
           "mode": "markers",
           "name": "9",
           "orientation": "v",
           "showlegend": true,
           "type": "scatter",
           "x": [
            15
           ],
           "xaxis": "x",
           "y": [
            27
           ],
           "yaxis": "y"
          },
          {
           "hovertemplate": "bird=reward<br>time=21<br>x=%{x}<br>y=%{y}<extra></extra>",
           "legendgroup": "reward",
           "marker": {
            "color": "yellow",
            "symbol": "square"
           },
           "mode": "markers",
           "name": "reward",
           "orientation": "v",
           "showlegend": false,
           "type": "scatter",
           "x": [
            16,
            17,
            18,
            15,
            16,
            17,
            15,
            16,
            17,
            18,
            15,
            16,
            17,
            18
           ],
           "xaxis": "x",
           "y": [
            8,
            8,
            8,
            9,
            9,
            9,
            10,
            10,
            10,
            10,
            11,
            11,
            11,
            11
           ],
           "yaxis": "y"
          }
         ],
         "name": "21"
        },
        {
         "data": [
          {
           "hovertemplate": "bird=1<br>time=22<br>x=%{x}<br>y=%{y}<extra></extra>",
           "legendgroup": "1",
           "marker": {
            "color": "#636efa",
            "line": {
             "width": 3
            },
            "opacity": 0.8,
            "size": 14,
            "symbol": "square"
           },
           "mode": "markers",
           "name": "1",
           "orientation": "v",
           "showlegend": true,
           "type": "scatter",
           "x": [
            18
           ],
           "xaxis": "x",
           "y": [
            9
           ],
           "yaxis": "y"
          },
          {
           "hovertemplate": "bird=2<br>time=22<br>x=%{x}<br>y=%{y}<extra></extra>",
           "legendgroup": "2",
           "marker": {
            "color": "#EF553B",
            "line": {
             "width": 3
            },
            "opacity": 0.8,
            "size": 14,
            "symbol": "square"
           },
           "mode": "markers",
           "name": "2",
           "orientation": "v",
           "showlegend": true,
           "type": "scatter",
           "x": [
            18
           ],
           "xaxis": "x",
           "y": [
            9
           ],
           "yaxis": "y"
          },
          {
           "hovertemplate": "bird=3<br>time=22<br>x=%{x}<br>y=%{y}<extra></extra>",
           "legendgroup": "3",
           "marker": {
            "color": "#00cc96",
            "line": {
             "width": 3
            },
            "opacity": 0.8,
            "size": 14,
            "symbol": "square"
           },
           "mode": "markers",
           "name": "3",
           "orientation": "v",
           "showlegend": true,
           "type": "scatter",
           "x": [
            18
           ],
           "xaxis": "x",
           "y": [
            9
           ],
           "yaxis": "y"
          },
          {
           "hovertemplate": "bird=4<br>time=22<br>x=%{x}<br>y=%{y}<extra></extra>",
           "legendgroup": "4",
           "marker": {
            "color": "#ab63fa",
            "line": {
             "width": 3
            },
            "opacity": 0.8,
            "size": 14,
            "symbol": "square"
           },
           "mode": "markers",
           "name": "4",
           "orientation": "v",
           "showlegend": true,
           "type": "scatter",
           "x": [
            2
           ],
           "xaxis": "x",
           "y": [
            28
           ],
           "yaxis": "y"
          },
          {
           "hovertemplate": "bird=5<br>time=22<br>x=%{x}<br>y=%{y}<extra></extra>",
           "legendgroup": "5",
           "marker": {
            "color": "#FFA15A",
            "line": {
             "width": 3
            },
            "opacity": 0.8,
            "size": 14,
            "symbol": "square"
           },
           "mode": "markers",
           "name": "5",
           "orientation": "v",
           "showlegend": true,
           "type": "scatter",
           "x": [
            18
           ],
           "xaxis": "x",
           "y": [
            9
           ],
           "yaxis": "y"
          },
          {
           "hovertemplate": "bird=6<br>time=22<br>x=%{x}<br>y=%{y}<extra></extra>",
           "legendgroup": "6",
           "marker": {
            "color": "#19d3f3",
            "line": {
             "width": 3
            },
            "opacity": 0.8,
            "size": 14,
            "symbol": "square"
           },
           "mode": "markers",
           "name": "6",
           "orientation": "v",
           "showlegend": true,
           "type": "scatter",
           "x": [
            15
           ],
           "xaxis": "x",
           "y": [
            8
           ],
           "yaxis": "y"
          },
          {
           "hovertemplate": "bird=7<br>time=22<br>x=%{x}<br>y=%{y}<extra></extra>",
           "legendgroup": "7",
           "marker": {
            "color": "#FF6692",
            "line": {
             "width": 3
            },
            "opacity": 0.8,
            "size": 14,
            "symbol": "square"
           },
           "mode": "markers",
           "name": "7",
           "orientation": "v",
           "showlegend": true,
           "type": "scatter",
           "x": [
            0
           ],
           "xaxis": "x",
           "y": [
            22
           ],
           "yaxis": "y"
          },
          {
           "hovertemplate": "bird=8<br>time=22<br>x=%{x}<br>y=%{y}<extra></extra>",
           "legendgroup": "8",
           "marker": {
            "color": "#B6E880",
            "line": {
             "width": 3
            },
            "opacity": 0.8,
            "size": 14,
            "symbol": "square"
           },
           "mode": "markers",
           "name": "8",
           "orientation": "v",
           "showlegend": true,
           "type": "scatter",
           "x": [
            15
           ],
           "xaxis": "x",
           "y": [
            8
           ],
           "yaxis": "y"
          },
          {
           "hovertemplate": "bird=9<br>time=22<br>x=%{x}<br>y=%{y}<extra></extra>",
           "legendgroup": "9",
           "marker": {
            "color": "#FF97FF",
            "line": {
             "width": 3
            },
            "opacity": 0.8,
            "size": 14,
            "symbol": "square"
           },
           "mode": "markers",
           "name": "9",
           "orientation": "v",
           "showlegend": true,
           "type": "scatter",
           "x": [
            17
           ],
           "xaxis": "x",
           "y": [
            28
           ],
           "yaxis": "y"
          },
          {
           "hovertemplate": "bird=reward<br>time=22<br>x=%{x}<br>y=%{y}<extra></extra>",
           "legendgroup": "reward",
           "marker": {
            "color": "yellow",
            "symbol": "square"
           },
           "mode": "markers",
           "name": "reward",
           "orientation": "v",
           "showlegend": false,
           "type": "scatter",
           "x": [
            16,
            17,
            18,
            15,
            16,
            17,
            15,
            16,
            17,
            18,
            15,
            16,
            17,
            18
           ],
           "xaxis": "x",
           "y": [
            8,
            8,
            8,
            9,
            9,
            9,
            10,
            10,
            10,
            10,
            11,
            11,
            11,
            11
           ],
           "yaxis": "y"
          }
         ],
         "name": "22"
        },
        {
         "data": [
          {
           "hovertemplate": "bird=1<br>time=23<br>x=%{x}<br>y=%{y}<extra></extra>",
           "legendgroup": "1",
           "marker": {
            "color": "#636efa",
            "line": {
             "width": 3
            },
            "opacity": 0.8,
            "size": 14,
            "symbol": "square"
           },
           "mode": "markers",
           "name": "1",
           "orientation": "v",
           "showlegend": true,
           "type": "scatter",
           "x": [
            18
           ],
           "xaxis": "x",
           "y": [
            9
           ],
           "yaxis": "y"
          },
          {
           "hovertemplate": "bird=2<br>time=23<br>x=%{x}<br>y=%{y}<extra></extra>",
           "legendgroup": "2",
           "marker": {
            "color": "#EF553B",
            "line": {
             "width": 3
            },
            "opacity": 0.8,
            "size": 14,
            "symbol": "square"
           },
           "mode": "markers",
           "name": "2",
           "orientation": "v",
           "showlegend": true,
           "type": "scatter",
           "x": [
            18
           ],
           "xaxis": "x",
           "y": [
            9
           ],
           "yaxis": "y"
          },
          {
           "hovertemplate": "bird=3<br>time=23<br>x=%{x}<br>y=%{y}<extra></extra>",
           "legendgroup": "3",
           "marker": {
            "color": "#00cc96",
            "line": {
             "width": 3
            },
            "opacity": 0.8,
            "size": 14,
            "symbol": "square"
           },
           "mode": "markers",
           "name": "3",
           "orientation": "v",
           "showlegend": true,
           "type": "scatter",
           "x": [
            18
           ],
           "xaxis": "x",
           "y": [
            9
           ],
           "yaxis": "y"
          },
          {
           "hovertemplate": "bird=4<br>time=23<br>x=%{x}<br>y=%{y}<extra></extra>",
           "legendgroup": "4",
           "marker": {
            "color": "#ab63fa",
            "line": {
             "width": 3
            },
            "opacity": 0.8,
            "size": 14,
            "symbol": "square"
           },
           "mode": "markers",
           "name": "4",
           "orientation": "v",
           "showlegend": true,
           "type": "scatter",
           "x": [
            4
           ],
           "xaxis": "x",
           "y": [
            26
           ],
           "yaxis": "y"
          },
          {
           "hovertemplate": "bird=5<br>time=23<br>x=%{x}<br>y=%{y}<extra></extra>",
           "legendgroup": "5",
           "marker": {
            "color": "#FFA15A",
            "line": {
             "width": 3
            },
            "opacity": 0.8,
            "size": 14,
            "symbol": "square"
           },
           "mode": "markers",
           "name": "5",
           "orientation": "v",
           "showlegend": true,
           "type": "scatter",
           "x": [
            18
           ],
           "xaxis": "x",
           "y": [
            9
           ],
           "yaxis": "y"
          },
          {
           "hovertemplate": "bird=6<br>time=23<br>x=%{x}<br>y=%{y}<extra></extra>",
           "legendgroup": "6",
           "marker": {
            "color": "#19d3f3",
            "line": {
             "width": 3
            },
            "opacity": 0.8,
            "size": 14,
            "symbol": "square"
           },
           "mode": "markers",
           "name": "6",
           "orientation": "v",
           "showlegend": true,
           "type": "scatter",
           "x": [
            15
           ],
           "xaxis": "x",
           "y": [
            8
           ],
           "yaxis": "y"
          },
          {
           "hovertemplate": "bird=7<br>time=23<br>x=%{x}<br>y=%{y}<extra></extra>",
           "legendgroup": "7",
           "marker": {
            "color": "#FF6692",
            "line": {
             "width": 3
            },
            "opacity": 0.8,
            "size": 14,
            "symbol": "square"
           },
           "mode": "markers",
           "name": "7",
           "orientation": "v",
           "showlegend": true,
           "type": "scatter",
           "x": [
            2
           ],
           "xaxis": "x",
           "y": [
            20
           ],
           "yaxis": "y"
          },
          {
           "hovertemplate": "bird=8<br>time=23<br>x=%{x}<br>y=%{y}<extra></extra>",
           "legendgroup": "8",
           "marker": {
            "color": "#B6E880",
            "line": {
             "width": 3
            },
            "opacity": 0.8,
            "size": 14,
            "symbol": "square"
           },
           "mode": "markers",
           "name": "8",
           "orientation": "v",
           "showlegend": true,
           "type": "scatter",
           "x": [
            15
           ],
           "xaxis": "x",
           "y": [
            8
           ],
           "yaxis": "y"
          },
          {
           "hovertemplate": "bird=9<br>time=23<br>x=%{x}<br>y=%{y}<extra></extra>",
           "legendgroup": "9",
           "marker": {
            "color": "#FF97FF",
            "line": {
             "width": 3
            },
            "opacity": 0.8,
            "size": 14,
            "symbol": "square"
           },
           "mode": "markers",
           "name": "9",
           "orientation": "v",
           "showlegend": true,
           "type": "scatter",
           "x": [
            15
           ],
           "xaxis": "x",
           "y": [
            26
           ],
           "yaxis": "y"
          },
          {
           "hovertemplate": "bird=reward<br>time=23<br>x=%{x}<br>y=%{y}<extra></extra>",
           "legendgroup": "reward",
           "marker": {
            "color": "yellow",
            "symbol": "square"
           },
           "mode": "markers",
           "name": "reward",
           "orientation": "v",
           "showlegend": false,
           "type": "scatter",
           "x": [
            16,
            17,
            18,
            15,
            16,
            17,
            15,
            16,
            17,
            18,
            15,
            16,
            17,
            18
           ],
           "xaxis": "x",
           "y": [
            8,
            8,
            8,
            9,
            9,
            9,
            10,
            10,
            10,
            10,
            11,
            11,
            11,
            11
           ],
           "yaxis": "y"
          }
         ],
         "name": "23"
        },
        {
         "data": [
          {
           "hovertemplate": "bird=1<br>time=24<br>x=%{x}<br>y=%{y}<extra></extra>",
           "legendgroup": "1",
           "marker": {
            "color": "#636efa",
            "line": {
             "width": 3
            },
            "opacity": 0.8,
            "size": 14,
            "symbol": "square"
           },
           "mode": "markers",
           "name": "1",
           "orientation": "v",
           "showlegend": true,
           "type": "scatter",
           "x": [
            18
           ],
           "xaxis": "x",
           "y": [
            9
           ],
           "yaxis": "y"
          },
          {
           "hovertemplate": "bird=2<br>time=24<br>x=%{x}<br>y=%{y}<extra></extra>",
           "legendgroup": "2",
           "marker": {
            "color": "#EF553B",
            "line": {
             "width": 3
            },
            "opacity": 0.8,
            "size": 14,
            "symbol": "square"
           },
           "mode": "markers",
           "name": "2",
           "orientation": "v",
           "showlegend": true,
           "type": "scatter",
           "x": [
            18
           ],
           "xaxis": "x",
           "y": [
            9
           ],
           "yaxis": "y"
          },
          {
           "hovertemplate": "bird=3<br>time=24<br>x=%{x}<br>y=%{y}<extra></extra>",
           "legendgroup": "3",
           "marker": {
            "color": "#00cc96",
            "line": {
             "width": 3
            },
            "opacity": 0.8,
            "size": 14,
            "symbol": "square"
           },
           "mode": "markers",
           "name": "3",
           "orientation": "v",
           "showlegend": true,
           "type": "scatter",
           "x": [
            18
           ],
           "xaxis": "x",
           "y": [
            9
           ],
           "yaxis": "y"
          },
          {
           "hovertemplate": "bird=4<br>time=24<br>x=%{x}<br>y=%{y}<extra></extra>",
           "legendgroup": "4",
           "marker": {
            "color": "#ab63fa",
            "line": {
             "width": 3
            },
            "opacity": 0.8,
            "size": 14,
            "symbol": "square"
           },
           "mode": "markers",
           "name": "4",
           "orientation": "v",
           "showlegend": true,
           "type": "scatter",
           "x": [
            5
           ],
           "xaxis": "x",
           "y": [
            27
           ],
           "yaxis": "y"
          },
          {
           "hovertemplate": "bird=5<br>time=24<br>x=%{x}<br>y=%{y}<extra></extra>",
           "legendgroup": "5",
           "marker": {
            "color": "#FFA15A",
            "line": {
             "width": 3
            },
            "opacity": 0.8,
            "size": 14,
            "symbol": "square"
           },
           "mode": "markers",
           "name": "5",
           "orientation": "v",
           "showlegend": true,
           "type": "scatter",
           "x": [
            18
           ],
           "xaxis": "x",
           "y": [
            9
           ],
           "yaxis": "y"
          },
          {
           "hovertemplate": "bird=6<br>time=24<br>x=%{x}<br>y=%{y}<extra></extra>",
           "legendgroup": "6",
           "marker": {
            "color": "#19d3f3",
            "line": {
             "width": 3
            },
            "opacity": 0.8,
            "size": 14,
            "symbol": "square"
           },
           "mode": "markers",
           "name": "6",
           "orientation": "v",
           "showlegend": true,
           "type": "scatter",
           "x": [
            15
           ],
           "xaxis": "x",
           "y": [
            8
           ],
           "yaxis": "y"
          },
          {
           "hovertemplate": "bird=7<br>time=24<br>x=%{x}<br>y=%{y}<extra></extra>",
           "legendgroup": "7",
           "marker": {
            "color": "#FF6692",
            "line": {
             "width": 3
            },
            "opacity": 0.8,
            "size": 14,
            "symbol": "square"
           },
           "mode": "markers",
           "name": "7",
           "orientation": "v",
           "showlegend": true,
           "type": "scatter",
           "x": [
            4
           ],
           "xaxis": "x",
           "y": [
            21
           ],
           "yaxis": "y"
          },
          {
           "hovertemplate": "bird=8<br>time=24<br>x=%{x}<br>y=%{y}<extra></extra>",
           "legendgroup": "8",
           "marker": {
            "color": "#B6E880",
            "line": {
             "width": 3
            },
            "opacity": 0.8,
            "size": 14,
            "symbol": "square"
           },
           "mode": "markers",
           "name": "8",
           "orientation": "v",
           "showlegend": true,
           "type": "scatter",
           "x": [
            15
           ],
           "xaxis": "x",
           "y": [
            8
           ],
           "yaxis": "y"
          },
          {
           "hovertemplate": "bird=9<br>time=24<br>x=%{x}<br>y=%{y}<extra></extra>",
           "legendgroup": "9",
           "marker": {
            "color": "#FF97FF",
            "line": {
             "width": 3
            },
            "opacity": 0.8,
            "size": 14,
            "symbol": "square"
           },
           "mode": "markers",
           "name": "9",
           "orientation": "v",
           "showlegend": true,
           "type": "scatter",
           "x": [
            14
           ],
           "xaxis": "x",
           "y": [
            25
           ],
           "yaxis": "y"
          },
          {
           "hovertemplate": "bird=reward<br>time=24<br>x=%{x}<br>y=%{y}<extra></extra>",
           "legendgroup": "reward",
           "marker": {
            "color": "yellow",
            "symbol": "square"
           },
           "mode": "markers",
           "name": "reward",
           "orientation": "v",
           "showlegend": false,
           "type": "scatter",
           "x": [
            16,
            17,
            18,
            15,
            16,
            17,
            15,
            16,
            17,
            18,
            15,
            16,
            17,
            18
           ],
           "xaxis": "x",
           "y": [
            8,
            8,
            8,
            9,
            9,
            9,
            10,
            10,
            10,
            10,
            11,
            11,
            11,
            11
           ],
           "yaxis": "y"
          }
         ],
         "name": "24"
        },
        {
         "data": [
          {
           "hovertemplate": "bird=1<br>time=25<br>x=%{x}<br>y=%{y}<extra></extra>",
           "legendgroup": "1",
           "marker": {
            "color": "#636efa",
            "line": {
             "width": 3
            },
            "opacity": 0.8,
            "size": 14,
            "symbol": "square"
           },
           "mode": "markers",
           "name": "1",
           "orientation": "v",
           "showlegend": true,
           "type": "scatter",
           "x": [
            18
           ],
           "xaxis": "x",
           "y": [
            9
           ],
           "yaxis": "y"
          },
          {
           "hovertemplate": "bird=2<br>time=25<br>x=%{x}<br>y=%{y}<extra></extra>",
           "legendgroup": "2",
           "marker": {
            "color": "#EF553B",
            "line": {
             "width": 3
            },
            "opacity": 0.8,
            "size": 14,
            "symbol": "square"
           },
           "mode": "markers",
           "name": "2",
           "orientation": "v",
           "showlegend": true,
           "type": "scatter",
           "x": [
            18
           ],
           "xaxis": "x",
           "y": [
            9
           ],
           "yaxis": "y"
          },
          {
           "hovertemplate": "bird=3<br>time=25<br>x=%{x}<br>y=%{y}<extra></extra>",
           "legendgroup": "3",
           "marker": {
            "color": "#00cc96",
            "line": {
             "width": 3
            },
            "opacity": 0.8,
            "size": 14,
            "symbol": "square"
           },
           "mode": "markers",
           "name": "3",
           "orientation": "v",
           "showlegend": true,
           "type": "scatter",
           "x": [
            18
           ],
           "xaxis": "x",
           "y": [
            9
           ],
           "yaxis": "y"
          },
          {
           "hovertemplate": "bird=4<br>time=25<br>x=%{x}<br>y=%{y}<extra></extra>",
           "legendgroup": "4",
           "marker": {
            "color": "#ab63fa",
            "line": {
             "width": 3
            },
            "opacity": 0.8,
            "size": 14,
            "symbol": "square"
           },
           "mode": "markers",
           "name": "4",
           "orientation": "v",
           "showlegend": true,
           "type": "scatter",
           "x": [
            6
           ],
           "xaxis": "x",
           "y": [
            27
           ],
           "yaxis": "y"
          },
          {
           "hovertemplate": "bird=5<br>time=25<br>x=%{x}<br>y=%{y}<extra></extra>",
           "legendgroup": "5",
           "marker": {
            "color": "#FFA15A",
            "line": {
             "width": 3
            },
            "opacity": 0.8,
            "size": 14,
            "symbol": "square"
           },
           "mode": "markers",
           "name": "5",
           "orientation": "v",
           "showlegend": true,
           "type": "scatter",
           "x": [
            18
           ],
           "xaxis": "x",
           "y": [
            9
           ],
           "yaxis": "y"
          },
          {
           "hovertemplate": "bird=6<br>time=25<br>x=%{x}<br>y=%{y}<extra></extra>",
           "legendgroup": "6",
           "marker": {
            "color": "#19d3f3",
            "line": {
             "width": 3
            },
            "opacity": 0.8,
            "size": 14,
            "symbol": "square"
           },
           "mode": "markers",
           "name": "6",
           "orientation": "v",
           "showlegend": true,
           "type": "scatter",
           "x": [
            15
           ],
           "xaxis": "x",
           "y": [
            8
           ],
           "yaxis": "y"
          },
          {
           "hovertemplate": "bird=7<br>time=25<br>x=%{x}<br>y=%{y}<extra></extra>",
           "legendgroup": "7",
           "marker": {
            "color": "#FF6692",
            "line": {
             "width": 3
            },
            "opacity": 0.8,
            "size": 14,
            "symbol": "square"
           },
           "mode": "markers",
           "name": "7",
           "orientation": "v",
           "showlegend": true,
           "type": "scatter",
           "x": [
            2
           ],
           "xaxis": "x",
           "y": [
            20
           ],
           "yaxis": "y"
          },
          {
           "hovertemplate": "bird=8<br>time=25<br>x=%{x}<br>y=%{y}<extra></extra>",
           "legendgroup": "8",
           "marker": {
            "color": "#B6E880",
            "line": {
             "width": 3
            },
            "opacity": 0.8,
            "size": 14,
            "symbol": "square"
           },
           "mode": "markers",
           "name": "8",
           "orientation": "v",
           "showlegend": true,
           "type": "scatter",
           "x": [
            15
           ],
           "xaxis": "x",
           "y": [
            8
           ],
           "yaxis": "y"
          },
          {
           "hovertemplate": "bird=9<br>time=25<br>x=%{x}<br>y=%{y}<extra></extra>",
           "legendgroup": "9",
           "marker": {
            "color": "#FF97FF",
            "line": {
             "width": 3
            },
            "opacity": 0.8,
            "size": 14,
            "symbol": "square"
           },
           "mode": "markers",
           "name": "9",
           "orientation": "v",
           "showlegend": true,
           "type": "scatter",
           "x": [
            14
           ],
           "xaxis": "x",
           "y": [
            25
           ],
           "yaxis": "y"
          },
          {
           "hovertemplate": "bird=reward<br>time=25<br>x=%{x}<br>y=%{y}<extra></extra>",
           "legendgroup": "reward",
           "marker": {
            "color": "yellow",
            "symbol": "square"
           },
           "mode": "markers",
           "name": "reward",
           "orientation": "v",
           "showlegend": false,
           "type": "scatter",
           "x": [
            16,
            17,
            18,
            15,
            16,
            17,
            15,
            16,
            17,
            18,
            15,
            16,
            17,
            18
           ],
           "xaxis": "x",
           "y": [
            8,
            8,
            8,
            9,
            9,
            9,
            10,
            10,
            10,
            10,
            11,
            11,
            11,
            11
           ],
           "yaxis": "y"
          }
         ],
         "name": "25"
        },
        {
         "data": [
          {
           "hovertemplate": "bird=1<br>time=26<br>x=%{x}<br>y=%{y}<extra></extra>",
           "legendgroup": "1",
           "marker": {
            "color": "#636efa",
            "line": {
             "width": 3
            },
            "opacity": 0.8,
            "size": 14,
            "symbol": "square"
           },
           "mode": "markers",
           "name": "1",
           "orientation": "v",
           "showlegend": true,
           "type": "scatter",
           "x": [
            18
           ],
           "xaxis": "x",
           "y": [
            9
           ],
           "yaxis": "y"
          },
          {
           "hovertemplate": "bird=2<br>time=26<br>x=%{x}<br>y=%{y}<extra></extra>",
           "legendgroup": "2",
           "marker": {
            "color": "#EF553B",
            "line": {
             "width": 3
            },
            "opacity": 0.8,
            "size": 14,
            "symbol": "square"
           },
           "mode": "markers",
           "name": "2",
           "orientation": "v",
           "showlegend": true,
           "type": "scatter",
           "x": [
            18
           ],
           "xaxis": "x",
           "y": [
            9
           ],
           "yaxis": "y"
          },
          {
           "hovertemplate": "bird=3<br>time=26<br>x=%{x}<br>y=%{y}<extra></extra>",
           "legendgroup": "3",
           "marker": {
            "color": "#00cc96",
            "line": {
             "width": 3
            },
            "opacity": 0.8,
            "size": 14,
            "symbol": "square"
           },
           "mode": "markers",
           "name": "3",
           "orientation": "v",
           "showlegend": true,
           "type": "scatter",
           "x": [
            18
           ],
           "xaxis": "x",
           "y": [
            9
           ],
           "yaxis": "y"
          },
          {
           "hovertemplate": "bird=4<br>time=26<br>x=%{x}<br>y=%{y}<extra></extra>",
           "legendgroup": "4",
           "marker": {
            "color": "#ab63fa",
            "line": {
             "width": 3
            },
            "opacity": 0.8,
            "size": 14,
            "symbol": "square"
           },
           "mode": "markers",
           "name": "4",
           "orientation": "v",
           "showlegend": true,
           "type": "scatter",
           "x": [
            6
           ],
           "xaxis": "x",
           "y": [
            27
           ],
           "yaxis": "y"
          },
          {
           "hovertemplate": "bird=5<br>time=26<br>x=%{x}<br>y=%{y}<extra></extra>",
           "legendgroup": "5",
           "marker": {
            "color": "#FFA15A",
            "line": {
             "width": 3
            },
            "opacity": 0.8,
            "size": 14,
            "symbol": "square"
           },
           "mode": "markers",
           "name": "5",
           "orientation": "v",
           "showlegend": true,
           "type": "scatter",
           "x": [
            18
           ],
           "xaxis": "x",
           "y": [
            9
           ],
           "yaxis": "y"
          },
          {
           "hovertemplate": "bird=6<br>time=26<br>x=%{x}<br>y=%{y}<extra></extra>",
           "legendgroup": "6",
           "marker": {
            "color": "#19d3f3",
            "line": {
             "width": 3
            },
            "opacity": 0.8,
            "size": 14,
            "symbol": "square"
           },
           "mode": "markers",
           "name": "6",
           "orientation": "v",
           "showlegend": true,
           "type": "scatter",
           "x": [
            15
           ],
           "xaxis": "x",
           "y": [
            8
           ],
           "yaxis": "y"
          },
          {
           "hovertemplate": "bird=7<br>time=26<br>x=%{x}<br>y=%{y}<extra></extra>",
           "legendgroup": "7",
           "marker": {
            "color": "#FF6692",
            "line": {
             "width": 3
            },
            "opacity": 0.8,
            "size": 14,
            "symbol": "square"
           },
           "mode": "markers",
           "name": "7",
           "orientation": "v",
           "showlegend": true,
           "type": "scatter",
           "x": [
            0
           ],
           "xaxis": "x",
           "y": [
            21
           ],
           "yaxis": "y"
          },
          {
           "hovertemplate": "bird=8<br>time=26<br>x=%{x}<br>y=%{y}<extra></extra>",
           "legendgroup": "8",
           "marker": {
            "color": "#B6E880",
            "line": {
             "width": 3
            },
            "opacity": 0.8,
            "size": 14,
            "symbol": "square"
           },
           "mode": "markers",
           "name": "8",
           "orientation": "v",
           "showlegend": true,
           "type": "scatter",
           "x": [
            15
           ],
           "xaxis": "x",
           "y": [
            8
           ],
           "yaxis": "y"
          },
          {
           "hovertemplate": "bird=9<br>time=26<br>x=%{x}<br>y=%{y}<extra></extra>",
           "legendgroup": "9",
           "marker": {
            "color": "#FF97FF",
            "line": {
             "width": 3
            },
            "opacity": 0.8,
            "size": 14,
            "symbol": "square"
           },
           "mode": "markers",
           "name": "9",
           "orientation": "v",
           "showlegend": true,
           "type": "scatter",
           "x": [
            16
           ],
           "xaxis": "x",
           "y": [
            25
           ],
           "yaxis": "y"
          },
          {
           "hovertemplate": "bird=reward<br>time=26<br>x=%{x}<br>y=%{y}<extra></extra>",
           "legendgroup": "reward",
           "marker": {
            "color": "yellow",
            "symbol": "square"
           },
           "mode": "markers",
           "name": "reward",
           "orientation": "v",
           "showlegend": false,
           "type": "scatter",
           "x": [
            16,
            17,
            18,
            15,
            16,
            17,
            15,
            16,
            17,
            18,
            15,
            16,
            17,
            18
           ],
           "xaxis": "x",
           "y": [
            8,
            8,
            8,
            9,
            9,
            9,
            10,
            10,
            10,
            10,
            11,
            11,
            11,
            11
           ],
           "yaxis": "y"
          }
         ],
         "name": "26"
        },
        {
         "data": [
          {
           "hovertemplate": "bird=1<br>time=27<br>x=%{x}<br>y=%{y}<extra></extra>",
           "legendgroup": "1",
           "marker": {
            "color": "#636efa",
            "line": {
             "width": 3
            },
            "opacity": 0.8,
            "size": 14,
            "symbol": "square"
           },
           "mode": "markers",
           "name": "1",
           "orientation": "v",
           "showlegend": true,
           "type": "scatter",
           "x": [
            18
           ],
           "xaxis": "x",
           "y": [
            9
           ],
           "yaxis": "y"
          },
          {
           "hovertemplate": "bird=2<br>time=27<br>x=%{x}<br>y=%{y}<extra></extra>",
           "legendgroup": "2",
           "marker": {
            "color": "#EF553B",
            "line": {
             "width": 3
            },
            "opacity": 0.8,
            "size": 14,
            "symbol": "square"
           },
           "mode": "markers",
           "name": "2",
           "orientation": "v",
           "showlegend": true,
           "type": "scatter",
           "x": [
            18
           ],
           "xaxis": "x",
           "y": [
            9
           ],
           "yaxis": "y"
          },
          {
           "hovertemplate": "bird=3<br>time=27<br>x=%{x}<br>y=%{y}<extra></extra>",
           "legendgroup": "3",
           "marker": {
            "color": "#00cc96",
            "line": {
             "width": 3
            },
            "opacity": 0.8,
            "size": 14,
            "symbol": "square"
           },
           "mode": "markers",
           "name": "3",
           "orientation": "v",
           "showlegend": true,
           "type": "scatter",
           "x": [
            18
           ],
           "xaxis": "x",
           "y": [
            9
           ],
           "yaxis": "y"
          },
          {
           "hovertemplate": "bird=4<br>time=27<br>x=%{x}<br>y=%{y}<extra></extra>",
           "legendgroup": "4",
           "marker": {
            "color": "#ab63fa",
            "line": {
             "width": 3
            },
            "opacity": 0.8,
            "size": 14,
            "symbol": "square"
           },
           "mode": "markers",
           "name": "4",
           "orientation": "v",
           "showlegend": true,
           "type": "scatter",
           "x": [
            8
           ],
           "xaxis": "x",
           "y": [
            28
           ],
           "yaxis": "y"
          },
          {
           "hovertemplate": "bird=5<br>time=27<br>x=%{x}<br>y=%{y}<extra></extra>",
           "legendgroup": "5",
           "marker": {
            "color": "#FFA15A",
            "line": {
             "width": 3
            },
            "opacity": 0.8,
            "size": 14,
            "symbol": "square"
           },
           "mode": "markers",
           "name": "5",
           "orientation": "v",
           "showlegend": true,
           "type": "scatter",
           "x": [
            18
           ],
           "xaxis": "x",
           "y": [
            9
           ],
           "yaxis": "y"
          },
          {
           "hovertemplate": "bird=6<br>time=27<br>x=%{x}<br>y=%{y}<extra></extra>",
           "legendgroup": "6",
           "marker": {
            "color": "#19d3f3",
            "line": {
             "width": 3
            },
            "opacity": 0.8,
            "size": 14,
            "symbol": "square"
           },
           "mode": "markers",
           "name": "6",
           "orientation": "v",
           "showlegend": true,
           "type": "scatter",
           "x": [
            15
           ],
           "xaxis": "x",
           "y": [
            8
           ],
           "yaxis": "y"
          },
          {
           "hovertemplate": "bird=7<br>time=27<br>x=%{x}<br>y=%{y}<extra></extra>",
           "legendgroup": "7",
           "marker": {
            "color": "#FF6692",
            "line": {
             "width": 3
            },
            "opacity": 0.8,
            "size": 14,
            "symbol": "square"
           },
           "mode": "markers",
           "name": "7",
           "orientation": "v",
           "showlegend": true,
           "type": "scatter",
           "x": [
            0
           ],
           "xaxis": "x",
           "y": [
            19
           ],
           "yaxis": "y"
          },
          {
           "hovertemplate": "bird=8<br>time=27<br>x=%{x}<br>y=%{y}<extra></extra>",
           "legendgroup": "8",
           "marker": {
            "color": "#B6E880",
            "line": {
             "width": 3
            },
            "opacity": 0.8,
            "size": 14,
            "symbol": "square"
           },
           "mode": "markers",
           "name": "8",
           "orientation": "v",
           "showlegend": true,
           "type": "scatter",
           "x": [
            15
           ],
           "xaxis": "x",
           "y": [
            8
           ],
           "yaxis": "y"
          },
          {
           "hovertemplate": "bird=9<br>time=27<br>x=%{x}<br>y=%{y}<extra></extra>",
           "legendgroup": "9",
           "marker": {
            "color": "#FF97FF",
            "line": {
             "width": 3
            },
            "opacity": 0.8,
            "size": 14,
            "symbol": "square"
           },
           "mode": "markers",
           "name": "9",
           "orientation": "v",
           "showlegend": true,
           "type": "scatter",
           "x": [
            16
           ],
           "xaxis": "x",
           "y": [
            22
           ],
           "yaxis": "y"
          },
          {
           "hovertemplate": "bird=reward<br>time=27<br>x=%{x}<br>y=%{y}<extra></extra>",
           "legendgroup": "reward",
           "marker": {
            "color": "yellow",
            "symbol": "square"
           },
           "mode": "markers",
           "name": "reward",
           "orientation": "v",
           "showlegend": false,
           "type": "scatter",
           "x": [
            16,
            17,
            18,
            15,
            16,
            17,
            15,
            16,
            17,
            18,
            15,
            16,
            17,
            18
           ],
           "xaxis": "x",
           "y": [
            8,
            8,
            8,
            9,
            9,
            9,
            10,
            10,
            10,
            10,
            11,
            11,
            11,
            11
           ],
           "yaxis": "y"
          }
         ],
         "name": "27"
        },
        {
         "data": [
          {
           "hovertemplate": "bird=1<br>time=28<br>x=%{x}<br>y=%{y}<extra></extra>",
           "legendgroup": "1",
           "marker": {
            "color": "#636efa",
            "line": {
             "width": 3
            },
            "opacity": 0.8,
            "size": 14,
            "symbol": "square"
           },
           "mode": "markers",
           "name": "1",
           "orientation": "v",
           "showlegend": true,
           "type": "scatter",
           "x": [
            18
           ],
           "xaxis": "x",
           "y": [
            9
           ],
           "yaxis": "y"
          },
          {
           "hovertemplate": "bird=2<br>time=28<br>x=%{x}<br>y=%{y}<extra></extra>",
           "legendgroup": "2",
           "marker": {
            "color": "#EF553B",
            "line": {
             "width": 3
            },
            "opacity": 0.8,
            "size": 14,
            "symbol": "square"
           },
           "mode": "markers",
           "name": "2",
           "orientation": "v",
           "showlegend": true,
           "type": "scatter",
           "x": [
            18
           ],
           "xaxis": "x",
           "y": [
            9
           ],
           "yaxis": "y"
          },
          {
           "hovertemplate": "bird=3<br>time=28<br>x=%{x}<br>y=%{y}<extra></extra>",
           "legendgroup": "3",
           "marker": {
            "color": "#00cc96",
            "line": {
             "width": 3
            },
            "opacity": 0.8,
            "size": 14,
            "symbol": "square"
           },
           "mode": "markers",
           "name": "3",
           "orientation": "v",
           "showlegend": true,
           "type": "scatter",
           "x": [
            18
           ],
           "xaxis": "x",
           "y": [
            9
           ],
           "yaxis": "y"
          },
          {
           "hovertemplate": "bird=4<br>time=28<br>x=%{x}<br>y=%{y}<extra></extra>",
           "legendgroup": "4",
           "marker": {
            "color": "#ab63fa",
            "line": {
             "width": 3
            },
            "opacity": 0.8,
            "size": 14,
            "symbol": "square"
           },
           "mode": "markers",
           "name": "4",
           "orientation": "v",
           "showlegend": true,
           "type": "scatter",
           "x": [
            7
           ],
           "xaxis": "x",
           "y": [
            26
           ],
           "yaxis": "y"
          },
          {
           "hovertemplate": "bird=5<br>time=28<br>x=%{x}<br>y=%{y}<extra></extra>",
           "legendgroup": "5",
           "marker": {
            "color": "#FFA15A",
            "line": {
             "width": 3
            },
            "opacity": 0.8,
            "size": 14,
            "symbol": "square"
           },
           "mode": "markers",
           "name": "5",
           "orientation": "v",
           "showlegend": true,
           "type": "scatter",
           "x": [
            18
           ],
           "xaxis": "x",
           "y": [
            9
           ],
           "yaxis": "y"
          },
          {
           "hovertemplate": "bird=6<br>time=28<br>x=%{x}<br>y=%{y}<extra></extra>",
           "legendgroup": "6",
           "marker": {
            "color": "#19d3f3",
            "line": {
             "width": 3
            },
            "opacity": 0.8,
            "size": 14,
            "symbol": "square"
           },
           "mode": "markers",
           "name": "6",
           "orientation": "v",
           "showlegend": true,
           "type": "scatter",
           "x": [
            15
           ],
           "xaxis": "x",
           "y": [
            8
           ],
           "yaxis": "y"
          },
          {
           "hovertemplate": "bird=7<br>time=28<br>x=%{x}<br>y=%{y}<extra></extra>",
           "legendgroup": "7",
           "marker": {
            "color": "#FF6692",
            "line": {
             "width": 3
            },
            "opacity": 0.8,
            "size": 14,
            "symbol": "square"
           },
           "mode": "markers",
           "name": "7",
           "orientation": "v",
           "showlegend": true,
           "type": "scatter",
           "x": [
            2
           ],
           "xaxis": "x",
           "y": [
            21
           ],
           "yaxis": "y"
          },
          {
           "hovertemplate": "bird=8<br>time=28<br>x=%{x}<br>y=%{y}<extra></extra>",
           "legendgroup": "8",
           "marker": {
            "color": "#B6E880",
            "line": {
             "width": 3
            },
            "opacity": 0.8,
            "size": 14,
            "symbol": "square"
           },
           "mode": "markers",
           "name": "8",
           "orientation": "v",
           "showlegend": true,
           "type": "scatter",
           "x": [
            15
           ],
           "xaxis": "x",
           "y": [
            8
           ],
           "yaxis": "y"
          },
          {
           "hovertemplate": "bird=9<br>time=28<br>x=%{x}<br>y=%{y}<extra></extra>",
           "legendgroup": "9",
           "marker": {
            "color": "#FF97FF",
            "line": {
             "width": 3
            },
            "opacity": 0.8,
            "size": 14,
            "symbol": "square"
           },
           "mode": "markers",
           "name": "9",
           "orientation": "v",
           "showlegend": true,
           "type": "scatter",
           "x": [
            16
           ],
           "xaxis": "x",
           "y": [
            21
           ],
           "yaxis": "y"
          },
          {
           "hovertemplate": "bird=reward<br>time=28<br>x=%{x}<br>y=%{y}<extra></extra>",
           "legendgroup": "reward",
           "marker": {
            "color": "yellow",
            "symbol": "square"
           },
           "mode": "markers",
           "name": "reward",
           "orientation": "v",
           "showlegend": false,
           "type": "scatter",
           "x": [
            16,
            17,
            18,
            15,
            16,
            17,
            15,
            16,
            17,
            18,
            15,
            16,
            17,
            18
           ],
           "xaxis": "x",
           "y": [
            8,
            8,
            8,
            9,
            9,
            9,
            10,
            10,
            10,
            10,
            11,
            11,
            11,
            11
           ],
           "yaxis": "y"
          }
         ],
         "name": "28"
        },
        {
         "data": [
          {
           "hovertemplate": "bird=1<br>time=29<br>x=%{x}<br>y=%{y}<extra></extra>",
           "legendgroup": "1",
           "marker": {
            "color": "#636efa",
            "line": {
             "width": 3
            },
            "opacity": 0.8,
            "size": 14,
            "symbol": "square"
           },
           "mode": "markers",
           "name": "1",
           "orientation": "v",
           "showlegend": true,
           "type": "scatter",
           "x": [
            18
           ],
           "xaxis": "x",
           "y": [
            9
           ],
           "yaxis": "y"
          },
          {
           "hovertemplate": "bird=2<br>time=29<br>x=%{x}<br>y=%{y}<extra></extra>",
           "legendgroup": "2",
           "marker": {
            "color": "#EF553B",
            "line": {
             "width": 3
            },
            "opacity": 0.8,
            "size": 14,
            "symbol": "square"
           },
           "mode": "markers",
           "name": "2",
           "orientation": "v",
           "showlegend": true,
           "type": "scatter",
           "x": [
            18
           ],
           "xaxis": "x",
           "y": [
            9
           ],
           "yaxis": "y"
          },
          {
           "hovertemplate": "bird=3<br>time=29<br>x=%{x}<br>y=%{y}<extra></extra>",
           "legendgroup": "3",
           "marker": {
            "color": "#00cc96",
            "line": {
             "width": 3
            },
            "opacity": 0.8,
            "size": 14,
            "symbol": "square"
           },
           "mode": "markers",
           "name": "3",
           "orientation": "v",
           "showlegend": true,
           "type": "scatter",
           "x": [
            18
           ],
           "xaxis": "x",
           "y": [
            9
           ],
           "yaxis": "y"
          },
          {
           "hovertemplate": "bird=4<br>time=29<br>x=%{x}<br>y=%{y}<extra></extra>",
           "legendgroup": "4",
           "marker": {
            "color": "#ab63fa",
            "line": {
             "width": 3
            },
            "opacity": 0.8,
            "size": 14,
            "symbol": "square"
           },
           "mode": "markers",
           "name": "4",
           "orientation": "v",
           "showlegend": true,
           "type": "scatter",
           "x": [
            6
           ],
           "xaxis": "x",
           "y": [
            28
           ],
           "yaxis": "y"
          },
          {
           "hovertemplate": "bird=5<br>time=29<br>x=%{x}<br>y=%{y}<extra></extra>",
           "legendgroup": "5",
           "marker": {
            "color": "#FFA15A",
            "line": {
             "width": 3
            },
            "opacity": 0.8,
            "size": 14,
            "symbol": "square"
           },
           "mode": "markers",
           "name": "5",
           "orientation": "v",
           "showlegend": true,
           "type": "scatter",
           "x": [
            18
           ],
           "xaxis": "x",
           "y": [
            9
           ],
           "yaxis": "y"
          },
          {
           "hovertemplate": "bird=6<br>time=29<br>x=%{x}<br>y=%{y}<extra></extra>",
           "legendgroup": "6",
           "marker": {
            "color": "#19d3f3",
            "line": {
             "width": 3
            },
            "opacity": 0.8,
            "size": 14,
            "symbol": "square"
           },
           "mode": "markers",
           "name": "6",
           "orientation": "v",
           "showlegend": true,
           "type": "scatter",
           "x": [
            15
           ],
           "xaxis": "x",
           "y": [
            8
           ],
           "yaxis": "y"
          },
          {
           "hovertemplate": "bird=7<br>time=29<br>x=%{x}<br>y=%{y}<extra></extra>",
           "legendgroup": "7",
           "marker": {
            "color": "#FF6692",
            "line": {
             "width": 3
            },
            "opacity": 0.8,
            "size": 14,
            "symbol": "square"
           },
           "mode": "markers",
           "name": "7",
           "orientation": "v",
           "showlegend": true,
           "type": "scatter",
           "x": [
            3
           ],
           "xaxis": "x",
           "y": [
            21
           ],
           "yaxis": "y"
          },
          {
           "hovertemplate": "bird=8<br>time=29<br>x=%{x}<br>y=%{y}<extra></extra>",
           "legendgroup": "8",
           "marker": {
            "color": "#B6E880",
            "line": {
             "width": 3
            },
            "opacity": 0.8,
            "size": 14,
            "symbol": "square"
           },
           "mode": "markers",
           "name": "8",
           "orientation": "v",
           "showlegend": true,
           "type": "scatter",
           "x": [
            15
           ],
           "xaxis": "x",
           "y": [
            8
           ],
           "yaxis": "y"
          },
          {
           "hovertemplate": "bird=9<br>time=29<br>x=%{x}<br>y=%{y}<extra></extra>",
           "legendgroup": "9",
           "marker": {
            "color": "#FF97FF",
            "line": {
             "width": 3
            },
            "opacity": 0.8,
            "size": 14,
            "symbol": "square"
           },
           "mode": "markers",
           "name": "9",
           "orientation": "v",
           "showlegend": true,
           "type": "scatter",
           "x": [
            18
           ],
           "xaxis": "x",
           "y": [
            22
           ],
           "yaxis": "y"
          },
          {
           "hovertemplate": "bird=reward<br>time=29<br>x=%{x}<br>y=%{y}<extra></extra>",
           "legendgroup": "reward",
           "marker": {
            "color": "yellow",
            "symbol": "square"
           },
           "mode": "markers",
           "name": "reward",
           "orientation": "v",
           "showlegend": false,
           "type": "scatter",
           "x": [
            16,
            17,
            18,
            15,
            16,
            17,
            15,
            16,
            17,
            18,
            15,
            16,
            17,
            18
           ],
           "xaxis": "x",
           "y": [
            8,
            8,
            8,
            9,
            9,
            9,
            10,
            10,
            10,
            10,
            11,
            11,
            11,
            11
           ],
           "yaxis": "y"
          }
         ],
         "name": "29"
        },
        {
         "data": [
          {
           "hovertemplate": "bird=1<br>time=30<br>x=%{x}<br>y=%{y}<extra></extra>",
           "legendgroup": "1",
           "marker": {
            "color": "#636efa",
            "line": {
             "width": 3
            },
            "opacity": 0.8,
            "size": 14,
            "symbol": "square"
           },
           "mode": "markers",
           "name": "1",
           "orientation": "v",
           "showlegend": true,
           "type": "scatter",
           "x": [
            18
           ],
           "xaxis": "x",
           "y": [
            9
           ],
           "yaxis": "y"
          },
          {
           "hovertemplate": "bird=2<br>time=30<br>x=%{x}<br>y=%{y}<extra></extra>",
           "legendgroup": "2",
           "marker": {
            "color": "#EF553B",
            "line": {
             "width": 3
            },
            "opacity": 0.8,
            "size": 14,
            "symbol": "square"
           },
           "mode": "markers",
           "name": "2",
           "orientation": "v",
           "showlegend": true,
           "type": "scatter",
           "x": [
            18
           ],
           "xaxis": "x",
           "y": [
            9
           ],
           "yaxis": "y"
          },
          {
           "hovertemplate": "bird=3<br>time=30<br>x=%{x}<br>y=%{y}<extra></extra>",
           "legendgroup": "3",
           "marker": {
            "color": "#00cc96",
            "line": {
             "width": 3
            },
            "opacity": 0.8,
            "size": 14,
            "symbol": "square"
           },
           "mode": "markers",
           "name": "3",
           "orientation": "v",
           "showlegend": true,
           "type": "scatter",
           "x": [
            18
           ],
           "xaxis": "x",
           "y": [
            9
           ],
           "yaxis": "y"
          },
          {
           "hovertemplate": "bird=4<br>time=30<br>x=%{x}<br>y=%{y}<extra></extra>",
           "legendgroup": "4",
           "marker": {
            "color": "#ab63fa",
            "line": {
             "width": 3
            },
            "opacity": 0.8,
            "size": 14,
            "symbol": "square"
           },
           "mode": "markers",
           "name": "4",
           "orientation": "v",
           "showlegend": true,
           "type": "scatter",
           "x": [
            8
           ],
           "xaxis": "x",
           "y": [
            28
           ],
           "yaxis": "y"
          },
          {
           "hovertemplate": "bird=5<br>time=30<br>x=%{x}<br>y=%{y}<extra></extra>",
           "legendgroup": "5",
           "marker": {
            "color": "#FFA15A",
            "line": {
             "width": 3
            },
            "opacity": 0.8,
            "size": 14,
            "symbol": "square"
           },
           "mode": "markers",
           "name": "5",
           "orientation": "v",
           "showlegend": true,
           "type": "scatter",
           "x": [
            18
           ],
           "xaxis": "x",
           "y": [
            9
           ],
           "yaxis": "y"
          },
          {
           "hovertemplate": "bird=6<br>time=30<br>x=%{x}<br>y=%{y}<extra></extra>",
           "legendgroup": "6",
           "marker": {
            "color": "#19d3f3",
            "line": {
             "width": 3
            },
            "opacity": 0.8,
            "size": 14,
            "symbol": "square"
           },
           "mode": "markers",
           "name": "6",
           "orientation": "v",
           "showlegend": true,
           "type": "scatter",
           "x": [
            15
           ],
           "xaxis": "x",
           "y": [
            8
           ],
           "yaxis": "y"
          },
          {
           "hovertemplate": "bird=7<br>time=30<br>x=%{x}<br>y=%{y}<extra></extra>",
           "legendgroup": "7",
           "marker": {
            "color": "#FF6692",
            "line": {
             "width": 3
            },
            "opacity": 0.8,
            "size": 14,
            "symbol": "square"
           },
           "mode": "markers",
           "name": "7",
           "orientation": "v",
           "showlegend": true,
           "type": "scatter",
           "x": [
            4
           ],
           "xaxis": "x",
           "y": [
            23
           ],
           "yaxis": "y"
          },
          {
           "hovertemplate": "bird=8<br>time=30<br>x=%{x}<br>y=%{y}<extra></extra>",
           "legendgroup": "8",
           "marker": {
            "color": "#B6E880",
            "line": {
             "width": 3
            },
            "opacity": 0.8,
            "size": 14,
            "symbol": "square"
           },
           "mode": "markers",
           "name": "8",
           "orientation": "v",
           "showlegend": true,
           "type": "scatter",
           "x": [
            15
           ],
           "xaxis": "x",
           "y": [
            8
           ],
           "yaxis": "y"
          },
          {
           "hovertemplate": "bird=9<br>time=30<br>x=%{x}<br>y=%{y}<extra></extra>",
           "legendgroup": "9",
           "marker": {
            "color": "#FF97FF",
            "line": {
             "width": 3
            },
            "opacity": 0.8,
            "size": 14,
            "symbol": "square"
           },
           "mode": "markers",
           "name": "9",
           "orientation": "v",
           "showlegend": true,
           "type": "scatter",
           "x": [
            19
           ],
           "xaxis": "x",
           "y": [
            21
           ],
           "yaxis": "y"
          },
          {
           "hovertemplate": "bird=reward<br>time=30<br>x=%{x}<br>y=%{y}<extra></extra>",
           "legendgroup": "reward",
           "marker": {
            "color": "yellow",
            "symbol": "square"
           },
           "mode": "markers",
           "name": "reward",
           "orientation": "v",
           "showlegend": false,
           "type": "scatter",
           "x": [
            16,
            17,
            18,
            15,
            16,
            17,
            15,
            16,
            17,
            18,
            15,
            16,
            17,
            18
           ],
           "xaxis": "x",
           "y": [
            8,
            8,
            8,
            9,
            9,
            9,
            10,
            10,
            10,
            10,
            11,
            11,
            11,
            11
           ],
           "yaxis": "y"
          }
         ],
         "name": "30"
        },
        {
         "data": [
          {
           "hovertemplate": "bird=1<br>time=31<br>x=%{x}<br>y=%{y}<extra></extra>",
           "legendgroup": "1",
           "marker": {
            "color": "#636efa",
            "line": {
             "width": 3
            },
            "opacity": 0.8,
            "size": 14,
            "symbol": "square"
           },
           "mode": "markers",
           "name": "1",
           "orientation": "v",
           "showlegend": true,
           "type": "scatter",
           "x": [
            18
           ],
           "xaxis": "x",
           "y": [
            9
           ],
           "yaxis": "y"
          },
          {
           "hovertemplate": "bird=2<br>time=31<br>x=%{x}<br>y=%{y}<extra></extra>",
           "legendgroup": "2",
           "marker": {
            "color": "#EF553B",
            "line": {
             "width": 3
            },
            "opacity": 0.8,
            "size": 14,
            "symbol": "square"
           },
           "mode": "markers",
           "name": "2",
           "orientation": "v",
           "showlegend": true,
           "type": "scatter",
           "x": [
            18
           ],
           "xaxis": "x",
           "y": [
            9
           ],
           "yaxis": "y"
          },
          {
           "hovertemplate": "bird=3<br>time=31<br>x=%{x}<br>y=%{y}<extra></extra>",
           "legendgroup": "3",
           "marker": {
            "color": "#00cc96",
            "line": {
             "width": 3
            },
            "opacity": 0.8,
            "size": 14,
            "symbol": "square"
           },
           "mode": "markers",
           "name": "3",
           "orientation": "v",
           "showlegend": true,
           "type": "scatter",
           "x": [
            18
           ],
           "xaxis": "x",
           "y": [
            9
           ],
           "yaxis": "y"
          },
          {
           "hovertemplate": "bird=4<br>time=31<br>x=%{x}<br>y=%{y}<extra></extra>",
           "legendgroup": "4",
           "marker": {
            "color": "#ab63fa",
            "line": {
             "width": 3
            },
            "opacity": 0.8,
            "size": 14,
            "symbol": "square"
           },
           "mode": "markers",
           "name": "4",
           "orientation": "v",
           "showlegend": true,
           "type": "scatter",
           "x": [
            7
           ],
           "xaxis": "x",
           "y": [
            26
           ],
           "yaxis": "y"
          },
          {
           "hovertemplate": "bird=5<br>time=31<br>x=%{x}<br>y=%{y}<extra></extra>",
           "legendgroup": "5",
           "marker": {
            "color": "#FFA15A",
            "line": {
             "width": 3
            },
            "opacity": 0.8,
            "size": 14,
            "symbol": "square"
           },
           "mode": "markers",
           "name": "5",
           "orientation": "v",
           "showlegend": true,
           "type": "scatter",
           "x": [
            18
           ],
           "xaxis": "x",
           "y": [
            9
           ],
           "yaxis": "y"
          },
          {
           "hovertemplate": "bird=6<br>time=31<br>x=%{x}<br>y=%{y}<extra></extra>",
           "legendgroup": "6",
           "marker": {
            "color": "#19d3f3",
            "line": {
             "width": 3
            },
            "opacity": 0.8,
            "size": 14,
            "symbol": "square"
           },
           "mode": "markers",
           "name": "6",
           "orientation": "v",
           "showlegend": true,
           "type": "scatter",
           "x": [
            15
           ],
           "xaxis": "x",
           "y": [
            8
           ],
           "yaxis": "y"
          },
          {
           "hovertemplate": "bird=7<br>time=31<br>x=%{x}<br>y=%{y}<extra></extra>",
           "legendgroup": "7",
           "marker": {
            "color": "#FF6692",
            "line": {
             "width": 3
            },
            "opacity": 0.8,
            "size": 14,
            "symbol": "square"
           },
           "mode": "markers",
           "name": "7",
           "orientation": "v",
           "showlegend": true,
           "type": "scatter",
           "x": [
            3
           ],
           "xaxis": "x",
           "y": [
            25
           ],
           "yaxis": "y"
          },
          {
           "hovertemplate": "bird=8<br>time=31<br>x=%{x}<br>y=%{y}<extra></extra>",
           "legendgroup": "8",
           "marker": {
            "color": "#B6E880",
            "line": {
             "width": 3
            },
            "opacity": 0.8,
            "size": 14,
            "symbol": "square"
           },
           "mode": "markers",
           "name": "8",
           "orientation": "v",
           "showlegend": true,
           "type": "scatter",
           "x": [
            15
           ],
           "xaxis": "x",
           "y": [
            8
           ],
           "yaxis": "y"
          },
          {
           "hovertemplate": "bird=9<br>time=31<br>x=%{x}<br>y=%{y}<extra></extra>",
           "legendgroup": "9",
           "marker": {
            "color": "#FF97FF",
            "line": {
             "width": 3
            },
            "opacity": 0.8,
            "size": 14,
            "symbol": "square"
           },
           "mode": "markers",
           "name": "9",
           "orientation": "v",
           "showlegend": true,
           "type": "scatter",
           "x": [
            18
           ],
           "xaxis": "x",
           "y": [
            19
           ],
           "yaxis": "y"
          },
          {
           "hovertemplate": "bird=reward<br>time=31<br>x=%{x}<br>y=%{y}<extra></extra>",
           "legendgroup": "reward",
           "marker": {
            "color": "yellow",
            "symbol": "square"
           },
           "mode": "markers",
           "name": "reward",
           "orientation": "v",
           "showlegend": false,
           "type": "scatter",
           "x": [
            16,
            17,
            18,
            15,
            16,
            17,
            15,
            16,
            17,
            18,
            15,
            16,
            17,
            18
           ],
           "xaxis": "x",
           "y": [
            8,
            8,
            8,
            9,
            9,
            9,
            10,
            10,
            10,
            10,
            11,
            11,
            11,
            11
           ],
           "yaxis": "y"
          }
         ],
         "name": "31"
        },
        {
         "data": [
          {
           "hovertemplate": "bird=1<br>time=32<br>x=%{x}<br>y=%{y}<extra></extra>",
           "legendgroup": "1",
           "marker": {
            "color": "#636efa",
            "line": {
             "width": 3
            },
            "opacity": 0.8,
            "size": 14,
            "symbol": "square"
           },
           "mode": "markers",
           "name": "1",
           "orientation": "v",
           "showlegend": true,
           "type": "scatter",
           "x": [
            18
           ],
           "xaxis": "x",
           "y": [
            9
           ],
           "yaxis": "y"
          },
          {
           "hovertemplate": "bird=2<br>time=32<br>x=%{x}<br>y=%{y}<extra></extra>",
           "legendgroup": "2",
           "marker": {
            "color": "#EF553B",
            "line": {
             "width": 3
            },
            "opacity": 0.8,
            "size": 14,
            "symbol": "square"
           },
           "mode": "markers",
           "name": "2",
           "orientation": "v",
           "showlegend": true,
           "type": "scatter",
           "x": [
            18
           ],
           "xaxis": "x",
           "y": [
            9
           ],
           "yaxis": "y"
          },
          {
           "hovertemplate": "bird=3<br>time=32<br>x=%{x}<br>y=%{y}<extra></extra>",
           "legendgroup": "3",
           "marker": {
            "color": "#00cc96",
            "line": {
             "width": 3
            },
            "opacity": 0.8,
            "size": 14,
            "symbol": "square"
           },
           "mode": "markers",
           "name": "3",
           "orientation": "v",
           "showlegend": true,
           "type": "scatter",
           "x": [
            18
           ],
           "xaxis": "x",
           "y": [
            9
           ],
           "yaxis": "y"
          },
          {
           "hovertemplate": "bird=4<br>time=32<br>x=%{x}<br>y=%{y}<extra></extra>",
           "legendgroup": "4",
           "marker": {
            "color": "#ab63fa",
            "line": {
             "width": 3
            },
            "opacity": 0.8,
            "size": 14,
            "symbol": "square"
           },
           "mode": "markers",
           "name": "4",
           "orientation": "v",
           "showlegend": true,
           "type": "scatter",
           "x": [
            9
           ],
           "xaxis": "x",
           "y": [
            24
           ],
           "yaxis": "y"
          },
          {
           "hovertemplate": "bird=5<br>time=32<br>x=%{x}<br>y=%{y}<extra></extra>",
           "legendgroup": "5",
           "marker": {
            "color": "#FFA15A",
            "line": {
             "width": 3
            },
            "opacity": 0.8,
            "size": 14,
            "symbol": "square"
           },
           "mode": "markers",
           "name": "5",
           "orientation": "v",
           "showlegend": true,
           "type": "scatter",
           "x": [
            18
           ],
           "xaxis": "x",
           "y": [
            9
           ],
           "yaxis": "y"
          },
          {
           "hovertemplate": "bird=6<br>time=32<br>x=%{x}<br>y=%{y}<extra></extra>",
           "legendgroup": "6",
           "marker": {
            "color": "#19d3f3",
            "line": {
             "width": 3
            },
            "opacity": 0.8,
            "size": 14,
            "symbol": "square"
           },
           "mode": "markers",
           "name": "6",
           "orientation": "v",
           "showlegend": true,
           "type": "scatter",
           "x": [
            15
           ],
           "xaxis": "x",
           "y": [
            8
           ],
           "yaxis": "y"
          },
          {
           "hovertemplate": "bird=7<br>time=32<br>x=%{x}<br>y=%{y}<extra></extra>",
           "legendgroup": "7",
           "marker": {
            "color": "#FF6692",
            "line": {
             "width": 3
            },
            "opacity": 0.8,
            "size": 14,
            "symbol": "square"
           },
           "mode": "markers",
           "name": "7",
           "orientation": "v",
           "showlegend": true,
           "type": "scatter",
           "x": [
            1
           ],
           "xaxis": "x",
           "y": [
            25
           ],
           "yaxis": "y"
          },
          {
           "hovertemplate": "bird=8<br>time=32<br>x=%{x}<br>y=%{y}<extra></extra>",
           "legendgroup": "8",
           "marker": {
            "color": "#B6E880",
            "line": {
             "width": 3
            },
            "opacity": 0.8,
            "size": 14,
            "symbol": "square"
           },
           "mode": "markers",
           "name": "8",
           "orientation": "v",
           "showlegend": true,
           "type": "scatter",
           "x": [
            15
           ],
           "xaxis": "x",
           "y": [
            8
           ],
           "yaxis": "y"
          },
          {
           "hovertemplate": "bird=9<br>time=32<br>x=%{x}<br>y=%{y}<extra></extra>",
           "legendgroup": "9",
           "marker": {
            "color": "#FF97FF",
            "line": {
             "width": 3
            },
            "opacity": 0.8,
            "size": 14,
            "symbol": "square"
           },
           "mode": "markers",
           "name": "9",
           "orientation": "v",
           "showlegend": true,
           "type": "scatter",
           "x": [
            16
           ],
           "xaxis": "x",
           "y": [
            18
           ],
           "yaxis": "y"
          },
          {
           "hovertemplate": "bird=reward<br>time=32<br>x=%{x}<br>y=%{y}<extra></extra>",
           "legendgroup": "reward",
           "marker": {
            "color": "yellow",
            "symbol": "square"
           },
           "mode": "markers",
           "name": "reward",
           "orientation": "v",
           "showlegend": false,
           "type": "scatter",
           "x": [
            16,
            17,
            18,
            15,
            16,
            17,
            15,
            16,
            17,
            18,
            15,
            16,
            17,
            18
           ],
           "xaxis": "x",
           "y": [
            8,
            8,
            8,
            9,
            9,
            9,
            10,
            10,
            10,
            10,
            11,
            11,
            11,
            11
           ],
           "yaxis": "y"
          }
         ],
         "name": "32"
        },
        {
         "data": [
          {
           "hovertemplate": "bird=1<br>time=33<br>x=%{x}<br>y=%{y}<extra></extra>",
           "legendgroup": "1",
           "marker": {
            "color": "#636efa",
            "line": {
             "width": 3
            },
            "opacity": 0.8,
            "size": 14,
            "symbol": "square"
           },
           "mode": "markers",
           "name": "1",
           "orientation": "v",
           "showlegend": true,
           "type": "scatter",
           "x": [
            18
           ],
           "xaxis": "x",
           "y": [
            9
           ],
           "yaxis": "y"
          },
          {
           "hovertemplate": "bird=2<br>time=33<br>x=%{x}<br>y=%{y}<extra></extra>",
           "legendgroup": "2",
           "marker": {
            "color": "#EF553B",
            "line": {
             "width": 3
            },
            "opacity": 0.8,
            "size": 14,
            "symbol": "square"
           },
           "mode": "markers",
           "name": "2",
           "orientation": "v",
           "showlegend": true,
           "type": "scatter",
           "x": [
            18
           ],
           "xaxis": "x",
           "y": [
            9
           ],
           "yaxis": "y"
          },
          {
           "hovertemplate": "bird=3<br>time=33<br>x=%{x}<br>y=%{y}<extra></extra>",
           "legendgroup": "3",
           "marker": {
            "color": "#00cc96",
            "line": {
             "width": 3
            },
            "opacity": 0.8,
            "size": 14,
            "symbol": "square"
           },
           "mode": "markers",
           "name": "3",
           "orientation": "v",
           "showlegend": true,
           "type": "scatter",
           "x": [
            18
           ],
           "xaxis": "x",
           "y": [
            9
           ],
           "yaxis": "y"
          },
          {
           "hovertemplate": "bird=4<br>time=33<br>x=%{x}<br>y=%{y}<extra></extra>",
           "legendgroup": "4",
           "marker": {
            "color": "#ab63fa",
            "line": {
             "width": 3
            },
            "opacity": 0.8,
            "size": 14,
            "symbol": "square"
           },
           "mode": "markers",
           "name": "4",
           "orientation": "v",
           "showlegend": true,
           "type": "scatter",
           "x": [
            7
           ],
           "xaxis": "x",
           "y": [
            26
           ],
           "yaxis": "y"
          },
          {
           "hovertemplate": "bird=5<br>time=33<br>x=%{x}<br>y=%{y}<extra></extra>",
           "legendgroup": "5",
           "marker": {
            "color": "#FFA15A",
            "line": {
             "width": 3
            },
            "opacity": 0.8,
            "size": 14,
            "symbol": "square"
           },
           "mode": "markers",
           "name": "5",
           "orientation": "v",
           "showlegend": true,
           "type": "scatter",
           "x": [
            18
           ],
           "xaxis": "x",
           "y": [
            9
           ],
           "yaxis": "y"
          },
          {
           "hovertemplate": "bird=6<br>time=33<br>x=%{x}<br>y=%{y}<extra></extra>",
           "legendgroup": "6",
           "marker": {
            "color": "#19d3f3",
            "line": {
             "width": 3
            },
            "opacity": 0.8,
            "size": 14,
            "symbol": "square"
           },
           "mode": "markers",
           "name": "6",
           "orientation": "v",
           "showlegend": true,
           "type": "scatter",
           "x": [
            15
           ],
           "xaxis": "x",
           "y": [
            8
           ],
           "yaxis": "y"
          },
          {
           "hovertemplate": "bird=7<br>time=33<br>x=%{x}<br>y=%{y}<extra></extra>",
           "legendgroup": "7",
           "marker": {
            "color": "#FF6692",
            "line": {
             "width": 3
            },
            "opacity": 0.8,
            "size": 14,
            "symbol": "square"
           },
           "mode": "markers",
           "name": "7",
           "orientation": "v",
           "showlegend": true,
           "type": "scatter",
           "x": [
            1
           ],
           "xaxis": "x",
           "y": [
            27
           ],
           "yaxis": "y"
          },
          {
           "hovertemplate": "bird=8<br>time=33<br>x=%{x}<br>y=%{y}<extra></extra>",
           "legendgroup": "8",
           "marker": {
            "color": "#B6E880",
            "line": {
             "width": 3
            },
            "opacity": 0.8,
            "size": 14,
            "symbol": "square"
           },
           "mode": "markers",
           "name": "8",
           "orientation": "v",
           "showlegend": true,
           "type": "scatter",
           "x": [
            15
           ],
           "xaxis": "x",
           "y": [
            8
           ],
           "yaxis": "y"
          },
          {
           "hovertemplate": "bird=9<br>time=33<br>x=%{x}<br>y=%{y}<extra></extra>",
           "legendgroup": "9",
           "marker": {
            "color": "#FF97FF",
            "line": {
             "width": 3
            },
            "opacity": 0.8,
            "size": 14,
            "symbol": "square"
           },
           "mode": "markers",
           "name": "9",
           "orientation": "v",
           "showlegend": true,
           "type": "scatter",
           "x": [
            18
           ],
           "xaxis": "x",
           "y": [
            19
           ],
           "yaxis": "y"
          },
          {
           "hovertemplate": "bird=reward<br>time=33<br>x=%{x}<br>y=%{y}<extra></extra>",
           "legendgroup": "reward",
           "marker": {
            "color": "yellow",
            "symbol": "square"
           },
           "mode": "markers",
           "name": "reward",
           "orientation": "v",
           "showlegend": false,
           "type": "scatter",
           "x": [
            16,
            17,
            18,
            15,
            16,
            17,
            15,
            16,
            17,
            18,
            15,
            16,
            17,
            18
           ],
           "xaxis": "x",
           "y": [
            8,
            8,
            8,
            9,
            9,
            9,
            10,
            10,
            10,
            10,
            11,
            11,
            11,
            11
           ],
           "yaxis": "y"
          }
         ],
         "name": "33"
        },
        {
         "data": [
          {
           "hovertemplate": "bird=1<br>time=34<br>x=%{x}<br>y=%{y}<extra></extra>",
           "legendgroup": "1",
           "marker": {
            "color": "#636efa",
            "line": {
             "width": 3
            },
            "opacity": 0.8,
            "size": 14,
            "symbol": "square"
           },
           "mode": "markers",
           "name": "1",
           "orientation": "v",
           "showlegend": true,
           "type": "scatter",
           "x": [
            18
           ],
           "xaxis": "x",
           "y": [
            9
           ],
           "yaxis": "y"
          },
          {
           "hovertemplate": "bird=2<br>time=34<br>x=%{x}<br>y=%{y}<extra></extra>",
           "legendgroup": "2",
           "marker": {
            "color": "#EF553B",
            "line": {
             "width": 3
            },
            "opacity": 0.8,
            "size": 14,
            "symbol": "square"
           },
           "mode": "markers",
           "name": "2",
           "orientation": "v",
           "showlegend": true,
           "type": "scatter",
           "x": [
            18
           ],
           "xaxis": "x",
           "y": [
            9
           ],
           "yaxis": "y"
          },
          {
           "hovertemplate": "bird=3<br>time=34<br>x=%{x}<br>y=%{y}<extra></extra>",
           "legendgroup": "3",
           "marker": {
            "color": "#00cc96",
            "line": {
             "width": 3
            },
            "opacity": 0.8,
            "size": 14,
            "symbol": "square"
           },
           "mode": "markers",
           "name": "3",
           "orientation": "v",
           "showlegend": true,
           "type": "scatter",
           "x": [
            18
           ],
           "xaxis": "x",
           "y": [
            9
           ],
           "yaxis": "y"
          },
          {
           "hovertemplate": "bird=4<br>time=34<br>x=%{x}<br>y=%{y}<extra></extra>",
           "legendgroup": "4",
           "marker": {
            "color": "#ab63fa",
            "line": {
             "width": 3
            },
            "opacity": 0.8,
            "size": 14,
            "symbol": "square"
           },
           "mode": "markers",
           "name": "4",
           "orientation": "v",
           "showlegend": true,
           "type": "scatter",
           "x": [
            10
           ],
           "xaxis": "x",
           "y": [
            26
           ],
           "yaxis": "y"
          },
          {
           "hovertemplate": "bird=5<br>time=34<br>x=%{x}<br>y=%{y}<extra></extra>",
           "legendgroup": "5",
           "marker": {
            "color": "#FFA15A",
            "line": {
             "width": 3
            },
            "opacity": 0.8,
            "size": 14,
            "symbol": "square"
           },
           "mode": "markers",
           "name": "5",
           "orientation": "v",
           "showlegend": true,
           "type": "scatter",
           "x": [
            18
           ],
           "xaxis": "x",
           "y": [
            9
           ],
           "yaxis": "y"
          },
          {
           "hovertemplate": "bird=6<br>time=34<br>x=%{x}<br>y=%{y}<extra></extra>",
           "legendgroup": "6",
           "marker": {
            "color": "#19d3f3",
            "line": {
             "width": 3
            },
            "opacity": 0.8,
            "size": 14,
            "symbol": "square"
           },
           "mode": "markers",
           "name": "6",
           "orientation": "v",
           "showlegend": true,
           "type": "scatter",
           "x": [
            15
           ],
           "xaxis": "x",
           "y": [
            8
           ],
           "yaxis": "y"
          },
          {
           "hovertemplate": "bird=7<br>time=34<br>x=%{x}<br>y=%{y}<extra></extra>",
           "legendgroup": "7",
           "marker": {
            "color": "#FF6692",
            "line": {
             "width": 3
            },
            "opacity": 0.8,
            "size": 14,
            "symbol": "square"
           },
           "mode": "markers",
           "name": "7",
           "orientation": "v",
           "showlegend": true,
           "type": "scatter",
           "x": [
            1
           ],
           "xaxis": "x",
           "y": [
            27
           ],
           "yaxis": "y"
          },
          {
           "hovertemplate": "bird=8<br>time=34<br>x=%{x}<br>y=%{y}<extra></extra>",
           "legendgroup": "8",
           "marker": {
            "color": "#B6E880",
            "line": {
             "width": 3
            },
            "opacity": 0.8,
            "size": 14,
            "symbol": "square"
           },
           "mode": "markers",
           "name": "8",
           "orientation": "v",
           "showlegend": true,
           "type": "scatter",
           "x": [
            15
           ],
           "xaxis": "x",
           "y": [
            8
           ],
           "yaxis": "y"
          },
          {
           "hovertemplate": "bird=9<br>time=34<br>x=%{x}<br>y=%{y}<extra></extra>",
           "legendgroup": "9",
           "marker": {
            "color": "#FF97FF",
            "line": {
             "width": 3
            },
            "opacity": 0.8,
            "size": 14,
            "symbol": "square"
           },
           "mode": "markers",
           "name": "9",
           "orientation": "v",
           "showlegend": true,
           "type": "scatter",
           "x": [
            19
           ],
           "xaxis": "x",
           "y": [
            18
           ],
           "yaxis": "y"
          },
          {
           "hovertemplate": "bird=reward<br>time=34<br>x=%{x}<br>y=%{y}<extra></extra>",
           "legendgroup": "reward",
           "marker": {
            "color": "yellow",
            "symbol": "square"
           },
           "mode": "markers",
           "name": "reward",
           "orientation": "v",
           "showlegend": false,
           "type": "scatter",
           "x": [
            16,
            17,
            18,
            15,
            16,
            17,
            15,
            16,
            17,
            18,
            15,
            16,
            17,
            18
           ],
           "xaxis": "x",
           "y": [
            8,
            8,
            8,
            9,
            9,
            9,
            10,
            10,
            10,
            10,
            11,
            11,
            11,
            11
           ],
           "yaxis": "y"
          }
         ],
         "name": "34"
        },
        {
         "data": [
          {
           "hovertemplate": "bird=1<br>time=35<br>x=%{x}<br>y=%{y}<extra></extra>",
           "legendgroup": "1",
           "marker": {
            "color": "#636efa",
            "line": {
             "width": 3
            },
            "opacity": 0.8,
            "size": 14,
            "symbol": "square"
           },
           "mode": "markers",
           "name": "1",
           "orientation": "v",
           "showlegend": true,
           "type": "scatter",
           "x": [
            18
           ],
           "xaxis": "x",
           "y": [
            9
           ],
           "yaxis": "y"
          },
          {
           "hovertemplate": "bird=2<br>time=35<br>x=%{x}<br>y=%{y}<extra></extra>",
           "legendgroup": "2",
           "marker": {
            "color": "#EF553B",
            "line": {
             "width": 3
            },
            "opacity": 0.8,
            "size": 14,
            "symbol": "square"
           },
           "mode": "markers",
           "name": "2",
           "orientation": "v",
           "showlegend": true,
           "type": "scatter",
           "x": [
            18
           ],
           "xaxis": "x",
           "y": [
            9
           ],
           "yaxis": "y"
          },
          {
           "hovertemplate": "bird=3<br>time=35<br>x=%{x}<br>y=%{y}<extra></extra>",
           "legendgroup": "3",
           "marker": {
            "color": "#00cc96",
            "line": {
             "width": 3
            },
            "opacity": 0.8,
            "size": 14,
            "symbol": "square"
           },
           "mode": "markers",
           "name": "3",
           "orientation": "v",
           "showlegend": true,
           "type": "scatter",
           "x": [
            18
           ],
           "xaxis": "x",
           "y": [
            9
           ],
           "yaxis": "y"
          },
          {
           "hovertemplate": "bird=4<br>time=35<br>x=%{x}<br>y=%{y}<extra></extra>",
           "legendgroup": "4",
           "marker": {
            "color": "#ab63fa",
            "line": {
             "width": 3
            },
            "opacity": 0.8,
            "size": 14,
            "symbol": "square"
           },
           "mode": "markers",
           "name": "4",
           "orientation": "v",
           "showlegend": true,
           "type": "scatter",
           "x": [
            10
           ],
           "xaxis": "x",
           "y": [
            23
           ],
           "yaxis": "y"
          },
          {
           "hovertemplate": "bird=5<br>time=35<br>x=%{x}<br>y=%{y}<extra></extra>",
           "legendgroup": "5",
           "marker": {
            "color": "#FFA15A",
            "line": {
             "width": 3
            },
            "opacity": 0.8,
            "size": 14,
            "symbol": "square"
           },
           "mode": "markers",
           "name": "5",
           "orientation": "v",
           "showlegend": true,
           "type": "scatter",
           "x": [
            18
           ],
           "xaxis": "x",
           "y": [
            9
           ],
           "yaxis": "y"
          },
          {
           "hovertemplate": "bird=6<br>time=35<br>x=%{x}<br>y=%{y}<extra></extra>",
           "legendgroup": "6",
           "marker": {
            "color": "#19d3f3",
            "line": {
             "width": 3
            },
            "opacity": 0.8,
            "size": 14,
            "symbol": "square"
           },
           "mode": "markers",
           "name": "6",
           "orientation": "v",
           "showlegend": true,
           "type": "scatter",
           "x": [
            15
           ],
           "xaxis": "x",
           "y": [
            8
           ],
           "yaxis": "y"
          },
          {
           "hovertemplate": "bird=7<br>time=35<br>x=%{x}<br>y=%{y}<extra></extra>",
           "legendgroup": "7",
           "marker": {
            "color": "#FF6692",
            "line": {
             "width": 3
            },
            "opacity": 0.8,
            "size": 14,
            "symbol": "square"
           },
           "mode": "markers",
           "name": "7",
           "orientation": "v",
           "showlegend": true,
           "type": "scatter",
           "x": [
            1
           ],
           "xaxis": "x",
           "y": [
            26
           ],
           "yaxis": "y"
          },
          {
           "hovertemplate": "bird=8<br>time=35<br>x=%{x}<br>y=%{y}<extra></extra>",
           "legendgroup": "8",
           "marker": {
            "color": "#B6E880",
            "line": {
             "width": 3
            },
            "opacity": 0.8,
            "size": 14,
            "symbol": "square"
           },
           "mode": "markers",
           "name": "8",
           "orientation": "v",
           "showlegend": true,
           "type": "scatter",
           "x": [
            15
           ],
           "xaxis": "x",
           "y": [
            8
           ],
           "yaxis": "y"
          },
          {
           "hovertemplate": "bird=9<br>time=35<br>x=%{x}<br>y=%{y}<extra></extra>",
           "legendgroup": "9",
           "marker": {
            "color": "#FF97FF",
            "line": {
             "width": 3
            },
            "opacity": 0.8,
            "size": 14,
            "symbol": "square"
           },
           "mode": "markers",
           "name": "9",
           "orientation": "v",
           "showlegend": true,
           "type": "scatter",
           "x": [
            17
           ],
           "xaxis": "x",
           "y": [
            18
           ],
           "yaxis": "y"
          },
          {
           "hovertemplate": "bird=reward<br>time=35<br>x=%{x}<br>y=%{y}<extra></extra>",
           "legendgroup": "reward",
           "marker": {
            "color": "yellow",
            "symbol": "square"
           },
           "mode": "markers",
           "name": "reward",
           "orientation": "v",
           "showlegend": false,
           "type": "scatter",
           "x": [
            16,
            17,
            18,
            15,
            16,
            17,
            15,
            16,
            17,
            18,
            15,
            16,
            17,
            18
           ],
           "xaxis": "x",
           "y": [
            8,
            8,
            8,
            9,
            9,
            9,
            10,
            10,
            10,
            10,
            11,
            11,
            11,
            11
           ],
           "yaxis": "y"
          }
         ],
         "name": "35"
        },
        {
         "data": [
          {
           "hovertemplate": "bird=1<br>time=36<br>x=%{x}<br>y=%{y}<extra></extra>",
           "legendgroup": "1",
           "marker": {
            "color": "#636efa",
            "line": {
             "width": 3
            },
            "opacity": 0.8,
            "size": 14,
            "symbol": "square"
           },
           "mode": "markers",
           "name": "1",
           "orientation": "v",
           "showlegend": true,
           "type": "scatter",
           "x": [
            18
           ],
           "xaxis": "x",
           "y": [
            9
           ],
           "yaxis": "y"
          },
          {
           "hovertemplate": "bird=2<br>time=36<br>x=%{x}<br>y=%{y}<extra></extra>",
           "legendgroup": "2",
           "marker": {
            "color": "#EF553B",
            "line": {
             "width": 3
            },
            "opacity": 0.8,
            "size": 14,
            "symbol": "square"
           },
           "mode": "markers",
           "name": "2",
           "orientation": "v",
           "showlegend": true,
           "type": "scatter",
           "x": [
            18
           ],
           "xaxis": "x",
           "y": [
            9
           ],
           "yaxis": "y"
          },
          {
           "hovertemplate": "bird=3<br>time=36<br>x=%{x}<br>y=%{y}<extra></extra>",
           "legendgroup": "3",
           "marker": {
            "color": "#00cc96",
            "line": {
             "width": 3
            },
            "opacity": 0.8,
            "size": 14,
            "symbol": "square"
           },
           "mode": "markers",
           "name": "3",
           "orientation": "v",
           "showlegend": true,
           "type": "scatter",
           "x": [
            18
           ],
           "xaxis": "x",
           "y": [
            9
           ],
           "yaxis": "y"
          },
          {
           "hovertemplate": "bird=4<br>time=36<br>x=%{x}<br>y=%{y}<extra></extra>",
           "legendgroup": "4",
           "marker": {
            "color": "#ab63fa",
            "line": {
             "width": 3
            },
            "opacity": 0.8,
            "size": 14,
            "symbol": "square"
           },
           "mode": "markers",
           "name": "4",
           "orientation": "v",
           "showlegend": true,
           "type": "scatter",
           "x": [
            12
           ],
           "xaxis": "x",
           "y": [
            22
           ],
           "yaxis": "y"
          },
          {
           "hovertemplate": "bird=5<br>time=36<br>x=%{x}<br>y=%{y}<extra></extra>",
           "legendgroup": "5",
           "marker": {
            "color": "#FFA15A",
            "line": {
             "width": 3
            },
            "opacity": 0.8,
            "size": 14,
            "symbol": "square"
           },
           "mode": "markers",
           "name": "5",
           "orientation": "v",
           "showlegend": true,
           "type": "scatter",
           "x": [
            18
           ],
           "xaxis": "x",
           "y": [
            9
           ],
           "yaxis": "y"
          },
          {
           "hovertemplate": "bird=6<br>time=36<br>x=%{x}<br>y=%{y}<extra></extra>",
           "legendgroup": "6",
           "marker": {
            "color": "#19d3f3",
            "line": {
             "width": 3
            },
            "opacity": 0.8,
            "size": 14,
            "symbol": "square"
           },
           "mode": "markers",
           "name": "6",
           "orientation": "v",
           "showlegend": true,
           "type": "scatter",
           "x": [
            15
           ],
           "xaxis": "x",
           "y": [
            8
           ],
           "yaxis": "y"
          },
          {
           "hovertemplate": "bird=7<br>time=36<br>x=%{x}<br>y=%{y}<extra></extra>",
           "legendgroup": "7",
           "marker": {
            "color": "#FF6692",
            "line": {
             "width": 3
            },
            "opacity": 0.8,
            "size": 14,
            "symbol": "square"
           },
           "mode": "markers",
           "name": "7",
           "orientation": "v",
           "showlegend": true,
           "type": "scatter",
           "x": [
            1
           ],
           "xaxis": "x",
           "y": [
            28
           ],
           "yaxis": "y"
          },
          {
           "hovertemplate": "bird=8<br>time=36<br>x=%{x}<br>y=%{y}<extra></extra>",
           "legendgroup": "8",
           "marker": {
            "color": "#B6E880",
            "line": {
             "width": 3
            },
            "opacity": 0.8,
            "size": 14,
            "symbol": "square"
           },
           "mode": "markers",
           "name": "8",
           "orientation": "v",
           "showlegend": true,
           "type": "scatter",
           "x": [
            15
           ],
           "xaxis": "x",
           "y": [
            8
           ],
           "yaxis": "y"
          },
          {
           "hovertemplate": "bird=9<br>time=36<br>x=%{x}<br>y=%{y}<extra></extra>",
           "legendgroup": "9",
           "marker": {
            "color": "#FF97FF",
            "line": {
             "width": 3
            },
            "opacity": 0.8,
            "size": 14,
            "symbol": "square"
           },
           "mode": "markers",
           "name": "9",
           "orientation": "v",
           "showlegend": true,
           "type": "scatter",
           "x": [
            16
           ],
           "xaxis": "x",
           "y": [
            16
           ],
           "yaxis": "y"
          },
          {
           "hovertemplate": "bird=reward<br>time=36<br>x=%{x}<br>y=%{y}<extra></extra>",
           "legendgroup": "reward",
           "marker": {
            "color": "yellow",
            "symbol": "square"
           },
           "mode": "markers",
           "name": "reward",
           "orientation": "v",
           "showlegend": false,
           "type": "scatter",
           "x": [
            16,
            17,
            18,
            15,
            16,
            17,
            15,
            16,
            17,
            18,
            15,
            16,
            17,
            18
           ],
           "xaxis": "x",
           "y": [
            8,
            8,
            8,
            9,
            9,
            9,
            10,
            10,
            10,
            10,
            11,
            11,
            11,
            11
           ],
           "yaxis": "y"
          }
         ],
         "name": "36"
        },
        {
         "data": [
          {
           "hovertemplate": "bird=1<br>time=37<br>x=%{x}<br>y=%{y}<extra></extra>",
           "legendgroup": "1",
           "marker": {
            "color": "#636efa",
            "line": {
             "width": 3
            },
            "opacity": 0.8,
            "size": 14,
            "symbol": "square"
           },
           "mode": "markers",
           "name": "1",
           "orientation": "v",
           "showlegend": true,
           "type": "scatter",
           "x": [
            18
           ],
           "xaxis": "x",
           "y": [
            9
           ],
           "yaxis": "y"
          },
          {
           "hovertemplate": "bird=2<br>time=37<br>x=%{x}<br>y=%{y}<extra></extra>",
           "legendgroup": "2",
           "marker": {
            "color": "#EF553B",
            "line": {
             "width": 3
            },
            "opacity": 0.8,
            "size": 14,
            "symbol": "square"
           },
           "mode": "markers",
           "name": "2",
           "orientation": "v",
           "showlegend": true,
           "type": "scatter",
           "x": [
            18
           ],
           "xaxis": "x",
           "y": [
            9
           ],
           "yaxis": "y"
          },
          {
           "hovertemplate": "bird=3<br>time=37<br>x=%{x}<br>y=%{y}<extra></extra>",
           "legendgroup": "3",
           "marker": {
            "color": "#00cc96",
            "line": {
             "width": 3
            },
            "opacity": 0.8,
            "size": 14,
            "symbol": "square"
           },
           "mode": "markers",
           "name": "3",
           "orientation": "v",
           "showlegend": true,
           "type": "scatter",
           "x": [
            18
           ],
           "xaxis": "x",
           "y": [
            9
           ],
           "yaxis": "y"
          },
          {
           "hovertemplate": "bird=4<br>time=37<br>x=%{x}<br>y=%{y}<extra></extra>",
           "legendgroup": "4",
           "marker": {
            "color": "#ab63fa",
            "line": {
             "width": 3
            },
            "opacity": 0.8,
            "size": 14,
            "symbol": "square"
           },
           "mode": "markers",
           "name": "4",
           "orientation": "v",
           "showlegend": true,
           "type": "scatter",
           "x": [
            10
           ],
           "xaxis": "x",
           "y": [
            23
           ],
           "yaxis": "y"
          },
          {
           "hovertemplate": "bird=5<br>time=37<br>x=%{x}<br>y=%{y}<extra></extra>",
           "legendgroup": "5",
           "marker": {
            "color": "#FFA15A",
            "line": {
             "width": 3
            },
            "opacity": 0.8,
            "size": 14,
            "symbol": "square"
           },
           "mode": "markers",
           "name": "5",
           "orientation": "v",
           "showlegend": true,
           "type": "scatter",
           "x": [
            18
           ],
           "xaxis": "x",
           "y": [
            9
           ],
           "yaxis": "y"
          },
          {
           "hovertemplate": "bird=6<br>time=37<br>x=%{x}<br>y=%{y}<extra></extra>",
           "legendgroup": "6",
           "marker": {
            "color": "#19d3f3",
            "line": {
             "width": 3
            },
            "opacity": 0.8,
            "size": 14,
            "symbol": "square"
           },
           "mode": "markers",
           "name": "6",
           "orientation": "v",
           "showlegend": true,
           "type": "scatter",
           "x": [
            15
           ],
           "xaxis": "x",
           "y": [
            8
           ],
           "yaxis": "y"
          },
          {
           "hovertemplate": "bird=7<br>time=37<br>x=%{x}<br>y=%{y}<extra></extra>",
           "legendgroup": "7",
           "marker": {
            "color": "#FF6692",
            "line": {
             "width": 3
            },
            "opacity": 0.8,
            "size": 14,
            "symbol": "square"
           },
           "mode": "markers",
           "name": "7",
           "orientation": "v",
           "showlegend": true,
           "type": "scatter",
           "x": [
            0
           ],
           "xaxis": "x",
           "y": [
            26
           ],
           "yaxis": "y"
          },
          {
           "hovertemplate": "bird=8<br>time=37<br>x=%{x}<br>y=%{y}<extra></extra>",
           "legendgroup": "8",
           "marker": {
            "color": "#B6E880",
            "line": {
             "width": 3
            },
            "opacity": 0.8,
            "size": 14,
            "symbol": "square"
           },
           "mode": "markers",
           "name": "8",
           "orientation": "v",
           "showlegend": true,
           "type": "scatter",
           "x": [
            15
           ],
           "xaxis": "x",
           "y": [
            8
           ],
           "yaxis": "y"
          },
          {
           "hovertemplate": "bird=9<br>time=37<br>x=%{x}<br>y=%{y}<extra></extra>",
           "legendgroup": "9",
           "marker": {
            "color": "#FF97FF",
            "line": {
             "width": 3
            },
            "opacity": 0.8,
            "size": 14,
            "symbol": "square"
           },
           "mode": "markers",
           "name": "9",
           "orientation": "v",
           "showlegend": true,
           "type": "scatter",
           "x": [
            16
           ],
           "xaxis": "x",
           "y": [
            13
           ],
           "yaxis": "y"
          },
          {
           "hovertemplate": "bird=reward<br>time=37<br>x=%{x}<br>y=%{y}<extra></extra>",
           "legendgroup": "reward",
           "marker": {
            "color": "yellow",
            "symbol": "square"
           },
           "mode": "markers",
           "name": "reward",
           "orientation": "v",
           "showlegend": false,
           "type": "scatter",
           "x": [
            16,
            17,
            18,
            15,
            16,
            17,
            15,
            16,
            17,
            18,
            15,
            16,
            17,
            18
           ],
           "xaxis": "x",
           "y": [
            8,
            8,
            8,
            9,
            9,
            9,
            10,
            10,
            10,
            10,
            11,
            11,
            11,
            11
           ],
           "yaxis": "y"
          }
         ],
         "name": "37"
        },
        {
         "data": [
          {
           "hovertemplate": "bird=1<br>time=38<br>x=%{x}<br>y=%{y}<extra></extra>",
           "legendgroup": "1",
           "marker": {
            "color": "#636efa",
            "line": {
             "width": 3
            },
            "opacity": 0.8,
            "size": 14,
            "symbol": "square"
           },
           "mode": "markers",
           "name": "1",
           "orientation": "v",
           "showlegend": true,
           "type": "scatter",
           "x": [
            18
           ],
           "xaxis": "x",
           "y": [
            9
           ],
           "yaxis": "y"
          },
          {
           "hovertemplate": "bird=2<br>time=38<br>x=%{x}<br>y=%{y}<extra></extra>",
           "legendgroup": "2",
           "marker": {
            "color": "#EF553B",
            "line": {
             "width": 3
            },
            "opacity": 0.8,
            "size": 14,
            "symbol": "square"
           },
           "mode": "markers",
           "name": "2",
           "orientation": "v",
           "showlegend": true,
           "type": "scatter",
           "x": [
            18
           ],
           "xaxis": "x",
           "y": [
            9
           ],
           "yaxis": "y"
          },
          {
           "hovertemplate": "bird=3<br>time=38<br>x=%{x}<br>y=%{y}<extra></extra>",
           "legendgroup": "3",
           "marker": {
            "color": "#00cc96",
            "line": {
             "width": 3
            },
            "opacity": 0.8,
            "size": 14,
            "symbol": "square"
           },
           "mode": "markers",
           "name": "3",
           "orientation": "v",
           "showlegend": true,
           "type": "scatter",
           "x": [
            18
           ],
           "xaxis": "x",
           "y": [
            9
           ],
           "yaxis": "y"
          },
          {
           "hovertemplate": "bird=4<br>time=38<br>x=%{x}<br>y=%{y}<extra></extra>",
           "legendgroup": "4",
           "marker": {
            "color": "#ab63fa",
            "line": {
             "width": 3
            },
            "opacity": 0.8,
            "size": 14,
            "symbol": "square"
           },
           "mode": "markers",
           "name": "4",
           "orientation": "v",
           "showlegend": true,
           "type": "scatter",
           "x": [
            12
           ],
           "xaxis": "x",
           "y": [
            23
           ],
           "yaxis": "y"
          },
          {
           "hovertemplate": "bird=5<br>time=38<br>x=%{x}<br>y=%{y}<extra></extra>",
           "legendgroup": "5",
           "marker": {
            "color": "#FFA15A",
            "line": {
             "width": 3
            },
            "opacity": 0.8,
            "size": 14,
            "symbol": "square"
           },
           "mode": "markers",
           "name": "5",
           "orientation": "v",
           "showlegend": true,
           "type": "scatter",
           "x": [
            18
           ],
           "xaxis": "x",
           "y": [
            9
           ],
           "yaxis": "y"
          },
          {
           "hovertemplate": "bird=6<br>time=38<br>x=%{x}<br>y=%{y}<extra></extra>",
           "legendgroup": "6",
           "marker": {
            "color": "#19d3f3",
            "line": {
             "width": 3
            },
            "opacity": 0.8,
            "size": 14,
            "symbol": "square"
           },
           "mode": "markers",
           "name": "6",
           "orientation": "v",
           "showlegend": true,
           "type": "scatter",
           "x": [
            15
           ],
           "xaxis": "x",
           "y": [
            8
           ],
           "yaxis": "y"
          },
          {
           "hovertemplate": "bird=7<br>time=38<br>x=%{x}<br>y=%{y}<extra></extra>",
           "legendgroup": "7",
           "marker": {
            "color": "#FF6692",
            "line": {
             "width": 3
            },
            "opacity": 0.8,
            "size": 14,
            "symbol": "square"
           },
           "mode": "markers",
           "name": "7",
           "orientation": "v",
           "showlegend": true,
           "type": "scatter",
           "x": [
            2
           ],
           "xaxis": "x",
           "y": [
            28
           ],
           "yaxis": "y"
          },
          {
           "hovertemplate": "bird=8<br>time=38<br>x=%{x}<br>y=%{y}<extra></extra>",
           "legendgroup": "8",
           "marker": {
            "color": "#B6E880",
            "line": {
             "width": 3
            },
            "opacity": 0.8,
            "size": 14,
            "symbol": "square"
           },
           "mode": "markers",
           "name": "8",
           "orientation": "v",
           "showlegend": true,
           "type": "scatter",
           "x": [
            15
           ],
           "xaxis": "x",
           "y": [
            8
           ],
           "yaxis": "y"
          },
          {
           "hovertemplate": "bird=9<br>time=38<br>x=%{x}<br>y=%{y}<extra></extra>",
           "legendgroup": "9",
           "marker": {
            "color": "#FF97FF",
            "line": {
             "width": 3
            },
            "opacity": 0.8,
            "size": 14,
            "symbol": "square"
           },
           "mode": "markers",
           "name": "9",
           "orientation": "v",
           "showlegend": true,
           "type": "scatter",
           "x": [
            16
           ],
           "xaxis": "x",
           "y": [
            10
           ],
           "yaxis": "y"
          },
          {
           "hovertemplate": "bird=reward<br>time=38<br>x=%{x}<br>y=%{y}<extra></extra>",
           "legendgroup": "reward",
           "marker": {
            "color": "yellow",
            "symbol": "square"
           },
           "mode": "markers",
           "name": "reward",
           "orientation": "v",
           "showlegend": false,
           "type": "scatter",
           "x": [
            16,
            17,
            18,
            15,
            16,
            17,
            15,
            16,
            17,
            18,
            15,
            16,
            17,
            18
           ],
           "xaxis": "x",
           "y": [
            8,
            8,
            8,
            9,
            9,
            9,
            10,
            10,
            10,
            10,
            11,
            11,
            11,
            11
           ],
           "yaxis": "y"
          }
         ],
         "name": "38"
        },
        {
         "data": [
          {
           "hovertemplate": "bird=1<br>time=39<br>x=%{x}<br>y=%{y}<extra></extra>",
           "legendgroup": "1",
           "marker": {
            "color": "#636efa",
            "line": {
             "width": 3
            },
            "opacity": 0.8,
            "size": 14,
            "symbol": "square"
           },
           "mode": "markers",
           "name": "1",
           "orientation": "v",
           "showlegend": true,
           "type": "scatter",
           "x": [
            18
           ],
           "xaxis": "x",
           "y": [
            9
           ],
           "yaxis": "y"
          },
          {
           "hovertemplate": "bird=2<br>time=39<br>x=%{x}<br>y=%{y}<extra></extra>",
           "legendgroup": "2",
           "marker": {
            "color": "#EF553B",
            "line": {
             "width": 3
            },
            "opacity": 0.8,
            "size": 14,
            "symbol": "square"
           },
           "mode": "markers",
           "name": "2",
           "orientation": "v",
           "showlegend": true,
           "type": "scatter",
           "x": [
            18
           ],
           "xaxis": "x",
           "y": [
            9
           ],
           "yaxis": "y"
          },
          {
           "hovertemplate": "bird=3<br>time=39<br>x=%{x}<br>y=%{y}<extra></extra>",
           "legendgroup": "3",
           "marker": {
            "color": "#00cc96",
            "line": {
             "width": 3
            },
            "opacity": 0.8,
            "size": 14,
            "symbol": "square"
           },
           "mode": "markers",
           "name": "3",
           "orientation": "v",
           "showlegend": true,
           "type": "scatter",
           "x": [
            18
           ],
           "xaxis": "x",
           "y": [
            9
           ],
           "yaxis": "y"
          },
          {
           "hovertemplate": "bird=4<br>time=39<br>x=%{x}<br>y=%{y}<extra></extra>",
           "legendgroup": "4",
           "marker": {
            "color": "#ab63fa",
            "line": {
             "width": 3
            },
            "opacity": 0.8,
            "size": 14,
            "symbol": "square"
           },
           "mode": "markers",
           "name": "4",
           "orientation": "v",
           "showlegend": true,
           "type": "scatter",
           "x": [
            12
           ],
           "xaxis": "x",
           "y": [
            24
           ],
           "yaxis": "y"
          },
          {
           "hovertemplate": "bird=5<br>time=39<br>x=%{x}<br>y=%{y}<extra></extra>",
           "legendgroup": "5",
           "marker": {
            "color": "#FFA15A",
            "line": {
             "width": 3
            },
            "opacity": 0.8,
            "size": 14,
            "symbol": "square"
           },
           "mode": "markers",
           "name": "5",
           "orientation": "v",
           "showlegend": true,
           "type": "scatter",
           "x": [
            18
           ],
           "xaxis": "x",
           "y": [
            9
           ],
           "yaxis": "y"
          },
          {
           "hovertemplate": "bird=6<br>time=39<br>x=%{x}<br>y=%{y}<extra></extra>",
           "legendgroup": "6",
           "marker": {
            "color": "#19d3f3",
            "line": {
             "width": 3
            },
            "opacity": 0.8,
            "size": 14,
            "symbol": "square"
           },
           "mode": "markers",
           "name": "6",
           "orientation": "v",
           "showlegend": true,
           "type": "scatter",
           "x": [
            16
           ],
           "xaxis": "x",
           "y": [
            10
           ],
           "yaxis": "y"
          },
          {
           "hovertemplate": "bird=7<br>time=39<br>x=%{x}<br>y=%{y}<extra></extra>",
           "legendgroup": "7",
           "marker": {
            "color": "#FF6692",
            "line": {
             "width": 3
            },
            "opacity": 0.8,
            "size": 14,
            "symbol": "square"
           },
           "mode": "markers",
           "name": "7",
           "orientation": "v",
           "showlegend": true,
           "type": "scatter",
           "x": [
            1
           ],
           "xaxis": "x",
           "y": [
            27
           ],
           "yaxis": "y"
          },
          {
           "hovertemplate": "bird=8<br>time=39<br>x=%{x}<br>y=%{y}<extra></extra>",
           "legendgroup": "8",
           "marker": {
            "color": "#B6E880",
            "line": {
             "width": 3
            },
            "opacity": 0.8,
            "size": 14,
            "symbol": "square"
           },
           "mode": "markers",
           "name": "8",
           "orientation": "v",
           "showlegend": true,
           "type": "scatter",
           "x": [
            16
           ],
           "xaxis": "x",
           "y": [
            10
           ],
           "yaxis": "y"
          },
          {
           "hovertemplate": "bird=9<br>time=39<br>x=%{x}<br>y=%{y}<extra></extra>",
           "legendgroup": "9",
           "marker": {
            "color": "#FF97FF",
            "line": {
             "width": 3
            },
            "opacity": 0.8,
            "size": 14,
            "symbol": "square"
           },
           "mode": "markers",
           "name": "9",
           "orientation": "v",
           "showlegend": true,
           "type": "scatter",
           "x": [
            18
           ],
           "xaxis": "x",
           "y": [
            9
           ],
           "yaxis": "y"
          },
          {
           "hovertemplate": "bird=reward<br>time=39<br>x=%{x}<br>y=%{y}<extra></extra>",
           "legendgroup": "reward",
           "marker": {
            "color": "yellow",
            "symbol": "square"
           },
           "mode": "markers",
           "name": "reward",
           "orientation": "v",
           "showlegend": false,
           "type": "scatter",
           "x": [
            16,
            17,
            18,
            15,
            16,
            17,
            15,
            17,
            18,
            15,
            16,
            17,
            18
           ],
           "xaxis": "x",
           "y": [
            8,
            8,
            8,
            9,
            9,
            9,
            10,
            10,
            10,
            11,
            11,
            11,
            11
           ],
           "yaxis": "y"
          }
         ],
         "name": "39"
        },
        {
         "data": [
          {
           "hovertemplate": "bird=1<br>time=40<br>x=%{x}<br>y=%{y}<extra></extra>",
           "legendgroup": "1",
           "marker": {
            "color": "#636efa",
            "line": {
             "width": 3
            },
            "opacity": 0.8,
            "size": 14,
            "symbol": "square"
           },
           "mode": "markers",
           "name": "1",
           "orientation": "v",
           "showlegend": true,
           "type": "scatter",
           "x": [
            18
           ],
           "xaxis": "x",
           "y": [
            9
           ],
           "yaxis": "y"
          },
          {
           "hovertemplate": "bird=2<br>time=40<br>x=%{x}<br>y=%{y}<extra></extra>",
           "legendgroup": "2",
           "marker": {
            "color": "#EF553B",
            "line": {
             "width": 3
            },
            "opacity": 0.8,
            "size": 14,
            "symbol": "square"
           },
           "mode": "markers",
           "name": "2",
           "orientation": "v",
           "showlegend": true,
           "type": "scatter",
           "x": [
            18
           ],
           "xaxis": "x",
           "y": [
            9
           ],
           "yaxis": "y"
          },
          {
           "hovertemplate": "bird=3<br>time=40<br>x=%{x}<br>y=%{y}<extra></extra>",
           "legendgroup": "3",
           "marker": {
            "color": "#00cc96",
            "line": {
             "width": 3
            },
            "opacity": 0.8,
            "size": 14,
            "symbol": "square"
           },
           "mode": "markers",
           "name": "3",
           "orientation": "v",
           "showlegend": true,
           "type": "scatter",
           "x": [
            18
           ],
           "xaxis": "x",
           "y": [
            9
           ],
           "yaxis": "y"
          },
          {
           "hovertemplate": "bird=4<br>time=40<br>x=%{x}<br>y=%{y}<extra></extra>",
           "legendgroup": "4",
           "marker": {
            "color": "#ab63fa",
            "line": {
             "width": 3
            },
            "opacity": 0.8,
            "size": 14,
            "symbol": "square"
           },
           "mode": "markers",
           "name": "4",
           "orientation": "v",
           "showlegend": true,
           "type": "scatter",
           "x": [
            14
           ],
           "xaxis": "x",
           "y": [
            25
           ],
           "yaxis": "y"
          },
          {
           "hovertemplate": "bird=5<br>time=40<br>x=%{x}<br>y=%{y}<extra></extra>",
           "legendgroup": "5",
           "marker": {
            "color": "#FFA15A",
            "line": {
             "width": 3
            },
            "opacity": 0.8,
            "size": 14,
            "symbol": "square"
           },
           "mode": "markers",
           "name": "5",
           "orientation": "v",
           "showlegend": true,
           "type": "scatter",
           "x": [
            18
           ],
           "xaxis": "x",
           "y": [
            9
           ],
           "yaxis": "y"
          },
          {
           "hovertemplate": "bird=6<br>time=40<br>x=%{x}<br>y=%{y}<extra></extra>",
           "legendgroup": "6",
           "marker": {
            "color": "#19d3f3",
            "line": {
             "width": 3
            },
            "opacity": 0.8,
            "size": 14,
            "symbol": "square"
           },
           "mode": "markers",
           "name": "6",
           "orientation": "v",
           "showlegend": true,
           "type": "scatter",
           "x": [
            18
           ],
           "xaxis": "x",
           "y": [
            9
           ],
           "yaxis": "y"
          },
          {
           "hovertemplate": "bird=7<br>time=40<br>x=%{x}<br>y=%{y}<extra></extra>",
           "legendgroup": "7",
           "marker": {
            "color": "#FF6692",
            "line": {
             "width": 3
            },
            "opacity": 0.8,
            "size": 14,
            "symbol": "square"
           },
           "mode": "markers",
           "name": "7",
           "orientation": "v",
           "showlegend": true,
           "type": "scatter",
           "x": [
            3
           ],
           "xaxis": "x",
           "y": [
            26
           ],
           "yaxis": "y"
          },
          {
           "hovertemplate": "bird=8<br>time=40<br>x=%{x}<br>y=%{y}<extra></extra>",
           "legendgroup": "8",
           "marker": {
            "color": "#B6E880",
            "line": {
             "width": 3
            },
            "opacity": 0.8,
            "size": 14,
            "symbol": "square"
           },
           "mode": "markers",
           "name": "8",
           "orientation": "v",
           "showlegend": true,
           "type": "scatter",
           "x": [
            18
           ],
           "xaxis": "x",
           "y": [
            9
           ],
           "yaxis": "y"
          },
          {
           "hovertemplate": "bird=9<br>time=40<br>x=%{x}<br>y=%{y}<extra></extra>",
           "legendgroup": "9",
           "marker": {
            "color": "#FF97FF",
            "line": {
             "width": 3
            },
            "opacity": 0.8,
            "size": 14,
            "symbol": "square"
           },
           "mode": "markers",
           "name": "9",
           "orientation": "v",
           "showlegend": true,
           "type": "scatter",
           "x": [
            18
           ],
           "xaxis": "x",
           "y": [
            9
           ],
           "yaxis": "y"
          },
          {
           "hovertemplate": "bird=reward<br>time=40<br>x=%{x}<br>y=%{y}<extra></extra>",
           "legendgroup": "reward",
           "marker": {
            "color": "yellow",
            "symbol": "square"
           },
           "mode": "markers",
           "name": "reward",
           "orientation": "v",
           "showlegend": false,
           "type": "scatter",
           "x": [
            16,
            17,
            18,
            15,
            16,
            17,
            15,
            17,
            18,
            15,
            16,
            17,
            18
           ],
           "xaxis": "x",
           "y": [
            8,
            8,
            8,
            9,
            9,
            9,
            10,
            10,
            10,
            11,
            11,
            11,
            11
           ],
           "yaxis": "y"
          }
         ],
         "name": "40"
        },
        {
         "data": [
          {
           "hovertemplate": "bird=1<br>time=41<br>x=%{x}<br>y=%{y}<extra></extra>",
           "legendgroup": "1",
           "marker": {
            "color": "#636efa",
            "line": {
             "width": 3
            },
            "opacity": 0.8,
            "size": 14,
            "symbol": "square"
           },
           "mode": "markers",
           "name": "1",
           "orientation": "v",
           "showlegend": true,
           "type": "scatter",
           "x": [
            18
           ],
           "xaxis": "x",
           "y": [
            9
           ],
           "yaxis": "y"
          },
          {
           "hovertemplate": "bird=2<br>time=41<br>x=%{x}<br>y=%{y}<extra></extra>",
           "legendgroup": "2",
           "marker": {
            "color": "#EF553B",
            "line": {
             "width": 3
            },
            "opacity": 0.8,
            "size": 14,
            "symbol": "square"
           },
           "mode": "markers",
           "name": "2",
           "orientation": "v",
           "showlegend": true,
           "type": "scatter",
           "x": [
            18
           ],
           "xaxis": "x",
           "y": [
            9
           ],
           "yaxis": "y"
          },
          {
           "hovertemplate": "bird=3<br>time=41<br>x=%{x}<br>y=%{y}<extra></extra>",
           "legendgroup": "3",
           "marker": {
            "color": "#00cc96",
            "line": {
             "width": 3
            },
            "opacity": 0.8,
            "size": 14,
            "symbol": "square"
           },
           "mode": "markers",
           "name": "3",
           "orientation": "v",
           "showlegend": true,
           "type": "scatter",
           "x": [
            18
           ],
           "xaxis": "x",
           "y": [
            9
           ],
           "yaxis": "y"
          },
          {
           "hovertemplate": "bird=4<br>time=41<br>x=%{x}<br>y=%{y}<extra></extra>",
           "legendgroup": "4",
           "marker": {
            "color": "#ab63fa",
            "line": {
             "width": 3
            },
            "opacity": 0.8,
            "size": 14,
            "symbol": "square"
           },
           "mode": "markers",
           "name": "4",
           "orientation": "v",
           "showlegend": true,
           "type": "scatter",
           "x": [
            12
           ],
           "xaxis": "x",
           "y": [
            25
           ],
           "yaxis": "y"
          },
          {
           "hovertemplate": "bird=5<br>time=41<br>x=%{x}<br>y=%{y}<extra></extra>",
           "legendgroup": "5",
           "marker": {
            "color": "#FFA15A",
            "line": {
             "width": 3
            },
            "opacity": 0.8,
            "size": 14,
            "symbol": "square"
           },
           "mode": "markers",
           "name": "5",
           "orientation": "v",
           "showlegend": true,
           "type": "scatter",
           "x": [
            18
           ],
           "xaxis": "x",
           "y": [
            9
           ],
           "yaxis": "y"
          },
          {
           "hovertemplate": "bird=6<br>time=41<br>x=%{x}<br>y=%{y}<extra></extra>",
           "legendgroup": "6",
           "marker": {
            "color": "#19d3f3",
            "line": {
             "width": 3
            },
            "opacity": 0.8,
            "size": 14,
            "symbol": "square"
           },
           "mode": "markers",
           "name": "6",
           "orientation": "v",
           "showlegend": true,
           "type": "scatter",
           "x": [
            18
           ],
           "xaxis": "x",
           "y": [
            9
           ],
           "yaxis": "y"
          },
          {
           "hovertemplate": "bird=7<br>time=41<br>x=%{x}<br>y=%{y}<extra></extra>",
           "legendgroup": "7",
           "marker": {
            "color": "#FF6692",
            "line": {
             "width": 3
            },
            "opacity": 0.8,
            "size": 14,
            "symbol": "square"
           },
           "mode": "markers",
           "name": "7",
           "orientation": "v",
           "showlegend": true,
           "type": "scatter",
           "x": [
            2
           ],
           "xaxis": "x",
           "y": [
            27
           ],
           "yaxis": "y"
          },
          {
           "hovertemplate": "bird=8<br>time=41<br>x=%{x}<br>y=%{y}<extra></extra>",
           "legendgroup": "8",
           "marker": {
            "color": "#B6E880",
            "line": {
             "width": 3
            },
            "opacity": 0.8,
            "size": 14,
            "symbol": "square"
           },
           "mode": "markers",
           "name": "8",
           "orientation": "v",
           "showlegend": true,
           "type": "scatter",
           "x": [
            18
           ],
           "xaxis": "x",
           "y": [
            9
           ],
           "yaxis": "y"
          },
          {
           "hovertemplate": "bird=9<br>time=41<br>x=%{x}<br>y=%{y}<extra></extra>",
           "legendgroup": "9",
           "marker": {
            "color": "#FF97FF",
            "line": {
             "width": 3
            },
            "opacity": 0.8,
            "size": 14,
            "symbol": "square"
           },
           "mode": "markers",
           "name": "9",
           "orientation": "v",
           "showlegend": true,
           "type": "scatter",
           "x": [
            18
           ],
           "xaxis": "x",
           "y": [
            9
           ],
           "yaxis": "y"
          },
          {
           "hovertemplate": "bird=reward<br>time=41<br>x=%{x}<br>y=%{y}<extra></extra>",
           "legendgroup": "reward",
           "marker": {
            "color": "yellow",
            "symbol": "square"
           },
           "mode": "markers",
           "name": "reward",
           "orientation": "v",
           "showlegend": false,
           "type": "scatter",
           "x": [
            16,
            17,
            18,
            15,
            16,
            17,
            15,
            17,
            18,
            15,
            16,
            17,
            18
           ],
           "xaxis": "x",
           "y": [
            8,
            8,
            8,
            9,
            9,
            9,
            10,
            10,
            10,
            11,
            11,
            11,
            11
           ],
           "yaxis": "y"
          }
         ],
         "name": "41"
        },
        {
         "data": [
          {
           "hovertemplate": "bird=1<br>time=42<br>x=%{x}<br>y=%{y}<extra></extra>",
           "legendgroup": "1",
           "marker": {
            "color": "#636efa",
            "line": {
             "width": 3
            },
            "opacity": 0.8,
            "size": 14,
            "symbol": "square"
           },
           "mode": "markers",
           "name": "1",
           "orientation": "v",
           "showlegend": true,
           "type": "scatter",
           "x": [
            18
           ],
           "xaxis": "x",
           "y": [
            9
           ],
           "yaxis": "y"
          },
          {
           "hovertemplate": "bird=2<br>time=42<br>x=%{x}<br>y=%{y}<extra></extra>",
           "legendgroup": "2",
           "marker": {
            "color": "#EF553B",
            "line": {
             "width": 3
            },
            "opacity": 0.8,
            "size": 14,
            "symbol": "square"
           },
           "mode": "markers",
           "name": "2",
           "orientation": "v",
           "showlegend": true,
           "type": "scatter",
           "x": [
            18
           ],
           "xaxis": "x",
           "y": [
            9
           ],
           "yaxis": "y"
          },
          {
           "hovertemplate": "bird=3<br>time=42<br>x=%{x}<br>y=%{y}<extra></extra>",
           "legendgroup": "3",
           "marker": {
            "color": "#00cc96",
            "line": {
             "width": 3
            },
            "opacity": 0.8,
            "size": 14,
            "symbol": "square"
           },
           "mode": "markers",
           "name": "3",
           "orientation": "v",
           "showlegend": true,
           "type": "scatter",
           "x": [
            18
           ],
           "xaxis": "x",
           "y": [
            9
           ],
           "yaxis": "y"
          },
          {
           "hovertemplate": "bird=4<br>time=42<br>x=%{x}<br>y=%{y}<extra></extra>",
           "legendgroup": "4",
           "marker": {
            "color": "#ab63fa",
            "line": {
             "width": 3
            },
            "opacity": 0.8,
            "size": 14,
            "symbol": "square"
           },
           "mode": "markers",
           "name": "4",
           "orientation": "v",
           "showlegend": true,
           "type": "scatter",
           "x": [
            10
           ],
           "xaxis": "x",
           "y": [
            25
           ],
           "yaxis": "y"
          },
          {
           "hovertemplate": "bird=5<br>time=42<br>x=%{x}<br>y=%{y}<extra></extra>",
           "legendgroup": "5",
           "marker": {
            "color": "#FFA15A",
            "line": {
             "width": 3
            },
            "opacity": 0.8,
            "size": 14,
            "symbol": "square"
           },
           "mode": "markers",
           "name": "5",
           "orientation": "v",
           "showlegend": true,
           "type": "scatter",
           "x": [
            18
           ],
           "xaxis": "x",
           "y": [
            9
           ],
           "yaxis": "y"
          },
          {
           "hovertemplate": "bird=6<br>time=42<br>x=%{x}<br>y=%{y}<extra></extra>",
           "legendgroup": "6",
           "marker": {
            "color": "#19d3f3",
            "line": {
             "width": 3
            },
            "opacity": 0.8,
            "size": 14,
            "symbol": "square"
           },
           "mode": "markers",
           "name": "6",
           "orientation": "v",
           "showlegend": true,
           "type": "scatter",
           "x": [
            18
           ],
           "xaxis": "x",
           "y": [
            9
           ],
           "yaxis": "y"
          },
          {
           "hovertemplate": "bird=7<br>time=42<br>x=%{x}<br>y=%{y}<extra></extra>",
           "legendgroup": "7",
           "marker": {
            "color": "#FF6692",
            "line": {
             "width": 3
            },
            "opacity": 0.8,
            "size": 14,
            "symbol": "square"
           },
           "mode": "markers",
           "name": "7",
           "orientation": "v",
           "showlegend": true,
           "type": "scatter",
           "x": [
            5
           ],
           "xaxis": "x",
           "y": [
            27
           ],
           "yaxis": "y"
          },
          {
           "hovertemplate": "bird=8<br>time=42<br>x=%{x}<br>y=%{y}<extra></extra>",
           "legendgroup": "8",
           "marker": {
            "color": "#B6E880",
            "line": {
             "width": 3
            },
            "opacity": 0.8,
            "size": 14,
            "symbol": "square"
           },
           "mode": "markers",
           "name": "8",
           "orientation": "v",
           "showlegend": true,
           "type": "scatter",
           "x": [
            18
           ],
           "xaxis": "x",
           "y": [
            9
           ],
           "yaxis": "y"
          },
          {
           "hovertemplate": "bird=9<br>time=42<br>x=%{x}<br>y=%{y}<extra></extra>",
           "legendgroup": "9",
           "marker": {
            "color": "#FF97FF",
            "line": {
             "width": 3
            },
            "opacity": 0.8,
            "size": 14,
            "symbol": "square"
           },
           "mode": "markers",
           "name": "9",
           "orientation": "v",
           "showlegend": true,
           "type": "scatter",
           "x": [
            18
           ],
           "xaxis": "x",
           "y": [
            9
           ],
           "yaxis": "y"
          },
          {
           "hovertemplate": "bird=reward<br>time=42<br>x=%{x}<br>y=%{y}<extra></extra>",
           "legendgroup": "reward",
           "marker": {
            "color": "yellow",
            "symbol": "square"
           },
           "mode": "markers",
           "name": "reward",
           "orientation": "v",
           "showlegend": false,
           "type": "scatter",
           "x": [
            16,
            17,
            18,
            15,
            16,
            17,
            15,
            17,
            18,
            15,
            16,
            17,
            18
           ],
           "xaxis": "x",
           "y": [
            8,
            8,
            8,
            9,
            9,
            9,
            10,
            10,
            10,
            11,
            11,
            11,
            11
           ],
           "yaxis": "y"
          }
         ],
         "name": "42"
        },
        {
         "data": [
          {
           "hovertemplate": "bird=1<br>time=43<br>x=%{x}<br>y=%{y}<extra></extra>",
           "legendgroup": "1",
           "marker": {
            "color": "#636efa",
            "line": {
             "width": 3
            },
            "opacity": 0.8,
            "size": 14,
            "symbol": "square"
           },
           "mode": "markers",
           "name": "1",
           "orientation": "v",
           "showlegend": true,
           "type": "scatter",
           "x": [
            18
           ],
           "xaxis": "x",
           "y": [
            9
           ],
           "yaxis": "y"
          },
          {
           "hovertemplate": "bird=2<br>time=43<br>x=%{x}<br>y=%{y}<extra></extra>",
           "legendgroup": "2",
           "marker": {
            "color": "#EF553B",
            "line": {
             "width": 3
            },
            "opacity": 0.8,
            "size": 14,
            "symbol": "square"
           },
           "mode": "markers",
           "name": "2",
           "orientation": "v",
           "showlegend": true,
           "type": "scatter",
           "x": [
            18
           ],
           "xaxis": "x",
           "y": [
            9
           ],
           "yaxis": "y"
          },
          {
           "hovertemplate": "bird=3<br>time=43<br>x=%{x}<br>y=%{y}<extra></extra>",
           "legendgroup": "3",
           "marker": {
            "color": "#00cc96",
            "line": {
             "width": 3
            },
            "opacity": 0.8,
            "size": 14,
            "symbol": "square"
           },
           "mode": "markers",
           "name": "3",
           "orientation": "v",
           "showlegend": true,
           "type": "scatter",
           "x": [
            18
           ],
           "xaxis": "x",
           "y": [
            9
           ],
           "yaxis": "y"
          },
          {
           "hovertemplate": "bird=4<br>time=43<br>x=%{x}<br>y=%{y}<extra></extra>",
           "legendgroup": "4",
           "marker": {
            "color": "#ab63fa",
            "line": {
             "width": 3
            },
            "opacity": 0.8,
            "size": 14,
            "symbol": "square"
           },
           "mode": "markers",
           "name": "4",
           "orientation": "v",
           "showlegend": true,
           "type": "scatter",
           "x": [
            11
           ],
           "xaxis": "x",
           "y": [
            26
           ],
           "yaxis": "y"
          },
          {
           "hovertemplate": "bird=5<br>time=43<br>x=%{x}<br>y=%{y}<extra></extra>",
           "legendgroup": "5",
           "marker": {
            "color": "#FFA15A",
            "line": {
             "width": 3
            },
            "opacity": 0.8,
            "size": 14,
            "symbol": "square"
           },
           "mode": "markers",
           "name": "5",
           "orientation": "v",
           "showlegend": true,
           "type": "scatter",
           "x": [
            18
           ],
           "xaxis": "x",
           "y": [
            9
           ],
           "yaxis": "y"
          },
          {
           "hovertemplate": "bird=6<br>time=43<br>x=%{x}<br>y=%{y}<extra></extra>",
           "legendgroup": "6",
           "marker": {
            "color": "#19d3f3",
            "line": {
             "width": 3
            },
            "opacity": 0.8,
            "size": 14,
            "symbol": "square"
           },
           "mode": "markers",
           "name": "6",
           "orientation": "v",
           "showlegend": true,
           "type": "scatter",
           "x": [
            18
           ],
           "xaxis": "x",
           "y": [
            9
           ],
           "yaxis": "y"
          },
          {
           "hovertemplate": "bird=7<br>time=43<br>x=%{x}<br>y=%{y}<extra></extra>",
           "legendgroup": "7",
           "marker": {
            "color": "#FF6692",
            "line": {
             "width": 3
            },
            "opacity": 0.8,
            "size": 14,
            "symbol": "square"
           },
           "mode": "markers",
           "name": "7",
           "orientation": "v",
           "showlegend": true,
           "type": "scatter",
           "x": [
            3
           ],
           "xaxis": "x",
           "y": [
            29
           ],
           "yaxis": "y"
          },
          {
           "hovertemplate": "bird=8<br>time=43<br>x=%{x}<br>y=%{y}<extra></extra>",
           "legendgroup": "8",
           "marker": {
            "color": "#B6E880",
            "line": {
             "width": 3
            },
            "opacity": 0.8,
            "size": 14,
            "symbol": "square"
           },
           "mode": "markers",
           "name": "8",
           "orientation": "v",
           "showlegend": true,
           "type": "scatter",
           "x": [
            18
           ],
           "xaxis": "x",
           "y": [
            9
           ],
           "yaxis": "y"
          },
          {
           "hovertemplate": "bird=9<br>time=43<br>x=%{x}<br>y=%{y}<extra></extra>",
           "legendgroup": "9",
           "marker": {
            "color": "#FF97FF",
            "line": {
             "width": 3
            },
            "opacity": 0.8,
            "size": 14,
            "symbol": "square"
           },
           "mode": "markers",
           "name": "9",
           "orientation": "v",
           "showlegend": true,
           "type": "scatter",
           "x": [
            18
           ],
           "xaxis": "x",
           "y": [
            9
           ],
           "yaxis": "y"
          },
          {
           "hovertemplate": "bird=reward<br>time=43<br>x=%{x}<br>y=%{y}<extra></extra>",
           "legendgroup": "reward",
           "marker": {
            "color": "yellow",
            "symbol": "square"
           },
           "mode": "markers",
           "name": "reward",
           "orientation": "v",
           "showlegend": false,
           "type": "scatter",
           "x": [
            16,
            17,
            18,
            15,
            16,
            17,
            15,
            17,
            18,
            15,
            16,
            17,
            18
           ],
           "xaxis": "x",
           "y": [
            8,
            8,
            8,
            9,
            9,
            9,
            10,
            10,
            10,
            11,
            11,
            11,
            11
           ],
           "yaxis": "y"
          }
         ],
         "name": "43"
        },
        {
         "data": [
          {
           "hovertemplate": "bird=1<br>time=44<br>x=%{x}<br>y=%{y}<extra></extra>",
           "legendgroup": "1",
           "marker": {
            "color": "#636efa",
            "line": {
             "width": 3
            },
            "opacity": 0.8,
            "size": 14,
            "symbol": "square"
           },
           "mode": "markers",
           "name": "1",
           "orientation": "v",
           "showlegend": true,
           "type": "scatter",
           "x": [
            18
           ],
           "xaxis": "x",
           "y": [
            9
           ],
           "yaxis": "y"
          },
          {
           "hovertemplate": "bird=2<br>time=44<br>x=%{x}<br>y=%{y}<extra></extra>",
           "legendgroup": "2",
           "marker": {
            "color": "#EF553B",
            "line": {
             "width": 3
            },
            "opacity": 0.8,
            "size": 14,
            "symbol": "square"
           },
           "mode": "markers",
           "name": "2",
           "orientation": "v",
           "showlegend": true,
           "type": "scatter",
           "x": [
            18
           ],
           "xaxis": "x",
           "y": [
            9
           ],
           "yaxis": "y"
          },
          {
           "hovertemplate": "bird=3<br>time=44<br>x=%{x}<br>y=%{y}<extra></extra>",
           "legendgroup": "3",
           "marker": {
            "color": "#00cc96",
            "line": {
             "width": 3
            },
            "opacity": 0.8,
            "size": 14,
            "symbol": "square"
           },
           "mode": "markers",
           "name": "3",
           "orientation": "v",
           "showlegend": true,
           "type": "scatter",
           "x": [
            18
           ],
           "xaxis": "x",
           "y": [
            9
           ],
           "yaxis": "y"
          },
          {
           "hovertemplate": "bird=4<br>time=44<br>x=%{x}<br>y=%{y}<extra></extra>",
           "legendgroup": "4",
           "marker": {
            "color": "#ab63fa",
            "line": {
             "width": 3
            },
            "opacity": 0.8,
            "size": 14,
            "symbol": "square"
           },
           "mode": "markers",
           "name": "4",
           "orientation": "v",
           "showlegend": true,
           "type": "scatter",
           "x": [
            11
           ],
           "xaxis": "x",
           "y": [
            29
           ],
           "yaxis": "y"
          },
          {
           "hovertemplate": "bird=5<br>time=44<br>x=%{x}<br>y=%{y}<extra></extra>",
           "legendgroup": "5",
           "marker": {
            "color": "#FFA15A",
            "line": {
             "width": 3
            },
            "opacity": 0.8,
            "size": 14,
            "symbol": "square"
           },
           "mode": "markers",
           "name": "5",
           "orientation": "v",
           "showlegend": true,
           "type": "scatter",
           "x": [
            18
           ],
           "xaxis": "x",
           "y": [
            9
           ],
           "yaxis": "y"
          },
          {
           "hovertemplate": "bird=6<br>time=44<br>x=%{x}<br>y=%{y}<extra></extra>",
           "legendgroup": "6",
           "marker": {
            "color": "#19d3f3",
            "line": {
             "width": 3
            },
            "opacity": 0.8,
            "size": 14,
            "symbol": "square"
           },
           "mode": "markers",
           "name": "6",
           "orientation": "v",
           "showlegend": true,
           "type": "scatter",
           "x": [
            18
           ],
           "xaxis": "x",
           "y": [
            9
           ],
           "yaxis": "y"
          },
          {
           "hovertemplate": "bird=7<br>time=44<br>x=%{x}<br>y=%{y}<extra></extra>",
           "legendgroup": "7",
           "marker": {
            "color": "#FF6692",
            "line": {
             "width": 3
            },
            "opacity": 0.8,
            "size": 14,
            "symbol": "square"
           },
           "mode": "markers",
           "name": "7",
           "orientation": "v",
           "showlegend": true,
           "type": "scatter",
           "x": [
            2
           ],
           "xaxis": "x",
           "y": [
            29
           ],
           "yaxis": "y"
          },
          {
           "hovertemplate": "bird=8<br>time=44<br>x=%{x}<br>y=%{y}<extra></extra>",
           "legendgroup": "8",
           "marker": {
            "color": "#B6E880",
            "line": {
             "width": 3
            },
            "opacity": 0.8,
            "size": 14,
            "symbol": "square"
           },
           "mode": "markers",
           "name": "8",
           "orientation": "v",
           "showlegend": true,
           "type": "scatter",
           "x": [
            18
           ],
           "xaxis": "x",
           "y": [
            9
           ],
           "yaxis": "y"
          },
          {
           "hovertemplate": "bird=9<br>time=44<br>x=%{x}<br>y=%{y}<extra></extra>",
           "legendgroup": "9",
           "marker": {
            "color": "#FF97FF",
            "line": {
             "width": 3
            },
            "opacity": 0.8,
            "size": 14,
            "symbol": "square"
           },
           "mode": "markers",
           "name": "9",
           "orientation": "v",
           "showlegend": true,
           "type": "scatter",
           "x": [
            18
           ],
           "xaxis": "x",
           "y": [
            9
           ],
           "yaxis": "y"
          },
          {
           "hovertemplate": "bird=reward<br>time=44<br>x=%{x}<br>y=%{y}<extra></extra>",
           "legendgroup": "reward",
           "marker": {
            "color": "yellow",
            "symbol": "square"
           },
           "mode": "markers",
           "name": "reward",
           "orientation": "v",
           "showlegend": false,
           "type": "scatter",
           "x": [
            16,
            17,
            18,
            15,
            16,
            17,
            15,
            17,
            18,
            15,
            16,
            17,
            18
           ],
           "xaxis": "x",
           "y": [
            8,
            8,
            8,
            9,
            9,
            9,
            10,
            10,
            10,
            11,
            11,
            11,
            11
           ],
           "yaxis": "y"
          }
         ],
         "name": "44"
        },
        {
         "data": [
          {
           "hovertemplate": "bird=1<br>time=45<br>x=%{x}<br>y=%{y}<extra></extra>",
           "legendgroup": "1",
           "marker": {
            "color": "#636efa",
            "line": {
             "width": 3
            },
            "opacity": 0.8,
            "size": 14,
            "symbol": "square"
           },
           "mode": "markers",
           "name": "1",
           "orientation": "v",
           "showlegend": true,
           "type": "scatter",
           "x": [
            18
           ],
           "xaxis": "x",
           "y": [
            9
           ],
           "yaxis": "y"
          },
          {
           "hovertemplate": "bird=2<br>time=45<br>x=%{x}<br>y=%{y}<extra></extra>",
           "legendgroup": "2",
           "marker": {
            "color": "#EF553B",
            "line": {
             "width": 3
            },
            "opacity": 0.8,
            "size": 14,
            "symbol": "square"
           },
           "mode": "markers",
           "name": "2",
           "orientation": "v",
           "showlegend": true,
           "type": "scatter",
           "x": [
            18
           ],
           "xaxis": "x",
           "y": [
            9
           ],
           "yaxis": "y"
          },
          {
           "hovertemplate": "bird=3<br>time=45<br>x=%{x}<br>y=%{y}<extra></extra>",
           "legendgroup": "3",
           "marker": {
            "color": "#00cc96",
            "line": {
             "width": 3
            },
            "opacity": 0.8,
            "size": 14,
            "symbol": "square"
           },
           "mode": "markers",
           "name": "3",
           "orientation": "v",
           "showlegend": true,
           "type": "scatter",
           "x": [
            18
           ],
           "xaxis": "x",
           "y": [
            9
           ],
           "yaxis": "y"
          },
          {
           "hovertemplate": "bird=4<br>time=45<br>x=%{x}<br>y=%{y}<extra></extra>",
           "legendgroup": "4",
           "marker": {
            "color": "#ab63fa",
            "line": {
             "width": 3
            },
            "opacity": 0.8,
            "size": 14,
            "symbol": "square"
           },
           "mode": "markers",
           "name": "4",
           "orientation": "v",
           "showlegend": true,
           "type": "scatter",
           "x": [
            11
           ],
           "xaxis": "x",
           "y": [
            27
           ],
           "yaxis": "y"
          },
          {
           "hovertemplate": "bird=5<br>time=45<br>x=%{x}<br>y=%{y}<extra></extra>",
           "legendgroup": "5",
           "marker": {
            "color": "#FFA15A",
            "line": {
             "width": 3
            },
            "opacity": 0.8,
            "size": 14,
            "symbol": "square"
           },
           "mode": "markers",
           "name": "5",
           "orientation": "v",
           "showlegend": true,
           "type": "scatter",
           "x": [
            18
           ],
           "xaxis": "x",
           "y": [
            9
           ],
           "yaxis": "y"
          },
          {
           "hovertemplate": "bird=6<br>time=45<br>x=%{x}<br>y=%{y}<extra></extra>",
           "legendgroup": "6",
           "marker": {
            "color": "#19d3f3",
            "line": {
             "width": 3
            },
            "opacity": 0.8,
            "size": 14,
            "symbol": "square"
           },
           "mode": "markers",
           "name": "6",
           "orientation": "v",
           "showlegend": true,
           "type": "scatter",
           "x": [
            18
           ],
           "xaxis": "x",
           "y": [
            9
           ],
           "yaxis": "y"
          },
          {
           "hovertemplate": "bird=7<br>time=45<br>x=%{x}<br>y=%{y}<extra></extra>",
           "legendgroup": "7",
           "marker": {
            "color": "#FF6692",
            "line": {
             "width": 3
            },
            "opacity": 0.8,
            "size": 14,
            "symbol": "square"
           },
           "mode": "markers",
           "name": "7",
           "orientation": "v",
           "showlegend": true,
           "type": "scatter",
           "x": [
            0
           ],
           "xaxis": "x",
           "y": [
            29
           ],
           "yaxis": "y"
          },
          {
           "hovertemplate": "bird=8<br>time=45<br>x=%{x}<br>y=%{y}<extra></extra>",
           "legendgroup": "8",
           "marker": {
            "color": "#B6E880",
            "line": {
             "width": 3
            },
            "opacity": 0.8,
            "size": 14,
            "symbol": "square"
           },
           "mode": "markers",
           "name": "8",
           "orientation": "v",
           "showlegend": true,
           "type": "scatter",
           "x": [
            18
           ],
           "xaxis": "x",
           "y": [
            9
           ],
           "yaxis": "y"
          },
          {
           "hovertemplate": "bird=9<br>time=45<br>x=%{x}<br>y=%{y}<extra></extra>",
           "legendgroup": "9",
           "marker": {
            "color": "#FF97FF",
            "line": {
             "width": 3
            },
            "opacity": 0.8,
            "size": 14,
            "symbol": "square"
           },
           "mode": "markers",
           "name": "9",
           "orientation": "v",
           "showlegend": true,
           "type": "scatter",
           "x": [
            18
           ],
           "xaxis": "x",
           "y": [
            9
           ],
           "yaxis": "y"
          },
          {
           "hovertemplate": "bird=reward<br>time=45<br>x=%{x}<br>y=%{y}<extra></extra>",
           "legendgroup": "reward",
           "marker": {
            "color": "yellow",
            "symbol": "square"
           },
           "mode": "markers",
           "name": "reward",
           "orientation": "v",
           "showlegend": false,
           "type": "scatter",
           "x": [
            16,
            17,
            18,
            15,
            16,
            17,
            15,
            17,
            18,
            15,
            16,
            17,
            18
           ],
           "xaxis": "x",
           "y": [
            8,
            8,
            8,
            9,
            9,
            9,
            10,
            10,
            10,
            11,
            11,
            11,
            11
           ],
           "yaxis": "y"
          }
         ],
         "name": "45"
        },
        {
         "data": [
          {
           "hovertemplate": "bird=1<br>time=46<br>x=%{x}<br>y=%{y}<extra></extra>",
           "legendgroup": "1",
           "marker": {
            "color": "#636efa",
            "line": {
             "width": 3
            },
            "opacity": 0.8,
            "size": 14,
            "symbol": "square"
           },
           "mode": "markers",
           "name": "1",
           "orientation": "v",
           "showlegend": true,
           "type": "scatter",
           "x": [
            18
           ],
           "xaxis": "x",
           "y": [
            9
           ],
           "yaxis": "y"
          },
          {
           "hovertemplate": "bird=2<br>time=46<br>x=%{x}<br>y=%{y}<extra></extra>",
           "legendgroup": "2",
           "marker": {
            "color": "#EF553B",
            "line": {
             "width": 3
            },
            "opacity": 0.8,
            "size": 14,
            "symbol": "square"
           },
           "mode": "markers",
           "name": "2",
           "orientation": "v",
           "showlegend": true,
           "type": "scatter",
           "x": [
            18
           ],
           "xaxis": "x",
           "y": [
            9
           ],
           "yaxis": "y"
          },
          {
           "hovertemplate": "bird=3<br>time=46<br>x=%{x}<br>y=%{y}<extra></extra>",
           "legendgroup": "3",
           "marker": {
            "color": "#00cc96",
            "line": {
             "width": 3
            },
            "opacity": 0.8,
            "size": 14,
            "symbol": "square"
           },
           "mode": "markers",
           "name": "3",
           "orientation": "v",
           "showlegend": true,
           "type": "scatter",
           "x": [
            18
           ],
           "xaxis": "x",
           "y": [
            9
           ],
           "yaxis": "y"
          },
          {
           "hovertemplate": "bird=4<br>time=46<br>x=%{x}<br>y=%{y}<extra></extra>",
           "legendgroup": "4",
           "marker": {
            "color": "#ab63fa",
            "line": {
             "width": 3
            },
            "opacity": 0.8,
            "size": 14,
            "symbol": "square"
           },
           "mode": "markers",
           "name": "4",
           "orientation": "v",
           "showlegend": true,
           "type": "scatter",
           "x": [
            14
           ],
           "xaxis": "x",
           "y": [
            27
           ],
           "yaxis": "y"
          },
          {
           "hovertemplate": "bird=5<br>time=46<br>x=%{x}<br>y=%{y}<extra></extra>",
           "legendgroup": "5",
           "marker": {
            "color": "#FFA15A",
            "line": {
             "width": 3
            },
            "opacity": 0.8,
            "size": 14,
            "symbol": "square"
           },
           "mode": "markers",
           "name": "5",
           "orientation": "v",
           "showlegend": true,
           "type": "scatter",
           "x": [
            18
           ],
           "xaxis": "x",
           "y": [
            9
           ],
           "yaxis": "y"
          },
          {
           "hovertemplate": "bird=6<br>time=46<br>x=%{x}<br>y=%{y}<extra></extra>",
           "legendgroup": "6",
           "marker": {
            "color": "#19d3f3",
            "line": {
             "width": 3
            },
            "opacity": 0.8,
            "size": 14,
            "symbol": "square"
           },
           "mode": "markers",
           "name": "6",
           "orientation": "v",
           "showlegend": true,
           "type": "scatter",
           "x": [
            18
           ],
           "xaxis": "x",
           "y": [
            9
           ],
           "yaxis": "y"
          },
          {
           "hovertemplate": "bird=7<br>time=46<br>x=%{x}<br>y=%{y}<extra></extra>",
           "legendgroup": "7",
           "marker": {
            "color": "#FF6692",
            "line": {
             "width": 3
            },
            "opacity": 0.8,
            "size": 14,
            "symbol": "square"
           },
           "mode": "markers",
           "name": "7",
           "orientation": "v",
           "showlegend": true,
           "type": "scatter",
           "x": [
            2
           ],
           "xaxis": "x",
           "y": [
            28
           ],
           "yaxis": "y"
          },
          {
           "hovertemplate": "bird=8<br>time=46<br>x=%{x}<br>y=%{y}<extra></extra>",
           "legendgroup": "8",
           "marker": {
            "color": "#B6E880",
            "line": {
             "width": 3
            },
            "opacity": 0.8,
            "size": 14,
            "symbol": "square"
           },
           "mode": "markers",
           "name": "8",
           "orientation": "v",
           "showlegend": true,
           "type": "scatter",
           "x": [
            18
           ],
           "xaxis": "x",
           "y": [
            9
           ],
           "yaxis": "y"
          },
          {
           "hovertemplate": "bird=9<br>time=46<br>x=%{x}<br>y=%{y}<extra></extra>",
           "legendgroup": "9",
           "marker": {
            "color": "#FF97FF",
            "line": {
             "width": 3
            },
            "opacity": 0.8,
            "size": 14,
            "symbol": "square"
           },
           "mode": "markers",
           "name": "9",
           "orientation": "v",
           "showlegend": true,
           "type": "scatter",
           "x": [
            18
           ],
           "xaxis": "x",
           "y": [
            9
           ],
           "yaxis": "y"
          },
          {
           "hovertemplate": "bird=reward<br>time=46<br>x=%{x}<br>y=%{y}<extra></extra>",
           "legendgroup": "reward",
           "marker": {
            "color": "yellow",
            "symbol": "square"
           },
           "mode": "markers",
           "name": "reward",
           "orientation": "v",
           "showlegend": false,
           "type": "scatter",
           "x": [
            16,
            17,
            18,
            15,
            16,
            17,
            15,
            17,
            18,
            15,
            16,
            17,
            18
           ],
           "xaxis": "x",
           "y": [
            8,
            8,
            8,
            9,
            9,
            9,
            10,
            10,
            10,
            11,
            11,
            11,
            11
           ],
           "yaxis": "y"
          }
         ],
         "name": "46"
        },
        {
         "data": [
          {
           "hovertemplate": "bird=1<br>time=47<br>x=%{x}<br>y=%{y}<extra></extra>",
           "legendgroup": "1",
           "marker": {
            "color": "#636efa",
            "line": {
             "width": 3
            },
            "opacity": 0.8,
            "size": 14,
            "symbol": "square"
           },
           "mode": "markers",
           "name": "1",
           "orientation": "v",
           "showlegend": true,
           "type": "scatter",
           "x": [
            18
           ],
           "xaxis": "x",
           "y": [
            9
           ],
           "yaxis": "y"
          },
          {
           "hovertemplate": "bird=2<br>time=47<br>x=%{x}<br>y=%{y}<extra></extra>",
           "legendgroup": "2",
           "marker": {
            "color": "#EF553B",
            "line": {
             "width": 3
            },
            "opacity": 0.8,
            "size": 14,
            "symbol": "square"
           },
           "mode": "markers",
           "name": "2",
           "orientation": "v",
           "showlegend": true,
           "type": "scatter",
           "x": [
            18
           ],
           "xaxis": "x",
           "y": [
            9
           ],
           "yaxis": "y"
          },
          {
           "hovertemplate": "bird=3<br>time=47<br>x=%{x}<br>y=%{y}<extra></extra>",
           "legendgroup": "3",
           "marker": {
            "color": "#00cc96",
            "line": {
             "width": 3
            },
            "opacity": 0.8,
            "size": 14,
            "symbol": "square"
           },
           "mode": "markers",
           "name": "3",
           "orientation": "v",
           "showlegend": true,
           "type": "scatter",
           "x": [
            18
           ],
           "xaxis": "x",
           "y": [
            9
           ],
           "yaxis": "y"
          },
          {
           "hovertemplate": "bird=4<br>time=47<br>x=%{x}<br>y=%{y}<extra></extra>",
           "legendgroup": "4",
           "marker": {
            "color": "#ab63fa",
            "line": {
             "width": 3
            },
            "opacity": 0.8,
            "size": 14,
            "symbol": "square"
           },
           "mode": "markers",
           "name": "4",
           "orientation": "v",
           "showlegend": true,
           "type": "scatter",
           "x": [
            17
           ],
           "xaxis": "x",
           "y": [
            27
           ],
           "yaxis": "y"
          },
          {
           "hovertemplate": "bird=5<br>time=47<br>x=%{x}<br>y=%{y}<extra></extra>",
           "legendgroup": "5",
           "marker": {
            "color": "#FFA15A",
            "line": {
             "width": 3
            },
            "opacity": 0.8,
            "size": 14,
            "symbol": "square"
           },
           "mode": "markers",
           "name": "5",
           "orientation": "v",
           "showlegend": true,
           "type": "scatter",
           "x": [
            18
           ],
           "xaxis": "x",
           "y": [
            9
           ],
           "yaxis": "y"
          },
          {
           "hovertemplate": "bird=6<br>time=47<br>x=%{x}<br>y=%{y}<extra></extra>",
           "legendgroup": "6",
           "marker": {
            "color": "#19d3f3",
            "line": {
             "width": 3
            },
            "opacity": 0.8,
            "size": 14,
            "symbol": "square"
           },
           "mode": "markers",
           "name": "6",
           "orientation": "v",
           "showlegend": true,
           "type": "scatter",
           "x": [
            18
           ],
           "xaxis": "x",
           "y": [
            9
           ],
           "yaxis": "y"
          },
          {
           "hovertemplate": "bird=7<br>time=47<br>x=%{x}<br>y=%{y}<extra></extra>",
           "legendgroup": "7",
           "marker": {
            "color": "#FF6692",
            "line": {
             "width": 3
            },
            "opacity": 0.8,
            "size": 14,
            "symbol": "square"
           },
           "mode": "markers",
           "name": "7",
           "orientation": "v",
           "showlegend": true,
           "type": "scatter",
           "x": [
            1
           ],
           "xaxis": "x",
           "y": [
            29
           ],
           "yaxis": "y"
          },
          {
           "hovertemplate": "bird=8<br>time=47<br>x=%{x}<br>y=%{y}<extra></extra>",
           "legendgroup": "8",
           "marker": {
            "color": "#B6E880",
            "line": {
             "width": 3
            },
            "opacity": 0.8,
            "size": 14,
            "symbol": "square"
           },
           "mode": "markers",
           "name": "8",
           "orientation": "v",
           "showlegend": true,
           "type": "scatter",
           "x": [
            18
           ],
           "xaxis": "x",
           "y": [
            9
           ],
           "yaxis": "y"
          },
          {
           "hovertemplate": "bird=9<br>time=47<br>x=%{x}<br>y=%{y}<extra></extra>",
           "legendgroup": "9",
           "marker": {
            "color": "#FF97FF",
            "line": {
             "width": 3
            },
            "opacity": 0.8,
            "size": 14,
            "symbol": "square"
           },
           "mode": "markers",
           "name": "9",
           "orientation": "v",
           "showlegend": true,
           "type": "scatter",
           "x": [
            18
           ],
           "xaxis": "x",
           "y": [
            9
           ],
           "yaxis": "y"
          },
          {
           "hovertemplate": "bird=reward<br>time=47<br>x=%{x}<br>y=%{y}<extra></extra>",
           "legendgroup": "reward",
           "marker": {
            "color": "yellow",
            "symbol": "square"
           },
           "mode": "markers",
           "name": "reward",
           "orientation": "v",
           "showlegend": false,
           "type": "scatter",
           "x": [
            16,
            17,
            18,
            15,
            16,
            17,
            15,
            17,
            18,
            15,
            16,
            17,
            18
           ],
           "xaxis": "x",
           "y": [
            8,
            8,
            8,
            9,
            9,
            9,
            10,
            10,
            10,
            11,
            11,
            11,
            11
           ],
           "yaxis": "y"
          }
         ],
         "name": "47"
        },
        {
         "data": [
          {
           "hovertemplate": "bird=1<br>time=48<br>x=%{x}<br>y=%{y}<extra></extra>",
           "legendgroup": "1",
           "marker": {
            "color": "#636efa",
            "line": {
             "width": 3
            },
            "opacity": 0.8,
            "size": 14,
            "symbol": "square"
           },
           "mode": "markers",
           "name": "1",
           "orientation": "v",
           "showlegend": true,
           "type": "scatter",
           "x": [
            18
           ],
           "xaxis": "x",
           "y": [
            9
           ],
           "yaxis": "y"
          },
          {
           "hovertemplate": "bird=2<br>time=48<br>x=%{x}<br>y=%{y}<extra></extra>",
           "legendgroup": "2",
           "marker": {
            "color": "#EF553B",
            "line": {
             "width": 3
            },
            "opacity": 0.8,
            "size": 14,
            "symbol": "square"
           },
           "mode": "markers",
           "name": "2",
           "orientation": "v",
           "showlegend": true,
           "type": "scatter",
           "x": [
            18
           ],
           "xaxis": "x",
           "y": [
            9
           ],
           "yaxis": "y"
          },
          {
           "hovertemplate": "bird=3<br>time=48<br>x=%{x}<br>y=%{y}<extra></extra>",
           "legendgroup": "3",
           "marker": {
            "color": "#00cc96",
            "line": {
             "width": 3
            },
            "opacity": 0.8,
            "size": 14,
            "symbol": "square"
           },
           "mode": "markers",
           "name": "3",
           "orientation": "v",
           "showlegend": true,
           "type": "scatter",
           "x": [
            18
           ],
           "xaxis": "x",
           "y": [
            9
           ],
           "yaxis": "y"
          },
          {
           "hovertemplate": "bird=4<br>time=48<br>x=%{x}<br>y=%{y}<extra></extra>",
           "legendgroup": "4",
           "marker": {
            "color": "#ab63fa",
            "line": {
             "width": 3
            },
            "opacity": 0.8,
            "size": 14,
            "symbol": "square"
           },
           "mode": "markers",
           "name": "4",
           "orientation": "v",
           "showlegend": true,
           "type": "scatter",
           "x": [
            16
           ],
           "xaxis": "x",
           "y": [
            26
           ],
           "yaxis": "y"
          },
          {
           "hovertemplate": "bird=5<br>time=48<br>x=%{x}<br>y=%{y}<extra></extra>",
           "legendgroup": "5",
           "marker": {
            "color": "#FFA15A",
            "line": {
             "width": 3
            },
            "opacity": 0.8,
            "size": 14,
            "symbol": "square"
           },
           "mode": "markers",
           "name": "5",
           "orientation": "v",
           "showlegend": true,
           "type": "scatter",
           "x": [
            18
           ],
           "xaxis": "x",
           "y": [
            9
           ],
           "yaxis": "y"
          },
          {
           "hovertemplate": "bird=6<br>time=48<br>x=%{x}<br>y=%{y}<extra></extra>",
           "legendgroup": "6",
           "marker": {
            "color": "#19d3f3",
            "line": {
             "width": 3
            },
            "opacity": 0.8,
            "size": 14,
            "symbol": "square"
           },
           "mode": "markers",
           "name": "6",
           "orientation": "v",
           "showlegend": true,
           "type": "scatter",
           "x": [
            18
           ],
           "xaxis": "x",
           "y": [
            9
           ],
           "yaxis": "y"
          },
          {
           "hovertemplate": "bird=7<br>time=48<br>x=%{x}<br>y=%{y}<extra></extra>",
           "legendgroup": "7",
           "marker": {
            "color": "#FF6692",
            "line": {
             "width": 3
            },
            "opacity": 0.8,
            "size": 14,
            "symbol": "square"
           },
           "mode": "markers",
           "name": "7",
           "orientation": "v",
           "showlegend": true,
           "type": "scatter",
           "x": [
            1
           ],
           "xaxis": "x",
           "y": [
            26
           ],
           "yaxis": "y"
          },
          {
           "hovertemplate": "bird=8<br>time=48<br>x=%{x}<br>y=%{y}<extra></extra>",
           "legendgroup": "8",
           "marker": {
            "color": "#B6E880",
            "line": {
             "width": 3
            },
            "opacity": 0.8,
            "size": 14,
            "symbol": "square"
           },
           "mode": "markers",
           "name": "8",
           "orientation": "v",
           "showlegend": true,
           "type": "scatter",
           "x": [
            18
           ],
           "xaxis": "x",
           "y": [
            9
           ],
           "yaxis": "y"
          },
          {
           "hovertemplate": "bird=9<br>time=48<br>x=%{x}<br>y=%{y}<extra></extra>",
           "legendgroup": "9",
           "marker": {
            "color": "#FF97FF",
            "line": {
             "width": 3
            },
            "opacity": 0.8,
            "size": 14,
            "symbol": "square"
           },
           "mode": "markers",
           "name": "9",
           "orientation": "v",
           "showlegend": true,
           "type": "scatter",
           "x": [
            18
           ],
           "xaxis": "x",
           "y": [
            9
           ],
           "yaxis": "y"
          },
          {
           "hovertemplate": "bird=reward<br>time=48<br>x=%{x}<br>y=%{y}<extra></extra>",
           "legendgroup": "reward",
           "marker": {
            "color": "yellow",
            "symbol": "square"
           },
           "mode": "markers",
           "name": "reward",
           "orientation": "v",
           "showlegend": false,
           "type": "scatter",
           "x": [
            16,
            17,
            18,
            15,
            16,
            17,
            15,
            17,
            18,
            15,
            16,
            17,
            18
           ],
           "xaxis": "x",
           "y": [
            8,
            8,
            8,
            9,
            9,
            9,
            10,
            10,
            10,
            11,
            11,
            11,
            11
           ],
           "yaxis": "y"
          }
         ],
         "name": "48"
        },
        {
         "data": [
          {
           "hovertemplate": "bird=1<br>time=49<br>x=%{x}<br>y=%{y}<extra></extra>",
           "legendgroup": "1",
           "marker": {
            "color": "#636efa",
            "line": {
             "width": 3
            },
            "opacity": 0.8,
            "size": 14,
            "symbol": "square"
           },
           "mode": "markers",
           "name": "1",
           "orientation": "v",
           "showlegend": true,
           "type": "scatter",
           "x": [
            18
           ],
           "xaxis": "x",
           "y": [
            9
           ],
           "yaxis": "y"
          },
          {
           "hovertemplate": "bird=2<br>time=49<br>x=%{x}<br>y=%{y}<extra></extra>",
           "legendgroup": "2",
           "marker": {
            "color": "#EF553B",
            "line": {
             "width": 3
            },
            "opacity": 0.8,
            "size": 14,
            "symbol": "square"
           },
           "mode": "markers",
           "name": "2",
           "orientation": "v",
           "showlegend": true,
           "type": "scatter",
           "x": [
            18
           ],
           "xaxis": "x",
           "y": [
            9
           ],
           "yaxis": "y"
          },
          {
           "hovertemplate": "bird=3<br>time=49<br>x=%{x}<br>y=%{y}<extra></extra>",
           "legendgroup": "3",
           "marker": {
            "color": "#00cc96",
            "line": {
             "width": 3
            },
            "opacity": 0.8,
            "size": 14,
            "symbol": "square"
           },
           "mode": "markers",
           "name": "3",
           "orientation": "v",
           "showlegend": true,
           "type": "scatter",
           "x": [
            18
           ],
           "xaxis": "x",
           "y": [
            9
           ],
           "yaxis": "y"
          },
          {
           "hovertemplate": "bird=4<br>time=49<br>x=%{x}<br>y=%{y}<extra></extra>",
           "legendgroup": "4",
           "marker": {
            "color": "#ab63fa",
            "line": {
             "width": 3
            },
            "opacity": 0.8,
            "size": 14,
            "symbol": "square"
           },
           "mode": "markers",
           "name": "4",
           "orientation": "v",
           "showlegend": true,
           "type": "scatter",
           "x": [
            14
           ],
           "xaxis": "x",
           "y": [
            24
           ],
           "yaxis": "y"
          },
          {
           "hovertemplate": "bird=5<br>time=49<br>x=%{x}<br>y=%{y}<extra></extra>",
           "legendgroup": "5",
           "marker": {
            "color": "#FFA15A",
            "line": {
             "width": 3
            },
            "opacity": 0.8,
            "size": 14,
            "symbol": "square"
           },
           "mode": "markers",
           "name": "5",
           "orientation": "v",
           "showlegend": true,
           "type": "scatter",
           "x": [
            18
           ],
           "xaxis": "x",
           "y": [
            9
           ],
           "yaxis": "y"
          },
          {
           "hovertemplate": "bird=6<br>time=49<br>x=%{x}<br>y=%{y}<extra></extra>",
           "legendgroup": "6",
           "marker": {
            "color": "#19d3f3",
            "line": {
             "width": 3
            },
            "opacity": 0.8,
            "size": 14,
            "symbol": "square"
           },
           "mode": "markers",
           "name": "6",
           "orientation": "v",
           "showlegend": true,
           "type": "scatter",
           "x": [
            18
           ],
           "xaxis": "x",
           "y": [
            9
           ],
           "yaxis": "y"
          },
          {
           "hovertemplate": "bird=7<br>time=49<br>x=%{x}<br>y=%{y}<extra></extra>",
           "legendgroup": "7",
           "marker": {
            "color": "#FF6692",
            "line": {
             "width": 3
            },
            "opacity": 0.8,
            "size": 14,
            "symbol": "square"
           },
           "mode": "markers",
           "name": "7",
           "orientation": "v",
           "showlegend": true,
           "type": "scatter",
           "x": [
            3
           ],
           "xaxis": "x",
           "y": [
            27
           ],
           "yaxis": "y"
          },
          {
           "hovertemplate": "bird=8<br>time=49<br>x=%{x}<br>y=%{y}<extra></extra>",
           "legendgroup": "8",
           "marker": {
            "color": "#B6E880",
            "line": {
             "width": 3
            },
            "opacity": 0.8,
            "size": 14,
            "symbol": "square"
           },
           "mode": "markers",
           "name": "8",
           "orientation": "v",
           "showlegend": true,
           "type": "scatter",
           "x": [
            18
           ],
           "xaxis": "x",
           "y": [
            9
           ],
           "yaxis": "y"
          },
          {
           "hovertemplate": "bird=9<br>time=49<br>x=%{x}<br>y=%{y}<extra></extra>",
           "legendgroup": "9",
           "marker": {
            "color": "#FF97FF",
            "line": {
             "width": 3
            },
            "opacity": 0.8,
            "size": 14,
            "symbol": "square"
           },
           "mode": "markers",
           "name": "9",
           "orientation": "v",
           "showlegend": true,
           "type": "scatter",
           "x": [
            18
           ],
           "xaxis": "x",
           "y": [
            9
           ],
           "yaxis": "y"
          },
          {
           "hovertemplate": "bird=reward<br>time=49<br>x=%{x}<br>y=%{y}<extra></extra>",
           "legendgroup": "reward",
           "marker": {
            "color": "yellow",
            "symbol": "square"
           },
           "mode": "markers",
           "name": "reward",
           "orientation": "v",
           "showlegend": false,
           "type": "scatter",
           "x": [
            16,
            17,
            18,
            15,
            16,
            17,
            15,
            17,
            18,
            15,
            16,
            17,
            18
           ],
           "xaxis": "x",
           "y": [
            8,
            8,
            8,
            9,
            9,
            9,
            10,
            10,
            10,
            11,
            11,
            11,
            11
           ],
           "yaxis": "y"
          }
         ],
         "name": "49"
        }
       ],
       "layout": {
        "autosize": false,
        "height": 600,
        "legend": {
         "title": {
          "text": "bird"
         },
         "tracegroupgap": 0
        },
        "margin": {
         "t": 60
        },
        "sliders": [
         {
          "active": 0,
          "currentvalue": {
           "prefix": "time="
          },
          "len": 0.9,
          "pad": {
           "b": 10,
           "t": 60
          },
          "steps": [
           {
            "args": [
             [
              "1"
             ],
             {
              "frame": {
               "duration": 0,
               "redraw": false
              },
              "fromcurrent": true,
              "mode": "immediate",
              "transition": {
               "duration": 0,
               "easing": "linear"
              }
             }
            ],
            "label": "1",
            "method": "animate"
           },
           {
            "args": [
             [
              "2"
             ],
             {
              "frame": {
               "duration": 0,
               "redraw": false
              },
              "fromcurrent": true,
              "mode": "immediate",
              "transition": {
               "duration": 0,
               "easing": "linear"
              }
             }
            ],
            "label": "2",
            "method": "animate"
           },
           {
            "args": [
             [
              "3"
             ],
             {
              "frame": {
               "duration": 0,
               "redraw": false
              },
              "fromcurrent": true,
              "mode": "immediate",
              "transition": {
               "duration": 0,
               "easing": "linear"
              }
             }
            ],
            "label": "3",
            "method": "animate"
           },
           {
            "args": [
             [
              "4"
             ],
             {
              "frame": {
               "duration": 0,
               "redraw": false
              },
              "fromcurrent": true,
              "mode": "immediate",
              "transition": {
               "duration": 0,
               "easing": "linear"
              }
             }
            ],
            "label": "4",
            "method": "animate"
           },
           {
            "args": [
             [
              "5"
             ],
             {
              "frame": {
               "duration": 0,
               "redraw": false
              },
              "fromcurrent": true,
              "mode": "immediate",
              "transition": {
               "duration": 0,
               "easing": "linear"
              }
             }
            ],
            "label": "5",
            "method": "animate"
           },
           {
            "args": [
             [
              "6"
             ],
             {
              "frame": {
               "duration": 0,
               "redraw": false
              },
              "fromcurrent": true,
              "mode": "immediate",
              "transition": {
               "duration": 0,
               "easing": "linear"
              }
             }
            ],
            "label": "6",
            "method": "animate"
           },
           {
            "args": [
             [
              "7"
             ],
             {
              "frame": {
               "duration": 0,
               "redraw": false
              },
              "fromcurrent": true,
              "mode": "immediate",
              "transition": {
               "duration": 0,
               "easing": "linear"
              }
             }
            ],
            "label": "7",
            "method": "animate"
           },
           {
            "args": [
             [
              "8"
             ],
             {
              "frame": {
               "duration": 0,
               "redraw": false
              },
              "fromcurrent": true,
              "mode": "immediate",
              "transition": {
               "duration": 0,
               "easing": "linear"
              }
             }
            ],
            "label": "8",
            "method": "animate"
           },
           {
            "args": [
             [
              "9"
             ],
             {
              "frame": {
               "duration": 0,
               "redraw": false
              },
              "fromcurrent": true,
              "mode": "immediate",
              "transition": {
               "duration": 0,
               "easing": "linear"
              }
             }
            ],
            "label": "9",
            "method": "animate"
           },
           {
            "args": [
             [
              "10"
             ],
             {
              "frame": {
               "duration": 0,
               "redraw": false
              },
              "fromcurrent": true,
              "mode": "immediate",
              "transition": {
               "duration": 0,
               "easing": "linear"
              }
             }
            ],
            "label": "10",
            "method": "animate"
           },
           {
            "args": [
             [
              "11"
             ],
             {
              "frame": {
               "duration": 0,
               "redraw": false
              },
              "fromcurrent": true,
              "mode": "immediate",
              "transition": {
               "duration": 0,
               "easing": "linear"
              }
             }
            ],
            "label": "11",
            "method": "animate"
           },
           {
            "args": [
             [
              "12"
             ],
             {
              "frame": {
               "duration": 0,
               "redraw": false
              },
              "fromcurrent": true,
              "mode": "immediate",
              "transition": {
               "duration": 0,
               "easing": "linear"
              }
             }
            ],
            "label": "12",
            "method": "animate"
           },
           {
            "args": [
             [
              "13"
             ],
             {
              "frame": {
               "duration": 0,
               "redraw": false
              },
              "fromcurrent": true,
              "mode": "immediate",
              "transition": {
               "duration": 0,
               "easing": "linear"
              }
             }
            ],
            "label": "13",
            "method": "animate"
           },
           {
            "args": [
             [
              "14"
             ],
             {
              "frame": {
               "duration": 0,
               "redraw": false
              },
              "fromcurrent": true,
              "mode": "immediate",
              "transition": {
               "duration": 0,
               "easing": "linear"
              }
             }
            ],
            "label": "14",
            "method": "animate"
           },
           {
            "args": [
             [
              "15"
             ],
             {
              "frame": {
               "duration": 0,
               "redraw": false
              },
              "fromcurrent": true,
              "mode": "immediate",
              "transition": {
               "duration": 0,
               "easing": "linear"
              }
             }
            ],
            "label": "15",
            "method": "animate"
           },
           {
            "args": [
             [
              "16"
             ],
             {
              "frame": {
               "duration": 0,
               "redraw": false
              },
              "fromcurrent": true,
              "mode": "immediate",
              "transition": {
               "duration": 0,
               "easing": "linear"
              }
             }
            ],
            "label": "16",
            "method": "animate"
           },
           {
            "args": [
             [
              "17"
             ],
             {
              "frame": {
               "duration": 0,
               "redraw": false
              },
              "fromcurrent": true,
              "mode": "immediate",
              "transition": {
               "duration": 0,
               "easing": "linear"
              }
             }
            ],
            "label": "17",
            "method": "animate"
           },
           {
            "args": [
             [
              "18"
             ],
             {
              "frame": {
               "duration": 0,
               "redraw": false
              },
              "fromcurrent": true,
              "mode": "immediate",
              "transition": {
               "duration": 0,
               "easing": "linear"
              }
             }
            ],
            "label": "18",
            "method": "animate"
           },
           {
            "args": [
             [
              "19"
             ],
             {
              "frame": {
               "duration": 0,
               "redraw": false
              },
              "fromcurrent": true,
              "mode": "immediate",
              "transition": {
               "duration": 0,
               "easing": "linear"
              }
             }
            ],
            "label": "19",
            "method": "animate"
           },
           {
            "args": [
             [
              "20"
             ],
             {
              "frame": {
               "duration": 0,
               "redraw": false
              },
              "fromcurrent": true,
              "mode": "immediate",
              "transition": {
               "duration": 0,
               "easing": "linear"
              }
             }
            ],
            "label": "20",
            "method": "animate"
           },
           {
            "args": [
             [
              "21"
             ],
             {
              "frame": {
               "duration": 0,
               "redraw": false
              },
              "fromcurrent": true,
              "mode": "immediate",
              "transition": {
               "duration": 0,
               "easing": "linear"
              }
             }
            ],
            "label": "21",
            "method": "animate"
           },
           {
            "args": [
             [
              "22"
             ],
             {
              "frame": {
               "duration": 0,
               "redraw": false
              },
              "fromcurrent": true,
              "mode": "immediate",
              "transition": {
               "duration": 0,
               "easing": "linear"
              }
             }
            ],
            "label": "22",
            "method": "animate"
           },
           {
            "args": [
             [
              "23"
             ],
             {
              "frame": {
               "duration": 0,
               "redraw": false
              },
              "fromcurrent": true,
              "mode": "immediate",
              "transition": {
               "duration": 0,
               "easing": "linear"
              }
             }
            ],
            "label": "23",
            "method": "animate"
           },
           {
            "args": [
             [
              "24"
             ],
             {
              "frame": {
               "duration": 0,
               "redraw": false
              },
              "fromcurrent": true,
              "mode": "immediate",
              "transition": {
               "duration": 0,
               "easing": "linear"
              }
             }
            ],
            "label": "24",
            "method": "animate"
           },
           {
            "args": [
             [
              "25"
             ],
             {
              "frame": {
               "duration": 0,
               "redraw": false
              },
              "fromcurrent": true,
              "mode": "immediate",
              "transition": {
               "duration": 0,
               "easing": "linear"
              }
             }
            ],
            "label": "25",
            "method": "animate"
           },
           {
            "args": [
             [
              "26"
             ],
             {
              "frame": {
               "duration": 0,
               "redraw": false
              },
              "fromcurrent": true,
              "mode": "immediate",
              "transition": {
               "duration": 0,
               "easing": "linear"
              }
             }
            ],
            "label": "26",
            "method": "animate"
           },
           {
            "args": [
             [
              "27"
             ],
             {
              "frame": {
               "duration": 0,
               "redraw": false
              },
              "fromcurrent": true,
              "mode": "immediate",
              "transition": {
               "duration": 0,
               "easing": "linear"
              }
             }
            ],
            "label": "27",
            "method": "animate"
           },
           {
            "args": [
             [
              "28"
             ],
             {
              "frame": {
               "duration": 0,
               "redraw": false
              },
              "fromcurrent": true,
              "mode": "immediate",
              "transition": {
               "duration": 0,
               "easing": "linear"
              }
             }
            ],
            "label": "28",
            "method": "animate"
           },
           {
            "args": [
             [
              "29"
             ],
             {
              "frame": {
               "duration": 0,
               "redraw": false
              },
              "fromcurrent": true,
              "mode": "immediate",
              "transition": {
               "duration": 0,
               "easing": "linear"
              }
             }
            ],
            "label": "29",
            "method": "animate"
           },
           {
            "args": [
             [
              "30"
             ],
             {
              "frame": {
               "duration": 0,
               "redraw": false
              },
              "fromcurrent": true,
              "mode": "immediate",
              "transition": {
               "duration": 0,
               "easing": "linear"
              }
             }
            ],
            "label": "30",
            "method": "animate"
           },
           {
            "args": [
             [
              "31"
             ],
             {
              "frame": {
               "duration": 0,
               "redraw": false
              },
              "fromcurrent": true,
              "mode": "immediate",
              "transition": {
               "duration": 0,
               "easing": "linear"
              }
             }
            ],
            "label": "31",
            "method": "animate"
           },
           {
            "args": [
             [
              "32"
             ],
             {
              "frame": {
               "duration": 0,
               "redraw": false
              },
              "fromcurrent": true,
              "mode": "immediate",
              "transition": {
               "duration": 0,
               "easing": "linear"
              }
             }
            ],
            "label": "32",
            "method": "animate"
           },
           {
            "args": [
             [
              "33"
             ],
             {
              "frame": {
               "duration": 0,
               "redraw": false
              },
              "fromcurrent": true,
              "mode": "immediate",
              "transition": {
               "duration": 0,
               "easing": "linear"
              }
             }
            ],
            "label": "33",
            "method": "animate"
           },
           {
            "args": [
             [
              "34"
             ],
             {
              "frame": {
               "duration": 0,
               "redraw": false
              },
              "fromcurrent": true,
              "mode": "immediate",
              "transition": {
               "duration": 0,
               "easing": "linear"
              }
             }
            ],
            "label": "34",
            "method": "animate"
           },
           {
            "args": [
             [
              "35"
             ],
             {
              "frame": {
               "duration": 0,
               "redraw": false
              },
              "fromcurrent": true,
              "mode": "immediate",
              "transition": {
               "duration": 0,
               "easing": "linear"
              }
             }
            ],
            "label": "35",
            "method": "animate"
           },
           {
            "args": [
             [
              "36"
             ],
             {
              "frame": {
               "duration": 0,
               "redraw": false
              },
              "fromcurrent": true,
              "mode": "immediate",
              "transition": {
               "duration": 0,
               "easing": "linear"
              }
             }
            ],
            "label": "36",
            "method": "animate"
           },
           {
            "args": [
             [
              "37"
             ],
             {
              "frame": {
               "duration": 0,
               "redraw": false
              },
              "fromcurrent": true,
              "mode": "immediate",
              "transition": {
               "duration": 0,
               "easing": "linear"
              }
             }
            ],
            "label": "37",
            "method": "animate"
           },
           {
            "args": [
             [
              "38"
             ],
             {
              "frame": {
               "duration": 0,
               "redraw": false
              },
              "fromcurrent": true,
              "mode": "immediate",
              "transition": {
               "duration": 0,
               "easing": "linear"
              }
             }
            ],
            "label": "38",
            "method": "animate"
           },
           {
            "args": [
             [
              "39"
             ],
             {
              "frame": {
               "duration": 0,
               "redraw": false
              },
              "fromcurrent": true,
              "mode": "immediate",
              "transition": {
               "duration": 0,
               "easing": "linear"
              }
             }
            ],
            "label": "39",
            "method": "animate"
           },
           {
            "args": [
             [
              "40"
             ],
             {
              "frame": {
               "duration": 0,
               "redraw": false
              },
              "fromcurrent": true,
              "mode": "immediate",
              "transition": {
               "duration": 0,
               "easing": "linear"
              }
             }
            ],
            "label": "40",
            "method": "animate"
           },
           {
            "args": [
             [
              "41"
             ],
             {
              "frame": {
               "duration": 0,
               "redraw": false
              },
              "fromcurrent": true,
              "mode": "immediate",
              "transition": {
               "duration": 0,
               "easing": "linear"
              }
             }
            ],
            "label": "41",
            "method": "animate"
           },
           {
            "args": [
             [
              "42"
             ],
             {
              "frame": {
               "duration": 0,
               "redraw": false
              },
              "fromcurrent": true,
              "mode": "immediate",
              "transition": {
               "duration": 0,
               "easing": "linear"
              }
             }
            ],
            "label": "42",
            "method": "animate"
           },
           {
            "args": [
             [
              "43"
             ],
             {
              "frame": {
               "duration": 0,
               "redraw": false
              },
              "fromcurrent": true,
              "mode": "immediate",
              "transition": {
               "duration": 0,
               "easing": "linear"
              }
             }
            ],
            "label": "43",
            "method": "animate"
           },
           {
            "args": [
             [
              "44"
             ],
             {
              "frame": {
               "duration": 0,
               "redraw": false
              },
              "fromcurrent": true,
              "mode": "immediate",
              "transition": {
               "duration": 0,
               "easing": "linear"
              }
             }
            ],
            "label": "44",
            "method": "animate"
           },
           {
            "args": [
             [
              "45"
             ],
             {
              "frame": {
               "duration": 0,
               "redraw": false
              },
              "fromcurrent": true,
              "mode": "immediate",
              "transition": {
               "duration": 0,
               "easing": "linear"
              }
             }
            ],
            "label": "45",
            "method": "animate"
           },
           {
            "args": [
             [
              "46"
             ],
             {
              "frame": {
               "duration": 0,
               "redraw": false
              },
              "fromcurrent": true,
              "mode": "immediate",
              "transition": {
               "duration": 0,
               "easing": "linear"
              }
             }
            ],
            "label": "46",
            "method": "animate"
           },
           {
            "args": [
             [
              "47"
             ],
             {
              "frame": {
               "duration": 0,
               "redraw": false
              },
              "fromcurrent": true,
              "mode": "immediate",
              "transition": {
               "duration": 0,
               "easing": "linear"
              }
             }
            ],
            "label": "47",
            "method": "animate"
           },
           {
            "args": [
             [
              "48"
             ],
             {
              "frame": {
               "duration": 0,
               "redraw": false
              },
              "fromcurrent": true,
              "mode": "immediate",
              "transition": {
               "duration": 0,
               "easing": "linear"
              }
             }
            ],
            "label": "48",
            "method": "animate"
           },
           {
            "args": [
             [
              "49"
             ],
             {
              "frame": {
               "duration": 0,
               "redraw": false
              },
              "fromcurrent": true,
              "mode": "immediate",
              "transition": {
               "duration": 0,
               "easing": "linear"
              }
             }
            ],
            "label": "49",
            "method": "animate"
           }
          ],
          "x": 0.1,
          "xanchor": "left",
          "y": 0,
          "yanchor": "top"
         }
        ],
        "template": {
         "data": {
          "bar": [
           {
            "error_x": {
             "color": "#f2f5fa"
            },
            "error_y": {
             "color": "#f2f5fa"
            },
            "marker": {
             "line": {
              "color": "rgb(17,17,17)",
              "width": 0.5
             },
             "pattern": {
              "fillmode": "overlay",
              "size": 10,
              "solidity": 0.2
             }
            },
            "type": "bar"
           }
          ],
          "barpolar": [
           {
            "marker": {
             "line": {
              "color": "rgb(17,17,17)",
              "width": 0.5
             },
             "pattern": {
              "fillmode": "overlay",
              "size": 10,
              "solidity": 0.2
             }
            },
            "type": "barpolar"
           }
          ],
          "carpet": [
           {
            "aaxis": {
             "endlinecolor": "#A2B1C6",
             "gridcolor": "#506784",
             "linecolor": "#506784",
             "minorgridcolor": "#506784",
             "startlinecolor": "#A2B1C6"
            },
            "baxis": {
             "endlinecolor": "#A2B1C6",
             "gridcolor": "#506784",
             "linecolor": "#506784",
             "minorgridcolor": "#506784",
             "startlinecolor": "#A2B1C6"
            },
            "type": "carpet"
           }
          ],
          "choropleth": [
           {
            "colorbar": {
             "outlinewidth": 0,
             "ticks": ""
            },
            "type": "choropleth"
           }
          ],
          "contour": [
           {
            "colorbar": {
             "outlinewidth": 0,
             "ticks": ""
            },
            "colorscale": [
             [
              0,
              "#0d0887"
             ],
             [
              0.1111111111111111,
              "#46039f"
             ],
             [
              0.2222222222222222,
              "#7201a8"
             ],
             [
              0.3333333333333333,
              "#9c179e"
             ],
             [
              0.4444444444444444,
              "#bd3786"
             ],
             [
              0.5555555555555556,
              "#d8576b"
             ],
             [
              0.6666666666666666,
              "#ed7953"
             ],
             [
              0.7777777777777778,
              "#fb9f3a"
             ],
             [
              0.8888888888888888,
              "#fdca26"
             ],
             [
              1,
              "#f0f921"
             ]
            ],
            "type": "contour"
           }
          ],
          "contourcarpet": [
           {
            "colorbar": {
             "outlinewidth": 0,
             "ticks": ""
            },
            "type": "contourcarpet"
           }
          ],
          "heatmap": [
           {
            "colorbar": {
             "outlinewidth": 0,
             "ticks": ""
            },
            "colorscale": [
             [
              0,
              "#0d0887"
             ],
             [
              0.1111111111111111,
              "#46039f"
             ],
             [
              0.2222222222222222,
              "#7201a8"
             ],
             [
              0.3333333333333333,
              "#9c179e"
             ],
             [
              0.4444444444444444,
              "#bd3786"
             ],
             [
              0.5555555555555556,
              "#d8576b"
             ],
             [
              0.6666666666666666,
              "#ed7953"
             ],
             [
              0.7777777777777778,
              "#fb9f3a"
             ],
             [
              0.8888888888888888,
              "#fdca26"
             ],
             [
              1,
              "#f0f921"
             ]
            ],
            "type": "heatmap"
           }
          ],
          "heatmapgl": [
           {
            "colorbar": {
             "outlinewidth": 0,
             "ticks": ""
            },
            "colorscale": [
             [
              0,
              "#0d0887"
             ],
             [
              0.1111111111111111,
              "#46039f"
             ],
             [
              0.2222222222222222,
              "#7201a8"
             ],
             [
              0.3333333333333333,
              "#9c179e"
             ],
             [
              0.4444444444444444,
              "#bd3786"
             ],
             [
              0.5555555555555556,
              "#d8576b"
             ],
             [
              0.6666666666666666,
              "#ed7953"
             ],
             [
              0.7777777777777778,
              "#fb9f3a"
             ],
             [
              0.8888888888888888,
              "#fdca26"
             ],
             [
              1,
              "#f0f921"
             ]
            ],
            "type": "heatmapgl"
           }
          ],
          "histogram": [
           {
            "marker": {
             "pattern": {
              "fillmode": "overlay",
              "size": 10,
              "solidity": 0.2
             }
            },
            "type": "histogram"
           }
          ],
          "histogram2d": [
           {
            "colorbar": {
             "outlinewidth": 0,
             "ticks": ""
            },
            "colorscale": [
             [
              0,
              "#0d0887"
             ],
             [
              0.1111111111111111,
              "#46039f"
             ],
             [
              0.2222222222222222,
              "#7201a8"
             ],
             [
              0.3333333333333333,
              "#9c179e"
             ],
             [
              0.4444444444444444,
              "#bd3786"
             ],
             [
              0.5555555555555556,
              "#d8576b"
             ],
             [
              0.6666666666666666,
              "#ed7953"
             ],
             [
              0.7777777777777778,
              "#fb9f3a"
             ],
             [
              0.8888888888888888,
              "#fdca26"
             ],
             [
              1,
              "#f0f921"
             ]
            ],
            "type": "histogram2d"
           }
          ],
          "histogram2dcontour": [
           {
            "colorbar": {
             "outlinewidth": 0,
             "ticks": ""
            },
            "colorscale": [
             [
              0,
              "#0d0887"
             ],
             [
              0.1111111111111111,
              "#46039f"
             ],
             [
              0.2222222222222222,
              "#7201a8"
             ],
             [
              0.3333333333333333,
              "#9c179e"
             ],
             [
              0.4444444444444444,
              "#bd3786"
             ],
             [
              0.5555555555555556,
              "#d8576b"
             ],
             [
              0.6666666666666666,
              "#ed7953"
             ],
             [
              0.7777777777777778,
              "#fb9f3a"
             ],
             [
              0.8888888888888888,
              "#fdca26"
             ],
             [
              1,
              "#f0f921"
             ]
            ],
            "type": "histogram2dcontour"
           }
          ],
          "mesh3d": [
           {
            "colorbar": {
             "outlinewidth": 0,
             "ticks": ""
            },
            "type": "mesh3d"
           }
          ],
          "parcoords": [
           {
            "line": {
             "colorbar": {
              "outlinewidth": 0,
              "ticks": ""
             }
            },
            "type": "parcoords"
           }
          ],
          "pie": [
           {
            "automargin": true,
            "type": "pie"
           }
          ],
          "scatter": [
           {
            "marker": {
             "line": {
              "color": "#283442"
             }
            },
            "type": "scatter"
           }
          ],
          "scatter3d": [
           {
            "line": {
             "colorbar": {
              "outlinewidth": 0,
              "ticks": ""
             }
            },
            "marker": {
             "colorbar": {
              "outlinewidth": 0,
              "ticks": ""
             }
            },
            "type": "scatter3d"
           }
          ],
          "scattercarpet": [
           {
            "marker": {
             "colorbar": {
              "outlinewidth": 0,
              "ticks": ""
             }
            },
            "type": "scattercarpet"
           }
          ],
          "scattergeo": [
           {
            "marker": {
             "colorbar": {
              "outlinewidth": 0,
              "ticks": ""
             }
            },
            "type": "scattergeo"
           }
          ],
          "scattergl": [
           {
            "marker": {
             "line": {
              "color": "#283442"
             }
            },
            "type": "scattergl"
           }
          ],
          "scattermapbox": [
           {
            "marker": {
             "colorbar": {
              "outlinewidth": 0,
              "ticks": ""
             }
            },
            "type": "scattermapbox"
           }
          ],
          "scatterpolar": [
           {
            "marker": {
             "colorbar": {
              "outlinewidth": 0,
              "ticks": ""
             }
            },
            "type": "scatterpolar"
           }
          ],
          "scatterpolargl": [
           {
            "marker": {
             "colorbar": {
              "outlinewidth": 0,
              "ticks": ""
             }
            },
            "type": "scatterpolargl"
           }
          ],
          "scatterternary": [
           {
            "marker": {
             "colorbar": {
              "outlinewidth": 0,
              "ticks": ""
             }
            },
            "type": "scatterternary"
           }
          ],
          "surface": [
           {
            "colorbar": {
             "outlinewidth": 0,
             "ticks": ""
            },
            "colorscale": [
             [
              0,
              "#0d0887"
             ],
             [
              0.1111111111111111,
              "#46039f"
             ],
             [
              0.2222222222222222,
              "#7201a8"
             ],
             [
              0.3333333333333333,
              "#9c179e"
             ],
             [
              0.4444444444444444,
              "#bd3786"
             ],
             [
              0.5555555555555556,
              "#d8576b"
             ],
             [
              0.6666666666666666,
              "#ed7953"
             ],
             [
              0.7777777777777778,
              "#fb9f3a"
             ],
             [
              0.8888888888888888,
              "#fdca26"
             ],
             [
              1,
              "#f0f921"
             ]
            ],
            "type": "surface"
           }
          ],
          "table": [
           {
            "cells": {
             "fill": {
              "color": "#506784"
             },
             "line": {
              "color": "rgb(17,17,17)"
             }
            },
            "header": {
             "fill": {
              "color": "#2a3f5f"
             },
             "line": {
              "color": "rgb(17,17,17)"
             }
            },
            "type": "table"
           }
          ]
         },
         "layout": {
          "annotationdefaults": {
           "arrowcolor": "#f2f5fa",
           "arrowhead": 0,
           "arrowwidth": 1
          },
          "autotypenumbers": "strict",
          "coloraxis": {
           "colorbar": {
            "outlinewidth": 0,
            "ticks": ""
           }
          },
          "colorscale": {
           "diverging": [
            [
             0,
             "#8e0152"
            ],
            [
             0.1,
             "#c51b7d"
            ],
            [
             0.2,
             "#de77ae"
            ],
            [
             0.3,
             "#f1b6da"
            ],
            [
             0.4,
             "#fde0ef"
            ],
            [
             0.5,
             "#f7f7f7"
            ],
            [
             0.6,
             "#e6f5d0"
            ],
            [
             0.7,
             "#b8e186"
            ],
            [
             0.8,
             "#7fbc41"
            ],
            [
             0.9,
             "#4d9221"
            ],
            [
             1,
             "#276419"
            ]
           ],
           "sequential": [
            [
             0,
             "#0d0887"
            ],
            [
             0.1111111111111111,
             "#46039f"
            ],
            [
             0.2222222222222222,
             "#7201a8"
            ],
            [
             0.3333333333333333,
             "#9c179e"
            ],
            [
             0.4444444444444444,
             "#bd3786"
            ],
            [
             0.5555555555555556,
             "#d8576b"
            ],
            [
             0.6666666666666666,
             "#ed7953"
            ],
            [
             0.7777777777777778,
             "#fb9f3a"
            ],
            [
             0.8888888888888888,
             "#fdca26"
            ],
            [
             1,
             "#f0f921"
            ]
           ],
           "sequentialminus": [
            [
             0,
             "#0d0887"
            ],
            [
             0.1111111111111111,
             "#46039f"
            ],
            [
             0.2222222222222222,
             "#7201a8"
            ],
            [
             0.3333333333333333,
             "#9c179e"
            ],
            [
             0.4444444444444444,
             "#bd3786"
            ],
            [
             0.5555555555555556,
             "#d8576b"
            ],
            [
             0.6666666666666666,
             "#ed7953"
            ],
            [
             0.7777777777777778,
             "#fb9f3a"
            ],
            [
             0.8888888888888888,
             "#fdca26"
            ],
            [
             1,
             "#f0f921"
            ]
           ]
          },
          "colorway": [
           "#636efa",
           "#EF553B",
           "#00cc96",
           "#ab63fa",
           "#FFA15A",
           "#19d3f3",
           "#FF6692",
           "#B6E880",
           "#FF97FF",
           "#FECB52"
          ],
          "font": {
           "color": "#f2f5fa"
          },
          "geo": {
           "bgcolor": "rgb(17,17,17)",
           "lakecolor": "rgb(17,17,17)",
           "landcolor": "rgb(17,17,17)",
           "showlakes": true,
           "showland": true,
           "subunitcolor": "#506784"
          },
          "hoverlabel": {
           "align": "left"
          },
          "hovermode": "closest",
          "mapbox": {
           "style": "dark"
          },
          "paper_bgcolor": "rgb(17,17,17)",
          "plot_bgcolor": "rgb(17,17,17)",
          "polar": {
           "angularaxis": {
            "gridcolor": "#506784",
            "linecolor": "#506784",
            "ticks": ""
           },
           "bgcolor": "rgb(17,17,17)",
           "radialaxis": {
            "gridcolor": "#506784",
            "linecolor": "#506784",
            "ticks": ""
           }
          },
          "scene": {
           "xaxis": {
            "backgroundcolor": "rgb(17,17,17)",
            "gridcolor": "#506784",
            "gridwidth": 2,
            "linecolor": "#506784",
            "showbackground": true,
            "ticks": "",
            "zerolinecolor": "#C8D4E3"
           },
           "yaxis": {
            "backgroundcolor": "rgb(17,17,17)",
            "gridcolor": "#506784",
            "gridwidth": 2,
            "linecolor": "#506784",
            "showbackground": true,
            "ticks": "",
            "zerolinecolor": "#C8D4E3"
           },
           "zaxis": {
            "backgroundcolor": "rgb(17,17,17)",
            "gridcolor": "#506784",
            "gridwidth": 2,
            "linecolor": "#506784",
            "showbackground": true,
            "ticks": "",
            "zerolinecolor": "#C8D4E3"
           }
          },
          "shapedefaults": {
           "line": {
            "color": "#f2f5fa"
           }
          },
          "sliderdefaults": {
           "bgcolor": "#C8D4E3",
           "bordercolor": "rgb(17,17,17)",
           "borderwidth": 1,
           "tickwidth": 0
          },
          "ternary": {
           "aaxis": {
            "gridcolor": "#506784",
            "linecolor": "#506784",
            "ticks": ""
           },
           "baxis": {
            "gridcolor": "#506784",
            "linecolor": "#506784",
            "ticks": ""
           },
           "bgcolor": "rgb(17,17,17)",
           "caxis": {
            "gridcolor": "#506784",
            "linecolor": "#506784",
            "ticks": ""
           }
          },
          "title": {
           "x": 0.05
          },
          "updatemenudefaults": {
           "bgcolor": "#506784",
           "borderwidth": 0
          },
          "xaxis": {
           "automargin": true,
           "gridcolor": "#283442",
           "linecolor": "#506784",
           "ticks": "",
           "title": {
            "standoff": 15
           },
           "zerolinecolor": "#283442",
           "zerolinewidth": 2
          },
          "yaxis": {
           "automargin": true,
           "gridcolor": "#283442",
           "linecolor": "#506784",
           "ticks": "",
           "title": {
            "standoff": 15
           },
           "zerolinecolor": "#283442",
           "zerolinewidth": 2
          }
         }
        },
        "updatemenus": [
         {
          "buttons": [
           {
            "args": [
             null,
             {
              "frame": {
               "duration": 500,
               "redraw": false
              },
              "fromcurrent": true,
              "mode": "immediate",
              "transition": {
               "duration": 0,
               "easing": "linear"
              }
             }
            ],
            "label": "&#9654;",
            "method": "animate"
           },
           {
            "args": [
             [
              null
             ],
             {
              "frame": {
               "duration": 0,
               "redraw": false
              },
              "fromcurrent": true,
              "mode": "immediate",
              "transition": {
               "duration": 0,
               "easing": "linear"
              }
             }
            ],
            "label": "&#9724;",
            "method": "animate"
           }
          ],
          "direction": "left",
          "pad": {
           "r": 10,
           "t": 70
          },
          "showactive": false,
          "type": "buttons",
          "x": 0.1,
          "xanchor": "right",
          "y": 0,
          "yanchor": "top"
         }
        ],
        "width": 600,
        "xaxis": {
         "anchor": "y",
         "domain": [
          0,
          1
         ],
         "range": [
          -1,
          30
         ],
         "showgrid": false,
         "showticklabels": false,
         "ticks": "",
         "title": {
          "text": ""
         },
         "zeroline": false
        },
        "yaxis": {
         "anchor": "x",
         "domain": [
          0,
          1
         ],
         "range": [
          -1,
          30
         ],
         "showgrid": false,
         "showticklabels": false,
         "ticks": "",
         "title": {
          "text": ""
         },
         "zeroline": false
        }
       }
      }
     },
     "metadata": {},
     "output_type": "display_data"
    }
   ],
   "source": [
    "communicators = ft.object_from_data(sim.all_birdsDF, sim.all_rewardsDF)\n",
    "ft.animate_birds(communicators, plot_rewards=True,\n",
    "                  width = 600, height = 600, point_size = 10)"
   ]
  },
  {
   "cell_type": "code",
   "execution_count": 109,
   "metadata": {},
   "outputs": [
    {
     "name": "stdout",
     "output_type": "stream",
     "text": [
      "       x     y  time  bird           type\n",
      "0   26.0  12.0     1     1  communicators\n",
      "1   24.0  13.0     2     1  communicators\n",
      "2   22.0  15.0     3     1  communicators\n",
      "3   24.0  14.0     4     1  communicators\n",
      "4   26.0  13.0     5     1  communicators\n",
      "5   24.0  12.0     6     1  communicators\n",
      "6   26.0  11.0     7     1  communicators\n",
      "7   26.0   8.0     8     1  communicators\n",
      "8   24.0   7.0     9     1  communicators\n",
      "9   23.0   7.0    10     1  communicators\n",
      "10  21.0   9.0    11     1  communicators\n",
      "11  18.0   9.0    12     1  communicators\n",
      "12  18.0   9.0    13     1  communicators\n",
      "13  18.0   9.0    14     1  communicators\n",
      "14  18.0   9.0    15     1  communicators\n",
      "15  18.0   9.0    16     1  communicators\n",
      "16  18.0   9.0    17     1  communicators\n",
      "17  18.0   9.0    18     1  communicators\n",
      "18  18.0   9.0    19     1  communicators\n",
      "19  18.0   9.0    20     1  communicators\n",
      "20  18.0   9.0    21     1  communicators\n",
      "21  18.0   9.0    22     1  communicators\n",
      "22  18.0   9.0    23     1  communicators\n",
      "23  18.0   9.0    24     1  communicators\n",
      "24  18.0   9.0    25     1  communicators\n",
      "25  18.0   9.0    26     1  communicators\n",
      "26  18.0   9.0    27     1  communicators\n",
      "27  18.0   9.0    28     1  communicators\n",
      "28  18.0   9.0    29     1  communicators\n",
      "29  18.0   9.0    30     1  communicators\n",
      "30  18.0   9.0    31     1  communicators\n",
      "31  18.0   9.0    32     1  communicators\n",
      "32  18.0   9.0    33     1  communicators\n",
      "33  18.0   9.0    34     1  communicators\n",
      "34  18.0   9.0    35     1  communicators\n",
      "35  18.0   9.0    36     1  communicators\n",
      "36  18.0   9.0    37     1  communicators\n",
      "37  18.0   9.0    38     1  communicators\n",
      "38  18.0   9.0    39     1  communicators\n",
      "39  18.0   9.0    40     1  communicators\n",
      "40  18.0   9.0    41     1  communicators\n",
      "41  18.0   9.0    42     1  communicators\n",
      "42  18.0   9.0    43     1  communicators\n",
      "43  18.0   9.0    44     1  communicators\n",
      "44  18.0   9.0    45     1  communicators\n",
      "45  18.0   9.0    46     1  communicators\n",
      "46  18.0   9.0    47     1  communicators\n",
      "47  18.0   9.0    48     1  communicators\n",
      "48  18.0   9.0    49     1  communicators\n",
      "49   0.0   0.0    50     1  communicators\n"
     ]
    }
   ],
   "source": [
    "print(sim.all_birdsDF.loc[sim.all_birdsDF['bird'] == 1])"
   ]
  },
  {
   "cell_type": "code",
   "execution_count": 110,
   "metadata": {},
   "outputs": [
    {
     "name": "stdout",
     "output_type": "stream",
     "text": [
      "     x   y  time\n",
      "0   15   8     4\n",
      "1   16   8     4\n",
      "2   17   8     4\n",
      "3   18   8     4\n",
      "4   15   9     4\n",
      "5   16   9     4\n",
      "6   17   9     4\n",
      "7   18   9     4\n",
      "8   15  10     4\n",
      "9   16  10     4\n",
      "10  17  10     4\n",
      "11  18  10     4\n",
      "12  15  11     4\n",
      "13  16  11     4\n",
      "14  17  11     4\n",
      "15  18  11     4\n"
     ]
    }
   ],
   "source": [
    "# print(sim.all_rewardsDF[]) \n",
    "print(sim.all_rewardsDF.loc[sim.all_rewardsDF['time'] == 4])\n"
   ]
  }
 ],
 "metadata": {
  "kernelspec": {
   "display_name": "Python 3.11.5 ('elm_collab')",
   "language": "python",
   "name": "python3"
  },
  "language_info": {
   "codemirror_mode": {
    "name": "ipython",
    "version": 3
   },
   "file_extension": ".py",
   "mimetype": "text/x-python",
   "name": "python",
   "nbconvert_exporter": "python",
   "pygments_lexer": "ipython3",
   "version": "3.11.5"
  },
  "orig_nbformat": 4,
  "vscode": {
   "interpreter": {
    "hash": "5883c200001963f9c71d117b2067039ffcfe95d2ec18fe3e67d4d08d7043acc0"
   }
  }
 },
 "nbformat": 4,
 "nbformat_minor": 2
}
