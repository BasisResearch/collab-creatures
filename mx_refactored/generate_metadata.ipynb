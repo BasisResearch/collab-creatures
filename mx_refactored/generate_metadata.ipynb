{
 "cells": [
  {
   "cell_type": "code",
   "execution_count": 120,
   "metadata": {},
   "outputs": [
    {
     "data": {
      "text/plain": [
       "<module 'success_metrics' from 'c:\\\\Users\\\\admin\\\\Dropbox\\\\Code\\\\Basis-code\\\\new-collaborative-intelligence\\\\mx_refactored\\\\success_metrics.py'>"
      ]
     },
     "execution_count": 120,
     "metadata": {},
     "output_type": "execute_result"
    }
   ],
   "source": [
    "import numpy as np\n",
    "from itertools import product\n",
    "import pandas as pd\n",
    "import os\n",
    "import foraging_toolkit as ft\n",
    "import environments\n",
    "import simulation\n",
    "import simulation_old \n",
    "import success_metrics\n",
    "import imp\n",
    "imp.reload(ft)\n",
    "imp.reload(simulation)\n",
    "imp.reload(simulation_old)\n",
    "imp.reload(environments)\n",
    "imp.reload(success_metrics)\n"
   ]
  },
  {
   "cell_type": "markdown",
   "metadata": {},
   "source": [
    "Independent variables in the forward model. Specify the parameter values for all the cases you are interested in. "
   ]
  },
  {
   "cell_type": "code",
   "execution_count": 121,
   "metadata": {},
   "outputs": [
    {
     "name": "stdout",
     "output_type": "stream",
     "text": [
      "6\n",
      "param_list [(0.0, 5, 1), (0.0, 5, 4), (0.5, 5, 1), (0.5, 5, 4), (1.0, 5, 1), (1.0, 5, 4)]\n"
     ]
    }
   ],
   "source": [
    "# Parameters of interest in our communication model \n",
    "c_trust = np.array([0, 0.5, 1])\n",
    "sight_radius = [5]\n",
    "reward_patch_dim = [1, 4]\n",
    "\n",
    "# List of all possible combination of parameter values \n",
    "param_list = [i for i in product(c_trust, sight_radius, reward_patch_dim)]\n",
    "\n",
    "print(len(param_list))\n",
    "print('param_list', param_list)\n",
    "\n",
    "\n"
   ]
  },
  {
   "cell_type": "markdown",
   "metadata": {},
   "source": [
    "Generate a dataframe containing all possible combinations of the parameter values specified above."
   ]
  },
  {
   "cell_type": "code",
   "execution_count": 122,
   "metadata": {},
   "outputs": [
    {
     "data": {
      "text/html": [
       "<div>\n",
       "<style scoped>\n",
       "    .dataframe tbody tr th:only-of-type {\n",
       "        vertical-align: middle;\n",
       "    }\n",
       "\n",
       "    .dataframe tbody tr th {\n",
       "        vertical-align: top;\n",
       "    }\n",
       "\n",
       "    .dataframe thead th {\n",
       "        text-align: right;\n",
       "    }\n",
       "</style>\n",
       "<table border=\"1\" class=\"dataframe\">\n",
       "  <thead>\n",
       "    <tr style=\"text-align: right;\">\n",
       "      <th></th>\n",
       "      <th>c_trust</th>\n",
       "      <th>sight_radius</th>\n",
       "      <th>reward_patch_dim</th>\n",
       "      <th>sim index</th>\n",
       "    </tr>\n",
       "  </thead>\n",
       "  <tbody>\n",
       "    <tr>\n",
       "      <th>0</th>\n",
       "      <td>0.0</td>\n",
       "      <td>5</td>\n",
       "      <td>1</td>\n",
       "      <td>0</td>\n",
       "    </tr>\n",
       "    <tr>\n",
       "      <th>1</th>\n",
       "      <td>0.0</td>\n",
       "      <td>5</td>\n",
       "      <td>4</td>\n",
       "      <td>1</td>\n",
       "    </tr>\n",
       "    <tr>\n",
       "      <th>2</th>\n",
       "      <td>0.5</td>\n",
       "      <td>5</td>\n",
       "      <td>1</td>\n",
       "      <td>2</td>\n",
       "    </tr>\n",
       "    <tr>\n",
       "      <th>3</th>\n",
       "      <td>0.5</td>\n",
       "      <td>5</td>\n",
       "      <td>4</td>\n",
       "      <td>3</td>\n",
       "    </tr>\n",
       "    <tr>\n",
       "      <th>4</th>\n",
       "      <td>1.0</td>\n",
       "      <td>5</td>\n",
       "      <td>1</td>\n",
       "      <td>4</td>\n",
       "    </tr>\n",
       "    <tr>\n",
       "      <th>5</th>\n",
       "      <td>1.0</td>\n",
       "      <td>5</td>\n",
       "      <td>4</td>\n",
       "      <td>5</td>\n",
       "    </tr>\n",
       "  </tbody>\n",
       "</table>\n",
       "</div>"
      ],
      "text/plain": [
       "   c_trust  sight_radius  reward_patch_dim  sim index\n",
       "0      0.0             5                 1          0\n",
       "1      0.0             5                 4          1\n",
       "2      0.5             5                 1          2\n",
       "3      0.5             5                 4          3\n",
       "4      1.0             5                 1          4\n",
       "5      1.0             5                 4          5"
      ]
     },
     "metadata": {},
     "output_type": "display_data"
    }
   ],
   "source": [
    "#each row of both dataframes corresponds to one experiment.  \n",
    "#columns are parameters \n",
    "metadataDF = pd.DataFrame(param_list)\n",
    "\n",
    "# success_metricsDF = pd.DataFrame(results)\n",
    "# allresultsDF = pd.concat([metadataDF, success_metricsDF], axis='columns') # concatenate metadata and results \n",
    "metadataDF.columns = [\"c_trust\", \"sight_radius\", \"reward_patch_dim\"] \n",
    "metadataDF['sim index'] = np.arange(len(metadataDF)).astype(int)\n",
    "metadataDF.head()\n",
    "display(metadataDF)"
   ]
  },
  {
   "cell_type": "code",
   "execution_count": 123,
   "metadata": {},
   "outputs": [
    {
     "name": "stdout",
     "output_type": "stream",
     "text": [
      "   c_trust  sight_radius  reward_patch_dim  sim index\n",
      "1      0.0             5                 4          1\n",
      "0.0\n",
      "5\n",
      "4\n"
     ]
    }
   ],
   "source": [
    "# select a specific row of the data frame\n",
    "ind = 1\n",
    "row = metadataDF.iloc[[ind]]\n",
    "print(row)\n",
    "print(row['c_trust'].iloc[0])\n",
    "print(row['sight_radius'].iloc[0])\n",
    "print(row['reward_patch_dim'].iloc[0])"
   ]
  },
  {
   "cell_type": "code",
   "execution_count": 124,
   "metadata": {},
   "outputs": [
    {
     "name": "stdout",
     "output_type": "stream",
     "text": [
      "(5,)\n"
     ]
    }
   ],
   "source": [
    "test_arr = np.zeros((5))\n",
    "print(test_arr.shape)"
   ]
  },
  {
   "cell_type": "markdown",
   "metadata": {},
   "source": [
    "*Part 2*\n",
    "Test run one of the simulations from metadata (one row)"
   ]
  },
  {
   "cell_type": "code",
   "execution_count": 139,
   "metadata": {},
   "outputs": [
    {
     "name": "stdout",
     "output_type": "stream",
     "text": [
      "2\n",
      "3\n",
      "3\n"
     ]
    },
    {
     "data": {
      "text/html": [
       "<div>\n",
       "<style scoped>\n",
       "    .dataframe tbody tr th:only-of-type {\n",
       "        vertical-align: middle;\n",
       "    }\n",
       "\n",
       "    .dataframe tbody tr th {\n",
       "        vertical-align: top;\n",
       "    }\n",
       "\n",
       "    .dataframe thead th {\n",
       "        text-align: right;\n",
       "    }\n",
       "</style>\n",
       "<table border=\"1\" class=\"dataframe\">\n",
       "  <thead>\n",
       "    <tr style=\"text-align: right;\">\n",
       "      <th></th>\n",
       "      <th>run index</th>\n",
       "      <th>time to first food</th>\n",
       "      <th>num birds failed</th>\n",
       "    </tr>\n",
       "  </thead>\n",
       "  <tbody>\n",
       "    <tr>\n",
       "      <th>0</th>\n",
       "      <td>0</td>\n",
       "      <td>8.0</td>\n",
       "      <td>0.0</td>\n",
       "    </tr>\n",
       "    <tr>\n",
       "      <th>1</th>\n",
       "      <td>1</td>\n",
       "      <td>-1.0</td>\n",
       "      <td>2.0</td>\n",
       "    </tr>\n",
       "    <tr>\n",
       "      <th>2</th>\n",
       "      <td>2</td>\n",
       "      <td>1.5</td>\n",
       "      <td>1.0</td>\n",
       "    </tr>\n",
       "  </tbody>\n",
       "</table>\n",
       "</div>"
      ],
      "text/plain": [
       "   run index  time to first food  num birds failed\n",
       "0          0                 8.0               0.0\n",
       "1          1                -1.0               2.0\n",
       "2          2                 1.5               1.0"
      ]
     },
     "metadata": {},
     "output_type": "display_data"
    },
    {
     "name": "stdout",
     "output_type": "stream",
     "text": [
      "None\n"
     ]
    },
    {
     "data": {
      "text/html": [
       "<div>\n",
       "<style scoped>\n",
       "    .dataframe tbody tr th:only-of-type {\n",
       "        vertical-align: middle;\n",
       "    }\n",
       "\n",
       "    .dataframe tbody tr th {\n",
       "        vertical-align: top;\n",
       "    }\n",
       "\n",
       "    .dataframe thead th {\n",
       "        text-align: right;\n",
       "    }\n",
       "</style>\n",
       "<table border=\"1\" class=\"dataframe\">\n",
       "  <thead>\n",
       "    <tr style=\"text-align: right;\">\n",
       "      <th></th>\n",
       "      <th>run index</th>\n",
       "      <th>time to first food</th>\n",
       "      <th>num birds failed</th>\n",
       "    </tr>\n",
       "  </thead>\n",
       "  <tbody>\n",
       "    <tr>\n",
       "      <th>0</th>\n",
       "      <td>0</td>\n",
       "      <td>3.0</td>\n",
       "      <td>0.0</td>\n",
       "    </tr>\n",
       "    <tr>\n",
       "      <th>1</th>\n",
       "      <td>1</td>\n",
       "      <td>1.5</td>\n",
       "      <td>0.0</td>\n",
       "    </tr>\n",
       "    <tr>\n",
       "      <th>2</th>\n",
       "      <td>2</td>\n",
       "      <td>1.0</td>\n",
       "      <td>0.0</td>\n",
       "    </tr>\n",
       "    <tr>\n",
       "      <th>0</th>\n",
       "      <td>0</td>\n",
       "      <td>8.0</td>\n",
       "      <td>0.0</td>\n",
       "    </tr>\n",
       "    <tr>\n",
       "      <th>1</th>\n",
       "      <td>1</td>\n",
       "      <td>-1.0</td>\n",
       "      <td>2.0</td>\n",
       "    </tr>\n",
       "    <tr>\n",
       "      <th>2</th>\n",
       "      <td>2</td>\n",
       "      <td>1.5</td>\n",
       "      <td>1.0</td>\n",
       "    </tr>\n",
       "  </tbody>\n",
       "</table>\n",
       "</div>"
      ],
      "text/plain": [
       "   run index  time to first food  num birds failed\n",
       "0          0                 3.0               0.0\n",
       "1          1                 1.5               0.0\n",
       "2          2                 1.0               0.0\n",
       "0          0                 8.0               0.0\n",
       "1          1                -1.0               2.0\n",
       "2          2                 1.5               1.0"
      ]
     },
     "metadata": {},
     "output_type": "display_data"
    },
    {
     "name": "stdout",
     "output_type": "stream",
     "text": [
      "None\n"
     ]
    }
   ],
   "source": [
    "N_frames = 20\n",
    "N_agents = 2\n",
    "N_total_food_units = 16\n",
    "edge_size = 30\n",
    "\n",
    "nsims = len(metadataDF)\n",
    "N_runs = 3\n",
    "nsims = 2 # TEST\n",
    "\n",
    "# data frame to store all success values across all simulations and runs of each simulation\n",
    "success_measures_allDF = pd.DataFrame() \n",
    "success_sims_list = []\n",
    "\n",
    "home_dir = \"C:\\\\Basis_data\\\\\" # \n",
    "\n",
    "# save metadata to home directory\n",
    "metadataDF.to_csv(home_dir + '\\metadataDF' + '.csv')\n",
    "\n",
    "for si in range(nsims):\n",
    "    \n",
    "    # 1. pull out parameters from row si in the metadata\n",
    "    df_row = metadataDF.iloc[[si]]\n",
    "    c_trust = df_row['c_trust'].iloc[0]\n",
    "    sight_radius = df_row['sight_radius'].iloc[0]\n",
    "    reward_patch_dim = df_row['reward_patch_dim'].iloc[0].astype(int)\n",
    "\n",
    "    # print(df_row)\n",
    "    # print(reward_patch_dim)\n",
    "\n",
    "    mean_times_to_first_reward = np.zeros((N_runs))\n",
    "    num_birds_failed = np.zeros((N_runs))\n",
    "\n",
    "    # Do multiple runs of the simulation and store the results in a results dataframe\n",
    "    for ri in range(N_runs):\n",
    "        # 2. Feed the parameters through the run() function once (later we'll do this many times)\n",
    "        env = environments.Environment(edge_size=edge_size, N_total_food_units=N_total_food_units, patch_dim=reward_patch_dim)\n",
    "        env.add_food_patches() #food_statistics_type=\"drop_food_once\")\n",
    "        # sim = simulation_old.Simulation(env, N_agents=N_agents, N_frames=N_frames)\n",
    "        sim = simulation.SimulateCommunicators(env, N_frames, N_agents, c_trust=c_trust, sight_radius=sight_radius)\n",
    "        sim.run()\n",
    "        # print(sim.all_birdsDF)\n",
    "        # # print(sim.all_rewardsDF) \n",
    "        # # by this point we should have birdlocsDF and rewardlocsDF \n",
    "        \n",
    "\n",
    "        # # # 3. Compute success measures \n",
    "        \n",
    "        time_to_first_allbirds = np.zeros(N_agents)\n",
    "        for bird_id in range(1, N_agents + 1):\n",
    "            singlebirdDF = sim.all_birdsDF.loc[sim.all_birdsDF['bird'] == bird_id]  \n",
    "            time_to_first_allbirds[bird_id - 1] = success_metrics.compute_time_to_first_reward(singlebirdDF, sim.all_rewardsDF, N_frames)\n",
    "            \n",
    "        # these are the success measures\n",
    "        mean_times_to_first_reward[ri] = np.mean(time_to_first_allbirds) # take the average across birds\n",
    "        num_birds_failed[ri] = np.sum(time_to_first_allbirds < 0) # number of birds that failed to reach food\n",
    "        # print(num_birds_failed)\n",
    "        #\n",
    "\n",
    "        # SAVE THE DATA \n",
    "        # make a new folder with \n",
    "        sim_folder = 'sim' + str(si) + '_run' + str(ri)\n",
    "        sim_dir = home_dir + sim_folder\n",
    "        if not os.path.isdir(sim_dir):\n",
    "            os.makedirs(sim_dir)\n",
    "            print(\"Directory %s was created.\" %sim_folder)\n",
    "\n",
    "        birdfile = '\\sim' + str(si) + '_run' + str(ri) + '_birdlocsDF'\n",
    "        rewardfile = '\\sim' + str(si) + '_run' + str(ri) + '_rewardlocsDF'\n",
    "        sim.all_birdsDF.to_csv(sim_dir + birdfile + \".csv\")\n",
    "        sim.all_rewardsDF.to_csv(sim_dir + rewardfile + \".csv\")\n",
    "\n",
    "       \n",
    "\n",
    "    #4. Combine the metadata and the success measures into the results dataframe \n",
    "        # create a new row in the results data frame, then concatenate \n",
    "    success_measures_onesim_DF = pd.DataFrame(\n",
    "        {\n",
    "            \"run index\": np.arange(N_runs),\n",
    "            \"time to first food\": mean_times_to_first_reward,\n",
    "            \"num birds failed\": num_birds_failed,\n",
    "        }\n",
    "    )\n",
    "\n",
    "    success_sims_list.append(success_measures_onesim_DF)\n",
    "\n",
    "success_measures_allDF = pd.concat(success_sims_list)\n",
    "\n",
    "    # 5. Save the raw data into a separate folder.\n",
    "\n",
    "\n",
    "print(len(success_sims_list))\n",
    "print(len(mean_times_to_first_reward))\n",
    "print(len(success_measures_onesim_DF))\n",
    "print(display(success_measures_onesim_DF))\n",
    "print(display(success_measures_allDF))\n",
    "\n",
    "# Concatenate metadataDF and success_measures_allDF into a new dataframe called resultsDF\n",
    "\n",
    "    \n",
    "# Save the results dataframe into the same folder as the metadata\n"
   ]
  },
  {
   "cell_type": "code",
   "execution_count": 136,
   "metadata": {},
   "outputs": [
    {
     "name": "stdout",
     "output_type": "stream",
     "text": [
      "C:\\Basis_data\\sim1_run2\\sim1_run2_birdlocsDF\n"
     ]
    }
   ],
   "source": [
    "sim_folder = 'sim' + str(si) + '_run' + str(ri) \n",
    "sim_dir = home_dir + sim_folder\n",
    "\n",
    "\n",
    "birdfile = '\\sim' + str(si) + '_run' + str(ri) + '_birdlocsDF'\n",
    "\n",
    "\n",
    "print(sim_dir + birdfile)"
   ]
  },
  {
   "cell_type": "code",
   "execution_count": 126,
   "metadata": {},
   "outputs": [
    {
     "name": "stdout",
     "output_type": "stream",
     "text": [
      "    c_trust  sight_radius  reward_patch_dim  sim index\n",
      "0       0.0           5.0               1.0        0.0\n",
      "1       0.0           5.0               1.0        0.0\n",
      "2       0.0           5.0               1.0        0.0\n",
      "3       0.0           5.0               4.0        1.0\n",
      "4       0.0           5.0               4.0        1.0\n",
      "5       0.0           5.0               4.0        1.0\n",
      "6       0.5           5.0               1.0        2.0\n",
      "7       0.5           5.0               1.0        2.0\n",
      "8       0.5           5.0               1.0        2.0\n",
      "9       0.5           5.0               4.0        3.0\n",
      "10      0.5           5.0               4.0        3.0\n",
      "11      0.5           5.0               4.0        3.0\n",
      "12      1.0           5.0               1.0        4.0\n",
      "13      1.0           5.0               1.0        4.0\n",
      "14      1.0           5.0               1.0        4.0\n",
      "15      1.0           5.0               4.0        5.0\n",
      "16      1.0           5.0               4.0        5.0\n",
      "17      1.0           5.0               4.0        5.0\n"
     ]
    }
   ],
   "source": [
    "# Concatenate metadataDF and success_measures_allDF into a new dataframe called resultsDF\n",
    "\n",
    "# First, duplicate each row (sim) of metadataDF by the number of runs\n",
    "newDF = pd.DataFrame(np.repeat(metadataDF.values, N_runs, axis=0))\n",
    "newDF.columns = metadataDF.columns\n",
    "print(newDF)\n",
    "\n",
    "\n"
   ]
  },
  {
   "cell_type": "code",
   "execution_count": 127,
   "metadata": {},
   "outputs": [
    {
     "data": {
      "text/html": [
       "<div>\n",
       "<style scoped>\n",
       "    .dataframe tbody tr th:only-of-type {\n",
       "        vertical-align: middle;\n",
       "    }\n",
       "\n",
       "    .dataframe tbody tr th {\n",
       "        vertical-align: top;\n",
       "    }\n",
       "\n",
       "    .dataframe thead th {\n",
       "        text-align: right;\n",
       "    }\n",
       "</style>\n",
       "<table border=\"1\" class=\"dataframe\">\n",
       "  <thead>\n",
       "    <tr style=\"text-align: right;\">\n",
       "      <th></th>\n",
       "      <th>run index</th>\n",
       "      <th>time to first food</th>\n",
       "      <th>num birds failed</th>\n",
       "    </tr>\n",
       "  </thead>\n",
       "  <tbody>\n",
       "    <tr>\n",
       "      <th>0</th>\n",
       "      <td>0</td>\n",
       "      <td>5.0</td>\n",
       "      <td>0.0</td>\n",
       "    </tr>\n",
       "    <tr>\n",
       "      <th>1</th>\n",
       "      <td>1</td>\n",
       "      <td>1.5</td>\n",
       "      <td>0.0</td>\n",
       "    </tr>\n",
       "    <tr>\n",
       "      <th>2</th>\n",
       "      <td>2</td>\n",
       "      <td>1.5</td>\n",
       "      <td>0.0</td>\n",
       "    </tr>\n",
       "    <tr>\n",
       "      <th>3</th>\n",
       "      <td>0</td>\n",
       "      <td>-1.0</td>\n",
       "      <td>2.0</td>\n",
       "    </tr>\n",
       "    <tr>\n",
       "      <th>4</th>\n",
       "      <td>1</td>\n",
       "      <td>0.5</td>\n",
       "      <td>1.0</td>\n",
       "    </tr>\n",
       "    <tr>\n",
       "      <th>5</th>\n",
       "      <td>2</td>\n",
       "      <td>4.0</td>\n",
       "      <td>1.0</td>\n",
       "    </tr>\n",
       "  </tbody>\n",
       "</table>\n",
       "</div>"
      ],
      "text/plain": [
       "   run index  time to first food  num birds failed\n",
       "0          0                 5.0               0.0\n",
       "1          1                 1.5               0.0\n",
       "2          2                 1.5               0.0\n",
       "3          0                -1.0               2.0\n",
       "4          1                 0.5               1.0\n",
       "5          2                 4.0               1.0"
      ]
     },
     "metadata": {},
     "output_type": "display_data"
    }
   ],
   "source": [
    "# change the indexing of the rows of this dataframe so we can concatenate with metadataDF\n",
    "successDF = success_measures_allDF.reset_index(drop=True)\n",
    "display(successDF)"
   ]
  },
  {
   "cell_type": "code",
   "execution_count": 128,
   "metadata": {},
   "outputs": [
    {
     "data": {
      "text/html": [
       "<div>\n",
       "<style scoped>\n",
       "    .dataframe tbody tr th:only-of-type {\n",
       "        vertical-align: middle;\n",
       "    }\n",
       "\n",
       "    .dataframe tbody tr th {\n",
       "        vertical-align: top;\n",
       "    }\n",
       "\n",
       "    .dataframe thead th {\n",
       "        text-align: right;\n",
       "    }\n",
       "</style>\n",
       "<table border=\"1\" class=\"dataframe\">\n",
       "  <thead>\n",
       "    <tr style=\"text-align: right;\">\n",
       "      <th></th>\n",
       "      <th>c_trust</th>\n",
       "      <th>sight_radius</th>\n",
       "      <th>reward_patch_dim</th>\n",
       "      <th>sim index</th>\n",
       "      <th>run index</th>\n",
       "      <th>time to first food</th>\n",
       "      <th>num birds failed</th>\n",
       "    </tr>\n",
       "  </thead>\n",
       "  <tbody>\n",
       "    <tr>\n",
       "      <th>0</th>\n",
       "      <td>0.0</td>\n",
       "      <td>5.0</td>\n",
       "      <td>1.0</td>\n",
       "      <td>0.0</td>\n",
       "      <td>0.0</td>\n",
       "      <td>5.0</td>\n",
       "      <td>0.0</td>\n",
       "    </tr>\n",
       "    <tr>\n",
       "      <th>1</th>\n",
       "      <td>0.0</td>\n",
       "      <td>5.0</td>\n",
       "      <td>1.0</td>\n",
       "      <td>0.0</td>\n",
       "      <td>1.0</td>\n",
       "      <td>1.5</td>\n",
       "      <td>0.0</td>\n",
       "    </tr>\n",
       "    <tr>\n",
       "      <th>2</th>\n",
       "      <td>0.0</td>\n",
       "      <td>5.0</td>\n",
       "      <td>1.0</td>\n",
       "      <td>0.0</td>\n",
       "      <td>2.0</td>\n",
       "      <td>1.5</td>\n",
       "      <td>0.0</td>\n",
       "    </tr>\n",
       "    <tr>\n",
       "      <th>3</th>\n",
       "      <td>0.0</td>\n",
       "      <td>5.0</td>\n",
       "      <td>4.0</td>\n",
       "      <td>1.0</td>\n",
       "      <td>0.0</td>\n",
       "      <td>-1.0</td>\n",
       "      <td>2.0</td>\n",
       "    </tr>\n",
       "    <tr>\n",
       "      <th>4</th>\n",
       "      <td>0.0</td>\n",
       "      <td>5.0</td>\n",
       "      <td>4.0</td>\n",
       "      <td>1.0</td>\n",
       "      <td>1.0</td>\n",
       "      <td>0.5</td>\n",
       "      <td>1.0</td>\n",
       "    </tr>\n",
       "    <tr>\n",
       "      <th>5</th>\n",
       "      <td>0.0</td>\n",
       "      <td>5.0</td>\n",
       "      <td>4.0</td>\n",
       "      <td>1.0</td>\n",
       "      <td>2.0</td>\n",
       "      <td>4.0</td>\n",
       "      <td>1.0</td>\n",
       "    </tr>\n",
       "    <tr>\n",
       "      <th>6</th>\n",
       "      <td>0.5</td>\n",
       "      <td>5.0</td>\n",
       "      <td>1.0</td>\n",
       "      <td>2.0</td>\n",
       "      <td>NaN</td>\n",
       "      <td>NaN</td>\n",
       "      <td>NaN</td>\n",
       "    </tr>\n",
       "    <tr>\n",
       "      <th>7</th>\n",
       "      <td>0.5</td>\n",
       "      <td>5.0</td>\n",
       "      <td>1.0</td>\n",
       "      <td>2.0</td>\n",
       "      <td>NaN</td>\n",
       "      <td>NaN</td>\n",
       "      <td>NaN</td>\n",
       "    </tr>\n",
       "    <tr>\n",
       "      <th>8</th>\n",
       "      <td>0.5</td>\n",
       "      <td>5.0</td>\n",
       "      <td>1.0</td>\n",
       "      <td>2.0</td>\n",
       "      <td>NaN</td>\n",
       "      <td>NaN</td>\n",
       "      <td>NaN</td>\n",
       "    </tr>\n",
       "    <tr>\n",
       "      <th>9</th>\n",
       "      <td>0.5</td>\n",
       "      <td>5.0</td>\n",
       "      <td>4.0</td>\n",
       "      <td>3.0</td>\n",
       "      <td>NaN</td>\n",
       "      <td>NaN</td>\n",
       "      <td>NaN</td>\n",
       "    </tr>\n",
       "    <tr>\n",
       "      <th>10</th>\n",
       "      <td>0.5</td>\n",
       "      <td>5.0</td>\n",
       "      <td>4.0</td>\n",
       "      <td>3.0</td>\n",
       "      <td>NaN</td>\n",
       "      <td>NaN</td>\n",
       "      <td>NaN</td>\n",
       "    </tr>\n",
       "    <tr>\n",
       "      <th>11</th>\n",
       "      <td>0.5</td>\n",
       "      <td>5.0</td>\n",
       "      <td>4.0</td>\n",
       "      <td>3.0</td>\n",
       "      <td>NaN</td>\n",
       "      <td>NaN</td>\n",
       "      <td>NaN</td>\n",
       "    </tr>\n",
       "    <tr>\n",
       "      <th>12</th>\n",
       "      <td>1.0</td>\n",
       "      <td>5.0</td>\n",
       "      <td>1.0</td>\n",
       "      <td>4.0</td>\n",
       "      <td>NaN</td>\n",
       "      <td>NaN</td>\n",
       "      <td>NaN</td>\n",
       "    </tr>\n",
       "    <tr>\n",
       "      <th>13</th>\n",
       "      <td>1.0</td>\n",
       "      <td>5.0</td>\n",
       "      <td>1.0</td>\n",
       "      <td>4.0</td>\n",
       "      <td>NaN</td>\n",
       "      <td>NaN</td>\n",
       "      <td>NaN</td>\n",
       "    </tr>\n",
       "    <tr>\n",
       "      <th>14</th>\n",
       "      <td>1.0</td>\n",
       "      <td>5.0</td>\n",
       "      <td>1.0</td>\n",
       "      <td>4.0</td>\n",
       "      <td>NaN</td>\n",
       "      <td>NaN</td>\n",
       "      <td>NaN</td>\n",
       "    </tr>\n",
       "    <tr>\n",
       "      <th>15</th>\n",
       "      <td>1.0</td>\n",
       "      <td>5.0</td>\n",
       "      <td>4.0</td>\n",
       "      <td>5.0</td>\n",
       "      <td>NaN</td>\n",
       "      <td>NaN</td>\n",
       "      <td>NaN</td>\n",
       "    </tr>\n",
       "    <tr>\n",
       "      <th>16</th>\n",
       "      <td>1.0</td>\n",
       "      <td>5.0</td>\n",
       "      <td>4.0</td>\n",
       "      <td>5.0</td>\n",
       "      <td>NaN</td>\n",
       "      <td>NaN</td>\n",
       "      <td>NaN</td>\n",
       "    </tr>\n",
       "    <tr>\n",
       "      <th>17</th>\n",
       "      <td>1.0</td>\n",
       "      <td>5.0</td>\n",
       "      <td>4.0</td>\n",
       "      <td>5.0</td>\n",
       "      <td>NaN</td>\n",
       "      <td>NaN</td>\n",
       "      <td>NaN</td>\n",
       "    </tr>\n",
       "  </tbody>\n",
       "</table>\n",
       "</div>"
      ],
      "text/plain": [
       "    c_trust  sight_radius  reward_patch_dim  sim index  run index  \\\n",
       "0       0.0           5.0               1.0        0.0        0.0   \n",
       "1       0.0           5.0               1.0        0.0        1.0   \n",
       "2       0.0           5.0               1.0        0.0        2.0   \n",
       "3       0.0           5.0               4.0        1.0        0.0   \n",
       "4       0.0           5.0               4.0        1.0        1.0   \n",
       "5       0.0           5.0               4.0        1.0        2.0   \n",
       "6       0.5           5.0               1.0        2.0        NaN   \n",
       "7       0.5           5.0               1.0        2.0        NaN   \n",
       "8       0.5           5.0               1.0        2.0        NaN   \n",
       "9       0.5           5.0               4.0        3.0        NaN   \n",
       "10      0.5           5.0               4.0        3.0        NaN   \n",
       "11      0.5           5.0               4.0        3.0        NaN   \n",
       "12      1.0           5.0               1.0        4.0        NaN   \n",
       "13      1.0           5.0               1.0        4.0        NaN   \n",
       "14      1.0           5.0               1.0        4.0        NaN   \n",
       "15      1.0           5.0               4.0        5.0        NaN   \n",
       "16      1.0           5.0               4.0        5.0        NaN   \n",
       "17      1.0           5.0               4.0        5.0        NaN   \n",
       "\n",
       "    time to first food  num birds failed  \n",
       "0                  5.0               0.0  \n",
       "1                  1.5               0.0  \n",
       "2                  1.5               0.0  \n",
       "3                 -1.0               2.0  \n",
       "4                  0.5               1.0  \n",
       "5                  4.0               1.0  \n",
       "6                  NaN               NaN  \n",
       "7                  NaN               NaN  \n",
       "8                  NaN               NaN  \n",
       "9                  NaN               NaN  \n",
       "10                 NaN               NaN  \n",
       "11                 NaN               NaN  \n",
       "12                 NaN               NaN  \n",
       "13                 NaN               NaN  \n",
       "14                 NaN               NaN  \n",
       "15                 NaN               NaN  \n",
       "16                 NaN               NaN  \n",
       "17                 NaN               NaN  "
      ]
     },
     "metadata": {},
     "output_type": "display_data"
    }
   ],
   "source": [
    "# Concatenate metadataDF and \n",
    "allresultsDF = pd.concat([newDF, successDF], axis=1)\n",
    "display(allresultsDF)"
   ]
  },
  {
   "cell_type": "code",
   "execution_count": null,
   "metadata": {},
   "outputs": [],
   "source": []
  },
  {
   "cell_type": "markdown",
   "metadata": {},
   "source": [
    "*Save data in a folder*\n"
   ]
  },
  {
   "cell_type": "code",
   "execution_count": 129,
   "metadata": {},
   "outputs": [
    {
     "ename": "SyntaxError",
     "evalue": "invalid syntax (2446219485.py, line 4)",
     "output_type": "error",
     "traceback": [
      "\u001b[1;36m  Cell \u001b[1;32mIn[129], line 4\u001b[1;36m\u001b[0m\n\u001b[1;33m    date_folder_name =\u001b[0m\n\u001b[1;37m                       ^\u001b[0m\n\u001b[1;31mSyntaxError\u001b[0m\u001b[1;31m:\u001b[0m invalid syntax\n"
     ]
    }
   ],
   "source": [
    "# test saving functions\n",
    "data_dir = \"C:\\\\Basis_data\\\\\"\n",
    "file_name = \"testfile\"\n",
    "date_folder_name = \n",
    "metadataDF.to_csv(data_dir + file_name + \".csv\")"
   ]
  },
  {
   "cell_type": "markdown",
   "metadata": {},
   "source": [
    "Test one of the simulations by animating it."
   ]
  },
  {
   "cell_type": "code",
   "execution_count": null,
   "metadata": {},
   "outputs": [
    {
     "data": {
      "application/vnd.plotly.v1+json": {
       "config": {
        "plotlyServerURL": "https://plot.ly"
       },
       "data": [
        {
         "hovertemplate": "bird=1<br>time=1<br>x=%{x}<br>y=%{y}<extra></extra>",
         "legendgroup": "1",
         "marker": {
          "color": "#636efa",
          "line": {
           "width": 3
          },
          "opacity": 0.8,
          "size": 14,
          "symbol": "square"
         },
         "mode": "markers",
         "name": "1",
         "orientation": "v",
         "showlegend": true,
         "type": "scatter",
         "x": [
          25
         ],
         "xaxis": "x",
         "y": [
          26
         ],
         "yaxis": "y"
        },
        {
         "hovertemplate": "bird=2<br>time=1<br>x=%{x}<br>y=%{y}<extra></extra>",
         "legendgroup": "2",
         "marker": {
          "color": "#EF553B",
          "line": {
           "width": 3
          },
          "opacity": 0.8,
          "size": 14,
          "symbol": "square"
         },
         "mode": "markers",
         "name": "2",
         "orientation": "v",
         "showlegend": true,
         "type": "scatter",
         "x": [
          18
         ],
         "xaxis": "x",
         "y": [
          8
         ],
         "yaxis": "y"
        },
        {
         "hovertemplate": "bird=reward<br>time=1<br>x=%{x}<br>y=%{y}<extra></extra>",
         "legendgroup": "reward",
         "marker": {
          "color": "yellow",
          "symbol": "square"
         },
         "mode": "markers",
         "name": "reward",
         "orientation": "v",
         "showlegend": false,
         "type": "scatter",
         "x": [
          20,
          21,
          22,
          23,
          20,
          21,
          22,
          23,
          20,
          21,
          22,
          23,
          20,
          21,
          22,
          23
         ],
         "xaxis": "x",
         "y": [
          14,
          14,
          14,
          14,
          15,
          15,
          15,
          15,
          16,
          16,
          16,
          16,
          17,
          17,
          17,
          17
         ],
         "yaxis": "y"
        }
       ],
       "frames": [
        {
         "data": [
          {
           "hovertemplate": "bird=1<br>time=1<br>x=%{x}<br>y=%{y}<extra></extra>",
           "legendgroup": "1",
           "marker": {
            "color": "#636efa",
            "line": {
             "width": 3
            },
            "opacity": 0.8,
            "size": 14,
            "symbol": "square"
           },
           "mode": "markers",
           "name": "1",
           "orientation": "v",
           "showlegend": true,
           "type": "scatter",
           "x": [
            25
           ],
           "xaxis": "x",
           "y": [
            26
           ],
           "yaxis": "y"
          },
          {
           "hovertemplate": "bird=2<br>time=1<br>x=%{x}<br>y=%{y}<extra></extra>",
           "legendgroup": "2",
           "marker": {
            "color": "#EF553B",
            "line": {
             "width": 3
            },
            "opacity": 0.8,
            "size": 14,
            "symbol": "square"
           },
           "mode": "markers",
           "name": "2",
           "orientation": "v",
           "showlegend": true,
           "type": "scatter",
           "x": [
            18
           ],
           "xaxis": "x",
           "y": [
            8
           ],
           "yaxis": "y"
          },
          {
           "hovertemplate": "bird=reward<br>time=1<br>x=%{x}<br>y=%{y}<extra></extra>",
           "legendgroup": "reward",
           "marker": {
            "color": "yellow",
            "symbol": "square"
           },
           "mode": "markers",
           "name": "reward",
           "orientation": "v",
           "showlegend": false,
           "type": "scatter",
           "x": [
            20,
            21,
            22,
            23,
            20,
            21,
            22,
            23,
            20,
            21,
            22,
            23,
            20,
            21,
            22,
            23
           ],
           "xaxis": "x",
           "y": [
            14,
            14,
            14,
            14,
            15,
            15,
            15,
            15,
            16,
            16,
            16,
            16,
            17,
            17,
            17,
            17
           ],
           "yaxis": "y"
          }
         ],
         "name": "1"
        },
        {
         "data": [
          {
           "hovertemplate": "bird=1<br>time=2<br>x=%{x}<br>y=%{y}<extra></extra>",
           "legendgroup": "1",
           "marker": {
            "color": "#636efa",
            "line": {
             "width": 3
            },
            "opacity": 0.8,
            "size": 14,
            "symbol": "square"
           },
           "mode": "markers",
           "name": "1",
           "orientation": "v",
           "showlegend": true,
           "type": "scatter",
           "x": [
            26
           ],
           "xaxis": "x",
           "y": [
            24
           ],
           "yaxis": "y"
          },
          {
           "hovertemplate": "bird=2<br>time=2<br>x=%{x}<br>y=%{y}<extra></extra>",
           "legendgroup": "2",
           "marker": {
            "color": "#EF553B",
            "line": {
             "width": 3
            },
            "opacity": 0.8,
            "size": 14,
            "symbol": "square"
           },
           "mode": "markers",
           "name": "2",
           "orientation": "v",
           "showlegend": true,
           "type": "scatter",
           "x": [
            19
           ],
           "xaxis": "x",
           "y": [
            6
           ],
           "yaxis": "y"
          },
          {
           "hovertemplate": "bird=reward<br>time=2<br>x=%{x}<br>y=%{y}<extra></extra>",
           "legendgroup": "reward",
           "marker": {
            "color": "yellow",
            "symbol": "square"
           },
           "mode": "markers",
           "name": "reward",
           "orientation": "v",
           "showlegend": false,
           "type": "scatter",
           "x": [
            20,
            21,
            22,
            23,
            20,
            21,
            22,
            23,
            20,
            21,
            22,
            23,
            20,
            21,
            22,
            23
           ],
           "xaxis": "x",
           "y": [
            14,
            14,
            14,
            14,
            15,
            15,
            15,
            15,
            16,
            16,
            16,
            16,
            17,
            17,
            17,
            17
           ],
           "yaxis": "y"
          }
         ],
         "name": "2"
        },
        {
         "data": [
          {
           "hovertemplate": "bird=1<br>time=3<br>x=%{x}<br>y=%{y}<extra></extra>",
           "legendgroup": "1",
           "marker": {
            "color": "#636efa",
            "line": {
             "width": 3
            },
            "opacity": 0.8,
            "size": 14,
            "symbol": "square"
           },
           "mode": "markers",
           "name": "1",
           "orientation": "v",
           "showlegend": true,
           "type": "scatter",
           "x": [
            24
           ],
           "xaxis": "x",
           "y": [
            26
           ],
           "yaxis": "y"
          },
          {
           "hovertemplate": "bird=2<br>time=3<br>x=%{x}<br>y=%{y}<extra></extra>",
           "legendgroup": "2",
           "marker": {
            "color": "#EF553B",
            "line": {
             "width": 3
            },
            "opacity": 0.8,
            "size": 14,
            "symbol": "square"
           },
           "mode": "markers",
           "name": "2",
           "orientation": "v",
           "showlegend": true,
           "type": "scatter",
           "x": [
            21
           ],
           "xaxis": "x",
           "y": [
            8
           ],
           "yaxis": "y"
          },
          {
           "hovertemplate": "bird=reward<br>time=3<br>x=%{x}<br>y=%{y}<extra></extra>",
           "legendgroup": "reward",
           "marker": {
            "color": "yellow",
            "symbol": "square"
           },
           "mode": "markers",
           "name": "reward",
           "orientation": "v",
           "showlegend": false,
           "type": "scatter",
           "x": [
            20,
            21,
            22,
            23,
            20,
            21,
            22,
            23,
            20,
            21,
            22,
            23,
            20,
            21,
            22,
            23
           ],
           "xaxis": "x",
           "y": [
            14,
            14,
            14,
            14,
            15,
            15,
            15,
            15,
            16,
            16,
            16,
            16,
            17,
            17,
            17,
            17
           ],
           "yaxis": "y"
          }
         ],
         "name": "3"
        },
        {
         "data": [
          {
           "hovertemplate": "bird=1<br>time=4<br>x=%{x}<br>y=%{y}<extra></extra>",
           "legendgroup": "1",
           "marker": {
            "color": "#636efa",
            "line": {
             "width": 3
            },
            "opacity": 0.8,
            "size": 14,
            "symbol": "square"
           },
           "mode": "markers",
           "name": "1",
           "orientation": "v",
           "showlegend": true,
           "type": "scatter",
           "x": [
            27
           ],
           "xaxis": "x",
           "y": [
            26
           ],
           "yaxis": "y"
          },
          {
           "hovertemplate": "bird=2<br>time=4<br>x=%{x}<br>y=%{y}<extra></extra>",
           "legendgroup": "2",
           "marker": {
            "color": "#EF553B",
            "line": {
             "width": 3
            },
            "opacity": 0.8,
            "size": 14,
            "symbol": "square"
           },
           "mode": "markers",
           "name": "2",
           "orientation": "v",
           "showlegend": true,
           "type": "scatter",
           "x": [
            18
           ],
           "xaxis": "x",
           "y": [
            8
           ],
           "yaxis": "y"
          },
          {
           "hovertemplate": "bird=reward<br>time=4<br>x=%{x}<br>y=%{y}<extra></extra>",
           "legendgroup": "reward",
           "marker": {
            "color": "yellow",
            "symbol": "square"
           },
           "mode": "markers",
           "name": "reward",
           "orientation": "v",
           "showlegend": false,
           "type": "scatter",
           "x": [
            20,
            21,
            22,
            23,
            20,
            21,
            22,
            23,
            20,
            21,
            22,
            23,
            20,
            21,
            22,
            23
           ],
           "xaxis": "x",
           "y": [
            14,
            14,
            14,
            14,
            15,
            15,
            15,
            15,
            16,
            16,
            16,
            16,
            17,
            17,
            17,
            17
           ],
           "yaxis": "y"
          }
         ],
         "name": "4"
        },
        {
         "data": [
          {
           "hovertemplate": "bird=1<br>time=5<br>x=%{x}<br>y=%{y}<extra></extra>",
           "legendgroup": "1",
           "marker": {
            "color": "#636efa",
            "line": {
             "width": 3
            },
            "opacity": 0.8,
            "size": 14,
            "symbol": "square"
           },
           "mode": "markers",
           "name": "1",
           "orientation": "v",
           "showlegend": true,
           "type": "scatter",
           "x": [
            25
           ],
           "xaxis": "x",
           "y": [
            28
           ],
           "yaxis": "y"
          },
          {
           "hovertemplate": "bird=2<br>time=5<br>x=%{x}<br>y=%{y}<extra></extra>",
           "legendgroup": "2",
           "marker": {
            "color": "#EF553B",
            "line": {
             "width": 3
            },
            "opacity": 0.8,
            "size": 14,
            "symbol": "square"
           },
           "mode": "markers",
           "name": "2",
           "orientation": "v",
           "showlegend": true,
           "type": "scatter",
           "x": [
            17
           ],
           "xaxis": "x",
           "y": [
            10
           ],
           "yaxis": "y"
          },
          {
           "hovertemplate": "bird=reward<br>time=5<br>x=%{x}<br>y=%{y}<extra></extra>",
           "legendgroup": "reward",
           "marker": {
            "color": "yellow",
            "symbol": "square"
           },
           "mode": "markers",
           "name": "reward",
           "orientation": "v",
           "showlegend": false,
           "type": "scatter",
           "x": [
            20,
            21,
            22,
            23,
            20,
            21,
            22,
            23,
            20,
            21,
            22,
            23,
            20,
            21,
            22,
            23
           ],
           "xaxis": "x",
           "y": [
            14,
            14,
            14,
            14,
            15,
            15,
            15,
            15,
            16,
            16,
            16,
            16,
            17,
            17,
            17,
            17
           ],
           "yaxis": "y"
          }
         ],
         "name": "5"
        },
        {
         "data": [
          {
           "hovertemplate": "bird=1<br>time=6<br>x=%{x}<br>y=%{y}<extra></extra>",
           "legendgroup": "1",
           "marker": {
            "color": "#636efa",
            "line": {
             "width": 3
            },
            "opacity": 0.8,
            "size": 14,
            "symbol": "square"
           },
           "mode": "markers",
           "name": "1",
           "orientation": "v",
           "showlegend": true,
           "type": "scatter",
           "x": [
            26
           ],
           "xaxis": "x",
           "y": [
            28
           ],
           "yaxis": "y"
          },
          {
           "hovertemplate": "bird=2<br>time=6<br>x=%{x}<br>y=%{y}<extra></extra>",
           "legendgroup": "2",
           "marker": {
            "color": "#EF553B",
            "line": {
             "width": 3
            },
            "opacity": 0.8,
            "size": 14,
            "symbol": "square"
           },
           "mode": "markers",
           "name": "2",
           "orientation": "v",
           "showlegend": true,
           "type": "scatter",
           "x": [
            16
           ],
           "xaxis": "x",
           "y": [
            8
           ],
           "yaxis": "y"
          },
          {
           "hovertemplate": "bird=reward<br>time=6<br>x=%{x}<br>y=%{y}<extra></extra>",
           "legendgroup": "reward",
           "marker": {
            "color": "yellow",
            "symbol": "square"
           },
           "mode": "markers",
           "name": "reward",
           "orientation": "v",
           "showlegend": false,
           "type": "scatter",
           "x": [
            20,
            21,
            22,
            23,
            20,
            21,
            22,
            23,
            20,
            21,
            22,
            23,
            20,
            21,
            22,
            23
           ],
           "xaxis": "x",
           "y": [
            14,
            14,
            14,
            14,
            15,
            15,
            15,
            15,
            16,
            16,
            16,
            16,
            17,
            17,
            17,
            17
           ],
           "yaxis": "y"
          }
         ],
         "name": "6"
        },
        {
         "data": [
          {
           "hovertemplate": "bird=1<br>time=7<br>x=%{x}<br>y=%{y}<extra></extra>",
           "legendgroup": "1",
           "marker": {
            "color": "#636efa",
            "line": {
             "width": 3
            },
            "opacity": 0.8,
            "size": 14,
            "symbol": "square"
           },
           "mode": "markers",
           "name": "1",
           "orientation": "v",
           "showlegend": true,
           "type": "scatter",
           "x": [
            28
           ],
           "xaxis": "x",
           "y": [
            28
           ],
           "yaxis": "y"
          },
          {
           "hovertemplate": "bird=2<br>time=7<br>x=%{x}<br>y=%{y}<extra></extra>",
           "legendgroup": "2",
           "marker": {
            "color": "#EF553B",
            "line": {
             "width": 3
            },
            "opacity": 0.8,
            "size": 14,
            "symbol": "square"
           },
           "mode": "markers",
           "name": "2",
           "orientation": "v",
           "showlegend": true,
           "type": "scatter",
           "x": [
            13
           ],
           "xaxis": "x",
           "y": [
            8
           ],
           "yaxis": "y"
          },
          {
           "hovertemplate": "bird=reward<br>time=7<br>x=%{x}<br>y=%{y}<extra></extra>",
           "legendgroup": "reward",
           "marker": {
            "color": "yellow",
            "symbol": "square"
           },
           "mode": "markers",
           "name": "reward",
           "orientation": "v",
           "showlegend": false,
           "type": "scatter",
           "x": [
            20,
            21,
            22,
            23,
            20,
            21,
            22,
            23,
            20,
            21,
            22,
            23,
            20,
            21,
            22,
            23
           ],
           "xaxis": "x",
           "y": [
            14,
            14,
            14,
            14,
            15,
            15,
            15,
            15,
            16,
            16,
            16,
            16,
            17,
            17,
            17,
            17
           ],
           "yaxis": "y"
          }
         ],
         "name": "7"
        },
        {
         "data": [
          {
           "hovertemplate": "bird=1<br>time=8<br>x=%{x}<br>y=%{y}<extra></extra>",
           "legendgroup": "1",
           "marker": {
            "color": "#636efa",
            "line": {
             "width": 3
            },
            "opacity": 0.8,
            "size": 14,
            "symbol": "square"
           },
           "mode": "markers",
           "name": "1",
           "orientation": "v",
           "showlegend": true,
           "type": "scatter",
           "x": [
            28
           ],
           "xaxis": "x",
           "y": [
            25
           ],
           "yaxis": "y"
          },
          {
           "hovertemplate": "bird=2<br>time=8<br>x=%{x}<br>y=%{y}<extra></extra>",
           "legendgroup": "2",
           "marker": {
            "color": "#EF553B",
            "line": {
             "width": 3
            },
            "opacity": 0.8,
            "size": 14,
            "symbol": "square"
           },
           "mode": "markers",
           "name": "2",
           "orientation": "v",
           "showlegend": true,
           "type": "scatter",
           "x": [
            12
           ],
           "xaxis": "x",
           "y": [
            8
           ],
           "yaxis": "y"
          },
          {
           "hovertemplate": "bird=reward<br>time=8<br>x=%{x}<br>y=%{y}<extra></extra>",
           "legendgroup": "reward",
           "marker": {
            "color": "yellow",
            "symbol": "square"
           },
           "mode": "markers",
           "name": "reward",
           "orientation": "v",
           "showlegend": false,
           "type": "scatter",
           "x": [
            20,
            21,
            22,
            23,
            20,
            21,
            22,
            23,
            20,
            21,
            22,
            23,
            20,
            21,
            22,
            23
           ],
           "xaxis": "x",
           "y": [
            14,
            14,
            14,
            14,
            15,
            15,
            15,
            15,
            16,
            16,
            16,
            16,
            17,
            17,
            17,
            17
           ],
           "yaxis": "y"
          }
         ],
         "name": "8"
        },
        {
         "data": [
          {
           "hovertemplate": "bird=1<br>time=9<br>x=%{x}<br>y=%{y}<extra></extra>",
           "legendgroup": "1",
           "marker": {
            "color": "#636efa",
            "line": {
             "width": 3
            },
            "opacity": 0.8,
            "size": 14,
            "symbol": "square"
           },
           "mode": "markers",
           "name": "1",
           "orientation": "v",
           "showlegend": true,
           "type": "scatter",
           "x": [
            29
           ],
           "xaxis": "x",
           "y": [
            26
           ],
           "yaxis": "y"
          },
          {
           "hovertemplate": "bird=2<br>time=9<br>x=%{x}<br>y=%{y}<extra></extra>",
           "legendgroup": "2",
           "marker": {
            "color": "#EF553B",
            "line": {
             "width": 3
            },
            "opacity": 0.8,
            "size": 14,
            "symbol": "square"
           },
           "mode": "markers",
           "name": "2",
           "orientation": "v",
           "showlegend": true,
           "type": "scatter",
           "x": [
            10
           ],
           "xaxis": "x",
           "y": [
            8
           ],
           "yaxis": "y"
          },
          {
           "hovertemplate": "bird=reward<br>time=9<br>x=%{x}<br>y=%{y}<extra></extra>",
           "legendgroup": "reward",
           "marker": {
            "color": "yellow",
            "symbol": "square"
           },
           "mode": "markers",
           "name": "reward",
           "orientation": "v",
           "showlegend": false,
           "type": "scatter",
           "x": [
            20,
            21,
            22,
            23,
            20,
            21,
            22,
            23,
            20,
            21,
            22,
            23,
            20,
            21,
            22,
            23
           ],
           "xaxis": "x",
           "y": [
            14,
            14,
            14,
            14,
            15,
            15,
            15,
            15,
            16,
            16,
            16,
            16,
            17,
            17,
            17,
            17
           ],
           "yaxis": "y"
          }
         ],
         "name": "9"
        },
        {
         "data": [
          {
           "hovertemplate": "bird=1<br>time=10<br>x=%{x}<br>y=%{y}<extra></extra>",
           "legendgroup": "1",
           "marker": {
            "color": "#636efa",
            "line": {
             "width": 3
            },
            "opacity": 0.8,
            "size": 14,
            "symbol": "square"
           },
           "mode": "markers",
           "name": "1",
           "orientation": "v",
           "showlegend": true,
           "type": "scatter",
           "x": [
            26
           ],
           "xaxis": "x",
           "y": [
            26
           ],
           "yaxis": "y"
          },
          {
           "hovertemplate": "bird=2<br>time=10<br>x=%{x}<br>y=%{y}<extra></extra>",
           "legendgroup": "2",
           "marker": {
            "color": "#EF553B",
            "line": {
             "width": 3
            },
            "opacity": 0.8,
            "size": 14,
            "symbol": "square"
           },
           "mode": "markers",
           "name": "2",
           "orientation": "v",
           "showlegend": true,
           "type": "scatter",
           "x": [
            12
           ],
           "xaxis": "x",
           "y": [
            10
           ],
           "yaxis": "y"
          },
          {
           "hovertemplate": "bird=reward<br>time=10<br>x=%{x}<br>y=%{y}<extra></extra>",
           "legendgroup": "reward",
           "marker": {
            "color": "yellow",
            "symbol": "square"
           },
           "mode": "markers",
           "name": "reward",
           "orientation": "v",
           "showlegend": false,
           "type": "scatter",
           "x": [
            20,
            21,
            22,
            23,
            20,
            21,
            22,
            23,
            20,
            21,
            22,
            23,
            20,
            21,
            22,
            23
           ],
           "xaxis": "x",
           "y": [
            14,
            14,
            14,
            14,
            15,
            15,
            15,
            15,
            16,
            16,
            16,
            16,
            17,
            17,
            17,
            17
           ],
           "yaxis": "y"
          }
         ],
         "name": "10"
        },
        {
         "data": [
          {
           "hovertemplate": "bird=1<br>time=11<br>x=%{x}<br>y=%{y}<extra></extra>",
           "legendgroup": "1",
           "marker": {
            "color": "#636efa",
            "line": {
             "width": 3
            },
            "opacity": 0.8,
            "size": 14,
            "symbol": "square"
           },
           "mode": "markers",
           "name": "1",
           "orientation": "v",
           "showlegend": true,
           "type": "scatter",
           "x": [
            26
           ],
           "xaxis": "x",
           "y": [
            25
           ],
           "yaxis": "y"
          },
          {
           "hovertemplate": "bird=2<br>time=11<br>x=%{x}<br>y=%{y}<extra></extra>",
           "legendgroup": "2",
           "marker": {
            "color": "#EF553B",
            "line": {
             "width": 3
            },
            "opacity": 0.8,
            "size": 14,
            "symbol": "square"
           },
           "mode": "markers",
           "name": "2",
           "orientation": "v",
           "showlegend": true,
           "type": "scatter",
           "x": [
            11
           ],
           "xaxis": "x",
           "y": [
            12
           ],
           "yaxis": "y"
          },
          {
           "hovertemplate": "bird=reward<br>time=11<br>x=%{x}<br>y=%{y}<extra></extra>",
           "legendgroup": "reward",
           "marker": {
            "color": "yellow",
            "symbol": "square"
           },
           "mode": "markers",
           "name": "reward",
           "orientation": "v",
           "showlegend": false,
           "type": "scatter",
           "x": [
            20,
            21,
            22,
            23,
            20,
            21,
            22,
            23,
            20,
            21,
            22,
            23,
            20,
            21,
            22,
            23
           ],
           "xaxis": "x",
           "y": [
            14,
            14,
            14,
            14,
            15,
            15,
            15,
            15,
            16,
            16,
            16,
            16,
            17,
            17,
            17,
            17
           ],
           "yaxis": "y"
          }
         ],
         "name": "11"
        },
        {
         "data": [
          {
           "hovertemplate": "bird=1<br>time=12<br>x=%{x}<br>y=%{y}<extra></extra>",
           "legendgroup": "1",
           "marker": {
            "color": "#636efa",
            "line": {
             "width": 3
            },
            "opacity": 0.8,
            "size": 14,
            "symbol": "square"
           },
           "mode": "markers",
           "name": "1",
           "orientation": "v",
           "showlegend": true,
           "type": "scatter",
           "x": [
            28
           ],
           "xaxis": "x",
           "y": [
            23
           ],
           "yaxis": "y"
          },
          {
           "hovertemplate": "bird=2<br>time=12<br>x=%{x}<br>y=%{y}<extra></extra>",
           "legendgroup": "2",
           "marker": {
            "color": "#EF553B",
            "line": {
             "width": 3
            },
            "opacity": 0.8,
            "size": 14,
            "symbol": "square"
           },
           "mode": "markers",
           "name": "2",
           "orientation": "v",
           "showlegend": true,
           "type": "scatter",
           "x": [
            11
           ],
           "xaxis": "x",
           "y": [
            15
           ],
           "yaxis": "y"
          },
          {
           "hovertemplate": "bird=reward<br>time=12<br>x=%{x}<br>y=%{y}<extra></extra>",
           "legendgroup": "reward",
           "marker": {
            "color": "yellow",
            "symbol": "square"
           },
           "mode": "markers",
           "name": "reward",
           "orientation": "v",
           "showlegend": false,
           "type": "scatter",
           "x": [
            20,
            21,
            22,
            23,
            20,
            21,
            22,
            23,
            20,
            21,
            22,
            23,
            20,
            21,
            22,
            23
           ],
           "xaxis": "x",
           "y": [
            14,
            14,
            14,
            14,
            15,
            15,
            15,
            15,
            16,
            16,
            16,
            16,
            17,
            17,
            17,
            17
           ],
           "yaxis": "y"
          }
         ],
         "name": "12"
        },
        {
         "data": [
          {
           "hovertemplate": "bird=1<br>time=13<br>x=%{x}<br>y=%{y}<extra></extra>",
           "legendgroup": "1",
           "marker": {
            "color": "#636efa",
            "line": {
             "width": 3
            },
            "opacity": 0.8,
            "size": 14,
            "symbol": "square"
           },
           "mode": "markers",
           "name": "1",
           "orientation": "v",
           "showlegend": true,
           "type": "scatter",
           "x": [
            28
           ],
           "xaxis": "x",
           "y": [
            26
           ],
           "yaxis": "y"
          },
          {
           "hovertemplate": "bird=2<br>time=13<br>x=%{x}<br>y=%{y}<extra></extra>",
           "legendgroup": "2",
           "marker": {
            "color": "#EF553B",
            "line": {
             "width": 3
            },
            "opacity": 0.8,
            "size": 14,
            "symbol": "square"
           },
           "mode": "markers",
           "name": "2",
           "orientation": "v",
           "showlegend": true,
           "type": "scatter",
           "x": [
            13
           ],
           "xaxis": "x",
           "y": [
            15
           ],
           "yaxis": "y"
          },
          {
           "hovertemplate": "bird=reward<br>time=13<br>x=%{x}<br>y=%{y}<extra></extra>",
           "legendgroup": "reward",
           "marker": {
            "color": "yellow",
            "symbol": "square"
           },
           "mode": "markers",
           "name": "reward",
           "orientation": "v",
           "showlegend": false,
           "type": "scatter",
           "x": [
            20,
            21,
            22,
            23,
            20,
            21,
            22,
            23,
            20,
            21,
            22,
            23,
            20,
            21,
            22,
            23
           ],
           "xaxis": "x",
           "y": [
            14,
            14,
            14,
            14,
            15,
            15,
            15,
            15,
            16,
            16,
            16,
            16,
            17,
            17,
            17,
            17
           ],
           "yaxis": "y"
          }
         ],
         "name": "13"
        },
        {
         "data": [
          {
           "hovertemplate": "bird=1<br>time=14<br>x=%{x}<br>y=%{y}<extra></extra>",
           "legendgroup": "1",
           "marker": {
            "color": "#636efa",
            "line": {
             "width": 3
            },
            "opacity": 0.8,
            "size": 14,
            "symbol": "square"
           },
           "mode": "markers",
           "name": "1",
           "orientation": "v",
           "showlegend": true,
           "type": "scatter",
           "x": [
            29
           ],
           "xaxis": "x",
           "y": [
            26
           ],
           "yaxis": "y"
          },
          {
           "hovertemplate": "bird=2<br>time=14<br>x=%{x}<br>y=%{y}<extra></extra>",
           "legendgroup": "2",
           "marker": {
            "color": "#EF553B",
            "line": {
             "width": 3
            },
            "opacity": 0.8,
            "size": 14,
            "symbol": "square"
           },
           "mode": "markers",
           "name": "2",
           "orientation": "v",
           "showlegend": true,
           "type": "scatter",
           "x": [
            12
           ],
           "xaxis": "x",
           "y": [
            14
           ],
           "yaxis": "y"
          },
          {
           "hovertemplate": "bird=reward<br>time=14<br>x=%{x}<br>y=%{y}<extra></extra>",
           "legendgroup": "reward",
           "marker": {
            "color": "yellow",
            "symbol": "square"
           },
           "mode": "markers",
           "name": "reward",
           "orientation": "v",
           "showlegend": false,
           "type": "scatter",
           "x": [
            20,
            21,
            22,
            23,
            20,
            21,
            22,
            23,
            20,
            21,
            22,
            23,
            20,
            21,
            22,
            23
           ],
           "xaxis": "x",
           "y": [
            14,
            14,
            14,
            14,
            15,
            15,
            15,
            15,
            16,
            16,
            16,
            16,
            17,
            17,
            17,
            17
           ],
           "yaxis": "y"
          }
         ],
         "name": "14"
        },
        {
         "data": [
          {
           "hovertemplate": "bird=1<br>time=15<br>x=%{x}<br>y=%{y}<extra></extra>",
           "legendgroup": "1",
           "marker": {
            "color": "#636efa",
            "line": {
             "width": 3
            },
            "opacity": 0.8,
            "size": 14,
            "symbol": "square"
           },
           "mode": "markers",
           "name": "1",
           "orientation": "v",
           "showlegend": true,
           "type": "scatter",
           "x": [
            28
           ],
           "xaxis": "x",
           "y": [
            25
           ],
           "yaxis": "y"
          },
          {
           "hovertemplate": "bird=2<br>time=15<br>x=%{x}<br>y=%{y}<extra></extra>",
           "legendgroup": "2",
           "marker": {
            "color": "#EF553B",
            "line": {
             "width": 3
            },
            "opacity": 0.8,
            "size": 14,
            "symbol": "square"
           },
           "mode": "markers",
           "name": "2",
           "orientation": "v",
           "showlegend": true,
           "type": "scatter",
           "x": [
            12
           ],
           "xaxis": "x",
           "y": [
            17
           ],
           "yaxis": "y"
          },
          {
           "hovertemplate": "bird=reward<br>time=15<br>x=%{x}<br>y=%{y}<extra></extra>",
           "legendgroup": "reward",
           "marker": {
            "color": "yellow",
            "symbol": "square"
           },
           "mode": "markers",
           "name": "reward",
           "orientation": "v",
           "showlegend": false,
           "type": "scatter",
           "x": [
            20,
            21,
            22,
            23,
            20,
            21,
            22,
            23,
            20,
            21,
            22,
            23,
            20,
            21,
            22,
            23
           ],
           "xaxis": "x",
           "y": [
            14,
            14,
            14,
            14,
            15,
            15,
            15,
            15,
            16,
            16,
            16,
            16,
            17,
            17,
            17,
            17
           ],
           "yaxis": "y"
          }
         ],
         "name": "15"
        },
        {
         "data": [
          {
           "hovertemplate": "bird=1<br>time=16<br>x=%{x}<br>y=%{y}<extra></extra>",
           "legendgroup": "1",
           "marker": {
            "color": "#636efa",
            "line": {
             "width": 3
            },
            "opacity": 0.8,
            "size": 14,
            "symbol": "square"
           },
           "mode": "markers",
           "name": "1",
           "orientation": "v",
           "showlegend": true,
           "type": "scatter",
           "x": [
            28
           ],
           "xaxis": "x",
           "y": [
            22
           ],
           "yaxis": "y"
          },
          {
           "hovertemplate": "bird=2<br>time=16<br>x=%{x}<br>y=%{y}<extra></extra>",
           "legendgroup": "2",
           "marker": {
            "color": "#EF553B",
            "line": {
             "width": 3
            },
            "opacity": 0.8,
            "size": 14,
            "symbol": "square"
           },
           "mode": "markers",
           "name": "2",
           "orientation": "v",
           "showlegend": true,
           "type": "scatter",
           "x": [
            13
           ],
           "xaxis": "x",
           "y": [
            16
           ],
           "yaxis": "y"
          },
          {
           "hovertemplate": "bird=reward<br>time=16<br>x=%{x}<br>y=%{y}<extra></extra>",
           "legendgroup": "reward",
           "marker": {
            "color": "yellow",
            "symbol": "square"
           },
           "mode": "markers",
           "name": "reward",
           "orientation": "v",
           "showlegend": false,
           "type": "scatter",
           "x": [
            20,
            21,
            22,
            23,
            20,
            21,
            22,
            23,
            20,
            21,
            22,
            23,
            20,
            21,
            22,
            23
           ],
           "xaxis": "x",
           "y": [
            14,
            14,
            14,
            14,
            15,
            15,
            15,
            15,
            16,
            16,
            16,
            16,
            17,
            17,
            17,
            17
           ],
           "yaxis": "y"
          }
         ],
         "name": "16"
        },
        {
         "data": [
          {
           "hovertemplate": "bird=1<br>time=17<br>x=%{x}<br>y=%{y}<extra></extra>",
           "legendgroup": "1",
           "marker": {
            "color": "#636efa",
            "line": {
             "width": 3
            },
            "opacity": 0.8,
            "size": 14,
            "symbol": "square"
           },
           "mode": "markers",
           "name": "1",
           "orientation": "v",
           "showlegend": true,
           "type": "scatter",
           "x": [
            29
           ],
           "xaxis": "x",
           "y": [
            22
           ],
           "yaxis": "y"
          },
          {
           "hovertemplate": "bird=2<br>time=17<br>x=%{x}<br>y=%{y}<extra></extra>",
           "legendgroup": "2",
           "marker": {
            "color": "#EF553B",
            "line": {
             "width": 3
            },
            "opacity": 0.8,
            "size": 14,
            "symbol": "square"
           },
           "mode": "markers",
           "name": "2",
           "orientation": "v",
           "showlegend": true,
           "type": "scatter",
           "x": [
            13
           ],
           "xaxis": "x",
           "y": [
            14
           ],
           "yaxis": "y"
          },
          {
           "hovertemplate": "bird=reward<br>time=17<br>x=%{x}<br>y=%{y}<extra></extra>",
           "legendgroup": "reward",
           "marker": {
            "color": "yellow",
            "symbol": "square"
           },
           "mode": "markers",
           "name": "reward",
           "orientation": "v",
           "showlegend": false,
           "type": "scatter",
           "x": [
            20,
            21,
            22,
            23,
            20,
            21,
            22,
            23,
            20,
            21,
            22,
            23,
            20,
            21,
            22,
            23
           ],
           "xaxis": "x",
           "y": [
            14,
            14,
            14,
            14,
            15,
            15,
            15,
            15,
            16,
            16,
            16,
            16,
            17,
            17,
            17,
            17
           ],
           "yaxis": "y"
          }
         ],
         "name": "17"
        },
        {
         "data": [
          {
           "hovertemplate": "bird=1<br>time=18<br>x=%{x}<br>y=%{y}<extra></extra>",
           "legendgroup": "1",
           "marker": {
            "color": "#636efa",
            "line": {
             "width": 3
            },
            "opacity": 0.8,
            "size": 14,
            "symbol": "square"
           },
           "mode": "markers",
           "name": "1",
           "orientation": "v",
           "showlegend": true,
           "type": "scatter",
           "x": [
            27
           ],
           "xaxis": "x",
           "y": [
            21
           ],
           "yaxis": "y"
          },
          {
           "hovertemplate": "bird=2<br>time=18<br>x=%{x}<br>y=%{y}<extra></extra>",
           "legendgroup": "2",
           "marker": {
            "color": "#EF553B",
            "line": {
             "width": 3
            },
            "opacity": 0.8,
            "size": 14,
            "symbol": "square"
           },
           "mode": "markers",
           "name": "2",
           "orientation": "v",
           "showlegend": true,
           "type": "scatter",
           "x": [
            16
           ],
           "xaxis": "x",
           "y": [
            14
           ],
           "yaxis": "y"
          },
          {
           "hovertemplate": "bird=reward<br>time=18<br>x=%{x}<br>y=%{y}<extra></extra>",
           "legendgroup": "reward",
           "marker": {
            "color": "yellow",
            "symbol": "square"
           },
           "mode": "markers",
           "name": "reward",
           "orientation": "v",
           "showlegend": false,
           "type": "scatter",
           "x": [
            20,
            21,
            22,
            23,
            20,
            21,
            22,
            23,
            20,
            21,
            22,
            23,
            20,
            21,
            22,
            23
           ],
           "xaxis": "x",
           "y": [
            14,
            14,
            14,
            14,
            15,
            15,
            15,
            15,
            16,
            16,
            16,
            16,
            17,
            17,
            17,
            17
           ],
           "yaxis": "y"
          }
         ],
         "name": "18"
        },
        {
         "data": [
          {
           "hovertemplate": "bird=1<br>time=19<br>x=%{x}<br>y=%{y}<extra></extra>",
           "legendgroup": "1",
           "marker": {
            "color": "#636efa",
            "line": {
             "width": 3
            },
            "opacity": 0.8,
            "size": 14,
            "symbol": "square"
           },
           "mode": "markers",
           "name": "1",
           "orientation": "v",
           "showlegend": true,
           "type": "scatter",
           "x": [
            27
           ],
           "xaxis": "x",
           "y": [
            20
           ],
           "yaxis": "y"
          },
          {
           "hovertemplate": "bird=2<br>time=19<br>x=%{x}<br>y=%{y}<extra></extra>",
           "legendgroup": "2",
           "marker": {
            "color": "#EF553B",
            "line": {
             "width": 3
            },
            "opacity": 0.8,
            "size": 14,
            "symbol": "square"
           },
           "mode": "markers",
           "name": "2",
           "orientation": "v",
           "showlegend": true,
           "type": "scatter",
           "x": [
            14
           ],
           "xaxis": "x",
           "y": [
            14
           ],
           "yaxis": "y"
          },
          {
           "hovertemplate": "bird=reward<br>time=19<br>x=%{x}<br>y=%{y}<extra></extra>",
           "legendgroup": "reward",
           "marker": {
            "color": "yellow",
            "symbol": "square"
           },
           "mode": "markers",
           "name": "reward",
           "orientation": "v",
           "showlegend": false,
           "type": "scatter",
           "x": [
            20,
            21,
            22,
            23,
            20,
            21,
            22,
            23,
            20,
            21,
            22,
            23,
            20,
            21,
            22,
            23
           ],
           "xaxis": "x",
           "y": [
            14,
            14,
            14,
            14,
            15,
            15,
            15,
            15,
            16,
            16,
            16,
            16,
            17,
            17,
            17,
            17
           ],
           "yaxis": "y"
          }
         ],
         "name": "19"
        }
       ],
       "layout": {
        "autosize": false,
        "height": 600,
        "legend": {
         "title": {
          "text": "bird"
         },
         "tracegroupgap": 0
        },
        "margin": {
         "t": 60
        },
        "sliders": [
         {
          "active": 0,
          "currentvalue": {
           "prefix": "time="
          },
          "len": 0.9,
          "pad": {
           "b": 10,
           "t": 60
          },
          "steps": [
           {
            "args": [
             [
              "1"
             ],
             {
              "frame": {
               "duration": 0,
               "redraw": false
              },
              "fromcurrent": true,
              "mode": "immediate",
              "transition": {
               "duration": 0,
               "easing": "linear"
              }
             }
            ],
            "label": "1",
            "method": "animate"
           },
           {
            "args": [
             [
              "2"
             ],
             {
              "frame": {
               "duration": 0,
               "redraw": false
              },
              "fromcurrent": true,
              "mode": "immediate",
              "transition": {
               "duration": 0,
               "easing": "linear"
              }
             }
            ],
            "label": "2",
            "method": "animate"
           },
           {
            "args": [
             [
              "3"
             ],
             {
              "frame": {
               "duration": 0,
               "redraw": false
              },
              "fromcurrent": true,
              "mode": "immediate",
              "transition": {
               "duration": 0,
               "easing": "linear"
              }
             }
            ],
            "label": "3",
            "method": "animate"
           },
           {
            "args": [
             [
              "4"
             ],
             {
              "frame": {
               "duration": 0,
               "redraw": false
              },
              "fromcurrent": true,
              "mode": "immediate",
              "transition": {
               "duration": 0,
               "easing": "linear"
              }
             }
            ],
            "label": "4",
            "method": "animate"
           },
           {
            "args": [
             [
              "5"
             ],
             {
              "frame": {
               "duration": 0,
               "redraw": false
              },
              "fromcurrent": true,
              "mode": "immediate",
              "transition": {
               "duration": 0,
               "easing": "linear"
              }
             }
            ],
            "label": "5",
            "method": "animate"
           },
           {
            "args": [
             [
              "6"
             ],
             {
              "frame": {
               "duration": 0,
               "redraw": false
              },
              "fromcurrent": true,
              "mode": "immediate",
              "transition": {
               "duration": 0,
               "easing": "linear"
              }
             }
            ],
            "label": "6",
            "method": "animate"
           },
           {
            "args": [
             [
              "7"
             ],
             {
              "frame": {
               "duration": 0,
               "redraw": false
              },
              "fromcurrent": true,
              "mode": "immediate",
              "transition": {
               "duration": 0,
               "easing": "linear"
              }
             }
            ],
            "label": "7",
            "method": "animate"
           },
           {
            "args": [
             [
              "8"
             ],
             {
              "frame": {
               "duration": 0,
               "redraw": false
              },
              "fromcurrent": true,
              "mode": "immediate",
              "transition": {
               "duration": 0,
               "easing": "linear"
              }
             }
            ],
            "label": "8",
            "method": "animate"
           },
           {
            "args": [
             [
              "9"
             ],
             {
              "frame": {
               "duration": 0,
               "redraw": false
              },
              "fromcurrent": true,
              "mode": "immediate",
              "transition": {
               "duration": 0,
               "easing": "linear"
              }
             }
            ],
            "label": "9",
            "method": "animate"
           },
           {
            "args": [
             [
              "10"
             ],
             {
              "frame": {
               "duration": 0,
               "redraw": false
              },
              "fromcurrent": true,
              "mode": "immediate",
              "transition": {
               "duration": 0,
               "easing": "linear"
              }
             }
            ],
            "label": "10",
            "method": "animate"
           },
           {
            "args": [
             [
              "11"
             ],
             {
              "frame": {
               "duration": 0,
               "redraw": false
              },
              "fromcurrent": true,
              "mode": "immediate",
              "transition": {
               "duration": 0,
               "easing": "linear"
              }
             }
            ],
            "label": "11",
            "method": "animate"
           },
           {
            "args": [
             [
              "12"
             ],
             {
              "frame": {
               "duration": 0,
               "redraw": false
              },
              "fromcurrent": true,
              "mode": "immediate",
              "transition": {
               "duration": 0,
               "easing": "linear"
              }
             }
            ],
            "label": "12",
            "method": "animate"
           },
           {
            "args": [
             [
              "13"
             ],
             {
              "frame": {
               "duration": 0,
               "redraw": false
              },
              "fromcurrent": true,
              "mode": "immediate",
              "transition": {
               "duration": 0,
               "easing": "linear"
              }
             }
            ],
            "label": "13",
            "method": "animate"
           },
           {
            "args": [
             [
              "14"
             ],
             {
              "frame": {
               "duration": 0,
               "redraw": false
              },
              "fromcurrent": true,
              "mode": "immediate",
              "transition": {
               "duration": 0,
               "easing": "linear"
              }
             }
            ],
            "label": "14",
            "method": "animate"
           },
           {
            "args": [
             [
              "15"
             ],
             {
              "frame": {
               "duration": 0,
               "redraw": false
              },
              "fromcurrent": true,
              "mode": "immediate",
              "transition": {
               "duration": 0,
               "easing": "linear"
              }
             }
            ],
            "label": "15",
            "method": "animate"
           },
           {
            "args": [
             [
              "16"
             ],
             {
              "frame": {
               "duration": 0,
               "redraw": false
              },
              "fromcurrent": true,
              "mode": "immediate",
              "transition": {
               "duration": 0,
               "easing": "linear"
              }
             }
            ],
            "label": "16",
            "method": "animate"
           },
           {
            "args": [
             [
              "17"
             ],
             {
              "frame": {
               "duration": 0,
               "redraw": false
              },
              "fromcurrent": true,
              "mode": "immediate",
              "transition": {
               "duration": 0,
               "easing": "linear"
              }
             }
            ],
            "label": "17",
            "method": "animate"
           },
           {
            "args": [
             [
              "18"
             ],
             {
              "frame": {
               "duration": 0,
               "redraw": false
              },
              "fromcurrent": true,
              "mode": "immediate",
              "transition": {
               "duration": 0,
               "easing": "linear"
              }
             }
            ],
            "label": "18",
            "method": "animate"
           },
           {
            "args": [
             [
              "19"
             ],
             {
              "frame": {
               "duration": 0,
               "redraw": false
              },
              "fromcurrent": true,
              "mode": "immediate",
              "transition": {
               "duration": 0,
               "easing": "linear"
              }
             }
            ],
            "label": "19",
            "method": "animate"
           }
          ],
          "x": 0.1,
          "xanchor": "left",
          "y": 0,
          "yanchor": "top"
         }
        ],
        "template": {
         "data": {
          "bar": [
           {
            "error_x": {
             "color": "#f2f5fa"
            },
            "error_y": {
             "color": "#f2f5fa"
            },
            "marker": {
             "line": {
              "color": "rgb(17,17,17)",
              "width": 0.5
             },
             "pattern": {
              "fillmode": "overlay",
              "size": 10,
              "solidity": 0.2
             }
            },
            "type": "bar"
           }
          ],
          "barpolar": [
           {
            "marker": {
             "line": {
              "color": "rgb(17,17,17)",
              "width": 0.5
             },
             "pattern": {
              "fillmode": "overlay",
              "size": 10,
              "solidity": 0.2
             }
            },
            "type": "barpolar"
           }
          ],
          "carpet": [
           {
            "aaxis": {
             "endlinecolor": "#A2B1C6",
             "gridcolor": "#506784",
             "linecolor": "#506784",
             "minorgridcolor": "#506784",
             "startlinecolor": "#A2B1C6"
            },
            "baxis": {
             "endlinecolor": "#A2B1C6",
             "gridcolor": "#506784",
             "linecolor": "#506784",
             "minorgridcolor": "#506784",
             "startlinecolor": "#A2B1C6"
            },
            "type": "carpet"
           }
          ],
          "choropleth": [
           {
            "colorbar": {
             "outlinewidth": 0,
             "ticks": ""
            },
            "type": "choropleth"
           }
          ],
          "contour": [
           {
            "colorbar": {
             "outlinewidth": 0,
             "ticks": ""
            },
            "colorscale": [
             [
              0,
              "#0d0887"
             ],
             [
              0.1111111111111111,
              "#46039f"
             ],
             [
              0.2222222222222222,
              "#7201a8"
             ],
             [
              0.3333333333333333,
              "#9c179e"
             ],
             [
              0.4444444444444444,
              "#bd3786"
             ],
             [
              0.5555555555555556,
              "#d8576b"
             ],
             [
              0.6666666666666666,
              "#ed7953"
             ],
             [
              0.7777777777777778,
              "#fb9f3a"
             ],
             [
              0.8888888888888888,
              "#fdca26"
             ],
             [
              1,
              "#f0f921"
             ]
            ],
            "type": "contour"
           }
          ],
          "contourcarpet": [
           {
            "colorbar": {
             "outlinewidth": 0,
             "ticks": ""
            },
            "type": "contourcarpet"
           }
          ],
          "heatmap": [
           {
            "colorbar": {
             "outlinewidth": 0,
             "ticks": ""
            },
            "colorscale": [
             [
              0,
              "#0d0887"
             ],
             [
              0.1111111111111111,
              "#46039f"
             ],
             [
              0.2222222222222222,
              "#7201a8"
             ],
             [
              0.3333333333333333,
              "#9c179e"
             ],
             [
              0.4444444444444444,
              "#bd3786"
             ],
             [
              0.5555555555555556,
              "#d8576b"
             ],
             [
              0.6666666666666666,
              "#ed7953"
             ],
             [
              0.7777777777777778,
              "#fb9f3a"
             ],
             [
              0.8888888888888888,
              "#fdca26"
             ],
             [
              1,
              "#f0f921"
             ]
            ],
            "type": "heatmap"
           }
          ],
          "heatmapgl": [
           {
            "colorbar": {
             "outlinewidth": 0,
             "ticks": ""
            },
            "colorscale": [
             [
              0,
              "#0d0887"
             ],
             [
              0.1111111111111111,
              "#46039f"
             ],
             [
              0.2222222222222222,
              "#7201a8"
             ],
             [
              0.3333333333333333,
              "#9c179e"
             ],
             [
              0.4444444444444444,
              "#bd3786"
             ],
             [
              0.5555555555555556,
              "#d8576b"
             ],
             [
              0.6666666666666666,
              "#ed7953"
             ],
             [
              0.7777777777777778,
              "#fb9f3a"
             ],
             [
              0.8888888888888888,
              "#fdca26"
             ],
             [
              1,
              "#f0f921"
             ]
            ],
            "type": "heatmapgl"
           }
          ],
          "histogram": [
           {
            "marker": {
             "pattern": {
              "fillmode": "overlay",
              "size": 10,
              "solidity": 0.2
             }
            },
            "type": "histogram"
           }
          ],
          "histogram2d": [
           {
            "colorbar": {
             "outlinewidth": 0,
             "ticks": ""
            },
            "colorscale": [
             [
              0,
              "#0d0887"
             ],
             [
              0.1111111111111111,
              "#46039f"
             ],
             [
              0.2222222222222222,
              "#7201a8"
             ],
             [
              0.3333333333333333,
              "#9c179e"
             ],
             [
              0.4444444444444444,
              "#bd3786"
             ],
             [
              0.5555555555555556,
              "#d8576b"
             ],
             [
              0.6666666666666666,
              "#ed7953"
             ],
             [
              0.7777777777777778,
              "#fb9f3a"
             ],
             [
              0.8888888888888888,
              "#fdca26"
             ],
             [
              1,
              "#f0f921"
             ]
            ],
            "type": "histogram2d"
           }
          ],
          "histogram2dcontour": [
           {
            "colorbar": {
             "outlinewidth": 0,
             "ticks": ""
            },
            "colorscale": [
             [
              0,
              "#0d0887"
             ],
             [
              0.1111111111111111,
              "#46039f"
             ],
             [
              0.2222222222222222,
              "#7201a8"
             ],
             [
              0.3333333333333333,
              "#9c179e"
             ],
             [
              0.4444444444444444,
              "#bd3786"
             ],
             [
              0.5555555555555556,
              "#d8576b"
             ],
             [
              0.6666666666666666,
              "#ed7953"
             ],
             [
              0.7777777777777778,
              "#fb9f3a"
             ],
             [
              0.8888888888888888,
              "#fdca26"
             ],
             [
              1,
              "#f0f921"
             ]
            ],
            "type": "histogram2dcontour"
           }
          ],
          "mesh3d": [
           {
            "colorbar": {
             "outlinewidth": 0,
             "ticks": ""
            },
            "type": "mesh3d"
           }
          ],
          "parcoords": [
           {
            "line": {
             "colorbar": {
              "outlinewidth": 0,
              "ticks": ""
             }
            },
            "type": "parcoords"
           }
          ],
          "pie": [
           {
            "automargin": true,
            "type": "pie"
           }
          ],
          "scatter": [
           {
            "marker": {
             "line": {
              "color": "#283442"
             }
            },
            "type": "scatter"
           }
          ],
          "scatter3d": [
           {
            "line": {
             "colorbar": {
              "outlinewidth": 0,
              "ticks": ""
             }
            },
            "marker": {
             "colorbar": {
              "outlinewidth": 0,
              "ticks": ""
             }
            },
            "type": "scatter3d"
           }
          ],
          "scattercarpet": [
           {
            "marker": {
             "colorbar": {
              "outlinewidth": 0,
              "ticks": ""
             }
            },
            "type": "scattercarpet"
           }
          ],
          "scattergeo": [
           {
            "marker": {
             "colorbar": {
              "outlinewidth": 0,
              "ticks": ""
             }
            },
            "type": "scattergeo"
           }
          ],
          "scattergl": [
           {
            "marker": {
             "line": {
              "color": "#283442"
             }
            },
            "type": "scattergl"
           }
          ],
          "scattermapbox": [
           {
            "marker": {
             "colorbar": {
              "outlinewidth": 0,
              "ticks": ""
             }
            },
            "type": "scattermapbox"
           }
          ],
          "scatterpolar": [
           {
            "marker": {
             "colorbar": {
              "outlinewidth": 0,
              "ticks": ""
             }
            },
            "type": "scatterpolar"
           }
          ],
          "scatterpolargl": [
           {
            "marker": {
             "colorbar": {
              "outlinewidth": 0,
              "ticks": ""
             }
            },
            "type": "scatterpolargl"
           }
          ],
          "scatterternary": [
           {
            "marker": {
             "colorbar": {
              "outlinewidth": 0,
              "ticks": ""
             }
            },
            "type": "scatterternary"
           }
          ],
          "surface": [
           {
            "colorbar": {
             "outlinewidth": 0,
             "ticks": ""
            },
            "colorscale": [
             [
              0,
              "#0d0887"
             ],
             [
              0.1111111111111111,
              "#46039f"
             ],
             [
              0.2222222222222222,
              "#7201a8"
             ],
             [
              0.3333333333333333,
              "#9c179e"
             ],
             [
              0.4444444444444444,
              "#bd3786"
             ],
             [
              0.5555555555555556,
              "#d8576b"
             ],
             [
              0.6666666666666666,
              "#ed7953"
             ],
             [
              0.7777777777777778,
              "#fb9f3a"
             ],
             [
              0.8888888888888888,
              "#fdca26"
             ],
             [
              1,
              "#f0f921"
             ]
            ],
            "type": "surface"
           }
          ],
          "table": [
           {
            "cells": {
             "fill": {
              "color": "#506784"
             },
             "line": {
              "color": "rgb(17,17,17)"
             }
            },
            "header": {
             "fill": {
              "color": "#2a3f5f"
             },
             "line": {
              "color": "rgb(17,17,17)"
             }
            },
            "type": "table"
           }
          ]
         },
         "layout": {
          "annotationdefaults": {
           "arrowcolor": "#f2f5fa",
           "arrowhead": 0,
           "arrowwidth": 1
          },
          "autotypenumbers": "strict",
          "coloraxis": {
           "colorbar": {
            "outlinewidth": 0,
            "ticks": ""
           }
          },
          "colorscale": {
           "diverging": [
            [
             0,
             "#8e0152"
            ],
            [
             0.1,
             "#c51b7d"
            ],
            [
             0.2,
             "#de77ae"
            ],
            [
             0.3,
             "#f1b6da"
            ],
            [
             0.4,
             "#fde0ef"
            ],
            [
             0.5,
             "#f7f7f7"
            ],
            [
             0.6,
             "#e6f5d0"
            ],
            [
             0.7,
             "#b8e186"
            ],
            [
             0.8,
             "#7fbc41"
            ],
            [
             0.9,
             "#4d9221"
            ],
            [
             1,
             "#276419"
            ]
           ],
           "sequential": [
            [
             0,
             "#0d0887"
            ],
            [
             0.1111111111111111,
             "#46039f"
            ],
            [
             0.2222222222222222,
             "#7201a8"
            ],
            [
             0.3333333333333333,
             "#9c179e"
            ],
            [
             0.4444444444444444,
             "#bd3786"
            ],
            [
             0.5555555555555556,
             "#d8576b"
            ],
            [
             0.6666666666666666,
             "#ed7953"
            ],
            [
             0.7777777777777778,
             "#fb9f3a"
            ],
            [
             0.8888888888888888,
             "#fdca26"
            ],
            [
             1,
             "#f0f921"
            ]
           ],
           "sequentialminus": [
            [
             0,
             "#0d0887"
            ],
            [
             0.1111111111111111,
             "#46039f"
            ],
            [
             0.2222222222222222,
             "#7201a8"
            ],
            [
             0.3333333333333333,
             "#9c179e"
            ],
            [
             0.4444444444444444,
             "#bd3786"
            ],
            [
             0.5555555555555556,
             "#d8576b"
            ],
            [
             0.6666666666666666,
             "#ed7953"
            ],
            [
             0.7777777777777778,
             "#fb9f3a"
            ],
            [
             0.8888888888888888,
             "#fdca26"
            ],
            [
             1,
             "#f0f921"
            ]
           ]
          },
          "colorway": [
           "#636efa",
           "#EF553B",
           "#00cc96",
           "#ab63fa",
           "#FFA15A",
           "#19d3f3",
           "#FF6692",
           "#B6E880",
           "#FF97FF",
           "#FECB52"
          ],
          "font": {
           "color": "#f2f5fa"
          },
          "geo": {
           "bgcolor": "rgb(17,17,17)",
           "lakecolor": "rgb(17,17,17)",
           "landcolor": "rgb(17,17,17)",
           "showlakes": true,
           "showland": true,
           "subunitcolor": "#506784"
          },
          "hoverlabel": {
           "align": "left"
          },
          "hovermode": "closest",
          "mapbox": {
           "style": "dark"
          },
          "paper_bgcolor": "rgb(17,17,17)",
          "plot_bgcolor": "rgb(17,17,17)",
          "polar": {
           "angularaxis": {
            "gridcolor": "#506784",
            "linecolor": "#506784",
            "ticks": ""
           },
           "bgcolor": "rgb(17,17,17)",
           "radialaxis": {
            "gridcolor": "#506784",
            "linecolor": "#506784",
            "ticks": ""
           }
          },
          "scene": {
           "xaxis": {
            "backgroundcolor": "rgb(17,17,17)",
            "gridcolor": "#506784",
            "gridwidth": 2,
            "linecolor": "#506784",
            "showbackground": true,
            "ticks": "",
            "zerolinecolor": "#C8D4E3"
           },
           "yaxis": {
            "backgroundcolor": "rgb(17,17,17)",
            "gridcolor": "#506784",
            "gridwidth": 2,
            "linecolor": "#506784",
            "showbackground": true,
            "ticks": "",
            "zerolinecolor": "#C8D4E3"
           },
           "zaxis": {
            "backgroundcolor": "rgb(17,17,17)",
            "gridcolor": "#506784",
            "gridwidth": 2,
            "linecolor": "#506784",
            "showbackground": true,
            "ticks": "",
            "zerolinecolor": "#C8D4E3"
           }
          },
          "shapedefaults": {
           "line": {
            "color": "#f2f5fa"
           }
          },
          "sliderdefaults": {
           "bgcolor": "#C8D4E3",
           "bordercolor": "rgb(17,17,17)",
           "borderwidth": 1,
           "tickwidth": 0
          },
          "ternary": {
           "aaxis": {
            "gridcolor": "#506784",
            "linecolor": "#506784",
            "ticks": ""
           },
           "baxis": {
            "gridcolor": "#506784",
            "linecolor": "#506784",
            "ticks": ""
           },
           "bgcolor": "rgb(17,17,17)",
           "caxis": {
            "gridcolor": "#506784",
            "linecolor": "#506784",
            "ticks": ""
           }
          },
          "title": {
           "x": 0.05
          },
          "updatemenudefaults": {
           "bgcolor": "#506784",
           "borderwidth": 0
          },
          "xaxis": {
           "automargin": true,
           "gridcolor": "#283442",
           "linecolor": "#506784",
           "ticks": "",
           "title": {
            "standoff": 15
           },
           "zerolinecolor": "#283442",
           "zerolinewidth": 2
          },
          "yaxis": {
           "automargin": true,
           "gridcolor": "#283442",
           "linecolor": "#506784",
           "ticks": "",
           "title": {
            "standoff": 15
           },
           "zerolinecolor": "#283442",
           "zerolinewidth": 2
          }
         }
        },
        "updatemenus": [
         {
          "buttons": [
           {
            "args": [
             null,
             {
              "frame": {
               "duration": 500,
               "redraw": false
              },
              "fromcurrent": true,
              "mode": "immediate",
              "transition": {
               "duration": 0,
               "easing": "linear"
              }
             }
            ],
            "label": "&#9654;",
            "method": "animate"
           },
           {
            "args": [
             [
              null
             ],
             {
              "frame": {
               "duration": 0,
               "redraw": false
              },
              "fromcurrent": true,
              "mode": "immediate",
              "transition": {
               "duration": 0,
               "easing": "linear"
              }
             }
            ],
            "label": "&#9724;",
            "method": "animate"
           }
          ],
          "direction": "left",
          "pad": {
           "r": 10,
           "t": 70
          },
          "showactive": false,
          "type": "buttons",
          "x": 0.1,
          "xanchor": "right",
          "y": 0,
          "yanchor": "top"
         }
        ],
        "width": 600,
        "xaxis": {
         "anchor": "y",
         "domain": [
          0,
          1
         ],
         "range": [
          -1,
          30
         ],
         "showgrid": false,
         "showticklabels": false,
         "ticks": "",
         "title": {
          "text": ""
         },
         "zeroline": false
        },
        "yaxis": {
         "anchor": "x",
         "domain": [
          0,
          1
         ],
         "range": [
          -1,
          30
         ],
         "showgrid": false,
         "showticklabels": false,
         "ticks": "",
         "title": {
          "text": ""
         },
         "zeroline": false
        }
       }
      }
     },
     "metadata": {},
     "output_type": "display_data"
    }
   ],
   "source": [
    "communicators = ft.object_from_data(sim.all_birdsDF, sim.all_rewardsDF)\n",
    "ft.animate_birds(communicators, plot_rewards=True,\n",
    "                  width = 600, height = 600, point_size = 10)"
   ]
  },
  {
   "cell_type": "code",
   "execution_count": null,
   "metadata": {},
   "outputs": [
    {
     "name": "stdout",
     "output_type": "stream",
     "text": [
      "       x     y  time  bird           type\n",
      "0   25.0  26.0     1     1  communicators\n",
      "1   26.0  24.0     2     1  communicators\n",
      "2   24.0  26.0     3     1  communicators\n",
      "3   27.0  26.0     4     1  communicators\n",
      "4   25.0  28.0     5     1  communicators\n",
      "5   26.0  28.0     6     1  communicators\n",
      "6   28.0  28.0     7     1  communicators\n",
      "7   28.0  25.0     8     1  communicators\n",
      "8   29.0  26.0     9     1  communicators\n",
      "9   26.0  26.0    10     1  communicators\n",
      "10  26.0  25.0    11     1  communicators\n",
      "11  28.0  23.0    12     1  communicators\n",
      "12  28.0  26.0    13     1  communicators\n",
      "13  29.0  26.0    14     1  communicators\n",
      "14  28.0  25.0    15     1  communicators\n",
      "15  28.0  22.0    16     1  communicators\n",
      "16  29.0  22.0    17     1  communicators\n",
      "17  27.0  21.0    18     1  communicators\n",
      "18  27.0  20.0    19     1  communicators\n",
      "19   0.0   0.0    20     1  communicators\n"
     ]
    }
   ],
   "source": [
    "print(sim.all_birdsDF.loc[sim.all_birdsDF['bird'] == 1])"
   ]
  },
  {
   "cell_type": "code",
   "execution_count": null,
   "metadata": {},
   "outputs": [
    {
     "name": "stdout",
     "output_type": "stream",
     "text": [
      "     x   y  time\n",
      "0   20  14     4\n",
      "1   21  14     4\n",
      "2   22  14     4\n",
      "3   23  14     4\n",
      "4   20  15     4\n",
      "5   21  15     4\n",
      "6   22  15     4\n",
      "7   23  15     4\n",
      "8   20  16     4\n",
      "9   21  16     4\n",
      "10  22  16     4\n",
      "11  23  16     4\n",
      "12  20  17     4\n",
      "13  21  17     4\n",
      "14  22  17     4\n",
      "15  23  17     4\n"
     ]
    }
   ],
   "source": [
    "# print(sim.all_rewardsDF[]) \n",
    "print(sim.all_rewardsDF.loc[sim.all_rewardsDF['time'] == 4])\n"
   ]
  },
  {
   "cell_type": "code",
   "execution_count": null,
   "metadata": {},
   "outputs": [
    {
     "data": {
      "text/html": [
       "<div>\n",
       "<style scoped>\n",
       "    .dataframe tbody tr th:only-of-type {\n",
       "        vertical-align: middle;\n",
       "    }\n",
       "\n",
       "    .dataframe tbody tr th {\n",
       "        vertical-align: top;\n",
       "    }\n",
       "\n",
       "    .dataframe thead th {\n",
       "        text-align: right;\n",
       "    }\n",
       "</style>\n",
       "<table border=\"1\" class=\"dataframe\">\n",
       "  <thead>\n",
       "    <tr style=\"text-align: right;\">\n",
       "      <th></th>\n",
       "      <th>x</th>\n",
       "      <th>y</th>\n",
       "      <th>time</th>\n",
       "      <th>bird</th>\n",
       "      <th>type</th>\n",
       "    </tr>\n",
       "  </thead>\n",
       "  <tbody>\n",
       "    <tr>\n",
       "      <th>0</th>\n",
       "      <td>25.0</td>\n",
       "      <td>26.0</td>\n",
       "      <td>1</td>\n",
       "      <td>1</td>\n",
       "      <td>communicators</td>\n",
       "    </tr>\n",
       "    <tr>\n",
       "      <th>1</th>\n",
       "      <td>26.0</td>\n",
       "      <td>24.0</td>\n",
       "      <td>2</td>\n",
       "      <td>1</td>\n",
       "      <td>communicators</td>\n",
       "    </tr>\n",
       "    <tr>\n",
       "      <th>2</th>\n",
       "      <td>24.0</td>\n",
       "      <td>26.0</td>\n",
       "      <td>3</td>\n",
       "      <td>1</td>\n",
       "      <td>communicators</td>\n",
       "    </tr>\n",
       "    <tr>\n",
       "      <th>3</th>\n",
       "      <td>27.0</td>\n",
       "      <td>26.0</td>\n",
       "      <td>4</td>\n",
       "      <td>1</td>\n",
       "      <td>communicators</td>\n",
       "    </tr>\n",
       "    <tr>\n",
       "      <th>4</th>\n",
       "      <td>25.0</td>\n",
       "      <td>28.0</td>\n",
       "      <td>5</td>\n",
       "      <td>1</td>\n",
       "      <td>communicators</td>\n",
       "    </tr>\n",
       "    <tr>\n",
       "      <th>5</th>\n",
       "      <td>26.0</td>\n",
       "      <td>28.0</td>\n",
       "      <td>6</td>\n",
       "      <td>1</td>\n",
       "      <td>communicators</td>\n",
       "    </tr>\n",
       "    <tr>\n",
       "      <th>6</th>\n",
       "      <td>28.0</td>\n",
       "      <td>28.0</td>\n",
       "      <td>7</td>\n",
       "      <td>1</td>\n",
       "      <td>communicators</td>\n",
       "    </tr>\n",
       "    <tr>\n",
       "      <th>7</th>\n",
       "      <td>28.0</td>\n",
       "      <td>25.0</td>\n",
       "      <td>8</td>\n",
       "      <td>1</td>\n",
       "      <td>communicators</td>\n",
       "    </tr>\n",
       "    <tr>\n",
       "      <th>8</th>\n",
       "      <td>29.0</td>\n",
       "      <td>26.0</td>\n",
       "      <td>9</td>\n",
       "      <td>1</td>\n",
       "      <td>communicators</td>\n",
       "    </tr>\n",
       "    <tr>\n",
       "      <th>9</th>\n",
       "      <td>26.0</td>\n",
       "      <td>26.0</td>\n",
       "      <td>10</td>\n",
       "      <td>1</td>\n",
       "      <td>communicators</td>\n",
       "    </tr>\n",
       "    <tr>\n",
       "      <th>10</th>\n",
       "      <td>26.0</td>\n",
       "      <td>25.0</td>\n",
       "      <td>11</td>\n",
       "      <td>1</td>\n",
       "      <td>communicators</td>\n",
       "    </tr>\n",
       "    <tr>\n",
       "      <th>11</th>\n",
       "      <td>28.0</td>\n",
       "      <td>23.0</td>\n",
       "      <td>12</td>\n",
       "      <td>1</td>\n",
       "      <td>communicators</td>\n",
       "    </tr>\n",
       "    <tr>\n",
       "      <th>12</th>\n",
       "      <td>28.0</td>\n",
       "      <td>26.0</td>\n",
       "      <td>13</td>\n",
       "      <td>1</td>\n",
       "      <td>communicators</td>\n",
       "    </tr>\n",
       "    <tr>\n",
       "      <th>13</th>\n",
       "      <td>29.0</td>\n",
       "      <td>26.0</td>\n",
       "      <td>14</td>\n",
       "      <td>1</td>\n",
       "      <td>communicators</td>\n",
       "    </tr>\n",
       "    <tr>\n",
       "      <th>14</th>\n",
       "      <td>28.0</td>\n",
       "      <td>25.0</td>\n",
       "      <td>15</td>\n",
       "      <td>1</td>\n",
       "      <td>communicators</td>\n",
       "    </tr>\n",
       "    <tr>\n",
       "      <th>15</th>\n",
       "      <td>28.0</td>\n",
       "      <td>22.0</td>\n",
       "      <td>16</td>\n",
       "      <td>1</td>\n",
       "      <td>communicators</td>\n",
       "    </tr>\n",
       "    <tr>\n",
       "      <th>16</th>\n",
       "      <td>29.0</td>\n",
       "      <td>22.0</td>\n",
       "      <td>17</td>\n",
       "      <td>1</td>\n",
       "      <td>communicators</td>\n",
       "    </tr>\n",
       "    <tr>\n",
       "      <th>17</th>\n",
       "      <td>27.0</td>\n",
       "      <td>21.0</td>\n",
       "      <td>18</td>\n",
       "      <td>1</td>\n",
       "      <td>communicators</td>\n",
       "    </tr>\n",
       "    <tr>\n",
       "      <th>18</th>\n",
       "      <td>27.0</td>\n",
       "      <td>20.0</td>\n",
       "      <td>19</td>\n",
       "      <td>1</td>\n",
       "      <td>communicators</td>\n",
       "    </tr>\n",
       "    <tr>\n",
       "      <th>19</th>\n",
       "      <td>0.0</td>\n",
       "      <td>0.0</td>\n",
       "      <td>20</td>\n",
       "      <td>1</td>\n",
       "      <td>communicators</td>\n",
       "    </tr>\n",
       "  </tbody>\n",
       "</table>\n",
       "</div>"
      ],
      "text/plain": [
       "       x     y  time  bird           type\n",
       "0   25.0  26.0     1     1  communicators\n",
       "1   26.0  24.0     2     1  communicators\n",
       "2   24.0  26.0     3     1  communicators\n",
       "3   27.0  26.0     4     1  communicators\n",
       "4   25.0  28.0     5     1  communicators\n",
       "5   26.0  28.0     6     1  communicators\n",
       "6   28.0  28.0     7     1  communicators\n",
       "7   28.0  25.0     8     1  communicators\n",
       "8   29.0  26.0     9     1  communicators\n",
       "9   26.0  26.0    10     1  communicators\n",
       "10  26.0  25.0    11     1  communicators\n",
       "11  28.0  23.0    12     1  communicators\n",
       "12  28.0  26.0    13     1  communicators\n",
       "13  29.0  26.0    14     1  communicators\n",
       "14  28.0  25.0    15     1  communicators\n",
       "15  28.0  22.0    16     1  communicators\n",
       "16  29.0  22.0    17     1  communicators\n",
       "17  27.0  21.0    18     1  communicators\n",
       "18  27.0  20.0    19     1  communicators\n",
       "19   0.0   0.0    20     1  communicators"
      ]
     },
     "metadata": {},
     "output_type": "display_data"
    },
    {
     "name": "stdout",
     "output_type": "stream",
     "text": [
      "[-1.  0.]\n"
     ]
    },
    {
     "data": {
      "text/html": [
       "<div>\n",
       "<style scoped>\n",
       "    .dataframe tbody tr th:only-of-type {\n",
       "        vertical-align: middle;\n",
       "    }\n",
       "\n",
       "    .dataframe tbody tr th {\n",
       "        vertical-align: top;\n",
       "    }\n",
       "\n",
       "    .dataframe thead th {\n",
       "        text-align: right;\n",
       "    }\n",
       "</style>\n",
       "<table border=\"1\" class=\"dataframe\">\n",
       "  <thead>\n",
       "    <tr style=\"text-align: right;\">\n",
       "      <th></th>\n",
       "      <th>x</th>\n",
       "      <th>y</th>\n",
       "      <th>time</th>\n",
       "      <th>bird</th>\n",
       "      <th>type</th>\n",
       "    </tr>\n",
       "  </thead>\n",
       "  <tbody>\n",
       "    <tr>\n",
       "      <th>0</th>\n",
       "      <td>18.0</td>\n",
       "      <td>8.0</td>\n",
       "      <td>1</td>\n",
       "      <td>2</td>\n",
       "      <td>communicators</td>\n",
       "    </tr>\n",
       "    <tr>\n",
       "      <th>1</th>\n",
       "      <td>19.0</td>\n",
       "      <td>6.0</td>\n",
       "      <td>2</td>\n",
       "      <td>2</td>\n",
       "      <td>communicators</td>\n",
       "    </tr>\n",
       "    <tr>\n",
       "      <th>2</th>\n",
       "      <td>21.0</td>\n",
       "      <td>8.0</td>\n",
       "      <td>3</td>\n",
       "      <td>2</td>\n",
       "      <td>communicators</td>\n",
       "    </tr>\n",
       "    <tr>\n",
       "      <th>3</th>\n",
       "      <td>18.0</td>\n",
       "      <td>8.0</td>\n",
       "      <td>4</td>\n",
       "      <td>2</td>\n",
       "      <td>communicators</td>\n",
       "    </tr>\n",
       "    <tr>\n",
       "      <th>4</th>\n",
       "      <td>17.0</td>\n",
       "      <td>10.0</td>\n",
       "      <td>5</td>\n",
       "      <td>2</td>\n",
       "      <td>communicators</td>\n",
       "    </tr>\n",
       "    <tr>\n",
       "      <th>5</th>\n",
       "      <td>16.0</td>\n",
       "      <td>8.0</td>\n",
       "      <td>6</td>\n",
       "      <td>2</td>\n",
       "      <td>communicators</td>\n",
       "    </tr>\n",
       "    <tr>\n",
       "      <th>6</th>\n",
       "      <td>13.0</td>\n",
       "      <td>8.0</td>\n",
       "      <td>7</td>\n",
       "      <td>2</td>\n",
       "      <td>communicators</td>\n",
       "    </tr>\n",
       "    <tr>\n",
       "      <th>7</th>\n",
       "      <td>12.0</td>\n",
       "      <td>8.0</td>\n",
       "      <td>8</td>\n",
       "      <td>2</td>\n",
       "      <td>communicators</td>\n",
       "    </tr>\n",
       "    <tr>\n",
       "      <th>8</th>\n",
       "      <td>10.0</td>\n",
       "      <td>8.0</td>\n",
       "      <td>9</td>\n",
       "      <td>2</td>\n",
       "      <td>communicators</td>\n",
       "    </tr>\n",
       "    <tr>\n",
       "      <th>9</th>\n",
       "      <td>12.0</td>\n",
       "      <td>10.0</td>\n",
       "      <td>10</td>\n",
       "      <td>2</td>\n",
       "      <td>communicators</td>\n",
       "    </tr>\n",
       "    <tr>\n",
       "      <th>10</th>\n",
       "      <td>11.0</td>\n",
       "      <td>12.0</td>\n",
       "      <td>11</td>\n",
       "      <td>2</td>\n",
       "      <td>communicators</td>\n",
       "    </tr>\n",
       "    <tr>\n",
       "      <th>11</th>\n",
       "      <td>11.0</td>\n",
       "      <td>15.0</td>\n",
       "      <td>12</td>\n",
       "      <td>2</td>\n",
       "      <td>communicators</td>\n",
       "    </tr>\n",
       "    <tr>\n",
       "      <th>12</th>\n",
       "      <td>13.0</td>\n",
       "      <td>15.0</td>\n",
       "      <td>13</td>\n",
       "      <td>2</td>\n",
       "      <td>communicators</td>\n",
       "    </tr>\n",
       "    <tr>\n",
       "      <th>13</th>\n",
       "      <td>12.0</td>\n",
       "      <td>14.0</td>\n",
       "      <td>14</td>\n",
       "      <td>2</td>\n",
       "      <td>communicators</td>\n",
       "    </tr>\n",
       "    <tr>\n",
       "      <th>14</th>\n",
       "      <td>12.0</td>\n",
       "      <td>17.0</td>\n",
       "      <td>15</td>\n",
       "      <td>2</td>\n",
       "      <td>communicators</td>\n",
       "    </tr>\n",
       "    <tr>\n",
       "      <th>15</th>\n",
       "      <td>13.0</td>\n",
       "      <td>16.0</td>\n",
       "      <td>16</td>\n",
       "      <td>2</td>\n",
       "      <td>communicators</td>\n",
       "    </tr>\n",
       "    <tr>\n",
       "      <th>16</th>\n",
       "      <td>13.0</td>\n",
       "      <td>14.0</td>\n",
       "      <td>17</td>\n",
       "      <td>2</td>\n",
       "      <td>communicators</td>\n",
       "    </tr>\n",
       "    <tr>\n",
       "      <th>17</th>\n",
       "      <td>16.0</td>\n",
       "      <td>14.0</td>\n",
       "      <td>18</td>\n",
       "      <td>2</td>\n",
       "      <td>communicators</td>\n",
       "    </tr>\n",
       "    <tr>\n",
       "      <th>18</th>\n",
       "      <td>14.0</td>\n",
       "      <td>14.0</td>\n",
       "      <td>19</td>\n",
       "      <td>2</td>\n",
       "      <td>communicators</td>\n",
       "    </tr>\n",
       "    <tr>\n",
       "      <th>19</th>\n",
       "      <td>0.0</td>\n",
       "      <td>0.0</td>\n",
       "      <td>20</td>\n",
       "      <td>2</td>\n",
       "      <td>communicators</td>\n",
       "    </tr>\n",
       "  </tbody>\n",
       "</table>\n",
       "</div>"
      ],
      "text/plain": [
       "       x     y  time  bird           type\n",
       "0   18.0   8.0     1     2  communicators\n",
       "1   19.0   6.0     2     2  communicators\n",
       "2   21.0   8.0     3     2  communicators\n",
       "3   18.0   8.0     4     2  communicators\n",
       "4   17.0  10.0     5     2  communicators\n",
       "5   16.0   8.0     6     2  communicators\n",
       "6   13.0   8.0     7     2  communicators\n",
       "7   12.0   8.0     8     2  communicators\n",
       "8   10.0   8.0     9     2  communicators\n",
       "9   12.0  10.0    10     2  communicators\n",
       "10  11.0  12.0    11     2  communicators\n",
       "11  11.0  15.0    12     2  communicators\n",
       "12  13.0  15.0    13     2  communicators\n",
       "13  12.0  14.0    14     2  communicators\n",
       "14  12.0  17.0    15     2  communicators\n",
       "15  13.0  16.0    16     2  communicators\n",
       "16  13.0  14.0    17     2  communicators\n",
       "17  16.0  14.0    18     2  communicators\n",
       "18  14.0  14.0    19     2  communicators\n",
       "19   0.0   0.0    20     2  communicators"
      ]
     },
     "metadata": {},
     "output_type": "display_data"
    },
    {
     "name": "stdout",
     "output_type": "stream",
     "text": [
      "[-1. -1.]\n",
      "Num birds failed to find food = 2\n"
     ]
    }
   ],
   "source": [
    "\n",
    "time_to_first_allbirds = np.zeros(N_agents)\n",
    "# print(time_to_first_allbirds.shape)\n",
    "\n",
    "for bird_id in range(1, N_agents + 1):\n",
    "    # bird_id = 2\n",
    "    singlebirdDF = sim.all_birdsDF.loc[sim.all_birdsDF['bird'] == bird_id] \n",
    "    display(singlebirdDF)\n",
    "    time_to_first_allbirds[bird_id - 1] = success_metrics.compute_time_to_first_reward(singlebirdDF, sim.all_rewardsDF, N_frames)\n",
    "\n",
    "    print(time_to_first_allbirds)\n",
    "\n",
    "num_birds_failed = np.sum(time_to_first_allbirds < 0)\n",
    "print('Num birds failed to find food = ' + str(num_birds_failed))\n"
   ]
  },
  {
   "cell_type": "code",
   "execution_count": null,
   "metadata": {},
   "outputs": [],
   "source": []
  }
 ],
 "metadata": {
  "kernelspec": {
   "display_name": "base",
   "language": "python",
   "name": "python3"
  },
  "language_info": {
   "codemirror_mode": {
    "name": "ipython",
    "version": 3
   },
   "file_extension": ".py",
   "mimetype": "text/x-python",
   "name": "python",
   "nbconvert_exporter": "python",
   "pygments_lexer": "ipython3",
   "version": "3.9.12"
  },
  "orig_nbformat": 4
 },
 "nbformat": 4,
 "nbformat_minor": 2
}
