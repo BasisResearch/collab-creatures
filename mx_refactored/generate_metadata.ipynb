{
 "cells": [
  {
   "cell_type": "code",
   "execution_count": 200,
   "metadata": {},
   "outputs": [
    {
     "data": {
      "text/plain": [
       "<module 'success_metrics' from 'c:\\\\Users\\\\admin\\\\Dropbox\\\\Code\\\\Basis-code\\\\new-collaborative-intelligence\\\\mx_refactored\\\\success_metrics.py'>"
      ]
     },
     "execution_count": 200,
     "metadata": {},
     "output_type": "execute_result"
    }
   ],
   "source": [
    "import numpy as np\n",
    "from itertools import product\n",
    "import pandas as pd\n",
    "import os\n",
    "import foraging_toolkit as ft\n",
    "import environments\n",
    "import simulation\n",
    "import simulation_old \n",
    "import success_metrics\n",
    "import imp\n",
    "imp.reload(ft)\n",
    "imp.reload(simulation)\n",
    "imp.reload(simulation_old)\n",
    "imp.reload(environments)\n",
    "imp.reload(success_metrics)\n"
   ]
  },
  {
   "cell_type": "markdown",
   "metadata": {},
   "source": [
    "Parameters of the forward model. Specify the parameter values for all the cases you are interested in. "
   ]
  },
  {
   "cell_type": "code",
   "execution_count": 201,
   "metadata": {},
   "outputs": [
    {
     "name": "stdout",
     "output_type": "stream",
     "text": [
      "4\n",
      "param_list [(0.0, 5, 1), (0.0, 5, 4), (0.5, 5, 1), (0.5, 5, 4)]\n"
     ]
    }
   ],
   "source": [
    "# Parameters of interest in our communication model \n",
    "c_trust = np.array([0, 0.5])\n",
    "sight_radius = [5]\n",
    "reward_patch_dim = [1, 4]\n",
    "\n",
    "# List of all possible combination of parameter values \n",
    "param_list = [i for i in product(c_trust, sight_radius, reward_patch_dim)]\n",
    "\n",
    "print(len(param_list))\n",
    "print('param_list', param_list)\n",
    "\n",
    "\n"
   ]
  },
  {
   "cell_type": "markdown",
   "metadata": {},
   "source": [
    "Generate a dataframe containing all possible combinations of the parameter values specified above."
   ]
  },
  {
   "cell_type": "code",
   "execution_count": 202,
   "metadata": {},
   "outputs": [
    {
     "data": {
      "text/html": [
       "<div>\n",
       "<style scoped>\n",
       "    .dataframe tbody tr th:only-of-type {\n",
       "        vertical-align: middle;\n",
       "    }\n",
       "\n",
       "    .dataframe tbody tr th {\n",
       "        vertical-align: top;\n",
       "    }\n",
       "\n",
       "    .dataframe thead th {\n",
       "        text-align: right;\n",
       "    }\n",
       "</style>\n",
       "<table border=\"1\" class=\"dataframe\">\n",
       "  <thead>\n",
       "    <tr style=\"text-align: right;\">\n",
       "      <th></th>\n",
       "      <th>c_trust</th>\n",
       "      <th>sight_radius</th>\n",
       "      <th>reward_patch_dim</th>\n",
       "      <th>sim index</th>\n",
       "    </tr>\n",
       "  </thead>\n",
       "  <tbody>\n",
       "    <tr>\n",
       "      <th>0</th>\n",
       "      <td>0.0</td>\n",
       "      <td>5</td>\n",
       "      <td>1</td>\n",
       "      <td>0</td>\n",
       "    </tr>\n",
       "    <tr>\n",
       "      <th>1</th>\n",
       "      <td>0.0</td>\n",
       "      <td>5</td>\n",
       "      <td>4</td>\n",
       "      <td>1</td>\n",
       "    </tr>\n",
       "    <tr>\n",
       "      <th>2</th>\n",
       "      <td>0.5</td>\n",
       "      <td>5</td>\n",
       "      <td>1</td>\n",
       "      <td>2</td>\n",
       "    </tr>\n",
       "    <tr>\n",
       "      <th>3</th>\n",
       "      <td>0.5</td>\n",
       "      <td>5</td>\n",
       "      <td>4</td>\n",
       "      <td>3</td>\n",
       "    </tr>\n",
       "  </tbody>\n",
       "</table>\n",
       "</div>"
      ],
      "text/plain": [
       "   c_trust  sight_radius  reward_patch_dim  sim index\n",
       "0      0.0             5                 1          0\n",
       "1      0.0             5                 4          1\n",
       "2      0.5             5                 1          2\n",
       "3      0.5             5                 4          3"
      ]
     },
     "metadata": {},
     "output_type": "display_data"
    }
   ],
   "source": [
    "#each row of both dataframes corresponds to one experiment.  \n",
    "#columns are parameters \n",
    "metadataDF = pd.DataFrame(param_list)\n",
    "\n",
    "# success_metricsDF = pd.DataFrame(results)\n",
    "# allresultsDF = pd.concat([metadataDF, success_metricsDF], axis='columns') # concatenate metadata and results \n",
    "metadataDF.columns = [\"c_trust\", \"sight_radius\", \"reward_patch_dim\"] \n",
    "metadataDF['sim index'] = np.arange(len(metadataDF)).astype(int)\n",
    "metadataDF.head()\n",
    "display(metadataDF)"
   ]
  },
  {
   "cell_type": "code",
   "execution_count": 203,
   "metadata": {},
   "outputs": [
    {
     "name": "stdout",
     "output_type": "stream",
     "text": [
      "   c_trust  sight_radius  reward_patch_dim  sim index\n",
      "1      0.0             5                 4          1\n",
      "0.0\n",
      "5\n",
      "4\n"
     ]
    }
   ],
   "source": [
    "# select a specific row of the data frame\n",
    "ind = 1\n",
    "row = metadataDF.iloc[[ind]]\n",
    "print(row)\n",
    "print(row['c_trust'].iloc[0])\n",
    "print(row['sight_radius'].iloc[0])\n",
    "print(row['reward_patch_dim'].iloc[0])"
   ]
  },
  {
   "cell_type": "code",
   "execution_count": 204,
   "metadata": {},
   "outputs": [
    {
     "name": "stdout",
     "output_type": "stream",
     "text": [
      "(5,)\n"
     ]
    }
   ],
   "source": [
    "test_arr = np.zeros((5))\n",
    "print(test_arr.shape)"
   ]
  },
  {
   "cell_type": "markdown",
   "metadata": {},
   "source": [
    "*Part 2*\n",
    "Test run one of the simulations from metadata (one row)"
   ]
  },
  {
   "cell_type": "code",
   "execution_count": 205,
   "metadata": {},
   "outputs": [
    {
     "name": "stdout",
     "output_type": "stream",
     "text": [
      "Directory sim0_run0 was created.\n",
      "Directory sim0_run1 was created.\n",
      "Directory sim0_run2 was created.\n",
      "Directory sim0_run3 was created.\n",
      "Directory sim0_run4 was created.\n",
      "Directory sim0_run5 was created.\n",
      "Directory sim0_run6 was created.\n",
      "Directory sim0_run7 was created.\n",
      "Directory sim0_run8 was created.\n",
      "Directory sim0_run9 was created.\n",
      "Directory sim0_run10 was created.\n",
      "Directory sim0_run11 was created.\n",
      "Directory sim0_run12 was created.\n",
      "Directory sim0_run13 was created.\n",
      "Directory sim0_run14 was created.\n",
      "Directory sim0_run15 was created.\n",
      "Directory sim0_run16 was created.\n",
      "Directory sim0_run17 was created.\n",
      "Directory sim0_run18 was created.\n",
      "Directory sim0_run19 was created.\n",
      "Directory sim0_run20 was created.\n",
      "Directory sim0_run21 was created.\n",
      "Directory sim0_run22 was created.\n",
      "Directory sim0_run23 was created.\n",
      "Directory sim0_run24 was created.\n",
      "Directory sim0_run25 was created.\n",
      "Directory sim0_run26 was created.\n",
      "Directory sim0_run27 was created.\n",
      "Directory sim0_run28 was created.\n",
      "Directory sim0_run29 was created.\n",
      "Directory sim0_run30 was created.\n",
      "Directory sim0_run31 was created.\n",
      "Directory sim0_run32 was created.\n",
      "Directory sim0_run33 was created.\n",
      "Directory sim0_run34 was created.\n",
      "Directory sim0_run35 was created.\n",
      "Directory sim0_run36 was created.\n",
      "Directory sim0_run37 was created.\n",
      "Directory sim0_run38 was created.\n",
      "Directory sim0_run39 was created.\n",
      "Directory sim0_run40 was created.\n",
      "Directory sim0_run41 was created.\n",
      "Directory sim0_run42 was created.\n",
      "Directory sim0_run43 was created.\n",
      "Directory sim0_run44 was created.\n",
      "Directory sim0_run45 was created.\n",
      "Directory sim0_run46 was created.\n",
      "Directory sim0_run47 was created.\n",
      "Directory sim0_run48 was created.\n",
      "Directory sim0_run49 was created.\n",
      "Directory sim0_run50 was created.\n",
      "Directory sim0_run51 was created.\n",
      "Directory sim0_run52 was created.\n",
      "Directory sim0_run53 was created.\n",
      "Directory sim0_run54 was created.\n",
      "Directory sim0_run55 was created.\n",
      "Directory sim0_run56 was created.\n",
      "Directory sim0_run57 was created.\n",
      "Directory sim0_run58 was created.\n",
      "Directory sim0_run59 was created.\n",
      "Directory sim0_run60 was created.\n",
      "Directory sim0_run61 was created.\n",
      "Directory sim0_run62 was created.\n",
      "Directory sim0_run63 was created.\n",
      "Directory sim0_run64 was created.\n",
      "Directory sim0_run65 was created.\n",
      "Directory sim0_run66 was created.\n",
      "Directory sim0_run67 was created.\n",
      "Directory sim0_run68 was created.\n",
      "Directory sim0_run69 was created.\n",
      "Directory sim0_run70 was created.\n",
      "Directory sim0_run71 was created.\n",
      "Directory sim0_run72 was created.\n",
      "Directory sim0_run73 was created.\n",
      "Directory sim0_run74 was created.\n",
      "Directory sim0_run75 was created.\n",
      "Directory sim0_run76 was created.\n",
      "Directory sim0_run77 was created.\n",
      "Directory sim0_run78 was created.\n",
      "Directory sim0_run79 was created.\n",
      "Directory sim0_run80 was created.\n",
      "Directory sim0_run81 was created.\n",
      "Directory sim0_run82 was created.\n",
      "Directory sim0_run83 was created.\n",
      "Directory sim0_run84 was created.\n",
      "Directory sim0_run85 was created.\n",
      "Directory sim0_run86 was created.\n",
      "Directory sim0_run87 was created.\n",
      "Directory sim0_run88 was created.\n",
      "Directory sim0_run89 was created.\n",
      "Directory sim0_run90 was created.\n",
      "Directory sim0_run91 was created.\n",
      "Directory sim0_run92 was created.\n",
      "Directory sim0_run93 was created.\n",
      "Directory sim0_run94 was created.\n",
      "Directory sim0_run95 was created.\n",
      "Directory sim0_run96 was created.\n",
      "Directory sim0_run97 was created.\n",
      "Directory sim0_run98 was created.\n",
      "Directory sim0_run99 was created.\n",
      "Directory sim1_run0 was created.\n",
      "Directory sim1_run1 was created.\n",
      "Directory sim1_run2 was created.\n",
      "Directory sim1_run3 was created.\n",
      "Directory sim1_run4 was created.\n",
      "Directory sim1_run5 was created.\n",
      "Directory sim1_run6 was created.\n",
      "Directory sim1_run7 was created.\n",
      "Directory sim1_run8 was created.\n",
      "Directory sim1_run9 was created.\n",
      "Directory sim1_run10 was created.\n",
      "Directory sim1_run11 was created.\n",
      "Directory sim1_run12 was created.\n",
      "Directory sim1_run13 was created.\n",
      "Directory sim1_run14 was created.\n",
      "Directory sim1_run15 was created.\n",
      "Directory sim1_run16 was created.\n",
      "Directory sim1_run17 was created.\n",
      "Directory sim1_run18 was created.\n",
      "Directory sim1_run19 was created.\n",
      "Directory sim1_run20 was created.\n",
      "Directory sim1_run21 was created.\n",
      "Directory sim1_run22 was created.\n",
      "Directory sim1_run23 was created.\n",
      "Directory sim1_run24 was created.\n",
      "Directory sim1_run25 was created.\n",
      "Directory sim1_run26 was created.\n",
      "Directory sim1_run27 was created.\n",
      "Directory sim1_run28 was created.\n",
      "Directory sim1_run29 was created.\n",
      "Directory sim1_run30 was created.\n",
      "Directory sim1_run31 was created.\n",
      "Directory sim1_run32 was created.\n",
      "Directory sim1_run33 was created.\n",
      "Directory sim1_run34 was created.\n",
      "Directory sim1_run35 was created.\n",
      "Directory sim1_run36 was created.\n",
      "Directory sim1_run37 was created.\n",
      "Directory sim1_run38 was created.\n",
      "Directory sim1_run39 was created.\n",
      "Directory sim1_run40 was created.\n",
      "Directory sim1_run41 was created.\n",
      "Directory sim1_run42 was created.\n",
      "Directory sim1_run43 was created.\n",
      "Directory sim1_run44 was created.\n",
      "Directory sim1_run45 was created.\n",
      "Directory sim1_run46 was created.\n",
      "Directory sim1_run47 was created.\n",
      "Directory sim1_run48 was created.\n",
      "Directory sim1_run49 was created.\n",
      "Directory sim1_run50 was created.\n",
      "Directory sim1_run51 was created.\n",
      "Directory sim1_run52 was created.\n",
      "Directory sim1_run53 was created.\n",
      "Directory sim1_run54 was created.\n",
      "Directory sim1_run55 was created.\n",
      "Directory sim1_run56 was created.\n",
      "Directory sim1_run57 was created.\n",
      "Directory sim1_run58 was created.\n",
      "Directory sim1_run59 was created.\n",
      "Directory sim1_run60 was created.\n",
      "Directory sim1_run61 was created.\n",
      "Directory sim1_run62 was created.\n",
      "Directory sim1_run63 was created.\n",
      "Directory sim1_run64 was created.\n",
      "Directory sim1_run65 was created.\n",
      "Directory sim1_run66 was created.\n",
      "Directory sim1_run67 was created.\n",
      "Directory sim1_run68 was created.\n",
      "Directory sim1_run69 was created.\n",
      "Directory sim1_run70 was created.\n",
      "Directory sim1_run71 was created.\n",
      "Directory sim1_run72 was created.\n",
      "Directory sim1_run73 was created.\n",
      "Directory sim1_run74 was created.\n",
      "Directory sim1_run75 was created.\n",
      "Directory sim1_run76 was created.\n",
      "Directory sim1_run77 was created.\n",
      "Directory sim1_run78 was created.\n",
      "Directory sim1_run79 was created.\n",
      "Directory sim1_run80 was created.\n",
      "Directory sim1_run81 was created.\n",
      "Directory sim1_run82 was created.\n",
      "Directory sim1_run83 was created.\n",
      "Directory sim1_run84 was created.\n",
      "Directory sim1_run85 was created.\n",
      "Directory sim1_run86 was created.\n",
      "Directory sim1_run87 was created.\n",
      "Directory sim1_run88 was created.\n",
      "Directory sim1_run89 was created.\n",
      "Directory sim1_run90 was created.\n",
      "Directory sim1_run91 was created.\n",
      "Directory sim1_run92 was created.\n",
      "Directory sim1_run93 was created.\n",
      "Directory sim1_run94 was created.\n",
      "Directory sim1_run95 was created.\n",
      "Directory sim1_run96 was created.\n",
      "Directory sim1_run97 was created.\n",
      "Directory sim1_run98 was created.\n",
      "Directory sim1_run99 was created.\n",
      "Directory sim2_run0 was created.\n",
      "Directory sim2_run1 was created.\n",
      "Directory sim2_run2 was created.\n",
      "Directory sim2_run3 was created.\n",
      "Directory sim2_run4 was created.\n",
      "Directory sim2_run5 was created.\n",
      "Directory sim2_run6 was created.\n",
      "Directory sim2_run7 was created.\n",
      "Directory sim2_run8 was created.\n",
      "Directory sim2_run9 was created.\n",
      "Directory sim2_run10 was created.\n",
      "Directory sim2_run11 was created.\n",
      "Directory sim2_run12 was created.\n",
      "Directory sim2_run13 was created.\n",
      "Directory sim2_run14 was created.\n",
      "Directory sim2_run15 was created.\n",
      "Directory sim2_run16 was created.\n",
      "Directory sim2_run17 was created.\n",
      "Directory sim2_run18 was created.\n",
      "Directory sim2_run19 was created.\n",
      "Directory sim2_run20 was created.\n",
      "Directory sim2_run21 was created.\n",
      "Directory sim2_run22 was created.\n",
      "Directory sim2_run23 was created.\n",
      "Directory sim2_run24 was created.\n",
      "Directory sim2_run25 was created.\n",
      "Directory sim2_run26 was created.\n",
      "Directory sim2_run27 was created.\n",
      "Directory sim2_run28 was created.\n",
      "Directory sim2_run29 was created.\n",
      "Directory sim2_run30 was created.\n",
      "Directory sim2_run31 was created.\n",
      "Directory sim2_run32 was created.\n",
      "Directory sim2_run33 was created.\n",
      "Directory sim2_run34 was created.\n",
      "Directory sim2_run35 was created.\n",
      "Directory sim2_run36 was created.\n",
      "Directory sim2_run37 was created.\n",
      "Directory sim2_run38 was created.\n",
      "Directory sim2_run39 was created.\n",
      "Directory sim2_run40 was created.\n",
      "Directory sim2_run41 was created.\n",
      "Directory sim2_run42 was created.\n",
      "Directory sim2_run43 was created.\n",
      "Directory sim2_run44 was created.\n",
      "Directory sim2_run45 was created.\n",
      "Directory sim2_run46 was created.\n",
      "Directory sim2_run47 was created.\n",
      "Directory sim2_run48 was created.\n",
      "Directory sim2_run49 was created.\n",
      "Directory sim2_run50 was created.\n",
      "Directory sim2_run51 was created.\n",
      "Directory sim2_run52 was created.\n",
      "Directory sim2_run53 was created.\n",
      "Directory sim2_run54 was created.\n",
      "Directory sim2_run55 was created.\n",
      "Directory sim2_run56 was created.\n",
      "Directory sim2_run57 was created.\n",
      "Directory sim2_run58 was created.\n",
      "Directory sim2_run59 was created.\n",
      "Directory sim2_run60 was created.\n",
      "Directory sim2_run61 was created.\n",
      "Directory sim2_run62 was created.\n",
      "Directory sim2_run63 was created.\n",
      "Directory sim2_run64 was created.\n",
      "Directory sim2_run65 was created.\n",
      "Directory sim2_run66 was created.\n",
      "Directory sim2_run67 was created.\n",
      "Directory sim2_run68 was created.\n",
      "Directory sim2_run69 was created.\n",
      "Directory sim2_run70 was created.\n",
      "Directory sim2_run71 was created.\n",
      "Directory sim2_run72 was created.\n",
      "Directory sim2_run73 was created.\n",
      "Directory sim2_run74 was created.\n",
      "Directory sim2_run75 was created.\n",
      "Directory sim2_run76 was created.\n",
      "Directory sim2_run77 was created.\n",
      "Directory sim2_run78 was created.\n",
      "Directory sim2_run79 was created.\n",
      "Directory sim2_run80 was created.\n",
      "Directory sim2_run81 was created.\n",
      "Directory sim2_run82 was created.\n",
      "Directory sim2_run83 was created.\n",
      "Directory sim2_run84 was created.\n",
      "Directory sim2_run85 was created.\n",
      "Directory sim2_run86 was created.\n",
      "Directory sim2_run87 was created.\n",
      "Directory sim2_run88 was created.\n",
      "Directory sim2_run89 was created.\n",
      "Directory sim2_run90 was created.\n",
      "Directory sim2_run91 was created.\n",
      "Directory sim2_run92 was created.\n",
      "Directory sim2_run93 was created.\n",
      "Directory sim2_run94 was created.\n",
      "Directory sim2_run95 was created.\n",
      "Directory sim2_run96 was created.\n",
      "Directory sim2_run97 was created.\n",
      "Directory sim2_run98 was created.\n",
      "Directory sim2_run99 was created.\n",
      "Directory sim3_run0 was created.\n",
      "Directory sim3_run1 was created.\n",
      "Directory sim3_run2 was created.\n",
      "Directory sim3_run3 was created.\n",
      "Directory sim3_run4 was created.\n",
      "Directory sim3_run5 was created.\n",
      "Directory sim3_run6 was created.\n",
      "Directory sim3_run7 was created.\n",
      "Directory sim3_run8 was created.\n",
      "Directory sim3_run9 was created.\n",
      "Directory sim3_run10 was created.\n",
      "Directory sim3_run11 was created.\n",
      "Directory sim3_run12 was created.\n",
      "Directory sim3_run13 was created.\n",
      "Directory sim3_run14 was created.\n",
      "Directory sim3_run15 was created.\n",
      "Directory sim3_run16 was created.\n",
      "Directory sim3_run17 was created.\n",
      "Directory sim3_run18 was created.\n",
      "Directory sim3_run19 was created.\n",
      "Directory sim3_run20 was created.\n",
      "Directory sim3_run21 was created.\n",
      "Directory sim3_run22 was created.\n",
      "Directory sim3_run23 was created.\n",
      "Directory sim3_run24 was created.\n",
      "Directory sim3_run25 was created.\n",
      "Directory sim3_run26 was created.\n",
      "Directory sim3_run27 was created.\n",
      "Directory sim3_run28 was created.\n",
      "Directory sim3_run29 was created.\n",
      "Directory sim3_run30 was created.\n",
      "Directory sim3_run31 was created.\n",
      "Directory sim3_run32 was created.\n",
      "Directory sim3_run33 was created.\n",
      "Directory sim3_run34 was created.\n",
      "Directory sim3_run35 was created.\n",
      "Directory sim3_run36 was created.\n",
      "Directory sim3_run37 was created.\n",
      "Directory sim3_run38 was created.\n",
      "Directory sim3_run39 was created.\n",
      "Directory sim3_run40 was created.\n",
      "Directory sim3_run41 was created.\n",
      "Directory sim3_run42 was created.\n",
      "Directory sim3_run43 was created.\n",
      "Directory sim3_run44 was created.\n",
      "Directory sim3_run45 was created.\n",
      "Directory sim3_run46 was created.\n",
      "Directory sim3_run47 was created.\n",
      "Directory sim3_run48 was created.\n",
      "Directory sim3_run49 was created.\n",
      "Directory sim3_run50 was created.\n",
      "Directory sim3_run51 was created.\n",
      "Directory sim3_run52 was created.\n",
      "Directory sim3_run53 was created.\n",
      "Directory sim3_run54 was created.\n",
      "Directory sim3_run55 was created.\n",
      "Directory sim3_run56 was created.\n",
      "Directory sim3_run57 was created.\n",
      "Directory sim3_run58 was created.\n",
      "Directory sim3_run59 was created.\n",
      "Directory sim3_run60 was created.\n",
      "Directory sim3_run61 was created.\n",
      "Directory sim3_run62 was created.\n",
      "Directory sim3_run63 was created.\n",
      "Directory sim3_run64 was created.\n",
      "Directory sim3_run65 was created.\n",
      "Directory sim3_run66 was created.\n",
      "Directory sim3_run67 was created.\n",
      "Directory sim3_run68 was created.\n",
      "Directory sim3_run69 was created.\n",
      "Directory sim3_run70 was created.\n",
      "Directory sim3_run71 was created.\n",
      "Directory sim3_run72 was created.\n",
      "Directory sim3_run73 was created.\n",
      "Directory sim3_run74 was created.\n",
      "Directory sim3_run75 was created.\n",
      "Directory sim3_run76 was created.\n",
      "Directory sim3_run77 was created.\n",
      "Directory sim3_run78 was created.\n",
      "Directory sim3_run79 was created.\n",
      "Directory sim3_run80 was created.\n",
      "Directory sim3_run81 was created.\n",
      "Directory sim3_run82 was created.\n",
      "Directory sim3_run83 was created.\n",
      "Directory sim3_run84 was created.\n",
      "Directory sim3_run85 was created.\n",
      "Directory sim3_run86 was created.\n",
      "Directory sim3_run87 was created.\n",
      "Directory sim3_run88 was created.\n",
      "Directory sim3_run89 was created.\n",
      "Directory sim3_run90 was created.\n",
      "Directory sim3_run91 was created.\n",
      "Directory sim3_run92 was created.\n",
      "Directory sim3_run93 was created.\n",
      "Directory sim3_run94 was created.\n",
      "Directory sim3_run95 was created.\n",
      "Directory sim3_run96 was created.\n",
      "Directory sim3_run97 was created.\n",
      "Directory sim3_run98 was created.\n",
      "Directory sim3_run99 was created.\n",
      "4\n",
      "100\n",
      "100\n"
     ]
    },
    {
     "data": {
      "text/html": [
       "<div>\n",
       "<style scoped>\n",
       "    .dataframe tbody tr th:only-of-type {\n",
       "        vertical-align: middle;\n",
       "    }\n",
       "\n",
       "    .dataframe tbody tr th {\n",
       "        vertical-align: top;\n",
       "    }\n",
       "\n",
       "    .dataframe thead th {\n",
       "        text-align: right;\n",
       "    }\n",
       "</style>\n",
       "<table border=\"1\" class=\"dataframe\">\n",
       "  <thead>\n",
       "    <tr style=\"text-align: right;\">\n",
       "      <th></th>\n",
       "      <th>run index</th>\n",
       "      <th>time to first food</th>\n",
       "      <th>num birds failed</th>\n",
       "    </tr>\n",
       "  </thead>\n",
       "  <tbody>\n",
       "    <tr>\n",
       "      <th>0</th>\n",
       "      <td>0</td>\n",
       "      <td>-0.222222</td>\n",
       "      <td>8.0</td>\n",
       "    </tr>\n",
       "    <tr>\n",
       "      <th>1</th>\n",
       "      <td>1</td>\n",
       "      <td>5.333333</td>\n",
       "      <td>3.0</td>\n",
       "    </tr>\n",
       "    <tr>\n",
       "      <th>2</th>\n",
       "      <td>2</td>\n",
       "      <td>0.777778</td>\n",
       "      <td>7.0</td>\n",
       "    </tr>\n",
       "    <tr>\n",
       "      <th>3</th>\n",
       "      <td>3</td>\n",
       "      <td>8.444444</td>\n",
       "      <td>3.0</td>\n",
       "    </tr>\n",
       "    <tr>\n",
       "      <th>4</th>\n",
       "      <td>4</td>\n",
       "      <td>5.444444</td>\n",
       "      <td>2.0</td>\n",
       "    </tr>\n",
       "    <tr>\n",
       "      <th>...</th>\n",
       "      <td>...</td>\n",
       "      <td>...</td>\n",
       "      <td>...</td>\n",
       "    </tr>\n",
       "    <tr>\n",
       "      <th>95</th>\n",
       "      <td>95</td>\n",
       "      <td>4.777778</td>\n",
       "      <td>5.0</td>\n",
       "    </tr>\n",
       "    <tr>\n",
       "      <th>96</th>\n",
       "      <td>96</td>\n",
       "      <td>3.777778</td>\n",
       "      <td>1.0</td>\n",
       "    </tr>\n",
       "    <tr>\n",
       "      <th>97</th>\n",
       "      <td>97</td>\n",
       "      <td>2.555556</td>\n",
       "      <td>6.0</td>\n",
       "    </tr>\n",
       "    <tr>\n",
       "      <th>98</th>\n",
       "      <td>98</td>\n",
       "      <td>5.111111</td>\n",
       "      <td>7.0</td>\n",
       "    </tr>\n",
       "    <tr>\n",
       "      <th>99</th>\n",
       "      <td>99</td>\n",
       "      <td>1.333333</td>\n",
       "      <td>7.0</td>\n",
       "    </tr>\n",
       "  </tbody>\n",
       "</table>\n",
       "<p>100 rows × 3 columns</p>\n",
       "</div>"
      ],
      "text/plain": [
       "    run index  time to first food  num birds failed\n",
       "0           0           -0.222222               8.0\n",
       "1           1            5.333333               3.0\n",
       "2           2            0.777778               7.0\n",
       "3           3            8.444444               3.0\n",
       "4           4            5.444444               2.0\n",
       "..        ...                 ...               ...\n",
       "95         95            4.777778               5.0\n",
       "96         96            3.777778               1.0\n",
       "97         97            2.555556               6.0\n",
       "98         98            5.111111               7.0\n",
       "99         99            1.333333               7.0\n",
       "\n",
       "[100 rows x 3 columns]"
      ]
     },
     "metadata": {},
     "output_type": "display_data"
    },
    {
     "name": "stdout",
     "output_type": "stream",
     "text": [
      "None\n"
     ]
    },
    {
     "data": {
      "text/html": [
       "<div>\n",
       "<style scoped>\n",
       "    .dataframe tbody tr th:only-of-type {\n",
       "        vertical-align: middle;\n",
       "    }\n",
       "\n",
       "    .dataframe tbody tr th {\n",
       "        vertical-align: top;\n",
       "    }\n",
       "\n",
       "    .dataframe thead th {\n",
       "        text-align: right;\n",
       "    }\n",
       "</style>\n",
       "<table border=\"1\" class=\"dataframe\">\n",
       "  <thead>\n",
       "    <tr style=\"text-align: right;\">\n",
       "      <th></th>\n",
       "      <th>run index</th>\n",
       "      <th>time to first food</th>\n",
       "      <th>num birds failed</th>\n",
       "    </tr>\n",
       "  </thead>\n",
       "  <tbody>\n",
       "    <tr>\n",
       "      <th>0</th>\n",
       "      <td>0</td>\n",
       "      <td>2.111111</td>\n",
       "      <td>0.0</td>\n",
       "    </tr>\n",
       "    <tr>\n",
       "      <th>1</th>\n",
       "      <td>1</td>\n",
       "      <td>7.111111</td>\n",
       "      <td>0.0</td>\n",
       "    </tr>\n",
       "    <tr>\n",
       "      <th>2</th>\n",
       "      <td>2</td>\n",
       "      <td>1.333333</td>\n",
       "      <td>0.0</td>\n",
       "    </tr>\n",
       "    <tr>\n",
       "      <th>3</th>\n",
       "      <td>3</td>\n",
       "      <td>1.444444</td>\n",
       "      <td>0.0</td>\n",
       "    </tr>\n",
       "    <tr>\n",
       "      <th>4</th>\n",
       "      <td>4</td>\n",
       "      <td>2.000000</td>\n",
       "      <td>0.0</td>\n",
       "    </tr>\n",
       "    <tr>\n",
       "      <th>...</th>\n",
       "      <td>...</td>\n",
       "      <td>...</td>\n",
       "      <td>...</td>\n",
       "    </tr>\n",
       "    <tr>\n",
       "      <th>95</th>\n",
       "      <td>95</td>\n",
       "      <td>4.777778</td>\n",
       "      <td>5.0</td>\n",
       "    </tr>\n",
       "    <tr>\n",
       "      <th>96</th>\n",
       "      <td>96</td>\n",
       "      <td>3.777778</td>\n",
       "      <td>1.0</td>\n",
       "    </tr>\n",
       "    <tr>\n",
       "      <th>97</th>\n",
       "      <td>97</td>\n",
       "      <td>2.555556</td>\n",
       "      <td>6.0</td>\n",
       "    </tr>\n",
       "    <tr>\n",
       "      <th>98</th>\n",
       "      <td>98</td>\n",
       "      <td>5.111111</td>\n",
       "      <td>7.0</td>\n",
       "    </tr>\n",
       "    <tr>\n",
       "      <th>99</th>\n",
       "      <td>99</td>\n",
       "      <td>1.333333</td>\n",
       "      <td>7.0</td>\n",
       "    </tr>\n",
       "  </tbody>\n",
       "</table>\n",
       "<p>400 rows × 3 columns</p>\n",
       "</div>"
      ],
      "text/plain": [
       "    run index  time to first food  num birds failed\n",
       "0           0            2.111111               0.0\n",
       "1           1            7.111111               0.0\n",
       "2           2            1.333333               0.0\n",
       "3           3            1.444444               0.0\n",
       "4           4            2.000000               0.0\n",
       "..        ...                 ...               ...\n",
       "95         95            4.777778               5.0\n",
       "96         96            3.777778               1.0\n",
       "97         97            2.555556               6.0\n",
       "98         98            5.111111               7.0\n",
       "99         99            1.333333               7.0\n",
       "\n",
       "[400 rows x 3 columns]"
      ]
     },
     "metadata": {},
     "output_type": "display_data"
    },
    {
     "name": "stdout",
     "output_type": "stream",
     "text": [
      "None\n"
     ]
    }
   ],
   "source": [
    "nsims = len(metadataDF)\n",
    "N_frames = 50\n",
    "N_agents = 9\n",
    "N_total_food_units = 16\n",
    "edge_size = 30\n",
    "N_runs = 100\n",
    "# nsims = 2 # TEST\n",
    "\n",
    "# data frame to store all success values across all simulations and runs of each simulation\n",
    "success_measures_allDF = pd.DataFrame() \n",
    "success_sims_list = []\n",
    "\n",
    "home_dir = \"C:\\\\Basis_data\\\\\" # \n",
    "\n",
    "# save metadata to home directory\n",
    "metadataDF.to_csv(home_dir + '\\metadataDF' + '.csv')\n",
    "\n",
    "for si in range(nsims):\n",
    "    \n",
    "    # 1. pull out parameters from row si in the metadata\n",
    "    df_row = metadataDF.iloc[[si]]\n",
    "    c_trust = df_row['c_trust'].iloc[0]\n",
    "    sight_radius = df_row['sight_radius'].iloc[0]\n",
    "    reward_patch_dim = df_row['reward_patch_dim'].iloc[0].astype(int)\n",
    "\n",
    "    # print(df_row)\n",
    "    # print(reward_patch_dim)\n",
    "\n",
    "    mean_times_to_first_reward = np.zeros((N_runs))\n",
    "    num_birds_failed = np.zeros((N_runs))\n",
    "\n",
    "    # Do multiple runs of the simulation and store the results in a results dataframe\n",
    "    for ri in range(N_runs):\n",
    "        # 2. Feed the parameters through the run() function once (later we'll do this many times)\n",
    "        env = environments.Environment(edge_size=edge_size, N_total_food_units=N_total_food_units, patch_dim=reward_patch_dim)\n",
    "        env.add_food_patches() #food_statistics_type=\"drop_food_once\")\n",
    "        # sim = simulation_old.Simulation(env, N_agents=N_agents, N_frames=N_frames)\n",
    "        sim = simulation.SimulateCommunicators(env, N_frames, N_agents, c_trust=c_trust, sight_radius=sight_radius)\n",
    "        sim.run()\n",
    "        # print(sim.all_birdsDF)\n",
    "        # # print(sim.all_rewardsDF) \n",
    "        # # by this point we should have birdlocsDF and rewardlocsDF \n",
    "        \n",
    "\n",
    "        # # # 3. Compute success measures \n",
    "        \n",
    "        time_to_first_allbirds = np.zeros(N_agents)\n",
    "        for bird_id in range(1, N_agents + 1):\n",
    "            singlebirdDF = sim.all_birdsDF.loc[sim.all_birdsDF['bird'] == bird_id]  \n",
    "            time_to_first_allbirds[bird_id - 1] = success_metrics.compute_time_to_first_reward(singlebirdDF, sim.all_rewardsDF, N_frames)\n",
    "            \n",
    "        # these are the success measures\n",
    "        mean_times_to_first_reward[ri] = np.mean(time_to_first_allbirds) # take the average across birds\n",
    "        num_birds_failed[ri] = np.sum(time_to_first_allbirds < 0) # number of birds that failed to reach food\n",
    "        # print(num_birds_failed)\n",
    "        #\n",
    "\n",
    "        # SAVE THE RAW DATA \n",
    "        # make a new folder  \n",
    "        sim_folder = 'sim' + str(si) + '_run' + str(ri)\n",
    "        sim_dir = home_dir + sim_folder\n",
    "        if not os.path.isdir(sim_dir):\n",
    "            os.makedirs(sim_dir)\n",
    "            print(\"Directory %s was created.\" %sim_folder)\n",
    "\n",
    "        birdfile = '\\\\birdlocsDF'\n",
    "        rewardfile = '\\\\rewardlocsDF'\n",
    "        sim.all_birdsDF.to_csv(sim_dir + birdfile + \".csv\")\n",
    "        sim.all_rewardsDF.to_csv(sim_dir + rewardfile + \".csv\")\n",
    "\n",
    "       \n",
    "\n",
    "    #4. Combine the metadata and the success measures into the results dataframe \n",
    "        # create a new row in the results data frame, then concatenate \n",
    "    success_measures_onesim_DF = pd.DataFrame(\n",
    "        {\n",
    "            \"run index\": np.arange(N_runs),\n",
    "            \"time to first food\": mean_times_to_first_reward,\n",
    "            \"num birds failed\": num_birds_failed,\n",
    "        }\n",
    "    )\n",
    "\n",
    "    success_sims_list.append(success_measures_onesim_DF)\n",
    "\n",
    "success_measures_allDF = pd.concat(success_sims_list)\n",
    "\n",
    "    # 5. Save the raw data into a separate folder.\n",
    "\n",
    "\n",
    "print(len(success_sims_list))\n",
    "print(len(mean_times_to_first_reward))\n",
    "print(len(success_measures_onesim_DF))\n",
    "print(display(success_measures_onesim_DF))\n",
    "print(display(success_measures_allDF))\n",
    "\n",
    "# Concatenate metadataDF and success_measures_allDF into a new dataframe called resultsDF\n",
    "\n",
    "    \n",
    "# Save the results dataframe into the same folder as the metadata\n"
   ]
  },
  {
   "cell_type": "code",
   "execution_count": 206,
   "metadata": {},
   "outputs": [
    {
     "name": "stdout",
     "output_type": "stream",
     "text": [
      "     c_trust  sight_radius  reward_patch_dim  sim index\n",
      "0        0.0           5.0               1.0        0.0\n",
      "1        0.0           5.0               1.0        0.0\n",
      "2        0.0           5.0               1.0        0.0\n",
      "3        0.0           5.0               1.0        0.0\n",
      "4        0.0           5.0               1.0        0.0\n",
      "..       ...           ...               ...        ...\n",
      "395      0.5           5.0               4.0        3.0\n",
      "396      0.5           5.0               4.0        3.0\n",
      "397      0.5           5.0               4.0        3.0\n",
      "398      0.5           5.0               4.0        3.0\n",
      "399      0.5           5.0               4.0        3.0\n",
      "\n",
      "[400 rows x 4 columns]\n"
     ]
    }
   ],
   "source": [
    "# Concatenate metadataDF and success_measures_allDF into a new dataframe called resultsDF\n",
    "\n",
    "# First, duplicate each row (sim) of metadataDF by the number of runs\n",
    "newDF = pd.DataFrame(np.repeat(metadataDF.values, N_runs, axis=0))\n",
    "newDF.columns = metadataDF.columns\n",
    "print(newDF)\n",
    "\n",
    "\n"
   ]
  },
  {
   "cell_type": "code",
   "execution_count": 207,
   "metadata": {},
   "outputs": [
    {
     "data": {
      "text/html": [
       "<div>\n",
       "<style scoped>\n",
       "    .dataframe tbody tr th:only-of-type {\n",
       "        vertical-align: middle;\n",
       "    }\n",
       "\n",
       "    .dataframe tbody tr th {\n",
       "        vertical-align: top;\n",
       "    }\n",
       "\n",
       "    .dataframe thead th {\n",
       "        text-align: right;\n",
       "    }\n",
       "</style>\n",
       "<table border=\"1\" class=\"dataframe\">\n",
       "  <thead>\n",
       "    <tr style=\"text-align: right;\">\n",
       "      <th></th>\n",
       "      <th>run index</th>\n",
       "      <th>time to first food</th>\n",
       "      <th>num birds failed</th>\n",
       "    </tr>\n",
       "  </thead>\n",
       "  <tbody>\n",
       "    <tr>\n",
       "      <th>0</th>\n",
       "      <td>0</td>\n",
       "      <td>2.111111</td>\n",
       "      <td>0.0</td>\n",
       "    </tr>\n",
       "    <tr>\n",
       "      <th>1</th>\n",
       "      <td>1</td>\n",
       "      <td>7.111111</td>\n",
       "      <td>0.0</td>\n",
       "    </tr>\n",
       "    <tr>\n",
       "      <th>2</th>\n",
       "      <td>2</td>\n",
       "      <td>1.333333</td>\n",
       "      <td>0.0</td>\n",
       "    </tr>\n",
       "    <tr>\n",
       "      <th>3</th>\n",
       "      <td>3</td>\n",
       "      <td>1.444444</td>\n",
       "      <td>0.0</td>\n",
       "    </tr>\n",
       "    <tr>\n",
       "      <th>4</th>\n",
       "      <td>4</td>\n",
       "      <td>2.000000</td>\n",
       "      <td>0.0</td>\n",
       "    </tr>\n",
       "    <tr>\n",
       "      <th>...</th>\n",
       "      <td>...</td>\n",
       "      <td>...</td>\n",
       "      <td>...</td>\n",
       "    </tr>\n",
       "    <tr>\n",
       "      <th>395</th>\n",
       "      <td>95</td>\n",
       "      <td>4.777778</td>\n",
       "      <td>5.0</td>\n",
       "    </tr>\n",
       "    <tr>\n",
       "      <th>396</th>\n",
       "      <td>96</td>\n",
       "      <td>3.777778</td>\n",
       "      <td>1.0</td>\n",
       "    </tr>\n",
       "    <tr>\n",
       "      <th>397</th>\n",
       "      <td>97</td>\n",
       "      <td>2.555556</td>\n",
       "      <td>6.0</td>\n",
       "    </tr>\n",
       "    <tr>\n",
       "      <th>398</th>\n",
       "      <td>98</td>\n",
       "      <td>5.111111</td>\n",
       "      <td>7.0</td>\n",
       "    </tr>\n",
       "    <tr>\n",
       "      <th>399</th>\n",
       "      <td>99</td>\n",
       "      <td>1.333333</td>\n",
       "      <td>7.0</td>\n",
       "    </tr>\n",
       "  </tbody>\n",
       "</table>\n",
       "<p>400 rows × 3 columns</p>\n",
       "</div>"
      ],
      "text/plain": [
       "     run index  time to first food  num birds failed\n",
       "0            0            2.111111               0.0\n",
       "1            1            7.111111               0.0\n",
       "2            2            1.333333               0.0\n",
       "3            3            1.444444               0.0\n",
       "4            4            2.000000               0.0\n",
       "..         ...                 ...               ...\n",
       "395         95            4.777778               5.0\n",
       "396         96            3.777778               1.0\n",
       "397         97            2.555556               6.0\n",
       "398         98            5.111111               7.0\n",
       "399         99            1.333333               7.0\n",
       "\n",
       "[400 rows x 3 columns]"
      ]
     },
     "metadata": {},
     "output_type": "display_data"
    }
   ],
   "source": [
    "# change the indexing of the rows of this dataframe so we can concatenate with metadataDF\n",
    "successDF = success_measures_allDF.reset_index(drop=True)\n",
    "display(successDF)"
   ]
  },
  {
   "cell_type": "code",
   "execution_count": 208,
   "metadata": {},
   "outputs": [
    {
     "data": {
      "text/html": [
       "<div>\n",
       "<style scoped>\n",
       "    .dataframe tbody tr th:only-of-type {\n",
       "        vertical-align: middle;\n",
       "    }\n",
       "\n",
       "    .dataframe tbody tr th {\n",
       "        vertical-align: top;\n",
       "    }\n",
       "\n",
       "    .dataframe thead th {\n",
       "        text-align: right;\n",
       "    }\n",
       "</style>\n",
       "<table border=\"1\" class=\"dataframe\">\n",
       "  <thead>\n",
       "    <tr style=\"text-align: right;\">\n",
       "      <th></th>\n",
       "      <th>c_trust</th>\n",
       "      <th>sight_radius</th>\n",
       "      <th>reward_patch_dim</th>\n",
       "      <th>sim index</th>\n",
       "      <th>run index</th>\n",
       "      <th>time to first food</th>\n",
       "      <th>num birds failed</th>\n",
       "    </tr>\n",
       "  </thead>\n",
       "  <tbody>\n",
       "    <tr>\n",
       "      <th>0</th>\n",
       "      <td>0.0</td>\n",
       "      <td>5.0</td>\n",
       "      <td>1.0</td>\n",
       "      <td>0.0</td>\n",
       "      <td>0</td>\n",
       "      <td>2.111111</td>\n",
       "      <td>0.0</td>\n",
       "    </tr>\n",
       "    <tr>\n",
       "      <th>1</th>\n",
       "      <td>0.0</td>\n",
       "      <td>5.0</td>\n",
       "      <td>1.0</td>\n",
       "      <td>0.0</td>\n",
       "      <td>1</td>\n",
       "      <td>7.111111</td>\n",
       "      <td>0.0</td>\n",
       "    </tr>\n",
       "    <tr>\n",
       "      <th>2</th>\n",
       "      <td>0.0</td>\n",
       "      <td>5.0</td>\n",
       "      <td>1.0</td>\n",
       "      <td>0.0</td>\n",
       "      <td>2</td>\n",
       "      <td>1.333333</td>\n",
       "      <td>0.0</td>\n",
       "    </tr>\n",
       "    <tr>\n",
       "      <th>3</th>\n",
       "      <td>0.0</td>\n",
       "      <td>5.0</td>\n",
       "      <td>1.0</td>\n",
       "      <td>0.0</td>\n",
       "      <td>3</td>\n",
       "      <td>1.444444</td>\n",
       "      <td>0.0</td>\n",
       "    </tr>\n",
       "    <tr>\n",
       "      <th>4</th>\n",
       "      <td>0.0</td>\n",
       "      <td>5.0</td>\n",
       "      <td>1.0</td>\n",
       "      <td>0.0</td>\n",
       "      <td>4</td>\n",
       "      <td>2.000000</td>\n",
       "      <td>0.0</td>\n",
       "    </tr>\n",
       "    <tr>\n",
       "      <th>...</th>\n",
       "      <td>...</td>\n",
       "      <td>...</td>\n",
       "      <td>...</td>\n",
       "      <td>...</td>\n",
       "      <td>...</td>\n",
       "      <td>...</td>\n",
       "      <td>...</td>\n",
       "    </tr>\n",
       "    <tr>\n",
       "      <th>395</th>\n",
       "      <td>0.5</td>\n",
       "      <td>5.0</td>\n",
       "      <td>4.0</td>\n",
       "      <td>3.0</td>\n",
       "      <td>95</td>\n",
       "      <td>4.777778</td>\n",
       "      <td>5.0</td>\n",
       "    </tr>\n",
       "    <tr>\n",
       "      <th>396</th>\n",
       "      <td>0.5</td>\n",
       "      <td>5.0</td>\n",
       "      <td>4.0</td>\n",
       "      <td>3.0</td>\n",
       "      <td>96</td>\n",
       "      <td>3.777778</td>\n",
       "      <td>1.0</td>\n",
       "    </tr>\n",
       "    <tr>\n",
       "      <th>397</th>\n",
       "      <td>0.5</td>\n",
       "      <td>5.0</td>\n",
       "      <td>4.0</td>\n",
       "      <td>3.0</td>\n",
       "      <td>97</td>\n",
       "      <td>2.555556</td>\n",
       "      <td>6.0</td>\n",
       "    </tr>\n",
       "    <tr>\n",
       "      <th>398</th>\n",
       "      <td>0.5</td>\n",
       "      <td>5.0</td>\n",
       "      <td>4.0</td>\n",
       "      <td>3.0</td>\n",
       "      <td>98</td>\n",
       "      <td>5.111111</td>\n",
       "      <td>7.0</td>\n",
       "    </tr>\n",
       "    <tr>\n",
       "      <th>399</th>\n",
       "      <td>0.5</td>\n",
       "      <td>5.0</td>\n",
       "      <td>4.0</td>\n",
       "      <td>3.0</td>\n",
       "      <td>99</td>\n",
       "      <td>1.333333</td>\n",
       "      <td>7.0</td>\n",
       "    </tr>\n",
       "  </tbody>\n",
       "</table>\n",
       "<p>400 rows × 7 columns</p>\n",
       "</div>"
      ],
      "text/plain": [
       "     c_trust  sight_radius  reward_patch_dim  sim index  run index  \\\n",
       "0        0.0           5.0               1.0        0.0          0   \n",
       "1        0.0           5.0               1.0        0.0          1   \n",
       "2        0.0           5.0               1.0        0.0          2   \n",
       "3        0.0           5.0               1.0        0.0          3   \n",
       "4        0.0           5.0               1.0        0.0          4   \n",
       "..       ...           ...               ...        ...        ...   \n",
       "395      0.5           5.0               4.0        3.0         95   \n",
       "396      0.5           5.0               4.0        3.0         96   \n",
       "397      0.5           5.0               4.0        3.0         97   \n",
       "398      0.5           5.0               4.0        3.0         98   \n",
       "399      0.5           5.0               4.0        3.0         99   \n",
       "\n",
       "     time to first food  num birds failed  \n",
       "0              2.111111               0.0  \n",
       "1              7.111111               0.0  \n",
       "2              1.333333               0.0  \n",
       "3              1.444444               0.0  \n",
       "4              2.000000               0.0  \n",
       "..                  ...               ...  \n",
       "395            4.777778               5.0  \n",
       "396            3.777778               1.0  \n",
       "397            2.555556               6.0  \n",
       "398            5.111111               7.0  \n",
       "399            1.333333               7.0  \n",
       "\n",
       "[400 rows x 7 columns]"
      ]
     },
     "metadata": {},
     "output_type": "display_data"
    }
   ],
   "source": [
    "# Concatenate metadataDF and \n",
    "allresultsDF = pd.concat([newDF, successDF], axis=1)\n",
    "display(allresultsDF)"
   ]
  },
  {
   "cell_type": "markdown",
   "metadata": {},
   "source": [
    "*Save data in a folder*\n"
   ]
  },
  {
   "cell_type": "code",
   "execution_count": 209,
   "metadata": {},
   "outputs": [],
   "source": [
    "# save metadata to home directory\n",
    "allresultsDF.to_csv(home_dir + 'resultsDF' + '.csv')"
   ]
  },
  {
   "cell_type": "markdown",
   "metadata": {},
   "source": [
    "Test one of the simulations by animating it."
   ]
  },
  {
   "cell_type": "code",
   "execution_count": 210,
   "metadata": {},
   "outputs": [
    {
     "data": {
      "application/vnd.plotly.v1+json": {
       "config": {
        "plotlyServerURL": "https://plot.ly"
       },
       "data": [
        {
         "hovertemplate": "bird=1<br>time=1<br>x=%{x}<br>y=%{y}<extra></extra>",
         "legendgroup": "1",
         "marker": {
          "color": "#636efa",
          "line": {
           "width": 3
          },
          "opacity": 0.8,
          "size": 14,
          "symbol": "square"
         },
         "mode": "markers",
         "name": "1",
         "orientation": "v",
         "showlegend": true,
         "type": "scatter",
         "x": [
          22
         ],
         "xaxis": "x",
         "y": [
          18
         ],
         "yaxis": "y"
        },
        {
         "hovertemplate": "bird=2<br>time=1<br>x=%{x}<br>y=%{y}<extra></extra>",
         "legendgroup": "2",
         "marker": {
          "color": "#EF553B",
          "line": {
           "width": 3
          },
          "opacity": 0.8,
          "size": 14,
          "symbol": "square"
         },
         "mode": "markers",
         "name": "2",
         "orientation": "v",
         "showlegend": true,
         "type": "scatter",
         "x": [
          1
         ],
         "xaxis": "x",
         "y": [
          10
         ],
         "yaxis": "y"
        },
        {
         "hovertemplate": "bird=3<br>time=1<br>x=%{x}<br>y=%{y}<extra></extra>",
         "legendgroup": "3",
         "marker": {
          "color": "#00cc96",
          "line": {
           "width": 3
          },
          "opacity": 0.8,
          "size": 14,
          "symbol": "square"
         },
         "mode": "markers",
         "name": "3",
         "orientation": "v",
         "showlegend": true,
         "type": "scatter",
         "x": [
          29
         ],
         "xaxis": "x",
         "y": [
          24
         ],
         "yaxis": "y"
        },
        {
         "hovertemplate": "bird=4<br>time=1<br>x=%{x}<br>y=%{y}<extra></extra>",
         "legendgroup": "4",
         "marker": {
          "color": "#ab63fa",
          "line": {
           "width": 3
          },
          "opacity": 0.8,
          "size": 14,
          "symbol": "square"
         },
         "mode": "markers",
         "name": "4",
         "orientation": "v",
         "showlegend": true,
         "type": "scatter",
         "x": [
          29
         ],
         "xaxis": "x",
         "y": [
          16
         ],
         "yaxis": "y"
        },
        {
         "hovertemplate": "bird=5<br>time=1<br>x=%{x}<br>y=%{y}<extra></extra>",
         "legendgroup": "5",
         "marker": {
          "color": "#FFA15A",
          "line": {
           "width": 3
          },
          "opacity": 0.8,
          "size": 14,
          "symbol": "square"
         },
         "mode": "markers",
         "name": "5",
         "orientation": "v",
         "showlegend": true,
         "type": "scatter",
         "x": [
          17
         ],
         "xaxis": "x",
         "y": [
          9
         ],
         "yaxis": "y"
        },
        {
         "hovertemplate": "bird=6<br>time=1<br>x=%{x}<br>y=%{y}<extra></extra>",
         "legendgroup": "6",
         "marker": {
          "color": "#19d3f3",
          "line": {
           "width": 3
          },
          "opacity": 0.8,
          "size": 14,
          "symbol": "square"
         },
         "mode": "markers",
         "name": "6",
         "orientation": "v",
         "showlegend": true,
         "type": "scatter",
         "x": [
          6
         ],
         "xaxis": "x",
         "y": [
          2
         ],
         "yaxis": "y"
        },
        {
         "hovertemplate": "bird=7<br>time=1<br>x=%{x}<br>y=%{y}<extra></extra>",
         "legendgroup": "7",
         "marker": {
          "color": "#FF6692",
          "line": {
           "width": 3
          },
          "opacity": 0.8,
          "size": 14,
          "symbol": "square"
         },
         "mode": "markers",
         "name": "7",
         "orientation": "v",
         "showlegend": true,
         "type": "scatter",
         "x": [
          10
         ],
         "xaxis": "x",
         "y": [
          29
         ],
         "yaxis": "y"
        },
        {
         "hovertemplate": "bird=8<br>time=1<br>x=%{x}<br>y=%{y}<extra></extra>",
         "legendgroup": "8",
         "marker": {
          "color": "#B6E880",
          "line": {
           "width": 3
          },
          "opacity": 0.8,
          "size": 14,
          "symbol": "square"
         },
         "mode": "markers",
         "name": "8",
         "orientation": "v",
         "showlegend": true,
         "type": "scatter",
         "x": [
          16
         ],
         "xaxis": "x",
         "y": [
          4
         ],
         "yaxis": "y"
        },
        {
         "hovertemplate": "bird=9<br>time=1<br>x=%{x}<br>y=%{y}<extra></extra>",
         "legendgroup": "9",
         "marker": {
          "color": "#FF97FF",
          "line": {
           "width": 3
          },
          "opacity": 0.8,
          "size": 14,
          "symbol": "square"
         },
         "mode": "markers",
         "name": "9",
         "orientation": "v",
         "showlegend": true,
         "type": "scatter",
         "x": [
          11
         ],
         "xaxis": "x",
         "y": [
          12
         ],
         "yaxis": "y"
        },
        {
         "hovertemplate": "bird=reward<br>time=1<br>x=%{x}<br>y=%{y}<extra></extra>",
         "legendgroup": "reward",
         "marker": {
          "color": "yellow",
          "symbol": "square"
         },
         "mode": "markers",
         "name": "reward",
         "orientation": "v",
         "showlegend": false,
         "type": "scatter",
         "x": [
          9,
          10,
          11,
          12,
          9,
          10,
          11,
          12,
          9,
          10,
          11,
          12,
          9,
          10,
          11,
          12
         ],
         "xaxis": "x",
         "y": [
          25,
          25,
          25,
          25,
          26,
          26,
          26,
          26,
          27,
          27,
          27,
          27,
          28,
          28,
          28,
          28
         ],
         "yaxis": "y"
        }
       ],
       "frames": [
        {
         "data": [
          {
           "hovertemplate": "bird=1<br>time=1<br>x=%{x}<br>y=%{y}<extra></extra>",
           "legendgroup": "1",
           "marker": {
            "color": "#636efa",
            "line": {
             "width": 3
            },
            "opacity": 0.8,
            "size": 14,
            "symbol": "square"
           },
           "mode": "markers",
           "name": "1",
           "orientation": "v",
           "showlegend": true,
           "type": "scatter",
           "x": [
            22
           ],
           "xaxis": "x",
           "y": [
            18
           ],
           "yaxis": "y"
          },
          {
           "hovertemplate": "bird=2<br>time=1<br>x=%{x}<br>y=%{y}<extra></extra>",
           "legendgroup": "2",
           "marker": {
            "color": "#EF553B",
            "line": {
             "width": 3
            },
            "opacity": 0.8,
            "size": 14,
            "symbol": "square"
           },
           "mode": "markers",
           "name": "2",
           "orientation": "v",
           "showlegend": true,
           "type": "scatter",
           "x": [
            1
           ],
           "xaxis": "x",
           "y": [
            10
           ],
           "yaxis": "y"
          },
          {
           "hovertemplate": "bird=3<br>time=1<br>x=%{x}<br>y=%{y}<extra></extra>",
           "legendgroup": "3",
           "marker": {
            "color": "#00cc96",
            "line": {
             "width": 3
            },
            "opacity": 0.8,
            "size": 14,
            "symbol": "square"
           },
           "mode": "markers",
           "name": "3",
           "orientation": "v",
           "showlegend": true,
           "type": "scatter",
           "x": [
            29
           ],
           "xaxis": "x",
           "y": [
            24
           ],
           "yaxis": "y"
          },
          {
           "hovertemplate": "bird=4<br>time=1<br>x=%{x}<br>y=%{y}<extra></extra>",
           "legendgroup": "4",
           "marker": {
            "color": "#ab63fa",
            "line": {
             "width": 3
            },
            "opacity": 0.8,
            "size": 14,
            "symbol": "square"
           },
           "mode": "markers",
           "name": "4",
           "orientation": "v",
           "showlegend": true,
           "type": "scatter",
           "x": [
            29
           ],
           "xaxis": "x",
           "y": [
            16
           ],
           "yaxis": "y"
          },
          {
           "hovertemplate": "bird=5<br>time=1<br>x=%{x}<br>y=%{y}<extra></extra>",
           "legendgroup": "5",
           "marker": {
            "color": "#FFA15A",
            "line": {
             "width": 3
            },
            "opacity": 0.8,
            "size": 14,
            "symbol": "square"
           },
           "mode": "markers",
           "name": "5",
           "orientation": "v",
           "showlegend": true,
           "type": "scatter",
           "x": [
            17
           ],
           "xaxis": "x",
           "y": [
            9
           ],
           "yaxis": "y"
          },
          {
           "hovertemplate": "bird=6<br>time=1<br>x=%{x}<br>y=%{y}<extra></extra>",
           "legendgroup": "6",
           "marker": {
            "color": "#19d3f3",
            "line": {
             "width": 3
            },
            "opacity": 0.8,
            "size": 14,
            "symbol": "square"
           },
           "mode": "markers",
           "name": "6",
           "orientation": "v",
           "showlegend": true,
           "type": "scatter",
           "x": [
            6
           ],
           "xaxis": "x",
           "y": [
            2
           ],
           "yaxis": "y"
          },
          {
           "hovertemplate": "bird=7<br>time=1<br>x=%{x}<br>y=%{y}<extra></extra>",
           "legendgroup": "7",
           "marker": {
            "color": "#FF6692",
            "line": {
             "width": 3
            },
            "opacity": 0.8,
            "size": 14,
            "symbol": "square"
           },
           "mode": "markers",
           "name": "7",
           "orientation": "v",
           "showlegend": true,
           "type": "scatter",
           "x": [
            10
           ],
           "xaxis": "x",
           "y": [
            29
           ],
           "yaxis": "y"
          },
          {
           "hovertemplate": "bird=8<br>time=1<br>x=%{x}<br>y=%{y}<extra></extra>",
           "legendgroup": "8",
           "marker": {
            "color": "#B6E880",
            "line": {
             "width": 3
            },
            "opacity": 0.8,
            "size": 14,
            "symbol": "square"
           },
           "mode": "markers",
           "name": "8",
           "orientation": "v",
           "showlegend": true,
           "type": "scatter",
           "x": [
            16
           ],
           "xaxis": "x",
           "y": [
            4
           ],
           "yaxis": "y"
          },
          {
           "hovertemplate": "bird=9<br>time=1<br>x=%{x}<br>y=%{y}<extra></extra>",
           "legendgroup": "9",
           "marker": {
            "color": "#FF97FF",
            "line": {
             "width": 3
            },
            "opacity": 0.8,
            "size": 14,
            "symbol": "square"
           },
           "mode": "markers",
           "name": "9",
           "orientation": "v",
           "showlegend": true,
           "type": "scatter",
           "x": [
            11
           ],
           "xaxis": "x",
           "y": [
            12
           ],
           "yaxis": "y"
          },
          {
           "hovertemplate": "bird=reward<br>time=1<br>x=%{x}<br>y=%{y}<extra></extra>",
           "legendgroup": "reward",
           "marker": {
            "color": "yellow",
            "symbol": "square"
           },
           "mode": "markers",
           "name": "reward",
           "orientation": "v",
           "showlegend": false,
           "type": "scatter",
           "x": [
            9,
            10,
            11,
            12,
            9,
            10,
            11,
            12,
            9,
            10,
            11,
            12,
            9,
            10,
            11,
            12
           ],
           "xaxis": "x",
           "y": [
            25,
            25,
            25,
            25,
            26,
            26,
            26,
            26,
            27,
            27,
            27,
            27,
            28,
            28,
            28,
            28
           ],
           "yaxis": "y"
          }
         ],
         "name": "1"
        },
        {
         "data": [
          {
           "hovertemplate": "bird=1<br>time=2<br>x=%{x}<br>y=%{y}<extra></extra>",
           "legendgroup": "1",
           "marker": {
            "color": "#636efa",
            "line": {
             "width": 3
            },
            "opacity": 0.8,
            "size": 14,
            "symbol": "square"
           },
           "mode": "markers",
           "name": "1",
           "orientation": "v",
           "showlegend": true,
           "type": "scatter",
           "x": [
            25
           ],
           "xaxis": "x",
           "y": [
            18
           ],
           "yaxis": "y"
          },
          {
           "hovertemplate": "bird=2<br>time=2<br>x=%{x}<br>y=%{y}<extra></extra>",
           "legendgroup": "2",
           "marker": {
            "color": "#EF553B",
            "line": {
             "width": 3
            },
            "opacity": 0.8,
            "size": 14,
            "symbol": "square"
           },
           "mode": "markers",
           "name": "2",
           "orientation": "v",
           "showlegend": true,
           "type": "scatter",
           "x": [
            1
           ],
           "xaxis": "x",
           "y": [
            9
           ],
           "yaxis": "y"
          },
          {
           "hovertemplate": "bird=3<br>time=2<br>x=%{x}<br>y=%{y}<extra></extra>",
           "legendgroup": "3",
           "marker": {
            "color": "#00cc96",
            "line": {
             "width": 3
            },
            "opacity": 0.8,
            "size": 14,
            "symbol": "square"
           },
           "mode": "markers",
           "name": "3",
           "orientation": "v",
           "showlegend": true,
           "type": "scatter",
           "x": [
            27
           ],
           "xaxis": "x",
           "y": [
            25
           ],
           "yaxis": "y"
          },
          {
           "hovertemplate": "bird=4<br>time=2<br>x=%{x}<br>y=%{y}<extra></extra>",
           "legendgroup": "4",
           "marker": {
            "color": "#ab63fa",
            "line": {
             "width": 3
            },
            "opacity": 0.8,
            "size": 14,
            "symbol": "square"
           },
           "mode": "markers",
           "name": "4",
           "orientation": "v",
           "showlegend": true,
           "type": "scatter",
           "x": [
            27
           ],
           "xaxis": "x",
           "y": [
            15
           ],
           "yaxis": "y"
          },
          {
           "hovertemplate": "bird=5<br>time=2<br>x=%{x}<br>y=%{y}<extra></extra>",
           "legendgroup": "5",
           "marker": {
            "color": "#FFA15A",
            "line": {
             "width": 3
            },
            "opacity": 0.8,
            "size": 14,
            "symbol": "square"
           },
           "mode": "markers",
           "name": "5",
           "orientation": "v",
           "showlegend": true,
           "type": "scatter",
           "x": [
            16
           ],
           "xaxis": "x",
           "y": [
            10
           ],
           "yaxis": "y"
          },
          {
           "hovertemplate": "bird=6<br>time=2<br>x=%{x}<br>y=%{y}<extra></extra>",
           "legendgroup": "6",
           "marker": {
            "color": "#19d3f3",
            "line": {
             "width": 3
            },
            "opacity": 0.8,
            "size": 14,
            "symbol": "square"
           },
           "mode": "markers",
           "name": "6",
           "orientation": "v",
           "showlegend": true,
           "type": "scatter",
           "x": [
            8
           ],
           "xaxis": "x",
           "y": [
            3
           ],
           "yaxis": "y"
          },
          {
           "hovertemplate": "bird=7<br>time=2<br>x=%{x}<br>y=%{y}<extra></extra>",
           "legendgroup": "7",
           "marker": {
            "color": "#FF6692",
            "line": {
             "width": 3
            },
            "opacity": 0.8,
            "size": 14,
            "symbol": "square"
           },
           "mode": "markers",
           "name": "7",
           "orientation": "v",
           "showlegend": true,
           "type": "scatter",
           "x": [
            11
           ],
           "xaxis": "x",
           "y": [
            27
           ],
           "yaxis": "y"
          },
          {
           "hovertemplate": "bird=8<br>time=2<br>x=%{x}<br>y=%{y}<extra></extra>",
           "legendgroup": "8",
           "marker": {
            "color": "#B6E880",
            "line": {
             "width": 3
            },
            "opacity": 0.8,
            "size": 14,
            "symbol": "square"
           },
           "mode": "markers",
           "name": "8",
           "orientation": "v",
           "showlegend": true,
           "type": "scatter",
           "x": [
            17
           ],
           "xaxis": "x",
           "y": [
            3
           ],
           "yaxis": "y"
          },
          {
           "hovertemplate": "bird=9<br>time=2<br>x=%{x}<br>y=%{y}<extra></extra>",
           "legendgroup": "9",
           "marker": {
            "color": "#FF97FF",
            "line": {
             "width": 3
            },
            "opacity": 0.8,
            "size": 14,
            "symbol": "square"
           },
           "mode": "markers",
           "name": "9",
           "orientation": "v",
           "showlegend": true,
           "type": "scatter",
           "x": [
            13
           ],
           "xaxis": "x",
           "y": [
            13
           ],
           "yaxis": "y"
          },
          {
           "hovertemplate": "bird=reward<br>time=2<br>x=%{x}<br>y=%{y}<extra></extra>",
           "legendgroup": "reward",
           "marker": {
            "color": "yellow",
            "symbol": "square"
           },
           "mode": "markers",
           "name": "reward",
           "orientation": "v",
           "showlegend": false,
           "type": "scatter",
           "x": [
            9,
            10,
            11,
            12,
            9,
            10,
            11,
            12,
            9,
            10,
            11,
            12,
            9,
            10,
            11,
            12
           ],
           "xaxis": "x",
           "y": [
            25,
            25,
            25,
            25,
            26,
            26,
            26,
            26,
            27,
            27,
            27,
            27,
            28,
            28,
            28,
            28
           ],
           "yaxis": "y"
          }
         ],
         "name": "2"
        },
        {
         "data": [
          {
           "hovertemplate": "bird=1<br>time=3<br>x=%{x}<br>y=%{y}<extra></extra>",
           "legendgroup": "1",
           "marker": {
            "color": "#636efa",
            "line": {
             "width": 3
            },
            "opacity": 0.8,
            "size": 14,
            "symbol": "square"
           },
           "mode": "markers",
           "name": "1",
           "orientation": "v",
           "showlegend": true,
           "type": "scatter",
           "x": [
            24
           ],
           "xaxis": "x",
           "y": [
            16
           ],
           "yaxis": "y"
          },
          {
           "hovertemplate": "bird=2<br>time=3<br>x=%{x}<br>y=%{y}<extra></extra>",
           "legendgroup": "2",
           "marker": {
            "color": "#EF553B",
            "line": {
             "width": 3
            },
            "opacity": 0.8,
            "size": 14,
            "symbol": "square"
           },
           "mode": "markers",
           "name": "2",
           "orientation": "v",
           "showlegend": true,
           "type": "scatter",
           "x": [
            0
           ],
           "xaxis": "x",
           "y": [
            7
           ],
           "yaxis": "y"
          },
          {
           "hovertemplate": "bird=3<br>time=3<br>x=%{x}<br>y=%{y}<extra></extra>",
           "legendgroup": "3",
           "marker": {
            "color": "#00cc96",
            "line": {
             "width": 3
            },
            "opacity": 0.8,
            "size": 14,
            "symbol": "square"
           },
           "mode": "markers",
           "name": "3",
           "orientation": "v",
           "showlegend": true,
           "type": "scatter",
           "x": [
            28
           ],
           "xaxis": "x",
           "y": [
            24
           ],
           "yaxis": "y"
          },
          {
           "hovertemplate": "bird=4<br>time=3<br>x=%{x}<br>y=%{y}<extra></extra>",
           "legendgroup": "4",
           "marker": {
            "color": "#ab63fa",
            "line": {
             "width": 3
            },
            "opacity": 0.8,
            "size": 14,
            "symbol": "square"
           },
           "mode": "markers",
           "name": "4",
           "orientation": "v",
           "showlegend": true,
           "type": "scatter",
           "x": [
            26
           ],
           "xaxis": "x",
           "y": [
            17
           ],
           "yaxis": "y"
          },
          {
           "hovertemplate": "bird=5<br>time=3<br>x=%{x}<br>y=%{y}<extra></extra>",
           "legendgroup": "5",
           "marker": {
            "color": "#FFA15A",
            "line": {
             "width": 3
            },
            "opacity": 0.8,
            "size": 14,
            "symbol": "square"
           },
           "mode": "markers",
           "name": "5",
           "orientation": "v",
           "showlegend": true,
           "type": "scatter",
           "x": [
            18
           ],
           "xaxis": "x",
           "y": [
            9
           ],
           "yaxis": "y"
          },
          {
           "hovertemplate": "bird=6<br>time=3<br>x=%{x}<br>y=%{y}<extra></extra>",
           "legendgroup": "6",
           "marker": {
            "color": "#19d3f3",
            "line": {
             "width": 3
            },
            "opacity": 0.8,
            "size": 14,
            "symbol": "square"
           },
           "mode": "markers",
           "name": "6",
           "orientation": "v",
           "showlegend": true,
           "type": "scatter",
           "x": [
            11
           ],
           "xaxis": "x",
           "y": [
            3
           ],
           "yaxis": "y"
          },
          {
           "hovertemplate": "bird=7<br>time=3<br>x=%{x}<br>y=%{y}<extra></extra>",
           "legendgroup": "7",
           "marker": {
            "color": "#FF6692",
            "line": {
             "width": 3
            },
            "opacity": 0.8,
            "size": 14,
            "symbol": "square"
           },
           "mode": "markers",
           "name": "7",
           "orientation": "v",
           "showlegend": true,
           "type": "scatter",
           "x": [
            10
           ],
           "xaxis": "x",
           "y": [
            27
           ],
           "yaxis": "y"
          },
          {
           "hovertemplate": "bird=8<br>time=3<br>x=%{x}<br>y=%{y}<extra></extra>",
           "legendgroup": "8",
           "marker": {
            "color": "#B6E880",
            "line": {
             "width": 3
            },
            "opacity": 0.8,
            "size": 14,
            "symbol": "square"
           },
           "mode": "markers",
           "name": "8",
           "orientation": "v",
           "showlegend": true,
           "type": "scatter",
           "x": [
            15
           ],
           "xaxis": "x",
           "y": [
            5
           ],
           "yaxis": "y"
          },
          {
           "hovertemplate": "bird=9<br>time=3<br>x=%{x}<br>y=%{y}<extra></extra>",
           "legendgroup": "9",
           "marker": {
            "color": "#FF97FF",
            "line": {
             "width": 3
            },
            "opacity": 0.8,
            "size": 14,
            "symbol": "square"
           },
           "mode": "markers",
           "name": "9",
           "orientation": "v",
           "showlegend": true,
           "type": "scatter",
           "x": [
            15
           ],
           "xaxis": "x",
           "y": [
            13
           ],
           "yaxis": "y"
          },
          {
           "hovertemplate": "bird=reward<br>time=3<br>x=%{x}<br>y=%{y}<extra></extra>",
           "legendgroup": "reward",
           "marker": {
            "color": "yellow",
            "symbol": "square"
           },
           "mode": "markers",
           "name": "reward",
           "orientation": "v",
           "showlegend": false,
           "type": "scatter",
           "x": [
            9,
            10,
            11,
            12,
            9,
            10,
            11,
            12,
            9,
            10,
            11,
            12,
            9,
            10,
            11,
            12
           ],
           "xaxis": "x",
           "y": [
            25,
            25,
            25,
            25,
            26,
            26,
            26,
            26,
            27,
            27,
            27,
            27,
            28,
            28,
            28,
            28
           ],
           "yaxis": "y"
          }
         ],
         "name": "3"
        },
        {
         "data": [
          {
           "hovertemplate": "bird=1<br>time=4<br>x=%{x}<br>y=%{y}<extra></extra>",
           "legendgroup": "1",
           "marker": {
            "color": "#636efa",
            "line": {
             "width": 3
            },
            "opacity": 0.8,
            "size": 14,
            "symbol": "square"
           },
           "mode": "markers",
           "name": "1",
           "orientation": "v",
           "showlegend": true,
           "type": "scatter",
           "x": [
            24
           ],
           "xaxis": "x",
           "y": [
            17
           ],
           "yaxis": "y"
          },
          {
           "hovertemplate": "bird=2<br>time=4<br>x=%{x}<br>y=%{y}<extra></extra>",
           "legendgroup": "2",
           "marker": {
            "color": "#EF553B",
            "line": {
             "width": 3
            },
            "opacity": 0.8,
            "size": 14,
            "symbol": "square"
           },
           "mode": "markers",
           "name": "2",
           "orientation": "v",
           "showlegend": true,
           "type": "scatter",
           "x": [
            2
           ],
           "xaxis": "x",
           "y": [
            9
           ],
           "yaxis": "y"
          },
          {
           "hovertemplate": "bird=3<br>time=4<br>x=%{x}<br>y=%{y}<extra></extra>",
           "legendgroup": "3",
           "marker": {
            "color": "#00cc96",
            "line": {
             "width": 3
            },
            "opacity": 0.8,
            "size": 14,
            "symbol": "square"
           },
           "mode": "markers",
           "name": "3",
           "orientation": "v",
           "showlegend": true,
           "type": "scatter",
           "x": [
            26
           ],
           "xaxis": "x",
           "y": [
            23
           ],
           "yaxis": "y"
          },
          {
           "hovertemplate": "bird=4<br>time=4<br>x=%{x}<br>y=%{y}<extra></extra>",
           "legendgroup": "4",
           "marker": {
            "color": "#ab63fa",
            "line": {
             "width": 3
            },
            "opacity": 0.8,
            "size": 14,
            "symbol": "square"
           },
           "mode": "markers",
           "name": "4",
           "orientation": "v",
           "showlegend": true,
           "type": "scatter",
           "x": [
            24
           ],
           "xaxis": "x",
           "y": [
            16
           ],
           "yaxis": "y"
          },
          {
           "hovertemplate": "bird=5<br>time=4<br>x=%{x}<br>y=%{y}<extra></extra>",
           "legendgroup": "5",
           "marker": {
            "color": "#FFA15A",
            "line": {
             "width": 3
            },
            "opacity": 0.8,
            "size": 14,
            "symbol": "square"
           },
           "mode": "markers",
           "name": "5",
           "orientation": "v",
           "showlegend": true,
           "type": "scatter",
           "x": [
            17
           ],
           "xaxis": "x",
           "y": [
            9
           ],
           "yaxis": "y"
          },
          {
           "hovertemplate": "bird=6<br>time=4<br>x=%{x}<br>y=%{y}<extra></extra>",
           "legendgroup": "6",
           "marker": {
            "color": "#19d3f3",
            "line": {
             "width": 3
            },
            "opacity": 0.8,
            "size": 14,
            "symbol": "square"
           },
           "mode": "markers",
           "name": "6",
           "orientation": "v",
           "showlegend": true,
           "type": "scatter",
           "x": [
            9
           ],
           "xaxis": "x",
           "y": [
            2
           ],
           "yaxis": "y"
          },
          {
           "hovertemplate": "bird=7<br>time=4<br>x=%{x}<br>y=%{y}<extra></extra>",
           "legendgroup": "7",
           "marker": {
            "color": "#FF6692",
            "line": {
             "width": 3
            },
            "opacity": 0.8,
            "size": 14,
            "symbol": "square"
           },
           "mode": "markers",
           "name": "7",
           "orientation": "v",
           "showlegend": true,
           "type": "scatter",
           "x": [
            11
           ],
           "xaxis": "x",
           "y": [
            27
           ],
           "yaxis": "y"
          },
          {
           "hovertemplate": "bird=8<br>time=4<br>x=%{x}<br>y=%{y}<extra></extra>",
           "legendgroup": "8",
           "marker": {
            "color": "#B6E880",
            "line": {
             "width": 3
            },
            "opacity": 0.8,
            "size": 14,
            "symbol": "square"
           },
           "mode": "markers",
           "name": "8",
           "orientation": "v",
           "showlegend": true,
           "type": "scatter",
           "x": [
            17
           ],
           "xaxis": "x",
           "y": [
            5
           ],
           "yaxis": "y"
          },
          {
           "hovertemplate": "bird=9<br>time=4<br>x=%{x}<br>y=%{y}<extra></extra>",
           "legendgroup": "9",
           "marker": {
            "color": "#FF97FF",
            "line": {
             "width": 3
            },
            "opacity": 0.8,
            "size": 14,
            "symbol": "square"
           },
           "mode": "markers",
           "name": "9",
           "orientation": "v",
           "showlegend": true,
           "type": "scatter",
           "x": [
            16
           ],
           "xaxis": "x",
           "y": [
            14
           ],
           "yaxis": "y"
          },
          {
           "hovertemplate": "bird=reward<br>time=4<br>x=%{x}<br>y=%{y}<extra></extra>",
           "legendgroup": "reward",
           "marker": {
            "color": "yellow",
            "symbol": "square"
           },
           "mode": "markers",
           "name": "reward",
           "orientation": "v",
           "showlegend": false,
           "type": "scatter",
           "x": [
            9,
            10,
            11,
            12,
            9,
            10,
            11,
            12,
            9,
            10,
            11,
            12,
            9,
            10,
            11,
            12
           ],
           "xaxis": "x",
           "y": [
            25,
            25,
            25,
            25,
            26,
            26,
            26,
            26,
            27,
            27,
            27,
            27,
            28,
            28,
            28,
            28
           ],
           "yaxis": "y"
          }
         ],
         "name": "4"
        },
        {
         "data": [
          {
           "hovertemplate": "bird=1<br>time=5<br>x=%{x}<br>y=%{y}<extra></extra>",
           "legendgroup": "1",
           "marker": {
            "color": "#636efa",
            "line": {
             "width": 3
            },
            "opacity": 0.8,
            "size": 14,
            "symbol": "square"
           },
           "mode": "markers",
           "name": "1",
           "orientation": "v",
           "showlegend": true,
           "type": "scatter",
           "x": [
            22
           ],
           "xaxis": "x",
           "y": [
            17
           ],
           "yaxis": "y"
          },
          {
           "hovertemplate": "bird=2<br>time=5<br>x=%{x}<br>y=%{y}<extra></extra>",
           "legendgroup": "2",
           "marker": {
            "color": "#EF553B",
            "line": {
             "width": 3
            },
            "opacity": 0.8,
            "size": 14,
            "symbol": "square"
           },
           "mode": "markers",
           "name": "2",
           "orientation": "v",
           "showlegend": true,
           "type": "scatter",
           "x": [
            1
           ],
           "xaxis": "x",
           "y": [
            10
           ],
           "yaxis": "y"
          },
          {
           "hovertemplate": "bird=3<br>time=5<br>x=%{x}<br>y=%{y}<extra></extra>",
           "legendgroup": "3",
           "marker": {
            "color": "#00cc96",
            "line": {
             "width": 3
            },
            "opacity": 0.8,
            "size": 14,
            "symbol": "square"
           },
           "mode": "markers",
           "name": "3",
           "orientation": "v",
           "showlegend": true,
           "type": "scatter",
           "x": [
            27
           ],
           "xaxis": "x",
           "y": [
            22
           ],
           "yaxis": "y"
          },
          {
           "hovertemplate": "bird=4<br>time=5<br>x=%{x}<br>y=%{y}<extra></extra>",
           "legendgroup": "4",
           "marker": {
            "color": "#ab63fa",
            "line": {
             "width": 3
            },
            "opacity": 0.8,
            "size": 14,
            "symbol": "square"
           },
           "mode": "markers",
           "name": "4",
           "orientation": "v",
           "showlegend": true,
           "type": "scatter",
           "x": [
            22
           ],
           "xaxis": "x",
           "y": [
            15
           ],
           "yaxis": "y"
          },
          {
           "hovertemplate": "bird=5<br>time=5<br>x=%{x}<br>y=%{y}<extra></extra>",
           "legendgroup": "5",
           "marker": {
            "color": "#FFA15A",
            "line": {
             "width": 3
            },
            "opacity": 0.8,
            "size": 14,
            "symbol": "square"
           },
           "mode": "markers",
           "name": "5",
           "orientation": "v",
           "showlegend": true,
           "type": "scatter",
           "x": [
            18
           ],
           "xaxis": "x",
           "y": [
            11
           ],
           "yaxis": "y"
          },
          {
           "hovertemplate": "bird=6<br>time=5<br>x=%{x}<br>y=%{y}<extra></extra>",
           "legendgroup": "6",
           "marker": {
            "color": "#19d3f3",
            "line": {
             "width": 3
            },
            "opacity": 0.8,
            "size": 14,
            "symbol": "square"
           },
           "mode": "markers",
           "name": "6",
           "orientation": "v",
           "showlegend": true,
           "type": "scatter",
           "x": [
            11
           ],
           "xaxis": "x",
           "y": [
            0
           ],
           "yaxis": "y"
          },
          {
           "hovertemplate": "bird=7<br>time=5<br>x=%{x}<br>y=%{y}<extra></extra>",
           "legendgroup": "7",
           "marker": {
            "color": "#FF6692",
            "line": {
             "width": 3
            },
            "opacity": 0.8,
            "size": 14,
            "symbol": "square"
           },
           "mode": "markers",
           "name": "7",
           "orientation": "v",
           "showlegend": true,
           "type": "scatter",
           "x": [
            11
           ],
           "xaxis": "x",
           "y": [
            26
           ],
           "yaxis": "y"
          },
          {
           "hovertemplate": "bird=8<br>time=5<br>x=%{x}<br>y=%{y}<extra></extra>",
           "legendgroup": "8",
           "marker": {
            "color": "#B6E880",
            "line": {
             "width": 3
            },
            "opacity": 0.8,
            "size": 14,
            "symbol": "square"
           },
           "mode": "markers",
           "name": "8",
           "orientation": "v",
           "showlegend": true,
           "type": "scatter",
           "x": [
            18
           ],
           "xaxis": "x",
           "y": [
            5
           ],
           "yaxis": "y"
          },
          {
           "hovertemplate": "bird=9<br>time=5<br>x=%{x}<br>y=%{y}<extra></extra>",
           "legendgroup": "9",
           "marker": {
            "color": "#FF97FF",
            "line": {
             "width": 3
            },
            "opacity": 0.8,
            "size": 14,
            "symbol": "square"
           },
           "mode": "markers",
           "name": "9",
           "orientation": "v",
           "showlegend": true,
           "type": "scatter",
           "x": [
            16
           ],
           "xaxis": "x",
           "y": [
            16
           ],
           "yaxis": "y"
          },
          {
           "hovertemplate": "bird=reward<br>time=5<br>x=%{x}<br>y=%{y}<extra></extra>",
           "legendgroup": "reward",
           "marker": {
            "color": "yellow",
            "symbol": "square"
           },
           "mode": "markers",
           "name": "reward",
           "orientation": "v",
           "showlegend": false,
           "type": "scatter",
           "x": [
            9,
            10,
            11,
            12,
            9,
            10,
            11,
            12,
            9,
            10,
            11,
            12,
            9,
            10,
            11,
            12
           ],
           "xaxis": "x",
           "y": [
            25,
            25,
            25,
            25,
            26,
            26,
            26,
            26,
            27,
            27,
            27,
            27,
            28,
            28,
            28,
            28
           ],
           "yaxis": "y"
          }
         ],
         "name": "5"
        },
        {
         "data": [
          {
           "hovertemplate": "bird=1<br>time=6<br>x=%{x}<br>y=%{y}<extra></extra>",
           "legendgroup": "1",
           "marker": {
            "color": "#636efa",
            "line": {
             "width": 3
            },
            "opacity": 0.8,
            "size": 14,
            "symbol": "square"
           },
           "mode": "markers",
           "name": "1",
           "orientation": "v",
           "showlegend": true,
           "type": "scatter",
           "x": [
            21
           ],
           "xaxis": "x",
           "y": [
            17
           ],
           "yaxis": "y"
          },
          {
           "hovertemplate": "bird=2<br>time=6<br>x=%{x}<br>y=%{y}<extra></extra>",
           "legendgroup": "2",
           "marker": {
            "color": "#EF553B",
            "line": {
             "width": 3
            },
            "opacity": 0.8,
            "size": 14,
            "symbol": "square"
           },
           "mode": "markers",
           "name": "2",
           "orientation": "v",
           "showlegend": true,
           "type": "scatter",
           "x": [
            3
           ],
           "xaxis": "x",
           "y": [
            8
           ],
           "yaxis": "y"
          },
          {
           "hovertemplate": "bird=3<br>time=6<br>x=%{x}<br>y=%{y}<extra></extra>",
           "legendgroup": "3",
           "marker": {
            "color": "#00cc96",
            "line": {
             "width": 3
            },
            "opacity": 0.8,
            "size": 14,
            "symbol": "square"
           },
           "mode": "markers",
           "name": "3",
           "orientation": "v",
           "showlegend": true,
           "type": "scatter",
           "x": [
            26
           ],
           "xaxis": "x",
           "y": [
            23
           ],
           "yaxis": "y"
          },
          {
           "hovertemplate": "bird=4<br>time=6<br>x=%{x}<br>y=%{y}<extra></extra>",
           "legendgroup": "4",
           "marker": {
            "color": "#ab63fa",
            "line": {
             "width": 3
            },
            "opacity": 0.8,
            "size": 14,
            "symbol": "square"
           },
           "mode": "markers",
           "name": "4",
           "orientation": "v",
           "showlegend": true,
           "type": "scatter",
           "x": [
            22
           ],
           "xaxis": "x",
           "y": [
            18
           ],
           "yaxis": "y"
          },
          {
           "hovertemplate": "bird=5<br>time=6<br>x=%{x}<br>y=%{y}<extra></extra>",
           "legendgroup": "5",
           "marker": {
            "color": "#FFA15A",
            "line": {
             "width": 3
            },
            "opacity": 0.8,
            "size": 14,
            "symbol": "square"
           },
           "mode": "markers",
           "name": "5",
           "orientation": "v",
           "showlegend": true,
           "type": "scatter",
           "x": [
            18
           ],
           "xaxis": "x",
           "y": [
            10
           ],
           "yaxis": "y"
          },
          {
           "hovertemplate": "bird=6<br>time=6<br>x=%{x}<br>y=%{y}<extra></extra>",
           "legendgroup": "6",
           "marker": {
            "color": "#19d3f3",
            "line": {
             "width": 3
            },
            "opacity": 0.8,
            "size": 14,
            "symbol": "square"
           },
           "mode": "markers",
           "name": "6",
           "orientation": "v",
           "showlegend": true,
           "type": "scatter",
           "x": [
            14
           ],
           "xaxis": "x",
           "y": [
            0
           ],
           "yaxis": "y"
          },
          {
           "hovertemplate": "bird=7<br>time=6<br>x=%{x}<br>y=%{y}<extra></extra>",
           "legendgroup": "7",
           "marker": {
            "color": "#FF6692",
            "line": {
             "width": 3
            },
            "opacity": 0.8,
            "size": 14,
            "symbol": "square"
           },
           "mode": "markers",
           "name": "7",
           "orientation": "v",
           "showlegend": true,
           "type": "scatter",
           "x": [
            11
           ],
           "xaxis": "x",
           "y": [
            27
           ],
           "yaxis": "y"
          },
          {
           "hovertemplate": "bird=8<br>time=6<br>x=%{x}<br>y=%{y}<extra></extra>",
           "legendgroup": "8",
           "marker": {
            "color": "#B6E880",
            "line": {
             "width": 3
            },
            "opacity": 0.8,
            "size": 14,
            "symbol": "square"
           },
           "mode": "markers",
           "name": "8",
           "orientation": "v",
           "showlegend": true,
           "type": "scatter",
           "x": [
            20
           ],
           "xaxis": "x",
           "y": [
            7
           ],
           "yaxis": "y"
          },
          {
           "hovertemplate": "bird=9<br>time=6<br>x=%{x}<br>y=%{y}<extra></extra>",
           "legendgroup": "9",
           "marker": {
            "color": "#FF97FF",
            "line": {
             "width": 3
            },
            "opacity": 0.8,
            "size": 14,
            "symbol": "square"
           },
           "mode": "markers",
           "name": "9",
           "orientation": "v",
           "showlegend": true,
           "type": "scatter",
           "x": [
            19
           ],
           "xaxis": "x",
           "y": [
            16
           ],
           "yaxis": "y"
          },
          {
           "hovertemplate": "bird=reward<br>time=6<br>x=%{x}<br>y=%{y}<extra></extra>",
           "legendgroup": "reward",
           "marker": {
            "color": "yellow",
            "symbol": "square"
           },
           "mode": "markers",
           "name": "reward",
           "orientation": "v",
           "showlegend": false,
           "type": "scatter",
           "x": [
            9,
            10,
            11,
            12,
            9,
            10,
            11,
            12,
            9,
            10,
            11,
            12,
            9,
            10,
            11,
            12
           ],
           "xaxis": "x",
           "y": [
            25,
            25,
            25,
            25,
            26,
            26,
            26,
            26,
            27,
            27,
            27,
            27,
            28,
            28,
            28,
            28
           ],
           "yaxis": "y"
          }
         ],
         "name": "6"
        },
        {
         "data": [
          {
           "hovertemplate": "bird=1<br>time=7<br>x=%{x}<br>y=%{y}<extra></extra>",
           "legendgroup": "1",
           "marker": {
            "color": "#636efa",
            "line": {
             "width": 3
            },
            "opacity": 0.8,
            "size": 14,
            "symbol": "square"
           },
           "mode": "markers",
           "name": "1",
           "orientation": "v",
           "showlegend": true,
           "type": "scatter",
           "x": [
            18
           ],
           "xaxis": "x",
           "y": [
            17
           ],
           "yaxis": "y"
          },
          {
           "hovertemplate": "bird=2<br>time=7<br>x=%{x}<br>y=%{y}<extra></extra>",
           "legendgroup": "2",
           "marker": {
            "color": "#EF553B",
            "line": {
             "width": 3
            },
            "opacity": 0.8,
            "size": 14,
            "symbol": "square"
           },
           "mode": "markers",
           "name": "2",
           "orientation": "v",
           "showlegend": true,
           "type": "scatter",
           "x": [
            1
           ],
           "xaxis": "x",
           "y": [
            10
           ],
           "yaxis": "y"
          },
          {
           "hovertemplate": "bird=3<br>time=7<br>x=%{x}<br>y=%{y}<extra></extra>",
           "legendgroup": "3",
           "marker": {
            "color": "#00cc96",
            "line": {
             "width": 3
            },
            "opacity": 0.8,
            "size": 14,
            "symbol": "square"
           },
           "mode": "markers",
           "name": "3",
           "orientation": "v",
           "showlegend": true,
           "type": "scatter",
           "x": [
            27
           ],
           "xaxis": "x",
           "y": [
            25
           ],
           "yaxis": "y"
          },
          {
           "hovertemplate": "bird=4<br>time=7<br>x=%{x}<br>y=%{y}<extra></extra>",
           "legendgroup": "4",
           "marker": {
            "color": "#ab63fa",
            "line": {
             "width": 3
            },
            "opacity": 0.8,
            "size": 14,
            "symbol": "square"
           },
           "mode": "markers",
           "name": "4",
           "orientation": "v",
           "showlegend": true,
           "type": "scatter",
           "x": [
            20
           ],
           "xaxis": "x",
           "y": [
            16
           ],
           "yaxis": "y"
          },
          {
           "hovertemplate": "bird=5<br>time=7<br>x=%{x}<br>y=%{y}<extra></extra>",
           "legendgroup": "5",
           "marker": {
            "color": "#FFA15A",
            "line": {
             "width": 3
            },
            "opacity": 0.8,
            "size": 14,
            "symbol": "square"
           },
           "mode": "markers",
           "name": "5",
           "orientation": "v",
           "showlegend": true,
           "type": "scatter",
           "x": [
            21
           ],
           "xaxis": "x",
           "y": [
            10
           ],
           "yaxis": "y"
          },
          {
           "hovertemplate": "bird=6<br>time=7<br>x=%{x}<br>y=%{y}<extra></extra>",
           "legendgroup": "6",
           "marker": {
            "color": "#19d3f3",
            "line": {
             "width": 3
            },
            "opacity": 0.8,
            "size": 14,
            "symbol": "square"
           },
           "mode": "markers",
           "name": "6",
           "orientation": "v",
           "showlegend": true,
           "type": "scatter",
           "x": [
            12
           ],
           "xaxis": "x",
           "y": [
            2
           ],
           "yaxis": "y"
          },
          {
           "hovertemplate": "bird=7<br>time=7<br>x=%{x}<br>y=%{y}<extra></extra>",
           "legendgroup": "7",
           "marker": {
            "color": "#FF6692",
            "line": {
             "width": 3
            },
            "opacity": 0.8,
            "size": 14,
            "symbol": "square"
           },
           "mode": "markers",
           "name": "7",
           "orientation": "v",
           "showlegend": true,
           "type": "scatter",
           "x": [
            10
           ],
           "xaxis": "x",
           "y": [
            27
           ],
           "yaxis": "y"
          },
          {
           "hovertemplate": "bird=8<br>time=7<br>x=%{x}<br>y=%{y}<extra></extra>",
           "legendgroup": "8",
           "marker": {
            "color": "#B6E880",
            "line": {
             "width": 3
            },
            "opacity": 0.8,
            "size": 14,
            "symbol": "square"
           },
           "mode": "markers",
           "name": "8",
           "orientation": "v",
           "showlegend": true,
           "type": "scatter",
           "x": [
            20
           ],
           "xaxis": "x",
           "y": [
            5
           ],
           "yaxis": "y"
          },
          {
           "hovertemplate": "bird=9<br>time=7<br>x=%{x}<br>y=%{y}<extra></extra>",
           "legendgroup": "9",
           "marker": {
            "color": "#FF97FF",
            "line": {
             "width": 3
            },
            "opacity": 0.8,
            "size": 14,
            "symbol": "square"
           },
           "mode": "markers",
           "name": "9",
           "orientation": "v",
           "showlegend": true,
           "type": "scatter",
           "x": [
            18
           ],
           "xaxis": "x",
           "y": [
            16
           ],
           "yaxis": "y"
          },
          {
           "hovertemplate": "bird=reward<br>time=7<br>x=%{x}<br>y=%{y}<extra></extra>",
           "legendgroup": "reward",
           "marker": {
            "color": "yellow",
            "symbol": "square"
           },
           "mode": "markers",
           "name": "reward",
           "orientation": "v",
           "showlegend": false,
           "type": "scatter",
           "x": [
            9,
            10,
            11,
            12,
            9,
            10,
            11,
            12,
            9,
            10,
            11,
            12,
            9,
            10,
            11,
            12
           ],
           "xaxis": "x",
           "y": [
            25,
            25,
            25,
            25,
            26,
            26,
            26,
            26,
            27,
            27,
            27,
            27,
            28,
            28,
            28,
            28
           ],
           "yaxis": "y"
          }
         ],
         "name": "7"
        },
        {
         "data": [
          {
           "hovertemplate": "bird=1<br>time=8<br>x=%{x}<br>y=%{y}<extra></extra>",
           "legendgroup": "1",
           "marker": {
            "color": "#636efa",
            "line": {
             "width": 3
            },
            "opacity": 0.8,
            "size": 14,
            "symbol": "square"
           },
           "mode": "markers",
           "name": "1",
           "orientation": "v",
           "showlegend": true,
           "type": "scatter",
           "x": [
            16
           ],
           "xaxis": "x",
           "y": [
            18
           ],
           "yaxis": "y"
          },
          {
           "hovertemplate": "bird=2<br>time=8<br>x=%{x}<br>y=%{y}<extra></extra>",
           "legendgroup": "2",
           "marker": {
            "color": "#EF553B",
            "line": {
             "width": 3
            },
            "opacity": 0.8,
            "size": 14,
            "symbol": "square"
           },
           "mode": "markers",
           "name": "2",
           "orientation": "v",
           "showlegend": true,
           "type": "scatter",
           "x": [
            0
           ],
           "xaxis": "x",
           "y": [
            9
           ],
           "yaxis": "y"
          },
          {
           "hovertemplate": "bird=3<br>time=8<br>x=%{x}<br>y=%{y}<extra></extra>",
           "legendgroup": "3",
           "marker": {
            "color": "#00cc96",
            "line": {
             "width": 3
            },
            "opacity": 0.8,
            "size": 14,
            "symbol": "square"
           },
           "mode": "markers",
           "name": "3",
           "orientation": "v",
           "showlegend": true,
           "type": "scatter",
           "x": [
            26
           ],
           "xaxis": "x",
           "y": [
            25
           ],
           "yaxis": "y"
          },
          {
           "hovertemplate": "bird=4<br>time=8<br>x=%{x}<br>y=%{y}<extra></extra>",
           "legendgroup": "4",
           "marker": {
            "color": "#ab63fa",
            "line": {
             "width": 3
            },
            "opacity": 0.8,
            "size": 14,
            "symbol": "square"
           },
           "mode": "markers",
           "name": "4",
           "orientation": "v",
           "showlegend": true,
           "type": "scatter",
           "x": [
            22
           ],
           "xaxis": "x",
           "y": [
            15
           ],
           "yaxis": "y"
          },
          {
           "hovertemplate": "bird=5<br>time=8<br>x=%{x}<br>y=%{y}<extra></extra>",
           "legendgroup": "5",
           "marker": {
            "color": "#FFA15A",
            "line": {
             "width": 3
            },
            "opacity": 0.8,
            "size": 14,
            "symbol": "square"
           },
           "mode": "markers",
           "name": "5",
           "orientation": "v",
           "showlegend": true,
           "type": "scatter",
           "x": [
            20
           ],
           "xaxis": "x",
           "y": [
            9
           ],
           "yaxis": "y"
          },
          {
           "hovertemplate": "bird=6<br>time=8<br>x=%{x}<br>y=%{y}<extra></extra>",
           "legendgroup": "6",
           "marker": {
            "color": "#19d3f3",
            "line": {
             "width": 3
            },
            "opacity": 0.8,
            "size": 14,
            "symbol": "square"
           },
           "mode": "markers",
           "name": "6",
           "orientation": "v",
           "showlegend": true,
           "type": "scatter",
           "x": [
            14
           ],
           "xaxis": "x",
           "y": [
            0
           ],
           "yaxis": "y"
          },
          {
           "hovertemplate": "bird=7<br>time=8<br>x=%{x}<br>y=%{y}<extra></extra>",
           "legendgroup": "7",
           "marker": {
            "color": "#FF6692",
            "line": {
             "width": 3
            },
            "opacity": 0.8,
            "size": 14,
            "symbol": "square"
           },
           "mode": "markers",
           "name": "7",
           "orientation": "v",
           "showlegend": true,
           "type": "scatter",
           "x": [
            11
           ],
           "xaxis": "x",
           "y": [
            27
           ],
           "yaxis": "y"
          },
          {
           "hovertemplate": "bird=8<br>time=8<br>x=%{x}<br>y=%{y}<extra></extra>",
           "legendgroup": "8",
           "marker": {
            "color": "#B6E880",
            "line": {
             "width": 3
            },
            "opacity": 0.8,
            "size": 14,
            "symbol": "square"
           },
           "mode": "markers",
           "name": "8",
           "orientation": "v",
           "showlegend": true,
           "type": "scatter",
           "x": [
            19
           ],
           "xaxis": "x",
           "y": [
            5
           ],
           "yaxis": "y"
          },
          {
           "hovertemplate": "bird=9<br>time=8<br>x=%{x}<br>y=%{y}<extra></extra>",
           "legendgroup": "9",
           "marker": {
            "color": "#FF97FF",
            "line": {
             "width": 3
            },
            "opacity": 0.8,
            "size": 14,
            "symbol": "square"
           },
           "mode": "markers",
           "name": "9",
           "orientation": "v",
           "showlegend": true,
           "type": "scatter",
           "x": [
            17
           ],
           "xaxis": "x",
           "y": [
            18
           ],
           "yaxis": "y"
          },
          {
           "hovertemplate": "bird=reward<br>time=8<br>x=%{x}<br>y=%{y}<extra></extra>",
           "legendgroup": "reward",
           "marker": {
            "color": "yellow",
            "symbol": "square"
           },
           "mode": "markers",
           "name": "reward",
           "orientation": "v",
           "showlegend": false,
           "type": "scatter",
           "x": [
            9,
            10,
            11,
            12,
            9,
            10,
            11,
            12,
            9,
            10,
            12,
            9,
            10,
            11,
            12
           ],
           "xaxis": "x",
           "y": [
            25,
            25,
            25,
            25,
            26,
            26,
            26,
            26,
            27,
            27,
            27,
            28,
            28,
            28,
            28
           ],
           "yaxis": "y"
          }
         ],
         "name": "8"
        },
        {
         "data": [
          {
           "hovertemplate": "bird=1<br>time=9<br>x=%{x}<br>y=%{y}<extra></extra>",
           "legendgroup": "1",
           "marker": {
            "color": "#636efa",
            "line": {
             "width": 3
            },
            "opacity": 0.8,
            "size": 14,
            "symbol": "square"
           },
           "mode": "markers",
           "name": "1",
           "orientation": "v",
           "showlegend": true,
           "type": "scatter",
           "x": [
            15
           ],
           "xaxis": "x",
           "y": [
            19
           ],
           "yaxis": "y"
          },
          {
           "hovertemplate": "bird=2<br>time=9<br>x=%{x}<br>y=%{y}<extra></extra>",
           "legendgroup": "2",
           "marker": {
            "color": "#EF553B",
            "line": {
             "width": 3
            },
            "opacity": 0.8,
            "size": 14,
            "symbol": "square"
           },
           "mode": "markers",
           "name": "2",
           "orientation": "v",
           "showlegend": true,
           "type": "scatter",
           "x": [
            2
           ],
           "xaxis": "x",
           "y": [
            11
           ],
           "yaxis": "y"
          },
          {
           "hovertemplate": "bird=3<br>time=9<br>x=%{x}<br>y=%{y}<extra></extra>",
           "legendgroup": "3",
           "marker": {
            "color": "#00cc96",
            "line": {
             "width": 3
            },
            "opacity": 0.8,
            "size": 14,
            "symbol": "square"
           },
           "mode": "markers",
           "name": "3",
           "orientation": "v",
           "showlegend": true,
           "type": "scatter",
           "x": [
            26
           ],
           "xaxis": "x",
           "y": [
            26
           ],
           "yaxis": "y"
          },
          {
           "hovertemplate": "bird=4<br>time=9<br>x=%{x}<br>y=%{y}<extra></extra>",
           "legendgroup": "4",
           "marker": {
            "color": "#ab63fa",
            "line": {
             "width": 3
            },
            "opacity": 0.8,
            "size": 14,
            "symbol": "square"
           },
           "mode": "markers",
           "name": "4",
           "orientation": "v",
           "showlegend": true,
           "type": "scatter",
           "x": [
            22
           ],
           "xaxis": "x",
           "y": [
            17
           ],
           "yaxis": "y"
          },
          {
           "hovertemplate": "bird=5<br>time=9<br>x=%{x}<br>y=%{y}<extra></extra>",
           "legendgroup": "5",
           "marker": {
            "color": "#FFA15A",
            "line": {
             "width": 3
            },
            "opacity": 0.8,
            "size": 14,
            "symbol": "square"
           },
           "mode": "markers",
           "name": "5",
           "orientation": "v",
           "showlegend": true,
           "type": "scatter",
           "x": [
            22
           ],
           "xaxis": "x",
           "y": [
            10
           ],
           "yaxis": "y"
          },
          {
           "hovertemplate": "bird=6<br>time=9<br>x=%{x}<br>y=%{y}<extra></extra>",
           "legendgroup": "6",
           "marker": {
            "color": "#19d3f3",
            "line": {
             "width": 3
            },
            "opacity": 0.8,
            "size": 14,
            "symbol": "square"
           },
           "mode": "markers",
           "name": "6",
           "orientation": "v",
           "showlegend": true,
           "type": "scatter",
           "x": [
            14
           ],
           "xaxis": "x",
           "y": [
            0
           ],
           "yaxis": "y"
          },
          {
           "hovertemplate": "bird=7<br>time=9<br>x=%{x}<br>y=%{y}<extra></extra>",
           "legendgroup": "7",
           "marker": {
            "color": "#FF6692",
            "line": {
             "width": 3
            },
            "opacity": 0.8,
            "size": 14,
            "symbol": "square"
           },
           "mode": "markers",
           "name": "7",
           "orientation": "v",
           "showlegend": true,
           "type": "scatter",
           "x": [
            10
           ],
           "xaxis": "x",
           "y": [
            27
           ],
           "yaxis": "y"
          },
          {
           "hovertemplate": "bird=8<br>time=9<br>x=%{x}<br>y=%{y}<extra></extra>",
           "legendgroup": "8",
           "marker": {
            "color": "#B6E880",
            "line": {
             "width": 3
            },
            "opacity": 0.8,
            "size": 14,
            "symbol": "square"
           },
           "mode": "markers",
           "name": "8",
           "orientation": "v",
           "showlegend": true,
           "type": "scatter",
           "x": [
            17
           ],
           "xaxis": "x",
           "y": [
            3
           ],
           "yaxis": "y"
          },
          {
           "hovertemplate": "bird=9<br>time=9<br>x=%{x}<br>y=%{y}<extra></extra>",
           "legendgroup": "9",
           "marker": {
            "color": "#FF97FF",
            "line": {
             "width": 3
            },
            "opacity": 0.8,
            "size": 14,
            "symbol": "square"
           },
           "mode": "markers",
           "name": "9",
           "orientation": "v",
           "showlegend": true,
           "type": "scatter",
           "x": [
            19
           ],
           "xaxis": "x",
           "y": [
            16
           ],
           "yaxis": "y"
          },
          {
           "hovertemplate": "bird=reward<br>time=9<br>x=%{x}<br>y=%{y}<extra></extra>",
           "legendgroup": "reward",
           "marker": {
            "color": "yellow",
            "symbol": "square"
           },
           "mode": "markers",
           "name": "reward",
           "orientation": "v",
           "showlegend": false,
           "type": "scatter",
           "x": [
            9,
            10,
            11,
            12,
            9,
            10,
            11,
            12,
            9,
            10,
            12,
            9,
            10,
            11,
            12
           ],
           "xaxis": "x",
           "y": [
            25,
            25,
            25,
            25,
            26,
            26,
            26,
            26,
            27,
            27,
            27,
            28,
            28,
            28,
            28
           ],
           "yaxis": "y"
          }
         ],
         "name": "9"
        },
        {
         "data": [
          {
           "hovertemplate": "bird=1<br>time=10<br>x=%{x}<br>y=%{y}<extra></extra>",
           "legendgroup": "1",
           "marker": {
            "color": "#636efa",
            "line": {
             "width": 3
            },
            "opacity": 0.8,
            "size": 14,
            "symbol": "square"
           },
           "mode": "markers",
           "name": "1",
           "orientation": "v",
           "showlegend": true,
           "type": "scatter",
           "x": [
            16
           ],
           "xaxis": "x",
           "y": [
            20
           ],
           "yaxis": "y"
          },
          {
           "hovertemplate": "bird=2<br>time=10<br>x=%{x}<br>y=%{y}<extra></extra>",
           "legendgroup": "2",
           "marker": {
            "color": "#EF553B",
            "line": {
             "width": 3
            },
            "opacity": 0.8,
            "size": 14,
            "symbol": "square"
           },
           "mode": "markers",
           "name": "2",
           "orientation": "v",
           "showlegend": true,
           "type": "scatter",
           "x": [
            0
           ],
           "xaxis": "x",
           "y": [
            12
           ],
           "yaxis": "y"
          },
          {
           "hovertemplate": "bird=3<br>time=10<br>x=%{x}<br>y=%{y}<extra></extra>",
           "legendgroup": "3",
           "marker": {
            "color": "#00cc96",
            "line": {
             "width": 3
            },
            "opacity": 0.8,
            "size": 14,
            "symbol": "square"
           },
           "mode": "markers",
           "name": "3",
           "orientation": "v",
           "showlegend": true,
           "type": "scatter",
           "x": [
            25
           ],
           "xaxis": "x",
           "y": [
            27
           ],
           "yaxis": "y"
          },
          {
           "hovertemplate": "bird=4<br>time=10<br>x=%{x}<br>y=%{y}<extra></extra>",
           "legendgroup": "4",
           "marker": {
            "color": "#ab63fa",
            "line": {
             "width": 3
            },
            "opacity": 0.8,
            "size": 14,
            "symbol": "square"
           },
           "mode": "markers",
           "name": "4",
           "orientation": "v",
           "showlegend": true,
           "type": "scatter",
           "x": [
            25
           ],
           "xaxis": "x",
           "y": [
            17
           ],
           "yaxis": "y"
          },
          {
           "hovertemplate": "bird=5<br>time=10<br>x=%{x}<br>y=%{y}<extra></extra>",
           "legendgroup": "5",
           "marker": {
            "color": "#FFA15A",
            "line": {
             "width": 3
            },
            "opacity": 0.8,
            "size": 14,
            "symbol": "square"
           },
           "mode": "markers",
           "name": "5",
           "orientation": "v",
           "showlegend": true,
           "type": "scatter",
           "x": [
            21
           ],
           "xaxis": "x",
           "y": [
            11
           ],
           "yaxis": "y"
          },
          {
           "hovertemplate": "bird=6<br>time=10<br>x=%{x}<br>y=%{y}<extra></extra>",
           "legendgroup": "6",
           "marker": {
            "color": "#19d3f3",
            "line": {
             "width": 3
            },
            "opacity": 0.8,
            "size": 14,
            "symbol": "square"
           },
           "mode": "markers",
           "name": "6",
           "orientation": "v",
           "showlegend": true,
           "type": "scatter",
           "x": [
            12
           ],
           "xaxis": "x",
           "y": [
            2
           ],
           "yaxis": "y"
          },
          {
           "hovertemplate": "bird=7<br>time=10<br>x=%{x}<br>y=%{y}<extra></extra>",
           "legendgroup": "7",
           "marker": {
            "color": "#FF6692",
            "line": {
             "width": 3
            },
            "opacity": 0.8,
            "size": 14,
            "symbol": "square"
           },
           "mode": "markers",
           "name": "7",
           "orientation": "v",
           "showlegend": true,
           "type": "scatter",
           "x": [
            10
           ],
           "xaxis": "x",
           "y": [
            27
           ],
           "yaxis": "y"
          },
          {
           "hovertemplate": "bird=8<br>time=10<br>x=%{x}<br>y=%{y}<extra></extra>",
           "legendgroup": "8",
           "marker": {
            "color": "#B6E880",
            "line": {
             "width": 3
            },
            "opacity": 0.8,
            "size": 14,
            "symbol": "square"
           },
           "mode": "markers",
           "name": "8",
           "orientation": "v",
           "showlegend": true,
           "type": "scatter",
           "x": [
            16
           ],
           "xaxis": "x",
           "y": [
            5
           ],
           "yaxis": "y"
          },
          {
           "hovertemplate": "bird=9<br>time=10<br>x=%{x}<br>y=%{y}<extra></extra>",
           "legendgroup": "9",
           "marker": {
            "color": "#FF97FF",
            "line": {
             "width": 3
            },
            "opacity": 0.8,
            "size": 14,
            "symbol": "square"
           },
           "mode": "markers",
           "name": "9",
           "orientation": "v",
           "showlegend": true,
           "type": "scatter",
           "x": [
            19
           ],
           "xaxis": "x",
           "y": [
            15
           ],
           "yaxis": "y"
          },
          {
           "hovertemplate": "bird=reward<br>time=10<br>x=%{x}<br>y=%{y}<extra></extra>",
           "legendgroup": "reward",
           "marker": {
            "color": "yellow",
            "symbol": "square"
           },
           "mode": "markers",
           "name": "reward",
           "orientation": "v",
           "showlegend": false,
           "type": "scatter",
           "x": [
            9,
            10,
            11,
            12,
            9,
            10,
            11,
            12,
            9,
            12,
            9,
            10,
            11,
            12
           ],
           "xaxis": "x",
           "y": [
            25,
            25,
            25,
            25,
            26,
            26,
            26,
            26,
            27,
            27,
            28,
            28,
            28,
            28
           ],
           "yaxis": "y"
          }
         ],
         "name": "10"
        },
        {
         "data": [
          {
           "hovertemplate": "bird=1<br>time=11<br>x=%{x}<br>y=%{y}<extra></extra>",
           "legendgroup": "1",
           "marker": {
            "color": "#636efa",
            "line": {
             "width": 3
            },
            "opacity": 0.8,
            "size": 14,
            "symbol": "square"
           },
           "mode": "markers",
           "name": "1",
           "orientation": "v",
           "showlegend": true,
           "type": "scatter",
           "x": [
            17
           ],
           "xaxis": "x",
           "y": [
            21
           ],
           "yaxis": "y"
          },
          {
           "hovertemplate": "bird=2<br>time=11<br>x=%{x}<br>y=%{y}<extra></extra>",
           "legendgroup": "2",
           "marker": {
            "color": "#EF553B",
            "line": {
             "width": 3
            },
            "opacity": 0.8,
            "size": 14,
            "symbol": "square"
           },
           "mode": "markers",
           "name": "2",
           "orientation": "v",
           "showlegend": true,
           "type": "scatter",
           "x": [
            1
           ],
           "xaxis": "x",
           "y": [
            14
           ],
           "yaxis": "y"
          },
          {
           "hovertemplate": "bird=3<br>time=11<br>x=%{x}<br>y=%{y}<extra></extra>",
           "legendgroup": "3",
           "marker": {
            "color": "#00cc96",
            "line": {
             "width": 3
            },
            "opacity": 0.8,
            "size": 14,
            "symbol": "square"
           },
           "mode": "markers",
           "name": "3",
           "orientation": "v",
           "showlegend": true,
           "type": "scatter",
           "x": [
            26
           ],
           "xaxis": "x",
           "y": [
            25
           ],
           "yaxis": "y"
          },
          {
           "hovertemplate": "bird=4<br>time=11<br>x=%{x}<br>y=%{y}<extra></extra>",
           "legendgroup": "4",
           "marker": {
            "color": "#ab63fa",
            "line": {
             "width": 3
            },
            "opacity": 0.8,
            "size": 14,
            "symbol": "square"
           },
           "mode": "markers",
           "name": "4",
           "orientation": "v",
           "showlegend": true,
           "type": "scatter",
           "x": [
            25
           ],
           "xaxis": "x",
           "y": [
            18
           ],
           "yaxis": "y"
          },
          {
           "hovertemplate": "bird=5<br>time=11<br>x=%{x}<br>y=%{y}<extra></extra>",
           "legendgroup": "5",
           "marker": {
            "color": "#FFA15A",
            "line": {
             "width": 3
            },
            "opacity": 0.8,
            "size": 14,
            "symbol": "square"
           },
           "mode": "markers",
           "name": "5",
           "orientation": "v",
           "showlegend": true,
           "type": "scatter",
           "x": [
            20
           ],
           "xaxis": "x",
           "y": [
            10
           ],
           "yaxis": "y"
          },
          {
           "hovertemplate": "bird=6<br>time=11<br>x=%{x}<br>y=%{y}<extra></extra>",
           "legendgroup": "6",
           "marker": {
            "color": "#19d3f3",
            "line": {
             "width": 3
            },
            "opacity": 0.8,
            "size": 14,
            "symbol": "square"
           },
           "mode": "markers",
           "name": "6",
           "orientation": "v",
           "showlegend": true,
           "type": "scatter",
           "x": [
            10
           ],
           "xaxis": "x",
           "y": [
            0
           ],
           "yaxis": "y"
          },
          {
           "hovertemplate": "bird=7<br>time=11<br>x=%{x}<br>y=%{y}<extra></extra>",
           "legendgroup": "7",
           "marker": {
            "color": "#FF6692",
            "line": {
             "width": 3
            },
            "opacity": 0.8,
            "size": 14,
            "symbol": "square"
           },
           "mode": "markers",
           "name": "7",
           "orientation": "v",
           "showlegend": true,
           "type": "scatter",
           "x": [
            10
           ],
           "xaxis": "x",
           "y": [
            27
           ],
           "yaxis": "y"
          },
          {
           "hovertemplate": "bird=8<br>time=11<br>x=%{x}<br>y=%{y}<extra></extra>",
           "legendgroup": "8",
           "marker": {
            "color": "#B6E880",
            "line": {
             "width": 3
            },
            "opacity": 0.8,
            "size": 14,
            "symbol": "square"
           },
           "mode": "markers",
           "name": "8",
           "orientation": "v",
           "showlegend": true,
           "type": "scatter",
           "x": [
            17
           ],
           "xaxis": "x",
           "y": [
            4
           ],
           "yaxis": "y"
          },
          {
           "hovertemplate": "bird=9<br>time=11<br>x=%{x}<br>y=%{y}<extra></extra>",
           "legendgroup": "9",
           "marker": {
            "color": "#FF97FF",
            "line": {
             "width": 3
            },
            "opacity": 0.8,
            "size": 14,
            "symbol": "square"
           },
           "mode": "markers",
           "name": "9",
           "orientation": "v",
           "showlegend": true,
           "type": "scatter",
           "x": [
            17
           ],
           "xaxis": "x",
           "y": [
            17
           ],
           "yaxis": "y"
          },
          {
           "hovertemplate": "bird=reward<br>time=11<br>x=%{x}<br>y=%{y}<extra></extra>",
           "legendgroup": "reward",
           "marker": {
            "color": "yellow",
            "symbol": "square"
           },
           "mode": "markers",
           "name": "reward",
           "orientation": "v",
           "showlegend": false,
           "type": "scatter",
           "x": [
            9,
            10,
            11,
            12,
            9,
            10,
            11,
            12,
            9,
            12,
            9,
            10,
            11,
            12
           ],
           "xaxis": "x",
           "y": [
            25,
            25,
            25,
            25,
            26,
            26,
            26,
            26,
            27,
            27,
            28,
            28,
            28,
            28
           ],
           "yaxis": "y"
          }
         ],
         "name": "11"
        },
        {
         "data": [
          {
           "hovertemplate": "bird=1<br>time=12<br>x=%{x}<br>y=%{y}<extra></extra>",
           "legendgroup": "1",
           "marker": {
            "color": "#636efa",
            "line": {
             "width": 3
            },
            "opacity": 0.8,
            "size": 14,
            "symbol": "square"
           },
           "mode": "markers",
           "name": "1",
           "orientation": "v",
           "showlegend": true,
           "type": "scatter",
           "x": [
            18
           ],
           "xaxis": "x",
           "y": [
            20
           ],
           "yaxis": "y"
          },
          {
           "hovertemplate": "bird=2<br>time=12<br>x=%{x}<br>y=%{y}<extra></extra>",
           "legendgroup": "2",
           "marker": {
            "color": "#EF553B",
            "line": {
             "width": 3
            },
            "opacity": 0.8,
            "size": 14,
            "symbol": "square"
           },
           "mode": "markers",
           "name": "2",
           "orientation": "v",
           "showlegend": true,
           "type": "scatter",
           "x": [
            2
           ],
           "xaxis": "x",
           "y": [
            12
           ],
           "yaxis": "y"
          },
          {
           "hovertemplate": "bird=3<br>time=12<br>x=%{x}<br>y=%{y}<extra></extra>",
           "legendgroup": "3",
           "marker": {
            "color": "#00cc96",
            "line": {
             "width": 3
            },
            "opacity": 0.8,
            "size": 14,
            "symbol": "square"
           },
           "mode": "markers",
           "name": "3",
           "orientation": "v",
           "showlegend": true,
           "type": "scatter",
           "x": [
            27
           ],
           "xaxis": "x",
           "y": [
            24
           ],
           "yaxis": "y"
          },
          {
           "hovertemplate": "bird=4<br>time=12<br>x=%{x}<br>y=%{y}<extra></extra>",
           "legendgroup": "4",
           "marker": {
            "color": "#ab63fa",
            "line": {
             "width": 3
            },
            "opacity": 0.8,
            "size": 14,
            "symbol": "square"
           },
           "mode": "markers",
           "name": "4",
           "orientation": "v",
           "showlegend": true,
           "type": "scatter",
           "x": [
            24
           ],
           "xaxis": "x",
           "y": [
            18
           ],
           "yaxis": "y"
          },
          {
           "hovertemplate": "bird=5<br>time=12<br>x=%{x}<br>y=%{y}<extra></extra>",
           "legendgroup": "5",
           "marker": {
            "color": "#FFA15A",
            "line": {
             "width": 3
            },
            "opacity": 0.8,
            "size": 14,
            "symbol": "square"
           },
           "mode": "markers",
           "name": "5",
           "orientation": "v",
           "showlegend": true,
           "type": "scatter",
           "x": [
            22
           ],
           "xaxis": "x",
           "y": [
            12
           ],
           "yaxis": "y"
          },
          {
           "hovertemplate": "bird=6<br>time=12<br>x=%{x}<br>y=%{y}<extra></extra>",
           "legendgroup": "6",
           "marker": {
            "color": "#19d3f3",
            "line": {
             "width": 3
            },
            "opacity": 0.8,
            "size": 14,
            "symbol": "square"
           },
           "mode": "markers",
           "name": "6",
           "orientation": "v",
           "showlegend": true,
           "type": "scatter",
           "x": [
            9
           ],
           "xaxis": "x",
           "y": [
            0
           ],
           "yaxis": "y"
          },
          {
           "hovertemplate": "bird=7<br>time=12<br>x=%{x}<br>y=%{y}<extra></extra>",
           "legendgroup": "7",
           "marker": {
            "color": "#FF6692",
            "line": {
             "width": 3
            },
            "opacity": 0.8,
            "size": 14,
            "symbol": "square"
           },
           "mode": "markers",
           "name": "7",
           "orientation": "v",
           "showlegend": true,
           "type": "scatter",
           "x": [
            10
           ],
           "xaxis": "x",
           "y": [
            27
           ],
           "yaxis": "y"
          },
          {
           "hovertemplate": "bird=8<br>time=12<br>x=%{x}<br>y=%{y}<extra></extra>",
           "legendgroup": "8",
           "marker": {
            "color": "#B6E880",
            "line": {
             "width": 3
            },
            "opacity": 0.8,
            "size": 14,
            "symbol": "square"
           },
           "mode": "markers",
           "name": "8",
           "orientation": "v",
           "showlegend": true,
           "type": "scatter",
           "x": [
            15
           ],
           "xaxis": "x",
           "y": [
            3
           ],
           "yaxis": "y"
          },
          {
           "hovertemplate": "bird=9<br>time=12<br>x=%{x}<br>y=%{y}<extra></extra>",
           "legendgroup": "9",
           "marker": {
            "color": "#FF97FF",
            "line": {
             "width": 3
            },
            "opacity": 0.8,
            "size": 14,
            "symbol": "square"
           },
           "mode": "markers",
           "name": "9",
           "orientation": "v",
           "showlegend": true,
           "type": "scatter",
           "x": [
            15
           ],
           "xaxis": "x",
           "y": [
            19
           ],
           "yaxis": "y"
          },
          {
           "hovertemplate": "bird=reward<br>time=12<br>x=%{x}<br>y=%{y}<extra></extra>",
           "legendgroup": "reward",
           "marker": {
            "color": "yellow",
            "symbol": "square"
           },
           "mode": "markers",
           "name": "reward",
           "orientation": "v",
           "showlegend": false,
           "type": "scatter",
           "x": [
            9,
            10,
            11,
            12,
            9,
            10,
            11,
            12,
            9,
            12,
            9,
            10,
            11,
            12
           ],
           "xaxis": "x",
           "y": [
            25,
            25,
            25,
            25,
            26,
            26,
            26,
            26,
            27,
            27,
            28,
            28,
            28,
            28
           ],
           "yaxis": "y"
          }
         ],
         "name": "12"
        },
        {
         "data": [
          {
           "hovertemplate": "bird=1<br>time=13<br>x=%{x}<br>y=%{y}<extra></extra>",
           "legendgroup": "1",
           "marker": {
            "color": "#636efa",
            "line": {
             "width": 3
            },
            "opacity": 0.8,
            "size": 14,
            "symbol": "square"
           },
           "mode": "markers",
           "name": "1",
           "orientation": "v",
           "showlegend": true,
           "type": "scatter",
           "x": [
            21
           ],
           "xaxis": "x",
           "y": [
            20
           ],
           "yaxis": "y"
          },
          {
           "hovertemplate": "bird=2<br>time=13<br>x=%{x}<br>y=%{y}<extra></extra>",
           "legendgroup": "2",
           "marker": {
            "color": "#EF553B",
            "line": {
             "width": 3
            },
            "opacity": 0.8,
            "size": 14,
            "symbol": "square"
           },
           "mode": "markers",
           "name": "2",
           "orientation": "v",
           "showlegend": true,
           "type": "scatter",
           "x": [
            1
           ],
           "xaxis": "x",
           "y": [
            13
           ],
           "yaxis": "y"
          },
          {
           "hovertemplate": "bird=3<br>time=13<br>x=%{x}<br>y=%{y}<extra></extra>",
           "legendgroup": "3",
           "marker": {
            "color": "#00cc96",
            "line": {
             "width": 3
            },
            "opacity": 0.8,
            "size": 14,
            "symbol": "square"
           },
           "mode": "markers",
           "name": "3",
           "orientation": "v",
           "showlegend": true,
           "type": "scatter",
           "x": [
            25
           ],
           "xaxis": "x",
           "y": [
            23
           ],
           "yaxis": "y"
          },
          {
           "hovertemplate": "bird=4<br>time=13<br>x=%{x}<br>y=%{y}<extra></extra>",
           "legendgroup": "4",
           "marker": {
            "color": "#ab63fa",
            "line": {
             "width": 3
            },
            "opacity": 0.8,
            "size": 14,
            "symbol": "square"
           },
           "mode": "markers",
           "name": "4",
           "orientation": "v",
           "showlegend": true,
           "type": "scatter",
           "x": [
            24
           ],
           "xaxis": "x",
           "y": [
            19
           ],
           "yaxis": "y"
          },
          {
           "hovertemplate": "bird=5<br>time=13<br>x=%{x}<br>y=%{y}<extra></extra>",
           "legendgroup": "5",
           "marker": {
            "color": "#FFA15A",
            "line": {
             "width": 3
            },
            "opacity": 0.8,
            "size": 14,
            "symbol": "square"
           },
           "mode": "markers",
           "name": "5",
           "orientation": "v",
           "showlegend": true,
           "type": "scatter",
           "x": [
            20
           ],
           "xaxis": "x",
           "y": [
            13
           ],
           "yaxis": "y"
          },
          {
           "hovertemplate": "bird=6<br>time=13<br>x=%{x}<br>y=%{y}<extra></extra>",
           "legendgroup": "6",
           "marker": {
            "color": "#19d3f3",
            "line": {
             "width": 3
            },
            "opacity": 0.8,
            "size": 14,
            "symbol": "square"
           },
           "mode": "markers",
           "name": "6",
           "orientation": "v",
           "showlegend": true,
           "type": "scatter",
           "x": [
            9
           ],
           "xaxis": "x",
           "y": [
            2
           ],
           "yaxis": "y"
          },
          {
           "hovertemplate": "bird=7<br>time=13<br>x=%{x}<br>y=%{y}<extra></extra>",
           "legendgroup": "7",
           "marker": {
            "color": "#FF6692",
            "line": {
             "width": 3
            },
            "opacity": 0.8,
            "size": 14,
            "symbol": "square"
           },
           "mode": "markers",
           "name": "7",
           "orientation": "v",
           "showlegend": true,
           "type": "scatter",
           "x": [
            11
           ],
           "xaxis": "x",
           "y": [
            27
           ],
           "yaxis": "y"
          },
          {
           "hovertemplate": "bird=8<br>time=13<br>x=%{x}<br>y=%{y}<extra></extra>",
           "legendgroup": "8",
           "marker": {
            "color": "#B6E880",
            "line": {
             "width": 3
            },
            "opacity": 0.8,
            "size": 14,
            "symbol": "square"
           },
           "mode": "markers",
           "name": "8",
           "orientation": "v",
           "showlegend": true,
           "type": "scatter",
           "x": [
            16
           ],
           "xaxis": "x",
           "y": [
            2
           ],
           "yaxis": "y"
          },
          {
           "hovertemplate": "bird=9<br>time=13<br>x=%{x}<br>y=%{y}<extra></extra>",
           "legendgroup": "9",
           "marker": {
            "color": "#FF97FF",
            "line": {
             "width": 3
            },
            "opacity": 0.8,
            "size": 14,
            "symbol": "square"
           },
           "mode": "markers",
           "name": "9",
           "orientation": "v",
           "showlegend": true,
           "type": "scatter",
           "x": [
            17
           ],
           "xaxis": "x",
           "y": [
            19
           ],
           "yaxis": "y"
          },
          {
           "hovertemplate": "bird=reward<br>time=13<br>x=%{x}<br>y=%{y}<extra></extra>",
           "legendgroup": "reward",
           "marker": {
            "color": "yellow",
            "symbol": "square"
           },
           "mode": "markers",
           "name": "reward",
           "orientation": "v",
           "showlegend": false,
           "type": "scatter",
           "x": [
            9,
            10,
            11,
            12,
            9,
            10,
            11,
            12,
            9,
            12,
            9,
            10,
            11,
            12
           ],
           "xaxis": "x",
           "y": [
            25,
            25,
            25,
            25,
            26,
            26,
            26,
            26,
            27,
            27,
            28,
            28,
            28,
            28
           ],
           "yaxis": "y"
          }
         ],
         "name": "13"
        },
        {
         "data": [
          {
           "hovertemplate": "bird=1<br>time=14<br>x=%{x}<br>y=%{y}<extra></extra>",
           "legendgroup": "1",
           "marker": {
            "color": "#636efa",
            "line": {
             "width": 3
            },
            "opacity": 0.8,
            "size": 14,
            "symbol": "square"
           },
           "mode": "markers",
           "name": "1",
           "orientation": "v",
           "showlegend": true,
           "type": "scatter",
           "x": [
            19
           ],
           "xaxis": "x",
           "y": [
            21
           ],
           "yaxis": "y"
          },
          {
           "hovertemplate": "bird=2<br>time=14<br>x=%{x}<br>y=%{y}<extra></extra>",
           "legendgroup": "2",
           "marker": {
            "color": "#EF553B",
            "line": {
             "width": 3
            },
            "opacity": 0.8,
            "size": 14,
            "symbol": "square"
           },
           "mode": "markers",
           "name": "2",
           "orientation": "v",
           "showlegend": true,
           "type": "scatter",
           "x": [
            0
           ],
           "xaxis": "x",
           "y": [
            12
           ],
           "yaxis": "y"
          },
          {
           "hovertemplate": "bird=3<br>time=14<br>x=%{x}<br>y=%{y}<extra></extra>",
           "legendgroup": "3",
           "marker": {
            "color": "#00cc96",
            "line": {
             "width": 3
            },
            "opacity": 0.8,
            "size": 14,
            "symbol": "square"
           },
           "mode": "markers",
           "name": "3",
           "orientation": "v",
           "showlegend": true,
           "type": "scatter",
           "x": [
            23
           ],
           "xaxis": "x",
           "y": [
            25
           ],
           "yaxis": "y"
          },
          {
           "hovertemplate": "bird=4<br>time=14<br>x=%{x}<br>y=%{y}<extra></extra>",
           "legendgroup": "4",
           "marker": {
            "color": "#ab63fa",
            "line": {
             "width": 3
            },
            "opacity": 0.8,
            "size": 14,
            "symbol": "square"
           },
           "mode": "markers",
           "name": "4",
           "orientation": "v",
           "showlegend": true,
           "type": "scatter",
           "x": [
            26
           ],
           "xaxis": "x",
           "y": [
            19
           ],
           "yaxis": "y"
          },
          {
           "hovertemplate": "bird=5<br>time=14<br>x=%{x}<br>y=%{y}<extra></extra>",
           "legendgroup": "5",
           "marker": {
            "color": "#FFA15A",
            "line": {
             "width": 3
            },
            "opacity": 0.8,
            "size": 14,
            "symbol": "square"
           },
           "mode": "markers",
           "name": "5",
           "orientation": "v",
           "showlegend": true,
           "type": "scatter",
           "x": [
            19
           ],
           "xaxis": "x",
           "y": [
            12
           ],
           "yaxis": "y"
          },
          {
           "hovertemplate": "bird=6<br>time=14<br>x=%{x}<br>y=%{y}<extra></extra>",
           "legendgroup": "6",
           "marker": {
            "color": "#19d3f3",
            "line": {
             "width": 3
            },
            "opacity": 0.8,
            "size": 14,
            "symbol": "square"
           },
           "mode": "markers",
           "name": "6",
           "orientation": "v",
           "showlegend": true,
           "type": "scatter",
           "x": [
            7
           ],
           "xaxis": "x",
           "y": [
            4
           ],
           "yaxis": "y"
          },
          {
           "hovertemplate": "bird=7<br>time=14<br>x=%{x}<br>y=%{y}<extra></extra>",
           "legendgroup": "7",
           "marker": {
            "color": "#FF6692",
            "line": {
             "width": 3
            },
            "opacity": 0.8,
            "size": 14,
            "symbol": "square"
           },
           "mode": "markers",
           "name": "7",
           "orientation": "v",
           "showlegend": true,
           "type": "scatter",
           "x": [
            10
           ],
           "xaxis": "x",
           "y": [
            27
           ],
           "yaxis": "y"
          },
          {
           "hovertemplate": "bird=8<br>time=14<br>x=%{x}<br>y=%{y}<extra></extra>",
           "legendgroup": "8",
           "marker": {
            "color": "#B6E880",
            "line": {
             "width": 3
            },
            "opacity": 0.8,
            "size": 14,
            "symbol": "square"
           },
           "mode": "markers",
           "name": "8",
           "orientation": "v",
           "showlegend": true,
           "type": "scatter",
           "x": [
            16
           ],
           "xaxis": "x",
           "y": [
            3
           ],
           "yaxis": "y"
          },
          {
           "hovertemplate": "bird=9<br>time=14<br>x=%{x}<br>y=%{y}<extra></extra>",
           "legendgroup": "9",
           "marker": {
            "color": "#FF97FF",
            "line": {
             "width": 3
            },
            "opacity": 0.8,
            "size": 14,
            "symbol": "square"
           },
           "mode": "markers",
           "name": "9",
           "orientation": "v",
           "showlegend": true,
           "type": "scatter",
           "x": [
            18
           ],
           "xaxis": "x",
           "y": [
            21
           ],
           "yaxis": "y"
          },
          {
           "hovertemplate": "bird=reward<br>time=14<br>x=%{x}<br>y=%{y}<extra></extra>",
           "legendgroup": "reward",
           "marker": {
            "color": "yellow",
            "symbol": "square"
           },
           "mode": "markers",
           "name": "reward",
           "orientation": "v",
           "showlegend": false,
           "type": "scatter",
           "x": [
            9,
            10,
            11,
            12,
            9,
            10,
            11,
            12,
            9,
            12,
            9,
            10,
            11,
            12
           ],
           "xaxis": "x",
           "y": [
            25,
            25,
            25,
            25,
            26,
            26,
            26,
            26,
            27,
            27,
            28,
            28,
            28,
            28
           ],
           "yaxis": "y"
          }
         ],
         "name": "14"
        },
        {
         "data": [
          {
           "hovertemplate": "bird=1<br>time=15<br>x=%{x}<br>y=%{y}<extra></extra>",
           "legendgroup": "1",
           "marker": {
            "color": "#636efa",
            "line": {
             "width": 3
            },
            "opacity": 0.8,
            "size": 14,
            "symbol": "square"
           },
           "mode": "markers",
           "name": "1",
           "orientation": "v",
           "showlegend": true,
           "type": "scatter",
           "x": [
            18
           ],
           "xaxis": "x",
           "y": [
            20
           ],
           "yaxis": "y"
          },
          {
           "hovertemplate": "bird=2<br>time=15<br>x=%{x}<br>y=%{y}<extra></extra>",
           "legendgroup": "2",
           "marker": {
            "color": "#EF553B",
            "line": {
             "width": 3
            },
            "opacity": 0.8,
            "size": 14,
            "symbol": "square"
           },
           "mode": "markers",
           "name": "2",
           "orientation": "v",
           "showlegend": true,
           "type": "scatter",
           "x": [
            1
           ],
           "xaxis": "x",
           "y": [
            11
           ],
           "yaxis": "y"
          },
          {
           "hovertemplate": "bird=3<br>time=15<br>x=%{x}<br>y=%{y}<extra></extra>",
           "legendgroup": "3",
           "marker": {
            "color": "#00cc96",
            "line": {
             "width": 3
            },
            "opacity": 0.8,
            "size": 14,
            "symbol": "square"
           },
           "mode": "markers",
           "name": "3",
           "orientation": "v",
           "showlegend": true,
           "type": "scatter",
           "x": [
            21
           ],
           "xaxis": "x",
           "y": [
            23
           ],
           "yaxis": "y"
          },
          {
           "hovertemplate": "bird=4<br>time=15<br>x=%{x}<br>y=%{y}<extra></extra>",
           "legendgroup": "4",
           "marker": {
            "color": "#ab63fa",
            "line": {
             "width": 3
            },
            "opacity": 0.8,
            "size": 14,
            "symbol": "square"
           },
           "mode": "markers",
           "name": "4",
           "orientation": "v",
           "showlegend": true,
           "type": "scatter",
           "x": [
            28
           ],
           "xaxis": "x",
           "y": [
            21
           ],
           "yaxis": "y"
          },
          {
           "hovertemplate": "bird=5<br>time=15<br>x=%{x}<br>y=%{y}<extra></extra>",
           "legendgroup": "5",
           "marker": {
            "color": "#FFA15A",
            "line": {
             "width": 3
            },
            "opacity": 0.8,
            "size": 14,
            "symbol": "square"
           },
           "mode": "markers",
           "name": "5",
           "orientation": "v",
           "showlegend": true,
           "type": "scatter",
           "x": [
            17
           ],
           "xaxis": "x",
           "y": [
            12
           ],
           "yaxis": "y"
          },
          {
           "hovertemplate": "bird=6<br>time=15<br>x=%{x}<br>y=%{y}<extra></extra>",
           "legendgroup": "6",
           "marker": {
            "color": "#19d3f3",
            "line": {
             "width": 3
            },
            "opacity": 0.8,
            "size": 14,
            "symbol": "square"
           },
           "mode": "markers",
           "name": "6",
           "orientation": "v",
           "showlegend": true,
           "type": "scatter",
           "x": [
            6
           ],
           "xaxis": "x",
           "y": [
            6
           ],
           "yaxis": "y"
          },
          {
           "hovertemplate": "bird=7<br>time=15<br>x=%{x}<br>y=%{y}<extra></extra>",
           "legendgroup": "7",
           "marker": {
            "color": "#FF6692",
            "line": {
             "width": 3
            },
            "opacity": 0.8,
            "size": 14,
            "symbol": "square"
           },
           "mode": "markers",
           "name": "7",
           "orientation": "v",
           "showlegend": true,
           "type": "scatter",
           "x": [
            11
           ],
           "xaxis": "x",
           "y": [
            27
           ],
           "yaxis": "y"
          },
          {
           "hovertemplate": "bird=8<br>time=15<br>x=%{x}<br>y=%{y}<extra></extra>",
           "legendgroup": "8",
           "marker": {
            "color": "#B6E880",
            "line": {
             "width": 3
            },
            "opacity": 0.8,
            "size": 14,
            "symbol": "square"
           },
           "mode": "markers",
           "name": "8",
           "orientation": "v",
           "showlegend": true,
           "type": "scatter",
           "x": [
            18
           ],
           "xaxis": "x",
           "y": [
            2
           ],
           "yaxis": "y"
          },
          {
           "hovertemplate": "bird=9<br>time=15<br>x=%{x}<br>y=%{y}<extra></extra>",
           "legendgroup": "9",
           "marker": {
            "color": "#FF97FF",
            "line": {
             "width": 3
            },
            "opacity": 0.8,
            "size": 14,
            "symbol": "square"
           },
           "mode": "markers",
           "name": "9",
           "orientation": "v",
           "showlegend": true,
           "type": "scatter",
           "x": [
            18
           ],
           "xaxis": "x",
           "y": [
            24
           ],
           "yaxis": "y"
          },
          {
           "hovertemplate": "bird=reward<br>time=15<br>x=%{x}<br>y=%{y}<extra></extra>",
           "legendgroup": "reward",
           "marker": {
            "color": "yellow",
            "symbol": "square"
           },
           "mode": "markers",
           "name": "reward",
           "orientation": "v",
           "showlegend": false,
           "type": "scatter",
           "x": [
            9,
            10,
            11,
            12,
            9,
            10,
            11,
            12,
            9,
            12,
            9,
            10,
            11,
            12
           ],
           "xaxis": "x",
           "y": [
            25,
            25,
            25,
            25,
            26,
            26,
            26,
            26,
            27,
            27,
            28,
            28,
            28,
            28
           ],
           "yaxis": "y"
          }
         ],
         "name": "15"
        },
        {
         "data": [
          {
           "hovertemplate": "bird=1<br>time=16<br>x=%{x}<br>y=%{y}<extra></extra>",
           "legendgroup": "1",
           "marker": {
            "color": "#636efa",
            "line": {
             "width": 3
            },
            "opacity": 0.8,
            "size": 14,
            "symbol": "square"
           },
           "mode": "markers",
           "name": "1",
           "orientation": "v",
           "showlegend": true,
           "type": "scatter",
           "x": [
            16
           ],
           "xaxis": "x",
           "y": [
            19
           ],
           "yaxis": "y"
          },
          {
           "hovertemplate": "bird=2<br>time=16<br>x=%{x}<br>y=%{y}<extra></extra>",
           "legendgroup": "2",
           "marker": {
            "color": "#EF553B",
            "line": {
             "width": 3
            },
            "opacity": 0.8,
            "size": 14,
            "symbol": "square"
           },
           "mode": "markers",
           "name": "2",
           "orientation": "v",
           "showlegend": true,
           "type": "scatter",
           "x": [
            2
           ],
           "xaxis": "x",
           "y": [
            13
           ],
           "yaxis": "y"
          },
          {
           "hovertemplate": "bird=3<br>time=16<br>x=%{x}<br>y=%{y}<extra></extra>",
           "legendgroup": "3",
           "marker": {
            "color": "#00cc96",
            "line": {
             "width": 3
            },
            "opacity": 0.8,
            "size": 14,
            "symbol": "square"
           },
           "mode": "markers",
           "name": "3",
           "orientation": "v",
           "showlegend": true,
           "type": "scatter",
           "x": [
            23
           ],
           "xaxis": "x",
           "y": [
            21
           ],
           "yaxis": "y"
          },
          {
           "hovertemplate": "bird=4<br>time=16<br>x=%{x}<br>y=%{y}<extra></extra>",
           "legendgroup": "4",
           "marker": {
            "color": "#ab63fa",
            "line": {
             "width": 3
            },
            "opacity": 0.8,
            "size": 14,
            "symbol": "square"
           },
           "mode": "markers",
           "name": "4",
           "orientation": "v",
           "showlegend": true,
           "type": "scatter",
           "x": [
            28
           ],
           "xaxis": "x",
           "y": [
            18
           ],
           "yaxis": "y"
          },
          {
           "hovertemplate": "bird=5<br>time=16<br>x=%{x}<br>y=%{y}<extra></extra>",
           "legendgroup": "5",
           "marker": {
            "color": "#FFA15A",
            "line": {
             "width": 3
            },
            "opacity": 0.8,
            "size": 14,
            "symbol": "square"
           },
           "mode": "markers",
           "name": "5",
           "orientation": "v",
           "showlegend": true,
           "type": "scatter",
           "x": [
            17
           ],
           "xaxis": "x",
           "y": [
            13
           ],
           "yaxis": "y"
          },
          {
           "hovertemplate": "bird=6<br>time=16<br>x=%{x}<br>y=%{y}<extra></extra>",
           "legendgroup": "6",
           "marker": {
            "color": "#19d3f3",
            "line": {
             "width": 3
            },
            "opacity": 0.8,
            "size": 14,
            "symbol": "square"
           },
           "mode": "markers",
           "name": "6",
           "orientation": "v",
           "showlegend": true,
           "type": "scatter",
           "x": [
            5
           ],
           "xaxis": "x",
           "y": [
            5
           ],
           "yaxis": "y"
          },
          {
           "hovertemplate": "bird=7<br>time=16<br>x=%{x}<br>y=%{y}<extra></extra>",
           "legendgroup": "7",
           "marker": {
            "color": "#FF6692",
            "line": {
             "width": 3
            },
            "opacity": 0.8,
            "size": 14,
            "symbol": "square"
           },
           "mode": "markers",
           "name": "7",
           "orientation": "v",
           "showlegend": true,
           "type": "scatter",
           "x": [
            11
           ],
           "xaxis": "x",
           "y": [
            27
           ],
           "yaxis": "y"
          },
          {
           "hovertemplate": "bird=8<br>time=16<br>x=%{x}<br>y=%{y}<extra></extra>",
           "legendgroup": "8",
           "marker": {
            "color": "#B6E880",
            "line": {
             "width": 3
            },
            "opacity": 0.8,
            "size": 14,
            "symbol": "square"
           },
           "mode": "markers",
           "name": "8",
           "orientation": "v",
           "showlegend": true,
           "type": "scatter",
           "x": [
            19
           ],
           "xaxis": "x",
           "y": [
            1
           ],
           "yaxis": "y"
          },
          {
           "hovertemplate": "bird=9<br>time=16<br>x=%{x}<br>y=%{y}<extra></extra>",
           "legendgroup": "9",
           "marker": {
            "color": "#FF97FF",
            "line": {
             "width": 3
            },
            "opacity": 0.8,
            "size": 14,
            "symbol": "square"
           },
           "mode": "markers",
           "name": "9",
           "orientation": "v",
           "showlegend": true,
           "type": "scatter",
           "x": [
            20
           ],
           "xaxis": "x",
           "y": [
            25
           ],
           "yaxis": "y"
          },
          {
           "hovertemplate": "bird=reward<br>time=16<br>x=%{x}<br>y=%{y}<extra></extra>",
           "legendgroup": "reward",
           "marker": {
            "color": "yellow",
            "symbol": "square"
           },
           "mode": "markers",
           "name": "reward",
           "orientation": "v",
           "showlegend": false,
           "type": "scatter",
           "x": [
            9,
            10,
            11,
            12,
            9,
            10,
            11,
            12,
            9,
            12,
            9,
            10,
            11,
            12
           ],
           "xaxis": "x",
           "y": [
            25,
            25,
            25,
            25,
            26,
            26,
            26,
            26,
            27,
            27,
            28,
            28,
            28,
            28
           ],
           "yaxis": "y"
          }
         ],
         "name": "16"
        },
        {
         "data": [
          {
           "hovertemplate": "bird=1<br>time=17<br>x=%{x}<br>y=%{y}<extra></extra>",
           "legendgroup": "1",
           "marker": {
            "color": "#636efa",
            "line": {
             "width": 3
            },
            "opacity": 0.8,
            "size": 14,
            "symbol": "square"
           },
           "mode": "markers",
           "name": "1",
           "orientation": "v",
           "showlegend": true,
           "type": "scatter",
           "x": [
            14
           ],
           "xaxis": "x",
           "y": [
            21
           ],
           "yaxis": "y"
          },
          {
           "hovertemplate": "bird=2<br>time=17<br>x=%{x}<br>y=%{y}<extra></extra>",
           "legendgroup": "2",
           "marker": {
            "color": "#EF553B",
            "line": {
             "width": 3
            },
            "opacity": 0.8,
            "size": 14,
            "symbol": "square"
           },
           "mode": "markers",
           "name": "2",
           "orientation": "v",
           "showlegend": true,
           "type": "scatter",
           "x": [
            4
           ],
           "xaxis": "x",
           "y": [
            12
           ],
           "yaxis": "y"
          },
          {
           "hovertemplate": "bird=3<br>time=17<br>x=%{x}<br>y=%{y}<extra></extra>",
           "legendgroup": "3",
           "marker": {
            "color": "#00cc96",
            "line": {
             "width": 3
            },
            "opacity": 0.8,
            "size": 14,
            "symbol": "square"
           },
           "mode": "markers",
           "name": "3",
           "orientation": "v",
           "showlegend": true,
           "type": "scatter",
           "x": [
            23
           ],
           "xaxis": "x",
           "y": [
            22
           ],
           "yaxis": "y"
          },
          {
           "hovertemplate": "bird=4<br>time=17<br>x=%{x}<br>y=%{y}<extra></extra>",
           "legendgroup": "4",
           "marker": {
            "color": "#ab63fa",
            "line": {
             "width": 3
            },
            "opacity": 0.8,
            "size": 14,
            "symbol": "square"
           },
           "mode": "markers",
           "name": "4",
           "orientation": "v",
           "showlegend": true,
           "type": "scatter",
           "x": [
            27
           ],
           "xaxis": "x",
           "y": [
            16
           ],
           "yaxis": "y"
          },
          {
           "hovertemplate": "bird=5<br>time=17<br>x=%{x}<br>y=%{y}<extra></extra>",
           "legendgroup": "5",
           "marker": {
            "color": "#FFA15A",
            "line": {
             "width": 3
            },
            "opacity": 0.8,
            "size": 14,
            "symbol": "square"
           },
           "mode": "markers",
           "name": "5",
           "orientation": "v",
           "showlegend": true,
           "type": "scatter",
           "x": [
            16
           ],
           "xaxis": "x",
           "y": [
            13
           ],
           "yaxis": "y"
          },
          {
           "hovertemplate": "bird=6<br>time=17<br>x=%{x}<br>y=%{y}<extra></extra>",
           "legendgroup": "6",
           "marker": {
            "color": "#19d3f3",
            "line": {
             "width": 3
            },
            "opacity": 0.8,
            "size": 14,
            "symbol": "square"
           },
           "mode": "markers",
           "name": "6",
           "orientation": "v",
           "showlegend": true,
           "type": "scatter",
           "x": [
            6
           ],
           "xaxis": "x",
           "y": [
            3
           ],
           "yaxis": "y"
          },
          {
           "hovertemplate": "bird=7<br>time=17<br>x=%{x}<br>y=%{y}<extra></extra>",
           "legendgroup": "7",
           "marker": {
            "color": "#FF6692",
            "line": {
             "width": 3
            },
            "opacity": 0.8,
            "size": 14,
            "symbol": "square"
           },
           "mode": "markers",
           "name": "7",
           "orientation": "v",
           "showlegend": true,
           "type": "scatter",
           "x": [
            11
           ],
           "xaxis": "x",
           "y": [
            27
           ],
           "yaxis": "y"
          },
          {
           "hovertemplate": "bird=8<br>time=17<br>x=%{x}<br>y=%{y}<extra></extra>",
           "legendgroup": "8",
           "marker": {
            "color": "#B6E880",
            "line": {
             "width": 3
            },
            "opacity": 0.8,
            "size": 14,
            "symbol": "square"
           },
           "mode": "markers",
           "name": "8",
           "orientation": "v",
           "showlegend": true,
           "type": "scatter",
           "x": [
            17
           ],
           "xaxis": "x",
           "y": [
            3
           ],
           "yaxis": "y"
          },
          {
           "hovertemplate": "bird=9<br>time=17<br>x=%{x}<br>y=%{y}<extra></extra>",
           "legendgroup": "9",
           "marker": {
            "color": "#FF97FF",
            "line": {
             "width": 3
            },
            "opacity": 0.8,
            "size": 14,
            "symbol": "square"
           },
           "mode": "markers",
           "name": "9",
           "orientation": "v",
           "showlegend": true,
           "type": "scatter",
           "x": [
            20
           ],
           "xaxis": "x",
           "y": [
            27
           ],
           "yaxis": "y"
          },
          {
           "hovertemplate": "bird=reward<br>time=17<br>x=%{x}<br>y=%{y}<extra></extra>",
           "legendgroup": "reward",
           "marker": {
            "color": "yellow",
            "symbol": "square"
           },
           "mode": "markers",
           "name": "reward",
           "orientation": "v",
           "showlegend": false,
           "type": "scatter",
           "x": [
            9,
            10,
            11,
            12,
            9,
            10,
            11,
            12,
            9,
            12,
            9,
            10,
            11,
            12
           ],
           "xaxis": "x",
           "y": [
            25,
            25,
            25,
            25,
            26,
            26,
            26,
            26,
            27,
            27,
            28,
            28,
            28,
            28
           ],
           "yaxis": "y"
          }
         ],
         "name": "17"
        },
        {
         "data": [
          {
           "hovertemplate": "bird=1<br>time=18<br>x=%{x}<br>y=%{y}<extra></extra>",
           "legendgroup": "1",
           "marker": {
            "color": "#636efa",
            "line": {
             "width": 3
            },
            "opacity": 0.8,
            "size": 14,
            "symbol": "square"
           },
           "mode": "markers",
           "name": "1",
           "orientation": "v",
           "showlegend": true,
           "type": "scatter",
           "x": [
            12
           ],
           "xaxis": "x",
           "y": [
            23
           ],
           "yaxis": "y"
          },
          {
           "hovertemplate": "bird=2<br>time=18<br>x=%{x}<br>y=%{y}<extra></extra>",
           "legendgroup": "2",
           "marker": {
            "color": "#EF553B",
            "line": {
             "width": 3
            },
            "opacity": 0.8,
            "size": 14,
            "symbol": "square"
           },
           "mode": "markers",
           "name": "2",
           "orientation": "v",
           "showlegend": true,
           "type": "scatter",
           "x": [
            2
           ],
           "xaxis": "x",
           "y": [
            13
           ],
           "yaxis": "y"
          },
          {
           "hovertemplate": "bird=3<br>time=18<br>x=%{x}<br>y=%{y}<extra></extra>",
           "legendgroup": "3",
           "marker": {
            "color": "#00cc96",
            "line": {
             "width": 3
            },
            "opacity": 0.8,
            "size": 14,
            "symbol": "square"
           },
           "mode": "markers",
           "name": "3",
           "orientation": "v",
           "showlegend": true,
           "type": "scatter",
           "x": [
            21
           ],
           "xaxis": "x",
           "y": [
            22
           ],
           "yaxis": "y"
          },
          {
           "hovertemplate": "bird=4<br>time=18<br>x=%{x}<br>y=%{y}<extra></extra>",
           "legendgroup": "4",
           "marker": {
            "color": "#ab63fa",
            "line": {
             "width": 3
            },
            "opacity": 0.8,
            "size": 14,
            "symbol": "square"
           },
           "mode": "markers",
           "name": "4",
           "orientation": "v",
           "showlegend": true,
           "type": "scatter",
           "x": [
            29
           ],
           "xaxis": "x",
           "y": [
            15
           ],
           "yaxis": "y"
          },
          {
           "hovertemplate": "bird=5<br>time=18<br>x=%{x}<br>y=%{y}<extra></extra>",
           "legendgroup": "5",
           "marker": {
            "color": "#FFA15A",
            "line": {
             "width": 3
            },
            "opacity": 0.8,
            "size": 14,
            "symbol": "square"
           },
           "mode": "markers",
           "name": "5",
           "orientation": "v",
           "showlegend": true,
           "type": "scatter",
           "x": [
            17
           ],
           "xaxis": "x",
           "y": [
            13
           ],
           "yaxis": "y"
          },
          {
           "hovertemplate": "bird=6<br>time=18<br>x=%{x}<br>y=%{y}<extra></extra>",
           "legendgroup": "6",
           "marker": {
            "color": "#19d3f3",
            "line": {
             "width": 3
            },
            "opacity": 0.8,
            "size": 14,
            "symbol": "square"
           },
           "mode": "markers",
           "name": "6",
           "orientation": "v",
           "showlegend": true,
           "type": "scatter",
           "x": [
            8
           ],
           "xaxis": "x",
           "y": [
            2
           ],
           "yaxis": "y"
          },
          {
           "hovertemplate": "bird=7<br>time=18<br>x=%{x}<br>y=%{y}<extra></extra>",
           "legendgroup": "7",
           "marker": {
            "color": "#FF6692",
            "line": {
             "width": 3
            },
            "opacity": 0.8,
            "size": 14,
            "symbol": "square"
           },
           "mode": "markers",
           "name": "7",
           "orientation": "v",
           "showlegend": true,
           "type": "scatter",
           "x": [
            10
           ],
           "xaxis": "x",
           "y": [
            27
           ],
           "yaxis": "y"
          },
          {
           "hovertemplate": "bird=8<br>time=18<br>x=%{x}<br>y=%{y}<extra></extra>",
           "legendgroup": "8",
           "marker": {
            "color": "#B6E880",
            "line": {
             "width": 3
            },
            "opacity": 0.8,
            "size": 14,
            "symbol": "square"
           },
           "mode": "markers",
           "name": "8",
           "orientation": "v",
           "showlegend": true,
           "type": "scatter",
           "x": [
            18
           ],
           "xaxis": "x",
           "y": [
            3
           ],
           "yaxis": "y"
          },
          {
           "hovertemplate": "bird=9<br>time=18<br>x=%{x}<br>y=%{y}<extra></extra>",
           "legendgroup": "9",
           "marker": {
            "color": "#FF97FF",
            "line": {
             "width": 3
            },
            "opacity": 0.8,
            "size": 14,
            "symbol": "square"
           },
           "mode": "markers",
           "name": "9",
           "orientation": "v",
           "showlegend": true,
           "type": "scatter",
           "x": [
            22
           ],
           "xaxis": "x",
           "y": [
            26
           ],
           "yaxis": "y"
          },
          {
           "hovertemplate": "bird=reward<br>time=18<br>x=%{x}<br>y=%{y}<extra></extra>",
           "legendgroup": "reward",
           "marker": {
            "color": "yellow",
            "symbol": "square"
           },
           "mode": "markers",
           "name": "reward",
           "orientation": "v",
           "showlegend": false,
           "type": "scatter",
           "x": [
            9,
            10,
            11,
            12,
            9,
            10,
            11,
            12,
            9,
            12,
            9,
            10,
            11,
            12
           ],
           "xaxis": "x",
           "y": [
            25,
            25,
            25,
            25,
            26,
            26,
            26,
            26,
            27,
            27,
            28,
            28,
            28,
            28
           ],
           "yaxis": "y"
          }
         ],
         "name": "18"
        },
        {
         "data": [
          {
           "hovertemplate": "bird=1<br>time=19<br>x=%{x}<br>y=%{y}<extra></extra>",
           "legendgroup": "1",
           "marker": {
            "color": "#636efa",
            "line": {
             "width": 3
            },
            "opacity": 0.8,
            "size": 14,
            "symbol": "square"
           },
           "mode": "markers",
           "name": "1",
           "orientation": "v",
           "showlegend": true,
           "type": "scatter",
           "x": [
            11
           ],
           "xaxis": "x",
           "y": [
            25
           ],
           "yaxis": "y"
          },
          {
           "hovertemplate": "bird=2<br>time=19<br>x=%{x}<br>y=%{y}<extra></extra>",
           "legendgroup": "2",
           "marker": {
            "color": "#EF553B",
            "line": {
             "width": 3
            },
            "opacity": 0.8,
            "size": 14,
            "symbol": "square"
           },
           "mode": "markers",
           "name": "2",
           "orientation": "v",
           "showlegend": true,
           "type": "scatter",
           "x": [
            2
           ],
           "xaxis": "x",
           "y": [
            15
           ],
           "yaxis": "y"
          },
          {
           "hovertemplate": "bird=3<br>time=19<br>x=%{x}<br>y=%{y}<extra></extra>",
           "legendgroup": "3",
           "marker": {
            "color": "#00cc96",
            "line": {
             "width": 3
            },
            "opacity": 0.8,
            "size": 14,
            "symbol": "square"
           },
           "mode": "markers",
           "name": "3",
           "orientation": "v",
           "showlegend": true,
           "type": "scatter",
           "x": [
            21
           ],
           "xaxis": "x",
           "y": [
            24
           ],
           "yaxis": "y"
          },
          {
           "hovertemplate": "bird=4<br>time=19<br>x=%{x}<br>y=%{y}<extra></extra>",
           "legendgroup": "4",
           "marker": {
            "color": "#ab63fa",
            "line": {
             "width": 3
            },
            "opacity": 0.8,
            "size": 14,
            "symbol": "square"
           },
           "mode": "markers",
           "name": "4",
           "orientation": "v",
           "showlegend": true,
           "type": "scatter",
           "x": [
            28
           ],
           "xaxis": "x",
           "y": [
            17
           ],
           "yaxis": "y"
          },
          {
           "hovertemplate": "bird=5<br>time=19<br>x=%{x}<br>y=%{y}<extra></extra>",
           "legendgroup": "5",
           "marker": {
            "color": "#FFA15A",
            "line": {
             "width": 3
            },
            "opacity": 0.8,
            "size": 14,
            "symbol": "square"
           },
           "mode": "markers",
           "name": "5",
           "orientation": "v",
           "showlegend": true,
           "type": "scatter",
           "x": [
            19
           ],
           "xaxis": "x",
           "y": [
            14
           ],
           "yaxis": "y"
          },
          {
           "hovertemplate": "bird=6<br>time=19<br>x=%{x}<br>y=%{y}<extra></extra>",
           "legendgroup": "6",
           "marker": {
            "color": "#19d3f3",
            "line": {
             "width": 3
            },
            "opacity": 0.8,
            "size": 14,
            "symbol": "square"
           },
           "mode": "markers",
           "name": "6",
           "orientation": "v",
           "showlegend": true,
           "type": "scatter",
           "x": [
            6
           ],
           "xaxis": "x",
           "y": [
            4
           ],
           "yaxis": "y"
          },
          {
           "hovertemplate": "bird=7<br>time=19<br>x=%{x}<br>y=%{y}<extra></extra>",
           "legendgroup": "7",
           "marker": {
            "color": "#FF6692",
            "line": {
             "width": 3
            },
            "opacity": 0.8,
            "size": 14,
            "symbol": "square"
           },
           "mode": "markers",
           "name": "7",
           "orientation": "v",
           "showlegend": true,
           "type": "scatter",
           "x": [
            11
           ],
           "xaxis": "x",
           "y": [
            25
           ],
           "yaxis": "y"
          },
          {
           "hovertemplate": "bird=8<br>time=19<br>x=%{x}<br>y=%{y}<extra></extra>",
           "legendgroup": "8",
           "marker": {
            "color": "#B6E880",
            "line": {
             "width": 3
            },
            "opacity": 0.8,
            "size": 14,
            "symbol": "square"
           },
           "mode": "markers",
           "name": "8",
           "orientation": "v",
           "showlegend": true,
           "type": "scatter",
           "x": [
            19
           ],
           "xaxis": "x",
           "y": [
            4
           ],
           "yaxis": "y"
          },
          {
           "hovertemplate": "bird=9<br>time=19<br>x=%{x}<br>y=%{y}<extra></extra>",
           "legendgroup": "9",
           "marker": {
            "color": "#FF97FF",
            "line": {
             "width": 3
            },
            "opacity": 0.8,
            "size": 14,
            "symbol": "square"
           },
           "mode": "markers",
           "name": "9",
           "orientation": "v",
           "showlegend": true,
           "type": "scatter",
           "x": [
            23
           ],
           "xaxis": "x",
           "y": [
            27
           ],
           "yaxis": "y"
          },
          {
           "hovertemplate": "bird=reward<br>time=19<br>x=%{x}<br>y=%{y}<extra></extra>",
           "legendgroup": "reward",
           "marker": {
            "color": "yellow",
            "symbol": "square"
           },
           "mode": "markers",
           "name": "reward",
           "orientation": "v",
           "showlegend": false,
           "type": "scatter",
           "x": [
            9,
            10,
            11,
            12,
            9,
            10,
            11,
            12,
            9,
            12,
            9,
            10,
            11,
            12
           ],
           "xaxis": "x",
           "y": [
            25,
            25,
            25,
            25,
            26,
            26,
            26,
            26,
            27,
            27,
            28,
            28,
            28,
            28
           ],
           "yaxis": "y"
          }
         ],
         "name": "19"
        },
        {
         "data": [
          {
           "hovertemplate": "bird=1<br>time=20<br>x=%{x}<br>y=%{y}<extra></extra>",
           "legendgroup": "1",
           "marker": {
            "color": "#636efa",
            "line": {
             "width": 3
            },
            "opacity": 0.8,
            "size": 14,
            "symbol": "square"
           },
           "mode": "markers",
           "name": "1",
           "orientation": "v",
           "showlegend": true,
           "type": "scatter",
           "x": [
            11
           ],
           "xaxis": "x",
           "y": [
            25
           ],
           "yaxis": "y"
          },
          {
           "hovertemplate": "bird=2<br>time=20<br>x=%{x}<br>y=%{y}<extra></extra>",
           "legendgroup": "2",
           "marker": {
            "color": "#EF553B",
            "line": {
             "width": 3
            },
            "opacity": 0.8,
            "size": 14,
            "symbol": "square"
           },
           "mode": "markers",
           "name": "2",
           "orientation": "v",
           "showlegend": true,
           "type": "scatter",
           "x": [
            1
           ],
           "xaxis": "x",
           "y": [
            13
           ],
           "yaxis": "y"
          },
          {
           "hovertemplate": "bird=3<br>time=20<br>x=%{x}<br>y=%{y}<extra></extra>",
           "legendgroup": "3",
           "marker": {
            "color": "#00cc96",
            "line": {
             "width": 3
            },
            "opacity": 0.8,
            "size": 14,
            "symbol": "square"
           },
           "mode": "markers",
           "name": "3",
           "orientation": "v",
           "showlegend": true,
           "type": "scatter",
           "x": [
            23
           ],
           "xaxis": "x",
           "y": [
            26
           ],
           "yaxis": "y"
          },
          {
           "hovertemplate": "bird=4<br>time=20<br>x=%{x}<br>y=%{y}<extra></extra>",
           "legendgroup": "4",
           "marker": {
            "color": "#ab63fa",
            "line": {
             "width": 3
            },
            "opacity": 0.8,
            "size": 14,
            "symbol": "square"
           },
           "mode": "markers",
           "name": "4",
           "orientation": "v",
           "showlegend": true,
           "type": "scatter",
           "x": [
            25
           ],
           "xaxis": "x",
           "y": [
            17
           ],
           "yaxis": "y"
          },
          {
           "hovertemplate": "bird=5<br>time=20<br>x=%{x}<br>y=%{y}<extra></extra>",
           "legendgroup": "5",
           "marker": {
            "color": "#FFA15A",
            "line": {
             "width": 3
            },
            "opacity": 0.8,
            "size": 14,
            "symbol": "square"
           },
           "mode": "markers",
           "name": "5",
           "orientation": "v",
           "showlegend": true,
           "type": "scatter",
           "x": [
            16
           ],
           "xaxis": "x",
           "y": [
            14
           ],
           "yaxis": "y"
          },
          {
           "hovertemplate": "bird=6<br>time=20<br>x=%{x}<br>y=%{y}<extra></extra>",
           "legendgroup": "6",
           "marker": {
            "color": "#19d3f3",
            "line": {
             "width": 3
            },
            "opacity": 0.8,
            "size": 14,
            "symbol": "square"
           },
           "mode": "markers",
           "name": "6",
           "orientation": "v",
           "showlegend": true,
           "type": "scatter",
           "x": [
            5
           ],
           "xaxis": "x",
           "y": [
            3
           ],
           "yaxis": "y"
          },
          {
           "hovertemplate": "bird=7<br>time=20<br>x=%{x}<br>y=%{y}<extra></extra>",
           "legendgroup": "7",
           "marker": {
            "color": "#FF6692",
            "line": {
             "width": 3
            },
            "opacity": 0.8,
            "size": 14,
            "symbol": "square"
           },
           "mode": "markers",
           "name": "7",
           "orientation": "v",
           "showlegend": true,
           "type": "scatter",
           "x": [
            11
           ],
           "xaxis": "x",
           "y": [
            25
           ],
           "yaxis": "y"
          },
          {
           "hovertemplate": "bird=8<br>time=20<br>x=%{x}<br>y=%{y}<extra></extra>",
           "legendgroup": "8",
           "marker": {
            "color": "#B6E880",
            "line": {
             "width": 3
            },
            "opacity": 0.8,
            "size": 14,
            "symbol": "square"
           },
           "mode": "markers",
           "name": "8",
           "orientation": "v",
           "showlegend": true,
           "type": "scatter",
           "x": [
            18
           ],
           "xaxis": "x",
           "y": [
            3
           ],
           "yaxis": "y"
          },
          {
           "hovertemplate": "bird=9<br>time=20<br>x=%{x}<br>y=%{y}<extra></extra>",
           "legendgroup": "9",
           "marker": {
            "color": "#FF97FF",
            "line": {
             "width": 3
            },
            "opacity": 0.8,
            "size": 14,
            "symbol": "square"
           },
           "mode": "markers",
           "name": "9",
           "orientation": "v",
           "showlegend": true,
           "type": "scatter",
           "x": [
            20
           ],
           "xaxis": "x",
           "y": [
            27
           ],
           "yaxis": "y"
          },
          {
           "hovertemplate": "bird=reward<br>time=20<br>x=%{x}<br>y=%{y}<extra></extra>",
           "legendgroup": "reward",
           "marker": {
            "color": "yellow",
            "symbol": "square"
           },
           "mode": "markers",
           "name": "reward",
           "orientation": "v",
           "showlegend": false,
           "type": "scatter",
           "x": [
            9,
            10,
            12,
            9,
            10,
            11,
            12,
            9,
            12,
            9,
            10,
            11,
            12
           ],
           "xaxis": "x",
           "y": [
            25,
            25,
            25,
            26,
            26,
            26,
            26,
            27,
            27,
            28,
            28,
            28,
            28
           ],
           "yaxis": "y"
          }
         ],
         "name": "20"
        },
        {
         "data": [
          {
           "hovertemplate": "bird=1<br>time=21<br>x=%{x}<br>y=%{y}<extra></extra>",
           "legendgroup": "1",
           "marker": {
            "color": "#636efa",
            "line": {
             "width": 3
            },
            "opacity": 0.8,
            "size": 14,
            "symbol": "square"
           },
           "mode": "markers",
           "name": "1",
           "orientation": "v",
           "showlegend": true,
           "type": "scatter",
           "x": [
            11
           ],
           "xaxis": "x",
           "y": [
            25
           ],
           "yaxis": "y"
          },
          {
           "hovertemplate": "bird=2<br>time=21<br>x=%{x}<br>y=%{y}<extra></extra>",
           "legendgroup": "2",
           "marker": {
            "color": "#EF553B",
            "line": {
             "width": 3
            },
            "opacity": 0.8,
            "size": 14,
            "symbol": "square"
           },
           "mode": "markers",
           "name": "2",
           "orientation": "v",
           "showlegend": true,
           "type": "scatter",
           "x": [
            0
           ],
           "xaxis": "x",
           "y": [
            15
           ],
           "yaxis": "y"
          },
          {
           "hovertemplate": "bird=3<br>time=21<br>x=%{x}<br>y=%{y}<extra></extra>",
           "legendgroup": "3",
           "marker": {
            "color": "#00cc96",
            "line": {
             "width": 3
            },
            "opacity": 0.8,
            "size": 14,
            "symbol": "square"
           },
           "mode": "markers",
           "name": "3",
           "orientation": "v",
           "showlegend": true,
           "type": "scatter",
           "x": [
            26
           ],
           "xaxis": "x",
           "y": [
            26
           ],
           "yaxis": "y"
          },
          {
           "hovertemplate": "bird=4<br>time=21<br>x=%{x}<br>y=%{y}<extra></extra>",
           "legendgroup": "4",
           "marker": {
            "color": "#ab63fa",
            "line": {
             "width": 3
            },
            "opacity": 0.8,
            "size": 14,
            "symbol": "square"
           },
           "mode": "markers",
           "name": "4",
           "orientation": "v",
           "showlegend": true,
           "type": "scatter",
           "x": [
            25
           ],
           "xaxis": "x",
           "y": [
            15
           ],
           "yaxis": "y"
          },
          {
           "hovertemplate": "bird=5<br>time=21<br>x=%{x}<br>y=%{y}<extra></extra>",
           "legendgroup": "5",
           "marker": {
            "color": "#FFA15A",
            "line": {
             "width": 3
            },
            "opacity": 0.8,
            "size": 14,
            "symbol": "square"
           },
           "mode": "markers",
           "name": "5",
           "orientation": "v",
           "showlegend": true,
           "type": "scatter",
           "x": [
            16
           ],
           "xaxis": "x",
           "y": [
            16
           ],
           "yaxis": "y"
          },
          {
           "hovertemplate": "bird=6<br>time=21<br>x=%{x}<br>y=%{y}<extra></extra>",
           "legendgroup": "6",
           "marker": {
            "color": "#19d3f3",
            "line": {
             "width": 3
            },
            "opacity": 0.8,
            "size": 14,
            "symbol": "square"
           },
           "mode": "markers",
           "name": "6",
           "orientation": "v",
           "showlegend": true,
           "type": "scatter",
           "x": [
            3
           ],
           "xaxis": "x",
           "y": [
            2
           ],
           "yaxis": "y"
          },
          {
           "hovertemplate": "bird=7<br>time=21<br>x=%{x}<br>y=%{y}<extra></extra>",
           "legendgroup": "7",
           "marker": {
            "color": "#FF6692",
            "line": {
             "width": 3
            },
            "opacity": 0.8,
            "size": 14,
            "symbol": "square"
           },
           "mode": "markers",
           "name": "7",
           "orientation": "v",
           "showlegend": true,
           "type": "scatter",
           "x": [
            11
           ],
           "xaxis": "x",
           "y": [
            25
           ],
           "yaxis": "y"
          },
          {
           "hovertemplate": "bird=8<br>time=21<br>x=%{x}<br>y=%{y}<extra></extra>",
           "legendgroup": "8",
           "marker": {
            "color": "#B6E880",
            "line": {
             "width": 3
            },
            "opacity": 0.8,
            "size": 14,
            "symbol": "square"
           },
           "mode": "markers",
           "name": "8",
           "orientation": "v",
           "showlegend": true,
           "type": "scatter",
           "x": [
            18
           ],
           "xaxis": "x",
           "y": [
            5
           ],
           "yaxis": "y"
          },
          {
           "hovertemplate": "bird=9<br>time=21<br>x=%{x}<br>y=%{y}<extra></extra>",
           "legendgroup": "9",
           "marker": {
            "color": "#FF97FF",
            "line": {
             "width": 3
            },
            "opacity": 0.8,
            "size": 14,
            "symbol": "square"
           },
           "mode": "markers",
           "name": "9",
           "orientation": "v",
           "showlegend": true,
           "type": "scatter",
           "x": [
            18
           ],
           "xaxis": "x",
           "y": [
            29
           ],
           "yaxis": "y"
          },
          {
           "hovertemplate": "bird=reward<br>time=21<br>x=%{x}<br>y=%{y}<extra></extra>",
           "legendgroup": "reward",
           "marker": {
            "color": "yellow",
            "symbol": "square"
           },
           "mode": "markers",
           "name": "reward",
           "orientation": "v",
           "showlegend": false,
           "type": "scatter",
           "x": [
            9,
            10,
            12,
            9,
            10,
            11,
            12,
            9,
            12,
            9,
            10,
            11,
            12
           ],
           "xaxis": "x",
           "y": [
            25,
            25,
            25,
            26,
            26,
            26,
            26,
            27,
            27,
            28,
            28,
            28,
            28
           ],
           "yaxis": "y"
          }
         ],
         "name": "21"
        },
        {
         "data": [
          {
           "hovertemplate": "bird=1<br>time=22<br>x=%{x}<br>y=%{y}<extra></extra>",
           "legendgroup": "1",
           "marker": {
            "color": "#636efa",
            "line": {
             "width": 3
            },
            "opacity": 0.8,
            "size": 14,
            "symbol": "square"
           },
           "mode": "markers",
           "name": "1",
           "orientation": "v",
           "showlegend": true,
           "type": "scatter",
           "x": [
            11
           ],
           "xaxis": "x",
           "y": [
            25
           ],
           "yaxis": "y"
          },
          {
           "hovertemplate": "bird=2<br>time=22<br>x=%{x}<br>y=%{y}<extra></extra>",
           "legendgroup": "2",
           "marker": {
            "color": "#EF553B",
            "line": {
             "width": 3
            },
            "opacity": 0.8,
            "size": 14,
            "symbol": "square"
           },
           "mode": "markers",
           "name": "2",
           "orientation": "v",
           "showlegend": true,
           "type": "scatter",
           "x": [
            2
           ],
           "xaxis": "x",
           "y": [
            16
           ],
           "yaxis": "y"
          },
          {
           "hovertemplate": "bird=3<br>time=22<br>x=%{x}<br>y=%{y}<extra></extra>",
           "legendgroup": "3",
           "marker": {
            "color": "#00cc96",
            "line": {
             "width": 3
            },
            "opacity": 0.8,
            "size": 14,
            "symbol": "square"
           },
           "mode": "markers",
           "name": "3",
           "orientation": "v",
           "showlegend": true,
           "type": "scatter",
           "x": [
            24
           ],
           "xaxis": "x",
           "y": [
            28
           ],
           "yaxis": "y"
          },
          {
           "hovertemplate": "bird=4<br>time=22<br>x=%{x}<br>y=%{y}<extra></extra>",
           "legendgroup": "4",
           "marker": {
            "color": "#ab63fa",
            "line": {
             "width": 3
            },
            "opacity": 0.8,
            "size": 14,
            "symbol": "square"
           },
           "mode": "markers",
           "name": "4",
           "orientation": "v",
           "showlegend": true,
           "type": "scatter",
           "x": [
            23
           ],
           "xaxis": "x",
           "y": [
            15
           ],
           "yaxis": "y"
          },
          {
           "hovertemplate": "bird=5<br>time=22<br>x=%{x}<br>y=%{y}<extra></extra>",
           "legendgroup": "5",
           "marker": {
            "color": "#FFA15A",
            "line": {
             "width": 3
            },
            "opacity": 0.8,
            "size": 14,
            "symbol": "square"
           },
           "mode": "markers",
           "name": "5",
           "orientation": "v",
           "showlegend": true,
           "type": "scatter",
           "x": [
            16
           ],
           "xaxis": "x",
           "y": [
            14
           ],
           "yaxis": "y"
          },
          {
           "hovertemplate": "bird=6<br>time=22<br>x=%{x}<br>y=%{y}<extra></extra>",
           "legendgroup": "6",
           "marker": {
            "color": "#19d3f3",
            "line": {
             "width": 3
            },
            "opacity": 0.8,
            "size": 14,
            "symbol": "square"
           },
           "mode": "markers",
           "name": "6",
           "orientation": "v",
           "showlegend": true,
           "type": "scatter",
           "x": [
            3
           ],
           "xaxis": "x",
           "y": [
            2
           ],
           "yaxis": "y"
          },
          {
           "hovertemplate": "bird=7<br>time=22<br>x=%{x}<br>y=%{y}<extra></extra>",
           "legendgroup": "7",
           "marker": {
            "color": "#FF6692",
            "line": {
             "width": 3
            },
            "opacity": 0.8,
            "size": 14,
            "symbol": "square"
           },
           "mode": "markers",
           "name": "7",
           "orientation": "v",
           "showlegend": true,
           "type": "scatter",
           "x": [
            11
           ],
           "xaxis": "x",
           "y": [
            25
           ],
           "yaxis": "y"
          },
          {
           "hovertemplate": "bird=8<br>time=22<br>x=%{x}<br>y=%{y}<extra></extra>",
           "legendgroup": "8",
           "marker": {
            "color": "#B6E880",
            "line": {
             "width": 3
            },
            "opacity": 0.8,
            "size": 14,
            "symbol": "square"
           },
           "mode": "markers",
           "name": "8",
           "orientation": "v",
           "showlegend": true,
           "type": "scatter",
           "x": [
            17
           ],
           "xaxis": "x",
           "y": [
            7
           ],
           "yaxis": "y"
          },
          {
           "hovertemplate": "bird=9<br>time=22<br>x=%{x}<br>y=%{y}<extra></extra>",
           "legendgroup": "9",
           "marker": {
            "color": "#FF97FF",
            "line": {
             "width": 3
            },
            "opacity": 0.8,
            "size": 14,
            "symbol": "square"
           },
           "mode": "markers",
           "name": "9",
           "orientation": "v",
           "showlegend": true,
           "type": "scatter",
           "x": [
            20
           ],
           "xaxis": "x",
           "y": [
            28
           ],
           "yaxis": "y"
          },
          {
           "hovertemplate": "bird=reward<br>time=22<br>x=%{x}<br>y=%{y}<extra></extra>",
           "legendgroup": "reward",
           "marker": {
            "color": "yellow",
            "symbol": "square"
           },
           "mode": "markers",
           "name": "reward",
           "orientation": "v",
           "showlegend": false,
           "type": "scatter",
           "x": [
            9,
            10,
            12,
            9,
            10,
            11,
            12,
            9,
            12,
            9,
            10,
            11,
            12
           ],
           "xaxis": "x",
           "y": [
            25,
            25,
            25,
            26,
            26,
            26,
            26,
            27,
            27,
            28,
            28,
            28,
            28
           ],
           "yaxis": "y"
          }
         ],
         "name": "22"
        },
        {
         "data": [
          {
           "hovertemplate": "bird=1<br>time=23<br>x=%{x}<br>y=%{y}<extra></extra>",
           "legendgroup": "1",
           "marker": {
            "color": "#636efa",
            "line": {
             "width": 3
            },
            "opacity": 0.8,
            "size": 14,
            "symbol": "square"
           },
           "mode": "markers",
           "name": "1",
           "orientation": "v",
           "showlegend": true,
           "type": "scatter",
           "x": [
            11
           ],
           "xaxis": "x",
           "y": [
            25
           ],
           "yaxis": "y"
          },
          {
           "hovertemplate": "bird=2<br>time=23<br>x=%{x}<br>y=%{y}<extra></extra>",
           "legendgroup": "2",
           "marker": {
            "color": "#EF553B",
            "line": {
             "width": 3
            },
            "opacity": 0.8,
            "size": 14,
            "symbol": "square"
           },
           "mode": "markers",
           "name": "2",
           "orientation": "v",
           "showlegend": true,
           "type": "scatter",
           "x": [
            2
           ],
           "xaxis": "x",
           "y": [
            13
           ],
           "yaxis": "y"
          },
          {
           "hovertemplate": "bird=3<br>time=23<br>x=%{x}<br>y=%{y}<extra></extra>",
           "legendgroup": "3",
           "marker": {
            "color": "#00cc96",
            "line": {
             "width": 3
            },
            "opacity": 0.8,
            "size": 14,
            "symbol": "square"
           },
           "mode": "markers",
           "name": "3",
           "orientation": "v",
           "showlegend": true,
           "type": "scatter",
           "x": [
            24
           ],
           "xaxis": "x",
           "y": [
            28
           ],
           "yaxis": "y"
          },
          {
           "hovertemplate": "bird=4<br>time=23<br>x=%{x}<br>y=%{y}<extra></extra>",
           "legendgroup": "4",
           "marker": {
            "color": "#ab63fa",
            "line": {
             "width": 3
            },
            "opacity": 0.8,
            "size": 14,
            "symbol": "square"
           },
           "mode": "markers",
           "name": "4",
           "orientation": "v",
           "showlegend": true,
           "type": "scatter",
           "x": [
            24
           ],
           "xaxis": "x",
           "y": [
            13
           ],
           "yaxis": "y"
          },
          {
           "hovertemplate": "bird=5<br>time=23<br>x=%{x}<br>y=%{y}<extra></extra>",
           "legendgroup": "5",
           "marker": {
            "color": "#FFA15A",
            "line": {
             "width": 3
            },
            "opacity": 0.8,
            "size": 14,
            "symbol": "square"
           },
           "mode": "markers",
           "name": "5",
           "orientation": "v",
           "showlegend": true,
           "type": "scatter",
           "x": [
            14
           ],
           "xaxis": "x",
           "y": [
            14
           ],
           "yaxis": "y"
          },
          {
           "hovertemplate": "bird=6<br>time=23<br>x=%{x}<br>y=%{y}<extra></extra>",
           "legendgroup": "6",
           "marker": {
            "color": "#19d3f3",
            "line": {
             "width": 3
            },
            "opacity": 0.8,
            "size": 14,
            "symbol": "square"
           },
           "mode": "markers",
           "name": "6",
           "orientation": "v",
           "showlegend": true,
           "type": "scatter",
           "x": [
            1
           ],
           "xaxis": "x",
           "y": [
            3
           ],
           "yaxis": "y"
          },
          {
           "hovertemplate": "bird=7<br>time=23<br>x=%{x}<br>y=%{y}<extra></extra>",
           "legendgroup": "7",
           "marker": {
            "color": "#FF6692",
            "line": {
             "width": 3
            },
            "opacity": 0.8,
            "size": 14,
            "symbol": "square"
           },
           "mode": "markers",
           "name": "7",
           "orientation": "v",
           "showlegend": true,
           "type": "scatter",
           "x": [
            11
           ],
           "xaxis": "x",
           "y": [
            25
           ],
           "yaxis": "y"
          },
          {
           "hovertemplate": "bird=8<br>time=23<br>x=%{x}<br>y=%{y}<extra></extra>",
           "legendgroup": "8",
           "marker": {
            "color": "#B6E880",
            "line": {
             "width": 3
            },
            "opacity": 0.8,
            "size": 14,
            "symbol": "square"
           },
           "mode": "markers",
           "name": "8",
           "orientation": "v",
           "showlegend": true,
           "type": "scatter",
           "x": [
            15
           ],
           "xaxis": "x",
           "y": [
            7
           ],
           "yaxis": "y"
          },
          {
           "hovertemplate": "bird=9<br>time=23<br>x=%{x}<br>y=%{y}<extra></extra>",
           "legendgroup": "9",
           "marker": {
            "color": "#FF97FF",
            "line": {
             "width": 3
            },
            "opacity": 0.8,
            "size": 14,
            "symbol": "square"
           },
           "mode": "markers",
           "name": "9",
           "orientation": "v",
           "showlegend": true,
           "type": "scatter",
           "x": [
            18
           ],
           "xaxis": "x",
           "y": [
            26
           ],
           "yaxis": "y"
          },
          {
           "hovertemplate": "bird=reward<br>time=23<br>x=%{x}<br>y=%{y}<extra></extra>",
           "legendgroup": "reward",
           "marker": {
            "color": "yellow",
            "symbol": "square"
           },
           "mode": "markers",
           "name": "reward",
           "orientation": "v",
           "showlegend": false,
           "type": "scatter",
           "x": [
            9,
            10,
            12,
            9,
            10,
            11,
            12,
            9,
            12,
            9,
            10,
            11,
            12
           ],
           "xaxis": "x",
           "y": [
            25,
            25,
            25,
            26,
            26,
            26,
            26,
            27,
            27,
            28,
            28,
            28,
            28
           ],
           "yaxis": "y"
          }
         ],
         "name": "23"
        },
        {
         "data": [
          {
           "hovertemplate": "bird=1<br>time=24<br>x=%{x}<br>y=%{y}<extra></extra>",
           "legendgroup": "1",
           "marker": {
            "color": "#636efa",
            "line": {
             "width": 3
            },
            "opacity": 0.8,
            "size": 14,
            "symbol": "square"
           },
           "mode": "markers",
           "name": "1",
           "orientation": "v",
           "showlegend": true,
           "type": "scatter",
           "x": [
            11
           ],
           "xaxis": "x",
           "y": [
            25
           ],
           "yaxis": "y"
          },
          {
           "hovertemplate": "bird=2<br>time=24<br>x=%{x}<br>y=%{y}<extra></extra>",
           "legendgroup": "2",
           "marker": {
            "color": "#EF553B",
            "line": {
             "width": 3
            },
            "opacity": 0.8,
            "size": 14,
            "symbol": "square"
           },
           "mode": "markers",
           "name": "2",
           "orientation": "v",
           "showlegend": true,
           "type": "scatter",
           "x": [
            2
           ],
           "xaxis": "x",
           "y": [
            15
           ],
           "yaxis": "y"
          },
          {
           "hovertemplate": "bird=3<br>time=24<br>x=%{x}<br>y=%{y}<extra></extra>",
           "legendgroup": "3",
           "marker": {
            "color": "#00cc96",
            "line": {
             "width": 3
            },
            "opacity": 0.8,
            "size": 14,
            "symbol": "square"
           },
           "mode": "markers",
           "name": "3",
           "orientation": "v",
           "showlegend": true,
           "type": "scatter",
           "x": [
            21
           ],
           "xaxis": "x",
           "y": [
            28
           ],
           "yaxis": "y"
          },
          {
           "hovertemplate": "bird=4<br>time=24<br>x=%{x}<br>y=%{y}<extra></extra>",
           "legendgroup": "4",
           "marker": {
            "color": "#ab63fa",
            "line": {
             "width": 3
            },
            "opacity": 0.8,
            "size": 14,
            "symbol": "square"
           },
           "mode": "markers",
           "name": "4",
           "orientation": "v",
           "showlegend": true,
           "type": "scatter",
           "x": [
            24
           ],
           "xaxis": "x",
           "y": [
            13
           ],
           "yaxis": "y"
          },
          {
           "hovertemplate": "bird=5<br>time=24<br>x=%{x}<br>y=%{y}<extra></extra>",
           "legendgroup": "5",
           "marker": {
            "color": "#FFA15A",
            "line": {
             "width": 3
            },
            "opacity": 0.8,
            "size": 14,
            "symbol": "square"
           },
           "mode": "markers",
           "name": "5",
           "orientation": "v",
           "showlegend": true,
           "type": "scatter",
           "x": [
            16
           ],
           "xaxis": "x",
           "y": [
            16
           ],
           "yaxis": "y"
          },
          {
           "hovertemplate": "bird=6<br>time=24<br>x=%{x}<br>y=%{y}<extra></extra>",
           "legendgroup": "6",
           "marker": {
            "color": "#19d3f3",
            "line": {
             "width": 3
            },
            "opacity": 0.8,
            "size": 14,
            "symbol": "square"
           },
           "mode": "markers",
           "name": "6",
           "orientation": "v",
           "showlegend": true,
           "type": "scatter",
           "x": [
            2
           ],
           "xaxis": "x",
           "y": [
            4
           ],
           "yaxis": "y"
          },
          {
           "hovertemplate": "bird=7<br>time=24<br>x=%{x}<br>y=%{y}<extra></extra>",
           "legendgroup": "7",
           "marker": {
            "color": "#FF6692",
            "line": {
             "width": 3
            },
            "opacity": 0.8,
            "size": 14,
            "symbol": "square"
           },
           "mode": "markers",
           "name": "7",
           "orientation": "v",
           "showlegend": true,
           "type": "scatter",
           "x": [
            11
           ],
           "xaxis": "x",
           "y": [
            25
           ],
           "yaxis": "y"
          },
          {
           "hovertemplate": "bird=8<br>time=24<br>x=%{x}<br>y=%{y}<extra></extra>",
           "legendgroup": "8",
           "marker": {
            "color": "#B6E880",
            "line": {
             "width": 3
            },
            "opacity": 0.8,
            "size": 14,
            "symbol": "square"
           },
           "mode": "markers",
           "name": "8",
           "orientation": "v",
           "showlegend": true,
           "type": "scatter",
           "x": [
            14
           ],
           "xaxis": "x",
           "y": [
            8
           ],
           "yaxis": "y"
          },
          {
           "hovertemplate": "bird=9<br>time=24<br>x=%{x}<br>y=%{y}<extra></extra>",
           "legendgroup": "9",
           "marker": {
            "color": "#FF97FF",
            "line": {
             "width": 3
            },
            "opacity": 0.8,
            "size": 14,
            "symbol": "square"
           },
           "mode": "markers",
           "name": "9",
           "orientation": "v",
           "showlegend": true,
           "type": "scatter",
           "x": [
            16
           ],
           "xaxis": "x",
           "y": [
            27
           ],
           "yaxis": "y"
          },
          {
           "hovertemplate": "bird=reward<br>time=24<br>x=%{x}<br>y=%{y}<extra></extra>",
           "legendgroup": "reward",
           "marker": {
            "color": "yellow",
            "symbol": "square"
           },
           "mode": "markers",
           "name": "reward",
           "orientation": "v",
           "showlegend": false,
           "type": "scatter",
           "x": [
            9,
            10,
            12,
            9,
            10,
            11,
            12,
            9,
            12,
            9,
            10,
            11,
            12
           ],
           "xaxis": "x",
           "y": [
            25,
            25,
            25,
            26,
            26,
            26,
            26,
            27,
            27,
            28,
            28,
            28,
            28
           ],
           "yaxis": "y"
          }
         ],
         "name": "24"
        },
        {
         "data": [
          {
           "hovertemplate": "bird=1<br>time=25<br>x=%{x}<br>y=%{y}<extra></extra>",
           "legendgroup": "1",
           "marker": {
            "color": "#636efa",
            "line": {
             "width": 3
            },
            "opacity": 0.8,
            "size": 14,
            "symbol": "square"
           },
           "mode": "markers",
           "name": "1",
           "orientation": "v",
           "showlegend": true,
           "type": "scatter",
           "x": [
            11
           ],
           "xaxis": "x",
           "y": [
            25
           ],
           "yaxis": "y"
          },
          {
           "hovertemplate": "bird=2<br>time=25<br>x=%{x}<br>y=%{y}<extra></extra>",
           "legendgroup": "2",
           "marker": {
            "color": "#EF553B",
            "line": {
             "width": 3
            },
            "opacity": 0.8,
            "size": 14,
            "symbol": "square"
           },
           "mode": "markers",
           "name": "2",
           "orientation": "v",
           "showlegend": true,
           "type": "scatter",
           "x": [
            4
           ],
           "xaxis": "x",
           "y": [
            15
           ],
           "yaxis": "y"
          },
          {
           "hovertemplate": "bird=3<br>time=25<br>x=%{x}<br>y=%{y}<extra></extra>",
           "legendgroup": "3",
           "marker": {
            "color": "#00cc96",
            "line": {
             "width": 3
            },
            "opacity": 0.8,
            "size": 14,
            "symbol": "square"
           },
           "mode": "markers",
           "name": "3",
           "orientation": "v",
           "showlegend": true,
           "type": "scatter",
           "x": [
            21
           ],
           "xaxis": "x",
           "y": [
            25
           ],
           "yaxis": "y"
          },
          {
           "hovertemplate": "bird=4<br>time=25<br>x=%{x}<br>y=%{y}<extra></extra>",
           "legendgroup": "4",
           "marker": {
            "color": "#ab63fa",
            "line": {
             "width": 3
            },
            "opacity": 0.8,
            "size": 14,
            "symbol": "square"
           },
           "mode": "markers",
           "name": "4",
           "orientation": "v",
           "showlegend": true,
           "type": "scatter",
           "x": [
            22
           ],
           "xaxis": "x",
           "y": [
            13
           ],
           "yaxis": "y"
          },
          {
           "hovertemplate": "bird=5<br>time=25<br>x=%{x}<br>y=%{y}<extra></extra>",
           "legendgroup": "5",
           "marker": {
            "color": "#FFA15A",
            "line": {
             "width": 3
            },
            "opacity": 0.8,
            "size": 14,
            "symbol": "square"
           },
           "mode": "markers",
           "name": "5",
           "orientation": "v",
           "showlegend": true,
           "type": "scatter",
           "x": [
            15
           ],
           "xaxis": "x",
           "y": [
            16
           ],
           "yaxis": "y"
          },
          {
           "hovertemplate": "bird=6<br>time=25<br>x=%{x}<br>y=%{y}<extra></extra>",
           "legendgroup": "6",
           "marker": {
            "color": "#19d3f3",
            "line": {
             "width": 3
            },
            "opacity": 0.8,
            "size": 14,
            "symbol": "square"
           },
           "mode": "markers",
           "name": "6",
           "orientation": "v",
           "showlegend": true,
           "type": "scatter",
           "x": [
            2
           ],
           "xaxis": "x",
           "y": [
            4
           ],
           "yaxis": "y"
          },
          {
           "hovertemplate": "bird=7<br>time=25<br>x=%{x}<br>y=%{y}<extra></extra>",
           "legendgroup": "7",
           "marker": {
            "color": "#FF6692",
            "line": {
             "width": 3
            },
            "opacity": 0.8,
            "size": 14,
            "symbol": "square"
           },
           "mode": "markers",
           "name": "7",
           "orientation": "v",
           "showlegend": true,
           "type": "scatter",
           "x": [
            11
           ],
           "xaxis": "x",
           "y": [
            25
           ],
           "yaxis": "y"
          },
          {
           "hovertemplate": "bird=8<br>time=25<br>x=%{x}<br>y=%{y}<extra></extra>",
           "legendgroup": "8",
           "marker": {
            "color": "#B6E880",
            "line": {
             "width": 3
            },
            "opacity": 0.8,
            "size": 14,
            "symbol": "square"
           },
           "mode": "markers",
           "name": "8",
           "orientation": "v",
           "showlegend": true,
           "type": "scatter",
           "x": [
            12
           ],
           "xaxis": "x",
           "y": [
            6
           ],
           "yaxis": "y"
          },
          {
           "hovertemplate": "bird=9<br>time=25<br>x=%{x}<br>y=%{y}<extra></extra>",
           "legendgroup": "9",
           "marker": {
            "color": "#FF97FF",
            "line": {
             "width": 3
            },
            "opacity": 0.8,
            "size": 14,
            "symbol": "square"
           },
           "mode": "markers",
           "name": "9",
           "orientation": "v",
           "showlegend": true,
           "type": "scatter",
           "x": [
            13
           ],
           "xaxis": "x",
           "y": [
            27
           ],
           "yaxis": "y"
          },
          {
           "hovertemplate": "bird=reward<br>time=25<br>x=%{x}<br>y=%{y}<extra></extra>",
           "legendgroup": "reward",
           "marker": {
            "color": "yellow",
            "symbol": "square"
           },
           "mode": "markers",
           "name": "reward",
           "orientation": "v",
           "showlegend": false,
           "type": "scatter",
           "x": [
            9,
            10,
            12,
            9,
            10,
            11,
            12,
            9,
            12,
            9,
            10,
            11,
            12
           ],
           "xaxis": "x",
           "y": [
            25,
            25,
            25,
            26,
            26,
            26,
            26,
            27,
            27,
            28,
            28,
            28,
            28
           ],
           "yaxis": "y"
          }
         ],
         "name": "25"
        },
        {
         "data": [
          {
           "hovertemplate": "bird=1<br>time=26<br>x=%{x}<br>y=%{y}<extra></extra>",
           "legendgroup": "1",
           "marker": {
            "color": "#636efa",
            "line": {
             "width": 3
            },
            "opacity": 0.8,
            "size": 14,
            "symbol": "square"
           },
           "mode": "markers",
           "name": "1",
           "orientation": "v",
           "showlegend": true,
           "type": "scatter",
           "x": [
            11
           ],
           "xaxis": "x",
           "y": [
            25
           ],
           "yaxis": "y"
          },
          {
           "hovertemplate": "bird=2<br>time=26<br>x=%{x}<br>y=%{y}<extra></extra>",
           "legendgroup": "2",
           "marker": {
            "color": "#EF553B",
            "line": {
             "width": 3
            },
            "opacity": 0.8,
            "size": 14,
            "symbol": "square"
           },
           "mode": "markers",
           "name": "2",
           "orientation": "v",
           "showlegend": true,
           "type": "scatter",
           "x": [
            3
           ],
           "xaxis": "x",
           "y": [
            15
           ],
           "yaxis": "y"
          },
          {
           "hovertemplate": "bird=3<br>time=26<br>x=%{x}<br>y=%{y}<extra></extra>",
           "legendgroup": "3",
           "marker": {
            "color": "#00cc96",
            "line": {
             "width": 3
            },
            "opacity": 0.8,
            "size": 14,
            "symbol": "square"
           },
           "mode": "markers",
           "name": "3",
           "orientation": "v",
           "showlegend": true,
           "type": "scatter",
           "x": [
            19
           ],
           "xaxis": "x",
           "y": [
            24
           ],
           "yaxis": "y"
          },
          {
           "hovertemplate": "bird=4<br>time=26<br>x=%{x}<br>y=%{y}<extra></extra>",
           "legendgroup": "4",
           "marker": {
            "color": "#ab63fa",
            "line": {
             "width": 3
            },
            "opacity": 0.8,
            "size": 14,
            "symbol": "square"
           },
           "mode": "markers",
           "name": "4",
           "orientation": "v",
           "showlegend": true,
           "type": "scatter",
           "x": [
            21
           ],
           "xaxis": "x",
           "y": [
            11
           ],
           "yaxis": "y"
          },
          {
           "hovertemplate": "bird=5<br>time=26<br>x=%{x}<br>y=%{y}<extra></extra>",
           "legendgroup": "5",
           "marker": {
            "color": "#FFA15A",
            "line": {
             "width": 3
            },
            "opacity": 0.8,
            "size": 14,
            "symbol": "square"
           },
           "mode": "markers",
           "name": "5",
           "orientation": "v",
           "showlegend": true,
           "type": "scatter",
           "x": [
            13
           ],
           "xaxis": "x",
           "y": [
            18
           ],
           "yaxis": "y"
          },
          {
           "hovertemplate": "bird=6<br>time=26<br>x=%{x}<br>y=%{y}<extra></extra>",
           "legendgroup": "6",
           "marker": {
            "color": "#19d3f3",
            "line": {
             "width": 3
            },
            "opacity": 0.8,
            "size": 14,
            "symbol": "square"
           },
           "mode": "markers",
           "name": "6",
           "orientation": "v",
           "showlegend": true,
           "type": "scatter",
           "x": [
            2
           ],
           "xaxis": "x",
           "y": [
            7
           ],
           "yaxis": "y"
          },
          {
           "hovertemplate": "bird=7<br>time=26<br>x=%{x}<br>y=%{y}<extra></extra>",
           "legendgroup": "7",
           "marker": {
            "color": "#FF6692",
            "line": {
             "width": 3
            },
            "opacity": 0.8,
            "size": 14,
            "symbol": "square"
           },
           "mode": "markers",
           "name": "7",
           "orientation": "v",
           "showlegend": true,
           "type": "scatter",
           "x": [
            11
           ],
           "xaxis": "x",
           "y": [
            25
           ],
           "yaxis": "y"
          },
          {
           "hovertemplate": "bird=8<br>time=26<br>x=%{x}<br>y=%{y}<extra></extra>",
           "legendgroup": "8",
           "marker": {
            "color": "#B6E880",
            "line": {
             "width": 3
            },
            "opacity": 0.8,
            "size": 14,
            "symbol": "square"
           },
           "mode": "markers",
           "name": "8",
           "orientation": "v",
           "showlegend": true,
           "type": "scatter",
           "x": [
            15
           ],
           "xaxis": "x",
           "y": [
            6
           ],
           "yaxis": "y"
          },
          {
           "hovertemplate": "bird=9<br>time=26<br>x=%{x}<br>y=%{y}<extra></extra>",
           "legendgroup": "9",
           "marker": {
            "color": "#FF97FF",
            "line": {
             "width": 3
            },
            "opacity": 0.8,
            "size": 14,
            "symbol": "square"
           },
           "mode": "markers",
           "name": "9",
           "orientation": "v",
           "showlegend": true,
           "type": "scatter",
           "x": [
            11
           ],
           "xaxis": "x",
           "y": [
            25
           ],
           "yaxis": "y"
          },
          {
           "hovertemplate": "bird=reward<br>time=26<br>x=%{x}<br>y=%{y}<extra></extra>",
           "legendgroup": "reward",
           "marker": {
            "color": "yellow",
            "symbol": "square"
           },
           "mode": "markers",
           "name": "reward",
           "orientation": "v",
           "showlegend": false,
           "type": "scatter",
           "x": [
            9,
            10,
            12,
            9,
            10,
            11,
            12,
            9,
            12,
            9,
            10,
            11,
            12
           ],
           "xaxis": "x",
           "y": [
            25,
            25,
            25,
            26,
            26,
            26,
            26,
            27,
            27,
            28,
            28,
            28,
            28
           ],
           "yaxis": "y"
          }
         ],
         "name": "26"
        },
        {
         "data": [
          {
           "hovertemplate": "bird=1<br>time=27<br>x=%{x}<br>y=%{y}<extra></extra>",
           "legendgroup": "1",
           "marker": {
            "color": "#636efa",
            "line": {
             "width": 3
            },
            "opacity": 0.8,
            "size": 14,
            "symbol": "square"
           },
           "mode": "markers",
           "name": "1",
           "orientation": "v",
           "showlegend": true,
           "type": "scatter",
           "x": [
            11
           ],
           "xaxis": "x",
           "y": [
            25
           ],
           "yaxis": "y"
          },
          {
           "hovertemplate": "bird=2<br>time=27<br>x=%{x}<br>y=%{y}<extra></extra>",
           "legendgroup": "2",
           "marker": {
            "color": "#EF553B",
            "line": {
             "width": 3
            },
            "opacity": 0.8,
            "size": 14,
            "symbol": "square"
           },
           "mode": "markers",
           "name": "2",
           "orientation": "v",
           "showlegend": true,
           "type": "scatter",
           "x": [
            1
           ],
           "xaxis": "x",
           "y": [
            13
           ],
           "yaxis": "y"
          },
          {
           "hovertemplate": "bird=3<br>time=27<br>x=%{x}<br>y=%{y}<extra></extra>",
           "legendgroup": "3",
           "marker": {
            "color": "#00cc96",
            "line": {
             "width": 3
            },
            "opacity": 0.8,
            "size": 14,
            "symbol": "square"
           },
           "mode": "markers",
           "name": "3",
           "orientation": "v",
           "showlegend": true,
           "type": "scatter",
           "x": [
            16
           ],
           "xaxis": "x",
           "y": [
            24
           ],
           "yaxis": "y"
          },
          {
           "hovertemplate": "bird=4<br>time=27<br>x=%{x}<br>y=%{y}<extra></extra>",
           "legendgroup": "4",
           "marker": {
            "color": "#ab63fa",
            "line": {
             "width": 3
            },
            "opacity": 0.8,
            "size": 14,
            "symbol": "square"
           },
           "mode": "markers",
           "name": "4",
           "orientation": "v",
           "showlegend": true,
           "type": "scatter",
           "x": [
            22
           ],
           "xaxis": "x",
           "y": [
            9
           ],
           "yaxis": "y"
          },
          {
           "hovertemplate": "bird=5<br>time=27<br>x=%{x}<br>y=%{y}<extra></extra>",
           "legendgroup": "5",
           "marker": {
            "color": "#FFA15A",
            "line": {
             "width": 3
            },
            "opacity": 0.8,
            "size": 14,
            "symbol": "square"
           },
           "mode": "markers",
           "name": "5",
           "orientation": "v",
           "showlegend": true,
           "type": "scatter",
           "x": [
            13
           ],
           "xaxis": "x",
           "y": [
            21
           ],
           "yaxis": "y"
          },
          {
           "hovertemplate": "bird=6<br>time=27<br>x=%{x}<br>y=%{y}<extra></extra>",
           "legendgroup": "6",
           "marker": {
            "color": "#19d3f3",
            "line": {
             "width": 3
            },
            "opacity": 0.8,
            "size": 14,
            "symbol": "square"
           },
           "mode": "markers",
           "name": "6",
           "orientation": "v",
           "showlegend": true,
           "type": "scatter",
           "x": [
            2
           ],
           "xaxis": "x",
           "y": [
            9
           ],
           "yaxis": "y"
          },
          {
           "hovertemplate": "bird=7<br>time=27<br>x=%{x}<br>y=%{y}<extra></extra>",
           "legendgroup": "7",
           "marker": {
            "color": "#FF6692",
            "line": {
             "width": 3
            },
            "opacity": 0.8,
            "size": 14,
            "symbol": "square"
           },
           "mode": "markers",
           "name": "7",
           "orientation": "v",
           "showlegend": true,
           "type": "scatter",
           "x": [
            11
           ],
           "xaxis": "x",
           "y": [
            25
           ],
           "yaxis": "y"
          },
          {
           "hovertemplate": "bird=8<br>time=27<br>x=%{x}<br>y=%{y}<extra></extra>",
           "legendgroup": "8",
           "marker": {
            "color": "#B6E880",
            "line": {
             "width": 3
            },
            "opacity": 0.8,
            "size": 14,
            "symbol": "square"
           },
           "mode": "markers",
           "name": "8",
           "orientation": "v",
           "showlegend": true,
           "type": "scatter",
           "x": [
            12
           ],
           "xaxis": "x",
           "y": [
            6
           ],
           "yaxis": "y"
          },
          {
           "hovertemplate": "bird=9<br>time=27<br>x=%{x}<br>y=%{y}<extra></extra>",
           "legendgroup": "9",
           "marker": {
            "color": "#FF97FF",
            "line": {
             "width": 3
            },
            "opacity": 0.8,
            "size": 14,
            "symbol": "square"
           },
           "mode": "markers",
           "name": "9",
           "orientation": "v",
           "showlegend": true,
           "type": "scatter",
           "x": [
            11
           ],
           "xaxis": "x",
           "y": [
            25
           ],
           "yaxis": "y"
          },
          {
           "hovertemplate": "bird=reward<br>time=27<br>x=%{x}<br>y=%{y}<extra></extra>",
           "legendgroup": "reward",
           "marker": {
            "color": "yellow",
            "symbol": "square"
           },
           "mode": "markers",
           "name": "reward",
           "orientation": "v",
           "showlegend": false,
           "type": "scatter",
           "x": [
            9,
            10,
            12,
            9,
            10,
            11,
            12,
            9,
            12,
            9,
            10,
            11,
            12
           ],
           "xaxis": "x",
           "y": [
            25,
            25,
            25,
            26,
            26,
            26,
            26,
            27,
            27,
            28,
            28,
            28,
            28
           ],
           "yaxis": "y"
          }
         ],
         "name": "27"
        },
        {
         "data": [
          {
           "hovertemplate": "bird=1<br>time=28<br>x=%{x}<br>y=%{y}<extra></extra>",
           "legendgroup": "1",
           "marker": {
            "color": "#636efa",
            "line": {
             "width": 3
            },
            "opacity": 0.8,
            "size": 14,
            "symbol": "square"
           },
           "mode": "markers",
           "name": "1",
           "orientation": "v",
           "showlegend": true,
           "type": "scatter",
           "x": [
            11
           ],
           "xaxis": "x",
           "y": [
            25
           ],
           "yaxis": "y"
          },
          {
           "hovertemplate": "bird=2<br>time=28<br>x=%{x}<br>y=%{y}<extra></extra>",
           "legendgroup": "2",
           "marker": {
            "color": "#EF553B",
            "line": {
             "width": 3
            },
            "opacity": 0.8,
            "size": 14,
            "symbol": "square"
           },
           "mode": "markers",
           "name": "2",
           "orientation": "v",
           "showlegend": true,
           "type": "scatter",
           "x": [
            2
           ],
           "xaxis": "x",
           "y": [
            15
           ],
           "yaxis": "y"
          },
          {
           "hovertemplate": "bird=3<br>time=28<br>x=%{x}<br>y=%{y}<extra></extra>",
           "legendgroup": "3",
           "marker": {
            "color": "#00cc96",
            "line": {
             "width": 3
            },
            "opacity": 0.8,
            "size": 14,
            "symbol": "square"
           },
           "mode": "markers",
           "name": "3",
           "orientation": "v",
           "showlegend": true,
           "type": "scatter",
           "x": [
            14
           ],
           "xaxis": "x",
           "y": [
            25
           ],
           "yaxis": "y"
          },
          {
           "hovertemplate": "bird=4<br>time=28<br>x=%{x}<br>y=%{y}<extra></extra>",
           "legendgroup": "4",
           "marker": {
            "color": "#ab63fa",
            "line": {
             "width": 3
            },
            "opacity": 0.8,
            "size": 14,
            "symbol": "square"
           },
           "mode": "markers",
           "name": "4",
           "orientation": "v",
           "showlegend": true,
           "type": "scatter",
           "x": [
            19
           ],
           "xaxis": "x",
           "y": [
            9
           ],
           "yaxis": "y"
          },
          {
           "hovertemplate": "bird=5<br>time=28<br>x=%{x}<br>y=%{y}<extra></extra>",
           "legendgroup": "5",
           "marker": {
            "color": "#FFA15A",
            "line": {
             "width": 3
            },
            "opacity": 0.8,
            "size": 14,
            "symbol": "square"
           },
           "mode": "markers",
           "name": "5",
           "orientation": "v",
           "showlegend": true,
           "type": "scatter",
           "x": [
            11
           ],
           "xaxis": "x",
           "y": [
            23
           ],
           "yaxis": "y"
          },
          {
           "hovertemplate": "bird=6<br>time=28<br>x=%{x}<br>y=%{y}<extra></extra>",
           "legendgroup": "6",
           "marker": {
            "color": "#19d3f3",
            "line": {
             "width": 3
            },
            "opacity": 0.8,
            "size": 14,
            "symbol": "square"
           },
           "mode": "markers",
           "name": "6",
           "orientation": "v",
           "showlegend": true,
           "type": "scatter",
           "x": [
            2
           ],
           "xaxis": "x",
           "y": [
            12
           ],
           "yaxis": "y"
          },
          {
           "hovertemplate": "bird=7<br>time=28<br>x=%{x}<br>y=%{y}<extra></extra>",
           "legendgroup": "7",
           "marker": {
            "color": "#FF6692",
            "line": {
             "width": 3
            },
            "opacity": 0.8,
            "size": 14,
            "symbol": "square"
           },
           "mode": "markers",
           "name": "7",
           "orientation": "v",
           "showlegend": true,
           "type": "scatter",
           "x": [
            11
           ],
           "xaxis": "x",
           "y": [
            25
           ],
           "yaxis": "y"
          },
          {
           "hovertemplate": "bird=8<br>time=28<br>x=%{x}<br>y=%{y}<extra></extra>",
           "legendgroup": "8",
           "marker": {
            "color": "#B6E880",
            "line": {
             "width": 3
            },
            "opacity": 0.8,
            "size": 14,
            "symbol": "square"
           },
           "mode": "markers",
           "name": "8",
           "orientation": "v",
           "showlegend": true,
           "type": "scatter",
           "x": [
            15
           ],
           "xaxis": "x",
           "y": [
            6
           ],
           "yaxis": "y"
          },
          {
           "hovertemplate": "bird=9<br>time=28<br>x=%{x}<br>y=%{y}<extra></extra>",
           "legendgroup": "9",
           "marker": {
            "color": "#FF97FF",
            "line": {
             "width": 3
            },
            "opacity": 0.8,
            "size": 14,
            "symbol": "square"
           },
           "mode": "markers",
           "name": "9",
           "orientation": "v",
           "showlegend": true,
           "type": "scatter",
           "x": [
            11
           ],
           "xaxis": "x",
           "y": [
            25
           ],
           "yaxis": "y"
          },
          {
           "hovertemplate": "bird=reward<br>time=28<br>x=%{x}<br>y=%{y}<extra></extra>",
           "legendgroup": "reward",
           "marker": {
            "color": "yellow",
            "symbol": "square"
           },
           "mode": "markers",
           "name": "reward",
           "orientation": "v",
           "showlegend": false,
           "type": "scatter",
           "x": [
            9,
            10,
            12,
            9,
            10,
            11,
            12,
            9,
            12,
            9,
            10,
            11,
            12
           ],
           "xaxis": "x",
           "y": [
            25,
            25,
            25,
            26,
            26,
            26,
            26,
            27,
            27,
            28,
            28,
            28,
            28
           ],
           "yaxis": "y"
          }
         ],
         "name": "28"
        },
        {
         "data": [
          {
           "hovertemplate": "bird=1<br>time=29<br>x=%{x}<br>y=%{y}<extra></extra>",
           "legendgroup": "1",
           "marker": {
            "color": "#636efa",
            "line": {
             "width": 3
            },
            "opacity": 0.8,
            "size": 14,
            "symbol": "square"
           },
           "mode": "markers",
           "name": "1",
           "orientation": "v",
           "showlegend": true,
           "type": "scatter",
           "x": [
            11
           ],
           "xaxis": "x",
           "y": [
            25
           ],
           "yaxis": "y"
          },
          {
           "hovertemplate": "bird=2<br>time=29<br>x=%{x}<br>y=%{y}<extra></extra>",
           "legendgroup": "2",
           "marker": {
            "color": "#EF553B",
            "line": {
             "width": 3
            },
            "opacity": 0.8,
            "size": 14,
            "symbol": "square"
           },
           "mode": "markers",
           "name": "2",
           "orientation": "v",
           "showlegend": true,
           "type": "scatter",
           "x": [
            2
           ],
           "xaxis": "x",
           "y": [
            12
           ],
           "yaxis": "y"
          },
          {
           "hovertemplate": "bird=3<br>time=29<br>x=%{x}<br>y=%{y}<extra></extra>",
           "legendgroup": "3",
           "marker": {
            "color": "#00cc96",
            "line": {
             "width": 3
            },
            "opacity": 0.8,
            "size": 14,
            "symbol": "square"
           },
           "mode": "markers",
           "name": "3",
           "orientation": "v",
           "showlegend": true,
           "type": "scatter",
           "x": [
            11
           ],
           "xaxis": "x",
           "y": [
            25
           ],
           "yaxis": "y"
          },
          {
           "hovertemplate": "bird=4<br>time=29<br>x=%{x}<br>y=%{y}<extra></extra>",
           "legendgroup": "4",
           "marker": {
            "color": "#ab63fa",
            "line": {
             "width": 3
            },
            "opacity": 0.8,
            "size": 14,
            "symbol": "square"
           },
           "mode": "markers",
           "name": "4",
           "orientation": "v",
           "showlegend": true,
           "type": "scatter",
           "x": [
            18
           ],
           "xaxis": "x",
           "y": [
            9
           ],
           "yaxis": "y"
          },
          {
           "hovertemplate": "bird=5<br>time=29<br>x=%{x}<br>y=%{y}<extra></extra>",
           "legendgroup": "5",
           "marker": {
            "color": "#FFA15A",
            "line": {
             "width": 3
            },
            "opacity": 0.8,
            "size": 14,
            "symbol": "square"
           },
           "mode": "markers",
           "name": "5",
           "orientation": "v",
           "showlegend": true,
           "type": "scatter",
           "x": [
            11
           ],
           "xaxis": "x",
           "y": [
            25
           ],
           "yaxis": "y"
          },
          {
           "hovertemplate": "bird=6<br>time=29<br>x=%{x}<br>y=%{y}<extra></extra>",
           "legendgroup": "6",
           "marker": {
            "color": "#19d3f3",
            "line": {
             "width": 3
            },
            "opacity": 0.8,
            "size": 14,
            "symbol": "square"
           },
           "mode": "markers",
           "name": "6",
           "orientation": "v",
           "showlegend": true,
           "type": "scatter",
           "x": [
            3
           ],
           "xaxis": "x",
           "y": [
            14
           ],
           "yaxis": "y"
          },
          {
           "hovertemplate": "bird=7<br>time=29<br>x=%{x}<br>y=%{y}<extra></extra>",
           "legendgroup": "7",
           "marker": {
            "color": "#FF6692",
            "line": {
             "width": 3
            },
            "opacity": 0.8,
            "size": 14,
            "symbol": "square"
           },
           "mode": "markers",
           "name": "7",
           "orientation": "v",
           "showlegend": true,
           "type": "scatter",
           "x": [
            11
           ],
           "xaxis": "x",
           "y": [
            25
           ],
           "yaxis": "y"
          },
          {
           "hovertemplate": "bird=8<br>time=29<br>x=%{x}<br>y=%{y}<extra></extra>",
           "legendgroup": "8",
           "marker": {
            "color": "#B6E880",
            "line": {
             "width": 3
            },
            "opacity": 0.8,
            "size": 14,
            "symbol": "square"
           },
           "mode": "markers",
           "name": "8",
           "orientation": "v",
           "showlegend": true,
           "type": "scatter",
           "x": [
            15
           ],
           "xaxis": "x",
           "y": [
            6
           ],
           "yaxis": "y"
          },
          {
           "hovertemplate": "bird=9<br>time=29<br>x=%{x}<br>y=%{y}<extra></extra>",
           "legendgroup": "9",
           "marker": {
            "color": "#FF97FF",
            "line": {
             "width": 3
            },
            "opacity": 0.8,
            "size": 14,
            "symbol": "square"
           },
           "mode": "markers",
           "name": "9",
           "orientation": "v",
           "showlegend": true,
           "type": "scatter",
           "x": [
            11
           ],
           "xaxis": "x",
           "y": [
            25
           ],
           "yaxis": "y"
          },
          {
           "hovertemplate": "bird=reward<br>time=29<br>x=%{x}<br>y=%{y}<extra></extra>",
           "legendgroup": "reward",
           "marker": {
            "color": "yellow",
            "symbol": "square"
           },
           "mode": "markers",
           "name": "reward",
           "orientation": "v",
           "showlegend": false,
           "type": "scatter",
           "x": [
            9,
            10,
            12,
            9,
            10,
            11,
            12,
            9,
            12,
            9,
            10,
            11,
            12
           ],
           "xaxis": "x",
           "y": [
            25,
            25,
            25,
            26,
            26,
            26,
            26,
            27,
            27,
            28,
            28,
            28,
            28
           ],
           "yaxis": "y"
          }
         ],
         "name": "29"
        },
        {
         "data": [
          {
           "hovertemplate": "bird=1<br>time=30<br>x=%{x}<br>y=%{y}<extra></extra>",
           "legendgroup": "1",
           "marker": {
            "color": "#636efa",
            "line": {
             "width": 3
            },
            "opacity": 0.8,
            "size": 14,
            "symbol": "square"
           },
           "mode": "markers",
           "name": "1",
           "orientation": "v",
           "showlegend": true,
           "type": "scatter",
           "x": [
            11
           ],
           "xaxis": "x",
           "y": [
            25
           ],
           "yaxis": "y"
          },
          {
           "hovertemplate": "bird=2<br>time=30<br>x=%{x}<br>y=%{y}<extra></extra>",
           "legendgroup": "2",
           "marker": {
            "color": "#EF553B",
            "line": {
             "width": 3
            },
            "opacity": 0.8,
            "size": 14,
            "symbol": "square"
           },
           "mode": "markers",
           "name": "2",
           "orientation": "v",
           "showlegend": true,
           "type": "scatter",
           "x": [
            4
           ],
           "xaxis": "x",
           "y": [
            13
           ],
           "yaxis": "y"
          },
          {
           "hovertemplate": "bird=3<br>time=30<br>x=%{x}<br>y=%{y}<extra></extra>",
           "legendgroup": "3",
           "marker": {
            "color": "#00cc96",
            "line": {
             "width": 3
            },
            "opacity": 0.8,
            "size": 14,
            "symbol": "square"
           },
           "mode": "markers",
           "name": "3",
           "orientation": "v",
           "showlegend": true,
           "type": "scatter",
           "x": [
            11
           ],
           "xaxis": "x",
           "y": [
            25
           ],
           "yaxis": "y"
          },
          {
           "hovertemplate": "bird=4<br>time=30<br>x=%{x}<br>y=%{y}<extra></extra>",
           "legendgroup": "4",
           "marker": {
            "color": "#ab63fa",
            "line": {
             "width": 3
            },
            "opacity": 0.8,
            "size": 14,
            "symbol": "square"
           },
           "mode": "markers",
           "name": "4",
           "orientation": "v",
           "showlegend": true,
           "type": "scatter",
           "x": [
            20
           ],
           "xaxis": "x",
           "y": [
            11
           ],
           "yaxis": "y"
          },
          {
           "hovertemplate": "bird=5<br>time=30<br>x=%{x}<br>y=%{y}<extra></extra>",
           "legendgroup": "5",
           "marker": {
            "color": "#FFA15A",
            "line": {
             "width": 3
            },
            "opacity": 0.8,
            "size": 14,
            "symbol": "square"
           },
           "mode": "markers",
           "name": "5",
           "orientation": "v",
           "showlegend": true,
           "type": "scatter",
           "x": [
            11
           ],
           "xaxis": "x",
           "y": [
            25
           ],
           "yaxis": "y"
          },
          {
           "hovertemplate": "bird=6<br>time=30<br>x=%{x}<br>y=%{y}<extra></extra>",
           "legendgroup": "6",
           "marker": {
            "color": "#19d3f3",
            "line": {
             "width": 3
            },
            "opacity": 0.8,
            "size": 14,
            "symbol": "square"
           },
           "mode": "markers",
           "name": "6",
           "orientation": "v",
           "showlegend": true,
           "type": "scatter",
           "x": [
            3
           ],
           "xaxis": "x",
           "y": [
            16
           ],
           "yaxis": "y"
          },
          {
           "hovertemplate": "bird=7<br>time=30<br>x=%{x}<br>y=%{y}<extra></extra>",
           "legendgroup": "7",
           "marker": {
            "color": "#FF6692",
            "line": {
             "width": 3
            },
            "opacity": 0.8,
            "size": 14,
            "symbol": "square"
           },
           "mode": "markers",
           "name": "7",
           "orientation": "v",
           "showlegend": true,
           "type": "scatter",
           "x": [
            11
           ],
           "xaxis": "x",
           "y": [
            25
           ],
           "yaxis": "y"
          },
          {
           "hovertemplate": "bird=8<br>time=30<br>x=%{x}<br>y=%{y}<extra></extra>",
           "legendgroup": "8",
           "marker": {
            "color": "#B6E880",
            "line": {
             "width": 3
            },
            "opacity": 0.8,
            "size": 14,
            "symbol": "square"
           },
           "mode": "markers",
           "name": "8",
           "orientation": "v",
           "showlegend": true,
           "type": "scatter",
           "x": [
            16
           ],
           "xaxis": "x",
           "y": [
            6
           ],
           "yaxis": "y"
          },
          {
           "hovertemplate": "bird=9<br>time=30<br>x=%{x}<br>y=%{y}<extra></extra>",
           "legendgroup": "9",
           "marker": {
            "color": "#FF97FF",
            "line": {
             "width": 3
            },
            "opacity": 0.8,
            "size": 14,
            "symbol": "square"
           },
           "mode": "markers",
           "name": "9",
           "orientation": "v",
           "showlegend": true,
           "type": "scatter",
           "x": [
            11
           ],
           "xaxis": "x",
           "y": [
            25
           ],
           "yaxis": "y"
          },
          {
           "hovertemplate": "bird=reward<br>time=30<br>x=%{x}<br>y=%{y}<extra></extra>",
           "legendgroup": "reward",
           "marker": {
            "color": "yellow",
            "symbol": "square"
           },
           "mode": "markers",
           "name": "reward",
           "orientation": "v",
           "showlegend": false,
           "type": "scatter",
           "x": [
            9,
            10,
            12,
            9,
            10,
            11,
            12,
            9,
            12,
            9,
            10,
            11,
            12
           ],
           "xaxis": "x",
           "y": [
            25,
            25,
            25,
            26,
            26,
            26,
            26,
            27,
            27,
            28,
            28,
            28,
            28
           ],
           "yaxis": "y"
          }
         ],
         "name": "30"
        },
        {
         "data": [
          {
           "hovertemplate": "bird=1<br>time=31<br>x=%{x}<br>y=%{y}<extra></extra>",
           "legendgroup": "1",
           "marker": {
            "color": "#636efa",
            "line": {
             "width": 3
            },
            "opacity": 0.8,
            "size": 14,
            "symbol": "square"
           },
           "mode": "markers",
           "name": "1",
           "orientation": "v",
           "showlegend": true,
           "type": "scatter",
           "x": [
            11
           ],
           "xaxis": "x",
           "y": [
            25
           ],
           "yaxis": "y"
          },
          {
           "hovertemplate": "bird=2<br>time=31<br>x=%{x}<br>y=%{y}<extra></extra>",
           "legendgroup": "2",
           "marker": {
            "color": "#EF553B",
            "line": {
             "width": 3
            },
            "opacity": 0.8,
            "size": 14,
            "symbol": "square"
           },
           "mode": "markers",
           "name": "2",
           "orientation": "v",
           "showlegend": true,
           "type": "scatter",
           "x": [
            2
           ],
           "xaxis": "x",
           "y": [
            11
           ],
           "yaxis": "y"
          },
          {
           "hovertemplate": "bird=3<br>time=31<br>x=%{x}<br>y=%{y}<extra></extra>",
           "legendgroup": "3",
           "marker": {
            "color": "#00cc96",
            "line": {
             "width": 3
            },
            "opacity": 0.8,
            "size": 14,
            "symbol": "square"
           },
           "mode": "markers",
           "name": "3",
           "orientation": "v",
           "showlegend": true,
           "type": "scatter",
           "x": [
            11
           ],
           "xaxis": "x",
           "y": [
            25
           ],
           "yaxis": "y"
          },
          {
           "hovertemplate": "bird=4<br>time=31<br>x=%{x}<br>y=%{y}<extra></extra>",
           "legendgroup": "4",
           "marker": {
            "color": "#ab63fa",
            "line": {
             "width": 3
            },
            "opacity": 0.8,
            "size": 14,
            "symbol": "square"
           },
           "mode": "markers",
           "name": "4",
           "orientation": "v",
           "showlegend": true,
           "type": "scatter",
           "x": [
            21
           ],
           "xaxis": "x",
           "y": [
            12
           ],
           "yaxis": "y"
          },
          {
           "hovertemplate": "bird=5<br>time=31<br>x=%{x}<br>y=%{y}<extra></extra>",
           "legendgroup": "5",
           "marker": {
            "color": "#FFA15A",
            "line": {
             "width": 3
            },
            "opacity": 0.8,
            "size": 14,
            "symbol": "square"
           },
           "mode": "markers",
           "name": "5",
           "orientation": "v",
           "showlegend": true,
           "type": "scatter",
           "x": [
            11
           ],
           "xaxis": "x",
           "y": [
            25
           ],
           "yaxis": "y"
          },
          {
           "hovertemplate": "bird=6<br>time=31<br>x=%{x}<br>y=%{y}<extra></extra>",
           "legendgroup": "6",
           "marker": {
            "color": "#19d3f3",
            "line": {
             "width": 3
            },
            "opacity": 0.8,
            "size": 14,
            "symbol": "square"
           },
           "mode": "markers",
           "name": "6",
           "orientation": "v",
           "showlegend": true,
           "type": "scatter",
           "x": [
            5
           ],
           "xaxis": "x",
           "y": [
            14
           ],
           "yaxis": "y"
          },
          {
           "hovertemplate": "bird=7<br>time=31<br>x=%{x}<br>y=%{y}<extra></extra>",
           "legendgroup": "7",
           "marker": {
            "color": "#FF6692",
            "line": {
             "width": 3
            },
            "opacity": 0.8,
            "size": 14,
            "symbol": "square"
           },
           "mode": "markers",
           "name": "7",
           "orientation": "v",
           "showlegend": true,
           "type": "scatter",
           "x": [
            11
           ],
           "xaxis": "x",
           "y": [
            25
           ],
           "yaxis": "y"
          },
          {
           "hovertemplate": "bird=8<br>time=31<br>x=%{x}<br>y=%{y}<extra></extra>",
           "legendgroup": "8",
           "marker": {
            "color": "#B6E880",
            "line": {
             "width": 3
            },
            "opacity": 0.8,
            "size": 14,
            "symbol": "square"
           },
           "mode": "markers",
           "name": "8",
           "orientation": "v",
           "showlegend": true,
           "type": "scatter",
           "x": [
            14
           ],
           "xaxis": "x",
           "y": [
            7
           ],
           "yaxis": "y"
          },
          {
           "hovertemplate": "bird=9<br>time=31<br>x=%{x}<br>y=%{y}<extra></extra>",
           "legendgroup": "9",
           "marker": {
            "color": "#FF97FF",
            "line": {
             "width": 3
            },
            "opacity": 0.8,
            "size": 14,
            "symbol": "square"
           },
           "mode": "markers",
           "name": "9",
           "orientation": "v",
           "showlegend": true,
           "type": "scatter",
           "x": [
            11
           ],
           "xaxis": "x",
           "y": [
            25
           ],
           "yaxis": "y"
          },
          {
           "hovertemplate": "bird=reward<br>time=31<br>x=%{x}<br>y=%{y}<extra></extra>",
           "legendgroup": "reward",
           "marker": {
            "color": "yellow",
            "symbol": "square"
           },
           "mode": "markers",
           "name": "reward",
           "orientation": "v",
           "showlegend": false,
           "type": "scatter",
           "x": [
            9,
            10,
            12,
            9,
            10,
            11,
            12,
            9,
            12,
            9,
            10,
            11,
            12
           ],
           "xaxis": "x",
           "y": [
            25,
            25,
            25,
            26,
            26,
            26,
            26,
            27,
            27,
            28,
            28,
            28,
            28
           ],
           "yaxis": "y"
          }
         ],
         "name": "31"
        },
        {
         "data": [
          {
           "hovertemplate": "bird=1<br>time=32<br>x=%{x}<br>y=%{y}<extra></extra>",
           "legendgroup": "1",
           "marker": {
            "color": "#636efa",
            "line": {
             "width": 3
            },
            "opacity": 0.8,
            "size": 14,
            "symbol": "square"
           },
           "mode": "markers",
           "name": "1",
           "orientation": "v",
           "showlegend": true,
           "type": "scatter",
           "x": [
            11
           ],
           "xaxis": "x",
           "y": [
            25
           ],
           "yaxis": "y"
          },
          {
           "hovertemplate": "bird=2<br>time=32<br>x=%{x}<br>y=%{y}<extra></extra>",
           "legendgroup": "2",
           "marker": {
            "color": "#EF553B",
            "line": {
             "width": 3
            },
            "opacity": 0.8,
            "size": 14,
            "symbol": "square"
           },
           "mode": "markers",
           "name": "2",
           "orientation": "v",
           "showlegend": true,
           "type": "scatter",
           "x": [
            2
           ],
           "xaxis": "x",
           "y": [
            11
           ],
           "yaxis": "y"
          },
          {
           "hovertemplate": "bird=3<br>time=32<br>x=%{x}<br>y=%{y}<extra></extra>",
           "legendgroup": "3",
           "marker": {
            "color": "#00cc96",
            "line": {
             "width": 3
            },
            "opacity": 0.8,
            "size": 14,
            "symbol": "square"
           },
           "mode": "markers",
           "name": "3",
           "orientation": "v",
           "showlegend": true,
           "type": "scatter",
           "x": [
            11
           ],
           "xaxis": "x",
           "y": [
            25
           ],
           "yaxis": "y"
          },
          {
           "hovertemplate": "bird=4<br>time=32<br>x=%{x}<br>y=%{y}<extra></extra>",
           "legendgroup": "4",
           "marker": {
            "color": "#ab63fa",
            "line": {
             "width": 3
            },
            "opacity": 0.8,
            "size": 14,
            "symbol": "square"
           },
           "mode": "markers",
           "name": "4",
           "orientation": "v",
           "showlegend": true,
           "type": "scatter",
           "x": [
            22
           ],
           "xaxis": "x",
           "y": [
            13
           ],
           "yaxis": "y"
          },
          {
           "hovertemplate": "bird=5<br>time=32<br>x=%{x}<br>y=%{y}<extra></extra>",
           "legendgroup": "5",
           "marker": {
            "color": "#FFA15A",
            "line": {
             "width": 3
            },
            "opacity": 0.8,
            "size": 14,
            "symbol": "square"
           },
           "mode": "markers",
           "name": "5",
           "orientation": "v",
           "showlegend": true,
           "type": "scatter",
           "x": [
            11
           ],
           "xaxis": "x",
           "y": [
            25
           ],
           "yaxis": "y"
          },
          {
           "hovertemplate": "bird=6<br>time=32<br>x=%{x}<br>y=%{y}<extra></extra>",
           "legendgroup": "6",
           "marker": {
            "color": "#19d3f3",
            "line": {
             "width": 3
            },
            "opacity": 0.8,
            "size": 14,
            "symbol": "square"
           },
           "mode": "markers",
           "name": "6",
           "orientation": "v",
           "showlegend": true,
           "type": "scatter",
           "x": [
            7
           ],
           "xaxis": "x",
           "y": [
            12
           ],
           "yaxis": "y"
          },
          {
           "hovertemplate": "bird=7<br>time=32<br>x=%{x}<br>y=%{y}<extra></extra>",
           "legendgroup": "7",
           "marker": {
            "color": "#FF6692",
            "line": {
             "width": 3
            },
            "opacity": 0.8,
            "size": 14,
            "symbol": "square"
           },
           "mode": "markers",
           "name": "7",
           "orientation": "v",
           "showlegend": true,
           "type": "scatter",
           "x": [
            11
           ],
           "xaxis": "x",
           "y": [
            25
           ],
           "yaxis": "y"
          },
          {
           "hovertemplate": "bird=8<br>time=32<br>x=%{x}<br>y=%{y}<extra></extra>",
           "legendgroup": "8",
           "marker": {
            "color": "#B6E880",
            "line": {
             "width": 3
            },
            "opacity": 0.8,
            "size": 14,
            "symbol": "square"
           },
           "mode": "markers",
           "name": "8",
           "orientation": "v",
           "showlegend": true,
           "type": "scatter",
           "x": [
            14
           ],
           "xaxis": "x",
           "y": [
            5
           ],
           "yaxis": "y"
          },
          {
           "hovertemplate": "bird=9<br>time=32<br>x=%{x}<br>y=%{y}<extra></extra>",
           "legendgroup": "9",
           "marker": {
            "color": "#FF97FF",
            "line": {
             "width": 3
            },
            "opacity": 0.8,
            "size": 14,
            "symbol": "square"
           },
           "mode": "markers",
           "name": "9",
           "orientation": "v",
           "showlegend": true,
           "type": "scatter",
           "x": [
            11
           ],
           "xaxis": "x",
           "y": [
            25
           ],
           "yaxis": "y"
          },
          {
           "hovertemplate": "bird=reward<br>time=32<br>x=%{x}<br>y=%{y}<extra></extra>",
           "legendgroup": "reward",
           "marker": {
            "color": "yellow",
            "symbol": "square"
           },
           "mode": "markers",
           "name": "reward",
           "orientation": "v",
           "showlegend": false,
           "type": "scatter",
           "x": [
            9,
            10,
            12,
            9,
            10,
            11,
            12,
            9,
            12,
            9,
            10,
            11,
            12
           ],
           "xaxis": "x",
           "y": [
            25,
            25,
            25,
            26,
            26,
            26,
            26,
            27,
            27,
            28,
            28,
            28,
            28
           ],
           "yaxis": "y"
          }
         ],
         "name": "32"
        },
        {
         "data": [
          {
           "hovertemplate": "bird=1<br>time=33<br>x=%{x}<br>y=%{y}<extra></extra>",
           "legendgroup": "1",
           "marker": {
            "color": "#636efa",
            "line": {
             "width": 3
            },
            "opacity": 0.8,
            "size": 14,
            "symbol": "square"
           },
           "mode": "markers",
           "name": "1",
           "orientation": "v",
           "showlegend": true,
           "type": "scatter",
           "x": [
            11
           ],
           "xaxis": "x",
           "y": [
            25
           ],
           "yaxis": "y"
          },
          {
           "hovertemplate": "bird=2<br>time=33<br>x=%{x}<br>y=%{y}<extra></extra>",
           "legendgroup": "2",
           "marker": {
            "color": "#EF553B",
            "line": {
             "width": 3
            },
            "opacity": 0.8,
            "size": 14,
            "symbol": "square"
           },
           "mode": "markers",
           "name": "2",
           "orientation": "v",
           "showlegend": true,
           "type": "scatter",
           "x": [
            4
           ],
           "xaxis": "x",
           "y": [
            10
           ],
           "yaxis": "y"
          },
          {
           "hovertemplate": "bird=3<br>time=33<br>x=%{x}<br>y=%{y}<extra></extra>",
           "legendgroup": "3",
           "marker": {
            "color": "#00cc96",
            "line": {
             "width": 3
            },
            "opacity": 0.8,
            "size": 14,
            "symbol": "square"
           },
           "mode": "markers",
           "name": "3",
           "orientation": "v",
           "showlegend": true,
           "type": "scatter",
           "x": [
            11
           ],
           "xaxis": "x",
           "y": [
            25
           ],
           "yaxis": "y"
          },
          {
           "hovertemplate": "bird=4<br>time=33<br>x=%{x}<br>y=%{y}<extra></extra>",
           "legendgroup": "4",
           "marker": {
            "color": "#ab63fa",
            "line": {
             "width": 3
            },
            "opacity": 0.8,
            "size": 14,
            "symbol": "square"
           },
           "mode": "markers",
           "name": "4",
           "orientation": "v",
           "showlegend": true,
           "type": "scatter",
           "x": [
            20
           ],
           "xaxis": "x",
           "y": [
            15
           ],
           "yaxis": "y"
          },
          {
           "hovertemplate": "bird=5<br>time=33<br>x=%{x}<br>y=%{y}<extra></extra>",
           "legendgroup": "5",
           "marker": {
            "color": "#FFA15A",
            "line": {
             "width": 3
            },
            "opacity": 0.8,
            "size": 14,
            "symbol": "square"
           },
           "mode": "markers",
           "name": "5",
           "orientation": "v",
           "showlegend": true,
           "type": "scatter",
           "x": [
            11
           ],
           "xaxis": "x",
           "y": [
            25
           ],
           "yaxis": "y"
          },
          {
           "hovertemplate": "bird=6<br>time=33<br>x=%{x}<br>y=%{y}<extra></extra>",
           "legendgroup": "6",
           "marker": {
            "color": "#19d3f3",
            "line": {
             "width": 3
            },
            "opacity": 0.8,
            "size": 14,
            "symbol": "square"
           },
           "mode": "markers",
           "name": "6",
           "orientation": "v",
           "showlegend": true,
           "type": "scatter",
           "x": [
            8
           ],
           "xaxis": "x",
           "y": [
            11
           ],
           "yaxis": "y"
          },
          {
           "hovertemplate": "bird=7<br>time=33<br>x=%{x}<br>y=%{y}<extra></extra>",
           "legendgroup": "7",
           "marker": {
            "color": "#FF6692",
            "line": {
             "width": 3
            },
            "opacity": 0.8,
            "size": 14,
            "symbol": "square"
           },
           "mode": "markers",
           "name": "7",
           "orientation": "v",
           "showlegend": true,
           "type": "scatter",
           "x": [
            11
           ],
           "xaxis": "x",
           "y": [
            25
           ],
           "yaxis": "y"
          },
          {
           "hovertemplate": "bird=8<br>time=33<br>x=%{x}<br>y=%{y}<extra></extra>",
           "legendgroup": "8",
           "marker": {
            "color": "#B6E880",
            "line": {
             "width": 3
            },
            "opacity": 0.8,
            "size": 14,
            "symbol": "square"
           },
           "mode": "markers",
           "name": "8",
           "orientation": "v",
           "showlegend": true,
           "type": "scatter",
           "x": [
            14
           ],
           "xaxis": "x",
           "y": [
            7
           ],
           "yaxis": "y"
          },
          {
           "hovertemplate": "bird=9<br>time=33<br>x=%{x}<br>y=%{y}<extra></extra>",
           "legendgroup": "9",
           "marker": {
            "color": "#FF97FF",
            "line": {
             "width": 3
            },
            "opacity": 0.8,
            "size": 14,
            "symbol": "square"
           },
           "mode": "markers",
           "name": "9",
           "orientation": "v",
           "showlegend": true,
           "type": "scatter",
           "x": [
            11
           ],
           "xaxis": "x",
           "y": [
            25
           ],
           "yaxis": "y"
          },
          {
           "hovertemplate": "bird=reward<br>time=33<br>x=%{x}<br>y=%{y}<extra></extra>",
           "legendgroup": "reward",
           "marker": {
            "color": "yellow",
            "symbol": "square"
           },
           "mode": "markers",
           "name": "reward",
           "orientation": "v",
           "showlegend": false,
           "type": "scatter",
           "x": [
            9,
            10,
            12,
            9,
            10,
            11,
            12,
            9,
            12,
            9,
            10,
            11,
            12
           ],
           "xaxis": "x",
           "y": [
            25,
            25,
            25,
            26,
            26,
            26,
            26,
            27,
            27,
            28,
            28,
            28,
            28
           ],
           "yaxis": "y"
          }
         ],
         "name": "33"
        },
        {
         "data": [
          {
           "hovertemplate": "bird=1<br>time=34<br>x=%{x}<br>y=%{y}<extra></extra>",
           "legendgroup": "1",
           "marker": {
            "color": "#636efa",
            "line": {
             "width": 3
            },
            "opacity": 0.8,
            "size": 14,
            "symbol": "square"
           },
           "mode": "markers",
           "name": "1",
           "orientation": "v",
           "showlegend": true,
           "type": "scatter",
           "x": [
            11
           ],
           "xaxis": "x",
           "y": [
            25
           ],
           "yaxis": "y"
          },
          {
           "hovertemplate": "bird=2<br>time=34<br>x=%{x}<br>y=%{y}<extra></extra>",
           "legendgroup": "2",
           "marker": {
            "color": "#EF553B",
            "line": {
             "width": 3
            },
            "opacity": 0.8,
            "size": 14,
            "symbol": "square"
           },
           "mode": "markers",
           "name": "2",
           "orientation": "v",
           "showlegend": true,
           "type": "scatter",
           "x": [
            4
           ],
           "xaxis": "x",
           "y": [
            11
           ],
           "yaxis": "y"
          },
          {
           "hovertemplate": "bird=3<br>time=34<br>x=%{x}<br>y=%{y}<extra></extra>",
           "legendgroup": "3",
           "marker": {
            "color": "#00cc96",
            "line": {
             "width": 3
            },
            "opacity": 0.8,
            "size": 14,
            "symbol": "square"
           },
           "mode": "markers",
           "name": "3",
           "orientation": "v",
           "showlegend": true,
           "type": "scatter",
           "x": [
            11
           ],
           "xaxis": "x",
           "y": [
            25
           ],
           "yaxis": "y"
          },
          {
           "hovertemplate": "bird=4<br>time=34<br>x=%{x}<br>y=%{y}<extra></extra>",
           "legendgroup": "4",
           "marker": {
            "color": "#ab63fa",
            "line": {
             "width": 3
            },
            "opacity": 0.8,
            "size": 14,
            "symbol": "square"
           },
           "mode": "markers",
           "name": "4",
           "orientation": "v",
           "showlegend": true,
           "type": "scatter",
           "x": [
            21
           ],
           "xaxis": "x",
           "y": [
            16
           ],
           "yaxis": "y"
          },
          {
           "hovertemplate": "bird=5<br>time=34<br>x=%{x}<br>y=%{y}<extra></extra>",
           "legendgroup": "5",
           "marker": {
            "color": "#FFA15A",
            "line": {
             "width": 3
            },
            "opacity": 0.8,
            "size": 14,
            "symbol": "square"
           },
           "mode": "markers",
           "name": "5",
           "orientation": "v",
           "showlegend": true,
           "type": "scatter",
           "x": [
            11
           ],
           "xaxis": "x",
           "y": [
            25
           ],
           "yaxis": "y"
          },
          {
           "hovertemplate": "bird=6<br>time=34<br>x=%{x}<br>y=%{y}<extra></extra>",
           "legendgroup": "6",
           "marker": {
            "color": "#19d3f3",
            "line": {
             "width": 3
            },
            "opacity": 0.8,
            "size": 14,
            "symbol": "square"
           },
           "mode": "markers",
           "name": "6",
           "orientation": "v",
           "showlegend": true,
           "type": "scatter",
           "x": [
            10
           ],
           "xaxis": "x",
           "y": [
            12
           ],
           "yaxis": "y"
          },
          {
           "hovertemplate": "bird=7<br>time=34<br>x=%{x}<br>y=%{y}<extra></extra>",
           "legendgroup": "7",
           "marker": {
            "color": "#FF6692",
            "line": {
             "width": 3
            },
            "opacity": 0.8,
            "size": 14,
            "symbol": "square"
           },
           "mode": "markers",
           "name": "7",
           "orientation": "v",
           "showlegend": true,
           "type": "scatter",
           "x": [
            11
           ],
           "xaxis": "x",
           "y": [
            25
           ],
           "yaxis": "y"
          },
          {
           "hovertemplate": "bird=8<br>time=34<br>x=%{x}<br>y=%{y}<extra></extra>",
           "legendgroup": "8",
           "marker": {
            "color": "#B6E880",
            "line": {
             "width": 3
            },
            "opacity": 0.8,
            "size": 14,
            "symbol": "square"
           },
           "mode": "markers",
           "name": "8",
           "orientation": "v",
           "showlegend": true,
           "type": "scatter",
           "x": [
            13
           ],
           "xaxis": "x",
           "y": [
            9
           ],
           "yaxis": "y"
          },
          {
           "hovertemplate": "bird=9<br>time=34<br>x=%{x}<br>y=%{y}<extra></extra>",
           "legendgroup": "9",
           "marker": {
            "color": "#FF97FF",
            "line": {
             "width": 3
            },
            "opacity": 0.8,
            "size": 14,
            "symbol": "square"
           },
           "mode": "markers",
           "name": "9",
           "orientation": "v",
           "showlegend": true,
           "type": "scatter",
           "x": [
            11
           ],
           "xaxis": "x",
           "y": [
            25
           ],
           "yaxis": "y"
          },
          {
           "hovertemplate": "bird=reward<br>time=34<br>x=%{x}<br>y=%{y}<extra></extra>",
           "legendgroup": "reward",
           "marker": {
            "color": "yellow",
            "symbol": "square"
           },
           "mode": "markers",
           "name": "reward",
           "orientation": "v",
           "showlegend": false,
           "type": "scatter",
           "x": [
            9,
            10,
            12,
            9,
            10,
            11,
            12,
            9,
            12,
            9,
            10,
            11,
            12
           ],
           "xaxis": "x",
           "y": [
            25,
            25,
            25,
            26,
            26,
            26,
            26,
            27,
            27,
            28,
            28,
            28,
            28
           ],
           "yaxis": "y"
          }
         ],
         "name": "34"
        },
        {
         "data": [
          {
           "hovertemplate": "bird=1<br>time=35<br>x=%{x}<br>y=%{y}<extra></extra>",
           "legendgroup": "1",
           "marker": {
            "color": "#636efa",
            "line": {
             "width": 3
            },
            "opacity": 0.8,
            "size": 14,
            "symbol": "square"
           },
           "mode": "markers",
           "name": "1",
           "orientation": "v",
           "showlegend": true,
           "type": "scatter",
           "x": [
            11
           ],
           "xaxis": "x",
           "y": [
            25
           ],
           "yaxis": "y"
          },
          {
           "hovertemplate": "bird=2<br>time=35<br>x=%{x}<br>y=%{y}<extra></extra>",
           "legendgroup": "2",
           "marker": {
            "color": "#EF553B",
            "line": {
             "width": 3
            },
            "opacity": 0.8,
            "size": 14,
            "symbol": "square"
           },
           "mode": "markers",
           "name": "2",
           "orientation": "v",
           "showlegend": true,
           "type": "scatter",
           "x": [
            3
           ],
           "xaxis": "x",
           "y": [
            9
           ],
           "yaxis": "y"
          },
          {
           "hovertemplate": "bird=3<br>time=35<br>x=%{x}<br>y=%{y}<extra></extra>",
           "legendgroup": "3",
           "marker": {
            "color": "#00cc96",
            "line": {
             "width": 3
            },
            "opacity": 0.8,
            "size": 14,
            "symbol": "square"
           },
           "mode": "markers",
           "name": "3",
           "orientation": "v",
           "showlegend": true,
           "type": "scatter",
           "x": [
            11
           ],
           "xaxis": "x",
           "y": [
            25
           ],
           "yaxis": "y"
          },
          {
           "hovertemplate": "bird=4<br>time=35<br>x=%{x}<br>y=%{y}<extra></extra>",
           "legendgroup": "4",
           "marker": {
            "color": "#ab63fa",
            "line": {
             "width": 3
            },
            "opacity": 0.8,
            "size": 14,
            "symbol": "square"
           },
           "mode": "markers",
           "name": "4",
           "orientation": "v",
           "showlegend": true,
           "type": "scatter",
           "x": [
            19
           ],
           "xaxis": "x",
           "y": [
            15
           ],
           "yaxis": "y"
          },
          {
           "hovertemplate": "bird=5<br>time=35<br>x=%{x}<br>y=%{y}<extra></extra>",
           "legendgroup": "5",
           "marker": {
            "color": "#FFA15A",
            "line": {
             "width": 3
            },
            "opacity": 0.8,
            "size": 14,
            "symbol": "square"
           },
           "mode": "markers",
           "name": "5",
           "orientation": "v",
           "showlegend": true,
           "type": "scatter",
           "x": [
            11
           ],
           "xaxis": "x",
           "y": [
            25
           ],
           "yaxis": "y"
          },
          {
           "hovertemplate": "bird=6<br>time=35<br>x=%{x}<br>y=%{y}<extra></extra>",
           "legendgroup": "6",
           "marker": {
            "color": "#19d3f3",
            "line": {
             "width": 3
            },
            "opacity": 0.8,
            "size": 14,
            "symbol": "square"
           },
           "mode": "markers",
           "name": "6",
           "orientation": "v",
           "showlegend": true,
           "type": "scatter",
           "x": [
            11
           ],
           "xaxis": "x",
           "y": [
            10
           ],
           "yaxis": "y"
          },
          {
           "hovertemplate": "bird=7<br>time=35<br>x=%{x}<br>y=%{y}<extra></extra>",
           "legendgroup": "7",
           "marker": {
            "color": "#FF6692",
            "line": {
             "width": 3
            },
            "opacity": 0.8,
            "size": 14,
            "symbol": "square"
           },
           "mode": "markers",
           "name": "7",
           "orientation": "v",
           "showlegend": true,
           "type": "scatter",
           "x": [
            11
           ],
           "xaxis": "x",
           "y": [
            25
           ],
           "yaxis": "y"
          },
          {
           "hovertemplate": "bird=8<br>time=35<br>x=%{x}<br>y=%{y}<extra></extra>",
           "legendgroup": "8",
           "marker": {
            "color": "#B6E880",
            "line": {
             "width": 3
            },
            "opacity": 0.8,
            "size": 14,
            "symbol": "square"
           },
           "mode": "markers",
           "name": "8",
           "orientation": "v",
           "showlegend": true,
           "type": "scatter",
           "x": [
            13
           ],
           "xaxis": "x",
           "y": [
            6
           ],
           "yaxis": "y"
          },
          {
           "hovertemplate": "bird=9<br>time=35<br>x=%{x}<br>y=%{y}<extra></extra>",
           "legendgroup": "9",
           "marker": {
            "color": "#FF97FF",
            "line": {
             "width": 3
            },
            "opacity": 0.8,
            "size": 14,
            "symbol": "square"
           },
           "mode": "markers",
           "name": "9",
           "orientation": "v",
           "showlegend": true,
           "type": "scatter",
           "x": [
            11
           ],
           "xaxis": "x",
           "y": [
            25
           ],
           "yaxis": "y"
          },
          {
           "hovertemplate": "bird=reward<br>time=35<br>x=%{x}<br>y=%{y}<extra></extra>",
           "legendgroup": "reward",
           "marker": {
            "color": "yellow",
            "symbol": "square"
           },
           "mode": "markers",
           "name": "reward",
           "orientation": "v",
           "showlegend": false,
           "type": "scatter",
           "x": [
            9,
            10,
            12,
            9,
            10,
            11,
            12,
            9,
            12,
            9,
            10,
            11,
            12
           ],
           "xaxis": "x",
           "y": [
            25,
            25,
            25,
            26,
            26,
            26,
            26,
            27,
            27,
            28,
            28,
            28,
            28
           ],
           "yaxis": "y"
          }
         ],
         "name": "35"
        },
        {
         "data": [
          {
           "hovertemplate": "bird=1<br>time=36<br>x=%{x}<br>y=%{y}<extra></extra>",
           "legendgroup": "1",
           "marker": {
            "color": "#636efa",
            "line": {
             "width": 3
            },
            "opacity": 0.8,
            "size": 14,
            "symbol": "square"
           },
           "mode": "markers",
           "name": "1",
           "orientation": "v",
           "showlegend": true,
           "type": "scatter",
           "x": [
            11
           ],
           "xaxis": "x",
           "y": [
            25
           ],
           "yaxis": "y"
          },
          {
           "hovertemplate": "bird=2<br>time=36<br>x=%{x}<br>y=%{y}<extra></extra>",
           "legendgroup": "2",
           "marker": {
            "color": "#EF553B",
            "line": {
             "width": 3
            },
            "opacity": 0.8,
            "size": 14,
            "symbol": "square"
           },
           "mode": "markers",
           "name": "2",
           "orientation": "v",
           "showlegend": true,
           "type": "scatter",
           "x": [
            1
           ],
           "xaxis": "x",
           "y": [
            9
           ],
           "yaxis": "y"
          },
          {
           "hovertemplate": "bird=3<br>time=36<br>x=%{x}<br>y=%{y}<extra></extra>",
           "legendgroup": "3",
           "marker": {
            "color": "#00cc96",
            "line": {
             "width": 3
            },
            "opacity": 0.8,
            "size": 14,
            "symbol": "square"
           },
           "mode": "markers",
           "name": "3",
           "orientation": "v",
           "showlegend": true,
           "type": "scatter",
           "x": [
            11
           ],
           "xaxis": "x",
           "y": [
            25
           ],
           "yaxis": "y"
          },
          {
           "hovertemplate": "bird=4<br>time=36<br>x=%{x}<br>y=%{y}<extra></extra>",
           "legendgroup": "4",
           "marker": {
            "color": "#ab63fa",
            "line": {
             "width": 3
            },
            "opacity": 0.8,
            "size": 14,
            "symbol": "square"
           },
           "mode": "markers",
           "name": "4",
           "orientation": "v",
           "showlegend": true,
           "type": "scatter",
           "x": [
            19
           ],
           "xaxis": "x",
           "y": [
            17
           ],
           "yaxis": "y"
          },
          {
           "hovertemplate": "bird=5<br>time=36<br>x=%{x}<br>y=%{y}<extra></extra>",
           "legendgroup": "5",
           "marker": {
            "color": "#FFA15A",
            "line": {
             "width": 3
            },
            "opacity": 0.8,
            "size": 14,
            "symbol": "square"
           },
           "mode": "markers",
           "name": "5",
           "orientation": "v",
           "showlegend": true,
           "type": "scatter",
           "x": [
            11
           ],
           "xaxis": "x",
           "y": [
            25
           ],
           "yaxis": "y"
          },
          {
           "hovertemplate": "bird=6<br>time=36<br>x=%{x}<br>y=%{y}<extra></extra>",
           "legendgroup": "6",
           "marker": {
            "color": "#19d3f3",
            "line": {
             "width": 3
            },
            "opacity": 0.8,
            "size": 14,
            "symbol": "square"
           },
           "mode": "markers",
           "name": "6",
           "orientation": "v",
           "showlegend": true,
           "type": "scatter",
           "x": [
            11
           ],
           "xaxis": "x",
           "y": [
            12
           ],
           "yaxis": "y"
          },
          {
           "hovertemplate": "bird=7<br>time=36<br>x=%{x}<br>y=%{y}<extra></extra>",
           "legendgroup": "7",
           "marker": {
            "color": "#FF6692",
            "line": {
             "width": 3
            },
            "opacity": 0.8,
            "size": 14,
            "symbol": "square"
           },
           "mode": "markers",
           "name": "7",
           "orientation": "v",
           "showlegend": true,
           "type": "scatter",
           "x": [
            11
           ],
           "xaxis": "x",
           "y": [
            25
           ],
           "yaxis": "y"
          },
          {
           "hovertemplate": "bird=8<br>time=36<br>x=%{x}<br>y=%{y}<extra></extra>",
           "legendgroup": "8",
           "marker": {
            "color": "#B6E880",
            "line": {
             "width": 3
            },
            "opacity": 0.8,
            "size": 14,
            "symbol": "square"
           },
           "mode": "markers",
           "name": "8",
           "orientation": "v",
           "showlegend": true,
           "type": "scatter",
           "x": [
            13
           ],
           "xaxis": "x",
           "y": [
            9
           ],
           "yaxis": "y"
          },
          {
           "hovertemplate": "bird=9<br>time=36<br>x=%{x}<br>y=%{y}<extra></extra>",
           "legendgroup": "9",
           "marker": {
            "color": "#FF97FF",
            "line": {
             "width": 3
            },
            "opacity": 0.8,
            "size": 14,
            "symbol": "square"
           },
           "mode": "markers",
           "name": "9",
           "orientation": "v",
           "showlegend": true,
           "type": "scatter",
           "x": [
            11
           ],
           "xaxis": "x",
           "y": [
            25
           ],
           "yaxis": "y"
          },
          {
           "hovertemplate": "bird=reward<br>time=36<br>x=%{x}<br>y=%{y}<extra></extra>",
           "legendgroup": "reward",
           "marker": {
            "color": "yellow",
            "symbol": "square"
           },
           "mode": "markers",
           "name": "reward",
           "orientation": "v",
           "showlegend": false,
           "type": "scatter",
           "x": [
            9,
            10,
            12,
            9,
            10,
            11,
            12,
            9,
            12,
            9,
            10,
            11,
            12
           ],
           "xaxis": "x",
           "y": [
            25,
            25,
            25,
            26,
            26,
            26,
            26,
            27,
            27,
            28,
            28,
            28,
            28
           ],
           "yaxis": "y"
          }
         ],
         "name": "36"
        },
        {
         "data": [
          {
           "hovertemplate": "bird=1<br>time=37<br>x=%{x}<br>y=%{y}<extra></extra>",
           "legendgroup": "1",
           "marker": {
            "color": "#636efa",
            "line": {
             "width": 3
            },
            "opacity": 0.8,
            "size": 14,
            "symbol": "square"
           },
           "mode": "markers",
           "name": "1",
           "orientation": "v",
           "showlegend": true,
           "type": "scatter",
           "x": [
            11
           ],
           "xaxis": "x",
           "y": [
            25
           ],
           "yaxis": "y"
          },
          {
           "hovertemplate": "bird=2<br>time=37<br>x=%{x}<br>y=%{y}<extra></extra>",
           "legendgroup": "2",
           "marker": {
            "color": "#EF553B",
            "line": {
             "width": 3
            },
            "opacity": 0.8,
            "size": 14,
            "symbol": "square"
           },
           "mode": "markers",
           "name": "2",
           "orientation": "v",
           "showlegend": true,
           "type": "scatter",
           "x": [
            2
           ],
           "xaxis": "x",
           "y": [
            10
           ],
           "yaxis": "y"
          },
          {
           "hovertemplate": "bird=3<br>time=37<br>x=%{x}<br>y=%{y}<extra></extra>",
           "legendgroup": "3",
           "marker": {
            "color": "#00cc96",
            "line": {
             "width": 3
            },
            "opacity": 0.8,
            "size": 14,
            "symbol": "square"
           },
           "mode": "markers",
           "name": "3",
           "orientation": "v",
           "showlegend": true,
           "type": "scatter",
           "x": [
            11
           ],
           "xaxis": "x",
           "y": [
            25
           ],
           "yaxis": "y"
          },
          {
           "hovertemplate": "bird=4<br>time=37<br>x=%{x}<br>y=%{y}<extra></extra>",
           "legendgroup": "4",
           "marker": {
            "color": "#ab63fa",
            "line": {
             "width": 3
            },
            "opacity": 0.8,
            "size": 14,
            "symbol": "square"
           },
           "mode": "markers",
           "name": "4",
           "orientation": "v",
           "showlegend": true,
           "type": "scatter",
           "x": [
            17
           ],
           "xaxis": "x",
           "y": [
            18
           ],
           "yaxis": "y"
          },
          {
           "hovertemplate": "bird=5<br>time=37<br>x=%{x}<br>y=%{y}<extra></extra>",
           "legendgroup": "5",
           "marker": {
            "color": "#FFA15A",
            "line": {
             "width": 3
            },
            "opacity": 0.8,
            "size": 14,
            "symbol": "square"
           },
           "mode": "markers",
           "name": "5",
           "orientation": "v",
           "showlegend": true,
           "type": "scatter",
           "x": [
            11
           ],
           "xaxis": "x",
           "y": [
            25
           ],
           "yaxis": "y"
          },
          {
           "hovertemplate": "bird=6<br>time=37<br>x=%{x}<br>y=%{y}<extra></extra>",
           "legendgroup": "6",
           "marker": {
            "color": "#19d3f3",
            "line": {
             "width": 3
            },
            "opacity": 0.8,
            "size": 14,
            "symbol": "square"
           },
           "mode": "markers",
           "name": "6",
           "orientation": "v",
           "showlegend": true,
           "type": "scatter",
           "x": [
            11
           ],
           "xaxis": "x",
           "y": [
            15
           ],
           "yaxis": "y"
          },
          {
           "hovertemplate": "bird=7<br>time=37<br>x=%{x}<br>y=%{y}<extra></extra>",
           "legendgroup": "7",
           "marker": {
            "color": "#FF6692",
            "line": {
             "width": 3
            },
            "opacity": 0.8,
            "size": 14,
            "symbol": "square"
           },
           "mode": "markers",
           "name": "7",
           "orientation": "v",
           "showlegend": true,
           "type": "scatter",
           "x": [
            11
           ],
           "xaxis": "x",
           "y": [
            25
           ],
           "yaxis": "y"
          },
          {
           "hovertemplate": "bird=8<br>time=37<br>x=%{x}<br>y=%{y}<extra></extra>",
           "legendgroup": "8",
           "marker": {
            "color": "#B6E880",
            "line": {
             "width": 3
            },
            "opacity": 0.8,
            "size": 14,
            "symbol": "square"
           },
           "mode": "markers",
           "name": "8",
           "orientation": "v",
           "showlegend": true,
           "type": "scatter",
           "x": [
            13
           ],
           "xaxis": "x",
           "y": [
            12
           ],
           "yaxis": "y"
          },
          {
           "hovertemplate": "bird=9<br>time=37<br>x=%{x}<br>y=%{y}<extra></extra>",
           "legendgroup": "9",
           "marker": {
            "color": "#FF97FF",
            "line": {
             "width": 3
            },
            "opacity": 0.8,
            "size": 14,
            "symbol": "square"
           },
           "mode": "markers",
           "name": "9",
           "orientation": "v",
           "showlegend": true,
           "type": "scatter",
           "x": [
            11
           ],
           "xaxis": "x",
           "y": [
            25
           ],
           "yaxis": "y"
          },
          {
           "hovertemplate": "bird=reward<br>time=37<br>x=%{x}<br>y=%{y}<extra></extra>",
           "legendgroup": "reward",
           "marker": {
            "color": "yellow",
            "symbol": "square"
           },
           "mode": "markers",
           "name": "reward",
           "orientation": "v",
           "showlegend": false,
           "type": "scatter",
           "x": [
            9,
            10,
            12,
            9,
            10,
            11,
            12,
            9,
            12,
            9,
            10,
            11,
            12
           ],
           "xaxis": "x",
           "y": [
            25,
            25,
            25,
            26,
            26,
            26,
            26,
            27,
            27,
            28,
            28,
            28,
            28
           ],
           "yaxis": "y"
          }
         ],
         "name": "37"
        },
        {
         "data": [
          {
           "hovertemplate": "bird=1<br>time=38<br>x=%{x}<br>y=%{y}<extra></extra>",
           "legendgroup": "1",
           "marker": {
            "color": "#636efa",
            "line": {
             "width": 3
            },
            "opacity": 0.8,
            "size": 14,
            "symbol": "square"
           },
           "mode": "markers",
           "name": "1",
           "orientation": "v",
           "showlegend": true,
           "type": "scatter",
           "x": [
            11
           ],
           "xaxis": "x",
           "y": [
            25
           ],
           "yaxis": "y"
          },
          {
           "hovertemplate": "bird=2<br>time=38<br>x=%{x}<br>y=%{y}<extra></extra>",
           "legendgroup": "2",
           "marker": {
            "color": "#EF553B",
            "line": {
             "width": 3
            },
            "opacity": 0.8,
            "size": 14,
            "symbol": "square"
           },
           "mode": "markers",
           "name": "2",
           "orientation": "v",
           "showlegend": true,
           "type": "scatter",
           "x": [
            3
           ],
           "xaxis": "x",
           "y": [
            11
           ],
           "yaxis": "y"
          },
          {
           "hovertemplate": "bird=3<br>time=38<br>x=%{x}<br>y=%{y}<extra></extra>",
           "legendgroup": "3",
           "marker": {
            "color": "#00cc96",
            "line": {
             "width": 3
            },
            "opacity": 0.8,
            "size": 14,
            "symbol": "square"
           },
           "mode": "markers",
           "name": "3",
           "orientation": "v",
           "showlegend": true,
           "type": "scatter",
           "x": [
            11
           ],
           "xaxis": "x",
           "y": [
            25
           ],
           "yaxis": "y"
          },
          {
           "hovertemplate": "bird=4<br>time=38<br>x=%{x}<br>y=%{y}<extra></extra>",
           "legendgroup": "4",
           "marker": {
            "color": "#ab63fa",
            "line": {
             "width": 3
            },
            "opacity": 0.8,
            "size": 14,
            "symbol": "square"
           },
           "mode": "markers",
           "name": "4",
           "orientation": "v",
           "showlegend": true,
           "type": "scatter",
           "x": [
            15
           ],
           "xaxis": "x",
           "y": [
            19
           ],
           "yaxis": "y"
          },
          {
           "hovertemplate": "bird=5<br>time=38<br>x=%{x}<br>y=%{y}<extra></extra>",
           "legendgroup": "5",
           "marker": {
            "color": "#FFA15A",
            "line": {
             "width": 3
            },
            "opacity": 0.8,
            "size": 14,
            "symbol": "square"
           },
           "mode": "markers",
           "name": "5",
           "orientation": "v",
           "showlegend": true,
           "type": "scatter",
           "x": [
            11
           ],
           "xaxis": "x",
           "y": [
            25
           ],
           "yaxis": "y"
          },
          {
           "hovertemplate": "bird=6<br>time=38<br>x=%{x}<br>y=%{y}<extra></extra>",
           "legendgroup": "6",
           "marker": {
            "color": "#19d3f3",
            "line": {
             "width": 3
            },
            "opacity": 0.8,
            "size": 14,
            "symbol": "square"
           },
           "mode": "markers",
           "name": "6",
           "orientation": "v",
           "showlegend": true,
           "type": "scatter",
           "x": [
            13
           ],
           "xaxis": "x",
           "y": [
            17
           ],
           "yaxis": "y"
          },
          {
           "hovertemplate": "bird=7<br>time=38<br>x=%{x}<br>y=%{y}<extra></extra>",
           "legendgroup": "7",
           "marker": {
            "color": "#FF6692",
            "line": {
             "width": 3
            },
            "opacity": 0.8,
            "size": 14,
            "symbol": "square"
           },
           "mode": "markers",
           "name": "7",
           "orientation": "v",
           "showlegend": true,
           "type": "scatter",
           "x": [
            11
           ],
           "xaxis": "x",
           "y": [
            25
           ],
           "yaxis": "y"
          },
          {
           "hovertemplate": "bird=8<br>time=38<br>x=%{x}<br>y=%{y}<extra></extra>",
           "legendgroup": "8",
           "marker": {
            "color": "#B6E880",
            "line": {
             "width": 3
            },
            "opacity": 0.8,
            "size": 14,
            "symbol": "square"
           },
           "mode": "markers",
           "name": "8",
           "orientation": "v",
           "showlegend": true,
           "type": "scatter",
           "x": [
            11
           ],
           "xaxis": "x",
           "y": [
            12
           ],
           "yaxis": "y"
          },
          {
           "hovertemplate": "bird=9<br>time=38<br>x=%{x}<br>y=%{y}<extra></extra>",
           "legendgroup": "9",
           "marker": {
            "color": "#FF97FF",
            "line": {
             "width": 3
            },
            "opacity": 0.8,
            "size": 14,
            "symbol": "square"
           },
           "mode": "markers",
           "name": "9",
           "orientation": "v",
           "showlegend": true,
           "type": "scatter",
           "x": [
            11
           ],
           "xaxis": "x",
           "y": [
            25
           ],
           "yaxis": "y"
          },
          {
           "hovertemplate": "bird=reward<br>time=38<br>x=%{x}<br>y=%{y}<extra></extra>",
           "legendgroup": "reward",
           "marker": {
            "color": "yellow",
            "symbol": "square"
           },
           "mode": "markers",
           "name": "reward",
           "orientation": "v",
           "showlegend": false,
           "type": "scatter",
           "x": [
            9,
            10,
            12,
            9,
            10,
            11,
            12,
            9,
            12,
            9,
            10,
            11,
            12
           ],
           "xaxis": "x",
           "y": [
            25,
            25,
            25,
            26,
            26,
            26,
            26,
            27,
            27,
            28,
            28,
            28,
            28
           ],
           "yaxis": "y"
          }
         ],
         "name": "38"
        },
        {
         "data": [
          {
           "hovertemplate": "bird=1<br>time=39<br>x=%{x}<br>y=%{y}<extra></extra>",
           "legendgroup": "1",
           "marker": {
            "color": "#636efa",
            "line": {
             "width": 3
            },
            "opacity": 0.8,
            "size": 14,
            "symbol": "square"
           },
           "mode": "markers",
           "name": "1",
           "orientation": "v",
           "showlegend": true,
           "type": "scatter",
           "x": [
            11
           ],
           "xaxis": "x",
           "y": [
            25
           ],
           "yaxis": "y"
          },
          {
           "hovertemplate": "bird=2<br>time=39<br>x=%{x}<br>y=%{y}<extra></extra>",
           "legendgroup": "2",
           "marker": {
            "color": "#EF553B",
            "line": {
             "width": 3
            },
            "opacity": 0.8,
            "size": 14,
            "symbol": "square"
           },
           "mode": "markers",
           "name": "2",
           "orientation": "v",
           "showlegend": true,
           "type": "scatter",
           "x": [
            5
           ],
           "xaxis": "x",
           "y": [
            12
           ],
           "yaxis": "y"
          },
          {
           "hovertemplate": "bird=3<br>time=39<br>x=%{x}<br>y=%{y}<extra></extra>",
           "legendgroup": "3",
           "marker": {
            "color": "#00cc96",
            "line": {
             "width": 3
            },
            "opacity": 0.8,
            "size": 14,
            "symbol": "square"
           },
           "mode": "markers",
           "name": "3",
           "orientation": "v",
           "showlegend": true,
           "type": "scatter",
           "x": [
            11
           ],
           "xaxis": "x",
           "y": [
            25
           ],
           "yaxis": "y"
          },
          {
           "hovertemplate": "bird=4<br>time=39<br>x=%{x}<br>y=%{y}<extra></extra>",
           "legendgroup": "4",
           "marker": {
            "color": "#ab63fa",
            "line": {
             "width": 3
            },
            "opacity": 0.8,
            "size": 14,
            "symbol": "square"
           },
           "mode": "markers",
           "name": "4",
           "orientation": "v",
           "showlegend": true,
           "type": "scatter",
           "x": [
            13
           ],
           "xaxis": "x",
           "y": [
            21
           ],
           "yaxis": "y"
          },
          {
           "hovertemplate": "bird=5<br>time=39<br>x=%{x}<br>y=%{y}<extra></extra>",
           "legendgroup": "5",
           "marker": {
            "color": "#FFA15A",
            "line": {
             "width": 3
            },
            "opacity": 0.8,
            "size": 14,
            "symbol": "square"
           },
           "mode": "markers",
           "name": "5",
           "orientation": "v",
           "showlegend": true,
           "type": "scatter",
           "x": [
            11
           ],
           "xaxis": "x",
           "y": [
            25
           ],
           "yaxis": "y"
          },
          {
           "hovertemplate": "bird=6<br>time=39<br>x=%{x}<br>y=%{y}<extra></extra>",
           "legendgroup": "6",
           "marker": {
            "color": "#19d3f3",
            "line": {
             "width": 3
            },
            "opacity": 0.8,
            "size": 14,
            "symbol": "square"
           },
           "mode": "markers",
           "name": "6",
           "orientation": "v",
           "showlegend": true,
           "type": "scatter",
           "x": [
            14
           ],
           "xaxis": "x",
           "y": [
            19
           ],
           "yaxis": "y"
          },
          {
           "hovertemplate": "bird=7<br>time=39<br>x=%{x}<br>y=%{y}<extra></extra>",
           "legendgroup": "7",
           "marker": {
            "color": "#FF6692",
            "line": {
             "width": 3
            },
            "opacity": 0.8,
            "size": 14,
            "symbol": "square"
           },
           "mode": "markers",
           "name": "7",
           "orientation": "v",
           "showlegend": true,
           "type": "scatter",
           "x": [
            11
           ],
           "xaxis": "x",
           "y": [
            25
           ],
           "yaxis": "y"
          },
          {
           "hovertemplate": "bird=8<br>time=39<br>x=%{x}<br>y=%{y}<extra></extra>",
           "legendgroup": "8",
           "marker": {
            "color": "#B6E880",
            "line": {
             "width": 3
            },
            "opacity": 0.8,
            "size": 14,
            "symbol": "square"
           },
           "mode": "markers",
           "name": "8",
           "orientation": "v",
           "showlegend": true,
           "type": "scatter",
           "x": [
            12
           ],
           "xaxis": "x",
           "y": [
            14
           ],
           "yaxis": "y"
          },
          {
           "hovertemplate": "bird=9<br>time=39<br>x=%{x}<br>y=%{y}<extra></extra>",
           "legendgroup": "9",
           "marker": {
            "color": "#FF97FF",
            "line": {
             "width": 3
            },
            "opacity": 0.8,
            "size": 14,
            "symbol": "square"
           },
           "mode": "markers",
           "name": "9",
           "orientation": "v",
           "showlegend": true,
           "type": "scatter",
           "x": [
            11
           ],
           "xaxis": "x",
           "y": [
            25
           ],
           "yaxis": "y"
          },
          {
           "hovertemplate": "bird=reward<br>time=39<br>x=%{x}<br>y=%{y}<extra></extra>",
           "legendgroup": "reward",
           "marker": {
            "color": "yellow",
            "symbol": "square"
           },
           "mode": "markers",
           "name": "reward",
           "orientation": "v",
           "showlegend": false,
           "type": "scatter",
           "x": [
            9,
            10,
            12,
            9,
            10,
            11,
            12,
            9,
            12,
            9,
            10,
            11,
            12
           ],
           "xaxis": "x",
           "y": [
            25,
            25,
            25,
            26,
            26,
            26,
            26,
            27,
            27,
            28,
            28,
            28,
            28
           ],
           "yaxis": "y"
          }
         ],
         "name": "39"
        },
        {
         "data": [
          {
           "hovertemplate": "bird=1<br>time=40<br>x=%{x}<br>y=%{y}<extra></extra>",
           "legendgroup": "1",
           "marker": {
            "color": "#636efa",
            "line": {
             "width": 3
            },
            "opacity": 0.8,
            "size": 14,
            "symbol": "square"
           },
           "mode": "markers",
           "name": "1",
           "orientation": "v",
           "showlegend": true,
           "type": "scatter",
           "x": [
            11
           ],
           "xaxis": "x",
           "y": [
            25
           ],
           "yaxis": "y"
          },
          {
           "hovertemplate": "bird=2<br>time=40<br>x=%{x}<br>y=%{y}<extra></extra>",
           "legendgroup": "2",
           "marker": {
            "color": "#EF553B",
            "line": {
             "width": 3
            },
            "opacity": 0.8,
            "size": 14,
            "symbol": "square"
           },
           "mode": "markers",
           "name": "2",
           "orientation": "v",
           "showlegend": true,
           "type": "scatter",
           "x": [
            4
           ],
           "xaxis": "x",
           "y": [
            12
           ],
           "yaxis": "y"
          },
          {
           "hovertemplate": "bird=3<br>time=40<br>x=%{x}<br>y=%{y}<extra></extra>",
           "legendgroup": "3",
           "marker": {
            "color": "#00cc96",
            "line": {
             "width": 3
            },
            "opacity": 0.8,
            "size": 14,
            "symbol": "square"
           },
           "mode": "markers",
           "name": "3",
           "orientation": "v",
           "showlegend": true,
           "type": "scatter",
           "x": [
            11
           ],
           "xaxis": "x",
           "y": [
            25
           ],
           "yaxis": "y"
          },
          {
           "hovertemplate": "bird=4<br>time=40<br>x=%{x}<br>y=%{y}<extra></extra>",
           "legendgroup": "4",
           "marker": {
            "color": "#ab63fa",
            "line": {
             "width": 3
            },
            "opacity": 0.8,
            "size": 14,
            "symbol": "square"
           },
           "mode": "markers",
           "name": "4",
           "orientation": "v",
           "showlegend": true,
           "type": "scatter",
           "x": [
            12
           ],
           "xaxis": "x",
           "y": [
            23
           ],
           "yaxis": "y"
          },
          {
           "hovertemplate": "bird=5<br>time=40<br>x=%{x}<br>y=%{y}<extra></extra>",
           "legendgroup": "5",
           "marker": {
            "color": "#FFA15A",
            "line": {
             "width": 3
            },
            "opacity": 0.8,
            "size": 14,
            "symbol": "square"
           },
           "mode": "markers",
           "name": "5",
           "orientation": "v",
           "showlegend": true,
           "type": "scatter",
           "x": [
            11
           ],
           "xaxis": "x",
           "y": [
            25
           ],
           "yaxis": "y"
          },
          {
           "hovertemplate": "bird=6<br>time=40<br>x=%{x}<br>y=%{y}<extra></extra>",
           "legendgroup": "6",
           "marker": {
            "color": "#19d3f3",
            "line": {
             "width": 3
            },
            "opacity": 0.8,
            "size": 14,
            "symbol": "square"
           },
           "mode": "markers",
           "name": "6",
           "orientation": "v",
           "showlegend": true,
           "type": "scatter",
           "x": [
            12
           ],
           "xaxis": "x",
           "y": [
            21
           ],
           "yaxis": "y"
          },
          {
           "hovertemplate": "bird=7<br>time=40<br>x=%{x}<br>y=%{y}<extra></extra>",
           "legendgroup": "7",
           "marker": {
            "color": "#FF6692",
            "line": {
             "width": 3
            },
            "opacity": 0.8,
            "size": 14,
            "symbol": "square"
           },
           "mode": "markers",
           "name": "7",
           "orientation": "v",
           "showlegend": true,
           "type": "scatter",
           "x": [
            11
           ],
           "xaxis": "x",
           "y": [
            25
           ],
           "yaxis": "y"
          },
          {
           "hovertemplate": "bird=8<br>time=40<br>x=%{x}<br>y=%{y}<extra></extra>",
           "legendgroup": "8",
           "marker": {
            "color": "#B6E880",
            "line": {
             "width": 3
            },
            "opacity": 0.8,
            "size": 14,
            "symbol": "square"
           },
           "mode": "markers",
           "name": "8",
           "orientation": "v",
           "showlegend": true,
           "type": "scatter",
           "x": [
            11
           ],
           "xaxis": "x",
           "y": [
            13
           ],
           "yaxis": "y"
          },
          {
           "hovertemplate": "bird=9<br>time=40<br>x=%{x}<br>y=%{y}<extra></extra>",
           "legendgroup": "9",
           "marker": {
            "color": "#FF97FF",
            "line": {
             "width": 3
            },
            "opacity": 0.8,
            "size": 14,
            "symbol": "square"
           },
           "mode": "markers",
           "name": "9",
           "orientation": "v",
           "showlegend": true,
           "type": "scatter",
           "x": [
            11
           ],
           "xaxis": "x",
           "y": [
            25
           ],
           "yaxis": "y"
          },
          {
           "hovertemplate": "bird=reward<br>time=40<br>x=%{x}<br>y=%{y}<extra></extra>",
           "legendgroup": "reward",
           "marker": {
            "color": "yellow",
            "symbol": "square"
           },
           "mode": "markers",
           "name": "reward",
           "orientation": "v",
           "showlegend": false,
           "type": "scatter",
           "x": [
            9,
            10,
            12,
            9,
            10,
            11,
            12,
            9,
            12,
            9,
            10,
            11,
            12
           ],
           "xaxis": "x",
           "y": [
            25,
            25,
            25,
            26,
            26,
            26,
            26,
            27,
            27,
            28,
            28,
            28,
            28
           ],
           "yaxis": "y"
          }
         ],
         "name": "40"
        },
        {
         "data": [
          {
           "hovertemplate": "bird=1<br>time=41<br>x=%{x}<br>y=%{y}<extra></extra>",
           "legendgroup": "1",
           "marker": {
            "color": "#636efa",
            "line": {
             "width": 3
            },
            "opacity": 0.8,
            "size": 14,
            "symbol": "square"
           },
           "mode": "markers",
           "name": "1",
           "orientation": "v",
           "showlegend": true,
           "type": "scatter",
           "x": [
            11
           ],
           "xaxis": "x",
           "y": [
            25
           ],
           "yaxis": "y"
          },
          {
           "hovertemplate": "bird=2<br>time=41<br>x=%{x}<br>y=%{y}<extra></extra>",
           "legendgroup": "2",
           "marker": {
            "color": "#EF553B",
            "line": {
             "width": 3
            },
            "opacity": 0.8,
            "size": 14,
            "symbol": "square"
           },
           "mode": "markers",
           "name": "2",
           "orientation": "v",
           "showlegend": true,
           "type": "scatter",
           "x": [
            4
           ],
           "xaxis": "x",
           "y": [
            13
           ],
           "yaxis": "y"
          },
          {
           "hovertemplate": "bird=3<br>time=41<br>x=%{x}<br>y=%{y}<extra></extra>",
           "legendgroup": "3",
           "marker": {
            "color": "#00cc96",
            "line": {
             "width": 3
            },
            "opacity": 0.8,
            "size": 14,
            "symbol": "square"
           },
           "mode": "markers",
           "name": "3",
           "orientation": "v",
           "showlegend": true,
           "type": "scatter",
           "x": [
            11
           ],
           "xaxis": "x",
           "y": [
            25
           ],
           "yaxis": "y"
          },
          {
           "hovertemplate": "bird=4<br>time=41<br>x=%{x}<br>y=%{y}<extra></extra>",
           "legendgroup": "4",
           "marker": {
            "color": "#ab63fa",
            "line": {
             "width": 3
            },
            "opacity": 0.8,
            "size": 14,
            "symbol": "square"
           },
           "mode": "markers",
           "name": "4",
           "orientation": "v",
           "showlegend": true,
           "type": "scatter",
           "x": [
            11
           ],
           "xaxis": "x",
           "y": [
            25
           ],
           "yaxis": "y"
          },
          {
           "hovertemplate": "bird=5<br>time=41<br>x=%{x}<br>y=%{y}<extra></extra>",
           "legendgroup": "5",
           "marker": {
            "color": "#FFA15A",
            "line": {
             "width": 3
            },
            "opacity": 0.8,
            "size": 14,
            "symbol": "square"
           },
           "mode": "markers",
           "name": "5",
           "orientation": "v",
           "showlegend": true,
           "type": "scatter",
           "x": [
            11
           ],
           "xaxis": "x",
           "y": [
            25
           ],
           "yaxis": "y"
          },
          {
           "hovertemplate": "bird=6<br>time=41<br>x=%{x}<br>y=%{y}<extra></extra>",
           "legendgroup": "6",
           "marker": {
            "color": "#19d3f3",
            "line": {
             "width": 3
            },
            "opacity": 0.8,
            "size": 14,
            "symbol": "square"
           },
           "mode": "markers",
           "name": "6",
           "orientation": "v",
           "showlegend": true,
           "type": "scatter",
           "x": [
            12
           ],
           "xaxis": "x",
           "y": [
            24
           ],
           "yaxis": "y"
          },
          {
           "hovertemplate": "bird=7<br>time=41<br>x=%{x}<br>y=%{y}<extra></extra>",
           "legendgroup": "7",
           "marker": {
            "color": "#FF6692",
            "line": {
             "width": 3
            },
            "opacity": 0.8,
            "size": 14,
            "symbol": "square"
           },
           "mode": "markers",
           "name": "7",
           "orientation": "v",
           "showlegend": true,
           "type": "scatter",
           "x": [
            11
           ],
           "xaxis": "x",
           "y": [
            25
           ],
           "yaxis": "y"
          },
          {
           "hovertemplate": "bird=8<br>time=41<br>x=%{x}<br>y=%{y}<extra></extra>",
           "legendgroup": "8",
           "marker": {
            "color": "#B6E880",
            "line": {
             "width": 3
            },
            "opacity": 0.8,
            "size": 14,
            "symbol": "square"
           },
           "mode": "markers",
           "name": "8",
           "orientation": "v",
           "showlegend": true,
           "type": "scatter",
           "x": [
            13
           ],
           "xaxis": "x",
           "y": [
            15
           ],
           "yaxis": "y"
          },
          {
           "hovertemplate": "bird=9<br>time=41<br>x=%{x}<br>y=%{y}<extra></extra>",
           "legendgroup": "9",
           "marker": {
            "color": "#FF97FF",
            "line": {
             "width": 3
            },
            "opacity": 0.8,
            "size": 14,
            "symbol": "square"
           },
           "mode": "markers",
           "name": "9",
           "orientation": "v",
           "showlegend": true,
           "type": "scatter",
           "x": [
            11
           ],
           "xaxis": "x",
           "y": [
            25
           ],
           "yaxis": "y"
          },
          {
           "hovertemplate": "bird=reward<br>time=41<br>x=%{x}<br>y=%{y}<extra></extra>",
           "legendgroup": "reward",
           "marker": {
            "color": "yellow",
            "symbol": "square"
           },
           "mode": "markers",
           "name": "reward",
           "orientation": "v",
           "showlegend": false,
           "type": "scatter",
           "x": [
            9,
            10,
            12,
            9,
            10,
            11,
            12,
            9,
            12,
            9,
            10,
            11,
            12
           ],
           "xaxis": "x",
           "y": [
            25,
            25,
            25,
            26,
            26,
            26,
            26,
            27,
            27,
            28,
            28,
            28,
            28
           ],
           "yaxis": "y"
          }
         ],
         "name": "41"
        },
        {
         "data": [
          {
           "hovertemplate": "bird=1<br>time=42<br>x=%{x}<br>y=%{y}<extra></extra>",
           "legendgroup": "1",
           "marker": {
            "color": "#636efa",
            "line": {
             "width": 3
            },
            "opacity": 0.8,
            "size": 14,
            "symbol": "square"
           },
           "mode": "markers",
           "name": "1",
           "orientation": "v",
           "showlegend": true,
           "type": "scatter",
           "x": [
            11
           ],
           "xaxis": "x",
           "y": [
            25
           ],
           "yaxis": "y"
          },
          {
           "hovertemplate": "bird=2<br>time=42<br>x=%{x}<br>y=%{y}<extra></extra>",
           "legendgroup": "2",
           "marker": {
            "color": "#EF553B",
            "line": {
             "width": 3
            },
            "opacity": 0.8,
            "size": 14,
            "symbol": "square"
           },
           "mode": "markers",
           "name": "2",
           "orientation": "v",
           "showlegend": true,
           "type": "scatter",
           "x": [
            5
           ],
           "xaxis": "x",
           "y": [
            15
           ],
           "yaxis": "y"
          },
          {
           "hovertemplate": "bird=3<br>time=42<br>x=%{x}<br>y=%{y}<extra></extra>",
           "legendgroup": "3",
           "marker": {
            "color": "#00cc96",
            "line": {
             "width": 3
            },
            "opacity": 0.8,
            "size": 14,
            "symbol": "square"
           },
           "mode": "markers",
           "name": "3",
           "orientation": "v",
           "showlegend": true,
           "type": "scatter",
           "x": [
            11
           ],
           "xaxis": "x",
           "y": [
            25
           ],
           "yaxis": "y"
          },
          {
           "hovertemplate": "bird=4<br>time=42<br>x=%{x}<br>y=%{y}<extra></extra>",
           "legendgroup": "4",
           "marker": {
            "color": "#ab63fa",
            "line": {
             "width": 3
            },
            "opacity": 0.8,
            "size": 14,
            "symbol": "square"
           },
           "mode": "markers",
           "name": "4",
           "orientation": "v",
           "showlegend": true,
           "type": "scatter",
           "x": [
            11
           ],
           "xaxis": "x",
           "y": [
            25
           ],
           "yaxis": "y"
          },
          {
           "hovertemplate": "bird=5<br>time=42<br>x=%{x}<br>y=%{y}<extra></extra>",
           "legendgroup": "5",
           "marker": {
            "color": "#FFA15A",
            "line": {
             "width": 3
            },
            "opacity": 0.8,
            "size": 14,
            "symbol": "square"
           },
           "mode": "markers",
           "name": "5",
           "orientation": "v",
           "showlegend": true,
           "type": "scatter",
           "x": [
            11
           ],
           "xaxis": "x",
           "y": [
            25
           ],
           "yaxis": "y"
          },
          {
           "hovertemplate": "bird=6<br>time=42<br>x=%{x}<br>y=%{y}<extra></extra>",
           "legendgroup": "6",
           "marker": {
            "color": "#19d3f3",
            "line": {
             "width": 3
            },
            "opacity": 0.8,
            "size": 14,
            "symbol": "square"
           },
           "mode": "markers",
           "name": "6",
           "orientation": "v",
           "showlegend": true,
           "type": "scatter",
           "x": [
            11
           ],
           "xaxis": "x",
           "y": [
            25
           ],
           "yaxis": "y"
          },
          {
           "hovertemplate": "bird=7<br>time=42<br>x=%{x}<br>y=%{y}<extra></extra>",
           "legendgroup": "7",
           "marker": {
            "color": "#FF6692",
            "line": {
             "width": 3
            },
            "opacity": 0.8,
            "size": 14,
            "symbol": "square"
           },
           "mode": "markers",
           "name": "7",
           "orientation": "v",
           "showlegend": true,
           "type": "scatter",
           "x": [
            11
           ],
           "xaxis": "x",
           "y": [
            25
           ],
           "yaxis": "y"
          },
          {
           "hovertemplate": "bird=8<br>time=42<br>x=%{x}<br>y=%{y}<extra></extra>",
           "legendgroup": "8",
           "marker": {
            "color": "#B6E880",
            "line": {
             "width": 3
            },
            "opacity": 0.8,
            "size": 14,
            "symbol": "square"
           },
           "mode": "markers",
           "name": "8",
           "orientation": "v",
           "showlegend": true,
           "type": "scatter",
           "x": [
            13
           ],
           "xaxis": "x",
           "y": [
            16
           ],
           "yaxis": "y"
          },
          {
           "hovertemplate": "bird=9<br>time=42<br>x=%{x}<br>y=%{y}<extra></extra>",
           "legendgroup": "9",
           "marker": {
            "color": "#FF97FF",
            "line": {
             "width": 3
            },
            "opacity": 0.8,
            "size": 14,
            "symbol": "square"
           },
           "mode": "markers",
           "name": "9",
           "orientation": "v",
           "showlegend": true,
           "type": "scatter",
           "x": [
            11
           ],
           "xaxis": "x",
           "y": [
            25
           ],
           "yaxis": "y"
          },
          {
           "hovertemplate": "bird=reward<br>time=42<br>x=%{x}<br>y=%{y}<extra></extra>",
           "legendgroup": "reward",
           "marker": {
            "color": "yellow",
            "symbol": "square"
           },
           "mode": "markers",
           "name": "reward",
           "orientation": "v",
           "showlegend": false,
           "type": "scatter",
           "x": [
            9,
            10,
            12,
            9,
            10,
            11,
            12,
            9,
            12,
            9,
            10,
            11,
            12
           ],
           "xaxis": "x",
           "y": [
            25,
            25,
            25,
            26,
            26,
            26,
            26,
            27,
            27,
            28,
            28,
            28,
            28
           ],
           "yaxis": "y"
          }
         ],
         "name": "42"
        },
        {
         "data": [
          {
           "hovertemplate": "bird=1<br>time=43<br>x=%{x}<br>y=%{y}<extra></extra>",
           "legendgroup": "1",
           "marker": {
            "color": "#636efa",
            "line": {
             "width": 3
            },
            "opacity": 0.8,
            "size": 14,
            "symbol": "square"
           },
           "mode": "markers",
           "name": "1",
           "orientation": "v",
           "showlegend": true,
           "type": "scatter",
           "x": [
            11
           ],
           "xaxis": "x",
           "y": [
            25
           ],
           "yaxis": "y"
          },
          {
           "hovertemplate": "bird=2<br>time=43<br>x=%{x}<br>y=%{y}<extra></extra>",
           "legendgroup": "2",
           "marker": {
            "color": "#EF553B",
            "line": {
             "width": 3
            },
            "opacity": 0.8,
            "size": 14,
            "symbol": "square"
           },
           "mode": "markers",
           "name": "2",
           "orientation": "v",
           "showlegend": true,
           "type": "scatter",
           "x": [
            7
           ],
           "xaxis": "x",
           "y": [
            14
           ],
           "yaxis": "y"
          },
          {
           "hovertemplate": "bird=3<br>time=43<br>x=%{x}<br>y=%{y}<extra></extra>",
           "legendgroup": "3",
           "marker": {
            "color": "#00cc96",
            "line": {
             "width": 3
            },
            "opacity": 0.8,
            "size": 14,
            "symbol": "square"
           },
           "mode": "markers",
           "name": "3",
           "orientation": "v",
           "showlegend": true,
           "type": "scatter",
           "x": [
            11
           ],
           "xaxis": "x",
           "y": [
            25
           ],
           "yaxis": "y"
          },
          {
           "hovertemplate": "bird=4<br>time=43<br>x=%{x}<br>y=%{y}<extra></extra>",
           "legendgroup": "4",
           "marker": {
            "color": "#ab63fa",
            "line": {
             "width": 3
            },
            "opacity": 0.8,
            "size": 14,
            "symbol": "square"
           },
           "mode": "markers",
           "name": "4",
           "orientation": "v",
           "showlegend": true,
           "type": "scatter",
           "x": [
            11
           ],
           "xaxis": "x",
           "y": [
            25
           ],
           "yaxis": "y"
          },
          {
           "hovertemplate": "bird=5<br>time=43<br>x=%{x}<br>y=%{y}<extra></extra>",
           "legendgroup": "5",
           "marker": {
            "color": "#FFA15A",
            "line": {
             "width": 3
            },
            "opacity": 0.8,
            "size": 14,
            "symbol": "square"
           },
           "mode": "markers",
           "name": "5",
           "orientation": "v",
           "showlegend": true,
           "type": "scatter",
           "x": [
            11
           ],
           "xaxis": "x",
           "y": [
            25
           ],
           "yaxis": "y"
          },
          {
           "hovertemplate": "bird=6<br>time=43<br>x=%{x}<br>y=%{y}<extra></extra>",
           "legendgroup": "6",
           "marker": {
            "color": "#19d3f3",
            "line": {
             "width": 3
            },
            "opacity": 0.8,
            "size": 14,
            "symbol": "square"
           },
           "mode": "markers",
           "name": "6",
           "orientation": "v",
           "showlegend": true,
           "type": "scatter",
           "x": [
            11
           ],
           "xaxis": "x",
           "y": [
            25
           ],
           "yaxis": "y"
          },
          {
           "hovertemplate": "bird=7<br>time=43<br>x=%{x}<br>y=%{y}<extra></extra>",
           "legendgroup": "7",
           "marker": {
            "color": "#FF6692",
            "line": {
             "width": 3
            },
            "opacity": 0.8,
            "size": 14,
            "symbol": "square"
           },
           "mode": "markers",
           "name": "7",
           "orientation": "v",
           "showlegend": true,
           "type": "scatter",
           "x": [
            11
           ],
           "xaxis": "x",
           "y": [
            25
           ],
           "yaxis": "y"
          },
          {
           "hovertemplate": "bird=8<br>time=43<br>x=%{x}<br>y=%{y}<extra></extra>",
           "legendgroup": "8",
           "marker": {
            "color": "#B6E880",
            "line": {
             "width": 3
            },
            "opacity": 0.8,
            "size": 14,
            "symbol": "square"
           },
           "mode": "markers",
           "name": "8",
           "orientation": "v",
           "showlegend": true,
           "type": "scatter",
           "x": [
            13
           ],
           "xaxis": "x",
           "y": [
            19
           ],
           "yaxis": "y"
          },
          {
           "hovertemplate": "bird=9<br>time=43<br>x=%{x}<br>y=%{y}<extra></extra>",
           "legendgroup": "9",
           "marker": {
            "color": "#FF97FF",
            "line": {
             "width": 3
            },
            "opacity": 0.8,
            "size": 14,
            "symbol": "square"
           },
           "mode": "markers",
           "name": "9",
           "orientation": "v",
           "showlegend": true,
           "type": "scatter",
           "x": [
            11
           ],
           "xaxis": "x",
           "y": [
            25
           ],
           "yaxis": "y"
          },
          {
           "hovertemplate": "bird=reward<br>time=43<br>x=%{x}<br>y=%{y}<extra></extra>",
           "legendgroup": "reward",
           "marker": {
            "color": "yellow",
            "symbol": "square"
           },
           "mode": "markers",
           "name": "reward",
           "orientation": "v",
           "showlegend": false,
           "type": "scatter",
           "x": [
            9,
            10,
            12,
            9,
            10,
            11,
            12,
            9,
            12,
            9,
            10,
            11,
            12
           ],
           "xaxis": "x",
           "y": [
            25,
            25,
            25,
            26,
            26,
            26,
            26,
            27,
            27,
            28,
            28,
            28,
            28
           ],
           "yaxis": "y"
          }
         ],
         "name": "43"
        },
        {
         "data": [
          {
           "hovertemplate": "bird=1<br>time=44<br>x=%{x}<br>y=%{y}<extra></extra>",
           "legendgroup": "1",
           "marker": {
            "color": "#636efa",
            "line": {
             "width": 3
            },
            "opacity": 0.8,
            "size": 14,
            "symbol": "square"
           },
           "mode": "markers",
           "name": "1",
           "orientation": "v",
           "showlegend": true,
           "type": "scatter",
           "x": [
            11
           ],
           "xaxis": "x",
           "y": [
            25
           ],
           "yaxis": "y"
          },
          {
           "hovertemplate": "bird=2<br>time=44<br>x=%{x}<br>y=%{y}<extra></extra>",
           "legendgroup": "2",
           "marker": {
            "color": "#EF553B",
            "line": {
             "width": 3
            },
            "opacity": 0.8,
            "size": 14,
            "symbol": "square"
           },
           "mode": "markers",
           "name": "2",
           "orientation": "v",
           "showlegend": true,
           "type": "scatter",
           "x": [
            4
           ],
           "xaxis": "x",
           "y": [
            14
           ],
           "yaxis": "y"
          },
          {
           "hovertemplate": "bird=3<br>time=44<br>x=%{x}<br>y=%{y}<extra></extra>",
           "legendgroup": "3",
           "marker": {
            "color": "#00cc96",
            "line": {
             "width": 3
            },
            "opacity": 0.8,
            "size": 14,
            "symbol": "square"
           },
           "mode": "markers",
           "name": "3",
           "orientation": "v",
           "showlegend": true,
           "type": "scatter",
           "x": [
            11
           ],
           "xaxis": "x",
           "y": [
            25
           ],
           "yaxis": "y"
          },
          {
           "hovertemplate": "bird=4<br>time=44<br>x=%{x}<br>y=%{y}<extra></extra>",
           "legendgroup": "4",
           "marker": {
            "color": "#ab63fa",
            "line": {
             "width": 3
            },
            "opacity": 0.8,
            "size": 14,
            "symbol": "square"
           },
           "mode": "markers",
           "name": "4",
           "orientation": "v",
           "showlegend": true,
           "type": "scatter",
           "x": [
            11
           ],
           "xaxis": "x",
           "y": [
            25
           ],
           "yaxis": "y"
          },
          {
           "hovertemplate": "bird=5<br>time=44<br>x=%{x}<br>y=%{y}<extra></extra>",
           "legendgroup": "5",
           "marker": {
            "color": "#FFA15A",
            "line": {
             "width": 3
            },
            "opacity": 0.8,
            "size": 14,
            "symbol": "square"
           },
           "mode": "markers",
           "name": "5",
           "orientation": "v",
           "showlegend": true,
           "type": "scatter",
           "x": [
            11
           ],
           "xaxis": "x",
           "y": [
            25
           ],
           "yaxis": "y"
          },
          {
           "hovertemplate": "bird=6<br>time=44<br>x=%{x}<br>y=%{y}<extra></extra>",
           "legendgroup": "6",
           "marker": {
            "color": "#19d3f3",
            "line": {
             "width": 3
            },
            "opacity": 0.8,
            "size": 14,
            "symbol": "square"
           },
           "mode": "markers",
           "name": "6",
           "orientation": "v",
           "showlegend": true,
           "type": "scatter",
           "x": [
            11
           ],
           "xaxis": "x",
           "y": [
            25
           ],
           "yaxis": "y"
          },
          {
           "hovertemplate": "bird=7<br>time=44<br>x=%{x}<br>y=%{y}<extra></extra>",
           "legendgroup": "7",
           "marker": {
            "color": "#FF6692",
            "line": {
             "width": 3
            },
            "opacity": 0.8,
            "size": 14,
            "symbol": "square"
           },
           "mode": "markers",
           "name": "7",
           "orientation": "v",
           "showlegend": true,
           "type": "scatter",
           "x": [
            11
           ],
           "xaxis": "x",
           "y": [
            25
           ],
           "yaxis": "y"
          },
          {
           "hovertemplate": "bird=8<br>time=44<br>x=%{x}<br>y=%{y}<extra></extra>",
           "legendgroup": "8",
           "marker": {
            "color": "#B6E880",
            "line": {
             "width": 3
            },
            "opacity": 0.8,
            "size": 14,
            "symbol": "square"
           },
           "mode": "markers",
           "name": "8",
           "orientation": "v",
           "showlegend": true,
           "type": "scatter",
           "x": [
            13
           ],
           "xaxis": "x",
           "y": [
            22
           ],
           "yaxis": "y"
          },
          {
           "hovertemplate": "bird=9<br>time=44<br>x=%{x}<br>y=%{y}<extra></extra>",
           "legendgroup": "9",
           "marker": {
            "color": "#FF97FF",
            "line": {
             "width": 3
            },
            "opacity": 0.8,
            "size": 14,
            "symbol": "square"
           },
           "mode": "markers",
           "name": "9",
           "orientation": "v",
           "showlegend": true,
           "type": "scatter",
           "x": [
            11
           ],
           "xaxis": "x",
           "y": [
            25
           ],
           "yaxis": "y"
          },
          {
           "hovertemplate": "bird=reward<br>time=44<br>x=%{x}<br>y=%{y}<extra></extra>",
           "legendgroup": "reward",
           "marker": {
            "color": "yellow",
            "symbol": "square"
           },
           "mode": "markers",
           "name": "reward",
           "orientation": "v",
           "showlegend": false,
           "type": "scatter",
           "x": [
            9,
            10,
            12,
            9,
            10,
            11,
            12,
            9,
            12,
            9,
            10,
            11,
            12
           ],
           "xaxis": "x",
           "y": [
            25,
            25,
            25,
            26,
            26,
            26,
            26,
            27,
            27,
            28,
            28,
            28,
            28
           ],
           "yaxis": "y"
          }
         ],
         "name": "44"
        },
        {
         "data": [
          {
           "hovertemplate": "bird=1<br>time=45<br>x=%{x}<br>y=%{y}<extra></extra>",
           "legendgroup": "1",
           "marker": {
            "color": "#636efa",
            "line": {
             "width": 3
            },
            "opacity": 0.8,
            "size": 14,
            "symbol": "square"
           },
           "mode": "markers",
           "name": "1",
           "orientation": "v",
           "showlegend": true,
           "type": "scatter",
           "x": [
            11
           ],
           "xaxis": "x",
           "y": [
            25
           ],
           "yaxis": "y"
          },
          {
           "hovertemplate": "bird=2<br>time=45<br>x=%{x}<br>y=%{y}<extra></extra>",
           "legendgroup": "2",
           "marker": {
            "color": "#EF553B",
            "line": {
             "width": 3
            },
            "opacity": 0.8,
            "size": 14,
            "symbol": "square"
           },
           "mode": "markers",
           "name": "2",
           "orientation": "v",
           "showlegend": true,
           "type": "scatter",
           "x": [
            6
           ],
           "xaxis": "x",
           "y": [
            16
           ],
           "yaxis": "y"
          },
          {
           "hovertemplate": "bird=3<br>time=45<br>x=%{x}<br>y=%{y}<extra></extra>",
           "legendgroup": "3",
           "marker": {
            "color": "#00cc96",
            "line": {
             "width": 3
            },
            "opacity": 0.8,
            "size": 14,
            "symbol": "square"
           },
           "mode": "markers",
           "name": "3",
           "orientation": "v",
           "showlegend": true,
           "type": "scatter",
           "x": [
            11
           ],
           "xaxis": "x",
           "y": [
            25
           ],
           "yaxis": "y"
          },
          {
           "hovertemplate": "bird=4<br>time=45<br>x=%{x}<br>y=%{y}<extra></extra>",
           "legendgroup": "4",
           "marker": {
            "color": "#ab63fa",
            "line": {
             "width": 3
            },
            "opacity": 0.8,
            "size": 14,
            "symbol": "square"
           },
           "mode": "markers",
           "name": "4",
           "orientation": "v",
           "showlegend": true,
           "type": "scatter",
           "x": [
            11
           ],
           "xaxis": "x",
           "y": [
            25
           ],
           "yaxis": "y"
          },
          {
           "hovertemplate": "bird=5<br>time=45<br>x=%{x}<br>y=%{y}<extra></extra>",
           "legendgroup": "5",
           "marker": {
            "color": "#FFA15A",
            "line": {
             "width": 3
            },
            "opacity": 0.8,
            "size": 14,
            "symbol": "square"
           },
           "mode": "markers",
           "name": "5",
           "orientation": "v",
           "showlegend": true,
           "type": "scatter",
           "x": [
            11
           ],
           "xaxis": "x",
           "y": [
            25
           ],
           "yaxis": "y"
          },
          {
           "hovertemplate": "bird=6<br>time=45<br>x=%{x}<br>y=%{y}<extra></extra>",
           "legendgroup": "6",
           "marker": {
            "color": "#19d3f3",
            "line": {
             "width": 3
            },
            "opacity": 0.8,
            "size": 14,
            "symbol": "square"
           },
           "mode": "markers",
           "name": "6",
           "orientation": "v",
           "showlegend": true,
           "type": "scatter",
           "x": [
            11
           ],
           "xaxis": "x",
           "y": [
            25
           ],
           "yaxis": "y"
          },
          {
           "hovertemplate": "bird=7<br>time=45<br>x=%{x}<br>y=%{y}<extra></extra>",
           "legendgroup": "7",
           "marker": {
            "color": "#FF6692",
            "line": {
             "width": 3
            },
            "opacity": 0.8,
            "size": 14,
            "symbol": "square"
           },
           "mode": "markers",
           "name": "7",
           "orientation": "v",
           "showlegend": true,
           "type": "scatter",
           "x": [
            11
           ],
           "xaxis": "x",
           "y": [
            25
           ],
           "yaxis": "y"
          },
          {
           "hovertemplate": "bird=8<br>time=45<br>x=%{x}<br>y=%{y}<extra></extra>",
           "legendgroup": "8",
           "marker": {
            "color": "#B6E880",
            "line": {
             "width": 3
            },
            "opacity": 0.8,
            "size": 14,
            "symbol": "square"
           },
           "mode": "markers",
           "name": "8",
           "orientation": "v",
           "showlegend": true,
           "type": "scatter",
           "x": [
            11
           ],
           "xaxis": "x",
           "y": [
            24
           ],
           "yaxis": "y"
          },
          {
           "hovertemplate": "bird=9<br>time=45<br>x=%{x}<br>y=%{y}<extra></extra>",
           "legendgroup": "9",
           "marker": {
            "color": "#FF97FF",
            "line": {
             "width": 3
            },
            "opacity": 0.8,
            "size": 14,
            "symbol": "square"
           },
           "mode": "markers",
           "name": "9",
           "orientation": "v",
           "showlegend": true,
           "type": "scatter",
           "x": [
            11
           ],
           "xaxis": "x",
           "y": [
            25
           ],
           "yaxis": "y"
          },
          {
           "hovertemplate": "bird=reward<br>time=45<br>x=%{x}<br>y=%{y}<extra></extra>",
           "legendgroup": "reward",
           "marker": {
            "color": "yellow",
            "symbol": "square"
           },
           "mode": "markers",
           "name": "reward",
           "orientation": "v",
           "showlegend": false,
           "type": "scatter",
           "x": [
            9,
            10,
            12,
            9,
            10,
            11,
            12,
            9,
            12,
            9,
            10,
            11,
            12
           ],
           "xaxis": "x",
           "y": [
            25,
            25,
            25,
            26,
            26,
            26,
            26,
            27,
            27,
            28,
            28,
            28,
            28
           ],
           "yaxis": "y"
          }
         ],
         "name": "45"
        },
        {
         "data": [
          {
           "hovertemplate": "bird=1<br>time=46<br>x=%{x}<br>y=%{y}<extra></extra>",
           "legendgroup": "1",
           "marker": {
            "color": "#636efa",
            "line": {
             "width": 3
            },
            "opacity": 0.8,
            "size": 14,
            "symbol": "square"
           },
           "mode": "markers",
           "name": "1",
           "orientation": "v",
           "showlegend": true,
           "type": "scatter",
           "x": [
            11
           ],
           "xaxis": "x",
           "y": [
            25
           ],
           "yaxis": "y"
          },
          {
           "hovertemplate": "bird=2<br>time=46<br>x=%{x}<br>y=%{y}<extra></extra>",
           "legendgroup": "2",
           "marker": {
            "color": "#EF553B",
            "line": {
             "width": 3
            },
            "opacity": 0.8,
            "size": 14,
            "symbol": "square"
           },
           "mode": "markers",
           "name": "2",
           "orientation": "v",
           "showlegend": true,
           "type": "scatter",
           "x": [
            4
           ],
           "xaxis": "x",
           "y": [
            16
           ],
           "yaxis": "y"
          },
          {
           "hovertemplate": "bird=3<br>time=46<br>x=%{x}<br>y=%{y}<extra></extra>",
           "legendgroup": "3",
           "marker": {
            "color": "#00cc96",
            "line": {
             "width": 3
            },
            "opacity": 0.8,
            "size": 14,
            "symbol": "square"
           },
           "mode": "markers",
           "name": "3",
           "orientation": "v",
           "showlegend": true,
           "type": "scatter",
           "x": [
            11
           ],
           "xaxis": "x",
           "y": [
            25
           ],
           "yaxis": "y"
          },
          {
           "hovertemplate": "bird=4<br>time=46<br>x=%{x}<br>y=%{y}<extra></extra>",
           "legendgroup": "4",
           "marker": {
            "color": "#ab63fa",
            "line": {
             "width": 3
            },
            "opacity": 0.8,
            "size": 14,
            "symbol": "square"
           },
           "mode": "markers",
           "name": "4",
           "orientation": "v",
           "showlegend": true,
           "type": "scatter",
           "x": [
            11
           ],
           "xaxis": "x",
           "y": [
            25
           ],
           "yaxis": "y"
          },
          {
           "hovertemplate": "bird=5<br>time=46<br>x=%{x}<br>y=%{y}<extra></extra>",
           "legendgroup": "5",
           "marker": {
            "color": "#FFA15A",
            "line": {
             "width": 3
            },
            "opacity": 0.8,
            "size": 14,
            "symbol": "square"
           },
           "mode": "markers",
           "name": "5",
           "orientation": "v",
           "showlegend": true,
           "type": "scatter",
           "x": [
            11
           ],
           "xaxis": "x",
           "y": [
            25
           ],
           "yaxis": "y"
          },
          {
           "hovertemplate": "bird=6<br>time=46<br>x=%{x}<br>y=%{y}<extra></extra>",
           "legendgroup": "6",
           "marker": {
            "color": "#19d3f3",
            "line": {
             "width": 3
            },
            "opacity": 0.8,
            "size": 14,
            "symbol": "square"
           },
           "mode": "markers",
           "name": "6",
           "orientation": "v",
           "showlegend": true,
           "type": "scatter",
           "x": [
            11
           ],
           "xaxis": "x",
           "y": [
            25
           ],
           "yaxis": "y"
          },
          {
           "hovertemplate": "bird=7<br>time=46<br>x=%{x}<br>y=%{y}<extra></extra>",
           "legendgroup": "7",
           "marker": {
            "color": "#FF6692",
            "line": {
             "width": 3
            },
            "opacity": 0.8,
            "size": 14,
            "symbol": "square"
           },
           "mode": "markers",
           "name": "7",
           "orientation": "v",
           "showlegend": true,
           "type": "scatter",
           "x": [
            11
           ],
           "xaxis": "x",
           "y": [
            25
           ],
           "yaxis": "y"
          },
          {
           "hovertemplate": "bird=8<br>time=46<br>x=%{x}<br>y=%{y}<extra></extra>",
           "legendgroup": "8",
           "marker": {
            "color": "#B6E880",
            "line": {
             "width": 3
            },
            "opacity": 0.8,
            "size": 14,
            "symbol": "square"
           },
           "mode": "markers",
           "name": "8",
           "orientation": "v",
           "showlegend": true,
           "type": "scatter",
           "x": [
            11
           ],
           "xaxis": "x",
           "y": [
            25
           ],
           "yaxis": "y"
          },
          {
           "hovertemplate": "bird=9<br>time=46<br>x=%{x}<br>y=%{y}<extra></extra>",
           "legendgroup": "9",
           "marker": {
            "color": "#FF97FF",
            "line": {
             "width": 3
            },
            "opacity": 0.8,
            "size": 14,
            "symbol": "square"
           },
           "mode": "markers",
           "name": "9",
           "orientation": "v",
           "showlegend": true,
           "type": "scatter",
           "x": [
            11
           ],
           "xaxis": "x",
           "y": [
            25
           ],
           "yaxis": "y"
          },
          {
           "hovertemplate": "bird=reward<br>time=46<br>x=%{x}<br>y=%{y}<extra></extra>",
           "legendgroup": "reward",
           "marker": {
            "color": "yellow",
            "symbol": "square"
           },
           "mode": "markers",
           "name": "reward",
           "orientation": "v",
           "showlegend": false,
           "type": "scatter",
           "x": [
            9,
            10,
            12,
            9,
            10,
            11,
            12,
            9,
            12,
            9,
            10,
            11,
            12
           ],
           "xaxis": "x",
           "y": [
            25,
            25,
            25,
            26,
            26,
            26,
            26,
            27,
            27,
            28,
            28,
            28,
            28
           ],
           "yaxis": "y"
          }
         ],
         "name": "46"
        },
        {
         "data": [
          {
           "hovertemplate": "bird=1<br>time=47<br>x=%{x}<br>y=%{y}<extra></extra>",
           "legendgroup": "1",
           "marker": {
            "color": "#636efa",
            "line": {
             "width": 3
            },
            "opacity": 0.8,
            "size": 14,
            "symbol": "square"
           },
           "mode": "markers",
           "name": "1",
           "orientation": "v",
           "showlegend": true,
           "type": "scatter",
           "x": [
            11
           ],
           "xaxis": "x",
           "y": [
            25
           ],
           "yaxis": "y"
          },
          {
           "hovertemplate": "bird=2<br>time=47<br>x=%{x}<br>y=%{y}<extra></extra>",
           "legendgroup": "2",
           "marker": {
            "color": "#EF553B",
            "line": {
             "width": 3
            },
            "opacity": 0.8,
            "size": 14,
            "symbol": "square"
           },
           "mode": "markers",
           "name": "2",
           "orientation": "v",
           "showlegend": true,
           "type": "scatter",
           "x": [
            5
           ],
           "xaxis": "x",
           "y": [
            18
           ],
           "yaxis": "y"
          },
          {
           "hovertemplate": "bird=3<br>time=47<br>x=%{x}<br>y=%{y}<extra></extra>",
           "legendgroup": "3",
           "marker": {
            "color": "#00cc96",
            "line": {
             "width": 3
            },
            "opacity": 0.8,
            "size": 14,
            "symbol": "square"
           },
           "mode": "markers",
           "name": "3",
           "orientation": "v",
           "showlegend": true,
           "type": "scatter",
           "x": [
            11
           ],
           "xaxis": "x",
           "y": [
            25
           ],
           "yaxis": "y"
          },
          {
           "hovertemplate": "bird=4<br>time=47<br>x=%{x}<br>y=%{y}<extra></extra>",
           "legendgroup": "4",
           "marker": {
            "color": "#ab63fa",
            "line": {
             "width": 3
            },
            "opacity": 0.8,
            "size": 14,
            "symbol": "square"
           },
           "mode": "markers",
           "name": "4",
           "orientation": "v",
           "showlegend": true,
           "type": "scatter",
           "x": [
            11
           ],
           "xaxis": "x",
           "y": [
            25
           ],
           "yaxis": "y"
          },
          {
           "hovertemplate": "bird=5<br>time=47<br>x=%{x}<br>y=%{y}<extra></extra>",
           "legendgroup": "5",
           "marker": {
            "color": "#FFA15A",
            "line": {
             "width": 3
            },
            "opacity": 0.8,
            "size": 14,
            "symbol": "square"
           },
           "mode": "markers",
           "name": "5",
           "orientation": "v",
           "showlegend": true,
           "type": "scatter",
           "x": [
            11
           ],
           "xaxis": "x",
           "y": [
            25
           ],
           "yaxis": "y"
          },
          {
           "hovertemplate": "bird=6<br>time=47<br>x=%{x}<br>y=%{y}<extra></extra>",
           "legendgroup": "6",
           "marker": {
            "color": "#19d3f3",
            "line": {
             "width": 3
            },
            "opacity": 0.8,
            "size": 14,
            "symbol": "square"
           },
           "mode": "markers",
           "name": "6",
           "orientation": "v",
           "showlegend": true,
           "type": "scatter",
           "x": [
            11
           ],
           "xaxis": "x",
           "y": [
            25
           ],
           "yaxis": "y"
          },
          {
           "hovertemplate": "bird=7<br>time=47<br>x=%{x}<br>y=%{y}<extra></extra>",
           "legendgroup": "7",
           "marker": {
            "color": "#FF6692",
            "line": {
             "width": 3
            },
            "opacity": 0.8,
            "size": 14,
            "symbol": "square"
           },
           "mode": "markers",
           "name": "7",
           "orientation": "v",
           "showlegend": true,
           "type": "scatter",
           "x": [
            11
           ],
           "xaxis": "x",
           "y": [
            25
           ],
           "yaxis": "y"
          },
          {
           "hovertemplate": "bird=8<br>time=47<br>x=%{x}<br>y=%{y}<extra></extra>",
           "legendgroup": "8",
           "marker": {
            "color": "#B6E880",
            "line": {
             "width": 3
            },
            "opacity": 0.8,
            "size": 14,
            "symbol": "square"
           },
           "mode": "markers",
           "name": "8",
           "orientation": "v",
           "showlegend": true,
           "type": "scatter",
           "x": [
            11
           ],
           "xaxis": "x",
           "y": [
            25
           ],
           "yaxis": "y"
          },
          {
           "hovertemplate": "bird=9<br>time=47<br>x=%{x}<br>y=%{y}<extra></extra>",
           "legendgroup": "9",
           "marker": {
            "color": "#FF97FF",
            "line": {
             "width": 3
            },
            "opacity": 0.8,
            "size": 14,
            "symbol": "square"
           },
           "mode": "markers",
           "name": "9",
           "orientation": "v",
           "showlegend": true,
           "type": "scatter",
           "x": [
            11
           ],
           "xaxis": "x",
           "y": [
            25
           ],
           "yaxis": "y"
          },
          {
           "hovertemplate": "bird=reward<br>time=47<br>x=%{x}<br>y=%{y}<extra></extra>",
           "legendgroup": "reward",
           "marker": {
            "color": "yellow",
            "symbol": "square"
           },
           "mode": "markers",
           "name": "reward",
           "orientation": "v",
           "showlegend": false,
           "type": "scatter",
           "x": [
            9,
            10,
            12,
            9,
            10,
            11,
            12,
            9,
            12,
            9,
            10,
            11,
            12
           ],
           "xaxis": "x",
           "y": [
            25,
            25,
            25,
            26,
            26,
            26,
            26,
            27,
            27,
            28,
            28,
            28,
            28
           ],
           "yaxis": "y"
          }
         ],
         "name": "47"
        },
        {
         "data": [
          {
           "hovertemplate": "bird=1<br>time=48<br>x=%{x}<br>y=%{y}<extra></extra>",
           "legendgroup": "1",
           "marker": {
            "color": "#636efa",
            "line": {
             "width": 3
            },
            "opacity": 0.8,
            "size": 14,
            "symbol": "square"
           },
           "mode": "markers",
           "name": "1",
           "orientation": "v",
           "showlegend": true,
           "type": "scatter",
           "x": [
            11
           ],
           "xaxis": "x",
           "y": [
            25
           ],
           "yaxis": "y"
          },
          {
           "hovertemplate": "bird=2<br>time=48<br>x=%{x}<br>y=%{y}<extra></extra>",
           "legendgroup": "2",
           "marker": {
            "color": "#EF553B",
            "line": {
             "width": 3
            },
            "opacity": 0.8,
            "size": 14,
            "symbol": "square"
           },
           "mode": "markers",
           "name": "2",
           "orientation": "v",
           "showlegend": true,
           "type": "scatter",
           "x": [
            5
           ],
           "xaxis": "x",
           "y": [
            17
           ],
           "yaxis": "y"
          },
          {
           "hovertemplate": "bird=3<br>time=48<br>x=%{x}<br>y=%{y}<extra></extra>",
           "legendgroup": "3",
           "marker": {
            "color": "#00cc96",
            "line": {
             "width": 3
            },
            "opacity": 0.8,
            "size": 14,
            "symbol": "square"
           },
           "mode": "markers",
           "name": "3",
           "orientation": "v",
           "showlegend": true,
           "type": "scatter",
           "x": [
            11
           ],
           "xaxis": "x",
           "y": [
            25
           ],
           "yaxis": "y"
          },
          {
           "hovertemplate": "bird=4<br>time=48<br>x=%{x}<br>y=%{y}<extra></extra>",
           "legendgroup": "4",
           "marker": {
            "color": "#ab63fa",
            "line": {
             "width": 3
            },
            "opacity": 0.8,
            "size": 14,
            "symbol": "square"
           },
           "mode": "markers",
           "name": "4",
           "orientation": "v",
           "showlegend": true,
           "type": "scatter",
           "x": [
            11
           ],
           "xaxis": "x",
           "y": [
            25
           ],
           "yaxis": "y"
          },
          {
           "hovertemplate": "bird=5<br>time=48<br>x=%{x}<br>y=%{y}<extra></extra>",
           "legendgroup": "5",
           "marker": {
            "color": "#FFA15A",
            "line": {
             "width": 3
            },
            "opacity": 0.8,
            "size": 14,
            "symbol": "square"
           },
           "mode": "markers",
           "name": "5",
           "orientation": "v",
           "showlegend": true,
           "type": "scatter",
           "x": [
            11
           ],
           "xaxis": "x",
           "y": [
            25
           ],
           "yaxis": "y"
          },
          {
           "hovertemplate": "bird=6<br>time=48<br>x=%{x}<br>y=%{y}<extra></extra>",
           "legendgroup": "6",
           "marker": {
            "color": "#19d3f3",
            "line": {
             "width": 3
            },
            "opacity": 0.8,
            "size": 14,
            "symbol": "square"
           },
           "mode": "markers",
           "name": "6",
           "orientation": "v",
           "showlegend": true,
           "type": "scatter",
           "x": [
            11
           ],
           "xaxis": "x",
           "y": [
            25
           ],
           "yaxis": "y"
          },
          {
           "hovertemplate": "bird=7<br>time=48<br>x=%{x}<br>y=%{y}<extra></extra>",
           "legendgroup": "7",
           "marker": {
            "color": "#FF6692",
            "line": {
             "width": 3
            },
            "opacity": 0.8,
            "size": 14,
            "symbol": "square"
           },
           "mode": "markers",
           "name": "7",
           "orientation": "v",
           "showlegend": true,
           "type": "scatter",
           "x": [
            11
           ],
           "xaxis": "x",
           "y": [
            25
           ],
           "yaxis": "y"
          },
          {
           "hovertemplate": "bird=8<br>time=48<br>x=%{x}<br>y=%{y}<extra></extra>",
           "legendgroup": "8",
           "marker": {
            "color": "#B6E880",
            "line": {
             "width": 3
            },
            "opacity": 0.8,
            "size": 14,
            "symbol": "square"
           },
           "mode": "markers",
           "name": "8",
           "orientation": "v",
           "showlegend": true,
           "type": "scatter",
           "x": [
            11
           ],
           "xaxis": "x",
           "y": [
            25
           ],
           "yaxis": "y"
          },
          {
           "hovertemplate": "bird=9<br>time=48<br>x=%{x}<br>y=%{y}<extra></extra>",
           "legendgroup": "9",
           "marker": {
            "color": "#FF97FF",
            "line": {
             "width": 3
            },
            "opacity": 0.8,
            "size": 14,
            "symbol": "square"
           },
           "mode": "markers",
           "name": "9",
           "orientation": "v",
           "showlegend": true,
           "type": "scatter",
           "x": [
            11
           ],
           "xaxis": "x",
           "y": [
            25
           ],
           "yaxis": "y"
          },
          {
           "hovertemplate": "bird=reward<br>time=48<br>x=%{x}<br>y=%{y}<extra></extra>",
           "legendgroup": "reward",
           "marker": {
            "color": "yellow",
            "symbol": "square"
           },
           "mode": "markers",
           "name": "reward",
           "orientation": "v",
           "showlegend": false,
           "type": "scatter",
           "x": [
            9,
            10,
            12,
            9,
            10,
            11,
            12,
            9,
            12,
            9,
            10,
            11,
            12
           ],
           "xaxis": "x",
           "y": [
            25,
            25,
            25,
            26,
            26,
            26,
            26,
            27,
            27,
            28,
            28,
            28,
            28
           ],
           "yaxis": "y"
          }
         ],
         "name": "48"
        },
        {
         "data": [
          {
           "hovertemplate": "bird=1<br>time=49<br>x=%{x}<br>y=%{y}<extra></extra>",
           "legendgroup": "1",
           "marker": {
            "color": "#636efa",
            "line": {
             "width": 3
            },
            "opacity": 0.8,
            "size": 14,
            "symbol": "square"
           },
           "mode": "markers",
           "name": "1",
           "orientation": "v",
           "showlegend": true,
           "type": "scatter",
           "x": [
            11
           ],
           "xaxis": "x",
           "y": [
            25
           ],
           "yaxis": "y"
          },
          {
           "hovertemplate": "bird=2<br>time=49<br>x=%{x}<br>y=%{y}<extra></extra>",
           "legendgroup": "2",
           "marker": {
            "color": "#EF553B",
            "line": {
             "width": 3
            },
            "opacity": 0.8,
            "size": 14,
            "symbol": "square"
           },
           "mode": "markers",
           "name": "2",
           "orientation": "v",
           "showlegend": true,
           "type": "scatter",
           "x": [
            5
           ],
           "xaxis": "x",
           "y": [
            20
           ],
           "yaxis": "y"
          },
          {
           "hovertemplate": "bird=3<br>time=49<br>x=%{x}<br>y=%{y}<extra></extra>",
           "legendgroup": "3",
           "marker": {
            "color": "#00cc96",
            "line": {
             "width": 3
            },
            "opacity": 0.8,
            "size": 14,
            "symbol": "square"
           },
           "mode": "markers",
           "name": "3",
           "orientation": "v",
           "showlegend": true,
           "type": "scatter",
           "x": [
            11
           ],
           "xaxis": "x",
           "y": [
            25
           ],
           "yaxis": "y"
          },
          {
           "hovertemplate": "bird=4<br>time=49<br>x=%{x}<br>y=%{y}<extra></extra>",
           "legendgroup": "4",
           "marker": {
            "color": "#ab63fa",
            "line": {
             "width": 3
            },
            "opacity": 0.8,
            "size": 14,
            "symbol": "square"
           },
           "mode": "markers",
           "name": "4",
           "orientation": "v",
           "showlegend": true,
           "type": "scatter",
           "x": [
            11
           ],
           "xaxis": "x",
           "y": [
            25
           ],
           "yaxis": "y"
          },
          {
           "hovertemplate": "bird=5<br>time=49<br>x=%{x}<br>y=%{y}<extra></extra>",
           "legendgroup": "5",
           "marker": {
            "color": "#FFA15A",
            "line": {
             "width": 3
            },
            "opacity": 0.8,
            "size": 14,
            "symbol": "square"
           },
           "mode": "markers",
           "name": "5",
           "orientation": "v",
           "showlegend": true,
           "type": "scatter",
           "x": [
            11
           ],
           "xaxis": "x",
           "y": [
            25
           ],
           "yaxis": "y"
          },
          {
           "hovertemplate": "bird=6<br>time=49<br>x=%{x}<br>y=%{y}<extra></extra>",
           "legendgroup": "6",
           "marker": {
            "color": "#19d3f3",
            "line": {
             "width": 3
            },
            "opacity": 0.8,
            "size": 14,
            "symbol": "square"
           },
           "mode": "markers",
           "name": "6",
           "orientation": "v",
           "showlegend": true,
           "type": "scatter",
           "x": [
            11
           ],
           "xaxis": "x",
           "y": [
            25
           ],
           "yaxis": "y"
          },
          {
           "hovertemplate": "bird=7<br>time=49<br>x=%{x}<br>y=%{y}<extra></extra>",
           "legendgroup": "7",
           "marker": {
            "color": "#FF6692",
            "line": {
             "width": 3
            },
            "opacity": 0.8,
            "size": 14,
            "symbol": "square"
           },
           "mode": "markers",
           "name": "7",
           "orientation": "v",
           "showlegend": true,
           "type": "scatter",
           "x": [
            11
           ],
           "xaxis": "x",
           "y": [
            25
           ],
           "yaxis": "y"
          },
          {
           "hovertemplate": "bird=8<br>time=49<br>x=%{x}<br>y=%{y}<extra></extra>",
           "legendgroup": "8",
           "marker": {
            "color": "#B6E880",
            "line": {
             "width": 3
            },
            "opacity": 0.8,
            "size": 14,
            "symbol": "square"
           },
           "mode": "markers",
           "name": "8",
           "orientation": "v",
           "showlegend": true,
           "type": "scatter",
           "x": [
            11
           ],
           "xaxis": "x",
           "y": [
            25
           ],
           "yaxis": "y"
          },
          {
           "hovertemplate": "bird=9<br>time=49<br>x=%{x}<br>y=%{y}<extra></extra>",
           "legendgroup": "9",
           "marker": {
            "color": "#FF97FF",
            "line": {
             "width": 3
            },
            "opacity": 0.8,
            "size": 14,
            "symbol": "square"
           },
           "mode": "markers",
           "name": "9",
           "orientation": "v",
           "showlegend": true,
           "type": "scatter",
           "x": [
            11
           ],
           "xaxis": "x",
           "y": [
            25
           ],
           "yaxis": "y"
          },
          {
           "hovertemplate": "bird=reward<br>time=49<br>x=%{x}<br>y=%{y}<extra></extra>",
           "legendgroup": "reward",
           "marker": {
            "color": "yellow",
            "symbol": "square"
           },
           "mode": "markers",
           "name": "reward",
           "orientation": "v",
           "showlegend": false,
           "type": "scatter",
           "x": [
            9,
            10,
            12,
            9,
            10,
            11,
            12,
            9,
            12,
            9,
            10,
            11,
            12
           ],
           "xaxis": "x",
           "y": [
            25,
            25,
            25,
            26,
            26,
            26,
            26,
            27,
            27,
            28,
            28,
            28,
            28
           ],
           "yaxis": "y"
          }
         ],
         "name": "49"
        }
       ],
       "layout": {
        "autosize": false,
        "height": 600,
        "legend": {
         "title": {
          "text": "bird"
         },
         "tracegroupgap": 0
        },
        "margin": {
         "t": 60
        },
        "sliders": [
         {
          "active": 0,
          "currentvalue": {
           "prefix": "time="
          },
          "len": 0.9,
          "pad": {
           "b": 10,
           "t": 60
          },
          "steps": [
           {
            "args": [
             [
              "1"
             ],
             {
              "frame": {
               "duration": 0,
               "redraw": false
              },
              "fromcurrent": true,
              "mode": "immediate",
              "transition": {
               "duration": 0,
               "easing": "linear"
              }
             }
            ],
            "label": "1",
            "method": "animate"
           },
           {
            "args": [
             [
              "2"
             ],
             {
              "frame": {
               "duration": 0,
               "redraw": false
              },
              "fromcurrent": true,
              "mode": "immediate",
              "transition": {
               "duration": 0,
               "easing": "linear"
              }
             }
            ],
            "label": "2",
            "method": "animate"
           },
           {
            "args": [
             [
              "3"
             ],
             {
              "frame": {
               "duration": 0,
               "redraw": false
              },
              "fromcurrent": true,
              "mode": "immediate",
              "transition": {
               "duration": 0,
               "easing": "linear"
              }
             }
            ],
            "label": "3",
            "method": "animate"
           },
           {
            "args": [
             [
              "4"
             ],
             {
              "frame": {
               "duration": 0,
               "redraw": false
              },
              "fromcurrent": true,
              "mode": "immediate",
              "transition": {
               "duration": 0,
               "easing": "linear"
              }
             }
            ],
            "label": "4",
            "method": "animate"
           },
           {
            "args": [
             [
              "5"
             ],
             {
              "frame": {
               "duration": 0,
               "redraw": false
              },
              "fromcurrent": true,
              "mode": "immediate",
              "transition": {
               "duration": 0,
               "easing": "linear"
              }
             }
            ],
            "label": "5",
            "method": "animate"
           },
           {
            "args": [
             [
              "6"
             ],
             {
              "frame": {
               "duration": 0,
               "redraw": false
              },
              "fromcurrent": true,
              "mode": "immediate",
              "transition": {
               "duration": 0,
               "easing": "linear"
              }
             }
            ],
            "label": "6",
            "method": "animate"
           },
           {
            "args": [
             [
              "7"
             ],
             {
              "frame": {
               "duration": 0,
               "redraw": false
              },
              "fromcurrent": true,
              "mode": "immediate",
              "transition": {
               "duration": 0,
               "easing": "linear"
              }
             }
            ],
            "label": "7",
            "method": "animate"
           },
           {
            "args": [
             [
              "8"
             ],
             {
              "frame": {
               "duration": 0,
               "redraw": false
              },
              "fromcurrent": true,
              "mode": "immediate",
              "transition": {
               "duration": 0,
               "easing": "linear"
              }
             }
            ],
            "label": "8",
            "method": "animate"
           },
           {
            "args": [
             [
              "9"
             ],
             {
              "frame": {
               "duration": 0,
               "redraw": false
              },
              "fromcurrent": true,
              "mode": "immediate",
              "transition": {
               "duration": 0,
               "easing": "linear"
              }
             }
            ],
            "label": "9",
            "method": "animate"
           },
           {
            "args": [
             [
              "10"
             ],
             {
              "frame": {
               "duration": 0,
               "redraw": false
              },
              "fromcurrent": true,
              "mode": "immediate",
              "transition": {
               "duration": 0,
               "easing": "linear"
              }
             }
            ],
            "label": "10",
            "method": "animate"
           },
           {
            "args": [
             [
              "11"
             ],
             {
              "frame": {
               "duration": 0,
               "redraw": false
              },
              "fromcurrent": true,
              "mode": "immediate",
              "transition": {
               "duration": 0,
               "easing": "linear"
              }
             }
            ],
            "label": "11",
            "method": "animate"
           },
           {
            "args": [
             [
              "12"
             ],
             {
              "frame": {
               "duration": 0,
               "redraw": false
              },
              "fromcurrent": true,
              "mode": "immediate",
              "transition": {
               "duration": 0,
               "easing": "linear"
              }
             }
            ],
            "label": "12",
            "method": "animate"
           },
           {
            "args": [
             [
              "13"
             ],
             {
              "frame": {
               "duration": 0,
               "redraw": false
              },
              "fromcurrent": true,
              "mode": "immediate",
              "transition": {
               "duration": 0,
               "easing": "linear"
              }
             }
            ],
            "label": "13",
            "method": "animate"
           },
           {
            "args": [
             [
              "14"
             ],
             {
              "frame": {
               "duration": 0,
               "redraw": false
              },
              "fromcurrent": true,
              "mode": "immediate",
              "transition": {
               "duration": 0,
               "easing": "linear"
              }
             }
            ],
            "label": "14",
            "method": "animate"
           },
           {
            "args": [
             [
              "15"
             ],
             {
              "frame": {
               "duration": 0,
               "redraw": false
              },
              "fromcurrent": true,
              "mode": "immediate",
              "transition": {
               "duration": 0,
               "easing": "linear"
              }
             }
            ],
            "label": "15",
            "method": "animate"
           },
           {
            "args": [
             [
              "16"
             ],
             {
              "frame": {
               "duration": 0,
               "redraw": false
              },
              "fromcurrent": true,
              "mode": "immediate",
              "transition": {
               "duration": 0,
               "easing": "linear"
              }
             }
            ],
            "label": "16",
            "method": "animate"
           },
           {
            "args": [
             [
              "17"
             ],
             {
              "frame": {
               "duration": 0,
               "redraw": false
              },
              "fromcurrent": true,
              "mode": "immediate",
              "transition": {
               "duration": 0,
               "easing": "linear"
              }
             }
            ],
            "label": "17",
            "method": "animate"
           },
           {
            "args": [
             [
              "18"
             ],
             {
              "frame": {
               "duration": 0,
               "redraw": false
              },
              "fromcurrent": true,
              "mode": "immediate",
              "transition": {
               "duration": 0,
               "easing": "linear"
              }
             }
            ],
            "label": "18",
            "method": "animate"
           },
           {
            "args": [
             [
              "19"
             ],
             {
              "frame": {
               "duration": 0,
               "redraw": false
              },
              "fromcurrent": true,
              "mode": "immediate",
              "transition": {
               "duration": 0,
               "easing": "linear"
              }
             }
            ],
            "label": "19",
            "method": "animate"
           },
           {
            "args": [
             [
              "20"
             ],
             {
              "frame": {
               "duration": 0,
               "redraw": false
              },
              "fromcurrent": true,
              "mode": "immediate",
              "transition": {
               "duration": 0,
               "easing": "linear"
              }
             }
            ],
            "label": "20",
            "method": "animate"
           },
           {
            "args": [
             [
              "21"
             ],
             {
              "frame": {
               "duration": 0,
               "redraw": false
              },
              "fromcurrent": true,
              "mode": "immediate",
              "transition": {
               "duration": 0,
               "easing": "linear"
              }
             }
            ],
            "label": "21",
            "method": "animate"
           },
           {
            "args": [
             [
              "22"
             ],
             {
              "frame": {
               "duration": 0,
               "redraw": false
              },
              "fromcurrent": true,
              "mode": "immediate",
              "transition": {
               "duration": 0,
               "easing": "linear"
              }
             }
            ],
            "label": "22",
            "method": "animate"
           },
           {
            "args": [
             [
              "23"
             ],
             {
              "frame": {
               "duration": 0,
               "redraw": false
              },
              "fromcurrent": true,
              "mode": "immediate",
              "transition": {
               "duration": 0,
               "easing": "linear"
              }
             }
            ],
            "label": "23",
            "method": "animate"
           },
           {
            "args": [
             [
              "24"
             ],
             {
              "frame": {
               "duration": 0,
               "redraw": false
              },
              "fromcurrent": true,
              "mode": "immediate",
              "transition": {
               "duration": 0,
               "easing": "linear"
              }
             }
            ],
            "label": "24",
            "method": "animate"
           },
           {
            "args": [
             [
              "25"
             ],
             {
              "frame": {
               "duration": 0,
               "redraw": false
              },
              "fromcurrent": true,
              "mode": "immediate",
              "transition": {
               "duration": 0,
               "easing": "linear"
              }
             }
            ],
            "label": "25",
            "method": "animate"
           },
           {
            "args": [
             [
              "26"
             ],
             {
              "frame": {
               "duration": 0,
               "redraw": false
              },
              "fromcurrent": true,
              "mode": "immediate",
              "transition": {
               "duration": 0,
               "easing": "linear"
              }
             }
            ],
            "label": "26",
            "method": "animate"
           },
           {
            "args": [
             [
              "27"
             ],
             {
              "frame": {
               "duration": 0,
               "redraw": false
              },
              "fromcurrent": true,
              "mode": "immediate",
              "transition": {
               "duration": 0,
               "easing": "linear"
              }
             }
            ],
            "label": "27",
            "method": "animate"
           },
           {
            "args": [
             [
              "28"
             ],
             {
              "frame": {
               "duration": 0,
               "redraw": false
              },
              "fromcurrent": true,
              "mode": "immediate",
              "transition": {
               "duration": 0,
               "easing": "linear"
              }
             }
            ],
            "label": "28",
            "method": "animate"
           },
           {
            "args": [
             [
              "29"
             ],
             {
              "frame": {
               "duration": 0,
               "redraw": false
              },
              "fromcurrent": true,
              "mode": "immediate",
              "transition": {
               "duration": 0,
               "easing": "linear"
              }
             }
            ],
            "label": "29",
            "method": "animate"
           },
           {
            "args": [
             [
              "30"
             ],
             {
              "frame": {
               "duration": 0,
               "redraw": false
              },
              "fromcurrent": true,
              "mode": "immediate",
              "transition": {
               "duration": 0,
               "easing": "linear"
              }
             }
            ],
            "label": "30",
            "method": "animate"
           },
           {
            "args": [
             [
              "31"
             ],
             {
              "frame": {
               "duration": 0,
               "redraw": false
              },
              "fromcurrent": true,
              "mode": "immediate",
              "transition": {
               "duration": 0,
               "easing": "linear"
              }
             }
            ],
            "label": "31",
            "method": "animate"
           },
           {
            "args": [
             [
              "32"
             ],
             {
              "frame": {
               "duration": 0,
               "redraw": false
              },
              "fromcurrent": true,
              "mode": "immediate",
              "transition": {
               "duration": 0,
               "easing": "linear"
              }
             }
            ],
            "label": "32",
            "method": "animate"
           },
           {
            "args": [
             [
              "33"
             ],
             {
              "frame": {
               "duration": 0,
               "redraw": false
              },
              "fromcurrent": true,
              "mode": "immediate",
              "transition": {
               "duration": 0,
               "easing": "linear"
              }
             }
            ],
            "label": "33",
            "method": "animate"
           },
           {
            "args": [
             [
              "34"
             ],
             {
              "frame": {
               "duration": 0,
               "redraw": false
              },
              "fromcurrent": true,
              "mode": "immediate",
              "transition": {
               "duration": 0,
               "easing": "linear"
              }
             }
            ],
            "label": "34",
            "method": "animate"
           },
           {
            "args": [
             [
              "35"
             ],
             {
              "frame": {
               "duration": 0,
               "redraw": false
              },
              "fromcurrent": true,
              "mode": "immediate",
              "transition": {
               "duration": 0,
               "easing": "linear"
              }
             }
            ],
            "label": "35",
            "method": "animate"
           },
           {
            "args": [
             [
              "36"
             ],
             {
              "frame": {
               "duration": 0,
               "redraw": false
              },
              "fromcurrent": true,
              "mode": "immediate",
              "transition": {
               "duration": 0,
               "easing": "linear"
              }
             }
            ],
            "label": "36",
            "method": "animate"
           },
           {
            "args": [
             [
              "37"
             ],
             {
              "frame": {
               "duration": 0,
               "redraw": false
              },
              "fromcurrent": true,
              "mode": "immediate",
              "transition": {
               "duration": 0,
               "easing": "linear"
              }
             }
            ],
            "label": "37",
            "method": "animate"
           },
           {
            "args": [
             [
              "38"
             ],
             {
              "frame": {
               "duration": 0,
               "redraw": false
              },
              "fromcurrent": true,
              "mode": "immediate",
              "transition": {
               "duration": 0,
               "easing": "linear"
              }
             }
            ],
            "label": "38",
            "method": "animate"
           },
           {
            "args": [
             [
              "39"
             ],
             {
              "frame": {
               "duration": 0,
               "redraw": false
              },
              "fromcurrent": true,
              "mode": "immediate",
              "transition": {
               "duration": 0,
               "easing": "linear"
              }
             }
            ],
            "label": "39",
            "method": "animate"
           },
           {
            "args": [
             [
              "40"
             ],
             {
              "frame": {
               "duration": 0,
               "redraw": false
              },
              "fromcurrent": true,
              "mode": "immediate",
              "transition": {
               "duration": 0,
               "easing": "linear"
              }
             }
            ],
            "label": "40",
            "method": "animate"
           },
           {
            "args": [
             [
              "41"
             ],
             {
              "frame": {
               "duration": 0,
               "redraw": false
              },
              "fromcurrent": true,
              "mode": "immediate",
              "transition": {
               "duration": 0,
               "easing": "linear"
              }
             }
            ],
            "label": "41",
            "method": "animate"
           },
           {
            "args": [
             [
              "42"
             ],
             {
              "frame": {
               "duration": 0,
               "redraw": false
              },
              "fromcurrent": true,
              "mode": "immediate",
              "transition": {
               "duration": 0,
               "easing": "linear"
              }
             }
            ],
            "label": "42",
            "method": "animate"
           },
           {
            "args": [
             [
              "43"
             ],
             {
              "frame": {
               "duration": 0,
               "redraw": false
              },
              "fromcurrent": true,
              "mode": "immediate",
              "transition": {
               "duration": 0,
               "easing": "linear"
              }
             }
            ],
            "label": "43",
            "method": "animate"
           },
           {
            "args": [
             [
              "44"
             ],
             {
              "frame": {
               "duration": 0,
               "redraw": false
              },
              "fromcurrent": true,
              "mode": "immediate",
              "transition": {
               "duration": 0,
               "easing": "linear"
              }
             }
            ],
            "label": "44",
            "method": "animate"
           },
           {
            "args": [
             [
              "45"
             ],
             {
              "frame": {
               "duration": 0,
               "redraw": false
              },
              "fromcurrent": true,
              "mode": "immediate",
              "transition": {
               "duration": 0,
               "easing": "linear"
              }
             }
            ],
            "label": "45",
            "method": "animate"
           },
           {
            "args": [
             [
              "46"
             ],
             {
              "frame": {
               "duration": 0,
               "redraw": false
              },
              "fromcurrent": true,
              "mode": "immediate",
              "transition": {
               "duration": 0,
               "easing": "linear"
              }
             }
            ],
            "label": "46",
            "method": "animate"
           },
           {
            "args": [
             [
              "47"
             ],
             {
              "frame": {
               "duration": 0,
               "redraw": false
              },
              "fromcurrent": true,
              "mode": "immediate",
              "transition": {
               "duration": 0,
               "easing": "linear"
              }
             }
            ],
            "label": "47",
            "method": "animate"
           },
           {
            "args": [
             [
              "48"
             ],
             {
              "frame": {
               "duration": 0,
               "redraw": false
              },
              "fromcurrent": true,
              "mode": "immediate",
              "transition": {
               "duration": 0,
               "easing": "linear"
              }
             }
            ],
            "label": "48",
            "method": "animate"
           },
           {
            "args": [
             [
              "49"
             ],
             {
              "frame": {
               "duration": 0,
               "redraw": false
              },
              "fromcurrent": true,
              "mode": "immediate",
              "transition": {
               "duration": 0,
               "easing": "linear"
              }
             }
            ],
            "label": "49",
            "method": "animate"
           }
          ],
          "x": 0.1,
          "xanchor": "left",
          "y": 0,
          "yanchor": "top"
         }
        ],
        "template": {
         "data": {
          "bar": [
           {
            "error_x": {
             "color": "#f2f5fa"
            },
            "error_y": {
             "color": "#f2f5fa"
            },
            "marker": {
             "line": {
              "color": "rgb(17,17,17)",
              "width": 0.5
             },
             "pattern": {
              "fillmode": "overlay",
              "size": 10,
              "solidity": 0.2
             }
            },
            "type": "bar"
           }
          ],
          "barpolar": [
           {
            "marker": {
             "line": {
              "color": "rgb(17,17,17)",
              "width": 0.5
             },
             "pattern": {
              "fillmode": "overlay",
              "size": 10,
              "solidity": 0.2
             }
            },
            "type": "barpolar"
           }
          ],
          "carpet": [
           {
            "aaxis": {
             "endlinecolor": "#A2B1C6",
             "gridcolor": "#506784",
             "linecolor": "#506784",
             "minorgridcolor": "#506784",
             "startlinecolor": "#A2B1C6"
            },
            "baxis": {
             "endlinecolor": "#A2B1C6",
             "gridcolor": "#506784",
             "linecolor": "#506784",
             "minorgridcolor": "#506784",
             "startlinecolor": "#A2B1C6"
            },
            "type": "carpet"
           }
          ],
          "choropleth": [
           {
            "colorbar": {
             "outlinewidth": 0,
             "ticks": ""
            },
            "type": "choropleth"
           }
          ],
          "contour": [
           {
            "colorbar": {
             "outlinewidth": 0,
             "ticks": ""
            },
            "colorscale": [
             [
              0,
              "#0d0887"
             ],
             [
              0.1111111111111111,
              "#46039f"
             ],
             [
              0.2222222222222222,
              "#7201a8"
             ],
             [
              0.3333333333333333,
              "#9c179e"
             ],
             [
              0.4444444444444444,
              "#bd3786"
             ],
             [
              0.5555555555555556,
              "#d8576b"
             ],
             [
              0.6666666666666666,
              "#ed7953"
             ],
             [
              0.7777777777777778,
              "#fb9f3a"
             ],
             [
              0.8888888888888888,
              "#fdca26"
             ],
             [
              1,
              "#f0f921"
             ]
            ],
            "type": "contour"
           }
          ],
          "contourcarpet": [
           {
            "colorbar": {
             "outlinewidth": 0,
             "ticks": ""
            },
            "type": "contourcarpet"
           }
          ],
          "heatmap": [
           {
            "colorbar": {
             "outlinewidth": 0,
             "ticks": ""
            },
            "colorscale": [
             [
              0,
              "#0d0887"
             ],
             [
              0.1111111111111111,
              "#46039f"
             ],
             [
              0.2222222222222222,
              "#7201a8"
             ],
             [
              0.3333333333333333,
              "#9c179e"
             ],
             [
              0.4444444444444444,
              "#bd3786"
             ],
             [
              0.5555555555555556,
              "#d8576b"
             ],
             [
              0.6666666666666666,
              "#ed7953"
             ],
             [
              0.7777777777777778,
              "#fb9f3a"
             ],
             [
              0.8888888888888888,
              "#fdca26"
             ],
             [
              1,
              "#f0f921"
             ]
            ],
            "type": "heatmap"
           }
          ],
          "heatmapgl": [
           {
            "colorbar": {
             "outlinewidth": 0,
             "ticks": ""
            },
            "colorscale": [
             [
              0,
              "#0d0887"
             ],
             [
              0.1111111111111111,
              "#46039f"
             ],
             [
              0.2222222222222222,
              "#7201a8"
             ],
             [
              0.3333333333333333,
              "#9c179e"
             ],
             [
              0.4444444444444444,
              "#bd3786"
             ],
             [
              0.5555555555555556,
              "#d8576b"
             ],
             [
              0.6666666666666666,
              "#ed7953"
             ],
             [
              0.7777777777777778,
              "#fb9f3a"
             ],
             [
              0.8888888888888888,
              "#fdca26"
             ],
             [
              1,
              "#f0f921"
             ]
            ],
            "type": "heatmapgl"
           }
          ],
          "histogram": [
           {
            "marker": {
             "pattern": {
              "fillmode": "overlay",
              "size": 10,
              "solidity": 0.2
             }
            },
            "type": "histogram"
           }
          ],
          "histogram2d": [
           {
            "colorbar": {
             "outlinewidth": 0,
             "ticks": ""
            },
            "colorscale": [
             [
              0,
              "#0d0887"
             ],
             [
              0.1111111111111111,
              "#46039f"
             ],
             [
              0.2222222222222222,
              "#7201a8"
             ],
             [
              0.3333333333333333,
              "#9c179e"
             ],
             [
              0.4444444444444444,
              "#bd3786"
             ],
             [
              0.5555555555555556,
              "#d8576b"
             ],
             [
              0.6666666666666666,
              "#ed7953"
             ],
             [
              0.7777777777777778,
              "#fb9f3a"
             ],
             [
              0.8888888888888888,
              "#fdca26"
             ],
             [
              1,
              "#f0f921"
             ]
            ],
            "type": "histogram2d"
           }
          ],
          "histogram2dcontour": [
           {
            "colorbar": {
             "outlinewidth": 0,
             "ticks": ""
            },
            "colorscale": [
             [
              0,
              "#0d0887"
             ],
             [
              0.1111111111111111,
              "#46039f"
             ],
             [
              0.2222222222222222,
              "#7201a8"
             ],
             [
              0.3333333333333333,
              "#9c179e"
             ],
             [
              0.4444444444444444,
              "#bd3786"
             ],
             [
              0.5555555555555556,
              "#d8576b"
             ],
             [
              0.6666666666666666,
              "#ed7953"
             ],
             [
              0.7777777777777778,
              "#fb9f3a"
             ],
             [
              0.8888888888888888,
              "#fdca26"
             ],
             [
              1,
              "#f0f921"
             ]
            ],
            "type": "histogram2dcontour"
           }
          ],
          "mesh3d": [
           {
            "colorbar": {
             "outlinewidth": 0,
             "ticks": ""
            },
            "type": "mesh3d"
           }
          ],
          "parcoords": [
           {
            "line": {
             "colorbar": {
              "outlinewidth": 0,
              "ticks": ""
             }
            },
            "type": "parcoords"
           }
          ],
          "pie": [
           {
            "automargin": true,
            "type": "pie"
           }
          ],
          "scatter": [
           {
            "marker": {
             "line": {
              "color": "#283442"
             }
            },
            "type": "scatter"
           }
          ],
          "scatter3d": [
           {
            "line": {
             "colorbar": {
              "outlinewidth": 0,
              "ticks": ""
             }
            },
            "marker": {
             "colorbar": {
              "outlinewidth": 0,
              "ticks": ""
             }
            },
            "type": "scatter3d"
           }
          ],
          "scattercarpet": [
           {
            "marker": {
             "colorbar": {
              "outlinewidth": 0,
              "ticks": ""
             }
            },
            "type": "scattercarpet"
           }
          ],
          "scattergeo": [
           {
            "marker": {
             "colorbar": {
              "outlinewidth": 0,
              "ticks": ""
             }
            },
            "type": "scattergeo"
           }
          ],
          "scattergl": [
           {
            "marker": {
             "line": {
              "color": "#283442"
             }
            },
            "type": "scattergl"
           }
          ],
          "scattermapbox": [
           {
            "marker": {
             "colorbar": {
              "outlinewidth": 0,
              "ticks": ""
             }
            },
            "type": "scattermapbox"
           }
          ],
          "scatterpolar": [
           {
            "marker": {
             "colorbar": {
              "outlinewidth": 0,
              "ticks": ""
             }
            },
            "type": "scatterpolar"
           }
          ],
          "scatterpolargl": [
           {
            "marker": {
             "colorbar": {
              "outlinewidth": 0,
              "ticks": ""
             }
            },
            "type": "scatterpolargl"
           }
          ],
          "scatterternary": [
           {
            "marker": {
             "colorbar": {
              "outlinewidth": 0,
              "ticks": ""
             }
            },
            "type": "scatterternary"
           }
          ],
          "surface": [
           {
            "colorbar": {
             "outlinewidth": 0,
             "ticks": ""
            },
            "colorscale": [
             [
              0,
              "#0d0887"
             ],
             [
              0.1111111111111111,
              "#46039f"
             ],
             [
              0.2222222222222222,
              "#7201a8"
             ],
             [
              0.3333333333333333,
              "#9c179e"
             ],
             [
              0.4444444444444444,
              "#bd3786"
             ],
             [
              0.5555555555555556,
              "#d8576b"
             ],
             [
              0.6666666666666666,
              "#ed7953"
             ],
             [
              0.7777777777777778,
              "#fb9f3a"
             ],
             [
              0.8888888888888888,
              "#fdca26"
             ],
             [
              1,
              "#f0f921"
             ]
            ],
            "type": "surface"
           }
          ],
          "table": [
           {
            "cells": {
             "fill": {
              "color": "#506784"
             },
             "line": {
              "color": "rgb(17,17,17)"
             }
            },
            "header": {
             "fill": {
              "color": "#2a3f5f"
             },
             "line": {
              "color": "rgb(17,17,17)"
             }
            },
            "type": "table"
           }
          ]
         },
         "layout": {
          "annotationdefaults": {
           "arrowcolor": "#f2f5fa",
           "arrowhead": 0,
           "arrowwidth": 1
          },
          "autotypenumbers": "strict",
          "coloraxis": {
           "colorbar": {
            "outlinewidth": 0,
            "ticks": ""
           }
          },
          "colorscale": {
           "diverging": [
            [
             0,
             "#8e0152"
            ],
            [
             0.1,
             "#c51b7d"
            ],
            [
             0.2,
             "#de77ae"
            ],
            [
             0.3,
             "#f1b6da"
            ],
            [
             0.4,
             "#fde0ef"
            ],
            [
             0.5,
             "#f7f7f7"
            ],
            [
             0.6,
             "#e6f5d0"
            ],
            [
             0.7,
             "#b8e186"
            ],
            [
             0.8,
             "#7fbc41"
            ],
            [
             0.9,
             "#4d9221"
            ],
            [
             1,
             "#276419"
            ]
           ],
           "sequential": [
            [
             0,
             "#0d0887"
            ],
            [
             0.1111111111111111,
             "#46039f"
            ],
            [
             0.2222222222222222,
             "#7201a8"
            ],
            [
             0.3333333333333333,
             "#9c179e"
            ],
            [
             0.4444444444444444,
             "#bd3786"
            ],
            [
             0.5555555555555556,
             "#d8576b"
            ],
            [
             0.6666666666666666,
             "#ed7953"
            ],
            [
             0.7777777777777778,
             "#fb9f3a"
            ],
            [
             0.8888888888888888,
             "#fdca26"
            ],
            [
             1,
             "#f0f921"
            ]
           ],
           "sequentialminus": [
            [
             0,
             "#0d0887"
            ],
            [
             0.1111111111111111,
             "#46039f"
            ],
            [
             0.2222222222222222,
             "#7201a8"
            ],
            [
             0.3333333333333333,
             "#9c179e"
            ],
            [
             0.4444444444444444,
             "#bd3786"
            ],
            [
             0.5555555555555556,
             "#d8576b"
            ],
            [
             0.6666666666666666,
             "#ed7953"
            ],
            [
             0.7777777777777778,
             "#fb9f3a"
            ],
            [
             0.8888888888888888,
             "#fdca26"
            ],
            [
             1,
             "#f0f921"
            ]
           ]
          },
          "colorway": [
           "#636efa",
           "#EF553B",
           "#00cc96",
           "#ab63fa",
           "#FFA15A",
           "#19d3f3",
           "#FF6692",
           "#B6E880",
           "#FF97FF",
           "#FECB52"
          ],
          "font": {
           "color": "#f2f5fa"
          },
          "geo": {
           "bgcolor": "rgb(17,17,17)",
           "lakecolor": "rgb(17,17,17)",
           "landcolor": "rgb(17,17,17)",
           "showlakes": true,
           "showland": true,
           "subunitcolor": "#506784"
          },
          "hoverlabel": {
           "align": "left"
          },
          "hovermode": "closest",
          "mapbox": {
           "style": "dark"
          },
          "paper_bgcolor": "rgb(17,17,17)",
          "plot_bgcolor": "rgb(17,17,17)",
          "polar": {
           "angularaxis": {
            "gridcolor": "#506784",
            "linecolor": "#506784",
            "ticks": ""
           },
           "bgcolor": "rgb(17,17,17)",
           "radialaxis": {
            "gridcolor": "#506784",
            "linecolor": "#506784",
            "ticks": ""
           }
          },
          "scene": {
           "xaxis": {
            "backgroundcolor": "rgb(17,17,17)",
            "gridcolor": "#506784",
            "gridwidth": 2,
            "linecolor": "#506784",
            "showbackground": true,
            "ticks": "",
            "zerolinecolor": "#C8D4E3"
           },
           "yaxis": {
            "backgroundcolor": "rgb(17,17,17)",
            "gridcolor": "#506784",
            "gridwidth": 2,
            "linecolor": "#506784",
            "showbackground": true,
            "ticks": "",
            "zerolinecolor": "#C8D4E3"
           },
           "zaxis": {
            "backgroundcolor": "rgb(17,17,17)",
            "gridcolor": "#506784",
            "gridwidth": 2,
            "linecolor": "#506784",
            "showbackground": true,
            "ticks": "",
            "zerolinecolor": "#C8D4E3"
           }
          },
          "shapedefaults": {
           "line": {
            "color": "#f2f5fa"
           }
          },
          "sliderdefaults": {
           "bgcolor": "#C8D4E3",
           "bordercolor": "rgb(17,17,17)",
           "borderwidth": 1,
           "tickwidth": 0
          },
          "ternary": {
           "aaxis": {
            "gridcolor": "#506784",
            "linecolor": "#506784",
            "ticks": ""
           },
           "baxis": {
            "gridcolor": "#506784",
            "linecolor": "#506784",
            "ticks": ""
           },
           "bgcolor": "rgb(17,17,17)",
           "caxis": {
            "gridcolor": "#506784",
            "linecolor": "#506784",
            "ticks": ""
           }
          },
          "title": {
           "x": 0.05
          },
          "updatemenudefaults": {
           "bgcolor": "#506784",
           "borderwidth": 0
          },
          "xaxis": {
           "automargin": true,
           "gridcolor": "#283442",
           "linecolor": "#506784",
           "ticks": "",
           "title": {
            "standoff": 15
           },
           "zerolinecolor": "#283442",
           "zerolinewidth": 2
          },
          "yaxis": {
           "automargin": true,
           "gridcolor": "#283442",
           "linecolor": "#506784",
           "ticks": "",
           "title": {
            "standoff": 15
           },
           "zerolinecolor": "#283442",
           "zerolinewidth": 2
          }
         }
        },
        "updatemenus": [
         {
          "buttons": [
           {
            "args": [
             null,
             {
              "frame": {
               "duration": 500,
               "redraw": false
              },
              "fromcurrent": true,
              "mode": "immediate",
              "transition": {
               "duration": 0,
               "easing": "linear"
              }
             }
            ],
            "label": "&#9654;",
            "method": "animate"
           },
           {
            "args": [
             [
              null
             ],
             {
              "frame": {
               "duration": 0,
               "redraw": false
              },
              "fromcurrent": true,
              "mode": "immediate",
              "transition": {
               "duration": 0,
               "easing": "linear"
              }
             }
            ],
            "label": "&#9724;",
            "method": "animate"
           }
          ],
          "direction": "left",
          "pad": {
           "r": 10,
           "t": 70
          },
          "showactive": false,
          "type": "buttons",
          "x": 0.1,
          "xanchor": "right",
          "y": 0,
          "yanchor": "top"
         }
        ],
        "width": 600,
        "xaxis": {
         "anchor": "y",
         "domain": [
          0,
          1
         ],
         "range": [
          -1,
          30
         ],
         "showgrid": false,
         "showticklabels": false,
         "ticks": "",
         "title": {
          "text": ""
         },
         "zeroline": false
        },
        "yaxis": {
         "anchor": "x",
         "domain": [
          0,
          1
         ],
         "range": [
          -1,
          30
         ],
         "showgrid": false,
         "showticklabels": false,
         "ticks": "",
         "title": {
          "text": ""
         },
         "zeroline": false
        }
       }
      }
     },
     "metadata": {},
     "output_type": "display_data"
    }
   ],
   "source": [
    "communicators = ft.object_from_data(sim.all_birdsDF, sim.all_rewardsDF)\n",
    "ft.animate_birds(communicators, plot_rewards=True,\n",
    "                  width = 600, height = 600, point_size = 10)"
   ]
  },
  {
   "cell_type": "code",
   "execution_count": 211,
   "metadata": {},
   "outputs": [
    {
     "name": "stdout",
     "output_type": "stream",
     "text": [
      "       x     y  time  bird           type\n",
      "0   22.0  18.0     1     1  communicators\n",
      "1   25.0  18.0     2     1  communicators\n",
      "2   24.0  16.0     3     1  communicators\n",
      "3   24.0  17.0     4     1  communicators\n",
      "4   22.0  17.0     5     1  communicators\n",
      "5   21.0  17.0     6     1  communicators\n",
      "6   18.0  17.0     7     1  communicators\n",
      "7   16.0  18.0     8     1  communicators\n",
      "8   15.0  19.0     9     1  communicators\n",
      "9   16.0  20.0    10     1  communicators\n",
      "10  17.0  21.0    11     1  communicators\n",
      "11  18.0  20.0    12     1  communicators\n",
      "12  21.0  20.0    13     1  communicators\n",
      "13  19.0  21.0    14     1  communicators\n",
      "14  18.0  20.0    15     1  communicators\n",
      "15  16.0  19.0    16     1  communicators\n",
      "16  14.0  21.0    17     1  communicators\n",
      "17  12.0  23.0    18     1  communicators\n",
      "18  11.0  25.0    19     1  communicators\n",
      "19  11.0  25.0    20     1  communicators\n",
      "20  11.0  25.0    21     1  communicators\n",
      "21  11.0  25.0    22     1  communicators\n",
      "22  11.0  25.0    23     1  communicators\n",
      "23  11.0  25.0    24     1  communicators\n",
      "24  11.0  25.0    25     1  communicators\n",
      "25  11.0  25.0    26     1  communicators\n",
      "26  11.0  25.0    27     1  communicators\n",
      "27  11.0  25.0    28     1  communicators\n",
      "28  11.0  25.0    29     1  communicators\n",
      "29  11.0  25.0    30     1  communicators\n",
      "30  11.0  25.0    31     1  communicators\n",
      "31  11.0  25.0    32     1  communicators\n",
      "32  11.0  25.0    33     1  communicators\n",
      "33  11.0  25.0    34     1  communicators\n",
      "34  11.0  25.0    35     1  communicators\n",
      "35  11.0  25.0    36     1  communicators\n",
      "36  11.0  25.0    37     1  communicators\n",
      "37  11.0  25.0    38     1  communicators\n",
      "38  11.0  25.0    39     1  communicators\n",
      "39  11.0  25.0    40     1  communicators\n",
      "40  11.0  25.0    41     1  communicators\n",
      "41  11.0  25.0    42     1  communicators\n",
      "42  11.0  25.0    43     1  communicators\n",
      "43  11.0  25.0    44     1  communicators\n",
      "44  11.0  25.0    45     1  communicators\n",
      "45  11.0  25.0    46     1  communicators\n",
      "46  11.0  25.0    47     1  communicators\n",
      "47  11.0  25.0    48     1  communicators\n",
      "48  11.0  25.0    49     1  communicators\n",
      "49   0.0   0.0    50     1  communicators\n"
     ]
    }
   ],
   "source": [
    "print(sim.all_birdsDF.loc[sim.all_birdsDF['bird'] == 1])"
   ]
  },
  {
   "cell_type": "code",
   "execution_count": 212,
   "metadata": {},
   "outputs": [
    {
     "name": "stdout",
     "output_type": "stream",
     "text": [
      "     x   y  time\n",
      "0    9  25     4\n",
      "1   10  25     4\n",
      "2   11  25     4\n",
      "3   12  25     4\n",
      "4    9  26     4\n",
      "5   10  26     4\n",
      "6   11  26     4\n",
      "7   12  26     4\n",
      "8    9  27     4\n",
      "9   10  27     4\n",
      "10  11  27     4\n",
      "11  12  27     4\n",
      "12   9  28     4\n",
      "13  10  28     4\n",
      "14  11  28     4\n",
      "15  12  28     4\n"
     ]
    }
   ],
   "source": [
    "# print(sim.all_rewardsDF[]) \n",
    "print(sim.all_rewardsDF.loc[sim.all_rewardsDF['time'] == 4])\n"
   ]
  },
  {
   "cell_type": "code",
   "execution_count": 213,
   "metadata": {},
   "outputs": [
    {
     "data": {
      "text/html": [
       "<div>\n",
       "<style scoped>\n",
       "    .dataframe tbody tr th:only-of-type {\n",
       "        vertical-align: middle;\n",
       "    }\n",
       "\n",
       "    .dataframe tbody tr th {\n",
       "        vertical-align: top;\n",
       "    }\n",
       "\n",
       "    .dataframe thead th {\n",
       "        text-align: right;\n",
       "    }\n",
       "</style>\n",
       "<table border=\"1\" class=\"dataframe\">\n",
       "  <thead>\n",
       "    <tr style=\"text-align: right;\">\n",
       "      <th></th>\n",
       "      <th>x</th>\n",
       "      <th>y</th>\n",
       "      <th>time</th>\n",
       "      <th>bird</th>\n",
       "      <th>type</th>\n",
       "    </tr>\n",
       "  </thead>\n",
       "  <tbody>\n",
       "    <tr>\n",
       "      <th>0</th>\n",
       "      <td>22.0</td>\n",
       "      <td>18.0</td>\n",
       "      <td>1</td>\n",
       "      <td>1</td>\n",
       "      <td>communicators</td>\n",
       "    </tr>\n",
       "    <tr>\n",
       "      <th>1</th>\n",
       "      <td>25.0</td>\n",
       "      <td>18.0</td>\n",
       "      <td>2</td>\n",
       "      <td>1</td>\n",
       "      <td>communicators</td>\n",
       "    </tr>\n",
       "    <tr>\n",
       "      <th>2</th>\n",
       "      <td>24.0</td>\n",
       "      <td>16.0</td>\n",
       "      <td>3</td>\n",
       "      <td>1</td>\n",
       "      <td>communicators</td>\n",
       "    </tr>\n",
       "    <tr>\n",
       "      <th>3</th>\n",
       "      <td>24.0</td>\n",
       "      <td>17.0</td>\n",
       "      <td>4</td>\n",
       "      <td>1</td>\n",
       "      <td>communicators</td>\n",
       "    </tr>\n",
       "    <tr>\n",
       "      <th>4</th>\n",
       "      <td>22.0</td>\n",
       "      <td>17.0</td>\n",
       "      <td>5</td>\n",
       "      <td>1</td>\n",
       "      <td>communicators</td>\n",
       "    </tr>\n",
       "    <tr>\n",
       "      <th>5</th>\n",
       "      <td>21.0</td>\n",
       "      <td>17.0</td>\n",
       "      <td>6</td>\n",
       "      <td>1</td>\n",
       "      <td>communicators</td>\n",
       "    </tr>\n",
       "    <tr>\n",
       "      <th>6</th>\n",
       "      <td>18.0</td>\n",
       "      <td>17.0</td>\n",
       "      <td>7</td>\n",
       "      <td>1</td>\n",
       "      <td>communicators</td>\n",
       "    </tr>\n",
       "    <tr>\n",
       "      <th>7</th>\n",
       "      <td>16.0</td>\n",
       "      <td>18.0</td>\n",
       "      <td>8</td>\n",
       "      <td>1</td>\n",
       "      <td>communicators</td>\n",
       "    </tr>\n",
       "    <tr>\n",
       "      <th>8</th>\n",
       "      <td>15.0</td>\n",
       "      <td>19.0</td>\n",
       "      <td>9</td>\n",
       "      <td>1</td>\n",
       "      <td>communicators</td>\n",
       "    </tr>\n",
       "    <tr>\n",
       "      <th>9</th>\n",
       "      <td>16.0</td>\n",
       "      <td>20.0</td>\n",
       "      <td>10</td>\n",
       "      <td>1</td>\n",
       "      <td>communicators</td>\n",
       "    </tr>\n",
       "    <tr>\n",
       "      <th>10</th>\n",
       "      <td>17.0</td>\n",
       "      <td>21.0</td>\n",
       "      <td>11</td>\n",
       "      <td>1</td>\n",
       "      <td>communicators</td>\n",
       "    </tr>\n",
       "    <tr>\n",
       "      <th>11</th>\n",
       "      <td>18.0</td>\n",
       "      <td>20.0</td>\n",
       "      <td>12</td>\n",
       "      <td>1</td>\n",
       "      <td>communicators</td>\n",
       "    </tr>\n",
       "    <tr>\n",
       "      <th>12</th>\n",
       "      <td>21.0</td>\n",
       "      <td>20.0</td>\n",
       "      <td>13</td>\n",
       "      <td>1</td>\n",
       "      <td>communicators</td>\n",
       "    </tr>\n",
       "    <tr>\n",
       "      <th>13</th>\n",
       "      <td>19.0</td>\n",
       "      <td>21.0</td>\n",
       "      <td>14</td>\n",
       "      <td>1</td>\n",
       "      <td>communicators</td>\n",
       "    </tr>\n",
       "    <tr>\n",
       "      <th>14</th>\n",
       "      <td>18.0</td>\n",
       "      <td>20.0</td>\n",
       "      <td>15</td>\n",
       "      <td>1</td>\n",
       "      <td>communicators</td>\n",
       "    </tr>\n",
       "    <tr>\n",
       "      <th>15</th>\n",
       "      <td>16.0</td>\n",
       "      <td>19.0</td>\n",
       "      <td>16</td>\n",
       "      <td>1</td>\n",
       "      <td>communicators</td>\n",
       "    </tr>\n",
       "    <tr>\n",
       "      <th>16</th>\n",
       "      <td>14.0</td>\n",
       "      <td>21.0</td>\n",
       "      <td>17</td>\n",
       "      <td>1</td>\n",
       "      <td>communicators</td>\n",
       "    </tr>\n",
       "    <tr>\n",
       "      <th>17</th>\n",
       "      <td>12.0</td>\n",
       "      <td>23.0</td>\n",
       "      <td>18</td>\n",
       "      <td>1</td>\n",
       "      <td>communicators</td>\n",
       "    </tr>\n",
       "    <tr>\n",
       "      <th>18</th>\n",
       "      <td>11.0</td>\n",
       "      <td>25.0</td>\n",
       "      <td>19</td>\n",
       "      <td>1</td>\n",
       "      <td>communicators</td>\n",
       "    </tr>\n",
       "    <tr>\n",
       "      <th>19</th>\n",
       "      <td>11.0</td>\n",
       "      <td>25.0</td>\n",
       "      <td>20</td>\n",
       "      <td>1</td>\n",
       "      <td>communicators</td>\n",
       "    </tr>\n",
       "    <tr>\n",
       "      <th>20</th>\n",
       "      <td>11.0</td>\n",
       "      <td>25.0</td>\n",
       "      <td>21</td>\n",
       "      <td>1</td>\n",
       "      <td>communicators</td>\n",
       "    </tr>\n",
       "    <tr>\n",
       "      <th>21</th>\n",
       "      <td>11.0</td>\n",
       "      <td>25.0</td>\n",
       "      <td>22</td>\n",
       "      <td>1</td>\n",
       "      <td>communicators</td>\n",
       "    </tr>\n",
       "    <tr>\n",
       "      <th>22</th>\n",
       "      <td>11.0</td>\n",
       "      <td>25.0</td>\n",
       "      <td>23</td>\n",
       "      <td>1</td>\n",
       "      <td>communicators</td>\n",
       "    </tr>\n",
       "    <tr>\n",
       "      <th>23</th>\n",
       "      <td>11.0</td>\n",
       "      <td>25.0</td>\n",
       "      <td>24</td>\n",
       "      <td>1</td>\n",
       "      <td>communicators</td>\n",
       "    </tr>\n",
       "    <tr>\n",
       "      <th>24</th>\n",
       "      <td>11.0</td>\n",
       "      <td>25.0</td>\n",
       "      <td>25</td>\n",
       "      <td>1</td>\n",
       "      <td>communicators</td>\n",
       "    </tr>\n",
       "    <tr>\n",
       "      <th>25</th>\n",
       "      <td>11.0</td>\n",
       "      <td>25.0</td>\n",
       "      <td>26</td>\n",
       "      <td>1</td>\n",
       "      <td>communicators</td>\n",
       "    </tr>\n",
       "    <tr>\n",
       "      <th>26</th>\n",
       "      <td>11.0</td>\n",
       "      <td>25.0</td>\n",
       "      <td>27</td>\n",
       "      <td>1</td>\n",
       "      <td>communicators</td>\n",
       "    </tr>\n",
       "    <tr>\n",
       "      <th>27</th>\n",
       "      <td>11.0</td>\n",
       "      <td>25.0</td>\n",
       "      <td>28</td>\n",
       "      <td>1</td>\n",
       "      <td>communicators</td>\n",
       "    </tr>\n",
       "    <tr>\n",
       "      <th>28</th>\n",
       "      <td>11.0</td>\n",
       "      <td>25.0</td>\n",
       "      <td>29</td>\n",
       "      <td>1</td>\n",
       "      <td>communicators</td>\n",
       "    </tr>\n",
       "    <tr>\n",
       "      <th>29</th>\n",
       "      <td>11.0</td>\n",
       "      <td>25.0</td>\n",
       "      <td>30</td>\n",
       "      <td>1</td>\n",
       "      <td>communicators</td>\n",
       "    </tr>\n",
       "    <tr>\n",
       "      <th>30</th>\n",
       "      <td>11.0</td>\n",
       "      <td>25.0</td>\n",
       "      <td>31</td>\n",
       "      <td>1</td>\n",
       "      <td>communicators</td>\n",
       "    </tr>\n",
       "    <tr>\n",
       "      <th>31</th>\n",
       "      <td>11.0</td>\n",
       "      <td>25.0</td>\n",
       "      <td>32</td>\n",
       "      <td>1</td>\n",
       "      <td>communicators</td>\n",
       "    </tr>\n",
       "    <tr>\n",
       "      <th>32</th>\n",
       "      <td>11.0</td>\n",
       "      <td>25.0</td>\n",
       "      <td>33</td>\n",
       "      <td>1</td>\n",
       "      <td>communicators</td>\n",
       "    </tr>\n",
       "    <tr>\n",
       "      <th>33</th>\n",
       "      <td>11.0</td>\n",
       "      <td>25.0</td>\n",
       "      <td>34</td>\n",
       "      <td>1</td>\n",
       "      <td>communicators</td>\n",
       "    </tr>\n",
       "    <tr>\n",
       "      <th>34</th>\n",
       "      <td>11.0</td>\n",
       "      <td>25.0</td>\n",
       "      <td>35</td>\n",
       "      <td>1</td>\n",
       "      <td>communicators</td>\n",
       "    </tr>\n",
       "    <tr>\n",
       "      <th>35</th>\n",
       "      <td>11.0</td>\n",
       "      <td>25.0</td>\n",
       "      <td>36</td>\n",
       "      <td>1</td>\n",
       "      <td>communicators</td>\n",
       "    </tr>\n",
       "    <tr>\n",
       "      <th>36</th>\n",
       "      <td>11.0</td>\n",
       "      <td>25.0</td>\n",
       "      <td>37</td>\n",
       "      <td>1</td>\n",
       "      <td>communicators</td>\n",
       "    </tr>\n",
       "    <tr>\n",
       "      <th>37</th>\n",
       "      <td>11.0</td>\n",
       "      <td>25.0</td>\n",
       "      <td>38</td>\n",
       "      <td>1</td>\n",
       "      <td>communicators</td>\n",
       "    </tr>\n",
       "    <tr>\n",
       "      <th>38</th>\n",
       "      <td>11.0</td>\n",
       "      <td>25.0</td>\n",
       "      <td>39</td>\n",
       "      <td>1</td>\n",
       "      <td>communicators</td>\n",
       "    </tr>\n",
       "    <tr>\n",
       "      <th>39</th>\n",
       "      <td>11.0</td>\n",
       "      <td>25.0</td>\n",
       "      <td>40</td>\n",
       "      <td>1</td>\n",
       "      <td>communicators</td>\n",
       "    </tr>\n",
       "    <tr>\n",
       "      <th>40</th>\n",
       "      <td>11.0</td>\n",
       "      <td>25.0</td>\n",
       "      <td>41</td>\n",
       "      <td>1</td>\n",
       "      <td>communicators</td>\n",
       "    </tr>\n",
       "    <tr>\n",
       "      <th>41</th>\n",
       "      <td>11.0</td>\n",
       "      <td>25.0</td>\n",
       "      <td>42</td>\n",
       "      <td>1</td>\n",
       "      <td>communicators</td>\n",
       "    </tr>\n",
       "    <tr>\n",
       "      <th>42</th>\n",
       "      <td>11.0</td>\n",
       "      <td>25.0</td>\n",
       "      <td>43</td>\n",
       "      <td>1</td>\n",
       "      <td>communicators</td>\n",
       "    </tr>\n",
       "    <tr>\n",
       "      <th>43</th>\n",
       "      <td>11.0</td>\n",
       "      <td>25.0</td>\n",
       "      <td>44</td>\n",
       "      <td>1</td>\n",
       "      <td>communicators</td>\n",
       "    </tr>\n",
       "    <tr>\n",
       "      <th>44</th>\n",
       "      <td>11.0</td>\n",
       "      <td>25.0</td>\n",
       "      <td>45</td>\n",
       "      <td>1</td>\n",
       "      <td>communicators</td>\n",
       "    </tr>\n",
       "    <tr>\n",
       "      <th>45</th>\n",
       "      <td>11.0</td>\n",
       "      <td>25.0</td>\n",
       "      <td>46</td>\n",
       "      <td>1</td>\n",
       "      <td>communicators</td>\n",
       "    </tr>\n",
       "    <tr>\n",
       "      <th>46</th>\n",
       "      <td>11.0</td>\n",
       "      <td>25.0</td>\n",
       "      <td>47</td>\n",
       "      <td>1</td>\n",
       "      <td>communicators</td>\n",
       "    </tr>\n",
       "    <tr>\n",
       "      <th>47</th>\n",
       "      <td>11.0</td>\n",
       "      <td>25.0</td>\n",
       "      <td>48</td>\n",
       "      <td>1</td>\n",
       "      <td>communicators</td>\n",
       "    </tr>\n",
       "    <tr>\n",
       "      <th>48</th>\n",
       "      <td>11.0</td>\n",
       "      <td>25.0</td>\n",
       "      <td>49</td>\n",
       "      <td>1</td>\n",
       "      <td>communicators</td>\n",
       "    </tr>\n",
       "    <tr>\n",
       "      <th>49</th>\n",
       "      <td>0.0</td>\n",
       "      <td>0.0</td>\n",
       "      <td>50</td>\n",
       "      <td>1</td>\n",
       "      <td>communicators</td>\n",
       "    </tr>\n",
       "  </tbody>\n",
       "</table>\n",
       "</div>"
      ],
      "text/plain": [
       "       x     y  time  bird           type\n",
       "0   22.0  18.0     1     1  communicators\n",
       "1   25.0  18.0     2     1  communicators\n",
       "2   24.0  16.0     3     1  communicators\n",
       "3   24.0  17.0     4     1  communicators\n",
       "4   22.0  17.0     5     1  communicators\n",
       "5   21.0  17.0     6     1  communicators\n",
       "6   18.0  17.0     7     1  communicators\n",
       "7   16.0  18.0     8     1  communicators\n",
       "8   15.0  19.0     9     1  communicators\n",
       "9   16.0  20.0    10     1  communicators\n",
       "10  17.0  21.0    11     1  communicators\n",
       "11  18.0  20.0    12     1  communicators\n",
       "12  21.0  20.0    13     1  communicators\n",
       "13  19.0  21.0    14     1  communicators\n",
       "14  18.0  20.0    15     1  communicators\n",
       "15  16.0  19.0    16     1  communicators\n",
       "16  14.0  21.0    17     1  communicators\n",
       "17  12.0  23.0    18     1  communicators\n",
       "18  11.0  25.0    19     1  communicators\n",
       "19  11.0  25.0    20     1  communicators\n",
       "20  11.0  25.0    21     1  communicators\n",
       "21  11.0  25.0    22     1  communicators\n",
       "22  11.0  25.0    23     1  communicators\n",
       "23  11.0  25.0    24     1  communicators\n",
       "24  11.0  25.0    25     1  communicators\n",
       "25  11.0  25.0    26     1  communicators\n",
       "26  11.0  25.0    27     1  communicators\n",
       "27  11.0  25.0    28     1  communicators\n",
       "28  11.0  25.0    29     1  communicators\n",
       "29  11.0  25.0    30     1  communicators\n",
       "30  11.0  25.0    31     1  communicators\n",
       "31  11.0  25.0    32     1  communicators\n",
       "32  11.0  25.0    33     1  communicators\n",
       "33  11.0  25.0    34     1  communicators\n",
       "34  11.0  25.0    35     1  communicators\n",
       "35  11.0  25.0    36     1  communicators\n",
       "36  11.0  25.0    37     1  communicators\n",
       "37  11.0  25.0    38     1  communicators\n",
       "38  11.0  25.0    39     1  communicators\n",
       "39  11.0  25.0    40     1  communicators\n",
       "40  11.0  25.0    41     1  communicators\n",
       "41  11.0  25.0    42     1  communicators\n",
       "42  11.0  25.0    43     1  communicators\n",
       "43  11.0  25.0    44     1  communicators\n",
       "44  11.0  25.0    45     1  communicators\n",
       "45  11.0  25.0    46     1  communicators\n",
       "46  11.0  25.0    47     1  communicators\n",
       "47  11.0  25.0    48     1  communicators\n",
       "48  11.0  25.0    49     1  communicators\n",
       "49   0.0   0.0    50     1  communicators"
      ]
     },
     "metadata": {},
     "output_type": "display_data"
    },
    {
     "name": "stdout",
     "output_type": "stream",
     "text": [
      "[18.  0.  0.  0.  0.  0.  0.  0.  0.]\n"
     ]
    },
    {
     "data": {
      "text/html": [
       "<div>\n",
       "<style scoped>\n",
       "    .dataframe tbody tr th:only-of-type {\n",
       "        vertical-align: middle;\n",
       "    }\n",
       "\n",
       "    .dataframe tbody tr th {\n",
       "        vertical-align: top;\n",
       "    }\n",
       "\n",
       "    .dataframe thead th {\n",
       "        text-align: right;\n",
       "    }\n",
       "</style>\n",
       "<table border=\"1\" class=\"dataframe\">\n",
       "  <thead>\n",
       "    <tr style=\"text-align: right;\">\n",
       "      <th></th>\n",
       "      <th>x</th>\n",
       "      <th>y</th>\n",
       "      <th>time</th>\n",
       "      <th>bird</th>\n",
       "      <th>type</th>\n",
       "    </tr>\n",
       "  </thead>\n",
       "  <tbody>\n",
       "    <tr>\n",
       "      <th>0</th>\n",
       "      <td>1.0</td>\n",
       "      <td>10.0</td>\n",
       "      <td>1</td>\n",
       "      <td>2</td>\n",
       "      <td>communicators</td>\n",
       "    </tr>\n",
       "    <tr>\n",
       "      <th>1</th>\n",
       "      <td>1.0</td>\n",
       "      <td>9.0</td>\n",
       "      <td>2</td>\n",
       "      <td>2</td>\n",
       "      <td>communicators</td>\n",
       "    </tr>\n",
       "    <tr>\n",
       "      <th>2</th>\n",
       "      <td>0.0</td>\n",
       "      <td>7.0</td>\n",
       "      <td>3</td>\n",
       "      <td>2</td>\n",
       "      <td>communicators</td>\n",
       "    </tr>\n",
       "    <tr>\n",
       "      <th>3</th>\n",
       "      <td>2.0</td>\n",
       "      <td>9.0</td>\n",
       "      <td>4</td>\n",
       "      <td>2</td>\n",
       "      <td>communicators</td>\n",
       "    </tr>\n",
       "    <tr>\n",
       "      <th>4</th>\n",
       "      <td>1.0</td>\n",
       "      <td>10.0</td>\n",
       "      <td>5</td>\n",
       "      <td>2</td>\n",
       "      <td>communicators</td>\n",
       "    </tr>\n",
       "    <tr>\n",
       "      <th>5</th>\n",
       "      <td>3.0</td>\n",
       "      <td>8.0</td>\n",
       "      <td>6</td>\n",
       "      <td>2</td>\n",
       "      <td>communicators</td>\n",
       "    </tr>\n",
       "    <tr>\n",
       "      <th>6</th>\n",
       "      <td>1.0</td>\n",
       "      <td>10.0</td>\n",
       "      <td>7</td>\n",
       "      <td>2</td>\n",
       "      <td>communicators</td>\n",
       "    </tr>\n",
       "    <tr>\n",
       "      <th>7</th>\n",
       "      <td>0.0</td>\n",
       "      <td>9.0</td>\n",
       "      <td>8</td>\n",
       "      <td>2</td>\n",
       "      <td>communicators</td>\n",
       "    </tr>\n",
       "    <tr>\n",
       "      <th>8</th>\n",
       "      <td>2.0</td>\n",
       "      <td>11.0</td>\n",
       "      <td>9</td>\n",
       "      <td>2</td>\n",
       "      <td>communicators</td>\n",
       "    </tr>\n",
       "    <tr>\n",
       "      <th>9</th>\n",
       "      <td>0.0</td>\n",
       "      <td>12.0</td>\n",
       "      <td>10</td>\n",
       "      <td>2</td>\n",
       "      <td>communicators</td>\n",
       "    </tr>\n",
       "    <tr>\n",
       "      <th>10</th>\n",
       "      <td>1.0</td>\n",
       "      <td>14.0</td>\n",
       "      <td>11</td>\n",
       "      <td>2</td>\n",
       "      <td>communicators</td>\n",
       "    </tr>\n",
       "    <tr>\n",
       "      <th>11</th>\n",
       "      <td>2.0</td>\n",
       "      <td>12.0</td>\n",
       "      <td>12</td>\n",
       "      <td>2</td>\n",
       "      <td>communicators</td>\n",
       "    </tr>\n",
       "    <tr>\n",
       "      <th>12</th>\n",
       "      <td>1.0</td>\n",
       "      <td>13.0</td>\n",
       "      <td>13</td>\n",
       "      <td>2</td>\n",
       "      <td>communicators</td>\n",
       "    </tr>\n",
       "    <tr>\n",
       "      <th>13</th>\n",
       "      <td>0.0</td>\n",
       "      <td>12.0</td>\n",
       "      <td>14</td>\n",
       "      <td>2</td>\n",
       "      <td>communicators</td>\n",
       "    </tr>\n",
       "    <tr>\n",
       "      <th>14</th>\n",
       "      <td>1.0</td>\n",
       "      <td>11.0</td>\n",
       "      <td>15</td>\n",
       "      <td>2</td>\n",
       "      <td>communicators</td>\n",
       "    </tr>\n",
       "    <tr>\n",
       "      <th>15</th>\n",
       "      <td>2.0</td>\n",
       "      <td>13.0</td>\n",
       "      <td>16</td>\n",
       "      <td>2</td>\n",
       "      <td>communicators</td>\n",
       "    </tr>\n",
       "    <tr>\n",
       "      <th>16</th>\n",
       "      <td>4.0</td>\n",
       "      <td>12.0</td>\n",
       "      <td>17</td>\n",
       "      <td>2</td>\n",
       "      <td>communicators</td>\n",
       "    </tr>\n",
       "    <tr>\n",
       "      <th>17</th>\n",
       "      <td>2.0</td>\n",
       "      <td>13.0</td>\n",
       "      <td>18</td>\n",
       "      <td>2</td>\n",
       "      <td>communicators</td>\n",
       "    </tr>\n",
       "    <tr>\n",
       "      <th>18</th>\n",
       "      <td>2.0</td>\n",
       "      <td>15.0</td>\n",
       "      <td>19</td>\n",
       "      <td>2</td>\n",
       "      <td>communicators</td>\n",
       "    </tr>\n",
       "    <tr>\n",
       "      <th>19</th>\n",
       "      <td>1.0</td>\n",
       "      <td>13.0</td>\n",
       "      <td>20</td>\n",
       "      <td>2</td>\n",
       "      <td>communicators</td>\n",
       "    </tr>\n",
       "    <tr>\n",
       "      <th>20</th>\n",
       "      <td>0.0</td>\n",
       "      <td>15.0</td>\n",
       "      <td>21</td>\n",
       "      <td>2</td>\n",
       "      <td>communicators</td>\n",
       "    </tr>\n",
       "    <tr>\n",
       "      <th>21</th>\n",
       "      <td>2.0</td>\n",
       "      <td>16.0</td>\n",
       "      <td>22</td>\n",
       "      <td>2</td>\n",
       "      <td>communicators</td>\n",
       "    </tr>\n",
       "    <tr>\n",
       "      <th>22</th>\n",
       "      <td>2.0</td>\n",
       "      <td>13.0</td>\n",
       "      <td>23</td>\n",
       "      <td>2</td>\n",
       "      <td>communicators</td>\n",
       "    </tr>\n",
       "    <tr>\n",
       "      <th>23</th>\n",
       "      <td>2.0</td>\n",
       "      <td>15.0</td>\n",
       "      <td>24</td>\n",
       "      <td>2</td>\n",
       "      <td>communicators</td>\n",
       "    </tr>\n",
       "    <tr>\n",
       "      <th>24</th>\n",
       "      <td>4.0</td>\n",
       "      <td>15.0</td>\n",
       "      <td>25</td>\n",
       "      <td>2</td>\n",
       "      <td>communicators</td>\n",
       "    </tr>\n",
       "    <tr>\n",
       "      <th>25</th>\n",
       "      <td>3.0</td>\n",
       "      <td>15.0</td>\n",
       "      <td>26</td>\n",
       "      <td>2</td>\n",
       "      <td>communicators</td>\n",
       "    </tr>\n",
       "    <tr>\n",
       "      <th>26</th>\n",
       "      <td>1.0</td>\n",
       "      <td>13.0</td>\n",
       "      <td>27</td>\n",
       "      <td>2</td>\n",
       "      <td>communicators</td>\n",
       "    </tr>\n",
       "    <tr>\n",
       "      <th>27</th>\n",
       "      <td>2.0</td>\n",
       "      <td>15.0</td>\n",
       "      <td>28</td>\n",
       "      <td>2</td>\n",
       "      <td>communicators</td>\n",
       "    </tr>\n",
       "    <tr>\n",
       "      <th>28</th>\n",
       "      <td>2.0</td>\n",
       "      <td>12.0</td>\n",
       "      <td>29</td>\n",
       "      <td>2</td>\n",
       "      <td>communicators</td>\n",
       "    </tr>\n",
       "    <tr>\n",
       "      <th>29</th>\n",
       "      <td>4.0</td>\n",
       "      <td>13.0</td>\n",
       "      <td>30</td>\n",
       "      <td>2</td>\n",
       "      <td>communicators</td>\n",
       "    </tr>\n",
       "    <tr>\n",
       "      <th>30</th>\n",
       "      <td>2.0</td>\n",
       "      <td>11.0</td>\n",
       "      <td>31</td>\n",
       "      <td>2</td>\n",
       "      <td>communicators</td>\n",
       "    </tr>\n",
       "    <tr>\n",
       "      <th>31</th>\n",
       "      <td>2.0</td>\n",
       "      <td>11.0</td>\n",
       "      <td>32</td>\n",
       "      <td>2</td>\n",
       "      <td>communicators</td>\n",
       "    </tr>\n",
       "    <tr>\n",
       "      <th>32</th>\n",
       "      <td>4.0</td>\n",
       "      <td>10.0</td>\n",
       "      <td>33</td>\n",
       "      <td>2</td>\n",
       "      <td>communicators</td>\n",
       "    </tr>\n",
       "    <tr>\n",
       "      <th>33</th>\n",
       "      <td>4.0</td>\n",
       "      <td>11.0</td>\n",
       "      <td>34</td>\n",
       "      <td>2</td>\n",
       "      <td>communicators</td>\n",
       "    </tr>\n",
       "    <tr>\n",
       "      <th>34</th>\n",
       "      <td>3.0</td>\n",
       "      <td>9.0</td>\n",
       "      <td>35</td>\n",
       "      <td>2</td>\n",
       "      <td>communicators</td>\n",
       "    </tr>\n",
       "    <tr>\n",
       "      <th>35</th>\n",
       "      <td>1.0</td>\n",
       "      <td>9.0</td>\n",
       "      <td>36</td>\n",
       "      <td>2</td>\n",
       "      <td>communicators</td>\n",
       "    </tr>\n",
       "    <tr>\n",
       "      <th>36</th>\n",
       "      <td>2.0</td>\n",
       "      <td>10.0</td>\n",
       "      <td>37</td>\n",
       "      <td>2</td>\n",
       "      <td>communicators</td>\n",
       "    </tr>\n",
       "    <tr>\n",
       "      <th>37</th>\n",
       "      <td>3.0</td>\n",
       "      <td>11.0</td>\n",
       "      <td>38</td>\n",
       "      <td>2</td>\n",
       "      <td>communicators</td>\n",
       "    </tr>\n",
       "    <tr>\n",
       "      <th>38</th>\n",
       "      <td>5.0</td>\n",
       "      <td>12.0</td>\n",
       "      <td>39</td>\n",
       "      <td>2</td>\n",
       "      <td>communicators</td>\n",
       "    </tr>\n",
       "    <tr>\n",
       "      <th>39</th>\n",
       "      <td>4.0</td>\n",
       "      <td>12.0</td>\n",
       "      <td>40</td>\n",
       "      <td>2</td>\n",
       "      <td>communicators</td>\n",
       "    </tr>\n",
       "    <tr>\n",
       "      <th>40</th>\n",
       "      <td>4.0</td>\n",
       "      <td>13.0</td>\n",
       "      <td>41</td>\n",
       "      <td>2</td>\n",
       "      <td>communicators</td>\n",
       "    </tr>\n",
       "    <tr>\n",
       "      <th>41</th>\n",
       "      <td>5.0</td>\n",
       "      <td>15.0</td>\n",
       "      <td>42</td>\n",
       "      <td>2</td>\n",
       "      <td>communicators</td>\n",
       "    </tr>\n",
       "    <tr>\n",
       "      <th>42</th>\n",
       "      <td>7.0</td>\n",
       "      <td>14.0</td>\n",
       "      <td>43</td>\n",
       "      <td>2</td>\n",
       "      <td>communicators</td>\n",
       "    </tr>\n",
       "    <tr>\n",
       "      <th>43</th>\n",
       "      <td>4.0</td>\n",
       "      <td>14.0</td>\n",
       "      <td>44</td>\n",
       "      <td>2</td>\n",
       "      <td>communicators</td>\n",
       "    </tr>\n",
       "    <tr>\n",
       "      <th>44</th>\n",
       "      <td>6.0</td>\n",
       "      <td>16.0</td>\n",
       "      <td>45</td>\n",
       "      <td>2</td>\n",
       "      <td>communicators</td>\n",
       "    </tr>\n",
       "    <tr>\n",
       "      <th>45</th>\n",
       "      <td>4.0</td>\n",
       "      <td>16.0</td>\n",
       "      <td>46</td>\n",
       "      <td>2</td>\n",
       "      <td>communicators</td>\n",
       "    </tr>\n",
       "    <tr>\n",
       "      <th>46</th>\n",
       "      <td>5.0</td>\n",
       "      <td>18.0</td>\n",
       "      <td>47</td>\n",
       "      <td>2</td>\n",
       "      <td>communicators</td>\n",
       "    </tr>\n",
       "    <tr>\n",
       "      <th>47</th>\n",
       "      <td>5.0</td>\n",
       "      <td>17.0</td>\n",
       "      <td>48</td>\n",
       "      <td>2</td>\n",
       "      <td>communicators</td>\n",
       "    </tr>\n",
       "    <tr>\n",
       "      <th>48</th>\n",
       "      <td>5.0</td>\n",
       "      <td>20.0</td>\n",
       "      <td>49</td>\n",
       "      <td>2</td>\n",
       "      <td>communicators</td>\n",
       "    </tr>\n",
       "    <tr>\n",
       "      <th>49</th>\n",
       "      <td>0.0</td>\n",
       "      <td>0.0</td>\n",
       "      <td>50</td>\n",
       "      <td>2</td>\n",
       "      <td>communicators</td>\n",
       "    </tr>\n",
       "  </tbody>\n",
       "</table>\n",
       "</div>"
      ],
      "text/plain": [
       "      x     y  time  bird           type\n",
       "0   1.0  10.0     1     2  communicators\n",
       "1   1.0   9.0     2     2  communicators\n",
       "2   0.0   7.0     3     2  communicators\n",
       "3   2.0   9.0     4     2  communicators\n",
       "4   1.0  10.0     5     2  communicators\n",
       "5   3.0   8.0     6     2  communicators\n",
       "6   1.0  10.0     7     2  communicators\n",
       "7   0.0   9.0     8     2  communicators\n",
       "8   2.0  11.0     9     2  communicators\n",
       "9   0.0  12.0    10     2  communicators\n",
       "10  1.0  14.0    11     2  communicators\n",
       "11  2.0  12.0    12     2  communicators\n",
       "12  1.0  13.0    13     2  communicators\n",
       "13  0.0  12.0    14     2  communicators\n",
       "14  1.0  11.0    15     2  communicators\n",
       "15  2.0  13.0    16     2  communicators\n",
       "16  4.0  12.0    17     2  communicators\n",
       "17  2.0  13.0    18     2  communicators\n",
       "18  2.0  15.0    19     2  communicators\n",
       "19  1.0  13.0    20     2  communicators\n",
       "20  0.0  15.0    21     2  communicators\n",
       "21  2.0  16.0    22     2  communicators\n",
       "22  2.0  13.0    23     2  communicators\n",
       "23  2.0  15.0    24     2  communicators\n",
       "24  4.0  15.0    25     2  communicators\n",
       "25  3.0  15.0    26     2  communicators\n",
       "26  1.0  13.0    27     2  communicators\n",
       "27  2.0  15.0    28     2  communicators\n",
       "28  2.0  12.0    29     2  communicators\n",
       "29  4.0  13.0    30     2  communicators\n",
       "30  2.0  11.0    31     2  communicators\n",
       "31  2.0  11.0    32     2  communicators\n",
       "32  4.0  10.0    33     2  communicators\n",
       "33  4.0  11.0    34     2  communicators\n",
       "34  3.0   9.0    35     2  communicators\n",
       "35  1.0   9.0    36     2  communicators\n",
       "36  2.0  10.0    37     2  communicators\n",
       "37  3.0  11.0    38     2  communicators\n",
       "38  5.0  12.0    39     2  communicators\n",
       "39  4.0  12.0    40     2  communicators\n",
       "40  4.0  13.0    41     2  communicators\n",
       "41  5.0  15.0    42     2  communicators\n",
       "42  7.0  14.0    43     2  communicators\n",
       "43  4.0  14.0    44     2  communicators\n",
       "44  6.0  16.0    45     2  communicators\n",
       "45  4.0  16.0    46     2  communicators\n",
       "46  5.0  18.0    47     2  communicators\n",
       "47  5.0  17.0    48     2  communicators\n",
       "48  5.0  20.0    49     2  communicators\n",
       "49  0.0   0.0    50     2  communicators"
      ]
     },
     "metadata": {},
     "output_type": "display_data"
    },
    {
     "name": "stdout",
     "output_type": "stream",
     "text": [
      "[18. -1.  0.  0.  0.  0.  0.  0.  0.]\n"
     ]
    },
    {
     "data": {
      "text/html": [
       "<div>\n",
       "<style scoped>\n",
       "    .dataframe tbody tr th:only-of-type {\n",
       "        vertical-align: middle;\n",
       "    }\n",
       "\n",
       "    .dataframe tbody tr th {\n",
       "        vertical-align: top;\n",
       "    }\n",
       "\n",
       "    .dataframe thead th {\n",
       "        text-align: right;\n",
       "    }\n",
       "</style>\n",
       "<table border=\"1\" class=\"dataframe\">\n",
       "  <thead>\n",
       "    <tr style=\"text-align: right;\">\n",
       "      <th></th>\n",
       "      <th>x</th>\n",
       "      <th>y</th>\n",
       "      <th>time</th>\n",
       "      <th>bird</th>\n",
       "      <th>type</th>\n",
       "    </tr>\n",
       "  </thead>\n",
       "  <tbody>\n",
       "    <tr>\n",
       "      <th>0</th>\n",
       "      <td>29.0</td>\n",
       "      <td>24.0</td>\n",
       "      <td>1</td>\n",
       "      <td>3</td>\n",
       "      <td>communicators</td>\n",
       "    </tr>\n",
       "    <tr>\n",
       "      <th>1</th>\n",
       "      <td>27.0</td>\n",
       "      <td>25.0</td>\n",
       "      <td>2</td>\n",
       "      <td>3</td>\n",
       "      <td>communicators</td>\n",
       "    </tr>\n",
       "    <tr>\n",
       "      <th>2</th>\n",
       "      <td>28.0</td>\n",
       "      <td>24.0</td>\n",
       "      <td>3</td>\n",
       "      <td>3</td>\n",
       "      <td>communicators</td>\n",
       "    </tr>\n",
       "    <tr>\n",
       "      <th>3</th>\n",
       "      <td>26.0</td>\n",
       "      <td>23.0</td>\n",
       "      <td>4</td>\n",
       "      <td>3</td>\n",
       "      <td>communicators</td>\n",
       "    </tr>\n",
       "    <tr>\n",
       "      <th>4</th>\n",
       "      <td>27.0</td>\n",
       "      <td>22.0</td>\n",
       "      <td>5</td>\n",
       "      <td>3</td>\n",
       "      <td>communicators</td>\n",
       "    </tr>\n",
       "    <tr>\n",
       "      <th>5</th>\n",
       "      <td>26.0</td>\n",
       "      <td>23.0</td>\n",
       "      <td>6</td>\n",
       "      <td>3</td>\n",
       "      <td>communicators</td>\n",
       "    </tr>\n",
       "    <tr>\n",
       "      <th>6</th>\n",
       "      <td>27.0</td>\n",
       "      <td>25.0</td>\n",
       "      <td>7</td>\n",
       "      <td>3</td>\n",
       "      <td>communicators</td>\n",
       "    </tr>\n",
       "    <tr>\n",
       "      <th>7</th>\n",
       "      <td>26.0</td>\n",
       "      <td>25.0</td>\n",
       "      <td>8</td>\n",
       "      <td>3</td>\n",
       "      <td>communicators</td>\n",
       "    </tr>\n",
       "    <tr>\n",
       "      <th>8</th>\n",
       "      <td>26.0</td>\n",
       "      <td>26.0</td>\n",
       "      <td>9</td>\n",
       "      <td>3</td>\n",
       "      <td>communicators</td>\n",
       "    </tr>\n",
       "    <tr>\n",
       "      <th>9</th>\n",
       "      <td>25.0</td>\n",
       "      <td>27.0</td>\n",
       "      <td>10</td>\n",
       "      <td>3</td>\n",
       "      <td>communicators</td>\n",
       "    </tr>\n",
       "    <tr>\n",
       "      <th>10</th>\n",
       "      <td>26.0</td>\n",
       "      <td>25.0</td>\n",
       "      <td>11</td>\n",
       "      <td>3</td>\n",
       "      <td>communicators</td>\n",
       "    </tr>\n",
       "    <tr>\n",
       "      <th>11</th>\n",
       "      <td>27.0</td>\n",
       "      <td>24.0</td>\n",
       "      <td>12</td>\n",
       "      <td>3</td>\n",
       "      <td>communicators</td>\n",
       "    </tr>\n",
       "    <tr>\n",
       "      <th>12</th>\n",
       "      <td>25.0</td>\n",
       "      <td>23.0</td>\n",
       "      <td>13</td>\n",
       "      <td>3</td>\n",
       "      <td>communicators</td>\n",
       "    </tr>\n",
       "    <tr>\n",
       "      <th>13</th>\n",
       "      <td>23.0</td>\n",
       "      <td>25.0</td>\n",
       "      <td>14</td>\n",
       "      <td>3</td>\n",
       "      <td>communicators</td>\n",
       "    </tr>\n",
       "    <tr>\n",
       "      <th>14</th>\n",
       "      <td>21.0</td>\n",
       "      <td>23.0</td>\n",
       "      <td>15</td>\n",
       "      <td>3</td>\n",
       "      <td>communicators</td>\n",
       "    </tr>\n",
       "    <tr>\n",
       "      <th>15</th>\n",
       "      <td>23.0</td>\n",
       "      <td>21.0</td>\n",
       "      <td>16</td>\n",
       "      <td>3</td>\n",
       "      <td>communicators</td>\n",
       "    </tr>\n",
       "    <tr>\n",
       "      <th>16</th>\n",
       "      <td>23.0</td>\n",
       "      <td>22.0</td>\n",
       "      <td>17</td>\n",
       "      <td>3</td>\n",
       "      <td>communicators</td>\n",
       "    </tr>\n",
       "    <tr>\n",
       "      <th>17</th>\n",
       "      <td>21.0</td>\n",
       "      <td>22.0</td>\n",
       "      <td>18</td>\n",
       "      <td>3</td>\n",
       "      <td>communicators</td>\n",
       "    </tr>\n",
       "    <tr>\n",
       "      <th>18</th>\n",
       "      <td>21.0</td>\n",
       "      <td>24.0</td>\n",
       "      <td>19</td>\n",
       "      <td>3</td>\n",
       "      <td>communicators</td>\n",
       "    </tr>\n",
       "    <tr>\n",
       "      <th>19</th>\n",
       "      <td>23.0</td>\n",
       "      <td>26.0</td>\n",
       "      <td>20</td>\n",
       "      <td>3</td>\n",
       "      <td>communicators</td>\n",
       "    </tr>\n",
       "    <tr>\n",
       "      <th>20</th>\n",
       "      <td>26.0</td>\n",
       "      <td>26.0</td>\n",
       "      <td>21</td>\n",
       "      <td>3</td>\n",
       "      <td>communicators</td>\n",
       "    </tr>\n",
       "    <tr>\n",
       "      <th>21</th>\n",
       "      <td>24.0</td>\n",
       "      <td>28.0</td>\n",
       "      <td>22</td>\n",
       "      <td>3</td>\n",
       "      <td>communicators</td>\n",
       "    </tr>\n",
       "    <tr>\n",
       "      <th>22</th>\n",
       "      <td>24.0</td>\n",
       "      <td>28.0</td>\n",
       "      <td>23</td>\n",
       "      <td>3</td>\n",
       "      <td>communicators</td>\n",
       "    </tr>\n",
       "    <tr>\n",
       "      <th>23</th>\n",
       "      <td>21.0</td>\n",
       "      <td>28.0</td>\n",
       "      <td>24</td>\n",
       "      <td>3</td>\n",
       "      <td>communicators</td>\n",
       "    </tr>\n",
       "    <tr>\n",
       "      <th>24</th>\n",
       "      <td>21.0</td>\n",
       "      <td>25.0</td>\n",
       "      <td>25</td>\n",
       "      <td>3</td>\n",
       "      <td>communicators</td>\n",
       "    </tr>\n",
       "    <tr>\n",
       "      <th>25</th>\n",
       "      <td>19.0</td>\n",
       "      <td>24.0</td>\n",
       "      <td>26</td>\n",
       "      <td>3</td>\n",
       "      <td>communicators</td>\n",
       "    </tr>\n",
       "    <tr>\n",
       "      <th>26</th>\n",
       "      <td>16.0</td>\n",
       "      <td>24.0</td>\n",
       "      <td>27</td>\n",
       "      <td>3</td>\n",
       "      <td>communicators</td>\n",
       "    </tr>\n",
       "    <tr>\n",
       "      <th>27</th>\n",
       "      <td>14.0</td>\n",
       "      <td>25.0</td>\n",
       "      <td>28</td>\n",
       "      <td>3</td>\n",
       "      <td>communicators</td>\n",
       "    </tr>\n",
       "    <tr>\n",
       "      <th>28</th>\n",
       "      <td>11.0</td>\n",
       "      <td>25.0</td>\n",
       "      <td>29</td>\n",
       "      <td>3</td>\n",
       "      <td>communicators</td>\n",
       "    </tr>\n",
       "    <tr>\n",
       "      <th>29</th>\n",
       "      <td>11.0</td>\n",
       "      <td>25.0</td>\n",
       "      <td>30</td>\n",
       "      <td>3</td>\n",
       "      <td>communicators</td>\n",
       "    </tr>\n",
       "    <tr>\n",
       "      <th>30</th>\n",
       "      <td>11.0</td>\n",
       "      <td>25.0</td>\n",
       "      <td>31</td>\n",
       "      <td>3</td>\n",
       "      <td>communicators</td>\n",
       "    </tr>\n",
       "    <tr>\n",
       "      <th>31</th>\n",
       "      <td>11.0</td>\n",
       "      <td>25.0</td>\n",
       "      <td>32</td>\n",
       "      <td>3</td>\n",
       "      <td>communicators</td>\n",
       "    </tr>\n",
       "    <tr>\n",
       "      <th>32</th>\n",
       "      <td>11.0</td>\n",
       "      <td>25.0</td>\n",
       "      <td>33</td>\n",
       "      <td>3</td>\n",
       "      <td>communicators</td>\n",
       "    </tr>\n",
       "    <tr>\n",
       "      <th>33</th>\n",
       "      <td>11.0</td>\n",
       "      <td>25.0</td>\n",
       "      <td>34</td>\n",
       "      <td>3</td>\n",
       "      <td>communicators</td>\n",
       "    </tr>\n",
       "    <tr>\n",
       "      <th>34</th>\n",
       "      <td>11.0</td>\n",
       "      <td>25.0</td>\n",
       "      <td>35</td>\n",
       "      <td>3</td>\n",
       "      <td>communicators</td>\n",
       "    </tr>\n",
       "    <tr>\n",
       "      <th>35</th>\n",
       "      <td>11.0</td>\n",
       "      <td>25.0</td>\n",
       "      <td>36</td>\n",
       "      <td>3</td>\n",
       "      <td>communicators</td>\n",
       "    </tr>\n",
       "    <tr>\n",
       "      <th>36</th>\n",
       "      <td>11.0</td>\n",
       "      <td>25.0</td>\n",
       "      <td>37</td>\n",
       "      <td>3</td>\n",
       "      <td>communicators</td>\n",
       "    </tr>\n",
       "    <tr>\n",
       "      <th>37</th>\n",
       "      <td>11.0</td>\n",
       "      <td>25.0</td>\n",
       "      <td>38</td>\n",
       "      <td>3</td>\n",
       "      <td>communicators</td>\n",
       "    </tr>\n",
       "    <tr>\n",
       "      <th>38</th>\n",
       "      <td>11.0</td>\n",
       "      <td>25.0</td>\n",
       "      <td>39</td>\n",
       "      <td>3</td>\n",
       "      <td>communicators</td>\n",
       "    </tr>\n",
       "    <tr>\n",
       "      <th>39</th>\n",
       "      <td>11.0</td>\n",
       "      <td>25.0</td>\n",
       "      <td>40</td>\n",
       "      <td>3</td>\n",
       "      <td>communicators</td>\n",
       "    </tr>\n",
       "    <tr>\n",
       "      <th>40</th>\n",
       "      <td>11.0</td>\n",
       "      <td>25.0</td>\n",
       "      <td>41</td>\n",
       "      <td>3</td>\n",
       "      <td>communicators</td>\n",
       "    </tr>\n",
       "    <tr>\n",
       "      <th>41</th>\n",
       "      <td>11.0</td>\n",
       "      <td>25.0</td>\n",
       "      <td>42</td>\n",
       "      <td>3</td>\n",
       "      <td>communicators</td>\n",
       "    </tr>\n",
       "    <tr>\n",
       "      <th>42</th>\n",
       "      <td>11.0</td>\n",
       "      <td>25.0</td>\n",
       "      <td>43</td>\n",
       "      <td>3</td>\n",
       "      <td>communicators</td>\n",
       "    </tr>\n",
       "    <tr>\n",
       "      <th>43</th>\n",
       "      <td>11.0</td>\n",
       "      <td>25.0</td>\n",
       "      <td>44</td>\n",
       "      <td>3</td>\n",
       "      <td>communicators</td>\n",
       "    </tr>\n",
       "    <tr>\n",
       "      <th>44</th>\n",
       "      <td>11.0</td>\n",
       "      <td>25.0</td>\n",
       "      <td>45</td>\n",
       "      <td>3</td>\n",
       "      <td>communicators</td>\n",
       "    </tr>\n",
       "    <tr>\n",
       "      <th>45</th>\n",
       "      <td>11.0</td>\n",
       "      <td>25.0</td>\n",
       "      <td>46</td>\n",
       "      <td>3</td>\n",
       "      <td>communicators</td>\n",
       "    </tr>\n",
       "    <tr>\n",
       "      <th>46</th>\n",
       "      <td>11.0</td>\n",
       "      <td>25.0</td>\n",
       "      <td>47</td>\n",
       "      <td>3</td>\n",
       "      <td>communicators</td>\n",
       "    </tr>\n",
       "    <tr>\n",
       "      <th>47</th>\n",
       "      <td>11.0</td>\n",
       "      <td>25.0</td>\n",
       "      <td>48</td>\n",
       "      <td>3</td>\n",
       "      <td>communicators</td>\n",
       "    </tr>\n",
       "    <tr>\n",
       "      <th>48</th>\n",
       "      <td>11.0</td>\n",
       "      <td>25.0</td>\n",
       "      <td>49</td>\n",
       "      <td>3</td>\n",
       "      <td>communicators</td>\n",
       "    </tr>\n",
       "    <tr>\n",
       "      <th>49</th>\n",
       "      <td>0.0</td>\n",
       "      <td>0.0</td>\n",
       "      <td>50</td>\n",
       "      <td>3</td>\n",
       "      <td>communicators</td>\n",
       "    </tr>\n",
       "  </tbody>\n",
       "</table>\n",
       "</div>"
      ],
      "text/plain": [
       "       x     y  time  bird           type\n",
       "0   29.0  24.0     1     3  communicators\n",
       "1   27.0  25.0     2     3  communicators\n",
       "2   28.0  24.0     3     3  communicators\n",
       "3   26.0  23.0     4     3  communicators\n",
       "4   27.0  22.0     5     3  communicators\n",
       "5   26.0  23.0     6     3  communicators\n",
       "6   27.0  25.0     7     3  communicators\n",
       "7   26.0  25.0     8     3  communicators\n",
       "8   26.0  26.0     9     3  communicators\n",
       "9   25.0  27.0    10     3  communicators\n",
       "10  26.0  25.0    11     3  communicators\n",
       "11  27.0  24.0    12     3  communicators\n",
       "12  25.0  23.0    13     3  communicators\n",
       "13  23.0  25.0    14     3  communicators\n",
       "14  21.0  23.0    15     3  communicators\n",
       "15  23.0  21.0    16     3  communicators\n",
       "16  23.0  22.0    17     3  communicators\n",
       "17  21.0  22.0    18     3  communicators\n",
       "18  21.0  24.0    19     3  communicators\n",
       "19  23.0  26.0    20     3  communicators\n",
       "20  26.0  26.0    21     3  communicators\n",
       "21  24.0  28.0    22     3  communicators\n",
       "22  24.0  28.0    23     3  communicators\n",
       "23  21.0  28.0    24     3  communicators\n",
       "24  21.0  25.0    25     3  communicators\n",
       "25  19.0  24.0    26     3  communicators\n",
       "26  16.0  24.0    27     3  communicators\n",
       "27  14.0  25.0    28     3  communicators\n",
       "28  11.0  25.0    29     3  communicators\n",
       "29  11.0  25.0    30     3  communicators\n",
       "30  11.0  25.0    31     3  communicators\n",
       "31  11.0  25.0    32     3  communicators\n",
       "32  11.0  25.0    33     3  communicators\n",
       "33  11.0  25.0    34     3  communicators\n",
       "34  11.0  25.0    35     3  communicators\n",
       "35  11.0  25.0    36     3  communicators\n",
       "36  11.0  25.0    37     3  communicators\n",
       "37  11.0  25.0    38     3  communicators\n",
       "38  11.0  25.0    39     3  communicators\n",
       "39  11.0  25.0    40     3  communicators\n",
       "40  11.0  25.0    41     3  communicators\n",
       "41  11.0  25.0    42     3  communicators\n",
       "42  11.0  25.0    43     3  communicators\n",
       "43  11.0  25.0    44     3  communicators\n",
       "44  11.0  25.0    45     3  communicators\n",
       "45  11.0  25.0    46     3  communicators\n",
       "46  11.0  25.0    47     3  communicators\n",
       "47  11.0  25.0    48     3  communicators\n",
       "48  11.0  25.0    49     3  communicators\n",
       "49   0.0   0.0    50     3  communicators"
      ]
     },
     "metadata": {},
     "output_type": "display_data"
    },
    {
     "name": "stdout",
     "output_type": "stream",
     "text": [
      "[18. -1. -1.  0.  0.  0.  0.  0.  0.]\n"
     ]
    },
    {
     "data": {
      "text/html": [
       "<div>\n",
       "<style scoped>\n",
       "    .dataframe tbody tr th:only-of-type {\n",
       "        vertical-align: middle;\n",
       "    }\n",
       "\n",
       "    .dataframe tbody tr th {\n",
       "        vertical-align: top;\n",
       "    }\n",
       "\n",
       "    .dataframe thead th {\n",
       "        text-align: right;\n",
       "    }\n",
       "</style>\n",
       "<table border=\"1\" class=\"dataframe\">\n",
       "  <thead>\n",
       "    <tr style=\"text-align: right;\">\n",
       "      <th></th>\n",
       "      <th>x</th>\n",
       "      <th>y</th>\n",
       "      <th>time</th>\n",
       "      <th>bird</th>\n",
       "      <th>type</th>\n",
       "    </tr>\n",
       "  </thead>\n",
       "  <tbody>\n",
       "    <tr>\n",
       "      <th>0</th>\n",
       "      <td>29.0</td>\n",
       "      <td>16.0</td>\n",
       "      <td>1</td>\n",
       "      <td>4</td>\n",
       "      <td>communicators</td>\n",
       "    </tr>\n",
       "    <tr>\n",
       "      <th>1</th>\n",
       "      <td>27.0</td>\n",
       "      <td>15.0</td>\n",
       "      <td>2</td>\n",
       "      <td>4</td>\n",
       "      <td>communicators</td>\n",
       "    </tr>\n",
       "    <tr>\n",
       "      <th>2</th>\n",
       "      <td>26.0</td>\n",
       "      <td>17.0</td>\n",
       "      <td>3</td>\n",
       "      <td>4</td>\n",
       "      <td>communicators</td>\n",
       "    </tr>\n",
       "    <tr>\n",
       "      <th>3</th>\n",
       "      <td>24.0</td>\n",
       "      <td>16.0</td>\n",
       "      <td>4</td>\n",
       "      <td>4</td>\n",
       "      <td>communicators</td>\n",
       "    </tr>\n",
       "    <tr>\n",
       "      <th>4</th>\n",
       "      <td>22.0</td>\n",
       "      <td>15.0</td>\n",
       "      <td>5</td>\n",
       "      <td>4</td>\n",
       "      <td>communicators</td>\n",
       "    </tr>\n",
       "    <tr>\n",
       "      <th>5</th>\n",
       "      <td>22.0</td>\n",
       "      <td>18.0</td>\n",
       "      <td>6</td>\n",
       "      <td>4</td>\n",
       "      <td>communicators</td>\n",
       "    </tr>\n",
       "    <tr>\n",
       "      <th>6</th>\n",
       "      <td>20.0</td>\n",
       "      <td>16.0</td>\n",
       "      <td>7</td>\n",
       "      <td>4</td>\n",
       "      <td>communicators</td>\n",
       "    </tr>\n",
       "    <tr>\n",
       "      <th>7</th>\n",
       "      <td>22.0</td>\n",
       "      <td>15.0</td>\n",
       "      <td>8</td>\n",
       "      <td>4</td>\n",
       "      <td>communicators</td>\n",
       "    </tr>\n",
       "    <tr>\n",
       "      <th>8</th>\n",
       "      <td>22.0</td>\n",
       "      <td>17.0</td>\n",
       "      <td>9</td>\n",
       "      <td>4</td>\n",
       "      <td>communicators</td>\n",
       "    </tr>\n",
       "    <tr>\n",
       "      <th>9</th>\n",
       "      <td>25.0</td>\n",
       "      <td>17.0</td>\n",
       "      <td>10</td>\n",
       "      <td>4</td>\n",
       "      <td>communicators</td>\n",
       "    </tr>\n",
       "    <tr>\n",
       "      <th>10</th>\n",
       "      <td>25.0</td>\n",
       "      <td>18.0</td>\n",
       "      <td>11</td>\n",
       "      <td>4</td>\n",
       "      <td>communicators</td>\n",
       "    </tr>\n",
       "    <tr>\n",
       "      <th>11</th>\n",
       "      <td>24.0</td>\n",
       "      <td>18.0</td>\n",
       "      <td>12</td>\n",
       "      <td>4</td>\n",
       "      <td>communicators</td>\n",
       "    </tr>\n",
       "    <tr>\n",
       "      <th>12</th>\n",
       "      <td>24.0</td>\n",
       "      <td>19.0</td>\n",
       "      <td>13</td>\n",
       "      <td>4</td>\n",
       "      <td>communicators</td>\n",
       "    </tr>\n",
       "    <tr>\n",
       "      <th>13</th>\n",
       "      <td>26.0</td>\n",
       "      <td>19.0</td>\n",
       "      <td>14</td>\n",
       "      <td>4</td>\n",
       "      <td>communicators</td>\n",
       "    </tr>\n",
       "    <tr>\n",
       "      <th>14</th>\n",
       "      <td>28.0</td>\n",
       "      <td>21.0</td>\n",
       "      <td>15</td>\n",
       "      <td>4</td>\n",
       "      <td>communicators</td>\n",
       "    </tr>\n",
       "    <tr>\n",
       "      <th>15</th>\n",
       "      <td>28.0</td>\n",
       "      <td>18.0</td>\n",
       "      <td>16</td>\n",
       "      <td>4</td>\n",
       "      <td>communicators</td>\n",
       "    </tr>\n",
       "    <tr>\n",
       "      <th>16</th>\n",
       "      <td>27.0</td>\n",
       "      <td>16.0</td>\n",
       "      <td>17</td>\n",
       "      <td>4</td>\n",
       "      <td>communicators</td>\n",
       "    </tr>\n",
       "    <tr>\n",
       "      <th>17</th>\n",
       "      <td>29.0</td>\n",
       "      <td>15.0</td>\n",
       "      <td>18</td>\n",
       "      <td>4</td>\n",
       "      <td>communicators</td>\n",
       "    </tr>\n",
       "    <tr>\n",
       "      <th>18</th>\n",
       "      <td>28.0</td>\n",
       "      <td>17.0</td>\n",
       "      <td>19</td>\n",
       "      <td>4</td>\n",
       "      <td>communicators</td>\n",
       "    </tr>\n",
       "    <tr>\n",
       "      <th>19</th>\n",
       "      <td>25.0</td>\n",
       "      <td>17.0</td>\n",
       "      <td>20</td>\n",
       "      <td>4</td>\n",
       "      <td>communicators</td>\n",
       "    </tr>\n",
       "    <tr>\n",
       "      <th>20</th>\n",
       "      <td>25.0</td>\n",
       "      <td>15.0</td>\n",
       "      <td>21</td>\n",
       "      <td>4</td>\n",
       "      <td>communicators</td>\n",
       "    </tr>\n",
       "    <tr>\n",
       "      <th>21</th>\n",
       "      <td>23.0</td>\n",
       "      <td>15.0</td>\n",
       "      <td>22</td>\n",
       "      <td>4</td>\n",
       "      <td>communicators</td>\n",
       "    </tr>\n",
       "    <tr>\n",
       "      <th>22</th>\n",
       "      <td>24.0</td>\n",
       "      <td>13.0</td>\n",
       "      <td>23</td>\n",
       "      <td>4</td>\n",
       "      <td>communicators</td>\n",
       "    </tr>\n",
       "    <tr>\n",
       "      <th>23</th>\n",
       "      <td>24.0</td>\n",
       "      <td>13.0</td>\n",
       "      <td>24</td>\n",
       "      <td>4</td>\n",
       "      <td>communicators</td>\n",
       "    </tr>\n",
       "    <tr>\n",
       "      <th>24</th>\n",
       "      <td>22.0</td>\n",
       "      <td>13.0</td>\n",
       "      <td>25</td>\n",
       "      <td>4</td>\n",
       "      <td>communicators</td>\n",
       "    </tr>\n",
       "    <tr>\n",
       "      <th>25</th>\n",
       "      <td>21.0</td>\n",
       "      <td>11.0</td>\n",
       "      <td>26</td>\n",
       "      <td>4</td>\n",
       "      <td>communicators</td>\n",
       "    </tr>\n",
       "    <tr>\n",
       "      <th>26</th>\n",
       "      <td>22.0</td>\n",
       "      <td>9.0</td>\n",
       "      <td>27</td>\n",
       "      <td>4</td>\n",
       "      <td>communicators</td>\n",
       "    </tr>\n",
       "    <tr>\n",
       "      <th>27</th>\n",
       "      <td>19.0</td>\n",
       "      <td>9.0</td>\n",
       "      <td>28</td>\n",
       "      <td>4</td>\n",
       "      <td>communicators</td>\n",
       "    </tr>\n",
       "    <tr>\n",
       "      <th>28</th>\n",
       "      <td>18.0</td>\n",
       "      <td>9.0</td>\n",
       "      <td>29</td>\n",
       "      <td>4</td>\n",
       "      <td>communicators</td>\n",
       "    </tr>\n",
       "    <tr>\n",
       "      <th>29</th>\n",
       "      <td>20.0</td>\n",
       "      <td>11.0</td>\n",
       "      <td>30</td>\n",
       "      <td>4</td>\n",
       "      <td>communicators</td>\n",
       "    </tr>\n",
       "    <tr>\n",
       "      <th>30</th>\n",
       "      <td>21.0</td>\n",
       "      <td>12.0</td>\n",
       "      <td>31</td>\n",
       "      <td>4</td>\n",
       "      <td>communicators</td>\n",
       "    </tr>\n",
       "    <tr>\n",
       "      <th>31</th>\n",
       "      <td>22.0</td>\n",
       "      <td>13.0</td>\n",
       "      <td>32</td>\n",
       "      <td>4</td>\n",
       "      <td>communicators</td>\n",
       "    </tr>\n",
       "    <tr>\n",
       "      <th>32</th>\n",
       "      <td>20.0</td>\n",
       "      <td>15.0</td>\n",
       "      <td>33</td>\n",
       "      <td>4</td>\n",
       "      <td>communicators</td>\n",
       "    </tr>\n",
       "    <tr>\n",
       "      <th>33</th>\n",
       "      <td>21.0</td>\n",
       "      <td>16.0</td>\n",
       "      <td>34</td>\n",
       "      <td>4</td>\n",
       "      <td>communicators</td>\n",
       "    </tr>\n",
       "    <tr>\n",
       "      <th>34</th>\n",
       "      <td>19.0</td>\n",
       "      <td>15.0</td>\n",
       "      <td>35</td>\n",
       "      <td>4</td>\n",
       "      <td>communicators</td>\n",
       "    </tr>\n",
       "    <tr>\n",
       "      <th>35</th>\n",
       "      <td>19.0</td>\n",
       "      <td>17.0</td>\n",
       "      <td>36</td>\n",
       "      <td>4</td>\n",
       "      <td>communicators</td>\n",
       "    </tr>\n",
       "    <tr>\n",
       "      <th>36</th>\n",
       "      <td>17.0</td>\n",
       "      <td>18.0</td>\n",
       "      <td>37</td>\n",
       "      <td>4</td>\n",
       "      <td>communicators</td>\n",
       "    </tr>\n",
       "    <tr>\n",
       "      <th>37</th>\n",
       "      <td>15.0</td>\n",
       "      <td>19.0</td>\n",
       "      <td>38</td>\n",
       "      <td>4</td>\n",
       "      <td>communicators</td>\n",
       "    </tr>\n",
       "    <tr>\n",
       "      <th>38</th>\n",
       "      <td>13.0</td>\n",
       "      <td>21.0</td>\n",
       "      <td>39</td>\n",
       "      <td>4</td>\n",
       "      <td>communicators</td>\n",
       "    </tr>\n",
       "    <tr>\n",
       "      <th>39</th>\n",
       "      <td>12.0</td>\n",
       "      <td>23.0</td>\n",
       "      <td>40</td>\n",
       "      <td>4</td>\n",
       "      <td>communicators</td>\n",
       "    </tr>\n",
       "    <tr>\n",
       "      <th>40</th>\n",
       "      <td>11.0</td>\n",
       "      <td>25.0</td>\n",
       "      <td>41</td>\n",
       "      <td>4</td>\n",
       "      <td>communicators</td>\n",
       "    </tr>\n",
       "    <tr>\n",
       "      <th>41</th>\n",
       "      <td>11.0</td>\n",
       "      <td>25.0</td>\n",
       "      <td>42</td>\n",
       "      <td>4</td>\n",
       "      <td>communicators</td>\n",
       "    </tr>\n",
       "    <tr>\n",
       "      <th>42</th>\n",
       "      <td>11.0</td>\n",
       "      <td>25.0</td>\n",
       "      <td>43</td>\n",
       "      <td>4</td>\n",
       "      <td>communicators</td>\n",
       "    </tr>\n",
       "    <tr>\n",
       "      <th>43</th>\n",
       "      <td>11.0</td>\n",
       "      <td>25.0</td>\n",
       "      <td>44</td>\n",
       "      <td>4</td>\n",
       "      <td>communicators</td>\n",
       "    </tr>\n",
       "    <tr>\n",
       "      <th>44</th>\n",
       "      <td>11.0</td>\n",
       "      <td>25.0</td>\n",
       "      <td>45</td>\n",
       "      <td>4</td>\n",
       "      <td>communicators</td>\n",
       "    </tr>\n",
       "    <tr>\n",
       "      <th>45</th>\n",
       "      <td>11.0</td>\n",
       "      <td>25.0</td>\n",
       "      <td>46</td>\n",
       "      <td>4</td>\n",
       "      <td>communicators</td>\n",
       "    </tr>\n",
       "    <tr>\n",
       "      <th>46</th>\n",
       "      <td>11.0</td>\n",
       "      <td>25.0</td>\n",
       "      <td>47</td>\n",
       "      <td>4</td>\n",
       "      <td>communicators</td>\n",
       "    </tr>\n",
       "    <tr>\n",
       "      <th>47</th>\n",
       "      <td>11.0</td>\n",
       "      <td>25.0</td>\n",
       "      <td>48</td>\n",
       "      <td>4</td>\n",
       "      <td>communicators</td>\n",
       "    </tr>\n",
       "    <tr>\n",
       "      <th>48</th>\n",
       "      <td>11.0</td>\n",
       "      <td>25.0</td>\n",
       "      <td>49</td>\n",
       "      <td>4</td>\n",
       "      <td>communicators</td>\n",
       "    </tr>\n",
       "    <tr>\n",
       "      <th>49</th>\n",
       "      <td>0.0</td>\n",
       "      <td>0.0</td>\n",
       "      <td>50</td>\n",
       "      <td>4</td>\n",
       "      <td>communicators</td>\n",
       "    </tr>\n",
       "  </tbody>\n",
       "</table>\n",
       "</div>"
      ],
      "text/plain": [
       "       x     y  time  bird           type\n",
       "0   29.0  16.0     1     4  communicators\n",
       "1   27.0  15.0     2     4  communicators\n",
       "2   26.0  17.0     3     4  communicators\n",
       "3   24.0  16.0     4     4  communicators\n",
       "4   22.0  15.0     5     4  communicators\n",
       "5   22.0  18.0     6     4  communicators\n",
       "6   20.0  16.0     7     4  communicators\n",
       "7   22.0  15.0     8     4  communicators\n",
       "8   22.0  17.0     9     4  communicators\n",
       "9   25.0  17.0    10     4  communicators\n",
       "10  25.0  18.0    11     4  communicators\n",
       "11  24.0  18.0    12     4  communicators\n",
       "12  24.0  19.0    13     4  communicators\n",
       "13  26.0  19.0    14     4  communicators\n",
       "14  28.0  21.0    15     4  communicators\n",
       "15  28.0  18.0    16     4  communicators\n",
       "16  27.0  16.0    17     4  communicators\n",
       "17  29.0  15.0    18     4  communicators\n",
       "18  28.0  17.0    19     4  communicators\n",
       "19  25.0  17.0    20     4  communicators\n",
       "20  25.0  15.0    21     4  communicators\n",
       "21  23.0  15.0    22     4  communicators\n",
       "22  24.0  13.0    23     4  communicators\n",
       "23  24.0  13.0    24     4  communicators\n",
       "24  22.0  13.0    25     4  communicators\n",
       "25  21.0  11.0    26     4  communicators\n",
       "26  22.0   9.0    27     4  communicators\n",
       "27  19.0   9.0    28     4  communicators\n",
       "28  18.0   9.0    29     4  communicators\n",
       "29  20.0  11.0    30     4  communicators\n",
       "30  21.0  12.0    31     4  communicators\n",
       "31  22.0  13.0    32     4  communicators\n",
       "32  20.0  15.0    33     4  communicators\n",
       "33  21.0  16.0    34     4  communicators\n",
       "34  19.0  15.0    35     4  communicators\n",
       "35  19.0  17.0    36     4  communicators\n",
       "36  17.0  18.0    37     4  communicators\n",
       "37  15.0  19.0    38     4  communicators\n",
       "38  13.0  21.0    39     4  communicators\n",
       "39  12.0  23.0    40     4  communicators\n",
       "40  11.0  25.0    41     4  communicators\n",
       "41  11.0  25.0    42     4  communicators\n",
       "42  11.0  25.0    43     4  communicators\n",
       "43  11.0  25.0    44     4  communicators\n",
       "44  11.0  25.0    45     4  communicators\n",
       "45  11.0  25.0    46     4  communicators\n",
       "46  11.0  25.0    47     4  communicators\n",
       "47  11.0  25.0    48     4  communicators\n",
       "48  11.0  25.0    49     4  communicators\n",
       "49   0.0   0.0    50     4  communicators"
      ]
     },
     "metadata": {},
     "output_type": "display_data"
    },
    {
     "name": "stdout",
     "output_type": "stream",
     "text": [
      "[18. -1. -1. -1.  0.  0.  0.  0.  0.]\n"
     ]
    },
    {
     "data": {
      "text/html": [
       "<div>\n",
       "<style scoped>\n",
       "    .dataframe tbody tr th:only-of-type {\n",
       "        vertical-align: middle;\n",
       "    }\n",
       "\n",
       "    .dataframe tbody tr th {\n",
       "        vertical-align: top;\n",
       "    }\n",
       "\n",
       "    .dataframe thead th {\n",
       "        text-align: right;\n",
       "    }\n",
       "</style>\n",
       "<table border=\"1\" class=\"dataframe\">\n",
       "  <thead>\n",
       "    <tr style=\"text-align: right;\">\n",
       "      <th></th>\n",
       "      <th>x</th>\n",
       "      <th>y</th>\n",
       "      <th>time</th>\n",
       "      <th>bird</th>\n",
       "      <th>type</th>\n",
       "    </tr>\n",
       "  </thead>\n",
       "  <tbody>\n",
       "    <tr>\n",
       "      <th>0</th>\n",
       "      <td>17.0</td>\n",
       "      <td>9.0</td>\n",
       "      <td>1</td>\n",
       "      <td>5</td>\n",
       "      <td>communicators</td>\n",
       "    </tr>\n",
       "    <tr>\n",
       "      <th>1</th>\n",
       "      <td>16.0</td>\n",
       "      <td>10.0</td>\n",
       "      <td>2</td>\n",
       "      <td>5</td>\n",
       "      <td>communicators</td>\n",
       "    </tr>\n",
       "    <tr>\n",
       "      <th>2</th>\n",
       "      <td>18.0</td>\n",
       "      <td>9.0</td>\n",
       "      <td>3</td>\n",
       "      <td>5</td>\n",
       "      <td>communicators</td>\n",
       "    </tr>\n",
       "    <tr>\n",
       "      <th>3</th>\n",
       "      <td>17.0</td>\n",
       "      <td>9.0</td>\n",
       "      <td>4</td>\n",
       "      <td>5</td>\n",
       "      <td>communicators</td>\n",
       "    </tr>\n",
       "    <tr>\n",
       "      <th>4</th>\n",
       "      <td>18.0</td>\n",
       "      <td>11.0</td>\n",
       "      <td>5</td>\n",
       "      <td>5</td>\n",
       "      <td>communicators</td>\n",
       "    </tr>\n",
       "    <tr>\n",
       "      <th>5</th>\n",
       "      <td>18.0</td>\n",
       "      <td>10.0</td>\n",
       "      <td>6</td>\n",
       "      <td>5</td>\n",
       "      <td>communicators</td>\n",
       "    </tr>\n",
       "    <tr>\n",
       "      <th>6</th>\n",
       "      <td>21.0</td>\n",
       "      <td>10.0</td>\n",
       "      <td>7</td>\n",
       "      <td>5</td>\n",
       "      <td>communicators</td>\n",
       "    </tr>\n",
       "    <tr>\n",
       "      <th>7</th>\n",
       "      <td>20.0</td>\n",
       "      <td>9.0</td>\n",
       "      <td>8</td>\n",
       "      <td>5</td>\n",
       "      <td>communicators</td>\n",
       "    </tr>\n",
       "    <tr>\n",
       "      <th>8</th>\n",
       "      <td>22.0</td>\n",
       "      <td>10.0</td>\n",
       "      <td>9</td>\n",
       "      <td>5</td>\n",
       "      <td>communicators</td>\n",
       "    </tr>\n",
       "    <tr>\n",
       "      <th>9</th>\n",
       "      <td>21.0</td>\n",
       "      <td>11.0</td>\n",
       "      <td>10</td>\n",
       "      <td>5</td>\n",
       "      <td>communicators</td>\n",
       "    </tr>\n",
       "    <tr>\n",
       "      <th>10</th>\n",
       "      <td>20.0</td>\n",
       "      <td>10.0</td>\n",
       "      <td>11</td>\n",
       "      <td>5</td>\n",
       "      <td>communicators</td>\n",
       "    </tr>\n",
       "    <tr>\n",
       "      <th>11</th>\n",
       "      <td>22.0</td>\n",
       "      <td>12.0</td>\n",
       "      <td>12</td>\n",
       "      <td>5</td>\n",
       "      <td>communicators</td>\n",
       "    </tr>\n",
       "    <tr>\n",
       "      <th>12</th>\n",
       "      <td>20.0</td>\n",
       "      <td>13.0</td>\n",
       "      <td>13</td>\n",
       "      <td>5</td>\n",
       "      <td>communicators</td>\n",
       "    </tr>\n",
       "    <tr>\n",
       "      <th>13</th>\n",
       "      <td>19.0</td>\n",
       "      <td>12.0</td>\n",
       "      <td>14</td>\n",
       "      <td>5</td>\n",
       "      <td>communicators</td>\n",
       "    </tr>\n",
       "    <tr>\n",
       "      <th>14</th>\n",
       "      <td>17.0</td>\n",
       "      <td>12.0</td>\n",
       "      <td>15</td>\n",
       "      <td>5</td>\n",
       "      <td>communicators</td>\n",
       "    </tr>\n",
       "    <tr>\n",
       "      <th>15</th>\n",
       "      <td>17.0</td>\n",
       "      <td>13.0</td>\n",
       "      <td>16</td>\n",
       "      <td>5</td>\n",
       "      <td>communicators</td>\n",
       "    </tr>\n",
       "    <tr>\n",
       "      <th>16</th>\n",
       "      <td>16.0</td>\n",
       "      <td>13.0</td>\n",
       "      <td>17</td>\n",
       "      <td>5</td>\n",
       "      <td>communicators</td>\n",
       "    </tr>\n",
       "    <tr>\n",
       "      <th>17</th>\n",
       "      <td>17.0</td>\n",
       "      <td>13.0</td>\n",
       "      <td>18</td>\n",
       "      <td>5</td>\n",
       "      <td>communicators</td>\n",
       "    </tr>\n",
       "    <tr>\n",
       "      <th>18</th>\n",
       "      <td>19.0</td>\n",
       "      <td>14.0</td>\n",
       "      <td>19</td>\n",
       "      <td>5</td>\n",
       "      <td>communicators</td>\n",
       "    </tr>\n",
       "    <tr>\n",
       "      <th>19</th>\n",
       "      <td>16.0</td>\n",
       "      <td>14.0</td>\n",
       "      <td>20</td>\n",
       "      <td>5</td>\n",
       "      <td>communicators</td>\n",
       "    </tr>\n",
       "    <tr>\n",
       "      <th>20</th>\n",
       "      <td>16.0</td>\n",
       "      <td>16.0</td>\n",
       "      <td>21</td>\n",
       "      <td>5</td>\n",
       "      <td>communicators</td>\n",
       "    </tr>\n",
       "    <tr>\n",
       "      <th>21</th>\n",
       "      <td>16.0</td>\n",
       "      <td>14.0</td>\n",
       "      <td>22</td>\n",
       "      <td>5</td>\n",
       "      <td>communicators</td>\n",
       "    </tr>\n",
       "    <tr>\n",
       "      <th>22</th>\n",
       "      <td>14.0</td>\n",
       "      <td>14.0</td>\n",
       "      <td>23</td>\n",
       "      <td>5</td>\n",
       "      <td>communicators</td>\n",
       "    </tr>\n",
       "    <tr>\n",
       "      <th>23</th>\n",
       "      <td>16.0</td>\n",
       "      <td>16.0</td>\n",
       "      <td>24</td>\n",
       "      <td>5</td>\n",
       "      <td>communicators</td>\n",
       "    </tr>\n",
       "    <tr>\n",
       "      <th>24</th>\n",
       "      <td>15.0</td>\n",
       "      <td>16.0</td>\n",
       "      <td>25</td>\n",
       "      <td>5</td>\n",
       "      <td>communicators</td>\n",
       "    </tr>\n",
       "    <tr>\n",
       "      <th>25</th>\n",
       "      <td>13.0</td>\n",
       "      <td>18.0</td>\n",
       "      <td>26</td>\n",
       "      <td>5</td>\n",
       "      <td>communicators</td>\n",
       "    </tr>\n",
       "    <tr>\n",
       "      <th>26</th>\n",
       "      <td>13.0</td>\n",
       "      <td>21.0</td>\n",
       "      <td>27</td>\n",
       "      <td>5</td>\n",
       "      <td>communicators</td>\n",
       "    </tr>\n",
       "    <tr>\n",
       "      <th>27</th>\n",
       "      <td>11.0</td>\n",
       "      <td>23.0</td>\n",
       "      <td>28</td>\n",
       "      <td>5</td>\n",
       "      <td>communicators</td>\n",
       "    </tr>\n",
       "    <tr>\n",
       "      <th>28</th>\n",
       "      <td>11.0</td>\n",
       "      <td>25.0</td>\n",
       "      <td>29</td>\n",
       "      <td>5</td>\n",
       "      <td>communicators</td>\n",
       "    </tr>\n",
       "    <tr>\n",
       "      <th>29</th>\n",
       "      <td>11.0</td>\n",
       "      <td>25.0</td>\n",
       "      <td>30</td>\n",
       "      <td>5</td>\n",
       "      <td>communicators</td>\n",
       "    </tr>\n",
       "    <tr>\n",
       "      <th>30</th>\n",
       "      <td>11.0</td>\n",
       "      <td>25.0</td>\n",
       "      <td>31</td>\n",
       "      <td>5</td>\n",
       "      <td>communicators</td>\n",
       "    </tr>\n",
       "    <tr>\n",
       "      <th>31</th>\n",
       "      <td>11.0</td>\n",
       "      <td>25.0</td>\n",
       "      <td>32</td>\n",
       "      <td>5</td>\n",
       "      <td>communicators</td>\n",
       "    </tr>\n",
       "    <tr>\n",
       "      <th>32</th>\n",
       "      <td>11.0</td>\n",
       "      <td>25.0</td>\n",
       "      <td>33</td>\n",
       "      <td>5</td>\n",
       "      <td>communicators</td>\n",
       "    </tr>\n",
       "    <tr>\n",
       "      <th>33</th>\n",
       "      <td>11.0</td>\n",
       "      <td>25.0</td>\n",
       "      <td>34</td>\n",
       "      <td>5</td>\n",
       "      <td>communicators</td>\n",
       "    </tr>\n",
       "    <tr>\n",
       "      <th>34</th>\n",
       "      <td>11.0</td>\n",
       "      <td>25.0</td>\n",
       "      <td>35</td>\n",
       "      <td>5</td>\n",
       "      <td>communicators</td>\n",
       "    </tr>\n",
       "    <tr>\n",
       "      <th>35</th>\n",
       "      <td>11.0</td>\n",
       "      <td>25.0</td>\n",
       "      <td>36</td>\n",
       "      <td>5</td>\n",
       "      <td>communicators</td>\n",
       "    </tr>\n",
       "    <tr>\n",
       "      <th>36</th>\n",
       "      <td>11.0</td>\n",
       "      <td>25.0</td>\n",
       "      <td>37</td>\n",
       "      <td>5</td>\n",
       "      <td>communicators</td>\n",
       "    </tr>\n",
       "    <tr>\n",
       "      <th>37</th>\n",
       "      <td>11.0</td>\n",
       "      <td>25.0</td>\n",
       "      <td>38</td>\n",
       "      <td>5</td>\n",
       "      <td>communicators</td>\n",
       "    </tr>\n",
       "    <tr>\n",
       "      <th>38</th>\n",
       "      <td>11.0</td>\n",
       "      <td>25.0</td>\n",
       "      <td>39</td>\n",
       "      <td>5</td>\n",
       "      <td>communicators</td>\n",
       "    </tr>\n",
       "    <tr>\n",
       "      <th>39</th>\n",
       "      <td>11.0</td>\n",
       "      <td>25.0</td>\n",
       "      <td>40</td>\n",
       "      <td>5</td>\n",
       "      <td>communicators</td>\n",
       "    </tr>\n",
       "    <tr>\n",
       "      <th>40</th>\n",
       "      <td>11.0</td>\n",
       "      <td>25.0</td>\n",
       "      <td>41</td>\n",
       "      <td>5</td>\n",
       "      <td>communicators</td>\n",
       "    </tr>\n",
       "    <tr>\n",
       "      <th>41</th>\n",
       "      <td>11.0</td>\n",
       "      <td>25.0</td>\n",
       "      <td>42</td>\n",
       "      <td>5</td>\n",
       "      <td>communicators</td>\n",
       "    </tr>\n",
       "    <tr>\n",
       "      <th>42</th>\n",
       "      <td>11.0</td>\n",
       "      <td>25.0</td>\n",
       "      <td>43</td>\n",
       "      <td>5</td>\n",
       "      <td>communicators</td>\n",
       "    </tr>\n",
       "    <tr>\n",
       "      <th>43</th>\n",
       "      <td>11.0</td>\n",
       "      <td>25.0</td>\n",
       "      <td>44</td>\n",
       "      <td>5</td>\n",
       "      <td>communicators</td>\n",
       "    </tr>\n",
       "    <tr>\n",
       "      <th>44</th>\n",
       "      <td>11.0</td>\n",
       "      <td>25.0</td>\n",
       "      <td>45</td>\n",
       "      <td>5</td>\n",
       "      <td>communicators</td>\n",
       "    </tr>\n",
       "    <tr>\n",
       "      <th>45</th>\n",
       "      <td>11.0</td>\n",
       "      <td>25.0</td>\n",
       "      <td>46</td>\n",
       "      <td>5</td>\n",
       "      <td>communicators</td>\n",
       "    </tr>\n",
       "    <tr>\n",
       "      <th>46</th>\n",
       "      <td>11.0</td>\n",
       "      <td>25.0</td>\n",
       "      <td>47</td>\n",
       "      <td>5</td>\n",
       "      <td>communicators</td>\n",
       "    </tr>\n",
       "    <tr>\n",
       "      <th>47</th>\n",
       "      <td>11.0</td>\n",
       "      <td>25.0</td>\n",
       "      <td>48</td>\n",
       "      <td>5</td>\n",
       "      <td>communicators</td>\n",
       "    </tr>\n",
       "    <tr>\n",
       "      <th>48</th>\n",
       "      <td>11.0</td>\n",
       "      <td>25.0</td>\n",
       "      <td>49</td>\n",
       "      <td>5</td>\n",
       "      <td>communicators</td>\n",
       "    </tr>\n",
       "    <tr>\n",
       "      <th>49</th>\n",
       "      <td>0.0</td>\n",
       "      <td>0.0</td>\n",
       "      <td>50</td>\n",
       "      <td>5</td>\n",
       "      <td>communicators</td>\n",
       "    </tr>\n",
       "  </tbody>\n",
       "</table>\n",
       "</div>"
      ],
      "text/plain": [
       "       x     y  time  bird           type\n",
       "0   17.0   9.0     1     5  communicators\n",
       "1   16.0  10.0     2     5  communicators\n",
       "2   18.0   9.0     3     5  communicators\n",
       "3   17.0   9.0     4     5  communicators\n",
       "4   18.0  11.0     5     5  communicators\n",
       "5   18.0  10.0     6     5  communicators\n",
       "6   21.0  10.0     7     5  communicators\n",
       "7   20.0   9.0     8     5  communicators\n",
       "8   22.0  10.0     9     5  communicators\n",
       "9   21.0  11.0    10     5  communicators\n",
       "10  20.0  10.0    11     5  communicators\n",
       "11  22.0  12.0    12     5  communicators\n",
       "12  20.0  13.0    13     5  communicators\n",
       "13  19.0  12.0    14     5  communicators\n",
       "14  17.0  12.0    15     5  communicators\n",
       "15  17.0  13.0    16     5  communicators\n",
       "16  16.0  13.0    17     5  communicators\n",
       "17  17.0  13.0    18     5  communicators\n",
       "18  19.0  14.0    19     5  communicators\n",
       "19  16.0  14.0    20     5  communicators\n",
       "20  16.0  16.0    21     5  communicators\n",
       "21  16.0  14.0    22     5  communicators\n",
       "22  14.0  14.0    23     5  communicators\n",
       "23  16.0  16.0    24     5  communicators\n",
       "24  15.0  16.0    25     5  communicators\n",
       "25  13.0  18.0    26     5  communicators\n",
       "26  13.0  21.0    27     5  communicators\n",
       "27  11.0  23.0    28     5  communicators\n",
       "28  11.0  25.0    29     5  communicators\n",
       "29  11.0  25.0    30     5  communicators\n",
       "30  11.0  25.0    31     5  communicators\n",
       "31  11.0  25.0    32     5  communicators\n",
       "32  11.0  25.0    33     5  communicators\n",
       "33  11.0  25.0    34     5  communicators\n",
       "34  11.0  25.0    35     5  communicators\n",
       "35  11.0  25.0    36     5  communicators\n",
       "36  11.0  25.0    37     5  communicators\n",
       "37  11.0  25.0    38     5  communicators\n",
       "38  11.0  25.0    39     5  communicators\n",
       "39  11.0  25.0    40     5  communicators\n",
       "40  11.0  25.0    41     5  communicators\n",
       "41  11.0  25.0    42     5  communicators\n",
       "42  11.0  25.0    43     5  communicators\n",
       "43  11.0  25.0    44     5  communicators\n",
       "44  11.0  25.0    45     5  communicators\n",
       "45  11.0  25.0    46     5  communicators\n",
       "46  11.0  25.0    47     5  communicators\n",
       "47  11.0  25.0    48     5  communicators\n",
       "48  11.0  25.0    49     5  communicators\n",
       "49   0.0   0.0    50     5  communicators"
      ]
     },
     "metadata": {},
     "output_type": "display_data"
    },
    {
     "name": "stdout",
     "output_type": "stream",
     "text": [
      "[18. -1. -1. -1. -1.  0.  0.  0.  0.]\n"
     ]
    },
    {
     "data": {
      "text/html": [
       "<div>\n",
       "<style scoped>\n",
       "    .dataframe tbody tr th:only-of-type {\n",
       "        vertical-align: middle;\n",
       "    }\n",
       "\n",
       "    .dataframe tbody tr th {\n",
       "        vertical-align: top;\n",
       "    }\n",
       "\n",
       "    .dataframe thead th {\n",
       "        text-align: right;\n",
       "    }\n",
       "</style>\n",
       "<table border=\"1\" class=\"dataframe\">\n",
       "  <thead>\n",
       "    <tr style=\"text-align: right;\">\n",
       "      <th></th>\n",
       "      <th>x</th>\n",
       "      <th>y</th>\n",
       "      <th>time</th>\n",
       "      <th>bird</th>\n",
       "      <th>type</th>\n",
       "    </tr>\n",
       "  </thead>\n",
       "  <tbody>\n",
       "    <tr>\n",
       "      <th>0</th>\n",
       "      <td>6.0</td>\n",
       "      <td>2.0</td>\n",
       "      <td>1</td>\n",
       "      <td>6</td>\n",
       "      <td>communicators</td>\n",
       "    </tr>\n",
       "    <tr>\n",
       "      <th>1</th>\n",
       "      <td>8.0</td>\n",
       "      <td>3.0</td>\n",
       "      <td>2</td>\n",
       "      <td>6</td>\n",
       "      <td>communicators</td>\n",
       "    </tr>\n",
       "    <tr>\n",
       "      <th>2</th>\n",
       "      <td>11.0</td>\n",
       "      <td>3.0</td>\n",
       "      <td>3</td>\n",
       "      <td>6</td>\n",
       "      <td>communicators</td>\n",
       "    </tr>\n",
       "    <tr>\n",
       "      <th>3</th>\n",
       "      <td>9.0</td>\n",
       "      <td>2.0</td>\n",
       "      <td>4</td>\n",
       "      <td>6</td>\n",
       "      <td>communicators</td>\n",
       "    </tr>\n",
       "    <tr>\n",
       "      <th>4</th>\n",
       "      <td>11.0</td>\n",
       "      <td>0.0</td>\n",
       "      <td>5</td>\n",
       "      <td>6</td>\n",
       "      <td>communicators</td>\n",
       "    </tr>\n",
       "    <tr>\n",
       "      <th>5</th>\n",
       "      <td>14.0</td>\n",
       "      <td>0.0</td>\n",
       "      <td>6</td>\n",
       "      <td>6</td>\n",
       "      <td>communicators</td>\n",
       "    </tr>\n",
       "    <tr>\n",
       "      <th>6</th>\n",
       "      <td>12.0</td>\n",
       "      <td>2.0</td>\n",
       "      <td>7</td>\n",
       "      <td>6</td>\n",
       "      <td>communicators</td>\n",
       "    </tr>\n",
       "    <tr>\n",
       "      <th>7</th>\n",
       "      <td>14.0</td>\n",
       "      <td>0.0</td>\n",
       "      <td>8</td>\n",
       "      <td>6</td>\n",
       "      <td>communicators</td>\n",
       "    </tr>\n",
       "    <tr>\n",
       "      <th>8</th>\n",
       "      <td>14.0</td>\n",
       "      <td>0.0</td>\n",
       "      <td>9</td>\n",
       "      <td>6</td>\n",
       "      <td>communicators</td>\n",
       "    </tr>\n",
       "    <tr>\n",
       "      <th>9</th>\n",
       "      <td>12.0</td>\n",
       "      <td>2.0</td>\n",
       "      <td>10</td>\n",
       "      <td>6</td>\n",
       "      <td>communicators</td>\n",
       "    </tr>\n",
       "    <tr>\n",
       "      <th>10</th>\n",
       "      <td>10.0</td>\n",
       "      <td>0.0</td>\n",
       "      <td>11</td>\n",
       "      <td>6</td>\n",
       "      <td>communicators</td>\n",
       "    </tr>\n",
       "    <tr>\n",
       "      <th>11</th>\n",
       "      <td>9.0</td>\n",
       "      <td>0.0</td>\n",
       "      <td>12</td>\n",
       "      <td>6</td>\n",
       "      <td>communicators</td>\n",
       "    </tr>\n",
       "    <tr>\n",
       "      <th>12</th>\n",
       "      <td>9.0</td>\n",
       "      <td>2.0</td>\n",
       "      <td>13</td>\n",
       "      <td>6</td>\n",
       "      <td>communicators</td>\n",
       "    </tr>\n",
       "    <tr>\n",
       "      <th>13</th>\n",
       "      <td>7.0</td>\n",
       "      <td>4.0</td>\n",
       "      <td>14</td>\n",
       "      <td>6</td>\n",
       "      <td>communicators</td>\n",
       "    </tr>\n",
       "    <tr>\n",
       "      <th>14</th>\n",
       "      <td>6.0</td>\n",
       "      <td>6.0</td>\n",
       "      <td>15</td>\n",
       "      <td>6</td>\n",
       "      <td>communicators</td>\n",
       "    </tr>\n",
       "    <tr>\n",
       "      <th>15</th>\n",
       "      <td>5.0</td>\n",
       "      <td>5.0</td>\n",
       "      <td>16</td>\n",
       "      <td>6</td>\n",
       "      <td>communicators</td>\n",
       "    </tr>\n",
       "    <tr>\n",
       "      <th>16</th>\n",
       "      <td>6.0</td>\n",
       "      <td>3.0</td>\n",
       "      <td>17</td>\n",
       "      <td>6</td>\n",
       "      <td>communicators</td>\n",
       "    </tr>\n",
       "    <tr>\n",
       "      <th>17</th>\n",
       "      <td>8.0</td>\n",
       "      <td>2.0</td>\n",
       "      <td>18</td>\n",
       "      <td>6</td>\n",
       "      <td>communicators</td>\n",
       "    </tr>\n",
       "    <tr>\n",
       "      <th>18</th>\n",
       "      <td>6.0</td>\n",
       "      <td>4.0</td>\n",
       "      <td>19</td>\n",
       "      <td>6</td>\n",
       "      <td>communicators</td>\n",
       "    </tr>\n",
       "    <tr>\n",
       "      <th>19</th>\n",
       "      <td>5.0</td>\n",
       "      <td>3.0</td>\n",
       "      <td>20</td>\n",
       "      <td>6</td>\n",
       "      <td>communicators</td>\n",
       "    </tr>\n",
       "    <tr>\n",
       "      <th>20</th>\n",
       "      <td>3.0</td>\n",
       "      <td>2.0</td>\n",
       "      <td>21</td>\n",
       "      <td>6</td>\n",
       "      <td>communicators</td>\n",
       "    </tr>\n",
       "    <tr>\n",
       "      <th>21</th>\n",
       "      <td>3.0</td>\n",
       "      <td>2.0</td>\n",
       "      <td>22</td>\n",
       "      <td>6</td>\n",
       "      <td>communicators</td>\n",
       "    </tr>\n",
       "    <tr>\n",
       "      <th>22</th>\n",
       "      <td>1.0</td>\n",
       "      <td>3.0</td>\n",
       "      <td>23</td>\n",
       "      <td>6</td>\n",
       "      <td>communicators</td>\n",
       "    </tr>\n",
       "    <tr>\n",
       "      <th>23</th>\n",
       "      <td>2.0</td>\n",
       "      <td>4.0</td>\n",
       "      <td>24</td>\n",
       "      <td>6</td>\n",
       "      <td>communicators</td>\n",
       "    </tr>\n",
       "    <tr>\n",
       "      <th>24</th>\n",
       "      <td>2.0</td>\n",
       "      <td>4.0</td>\n",
       "      <td>25</td>\n",
       "      <td>6</td>\n",
       "      <td>communicators</td>\n",
       "    </tr>\n",
       "    <tr>\n",
       "      <th>25</th>\n",
       "      <td>2.0</td>\n",
       "      <td>7.0</td>\n",
       "      <td>26</td>\n",
       "      <td>6</td>\n",
       "      <td>communicators</td>\n",
       "    </tr>\n",
       "    <tr>\n",
       "      <th>26</th>\n",
       "      <td>2.0</td>\n",
       "      <td>9.0</td>\n",
       "      <td>27</td>\n",
       "      <td>6</td>\n",
       "      <td>communicators</td>\n",
       "    </tr>\n",
       "    <tr>\n",
       "      <th>27</th>\n",
       "      <td>2.0</td>\n",
       "      <td>12.0</td>\n",
       "      <td>28</td>\n",
       "      <td>6</td>\n",
       "      <td>communicators</td>\n",
       "    </tr>\n",
       "    <tr>\n",
       "      <th>28</th>\n",
       "      <td>3.0</td>\n",
       "      <td>14.0</td>\n",
       "      <td>29</td>\n",
       "      <td>6</td>\n",
       "      <td>communicators</td>\n",
       "    </tr>\n",
       "    <tr>\n",
       "      <th>29</th>\n",
       "      <td>3.0</td>\n",
       "      <td>16.0</td>\n",
       "      <td>30</td>\n",
       "      <td>6</td>\n",
       "      <td>communicators</td>\n",
       "    </tr>\n",
       "    <tr>\n",
       "      <th>30</th>\n",
       "      <td>5.0</td>\n",
       "      <td>14.0</td>\n",
       "      <td>31</td>\n",
       "      <td>6</td>\n",
       "      <td>communicators</td>\n",
       "    </tr>\n",
       "    <tr>\n",
       "      <th>31</th>\n",
       "      <td>7.0</td>\n",
       "      <td>12.0</td>\n",
       "      <td>32</td>\n",
       "      <td>6</td>\n",
       "      <td>communicators</td>\n",
       "    </tr>\n",
       "    <tr>\n",
       "      <th>32</th>\n",
       "      <td>8.0</td>\n",
       "      <td>11.0</td>\n",
       "      <td>33</td>\n",
       "      <td>6</td>\n",
       "      <td>communicators</td>\n",
       "    </tr>\n",
       "    <tr>\n",
       "      <th>33</th>\n",
       "      <td>10.0</td>\n",
       "      <td>12.0</td>\n",
       "      <td>34</td>\n",
       "      <td>6</td>\n",
       "      <td>communicators</td>\n",
       "    </tr>\n",
       "    <tr>\n",
       "      <th>34</th>\n",
       "      <td>11.0</td>\n",
       "      <td>10.0</td>\n",
       "      <td>35</td>\n",
       "      <td>6</td>\n",
       "      <td>communicators</td>\n",
       "    </tr>\n",
       "    <tr>\n",
       "      <th>35</th>\n",
       "      <td>11.0</td>\n",
       "      <td>12.0</td>\n",
       "      <td>36</td>\n",
       "      <td>6</td>\n",
       "      <td>communicators</td>\n",
       "    </tr>\n",
       "    <tr>\n",
       "      <th>36</th>\n",
       "      <td>11.0</td>\n",
       "      <td>15.0</td>\n",
       "      <td>37</td>\n",
       "      <td>6</td>\n",
       "      <td>communicators</td>\n",
       "    </tr>\n",
       "    <tr>\n",
       "      <th>37</th>\n",
       "      <td>13.0</td>\n",
       "      <td>17.0</td>\n",
       "      <td>38</td>\n",
       "      <td>6</td>\n",
       "      <td>communicators</td>\n",
       "    </tr>\n",
       "    <tr>\n",
       "      <th>38</th>\n",
       "      <td>14.0</td>\n",
       "      <td>19.0</td>\n",
       "      <td>39</td>\n",
       "      <td>6</td>\n",
       "      <td>communicators</td>\n",
       "    </tr>\n",
       "    <tr>\n",
       "      <th>39</th>\n",
       "      <td>12.0</td>\n",
       "      <td>21.0</td>\n",
       "      <td>40</td>\n",
       "      <td>6</td>\n",
       "      <td>communicators</td>\n",
       "    </tr>\n",
       "    <tr>\n",
       "      <th>40</th>\n",
       "      <td>12.0</td>\n",
       "      <td>24.0</td>\n",
       "      <td>41</td>\n",
       "      <td>6</td>\n",
       "      <td>communicators</td>\n",
       "    </tr>\n",
       "    <tr>\n",
       "      <th>41</th>\n",
       "      <td>11.0</td>\n",
       "      <td>25.0</td>\n",
       "      <td>42</td>\n",
       "      <td>6</td>\n",
       "      <td>communicators</td>\n",
       "    </tr>\n",
       "    <tr>\n",
       "      <th>42</th>\n",
       "      <td>11.0</td>\n",
       "      <td>25.0</td>\n",
       "      <td>43</td>\n",
       "      <td>6</td>\n",
       "      <td>communicators</td>\n",
       "    </tr>\n",
       "    <tr>\n",
       "      <th>43</th>\n",
       "      <td>11.0</td>\n",
       "      <td>25.0</td>\n",
       "      <td>44</td>\n",
       "      <td>6</td>\n",
       "      <td>communicators</td>\n",
       "    </tr>\n",
       "    <tr>\n",
       "      <th>44</th>\n",
       "      <td>11.0</td>\n",
       "      <td>25.0</td>\n",
       "      <td>45</td>\n",
       "      <td>6</td>\n",
       "      <td>communicators</td>\n",
       "    </tr>\n",
       "    <tr>\n",
       "      <th>45</th>\n",
       "      <td>11.0</td>\n",
       "      <td>25.0</td>\n",
       "      <td>46</td>\n",
       "      <td>6</td>\n",
       "      <td>communicators</td>\n",
       "    </tr>\n",
       "    <tr>\n",
       "      <th>46</th>\n",
       "      <td>11.0</td>\n",
       "      <td>25.0</td>\n",
       "      <td>47</td>\n",
       "      <td>6</td>\n",
       "      <td>communicators</td>\n",
       "    </tr>\n",
       "    <tr>\n",
       "      <th>47</th>\n",
       "      <td>11.0</td>\n",
       "      <td>25.0</td>\n",
       "      <td>48</td>\n",
       "      <td>6</td>\n",
       "      <td>communicators</td>\n",
       "    </tr>\n",
       "    <tr>\n",
       "      <th>48</th>\n",
       "      <td>11.0</td>\n",
       "      <td>25.0</td>\n",
       "      <td>49</td>\n",
       "      <td>6</td>\n",
       "      <td>communicators</td>\n",
       "    </tr>\n",
       "    <tr>\n",
       "      <th>49</th>\n",
       "      <td>0.0</td>\n",
       "      <td>0.0</td>\n",
       "      <td>50</td>\n",
       "      <td>6</td>\n",
       "      <td>communicators</td>\n",
       "    </tr>\n",
       "  </tbody>\n",
       "</table>\n",
       "</div>"
      ],
      "text/plain": [
       "       x     y  time  bird           type\n",
       "0    6.0   2.0     1     6  communicators\n",
       "1    8.0   3.0     2     6  communicators\n",
       "2   11.0   3.0     3     6  communicators\n",
       "3    9.0   2.0     4     6  communicators\n",
       "4   11.0   0.0     5     6  communicators\n",
       "5   14.0   0.0     6     6  communicators\n",
       "6   12.0   2.0     7     6  communicators\n",
       "7   14.0   0.0     8     6  communicators\n",
       "8   14.0   0.0     9     6  communicators\n",
       "9   12.0   2.0    10     6  communicators\n",
       "10  10.0   0.0    11     6  communicators\n",
       "11   9.0   0.0    12     6  communicators\n",
       "12   9.0   2.0    13     6  communicators\n",
       "13   7.0   4.0    14     6  communicators\n",
       "14   6.0   6.0    15     6  communicators\n",
       "15   5.0   5.0    16     6  communicators\n",
       "16   6.0   3.0    17     6  communicators\n",
       "17   8.0   2.0    18     6  communicators\n",
       "18   6.0   4.0    19     6  communicators\n",
       "19   5.0   3.0    20     6  communicators\n",
       "20   3.0   2.0    21     6  communicators\n",
       "21   3.0   2.0    22     6  communicators\n",
       "22   1.0   3.0    23     6  communicators\n",
       "23   2.0   4.0    24     6  communicators\n",
       "24   2.0   4.0    25     6  communicators\n",
       "25   2.0   7.0    26     6  communicators\n",
       "26   2.0   9.0    27     6  communicators\n",
       "27   2.0  12.0    28     6  communicators\n",
       "28   3.0  14.0    29     6  communicators\n",
       "29   3.0  16.0    30     6  communicators\n",
       "30   5.0  14.0    31     6  communicators\n",
       "31   7.0  12.0    32     6  communicators\n",
       "32   8.0  11.0    33     6  communicators\n",
       "33  10.0  12.0    34     6  communicators\n",
       "34  11.0  10.0    35     6  communicators\n",
       "35  11.0  12.0    36     6  communicators\n",
       "36  11.0  15.0    37     6  communicators\n",
       "37  13.0  17.0    38     6  communicators\n",
       "38  14.0  19.0    39     6  communicators\n",
       "39  12.0  21.0    40     6  communicators\n",
       "40  12.0  24.0    41     6  communicators\n",
       "41  11.0  25.0    42     6  communicators\n",
       "42  11.0  25.0    43     6  communicators\n",
       "43  11.0  25.0    44     6  communicators\n",
       "44  11.0  25.0    45     6  communicators\n",
       "45  11.0  25.0    46     6  communicators\n",
       "46  11.0  25.0    47     6  communicators\n",
       "47  11.0  25.0    48     6  communicators\n",
       "48  11.0  25.0    49     6  communicators\n",
       "49   0.0   0.0    50     6  communicators"
      ]
     },
     "metadata": {},
     "output_type": "display_data"
    },
    {
     "name": "stdout",
     "output_type": "stream",
     "text": [
      "[18. -1. -1. -1. -1. -1.  0.  0.  0.]\n"
     ]
    },
    {
     "data": {
      "text/html": [
       "<div>\n",
       "<style scoped>\n",
       "    .dataframe tbody tr th:only-of-type {\n",
       "        vertical-align: middle;\n",
       "    }\n",
       "\n",
       "    .dataframe tbody tr th {\n",
       "        vertical-align: top;\n",
       "    }\n",
       "\n",
       "    .dataframe thead th {\n",
       "        text-align: right;\n",
       "    }\n",
       "</style>\n",
       "<table border=\"1\" class=\"dataframe\">\n",
       "  <thead>\n",
       "    <tr style=\"text-align: right;\">\n",
       "      <th></th>\n",
       "      <th>x</th>\n",
       "      <th>y</th>\n",
       "      <th>time</th>\n",
       "      <th>bird</th>\n",
       "      <th>type</th>\n",
       "    </tr>\n",
       "  </thead>\n",
       "  <tbody>\n",
       "    <tr>\n",
       "      <th>0</th>\n",
       "      <td>10.0</td>\n",
       "      <td>29.0</td>\n",
       "      <td>1</td>\n",
       "      <td>7</td>\n",
       "      <td>communicators</td>\n",
       "    </tr>\n",
       "    <tr>\n",
       "      <th>1</th>\n",
       "      <td>11.0</td>\n",
       "      <td>27.0</td>\n",
       "      <td>2</td>\n",
       "      <td>7</td>\n",
       "      <td>communicators</td>\n",
       "    </tr>\n",
       "    <tr>\n",
       "      <th>2</th>\n",
       "      <td>10.0</td>\n",
       "      <td>27.0</td>\n",
       "      <td>3</td>\n",
       "      <td>7</td>\n",
       "      <td>communicators</td>\n",
       "    </tr>\n",
       "    <tr>\n",
       "      <th>3</th>\n",
       "      <td>11.0</td>\n",
       "      <td>27.0</td>\n",
       "      <td>4</td>\n",
       "      <td>7</td>\n",
       "      <td>communicators</td>\n",
       "    </tr>\n",
       "    <tr>\n",
       "      <th>4</th>\n",
       "      <td>11.0</td>\n",
       "      <td>26.0</td>\n",
       "      <td>5</td>\n",
       "      <td>7</td>\n",
       "      <td>communicators</td>\n",
       "    </tr>\n",
       "    <tr>\n",
       "      <th>5</th>\n",
       "      <td>11.0</td>\n",
       "      <td>27.0</td>\n",
       "      <td>6</td>\n",
       "      <td>7</td>\n",
       "      <td>communicators</td>\n",
       "    </tr>\n",
       "    <tr>\n",
       "      <th>6</th>\n",
       "      <td>10.0</td>\n",
       "      <td>27.0</td>\n",
       "      <td>7</td>\n",
       "      <td>7</td>\n",
       "      <td>communicators</td>\n",
       "    </tr>\n",
       "    <tr>\n",
       "      <th>7</th>\n",
       "      <td>11.0</td>\n",
       "      <td>27.0</td>\n",
       "      <td>8</td>\n",
       "      <td>7</td>\n",
       "      <td>communicators</td>\n",
       "    </tr>\n",
       "    <tr>\n",
       "      <th>8</th>\n",
       "      <td>10.0</td>\n",
       "      <td>27.0</td>\n",
       "      <td>9</td>\n",
       "      <td>7</td>\n",
       "      <td>communicators</td>\n",
       "    </tr>\n",
       "    <tr>\n",
       "      <th>9</th>\n",
       "      <td>10.0</td>\n",
       "      <td>27.0</td>\n",
       "      <td>10</td>\n",
       "      <td>7</td>\n",
       "      <td>communicators</td>\n",
       "    </tr>\n",
       "    <tr>\n",
       "      <th>10</th>\n",
       "      <td>10.0</td>\n",
       "      <td>27.0</td>\n",
       "      <td>11</td>\n",
       "      <td>7</td>\n",
       "      <td>communicators</td>\n",
       "    </tr>\n",
       "    <tr>\n",
       "      <th>11</th>\n",
       "      <td>10.0</td>\n",
       "      <td>27.0</td>\n",
       "      <td>12</td>\n",
       "      <td>7</td>\n",
       "      <td>communicators</td>\n",
       "    </tr>\n",
       "    <tr>\n",
       "      <th>12</th>\n",
       "      <td>11.0</td>\n",
       "      <td>27.0</td>\n",
       "      <td>13</td>\n",
       "      <td>7</td>\n",
       "      <td>communicators</td>\n",
       "    </tr>\n",
       "    <tr>\n",
       "      <th>13</th>\n",
       "      <td>10.0</td>\n",
       "      <td>27.0</td>\n",
       "      <td>14</td>\n",
       "      <td>7</td>\n",
       "      <td>communicators</td>\n",
       "    </tr>\n",
       "    <tr>\n",
       "      <th>14</th>\n",
       "      <td>11.0</td>\n",
       "      <td>27.0</td>\n",
       "      <td>15</td>\n",
       "      <td>7</td>\n",
       "      <td>communicators</td>\n",
       "    </tr>\n",
       "    <tr>\n",
       "      <th>15</th>\n",
       "      <td>11.0</td>\n",
       "      <td>27.0</td>\n",
       "      <td>16</td>\n",
       "      <td>7</td>\n",
       "      <td>communicators</td>\n",
       "    </tr>\n",
       "    <tr>\n",
       "      <th>16</th>\n",
       "      <td>11.0</td>\n",
       "      <td>27.0</td>\n",
       "      <td>17</td>\n",
       "      <td>7</td>\n",
       "      <td>communicators</td>\n",
       "    </tr>\n",
       "    <tr>\n",
       "      <th>17</th>\n",
       "      <td>10.0</td>\n",
       "      <td>27.0</td>\n",
       "      <td>18</td>\n",
       "      <td>7</td>\n",
       "      <td>communicators</td>\n",
       "    </tr>\n",
       "    <tr>\n",
       "      <th>18</th>\n",
       "      <td>11.0</td>\n",
       "      <td>25.0</td>\n",
       "      <td>19</td>\n",
       "      <td>7</td>\n",
       "      <td>communicators</td>\n",
       "    </tr>\n",
       "    <tr>\n",
       "      <th>19</th>\n",
       "      <td>11.0</td>\n",
       "      <td>25.0</td>\n",
       "      <td>20</td>\n",
       "      <td>7</td>\n",
       "      <td>communicators</td>\n",
       "    </tr>\n",
       "    <tr>\n",
       "      <th>20</th>\n",
       "      <td>11.0</td>\n",
       "      <td>25.0</td>\n",
       "      <td>21</td>\n",
       "      <td>7</td>\n",
       "      <td>communicators</td>\n",
       "    </tr>\n",
       "    <tr>\n",
       "      <th>21</th>\n",
       "      <td>11.0</td>\n",
       "      <td>25.0</td>\n",
       "      <td>22</td>\n",
       "      <td>7</td>\n",
       "      <td>communicators</td>\n",
       "    </tr>\n",
       "    <tr>\n",
       "      <th>22</th>\n",
       "      <td>11.0</td>\n",
       "      <td>25.0</td>\n",
       "      <td>23</td>\n",
       "      <td>7</td>\n",
       "      <td>communicators</td>\n",
       "    </tr>\n",
       "    <tr>\n",
       "      <th>23</th>\n",
       "      <td>11.0</td>\n",
       "      <td>25.0</td>\n",
       "      <td>24</td>\n",
       "      <td>7</td>\n",
       "      <td>communicators</td>\n",
       "    </tr>\n",
       "    <tr>\n",
       "      <th>24</th>\n",
       "      <td>11.0</td>\n",
       "      <td>25.0</td>\n",
       "      <td>25</td>\n",
       "      <td>7</td>\n",
       "      <td>communicators</td>\n",
       "    </tr>\n",
       "    <tr>\n",
       "      <th>25</th>\n",
       "      <td>11.0</td>\n",
       "      <td>25.0</td>\n",
       "      <td>26</td>\n",
       "      <td>7</td>\n",
       "      <td>communicators</td>\n",
       "    </tr>\n",
       "    <tr>\n",
       "      <th>26</th>\n",
       "      <td>11.0</td>\n",
       "      <td>25.0</td>\n",
       "      <td>27</td>\n",
       "      <td>7</td>\n",
       "      <td>communicators</td>\n",
       "    </tr>\n",
       "    <tr>\n",
       "      <th>27</th>\n",
       "      <td>11.0</td>\n",
       "      <td>25.0</td>\n",
       "      <td>28</td>\n",
       "      <td>7</td>\n",
       "      <td>communicators</td>\n",
       "    </tr>\n",
       "    <tr>\n",
       "      <th>28</th>\n",
       "      <td>11.0</td>\n",
       "      <td>25.0</td>\n",
       "      <td>29</td>\n",
       "      <td>7</td>\n",
       "      <td>communicators</td>\n",
       "    </tr>\n",
       "    <tr>\n",
       "      <th>29</th>\n",
       "      <td>11.0</td>\n",
       "      <td>25.0</td>\n",
       "      <td>30</td>\n",
       "      <td>7</td>\n",
       "      <td>communicators</td>\n",
       "    </tr>\n",
       "    <tr>\n",
       "      <th>30</th>\n",
       "      <td>11.0</td>\n",
       "      <td>25.0</td>\n",
       "      <td>31</td>\n",
       "      <td>7</td>\n",
       "      <td>communicators</td>\n",
       "    </tr>\n",
       "    <tr>\n",
       "      <th>31</th>\n",
       "      <td>11.0</td>\n",
       "      <td>25.0</td>\n",
       "      <td>32</td>\n",
       "      <td>7</td>\n",
       "      <td>communicators</td>\n",
       "    </tr>\n",
       "    <tr>\n",
       "      <th>32</th>\n",
       "      <td>11.0</td>\n",
       "      <td>25.0</td>\n",
       "      <td>33</td>\n",
       "      <td>7</td>\n",
       "      <td>communicators</td>\n",
       "    </tr>\n",
       "    <tr>\n",
       "      <th>33</th>\n",
       "      <td>11.0</td>\n",
       "      <td>25.0</td>\n",
       "      <td>34</td>\n",
       "      <td>7</td>\n",
       "      <td>communicators</td>\n",
       "    </tr>\n",
       "    <tr>\n",
       "      <th>34</th>\n",
       "      <td>11.0</td>\n",
       "      <td>25.0</td>\n",
       "      <td>35</td>\n",
       "      <td>7</td>\n",
       "      <td>communicators</td>\n",
       "    </tr>\n",
       "    <tr>\n",
       "      <th>35</th>\n",
       "      <td>11.0</td>\n",
       "      <td>25.0</td>\n",
       "      <td>36</td>\n",
       "      <td>7</td>\n",
       "      <td>communicators</td>\n",
       "    </tr>\n",
       "    <tr>\n",
       "      <th>36</th>\n",
       "      <td>11.0</td>\n",
       "      <td>25.0</td>\n",
       "      <td>37</td>\n",
       "      <td>7</td>\n",
       "      <td>communicators</td>\n",
       "    </tr>\n",
       "    <tr>\n",
       "      <th>37</th>\n",
       "      <td>11.0</td>\n",
       "      <td>25.0</td>\n",
       "      <td>38</td>\n",
       "      <td>7</td>\n",
       "      <td>communicators</td>\n",
       "    </tr>\n",
       "    <tr>\n",
       "      <th>38</th>\n",
       "      <td>11.0</td>\n",
       "      <td>25.0</td>\n",
       "      <td>39</td>\n",
       "      <td>7</td>\n",
       "      <td>communicators</td>\n",
       "    </tr>\n",
       "    <tr>\n",
       "      <th>39</th>\n",
       "      <td>11.0</td>\n",
       "      <td>25.0</td>\n",
       "      <td>40</td>\n",
       "      <td>7</td>\n",
       "      <td>communicators</td>\n",
       "    </tr>\n",
       "    <tr>\n",
       "      <th>40</th>\n",
       "      <td>11.0</td>\n",
       "      <td>25.0</td>\n",
       "      <td>41</td>\n",
       "      <td>7</td>\n",
       "      <td>communicators</td>\n",
       "    </tr>\n",
       "    <tr>\n",
       "      <th>41</th>\n",
       "      <td>11.0</td>\n",
       "      <td>25.0</td>\n",
       "      <td>42</td>\n",
       "      <td>7</td>\n",
       "      <td>communicators</td>\n",
       "    </tr>\n",
       "    <tr>\n",
       "      <th>42</th>\n",
       "      <td>11.0</td>\n",
       "      <td>25.0</td>\n",
       "      <td>43</td>\n",
       "      <td>7</td>\n",
       "      <td>communicators</td>\n",
       "    </tr>\n",
       "    <tr>\n",
       "      <th>43</th>\n",
       "      <td>11.0</td>\n",
       "      <td>25.0</td>\n",
       "      <td>44</td>\n",
       "      <td>7</td>\n",
       "      <td>communicators</td>\n",
       "    </tr>\n",
       "    <tr>\n",
       "      <th>44</th>\n",
       "      <td>11.0</td>\n",
       "      <td>25.0</td>\n",
       "      <td>45</td>\n",
       "      <td>7</td>\n",
       "      <td>communicators</td>\n",
       "    </tr>\n",
       "    <tr>\n",
       "      <th>45</th>\n",
       "      <td>11.0</td>\n",
       "      <td>25.0</td>\n",
       "      <td>46</td>\n",
       "      <td>7</td>\n",
       "      <td>communicators</td>\n",
       "    </tr>\n",
       "    <tr>\n",
       "      <th>46</th>\n",
       "      <td>11.0</td>\n",
       "      <td>25.0</td>\n",
       "      <td>47</td>\n",
       "      <td>7</td>\n",
       "      <td>communicators</td>\n",
       "    </tr>\n",
       "    <tr>\n",
       "      <th>47</th>\n",
       "      <td>11.0</td>\n",
       "      <td>25.0</td>\n",
       "      <td>48</td>\n",
       "      <td>7</td>\n",
       "      <td>communicators</td>\n",
       "    </tr>\n",
       "    <tr>\n",
       "      <th>48</th>\n",
       "      <td>11.0</td>\n",
       "      <td>25.0</td>\n",
       "      <td>49</td>\n",
       "      <td>7</td>\n",
       "      <td>communicators</td>\n",
       "    </tr>\n",
       "    <tr>\n",
       "      <th>49</th>\n",
       "      <td>0.0</td>\n",
       "      <td>0.0</td>\n",
       "      <td>50</td>\n",
       "      <td>7</td>\n",
       "      <td>communicators</td>\n",
       "    </tr>\n",
       "  </tbody>\n",
       "</table>\n",
       "</div>"
      ],
      "text/plain": [
       "       x     y  time  bird           type\n",
       "0   10.0  29.0     1     7  communicators\n",
       "1   11.0  27.0     2     7  communicators\n",
       "2   10.0  27.0     3     7  communicators\n",
       "3   11.0  27.0     4     7  communicators\n",
       "4   11.0  26.0     5     7  communicators\n",
       "5   11.0  27.0     6     7  communicators\n",
       "6   10.0  27.0     7     7  communicators\n",
       "7   11.0  27.0     8     7  communicators\n",
       "8   10.0  27.0     9     7  communicators\n",
       "9   10.0  27.0    10     7  communicators\n",
       "10  10.0  27.0    11     7  communicators\n",
       "11  10.0  27.0    12     7  communicators\n",
       "12  11.0  27.0    13     7  communicators\n",
       "13  10.0  27.0    14     7  communicators\n",
       "14  11.0  27.0    15     7  communicators\n",
       "15  11.0  27.0    16     7  communicators\n",
       "16  11.0  27.0    17     7  communicators\n",
       "17  10.0  27.0    18     7  communicators\n",
       "18  11.0  25.0    19     7  communicators\n",
       "19  11.0  25.0    20     7  communicators\n",
       "20  11.0  25.0    21     7  communicators\n",
       "21  11.0  25.0    22     7  communicators\n",
       "22  11.0  25.0    23     7  communicators\n",
       "23  11.0  25.0    24     7  communicators\n",
       "24  11.0  25.0    25     7  communicators\n",
       "25  11.0  25.0    26     7  communicators\n",
       "26  11.0  25.0    27     7  communicators\n",
       "27  11.0  25.0    28     7  communicators\n",
       "28  11.0  25.0    29     7  communicators\n",
       "29  11.0  25.0    30     7  communicators\n",
       "30  11.0  25.0    31     7  communicators\n",
       "31  11.0  25.0    32     7  communicators\n",
       "32  11.0  25.0    33     7  communicators\n",
       "33  11.0  25.0    34     7  communicators\n",
       "34  11.0  25.0    35     7  communicators\n",
       "35  11.0  25.0    36     7  communicators\n",
       "36  11.0  25.0    37     7  communicators\n",
       "37  11.0  25.0    38     7  communicators\n",
       "38  11.0  25.0    39     7  communicators\n",
       "39  11.0  25.0    40     7  communicators\n",
       "40  11.0  25.0    41     7  communicators\n",
       "41  11.0  25.0    42     7  communicators\n",
       "42  11.0  25.0    43     7  communicators\n",
       "43  11.0  25.0    44     7  communicators\n",
       "44  11.0  25.0    45     7  communicators\n",
       "45  11.0  25.0    46     7  communicators\n",
       "46  11.0  25.0    47     7  communicators\n",
       "47  11.0  25.0    48     7  communicators\n",
       "48  11.0  25.0    49     7  communicators\n",
       "49   0.0   0.0    50     7  communicators"
      ]
     },
     "metadata": {},
     "output_type": "display_data"
    },
    {
     "name": "stdout",
     "output_type": "stream",
     "text": [
      "[18. -1. -1. -1. -1. -1.  1.  0.  0.]\n"
     ]
    },
    {
     "data": {
      "text/html": [
       "<div>\n",
       "<style scoped>\n",
       "    .dataframe tbody tr th:only-of-type {\n",
       "        vertical-align: middle;\n",
       "    }\n",
       "\n",
       "    .dataframe tbody tr th {\n",
       "        vertical-align: top;\n",
       "    }\n",
       "\n",
       "    .dataframe thead th {\n",
       "        text-align: right;\n",
       "    }\n",
       "</style>\n",
       "<table border=\"1\" class=\"dataframe\">\n",
       "  <thead>\n",
       "    <tr style=\"text-align: right;\">\n",
       "      <th></th>\n",
       "      <th>x</th>\n",
       "      <th>y</th>\n",
       "      <th>time</th>\n",
       "      <th>bird</th>\n",
       "      <th>type</th>\n",
       "    </tr>\n",
       "  </thead>\n",
       "  <tbody>\n",
       "    <tr>\n",
       "      <th>0</th>\n",
       "      <td>16.0</td>\n",
       "      <td>4.0</td>\n",
       "      <td>1</td>\n",
       "      <td>8</td>\n",
       "      <td>communicators</td>\n",
       "    </tr>\n",
       "    <tr>\n",
       "      <th>1</th>\n",
       "      <td>17.0</td>\n",
       "      <td>3.0</td>\n",
       "      <td>2</td>\n",
       "      <td>8</td>\n",
       "      <td>communicators</td>\n",
       "    </tr>\n",
       "    <tr>\n",
       "      <th>2</th>\n",
       "      <td>15.0</td>\n",
       "      <td>5.0</td>\n",
       "      <td>3</td>\n",
       "      <td>8</td>\n",
       "      <td>communicators</td>\n",
       "    </tr>\n",
       "    <tr>\n",
       "      <th>3</th>\n",
       "      <td>17.0</td>\n",
       "      <td>5.0</td>\n",
       "      <td>4</td>\n",
       "      <td>8</td>\n",
       "      <td>communicators</td>\n",
       "    </tr>\n",
       "    <tr>\n",
       "      <th>4</th>\n",
       "      <td>18.0</td>\n",
       "      <td>5.0</td>\n",
       "      <td>5</td>\n",
       "      <td>8</td>\n",
       "      <td>communicators</td>\n",
       "    </tr>\n",
       "    <tr>\n",
       "      <th>5</th>\n",
       "      <td>20.0</td>\n",
       "      <td>7.0</td>\n",
       "      <td>6</td>\n",
       "      <td>8</td>\n",
       "      <td>communicators</td>\n",
       "    </tr>\n",
       "    <tr>\n",
       "      <th>6</th>\n",
       "      <td>20.0</td>\n",
       "      <td>5.0</td>\n",
       "      <td>7</td>\n",
       "      <td>8</td>\n",
       "      <td>communicators</td>\n",
       "    </tr>\n",
       "    <tr>\n",
       "      <th>7</th>\n",
       "      <td>19.0</td>\n",
       "      <td>5.0</td>\n",
       "      <td>8</td>\n",
       "      <td>8</td>\n",
       "      <td>communicators</td>\n",
       "    </tr>\n",
       "    <tr>\n",
       "      <th>8</th>\n",
       "      <td>17.0</td>\n",
       "      <td>3.0</td>\n",
       "      <td>9</td>\n",
       "      <td>8</td>\n",
       "      <td>communicators</td>\n",
       "    </tr>\n",
       "    <tr>\n",
       "      <th>9</th>\n",
       "      <td>16.0</td>\n",
       "      <td>5.0</td>\n",
       "      <td>10</td>\n",
       "      <td>8</td>\n",
       "      <td>communicators</td>\n",
       "    </tr>\n",
       "    <tr>\n",
       "      <th>10</th>\n",
       "      <td>17.0</td>\n",
       "      <td>4.0</td>\n",
       "      <td>11</td>\n",
       "      <td>8</td>\n",
       "      <td>communicators</td>\n",
       "    </tr>\n",
       "    <tr>\n",
       "      <th>11</th>\n",
       "      <td>15.0</td>\n",
       "      <td>3.0</td>\n",
       "      <td>12</td>\n",
       "      <td>8</td>\n",
       "      <td>communicators</td>\n",
       "    </tr>\n",
       "    <tr>\n",
       "      <th>12</th>\n",
       "      <td>16.0</td>\n",
       "      <td>2.0</td>\n",
       "      <td>13</td>\n",
       "      <td>8</td>\n",
       "      <td>communicators</td>\n",
       "    </tr>\n",
       "    <tr>\n",
       "      <th>13</th>\n",
       "      <td>16.0</td>\n",
       "      <td>3.0</td>\n",
       "      <td>14</td>\n",
       "      <td>8</td>\n",
       "      <td>communicators</td>\n",
       "    </tr>\n",
       "    <tr>\n",
       "      <th>14</th>\n",
       "      <td>18.0</td>\n",
       "      <td>2.0</td>\n",
       "      <td>15</td>\n",
       "      <td>8</td>\n",
       "      <td>communicators</td>\n",
       "    </tr>\n",
       "    <tr>\n",
       "      <th>15</th>\n",
       "      <td>19.0</td>\n",
       "      <td>1.0</td>\n",
       "      <td>16</td>\n",
       "      <td>8</td>\n",
       "      <td>communicators</td>\n",
       "    </tr>\n",
       "    <tr>\n",
       "      <th>16</th>\n",
       "      <td>17.0</td>\n",
       "      <td>3.0</td>\n",
       "      <td>17</td>\n",
       "      <td>8</td>\n",
       "      <td>communicators</td>\n",
       "    </tr>\n",
       "    <tr>\n",
       "      <th>17</th>\n",
       "      <td>18.0</td>\n",
       "      <td>3.0</td>\n",
       "      <td>18</td>\n",
       "      <td>8</td>\n",
       "      <td>communicators</td>\n",
       "    </tr>\n",
       "    <tr>\n",
       "      <th>18</th>\n",
       "      <td>19.0</td>\n",
       "      <td>4.0</td>\n",
       "      <td>19</td>\n",
       "      <td>8</td>\n",
       "      <td>communicators</td>\n",
       "    </tr>\n",
       "    <tr>\n",
       "      <th>19</th>\n",
       "      <td>18.0</td>\n",
       "      <td>3.0</td>\n",
       "      <td>20</td>\n",
       "      <td>8</td>\n",
       "      <td>communicators</td>\n",
       "    </tr>\n",
       "    <tr>\n",
       "      <th>20</th>\n",
       "      <td>18.0</td>\n",
       "      <td>5.0</td>\n",
       "      <td>21</td>\n",
       "      <td>8</td>\n",
       "      <td>communicators</td>\n",
       "    </tr>\n",
       "    <tr>\n",
       "      <th>21</th>\n",
       "      <td>17.0</td>\n",
       "      <td>7.0</td>\n",
       "      <td>22</td>\n",
       "      <td>8</td>\n",
       "      <td>communicators</td>\n",
       "    </tr>\n",
       "    <tr>\n",
       "      <th>22</th>\n",
       "      <td>15.0</td>\n",
       "      <td>7.0</td>\n",
       "      <td>23</td>\n",
       "      <td>8</td>\n",
       "      <td>communicators</td>\n",
       "    </tr>\n",
       "    <tr>\n",
       "      <th>23</th>\n",
       "      <td>14.0</td>\n",
       "      <td>8.0</td>\n",
       "      <td>24</td>\n",
       "      <td>8</td>\n",
       "      <td>communicators</td>\n",
       "    </tr>\n",
       "    <tr>\n",
       "      <th>24</th>\n",
       "      <td>12.0</td>\n",
       "      <td>6.0</td>\n",
       "      <td>25</td>\n",
       "      <td>8</td>\n",
       "      <td>communicators</td>\n",
       "    </tr>\n",
       "    <tr>\n",
       "      <th>25</th>\n",
       "      <td>15.0</td>\n",
       "      <td>6.0</td>\n",
       "      <td>26</td>\n",
       "      <td>8</td>\n",
       "      <td>communicators</td>\n",
       "    </tr>\n",
       "    <tr>\n",
       "      <th>26</th>\n",
       "      <td>12.0</td>\n",
       "      <td>6.0</td>\n",
       "      <td>27</td>\n",
       "      <td>8</td>\n",
       "      <td>communicators</td>\n",
       "    </tr>\n",
       "    <tr>\n",
       "      <th>27</th>\n",
       "      <td>15.0</td>\n",
       "      <td>6.0</td>\n",
       "      <td>28</td>\n",
       "      <td>8</td>\n",
       "      <td>communicators</td>\n",
       "    </tr>\n",
       "    <tr>\n",
       "      <th>28</th>\n",
       "      <td>15.0</td>\n",
       "      <td>6.0</td>\n",
       "      <td>29</td>\n",
       "      <td>8</td>\n",
       "      <td>communicators</td>\n",
       "    </tr>\n",
       "    <tr>\n",
       "      <th>29</th>\n",
       "      <td>16.0</td>\n",
       "      <td>6.0</td>\n",
       "      <td>30</td>\n",
       "      <td>8</td>\n",
       "      <td>communicators</td>\n",
       "    </tr>\n",
       "    <tr>\n",
       "      <th>30</th>\n",
       "      <td>14.0</td>\n",
       "      <td>7.0</td>\n",
       "      <td>31</td>\n",
       "      <td>8</td>\n",
       "      <td>communicators</td>\n",
       "    </tr>\n",
       "    <tr>\n",
       "      <th>31</th>\n",
       "      <td>14.0</td>\n",
       "      <td>5.0</td>\n",
       "      <td>32</td>\n",
       "      <td>8</td>\n",
       "      <td>communicators</td>\n",
       "    </tr>\n",
       "    <tr>\n",
       "      <th>32</th>\n",
       "      <td>14.0</td>\n",
       "      <td>7.0</td>\n",
       "      <td>33</td>\n",
       "      <td>8</td>\n",
       "      <td>communicators</td>\n",
       "    </tr>\n",
       "    <tr>\n",
       "      <th>33</th>\n",
       "      <td>13.0</td>\n",
       "      <td>9.0</td>\n",
       "      <td>34</td>\n",
       "      <td>8</td>\n",
       "      <td>communicators</td>\n",
       "    </tr>\n",
       "    <tr>\n",
       "      <th>34</th>\n",
       "      <td>13.0</td>\n",
       "      <td>6.0</td>\n",
       "      <td>35</td>\n",
       "      <td>8</td>\n",
       "      <td>communicators</td>\n",
       "    </tr>\n",
       "    <tr>\n",
       "      <th>35</th>\n",
       "      <td>13.0</td>\n",
       "      <td>9.0</td>\n",
       "      <td>36</td>\n",
       "      <td>8</td>\n",
       "      <td>communicators</td>\n",
       "    </tr>\n",
       "    <tr>\n",
       "      <th>36</th>\n",
       "      <td>13.0</td>\n",
       "      <td>12.0</td>\n",
       "      <td>37</td>\n",
       "      <td>8</td>\n",
       "      <td>communicators</td>\n",
       "    </tr>\n",
       "    <tr>\n",
       "      <th>37</th>\n",
       "      <td>11.0</td>\n",
       "      <td>12.0</td>\n",
       "      <td>38</td>\n",
       "      <td>8</td>\n",
       "      <td>communicators</td>\n",
       "    </tr>\n",
       "    <tr>\n",
       "      <th>38</th>\n",
       "      <td>12.0</td>\n",
       "      <td>14.0</td>\n",
       "      <td>39</td>\n",
       "      <td>8</td>\n",
       "      <td>communicators</td>\n",
       "    </tr>\n",
       "    <tr>\n",
       "      <th>39</th>\n",
       "      <td>11.0</td>\n",
       "      <td>13.0</td>\n",
       "      <td>40</td>\n",
       "      <td>8</td>\n",
       "      <td>communicators</td>\n",
       "    </tr>\n",
       "    <tr>\n",
       "      <th>40</th>\n",
       "      <td>13.0</td>\n",
       "      <td>15.0</td>\n",
       "      <td>41</td>\n",
       "      <td>8</td>\n",
       "      <td>communicators</td>\n",
       "    </tr>\n",
       "    <tr>\n",
       "      <th>41</th>\n",
       "      <td>13.0</td>\n",
       "      <td>16.0</td>\n",
       "      <td>42</td>\n",
       "      <td>8</td>\n",
       "      <td>communicators</td>\n",
       "    </tr>\n",
       "    <tr>\n",
       "      <th>42</th>\n",
       "      <td>13.0</td>\n",
       "      <td>19.0</td>\n",
       "      <td>43</td>\n",
       "      <td>8</td>\n",
       "      <td>communicators</td>\n",
       "    </tr>\n",
       "    <tr>\n",
       "      <th>43</th>\n",
       "      <td>13.0</td>\n",
       "      <td>22.0</td>\n",
       "      <td>44</td>\n",
       "      <td>8</td>\n",
       "      <td>communicators</td>\n",
       "    </tr>\n",
       "    <tr>\n",
       "      <th>44</th>\n",
       "      <td>11.0</td>\n",
       "      <td>24.0</td>\n",
       "      <td>45</td>\n",
       "      <td>8</td>\n",
       "      <td>communicators</td>\n",
       "    </tr>\n",
       "    <tr>\n",
       "      <th>45</th>\n",
       "      <td>11.0</td>\n",
       "      <td>25.0</td>\n",
       "      <td>46</td>\n",
       "      <td>8</td>\n",
       "      <td>communicators</td>\n",
       "    </tr>\n",
       "    <tr>\n",
       "      <th>46</th>\n",
       "      <td>11.0</td>\n",
       "      <td>25.0</td>\n",
       "      <td>47</td>\n",
       "      <td>8</td>\n",
       "      <td>communicators</td>\n",
       "    </tr>\n",
       "    <tr>\n",
       "      <th>47</th>\n",
       "      <td>11.0</td>\n",
       "      <td>25.0</td>\n",
       "      <td>48</td>\n",
       "      <td>8</td>\n",
       "      <td>communicators</td>\n",
       "    </tr>\n",
       "    <tr>\n",
       "      <th>48</th>\n",
       "      <td>11.0</td>\n",
       "      <td>25.0</td>\n",
       "      <td>49</td>\n",
       "      <td>8</td>\n",
       "      <td>communicators</td>\n",
       "    </tr>\n",
       "    <tr>\n",
       "      <th>49</th>\n",
       "      <td>0.0</td>\n",
       "      <td>0.0</td>\n",
       "      <td>50</td>\n",
       "      <td>8</td>\n",
       "      <td>communicators</td>\n",
       "    </tr>\n",
       "  </tbody>\n",
       "</table>\n",
       "</div>"
      ],
      "text/plain": [
       "       x     y  time  bird           type\n",
       "0   16.0   4.0     1     8  communicators\n",
       "1   17.0   3.0     2     8  communicators\n",
       "2   15.0   5.0     3     8  communicators\n",
       "3   17.0   5.0     4     8  communicators\n",
       "4   18.0   5.0     5     8  communicators\n",
       "5   20.0   7.0     6     8  communicators\n",
       "6   20.0   5.0     7     8  communicators\n",
       "7   19.0   5.0     8     8  communicators\n",
       "8   17.0   3.0     9     8  communicators\n",
       "9   16.0   5.0    10     8  communicators\n",
       "10  17.0   4.0    11     8  communicators\n",
       "11  15.0   3.0    12     8  communicators\n",
       "12  16.0   2.0    13     8  communicators\n",
       "13  16.0   3.0    14     8  communicators\n",
       "14  18.0   2.0    15     8  communicators\n",
       "15  19.0   1.0    16     8  communicators\n",
       "16  17.0   3.0    17     8  communicators\n",
       "17  18.0   3.0    18     8  communicators\n",
       "18  19.0   4.0    19     8  communicators\n",
       "19  18.0   3.0    20     8  communicators\n",
       "20  18.0   5.0    21     8  communicators\n",
       "21  17.0   7.0    22     8  communicators\n",
       "22  15.0   7.0    23     8  communicators\n",
       "23  14.0   8.0    24     8  communicators\n",
       "24  12.0   6.0    25     8  communicators\n",
       "25  15.0   6.0    26     8  communicators\n",
       "26  12.0   6.0    27     8  communicators\n",
       "27  15.0   6.0    28     8  communicators\n",
       "28  15.0   6.0    29     8  communicators\n",
       "29  16.0   6.0    30     8  communicators\n",
       "30  14.0   7.0    31     8  communicators\n",
       "31  14.0   5.0    32     8  communicators\n",
       "32  14.0   7.0    33     8  communicators\n",
       "33  13.0   9.0    34     8  communicators\n",
       "34  13.0   6.0    35     8  communicators\n",
       "35  13.0   9.0    36     8  communicators\n",
       "36  13.0  12.0    37     8  communicators\n",
       "37  11.0  12.0    38     8  communicators\n",
       "38  12.0  14.0    39     8  communicators\n",
       "39  11.0  13.0    40     8  communicators\n",
       "40  13.0  15.0    41     8  communicators\n",
       "41  13.0  16.0    42     8  communicators\n",
       "42  13.0  19.0    43     8  communicators\n",
       "43  13.0  22.0    44     8  communicators\n",
       "44  11.0  24.0    45     8  communicators\n",
       "45  11.0  25.0    46     8  communicators\n",
       "46  11.0  25.0    47     8  communicators\n",
       "47  11.0  25.0    48     8  communicators\n",
       "48  11.0  25.0    49     8  communicators\n",
       "49   0.0   0.0    50     8  communicators"
      ]
     },
     "metadata": {},
     "output_type": "display_data"
    },
    {
     "name": "stdout",
     "output_type": "stream",
     "text": [
      "[18. -1. -1. -1. -1. -1.  1. -1.  0.]\n"
     ]
    },
    {
     "data": {
      "text/html": [
       "<div>\n",
       "<style scoped>\n",
       "    .dataframe tbody tr th:only-of-type {\n",
       "        vertical-align: middle;\n",
       "    }\n",
       "\n",
       "    .dataframe tbody tr th {\n",
       "        vertical-align: top;\n",
       "    }\n",
       "\n",
       "    .dataframe thead th {\n",
       "        text-align: right;\n",
       "    }\n",
       "</style>\n",
       "<table border=\"1\" class=\"dataframe\">\n",
       "  <thead>\n",
       "    <tr style=\"text-align: right;\">\n",
       "      <th></th>\n",
       "      <th>x</th>\n",
       "      <th>y</th>\n",
       "      <th>time</th>\n",
       "      <th>bird</th>\n",
       "      <th>type</th>\n",
       "    </tr>\n",
       "  </thead>\n",
       "  <tbody>\n",
       "    <tr>\n",
       "      <th>0</th>\n",
       "      <td>11.0</td>\n",
       "      <td>12.0</td>\n",
       "      <td>1</td>\n",
       "      <td>9</td>\n",
       "      <td>communicators</td>\n",
       "    </tr>\n",
       "    <tr>\n",
       "      <th>1</th>\n",
       "      <td>13.0</td>\n",
       "      <td>13.0</td>\n",
       "      <td>2</td>\n",
       "      <td>9</td>\n",
       "      <td>communicators</td>\n",
       "    </tr>\n",
       "    <tr>\n",
       "      <th>2</th>\n",
       "      <td>15.0</td>\n",
       "      <td>13.0</td>\n",
       "      <td>3</td>\n",
       "      <td>9</td>\n",
       "      <td>communicators</td>\n",
       "    </tr>\n",
       "    <tr>\n",
       "      <th>3</th>\n",
       "      <td>16.0</td>\n",
       "      <td>14.0</td>\n",
       "      <td>4</td>\n",
       "      <td>9</td>\n",
       "      <td>communicators</td>\n",
       "    </tr>\n",
       "    <tr>\n",
       "      <th>4</th>\n",
       "      <td>16.0</td>\n",
       "      <td>16.0</td>\n",
       "      <td>5</td>\n",
       "      <td>9</td>\n",
       "      <td>communicators</td>\n",
       "    </tr>\n",
       "    <tr>\n",
       "      <th>5</th>\n",
       "      <td>19.0</td>\n",
       "      <td>16.0</td>\n",
       "      <td>6</td>\n",
       "      <td>9</td>\n",
       "      <td>communicators</td>\n",
       "    </tr>\n",
       "    <tr>\n",
       "      <th>6</th>\n",
       "      <td>18.0</td>\n",
       "      <td>16.0</td>\n",
       "      <td>7</td>\n",
       "      <td>9</td>\n",
       "      <td>communicators</td>\n",
       "    </tr>\n",
       "    <tr>\n",
       "      <th>7</th>\n",
       "      <td>17.0</td>\n",
       "      <td>18.0</td>\n",
       "      <td>8</td>\n",
       "      <td>9</td>\n",
       "      <td>communicators</td>\n",
       "    </tr>\n",
       "    <tr>\n",
       "      <th>8</th>\n",
       "      <td>19.0</td>\n",
       "      <td>16.0</td>\n",
       "      <td>9</td>\n",
       "      <td>9</td>\n",
       "      <td>communicators</td>\n",
       "    </tr>\n",
       "    <tr>\n",
       "      <th>9</th>\n",
       "      <td>19.0</td>\n",
       "      <td>15.0</td>\n",
       "      <td>10</td>\n",
       "      <td>9</td>\n",
       "      <td>communicators</td>\n",
       "    </tr>\n",
       "    <tr>\n",
       "      <th>10</th>\n",
       "      <td>17.0</td>\n",
       "      <td>17.0</td>\n",
       "      <td>11</td>\n",
       "      <td>9</td>\n",
       "      <td>communicators</td>\n",
       "    </tr>\n",
       "    <tr>\n",
       "      <th>11</th>\n",
       "      <td>15.0</td>\n",
       "      <td>19.0</td>\n",
       "      <td>12</td>\n",
       "      <td>9</td>\n",
       "      <td>communicators</td>\n",
       "    </tr>\n",
       "    <tr>\n",
       "      <th>12</th>\n",
       "      <td>17.0</td>\n",
       "      <td>19.0</td>\n",
       "      <td>13</td>\n",
       "      <td>9</td>\n",
       "      <td>communicators</td>\n",
       "    </tr>\n",
       "    <tr>\n",
       "      <th>13</th>\n",
       "      <td>18.0</td>\n",
       "      <td>21.0</td>\n",
       "      <td>14</td>\n",
       "      <td>9</td>\n",
       "      <td>communicators</td>\n",
       "    </tr>\n",
       "    <tr>\n",
       "      <th>14</th>\n",
       "      <td>18.0</td>\n",
       "      <td>24.0</td>\n",
       "      <td>15</td>\n",
       "      <td>9</td>\n",
       "      <td>communicators</td>\n",
       "    </tr>\n",
       "    <tr>\n",
       "      <th>15</th>\n",
       "      <td>20.0</td>\n",
       "      <td>25.0</td>\n",
       "      <td>16</td>\n",
       "      <td>9</td>\n",
       "      <td>communicators</td>\n",
       "    </tr>\n",
       "    <tr>\n",
       "      <th>16</th>\n",
       "      <td>20.0</td>\n",
       "      <td>27.0</td>\n",
       "      <td>17</td>\n",
       "      <td>9</td>\n",
       "      <td>communicators</td>\n",
       "    </tr>\n",
       "    <tr>\n",
       "      <th>17</th>\n",
       "      <td>22.0</td>\n",
       "      <td>26.0</td>\n",
       "      <td>18</td>\n",
       "      <td>9</td>\n",
       "      <td>communicators</td>\n",
       "    </tr>\n",
       "    <tr>\n",
       "      <th>18</th>\n",
       "      <td>23.0</td>\n",
       "      <td>27.0</td>\n",
       "      <td>19</td>\n",
       "      <td>9</td>\n",
       "      <td>communicators</td>\n",
       "    </tr>\n",
       "    <tr>\n",
       "      <th>19</th>\n",
       "      <td>20.0</td>\n",
       "      <td>27.0</td>\n",
       "      <td>20</td>\n",
       "      <td>9</td>\n",
       "      <td>communicators</td>\n",
       "    </tr>\n",
       "    <tr>\n",
       "      <th>20</th>\n",
       "      <td>18.0</td>\n",
       "      <td>29.0</td>\n",
       "      <td>21</td>\n",
       "      <td>9</td>\n",
       "      <td>communicators</td>\n",
       "    </tr>\n",
       "    <tr>\n",
       "      <th>21</th>\n",
       "      <td>20.0</td>\n",
       "      <td>28.0</td>\n",
       "      <td>22</td>\n",
       "      <td>9</td>\n",
       "      <td>communicators</td>\n",
       "    </tr>\n",
       "    <tr>\n",
       "      <th>22</th>\n",
       "      <td>18.0</td>\n",
       "      <td>26.0</td>\n",
       "      <td>23</td>\n",
       "      <td>9</td>\n",
       "      <td>communicators</td>\n",
       "    </tr>\n",
       "    <tr>\n",
       "      <th>23</th>\n",
       "      <td>16.0</td>\n",
       "      <td>27.0</td>\n",
       "      <td>24</td>\n",
       "      <td>9</td>\n",
       "      <td>communicators</td>\n",
       "    </tr>\n",
       "    <tr>\n",
       "      <th>24</th>\n",
       "      <td>13.0</td>\n",
       "      <td>27.0</td>\n",
       "      <td>25</td>\n",
       "      <td>9</td>\n",
       "      <td>communicators</td>\n",
       "    </tr>\n",
       "    <tr>\n",
       "      <th>25</th>\n",
       "      <td>11.0</td>\n",
       "      <td>25.0</td>\n",
       "      <td>26</td>\n",
       "      <td>9</td>\n",
       "      <td>communicators</td>\n",
       "    </tr>\n",
       "    <tr>\n",
       "      <th>26</th>\n",
       "      <td>11.0</td>\n",
       "      <td>25.0</td>\n",
       "      <td>27</td>\n",
       "      <td>9</td>\n",
       "      <td>communicators</td>\n",
       "    </tr>\n",
       "    <tr>\n",
       "      <th>27</th>\n",
       "      <td>11.0</td>\n",
       "      <td>25.0</td>\n",
       "      <td>28</td>\n",
       "      <td>9</td>\n",
       "      <td>communicators</td>\n",
       "    </tr>\n",
       "    <tr>\n",
       "      <th>28</th>\n",
       "      <td>11.0</td>\n",
       "      <td>25.0</td>\n",
       "      <td>29</td>\n",
       "      <td>9</td>\n",
       "      <td>communicators</td>\n",
       "    </tr>\n",
       "    <tr>\n",
       "      <th>29</th>\n",
       "      <td>11.0</td>\n",
       "      <td>25.0</td>\n",
       "      <td>30</td>\n",
       "      <td>9</td>\n",
       "      <td>communicators</td>\n",
       "    </tr>\n",
       "    <tr>\n",
       "      <th>30</th>\n",
       "      <td>11.0</td>\n",
       "      <td>25.0</td>\n",
       "      <td>31</td>\n",
       "      <td>9</td>\n",
       "      <td>communicators</td>\n",
       "    </tr>\n",
       "    <tr>\n",
       "      <th>31</th>\n",
       "      <td>11.0</td>\n",
       "      <td>25.0</td>\n",
       "      <td>32</td>\n",
       "      <td>9</td>\n",
       "      <td>communicators</td>\n",
       "    </tr>\n",
       "    <tr>\n",
       "      <th>32</th>\n",
       "      <td>11.0</td>\n",
       "      <td>25.0</td>\n",
       "      <td>33</td>\n",
       "      <td>9</td>\n",
       "      <td>communicators</td>\n",
       "    </tr>\n",
       "    <tr>\n",
       "      <th>33</th>\n",
       "      <td>11.0</td>\n",
       "      <td>25.0</td>\n",
       "      <td>34</td>\n",
       "      <td>9</td>\n",
       "      <td>communicators</td>\n",
       "    </tr>\n",
       "    <tr>\n",
       "      <th>34</th>\n",
       "      <td>11.0</td>\n",
       "      <td>25.0</td>\n",
       "      <td>35</td>\n",
       "      <td>9</td>\n",
       "      <td>communicators</td>\n",
       "    </tr>\n",
       "    <tr>\n",
       "      <th>35</th>\n",
       "      <td>11.0</td>\n",
       "      <td>25.0</td>\n",
       "      <td>36</td>\n",
       "      <td>9</td>\n",
       "      <td>communicators</td>\n",
       "    </tr>\n",
       "    <tr>\n",
       "      <th>36</th>\n",
       "      <td>11.0</td>\n",
       "      <td>25.0</td>\n",
       "      <td>37</td>\n",
       "      <td>9</td>\n",
       "      <td>communicators</td>\n",
       "    </tr>\n",
       "    <tr>\n",
       "      <th>37</th>\n",
       "      <td>11.0</td>\n",
       "      <td>25.0</td>\n",
       "      <td>38</td>\n",
       "      <td>9</td>\n",
       "      <td>communicators</td>\n",
       "    </tr>\n",
       "    <tr>\n",
       "      <th>38</th>\n",
       "      <td>11.0</td>\n",
       "      <td>25.0</td>\n",
       "      <td>39</td>\n",
       "      <td>9</td>\n",
       "      <td>communicators</td>\n",
       "    </tr>\n",
       "    <tr>\n",
       "      <th>39</th>\n",
       "      <td>11.0</td>\n",
       "      <td>25.0</td>\n",
       "      <td>40</td>\n",
       "      <td>9</td>\n",
       "      <td>communicators</td>\n",
       "    </tr>\n",
       "    <tr>\n",
       "      <th>40</th>\n",
       "      <td>11.0</td>\n",
       "      <td>25.0</td>\n",
       "      <td>41</td>\n",
       "      <td>9</td>\n",
       "      <td>communicators</td>\n",
       "    </tr>\n",
       "    <tr>\n",
       "      <th>41</th>\n",
       "      <td>11.0</td>\n",
       "      <td>25.0</td>\n",
       "      <td>42</td>\n",
       "      <td>9</td>\n",
       "      <td>communicators</td>\n",
       "    </tr>\n",
       "    <tr>\n",
       "      <th>42</th>\n",
       "      <td>11.0</td>\n",
       "      <td>25.0</td>\n",
       "      <td>43</td>\n",
       "      <td>9</td>\n",
       "      <td>communicators</td>\n",
       "    </tr>\n",
       "    <tr>\n",
       "      <th>43</th>\n",
       "      <td>11.0</td>\n",
       "      <td>25.0</td>\n",
       "      <td>44</td>\n",
       "      <td>9</td>\n",
       "      <td>communicators</td>\n",
       "    </tr>\n",
       "    <tr>\n",
       "      <th>44</th>\n",
       "      <td>11.0</td>\n",
       "      <td>25.0</td>\n",
       "      <td>45</td>\n",
       "      <td>9</td>\n",
       "      <td>communicators</td>\n",
       "    </tr>\n",
       "    <tr>\n",
       "      <th>45</th>\n",
       "      <td>11.0</td>\n",
       "      <td>25.0</td>\n",
       "      <td>46</td>\n",
       "      <td>9</td>\n",
       "      <td>communicators</td>\n",
       "    </tr>\n",
       "    <tr>\n",
       "      <th>46</th>\n",
       "      <td>11.0</td>\n",
       "      <td>25.0</td>\n",
       "      <td>47</td>\n",
       "      <td>9</td>\n",
       "      <td>communicators</td>\n",
       "    </tr>\n",
       "    <tr>\n",
       "      <th>47</th>\n",
       "      <td>11.0</td>\n",
       "      <td>25.0</td>\n",
       "      <td>48</td>\n",
       "      <td>9</td>\n",
       "      <td>communicators</td>\n",
       "    </tr>\n",
       "    <tr>\n",
       "      <th>48</th>\n",
       "      <td>11.0</td>\n",
       "      <td>25.0</td>\n",
       "      <td>49</td>\n",
       "      <td>9</td>\n",
       "      <td>communicators</td>\n",
       "    </tr>\n",
       "    <tr>\n",
       "      <th>49</th>\n",
       "      <td>0.0</td>\n",
       "      <td>0.0</td>\n",
       "      <td>50</td>\n",
       "      <td>9</td>\n",
       "      <td>communicators</td>\n",
       "    </tr>\n",
       "  </tbody>\n",
       "</table>\n",
       "</div>"
      ],
      "text/plain": [
       "       x     y  time  bird           type\n",
       "0   11.0  12.0     1     9  communicators\n",
       "1   13.0  13.0     2     9  communicators\n",
       "2   15.0  13.0     3     9  communicators\n",
       "3   16.0  14.0     4     9  communicators\n",
       "4   16.0  16.0     5     9  communicators\n",
       "5   19.0  16.0     6     9  communicators\n",
       "6   18.0  16.0     7     9  communicators\n",
       "7   17.0  18.0     8     9  communicators\n",
       "8   19.0  16.0     9     9  communicators\n",
       "9   19.0  15.0    10     9  communicators\n",
       "10  17.0  17.0    11     9  communicators\n",
       "11  15.0  19.0    12     9  communicators\n",
       "12  17.0  19.0    13     9  communicators\n",
       "13  18.0  21.0    14     9  communicators\n",
       "14  18.0  24.0    15     9  communicators\n",
       "15  20.0  25.0    16     9  communicators\n",
       "16  20.0  27.0    17     9  communicators\n",
       "17  22.0  26.0    18     9  communicators\n",
       "18  23.0  27.0    19     9  communicators\n",
       "19  20.0  27.0    20     9  communicators\n",
       "20  18.0  29.0    21     9  communicators\n",
       "21  20.0  28.0    22     9  communicators\n",
       "22  18.0  26.0    23     9  communicators\n",
       "23  16.0  27.0    24     9  communicators\n",
       "24  13.0  27.0    25     9  communicators\n",
       "25  11.0  25.0    26     9  communicators\n",
       "26  11.0  25.0    27     9  communicators\n",
       "27  11.0  25.0    28     9  communicators\n",
       "28  11.0  25.0    29     9  communicators\n",
       "29  11.0  25.0    30     9  communicators\n",
       "30  11.0  25.0    31     9  communicators\n",
       "31  11.0  25.0    32     9  communicators\n",
       "32  11.0  25.0    33     9  communicators\n",
       "33  11.0  25.0    34     9  communicators\n",
       "34  11.0  25.0    35     9  communicators\n",
       "35  11.0  25.0    36     9  communicators\n",
       "36  11.0  25.0    37     9  communicators\n",
       "37  11.0  25.0    38     9  communicators\n",
       "38  11.0  25.0    39     9  communicators\n",
       "39  11.0  25.0    40     9  communicators\n",
       "40  11.0  25.0    41     9  communicators\n",
       "41  11.0  25.0    42     9  communicators\n",
       "42  11.0  25.0    43     9  communicators\n",
       "43  11.0  25.0    44     9  communicators\n",
       "44  11.0  25.0    45     9  communicators\n",
       "45  11.0  25.0    46     9  communicators\n",
       "46  11.0  25.0    47     9  communicators\n",
       "47  11.0  25.0    48     9  communicators\n",
       "48  11.0  25.0    49     9  communicators\n",
       "49   0.0   0.0    50     9  communicators"
      ]
     },
     "metadata": {},
     "output_type": "display_data"
    },
    {
     "name": "stdout",
     "output_type": "stream",
     "text": [
      "[18. -1. -1. -1. -1. -1.  1. -1. -1.]\n",
      "Num birds failed to find food = 7\n"
     ]
    }
   ],
   "source": [
    "\n",
    "time_to_first_allbirds = np.zeros(N_agents)\n",
    "# print(time_to_first_allbirds.shape)\n",
    "\n",
    "for bird_id in range(1, N_agents + 1):\n",
    "    # bird_id = 2\n",
    "    singlebirdDF = sim.all_birdsDF.loc[sim.all_birdsDF['bird'] == bird_id] \n",
    "    display(singlebirdDF)\n",
    "    time_to_first_allbirds[bird_id - 1] = success_metrics.compute_time_to_first_reward(singlebirdDF, sim.all_rewardsDF, N_frames)\n",
    "\n",
    "    print(time_to_first_allbirds)\n",
    "\n",
    "num_birds_failed = np.sum(time_to_first_allbirds < 0)\n",
    "print('Num birds failed to find food = ' + str(num_birds_failed))\n"
   ]
  },
  {
   "cell_type": "code",
   "execution_count": null,
   "metadata": {},
   "outputs": [],
   "source": []
  }
 ],
 "metadata": {
  "kernelspec": {
   "display_name": "base",
   "language": "python",
   "name": "python3"
  },
  "language_info": {
   "codemirror_mode": {
    "name": "ipython",
    "version": 3
   },
   "file_extension": ".py",
   "mimetype": "text/x-python",
   "name": "python",
   "nbconvert_exporter": "python",
   "pygments_lexer": "ipython3",
   "version": "3.9.12"
  },
  "orig_nbformat": 4
 },
 "nbformat": 4,
 "nbformat_minor": 2
}
