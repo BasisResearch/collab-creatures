{
 "cells": [
  {
   "cell_type": "code",
   "execution_count": 11,
   "metadata": {},
   "outputs": [
    {
     "name": "stderr",
     "output_type": "stream",
     "text": [
      "C:\\Users\\admin\\AppData\\Local\\Temp\\ipykernel_21904\\556181869.py:5: DeprecationWarning: the imp module is deprecated in favour of importlib; see the module's documentation for alternative uses\n",
      "  import imp\n"
     ]
    },
    {
     "data": {
      "text/plain": [
       "<module 'foraging_toolkit' from 'c:\\\\Users\\\\admin\\\\Dropbox\\\\Code\\\\Basis-code\\\\new-collaborative-intelligence\\\\mx_refactored\\\\foraging_toolkit\\\\__init__.py'>"
      ]
     },
     "execution_count": 11,
     "metadata": {},
     "output_type": "execute_result"
    }
   ],
   "source": [
    "import numpy as np\n",
    "from itertools import product\n",
    "import pandas as pd\n",
    "import foraging_toolkit as ft\n",
    "import environments\n",
    "import simulation \n",
    "import imp\n",
    "imp.reload(ft)\n"
   ]
  },
  {
   "cell_type": "markdown",
   "metadata": {},
   "source": [
    "Indpendent variables in the forward model. Specify the parameter values for all the cases you are interested in. "
   ]
  },
  {
   "cell_type": "code",
   "execution_count": 13,
   "metadata": {},
   "outputs": [
    {
     "name": "stdout",
     "output_type": "stream",
     "text": [
      "6\n",
      "param_list [(0.0, 5, 1), (0.0, 5, 4), (0.5, 5, 1), (0.5, 5, 4), (1.0, 5, 1), (1.0, 5, 4)]\n"
     ]
    }
   ],
   "source": [
    "# Parameters of interest in our communication model \n",
    "c_trust = np.array([0, 0.5, 1])\n",
    "sight_radius = [5]\n",
    "reward_patch_dim = [1, 4]\n",
    "\n",
    "# List of all possible combination of parameter values \n",
    "param_list = [i for i in product(c_trust, sight_radius, reward_patch_dim)]\n",
    "\n",
    "print(len(param_list))\n",
    "print('param_list', param_list)\n",
    "\n",
    "\n"
   ]
  },
  {
   "cell_type": "markdown",
   "metadata": {},
   "source": [
    "Generate a dataframe containing all possible combinations of the parameter values specified above."
   ]
  },
  {
   "cell_type": "code",
   "execution_count": 14,
   "metadata": {},
   "outputs": [
    {
     "data": {
      "text/html": [
       "<div>\n",
       "<style scoped>\n",
       "    .dataframe tbody tr th:only-of-type {\n",
       "        vertical-align: middle;\n",
       "    }\n",
       "\n",
       "    .dataframe tbody tr th {\n",
       "        vertical-align: top;\n",
       "    }\n",
       "\n",
       "    .dataframe thead th {\n",
       "        text-align: right;\n",
       "    }\n",
       "</style>\n",
       "<table border=\"1\" class=\"dataframe\">\n",
       "  <thead>\n",
       "    <tr style=\"text-align: right;\">\n",
       "      <th></th>\n",
       "      <th>c_trust</th>\n",
       "      <th>sight_radius</th>\n",
       "      <th>reward_patch_dim</th>\n",
       "    </tr>\n",
       "  </thead>\n",
       "  <tbody>\n",
       "    <tr>\n",
       "      <th>0</th>\n",
       "      <td>0.0</td>\n",
       "      <td>5</td>\n",
       "      <td>1</td>\n",
       "    </tr>\n",
       "    <tr>\n",
       "      <th>1</th>\n",
       "      <td>0.0</td>\n",
       "      <td>5</td>\n",
       "      <td>4</td>\n",
       "    </tr>\n",
       "    <tr>\n",
       "      <th>2</th>\n",
       "      <td>0.5</td>\n",
       "      <td>5</td>\n",
       "      <td>1</td>\n",
       "    </tr>\n",
       "    <tr>\n",
       "      <th>3</th>\n",
       "      <td>0.5</td>\n",
       "      <td>5</td>\n",
       "      <td>4</td>\n",
       "    </tr>\n",
       "    <tr>\n",
       "      <th>4</th>\n",
       "      <td>1.0</td>\n",
       "      <td>5</td>\n",
       "      <td>1</td>\n",
       "    </tr>\n",
       "    <tr>\n",
       "      <th>5</th>\n",
       "      <td>1.0</td>\n",
       "      <td>5</td>\n",
       "      <td>4</td>\n",
       "    </tr>\n",
       "  </tbody>\n",
       "</table>\n",
       "</div>"
      ],
      "text/plain": [
       "   c_trust  sight_radius  reward_patch_dim\n",
       "0      0.0             5                 1\n",
       "1      0.0             5                 4\n",
       "2      0.5             5                 1\n",
       "3      0.5             5                 4\n",
       "4      1.0             5                 1\n",
       "5      1.0             5                 4"
      ]
     },
     "metadata": {},
     "output_type": "display_data"
    }
   ],
   "source": [
    "#each row of both dataframes corresponds to one experiment.  \n",
    "#columns are parameters \n",
    "metadataDF = pd.DataFrame(param_list)\n",
    "\n",
    "# success_metricsDF = pd.DataFrame(results)\n",
    "# allresultsDF = pd.concat([metadataDF, success_metricsDF], axis='columns') # concatenate metadata and results \n",
    "metadataDF.columns = [\"c_trust\", \"sight_radius\", \"reward_patch_dim\"] \n",
    "metadataDF.head()\n",
    "display(metadataDF)"
   ]
  },
  {
   "cell_type": "markdown",
   "metadata": {},
   "source": [
    "*Part 2*\n",
    "Test run one of the simulations from metadata (one row)"
   ]
  },
  {
   "cell_type": "code",
   "execution_count": 10,
   "metadata": {},
   "outputs": [
    {
     "name": "stdout",
     "output_type": "stream",
     "text": [
      "6\n"
     ]
    }
   ],
   "source": [
    "nsims = len(metadataDF)\n",
    "\n",
    "nsims = 1 # TEST\n",
    "for si in range(nsims):\n",
    "    # pull out parameters from row si in the metadata\n",
    "\n",
    "    # feed the parameters through the run() function once (later we'll do this many times)\n",
    "    # Create an initialize a new environment \n",
    "    env = environments.Environment(edge_size=30, N_total_food_units=16, patch_dim=1, max_step_size=3)\n",
    "    env.add_food_patches(food_statistics_type=\"drop_food_once\")\n",
    "\n",
    "    N_frames = 3\n",
    "    sim = simulation.Simulation(env, N_agents=2, N_frames=N_frames)\n",
    "    sim.run()\n",
    "    print(sim.all_birdsDF)\n",
    "    print(sim.all_rewardsDF) \n",
    "\n",
    "\n",
    "    # by this point we should have birdlocsDF and rewardlocsDF \n",
    "\n"
   ]
  },
  {
   "cell_type": "markdown",
   "metadata": {},
   "source": [
    "Use the dataframes to generate animations"
   ]
  },
  {
   "cell_type": "code",
   "execution_count": null,
   "metadata": {},
   "outputs": [],
   "source": [
    "communicators = ft.object_from_data(sim.all_birdsDF, sim.all_rewardsDF)\n",
    "ft.animate_birds(communicators, plot_rewards=True,\n",
    "                  width = 600, height = 600, point_size = 10)"
   ]
  }
 ],
 "metadata": {
  "kernelspec": {
   "display_name": "base",
   "language": "python",
   "name": "python3"
  },
  "language_info": {
   "codemirror_mode": {
    "name": "ipython",
    "version": 3
   },
   "file_extension": ".py",
   "mimetype": "text/x-python",
   "name": "python",
   "nbconvert_exporter": "python",
   "pygments_lexer": "ipython3",
   "version": "3.9.12"
  },
  "orig_nbformat": 4
 },
 "nbformat": 4,
 "nbformat_minor": 2
}
