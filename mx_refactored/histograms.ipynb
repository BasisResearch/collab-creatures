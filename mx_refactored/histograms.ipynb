{
 "cells": [
  {
   "cell_type": "code",
   "execution_count": 2,
   "metadata": {},
   "outputs": [],
   "source": [
    "# Goal: reproduce figures from the CVPR workshop paper using data stored in dataframes\n",
    "\n",
    "import numpy as np\n",
    "import pandas as pd\n",
    "import matplotlib.pyplot as plt \n",
    "from scipy import stats\n",
    "import pickle\n",
    "import os\n",
    "from pathlib import Path"
   ]
  },
  {
   "cell_type": "code",
   "execution_count": 11,
   "metadata": {},
   "outputs": [],
   "source": [
    "\n",
    "home_dir = \"/Users/emily/code/collaborative-intelligence/tmp_files/\"  # directory where the simulation data is saved\n",
    "\n",
    "# 1. read the .csv file storing the results \n",
    "df = pd.read_csv(os.path.join(home_dir, 'resultsDF.csv'))\n",
    "\n",
    "# load the extra parameters from the dictionary \n",
    "dict_params = pickle.load(open(os.path.join(home_dir,'additional_meta_params.sav'), 'rb'))\n",
    "N_timesteps = dict_params['N_frames']\n",
    "N_agents = dict_params['N_agents']\n"
   ]
  },
  {
   "cell_type": "code",
   "execution_count": 12,
   "metadata": {},
   "outputs": [
    {
     "data": {
      "text/html": [
       "<div>\n",
       "<style scoped>\n",
       "    .dataframe tbody tr th:only-of-type {\n",
       "        vertical-align: middle;\n",
       "    }\n",
       "\n",
       "    .dataframe tbody tr th {\n",
       "        vertical-align: top;\n",
       "    }\n",
       "\n",
       "    .dataframe thead th {\n",
       "        text-align: right;\n",
       "    }\n",
       "</style>\n",
       "<table border=\"1\" class=\"dataframe\">\n",
       "  <thead>\n",
       "    <tr style=\"text-align: right;\">\n",
       "      <th></th>\n",
       "      <th>Unnamed: 0</th>\n",
       "      <th>c_trust</th>\n",
       "      <th>sight_radius</th>\n",
       "      <th>reward_patch_dim</th>\n",
       "      <th>sim index</th>\n",
       "      <th>run index</th>\n",
       "      <th>time to first food</th>\n",
       "      <th>num birds failed</th>\n",
       "    </tr>\n",
       "  </thead>\n",
       "  <tbody>\n",
       "    <tr>\n",
       "      <th>2</th>\n",
       "      <td>2</td>\n",
       "      <td>0.0</td>\n",
       "      <td>5.0</td>\n",
       "      <td>4.0</td>\n",
       "      <td>1.0</td>\n",
       "      <td>0</td>\n",
       "      <td>39.111111</td>\n",
       "      <td>7.0</td>\n",
       "    </tr>\n",
       "    <tr>\n",
       "      <th>3</th>\n",
       "      <td>3</td>\n",
       "      <td>0.0</td>\n",
       "      <td>5.0</td>\n",
       "      <td>4.0</td>\n",
       "      <td>1.0</td>\n",
       "      <td>1</td>\n",
       "      <td>25.888889</td>\n",
       "      <td>4.0</td>\n",
       "    </tr>\n",
       "  </tbody>\n",
       "</table>\n",
       "</div>"
      ],
      "text/plain": [
       "   Unnamed: 0  c_trust  sight_radius  reward_patch_dim  sim index  run index  \\\n",
       "2           2      0.0           5.0               4.0        1.0          0   \n",
       "3           3      0.0           5.0               4.0        1.0          1   \n",
       "\n",
       "   time to first food  num birds failed  \n",
       "2           39.111111               7.0  \n",
       "3           25.888889               4.0  "
      ]
     },
     "metadata": {},
     "output_type": "display_data"
    },
    {
     "data": {
      "text/html": [
       "<div>\n",
       "<style scoped>\n",
       "    .dataframe tbody tr th:only-of-type {\n",
       "        vertical-align: middle;\n",
       "    }\n",
       "\n",
       "    .dataframe tbody tr th {\n",
       "        vertical-align: top;\n",
       "    }\n",
       "\n",
       "    .dataframe thead th {\n",
       "        text-align: right;\n",
       "    }\n",
       "</style>\n",
       "<table border=\"1\" class=\"dataframe\">\n",
       "  <thead>\n",
       "    <tr style=\"text-align: right;\">\n",
       "      <th></th>\n",
       "      <th>Unnamed: 0</th>\n",
       "      <th>c_trust</th>\n",
       "      <th>sight_radius</th>\n",
       "      <th>reward_patch_dim</th>\n",
       "      <th>sim index</th>\n",
       "      <th>run index</th>\n",
       "      <th>time to first food</th>\n",
       "      <th>num birds failed</th>\n",
       "    </tr>\n",
       "  </thead>\n",
       "  <tbody>\n",
       "    <tr>\n",
       "      <th>6</th>\n",
       "      <td>6</td>\n",
       "      <td>0.5</td>\n",
       "      <td>5.0</td>\n",
       "      <td>4.0</td>\n",
       "      <td>3.0</td>\n",
       "      <td>0</td>\n",
       "      <td>37.111111</td>\n",
       "      <td>6.0</td>\n",
       "    </tr>\n",
       "    <tr>\n",
       "      <th>7</th>\n",
       "      <td>7</td>\n",
       "      <td>0.5</td>\n",
       "      <td>5.0</td>\n",
       "      <td>4.0</td>\n",
       "      <td>3.0</td>\n",
       "      <td>1</td>\n",
       "      <td>36.444444</td>\n",
       "      <td>6.0</td>\n",
       "    </tr>\n",
       "  </tbody>\n",
       "</table>\n",
       "</div>"
      ],
      "text/plain": [
       "   Unnamed: 0  c_trust  sight_radius  reward_patch_dim  sim index  run index  \\\n",
       "6           6      0.5           5.0               4.0        3.0          0   \n",
       "7           7      0.5           5.0               4.0        3.0          1   \n",
       "\n",
       "   time to first food  num birds failed  \n",
       "6           37.111111               6.0  \n",
       "7           36.444444               6.0  "
      ]
     },
     "metadata": {},
     "output_type": "display_data"
    }
   ],
   "source": [
    "# 2. filter the rows of the table based on the case we are interested in. \n",
    "# Note that this part assumes that both distributed and clustered food cases \n",
    "\n",
    "# df_ignorers = df[ (df['c_trust'] == 0.5) ] \n",
    "# display(df_ignorers)\n",
    "# df_distr = df[ (df['reward_patch_dim'] == 1)] \n",
    "# display(df_distr)\n",
    "\n",
    "df_ignorers_distr = df[ (df['c_trust'] == 0) & (df['reward_patch_dim'] == 1) ]  # ignorers in distributed environments\n",
    "df_ignorers_clust = df[ (df['c_trust'] == 0) & (df['reward_patch_dim'] == 4) ] # ignorers in clustered environments\n",
    "df_comm_distr = df[ (df['c_trust'] == 0.5) & (df['reward_patch_dim'] == 1) ] # communicators in distributed\n",
    "df_comm_clust = df[ (df['c_trust'] == 0.5) & (df['reward_patch_dim'] == 4) ] # communicators in clustered \n",
    "\n",
    "display(df_ignorers_clust)\n",
    "display(df_comm_clust)"
   ]
  },
  {
   "cell_type": "code",
   "execution_count": 13,
   "metadata": {},
   "outputs": [
    {
     "name": "stdout",
     "output_type": "stream",
     "text": [
      "4    0.0\n",
      "5    2.0\n",
      "Name: num birds failed, dtype: float64\n"
     ]
    }
   ],
   "source": [
    "# 3. For each experimental condition (simulation), pull out the values in the columns corresponding to success measures\n",
    "\n",
    "# Distributed food statistics\n",
    "timetofood_ignorers_distr = df_ignorers_distr['time to first food']\n",
    "timetofood_comm_distr = df_comm_distr['time to first food']\n",
    "numfailed_ignorers_distr = df_ignorers_distr['num birds failed']\n",
    "numfailed_comm_distr = df_comm_distr['num birds failed']\n",
    "\n",
    "# Clustered food statistics \n",
    "timetofood_ignorers_clust = df_ignorers_clust['time to first food']\n",
    "timetofood_comm_clust = df_comm_clust['time to first food']\n",
    "numfailed_ignorers_clust = df_ignorers_clust['num birds failed']\n",
    "numfailed_comm_clust = df_comm_clust['num birds failed']\n",
    "\n",
    "print(numfailed_comm_distr)"
   ]
  },
  {
   "cell_type": "code",
   "execution_count": 25,
   "metadata": {},
   "outputs": [],
   "source": [
    "# DISTRIBUTED\n",
    "\n",
    "#%% Mann-Whitney statistical tests to test for statistical significance of differences\n",
    "# between two types of agents (Ignorers vs Communicators.)\n",
    "\n",
    "# # Environmental condition 1: Distributed food statistics \n",
    "# #   Performance metric 1: Time to food \n",
    "# mwu_time = stats.mannwhitneyu(timetofood_ignorers_distr, timetofood_comm_distr, method='auto', alternative='two-sided')\n",
    "\n",
    "# #   Performance metric 2: Number of birds that failed to reach food \n",
    "# mwu_numfailed = stats.mannwhitneyu(numfailed_ignorers_distr, numfailed_comm_distr, method='auto', alternative='two-sided')"
   ]
  },
  {
   "cell_type": "code",
   "execution_count": 24,
   "metadata": {},
   "outputs": [],
   "source": [
    "# CLUSTERED\n",
    "\n",
    "#%% Mann-Whitney statistical tests to test for statistical significance of differences\n",
    "# between two types of agents (Ignorers vs Communicators.)\n",
    "\n",
    "# # Environmental condition 1: Distributed food statistics \n",
    "# #   Performance metric 1: Time to food \n",
    "# mwu_time = stats.mannwhitneyu(timetofood_ignorers_clust, timetofood_comm_clust, method='auto', alternative='two-sided')\n",
    "\n",
    "# #   Performance metric 2: Number of birds that failed to reach food \n",
    "# mwu_numfailed = stats.mannwhitneyu(numfailed_ignorers_clust, numfailed_comm_clust, method='auto', alternative='two-sided')\n",
    "\n"
   ]
  },
  {
   "cell_type": "code",
   "execution_count": 23,
   "metadata": {},
   "outputs": [
    {
     "name": "stdout",
     "output_type": "stream",
     "text": [
      "Showing results for distributed food\n"
     ]
    },
    {
     "data": {
      "image/png": "[encoded data removed]",
      "text/plain": [
       "<Figure size 640x480 with 1 Axes>"
      ]
     },
     "metadata": {},
     "output_type": "display_data"
    },
    {
     "data": {
      "image/png": "[encoded data removed]",
      "text/plain": [
       "<Figure size 640x480 with 1 Axes>"
      ]
     },
     "metadata": {},
     "output_type": "display_data"
    }
   ],
   "source": [
    "# TO DO: Make this section a function \n",
    "\n",
    "food_statistics = 'distributed'\n",
    "\n",
    "if food_statistics == 'distributed':\n",
    "    timetofood_ignorers = timetofood_ignorers_distr\n",
    "    timetofood_communicators = timetofood_comm_distr\n",
    "    numbirdsfailed_ignorers = numfailed_ignorers_distr\n",
    "    numbirdsfailed_communicators = numfailed_comm_distr\n",
    "\n",
    "elif food_statistics == 'clustered':\n",
    "    timetofood_ignorers = timetofood_ignorers_clust\n",
    "    timetofood_communicators = timetofood_comm_clust\n",
    "    numbirdsfailed_ignorers = numfailed_ignorers_clust\n",
    "    numbirdsfailed_communicators = numfailed_comm_clust\n",
    "\n",
    "median_timetofood_ignorers = np.median(timetofood_ignorers)\n",
    "median_timetofood_communicators = np.median(timetofood_communicators)\n",
    "median_numbirdsfailed_ignorers = np.median(numbirdsfailed_ignorers)\n",
    "median_numbirdsfailed_communicators = np.median(numbirdsfailed_communicators)\n",
    "\n",
    "\n",
    "#%% Plots comparing Ignorers and Communicators for one of the food conditions\n",
    "\n",
    "doLegend = True\n",
    "\n",
    "print('Showing results for ' + food_statistics +  ' food')\n",
    "\n",
    "# 1) Time to food\n",
    "color_ignorers = 'blue'\n",
    "color_communicators = 'red'\n",
    "fig, ax = plt.subplots()\n",
    "hist1data = ax.hist(timetofood_ignorers, bins=np.arange(N_timesteps + 2), color=color_ignorers, alpha=0.5, label='Ignorers')\n",
    "hist2data = ax.hist(timetofood_communicators,  bins=np.arange(N_timesteps + 2),  color=color_communicators, alpha=0.5, label='Communicators')\n",
    "\n",
    "ymin1, ymin2 = 0, 0\n",
    "ymax1, ymax2 = np.max(hist1data[0]), np.max(hist2data[0]) \n",
    "ax.vlines(median_timetofood_ignorers, ymin1, ymax1, color=color_ignorers, linestyles='dashed')\n",
    "ax.vlines(median_timetofood_communicators, ymin2, ymax2,  color=color_communicators, linestyles='dashed')\n",
    "ax.set_xlabel('Time to food location')\n",
    "ax.set_ylabel('Number of populations')\n",
    "ax.set_xlim([0, N_timesteps+2 ])\n",
    "ax.set_xticks(np.linspace(0, N_timesteps, 6).astype(int))\n",
    "if doLegend:\n",
    "    ax.legend(loc='upper right', bbox_to_anchor=(1, 1), \n",
    "          labelcolor=[color_ignorers, color_communicators], handlelength=0, handletextpad=0,)\n",
    "# also try labelcolor='linecolor'\n",
    "fig.tight_layout()\n",
    "\n",
    "# 2) Number of birds that failed\n",
    "fig, ax = plt.subplots()\n",
    "hist1data = ax.hist(numbirdsfailed_ignorers, bins=np.arange(N_agents), color=color_ignorers, alpha=0.5, label='Ignorers')\n",
    "hist2data = ax.hist(numbirdsfailed_communicators, bins=np.arange(N_agents),  color=color_communicators, alpha=0.5, label='Communicators')\n",
    "\n",
    "ymin1, ymin2 = 0, 0\n",
    "ymax1, ymax2 = np.max(hist1data[0]), np.max(hist2data[0]) \n",
    "ax.vlines(median_numbirdsfailed_ignorers, ymin1, ymax1, color=color_ignorers, linestyles='dashed')\n",
    "ax.vlines(median_numbirdsfailed_communicators, ymin2, ymax2,  color=color_communicators, linestyles='dashed')\n",
    "ax.set_xlabel('Number of failed foragers')\n",
    "ax.set_ylabel('Number of populations')\n",
    "ax.set_xlim([0, N_agents])\n",
    "ax.set_xticks(np.linspace(0, N_agents, N_agents+1).astype(int))\n",
    "if doLegend:\n",
    "    ax.legend(loc='upper right', bbox_to_anchor=(1, 1), \n",
    "              labelcolor=[color_ignorers, color_communicators], handlelength=0, handletextpad=0,)\n",
    "fig.tight_layout()\n"
   ]
  },
  {
   "cell_type": "code",
   "execution_count": 22,
   "metadata": {},
   "outputs": [
    {
     "data": {
      "text/plain": [
       "(array([0., 2., 0., 0., 0., 0., 0., 0.]),\n",
       " array([0., 1., 2., 3., 4., 5., 6., 7., 8.]),\n",
       " <BarContainer object of 8 artists>)"
      ]
     },
     "execution_count": 22,
     "metadata": {},
     "output_type": "execute_result"
    }
   ],
   "source": [
    "hist1data"
   ]
  },
  {
   "cell_type": "code",
   "execution_count": null,
   "metadata": {},
   "outputs": [],
   "source": []
  }
 ],
 "metadata": {
  "kernelspec": {
   "display_name": "Python 3.11.5 ('elm_collab')",
   "language": "python",
   "name": "python3"
  },
  "language_info": {
   "codemirror_mode": {
    "name": "ipython",
    "version": 3
   },
   "file_extension": ".py",
   "mimetype": "text/x-python",
   "name": "python",
   "nbconvert_exporter": "python",
   "pygments_lexer": "ipython3",
   "version": "3.11.5"
  },
  "orig_nbformat": 4,
  "vscode": {
   "interpreter": {
    "hash": "5883c200001963f9c71d117b2067039ffcfe95d2ec18fe3e67d4d08d7043acc0"
   }
  }
 },
 "nbformat": 4,
 "nbformat_minor": 2
}
