{
 "cells": [
  {
   "cell_type": "code",
   "execution_count": 72,
   "metadata": {},
   "outputs": [
    {
     "data": {
      "text/plain": [
       "<module 'agents' from 'c:\\\\Users\\\\admin\\\\Dropbox\\\\Code\\\\Basis-code\\\\new-collaborative-intelligence\\\\mx_refactored\\\\agents.py'>"
      ]
     },
     "execution_count": 72,
     "metadata": {},
     "output_type": "execute_result"
    }
   ],
   "source": [
    "import foraging_toolkit as ft\n",
    "import simulation \n",
    "import environments \n",
    "import agents\n",
    "import numpy as np\n",
    "import matplotlib.pyplot as plt \n",
    "import matplotlib.animation as animation\n",
    "from matplotlib.colors import LogNorm, Normalize\n",
    "from scipy import stats\n",
    "# import figures \n",
    "import utils as util\n",
    "from importlib import reload\n",
    "reload(simulation)\n",
    "reload(environments)\n",
    "reload(agents)"
   ]
  },
  {
   "cell_type": "code",
   "execution_count": 73,
   "metadata": {},
   "outputs": [],
   "source": [
    "# Create an initialize a new environment \n",
    "env = environments.Environment(edge_size=30, N_total_food_units=4, patch_dim=1, max_step_size=3)\n",
    "env.add_food_patches(food_statistics_type=\"drop_food_once\")\n",
    "\n",
    "# Create a new simulation with that environment and add agents into the simulation \n",
    "# want to add in it\n",
    "N_frames = 150\n",
    "sim = simulation.SimulateCommunicators(env, N_frames, N_agents=2, c_trust=0, sight_radius=40)\n",
    "sim.run()\n"
   ]
  },
  {
   "cell_type": "code",
   "execution_count": 74,
   "metadata": {},
   "outputs": [
    {
     "name": "stdout",
     "output_type": "stream",
     "text": [
      "        x    y  time  bird    type\n",
      "0    18.0  6.0     1     2  random\n",
      "1    17.0  8.0     2     2  random\n",
      "2    14.0  8.0     3     2  random\n",
      "3    12.0  6.0     4     2  random\n",
      "4    12.0  5.0     5     2  random\n",
      "..    ...  ...   ...   ...     ...\n",
      "145  10.0  3.0   146     2  random\n",
      "146  10.0  3.0   147     2  random\n",
      "147  10.0  3.0   148     2  random\n",
      "148  10.0  3.0   149     2  random\n",
      "149   0.0  0.0   150     2  random\n",
      "\n",
      "[150 rows x 5 columns]\n"
     ]
    }
   ],
   "source": [
    "print(sim.all_birdsDF[sim.all_birdsDF[\"bird\"] == 2])"
   ]
  },
  {
   "cell_type": "code",
   "execution_count": 77,
   "metadata": {},
   "outputs": [
    {
     "name": "stdout",
     "output_type": "stream",
     "text": [
      "    x   y  time\n",
      "0  10   3     6\n",
      "1  26  14     6\n",
      "2  14  20     6\n",
      "3  21  21     6\n"
     ]
    }
   ],
   "source": [
    "print(sim.all_rewardsDF[sim.all_rewardsDF[\"time\"] == 6]) "
   ]
  },
  {
   "cell_type": "code",
   "execution_count": 76,
   "metadata": {},
   "outputs": [
    {
     "data": {
      "application/vnd.plotly.v1+json": {
       "config": {
        "plotlyServerURL": "https://plot.ly"
       },
       "data": [
        {
         "hovertemplate": "bird=1<br>time=1<br>x=%{x}<br>y=%{y}<extra></extra>",
         "legendgroup": "1",
         "marker": {
          "color": "#636efa",
          "line": {
           "width": 3
          },
          "opacity": 0.8,
          "size": 14,
          "symbol": "square"
         },
         "mode": "markers",
         "name": "1",
         "orientation": "v",
         "showlegend": true,
         "type": "scatter",
         "x": [
          23
         ],
         "xaxis": "x",
         "y": [
          2
         ],
         "yaxis": "y"
        },
        {
         "hovertemplate": "bird=2<br>time=1<br>x=%{x}<br>y=%{y}<extra></extra>",
         "legendgroup": "2",
         "marker": {
          "color": "#EF553B",
          "line": {
           "width": 3
          },
          "opacity": 0.8,
          "size": 14,
          "symbol": "square"
         },
         "mode": "markers",
         "name": "2",
         "orientation": "v",
         "showlegend": true,
         "type": "scatter",
         "x": [
          18
         ],
         "xaxis": "x",
         "y": [
          6
         ],
         "yaxis": "y"
        },
        {
         "hovertemplate": "bird=reward<br>time=1<br>x=%{x}<br>y=%{y}<extra></extra>",
         "legendgroup": "reward",
         "marker": {
          "color": "yellow",
          "symbol": "square"
         },
         "mode": "markers",
         "name": "reward",
         "orientation": "v",
         "showlegend": false,
         "type": "scatter",
         "x": [
          10,
          26,
          14,
          21
         ],
         "xaxis": "x",
         "y": [
          3,
          14,
          20,
          21
         ],
         "yaxis": "y"
        }
       ],
       "frames": [
        {
         "data": [
          {
           "hovertemplate": "bird=1<br>time=1<br>x=%{x}<br>y=%{y}<extra></extra>",
           "legendgroup": "1",
           "marker": {
            "color": "#636efa",
            "line": {
             "width": 3
            },
            "opacity": 0.8,
            "size": 14,
            "symbol": "square"
           },
           "mode": "markers",
           "name": "1",
           "orientation": "v",
           "showlegend": true,
           "type": "scatter",
           "x": [
            23
           ],
           "xaxis": "x",
           "y": [
            2
           ],
           "yaxis": "y"
          },
          {
           "hovertemplate": "bird=2<br>time=1<br>x=%{x}<br>y=%{y}<extra></extra>",
           "legendgroup": "2",
           "marker": {
            "color": "#EF553B",
            "line": {
             "width": 3
            },
            "opacity": 0.8,
            "size": 14,
            "symbol": "square"
           },
           "mode": "markers",
           "name": "2",
           "orientation": "v",
           "showlegend": true,
           "type": "scatter",
           "x": [
            18
           ],
           "xaxis": "x",
           "y": [
            6
           ],
           "yaxis": "y"
          },
          {
           "hovertemplate": "bird=reward<br>time=1<br>x=%{x}<br>y=%{y}<extra></extra>",
           "legendgroup": "reward",
           "marker": {
            "color": "yellow",
            "symbol": "square"
           },
           "mode": "markers",
           "name": "reward",
           "orientation": "v",
           "showlegend": false,
           "type": "scatter",
           "x": [
            10,
            26,
            14,
            21
           ],
           "xaxis": "x",
           "y": [
            3,
            14,
            20,
            21
           ],
           "yaxis": "y"
          }
         ],
         "name": "1"
        },
        {
         "data": [
          {
           "hovertemplate": "bird=1<br>time=2<br>x=%{x}<br>y=%{y}<extra></extra>",
           "legendgroup": "1",
           "marker": {
            "color": "#636efa",
            "line": {
             "width": 3
            },
            "opacity": 0.8,
            "size": 14,
            "symbol": "square"
           },
           "mode": "markers",
           "name": "1",
           "orientation": "v",
           "showlegend": true,
           "type": "scatter",
           "x": [
            25
           ],
           "xaxis": "x",
           "y": [
            1
           ],
           "yaxis": "y"
          },
          {
           "hovertemplate": "bird=2<br>time=2<br>x=%{x}<br>y=%{y}<extra></extra>",
           "legendgroup": "2",
           "marker": {
            "color": "#EF553B",
            "line": {
             "width": 3
            },
            "opacity": 0.8,
            "size": 14,
            "symbol": "square"
           },
           "mode": "markers",
           "name": "2",
           "orientation": "v",
           "showlegend": true,
           "type": "scatter",
           "x": [
            17
           ],
           "xaxis": "x",
           "y": [
            8
           ],
           "yaxis": "y"
          },
          {
           "hovertemplate": "bird=reward<br>time=2<br>x=%{x}<br>y=%{y}<extra></extra>",
           "legendgroup": "reward",
           "marker": {
            "color": "yellow",
            "symbol": "square"
           },
           "mode": "markers",
           "name": "reward",
           "orientation": "v",
           "showlegend": false,
           "type": "scatter",
           "x": [
            10,
            26,
            14,
            21
           ],
           "xaxis": "x",
           "y": [
            3,
            14,
            20,
            21
           ],
           "yaxis": "y"
          }
         ],
         "name": "2"
        },
        {
         "data": [
          {
           "hovertemplate": "bird=1<br>time=3<br>x=%{x}<br>y=%{y}<extra></extra>",
           "legendgroup": "1",
           "marker": {
            "color": "#636efa",
            "line": {
             "width": 3
            },
            "opacity": 0.8,
            "size": 14,
            "symbol": "square"
           },
           "mode": "markers",
           "name": "1",
           "orientation": "v",
           "showlegend": true,
           "type": "scatter",
           "x": [
            23
           ],
           "xaxis": "x",
           "y": [
            2
           ],
           "yaxis": "y"
          },
          {
           "hovertemplate": "bird=2<br>time=3<br>x=%{x}<br>y=%{y}<extra></extra>",
           "legendgroup": "2",
           "marker": {
            "color": "#EF553B",
            "line": {
             "width": 3
            },
            "opacity": 0.8,
            "size": 14,
            "symbol": "square"
           },
           "mode": "markers",
           "name": "2",
           "orientation": "v",
           "showlegend": true,
           "type": "scatter",
           "x": [
            14
           ],
           "xaxis": "x",
           "y": [
            8
           ],
           "yaxis": "y"
          },
          {
           "hovertemplate": "bird=reward<br>time=3<br>x=%{x}<br>y=%{y}<extra></extra>",
           "legendgroup": "reward",
           "marker": {
            "color": "yellow",
            "symbol": "square"
           },
           "mode": "markers",
           "name": "reward",
           "orientation": "v",
           "showlegend": false,
           "type": "scatter",
           "x": [
            10,
            26,
            14,
            21
           ],
           "xaxis": "x",
           "y": [
            3,
            14,
            20,
            21
           ],
           "yaxis": "y"
          }
         ],
         "name": "3"
        },
        {
         "data": [
          {
           "hovertemplate": "bird=1<br>time=4<br>x=%{x}<br>y=%{y}<extra></extra>",
           "legendgroup": "1",
           "marker": {
            "color": "#636efa",
            "line": {
             "width": 3
            },
            "opacity": 0.8,
            "size": 14,
            "symbol": "square"
           },
           "mode": "markers",
           "name": "1",
           "orientation": "v",
           "showlegend": true,
           "type": "scatter",
           "x": [
            24
           ],
           "xaxis": "x",
           "y": [
            4
           ],
           "yaxis": "y"
          },
          {
           "hovertemplate": "bird=2<br>time=4<br>x=%{x}<br>y=%{y}<extra></extra>",
           "legendgroup": "2",
           "marker": {
            "color": "#EF553B",
            "line": {
             "width": 3
            },
            "opacity": 0.8,
            "size": 14,
            "symbol": "square"
           },
           "mode": "markers",
           "name": "2",
           "orientation": "v",
           "showlegend": true,
           "type": "scatter",
           "x": [
            12
           ],
           "xaxis": "x",
           "y": [
            6
           ],
           "yaxis": "y"
          },
          {
           "hovertemplate": "bird=reward<br>time=4<br>x=%{x}<br>y=%{y}<extra></extra>",
           "legendgroup": "reward",
           "marker": {
            "color": "yellow",
            "symbol": "square"
           },
           "mode": "markers",
           "name": "reward",
           "orientation": "v",
           "showlegend": false,
           "type": "scatter",
           "x": [
            10,
            26,
            14,
            21
           ],
           "xaxis": "x",
           "y": [
            3,
            14,
            20,
            21
           ],
           "yaxis": "y"
          }
         ],
         "name": "4"
        },
        {
         "data": [
          {
           "hovertemplate": "bird=1<br>time=5<br>x=%{x}<br>y=%{y}<extra></extra>",
           "legendgroup": "1",
           "marker": {
            "color": "#636efa",
            "line": {
             "width": 3
            },
            "opacity": 0.8,
            "size": 14,
            "symbol": "square"
           },
           "mode": "markers",
           "name": "1",
           "orientation": "v",
           "showlegend": true,
           "type": "scatter",
           "x": [
            25
           ],
           "xaxis": "x",
           "y": [
            6
           ],
           "yaxis": "y"
          },
          {
           "hovertemplate": "bird=2<br>time=5<br>x=%{x}<br>y=%{y}<extra></extra>",
           "legendgroup": "2",
           "marker": {
            "color": "#EF553B",
            "line": {
             "width": 3
            },
            "opacity": 0.8,
            "size": 14,
            "symbol": "square"
           },
           "mode": "markers",
           "name": "2",
           "orientation": "v",
           "showlegend": true,
           "type": "scatter",
           "x": [
            12
           ],
           "xaxis": "x",
           "y": [
            5
           ],
           "yaxis": "y"
          },
          {
           "hovertemplate": "bird=reward<br>time=5<br>x=%{x}<br>y=%{y}<extra></extra>",
           "legendgroup": "reward",
           "marker": {
            "color": "yellow",
            "symbol": "square"
           },
           "mode": "markers",
           "name": "reward",
           "orientation": "v",
           "showlegend": false,
           "type": "scatter",
           "x": [
            10,
            26,
            14,
            21
           ],
           "xaxis": "x",
           "y": [
            3,
            14,
            20,
            21
           ],
           "yaxis": "y"
          }
         ],
         "name": "5"
        },
        {
         "data": [
          {
           "hovertemplate": "bird=1<br>time=6<br>x=%{x}<br>y=%{y}<extra></extra>",
           "legendgroup": "1",
           "marker": {
            "color": "#636efa",
            "line": {
             "width": 3
            },
            "opacity": 0.8,
            "size": 14,
            "symbol": "square"
           },
           "mode": "markers",
           "name": "1",
           "orientation": "v",
           "showlegend": true,
           "type": "scatter",
           "x": [
            25
           ],
           "xaxis": "x",
           "y": [
            3
           ],
           "yaxis": "y"
          },
          {
           "hovertemplate": "bird=2<br>time=6<br>x=%{x}<br>y=%{y}<extra></extra>",
           "legendgroup": "2",
           "marker": {
            "color": "#EF553B",
            "line": {
             "width": 3
            },
            "opacity": 0.8,
            "size": 14,
            "symbol": "square"
           },
           "mode": "markers",
           "name": "2",
           "orientation": "v",
           "showlegend": true,
           "type": "scatter",
           "x": [
            10
           ],
           "xaxis": "x",
           "y": [
            3
           ],
           "yaxis": "y"
          },
          {
           "hovertemplate": "bird=reward<br>time=6<br>x=%{x}<br>y=%{y}<extra></extra>",
           "legendgroup": "reward",
           "marker": {
            "color": "yellow",
            "symbol": "square"
           },
           "mode": "markers",
           "name": "reward",
           "orientation": "v",
           "showlegend": false,
           "type": "scatter",
           "x": [
            10,
            26,
            14,
            21
           ],
           "xaxis": "x",
           "y": [
            3,
            14,
            20,
            21
           ],
           "yaxis": "y"
          }
         ],
         "name": "6"
        },
        {
         "data": [
          {
           "hovertemplate": "bird=1<br>time=7<br>x=%{x}<br>y=%{y}<extra></extra>",
           "legendgroup": "1",
           "marker": {
            "color": "#636efa",
            "line": {
             "width": 3
            },
            "opacity": 0.8,
            "size": 14,
            "symbol": "square"
           },
           "mode": "markers",
           "name": "1",
           "orientation": "v",
           "showlegend": true,
           "type": "scatter",
           "x": [
            26
           ],
           "xaxis": "x",
           "y": [
            4
           ],
           "yaxis": "y"
          },
          {
           "hovertemplate": "bird=2<br>time=7<br>x=%{x}<br>y=%{y}<extra></extra>",
           "legendgroup": "2",
           "marker": {
            "color": "#EF553B",
            "line": {
             "width": 3
            },
            "opacity": 0.8,
            "size": 14,
            "symbol": "square"
           },
           "mode": "markers",
           "name": "2",
           "orientation": "v",
           "showlegend": true,
           "type": "scatter",
           "x": [
            10
           ],
           "xaxis": "x",
           "y": [
            3
           ],
           "yaxis": "y"
          },
          {
           "hovertemplate": "bird=reward<br>time=7<br>x=%{x}<br>y=%{y}<extra></extra>",
           "legendgroup": "reward",
           "marker": {
            "color": "yellow",
            "symbol": "square"
           },
           "mode": "markers",
           "name": "reward",
           "orientation": "v",
           "showlegend": false,
           "type": "scatter",
           "x": [
            10,
            26,
            14,
            21
           ],
           "xaxis": "x",
           "y": [
            3,
            14,
            20,
            21
           ],
           "yaxis": "y"
          }
         ],
         "name": "7"
        },
        {
         "data": [
          {
           "hovertemplate": "bird=1<br>time=8<br>x=%{x}<br>y=%{y}<extra></extra>",
           "legendgroup": "1",
           "marker": {
            "color": "#636efa",
            "line": {
             "width": 3
            },
            "opacity": 0.8,
            "size": 14,
            "symbol": "square"
           },
           "mode": "markers",
           "name": "1",
           "orientation": "v",
           "showlegend": true,
           "type": "scatter",
           "x": [
            25
           ],
           "xaxis": "x",
           "y": [
            2
           ],
           "yaxis": "y"
          },
          {
           "hovertemplate": "bird=2<br>time=8<br>x=%{x}<br>y=%{y}<extra></extra>",
           "legendgroup": "2",
           "marker": {
            "color": "#EF553B",
            "line": {
             "width": 3
            },
            "opacity": 0.8,
            "size": 14,
            "symbol": "square"
           },
           "mode": "markers",
           "name": "2",
           "orientation": "v",
           "showlegend": true,
           "type": "scatter",
           "x": [
            10
           ],
           "xaxis": "x",
           "y": [
            3
           ],
           "yaxis": "y"
          },
          {
           "hovertemplate": "bird=reward<br>time=8<br>x=%{x}<br>y=%{y}<extra></extra>",
           "legendgroup": "reward",
           "marker": {
            "color": "yellow",
            "symbol": "square"
           },
           "mode": "markers",
           "name": "reward",
           "orientation": "v",
           "showlegend": false,
           "type": "scatter",
           "x": [
            10,
            26,
            14,
            21
           ],
           "xaxis": "x",
           "y": [
            3,
            14,
            20,
            21
           ],
           "yaxis": "y"
          }
         ],
         "name": "8"
        },
        {
         "data": [
          {
           "hovertemplate": "bird=1<br>time=9<br>x=%{x}<br>y=%{y}<extra></extra>",
           "legendgroup": "1",
           "marker": {
            "color": "#636efa",
            "line": {
             "width": 3
            },
            "opacity": 0.8,
            "size": 14,
            "symbol": "square"
           },
           "mode": "markers",
           "name": "1",
           "orientation": "v",
           "showlegend": true,
           "type": "scatter",
           "x": [
            28
           ],
           "xaxis": "x",
           "y": [
            2
           ],
           "yaxis": "y"
          },
          {
           "hovertemplate": "bird=2<br>time=9<br>x=%{x}<br>y=%{y}<extra></extra>",
           "legendgroup": "2",
           "marker": {
            "color": "#EF553B",
            "line": {
             "width": 3
            },
            "opacity": 0.8,
            "size": 14,
            "symbol": "square"
           },
           "mode": "markers",
           "name": "2",
           "orientation": "v",
           "showlegend": true,
           "type": "scatter",
           "x": [
            10
           ],
           "xaxis": "x",
           "y": [
            3
           ],
           "yaxis": "y"
          },
          {
           "hovertemplate": "bird=reward<br>time=9<br>x=%{x}<br>y=%{y}<extra></extra>",
           "legendgroup": "reward",
           "marker": {
            "color": "yellow",
            "symbol": "square"
           },
           "mode": "markers",
           "name": "reward",
           "orientation": "v",
           "showlegend": false,
           "type": "scatter",
           "x": [
            26,
            14,
            21
           ],
           "xaxis": "x",
           "y": [
            14,
            20,
            21
           ],
           "yaxis": "y"
          }
         ],
         "name": "9"
        },
        {
         "data": [
          {
           "hovertemplate": "bird=1<br>time=10<br>x=%{x}<br>y=%{y}<extra></extra>",
           "legendgroup": "1",
           "marker": {
            "color": "#636efa",
            "line": {
             "width": 3
            },
            "opacity": 0.8,
            "size": 14,
            "symbol": "square"
           },
           "mode": "markers",
           "name": "1",
           "orientation": "v",
           "showlegend": true,
           "type": "scatter",
           "x": [
            28
           ],
           "xaxis": "x",
           "y": [
            2
           ],
           "yaxis": "y"
          },
          {
           "hovertemplate": "bird=2<br>time=10<br>x=%{x}<br>y=%{y}<extra></extra>",
           "legendgroup": "2",
           "marker": {
            "color": "#EF553B",
            "line": {
             "width": 3
            },
            "opacity": 0.8,
            "size": 14,
            "symbol": "square"
           },
           "mode": "markers",
           "name": "2",
           "orientation": "v",
           "showlegend": true,
           "type": "scatter",
           "x": [
            10
           ],
           "xaxis": "x",
           "y": [
            3
           ],
           "yaxis": "y"
          },
          {
           "hovertemplate": "bird=reward<br>time=10<br>x=%{x}<br>y=%{y}<extra></extra>",
           "legendgroup": "reward",
           "marker": {
            "color": "yellow",
            "symbol": "square"
           },
           "mode": "markers",
           "name": "reward",
           "orientation": "v",
           "showlegend": false,
           "type": "scatter",
           "x": [
            26,
            14,
            21
           ],
           "xaxis": "x",
           "y": [
            14,
            20,
            21
           ],
           "yaxis": "y"
          }
         ],
         "name": "10"
        },
        {
         "data": [
          {
           "hovertemplate": "bird=1<br>time=11<br>x=%{x}<br>y=%{y}<extra></extra>",
           "legendgroup": "1",
           "marker": {
            "color": "#636efa",
            "line": {
             "width": 3
            },
            "opacity": 0.8,
            "size": 14,
            "symbol": "square"
           },
           "mode": "markers",
           "name": "1",
           "orientation": "v",
           "showlegend": true,
           "type": "scatter",
           "x": [
            29
           ],
           "xaxis": "x",
           "y": [
            3
           ],
           "yaxis": "y"
          },
          {
           "hovertemplate": "bird=2<br>time=11<br>x=%{x}<br>y=%{y}<extra></extra>",
           "legendgroup": "2",
           "marker": {
            "color": "#EF553B",
            "line": {
             "width": 3
            },
            "opacity": 0.8,
            "size": 14,
            "symbol": "square"
           },
           "mode": "markers",
           "name": "2",
           "orientation": "v",
           "showlegend": true,
           "type": "scatter",
           "x": [
            10
           ],
           "xaxis": "x",
           "y": [
            3
           ],
           "yaxis": "y"
          },
          {
           "hovertemplate": "bird=reward<br>time=11<br>x=%{x}<br>y=%{y}<extra></extra>",
           "legendgroup": "reward",
           "marker": {
            "color": "yellow",
            "symbol": "square"
           },
           "mode": "markers",
           "name": "reward",
           "orientation": "v",
           "showlegend": false,
           "type": "scatter",
           "x": [
            26,
            14,
            21
           ],
           "xaxis": "x",
           "y": [
            14,
            20,
            21
           ],
           "yaxis": "y"
          }
         ],
         "name": "11"
        },
        {
         "data": [
          {
           "hovertemplate": "bird=1<br>time=12<br>x=%{x}<br>y=%{y}<extra></extra>",
           "legendgroup": "1",
           "marker": {
            "color": "#636efa",
            "line": {
             "width": 3
            },
            "opacity": 0.8,
            "size": 14,
            "symbol": "square"
           },
           "mode": "markers",
           "name": "1",
           "orientation": "v",
           "showlegend": true,
           "type": "scatter",
           "x": [
            28
           ],
           "xaxis": "x",
           "y": [
            4
           ],
           "yaxis": "y"
          },
          {
           "hovertemplate": "bird=2<br>time=12<br>x=%{x}<br>y=%{y}<extra></extra>",
           "legendgroup": "2",
           "marker": {
            "color": "#EF553B",
            "line": {
             "width": 3
            },
            "opacity": 0.8,
            "size": 14,
            "symbol": "square"
           },
           "mode": "markers",
           "name": "2",
           "orientation": "v",
           "showlegend": true,
           "type": "scatter",
           "x": [
            10
           ],
           "xaxis": "x",
           "y": [
            3
           ],
           "yaxis": "y"
          },
          {
           "hovertemplate": "bird=reward<br>time=12<br>x=%{x}<br>y=%{y}<extra></extra>",
           "legendgroup": "reward",
           "marker": {
            "color": "yellow",
            "symbol": "square"
           },
           "mode": "markers",
           "name": "reward",
           "orientation": "v",
           "showlegend": false,
           "type": "scatter",
           "x": [
            26,
            14,
            21
           ],
           "xaxis": "x",
           "y": [
            14,
            20,
            21
           ],
           "yaxis": "y"
          }
         ],
         "name": "12"
        },
        {
         "data": [
          {
           "hovertemplate": "bird=1<br>time=13<br>x=%{x}<br>y=%{y}<extra></extra>",
           "legendgroup": "1",
           "marker": {
            "color": "#636efa",
            "line": {
             "width": 3
            },
            "opacity": 0.8,
            "size": 14,
            "symbol": "square"
           },
           "mode": "markers",
           "name": "1",
           "orientation": "v",
           "showlegend": true,
           "type": "scatter",
           "x": [
            26
           ],
           "xaxis": "x",
           "y": [
            5
           ],
           "yaxis": "y"
          },
          {
           "hovertemplate": "bird=2<br>time=13<br>x=%{x}<br>y=%{y}<extra></extra>",
           "legendgroup": "2",
           "marker": {
            "color": "#EF553B",
            "line": {
             "width": 3
            },
            "opacity": 0.8,
            "size": 14,
            "symbol": "square"
           },
           "mode": "markers",
           "name": "2",
           "orientation": "v",
           "showlegend": true,
           "type": "scatter",
           "x": [
            10
           ],
           "xaxis": "x",
           "y": [
            3
           ],
           "yaxis": "y"
          },
          {
           "hovertemplate": "bird=reward<br>time=13<br>x=%{x}<br>y=%{y}<extra></extra>",
           "legendgroup": "reward",
           "marker": {
            "color": "yellow",
            "symbol": "square"
           },
           "mode": "markers",
           "name": "reward",
           "orientation": "v",
           "showlegend": false,
           "type": "scatter",
           "x": [
            26,
            14,
            21
           ],
           "xaxis": "x",
           "y": [
            14,
            20,
            21
           ],
           "yaxis": "y"
          }
         ],
         "name": "13"
        },
        {
         "data": [
          {
           "hovertemplate": "bird=1<br>time=14<br>x=%{x}<br>y=%{y}<extra></extra>",
           "legendgroup": "1",
           "marker": {
            "color": "#636efa",
            "line": {
             "width": 3
            },
            "opacity": 0.8,
            "size": 14,
            "symbol": "square"
           },
           "mode": "markers",
           "name": "1",
           "orientation": "v",
           "showlegend": true,
           "type": "scatter",
           "x": [
            23
           ],
           "xaxis": "x",
           "y": [
            5
           ],
           "yaxis": "y"
          },
          {
           "hovertemplate": "bird=2<br>time=14<br>x=%{x}<br>y=%{y}<extra></extra>",
           "legendgroup": "2",
           "marker": {
            "color": "#EF553B",
            "line": {
             "width": 3
            },
            "opacity": 0.8,
            "size": 14,
            "symbol": "square"
           },
           "mode": "markers",
           "name": "2",
           "orientation": "v",
           "showlegend": true,
           "type": "scatter",
           "x": [
            10
           ],
           "xaxis": "x",
           "y": [
            3
           ],
           "yaxis": "y"
          },
          {
           "hovertemplate": "bird=reward<br>time=14<br>x=%{x}<br>y=%{y}<extra></extra>",
           "legendgroup": "reward",
           "marker": {
            "color": "yellow",
            "symbol": "square"
           },
           "mode": "markers",
           "name": "reward",
           "orientation": "v",
           "showlegend": false,
           "type": "scatter",
           "x": [
            26,
            14,
            21
           ],
           "xaxis": "x",
           "y": [
            14,
            20,
            21
           ],
           "yaxis": "y"
          }
         ],
         "name": "14"
        },
        {
         "data": [
          {
           "hovertemplate": "bird=1<br>time=15<br>x=%{x}<br>y=%{y}<extra></extra>",
           "legendgroup": "1",
           "marker": {
            "color": "#636efa",
            "line": {
             "width": 3
            },
            "opacity": 0.8,
            "size": 14,
            "symbol": "square"
           },
           "mode": "markers",
           "name": "1",
           "orientation": "v",
           "showlegend": true,
           "type": "scatter",
           "x": [
            24
           ],
           "xaxis": "x",
           "y": [
            3
           ],
           "yaxis": "y"
          },
          {
           "hovertemplate": "bird=2<br>time=15<br>x=%{x}<br>y=%{y}<extra></extra>",
           "legendgroup": "2",
           "marker": {
            "color": "#EF553B",
            "line": {
             "width": 3
            },
            "opacity": 0.8,
            "size": 14,
            "symbol": "square"
           },
           "mode": "markers",
           "name": "2",
           "orientation": "v",
           "showlegend": true,
           "type": "scatter",
           "x": [
            10
           ],
           "xaxis": "x",
           "y": [
            3
           ],
           "yaxis": "y"
          },
          {
           "hovertemplate": "bird=reward<br>time=15<br>x=%{x}<br>y=%{y}<extra></extra>",
           "legendgroup": "reward",
           "marker": {
            "color": "yellow",
            "symbol": "square"
           },
           "mode": "markers",
           "name": "reward",
           "orientation": "v",
           "showlegend": false,
           "type": "scatter",
           "x": [
            26,
            14,
            21
           ],
           "xaxis": "x",
           "y": [
            14,
            20,
            21
           ],
           "yaxis": "y"
          }
         ],
         "name": "15"
        },
        {
         "data": [
          {
           "hovertemplate": "bird=1<br>time=16<br>x=%{x}<br>y=%{y}<extra></extra>",
           "legendgroup": "1",
           "marker": {
            "color": "#636efa",
            "line": {
             "width": 3
            },
            "opacity": 0.8,
            "size": 14,
            "symbol": "square"
           },
           "mode": "markers",
           "name": "1",
           "orientation": "v",
           "showlegend": true,
           "type": "scatter",
           "x": [
            24
           ],
           "xaxis": "x",
           "y": [
            0
           ],
           "yaxis": "y"
          },
          {
           "hovertemplate": "bird=2<br>time=16<br>x=%{x}<br>y=%{y}<extra></extra>",
           "legendgroup": "2",
           "marker": {
            "color": "#EF553B",
            "line": {
             "width": 3
            },
            "opacity": 0.8,
            "size": 14,
            "symbol": "square"
           },
           "mode": "markers",
           "name": "2",
           "orientation": "v",
           "showlegend": true,
           "type": "scatter",
           "x": [
            10
           ],
           "xaxis": "x",
           "y": [
            3
           ],
           "yaxis": "y"
          },
          {
           "hovertemplate": "bird=reward<br>time=16<br>x=%{x}<br>y=%{y}<extra></extra>",
           "legendgroup": "reward",
           "marker": {
            "color": "yellow",
            "symbol": "square"
           },
           "mode": "markers",
           "name": "reward",
           "orientation": "v",
           "showlegend": false,
           "type": "scatter",
           "x": [
            26,
            14,
            21
           ],
           "xaxis": "x",
           "y": [
            14,
            20,
            21
           ],
           "yaxis": "y"
          }
         ],
         "name": "16"
        },
        {
         "data": [
          {
           "hovertemplate": "bird=1<br>time=17<br>x=%{x}<br>y=%{y}<extra></extra>",
           "legendgroup": "1",
           "marker": {
            "color": "#636efa",
            "line": {
             "width": 3
            },
            "opacity": 0.8,
            "size": 14,
            "symbol": "square"
           },
           "mode": "markers",
           "name": "1",
           "orientation": "v",
           "showlegend": true,
           "type": "scatter",
           "x": [
            23
           ],
           "xaxis": "x",
           "y": [
            0
           ],
           "yaxis": "y"
          },
          {
           "hovertemplate": "bird=2<br>time=17<br>x=%{x}<br>y=%{y}<extra></extra>",
           "legendgroup": "2",
           "marker": {
            "color": "#EF553B",
            "line": {
             "width": 3
            },
            "opacity": 0.8,
            "size": 14,
            "symbol": "square"
           },
           "mode": "markers",
           "name": "2",
           "orientation": "v",
           "showlegend": true,
           "type": "scatter",
           "x": [
            10
           ],
           "xaxis": "x",
           "y": [
            3
           ],
           "yaxis": "y"
          },
          {
           "hovertemplate": "bird=reward<br>time=17<br>x=%{x}<br>y=%{y}<extra></extra>",
           "legendgroup": "reward",
           "marker": {
            "color": "yellow",
            "symbol": "square"
           },
           "mode": "markers",
           "name": "reward",
           "orientation": "v",
           "showlegend": false,
           "type": "scatter",
           "x": [
            26,
            14,
            21
           ],
           "xaxis": "x",
           "y": [
            14,
            20,
            21
           ],
           "yaxis": "y"
          }
         ],
         "name": "17"
        },
        {
         "data": [
          {
           "hovertemplate": "bird=1<br>time=18<br>x=%{x}<br>y=%{y}<extra></extra>",
           "legendgroup": "1",
           "marker": {
            "color": "#636efa",
            "line": {
             "width": 3
            },
            "opacity": 0.8,
            "size": 14,
            "symbol": "square"
           },
           "mode": "markers",
           "name": "1",
           "orientation": "v",
           "showlegend": true,
           "type": "scatter",
           "x": [
            24
           ],
           "xaxis": "x",
           "y": [
            0
           ],
           "yaxis": "y"
          },
          {
           "hovertemplate": "bird=2<br>time=18<br>x=%{x}<br>y=%{y}<extra></extra>",
           "legendgroup": "2",
           "marker": {
            "color": "#EF553B",
            "line": {
             "width": 3
            },
            "opacity": 0.8,
            "size": 14,
            "symbol": "square"
           },
           "mode": "markers",
           "name": "2",
           "orientation": "v",
           "showlegend": true,
           "type": "scatter",
           "x": [
            10
           ],
           "xaxis": "x",
           "y": [
            3
           ],
           "yaxis": "y"
          },
          {
           "hovertemplate": "bird=reward<br>time=18<br>x=%{x}<br>y=%{y}<extra></extra>",
           "legendgroup": "reward",
           "marker": {
            "color": "yellow",
            "symbol": "square"
           },
           "mode": "markers",
           "name": "reward",
           "orientation": "v",
           "showlegend": false,
           "type": "scatter",
           "x": [
            26,
            14,
            21
           ],
           "xaxis": "x",
           "y": [
            14,
            20,
            21
           ],
           "yaxis": "y"
          }
         ],
         "name": "18"
        },
        {
         "data": [
          {
           "hovertemplate": "bird=1<br>time=19<br>x=%{x}<br>y=%{y}<extra></extra>",
           "legendgroup": "1",
           "marker": {
            "color": "#636efa",
            "line": {
             "width": 3
            },
            "opacity": 0.8,
            "size": 14,
            "symbol": "square"
           },
           "mode": "markers",
           "name": "1",
           "orientation": "v",
           "showlegend": true,
           "type": "scatter",
           "x": [
            24
           ],
           "xaxis": "x",
           "y": [
            3
           ],
           "yaxis": "y"
          },
          {
           "hovertemplate": "bird=2<br>time=19<br>x=%{x}<br>y=%{y}<extra></extra>",
           "legendgroup": "2",
           "marker": {
            "color": "#EF553B",
            "line": {
             "width": 3
            },
            "opacity": 0.8,
            "size": 14,
            "symbol": "square"
           },
           "mode": "markers",
           "name": "2",
           "orientation": "v",
           "showlegend": true,
           "type": "scatter",
           "x": [
            10
           ],
           "xaxis": "x",
           "y": [
            3
           ],
           "yaxis": "y"
          },
          {
           "hovertemplate": "bird=reward<br>time=19<br>x=%{x}<br>y=%{y}<extra></extra>",
           "legendgroup": "reward",
           "marker": {
            "color": "yellow",
            "symbol": "square"
           },
           "mode": "markers",
           "name": "reward",
           "orientation": "v",
           "showlegend": false,
           "type": "scatter",
           "x": [
            26,
            14,
            21
           ],
           "xaxis": "x",
           "y": [
            14,
            20,
            21
           ],
           "yaxis": "y"
          }
         ],
         "name": "19"
        },
        {
         "data": [
          {
           "hovertemplate": "bird=1<br>time=20<br>x=%{x}<br>y=%{y}<extra></extra>",
           "legendgroup": "1",
           "marker": {
            "color": "#636efa",
            "line": {
             "width": 3
            },
            "opacity": 0.8,
            "size": 14,
            "symbol": "square"
           },
           "mode": "markers",
           "name": "1",
           "orientation": "v",
           "showlegend": true,
           "type": "scatter",
           "x": [
            22
           ],
           "xaxis": "x",
           "y": [
            3
           ],
           "yaxis": "y"
          },
          {
           "hovertemplate": "bird=2<br>time=20<br>x=%{x}<br>y=%{y}<extra></extra>",
           "legendgroup": "2",
           "marker": {
            "color": "#EF553B",
            "line": {
             "width": 3
            },
            "opacity": 0.8,
            "size": 14,
            "symbol": "square"
           },
           "mode": "markers",
           "name": "2",
           "orientation": "v",
           "showlegend": true,
           "type": "scatter",
           "x": [
            10
           ],
           "xaxis": "x",
           "y": [
            3
           ],
           "yaxis": "y"
          },
          {
           "hovertemplate": "bird=reward<br>time=20<br>x=%{x}<br>y=%{y}<extra></extra>",
           "legendgroup": "reward",
           "marker": {
            "color": "yellow",
            "symbol": "square"
           },
           "mode": "markers",
           "name": "reward",
           "orientation": "v",
           "showlegend": false,
           "type": "scatter",
           "x": [
            26,
            14,
            21
           ],
           "xaxis": "x",
           "y": [
            14,
            20,
            21
           ],
           "yaxis": "y"
          }
         ],
         "name": "20"
        },
        {
         "data": [
          {
           "hovertemplate": "bird=1<br>time=21<br>x=%{x}<br>y=%{y}<extra></extra>",
           "legendgroup": "1",
           "marker": {
            "color": "#636efa",
            "line": {
             "width": 3
            },
            "opacity": 0.8,
            "size": 14,
            "symbol": "square"
           },
           "mode": "markers",
           "name": "1",
           "orientation": "v",
           "showlegend": true,
           "type": "scatter",
           "x": [
            22
           ],
           "xaxis": "x",
           "y": [
            5
           ],
           "yaxis": "y"
          },
          {
           "hovertemplate": "bird=2<br>time=21<br>x=%{x}<br>y=%{y}<extra></extra>",
           "legendgroup": "2",
           "marker": {
            "color": "#EF553B",
            "line": {
             "width": 3
            },
            "opacity": 0.8,
            "size": 14,
            "symbol": "square"
           },
           "mode": "markers",
           "name": "2",
           "orientation": "v",
           "showlegend": true,
           "type": "scatter",
           "x": [
            10
           ],
           "xaxis": "x",
           "y": [
            3
           ],
           "yaxis": "y"
          },
          {
           "hovertemplate": "bird=reward<br>time=21<br>x=%{x}<br>y=%{y}<extra></extra>",
           "legendgroup": "reward",
           "marker": {
            "color": "yellow",
            "symbol": "square"
           },
           "mode": "markers",
           "name": "reward",
           "orientation": "v",
           "showlegend": false,
           "type": "scatter",
           "x": [
            26,
            14,
            21
           ],
           "xaxis": "x",
           "y": [
            14,
            20,
            21
           ],
           "yaxis": "y"
          }
         ],
         "name": "21"
        },
        {
         "data": [
          {
           "hovertemplate": "bird=1<br>time=22<br>x=%{x}<br>y=%{y}<extra></extra>",
           "legendgroup": "1",
           "marker": {
            "color": "#636efa",
            "line": {
             "width": 3
            },
            "opacity": 0.8,
            "size": 14,
            "symbol": "square"
           },
           "mode": "markers",
           "name": "1",
           "orientation": "v",
           "showlegend": true,
           "type": "scatter",
           "x": [
            24
           ],
           "xaxis": "x",
           "y": [
            4
           ],
           "yaxis": "y"
          },
          {
           "hovertemplate": "bird=2<br>time=22<br>x=%{x}<br>y=%{y}<extra></extra>",
           "legendgroup": "2",
           "marker": {
            "color": "#EF553B",
            "line": {
             "width": 3
            },
            "opacity": 0.8,
            "size": 14,
            "symbol": "square"
           },
           "mode": "markers",
           "name": "2",
           "orientation": "v",
           "showlegend": true,
           "type": "scatter",
           "x": [
            10
           ],
           "xaxis": "x",
           "y": [
            3
           ],
           "yaxis": "y"
          },
          {
           "hovertemplate": "bird=reward<br>time=22<br>x=%{x}<br>y=%{y}<extra></extra>",
           "legendgroup": "reward",
           "marker": {
            "color": "yellow",
            "symbol": "square"
           },
           "mode": "markers",
           "name": "reward",
           "orientation": "v",
           "showlegend": false,
           "type": "scatter",
           "x": [
            26,
            14,
            21
           ],
           "xaxis": "x",
           "y": [
            14,
            20,
            21
           ],
           "yaxis": "y"
          }
         ],
         "name": "22"
        },
        {
         "data": [
          {
           "hovertemplate": "bird=1<br>time=23<br>x=%{x}<br>y=%{y}<extra></extra>",
           "legendgroup": "1",
           "marker": {
            "color": "#636efa",
            "line": {
             "width": 3
            },
            "opacity": 0.8,
            "size": 14,
            "symbol": "square"
           },
           "mode": "markers",
           "name": "1",
           "orientation": "v",
           "showlegend": true,
           "type": "scatter",
           "x": [
            26
           ],
           "xaxis": "x",
           "y": [
            6
           ],
           "yaxis": "y"
          },
          {
           "hovertemplate": "bird=2<br>time=23<br>x=%{x}<br>y=%{y}<extra></extra>",
           "legendgroup": "2",
           "marker": {
            "color": "#EF553B",
            "line": {
             "width": 3
            },
            "opacity": 0.8,
            "size": 14,
            "symbol": "square"
           },
           "mode": "markers",
           "name": "2",
           "orientation": "v",
           "showlegend": true,
           "type": "scatter",
           "x": [
            10
           ],
           "xaxis": "x",
           "y": [
            3
           ],
           "yaxis": "y"
          },
          {
           "hovertemplate": "bird=reward<br>time=23<br>x=%{x}<br>y=%{y}<extra></extra>",
           "legendgroup": "reward",
           "marker": {
            "color": "yellow",
            "symbol": "square"
           },
           "mode": "markers",
           "name": "reward",
           "orientation": "v",
           "showlegend": false,
           "type": "scatter",
           "x": [
            26,
            14,
            21
           ],
           "xaxis": "x",
           "y": [
            14,
            20,
            21
           ],
           "yaxis": "y"
          }
         ],
         "name": "23"
        },
        {
         "data": [
          {
           "hovertemplate": "bird=1<br>time=24<br>x=%{x}<br>y=%{y}<extra></extra>",
           "legendgroup": "1",
           "marker": {
            "color": "#636efa",
            "line": {
             "width": 3
            },
            "opacity": 0.8,
            "size": 14,
            "symbol": "square"
           },
           "mode": "markers",
           "name": "1",
           "orientation": "v",
           "showlegend": true,
           "type": "scatter",
           "x": [
            25
           ],
           "xaxis": "x",
           "y": [
            8
           ],
           "yaxis": "y"
          },
          {
           "hovertemplate": "bird=2<br>time=24<br>x=%{x}<br>y=%{y}<extra></extra>",
           "legendgroup": "2",
           "marker": {
            "color": "#EF553B",
            "line": {
             "width": 3
            },
            "opacity": 0.8,
            "size": 14,
            "symbol": "square"
           },
           "mode": "markers",
           "name": "2",
           "orientation": "v",
           "showlegend": true,
           "type": "scatter",
           "x": [
            10
           ],
           "xaxis": "x",
           "y": [
            3
           ],
           "yaxis": "y"
          },
          {
           "hovertemplate": "bird=reward<br>time=24<br>x=%{x}<br>y=%{y}<extra></extra>",
           "legendgroup": "reward",
           "marker": {
            "color": "yellow",
            "symbol": "square"
           },
           "mode": "markers",
           "name": "reward",
           "orientation": "v",
           "showlegend": false,
           "type": "scatter",
           "x": [
            26,
            14,
            21
           ],
           "xaxis": "x",
           "y": [
            14,
            20,
            21
           ],
           "yaxis": "y"
          }
         ],
         "name": "24"
        },
        {
         "data": [
          {
           "hovertemplate": "bird=1<br>time=25<br>x=%{x}<br>y=%{y}<extra></extra>",
           "legendgroup": "1",
           "marker": {
            "color": "#636efa",
            "line": {
             "width": 3
            },
            "opacity": 0.8,
            "size": 14,
            "symbol": "square"
           },
           "mode": "markers",
           "name": "1",
           "orientation": "v",
           "showlegend": true,
           "type": "scatter",
           "x": [
            25
           ],
           "xaxis": "x",
           "y": [
            11
           ],
           "yaxis": "y"
          },
          {
           "hovertemplate": "bird=2<br>time=25<br>x=%{x}<br>y=%{y}<extra></extra>",
           "legendgroup": "2",
           "marker": {
            "color": "#EF553B",
            "line": {
             "width": 3
            },
            "opacity": 0.8,
            "size": 14,
            "symbol": "square"
           },
           "mode": "markers",
           "name": "2",
           "orientation": "v",
           "showlegend": true,
           "type": "scatter",
           "x": [
            10
           ],
           "xaxis": "x",
           "y": [
            3
           ],
           "yaxis": "y"
          },
          {
           "hovertemplate": "bird=reward<br>time=25<br>x=%{x}<br>y=%{y}<extra></extra>",
           "legendgroup": "reward",
           "marker": {
            "color": "yellow",
            "symbol": "square"
           },
           "mode": "markers",
           "name": "reward",
           "orientation": "v",
           "showlegend": false,
           "type": "scatter",
           "x": [
            26,
            14,
            21
           ],
           "xaxis": "x",
           "y": [
            14,
            20,
            21
           ],
           "yaxis": "y"
          }
         ],
         "name": "25"
        },
        {
         "data": [
          {
           "hovertemplate": "bird=1<br>time=26<br>x=%{x}<br>y=%{y}<extra></extra>",
           "legendgroup": "1",
           "marker": {
            "color": "#636efa",
            "line": {
             "width": 3
            },
            "opacity": 0.8,
            "size": 14,
            "symbol": "square"
           },
           "mode": "markers",
           "name": "1",
           "orientation": "v",
           "showlegend": true,
           "type": "scatter",
           "x": [
            26
           ],
           "xaxis": "x",
           "y": [
            13
           ],
           "yaxis": "y"
          },
          {
           "hovertemplate": "bird=2<br>time=26<br>x=%{x}<br>y=%{y}<extra></extra>",
           "legendgroup": "2",
           "marker": {
            "color": "#EF553B",
            "line": {
             "width": 3
            },
            "opacity": 0.8,
            "size": 14,
            "symbol": "square"
           },
           "mode": "markers",
           "name": "2",
           "orientation": "v",
           "showlegend": true,
           "type": "scatter",
           "x": [
            10
           ],
           "xaxis": "x",
           "y": [
            3
           ],
           "yaxis": "y"
          },
          {
           "hovertemplate": "bird=reward<br>time=26<br>x=%{x}<br>y=%{y}<extra></extra>",
           "legendgroup": "reward",
           "marker": {
            "color": "yellow",
            "symbol": "square"
           },
           "mode": "markers",
           "name": "reward",
           "orientation": "v",
           "showlegend": false,
           "type": "scatter",
           "x": [
            26,
            14,
            21
           ],
           "xaxis": "x",
           "y": [
            14,
            20,
            21
           ],
           "yaxis": "y"
          }
         ],
         "name": "26"
        },
        {
         "data": [
          {
           "hovertemplate": "bird=1<br>time=27<br>x=%{x}<br>y=%{y}<extra></extra>",
           "legendgroup": "1",
           "marker": {
            "color": "#636efa",
            "line": {
             "width": 3
            },
            "opacity": 0.8,
            "size": 14,
            "symbol": "square"
           },
           "mode": "markers",
           "name": "1",
           "orientation": "v",
           "showlegend": true,
           "type": "scatter",
           "x": [
            26
           ],
           "xaxis": "x",
           "y": [
            14
           ],
           "yaxis": "y"
          },
          {
           "hovertemplate": "bird=2<br>time=27<br>x=%{x}<br>y=%{y}<extra></extra>",
           "legendgroup": "2",
           "marker": {
            "color": "#EF553B",
            "line": {
             "width": 3
            },
            "opacity": 0.8,
            "size": 14,
            "symbol": "square"
           },
           "mode": "markers",
           "name": "2",
           "orientation": "v",
           "showlegend": true,
           "type": "scatter",
           "x": [
            10
           ],
           "xaxis": "x",
           "y": [
            3
           ],
           "yaxis": "y"
          },
          {
           "hovertemplate": "bird=reward<br>time=27<br>x=%{x}<br>y=%{y}<extra></extra>",
           "legendgroup": "reward",
           "marker": {
            "color": "yellow",
            "symbol": "square"
           },
           "mode": "markers",
           "name": "reward",
           "orientation": "v",
           "showlegend": false,
           "type": "scatter",
           "x": [
            26,
            14,
            21
           ],
           "xaxis": "x",
           "y": [
            14,
            20,
            21
           ],
           "yaxis": "y"
          }
         ],
         "name": "27"
        },
        {
         "data": [
          {
           "hovertemplate": "bird=1<br>time=28<br>x=%{x}<br>y=%{y}<extra></extra>",
           "legendgroup": "1",
           "marker": {
            "color": "#636efa",
            "line": {
             "width": 3
            },
            "opacity": 0.8,
            "size": 14,
            "symbol": "square"
           },
           "mode": "markers",
           "name": "1",
           "orientation": "v",
           "showlegend": true,
           "type": "scatter",
           "x": [
            26
           ],
           "xaxis": "x",
           "y": [
            14
           ],
           "yaxis": "y"
          },
          {
           "hovertemplate": "bird=2<br>time=28<br>x=%{x}<br>y=%{y}<extra></extra>",
           "legendgroup": "2",
           "marker": {
            "color": "#EF553B",
            "line": {
             "width": 3
            },
            "opacity": 0.8,
            "size": 14,
            "symbol": "square"
           },
           "mode": "markers",
           "name": "2",
           "orientation": "v",
           "showlegend": true,
           "type": "scatter",
           "x": [
            10
           ],
           "xaxis": "x",
           "y": [
            3
           ],
           "yaxis": "y"
          },
          {
           "hovertemplate": "bird=reward<br>time=28<br>x=%{x}<br>y=%{y}<extra></extra>",
           "legendgroup": "reward",
           "marker": {
            "color": "yellow",
            "symbol": "square"
           },
           "mode": "markers",
           "name": "reward",
           "orientation": "v",
           "showlegend": false,
           "type": "scatter",
           "x": [
            26,
            14,
            21
           ],
           "xaxis": "x",
           "y": [
            14,
            20,
            21
           ],
           "yaxis": "y"
          }
         ],
         "name": "28"
        },
        {
         "data": [
          {
           "hovertemplate": "bird=1<br>time=29<br>x=%{x}<br>y=%{y}<extra></extra>",
           "legendgroup": "1",
           "marker": {
            "color": "#636efa",
            "line": {
             "width": 3
            },
            "opacity": 0.8,
            "size": 14,
            "symbol": "square"
           },
           "mode": "markers",
           "name": "1",
           "orientation": "v",
           "showlegend": true,
           "type": "scatter",
           "x": [
            26
           ],
           "xaxis": "x",
           "y": [
            14
           ],
           "yaxis": "y"
          },
          {
           "hovertemplate": "bird=2<br>time=29<br>x=%{x}<br>y=%{y}<extra></extra>",
           "legendgroup": "2",
           "marker": {
            "color": "#EF553B",
            "line": {
             "width": 3
            },
            "opacity": 0.8,
            "size": 14,
            "symbol": "square"
           },
           "mode": "markers",
           "name": "2",
           "orientation": "v",
           "showlegend": true,
           "type": "scatter",
           "x": [
            10
           ],
           "xaxis": "x",
           "y": [
            3
           ],
           "yaxis": "y"
          },
          {
           "hovertemplate": "bird=reward<br>time=29<br>x=%{x}<br>y=%{y}<extra></extra>",
           "legendgroup": "reward",
           "marker": {
            "color": "yellow",
            "symbol": "square"
           },
           "mode": "markers",
           "name": "reward",
           "orientation": "v",
           "showlegend": false,
           "type": "scatter",
           "x": [
            26,
            14,
            21
           ],
           "xaxis": "x",
           "y": [
            14,
            20,
            21
           ],
           "yaxis": "y"
          }
         ],
         "name": "29"
        },
        {
         "data": [
          {
           "hovertemplate": "bird=1<br>time=30<br>x=%{x}<br>y=%{y}<extra></extra>",
           "legendgroup": "1",
           "marker": {
            "color": "#636efa",
            "line": {
             "width": 3
            },
            "opacity": 0.8,
            "size": 14,
            "symbol": "square"
           },
           "mode": "markers",
           "name": "1",
           "orientation": "v",
           "showlegend": true,
           "type": "scatter",
           "x": [
            26
           ],
           "xaxis": "x",
           "y": [
            14
           ],
           "yaxis": "y"
          },
          {
           "hovertemplate": "bird=2<br>time=30<br>x=%{x}<br>y=%{y}<extra></extra>",
           "legendgroup": "2",
           "marker": {
            "color": "#EF553B",
            "line": {
             "width": 3
            },
            "opacity": 0.8,
            "size": 14,
            "symbol": "square"
           },
           "mode": "markers",
           "name": "2",
           "orientation": "v",
           "showlegend": true,
           "type": "scatter",
           "x": [
            10
           ],
           "xaxis": "x",
           "y": [
            3
           ],
           "yaxis": "y"
          },
          {
           "hovertemplate": "bird=reward<br>time=30<br>x=%{x}<br>y=%{y}<extra></extra>",
           "legendgroup": "reward",
           "marker": {
            "color": "yellow",
            "symbol": "square"
           },
           "mode": "markers",
           "name": "reward",
           "orientation": "v",
           "showlegend": false,
           "type": "scatter",
           "x": [
            18,
            11,
            6,
            14,
            7,
            21
           ],
           "xaxis": "x",
           "y": [
            2,
            8,
            9,
            20,
            21,
            21
           ],
           "yaxis": "y"
          }
         ],
         "name": "30"
        },
        {
         "data": [
          {
           "hovertemplate": "bird=1<br>time=31<br>x=%{x}<br>y=%{y}<extra></extra>",
           "legendgroup": "1",
           "marker": {
            "color": "#636efa",
            "line": {
             "width": 3
            },
            "opacity": 0.8,
            "size": 14,
            "symbol": "square"
           },
           "mode": "markers",
           "name": "1",
           "orientation": "v",
           "showlegend": true,
           "type": "scatter",
           "x": [
            26
           ],
           "xaxis": "x",
           "y": [
            14
           ],
           "yaxis": "y"
          },
          {
           "hovertemplate": "bird=2<br>time=31<br>x=%{x}<br>y=%{y}<extra></extra>",
           "legendgroup": "2",
           "marker": {
            "color": "#EF553B",
            "line": {
             "width": 3
            },
            "opacity": 0.8,
            "size": 14,
            "symbol": "square"
           },
           "mode": "markers",
           "name": "2",
           "orientation": "v",
           "showlegend": true,
           "type": "scatter",
           "x": [
            10
           ],
           "xaxis": "x",
           "y": [
            3
           ],
           "yaxis": "y"
          },
          {
           "hovertemplate": "bird=reward<br>time=31<br>x=%{x}<br>y=%{y}<extra></extra>",
           "legendgroup": "reward",
           "marker": {
            "color": "yellow",
            "symbol": "square"
           },
           "mode": "markers",
           "name": "reward",
           "orientation": "v",
           "showlegend": false,
           "type": "scatter",
           "x": [
            18,
            11,
            6,
            14,
            7,
            21
           ],
           "xaxis": "x",
           "y": [
            2,
            8,
            9,
            20,
            21,
            21
           ],
           "yaxis": "y"
          }
         ],
         "name": "31"
        },
        {
         "data": [
          {
           "hovertemplate": "bird=1<br>time=32<br>x=%{x}<br>y=%{y}<extra></extra>",
           "legendgroup": "1",
           "marker": {
            "color": "#636efa",
            "line": {
             "width": 3
            },
            "opacity": 0.8,
            "size": 14,
            "symbol": "square"
           },
           "mode": "markers",
           "name": "1",
           "orientation": "v",
           "showlegend": true,
           "type": "scatter",
           "x": [
            26
           ],
           "xaxis": "x",
           "y": [
            14
           ],
           "yaxis": "y"
          },
          {
           "hovertemplate": "bird=2<br>time=32<br>x=%{x}<br>y=%{y}<extra></extra>",
           "legendgroup": "2",
           "marker": {
            "color": "#EF553B",
            "line": {
             "width": 3
            },
            "opacity": 0.8,
            "size": 14,
            "symbol": "square"
           },
           "mode": "markers",
           "name": "2",
           "orientation": "v",
           "showlegend": true,
           "type": "scatter",
           "x": [
            10
           ],
           "xaxis": "x",
           "y": [
            3
           ],
           "yaxis": "y"
          },
          {
           "hovertemplate": "bird=reward<br>time=32<br>x=%{x}<br>y=%{y}<extra></extra>",
           "legendgroup": "reward",
           "marker": {
            "color": "yellow",
            "symbol": "square"
           },
           "mode": "markers",
           "name": "reward",
           "orientation": "v",
           "showlegend": false,
           "type": "scatter",
           "x": [
            18,
            11,
            6,
            14,
            7,
            21
           ],
           "xaxis": "x",
           "y": [
            2,
            8,
            9,
            20,
            21,
            21
           ],
           "yaxis": "y"
          }
         ],
         "name": "32"
        },
        {
         "data": [
          {
           "hovertemplate": "bird=1<br>time=33<br>x=%{x}<br>y=%{y}<extra></extra>",
           "legendgroup": "1",
           "marker": {
            "color": "#636efa",
            "line": {
             "width": 3
            },
            "opacity": 0.8,
            "size": 14,
            "symbol": "square"
           },
           "mode": "markers",
           "name": "1",
           "orientation": "v",
           "showlegend": true,
           "type": "scatter",
           "x": [
            26
           ],
           "xaxis": "x",
           "y": [
            14
           ],
           "yaxis": "y"
          },
          {
           "hovertemplate": "bird=2<br>time=33<br>x=%{x}<br>y=%{y}<extra></extra>",
           "legendgroup": "2",
           "marker": {
            "color": "#EF553B",
            "line": {
             "width": 3
            },
            "opacity": 0.8,
            "size": 14,
            "symbol": "square"
           },
           "mode": "markers",
           "name": "2",
           "orientation": "v",
           "showlegend": true,
           "type": "scatter",
           "x": [
            10
           ],
           "xaxis": "x",
           "y": [
            3
           ],
           "yaxis": "y"
          },
          {
           "hovertemplate": "bird=reward<br>time=33<br>x=%{x}<br>y=%{y}<extra></extra>",
           "legendgroup": "reward",
           "marker": {
            "color": "yellow",
            "symbol": "square"
           },
           "mode": "markers",
           "name": "reward",
           "orientation": "v",
           "showlegend": false,
           "type": "scatter",
           "x": [
            18,
            11,
            6,
            14,
            7,
            21
           ],
           "xaxis": "x",
           "y": [
            2,
            8,
            9,
            20,
            21,
            21
           ],
           "yaxis": "y"
          }
         ],
         "name": "33"
        },
        {
         "data": [
          {
           "hovertemplate": "bird=1<br>time=34<br>x=%{x}<br>y=%{y}<extra></extra>",
           "legendgroup": "1",
           "marker": {
            "color": "#636efa",
            "line": {
             "width": 3
            },
            "opacity": 0.8,
            "size": 14,
            "symbol": "square"
           },
           "mode": "markers",
           "name": "1",
           "orientation": "v",
           "showlegend": true,
           "type": "scatter",
           "x": [
            26
           ],
           "xaxis": "x",
           "y": [
            14
           ],
           "yaxis": "y"
          },
          {
           "hovertemplate": "bird=2<br>time=34<br>x=%{x}<br>y=%{y}<extra></extra>",
           "legendgroup": "2",
           "marker": {
            "color": "#EF553B",
            "line": {
             "width": 3
            },
            "opacity": 0.8,
            "size": 14,
            "symbol": "square"
           },
           "mode": "markers",
           "name": "2",
           "orientation": "v",
           "showlegend": true,
           "type": "scatter",
           "x": [
            10
           ],
           "xaxis": "x",
           "y": [
            3
           ],
           "yaxis": "y"
          },
          {
           "hovertemplate": "bird=reward<br>time=34<br>x=%{x}<br>y=%{y}<extra></extra>",
           "legendgroup": "reward",
           "marker": {
            "color": "yellow",
            "symbol": "square"
           },
           "mode": "markers",
           "name": "reward",
           "orientation": "v",
           "showlegend": false,
           "type": "scatter",
           "x": [
            18,
            11,
            6,
            14,
            7,
            21
           ],
           "xaxis": "x",
           "y": [
            2,
            8,
            9,
            20,
            21,
            21
           ],
           "yaxis": "y"
          }
         ],
         "name": "34"
        },
        {
         "data": [
          {
           "hovertemplate": "bird=1<br>time=35<br>x=%{x}<br>y=%{y}<extra></extra>",
           "legendgroup": "1",
           "marker": {
            "color": "#636efa",
            "line": {
             "width": 3
            },
            "opacity": 0.8,
            "size": 14,
            "symbol": "square"
           },
           "mode": "markers",
           "name": "1",
           "orientation": "v",
           "showlegend": true,
           "type": "scatter",
           "x": [
            26
           ],
           "xaxis": "x",
           "y": [
            14
           ],
           "yaxis": "y"
          },
          {
           "hovertemplate": "bird=2<br>time=35<br>x=%{x}<br>y=%{y}<extra></extra>",
           "legendgroup": "2",
           "marker": {
            "color": "#EF553B",
            "line": {
             "width": 3
            },
            "opacity": 0.8,
            "size": 14,
            "symbol": "square"
           },
           "mode": "markers",
           "name": "2",
           "orientation": "v",
           "showlegend": true,
           "type": "scatter",
           "x": [
            10
           ],
           "xaxis": "x",
           "y": [
            3
           ],
           "yaxis": "y"
          },
          {
           "hovertemplate": "bird=reward<br>time=35<br>x=%{x}<br>y=%{y}<extra></extra>",
           "legendgroup": "reward",
           "marker": {
            "color": "yellow",
            "symbol": "square"
           },
           "mode": "markers",
           "name": "reward",
           "orientation": "v",
           "showlegend": false,
           "type": "scatter",
           "x": [
            18,
            11,
            6,
            14,
            7,
            21
           ],
           "xaxis": "x",
           "y": [
            2,
            8,
            9,
            20,
            21,
            21
           ],
           "yaxis": "y"
          }
         ],
         "name": "35"
        },
        {
         "data": [
          {
           "hovertemplate": "bird=1<br>time=36<br>x=%{x}<br>y=%{y}<extra></extra>",
           "legendgroup": "1",
           "marker": {
            "color": "#636efa",
            "line": {
             "width": 3
            },
            "opacity": 0.8,
            "size": 14,
            "symbol": "square"
           },
           "mode": "markers",
           "name": "1",
           "orientation": "v",
           "showlegend": true,
           "type": "scatter",
           "x": [
            26
           ],
           "xaxis": "x",
           "y": [
            14
           ],
           "yaxis": "y"
          },
          {
           "hovertemplate": "bird=2<br>time=36<br>x=%{x}<br>y=%{y}<extra></extra>",
           "legendgroup": "2",
           "marker": {
            "color": "#EF553B",
            "line": {
             "width": 3
            },
            "opacity": 0.8,
            "size": 14,
            "symbol": "square"
           },
           "mode": "markers",
           "name": "2",
           "orientation": "v",
           "showlegend": true,
           "type": "scatter",
           "x": [
            10
           ],
           "xaxis": "x",
           "y": [
            3
           ],
           "yaxis": "y"
          },
          {
           "hovertemplate": "bird=reward<br>time=36<br>x=%{x}<br>y=%{y}<extra></extra>",
           "legendgroup": "reward",
           "marker": {
            "color": "yellow",
            "symbol": "square"
           },
           "mode": "markers",
           "name": "reward",
           "orientation": "v",
           "showlegend": false,
           "type": "scatter",
           "x": [
            18,
            11,
            6,
            14,
            7,
            21
           ],
           "xaxis": "x",
           "y": [
            2,
            8,
            9,
            20,
            21,
            21
           ],
           "yaxis": "y"
          }
         ],
         "name": "36"
        },
        {
         "data": [
          {
           "hovertemplate": "bird=1<br>time=37<br>x=%{x}<br>y=%{y}<extra></extra>",
           "legendgroup": "1",
           "marker": {
            "color": "#636efa",
            "line": {
             "width": 3
            },
            "opacity": 0.8,
            "size": 14,
            "symbol": "square"
           },
           "mode": "markers",
           "name": "1",
           "orientation": "v",
           "showlegend": true,
           "type": "scatter",
           "x": [
            26
           ],
           "xaxis": "x",
           "y": [
            14
           ],
           "yaxis": "y"
          },
          {
           "hovertemplate": "bird=2<br>time=37<br>x=%{x}<br>y=%{y}<extra></extra>",
           "legendgroup": "2",
           "marker": {
            "color": "#EF553B",
            "line": {
             "width": 3
            },
            "opacity": 0.8,
            "size": 14,
            "symbol": "square"
           },
           "mode": "markers",
           "name": "2",
           "orientation": "v",
           "showlegend": true,
           "type": "scatter",
           "x": [
            10
           ],
           "xaxis": "x",
           "y": [
            3
           ],
           "yaxis": "y"
          },
          {
           "hovertemplate": "bird=reward<br>time=37<br>x=%{x}<br>y=%{y}<extra></extra>",
           "legendgroup": "reward",
           "marker": {
            "color": "yellow",
            "symbol": "square"
           },
           "mode": "markers",
           "name": "reward",
           "orientation": "v",
           "showlegend": false,
           "type": "scatter",
           "x": [
            18,
            11,
            6,
            14,
            7,
            21
           ],
           "xaxis": "x",
           "y": [
            2,
            8,
            9,
            20,
            21,
            21
           ],
           "yaxis": "y"
          }
         ],
         "name": "37"
        },
        {
         "data": [
          {
           "hovertemplate": "bird=1<br>time=38<br>x=%{x}<br>y=%{y}<extra></extra>",
           "legendgroup": "1",
           "marker": {
            "color": "#636efa",
            "line": {
             "width": 3
            },
            "opacity": 0.8,
            "size": 14,
            "symbol": "square"
           },
           "mode": "markers",
           "name": "1",
           "orientation": "v",
           "showlegend": true,
           "type": "scatter",
           "x": [
            26
           ],
           "xaxis": "x",
           "y": [
            14
           ],
           "yaxis": "y"
          },
          {
           "hovertemplate": "bird=2<br>time=38<br>x=%{x}<br>y=%{y}<extra></extra>",
           "legendgroup": "2",
           "marker": {
            "color": "#EF553B",
            "line": {
             "width": 3
            },
            "opacity": 0.8,
            "size": 14,
            "symbol": "square"
           },
           "mode": "markers",
           "name": "2",
           "orientation": "v",
           "showlegend": true,
           "type": "scatter",
           "x": [
            10
           ],
           "xaxis": "x",
           "y": [
            3
           ],
           "yaxis": "y"
          },
          {
           "hovertemplate": "bird=reward<br>time=38<br>x=%{x}<br>y=%{y}<extra></extra>",
           "legendgroup": "reward",
           "marker": {
            "color": "yellow",
            "symbol": "square"
           },
           "mode": "markers",
           "name": "reward",
           "orientation": "v",
           "showlegend": false,
           "type": "scatter",
           "x": [
            18,
            11,
            6,
            14,
            7,
            21
           ],
           "xaxis": "x",
           "y": [
            2,
            8,
            9,
            20,
            21,
            21
           ],
           "yaxis": "y"
          }
         ],
         "name": "38"
        },
        {
         "data": [
          {
           "hovertemplate": "bird=1<br>time=39<br>x=%{x}<br>y=%{y}<extra></extra>",
           "legendgroup": "1",
           "marker": {
            "color": "#636efa",
            "line": {
             "width": 3
            },
            "opacity": 0.8,
            "size": 14,
            "symbol": "square"
           },
           "mode": "markers",
           "name": "1",
           "orientation": "v",
           "showlegend": true,
           "type": "scatter",
           "x": [
            26
           ],
           "xaxis": "x",
           "y": [
            14
           ],
           "yaxis": "y"
          },
          {
           "hovertemplate": "bird=2<br>time=39<br>x=%{x}<br>y=%{y}<extra></extra>",
           "legendgroup": "2",
           "marker": {
            "color": "#EF553B",
            "line": {
             "width": 3
            },
            "opacity": 0.8,
            "size": 14,
            "symbol": "square"
           },
           "mode": "markers",
           "name": "2",
           "orientation": "v",
           "showlegend": true,
           "type": "scatter",
           "x": [
            10
           ],
           "xaxis": "x",
           "y": [
            3
           ],
           "yaxis": "y"
          },
          {
           "hovertemplate": "bird=reward<br>time=39<br>x=%{x}<br>y=%{y}<extra></extra>",
           "legendgroup": "reward",
           "marker": {
            "color": "yellow",
            "symbol": "square"
           },
           "mode": "markers",
           "name": "reward",
           "orientation": "v",
           "showlegend": false,
           "type": "scatter",
           "x": [
            18,
            11,
            6,
            14,
            7,
            21
           ],
           "xaxis": "x",
           "y": [
            2,
            8,
            9,
            20,
            21,
            21
           ],
           "yaxis": "y"
          }
         ],
         "name": "39"
        },
        {
         "data": [
          {
           "hovertemplate": "bird=1<br>time=40<br>x=%{x}<br>y=%{y}<extra></extra>",
           "legendgroup": "1",
           "marker": {
            "color": "#636efa",
            "line": {
             "width": 3
            },
            "opacity": 0.8,
            "size": 14,
            "symbol": "square"
           },
           "mode": "markers",
           "name": "1",
           "orientation": "v",
           "showlegend": true,
           "type": "scatter",
           "x": [
            26
           ],
           "xaxis": "x",
           "y": [
            14
           ],
           "yaxis": "y"
          },
          {
           "hovertemplate": "bird=2<br>time=40<br>x=%{x}<br>y=%{y}<extra></extra>",
           "legendgroup": "2",
           "marker": {
            "color": "#EF553B",
            "line": {
             "width": 3
            },
            "opacity": 0.8,
            "size": 14,
            "symbol": "square"
           },
           "mode": "markers",
           "name": "2",
           "orientation": "v",
           "showlegend": true,
           "type": "scatter",
           "x": [
            10
           ],
           "xaxis": "x",
           "y": [
            3
           ],
           "yaxis": "y"
          },
          {
           "hovertemplate": "bird=reward<br>time=40<br>x=%{x}<br>y=%{y}<extra></extra>",
           "legendgroup": "reward",
           "marker": {
            "color": "yellow",
            "symbol": "square"
           },
           "mode": "markers",
           "name": "reward",
           "orientation": "v",
           "showlegend": false,
           "type": "scatter",
           "x": [
            18,
            11,
            6,
            14,
            7,
            21
           ],
           "xaxis": "x",
           "y": [
            2,
            8,
            9,
            20,
            21,
            21
           ],
           "yaxis": "y"
          }
         ],
         "name": "40"
        },
        {
         "data": [
          {
           "hovertemplate": "bird=1<br>time=41<br>x=%{x}<br>y=%{y}<extra></extra>",
           "legendgroup": "1",
           "marker": {
            "color": "#636efa",
            "line": {
             "width": 3
            },
            "opacity": 0.8,
            "size": 14,
            "symbol": "square"
           },
           "mode": "markers",
           "name": "1",
           "orientation": "v",
           "showlegend": true,
           "type": "scatter",
           "x": [
            26
           ],
           "xaxis": "x",
           "y": [
            14
           ],
           "yaxis": "y"
          },
          {
           "hovertemplate": "bird=2<br>time=41<br>x=%{x}<br>y=%{y}<extra></extra>",
           "legendgroup": "2",
           "marker": {
            "color": "#EF553B",
            "line": {
             "width": 3
            },
            "opacity": 0.8,
            "size": 14,
            "symbol": "square"
           },
           "mode": "markers",
           "name": "2",
           "orientation": "v",
           "showlegend": true,
           "type": "scatter",
           "x": [
            10
           ],
           "xaxis": "x",
           "y": [
            3
           ],
           "yaxis": "y"
          },
          {
           "hovertemplate": "bird=reward<br>time=41<br>x=%{x}<br>y=%{y}<extra></extra>",
           "legendgroup": "reward",
           "marker": {
            "color": "yellow",
            "symbol": "square"
           },
           "mode": "markers",
           "name": "reward",
           "orientation": "v",
           "showlegend": false,
           "type": "scatter",
           "x": [
            18,
            11,
            6,
            14,
            7,
            21
           ],
           "xaxis": "x",
           "y": [
            2,
            8,
            9,
            20,
            21,
            21
           ],
           "yaxis": "y"
          }
         ],
         "name": "41"
        },
        {
         "data": [
          {
           "hovertemplate": "bird=1<br>time=42<br>x=%{x}<br>y=%{y}<extra></extra>",
           "legendgroup": "1",
           "marker": {
            "color": "#636efa",
            "line": {
             "width": 3
            },
            "opacity": 0.8,
            "size": 14,
            "symbol": "square"
           },
           "mode": "markers",
           "name": "1",
           "orientation": "v",
           "showlegend": true,
           "type": "scatter",
           "x": [
            26
           ],
           "xaxis": "x",
           "y": [
            14
           ],
           "yaxis": "y"
          },
          {
           "hovertemplate": "bird=2<br>time=42<br>x=%{x}<br>y=%{y}<extra></extra>",
           "legendgroup": "2",
           "marker": {
            "color": "#EF553B",
            "line": {
             "width": 3
            },
            "opacity": 0.8,
            "size": 14,
            "symbol": "square"
           },
           "mode": "markers",
           "name": "2",
           "orientation": "v",
           "showlegend": true,
           "type": "scatter",
           "x": [
            10
           ],
           "xaxis": "x",
           "y": [
            3
           ],
           "yaxis": "y"
          },
          {
           "hovertemplate": "bird=reward<br>time=42<br>x=%{x}<br>y=%{y}<extra></extra>",
           "legendgroup": "reward",
           "marker": {
            "color": "yellow",
            "symbol": "square"
           },
           "mode": "markers",
           "name": "reward",
           "orientation": "v",
           "showlegend": false,
           "type": "scatter",
           "x": [
            18,
            11,
            6,
            14,
            7,
            21
           ],
           "xaxis": "x",
           "y": [
            2,
            8,
            9,
            20,
            21,
            21
           ],
           "yaxis": "y"
          }
         ],
         "name": "42"
        },
        {
         "data": [
          {
           "hovertemplate": "bird=1<br>time=43<br>x=%{x}<br>y=%{y}<extra></extra>",
           "legendgroup": "1",
           "marker": {
            "color": "#636efa",
            "line": {
             "width": 3
            },
            "opacity": 0.8,
            "size": 14,
            "symbol": "square"
           },
           "mode": "markers",
           "name": "1",
           "orientation": "v",
           "showlegend": true,
           "type": "scatter",
           "x": [
            26
           ],
           "xaxis": "x",
           "y": [
            14
           ],
           "yaxis": "y"
          },
          {
           "hovertemplate": "bird=2<br>time=43<br>x=%{x}<br>y=%{y}<extra></extra>",
           "legendgroup": "2",
           "marker": {
            "color": "#EF553B",
            "line": {
             "width": 3
            },
            "opacity": 0.8,
            "size": 14,
            "symbol": "square"
           },
           "mode": "markers",
           "name": "2",
           "orientation": "v",
           "showlegend": true,
           "type": "scatter",
           "x": [
            10
           ],
           "xaxis": "x",
           "y": [
            3
           ],
           "yaxis": "y"
          },
          {
           "hovertemplate": "bird=reward<br>time=43<br>x=%{x}<br>y=%{y}<extra></extra>",
           "legendgroup": "reward",
           "marker": {
            "color": "yellow",
            "symbol": "square"
           },
           "mode": "markers",
           "name": "reward",
           "orientation": "v",
           "showlegend": false,
           "type": "scatter",
           "x": [
            18,
            11,
            6,
            14,
            7,
            21
           ],
           "xaxis": "x",
           "y": [
            2,
            8,
            9,
            20,
            21,
            21
           ],
           "yaxis": "y"
          }
         ],
         "name": "43"
        },
        {
         "data": [
          {
           "hovertemplate": "bird=1<br>time=44<br>x=%{x}<br>y=%{y}<extra></extra>",
           "legendgroup": "1",
           "marker": {
            "color": "#636efa",
            "line": {
             "width": 3
            },
            "opacity": 0.8,
            "size": 14,
            "symbol": "square"
           },
           "mode": "markers",
           "name": "1",
           "orientation": "v",
           "showlegend": true,
           "type": "scatter",
           "x": [
            26
           ],
           "xaxis": "x",
           "y": [
            14
           ],
           "yaxis": "y"
          },
          {
           "hovertemplate": "bird=2<br>time=44<br>x=%{x}<br>y=%{y}<extra></extra>",
           "legendgroup": "2",
           "marker": {
            "color": "#EF553B",
            "line": {
             "width": 3
            },
            "opacity": 0.8,
            "size": 14,
            "symbol": "square"
           },
           "mode": "markers",
           "name": "2",
           "orientation": "v",
           "showlegend": true,
           "type": "scatter",
           "x": [
            10
           ],
           "xaxis": "x",
           "y": [
            3
           ],
           "yaxis": "y"
          },
          {
           "hovertemplate": "bird=reward<br>time=44<br>x=%{x}<br>y=%{y}<extra></extra>",
           "legendgroup": "reward",
           "marker": {
            "color": "yellow",
            "symbol": "square"
           },
           "mode": "markers",
           "name": "reward",
           "orientation": "v",
           "showlegend": false,
           "type": "scatter",
           "x": [
            18,
            11,
            6,
            14,
            7,
            21
           ],
           "xaxis": "x",
           "y": [
            2,
            8,
            9,
            20,
            21,
            21
           ],
           "yaxis": "y"
          }
         ],
         "name": "44"
        },
        {
         "data": [
          {
           "hovertemplate": "bird=1<br>time=45<br>x=%{x}<br>y=%{y}<extra></extra>",
           "legendgroup": "1",
           "marker": {
            "color": "#636efa",
            "line": {
             "width": 3
            },
            "opacity": 0.8,
            "size": 14,
            "symbol": "square"
           },
           "mode": "markers",
           "name": "1",
           "orientation": "v",
           "showlegend": true,
           "type": "scatter",
           "x": [
            26
           ],
           "xaxis": "x",
           "y": [
            14
           ],
           "yaxis": "y"
          },
          {
           "hovertemplate": "bird=2<br>time=45<br>x=%{x}<br>y=%{y}<extra></extra>",
           "legendgroup": "2",
           "marker": {
            "color": "#EF553B",
            "line": {
             "width": 3
            },
            "opacity": 0.8,
            "size": 14,
            "symbol": "square"
           },
           "mode": "markers",
           "name": "2",
           "orientation": "v",
           "showlegend": true,
           "type": "scatter",
           "x": [
            10
           ],
           "xaxis": "x",
           "y": [
            3
           ],
           "yaxis": "y"
          },
          {
           "hovertemplate": "bird=reward<br>time=45<br>x=%{x}<br>y=%{y}<extra></extra>",
           "legendgroup": "reward",
           "marker": {
            "color": "yellow",
            "symbol": "square"
           },
           "mode": "markers",
           "name": "reward",
           "orientation": "v",
           "showlegend": false,
           "type": "scatter",
           "x": [
            18,
            11,
            6,
            14,
            7,
            21
           ],
           "xaxis": "x",
           "y": [
            2,
            8,
            9,
            20,
            21,
            21
           ],
           "yaxis": "y"
          }
         ],
         "name": "45"
        },
        {
         "data": [
          {
           "hovertemplate": "bird=1<br>time=46<br>x=%{x}<br>y=%{y}<extra></extra>",
           "legendgroup": "1",
           "marker": {
            "color": "#636efa",
            "line": {
             "width": 3
            },
            "opacity": 0.8,
            "size": 14,
            "symbol": "square"
           },
           "mode": "markers",
           "name": "1",
           "orientation": "v",
           "showlegend": true,
           "type": "scatter",
           "x": [
            26
           ],
           "xaxis": "x",
           "y": [
            14
           ],
           "yaxis": "y"
          },
          {
           "hovertemplate": "bird=2<br>time=46<br>x=%{x}<br>y=%{y}<extra></extra>",
           "legendgroup": "2",
           "marker": {
            "color": "#EF553B",
            "line": {
             "width": 3
            },
            "opacity": 0.8,
            "size": 14,
            "symbol": "square"
           },
           "mode": "markers",
           "name": "2",
           "orientation": "v",
           "showlegend": true,
           "type": "scatter",
           "x": [
            10
           ],
           "xaxis": "x",
           "y": [
            3
           ],
           "yaxis": "y"
          },
          {
           "hovertemplate": "bird=reward<br>time=46<br>x=%{x}<br>y=%{y}<extra></extra>",
           "legendgroup": "reward",
           "marker": {
            "color": "yellow",
            "symbol": "square"
           },
           "mode": "markers",
           "name": "reward",
           "orientation": "v",
           "showlegend": false,
           "type": "scatter",
           "x": [
            18,
            11,
            6,
            14,
            7,
            21
           ],
           "xaxis": "x",
           "y": [
            2,
            8,
            9,
            20,
            21,
            21
           ],
           "yaxis": "y"
          }
         ],
         "name": "46"
        },
        {
         "data": [
          {
           "hovertemplate": "bird=1<br>time=47<br>x=%{x}<br>y=%{y}<extra></extra>",
           "legendgroup": "1",
           "marker": {
            "color": "#636efa",
            "line": {
             "width": 3
            },
            "opacity": 0.8,
            "size": 14,
            "symbol": "square"
           },
           "mode": "markers",
           "name": "1",
           "orientation": "v",
           "showlegend": true,
           "type": "scatter",
           "x": [
            26
           ],
           "xaxis": "x",
           "y": [
            14
           ],
           "yaxis": "y"
          },
          {
           "hovertemplate": "bird=2<br>time=47<br>x=%{x}<br>y=%{y}<extra></extra>",
           "legendgroup": "2",
           "marker": {
            "color": "#EF553B",
            "line": {
             "width": 3
            },
            "opacity": 0.8,
            "size": 14,
            "symbol": "square"
           },
           "mode": "markers",
           "name": "2",
           "orientation": "v",
           "showlegend": true,
           "type": "scatter",
           "x": [
            10
           ],
           "xaxis": "x",
           "y": [
            3
           ],
           "yaxis": "y"
          },
          {
           "hovertemplate": "bird=reward<br>time=47<br>x=%{x}<br>y=%{y}<extra></extra>",
           "legendgroup": "reward",
           "marker": {
            "color": "yellow",
            "symbol": "square"
           },
           "mode": "markers",
           "name": "reward",
           "orientation": "v",
           "showlegend": false,
           "type": "scatter",
           "x": [
            18,
            11,
            6,
            14,
            7,
            21
           ],
           "xaxis": "x",
           "y": [
            2,
            8,
            9,
            20,
            21,
            21
           ],
           "yaxis": "y"
          }
         ],
         "name": "47"
        },
        {
         "data": [
          {
           "hovertemplate": "bird=1<br>time=48<br>x=%{x}<br>y=%{y}<extra></extra>",
           "legendgroup": "1",
           "marker": {
            "color": "#636efa",
            "line": {
             "width": 3
            },
            "opacity": 0.8,
            "size": 14,
            "symbol": "square"
           },
           "mode": "markers",
           "name": "1",
           "orientation": "v",
           "showlegend": true,
           "type": "scatter",
           "x": [
            26
           ],
           "xaxis": "x",
           "y": [
            14
           ],
           "yaxis": "y"
          },
          {
           "hovertemplate": "bird=2<br>time=48<br>x=%{x}<br>y=%{y}<extra></extra>",
           "legendgroup": "2",
           "marker": {
            "color": "#EF553B",
            "line": {
             "width": 3
            },
            "opacity": 0.8,
            "size": 14,
            "symbol": "square"
           },
           "mode": "markers",
           "name": "2",
           "orientation": "v",
           "showlegend": true,
           "type": "scatter",
           "x": [
            10
           ],
           "xaxis": "x",
           "y": [
            3
           ],
           "yaxis": "y"
          },
          {
           "hovertemplate": "bird=reward<br>time=48<br>x=%{x}<br>y=%{y}<extra></extra>",
           "legendgroup": "reward",
           "marker": {
            "color": "yellow",
            "symbol": "square"
           },
           "mode": "markers",
           "name": "reward",
           "orientation": "v",
           "showlegend": false,
           "type": "scatter",
           "x": [
            18,
            11,
            6,
            14,
            7,
            21
           ],
           "xaxis": "x",
           "y": [
            2,
            8,
            9,
            20,
            21,
            21
           ],
           "yaxis": "y"
          }
         ],
         "name": "48"
        },
        {
         "data": [
          {
           "hovertemplate": "bird=1<br>time=49<br>x=%{x}<br>y=%{y}<extra></extra>",
           "legendgroup": "1",
           "marker": {
            "color": "#636efa",
            "line": {
             "width": 3
            },
            "opacity": 0.8,
            "size": 14,
            "symbol": "square"
           },
           "mode": "markers",
           "name": "1",
           "orientation": "v",
           "showlegend": true,
           "type": "scatter",
           "x": [
            26
           ],
           "xaxis": "x",
           "y": [
            14
           ],
           "yaxis": "y"
          },
          {
           "hovertemplate": "bird=2<br>time=49<br>x=%{x}<br>y=%{y}<extra></extra>",
           "legendgroup": "2",
           "marker": {
            "color": "#EF553B",
            "line": {
             "width": 3
            },
            "opacity": 0.8,
            "size": 14,
            "symbol": "square"
           },
           "mode": "markers",
           "name": "2",
           "orientation": "v",
           "showlegend": true,
           "type": "scatter",
           "x": [
            10
           ],
           "xaxis": "x",
           "y": [
            3
           ],
           "yaxis": "y"
          },
          {
           "hovertemplate": "bird=reward<br>time=49<br>x=%{x}<br>y=%{y}<extra></extra>",
           "legendgroup": "reward",
           "marker": {
            "color": "yellow",
            "symbol": "square"
           },
           "mode": "markers",
           "name": "reward",
           "orientation": "v",
           "showlegend": false,
           "type": "scatter",
           "x": [
            18,
            11,
            6,
            14,
            7,
            21
           ],
           "xaxis": "x",
           "y": [
            2,
            8,
            9,
            20,
            21,
            21
           ],
           "yaxis": "y"
          }
         ],
         "name": "49"
        },
        {
         "data": [
          {
           "hovertemplate": "bird=1<br>time=50<br>x=%{x}<br>y=%{y}<extra></extra>",
           "legendgroup": "1",
           "marker": {
            "color": "#636efa",
            "line": {
             "width": 3
            },
            "opacity": 0.8,
            "size": 14,
            "symbol": "square"
           },
           "mode": "markers",
           "name": "1",
           "orientation": "v",
           "showlegend": true,
           "type": "scatter",
           "x": [
            26
           ],
           "xaxis": "x",
           "y": [
            14
           ],
           "yaxis": "y"
          },
          {
           "hovertemplate": "bird=2<br>time=50<br>x=%{x}<br>y=%{y}<extra></extra>",
           "legendgroup": "2",
           "marker": {
            "color": "#EF553B",
            "line": {
             "width": 3
            },
            "opacity": 0.8,
            "size": 14,
            "symbol": "square"
           },
           "mode": "markers",
           "name": "2",
           "orientation": "v",
           "showlegend": true,
           "type": "scatter",
           "x": [
            10
           ],
           "xaxis": "x",
           "y": [
            3
           ],
           "yaxis": "y"
          },
          {
           "hovertemplate": "bird=reward<br>time=50<br>x=%{x}<br>y=%{y}<extra></extra>",
           "legendgroup": "reward",
           "marker": {
            "color": "yellow",
            "symbol": "square"
           },
           "mode": "markers",
           "name": "reward",
           "orientation": "v",
           "showlegend": false,
           "type": "scatter",
           "x": [
            18,
            11,
            6,
            14,
            7,
            21
           ],
           "xaxis": "x",
           "y": [
            2,
            8,
            9,
            20,
            21,
            21
           ],
           "yaxis": "y"
          }
         ],
         "name": "50"
        },
        {
         "data": [
          {
           "hovertemplate": "bird=1<br>time=51<br>x=%{x}<br>y=%{y}<extra></extra>",
           "legendgroup": "1",
           "marker": {
            "color": "#636efa",
            "line": {
             "width": 3
            },
            "opacity": 0.8,
            "size": 14,
            "symbol": "square"
           },
           "mode": "markers",
           "name": "1",
           "orientation": "v",
           "showlegend": true,
           "type": "scatter",
           "x": [
            26
           ],
           "xaxis": "x",
           "y": [
            14
           ],
           "yaxis": "y"
          },
          {
           "hovertemplate": "bird=2<br>time=51<br>x=%{x}<br>y=%{y}<extra></extra>",
           "legendgroup": "2",
           "marker": {
            "color": "#EF553B",
            "line": {
             "width": 3
            },
            "opacity": 0.8,
            "size": 14,
            "symbol": "square"
           },
           "mode": "markers",
           "name": "2",
           "orientation": "v",
           "showlegend": true,
           "type": "scatter",
           "x": [
            10
           ],
           "xaxis": "x",
           "y": [
            3
           ],
           "yaxis": "y"
          },
          {
           "hovertemplate": "bird=reward<br>time=51<br>x=%{x}<br>y=%{y}<extra></extra>",
           "legendgroup": "reward",
           "marker": {
            "color": "yellow",
            "symbol": "square"
           },
           "mode": "markers",
           "name": "reward",
           "orientation": "v",
           "showlegend": false,
           "type": "scatter",
           "x": [
            18,
            11,
            6,
            14,
            7,
            21
           ],
           "xaxis": "x",
           "y": [
            2,
            8,
            9,
            20,
            21,
            21
           ],
           "yaxis": "y"
          }
         ],
         "name": "51"
        },
        {
         "data": [
          {
           "hovertemplate": "bird=1<br>time=52<br>x=%{x}<br>y=%{y}<extra></extra>",
           "legendgroup": "1",
           "marker": {
            "color": "#636efa",
            "line": {
             "width": 3
            },
            "opacity": 0.8,
            "size": 14,
            "symbol": "square"
           },
           "mode": "markers",
           "name": "1",
           "orientation": "v",
           "showlegend": true,
           "type": "scatter",
           "x": [
            26
           ],
           "xaxis": "x",
           "y": [
            14
           ],
           "yaxis": "y"
          },
          {
           "hovertemplate": "bird=2<br>time=52<br>x=%{x}<br>y=%{y}<extra></extra>",
           "legendgroup": "2",
           "marker": {
            "color": "#EF553B",
            "line": {
             "width": 3
            },
            "opacity": 0.8,
            "size": 14,
            "symbol": "square"
           },
           "mode": "markers",
           "name": "2",
           "orientation": "v",
           "showlegend": true,
           "type": "scatter",
           "x": [
            10
           ],
           "xaxis": "x",
           "y": [
            3
           ],
           "yaxis": "y"
          },
          {
           "hovertemplate": "bird=reward<br>time=52<br>x=%{x}<br>y=%{y}<extra></extra>",
           "legendgroup": "reward",
           "marker": {
            "color": "yellow",
            "symbol": "square"
           },
           "mode": "markers",
           "name": "reward",
           "orientation": "v",
           "showlegend": false,
           "type": "scatter",
           "x": [
            18,
            11,
            6,
            14,
            7,
            21
           ],
           "xaxis": "x",
           "y": [
            2,
            8,
            9,
            20,
            21,
            21
           ],
           "yaxis": "y"
          }
         ],
         "name": "52"
        },
        {
         "data": [
          {
           "hovertemplate": "bird=1<br>time=53<br>x=%{x}<br>y=%{y}<extra></extra>",
           "legendgroup": "1",
           "marker": {
            "color": "#636efa",
            "line": {
             "width": 3
            },
            "opacity": 0.8,
            "size": 14,
            "symbol": "square"
           },
           "mode": "markers",
           "name": "1",
           "orientation": "v",
           "showlegend": true,
           "type": "scatter",
           "x": [
            26
           ],
           "xaxis": "x",
           "y": [
            14
           ],
           "yaxis": "y"
          },
          {
           "hovertemplate": "bird=2<br>time=53<br>x=%{x}<br>y=%{y}<extra></extra>",
           "legendgroup": "2",
           "marker": {
            "color": "#EF553B",
            "line": {
             "width": 3
            },
            "opacity": 0.8,
            "size": 14,
            "symbol": "square"
           },
           "mode": "markers",
           "name": "2",
           "orientation": "v",
           "showlegend": true,
           "type": "scatter",
           "x": [
            10
           ],
           "xaxis": "x",
           "y": [
            3
           ],
           "yaxis": "y"
          },
          {
           "hovertemplate": "bird=reward<br>time=53<br>x=%{x}<br>y=%{y}<extra></extra>",
           "legendgroup": "reward",
           "marker": {
            "color": "yellow",
            "symbol": "square"
           },
           "mode": "markers",
           "name": "reward",
           "orientation": "v",
           "showlegend": false,
           "type": "scatter",
           "x": [
            18,
            11,
            6,
            14,
            7,
            21
           ],
           "xaxis": "x",
           "y": [
            2,
            8,
            9,
            20,
            21,
            21
           ],
           "yaxis": "y"
          }
         ],
         "name": "53"
        },
        {
         "data": [
          {
           "hovertemplate": "bird=1<br>time=54<br>x=%{x}<br>y=%{y}<extra></extra>",
           "legendgroup": "1",
           "marker": {
            "color": "#636efa",
            "line": {
             "width": 3
            },
            "opacity": 0.8,
            "size": 14,
            "symbol": "square"
           },
           "mode": "markers",
           "name": "1",
           "orientation": "v",
           "showlegend": true,
           "type": "scatter",
           "x": [
            26
           ],
           "xaxis": "x",
           "y": [
            14
           ],
           "yaxis": "y"
          },
          {
           "hovertemplate": "bird=2<br>time=54<br>x=%{x}<br>y=%{y}<extra></extra>",
           "legendgroup": "2",
           "marker": {
            "color": "#EF553B",
            "line": {
             "width": 3
            },
            "opacity": 0.8,
            "size": 14,
            "symbol": "square"
           },
           "mode": "markers",
           "name": "2",
           "orientation": "v",
           "showlegend": true,
           "type": "scatter",
           "x": [
            10
           ],
           "xaxis": "x",
           "y": [
            3
           ],
           "yaxis": "y"
          },
          {
           "hovertemplate": "bird=reward<br>time=54<br>x=%{x}<br>y=%{y}<extra></extra>",
           "legendgroup": "reward",
           "marker": {
            "color": "yellow",
            "symbol": "square"
           },
           "mode": "markers",
           "name": "reward",
           "orientation": "v",
           "showlegend": false,
           "type": "scatter",
           "x": [
            18,
            11,
            6,
            14,
            7,
            21
           ],
           "xaxis": "x",
           "y": [
            2,
            8,
            9,
            20,
            21,
            21
           ],
           "yaxis": "y"
          }
         ],
         "name": "54"
        },
        {
         "data": [
          {
           "hovertemplate": "bird=1<br>time=55<br>x=%{x}<br>y=%{y}<extra></extra>",
           "legendgroup": "1",
           "marker": {
            "color": "#636efa",
            "line": {
             "width": 3
            },
            "opacity": 0.8,
            "size": 14,
            "symbol": "square"
           },
           "mode": "markers",
           "name": "1",
           "orientation": "v",
           "showlegend": true,
           "type": "scatter",
           "x": [
            26
           ],
           "xaxis": "x",
           "y": [
            14
           ],
           "yaxis": "y"
          },
          {
           "hovertemplate": "bird=2<br>time=55<br>x=%{x}<br>y=%{y}<extra></extra>",
           "legendgroup": "2",
           "marker": {
            "color": "#EF553B",
            "line": {
             "width": 3
            },
            "opacity": 0.8,
            "size": 14,
            "symbol": "square"
           },
           "mode": "markers",
           "name": "2",
           "orientation": "v",
           "showlegend": true,
           "type": "scatter",
           "x": [
            10
           ],
           "xaxis": "x",
           "y": [
            3
           ],
           "yaxis": "y"
          },
          {
           "hovertemplate": "bird=reward<br>time=55<br>x=%{x}<br>y=%{y}<extra></extra>",
           "legendgroup": "reward",
           "marker": {
            "color": "yellow",
            "symbol": "square"
           },
           "mode": "markers",
           "name": "reward",
           "orientation": "v",
           "showlegend": false,
           "type": "scatter",
           "x": [
            18,
            11,
            6,
            14,
            7,
            21
           ],
           "xaxis": "x",
           "y": [
            2,
            8,
            9,
            20,
            21,
            21
           ],
           "yaxis": "y"
          }
         ],
         "name": "55"
        },
        {
         "data": [
          {
           "hovertemplate": "bird=1<br>time=56<br>x=%{x}<br>y=%{y}<extra></extra>",
           "legendgroup": "1",
           "marker": {
            "color": "#636efa",
            "line": {
             "width": 3
            },
            "opacity": 0.8,
            "size": 14,
            "symbol": "square"
           },
           "mode": "markers",
           "name": "1",
           "orientation": "v",
           "showlegend": true,
           "type": "scatter",
           "x": [
            26
           ],
           "xaxis": "x",
           "y": [
            14
           ],
           "yaxis": "y"
          },
          {
           "hovertemplate": "bird=2<br>time=56<br>x=%{x}<br>y=%{y}<extra></extra>",
           "legendgroup": "2",
           "marker": {
            "color": "#EF553B",
            "line": {
             "width": 3
            },
            "opacity": 0.8,
            "size": 14,
            "symbol": "square"
           },
           "mode": "markers",
           "name": "2",
           "orientation": "v",
           "showlegend": true,
           "type": "scatter",
           "x": [
            10
           ],
           "xaxis": "x",
           "y": [
            3
           ],
           "yaxis": "y"
          },
          {
           "hovertemplate": "bird=reward<br>time=56<br>x=%{x}<br>y=%{y}<extra></extra>",
           "legendgroup": "reward",
           "marker": {
            "color": "yellow",
            "symbol": "square"
           },
           "mode": "markers",
           "name": "reward",
           "orientation": "v",
           "showlegend": false,
           "type": "scatter",
           "x": [
            18,
            11,
            6,
            14,
            7,
            21
           ],
           "xaxis": "x",
           "y": [
            2,
            8,
            9,
            20,
            21,
            21
           ],
           "yaxis": "y"
          }
         ],
         "name": "56"
        },
        {
         "data": [
          {
           "hovertemplate": "bird=1<br>time=57<br>x=%{x}<br>y=%{y}<extra></extra>",
           "legendgroup": "1",
           "marker": {
            "color": "#636efa",
            "line": {
             "width": 3
            },
            "opacity": 0.8,
            "size": 14,
            "symbol": "square"
           },
           "mode": "markers",
           "name": "1",
           "orientation": "v",
           "showlegend": true,
           "type": "scatter",
           "x": [
            26
           ],
           "xaxis": "x",
           "y": [
            14
           ],
           "yaxis": "y"
          },
          {
           "hovertemplate": "bird=2<br>time=57<br>x=%{x}<br>y=%{y}<extra></extra>",
           "legendgroup": "2",
           "marker": {
            "color": "#EF553B",
            "line": {
             "width": 3
            },
            "opacity": 0.8,
            "size": 14,
            "symbol": "square"
           },
           "mode": "markers",
           "name": "2",
           "orientation": "v",
           "showlegend": true,
           "type": "scatter",
           "x": [
            10
           ],
           "xaxis": "x",
           "y": [
            3
           ],
           "yaxis": "y"
          },
          {
           "hovertemplate": "bird=reward<br>time=57<br>x=%{x}<br>y=%{y}<extra></extra>",
           "legendgroup": "reward",
           "marker": {
            "color": "yellow",
            "symbol": "square"
           },
           "mode": "markers",
           "name": "reward",
           "orientation": "v",
           "showlegend": false,
           "type": "scatter",
           "x": [
            18,
            11,
            6,
            14,
            7,
            21
           ],
           "xaxis": "x",
           "y": [
            2,
            8,
            9,
            20,
            21,
            21
           ],
           "yaxis": "y"
          }
         ],
         "name": "57"
        },
        {
         "data": [
          {
           "hovertemplate": "bird=1<br>time=58<br>x=%{x}<br>y=%{y}<extra></extra>",
           "legendgroup": "1",
           "marker": {
            "color": "#636efa",
            "line": {
             "width": 3
            },
            "opacity": 0.8,
            "size": 14,
            "symbol": "square"
           },
           "mode": "markers",
           "name": "1",
           "orientation": "v",
           "showlegend": true,
           "type": "scatter",
           "x": [
            26
           ],
           "xaxis": "x",
           "y": [
            14
           ],
           "yaxis": "y"
          },
          {
           "hovertemplate": "bird=2<br>time=58<br>x=%{x}<br>y=%{y}<extra></extra>",
           "legendgroup": "2",
           "marker": {
            "color": "#EF553B",
            "line": {
             "width": 3
            },
            "opacity": 0.8,
            "size": 14,
            "symbol": "square"
           },
           "mode": "markers",
           "name": "2",
           "orientation": "v",
           "showlegend": true,
           "type": "scatter",
           "x": [
            10
           ],
           "xaxis": "x",
           "y": [
            3
           ],
           "yaxis": "y"
          },
          {
           "hovertemplate": "bird=reward<br>time=58<br>x=%{x}<br>y=%{y}<extra></extra>",
           "legendgroup": "reward",
           "marker": {
            "color": "yellow",
            "symbol": "square"
           },
           "mode": "markers",
           "name": "reward",
           "orientation": "v",
           "showlegend": false,
           "type": "scatter",
           "x": [
            18,
            11,
            6,
            14,
            7,
            21
           ],
           "xaxis": "x",
           "y": [
            2,
            8,
            9,
            20,
            21,
            21
           ],
           "yaxis": "y"
          }
         ],
         "name": "58"
        },
        {
         "data": [
          {
           "hovertemplate": "bird=1<br>time=59<br>x=%{x}<br>y=%{y}<extra></extra>",
           "legendgroup": "1",
           "marker": {
            "color": "#636efa",
            "line": {
             "width": 3
            },
            "opacity": 0.8,
            "size": 14,
            "symbol": "square"
           },
           "mode": "markers",
           "name": "1",
           "orientation": "v",
           "showlegend": true,
           "type": "scatter",
           "x": [
            26
           ],
           "xaxis": "x",
           "y": [
            14
           ],
           "yaxis": "y"
          },
          {
           "hovertemplate": "bird=2<br>time=59<br>x=%{x}<br>y=%{y}<extra></extra>",
           "legendgroup": "2",
           "marker": {
            "color": "#EF553B",
            "line": {
             "width": 3
            },
            "opacity": 0.8,
            "size": 14,
            "symbol": "square"
           },
           "mode": "markers",
           "name": "2",
           "orientation": "v",
           "showlegend": true,
           "type": "scatter",
           "x": [
            10
           ],
           "xaxis": "x",
           "y": [
            3
           ],
           "yaxis": "y"
          },
          {
           "hovertemplate": "bird=reward<br>time=59<br>x=%{x}<br>y=%{y}<extra></extra>",
           "legendgroup": "reward",
           "marker": {
            "color": "yellow",
            "symbol": "square"
           },
           "mode": "markers",
           "name": "reward",
           "orientation": "v",
           "showlegend": false,
           "type": "scatter",
           "x": [
            18,
            11,
            6,
            14,
            7,
            21
           ],
           "xaxis": "x",
           "y": [
            2,
            8,
            9,
            20,
            21,
            21
           ],
           "yaxis": "y"
          }
         ],
         "name": "59"
        },
        {
         "data": [
          {
           "hovertemplate": "bird=1<br>time=60<br>x=%{x}<br>y=%{y}<extra></extra>",
           "legendgroup": "1",
           "marker": {
            "color": "#636efa",
            "line": {
             "width": 3
            },
            "opacity": 0.8,
            "size": 14,
            "symbol": "square"
           },
           "mode": "markers",
           "name": "1",
           "orientation": "v",
           "showlegend": true,
           "type": "scatter",
           "x": [
            26
           ],
           "xaxis": "x",
           "y": [
            14
           ],
           "yaxis": "y"
          },
          {
           "hovertemplate": "bird=2<br>time=60<br>x=%{x}<br>y=%{y}<extra></extra>",
           "legendgroup": "2",
           "marker": {
            "color": "#EF553B",
            "line": {
             "width": 3
            },
            "opacity": 0.8,
            "size": 14,
            "symbol": "square"
           },
           "mode": "markers",
           "name": "2",
           "orientation": "v",
           "showlegend": true,
           "type": "scatter",
           "x": [
            10
           ],
           "xaxis": "x",
           "y": [
            3
           ],
           "yaxis": "y"
          },
          {
           "hovertemplate": "bird=reward<br>time=60<br>x=%{x}<br>y=%{y}<extra></extra>",
           "legendgroup": "reward",
           "marker": {
            "color": "yellow",
            "symbol": "square"
           },
           "mode": "markers",
           "name": "reward",
           "orientation": "v",
           "showlegend": false,
           "type": "scatter",
           "x": [
            18,
            11,
            6,
            14,
            7,
            21
           ],
           "xaxis": "x",
           "y": [
            2,
            8,
            9,
            20,
            21,
            21
           ],
           "yaxis": "y"
          }
         ],
         "name": "60"
        },
        {
         "data": [
          {
           "hovertemplate": "bird=1<br>time=61<br>x=%{x}<br>y=%{y}<extra></extra>",
           "legendgroup": "1",
           "marker": {
            "color": "#636efa",
            "line": {
             "width": 3
            },
            "opacity": 0.8,
            "size": 14,
            "symbol": "square"
           },
           "mode": "markers",
           "name": "1",
           "orientation": "v",
           "showlegend": true,
           "type": "scatter",
           "x": [
            26
           ],
           "xaxis": "x",
           "y": [
            14
           ],
           "yaxis": "y"
          },
          {
           "hovertemplate": "bird=2<br>time=61<br>x=%{x}<br>y=%{y}<extra></extra>",
           "legendgroup": "2",
           "marker": {
            "color": "#EF553B",
            "line": {
             "width": 3
            },
            "opacity": 0.8,
            "size": 14,
            "symbol": "square"
           },
           "mode": "markers",
           "name": "2",
           "orientation": "v",
           "showlegend": true,
           "type": "scatter",
           "x": [
            10
           ],
           "xaxis": "x",
           "y": [
            3
           ],
           "yaxis": "y"
          },
          {
           "hovertemplate": "bird=reward<br>time=61<br>x=%{x}<br>y=%{y}<extra></extra>",
           "legendgroup": "reward",
           "marker": {
            "color": "yellow",
            "symbol": "square"
           },
           "mode": "markers",
           "name": "reward",
           "orientation": "v",
           "showlegend": false,
           "type": "scatter",
           "x": [
            18,
            11,
            6,
            14,
            7,
            21
           ],
           "xaxis": "x",
           "y": [
            2,
            8,
            9,
            20,
            21,
            21
           ],
           "yaxis": "y"
          }
         ],
         "name": "61"
        },
        {
         "data": [
          {
           "hovertemplate": "bird=1<br>time=62<br>x=%{x}<br>y=%{y}<extra></extra>",
           "legendgroup": "1",
           "marker": {
            "color": "#636efa",
            "line": {
             "width": 3
            },
            "opacity": 0.8,
            "size": 14,
            "symbol": "square"
           },
           "mode": "markers",
           "name": "1",
           "orientation": "v",
           "showlegend": true,
           "type": "scatter",
           "x": [
            26
           ],
           "xaxis": "x",
           "y": [
            14
           ],
           "yaxis": "y"
          },
          {
           "hovertemplate": "bird=2<br>time=62<br>x=%{x}<br>y=%{y}<extra></extra>",
           "legendgroup": "2",
           "marker": {
            "color": "#EF553B",
            "line": {
             "width": 3
            },
            "opacity": 0.8,
            "size": 14,
            "symbol": "square"
           },
           "mode": "markers",
           "name": "2",
           "orientation": "v",
           "showlegend": true,
           "type": "scatter",
           "x": [
            10
           ],
           "xaxis": "x",
           "y": [
            3
           ],
           "yaxis": "y"
          },
          {
           "hovertemplate": "bird=reward<br>time=62<br>x=%{x}<br>y=%{y}<extra></extra>",
           "legendgroup": "reward",
           "marker": {
            "color": "yellow",
            "symbol": "square"
           },
           "mode": "markers",
           "name": "reward",
           "orientation": "v",
           "showlegend": false,
           "type": "scatter",
           "x": [
            18,
            11,
            6,
            14,
            7,
            21
           ],
           "xaxis": "x",
           "y": [
            2,
            8,
            9,
            20,
            21,
            21
           ],
           "yaxis": "y"
          }
         ],
         "name": "62"
        },
        {
         "data": [
          {
           "hovertemplate": "bird=1<br>time=63<br>x=%{x}<br>y=%{y}<extra></extra>",
           "legendgroup": "1",
           "marker": {
            "color": "#636efa",
            "line": {
             "width": 3
            },
            "opacity": 0.8,
            "size": 14,
            "symbol": "square"
           },
           "mode": "markers",
           "name": "1",
           "orientation": "v",
           "showlegend": true,
           "type": "scatter",
           "x": [
            26
           ],
           "xaxis": "x",
           "y": [
            14
           ],
           "yaxis": "y"
          },
          {
           "hovertemplate": "bird=2<br>time=63<br>x=%{x}<br>y=%{y}<extra></extra>",
           "legendgroup": "2",
           "marker": {
            "color": "#EF553B",
            "line": {
             "width": 3
            },
            "opacity": 0.8,
            "size": 14,
            "symbol": "square"
           },
           "mode": "markers",
           "name": "2",
           "orientation": "v",
           "showlegend": true,
           "type": "scatter",
           "x": [
            10
           ],
           "xaxis": "x",
           "y": [
            3
           ],
           "yaxis": "y"
          },
          {
           "hovertemplate": "bird=reward<br>time=63<br>x=%{x}<br>y=%{y}<extra></extra>",
           "legendgroup": "reward",
           "marker": {
            "color": "yellow",
            "symbol": "square"
           },
           "mode": "markers",
           "name": "reward",
           "orientation": "v",
           "showlegend": false,
           "type": "scatter",
           "x": [
            18,
            11,
            6,
            14,
            7,
            21
           ],
           "xaxis": "x",
           "y": [
            2,
            8,
            9,
            20,
            21,
            21
           ],
           "yaxis": "y"
          }
         ],
         "name": "63"
        },
        {
         "data": [
          {
           "hovertemplate": "bird=1<br>time=64<br>x=%{x}<br>y=%{y}<extra></extra>",
           "legendgroup": "1",
           "marker": {
            "color": "#636efa",
            "line": {
             "width": 3
            },
            "opacity": 0.8,
            "size": 14,
            "symbol": "square"
           },
           "mode": "markers",
           "name": "1",
           "orientation": "v",
           "showlegend": true,
           "type": "scatter",
           "x": [
            26
           ],
           "xaxis": "x",
           "y": [
            14
           ],
           "yaxis": "y"
          },
          {
           "hovertemplate": "bird=2<br>time=64<br>x=%{x}<br>y=%{y}<extra></extra>",
           "legendgroup": "2",
           "marker": {
            "color": "#EF553B",
            "line": {
             "width": 3
            },
            "opacity": 0.8,
            "size": 14,
            "symbol": "square"
           },
           "mode": "markers",
           "name": "2",
           "orientation": "v",
           "showlegend": true,
           "type": "scatter",
           "x": [
            10
           ],
           "xaxis": "x",
           "y": [
            3
           ],
           "yaxis": "y"
          },
          {
           "hovertemplate": "bird=reward<br>time=64<br>x=%{x}<br>y=%{y}<extra></extra>",
           "legendgroup": "reward",
           "marker": {
            "color": "yellow",
            "symbol": "square"
           },
           "mode": "markers",
           "name": "reward",
           "orientation": "v",
           "showlegend": false,
           "type": "scatter",
           "x": [
            18,
            11,
            6,
            14,
            7,
            21
           ],
           "xaxis": "x",
           "y": [
            2,
            8,
            9,
            20,
            21,
            21
           ],
           "yaxis": "y"
          }
         ],
         "name": "64"
        },
        {
         "data": [
          {
           "hovertemplate": "bird=1<br>time=65<br>x=%{x}<br>y=%{y}<extra></extra>",
           "legendgroup": "1",
           "marker": {
            "color": "#636efa",
            "line": {
             "width": 3
            },
            "opacity": 0.8,
            "size": 14,
            "symbol": "square"
           },
           "mode": "markers",
           "name": "1",
           "orientation": "v",
           "showlegend": true,
           "type": "scatter",
           "x": [
            26
           ],
           "xaxis": "x",
           "y": [
            14
           ],
           "yaxis": "y"
          },
          {
           "hovertemplate": "bird=2<br>time=65<br>x=%{x}<br>y=%{y}<extra></extra>",
           "legendgroup": "2",
           "marker": {
            "color": "#EF553B",
            "line": {
             "width": 3
            },
            "opacity": 0.8,
            "size": 14,
            "symbol": "square"
           },
           "mode": "markers",
           "name": "2",
           "orientation": "v",
           "showlegend": true,
           "type": "scatter",
           "x": [
            10
           ],
           "xaxis": "x",
           "y": [
            3
           ],
           "yaxis": "y"
          },
          {
           "hovertemplate": "bird=reward<br>time=65<br>x=%{x}<br>y=%{y}<extra></extra>",
           "legendgroup": "reward",
           "marker": {
            "color": "yellow",
            "symbol": "square"
           },
           "mode": "markers",
           "name": "reward",
           "orientation": "v",
           "showlegend": false,
           "type": "scatter",
           "x": [
            18,
            11,
            6,
            14,
            7,
            21
           ],
           "xaxis": "x",
           "y": [
            2,
            8,
            9,
            20,
            21,
            21
           ],
           "yaxis": "y"
          }
         ],
         "name": "65"
        },
        {
         "data": [
          {
           "hovertemplate": "bird=1<br>time=66<br>x=%{x}<br>y=%{y}<extra></extra>",
           "legendgroup": "1",
           "marker": {
            "color": "#636efa",
            "line": {
             "width": 3
            },
            "opacity": 0.8,
            "size": 14,
            "symbol": "square"
           },
           "mode": "markers",
           "name": "1",
           "orientation": "v",
           "showlegend": true,
           "type": "scatter",
           "x": [
            26
           ],
           "xaxis": "x",
           "y": [
            14
           ],
           "yaxis": "y"
          },
          {
           "hovertemplate": "bird=2<br>time=66<br>x=%{x}<br>y=%{y}<extra></extra>",
           "legendgroup": "2",
           "marker": {
            "color": "#EF553B",
            "line": {
             "width": 3
            },
            "opacity": 0.8,
            "size": 14,
            "symbol": "square"
           },
           "mode": "markers",
           "name": "2",
           "orientation": "v",
           "showlegend": true,
           "type": "scatter",
           "x": [
            10
           ],
           "xaxis": "x",
           "y": [
            3
           ],
           "yaxis": "y"
          },
          {
           "hovertemplate": "bird=reward<br>time=66<br>x=%{x}<br>y=%{y}<extra></extra>",
           "legendgroup": "reward",
           "marker": {
            "color": "yellow",
            "symbol": "square"
           },
           "mode": "markers",
           "name": "reward",
           "orientation": "v",
           "showlegend": false,
           "type": "scatter",
           "x": [
            18,
            11,
            6,
            14,
            7,
            21
           ],
           "xaxis": "x",
           "y": [
            2,
            8,
            9,
            20,
            21,
            21
           ],
           "yaxis": "y"
          }
         ],
         "name": "66"
        },
        {
         "data": [
          {
           "hovertemplate": "bird=1<br>time=67<br>x=%{x}<br>y=%{y}<extra></extra>",
           "legendgroup": "1",
           "marker": {
            "color": "#636efa",
            "line": {
             "width": 3
            },
            "opacity": 0.8,
            "size": 14,
            "symbol": "square"
           },
           "mode": "markers",
           "name": "1",
           "orientation": "v",
           "showlegend": true,
           "type": "scatter",
           "x": [
            26
           ],
           "xaxis": "x",
           "y": [
            14
           ],
           "yaxis": "y"
          },
          {
           "hovertemplate": "bird=2<br>time=67<br>x=%{x}<br>y=%{y}<extra></extra>",
           "legendgroup": "2",
           "marker": {
            "color": "#EF553B",
            "line": {
             "width": 3
            },
            "opacity": 0.8,
            "size": 14,
            "symbol": "square"
           },
           "mode": "markers",
           "name": "2",
           "orientation": "v",
           "showlegend": true,
           "type": "scatter",
           "x": [
            10
           ],
           "xaxis": "x",
           "y": [
            3
           ],
           "yaxis": "y"
          },
          {
           "hovertemplate": "bird=reward<br>time=67<br>x=%{x}<br>y=%{y}<extra></extra>",
           "legendgroup": "reward",
           "marker": {
            "color": "yellow",
            "symbol": "square"
           },
           "mode": "markers",
           "name": "reward",
           "orientation": "v",
           "showlegend": false,
           "type": "scatter",
           "x": [
            18,
            11,
            6,
            14,
            7,
            21
           ],
           "xaxis": "x",
           "y": [
            2,
            8,
            9,
            20,
            21,
            21
           ],
           "yaxis": "y"
          }
         ],
         "name": "67"
        },
        {
         "data": [
          {
           "hovertemplate": "bird=1<br>time=68<br>x=%{x}<br>y=%{y}<extra></extra>",
           "legendgroup": "1",
           "marker": {
            "color": "#636efa",
            "line": {
             "width": 3
            },
            "opacity": 0.8,
            "size": 14,
            "symbol": "square"
           },
           "mode": "markers",
           "name": "1",
           "orientation": "v",
           "showlegend": true,
           "type": "scatter",
           "x": [
            26
           ],
           "xaxis": "x",
           "y": [
            14
           ],
           "yaxis": "y"
          },
          {
           "hovertemplate": "bird=2<br>time=68<br>x=%{x}<br>y=%{y}<extra></extra>",
           "legendgroup": "2",
           "marker": {
            "color": "#EF553B",
            "line": {
             "width": 3
            },
            "opacity": 0.8,
            "size": 14,
            "symbol": "square"
           },
           "mode": "markers",
           "name": "2",
           "orientation": "v",
           "showlegend": true,
           "type": "scatter",
           "x": [
            10
           ],
           "xaxis": "x",
           "y": [
            3
           ],
           "yaxis": "y"
          },
          {
           "hovertemplate": "bird=reward<br>time=68<br>x=%{x}<br>y=%{y}<extra></extra>",
           "legendgroup": "reward",
           "marker": {
            "color": "yellow",
            "symbol": "square"
           },
           "mode": "markers",
           "name": "reward",
           "orientation": "v",
           "showlegend": false,
           "type": "scatter",
           "x": [
            18,
            11,
            6,
            14,
            7,
            21
           ],
           "xaxis": "x",
           "y": [
            2,
            8,
            9,
            20,
            21,
            21
           ],
           "yaxis": "y"
          }
         ],
         "name": "68"
        },
        {
         "data": [
          {
           "hovertemplate": "bird=1<br>time=69<br>x=%{x}<br>y=%{y}<extra></extra>",
           "legendgroup": "1",
           "marker": {
            "color": "#636efa",
            "line": {
             "width": 3
            },
            "opacity": 0.8,
            "size": 14,
            "symbol": "square"
           },
           "mode": "markers",
           "name": "1",
           "orientation": "v",
           "showlegend": true,
           "type": "scatter",
           "x": [
            26
           ],
           "xaxis": "x",
           "y": [
            14
           ],
           "yaxis": "y"
          },
          {
           "hovertemplate": "bird=2<br>time=69<br>x=%{x}<br>y=%{y}<extra></extra>",
           "legendgroup": "2",
           "marker": {
            "color": "#EF553B",
            "line": {
             "width": 3
            },
            "opacity": 0.8,
            "size": 14,
            "symbol": "square"
           },
           "mode": "markers",
           "name": "2",
           "orientation": "v",
           "showlegend": true,
           "type": "scatter",
           "x": [
            10
           ],
           "xaxis": "x",
           "y": [
            3
           ],
           "yaxis": "y"
          },
          {
           "hovertemplate": "bird=reward<br>time=69<br>x=%{x}<br>y=%{y}<extra></extra>",
           "legendgroup": "reward",
           "marker": {
            "color": "yellow",
            "symbol": "square"
           },
           "mode": "markers",
           "name": "reward",
           "orientation": "v",
           "showlegend": false,
           "type": "scatter",
           "x": [
            18,
            11,
            6,
            14,
            7,
            21
           ],
           "xaxis": "x",
           "y": [
            2,
            8,
            9,
            20,
            21,
            21
           ],
           "yaxis": "y"
          }
         ],
         "name": "69"
        },
        {
         "data": [
          {
           "hovertemplate": "bird=1<br>time=70<br>x=%{x}<br>y=%{y}<extra></extra>",
           "legendgroup": "1",
           "marker": {
            "color": "#636efa",
            "line": {
             "width": 3
            },
            "opacity": 0.8,
            "size": 14,
            "symbol": "square"
           },
           "mode": "markers",
           "name": "1",
           "orientation": "v",
           "showlegend": true,
           "type": "scatter",
           "x": [
            26
           ],
           "xaxis": "x",
           "y": [
            14
           ],
           "yaxis": "y"
          },
          {
           "hovertemplate": "bird=2<br>time=70<br>x=%{x}<br>y=%{y}<extra></extra>",
           "legendgroup": "2",
           "marker": {
            "color": "#EF553B",
            "line": {
             "width": 3
            },
            "opacity": 0.8,
            "size": 14,
            "symbol": "square"
           },
           "mode": "markers",
           "name": "2",
           "orientation": "v",
           "showlegend": true,
           "type": "scatter",
           "x": [
            10
           ],
           "xaxis": "x",
           "y": [
            3
           ],
           "yaxis": "y"
          },
          {
           "hovertemplate": "bird=reward<br>time=70<br>x=%{x}<br>y=%{y}<extra></extra>",
           "legendgroup": "reward",
           "marker": {
            "color": "yellow",
            "symbol": "square"
           },
           "mode": "markers",
           "name": "reward",
           "orientation": "v",
           "showlegend": false,
           "type": "scatter",
           "x": [
            18,
            11,
            6,
            14,
            7,
            21
           ],
           "xaxis": "x",
           "y": [
            2,
            8,
            9,
            20,
            21,
            21
           ],
           "yaxis": "y"
          }
         ],
         "name": "70"
        },
        {
         "data": [
          {
           "hovertemplate": "bird=1<br>time=71<br>x=%{x}<br>y=%{y}<extra></extra>",
           "legendgroup": "1",
           "marker": {
            "color": "#636efa",
            "line": {
             "width": 3
            },
            "opacity": 0.8,
            "size": 14,
            "symbol": "square"
           },
           "mode": "markers",
           "name": "1",
           "orientation": "v",
           "showlegend": true,
           "type": "scatter",
           "x": [
            26
           ],
           "xaxis": "x",
           "y": [
            14
           ],
           "yaxis": "y"
          },
          {
           "hovertemplate": "bird=2<br>time=71<br>x=%{x}<br>y=%{y}<extra></extra>",
           "legendgroup": "2",
           "marker": {
            "color": "#EF553B",
            "line": {
             "width": 3
            },
            "opacity": 0.8,
            "size": 14,
            "symbol": "square"
           },
           "mode": "markers",
           "name": "2",
           "orientation": "v",
           "showlegend": true,
           "type": "scatter",
           "x": [
            10
           ],
           "xaxis": "x",
           "y": [
            3
           ],
           "yaxis": "y"
          },
          {
           "hovertemplate": "bird=reward<br>time=71<br>x=%{x}<br>y=%{y}<extra></extra>",
           "legendgroup": "reward",
           "marker": {
            "color": "yellow",
            "symbol": "square"
           },
           "mode": "markers",
           "name": "reward",
           "orientation": "v",
           "showlegend": false,
           "type": "scatter",
           "x": [
            18,
            11,
            6,
            14,
            7,
            21
           ],
           "xaxis": "x",
           "y": [
            2,
            8,
            9,
            20,
            21,
            21
           ],
           "yaxis": "y"
          }
         ],
         "name": "71"
        },
        {
         "data": [
          {
           "hovertemplate": "bird=1<br>time=72<br>x=%{x}<br>y=%{y}<extra></extra>",
           "legendgroup": "1",
           "marker": {
            "color": "#636efa",
            "line": {
             "width": 3
            },
            "opacity": 0.8,
            "size": 14,
            "symbol": "square"
           },
           "mode": "markers",
           "name": "1",
           "orientation": "v",
           "showlegend": true,
           "type": "scatter",
           "x": [
            26
           ],
           "xaxis": "x",
           "y": [
            14
           ],
           "yaxis": "y"
          },
          {
           "hovertemplate": "bird=2<br>time=72<br>x=%{x}<br>y=%{y}<extra></extra>",
           "legendgroup": "2",
           "marker": {
            "color": "#EF553B",
            "line": {
             "width": 3
            },
            "opacity": 0.8,
            "size": 14,
            "symbol": "square"
           },
           "mode": "markers",
           "name": "2",
           "orientation": "v",
           "showlegend": true,
           "type": "scatter",
           "x": [
            10
           ],
           "xaxis": "x",
           "y": [
            3
           ],
           "yaxis": "y"
          },
          {
           "hovertemplate": "bird=reward<br>time=72<br>x=%{x}<br>y=%{y}<extra></extra>",
           "legendgroup": "reward",
           "marker": {
            "color": "yellow",
            "symbol": "square"
           },
           "mode": "markers",
           "name": "reward",
           "orientation": "v",
           "showlegend": false,
           "type": "scatter",
           "x": [
            18,
            11,
            6,
            14,
            7,
            21
           ],
           "xaxis": "x",
           "y": [
            2,
            8,
            9,
            20,
            21,
            21
           ],
           "yaxis": "y"
          }
         ],
         "name": "72"
        },
        {
         "data": [
          {
           "hovertemplate": "bird=1<br>time=73<br>x=%{x}<br>y=%{y}<extra></extra>",
           "legendgroup": "1",
           "marker": {
            "color": "#636efa",
            "line": {
             "width": 3
            },
            "opacity": 0.8,
            "size": 14,
            "symbol": "square"
           },
           "mode": "markers",
           "name": "1",
           "orientation": "v",
           "showlegend": true,
           "type": "scatter",
           "x": [
            26
           ],
           "xaxis": "x",
           "y": [
            14
           ],
           "yaxis": "y"
          },
          {
           "hovertemplate": "bird=2<br>time=73<br>x=%{x}<br>y=%{y}<extra></extra>",
           "legendgroup": "2",
           "marker": {
            "color": "#EF553B",
            "line": {
             "width": 3
            },
            "opacity": 0.8,
            "size": 14,
            "symbol": "square"
           },
           "mode": "markers",
           "name": "2",
           "orientation": "v",
           "showlegend": true,
           "type": "scatter",
           "x": [
            10
           ],
           "xaxis": "x",
           "y": [
            3
           ],
           "yaxis": "y"
          },
          {
           "hovertemplate": "bird=reward<br>time=73<br>x=%{x}<br>y=%{y}<extra></extra>",
           "legendgroup": "reward",
           "marker": {
            "color": "yellow",
            "symbol": "square"
           },
           "mode": "markers",
           "name": "reward",
           "orientation": "v",
           "showlegend": false,
           "type": "scatter",
           "x": [
            18,
            11,
            6,
            14,
            7,
            21
           ],
           "xaxis": "x",
           "y": [
            2,
            8,
            9,
            20,
            21,
            21
           ],
           "yaxis": "y"
          }
         ],
         "name": "73"
        },
        {
         "data": [
          {
           "hovertemplate": "bird=1<br>time=74<br>x=%{x}<br>y=%{y}<extra></extra>",
           "legendgroup": "1",
           "marker": {
            "color": "#636efa",
            "line": {
             "width": 3
            },
            "opacity": 0.8,
            "size": 14,
            "symbol": "square"
           },
           "mode": "markers",
           "name": "1",
           "orientation": "v",
           "showlegend": true,
           "type": "scatter",
           "x": [
            26
           ],
           "xaxis": "x",
           "y": [
            14
           ],
           "yaxis": "y"
          },
          {
           "hovertemplate": "bird=2<br>time=74<br>x=%{x}<br>y=%{y}<extra></extra>",
           "legendgroup": "2",
           "marker": {
            "color": "#EF553B",
            "line": {
             "width": 3
            },
            "opacity": 0.8,
            "size": 14,
            "symbol": "square"
           },
           "mode": "markers",
           "name": "2",
           "orientation": "v",
           "showlegend": true,
           "type": "scatter",
           "x": [
            10
           ],
           "xaxis": "x",
           "y": [
            3
           ],
           "yaxis": "y"
          },
          {
           "hovertemplate": "bird=reward<br>time=74<br>x=%{x}<br>y=%{y}<extra></extra>",
           "legendgroup": "reward",
           "marker": {
            "color": "yellow",
            "symbol": "square"
           },
           "mode": "markers",
           "name": "reward",
           "orientation": "v",
           "showlegend": false,
           "type": "scatter",
           "x": [
            18,
            11,
            6,
            14,
            7,
            21
           ],
           "xaxis": "x",
           "y": [
            2,
            8,
            9,
            20,
            21,
            21
           ],
           "yaxis": "y"
          }
         ],
         "name": "74"
        },
        {
         "data": [
          {
           "hovertemplate": "bird=1<br>time=75<br>x=%{x}<br>y=%{y}<extra></extra>",
           "legendgroup": "1",
           "marker": {
            "color": "#636efa",
            "line": {
             "width": 3
            },
            "opacity": 0.8,
            "size": 14,
            "symbol": "square"
           },
           "mode": "markers",
           "name": "1",
           "orientation": "v",
           "showlegend": true,
           "type": "scatter",
           "x": [
            26
           ],
           "xaxis": "x",
           "y": [
            14
           ],
           "yaxis": "y"
          },
          {
           "hovertemplate": "bird=2<br>time=75<br>x=%{x}<br>y=%{y}<extra></extra>",
           "legendgroup": "2",
           "marker": {
            "color": "#EF553B",
            "line": {
             "width": 3
            },
            "opacity": 0.8,
            "size": 14,
            "symbol": "square"
           },
           "mode": "markers",
           "name": "2",
           "orientation": "v",
           "showlegend": true,
           "type": "scatter",
           "x": [
            10
           ],
           "xaxis": "x",
           "y": [
            3
           ],
           "yaxis": "y"
          },
          {
           "hovertemplate": "bird=reward<br>time=75<br>x=%{x}<br>y=%{y}<extra></extra>",
           "legendgroup": "reward",
           "marker": {
            "color": "yellow",
            "symbol": "square"
           },
           "mode": "markers",
           "name": "reward",
           "orientation": "v",
           "showlegend": false,
           "type": "scatter",
           "x": [
            18,
            11,
            6,
            14,
            7,
            21
           ],
           "xaxis": "x",
           "y": [
            2,
            8,
            9,
            20,
            21,
            21
           ],
           "yaxis": "y"
          }
         ],
         "name": "75"
        },
        {
         "data": [
          {
           "hovertemplate": "bird=1<br>time=76<br>x=%{x}<br>y=%{y}<extra></extra>",
           "legendgroup": "1",
           "marker": {
            "color": "#636efa",
            "line": {
             "width": 3
            },
            "opacity": 0.8,
            "size": 14,
            "symbol": "square"
           },
           "mode": "markers",
           "name": "1",
           "orientation": "v",
           "showlegend": true,
           "type": "scatter",
           "x": [
            26
           ],
           "xaxis": "x",
           "y": [
            14
           ],
           "yaxis": "y"
          },
          {
           "hovertemplate": "bird=2<br>time=76<br>x=%{x}<br>y=%{y}<extra></extra>",
           "legendgroup": "2",
           "marker": {
            "color": "#EF553B",
            "line": {
             "width": 3
            },
            "opacity": 0.8,
            "size": 14,
            "symbol": "square"
           },
           "mode": "markers",
           "name": "2",
           "orientation": "v",
           "showlegend": true,
           "type": "scatter",
           "x": [
            10
           ],
           "xaxis": "x",
           "y": [
            3
           ],
           "yaxis": "y"
          },
          {
           "hovertemplate": "bird=reward<br>time=76<br>x=%{x}<br>y=%{y}<extra></extra>",
           "legendgroup": "reward",
           "marker": {
            "color": "yellow",
            "symbol": "square"
           },
           "mode": "markers",
           "name": "reward",
           "orientation": "v",
           "showlegend": false,
           "type": "scatter",
           "x": [
            18,
            11,
            6,
            14,
            7,
            21
           ],
           "xaxis": "x",
           "y": [
            2,
            8,
            9,
            20,
            21,
            21
           ],
           "yaxis": "y"
          }
         ],
         "name": "76"
        },
        {
         "data": [
          {
           "hovertemplate": "bird=1<br>time=77<br>x=%{x}<br>y=%{y}<extra></extra>",
           "legendgroup": "1",
           "marker": {
            "color": "#636efa",
            "line": {
             "width": 3
            },
            "opacity": 0.8,
            "size": 14,
            "symbol": "square"
           },
           "mode": "markers",
           "name": "1",
           "orientation": "v",
           "showlegend": true,
           "type": "scatter",
           "x": [
            26
           ],
           "xaxis": "x",
           "y": [
            14
           ],
           "yaxis": "y"
          },
          {
           "hovertemplate": "bird=2<br>time=77<br>x=%{x}<br>y=%{y}<extra></extra>",
           "legendgroup": "2",
           "marker": {
            "color": "#EF553B",
            "line": {
             "width": 3
            },
            "opacity": 0.8,
            "size": 14,
            "symbol": "square"
           },
           "mode": "markers",
           "name": "2",
           "orientation": "v",
           "showlegend": true,
           "type": "scatter",
           "x": [
            10
           ],
           "xaxis": "x",
           "y": [
            3
           ],
           "yaxis": "y"
          },
          {
           "hovertemplate": "bird=reward<br>time=77<br>x=%{x}<br>y=%{y}<extra></extra>",
           "legendgroup": "reward",
           "marker": {
            "color": "yellow",
            "symbol": "square"
           },
           "mode": "markers",
           "name": "reward",
           "orientation": "v",
           "showlegend": false,
           "type": "scatter",
           "x": [
            18,
            11,
            6,
            14,
            7,
            21
           ],
           "xaxis": "x",
           "y": [
            2,
            8,
            9,
            20,
            21,
            21
           ],
           "yaxis": "y"
          }
         ],
         "name": "77"
        },
        {
         "data": [
          {
           "hovertemplate": "bird=1<br>time=78<br>x=%{x}<br>y=%{y}<extra></extra>",
           "legendgroup": "1",
           "marker": {
            "color": "#636efa",
            "line": {
             "width": 3
            },
            "opacity": 0.8,
            "size": 14,
            "symbol": "square"
           },
           "mode": "markers",
           "name": "1",
           "orientation": "v",
           "showlegend": true,
           "type": "scatter",
           "x": [
            26
           ],
           "xaxis": "x",
           "y": [
            14
           ],
           "yaxis": "y"
          },
          {
           "hovertemplate": "bird=2<br>time=78<br>x=%{x}<br>y=%{y}<extra></extra>",
           "legendgroup": "2",
           "marker": {
            "color": "#EF553B",
            "line": {
             "width": 3
            },
            "opacity": 0.8,
            "size": 14,
            "symbol": "square"
           },
           "mode": "markers",
           "name": "2",
           "orientation": "v",
           "showlegend": true,
           "type": "scatter",
           "x": [
            10
           ],
           "xaxis": "x",
           "y": [
            3
           ],
           "yaxis": "y"
          },
          {
           "hovertemplate": "bird=reward<br>time=78<br>x=%{x}<br>y=%{y}<extra></extra>",
           "legendgroup": "reward",
           "marker": {
            "color": "yellow",
            "symbol": "square"
           },
           "mode": "markers",
           "name": "reward",
           "orientation": "v",
           "showlegend": false,
           "type": "scatter",
           "x": [
            18,
            11,
            6,
            14,
            7,
            21
           ],
           "xaxis": "x",
           "y": [
            2,
            8,
            9,
            20,
            21,
            21
           ],
           "yaxis": "y"
          }
         ],
         "name": "78"
        },
        {
         "data": [
          {
           "hovertemplate": "bird=1<br>time=79<br>x=%{x}<br>y=%{y}<extra></extra>",
           "legendgroup": "1",
           "marker": {
            "color": "#636efa",
            "line": {
             "width": 3
            },
            "opacity": 0.8,
            "size": 14,
            "symbol": "square"
           },
           "mode": "markers",
           "name": "1",
           "orientation": "v",
           "showlegend": true,
           "type": "scatter",
           "x": [
            26
           ],
           "xaxis": "x",
           "y": [
            14
           ],
           "yaxis": "y"
          },
          {
           "hovertemplate": "bird=2<br>time=79<br>x=%{x}<br>y=%{y}<extra></extra>",
           "legendgroup": "2",
           "marker": {
            "color": "#EF553B",
            "line": {
             "width": 3
            },
            "opacity": 0.8,
            "size": 14,
            "symbol": "square"
           },
           "mode": "markers",
           "name": "2",
           "orientation": "v",
           "showlegend": true,
           "type": "scatter",
           "x": [
            10
           ],
           "xaxis": "x",
           "y": [
            3
           ],
           "yaxis": "y"
          },
          {
           "hovertemplate": "bird=reward<br>time=79<br>x=%{x}<br>y=%{y}<extra></extra>",
           "legendgroup": "reward",
           "marker": {
            "color": "yellow",
            "symbol": "square"
           },
           "mode": "markers",
           "name": "reward",
           "orientation": "v",
           "showlegend": false,
           "type": "scatter",
           "x": [
            18,
            11,
            6,
            14,
            7,
            21
           ],
           "xaxis": "x",
           "y": [
            2,
            8,
            9,
            20,
            21,
            21
           ],
           "yaxis": "y"
          }
         ],
         "name": "79"
        },
        {
         "data": [
          {
           "hovertemplate": "bird=1<br>time=80<br>x=%{x}<br>y=%{y}<extra></extra>",
           "legendgroup": "1",
           "marker": {
            "color": "#636efa",
            "line": {
             "width": 3
            },
            "opacity": 0.8,
            "size": 14,
            "symbol": "square"
           },
           "mode": "markers",
           "name": "1",
           "orientation": "v",
           "showlegend": true,
           "type": "scatter",
           "x": [
            26
           ],
           "xaxis": "x",
           "y": [
            14
           ],
           "yaxis": "y"
          },
          {
           "hovertemplate": "bird=2<br>time=80<br>x=%{x}<br>y=%{y}<extra></extra>",
           "legendgroup": "2",
           "marker": {
            "color": "#EF553B",
            "line": {
             "width": 3
            },
            "opacity": 0.8,
            "size": 14,
            "symbol": "square"
           },
           "mode": "markers",
           "name": "2",
           "orientation": "v",
           "showlegend": true,
           "type": "scatter",
           "x": [
            10
           ],
           "xaxis": "x",
           "y": [
            3
           ],
           "yaxis": "y"
          },
          {
           "hovertemplate": "bird=reward<br>time=80<br>x=%{x}<br>y=%{y}<extra></extra>",
           "legendgroup": "reward",
           "marker": {
            "color": "yellow",
            "symbol": "square"
           },
           "mode": "markers",
           "name": "reward",
           "orientation": "v",
           "showlegend": false,
           "type": "scatter",
           "x": [
            18,
            11,
            6,
            14,
            7,
            21
           ],
           "xaxis": "x",
           "y": [
            2,
            8,
            9,
            20,
            21,
            21
           ],
           "yaxis": "y"
          }
         ],
         "name": "80"
        },
        {
         "data": [
          {
           "hovertemplate": "bird=1<br>time=81<br>x=%{x}<br>y=%{y}<extra></extra>",
           "legendgroup": "1",
           "marker": {
            "color": "#636efa",
            "line": {
             "width": 3
            },
            "opacity": 0.8,
            "size": 14,
            "symbol": "square"
           },
           "mode": "markers",
           "name": "1",
           "orientation": "v",
           "showlegend": true,
           "type": "scatter",
           "x": [
            26
           ],
           "xaxis": "x",
           "y": [
            14
           ],
           "yaxis": "y"
          },
          {
           "hovertemplate": "bird=2<br>time=81<br>x=%{x}<br>y=%{y}<extra></extra>",
           "legendgroup": "2",
           "marker": {
            "color": "#EF553B",
            "line": {
             "width": 3
            },
            "opacity": 0.8,
            "size": 14,
            "symbol": "square"
           },
           "mode": "markers",
           "name": "2",
           "orientation": "v",
           "showlegend": true,
           "type": "scatter",
           "x": [
            10
           ],
           "xaxis": "x",
           "y": [
            3
           ],
           "yaxis": "y"
          },
          {
           "hovertemplate": "bird=reward<br>time=81<br>x=%{x}<br>y=%{y}<extra></extra>",
           "legendgroup": "reward",
           "marker": {
            "color": "yellow",
            "symbol": "square"
           },
           "mode": "markers",
           "name": "reward",
           "orientation": "v",
           "showlegend": false,
           "type": "scatter",
           "x": [
            18,
            11,
            6,
            14,
            7,
            21
           ],
           "xaxis": "x",
           "y": [
            2,
            8,
            9,
            20,
            21,
            21
           ],
           "yaxis": "y"
          }
         ],
         "name": "81"
        },
        {
         "data": [
          {
           "hovertemplate": "bird=1<br>time=82<br>x=%{x}<br>y=%{y}<extra></extra>",
           "legendgroup": "1",
           "marker": {
            "color": "#636efa",
            "line": {
             "width": 3
            },
            "opacity": 0.8,
            "size": 14,
            "symbol": "square"
           },
           "mode": "markers",
           "name": "1",
           "orientation": "v",
           "showlegend": true,
           "type": "scatter",
           "x": [
            26
           ],
           "xaxis": "x",
           "y": [
            14
           ],
           "yaxis": "y"
          },
          {
           "hovertemplate": "bird=2<br>time=82<br>x=%{x}<br>y=%{y}<extra></extra>",
           "legendgroup": "2",
           "marker": {
            "color": "#EF553B",
            "line": {
             "width": 3
            },
            "opacity": 0.8,
            "size": 14,
            "symbol": "square"
           },
           "mode": "markers",
           "name": "2",
           "orientation": "v",
           "showlegend": true,
           "type": "scatter",
           "x": [
            10
           ],
           "xaxis": "x",
           "y": [
            3
           ],
           "yaxis": "y"
          },
          {
           "hovertemplate": "bird=reward<br>time=82<br>x=%{x}<br>y=%{y}<extra></extra>",
           "legendgroup": "reward",
           "marker": {
            "color": "yellow",
            "symbol": "square"
           },
           "mode": "markers",
           "name": "reward",
           "orientation": "v",
           "showlegend": false,
           "type": "scatter",
           "x": [
            18,
            11,
            6,
            14,
            7,
            21
           ],
           "xaxis": "x",
           "y": [
            2,
            8,
            9,
            20,
            21,
            21
           ],
           "yaxis": "y"
          }
         ],
         "name": "82"
        },
        {
         "data": [
          {
           "hovertemplate": "bird=1<br>time=83<br>x=%{x}<br>y=%{y}<extra></extra>",
           "legendgroup": "1",
           "marker": {
            "color": "#636efa",
            "line": {
             "width": 3
            },
            "opacity": 0.8,
            "size": 14,
            "symbol": "square"
           },
           "mode": "markers",
           "name": "1",
           "orientation": "v",
           "showlegend": true,
           "type": "scatter",
           "x": [
            26
           ],
           "xaxis": "x",
           "y": [
            14
           ],
           "yaxis": "y"
          },
          {
           "hovertemplate": "bird=2<br>time=83<br>x=%{x}<br>y=%{y}<extra></extra>",
           "legendgroup": "2",
           "marker": {
            "color": "#EF553B",
            "line": {
             "width": 3
            },
            "opacity": 0.8,
            "size": 14,
            "symbol": "square"
           },
           "mode": "markers",
           "name": "2",
           "orientation": "v",
           "showlegend": true,
           "type": "scatter",
           "x": [
            10
           ],
           "xaxis": "x",
           "y": [
            3
           ],
           "yaxis": "y"
          },
          {
           "hovertemplate": "bird=reward<br>time=83<br>x=%{x}<br>y=%{y}<extra></extra>",
           "legendgroup": "reward",
           "marker": {
            "color": "yellow",
            "symbol": "square"
           },
           "mode": "markers",
           "name": "reward",
           "orientation": "v",
           "showlegend": false,
           "type": "scatter",
           "x": [
            18,
            11,
            6,
            14,
            7,
            21
           ],
           "xaxis": "x",
           "y": [
            2,
            8,
            9,
            20,
            21,
            21
           ],
           "yaxis": "y"
          }
         ],
         "name": "83"
        },
        {
         "data": [
          {
           "hovertemplate": "bird=1<br>time=84<br>x=%{x}<br>y=%{y}<extra></extra>",
           "legendgroup": "1",
           "marker": {
            "color": "#636efa",
            "line": {
             "width": 3
            },
            "opacity": 0.8,
            "size": 14,
            "symbol": "square"
           },
           "mode": "markers",
           "name": "1",
           "orientation": "v",
           "showlegend": true,
           "type": "scatter",
           "x": [
            26
           ],
           "xaxis": "x",
           "y": [
            14
           ],
           "yaxis": "y"
          },
          {
           "hovertemplate": "bird=2<br>time=84<br>x=%{x}<br>y=%{y}<extra></extra>",
           "legendgroup": "2",
           "marker": {
            "color": "#EF553B",
            "line": {
             "width": 3
            },
            "opacity": 0.8,
            "size": 14,
            "symbol": "square"
           },
           "mode": "markers",
           "name": "2",
           "orientation": "v",
           "showlegend": true,
           "type": "scatter",
           "x": [
            10
           ],
           "xaxis": "x",
           "y": [
            3
           ],
           "yaxis": "y"
          },
          {
           "hovertemplate": "bird=reward<br>time=84<br>x=%{x}<br>y=%{y}<extra></extra>",
           "legendgroup": "reward",
           "marker": {
            "color": "yellow",
            "symbol": "square"
           },
           "mode": "markers",
           "name": "reward",
           "orientation": "v",
           "showlegend": false,
           "type": "scatter",
           "x": [
            18,
            11,
            6,
            14,
            7,
            21
           ],
           "xaxis": "x",
           "y": [
            2,
            8,
            9,
            20,
            21,
            21
           ],
           "yaxis": "y"
          }
         ],
         "name": "84"
        },
        {
         "data": [
          {
           "hovertemplate": "bird=1<br>time=85<br>x=%{x}<br>y=%{y}<extra></extra>",
           "legendgroup": "1",
           "marker": {
            "color": "#636efa",
            "line": {
             "width": 3
            },
            "opacity": 0.8,
            "size": 14,
            "symbol": "square"
           },
           "mode": "markers",
           "name": "1",
           "orientation": "v",
           "showlegend": true,
           "type": "scatter",
           "x": [
            26
           ],
           "xaxis": "x",
           "y": [
            14
           ],
           "yaxis": "y"
          },
          {
           "hovertemplate": "bird=2<br>time=85<br>x=%{x}<br>y=%{y}<extra></extra>",
           "legendgroup": "2",
           "marker": {
            "color": "#EF553B",
            "line": {
             "width": 3
            },
            "opacity": 0.8,
            "size": 14,
            "symbol": "square"
           },
           "mode": "markers",
           "name": "2",
           "orientation": "v",
           "showlegend": true,
           "type": "scatter",
           "x": [
            10
           ],
           "xaxis": "x",
           "y": [
            3
           ],
           "yaxis": "y"
          },
          {
           "hovertemplate": "bird=reward<br>time=85<br>x=%{x}<br>y=%{y}<extra></extra>",
           "legendgroup": "reward",
           "marker": {
            "color": "yellow",
            "symbol": "square"
           },
           "mode": "markers",
           "name": "reward",
           "orientation": "v",
           "showlegend": false,
           "type": "scatter",
           "x": [
            18,
            11,
            6,
            14,
            7,
            21
           ],
           "xaxis": "x",
           "y": [
            2,
            8,
            9,
            20,
            21,
            21
           ],
           "yaxis": "y"
          }
         ],
         "name": "85"
        },
        {
         "data": [
          {
           "hovertemplate": "bird=1<br>time=86<br>x=%{x}<br>y=%{y}<extra></extra>",
           "legendgroup": "1",
           "marker": {
            "color": "#636efa",
            "line": {
             "width": 3
            },
            "opacity": 0.8,
            "size": 14,
            "symbol": "square"
           },
           "mode": "markers",
           "name": "1",
           "orientation": "v",
           "showlegend": true,
           "type": "scatter",
           "x": [
            26
           ],
           "xaxis": "x",
           "y": [
            14
           ],
           "yaxis": "y"
          },
          {
           "hovertemplate": "bird=2<br>time=86<br>x=%{x}<br>y=%{y}<extra></extra>",
           "legendgroup": "2",
           "marker": {
            "color": "#EF553B",
            "line": {
             "width": 3
            },
            "opacity": 0.8,
            "size": 14,
            "symbol": "square"
           },
           "mode": "markers",
           "name": "2",
           "orientation": "v",
           "showlegend": true,
           "type": "scatter",
           "x": [
            10
           ],
           "xaxis": "x",
           "y": [
            3
           ],
           "yaxis": "y"
          },
          {
           "hovertemplate": "bird=reward<br>time=86<br>x=%{x}<br>y=%{y}<extra></extra>",
           "legendgroup": "reward",
           "marker": {
            "color": "yellow",
            "symbol": "square"
           },
           "mode": "markers",
           "name": "reward",
           "orientation": "v",
           "showlegend": false,
           "type": "scatter",
           "x": [
            18,
            11,
            6,
            14,
            7,
            21
           ],
           "xaxis": "x",
           "y": [
            2,
            8,
            9,
            20,
            21,
            21
           ],
           "yaxis": "y"
          }
         ],
         "name": "86"
        },
        {
         "data": [
          {
           "hovertemplate": "bird=1<br>time=87<br>x=%{x}<br>y=%{y}<extra></extra>",
           "legendgroup": "1",
           "marker": {
            "color": "#636efa",
            "line": {
             "width": 3
            },
            "opacity": 0.8,
            "size": 14,
            "symbol": "square"
           },
           "mode": "markers",
           "name": "1",
           "orientation": "v",
           "showlegend": true,
           "type": "scatter",
           "x": [
            26
           ],
           "xaxis": "x",
           "y": [
            14
           ],
           "yaxis": "y"
          },
          {
           "hovertemplate": "bird=2<br>time=87<br>x=%{x}<br>y=%{y}<extra></extra>",
           "legendgroup": "2",
           "marker": {
            "color": "#EF553B",
            "line": {
             "width": 3
            },
            "opacity": 0.8,
            "size": 14,
            "symbol": "square"
           },
           "mode": "markers",
           "name": "2",
           "orientation": "v",
           "showlegend": true,
           "type": "scatter",
           "x": [
            10
           ],
           "xaxis": "x",
           "y": [
            3
           ],
           "yaxis": "y"
          },
          {
           "hovertemplate": "bird=reward<br>time=87<br>x=%{x}<br>y=%{y}<extra></extra>",
           "legendgroup": "reward",
           "marker": {
            "color": "yellow",
            "symbol": "square"
           },
           "mode": "markers",
           "name": "reward",
           "orientation": "v",
           "showlegend": false,
           "type": "scatter",
           "x": [
            18,
            11,
            6,
            14,
            7,
            21
           ],
           "xaxis": "x",
           "y": [
            2,
            8,
            9,
            20,
            21,
            21
           ],
           "yaxis": "y"
          }
         ],
         "name": "87"
        },
        {
         "data": [
          {
           "hovertemplate": "bird=1<br>time=88<br>x=%{x}<br>y=%{y}<extra></extra>",
           "legendgroup": "1",
           "marker": {
            "color": "#636efa",
            "line": {
             "width": 3
            },
            "opacity": 0.8,
            "size": 14,
            "symbol": "square"
           },
           "mode": "markers",
           "name": "1",
           "orientation": "v",
           "showlegend": true,
           "type": "scatter",
           "x": [
            26
           ],
           "xaxis": "x",
           "y": [
            14
           ],
           "yaxis": "y"
          },
          {
           "hovertemplate": "bird=2<br>time=88<br>x=%{x}<br>y=%{y}<extra></extra>",
           "legendgroup": "2",
           "marker": {
            "color": "#EF553B",
            "line": {
             "width": 3
            },
            "opacity": 0.8,
            "size": 14,
            "symbol": "square"
           },
           "mode": "markers",
           "name": "2",
           "orientation": "v",
           "showlegend": true,
           "type": "scatter",
           "x": [
            10
           ],
           "xaxis": "x",
           "y": [
            3
           ],
           "yaxis": "y"
          },
          {
           "hovertemplate": "bird=reward<br>time=88<br>x=%{x}<br>y=%{y}<extra></extra>",
           "legendgroup": "reward",
           "marker": {
            "color": "yellow",
            "symbol": "square"
           },
           "mode": "markers",
           "name": "reward",
           "orientation": "v",
           "showlegend": false,
           "type": "scatter",
           "x": [
            18,
            11,
            6,
            14,
            7,
            21
           ],
           "xaxis": "x",
           "y": [
            2,
            8,
            9,
            20,
            21,
            21
           ],
           "yaxis": "y"
          }
         ],
         "name": "88"
        },
        {
         "data": [
          {
           "hovertemplate": "bird=1<br>time=89<br>x=%{x}<br>y=%{y}<extra></extra>",
           "legendgroup": "1",
           "marker": {
            "color": "#636efa",
            "line": {
             "width": 3
            },
            "opacity": 0.8,
            "size": 14,
            "symbol": "square"
           },
           "mode": "markers",
           "name": "1",
           "orientation": "v",
           "showlegend": true,
           "type": "scatter",
           "x": [
            26
           ],
           "xaxis": "x",
           "y": [
            14
           ],
           "yaxis": "y"
          },
          {
           "hovertemplate": "bird=2<br>time=89<br>x=%{x}<br>y=%{y}<extra></extra>",
           "legendgroup": "2",
           "marker": {
            "color": "#EF553B",
            "line": {
             "width": 3
            },
            "opacity": 0.8,
            "size": 14,
            "symbol": "square"
           },
           "mode": "markers",
           "name": "2",
           "orientation": "v",
           "showlegend": true,
           "type": "scatter",
           "x": [
            10
           ],
           "xaxis": "x",
           "y": [
            3
           ],
           "yaxis": "y"
          },
          {
           "hovertemplate": "bird=reward<br>time=89<br>x=%{x}<br>y=%{y}<extra></extra>",
           "legendgroup": "reward",
           "marker": {
            "color": "yellow",
            "symbol": "square"
           },
           "mode": "markers",
           "name": "reward",
           "orientation": "v",
           "showlegend": false,
           "type": "scatter",
           "x": [
            18,
            11,
            6,
            14,
            7,
            21
           ],
           "xaxis": "x",
           "y": [
            2,
            8,
            9,
            20,
            21,
            21
           ],
           "yaxis": "y"
          }
         ],
         "name": "89"
        },
        {
         "data": [
          {
           "hovertemplate": "bird=1<br>time=90<br>x=%{x}<br>y=%{y}<extra></extra>",
           "legendgroup": "1",
           "marker": {
            "color": "#636efa",
            "line": {
             "width": 3
            },
            "opacity": 0.8,
            "size": 14,
            "symbol": "square"
           },
           "mode": "markers",
           "name": "1",
           "orientation": "v",
           "showlegend": true,
           "type": "scatter",
           "x": [
            26
           ],
           "xaxis": "x",
           "y": [
            14
           ],
           "yaxis": "y"
          },
          {
           "hovertemplate": "bird=2<br>time=90<br>x=%{x}<br>y=%{y}<extra></extra>",
           "legendgroup": "2",
           "marker": {
            "color": "#EF553B",
            "line": {
             "width": 3
            },
            "opacity": 0.8,
            "size": 14,
            "symbol": "square"
           },
           "mode": "markers",
           "name": "2",
           "orientation": "v",
           "showlegend": true,
           "type": "scatter",
           "x": [
            10
           ],
           "xaxis": "x",
           "y": [
            3
           ],
           "yaxis": "y"
          },
          {
           "hovertemplate": "bird=reward<br>time=90<br>x=%{x}<br>y=%{y}<extra></extra>",
           "legendgroup": "reward",
           "marker": {
            "color": "yellow",
            "symbol": "square"
           },
           "mode": "markers",
           "name": "reward",
           "orientation": "v",
           "showlegend": false,
           "type": "scatter",
           "x": [
            18,
            11,
            6,
            14,
            7,
            21
           ],
           "xaxis": "x",
           "y": [
            2,
            8,
            9,
            20,
            21,
            21
           ],
           "yaxis": "y"
          }
         ],
         "name": "90"
        },
        {
         "data": [
          {
           "hovertemplate": "bird=1<br>time=91<br>x=%{x}<br>y=%{y}<extra></extra>",
           "legendgroup": "1",
           "marker": {
            "color": "#636efa",
            "line": {
             "width": 3
            },
            "opacity": 0.8,
            "size": 14,
            "symbol": "square"
           },
           "mode": "markers",
           "name": "1",
           "orientation": "v",
           "showlegend": true,
           "type": "scatter",
           "x": [
            26
           ],
           "xaxis": "x",
           "y": [
            14
           ],
           "yaxis": "y"
          },
          {
           "hovertemplate": "bird=2<br>time=91<br>x=%{x}<br>y=%{y}<extra></extra>",
           "legendgroup": "2",
           "marker": {
            "color": "#EF553B",
            "line": {
             "width": 3
            },
            "opacity": 0.8,
            "size": 14,
            "symbol": "square"
           },
           "mode": "markers",
           "name": "2",
           "orientation": "v",
           "showlegend": true,
           "type": "scatter",
           "x": [
            10
           ],
           "xaxis": "x",
           "y": [
            3
           ],
           "yaxis": "y"
          },
          {
           "hovertemplate": "bird=reward<br>time=91<br>x=%{x}<br>y=%{y}<extra></extra>",
           "legendgroup": "reward",
           "marker": {
            "color": "yellow",
            "symbol": "square"
           },
           "mode": "markers",
           "name": "reward",
           "orientation": "v",
           "showlegend": false,
           "type": "scatter",
           "x": [
            18,
            11,
            6,
            14,
            7,
            21
           ],
           "xaxis": "x",
           "y": [
            2,
            8,
            9,
            20,
            21,
            21
           ],
           "yaxis": "y"
          }
         ],
         "name": "91"
        },
        {
         "data": [
          {
           "hovertemplate": "bird=1<br>time=92<br>x=%{x}<br>y=%{y}<extra></extra>",
           "legendgroup": "1",
           "marker": {
            "color": "#636efa",
            "line": {
             "width": 3
            },
            "opacity": 0.8,
            "size": 14,
            "symbol": "square"
           },
           "mode": "markers",
           "name": "1",
           "orientation": "v",
           "showlegend": true,
           "type": "scatter",
           "x": [
            26
           ],
           "xaxis": "x",
           "y": [
            14
           ],
           "yaxis": "y"
          },
          {
           "hovertemplate": "bird=2<br>time=92<br>x=%{x}<br>y=%{y}<extra></extra>",
           "legendgroup": "2",
           "marker": {
            "color": "#EF553B",
            "line": {
             "width": 3
            },
            "opacity": 0.8,
            "size": 14,
            "symbol": "square"
           },
           "mode": "markers",
           "name": "2",
           "orientation": "v",
           "showlegend": true,
           "type": "scatter",
           "x": [
            10
           ],
           "xaxis": "x",
           "y": [
            3
           ],
           "yaxis": "y"
          },
          {
           "hovertemplate": "bird=reward<br>time=92<br>x=%{x}<br>y=%{y}<extra></extra>",
           "legendgroup": "reward",
           "marker": {
            "color": "yellow",
            "symbol": "square"
           },
           "mode": "markers",
           "name": "reward",
           "orientation": "v",
           "showlegend": false,
           "type": "scatter",
           "x": [
            18,
            11,
            6,
            14,
            7,
            21
           ],
           "xaxis": "x",
           "y": [
            2,
            8,
            9,
            20,
            21,
            21
           ],
           "yaxis": "y"
          }
         ],
         "name": "92"
        },
        {
         "data": [
          {
           "hovertemplate": "bird=1<br>time=93<br>x=%{x}<br>y=%{y}<extra></extra>",
           "legendgroup": "1",
           "marker": {
            "color": "#636efa",
            "line": {
             "width": 3
            },
            "opacity": 0.8,
            "size": 14,
            "symbol": "square"
           },
           "mode": "markers",
           "name": "1",
           "orientation": "v",
           "showlegend": true,
           "type": "scatter",
           "x": [
            26
           ],
           "xaxis": "x",
           "y": [
            14
           ],
           "yaxis": "y"
          },
          {
           "hovertemplate": "bird=2<br>time=93<br>x=%{x}<br>y=%{y}<extra></extra>",
           "legendgroup": "2",
           "marker": {
            "color": "#EF553B",
            "line": {
             "width": 3
            },
            "opacity": 0.8,
            "size": 14,
            "symbol": "square"
           },
           "mode": "markers",
           "name": "2",
           "orientation": "v",
           "showlegend": true,
           "type": "scatter",
           "x": [
            10
           ],
           "xaxis": "x",
           "y": [
            3
           ],
           "yaxis": "y"
          },
          {
           "hovertemplate": "bird=reward<br>time=93<br>x=%{x}<br>y=%{y}<extra></extra>",
           "legendgroup": "reward",
           "marker": {
            "color": "yellow",
            "symbol": "square"
           },
           "mode": "markers",
           "name": "reward",
           "orientation": "v",
           "showlegend": false,
           "type": "scatter",
           "x": [
            18,
            11,
            6,
            14,
            7,
            21
           ],
           "xaxis": "x",
           "y": [
            2,
            8,
            9,
            20,
            21,
            21
           ],
           "yaxis": "y"
          }
         ],
         "name": "93"
        },
        {
         "data": [
          {
           "hovertemplate": "bird=1<br>time=94<br>x=%{x}<br>y=%{y}<extra></extra>",
           "legendgroup": "1",
           "marker": {
            "color": "#636efa",
            "line": {
             "width": 3
            },
            "opacity": 0.8,
            "size": 14,
            "symbol": "square"
           },
           "mode": "markers",
           "name": "1",
           "orientation": "v",
           "showlegend": true,
           "type": "scatter",
           "x": [
            26
           ],
           "xaxis": "x",
           "y": [
            14
           ],
           "yaxis": "y"
          },
          {
           "hovertemplate": "bird=2<br>time=94<br>x=%{x}<br>y=%{y}<extra></extra>",
           "legendgroup": "2",
           "marker": {
            "color": "#EF553B",
            "line": {
             "width": 3
            },
            "opacity": 0.8,
            "size": 14,
            "symbol": "square"
           },
           "mode": "markers",
           "name": "2",
           "orientation": "v",
           "showlegend": true,
           "type": "scatter",
           "x": [
            10
           ],
           "xaxis": "x",
           "y": [
            3
           ],
           "yaxis": "y"
          },
          {
           "hovertemplate": "bird=reward<br>time=94<br>x=%{x}<br>y=%{y}<extra></extra>",
           "legendgroup": "reward",
           "marker": {
            "color": "yellow",
            "symbol": "square"
           },
           "mode": "markers",
           "name": "reward",
           "orientation": "v",
           "showlegend": false,
           "type": "scatter",
           "x": [
            18,
            11,
            6,
            14,
            7,
            21
           ],
           "xaxis": "x",
           "y": [
            2,
            8,
            9,
            20,
            21,
            21
           ],
           "yaxis": "y"
          }
         ],
         "name": "94"
        },
        {
         "data": [
          {
           "hovertemplate": "bird=1<br>time=95<br>x=%{x}<br>y=%{y}<extra></extra>",
           "legendgroup": "1",
           "marker": {
            "color": "#636efa",
            "line": {
             "width": 3
            },
            "opacity": 0.8,
            "size": 14,
            "symbol": "square"
           },
           "mode": "markers",
           "name": "1",
           "orientation": "v",
           "showlegend": true,
           "type": "scatter",
           "x": [
            26
           ],
           "xaxis": "x",
           "y": [
            14
           ],
           "yaxis": "y"
          },
          {
           "hovertemplate": "bird=2<br>time=95<br>x=%{x}<br>y=%{y}<extra></extra>",
           "legendgroup": "2",
           "marker": {
            "color": "#EF553B",
            "line": {
             "width": 3
            },
            "opacity": 0.8,
            "size": 14,
            "symbol": "square"
           },
           "mode": "markers",
           "name": "2",
           "orientation": "v",
           "showlegend": true,
           "type": "scatter",
           "x": [
            10
           ],
           "xaxis": "x",
           "y": [
            3
           ],
           "yaxis": "y"
          },
          {
           "hovertemplate": "bird=reward<br>time=95<br>x=%{x}<br>y=%{y}<extra></extra>",
           "legendgroup": "reward",
           "marker": {
            "color": "yellow",
            "symbol": "square"
           },
           "mode": "markers",
           "name": "reward",
           "orientation": "v",
           "showlegend": false,
           "type": "scatter",
           "x": [
            18,
            11,
            6,
            14,
            7,
            21
           ],
           "xaxis": "x",
           "y": [
            2,
            8,
            9,
            20,
            21,
            21
           ],
           "yaxis": "y"
          }
         ],
         "name": "95"
        },
        {
         "data": [
          {
           "hovertemplate": "bird=1<br>time=96<br>x=%{x}<br>y=%{y}<extra></extra>",
           "legendgroup": "1",
           "marker": {
            "color": "#636efa",
            "line": {
             "width": 3
            },
            "opacity": 0.8,
            "size": 14,
            "symbol": "square"
           },
           "mode": "markers",
           "name": "1",
           "orientation": "v",
           "showlegend": true,
           "type": "scatter",
           "x": [
            26
           ],
           "xaxis": "x",
           "y": [
            14
           ],
           "yaxis": "y"
          },
          {
           "hovertemplate": "bird=2<br>time=96<br>x=%{x}<br>y=%{y}<extra></extra>",
           "legendgroup": "2",
           "marker": {
            "color": "#EF553B",
            "line": {
             "width": 3
            },
            "opacity": 0.8,
            "size": 14,
            "symbol": "square"
           },
           "mode": "markers",
           "name": "2",
           "orientation": "v",
           "showlegend": true,
           "type": "scatter",
           "x": [
            10
           ],
           "xaxis": "x",
           "y": [
            3
           ],
           "yaxis": "y"
          },
          {
           "hovertemplate": "bird=reward<br>time=96<br>x=%{x}<br>y=%{y}<extra></extra>",
           "legendgroup": "reward",
           "marker": {
            "color": "yellow",
            "symbol": "square"
           },
           "mode": "markers",
           "name": "reward",
           "orientation": "v",
           "showlegend": false,
           "type": "scatter",
           "x": [
            18,
            11,
            6,
            14,
            7,
            21
           ],
           "xaxis": "x",
           "y": [
            2,
            8,
            9,
            20,
            21,
            21
           ],
           "yaxis": "y"
          }
         ],
         "name": "96"
        },
        {
         "data": [
          {
           "hovertemplate": "bird=1<br>time=97<br>x=%{x}<br>y=%{y}<extra></extra>",
           "legendgroup": "1",
           "marker": {
            "color": "#636efa",
            "line": {
             "width": 3
            },
            "opacity": 0.8,
            "size": 14,
            "symbol": "square"
           },
           "mode": "markers",
           "name": "1",
           "orientation": "v",
           "showlegend": true,
           "type": "scatter",
           "x": [
            26
           ],
           "xaxis": "x",
           "y": [
            14
           ],
           "yaxis": "y"
          },
          {
           "hovertemplate": "bird=2<br>time=97<br>x=%{x}<br>y=%{y}<extra></extra>",
           "legendgroup": "2",
           "marker": {
            "color": "#EF553B",
            "line": {
             "width": 3
            },
            "opacity": 0.8,
            "size": 14,
            "symbol": "square"
           },
           "mode": "markers",
           "name": "2",
           "orientation": "v",
           "showlegend": true,
           "type": "scatter",
           "x": [
            10
           ],
           "xaxis": "x",
           "y": [
            3
           ],
           "yaxis": "y"
          },
          {
           "hovertemplate": "bird=reward<br>time=97<br>x=%{x}<br>y=%{y}<extra></extra>",
           "legendgroup": "reward",
           "marker": {
            "color": "yellow",
            "symbol": "square"
           },
           "mode": "markers",
           "name": "reward",
           "orientation": "v",
           "showlegend": false,
           "type": "scatter",
           "x": [
            18,
            11,
            6,
            14,
            7,
            21
           ],
           "xaxis": "x",
           "y": [
            2,
            8,
            9,
            20,
            21,
            21
           ],
           "yaxis": "y"
          }
         ],
         "name": "97"
        },
        {
         "data": [
          {
           "hovertemplate": "bird=1<br>time=98<br>x=%{x}<br>y=%{y}<extra></extra>",
           "legendgroup": "1",
           "marker": {
            "color": "#636efa",
            "line": {
             "width": 3
            },
            "opacity": 0.8,
            "size": 14,
            "symbol": "square"
           },
           "mode": "markers",
           "name": "1",
           "orientation": "v",
           "showlegend": true,
           "type": "scatter",
           "x": [
            26
           ],
           "xaxis": "x",
           "y": [
            14
           ],
           "yaxis": "y"
          },
          {
           "hovertemplate": "bird=2<br>time=98<br>x=%{x}<br>y=%{y}<extra></extra>",
           "legendgroup": "2",
           "marker": {
            "color": "#EF553B",
            "line": {
             "width": 3
            },
            "opacity": 0.8,
            "size": 14,
            "symbol": "square"
           },
           "mode": "markers",
           "name": "2",
           "orientation": "v",
           "showlegend": true,
           "type": "scatter",
           "x": [
            10
           ],
           "xaxis": "x",
           "y": [
            3
           ],
           "yaxis": "y"
          },
          {
           "hovertemplate": "bird=reward<br>time=98<br>x=%{x}<br>y=%{y}<extra></extra>",
           "legendgroup": "reward",
           "marker": {
            "color": "yellow",
            "symbol": "square"
           },
           "mode": "markers",
           "name": "reward",
           "orientation": "v",
           "showlegend": false,
           "type": "scatter",
           "x": [
            18,
            11,
            6,
            14,
            7,
            21
           ],
           "xaxis": "x",
           "y": [
            2,
            8,
            9,
            20,
            21,
            21
           ],
           "yaxis": "y"
          }
         ],
         "name": "98"
        },
        {
         "data": [
          {
           "hovertemplate": "bird=1<br>time=99<br>x=%{x}<br>y=%{y}<extra></extra>",
           "legendgroup": "1",
           "marker": {
            "color": "#636efa",
            "line": {
             "width": 3
            },
            "opacity": 0.8,
            "size": 14,
            "symbol": "square"
           },
           "mode": "markers",
           "name": "1",
           "orientation": "v",
           "showlegend": true,
           "type": "scatter",
           "x": [
            26
           ],
           "xaxis": "x",
           "y": [
            14
           ],
           "yaxis": "y"
          },
          {
           "hovertemplate": "bird=2<br>time=99<br>x=%{x}<br>y=%{y}<extra></extra>",
           "legendgroup": "2",
           "marker": {
            "color": "#EF553B",
            "line": {
             "width": 3
            },
            "opacity": 0.8,
            "size": 14,
            "symbol": "square"
           },
           "mode": "markers",
           "name": "2",
           "orientation": "v",
           "showlegend": true,
           "type": "scatter",
           "x": [
            10
           ],
           "xaxis": "x",
           "y": [
            3
           ],
           "yaxis": "y"
          },
          {
           "hovertemplate": "bird=reward<br>time=99<br>x=%{x}<br>y=%{y}<extra></extra>",
           "legendgroup": "reward",
           "marker": {
            "color": "yellow",
            "symbol": "square"
           },
           "mode": "markers",
           "name": "reward",
           "orientation": "v",
           "showlegend": false,
           "type": "scatter",
           "x": [
            18,
            11,
            6,
            14,
            7,
            21
           ],
           "xaxis": "x",
           "y": [
            2,
            8,
            9,
            20,
            21,
            21
           ],
           "yaxis": "y"
          }
         ],
         "name": "99"
        },
        {
         "data": [
          {
           "hovertemplate": "bird=1<br>time=100<br>x=%{x}<br>y=%{y}<extra></extra>",
           "legendgroup": "1",
           "marker": {
            "color": "#636efa",
            "line": {
             "width": 3
            },
            "opacity": 0.8,
            "size": 14,
            "symbol": "square"
           },
           "mode": "markers",
           "name": "1",
           "orientation": "v",
           "showlegend": true,
           "type": "scatter",
           "x": [
            26
           ],
           "xaxis": "x",
           "y": [
            14
           ],
           "yaxis": "y"
          },
          {
           "hovertemplate": "bird=2<br>time=100<br>x=%{x}<br>y=%{y}<extra></extra>",
           "legendgroup": "2",
           "marker": {
            "color": "#EF553B",
            "line": {
             "width": 3
            },
            "opacity": 0.8,
            "size": 14,
            "symbol": "square"
           },
           "mode": "markers",
           "name": "2",
           "orientation": "v",
           "showlegend": true,
           "type": "scatter",
           "x": [
            10
           ],
           "xaxis": "x",
           "y": [
            3
           ],
           "yaxis": "y"
          },
          {
           "hovertemplate": "bird=reward<br>time=100<br>x=%{x}<br>y=%{y}<extra></extra>",
           "legendgroup": "reward",
           "marker": {
            "color": "yellow",
            "symbol": "square"
           },
           "mode": "markers",
           "name": "reward",
           "orientation": "v",
           "showlegend": false,
           "type": "scatter",
           "x": [
            18,
            11,
            6,
            14,
            7,
            21
           ],
           "xaxis": "x",
           "y": [
            2,
            8,
            9,
            20,
            21,
            21
           ],
           "yaxis": "y"
          }
         ],
         "name": "100"
        },
        {
         "data": [
          {
           "hovertemplate": "bird=1<br>time=101<br>x=%{x}<br>y=%{y}<extra></extra>",
           "legendgroup": "1",
           "marker": {
            "color": "#636efa",
            "line": {
             "width": 3
            },
            "opacity": 0.8,
            "size": 14,
            "symbol": "square"
           },
           "mode": "markers",
           "name": "1",
           "orientation": "v",
           "showlegend": true,
           "type": "scatter",
           "x": [
            26
           ],
           "xaxis": "x",
           "y": [
            14
           ],
           "yaxis": "y"
          },
          {
           "hovertemplate": "bird=2<br>time=101<br>x=%{x}<br>y=%{y}<extra></extra>",
           "legendgroup": "2",
           "marker": {
            "color": "#EF553B",
            "line": {
             "width": 3
            },
            "opacity": 0.8,
            "size": 14,
            "symbol": "square"
           },
           "mode": "markers",
           "name": "2",
           "orientation": "v",
           "showlegend": true,
           "type": "scatter",
           "x": [
            10
           ],
           "xaxis": "x",
           "y": [
            3
           ],
           "yaxis": "y"
          },
          {
           "hovertemplate": "bird=reward<br>time=101<br>x=%{x}<br>y=%{y}<extra></extra>",
           "legendgroup": "reward",
           "marker": {
            "color": "yellow",
            "symbol": "square"
           },
           "mode": "markers",
           "name": "reward",
           "orientation": "v",
           "showlegend": false,
           "type": "scatter",
           "x": [
            18,
            11,
            6,
            14,
            7,
            21
           ],
           "xaxis": "x",
           "y": [
            2,
            8,
            9,
            20,
            21,
            21
           ],
           "yaxis": "y"
          }
         ],
         "name": "101"
        },
        {
         "data": [
          {
           "hovertemplate": "bird=1<br>time=102<br>x=%{x}<br>y=%{y}<extra></extra>",
           "legendgroup": "1",
           "marker": {
            "color": "#636efa",
            "line": {
             "width": 3
            },
            "opacity": 0.8,
            "size": 14,
            "symbol": "square"
           },
           "mode": "markers",
           "name": "1",
           "orientation": "v",
           "showlegend": true,
           "type": "scatter",
           "x": [
            26
           ],
           "xaxis": "x",
           "y": [
            14
           ],
           "yaxis": "y"
          },
          {
           "hovertemplate": "bird=2<br>time=102<br>x=%{x}<br>y=%{y}<extra></extra>",
           "legendgroup": "2",
           "marker": {
            "color": "#EF553B",
            "line": {
             "width": 3
            },
            "opacity": 0.8,
            "size": 14,
            "symbol": "square"
           },
           "mode": "markers",
           "name": "2",
           "orientation": "v",
           "showlegend": true,
           "type": "scatter",
           "x": [
            10
           ],
           "xaxis": "x",
           "y": [
            3
           ],
           "yaxis": "y"
          },
          {
           "hovertemplate": "bird=reward<br>time=102<br>x=%{x}<br>y=%{y}<extra></extra>",
           "legendgroup": "reward",
           "marker": {
            "color": "yellow",
            "symbol": "square"
           },
           "mode": "markers",
           "name": "reward",
           "orientation": "v",
           "showlegend": false,
           "type": "scatter",
           "x": [
            18,
            11,
            6,
            14,
            7,
            21
           ],
           "xaxis": "x",
           "y": [
            2,
            8,
            9,
            20,
            21,
            21
           ],
           "yaxis": "y"
          }
         ],
         "name": "102"
        },
        {
         "data": [
          {
           "hovertemplate": "bird=1<br>time=103<br>x=%{x}<br>y=%{y}<extra></extra>",
           "legendgroup": "1",
           "marker": {
            "color": "#636efa",
            "line": {
             "width": 3
            },
            "opacity": 0.8,
            "size": 14,
            "symbol": "square"
           },
           "mode": "markers",
           "name": "1",
           "orientation": "v",
           "showlegend": true,
           "type": "scatter",
           "x": [
            26
           ],
           "xaxis": "x",
           "y": [
            14
           ],
           "yaxis": "y"
          },
          {
           "hovertemplate": "bird=2<br>time=103<br>x=%{x}<br>y=%{y}<extra></extra>",
           "legendgroup": "2",
           "marker": {
            "color": "#EF553B",
            "line": {
             "width": 3
            },
            "opacity": 0.8,
            "size": 14,
            "symbol": "square"
           },
           "mode": "markers",
           "name": "2",
           "orientation": "v",
           "showlegend": true,
           "type": "scatter",
           "x": [
            10
           ],
           "xaxis": "x",
           "y": [
            3
           ],
           "yaxis": "y"
          },
          {
           "hovertemplate": "bird=reward<br>time=103<br>x=%{x}<br>y=%{y}<extra></extra>",
           "legendgroup": "reward",
           "marker": {
            "color": "yellow",
            "symbol": "square"
           },
           "mode": "markers",
           "name": "reward",
           "orientation": "v",
           "showlegend": false,
           "type": "scatter",
           "x": [
            18,
            11,
            6,
            14,
            7,
            21
           ],
           "xaxis": "x",
           "y": [
            2,
            8,
            9,
            20,
            21,
            21
           ],
           "yaxis": "y"
          }
         ],
         "name": "103"
        },
        {
         "data": [
          {
           "hovertemplate": "bird=1<br>time=104<br>x=%{x}<br>y=%{y}<extra></extra>",
           "legendgroup": "1",
           "marker": {
            "color": "#636efa",
            "line": {
             "width": 3
            },
            "opacity": 0.8,
            "size": 14,
            "symbol": "square"
           },
           "mode": "markers",
           "name": "1",
           "orientation": "v",
           "showlegend": true,
           "type": "scatter",
           "x": [
            26
           ],
           "xaxis": "x",
           "y": [
            14
           ],
           "yaxis": "y"
          },
          {
           "hovertemplate": "bird=2<br>time=104<br>x=%{x}<br>y=%{y}<extra></extra>",
           "legendgroup": "2",
           "marker": {
            "color": "#EF553B",
            "line": {
             "width": 3
            },
            "opacity": 0.8,
            "size": 14,
            "symbol": "square"
           },
           "mode": "markers",
           "name": "2",
           "orientation": "v",
           "showlegend": true,
           "type": "scatter",
           "x": [
            10
           ],
           "xaxis": "x",
           "y": [
            3
           ],
           "yaxis": "y"
          },
          {
           "hovertemplate": "bird=reward<br>time=104<br>x=%{x}<br>y=%{y}<extra></extra>",
           "legendgroup": "reward",
           "marker": {
            "color": "yellow",
            "symbol": "square"
           },
           "mode": "markers",
           "name": "reward",
           "orientation": "v",
           "showlegend": false,
           "type": "scatter",
           "x": [
            18,
            11,
            6,
            14,
            7,
            21
           ],
           "xaxis": "x",
           "y": [
            2,
            8,
            9,
            20,
            21,
            21
           ],
           "yaxis": "y"
          }
         ],
         "name": "104"
        },
        {
         "data": [
          {
           "hovertemplate": "bird=1<br>time=105<br>x=%{x}<br>y=%{y}<extra></extra>",
           "legendgroup": "1",
           "marker": {
            "color": "#636efa",
            "line": {
             "width": 3
            },
            "opacity": 0.8,
            "size": 14,
            "symbol": "square"
           },
           "mode": "markers",
           "name": "1",
           "orientation": "v",
           "showlegend": true,
           "type": "scatter",
           "x": [
            26
           ],
           "xaxis": "x",
           "y": [
            14
           ],
           "yaxis": "y"
          },
          {
           "hovertemplate": "bird=2<br>time=105<br>x=%{x}<br>y=%{y}<extra></extra>",
           "legendgroup": "2",
           "marker": {
            "color": "#EF553B",
            "line": {
             "width": 3
            },
            "opacity": 0.8,
            "size": 14,
            "symbol": "square"
           },
           "mode": "markers",
           "name": "2",
           "orientation": "v",
           "showlegend": true,
           "type": "scatter",
           "x": [
            10
           ],
           "xaxis": "x",
           "y": [
            3
           ],
           "yaxis": "y"
          },
          {
           "hovertemplate": "bird=reward<br>time=105<br>x=%{x}<br>y=%{y}<extra></extra>",
           "legendgroup": "reward",
           "marker": {
            "color": "yellow",
            "symbol": "square"
           },
           "mode": "markers",
           "name": "reward",
           "orientation": "v",
           "showlegend": false,
           "type": "scatter",
           "x": [
            18,
            11,
            6,
            14,
            7,
            21
           ],
           "xaxis": "x",
           "y": [
            2,
            8,
            9,
            20,
            21,
            21
           ],
           "yaxis": "y"
          }
         ],
         "name": "105"
        },
        {
         "data": [
          {
           "hovertemplate": "bird=1<br>time=106<br>x=%{x}<br>y=%{y}<extra></extra>",
           "legendgroup": "1",
           "marker": {
            "color": "#636efa",
            "line": {
             "width": 3
            },
            "opacity": 0.8,
            "size": 14,
            "symbol": "square"
           },
           "mode": "markers",
           "name": "1",
           "orientation": "v",
           "showlegend": true,
           "type": "scatter",
           "x": [
            26
           ],
           "xaxis": "x",
           "y": [
            14
           ],
           "yaxis": "y"
          },
          {
           "hovertemplate": "bird=2<br>time=106<br>x=%{x}<br>y=%{y}<extra></extra>",
           "legendgroup": "2",
           "marker": {
            "color": "#EF553B",
            "line": {
             "width": 3
            },
            "opacity": 0.8,
            "size": 14,
            "symbol": "square"
           },
           "mode": "markers",
           "name": "2",
           "orientation": "v",
           "showlegend": true,
           "type": "scatter",
           "x": [
            10
           ],
           "xaxis": "x",
           "y": [
            3
           ],
           "yaxis": "y"
          },
          {
           "hovertemplate": "bird=reward<br>time=106<br>x=%{x}<br>y=%{y}<extra></extra>",
           "legendgroup": "reward",
           "marker": {
            "color": "yellow",
            "symbol": "square"
           },
           "mode": "markers",
           "name": "reward",
           "orientation": "v",
           "showlegend": false,
           "type": "scatter",
           "x": [
            18,
            11,
            6,
            14,
            7,
            21
           ],
           "xaxis": "x",
           "y": [
            2,
            8,
            9,
            20,
            21,
            21
           ],
           "yaxis": "y"
          }
         ],
         "name": "106"
        },
        {
         "data": [
          {
           "hovertemplate": "bird=1<br>time=107<br>x=%{x}<br>y=%{y}<extra></extra>",
           "legendgroup": "1",
           "marker": {
            "color": "#636efa",
            "line": {
             "width": 3
            },
            "opacity": 0.8,
            "size": 14,
            "symbol": "square"
           },
           "mode": "markers",
           "name": "1",
           "orientation": "v",
           "showlegend": true,
           "type": "scatter",
           "x": [
            26
           ],
           "xaxis": "x",
           "y": [
            14
           ],
           "yaxis": "y"
          },
          {
           "hovertemplate": "bird=2<br>time=107<br>x=%{x}<br>y=%{y}<extra></extra>",
           "legendgroup": "2",
           "marker": {
            "color": "#EF553B",
            "line": {
             "width": 3
            },
            "opacity": 0.8,
            "size": 14,
            "symbol": "square"
           },
           "mode": "markers",
           "name": "2",
           "orientation": "v",
           "showlegend": true,
           "type": "scatter",
           "x": [
            10
           ],
           "xaxis": "x",
           "y": [
            3
           ],
           "yaxis": "y"
          },
          {
           "hovertemplate": "bird=reward<br>time=107<br>x=%{x}<br>y=%{y}<extra></extra>",
           "legendgroup": "reward",
           "marker": {
            "color": "yellow",
            "symbol": "square"
           },
           "mode": "markers",
           "name": "reward",
           "orientation": "v",
           "showlegend": false,
           "type": "scatter",
           "x": [
            18,
            11,
            6,
            14,
            7,
            21
           ],
           "xaxis": "x",
           "y": [
            2,
            8,
            9,
            20,
            21,
            21
           ],
           "yaxis": "y"
          }
         ],
         "name": "107"
        },
        {
         "data": [
          {
           "hovertemplate": "bird=1<br>time=108<br>x=%{x}<br>y=%{y}<extra></extra>",
           "legendgroup": "1",
           "marker": {
            "color": "#636efa",
            "line": {
             "width": 3
            },
            "opacity": 0.8,
            "size": 14,
            "symbol": "square"
           },
           "mode": "markers",
           "name": "1",
           "orientation": "v",
           "showlegend": true,
           "type": "scatter",
           "x": [
            26
           ],
           "xaxis": "x",
           "y": [
            14
           ],
           "yaxis": "y"
          },
          {
           "hovertemplate": "bird=2<br>time=108<br>x=%{x}<br>y=%{y}<extra></extra>",
           "legendgroup": "2",
           "marker": {
            "color": "#EF553B",
            "line": {
             "width": 3
            },
            "opacity": 0.8,
            "size": 14,
            "symbol": "square"
           },
           "mode": "markers",
           "name": "2",
           "orientation": "v",
           "showlegend": true,
           "type": "scatter",
           "x": [
            10
           ],
           "xaxis": "x",
           "y": [
            3
           ],
           "yaxis": "y"
          },
          {
           "hovertemplate": "bird=reward<br>time=108<br>x=%{x}<br>y=%{y}<extra></extra>",
           "legendgroup": "reward",
           "marker": {
            "color": "yellow",
            "symbol": "square"
           },
           "mode": "markers",
           "name": "reward",
           "orientation": "v",
           "showlegend": false,
           "type": "scatter",
           "x": [
            18,
            11,
            6,
            14,
            7,
            21
           ],
           "xaxis": "x",
           "y": [
            2,
            8,
            9,
            20,
            21,
            21
           ],
           "yaxis": "y"
          }
         ],
         "name": "108"
        },
        {
         "data": [
          {
           "hovertemplate": "bird=1<br>time=109<br>x=%{x}<br>y=%{y}<extra></extra>",
           "legendgroup": "1",
           "marker": {
            "color": "#636efa",
            "line": {
             "width": 3
            },
            "opacity": 0.8,
            "size": 14,
            "symbol": "square"
           },
           "mode": "markers",
           "name": "1",
           "orientation": "v",
           "showlegend": true,
           "type": "scatter",
           "x": [
            26
           ],
           "xaxis": "x",
           "y": [
            14
           ],
           "yaxis": "y"
          },
          {
           "hovertemplate": "bird=2<br>time=109<br>x=%{x}<br>y=%{y}<extra></extra>",
           "legendgroup": "2",
           "marker": {
            "color": "#EF553B",
            "line": {
             "width": 3
            },
            "opacity": 0.8,
            "size": 14,
            "symbol": "square"
           },
           "mode": "markers",
           "name": "2",
           "orientation": "v",
           "showlegend": true,
           "type": "scatter",
           "x": [
            10
           ],
           "xaxis": "x",
           "y": [
            3
           ],
           "yaxis": "y"
          },
          {
           "hovertemplate": "bird=reward<br>time=109<br>x=%{x}<br>y=%{y}<extra></extra>",
           "legendgroup": "reward",
           "marker": {
            "color": "yellow",
            "symbol": "square"
           },
           "mode": "markers",
           "name": "reward",
           "orientation": "v",
           "showlegend": false,
           "type": "scatter",
           "x": [
            18,
            11,
            6,
            14,
            7,
            21
           ],
           "xaxis": "x",
           "y": [
            2,
            8,
            9,
            20,
            21,
            21
           ],
           "yaxis": "y"
          }
         ],
         "name": "109"
        },
        {
         "data": [
          {
           "hovertemplate": "bird=1<br>time=110<br>x=%{x}<br>y=%{y}<extra></extra>",
           "legendgroup": "1",
           "marker": {
            "color": "#636efa",
            "line": {
             "width": 3
            },
            "opacity": 0.8,
            "size": 14,
            "symbol": "square"
           },
           "mode": "markers",
           "name": "1",
           "orientation": "v",
           "showlegend": true,
           "type": "scatter",
           "x": [
            26
           ],
           "xaxis": "x",
           "y": [
            14
           ],
           "yaxis": "y"
          },
          {
           "hovertemplate": "bird=2<br>time=110<br>x=%{x}<br>y=%{y}<extra></extra>",
           "legendgroup": "2",
           "marker": {
            "color": "#EF553B",
            "line": {
             "width": 3
            },
            "opacity": 0.8,
            "size": 14,
            "symbol": "square"
           },
           "mode": "markers",
           "name": "2",
           "orientation": "v",
           "showlegend": true,
           "type": "scatter",
           "x": [
            10
           ],
           "xaxis": "x",
           "y": [
            3
           ],
           "yaxis": "y"
          },
          {
           "hovertemplate": "bird=reward<br>time=110<br>x=%{x}<br>y=%{y}<extra></extra>",
           "legendgroup": "reward",
           "marker": {
            "color": "yellow",
            "symbol": "square"
           },
           "mode": "markers",
           "name": "reward",
           "orientation": "v",
           "showlegend": false,
           "type": "scatter",
           "x": [
            18,
            11,
            6,
            14,
            7,
            21
           ],
           "xaxis": "x",
           "y": [
            2,
            8,
            9,
            20,
            21,
            21
           ],
           "yaxis": "y"
          }
         ],
         "name": "110"
        },
        {
         "data": [
          {
           "hovertemplate": "bird=1<br>time=111<br>x=%{x}<br>y=%{y}<extra></extra>",
           "legendgroup": "1",
           "marker": {
            "color": "#636efa",
            "line": {
             "width": 3
            },
            "opacity": 0.8,
            "size": 14,
            "symbol": "square"
           },
           "mode": "markers",
           "name": "1",
           "orientation": "v",
           "showlegend": true,
           "type": "scatter",
           "x": [
            26
           ],
           "xaxis": "x",
           "y": [
            14
           ],
           "yaxis": "y"
          },
          {
           "hovertemplate": "bird=2<br>time=111<br>x=%{x}<br>y=%{y}<extra></extra>",
           "legendgroup": "2",
           "marker": {
            "color": "#EF553B",
            "line": {
             "width": 3
            },
            "opacity": 0.8,
            "size": 14,
            "symbol": "square"
           },
           "mode": "markers",
           "name": "2",
           "orientation": "v",
           "showlegend": true,
           "type": "scatter",
           "x": [
            10
           ],
           "xaxis": "x",
           "y": [
            3
           ],
           "yaxis": "y"
          },
          {
           "hovertemplate": "bird=reward<br>time=111<br>x=%{x}<br>y=%{y}<extra></extra>",
           "legendgroup": "reward",
           "marker": {
            "color": "yellow",
            "symbol": "square"
           },
           "mode": "markers",
           "name": "reward",
           "orientation": "v",
           "showlegend": false,
           "type": "scatter",
           "x": [
            18,
            11,
            6,
            14,
            7,
            21
           ],
           "xaxis": "x",
           "y": [
            2,
            8,
            9,
            20,
            21,
            21
           ],
           "yaxis": "y"
          }
         ],
         "name": "111"
        },
        {
         "data": [
          {
           "hovertemplate": "bird=1<br>time=112<br>x=%{x}<br>y=%{y}<extra></extra>",
           "legendgroup": "1",
           "marker": {
            "color": "#636efa",
            "line": {
             "width": 3
            },
            "opacity": 0.8,
            "size": 14,
            "symbol": "square"
           },
           "mode": "markers",
           "name": "1",
           "orientation": "v",
           "showlegend": true,
           "type": "scatter",
           "x": [
            26
           ],
           "xaxis": "x",
           "y": [
            14
           ],
           "yaxis": "y"
          },
          {
           "hovertemplate": "bird=2<br>time=112<br>x=%{x}<br>y=%{y}<extra></extra>",
           "legendgroup": "2",
           "marker": {
            "color": "#EF553B",
            "line": {
             "width": 3
            },
            "opacity": 0.8,
            "size": 14,
            "symbol": "square"
           },
           "mode": "markers",
           "name": "2",
           "orientation": "v",
           "showlegend": true,
           "type": "scatter",
           "x": [
            10
           ],
           "xaxis": "x",
           "y": [
            3
           ],
           "yaxis": "y"
          },
          {
           "hovertemplate": "bird=reward<br>time=112<br>x=%{x}<br>y=%{y}<extra></extra>",
           "legendgroup": "reward",
           "marker": {
            "color": "yellow",
            "symbol": "square"
           },
           "mode": "markers",
           "name": "reward",
           "orientation": "v",
           "showlegend": false,
           "type": "scatter",
           "x": [
            18,
            11,
            6,
            14,
            7,
            21
           ],
           "xaxis": "x",
           "y": [
            2,
            8,
            9,
            20,
            21,
            21
           ],
           "yaxis": "y"
          }
         ],
         "name": "112"
        },
        {
         "data": [
          {
           "hovertemplate": "bird=1<br>time=113<br>x=%{x}<br>y=%{y}<extra></extra>",
           "legendgroup": "1",
           "marker": {
            "color": "#636efa",
            "line": {
             "width": 3
            },
            "opacity": 0.8,
            "size": 14,
            "symbol": "square"
           },
           "mode": "markers",
           "name": "1",
           "orientation": "v",
           "showlegend": true,
           "type": "scatter",
           "x": [
            26
           ],
           "xaxis": "x",
           "y": [
            14
           ],
           "yaxis": "y"
          },
          {
           "hovertemplate": "bird=2<br>time=113<br>x=%{x}<br>y=%{y}<extra></extra>",
           "legendgroup": "2",
           "marker": {
            "color": "#EF553B",
            "line": {
             "width": 3
            },
            "opacity": 0.8,
            "size": 14,
            "symbol": "square"
           },
           "mode": "markers",
           "name": "2",
           "orientation": "v",
           "showlegend": true,
           "type": "scatter",
           "x": [
            10
           ],
           "xaxis": "x",
           "y": [
            3
           ],
           "yaxis": "y"
          },
          {
           "hovertemplate": "bird=reward<br>time=113<br>x=%{x}<br>y=%{y}<extra></extra>",
           "legendgroup": "reward",
           "marker": {
            "color": "yellow",
            "symbol": "square"
           },
           "mode": "markers",
           "name": "reward",
           "orientation": "v",
           "showlegend": false,
           "type": "scatter",
           "x": [
            18,
            11,
            6,
            14,
            7,
            21
           ],
           "xaxis": "x",
           "y": [
            2,
            8,
            9,
            20,
            21,
            21
           ],
           "yaxis": "y"
          }
         ],
         "name": "113"
        },
        {
         "data": [
          {
           "hovertemplate": "bird=1<br>time=114<br>x=%{x}<br>y=%{y}<extra></extra>",
           "legendgroup": "1",
           "marker": {
            "color": "#636efa",
            "line": {
             "width": 3
            },
            "opacity": 0.8,
            "size": 14,
            "symbol": "square"
           },
           "mode": "markers",
           "name": "1",
           "orientation": "v",
           "showlegend": true,
           "type": "scatter",
           "x": [
            26
           ],
           "xaxis": "x",
           "y": [
            14
           ],
           "yaxis": "y"
          },
          {
           "hovertemplate": "bird=2<br>time=114<br>x=%{x}<br>y=%{y}<extra></extra>",
           "legendgroup": "2",
           "marker": {
            "color": "#EF553B",
            "line": {
             "width": 3
            },
            "opacity": 0.8,
            "size": 14,
            "symbol": "square"
           },
           "mode": "markers",
           "name": "2",
           "orientation": "v",
           "showlegend": true,
           "type": "scatter",
           "x": [
            10
           ],
           "xaxis": "x",
           "y": [
            3
           ],
           "yaxis": "y"
          },
          {
           "hovertemplate": "bird=reward<br>time=114<br>x=%{x}<br>y=%{y}<extra></extra>",
           "legendgroup": "reward",
           "marker": {
            "color": "yellow",
            "symbol": "square"
           },
           "mode": "markers",
           "name": "reward",
           "orientation": "v",
           "showlegend": false,
           "type": "scatter",
           "x": [
            18,
            11,
            6,
            14,
            7,
            21
           ],
           "xaxis": "x",
           "y": [
            2,
            8,
            9,
            20,
            21,
            21
           ],
           "yaxis": "y"
          }
         ],
         "name": "114"
        },
        {
         "data": [
          {
           "hovertemplate": "bird=1<br>time=115<br>x=%{x}<br>y=%{y}<extra></extra>",
           "legendgroup": "1",
           "marker": {
            "color": "#636efa",
            "line": {
             "width": 3
            },
            "opacity": 0.8,
            "size": 14,
            "symbol": "square"
           },
           "mode": "markers",
           "name": "1",
           "orientation": "v",
           "showlegend": true,
           "type": "scatter",
           "x": [
            26
           ],
           "xaxis": "x",
           "y": [
            14
           ],
           "yaxis": "y"
          },
          {
           "hovertemplate": "bird=2<br>time=115<br>x=%{x}<br>y=%{y}<extra></extra>",
           "legendgroup": "2",
           "marker": {
            "color": "#EF553B",
            "line": {
             "width": 3
            },
            "opacity": 0.8,
            "size": 14,
            "symbol": "square"
           },
           "mode": "markers",
           "name": "2",
           "orientation": "v",
           "showlegend": true,
           "type": "scatter",
           "x": [
            10
           ],
           "xaxis": "x",
           "y": [
            3
           ],
           "yaxis": "y"
          },
          {
           "hovertemplate": "bird=reward<br>time=115<br>x=%{x}<br>y=%{y}<extra></extra>",
           "legendgroup": "reward",
           "marker": {
            "color": "yellow",
            "symbol": "square"
           },
           "mode": "markers",
           "name": "reward",
           "orientation": "v",
           "showlegend": false,
           "type": "scatter",
           "x": [
            18,
            11,
            6,
            14,
            7,
            21
           ],
           "xaxis": "x",
           "y": [
            2,
            8,
            9,
            20,
            21,
            21
           ],
           "yaxis": "y"
          }
         ],
         "name": "115"
        },
        {
         "data": [
          {
           "hovertemplate": "bird=1<br>time=116<br>x=%{x}<br>y=%{y}<extra></extra>",
           "legendgroup": "1",
           "marker": {
            "color": "#636efa",
            "line": {
             "width": 3
            },
            "opacity": 0.8,
            "size": 14,
            "symbol": "square"
           },
           "mode": "markers",
           "name": "1",
           "orientation": "v",
           "showlegend": true,
           "type": "scatter",
           "x": [
            26
           ],
           "xaxis": "x",
           "y": [
            14
           ],
           "yaxis": "y"
          },
          {
           "hovertemplate": "bird=2<br>time=116<br>x=%{x}<br>y=%{y}<extra></extra>",
           "legendgroup": "2",
           "marker": {
            "color": "#EF553B",
            "line": {
             "width": 3
            },
            "opacity": 0.8,
            "size": 14,
            "symbol": "square"
           },
           "mode": "markers",
           "name": "2",
           "orientation": "v",
           "showlegend": true,
           "type": "scatter",
           "x": [
            10
           ],
           "xaxis": "x",
           "y": [
            3
           ],
           "yaxis": "y"
          },
          {
           "hovertemplate": "bird=reward<br>time=116<br>x=%{x}<br>y=%{y}<extra></extra>",
           "legendgroup": "reward",
           "marker": {
            "color": "yellow",
            "symbol": "square"
           },
           "mode": "markers",
           "name": "reward",
           "orientation": "v",
           "showlegend": false,
           "type": "scatter",
           "x": [
            18,
            11,
            6,
            14,
            7,
            21
           ],
           "xaxis": "x",
           "y": [
            2,
            8,
            9,
            20,
            21,
            21
           ],
           "yaxis": "y"
          }
         ],
         "name": "116"
        },
        {
         "data": [
          {
           "hovertemplate": "bird=1<br>time=117<br>x=%{x}<br>y=%{y}<extra></extra>",
           "legendgroup": "1",
           "marker": {
            "color": "#636efa",
            "line": {
             "width": 3
            },
            "opacity": 0.8,
            "size": 14,
            "symbol": "square"
           },
           "mode": "markers",
           "name": "1",
           "orientation": "v",
           "showlegend": true,
           "type": "scatter",
           "x": [
            26
           ],
           "xaxis": "x",
           "y": [
            14
           ],
           "yaxis": "y"
          },
          {
           "hovertemplate": "bird=2<br>time=117<br>x=%{x}<br>y=%{y}<extra></extra>",
           "legendgroup": "2",
           "marker": {
            "color": "#EF553B",
            "line": {
             "width": 3
            },
            "opacity": 0.8,
            "size": 14,
            "symbol": "square"
           },
           "mode": "markers",
           "name": "2",
           "orientation": "v",
           "showlegend": true,
           "type": "scatter",
           "x": [
            10
           ],
           "xaxis": "x",
           "y": [
            3
           ],
           "yaxis": "y"
          },
          {
           "hovertemplate": "bird=reward<br>time=117<br>x=%{x}<br>y=%{y}<extra></extra>",
           "legendgroup": "reward",
           "marker": {
            "color": "yellow",
            "symbol": "square"
           },
           "mode": "markers",
           "name": "reward",
           "orientation": "v",
           "showlegend": false,
           "type": "scatter",
           "x": [
            18,
            11,
            6,
            14,
            7,
            21
           ],
           "xaxis": "x",
           "y": [
            2,
            8,
            9,
            20,
            21,
            21
           ],
           "yaxis": "y"
          }
         ],
         "name": "117"
        },
        {
         "data": [
          {
           "hovertemplate": "bird=1<br>time=118<br>x=%{x}<br>y=%{y}<extra></extra>",
           "legendgroup": "1",
           "marker": {
            "color": "#636efa",
            "line": {
             "width": 3
            },
            "opacity": 0.8,
            "size": 14,
            "symbol": "square"
           },
           "mode": "markers",
           "name": "1",
           "orientation": "v",
           "showlegend": true,
           "type": "scatter",
           "x": [
            26
           ],
           "xaxis": "x",
           "y": [
            14
           ],
           "yaxis": "y"
          },
          {
           "hovertemplate": "bird=2<br>time=118<br>x=%{x}<br>y=%{y}<extra></extra>",
           "legendgroup": "2",
           "marker": {
            "color": "#EF553B",
            "line": {
             "width": 3
            },
            "opacity": 0.8,
            "size": 14,
            "symbol": "square"
           },
           "mode": "markers",
           "name": "2",
           "orientation": "v",
           "showlegend": true,
           "type": "scatter",
           "x": [
            10
           ],
           "xaxis": "x",
           "y": [
            3
           ],
           "yaxis": "y"
          },
          {
           "hovertemplate": "bird=reward<br>time=118<br>x=%{x}<br>y=%{y}<extra></extra>",
           "legendgroup": "reward",
           "marker": {
            "color": "yellow",
            "symbol": "square"
           },
           "mode": "markers",
           "name": "reward",
           "orientation": "v",
           "showlegend": false,
           "type": "scatter",
           "x": [
            18,
            11,
            6,
            14,
            7,
            21
           ],
           "xaxis": "x",
           "y": [
            2,
            8,
            9,
            20,
            21,
            21
           ],
           "yaxis": "y"
          }
         ],
         "name": "118"
        },
        {
         "data": [
          {
           "hovertemplate": "bird=1<br>time=119<br>x=%{x}<br>y=%{y}<extra></extra>",
           "legendgroup": "1",
           "marker": {
            "color": "#636efa",
            "line": {
             "width": 3
            },
            "opacity": 0.8,
            "size": 14,
            "symbol": "square"
           },
           "mode": "markers",
           "name": "1",
           "orientation": "v",
           "showlegend": true,
           "type": "scatter",
           "x": [
            26
           ],
           "xaxis": "x",
           "y": [
            14
           ],
           "yaxis": "y"
          },
          {
           "hovertemplate": "bird=2<br>time=119<br>x=%{x}<br>y=%{y}<extra></extra>",
           "legendgroup": "2",
           "marker": {
            "color": "#EF553B",
            "line": {
             "width": 3
            },
            "opacity": 0.8,
            "size": 14,
            "symbol": "square"
           },
           "mode": "markers",
           "name": "2",
           "orientation": "v",
           "showlegend": true,
           "type": "scatter",
           "x": [
            10
           ],
           "xaxis": "x",
           "y": [
            3
           ],
           "yaxis": "y"
          },
          {
           "hovertemplate": "bird=reward<br>time=119<br>x=%{x}<br>y=%{y}<extra></extra>",
           "legendgroup": "reward",
           "marker": {
            "color": "yellow",
            "symbol": "square"
           },
           "mode": "markers",
           "name": "reward",
           "orientation": "v",
           "showlegend": false,
           "type": "scatter",
           "x": [
            18,
            11,
            6,
            14,
            7,
            21
           ],
           "xaxis": "x",
           "y": [
            2,
            8,
            9,
            20,
            21,
            21
           ],
           "yaxis": "y"
          }
         ],
         "name": "119"
        },
        {
         "data": [
          {
           "hovertemplate": "bird=1<br>time=120<br>x=%{x}<br>y=%{y}<extra></extra>",
           "legendgroup": "1",
           "marker": {
            "color": "#636efa",
            "line": {
             "width": 3
            },
            "opacity": 0.8,
            "size": 14,
            "symbol": "square"
           },
           "mode": "markers",
           "name": "1",
           "orientation": "v",
           "showlegend": true,
           "type": "scatter",
           "x": [
            26
           ],
           "xaxis": "x",
           "y": [
            14
           ],
           "yaxis": "y"
          },
          {
           "hovertemplate": "bird=2<br>time=120<br>x=%{x}<br>y=%{y}<extra></extra>",
           "legendgroup": "2",
           "marker": {
            "color": "#EF553B",
            "line": {
             "width": 3
            },
            "opacity": 0.8,
            "size": 14,
            "symbol": "square"
           },
           "mode": "markers",
           "name": "2",
           "orientation": "v",
           "showlegend": true,
           "type": "scatter",
           "x": [
            10
           ],
           "xaxis": "x",
           "y": [
            3
           ],
           "yaxis": "y"
          },
          {
           "hovertemplate": "bird=reward<br>time=120<br>x=%{x}<br>y=%{y}<extra></extra>",
           "legendgroup": "reward",
           "marker": {
            "color": "yellow",
            "symbol": "square"
           },
           "mode": "markers",
           "name": "reward",
           "orientation": "v",
           "showlegend": false,
           "type": "scatter",
           "x": [
            18,
            11,
            6,
            14,
            7,
            21
           ],
           "xaxis": "x",
           "y": [
            2,
            8,
            9,
            20,
            21,
            21
           ],
           "yaxis": "y"
          }
         ],
         "name": "120"
        },
        {
         "data": [
          {
           "hovertemplate": "bird=1<br>time=121<br>x=%{x}<br>y=%{y}<extra></extra>",
           "legendgroup": "1",
           "marker": {
            "color": "#636efa",
            "line": {
             "width": 3
            },
            "opacity": 0.8,
            "size": 14,
            "symbol": "square"
           },
           "mode": "markers",
           "name": "1",
           "orientation": "v",
           "showlegend": true,
           "type": "scatter",
           "x": [
            26
           ],
           "xaxis": "x",
           "y": [
            14
           ],
           "yaxis": "y"
          },
          {
           "hovertemplate": "bird=2<br>time=121<br>x=%{x}<br>y=%{y}<extra></extra>",
           "legendgroup": "2",
           "marker": {
            "color": "#EF553B",
            "line": {
             "width": 3
            },
            "opacity": 0.8,
            "size": 14,
            "symbol": "square"
           },
           "mode": "markers",
           "name": "2",
           "orientation": "v",
           "showlegend": true,
           "type": "scatter",
           "x": [
            10
           ],
           "xaxis": "x",
           "y": [
            3
           ],
           "yaxis": "y"
          },
          {
           "hovertemplate": "bird=reward<br>time=121<br>x=%{x}<br>y=%{y}<extra></extra>",
           "legendgroup": "reward",
           "marker": {
            "color": "yellow",
            "symbol": "square"
           },
           "mode": "markers",
           "name": "reward",
           "orientation": "v",
           "showlegend": false,
           "type": "scatter",
           "x": [
            18,
            11,
            6,
            14,
            7,
            21
           ],
           "xaxis": "x",
           "y": [
            2,
            8,
            9,
            20,
            21,
            21
           ],
           "yaxis": "y"
          }
         ],
         "name": "121"
        },
        {
         "data": [
          {
           "hovertemplate": "bird=1<br>time=122<br>x=%{x}<br>y=%{y}<extra></extra>",
           "legendgroup": "1",
           "marker": {
            "color": "#636efa",
            "line": {
             "width": 3
            },
            "opacity": 0.8,
            "size": 14,
            "symbol": "square"
           },
           "mode": "markers",
           "name": "1",
           "orientation": "v",
           "showlegend": true,
           "type": "scatter",
           "x": [
            26
           ],
           "xaxis": "x",
           "y": [
            14
           ],
           "yaxis": "y"
          },
          {
           "hovertemplate": "bird=2<br>time=122<br>x=%{x}<br>y=%{y}<extra></extra>",
           "legendgroup": "2",
           "marker": {
            "color": "#EF553B",
            "line": {
             "width": 3
            },
            "opacity": 0.8,
            "size": 14,
            "symbol": "square"
           },
           "mode": "markers",
           "name": "2",
           "orientation": "v",
           "showlegend": true,
           "type": "scatter",
           "x": [
            10
           ],
           "xaxis": "x",
           "y": [
            3
           ],
           "yaxis": "y"
          },
          {
           "hovertemplate": "bird=reward<br>time=122<br>x=%{x}<br>y=%{y}<extra></extra>",
           "legendgroup": "reward",
           "marker": {
            "color": "yellow",
            "symbol": "square"
           },
           "mode": "markers",
           "name": "reward",
           "orientation": "v",
           "showlegend": false,
           "type": "scatter",
           "x": [
            18,
            11,
            6,
            14,
            7,
            21
           ],
           "xaxis": "x",
           "y": [
            2,
            8,
            9,
            20,
            21,
            21
           ],
           "yaxis": "y"
          }
         ],
         "name": "122"
        },
        {
         "data": [
          {
           "hovertemplate": "bird=1<br>time=123<br>x=%{x}<br>y=%{y}<extra></extra>",
           "legendgroup": "1",
           "marker": {
            "color": "#636efa",
            "line": {
             "width": 3
            },
            "opacity": 0.8,
            "size": 14,
            "symbol": "square"
           },
           "mode": "markers",
           "name": "1",
           "orientation": "v",
           "showlegend": true,
           "type": "scatter",
           "x": [
            26
           ],
           "xaxis": "x",
           "y": [
            14
           ],
           "yaxis": "y"
          },
          {
           "hovertemplate": "bird=2<br>time=123<br>x=%{x}<br>y=%{y}<extra></extra>",
           "legendgroup": "2",
           "marker": {
            "color": "#EF553B",
            "line": {
             "width": 3
            },
            "opacity": 0.8,
            "size": 14,
            "symbol": "square"
           },
           "mode": "markers",
           "name": "2",
           "orientation": "v",
           "showlegend": true,
           "type": "scatter",
           "x": [
            10
           ],
           "xaxis": "x",
           "y": [
            3
           ],
           "yaxis": "y"
          },
          {
           "hovertemplate": "bird=reward<br>time=123<br>x=%{x}<br>y=%{y}<extra></extra>",
           "legendgroup": "reward",
           "marker": {
            "color": "yellow",
            "symbol": "square"
           },
           "mode": "markers",
           "name": "reward",
           "orientation": "v",
           "showlegend": false,
           "type": "scatter",
           "x": [
            18,
            11,
            6,
            14,
            7,
            21
           ],
           "xaxis": "x",
           "y": [
            2,
            8,
            9,
            20,
            21,
            21
           ],
           "yaxis": "y"
          }
         ],
         "name": "123"
        },
        {
         "data": [
          {
           "hovertemplate": "bird=1<br>time=124<br>x=%{x}<br>y=%{y}<extra></extra>",
           "legendgroup": "1",
           "marker": {
            "color": "#636efa",
            "line": {
             "width": 3
            },
            "opacity": 0.8,
            "size": 14,
            "symbol": "square"
           },
           "mode": "markers",
           "name": "1",
           "orientation": "v",
           "showlegend": true,
           "type": "scatter",
           "x": [
            26
           ],
           "xaxis": "x",
           "y": [
            14
           ],
           "yaxis": "y"
          },
          {
           "hovertemplate": "bird=2<br>time=124<br>x=%{x}<br>y=%{y}<extra></extra>",
           "legendgroup": "2",
           "marker": {
            "color": "#EF553B",
            "line": {
             "width": 3
            },
            "opacity": 0.8,
            "size": 14,
            "symbol": "square"
           },
           "mode": "markers",
           "name": "2",
           "orientation": "v",
           "showlegend": true,
           "type": "scatter",
           "x": [
            10
           ],
           "xaxis": "x",
           "y": [
            3
           ],
           "yaxis": "y"
          },
          {
           "hovertemplate": "bird=reward<br>time=124<br>x=%{x}<br>y=%{y}<extra></extra>",
           "legendgroup": "reward",
           "marker": {
            "color": "yellow",
            "symbol": "square"
           },
           "mode": "markers",
           "name": "reward",
           "orientation": "v",
           "showlegend": false,
           "type": "scatter",
           "x": [
            18,
            11,
            6,
            14,
            7,
            21
           ],
           "xaxis": "x",
           "y": [
            2,
            8,
            9,
            20,
            21,
            21
           ],
           "yaxis": "y"
          }
         ],
         "name": "124"
        },
        {
         "data": [
          {
           "hovertemplate": "bird=1<br>time=125<br>x=%{x}<br>y=%{y}<extra></extra>",
           "legendgroup": "1",
           "marker": {
            "color": "#636efa",
            "line": {
             "width": 3
            },
            "opacity": 0.8,
            "size": 14,
            "symbol": "square"
           },
           "mode": "markers",
           "name": "1",
           "orientation": "v",
           "showlegend": true,
           "type": "scatter",
           "x": [
            26
           ],
           "xaxis": "x",
           "y": [
            14
           ],
           "yaxis": "y"
          },
          {
           "hovertemplate": "bird=2<br>time=125<br>x=%{x}<br>y=%{y}<extra></extra>",
           "legendgroup": "2",
           "marker": {
            "color": "#EF553B",
            "line": {
             "width": 3
            },
            "opacity": 0.8,
            "size": 14,
            "symbol": "square"
           },
           "mode": "markers",
           "name": "2",
           "orientation": "v",
           "showlegend": true,
           "type": "scatter",
           "x": [
            10
           ],
           "xaxis": "x",
           "y": [
            3
           ],
           "yaxis": "y"
          },
          {
           "hovertemplate": "bird=reward<br>time=125<br>x=%{x}<br>y=%{y}<extra></extra>",
           "legendgroup": "reward",
           "marker": {
            "color": "yellow",
            "symbol": "square"
           },
           "mode": "markers",
           "name": "reward",
           "orientation": "v",
           "showlegend": false,
           "type": "scatter",
           "x": [
            18,
            11,
            6,
            14,
            7,
            21
           ],
           "xaxis": "x",
           "y": [
            2,
            8,
            9,
            20,
            21,
            21
           ],
           "yaxis": "y"
          }
         ],
         "name": "125"
        },
        {
         "data": [
          {
           "hovertemplate": "bird=1<br>time=126<br>x=%{x}<br>y=%{y}<extra></extra>",
           "legendgroup": "1",
           "marker": {
            "color": "#636efa",
            "line": {
             "width": 3
            },
            "opacity": 0.8,
            "size": 14,
            "symbol": "square"
           },
           "mode": "markers",
           "name": "1",
           "orientation": "v",
           "showlegend": true,
           "type": "scatter",
           "x": [
            26
           ],
           "xaxis": "x",
           "y": [
            14
           ],
           "yaxis": "y"
          },
          {
           "hovertemplate": "bird=2<br>time=126<br>x=%{x}<br>y=%{y}<extra></extra>",
           "legendgroup": "2",
           "marker": {
            "color": "#EF553B",
            "line": {
             "width": 3
            },
            "opacity": 0.8,
            "size": 14,
            "symbol": "square"
           },
           "mode": "markers",
           "name": "2",
           "orientation": "v",
           "showlegend": true,
           "type": "scatter",
           "x": [
            10
           ],
           "xaxis": "x",
           "y": [
            3
           ],
           "yaxis": "y"
          },
          {
           "hovertemplate": "bird=reward<br>time=126<br>x=%{x}<br>y=%{y}<extra></extra>",
           "legendgroup": "reward",
           "marker": {
            "color": "yellow",
            "symbol": "square"
           },
           "mode": "markers",
           "name": "reward",
           "orientation": "v",
           "showlegend": false,
           "type": "scatter",
           "x": [
            18,
            11,
            6,
            14,
            7,
            21
           ],
           "xaxis": "x",
           "y": [
            2,
            8,
            9,
            20,
            21,
            21
           ],
           "yaxis": "y"
          }
         ],
         "name": "126"
        },
        {
         "data": [
          {
           "hovertemplate": "bird=1<br>time=127<br>x=%{x}<br>y=%{y}<extra></extra>",
           "legendgroup": "1",
           "marker": {
            "color": "#636efa",
            "line": {
             "width": 3
            },
            "opacity": 0.8,
            "size": 14,
            "symbol": "square"
           },
           "mode": "markers",
           "name": "1",
           "orientation": "v",
           "showlegend": true,
           "type": "scatter",
           "x": [
            26
           ],
           "xaxis": "x",
           "y": [
            14
           ],
           "yaxis": "y"
          },
          {
           "hovertemplate": "bird=2<br>time=127<br>x=%{x}<br>y=%{y}<extra></extra>",
           "legendgroup": "2",
           "marker": {
            "color": "#EF553B",
            "line": {
             "width": 3
            },
            "opacity": 0.8,
            "size": 14,
            "symbol": "square"
           },
           "mode": "markers",
           "name": "2",
           "orientation": "v",
           "showlegend": true,
           "type": "scatter",
           "x": [
            10
           ],
           "xaxis": "x",
           "y": [
            3
           ],
           "yaxis": "y"
          },
          {
           "hovertemplate": "bird=reward<br>time=127<br>x=%{x}<br>y=%{y}<extra></extra>",
           "legendgroup": "reward",
           "marker": {
            "color": "yellow",
            "symbol": "square"
           },
           "mode": "markers",
           "name": "reward",
           "orientation": "v",
           "showlegend": false,
           "type": "scatter",
           "x": [
            18,
            11,
            6,
            14,
            7,
            21
           ],
           "xaxis": "x",
           "y": [
            2,
            8,
            9,
            20,
            21,
            21
           ],
           "yaxis": "y"
          }
         ],
         "name": "127"
        },
        {
         "data": [
          {
           "hovertemplate": "bird=1<br>time=128<br>x=%{x}<br>y=%{y}<extra></extra>",
           "legendgroup": "1",
           "marker": {
            "color": "#636efa",
            "line": {
             "width": 3
            },
            "opacity": 0.8,
            "size": 14,
            "symbol": "square"
           },
           "mode": "markers",
           "name": "1",
           "orientation": "v",
           "showlegend": true,
           "type": "scatter",
           "x": [
            26
           ],
           "xaxis": "x",
           "y": [
            14
           ],
           "yaxis": "y"
          },
          {
           "hovertemplate": "bird=2<br>time=128<br>x=%{x}<br>y=%{y}<extra></extra>",
           "legendgroup": "2",
           "marker": {
            "color": "#EF553B",
            "line": {
             "width": 3
            },
            "opacity": 0.8,
            "size": 14,
            "symbol": "square"
           },
           "mode": "markers",
           "name": "2",
           "orientation": "v",
           "showlegend": true,
           "type": "scatter",
           "x": [
            10
           ],
           "xaxis": "x",
           "y": [
            3
           ],
           "yaxis": "y"
          },
          {
           "hovertemplate": "bird=reward<br>time=128<br>x=%{x}<br>y=%{y}<extra></extra>",
           "legendgroup": "reward",
           "marker": {
            "color": "yellow",
            "symbol": "square"
           },
           "mode": "markers",
           "name": "reward",
           "orientation": "v",
           "showlegend": false,
           "type": "scatter",
           "x": [
            18,
            11,
            6,
            14,
            7,
            21
           ],
           "xaxis": "x",
           "y": [
            2,
            8,
            9,
            20,
            21,
            21
           ],
           "yaxis": "y"
          }
         ],
         "name": "128"
        },
        {
         "data": [
          {
           "hovertemplate": "bird=1<br>time=129<br>x=%{x}<br>y=%{y}<extra></extra>",
           "legendgroup": "1",
           "marker": {
            "color": "#636efa",
            "line": {
             "width": 3
            },
            "opacity": 0.8,
            "size": 14,
            "symbol": "square"
           },
           "mode": "markers",
           "name": "1",
           "orientation": "v",
           "showlegend": true,
           "type": "scatter",
           "x": [
            26
           ],
           "xaxis": "x",
           "y": [
            14
           ],
           "yaxis": "y"
          },
          {
           "hovertemplate": "bird=2<br>time=129<br>x=%{x}<br>y=%{y}<extra></extra>",
           "legendgroup": "2",
           "marker": {
            "color": "#EF553B",
            "line": {
             "width": 3
            },
            "opacity": 0.8,
            "size": 14,
            "symbol": "square"
           },
           "mode": "markers",
           "name": "2",
           "orientation": "v",
           "showlegend": true,
           "type": "scatter",
           "x": [
            10
           ],
           "xaxis": "x",
           "y": [
            3
           ],
           "yaxis": "y"
          },
          {
           "hovertemplate": "bird=reward<br>time=129<br>x=%{x}<br>y=%{y}<extra></extra>",
           "legendgroup": "reward",
           "marker": {
            "color": "yellow",
            "symbol": "square"
           },
           "mode": "markers",
           "name": "reward",
           "orientation": "v",
           "showlegend": false,
           "type": "scatter",
           "x": [
            18,
            11,
            6,
            14,
            7,
            21
           ],
           "xaxis": "x",
           "y": [
            2,
            8,
            9,
            20,
            21,
            21
           ],
           "yaxis": "y"
          }
         ],
         "name": "129"
        },
        {
         "data": [
          {
           "hovertemplate": "bird=1<br>time=130<br>x=%{x}<br>y=%{y}<extra></extra>",
           "legendgroup": "1",
           "marker": {
            "color": "#636efa",
            "line": {
             "width": 3
            },
            "opacity": 0.8,
            "size": 14,
            "symbol": "square"
           },
           "mode": "markers",
           "name": "1",
           "orientation": "v",
           "showlegend": true,
           "type": "scatter",
           "x": [
            26
           ],
           "xaxis": "x",
           "y": [
            14
           ],
           "yaxis": "y"
          },
          {
           "hovertemplate": "bird=2<br>time=130<br>x=%{x}<br>y=%{y}<extra></extra>",
           "legendgroup": "2",
           "marker": {
            "color": "#EF553B",
            "line": {
             "width": 3
            },
            "opacity": 0.8,
            "size": 14,
            "symbol": "square"
           },
           "mode": "markers",
           "name": "2",
           "orientation": "v",
           "showlegend": true,
           "type": "scatter",
           "x": [
            10
           ],
           "xaxis": "x",
           "y": [
            3
           ],
           "yaxis": "y"
          },
          {
           "hovertemplate": "bird=reward<br>time=130<br>x=%{x}<br>y=%{y}<extra></extra>",
           "legendgroup": "reward",
           "marker": {
            "color": "yellow",
            "symbol": "square"
           },
           "mode": "markers",
           "name": "reward",
           "orientation": "v",
           "showlegend": false,
           "type": "scatter",
           "x": [
            18,
            11,
            6,
            14,
            7,
            21
           ],
           "xaxis": "x",
           "y": [
            2,
            8,
            9,
            20,
            21,
            21
           ],
           "yaxis": "y"
          }
         ],
         "name": "130"
        },
        {
         "data": [
          {
           "hovertemplate": "bird=1<br>time=131<br>x=%{x}<br>y=%{y}<extra></extra>",
           "legendgroup": "1",
           "marker": {
            "color": "#636efa",
            "line": {
             "width": 3
            },
            "opacity": 0.8,
            "size": 14,
            "symbol": "square"
           },
           "mode": "markers",
           "name": "1",
           "orientation": "v",
           "showlegend": true,
           "type": "scatter",
           "x": [
            26
           ],
           "xaxis": "x",
           "y": [
            14
           ],
           "yaxis": "y"
          },
          {
           "hovertemplate": "bird=2<br>time=131<br>x=%{x}<br>y=%{y}<extra></extra>",
           "legendgroup": "2",
           "marker": {
            "color": "#EF553B",
            "line": {
             "width": 3
            },
            "opacity": 0.8,
            "size": 14,
            "symbol": "square"
           },
           "mode": "markers",
           "name": "2",
           "orientation": "v",
           "showlegend": true,
           "type": "scatter",
           "x": [
            10
           ],
           "xaxis": "x",
           "y": [
            3
           ],
           "yaxis": "y"
          },
          {
           "hovertemplate": "bird=reward<br>time=131<br>x=%{x}<br>y=%{y}<extra></extra>",
           "legendgroup": "reward",
           "marker": {
            "color": "yellow",
            "symbol": "square"
           },
           "mode": "markers",
           "name": "reward",
           "orientation": "v",
           "showlegend": false,
           "type": "scatter",
           "x": [
            18,
            11,
            6,
            14,
            7,
            21
           ],
           "xaxis": "x",
           "y": [
            2,
            8,
            9,
            20,
            21,
            21
           ],
           "yaxis": "y"
          }
         ],
         "name": "131"
        },
        {
         "data": [
          {
           "hovertemplate": "bird=1<br>time=132<br>x=%{x}<br>y=%{y}<extra></extra>",
           "legendgroup": "1",
           "marker": {
            "color": "#636efa",
            "line": {
             "width": 3
            },
            "opacity": 0.8,
            "size": 14,
            "symbol": "square"
           },
           "mode": "markers",
           "name": "1",
           "orientation": "v",
           "showlegend": true,
           "type": "scatter",
           "x": [
            26
           ],
           "xaxis": "x",
           "y": [
            14
           ],
           "yaxis": "y"
          },
          {
           "hovertemplate": "bird=2<br>time=132<br>x=%{x}<br>y=%{y}<extra></extra>",
           "legendgroup": "2",
           "marker": {
            "color": "#EF553B",
            "line": {
             "width": 3
            },
            "opacity": 0.8,
            "size": 14,
            "symbol": "square"
           },
           "mode": "markers",
           "name": "2",
           "orientation": "v",
           "showlegend": true,
           "type": "scatter",
           "x": [
            10
           ],
           "xaxis": "x",
           "y": [
            3
           ],
           "yaxis": "y"
          },
          {
           "hovertemplate": "bird=reward<br>time=132<br>x=%{x}<br>y=%{y}<extra></extra>",
           "legendgroup": "reward",
           "marker": {
            "color": "yellow",
            "symbol": "square"
           },
           "mode": "markers",
           "name": "reward",
           "orientation": "v",
           "showlegend": false,
           "type": "scatter",
           "x": [
            18,
            11,
            6,
            14,
            7,
            21
           ],
           "xaxis": "x",
           "y": [
            2,
            8,
            9,
            20,
            21,
            21
           ],
           "yaxis": "y"
          }
         ],
         "name": "132"
        },
        {
         "data": [
          {
           "hovertemplate": "bird=1<br>time=133<br>x=%{x}<br>y=%{y}<extra></extra>",
           "legendgroup": "1",
           "marker": {
            "color": "#636efa",
            "line": {
             "width": 3
            },
            "opacity": 0.8,
            "size": 14,
            "symbol": "square"
           },
           "mode": "markers",
           "name": "1",
           "orientation": "v",
           "showlegend": true,
           "type": "scatter",
           "x": [
            26
           ],
           "xaxis": "x",
           "y": [
            14
           ],
           "yaxis": "y"
          },
          {
           "hovertemplate": "bird=2<br>time=133<br>x=%{x}<br>y=%{y}<extra></extra>",
           "legendgroup": "2",
           "marker": {
            "color": "#EF553B",
            "line": {
             "width": 3
            },
            "opacity": 0.8,
            "size": 14,
            "symbol": "square"
           },
           "mode": "markers",
           "name": "2",
           "orientation": "v",
           "showlegend": true,
           "type": "scatter",
           "x": [
            10
           ],
           "xaxis": "x",
           "y": [
            3
           ],
           "yaxis": "y"
          },
          {
           "hovertemplate": "bird=reward<br>time=133<br>x=%{x}<br>y=%{y}<extra></extra>",
           "legendgroup": "reward",
           "marker": {
            "color": "yellow",
            "symbol": "square"
           },
           "mode": "markers",
           "name": "reward",
           "orientation": "v",
           "showlegend": false,
           "type": "scatter",
           "x": [
            18,
            11,
            6,
            14,
            7,
            21
           ],
           "xaxis": "x",
           "y": [
            2,
            8,
            9,
            20,
            21,
            21
           ],
           "yaxis": "y"
          }
         ],
         "name": "133"
        },
        {
         "data": [
          {
           "hovertemplate": "bird=1<br>time=134<br>x=%{x}<br>y=%{y}<extra></extra>",
           "legendgroup": "1",
           "marker": {
            "color": "#636efa",
            "line": {
             "width": 3
            },
            "opacity": 0.8,
            "size": 14,
            "symbol": "square"
           },
           "mode": "markers",
           "name": "1",
           "orientation": "v",
           "showlegend": true,
           "type": "scatter",
           "x": [
            26
           ],
           "xaxis": "x",
           "y": [
            14
           ],
           "yaxis": "y"
          },
          {
           "hovertemplate": "bird=2<br>time=134<br>x=%{x}<br>y=%{y}<extra></extra>",
           "legendgroup": "2",
           "marker": {
            "color": "#EF553B",
            "line": {
             "width": 3
            },
            "opacity": 0.8,
            "size": 14,
            "symbol": "square"
           },
           "mode": "markers",
           "name": "2",
           "orientation": "v",
           "showlegend": true,
           "type": "scatter",
           "x": [
            10
           ],
           "xaxis": "x",
           "y": [
            3
           ],
           "yaxis": "y"
          },
          {
           "hovertemplate": "bird=reward<br>time=134<br>x=%{x}<br>y=%{y}<extra></extra>",
           "legendgroup": "reward",
           "marker": {
            "color": "yellow",
            "symbol": "square"
           },
           "mode": "markers",
           "name": "reward",
           "orientation": "v",
           "showlegend": false,
           "type": "scatter",
           "x": [
            18,
            11,
            6,
            14,
            7,
            21
           ],
           "xaxis": "x",
           "y": [
            2,
            8,
            9,
            20,
            21,
            21
           ],
           "yaxis": "y"
          }
         ],
         "name": "134"
        },
        {
         "data": [
          {
           "hovertemplate": "bird=1<br>time=135<br>x=%{x}<br>y=%{y}<extra></extra>",
           "legendgroup": "1",
           "marker": {
            "color": "#636efa",
            "line": {
             "width": 3
            },
            "opacity": 0.8,
            "size": 14,
            "symbol": "square"
           },
           "mode": "markers",
           "name": "1",
           "orientation": "v",
           "showlegend": true,
           "type": "scatter",
           "x": [
            26
           ],
           "xaxis": "x",
           "y": [
            14
           ],
           "yaxis": "y"
          },
          {
           "hovertemplate": "bird=2<br>time=135<br>x=%{x}<br>y=%{y}<extra></extra>",
           "legendgroup": "2",
           "marker": {
            "color": "#EF553B",
            "line": {
             "width": 3
            },
            "opacity": 0.8,
            "size": 14,
            "symbol": "square"
           },
           "mode": "markers",
           "name": "2",
           "orientation": "v",
           "showlegend": true,
           "type": "scatter",
           "x": [
            10
           ],
           "xaxis": "x",
           "y": [
            3
           ],
           "yaxis": "y"
          },
          {
           "hovertemplate": "bird=reward<br>time=135<br>x=%{x}<br>y=%{y}<extra></extra>",
           "legendgroup": "reward",
           "marker": {
            "color": "yellow",
            "symbol": "square"
           },
           "mode": "markers",
           "name": "reward",
           "orientation": "v",
           "showlegend": false,
           "type": "scatter",
           "x": [
            18,
            11,
            6,
            14,
            7,
            21
           ],
           "xaxis": "x",
           "y": [
            2,
            8,
            9,
            20,
            21,
            21
           ],
           "yaxis": "y"
          }
         ],
         "name": "135"
        },
        {
         "data": [
          {
           "hovertemplate": "bird=1<br>time=136<br>x=%{x}<br>y=%{y}<extra></extra>",
           "legendgroup": "1",
           "marker": {
            "color": "#636efa",
            "line": {
             "width": 3
            },
            "opacity": 0.8,
            "size": 14,
            "symbol": "square"
           },
           "mode": "markers",
           "name": "1",
           "orientation": "v",
           "showlegend": true,
           "type": "scatter",
           "x": [
            26
           ],
           "xaxis": "x",
           "y": [
            14
           ],
           "yaxis": "y"
          },
          {
           "hovertemplate": "bird=2<br>time=136<br>x=%{x}<br>y=%{y}<extra></extra>",
           "legendgroup": "2",
           "marker": {
            "color": "#EF553B",
            "line": {
             "width": 3
            },
            "opacity": 0.8,
            "size": 14,
            "symbol": "square"
           },
           "mode": "markers",
           "name": "2",
           "orientation": "v",
           "showlegend": true,
           "type": "scatter",
           "x": [
            10
           ],
           "xaxis": "x",
           "y": [
            3
           ],
           "yaxis": "y"
          },
          {
           "hovertemplate": "bird=reward<br>time=136<br>x=%{x}<br>y=%{y}<extra></extra>",
           "legendgroup": "reward",
           "marker": {
            "color": "yellow",
            "symbol": "square"
           },
           "mode": "markers",
           "name": "reward",
           "orientation": "v",
           "showlegend": false,
           "type": "scatter",
           "x": [
            18,
            11,
            6,
            14,
            7,
            21
           ],
           "xaxis": "x",
           "y": [
            2,
            8,
            9,
            20,
            21,
            21
           ],
           "yaxis": "y"
          }
         ],
         "name": "136"
        },
        {
         "data": [
          {
           "hovertemplate": "bird=1<br>time=137<br>x=%{x}<br>y=%{y}<extra></extra>",
           "legendgroup": "1",
           "marker": {
            "color": "#636efa",
            "line": {
             "width": 3
            },
            "opacity": 0.8,
            "size": 14,
            "symbol": "square"
           },
           "mode": "markers",
           "name": "1",
           "orientation": "v",
           "showlegend": true,
           "type": "scatter",
           "x": [
            26
           ],
           "xaxis": "x",
           "y": [
            14
           ],
           "yaxis": "y"
          },
          {
           "hovertemplate": "bird=2<br>time=137<br>x=%{x}<br>y=%{y}<extra></extra>",
           "legendgroup": "2",
           "marker": {
            "color": "#EF553B",
            "line": {
             "width": 3
            },
            "opacity": 0.8,
            "size": 14,
            "symbol": "square"
           },
           "mode": "markers",
           "name": "2",
           "orientation": "v",
           "showlegend": true,
           "type": "scatter",
           "x": [
            10
           ],
           "xaxis": "x",
           "y": [
            3
           ],
           "yaxis": "y"
          },
          {
           "hovertemplate": "bird=reward<br>time=137<br>x=%{x}<br>y=%{y}<extra></extra>",
           "legendgroup": "reward",
           "marker": {
            "color": "yellow",
            "symbol": "square"
           },
           "mode": "markers",
           "name": "reward",
           "orientation": "v",
           "showlegend": false,
           "type": "scatter",
           "x": [
            18,
            11,
            6,
            14,
            7,
            21
           ],
           "xaxis": "x",
           "y": [
            2,
            8,
            9,
            20,
            21,
            21
           ],
           "yaxis": "y"
          }
         ],
         "name": "137"
        },
        {
         "data": [
          {
           "hovertemplate": "bird=1<br>time=138<br>x=%{x}<br>y=%{y}<extra></extra>",
           "legendgroup": "1",
           "marker": {
            "color": "#636efa",
            "line": {
             "width": 3
            },
            "opacity": 0.8,
            "size": 14,
            "symbol": "square"
           },
           "mode": "markers",
           "name": "1",
           "orientation": "v",
           "showlegend": true,
           "type": "scatter",
           "x": [
            26
           ],
           "xaxis": "x",
           "y": [
            14
           ],
           "yaxis": "y"
          },
          {
           "hovertemplate": "bird=2<br>time=138<br>x=%{x}<br>y=%{y}<extra></extra>",
           "legendgroup": "2",
           "marker": {
            "color": "#EF553B",
            "line": {
             "width": 3
            },
            "opacity": 0.8,
            "size": 14,
            "symbol": "square"
           },
           "mode": "markers",
           "name": "2",
           "orientation": "v",
           "showlegend": true,
           "type": "scatter",
           "x": [
            10
           ],
           "xaxis": "x",
           "y": [
            3
           ],
           "yaxis": "y"
          },
          {
           "hovertemplate": "bird=reward<br>time=138<br>x=%{x}<br>y=%{y}<extra></extra>",
           "legendgroup": "reward",
           "marker": {
            "color": "yellow",
            "symbol": "square"
           },
           "mode": "markers",
           "name": "reward",
           "orientation": "v",
           "showlegend": false,
           "type": "scatter",
           "x": [
            18,
            11,
            6,
            14,
            7,
            21
           ],
           "xaxis": "x",
           "y": [
            2,
            8,
            9,
            20,
            21,
            21
           ],
           "yaxis": "y"
          }
         ],
         "name": "138"
        },
        {
         "data": [
          {
           "hovertemplate": "bird=1<br>time=139<br>x=%{x}<br>y=%{y}<extra></extra>",
           "legendgroup": "1",
           "marker": {
            "color": "#636efa",
            "line": {
             "width": 3
            },
            "opacity": 0.8,
            "size": 14,
            "symbol": "square"
           },
           "mode": "markers",
           "name": "1",
           "orientation": "v",
           "showlegend": true,
           "type": "scatter",
           "x": [
            26
           ],
           "xaxis": "x",
           "y": [
            14
           ],
           "yaxis": "y"
          },
          {
           "hovertemplate": "bird=2<br>time=139<br>x=%{x}<br>y=%{y}<extra></extra>",
           "legendgroup": "2",
           "marker": {
            "color": "#EF553B",
            "line": {
             "width": 3
            },
            "opacity": 0.8,
            "size": 14,
            "symbol": "square"
           },
           "mode": "markers",
           "name": "2",
           "orientation": "v",
           "showlegend": true,
           "type": "scatter",
           "x": [
            10
           ],
           "xaxis": "x",
           "y": [
            3
           ],
           "yaxis": "y"
          },
          {
           "hovertemplate": "bird=reward<br>time=139<br>x=%{x}<br>y=%{y}<extra></extra>",
           "legendgroup": "reward",
           "marker": {
            "color": "yellow",
            "symbol": "square"
           },
           "mode": "markers",
           "name": "reward",
           "orientation": "v",
           "showlegend": false,
           "type": "scatter",
           "x": [
            18,
            11,
            6,
            14,
            7,
            21
           ],
           "xaxis": "x",
           "y": [
            2,
            8,
            9,
            20,
            21,
            21
           ],
           "yaxis": "y"
          }
         ],
         "name": "139"
        },
        {
         "data": [
          {
           "hovertemplate": "bird=1<br>time=140<br>x=%{x}<br>y=%{y}<extra></extra>",
           "legendgroup": "1",
           "marker": {
            "color": "#636efa",
            "line": {
             "width": 3
            },
            "opacity": 0.8,
            "size": 14,
            "symbol": "square"
           },
           "mode": "markers",
           "name": "1",
           "orientation": "v",
           "showlegend": true,
           "type": "scatter",
           "x": [
            26
           ],
           "xaxis": "x",
           "y": [
            14
           ],
           "yaxis": "y"
          },
          {
           "hovertemplate": "bird=2<br>time=140<br>x=%{x}<br>y=%{y}<extra></extra>",
           "legendgroup": "2",
           "marker": {
            "color": "#EF553B",
            "line": {
             "width": 3
            },
            "opacity": 0.8,
            "size": 14,
            "symbol": "square"
           },
           "mode": "markers",
           "name": "2",
           "orientation": "v",
           "showlegend": true,
           "type": "scatter",
           "x": [
            10
           ],
           "xaxis": "x",
           "y": [
            3
           ],
           "yaxis": "y"
          },
          {
           "hovertemplate": "bird=reward<br>time=140<br>x=%{x}<br>y=%{y}<extra></extra>",
           "legendgroup": "reward",
           "marker": {
            "color": "yellow",
            "symbol": "square"
           },
           "mode": "markers",
           "name": "reward",
           "orientation": "v",
           "showlegend": false,
           "type": "scatter",
           "x": [
            18,
            11,
            6,
            14,
            7,
            21
           ],
           "xaxis": "x",
           "y": [
            2,
            8,
            9,
            20,
            21,
            21
           ],
           "yaxis": "y"
          }
         ],
         "name": "140"
        },
        {
         "data": [
          {
           "hovertemplate": "bird=1<br>time=141<br>x=%{x}<br>y=%{y}<extra></extra>",
           "legendgroup": "1",
           "marker": {
            "color": "#636efa",
            "line": {
             "width": 3
            },
            "opacity": 0.8,
            "size": 14,
            "symbol": "square"
           },
           "mode": "markers",
           "name": "1",
           "orientation": "v",
           "showlegend": true,
           "type": "scatter",
           "x": [
            26
           ],
           "xaxis": "x",
           "y": [
            14
           ],
           "yaxis": "y"
          },
          {
           "hovertemplate": "bird=2<br>time=141<br>x=%{x}<br>y=%{y}<extra></extra>",
           "legendgroup": "2",
           "marker": {
            "color": "#EF553B",
            "line": {
             "width": 3
            },
            "opacity": 0.8,
            "size": 14,
            "symbol": "square"
           },
           "mode": "markers",
           "name": "2",
           "orientation": "v",
           "showlegend": true,
           "type": "scatter",
           "x": [
            10
           ],
           "xaxis": "x",
           "y": [
            3
           ],
           "yaxis": "y"
          },
          {
           "hovertemplate": "bird=reward<br>time=141<br>x=%{x}<br>y=%{y}<extra></extra>",
           "legendgroup": "reward",
           "marker": {
            "color": "yellow",
            "symbol": "square"
           },
           "mode": "markers",
           "name": "reward",
           "orientation": "v",
           "showlegend": false,
           "type": "scatter",
           "x": [
            18,
            11,
            6,
            14,
            7,
            21
           ],
           "xaxis": "x",
           "y": [
            2,
            8,
            9,
            20,
            21,
            21
           ],
           "yaxis": "y"
          }
         ],
         "name": "141"
        },
        {
         "data": [
          {
           "hovertemplate": "bird=1<br>time=142<br>x=%{x}<br>y=%{y}<extra></extra>",
           "legendgroup": "1",
           "marker": {
            "color": "#636efa",
            "line": {
             "width": 3
            },
            "opacity": 0.8,
            "size": 14,
            "symbol": "square"
           },
           "mode": "markers",
           "name": "1",
           "orientation": "v",
           "showlegend": true,
           "type": "scatter",
           "x": [
            26
           ],
           "xaxis": "x",
           "y": [
            14
           ],
           "yaxis": "y"
          },
          {
           "hovertemplate": "bird=2<br>time=142<br>x=%{x}<br>y=%{y}<extra></extra>",
           "legendgroup": "2",
           "marker": {
            "color": "#EF553B",
            "line": {
             "width": 3
            },
            "opacity": 0.8,
            "size": 14,
            "symbol": "square"
           },
           "mode": "markers",
           "name": "2",
           "orientation": "v",
           "showlegend": true,
           "type": "scatter",
           "x": [
            10
           ],
           "xaxis": "x",
           "y": [
            3
           ],
           "yaxis": "y"
          },
          {
           "hovertemplate": "bird=reward<br>time=142<br>x=%{x}<br>y=%{y}<extra></extra>",
           "legendgroup": "reward",
           "marker": {
            "color": "yellow",
            "symbol": "square"
           },
           "mode": "markers",
           "name": "reward",
           "orientation": "v",
           "showlegend": false,
           "type": "scatter",
           "x": [
            18,
            11,
            6,
            14,
            7,
            21
           ],
           "xaxis": "x",
           "y": [
            2,
            8,
            9,
            20,
            21,
            21
           ],
           "yaxis": "y"
          }
         ],
         "name": "142"
        },
        {
         "data": [
          {
           "hovertemplate": "bird=1<br>time=143<br>x=%{x}<br>y=%{y}<extra></extra>",
           "legendgroup": "1",
           "marker": {
            "color": "#636efa",
            "line": {
             "width": 3
            },
            "opacity": 0.8,
            "size": 14,
            "symbol": "square"
           },
           "mode": "markers",
           "name": "1",
           "orientation": "v",
           "showlegend": true,
           "type": "scatter",
           "x": [
            26
           ],
           "xaxis": "x",
           "y": [
            14
           ],
           "yaxis": "y"
          },
          {
           "hovertemplate": "bird=2<br>time=143<br>x=%{x}<br>y=%{y}<extra></extra>",
           "legendgroup": "2",
           "marker": {
            "color": "#EF553B",
            "line": {
             "width": 3
            },
            "opacity": 0.8,
            "size": 14,
            "symbol": "square"
           },
           "mode": "markers",
           "name": "2",
           "orientation": "v",
           "showlegend": true,
           "type": "scatter",
           "x": [
            10
           ],
           "xaxis": "x",
           "y": [
            3
           ],
           "yaxis": "y"
          },
          {
           "hovertemplate": "bird=reward<br>time=143<br>x=%{x}<br>y=%{y}<extra></extra>",
           "legendgroup": "reward",
           "marker": {
            "color": "yellow",
            "symbol": "square"
           },
           "mode": "markers",
           "name": "reward",
           "orientation": "v",
           "showlegend": false,
           "type": "scatter",
           "x": [
            18,
            11,
            6,
            14,
            7,
            21
           ],
           "xaxis": "x",
           "y": [
            2,
            8,
            9,
            20,
            21,
            21
           ],
           "yaxis": "y"
          }
         ],
         "name": "143"
        },
        {
         "data": [
          {
           "hovertemplate": "bird=1<br>time=144<br>x=%{x}<br>y=%{y}<extra></extra>",
           "legendgroup": "1",
           "marker": {
            "color": "#636efa",
            "line": {
             "width": 3
            },
            "opacity": 0.8,
            "size": 14,
            "symbol": "square"
           },
           "mode": "markers",
           "name": "1",
           "orientation": "v",
           "showlegend": true,
           "type": "scatter",
           "x": [
            26
           ],
           "xaxis": "x",
           "y": [
            14
           ],
           "yaxis": "y"
          },
          {
           "hovertemplate": "bird=2<br>time=144<br>x=%{x}<br>y=%{y}<extra></extra>",
           "legendgroup": "2",
           "marker": {
            "color": "#EF553B",
            "line": {
             "width": 3
            },
            "opacity": 0.8,
            "size": 14,
            "symbol": "square"
           },
           "mode": "markers",
           "name": "2",
           "orientation": "v",
           "showlegend": true,
           "type": "scatter",
           "x": [
            10
           ],
           "xaxis": "x",
           "y": [
            3
           ],
           "yaxis": "y"
          },
          {
           "hovertemplate": "bird=reward<br>time=144<br>x=%{x}<br>y=%{y}<extra></extra>",
           "legendgroup": "reward",
           "marker": {
            "color": "yellow",
            "symbol": "square"
           },
           "mode": "markers",
           "name": "reward",
           "orientation": "v",
           "showlegend": false,
           "type": "scatter",
           "x": [
            18,
            11,
            6,
            14,
            7,
            21
           ],
           "xaxis": "x",
           "y": [
            2,
            8,
            9,
            20,
            21,
            21
           ],
           "yaxis": "y"
          }
         ],
         "name": "144"
        },
        {
         "data": [
          {
           "hovertemplate": "bird=1<br>time=145<br>x=%{x}<br>y=%{y}<extra></extra>",
           "legendgroup": "1",
           "marker": {
            "color": "#636efa",
            "line": {
             "width": 3
            },
            "opacity": 0.8,
            "size": 14,
            "symbol": "square"
           },
           "mode": "markers",
           "name": "1",
           "orientation": "v",
           "showlegend": true,
           "type": "scatter",
           "x": [
            26
           ],
           "xaxis": "x",
           "y": [
            14
           ],
           "yaxis": "y"
          },
          {
           "hovertemplate": "bird=2<br>time=145<br>x=%{x}<br>y=%{y}<extra></extra>",
           "legendgroup": "2",
           "marker": {
            "color": "#EF553B",
            "line": {
             "width": 3
            },
            "opacity": 0.8,
            "size": 14,
            "symbol": "square"
           },
           "mode": "markers",
           "name": "2",
           "orientation": "v",
           "showlegend": true,
           "type": "scatter",
           "x": [
            10
           ],
           "xaxis": "x",
           "y": [
            3
           ],
           "yaxis": "y"
          },
          {
           "hovertemplate": "bird=reward<br>time=145<br>x=%{x}<br>y=%{y}<extra></extra>",
           "legendgroup": "reward",
           "marker": {
            "color": "yellow",
            "symbol": "square"
           },
           "mode": "markers",
           "name": "reward",
           "orientation": "v",
           "showlegend": false,
           "type": "scatter",
           "x": [
            18,
            11,
            6,
            14,
            7,
            21
           ],
           "xaxis": "x",
           "y": [
            2,
            8,
            9,
            20,
            21,
            21
           ],
           "yaxis": "y"
          }
         ],
         "name": "145"
        },
        {
         "data": [
          {
           "hovertemplate": "bird=1<br>time=146<br>x=%{x}<br>y=%{y}<extra></extra>",
           "legendgroup": "1",
           "marker": {
            "color": "#636efa",
            "line": {
             "width": 3
            },
            "opacity": 0.8,
            "size": 14,
            "symbol": "square"
           },
           "mode": "markers",
           "name": "1",
           "orientation": "v",
           "showlegend": true,
           "type": "scatter",
           "x": [
            26
           ],
           "xaxis": "x",
           "y": [
            14
           ],
           "yaxis": "y"
          },
          {
           "hovertemplate": "bird=2<br>time=146<br>x=%{x}<br>y=%{y}<extra></extra>",
           "legendgroup": "2",
           "marker": {
            "color": "#EF553B",
            "line": {
             "width": 3
            },
            "opacity": 0.8,
            "size": 14,
            "symbol": "square"
           },
           "mode": "markers",
           "name": "2",
           "orientation": "v",
           "showlegend": true,
           "type": "scatter",
           "x": [
            10
           ],
           "xaxis": "x",
           "y": [
            3
           ],
           "yaxis": "y"
          },
          {
           "hovertemplate": "bird=reward<br>time=146<br>x=%{x}<br>y=%{y}<extra></extra>",
           "legendgroup": "reward",
           "marker": {
            "color": "yellow",
            "symbol": "square"
           },
           "mode": "markers",
           "name": "reward",
           "orientation": "v",
           "showlegend": false,
           "type": "scatter",
           "x": [
            18,
            11,
            6,
            14,
            7,
            21
           ],
           "xaxis": "x",
           "y": [
            2,
            8,
            9,
            20,
            21,
            21
           ],
           "yaxis": "y"
          }
         ],
         "name": "146"
        },
        {
         "data": [
          {
           "hovertemplate": "bird=1<br>time=147<br>x=%{x}<br>y=%{y}<extra></extra>",
           "legendgroup": "1",
           "marker": {
            "color": "#636efa",
            "line": {
             "width": 3
            },
            "opacity": 0.8,
            "size": 14,
            "symbol": "square"
           },
           "mode": "markers",
           "name": "1",
           "orientation": "v",
           "showlegend": true,
           "type": "scatter",
           "x": [
            26
           ],
           "xaxis": "x",
           "y": [
            14
           ],
           "yaxis": "y"
          },
          {
           "hovertemplate": "bird=2<br>time=147<br>x=%{x}<br>y=%{y}<extra></extra>",
           "legendgroup": "2",
           "marker": {
            "color": "#EF553B",
            "line": {
             "width": 3
            },
            "opacity": 0.8,
            "size": 14,
            "symbol": "square"
           },
           "mode": "markers",
           "name": "2",
           "orientation": "v",
           "showlegend": true,
           "type": "scatter",
           "x": [
            10
           ],
           "xaxis": "x",
           "y": [
            3
           ],
           "yaxis": "y"
          },
          {
           "hovertemplate": "bird=reward<br>time=147<br>x=%{x}<br>y=%{y}<extra></extra>",
           "legendgroup": "reward",
           "marker": {
            "color": "yellow",
            "symbol": "square"
           },
           "mode": "markers",
           "name": "reward",
           "orientation": "v",
           "showlegend": false,
           "type": "scatter",
           "x": [
            18,
            11,
            6,
            14,
            7,
            21
           ],
           "xaxis": "x",
           "y": [
            2,
            8,
            9,
            20,
            21,
            21
           ],
           "yaxis": "y"
          }
         ],
         "name": "147"
        },
        {
         "data": [
          {
           "hovertemplate": "bird=1<br>time=148<br>x=%{x}<br>y=%{y}<extra></extra>",
           "legendgroup": "1",
           "marker": {
            "color": "#636efa",
            "line": {
             "width": 3
            },
            "opacity": 0.8,
            "size": 14,
            "symbol": "square"
           },
           "mode": "markers",
           "name": "1",
           "orientation": "v",
           "showlegend": true,
           "type": "scatter",
           "x": [
            26
           ],
           "xaxis": "x",
           "y": [
            14
           ],
           "yaxis": "y"
          },
          {
           "hovertemplate": "bird=2<br>time=148<br>x=%{x}<br>y=%{y}<extra></extra>",
           "legendgroup": "2",
           "marker": {
            "color": "#EF553B",
            "line": {
             "width": 3
            },
            "opacity": 0.8,
            "size": 14,
            "symbol": "square"
           },
           "mode": "markers",
           "name": "2",
           "orientation": "v",
           "showlegend": true,
           "type": "scatter",
           "x": [
            10
           ],
           "xaxis": "x",
           "y": [
            3
           ],
           "yaxis": "y"
          },
          {
           "hovertemplate": "bird=reward<br>time=148<br>x=%{x}<br>y=%{y}<extra></extra>",
           "legendgroup": "reward",
           "marker": {
            "color": "yellow",
            "symbol": "square"
           },
           "mode": "markers",
           "name": "reward",
           "orientation": "v",
           "showlegend": false,
           "type": "scatter",
           "x": [
            18,
            11,
            6,
            14,
            7,
            21
           ],
           "xaxis": "x",
           "y": [
            2,
            8,
            9,
            20,
            21,
            21
           ],
           "yaxis": "y"
          }
         ],
         "name": "148"
        },
        {
         "data": [
          {
           "hovertemplate": "bird=1<br>time=149<br>x=%{x}<br>y=%{y}<extra></extra>",
           "legendgroup": "1",
           "marker": {
            "color": "#636efa",
            "line": {
             "width": 3
            },
            "opacity": 0.8,
            "size": 14,
            "symbol": "square"
           },
           "mode": "markers",
           "name": "1",
           "orientation": "v",
           "showlegend": true,
           "type": "scatter",
           "x": [
            26
           ],
           "xaxis": "x",
           "y": [
            14
           ],
           "yaxis": "y"
          },
          {
           "hovertemplate": "bird=2<br>time=149<br>x=%{x}<br>y=%{y}<extra></extra>",
           "legendgroup": "2",
           "marker": {
            "color": "#EF553B",
            "line": {
             "width": 3
            },
            "opacity": 0.8,
            "size": 14,
            "symbol": "square"
           },
           "mode": "markers",
           "name": "2",
           "orientation": "v",
           "showlegend": true,
           "type": "scatter",
           "x": [
            10
           ],
           "xaxis": "x",
           "y": [
            3
           ],
           "yaxis": "y"
          },
          {
           "hovertemplate": "bird=reward<br>time=149<br>x=%{x}<br>y=%{y}<extra></extra>",
           "legendgroup": "reward",
           "marker": {
            "color": "yellow",
            "symbol": "square"
           },
           "mode": "markers",
           "name": "reward",
           "orientation": "v",
           "showlegend": false,
           "type": "scatter",
           "x": [
            18,
            11,
            6,
            14,
            7,
            21
           ],
           "xaxis": "x",
           "y": [
            2,
            8,
            9,
            20,
            21,
            21
           ],
           "yaxis": "y"
          }
         ],
         "name": "149"
        }
       ],
       "layout": {
        "autosize": false,
        "height": 600,
        "legend": {
         "title": {
          "text": "bird"
         },
         "tracegroupgap": 0
        },
        "margin": {
         "t": 60
        },
        "sliders": [
         {
          "active": 0,
          "currentvalue": {
           "prefix": "time="
          },
          "len": 0.9,
          "pad": {
           "b": 10,
           "t": 60
          },
          "steps": [
           {
            "args": [
             [
              "1"
             ],
             {
              "frame": {
               "duration": 0,
               "redraw": false
              },
              "fromcurrent": true,
              "mode": "immediate",
              "transition": {
               "duration": 0,
               "easing": "linear"
              }
             }
            ],
            "label": "1",
            "method": "animate"
           },
           {
            "args": [
             [
              "2"
             ],
             {
              "frame": {
               "duration": 0,
               "redraw": false
              },
              "fromcurrent": true,
              "mode": "immediate",
              "transition": {
               "duration": 0,
               "easing": "linear"
              }
             }
            ],
            "label": "2",
            "method": "animate"
           },
           {
            "args": [
             [
              "3"
             ],
             {
              "frame": {
               "duration": 0,
               "redraw": false
              },
              "fromcurrent": true,
              "mode": "immediate",
              "transition": {
               "duration": 0,
               "easing": "linear"
              }
             }
            ],
            "label": "3",
            "method": "animate"
           },
           {
            "args": [
             [
              "4"
             ],
             {
              "frame": {
               "duration": 0,
               "redraw": false
              },
              "fromcurrent": true,
              "mode": "immediate",
              "transition": {
               "duration": 0,
               "easing": "linear"
              }
             }
            ],
            "label": "4",
            "method": "animate"
           },
           {
            "args": [
             [
              "5"
             ],
             {
              "frame": {
               "duration": 0,
               "redraw": false
              },
              "fromcurrent": true,
              "mode": "immediate",
              "transition": {
               "duration": 0,
               "easing": "linear"
              }
             }
            ],
            "label": "5",
            "method": "animate"
           },
           {
            "args": [
             [
              "6"
             ],
             {
              "frame": {
               "duration": 0,
               "redraw": false
              },
              "fromcurrent": true,
              "mode": "immediate",
              "transition": {
               "duration": 0,
               "easing": "linear"
              }
             }
            ],
            "label": "6",
            "method": "animate"
           },
           {
            "args": [
             [
              "7"
             ],
             {
              "frame": {
               "duration": 0,
               "redraw": false
              },
              "fromcurrent": true,
              "mode": "immediate",
              "transition": {
               "duration": 0,
               "easing": "linear"
              }
             }
            ],
            "label": "7",
            "method": "animate"
           },
           {
            "args": [
             [
              "8"
             ],
             {
              "frame": {
               "duration": 0,
               "redraw": false
              },
              "fromcurrent": true,
              "mode": "immediate",
              "transition": {
               "duration": 0,
               "easing": "linear"
              }
             }
            ],
            "label": "8",
            "method": "animate"
           },
           {
            "args": [
             [
              "9"
             ],
             {
              "frame": {
               "duration": 0,
               "redraw": false
              },
              "fromcurrent": true,
              "mode": "immediate",
              "transition": {
               "duration": 0,
               "easing": "linear"
              }
             }
            ],
            "label": "9",
            "method": "animate"
           },
           {
            "args": [
             [
              "10"
             ],
             {
              "frame": {
               "duration": 0,
               "redraw": false
              },
              "fromcurrent": true,
              "mode": "immediate",
              "transition": {
               "duration": 0,
               "easing": "linear"
              }
             }
            ],
            "label": "10",
            "method": "animate"
           },
           {
            "args": [
             [
              "11"
             ],
             {
              "frame": {
               "duration": 0,
               "redraw": false
              },
              "fromcurrent": true,
              "mode": "immediate",
              "transition": {
               "duration": 0,
               "easing": "linear"
              }
             }
            ],
            "label": "11",
            "method": "animate"
           },
           {
            "args": [
             [
              "12"
             ],
             {
              "frame": {
               "duration": 0,
               "redraw": false
              },
              "fromcurrent": true,
              "mode": "immediate",
              "transition": {
               "duration": 0,
               "easing": "linear"
              }
             }
            ],
            "label": "12",
            "method": "animate"
           },
           {
            "args": [
             [
              "13"
             ],
             {
              "frame": {
               "duration": 0,
               "redraw": false
              },
              "fromcurrent": true,
              "mode": "immediate",
              "transition": {
               "duration": 0,
               "easing": "linear"
              }
             }
            ],
            "label": "13",
            "method": "animate"
           },
           {
            "args": [
             [
              "14"
             ],
             {
              "frame": {
               "duration": 0,
               "redraw": false
              },
              "fromcurrent": true,
              "mode": "immediate",
              "transition": {
               "duration": 0,
               "easing": "linear"
              }
             }
            ],
            "label": "14",
            "method": "animate"
           },
           {
            "args": [
             [
              "15"
             ],
             {
              "frame": {
               "duration": 0,
               "redraw": false
              },
              "fromcurrent": true,
              "mode": "immediate",
              "transition": {
               "duration": 0,
               "easing": "linear"
              }
             }
            ],
            "label": "15",
            "method": "animate"
           },
           {
            "args": [
             [
              "16"
             ],
             {
              "frame": {
               "duration": 0,
               "redraw": false
              },
              "fromcurrent": true,
              "mode": "immediate",
              "transition": {
               "duration": 0,
               "easing": "linear"
              }
             }
            ],
            "label": "16",
            "method": "animate"
           },
           {
            "args": [
             [
              "17"
             ],
             {
              "frame": {
               "duration": 0,
               "redraw": false
              },
              "fromcurrent": true,
              "mode": "immediate",
              "transition": {
               "duration": 0,
               "easing": "linear"
              }
             }
            ],
            "label": "17",
            "method": "animate"
           },
           {
            "args": [
             [
              "18"
             ],
             {
              "frame": {
               "duration": 0,
               "redraw": false
              },
              "fromcurrent": true,
              "mode": "immediate",
              "transition": {
               "duration": 0,
               "easing": "linear"
              }
             }
            ],
            "label": "18",
            "method": "animate"
           },
           {
            "args": [
             [
              "19"
             ],
             {
              "frame": {
               "duration": 0,
               "redraw": false
              },
              "fromcurrent": true,
              "mode": "immediate",
              "transition": {
               "duration": 0,
               "easing": "linear"
              }
             }
            ],
            "label": "19",
            "method": "animate"
           },
           {
            "args": [
             [
              "20"
             ],
             {
              "frame": {
               "duration": 0,
               "redraw": false
              },
              "fromcurrent": true,
              "mode": "immediate",
              "transition": {
               "duration": 0,
               "easing": "linear"
              }
             }
            ],
            "label": "20",
            "method": "animate"
           },
           {
            "args": [
             [
              "21"
             ],
             {
              "frame": {
               "duration": 0,
               "redraw": false
              },
              "fromcurrent": true,
              "mode": "immediate",
              "transition": {
               "duration": 0,
               "easing": "linear"
              }
             }
            ],
            "label": "21",
            "method": "animate"
           },
           {
            "args": [
             [
              "22"
             ],
             {
              "frame": {
               "duration": 0,
               "redraw": false
              },
              "fromcurrent": true,
              "mode": "immediate",
              "transition": {
               "duration": 0,
               "easing": "linear"
              }
             }
            ],
            "label": "22",
            "method": "animate"
           },
           {
            "args": [
             [
              "23"
             ],
             {
              "frame": {
               "duration": 0,
               "redraw": false
              },
              "fromcurrent": true,
              "mode": "immediate",
              "transition": {
               "duration": 0,
               "easing": "linear"
              }
             }
            ],
            "label": "23",
            "method": "animate"
           },
           {
            "args": [
             [
              "24"
             ],
             {
              "frame": {
               "duration": 0,
               "redraw": false
              },
              "fromcurrent": true,
              "mode": "immediate",
              "transition": {
               "duration": 0,
               "easing": "linear"
              }
             }
            ],
            "label": "24",
            "method": "animate"
           },
           {
            "args": [
             [
              "25"
             ],
             {
              "frame": {
               "duration": 0,
               "redraw": false
              },
              "fromcurrent": true,
              "mode": "immediate",
              "transition": {
               "duration": 0,
               "easing": "linear"
              }
             }
            ],
            "label": "25",
            "method": "animate"
           },
           {
            "args": [
             [
              "26"
             ],
             {
              "frame": {
               "duration": 0,
               "redraw": false
              },
              "fromcurrent": true,
              "mode": "immediate",
              "transition": {
               "duration": 0,
               "easing": "linear"
              }
             }
            ],
            "label": "26",
            "method": "animate"
           },
           {
            "args": [
             [
              "27"
             ],
             {
              "frame": {
               "duration": 0,
               "redraw": false
              },
              "fromcurrent": true,
              "mode": "immediate",
              "transition": {
               "duration": 0,
               "easing": "linear"
              }
             }
            ],
            "label": "27",
            "method": "animate"
           },
           {
            "args": [
             [
              "28"
             ],
             {
              "frame": {
               "duration": 0,
               "redraw": false
              },
              "fromcurrent": true,
              "mode": "immediate",
              "transition": {
               "duration": 0,
               "easing": "linear"
              }
             }
            ],
            "label": "28",
            "method": "animate"
           },
           {
            "args": [
             [
              "29"
             ],
             {
              "frame": {
               "duration": 0,
               "redraw": false
              },
              "fromcurrent": true,
              "mode": "immediate",
              "transition": {
               "duration": 0,
               "easing": "linear"
              }
             }
            ],
            "label": "29",
            "method": "animate"
           },
           {
            "args": [
             [
              "30"
             ],
             {
              "frame": {
               "duration": 0,
               "redraw": false
              },
              "fromcurrent": true,
              "mode": "immediate",
              "transition": {
               "duration": 0,
               "easing": "linear"
              }
             }
            ],
            "label": "30",
            "method": "animate"
           },
           {
            "args": [
             [
              "31"
             ],
             {
              "frame": {
               "duration": 0,
               "redraw": false
              },
              "fromcurrent": true,
              "mode": "immediate",
              "transition": {
               "duration": 0,
               "easing": "linear"
              }
             }
            ],
            "label": "31",
            "method": "animate"
           },
           {
            "args": [
             [
              "32"
             ],
             {
              "frame": {
               "duration": 0,
               "redraw": false
              },
              "fromcurrent": true,
              "mode": "immediate",
              "transition": {
               "duration": 0,
               "easing": "linear"
              }
             }
            ],
            "label": "32",
            "method": "animate"
           },
           {
            "args": [
             [
              "33"
             ],
             {
              "frame": {
               "duration": 0,
               "redraw": false
              },
              "fromcurrent": true,
              "mode": "immediate",
              "transition": {
               "duration": 0,
               "easing": "linear"
              }
             }
            ],
            "label": "33",
            "method": "animate"
           },
           {
            "args": [
             [
              "34"
             ],
             {
              "frame": {
               "duration": 0,
               "redraw": false
              },
              "fromcurrent": true,
              "mode": "immediate",
              "transition": {
               "duration": 0,
               "easing": "linear"
              }
             }
            ],
            "label": "34",
            "method": "animate"
           },
           {
            "args": [
             [
              "35"
             ],
             {
              "frame": {
               "duration": 0,
               "redraw": false
              },
              "fromcurrent": true,
              "mode": "immediate",
              "transition": {
               "duration": 0,
               "easing": "linear"
              }
             }
            ],
            "label": "35",
            "method": "animate"
           },
           {
            "args": [
             [
              "36"
             ],
             {
              "frame": {
               "duration": 0,
               "redraw": false
              },
              "fromcurrent": true,
              "mode": "immediate",
              "transition": {
               "duration": 0,
               "easing": "linear"
              }
             }
            ],
            "label": "36",
            "method": "animate"
           },
           {
            "args": [
             [
              "37"
             ],
             {
              "frame": {
               "duration": 0,
               "redraw": false
              },
              "fromcurrent": true,
              "mode": "immediate",
              "transition": {
               "duration": 0,
               "easing": "linear"
              }
             }
            ],
            "label": "37",
            "method": "animate"
           },
           {
            "args": [
             [
              "38"
             ],
             {
              "frame": {
               "duration": 0,
               "redraw": false
              },
              "fromcurrent": true,
              "mode": "immediate",
              "transition": {
               "duration": 0,
               "easing": "linear"
              }
             }
            ],
            "label": "38",
            "method": "animate"
           },
           {
            "args": [
             [
              "39"
             ],
             {
              "frame": {
               "duration": 0,
               "redraw": false
              },
              "fromcurrent": true,
              "mode": "immediate",
              "transition": {
               "duration": 0,
               "easing": "linear"
              }
             }
            ],
            "label": "39",
            "method": "animate"
           },
           {
            "args": [
             [
              "40"
             ],
             {
              "frame": {
               "duration": 0,
               "redraw": false
              },
              "fromcurrent": true,
              "mode": "immediate",
              "transition": {
               "duration": 0,
               "easing": "linear"
              }
             }
            ],
            "label": "40",
            "method": "animate"
           },
           {
            "args": [
             [
              "41"
             ],
             {
              "frame": {
               "duration": 0,
               "redraw": false
              },
              "fromcurrent": true,
              "mode": "immediate",
              "transition": {
               "duration": 0,
               "easing": "linear"
              }
             }
            ],
            "label": "41",
            "method": "animate"
           },
           {
            "args": [
             [
              "42"
             ],
             {
              "frame": {
               "duration": 0,
               "redraw": false
              },
              "fromcurrent": true,
              "mode": "immediate",
              "transition": {
               "duration": 0,
               "easing": "linear"
              }
             }
            ],
            "label": "42",
            "method": "animate"
           },
           {
            "args": [
             [
              "43"
             ],
             {
              "frame": {
               "duration": 0,
               "redraw": false
              },
              "fromcurrent": true,
              "mode": "immediate",
              "transition": {
               "duration": 0,
               "easing": "linear"
              }
             }
            ],
            "label": "43",
            "method": "animate"
           },
           {
            "args": [
             [
              "44"
             ],
             {
              "frame": {
               "duration": 0,
               "redraw": false
              },
              "fromcurrent": true,
              "mode": "immediate",
              "transition": {
               "duration": 0,
               "easing": "linear"
              }
             }
            ],
            "label": "44",
            "method": "animate"
           },
           {
            "args": [
             [
              "45"
             ],
             {
              "frame": {
               "duration": 0,
               "redraw": false
              },
              "fromcurrent": true,
              "mode": "immediate",
              "transition": {
               "duration": 0,
               "easing": "linear"
              }
             }
            ],
            "label": "45",
            "method": "animate"
           },
           {
            "args": [
             [
              "46"
             ],
             {
              "frame": {
               "duration": 0,
               "redraw": false
              },
              "fromcurrent": true,
              "mode": "immediate",
              "transition": {
               "duration": 0,
               "easing": "linear"
              }
             }
            ],
            "label": "46",
            "method": "animate"
           },
           {
            "args": [
             [
              "47"
             ],
             {
              "frame": {
               "duration": 0,
               "redraw": false
              },
              "fromcurrent": true,
              "mode": "immediate",
              "transition": {
               "duration": 0,
               "easing": "linear"
              }
             }
            ],
            "label": "47",
            "method": "animate"
           },
           {
            "args": [
             [
              "48"
             ],
             {
              "frame": {
               "duration": 0,
               "redraw": false
              },
              "fromcurrent": true,
              "mode": "immediate",
              "transition": {
               "duration": 0,
               "easing": "linear"
              }
             }
            ],
            "label": "48",
            "method": "animate"
           },
           {
            "args": [
             [
              "49"
             ],
             {
              "frame": {
               "duration": 0,
               "redraw": false
              },
              "fromcurrent": true,
              "mode": "immediate",
              "transition": {
               "duration": 0,
               "easing": "linear"
              }
             }
            ],
            "label": "49",
            "method": "animate"
           },
           {
            "args": [
             [
              "50"
             ],
             {
              "frame": {
               "duration": 0,
               "redraw": false
              },
              "fromcurrent": true,
              "mode": "immediate",
              "transition": {
               "duration": 0,
               "easing": "linear"
              }
             }
            ],
            "label": "50",
            "method": "animate"
           },
           {
            "args": [
             [
              "51"
             ],
             {
              "frame": {
               "duration": 0,
               "redraw": false
              },
              "fromcurrent": true,
              "mode": "immediate",
              "transition": {
               "duration": 0,
               "easing": "linear"
              }
             }
            ],
            "label": "51",
            "method": "animate"
           },
           {
            "args": [
             [
              "52"
             ],
             {
              "frame": {
               "duration": 0,
               "redraw": false
              },
              "fromcurrent": true,
              "mode": "immediate",
              "transition": {
               "duration": 0,
               "easing": "linear"
              }
             }
            ],
            "label": "52",
            "method": "animate"
           },
           {
            "args": [
             [
              "53"
             ],
             {
              "frame": {
               "duration": 0,
               "redraw": false
              },
              "fromcurrent": true,
              "mode": "immediate",
              "transition": {
               "duration": 0,
               "easing": "linear"
              }
             }
            ],
            "label": "53",
            "method": "animate"
           },
           {
            "args": [
             [
              "54"
             ],
             {
              "frame": {
               "duration": 0,
               "redraw": false
              },
              "fromcurrent": true,
              "mode": "immediate",
              "transition": {
               "duration": 0,
               "easing": "linear"
              }
             }
            ],
            "label": "54",
            "method": "animate"
           },
           {
            "args": [
             [
              "55"
             ],
             {
              "frame": {
               "duration": 0,
               "redraw": false
              },
              "fromcurrent": true,
              "mode": "immediate",
              "transition": {
               "duration": 0,
               "easing": "linear"
              }
             }
            ],
            "label": "55",
            "method": "animate"
           },
           {
            "args": [
             [
              "56"
             ],
             {
              "frame": {
               "duration": 0,
               "redraw": false
              },
              "fromcurrent": true,
              "mode": "immediate",
              "transition": {
               "duration": 0,
               "easing": "linear"
              }
             }
            ],
            "label": "56",
            "method": "animate"
           },
           {
            "args": [
             [
              "57"
             ],
             {
              "frame": {
               "duration": 0,
               "redraw": false
              },
              "fromcurrent": true,
              "mode": "immediate",
              "transition": {
               "duration": 0,
               "easing": "linear"
              }
             }
            ],
            "label": "57",
            "method": "animate"
           },
           {
            "args": [
             [
              "58"
             ],
             {
              "frame": {
               "duration": 0,
               "redraw": false
              },
              "fromcurrent": true,
              "mode": "immediate",
              "transition": {
               "duration": 0,
               "easing": "linear"
              }
             }
            ],
            "label": "58",
            "method": "animate"
           },
           {
            "args": [
             [
              "59"
             ],
             {
              "frame": {
               "duration": 0,
               "redraw": false
              },
              "fromcurrent": true,
              "mode": "immediate",
              "transition": {
               "duration": 0,
               "easing": "linear"
              }
             }
            ],
            "label": "59",
            "method": "animate"
           },
           {
            "args": [
             [
              "60"
             ],
             {
              "frame": {
               "duration": 0,
               "redraw": false
              },
              "fromcurrent": true,
              "mode": "immediate",
              "transition": {
               "duration": 0,
               "easing": "linear"
              }
             }
            ],
            "label": "60",
            "method": "animate"
           },
           {
            "args": [
             [
              "61"
             ],
             {
              "frame": {
               "duration": 0,
               "redraw": false
              },
              "fromcurrent": true,
              "mode": "immediate",
              "transition": {
               "duration": 0,
               "easing": "linear"
              }
             }
            ],
            "label": "61",
            "method": "animate"
           },
           {
            "args": [
             [
              "62"
             ],
             {
              "frame": {
               "duration": 0,
               "redraw": false
              },
              "fromcurrent": true,
              "mode": "immediate",
              "transition": {
               "duration": 0,
               "easing": "linear"
              }
             }
            ],
            "label": "62",
            "method": "animate"
           },
           {
            "args": [
             [
              "63"
             ],
             {
              "frame": {
               "duration": 0,
               "redraw": false
              },
              "fromcurrent": true,
              "mode": "immediate",
              "transition": {
               "duration": 0,
               "easing": "linear"
              }
             }
            ],
            "label": "63",
            "method": "animate"
           },
           {
            "args": [
             [
              "64"
             ],
             {
              "frame": {
               "duration": 0,
               "redraw": false
              },
              "fromcurrent": true,
              "mode": "immediate",
              "transition": {
               "duration": 0,
               "easing": "linear"
              }
             }
            ],
            "label": "64",
            "method": "animate"
           },
           {
            "args": [
             [
              "65"
             ],
             {
              "frame": {
               "duration": 0,
               "redraw": false
              },
              "fromcurrent": true,
              "mode": "immediate",
              "transition": {
               "duration": 0,
               "easing": "linear"
              }
             }
            ],
            "label": "65",
            "method": "animate"
           },
           {
            "args": [
             [
              "66"
             ],
             {
              "frame": {
               "duration": 0,
               "redraw": false
              },
              "fromcurrent": true,
              "mode": "immediate",
              "transition": {
               "duration": 0,
               "easing": "linear"
              }
             }
            ],
            "label": "66",
            "method": "animate"
           },
           {
            "args": [
             [
              "67"
             ],
             {
              "frame": {
               "duration": 0,
               "redraw": false
              },
              "fromcurrent": true,
              "mode": "immediate",
              "transition": {
               "duration": 0,
               "easing": "linear"
              }
             }
            ],
            "label": "67",
            "method": "animate"
           },
           {
            "args": [
             [
              "68"
             ],
             {
              "frame": {
               "duration": 0,
               "redraw": false
              },
              "fromcurrent": true,
              "mode": "immediate",
              "transition": {
               "duration": 0,
               "easing": "linear"
              }
             }
            ],
            "label": "68",
            "method": "animate"
           },
           {
            "args": [
             [
              "69"
             ],
             {
              "frame": {
               "duration": 0,
               "redraw": false
              },
              "fromcurrent": true,
              "mode": "immediate",
              "transition": {
               "duration": 0,
               "easing": "linear"
              }
             }
            ],
            "label": "69",
            "method": "animate"
           },
           {
            "args": [
             [
              "70"
             ],
             {
              "frame": {
               "duration": 0,
               "redraw": false
              },
              "fromcurrent": true,
              "mode": "immediate",
              "transition": {
               "duration": 0,
               "easing": "linear"
              }
             }
            ],
            "label": "70",
            "method": "animate"
           },
           {
            "args": [
             [
              "71"
             ],
             {
              "frame": {
               "duration": 0,
               "redraw": false
              },
              "fromcurrent": true,
              "mode": "immediate",
              "transition": {
               "duration": 0,
               "easing": "linear"
              }
             }
            ],
            "label": "71",
            "method": "animate"
           },
           {
            "args": [
             [
              "72"
             ],
             {
              "frame": {
               "duration": 0,
               "redraw": false
              },
              "fromcurrent": true,
              "mode": "immediate",
              "transition": {
               "duration": 0,
               "easing": "linear"
              }
             }
            ],
            "label": "72",
            "method": "animate"
           },
           {
            "args": [
             [
              "73"
             ],
             {
              "frame": {
               "duration": 0,
               "redraw": false
              },
              "fromcurrent": true,
              "mode": "immediate",
              "transition": {
               "duration": 0,
               "easing": "linear"
              }
             }
            ],
            "label": "73",
            "method": "animate"
           },
           {
            "args": [
             [
              "74"
             ],
             {
              "frame": {
               "duration": 0,
               "redraw": false
              },
              "fromcurrent": true,
              "mode": "immediate",
              "transition": {
               "duration": 0,
               "easing": "linear"
              }
             }
            ],
            "label": "74",
            "method": "animate"
           },
           {
            "args": [
             [
              "75"
             ],
             {
              "frame": {
               "duration": 0,
               "redraw": false
              },
              "fromcurrent": true,
              "mode": "immediate",
              "transition": {
               "duration": 0,
               "easing": "linear"
              }
             }
            ],
            "label": "75",
            "method": "animate"
           },
           {
            "args": [
             [
              "76"
             ],
             {
              "frame": {
               "duration": 0,
               "redraw": false
              },
              "fromcurrent": true,
              "mode": "immediate",
              "transition": {
               "duration": 0,
               "easing": "linear"
              }
             }
            ],
            "label": "76",
            "method": "animate"
           },
           {
            "args": [
             [
              "77"
             ],
             {
              "frame": {
               "duration": 0,
               "redraw": false
              },
              "fromcurrent": true,
              "mode": "immediate",
              "transition": {
               "duration": 0,
               "easing": "linear"
              }
             }
            ],
            "label": "77",
            "method": "animate"
           },
           {
            "args": [
             [
              "78"
             ],
             {
              "frame": {
               "duration": 0,
               "redraw": false
              },
              "fromcurrent": true,
              "mode": "immediate",
              "transition": {
               "duration": 0,
               "easing": "linear"
              }
             }
            ],
            "label": "78",
            "method": "animate"
           },
           {
            "args": [
             [
              "79"
             ],
             {
              "frame": {
               "duration": 0,
               "redraw": false
              },
              "fromcurrent": true,
              "mode": "immediate",
              "transition": {
               "duration": 0,
               "easing": "linear"
              }
             }
            ],
            "label": "79",
            "method": "animate"
           },
           {
            "args": [
             [
              "80"
             ],
             {
              "frame": {
               "duration": 0,
               "redraw": false
              },
              "fromcurrent": true,
              "mode": "immediate",
              "transition": {
               "duration": 0,
               "easing": "linear"
              }
             }
            ],
            "label": "80",
            "method": "animate"
           },
           {
            "args": [
             [
              "81"
             ],
             {
              "frame": {
               "duration": 0,
               "redraw": false
              },
              "fromcurrent": true,
              "mode": "immediate",
              "transition": {
               "duration": 0,
               "easing": "linear"
              }
             }
            ],
            "label": "81",
            "method": "animate"
           },
           {
            "args": [
             [
              "82"
             ],
             {
              "frame": {
               "duration": 0,
               "redraw": false
              },
              "fromcurrent": true,
              "mode": "immediate",
              "transition": {
               "duration": 0,
               "easing": "linear"
              }
             }
            ],
            "label": "82",
            "method": "animate"
           },
           {
            "args": [
             [
              "83"
             ],
             {
              "frame": {
               "duration": 0,
               "redraw": false
              },
              "fromcurrent": true,
              "mode": "immediate",
              "transition": {
               "duration": 0,
               "easing": "linear"
              }
             }
            ],
            "label": "83",
            "method": "animate"
           },
           {
            "args": [
             [
              "84"
             ],
             {
              "frame": {
               "duration": 0,
               "redraw": false
              },
              "fromcurrent": true,
              "mode": "immediate",
              "transition": {
               "duration": 0,
               "easing": "linear"
              }
             }
            ],
            "label": "84",
            "method": "animate"
           },
           {
            "args": [
             [
              "85"
             ],
             {
              "frame": {
               "duration": 0,
               "redraw": false
              },
              "fromcurrent": true,
              "mode": "immediate",
              "transition": {
               "duration": 0,
               "easing": "linear"
              }
             }
            ],
            "label": "85",
            "method": "animate"
           },
           {
            "args": [
             [
              "86"
             ],
             {
              "frame": {
               "duration": 0,
               "redraw": false
              },
              "fromcurrent": true,
              "mode": "immediate",
              "transition": {
               "duration": 0,
               "easing": "linear"
              }
             }
            ],
            "label": "86",
            "method": "animate"
           },
           {
            "args": [
             [
              "87"
             ],
             {
              "frame": {
               "duration": 0,
               "redraw": false
              },
              "fromcurrent": true,
              "mode": "immediate",
              "transition": {
               "duration": 0,
               "easing": "linear"
              }
             }
            ],
            "label": "87",
            "method": "animate"
           },
           {
            "args": [
             [
              "88"
             ],
             {
              "frame": {
               "duration": 0,
               "redraw": false
              },
              "fromcurrent": true,
              "mode": "immediate",
              "transition": {
               "duration": 0,
               "easing": "linear"
              }
             }
            ],
            "label": "88",
            "method": "animate"
           },
           {
            "args": [
             [
              "89"
             ],
             {
              "frame": {
               "duration": 0,
               "redraw": false
              },
              "fromcurrent": true,
              "mode": "immediate",
              "transition": {
               "duration": 0,
               "easing": "linear"
              }
             }
            ],
            "label": "89",
            "method": "animate"
           },
           {
            "args": [
             [
              "90"
             ],
             {
              "frame": {
               "duration": 0,
               "redraw": false
              },
              "fromcurrent": true,
              "mode": "immediate",
              "transition": {
               "duration": 0,
               "easing": "linear"
              }
             }
            ],
            "label": "90",
            "method": "animate"
           },
           {
            "args": [
             [
              "91"
             ],
             {
              "frame": {
               "duration": 0,
               "redraw": false
              },
              "fromcurrent": true,
              "mode": "immediate",
              "transition": {
               "duration": 0,
               "easing": "linear"
              }
             }
            ],
            "label": "91",
            "method": "animate"
           },
           {
            "args": [
             [
              "92"
             ],
             {
              "frame": {
               "duration": 0,
               "redraw": false
              },
              "fromcurrent": true,
              "mode": "immediate",
              "transition": {
               "duration": 0,
               "easing": "linear"
              }
             }
            ],
            "label": "92",
            "method": "animate"
           },
           {
            "args": [
             [
              "93"
             ],
             {
              "frame": {
               "duration": 0,
               "redraw": false
              },
              "fromcurrent": true,
              "mode": "immediate",
              "transition": {
               "duration": 0,
               "easing": "linear"
              }
             }
            ],
            "label": "93",
            "method": "animate"
           },
           {
            "args": [
             [
              "94"
             ],
             {
              "frame": {
               "duration": 0,
               "redraw": false
              },
              "fromcurrent": true,
              "mode": "immediate",
              "transition": {
               "duration": 0,
               "easing": "linear"
              }
             }
            ],
            "label": "94",
            "method": "animate"
           },
           {
            "args": [
             [
              "95"
             ],
             {
              "frame": {
               "duration": 0,
               "redraw": false
              },
              "fromcurrent": true,
              "mode": "immediate",
              "transition": {
               "duration": 0,
               "easing": "linear"
              }
             }
            ],
            "label": "95",
            "method": "animate"
           },
           {
            "args": [
             [
              "96"
             ],
             {
              "frame": {
               "duration": 0,
               "redraw": false
              },
              "fromcurrent": true,
              "mode": "immediate",
              "transition": {
               "duration": 0,
               "easing": "linear"
              }
             }
            ],
            "label": "96",
            "method": "animate"
           },
           {
            "args": [
             [
              "97"
             ],
             {
              "frame": {
               "duration": 0,
               "redraw": false
              },
              "fromcurrent": true,
              "mode": "immediate",
              "transition": {
               "duration": 0,
               "easing": "linear"
              }
             }
            ],
            "label": "97",
            "method": "animate"
           },
           {
            "args": [
             [
              "98"
             ],
             {
              "frame": {
               "duration": 0,
               "redraw": false
              },
              "fromcurrent": true,
              "mode": "immediate",
              "transition": {
               "duration": 0,
               "easing": "linear"
              }
             }
            ],
            "label": "98",
            "method": "animate"
           },
           {
            "args": [
             [
              "99"
             ],
             {
              "frame": {
               "duration": 0,
               "redraw": false
              },
              "fromcurrent": true,
              "mode": "immediate",
              "transition": {
               "duration": 0,
               "easing": "linear"
              }
             }
            ],
            "label": "99",
            "method": "animate"
           },
           {
            "args": [
             [
              "100"
             ],
             {
              "frame": {
               "duration": 0,
               "redraw": false
              },
              "fromcurrent": true,
              "mode": "immediate",
              "transition": {
               "duration": 0,
               "easing": "linear"
              }
             }
            ],
            "label": "100",
            "method": "animate"
           },
           {
            "args": [
             [
              "101"
             ],
             {
              "frame": {
               "duration": 0,
               "redraw": false
              },
              "fromcurrent": true,
              "mode": "immediate",
              "transition": {
               "duration": 0,
               "easing": "linear"
              }
             }
            ],
            "label": "101",
            "method": "animate"
           },
           {
            "args": [
             [
              "102"
             ],
             {
              "frame": {
               "duration": 0,
               "redraw": false
              },
              "fromcurrent": true,
              "mode": "immediate",
              "transition": {
               "duration": 0,
               "easing": "linear"
              }
             }
            ],
            "label": "102",
            "method": "animate"
           },
           {
            "args": [
             [
              "103"
             ],
             {
              "frame": {
               "duration": 0,
               "redraw": false
              },
              "fromcurrent": true,
              "mode": "immediate",
              "transition": {
               "duration": 0,
               "easing": "linear"
              }
             }
            ],
            "label": "103",
            "method": "animate"
           },
           {
            "args": [
             [
              "104"
             ],
             {
              "frame": {
               "duration": 0,
               "redraw": false
              },
              "fromcurrent": true,
              "mode": "immediate",
              "transition": {
               "duration": 0,
               "easing": "linear"
              }
             }
            ],
            "label": "104",
            "method": "animate"
           },
           {
            "args": [
             [
              "105"
             ],
             {
              "frame": {
               "duration": 0,
               "redraw": false
              },
              "fromcurrent": true,
              "mode": "immediate",
              "transition": {
               "duration": 0,
               "easing": "linear"
              }
             }
            ],
            "label": "105",
            "method": "animate"
           },
           {
            "args": [
             [
              "106"
             ],
             {
              "frame": {
               "duration": 0,
               "redraw": false
              },
              "fromcurrent": true,
              "mode": "immediate",
              "transition": {
               "duration": 0,
               "easing": "linear"
              }
             }
            ],
            "label": "106",
            "method": "animate"
           },
           {
            "args": [
             [
              "107"
             ],
             {
              "frame": {
               "duration": 0,
               "redraw": false
              },
              "fromcurrent": true,
              "mode": "immediate",
              "transition": {
               "duration": 0,
               "easing": "linear"
              }
             }
            ],
            "label": "107",
            "method": "animate"
           },
           {
            "args": [
             [
              "108"
             ],
             {
              "frame": {
               "duration": 0,
               "redraw": false
              },
              "fromcurrent": true,
              "mode": "immediate",
              "transition": {
               "duration": 0,
               "easing": "linear"
              }
             }
            ],
            "label": "108",
            "method": "animate"
           },
           {
            "args": [
             [
              "109"
             ],
             {
              "frame": {
               "duration": 0,
               "redraw": false
              },
              "fromcurrent": true,
              "mode": "immediate",
              "transition": {
               "duration": 0,
               "easing": "linear"
              }
             }
            ],
            "label": "109",
            "method": "animate"
           },
           {
            "args": [
             [
              "110"
             ],
             {
              "frame": {
               "duration": 0,
               "redraw": false
              },
              "fromcurrent": true,
              "mode": "immediate",
              "transition": {
               "duration": 0,
               "easing": "linear"
              }
             }
            ],
            "label": "110",
            "method": "animate"
           },
           {
            "args": [
             [
              "111"
             ],
             {
              "frame": {
               "duration": 0,
               "redraw": false
              },
              "fromcurrent": true,
              "mode": "immediate",
              "transition": {
               "duration": 0,
               "easing": "linear"
              }
             }
            ],
            "label": "111",
            "method": "animate"
           },
           {
            "args": [
             [
              "112"
             ],
             {
              "frame": {
               "duration": 0,
               "redraw": false
              },
              "fromcurrent": true,
              "mode": "immediate",
              "transition": {
               "duration": 0,
               "easing": "linear"
              }
             }
            ],
            "label": "112",
            "method": "animate"
           },
           {
            "args": [
             [
              "113"
             ],
             {
              "frame": {
               "duration": 0,
               "redraw": false
              },
              "fromcurrent": true,
              "mode": "immediate",
              "transition": {
               "duration": 0,
               "easing": "linear"
              }
             }
            ],
            "label": "113",
            "method": "animate"
           },
           {
            "args": [
             [
              "114"
             ],
             {
              "frame": {
               "duration": 0,
               "redraw": false
              },
              "fromcurrent": true,
              "mode": "immediate",
              "transition": {
               "duration": 0,
               "easing": "linear"
              }
             }
            ],
            "label": "114",
            "method": "animate"
           },
           {
            "args": [
             [
              "115"
             ],
             {
              "frame": {
               "duration": 0,
               "redraw": false
              },
              "fromcurrent": true,
              "mode": "immediate",
              "transition": {
               "duration": 0,
               "easing": "linear"
              }
             }
            ],
            "label": "115",
            "method": "animate"
           },
           {
            "args": [
             [
              "116"
             ],
             {
              "frame": {
               "duration": 0,
               "redraw": false
              },
              "fromcurrent": true,
              "mode": "immediate",
              "transition": {
               "duration": 0,
               "easing": "linear"
              }
             }
            ],
            "label": "116",
            "method": "animate"
           },
           {
            "args": [
             [
              "117"
             ],
             {
              "frame": {
               "duration": 0,
               "redraw": false
              },
              "fromcurrent": true,
              "mode": "immediate",
              "transition": {
               "duration": 0,
               "easing": "linear"
              }
             }
            ],
            "label": "117",
            "method": "animate"
           },
           {
            "args": [
             [
              "118"
             ],
             {
              "frame": {
               "duration": 0,
               "redraw": false
              },
              "fromcurrent": true,
              "mode": "immediate",
              "transition": {
               "duration": 0,
               "easing": "linear"
              }
             }
            ],
            "label": "118",
            "method": "animate"
           },
           {
            "args": [
             [
              "119"
             ],
             {
              "frame": {
               "duration": 0,
               "redraw": false
              },
              "fromcurrent": true,
              "mode": "immediate",
              "transition": {
               "duration": 0,
               "easing": "linear"
              }
             }
            ],
            "label": "119",
            "method": "animate"
           },
           {
            "args": [
             [
              "120"
             ],
             {
              "frame": {
               "duration": 0,
               "redraw": false
              },
              "fromcurrent": true,
              "mode": "immediate",
              "transition": {
               "duration": 0,
               "easing": "linear"
              }
             }
            ],
            "label": "120",
            "method": "animate"
           },
           {
            "args": [
             [
              "121"
             ],
             {
              "frame": {
               "duration": 0,
               "redraw": false
              },
              "fromcurrent": true,
              "mode": "immediate",
              "transition": {
               "duration": 0,
               "easing": "linear"
              }
             }
            ],
            "label": "121",
            "method": "animate"
           },
           {
            "args": [
             [
              "122"
             ],
             {
              "frame": {
               "duration": 0,
               "redraw": false
              },
              "fromcurrent": true,
              "mode": "immediate",
              "transition": {
               "duration": 0,
               "easing": "linear"
              }
             }
            ],
            "label": "122",
            "method": "animate"
           },
           {
            "args": [
             [
              "123"
             ],
             {
              "frame": {
               "duration": 0,
               "redraw": false
              },
              "fromcurrent": true,
              "mode": "immediate",
              "transition": {
               "duration": 0,
               "easing": "linear"
              }
             }
            ],
            "label": "123",
            "method": "animate"
           },
           {
            "args": [
             [
              "124"
             ],
             {
              "frame": {
               "duration": 0,
               "redraw": false
              },
              "fromcurrent": true,
              "mode": "immediate",
              "transition": {
               "duration": 0,
               "easing": "linear"
              }
             }
            ],
            "label": "124",
            "method": "animate"
           },
           {
            "args": [
             [
              "125"
             ],
             {
              "frame": {
               "duration": 0,
               "redraw": false
              },
              "fromcurrent": true,
              "mode": "immediate",
              "transition": {
               "duration": 0,
               "easing": "linear"
              }
             }
            ],
            "label": "125",
            "method": "animate"
           },
           {
            "args": [
             [
              "126"
             ],
             {
              "frame": {
               "duration": 0,
               "redraw": false
              },
              "fromcurrent": true,
              "mode": "immediate",
              "transition": {
               "duration": 0,
               "easing": "linear"
              }
             }
            ],
            "label": "126",
            "method": "animate"
           },
           {
            "args": [
             [
              "127"
             ],
             {
              "frame": {
               "duration": 0,
               "redraw": false
              },
              "fromcurrent": true,
              "mode": "immediate",
              "transition": {
               "duration": 0,
               "easing": "linear"
              }
             }
            ],
            "label": "127",
            "method": "animate"
           },
           {
            "args": [
             [
              "128"
             ],
             {
              "frame": {
               "duration": 0,
               "redraw": false
              },
              "fromcurrent": true,
              "mode": "immediate",
              "transition": {
               "duration": 0,
               "easing": "linear"
              }
             }
            ],
            "label": "128",
            "method": "animate"
           },
           {
            "args": [
             [
              "129"
             ],
             {
              "frame": {
               "duration": 0,
               "redraw": false
              },
              "fromcurrent": true,
              "mode": "immediate",
              "transition": {
               "duration": 0,
               "easing": "linear"
              }
             }
            ],
            "label": "129",
            "method": "animate"
           },
           {
            "args": [
             [
              "130"
             ],
             {
              "frame": {
               "duration": 0,
               "redraw": false
              },
              "fromcurrent": true,
              "mode": "immediate",
              "transition": {
               "duration": 0,
               "easing": "linear"
              }
             }
            ],
            "label": "130",
            "method": "animate"
           },
           {
            "args": [
             [
              "131"
             ],
             {
              "frame": {
               "duration": 0,
               "redraw": false
              },
              "fromcurrent": true,
              "mode": "immediate",
              "transition": {
               "duration": 0,
               "easing": "linear"
              }
             }
            ],
            "label": "131",
            "method": "animate"
           },
           {
            "args": [
             [
              "132"
             ],
             {
              "frame": {
               "duration": 0,
               "redraw": false
              },
              "fromcurrent": true,
              "mode": "immediate",
              "transition": {
               "duration": 0,
               "easing": "linear"
              }
             }
            ],
            "label": "132",
            "method": "animate"
           },
           {
            "args": [
             [
              "133"
             ],
             {
              "frame": {
               "duration": 0,
               "redraw": false
              },
              "fromcurrent": true,
              "mode": "immediate",
              "transition": {
               "duration": 0,
               "easing": "linear"
              }
             }
            ],
            "label": "133",
            "method": "animate"
           },
           {
            "args": [
             [
              "134"
             ],
             {
              "frame": {
               "duration": 0,
               "redraw": false
              },
              "fromcurrent": true,
              "mode": "immediate",
              "transition": {
               "duration": 0,
               "easing": "linear"
              }
             }
            ],
            "label": "134",
            "method": "animate"
           },
           {
            "args": [
             [
              "135"
             ],
             {
              "frame": {
               "duration": 0,
               "redraw": false
              },
              "fromcurrent": true,
              "mode": "immediate",
              "transition": {
               "duration": 0,
               "easing": "linear"
              }
             }
            ],
            "label": "135",
            "method": "animate"
           },
           {
            "args": [
             [
              "136"
             ],
             {
              "frame": {
               "duration": 0,
               "redraw": false
              },
              "fromcurrent": true,
              "mode": "immediate",
              "transition": {
               "duration": 0,
               "easing": "linear"
              }
             }
            ],
            "label": "136",
            "method": "animate"
           },
           {
            "args": [
             [
              "137"
             ],
             {
              "frame": {
               "duration": 0,
               "redraw": false
              },
              "fromcurrent": true,
              "mode": "immediate",
              "transition": {
               "duration": 0,
               "easing": "linear"
              }
             }
            ],
            "label": "137",
            "method": "animate"
           },
           {
            "args": [
             [
              "138"
             ],
             {
              "frame": {
               "duration": 0,
               "redraw": false
              },
              "fromcurrent": true,
              "mode": "immediate",
              "transition": {
               "duration": 0,
               "easing": "linear"
              }
             }
            ],
            "label": "138",
            "method": "animate"
           },
           {
            "args": [
             [
              "139"
             ],
             {
              "frame": {
               "duration": 0,
               "redraw": false
              },
              "fromcurrent": true,
              "mode": "immediate",
              "transition": {
               "duration": 0,
               "easing": "linear"
              }
             }
            ],
            "label": "139",
            "method": "animate"
           },
           {
            "args": [
             [
              "140"
             ],
             {
              "frame": {
               "duration": 0,
               "redraw": false
              },
              "fromcurrent": true,
              "mode": "immediate",
              "transition": {
               "duration": 0,
               "easing": "linear"
              }
             }
            ],
            "label": "140",
            "method": "animate"
           },
           {
            "args": [
             [
              "141"
             ],
             {
              "frame": {
               "duration": 0,
               "redraw": false
              },
              "fromcurrent": true,
              "mode": "immediate",
              "transition": {
               "duration": 0,
               "easing": "linear"
              }
             }
            ],
            "label": "141",
            "method": "animate"
           },
           {
            "args": [
             [
              "142"
             ],
             {
              "frame": {
               "duration": 0,
               "redraw": false
              },
              "fromcurrent": true,
              "mode": "immediate",
              "transition": {
               "duration": 0,
               "easing": "linear"
              }
             }
            ],
            "label": "142",
            "method": "animate"
           },
           {
            "args": [
             [
              "143"
             ],
             {
              "frame": {
               "duration": 0,
               "redraw": false
              },
              "fromcurrent": true,
              "mode": "immediate",
              "transition": {
               "duration": 0,
               "easing": "linear"
              }
             }
            ],
            "label": "143",
            "method": "animate"
           },
           {
            "args": [
             [
              "144"
             ],
             {
              "frame": {
               "duration": 0,
               "redraw": false
              },
              "fromcurrent": true,
              "mode": "immediate",
              "transition": {
               "duration": 0,
               "easing": "linear"
              }
             }
            ],
            "label": "144",
            "method": "animate"
           },
           {
            "args": [
             [
              "145"
             ],
             {
              "frame": {
               "duration": 0,
               "redraw": false
              },
              "fromcurrent": true,
              "mode": "immediate",
              "transition": {
               "duration": 0,
               "easing": "linear"
              }
             }
            ],
            "label": "145",
            "method": "animate"
           },
           {
            "args": [
             [
              "146"
             ],
             {
              "frame": {
               "duration": 0,
               "redraw": false
              },
              "fromcurrent": true,
              "mode": "immediate",
              "transition": {
               "duration": 0,
               "easing": "linear"
              }
             }
            ],
            "label": "146",
            "method": "animate"
           },
           {
            "args": [
             [
              "147"
             ],
             {
              "frame": {
               "duration": 0,
               "redraw": false
              },
              "fromcurrent": true,
              "mode": "immediate",
              "transition": {
               "duration": 0,
               "easing": "linear"
              }
             }
            ],
            "label": "147",
            "method": "animate"
           },
           {
            "args": [
             [
              "148"
             ],
             {
              "frame": {
               "duration": 0,
               "redraw": false
              },
              "fromcurrent": true,
              "mode": "immediate",
              "transition": {
               "duration": 0,
               "easing": "linear"
              }
             }
            ],
            "label": "148",
            "method": "animate"
           },
           {
            "args": [
             [
              "149"
             ],
             {
              "frame": {
               "duration": 0,
               "redraw": false
              },
              "fromcurrent": true,
              "mode": "immediate",
              "transition": {
               "duration": 0,
               "easing": "linear"
              }
             }
            ],
            "label": "149",
            "method": "animate"
           }
          ],
          "x": 0.1,
          "xanchor": "left",
          "y": 0,
          "yanchor": "top"
         }
        ],
        "template": {
         "data": {
          "bar": [
           {
            "error_x": {
             "color": "#f2f5fa"
            },
            "error_y": {
             "color": "#f2f5fa"
            },
            "marker": {
             "line": {
              "color": "rgb(17,17,17)",
              "width": 0.5
             },
             "pattern": {
              "fillmode": "overlay",
              "size": 10,
              "solidity": 0.2
             }
            },
            "type": "bar"
           }
          ],
          "barpolar": [
           {
            "marker": {
             "line": {
              "color": "rgb(17,17,17)",
              "width": 0.5
             },
             "pattern": {
              "fillmode": "overlay",
              "size": 10,
              "solidity": 0.2
             }
            },
            "type": "barpolar"
           }
          ],
          "carpet": [
           {
            "aaxis": {
             "endlinecolor": "#A2B1C6",
             "gridcolor": "#506784",
             "linecolor": "#506784",
             "minorgridcolor": "#506784",
             "startlinecolor": "#A2B1C6"
            },
            "baxis": {
             "endlinecolor": "#A2B1C6",
             "gridcolor": "#506784",
             "linecolor": "#506784",
             "minorgridcolor": "#506784",
             "startlinecolor": "#A2B1C6"
            },
            "type": "carpet"
           }
          ],
          "choropleth": [
           {
            "colorbar": {
             "outlinewidth": 0,
             "ticks": ""
            },
            "type": "choropleth"
           }
          ],
          "contour": [
           {
            "colorbar": {
             "outlinewidth": 0,
             "ticks": ""
            },
            "colorscale": [
             [
              0,
              "#0d0887"
             ],
             [
              0.1111111111111111,
              "#46039f"
             ],
             [
              0.2222222222222222,
              "#7201a8"
             ],
             [
              0.3333333333333333,
              "#9c179e"
             ],
             [
              0.4444444444444444,
              "#bd3786"
             ],
             [
              0.5555555555555556,
              "#d8576b"
             ],
             [
              0.6666666666666666,
              "#ed7953"
             ],
             [
              0.7777777777777778,
              "#fb9f3a"
             ],
             [
              0.8888888888888888,
              "#fdca26"
             ],
             [
              1,
              "#f0f921"
             ]
            ],
            "type": "contour"
           }
          ],
          "contourcarpet": [
           {
            "colorbar": {
             "outlinewidth": 0,
             "ticks": ""
            },
            "type": "contourcarpet"
           }
          ],
          "heatmap": [
           {
            "colorbar": {
             "outlinewidth": 0,
             "ticks": ""
            },
            "colorscale": [
             [
              0,
              "#0d0887"
             ],
             [
              0.1111111111111111,
              "#46039f"
             ],
             [
              0.2222222222222222,
              "#7201a8"
             ],
             [
              0.3333333333333333,
              "#9c179e"
             ],
             [
              0.4444444444444444,
              "#bd3786"
             ],
             [
              0.5555555555555556,
              "#d8576b"
             ],
             [
              0.6666666666666666,
              "#ed7953"
             ],
             [
              0.7777777777777778,
              "#fb9f3a"
             ],
             [
              0.8888888888888888,
              "#fdca26"
             ],
             [
              1,
              "#f0f921"
             ]
            ],
            "type": "heatmap"
           }
          ],
          "heatmapgl": [
           {
            "colorbar": {
             "outlinewidth": 0,
             "ticks": ""
            },
            "colorscale": [
             [
              0,
              "#0d0887"
             ],
             [
              0.1111111111111111,
              "#46039f"
             ],
             [
              0.2222222222222222,
              "#7201a8"
             ],
             [
              0.3333333333333333,
              "#9c179e"
             ],
             [
              0.4444444444444444,
              "#bd3786"
             ],
             [
              0.5555555555555556,
              "#d8576b"
             ],
             [
              0.6666666666666666,
              "#ed7953"
             ],
             [
              0.7777777777777778,
              "#fb9f3a"
             ],
             [
              0.8888888888888888,
              "#fdca26"
             ],
             [
              1,
              "#f0f921"
             ]
            ],
            "type": "heatmapgl"
           }
          ],
          "histogram": [
           {
            "marker": {
             "pattern": {
              "fillmode": "overlay",
              "size": 10,
              "solidity": 0.2
             }
            },
            "type": "histogram"
           }
          ],
          "histogram2d": [
           {
            "colorbar": {
             "outlinewidth": 0,
             "ticks": ""
            },
            "colorscale": [
             [
              0,
              "#0d0887"
             ],
             [
              0.1111111111111111,
              "#46039f"
             ],
             [
              0.2222222222222222,
              "#7201a8"
             ],
             [
              0.3333333333333333,
              "#9c179e"
             ],
             [
              0.4444444444444444,
              "#bd3786"
             ],
             [
              0.5555555555555556,
              "#d8576b"
             ],
             [
              0.6666666666666666,
              "#ed7953"
             ],
             [
              0.7777777777777778,
              "#fb9f3a"
             ],
             [
              0.8888888888888888,
              "#fdca26"
             ],
             [
              1,
              "#f0f921"
             ]
            ],
            "type": "histogram2d"
           }
          ],
          "histogram2dcontour": [
           {
            "colorbar": {
             "outlinewidth": 0,
             "ticks": ""
            },
            "colorscale": [
             [
              0,
              "#0d0887"
             ],
             [
              0.1111111111111111,
              "#46039f"
             ],
             [
              0.2222222222222222,
              "#7201a8"
             ],
             [
              0.3333333333333333,
              "#9c179e"
             ],
             [
              0.4444444444444444,
              "#bd3786"
             ],
             [
              0.5555555555555556,
              "#d8576b"
             ],
             [
              0.6666666666666666,
              "#ed7953"
             ],
             [
              0.7777777777777778,
              "#fb9f3a"
             ],
             [
              0.8888888888888888,
              "#fdca26"
             ],
             [
              1,
              "#f0f921"
             ]
            ],
            "type": "histogram2dcontour"
           }
          ],
          "mesh3d": [
           {
            "colorbar": {
             "outlinewidth": 0,
             "ticks": ""
            },
            "type": "mesh3d"
           }
          ],
          "parcoords": [
           {
            "line": {
             "colorbar": {
              "outlinewidth": 0,
              "ticks": ""
             }
            },
            "type": "parcoords"
           }
          ],
          "pie": [
           {
            "automargin": true,
            "type": "pie"
           }
          ],
          "scatter": [
           {
            "marker": {
             "line": {
              "color": "#283442"
             }
            },
            "type": "scatter"
           }
          ],
          "scatter3d": [
           {
            "line": {
             "colorbar": {
              "outlinewidth": 0,
              "ticks": ""
             }
            },
            "marker": {
             "colorbar": {
              "outlinewidth": 0,
              "ticks": ""
             }
            },
            "type": "scatter3d"
           }
          ],
          "scattercarpet": [
           {
            "marker": {
             "colorbar": {
              "outlinewidth": 0,
              "ticks": ""
             }
            },
            "type": "scattercarpet"
           }
          ],
          "scattergeo": [
           {
            "marker": {
             "colorbar": {
              "outlinewidth": 0,
              "ticks": ""
             }
            },
            "type": "scattergeo"
           }
          ],
          "scattergl": [
           {
            "marker": {
             "line": {
              "color": "#283442"
             }
            },
            "type": "scattergl"
           }
          ],
          "scattermapbox": [
           {
            "marker": {
             "colorbar": {
              "outlinewidth": 0,
              "ticks": ""
             }
            },
            "type": "scattermapbox"
           }
          ],
          "scatterpolar": [
           {
            "marker": {
             "colorbar": {
              "outlinewidth": 0,
              "ticks": ""
             }
            },
            "type": "scatterpolar"
           }
          ],
          "scatterpolargl": [
           {
            "marker": {
             "colorbar": {
              "outlinewidth": 0,
              "ticks": ""
             }
            },
            "type": "scatterpolargl"
           }
          ],
          "scatterternary": [
           {
            "marker": {
             "colorbar": {
              "outlinewidth": 0,
              "ticks": ""
             }
            },
            "type": "scatterternary"
           }
          ],
          "surface": [
           {
            "colorbar": {
             "outlinewidth": 0,
             "ticks": ""
            },
            "colorscale": [
             [
              0,
              "#0d0887"
             ],
             [
              0.1111111111111111,
              "#46039f"
             ],
             [
              0.2222222222222222,
              "#7201a8"
             ],
             [
              0.3333333333333333,
              "#9c179e"
             ],
             [
              0.4444444444444444,
              "#bd3786"
             ],
             [
              0.5555555555555556,
              "#d8576b"
             ],
             [
              0.6666666666666666,
              "#ed7953"
             ],
             [
              0.7777777777777778,
              "#fb9f3a"
             ],
             [
              0.8888888888888888,
              "#fdca26"
             ],
             [
              1,
              "#f0f921"
             ]
            ],
            "type": "surface"
           }
          ],
          "table": [
           {
            "cells": {
             "fill": {
              "color": "#506784"
             },
             "line": {
              "color": "rgb(17,17,17)"
             }
            },
            "header": {
             "fill": {
              "color": "#2a3f5f"
             },
             "line": {
              "color": "rgb(17,17,17)"
             }
            },
            "type": "table"
           }
          ]
         },
         "layout": {
          "annotationdefaults": {
           "arrowcolor": "#f2f5fa",
           "arrowhead": 0,
           "arrowwidth": 1
          },
          "autotypenumbers": "strict",
          "coloraxis": {
           "colorbar": {
            "outlinewidth": 0,
            "ticks": ""
           }
          },
          "colorscale": {
           "diverging": [
            [
             0,
             "#8e0152"
            ],
            [
             0.1,
             "#c51b7d"
            ],
            [
             0.2,
             "#de77ae"
            ],
            [
             0.3,
             "#f1b6da"
            ],
            [
             0.4,
             "#fde0ef"
            ],
            [
             0.5,
             "#f7f7f7"
            ],
            [
             0.6,
             "#e6f5d0"
            ],
            [
             0.7,
             "#b8e186"
            ],
            [
             0.8,
             "#7fbc41"
            ],
            [
             0.9,
             "#4d9221"
            ],
            [
             1,
             "#276419"
            ]
           ],
           "sequential": [
            [
             0,
             "#0d0887"
            ],
            [
             0.1111111111111111,
             "#46039f"
            ],
            [
             0.2222222222222222,
             "#7201a8"
            ],
            [
             0.3333333333333333,
             "#9c179e"
            ],
            [
             0.4444444444444444,
             "#bd3786"
            ],
            [
             0.5555555555555556,
             "#d8576b"
            ],
            [
             0.6666666666666666,
             "#ed7953"
            ],
            [
             0.7777777777777778,
             "#fb9f3a"
            ],
            [
             0.8888888888888888,
             "#fdca26"
            ],
            [
             1,
             "#f0f921"
            ]
           ],
           "sequentialminus": [
            [
             0,
             "#0d0887"
            ],
            [
             0.1111111111111111,
             "#46039f"
            ],
            [
             0.2222222222222222,
             "#7201a8"
            ],
            [
             0.3333333333333333,
             "#9c179e"
            ],
            [
             0.4444444444444444,
             "#bd3786"
            ],
            [
             0.5555555555555556,
             "#d8576b"
            ],
            [
             0.6666666666666666,
             "#ed7953"
            ],
            [
             0.7777777777777778,
             "#fb9f3a"
            ],
            [
             0.8888888888888888,
             "#fdca26"
            ],
            [
             1,
             "#f0f921"
            ]
           ]
          },
          "colorway": [
           "#636efa",
           "#EF553B",
           "#00cc96",
           "#ab63fa",
           "#FFA15A",
           "#19d3f3",
           "#FF6692",
           "#B6E880",
           "#FF97FF",
           "#FECB52"
          ],
          "font": {
           "color": "#f2f5fa"
          },
          "geo": {
           "bgcolor": "rgb(17,17,17)",
           "lakecolor": "rgb(17,17,17)",
           "landcolor": "rgb(17,17,17)",
           "showlakes": true,
           "showland": true,
           "subunitcolor": "#506784"
          },
          "hoverlabel": {
           "align": "left"
          },
          "hovermode": "closest",
          "mapbox": {
           "style": "dark"
          },
          "paper_bgcolor": "rgb(17,17,17)",
          "plot_bgcolor": "rgb(17,17,17)",
          "polar": {
           "angularaxis": {
            "gridcolor": "#506784",
            "linecolor": "#506784",
            "ticks": ""
           },
           "bgcolor": "rgb(17,17,17)",
           "radialaxis": {
            "gridcolor": "#506784",
            "linecolor": "#506784",
            "ticks": ""
           }
          },
          "scene": {
           "xaxis": {
            "backgroundcolor": "rgb(17,17,17)",
            "gridcolor": "#506784",
            "gridwidth": 2,
            "linecolor": "#506784",
            "showbackground": true,
            "ticks": "",
            "zerolinecolor": "#C8D4E3"
           },
           "yaxis": {
            "backgroundcolor": "rgb(17,17,17)",
            "gridcolor": "#506784",
            "gridwidth": 2,
            "linecolor": "#506784",
            "showbackground": true,
            "ticks": "",
            "zerolinecolor": "#C8D4E3"
           },
           "zaxis": {
            "backgroundcolor": "rgb(17,17,17)",
            "gridcolor": "#506784",
            "gridwidth": 2,
            "linecolor": "#506784",
            "showbackground": true,
            "ticks": "",
            "zerolinecolor": "#C8D4E3"
           }
          },
          "shapedefaults": {
           "line": {
            "color": "#f2f5fa"
           }
          },
          "sliderdefaults": {
           "bgcolor": "#C8D4E3",
           "bordercolor": "rgb(17,17,17)",
           "borderwidth": 1,
           "tickwidth": 0
          },
          "ternary": {
           "aaxis": {
            "gridcolor": "#506784",
            "linecolor": "#506784",
            "ticks": ""
           },
           "baxis": {
            "gridcolor": "#506784",
            "linecolor": "#506784",
            "ticks": ""
           },
           "bgcolor": "rgb(17,17,17)",
           "caxis": {
            "gridcolor": "#506784",
            "linecolor": "#506784",
            "ticks": ""
           }
          },
          "title": {
           "x": 0.05
          },
          "updatemenudefaults": {
           "bgcolor": "#506784",
           "borderwidth": 0
          },
          "xaxis": {
           "automargin": true,
           "gridcolor": "#283442",
           "linecolor": "#506784",
           "ticks": "",
           "title": {
            "standoff": 15
           },
           "zerolinecolor": "#283442",
           "zerolinewidth": 2
          },
          "yaxis": {
           "automargin": true,
           "gridcolor": "#283442",
           "linecolor": "#506784",
           "ticks": "",
           "title": {
            "standoff": 15
           },
           "zerolinecolor": "#283442",
           "zerolinewidth": 2
          }
         }
        },
        "updatemenus": [
         {
          "buttons": [
           {
            "args": [
             null,
             {
              "frame": {
               "duration": 500,
               "redraw": false
              },
              "fromcurrent": true,
              "mode": "immediate",
              "transition": {
               "duration": 0,
               "easing": "linear"
              }
             }
            ],
            "label": "&#9654;",
            "method": "animate"
           },
           {
            "args": [
             [
              null
             ],
             {
              "frame": {
               "duration": 0,
               "redraw": false
              },
              "fromcurrent": true,
              "mode": "immediate",
              "transition": {
               "duration": 0,
               "easing": "linear"
              }
             }
            ],
            "label": "&#9724;",
            "method": "animate"
           }
          ],
          "direction": "left",
          "pad": {
           "r": 10,
           "t": 70
          },
          "showactive": false,
          "type": "buttons",
          "x": 0.1,
          "xanchor": "right",
          "y": 0,
          "yanchor": "top"
         }
        ],
        "width": 600,
        "xaxis": {
         "anchor": "y",
         "domain": [
          0,
          1
         ],
         "range": [
          -1,
          30
         ],
         "showgrid": false,
         "showticklabels": false,
         "ticks": "",
         "title": {
          "text": ""
         },
         "zeroline": false
        },
        "yaxis": {
         "anchor": "x",
         "domain": [
          0,
          1
         ],
         "range": [
          -1,
          30
         ],
         "showgrid": false,
         "showticklabels": false,
         "ticks": "",
         "title": {
          "text": ""
         },
         "zeroline": false
        }
       }
      }
     },
     "metadata": {},
     "output_type": "display_data"
    }
   ],
   "source": [
    "communicators = ft.object_from_data(sim.all_birdsDF, sim.all_rewardsDF)\n",
    "ft.animate_birds(communicators, plot_rewards=True,\n",
    "                  width = 600, height = 600, point_size = 10)"
   ]
  }
 ],
 "metadata": {
  "kernelspec": {
   "display_name": "base",
   "language": "python",
   "name": "python3"
  },
  "language_info": {
   "codemirror_mode": {
    "name": "ipython",
    "version": 3
   },
   "file_extension": ".py",
   "mimetype": "text/x-python",
   "name": "python",
   "nbconvert_exporter": "python",
   "pygments_lexer": "ipython3",
   "version": "3.9.12"
  },
  "orig_nbformat": 4
 },
 "nbformat": 4,
 "nbformat_minor": 2
}
