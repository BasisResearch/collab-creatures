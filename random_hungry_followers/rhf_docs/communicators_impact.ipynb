{
 "cells": [
  {
   "cell_type": "code",
   "execution_count": 1,
   "metadata": {},
   "outputs": [],
   "source": [
    "import pandas as pd\n",
    "import numpy as np\n",
    "import plotly.express as px\n",
    "\n",
    "import torch\n",
    "import pyro\n",
    "import pyro.distributions as dist\n",
    "\n",
    "from pyro.infer import SVI, Trace_ELBO, Predictive\n",
    "from pyro.infer.autoguide import AutoMultivariateNormal\n",
    "\n",
    "from pyro.optim import Adam"
   ]
  },
  {
   "cell_type": "code",
   "execution_count": 68,
   "metadata": {},
   "outputs": [
    {
     "data": {
      "text/html": [
       "<div>\n",
       "<style scoped>\n",
       "    .dataframe tbody tr th:only-of-type {\n",
       "        vertical-align: middle;\n",
       "    }\n",
       "\n",
       "    .dataframe tbody tr th {\n",
       "        vertical-align: top;\n",
       "    }\n",
       "\n",
       "    .dataframe thead th {\n",
       "        text-align: right;\n",
       "    }\n",
       "</style>\n",
       "<table border=\"1\" class=\"dataframe\">\n",
       "  <thead>\n",
       "    <tr style=\"text-align: right;\">\n",
       "      <th></th>\n",
       "      <th>c_trust</th>\n",
       "      <th>sight_radius</th>\n",
       "      <th>reward_patch_dim</th>\n",
       "      <th>sim index</th>\n",
       "      <th>run index</th>\n",
       "      <th>time to first food</th>\n",
       "      <th>num birds failed</th>\n",
       "    </tr>\n",
       "  </thead>\n",
       "  <tbody>\n",
       "    <tr>\n",
       "      <th>0</th>\n",
       "      <td>0.0</td>\n",
       "      <td>5</td>\n",
       "      <td>1</td>\n",
       "      <td>0</td>\n",
       "      <td>0</td>\n",
       "      <td>14.666667</td>\n",
       "      <td>0</td>\n",
       "    </tr>\n",
       "    <tr>\n",
       "      <th>1</th>\n",
       "      <td>0.0</td>\n",
       "      <td>5</td>\n",
       "      <td>1</td>\n",
       "      <td>0</td>\n",
       "      <td>1</td>\n",
       "      <td>14.000000</td>\n",
       "      <td>0</td>\n",
       "    </tr>\n",
       "    <tr>\n",
       "      <th>2</th>\n",
       "      <td>0.0</td>\n",
       "      <td>5</td>\n",
       "      <td>1</td>\n",
       "      <td>0</td>\n",
       "      <td>2</td>\n",
       "      <td>4.888889</td>\n",
       "      <td>0</td>\n",
       "    </tr>\n",
       "    <tr>\n",
       "      <th>3</th>\n",
       "      <td>0.0</td>\n",
       "      <td>5</td>\n",
       "      <td>1</td>\n",
       "      <td>0</td>\n",
       "      <td>3</td>\n",
       "      <td>2.555556</td>\n",
       "      <td>0</td>\n",
       "    </tr>\n",
       "    <tr>\n",
       "      <th>4</th>\n",
       "      <td>0.0</td>\n",
       "      <td>5</td>\n",
       "      <td>2</td>\n",
       "      <td>1</td>\n",
       "      <td>0</td>\n",
       "      <td>7.888889</td>\n",
       "      <td>0</td>\n",
       "    </tr>\n",
       "    <tr>\n",
       "      <th>...</th>\n",
       "      <td>...</td>\n",
       "      <td>...</td>\n",
       "      <td>...</td>\n",
       "      <td>...</td>\n",
       "      <td>...</td>\n",
       "      <td>...</td>\n",
       "      <td>...</td>\n",
       "    </tr>\n",
       "    <tr>\n",
       "      <th>415</th>\n",
       "      <td>1.0</td>\n",
       "      <td>5</td>\n",
       "      <td>4</td>\n",
       "      <td>103</td>\n",
       "      <td>3</td>\n",
       "      <td>8.444444</td>\n",
       "      <td>0</td>\n",
       "    </tr>\n",
       "    <tr>\n",
       "      <th>416</th>\n",
       "      <td>1.0</td>\n",
       "      <td>5</td>\n",
       "      <td>5</td>\n",
       "      <td>104</td>\n",
       "      <td>0</td>\n",
       "      <td>3.555556</td>\n",
       "      <td>0</td>\n",
       "    </tr>\n",
       "    <tr>\n",
       "      <th>417</th>\n",
       "      <td>1.0</td>\n",
       "      <td>5</td>\n",
       "      <td>5</td>\n",
       "      <td>104</td>\n",
       "      <td>1</td>\n",
       "      <td>6.111111</td>\n",
       "      <td>0</td>\n",
       "    </tr>\n",
       "    <tr>\n",
       "      <th>418</th>\n",
       "      <td>1.0</td>\n",
       "      <td>5</td>\n",
       "      <td>5</td>\n",
       "      <td>104</td>\n",
       "      <td>2</td>\n",
       "      <td>7.333333</td>\n",
       "      <td>0</td>\n",
       "    </tr>\n",
       "    <tr>\n",
       "      <th>419</th>\n",
       "      <td>1.0</td>\n",
       "      <td>5</td>\n",
       "      <td>5</td>\n",
       "      <td>104</td>\n",
       "      <td>3</td>\n",
       "      <td>45.444444</td>\n",
       "      <td>0</td>\n",
       "    </tr>\n",
       "  </tbody>\n",
       "</table>\n",
       "<p>420 rows × 7 columns</p>\n",
       "</div>"
      ],
      "text/plain": [
       "     c_trust  sight_radius  reward_patch_dim  sim index  run index  \\\n",
       "0        0.0             5                 1          0          0   \n",
       "1        0.0             5                 1          0          1   \n",
       "2        0.0             5                 1          0          2   \n",
       "3        0.0             5                 1          0          3   \n",
       "4        0.0             5                 2          1          0   \n",
       "..       ...           ...               ...        ...        ...   \n",
       "415      1.0             5                 4        103          3   \n",
       "416      1.0             5                 5        104          0   \n",
       "417      1.0             5                 5        104          1   \n",
       "418      1.0             5                 5        104          2   \n",
       "419      1.0             5                 5        104          3   \n",
       "\n",
       "     time to first food  num birds failed  \n",
       "0             14.666667                 0  \n",
       "1             14.000000                 0  \n",
       "2              4.888889                 0  \n",
       "3              2.555556                 0  \n",
       "4              7.888889                 0  \n",
       "..                  ...               ...  \n",
       "415            8.444444                 0  \n",
       "416            3.555556                 0  \n",
       "417            6.111111                 0  \n",
       "418            7.333333                 0  \n",
       "419           45.444444                 0  \n",
       "\n",
       "[420 rows x 7 columns]"
      ]
     },
     "metadata": {},
     "output_type": "display_data"
    }
   ],
   "source": [
    "impactDF = pd.read_csv(\"communicators_impact_data/resultsDF.csv\", index_col=0)\n",
    "\n",
    "display(impactDF)"
   ]
  },
  {
   "cell_type": "code",
   "execution_count": 7,
   "metadata": {},
   "outputs": [
    {
     "data": {
      "application/vnd.plotly.v1+json": {
       "config": {
        "plotlyServerURL": "https://plot.ly"
       },
       "data": [
        {
         "alignmentgroup": "True",
         "bingroup": "x",
         "hovertemplate": "num birds failed=%{x}<br>count=%{y}<extra></extra>",
         "legendgroup": "",
         "marker": {
          "color": "#636efa",
          "pattern": {
           "shape": ""
          }
         },
         "name": "",
         "nbinsx": 20,
         "offsetgroup": "",
         "orientation": "v",
         "showlegend": false,
         "type": "histogram",
         "x": [
          0,
          0,
          0,
          0,
          0,
          3,
          2,
          4,
          0,
          2,
          6,
          2,
          3,
          2,
          0,
          3,
          4,
          5,
          2,
          3,
          0,
          0,
          0,
          0,
          0,
          0,
          0,
          0,
          2,
          2,
          0,
          0,
          0,
          0,
          0,
          0,
          0,
          0,
          0,
          1,
          0,
          0,
          0,
          0,
          0,
          0,
          0,
          1,
          0,
          0,
          0,
          1,
          0,
          3,
          0,
          0,
          0,
          0,
          0,
          0,
          1,
          1,
          0,
          0,
          2,
          0,
          0,
          0,
          0,
          0,
          0,
          0,
          0,
          0,
          0,
          3,
          0,
          0,
          0,
          0,
          0,
          0,
          0,
          1,
          0,
          0,
          0,
          0,
          0,
          0,
          0,
          0,
          0,
          0,
          0,
          0,
          0,
          0,
          0,
          0,
          0,
          0,
          0,
          0,
          0,
          0,
          0,
          0,
          0,
          0,
          0,
          0,
          0,
          0,
          0,
          0,
          0,
          0,
          1,
          0,
          0,
          0,
          0,
          0,
          0,
          0,
          0,
          0,
          0,
          0,
          0,
          0,
          0,
          0,
          0,
          0,
          0,
          0,
          0,
          0,
          0,
          0,
          0,
          0,
          0,
          0,
          0,
          0,
          0,
          0,
          0,
          0,
          0,
          0,
          0,
          0,
          1,
          1,
          3,
          0,
          0,
          0,
          0,
          0,
          0,
          0,
          0,
          0,
          0,
          0,
          0,
          0,
          1,
          0,
          0,
          5,
          0,
          0,
          1,
          0,
          0,
          0,
          0,
          0,
          0,
          0,
          0,
          0,
          0,
          0,
          0,
          0,
          0,
          0,
          0,
          0,
          0,
          2,
          0,
          0,
          0,
          0,
          0,
          0,
          0,
          0,
          0,
          0,
          0,
          0,
          0,
          0,
          0,
          0,
          0,
          0,
          0,
          0,
          3,
          0,
          0,
          0,
          0,
          0,
          0,
          0,
          0,
          0,
          0,
          0,
          0,
          0,
          0,
          0,
          0,
          0,
          0,
          0,
          0,
          0,
          0,
          0,
          0,
          0,
          0,
          0,
          0,
          0,
          0,
          0,
          0,
          0,
          1,
          0,
          0,
          0,
          9,
          0,
          0,
          0,
          0,
          0,
          0,
          0,
          1,
          0,
          0,
          0,
          0,
          0,
          0,
          0,
          0,
          0,
          0,
          0,
          0,
          0,
          0,
          1,
          0,
          0,
          1,
          0,
          0,
          0,
          0,
          0,
          0,
          0,
          0,
          0,
          0,
          0,
          0,
          0,
          0,
          1,
          0,
          0,
          0,
          0,
          0,
          0,
          0,
          0,
          0,
          0,
          0,
          0,
          0,
          0,
          0,
          1,
          0,
          0,
          0,
          0,
          0,
          1,
          0,
          0,
          0,
          0,
          0,
          0,
          0,
          0,
          0,
          0,
          0,
          0,
          0,
          0,
          0,
          0,
          0,
          0,
          0,
          0,
          0,
          0,
          0,
          0,
          4,
          0,
          0,
          0,
          0,
          0,
          0,
          0,
          0,
          0,
          0,
          0,
          0,
          0,
          0,
          0,
          0,
          0,
          0,
          0,
          0,
          0,
          0,
          0,
          0,
          0,
          0,
          0,
          0,
          0,
          0,
          0,
          0,
          2,
          0,
          0,
          0,
          0,
          0,
          0,
          0,
          0,
          0,
          0,
          0,
          0,
          0,
          0,
          0,
          0,
          0,
          0,
          0,
          0,
          0,
          0,
          3,
          4,
          1,
          0,
          1,
          1,
          0,
          7,
          5,
          1,
          3,
          5,
          0,
          0,
          1,
          0,
          0,
          0,
          0,
          0
         ],
         "xaxis": "x",
         "yaxis": "y"
        }
       ],
       "layout": {
        "barmode": "relative",
        "legend": {
         "tracegroupgap": 0
        },
        "template": {
         "data": {
          "bar": [
           {
            "error_x": {
             "color": "#f2f5fa"
            },
            "error_y": {
             "color": "#f2f5fa"
            },
            "marker": {
             "line": {
              "color": "rgb(17,17,17)",
              "width": 0.5
             },
             "pattern": {
              "fillmode": "overlay",
              "size": 10,
              "solidity": 0.2
             }
            },
            "type": "bar"
           }
          ],
          "barpolar": [
           {
            "marker": {
             "line": {
              "color": "rgb(17,17,17)",
              "width": 0.5
             },
             "pattern": {
              "fillmode": "overlay",
              "size": 10,
              "solidity": 0.2
             }
            },
            "type": "barpolar"
           }
          ],
          "carpet": [
           {
            "aaxis": {
             "endlinecolor": "#A2B1C6",
             "gridcolor": "#506784",
             "linecolor": "#506784",
             "minorgridcolor": "#506784",
             "startlinecolor": "#A2B1C6"
            },
            "baxis": {
             "endlinecolor": "#A2B1C6",
             "gridcolor": "#506784",
             "linecolor": "#506784",
             "minorgridcolor": "#506784",
             "startlinecolor": "#A2B1C6"
            },
            "type": "carpet"
           }
          ],
          "choropleth": [
           {
            "colorbar": {
             "outlinewidth": 0,
             "ticks": ""
            },
            "type": "choropleth"
           }
          ],
          "contour": [
           {
            "colorbar": {
             "outlinewidth": 0,
             "ticks": ""
            },
            "colorscale": [
             [
              0,
              "#0d0887"
             ],
             [
              0.1111111111111111,
              "#46039f"
             ],
             [
              0.2222222222222222,
              "#7201a8"
             ],
             [
              0.3333333333333333,
              "#9c179e"
             ],
             [
              0.4444444444444444,
              "#bd3786"
             ],
             [
              0.5555555555555556,
              "#d8576b"
             ],
             [
              0.6666666666666666,
              "#ed7953"
             ],
             [
              0.7777777777777778,
              "#fb9f3a"
             ],
             [
              0.8888888888888888,
              "#fdca26"
             ],
             [
              1,
              "#f0f921"
             ]
            ],
            "type": "contour"
           }
          ],
          "contourcarpet": [
           {
            "colorbar": {
             "outlinewidth": 0,
             "ticks": ""
            },
            "type": "contourcarpet"
           }
          ],
          "heatmap": [
           {
            "colorbar": {
             "outlinewidth": 0,
             "ticks": ""
            },
            "colorscale": [
             [
              0,
              "#0d0887"
             ],
             [
              0.1111111111111111,
              "#46039f"
             ],
             [
              0.2222222222222222,
              "#7201a8"
             ],
             [
              0.3333333333333333,
              "#9c179e"
             ],
             [
              0.4444444444444444,
              "#bd3786"
             ],
             [
              0.5555555555555556,
              "#d8576b"
             ],
             [
              0.6666666666666666,
              "#ed7953"
             ],
             [
              0.7777777777777778,
              "#fb9f3a"
             ],
             [
              0.8888888888888888,
              "#fdca26"
             ],
             [
              1,
              "#f0f921"
             ]
            ],
            "type": "heatmap"
           }
          ],
          "heatmapgl": [
           {
            "colorbar": {
             "outlinewidth": 0,
             "ticks": ""
            },
            "colorscale": [
             [
              0,
              "#0d0887"
             ],
             [
              0.1111111111111111,
              "#46039f"
             ],
             [
              0.2222222222222222,
              "#7201a8"
             ],
             [
              0.3333333333333333,
              "#9c179e"
             ],
             [
              0.4444444444444444,
              "#bd3786"
             ],
             [
              0.5555555555555556,
              "#d8576b"
             ],
             [
              0.6666666666666666,
              "#ed7953"
             ],
             [
              0.7777777777777778,
              "#fb9f3a"
             ],
             [
              0.8888888888888888,
              "#fdca26"
             ],
             [
              1,
              "#f0f921"
             ]
            ],
            "type": "heatmapgl"
           }
          ],
          "histogram": [
           {
            "marker": {
             "pattern": {
              "fillmode": "overlay",
              "size": 10,
              "solidity": 0.2
             }
            },
            "type": "histogram"
           }
          ],
          "histogram2d": [
           {
            "colorbar": {
             "outlinewidth": 0,
             "ticks": ""
            },
            "colorscale": [
             [
              0,
              "#0d0887"
             ],
             [
              0.1111111111111111,
              "#46039f"
             ],
             [
              0.2222222222222222,
              "#7201a8"
             ],
             [
              0.3333333333333333,
              "#9c179e"
             ],
             [
              0.4444444444444444,
              "#bd3786"
             ],
             [
              0.5555555555555556,
              "#d8576b"
             ],
             [
              0.6666666666666666,
              "#ed7953"
             ],
             [
              0.7777777777777778,
              "#fb9f3a"
             ],
             [
              0.8888888888888888,
              "#fdca26"
             ],
             [
              1,
              "#f0f921"
             ]
            ],
            "type": "histogram2d"
           }
          ],
          "histogram2dcontour": [
           {
            "colorbar": {
             "outlinewidth": 0,
             "ticks": ""
            },
            "colorscale": [
             [
              0,
              "#0d0887"
             ],
             [
              0.1111111111111111,
              "#46039f"
             ],
             [
              0.2222222222222222,
              "#7201a8"
             ],
             [
              0.3333333333333333,
              "#9c179e"
             ],
             [
              0.4444444444444444,
              "#bd3786"
             ],
             [
              0.5555555555555556,
              "#d8576b"
             ],
             [
              0.6666666666666666,
              "#ed7953"
             ],
             [
              0.7777777777777778,
              "#fb9f3a"
             ],
             [
              0.8888888888888888,
              "#fdca26"
             ],
             [
              1,
              "#f0f921"
             ]
            ],
            "type": "histogram2dcontour"
           }
          ],
          "mesh3d": [
           {
            "colorbar": {
             "outlinewidth": 0,
             "ticks": ""
            },
            "type": "mesh3d"
           }
          ],
          "parcoords": [
           {
            "line": {
             "colorbar": {
              "outlinewidth": 0,
              "ticks": ""
             }
            },
            "type": "parcoords"
           }
          ],
          "pie": [
           {
            "automargin": true,
            "type": "pie"
           }
          ],
          "scatter": [
           {
            "marker": {
             "line": {
              "color": "#283442"
             }
            },
            "type": "scatter"
           }
          ],
          "scatter3d": [
           {
            "line": {
             "colorbar": {
              "outlinewidth": 0,
              "ticks": ""
             }
            },
            "marker": {
             "colorbar": {
              "outlinewidth": 0,
              "ticks": ""
             }
            },
            "type": "scatter3d"
           }
          ],
          "scattercarpet": [
           {
            "marker": {
             "colorbar": {
              "outlinewidth": 0,
              "ticks": ""
             }
            },
            "type": "scattercarpet"
           }
          ],
          "scattergeo": [
           {
            "marker": {
             "colorbar": {
              "outlinewidth": 0,
              "ticks": ""
             }
            },
            "type": "scattergeo"
           }
          ],
          "scattergl": [
           {
            "marker": {
             "line": {
              "color": "#283442"
             }
            },
            "type": "scattergl"
           }
          ],
          "scattermapbox": [
           {
            "marker": {
             "colorbar": {
              "outlinewidth": 0,
              "ticks": ""
             }
            },
            "type": "scattermapbox"
           }
          ],
          "scatterpolar": [
           {
            "marker": {
             "colorbar": {
              "outlinewidth": 0,
              "ticks": ""
             }
            },
            "type": "scatterpolar"
           }
          ],
          "scatterpolargl": [
           {
            "marker": {
             "colorbar": {
              "outlinewidth": 0,
              "ticks": ""
             }
            },
            "type": "scatterpolargl"
           }
          ],
          "scatterternary": [
           {
            "marker": {
             "colorbar": {
              "outlinewidth": 0,
              "ticks": ""
             }
            },
            "type": "scatterternary"
           }
          ],
          "surface": [
           {
            "colorbar": {
             "outlinewidth": 0,
             "ticks": ""
            },
            "colorscale": [
             [
              0,
              "#0d0887"
             ],
             [
              0.1111111111111111,
              "#46039f"
             ],
             [
              0.2222222222222222,
              "#7201a8"
             ],
             [
              0.3333333333333333,
              "#9c179e"
             ],
             [
              0.4444444444444444,
              "#bd3786"
             ],
             [
              0.5555555555555556,
              "#d8576b"
             ],
             [
              0.6666666666666666,
              "#ed7953"
             ],
             [
              0.7777777777777778,
              "#fb9f3a"
             ],
             [
              0.8888888888888888,
              "#fdca26"
             ],
             [
              1,
              "#f0f921"
             ]
            ],
            "type": "surface"
           }
          ],
          "table": [
           {
            "cells": {
             "fill": {
              "color": "#506784"
             },
             "line": {
              "color": "rgb(17,17,17)"
             }
            },
            "header": {
             "fill": {
              "color": "#2a3f5f"
             },
             "line": {
              "color": "rgb(17,17,17)"
             }
            },
            "type": "table"
           }
          ]
         },
         "layout": {
          "annotationdefaults": {
           "arrowcolor": "#f2f5fa",
           "arrowhead": 0,
           "arrowwidth": 1
          },
          "autotypenumbers": "strict",
          "coloraxis": {
           "colorbar": {
            "outlinewidth": 0,
            "ticks": ""
           }
          },
          "colorscale": {
           "diverging": [
            [
             0,
             "#8e0152"
            ],
            [
             0.1,
             "#c51b7d"
            ],
            [
             0.2,
             "#de77ae"
            ],
            [
             0.3,
             "#f1b6da"
            ],
            [
             0.4,
             "#fde0ef"
            ],
            [
             0.5,
             "#f7f7f7"
            ],
            [
             0.6,
             "#e6f5d0"
            ],
            [
             0.7,
             "#b8e186"
            ],
            [
             0.8,
             "#7fbc41"
            ],
            [
             0.9,
             "#4d9221"
            ],
            [
             1,
             "#276419"
            ]
           ],
           "sequential": [
            [
             0,
             "#0d0887"
            ],
            [
             0.1111111111111111,
             "#46039f"
            ],
            [
             0.2222222222222222,
             "#7201a8"
            ],
            [
             0.3333333333333333,
             "#9c179e"
            ],
            [
             0.4444444444444444,
             "#bd3786"
            ],
            [
             0.5555555555555556,
             "#d8576b"
            ],
            [
             0.6666666666666666,
             "#ed7953"
            ],
            [
             0.7777777777777778,
             "#fb9f3a"
            ],
            [
             0.8888888888888888,
             "#fdca26"
            ],
            [
             1,
             "#f0f921"
            ]
           ],
           "sequentialminus": [
            [
             0,
             "#0d0887"
            ],
            [
             0.1111111111111111,
             "#46039f"
            ],
            [
             0.2222222222222222,
             "#7201a8"
            ],
            [
             0.3333333333333333,
             "#9c179e"
            ],
            [
             0.4444444444444444,
             "#bd3786"
            ],
            [
             0.5555555555555556,
             "#d8576b"
            ],
            [
             0.6666666666666666,
             "#ed7953"
            ],
            [
             0.7777777777777778,
             "#fb9f3a"
            ],
            [
             0.8888888888888888,
             "#fdca26"
            ],
            [
             1,
             "#f0f921"
            ]
           ]
          },
          "colorway": [
           "#636efa",
           "#EF553B",
           "#00cc96",
           "#ab63fa",
           "#FFA15A",
           "#19d3f3",
           "#FF6692",
           "#B6E880",
           "#FF97FF",
           "#FECB52"
          ],
          "font": {
           "color": "#f2f5fa"
          },
          "geo": {
           "bgcolor": "rgb(17,17,17)",
           "lakecolor": "rgb(17,17,17)",
           "landcolor": "rgb(17,17,17)",
           "showlakes": true,
           "showland": true,
           "subunitcolor": "#506784"
          },
          "hoverlabel": {
           "align": "left"
          },
          "hovermode": "closest",
          "mapbox": {
           "style": "dark"
          },
          "paper_bgcolor": "rgb(17,17,17)",
          "plot_bgcolor": "rgb(17,17,17)",
          "polar": {
           "angularaxis": {
            "gridcolor": "#506784",
            "linecolor": "#506784",
            "ticks": ""
           },
           "bgcolor": "rgb(17,17,17)",
           "radialaxis": {
            "gridcolor": "#506784",
            "linecolor": "#506784",
            "ticks": ""
           }
          },
          "scene": {
           "xaxis": {
            "backgroundcolor": "rgb(17,17,17)",
            "gridcolor": "#506784",
            "gridwidth": 2,
            "linecolor": "#506784",
            "showbackground": true,
            "ticks": "",
            "zerolinecolor": "#C8D4E3"
           },
           "yaxis": {
            "backgroundcolor": "rgb(17,17,17)",
            "gridcolor": "#506784",
            "gridwidth": 2,
            "linecolor": "#506784",
            "showbackground": true,
            "ticks": "",
            "zerolinecolor": "#C8D4E3"
           },
           "zaxis": {
            "backgroundcolor": "rgb(17,17,17)",
            "gridcolor": "#506784",
            "gridwidth": 2,
            "linecolor": "#506784",
            "showbackground": true,
            "ticks": "",
            "zerolinecolor": "#C8D4E3"
           }
          },
          "shapedefaults": {
           "line": {
            "color": "#f2f5fa"
           }
          },
          "sliderdefaults": {
           "bgcolor": "#C8D4E3",
           "bordercolor": "rgb(17,17,17)",
           "borderwidth": 1,
           "tickwidth": 0
          },
          "ternary": {
           "aaxis": {
            "gridcolor": "#506784",
            "linecolor": "#506784",
            "ticks": ""
           },
           "baxis": {
            "gridcolor": "#506784",
            "linecolor": "#506784",
            "ticks": ""
           },
           "bgcolor": "rgb(17,17,17)",
           "caxis": {
            "gridcolor": "#506784",
            "linecolor": "#506784",
            "ticks": ""
           }
          },
          "title": {
           "x": 0.05
          },
          "updatemenudefaults": {
           "bgcolor": "#506784",
           "borderwidth": 0
          },
          "xaxis": {
           "automargin": true,
           "gridcolor": "#283442",
           "linecolor": "#506784",
           "ticks": "",
           "title": {
            "standoff": 15
           },
           "zerolinecolor": "#283442",
           "zerolinewidth": 2
          },
          "yaxis": {
           "automargin": true,
           "gridcolor": "#283442",
           "linecolor": "#506784",
           "ticks": "",
           "title": {
            "standoff": 15
           },
           "zerolinecolor": "#283442",
           "zerolinewidth": 2
          }
         }
        },
        "title": {
         "text": "Overall number of birds failed"
        },
        "xaxis": {
         "anchor": "y",
         "domain": [
          0,
          1
         ],
         "title": {
          "text": "num birds failed"
         }
        },
        "yaxis": {
         "anchor": "x",
         "domain": [
          0,
          1
         ],
         "title": {
          "text": "count"
         }
        }
       }
      }
     },
     "metadata": {},
     "output_type": "display_data"
    }
   ],
   "source": [
    "# this is not going to be a useful metric, if the number of frames is sufficient\n",
    "# for birds to have enough time to succeed\n",
    "px.histogram(\n",
    "    impactDF,\n",
    "    x=\"num birds failed\",\n",
    "    nbins=20,\n",
    "    title=\"Overall number of birds failed\",\n",
    "    template=\"plotly_dark\",\n",
    ")\n"
   ]
  },
  {
   "cell_type": "code",
   "execution_count": 8,
   "metadata": {},
   "outputs": [
    {
     "data": {
      "application/vnd.plotly.v1+json": {
       "config": {
        "plotlyServerURL": "https://plot.ly"
       },
       "data": [
        {
         "alignmentgroup": "True",
         "bingroup": "x",
         "hovertemplate": "time to first food=%{x}<br>count=%{y}<extra></extra>",
         "legendgroup": "",
         "marker": {
          "color": "#636efa",
          "pattern": {
           "shape": ""
          }
         },
         "name": "",
         "nbinsx": 30,
         "offsetgroup": "",
         "orientation": "v",
         "showlegend": false,
         "type": "histogram",
         "x": [
          14.666666666666666,
          14,
          4.888888888888889,
          2.555555555555556,
          7.888888888888889,
          19.11111111111111,
          22.22222222222222,
          28.22222222222222,
          7.555555555555555,
          16.666666666666668,
          34,
          13.22222222222222,
          25.666666666666668,
          32.888888888888886,
          24.55555555555556,
          24.88888888888889,
          31.11111111111111,
          34.77777777777778,
          27.55555555555556,
          31.33333333333333,
          1.8888888888888888,
          2.7777777777777777,
          4.333333333333333,
          3.7777777777777777,
          7.222222222222222,
          2.333333333333333,
          8.222222222222221,
          4.777777777777778,
          16.11111111111111,
          19.11111111111111,
          4.555555555555555,
          10.666666666666666,
          9.88888888888889,
          23,
          7.555555555555555,
          8.222222222222221,
          4,
          6.333333333333333,
          5.333333333333333,
          16.88888888888889,
          2.4444444444444446,
          1.8888888888888888,
          1.8888888888888888,
          2,
          3.4444444444444446,
          6.444444444444445,
          3.6666666666666665,
          11.555555555555555,
          5.888888888888889,
          6.111111111111111,
          3.333333333333333,
          11.333333333333334,
          9.77777777777778,
          26,
          4.555555555555555,
          13.22222222222222,
          4,
          8.11111111111111,
          3.555555555555556,
          7.222222222222222,
          7.666666666666667,
          6.888888888888889,
          3.4444444444444446,
          2.555555555555556,
          13.555555555555555,
          6.222222222222222,
          2.7777777777777777,
          4.777777777777778,
          8.11111111111111,
          5.777777777777778,
          5.111111111111111,
          4,
          6.777777777777778,
          8.444444444444445,
          3.4444444444444446,
          24,
          6.111111111111111,
          6.111111111111111,
          16.666666666666668,
          8.222222222222221,
          4.888888888888889,
          2,
          2.4444444444444446,
          7.555555555555555,
          3.7777777777777777,
          3.888888888888889,
          4.777777777777778,
          4.444444444444445,
          4.555555555555555,
          4.666666666666667,
          6.888888888888889,
          3.333333333333333,
          3.333333333333333,
          10.555555555555555,
          5.444444444444445,
          3.333333333333333,
          3.2222222222222223,
          3.111111111111111,
          6.222222222222222,
          4.888888888888889,
          2.111111111111111,
          2.888888888888889,
          2.2222222222222223,
          3,
          5.555555555555555,
          2.888888888888889,
          3.555555555555556,
          3.111111111111111,
          3,
          3.555555555555556,
          4,
          8,
          6.555555555555555,
          7.222222222222222,
          4.555555555555555,
          5.222222222222222,
          7.222222222222222,
          4.777777777777778,
          13.444444444444445,
          4.111111111111111,
          2.2222222222222223,
          2.555555555555556,
          2.333333333333333,
          1.7777777777777777,
          4.666666666666667,
          2.333333333333333,
          6.555555555555555,
          3.888888888888889,
          4,
          3.555555555555556,
          5.666666666666667,
          4.111111111111111,
          5.444444444444445,
          6.333333333333333,
          7.222222222222222,
          5.666666666666667,
          6,
          4.333333333333333,
          6.333333333333333,
          3.7777777777777777,
          1.8888888888888888,
          2.2222222222222223,
          1.6666666666666667,
          1.7777777777777777,
          4.111111111111111,
          2.555555555555556,
          3.6666666666666665,
          6.111111111111111,
          4.666666666666667,
          4.111111111111111,
          6.666666666666667,
          2.888888888888889,
          2.888888888888889,
          6.111111111111111,
          8.666666666666666,
          7.555555555555555,
          11.11111111111111,
          12.333333333333334,
          22.22222222222222,
          3,
          3,
          2,
          1.6666666666666667,
          1.7777777777777777,
          7,
          3.333333333333333,
          3.7777777777777777,
          4.111111111111111,
          4.333333333333333,
          5,
          3.555555555555556,
          3.7777777777777777,
          10.444444444444445,
          5.444444444444445,
          5.444444444444445,
          48.11111111111112,
          12.88888888888889,
          7.222222222222222,
          11.666666666666666,
          4.666666666666667,
          3.333333333333333,
          1.5555555555555556,
          2,
          2,
          4.444444444444445,
          4.333333333333333,
          3.7777777777777777,
          3.2222222222222223,
          4.888888888888889,
          8.333333333333334,
          4.666666666666667,
          3.111111111111111,
          8,
          5.888888888888889,
          8,
          4.777777777777778,
          7.333333333333333,
          15.444444444444445,
          9.88888888888889,
          3.333333333333333,
          2.6666666666666665,
          6.888888888888889,
          1.3333333333333333,
          1.6666666666666667,
          2.888888888888889,
          3.111111111111111,
          3.111111111111111,
          3.111111111111111,
          4.666666666666667,
          4.777777777777778,
          6.444444444444445,
          5,
          6.555555555555555,
          7,
          4.222222222222222,
          14.77777777777778,
          3.888888888888889,
          4.666666666666667,
          41.888888888888886,
          7.222222222222222,
          1.8888888888888888,
          1.6666666666666667,
          3.333333333333333,
          6.777777777777778,
          5.888888888888889,
          3.6666666666666665,
          3.888888888888889,
          3.6666666666666665,
          3.7777777777777777,
          3.555555555555556,
          7.888888888888889,
          4,
          10,
          6.444444444444445,
          13.333333333333334,
          6.333333333333333,
          4,
          7.111111111111111,
          7.333333333333333,
          4.777777777777778,
          1.3333333333333333,
          1.4444444444444444,
          3.888888888888889,
          2.111111111111111,
          7.444444444444445,
          3.6666666666666665,
          2.6666666666666665,
          5.222222222222222,
          5.666666666666667,
          2.555555555555556,
          4,
          2.6666666666666665,
          11.555555555555555,
          14,
          8.222222222222221,
          30,
          50,
          5.888888888888889,
          3.555555555555556,
          11.555555555555555,
          3.4444444444444446,
          1.8888888888888888,
          5.555555555555555,
          2.6666666666666665,
          9.88888888888889,
          2.6666666666666665,
          3.2222222222222223,
          3.555555555555556,
          3,
          4.111111111111111,
          5,
          5.666666666666667,
          6.888888888888889,
          14.555555555555555,
          5.555555555555555,
          8.333333333333334,
          6,
          3.6666666666666665,
          12.444444444444445,
          13.22222222222222,
          1.4444444444444444,
          1.7777777777777777,
          7.111111111111111,
          1.7777777777777777,
          5.555555555555555,
          5.333333333333333,
          3,
          2.333333333333333,
          6.444444444444445,
          2.6666666666666665,
          5,
          5.222222222222222,
          5.888888888888889,
          4.666666666666667,
          8.555555555555555,
          5.777777777777778,
          3.888888888888889,
          13.22222222222222,
          11.555555555555555,
          2.6666666666666665,
          3.2222222222222223,
          1.8888888888888888,
          1.7777777777777777,
          2.2222222222222223,
          3.111111111111111,
          3.6666666666666665,
          5.444444444444445,
          3,
          7.222222222222222,
          4.888888888888889,
          2.2222222222222223,
          9.88888888888889,
          3.2222222222222223,
          13.666666666666666,
          5.222222222222222,
          7.777777777777778,
          5.777777777777778,
          5.888888888888889,
          5.777777777777778,
          10.333333333333334,
          1.7777777777777777,
          1.4444444444444444,
          1.8888888888888888,
          1.8888888888888888,
          6.111111111111111,
          16.555555555555557,
          8,
          4.333333333333333,
          4.333333333333333,
          6.222222222222222,
          4.222222222222222,
          5.555555555555555,
          5.444444444444445,
          6.111111111111111,
          3.7777777777777777,
          9.22222222222222,
          9,
          4.222222222222222,
          4.444444444444445,
          3.333333333333333,
          2.111111111111111,
          2,
          2,
          2.4444444444444446,
          24.55555555555556,
          4.888888888888889,
          5.444444444444445,
          3,
          8.555555555555555,
          3.6666666666666665,
          6.444444444444445,
          4.444444444444445,
          9.444444444444445,
          4.444444444444445,
          4.555555555555555,
          8.88888888888889,
          4.888888888888889,
          6.777777777777778,
          4.333333333333333,
          3.888888888888889,
          3.333333333333333,
          1.4444444444444444,
          2.111111111111111,
          2.2222222222222223,
          3.7777777777777777,
          2.4444444444444446,
          3.333333333333333,
          2.4444444444444446,
          7.333333333333333,
          4.555555555555555,
          8.333333333333334,
          6.666666666666667,
          11.555555555555555,
          5.222222222222222,
          4.111111111111111,
          5.888888888888889,
          3.4444444444444446,
          15.555555555555555,
          4.333333333333333,
          6,
          3.555555555555556,
          2.7777777777777777,
          2.333333333333333,
          2.2222222222222223,
          3.7777777777777777,
          4.222222222222222,
          5.111111111111111,
          2.111111111111111,
          5.555555555555555,
          4.333333333333333,
          3.2222222222222223,
          4.333333333333333,
          10.88888888888889,
          4.111111111111111,
          19.11111111111111,
          10.22222222222222,
          9.11111111111111,
          4.777777777777778,
          4.444444444444445,
          4.777777777777778,
          26.55555555555556,
          27.666666666666668,
          19.444444444444443,
          19.11111111111111,
          23.22222222222222,
          25.33333333333333,
          12.77777777777778,
          42.333333333333336,
          39.333333333333336,
          22,
          20.444444444444443,
          45.66666666666666,
          10.22222222222222,
          6.777777777777778,
          30.33333333333333,
          8.444444444444445,
          3.555555555555556,
          6.111111111111111,
          7.333333333333333,
          45.44444444444444
         ],
         "xaxis": "x",
         "yaxis": "y"
        }
       ],
       "layout": {
        "barmode": "relative",
        "legend": {
         "tracegroupgap": 0
        },
        "template": {
         "data": {
          "bar": [
           {
            "error_x": {
             "color": "#f2f5fa"
            },
            "error_y": {
             "color": "#f2f5fa"
            },
            "marker": {
             "line": {
              "color": "rgb(17,17,17)",
              "width": 0.5
             },
             "pattern": {
              "fillmode": "overlay",
              "size": 10,
              "solidity": 0.2
             }
            },
            "type": "bar"
           }
          ],
          "barpolar": [
           {
            "marker": {
             "line": {
              "color": "rgb(17,17,17)",
              "width": 0.5
             },
             "pattern": {
              "fillmode": "overlay",
              "size": 10,
              "solidity": 0.2
             }
            },
            "type": "barpolar"
           }
          ],
          "carpet": [
           {
            "aaxis": {
             "endlinecolor": "#A2B1C6",
             "gridcolor": "#506784",
             "linecolor": "#506784",
             "minorgridcolor": "#506784",
             "startlinecolor": "#A2B1C6"
            },
            "baxis": {
             "endlinecolor": "#A2B1C6",
             "gridcolor": "#506784",
             "linecolor": "#506784",
             "minorgridcolor": "#506784",
             "startlinecolor": "#A2B1C6"
            },
            "type": "carpet"
           }
          ],
          "choropleth": [
           {
            "colorbar": {
             "outlinewidth": 0,
             "ticks": ""
            },
            "type": "choropleth"
           }
          ],
          "contour": [
           {
            "colorbar": {
             "outlinewidth": 0,
             "ticks": ""
            },
            "colorscale": [
             [
              0,
              "#0d0887"
             ],
             [
              0.1111111111111111,
              "#46039f"
             ],
             [
              0.2222222222222222,
              "#7201a8"
             ],
             [
              0.3333333333333333,
              "#9c179e"
             ],
             [
              0.4444444444444444,
              "#bd3786"
             ],
             [
              0.5555555555555556,
              "#d8576b"
             ],
             [
              0.6666666666666666,
              "#ed7953"
             ],
             [
              0.7777777777777778,
              "#fb9f3a"
             ],
             [
              0.8888888888888888,
              "#fdca26"
             ],
             [
              1,
              "#f0f921"
             ]
            ],
            "type": "contour"
           }
          ],
          "contourcarpet": [
           {
            "colorbar": {
             "outlinewidth": 0,
             "ticks": ""
            },
            "type": "contourcarpet"
           }
          ],
          "heatmap": [
           {
            "colorbar": {
             "outlinewidth": 0,
             "ticks": ""
            },
            "colorscale": [
             [
              0,
              "#0d0887"
             ],
             [
              0.1111111111111111,
              "#46039f"
             ],
             [
              0.2222222222222222,
              "#7201a8"
             ],
             [
              0.3333333333333333,
              "#9c179e"
             ],
             [
              0.4444444444444444,
              "#bd3786"
             ],
             [
              0.5555555555555556,
              "#d8576b"
             ],
             [
              0.6666666666666666,
              "#ed7953"
             ],
             [
              0.7777777777777778,
              "#fb9f3a"
             ],
             [
              0.8888888888888888,
              "#fdca26"
             ],
             [
              1,
              "#f0f921"
             ]
            ],
            "type": "heatmap"
           }
          ],
          "heatmapgl": [
           {
            "colorbar": {
             "outlinewidth": 0,
             "ticks": ""
            },
            "colorscale": [
             [
              0,
              "#0d0887"
             ],
             [
              0.1111111111111111,
              "#46039f"
             ],
             [
              0.2222222222222222,
              "#7201a8"
             ],
             [
              0.3333333333333333,
              "#9c179e"
             ],
             [
              0.4444444444444444,
              "#bd3786"
             ],
             [
              0.5555555555555556,
              "#d8576b"
             ],
             [
              0.6666666666666666,
              "#ed7953"
             ],
             [
              0.7777777777777778,
              "#fb9f3a"
             ],
             [
              0.8888888888888888,
              "#fdca26"
             ],
             [
              1,
              "#f0f921"
             ]
            ],
            "type": "heatmapgl"
           }
          ],
          "histogram": [
           {
            "marker": {
             "pattern": {
              "fillmode": "overlay",
              "size": 10,
              "solidity": 0.2
             }
            },
            "type": "histogram"
           }
          ],
          "histogram2d": [
           {
            "colorbar": {
             "outlinewidth": 0,
             "ticks": ""
            },
            "colorscale": [
             [
              0,
              "#0d0887"
             ],
             [
              0.1111111111111111,
              "#46039f"
             ],
             [
              0.2222222222222222,
              "#7201a8"
             ],
             [
              0.3333333333333333,
              "#9c179e"
             ],
             [
              0.4444444444444444,
              "#bd3786"
             ],
             [
              0.5555555555555556,
              "#d8576b"
             ],
             [
              0.6666666666666666,
              "#ed7953"
             ],
             [
              0.7777777777777778,
              "#fb9f3a"
             ],
             [
              0.8888888888888888,
              "#fdca26"
             ],
             [
              1,
              "#f0f921"
             ]
            ],
            "type": "histogram2d"
           }
          ],
          "histogram2dcontour": [
           {
            "colorbar": {
             "outlinewidth": 0,
             "ticks": ""
            },
            "colorscale": [
             [
              0,
              "#0d0887"
             ],
             [
              0.1111111111111111,
              "#46039f"
             ],
             [
              0.2222222222222222,
              "#7201a8"
             ],
             [
              0.3333333333333333,
              "#9c179e"
             ],
             [
              0.4444444444444444,
              "#bd3786"
             ],
             [
              0.5555555555555556,
              "#d8576b"
             ],
             [
              0.6666666666666666,
              "#ed7953"
             ],
             [
              0.7777777777777778,
              "#fb9f3a"
             ],
             [
              0.8888888888888888,
              "#fdca26"
             ],
             [
              1,
              "#f0f921"
             ]
            ],
            "type": "histogram2dcontour"
           }
          ],
          "mesh3d": [
           {
            "colorbar": {
             "outlinewidth": 0,
             "ticks": ""
            },
            "type": "mesh3d"
           }
          ],
          "parcoords": [
           {
            "line": {
             "colorbar": {
              "outlinewidth": 0,
              "ticks": ""
             }
            },
            "type": "parcoords"
           }
          ],
          "pie": [
           {
            "automargin": true,
            "type": "pie"
           }
          ],
          "scatter": [
           {
            "marker": {
             "line": {
              "color": "#283442"
             }
            },
            "type": "scatter"
           }
          ],
          "scatter3d": [
           {
            "line": {
             "colorbar": {
              "outlinewidth": 0,
              "ticks": ""
             }
            },
            "marker": {
             "colorbar": {
              "outlinewidth": 0,
              "ticks": ""
             }
            },
            "type": "scatter3d"
           }
          ],
          "scattercarpet": [
           {
            "marker": {
             "colorbar": {
              "outlinewidth": 0,
              "ticks": ""
             }
            },
            "type": "scattercarpet"
           }
          ],
          "scattergeo": [
           {
            "marker": {
             "colorbar": {
              "outlinewidth": 0,
              "ticks": ""
             }
            },
            "type": "scattergeo"
           }
          ],
          "scattergl": [
           {
            "marker": {
             "line": {
              "color": "#283442"
             }
            },
            "type": "scattergl"
           }
          ],
          "scattermapbox": [
           {
            "marker": {
             "colorbar": {
              "outlinewidth": 0,
              "ticks": ""
             }
            },
            "type": "scattermapbox"
           }
          ],
          "scatterpolar": [
           {
            "marker": {
             "colorbar": {
              "outlinewidth": 0,
              "ticks": ""
             }
            },
            "type": "scatterpolar"
           }
          ],
          "scatterpolargl": [
           {
            "marker": {
             "colorbar": {
              "outlinewidth": 0,
              "ticks": ""
             }
            },
            "type": "scatterpolargl"
           }
          ],
          "scatterternary": [
           {
            "marker": {
             "colorbar": {
              "outlinewidth": 0,
              "ticks": ""
             }
            },
            "type": "scatterternary"
           }
          ],
          "surface": [
           {
            "colorbar": {
             "outlinewidth": 0,
             "ticks": ""
            },
            "colorscale": [
             [
              0,
              "#0d0887"
             ],
             [
              0.1111111111111111,
              "#46039f"
             ],
             [
              0.2222222222222222,
              "#7201a8"
             ],
             [
              0.3333333333333333,
              "#9c179e"
             ],
             [
              0.4444444444444444,
              "#bd3786"
             ],
             [
              0.5555555555555556,
              "#d8576b"
             ],
             [
              0.6666666666666666,
              "#ed7953"
             ],
             [
              0.7777777777777778,
              "#fb9f3a"
             ],
             [
              0.8888888888888888,
              "#fdca26"
             ],
             [
              1,
              "#f0f921"
             ]
            ],
            "type": "surface"
           }
          ],
          "table": [
           {
            "cells": {
             "fill": {
              "color": "#506784"
             },
             "line": {
              "color": "rgb(17,17,17)"
             }
            },
            "header": {
             "fill": {
              "color": "#2a3f5f"
             },
             "line": {
              "color": "rgb(17,17,17)"
             }
            },
            "type": "table"
           }
          ]
         },
         "layout": {
          "annotationdefaults": {
           "arrowcolor": "#f2f5fa",
           "arrowhead": 0,
           "arrowwidth": 1
          },
          "autotypenumbers": "strict",
          "coloraxis": {
           "colorbar": {
            "outlinewidth": 0,
            "ticks": ""
           }
          },
          "colorscale": {
           "diverging": [
            [
             0,
             "#8e0152"
            ],
            [
             0.1,
             "#c51b7d"
            ],
            [
             0.2,
             "#de77ae"
            ],
            [
             0.3,
             "#f1b6da"
            ],
            [
             0.4,
             "#fde0ef"
            ],
            [
             0.5,
             "#f7f7f7"
            ],
            [
             0.6,
             "#e6f5d0"
            ],
            [
             0.7,
             "#b8e186"
            ],
            [
             0.8,
             "#7fbc41"
            ],
            [
             0.9,
             "#4d9221"
            ],
            [
             1,
             "#276419"
            ]
           ],
           "sequential": [
            [
             0,
             "#0d0887"
            ],
            [
             0.1111111111111111,
             "#46039f"
            ],
            [
             0.2222222222222222,
             "#7201a8"
            ],
            [
             0.3333333333333333,
             "#9c179e"
            ],
            [
             0.4444444444444444,
             "#bd3786"
            ],
            [
             0.5555555555555556,
             "#d8576b"
            ],
            [
             0.6666666666666666,
             "#ed7953"
            ],
            [
             0.7777777777777778,
             "#fb9f3a"
            ],
            [
             0.8888888888888888,
             "#fdca26"
            ],
            [
             1,
             "#f0f921"
            ]
           ],
           "sequentialminus": [
            [
             0,
             "#0d0887"
            ],
            [
             0.1111111111111111,
             "#46039f"
            ],
            [
             0.2222222222222222,
             "#7201a8"
            ],
            [
             0.3333333333333333,
             "#9c179e"
            ],
            [
             0.4444444444444444,
             "#bd3786"
            ],
            [
             0.5555555555555556,
             "#d8576b"
            ],
            [
             0.6666666666666666,
             "#ed7953"
            ],
            [
             0.7777777777777778,
             "#fb9f3a"
            ],
            [
             0.8888888888888888,
             "#fdca26"
            ],
            [
             1,
             "#f0f921"
            ]
           ]
          },
          "colorway": [
           "#636efa",
           "#EF553B",
           "#00cc96",
           "#ab63fa",
           "#FFA15A",
           "#19d3f3",
           "#FF6692",
           "#B6E880",
           "#FF97FF",
           "#FECB52"
          ],
          "font": {
           "color": "#f2f5fa"
          },
          "geo": {
           "bgcolor": "rgb(17,17,17)",
           "lakecolor": "rgb(17,17,17)",
           "landcolor": "rgb(17,17,17)",
           "showlakes": true,
           "showland": true,
           "subunitcolor": "#506784"
          },
          "hoverlabel": {
           "align": "left"
          },
          "hovermode": "closest",
          "mapbox": {
           "style": "dark"
          },
          "paper_bgcolor": "rgb(17,17,17)",
          "plot_bgcolor": "rgb(17,17,17)",
          "polar": {
           "angularaxis": {
            "gridcolor": "#506784",
            "linecolor": "#506784",
            "ticks": ""
           },
           "bgcolor": "rgb(17,17,17)",
           "radialaxis": {
            "gridcolor": "#506784",
            "linecolor": "#506784",
            "ticks": ""
           }
          },
          "scene": {
           "xaxis": {
            "backgroundcolor": "rgb(17,17,17)",
            "gridcolor": "#506784",
            "gridwidth": 2,
            "linecolor": "#506784",
            "showbackground": true,
            "ticks": "",
            "zerolinecolor": "#C8D4E3"
           },
           "yaxis": {
            "backgroundcolor": "rgb(17,17,17)",
            "gridcolor": "#506784",
            "gridwidth": 2,
            "linecolor": "#506784",
            "showbackground": true,
            "ticks": "",
            "zerolinecolor": "#C8D4E3"
           },
           "zaxis": {
            "backgroundcolor": "rgb(17,17,17)",
            "gridcolor": "#506784",
            "gridwidth": 2,
            "linecolor": "#506784",
            "showbackground": true,
            "ticks": "",
            "zerolinecolor": "#C8D4E3"
           }
          },
          "shapedefaults": {
           "line": {
            "color": "#f2f5fa"
           }
          },
          "sliderdefaults": {
           "bgcolor": "#C8D4E3",
           "bordercolor": "rgb(17,17,17)",
           "borderwidth": 1,
           "tickwidth": 0
          },
          "ternary": {
           "aaxis": {
            "gridcolor": "#506784",
            "linecolor": "#506784",
            "ticks": ""
           },
           "baxis": {
            "gridcolor": "#506784",
            "linecolor": "#506784",
            "ticks": ""
           },
           "bgcolor": "rgb(17,17,17)",
           "caxis": {
            "gridcolor": "#506784",
            "linecolor": "#506784",
            "ticks": ""
           }
          },
          "title": {
           "x": 0.05
          },
          "updatemenudefaults": {
           "bgcolor": "#506784",
           "borderwidth": 0
          },
          "xaxis": {
           "automargin": true,
           "gridcolor": "#283442",
           "linecolor": "#506784",
           "ticks": "",
           "title": {
            "standoff": 15
           },
           "zerolinecolor": "#283442",
           "zerolinewidth": 2
          },
          "yaxis": {
           "automargin": true,
           "gridcolor": "#283442",
           "linecolor": "#506784",
           "ticks": "",
           "title": {
            "standoff": 15
           },
           "zerolinecolor": "#283442",
           "zerolinewidth": 2
          }
         }
        },
        "title": {
         "text": "Overall times to first food"
        },
        "xaxis": {
         "anchor": "y",
         "domain": [
          0,
          1
         ],
         "title": {
          "text": "time to first food"
         }
        },
        "yaxis": {
         "anchor": "x",
         "domain": [
          0,
          1
         ],
         "title": {
          "text": "count"
         }
        }
       }
      }
     },
     "metadata": {},
     "output_type": "display_data"
    }
   ],
   "source": [
    "# this migth be more useful\n",
    "px.histogram(\n",
    "    impactDF,\n",
    "    x=\"time to first food\",\n",
    "    nbins=30,\n",
    "    title=\"Overall times to first food\",\n",
    "    template=\"plotly_dark\",\n",
    ")\n"
   ]
  },
  {
   "cell_type": "code",
   "execution_count": 9,
   "metadata": {},
   "outputs": [
    {
     "data": {
      "text/html": [
       "<div>\n",
       "<style scoped>\n",
       "    .dataframe tbody tr th:only-of-type {\n",
       "        vertical-align: middle;\n",
       "    }\n",
       "\n",
       "    .dataframe tbody tr th {\n",
       "        vertical-align: top;\n",
       "    }\n",
       "\n",
       "    .dataframe thead th {\n",
       "        text-align: right;\n",
       "    }\n",
       "</style>\n",
       "<table border=\"1\" class=\"dataframe\">\n",
       "  <thead>\n",
       "    <tr style=\"text-align: right;\">\n",
       "      <th></th>\n",
       "      <th>time to first food</th>\n",
       "      <th>num birds failed</th>\n",
       "    </tr>\n",
       "  </thead>\n",
       "  <tbody>\n",
       "    <tr>\n",
       "      <th>time to first food</th>\n",
       "      <td>1.000000</td>\n",
       "      <td>0.545523</td>\n",
       "    </tr>\n",
       "    <tr>\n",
       "      <th>num birds failed</th>\n",
       "      <td>0.545523</td>\n",
       "      <td>1.000000</td>\n",
       "    </tr>\n",
       "  </tbody>\n",
       "</table>\n",
       "</div>"
      ],
      "text/plain": [
       "                    time to first food  num birds failed\n",
       "time to first food            1.000000          0.545523\n",
       "num birds failed              0.545523          1.000000"
      ]
     },
     "execution_count": 9,
     "metadata": {},
     "output_type": "execute_result"
    }
   ],
   "source": [
    "# the success metrics are rather correlated anyway\n",
    "impactDF.iloc[:, -2:].corr(method=\"spearman\")\n"
   ]
  },
  {
   "cell_type": "code",
   "execution_count": 10,
   "metadata": {},
   "outputs": [
    {
     "data": {
      "application/vnd.plotly.v1+json": {
       "config": {
        "plotlyServerURL": "https://plot.ly"
       },
       "data": [
        {
         "hovertemplate": "num birds failed=%{x}<br>time to first food=%{y}<extra></extra>",
         "legendgroup": "",
         "marker": {
          "color": "#636efa",
          "symbol": "circle"
         },
         "mode": "markers",
         "name": "",
         "orientation": "v",
         "showlegend": false,
         "type": "scatter",
         "x": [
          0,
          0,
          0,
          0,
          0,
          3,
          2,
          4,
          0,
          2,
          6,
          2,
          3,
          2,
          0,
          3,
          4,
          5,
          2,
          3,
          0,
          0,
          0,
          0,
          0,
          0,
          0,
          0,
          2,
          2,
          0,
          0,
          0,
          0,
          0,
          0,
          0,
          0,
          0,
          1,
          0,
          0,
          0,
          0,
          0,
          0,
          0,
          1,
          0,
          0,
          0,
          1,
          0,
          3,
          0,
          0,
          0,
          0,
          0,
          0,
          1,
          1,
          0,
          0,
          2,
          0,
          0,
          0,
          0,
          0,
          0,
          0,
          0,
          0,
          0,
          3,
          0,
          0,
          0,
          0,
          0,
          0,
          0,
          1,
          0,
          0,
          0,
          0,
          0,
          0,
          0,
          0,
          0,
          0,
          0,
          0,
          0,
          0,
          0,
          0,
          0,
          0,
          0,
          0,
          0,
          0,
          0,
          0,
          0,
          0,
          0,
          0,
          0,
          0,
          0,
          0,
          0,
          0,
          1,
          0,
          0,
          0,
          0,
          0,
          0,
          0,
          0,
          0,
          0,
          0,
          0,
          0,
          0,
          0,
          0,
          0,
          0,
          0,
          0,
          0,
          0,
          0,
          0,
          0,
          0,
          0,
          0,
          0,
          0,
          0,
          0,
          0,
          0,
          0,
          0,
          0,
          1,
          1,
          3,
          0,
          0,
          0,
          0,
          0,
          0,
          0,
          0,
          0,
          0,
          0,
          0,
          0,
          1,
          0,
          0,
          5,
          0,
          0,
          1,
          0,
          0,
          0,
          0,
          0,
          0,
          0,
          0,
          0,
          0,
          0,
          0,
          0,
          0,
          0,
          0,
          0,
          0,
          2,
          0,
          0,
          0,
          0,
          0,
          0,
          0,
          0,
          0,
          0,
          0,
          0,
          0,
          0,
          0,
          0,
          0,
          0,
          0,
          0,
          3,
          0,
          0,
          0,
          0,
          0,
          0,
          0,
          0,
          0,
          0,
          0,
          0,
          0,
          0,
          0,
          0,
          0,
          0,
          0,
          0,
          0,
          0,
          0,
          0,
          0,
          0,
          0,
          0,
          0,
          0,
          0,
          0,
          0,
          1,
          0,
          0,
          0,
          9,
          0,
          0,
          0,
          0,
          0,
          0,
          0,
          1,
          0,
          0,
          0,
          0,
          0,
          0,
          0,
          0,
          0,
          0,
          0,
          0,
          0,
          0,
          1,
          0,
          0,
          1,
          0,
          0,
          0,
          0,
          0,
          0,
          0,
          0,
          0,
          0,
          0,
          0,
          0,
          0,
          1,
          0,
          0,
          0,
          0,
          0,
          0,
          0,
          0,
          0,
          0,
          0,
          0,
          0,
          0,
          0,
          1,
          0,
          0,
          0,
          0,
          0,
          1,
          0,
          0,
          0,
          0,
          0,
          0,
          0,
          0,
          0,
          0,
          0,
          0,
          0,
          0,
          0,
          0,
          0,
          0,
          0,
          0,
          0,
          0,
          0,
          0,
          4,
          0,
          0,
          0,
          0,
          0,
          0,
          0,
          0,
          0,
          0,
          0,
          0,
          0,
          0,
          0,
          0,
          0,
          0,
          0,
          0,
          0,
          0,
          0,
          0,
          0,
          0,
          0,
          0,
          0,
          0,
          0,
          0,
          2,
          0,
          0,
          0,
          0,
          0,
          0,
          0,
          0,
          0,
          0,
          0,
          0,
          0,
          0,
          0,
          0,
          0,
          0,
          0,
          0,
          0,
          0,
          3,
          4,
          1,
          0,
          1,
          1,
          0,
          7,
          5,
          1,
          3,
          5,
          0,
          0,
          1,
          0,
          0,
          0,
          0,
          0
         ],
         "xaxis": "x",
         "y": [
          14.666666666666666,
          14,
          4.888888888888889,
          2.555555555555556,
          7.888888888888889,
          19.11111111111111,
          22.22222222222222,
          28.22222222222222,
          7.555555555555555,
          16.666666666666668,
          34,
          13.22222222222222,
          25.666666666666668,
          32.888888888888886,
          24.55555555555556,
          24.88888888888889,
          31.11111111111111,
          34.77777777777778,
          27.55555555555556,
          31.33333333333333,
          1.8888888888888888,
          2.7777777777777777,
          4.333333333333333,
          3.7777777777777777,
          7.222222222222222,
          2.333333333333333,
          8.222222222222221,
          4.777777777777778,
          16.11111111111111,
          19.11111111111111,
          4.555555555555555,
          10.666666666666666,
          9.88888888888889,
          23,
          7.555555555555555,
          8.222222222222221,
          4,
          6.333333333333333,
          5.333333333333333,
          16.88888888888889,
          2.4444444444444446,
          1.8888888888888888,
          1.8888888888888888,
          2,
          3.4444444444444446,
          6.444444444444445,
          3.6666666666666665,
          11.555555555555555,
          5.888888888888889,
          6.111111111111111,
          3.333333333333333,
          11.333333333333334,
          9.77777777777778,
          26,
          4.555555555555555,
          13.22222222222222,
          4,
          8.11111111111111,
          3.555555555555556,
          7.222222222222222,
          7.666666666666667,
          6.888888888888889,
          3.4444444444444446,
          2.555555555555556,
          13.555555555555555,
          6.222222222222222,
          2.7777777777777777,
          4.777777777777778,
          8.11111111111111,
          5.777777777777778,
          5.111111111111111,
          4,
          6.777777777777778,
          8.444444444444445,
          3.4444444444444446,
          24,
          6.111111111111111,
          6.111111111111111,
          16.666666666666668,
          8.222222222222221,
          4.888888888888889,
          2,
          2.4444444444444446,
          7.555555555555555,
          3.7777777777777777,
          3.888888888888889,
          4.777777777777778,
          4.444444444444445,
          4.555555555555555,
          4.666666666666667,
          6.888888888888889,
          3.333333333333333,
          3.333333333333333,
          10.555555555555555,
          5.444444444444445,
          3.333333333333333,
          3.2222222222222223,
          3.111111111111111,
          6.222222222222222,
          4.888888888888889,
          2.111111111111111,
          2.888888888888889,
          2.2222222222222223,
          3,
          5.555555555555555,
          2.888888888888889,
          3.555555555555556,
          3.111111111111111,
          3,
          3.555555555555556,
          4,
          8,
          6.555555555555555,
          7.222222222222222,
          4.555555555555555,
          5.222222222222222,
          7.222222222222222,
          4.777777777777778,
          13.444444444444445,
          4.111111111111111,
          2.2222222222222223,
          2.555555555555556,
          2.333333333333333,
          1.7777777777777777,
          4.666666666666667,
          2.333333333333333,
          6.555555555555555,
          3.888888888888889,
          4,
          3.555555555555556,
          5.666666666666667,
          4.111111111111111,
          5.444444444444445,
          6.333333333333333,
          7.222222222222222,
          5.666666666666667,
          6,
          4.333333333333333,
          6.333333333333333,
          3.7777777777777777,
          1.8888888888888888,
          2.2222222222222223,
          1.6666666666666667,
          1.7777777777777777,
          4.111111111111111,
          2.555555555555556,
          3.6666666666666665,
          6.111111111111111,
          4.666666666666667,
          4.111111111111111,
          6.666666666666667,
          2.888888888888889,
          2.888888888888889,
          6.111111111111111,
          8.666666666666666,
          7.555555555555555,
          11.11111111111111,
          12.333333333333334,
          22.22222222222222,
          3,
          3,
          2,
          1.6666666666666667,
          1.7777777777777777,
          7,
          3.333333333333333,
          3.7777777777777777,
          4.111111111111111,
          4.333333333333333,
          5,
          3.555555555555556,
          3.7777777777777777,
          10.444444444444445,
          5.444444444444445,
          5.444444444444445,
          48.11111111111112,
          12.88888888888889,
          7.222222222222222,
          11.666666666666666,
          4.666666666666667,
          3.333333333333333,
          1.5555555555555556,
          2,
          2,
          4.444444444444445,
          4.333333333333333,
          3.7777777777777777,
          3.2222222222222223,
          4.888888888888889,
          8.333333333333334,
          4.666666666666667,
          3.111111111111111,
          8,
          5.888888888888889,
          8,
          4.777777777777778,
          7.333333333333333,
          15.444444444444445,
          9.88888888888889,
          3.333333333333333,
          2.6666666666666665,
          6.888888888888889,
          1.3333333333333333,
          1.6666666666666667,
          2.888888888888889,
          3.111111111111111,
          3.111111111111111,
          3.111111111111111,
          4.666666666666667,
          4.777777777777778,
          6.444444444444445,
          5,
          6.555555555555555,
          7,
          4.222222222222222,
          14.77777777777778,
          3.888888888888889,
          4.666666666666667,
          41.888888888888886,
          7.222222222222222,
          1.8888888888888888,
          1.6666666666666667,
          3.333333333333333,
          6.777777777777778,
          5.888888888888889,
          3.6666666666666665,
          3.888888888888889,
          3.6666666666666665,
          3.7777777777777777,
          3.555555555555556,
          7.888888888888889,
          4,
          10,
          6.444444444444445,
          13.333333333333334,
          6.333333333333333,
          4,
          7.111111111111111,
          7.333333333333333,
          4.777777777777778,
          1.3333333333333333,
          1.4444444444444444,
          3.888888888888889,
          2.111111111111111,
          7.444444444444445,
          3.6666666666666665,
          2.6666666666666665,
          5.222222222222222,
          5.666666666666667,
          2.555555555555556,
          4,
          2.6666666666666665,
          11.555555555555555,
          14,
          8.222222222222221,
          30,
          50,
          5.888888888888889,
          3.555555555555556,
          11.555555555555555,
          3.4444444444444446,
          1.8888888888888888,
          5.555555555555555,
          2.6666666666666665,
          9.88888888888889,
          2.6666666666666665,
          3.2222222222222223,
          3.555555555555556,
          3,
          4.111111111111111,
          5,
          5.666666666666667,
          6.888888888888889,
          14.555555555555555,
          5.555555555555555,
          8.333333333333334,
          6,
          3.6666666666666665,
          12.444444444444445,
          13.22222222222222,
          1.4444444444444444,
          1.7777777777777777,
          7.111111111111111,
          1.7777777777777777,
          5.555555555555555,
          5.333333333333333,
          3,
          2.333333333333333,
          6.444444444444445,
          2.6666666666666665,
          5,
          5.222222222222222,
          5.888888888888889,
          4.666666666666667,
          8.555555555555555,
          5.777777777777778,
          3.888888888888889,
          13.22222222222222,
          11.555555555555555,
          2.6666666666666665,
          3.2222222222222223,
          1.8888888888888888,
          1.7777777777777777,
          2.2222222222222223,
          3.111111111111111,
          3.6666666666666665,
          5.444444444444445,
          3,
          7.222222222222222,
          4.888888888888889,
          2.2222222222222223,
          9.88888888888889,
          3.2222222222222223,
          13.666666666666666,
          5.222222222222222,
          7.777777777777778,
          5.777777777777778,
          5.888888888888889,
          5.777777777777778,
          10.333333333333334,
          1.7777777777777777,
          1.4444444444444444,
          1.8888888888888888,
          1.8888888888888888,
          6.111111111111111,
          16.555555555555557,
          8,
          4.333333333333333,
          4.333333333333333,
          6.222222222222222,
          4.222222222222222,
          5.555555555555555,
          5.444444444444445,
          6.111111111111111,
          3.7777777777777777,
          9.22222222222222,
          9,
          4.222222222222222,
          4.444444444444445,
          3.333333333333333,
          2.111111111111111,
          2,
          2,
          2.4444444444444446,
          24.55555555555556,
          4.888888888888889,
          5.444444444444445,
          3,
          8.555555555555555,
          3.6666666666666665,
          6.444444444444445,
          4.444444444444445,
          9.444444444444445,
          4.444444444444445,
          4.555555555555555,
          8.88888888888889,
          4.888888888888889,
          6.777777777777778,
          4.333333333333333,
          3.888888888888889,
          3.333333333333333,
          1.4444444444444444,
          2.111111111111111,
          2.2222222222222223,
          3.7777777777777777,
          2.4444444444444446,
          3.333333333333333,
          2.4444444444444446,
          7.333333333333333,
          4.555555555555555,
          8.333333333333334,
          6.666666666666667,
          11.555555555555555,
          5.222222222222222,
          4.111111111111111,
          5.888888888888889,
          3.4444444444444446,
          15.555555555555555,
          4.333333333333333,
          6,
          3.555555555555556,
          2.7777777777777777,
          2.333333333333333,
          2.2222222222222223,
          3.7777777777777777,
          4.222222222222222,
          5.111111111111111,
          2.111111111111111,
          5.555555555555555,
          4.333333333333333,
          3.2222222222222223,
          4.333333333333333,
          10.88888888888889,
          4.111111111111111,
          19.11111111111111,
          10.22222222222222,
          9.11111111111111,
          4.777777777777778,
          4.444444444444445,
          4.777777777777778,
          26.55555555555556,
          27.666666666666668,
          19.444444444444443,
          19.11111111111111,
          23.22222222222222,
          25.33333333333333,
          12.77777777777778,
          42.333333333333336,
          39.333333333333336,
          22,
          20.444444444444443,
          45.66666666666666,
          10.22222222222222,
          6.777777777777778,
          30.33333333333333,
          8.444444444444445,
          3.555555555555556,
          6.111111111111111,
          7.333333333333333,
          45.44444444444444
         ],
         "yaxis": "y"
        }
       ],
       "layout": {
        "legend": {
         "tracegroupgap": 0
        },
        "template": {
         "data": {
          "bar": [
           {
            "error_x": {
             "color": "#f2f5fa"
            },
            "error_y": {
             "color": "#f2f5fa"
            },
            "marker": {
             "line": {
              "color": "rgb(17,17,17)",
              "width": 0.5
             },
             "pattern": {
              "fillmode": "overlay",
              "size": 10,
              "solidity": 0.2
             }
            },
            "type": "bar"
           }
          ],
          "barpolar": [
           {
            "marker": {
             "line": {
              "color": "rgb(17,17,17)",
              "width": 0.5
             },
             "pattern": {
              "fillmode": "overlay",
              "size": 10,
              "solidity": 0.2
             }
            },
            "type": "barpolar"
           }
          ],
          "carpet": [
           {
            "aaxis": {
             "endlinecolor": "#A2B1C6",
             "gridcolor": "#506784",
             "linecolor": "#506784",
             "minorgridcolor": "#506784",
             "startlinecolor": "#A2B1C6"
            },
            "baxis": {
             "endlinecolor": "#A2B1C6",
             "gridcolor": "#506784",
             "linecolor": "#506784",
             "minorgridcolor": "#506784",
             "startlinecolor": "#A2B1C6"
            },
            "type": "carpet"
           }
          ],
          "choropleth": [
           {
            "colorbar": {
             "outlinewidth": 0,
             "ticks": ""
            },
            "type": "choropleth"
           }
          ],
          "contour": [
           {
            "colorbar": {
             "outlinewidth": 0,
             "ticks": ""
            },
            "colorscale": [
             [
              0,
              "#0d0887"
             ],
             [
              0.1111111111111111,
              "#46039f"
             ],
             [
              0.2222222222222222,
              "#7201a8"
             ],
             [
              0.3333333333333333,
              "#9c179e"
             ],
             [
              0.4444444444444444,
              "#bd3786"
             ],
             [
              0.5555555555555556,
              "#d8576b"
             ],
             [
              0.6666666666666666,
              "#ed7953"
             ],
             [
              0.7777777777777778,
              "#fb9f3a"
             ],
             [
              0.8888888888888888,
              "#fdca26"
             ],
             [
              1,
              "#f0f921"
             ]
            ],
            "type": "contour"
           }
          ],
          "contourcarpet": [
           {
            "colorbar": {
             "outlinewidth": 0,
             "ticks": ""
            },
            "type": "contourcarpet"
           }
          ],
          "heatmap": [
           {
            "colorbar": {
             "outlinewidth": 0,
             "ticks": ""
            },
            "colorscale": [
             [
              0,
              "#0d0887"
             ],
             [
              0.1111111111111111,
              "#46039f"
             ],
             [
              0.2222222222222222,
              "#7201a8"
             ],
             [
              0.3333333333333333,
              "#9c179e"
             ],
             [
              0.4444444444444444,
              "#bd3786"
             ],
             [
              0.5555555555555556,
              "#d8576b"
             ],
             [
              0.6666666666666666,
              "#ed7953"
             ],
             [
              0.7777777777777778,
              "#fb9f3a"
             ],
             [
              0.8888888888888888,
              "#fdca26"
             ],
             [
              1,
              "#f0f921"
             ]
            ],
            "type": "heatmap"
           }
          ],
          "heatmapgl": [
           {
            "colorbar": {
             "outlinewidth": 0,
             "ticks": ""
            },
            "colorscale": [
             [
              0,
              "#0d0887"
             ],
             [
              0.1111111111111111,
              "#46039f"
             ],
             [
              0.2222222222222222,
              "#7201a8"
             ],
             [
              0.3333333333333333,
              "#9c179e"
             ],
             [
              0.4444444444444444,
              "#bd3786"
             ],
             [
              0.5555555555555556,
              "#d8576b"
             ],
             [
              0.6666666666666666,
              "#ed7953"
             ],
             [
              0.7777777777777778,
              "#fb9f3a"
             ],
             [
              0.8888888888888888,
              "#fdca26"
             ],
             [
              1,
              "#f0f921"
             ]
            ],
            "type": "heatmapgl"
           }
          ],
          "histogram": [
           {
            "marker": {
             "pattern": {
              "fillmode": "overlay",
              "size": 10,
              "solidity": 0.2
             }
            },
            "type": "histogram"
           }
          ],
          "histogram2d": [
           {
            "colorbar": {
             "outlinewidth": 0,
             "ticks": ""
            },
            "colorscale": [
             [
              0,
              "#0d0887"
             ],
             [
              0.1111111111111111,
              "#46039f"
             ],
             [
              0.2222222222222222,
              "#7201a8"
             ],
             [
              0.3333333333333333,
              "#9c179e"
             ],
             [
              0.4444444444444444,
              "#bd3786"
             ],
             [
              0.5555555555555556,
              "#d8576b"
             ],
             [
              0.6666666666666666,
              "#ed7953"
             ],
             [
              0.7777777777777778,
              "#fb9f3a"
             ],
             [
              0.8888888888888888,
              "#fdca26"
             ],
             [
              1,
              "#f0f921"
             ]
            ],
            "type": "histogram2d"
           }
          ],
          "histogram2dcontour": [
           {
            "colorbar": {
             "outlinewidth": 0,
             "ticks": ""
            },
            "colorscale": [
             [
              0,
              "#0d0887"
             ],
             [
              0.1111111111111111,
              "#46039f"
             ],
             [
              0.2222222222222222,
              "#7201a8"
             ],
             [
              0.3333333333333333,
              "#9c179e"
             ],
             [
              0.4444444444444444,
              "#bd3786"
             ],
             [
              0.5555555555555556,
              "#d8576b"
             ],
             [
              0.6666666666666666,
              "#ed7953"
             ],
             [
              0.7777777777777778,
              "#fb9f3a"
             ],
             [
              0.8888888888888888,
              "#fdca26"
             ],
             [
              1,
              "#f0f921"
             ]
            ],
            "type": "histogram2dcontour"
           }
          ],
          "mesh3d": [
           {
            "colorbar": {
             "outlinewidth": 0,
             "ticks": ""
            },
            "type": "mesh3d"
           }
          ],
          "parcoords": [
           {
            "line": {
             "colorbar": {
              "outlinewidth": 0,
              "ticks": ""
             }
            },
            "type": "parcoords"
           }
          ],
          "pie": [
           {
            "automargin": true,
            "type": "pie"
           }
          ],
          "scatter": [
           {
            "marker": {
             "line": {
              "color": "#283442"
             }
            },
            "type": "scatter"
           }
          ],
          "scatter3d": [
           {
            "line": {
             "colorbar": {
              "outlinewidth": 0,
              "ticks": ""
             }
            },
            "marker": {
             "colorbar": {
              "outlinewidth": 0,
              "ticks": ""
             }
            },
            "type": "scatter3d"
           }
          ],
          "scattercarpet": [
           {
            "marker": {
             "colorbar": {
              "outlinewidth": 0,
              "ticks": ""
             }
            },
            "type": "scattercarpet"
           }
          ],
          "scattergeo": [
           {
            "marker": {
             "colorbar": {
              "outlinewidth": 0,
              "ticks": ""
             }
            },
            "type": "scattergeo"
           }
          ],
          "scattergl": [
           {
            "marker": {
             "line": {
              "color": "#283442"
             }
            },
            "type": "scattergl"
           }
          ],
          "scattermapbox": [
           {
            "marker": {
             "colorbar": {
              "outlinewidth": 0,
              "ticks": ""
             }
            },
            "type": "scattermapbox"
           }
          ],
          "scatterpolar": [
           {
            "marker": {
             "colorbar": {
              "outlinewidth": 0,
              "ticks": ""
             }
            },
            "type": "scatterpolar"
           }
          ],
          "scatterpolargl": [
           {
            "marker": {
             "colorbar": {
              "outlinewidth": 0,
              "ticks": ""
             }
            },
            "type": "scatterpolargl"
           }
          ],
          "scatterternary": [
           {
            "marker": {
             "colorbar": {
              "outlinewidth": 0,
              "ticks": ""
             }
            },
            "type": "scatterternary"
           }
          ],
          "surface": [
           {
            "colorbar": {
             "outlinewidth": 0,
             "ticks": ""
            },
            "colorscale": [
             [
              0,
              "#0d0887"
             ],
             [
              0.1111111111111111,
              "#46039f"
             ],
             [
              0.2222222222222222,
              "#7201a8"
             ],
             [
              0.3333333333333333,
              "#9c179e"
             ],
             [
              0.4444444444444444,
              "#bd3786"
             ],
             [
              0.5555555555555556,
              "#d8576b"
             ],
             [
              0.6666666666666666,
              "#ed7953"
             ],
             [
              0.7777777777777778,
              "#fb9f3a"
             ],
             [
              0.8888888888888888,
              "#fdca26"
             ],
             [
              1,
              "#f0f921"
             ]
            ],
            "type": "surface"
           }
          ],
          "table": [
           {
            "cells": {
             "fill": {
              "color": "#506784"
             },
             "line": {
              "color": "rgb(17,17,17)"
             }
            },
            "header": {
             "fill": {
              "color": "#2a3f5f"
             },
             "line": {
              "color": "rgb(17,17,17)"
             }
            },
            "type": "table"
           }
          ]
         },
         "layout": {
          "annotationdefaults": {
           "arrowcolor": "#f2f5fa",
           "arrowhead": 0,
           "arrowwidth": 1
          },
          "autotypenumbers": "strict",
          "coloraxis": {
           "colorbar": {
            "outlinewidth": 0,
            "ticks": ""
           }
          },
          "colorscale": {
           "diverging": [
            [
             0,
             "#8e0152"
            ],
            [
             0.1,
             "#c51b7d"
            ],
            [
             0.2,
             "#de77ae"
            ],
            [
             0.3,
             "#f1b6da"
            ],
            [
             0.4,
             "#fde0ef"
            ],
            [
             0.5,
             "#f7f7f7"
            ],
            [
             0.6,
             "#e6f5d0"
            ],
            [
             0.7,
             "#b8e186"
            ],
            [
             0.8,
             "#7fbc41"
            ],
            [
             0.9,
             "#4d9221"
            ],
            [
             1,
             "#276419"
            ]
           ],
           "sequential": [
            [
             0,
             "#0d0887"
            ],
            [
             0.1111111111111111,
             "#46039f"
            ],
            [
             0.2222222222222222,
             "#7201a8"
            ],
            [
             0.3333333333333333,
             "#9c179e"
            ],
            [
             0.4444444444444444,
             "#bd3786"
            ],
            [
             0.5555555555555556,
             "#d8576b"
            ],
            [
             0.6666666666666666,
             "#ed7953"
            ],
            [
             0.7777777777777778,
             "#fb9f3a"
            ],
            [
             0.8888888888888888,
             "#fdca26"
            ],
            [
             1,
             "#f0f921"
            ]
           ],
           "sequentialminus": [
            [
             0,
             "#0d0887"
            ],
            [
             0.1111111111111111,
             "#46039f"
            ],
            [
             0.2222222222222222,
             "#7201a8"
            ],
            [
             0.3333333333333333,
             "#9c179e"
            ],
            [
             0.4444444444444444,
             "#bd3786"
            ],
            [
             0.5555555555555556,
             "#d8576b"
            ],
            [
             0.6666666666666666,
             "#ed7953"
            ],
            [
             0.7777777777777778,
             "#fb9f3a"
            ],
            [
             0.8888888888888888,
             "#fdca26"
            ],
            [
             1,
             "#f0f921"
            ]
           ]
          },
          "colorway": [
           "#636efa",
           "#EF553B",
           "#00cc96",
           "#ab63fa",
           "#FFA15A",
           "#19d3f3",
           "#FF6692",
           "#B6E880",
           "#FF97FF",
           "#FECB52"
          ],
          "font": {
           "color": "#f2f5fa"
          },
          "geo": {
           "bgcolor": "rgb(17,17,17)",
           "lakecolor": "rgb(17,17,17)",
           "landcolor": "rgb(17,17,17)",
           "showlakes": true,
           "showland": true,
           "subunitcolor": "#506784"
          },
          "hoverlabel": {
           "align": "left"
          },
          "hovermode": "closest",
          "mapbox": {
           "style": "dark"
          },
          "paper_bgcolor": "rgb(17,17,17)",
          "plot_bgcolor": "rgb(17,17,17)",
          "polar": {
           "angularaxis": {
            "gridcolor": "#506784",
            "linecolor": "#506784",
            "ticks": ""
           },
           "bgcolor": "rgb(17,17,17)",
           "radialaxis": {
            "gridcolor": "#506784",
            "linecolor": "#506784",
            "ticks": ""
           }
          },
          "scene": {
           "xaxis": {
            "backgroundcolor": "rgb(17,17,17)",
            "gridcolor": "#506784",
            "gridwidth": 2,
            "linecolor": "#506784",
            "showbackground": true,
            "ticks": "",
            "zerolinecolor": "#C8D4E3"
           },
           "yaxis": {
            "backgroundcolor": "rgb(17,17,17)",
            "gridcolor": "#506784",
            "gridwidth": 2,
            "linecolor": "#506784",
            "showbackground": true,
            "ticks": "",
            "zerolinecolor": "#C8D4E3"
           },
           "zaxis": {
            "backgroundcolor": "rgb(17,17,17)",
            "gridcolor": "#506784",
            "gridwidth": 2,
            "linecolor": "#506784",
            "showbackground": true,
            "ticks": "",
            "zerolinecolor": "#C8D4E3"
           }
          },
          "shapedefaults": {
           "line": {
            "color": "#f2f5fa"
           }
          },
          "sliderdefaults": {
           "bgcolor": "#C8D4E3",
           "bordercolor": "rgb(17,17,17)",
           "borderwidth": 1,
           "tickwidth": 0
          },
          "ternary": {
           "aaxis": {
            "gridcolor": "#506784",
            "linecolor": "#506784",
            "ticks": ""
           },
           "baxis": {
            "gridcolor": "#506784",
            "linecolor": "#506784",
            "ticks": ""
           },
           "bgcolor": "rgb(17,17,17)",
           "caxis": {
            "gridcolor": "#506784",
            "linecolor": "#506784",
            "ticks": ""
           }
          },
          "title": {
           "x": 0.05
          },
          "updatemenudefaults": {
           "bgcolor": "#506784",
           "borderwidth": 0
          },
          "xaxis": {
           "automargin": true,
           "gridcolor": "#283442",
           "linecolor": "#506784",
           "ticks": "",
           "title": {
            "standoff": 15
           },
           "zerolinecolor": "#283442",
           "zerolinewidth": 2
          },
          "yaxis": {
           "automargin": true,
           "gridcolor": "#283442",
           "linecolor": "#506784",
           "ticks": "",
           "title": {
            "standoff": 15
           },
           "zerolinecolor": "#283442",
           "zerolinewidth": 2
          }
         }
        },
        "title": {
         "text": "Number of birds failed vs time to first food"
        },
        "xaxis": {
         "anchor": "y",
         "domain": [
          0,
          1
         ],
         "title": {
          "text": "num birds failed"
         }
        },
        "yaxis": {
         "anchor": "x",
         "domain": [
          0,
          1
         ],
         "title": {
          "text": "time to first food"
         }
        }
       }
      }
     },
     "metadata": {},
     "output_type": "display_data"
    }
   ],
   "source": [
    "px.scatter(\n",
    "    impactDF,\n",
    "    x=\"num birds failed\",\n",
    "    y=\"time to first food\",\n",
    "    title=\"Number of birds failed vs time to first food\",\n",
    "    template=\"plotly_dark\",\n",
    ")\n"
   ]
  },
  {
   "cell_type": "code",
   "execution_count": 12,
   "metadata": {},
   "outputs": [
    {
     "data": {
      "application/vnd.plotly.v1+json": {
       "config": {
        "plotlyServerURL": "https://plot.ly"
       },
       "data": [
        {
         "hovertemplate": "c_trust_jittered=%{x}<br>time to first food=%{y}<br>reward_patch_dim=%{marker.color}<extra></extra>",
         "legendgroup": "",
         "marker": {
          "color": [
           1,
           1,
           1,
           1,
           2,
           2,
           2,
           2,
           3,
           3,
           3,
           3,
           4,
           4,
           4,
           4,
           5,
           5,
           5,
           5,
           1,
           1,
           1,
           1,
           2,
           2,
           2,
           2,
           3,
           3,
           3,
           3,
           4,
           4,
           4,
           4,
           5,
           5,
           5,
           5,
           1,
           1,
           1,
           1,
           2,
           2,
           2,
           2,
           3,
           3,
           3,
           3,
           4,
           4,
           4,
           4,
           5,
           5,
           5,
           5,
           1,
           1,
           1,
           1,
           2,
           2,
           2,
           2,
           3,
           3,
           3,
           3,
           4,
           4,
           4,
           4,
           5,
           5,
           5,
           5,
           1,
           1,
           1,
           1,
           2,
           2,
           2,
           2,
           3,
           3,
           3,
           3,
           4,
           4,
           4,
           4,
           5,
           5,
           5,
           5,
           1,
           1,
           1,
           1,
           2,
           2,
           2,
           2,
           3,
           3,
           3,
           3,
           4,
           4,
           4,
           4,
           5,
           5,
           5,
           5,
           1,
           1,
           1,
           1,
           2,
           2,
           2,
           2,
           3,
           3,
           3,
           3,
           4,
           4,
           4,
           4,
           5,
           5,
           5,
           5,
           1,
           1,
           1,
           1,
           2,
           2,
           2,
           2,
           3,
           3,
           3,
           3,
           4,
           4,
           4,
           4,
           5,
           5,
           5,
           5,
           1,
           1,
           1,
           1,
           2,
           2,
           2,
           2,
           3,
           3,
           3,
           3,
           4,
           4,
           4,
           4,
           5,
           5,
           5,
           5,
           1,
           1,
           1,
           1,
           2,
           2,
           2,
           2,
           3,
           3,
           3,
           3,
           4,
           4,
           4,
           4,
           5,
           5,
           5,
           5,
           1,
           1,
           1,
           1,
           2,
           2,
           2,
           2,
           3,
           3,
           3,
           3,
           4,
           4,
           4,
           4,
           5,
           5,
           5,
           5,
           1,
           1,
           1,
           1,
           2,
           2,
           2,
           2,
           3,
           3,
           3,
           3,
           4,
           4,
           4,
           4,
           5,
           5,
           5,
           5,
           1,
           1,
           1,
           1,
           2,
           2,
           2,
           2,
           3,
           3,
           3,
           3,
           4,
           4,
           4,
           4,
           5,
           5,
           5,
           5,
           1,
           1,
           1,
           1,
           2,
           2,
           2,
           2,
           3,
           3,
           3,
           3,
           4,
           4,
           4,
           4,
           5,
           5,
           5,
           5,
           1,
           1,
           1,
           1,
           2,
           2,
           2,
           2,
           3,
           3,
           3,
           3,
           4,
           4,
           4,
           4,
           5,
           5,
           5,
           5,
           1,
           1,
           1,
           1,
           2,
           2,
           2,
           2,
           3,
           3,
           3,
           3,
           4,
           4,
           4,
           4,
           5,
           5,
           5,
           5,
           1,
           1,
           1,
           1,
           2,
           2,
           2,
           2,
           3,
           3,
           3,
           3,
           4,
           4,
           4,
           4,
           5,
           5,
           5,
           5,
           1,
           1,
           1,
           1,
           2,
           2,
           2,
           2,
           3,
           3,
           3,
           3,
           4,
           4,
           4,
           4,
           5,
           5,
           5,
           5,
           1,
           1,
           1,
           1,
           2,
           2,
           2,
           2,
           3,
           3,
           3,
           3,
           4,
           4,
           4,
           4,
           5,
           5,
           5,
           5,
           1,
           1,
           1,
           1,
           2,
           2,
           2,
           2,
           3,
           3,
           3,
           3,
           4,
           4,
           4,
           4,
           5,
           5,
           5,
           5,
           1,
           1,
           1,
           1,
           2,
           2,
           2,
           2,
           3,
           3,
           3,
           3,
           4,
           4,
           4,
           4,
           5,
           5,
           5,
           5
          ],
          "coloraxis": "coloraxis",
          "opacity": 0.5,
          "size": 5,
          "symbol": "circle"
         },
         "mode": "markers",
         "name": "",
         "orientation": "v",
         "showlegend": false,
         "type": "scatter",
         "x": [
          -0.009969625757801115,
          -0.004944194122942756,
          -0.0005790964374623227,
          0.003252971740298845,
          0.0032409404658284117,
          0.009390793350857957,
          0.0053606889966986634,
          0.002512450656483931,
          0.00018926724710134797,
          -0.00920275382875133,
          -0.004083946374679566,
          0.008317618775046309,
          -0.006581058608075894,
          0.0010854259405360007,
          -0.00408195624383169,
          -0.0034273116297135033,
          0.0034462926655301814,
          -0.0051701669917787975,
          -0.002381210667174391,
          -0.0016340242904755737,
          0.05681238253004531,
          0.05884651036517396,
          0.05515693412394598,
          0.05181098342579014,
          0.058289063203121154,
          0.0481595536544416,
          0.04760581969281492,
          0.042541991176721056,
          0.04378124566908839,
          0.04150149639478316,
          0.053697831075386615,
          0.05676318253662479,
          0.04748935301403533,
          0.05963503785170778,
          0.05422831742037548,
          0.05998726853751972,
          0.04506841565642306,
          0.05085317324200141,
          0.05402099305820811,
          0.041482089650390186,
          0.10683173637896153,
          0.10595799133342873,
          0.0933026164075655,
          0.09773390359109574,
          0.09587668853666786,
          0.09512164195515516,
          0.1037905095485614,
          0.09259077781610499,
          0.0930143085514178,
          0.09717279119488942,
          0.10409526964730773,
          0.10900135957812088,
          0.09611741098312342,
          0.105664162744593,
          0.09717456368122403,
          0.09556144104817932,
          0.10455880846098084,
          0.10016746953595881,
          0.10340367518918908,
          0.106794294975156,
          0.14861752984416393,
          0.14750672586716387,
          0.15545965422109603,
          0.14408805914009534,
          0.15985301293876686,
          0.14582466339381916,
          0.15101864689800443,
          0.14891339338703038,
          0.15074478215760884,
          0.14653214908754925,
          0.14621409241859248,
          0.1475972281823919,
          0.14388694883885128,
          0.15626385988976765,
          0.15371593693376856,
          0.1566508595824949,
          0.14306086312312297,
          0.1439046349183264,
          0.14400952991033408,
          0.14659633493417545,
          0.19385578820576516,
          0.19667592043640356,
          0.20108069472618054,
          0.20101651295571288,
          0.197670692723794,
          0.205791875082106,
          0.2049055376464021,
          0.1965632982421507,
          0.1900762781673187,
          0.1941975606459785,
          0.20018430628315642,
          0.20722985953031473,
          0.19814163288157322,
          0.19206219279294215,
          0.20358135635054805,
          0.20054361004170032,
          0.1925757288547434,
          0.20668147759020414,
          0.19788605130142228,
          0.19616540626828696,
          0.24935777327874842,
          0.2550556837451859,
          0.2536978170627803,
          0.24323483951748573,
          0.24953956789398163,
          0.25385223583919414,
          0.2520246024926468,
          0.2412000110391179,
          0.2558647912217117,
          0.2513187178856926,
          0.25454718005255006,
          0.25722181897165536,
          0.24668510615709927,
          0.2574965801107881,
          0.2544840128837852,
          0.25365669495054305,
          0.2583353318713162,
          0.24288142250667272,
          0.24511193147684499,
          0.2568379982539935,
          0.2965192137767598,
          0.30300782556886635,
          0.30242599514438956,
          0.2996275670681115,
          0.2938287142528313,
          0.3028568042578611,
          0.3021890613106365,
          0.30798103847216296,
          0.30159070050391956,
          0.29320872002283754,
          0.30307303133940977,
          0.2970808141020267,
          0.2962044100061925,
          0.3079467105584891,
          0.2949757525530672,
          0.3055099939827719,
          0.3093402021815271,
          0.2987916857238238,
          0.293340366797605,
          0.29704537734322783,
          0.3417621853732578,
          0.35856192022255423,
          0.3434912270917094,
          0.3595623151443776,
          0.3523358975817719,
          0.35783651981280573,
          0.3542834398620669,
          0.35069160945510275,
          0.34753613162919966,
          0.3517274534182245,
          0.3544061045650774,
          0.353800540670663,
          0.34598486774595905,
          0.3496418819362267,
          0.3566021141114097,
          0.3494572755097774,
          0.34990508983501045,
          0.3474655136060842,
          0.3402980474644892,
          0.34171053520561906,
          0.4030373635651305,
          0.3930600157681859,
          0.3959347122088956,
          0.4070986528484287,
          0.4082805595981729,
          0.39577298449354664,
          0.39126440828173076,
          0.400980875673985,
          0.3991961913872427,
          0.39908804859078684,
          0.40022719489694836,
          0.40563672769839765,
          0.40694285218428944,
          0.39201428435367247,
          0.3985454837941857,
          0.3951661577282004,
          0.40159971421904367,
          0.3903127330647603,
          0.3957285266491855,
          0.39143655388833765,
          0.45833455849430366,
          0.45456468843367603,
          0.4471823058496084,
          0.4582432337430164,
          0.45389460102478557,
          0.45537228963063375,
          0.4446978682624063,
          0.44560195318379164,
          0.45052752242798666,
          0.4428533517984395,
          0.4444228158167127,
          0.4565434792299323,
          0.45880693511798026,
          0.4490975094233512,
          0.44549310772724043,
          0.4582528889805812,
          0.45245237262925975,
          0.45370605449252094,
          0.4514219140679462,
          0.44535542896103186,
          0.4982194910172072,
          0.50697630255029,
          0.4944490466774934,
          0.49142208771546014,
          0.5077563037678754,
          0.49869506118405227,
          0.5077178953610276,
          0.5001179514432458,
          0.5058887202156748,
          0.49003064940128443,
          0.5051063559378068,
          0.49939530220355954,
          0.5083282884515969,
          0.5074542587493737,
          0.4945694485941631,
          0.4992361347331426,
          0.49488363024452364,
          0.499830514831266,
          0.5066703226637891,
          0.4988422041510008,
          0.5588503816623218,
          0.5453076007301972,
          0.5474532371892451,
          0.5518902048368854,
          0.5454225870119147,
          0.5539966851349797,
          0.5421894174641851,
          0.5536469312262651,
          0.5454679147601807,
          0.5543222659375462,
          0.5507813535040492,
          0.5448652878768931,
          0.540791211398644,
          0.5554004322928454,
          0.5429479138394925,
          0.55612497803389,
          0.5543154288051129,
          0.5569625553249351,
          0.5568093430503516,
          0.5404386291199302,
          0.6093456038646994,
          0.6093444550232446,
          0.5989953483379351,
          0.5967290994087243,
          0.606288616162232,
          0.6030044516103483,
          0.5947048462978558,
          0.6073341798683024,
          0.6052122048543043,
          0.597574933977687,
          0.6073940788196399,
          0.6036235226217775,
          0.6098810559525103,
          0.5971056952094121,
          0.5964754573031831,
          0.598245109598831,
          0.5921385033884824,
          0.6062495474872629,
          0.5960018704712744,
          0.6055755277724163,
          0.6481222118112628,
          0.6596082277435206,
          0.6527356175798845,
          0.6441891265077586,
          0.646808908344566,
          0.6402705762224992,
          0.6488108644793089,
          0.6580178442773514,
          0.6597087857662871,
          0.6426191951726498,
          0.6572484121916017,
          0.6534691013462386,
          0.6539676988483543,
          0.6435991110286754,
          0.647709946296436,
          0.6508644499400469,
          0.6569369002305729,
          0.6423276158637061,
          0.6526596033855889,
          0.6448487043894955,
          0.6984934258432561,
          0.7064045257695469,
          0.69413940616884,
          0.7083675908304656,
          0.6915439586587716,
          0.6958385797019577,
          0.7067039117455746,
          0.7024982641545587,
          0.7070970130270255,
          0.7050716828867906,
          0.6903697361628423,
          0.6923214622549295,
          0.6954387874600293,
          0.7025835153972825,
          0.6975423304557471,
          0.7046901074178482,
          0.7008307104511818,
          0.6943927391612031,
          0.6988732835235394,
          0.7009420281639229,
          0.7549789183995246,
          0.7489735944136177,
          0.7559516712403159,
          0.7483675372701922,
          0.7555932774440048,
          0.741069970294478,
          0.7497298442523056,
          0.7488750404657694,
          0.7548053774067203,
          0.7508074091710065,
          0.7596523943218745,
          0.7523319981978398,
          0.7481868780201915,
          0.7593139065615863,
          0.7471824366733574,
          0.7465874684458158,
          0.7519508605823282,
          0.7403733569323022,
          0.7585374445209899,
          0.7524953809755268,
          0.7922922069724054,
          0.8099630357428003,
          0.7915205940584836,
          0.802550607634293,
          0.7928300846095141,
          0.8009355400242026,
          0.8027590583072831,
          0.8073205337534599,
          0.7931707940245789,
          0.7963965114575156,
          0.806827515288635,
          0.80655718807846,
          0.8071611512268256,
          0.7932351578381316,
          0.7920160124696941,
          0.7902798673086412,
          0.8075871060018719,
          0.8037503427426272,
          0.7922393314873026,
          0.7901096569234815,
          0.8504729123469128,
          0.8595928098626907,
          0.8508778595993645,
          0.8576081290655826,
          0.8407021645025358,
          0.858116058940048,
          0.846015254660098,
          0.8542310903246454,
          0.8432118612168101,
          0.8464746085372657,
          0.8486575422501904,
          0.8596589509661562,
          0.8500852744613826,
          0.8539501671804948,
          0.8408652060059743,
          0.8531420127992487,
          0.8413645751890443,
          0.8412515596239194,
          0.8462607745626957,
          0.8549957548632063,
          0.909621408730236,
          0.9023738608361581,
          0.9077143663852536,
          0.9073084912689492,
          0.9021731311319932,
          0.9022423277273289,
          0.8923364240400186,
          0.8931771781852974,
          0.8925825598348034,
          0.9002602263369016,
          0.9029100088790747,
          0.903568587225066,
          0.8963686635664362,
          0.9046835864729561,
          0.8952287299089956,
          0.9038060140609432,
          0.9053882700472823,
          0.906697978830462,
          0.890977645073005,
          0.896512738673635,
          0.9440862509843232,
          0.9509837421252855,
          0.9511689505693317,
          0.946893011641558,
          0.9513139011008551,
          0.9593524475084466,
          0.9431073273296299,
          0.9510615963647395,
          0.9529982507407964,
          0.9545717589922667,
          0.947725923723733,
          0.9510929692744003,
          0.9475751987313247,
          0.9462303695618709,
          0.9448884779125827,
          0.9594642703863833,
          0.9473597920841521,
          0.955630201309466,
          0.9549784147682034,
          0.9502682555110243,
          1.0079517108883442,
          0.9990092088462144,
          1.0091485415554222,
          0.9919246400358378,
          0.9901013364859743,
          1.008908867304216,
          1.009907158093765,
          0.9965120425202276,
          1.008504030951314,
          0.9998805961593955,
          1.0012932304479123,
          0.9901047726002619,
          1.00742399638558,
          1.0077927727172897,
          1.0041637474071483,
          1.007714426669212,
          0.9937558563698928,
          1.0007653080817969,
          0.9925628084214292,
          1.0062142396820664
         ],
         "xaxis": "x",
         "y": [
          14.666666666666666,
          14,
          4.888888888888889,
          2.555555555555556,
          7.888888888888889,
          19.11111111111111,
          22.22222222222222,
          28.22222222222222,
          7.555555555555555,
          16.666666666666668,
          34,
          13.22222222222222,
          25.666666666666668,
          32.888888888888886,
          24.55555555555556,
          24.88888888888889,
          31.11111111111111,
          34.77777777777778,
          27.55555555555556,
          31.33333333333333,
          1.8888888888888888,
          2.7777777777777777,
          4.333333333333333,
          3.7777777777777777,
          7.222222222222222,
          2.333333333333333,
          8.222222222222221,
          4.777777777777778,
          16.11111111111111,
          19.11111111111111,
          4.555555555555555,
          10.666666666666666,
          9.88888888888889,
          23,
          7.555555555555555,
          8.222222222222221,
          4,
          6.333333333333333,
          5.333333333333333,
          16.88888888888889,
          2.4444444444444446,
          1.8888888888888888,
          1.8888888888888888,
          2,
          3.4444444444444446,
          6.444444444444445,
          3.6666666666666665,
          11.555555555555555,
          5.888888888888889,
          6.111111111111111,
          3.333333333333333,
          11.333333333333334,
          9.77777777777778,
          26,
          4.555555555555555,
          13.22222222222222,
          4,
          8.11111111111111,
          3.555555555555556,
          7.222222222222222,
          7.666666666666667,
          6.888888888888889,
          3.4444444444444446,
          2.555555555555556,
          13.555555555555555,
          6.222222222222222,
          2.7777777777777777,
          4.777777777777778,
          8.11111111111111,
          5.777777777777778,
          5.111111111111111,
          4,
          6.777777777777778,
          8.444444444444445,
          3.4444444444444446,
          24,
          6.111111111111111,
          6.111111111111111,
          16.666666666666668,
          8.222222222222221,
          4.888888888888889,
          2,
          2.4444444444444446,
          7.555555555555555,
          3.7777777777777777,
          3.888888888888889,
          4.777777777777778,
          4.444444444444445,
          4.555555555555555,
          4.666666666666667,
          6.888888888888889,
          3.333333333333333,
          3.333333333333333,
          10.555555555555555,
          5.444444444444445,
          3.333333333333333,
          3.2222222222222223,
          3.111111111111111,
          6.222222222222222,
          4.888888888888889,
          2.111111111111111,
          2.888888888888889,
          2.2222222222222223,
          3,
          5.555555555555555,
          2.888888888888889,
          3.555555555555556,
          3.111111111111111,
          3,
          3.555555555555556,
          4,
          8,
          6.555555555555555,
          7.222222222222222,
          4.555555555555555,
          5.222222222222222,
          7.222222222222222,
          4.777777777777778,
          13.444444444444445,
          4.111111111111111,
          2.2222222222222223,
          2.555555555555556,
          2.333333333333333,
          1.7777777777777777,
          4.666666666666667,
          2.333333333333333,
          6.555555555555555,
          3.888888888888889,
          4,
          3.555555555555556,
          5.666666666666667,
          4.111111111111111,
          5.444444444444445,
          6.333333333333333,
          7.222222222222222,
          5.666666666666667,
          6,
          4.333333333333333,
          6.333333333333333,
          3.7777777777777777,
          1.8888888888888888,
          2.2222222222222223,
          1.6666666666666667,
          1.7777777777777777,
          4.111111111111111,
          2.555555555555556,
          3.6666666666666665,
          6.111111111111111,
          4.666666666666667,
          4.111111111111111,
          6.666666666666667,
          2.888888888888889,
          2.888888888888889,
          6.111111111111111,
          8.666666666666666,
          7.555555555555555,
          11.11111111111111,
          12.333333333333334,
          22.22222222222222,
          3,
          3,
          2,
          1.6666666666666667,
          1.7777777777777777,
          7,
          3.333333333333333,
          3.7777777777777777,
          4.111111111111111,
          4.333333333333333,
          5,
          3.555555555555556,
          3.7777777777777777,
          10.444444444444445,
          5.444444444444445,
          5.444444444444445,
          48.11111111111112,
          12.88888888888889,
          7.222222222222222,
          11.666666666666666,
          4.666666666666667,
          3.333333333333333,
          1.5555555555555556,
          2,
          2,
          4.444444444444445,
          4.333333333333333,
          3.7777777777777777,
          3.2222222222222223,
          4.888888888888889,
          8.333333333333334,
          4.666666666666667,
          3.111111111111111,
          8,
          5.888888888888889,
          8,
          4.777777777777778,
          7.333333333333333,
          15.444444444444445,
          9.88888888888889,
          3.333333333333333,
          2.6666666666666665,
          6.888888888888889,
          1.3333333333333333,
          1.6666666666666667,
          2.888888888888889,
          3.111111111111111,
          3.111111111111111,
          3.111111111111111,
          4.666666666666667,
          4.777777777777778,
          6.444444444444445,
          5,
          6.555555555555555,
          7,
          4.222222222222222,
          14.77777777777778,
          3.888888888888889,
          4.666666666666667,
          41.888888888888886,
          7.222222222222222,
          1.8888888888888888,
          1.6666666666666667,
          3.333333333333333,
          6.777777777777778,
          5.888888888888889,
          3.6666666666666665,
          3.888888888888889,
          3.6666666666666665,
          3.7777777777777777,
          3.555555555555556,
          7.888888888888889,
          4,
          10,
          6.444444444444445,
          13.333333333333334,
          6.333333333333333,
          4,
          7.111111111111111,
          7.333333333333333,
          4.777777777777778,
          1.3333333333333333,
          1.4444444444444444,
          3.888888888888889,
          2.111111111111111,
          7.444444444444445,
          3.6666666666666665,
          2.6666666666666665,
          5.222222222222222,
          5.666666666666667,
          2.555555555555556,
          4,
          2.6666666666666665,
          11.555555555555555,
          14,
          8.222222222222221,
          30,
          50,
          5.888888888888889,
          3.555555555555556,
          11.555555555555555,
          3.4444444444444446,
          1.8888888888888888,
          5.555555555555555,
          2.6666666666666665,
          9.88888888888889,
          2.6666666666666665,
          3.2222222222222223,
          3.555555555555556,
          3,
          4.111111111111111,
          5,
          5.666666666666667,
          6.888888888888889,
          14.555555555555555,
          5.555555555555555,
          8.333333333333334,
          6,
          3.6666666666666665,
          12.444444444444445,
          13.22222222222222,
          1.4444444444444444,
          1.7777777777777777,
          7.111111111111111,
          1.7777777777777777,
          5.555555555555555,
          5.333333333333333,
          3,
          2.333333333333333,
          6.444444444444445,
          2.6666666666666665,
          5,
          5.222222222222222,
          5.888888888888889,
          4.666666666666667,
          8.555555555555555,
          5.777777777777778,
          3.888888888888889,
          13.22222222222222,
          11.555555555555555,
          2.6666666666666665,
          3.2222222222222223,
          1.8888888888888888,
          1.7777777777777777,
          2.2222222222222223,
          3.111111111111111,
          3.6666666666666665,
          5.444444444444445,
          3,
          7.222222222222222,
          4.888888888888889,
          2.2222222222222223,
          9.88888888888889,
          3.2222222222222223,
          13.666666666666666,
          5.222222222222222,
          7.777777777777778,
          5.777777777777778,
          5.888888888888889,
          5.777777777777778,
          10.333333333333334,
          1.7777777777777777,
          1.4444444444444444,
          1.8888888888888888,
          1.8888888888888888,
          6.111111111111111,
          16.555555555555557,
          8,
          4.333333333333333,
          4.333333333333333,
          6.222222222222222,
          4.222222222222222,
          5.555555555555555,
          5.444444444444445,
          6.111111111111111,
          3.7777777777777777,
          9.22222222222222,
          9,
          4.222222222222222,
          4.444444444444445,
          3.333333333333333,
          2.111111111111111,
          2,
          2,
          2.4444444444444446,
          24.55555555555556,
          4.888888888888889,
          5.444444444444445,
          3,
          8.555555555555555,
          3.6666666666666665,
          6.444444444444445,
          4.444444444444445,
          9.444444444444445,
          4.444444444444445,
          4.555555555555555,
          8.88888888888889,
          4.888888888888889,
          6.777777777777778,
          4.333333333333333,
          3.888888888888889,
          3.333333333333333,
          1.4444444444444444,
          2.111111111111111,
          2.2222222222222223,
          3.7777777777777777,
          2.4444444444444446,
          3.333333333333333,
          2.4444444444444446,
          7.333333333333333,
          4.555555555555555,
          8.333333333333334,
          6.666666666666667,
          11.555555555555555,
          5.222222222222222,
          4.111111111111111,
          5.888888888888889,
          3.4444444444444446,
          15.555555555555555,
          4.333333333333333,
          6,
          3.555555555555556,
          2.7777777777777777,
          2.333333333333333,
          2.2222222222222223,
          3.7777777777777777,
          4.222222222222222,
          5.111111111111111,
          2.111111111111111,
          5.555555555555555,
          4.333333333333333,
          3.2222222222222223,
          4.333333333333333,
          10.88888888888889,
          4.111111111111111,
          19.11111111111111,
          10.22222222222222,
          9.11111111111111,
          4.777777777777778,
          4.444444444444445,
          4.777777777777778,
          26.55555555555556,
          27.666666666666668,
          19.444444444444443,
          19.11111111111111,
          23.22222222222222,
          25.33333333333333,
          12.77777777777778,
          42.333333333333336,
          39.333333333333336,
          22,
          20.444444444444443,
          45.66666666666666,
          10.22222222222222,
          6.777777777777778,
          30.33333333333333,
          8.444444444444445,
          3.555555555555556,
          6.111111111111111,
          7.333333333333333,
          45.44444444444444
         ],
         "yaxis": "y"
        },
        {
         "hovertemplate": "<b>LOWESS trendline</b><br><br>c_trust_jittered=%{x}<br>time to first food=%{y} <b>(trend)</b><extra></extra>",
         "legendgroup": "",
         "marker": {
          "opacity": 0.5,
          "size": 5,
          "symbol": "circle"
         },
         "mode": "lines",
         "name": "",
         "showlegend": false,
         "type": "scatter",
         "x": [
          -0.009969625757801115,
          -0.00920275382875133,
          -0.006581058608075894,
          -0.0051701669917787975,
          -0.004944194122942756,
          -0.004083946374679566,
          -0.00408195624383169,
          -0.0034273116297135033,
          -0.002381210667174391,
          -0.0016340242904755737,
          -0.0005790964374623227,
          0.00018926724710134797,
          0.0010854259405360007,
          0.002512450656483931,
          0.0032409404658284117,
          0.003252971740298845,
          0.0034462926655301814,
          0.0053606889966986634,
          0.008317618775046309,
          0.009390793350857957,
          0.041482089650390186,
          0.04150149639478316,
          0.042541991176721056,
          0.04378124566908839,
          0.04506841565642306,
          0.04748935301403533,
          0.04760581969281492,
          0.0481595536544416,
          0.05085317324200141,
          0.05181098342579014,
          0.053697831075386615,
          0.05402099305820811,
          0.05422831742037548,
          0.05515693412394598,
          0.05676318253662479,
          0.05681238253004531,
          0.058289063203121154,
          0.05884651036517396,
          0.05963503785170778,
          0.05998726853751972,
          0.09259077781610499,
          0.0930143085514178,
          0.0933026164075655,
          0.09512164195515516,
          0.09556144104817932,
          0.09587668853666786,
          0.09611741098312342,
          0.09717279119488942,
          0.09717456368122403,
          0.09773390359109574,
          0.10016746953595881,
          0.10340367518918908,
          0.1037905095485614,
          0.10409526964730773,
          0.10455880846098084,
          0.105664162744593,
          0.10595799133342873,
          0.106794294975156,
          0.10683173637896153,
          0.10900135957812088,
          0.14306086312312297,
          0.14388694883885128,
          0.1439046349183264,
          0.14400952991033408,
          0.14408805914009534,
          0.14582466339381916,
          0.14621409241859248,
          0.14653214908754925,
          0.14659633493417545,
          0.14750672586716387,
          0.1475972281823919,
          0.14861752984416393,
          0.14891339338703038,
          0.15074478215760884,
          0.15101864689800443,
          0.15371593693376856,
          0.15545965422109603,
          0.15626385988976765,
          0.1566508595824949,
          0.15985301293876686,
          0.1900762781673187,
          0.19206219279294215,
          0.1925757288547434,
          0.19385578820576516,
          0.1941975606459785,
          0.19616540626828696,
          0.1965632982421507,
          0.19667592043640356,
          0.197670692723794,
          0.19788605130142228,
          0.19814163288157322,
          0.20018430628315642,
          0.20054361004170032,
          0.20101651295571288,
          0.20108069472618054,
          0.20358135635054805,
          0.2049055376464021,
          0.205791875082106,
          0.20668147759020414,
          0.20722985953031473,
          0.2412000110391179,
          0.24288142250667272,
          0.24323483951748573,
          0.24511193147684499,
          0.24668510615709927,
          0.24935777327874842,
          0.24953956789398163,
          0.2513187178856926,
          0.2520246024926468,
          0.25365669495054305,
          0.2536978170627803,
          0.25385223583919414,
          0.2544840128837852,
          0.25454718005255006,
          0.2550556837451859,
          0.2558647912217117,
          0.2568379982539935,
          0.25722181897165536,
          0.2574965801107881,
          0.2583353318713162,
          0.29320872002283754,
          0.293340366797605,
          0.2938287142528313,
          0.2949757525530672,
          0.2962044100061925,
          0.2965192137767598,
          0.29704537734322783,
          0.2970808141020267,
          0.2987916857238238,
          0.2996275670681115,
          0.30159070050391956,
          0.3021890613106365,
          0.30242599514438956,
          0.3028568042578611,
          0.30300782556886635,
          0.30307303133940977,
          0.3055099939827719,
          0.3079467105584891,
          0.30798103847216296,
          0.3093402021815271,
          0.3402980474644892,
          0.34171053520561906,
          0.3417621853732578,
          0.3434912270917094,
          0.34598486774595905,
          0.3474655136060842,
          0.34753613162919966,
          0.3494572755097774,
          0.3496418819362267,
          0.34990508983501045,
          0.35069160945510275,
          0.3517274534182245,
          0.3523358975817719,
          0.353800540670663,
          0.3542834398620669,
          0.3544061045650774,
          0.3566021141114097,
          0.35783651981280573,
          0.35856192022255423,
          0.3595623151443776,
          0.3903127330647603,
          0.39126440828173076,
          0.39143655388833765,
          0.39201428435367247,
          0.3930600157681859,
          0.3951661577282004,
          0.3957285266491855,
          0.39577298449354664,
          0.3959347122088956,
          0.3985454837941857,
          0.39908804859078684,
          0.3991961913872427,
          0.40022719489694836,
          0.400980875673985,
          0.40159971421904367,
          0.4030373635651305,
          0.40563672769839765,
          0.40694285218428944,
          0.4070986528484287,
          0.4082805595981729,
          0.4428533517984395,
          0.4444228158167127,
          0.4446978682624063,
          0.44535542896103186,
          0.44549310772724043,
          0.44560195318379164,
          0.4471823058496084,
          0.4490975094233512,
          0.45052752242798666,
          0.4514219140679462,
          0.45245237262925975,
          0.45370605449252094,
          0.45389460102478557,
          0.45456468843367603,
          0.45537228963063375,
          0.4565434792299323,
          0.4582432337430164,
          0.4582528889805812,
          0.45833455849430366,
          0.45880693511798026,
          0.49003064940128443,
          0.49142208771546014,
          0.4944490466774934,
          0.4945694485941631,
          0.49488363024452364,
          0.4982194910172072,
          0.49869506118405227,
          0.4988422041510008,
          0.4992361347331426,
          0.49939530220355954,
          0.499830514831266,
          0.5001179514432458,
          0.5051063559378068,
          0.5058887202156748,
          0.5066703226637891,
          0.50697630255029,
          0.5074542587493737,
          0.5077178953610276,
          0.5077563037678754,
          0.5083282884515969,
          0.5404386291199302,
          0.540791211398644,
          0.5421894174641851,
          0.5429479138394925,
          0.5448652878768931,
          0.5453076007301972,
          0.5454225870119147,
          0.5454679147601807,
          0.5474532371892451,
          0.5507813535040492,
          0.5518902048368854,
          0.5536469312262651,
          0.5539966851349797,
          0.5543154288051129,
          0.5543222659375462,
          0.5554004322928454,
          0.55612497803389,
          0.5568093430503516,
          0.5569625553249351,
          0.5588503816623218,
          0.5921385033884824,
          0.5947048462978558,
          0.5960018704712744,
          0.5964754573031831,
          0.5967290994087243,
          0.5971056952094121,
          0.597574933977687,
          0.598245109598831,
          0.5989953483379351,
          0.6030044516103483,
          0.6036235226217775,
          0.6052122048543043,
          0.6055755277724163,
          0.6062495474872629,
          0.606288616162232,
          0.6073341798683024,
          0.6073940788196399,
          0.6093444550232446,
          0.6093456038646994,
          0.6098810559525103,
          0.6402705762224992,
          0.6423276158637061,
          0.6426191951726498,
          0.6435991110286754,
          0.6441891265077586,
          0.6448487043894955,
          0.646808908344566,
          0.647709946296436,
          0.6481222118112628,
          0.6488108644793089,
          0.6508644499400469,
          0.6526596033855889,
          0.6527356175798845,
          0.6534691013462386,
          0.6539676988483543,
          0.6569369002305729,
          0.6572484121916017,
          0.6580178442773514,
          0.6596082277435206,
          0.6597087857662871,
          0.6903697361628423,
          0.6915439586587716,
          0.6923214622549295,
          0.69413940616884,
          0.6943927391612031,
          0.6954387874600293,
          0.6958385797019577,
          0.6975423304557471,
          0.6984934258432561,
          0.6988732835235394,
          0.7008307104511818,
          0.7009420281639229,
          0.7024982641545587,
          0.7025835153972825,
          0.7046901074178482,
          0.7050716828867906,
          0.7064045257695469,
          0.7067039117455746,
          0.7070970130270255,
          0.7083675908304656,
          0.7403733569323022,
          0.741069970294478,
          0.7465874684458158,
          0.7471824366733574,
          0.7481868780201915,
          0.7483675372701922,
          0.7488750404657694,
          0.7489735944136177,
          0.7497298442523056,
          0.7508074091710065,
          0.7519508605823282,
          0.7523319981978398,
          0.7524953809755268,
          0.7548053774067203,
          0.7549789183995246,
          0.7555932774440048,
          0.7559516712403159,
          0.7585374445209899,
          0.7593139065615863,
          0.7596523943218745,
          0.7901096569234815,
          0.7902798673086412,
          0.7915205940584836,
          0.7920160124696941,
          0.7922393314873026,
          0.7922922069724054,
          0.7928300846095141,
          0.7931707940245789,
          0.7932351578381316,
          0.7963965114575156,
          0.8009355400242026,
          0.802550607634293,
          0.8027590583072831,
          0.8037503427426272,
          0.80655718807846,
          0.806827515288635,
          0.8071611512268256,
          0.8073205337534599,
          0.8075871060018719,
          0.8099630357428003,
          0.8407021645025358,
          0.8408652060059743,
          0.8412515596239194,
          0.8413645751890443,
          0.8432118612168101,
          0.846015254660098,
          0.8462607745626957,
          0.8464746085372657,
          0.8486575422501904,
          0.8500852744613826,
          0.8504729123469128,
          0.8508778595993645,
          0.8531420127992487,
          0.8539501671804948,
          0.8542310903246454,
          0.8549957548632063,
          0.8576081290655826,
          0.858116058940048,
          0.8595928098626907,
          0.8596589509661562,
          0.890977645073005,
          0.8923364240400186,
          0.8925825598348034,
          0.8931771781852974,
          0.8952287299089956,
          0.8963686635664362,
          0.896512738673635,
          0.9002602263369016,
          0.9021731311319932,
          0.9022423277273289,
          0.9023738608361581,
          0.9029100088790747,
          0.903568587225066,
          0.9038060140609432,
          0.9046835864729561,
          0.9053882700472823,
          0.906697978830462,
          0.9073084912689492,
          0.9077143663852536,
          0.909621408730236,
          0.9431073273296299,
          0.9440862509843232,
          0.9448884779125827,
          0.9462303695618709,
          0.946893011641558,
          0.9473597920841521,
          0.9475751987313247,
          0.947725923723733,
          0.9502682555110243,
          0.9509837421252855,
          0.9510615963647395,
          0.9510929692744003,
          0.9511689505693317,
          0.9513139011008551,
          0.9529982507407964,
          0.9545717589922667,
          0.9549784147682034,
          0.955630201309466,
          0.9593524475084466,
          0.9594642703863833,
          0.9901013364859743,
          0.9901047726002619,
          0.9919246400358378,
          0.9925628084214292,
          0.9937558563698928,
          0.9965120425202276,
          0.9990092088462144,
          0.9998805961593955,
          1.0007653080817969,
          1.0012932304479123,
          1.0041637474071483,
          1.0062142396820664,
          1.00742399638558,
          1.007714426669212,
          1.0077927727172897,
          1.0079517108883442,
          1.008504030951314,
          1.008908867304216,
          1.0091485415554222,
          1.009907158093765
         ],
         "xaxis": "x",
         "y": [
          6.403168905960738,
          6.3986997036429525,
          6.383452053186746,
          6.375266373308639,
          6.373956631400279,
          6.368973916106371,
          6.368962394943127,
          6.3651740739756555,
          6.359126723490326,
          6.354812068138804,
          6.348727034842156,
          6.344299885966419,
          6.339141653077318,
          6.330939438232833,
          6.326757758908515,
          6.326688728232791,
          6.325579668891615,
          6.314611170173826,
          6.2977200857741975,
          6.29160490633932,
          6.112403421113446,
          6.112297151175204,
          6.10660311329438,
          6.099830676038167,
          6.092807060770417,
          6.079626245739579,
          6.078993105629284,
          6.0759840853979,
          6.061375143988649,
          6.056191702041842,
          6.04599773278085,
          6.044254086019635,
          6.043135801491664,
          6.038130309107335,
          6.029485157953781,
          6.029220612578576,
          6.02128773902478,
          6.018296671022072,
          6.014069062866972,
          6.012181884519799,
          5.840810683743272,
          5.838626491263785,
          5.837140255989898,
          5.827774274086199,
          5.82551267344985,
          5.823892249077153,
          5.822655282243014,
          5.817236086223161,
          5.8172269901926725,
          5.81435747306023,
          5.801893592259098,
          5.785370695341207,
          5.783399577268159,
          5.781847254765973,
          5.7794871667558905,
          5.773864107314418,
          5.772370506734123,
          5.768121990484074,
          5.7679318744331995,
          5.756928438233589,
          5.587569029472794,
          5.583539235135322,
          5.583452999219291,
          5.582941574001144,
          5.582558736039965,
          5.574101045388158,
          5.572206643461725,
          5.570660038017655,
          5.570347988795655,
          5.565924353576453,
          5.565484839900228,
          5.560532885617164,
          5.559097971303134,
          5.550226223509434,
          5.548901074939251,
          5.535870838542201,
          5.527467524576481,
          5.523597266547485,
          5.521736027811678,
          5.506365564897804,
          5.363839291989427,
          5.354629112374898,
          5.352250459255241,
          5.346326679396773,
          5.34474633178672,
          5.335657561194397,
          5.3338220101068154,
          5.33330259471858,
          5.328717218777579,
          5.327725127620868,
          5.326548017713913,
          5.317151038041072,
          5.315500105047108,
          5.3133281109391115,
          5.313033410060686,
          5.301566008206774,
          5.295505350758929,
          5.291453205366561,
          5.287389802778586,
          5.284886816303791,
          5.13279937550337,
          5.125439097729296,
          5.123894295355896,
          5.115702820673405,
          5.108855273758571,
          5.097259893796324,
          5.096472944108206,
          5.088783520594862,
          5.085738892046122,
          5.0787130654013115,
          5.078536293885663,
          5.07787260549371,
          5.075159080601852,
          5.0748879367185005,
          5.072706284359815,
          5.069238975861418,
          5.065075115972551,
          5.063434977104775,
          5.062261586345053,
          5.058683359755677,
          4.916507881283214,
          4.916003710237913,
          4.914136315990647,
          4.9097680420046,
          4.90511749284619,
          4.90393080575368,
          4.901951885878446,
          4.901818811410808,
          4.895425347416765,
          4.892324514249215,
          4.885103245991228,
          4.8829198181312385,
          4.882057571352634,
          4.8804931967140845,
          4.879945853010172,
          4.879709698704658,
          4.870958892443027,
          4.862361188485505,
          4.8622411945226105,
          4.857516089148954,
          4.800806464843704,
          4.79775964376047,
          4.7976236273426505,
          4.795277120143384,
          4.792866569132597,
          4.79139833955973,
          4.791392041091427,
          4.788338145833211,
          4.7881510904035895,
          4.788139645360467,
          4.7876763828766675,
          4.7853055436993905,
          4.785307537980321,
          4.784454719165041,
          4.784185905617712,
          4.783898014235803,
          4.780401751467306,
          4.777948760103218,
          4.77678413783268,
          4.774553481168983,
          4.7550489047541795,
          4.755009614107725,
          4.754781130103025,
          4.754704897707889,
          4.754587005080479,
          4.755969630216474,
          4.755310340708028,
          4.755255985646649,
          4.755260026160495,
          4.754106685781074,
          4.753491826927926,
          4.753370532520989,
          4.75232400599803,
          4.752193886678926,
          4.751542380039605,
          4.752023891982872,
          4.751685710423076,
          4.751387441490995,
          4.751246525848226,
          4.7512994242618305,
          4.758105385536806,
          4.758874985307681,
          4.758904465687464,
          4.759294364084611,
          4.759334263526708,
          4.759348400976291,
          4.7599173818073215,
          4.760987263790419,
          4.761690265732221,
          4.762420086637702,
          4.7631456659819005,
          4.763945868721179,
          4.7640953065708835,
          4.764422378092284,
          4.7649895441176415,
          4.765764898584517,
          4.7665070931732245,
          4.766514572503254,
          4.766562059144354,
          4.766747987077803,
          4.788895712259707,
          4.789712584014386,
          4.791815074638532,
          4.791902996594366,
          4.792136317512772,
          4.7942436454076685,
          4.794498035313774,
          4.794576934939079,
          4.794955002446285,
          4.795089208417488,
          4.795383826740546,
          4.79563241907178,
          4.79960150290852,
          4.8001880936486945,
          4.800583389271892,
          4.800756783604087,
          4.801103062193535,
          4.801360253686535,
          4.801397751896188,
          4.801957013401871,
          4.824847393352561,
          4.824972696308658,
          4.825613846621525,
          4.826164909534938,
          4.82758399790958,
          4.827731732330228,
          4.827769965551303,
          4.827785017290969,
          4.828880372125751,
          4.830415695763849,
          4.83121608171764,
          4.832524031631552,
          4.832654411353944,
          4.8328573121623135,
          4.832863415769018,
          4.833611559777042,
          4.833931700125208,
          4.834392978939594,
          4.83443565512545,
          4.8359582984508815,
          4.852027886470855,
          4.852872970926746,
          4.853439179980777,
          4.85345412561254,
          4.853632870035704,
          4.853897533969594,
          4.85422613021512,
          4.854440271893306,
          4.85481635895651,
          4.856196016571279,
          4.856533649693564,
          4.856798630721766,
          4.856776855995058,
          4.856969596011411,
          4.856966968009355,
          4.857193258605184,
          4.857188656139223,
          4.857381632372541,
          4.857382357604124,
          4.857719217101788,
          4.863032500453674,
          4.862768311359284,
          4.862824003898181,
          4.8625823653949105,
          4.862716874132494,
          4.862591818144109,
          4.8620648738625905,
          4.86171871095487,
          4.861617290326591,
          4.861868354570332,
          4.861943240451118,
          4.861680710419039,
          4.8616496734137025,
          4.861438933773838,
          4.861233959918672,
          4.8613151839059405,
          4.861418712722418,
          4.861621229092927,
          4.861738938225064,
          4.861771409076098,
          4.859989518680869,
          4.85968189194398,
          4.859496544579512,
          4.859120388485515,
          4.8590743292521665,
          4.858900549176814,
          4.85884108170206,
          4.858630350393254,
          4.858542457375195,
          4.858513232153303,
          4.858414959456334,
          4.858411969396507,
          4.858398839751164,
          4.858399650287815,
          4.858468983750173,
          4.858491511962403,
          4.858593581852379,
          4.858621438869683,
          4.858660723331359,
          4.858808435789312,
          4.8706848290236335,
          4.871074806777151,
          4.874302864426328,
          4.874664859940717,
          4.875281745917354,
          4.875393453512522,
          4.875708470684478,
          4.875769850747747,
          4.876243049126931,
          4.876923922665523,
          4.877654733871504,
          4.877900189582704,
          4.878005690227586,
          4.879514869392988,
          4.879629538299417,
          4.880036887007828,
          4.880275519202781,
          4.882018352424568,
          4.882548694013011,
          4.882780866088309,
          4.905480127773615,
          4.905614193472184,
          4.906593047214349,
          4.9069846648661155,
          4.907161332538465,
          4.907203174832155,
          4.9076290862667795,
          4.907899123614312,
          4.907950158305456,
          4.91046491727643,
          4.914100634907373,
          4.915400523564782,
          4.915568511403972,
          4.91636802241541,
          4.918637292514272,
          4.918856242232659,
          4.919126558931287,
          4.919255727797359,
          4.919471816396593,
          4.9214003833433075,
          4.94655205430612,
          4.9466856064352385,
          4.947002060292922,
          4.947094623503743,
          4.948607233061239,
          4.950901147354259,
          4.951101940776218,
          4.951276805141266,
          4.953061045709161,
          4.9542270879642025,
          4.9545435381876874,
          4.954874053231604,
          4.956720735451484,
          4.957379318108663,
          4.957608175646841,
          4.958230923188918,
          4.960356204597841,
          4.960769007972173,
          4.961968387224713,
          4.962022077147652,
          4.987187155665223,
          4.988268645297863,
          4.98846447677242,
          4.988937476783048,
          4.990568451267867,
          4.991474079690796,
          4.991588511740323,
          4.994562751926669,
          4.99607938094543,
          4.996134223912618,
          4.99623846921087,
          4.996663340881105,
          4.9971851327173535,
          4.997373219978949,
          4.998068308267432,
          4.998626329877834,
          4.999663166467534,
          5.000146359698901,
          5.000467551008746,
          5.00197630917412,
          5.028568060193129,
          5.029354250732598,
          5.029999149969511,
          5.031079167948357,
          5.03161310930874,
          5.031989481809683,
          5.032163239109867,
          5.032284848211647,
          5.034339521288508,
          5.034918975187076,
          5.034982060229551,
          5.035007483438583,
          5.035069059686717,
          5.0351865468131525,
          5.03655348181497,
          5.037833467869297,
          5.038164763221522,
          5.03869620397263,
          5.041742307273412,
          5.041834128325841,
          5.067921789816833,
          5.0679248432427,
          5.069546810819503,
          5.070117870007067,
          5.071188697389546,
          5.073678969612422,
          5.075955565301454,
          5.076754653195015,
          5.077568473222132,
          5.078055310183695,
          5.080718591083802,
          5.082638077747339,
          5.083777336232023,
          5.08405160083142,
          5.084125636600401,
          5.084275896675835,
          5.0847987478959125,
          5.085182663398553,
          5.085410222778754,
          5.086131822042585
         ],
         "yaxis": "y"
        }
       ],
       "layout": {
        "coloraxis": {
         "colorbar": {
          "title": {
           "text": "reward_patch_dim"
          }
         },
         "colorscale": [
          [
           0,
           "#0d0887"
          ],
          [
           0.1111111111111111,
           "#46039f"
          ],
          [
           0.2222222222222222,
           "#7201a8"
          ],
          [
           0.3333333333333333,
           "#9c179e"
          ],
          [
           0.4444444444444444,
           "#bd3786"
          ],
          [
           0.5555555555555556,
           "#d8576b"
          ],
          [
           0.6666666666666666,
           "#ed7953"
          ],
          [
           0.7777777777777778,
           "#fb9f3a"
          ],
          [
           0.8888888888888888,
           "#fdca26"
          ],
          [
           1,
           "#f0f921"
          ]
         ]
        },
        "legend": {
         "tracegroupgap": 0
        },
        "template": {
         "data": {
          "bar": [
           {
            "error_x": {
             "color": "#f2f5fa"
            },
            "error_y": {
             "color": "#f2f5fa"
            },
            "marker": {
             "line": {
              "color": "rgb(17,17,17)",
              "width": 0.5
             },
             "pattern": {
              "fillmode": "overlay",
              "size": 10,
              "solidity": 0.2
             }
            },
            "type": "bar"
           }
          ],
          "barpolar": [
           {
            "marker": {
             "line": {
              "color": "rgb(17,17,17)",
              "width": 0.5
             },
             "pattern": {
              "fillmode": "overlay",
              "size": 10,
              "solidity": 0.2
             }
            },
            "type": "barpolar"
           }
          ],
          "carpet": [
           {
            "aaxis": {
             "endlinecolor": "#A2B1C6",
             "gridcolor": "#506784",
             "linecolor": "#506784",
             "minorgridcolor": "#506784",
             "startlinecolor": "#A2B1C6"
            },
            "baxis": {
             "endlinecolor": "#A2B1C6",
             "gridcolor": "#506784",
             "linecolor": "#506784",
             "minorgridcolor": "#506784",
             "startlinecolor": "#A2B1C6"
            },
            "type": "carpet"
           }
          ],
          "choropleth": [
           {
            "colorbar": {
             "outlinewidth": 0,
             "ticks": ""
            },
            "type": "choropleth"
           }
          ],
          "contour": [
           {
            "colorbar": {
             "outlinewidth": 0,
             "ticks": ""
            },
            "colorscale": [
             [
              0,
              "#0d0887"
             ],
             [
              0.1111111111111111,
              "#46039f"
             ],
             [
              0.2222222222222222,
              "#7201a8"
             ],
             [
              0.3333333333333333,
              "#9c179e"
             ],
             [
              0.4444444444444444,
              "#bd3786"
             ],
             [
              0.5555555555555556,
              "#d8576b"
             ],
             [
              0.6666666666666666,
              "#ed7953"
             ],
             [
              0.7777777777777778,
              "#fb9f3a"
             ],
             [
              0.8888888888888888,
              "#fdca26"
             ],
             [
              1,
              "#f0f921"
             ]
            ],
            "type": "contour"
           }
          ],
          "contourcarpet": [
           {
            "colorbar": {
             "outlinewidth": 0,
             "ticks": ""
            },
            "type": "contourcarpet"
           }
          ],
          "heatmap": [
           {
            "colorbar": {
             "outlinewidth": 0,
             "ticks": ""
            },
            "colorscale": [
             [
              0,
              "#0d0887"
             ],
             [
              0.1111111111111111,
              "#46039f"
             ],
             [
              0.2222222222222222,
              "#7201a8"
             ],
             [
              0.3333333333333333,
              "#9c179e"
             ],
             [
              0.4444444444444444,
              "#bd3786"
             ],
             [
              0.5555555555555556,
              "#d8576b"
             ],
             [
              0.6666666666666666,
              "#ed7953"
             ],
             [
              0.7777777777777778,
              "#fb9f3a"
             ],
             [
              0.8888888888888888,
              "#fdca26"
             ],
             [
              1,
              "#f0f921"
             ]
            ],
            "type": "heatmap"
           }
          ],
          "heatmapgl": [
           {
            "colorbar": {
             "outlinewidth": 0,
             "ticks": ""
            },
            "colorscale": [
             [
              0,
              "#0d0887"
             ],
             [
              0.1111111111111111,
              "#46039f"
             ],
             [
              0.2222222222222222,
              "#7201a8"
             ],
             [
              0.3333333333333333,
              "#9c179e"
             ],
             [
              0.4444444444444444,
              "#bd3786"
             ],
             [
              0.5555555555555556,
              "#d8576b"
             ],
             [
              0.6666666666666666,
              "#ed7953"
             ],
             [
              0.7777777777777778,
              "#fb9f3a"
             ],
             [
              0.8888888888888888,
              "#fdca26"
             ],
             [
              1,
              "#f0f921"
             ]
            ],
            "type": "heatmapgl"
           }
          ],
          "histogram": [
           {
            "marker": {
             "pattern": {
              "fillmode": "overlay",
              "size": 10,
              "solidity": 0.2
             }
            },
            "type": "histogram"
           }
          ],
          "histogram2d": [
           {
            "colorbar": {
             "outlinewidth": 0,
             "ticks": ""
            },
            "colorscale": [
             [
              0,
              "#0d0887"
             ],
             [
              0.1111111111111111,
              "#46039f"
             ],
             [
              0.2222222222222222,
              "#7201a8"
             ],
             [
              0.3333333333333333,
              "#9c179e"
             ],
             [
              0.4444444444444444,
              "#bd3786"
             ],
             [
              0.5555555555555556,
              "#d8576b"
             ],
             [
              0.6666666666666666,
              "#ed7953"
             ],
             [
              0.7777777777777778,
              "#fb9f3a"
             ],
             [
              0.8888888888888888,
              "#fdca26"
             ],
             [
              1,
              "#f0f921"
             ]
            ],
            "type": "histogram2d"
           }
          ],
          "histogram2dcontour": [
           {
            "colorbar": {
             "outlinewidth": 0,
             "ticks": ""
            },
            "colorscale": [
             [
              0,
              "#0d0887"
             ],
             [
              0.1111111111111111,
              "#46039f"
             ],
             [
              0.2222222222222222,
              "#7201a8"
             ],
             [
              0.3333333333333333,
              "#9c179e"
             ],
             [
              0.4444444444444444,
              "#bd3786"
             ],
             [
              0.5555555555555556,
              "#d8576b"
             ],
             [
              0.6666666666666666,
              "#ed7953"
             ],
             [
              0.7777777777777778,
              "#fb9f3a"
             ],
             [
              0.8888888888888888,
              "#fdca26"
             ],
             [
              1,
              "#f0f921"
             ]
            ],
            "type": "histogram2dcontour"
           }
          ],
          "mesh3d": [
           {
            "colorbar": {
             "outlinewidth": 0,
             "ticks": ""
            },
            "type": "mesh3d"
           }
          ],
          "parcoords": [
           {
            "line": {
             "colorbar": {
              "outlinewidth": 0,
              "ticks": ""
             }
            },
            "type": "parcoords"
           }
          ],
          "pie": [
           {
            "automargin": true,
            "type": "pie"
           }
          ],
          "scatter": [
           {
            "marker": {
             "line": {
              "color": "#283442"
             }
            },
            "type": "scatter"
           }
          ],
          "scatter3d": [
           {
            "line": {
             "colorbar": {
              "outlinewidth": 0,
              "ticks": ""
             }
            },
            "marker": {
             "colorbar": {
              "outlinewidth": 0,
              "ticks": ""
             }
            },
            "type": "scatter3d"
           }
          ],
          "scattercarpet": [
           {
            "marker": {
             "colorbar": {
              "outlinewidth": 0,
              "ticks": ""
             }
            },
            "type": "scattercarpet"
           }
          ],
          "scattergeo": [
           {
            "marker": {
             "colorbar": {
              "outlinewidth": 0,
              "ticks": ""
             }
            },
            "type": "scattergeo"
           }
          ],
          "scattergl": [
           {
            "marker": {
             "line": {
              "color": "#283442"
             }
            },
            "type": "scattergl"
           }
          ],
          "scattermapbox": [
           {
            "marker": {
             "colorbar": {
              "outlinewidth": 0,
              "ticks": ""
             }
            },
            "type": "scattermapbox"
           }
          ],
          "scatterpolar": [
           {
            "marker": {
             "colorbar": {
              "outlinewidth": 0,
              "ticks": ""
             }
            },
            "type": "scatterpolar"
           }
          ],
          "scatterpolargl": [
           {
            "marker": {
             "colorbar": {
              "outlinewidth": 0,
              "ticks": ""
             }
            },
            "type": "scatterpolargl"
           }
          ],
          "scatterternary": [
           {
            "marker": {
             "colorbar": {
              "outlinewidth": 0,
              "ticks": ""
             }
            },
            "type": "scatterternary"
           }
          ],
          "surface": [
           {
            "colorbar": {
             "outlinewidth": 0,
             "ticks": ""
            },
            "colorscale": [
             [
              0,
              "#0d0887"
             ],
             [
              0.1111111111111111,
              "#46039f"
             ],
             [
              0.2222222222222222,
              "#7201a8"
             ],
             [
              0.3333333333333333,
              "#9c179e"
             ],
             [
              0.4444444444444444,
              "#bd3786"
             ],
             [
              0.5555555555555556,
              "#d8576b"
             ],
             [
              0.6666666666666666,
              "#ed7953"
             ],
             [
              0.7777777777777778,
              "#fb9f3a"
             ],
             [
              0.8888888888888888,
              "#fdca26"
             ],
             [
              1,
              "#f0f921"
             ]
            ],
            "type": "surface"
           }
          ],
          "table": [
           {
            "cells": {
             "fill": {
              "color": "#506784"
             },
             "line": {
              "color": "rgb(17,17,17)"
             }
            },
            "header": {
             "fill": {
              "color": "#2a3f5f"
             },
             "line": {
              "color": "rgb(17,17,17)"
             }
            },
            "type": "table"
           }
          ]
         },
         "layout": {
          "annotationdefaults": {
           "arrowcolor": "#f2f5fa",
           "arrowhead": 0,
           "arrowwidth": 1
          },
          "autotypenumbers": "strict",
          "coloraxis": {
           "colorbar": {
            "outlinewidth": 0,
            "ticks": ""
           }
          },
          "colorscale": {
           "diverging": [
            [
             0,
             "#8e0152"
            ],
            [
             0.1,
             "#c51b7d"
            ],
            [
             0.2,
             "#de77ae"
            ],
            [
             0.3,
             "#f1b6da"
            ],
            [
             0.4,
             "#fde0ef"
            ],
            [
             0.5,
             "#f7f7f7"
            ],
            [
             0.6,
             "#e6f5d0"
            ],
            [
             0.7,
             "#b8e186"
            ],
            [
             0.8,
             "#7fbc41"
            ],
            [
             0.9,
             "#4d9221"
            ],
            [
             1,
             "#276419"
            ]
           ],
           "sequential": [
            [
             0,
             "#0d0887"
            ],
            [
             0.1111111111111111,
             "#46039f"
            ],
            [
             0.2222222222222222,
             "#7201a8"
            ],
            [
             0.3333333333333333,
             "#9c179e"
            ],
            [
             0.4444444444444444,
             "#bd3786"
            ],
            [
             0.5555555555555556,
             "#d8576b"
            ],
            [
             0.6666666666666666,
             "#ed7953"
            ],
            [
             0.7777777777777778,
             "#fb9f3a"
            ],
            [
             0.8888888888888888,
             "#fdca26"
            ],
            [
             1,
             "#f0f921"
            ]
           ],
           "sequentialminus": [
            [
             0,
             "#0d0887"
            ],
            [
             0.1111111111111111,
             "#46039f"
            ],
            [
             0.2222222222222222,
             "#7201a8"
            ],
            [
             0.3333333333333333,
             "#9c179e"
            ],
            [
             0.4444444444444444,
             "#bd3786"
            ],
            [
             0.5555555555555556,
             "#d8576b"
            ],
            [
             0.6666666666666666,
             "#ed7953"
            ],
            [
             0.7777777777777778,
             "#fb9f3a"
            ],
            [
             0.8888888888888888,
             "#fdca26"
            ],
            [
             1,
             "#f0f921"
            ]
           ]
          },
          "colorway": [
           "#636efa",
           "#EF553B",
           "#00cc96",
           "#ab63fa",
           "#FFA15A",
           "#19d3f3",
           "#FF6692",
           "#B6E880",
           "#FF97FF",
           "#FECB52"
          ],
          "font": {
           "color": "#f2f5fa"
          },
          "geo": {
           "bgcolor": "rgb(17,17,17)",
           "lakecolor": "rgb(17,17,17)",
           "landcolor": "rgb(17,17,17)",
           "showlakes": true,
           "showland": true,
           "subunitcolor": "#506784"
          },
          "hoverlabel": {
           "align": "left"
          },
          "hovermode": "closest",
          "mapbox": {
           "style": "dark"
          },
          "paper_bgcolor": "rgb(17,17,17)",
          "plot_bgcolor": "rgb(17,17,17)",
          "polar": {
           "angularaxis": {
            "gridcolor": "#506784",
            "linecolor": "#506784",
            "ticks": ""
           },
           "bgcolor": "rgb(17,17,17)",
           "radialaxis": {
            "gridcolor": "#506784",
            "linecolor": "#506784",
            "ticks": ""
           }
          },
          "scene": {
           "xaxis": {
            "backgroundcolor": "rgb(17,17,17)",
            "gridcolor": "#506784",
            "gridwidth": 2,
            "linecolor": "#506784",
            "showbackground": true,
            "ticks": "",
            "zerolinecolor": "#C8D4E3"
           },
           "yaxis": {
            "backgroundcolor": "rgb(17,17,17)",
            "gridcolor": "#506784",
            "gridwidth": 2,
            "linecolor": "#506784",
            "showbackground": true,
            "ticks": "",
            "zerolinecolor": "#C8D4E3"
           },
           "zaxis": {
            "backgroundcolor": "rgb(17,17,17)",
            "gridcolor": "#506784",
            "gridwidth": 2,
            "linecolor": "#506784",
            "showbackground": true,
            "ticks": "",
            "zerolinecolor": "#C8D4E3"
           }
          },
          "shapedefaults": {
           "line": {
            "color": "#f2f5fa"
           }
          },
          "sliderdefaults": {
           "bgcolor": "#C8D4E3",
           "bordercolor": "rgb(17,17,17)",
           "borderwidth": 1,
           "tickwidth": 0
          },
          "ternary": {
           "aaxis": {
            "gridcolor": "#506784",
            "linecolor": "#506784",
            "ticks": ""
           },
           "baxis": {
            "gridcolor": "#506784",
            "linecolor": "#506784",
            "ticks": ""
           },
           "bgcolor": "rgb(17,17,17)",
           "caxis": {
            "gridcolor": "#506784",
            "linecolor": "#506784",
            "ticks": ""
           }
          },
          "title": {
           "x": 0.05
          },
          "updatemenudefaults": {
           "bgcolor": "#506784",
           "borderwidth": 0
          },
          "xaxis": {
           "automargin": true,
           "gridcolor": "#283442",
           "linecolor": "#506784",
           "ticks": "",
           "title": {
            "standoff": 15
           },
           "zerolinecolor": "#283442",
           "zerolinewidth": 2
          },
          "yaxis": {
           "automargin": true,
           "gridcolor": "#283442",
           "linecolor": "#506784",
           "ticks": "",
           "title": {
            "standoff": 15
           },
           "zerolinecolor": "#283442",
           "zerolinewidth": 2
          }
         }
        },
        "title": {
         "text": "Trust vs time to first food"
        },
        "xaxis": {
         "anchor": "y",
         "domain": [
          0,
          1
         ],
         "title": {
          "text": "c_trust_jittered"
         }
        },
        "yaxis": {
         "anchor": "x",
         "domain": [
          0,
          1
         ],
         "title": {
          "text": "time to first food"
         }
        }
       }
      }
     },
     "metadata": {},
     "output_type": "display_data"
    }
   ],
   "source": [
    "# note that initially the utility of communicating grows faster\n",
    "jitter = 0.01\n",
    "impactDF[\"c_trust_jittered\"] = impactDF[\"c_trust\"] + np.random.uniform(\n",
    "    -jitter, jitter, len(impactDF)\n",
    ")\n",
    "\n",
    "\n",
    "fig = px.scatter(\n",
    "    impactDF,\n",
    "    x=\"c_trust_jittered\",\n",
    "    y=\"time to first food\",\n",
    "    color=\"reward_patch_dim\",\n",
    "    template=\"plotly_dark\",\n",
    "    title=\"Trust vs time to first food\",\n",
    "    trendline=\"lowess\",\n",
    ")\n",
    "\n",
    "fig.update_traces({\"marker\": {\"size\": 5, \"opacity\": 0.5}})\n",
    "\n",
    "fig.show()\n"
   ]
  },
  {
   "cell_type": "code",
   "execution_count": 19,
   "metadata": {},
   "outputs": [
    {
     "data": {
      "application/vnd.plotly.v1+json": {
       "config": {
        "plotlyServerURL": "https://plot.ly"
       },
       "data": [
        {
         "hovertemplate": "c_trust_jittered=%{x}<br>time to first food=%{y}<br>reward_patch_dim=%{marker.color}<extra></extra>",
         "legendgroup": "",
         "marker": {
          "color": [
           1,
           1,
           1,
           1,
           2,
           2,
           2,
           2,
           3,
           3,
           3,
           3,
           4,
           4,
           4,
           4,
           5,
           5,
           5,
           5,
           1,
           1,
           1,
           1,
           2,
           2,
           2,
           2,
           3,
           3,
           3,
           3,
           4,
           4,
           4,
           4,
           5,
           5,
           5,
           5,
           1,
           1,
           1,
           1,
           2,
           2,
           2,
           2,
           3,
           3,
           3,
           3,
           4,
           4,
           4,
           4,
           5,
           5,
           5,
           5,
           1,
           1,
           1,
           1,
           2,
           2,
           2,
           2,
           3,
           3,
           3,
           3,
           4,
           4,
           4,
           4,
           5,
           5,
           5,
           5,
           1,
           1,
           1,
           1,
           2,
           2,
           2,
           2,
           3,
           3,
           3,
           3,
           4,
           4,
           4,
           4,
           5,
           5,
           5,
           5,
           1,
           1,
           1,
           1,
           2,
           2,
           2,
           2,
           3,
           3,
           3,
           3,
           4,
           4,
           4,
           4,
           5,
           5,
           5,
           5,
           1,
           1,
           1,
           1,
           2,
           2,
           2,
           2,
           3,
           3,
           3,
           3,
           4,
           4,
           4,
           4,
           5,
           5,
           5,
           5,
           1,
           1,
           1,
           1,
           2,
           2,
           2,
           2,
           3,
           3,
           3,
           3,
           4,
           4,
           4,
           4,
           5,
           5,
           5,
           5,
           1,
           1,
           1,
           1,
           2,
           2,
           2,
           2,
           3,
           3,
           3,
           3,
           4,
           4,
           4,
           4,
           5,
           5,
           5,
           5,
           1,
           1,
           1,
           1,
           2,
           2,
           2,
           2,
           3,
           3,
           3,
           3,
           4,
           4,
           4,
           4,
           5,
           5,
           5,
           5,
           1,
           1,
           1,
           1,
           2,
           2,
           2,
           2,
           3,
           3,
           3,
           3,
           4,
           4,
           4,
           4,
           5,
           5,
           5,
           5,
           1,
           1,
           1,
           1,
           2,
           2,
           2,
           2,
           3,
           3,
           3,
           3,
           4,
           4,
           4,
           4,
           5,
           5,
           5,
           5,
           1,
           1,
           1,
           1,
           2,
           2,
           2,
           2,
           3,
           3,
           3,
           3,
           4,
           4,
           4,
           4,
           5,
           5,
           5,
           5,
           1,
           1,
           1,
           1,
           2,
           2,
           2,
           2,
           3,
           3,
           3,
           3,
           4,
           4,
           4,
           4,
           5,
           5,
           5,
           5,
           1,
           1,
           1,
           1,
           2,
           2,
           2,
           2,
           3,
           3,
           3,
           3,
           4,
           4,
           4,
           4,
           5,
           5,
           5,
           5,
           1,
           1,
           1,
           1,
           2,
           2,
           2,
           2,
           3,
           3,
           3,
           3,
           4,
           4,
           4,
           4,
           5,
           5,
           5,
           5,
           1,
           1,
           1,
           1,
           2,
           2,
           2,
           2,
           3,
           3,
           3,
           3,
           4,
           4,
           4,
           4,
           5,
           5,
           5,
           5,
           1,
           1,
           1,
           1,
           2,
           2,
           2,
           2,
           3,
           3,
           3,
           3,
           4,
           4,
           4,
           4,
           5,
           5,
           5,
           5,
           1,
           1,
           1,
           1,
           2,
           2,
           2,
           2,
           3,
           3,
           3,
           3,
           4,
           4,
           4,
           4,
           5,
           5,
           5,
           5,
           1,
           1,
           1,
           1,
           2,
           2,
           2,
           2,
           3,
           3,
           3,
           3,
           4,
           4,
           4,
           4,
           5,
           5,
           5,
           5,
           1,
           1,
           1,
           1,
           2,
           2,
           2,
           2,
           3,
           3,
           3,
           3,
           4,
           4,
           4,
           4,
           5,
           5,
           5,
           5
          ],
          "coloraxis": "coloraxis",
          "opacity": 0.5,
          "size": 5,
          "symbol": "circle"
         },
         "mode": "markers",
         "name": "",
         "orientation": "v",
         "showlegend": false,
         "type": "scatter",
         "x": [
          -0.009969625757801115,
          -0.004944194122942756,
          -0.0005790964374623227,
          0.003252971740298845,
          0.0032409404658284117,
          0.009390793350857957,
          0.0053606889966986634,
          0.002512450656483931,
          0.00018926724710134797,
          -0.00920275382875133,
          -0.004083946374679566,
          0.008317618775046309,
          -0.006581058608075894,
          0.0010854259405360007,
          -0.00408195624383169,
          -0.0034273116297135033,
          0.0034462926655301814,
          -0.0051701669917787975,
          -0.002381210667174391,
          -0.0016340242904755737,
          0.05681238253004531,
          0.05884651036517396,
          0.05515693412394598,
          0.05181098342579014,
          0.058289063203121154,
          0.0481595536544416,
          0.04760581969281492,
          0.042541991176721056,
          0.04378124566908839,
          0.04150149639478316,
          0.053697831075386615,
          0.05676318253662479,
          0.04748935301403533,
          0.05963503785170778,
          0.05422831742037548,
          0.05998726853751972,
          0.04506841565642306,
          0.05085317324200141,
          0.05402099305820811,
          0.041482089650390186,
          0.10683173637896153,
          0.10595799133342873,
          0.0933026164075655,
          0.09773390359109574,
          0.09587668853666786,
          0.09512164195515516,
          0.1037905095485614,
          0.09259077781610499,
          0.0930143085514178,
          0.09717279119488942,
          0.10409526964730773,
          0.10900135957812088,
          0.09611741098312342,
          0.105664162744593,
          0.09717456368122403,
          0.09556144104817932,
          0.10455880846098084,
          0.10016746953595881,
          0.10340367518918908,
          0.106794294975156,
          0.14861752984416393,
          0.14750672586716387,
          0.15545965422109603,
          0.14408805914009534,
          0.15985301293876686,
          0.14582466339381916,
          0.15101864689800443,
          0.14891339338703038,
          0.15074478215760884,
          0.14653214908754925,
          0.14621409241859248,
          0.1475972281823919,
          0.14388694883885128,
          0.15626385988976765,
          0.15371593693376856,
          0.1566508595824949,
          0.14306086312312297,
          0.1439046349183264,
          0.14400952991033408,
          0.14659633493417545,
          0.19385578820576516,
          0.19667592043640356,
          0.20108069472618054,
          0.20101651295571288,
          0.197670692723794,
          0.205791875082106,
          0.2049055376464021,
          0.1965632982421507,
          0.1900762781673187,
          0.1941975606459785,
          0.20018430628315642,
          0.20722985953031473,
          0.19814163288157322,
          0.19206219279294215,
          0.20358135635054805,
          0.20054361004170032,
          0.1925757288547434,
          0.20668147759020414,
          0.19788605130142228,
          0.19616540626828696,
          0.24935777327874842,
          0.2550556837451859,
          0.2536978170627803,
          0.24323483951748573,
          0.24953956789398163,
          0.25385223583919414,
          0.2520246024926468,
          0.2412000110391179,
          0.2558647912217117,
          0.2513187178856926,
          0.25454718005255006,
          0.25722181897165536,
          0.24668510615709927,
          0.2574965801107881,
          0.2544840128837852,
          0.25365669495054305,
          0.2583353318713162,
          0.24288142250667272,
          0.24511193147684499,
          0.2568379982539935,
          0.2965192137767598,
          0.30300782556886635,
          0.30242599514438956,
          0.2996275670681115,
          0.2938287142528313,
          0.3028568042578611,
          0.3021890613106365,
          0.30798103847216296,
          0.30159070050391956,
          0.29320872002283754,
          0.30307303133940977,
          0.2970808141020267,
          0.2962044100061925,
          0.3079467105584891,
          0.2949757525530672,
          0.3055099939827719,
          0.3093402021815271,
          0.2987916857238238,
          0.293340366797605,
          0.29704537734322783,
          0.3417621853732578,
          0.35856192022255423,
          0.3434912270917094,
          0.3595623151443776,
          0.3523358975817719,
          0.35783651981280573,
          0.3542834398620669,
          0.35069160945510275,
          0.34753613162919966,
          0.3517274534182245,
          0.3544061045650774,
          0.353800540670663,
          0.34598486774595905,
          0.3496418819362267,
          0.3566021141114097,
          0.3494572755097774,
          0.34990508983501045,
          0.3474655136060842,
          0.3402980474644892,
          0.34171053520561906,
          0.4030373635651305,
          0.3930600157681859,
          0.3959347122088956,
          0.4070986528484287,
          0.4082805595981729,
          0.39577298449354664,
          0.39126440828173076,
          0.400980875673985,
          0.3991961913872427,
          0.39908804859078684,
          0.40022719489694836,
          0.40563672769839765,
          0.40694285218428944,
          0.39201428435367247,
          0.3985454837941857,
          0.3951661577282004,
          0.40159971421904367,
          0.3903127330647603,
          0.3957285266491855,
          0.39143655388833765,
          0.45833455849430366,
          0.45456468843367603,
          0.4471823058496084,
          0.4582432337430164,
          0.45389460102478557,
          0.45537228963063375,
          0.4446978682624063,
          0.44560195318379164,
          0.45052752242798666,
          0.4428533517984395,
          0.4444228158167127,
          0.4565434792299323,
          0.45880693511798026,
          0.4490975094233512,
          0.44549310772724043,
          0.4582528889805812,
          0.45245237262925975,
          0.45370605449252094,
          0.4514219140679462,
          0.44535542896103186,
          0.4982194910172072,
          0.50697630255029,
          0.4944490466774934,
          0.49142208771546014,
          0.5077563037678754,
          0.49869506118405227,
          0.5077178953610276,
          0.5001179514432458,
          0.5058887202156748,
          0.49003064940128443,
          0.5051063559378068,
          0.49939530220355954,
          0.5083282884515969,
          0.5074542587493737,
          0.4945694485941631,
          0.4992361347331426,
          0.49488363024452364,
          0.499830514831266,
          0.5066703226637891,
          0.4988422041510008,
          0.5588503816623218,
          0.5453076007301972,
          0.5474532371892451,
          0.5518902048368854,
          0.5454225870119147,
          0.5539966851349797,
          0.5421894174641851,
          0.5536469312262651,
          0.5454679147601807,
          0.5543222659375462,
          0.5507813535040492,
          0.5448652878768931,
          0.540791211398644,
          0.5554004322928454,
          0.5429479138394925,
          0.55612497803389,
          0.5543154288051129,
          0.5569625553249351,
          0.5568093430503516,
          0.5404386291199302,
          0.6093456038646994,
          0.6093444550232446,
          0.5989953483379351,
          0.5967290994087243,
          0.606288616162232,
          0.6030044516103483,
          0.5947048462978558,
          0.6073341798683024,
          0.6052122048543043,
          0.597574933977687,
          0.6073940788196399,
          0.6036235226217775,
          0.6098810559525103,
          0.5971056952094121,
          0.5964754573031831,
          0.598245109598831,
          0.5921385033884824,
          0.6062495474872629,
          0.5960018704712744,
          0.6055755277724163,
          0.6481222118112628,
          0.6596082277435206,
          0.6527356175798845,
          0.6441891265077586,
          0.646808908344566,
          0.6402705762224992,
          0.6488108644793089,
          0.6580178442773514,
          0.6597087857662871,
          0.6426191951726498,
          0.6572484121916017,
          0.6534691013462386,
          0.6539676988483543,
          0.6435991110286754,
          0.647709946296436,
          0.6508644499400469,
          0.6569369002305729,
          0.6423276158637061,
          0.6526596033855889,
          0.6448487043894955,
          0.6984934258432561,
          0.7064045257695469,
          0.69413940616884,
          0.7083675908304656,
          0.6915439586587716,
          0.6958385797019577,
          0.7067039117455746,
          0.7024982641545587,
          0.7070970130270255,
          0.7050716828867906,
          0.6903697361628423,
          0.6923214622549295,
          0.6954387874600293,
          0.7025835153972825,
          0.6975423304557471,
          0.7046901074178482,
          0.7008307104511818,
          0.6943927391612031,
          0.6988732835235394,
          0.7009420281639229,
          0.7549789183995246,
          0.7489735944136177,
          0.7559516712403159,
          0.7483675372701922,
          0.7555932774440048,
          0.741069970294478,
          0.7497298442523056,
          0.7488750404657694,
          0.7548053774067203,
          0.7508074091710065,
          0.7596523943218745,
          0.7523319981978398,
          0.7481868780201915,
          0.7593139065615863,
          0.7471824366733574,
          0.7465874684458158,
          0.7519508605823282,
          0.7403733569323022,
          0.7585374445209899,
          0.7524953809755268,
          0.7922922069724054,
          0.8099630357428003,
          0.7915205940584836,
          0.802550607634293,
          0.7928300846095141,
          0.8009355400242026,
          0.8027590583072831,
          0.8073205337534599,
          0.7931707940245789,
          0.7963965114575156,
          0.806827515288635,
          0.80655718807846,
          0.8071611512268256,
          0.7932351578381316,
          0.7920160124696941,
          0.7902798673086412,
          0.8075871060018719,
          0.8037503427426272,
          0.7922393314873026,
          0.7901096569234815,
          0.8504729123469128,
          0.8595928098626907,
          0.8508778595993645,
          0.8576081290655826,
          0.8407021645025358,
          0.858116058940048,
          0.846015254660098,
          0.8542310903246454,
          0.8432118612168101,
          0.8464746085372657,
          0.8486575422501904,
          0.8596589509661562,
          0.8500852744613826,
          0.8539501671804948,
          0.8408652060059743,
          0.8531420127992487,
          0.8413645751890443,
          0.8412515596239194,
          0.8462607745626957,
          0.8549957548632063,
          0.909621408730236,
          0.9023738608361581,
          0.9077143663852536,
          0.9073084912689492,
          0.9021731311319932,
          0.9022423277273289,
          0.8923364240400186,
          0.8931771781852974,
          0.8925825598348034,
          0.9002602263369016,
          0.9029100088790747,
          0.903568587225066,
          0.8963686635664362,
          0.9046835864729561,
          0.8952287299089956,
          0.9038060140609432,
          0.9053882700472823,
          0.906697978830462,
          0.890977645073005,
          0.896512738673635,
          0.9440862509843232,
          0.9509837421252855,
          0.9511689505693317,
          0.946893011641558,
          0.9513139011008551,
          0.9593524475084466,
          0.9431073273296299,
          0.9510615963647395,
          0.9529982507407964,
          0.9545717589922667,
          0.947725923723733,
          0.9510929692744003,
          0.9475751987313247,
          0.9462303695618709,
          0.9448884779125827,
          0.9594642703863833,
          0.9473597920841521,
          0.955630201309466,
          0.9549784147682034,
          0.9502682555110243,
          1.0079517108883442,
          0.9990092088462144,
          1.0091485415554222,
          0.9919246400358378,
          0.9901013364859743,
          1.008908867304216,
          1.009907158093765,
          0.9965120425202276,
          1.008504030951314,
          0.9998805961593955,
          1.0012932304479123,
          0.9901047726002619,
          1.00742399638558,
          1.0077927727172897,
          1.0041637474071483,
          1.007714426669212,
          0.9937558563698928,
          1.0007653080817969,
          0.9925628084214292,
          1.0062142396820664
         ],
         "xaxis": "x",
         "y": [
          14.666666666666666,
          14,
          4.888888888888889,
          2.555555555555556,
          7.888888888888889,
          19.11111111111111,
          22.22222222222222,
          28.22222222222222,
          7.555555555555555,
          16.666666666666668,
          34,
          13.22222222222222,
          25.666666666666668,
          32.888888888888886,
          24.55555555555556,
          24.88888888888889,
          31.11111111111111,
          34.77777777777778,
          27.55555555555556,
          31.33333333333333,
          1.8888888888888888,
          2.7777777777777777,
          4.333333333333333,
          3.7777777777777777,
          7.222222222222222,
          2.333333333333333,
          8.222222222222221,
          4.777777777777778,
          16.11111111111111,
          19.11111111111111,
          4.555555555555555,
          10.666666666666666,
          9.88888888888889,
          23,
          7.555555555555555,
          8.222222222222221,
          4,
          6.333333333333333,
          5.333333333333333,
          16.88888888888889,
          2.4444444444444446,
          1.8888888888888888,
          1.8888888888888888,
          2,
          3.4444444444444446,
          6.444444444444445,
          3.6666666666666665,
          11.555555555555555,
          5.888888888888889,
          6.111111111111111,
          3.333333333333333,
          11.333333333333334,
          9.77777777777778,
          26,
          4.555555555555555,
          13.22222222222222,
          4,
          8.11111111111111,
          3.555555555555556,
          7.222222222222222,
          7.666666666666667,
          6.888888888888889,
          3.4444444444444446,
          2.555555555555556,
          13.555555555555555,
          6.222222222222222,
          2.7777777777777777,
          4.777777777777778,
          8.11111111111111,
          5.777777777777778,
          5.111111111111111,
          4,
          6.777777777777778,
          8.444444444444445,
          3.4444444444444446,
          24,
          6.111111111111111,
          6.111111111111111,
          16.666666666666668,
          8.222222222222221,
          4.888888888888889,
          2,
          2.4444444444444446,
          7.555555555555555,
          3.7777777777777777,
          3.888888888888889,
          4.777777777777778,
          4.444444444444445,
          4.555555555555555,
          4.666666666666667,
          6.888888888888889,
          3.333333333333333,
          3.333333333333333,
          10.555555555555555,
          5.444444444444445,
          3.333333333333333,
          3.2222222222222223,
          3.111111111111111,
          6.222222222222222,
          4.888888888888889,
          2.111111111111111,
          2.888888888888889,
          2.2222222222222223,
          3,
          5.555555555555555,
          2.888888888888889,
          3.555555555555556,
          3.111111111111111,
          3,
          3.555555555555556,
          4,
          8,
          6.555555555555555,
          7.222222222222222,
          4.555555555555555,
          5.222222222222222,
          7.222222222222222,
          4.777777777777778,
          13.444444444444445,
          4.111111111111111,
          2.2222222222222223,
          2.555555555555556,
          2.333333333333333,
          1.7777777777777777,
          4.666666666666667,
          2.333333333333333,
          6.555555555555555,
          3.888888888888889,
          4,
          3.555555555555556,
          5.666666666666667,
          4.111111111111111,
          5.444444444444445,
          6.333333333333333,
          7.222222222222222,
          5.666666666666667,
          6,
          4.333333333333333,
          6.333333333333333,
          3.7777777777777777,
          1.8888888888888888,
          2.2222222222222223,
          1.6666666666666667,
          1.7777777777777777,
          4.111111111111111,
          2.555555555555556,
          3.6666666666666665,
          6.111111111111111,
          4.666666666666667,
          4.111111111111111,
          6.666666666666667,
          2.888888888888889,
          2.888888888888889,
          6.111111111111111,
          8.666666666666666,
          7.555555555555555,
          11.11111111111111,
          12.333333333333334,
          22.22222222222222,
          3,
          3,
          2,
          1.6666666666666667,
          1.7777777777777777,
          7,
          3.333333333333333,
          3.7777777777777777,
          4.111111111111111,
          4.333333333333333,
          5,
          3.555555555555556,
          3.7777777777777777,
          10.444444444444445,
          5.444444444444445,
          5.444444444444445,
          48.11111111111112,
          12.88888888888889,
          7.222222222222222,
          11.666666666666666,
          4.666666666666667,
          3.333333333333333,
          1.5555555555555556,
          2,
          2,
          4.444444444444445,
          4.333333333333333,
          3.7777777777777777,
          3.2222222222222223,
          4.888888888888889,
          8.333333333333334,
          4.666666666666667,
          3.111111111111111,
          8,
          5.888888888888889,
          8,
          4.777777777777778,
          7.333333333333333,
          15.444444444444445,
          9.88888888888889,
          3.333333333333333,
          2.6666666666666665,
          6.888888888888889,
          1.3333333333333333,
          1.6666666666666667,
          2.888888888888889,
          3.111111111111111,
          3.111111111111111,
          3.111111111111111,
          4.666666666666667,
          4.777777777777778,
          6.444444444444445,
          5,
          6.555555555555555,
          7,
          4.222222222222222,
          14.77777777777778,
          3.888888888888889,
          4.666666666666667,
          41.888888888888886,
          7.222222222222222,
          1.8888888888888888,
          1.6666666666666667,
          3.333333333333333,
          6.777777777777778,
          5.888888888888889,
          3.6666666666666665,
          3.888888888888889,
          3.6666666666666665,
          3.7777777777777777,
          3.555555555555556,
          7.888888888888889,
          4,
          10,
          6.444444444444445,
          13.333333333333334,
          6.333333333333333,
          4,
          7.111111111111111,
          7.333333333333333,
          4.777777777777778,
          1.3333333333333333,
          1.4444444444444444,
          3.888888888888889,
          2.111111111111111,
          7.444444444444445,
          3.6666666666666665,
          2.6666666666666665,
          5.222222222222222,
          5.666666666666667,
          2.555555555555556,
          4,
          2.6666666666666665,
          11.555555555555555,
          14,
          8.222222222222221,
          30,
          50,
          5.888888888888889,
          3.555555555555556,
          11.555555555555555,
          3.4444444444444446,
          1.8888888888888888,
          5.555555555555555,
          2.6666666666666665,
          9.88888888888889,
          2.6666666666666665,
          3.2222222222222223,
          3.555555555555556,
          3,
          4.111111111111111,
          5,
          5.666666666666667,
          6.888888888888889,
          14.555555555555555,
          5.555555555555555,
          8.333333333333334,
          6,
          3.6666666666666665,
          12.444444444444445,
          13.22222222222222,
          1.4444444444444444,
          1.7777777777777777,
          7.111111111111111,
          1.7777777777777777,
          5.555555555555555,
          5.333333333333333,
          3,
          2.333333333333333,
          6.444444444444445,
          2.6666666666666665,
          5,
          5.222222222222222,
          5.888888888888889,
          4.666666666666667,
          8.555555555555555,
          5.777777777777778,
          3.888888888888889,
          13.22222222222222,
          11.555555555555555,
          2.6666666666666665,
          3.2222222222222223,
          1.8888888888888888,
          1.7777777777777777,
          2.2222222222222223,
          3.111111111111111,
          3.6666666666666665,
          5.444444444444445,
          3,
          7.222222222222222,
          4.888888888888889,
          2.2222222222222223,
          9.88888888888889,
          3.2222222222222223,
          13.666666666666666,
          5.222222222222222,
          7.777777777777778,
          5.777777777777778,
          5.888888888888889,
          5.777777777777778,
          10.333333333333334,
          1.7777777777777777,
          1.4444444444444444,
          1.8888888888888888,
          1.8888888888888888,
          6.111111111111111,
          16.555555555555557,
          8,
          4.333333333333333,
          4.333333333333333,
          6.222222222222222,
          4.222222222222222,
          5.555555555555555,
          5.444444444444445,
          6.111111111111111,
          3.7777777777777777,
          9.22222222222222,
          9,
          4.222222222222222,
          4.444444444444445,
          3.333333333333333,
          2.111111111111111,
          2,
          2,
          2.4444444444444446,
          24.55555555555556,
          4.888888888888889,
          5.444444444444445,
          3,
          8.555555555555555,
          3.6666666666666665,
          6.444444444444445,
          4.444444444444445,
          9.444444444444445,
          4.444444444444445,
          4.555555555555555,
          8.88888888888889,
          4.888888888888889,
          6.777777777777778,
          4.333333333333333,
          3.888888888888889,
          3.333333333333333,
          1.4444444444444444,
          2.111111111111111,
          2.2222222222222223,
          3.7777777777777777,
          2.4444444444444446,
          3.333333333333333,
          2.4444444444444446,
          7.333333333333333,
          4.555555555555555,
          8.333333333333334,
          6.666666666666667,
          11.555555555555555,
          5.222222222222222,
          4.111111111111111,
          5.888888888888889,
          3.4444444444444446,
          15.555555555555555,
          4.333333333333333,
          6,
          3.555555555555556,
          2.7777777777777777,
          2.333333333333333,
          2.2222222222222223,
          3.7777777777777777,
          4.222222222222222,
          5.111111111111111,
          2.111111111111111,
          5.555555555555555,
          4.333333333333333,
          3.2222222222222223,
          4.333333333333333,
          10.88888888888889,
          4.111111111111111,
          19.11111111111111,
          10.22222222222222,
          9.11111111111111,
          4.777777777777778,
          4.444444444444445,
          4.777777777777778,
          26.55555555555556,
          27.666666666666668,
          19.444444444444443,
          19.11111111111111,
          23.22222222222222,
          25.33333333333333,
          12.77777777777778,
          42.333333333333336,
          39.333333333333336,
          22,
          20.444444444444443,
          45.66666666666666,
          10.22222222222222,
          6.777777777777778,
          30.33333333333333,
          8.444444444444445,
          3.555555555555556,
          6.111111111111111,
          7.333333333333333,
          45.44444444444444
         ],
         "yaxis": "y"
        },
        {
         "hovertemplate": "<b>LOWESS trendline</b><br><br>c_trust_jittered=%{x}<br>time to first food=%{y} <b>(trend)</b><extra></extra>",
         "legendgroup": "",
         "marker": {
          "opacity": 0.5,
          "size": 5,
          "symbol": "circle"
         },
         "mode": "lines",
         "name": "",
         "showlegend": false,
         "type": "scatter",
         "x": [
          -0.009969625757801115,
          -0.00920275382875133,
          -0.006581058608075894,
          -0.0051701669917787975,
          -0.004944194122942756,
          -0.004083946374679566,
          -0.00408195624383169,
          -0.0034273116297135033,
          -0.002381210667174391,
          -0.0016340242904755737,
          -0.0005790964374623227,
          0.00018926724710134797,
          0.0010854259405360007,
          0.002512450656483931,
          0.0032409404658284117,
          0.003252971740298845,
          0.0034462926655301814,
          0.0053606889966986634,
          0.008317618775046309,
          0.009390793350857957,
          0.041482089650390186,
          0.04150149639478316,
          0.042541991176721056,
          0.04378124566908839,
          0.04506841565642306,
          0.04748935301403533,
          0.04760581969281492,
          0.0481595536544416,
          0.05085317324200141,
          0.05181098342579014,
          0.053697831075386615,
          0.05402099305820811,
          0.05422831742037548,
          0.05515693412394598,
          0.05676318253662479,
          0.05681238253004531,
          0.058289063203121154,
          0.05884651036517396,
          0.05963503785170778,
          0.05998726853751972,
          0.09259077781610499,
          0.0930143085514178,
          0.0933026164075655,
          0.09512164195515516,
          0.09556144104817932,
          0.09587668853666786,
          0.09611741098312342,
          0.09717279119488942,
          0.09717456368122403,
          0.09773390359109574,
          0.10016746953595881,
          0.10340367518918908,
          0.1037905095485614,
          0.10409526964730773,
          0.10455880846098084,
          0.105664162744593,
          0.10595799133342873,
          0.106794294975156,
          0.10683173637896153,
          0.10900135957812088,
          0.14306086312312297,
          0.14388694883885128,
          0.1439046349183264,
          0.14400952991033408,
          0.14408805914009534,
          0.14582466339381916,
          0.14621409241859248,
          0.14653214908754925,
          0.14659633493417545,
          0.14750672586716387,
          0.1475972281823919,
          0.14861752984416393,
          0.14891339338703038,
          0.15074478215760884,
          0.15101864689800443,
          0.15371593693376856,
          0.15545965422109603,
          0.15626385988976765,
          0.1566508595824949,
          0.15985301293876686,
          0.1900762781673187,
          0.19206219279294215,
          0.1925757288547434,
          0.19385578820576516,
          0.1941975606459785,
          0.19616540626828696,
          0.1965632982421507,
          0.19667592043640356,
          0.197670692723794,
          0.19788605130142228,
          0.19814163288157322,
          0.20018430628315642,
          0.20054361004170032,
          0.20101651295571288,
          0.20108069472618054,
          0.20358135635054805,
          0.2049055376464021,
          0.205791875082106,
          0.20668147759020414,
          0.20722985953031473,
          0.2412000110391179,
          0.24288142250667272,
          0.24323483951748573,
          0.24511193147684499,
          0.24668510615709927,
          0.24935777327874842,
          0.24953956789398163,
          0.2513187178856926,
          0.2520246024926468,
          0.25365669495054305,
          0.2536978170627803,
          0.25385223583919414,
          0.2544840128837852,
          0.25454718005255006,
          0.2550556837451859,
          0.2558647912217117,
          0.2568379982539935,
          0.25722181897165536,
          0.2574965801107881,
          0.2583353318713162,
          0.29320872002283754,
          0.293340366797605,
          0.2938287142528313,
          0.2949757525530672,
          0.2962044100061925,
          0.2965192137767598,
          0.29704537734322783,
          0.2970808141020267,
          0.2987916857238238,
          0.2996275670681115,
          0.30159070050391956,
          0.3021890613106365,
          0.30242599514438956,
          0.3028568042578611,
          0.30300782556886635,
          0.30307303133940977,
          0.3055099939827719,
          0.3079467105584891,
          0.30798103847216296,
          0.3093402021815271,
          0.3402980474644892,
          0.34171053520561906,
          0.3417621853732578,
          0.3434912270917094,
          0.34598486774595905,
          0.3474655136060842,
          0.34753613162919966,
          0.3494572755097774,
          0.3496418819362267,
          0.34990508983501045,
          0.35069160945510275,
          0.3517274534182245,
          0.3523358975817719,
          0.353800540670663,
          0.3542834398620669,
          0.3544061045650774,
          0.3566021141114097,
          0.35783651981280573,
          0.35856192022255423,
          0.3595623151443776,
          0.3903127330647603,
          0.39126440828173076,
          0.39143655388833765,
          0.39201428435367247,
          0.3930600157681859,
          0.3951661577282004,
          0.3957285266491855,
          0.39577298449354664,
          0.3959347122088956,
          0.3985454837941857,
          0.39908804859078684,
          0.3991961913872427,
          0.40022719489694836,
          0.400980875673985,
          0.40159971421904367,
          0.4030373635651305,
          0.40563672769839765,
          0.40694285218428944,
          0.4070986528484287,
          0.4082805595981729,
          0.4428533517984395,
          0.4444228158167127,
          0.4446978682624063,
          0.44535542896103186,
          0.44549310772724043,
          0.44560195318379164,
          0.4471823058496084,
          0.4490975094233512,
          0.45052752242798666,
          0.4514219140679462,
          0.45245237262925975,
          0.45370605449252094,
          0.45389460102478557,
          0.45456468843367603,
          0.45537228963063375,
          0.4565434792299323,
          0.4582432337430164,
          0.4582528889805812,
          0.45833455849430366,
          0.45880693511798026,
          0.49003064940128443,
          0.49142208771546014,
          0.4944490466774934,
          0.4945694485941631,
          0.49488363024452364,
          0.4982194910172072,
          0.49869506118405227,
          0.4988422041510008,
          0.4992361347331426,
          0.49939530220355954,
          0.499830514831266,
          0.5001179514432458,
          0.5051063559378068,
          0.5058887202156748,
          0.5066703226637891,
          0.50697630255029,
          0.5074542587493737,
          0.5077178953610276,
          0.5077563037678754,
          0.5083282884515969,
          0.5404386291199302,
          0.540791211398644,
          0.5421894174641851,
          0.5429479138394925,
          0.5448652878768931,
          0.5453076007301972,
          0.5454225870119147,
          0.5454679147601807,
          0.5474532371892451,
          0.5507813535040492,
          0.5518902048368854,
          0.5536469312262651,
          0.5539966851349797,
          0.5543154288051129,
          0.5543222659375462,
          0.5554004322928454,
          0.55612497803389,
          0.5568093430503516,
          0.5569625553249351,
          0.5588503816623218,
          0.5921385033884824,
          0.5947048462978558,
          0.5960018704712744,
          0.5964754573031831,
          0.5967290994087243,
          0.5971056952094121,
          0.597574933977687,
          0.598245109598831,
          0.5989953483379351,
          0.6030044516103483,
          0.6036235226217775,
          0.6052122048543043,
          0.6055755277724163,
          0.6062495474872629,
          0.606288616162232,
          0.6073341798683024,
          0.6073940788196399,
          0.6093444550232446,
          0.6093456038646994,
          0.6098810559525103,
          0.6402705762224992,
          0.6423276158637061,
          0.6426191951726498,
          0.6435991110286754,
          0.6441891265077586,
          0.6448487043894955,
          0.646808908344566,
          0.647709946296436,
          0.6481222118112628,
          0.6488108644793089,
          0.6508644499400469,
          0.6526596033855889,
          0.6527356175798845,
          0.6534691013462386,
          0.6539676988483543,
          0.6569369002305729,
          0.6572484121916017,
          0.6580178442773514,
          0.6596082277435206,
          0.6597087857662871,
          0.6903697361628423,
          0.6915439586587716,
          0.6923214622549295,
          0.69413940616884,
          0.6943927391612031,
          0.6954387874600293,
          0.6958385797019577,
          0.6975423304557471,
          0.6984934258432561,
          0.6988732835235394,
          0.7008307104511818,
          0.7009420281639229,
          0.7024982641545587,
          0.7025835153972825,
          0.7046901074178482,
          0.7050716828867906,
          0.7064045257695469,
          0.7067039117455746,
          0.7070970130270255,
          0.7083675908304656,
          0.7403733569323022,
          0.741069970294478,
          0.7465874684458158,
          0.7471824366733574,
          0.7481868780201915,
          0.7483675372701922,
          0.7488750404657694,
          0.7489735944136177,
          0.7497298442523056,
          0.7508074091710065,
          0.7519508605823282,
          0.7523319981978398,
          0.7524953809755268,
          0.7548053774067203,
          0.7549789183995246,
          0.7555932774440048,
          0.7559516712403159,
          0.7585374445209899,
          0.7593139065615863,
          0.7596523943218745,
          0.7901096569234815,
          0.7902798673086412,
          0.7915205940584836,
          0.7920160124696941,
          0.7922393314873026,
          0.7922922069724054,
          0.7928300846095141,
          0.7931707940245789,
          0.7932351578381316,
          0.7963965114575156,
          0.8009355400242026,
          0.802550607634293,
          0.8027590583072831,
          0.8037503427426272,
          0.80655718807846,
          0.806827515288635,
          0.8071611512268256,
          0.8073205337534599,
          0.8075871060018719,
          0.8099630357428003,
          0.8407021645025358,
          0.8408652060059743,
          0.8412515596239194,
          0.8413645751890443,
          0.8432118612168101,
          0.846015254660098,
          0.8462607745626957,
          0.8464746085372657,
          0.8486575422501904,
          0.8500852744613826,
          0.8504729123469128,
          0.8508778595993645,
          0.8531420127992487,
          0.8539501671804948,
          0.8542310903246454,
          0.8549957548632063,
          0.8576081290655826,
          0.858116058940048,
          0.8595928098626907,
          0.8596589509661562,
          0.890977645073005,
          0.8923364240400186,
          0.8925825598348034,
          0.8931771781852974,
          0.8952287299089956,
          0.8963686635664362,
          0.896512738673635,
          0.9002602263369016,
          0.9021731311319932,
          0.9022423277273289,
          0.9023738608361581,
          0.9029100088790747,
          0.903568587225066,
          0.9038060140609432,
          0.9046835864729561,
          0.9053882700472823,
          0.906697978830462,
          0.9073084912689492,
          0.9077143663852536,
          0.909621408730236,
          0.9431073273296299,
          0.9440862509843232,
          0.9448884779125827,
          0.9462303695618709,
          0.946893011641558,
          0.9473597920841521,
          0.9475751987313247,
          0.947725923723733,
          0.9502682555110243,
          0.9509837421252855,
          0.9510615963647395,
          0.9510929692744003,
          0.9511689505693317,
          0.9513139011008551,
          0.9529982507407964,
          0.9545717589922667,
          0.9549784147682034,
          0.955630201309466,
          0.9593524475084466,
          0.9594642703863833,
          0.9901013364859743,
          0.9901047726002619,
          0.9919246400358378,
          0.9925628084214292,
          0.9937558563698928,
          0.9965120425202276,
          0.9990092088462144,
          0.9998805961593955,
          1.0007653080817969,
          1.0012932304479123,
          1.0041637474071483,
          1.0062142396820664,
          1.00742399638558,
          1.007714426669212,
          1.0077927727172897,
          1.0079517108883442,
          1.008504030951314,
          1.008908867304216,
          1.0091485415554222,
          1.009907158093765
         ],
         "xaxis": "x",
         "y": [
          6.403168905960738,
          6.3986997036429525,
          6.383452053186746,
          6.375266373308639,
          6.373956631400279,
          6.368973916106371,
          6.368962394943127,
          6.3651740739756555,
          6.359126723490326,
          6.354812068138804,
          6.348727034842156,
          6.344299885966419,
          6.339141653077318,
          6.330939438232833,
          6.326757758908515,
          6.326688728232791,
          6.325579668891615,
          6.314611170173826,
          6.2977200857741975,
          6.29160490633932,
          6.112403421113446,
          6.112297151175204,
          6.10660311329438,
          6.099830676038167,
          6.092807060770417,
          6.079626245739579,
          6.078993105629284,
          6.0759840853979,
          6.061375143988649,
          6.056191702041842,
          6.04599773278085,
          6.044254086019635,
          6.043135801491664,
          6.038130309107335,
          6.029485157953781,
          6.029220612578576,
          6.02128773902478,
          6.018296671022072,
          6.014069062866972,
          6.012181884519799,
          5.840810683743272,
          5.838626491263785,
          5.837140255989898,
          5.827774274086199,
          5.82551267344985,
          5.823892249077153,
          5.822655282243014,
          5.817236086223161,
          5.8172269901926725,
          5.81435747306023,
          5.801893592259098,
          5.785370695341207,
          5.783399577268159,
          5.781847254765973,
          5.7794871667558905,
          5.773864107314418,
          5.772370506734123,
          5.768121990484074,
          5.7679318744331995,
          5.756928438233589,
          5.587569029472794,
          5.583539235135322,
          5.583452999219291,
          5.582941574001144,
          5.582558736039965,
          5.574101045388158,
          5.572206643461725,
          5.570660038017655,
          5.570347988795655,
          5.565924353576453,
          5.565484839900228,
          5.560532885617164,
          5.559097971303134,
          5.550226223509434,
          5.548901074939251,
          5.535870838542201,
          5.527467524576481,
          5.523597266547485,
          5.521736027811678,
          5.506365564897804,
          5.363839291989427,
          5.354629112374898,
          5.352250459255241,
          5.346326679396773,
          5.34474633178672,
          5.335657561194397,
          5.3338220101068154,
          5.33330259471858,
          5.328717218777579,
          5.327725127620868,
          5.326548017713913,
          5.317151038041072,
          5.315500105047108,
          5.3133281109391115,
          5.313033410060686,
          5.301566008206774,
          5.295505350758929,
          5.291453205366561,
          5.287389802778586,
          5.284886816303791,
          5.13279937550337,
          5.125439097729296,
          5.123894295355896,
          5.115702820673405,
          5.108855273758571,
          5.097259893796324,
          5.096472944108206,
          5.088783520594862,
          5.085738892046122,
          5.0787130654013115,
          5.078536293885663,
          5.07787260549371,
          5.075159080601852,
          5.0748879367185005,
          5.072706284359815,
          5.069238975861418,
          5.065075115972551,
          5.063434977104775,
          5.062261586345053,
          5.058683359755677,
          4.916507881283214,
          4.916003710237913,
          4.914136315990647,
          4.9097680420046,
          4.90511749284619,
          4.90393080575368,
          4.901951885878446,
          4.901818811410808,
          4.895425347416765,
          4.892324514249215,
          4.885103245991228,
          4.8829198181312385,
          4.882057571352634,
          4.8804931967140845,
          4.879945853010172,
          4.879709698704658,
          4.870958892443027,
          4.862361188485505,
          4.8622411945226105,
          4.857516089148954,
          4.800806464843704,
          4.79775964376047,
          4.7976236273426505,
          4.795277120143384,
          4.792866569132597,
          4.79139833955973,
          4.791392041091427,
          4.788338145833211,
          4.7881510904035895,
          4.788139645360467,
          4.7876763828766675,
          4.7853055436993905,
          4.785307537980321,
          4.784454719165041,
          4.784185905617712,
          4.783898014235803,
          4.780401751467306,
          4.777948760103218,
          4.77678413783268,
          4.774553481168983,
          4.7550489047541795,
          4.755009614107725,
          4.754781130103025,
          4.754704897707889,
          4.754587005080479,
          4.755969630216474,
          4.755310340708028,
          4.755255985646649,
          4.755260026160495,
          4.754106685781074,
          4.753491826927926,
          4.753370532520989,
          4.75232400599803,
          4.752193886678926,
          4.751542380039605,
          4.752023891982872,
          4.751685710423076,
          4.751387441490995,
          4.751246525848226,
          4.7512994242618305,
          4.758105385536806,
          4.758874985307681,
          4.758904465687464,
          4.759294364084611,
          4.759334263526708,
          4.759348400976291,
          4.7599173818073215,
          4.760987263790419,
          4.761690265732221,
          4.762420086637702,
          4.7631456659819005,
          4.763945868721179,
          4.7640953065708835,
          4.764422378092284,
          4.7649895441176415,
          4.765764898584517,
          4.7665070931732245,
          4.766514572503254,
          4.766562059144354,
          4.766747987077803,
          4.788895712259707,
          4.789712584014386,
          4.791815074638532,
          4.791902996594366,
          4.792136317512772,
          4.7942436454076685,
          4.794498035313774,
          4.794576934939079,
          4.794955002446285,
          4.795089208417488,
          4.795383826740546,
          4.79563241907178,
          4.79960150290852,
          4.8001880936486945,
          4.800583389271892,
          4.800756783604087,
          4.801103062193535,
          4.801360253686535,
          4.801397751896188,
          4.801957013401871,
          4.824847393352561,
          4.824972696308658,
          4.825613846621525,
          4.826164909534938,
          4.82758399790958,
          4.827731732330228,
          4.827769965551303,
          4.827785017290969,
          4.828880372125751,
          4.830415695763849,
          4.83121608171764,
          4.832524031631552,
          4.832654411353944,
          4.8328573121623135,
          4.832863415769018,
          4.833611559777042,
          4.833931700125208,
          4.834392978939594,
          4.83443565512545,
          4.8359582984508815,
          4.852027886470855,
          4.852872970926746,
          4.853439179980777,
          4.85345412561254,
          4.853632870035704,
          4.853897533969594,
          4.85422613021512,
          4.854440271893306,
          4.85481635895651,
          4.856196016571279,
          4.856533649693564,
          4.856798630721766,
          4.856776855995058,
          4.856969596011411,
          4.856966968009355,
          4.857193258605184,
          4.857188656139223,
          4.857381632372541,
          4.857382357604124,
          4.857719217101788,
          4.863032500453674,
          4.862768311359284,
          4.862824003898181,
          4.8625823653949105,
          4.862716874132494,
          4.862591818144109,
          4.8620648738625905,
          4.86171871095487,
          4.861617290326591,
          4.861868354570332,
          4.861943240451118,
          4.861680710419039,
          4.8616496734137025,
          4.861438933773838,
          4.861233959918672,
          4.8613151839059405,
          4.861418712722418,
          4.861621229092927,
          4.861738938225064,
          4.861771409076098,
          4.859989518680869,
          4.85968189194398,
          4.859496544579512,
          4.859120388485515,
          4.8590743292521665,
          4.858900549176814,
          4.85884108170206,
          4.858630350393254,
          4.858542457375195,
          4.858513232153303,
          4.858414959456334,
          4.858411969396507,
          4.858398839751164,
          4.858399650287815,
          4.858468983750173,
          4.858491511962403,
          4.858593581852379,
          4.858621438869683,
          4.858660723331359,
          4.858808435789312,
          4.8706848290236335,
          4.871074806777151,
          4.874302864426328,
          4.874664859940717,
          4.875281745917354,
          4.875393453512522,
          4.875708470684478,
          4.875769850747747,
          4.876243049126931,
          4.876923922665523,
          4.877654733871504,
          4.877900189582704,
          4.878005690227586,
          4.879514869392988,
          4.879629538299417,
          4.880036887007828,
          4.880275519202781,
          4.882018352424568,
          4.882548694013011,
          4.882780866088309,
          4.905480127773615,
          4.905614193472184,
          4.906593047214349,
          4.9069846648661155,
          4.907161332538465,
          4.907203174832155,
          4.9076290862667795,
          4.907899123614312,
          4.907950158305456,
          4.91046491727643,
          4.914100634907373,
          4.915400523564782,
          4.915568511403972,
          4.91636802241541,
          4.918637292514272,
          4.918856242232659,
          4.919126558931287,
          4.919255727797359,
          4.919471816396593,
          4.9214003833433075,
          4.94655205430612,
          4.9466856064352385,
          4.947002060292922,
          4.947094623503743,
          4.948607233061239,
          4.950901147354259,
          4.951101940776218,
          4.951276805141266,
          4.953061045709161,
          4.9542270879642025,
          4.9545435381876874,
          4.954874053231604,
          4.956720735451484,
          4.957379318108663,
          4.957608175646841,
          4.958230923188918,
          4.960356204597841,
          4.960769007972173,
          4.961968387224713,
          4.962022077147652,
          4.987187155665223,
          4.988268645297863,
          4.98846447677242,
          4.988937476783048,
          4.990568451267867,
          4.991474079690796,
          4.991588511740323,
          4.994562751926669,
          4.99607938094543,
          4.996134223912618,
          4.99623846921087,
          4.996663340881105,
          4.9971851327173535,
          4.997373219978949,
          4.998068308267432,
          4.998626329877834,
          4.999663166467534,
          5.000146359698901,
          5.000467551008746,
          5.00197630917412,
          5.028568060193129,
          5.029354250732598,
          5.029999149969511,
          5.031079167948357,
          5.03161310930874,
          5.031989481809683,
          5.032163239109867,
          5.032284848211647,
          5.034339521288508,
          5.034918975187076,
          5.034982060229551,
          5.035007483438583,
          5.035069059686717,
          5.0351865468131525,
          5.03655348181497,
          5.037833467869297,
          5.038164763221522,
          5.03869620397263,
          5.041742307273412,
          5.041834128325841,
          5.067921789816833,
          5.0679248432427,
          5.069546810819503,
          5.070117870007067,
          5.071188697389546,
          5.073678969612422,
          5.075955565301454,
          5.076754653195015,
          5.077568473222132,
          5.078055310183695,
          5.080718591083802,
          5.082638077747339,
          5.083777336232023,
          5.08405160083142,
          5.084125636600401,
          5.084275896675835,
          5.0847987478959125,
          5.085182663398553,
          5.085410222778754,
          5.086131822042585
         ],
         "yaxis": "y"
        }
       ],
       "layout": {
        "coloraxis": {
         "colorbar": {
          "title": {
           "text": "reward_patch_dim"
          }
         },
         "colorscale": [
          [
           0,
           "#0d0887"
          ],
          [
           0.1111111111111111,
           "#46039f"
          ],
          [
           0.2222222222222222,
           "#7201a8"
          ],
          [
           0.3333333333333333,
           "#9c179e"
          ],
          [
           0.4444444444444444,
           "#bd3786"
          ],
          [
           0.5555555555555556,
           "#d8576b"
          ],
          [
           0.6666666666666666,
           "#ed7953"
          ],
          [
           0.7777777777777778,
           "#fb9f3a"
          ],
          [
           0.8888888888888888,
           "#fdca26"
          ],
          [
           1,
           "#f0f921"
          ]
         ]
        },
        "legend": {
         "tracegroupgap": 0
        },
        "template": {
         "data": {
          "bar": [
           {
            "error_x": {
             "color": "#f2f5fa"
            },
            "error_y": {
             "color": "#f2f5fa"
            },
            "marker": {
             "line": {
              "color": "rgb(17,17,17)",
              "width": 0.5
             },
             "pattern": {
              "fillmode": "overlay",
              "size": 10,
              "solidity": 0.2
             }
            },
            "type": "bar"
           }
          ],
          "barpolar": [
           {
            "marker": {
             "line": {
              "color": "rgb(17,17,17)",
              "width": 0.5
             },
             "pattern": {
              "fillmode": "overlay",
              "size": 10,
              "solidity": 0.2
             }
            },
            "type": "barpolar"
           }
          ],
          "carpet": [
           {
            "aaxis": {
             "endlinecolor": "#A2B1C6",
             "gridcolor": "#506784",
             "linecolor": "#506784",
             "minorgridcolor": "#506784",
             "startlinecolor": "#A2B1C6"
            },
            "baxis": {
             "endlinecolor": "#A2B1C6",
             "gridcolor": "#506784",
             "linecolor": "#506784",
             "minorgridcolor": "#506784",
             "startlinecolor": "#A2B1C6"
            },
            "type": "carpet"
           }
          ],
          "choropleth": [
           {
            "colorbar": {
             "outlinewidth": 0,
             "ticks": ""
            },
            "type": "choropleth"
           }
          ],
          "contour": [
           {
            "colorbar": {
             "outlinewidth": 0,
             "ticks": ""
            },
            "colorscale": [
             [
              0,
              "#0d0887"
             ],
             [
              0.1111111111111111,
              "#46039f"
             ],
             [
              0.2222222222222222,
              "#7201a8"
             ],
             [
              0.3333333333333333,
              "#9c179e"
             ],
             [
              0.4444444444444444,
              "#bd3786"
             ],
             [
              0.5555555555555556,
              "#d8576b"
             ],
             [
              0.6666666666666666,
              "#ed7953"
             ],
             [
              0.7777777777777778,
              "#fb9f3a"
             ],
             [
              0.8888888888888888,
              "#fdca26"
             ],
             [
              1,
              "#f0f921"
             ]
            ],
            "type": "contour"
           }
          ],
          "contourcarpet": [
           {
            "colorbar": {
             "outlinewidth": 0,
             "ticks": ""
            },
            "type": "contourcarpet"
           }
          ],
          "heatmap": [
           {
            "colorbar": {
             "outlinewidth": 0,
             "ticks": ""
            },
            "colorscale": [
             [
              0,
              "#0d0887"
             ],
             [
              0.1111111111111111,
              "#46039f"
             ],
             [
              0.2222222222222222,
              "#7201a8"
             ],
             [
              0.3333333333333333,
              "#9c179e"
             ],
             [
              0.4444444444444444,
              "#bd3786"
             ],
             [
              0.5555555555555556,
              "#d8576b"
             ],
             [
              0.6666666666666666,
              "#ed7953"
             ],
             [
              0.7777777777777778,
              "#fb9f3a"
             ],
             [
              0.8888888888888888,
              "#fdca26"
             ],
             [
              1,
              "#f0f921"
             ]
            ],
            "type": "heatmap"
           }
          ],
          "heatmapgl": [
           {
            "colorbar": {
             "outlinewidth": 0,
             "ticks": ""
            },
            "colorscale": [
             [
              0,
              "#0d0887"
             ],
             [
              0.1111111111111111,
              "#46039f"
             ],
             [
              0.2222222222222222,
              "#7201a8"
             ],
             [
              0.3333333333333333,
              "#9c179e"
             ],
             [
              0.4444444444444444,
              "#bd3786"
             ],
             [
              0.5555555555555556,
              "#d8576b"
             ],
             [
              0.6666666666666666,
              "#ed7953"
             ],
             [
              0.7777777777777778,
              "#fb9f3a"
             ],
             [
              0.8888888888888888,
              "#fdca26"
             ],
             [
              1,
              "#f0f921"
             ]
            ],
            "type": "heatmapgl"
           }
          ],
          "histogram": [
           {
            "marker": {
             "pattern": {
              "fillmode": "overlay",
              "size": 10,
              "solidity": 0.2
             }
            },
            "type": "histogram"
           }
          ],
          "histogram2d": [
           {
            "colorbar": {
             "outlinewidth": 0,
             "ticks": ""
            },
            "colorscale": [
             [
              0,
              "#0d0887"
             ],
             [
              0.1111111111111111,
              "#46039f"
             ],
             [
              0.2222222222222222,
              "#7201a8"
             ],
             [
              0.3333333333333333,
              "#9c179e"
             ],
             [
              0.4444444444444444,
              "#bd3786"
             ],
             [
              0.5555555555555556,
              "#d8576b"
             ],
             [
              0.6666666666666666,
              "#ed7953"
             ],
             [
              0.7777777777777778,
              "#fb9f3a"
             ],
             [
              0.8888888888888888,
              "#fdca26"
             ],
             [
              1,
              "#f0f921"
             ]
            ],
            "type": "histogram2d"
           }
          ],
          "histogram2dcontour": [
           {
            "colorbar": {
             "outlinewidth": 0,
             "ticks": ""
            },
            "colorscale": [
             [
              0,
              "#0d0887"
             ],
             [
              0.1111111111111111,
              "#46039f"
             ],
             [
              0.2222222222222222,
              "#7201a8"
             ],
             [
              0.3333333333333333,
              "#9c179e"
             ],
             [
              0.4444444444444444,
              "#bd3786"
             ],
             [
              0.5555555555555556,
              "#d8576b"
             ],
             [
              0.6666666666666666,
              "#ed7953"
             ],
             [
              0.7777777777777778,
              "#fb9f3a"
             ],
             [
              0.8888888888888888,
              "#fdca26"
             ],
             [
              1,
              "#f0f921"
             ]
            ],
            "type": "histogram2dcontour"
           }
          ],
          "mesh3d": [
           {
            "colorbar": {
             "outlinewidth": 0,
             "ticks": ""
            },
            "type": "mesh3d"
           }
          ],
          "parcoords": [
           {
            "line": {
             "colorbar": {
              "outlinewidth": 0,
              "ticks": ""
             }
            },
            "type": "parcoords"
           }
          ],
          "pie": [
           {
            "automargin": true,
            "type": "pie"
           }
          ],
          "scatter": [
           {
            "marker": {
             "line": {
              "color": "#283442"
             }
            },
            "type": "scatter"
           }
          ],
          "scatter3d": [
           {
            "line": {
             "colorbar": {
              "outlinewidth": 0,
              "ticks": ""
             }
            },
            "marker": {
             "colorbar": {
              "outlinewidth": 0,
              "ticks": ""
             }
            },
            "type": "scatter3d"
           }
          ],
          "scattercarpet": [
           {
            "marker": {
             "colorbar": {
              "outlinewidth": 0,
              "ticks": ""
             }
            },
            "type": "scattercarpet"
           }
          ],
          "scattergeo": [
           {
            "marker": {
             "colorbar": {
              "outlinewidth": 0,
              "ticks": ""
             }
            },
            "type": "scattergeo"
           }
          ],
          "scattergl": [
           {
            "marker": {
             "line": {
              "color": "#283442"
             }
            },
            "type": "scattergl"
           }
          ],
          "scattermapbox": [
           {
            "marker": {
             "colorbar": {
              "outlinewidth": 0,
              "ticks": ""
             }
            },
            "type": "scattermapbox"
           }
          ],
          "scatterpolar": [
           {
            "marker": {
             "colorbar": {
              "outlinewidth": 0,
              "ticks": ""
             }
            },
            "type": "scatterpolar"
           }
          ],
          "scatterpolargl": [
           {
            "marker": {
             "colorbar": {
              "outlinewidth": 0,
              "ticks": ""
             }
            },
            "type": "scatterpolargl"
           }
          ],
          "scatterternary": [
           {
            "marker": {
             "colorbar": {
              "outlinewidth": 0,
              "ticks": ""
             }
            },
            "type": "scatterternary"
           }
          ],
          "surface": [
           {
            "colorbar": {
             "outlinewidth": 0,
             "ticks": ""
            },
            "colorscale": [
             [
              0,
              "#0d0887"
             ],
             [
              0.1111111111111111,
              "#46039f"
             ],
             [
              0.2222222222222222,
              "#7201a8"
             ],
             [
              0.3333333333333333,
              "#9c179e"
             ],
             [
              0.4444444444444444,
              "#bd3786"
             ],
             [
              0.5555555555555556,
              "#d8576b"
             ],
             [
              0.6666666666666666,
              "#ed7953"
             ],
             [
              0.7777777777777778,
              "#fb9f3a"
             ],
             [
              0.8888888888888888,
              "#fdca26"
             ],
             [
              1,
              "#f0f921"
             ]
            ],
            "type": "surface"
           }
          ],
          "table": [
           {
            "cells": {
             "fill": {
              "color": "#506784"
             },
             "line": {
              "color": "rgb(17,17,17)"
             }
            },
            "header": {
             "fill": {
              "color": "#2a3f5f"
             },
             "line": {
              "color": "rgb(17,17,17)"
             }
            },
            "type": "table"
           }
          ]
         },
         "layout": {
          "annotationdefaults": {
           "arrowcolor": "#f2f5fa",
           "arrowhead": 0,
           "arrowwidth": 1
          },
          "autotypenumbers": "strict",
          "coloraxis": {
           "colorbar": {
            "outlinewidth": 0,
            "ticks": ""
           }
          },
          "colorscale": {
           "diverging": [
            [
             0,
             "#8e0152"
            ],
            [
             0.1,
             "#c51b7d"
            ],
            [
             0.2,
             "#de77ae"
            ],
            [
             0.3,
             "#f1b6da"
            ],
            [
             0.4,
             "#fde0ef"
            ],
            [
             0.5,
             "#f7f7f7"
            ],
            [
             0.6,
             "#e6f5d0"
            ],
            [
             0.7,
             "#b8e186"
            ],
            [
             0.8,
             "#7fbc41"
            ],
            [
             0.9,
             "#4d9221"
            ],
            [
             1,
             "#276419"
            ]
           ],
           "sequential": [
            [
             0,
             "#0d0887"
            ],
            [
             0.1111111111111111,
             "#46039f"
            ],
            [
             0.2222222222222222,
             "#7201a8"
            ],
            [
             0.3333333333333333,
             "#9c179e"
            ],
            [
             0.4444444444444444,
             "#bd3786"
            ],
            [
             0.5555555555555556,
             "#d8576b"
            ],
            [
             0.6666666666666666,
             "#ed7953"
            ],
            [
             0.7777777777777778,
             "#fb9f3a"
            ],
            [
             0.8888888888888888,
             "#fdca26"
            ],
            [
             1,
             "#f0f921"
            ]
           ],
           "sequentialminus": [
            [
             0,
             "#0d0887"
            ],
            [
             0.1111111111111111,
             "#46039f"
            ],
            [
             0.2222222222222222,
             "#7201a8"
            ],
            [
             0.3333333333333333,
             "#9c179e"
            ],
            [
             0.4444444444444444,
             "#bd3786"
            ],
            [
             0.5555555555555556,
             "#d8576b"
            ],
            [
             0.6666666666666666,
             "#ed7953"
            ],
            [
             0.7777777777777778,
             "#fb9f3a"
            ],
            [
             0.8888888888888888,
             "#fdca26"
            ],
            [
             1,
             "#f0f921"
            ]
           ]
          },
          "colorway": [
           "#636efa",
           "#EF553B",
           "#00cc96",
           "#ab63fa",
           "#FFA15A",
           "#19d3f3",
           "#FF6692",
           "#B6E880",
           "#FF97FF",
           "#FECB52"
          ],
          "font": {
           "color": "#f2f5fa"
          },
          "geo": {
           "bgcolor": "rgb(17,17,17)",
           "lakecolor": "rgb(17,17,17)",
           "landcolor": "rgb(17,17,17)",
           "showlakes": true,
           "showland": true,
           "subunitcolor": "#506784"
          },
          "hoverlabel": {
           "align": "left"
          },
          "hovermode": "closest",
          "mapbox": {
           "style": "dark"
          },
          "paper_bgcolor": "rgb(17,17,17)",
          "plot_bgcolor": "rgb(17,17,17)",
          "polar": {
           "angularaxis": {
            "gridcolor": "#506784",
            "linecolor": "#506784",
            "ticks": ""
           },
           "bgcolor": "rgb(17,17,17)",
           "radialaxis": {
            "gridcolor": "#506784",
            "linecolor": "#506784",
            "ticks": ""
           }
          },
          "scene": {
           "xaxis": {
            "backgroundcolor": "rgb(17,17,17)",
            "gridcolor": "#506784",
            "gridwidth": 2,
            "linecolor": "#506784",
            "showbackground": true,
            "ticks": "",
            "zerolinecolor": "#C8D4E3"
           },
           "yaxis": {
            "backgroundcolor": "rgb(17,17,17)",
            "gridcolor": "#506784",
            "gridwidth": 2,
            "linecolor": "#506784",
            "showbackground": true,
            "ticks": "",
            "zerolinecolor": "#C8D4E3"
           },
           "zaxis": {
            "backgroundcolor": "rgb(17,17,17)",
            "gridcolor": "#506784",
            "gridwidth": 2,
            "linecolor": "#506784",
            "showbackground": true,
            "ticks": "",
            "zerolinecolor": "#C8D4E3"
           }
          },
          "shapedefaults": {
           "line": {
            "color": "#f2f5fa"
           }
          },
          "sliderdefaults": {
           "bgcolor": "#C8D4E3",
           "bordercolor": "rgb(17,17,17)",
           "borderwidth": 1,
           "tickwidth": 0
          },
          "ternary": {
           "aaxis": {
            "gridcolor": "#506784",
            "linecolor": "#506784",
            "ticks": ""
           },
           "baxis": {
            "gridcolor": "#506784",
            "linecolor": "#506784",
            "ticks": ""
           },
           "bgcolor": "rgb(17,17,17)",
           "caxis": {
            "gridcolor": "#506784",
            "linecolor": "#506784",
            "ticks": ""
           }
          },
          "title": {
           "x": 0.05
          },
          "updatemenudefaults": {
           "bgcolor": "#506784",
           "borderwidth": 0
          },
          "xaxis": {
           "automargin": true,
           "gridcolor": "#283442",
           "linecolor": "#506784",
           "ticks": "",
           "title": {
            "standoff": 15
           },
           "zerolinecolor": "#283442",
           "zerolinewidth": 2
          },
          "yaxis": {
           "automargin": true,
           "gridcolor": "#283442",
           "linecolor": "#506784",
           "ticks": "",
           "title": {
            "standoff": 15
           },
           "zerolinecolor": "#283442",
           "zerolinewidth": 2
          }
         }
        },
        "title": {
         "text": "Trust vs time to first food"
        },
        "xaxis": {
         "anchor": "y",
         "domain": [
          0,
          1
         ],
         "title": {
          "text": "c_trust_jittered"
         }
        },
        "yaxis": {
         "anchor": "x",
         "domain": [
          0,
          1
         ],
         "range": [
          0,
          25
         ],
         "title": {
          "text": "time to first food"
         }
        }
       }
      }
     },
     "metadata": {},
     "output_type": "display_data"
    }
   ],
   "source": [
    "# let's take a closer look\n",
    "\n",
    "fig.update_yaxes(range=[0, 25])\n",
    "fig.show()"
   ]
  },
  {
   "cell_type": "code",
   "execution_count": 22,
   "metadata": {},
   "outputs": [
    {
     "data": {
      "text/plain": [
       "(380, 8)"
      ]
     },
     "execution_count": 22,
     "metadata": {},
     "output_type": "execute_result"
    }
   ],
   "source": [
    "# regular_impactDF = impactDF[(impactDF[\"c_trust\"] != 0) & (impactDF[\"c_trust\"] != 1)]\n",
    "# regular_impactDF.shape\n"
   ]
  },
  {
   "cell_type": "code",
   "execution_count": 69,
   "metadata": {},
   "outputs": [
    {
     "name": "stdout",
     "output_type": "stream",
     "text": [
      "(420, 7)\n"
     ]
    }
   ],
   "source": [
    "# restriction = (impactDF[\"c_trust\"] > 0.05) & (impactDF[\"c_trust\"] < 0.95)\n",
    "# impactDF = impactDF[restriction]\n",
    "print(impactDF.shape)\n",
    "\n",
    "trust = torch.tensor(impactDF[\"c_trust\"].values.astype(float))\n",
    "patch = torch.tensor(impactDF[\"reward_patch_dim\"].values.astype(float))\n",
    "time = torch.tensor(impactDF[\"time to first food\"].values.astype(float))\n"
   ]
  },
  {
   "cell_type": "code",
   "execution_count": 70,
   "metadata": {},
   "outputs": [],
   "source": [
    "def model(trust, patch, time):\n",
    "    w_trust = pyro.sample(\"weight_trust\", dist.Normal(0.0, 1.0))\n",
    "    w_patch = pyro.sample(\"weight_patch\", dist.Normal(0.0, 1.0))\n",
    "    bias = pyro.sample(\"bias\", dist.Normal(5.0, 4.0))\n",
    "\n",
    "    sd = pyro.sample(\"sd\", dist.Exponential(0.5))\n",
    "    mu = w_trust * trust + w_patch * patch + bias\n",
    "\n",
    "    #    considered this interaction\n",
    "    #    but there are no good reasons to think the interaction coefficient is non-null\n",
    "    #    w_tp = pyro.sample(\"interaction_trust_patch\", dist.Normal(0.0, 1.0))\n",
    "    #    mu = w_trust * trust + w_patch * patch + w_tp * trust * patch + bias\n",
    "\n",
    "    with pyro.plate(\"data\", len(time)):\n",
    "        pyro.sample(\"obs\", dist.Normal(mu, sd), obs=time)\n"
   ]
  },
  {
   "cell_type": "code",
   "execution_count": 71,
   "metadata": {},
   "outputs": [
    {
     "name": "stdout",
     "output_type": "stream",
     "text": [
      "Iteration 100/2000, Loss: 2050.32\n",
      "Iteration 200/2000, Loss: 1806.25\n",
      "Iteration 300/2000, Loss: 1585.79\n",
      "Iteration 400/2000, Loss: 1480.49\n",
      "Iteration 500/2000, Loss: 1466.94\n",
      "Iteration 600/2000, Loss: 1452.06\n",
      "Iteration 700/2000, Loss: 1452.21\n",
      "Iteration 800/2000, Loss: 1453.42\n",
      "Iteration 900/2000, Loss: 1451.57\n",
      "Iteration 1000/2000, Loss: 1453.08\n",
      "Iteration 1100/2000, Loss: 1451.02\n",
      "Iteration 1200/2000, Loss: 1455.26\n",
      "Iteration 1300/2000, Loss: 1452.86\n",
      "Iteration 1400/2000, Loss: 1453.81\n",
      "Iteration 1500/2000, Loss: 1450.87\n",
      "Iteration 1600/2000, Loss: 1452.04\n",
      "Iteration 1700/2000, Loss: 1451.71\n",
      "Iteration 1800/2000, Loss: 1452.88\n",
      "Iteration 1900/2000, Loss: 1452.85\n",
      "Iteration 2000/2000, Loss: 1453.16\n"
     ]
    }
   ],
   "source": [
    "guide = AutoMultivariateNormal(model)\n",
    "\n",
    "pyro.clear_param_store()\n",
    "svi = SVI(model, guide, Adam({\"lr\": 0.03}), loss=Trace_ELBO())\n",
    "\n",
    "num_iterations = 2000\n",
    "for i in range(num_iterations):\n",
    "    loss = svi.step(trust, patch, time)\n",
    "    if (i + 1) % 100 == 0:\n",
    "        print(f\"Iteration {i + 1}/{num_iterations}, Loss: {loss:.2f}\")\n"
   ]
  },
  {
   "cell_type": "code",
   "execution_count": null,
   "metadata": {},
   "outputs": [],
   "source": []
  },
  {
   "cell_type": "code",
   "execution_count": 72,
   "metadata": {},
   "outputs": [],
   "source": [
    "predictive = Predictive(model, guide=guide, num_samples=1000)\n",
    "samples = predictive(trust, patch, time)\n"
   ]
  },
  {
   "cell_type": "code",
   "execution_count": 94,
   "metadata": {},
   "outputs": [
    {
     "name": "stdout",
     "output_type": "stream",
     "text": [
      "dict_keys(['weight_trust', 'weight_patch', 'bias', 'sd', 'obs'])\n",
      "torch.Size([1000, 420])\n",
      "torch.Size([420])\n"
     ]
    },
    {
     "data": {
      "application/vnd.plotly.v1+json": {
       "config": {
        "plotlyServerURL": "https://plot.ly"
       },
       "data": [
        {
         "alignmentgroup": "True",
         "bingroup": "x",
         "hovertemplate": "variable=0<br>value=%{x}<br>count=%{y}<extra></extra>",
         "legendgroup": "0",
         "marker": {
          "color": "#636efa",
          "pattern": {
           "shape": ""
          }
         },
         "name": "0",
         "offsetgroup": "0",
         "orientation": "v",
         "showlegend": true,
         "type": "histogram",
         "x": [
          9.240438584129015,
          8.573771917462349,
          -0.5373391936487621,
          -2.8706725269820956,
          1.267681364827686,
          12.489903587049907,
          15.601014698161018,
          21.601014698161016,
          -0.2606314100292,
          8.850479701081913,
          26.183813034415245,
          5.406035256637464,
          16.65550025955836,
          23.87772248178058,
          15.544389148447253,
          15.877722481780582,
          20.90496526247925,
          24.57163192914592,
          17.3494097069237,
          21.12718748470147,
          -3.5182425226866365,
          -2.6293536337977477,
          -1.0737980782421923,
          -1.6293536337977477,
          0.6201113691231459,
          -4.268777519765743,
          1.620111369123145,
          -1.8243330753212987,
          8.314020816488483,
          11.314020816488483,
          -3.241534739067073,
          2.8695763720440377,
          0.8968191527427081,
          14.007930263853819,
          -1.4365141805906259,
          -0.7698475139239598,
          -6.187049177669735,
          -3.853715844336402,
          -4.853715844336402,
          6.701839711219154,
          -2.9435902961689555,
          -3.4991458517245113,
          -3.4991458517245113,
          -3.3880347406134,
          -3.1385697376925075,
          -0.13856973769250747,
          -2.9163475154702856,
          4.972541373418603,
          -1.8891047347716157,
          -1.6668825125493942,
          -4.444660290327172,
          3.555339709672829,
          0.8048047125937217,
          17.027026934815943,
          -4.417417509628503,
          4.249249157038161,
          -6.167952506707609,
          -2.056841395596498,
          -6.6123969511520535,
          -2.9457302844853865,
          2.297728597015391,
          1.5199508192376134,
          -1.9244936252068312,
          -2.81338251409572,
          6.991638044380728,
          -0.3416952889526055,
          -3.78613973339705,
          -1.7861397333970501,
          0.35221415841273185,
          -1.9811191749206012,
          -2.647785841587268,
          -3.758896952698379,
          -2.176098616444153,
          -0.5094319497774862,
          -5.509431949777486,
          15.04612360577807,
          -4.037744724634374,
          -4.037744724634374,
          6.517810830921183,
          -1.9266336135232631,
          -0.46095250980026226,
          -3.3498413986891515,
          -2.905396954244707,
          2.205714156866404,
          -2.767043062434926,
          -2.6559319513238147,
          -1.7670430624349258,
          -2.100376395768259,
          -3.1842447261807,
          -3.0731336150695885,
          -0.8509113928473662,
          -4.406466948402922,
          -5.601446389926475,
          1.620775832295747,
          -3.4903352788153637,
          -5.601446389926475,
          -6.907536942561136,
          -7.018648053672248,
          -3.907536942561136,
          -5.240870275894469,
          -3.2196336166159143,
          -2.4418558388381366,
          -3.108522505504803,
          -2.3307447277270255,
          -0.970168613695022,
          -3.6368352803616886,
          -2.9701686136950216,
          -3.4146130581394663,
          -4.720703610774129,
          -4.165148055218573,
          -3.7207036107741294,
          0.27929638922587063,
          -2.360127496742127,
          -1.6934608300754599,
          -4.360127496742127,
          -3.69346083007546,
          -2.888440271599012,
          -5.3328847160434565,
          3.3337819506232105,
          -5.9995513827101234,
          -3.089425834542678,
          -2.7560925012093445,
          -2.9783147234315672,
          -3.5338702789871226,
          -1.8399608316217844,
          -4.173294164955118,
          0.04892805726710403,
          -2.6177386093995625,
          -3.7016069398120033,
          -4.146051384256447,
          -2.0349402731453363,
          -3.5904958287008926,
          -3.4521419368911115,
          -2.563253048002223,
          -1.6743641591133338,
          -3.229919714668889,
          -4.09156582285911,
          -5.758232489525777,
          -3.758232489525777,
          -6.313788045081332,
          -3.4036624969138862,
          -3.0703291635805527,
          -3.625884719136108,
          -3.5147736080249974,
          -2.3764197162152163,
          -3.931975271770771,
          -2.8208641606596605,
          -0.3764197162152163,
          -3.015843602183213,
          -3.571399157738769,
          -1.015843602183213,
          -4.793621379960991,
          -5.988600821484544,
          -2.766378599262323,
          -0.21082304370676752,
          -1.3219341548178782,
          1.038641959214127,
          2.26086418143635,
          12.149753070325238,
          -7.072469151896984,
          -2.2734547148406508,
          -3.2734547148406508,
          -3.606788048173984,
          -3.495676937062873,
          0.5315658436357973,
          -3.1351008230308697,
          -2.690656378586425,
          -2.357323045253092,
          -3.3300802645544207,
          -2.663413597887754,
          -4.107858042332198,
          -3.885635820109976,
          1.586051405033139,
          -3.413948594966861,
          -3.413948594966861,
          39.25271807169982,
          2.83551640795403,
          -2.831150258712637,
          1.6132941857318066,
          -5.3867058142681925,
          -1.9210247105451925,
          -3.69880248832297,
          -3.2543580438785256,
          -3.2543580438785256,
          -2.0048930409576338,
          -2.1160041520687454,
          -2.6715597076243007,
          -3.227115263179856,
          -2.755428038036741,
          0.6890164064077036,
          -2.9776502602589634,
          -4.533205815814519,
          -0.8392963684491832,
          -2.950407479560294,
          -0.8392963684491832,
          -4.0615185906714055,
          -2.7009424766394003,
          5.410168634471711,
          -0.1453869210838441,
          -6.7009424766394,
          -2.568594706249734,
          1.653627515972489,
          -3.9019280395830673,
          -3.5685947062497334,
          -3.5413519255510635,
          -3.319129703328841,
          -3.319129703328841,
          -3.319129703328841,
          -2.9585535892968373,
          -2.8474424781857266,
          -1.1807758115190596,
          -2.6252202559635043,
          -2.2646441419315018,
          -1.8201996974870571,
          -4.597977475264835,
          5.957578080290723,
          -6.12629025012172,
          -5.348512472343942,
          31.873709749878277,
          -2.7929569167883868,
          -3.3272758130653863,
          -3.549498035287608,
          -1.8828313686209421,
          1.5616130758235025,
          -0.522255254588937,
          -2.7444774768111597,
          -2.5222552545889374,
          -2.7444774768111597,
          -3.8283458072236005,
          -4.050568029445822,
          0.2827653038875111,
          -3.606123585001378,
          1.1988969734750707,
          -2.3566585820804846,
          4.532230306808405,
          -2.4677696931915962,
          -5.996082468048483,
          -2.8849713569373723,
          -2.66274913471515,
          -5.218304690270705,
          -3.863734697658817,
          -3.7526235865477053,
          -1.3081791421032611,
          -3.085956919881039,
          1.0523969719287427,
          -2.7253808058490354,
          -3.7253808058490354,
          -1.1698252502934796,
          -1.920360247372587,
          -5.031471358483698,
          -3.587026914039254,
          -4.920360247372587,
          2.7735491999927486,
          5.217993644437193,
          -0.5597841333405853,
          21.217993644437193,
          40.02301420291364,
          -4.088096908197468,
          -6.4214302415308016,
          1.5785697584691984,
          -1.733526915585581,
          -3.289082471141137,
          0.3775841955255297,
          -2.511304693363359,
          3.5159380873353117,
          -3.706284134886911,
          -3.1507285793313553,
          -2.817395245998022,
          -4.56793024307713,
          -3.456819131966019,
          -2.5679302430771296,
          -1.9012635764104626,
          -1.8740207957117896,
          5.7926458709548765,
          -3.2073541290451235,
          -0.42957635126734495,
          -3.9578891261242326,
          -6.2912224594575665,
          2.486555318320212,
          3.264333096097987,
          -3.714430244623456,
          -3.381096911290123,
          1.9522364220432102,
          -3.381096911290123,
          -0.7982985750358971,
          -1.0205207972581194,
          -3.3538541305914524,
          -4.020520797258119,
          -1.1043891276705606,
          -4.882166905448338,
          -2.5488335721150053,
          -2.326611349892783,
          -2.854924124749667,
          -4.077146346971889,
          -0.18825745808300098,
          -2.9660352358607787,
          -6.049903566273217,
          3.283429767060113,
          1.6167631003934488,
          -7.2721257884954404,
          -1.917555795883553,
          -3.2508891292168864,
          -3.3620002403279976,
          -2.917555795883553,
          -3.223646348518216,
          -2.6680907929626607,
          -0.8903130151848826,
          -3.3347574596293272,
          -0.30751467893065687,
          -2.64084801226399,
          -5.307514678930657,
          2.35915198773601,
          -5.502494120454208,
          4.941950323990236,
          -3.502494120454208,
          -0.9469385648986526,
          -4.1419180064222045,
          -4.030806895311093,
          -4.1419180064222045,
          0.4136375491333517,
          -3.3429035693658724,
          -3.6762369026992054,
          -3.2317924582547612,
          -3.2317924582547612,
          -0.20454967755609132,
          10.239894766888355,
          1.684339211332798,
          -1.982327455333869,
          -3.17730689685742,
          -1.2884180079685308,
          -3.288418007968531,
          -1.9550846746351978,
          -3.2611752272698595,
          -2.5945085606031935,
          -4.9278418939365265,
          0.5166025505079155,
          -0.9005991132378579,
          -5.678376891015636,
          -5.456154668793413,
          -6.567265779904525,
          -2.9904735650704137,
          -3.101584676181525,
          -3.101584676181525,
          -2.6571402317370802,
          18.258991437850483,
          -1.4076752288161876,
          -0.8521196732606322,
          -3.296564117705077,
          1.0640119963269266,
          -3.8248768925619623,
          -1.0470991147841842,
          -3.047099114784184,
          0.757921443692263,
          -4.242078556307737,
          -4.130967445196626,
          0.20236588813670764,
          -4.9926135533868425,
          -3.103724664497954,
          -5.548169108942399,
          -5.9926135533868425,
          -1.7491546718860675,
          -3.638043560774956,
          -2.9713768941082894,
          -2.8602657829971783,
          -2.499689668965175,
          -3.833023002298508,
          -2.9441341134096195,
          -3.833023002298508,
          -0.13911355493317146,
          -2.916891332710949,
          0.8608864450668294,
          -0.8057802215998375,
          2.8881292257655016,
          -3.4452041075678315,
          -4.556315218678943,
          -2.7785374409011645,
          -6.417961326869163,
          5.693149784241948,
          -5.5290724379802745,
          -3.8624057713136075,
          -1.5078357787017196,
          -2.2856135564794977,
          -2.7300580009239424,
          -2.841169112035053,
          -2.4805929980030497,
          -2.036148553558605,
          -1.1472596646697166,
          -4.147259664669717,
          -1.8977946617488248,
          -3.120016883971047,
          -4.231127995082158,
          -3.120016883971047,
          2.240559230060958,
          -4.5372185477168205,
          10.46278145228318,
          1.5738925633942884,
          -0.7321979892403707,
          -5.065531322573704,
          -5.398864655907037,
          -5.065531322573704,
          21.51126089226041,
          22.622372003371517,
          14.400149781149292,
          14.06681644781596,
          16.98294811740352,
          19.094059228514627,
          6.538503672959078,
          36.09405922851463,
          31.89907978699108,
          14.565746453657745,
          13.010190898102188,
          38.2324131203244,
          1.5929892343564145,
          -1.8514552100880275,
          21.704100345467523,
          -0.18478854342136053,
          -6.268656873833802,
          -3.7131013182782464,
          -2.490879096056024,
          35.62023201505509
         ],
         "xaxis": "x",
         "yaxis": "y"
        }
       ],
       "layout": {
        "barmode": "relative",
        "legend": {
         "title": {
          "text": "variable"
         },
         "tracegroupgap": 0
        },
        "margin": {
         "t": 60
        },
        "template": {
         "data": {
          "bar": [
           {
            "error_x": {
             "color": "#2a3f5f"
            },
            "error_y": {
             "color": "#2a3f5f"
            },
            "marker": {
             "line": {
              "color": "#E5ECF6",
              "width": 0.5
             },
             "pattern": {
              "fillmode": "overlay",
              "size": 10,
              "solidity": 0.2
             }
            },
            "type": "bar"
           }
          ],
          "barpolar": [
           {
            "marker": {
             "line": {
              "color": "#E5ECF6",
              "width": 0.5
             },
             "pattern": {
              "fillmode": "overlay",
              "size": 10,
              "solidity": 0.2
             }
            },
            "type": "barpolar"
           }
          ],
          "carpet": [
           {
            "aaxis": {
             "endlinecolor": "#2a3f5f",
             "gridcolor": "white",
             "linecolor": "white",
             "minorgridcolor": "white",
             "startlinecolor": "#2a3f5f"
            },
            "baxis": {
             "endlinecolor": "#2a3f5f",
             "gridcolor": "white",
             "linecolor": "white",
             "minorgridcolor": "white",
             "startlinecolor": "#2a3f5f"
            },
            "type": "carpet"
           }
          ],
          "choropleth": [
           {
            "colorbar": {
             "outlinewidth": 0,
             "ticks": ""
            },
            "type": "choropleth"
           }
          ],
          "contour": [
           {
            "colorbar": {
             "outlinewidth": 0,
             "ticks": ""
            },
            "colorscale": [
             [
              0,
              "#0d0887"
             ],
             [
              0.1111111111111111,
              "#46039f"
             ],
             [
              0.2222222222222222,
              "#7201a8"
             ],
             [
              0.3333333333333333,
              "#9c179e"
             ],
             [
              0.4444444444444444,
              "#bd3786"
             ],
             [
              0.5555555555555556,
              "#d8576b"
             ],
             [
              0.6666666666666666,
              "#ed7953"
             ],
             [
              0.7777777777777778,
              "#fb9f3a"
             ],
             [
              0.8888888888888888,
              "#fdca26"
             ],
             [
              1,
              "#f0f921"
             ]
            ],
            "type": "contour"
           }
          ],
          "contourcarpet": [
           {
            "colorbar": {
             "outlinewidth": 0,
             "ticks": ""
            },
            "type": "contourcarpet"
           }
          ],
          "heatmap": [
           {
            "colorbar": {
             "outlinewidth": 0,
             "ticks": ""
            },
            "colorscale": [
             [
              0,
              "#0d0887"
             ],
             [
              0.1111111111111111,
              "#46039f"
             ],
             [
              0.2222222222222222,
              "#7201a8"
             ],
             [
              0.3333333333333333,
              "#9c179e"
             ],
             [
              0.4444444444444444,
              "#bd3786"
             ],
             [
              0.5555555555555556,
              "#d8576b"
             ],
             [
              0.6666666666666666,
              "#ed7953"
             ],
             [
              0.7777777777777778,
              "#fb9f3a"
             ],
             [
              0.8888888888888888,
              "#fdca26"
             ],
             [
              1,
              "#f0f921"
             ]
            ],
            "type": "heatmap"
           }
          ],
          "heatmapgl": [
           {
            "colorbar": {
             "outlinewidth": 0,
             "ticks": ""
            },
            "colorscale": [
             [
              0,
              "#0d0887"
             ],
             [
              0.1111111111111111,
              "#46039f"
             ],
             [
              0.2222222222222222,
              "#7201a8"
             ],
             [
              0.3333333333333333,
              "#9c179e"
             ],
             [
              0.4444444444444444,
              "#bd3786"
             ],
             [
              0.5555555555555556,
              "#d8576b"
             ],
             [
              0.6666666666666666,
              "#ed7953"
             ],
             [
              0.7777777777777778,
              "#fb9f3a"
             ],
             [
              0.8888888888888888,
              "#fdca26"
             ],
             [
              1,
              "#f0f921"
             ]
            ],
            "type": "heatmapgl"
           }
          ],
          "histogram": [
           {
            "marker": {
             "pattern": {
              "fillmode": "overlay",
              "size": 10,
              "solidity": 0.2
             }
            },
            "type": "histogram"
           }
          ],
          "histogram2d": [
           {
            "colorbar": {
             "outlinewidth": 0,
             "ticks": ""
            },
            "colorscale": [
             [
              0,
              "#0d0887"
             ],
             [
              0.1111111111111111,
              "#46039f"
             ],
             [
              0.2222222222222222,
              "#7201a8"
             ],
             [
              0.3333333333333333,
              "#9c179e"
             ],
             [
              0.4444444444444444,
              "#bd3786"
             ],
             [
              0.5555555555555556,
              "#d8576b"
             ],
             [
              0.6666666666666666,
              "#ed7953"
             ],
             [
              0.7777777777777778,
              "#fb9f3a"
             ],
             [
              0.8888888888888888,
              "#fdca26"
             ],
             [
              1,
              "#f0f921"
             ]
            ],
            "type": "histogram2d"
           }
          ],
          "histogram2dcontour": [
           {
            "colorbar": {
             "outlinewidth": 0,
             "ticks": ""
            },
            "colorscale": [
             [
              0,
              "#0d0887"
             ],
             [
              0.1111111111111111,
              "#46039f"
             ],
             [
              0.2222222222222222,
              "#7201a8"
             ],
             [
              0.3333333333333333,
              "#9c179e"
             ],
             [
              0.4444444444444444,
              "#bd3786"
             ],
             [
              0.5555555555555556,
              "#d8576b"
             ],
             [
              0.6666666666666666,
              "#ed7953"
             ],
             [
              0.7777777777777778,
              "#fb9f3a"
             ],
             [
              0.8888888888888888,
              "#fdca26"
             ],
             [
              1,
              "#f0f921"
             ]
            ],
            "type": "histogram2dcontour"
           }
          ],
          "mesh3d": [
           {
            "colorbar": {
             "outlinewidth": 0,
             "ticks": ""
            },
            "type": "mesh3d"
           }
          ],
          "parcoords": [
           {
            "line": {
             "colorbar": {
              "outlinewidth": 0,
              "ticks": ""
             }
            },
            "type": "parcoords"
           }
          ],
          "pie": [
           {
            "automargin": true,
            "type": "pie"
           }
          ],
          "scatter": [
           {
            "fillpattern": {
             "fillmode": "overlay",
             "size": 10,
             "solidity": 0.2
            },
            "type": "scatter"
           }
          ],
          "scatter3d": [
           {
            "line": {
             "colorbar": {
              "outlinewidth": 0,
              "ticks": ""
             }
            },
            "marker": {
             "colorbar": {
              "outlinewidth": 0,
              "ticks": ""
             }
            },
            "type": "scatter3d"
           }
          ],
          "scattercarpet": [
           {
            "marker": {
             "colorbar": {
              "outlinewidth": 0,
              "ticks": ""
             }
            },
            "type": "scattercarpet"
           }
          ],
          "scattergeo": [
           {
            "marker": {
             "colorbar": {
              "outlinewidth": 0,
              "ticks": ""
             }
            },
            "type": "scattergeo"
           }
          ],
          "scattergl": [
           {
            "marker": {
             "colorbar": {
              "outlinewidth": 0,
              "ticks": ""
             }
            },
            "type": "scattergl"
           }
          ],
          "scattermapbox": [
           {
            "marker": {
             "colorbar": {
              "outlinewidth": 0,
              "ticks": ""
             }
            },
            "type": "scattermapbox"
           }
          ],
          "scatterpolar": [
           {
            "marker": {
             "colorbar": {
              "outlinewidth": 0,
              "ticks": ""
             }
            },
            "type": "scatterpolar"
           }
          ],
          "scatterpolargl": [
           {
            "marker": {
             "colorbar": {
              "outlinewidth": 0,
              "ticks": ""
             }
            },
            "type": "scatterpolargl"
           }
          ],
          "scatterternary": [
           {
            "marker": {
             "colorbar": {
              "outlinewidth": 0,
              "ticks": ""
             }
            },
            "type": "scatterternary"
           }
          ],
          "surface": [
           {
            "colorbar": {
             "outlinewidth": 0,
             "ticks": ""
            },
            "colorscale": [
             [
              0,
              "#0d0887"
             ],
             [
              0.1111111111111111,
              "#46039f"
             ],
             [
              0.2222222222222222,
              "#7201a8"
             ],
             [
              0.3333333333333333,
              "#9c179e"
             ],
             [
              0.4444444444444444,
              "#bd3786"
             ],
             [
              0.5555555555555556,
              "#d8576b"
             ],
             [
              0.6666666666666666,
              "#ed7953"
             ],
             [
              0.7777777777777778,
              "#fb9f3a"
             ],
             [
              0.8888888888888888,
              "#fdca26"
             ],
             [
              1,
              "#f0f921"
             ]
            ],
            "type": "surface"
           }
          ],
          "table": [
           {
            "cells": {
             "fill": {
              "color": "#EBF0F8"
             },
             "line": {
              "color": "white"
             }
            },
            "header": {
             "fill": {
              "color": "#C8D4E3"
             },
             "line": {
              "color": "white"
             }
            },
            "type": "table"
           }
          ]
         },
         "layout": {
          "annotationdefaults": {
           "arrowcolor": "#2a3f5f",
           "arrowhead": 0,
           "arrowwidth": 1
          },
          "autotypenumbers": "strict",
          "coloraxis": {
           "colorbar": {
            "outlinewidth": 0,
            "ticks": ""
           }
          },
          "colorscale": {
           "diverging": [
            [
             0,
             "#8e0152"
            ],
            [
             0.1,
             "#c51b7d"
            ],
            [
             0.2,
             "#de77ae"
            ],
            [
             0.3,
             "#f1b6da"
            ],
            [
             0.4,
             "#fde0ef"
            ],
            [
             0.5,
             "#f7f7f7"
            ],
            [
             0.6,
             "#e6f5d0"
            ],
            [
             0.7,
             "#b8e186"
            ],
            [
             0.8,
             "#7fbc41"
            ],
            [
             0.9,
             "#4d9221"
            ],
            [
             1,
             "#276419"
            ]
           ],
           "sequential": [
            [
             0,
             "#0d0887"
            ],
            [
             0.1111111111111111,
             "#46039f"
            ],
            [
             0.2222222222222222,
             "#7201a8"
            ],
            [
             0.3333333333333333,
             "#9c179e"
            ],
            [
             0.4444444444444444,
             "#bd3786"
            ],
            [
             0.5555555555555556,
             "#d8576b"
            ],
            [
             0.6666666666666666,
             "#ed7953"
            ],
            [
             0.7777777777777778,
             "#fb9f3a"
            ],
            [
             0.8888888888888888,
             "#fdca26"
            ],
            [
             1,
             "#f0f921"
            ]
           ],
           "sequentialminus": [
            [
             0,
             "#0d0887"
            ],
            [
             0.1111111111111111,
             "#46039f"
            ],
            [
             0.2222222222222222,
             "#7201a8"
            ],
            [
             0.3333333333333333,
             "#9c179e"
            ],
            [
             0.4444444444444444,
             "#bd3786"
            ],
            [
             0.5555555555555556,
             "#d8576b"
            ],
            [
             0.6666666666666666,
             "#ed7953"
            ],
            [
             0.7777777777777778,
             "#fb9f3a"
            ],
            [
             0.8888888888888888,
             "#fdca26"
            ],
            [
             1,
             "#f0f921"
            ]
           ]
          },
          "colorway": [
           "#636efa",
           "#EF553B",
           "#00cc96",
           "#ab63fa",
           "#FFA15A",
           "#19d3f3",
           "#FF6692",
           "#B6E880",
           "#FF97FF",
           "#FECB52"
          ],
          "font": {
           "color": "#2a3f5f"
          },
          "geo": {
           "bgcolor": "white",
           "lakecolor": "white",
           "landcolor": "#E5ECF6",
           "showlakes": true,
           "showland": true,
           "subunitcolor": "white"
          },
          "hoverlabel": {
           "align": "left"
          },
          "hovermode": "closest",
          "mapbox": {
           "style": "light"
          },
          "paper_bgcolor": "white",
          "plot_bgcolor": "#E5ECF6",
          "polar": {
           "angularaxis": {
            "gridcolor": "white",
            "linecolor": "white",
            "ticks": ""
           },
           "bgcolor": "#E5ECF6",
           "radialaxis": {
            "gridcolor": "white",
            "linecolor": "white",
            "ticks": ""
           }
          },
          "scene": {
           "xaxis": {
            "backgroundcolor": "#E5ECF6",
            "gridcolor": "white",
            "gridwidth": 2,
            "linecolor": "white",
            "showbackground": true,
            "ticks": "",
            "zerolinecolor": "white"
           },
           "yaxis": {
            "backgroundcolor": "#E5ECF6",
            "gridcolor": "white",
            "gridwidth": 2,
            "linecolor": "white",
            "showbackground": true,
            "ticks": "",
            "zerolinecolor": "white"
           },
           "zaxis": {
            "backgroundcolor": "#E5ECF6",
            "gridcolor": "white",
            "gridwidth": 2,
            "linecolor": "white",
            "showbackground": true,
            "ticks": "",
            "zerolinecolor": "white"
           }
          },
          "shapedefaults": {
           "line": {
            "color": "#2a3f5f"
           }
          },
          "ternary": {
           "aaxis": {
            "gridcolor": "white",
            "linecolor": "white",
            "ticks": ""
           },
           "baxis": {
            "gridcolor": "white",
            "linecolor": "white",
            "ticks": ""
           },
           "bgcolor": "#E5ECF6",
           "caxis": {
            "gridcolor": "white",
            "linecolor": "white",
            "ticks": ""
           }
          },
          "title": {
           "x": 0.05
          },
          "xaxis": {
           "automargin": true,
           "gridcolor": "white",
           "linecolor": "white",
           "ticks": "",
           "title": {
            "standoff": 15
           },
           "zerolinecolor": "white",
           "zerolinewidth": 2
          },
          "yaxis": {
           "automargin": true,
           "gridcolor": "white",
           "linecolor": "white",
           "ticks": "",
           "title": {
            "standoff": 15
           },
           "zerolinecolor": "white",
           "zerolinewidth": 2
          }
         }
        },
        "xaxis": {
         "anchor": "y",
         "domain": [
          0,
          1
         ],
         "title": {
          "text": "value"
         }
        },
        "yaxis": {
         "anchor": "x",
         "domain": [
          0,
          1
         ],
         "title": {
          "text": "count"
         }
        }
       }
      }
     },
     "metadata": {},
     "output_type": "display_data"
    },
    {
     "name": "stdout",
     "output_type": "stream",
     "text": [
      "tensor(25338.1308, dtype=torch.float64)\n",
      "rss tensor(23579.7555, dtype=torch.float64)\n",
      "Div tensor(0.9306, dtype=torch.float64)\n",
      "tensor(0.0694, dtype=torch.float64)\n"
     ]
    }
   ],
   "source": [
    "def calculate_R_squared_com(guide):\n",
    "    predictive = pyro.infer.Predictive(model, guide=guide, num_samples=1000)\n",
    "    predictions = predictive(trust, patch, time)\n",
    "\n",
    "    print(predictions.keys())\n",
    "    simulated_outcome = (\n",
    "        predictions[\"weight_trust\"] * trust\n",
    "        + predictions[\"weight_patch\"] * patch\n",
    "        + predictions[\"bias\"]\n",
    "    )\n",
    "    print(simulated_outcome.shape)\n",
    "    mean_sim_outcome = simulated_outcome.mean(dim=0)\n",
    "    print(mean_sim_outcome.shape)\n",
    "\n",
    "    fig = px.histogram(time - mean_sim_outcome)\n",
    "    fig.show()\n",
    "\n",
    "    observed_mean = torch.mean(time)\n",
    "\n",
    "    tss = torch.sum((time - observed_mean) ** 2)\n",
    "    print(tss)\n",
    "\n",
    "    rss = torch.sum((time - mean_sim_outcome) ** 2)\n",
    "\n",
    "    r_squared = 1 - (rss / tss)\n",
    "\n",
    "    return r_squared\n",
    "\n",
    "\n",
    "print(calculate_R_squared_com(guide))\n"
   ]
  },
  {
   "cell_type": "code",
   "execution_count": 73,
   "metadata": {},
   "outputs": [
    {
     "data": {
      "application/vnd.plotly.v1+json": {
       "config": {
        "plotlyServerURL": "https://plot.ly"
       },
       "data": [
        {
         "alignmentgroup": "True",
         "bingroup": "x",
         "hovertemplate": "variable=0<br>value=%{x}<br>count=%{y}<extra></extra>",
         "legendgroup": "0",
         "marker": {
          "color": "#636efa",
          "pattern": {
           "shape": ""
          }
         },
         "name": "0",
         "offsetgroup": "0",
         "orientation": "v",
         "showlegend": false,
         "type": "histogram",
         "x": [
          -1.013631820678711,
          1.6168770790100098,
          0.6298698782920837,
          -0.22414040565490723,
          -2.389354944229126,
          0.6709112524986267,
          -1.5145666599273682,
          0.9238837361335754,
          0.15849220752716064,
          -0.9446122646331787,
          0.4256683588027954,
          0.0372065007686615,
          -0.5356944799423218,
          -0.34105271100997925,
          -0.994558572769165,
          0.8745455145835876,
          -1.0807645320892334,
          -1.9946513175964355,
          -1.4260962009429932,
          -0.04892215132713318,
          0.26962167024612427,
          1.3385400772094727,
          -0.18707269430160522,
          -0.12711361050605774,
          -0.08837267756462097,
          -0.011916428804397583,
          0.49169307947158813,
          -1.4693362712860107,
          -0.13884317874908447,
          0.34783482551574707,
          -1.0244731903076172,
          -0.01751565933227539,
          -0.8961290121078491,
          0.4056575298309326,
          -0.5512628555297852,
          -1.6684741973876953,
          -0.8283798694610596,
          -0.33445125818252563,
          -2.462923288345337,
          -0.9145130515098572,
          -1.1062084436416626,
          -0.9767375588417053,
          -0.34009572863578796,
          -0.9976242184638977,
          0.730523407459259,
          0.11549806594848633,
          -1.3455376625061035,
          -0.22397106885910034,
          -1.428769588470459,
          -0.17683158814907074,
          -1.3102022409439087,
          -0.4217637777328491,
          -0.8879657983779907,
          -2.0505964756011963,
          -0.3536439538002014,
          -1.1082749366760254,
          -0.32692500948905945,
          -0.8220990896224976,
          -0.3374769389629364,
          -1.2044527530670166,
          -0.6235945224761963,
          -0.9396955370903015,
          0.8573121428489685,
          -0.6984304189682007,
          -0.8691741824150085,
          -0.5103898644447327,
          -0.6623947620391846,
          -0.7782397270202637,
          -0.9069420099258423,
          -0.6797018647193909,
          0.13885319232940674,
          -1.2952067852020264,
          -0.5387669801712036,
          -0.7243999242782593,
          0.13720643520355225,
          -2.519876003265381,
          -1.1779056787490845,
          -0.4183136522769928,
          0.821921169757843,
          -1.3822383880615234,
          1.4183433055877686,
          -1.655379056930542,
          -1.467750072479248,
          -1.359426498413086,
          0.11204445362091064,
          0.8150014281272888,
          0.12441784143447876,
          -0.1699380725622177,
          -0.47533777356147766,
          -1.0357725620269775,
          -0.057129859924316406,
          -0.24086062610149384,
          0.628831684589386,
          0.5333146452903748,
          0.25136297941207886,
          -0.05541175603866577,
          0.08721157908439636,
          -0.5003430843353271,
          0.3804502487182617,
          -0.9201561808586121,
          -0.5327887535095215,
          0.41289621591567993,
          -0.27682778239250183,
          -1.626363754272461,
          -1.3214442729949951,
          0.2936668395996094,
          -1.6114749908447266,
          0.7650036215782166,
          0.21869027614593506,
          0.21024775505065918,
          0.7917879223823547,
          0.36764079332351685,
          -0.34576013684272766,
          -0.8020729422569275,
          -0.5675039291381836,
          -0.3935237526893616,
          0.05311247706413269,
          0.4051905870437622,
          -0.30190616846084595,
          -0.7496169805526733,
          0.5394946932792664,
          -0.0032570958137512207,
          -0.48888033628463745,
          -0.658894419670105,
          0.9660422205924988,
          -0.9533553719520569,
          0.2158675193786621,
          -0.10755914449691772,
          0.1936579942703247,
          -0.09002760052680969,
          0.20477360486984253,
          0.08134815096855164,
          -0.6788640022277832,
          -0.5804988145828247,
          -0.8113803267478943,
          0.893240749835968,
          0.22898626327514648,
          -0.6595705151557922,
          -0.33151423931121826,
          -0.7242600917816162,
          0.6701645255088806,
          0.6234542727470398,
          0.5857794284820557,
          0.46119117736816406,
          -0.9856225252151489,
          1.5011694431304932,
          -0.10202595591545105,
          -0.24825888872146606,
          -0.13249817490577698,
          -1.3573534488677979,
          0.22438907623291016,
          0.16953593492507935,
          0.1136159896850586,
          -0.5207890868186951,
          -0.5123453736305237,
          -0.6813751459121704,
          0.42225104570388794,
          -1.592301607131958,
          -0.50461745262146,
          0.650172770023346,
          -0.13260236382484436,
          2.145998001098633,
          -1.3866004943847656,
          -0.710766077041626,
          0.03441339731216431,
          -1.7264776229858398,
          -0.5544664263725281,
          0.10802733898162842,
          -0.9080739617347717,
          0.10110974311828613,
          -0.5271960496902466,
          -1.1873292922973633,
          0.9397405982017517,
          -0.14956815540790558,
          -0.6355026960372925,
          -1.4283206462860107,
          -0.3896702527999878,
          -1.0852206945419312,
          -0.9095464944839478,
          -0.6074202656745911,
          0.7618498206138611,
          0.740973174571991,
          -0.21934930980205536,
          -0.16703832149505615,
          0.1827172040939331,
          0.4191073179244995,
          0.4468204975128174,
          0.056109875440597534,
          0.9960482716560364,
          -1.7257905006408691,
          0.268993616104126,
          -0.9830268025398254,
          -1.469961404800415,
          -0.7047631740570068,
          -0.3216182291507721,
          -0.025356769561767578,
          0.58782559633255,
          -0.07530036568641663,
          1.484433650970459,
          -0.9134874939918518,
          1.1826107501983643,
          0.12458693981170654,
          -1.5372321605682373,
          0.8583784699440002,
          0.8931097388267517,
          0.11082792282104492,
          0.7048670649528503,
          0.3462676405906677,
          -0.3271910548210144,
          0.2230932116508484,
          0.44121915102005005,
          -0.41352128982543945,
          -2.13392972946167,
          -0.6494124531745911,
          -0.5001823902130127,
          -0.14462155103683472,
          -1.0274351835250854,
          0.18904399871826172,
          0.6319509148597717,
          -0.3139500021934509,
          -0.4979722499847412,
          -1.0522453784942627,
          -0.08883419632911682,
          -0.9592427611351013,
          -0.9158018827438354,
          0.7575958371162415,
          -0.34606921672821045,
          -1.5912456512451172,
          -0.6644201278686523,
          -1.2103557586669922,
          0.33626633882522583,
          -0.7058860659599304,
          -3.08011794090271,
          -0.6044925451278687,
          -0.40435791015625,
          -3.7758028507232666,
          -0.8702924251556396,
          -1.4093055725097656,
          0.4398467540740967,
          -0.973167359828949,
          -1.244028925895691,
          -1.516021728515625,
          0.3599119186401367,
          -0.48149022459983826,
          0.7812007069587708,
          1.1992902755737305,
          -1.8747546672821045,
          0.09217220544815063,
          -0.41344863176345825,
          -0.7221659421920776,
          0.6406694054603577,
          -0.009839266538619995,
          -1.8437364101409912,
          1.45585298538208,
          -1.1013561487197876,
          -0.9277182221412659,
          0.7375131249427795,
          -0.6435737013816833,
          1.0883240699768066,
          0.06549689173698425,
          -0.5308512449264526,
          0.05532899498939514,
          0.8696240782737732,
          -0.6642789840698242,
          0.2643558382987976,
          -2.282238006591797,
          -0.365129679441452,
          -1.1631855964660645,
          -2.0755040645599365,
          -1.179731845855713,
          -1.5111382007598877,
          0.23100703954696655,
          -0.97714763879776,
          -0.20496171712875366,
          -0.47908979654312134,
          0.668922483921051,
          0.6812340617179871,
          0.5978600978851318,
          0.13190209865570068,
          -2.2788009643554688,
          -2.173438549041748,
          1.466820478439331,
          0.8859990239143372,
          -0.8055741786956787,
          -0.2254590094089508,
          -0.3397367000579834,
          -1.0643408298492432,
          0.17702114582061768,
          -0.8946858644485474,
          -0.13535362482070923,
          -1.6233751773834229,
          -0.621055543422699,
          -0.3542574942111969,
          -0.4390811622142792,
          0.19227832555770874,
          -1.0431239604949951,
          1.776383399963379,
          0.39842385053634644,
          -0.2419195920228958,
          -0.612432599067688,
          -0.8966421484947205,
          0.8874315619468689,
          -1.538398265838623,
          0.8403070569038391,
          -0.610418438911438,
          0.4095643162727356,
          0.2893472909927368,
          -0.13396009802818298,
          -0.8200299739837646,
          1.033231258392334,
          0.8819068074226379,
          -0.43295902013778687,
          -1.260260820388794,
          -0.8523458242416382,
          -1.4599723815917969,
          0.911169707775116,
          -0.3509534001350403,
          0.37780267000198364,
          -1.3059918880462646,
          -0.3642340302467346,
          0.2835317850112915,
          -0.9541948437690735,
          -1.187422513961792,
          -1.0016894340515137,
          -0.24402666091918945,
          -0.11988306045532227,
          0.04835358262062073,
          -0.12710246443748474,
          -1.7288110256195068,
          0.9273788332939148,
          0.14250308275222778,
          -0.40804633498191833,
          0.5899239778518677,
          -2.56906795501709,
          -0.34827134013175964,
          -0.03804787993431091,
          -0.004664719104766846,
          -0.7350382208824158,
          -1.2275433540344238,
          0.6979982256889343,
          -0.5911729335784912,
          0.7749949097633362,
          -1.6383719444274902,
          -1.139425277709961,
          -0.6921606063842773,
          -1.8499515056610107,
          -0.07401120662689209,
          -0.022740721702575684,
          0.24676817655563354,
          0.03396415710449219,
          -0.29238712787628174,
          -0.33563032746315,
          0.15178459882736206,
          -0.07342904806137085,
          -2.7600183486938477,
          -0.12658601999282837,
          0.6275668740272522,
          -0.04934817552566528,
          -1.004197120666504,
          -1.4773225784301758,
          -0.4020496606826782,
          -1.0797593593597412,
          -0.7395708560943604,
          0.08426901698112488,
          -0.26057082414627075,
          -0.20861968398094177,
          -1.2463397979736328,
          -2.431976079940796,
          -0.587261974811554,
          -0.7194400429725647,
          -0.8897868990898132,
          0.5020033121109009,
          -0.3388262391090393,
          -0.08217236399650574,
          -1.0008280277252197,
          0.2745315432548523,
          -1.2919129133224487,
          1.04701828956604,
          -0.662337064743042,
          -0.36440473794937134,
          -0.015575200319290161,
          -1.8721225261688232,
          -0.35702040791511536,
          -0.022078752517700195,
          -0.02144816517829895,
          0.6859704852104187,
          -0.04510071873664856,
          -0.9045849442481995,
          -1.375102162361145,
          -1.105611801147461,
          -0.4618716537952423,
          -0.6543915271759033,
          -0.9720643758773804,
          0.1671205759048462,
          -1.5822489261627197,
          -0.5955535173416138,
          0.14938193559646606,
          -1.6901495456695557,
          -1.3682000637054443,
          -0.0040375590324401855,
          -0.5806790590286255,
          -1.0310218334197998,
          -0.8258496522903442,
          -1.4926581382751465,
          0.6250986456871033,
          -0.33549684286117554,
          -0.03988948464393616,
          0.5347508788108826,
          -0.2811168134212494,
          -0.21850238740444183,
          0.024466663599014282,
          -2.353630304336548,
          0.8787253499031067,
          0.6939415335655212,
          -0.33819398283958435,
          0.41254621744155884,
          0.2671853303909302,
          -1.3438708782196045,
          -0.5004457235336304,
          -0.4882556200027466,
          0.6871981024742126,
          -0.6024717092514038,
          1.1347863674163818,
          -0.14902016520500183,
          -0.26273685693740845,
          0.7102765440940857,
          -0.03815591335296631,
          -0.07735887169837952,
          1.567168951034546,
          -0.5565201640129089,
          0.7684163451194763,
          0.027785509824752808,
          0.11270678043365479,
          -0.7985522747039795,
          -0.08112156391143799,
          -1.8204972743988037,
          -1.0412490367889404,
          0.6441407799720764,
          0.3202407956123352,
          -0.4697627127170563,
          -0.4599270224571228,
          0.3692195415496826,
          -0.22203196585178375,
          -1.5394244194030762,
          -0.5174905061721802,
          -0.9365153312683105,
          -0.9707762598991394,
          -0.8285338282585144,
          -0.01445356011390686,
          -0.509296178817749,
          -0.25709497928619385,
          0.2928342819213867,
          -0.36699458956718445,
          -0.4031812846660614,
          -0.06679961085319519,
          -1.5798356533050537,
          -0.46214187145233154,
          -1.3807885646820068,
          0.347759485244751,
          0.20114421844482422,
          0.29086267948150635,
          1.9981014728546143,
          -0.42594093084335327,
          -0.5628766417503357,
          -0.09637889266014099,
          0.10425448417663574,
          -0.148013174533844,
          -0.5063802003860474,
          -0.41710925102233887,
          -1.4039678573608398,
          0.9215479493141174,
          -1.3634878396987915,
          -0.6967276930809021,
          0.31057095527648926,
          0.43523162603378296,
          -0.5380439758300781,
          0.07314708828926086,
          0.2668994069099426,
          -1.1636221408843994,
          0.24860084056854248,
          -0.24501584470272064,
          -2.3560144901275635,
          -1.362471580505371,
          0.1945422887802124,
          -0.05845826864242554,
          0.7080777287483215,
          -0.8760213255882263,
          0.5761609673500061,
          -0.004260510206222534,
          0.651694118976593,
          0.6339042782783508,
          -0.9351566433906555,
          0.7998058199882507,
          0.05292278528213501,
          -0.13954514265060425,
          0.7280392050743103,
          1.748995304107666,
          -0.04985767602920532,
          0.10846418142318726,
          -0.6861463189125061,
          -1.2789433002471924,
          -0.2599744200706482,
          1.00478196144104,
          -0.9698026776313782,
          -0.721046507358551,
          -0.5088219046592712,
          -0.8961927890777588,
          -1.1653027534484863,
          -2.1858906745910645,
          1.0743610858917236,
          -1.637023687362671,
          0.083528071641922,
          -2.1357481479644775,
          -0.19535450637340546,
          -0.8968797326087952,
          -0.46912628412246704,
          0.6469462513923645,
          0.4511709213256836,
          -0.6157572865486145,
          -0.4467567801475525,
          -0.0851605236530304,
          -0.6476096510887146,
          0.29450857639312744,
          -1.2693051099777222,
          -1.028007984161377,
          0.07857105135917664,
          -0.990926206111908,
          0.4541729688644409,
          1.0679042339324951,
          -1.109173059463501,
          -0.4023840129375458,
          -0.17340315878391266,
          -0.2817375063896179,
          -0.006476700305938721,
          0.5280172824859619,
          0.07558634877204895,
          -0.5982959270477295,
          -0.9898877739906311,
          -0.9952930212020874,
          0.07651564478874207,
          1.012204647064209,
          0.1409134864807129,
          0.7862170338630676,
          -1.2792248725891113,
          -0.9689640402793884,
          -0.07817953824996948,
          0.5453183650970459,
          -0.28354817628860474,
          -0.04590985178947449,
          1.1153221130371094,
          -1.4156358242034912,
          -0.27867159247398376,
          -0.9008329510688782,
          -0.42636826634407043,
          0.9827842116355896,
          0.19038093090057373,
          0.5119397640228271,
          -0.305122435092926,
          0.033755987882614136,
          -0.5316128730773926,
          0.3636067509651184,
          -0.8958606719970703,
          -0.006220132112503052,
          -0.013703703880310059,
          -0.6142511367797852,
          -0.08468401432037354,
          -1.9129867553710938,
          -0.2868572175502777,
          -0.5904524326324463,
          -0.8320155143737793,
          -1.9624626636505127,
          -0.8618611693382263,
          0.3456750512123108,
          -0.668712317943573,
          0.06133541464805603,
          -0.7193609476089478,
          -0.4551452696323395,
          -0.5926468372344971,
          -1.358424425125122,
          0.40843236446380615,
          -1.5879626274108887,
          0.2512032389640808,
          1.1883461475372314,
          1.2069494724273682,
          0.05453646183013916,
          -0.16663707792758942,
          -0.09353628754615784,
          0.06871432065963745,
          -0.9533126354217529,
          -1.0555939674377441,
          -2.2252697944641113,
          -1.1631591320037842,
          0.107982337474823,
          -1.2411775588989258,
          -0.8744474649429321,
          -1.0163403749465942,
          0.48930251598358154,
          -0.17583802342414856,
          0.030471324920654297,
          -0.5970444679260254,
          0.9100067019462585,
          -1.4628257751464844,
          -0.2505491375923157,
          0.012768477201461792,
          -1.5624263286590576,
          -1.7468793392181396,
          -0.29168981313705444,
          -0.03238111734390259,
          -0.04620361328125,
          -0.35417813062667847,
          -0.6116994619369507,
          -1.128190040588379,
          -0.5325688123703003,
          0.28479766845703125,
          -1.55275559425354,
          -1.7701022624969482,
          -0.9249208569526672,
          -1.0233795642852783,
          -0.6378687620162964,
          0.5070899128913879,
          -1.4139795303344727,
          0.8016865849494934,
          -0.8210787773132324,
          -0.385406494140625,
          1.0123860836029053,
          -0.48809412121772766,
          -1.1835471391677856,
          0.4015018939971924,
          -0.5863656997680664,
          -0.3459688127040863,
          -1.00681471824646,
          0.3401283025741577,
          -0.3433537483215332,
          0.46851474046707153,
          0.4017297625541687,
          -0.7089993357658386,
          -0.3239707350730896,
          -1.760594129562378,
          0.1305961012840271,
          0.022421926259994507,
          -0.7172840237617493,
          -0.6320379972457886,
          -0.10806629061698914,
          -0.11107954382896423,
          -0.9586683511734009,
          0.502046525478363,
          -0.4817791283130646,
          -1.1780633926391602,
          -1.1021760702133179,
          0.2113187313079834,
          -0.9042941331863403,
          -0.8355844616889954,
          0.02728131413459778,
          1.3900103569030762,
          -0.9108206629753113,
          -0.290579617023468,
          -1.6341016292572021,
          -0.32071325182914734,
          -1.0814528465270996,
          -1.3773775100708008,
          -0.07733374834060669,
          -0.4263114333152771,
          -0.3061291575431824,
          -0.6575067043304443,
          -0.8621770143508911,
          -0.3728671669960022,
          0.7725551724433899,
          -0.27496421337127686,
          -0.11686161160469055,
          -0.0008787214756011963,
          -0.16278935968875885,
          -2.316070079803467,
          0.6431867480278015,
          0.6999459862709045,
          -0.23456186056137085,
          -0.8468707799911499,
          -1.2923904657363892,
          1.285968542098999,
          -1.2009668350219727,
          -0.5729786157608032,
          -1.6650843620300293,
          -1.5440659523010254,
          -0.49846816062927246,
          -1.3625950813293457,
          0.7826568484306335,
          -0.4903709590435028,
          -0.3873637914657593,
          0.14065849781036377,
          0.2800288200378418,
          0.1719645857810974,
          -0.17329922318458557,
          -0.1464078724384308,
          0.8889599442481995,
          -0.4986862242221832,
          -0.909899115562439,
          -1.9434738159179688,
          -1.6235506534576416,
          -1.1022111177444458,
          0.11501729488372803,
          -0.3586408495903015,
          0.35244226455688477,
          -1.994554042816162,
          0.6736705899238586,
          0.12425023317337036,
          -0.7801574468612671,
          -1.718616008758545,
          -1.172942042350769,
          -0.15428347885608673,
          0.9723586440086365,
          0.8795128464698792,
          -1.0334341526031494,
          0.21463793516159058,
          -0.42707279324531555,
          -0.6370401382446289,
          -0.616295337677002,
          -0.7670886516571045,
          -0.06528985500335693,
          0.1475040316581726,
          -0.5143545269966125,
          0.3886008858680725,
          -0.5676496028900146,
          0.5991841554641724,
          -1.6977159976959229,
          -0.1318858563899994,
          -0.5466722249984741,
          -0.8725430369377136,
          -0.4473772346973419,
          -0.7502263188362122,
          -1.4300744533538818,
          0.3706933259963989,
          -1.3077666759490967,
          0.5008456110954285,
          -0.050969213247299194,
          -0.38123542070388794,
          -0.9407531023025513,
          -0.12345704436302185,
          -1.9544651508331299,
          -0.3296317458152771,
          -0.9408608675003052,
          0.4255775213241577,
          0.2656974792480469,
          -0.34667837619781494,
          0.017303019762039185,
          -1.2550740242004395,
          -0.03629341721534729,
          -0.6423760056495667,
          0.012487947940826416,
          -1.2028554677963257,
          -0.7450603246688843,
          -0.1240149438381195,
          -1.3576719760894775,
          -0.9811898469924927,
          -0.03290775418281555,
          -0.5440305471420288,
          -1.2343428134918213,
          -0.35472574830055237,
          -0.8923271298408508,
          -0.30105069279670715,
          0.06677111983299255,
          0.29510658979415894,
          -0.7454984784126282,
          -0.21226376295089722,
          -0.2078326791524887,
          -0.3438088297843933,
          -1.3880701065063477,
          0.1986783742904663,
          -0.3932839334011078,
          -0.5551292300224304,
          -1.9982895851135254,
          0.41849857568740845,
          -0.2965163588523865,
          0.29662227630615234,
          -0.7564195394515991,
          0.045173585414886475,
          -0.9296591281890869,
          -1.066209316253662,
          -1.1549434661865234,
          0.13302791118621826,
          -0.8390219211578369,
          0.06572666764259338,
          -1.0050114393234253,
          -0.778381884098053,
          1.1894934177398682,
          -0.7099814414978027,
          -0.35498514771461487,
          0.17076611518859863,
          -1.5305273532867432,
          -0.7750134468078613,
          0.14678627252578735,
          -1.6454620361328125,
          -1.001433253288269,
          0.14948803186416626,
          -1.0917835235595703,
          -0.016144633293151855,
          -1.5444557666778564,
          0.10842901468276978,
          -0.6472470760345459,
          -0.7746487855911255,
          0.02154862880706787,
          0.16416317224502563,
          0.6053904891014099,
          -0.9119642972946167,
          0.41050100326538086,
          1.0012462139129639,
          0.035454243421554565,
          -0.8221476674079895,
          0.3894762396812439,
          -1.3792738914489746,
          0.2775363326072693,
          -2.3395020961761475,
          -0.5377905964851379,
          -0.5519774556159973,
          0.1515389084815979,
          -1.6842124462127686,
          -0.9118817448616028,
          -0.6135352849960327,
          -1.2754082679748535,
          -2.5228371620178223,
          -1.10490083694458,
          -1.197983980178833,
          -1.6013453006744385,
          -1.0104269981384277,
          -0.5279601812362671,
          0.3414075970649719,
          0.07201260328292847,
          -2.1601831912994385,
          0.031326889991760254,
          -0.07380881905555725,
          0.31832265853881836,
          -0.26539790630340576,
          0.564791202545166,
          0.2601780891418457,
          -0.28931140899658203,
          -1.507718801498413,
          -0.683834969997406,
          -0.9267091155052185,
          -1.3590989112854004,
          -0.5038667321205139,
          -0.18212690949440002,
          -0.4767267405986786,
          -0.8619066476821899,
          -0.7632143497467041,
          1.0773711204528809,
          -0.8027068376541138,
          -0.1835073083639145,
          -0.599278450012207,
          0.8825023770332336,
          -0.9076918959617615,
          -1.5614376068115234,
          -0.05375811457633972,
          -0.07711091637611389,
          -1.1829214096069336,
          -0.8445265293121338,
          -0.9968506693840027,
          -0.5743071436882019,
          -2.133448600769043,
          -0.46445339918136597,
          -0.24515138566493988,
          0.3192353844642639,
          -0.4231976866722107,
          -0.30134788155555725,
          0.38723230361938477,
          -0.6484163403511047,
          0.29460281133651733,
          -1.1374905109405518,
          0.16563063859939575,
          -1.903764009475708,
          -0.08402332663536072,
          -0.12489080429077148,
          -1.0701371431350708,
          -0.4326237440109253,
          -1.8685686588287354,
          -0.938959538936615,
          -0.12195536494255066,
          -0.9676379561424255,
          -0.17088356614112854,
          -1.2944213151931763,
          -0.9221635460853577,
          0.6056897044181824,
          -0.63437420129776,
          0.5019778609275818,
          -0.2131694257259369,
          -0.6028433442115784,
          -0.7945149540901184,
          -1.7209250926971436,
          -0.8721518516540527,
          -0.07939907908439636,
          -0.2401621788740158,
          -0.4823678433895111,
          -0.5012287497520447,
          -0.1438135802745819,
          -0.4848921597003937,
          -0.6410478353500366,
          -0.5318666100502014,
          0.02325555682182312,
          -0.5603797435760498,
          -0.8687899708747864,
          -2.15655517578125,
          -1.8236379623413086,
          -1.3711392879486084,
          -0.5070492625236511,
          1.1942899227142334,
          0.10079354047775269,
          -1.532905101776123,
          -2.600229501724243,
          0.33497154712677,
          -0.7129921317100525,
          -0.05352121591567993,
          0.04060479998588562,
          -1.3101191520690918,
          0.13906574249267578,
          -0.6347417831420898,
          1.2422549724578857,
          -0.3358195424079895,
          -0.21952667832374573,
          -0.4413800835609436,
          0.17492306232452393,
          0.6383824944496155,
          -1.0703880786895752,
          -0.7439799308776855,
          1.094254732131958,
          -1.4601473808288574,
          0.5762017369270325,
          -0.7111591100692749,
          -1.6965992450714111,
          0.6105554699897766,
          -0.6570804715156555,
          -0.9944956302642822,
          -0.5616946220397949,
          -1.7175140380859375,
          -1.1208081245422363,
          -1.8918077945709229,
          0.49009907245635986,
          0.5858519077301025,
          -0.003578662872314453,
          0.07923415303230286,
          -1.0445387363433838,
          -1.1719069480895996,
          -0.4873868227005005,
          -0.9914945363998413,
          -0.3801872134208679,
          0.1497475504875183,
          -0.3492986261844635,
          1.0171699523925781,
          -0.6144773364067078,
          -1.2824058532714844,
          0.09102830290794373,
          0.6432432532310486,
          1.086249589920044,
          0.31104224920272827,
          -1.1199263334274292,
          -0.10581845045089722,
          -1.176535725593567,
          -0.4309810698032379,
          0.31457024812698364,
          -1.2369012832641602,
          -0.584323525428772,
          0.24036496877670288,
          -1.3510005474090576,
          -0.07549399137496948,
          -0.531497597694397,
          -0.3062130808830261,
          -0.7833982706069946,
          0.35337746143341064,
          -0.6294577121734619,
          -0.8367390632629395,
          -0.45428889989852905,
          -0.1864217072725296,
          -1.9905896186828613,
          -1.371347188949585,
          -0.2169887274503708,
          -0.8939980864524841,
          -0.45777326822280884,
          -0.5008348226547241,
          -0.3768104314804077,
          -0.8670722246170044,
          -1.325962781906128,
          -0.7237998247146606,
          -0.905284583568573,
          -0.9895156621932983,
          0.3689495325088501,
          -0.986922025680542,
          -0.7839123010635376,
          -1.743769884109497,
          -0.6005537509918213,
          0.4796958565711975,
          -0.9224023222923279,
          -1.6064155101776123,
          -1.9595718383789062,
          0.27171045541763306,
          0.2588154673576355,
          -0.33284419775009155,
          1.7263920307159424,
          -0.3172760009765625,
          0.10650765895843506,
          -0.7335102558135986,
          -0.6320582032203674,
          -0.7052874565124512,
          -0.5387345552444458,
          0.05900001525878906
         ],
         "xaxis": "x",
         "yaxis": "y"
        }
       ],
       "layout": {
        "annotations": [
         {
          "showarrow": false,
          "text": "Mean = -0.40",
          "x": -0.3983381986618042,
          "xanchor": "left",
          "xref": "x",
          "xshift": 20,
          "y": 1,
          "yanchor": "top",
          "yref": "y domain"
         }
        ],
        "barmode": "relative",
        "legend": {
         "title": {
          "text": "variable"
         },
         "tracegroupgap": 0
        },
        "shapes": [
         {
          "line": {
           "color": "red",
           "dash": "dash"
          },
          "type": "line",
          "x0": -0.3983381986618042,
          "x1": -0.3983381986618042,
          "xref": "x",
          "y0": 0,
          "y1": 1,
          "yref": "y domain"
         }
        ],
        "template": {
         "data": {
          "bar": [
           {
            "error_x": {
             "color": "#f2f5fa"
            },
            "error_y": {
             "color": "#f2f5fa"
            },
            "marker": {
             "line": {
              "color": "rgb(17,17,17)",
              "width": 0.5
             },
             "pattern": {
              "fillmode": "overlay",
              "size": 10,
              "solidity": 0.2
             }
            },
            "type": "bar"
           }
          ],
          "barpolar": [
           {
            "marker": {
             "line": {
              "color": "rgb(17,17,17)",
              "width": 0.5
             },
             "pattern": {
              "fillmode": "overlay",
              "size": 10,
              "solidity": 0.2
             }
            },
            "type": "barpolar"
           }
          ],
          "carpet": [
           {
            "aaxis": {
             "endlinecolor": "#A2B1C6",
             "gridcolor": "#506784",
             "linecolor": "#506784",
             "minorgridcolor": "#506784",
             "startlinecolor": "#A2B1C6"
            },
            "baxis": {
             "endlinecolor": "#A2B1C6",
             "gridcolor": "#506784",
             "linecolor": "#506784",
             "minorgridcolor": "#506784",
             "startlinecolor": "#A2B1C6"
            },
            "type": "carpet"
           }
          ],
          "choropleth": [
           {
            "colorbar": {
             "outlinewidth": 0,
             "ticks": ""
            },
            "type": "choropleth"
           }
          ],
          "contour": [
           {
            "colorbar": {
             "outlinewidth": 0,
             "ticks": ""
            },
            "colorscale": [
             [
              0,
              "#0d0887"
             ],
             [
              0.1111111111111111,
              "#46039f"
             ],
             [
              0.2222222222222222,
              "#7201a8"
             ],
             [
              0.3333333333333333,
              "#9c179e"
             ],
             [
              0.4444444444444444,
              "#bd3786"
             ],
             [
              0.5555555555555556,
              "#d8576b"
             ],
             [
              0.6666666666666666,
              "#ed7953"
             ],
             [
              0.7777777777777778,
              "#fb9f3a"
             ],
             [
              0.8888888888888888,
              "#fdca26"
             ],
             [
              1,
              "#f0f921"
             ]
            ],
            "type": "contour"
           }
          ],
          "contourcarpet": [
           {
            "colorbar": {
             "outlinewidth": 0,
             "ticks": ""
            },
            "type": "contourcarpet"
           }
          ],
          "heatmap": [
           {
            "colorbar": {
             "outlinewidth": 0,
             "ticks": ""
            },
            "colorscale": [
             [
              0,
              "#0d0887"
             ],
             [
              0.1111111111111111,
              "#46039f"
             ],
             [
              0.2222222222222222,
              "#7201a8"
             ],
             [
              0.3333333333333333,
              "#9c179e"
             ],
             [
              0.4444444444444444,
              "#bd3786"
             ],
             [
              0.5555555555555556,
              "#d8576b"
             ],
             [
              0.6666666666666666,
              "#ed7953"
             ],
             [
              0.7777777777777778,
              "#fb9f3a"
             ],
             [
              0.8888888888888888,
              "#fdca26"
             ],
             [
              1,
              "#f0f921"
             ]
            ],
            "type": "heatmap"
           }
          ],
          "heatmapgl": [
           {
            "colorbar": {
             "outlinewidth": 0,
             "ticks": ""
            },
            "colorscale": [
             [
              0,
              "#0d0887"
             ],
             [
              0.1111111111111111,
              "#46039f"
             ],
             [
              0.2222222222222222,
              "#7201a8"
             ],
             [
              0.3333333333333333,
              "#9c179e"
             ],
             [
              0.4444444444444444,
              "#bd3786"
             ],
             [
              0.5555555555555556,
              "#d8576b"
             ],
             [
              0.6666666666666666,
              "#ed7953"
             ],
             [
              0.7777777777777778,
              "#fb9f3a"
             ],
             [
              0.8888888888888888,
              "#fdca26"
             ],
             [
              1,
              "#f0f921"
             ]
            ],
            "type": "heatmapgl"
           }
          ],
          "histogram": [
           {
            "marker": {
             "pattern": {
              "fillmode": "overlay",
              "size": 10,
              "solidity": 0.2
             }
            },
            "type": "histogram"
           }
          ],
          "histogram2d": [
           {
            "colorbar": {
             "outlinewidth": 0,
             "ticks": ""
            },
            "colorscale": [
             [
              0,
              "#0d0887"
             ],
             [
              0.1111111111111111,
              "#46039f"
             ],
             [
              0.2222222222222222,
              "#7201a8"
             ],
             [
              0.3333333333333333,
              "#9c179e"
             ],
             [
              0.4444444444444444,
              "#bd3786"
             ],
             [
              0.5555555555555556,
              "#d8576b"
             ],
             [
              0.6666666666666666,
              "#ed7953"
             ],
             [
              0.7777777777777778,
              "#fb9f3a"
             ],
             [
              0.8888888888888888,
              "#fdca26"
             ],
             [
              1,
              "#f0f921"
             ]
            ],
            "type": "histogram2d"
           }
          ],
          "histogram2dcontour": [
           {
            "colorbar": {
             "outlinewidth": 0,
             "ticks": ""
            },
            "colorscale": [
             [
              0,
              "#0d0887"
             ],
             [
              0.1111111111111111,
              "#46039f"
             ],
             [
              0.2222222222222222,
              "#7201a8"
             ],
             [
              0.3333333333333333,
              "#9c179e"
             ],
             [
              0.4444444444444444,
              "#bd3786"
             ],
             [
              0.5555555555555556,
              "#d8576b"
             ],
             [
              0.6666666666666666,
              "#ed7953"
             ],
             [
              0.7777777777777778,
              "#fb9f3a"
             ],
             [
              0.8888888888888888,
              "#fdca26"
             ],
             [
              1,
              "#f0f921"
             ]
            ],
            "type": "histogram2dcontour"
           }
          ],
          "mesh3d": [
           {
            "colorbar": {
             "outlinewidth": 0,
             "ticks": ""
            },
            "type": "mesh3d"
           }
          ],
          "parcoords": [
           {
            "line": {
             "colorbar": {
              "outlinewidth": 0,
              "ticks": ""
             }
            },
            "type": "parcoords"
           }
          ],
          "pie": [
           {
            "automargin": true,
            "type": "pie"
           }
          ],
          "scatter": [
           {
            "marker": {
             "line": {
              "color": "#283442"
             }
            },
            "type": "scatter"
           }
          ],
          "scatter3d": [
           {
            "line": {
             "colorbar": {
              "outlinewidth": 0,
              "ticks": ""
             }
            },
            "marker": {
             "colorbar": {
              "outlinewidth": 0,
              "ticks": ""
             }
            },
            "type": "scatter3d"
           }
          ],
          "scattercarpet": [
           {
            "marker": {
             "colorbar": {
              "outlinewidth": 0,
              "ticks": ""
             }
            },
            "type": "scattercarpet"
           }
          ],
          "scattergeo": [
           {
            "marker": {
             "colorbar": {
              "outlinewidth": 0,
              "ticks": ""
             }
            },
            "type": "scattergeo"
           }
          ],
          "scattergl": [
           {
            "marker": {
             "line": {
              "color": "#283442"
             }
            },
            "type": "scattergl"
           }
          ],
          "scattermapbox": [
           {
            "marker": {
             "colorbar": {
              "outlinewidth": 0,
              "ticks": ""
             }
            },
            "type": "scattermapbox"
           }
          ],
          "scatterpolar": [
           {
            "marker": {
             "colorbar": {
              "outlinewidth": 0,
              "ticks": ""
             }
            },
            "type": "scatterpolar"
           }
          ],
          "scatterpolargl": [
           {
            "marker": {
             "colorbar": {
              "outlinewidth": 0,
              "ticks": ""
             }
            },
            "type": "scatterpolargl"
           }
          ],
          "scatterternary": [
           {
            "marker": {
             "colorbar": {
              "outlinewidth": 0,
              "ticks": ""
             }
            },
            "type": "scatterternary"
           }
          ],
          "surface": [
           {
            "colorbar": {
             "outlinewidth": 0,
             "ticks": ""
            },
            "colorscale": [
             [
              0,
              "#0d0887"
             ],
             [
              0.1111111111111111,
              "#46039f"
             ],
             [
              0.2222222222222222,
              "#7201a8"
             ],
             [
              0.3333333333333333,
              "#9c179e"
             ],
             [
              0.4444444444444444,
              "#bd3786"
             ],
             [
              0.5555555555555556,
              "#d8576b"
             ],
             [
              0.6666666666666666,
              "#ed7953"
             ],
             [
              0.7777777777777778,
              "#fb9f3a"
             ],
             [
              0.8888888888888888,
              "#fdca26"
             ],
             [
              1,
              "#f0f921"
             ]
            ],
            "type": "surface"
           }
          ],
          "table": [
           {
            "cells": {
             "fill": {
              "color": "#506784"
             },
             "line": {
              "color": "rgb(17,17,17)"
             }
            },
            "header": {
             "fill": {
              "color": "#2a3f5f"
             },
             "line": {
              "color": "rgb(17,17,17)"
             }
            },
            "type": "table"
           }
          ]
         },
         "layout": {
          "annotationdefaults": {
           "arrowcolor": "#f2f5fa",
           "arrowhead": 0,
           "arrowwidth": 1
          },
          "autotypenumbers": "strict",
          "coloraxis": {
           "colorbar": {
            "outlinewidth": 0,
            "ticks": ""
           }
          },
          "colorscale": {
           "diverging": [
            [
             0,
             "#8e0152"
            ],
            [
             0.1,
             "#c51b7d"
            ],
            [
             0.2,
             "#de77ae"
            ],
            [
             0.3,
             "#f1b6da"
            ],
            [
             0.4,
             "#fde0ef"
            ],
            [
             0.5,
             "#f7f7f7"
            ],
            [
             0.6,
             "#e6f5d0"
            ],
            [
             0.7,
             "#b8e186"
            ],
            [
             0.8,
             "#7fbc41"
            ],
            [
             0.9,
             "#4d9221"
            ],
            [
             1,
             "#276419"
            ]
           ],
           "sequential": [
            [
             0,
             "#0d0887"
            ],
            [
             0.1111111111111111,
             "#46039f"
            ],
            [
             0.2222222222222222,
             "#7201a8"
            ],
            [
             0.3333333333333333,
             "#9c179e"
            ],
            [
             0.4444444444444444,
             "#bd3786"
            ],
            [
             0.5555555555555556,
             "#d8576b"
            ],
            [
             0.6666666666666666,
             "#ed7953"
            ],
            [
             0.7777777777777778,
             "#fb9f3a"
            ],
            [
             0.8888888888888888,
             "#fdca26"
            ],
            [
             1,
             "#f0f921"
            ]
           ],
           "sequentialminus": [
            [
             0,
             "#0d0887"
            ],
            [
             0.1111111111111111,
             "#46039f"
            ],
            [
             0.2222222222222222,
             "#7201a8"
            ],
            [
             0.3333333333333333,
             "#9c179e"
            ],
            [
             0.4444444444444444,
             "#bd3786"
            ],
            [
             0.5555555555555556,
             "#d8576b"
            ],
            [
             0.6666666666666666,
             "#ed7953"
            ],
            [
             0.7777777777777778,
             "#fb9f3a"
            ],
            [
             0.8888888888888888,
             "#fdca26"
            ],
            [
             1,
             "#f0f921"
            ]
           ]
          },
          "colorway": [
           "#636efa",
           "#EF553B",
           "#00cc96",
           "#ab63fa",
           "#FFA15A",
           "#19d3f3",
           "#FF6692",
           "#B6E880",
           "#FF97FF",
           "#FECB52"
          ],
          "font": {
           "color": "#f2f5fa"
          },
          "geo": {
           "bgcolor": "rgb(17,17,17)",
           "lakecolor": "rgb(17,17,17)",
           "landcolor": "rgb(17,17,17)",
           "showlakes": true,
           "showland": true,
           "subunitcolor": "#506784"
          },
          "hoverlabel": {
           "align": "left"
          },
          "hovermode": "closest",
          "mapbox": {
           "style": "dark"
          },
          "paper_bgcolor": "rgb(17,17,17)",
          "plot_bgcolor": "rgb(17,17,17)",
          "polar": {
           "angularaxis": {
            "gridcolor": "#506784",
            "linecolor": "#506784",
            "ticks": ""
           },
           "bgcolor": "rgb(17,17,17)",
           "radialaxis": {
            "gridcolor": "#506784",
            "linecolor": "#506784",
            "ticks": ""
           }
          },
          "scene": {
           "xaxis": {
            "backgroundcolor": "rgb(17,17,17)",
            "gridcolor": "#506784",
            "gridwidth": 2,
            "linecolor": "#506784",
            "showbackground": true,
            "ticks": "",
            "zerolinecolor": "#C8D4E3"
           },
           "yaxis": {
            "backgroundcolor": "rgb(17,17,17)",
            "gridcolor": "#506784",
            "gridwidth": 2,
            "linecolor": "#506784",
            "showbackground": true,
            "ticks": "",
            "zerolinecolor": "#C8D4E3"
           },
           "zaxis": {
            "backgroundcolor": "rgb(17,17,17)",
            "gridcolor": "#506784",
            "gridwidth": 2,
            "linecolor": "#506784",
            "showbackground": true,
            "ticks": "",
            "zerolinecolor": "#C8D4E3"
           }
          },
          "shapedefaults": {
           "line": {
            "color": "#f2f5fa"
           }
          },
          "sliderdefaults": {
           "bgcolor": "#C8D4E3",
           "bordercolor": "rgb(17,17,17)",
           "borderwidth": 1,
           "tickwidth": 0
          },
          "ternary": {
           "aaxis": {
            "gridcolor": "#506784",
            "linecolor": "#506784",
            "ticks": ""
           },
           "baxis": {
            "gridcolor": "#506784",
            "linecolor": "#506784",
            "ticks": ""
           },
           "bgcolor": "rgb(17,17,17)",
           "caxis": {
            "gridcolor": "#506784",
            "linecolor": "#506784",
            "ticks": ""
           }
          },
          "title": {
           "x": 0.05
          },
          "updatemenudefaults": {
           "bgcolor": "#506784",
           "borderwidth": 0
          },
          "xaxis": {
           "automargin": true,
           "gridcolor": "#283442",
           "linecolor": "#506784",
           "ticks": "",
           "title": {
            "standoff": 15
           },
           "zerolinecolor": "#283442",
           "zerolinewidth": 2
          },
          "yaxis": {
           "automargin": true,
           "gridcolor": "#283442",
           "linecolor": "#506784",
           "ticks": "",
           "title": {
            "standoff": 15
           },
           "zerolinecolor": "#283442",
           "zerolinewidth": 2
          }
         }
        },
        "title": {
         "text": "Posterior marginal distribution of trust weights"
        },
        "xaxis": {
         "anchor": "y",
         "domain": [
          0,
          1
         ],
         "title": {
          "text": "value"
         }
        },
        "yaxis": {
         "anchor": "x",
         "domain": [
          0,
          1
         ],
         "title": {
          "text": "count"
         }
        }
       }
      }
     },
     "metadata": {},
     "output_type": "display_data"
    }
   ],
   "source": [
    "fig1 = px.histogram(\n",
    "    samples[\"weight_trust\"],\n",
    "    title=\"Posterior marginal distribution of trust weights\",\n",
    "    template=\"plotly_dark\",\n",
    ")\n",
    "\n",
    "mean_trust = samples[\"weight_trust\"].mean()\n",
    "\n",
    "\n",
    "fig1.update_traces(showlegend=False)\n",
    "fig1.add_vline(\n",
    "    x=mean_trust,\n",
    "    line_dash=\"dash\",\n",
    "    line_color=\"red\",\n",
    "    annotation_text=f\"Mean = {mean_trust:.2f}\",\n",
    "    annotation_position=\"top right\",\n",
    "    annotation_xshift=20,\n",
    ")\n"
   ]
  },
  {
   "cell_type": "code",
   "execution_count": 74,
   "metadata": {},
   "outputs": [
    {
     "data": {
      "application/vnd.plotly.v1+json": {
       "config": {
        "plotlyServerURL": "https://plot.ly"
       },
       "data": [
        {
         "alignmentgroup": "True",
         "bingroup": "x",
         "hovertemplate": "variable=0<br>value=%{x}<br>count=%{y}<extra></extra>",
         "legendgroup": "0",
         "marker": {
          "color": "#636efa",
          "pattern": {
           "shape": ""
          }
         },
         "name": "0",
         "offsetgroup": "0",
         "orientation": "v",
         "showlegend": false,
         "type": "histogram",
         "x": [
          1.418575644493103,
          1.5291675329208374,
          0.9120023250579834,
          1.1283224821090698,
          1.2751243114471436,
          1.1320384740829468,
          1.6386717557907104,
          1.1183634996414185,
          1.582291603088379,
          1.1497076749801636,
          1.1719716787338257,
          1.2698532342910767,
          0.982076108455658,
          1.411369800567627,
          1.0796151161193848,
          1.181106686592102,
          1.2836045026779175,
          1.0057945251464844,
          1.5610336065292358,
          1.3166431188583374,
          1.1574875116348267,
          1.131435751914978,
          1.113728404045105,
          1.5376795530319214,
          1.03860342502594,
          1.123963475227356,
          1.0893594026565552,
          1.1930327415466309,
          1.1266789436340332,
          1.1605173349380493,
          1.3782061338424683,
          1.068202018737793,
          0.9474982023239136,
          1.2656159400939941,
          1.2800558805465698,
          1.0031598806381226,
          1.2249178886413574,
          1.1865930557250977,
          1.4419889450073242,
          1.0258663892745972,
          1.0606811046600342,
          0.9638077020645142,
          1.212974190711975,
          1.100645899772644,
          1.5237534046173096,
          1.2439056634902954,
          1.3774527311325073,
          1.2036298513412476,
          1.5662903785705566,
          1.157475233078003,
          0.9748644232749939,
          1.119300127029419,
          1.4741570949554443,
          1.292909860610962,
          0.8798168897628784,
          1.0661357641220093,
          1.2868618965148926,
          0.9572746753692627,
          1.196650743484497,
          1.0805323123931885,
          0.7634342908859253,
          1.071589708328247,
          1.1782480478286743,
          1.0970662832260132,
          1.5097155570983887,
          0.9786189794540405,
          1.095423936843872,
          1.2398513555526733,
          1.050575613975525,
          1.4207121133804321,
          1.3666706085205078,
          1.4688295125961304,
          0.9597405195236206,
          1.1594936847686768,
          0.8867213726043701,
          1.4586817026138306,
          1.3793755769729614,
          1.0313217639923096,
          1.2294301986694336,
          1.1077746152877808,
          1.1150320768356323,
          0.8035619258880615,
          1.21491277217865,
          0.9029432535171509,
          1.2074419260025024,
          1.1597223281860352,
          0.6506564021110535,
          1.2644551992416382,
          1.033028483390808,
          0.6507760882377625,
          1.038655400276184,
          1.0621309280395508,
          1.5617330074310303,
          1.4315320253372192,
          1.0984013080596924,
          0.9783335328102112,
          0.908888578414917,
          1.1284546852111816,
          1.186977505683899,
          1.3857522010803223,
          0.9394835233688354,
          1.0191502571105957,
          1.0976349115371704,
          1.0635643005371094,
          1.1948438882827759,
          1.1523853540420532,
          1.4288018941879272,
          1.1899642944335938,
          1.0147464275360107,
          1.3481866121292114,
          1.42134428024292,
          1.149910569190979,
          1.2544056177139282,
          1.2564001083374023,
          1.1993550062179565,
          1.330208659172058,
          1.318159580230713,
          1.1811103820800781,
          1.088553547859192,
          1.465564489364624,
          0.9139965772628784,
          1.070284366607666,
          1.1318049430847168,
          0.9682384729385376,
          1.0766133069992065,
          1.4048185348510742,
          1.1779597997665405,
          1.1148191690444946,
          0.9888556003570557,
          1.1047331094741821,
          1.0232731103897095,
          1.2438464164733887,
          1.444628357887268,
          1.2695719003677368,
          1.2596080303192139,
          0.8693442344665527,
          1.32741117477417,
          0.9761455655097961,
          1.3275340795516968,
          1.2234761714935303,
          1.444868803024292,
          1.025286078453064,
          1.0925536155700684,
          1.3199894428253174,
          1.0864070653915405,
          1.3197312355041504,
          0.7872519493103027,
          1.256990671157837,
          1.1843217611312866,
          1.1205177307128906,
          1.1887180805206299,
          1.183821678161621,
          1.1500802040100098,
          0.8648816347122192,
          1.3109451532363892,
          1.4971959590911865,
          0.9324423670768738,
          1.1453009843826294,
          1.3028290271759033,
          0.9912058115005493,
          1.3752914667129517,
          1.0089795589447021,
          1.290561556816101,
          1.2008610963821411,
          1.174017071723938,
          1.4409602880477905,
          1.1838620901107788,
          1.0078314542770386,
          0.8718021512031555,
          1.3535003662109375,
          0.9003996849060059,
          1.330049991607666,
          0.9884665608406067,
          1.0668548345565796,
          1.5055028200149536,
          1.1144859790802002,
          1.381461262702942,
          1.0074422359466553,
          1.6216232776641846,
          1.2241872549057007,
          1.233897089958191,
          1.109734058380127,
          1.6998306512832642,
          1.3152949810028076,
          1.0053637027740479,
          1.0803464651107788,
          1.0645595788955688,
          0.8559068441390991,
          1.386832594871521,
          1.0749485492706299,
          1.2970497608184814,
          1.0293878316879272,
          1.6353833675384521,
          1.4892535209655762,
          1.0473122596740723,
          1.3074482679367065,
          1.5504193305969238,
          1.2302908897399902,
          1.1362096071243286,
          1.2458469867706299,
          1.006722331047058,
          1.1894663572311401,
          1.360884189605713,
          1.1837209463119507,
          1.1838182210922241,
          0.7611146569252014,
          1.0226792097091675,
          0.9655898213386536,
          1.1692454814910889,
          1.1618424654006958,
          1.2125803232192993,
          1.1874293088912964,
          1.2128100395202637,
          1.1884961128234863,
          1.3949795961380005,
          1.15199613571167,
          0.7981330156326294,
          1.200425148010254,
          1.1843315362930298,
          0.8666985034942627,
          1.1110814809799194,
          1.3626353740692139,
          0.9670642018318176,
          1.4556293487548828,
          1.3104006052017212,
          1.1609843969345093,
          1.005149245262146,
          0.8956571221351624,
          0.9569377899169922,
          1.117048740386963,
          1.0126432180404663,
          1.0766732692718506,
          1.0516877174377441,
          1.2126860618591309,
          1.2795205116271973,
          1.6523264646530151,
          1.1813021898269653,
          1.5254697799682617,
          1.0826423168182373,
          1.507293462753296,
          1.1893094778060913,
          1.092815637588501,
          1.2509143352508545,
          1.1775296926498413,
          1.0275384187698364,
          1.314502239227295,
          1.1531298160552979,
          1.5477100610733032,
          1.0058273077011108,
          1.246931791305542,
          0.9978224039077759,
          1.3193196058273315,
          1.216269850730896,
          1.2802296876907349,
          1.2283947467803955,
          1.4229751825332642,
          1.126646876335144,
          1.2498009204864502,
          1.0920991897583008,
          1.0799815654754639,
          1.2923460006713867,
          1.0423685312271118,
          1.4948283433914185,
          1.4291263818740845,
          1.143000602722168,
          1.7845929861068726,
          0.9714244604110718,
          1.1905020475387573,
          1.078274130821228,
          1.0710821151733398,
          1.3654435873031616,
          1.1703720092773438,
          1.8794430494308472,
          1.3781452178955078,
          1.137151837348938,
          0.9810439944267273,
          1.2737281322479248,
          1.1648340225219727,
          0.9823787212371826,
          1.0457122325897217,
          1.4083874225616455,
          1.1410915851593018,
          0.9400628805160522,
          1.426935076713562,
          1.5285329818725586,
          1.327226161956787,
          1.3019963502883911,
          0.7896349430084229,
          1.3166990280151367,
          1.0686155557632446,
          0.9726088047027588,
          1.1214667558670044,
          1.3987873792648315,
          1.5473045110702515,
          1.210085153579712,
          0.8866809010505676,
          1.2246804237365723,
          1.0562726259231567,
          0.9935324192047119,
          1.0881465673446655,
          1.3589138984680176,
          1.3731932640075684,
          0.9134863615036011,
          0.7861242294311523,
          1.1717422008514404,
          1.4771394729614258,
          1.359525203704834,
          1.1698870658874512,
          1.236706018447876,
          0.6851245164871216,
          1.098895788192749,
          1.1275609731674194,
          1.1735066175460815,
          1.016414761543274,
          1.1859403848648071,
          1.0794891119003296,
          1.512635588645935,
          1.092031717300415,
          1.1645991802215576,
          0.8672435283660889,
          1.4927314519882202,
          1.4203524589538574,
          1.191259503364563,
          0.8121352195739746,
          1.328964352607727,
          1.2409836053848267,
          1.0459589958190918,
          1.1566790342330933,
          0.8858571648597717,
          1.0888246297836304,
          1.3199334144592285,
          1.0804425477981567,
          1.1522237062454224,
          1.0694829225540161,
          0.8822829127311707,
          0.7360708713531494,
          1.4445409774780273,
          1.078698754310608,
          1.5603218078613281,
          1.0436999797821045,
          0.9884239435195923,
          1.1497431993484497,
          0.936238169670105,
          0.9902784824371338,
          1.1234381198883057,
          1.123841404914856,
          1.1543867588043213,
          1.471901774406433,
          1.00238835811615,
          1.0746170282363892,
          1.0280089378356934,
          1.2170428037643433,
          0.68110591173172,
          1.2836247682571411,
          1.4811506271362305,
          0.9066776037216187,
          0.9829814434051514,
          1.3754805326461792,
          1.142980933189392,
          1.2887336015701294,
          0.8315633535385132,
          0.9482848644256592,
          1.1765525341033936,
          1.096289873123169,
          1.3697527647018433,
          1.004812479019165,
          1.261866807937622,
          1.2974997758865356,
          1.2920737266540527,
          1.1037468910217285,
          1.2534146308898926,
          1.0111124515533447,
          0.9978127479553223,
          1.254501223564148,
          1.0212068557739258,
          1.1759161949157715,
          1.3466410636901855,
          1.0768589973449707,
          1.3135406970977783,
          1.1656957864761353,
          1.3815118074417114,
          1.239810824394226,
          0.9518828392028809,
          1.157526969909668,
          1.048937439918518,
          1.1475039720535278,
          1.2826545238494873,
          1.398636817932129,
          1.5756689310073853,
          1.3713773488998413,
          1.2764993906021118,
          0.9119361639022827,
          1.4688925743103027,
          1.1071934700012207,
          1.3876399993896484,
          1.168242335319519,
          1.0511683225631714,
          1.353278636932373,
          1.377763271331787,
          1.0660361051559448,
          1.1916325092315674,
          0.8736293315887451,
          1.1464213132858276,
          0.8763844966888428,
          1.4665074348449707,
          1.3096048831939697,
          1.4945365190505981,
          0.7647607326507568,
          1.2166575193405151,
          1.2650328874588013,
          1.221382737159729,
          1.3799164295196533,
          1.3955800533294678,
          1.2266942262649536,
          1.298244833946228,
          1.0739035606384277,
          1.162560224533081,
          1.3713128566741943,
          1.3750288486480713,
          1.2903133630752563,
          1.1526459455490112,
          1.1885581016540527,
          1.2804638147354126,
          1.4176172018051147,
          1.0875271558761597,
          1.0846630334854126,
          1.02982497215271,
          0.7389900088310242,
          1.4673373699188232,
          1.0870126485824585,
          0.9479202032089233,
          0.775574803352356,
          0.9229727387428284,
          1.3605268001556396,
          1.1398340463638306,
          1.1977262496948242,
          1.16864812374115,
          1.1579538583755493,
          0.9822043180465698,
          1.0650548934936523,
          1.095606803894043,
          1.1947811841964722,
          0.8562295436859131,
          1.2849727869033813,
          1.1098414659500122,
          1.189882516860962,
          1.1832637786865234,
          1.2814357280731201,
          0.962806224822998,
          0.8622226715087891,
          1.0558650493621826,
          0.7843242287635803,
          1.0359517335891724,
          1.2798212766647339,
          1.4812939167022705,
          1.084784984588623,
          0.9834659099578857,
          1.1529223918914795,
          1.1144694089889526,
          1.0266518592834473,
          1.1130295991897583,
          1.4780278205871582,
          1.1997240781784058,
          1.0801812410354614,
          0.9919997453689575,
          0.9922800064086914,
          1.1979830265045166,
          0.8855764865875244,
          1.2774215936660767,
          1.0489678382873535,
          1.219832420349121,
          0.9068372249603271,
          1.3729497194290161,
          1.2081429958343506,
          1.2355866432189941,
          1.2474520206451416,
          0.9495264291763306,
          0.9803614616394043,
          1.273388385772705,
          1.2060561180114746,
          0.7232562303543091,
          1.4246612787246704,
          1.4697251319885254,
          1.6491146087646484,
          1.245177149772644,
          1.0657650232315063,
          1.4033455848693848,
          1.1247011423110962,
          1.2817147970199585,
          1.2169817686080933,
          0.9618633985519409,
          1.1450822353363037,
          1.4512873888015747,
          1.4560104608535767,
          1.1995794773101807,
          0.9130350947380066,
          1.1775442361831665,
          1.2338972091674805,
          1.4436367750167847,
          1.0415805578231812,
          1.2458469867706299,
          1.039541244506836,
          0.9984829425811768,
          1.1465892791748047,
          1.2563109397888184,
          1.5191948413848877,
          1.379145860671997,
          0.7808276414871216,
          1.310783863067627,
          1.103269338607788,
          1.337386131286621,
          1.0831947326660156,
          1.3077036142349243,
          1.3065756559371948,
          0.8639317154884338,
          1.0517836809158325,
          1.0421583652496338,
          1.0627864599227905,
          1.3518826961517334,
          0.9084691405296326,
          1.2964146137237549,
          1.1313707828521729,
          1.0575624704360962,
          1.424296498298645,
          1.0233986377716064,
          0.9797948598861694,
          1.5164419412612915,
          1.0184078216552734,
          0.9824661016464233,
          1.4183601140975952,
          1.260074496269226,
          1.2483999729156494,
          1.1888357400894165,
          1.3330626487731934,
          1.4426722526550293,
          0.9547501802444458,
          1.0871632099151611,
          1.3469948768615723,
          1.4901882410049438,
          1.1120115518569946,
          0.9503019452095032,
          1.2041839361190796,
          1.0287203788757324,
          1.3919042348861694,
          1.2357845306396484,
          1.223410725593567,
          1.0939651727676392,
          1.2364484071731567,
          1.2965970039367676,
          0.954449474811554,
          0.9926481246948242,
          1.2777681350708008,
          1.1493686437606812,
          1.1611618995666504,
          1.3600199222564697,
          1.1504039764404297,
          1.06147301197052,
          1.1976830959320068,
          1.0073118209838867,
          1.4682412147521973,
          1.1867810487747192,
          1.4817447662353516,
          1.131361484527588,
          1.4278676509857178,
          1.2424315214157104,
          1.55696702003479,
          1.4431746006011963,
          1.3333218097686768,
          0.9251720905303955,
          0.9599873423576355,
          1.185423731803894,
          1.4384149312973022,
          1.0307397842407227,
          1.4070504903793335,
          1.1526083946228027,
          0.860672116279602,
          1.0375709533691406,
          1.3243162631988525,
          1.3933876752853394,
          1.4359159469604492,
          1.3868114948272705,
          0.7536846399307251,
          1.5258287191390991,
          1.2723535299301147,
          1.3363122940063477,
          0.8887382745742798,
          1.2584259510040283,
          1.2702730894088745,
          1.1446887254714966,
          1.4802597761154175,
          1.6083275079727173,
          1.2186195850372314,
          1.1973881721496582,
          1.0133788585662842,
          0.8187011480331421,
          0.7444589138031006,
          1.2702003717422485,
          0.9071863889694214,
          1.178810715675354,
          0.9675902724266052,
          0.8904382586479187,
          1.3032993078231812,
          1.301257848739624,
          0.8914908170700073,
          1.0841361284255981,
          1.142789602279663,
          1.0951405763626099,
          0.9963553547859192,
          1.104868769645691,
          1.6203587055206299,
          1.2489421367645264,
          1.3625638484954834,
          1.6132112741470337,
          1.116278052330017,
          1.1966599225997925,
          1.0655550956726074,
          1.1741621494293213,
          1.3123174905776978,
          1.4791014194488525,
          1.2398979663848877,
          1.3228344917297363,
          1.0451884269714355,
          1.1495671272277832,
          1.4015560150146484,
          0.9050320386886597,
          1.2547297477722168,
          1.1257048845291138,
          1.1902979612350464,
          1.174879789352417,
          1.1455210447311401,
          1.7267796993255615,
          1.0749341249465942,
          1.3893131017684937,
          0.7072415947914124,
          0.9329636096954346,
          1.478955626487732,
          1.0981228351593018,
          1.2757710218429565,
          1.127773642539978,
          1.2952876091003418,
          0.9054847955703735,
          1.138464331626892,
          1.19347083568573,
          1.3533759117126465,
          1.2852461338043213,
          1.3744065761566162,
          1.3315333127975464,
          1.1172007322311401,
          1.086650013923645,
          1.099233627319336,
          1.0391706228256226,
          1.3548046350479126,
          1.3393356800079346,
          0.9278014898300171,
          1.3377203941345215,
          1.202803373336792,
          1.279762864112854,
          0.901434063911438,
          1.203757882118225,
          1.4964182376861572,
          1.2168763875961304,
          1.4300287961959839,
          1.2519292831420898,
          0.8987945318222046,
          1.1258853673934937,
          1.2340834140777588,
          1.2186249494552612,
          1.2127108573913574,
          1.1975094079971313,
          1.2849262952804565,
          1.2712035179138184,
          1.302053451538086,
          1.3003054857254028,
          0.9592312574386597,
          1.1267825365066528,
          1.1535567045211792,
          1.348389983177185,
          1.1828958988189697,
          1.2592575550079346,
          1.4741894006729126,
          1.0333032608032227,
          1.154482364654541,
          1.0920813083648682,
          1.2011642456054688,
          1.0896751880645752,
          1.0212998390197754,
          0.9709378480911255,
          1.226898193359375,
          1.308584451675415,
          1.165655255317688,
          1.2059401273727417,
          1.100684642791748,
          0.8983374238014221,
          1.354779839515686,
          1.0722200870513916,
          1.1625096797943115,
          1.0650566816329956,
          1.095625400543213,
          0.9727562665939331,
          1.1381794214248657,
          1.2692220211029053,
          1.2325668334960938,
          1.0102832317352295,
          1.3784998655319214,
          1.220430850982666,
          1.5787054300308228,
          1.6143707036972046,
          1.0931636095046997,
          1.4297431707382202,
          1.2903693914413452,
          1.2569490671157837,
          1.334368348121643,
          1.0459446907043457,
          1.0477157831192017,
          1.3829518556594849,
          1.1172361373901367,
          1.3127686977386475,
          0.8900865912437439,
          1.3400694131851196,
          0.9508801698684692,
          1.3329801559448242,
          1.485840082168579,
          1.0670191049575806,
          1.2358132600784302,
          1.2012509107589722,
          1.1771435737609863,
          1.1588371992111206,
          1.0520776510238647,
          1.1054277420043945,
          1.341341495513916,
          1.399885892868042,
          1.5407466888427734,
          1.1540371179580688,
          1.2811576128005981,
          1.1642333269119263,
          0.8367055654525757,
          1.3759136199951172,
          1.211233139038086,
          1.1408822536468506,
          1.2484726905822754,
          1.1447290182113647,
          1.1058508157730103,
          0.7148255109786987,
          1.369713306427002,
          1.1572740077972412,
          1.144728660583496,
          1.0869088172912598,
          1.3177791833877563,
          1.121626615524292,
          1.0036720037460327,
          1.1261459589004517,
          1.5526199340820312,
          1.04591703414917,
          1.5550930500030518,
          0.9548077583312988,
          1.2952128648757935,
          1.2759678363800049,
          1.2631189823150635,
          1.4609876871109009,
          1.272342324256897,
          1.0476362705230713,
          1.089881420135498,
          1.3836032152175903,
          1.340766191482544,
          1.3452645540237427,
          1.002144694328308,
          1.2710492610931396,
          1.122390627861023,
          1.1139334440231323,
          1.0860257148742676,
          1.194637417793274,
          0.987007737159729,
          1.4791028499603271,
          1.2629106044769287,
          1.1280755996704102,
          1.0228627920150757,
          1.3101365566253662,
          1.2395886182785034,
          1.3053796291351318,
          1.4163426160812378,
          1.3590322732925415,
          1.5642579793930054,
          1.0085182189941406,
          1.1140379905700684,
          1.548858642578125,
          1.1446559429168701,
          1.216007113456726,
          1.1784250736236572,
          1.265533447265625,
          1.4406187534332275,
          1.535531997680664,
          1.3221664428710938,
          1.3873960971832275,
          1.6251509189605713,
          1.2476301193237305,
          1.277075171470642,
          1.4948840141296387,
          1.2295515537261963,
          1.0526978969573975,
          1.1649806499481201,
          0.8151010870933533,
          1.252424955368042,
          1.068061113357544,
          1.228759765625,
          1.388667106628418,
          1.2128722667694092,
          1.478898048400879,
          1.1849498748779297,
          1.1465204954147339,
          0.9992532730102539,
          1.35906982421875,
          1.3082494735717773,
          1.278953194618225,
          1.272834062576294,
          1.122909426689148,
          1.2799558639526367,
          1.5228991508483887,
          1.5130412578582764,
          1.0256617069244385,
          1.5269339084625244,
          1.15336012840271,
          1.651172161102295,
          1.0618557929992676,
          1.2999016046524048,
          1.0682612657546997,
          1.4741655588150024,
          1.2720155715942383,
          1.2809321880340576,
          1.7729583978652954,
          1.1616625785827637,
          0.9779675006866455,
          1.3225889205932617,
          1.1670717000961304,
          1.055158257484436,
          1.1403878927230835,
          1.2665334939956665,
          1.140107274055481,
          0.8004101514816284,
          1.0562909841537476,
          1.1551045179367065,
          0.9175118803977966,
          1.1226484775543213,
          1.0671380758285522,
          1.3794887065887451,
          1.3470849990844727,
          1.1620278358459473,
          1.1755543947219849,
          1.2843091487884521,
          1.3487563133239746,
          1.2932156324386597,
          1.157558798789978,
          1.1798042058944702,
          1.0876721143722534,
          1.1693196296691895,
          1.1550207138061523,
          1.1124969720840454,
          1.2817339897155762,
          1.198732852935791,
          1.1618441343307495,
          1.2029671669006348,
          1.416286826133728,
          1.0921181440353394,
          1.2804125547409058,
          0.9561014175415039,
          1.117393136024475,
          1.2052589654922485,
          1.2778962850570679,
          1.1903420686721802,
          1.1920454502105713,
          0.891410231590271,
          1.2939784526824951,
          1.43000328540802,
          1.0783731937408447,
          1.1074786186218262,
          1.3328113555908203,
          1.3141649961471558,
          1.1950569152832031,
          1.2210016250610352,
          1.4022749662399292,
          1.1820148229599,
          1.1027590036392212,
          1.3971202373504639,
          1.2000433206558228,
          0.8263339996337891,
          1.6030629873275757,
          1.4426325559616089,
          1.0938451290130615,
          1.1085528135299683,
          0.9901520013809204,
          1.212614893913269,
          1.1837447881698608,
          1.1493018865585327,
          1.2845710515975952,
          1.1256603002548218,
          1.195033073425293,
          1.199637532234192,
          1.2298980951309204,
          1.4248313903808594,
          1.2611207962036133,
          1.4915015697479248,
          1.2681145668029785,
          1.1192032098770142,
          1.3502272367477417,
          1.2595824003219604,
          1.1832820177078247,
          1.0029988288879395,
          1.2460336685180664,
          1.5097109079360962,
          1.380271315574646,
          1.2549716234207153,
          1.324827790260315,
          1.2180590629577637,
          1.0328071117401123,
          1.3879101276397705,
          1.2162668704986572,
          1.3215264081954956,
          1.0672060251235962,
          0.9538372755050659,
          0.9839177131652832,
          1.2276824712753296,
          1.1810632944107056,
          1.539647102355957,
          1.0828540325164795,
          1.2604777812957764,
          0.9632593393325806,
          1.0720014572143555,
          1.0625168085098267,
          0.8498296737670898,
          1.1543632745742798,
          1.3073899745941162,
          1.1359714269638062,
          1.1614689826965332,
          1.0924800634384155,
          1.182566523551941,
          1.0975853204727173,
          1.106236219406128,
          1.0144705772399902,
          1.0576090812683105,
          1.1204429864883423,
          1.4769469499588013,
          1.2976300716400146,
          1.242548942565918,
          1.2048856019973755,
          0.9576622843742371,
          1.4165637493133545,
          0.9062012434005737,
          0.9872152805328369,
          0.7050963640213013,
          0.8844257593154907,
          1.0860153436660767,
          1.2520869970321655,
          1.3594080209732056,
          1.3951148986816406,
          1.2474640607833862,
          1.0757572650909424,
          1.211814284324646,
          1.0275769233703613,
          1.4383825063705444,
          1.4315799474716187,
          1.486618995666504,
          1.1524927616119385,
          1.3464497327804565,
          1.2816381454467773,
          1.350211262702942,
          1.0397489070892334,
          1.0146281719207764,
          1.3561326265335083,
          1.1655617952346802,
          1.43306565284729,
          1.0214134454727173,
          1.2836343050003052,
          1.1376184225082397,
          1.111972689628601,
          1.2024816274642944,
          1.467467188835144,
          1.1495177745819092,
          1.1232175827026367,
          1.3081246614456177,
          1.2799968719482422,
          1.4935152530670166,
          0.981384813785553,
          1.290209412574768,
          1.338209629058838,
          1.419418454170227,
          1.1677415370941162,
          1.0138328075408936,
          1.0959306955337524,
          1.1884006261825562,
          1.579960823059082,
          1.0517815351486206,
          0.8409765958786011,
          1.0970385074615479,
          1.3519178628921509,
          1.259415864944458,
          1.312929391860962,
          1.2756075859069824,
          1.0438143014907837,
          1.170827865600586,
          1.4829490184783936,
          1.207554578781128
         ],
         "xaxis": "x",
         "yaxis": "y"
        }
       ],
       "layout": {
        "annotations": [
         {
          "showarrow": false,
          "text": "Mean = 1.19",
          "x": 1.1908009052276611,
          "xanchor": "left",
          "xref": "x",
          "xshift": 20,
          "y": 1,
          "yanchor": "top",
          "yref": "y domain"
         }
        ],
        "barmode": "relative",
        "legend": {
         "title": {
          "text": "variable"
         },
         "tracegroupgap": 0
        },
        "shapes": [
         {
          "line": {
           "color": "red",
           "dash": "dash"
          },
          "type": "line",
          "x0": 1.1908009052276611,
          "x1": 1.1908009052276611,
          "xref": "x",
          "y0": 0,
          "y1": 1,
          "yref": "y domain"
         }
        ],
        "template": {
         "data": {
          "bar": [
           {
            "error_x": {
             "color": "#f2f5fa"
            },
            "error_y": {
             "color": "#f2f5fa"
            },
            "marker": {
             "line": {
              "color": "rgb(17,17,17)",
              "width": 0.5
             },
             "pattern": {
              "fillmode": "overlay",
              "size": 10,
              "solidity": 0.2
             }
            },
            "type": "bar"
           }
          ],
          "barpolar": [
           {
            "marker": {
             "line": {
              "color": "rgb(17,17,17)",
              "width": 0.5
             },
             "pattern": {
              "fillmode": "overlay",
              "size": 10,
              "solidity": 0.2
             }
            },
            "type": "barpolar"
           }
          ],
          "carpet": [
           {
            "aaxis": {
             "endlinecolor": "#A2B1C6",
             "gridcolor": "#506784",
             "linecolor": "#506784",
             "minorgridcolor": "#506784",
             "startlinecolor": "#A2B1C6"
            },
            "baxis": {
             "endlinecolor": "#A2B1C6",
             "gridcolor": "#506784",
             "linecolor": "#506784",
             "minorgridcolor": "#506784",
             "startlinecolor": "#A2B1C6"
            },
            "type": "carpet"
           }
          ],
          "choropleth": [
           {
            "colorbar": {
             "outlinewidth": 0,
             "ticks": ""
            },
            "type": "choropleth"
           }
          ],
          "contour": [
           {
            "colorbar": {
             "outlinewidth": 0,
             "ticks": ""
            },
            "colorscale": [
             [
              0,
              "#0d0887"
             ],
             [
              0.1111111111111111,
              "#46039f"
             ],
             [
              0.2222222222222222,
              "#7201a8"
             ],
             [
              0.3333333333333333,
              "#9c179e"
             ],
             [
              0.4444444444444444,
              "#bd3786"
             ],
             [
              0.5555555555555556,
              "#d8576b"
             ],
             [
              0.6666666666666666,
              "#ed7953"
             ],
             [
              0.7777777777777778,
              "#fb9f3a"
             ],
             [
              0.8888888888888888,
              "#fdca26"
             ],
             [
              1,
              "#f0f921"
             ]
            ],
            "type": "contour"
           }
          ],
          "contourcarpet": [
           {
            "colorbar": {
             "outlinewidth": 0,
             "ticks": ""
            },
            "type": "contourcarpet"
           }
          ],
          "heatmap": [
           {
            "colorbar": {
             "outlinewidth": 0,
             "ticks": ""
            },
            "colorscale": [
             [
              0,
              "#0d0887"
             ],
             [
              0.1111111111111111,
              "#46039f"
             ],
             [
              0.2222222222222222,
              "#7201a8"
             ],
             [
              0.3333333333333333,
              "#9c179e"
             ],
             [
              0.4444444444444444,
              "#bd3786"
             ],
             [
              0.5555555555555556,
              "#d8576b"
             ],
             [
              0.6666666666666666,
              "#ed7953"
             ],
             [
              0.7777777777777778,
              "#fb9f3a"
             ],
             [
              0.8888888888888888,
              "#fdca26"
             ],
             [
              1,
              "#f0f921"
             ]
            ],
            "type": "heatmap"
           }
          ],
          "heatmapgl": [
           {
            "colorbar": {
             "outlinewidth": 0,
             "ticks": ""
            },
            "colorscale": [
             [
              0,
              "#0d0887"
             ],
             [
              0.1111111111111111,
              "#46039f"
             ],
             [
              0.2222222222222222,
              "#7201a8"
             ],
             [
              0.3333333333333333,
              "#9c179e"
             ],
             [
              0.4444444444444444,
              "#bd3786"
             ],
             [
              0.5555555555555556,
              "#d8576b"
             ],
             [
              0.6666666666666666,
              "#ed7953"
             ],
             [
              0.7777777777777778,
              "#fb9f3a"
             ],
             [
              0.8888888888888888,
              "#fdca26"
             ],
             [
              1,
              "#f0f921"
             ]
            ],
            "type": "heatmapgl"
           }
          ],
          "histogram": [
           {
            "marker": {
             "pattern": {
              "fillmode": "overlay",
              "size": 10,
              "solidity": 0.2
             }
            },
            "type": "histogram"
           }
          ],
          "histogram2d": [
           {
            "colorbar": {
             "outlinewidth": 0,
             "ticks": ""
            },
            "colorscale": [
             [
              0,
              "#0d0887"
             ],
             [
              0.1111111111111111,
              "#46039f"
             ],
             [
              0.2222222222222222,
              "#7201a8"
             ],
             [
              0.3333333333333333,
              "#9c179e"
             ],
             [
              0.4444444444444444,
              "#bd3786"
             ],
             [
              0.5555555555555556,
              "#d8576b"
             ],
             [
              0.6666666666666666,
              "#ed7953"
             ],
             [
              0.7777777777777778,
              "#fb9f3a"
             ],
             [
              0.8888888888888888,
              "#fdca26"
             ],
             [
              1,
              "#f0f921"
             ]
            ],
            "type": "histogram2d"
           }
          ],
          "histogram2dcontour": [
           {
            "colorbar": {
             "outlinewidth": 0,
             "ticks": ""
            },
            "colorscale": [
             [
              0,
              "#0d0887"
             ],
             [
              0.1111111111111111,
              "#46039f"
             ],
             [
              0.2222222222222222,
              "#7201a8"
             ],
             [
              0.3333333333333333,
              "#9c179e"
             ],
             [
              0.4444444444444444,
              "#bd3786"
             ],
             [
              0.5555555555555556,
              "#d8576b"
             ],
             [
              0.6666666666666666,
              "#ed7953"
             ],
             [
              0.7777777777777778,
              "#fb9f3a"
             ],
             [
              0.8888888888888888,
              "#fdca26"
             ],
             [
              1,
              "#f0f921"
             ]
            ],
            "type": "histogram2dcontour"
           }
          ],
          "mesh3d": [
           {
            "colorbar": {
             "outlinewidth": 0,
             "ticks": ""
            },
            "type": "mesh3d"
           }
          ],
          "parcoords": [
           {
            "line": {
             "colorbar": {
              "outlinewidth": 0,
              "ticks": ""
             }
            },
            "type": "parcoords"
           }
          ],
          "pie": [
           {
            "automargin": true,
            "type": "pie"
           }
          ],
          "scatter": [
           {
            "marker": {
             "line": {
              "color": "#283442"
             }
            },
            "type": "scatter"
           }
          ],
          "scatter3d": [
           {
            "line": {
             "colorbar": {
              "outlinewidth": 0,
              "ticks": ""
             }
            },
            "marker": {
             "colorbar": {
              "outlinewidth": 0,
              "ticks": ""
             }
            },
            "type": "scatter3d"
           }
          ],
          "scattercarpet": [
           {
            "marker": {
             "colorbar": {
              "outlinewidth": 0,
              "ticks": ""
             }
            },
            "type": "scattercarpet"
           }
          ],
          "scattergeo": [
           {
            "marker": {
             "colorbar": {
              "outlinewidth": 0,
              "ticks": ""
             }
            },
            "type": "scattergeo"
           }
          ],
          "scattergl": [
           {
            "marker": {
             "line": {
              "color": "#283442"
             }
            },
            "type": "scattergl"
           }
          ],
          "scattermapbox": [
           {
            "marker": {
             "colorbar": {
              "outlinewidth": 0,
              "ticks": ""
             }
            },
            "type": "scattermapbox"
           }
          ],
          "scatterpolar": [
           {
            "marker": {
             "colorbar": {
              "outlinewidth": 0,
              "ticks": ""
             }
            },
            "type": "scatterpolar"
           }
          ],
          "scatterpolargl": [
           {
            "marker": {
             "colorbar": {
              "outlinewidth": 0,
              "ticks": ""
             }
            },
            "type": "scatterpolargl"
           }
          ],
          "scatterternary": [
           {
            "marker": {
             "colorbar": {
              "outlinewidth": 0,
              "ticks": ""
             }
            },
            "type": "scatterternary"
           }
          ],
          "surface": [
           {
            "colorbar": {
             "outlinewidth": 0,
             "ticks": ""
            },
            "colorscale": [
             [
              0,
              "#0d0887"
             ],
             [
              0.1111111111111111,
              "#46039f"
             ],
             [
              0.2222222222222222,
              "#7201a8"
             ],
             [
              0.3333333333333333,
              "#9c179e"
             ],
             [
              0.4444444444444444,
              "#bd3786"
             ],
             [
              0.5555555555555556,
              "#d8576b"
             ],
             [
              0.6666666666666666,
              "#ed7953"
             ],
             [
              0.7777777777777778,
              "#fb9f3a"
             ],
             [
              0.8888888888888888,
              "#fdca26"
             ],
             [
              1,
              "#f0f921"
             ]
            ],
            "type": "surface"
           }
          ],
          "table": [
           {
            "cells": {
             "fill": {
              "color": "#506784"
             },
             "line": {
              "color": "rgb(17,17,17)"
             }
            },
            "header": {
             "fill": {
              "color": "#2a3f5f"
             },
             "line": {
              "color": "rgb(17,17,17)"
             }
            },
            "type": "table"
           }
          ]
         },
         "layout": {
          "annotationdefaults": {
           "arrowcolor": "#f2f5fa",
           "arrowhead": 0,
           "arrowwidth": 1
          },
          "autotypenumbers": "strict",
          "coloraxis": {
           "colorbar": {
            "outlinewidth": 0,
            "ticks": ""
           }
          },
          "colorscale": {
           "diverging": [
            [
             0,
             "#8e0152"
            ],
            [
             0.1,
             "#c51b7d"
            ],
            [
             0.2,
             "#de77ae"
            ],
            [
             0.3,
             "#f1b6da"
            ],
            [
             0.4,
             "#fde0ef"
            ],
            [
             0.5,
             "#f7f7f7"
            ],
            [
             0.6,
             "#e6f5d0"
            ],
            [
             0.7,
             "#b8e186"
            ],
            [
             0.8,
             "#7fbc41"
            ],
            [
             0.9,
             "#4d9221"
            ],
            [
             1,
             "#276419"
            ]
           ],
           "sequential": [
            [
             0,
             "#0d0887"
            ],
            [
             0.1111111111111111,
             "#46039f"
            ],
            [
             0.2222222222222222,
             "#7201a8"
            ],
            [
             0.3333333333333333,
             "#9c179e"
            ],
            [
             0.4444444444444444,
             "#bd3786"
            ],
            [
             0.5555555555555556,
             "#d8576b"
            ],
            [
             0.6666666666666666,
             "#ed7953"
            ],
            [
             0.7777777777777778,
             "#fb9f3a"
            ],
            [
             0.8888888888888888,
             "#fdca26"
            ],
            [
             1,
             "#f0f921"
            ]
           ],
           "sequentialminus": [
            [
             0,
             "#0d0887"
            ],
            [
             0.1111111111111111,
             "#46039f"
            ],
            [
             0.2222222222222222,
             "#7201a8"
            ],
            [
             0.3333333333333333,
             "#9c179e"
            ],
            [
             0.4444444444444444,
             "#bd3786"
            ],
            [
             0.5555555555555556,
             "#d8576b"
            ],
            [
             0.6666666666666666,
             "#ed7953"
            ],
            [
             0.7777777777777778,
             "#fb9f3a"
            ],
            [
             0.8888888888888888,
             "#fdca26"
            ],
            [
             1,
             "#f0f921"
            ]
           ]
          },
          "colorway": [
           "#636efa",
           "#EF553B",
           "#00cc96",
           "#ab63fa",
           "#FFA15A",
           "#19d3f3",
           "#FF6692",
           "#B6E880",
           "#FF97FF",
           "#FECB52"
          ],
          "font": {
           "color": "#f2f5fa"
          },
          "geo": {
           "bgcolor": "rgb(17,17,17)",
           "lakecolor": "rgb(17,17,17)",
           "landcolor": "rgb(17,17,17)",
           "showlakes": true,
           "showland": true,
           "subunitcolor": "#506784"
          },
          "hoverlabel": {
           "align": "left"
          },
          "hovermode": "closest",
          "mapbox": {
           "style": "dark"
          },
          "paper_bgcolor": "rgb(17,17,17)",
          "plot_bgcolor": "rgb(17,17,17)",
          "polar": {
           "angularaxis": {
            "gridcolor": "#506784",
            "linecolor": "#506784",
            "ticks": ""
           },
           "bgcolor": "rgb(17,17,17)",
           "radialaxis": {
            "gridcolor": "#506784",
            "linecolor": "#506784",
            "ticks": ""
           }
          },
          "scene": {
           "xaxis": {
            "backgroundcolor": "rgb(17,17,17)",
            "gridcolor": "#506784",
            "gridwidth": 2,
            "linecolor": "#506784",
            "showbackground": true,
            "ticks": "",
            "zerolinecolor": "#C8D4E3"
           },
           "yaxis": {
            "backgroundcolor": "rgb(17,17,17)",
            "gridcolor": "#506784",
            "gridwidth": 2,
            "linecolor": "#506784",
            "showbackground": true,
            "ticks": "",
            "zerolinecolor": "#C8D4E3"
           },
           "zaxis": {
            "backgroundcolor": "rgb(17,17,17)",
            "gridcolor": "#506784",
            "gridwidth": 2,
            "linecolor": "#506784",
            "showbackground": true,
            "ticks": "",
            "zerolinecolor": "#C8D4E3"
           }
          },
          "shapedefaults": {
           "line": {
            "color": "#f2f5fa"
           }
          },
          "sliderdefaults": {
           "bgcolor": "#C8D4E3",
           "bordercolor": "rgb(17,17,17)",
           "borderwidth": 1,
           "tickwidth": 0
          },
          "ternary": {
           "aaxis": {
            "gridcolor": "#506784",
            "linecolor": "#506784",
            "ticks": ""
           },
           "baxis": {
            "gridcolor": "#506784",
            "linecolor": "#506784",
            "ticks": ""
           },
           "bgcolor": "rgb(17,17,17)",
           "caxis": {
            "gridcolor": "#506784",
            "linecolor": "#506784",
            "ticks": ""
           }
          },
          "title": {
           "x": 0.05
          },
          "updatemenudefaults": {
           "bgcolor": "#506784",
           "borderwidth": 0
          },
          "xaxis": {
           "automargin": true,
           "gridcolor": "#283442",
           "linecolor": "#506784",
           "ticks": "",
           "title": {
            "standoff": 15
           },
           "zerolinecolor": "#283442",
           "zerolinewidth": 2
          },
          "yaxis": {
           "automargin": true,
           "gridcolor": "#283442",
           "linecolor": "#506784",
           "ticks": "",
           "title": {
            "standoff": 15
           },
           "zerolinecolor": "#283442",
           "zerolinewidth": 2
          }
         }
        },
        "title": {
         "text": "Posterior marginal distribution of patch weights"
        },
        "xaxis": {
         "anchor": "y",
         "domain": [
          0,
          1
         ],
         "title": {
          "text": "value"
         }
        },
        "yaxis": {
         "anchor": "x",
         "domain": [
          0,
          1
         ],
         "title": {
          "text": "count"
         }
        }
       }
      }
     },
     "metadata": {},
     "output_type": "display_data"
    }
   ],
   "source": [
    "fig2 = px.histogram(\n",
    "    samples[\"weight_patch\"],\n",
    "    title=\"Posterior marginal distribution of patch weights\",\n",
    "    template=\"plotly_dark\",\n",
    ")\n",
    "\n",
    "mean_patch = samples[\"weight_patch\"].mean()\n",
    "\n",
    "\n",
    "fig2.update_traces(showlegend=False)\n",
    "fig2.add_vline(\n",
    "    x=mean_patch,\n",
    "    line_dash=\"dash\",\n",
    "    line_color=\"red\",\n",
    "    annotation_text=f\"Mean = {mean_patch:.2f}\",\n",
    "    annotation_position=\"top right\",\n",
    "    annotation_xshift=20,\n",
    ")\n"
   ]
  }
 ],
 "metadata": {
  "kernelspec": {
   "display_name": "causal_pyro",
   "language": "python",
   "name": "python3"
  },
  "language_info": {
   "codemirror_mode": {
    "name": "ipython",
    "version": 3
   },
   "file_extension": ".py",
   "mimetype": "text/x-python",
   "name": "python",
   "nbconvert_exporter": "python",
   "pygments_lexer": "ipython3",
   "version": "3.11.4"
  },
  "orig_nbformat": 4
 },
 "nbformat": 4,
 "nbformat_minor": 2
}
