{
 "cells": [
  {
   "cell_type": "code",
   "execution_count": 1,
   "metadata": {},
   "outputs": [],
   "source": [
    "import pandas as pd\n",
    "import numpy as np\n",
    "import plotly.express as px\n",
    "\n",
    "import torch\n",
    "import pyro\n",
    "import pyro.distributions as dist\n",
    "\n",
    "from pyro.infer import SVI, Trace_ELBO, Predictive\n",
    "from pyro.infer.autoguide import AutoMultivariateNormal\n",
    "\n",
    "from pyro.optim import Adam"
   ]
  },
  {
   "cell_type": "code",
   "execution_count": 2,
   "metadata": {},
   "outputs": [
    {
     "data": {
      "text/html": [
       "<div>\n",
       "<style scoped>\n",
       "    .dataframe tbody tr th:only-of-type {\n",
       "        vertical-align: middle;\n",
       "    }\n",
       "\n",
       "    .dataframe tbody tr th {\n",
       "        vertical-align: top;\n",
       "    }\n",
       "\n",
       "    .dataframe thead th {\n",
       "        text-align: right;\n",
       "    }\n",
       "</style>\n",
       "<table border=\"1\" class=\"dataframe\">\n",
       "  <thead>\n",
       "    <tr style=\"text-align: right;\">\n",
       "      <th></th>\n",
       "      <th>c_trust</th>\n",
       "      <th>sight_radius</th>\n",
       "      <th>reward_patch_dim</th>\n",
       "      <th>sim index</th>\n",
       "      <th>run index</th>\n",
       "      <th>time to first food</th>\n",
       "      <th>num birds failed</th>\n",
       "    </tr>\n",
       "  </thead>\n",
       "  <tbody>\n",
       "    <tr>\n",
       "      <th>0</th>\n",
       "      <td>0.0</td>\n",
       "      <td>5</td>\n",
       "      <td>1</td>\n",
       "      <td>0</td>\n",
       "      <td>0</td>\n",
       "      <td>14.666667</td>\n",
       "      <td>0</td>\n",
       "    </tr>\n",
       "    <tr>\n",
       "      <th>1</th>\n",
       "      <td>0.0</td>\n",
       "      <td>5</td>\n",
       "      <td>1</td>\n",
       "      <td>0</td>\n",
       "      <td>1</td>\n",
       "      <td>14.000000</td>\n",
       "      <td>0</td>\n",
       "    </tr>\n",
       "    <tr>\n",
       "      <th>2</th>\n",
       "      <td>0.0</td>\n",
       "      <td>5</td>\n",
       "      <td>1</td>\n",
       "      <td>0</td>\n",
       "      <td>2</td>\n",
       "      <td>4.888889</td>\n",
       "      <td>0</td>\n",
       "    </tr>\n",
       "    <tr>\n",
       "      <th>3</th>\n",
       "      <td>0.0</td>\n",
       "      <td>5</td>\n",
       "      <td>1</td>\n",
       "      <td>0</td>\n",
       "      <td>3</td>\n",
       "      <td>2.555556</td>\n",
       "      <td>0</td>\n",
       "    </tr>\n",
       "    <tr>\n",
       "      <th>4</th>\n",
       "      <td>0.0</td>\n",
       "      <td>5</td>\n",
       "      <td>2</td>\n",
       "      <td>1</td>\n",
       "      <td>0</td>\n",
       "      <td>7.888889</td>\n",
       "      <td>0</td>\n",
       "    </tr>\n",
       "    <tr>\n",
       "      <th>...</th>\n",
       "      <td>...</td>\n",
       "      <td>...</td>\n",
       "      <td>...</td>\n",
       "      <td>...</td>\n",
       "      <td>...</td>\n",
       "      <td>...</td>\n",
       "      <td>...</td>\n",
       "    </tr>\n",
       "    <tr>\n",
       "      <th>415</th>\n",
       "      <td>1.0</td>\n",
       "      <td>5</td>\n",
       "      <td>4</td>\n",
       "      <td>103</td>\n",
       "      <td>3</td>\n",
       "      <td>8.444444</td>\n",
       "      <td>0</td>\n",
       "    </tr>\n",
       "    <tr>\n",
       "      <th>416</th>\n",
       "      <td>1.0</td>\n",
       "      <td>5</td>\n",
       "      <td>5</td>\n",
       "      <td>104</td>\n",
       "      <td>0</td>\n",
       "      <td>3.555556</td>\n",
       "      <td>0</td>\n",
       "    </tr>\n",
       "    <tr>\n",
       "      <th>417</th>\n",
       "      <td>1.0</td>\n",
       "      <td>5</td>\n",
       "      <td>5</td>\n",
       "      <td>104</td>\n",
       "      <td>1</td>\n",
       "      <td>6.111111</td>\n",
       "      <td>0</td>\n",
       "    </tr>\n",
       "    <tr>\n",
       "      <th>418</th>\n",
       "      <td>1.0</td>\n",
       "      <td>5</td>\n",
       "      <td>5</td>\n",
       "      <td>104</td>\n",
       "      <td>2</td>\n",
       "      <td>7.333333</td>\n",
       "      <td>0</td>\n",
       "    </tr>\n",
       "    <tr>\n",
       "      <th>419</th>\n",
       "      <td>1.0</td>\n",
       "      <td>5</td>\n",
       "      <td>5</td>\n",
       "      <td>104</td>\n",
       "      <td>3</td>\n",
       "      <td>45.444444</td>\n",
       "      <td>0</td>\n",
       "    </tr>\n",
       "  </tbody>\n",
       "</table>\n",
       "<p>420 rows × 7 columns</p>\n",
       "</div>"
      ],
      "text/plain": [
       "     c_trust  sight_radius  reward_patch_dim  sim index  run index  \\\n",
       "0        0.0             5                 1          0          0   \n",
       "1        0.0             5                 1          0          1   \n",
       "2        0.0             5                 1          0          2   \n",
       "3        0.0             5                 1          0          3   \n",
       "4        0.0             5                 2          1          0   \n",
       "..       ...           ...               ...        ...        ...   \n",
       "415      1.0             5                 4        103          3   \n",
       "416      1.0             5                 5        104          0   \n",
       "417      1.0             5                 5        104          1   \n",
       "418      1.0             5                 5        104          2   \n",
       "419      1.0             5                 5        104          3   \n",
       "\n",
       "     time to first food  num birds failed  \n",
       "0             14.666667                 0  \n",
       "1             14.000000                 0  \n",
       "2              4.888889                 0  \n",
       "3              2.555556                 0  \n",
       "4              7.888889                 0  \n",
       "..                  ...               ...  \n",
       "415            8.444444                 0  \n",
       "416            3.555556                 0  \n",
       "417            6.111111                 0  \n",
       "418            7.333333                 0  \n",
       "419           45.444444                 0  \n",
       "\n",
       "[420 rows x 7 columns]"
      ]
     },
     "metadata": {},
     "output_type": "display_data"
    }
   ],
   "source": [
    "impactDF = pd.read_csv(\"communicators_impact_data/resultsDF.csv\", index_col=0)\n",
    "\n",
    "display(impactDF)"
   ]
  },
  {
   "cell_type": "code",
   "execution_count": 5,
   "metadata": {},
   "outputs": [
    {
     "data": {
      "application/vnd.plotly.v1+json": {
       "config": {
        "plotlyServerURL": "https://plot.ly"
       },
       "data": [
        {
         "alignmentgroup": "True",
         "bingroup": "x",
         "hovertemplate": "num birds failed=%{x}<br>count=%{y}<extra></extra>",
         "legendgroup": "",
         "marker": {
          "color": "#636efa",
          "pattern": {
           "shape": ""
          }
         },
         "name": "",
         "nbinsx": 20,
         "offsetgroup": "",
         "orientation": "v",
         "showlegend": false,
         "type": "histogram",
         "x": [
          0,
          0,
          0,
          0,
          0,
          3,
          2,
          4,
          0,
          2,
          6,
          2,
          3,
          2,
          0,
          3,
          4,
          5,
          2,
          3,
          0,
          0,
          0,
          0,
          0,
          0,
          0,
          0,
          2,
          2,
          0,
          0,
          0,
          0,
          0,
          0,
          0,
          0,
          0,
          1,
          0,
          0,
          0,
          0,
          0,
          0,
          0,
          1,
          0,
          0,
          0,
          1,
          0,
          3,
          0,
          0,
          0,
          0,
          0,
          0,
          1,
          1,
          0,
          0,
          2,
          0,
          0,
          0,
          0,
          0,
          0,
          0,
          0,
          0,
          0,
          3,
          0,
          0,
          0,
          0,
          0,
          0,
          0,
          1,
          0,
          0,
          0,
          0,
          0,
          0,
          0,
          0,
          0,
          0,
          0,
          0,
          0,
          0,
          0,
          0,
          0,
          0,
          0,
          0,
          0,
          0,
          0,
          0,
          0,
          0,
          0,
          0,
          0,
          0,
          0,
          0,
          0,
          0,
          1,
          0,
          0,
          0,
          0,
          0,
          0,
          0,
          0,
          0,
          0,
          0,
          0,
          0,
          0,
          0,
          0,
          0,
          0,
          0,
          0,
          0,
          0,
          0,
          0,
          0,
          0,
          0,
          0,
          0,
          0,
          0,
          0,
          0,
          0,
          0,
          0,
          0,
          1,
          1,
          3,
          0,
          0,
          0,
          0,
          0,
          0,
          0,
          0,
          0,
          0,
          0,
          0,
          0,
          1,
          0,
          0,
          5,
          0,
          0,
          1,
          0,
          0,
          0,
          0,
          0,
          0,
          0,
          0,
          0,
          0,
          0,
          0,
          0,
          0,
          0,
          0,
          0,
          0,
          2,
          0,
          0,
          0,
          0,
          0,
          0,
          0,
          0,
          0,
          0,
          0,
          0,
          0,
          0,
          0,
          0,
          0,
          0,
          0,
          0,
          3,
          0,
          0,
          0,
          0,
          0,
          0,
          0,
          0,
          0,
          0,
          0,
          0,
          0,
          0,
          0,
          0,
          0,
          0,
          0,
          0,
          0,
          0,
          0,
          0,
          0,
          0,
          0,
          0,
          0,
          0,
          0,
          0,
          0,
          1,
          0,
          0,
          0,
          9,
          0,
          0,
          0,
          0,
          0,
          0,
          0,
          1,
          0,
          0,
          0,
          0,
          0,
          0,
          0,
          0,
          0,
          0,
          0,
          0,
          0,
          0,
          1,
          0,
          0,
          1,
          0,
          0,
          0,
          0,
          0,
          0,
          0,
          0,
          0,
          0,
          0,
          0,
          0,
          0,
          1,
          0,
          0,
          0,
          0,
          0,
          0,
          0,
          0,
          0,
          0,
          0,
          0,
          0,
          0,
          0,
          1,
          0,
          0,
          0,
          0,
          0,
          1,
          0,
          0,
          0,
          0,
          0,
          0,
          0,
          0,
          0,
          0,
          0,
          0,
          0,
          0,
          0,
          0,
          0,
          0,
          0,
          0,
          0,
          0,
          0,
          0,
          4,
          0,
          0,
          0,
          0,
          0,
          0,
          0,
          0,
          0,
          0,
          0,
          0,
          0,
          0,
          0,
          0,
          0,
          0,
          0,
          0,
          0,
          0,
          0,
          0,
          0,
          0,
          0,
          0,
          0,
          0,
          0,
          0,
          2,
          0,
          0,
          0,
          0,
          0,
          0,
          0,
          0,
          0,
          0,
          0,
          0,
          0,
          0,
          0,
          0,
          0,
          0,
          0,
          0,
          0,
          0,
          3,
          4,
          1,
          0,
          1,
          1,
          0,
          7,
          5,
          1,
          3,
          5,
          0,
          0,
          1,
          0,
          0,
          0,
          0,
          0
         ],
         "xaxis": "x",
         "yaxis": "y"
        }
       ],
       "layout": {
        "barmode": "relative",
        "legend": {
         "tracegroupgap": 0
        },
        "template": {
         "data": {
          "bar": [
           {
            "error_x": {
             "color": "#f2f5fa"
            },
            "error_y": {
             "color": "#f2f5fa"
            },
            "marker": {
             "line": {
              "color": "rgb(17,17,17)",
              "width": 0.5
             },
             "pattern": {
              "fillmode": "overlay",
              "size": 10,
              "solidity": 0.2
             }
            },
            "type": "bar"
           }
          ],
          "barpolar": [
           {
            "marker": {
             "line": {
              "color": "rgb(17,17,17)",
              "width": 0.5
             },
             "pattern": {
              "fillmode": "overlay",
              "size": 10,
              "solidity": 0.2
             }
            },
            "type": "barpolar"
           }
          ],
          "carpet": [
           {
            "aaxis": {
             "endlinecolor": "#A2B1C6",
             "gridcolor": "#506784",
             "linecolor": "#506784",
             "minorgridcolor": "#506784",
             "startlinecolor": "#A2B1C6"
            },
            "baxis": {
             "endlinecolor": "#A2B1C6",
             "gridcolor": "#506784",
             "linecolor": "#506784",
             "minorgridcolor": "#506784",
             "startlinecolor": "#A2B1C6"
            },
            "type": "carpet"
           }
          ],
          "choropleth": [
           {
            "colorbar": {
             "outlinewidth": 0,
             "ticks": ""
            },
            "type": "choropleth"
           }
          ],
          "contour": [
           {
            "colorbar": {
             "outlinewidth": 0,
             "ticks": ""
            },
            "colorscale": [
             [
              0,
              "#0d0887"
             ],
             [
              0.1111111111111111,
              "#46039f"
             ],
             [
              0.2222222222222222,
              "#7201a8"
             ],
             [
              0.3333333333333333,
              "#9c179e"
             ],
             [
              0.4444444444444444,
              "#bd3786"
             ],
             [
              0.5555555555555556,
              "#d8576b"
             ],
             [
              0.6666666666666666,
              "#ed7953"
             ],
             [
              0.7777777777777778,
              "#fb9f3a"
             ],
             [
              0.8888888888888888,
              "#fdca26"
             ],
             [
              1,
              "#f0f921"
             ]
            ],
            "type": "contour"
           }
          ],
          "contourcarpet": [
           {
            "colorbar": {
             "outlinewidth": 0,
             "ticks": ""
            },
            "type": "contourcarpet"
           }
          ],
          "heatmap": [
           {
            "colorbar": {
             "outlinewidth": 0,
             "ticks": ""
            },
            "colorscale": [
             [
              0,
              "#0d0887"
             ],
             [
              0.1111111111111111,
              "#46039f"
             ],
             [
              0.2222222222222222,
              "#7201a8"
             ],
             [
              0.3333333333333333,
              "#9c179e"
             ],
             [
              0.4444444444444444,
              "#bd3786"
             ],
             [
              0.5555555555555556,
              "#d8576b"
             ],
             [
              0.6666666666666666,
              "#ed7953"
             ],
             [
              0.7777777777777778,
              "#fb9f3a"
             ],
             [
              0.8888888888888888,
              "#fdca26"
             ],
             [
              1,
              "#f0f921"
             ]
            ],
            "type": "heatmap"
           }
          ],
          "heatmapgl": [
           {
            "colorbar": {
             "outlinewidth": 0,
             "ticks": ""
            },
            "colorscale": [
             [
              0,
              "#0d0887"
             ],
             [
              0.1111111111111111,
              "#46039f"
             ],
             [
              0.2222222222222222,
              "#7201a8"
             ],
             [
              0.3333333333333333,
              "#9c179e"
             ],
             [
              0.4444444444444444,
              "#bd3786"
             ],
             [
              0.5555555555555556,
              "#d8576b"
             ],
             [
              0.6666666666666666,
              "#ed7953"
             ],
             [
              0.7777777777777778,
              "#fb9f3a"
             ],
             [
              0.8888888888888888,
              "#fdca26"
             ],
             [
              1,
              "#f0f921"
             ]
            ],
            "type": "heatmapgl"
           }
          ],
          "histogram": [
           {
            "marker": {
             "pattern": {
              "fillmode": "overlay",
              "size": 10,
              "solidity": 0.2
             }
            },
            "type": "histogram"
           }
          ],
          "histogram2d": [
           {
            "colorbar": {
             "outlinewidth": 0,
             "ticks": ""
            },
            "colorscale": [
             [
              0,
              "#0d0887"
             ],
             [
              0.1111111111111111,
              "#46039f"
             ],
             [
              0.2222222222222222,
              "#7201a8"
             ],
             [
              0.3333333333333333,
              "#9c179e"
             ],
             [
              0.4444444444444444,
              "#bd3786"
             ],
             [
              0.5555555555555556,
              "#d8576b"
             ],
             [
              0.6666666666666666,
              "#ed7953"
             ],
             [
              0.7777777777777778,
              "#fb9f3a"
             ],
             [
              0.8888888888888888,
              "#fdca26"
             ],
             [
              1,
              "#f0f921"
             ]
            ],
            "type": "histogram2d"
           }
          ],
          "histogram2dcontour": [
           {
            "colorbar": {
             "outlinewidth": 0,
             "ticks": ""
            },
            "colorscale": [
             [
              0,
              "#0d0887"
             ],
             [
              0.1111111111111111,
              "#46039f"
             ],
             [
              0.2222222222222222,
              "#7201a8"
             ],
             [
              0.3333333333333333,
              "#9c179e"
             ],
             [
              0.4444444444444444,
              "#bd3786"
             ],
             [
              0.5555555555555556,
              "#d8576b"
             ],
             [
              0.6666666666666666,
              "#ed7953"
             ],
             [
              0.7777777777777778,
              "#fb9f3a"
             ],
             [
              0.8888888888888888,
              "#fdca26"
             ],
             [
              1,
              "#f0f921"
             ]
            ],
            "type": "histogram2dcontour"
           }
          ],
          "mesh3d": [
           {
            "colorbar": {
             "outlinewidth": 0,
             "ticks": ""
            },
            "type": "mesh3d"
           }
          ],
          "parcoords": [
           {
            "line": {
             "colorbar": {
              "outlinewidth": 0,
              "ticks": ""
             }
            },
            "type": "parcoords"
           }
          ],
          "pie": [
           {
            "automargin": true,
            "type": "pie"
           }
          ],
          "scatter": [
           {
            "marker": {
             "line": {
              "color": "#283442"
             }
            },
            "type": "scatter"
           }
          ],
          "scatter3d": [
           {
            "line": {
             "colorbar": {
              "outlinewidth": 0,
              "ticks": ""
             }
            },
            "marker": {
             "colorbar": {
              "outlinewidth": 0,
              "ticks": ""
             }
            },
            "type": "scatter3d"
           }
          ],
          "scattercarpet": [
           {
            "marker": {
             "colorbar": {
              "outlinewidth": 0,
              "ticks": ""
             }
            },
            "type": "scattercarpet"
           }
          ],
          "scattergeo": [
           {
            "marker": {
             "colorbar": {
              "outlinewidth": 0,
              "ticks": ""
             }
            },
            "type": "scattergeo"
           }
          ],
          "scattergl": [
           {
            "marker": {
             "line": {
              "color": "#283442"
             }
            },
            "type": "scattergl"
           }
          ],
          "scattermapbox": [
           {
            "marker": {
             "colorbar": {
              "outlinewidth": 0,
              "ticks": ""
             }
            },
            "type": "scattermapbox"
           }
          ],
          "scatterpolar": [
           {
            "marker": {
             "colorbar": {
              "outlinewidth": 0,
              "ticks": ""
             }
            },
            "type": "scatterpolar"
           }
          ],
          "scatterpolargl": [
           {
            "marker": {
             "colorbar": {
              "outlinewidth": 0,
              "ticks": ""
             }
            },
            "type": "scatterpolargl"
           }
          ],
          "scatterternary": [
           {
            "marker": {
             "colorbar": {
              "outlinewidth": 0,
              "ticks": ""
             }
            },
            "type": "scatterternary"
           }
          ],
          "surface": [
           {
            "colorbar": {
             "outlinewidth": 0,
             "ticks": ""
            },
            "colorscale": [
             [
              0,
              "#0d0887"
             ],
             [
              0.1111111111111111,
              "#46039f"
             ],
             [
              0.2222222222222222,
              "#7201a8"
             ],
             [
              0.3333333333333333,
              "#9c179e"
             ],
             [
              0.4444444444444444,
              "#bd3786"
             ],
             [
              0.5555555555555556,
              "#d8576b"
             ],
             [
              0.6666666666666666,
              "#ed7953"
             ],
             [
              0.7777777777777778,
              "#fb9f3a"
             ],
             [
              0.8888888888888888,
              "#fdca26"
             ],
             [
              1,
              "#f0f921"
             ]
            ],
            "type": "surface"
           }
          ],
          "table": [
           {
            "cells": {
             "fill": {
              "color": "#506784"
             },
             "line": {
              "color": "rgb(17,17,17)"
             }
            },
            "header": {
             "fill": {
              "color": "#2a3f5f"
             },
             "line": {
              "color": "rgb(17,17,17)"
             }
            },
            "type": "table"
           }
          ]
         },
         "layout": {
          "annotationdefaults": {
           "arrowcolor": "#f2f5fa",
           "arrowhead": 0,
           "arrowwidth": 1
          },
          "autotypenumbers": "strict",
          "coloraxis": {
           "colorbar": {
            "outlinewidth": 0,
            "ticks": ""
           }
          },
          "colorscale": {
           "diverging": [
            [
             0,
             "#8e0152"
            ],
            [
             0.1,
             "#c51b7d"
            ],
            [
             0.2,
             "#de77ae"
            ],
            [
             0.3,
             "#f1b6da"
            ],
            [
             0.4,
             "#fde0ef"
            ],
            [
             0.5,
             "#f7f7f7"
            ],
            [
             0.6,
             "#e6f5d0"
            ],
            [
             0.7,
             "#b8e186"
            ],
            [
             0.8,
             "#7fbc41"
            ],
            [
             0.9,
             "#4d9221"
            ],
            [
             1,
             "#276419"
            ]
           ],
           "sequential": [
            [
             0,
             "#0d0887"
            ],
            [
             0.1111111111111111,
             "#46039f"
            ],
            [
             0.2222222222222222,
             "#7201a8"
            ],
            [
             0.3333333333333333,
             "#9c179e"
            ],
            [
             0.4444444444444444,
             "#bd3786"
            ],
            [
             0.5555555555555556,
             "#d8576b"
            ],
            [
             0.6666666666666666,
             "#ed7953"
            ],
            [
             0.7777777777777778,
             "#fb9f3a"
            ],
            [
             0.8888888888888888,
             "#fdca26"
            ],
            [
             1,
             "#f0f921"
            ]
           ],
           "sequentialminus": [
            [
             0,
             "#0d0887"
            ],
            [
             0.1111111111111111,
             "#46039f"
            ],
            [
             0.2222222222222222,
             "#7201a8"
            ],
            [
             0.3333333333333333,
             "#9c179e"
            ],
            [
             0.4444444444444444,
             "#bd3786"
            ],
            [
             0.5555555555555556,
             "#d8576b"
            ],
            [
             0.6666666666666666,
             "#ed7953"
            ],
            [
             0.7777777777777778,
             "#fb9f3a"
            ],
            [
             0.8888888888888888,
             "#fdca26"
            ],
            [
             1,
             "#f0f921"
            ]
           ]
          },
          "colorway": [
           "#636efa",
           "#EF553B",
           "#00cc96",
           "#ab63fa",
           "#FFA15A",
           "#19d3f3",
           "#FF6692",
           "#B6E880",
           "#FF97FF",
           "#FECB52"
          ],
          "font": {
           "color": "#f2f5fa"
          },
          "geo": {
           "bgcolor": "rgb(17,17,17)",
           "lakecolor": "rgb(17,17,17)",
           "landcolor": "rgb(17,17,17)",
           "showlakes": true,
           "showland": true,
           "subunitcolor": "#506784"
          },
          "hoverlabel": {
           "align": "left"
          },
          "hovermode": "closest",
          "mapbox": {
           "style": "dark"
          },
          "paper_bgcolor": "rgb(17,17,17)",
          "plot_bgcolor": "rgb(17,17,17)",
          "polar": {
           "angularaxis": {
            "gridcolor": "#506784",
            "linecolor": "#506784",
            "ticks": ""
           },
           "bgcolor": "rgb(17,17,17)",
           "radialaxis": {
            "gridcolor": "#506784",
            "linecolor": "#506784",
            "ticks": ""
           }
          },
          "scene": {
           "xaxis": {
            "backgroundcolor": "rgb(17,17,17)",
            "gridcolor": "#506784",
            "gridwidth": 2,
            "linecolor": "#506784",
            "showbackground": true,
            "ticks": "",
            "zerolinecolor": "#C8D4E3"
           },
           "yaxis": {
            "backgroundcolor": "rgb(17,17,17)",
            "gridcolor": "#506784",
            "gridwidth": 2,
            "linecolor": "#506784",
            "showbackground": true,
            "ticks": "",
            "zerolinecolor": "#C8D4E3"
           },
           "zaxis": {
            "backgroundcolor": "rgb(17,17,17)",
            "gridcolor": "#506784",
            "gridwidth": 2,
            "linecolor": "#506784",
            "showbackground": true,
            "ticks": "",
            "zerolinecolor": "#C8D4E3"
           }
          },
          "shapedefaults": {
           "line": {
            "color": "#f2f5fa"
           }
          },
          "sliderdefaults": {
           "bgcolor": "#C8D4E3",
           "bordercolor": "rgb(17,17,17)",
           "borderwidth": 1,
           "tickwidth": 0
          },
          "ternary": {
           "aaxis": {
            "gridcolor": "#506784",
            "linecolor": "#506784",
            "ticks": ""
           },
           "baxis": {
            "gridcolor": "#506784",
            "linecolor": "#506784",
            "ticks": ""
           },
           "bgcolor": "rgb(17,17,17)",
           "caxis": {
            "gridcolor": "#506784",
            "linecolor": "#506784",
            "ticks": ""
           }
          },
          "title": {
           "x": 0.05
          },
          "updatemenudefaults": {
           "bgcolor": "#506784",
           "borderwidth": 0
          },
          "xaxis": {
           "automargin": true,
           "gridcolor": "#283442",
           "linecolor": "#506784",
           "ticks": "",
           "title": {
            "standoff": 15
           },
           "zerolinecolor": "#283442",
           "zerolinewidth": 2
          },
          "yaxis": {
           "automargin": true,
           "gridcolor": "#283442",
           "linecolor": "#506784",
           "ticks": "",
           "title": {
            "standoff": 15
           },
           "zerolinecolor": "#283442",
           "zerolinewidth": 2
          }
         }
        },
        "title": {
         "text": "Overall number of birds failed"
        },
        "xaxis": {
         "anchor": "y",
         "domain": [
          0,
          1
         ],
         "title": {
          "text": "num birds failed"
         }
        },
        "yaxis": {
         "anchor": "x",
         "domain": [
          0,
          1
         ],
         "title": {
          "text": "count"
         }
        }
       }
      }
     },
     "metadata": {},
     "output_type": "display_data"
    }
   ],
   "source": [
    "# this is not going to be a useful metric, if the number of frames is sufficient\n",
    "# for birds to have enough time to succeed\n",
    "px.histogram(\n",
    "    impactDF,\n",
    "    x=\"num birds failed\",\n",
    "    nbins=20,\n",
    "    title=\"Overall number of birds failed\",\n",
    "    template=\"plotly_dark\",\n",
    ")\n"
   ]
  },
  {
   "cell_type": "code",
   "execution_count": 6,
   "metadata": {},
   "outputs": [
    {
     "data": {
      "application/vnd.plotly.v1+json": {
       "config": {
        "plotlyServerURL": "https://plot.ly"
       },
       "data": [
        {
         "alignmentgroup": "True",
         "bingroup": "x",
         "hovertemplate": "time to first food=%{x}<br>count=%{y}<extra></extra>",
         "legendgroup": "",
         "marker": {
          "color": "#636efa",
          "pattern": {
           "shape": ""
          }
         },
         "name": "",
         "nbinsx": 30,
         "offsetgroup": "",
         "orientation": "v",
         "showlegend": false,
         "type": "histogram",
         "x": [
          14.666666666666666,
          14,
          4.888888888888889,
          2.5555555555555554,
          7.888888888888889,
          19.11111111111111,
          22.22222222222222,
          28.22222222222222,
          7.555555555555555,
          16.666666666666668,
          34,
          13.22222222222222,
          25.666666666666668,
          32.888888888888886,
          24.555555555555557,
          24.88888888888889,
          31.11111111111111,
          34.77777777777778,
          27.555555555555557,
          31.333333333333332,
          1.8888888888888888,
          2.7777777777777777,
          4.333333333333333,
          3.7777777777777777,
          7.222222222222222,
          2.3333333333333335,
          8.222222222222221,
          4.777777777777778,
          16.11111111111111,
          19.11111111111111,
          4.555555555555555,
          10.666666666666666,
          9.88888888888889,
          23,
          7.555555555555555,
          8.222222222222221,
          4,
          6.333333333333333,
          5.333333333333333,
          16.88888888888889,
          2.4444444444444446,
          1.8888888888888888,
          1.8888888888888888,
          2,
          3.4444444444444446,
          6.444444444444445,
          3.6666666666666665,
          11.555555555555555,
          5.888888888888889,
          6.111111111111111,
          3.3333333333333335,
          11.333333333333334,
          9.77777777777778,
          26,
          4.555555555555555,
          13.22222222222222,
          4,
          8.11111111111111,
          3.5555555555555554,
          7.222222222222222,
          7.666666666666667,
          6.888888888888889,
          3.4444444444444446,
          2.5555555555555554,
          13.555555555555555,
          6.222222222222222,
          2.7777777777777777,
          4.777777777777778,
          8.11111111111111,
          5.777777777777778,
          5.111111111111111,
          4,
          6.777777777777778,
          8.444444444444445,
          3.4444444444444446,
          24,
          6.111111111111111,
          6.111111111111111,
          16.666666666666668,
          8.222222222222221,
          4.888888888888889,
          2,
          2.4444444444444446,
          7.555555555555555,
          3.7777777777777777,
          3.888888888888889,
          4.777777777777778,
          4.444444444444445,
          4.555555555555555,
          4.666666666666667,
          6.888888888888889,
          3.3333333333333335,
          3.3333333333333335,
          10.555555555555555,
          5.444444444444445,
          3.3333333333333335,
          3.2222222222222223,
          3.111111111111111,
          6.222222222222222,
          4.888888888888889,
          2.111111111111111,
          2.888888888888889,
          2.2222222222222223,
          3,
          5.555555555555555,
          2.888888888888889,
          3.5555555555555554,
          3.111111111111111,
          3,
          3.5555555555555554,
          4,
          8,
          6.555555555555555,
          7.222222222222222,
          4.555555555555555,
          5.222222222222222,
          7.222222222222222,
          4.777777777777778,
          13.444444444444445,
          4.111111111111111,
          2.2222222222222223,
          2.5555555555555554,
          2.3333333333333335,
          1.7777777777777777,
          4.666666666666667,
          2.3333333333333335,
          6.555555555555555,
          3.888888888888889,
          4,
          3.5555555555555554,
          5.666666666666667,
          4.111111111111111,
          5.444444444444445,
          6.333333333333333,
          7.222222222222222,
          5.666666666666667,
          6,
          4.333333333333333,
          6.333333333333333,
          3.7777777777777777,
          1.8888888888888888,
          2.2222222222222223,
          1.6666666666666667,
          1.7777777777777777,
          4.111111111111111,
          2.5555555555555554,
          3.6666666666666665,
          6.111111111111111,
          4.666666666666667,
          4.111111111111111,
          6.666666666666667,
          2.888888888888889,
          2.888888888888889,
          6.111111111111111,
          8.666666666666666,
          7.555555555555555,
          11.11111111111111,
          12.333333333333334,
          22.22222222222222,
          3,
          3,
          2,
          1.6666666666666667,
          1.7777777777777777,
          7,
          3.3333333333333335,
          3.7777777777777777,
          4.111111111111111,
          4.333333333333333,
          5,
          3.5555555555555554,
          3.7777777777777777,
          10.444444444444445,
          5.444444444444445,
          5.444444444444445,
          48.111111111111114,
          12.88888888888889,
          7.222222222222222,
          11.666666666666666,
          4.666666666666667,
          3.3333333333333335,
          1.5555555555555556,
          2,
          2,
          4.444444444444445,
          4.333333333333333,
          3.7777777777777777,
          3.2222222222222223,
          4.888888888888889,
          8.333333333333334,
          4.666666666666667,
          3.111111111111111,
          8,
          5.888888888888889,
          8,
          4.777777777777778,
          7.333333333333333,
          15.444444444444445,
          9.88888888888889,
          3.3333333333333335,
          2.6666666666666665,
          6.888888888888889,
          1.3333333333333333,
          1.6666666666666667,
          2.888888888888889,
          3.111111111111111,
          3.111111111111111,
          3.111111111111111,
          4.666666666666667,
          4.777777777777778,
          6.444444444444445,
          5,
          6.555555555555555,
          7,
          4.222222222222222,
          14.77777777777778,
          3.888888888888889,
          4.666666666666667,
          41.888888888888886,
          7.222222222222222,
          1.8888888888888888,
          1.6666666666666667,
          3.3333333333333335,
          6.777777777777778,
          5.888888888888889,
          3.6666666666666665,
          3.888888888888889,
          3.6666666666666665,
          3.7777777777777777,
          3.5555555555555554,
          7.888888888888889,
          4,
          10,
          6.444444444444445,
          13.333333333333334,
          6.333333333333333,
          4,
          7.111111111111111,
          7.333333333333333,
          4.777777777777778,
          1.3333333333333333,
          1.4444444444444444,
          3.888888888888889,
          2.111111111111111,
          7.444444444444445,
          3.6666666666666665,
          2.6666666666666665,
          5.222222222222222,
          5.666666666666667,
          2.5555555555555554,
          4,
          2.6666666666666665,
          11.555555555555555,
          14,
          8.222222222222221,
          30,
          50,
          5.888888888888889,
          3.5555555555555554,
          11.555555555555555,
          3.4444444444444446,
          1.8888888888888888,
          5.555555555555555,
          2.6666666666666665,
          9.88888888888889,
          2.6666666666666665,
          3.2222222222222223,
          3.5555555555555554,
          3,
          4.111111111111111,
          5,
          5.666666666666667,
          6.888888888888889,
          14.555555555555555,
          5.555555555555555,
          8.333333333333334,
          6,
          3.6666666666666665,
          12.444444444444445,
          13.22222222222222,
          1.4444444444444444,
          1.7777777777777777,
          7.111111111111111,
          1.7777777777777777,
          5.555555555555555,
          5.333333333333333,
          3,
          2.3333333333333335,
          6.444444444444445,
          2.6666666666666665,
          5,
          5.222222222222222,
          5.888888888888889,
          4.666666666666667,
          8.555555555555555,
          5.777777777777778,
          3.888888888888889,
          13.22222222222222,
          11.555555555555555,
          2.6666666666666665,
          3.2222222222222223,
          1.8888888888888888,
          1.7777777777777777,
          2.2222222222222223,
          3.111111111111111,
          3.6666666666666665,
          5.444444444444445,
          3,
          7.222222222222222,
          4.888888888888889,
          2.2222222222222223,
          9.88888888888889,
          3.2222222222222223,
          13.666666666666666,
          5.222222222222222,
          7.777777777777778,
          5.777777777777778,
          5.888888888888889,
          5.777777777777778,
          10.333333333333334,
          1.7777777777777777,
          1.4444444444444444,
          1.8888888888888888,
          1.8888888888888888,
          6.111111111111111,
          16.555555555555557,
          8,
          4.333333333333333,
          4.333333333333333,
          6.222222222222222,
          4.222222222222222,
          5.555555555555555,
          5.444444444444445,
          6.111111111111111,
          3.7777777777777777,
          9.22222222222222,
          9,
          4.222222222222222,
          4.444444444444445,
          3.3333333333333335,
          2.111111111111111,
          2,
          2,
          2.4444444444444446,
          24.555555555555557,
          4.888888888888889,
          5.444444444444445,
          3,
          8.555555555555555,
          3.6666666666666665,
          6.444444444444445,
          4.444444444444445,
          9.444444444444445,
          4.444444444444445,
          4.555555555555555,
          8.88888888888889,
          4.888888888888889,
          6.777777777777778,
          4.333333333333333,
          3.888888888888889,
          3.3333333333333335,
          1.4444444444444444,
          2.111111111111111,
          2.2222222222222223,
          3.7777777777777777,
          2.4444444444444446,
          3.3333333333333335,
          2.4444444444444446,
          7.333333333333333,
          4.555555555555555,
          8.333333333333334,
          6.666666666666667,
          11.555555555555555,
          5.222222222222222,
          4.111111111111111,
          5.888888888888889,
          3.4444444444444446,
          15.555555555555555,
          4.333333333333333,
          6,
          3.5555555555555554,
          2.7777777777777777,
          2.3333333333333335,
          2.2222222222222223,
          3.7777777777777777,
          4.222222222222222,
          5.111111111111111,
          2.111111111111111,
          5.555555555555555,
          4.333333333333333,
          3.2222222222222223,
          4.333333333333333,
          10.88888888888889,
          4.111111111111111,
          19.11111111111111,
          10.22222222222222,
          9.11111111111111,
          4.777777777777778,
          4.444444444444445,
          4.777777777777778,
          26.555555555555557,
          27.666666666666668,
          19.444444444444443,
          19.11111111111111,
          23.22222222222222,
          25.333333333333332,
          12.77777777777778,
          42.333333333333336,
          39.333333333333336,
          22,
          20.444444444444443,
          45.666666666666664,
          10.22222222222222,
          6.777777777777778,
          30.333333333333332,
          8.444444444444445,
          3.5555555555555554,
          6.111111111111111,
          7.333333333333333,
          45.44444444444444
         ],
         "xaxis": "x",
         "yaxis": "y"
        }
       ],
       "layout": {
        "barmode": "relative",
        "legend": {
         "tracegroupgap": 0
        },
        "template": {
         "data": {
          "bar": [
           {
            "error_x": {
             "color": "#f2f5fa"
            },
            "error_y": {
             "color": "#f2f5fa"
            },
            "marker": {
             "line": {
              "color": "rgb(17,17,17)",
              "width": 0.5
             },
             "pattern": {
              "fillmode": "overlay",
              "size": 10,
              "solidity": 0.2
             }
            },
            "type": "bar"
           }
          ],
          "barpolar": [
           {
            "marker": {
             "line": {
              "color": "rgb(17,17,17)",
              "width": 0.5
             },
             "pattern": {
              "fillmode": "overlay",
              "size": 10,
              "solidity": 0.2
             }
            },
            "type": "barpolar"
           }
          ],
          "carpet": [
           {
            "aaxis": {
             "endlinecolor": "#A2B1C6",
             "gridcolor": "#506784",
             "linecolor": "#506784",
             "minorgridcolor": "#506784",
             "startlinecolor": "#A2B1C6"
            },
            "baxis": {
             "endlinecolor": "#A2B1C6",
             "gridcolor": "#506784",
             "linecolor": "#506784",
             "minorgridcolor": "#506784",
             "startlinecolor": "#A2B1C6"
            },
            "type": "carpet"
           }
          ],
          "choropleth": [
           {
            "colorbar": {
             "outlinewidth": 0,
             "ticks": ""
            },
            "type": "choropleth"
           }
          ],
          "contour": [
           {
            "colorbar": {
             "outlinewidth": 0,
             "ticks": ""
            },
            "colorscale": [
             [
              0,
              "#0d0887"
             ],
             [
              0.1111111111111111,
              "#46039f"
             ],
             [
              0.2222222222222222,
              "#7201a8"
             ],
             [
              0.3333333333333333,
              "#9c179e"
             ],
             [
              0.4444444444444444,
              "#bd3786"
             ],
             [
              0.5555555555555556,
              "#d8576b"
             ],
             [
              0.6666666666666666,
              "#ed7953"
             ],
             [
              0.7777777777777778,
              "#fb9f3a"
             ],
             [
              0.8888888888888888,
              "#fdca26"
             ],
             [
              1,
              "#f0f921"
             ]
            ],
            "type": "contour"
           }
          ],
          "contourcarpet": [
           {
            "colorbar": {
             "outlinewidth": 0,
             "ticks": ""
            },
            "type": "contourcarpet"
           }
          ],
          "heatmap": [
           {
            "colorbar": {
             "outlinewidth": 0,
             "ticks": ""
            },
            "colorscale": [
             [
              0,
              "#0d0887"
             ],
             [
              0.1111111111111111,
              "#46039f"
             ],
             [
              0.2222222222222222,
              "#7201a8"
             ],
             [
              0.3333333333333333,
              "#9c179e"
             ],
             [
              0.4444444444444444,
              "#bd3786"
             ],
             [
              0.5555555555555556,
              "#d8576b"
             ],
             [
              0.6666666666666666,
              "#ed7953"
             ],
             [
              0.7777777777777778,
              "#fb9f3a"
             ],
             [
              0.8888888888888888,
              "#fdca26"
             ],
             [
              1,
              "#f0f921"
             ]
            ],
            "type": "heatmap"
           }
          ],
          "heatmapgl": [
           {
            "colorbar": {
             "outlinewidth": 0,
             "ticks": ""
            },
            "colorscale": [
             [
              0,
              "#0d0887"
             ],
             [
              0.1111111111111111,
              "#46039f"
             ],
             [
              0.2222222222222222,
              "#7201a8"
             ],
             [
              0.3333333333333333,
              "#9c179e"
             ],
             [
              0.4444444444444444,
              "#bd3786"
             ],
             [
              0.5555555555555556,
              "#d8576b"
             ],
             [
              0.6666666666666666,
              "#ed7953"
             ],
             [
              0.7777777777777778,
              "#fb9f3a"
             ],
             [
              0.8888888888888888,
              "#fdca26"
             ],
             [
              1,
              "#f0f921"
             ]
            ],
            "type": "heatmapgl"
           }
          ],
          "histogram": [
           {
            "marker": {
             "pattern": {
              "fillmode": "overlay",
              "size": 10,
              "solidity": 0.2
             }
            },
            "type": "histogram"
           }
          ],
          "histogram2d": [
           {
            "colorbar": {
             "outlinewidth": 0,
             "ticks": ""
            },
            "colorscale": [
             [
              0,
              "#0d0887"
             ],
             [
              0.1111111111111111,
              "#46039f"
             ],
             [
              0.2222222222222222,
              "#7201a8"
             ],
             [
              0.3333333333333333,
              "#9c179e"
             ],
             [
              0.4444444444444444,
              "#bd3786"
             ],
             [
              0.5555555555555556,
              "#d8576b"
             ],
             [
              0.6666666666666666,
              "#ed7953"
             ],
             [
              0.7777777777777778,
              "#fb9f3a"
             ],
             [
              0.8888888888888888,
              "#fdca26"
             ],
             [
              1,
              "#f0f921"
             ]
            ],
            "type": "histogram2d"
           }
          ],
          "histogram2dcontour": [
           {
            "colorbar": {
             "outlinewidth": 0,
             "ticks": ""
            },
            "colorscale": [
             [
              0,
              "#0d0887"
             ],
             [
              0.1111111111111111,
              "#46039f"
             ],
             [
              0.2222222222222222,
              "#7201a8"
             ],
             [
              0.3333333333333333,
              "#9c179e"
             ],
             [
              0.4444444444444444,
              "#bd3786"
             ],
             [
              0.5555555555555556,
              "#d8576b"
             ],
             [
              0.6666666666666666,
              "#ed7953"
             ],
             [
              0.7777777777777778,
              "#fb9f3a"
             ],
             [
              0.8888888888888888,
              "#fdca26"
             ],
             [
              1,
              "#f0f921"
             ]
            ],
            "type": "histogram2dcontour"
           }
          ],
          "mesh3d": [
           {
            "colorbar": {
             "outlinewidth": 0,
             "ticks": ""
            },
            "type": "mesh3d"
           }
          ],
          "parcoords": [
           {
            "line": {
             "colorbar": {
              "outlinewidth": 0,
              "ticks": ""
             }
            },
            "type": "parcoords"
           }
          ],
          "pie": [
           {
            "automargin": true,
            "type": "pie"
           }
          ],
          "scatter": [
           {
            "marker": {
             "line": {
              "color": "#283442"
             }
            },
            "type": "scatter"
           }
          ],
          "scatter3d": [
           {
            "line": {
             "colorbar": {
              "outlinewidth": 0,
              "ticks": ""
             }
            },
            "marker": {
             "colorbar": {
              "outlinewidth": 0,
              "ticks": ""
             }
            },
            "type": "scatter3d"
           }
          ],
          "scattercarpet": [
           {
            "marker": {
             "colorbar": {
              "outlinewidth": 0,
              "ticks": ""
             }
            },
            "type": "scattercarpet"
           }
          ],
          "scattergeo": [
           {
            "marker": {
             "colorbar": {
              "outlinewidth": 0,
              "ticks": ""
             }
            },
            "type": "scattergeo"
           }
          ],
          "scattergl": [
           {
            "marker": {
             "line": {
              "color": "#283442"
             }
            },
            "type": "scattergl"
           }
          ],
          "scattermapbox": [
           {
            "marker": {
             "colorbar": {
              "outlinewidth": 0,
              "ticks": ""
             }
            },
            "type": "scattermapbox"
           }
          ],
          "scatterpolar": [
           {
            "marker": {
             "colorbar": {
              "outlinewidth": 0,
              "ticks": ""
             }
            },
            "type": "scatterpolar"
           }
          ],
          "scatterpolargl": [
           {
            "marker": {
             "colorbar": {
              "outlinewidth": 0,
              "ticks": ""
             }
            },
            "type": "scatterpolargl"
           }
          ],
          "scatterternary": [
           {
            "marker": {
             "colorbar": {
              "outlinewidth": 0,
              "ticks": ""
             }
            },
            "type": "scatterternary"
           }
          ],
          "surface": [
           {
            "colorbar": {
             "outlinewidth": 0,
             "ticks": ""
            },
            "colorscale": [
             [
              0,
              "#0d0887"
             ],
             [
              0.1111111111111111,
              "#46039f"
             ],
             [
              0.2222222222222222,
              "#7201a8"
             ],
             [
              0.3333333333333333,
              "#9c179e"
             ],
             [
              0.4444444444444444,
              "#bd3786"
             ],
             [
              0.5555555555555556,
              "#d8576b"
             ],
             [
              0.6666666666666666,
              "#ed7953"
             ],
             [
              0.7777777777777778,
              "#fb9f3a"
             ],
             [
              0.8888888888888888,
              "#fdca26"
             ],
             [
              1,
              "#f0f921"
             ]
            ],
            "type": "surface"
           }
          ],
          "table": [
           {
            "cells": {
             "fill": {
              "color": "#506784"
             },
             "line": {
              "color": "rgb(17,17,17)"
             }
            },
            "header": {
             "fill": {
              "color": "#2a3f5f"
             },
             "line": {
              "color": "rgb(17,17,17)"
             }
            },
            "type": "table"
           }
          ]
         },
         "layout": {
          "annotationdefaults": {
           "arrowcolor": "#f2f5fa",
           "arrowhead": 0,
           "arrowwidth": 1
          },
          "autotypenumbers": "strict",
          "coloraxis": {
           "colorbar": {
            "outlinewidth": 0,
            "ticks": ""
           }
          },
          "colorscale": {
           "diverging": [
            [
             0,
             "#8e0152"
            ],
            [
             0.1,
             "#c51b7d"
            ],
            [
             0.2,
             "#de77ae"
            ],
            [
             0.3,
             "#f1b6da"
            ],
            [
             0.4,
             "#fde0ef"
            ],
            [
             0.5,
             "#f7f7f7"
            ],
            [
             0.6,
             "#e6f5d0"
            ],
            [
             0.7,
             "#b8e186"
            ],
            [
             0.8,
             "#7fbc41"
            ],
            [
             0.9,
             "#4d9221"
            ],
            [
             1,
             "#276419"
            ]
           ],
           "sequential": [
            [
             0,
             "#0d0887"
            ],
            [
             0.1111111111111111,
             "#46039f"
            ],
            [
             0.2222222222222222,
             "#7201a8"
            ],
            [
             0.3333333333333333,
             "#9c179e"
            ],
            [
             0.4444444444444444,
             "#bd3786"
            ],
            [
             0.5555555555555556,
             "#d8576b"
            ],
            [
             0.6666666666666666,
             "#ed7953"
            ],
            [
             0.7777777777777778,
             "#fb9f3a"
            ],
            [
             0.8888888888888888,
             "#fdca26"
            ],
            [
             1,
             "#f0f921"
            ]
           ],
           "sequentialminus": [
            [
             0,
             "#0d0887"
            ],
            [
             0.1111111111111111,
             "#46039f"
            ],
            [
             0.2222222222222222,
             "#7201a8"
            ],
            [
             0.3333333333333333,
             "#9c179e"
            ],
            [
             0.4444444444444444,
             "#bd3786"
            ],
            [
             0.5555555555555556,
             "#d8576b"
            ],
            [
             0.6666666666666666,
             "#ed7953"
            ],
            [
             0.7777777777777778,
             "#fb9f3a"
            ],
            [
             0.8888888888888888,
             "#fdca26"
            ],
            [
             1,
             "#f0f921"
            ]
           ]
          },
          "colorway": [
           "#636efa",
           "#EF553B",
           "#00cc96",
           "#ab63fa",
           "#FFA15A",
           "#19d3f3",
           "#FF6692",
           "#B6E880",
           "#FF97FF",
           "#FECB52"
          ],
          "font": {
           "color": "#f2f5fa"
          },
          "geo": {
           "bgcolor": "rgb(17,17,17)",
           "lakecolor": "rgb(17,17,17)",
           "landcolor": "rgb(17,17,17)",
           "showlakes": true,
           "showland": true,
           "subunitcolor": "#506784"
          },
          "hoverlabel": {
           "align": "left"
          },
          "hovermode": "closest",
          "mapbox": {
           "style": "dark"
          },
          "paper_bgcolor": "rgb(17,17,17)",
          "plot_bgcolor": "rgb(17,17,17)",
          "polar": {
           "angularaxis": {
            "gridcolor": "#506784",
            "linecolor": "#506784",
            "ticks": ""
           },
           "bgcolor": "rgb(17,17,17)",
           "radialaxis": {
            "gridcolor": "#506784",
            "linecolor": "#506784",
            "ticks": ""
           }
          },
          "scene": {
           "xaxis": {
            "backgroundcolor": "rgb(17,17,17)",
            "gridcolor": "#506784",
            "gridwidth": 2,
            "linecolor": "#506784",
            "showbackground": true,
            "ticks": "",
            "zerolinecolor": "#C8D4E3"
           },
           "yaxis": {
            "backgroundcolor": "rgb(17,17,17)",
            "gridcolor": "#506784",
            "gridwidth": 2,
            "linecolor": "#506784",
            "showbackground": true,
            "ticks": "",
            "zerolinecolor": "#C8D4E3"
           },
           "zaxis": {
            "backgroundcolor": "rgb(17,17,17)",
            "gridcolor": "#506784",
            "gridwidth": 2,
            "linecolor": "#506784",
            "showbackground": true,
            "ticks": "",
            "zerolinecolor": "#C8D4E3"
           }
          },
          "shapedefaults": {
           "line": {
            "color": "#f2f5fa"
           }
          },
          "sliderdefaults": {
           "bgcolor": "#C8D4E3",
           "bordercolor": "rgb(17,17,17)",
           "borderwidth": 1,
           "tickwidth": 0
          },
          "ternary": {
           "aaxis": {
            "gridcolor": "#506784",
            "linecolor": "#506784",
            "ticks": ""
           },
           "baxis": {
            "gridcolor": "#506784",
            "linecolor": "#506784",
            "ticks": ""
           },
           "bgcolor": "rgb(17,17,17)",
           "caxis": {
            "gridcolor": "#506784",
            "linecolor": "#506784",
            "ticks": ""
           }
          },
          "title": {
           "x": 0.05
          },
          "updatemenudefaults": {
           "bgcolor": "#506784",
           "borderwidth": 0
          },
          "xaxis": {
           "automargin": true,
           "gridcolor": "#283442",
           "linecolor": "#506784",
           "ticks": "",
           "title": {
            "standoff": 15
           },
           "zerolinecolor": "#283442",
           "zerolinewidth": 2
          },
          "yaxis": {
           "automargin": true,
           "gridcolor": "#283442",
           "linecolor": "#506784",
           "ticks": "",
           "title": {
            "standoff": 15
           },
           "zerolinecolor": "#283442",
           "zerolinewidth": 2
          }
         }
        },
        "title": {
         "text": "Overall times to first food"
        },
        "xaxis": {
         "anchor": "y",
         "domain": [
          0,
          1
         ],
         "title": {
          "text": "time to first food"
         }
        },
        "yaxis": {
         "anchor": "x",
         "domain": [
          0,
          1
         ],
         "title": {
          "text": "count"
         }
        }
       }
      }
     },
     "metadata": {},
     "output_type": "display_data"
    }
   ],
   "source": [
    "# this migth be more useful\n",
    "px.histogram(\n",
    "    impactDF,\n",
    "    x=\"time to first food\",\n",
    "    nbins=30,\n",
    "    title=\"Overall times to first food\",\n",
    "    template=\"plotly_dark\",\n",
    ")\n"
   ]
  },
  {
   "cell_type": "code",
   "execution_count": 7,
   "metadata": {},
   "outputs": [
    {
     "data": {
      "text/html": [
       "<div>\n",
       "<style scoped>\n",
       "    .dataframe tbody tr th:only-of-type {\n",
       "        vertical-align: middle;\n",
       "    }\n",
       "\n",
       "    .dataframe tbody tr th {\n",
       "        vertical-align: top;\n",
       "    }\n",
       "\n",
       "    .dataframe thead th {\n",
       "        text-align: right;\n",
       "    }\n",
       "</style>\n",
       "<table border=\"1\" class=\"dataframe\">\n",
       "  <thead>\n",
       "    <tr style=\"text-align: right;\">\n",
       "      <th></th>\n",
       "      <th>time to first food</th>\n",
       "      <th>num birds failed</th>\n",
       "    </tr>\n",
       "  </thead>\n",
       "  <tbody>\n",
       "    <tr>\n",
       "      <th>time to first food</th>\n",
       "      <td>1.000000</td>\n",
       "      <td>0.545523</td>\n",
       "    </tr>\n",
       "    <tr>\n",
       "      <th>num birds failed</th>\n",
       "      <td>0.545523</td>\n",
       "      <td>1.000000</td>\n",
       "    </tr>\n",
       "  </tbody>\n",
       "</table>\n",
       "</div>"
      ],
      "text/plain": [
       "                    time to first food  num birds failed\n",
       "time to first food            1.000000          0.545523\n",
       "num birds failed              0.545523          1.000000"
      ]
     },
     "execution_count": 7,
     "metadata": {},
     "output_type": "execute_result"
    }
   ],
   "source": [
    "# the success metrics are rather correlated anyway\n",
    "impactDF.iloc[:, -2:].corr(method=\"spearman\")\n"
   ]
  },
  {
   "cell_type": "code",
   "execution_count": 8,
   "metadata": {},
   "outputs": [
    {
     "data": {
      "application/vnd.plotly.v1+json": {
       "config": {
        "plotlyServerURL": "https://plot.ly"
       },
       "data": [
        {
         "hovertemplate": "num birds failed=%{x}<br>time to first food=%{y}<extra></extra>",
         "legendgroup": "",
         "marker": {
          "color": "#636efa",
          "symbol": "circle"
         },
         "mode": "markers",
         "name": "",
         "orientation": "v",
         "showlegend": false,
         "type": "scatter",
         "x": [
          0,
          0,
          0,
          0,
          0,
          3,
          2,
          4,
          0,
          2,
          6,
          2,
          3,
          2,
          0,
          3,
          4,
          5,
          2,
          3,
          0,
          0,
          0,
          0,
          0,
          0,
          0,
          0,
          2,
          2,
          0,
          0,
          0,
          0,
          0,
          0,
          0,
          0,
          0,
          1,
          0,
          0,
          0,
          0,
          0,
          0,
          0,
          1,
          0,
          0,
          0,
          1,
          0,
          3,
          0,
          0,
          0,
          0,
          0,
          0,
          1,
          1,
          0,
          0,
          2,
          0,
          0,
          0,
          0,
          0,
          0,
          0,
          0,
          0,
          0,
          3,
          0,
          0,
          0,
          0,
          0,
          0,
          0,
          1,
          0,
          0,
          0,
          0,
          0,
          0,
          0,
          0,
          0,
          0,
          0,
          0,
          0,
          0,
          0,
          0,
          0,
          0,
          0,
          0,
          0,
          0,
          0,
          0,
          0,
          0,
          0,
          0,
          0,
          0,
          0,
          0,
          0,
          0,
          1,
          0,
          0,
          0,
          0,
          0,
          0,
          0,
          0,
          0,
          0,
          0,
          0,
          0,
          0,
          0,
          0,
          0,
          0,
          0,
          0,
          0,
          0,
          0,
          0,
          0,
          0,
          0,
          0,
          0,
          0,
          0,
          0,
          0,
          0,
          0,
          0,
          0,
          1,
          1,
          3,
          0,
          0,
          0,
          0,
          0,
          0,
          0,
          0,
          0,
          0,
          0,
          0,
          0,
          1,
          0,
          0,
          5,
          0,
          0,
          1,
          0,
          0,
          0,
          0,
          0,
          0,
          0,
          0,
          0,
          0,
          0,
          0,
          0,
          0,
          0,
          0,
          0,
          0,
          2,
          0,
          0,
          0,
          0,
          0,
          0,
          0,
          0,
          0,
          0,
          0,
          0,
          0,
          0,
          0,
          0,
          0,
          0,
          0,
          0,
          3,
          0,
          0,
          0,
          0,
          0,
          0,
          0,
          0,
          0,
          0,
          0,
          0,
          0,
          0,
          0,
          0,
          0,
          0,
          0,
          0,
          0,
          0,
          0,
          0,
          0,
          0,
          0,
          0,
          0,
          0,
          0,
          0,
          0,
          1,
          0,
          0,
          0,
          9,
          0,
          0,
          0,
          0,
          0,
          0,
          0,
          1,
          0,
          0,
          0,
          0,
          0,
          0,
          0,
          0,
          0,
          0,
          0,
          0,
          0,
          0,
          1,
          0,
          0,
          1,
          0,
          0,
          0,
          0,
          0,
          0,
          0,
          0,
          0,
          0,
          0,
          0,
          0,
          0,
          1,
          0,
          0,
          0,
          0,
          0,
          0,
          0,
          0,
          0,
          0,
          0,
          0,
          0,
          0,
          0,
          1,
          0,
          0,
          0,
          0,
          0,
          1,
          0,
          0,
          0,
          0,
          0,
          0,
          0,
          0,
          0,
          0,
          0,
          0,
          0,
          0,
          0,
          0,
          0,
          0,
          0,
          0,
          0,
          0,
          0,
          0,
          4,
          0,
          0,
          0,
          0,
          0,
          0,
          0,
          0,
          0,
          0,
          0,
          0,
          0,
          0,
          0,
          0,
          0,
          0,
          0,
          0,
          0,
          0,
          0,
          0,
          0,
          0,
          0,
          0,
          0,
          0,
          0,
          0,
          2,
          0,
          0,
          0,
          0,
          0,
          0,
          0,
          0,
          0,
          0,
          0,
          0,
          0,
          0,
          0,
          0,
          0,
          0,
          0,
          0,
          0,
          0,
          3,
          4,
          1,
          0,
          1,
          1,
          0,
          7,
          5,
          1,
          3,
          5,
          0,
          0,
          1,
          0,
          0,
          0,
          0,
          0
         ],
         "xaxis": "x",
         "y": [
          14.666666666666666,
          14,
          4.888888888888889,
          2.5555555555555554,
          7.888888888888889,
          19.11111111111111,
          22.22222222222222,
          28.22222222222222,
          7.555555555555555,
          16.666666666666668,
          34,
          13.22222222222222,
          25.666666666666668,
          32.888888888888886,
          24.555555555555557,
          24.88888888888889,
          31.11111111111111,
          34.77777777777778,
          27.555555555555557,
          31.333333333333332,
          1.8888888888888888,
          2.7777777777777777,
          4.333333333333333,
          3.7777777777777777,
          7.222222222222222,
          2.3333333333333335,
          8.222222222222221,
          4.777777777777778,
          16.11111111111111,
          19.11111111111111,
          4.555555555555555,
          10.666666666666666,
          9.88888888888889,
          23,
          7.555555555555555,
          8.222222222222221,
          4,
          6.333333333333333,
          5.333333333333333,
          16.88888888888889,
          2.4444444444444446,
          1.8888888888888888,
          1.8888888888888888,
          2,
          3.4444444444444446,
          6.444444444444445,
          3.6666666666666665,
          11.555555555555555,
          5.888888888888889,
          6.111111111111111,
          3.3333333333333335,
          11.333333333333334,
          9.77777777777778,
          26,
          4.555555555555555,
          13.22222222222222,
          4,
          8.11111111111111,
          3.5555555555555554,
          7.222222222222222,
          7.666666666666667,
          6.888888888888889,
          3.4444444444444446,
          2.5555555555555554,
          13.555555555555555,
          6.222222222222222,
          2.7777777777777777,
          4.777777777777778,
          8.11111111111111,
          5.777777777777778,
          5.111111111111111,
          4,
          6.777777777777778,
          8.444444444444445,
          3.4444444444444446,
          24,
          6.111111111111111,
          6.111111111111111,
          16.666666666666668,
          8.222222222222221,
          4.888888888888889,
          2,
          2.4444444444444446,
          7.555555555555555,
          3.7777777777777777,
          3.888888888888889,
          4.777777777777778,
          4.444444444444445,
          4.555555555555555,
          4.666666666666667,
          6.888888888888889,
          3.3333333333333335,
          3.3333333333333335,
          10.555555555555555,
          5.444444444444445,
          3.3333333333333335,
          3.2222222222222223,
          3.111111111111111,
          6.222222222222222,
          4.888888888888889,
          2.111111111111111,
          2.888888888888889,
          2.2222222222222223,
          3,
          5.555555555555555,
          2.888888888888889,
          3.5555555555555554,
          3.111111111111111,
          3,
          3.5555555555555554,
          4,
          8,
          6.555555555555555,
          7.222222222222222,
          4.555555555555555,
          5.222222222222222,
          7.222222222222222,
          4.777777777777778,
          13.444444444444445,
          4.111111111111111,
          2.2222222222222223,
          2.5555555555555554,
          2.3333333333333335,
          1.7777777777777777,
          4.666666666666667,
          2.3333333333333335,
          6.555555555555555,
          3.888888888888889,
          4,
          3.5555555555555554,
          5.666666666666667,
          4.111111111111111,
          5.444444444444445,
          6.333333333333333,
          7.222222222222222,
          5.666666666666667,
          6,
          4.333333333333333,
          6.333333333333333,
          3.7777777777777777,
          1.8888888888888888,
          2.2222222222222223,
          1.6666666666666667,
          1.7777777777777777,
          4.111111111111111,
          2.5555555555555554,
          3.6666666666666665,
          6.111111111111111,
          4.666666666666667,
          4.111111111111111,
          6.666666666666667,
          2.888888888888889,
          2.888888888888889,
          6.111111111111111,
          8.666666666666666,
          7.555555555555555,
          11.11111111111111,
          12.333333333333334,
          22.22222222222222,
          3,
          3,
          2,
          1.6666666666666667,
          1.7777777777777777,
          7,
          3.3333333333333335,
          3.7777777777777777,
          4.111111111111111,
          4.333333333333333,
          5,
          3.5555555555555554,
          3.7777777777777777,
          10.444444444444445,
          5.444444444444445,
          5.444444444444445,
          48.111111111111114,
          12.88888888888889,
          7.222222222222222,
          11.666666666666666,
          4.666666666666667,
          3.3333333333333335,
          1.5555555555555556,
          2,
          2,
          4.444444444444445,
          4.333333333333333,
          3.7777777777777777,
          3.2222222222222223,
          4.888888888888889,
          8.333333333333334,
          4.666666666666667,
          3.111111111111111,
          8,
          5.888888888888889,
          8,
          4.777777777777778,
          7.333333333333333,
          15.444444444444445,
          9.88888888888889,
          3.3333333333333335,
          2.6666666666666665,
          6.888888888888889,
          1.3333333333333333,
          1.6666666666666667,
          2.888888888888889,
          3.111111111111111,
          3.111111111111111,
          3.111111111111111,
          4.666666666666667,
          4.777777777777778,
          6.444444444444445,
          5,
          6.555555555555555,
          7,
          4.222222222222222,
          14.77777777777778,
          3.888888888888889,
          4.666666666666667,
          41.888888888888886,
          7.222222222222222,
          1.8888888888888888,
          1.6666666666666667,
          3.3333333333333335,
          6.777777777777778,
          5.888888888888889,
          3.6666666666666665,
          3.888888888888889,
          3.6666666666666665,
          3.7777777777777777,
          3.5555555555555554,
          7.888888888888889,
          4,
          10,
          6.444444444444445,
          13.333333333333334,
          6.333333333333333,
          4,
          7.111111111111111,
          7.333333333333333,
          4.777777777777778,
          1.3333333333333333,
          1.4444444444444444,
          3.888888888888889,
          2.111111111111111,
          7.444444444444445,
          3.6666666666666665,
          2.6666666666666665,
          5.222222222222222,
          5.666666666666667,
          2.5555555555555554,
          4,
          2.6666666666666665,
          11.555555555555555,
          14,
          8.222222222222221,
          30,
          50,
          5.888888888888889,
          3.5555555555555554,
          11.555555555555555,
          3.4444444444444446,
          1.8888888888888888,
          5.555555555555555,
          2.6666666666666665,
          9.88888888888889,
          2.6666666666666665,
          3.2222222222222223,
          3.5555555555555554,
          3,
          4.111111111111111,
          5,
          5.666666666666667,
          6.888888888888889,
          14.555555555555555,
          5.555555555555555,
          8.333333333333334,
          6,
          3.6666666666666665,
          12.444444444444445,
          13.22222222222222,
          1.4444444444444444,
          1.7777777777777777,
          7.111111111111111,
          1.7777777777777777,
          5.555555555555555,
          5.333333333333333,
          3,
          2.3333333333333335,
          6.444444444444445,
          2.6666666666666665,
          5,
          5.222222222222222,
          5.888888888888889,
          4.666666666666667,
          8.555555555555555,
          5.777777777777778,
          3.888888888888889,
          13.22222222222222,
          11.555555555555555,
          2.6666666666666665,
          3.2222222222222223,
          1.8888888888888888,
          1.7777777777777777,
          2.2222222222222223,
          3.111111111111111,
          3.6666666666666665,
          5.444444444444445,
          3,
          7.222222222222222,
          4.888888888888889,
          2.2222222222222223,
          9.88888888888889,
          3.2222222222222223,
          13.666666666666666,
          5.222222222222222,
          7.777777777777778,
          5.777777777777778,
          5.888888888888889,
          5.777777777777778,
          10.333333333333334,
          1.7777777777777777,
          1.4444444444444444,
          1.8888888888888888,
          1.8888888888888888,
          6.111111111111111,
          16.555555555555557,
          8,
          4.333333333333333,
          4.333333333333333,
          6.222222222222222,
          4.222222222222222,
          5.555555555555555,
          5.444444444444445,
          6.111111111111111,
          3.7777777777777777,
          9.22222222222222,
          9,
          4.222222222222222,
          4.444444444444445,
          3.3333333333333335,
          2.111111111111111,
          2,
          2,
          2.4444444444444446,
          24.555555555555557,
          4.888888888888889,
          5.444444444444445,
          3,
          8.555555555555555,
          3.6666666666666665,
          6.444444444444445,
          4.444444444444445,
          9.444444444444445,
          4.444444444444445,
          4.555555555555555,
          8.88888888888889,
          4.888888888888889,
          6.777777777777778,
          4.333333333333333,
          3.888888888888889,
          3.3333333333333335,
          1.4444444444444444,
          2.111111111111111,
          2.2222222222222223,
          3.7777777777777777,
          2.4444444444444446,
          3.3333333333333335,
          2.4444444444444446,
          7.333333333333333,
          4.555555555555555,
          8.333333333333334,
          6.666666666666667,
          11.555555555555555,
          5.222222222222222,
          4.111111111111111,
          5.888888888888889,
          3.4444444444444446,
          15.555555555555555,
          4.333333333333333,
          6,
          3.5555555555555554,
          2.7777777777777777,
          2.3333333333333335,
          2.2222222222222223,
          3.7777777777777777,
          4.222222222222222,
          5.111111111111111,
          2.111111111111111,
          5.555555555555555,
          4.333333333333333,
          3.2222222222222223,
          4.333333333333333,
          10.88888888888889,
          4.111111111111111,
          19.11111111111111,
          10.22222222222222,
          9.11111111111111,
          4.777777777777778,
          4.444444444444445,
          4.777777777777778,
          26.555555555555557,
          27.666666666666668,
          19.444444444444443,
          19.11111111111111,
          23.22222222222222,
          25.333333333333332,
          12.77777777777778,
          42.333333333333336,
          39.333333333333336,
          22,
          20.444444444444443,
          45.666666666666664,
          10.22222222222222,
          6.777777777777778,
          30.333333333333332,
          8.444444444444445,
          3.5555555555555554,
          6.111111111111111,
          7.333333333333333,
          45.44444444444444
         ],
         "yaxis": "y"
        }
       ],
       "layout": {
        "legend": {
         "tracegroupgap": 0
        },
        "template": {
         "data": {
          "bar": [
           {
            "error_x": {
             "color": "#f2f5fa"
            },
            "error_y": {
             "color": "#f2f5fa"
            },
            "marker": {
             "line": {
              "color": "rgb(17,17,17)",
              "width": 0.5
             },
             "pattern": {
              "fillmode": "overlay",
              "size": 10,
              "solidity": 0.2
             }
            },
            "type": "bar"
           }
          ],
          "barpolar": [
           {
            "marker": {
             "line": {
              "color": "rgb(17,17,17)",
              "width": 0.5
             },
             "pattern": {
              "fillmode": "overlay",
              "size": 10,
              "solidity": 0.2
             }
            },
            "type": "barpolar"
           }
          ],
          "carpet": [
           {
            "aaxis": {
             "endlinecolor": "#A2B1C6",
             "gridcolor": "#506784",
             "linecolor": "#506784",
             "minorgridcolor": "#506784",
             "startlinecolor": "#A2B1C6"
            },
            "baxis": {
             "endlinecolor": "#A2B1C6",
             "gridcolor": "#506784",
             "linecolor": "#506784",
             "minorgridcolor": "#506784",
             "startlinecolor": "#A2B1C6"
            },
            "type": "carpet"
           }
          ],
          "choropleth": [
           {
            "colorbar": {
             "outlinewidth": 0,
             "ticks": ""
            },
            "type": "choropleth"
           }
          ],
          "contour": [
           {
            "colorbar": {
             "outlinewidth": 0,
             "ticks": ""
            },
            "colorscale": [
             [
              0,
              "#0d0887"
             ],
             [
              0.1111111111111111,
              "#46039f"
             ],
             [
              0.2222222222222222,
              "#7201a8"
             ],
             [
              0.3333333333333333,
              "#9c179e"
             ],
             [
              0.4444444444444444,
              "#bd3786"
             ],
             [
              0.5555555555555556,
              "#d8576b"
             ],
             [
              0.6666666666666666,
              "#ed7953"
             ],
             [
              0.7777777777777778,
              "#fb9f3a"
             ],
             [
              0.8888888888888888,
              "#fdca26"
             ],
             [
              1,
              "#f0f921"
             ]
            ],
            "type": "contour"
           }
          ],
          "contourcarpet": [
           {
            "colorbar": {
             "outlinewidth": 0,
             "ticks": ""
            },
            "type": "contourcarpet"
           }
          ],
          "heatmap": [
           {
            "colorbar": {
             "outlinewidth": 0,
             "ticks": ""
            },
            "colorscale": [
             [
              0,
              "#0d0887"
             ],
             [
              0.1111111111111111,
              "#46039f"
             ],
             [
              0.2222222222222222,
              "#7201a8"
             ],
             [
              0.3333333333333333,
              "#9c179e"
             ],
             [
              0.4444444444444444,
              "#bd3786"
             ],
             [
              0.5555555555555556,
              "#d8576b"
             ],
             [
              0.6666666666666666,
              "#ed7953"
             ],
             [
              0.7777777777777778,
              "#fb9f3a"
             ],
             [
              0.8888888888888888,
              "#fdca26"
             ],
             [
              1,
              "#f0f921"
             ]
            ],
            "type": "heatmap"
           }
          ],
          "heatmapgl": [
           {
            "colorbar": {
             "outlinewidth": 0,
             "ticks": ""
            },
            "colorscale": [
             [
              0,
              "#0d0887"
             ],
             [
              0.1111111111111111,
              "#46039f"
             ],
             [
              0.2222222222222222,
              "#7201a8"
             ],
             [
              0.3333333333333333,
              "#9c179e"
             ],
             [
              0.4444444444444444,
              "#bd3786"
             ],
             [
              0.5555555555555556,
              "#d8576b"
             ],
             [
              0.6666666666666666,
              "#ed7953"
             ],
             [
              0.7777777777777778,
              "#fb9f3a"
             ],
             [
              0.8888888888888888,
              "#fdca26"
             ],
             [
              1,
              "#f0f921"
             ]
            ],
            "type": "heatmapgl"
           }
          ],
          "histogram": [
           {
            "marker": {
             "pattern": {
              "fillmode": "overlay",
              "size": 10,
              "solidity": 0.2
             }
            },
            "type": "histogram"
           }
          ],
          "histogram2d": [
           {
            "colorbar": {
             "outlinewidth": 0,
             "ticks": ""
            },
            "colorscale": [
             [
              0,
              "#0d0887"
             ],
             [
              0.1111111111111111,
              "#46039f"
             ],
             [
              0.2222222222222222,
              "#7201a8"
             ],
             [
              0.3333333333333333,
              "#9c179e"
             ],
             [
              0.4444444444444444,
              "#bd3786"
             ],
             [
              0.5555555555555556,
              "#d8576b"
             ],
             [
              0.6666666666666666,
              "#ed7953"
             ],
             [
              0.7777777777777778,
              "#fb9f3a"
             ],
             [
              0.8888888888888888,
              "#fdca26"
             ],
             [
              1,
              "#f0f921"
             ]
            ],
            "type": "histogram2d"
           }
          ],
          "histogram2dcontour": [
           {
            "colorbar": {
             "outlinewidth": 0,
             "ticks": ""
            },
            "colorscale": [
             [
              0,
              "#0d0887"
             ],
             [
              0.1111111111111111,
              "#46039f"
             ],
             [
              0.2222222222222222,
              "#7201a8"
             ],
             [
              0.3333333333333333,
              "#9c179e"
             ],
             [
              0.4444444444444444,
              "#bd3786"
             ],
             [
              0.5555555555555556,
              "#d8576b"
             ],
             [
              0.6666666666666666,
              "#ed7953"
             ],
             [
              0.7777777777777778,
              "#fb9f3a"
             ],
             [
              0.8888888888888888,
              "#fdca26"
             ],
             [
              1,
              "#f0f921"
             ]
            ],
            "type": "histogram2dcontour"
           }
          ],
          "mesh3d": [
           {
            "colorbar": {
             "outlinewidth": 0,
             "ticks": ""
            },
            "type": "mesh3d"
           }
          ],
          "parcoords": [
           {
            "line": {
             "colorbar": {
              "outlinewidth": 0,
              "ticks": ""
             }
            },
            "type": "parcoords"
           }
          ],
          "pie": [
           {
            "automargin": true,
            "type": "pie"
           }
          ],
          "scatter": [
           {
            "marker": {
             "line": {
              "color": "#283442"
             }
            },
            "type": "scatter"
           }
          ],
          "scatter3d": [
           {
            "line": {
             "colorbar": {
              "outlinewidth": 0,
              "ticks": ""
             }
            },
            "marker": {
             "colorbar": {
              "outlinewidth": 0,
              "ticks": ""
             }
            },
            "type": "scatter3d"
           }
          ],
          "scattercarpet": [
           {
            "marker": {
             "colorbar": {
              "outlinewidth": 0,
              "ticks": ""
             }
            },
            "type": "scattercarpet"
           }
          ],
          "scattergeo": [
           {
            "marker": {
             "colorbar": {
              "outlinewidth": 0,
              "ticks": ""
             }
            },
            "type": "scattergeo"
           }
          ],
          "scattergl": [
           {
            "marker": {
             "line": {
              "color": "#283442"
             }
            },
            "type": "scattergl"
           }
          ],
          "scattermapbox": [
           {
            "marker": {
             "colorbar": {
              "outlinewidth": 0,
              "ticks": ""
             }
            },
            "type": "scattermapbox"
           }
          ],
          "scatterpolar": [
           {
            "marker": {
             "colorbar": {
              "outlinewidth": 0,
              "ticks": ""
             }
            },
            "type": "scatterpolar"
           }
          ],
          "scatterpolargl": [
           {
            "marker": {
             "colorbar": {
              "outlinewidth": 0,
              "ticks": ""
             }
            },
            "type": "scatterpolargl"
           }
          ],
          "scatterternary": [
           {
            "marker": {
             "colorbar": {
              "outlinewidth": 0,
              "ticks": ""
             }
            },
            "type": "scatterternary"
           }
          ],
          "surface": [
           {
            "colorbar": {
             "outlinewidth": 0,
             "ticks": ""
            },
            "colorscale": [
             [
              0,
              "#0d0887"
             ],
             [
              0.1111111111111111,
              "#46039f"
             ],
             [
              0.2222222222222222,
              "#7201a8"
             ],
             [
              0.3333333333333333,
              "#9c179e"
             ],
             [
              0.4444444444444444,
              "#bd3786"
             ],
             [
              0.5555555555555556,
              "#d8576b"
             ],
             [
              0.6666666666666666,
              "#ed7953"
             ],
             [
              0.7777777777777778,
              "#fb9f3a"
             ],
             [
              0.8888888888888888,
              "#fdca26"
             ],
             [
              1,
              "#f0f921"
             ]
            ],
            "type": "surface"
           }
          ],
          "table": [
           {
            "cells": {
             "fill": {
              "color": "#506784"
             },
             "line": {
              "color": "rgb(17,17,17)"
             }
            },
            "header": {
             "fill": {
              "color": "#2a3f5f"
             },
             "line": {
              "color": "rgb(17,17,17)"
             }
            },
            "type": "table"
           }
          ]
         },
         "layout": {
          "annotationdefaults": {
           "arrowcolor": "#f2f5fa",
           "arrowhead": 0,
           "arrowwidth": 1
          },
          "autotypenumbers": "strict",
          "coloraxis": {
           "colorbar": {
            "outlinewidth": 0,
            "ticks": ""
           }
          },
          "colorscale": {
           "diverging": [
            [
             0,
             "#8e0152"
            ],
            [
             0.1,
             "#c51b7d"
            ],
            [
             0.2,
             "#de77ae"
            ],
            [
             0.3,
             "#f1b6da"
            ],
            [
             0.4,
             "#fde0ef"
            ],
            [
             0.5,
             "#f7f7f7"
            ],
            [
             0.6,
             "#e6f5d0"
            ],
            [
             0.7,
             "#b8e186"
            ],
            [
             0.8,
             "#7fbc41"
            ],
            [
             0.9,
             "#4d9221"
            ],
            [
             1,
             "#276419"
            ]
           ],
           "sequential": [
            [
             0,
             "#0d0887"
            ],
            [
             0.1111111111111111,
             "#46039f"
            ],
            [
             0.2222222222222222,
             "#7201a8"
            ],
            [
             0.3333333333333333,
             "#9c179e"
            ],
            [
             0.4444444444444444,
             "#bd3786"
            ],
            [
             0.5555555555555556,
             "#d8576b"
            ],
            [
             0.6666666666666666,
             "#ed7953"
            ],
            [
             0.7777777777777778,
             "#fb9f3a"
            ],
            [
             0.8888888888888888,
             "#fdca26"
            ],
            [
             1,
             "#f0f921"
            ]
           ],
           "sequentialminus": [
            [
             0,
             "#0d0887"
            ],
            [
             0.1111111111111111,
             "#46039f"
            ],
            [
             0.2222222222222222,
             "#7201a8"
            ],
            [
             0.3333333333333333,
             "#9c179e"
            ],
            [
             0.4444444444444444,
             "#bd3786"
            ],
            [
             0.5555555555555556,
             "#d8576b"
            ],
            [
             0.6666666666666666,
             "#ed7953"
            ],
            [
             0.7777777777777778,
             "#fb9f3a"
            ],
            [
             0.8888888888888888,
             "#fdca26"
            ],
            [
             1,
             "#f0f921"
            ]
           ]
          },
          "colorway": [
           "#636efa",
           "#EF553B",
           "#00cc96",
           "#ab63fa",
           "#FFA15A",
           "#19d3f3",
           "#FF6692",
           "#B6E880",
           "#FF97FF",
           "#FECB52"
          ],
          "font": {
           "color": "#f2f5fa"
          },
          "geo": {
           "bgcolor": "rgb(17,17,17)",
           "lakecolor": "rgb(17,17,17)",
           "landcolor": "rgb(17,17,17)",
           "showlakes": true,
           "showland": true,
           "subunitcolor": "#506784"
          },
          "hoverlabel": {
           "align": "left"
          },
          "hovermode": "closest",
          "mapbox": {
           "style": "dark"
          },
          "paper_bgcolor": "rgb(17,17,17)",
          "plot_bgcolor": "rgb(17,17,17)",
          "polar": {
           "angularaxis": {
            "gridcolor": "#506784",
            "linecolor": "#506784",
            "ticks": ""
           },
           "bgcolor": "rgb(17,17,17)",
           "radialaxis": {
            "gridcolor": "#506784",
            "linecolor": "#506784",
            "ticks": ""
           }
          },
          "scene": {
           "xaxis": {
            "backgroundcolor": "rgb(17,17,17)",
            "gridcolor": "#506784",
            "gridwidth": 2,
            "linecolor": "#506784",
            "showbackground": true,
            "ticks": "",
            "zerolinecolor": "#C8D4E3"
           },
           "yaxis": {
            "backgroundcolor": "rgb(17,17,17)",
            "gridcolor": "#506784",
            "gridwidth": 2,
            "linecolor": "#506784",
            "showbackground": true,
            "ticks": "",
            "zerolinecolor": "#C8D4E3"
           },
           "zaxis": {
            "backgroundcolor": "rgb(17,17,17)",
            "gridcolor": "#506784",
            "gridwidth": 2,
            "linecolor": "#506784",
            "showbackground": true,
            "ticks": "",
            "zerolinecolor": "#C8D4E3"
           }
          },
          "shapedefaults": {
           "line": {
            "color": "#f2f5fa"
           }
          },
          "sliderdefaults": {
           "bgcolor": "#C8D4E3",
           "bordercolor": "rgb(17,17,17)",
           "borderwidth": 1,
           "tickwidth": 0
          },
          "ternary": {
           "aaxis": {
            "gridcolor": "#506784",
            "linecolor": "#506784",
            "ticks": ""
           },
           "baxis": {
            "gridcolor": "#506784",
            "linecolor": "#506784",
            "ticks": ""
           },
           "bgcolor": "rgb(17,17,17)",
           "caxis": {
            "gridcolor": "#506784",
            "linecolor": "#506784",
            "ticks": ""
           }
          },
          "title": {
           "x": 0.05
          },
          "updatemenudefaults": {
           "bgcolor": "#506784",
           "borderwidth": 0
          },
          "xaxis": {
           "automargin": true,
           "gridcolor": "#283442",
           "linecolor": "#506784",
           "ticks": "",
           "title": {
            "standoff": 15
           },
           "zerolinecolor": "#283442",
           "zerolinewidth": 2
          },
          "yaxis": {
           "automargin": true,
           "gridcolor": "#283442",
           "linecolor": "#506784",
           "ticks": "",
           "title": {
            "standoff": 15
           },
           "zerolinecolor": "#283442",
           "zerolinewidth": 2
          }
         }
        },
        "title": {
         "text": "Number of birds failed vs time to first food"
        },
        "xaxis": {
         "anchor": "y",
         "domain": [
          0,
          1
         ],
         "title": {
          "text": "num birds failed"
         }
        },
        "yaxis": {
         "anchor": "x",
         "domain": [
          0,
          1
         ],
         "title": {
          "text": "time to first food"
         }
        }
       }
      }
     },
     "metadata": {},
     "output_type": "display_data"
    }
   ],
   "source": [
    "px.scatter(\n",
    "    impactDF,\n",
    "    x=\"num birds failed\",\n",
    "    y=\"time to first food\",\n",
    "    title=\"Number of birds failed vs time to first food\",\n",
    "    template=\"plotly_dark\",\n",
    ")\n"
   ]
  },
  {
   "cell_type": "code",
   "execution_count": 9,
   "metadata": {},
   "outputs": [
    {
     "data": {
      "application/vnd.plotly.v1+json": {
       "config": {
        "plotlyServerURL": "https://plot.ly"
       },
       "data": [
        {
         "hovertemplate": "c_trust_jittered=%{x}<br>time to first food=%{y}<br>reward_patch_dim=%{marker.color}<extra></extra>",
         "legendgroup": "",
         "marker": {
          "color": [
           1,
           1,
           1,
           1,
           2,
           2,
           2,
           2,
           3,
           3,
           3,
           3,
           4,
           4,
           4,
           4,
           5,
           5,
           5,
           5,
           1,
           1,
           1,
           1,
           2,
           2,
           2,
           2,
           3,
           3,
           3,
           3,
           4,
           4,
           4,
           4,
           5,
           5,
           5,
           5,
           1,
           1,
           1,
           1,
           2,
           2,
           2,
           2,
           3,
           3,
           3,
           3,
           4,
           4,
           4,
           4,
           5,
           5,
           5,
           5,
           1,
           1,
           1,
           1,
           2,
           2,
           2,
           2,
           3,
           3,
           3,
           3,
           4,
           4,
           4,
           4,
           5,
           5,
           5,
           5,
           1,
           1,
           1,
           1,
           2,
           2,
           2,
           2,
           3,
           3,
           3,
           3,
           4,
           4,
           4,
           4,
           5,
           5,
           5,
           5,
           1,
           1,
           1,
           1,
           2,
           2,
           2,
           2,
           3,
           3,
           3,
           3,
           4,
           4,
           4,
           4,
           5,
           5,
           5,
           5,
           1,
           1,
           1,
           1,
           2,
           2,
           2,
           2,
           3,
           3,
           3,
           3,
           4,
           4,
           4,
           4,
           5,
           5,
           5,
           5,
           1,
           1,
           1,
           1,
           2,
           2,
           2,
           2,
           3,
           3,
           3,
           3,
           4,
           4,
           4,
           4,
           5,
           5,
           5,
           5,
           1,
           1,
           1,
           1,
           2,
           2,
           2,
           2,
           3,
           3,
           3,
           3,
           4,
           4,
           4,
           4,
           5,
           5,
           5,
           5,
           1,
           1,
           1,
           1,
           2,
           2,
           2,
           2,
           3,
           3,
           3,
           3,
           4,
           4,
           4,
           4,
           5,
           5,
           5,
           5,
           1,
           1,
           1,
           1,
           2,
           2,
           2,
           2,
           3,
           3,
           3,
           3,
           4,
           4,
           4,
           4,
           5,
           5,
           5,
           5,
           1,
           1,
           1,
           1,
           2,
           2,
           2,
           2,
           3,
           3,
           3,
           3,
           4,
           4,
           4,
           4,
           5,
           5,
           5,
           5,
           1,
           1,
           1,
           1,
           2,
           2,
           2,
           2,
           3,
           3,
           3,
           3,
           4,
           4,
           4,
           4,
           5,
           5,
           5,
           5,
           1,
           1,
           1,
           1,
           2,
           2,
           2,
           2,
           3,
           3,
           3,
           3,
           4,
           4,
           4,
           4,
           5,
           5,
           5,
           5,
           1,
           1,
           1,
           1,
           2,
           2,
           2,
           2,
           3,
           3,
           3,
           3,
           4,
           4,
           4,
           4,
           5,
           5,
           5,
           5,
           1,
           1,
           1,
           1,
           2,
           2,
           2,
           2,
           3,
           3,
           3,
           3,
           4,
           4,
           4,
           4,
           5,
           5,
           5,
           5,
           1,
           1,
           1,
           1,
           2,
           2,
           2,
           2,
           3,
           3,
           3,
           3,
           4,
           4,
           4,
           4,
           5,
           5,
           5,
           5,
           1,
           1,
           1,
           1,
           2,
           2,
           2,
           2,
           3,
           3,
           3,
           3,
           4,
           4,
           4,
           4,
           5,
           5,
           5,
           5,
           1,
           1,
           1,
           1,
           2,
           2,
           2,
           2,
           3,
           3,
           3,
           3,
           4,
           4,
           4,
           4,
           5,
           5,
           5,
           5,
           1,
           1,
           1,
           1,
           2,
           2,
           2,
           2,
           3,
           3,
           3,
           3,
           4,
           4,
           4,
           4,
           5,
           5,
           5,
           5,
           1,
           1,
           1,
           1,
           2,
           2,
           2,
           2,
           3,
           3,
           3,
           3,
           4,
           4,
           4,
           4,
           5,
           5,
           5,
           5
          ],
          "coloraxis": "coloraxis",
          "opacity": 0.5,
          "size": 5,
          "symbol": "circle"
         },
         "mode": "markers",
         "name": "",
         "orientation": "v",
         "showlegend": false,
         "type": "scatter",
         "x": [
          0.008140499362325089,
          -0.0002703153383385004,
          0.004922462143608377,
          0.0011623009028297537,
          -0.0005027547673319167,
          0.003801968343465734,
          -0.009379774144940877,
          0.00028051174882892215,
          0.006142342005990309,
          0.0031419067834646762,
          -0.0017563464899107962,
          -0.00198348799994337,
          -0.00128283073419297,
          -0.005719056608990687,
          -0.009527334780409862,
          -0.006134646965023954,
          0.007958743091148262,
          0.001524547717959006,
          -0.005385270432281806,
          0.0003636006319762153,
          0.049203468854245855,
          0.04009348223184811,
          0.04832781106118711,
          0.05242392841138992,
          0.050949751316349524,
          0.05256661461017501,
          0.05629612223051751,
          0.059140396481972834,
          0.04704061940747318,
          0.0519145490723593,
          0.05155911564644693,
          0.04606642455802834,
          0.042577741781471716,
          0.050324443998895504,
          0.04704349899262615,
          0.057406066841236794,
          0.05177664831408328,
          0.057352626359519335,
          0.04355181127257559,
          0.04239245183335878,
          0.09103949534007671,
          0.09714680423230986,
          0.10323481668434492,
          0.09671639484855565,
          0.09724021333808155,
          0.1050765920045526,
          0.09971510673457668,
          0.10504664478249373,
          0.09421449982799775,
          0.09553596356040477,
          0.10857704388500676,
          0.09253291767328262,
          0.10119845725558681,
          0.10452953919808128,
          0.09923220019682599,
          0.09811216386529664,
          0.10485819498083944,
          0.09496911018766967,
          0.09901346788747031,
          0.10918390422001711,
          0.156231552558982,
          0.1545129516922362,
          0.15746958773823014,
          0.15526058859024994,
          0.1431160097792744,
          0.14949285731945702,
          0.14452401407404314,
          0.14442046577220113,
          0.1431421957614391,
          0.1541728628658077,
          0.14385214041720454,
          0.14085110224356737,
          0.14902182091835844,
          0.14590656170881333,
          0.15418804629759844,
          0.15225608109480923,
          0.15521023811456847,
          0.15572856772257943,
          0.14081542670820285,
          0.15072377815902452,
          0.2035734003745083,
          0.2020215509617539,
          0.20080478847692504,
          0.1938502793592795,
          0.20129521044882992,
          0.20668288818862868,
          0.20806999724393135,
          0.20878744867762716,
          0.1950270164252861,
          0.20297763347876205,
          0.19758160913740472,
          0.19919917694470096,
          0.19658054762098018,
          0.19887256203628736,
          0.19952658171866888,
          0.20069956760952254,
          0.19211554404061187,
          0.196235078646879,
          0.1977242061270303,
          0.1919937460254794,
          0.25287843410947136,
          0.24985830948980287,
          0.25155094661923577,
          0.24223801225320066,
          0.25177069420156273,
          0.24899032118919176,
          0.2458790311628471,
          0.25265388617311324,
          0.24481254244842526,
          0.24151695362446485,
          0.24879368355371034,
          0.259540743855099,
          0.24070664017739696,
          0.2560337790734444,
          0.24292275555446796,
          0.25675555610355544,
          0.24363800470596206,
          0.24613921471389388,
          0.2520657700775177,
          0.25563144368902196,
          0.29858992391069294,
          0.3065340920193766,
          0.2972126473653965,
          0.2907112626988026,
          0.29088164806257155,
          0.3085573647597695,
          0.30596283963603693,
          0.2955519691131929,
          0.2910164794984025,
          0.2990286688118902,
          0.3089462917345971,
          0.3049349956609116,
          0.2991449063302152,
          0.3047137635058296,
          0.3040135777929342,
          0.2920651115580771,
          0.295950055576822,
          0.2967803510310218,
          0.2936984573240987,
          0.3004076897313077,
          0.3546282292115712,
          0.3585066728354921,
          0.3403128230880445,
          0.349058961627142,
          0.3503074372575761,
          0.340854819151476,
          0.34442867380463055,
          0.34970816213021094,
          0.3468039756985135,
          0.3592826448421922,
          0.35348773556770136,
          0.34602669824152943,
          0.34254140348051676,
          0.35181041773488075,
          0.3421239940453442,
          0.3573809256942312,
          0.3465123624191925,
          0.351006211307085,
          0.3409512350945364,
          0.34503244691309154,
          0.39431733462053337,
          0.3981130497194415,
          0.40798204626048684,
          0.3925223091164493,
          0.39278092839020323,
          0.39215553216423443,
          0.3922438154129287,
          0.39103674133503075,
          0.40030593758154825,
          0.39619384121229356,
          0.4004731989527194,
          0.3907358117341123,
          0.4014217169818082,
          0.40852007816226477,
          0.40902567401366385,
          0.4099330985868152,
          0.40397567283300195,
          0.3909292028370575,
          0.4061735266847449,
          0.39489951824544717,
          0.4427842664871422,
          0.4517411445417336,
          0.4508241679249688,
          0.45886759567399876,
          0.4587563106006251,
          0.44709934634237647,
          0.4489411076747388,
          0.4417129181997333,
          0.4465189449498999,
          0.4567006427559251,
          0.4566120036103144,
          0.4530580696326283,
          0.4435302461190089,
          0.4521028100704193,
          0.44016302148244546,
          0.45214378625650814,
          0.45451554199608324,
          0.454252813560753,
          0.44131246640528143,
          0.45216052725479533,
          0.5072758024677803,
          0.49561269812266967,
          0.49025339403964535,
          0.5092635813712972,
          0.501499216607781,
          0.49083474866036686,
          0.5024187289186844,
          0.4969060679111597,
          0.493099265723888,
          0.49622755892269715,
          0.49414429299463086,
          0.5097973854294309,
          0.4917869248364009,
          0.49822075499865986,
          0.49560243238469437,
          0.5066816083151319,
          0.4992740210814983,
          0.5071929307838617,
          0.5049301410037937,
          0.4906250712738818,
          0.5554371425778434,
          0.5590945155126549,
          0.5452316792854279,
          0.5596130994047483,
          0.5425708493241118,
          0.5574396231102888,
          0.5538054397056568,
          0.5409651134788809,
          0.5509211211968745,
          0.5544692113403626,
          0.5453147251045943,
          0.5413531147548948,
          0.5587928568187974,
          0.5516585550991377,
          0.5513021118582276,
          0.5573177797201786,
          0.544564837658651,
          0.5401950771896847,
          0.5469892030467998,
          0.5489909528474607,
          0.6096695812774946,
          0.6008516786401363,
          0.594515043726063,
          0.6031684186895816,
          0.5973074034629035,
          0.6095609098188153,
          0.5960887754529287,
          0.5939640200211931,
          0.6058659532108387,
          0.5938744003412488,
          0.5950661957310075,
          0.6044353595096688,
          0.5901214256518248,
          0.5981748090801922,
          0.605101476195218,
          0.5961511662293607,
          0.5949770382643944,
          0.6035341940610096,
          0.5952656753010912,
          0.5975454352577584,
          0.6458700535515778,
          0.6438048377404793,
          0.6475425101538692,
          0.6527990796345926,
          0.6449069678412793,
          0.6486295976882472,
          0.6556984665032028,
          0.6486137429388126,
          0.6431855075364009,
          0.6592268735924921,
          0.6457595092359318,
          0.6439892907746086,
          0.6526576107608602,
          0.658994994502269,
          0.6412964946748371,
          0.6564752799353964,
          0.6555988710827628,
          0.6467075277562218,
          0.6502598985112581,
          0.642396346994345,
          0.7061915506731583,
          0.6918162658024946,
          0.7046022931964762,
          0.7027512578574164,
          0.6988175877242905,
          0.6988651811864074,
          0.6941443316380709,
          0.7022800591136401,
          0.6983690925154858,
          0.7029634298329569,
          0.707588191743936,
          0.7033983371420761,
          0.7024144257539989,
          0.6987794356711664,
          0.709220409651583,
          0.7049681825033385,
          0.7088467714766854,
          0.6990462288904288,
          0.6975684209179863,
          0.7031090208538593,
          0.754718127123622,
          0.7480348662124804,
          0.751753697899357,
          0.7503029204705318,
          0.7431046186103598,
          0.7494417204904634,
          0.754123618334989,
          0.7523909952327702,
          0.7480242018467295,
          0.7548066309653038,
          0.7521225899169834,
          0.7471602412292906,
          0.7461743227655155,
          0.7547618656197069,
          0.7575637993305655,
          0.7504529291617773,
          0.7407330300968165,
          0.7483274493069408,
          0.7416051208407288,
          0.7500069396485496,
          0.809817100031624,
          0.8045437138981453,
          0.8050881501262644,
          0.7913426123306866,
          0.7995221410123808,
          0.7985008847705021,
          0.8081731831392347,
          0.7913592463769543,
          0.8028785236440581,
          0.8077793060211714,
          0.7997261769105374,
          0.8031196781242628,
          0.7955856534467176,
          0.7978366195218516,
          0.8034645057705762,
          0.7919694508591102,
          0.808045228262718,
          0.7927802721098937,
          0.7922768815229121,
          0.8082611377481218,
          0.8427911456214122,
          0.8570315185921346,
          0.8429366226766988,
          0.8533581739142482,
          0.8438145251727917,
          0.8479733513472911,
          0.8481605039881329,
          0.8544248822667653,
          0.8517237609945255,
          0.8434267014315917,
          0.8481710488379565,
          0.8442285687576265,
          0.8596271982582845,
          0.8466035142865228,
          0.8510931747059217,
          0.8422609776413712,
          0.8411980115537971,
          0.8435124846258228,
          0.8403009852482035,
          0.8470561810253869,
          0.8932255203501612,
          0.9039063666173339,
          0.8973525311738214,
          0.9038774092498257,
          0.8972955088268191,
          0.8981985328845636,
          0.903782448789058,
          0.9009150910924386,
          0.8986174998747101,
          0.90316792927233,
          0.9080082672860958,
          0.9070987148420169,
          0.9008924731800921,
          0.8924067083303915,
          0.9008972647032015,
          0.8946063431111597,
          0.8982378912924638,
          0.895936194458898,
          0.8925328534469178,
          0.9072340469934638,
          0.9465767106663366,
          0.959006311623047,
          0.9500570384197068,
          0.9564575182204957,
          0.946353469651378,
          0.9551889668023431,
          0.9482255976950308,
          0.9424380791736938,
          0.9437788166383614,
          0.9441646660245174,
          0.9584797663514327,
          0.9435875551683531,
          0.9423807570797518,
          0.941460720149479,
          0.9442611149903067,
          0.9573794131186997,
          0.9403304457934251,
          0.9406563423202444,
          0.9546189206689654,
          0.9430498890011922,
          0.993317960978631,
          0.9961394500592283,
          1.0056298635190952,
          1.000193959891743,
          1.0080997098109872,
          0.9923252738219691,
          1.0061640245474384,
          1.0027801069162035,
          1.00347993786175,
          1.0005668448637197,
          1.007372600192528,
          0.9902706632361449,
          1.0066755673950083,
          0.9988521244836729,
          0.9994793460716161,
          0.9912937259060791,
          0.9929410201682732,
          1.0091071334558683,
          0.990021491861549,
          1.0014214278144538
         ],
         "xaxis": "x",
         "y": [
          14.666666666666666,
          14,
          4.888888888888889,
          2.5555555555555554,
          7.888888888888889,
          19.11111111111111,
          22.22222222222222,
          28.22222222222222,
          7.555555555555555,
          16.666666666666668,
          34,
          13.22222222222222,
          25.666666666666668,
          32.888888888888886,
          24.555555555555557,
          24.88888888888889,
          31.11111111111111,
          34.77777777777778,
          27.555555555555557,
          31.333333333333332,
          1.8888888888888888,
          2.7777777777777777,
          4.333333333333333,
          3.7777777777777777,
          7.222222222222222,
          2.3333333333333335,
          8.222222222222221,
          4.777777777777778,
          16.11111111111111,
          19.11111111111111,
          4.555555555555555,
          10.666666666666666,
          9.88888888888889,
          23,
          7.555555555555555,
          8.222222222222221,
          4,
          6.333333333333333,
          5.333333333333333,
          16.88888888888889,
          2.4444444444444446,
          1.8888888888888888,
          1.8888888888888888,
          2,
          3.4444444444444446,
          6.444444444444445,
          3.6666666666666665,
          11.555555555555555,
          5.888888888888889,
          6.111111111111111,
          3.3333333333333335,
          11.333333333333334,
          9.77777777777778,
          26,
          4.555555555555555,
          13.22222222222222,
          4,
          8.11111111111111,
          3.5555555555555554,
          7.222222222222222,
          7.666666666666667,
          6.888888888888889,
          3.4444444444444446,
          2.5555555555555554,
          13.555555555555555,
          6.222222222222222,
          2.7777777777777777,
          4.777777777777778,
          8.11111111111111,
          5.777777777777778,
          5.111111111111111,
          4,
          6.777777777777778,
          8.444444444444445,
          3.4444444444444446,
          24,
          6.111111111111111,
          6.111111111111111,
          16.666666666666668,
          8.222222222222221,
          4.888888888888889,
          2,
          2.4444444444444446,
          7.555555555555555,
          3.7777777777777777,
          3.888888888888889,
          4.777777777777778,
          4.444444444444445,
          4.555555555555555,
          4.666666666666667,
          6.888888888888889,
          3.3333333333333335,
          3.3333333333333335,
          10.555555555555555,
          5.444444444444445,
          3.3333333333333335,
          3.2222222222222223,
          3.111111111111111,
          6.222222222222222,
          4.888888888888889,
          2.111111111111111,
          2.888888888888889,
          2.2222222222222223,
          3,
          5.555555555555555,
          2.888888888888889,
          3.5555555555555554,
          3.111111111111111,
          3,
          3.5555555555555554,
          4,
          8,
          6.555555555555555,
          7.222222222222222,
          4.555555555555555,
          5.222222222222222,
          7.222222222222222,
          4.777777777777778,
          13.444444444444445,
          4.111111111111111,
          2.2222222222222223,
          2.5555555555555554,
          2.3333333333333335,
          1.7777777777777777,
          4.666666666666667,
          2.3333333333333335,
          6.555555555555555,
          3.888888888888889,
          4,
          3.5555555555555554,
          5.666666666666667,
          4.111111111111111,
          5.444444444444445,
          6.333333333333333,
          7.222222222222222,
          5.666666666666667,
          6,
          4.333333333333333,
          6.333333333333333,
          3.7777777777777777,
          1.8888888888888888,
          2.2222222222222223,
          1.6666666666666667,
          1.7777777777777777,
          4.111111111111111,
          2.5555555555555554,
          3.6666666666666665,
          6.111111111111111,
          4.666666666666667,
          4.111111111111111,
          6.666666666666667,
          2.888888888888889,
          2.888888888888889,
          6.111111111111111,
          8.666666666666666,
          7.555555555555555,
          11.11111111111111,
          12.333333333333334,
          22.22222222222222,
          3,
          3,
          2,
          1.6666666666666667,
          1.7777777777777777,
          7,
          3.3333333333333335,
          3.7777777777777777,
          4.111111111111111,
          4.333333333333333,
          5,
          3.5555555555555554,
          3.7777777777777777,
          10.444444444444445,
          5.444444444444445,
          5.444444444444445,
          48.111111111111114,
          12.88888888888889,
          7.222222222222222,
          11.666666666666666,
          4.666666666666667,
          3.3333333333333335,
          1.5555555555555556,
          2,
          2,
          4.444444444444445,
          4.333333333333333,
          3.7777777777777777,
          3.2222222222222223,
          4.888888888888889,
          8.333333333333334,
          4.666666666666667,
          3.111111111111111,
          8,
          5.888888888888889,
          8,
          4.777777777777778,
          7.333333333333333,
          15.444444444444445,
          9.88888888888889,
          3.3333333333333335,
          2.6666666666666665,
          6.888888888888889,
          1.3333333333333333,
          1.6666666666666667,
          2.888888888888889,
          3.111111111111111,
          3.111111111111111,
          3.111111111111111,
          4.666666666666667,
          4.777777777777778,
          6.444444444444445,
          5,
          6.555555555555555,
          7,
          4.222222222222222,
          14.77777777777778,
          3.888888888888889,
          4.666666666666667,
          41.888888888888886,
          7.222222222222222,
          1.8888888888888888,
          1.6666666666666667,
          3.3333333333333335,
          6.777777777777778,
          5.888888888888889,
          3.6666666666666665,
          3.888888888888889,
          3.6666666666666665,
          3.7777777777777777,
          3.5555555555555554,
          7.888888888888889,
          4,
          10,
          6.444444444444445,
          13.333333333333334,
          6.333333333333333,
          4,
          7.111111111111111,
          7.333333333333333,
          4.777777777777778,
          1.3333333333333333,
          1.4444444444444444,
          3.888888888888889,
          2.111111111111111,
          7.444444444444445,
          3.6666666666666665,
          2.6666666666666665,
          5.222222222222222,
          5.666666666666667,
          2.5555555555555554,
          4,
          2.6666666666666665,
          11.555555555555555,
          14,
          8.222222222222221,
          30,
          50,
          5.888888888888889,
          3.5555555555555554,
          11.555555555555555,
          3.4444444444444446,
          1.8888888888888888,
          5.555555555555555,
          2.6666666666666665,
          9.88888888888889,
          2.6666666666666665,
          3.2222222222222223,
          3.5555555555555554,
          3,
          4.111111111111111,
          5,
          5.666666666666667,
          6.888888888888889,
          14.555555555555555,
          5.555555555555555,
          8.333333333333334,
          6,
          3.6666666666666665,
          12.444444444444445,
          13.22222222222222,
          1.4444444444444444,
          1.7777777777777777,
          7.111111111111111,
          1.7777777777777777,
          5.555555555555555,
          5.333333333333333,
          3,
          2.3333333333333335,
          6.444444444444445,
          2.6666666666666665,
          5,
          5.222222222222222,
          5.888888888888889,
          4.666666666666667,
          8.555555555555555,
          5.777777777777778,
          3.888888888888889,
          13.22222222222222,
          11.555555555555555,
          2.6666666666666665,
          3.2222222222222223,
          1.8888888888888888,
          1.7777777777777777,
          2.2222222222222223,
          3.111111111111111,
          3.6666666666666665,
          5.444444444444445,
          3,
          7.222222222222222,
          4.888888888888889,
          2.2222222222222223,
          9.88888888888889,
          3.2222222222222223,
          13.666666666666666,
          5.222222222222222,
          7.777777777777778,
          5.777777777777778,
          5.888888888888889,
          5.777777777777778,
          10.333333333333334,
          1.7777777777777777,
          1.4444444444444444,
          1.8888888888888888,
          1.8888888888888888,
          6.111111111111111,
          16.555555555555557,
          8,
          4.333333333333333,
          4.333333333333333,
          6.222222222222222,
          4.222222222222222,
          5.555555555555555,
          5.444444444444445,
          6.111111111111111,
          3.7777777777777777,
          9.22222222222222,
          9,
          4.222222222222222,
          4.444444444444445,
          3.3333333333333335,
          2.111111111111111,
          2,
          2,
          2.4444444444444446,
          24.555555555555557,
          4.888888888888889,
          5.444444444444445,
          3,
          8.555555555555555,
          3.6666666666666665,
          6.444444444444445,
          4.444444444444445,
          9.444444444444445,
          4.444444444444445,
          4.555555555555555,
          8.88888888888889,
          4.888888888888889,
          6.777777777777778,
          4.333333333333333,
          3.888888888888889,
          3.3333333333333335,
          1.4444444444444444,
          2.111111111111111,
          2.2222222222222223,
          3.7777777777777777,
          2.4444444444444446,
          3.3333333333333335,
          2.4444444444444446,
          7.333333333333333,
          4.555555555555555,
          8.333333333333334,
          6.666666666666667,
          11.555555555555555,
          5.222222222222222,
          4.111111111111111,
          5.888888888888889,
          3.4444444444444446,
          15.555555555555555,
          4.333333333333333,
          6,
          3.5555555555555554,
          2.7777777777777777,
          2.3333333333333335,
          2.2222222222222223,
          3.7777777777777777,
          4.222222222222222,
          5.111111111111111,
          2.111111111111111,
          5.555555555555555,
          4.333333333333333,
          3.2222222222222223,
          4.333333333333333,
          10.88888888888889,
          4.111111111111111,
          19.11111111111111,
          10.22222222222222,
          9.11111111111111,
          4.777777777777778,
          4.444444444444445,
          4.777777777777778,
          26.555555555555557,
          27.666666666666668,
          19.444444444444443,
          19.11111111111111,
          23.22222222222222,
          25.333333333333332,
          12.77777777777778,
          42.333333333333336,
          39.333333333333336,
          22,
          20.444444444444443,
          45.666666666666664,
          10.22222222222222,
          6.777777777777778,
          30.333333333333332,
          8.444444444444445,
          3.5555555555555554,
          6.111111111111111,
          7.333333333333333,
          45.44444444444444
         ],
         "yaxis": "y"
        },
        {
         "hovertemplate": "<b>LOWESS trendline</b><br><br>c_trust_jittered=%{x}<br>time to first food=%{y} <b>(trend)</b><extra></extra>",
         "legendgroup": "",
         "marker": {
          "opacity": 0.5,
          "size": 5,
          "symbol": "circle"
         },
         "mode": "lines",
         "name": "",
         "showlegend": false,
         "type": "scatter",
         "x": [
          -0.009527334780409862,
          -0.009379774144940877,
          -0.006134646965023954,
          -0.005719056608990687,
          -0.005385270432281806,
          -0.00198348799994337,
          -0.0017563464899107962,
          -0.00128283073419297,
          -0.0005027547673319167,
          -0.0002703153383385004,
          0.00028051174882892215,
          0.0003636006319762153,
          0.0011623009028297537,
          0.001524547717959006,
          0.0031419067834646762,
          0.003801968343465734,
          0.004922462143608377,
          0.006142342005990309,
          0.007958743091148262,
          0.008140499362325089,
          0.04009348223184811,
          0.04239245183335878,
          0.042577741781471716,
          0.04355181127257559,
          0.04606642455802834,
          0.04704061940747318,
          0.04704349899262615,
          0.04832781106118711,
          0.049203468854245855,
          0.050324443998895504,
          0.050949751316349524,
          0.05155911564644693,
          0.05177664831408328,
          0.0519145490723593,
          0.05242392841138992,
          0.05256661461017501,
          0.05629612223051751,
          0.057352626359519335,
          0.057406066841236794,
          0.059140396481972834,
          0.09103949534007671,
          0.09253291767328262,
          0.09421449982799775,
          0.09496911018766967,
          0.09553596356040477,
          0.09671639484855565,
          0.09714680423230986,
          0.09724021333808155,
          0.09811216386529664,
          0.09901346788747031,
          0.09923220019682599,
          0.09971510673457668,
          0.10119845725558681,
          0.10323481668434492,
          0.10452953919808128,
          0.10485819498083944,
          0.10504664478249373,
          0.1050765920045526,
          0.10857704388500676,
          0.10918390422001711,
          0.14081542670820285,
          0.14085110224356737,
          0.1431160097792744,
          0.1431421957614391,
          0.14385214041720454,
          0.14442046577220113,
          0.14452401407404314,
          0.14590656170881333,
          0.14902182091835844,
          0.14949285731945702,
          0.15072377815902452,
          0.15225608109480923,
          0.1541728628658077,
          0.15418804629759844,
          0.1545129516922362,
          0.15521023811456847,
          0.15526058859024994,
          0.15572856772257943,
          0.156231552558982,
          0.15746958773823014,
          0.1919937460254794,
          0.19211554404061187,
          0.1938502793592795,
          0.1950270164252861,
          0.196235078646879,
          0.19658054762098018,
          0.19758160913740472,
          0.1977242061270303,
          0.19887256203628736,
          0.19919917694470096,
          0.19952658171866888,
          0.20069956760952254,
          0.20080478847692504,
          0.20129521044882992,
          0.2020215509617539,
          0.20297763347876205,
          0.2035734003745083,
          0.20668288818862868,
          0.20806999724393135,
          0.20878744867762716,
          0.24070664017739696,
          0.24151695362446485,
          0.24223801225320066,
          0.24292275555446796,
          0.24363800470596206,
          0.24481254244842526,
          0.2458790311628471,
          0.24613921471389388,
          0.24879368355371034,
          0.24899032118919176,
          0.24985830948980287,
          0.25155094661923577,
          0.25177069420156273,
          0.2520657700775177,
          0.25265388617311324,
          0.25287843410947136,
          0.25563144368902196,
          0.2560337790734444,
          0.25675555610355544,
          0.259540743855099,
          0.2907112626988026,
          0.29088164806257155,
          0.2910164794984025,
          0.2920651115580771,
          0.2936984573240987,
          0.2955519691131929,
          0.295950055576822,
          0.2967803510310218,
          0.2972126473653965,
          0.29858992391069294,
          0.2990286688118902,
          0.2991449063302152,
          0.3004076897313077,
          0.3040135777929342,
          0.3047137635058296,
          0.3049349956609116,
          0.30596283963603693,
          0.3065340920193766,
          0.3085573647597695,
          0.3089462917345971,
          0.3403128230880445,
          0.340854819151476,
          0.3409512350945364,
          0.3421239940453442,
          0.34254140348051676,
          0.34442867380463055,
          0.34503244691309154,
          0.34602669824152943,
          0.3465123624191925,
          0.3468039756985135,
          0.349058961627142,
          0.34970816213021094,
          0.3503074372575761,
          0.351006211307085,
          0.35181041773488075,
          0.35348773556770136,
          0.3546282292115712,
          0.3573809256942312,
          0.3585066728354921,
          0.3592826448421922,
          0.3907358117341123,
          0.3909292028370575,
          0.39103674133503075,
          0.39215553216423443,
          0.3922438154129287,
          0.3925223091164493,
          0.39278092839020323,
          0.39431733462053337,
          0.39489951824544717,
          0.39619384121229356,
          0.3981130497194415,
          0.40030593758154825,
          0.4004731989527194,
          0.4014217169818082,
          0.40397567283300195,
          0.4061735266847449,
          0.40798204626048684,
          0.40852007816226477,
          0.40902567401366385,
          0.4099330985868152,
          0.44016302148244546,
          0.44131246640528143,
          0.4417129181997333,
          0.4427842664871422,
          0.4435302461190089,
          0.4465189449498999,
          0.44709934634237647,
          0.4489411076747388,
          0.4508241679249688,
          0.4517411445417336,
          0.4521028100704193,
          0.45214378625650814,
          0.45216052725479533,
          0.4530580696326283,
          0.454252813560753,
          0.45451554199608324,
          0.4566120036103144,
          0.4567006427559251,
          0.4587563106006251,
          0.45886759567399876,
          0.49025339403964535,
          0.4906250712738818,
          0.49083474866036686,
          0.4917869248364009,
          0.493099265723888,
          0.49414429299463086,
          0.49560243238469437,
          0.49561269812266967,
          0.49622755892269715,
          0.4969060679111597,
          0.49822075499865986,
          0.4992740210814983,
          0.501499216607781,
          0.5024187289186844,
          0.5049301410037937,
          0.5066816083151319,
          0.5071929307838617,
          0.5072758024677803,
          0.5092635813712972,
          0.5097973854294309,
          0.5401950771896847,
          0.5409651134788809,
          0.5413531147548948,
          0.5425708493241118,
          0.544564837658651,
          0.5452316792854279,
          0.5453147251045943,
          0.5469892030467998,
          0.5489909528474607,
          0.5509211211968745,
          0.5513021118582276,
          0.5516585550991377,
          0.5538054397056568,
          0.5544692113403626,
          0.5554371425778434,
          0.5573177797201786,
          0.5574396231102888,
          0.5587928568187974,
          0.5590945155126549,
          0.5596130994047483,
          0.5901214256518248,
          0.5938744003412488,
          0.5939640200211931,
          0.594515043726063,
          0.5949770382643944,
          0.5950661957310075,
          0.5952656753010912,
          0.5960887754529287,
          0.5961511662293607,
          0.5973074034629035,
          0.5975454352577584,
          0.5981748090801922,
          0.6008516786401363,
          0.6031684186895816,
          0.6035341940610096,
          0.6044353595096688,
          0.605101476195218,
          0.6058659532108387,
          0.6095609098188153,
          0.6096695812774946,
          0.6412964946748371,
          0.642396346994345,
          0.6431855075364009,
          0.6438048377404793,
          0.6439892907746086,
          0.6449069678412793,
          0.6457595092359318,
          0.6458700535515778,
          0.6467075277562218,
          0.6475425101538692,
          0.6486137429388126,
          0.6486295976882472,
          0.6502598985112581,
          0.6526576107608602,
          0.6527990796345926,
          0.6555988710827628,
          0.6556984665032028,
          0.6564752799353964,
          0.658994994502269,
          0.6592268735924921,
          0.6918162658024946,
          0.6941443316380709,
          0.6975684209179863,
          0.6983690925154858,
          0.6987794356711664,
          0.6988175877242905,
          0.6988651811864074,
          0.6990462288904288,
          0.7022800591136401,
          0.7024144257539989,
          0.7027512578574164,
          0.7029634298329569,
          0.7031090208538593,
          0.7033983371420761,
          0.7046022931964762,
          0.7049681825033385,
          0.7061915506731583,
          0.707588191743936,
          0.7088467714766854,
          0.709220409651583,
          0.7407330300968165,
          0.7416051208407288,
          0.7431046186103598,
          0.7461743227655155,
          0.7471602412292906,
          0.7480242018467295,
          0.7480348662124804,
          0.7483274493069408,
          0.7494417204904634,
          0.7500069396485496,
          0.7503029204705318,
          0.7504529291617773,
          0.751753697899357,
          0.7521225899169834,
          0.7523909952327702,
          0.754123618334989,
          0.754718127123622,
          0.7547618656197069,
          0.7548066309653038,
          0.7575637993305655,
          0.7913426123306866,
          0.7913592463769543,
          0.7919694508591102,
          0.7922768815229121,
          0.7927802721098937,
          0.7955856534467176,
          0.7978366195218516,
          0.7985008847705021,
          0.7995221410123808,
          0.7997261769105374,
          0.8028785236440581,
          0.8031196781242628,
          0.8034645057705762,
          0.8045437138981453,
          0.8050881501262644,
          0.8077793060211714,
          0.808045228262718,
          0.8081731831392347,
          0.8082611377481218,
          0.809817100031624,
          0.8403009852482035,
          0.8411980115537971,
          0.8422609776413712,
          0.8427911456214122,
          0.8429366226766988,
          0.8434267014315917,
          0.8435124846258228,
          0.8438145251727917,
          0.8442285687576265,
          0.8466035142865228,
          0.8470561810253869,
          0.8479733513472911,
          0.8481605039881329,
          0.8481710488379565,
          0.8510931747059217,
          0.8517237609945255,
          0.8533581739142482,
          0.8544248822667653,
          0.8570315185921346,
          0.8596271982582845,
          0.8924067083303915,
          0.8925328534469178,
          0.8932255203501612,
          0.8946063431111597,
          0.895936194458898,
          0.8972955088268191,
          0.8973525311738214,
          0.8981985328845636,
          0.8982378912924638,
          0.8986174998747101,
          0.9008924731800921,
          0.9008972647032015,
          0.9009150910924386,
          0.90316792927233,
          0.903782448789058,
          0.9038774092498257,
          0.9039063666173339,
          0.9070987148420169,
          0.9072340469934638,
          0.9080082672860958,
          0.9403304457934251,
          0.9406563423202444,
          0.941460720149479,
          0.9423807570797518,
          0.9424380791736938,
          0.9430498890011922,
          0.9435875551683531,
          0.9437788166383614,
          0.9441646660245174,
          0.9442611149903067,
          0.946353469651378,
          0.9465767106663366,
          0.9482255976950308,
          0.9500570384197068,
          0.9546189206689654,
          0.9551889668023431,
          0.9564575182204957,
          0.9573794131186997,
          0.9584797663514327,
          0.959006311623047,
          0.990021491861549,
          0.9902706632361449,
          0.9912937259060791,
          0.9923252738219691,
          0.9929410201682732,
          0.993317960978631,
          0.9961394500592283,
          0.9988521244836729,
          0.9994793460716161,
          1.000193959891743,
          1.0005668448637197,
          1.0014214278144538,
          1.0027801069162035,
          1.00347993786175,
          1.0056298635190952,
          1.0061640245474384,
          1.0066755673950083,
          1.007372600192528,
          1.0080997098109872,
          1.0091071334558683
         ],
         "xaxis": "x",
         "y": [
          6.371447227890026,
          6.37060401751841,
          6.352097915856189,
          6.349733142435762,
          6.347834712014099,
          6.328531041116976,
          6.327244991999092,
          6.32456516655037,
          6.320153829020189,
          6.318840210841777,
          6.31572876397587,
          6.315259606991878,
          6.310752270133824,
          6.308709470160253,
          6.2996000679271225,
          6.2958877272856775,
          6.289592850330378,
          6.282749707002968,
          6.272579750534551,
          6.271563387786807,
          6.096453190705345,
          6.0841228661699756,
          6.083130623647591,
          6.0779181875496775,
          6.064491311354184,
          6.059300875930787,
          6.059285543055926,
          6.052452453471443,
          6.047799805111506,
          6.041851035280189,
          6.038536229328833,
          6.035308386429457,
          6.034156685711625,
          6.0334267455948085,
          6.030731553272181,
          6.02997688335702,
          6.010298177436567,
          6.004739897716015,
          6.004458938377466,
          5.995350826716815,
          5.831203994780325,
          5.82367201091614,
          5.81520699962937,
          5.811413795046343,
          5.808566611952579,
          5.80264365682575,
          5.800486069940394,
          5.80001796603424,
          5.795650808219523,
          5.791141329283078,
          5.790047668564014,
          5.787634131092263,
          5.780228985119087,
          5.770084123439228,
          5.763646610339412,
          5.762014054751929,
          5.761078239339461,
          5.76092954473677,
          5.743585096285757,
          5.740585415102963,
          5.587164230062901,
          5.586994405167771,
          5.576227500146558,
          5.576103185961257,
          5.572734292746526,
          5.570039460641064,
          5.569548659729565,
          5.563001368920619,
          5.548287580876812,
          5.546067501291704,
          5.540271736257074,
          5.533068567254069,
          5.524076064133054,
          5.524004911341558,
          5.522482634515107,
          5.51921756920808,
          5.518981903069157,
          5.516792172893588,
          5.514439959834158,
          5.508656052644088,
          5.350493130536842,
          5.349945226428173,
          5.34214879502965,
          5.336867819755358,
          5.331452644022112,
          5.329905252022729,
          5.3254243536858725,
          5.324786426483108,
          5.319652343277919,
          5.318193161440751,
          5.316730916929195,
          5.311495983925621,
          5.3110266833800255,
          5.308839959439257,
          5.305603211848295,
          5.301346141799478,
          5.29869540980842,
          5.284885268228096,
          5.278738181288353,
          5.275562007195894,
          5.136625063331474,
          5.13316232929577,
          5.130083916206705,
          5.127163094940623,
          5.124114822406842,
          5.119115121109287,
          5.1145818665796625,
          5.113476870516859,
          5.10222502685433,
          5.101393104385127,
          5.097723542363924,
          5.09058035887946,
          5.089654244120688,
          5.088411121316803,
          5.085935032453701,
          5.084990198840741,
          5.073432043891766,
          5.071746969828356,
          5.06872667953685,
          5.057105170216616,
          4.931807884685785,
          4.931155150315437,
          4.930638948022711,
          4.926634276432312,
          4.920433043264937,
          4.913452292515255,
          4.911961148425351,
          4.908860610134587,
          4.907251511760865,
          4.9021494468995614,
          4.900532138994446,
          4.900104324065277,
          4.895474830685502,
          4.882448981698993,
          4.879954908932256,
          4.879169372536876,
          4.875535795600352,
          4.873527937676102,
          4.866485433722565,
          4.865144340612863,
          4.8083972700038045,
          4.8082504357153875,
          4.808224707422129,
          4.805817260404054,
          4.8047484065463735,
          4.803157309192938,
          4.803033273008651,
          4.802603853398661,
          4.802317336702595,
          4.801598937233677,
          4.796681807723485,
          4.796056365141378,
          4.795981601779026,
          4.795896005853995,
          4.794533308821264,
          4.791361809566612,
          4.790092590945305,
          4.7863518462806764,
          4.786122815809871,
          4.78443205887454,
          4.759357038471285,
          4.759440611151337,
          4.759487123029095,
          4.759699516047126,
          4.759584466073926,
          4.759223237484072,
          4.759240781981226,
          4.758236803396465,
          4.758050829924901,
          4.75853473951849,
          4.757800826160514,
          4.756656421755307,
          4.75674220645082,
          4.756458911946543,
          4.7549596731567325,
          4.754639301203149,
          4.753018610317796,
          4.752549641186332,
          4.752119051077547,
          4.751371423792206,
          4.757448475036326,
          4.758296015251729,
          4.758589911590428,
          4.758784604977345,
          4.759037620243046,
          4.760556677169736,
          4.760984105539576,
          4.761819027987387,
          4.763005104700075,
          4.763440148122019,
          4.763552096734536,
          4.763582058538893,
          4.7635935581713005,
          4.763810546189224,
          4.764336427805272,
          4.764530044555746,
          4.765925589477491,
          4.765953376983375,
          4.766717452520978,
          4.76676092744393,
          4.788353192157589,
          4.788595796918908,
          4.7887907810042165,
          4.789659322385037,
          4.790576538698802,
          4.791378584894442,
          4.792767266567494,
          4.792777236402339,
          4.7933762087946175,
          4.793898282079989,
          4.794886281333258,
          4.795737662529835,
          4.797596758898602,
          4.798187042434459,
          4.799764417643712,
          4.800959791461976,
          4.801221978698286,
          4.801275948593815,
          4.80321747141664,
          4.803741039928345,
          4.823978689115155,
          4.824203361736887,
          4.8243153900553875,
          4.824854815887538,
          4.826394826290521,
          4.826678584265576,
          4.826700918255665,
          4.827564660672196,
          4.828684994178769,
          4.829605020532638,
          4.829929746637963,
          4.830119174912148,
          4.831156032384371,
          4.831723292659762,
          4.832538570399311,
          4.833287244596751,
          4.833312273515674,
          4.834310996628488,
          4.834562754662839,
          4.834994665028592,
          4.847228079642657,
          4.848358028089686,
          4.848414586063499,
          4.84854984107295,
          4.848653331956298,
          4.848709013659073,
          4.8488334227200465,
          4.849344273367217,
          4.849382834308166,
          4.8498606435740115,
          4.850005933089616,
          4.8502027980810745,
          4.850339434115672,
          4.850182429349682,
          4.850143701932747,
          4.850512125231928,
          4.8508881629071805,
          4.850950871341115,
          4.852019869767968,
          4.852076828017078,
          4.854695657763458,
          4.854773556445868,
          4.854690346899111,
          4.854849129955536,
          4.854867643361204,
          4.854849472865241,
          4.854665156546718,
          4.8546308960593985,
          4.854489886136538,
          4.854228954711363,
          4.854210908450783,
          4.85421457040906,
          4.854118153096379,
          4.854406378969174,
          4.854392316896221,
          4.853891711729723,
          4.853911177387316,
          4.853857701369016,
          4.853893716270407,
          4.853934874267241,
          4.851864380261808,
          4.851793370819134,
          4.851905219173147,
          4.8519676226337225,
          4.852004814497164,
          4.852008450630734,
          4.852013028968348,
          4.852030874372143,
          4.852461671363154,
          4.852484056851979,
          4.852541706626576,
          4.852579140586626,
          4.852605326012387,
          4.852658560288459,
          4.852897034812377,
          4.8529748550756215,
          4.853252793789934,
          4.853602771576621,
          4.8539471555621985,
          4.854054568244316,
          4.869707216399846,
          4.870280587730784,
          4.871279318887549,
          4.873372161138184,
          4.874057428477463,
          4.874662936820773,
          4.8746704396907505,
          4.874876555597681,
          4.875666237588035,
          4.876069607242646,
          4.8762815722402735,
          4.876389191831106,
          4.87732770550381,
          4.877595565710989,
          4.877790923996091,
          4.8790612059522935,
          4.879500658263652,
          4.879533059924907,
          4.879566232265961,
          4.881628331942118,
          4.909056531712891,
          4.909070701316641,
          4.909590782921995,
          4.9098530144753365,
          4.910282688043673,
          4.912683567361012,
          4.914617119906934,
          4.915188828707947,
          4.916068712756138,
          4.916244634083169,
          4.918967681420741,
          4.9191763597206775,
          4.91947483302384,
          4.920409578988788,
          4.920881476045818,
          4.923217170701462,
          4.923448233818594,
          4.923559431554104,
          4.9236358735401184,
          4.924988949293258,
          4.951628620836512,
          4.952412479874224,
          4.95334113059892,
          4.953804216098444,
          4.95393127479873,
          4.954359270504992,
          4.954434180979479,
          4.954697925255357,
          4.955059436544771,
          4.957132254156264,
          4.957527175682035,
          4.9583271857278,
          4.9584904049261604,
          4.958499601013771,
          4.961046849160998,
          4.961596239648412,
          4.96301969138672,
          4.963948303151874,
          4.966216086500392,
          4.968472402417882,
          4.99682562855274,
          4.99693434954784,
          4.997531307789871,
          4.998721185396275,
          4.999866976168154,
          5.00103801411832,
          5.001087135697233,
          5.001815897225158,
          5.001849800390731,
          5.002176790262034,
          5.004136361542399,
          5.0041404887703225,
          5.0041558437183795,
          5.006096436599114,
          5.006625831599784,
          5.006707640532291,
          5.006732587604209,
          5.0094834862518205,
          5.009600143342254,
          5.0102676059621825,
          5.03841260247782,
          5.038700710724774,
          5.039412318266181,
          5.040227125338474,
          5.040277922547495,
          5.040820322043512,
          5.041297340260812,
          5.041467107337168,
          5.041809721980577,
          5.041895390562151,
          5.0437565517350444,
          5.043955431722936,
          5.045426256601123,
          5.047063889277294,
          5.051162308242247,
          5.0516764854612815,
          5.052822423341445,
          5.053656730538377,
          5.0546542645478905,
          5.05513228460742,
          5.08428877030281,
          5.084532710743776,
          5.085536202645038,
          5.086551147306671,
          5.087158492038356,
          5.087530849298956,
          5.090331682998025,
          5.093047619290169,
          5.093678880080009,
          5.0943996155591895,
          5.0947763399676305,
          5.095641398387943,
          5.097021565161689,
          5.097734794312228,
          5.09993588217043,
          5.100485112485309,
          5.1010119719753995,
          5.1017312718642875,
          5.1024833253621775,
          5.1035282025259106
         ],
         "yaxis": "y"
        }
       ],
       "layout": {
        "coloraxis": {
         "colorbar": {
          "title": {
           "text": "reward_patch_dim"
          }
         },
         "colorscale": [
          [
           0,
           "#0d0887"
          ],
          [
           0.1111111111111111,
           "#46039f"
          ],
          [
           0.2222222222222222,
           "#7201a8"
          ],
          [
           0.3333333333333333,
           "#9c179e"
          ],
          [
           0.4444444444444444,
           "#bd3786"
          ],
          [
           0.5555555555555556,
           "#d8576b"
          ],
          [
           0.6666666666666666,
           "#ed7953"
          ],
          [
           0.7777777777777778,
           "#fb9f3a"
          ],
          [
           0.8888888888888888,
           "#fdca26"
          ],
          [
           1,
           "#f0f921"
          ]
         ]
        },
        "legend": {
         "tracegroupgap": 0
        },
        "template": {
         "data": {
          "bar": [
           {
            "error_x": {
             "color": "#f2f5fa"
            },
            "error_y": {
             "color": "#f2f5fa"
            },
            "marker": {
             "line": {
              "color": "rgb(17,17,17)",
              "width": 0.5
             },
             "pattern": {
              "fillmode": "overlay",
              "size": 10,
              "solidity": 0.2
             }
            },
            "type": "bar"
           }
          ],
          "barpolar": [
           {
            "marker": {
             "line": {
              "color": "rgb(17,17,17)",
              "width": 0.5
             },
             "pattern": {
              "fillmode": "overlay",
              "size": 10,
              "solidity": 0.2
             }
            },
            "type": "barpolar"
           }
          ],
          "carpet": [
           {
            "aaxis": {
             "endlinecolor": "#A2B1C6",
             "gridcolor": "#506784",
             "linecolor": "#506784",
             "minorgridcolor": "#506784",
             "startlinecolor": "#A2B1C6"
            },
            "baxis": {
             "endlinecolor": "#A2B1C6",
             "gridcolor": "#506784",
             "linecolor": "#506784",
             "minorgridcolor": "#506784",
             "startlinecolor": "#A2B1C6"
            },
            "type": "carpet"
           }
          ],
          "choropleth": [
           {
            "colorbar": {
             "outlinewidth": 0,
             "ticks": ""
            },
            "type": "choropleth"
           }
          ],
          "contour": [
           {
            "colorbar": {
             "outlinewidth": 0,
             "ticks": ""
            },
            "colorscale": [
             [
              0,
              "#0d0887"
             ],
             [
              0.1111111111111111,
              "#46039f"
             ],
             [
              0.2222222222222222,
              "#7201a8"
             ],
             [
              0.3333333333333333,
              "#9c179e"
             ],
             [
              0.4444444444444444,
              "#bd3786"
             ],
             [
              0.5555555555555556,
              "#d8576b"
             ],
             [
              0.6666666666666666,
              "#ed7953"
             ],
             [
              0.7777777777777778,
              "#fb9f3a"
             ],
             [
              0.8888888888888888,
              "#fdca26"
             ],
             [
              1,
              "#f0f921"
             ]
            ],
            "type": "contour"
           }
          ],
          "contourcarpet": [
           {
            "colorbar": {
             "outlinewidth": 0,
             "ticks": ""
            },
            "type": "contourcarpet"
           }
          ],
          "heatmap": [
           {
            "colorbar": {
             "outlinewidth": 0,
             "ticks": ""
            },
            "colorscale": [
             [
              0,
              "#0d0887"
             ],
             [
              0.1111111111111111,
              "#46039f"
             ],
             [
              0.2222222222222222,
              "#7201a8"
             ],
             [
              0.3333333333333333,
              "#9c179e"
             ],
             [
              0.4444444444444444,
              "#bd3786"
             ],
             [
              0.5555555555555556,
              "#d8576b"
             ],
             [
              0.6666666666666666,
              "#ed7953"
             ],
             [
              0.7777777777777778,
              "#fb9f3a"
             ],
             [
              0.8888888888888888,
              "#fdca26"
             ],
             [
              1,
              "#f0f921"
             ]
            ],
            "type": "heatmap"
           }
          ],
          "heatmapgl": [
           {
            "colorbar": {
             "outlinewidth": 0,
             "ticks": ""
            },
            "colorscale": [
             [
              0,
              "#0d0887"
             ],
             [
              0.1111111111111111,
              "#46039f"
             ],
             [
              0.2222222222222222,
              "#7201a8"
             ],
             [
              0.3333333333333333,
              "#9c179e"
             ],
             [
              0.4444444444444444,
              "#bd3786"
             ],
             [
              0.5555555555555556,
              "#d8576b"
             ],
             [
              0.6666666666666666,
              "#ed7953"
             ],
             [
              0.7777777777777778,
              "#fb9f3a"
             ],
             [
              0.8888888888888888,
              "#fdca26"
             ],
             [
              1,
              "#f0f921"
             ]
            ],
            "type": "heatmapgl"
           }
          ],
          "histogram": [
           {
            "marker": {
             "pattern": {
              "fillmode": "overlay",
              "size": 10,
              "solidity": 0.2
             }
            },
            "type": "histogram"
           }
          ],
          "histogram2d": [
           {
            "colorbar": {
             "outlinewidth": 0,
             "ticks": ""
            },
            "colorscale": [
             [
              0,
              "#0d0887"
             ],
             [
              0.1111111111111111,
              "#46039f"
             ],
             [
              0.2222222222222222,
              "#7201a8"
             ],
             [
              0.3333333333333333,
              "#9c179e"
             ],
             [
              0.4444444444444444,
              "#bd3786"
             ],
             [
              0.5555555555555556,
              "#d8576b"
             ],
             [
              0.6666666666666666,
              "#ed7953"
             ],
             [
              0.7777777777777778,
              "#fb9f3a"
             ],
             [
              0.8888888888888888,
              "#fdca26"
             ],
             [
              1,
              "#f0f921"
             ]
            ],
            "type": "histogram2d"
           }
          ],
          "histogram2dcontour": [
           {
            "colorbar": {
             "outlinewidth": 0,
             "ticks": ""
            },
            "colorscale": [
             [
              0,
              "#0d0887"
             ],
             [
              0.1111111111111111,
              "#46039f"
             ],
             [
              0.2222222222222222,
              "#7201a8"
             ],
             [
              0.3333333333333333,
              "#9c179e"
             ],
             [
              0.4444444444444444,
              "#bd3786"
             ],
             [
              0.5555555555555556,
              "#d8576b"
             ],
             [
              0.6666666666666666,
              "#ed7953"
             ],
             [
              0.7777777777777778,
              "#fb9f3a"
             ],
             [
              0.8888888888888888,
              "#fdca26"
             ],
             [
              1,
              "#f0f921"
             ]
            ],
            "type": "histogram2dcontour"
           }
          ],
          "mesh3d": [
           {
            "colorbar": {
             "outlinewidth": 0,
             "ticks": ""
            },
            "type": "mesh3d"
           }
          ],
          "parcoords": [
           {
            "line": {
             "colorbar": {
              "outlinewidth": 0,
              "ticks": ""
             }
            },
            "type": "parcoords"
           }
          ],
          "pie": [
           {
            "automargin": true,
            "type": "pie"
           }
          ],
          "scatter": [
           {
            "marker": {
             "line": {
              "color": "#283442"
             }
            },
            "type": "scatter"
           }
          ],
          "scatter3d": [
           {
            "line": {
             "colorbar": {
              "outlinewidth": 0,
              "ticks": ""
             }
            },
            "marker": {
             "colorbar": {
              "outlinewidth": 0,
              "ticks": ""
             }
            },
            "type": "scatter3d"
           }
          ],
          "scattercarpet": [
           {
            "marker": {
             "colorbar": {
              "outlinewidth": 0,
              "ticks": ""
             }
            },
            "type": "scattercarpet"
           }
          ],
          "scattergeo": [
           {
            "marker": {
             "colorbar": {
              "outlinewidth": 0,
              "ticks": ""
             }
            },
            "type": "scattergeo"
           }
          ],
          "scattergl": [
           {
            "marker": {
             "line": {
              "color": "#283442"
             }
            },
            "type": "scattergl"
           }
          ],
          "scattermapbox": [
           {
            "marker": {
             "colorbar": {
              "outlinewidth": 0,
              "ticks": ""
             }
            },
            "type": "scattermapbox"
           }
          ],
          "scatterpolar": [
           {
            "marker": {
             "colorbar": {
              "outlinewidth": 0,
              "ticks": ""
             }
            },
            "type": "scatterpolar"
           }
          ],
          "scatterpolargl": [
           {
            "marker": {
             "colorbar": {
              "outlinewidth": 0,
              "ticks": ""
             }
            },
            "type": "scatterpolargl"
           }
          ],
          "scatterternary": [
           {
            "marker": {
             "colorbar": {
              "outlinewidth": 0,
              "ticks": ""
             }
            },
            "type": "scatterternary"
           }
          ],
          "surface": [
           {
            "colorbar": {
             "outlinewidth": 0,
             "ticks": ""
            },
            "colorscale": [
             [
              0,
              "#0d0887"
             ],
             [
              0.1111111111111111,
              "#46039f"
             ],
             [
              0.2222222222222222,
              "#7201a8"
             ],
             [
              0.3333333333333333,
              "#9c179e"
             ],
             [
              0.4444444444444444,
              "#bd3786"
             ],
             [
              0.5555555555555556,
              "#d8576b"
             ],
             [
              0.6666666666666666,
              "#ed7953"
             ],
             [
              0.7777777777777778,
              "#fb9f3a"
             ],
             [
              0.8888888888888888,
              "#fdca26"
             ],
             [
              1,
              "#f0f921"
             ]
            ],
            "type": "surface"
           }
          ],
          "table": [
           {
            "cells": {
             "fill": {
              "color": "#506784"
             },
             "line": {
              "color": "rgb(17,17,17)"
             }
            },
            "header": {
             "fill": {
              "color": "#2a3f5f"
             },
             "line": {
              "color": "rgb(17,17,17)"
             }
            },
            "type": "table"
           }
          ]
         },
         "layout": {
          "annotationdefaults": {
           "arrowcolor": "#f2f5fa",
           "arrowhead": 0,
           "arrowwidth": 1
          },
          "autotypenumbers": "strict",
          "coloraxis": {
           "colorbar": {
            "outlinewidth": 0,
            "ticks": ""
           }
          },
          "colorscale": {
           "diverging": [
            [
             0,
             "#8e0152"
            ],
            [
             0.1,
             "#c51b7d"
            ],
            [
             0.2,
             "#de77ae"
            ],
            [
             0.3,
             "#f1b6da"
            ],
            [
             0.4,
             "#fde0ef"
            ],
            [
             0.5,
             "#f7f7f7"
            ],
            [
             0.6,
             "#e6f5d0"
            ],
            [
             0.7,
             "#b8e186"
            ],
            [
             0.8,
             "#7fbc41"
            ],
            [
             0.9,
             "#4d9221"
            ],
            [
             1,
             "#276419"
            ]
           ],
           "sequential": [
            [
             0,
             "#0d0887"
            ],
            [
             0.1111111111111111,
             "#46039f"
            ],
            [
             0.2222222222222222,
             "#7201a8"
            ],
            [
             0.3333333333333333,
             "#9c179e"
            ],
            [
             0.4444444444444444,
             "#bd3786"
            ],
            [
             0.5555555555555556,
             "#d8576b"
            ],
            [
             0.6666666666666666,
             "#ed7953"
            ],
            [
             0.7777777777777778,
             "#fb9f3a"
            ],
            [
             0.8888888888888888,
             "#fdca26"
            ],
            [
             1,
             "#f0f921"
            ]
           ],
           "sequentialminus": [
            [
             0,
             "#0d0887"
            ],
            [
             0.1111111111111111,
             "#46039f"
            ],
            [
             0.2222222222222222,
             "#7201a8"
            ],
            [
             0.3333333333333333,
             "#9c179e"
            ],
            [
             0.4444444444444444,
             "#bd3786"
            ],
            [
             0.5555555555555556,
             "#d8576b"
            ],
            [
             0.6666666666666666,
             "#ed7953"
            ],
            [
             0.7777777777777778,
             "#fb9f3a"
            ],
            [
             0.8888888888888888,
             "#fdca26"
            ],
            [
             1,
             "#f0f921"
            ]
           ]
          },
          "colorway": [
           "#636efa",
           "#EF553B",
           "#00cc96",
           "#ab63fa",
           "#FFA15A",
           "#19d3f3",
           "#FF6692",
           "#B6E880",
           "#FF97FF",
           "#FECB52"
          ],
          "font": {
           "color": "#f2f5fa"
          },
          "geo": {
           "bgcolor": "rgb(17,17,17)",
           "lakecolor": "rgb(17,17,17)",
           "landcolor": "rgb(17,17,17)",
           "showlakes": true,
           "showland": true,
           "subunitcolor": "#506784"
          },
          "hoverlabel": {
           "align": "left"
          },
          "hovermode": "closest",
          "mapbox": {
           "style": "dark"
          },
          "paper_bgcolor": "rgb(17,17,17)",
          "plot_bgcolor": "rgb(17,17,17)",
          "polar": {
           "angularaxis": {
            "gridcolor": "#506784",
            "linecolor": "#506784",
            "ticks": ""
           },
           "bgcolor": "rgb(17,17,17)",
           "radialaxis": {
            "gridcolor": "#506784",
            "linecolor": "#506784",
            "ticks": ""
           }
          },
          "scene": {
           "xaxis": {
            "backgroundcolor": "rgb(17,17,17)",
            "gridcolor": "#506784",
            "gridwidth": 2,
            "linecolor": "#506784",
            "showbackground": true,
            "ticks": "",
            "zerolinecolor": "#C8D4E3"
           },
           "yaxis": {
            "backgroundcolor": "rgb(17,17,17)",
            "gridcolor": "#506784",
            "gridwidth": 2,
            "linecolor": "#506784",
            "showbackground": true,
            "ticks": "",
            "zerolinecolor": "#C8D4E3"
           },
           "zaxis": {
            "backgroundcolor": "rgb(17,17,17)",
            "gridcolor": "#506784",
            "gridwidth": 2,
            "linecolor": "#506784",
            "showbackground": true,
            "ticks": "",
            "zerolinecolor": "#C8D4E3"
           }
          },
          "shapedefaults": {
           "line": {
            "color": "#f2f5fa"
           }
          },
          "sliderdefaults": {
           "bgcolor": "#C8D4E3",
           "bordercolor": "rgb(17,17,17)",
           "borderwidth": 1,
           "tickwidth": 0
          },
          "ternary": {
           "aaxis": {
            "gridcolor": "#506784",
            "linecolor": "#506784",
            "ticks": ""
           },
           "baxis": {
            "gridcolor": "#506784",
            "linecolor": "#506784",
            "ticks": ""
           },
           "bgcolor": "rgb(17,17,17)",
           "caxis": {
            "gridcolor": "#506784",
            "linecolor": "#506784",
            "ticks": ""
           }
          },
          "title": {
           "x": 0.05
          },
          "updatemenudefaults": {
           "bgcolor": "#506784",
           "borderwidth": 0
          },
          "xaxis": {
           "automargin": true,
           "gridcolor": "#283442",
           "linecolor": "#506784",
           "ticks": "",
           "title": {
            "standoff": 15
           },
           "zerolinecolor": "#283442",
           "zerolinewidth": 2
          },
          "yaxis": {
           "automargin": true,
           "gridcolor": "#283442",
           "linecolor": "#506784",
           "ticks": "",
           "title": {
            "standoff": 15
           },
           "zerolinecolor": "#283442",
           "zerolinewidth": 2
          }
         }
        },
        "title": {
         "text": "Trust vs time to first food"
        },
        "xaxis": {
         "anchor": "y",
         "domain": [
          0,
          1
         ],
         "title": {
          "text": "c_trust_jittered"
         }
        },
        "yaxis": {
         "anchor": "x",
         "domain": [
          0,
          1
         ],
         "title": {
          "text": "time to first food"
         }
        }
       }
      }
     },
     "metadata": {},
     "output_type": "display_data"
    }
   ],
   "source": [
    "# note that initially the utility of communicating grows faster\n",
    "jitter = 0.01\n",
    "impactDF[\"c_trust_jittered\"] = impactDF[\"c_trust\"] + np.random.uniform(\n",
    "    -jitter, jitter, len(impactDF)\n",
    ")\n",
    "\n",
    "\n",
    "fig = px.scatter(\n",
    "    impactDF,\n",
    "    x=\"c_trust_jittered\",\n",
    "    y=\"time to first food\",\n",
    "    color=\"reward_patch_dim\",\n",
    "    template=\"plotly_dark\",\n",
    "    title=\"Trust vs time to first food\",\n",
    "    trendline=\"lowess\",\n",
    ")\n",
    "\n",
    "fig.update_traces({\"marker\": {\"size\": 5, \"opacity\": 0.5}})\n",
    "\n",
    "fig.show()\n"
   ]
  },
  {
   "cell_type": "code",
   "execution_count": 19,
   "metadata": {},
   "outputs": [
    {
     "data": {
      "application/vnd.plotly.v1+json": {
       "config": {
        "plotlyServerURL": "https://plot.ly"
       },
       "data": [
        {
         "hovertemplate": "c_trust_jittered=%{x}<br>time to first food=%{y}<br>reward_patch_dim=%{marker.color}<extra></extra>",
         "legendgroup": "",
         "marker": {
          "color": [
           1,
           1,
           1,
           1,
           2,
           2,
           2,
           2,
           3,
           3,
           3,
           3,
           4,
           4,
           4,
           4,
           5,
           5,
           5,
           5,
           1,
           1,
           1,
           1,
           2,
           2,
           2,
           2,
           3,
           3,
           3,
           3,
           4,
           4,
           4,
           4,
           5,
           5,
           5,
           5,
           1,
           1,
           1,
           1,
           2,
           2,
           2,
           2,
           3,
           3,
           3,
           3,
           4,
           4,
           4,
           4,
           5,
           5,
           5,
           5,
           1,
           1,
           1,
           1,
           2,
           2,
           2,
           2,
           3,
           3,
           3,
           3,
           4,
           4,
           4,
           4,
           5,
           5,
           5,
           5,
           1,
           1,
           1,
           1,
           2,
           2,
           2,
           2,
           3,
           3,
           3,
           3,
           4,
           4,
           4,
           4,
           5,
           5,
           5,
           5,
           1,
           1,
           1,
           1,
           2,
           2,
           2,
           2,
           3,
           3,
           3,
           3,
           4,
           4,
           4,
           4,
           5,
           5,
           5,
           5,
           1,
           1,
           1,
           1,
           2,
           2,
           2,
           2,
           3,
           3,
           3,
           3,
           4,
           4,
           4,
           4,
           5,
           5,
           5,
           5,
           1,
           1,
           1,
           1,
           2,
           2,
           2,
           2,
           3,
           3,
           3,
           3,
           4,
           4,
           4,
           4,
           5,
           5,
           5,
           5,
           1,
           1,
           1,
           1,
           2,
           2,
           2,
           2,
           3,
           3,
           3,
           3,
           4,
           4,
           4,
           4,
           5,
           5,
           5,
           5,
           1,
           1,
           1,
           1,
           2,
           2,
           2,
           2,
           3,
           3,
           3,
           3,
           4,
           4,
           4,
           4,
           5,
           5,
           5,
           5,
           1,
           1,
           1,
           1,
           2,
           2,
           2,
           2,
           3,
           3,
           3,
           3,
           4,
           4,
           4,
           4,
           5,
           5,
           5,
           5,
           1,
           1,
           1,
           1,
           2,
           2,
           2,
           2,
           3,
           3,
           3,
           3,
           4,
           4,
           4,
           4,
           5,
           5,
           5,
           5,
           1,
           1,
           1,
           1,
           2,
           2,
           2,
           2,
           3,
           3,
           3,
           3,
           4,
           4,
           4,
           4,
           5,
           5,
           5,
           5,
           1,
           1,
           1,
           1,
           2,
           2,
           2,
           2,
           3,
           3,
           3,
           3,
           4,
           4,
           4,
           4,
           5,
           5,
           5,
           5,
           1,
           1,
           1,
           1,
           2,
           2,
           2,
           2,
           3,
           3,
           3,
           3,
           4,
           4,
           4,
           4,
           5,
           5,
           5,
           5,
           1,
           1,
           1,
           1,
           2,
           2,
           2,
           2,
           3,
           3,
           3,
           3,
           4,
           4,
           4,
           4,
           5,
           5,
           5,
           5,
           1,
           1,
           1,
           1,
           2,
           2,
           2,
           2,
           3,
           3,
           3,
           3,
           4,
           4,
           4,
           4,
           5,
           5,
           5,
           5,
           1,
           1,
           1,
           1,
           2,
           2,
           2,
           2,
           3,
           3,
           3,
           3,
           4,
           4,
           4,
           4,
           5,
           5,
           5,
           5,
           1,
           1,
           1,
           1,
           2,
           2,
           2,
           2,
           3,
           3,
           3,
           3,
           4,
           4,
           4,
           4,
           5,
           5,
           5,
           5,
           1,
           1,
           1,
           1,
           2,
           2,
           2,
           2,
           3,
           3,
           3,
           3,
           4,
           4,
           4,
           4,
           5,
           5,
           5,
           5,
           1,
           1,
           1,
           1,
           2,
           2,
           2,
           2,
           3,
           3,
           3,
           3,
           4,
           4,
           4,
           4,
           5,
           5,
           5,
           5
          ],
          "coloraxis": "coloraxis",
          "opacity": 0.5,
          "size": 5,
          "symbol": "circle"
         },
         "mode": "markers",
         "name": "",
         "orientation": "v",
         "showlegend": false,
         "type": "scatter",
         "x": [
          -0.009969625757801115,
          -0.004944194122942756,
          -0.0005790964374623227,
          0.003252971740298845,
          0.0032409404658284117,
          0.009390793350857957,
          0.0053606889966986634,
          0.002512450656483931,
          0.00018926724710134797,
          -0.00920275382875133,
          -0.004083946374679566,
          0.008317618775046309,
          -0.006581058608075894,
          0.0010854259405360007,
          -0.00408195624383169,
          -0.0034273116297135033,
          0.0034462926655301814,
          -0.0051701669917787975,
          -0.002381210667174391,
          -0.0016340242904755737,
          0.05681238253004531,
          0.05884651036517396,
          0.05515693412394598,
          0.05181098342579014,
          0.058289063203121154,
          0.0481595536544416,
          0.04760581969281492,
          0.042541991176721056,
          0.04378124566908839,
          0.04150149639478316,
          0.053697831075386615,
          0.05676318253662479,
          0.04748935301403533,
          0.05963503785170778,
          0.05422831742037548,
          0.05998726853751972,
          0.04506841565642306,
          0.05085317324200141,
          0.05402099305820811,
          0.041482089650390186,
          0.10683173637896153,
          0.10595799133342873,
          0.0933026164075655,
          0.09773390359109574,
          0.09587668853666786,
          0.09512164195515516,
          0.1037905095485614,
          0.09259077781610499,
          0.0930143085514178,
          0.09717279119488942,
          0.10409526964730773,
          0.10900135957812088,
          0.09611741098312342,
          0.105664162744593,
          0.09717456368122403,
          0.09556144104817932,
          0.10455880846098084,
          0.10016746953595881,
          0.10340367518918908,
          0.106794294975156,
          0.14861752984416393,
          0.14750672586716387,
          0.15545965422109603,
          0.14408805914009534,
          0.15985301293876686,
          0.14582466339381916,
          0.15101864689800443,
          0.14891339338703038,
          0.15074478215760884,
          0.14653214908754925,
          0.14621409241859248,
          0.1475972281823919,
          0.14388694883885128,
          0.15626385988976765,
          0.15371593693376856,
          0.1566508595824949,
          0.14306086312312297,
          0.1439046349183264,
          0.14400952991033408,
          0.14659633493417545,
          0.19385578820576516,
          0.19667592043640356,
          0.20108069472618054,
          0.20101651295571288,
          0.197670692723794,
          0.205791875082106,
          0.2049055376464021,
          0.1965632982421507,
          0.1900762781673187,
          0.1941975606459785,
          0.20018430628315642,
          0.20722985953031473,
          0.19814163288157322,
          0.19206219279294215,
          0.20358135635054805,
          0.20054361004170032,
          0.1925757288547434,
          0.20668147759020414,
          0.19788605130142228,
          0.19616540626828696,
          0.24935777327874842,
          0.2550556837451859,
          0.2536978170627803,
          0.24323483951748573,
          0.24953956789398163,
          0.25385223583919414,
          0.2520246024926468,
          0.2412000110391179,
          0.2558647912217117,
          0.2513187178856926,
          0.25454718005255006,
          0.25722181897165536,
          0.24668510615709927,
          0.2574965801107881,
          0.2544840128837852,
          0.25365669495054305,
          0.2583353318713162,
          0.24288142250667272,
          0.24511193147684499,
          0.2568379982539935,
          0.2965192137767598,
          0.30300782556886635,
          0.30242599514438956,
          0.2996275670681115,
          0.2938287142528313,
          0.3028568042578611,
          0.3021890613106365,
          0.30798103847216296,
          0.30159070050391956,
          0.29320872002283754,
          0.30307303133940977,
          0.2970808141020267,
          0.2962044100061925,
          0.3079467105584891,
          0.2949757525530672,
          0.3055099939827719,
          0.3093402021815271,
          0.2987916857238238,
          0.293340366797605,
          0.29704537734322783,
          0.3417621853732578,
          0.35856192022255423,
          0.3434912270917094,
          0.3595623151443776,
          0.3523358975817719,
          0.35783651981280573,
          0.3542834398620669,
          0.35069160945510275,
          0.34753613162919966,
          0.3517274534182245,
          0.3544061045650774,
          0.353800540670663,
          0.34598486774595905,
          0.3496418819362267,
          0.3566021141114097,
          0.3494572755097774,
          0.34990508983501045,
          0.3474655136060842,
          0.3402980474644892,
          0.34171053520561906,
          0.4030373635651305,
          0.3930600157681859,
          0.3959347122088956,
          0.4070986528484287,
          0.4082805595981729,
          0.39577298449354664,
          0.39126440828173076,
          0.400980875673985,
          0.3991961913872427,
          0.39908804859078684,
          0.40022719489694836,
          0.40563672769839765,
          0.40694285218428944,
          0.39201428435367247,
          0.3985454837941857,
          0.3951661577282004,
          0.40159971421904367,
          0.3903127330647603,
          0.3957285266491855,
          0.39143655388833765,
          0.45833455849430366,
          0.45456468843367603,
          0.4471823058496084,
          0.4582432337430164,
          0.45389460102478557,
          0.45537228963063375,
          0.4446978682624063,
          0.44560195318379164,
          0.45052752242798666,
          0.4428533517984395,
          0.4444228158167127,
          0.4565434792299323,
          0.45880693511798026,
          0.4490975094233512,
          0.44549310772724043,
          0.4582528889805812,
          0.45245237262925975,
          0.45370605449252094,
          0.4514219140679462,
          0.44535542896103186,
          0.4982194910172072,
          0.50697630255029,
          0.4944490466774934,
          0.49142208771546014,
          0.5077563037678754,
          0.49869506118405227,
          0.5077178953610276,
          0.5001179514432458,
          0.5058887202156748,
          0.49003064940128443,
          0.5051063559378068,
          0.49939530220355954,
          0.5083282884515969,
          0.5074542587493737,
          0.4945694485941631,
          0.4992361347331426,
          0.49488363024452364,
          0.499830514831266,
          0.5066703226637891,
          0.4988422041510008,
          0.5588503816623218,
          0.5453076007301972,
          0.5474532371892451,
          0.5518902048368854,
          0.5454225870119147,
          0.5539966851349797,
          0.5421894174641851,
          0.5536469312262651,
          0.5454679147601807,
          0.5543222659375462,
          0.5507813535040492,
          0.5448652878768931,
          0.540791211398644,
          0.5554004322928454,
          0.5429479138394925,
          0.55612497803389,
          0.5543154288051129,
          0.5569625553249351,
          0.5568093430503516,
          0.5404386291199302,
          0.6093456038646994,
          0.6093444550232446,
          0.5989953483379351,
          0.5967290994087243,
          0.606288616162232,
          0.6030044516103483,
          0.5947048462978558,
          0.6073341798683024,
          0.6052122048543043,
          0.597574933977687,
          0.6073940788196399,
          0.6036235226217775,
          0.6098810559525103,
          0.5971056952094121,
          0.5964754573031831,
          0.598245109598831,
          0.5921385033884824,
          0.6062495474872629,
          0.5960018704712744,
          0.6055755277724163,
          0.6481222118112628,
          0.6596082277435206,
          0.6527356175798845,
          0.6441891265077586,
          0.646808908344566,
          0.6402705762224992,
          0.6488108644793089,
          0.6580178442773514,
          0.6597087857662871,
          0.6426191951726498,
          0.6572484121916017,
          0.6534691013462386,
          0.6539676988483543,
          0.6435991110286754,
          0.647709946296436,
          0.6508644499400469,
          0.6569369002305729,
          0.6423276158637061,
          0.6526596033855889,
          0.6448487043894955,
          0.6984934258432561,
          0.7064045257695469,
          0.69413940616884,
          0.7083675908304656,
          0.6915439586587716,
          0.6958385797019577,
          0.7067039117455746,
          0.7024982641545587,
          0.7070970130270255,
          0.7050716828867906,
          0.6903697361628423,
          0.6923214622549295,
          0.6954387874600293,
          0.7025835153972825,
          0.6975423304557471,
          0.7046901074178482,
          0.7008307104511818,
          0.6943927391612031,
          0.6988732835235394,
          0.7009420281639229,
          0.7549789183995246,
          0.7489735944136177,
          0.7559516712403159,
          0.7483675372701922,
          0.7555932774440048,
          0.741069970294478,
          0.7497298442523056,
          0.7488750404657694,
          0.7548053774067203,
          0.7508074091710065,
          0.7596523943218745,
          0.7523319981978398,
          0.7481868780201915,
          0.7593139065615863,
          0.7471824366733574,
          0.7465874684458158,
          0.7519508605823282,
          0.7403733569323022,
          0.7585374445209899,
          0.7524953809755268,
          0.7922922069724054,
          0.8099630357428003,
          0.7915205940584836,
          0.802550607634293,
          0.7928300846095141,
          0.8009355400242026,
          0.8027590583072831,
          0.8073205337534599,
          0.7931707940245789,
          0.7963965114575156,
          0.806827515288635,
          0.80655718807846,
          0.8071611512268256,
          0.7932351578381316,
          0.7920160124696941,
          0.7902798673086412,
          0.8075871060018719,
          0.8037503427426272,
          0.7922393314873026,
          0.7901096569234815,
          0.8504729123469128,
          0.8595928098626907,
          0.8508778595993645,
          0.8576081290655826,
          0.8407021645025358,
          0.858116058940048,
          0.846015254660098,
          0.8542310903246454,
          0.8432118612168101,
          0.8464746085372657,
          0.8486575422501904,
          0.8596589509661562,
          0.8500852744613826,
          0.8539501671804948,
          0.8408652060059743,
          0.8531420127992487,
          0.8413645751890443,
          0.8412515596239194,
          0.8462607745626957,
          0.8549957548632063,
          0.909621408730236,
          0.9023738608361581,
          0.9077143663852536,
          0.9073084912689492,
          0.9021731311319932,
          0.9022423277273289,
          0.8923364240400186,
          0.8931771781852974,
          0.8925825598348034,
          0.9002602263369016,
          0.9029100088790747,
          0.903568587225066,
          0.8963686635664362,
          0.9046835864729561,
          0.8952287299089956,
          0.9038060140609432,
          0.9053882700472823,
          0.906697978830462,
          0.890977645073005,
          0.896512738673635,
          0.9440862509843232,
          0.9509837421252855,
          0.9511689505693317,
          0.946893011641558,
          0.9513139011008551,
          0.9593524475084466,
          0.9431073273296299,
          0.9510615963647395,
          0.9529982507407964,
          0.9545717589922667,
          0.947725923723733,
          0.9510929692744003,
          0.9475751987313247,
          0.9462303695618709,
          0.9448884779125827,
          0.9594642703863833,
          0.9473597920841521,
          0.955630201309466,
          0.9549784147682034,
          0.9502682555110243,
          1.0079517108883442,
          0.9990092088462144,
          1.0091485415554222,
          0.9919246400358378,
          0.9901013364859743,
          1.008908867304216,
          1.009907158093765,
          0.9965120425202276,
          1.008504030951314,
          0.9998805961593955,
          1.0012932304479123,
          0.9901047726002619,
          1.00742399638558,
          1.0077927727172897,
          1.0041637474071483,
          1.007714426669212,
          0.9937558563698928,
          1.0007653080817969,
          0.9925628084214292,
          1.0062142396820664
         ],
         "xaxis": "x",
         "y": [
          14.666666666666666,
          14,
          4.888888888888889,
          2.555555555555556,
          7.888888888888889,
          19.11111111111111,
          22.22222222222222,
          28.22222222222222,
          7.555555555555555,
          16.666666666666668,
          34,
          13.22222222222222,
          25.666666666666668,
          32.888888888888886,
          24.55555555555556,
          24.88888888888889,
          31.11111111111111,
          34.77777777777778,
          27.55555555555556,
          31.33333333333333,
          1.8888888888888888,
          2.7777777777777777,
          4.333333333333333,
          3.7777777777777777,
          7.222222222222222,
          2.333333333333333,
          8.222222222222221,
          4.777777777777778,
          16.11111111111111,
          19.11111111111111,
          4.555555555555555,
          10.666666666666666,
          9.88888888888889,
          23,
          7.555555555555555,
          8.222222222222221,
          4,
          6.333333333333333,
          5.333333333333333,
          16.88888888888889,
          2.4444444444444446,
          1.8888888888888888,
          1.8888888888888888,
          2,
          3.4444444444444446,
          6.444444444444445,
          3.6666666666666665,
          11.555555555555555,
          5.888888888888889,
          6.111111111111111,
          3.333333333333333,
          11.333333333333334,
          9.77777777777778,
          26,
          4.555555555555555,
          13.22222222222222,
          4,
          8.11111111111111,
          3.555555555555556,
          7.222222222222222,
          7.666666666666667,
          6.888888888888889,
          3.4444444444444446,
          2.555555555555556,
          13.555555555555555,
          6.222222222222222,
          2.7777777777777777,
          4.777777777777778,
          8.11111111111111,
          5.777777777777778,
          5.111111111111111,
          4,
          6.777777777777778,
          8.444444444444445,
          3.4444444444444446,
          24,
          6.111111111111111,
          6.111111111111111,
          16.666666666666668,
          8.222222222222221,
          4.888888888888889,
          2,
          2.4444444444444446,
          7.555555555555555,
          3.7777777777777777,
          3.888888888888889,
          4.777777777777778,
          4.444444444444445,
          4.555555555555555,
          4.666666666666667,
          6.888888888888889,
          3.333333333333333,
          3.333333333333333,
          10.555555555555555,
          5.444444444444445,
          3.333333333333333,
          3.2222222222222223,
          3.111111111111111,
          6.222222222222222,
          4.888888888888889,
          2.111111111111111,
          2.888888888888889,
          2.2222222222222223,
          3,
          5.555555555555555,
          2.888888888888889,
          3.555555555555556,
          3.111111111111111,
          3,
          3.555555555555556,
          4,
          8,
          6.555555555555555,
          7.222222222222222,
          4.555555555555555,
          5.222222222222222,
          7.222222222222222,
          4.777777777777778,
          13.444444444444445,
          4.111111111111111,
          2.2222222222222223,
          2.555555555555556,
          2.333333333333333,
          1.7777777777777777,
          4.666666666666667,
          2.333333333333333,
          6.555555555555555,
          3.888888888888889,
          4,
          3.555555555555556,
          5.666666666666667,
          4.111111111111111,
          5.444444444444445,
          6.333333333333333,
          7.222222222222222,
          5.666666666666667,
          6,
          4.333333333333333,
          6.333333333333333,
          3.7777777777777777,
          1.8888888888888888,
          2.2222222222222223,
          1.6666666666666667,
          1.7777777777777777,
          4.111111111111111,
          2.555555555555556,
          3.6666666666666665,
          6.111111111111111,
          4.666666666666667,
          4.111111111111111,
          6.666666666666667,
          2.888888888888889,
          2.888888888888889,
          6.111111111111111,
          8.666666666666666,
          7.555555555555555,
          11.11111111111111,
          12.333333333333334,
          22.22222222222222,
          3,
          3,
          2,
          1.6666666666666667,
          1.7777777777777777,
          7,
          3.333333333333333,
          3.7777777777777777,
          4.111111111111111,
          4.333333333333333,
          5,
          3.555555555555556,
          3.7777777777777777,
          10.444444444444445,
          5.444444444444445,
          5.444444444444445,
          48.11111111111112,
          12.88888888888889,
          7.222222222222222,
          11.666666666666666,
          4.666666666666667,
          3.333333333333333,
          1.5555555555555556,
          2,
          2,
          4.444444444444445,
          4.333333333333333,
          3.7777777777777777,
          3.2222222222222223,
          4.888888888888889,
          8.333333333333334,
          4.666666666666667,
          3.111111111111111,
          8,
          5.888888888888889,
          8,
          4.777777777777778,
          7.333333333333333,
          15.444444444444445,
          9.88888888888889,
          3.333333333333333,
          2.6666666666666665,
          6.888888888888889,
          1.3333333333333333,
          1.6666666666666667,
          2.888888888888889,
          3.111111111111111,
          3.111111111111111,
          3.111111111111111,
          4.666666666666667,
          4.777777777777778,
          6.444444444444445,
          5,
          6.555555555555555,
          7,
          4.222222222222222,
          14.77777777777778,
          3.888888888888889,
          4.666666666666667,
          41.888888888888886,
          7.222222222222222,
          1.8888888888888888,
          1.6666666666666667,
          3.333333333333333,
          6.777777777777778,
          5.888888888888889,
          3.6666666666666665,
          3.888888888888889,
          3.6666666666666665,
          3.7777777777777777,
          3.555555555555556,
          7.888888888888889,
          4,
          10,
          6.444444444444445,
          13.333333333333334,
          6.333333333333333,
          4,
          7.111111111111111,
          7.333333333333333,
          4.777777777777778,
          1.3333333333333333,
          1.4444444444444444,
          3.888888888888889,
          2.111111111111111,
          7.444444444444445,
          3.6666666666666665,
          2.6666666666666665,
          5.222222222222222,
          5.666666666666667,
          2.555555555555556,
          4,
          2.6666666666666665,
          11.555555555555555,
          14,
          8.222222222222221,
          30,
          50,
          5.888888888888889,
          3.555555555555556,
          11.555555555555555,
          3.4444444444444446,
          1.8888888888888888,
          5.555555555555555,
          2.6666666666666665,
          9.88888888888889,
          2.6666666666666665,
          3.2222222222222223,
          3.555555555555556,
          3,
          4.111111111111111,
          5,
          5.666666666666667,
          6.888888888888889,
          14.555555555555555,
          5.555555555555555,
          8.333333333333334,
          6,
          3.6666666666666665,
          12.444444444444445,
          13.22222222222222,
          1.4444444444444444,
          1.7777777777777777,
          7.111111111111111,
          1.7777777777777777,
          5.555555555555555,
          5.333333333333333,
          3,
          2.333333333333333,
          6.444444444444445,
          2.6666666666666665,
          5,
          5.222222222222222,
          5.888888888888889,
          4.666666666666667,
          8.555555555555555,
          5.777777777777778,
          3.888888888888889,
          13.22222222222222,
          11.555555555555555,
          2.6666666666666665,
          3.2222222222222223,
          1.8888888888888888,
          1.7777777777777777,
          2.2222222222222223,
          3.111111111111111,
          3.6666666666666665,
          5.444444444444445,
          3,
          7.222222222222222,
          4.888888888888889,
          2.2222222222222223,
          9.88888888888889,
          3.2222222222222223,
          13.666666666666666,
          5.222222222222222,
          7.777777777777778,
          5.777777777777778,
          5.888888888888889,
          5.777777777777778,
          10.333333333333334,
          1.7777777777777777,
          1.4444444444444444,
          1.8888888888888888,
          1.8888888888888888,
          6.111111111111111,
          16.555555555555557,
          8,
          4.333333333333333,
          4.333333333333333,
          6.222222222222222,
          4.222222222222222,
          5.555555555555555,
          5.444444444444445,
          6.111111111111111,
          3.7777777777777777,
          9.22222222222222,
          9,
          4.222222222222222,
          4.444444444444445,
          3.333333333333333,
          2.111111111111111,
          2,
          2,
          2.4444444444444446,
          24.55555555555556,
          4.888888888888889,
          5.444444444444445,
          3,
          8.555555555555555,
          3.6666666666666665,
          6.444444444444445,
          4.444444444444445,
          9.444444444444445,
          4.444444444444445,
          4.555555555555555,
          8.88888888888889,
          4.888888888888889,
          6.777777777777778,
          4.333333333333333,
          3.888888888888889,
          3.333333333333333,
          1.4444444444444444,
          2.111111111111111,
          2.2222222222222223,
          3.7777777777777777,
          2.4444444444444446,
          3.333333333333333,
          2.4444444444444446,
          7.333333333333333,
          4.555555555555555,
          8.333333333333334,
          6.666666666666667,
          11.555555555555555,
          5.222222222222222,
          4.111111111111111,
          5.888888888888889,
          3.4444444444444446,
          15.555555555555555,
          4.333333333333333,
          6,
          3.555555555555556,
          2.7777777777777777,
          2.333333333333333,
          2.2222222222222223,
          3.7777777777777777,
          4.222222222222222,
          5.111111111111111,
          2.111111111111111,
          5.555555555555555,
          4.333333333333333,
          3.2222222222222223,
          4.333333333333333,
          10.88888888888889,
          4.111111111111111,
          19.11111111111111,
          10.22222222222222,
          9.11111111111111,
          4.777777777777778,
          4.444444444444445,
          4.777777777777778,
          26.55555555555556,
          27.666666666666668,
          19.444444444444443,
          19.11111111111111,
          23.22222222222222,
          25.33333333333333,
          12.77777777777778,
          42.333333333333336,
          39.333333333333336,
          22,
          20.444444444444443,
          45.66666666666666,
          10.22222222222222,
          6.777777777777778,
          30.33333333333333,
          8.444444444444445,
          3.555555555555556,
          6.111111111111111,
          7.333333333333333,
          45.44444444444444
         ],
         "yaxis": "y"
        },
        {
         "hovertemplate": "<b>LOWESS trendline</b><br><br>c_trust_jittered=%{x}<br>time to first food=%{y} <b>(trend)</b><extra></extra>",
         "legendgroup": "",
         "marker": {
          "opacity": 0.5,
          "size": 5,
          "symbol": "circle"
         },
         "mode": "lines",
         "name": "",
         "showlegend": false,
         "type": "scatter",
         "x": [
          -0.009969625757801115,
          -0.00920275382875133,
          -0.006581058608075894,
          -0.0051701669917787975,
          -0.004944194122942756,
          -0.004083946374679566,
          -0.00408195624383169,
          -0.0034273116297135033,
          -0.002381210667174391,
          -0.0016340242904755737,
          -0.0005790964374623227,
          0.00018926724710134797,
          0.0010854259405360007,
          0.002512450656483931,
          0.0032409404658284117,
          0.003252971740298845,
          0.0034462926655301814,
          0.0053606889966986634,
          0.008317618775046309,
          0.009390793350857957,
          0.041482089650390186,
          0.04150149639478316,
          0.042541991176721056,
          0.04378124566908839,
          0.04506841565642306,
          0.04748935301403533,
          0.04760581969281492,
          0.0481595536544416,
          0.05085317324200141,
          0.05181098342579014,
          0.053697831075386615,
          0.05402099305820811,
          0.05422831742037548,
          0.05515693412394598,
          0.05676318253662479,
          0.05681238253004531,
          0.058289063203121154,
          0.05884651036517396,
          0.05963503785170778,
          0.05998726853751972,
          0.09259077781610499,
          0.0930143085514178,
          0.0933026164075655,
          0.09512164195515516,
          0.09556144104817932,
          0.09587668853666786,
          0.09611741098312342,
          0.09717279119488942,
          0.09717456368122403,
          0.09773390359109574,
          0.10016746953595881,
          0.10340367518918908,
          0.1037905095485614,
          0.10409526964730773,
          0.10455880846098084,
          0.105664162744593,
          0.10595799133342873,
          0.106794294975156,
          0.10683173637896153,
          0.10900135957812088,
          0.14306086312312297,
          0.14388694883885128,
          0.1439046349183264,
          0.14400952991033408,
          0.14408805914009534,
          0.14582466339381916,
          0.14621409241859248,
          0.14653214908754925,
          0.14659633493417545,
          0.14750672586716387,
          0.1475972281823919,
          0.14861752984416393,
          0.14891339338703038,
          0.15074478215760884,
          0.15101864689800443,
          0.15371593693376856,
          0.15545965422109603,
          0.15626385988976765,
          0.1566508595824949,
          0.15985301293876686,
          0.1900762781673187,
          0.19206219279294215,
          0.1925757288547434,
          0.19385578820576516,
          0.1941975606459785,
          0.19616540626828696,
          0.1965632982421507,
          0.19667592043640356,
          0.197670692723794,
          0.19788605130142228,
          0.19814163288157322,
          0.20018430628315642,
          0.20054361004170032,
          0.20101651295571288,
          0.20108069472618054,
          0.20358135635054805,
          0.2049055376464021,
          0.205791875082106,
          0.20668147759020414,
          0.20722985953031473,
          0.2412000110391179,
          0.24288142250667272,
          0.24323483951748573,
          0.24511193147684499,
          0.24668510615709927,
          0.24935777327874842,
          0.24953956789398163,
          0.2513187178856926,
          0.2520246024926468,
          0.25365669495054305,
          0.2536978170627803,
          0.25385223583919414,
          0.2544840128837852,
          0.25454718005255006,
          0.2550556837451859,
          0.2558647912217117,
          0.2568379982539935,
          0.25722181897165536,
          0.2574965801107881,
          0.2583353318713162,
          0.29320872002283754,
          0.293340366797605,
          0.2938287142528313,
          0.2949757525530672,
          0.2962044100061925,
          0.2965192137767598,
          0.29704537734322783,
          0.2970808141020267,
          0.2987916857238238,
          0.2996275670681115,
          0.30159070050391956,
          0.3021890613106365,
          0.30242599514438956,
          0.3028568042578611,
          0.30300782556886635,
          0.30307303133940977,
          0.3055099939827719,
          0.3079467105584891,
          0.30798103847216296,
          0.3093402021815271,
          0.3402980474644892,
          0.34171053520561906,
          0.3417621853732578,
          0.3434912270917094,
          0.34598486774595905,
          0.3474655136060842,
          0.34753613162919966,
          0.3494572755097774,
          0.3496418819362267,
          0.34990508983501045,
          0.35069160945510275,
          0.3517274534182245,
          0.3523358975817719,
          0.353800540670663,
          0.3542834398620669,
          0.3544061045650774,
          0.3566021141114097,
          0.35783651981280573,
          0.35856192022255423,
          0.3595623151443776,
          0.3903127330647603,
          0.39126440828173076,
          0.39143655388833765,
          0.39201428435367247,
          0.3930600157681859,
          0.3951661577282004,
          0.3957285266491855,
          0.39577298449354664,
          0.3959347122088956,
          0.3985454837941857,
          0.39908804859078684,
          0.3991961913872427,
          0.40022719489694836,
          0.400980875673985,
          0.40159971421904367,
          0.4030373635651305,
          0.40563672769839765,
          0.40694285218428944,
          0.4070986528484287,
          0.4082805595981729,
          0.4428533517984395,
          0.4444228158167127,
          0.4446978682624063,
          0.44535542896103186,
          0.44549310772724043,
          0.44560195318379164,
          0.4471823058496084,
          0.4490975094233512,
          0.45052752242798666,
          0.4514219140679462,
          0.45245237262925975,
          0.45370605449252094,
          0.45389460102478557,
          0.45456468843367603,
          0.45537228963063375,
          0.4565434792299323,
          0.4582432337430164,
          0.4582528889805812,
          0.45833455849430366,
          0.45880693511798026,
          0.49003064940128443,
          0.49142208771546014,
          0.4944490466774934,
          0.4945694485941631,
          0.49488363024452364,
          0.4982194910172072,
          0.49869506118405227,
          0.4988422041510008,
          0.4992361347331426,
          0.49939530220355954,
          0.499830514831266,
          0.5001179514432458,
          0.5051063559378068,
          0.5058887202156748,
          0.5066703226637891,
          0.50697630255029,
          0.5074542587493737,
          0.5077178953610276,
          0.5077563037678754,
          0.5083282884515969,
          0.5404386291199302,
          0.540791211398644,
          0.5421894174641851,
          0.5429479138394925,
          0.5448652878768931,
          0.5453076007301972,
          0.5454225870119147,
          0.5454679147601807,
          0.5474532371892451,
          0.5507813535040492,
          0.5518902048368854,
          0.5536469312262651,
          0.5539966851349797,
          0.5543154288051129,
          0.5543222659375462,
          0.5554004322928454,
          0.55612497803389,
          0.5568093430503516,
          0.5569625553249351,
          0.5588503816623218,
          0.5921385033884824,
          0.5947048462978558,
          0.5960018704712744,
          0.5964754573031831,
          0.5967290994087243,
          0.5971056952094121,
          0.597574933977687,
          0.598245109598831,
          0.5989953483379351,
          0.6030044516103483,
          0.6036235226217775,
          0.6052122048543043,
          0.6055755277724163,
          0.6062495474872629,
          0.606288616162232,
          0.6073341798683024,
          0.6073940788196399,
          0.6093444550232446,
          0.6093456038646994,
          0.6098810559525103,
          0.6402705762224992,
          0.6423276158637061,
          0.6426191951726498,
          0.6435991110286754,
          0.6441891265077586,
          0.6448487043894955,
          0.646808908344566,
          0.647709946296436,
          0.6481222118112628,
          0.6488108644793089,
          0.6508644499400469,
          0.6526596033855889,
          0.6527356175798845,
          0.6534691013462386,
          0.6539676988483543,
          0.6569369002305729,
          0.6572484121916017,
          0.6580178442773514,
          0.6596082277435206,
          0.6597087857662871,
          0.6903697361628423,
          0.6915439586587716,
          0.6923214622549295,
          0.69413940616884,
          0.6943927391612031,
          0.6954387874600293,
          0.6958385797019577,
          0.6975423304557471,
          0.6984934258432561,
          0.6988732835235394,
          0.7008307104511818,
          0.7009420281639229,
          0.7024982641545587,
          0.7025835153972825,
          0.7046901074178482,
          0.7050716828867906,
          0.7064045257695469,
          0.7067039117455746,
          0.7070970130270255,
          0.7083675908304656,
          0.7403733569323022,
          0.741069970294478,
          0.7465874684458158,
          0.7471824366733574,
          0.7481868780201915,
          0.7483675372701922,
          0.7488750404657694,
          0.7489735944136177,
          0.7497298442523056,
          0.7508074091710065,
          0.7519508605823282,
          0.7523319981978398,
          0.7524953809755268,
          0.7548053774067203,
          0.7549789183995246,
          0.7555932774440048,
          0.7559516712403159,
          0.7585374445209899,
          0.7593139065615863,
          0.7596523943218745,
          0.7901096569234815,
          0.7902798673086412,
          0.7915205940584836,
          0.7920160124696941,
          0.7922393314873026,
          0.7922922069724054,
          0.7928300846095141,
          0.7931707940245789,
          0.7932351578381316,
          0.7963965114575156,
          0.8009355400242026,
          0.802550607634293,
          0.8027590583072831,
          0.8037503427426272,
          0.80655718807846,
          0.806827515288635,
          0.8071611512268256,
          0.8073205337534599,
          0.8075871060018719,
          0.8099630357428003,
          0.8407021645025358,
          0.8408652060059743,
          0.8412515596239194,
          0.8413645751890443,
          0.8432118612168101,
          0.846015254660098,
          0.8462607745626957,
          0.8464746085372657,
          0.8486575422501904,
          0.8500852744613826,
          0.8504729123469128,
          0.8508778595993645,
          0.8531420127992487,
          0.8539501671804948,
          0.8542310903246454,
          0.8549957548632063,
          0.8576081290655826,
          0.858116058940048,
          0.8595928098626907,
          0.8596589509661562,
          0.890977645073005,
          0.8923364240400186,
          0.8925825598348034,
          0.8931771781852974,
          0.8952287299089956,
          0.8963686635664362,
          0.896512738673635,
          0.9002602263369016,
          0.9021731311319932,
          0.9022423277273289,
          0.9023738608361581,
          0.9029100088790747,
          0.903568587225066,
          0.9038060140609432,
          0.9046835864729561,
          0.9053882700472823,
          0.906697978830462,
          0.9073084912689492,
          0.9077143663852536,
          0.909621408730236,
          0.9431073273296299,
          0.9440862509843232,
          0.9448884779125827,
          0.9462303695618709,
          0.946893011641558,
          0.9473597920841521,
          0.9475751987313247,
          0.947725923723733,
          0.9502682555110243,
          0.9509837421252855,
          0.9510615963647395,
          0.9510929692744003,
          0.9511689505693317,
          0.9513139011008551,
          0.9529982507407964,
          0.9545717589922667,
          0.9549784147682034,
          0.955630201309466,
          0.9593524475084466,
          0.9594642703863833,
          0.9901013364859743,
          0.9901047726002619,
          0.9919246400358378,
          0.9925628084214292,
          0.9937558563698928,
          0.9965120425202276,
          0.9990092088462144,
          0.9998805961593955,
          1.0007653080817969,
          1.0012932304479123,
          1.0041637474071483,
          1.0062142396820664,
          1.00742399638558,
          1.007714426669212,
          1.0077927727172897,
          1.0079517108883442,
          1.008504030951314,
          1.008908867304216,
          1.0091485415554222,
          1.009907158093765
         ],
         "xaxis": "x",
         "y": [
          6.403168905960738,
          6.3986997036429525,
          6.383452053186746,
          6.375266373308639,
          6.373956631400279,
          6.368973916106371,
          6.368962394943127,
          6.3651740739756555,
          6.359126723490326,
          6.354812068138804,
          6.348727034842156,
          6.344299885966419,
          6.339141653077318,
          6.330939438232833,
          6.326757758908515,
          6.326688728232791,
          6.325579668891615,
          6.314611170173826,
          6.2977200857741975,
          6.29160490633932,
          6.112403421113446,
          6.112297151175204,
          6.10660311329438,
          6.099830676038167,
          6.092807060770417,
          6.079626245739579,
          6.078993105629284,
          6.0759840853979,
          6.061375143988649,
          6.056191702041842,
          6.04599773278085,
          6.044254086019635,
          6.043135801491664,
          6.038130309107335,
          6.029485157953781,
          6.029220612578576,
          6.02128773902478,
          6.018296671022072,
          6.014069062866972,
          6.012181884519799,
          5.840810683743272,
          5.838626491263785,
          5.837140255989898,
          5.827774274086199,
          5.82551267344985,
          5.823892249077153,
          5.822655282243014,
          5.817236086223161,
          5.8172269901926725,
          5.81435747306023,
          5.801893592259098,
          5.785370695341207,
          5.783399577268159,
          5.781847254765973,
          5.7794871667558905,
          5.773864107314418,
          5.772370506734123,
          5.768121990484074,
          5.7679318744331995,
          5.756928438233589,
          5.587569029472794,
          5.583539235135322,
          5.583452999219291,
          5.582941574001144,
          5.582558736039965,
          5.574101045388158,
          5.572206643461725,
          5.570660038017655,
          5.570347988795655,
          5.565924353576453,
          5.565484839900228,
          5.560532885617164,
          5.559097971303134,
          5.550226223509434,
          5.548901074939251,
          5.535870838542201,
          5.527467524576481,
          5.523597266547485,
          5.521736027811678,
          5.506365564897804,
          5.363839291989427,
          5.354629112374898,
          5.352250459255241,
          5.346326679396773,
          5.34474633178672,
          5.335657561194397,
          5.3338220101068154,
          5.33330259471858,
          5.328717218777579,
          5.327725127620868,
          5.326548017713913,
          5.317151038041072,
          5.315500105047108,
          5.3133281109391115,
          5.313033410060686,
          5.301566008206774,
          5.295505350758929,
          5.291453205366561,
          5.287389802778586,
          5.284886816303791,
          5.13279937550337,
          5.125439097729296,
          5.123894295355896,
          5.115702820673405,
          5.108855273758571,
          5.097259893796324,
          5.096472944108206,
          5.088783520594862,
          5.085738892046122,
          5.0787130654013115,
          5.078536293885663,
          5.07787260549371,
          5.075159080601852,
          5.0748879367185005,
          5.072706284359815,
          5.069238975861418,
          5.065075115972551,
          5.063434977104775,
          5.062261586345053,
          5.058683359755677,
          4.916507881283214,
          4.916003710237913,
          4.914136315990647,
          4.9097680420046,
          4.90511749284619,
          4.90393080575368,
          4.901951885878446,
          4.901818811410808,
          4.895425347416765,
          4.892324514249215,
          4.885103245991228,
          4.8829198181312385,
          4.882057571352634,
          4.8804931967140845,
          4.879945853010172,
          4.879709698704658,
          4.870958892443027,
          4.862361188485505,
          4.8622411945226105,
          4.857516089148954,
          4.800806464843704,
          4.79775964376047,
          4.7976236273426505,
          4.795277120143384,
          4.792866569132597,
          4.79139833955973,
          4.791392041091427,
          4.788338145833211,
          4.7881510904035895,
          4.788139645360467,
          4.7876763828766675,
          4.7853055436993905,
          4.785307537980321,
          4.784454719165041,
          4.784185905617712,
          4.783898014235803,
          4.780401751467306,
          4.777948760103218,
          4.77678413783268,
          4.774553481168983,
          4.7550489047541795,
          4.755009614107725,
          4.754781130103025,
          4.754704897707889,
          4.754587005080479,
          4.755969630216474,
          4.755310340708028,
          4.755255985646649,
          4.755260026160495,
          4.754106685781074,
          4.753491826927926,
          4.753370532520989,
          4.75232400599803,
          4.752193886678926,
          4.751542380039605,
          4.752023891982872,
          4.751685710423076,
          4.751387441490995,
          4.751246525848226,
          4.7512994242618305,
          4.758105385536806,
          4.758874985307681,
          4.758904465687464,
          4.759294364084611,
          4.759334263526708,
          4.759348400976291,
          4.7599173818073215,
          4.760987263790419,
          4.761690265732221,
          4.762420086637702,
          4.7631456659819005,
          4.763945868721179,
          4.7640953065708835,
          4.764422378092284,
          4.7649895441176415,
          4.765764898584517,
          4.7665070931732245,
          4.766514572503254,
          4.766562059144354,
          4.766747987077803,
          4.788895712259707,
          4.789712584014386,
          4.791815074638532,
          4.791902996594366,
          4.792136317512772,
          4.7942436454076685,
          4.794498035313774,
          4.794576934939079,
          4.794955002446285,
          4.795089208417488,
          4.795383826740546,
          4.79563241907178,
          4.79960150290852,
          4.8001880936486945,
          4.800583389271892,
          4.800756783604087,
          4.801103062193535,
          4.801360253686535,
          4.801397751896188,
          4.801957013401871,
          4.824847393352561,
          4.824972696308658,
          4.825613846621525,
          4.826164909534938,
          4.82758399790958,
          4.827731732330228,
          4.827769965551303,
          4.827785017290969,
          4.828880372125751,
          4.830415695763849,
          4.83121608171764,
          4.832524031631552,
          4.832654411353944,
          4.8328573121623135,
          4.832863415769018,
          4.833611559777042,
          4.833931700125208,
          4.834392978939594,
          4.83443565512545,
          4.8359582984508815,
          4.852027886470855,
          4.852872970926746,
          4.853439179980777,
          4.85345412561254,
          4.853632870035704,
          4.853897533969594,
          4.85422613021512,
          4.854440271893306,
          4.85481635895651,
          4.856196016571279,
          4.856533649693564,
          4.856798630721766,
          4.856776855995058,
          4.856969596011411,
          4.856966968009355,
          4.857193258605184,
          4.857188656139223,
          4.857381632372541,
          4.857382357604124,
          4.857719217101788,
          4.863032500453674,
          4.862768311359284,
          4.862824003898181,
          4.8625823653949105,
          4.862716874132494,
          4.862591818144109,
          4.8620648738625905,
          4.86171871095487,
          4.861617290326591,
          4.861868354570332,
          4.861943240451118,
          4.861680710419039,
          4.8616496734137025,
          4.861438933773838,
          4.861233959918672,
          4.8613151839059405,
          4.861418712722418,
          4.861621229092927,
          4.861738938225064,
          4.861771409076098,
          4.859989518680869,
          4.85968189194398,
          4.859496544579512,
          4.859120388485515,
          4.8590743292521665,
          4.858900549176814,
          4.85884108170206,
          4.858630350393254,
          4.858542457375195,
          4.858513232153303,
          4.858414959456334,
          4.858411969396507,
          4.858398839751164,
          4.858399650287815,
          4.858468983750173,
          4.858491511962403,
          4.858593581852379,
          4.858621438869683,
          4.858660723331359,
          4.858808435789312,
          4.8706848290236335,
          4.871074806777151,
          4.874302864426328,
          4.874664859940717,
          4.875281745917354,
          4.875393453512522,
          4.875708470684478,
          4.875769850747747,
          4.876243049126931,
          4.876923922665523,
          4.877654733871504,
          4.877900189582704,
          4.878005690227586,
          4.879514869392988,
          4.879629538299417,
          4.880036887007828,
          4.880275519202781,
          4.882018352424568,
          4.882548694013011,
          4.882780866088309,
          4.905480127773615,
          4.905614193472184,
          4.906593047214349,
          4.9069846648661155,
          4.907161332538465,
          4.907203174832155,
          4.9076290862667795,
          4.907899123614312,
          4.907950158305456,
          4.91046491727643,
          4.914100634907373,
          4.915400523564782,
          4.915568511403972,
          4.91636802241541,
          4.918637292514272,
          4.918856242232659,
          4.919126558931287,
          4.919255727797359,
          4.919471816396593,
          4.9214003833433075,
          4.94655205430612,
          4.9466856064352385,
          4.947002060292922,
          4.947094623503743,
          4.948607233061239,
          4.950901147354259,
          4.951101940776218,
          4.951276805141266,
          4.953061045709161,
          4.9542270879642025,
          4.9545435381876874,
          4.954874053231604,
          4.956720735451484,
          4.957379318108663,
          4.957608175646841,
          4.958230923188918,
          4.960356204597841,
          4.960769007972173,
          4.961968387224713,
          4.962022077147652,
          4.987187155665223,
          4.988268645297863,
          4.98846447677242,
          4.988937476783048,
          4.990568451267867,
          4.991474079690796,
          4.991588511740323,
          4.994562751926669,
          4.99607938094543,
          4.996134223912618,
          4.99623846921087,
          4.996663340881105,
          4.9971851327173535,
          4.997373219978949,
          4.998068308267432,
          4.998626329877834,
          4.999663166467534,
          5.000146359698901,
          5.000467551008746,
          5.00197630917412,
          5.028568060193129,
          5.029354250732598,
          5.029999149969511,
          5.031079167948357,
          5.03161310930874,
          5.031989481809683,
          5.032163239109867,
          5.032284848211647,
          5.034339521288508,
          5.034918975187076,
          5.034982060229551,
          5.035007483438583,
          5.035069059686717,
          5.0351865468131525,
          5.03655348181497,
          5.037833467869297,
          5.038164763221522,
          5.03869620397263,
          5.041742307273412,
          5.041834128325841,
          5.067921789816833,
          5.0679248432427,
          5.069546810819503,
          5.070117870007067,
          5.071188697389546,
          5.073678969612422,
          5.075955565301454,
          5.076754653195015,
          5.077568473222132,
          5.078055310183695,
          5.080718591083802,
          5.082638077747339,
          5.083777336232023,
          5.08405160083142,
          5.084125636600401,
          5.084275896675835,
          5.0847987478959125,
          5.085182663398553,
          5.085410222778754,
          5.086131822042585
         ],
         "yaxis": "y"
        }
       ],
       "layout": {
        "coloraxis": {
         "colorbar": {
          "title": {
           "text": "reward_patch_dim"
          }
         },
         "colorscale": [
          [
           0,
           "#0d0887"
          ],
          [
           0.1111111111111111,
           "#46039f"
          ],
          [
           0.2222222222222222,
           "#7201a8"
          ],
          [
           0.3333333333333333,
           "#9c179e"
          ],
          [
           0.4444444444444444,
           "#bd3786"
          ],
          [
           0.5555555555555556,
           "#d8576b"
          ],
          [
           0.6666666666666666,
           "#ed7953"
          ],
          [
           0.7777777777777778,
           "#fb9f3a"
          ],
          [
           0.8888888888888888,
           "#fdca26"
          ],
          [
           1,
           "#f0f921"
          ]
         ]
        },
        "legend": {
         "tracegroupgap": 0
        },
        "template": {
         "data": {
          "bar": [
           {
            "error_x": {
             "color": "#f2f5fa"
            },
            "error_y": {
             "color": "#f2f5fa"
            },
            "marker": {
             "line": {
              "color": "rgb(17,17,17)",
              "width": 0.5
             },
             "pattern": {
              "fillmode": "overlay",
              "size": 10,
              "solidity": 0.2
             }
            },
            "type": "bar"
           }
          ],
          "barpolar": [
           {
            "marker": {
             "line": {
              "color": "rgb(17,17,17)",
              "width": 0.5
             },
             "pattern": {
              "fillmode": "overlay",
              "size": 10,
              "solidity": 0.2
             }
            },
            "type": "barpolar"
           }
          ],
          "carpet": [
           {
            "aaxis": {
             "endlinecolor": "#A2B1C6",
             "gridcolor": "#506784",
             "linecolor": "#506784",
             "minorgridcolor": "#506784",
             "startlinecolor": "#A2B1C6"
            },
            "baxis": {
             "endlinecolor": "#A2B1C6",
             "gridcolor": "#506784",
             "linecolor": "#506784",
             "minorgridcolor": "#506784",
             "startlinecolor": "#A2B1C6"
            },
            "type": "carpet"
           }
          ],
          "choropleth": [
           {
            "colorbar": {
             "outlinewidth": 0,
             "ticks": ""
            },
            "type": "choropleth"
           }
          ],
          "contour": [
           {
            "colorbar": {
             "outlinewidth": 0,
             "ticks": ""
            },
            "colorscale": [
             [
              0,
              "#0d0887"
             ],
             [
              0.1111111111111111,
              "#46039f"
             ],
             [
              0.2222222222222222,
              "#7201a8"
             ],
             [
              0.3333333333333333,
              "#9c179e"
             ],
             [
              0.4444444444444444,
              "#bd3786"
             ],
             [
              0.5555555555555556,
              "#d8576b"
             ],
             [
              0.6666666666666666,
              "#ed7953"
             ],
             [
              0.7777777777777778,
              "#fb9f3a"
             ],
             [
              0.8888888888888888,
              "#fdca26"
             ],
             [
              1,
              "#f0f921"
             ]
            ],
            "type": "contour"
           }
          ],
          "contourcarpet": [
           {
            "colorbar": {
             "outlinewidth": 0,
             "ticks": ""
            },
            "type": "contourcarpet"
           }
          ],
          "heatmap": [
           {
            "colorbar": {
             "outlinewidth": 0,
             "ticks": ""
            },
            "colorscale": [
             [
              0,
              "#0d0887"
             ],
             [
              0.1111111111111111,
              "#46039f"
             ],
             [
              0.2222222222222222,
              "#7201a8"
             ],
             [
              0.3333333333333333,
              "#9c179e"
             ],
             [
              0.4444444444444444,
              "#bd3786"
             ],
             [
              0.5555555555555556,
              "#d8576b"
             ],
             [
              0.6666666666666666,
              "#ed7953"
             ],
             [
              0.7777777777777778,
              "#fb9f3a"
             ],
             [
              0.8888888888888888,
              "#fdca26"
             ],
             [
              1,
              "#f0f921"
             ]
            ],
            "type": "heatmap"
           }
          ],
          "heatmapgl": [
           {
            "colorbar": {
             "outlinewidth": 0,
             "ticks": ""
            },
            "colorscale": [
             [
              0,
              "#0d0887"
             ],
             [
              0.1111111111111111,
              "#46039f"
             ],
             [
              0.2222222222222222,
              "#7201a8"
             ],
             [
              0.3333333333333333,
              "#9c179e"
             ],
             [
              0.4444444444444444,
              "#bd3786"
             ],
             [
              0.5555555555555556,
              "#d8576b"
             ],
             [
              0.6666666666666666,
              "#ed7953"
             ],
             [
              0.7777777777777778,
              "#fb9f3a"
             ],
             [
              0.8888888888888888,
              "#fdca26"
             ],
             [
              1,
              "#f0f921"
             ]
            ],
            "type": "heatmapgl"
           }
          ],
          "histogram": [
           {
            "marker": {
             "pattern": {
              "fillmode": "overlay",
              "size": 10,
              "solidity": 0.2
             }
            },
            "type": "histogram"
           }
          ],
          "histogram2d": [
           {
            "colorbar": {
             "outlinewidth": 0,
             "ticks": ""
            },
            "colorscale": [
             [
              0,
              "#0d0887"
             ],
             [
              0.1111111111111111,
              "#46039f"
             ],
             [
              0.2222222222222222,
              "#7201a8"
             ],
             [
              0.3333333333333333,
              "#9c179e"
             ],
             [
              0.4444444444444444,
              "#bd3786"
             ],
             [
              0.5555555555555556,
              "#d8576b"
             ],
             [
              0.6666666666666666,
              "#ed7953"
             ],
             [
              0.7777777777777778,
              "#fb9f3a"
             ],
             [
              0.8888888888888888,
              "#fdca26"
             ],
             [
              1,
              "#f0f921"
             ]
            ],
            "type": "histogram2d"
           }
          ],
          "histogram2dcontour": [
           {
            "colorbar": {
             "outlinewidth": 0,
             "ticks": ""
            },
            "colorscale": [
             [
              0,
              "#0d0887"
             ],
             [
              0.1111111111111111,
              "#46039f"
             ],
             [
              0.2222222222222222,
              "#7201a8"
             ],
             [
              0.3333333333333333,
              "#9c179e"
             ],
             [
              0.4444444444444444,
              "#bd3786"
             ],
             [
              0.5555555555555556,
              "#d8576b"
             ],
             [
              0.6666666666666666,
              "#ed7953"
             ],
             [
              0.7777777777777778,
              "#fb9f3a"
             ],
             [
              0.8888888888888888,
              "#fdca26"
             ],
             [
              1,
              "#f0f921"
             ]
            ],
            "type": "histogram2dcontour"
           }
          ],
          "mesh3d": [
           {
            "colorbar": {
             "outlinewidth": 0,
             "ticks": ""
            },
            "type": "mesh3d"
           }
          ],
          "parcoords": [
           {
            "line": {
             "colorbar": {
              "outlinewidth": 0,
              "ticks": ""
             }
            },
            "type": "parcoords"
           }
          ],
          "pie": [
           {
            "automargin": true,
            "type": "pie"
           }
          ],
          "scatter": [
           {
            "marker": {
             "line": {
              "color": "#283442"
             }
            },
            "type": "scatter"
           }
          ],
          "scatter3d": [
           {
            "line": {
             "colorbar": {
              "outlinewidth": 0,
              "ticks": ""
             }
            },
            "marker": {
             "colorbar": {
              "outlinewidth": 0,
              "ticks": ""
             }
            },
            "type": "scatter3d"
           }
          ],
          "scattercarpet": [
           {
            "marker": {
             "colorbar": {
              "outlinewidth": 0,
              "ticks": ""
             }
            },
            "type": "scattercarpet"
           }
          ],
          "scattergeo": [
           {
            "marker": {
             "colorbar": {
              "outlinewidth": 0,
              "ticks": ""
             }
            },
            "type": "scattergeo"
           }
          ],
          "scattergl": [
           {
            "marker": {
             "line": {
              "color": "#283442"
             }
            },
            "type": "scattergl"
           }
          ],
          "scattermapbox": [
           {
            "marker": {
             "colorbar": {
              "outlinewidth": 0,
              "ticks": ""
             }
            },
            "type": "scattermapbox"
           }
          ],
          "scatterpolar": [
           {
            "marker": {
             "colorbar": {
              "outlinewidth": 0,
              "ticks": ""
             }
            },
            "type": "scatterpolar"
           }
          ],
          "scatterpolargl": [
           {
            "marker": {
             "colorbar": {
              "outlinewidth": 0,
              "ticks": ""
             }
            },
            "type": "scatterpolargl"
           }
          ],
          "scatterternary": [
           {
            "marker": {
             "colorbar": {
              "outlinewidth": 0,
              "ticks": ""
             }
            },
            "type": "scatterternary"
           }
          ],
          "surface": [
           {
            "colorbar": {
             "outlinewidth": 0,
             "ticks": ""
            },
            "colorscale": [
             [
              0,
              "#0d0887"
             ],
             [
              0.1111111111111111,
              "#46039f"
             ],
             [
              0.2222222222222222,
              "#7201a8"
             ],
             [
              0.3333333333333333,
              "#9c179e"
             ],
             [
              0.4444444444444444,
              "#bd3786"
             ],
             [
              0.5555555555555556,
              "#d8576b"
             ],
             [
              0.6666666666666666,
              "#ed7953"
             ],
             [
              0.7777777777777778,
              "#fb9f3a"
             ],
             [
              0.8888888888888888,
              "#fdca26"
             ],
             [
              1,
              "#f0f921"
             ]
            ],
            "type": "surface"
           }
          ],
          "table": [
           {
            "cells": {
             "fill": {
              "color": "#506784"
             },
             "line": {
              "color": "rgb(17,17,17)"
             }
            },
            "header": {
             "fill": {
              "color": "#2a3f5f"
             },
             "line": {
              "color": "rgb(17,17,17)"
             }
            },
            "type": "table"
           }
          ]
         },
         "layout": {
          "annotationdefaults": {
           "arrowcolor": "#f2f5fa",
           "arrowhead": 0,
           "arrowwidth": 1
          },
          "autotypenumbers": "strict",
          "coloraxis": {
           "colorbar": {
            "outlinewidth": 0,
            "ticks": ""
           }
          },
          "colorscale": {
           "diverging": [
            [
             0,
             "#8e0152"
            ],
            [
             0.1,
             "#c51b7d"
            ],
            [
             0.2,
             "#de77ae"
            ],
            [
             0.3,
             "#f1b6da"
            ],
            [
             0.4,
             "#fde0ef"
            ],
            [
             0.5,
             "#f7f7f7"
            ],
            [
             0.6,
             "#e6f5d0"
            ],
            [
             0.7,
             "#b8e186"
            ],
            [
             0.8,
             "#7fbc41"
            ],
            [
             0.9,
             "#4d9221"
            ],
            [
             1,
             "#276419"
            ]
           ],
           "sequential": [
            [
             0,
             "#0d0887"
            ],
            [
             0.1111111111111111,
             "#46039f"
            ],
            [
             0.2222222222222222,
             "#7201a8"
            ],
            [
             0.3333333333333333,
             "#9c179e"
            ],
            [
             0.4444444444444444,
             "#bd3786"
            ],
            [
             0.5555555555555556,
             "#d8576b"
            ],
            [
             0.6666666666666666,
             "#ed7953"
            ],
            [
             0.7777777777777778,
             "#fb9f3a"
            ],
            [
             0.8888888888888888,
             "#fdca26"
            ],
            [
             1,
             "#f0f921"
            ]
           ],
           "sequentialminus": [
            [
             0,
             "#0d0887"
            ],
            [
             0.1111111111111111,
             "#46039f"
            ],
            [
             0.2222222222222222,
             "#7201a8"
            ],
            [
             0.3333333333333333,
             "#9c179e"
            ],
            [
             0.4444444444444444,
             "#bd3786"
            ],
            [
             0.5555555555555556,
             "#d8576b"
            ],
            [
             0.6666666666666666,
             "#ed7953"
            ],
            [
             0.7777777777777778,
             "#fb9f3a"
            ],
            [
             0.8888888888888888,
             "#fdca26"
            ],
            [
             1,
             "#f0f921"
            ]
           ]
          },
          "colorway": [
           "#636efa",
           "#EF553B",
           "#00cc96",
           "#ab63fa",
           "#FFA15A",
           "#19d3f3",
           "#FF6692",
           "#B6E880",
           "#FF97FF",
           "#FECB52"
          ],
          "font": {
           "color": "#f2f5fa"
          },
          "geo": {
           "bgcolor": "rgb(17,17,17)",
           "lakecolor": "rgb(17,17,17)",
           "landcolor": "rgb(17,17,17)",
           "showlakes": true,
           "showland": true,
           "subunitcolor": "#506784"
          },
          "hoverlabel": {
           "align": "left"
          },
          "hovermode": "closest",
          "mapbox": {
           "style": "dark"
          },
          "paper_bgcolor": "rgb(17,17,17)",
          "plot_bgcolor": "rgb(17,17,17)",
          "polar": {
           "angularaxis": {
            "gridcolor": "#506784",
            "linecolor": "#506784",
            "ticks": ""
           },
           "bgcolor": "rgb(17,17,17)",
           "radialaxis": {
            "gridcolor": "#506784",
            "linecolor": "#506784",
            "ticks": ""
           }
          },
          "scene": {
           "xaxis": {
            "backgroundcolor": "rgb(17,17,17)",
            "gridcolor": "#506784",
            "gridwidth": 2,
            "linecolor": "#506784",
            "showbackground": true,
            "ticks": "",
            "zerolinecolor": "#C8D4E3"
           },
           "yaxis": {
            "backgroundcolor": "rgb(17,17,17)",
            "gridcolor": "#506784",
            "gridwidth": 2,
            "linecolor": "#506784",
            "showbackground": true,
            "ticks": "",
            "zerolinecolor": "#C8D4E3"
           },
           "zaxis": {
            "backgroundcolor": "rgb(17,17,17)",
            "gridcolor": "#506784",
            "gridwidth": 2,
            "linecolor": "#506784",
            "showbackground": true,
            "ticks": "",
            "zerolinecolor": "#C8D4E3"
           }
          },
          "shapedefaults": {
           "line": {
            "color": "#f2f5fa"
           }
          },
          "sliderdefaults": {
           "bgcolor": "#C8D4E3",
           "bordercolor": "rgb(17,17,17)",
           "borderwidth": 1,
           "tickwidth": 0
          },
          "ternary": {
           "aaxis": {
            "gridcolor": "#506784",
            "linecolor": "#506784",
            "ticks": ""
           },
           "baxis": {
            "gridcolor": "#506784",
            "linecolor": "#506784",
            "ticks": ""
           },
           "bgcolor": "rgb(17,17,17)",
           "caxis": {
            "gridcolor": "#506784",
            "linecolor": "#506784",
            "ticks": ""
           }
          },
          "title": {
           "x": 0.05
          },
          "updatemenudefaults": {
           "bgcolor": "#506784",
           "borderwidth": 0
          },
          "xaxis": {
           "automargin": true,
           "gridcolor": "#283442",
           "linecolor": "#506784",
           "ticks": "",
           "title": {
            "standoff": 15
           },
           "zerolinecolor": "#283442",
           "zerolinewidth": 2
          },
          "yaxis": {
           "automargin": true,
           "gridcolor": "#283442",
           "linecolor": "#506784",
           "ticks": "",
           "title": {
            "standoff": 15
           },
           "zerolinecolor": "#283442",
           "zerolinewidth": 2
          }
         }
        },
        "title": {
         "text": "Trust vs time to first food"
        },
        "xaxis": {
         "anchor": "y",
         "domain": [
          0,
          1
         ],
         "title": {
          "text": "c_trust_jittered"
         }
        },
        "yaxis": {
         "anchor": "x",
         "domain": [
          0,
          1
         ],
         "range": [
          0,
          25
         ],
         "title": {
          "text": "time to first food"
         }
        }
       }
      }
     },
     "metadata": {},
     "output_type": "display_data"
    }
   ],
   "source": [
    "# let's take a closer look\n",
    "\n",
    "fig.update_yaxes(range=[0, 25])\n",
    "fig.show()"
   ]
  },
  {
   "cell_type": "code",
   "execution_count": 22,
   "metadata": {},
   "outputs": [
    {
     "data": {
      "text/plain": [
       "(380, 8)"
      ]
     },
     "execution_count": 22,
     "metadata": {},
     "output_type": "execute_result"
    }
   ],
   "source": [
    "# regular_impactDF = impactDF[(impactDF[\"c_trust\"] != 0) & (impactDF[\"c_trust\"] != 1)]\n",
    "# regular_impactDF.shape\n"
   ]
  },
  {
   "cell_type": "code",
   "execution_count": 19,
   "metadata": {},
   "outputs": [
    {
     "name": "stdout",
     "output_type": "stream",
     "text": [
      "(120, 8)\n"
     ]
    }
   ],
   "source": [
    "restriction = (impactDF[\"c_trust\"] >= 0.0) & (impactDF[\"c_trust\"] < 0.3)\n",
    "impactDF = impactDF[restriction]\n",
    "print(impactDF.shape)\n",
    "\n",
    "trust = torch.tensor(impactDF[\"c_trust\"].values.astype(float))\n",
    "patch = torch.tensor(impactDF[\"reward_patch_dim\"].values.astype(float))\n",
    "time = torch.tensor(impactDF[\"time to first food\"].values.astype(float))\n"
   ]
  },
  {
   "cell_type": "code",
   "execution_count": 20,
   "metadata": {},
   "outputs": [],
   "source": [
    "def model(trust, patch, time):\n",
    "    w_trust = pyro.sample(\"weight_trust\", dist.Normal(0.0, 1.0))\n",
    "    w_patch = pyro.sample(\"weight_patch\", dist.Normal(0.0, 1.0))\n",
    "    bias = pyro.sample(\"bias\", dist.Normal(5.0, 4.0))\n",
    "\n",
    "    sd = pyro.sample(\"sd\", dist.Exponential(0.5))\n",
    "    mu = w_trust * trust + w_patch * patch + bias\n",
    "\n",
    "    #    considered this interaction\n",
    "    #    but there are no good reasons to think the interaction coefficient is non-null\n",
    "    #    w_tp = pyro.sample(\"interaction_trust_patch\", dist.Normal(0.0, 1.0))\n",
    "    #    mu = w_trust * trust + w_patch * patch + w_tp * trust * patch + bias\n",
    "\n",
    "    with pyro.plate(\"data\", len(time)):\n",
    "        pyro.sample(\"obs\", dist.Normal(mu, sd), obs=time)\n"
   ]
  },
  {
   "cell_type": "code",
   "execution_count": 21,
   "metadata": {},
   "outputs": [
    {
     "name": "stdout",
     "output_type": "stream",
     "text": [
      "Iteration 100/2000, Loss: 466.67\n",
      "Iteration 200/2000, Loss: 428.14\n",
      "Iteration 300/2000, Loss: 423.33\n",
      "Iteration 400/2000, Loss: 424.95\n",
      "Iteration 500/2000, Loss: 423.30\n",
      "Iteration 600/2000, Loss: 421.87\n",
      "Iteration 700/2000, Loss: 422.39\n",
      "Iteration 800/2000, Loss: 423.80\n",
      "Iteration 900/2000, Loss: 421.35\n",
      "Iteration 1000/2000, Loss: 421.68\n",
      "Iteration 1100/2000, Loss: 421.84\n",
      "Iteration 1200/2000, Loss: 422.33\n",
      "Iteration 1300/2000, Loss: 421.36\n",
      "Iteration 1400/2000, Loss: 421.84\n",
      "Iteration 1500/2000, Loss: 421.86\n",
      "Iteration 1600/2000, Loss: 421.20\n",
      "Iteration 1700/2000, Loss: 420.73\n",
      "Iteration 1800/2000, Loss: 421.35\n",
      "Iteration 1900/2000, Loss: 422.25\n",
      "Iteration 2000/2000, Loss: 422.35\n"
     ]
    }
   ],
   "source": [
    "guide = AutoMultivariateNormal(model)\n",
    "\n",
    "pyro.clear_param_store()\n",
    "svi = SVI(model, guide, Adam({\"lr\": 0.03}), loss=Trace_ELBO())\n",
    "\n",
    "num_iterations = 2000\n",
    "for i in range(num_iterations):\n",
    "    loss = svi.step(trust, patch, time)\n",
    "    if (i + 1) % 100 == 0:\n",
    "        print(f\"Iteration {i + 1}/{num_iterations}, Loss: {loss:.2f}\")\n"
   ]
  },
  {
   "cell_type": "code",
   "execution_count": 22,
   "metadata": {},
   "outputs": [],
   "source": [
    "predictive = Predictive(model, guide=guide, num_samples=1000)\n",
    "samples = predictive(trust, patch, time)\n"
   ]
  },
  {
   "cell_type": "code",
   "execution_count": 23,
   "metadata": {},
   "outputs": [
    {
     "name": "stdout",
     "output_type": "stream",
     "text": [
      "dict_keys(['weight_trust', 'weight_patch', 'bias', 'sd', 'obs'])\n",
      "torch.Size([1000, 120])\n",
      "torch.Size([120])\n"
     ]
    },
    {
     "data": {
      "application/vnd.plotly.v1+json": {
       "config": {
        "plotlyServerURL": "https://plot.ly"
       },
       "data": [
        {
         "alignmentgroup": "True",
         "bingroup": "x",
         "hovertemplate": "variable=0<br>value=%{x}<br>count=%{y}<extra></extra>",
         "legendgroup": "0",
         "marker": {
          "color": "#636efa",
          "pattern": {
           "shape": ""
          }
         },
         "name": "0",
         "offsetgroup": "0",
         "orientation": "v",
         "showlegend": true,
         "type": "histogram",
         "x": [
          8.233648943106333,
          7.566982276439667,
          -1.5441288346714437,
          -3.8774621680047776,
          0.17350533204608531,
          11.395727554268307,
          14.506838665379417,
          20.50683866537942,
          -1.4421938345697196,
          7.668917276541393,
          25.002250609874725,
          4.224472832096945,
          15.386551443258922,
          22.608773665481138,
          14.275440332147811,
          14.608773665481143,
          19.548630054420897,
          23.21529672108756,
          15.993074498865342,
          19.77085227664312,
          -4.50845519936747,
          -3.6195663104785814,
          -2.064010754923026,
          -2.6195663104785814,
          -0.4574876993166077,
          -5.346376588205496,
          0.5425123006833914,
          -2.9019321437610524,
          7.149035356289808,
          10.149035356289808,
          -4.4065201992657475,
          1.7045909118453633,
          -0.3555526992148845,
          12.755558411896226,
          -2.6888860325482185,
          -2.0222193658815524,
          -7.526807421386241,
          -5.193474088052908,
          -6.193474088052908,
          5.362081467502648,
          -3.9172260085079404,
          -4.472781564063496,
          -4.472781564063496,
          -4.361670452952385,
          -4.19959184179041,
          -1.1995918417904097,
          -3.977369619568188,
          3.911519269320701,
          -3.037513230628438,
          -2.8152910084062164,
          -5.593068786183993,
          2.406931213816007,
          -0.430990175022016,
          15.791232047200204,
          -5.653212397244241,
          3.0134542694224233,
          -7.491133786082267,
          -3.3800226749711566,
          -7.935578230526712,
          -4.268911563860045,
          1.3406698490182558,
          0.5628920712404781,
          -2.8815523732039665,
          -3.770441262092856,
          5.947192904624673,
          -1.3861404287086598,
          -4.8305848731531045,
          -2.8305848731531045,
          -0.7796173731022407,
          -3.1129507064355737,
          -3.7796173731022407,
          -4.890728484213351,
          -3.3953165397180447,
          -1.7286498730513777,
          -6.728649873051378,
          13.826905682504178,
          -5.344349039667183,
          -5.344349039667183,
          5.2112065158883745,
          -3.233237928556072,
          -1.401434293455547,
          -4.290323182344436,
          -3.8458787378999917,
          1.265232373211119,
          -3.7949112378491296,
          -3.6838001267380185,
          -2.7949112378491296,
          -3.1282445711824627,
          -4.299499293353822,
          -4.1883881822427105,
          -1.9661659600204882,
          -5.5217215155760435,
          -6.804087348858513,
          0.4181348733637087,
          -4.692976237747402,
          -6.804087348858513,
          -8.197564293252096,
          -8.308675404363209,
          -5.197564293252097,
          -6.53089762658543,
          -4.143538435929351,
          -3.3657606581515735,
          -4.03242732481824,
          -3.2546495470404624,
          -1.981459824767378,
          -4.648126491434045,
          -3.981459824767378,
          -4.425904269211822,
          -5.8193812136054035,
          -5.263825658049848,
          -4.8193812136054035,
          -0.8193812136054035,
          -3.546191491332319,
          -2.879524824665652,
          -5.546191491332319,
          -4.879524824665652,
          -4.161890657948123,
          -6.606335102392568,
          2.060331564274099,
          -7.273001769059235
         ],
         "xaxis": "x",
         "yaxis": "y"
        }
       ],
       "layout": {
        "barmode": "relative",
        "legend": {
         "title": {
          "text": "variable"
         },
         "tracegroupgap": 0
        },
        "margin": {
         "t": 60
        },
        "template": {
         "data": {
          "bar": [
           {
            "error_x": {
             "color": "#2a3f5f"
            },
            "error_y": {
             "color": "#2a3f5f"
            },
            "marker": {
             "line": {
              "color": "#E5ECF6",
              "width": 0.5
             },
             "pattern": {
              "fillmode": "overlay",
              "size": 10,
              "solidity": 0.2
             }
            },
            "type": "bar"
           }
          ],
          "barpolar": [
           {
            "marker": {
             "line": {
              "color": "#E5ECF6",
              "width": 0.5
             },
             "pattern": {
              "fillmode": "overlay",
              "size": 10,
              "solidity": 0.2
             }
            },
            "type": "barpolar"
           }
          ],
          "carpet": [
           {
            "aaxis": {
             "endlinecolor": "#2a3f5f",
             "gridcolor": "white",
             "linecolor": "white",
             "minorgridcolor": "white",
             "startlinecolor": "#2a3f5f"
            },
            "baxis": {
             "endlinecolor": "#2a3f5f",
             "gridcolor": "white",
             "linecolor": "white",
             "minorgridcolor": "white",
             "startlinecolor": "#2a3f5f"
            },
            "type": "carpet"
           }
          ],
          "choropleth": [
           {
            "colorbar": {
             "outlinewidth": 0,
             "ticks": ""
            },
            "type": "choropleth"
           }
          ],
          "contour": [
           {
            "colorbar": {
             "outlinewidth": 0,
             "ticks": ""
            },
            "colorscale": [
             [
              0,
              "#0d0887"
             ],
             [
              0.1111111111111111,
              "#46039f"
             ],
             [
              0.2222222222222222,
              "#7201a8"
             ],
             [
              0.3333333333333333,
              "#9c179e"
             ],
             [
              0.4444444444444444,
              "#bd3786"
             ],
             [
              0.5555555555555556,
              "#d8576b"
             ],
             [
              0.6666666666666666,
              "#ed7953"
             ],
             [
              0.7777777777777778,
              "#fb9f3a"
             ],
             [
              0.8888888888888888,
              "#fdca26"
             ],
             [
              1,
              "#f0f921"
             ]
            ],
            "type": "contour"
           }
          ],
          "contourcarpet": [
           {
            "colorbar": {
             "outlinewidth": 0,
             "ticks": ""
            },
            "type": "contourcarpet"
           }
          ],
          "heatmap": [
           {
            "colorbar": {
             "outlinewidth": 0,
             "ticks": ""
            },
            "colorscale": [
             [
              0,
              "#0d0887"
             ],
             [
              0.1111111111111111,
              "#46039f"
             ],
             [
              0.2222222222222222,
              "#7201a8"
             ],
             [
              0.3333333333333333,
              "#9c179e"
             ],
             [
              0.4444444444444444,
              "#bd3786"
             ],
             [
              0.5555555555555556,
              "#d8576b"
             ],
             [
              0.6666666666666666,
              "#ed7953"
             ],
             [
              0.7777777777777778,
              "#fb9f3a"
             ],
             [
              0.8888888888888888,
              "#fdca26"
             ],
             [
              1,
              "#f0f921"
             ]
            ],
            "type": "heatmap"
           }
          ],
          "heatmapgl": [
           {
            "colorbar": {
             "outlinewidth": 0,
             "ticks": ""
            },
            "colorscale": [
             [
              0,
              "#0d0887"
             ],
             [
              0.1111111111111111,
              "#46039f"
             ],
             [
              0.2222222222222222,
              "#7201a8"
             ],
             [
              0.3333333333333333,
              "#9c179e"
             ],
             [
              0.4444444444444444,
              "#bd3786"
             ],
             [
              0.5555555555555556,
              "#d8576b"
             ],
             [
              0.6666666666666666,
              "#ed7953"
             ],
             [
              0.7777777777777778,
              "#fb9f3a"
             ],
             [
              0.8888888888888888,
              "#fdca26"
             ],
             [
              1,
              "#f0f921"
             ]
            ],
            "type": "heatmapgl"
           }
          ],
          "histogram": [
           {
            "marker": {
             "pattern": {
              "fillmode": "overlay",
              "size": 10,
              "solidity": 0.2
             }
            },
            "type": "histogram"
           }
          ],
          "histogram2d": [
           {
            "colorbar": {
             "outlinewidth": 0,
             "ticks": ""
            },
            "colorscale": [
             [
              0,
              "#0d0887"
             ],
             [
              0.1111111111111111,
              "#46039f"
             ],
             [
              0.2222222222222222,
              "#7201a8"
             ],
             [
              0.3333333333333333,
              "#9c179e"
             ],
             [
              0.4444444444444444,
              "#bd3786"
             ],
             [
              0.5555555555555556,
              "#d8576b"
             ],
             [
              0.6666666666666666,
              "#ed7953"
             ],
             [
              0.7777777777777778,
              "#fb9f3a"
             ],
             [
              0.8888888888888888,
              "#fdca26"
             ],
             [
              1,
              "#f0f921"
             ]
            ],
            "type": "histogram2d"
           }
          ],
          "histogram2dcontour": [
           {
            "colorbar": {
             "outlinewidth": 0,
             "ticks": ""
            },
            "colorscale": [
             [
              0,
              "#0d0887"
             ],
             [
              0.1111111111111111,
              "#46039f"
             ],
             [
              0.2222222222222222,
              "#7201a8"
             ],
             [
              0.3333333333333333,
              "#9c179e"
             ],
             [
              0.4444444444444444,
              "#bd3786"
             ],
             [
              0.5555555555555556,
              "#d8576b"
             ],
             [
              0.6666666666666666,
              "#ed7953"
             ],
             [
              0.7777777777777778,
              "#fb9f3a"
             ],
             [
              0.8888888888888888,
              "#fdca26"
             ],
             [
              1,
              "#f0f921"
             ]
            ],
            "type": "histogram2dcontour"
           }
          ],
          "mesh3d": [
           {
            "colorbar": {
             "outlinewidth": 0,
             "ticks": ""
            },
            "type": "mesh3d"
           }
          ],
          "parcoords": [
           {
            "line": {
             "colorbar": {
              "outlinewidth": 0,
              "ticks": ""
             }
            },
            "type": "parcoords"
           }
          ],
          "pie": [
           {
            "automargin": true,
            "type": "pie"
           }
          ],
          "scatter": [
           {
            "fillpattern": {
             "fillmode": "overlay",
             "size": 10,
             "solidity": 0.2
            },
            "type": "scatter"
           }
          ],
          "scatter3d": [
           {
            "line": {
             "colorbar": {
              "outlinewidth": 0,
              "ticks": ""
             }
            },
            "marker": {
             "colorbar": {
              "outlinewidth": 0,
              "ticks": ""
             }
            },
            "type": "scatter3d"
           }
          ],
          "scattercarpet": [
           {
            "marker": {
             "colorbar": {
              "outlinewidth": 0,
              "ticks": ""
             }
            },
            "type": "scattercarpet"
           }
          ],
          "scattergeo": [
           {
            "marker": {
             "colorbar": {
              "outlinewidth": 0,
              "ticks": ""
             }
            },
            "type": "scattergeo"
           }
          ],
          "scattergl": [
           {
            "marker": {
             "colorbar": {
              "outlinewidth": 0,
              "ticks": ""
             }
            },
            "type": "scattergl"
           }
          ],
          "scattermapbox": [
           {
            "marker": {
             "colorbar": {
              "outlinewidth": 0,
              "ticks": ""
             }
            },
            "type": "scattermapbox"
           }
          ],
          "scatterpolar": [
           {
            "marker": {
             "colorbar": {
              "outlinewidth": 0,
              "ticks": ""
             }
            },
            "type": "scatterpolar"
           }
          ],
          "scatterpolargl": [
           {
            "marker": {
             "colorbar": {
              "outlinewidth": 0,
              "ticks": ""
             }
            },
            "type": "scatterpolargl"
           }
          ],
          "scatterternary": [
           {
            "marker": {
             "colorbar": {
              "outlinewidth": 0,
              "ticks": ""
             }
            },
            "type": "scatterternary"
           }
          ],
          "surface": [
           {
            "colorbar": {
             "outlinewidth": 0,
             "ticks": ""
            },
            "colorscale": [
             [
              0,
              "#0d0887"
             ],
             [
              0.1111111111111111,
              "#46039f"
             ],
             [
              0.2222222222222222,
              "#7201a8"
             ],
             [
              0.3333333333333333,
              "#9c179e"
             ],
             [
              0.4444444444444444,
              "#bd3786"
             ],
             [
              0.5555555555555556,
              "#d8576b"
             ],
             [
              0.6666666666666666,
              "#ed7953"
             ],
             [
              0.7777777777777778,
              "#fb9f3a"
             ],
             [
              0.8888888888888888,
              "#fdca26"
             ],
             [
              1,
              "#f0f921"
             ]
            ],
            "type": "surface"
           }
          ],
          "table": [
           {
            "cells": {
             "fill": {
              "color": "#EBF0F8"
             },
             "line": {
              "color": "white"
             }
            },
            "header": {
             "fill": {
              "color": "#C8D4E3"
             },
             "line": {
              "color": "white"
             }
            },
            "type": "table"
           }
          ]
         },
         "layout": {
          "annotationdefaults": {
           "arrowcolor": "#2a3f5f",
           "arrowhead": 0,
           "arrowwidth": 1
          },
          "autotypenumbers": "strict",
          "coloraxis": {
           "colorbar": {
            "outlinewidth": 0,
            "ticks": ""
           }
          },
          "colorscale": {
           "diverging": [
            [
             0,
             "#8e0152"
            ],
            [
             0.1,
             "#c51b7d"
            ],
            [
             0.2,
             "#de77ae"
            ],
            [
             0.3,
             "#f1b6da"
            ],
            [
             0.4,
             "#fde0ef"
            ],
            [
             0.5,
             "#f7f7f7"
            ],
            [
             0.6,
             "#e6f5d0"
            ],
            [
             0.7,
             "#b8e186"
            ],
            [
             0.8,
             "#7fbc41"
            ],
            [
             0.9,
             "#4d9221"
            ],
            [
             1,
             "#276419"
            ]
           ],
           "sequential": [
            [
             0,
             "#0d0887"
            ],
            [
             0.1111111111111111,
             "#46039f"
            ],
            [
             0.2222222222222222,
             "#7201a8"
            ],
            [
             0.3333333333333333,
             "#9c179e"
            ],
            [
             0.4444444444444444,
             "#bd3786"
            ],
            [
             0.5555555555555556,
             "#d8576b"
            ],
            [
             0.6666666666666666,
             "#ed7953"
            ],
            [
             0.7777777777777778,
             "#fb9f3a"
            ],
            [
             0.8888888888888888,
             "#fdca26"
            ],
            [
             1,
             "#f0f921"
            ]
           ],
           "sequentialminus": [
            [
             0,
             "#0d0887"
            ],
            [
             0.1111111111111111,
             "#46039f"
            ],
            [
             0.2222222222222222,
             "#7201a8"
            ],
            [
             0.3333333333333333,
             "#9c179e"
            ],
            [
             0.4444444444444444,
             "#bd3786"
            ],
            [
             0.5555555555555556,
             "#d8576b"
            ],
            [
             0.6666666666666666,
             "#ed7953"
            ],
            [
             0.7777777777777778,
             "#fb9f3a"
            ],
            [
             0.8888888888888888,
             "#fdca26"
            ],
            [
             1,
             "#f0f921"
            ]
           ]
          },
          "colorway": [
           "#636efa",
           "#EF553B",
           "#00cc96",
           "#ab63fa",
           "#FFA15A",
           "#19d3f3",
           "#FF6692",
           "#B6E880",
           "#FF97FF",
           "#FECB52"
          ],
          "font": {
           "color": "#2a3f5f"
          },
          "geo": {
           "bgcolor": "white",
           "lakecolor": "white",
           "landcolor": "#E5ECF6",
           "showlakes": true,
           "showland": true,
           "subunitcolor": "white"
          },
          "hoverlabel": {
           "align": "left"
          },
          "hovermode": "closest",
          "mapbox": {
           "style": "light"
          },
          "paper_bgcolor": "white",
          "plot_bgcolor": "#E5ECF6",
          "polar": {
           "angularaxis": {
            "gridcolor": "white",
            "linecolor": "white",
            "ticks": ""
           },
           "bgcolor": "#E5ECF6",
           "radialaxis": {
            "gridcolor": "white",
            "linecolor": "white",
            "ticks": ""
           }
          },
          "scene": {
           "xaxis": {
            "backgroundcolor": "#E5ECF6",
            "gridcolor": "white",
            "gridwidth": 2,
            "linecolor": "white",
            "showbackground": true,
            "ticks": "",
            "zerolinecolor": "white"
           },
           "yaxis": {
            "backgroundcolor": "#E5ECF6",
            "gridcolor": "white",
            "gridwidth": 2,
            "linecolor": "white",
            "showbackground": true,
            "ticks": "",
            "zerolinecolor": "white"
           },
           "zaxis": {
            "backgroundcolor": "#E5ECF6",
            "gridcolor": "white",
            "gridwidth": 2,
            "linecolor": "white",
            "showbackground": true,
            "ticks": "",
            "zerolinecolor": "white"
           }
          },
          "shapedefaults": {
           "line": {
            "color": "#2a3f5f"
           }
          },
          "ternary": {
           "aaxis": {
            "gridcolor": "white",
            "linecolor": "white",
            "ticks": ""
           },
           "baxis": {
            "gridcolor": "white",
            "linecolor": "white",
            "ticks": ""
           },
           "bgcolor": "#E5ECF6",
           "caxis": {
            "gridcolor": "white",
            "linecolor": "white",
            "ticks": ""
           }
          },
          "title": {
           "x": 0.05
          },
          "xaxis": {
           "automargin": true,
           "gridcolor": "white",
           "linecolor": "white",
           "ticks": "",
           "title": {
            "standoff": 15
           },
           "zerolinecolor": "white",
           "zerolinewidth": 2
          },
          "yaxis": {
           "automargin": true,
           "gridcolor": "white",
           "linecolor": "white",
           "ticks": "",
           "title": {
            "standoff": 15
           },
           "zerolinecolor": "white",
           "zerolinewidth": 2
          }
         }
        },
        "xaxis": {
         "anchor": "y",
         "domain": [
          0,
          1
         ],
         "title": {
          "text": "value"
         }
        },
        "yaxis": {
         "anchor": "x",
         "domain": [
          0,
          1
         ],
         "title": {
          "text": "count"
         }
        }
       }
      }
     },
     "metadata": {},
     "output_type": "display_data"
    },
    {
     "name": "stdout",
     "output_type": "stream",
     "text": [
      "tensor(7679.4156, dtype=torch.float64)\n",
      "tensor(0.1018, dtype=torch.float64)\n"
     ]
    }
   ],
   "source": [
    "def calculate_R_squared_com(guide):\n",
    "    predictive = pyro.infer.Predictive(model, guide=guide, num_samples=1000)\n",
    "    predictions = predictive(trust, patch, time)\n",
    "\n",
    "    print(predictions.keys())\n",
    "    simulated_outcome = (\n",
    "        predictions[\"weight_trust\"] * trust\n",
    "        + predictions[\"weight_patch\"] * patch\n",
    "        + predictions[\"bias\"]\n",
    "    )\n",
    "    print(simulated_outcome.shape)\n",
    "    mean_sim_outcome = simulated_outcome.mean(dim=0)\n",
    "    print(mean_sim_outcome.shape)\n",
    "\n",
    "    fig = px.histogram(time - mean_sim_outcome)\n",
    "    fig.show()\n",
    "\n",
    "    observed_mean = torch.mean(time)\n",
    "\n",
    "    tss = torch.sum((time - observed_mean) ** 2)\n",
    "    print(tss)\n",
    "\n",
    "    rss = torch.sum((time - mean_sim_outcome) ** 2)\n",
    "\n",
    "    r_squared = 1 - (rss / tss)\n",
    "\n",
    "    return r_squared\n",
    "\n",
    "\n",
    "print(calculate_R_squared_com(guide))\n"
   ]
  },
  {
   "cell_type": "code",
   "execution_count": 24,
   "metadata": {},
   "outputs": [
    {
     "data": {
      "application/vnd.plotly.v1+json": {
       "config": {
        "plotlyServerURL": "https://plot.ly"
       },
       "data": [
        {
         "alignmentgroup": "True",
         "bingroup": "x",
         "hovertemplate": "variable=0<br>value=%{x}<br>count=%{y}<extra></extra>",
         "legendgroup": "0",
         "marker": {
          "color": "#636efa",
          "pattern": {
           "shape": ""
          }
         },
         "name": "0",
         "offsetgroup": "0",
         "orientation": "v",
         "showlegend": false,
         "type": "histogram",
         "x": [
          -0.8750670552253723,
          -1.0259407758712769,
          0.28163057565689087,
          -0.4609607756137848,
          0.3215572237968445,
          -1.502881407737732,
          -0.888009250164032,
          -2.0384457111358643,
          -0.26922568678855896,
          -1.0906416177749634,
          -0.9897537231445312,
          0.48510247468948364,
          -2.0174596309661865,
          -0.19666707515716553,
          -1.2019336223602295,
          -1.9971561431884766,
          -1.8350608348846436,
          -1.8635485172271729,
          -0.635112464427948,
          -0.3739998936653137,
          -0.0834205150604248,
          -0.793948769569397,
          -0.3552742302417755,
          -1.6651934385299683,
          -0.5973805785179138,
          -1.3137938976287842,
          -1.6804332733154297,
          -2.2472658157348633,
          -0.6705822348594666,
          0.4531884789466858,
          -0.12440115213394165,
          -1.4510464668273926,
          -1.187302589416504,
          -0.7350578904151917,
          -1.1972901821136475,
          -1.4292858839035034,
          -0.22099071741104126,
          0.2028159499168396,
          -0.792465329170227,
          -0.31795933842658997,
          0.04202139377593994,
          0.24145543575286865,
          -2.4381983280181885,
          0.34575074911117554,
          -0.024998366832733154,
          -2.6597952842712402,
          -4.087771892547607,
          -0.28979921340942383,
          0.10835069417953491,
          0.2838950753211975,
          -0.3464287519454956,
          -2.7585721015930176,
          -1.6449687480926514,
          -1.9783084392547607,
          -0.03802233934402466,
          -0.3192768692970276,
          -0.49709200859069824,
          -2.2935707569122314,
          -1.1115775108337402,
          -0.10471904277801514,
          0.22866886854171753,
          0.2816905379295349,
          -0.3045009672641754,
          -2.5697567462921143,
          -1.5935044288635254,
          -0.5515581369400024,
          0.7392638325691223,
          -2.33085560798645,
          -0.7025129199028015,
          -1.2667574882507324,
          -1.2794078588485718,
          -1.5567479133605957,
          -1.353555679321289,
          -0.34670084714889526,
          0.260700523853302,
          -1.5930609703063965,
          0.6316099762916565,
          -2.4756996631622314,
          0.5839187502861023,
          -0.3250850737094879,
          -1.0969417095184326,
          -2.838397264480591,
          0.4640381932258606,
          -0.6208611726760864,
          -0.2852482795715332,
          0.4817221760749817,
          -0.16771095991134644,
          -2.568495273590088,
          -0.42831167578697205,
          0.27875858545303345,
          -1.0880563259124756,
          -0.23693716526031494,
          -0.8934915661811829,
          -0.8018215894699097,
          -0.7251420021057129,
          -1.4914895296096802,
          -0.5211185216903687,
          -0.4489443302154541,
          -1.1432018280029297,
          -0.8341362476348877,
          -0.693289577960968,
          -1.7187080383300781,
          -1.1442620754241943,
          -2.591702699661255,
          -0.20343804359436035,
          0.28677743673324585,
          -2.008859634399414,
          -0.7312018871307373,
          0.6519636511802673,
          -0.4914950430393219,
          0.075020432472229,
          -0.9788175225257874,
          -0.45721161365509033,
          -0.2567557990550995,
          -0.5248483419418335,
          0.5316562056541443,
          -0.5681619644165039,
          -1.0875921249389648,
          -0.19875645637512207,
          -2.640456199645996,
          -0.16555601358413696,
          -1.8020145893096924,
          -2.493593215942383,
          -0.0440407395362854,
          -2.394217014312744,
          -1.03760826587677,
          -0.813096821308136,
          -0.05243945121765137,
          -0.9322215914726257,
          -0.5787685513496399,
          -1.7916936874389648,
          0.6555612683296204,
          -1.2168632745742798,
          -0.8177023530006409,
          0.3859803080558777,
          -0.3589847683906555,
          -1.3480253219604492,
          -1.2397710084915161,
          -1.4555524587631226,
          -0.6694928407669067,
          -0.8463548421859741,
          -1.6158381700515747,
          -0.1061968207359314,
          -1.9123210906982422,
          -1.4764792919158936,
          -1.1504324674606323,
          -2.4009644985198975,
          -1.5275919437408447,
          -0.90765380859375,
          -2.629657745361328,
          0.2423841953277588,
          -2.475437879562378,
          0.3059750199317932,
          -1.6953637599945068,
          -1.5125203132629395,
          -0.8523352146148682,
          -0.3419693112373352,
          -1.990251064300537,
          0.6366562247276306,
          0.7518261075019836,
          0.2684815526008606,
          -1.2303001880645752,
          -0.6606299877166748,
          -1.2403829097747803,
          -0.8969857692718506,
          0.6511438488960266,
          -0.012759864330291748,
          -2.588935136795044,
          -2.0148568153381348,
          -1.4451704025268555,
          -2.241551399230957,
          -0.02319502830505371,
          -0.19700634479522705,
          -0.21534359455108643,
          -0.8309070467948914,
          -1.4413678646087646,
          -0.9503828287124634,
          -0.29912254214286804,
          0.30689817667007446,
          -0.43969398736953735,
          -0.8318822979927063,
          -0.5121821761131287,
          -1.2377240657806396,
          -2.1449949741363525,
          -0.5436471700668335,
          -1.0970337390899658,
          -0.48233211040496826,
          -1.7359511852264404,
          1.3833823204040527,
          -1.5070960521697998,
          -1.1396596431732178,
          0.36315470933914185,
          0.9310939908027649,
          0.17829662561416626,
          0.7914701104164124,
          -0.6072955131530762,
          -0.6720669865608215,
          -0.03639453649520874,
          -1.3474557399749756,
          -1.0186817646026611,
          -1.0164132118225098,
          -0.030290603637695312,
          -1.4810140132904053,
          -1.761747121810913,
          -0.8836221694946289,
          -2.0275402069091797,
          -0.8545179963111877,
          -1.5031664371490479,
          -0.38974571228027344,
          0.6715794205665588,
          -0.869334876537323,
          -0.5222904682159424,
          -0.9673668742179871,
          -0.9622217416763306,
          0.16420817375183105,
          0.269379198551178,
          -1.7018368244171143,
          -0.6922498941421509,
          0.6722806096076965,
          -2.437851667404175,
          1.3500347137451172,
          -0.48010578751564026,
          -2.831033706665039,
          -2.8491878509521484,
          -1.6143368482589722,
          -1.0866894721984863,
          -0.23656070232391357,
          -2.1846067905426025,
          -1.447137713432312,
          0.33150726556777954,
          -2.5324935913085938,
          -0.8075981140136719,
          0.09794539213180542,
          -1.1028088331222534,
          -0.8684879541397095,
          -0.40196099877357483,
          0.8671056628227234,
          1.024477481842041,
          -0.12948787212371826,
          -1.1685481071472168,
          -0.941697895526886,
          0.08696943521499634,
          -1.2297003269195557,
          0.036697208881378174,
          -1.0280673503875732,
          -1.3644758462905884,
          -0.6948024034500122,
          -1.1517373323440552,
          0.040482938289642334,
          0.020529091358184814,
          0.07427108287811279,
          -0.8992395401000977,
          -0.05843168497085571,
          0.3157394528388977,
          -0.880703330039978,
          -0.9690290093421936,
          0.5271655917167664,
          -0.7257839441299438,
          0.020204544067382812,
          -1.8157243728637695,
          -0.43159064650535583,
          -0.31788793206214905,
          -0.7377455234527588,
          -1.928905963897705,
          -0.7338248491287231,
          0.4022504687309265,
          -1.5530132055282593,
          0.15623056888580322,
          -0.12949424982070923,
          -1.0790883302688599,
          -0.7324796915054321,
          0.37299972772598267,
          -0.1466968059539795,
          -0.7162188291549683,
          -0.2875807583332062,
          -0.06402623653411865,
          -0.7792094945907593,
          1.0570778846740723,
          -2.370872974395752,
          0.105277419090271,
          -0.3164859712123871,
          -0.6609941124916077,
          -1.4221880435943604,
          -1.5765106678009033,
          -0.08988672494888306,
          -0.38209736347198486,
          -1.8161330223083496,
          -0.03397947549819946,
          -1.511971116065979,
          -0.8707138299942017,
          -1.8534636497497559,
          -1.8903050422668457,
          -2.8859806060791016,
          -0.5321661233901978,
          0.8959349989891052,
          -1.5694825649261475,
          0.2460523247718811,
          -1.3720566034317017,
          -0.8016797304153442,
          0.4375229477882385,
          -0.34707096219062805,
          0.5981850028038025,
          -0.23393410444259644,
          0.43388181924819946,
          -0.6264678239822388,
          -1.5654208660125732,
          -1.4500908851623535,
          -1.3064374923706055,
          -1.0680110454559326,
          0.8176586031913757,
          0.20184487104415894,
          0.46045762300491333,
          -3.001216411590576,
          0.8004373908042908,
          -0.6435043811798096,
          -0.8260075449943542,
          -0.6847711801528931,
          -0.2675451934337616,
          -2.3512942790985107,
          -0.725757360458374,
          0.49809426069259644,
          -1.2185108661651611,
          -0.36770448088645935,
          -0.5387425422668457,
          -0.1790531873703003,
          -1.3121181726455688,
          -1.0666531324386597,
          0.6021909117698669,
          -1.848689079284668,
          0.8258183598518372,
          -1.821558952331543,
          0.6882697939872742,
          -2.864076852798462,
          0.330427348613739,
          -0.848128080368042,
          -1.8404033184051514,
          -0.8957247138023376,
          0.35846298933029175,
          -1.335523009300232,
          -1.2103623151779175,
          -2.4685158729553223,
          0.5422694087028503,
          1.0739035606384277,
          -0.7187548875808716,
          -2.0543699264526367,
          -0.39582642912864685,
          -3.159972667694092,
          -1.1963229179382324,
          -2.51560115814209,
          -1.9653394222259521,
          -0.6405475735664368,
          -0.9499973058700562,
          -1.9967353343963623,
          -1.0342082977294922,
          -0.07479792833328247,
          -0.7034549117088318,
          -0.6037441492080688,
          -1.1791973114013672,
          -2.065112590789795,
          -0.21943014860153198,
          -0.5035227537155151,
          -2.1204440593719482,
          -1.5538086891174316,
          -1.385706901550293,
          -0.10721951723098755,
          0.08292418718338013,
          -1.4000835418701172,
          0.09498965740203857,
          -0.9080275297164917,
          -0.6662980914115906,
          -0.7277225255966187,
          0.7515518069267273,
          0.22925609350204468,
          -1.3091347217559814,
          -1.2634201049804688,
          -0.6570011377334595,
          -1.8484547138214111,
          -0.29012635350227356,
          -0.43634310364723206,
          -2.252189874649048,
          0.2227213978767395,
          0.32723313570022583,
          -2.105884552001953,
          -0.6291328072547913,
          -0.27907171845436096,
          -0.31690654158592224,
          -0.6038212776184082,
          -1.5767501592636108,
          -0.9363200068473816,
          -2.381347417831421,
          -1.0479133129119873,
          -1.4509071111679077,
          -1.4604723453521729,
          0.21872001886367798,
          0.21310073137283325,
          0.41149622201919556,
          -1.4342193603515625,
          -0.8728384971618652,
          -2.5555200576782227,
          -1.6112126111984253,
          -2.472109317779541,
          -0.45886582136154175,
          -2.341661214828491,
          -0.7723098993301392,
          -1.7240347862243652,
          -1.9591710567474365,
          0.4472358822822571,
          -1.0341768264770508,
          -1.0888910293579102,
          0.9547414183616638,
          -1.2632395029067993,
          -2.106285333633423,
          -1.5953469276428223,
          -2.1914925575256348,
          -1.2478148937225342,
          -0.8514856696128845,
          -0.9578769207000732,
          -1.8498189449310303,
          0.2186795473098755,
          -0.9199658632278442,
          -1.0193687677383423,
          0.30504268407821655,
          -1.6125227212905884,
          -0.5293936133384705,
          -1.65153169631958,
          -0.890576958656311,
          0.6980190873146057,
          -0.7421820163726807,
          -1.5977089405059814,
          0.09856253862380981,
          -0.9885483980178833,
          0.3495040535926819,
          -1.3373019695281982,
          -0.5637582540512085,
          0.11795085668563843,
          -0.7701107859611511,
          0.1229332685470581,
          -2.3735082149505615,
          0.13888508081436157,
          -0.6352058053016663,
          0.6582257151603699,
          -0.5732338428497314,
          -0.8331730365753174,
          -0.22192728519439697,
          -0.2815141975879669,
          -0.09328854084014893,
          -0.7470507025718689,
          -2.3463895320892334,
          -0.7807769775390625,
          -1.3657114505767822,
          -1.411692500114441,
          -0.24022173881530762,
          -2.6752827167510986,
          -2.2812435626983643,
          0.34469395875930786,
          -0.6913120746612549,
          -0.9130627512931824,
          -0.4051089286804199,
          0.8340480923652649,
          -0.26240792870521545,
          -0.9027748107910156,
          -0.3475536108016968,
          -1.6545825004577637,
          -0.6085861921310425,
          -1.5707789659500122,
          -1.410231113433838,
          -3.3526365756988525,
          -0.9600850939750671,
          -0.8383951187133789,
          -2.7474451065063477,
          -1.5607436895370483,
          -0.4094095528125763,
          -0.8276435732841492,
          1.3208048343658447,
          -1.2434495687484741,
          -0.2961142361164093,
          -0.1113479733467102,
          -0.934181809425354,
          -0.9850430488586426,
          -0.372342586517334,
          -0.5942863821983337,
          -1.9772441387176514,
          0.2609174847602844,
          -0.4068639874458313,
          -0.5541552305221558,
          -1.2388190031051636,
          -1.3202183246612549,
          1.1761350631713867,
          -0.8324199318885803,
          -1.0729241371154785,
          -1.3674936294555664,
          -1.137174129486084,
          -0.7822728753089905,
          0.862615168094635,
          0.4967727065086365,
          -1.5274313688278198,
          -0.9347572326660156,
          -1.9652822017669678,
          -0.6072006821632385,
          -1.350293517112732,
          0.5696000456809998,
          0.849951446056366,
          -0.6729650497436523,
          -1.0732018947601318,
          -0.764292299747467,
          -1.9595508575439453,
          -1.1879758834838867,
          -2.9130256175994873,
          0.06800633668899536,
          -1.2007064819335938,
          -0.7728813290596008,
          -2.0619075298309326,
          0.2509412169456482,
          -1.0814346075057983,
          -1.2042542695999146,
          -2.254882335662842,
          0.8365504145622253,
          -1.61456298828125,
          0.0728754997253418,
          0.46364086866378784,
          0.1895323395729065,
          -0.3733776807785034,
          -1.5338878631591797,
          -1.2304421663284302,
          -2.1478328704833984,
          -1.3644063472747803,
          -2.6641359329223633,
          -2.4576430320739746,
          -0.3665737807750702,
          -0.1790914535522461,
          -1.6677147150039673,
          -0.46303918957710266,
          0.19845914840698242,
          0.1494249701499939,
          -1.796402931213379,
          -1.0656970739364624,
          -1.8441486358642578,
          -1.9345316886901855,
          0.2612007260322571,
          -1.1713204383850098,
          -1.0822547674179077,
          -1.370011329650879,
          -1.7042572498321533,
          -2.6865174770355225,
          -1.0697991847991943,
          -1.082643985748291,
          -1.5575553178787231,
          -1.497694730758667,
          1.48360013961792,
          -0.6632704734802246,
          0.15095549821853638,
          -1.7396186590194702,
          -2.3477954864501953,
          -1.1869916915893555,
          -1.2347533702850342,
          -1.193939447402954,
          -1.2412559986114502,
          0.06264030933380127,
          -1.2622966766357422,
          0.6546300053596497,
          0.26807647943496704,
          -0.9335266351699829,
          -0.613148033618927,
          -4.092772006988525,
          -1.100218415260315,
          0.929347813129425,
          -2.752426862716675,
          -0.9303618669509888,
          -1.6274065971374512,
          -1.0210344791412354,
          -3.361321449279785,
          -2.454373598098755,
          -1.487828016281128,
          0.26938360929489136,
          0.5408928990364075,
          -0.6743098497390747,
          -0.04958820343017578,
          -0.8463903665542603,
          -1.2119200229644775,
          1.8027007579803467,
          -0.816473662853241,
          -0.1304854154586792,
          0.8438425660133362,
          0.24252581596374512,
          -1.1703910827636719,
          -1.3749265670776367,
          -0.37578830122947693,
          0.46217018365859985,
          0.40228384733200073,
          -0.5870028138160706,
          -0.263632595539093,
          -2.360882043838501,
          -1.0929100513458252,
          -0.6633380651473999,
          -0.3800784647464752,
          0.05810350179672241,
          -1.0309914350509644,
          0.1627771258354187,
          -1.7603628635406494,
          -3.136115789413452,
          -1.8224430084228516,
          -1.4980034828186035,
          -1.2853667736053467,
          -1.722097635269165,
          -1.504401683807373,
          -0.906429648399353,
          0.30107051134109497,
          0.6472806334495544,
          -1.3118776082992554,
          0.816109836101532,
          -1.3546724319458008,
          -1.4558463096618652,
          0.8158984780311584,
          0.4376220107078552,
          -0.36530429124832153,
          -0.8415844440460205,
          -1.650819182395935,
          -0.11728006601333618,
          -0.02131831645965576,
          -0.2286926507949829,
          -0.533623456954956,
          -2.6084396839141846,
          -1.5895557403564453,
          -0.6742293834686279,
          -2.756683588027954,
          -1.9980823993682861,
          -2.093593120574951,
          -1.2616502046585083,
          0.2231377363204956,
          -1.6649186611175537,
          -0.4954400360584259,
          -1.0761466026306152,
          -1.210559606552124,
          0.12493354082107544,
          -0.2006446123123169,
          -1.9939119815826416,
          0.17626696825027466,
          -1.2947161197662354,
          -1.5866317749023438,
          -1.7261806726455688,
          -1.4494976997375488,
          -2.1128666400909424,
          -0.998469352722168,
          0.41981643438339233,
          -0.7561033368110657,
          -0.9540558457374573,
          -2.454347610473633,
          -0.7779979705810547,
          -0.2657206952571869,
          -1.0706641674041748,
          -1.9517855644226074,
          -0.6773415207862854,
          -0.45037606358528137,
          -1.219443440437317,
          -0.37580177187919617,
          -1.6128027439117432,
          -1.1011881828308105,
          1.354001760482788,
          -0.8184607625007629,
          -0.6064720153808594,
          -1.452484369277954,
          -1.8668861389160156,
          -0.7157994508743286,
          -1.8893721103668213,
          0.7248213887214661,
          0.08105766773223877,
          -0.46910202503204346,
          0.28533679246902466,
          -1.1245603561401367,
          -0.5851390361785889,
          -1.4647064208984375,
          0.6496301293373108,
          -0.05174916982650757,
          -0.6252128481864929,
          -3.233736276626587,
          0.5737481713294983,
          1.4542205333709717,
          -1.3803826570510864,
          -0.8336682915687561,
          -1.368363618850708,
          0.26105302572250366,
          0.9340160489082336,
          -0.8550827503204346,
          -1.3125555515289307,
          -0.36660537123680115,
          -0.5400366187095642,
          -1.1911888122558594,
          0.7781400084495544,
          -0.22359591722488403,
          -0.2824248969554901,
          -1.009660005569458,
          -2.304487705230713,
          -0.5861126184463501,
          -0.01098477840423584,
          -1.9039466381072998,
          -1.0530503988265991,
          -1.0634098052978516,
          -1.4878520965576172,
          0.052463531494140625,
          -0.33050698041915894,
          -0.04092639684677124,
          0.4830322861671448,
          -2.8161890506744385,
          -1.918501853942871,
          -0.46671295166015625,
          -0.9276978373527527,
          0.9758232235908508,
          0.19276529550552368,
          0.2592625021934509,
          -1.8091933727264404,
          1.8549904823303223,
          -0.8111357688903809,
          -1.035482406616211,
          -0.2596459984779358,
          -1.181694507598877,
          -0.4724592864513397,
          -1.0718328952789307,
          -1.3491148948669434,
          -0.046160101890563965,
          -1.8479316234588623,
          -0.5112033486366272,
          -1.1328234672546387,
          -0.7795807123184204,
          -0.9332090020179749,
          -0.507001519203186,
          -1.0459567308425903,
          0.07931041717529297,
          -1.0483741760253906,
          0.37692445516586304,
          -0.5949101448059082,
          -0.9736250638961792,
          -1.5543708801269531,
          -1.7331223487854004,
          0.7381989359855652,
          -0.6265552043914795,
          -1.4950684309005737,
          0.8794692158699036,
          -0.2234569787979126,
          -1.8575866222381592,
          -0.6052955389022827,
          -2.1553261280059814,
          -0.11394733190536499,
          0.6585493683815002,
          -1.2751368284225464,
          -1.3745710849761963,
          -0.10885584354400635,
          -1.6286288499832153,
          -0.27088966965675354,
          -0.8320407271385193,
          -1.877791166305542,
          -2.5947136878967285,
          -0.3262433111667633,
          1.3028285503387451,
          0.8769151568412781,
          -1.5648229122161865,
          -1.0915333032608032,
          0.3761213421821594,
          -1.5571589469909668,
          -2.2966151237487793,
          -0.866693377494812,
          -1.5343241691589355,
          -0.4133426547050476,
          -2.3889598846435547,
          -0.7440891265869141,
          0.5602467656135559,
          1.3337016105651855,
          -1.8464934825897217,
          -0.9895747900009155,
          -1.8931632041931152,
          -1.623341679573059,
          -1.9421632289886475,
          -0.7223179340362549,
          -0.23381370306015015,
          0.7837842106819153,
          -1.9304873943328857,
          -1.7405951023101807,
          -0.22717273235321045,
          -0.6259506940841675,
          -1.4594825506210327,
          -0.09669256210327148,
          -1.5164012908935547,
          -0.4103213846683502,
          -1.287013292312622,
          -1.1001200675964355,
          -0.6204753518104553,
          1.0767347812652588,
          -0.6645262837409973,
          -0.5292801260948181,
          -0.9570054411888123,
          -1.6425034999847412,
          0.17129617929458618,
          0.3656689524650574,
          -0.6407384872436523,
          -0.8932346105575562,
          -1.7580153942108154,
          0.06351256370544434,
          -0.6346842050552368,
          1.0633015632629395,
          0.21231961250305176,
          0.2587820887565613,
          0.2116764783859253,
          -1.4106500148773193,
          -0.13705915212631226,
          -0.7331674098968506,
          -2.0478546619415283,
          0.1518210768699646,
          0.024847090244293213,
          -0.45509374141693115,
          -0.4616568386554718,
          -0.1733323335647583,
          -0.5168373584747314,
          0.00559234619140625,
          -0.8185742497444153,
          -1.3606806993484497,
          -1.320697546005249,
          -1.32466721534729,
          0.014241337776184082,
          -0.3600916266441345,
          -1.0076816082000732,
          -0.8688064813613892,
          -1.7644565105438232,
          -0.15459024906158447,
          -3.0758934020996094,
          0.9349768757820129,
          0.06187915802001953,
          -0.4328779876232147,
          -0.5153448581695557,
          -0.12462610006332397,
          -0.5851937532424927,
          -1.5991926193237305,
          -1.5222373008728027,
          0.08668333292007446,
          -0.06021696329116821,
          -1.9090912342071533,
          0.7446181178092957,
          2.0173532962799072,
          -1.0878267288208008,
          -1.0138124227523804,
          -1.4117426872253418,
          -2.0108866691589355,
          -0.9134495258331299,
          -0.30842825770378113,
          -0.6359515190124512,
          -0.19628793001174927,
          0.5043900609016418,
          -1.0888832807540894,
          -0.34292206168174744,
          -0.6419467329978943,
          -0.10791772603988647,
          -1.2398475408554077,
          -0.5601567029953003,
          -0.9820733666419983,
          -1.5940675735473633,
          -0.8369712233543396,
          -3.00449538230896,
          -1.7949793338775635,
          0.09304964542388916,
          -1.2884409427642822,
          0.1849995255470276,
          -1.7771036624908447,
          -1.3969669342041016,
          -1.4519648551940918,
          -1.4914982318878174,
          -0.3403284251689911,
          -0.7314919233322144,
          -0.7131866216659546,
          0.285452663898468,
          -0.5712623596191406,
          -0.6171615719795227,
          -1.861699104309082,
          -1.0562713146209717,
          -1.843320608139038,
          -0.7319485545158386,
          -0.26210594177246094,
          0.5066297650337219,
          -0.14194905757904053,
          0.2842203974723816,
          0.3846901059150696,
          -0.39517128467559814,
          -1.7101807594299316,
          -1.1982645988464355,
          -0.42733460664749146,
          0.4085506796836853,
          -1.0253171920776367,
          -2.0220699310302734,
          -1.6669414043426514,
          0.4585750699043274,
          0.9624701142311096,
          -0.010537683963775635,
          -0.3495855927467346,
          -0.5136470794677734,
          -0.09881693124771118,
          2.0986173152923584,
          -0.3761976957321167,
          -1.3581252098083496,
          -1.2277790307998657,
          -1.0974302291870117,
          0.7402507662773132,
          -0.7038088440895081,
          -2.0437490940093994,
          -1.794921875,
          -1.4737051725387573,
          -1.0827686786651611,
          0.2342127561569214,
          -1.3069006204605103,
          -0.26693931221961975,
          -0.05694437026977539,
          -2.6131672859191895,
          -1.9776177406311035,
          -0.666853666305542,
          -0.6732065677642822,
          1.6478142738342285,
          -1.0575610399246216,
          0.7846304774284363,
          0.27263838052749634,
          -0.140957772731781,
          0.1566186547279358,
          0.04586881399154663,
          -0.83542400598526,
          0.2720111012458801,
          -0.7632386684417725,
          -0.22402453422546387,
          -1.1969355344772339,
          0.05993252992630005,
          -0.8446549773216248,
          -1.0645079612731934,
          -0.8927885890007019,
          -0.44186338782310486,
          -1.23101806640625,
          -1.055328369140625,
          -0.3344216048717499,
          -0.0600317120552063,
          -1.1319782733917236,
          0.04836297035217285,
          -1.8600094318389893,
          -2.5807130336761475,
          -0.47387322783470154,
          -1.4127941131591797,
          -1.9772965908050537,
          -0.7967556118965149,
          -0.6331605911254883,
          0.24196332693099976,
          -0.5802227258682251,
          -1.3113691806793213,
          0.8241254687309265,
          -0.2333592176437378,
          -0.46912744641304016,
          -1.9858105182647705,
          -0.9345149993896484,
          0.4988721013069153,
          -0.5539000034332275,
          -0.47127097845077515,
          -0.2767431139945984,
          0.6641166806221008,
          -0.9912611246109009,
          0.22816377878189087,
          0.4520924687385559,
          -1.83506441116333,
          -0.3167839050292969,
          -0.5036128759384155,
          -0.4101715683937073,
          -0.9077416062355042,
          -1.0949852466583252,
          -0.8726354837417603,
          -0.5113956928253174,
          -0.23053449392318726,
          -0.8618367910385132,
          -0.5559700727462769,
          0.0688624382019043,
          -0.9189826250076294,
          -1.0540608167648315,
          -0.9422892332077026,
          0.5916218161582947,
          -0.2736605107784271,
          -0.13234984874725342,
          -0.5312674641609192,
          -0.8415365219116211,
          -1.5888605117797852,
          -0.7487227916717529,
          0.5607625842094421,
          -0.982548177242279,
          -0.9892706871032715,
          -0.5686910152435303,
          -0.40144339203834534,
          -1.0267140865325928,
          -2.1694588661193848,
          -1.712068796157837,
          -1.0747978687286377,
          -1.2060264348983765,
          -2.2170095443725586,
          -0.36295953392982483,
          -0.06433349847793579,
          -0.016816258430480957,
          -1.715683102607727,
          0.21046775579452515,
          -1.7107906341552734,
          -0.7613887190818787,
          -1.6239631175994873,
          -0.6702495813369751,
          -0.5619955062866211
         ],
         "xaxis": "x",
         "yaxis": "y"
        }
       ],
       "layout": {
        "annotations": [
         {
          "showarrow": false,
          "text": "Mean = -0.78",
          "x": -0.7783432602882385,
          "xanchor": "left",
          "xref": "x",
          "xshift": 20,
          "y": 1,
          "yanchor": "top",
          "yref": "y domain"
         }
        ],
        "barmode": "relative",
        "legend": {
         "title": {
          "text": "variable"
         },
         "tracegroupgap": 0
        },
        "shapes": [
         {
          "line": {
           "color": "red",
           "dash": "dash"
          },
          "type": "line",
          "x0": -0.7783432602882385,
          "x1": -0.7783432602882385,
          "xref": "x",
          "y0": 0,
          "y1": 1,
          "yref": "y domain"
         }
        ],
        "template": {
         "data": {
          "bar": [
           {
            "error_x": {
             "color": "#f2f5fa"
            },
            "error_y": {
             "color": "#f2f5fa"
            },
            "marker": {
             "line": {
              "color": "rgb(17,17,17)",
              "width": 0.5
             },
             "pattern": {
              "fillmode": "overlay",
              "size": 10,
              "solidity": 0.2
             }
            },
            "type": "bar"
           }
          ],
          "barpolar": [
           {
            "marker": {
             "line": {
              "color": "rgb(17,17,17)",
              "width": 0.5
             },
             "pattern": {
              "fillmode": "overlay",
              "size": 10,
              "solidity": 0.2
             }
            },
            "type": "barpolar"
           }
          ],
          "carpet": [
           {
            "aaxis": {
             "endlinecolor": "#A2B1C6",
             "gridcolor": "#506784",
             "linecolor": "#506784",
             "minorgridcolor": "#506784",
             "startlinecolor": "#A2B1C6"
            },
            "baxis": {
             "endlinecolor": "#A2B1C6",
             "gridcolor": "#506784",
             "linecolor": "#506784",
             "minorgridcolor": "#506784",
             "startlinecolor": "#A2B1C6"
            },
            "type": "carpet"
           }
          ],
          "choropleth": [
           {
            "colorbar": {
             "outlinewidth": 0,
             "ticks": ""
            },
            "type": "choropleth"
           }
          ],
          "contour": [
           {
            "colorbar": {
             "outlinewidth": 0,
             "ticks": ""
            },
            "colorscale": [
             [
              0,
              "#0d0887"
             ],
             [
              0.1111111111111111,
              "#46039f"
             ],
             [
              0.2222222222222222,
              "#7201a8"
             ],
             [
              0.3333333333333333,
              "#9c179e"
             ],
             [
              0.4444444444444444,
              "#bd3786"
             ],
             [
              0.5555555555555556,
              "#d8576b"
             ],
             [
              0.6666666666666666,
              "#ed7953"
             ],
             [
              0.7777777777777778,
              "#fb9f3a"
             ],
             [
              0.8888888888888888,
              "#fdca26"
             ],
             [
              1,
              "#f0f921"
             ]
            ],
            "type": "contour"
           }
          ],
          "contourcarpet": [
           {
            "colorbar": {
             "outlinewidth": 0,
             "ticks": ""
            },
            "type": "contourcarpet"
           }
          ],
          "heatmap": [
           {
            "colorbar": {
             "outlinewidth": 0,
             "ticks": ""
            },
            "colorscale": [
             [
              0,
              "#0d0887"
             ],
             [
              0.1111111111111111,
              "#46039f"
             ],
             [
              0.2222222222222222,
              "#7201a8"
             ],
             [
              0.3333333333333333,
              "#9c179e"
             ],
             [
              0.4444444444444444,
              "#bd3786"
             ],
             [
              0.5555555555555556,
              "#d8576b"
             ],
             [
              0.6666666666666666,
              "#ed7953"
             ],
             [
              0.7777777777777778,
              "#fb9f3a"
             ],
             [
              0.8888888888888888,
              "#fdca26"
             ],
             [
              1,
              "#f0f921"
             ]
            ],
            "type": "heatmap"
           }
          ],
          "heatmapgl": [
           {
            "colorbar": {
             "outlinewidth": 0,
             "ticks": ""
            },
            "colorscale": [
             [
              0,
              "#0d0887"
             ],
             [
              0.1111111111111111,
              "#46039f"
             ],
             [
              0.2222222222222222,
              "#7201a8"
             ],
             [
              0.3333333333333333,
              "#9c179e"
             ],
             [
              0.4444444444444444,
              "#bd3786"
             ],
             [
              0.5555555555555556,
              "#d8576b"
             ],
             [
              0.6666666666666666,
              "#ed7953"
             ],
             [
              0.7777777777777778,
              "#fb9f3a"
             ],
             [
              0.8888888888888888,
              "#fdca26"
             ],
             [
              1,
              "#f0f921"
             ]
            ],
            "type": "heatmapgl"
           }
          ],
          "histogram": [
           {
            "marker": {
             "pattern": {
              "fillmode": "overlay",
              "size": 10,
              "solidity": 0.2
             }
            },
            "type": "histogram"
           }
          ],
          "histogram2d": [
           {
            "colorbar": {
             "outlinewidth": 0,
             "ticks": ""
            },
            "colorscale": [
             [
              0,
              "#0d0887"
             ],
             [
              0.1111111111111111,
              "#46039f"
             ],
             [
              0.2222222222222222,
              "#7201a8"
             ],
             [
              0.3333333333333333,
              "#9c179e"
             ],
             [
              0.4444444444444444,
              "#bd3786"
             ],
             [
              0.5555555555555556,
              "#d8576b"
             ],
             [
              0.6666666666666666,
              "#ed7953"
             ],
             [
              0.7777777777777778,
              "#fb9f3a"
             ],
             [
              0.8888888888888888,
              "#fdca26"
             ],
             [
              1,
              "#f0f921"
             ]
            ],
            "type": "histogram2d"
           }
          ],
          "histogram2dcontour": [
           {
            "colorbar": {
             "outlinewidth": 0,
             "ticks": ""
            },
            "colorscale": [
             [
              0,
              "#0d0887"
             ],
             [
              0.1111111111111111,
              "#46039f"
             ],
             [
              0.2222222222222222,
              "#7201a8"
             ],
             [
              0.3333333333333333,
              "#9c179e"
             ],
             [
              0.4444444444444444,
              "#bd3786"
             ],
             [
              0.5555555555555556,
              "#d8576b"
             ],
             [
              0.6666666666666666,
              "#ed7953"
             ],
             [
              0.7777777777777778,
              "#fb9f3a"
             ],
             [
              0.8888888888888888,
              "#fdca26"
             ],
             [
              1,
              "#f0f921"
             ]
            ],
            "type": "histogram2dcontour"
           }
          ],
          "mesh3d": [
           {
            "colorbar": {
             "outlinewidth": 0,
             "ticks": ""
            },
            "type": "mesh3d"
           }
          ],
          "parcoords": [
           {
            "line": {
             "colorbar": {
              "outlinewidth": 0,
              "ticks": ""
             }
            },
            "type": "parcoords"
           }
          ],
          "pie": [
           {
            "automargin": true,
            "type": "pie"
           }
          ],
          "scatter": [
           {
            "marker": {
             "line": {
              "color": "#283442"
             }
            },
            "type": "scatter"
           }
          ],
          "scatter3d": [
           {
            "line": {
             "colorbar": {
              "outlinewidth": 0,
              "ticks": ""
             }
            },
            "marker": {
             "colorbar": {
              "outlinewidth": 0,
              "ticks": ""
             }
            },
            "type": "scatter3d"
           }
          ],
          "scattercarpet": [
           {
            "marker": {
             "colorbar": {
              "outlinewidth": 0,
              "ticks": ""
             }
            },
            "type": "scattercarpet"
           }
          ],
          "scattergeo": [
           {
            "marker": {
             "colorbar": {
              "outlinewidth": 0,
              "ticks": ""
             }
            },
            "type": "scattergeo"
           }
          ],
          "scattergl": [
           {
            "marker": {
             "line": {
              "color": "#283442"
             }
            },
            "type": "scattergl"
           }
          ],
          "scattermapbox": [
           {
            "marker": {
             "colorbar": {
              "outlinewidth": 0,
              "ticks": ""
             }
            },
            "type": "scattermapbox"
           }
          ],
          "scatterpolar": [
           {
            "marker": {
             "colorbar": {
              "outlinewidth": 0,
              "ticks": ""
             }
            },
            "type": "scatterpolar"
           }
          ],
          "scatterpolargl": [
           {
            "marker": {
             "colorbar": {
              "outlinewidth": 0,
              "ticks": ""
             }
            },
            "type": "scatterpolargl"
           }
          ],
          "scatterternary": [
           {
            "marker": {
             "colorbar": {
              "outlinewidth": 0,
              "ticks": ""
             }
            },
            "type": "scatterternary"
           }
          ],
          "surface": [
           {
            "colorbar": {
             "outlinewidth": 0,
             "ticks": ""
            },
            "colorscale": [
             [
              0,
              "#0d0887"
             ],
             [
              0.1111111111111111,
              "#46039f"
             ],
             [
              0.2222222222222222,
              "#7201a8"
             ],
             [
              0.3333333333333333,
              "#9c179e"
             ],
             [
              0.4444444444444444,
              "#bd3786"
             ],
             [
              0.5555555555555556,
              "#d8576b"
             ],
             [
              0.6666666666666666,
              "#ed7953"
             ],
             [
              0.7777777777777778,
              "#fb9f3a"
             ],
             [
              0.8888888888888888,
              "#fdca26"
             ],
             [
              1,
              "#f0f921"
             ]
            ],
            "type": "surface"
           }
          ],
          "table": [
           {
            "cells": {
             "fill": {
              "color": "#506784"
             },
             "line": {
              "color": "rgb(17,17,17)"
             }
            },
            "header": {
             "fill": {
              "color": "#2a3f5f"
             },
             "line": {
              "color": "rgb(17,17,17)"
             }
            },
            "type": "table"
           }
          ]
         },
         "layout": {
          "annotationdefaults": {
           "arrowcolor": "#f2f5fa",
           "arrowhead": 0,
           "arrowwidth": 1
          },
          "autotypenumbers": "strict",
          "coloraxis": {
           "colorbar": {
            "outlinewidth": 0,
            "ticks": ""
           }
          },
          "colorscale": {
           "diverging": [
            [
             0,
             "#8e0152"
            ],
            [
             0.1,
             "#c51b7d"
            ],
            [
             0.2,
             "#de77ae"
            ],
            [
             0.3,
             "#f1b6da"
            ],
            [
             0.4,
             "#fde0ef"
            ],
            [
             0.5,
             "#f7f7f7"
            ],
            [
             0.6,
             "#e6f5d0"
            ],
            [
             0.7,
             "#b8e186"
            ],
            [
             0.8,
             "#7fbc41"
            ],
            [
             0.9,
             "#4d9221"
            ],
            [
             1,
             "#276419"
            ]
           ],
           "sequential": [
            [
             0,
             "#0d0887"
            ],
            [
             0.1111111111111111,
             "#46039f"
            ],
            [
             0.2222222222222222,
             "#7201a8"
            ],
            [
             0.3333333333333333,
             "#9c179e"
            ],
            [
             0.4444444444444444,
             "#bd3786"
            ],
            [
             0.5555555555555556,
             "#d8576b"
            ],
            [
             0.6666666666666666,
             "#ed7953"
            ],
            [
             0.7777777777777778,
             "#fb9f3a"
            ],
            [
             0.8888888888888888,
             "#fdca26"
            ],
            [
             1,
             "#f0f921"
            ]
           ],
           "sequentialminus": [
            [
             0,
             "#0d0887"
            ],
            [
             0.1111111111111111,
             "#46039f"
            ],
            [
             0.2222222222222222,
             "#7201a8"
            ],
            [
             0.3333333333333333,
             "#9c179e"
            ],
            [
             0.4444444444444444,
             "#bd3786"
            ],
            [
             0.5555555555555556,
             "#d8576b"
            ],
            [
             0.6666666666666666,
             "#ed7953"
            ],
            [
             0.7777777777777778,
             "#fb9f3a"
            ],
            [
             0.8888888888888888,
             "#fdca26"
            ],
            [
             1,
             "#f0f921"
            ]
           ]
          },
          "colorway": [
           "#636efa",
           "#EF553B",
           "#00cc96",
           "#ab63fa",
           "#FFA15A",
           "#19d3f3",
           "#FF6692",
           "#B6E880",
           "#FF97FF",
           "#FECB52"
          ],
          "font": {
           "color": "#f2f5fa"
          },
          "geo": {
           "bgcolor": "rgb(17,17,17)",
           "lakecolor": "rgb(17,17,17)",
           "landcolor": "rgb(17,17,17)",
           "showlakes": true,
           "showland": true,
           "subunitcolor": "#506784"
          },
          "hoverlabel": {
           "align": "left"
          },
          "hovermode": "closest",
          "mapbox": {
           "style": "dark"
          },
          "paper_bgcolor": "rgb(17,17,17)",
          "plot_bgcolor": "rgb(17,17,17)",
          "polar": {
           "angularaxis": {
            "gridcolor": "#506784",
            "linecolor": "#506784",
            "ticks": ""
           },
           "bgcolor": "rgb(17,17,17)",
           "radialaxis": {
            "gridcolor": "#506784",
            "linecolor": "#506784",
            "ticks": ""
           }
          },
          "scene": {
           "xaxis": {
            "backgroundcolor": "rgb(17,17,17)",
            "gridcolor": "#506784",
            "gridwidth": 2,
            "linecolor": "#506784",
            "showbackground": true,
            "ticks": "",
            "zerolinecolor": "#C8D4E3"
           },
           "yaxis": {
            "backgroundcolor": "rgb(17,17,17)",
            "gridcolor": "#506784",
            "gridwidth": 2,
            "linecolor": "#506784",
            "showbackground": true,
            "ticks": "",
            "zerolinecolor": "#C8D4E3"
           },
           "zaxis": {
            "backgroundcolor": "rgb(17,17,17)",
            "gridcolor": "#506784",
            "gridwidth": 2,
            "linecolor": "#506784",
            "showbackground": true,
            "ticks": "",
            "zerolinecolor": "#C8D4E3"
           }
          },
          "shapedefaults": {
           "line": {
            "color": "#f2f5fa"
           }
          },
          "sliderdefaults": {
           "bgcolor": "#C8D4E3",
           "bordercolor": "rgb(17,17,17)",
           "borderwidth": 1,
           "tickwidth": 0
          },
          "ternary": {
           "aaxis": {
            "gridcolor": "#506784",
            "linecolor": "#506784",
            "ticks": ""
           },
           "baxis": {
            "gridcolor": "#506784",
            "linecolor": "#506784",
            "ticks": ""
           },
           "bgcolor": "rgb(17,17,17)",
           "caxis": {
            "gridcolor": "#506784",
            "linecolor": "#506784",
            "ticks": ""
           }
          },
          "title": {
           "x": 0.05
          },
          "updatemenudefaults": {
           "bgcolor": "#506784",
           "borderwidth": 0
          },
          "xaxis": {
           "automargin": true,
           "gridcolor": "#283442",
           "linecolor": "#506784",
           "ticks": "",
           "title": {
            "standoff": 15
           },
           "zerolinecolor": "#283442",
           "zerolinewidth": 2
          },
          "yaxis": {
           "automargin": true,
           "gridcolor": "#283442",
           "linecolor": "#506784",
           "ticks": "",
           "title": {
            "standoff": 15
           },
           "zerolinecolor": "#283442",
           "zerolinewidth": 2
          }
         }
        },
        "title": {
         "text": "Posterior marginal distribution of trust weights"
        },
        "xaxis": {
         "anchor": "y",
         "domain": [
          0,
          1
         ],
         "title": {
          "text": "value"
         }
        },
        "yaxis": {
         "anchor": "x",
         "domain": [
          0,
          1
         ],
         "title": {
          "text": "count"
         }
        }
       }
      }
     },
     "metadata": {},
     "output_type": "display_data"
    }
   ],
   "source": [
    "fig1 = px.histogram(\n",
    "    samples[\"weight_trust\"],\n",
    "    title=\"Posterior marginal distribution of trust weights\",\n",
    "    template=\"plotly_dark\",\n",
    ")\n",
    "\n",
    "mean_trust = samples[\"weight_trust\"].mean()\n",
    "\n",
    "\n",
    "fig1.update_traces(showlegend=False)\n",
    "fig1.add_vline(\n",
    "    x=mean_trust,\n",
    "    line_dash=\"dash\",\n",
    "    line_color=\"red\",\n",
    "    annotation_text=f\"Mean = {mean_trust:.2f}\",\n",
    "    annotation_position=\"top right\",\n",
    "    annotation_xshift=20,\n",
    ")\n"
   ]
  },
  {
   "cell_type": "code",
   "execution_count": 25,
   "metadata": {},
   "outputs": [
    {
     "data": {
      "application/vnd.plotly.v1+json": {
       "config": {
        "plotlyServerURL": "https://plot.ly"
       },
       "data": [
        {
         "alignmentgroup": "True",
         "bingroup": "x",
         "hovertemplate": "variable=0<br>value=%{x}<br>count=%{y}<extra></extra>",
         "legendgroup": "0",
         "marker": {
          "color": "#636efa",
          "pattern": {
           "shape": ""
          }
         },
         "name": "0",
         "offsetgroup": "0",
         "orientation": "v",
         "showlegend": false,
         "type": "histogram",
         "x": [
          0.37806880474090576,
          1.2700648307800293,
          0.9333173036575317,
          0.6421726942062378,
          1.6321914196014404,
          1.105908989906311,
          1.3152828216552734,
          0.712043285369873,
          1.4307857751846313,
          0.611494243144989,
          1.5278866291046143,
          2.0388970375061035,
          1.1729278564453125,
          0.7906493544578552,
          1.219362497329712,
          1.6209760904312134,
          1.0043063163757324,
          0.9312489032745361,
          1.290313482284546,
          0.24973535537719727,
          0.8180211782455444,
          1.535981297492981,
          1.409131646156311,
          0.8460063338279724,
          0.4221619963645935,
          1.5415440797805786,
          0.8656879663467407,
          1.8754239082336426,
          1.7994978427886963,
          2.038160562515259,
          1.253075361251831,
          1.4205365180969238,
          1.4931730031967163,
          1.8307623863220215,
          1.5775604248046875,
          0.6279354095458984,
          1.1247130632400513,
          0.7692261934280396,
          1.1451255083084106,
          1.721269130706787,
          1.030946969985962,
          0.9635521173477173,
          0.5623288154602051,
          2.009450674057007,
          2.1055407524108887,
          1.6355658769607544,
          0.9256056547164917,
          0.8300021290779114,
          0.6272940039634705,
          1.4496779441833496,
          1.4196902513504028,
          1.0474565029144287,
          1.0273411273956299,
          1.329750895500183,
          1.4289594888687134,
          1.8006486892700195,
          0.7539491653442383,
          1.0884147882461548,
          1.4084687232971191,
          2.1340975761413574,
          1.4523879289627075,
          0.915110170841217,
          1.4144600629806519,
          1.606547474861145,
          1.6936861276626587,
          0.9139301180839539,
          1.5803985595703125,
          1.0588892698287964,
          0.622164785861969,
          1.5258479118347168,
          1.2428953647613525,
          0.9184757471084595,
          2.388676166534424,
          1.7669893503189087,
          1.4844671487808228,
          0.8409604430198669,
          1.797626256942749,
          1.180262565612793,
          1.8511505126953125,
          1.3487595319747925,
          1.5478618144989014,
          1.1762171983718872,
          1.5875450372695923,
          0.8758137226104736,
          1.7072155475616455,
          0.560714066028595,
          0.9245628118515015,
          1.0723673105239868,
          0.958137571811676,
          1.4209431409835815,
          0.471189022064209,
          1.0659332275390625,
          1.0115183591842651,
          1.071822166442871,
          1.316646695137024,
          1.209489345550537,
          1.394555926322937,
          1.604077935218811,
          0.9215131402015686,
          1.7236926555633545,
          1.6240917444229126,
          0.6810060143470764,
          1.207395076751709,
          1.3544127941131592,
          1.5333611965179443,
          0.8164951205253601,
          1.8479264974594116,
          1.6080212593078613,
          1.534774661064148,
          1.2191543579101562,
          1.506356954574585,
          1.3970441818237305,
          1.4150540828704834,
          0.8730324506759644,
          1.9437968730926514,
          0.944374680519104,
          0.7546440958976746,
          1.1800613403320312,
          1.1928125619888306,
          0.6770187020301819,
          1.337290644645691,
          0.5767900347709656,
          1.2283190488815308,
          1.4705150127410889,
          1.1418887376785278,
          1.3944787979125977,
          1.5734262466430664,
          1.4423390626907349,
          1.0899583101272583,
          1.6200357675552368,
          0.4618741273880005,
          1.3508026599884033,
          1.1448780298233032,
          0.8572295904159546,
          1.0274122953414917,
          1.189217448234558,
          1.596212387084961,
          1.2579036951065063,
          1.1202616691589355,
          1.3941997289657593,
          1.7706750631332397,
          0.810246467590332,
          1.6856216192245483,
          1.3352315425872803,
          1.4917607307434082,
          0.7441866993904114,
          0.6319329142570496,
          1.470333456993103,
          1.112783670425415,
          1.5587356090545654,
          1.3430968523025513,
          1.0179246664047241,
          0.548144519329071,
          0.7544137835502625,
          2.03602933883667,
          1.4424571990966797,
          1.7830919027328491,
          0.5992261171340942,
          1.3695950508117676,
          1.560392141342163,
          1.27202308177948,
          1.134717583656311,
          1.3291611671447754,
          1.0269663333892822,
          1.596303939819336,
          1.3723422288894653,
          1.0250135660171509,
          -0.11094987392425537,
          0.7440322637557983,
          1.3392276763916016,
          0.8470216989517212,
          0.1878882646560669,
          0.8742822408676147,
          1.8691020011901855,
          1.5021799802780151,
          1.7169071435928345,
          1.6659671068191528,
          1.0940886735916138,
          0.6123340129852295,
          1.3437798023223877,
          0.8032107949256897,
          0.7695578932762146,
          1.2937794923782349,
          1.3746578693389893,
          0.7522171139717102,
          0.34048402309417725,
          1.9106996059417725,
          1.6357800960540771,
          1.2773293256759644,
          2.2345826625823975,
          1.344566822052002,
          0.8911900520324707,
          0.7764246463775635,
          1.4468460083007812,
          1.5906455516815186,
          0.5669915080070496,
          1.1677024364471436,
          2.0951709747314453,
          1.4157758951187134,
          2.1209237575531006,
          1.831855058670044,
          1.5043208599090576,
          1.3574573993682861,
          0.9895251393318176,
          0.8810219168663025,
          1.3645672798156738,
          0.6427017450332642,
          0.8542109131813049,
          0.5392652153968811,
          1.8648847341537476,
          1.7322113513946533,
          1.465991735458374,
          1.3600083589553833,
          2.0869202613830566,
          1.4069011211395264,
          0.863118588924408,
          1.571150541305542,
          2.0394234657287598,
          1.871431827545166,
          1.6818253993988037,
          1.9041831493377686,
          1.3871408700942993,
          1.2744613885879517,
          0.9327722787857056,
          1.7963484525680542,
          0.7067686915397644,
          1.0861785411834717,
          1.1773598194122314,
          1.5342479944229126,
          1.412962555885315,
          1.287642240524292,
          1.33481764793396,
          1.142348289489746,
          1.6249006986618042,
          1.64980149269104,
          1.1149760484695435,
          1.7590371370315552,
          0.9841045141220093,
          1.458928108215332,
          1.817621111869812,
          1.2578059434890747,
          0.6265988349914551,
          1.4052926301956177,
          2.0440773963928223,
          1.5275336503982544,
          0.8428361415863037,
          1.408037543296814,
          0.7580699920654297,
          1.1483619213104248,
          1.5465571880340576,
          1.279039740562439,
          1.0457868576049805,
          1.0590137243270874,
          1.3211169242858887,
          0.9400956630706787,
          1.5032548904418945,
          1.3223845958709717,
          0.6792046427726746,
          1.3838844299316406,
          1.1010347604751587,
          1.3135064840316772,
          1.4561911821365356,
          1.740918755531311,
          1.0987286567687988,
          1.0116417407989502,
          1.4997090101242065,
          0.8539479374885559,
          0.9695584774017334,
          1.8452558517456055,
          1.0007494688034058,
          1.886164903640747,
          1.432876706123352,
          0.3933391571044922,
          1.8111655712127686,
          1.1471582651138306,
          1.3615134954452515,
          1.3404947519302368,
          1.1999704837799072,
          1.197608232498169,
          1.607998013496399,
          1.578756332397461,
          1.0462051630020142,
          0.8856301307678223,
          0.86661696434021,
          1.2118895053863525,
          0.5302861332893372,
          0.8212282657623291,
          0.6330556273460388,
          1.4400346279144287,
          1.665627360343933,
          1.8125669956207275,
          0.9753908514976501,
          1.136475920677185,
          1.887722134590149,
          1.385117769241333,
          1.3890533447265625,
          1.038730502128601,
          1.545548439025879,
          1.0374040603637695,
          1.3309695720672607,
          1.1903680562973022,
          1.5658866167068481,
          1.2845226526260376,
          1.3128477334976196,
          1.3471282720565796,
          0.6776919364929199,
          1.4402225017547607,
          1.287880301475525,
          1.7740141153335571,
          1.7899340391159058,
          0.7810927033424377,
          1.7800253629684448,
          1.0108861923217773,
          1.3486669063568115,
          0.8850772380828857,
          1.0274184942245483,
          1.2424743175506592,
          0.8087906837463379,
          1.2988970279693604,
          1.5252578258514404,
          1.3970704078674316,
          1.8247795104980469,
          1.408324956893921,
          1.6164135932922363,
          0.7613430023193359,
          0.9973562955856323,
          1.6816350221633911,
          1.8838207721710205,
          2.295738697052002,
          1.1874053478240967,
          1.685962438583374,
          0.5349286198616028,
          1.2555086612701416,
          1.1566505432128906,
          1.209850788116455,
          2.232518434524536,
          1.562811255455017,
          1.9564366340637207,
          1.5144466161727905,
          1.4345625638961792,
          0.7043648362159729,
          0.7586315870285034,
          1.3257863521575928,
          1.4181560277938843,
          1.3718860149383545,
          1.5227128267288208,
          1.0699427127838135,
          1.3398357629776,
          0.9125205278396606,
          0.9977862238883972,
          0.8087084293365479,
          1.635698676109314,
          1.6228830814361572,
          1.6959304809570312,
          0.9020538330078125,
          1.0860902070999146,
          0.4677879214286804,
          1.3640892505645752,
          1.0933400392532349,
          1.7901313304901123,
          1.2932190895080566,
          1.1988095045089722,
          0.8466001749038696,
          1.5126525163650513,
          1.8475477695465088,
          0.9915817975997925,
          1.679598093032837,
          1.8045339584350586,
          1.447086215019226,
          0.8563575744628906,
          0.9797531962394714,
          0.8562672138214111,
          1.4996187686920166,
          -0.04256010055541992,
          0.96877121925354,
          1.504422664642334,
          1.862781047821045,
          1.181151032447815,
          0.9012089967727661,
          1.7275340557098389,
          0.924640417098999,
          1.2821905612945557,
          1.6431567668914795,
          1.1675350666046143,
          1.0820133686065674,
          1.2658717632293701,
          1.1902555227279663,
          1.0069646835327148,
          0.8970446586608887,
          1.7618179321289062,
          1.818333387374878,
          0.9623610973358154,
          0.7994465231895447,
          1.1748759746551514,
          1.2365959882736206,
          1.4643332958221436,
          1.751481294631958,
          1.6118342876434326,
          0.6830167174339294,
          1.5995681285858154,
          0.8126951456069946,
          1.768505573272705,
          1.4673644304275513,
          0.6603366732597351,
          0.9412234425544739,
          1.9617886543273926,
          1.4591856002807617,
          1.1306244134902954,
          1.1072566509246826,
          1.2566428184509277,
          1.310170292854309,
          1.558680772781372,
          1.2776283025741577,
          0.5402058959007263,
          1.1479406356811523,
          1.1534420251846313,
          1.2833669185638428,
          0.9049221277236938,
          1.7535476684570312,
          1.4751675128936768,
          1.6939998865127563,
          1.261689305305481,
          0.4701821804046631,
          1.3737934827804565,
          0.7319027781486511,
          1.3455127477645874,
          1.0533158779144287,
          1.2654070854187012,
          1.5598275661468506,
          1.3840818405151367,
          1.4145455360412598,
          0.9201704263687134,
          0.8383724689483643,
          1.6850203275680542,
          1.9041657447814941,
          1.343854308128357,
          1.2704708576202393,
          0.7757139205932617,
          1.9495320320129395,
          1.621922254562378,
          0.8809835910797119,
          0.932693600654602,
          1.1488423347473145,
          0.2284257411956787,
          1.0354925394058228,
          0.4982801675796509,
          1.0418437719345093,
          1.8300926685333252,
          1.7726608514785767,
          1.3262642621994019,
          1.8873188495635986,
          0.9679622650146484,
          0.8903285264968872,
          1.7513291835784912,
          0.9617841243743896,
          0.9939828515052795,
          1.823477029800415,
          0.9230098724365234,
          1.2896636724472046,
          0.9813995957374573,
          1.094001054763794,
          1.0119106769561768,
          1.4477702379226685,
          1.3571007251739502,
          1.2381887435913086,
          1.5619200468063354,
          1.9989078044891357,
          0.9756720066070557,
          1.08269202709198,
          1.6239886283874512,
          1.2306299209594727,
          1.7297008037567139,
          0.6948438882827759,
          0.4529755711555481,
          1.4662425518035889,
          1.2842426300048828,
          1.0317368507385254,
          1.441219449043274,
          1.0792697668075562,
          1.3568320274353027,
          1.0936273336410522,
          1.424660086631775,
          1.0092196464538574,
          1.4357155561447144,
          1.3464359045028687,
          1.15145742893219,
          0.69693922996521,
          0.5869117379188538,
          1.4978493452072144,
          1.9239020347595215,
          0.7490859627723694,
          0.9085806608200073,
          0.5489988327026367,
          1.356985330581665,
          1.3548616170883179,
          2.0943918228149414,
          1.5113940238952637,
          1.1543865203857422,
          1.0439784526824951,
          0.9490672945976257,
          1.715709924697876,
          0.6189171671867371,
          1.0610101222991943,
          1.4365448951721191,
          0.99717116355896,
          0.9192922115325928,
          0.8202953934669495,
          0.942863941192627,
          0.4331122636795044,
          0.43111300468444824,
          0.9655373096466064,
          1.2936921119689941,
          1.2460616827011108,
          0.8161771297454834,
          1.767482876777649,
          0.9844800233840942,
          1.0324480533599854,
          1.1353957653045654,
          0.4654967784881592,
          1.137932300567627,
          1.8206439018249512,
          0.969903826713562,
          1.4859850406646729,
          1.238052487373352,
          2.023188352584839,
          1.584036946296692,
          1.2400245666503906,
          1.1612435579299927,
          2.0785930156707764,
          0.9196867942810059,
          1.011775255203247,
          0.9722397327423096,
          1.68538498878479,
          0.9370681047439575,
          1.2041114568710327,
          1.312354564666748,
          1.3434667587280273,
          1.5987156629562378,
          1.7138861417770386,
          1.5430843830108643,
          1.4430696964263916,
          1.4513503313064575,
          1.75133216381073,
          1.444762110710144,
          1.1887627840042114,
          1.8766884803771973,
          0.9703735709190369,
          1.055677056312561,
          0.8283302783966064,
          0.9660868644714355,
          0.8491547107696533,
          0.9554518461227417,
          0.557276725769043,
          1.0910003185272217,
          0.43136441707611084,
          0.9664577841758728,
          1.613236665725708,
          1.5479607582092285,
          1.4406541585922241,
          1.2403817176818848,
          1.2336785793304443,
          1.769956111907959,
          1.5079561471939087,
          1.484034538269043,
          1.4516758918762207,
          1.5573303699493408,
          1.4921146631240845,
          0.7848221659660339,
          1.5644114017486572,
          1.374822735786438,
          0.6851720213890076,
          0.88580322265625,
          1.5630964040756226,
          0.7080068588256836,
          1.235236644744873,
          1.978121280670166,
          1.2131812572479248,
          1.9423245191574097,
          0.9495527148246765,
          1.1908072233200073,
          1.8712687492370605,
          1.211357831954956,
          0.73841792345047,
          1.236926794052124,
          1.1752781867980957,
          1.1463054418563843,
          2.1357624530792236,
          1.6531336307525635,
          1.4365670680999756,
          1.4378782510757446,
          0.7877660989761353,
          1.7147727012634277,
          1.2620432376861572,
          0.9877474308013916,
          1.8775038719177246,
          1.7362746000289917,
          1.994964361190796,
          1.1179022789001465,
          1.6590135097503662,
          1.5846415758132935,
          1.4612094163894653,
          1.4833570718765259,
          0.4882478713989258,
          1.9123141765594482,
          1.4199079275131226,
          2.1627488136291504,
          0.8677313327789307,
          1.6861872673034668,
          1.6590430736541748,
          1.6226074695587158,
          0.9469647407531738,
          1.4881019592285156,
          1.4412806034088135,
          1.1605311632156372,
          1.0488827228546143,
          1.5684621334075928,
          0.474392294883728,
          1.636545181274414,
          0.9401820302009583,
          2.2099740505218506,
          1.7683415412902832,
          1.9507091045379639,
          0.6489412188529968,
          1.3953770399093628,
          1.3325380086898804,
          0.7734394073486328,
          1.4026284217834473,
          0.8778664469718933,
          1.4356658458709717,
          1.753057837486267,
          1.168871521949768,
          1.241105318069458,
          0.9145090579986572,
          1.353041410446167,
          0.23156452178955078,
          1.0820294618606567,
          0.985427975654602,
          1.2100017070770264,
          1.7405331134796143,
          1.2881630659103394,
          -0.24713587760925293,
          1.5395582914352417,
          1.679749846458435,
          1.3387455940246582,
          0.7925155758857727,
          0.8756455183029175,
          1.3353149890899658,
          1.9052469730377197,
          1.2485915422439575,
          1.6975035667419434,
          1.5481717586517334,
          1.6064585447311401,
          1.1324570178985596,
          1.4375874996185303,
          1.1151254177093506,
          1.7932538986206055,
          0.793341338634491,
          1.5996499061584473,
          1.8348779678344727,
          1.0817208290100098,
          1.0921053886413574,
          1.8092454671859741,
          1.807140588760376,
          0.8310432434082031,
          1.0480684041976929,
          1.579432725906372,
          2.2387213706970215,
          1.2762564420700073,
          0.6888957619667053,
          0.9008870720863342,
          1.3780391216278076,
          1.4563891887664795,
          1.5056629180908203,
          1.3256651163101196,
          1.6822093725204468,
          1.7003371715545654,
          0.8852901458740234,
          1.1798063516616821,
          1.3166439533233643,
          1.6355092525482178,
          1.2788641452789307,
          0.6967279314994812,
          1.5565874576568604,
          2.1068477630615234,
          0.8450250625610352,
          2.3605198860168457,
          1.4597240686416626,
          0.8538804054260254,
          1.4218019247055054,
          0.8418623208999634,
          2.270683765411377,
          1.7932326793670654,
          0.6611398458480835,
          1.1603622436523438,
          1.1267457008361816,
          1.6195993423461914,
          0.9449278712272644,
          1.1061773300170898,
          1.651561975479126,
          1.060427188873291,
          1.5635143518447876,
          1.3118029832839966,
          1.6922863721847534,
          1.8735383749008179,
          1.5779292583465576,
          0.9767792224884033,
          1.4690470695495605,
          0.7731997966766357,
          1.41169273853302,
          0.3042052984237671,
          1.4798362255096436,
          1.9129846096038818,
          1.364963412284851,
          1.2173525094985962,
          1.0926907062530518,
          1.6358572244644165,
          1.7452088594436646,
          1.3414313793182373,
          0.4795769453048706,
          1.5190067291259766,
          1.4778846502304077,
          1.4252111911773682,
          1.543317437171936,
          1.4685208797454834,
          1.743293046951294,
          1.0338456630706787,
          1.498452067375183,
          1.118628740310669,
          1.8503391742706299,
          1.0069326162338257,
          0.44213205575942993,
          0.980185329914093,
          1.5866003036499023,
          1.645801305770874,
          1.2803229093551636,
          0.5015754103660583,
          0.9042798280715942,
          0.6848913431167603,
          1.63609778881073,
          1.4178287982940674,
          0.7131935358047485,
          1.1806806325912476,
          1.7125217914581299,
          0.9491665363311768,
          0.8833457231521606,
          1.475200891494751,
          0.6019651293754578,
          1.486684799194336,
          1.1194546222686768,
          0.7286576628684998,
          1.34835684299469,
          1.4588137865066528,
          1.4339112043380737,
          1.2991623878479004,
          1.0269291400909424,
          1.4639880657196045,
          1.692314863204956,
          0.9007958173751831,
          1.865922212600708,
          1.2794311046600342,
          0.9504550695419312,
          1.5292679071426392,
          1.77541184425354,
          1.1906156539916992,
          1.2547646760940552,
          1.0553027391433716,
          0.8016590476036072,
          1.6950663328170776,
          1.448043942451477,
          1.7115793228149414,
          1.5799795389175415,
          1.5476489067077637,
          1.2957704067230225,
          1.2343145608901978,
          1.894768476486206,
          1.4530224800109863,
          1.0094733238220215,
          1.5127712488174438,
          1.2959158420562744,
          1.2930989265441895,
          0.9412333369255066,
          0.8045525550842285,
          1.3483881950378418,
          1.1954349279403687,
          1.0949209928512573,
          1.0312037467956543,
          1.5702271461486816,
          1.9444029331207275,
          1.632739782333374,
          1.229233741760254,
          1.2229759693145752,
          1.311403512954712,
          1.521191120147705,
          2.140070915222168,
          1.5907225608825684,
          1.1628135442733765,
          1.3126031160354614,
          1.4317907094955444,
          2.0560269355773926,
          1.1676304340362549,
          0.9989362955093384,
          0.6567586064338684,
          1.7300736904144287,
          1.260688304901123,
          1.2008687257766724,
          0.707999587059021,
          1.038750171661377,
          1.1245688199996948,
          1.5094977617263794,
          1.1591389179229736,
          1.0654422044754028,
          1.5310940742492676,
          1.52809739112854,
          1.519418716430664,
          1.740813136100769,
          2.1676113605499268,
          1.7311866283416748,
          0.7669041156768799,
          1.0858550071716309,
          1.5310113430023193,
          1.2072792053222656,
          0.6935945153236389,
          0.567354142665863,
          1.4455612897872925,
          1.4972394704818726,
          0.9477070569992065,
          1.1741299629211426,
          1.2764790058135986,
          0.45804494619369507,
          1.6746416091918945,
          1.2594213485717773,
          0.9528999328613281,
          1.541975736618042,
          1.3891198635101318,
          0.9560717344284058,
          1.3472602367401123,
          1.600160002708435,
          1.2296502590179443,
          0.8661626577377319,
          0.8430595397949219,
          0.83780837059021,
          1.5824648141860962,
          1.6669607162475586,
          0.9803194999694824,
          1.4519662857055664,
          1.7782814502716064,
          0.7876504063606262,
          1.0566619634628296,
          1.6234360933303833,
          1.5018506050109863,
          1.9679301977157593,
          1.0229294300079346,
          1.6274901628494263,
          0.6913296580314636,
          1.0885884761810303,
          0.8576170802116394,
          0.8699777126312256,
          0.8106228113174438,
          1.2642974853515625,
          1.1327226161956787,
          1.3173476457595825,
          0.978810727596283,
          1.0709047317504883,
          1.5979504585266113,
          0.9318114519119263,
          1.8083479404449463,
          1.1972568035125732,
          1.9539185762405396,
          1.410375952720642,
          1.1489803791046143,
          0.4997410178184509,
          0.6310135722160339,
          1.702257752418518,
          1.6692386865615845,
          1.462107539176941,
          2.1927387714385986,
          1.3899389505386353,
          1.124935507774353,
          1.7529222965240479,
          1.670819878578186,
          1.6310430765151978,
          1.6401457786560059,
          1.2192343473434448,
          0.9307569265365601,
          1.1718664169311523,
          0.9805195927619934,
          1.6266175508499146,
          1.174207091331482,
          1.9174684286117554,
          1.5658354759216309,
          0.7880240678787231,
          0.7438114285469055,
          0.9244617819786072,
          0.9200650453567505,
          1.3173203468322754,
          1.0361175537109375,
          1.6963820457458496,
          1.3965848684310913,
          1.098057746887207,
          1.3665999174118042,
          0.9989380836486816,
          1.927488088607788,
          1.3386986255645752,
          1.0287256240844727,
          1.1195932626724243,
          1.3367364406585693,
          1.8828567266464233,
          2.460359573364258,
          1.2450690269470215,
          1.2172313928604126,
          0.9056822061538696,
          0.7802205681800842,
          1.1317739486694336,
          0.566372811794281,
          1.3469561338424683,
          1.166272521018982,
          1.5628693103790283,
          1.0115126371383667,
          1.3507676124572754,
          1.760660171508789,
          0.5126391053199768,
          0.6599158048629761,
          1.0818551778793335,
          1.4814047813415527,
          1.4478743076324463,
          1.7228575944900513,
          1.245983600616455,
          1.584731101989746,
          1.984472393989563,
          0.8684067726135254,
          1.7867892980575562,
          0.9084182381629944,
          1.8363409042358398,
          1.7285782098770142,
          1.0732975006103516,
          1.5569664239883423,
          0.5669453144073486,
          0.5593557953834534,
          1.2151399850845337,
          1.6105074882507324,
          1.5041781663894653,
          1.5400172472000122,
          1.3724045753479004,
          2.084071159362793,
          1.8015590906143188,
          0.9341754913330078,
          0.8666731119155884,
          1.1397689580917358,
          1.765852928161621,
          0.5304207801818848,
          1.098288893699646,
          1.1583404541015625,
          1.188615083694458,
          1.4798744916915894,
          1.1212844848632812,
          1.5243964195251465,
          1.996999979019165,
          1.0424437522888184,
          1.2974117994308472,
          1.1861562728881836,
          0.8439198732376099,
          0.95961594581604,
          1.6097403764724731,
          1.7608096599578857,
          0.827651858329773,
          1.5370148420333862,
          0.7128105163574219,
          1.2303879261016846,
          0.7720004916191101,
          1.2235673666000366,
          1.4696494340896606,
          1.1911593675613403,
          1.8648700714111328,
          1.5798767805099487,
          0.7426609396934509,
          1.2242027521133423,
          2.057145595550537,
          1.0178556442260742,
          1.2053695917129517,
          1.6477280855178833,
          0.7566086649894714,
          0.7354118227958679,
          2.0241992473602295,
          1.5650455951690674,
          1.0987398624420166,
          1.6011967658996582,
          1.0236997604370117,
          1.449853539466858,
          1.7601903676986694,
          1.1015236377716064,
          0.9815582036972046,
          0.7582432627677917,
          1.7027822732925415,
          0.7034068703651428,
          1.2032617330551147,
          1.2294827699661255,
          0.5145223140716553,
          1.5386290550231934,
          0.9117151498794556,
          1.6307315826416016
         ],
         "xaxis": "x",
         "yaxis": "y"
        }
       ],
       "layout": {
        "annotations": [
         {
          "showarrow": false,
          "text": "Mean = 1.28",
          "x": 1.2753125429153442,
          "xanchor": "left",
          "xref": "x",
          "xshift": 20,
          "y": 1,
          "yanchor": "top",
          "yref": "y domain"
         }
        ],
        "barmode": "relative",
        "legend": {
         "title": {
          "text": "variable"
         },
         "tracegroupgap": 0
        },
        "shapes": [
         {
          "line": {
           "color": "red",
           "dash": "dash"
          },
          "type": "line",
          "x0": 1.2753125429153442,
          "x1": 1.2753125429153442,
          "xref": "x",
          "y0": 0,
          "y1": 1,
          "yref": "y domain"
         }
        ],
        "template": {
         "data": {
          "bar": [
           {
            "error_x": {
             "color": "#f2f5fa"
            },
            "error_y": {
             "color": "#f2f5fa"
            },
            "marker": {
             "line": {
              "color": "rgb(17,17,17)",
              "width": 0.5
             },
             "pattern": {
              "fillmode": "overlay",
              "size": 10,
              "solidity": 0.2
             }
            },
            "type": "bar"
           }
          ],
          "barpolar": [
           {
            "marker": {
             "line": {
              "color": "rgb(17,17,17)",
              "width": 0.5
             },
             "pattern": {
              "fillmode": "overlay",
              "size": 10,
              "solidity": 0.2
             }
            },
            "type": "barpolar"
           }
          ],
          "carpet": [
           {
            "aaxis": {
             "endlinecolor": "#A2B1C6",
             "gridcolor": "#506784",
             "linecolor": "#506784",
             "minorgridcolor": "#506784",
             "startlinecolor": "#A2B1C6"
            },
            "baxis": {
             "endlinecolor": "#A2B1C6",
             "gridcolor": "#506784",
             "linecolor": "#506784",
             "minorgridcolor": "#506784",
             "startlinecolor": "#A2B1C6"
            },
            "type": "carpet"
           }
          ],
          "choropleth": [
           {
            "colorbar": {
             "outlinewidth": 0,
             "ticks": ""
            },
            "type": "choropleth"
           }
          ],
          "contour": [
           {
            "colorbar": {
             "outlinewidth": 0,
             "ticks": ""
            },
            "colorscale": [
             [
              0,
              "#0d0887"
             ],
             [
              0.1111111111111111,
              "#46039f"
             ],
             [
              0.2222222222222222,
              "#7201a8"
             ],
             [
              0.3333333333333333,
              "#9c179e"
             ],
             [
              0.4444444444444444,
              "#bd3786"
             ],
             [
              0.5555555555555556,
              "#d8576b"
             ],
             [
              0.6666666666666666,
              "#ed7953"
             ],
             [
              0.7777777777777778,
              "#fb9f3a"
             ],
             [
              0.8888888888888888,
              "#fdca26"
             ],
             [
              1,
              "#f0f921"
             ]
            ],
            "type": "contour"
           }
          ],
          "contourcarpet": [
           {
            "colorbar": {
             "outlinewidth": 0,
             "ticks": ""
            },
            "type": "contourcarpet"
           }
          ],
          "heatmap": [
           {
            "colorbar": {
             "outlinewidth": 0,
             "ticks": ""
            },
            "colorscale": [
             [
              0,
              "#0d0887"
             ],
             [
              0.1111111111111111,
              "#46039f"
             ],
             [
              0.2222222222222222,
              "#7201a8"
             ],
             [
              0.3333333333333333,
              "#9c179e"
             ],
             [
              0.4444444444444444,
              "#bd3786"
             ],
             [
              0.5555555555555556,
              "#d8576b"
             ],
             [
              0.6666666666666666,
              "#ed7953"
             ],
             [
              0.7777777777777778,
              "#fb9f3a"
             ],
             [
              0.8888888888888888,
              "#fdca26"
             ],
             [
              1,
              "#f0f921"
             ]
            ],
            "type": "heatmap"
           }
          ],
          "heatmapgl": [
           {
            "colorbar": {
             "outlinewidth": 0,
             "ticks": ""
            },
            "colorscale": [
             [
              0,
              "#0d0887"
             ],
             [
              0.1111111111111111,
              "#46039f"
             ],
             [
              0.2222222222222222,
              "#7201a8"
             ],
             [
              0.3333333333333333,
              "#9c179e"
             ],
             [
              0.4444444444444444,
              "#bd3786"
             ],
             [
              0.5555555555555556,
              "#d8576b"
             ],
             [
              0.6666666666666666,
              "#ed7953"
             ],
             [
              0.7777777777777778,
              "#fb9f3a"
             ],
             [
              0.8888888888888888,
              "#fdca26"
             ],
             [
              1,
              "#f0f921"
             ]
            ],
            "type": "heatmapgl"
           }
          ],
          "histogram": [
           {
            "marker": {
             "pattern": {
              "fillmode": "overlay",
              "size": 10,
              "solidity": 0.2
             }
            },
            "type": "histogram"
           }
          ],
          "histogram2d": [
           {
            "colorbar": {
             "outlinewidth": 0,
             "ticks": ""
            },
            "colorscale": [
             [
              0,
              "#0d0887"
             ],
             [
              0.1111111111111111,
              "#46039f"
             ],
             [
              0.2222222222222222,
              "#7201a8"
             ],
             [
              0.3333333333333333,
              "#9c179e"
             ],
             [
              0.4444444444444444,
              "#bd3786"
             ],
             [
              0.5555555555555556,
              "#d8576b"
             ],
             [
              0.6666666666666666,
              "#ed7953"
             ],
             [
              0.7777777777777778,
              "#fb9f3a"
             ],
             [
              0.8888888888888888,
              "#fdca26"
             ],
             [
              1,
              "#f0f921"
             ]
            ],
            "type": "histogram2d"
           }
          ],
          "histogram2dcontour": [
           {
            "colorbar": {
             "outlinewidth": 0,
             "ticks": ""
            },
            "colorscale": [
             [
              0,
              "#0d0887"
             ],
             [
              0.1111111111111111,
              "#46039f"
             ],
             [
              0.2222222222222222,
              "#7201a8"
             ],
             [
              0.3333333333333333,
              "#9c179e"
             ],
             [
              0.4444444444444444,
              "#bd3786"
             ],
             [
              0.5555555555555556,
              "#d8576b"
             ],
             [
              0.6666666666666666,
              "#ed7953"
             ],
             [
              0.7777777777777778,
              "#fb9f3a"
             ],
             [
              0.8888888888888888,
              "#fdca26"
             ],
             [
              1,
              "#f0f921"
             ]
            ],
            "type": "histogram2dcontour"
           }
          ],
          "mesh3d": [
           {
            "colorbar": {
             "outlinewidth": 0,
             "ticks": ""
            },
            "type": "mesh3d"
           }
          ],
          "parcoords": [
           {
            "line": {
             "colorbar": {
              "outlinewidth": 0,
              "ticks": ""
             }
            },
            "type": "parcoords"
           }
          ],
          "pie": [
           {
            "automargin": true,
            "type": "pie"
           }
          ],
          "scatter": [
           {
            "marker": {
             "line": {
              "color": "#283442"
             }
            },
            "type": "scatter"
           }
          ],
          "scatter3d": [
           {
            "line": {
             "colorbar": {
              "outlinewidth": 0,
              "ticks": ""
             }
            },
            "marker": {
             "colorbar": {
              "outlinewidth": 0,
              "ticks": ""
             }
            },
            "type": "scatter3d"
           }
          ],
          "scattercarpet": [
           {
            "marker": {
             "colorbar": {
              "outlinewidth": 0,
              "ticks": ""
             }
            },
            "type": "scattercarpet"
           }
          ],
          "scattergeo": [
           {
            "marker": {
             "colorbar": {
              "outlinewidth": 0,
              "ticks": ""
             }
            },
            "type": "scattergeo"
           }
          ],
          "scattergl": [
           {
            "marker": {
             "line": {
              "color": "#283442"
             }
            },
            "type": "scattergl"
           }
          ],
          "scattermapbox": [
           {
            "marker": {
             "colorbar": {
              "outlinewidth": 0,
              "ticks": ""
             }
            },
            "type": "scattermapbox"
           }
          ],
          "scatterpolar": [
           {
            "marker": {
             "colorbar": {
              "outlinewidth": 0,
              "ticks": ""
             }
            },
            "type": "scatterpolar"
           }
          ],
          "scatterpolargl": [
           {
            "marker": {
             "colorbar": {
              "outlinewidth": 0,
              "ticks": ""
             }
            },
            "type": "scatterpolargl"
           }
          ],
          "scatterternary": [
           {
            "marker": {
             "colorbar": {
              "outlinewidth": 0,
              "ticks": ""
             }
            },
            "type": "scatterternary"
           }
          ],
          "surface": [
           {
            "colorbar": {
             "outlinewidth": 0,
             "ticks": ""
            },
            "colorscale": [
             [
              0,
              "#0d0887"
             ],
             [
              0.1111111111111111,
              "#46039f"
             ],
             [
              0.2222222222222222,
              "#7201a8"
             ],
             [
              0.3333333333333333,
              "#9c179e"
             ],
             [
              0.4444444444444444,
              "#bd3786"
             ],
             [
              0.5555555555555556,
              "#d8576b"
             ],
             [
              0.6666666666666666,
              "#ed7953"
             ],
             [
              0.7777777777777778,
              "#fb9f3a"
             ],
             [
              0.8888888888888888,
              "#fdca26"
             ],
             [
              1,
              "#f0f921"
             ]
            ],
            "type": "surface"
           }
          ],
          "table": [
           {
            "cells": {
             "fill": {
              "color": "#506784"
             },
             "line": {
              "color": "rgb(17,17,17)"
             }
            },
            "header": {
             "fill": {
              "color": "#2a3f5f"
             },
             "line": {
              "color": "rgb(17,17,17)"
             }
            },
            "type": "table"
           }
          ]
         },
         "layout": {
          "annotationdefaults": {
           "arrowcolor": "#f2f5fa",
           "arrowhead": 0,
           "arrowwidth": 1
          },
          "autotypenumbers": "strict",
          "coloraxis": {
           "colorbar": {
            "outlinewidth": 0,
            "ticks": ""
           }
          },
          "colorscale": {
           "diverging": [
            [
             0,
             "#8e0152"
            ],
            [
             0.1,
             "#c51b7d"
            ],
            [
             0.2,
             "#de77ae"
            ],
            [
             0.3,
             "#f1b6da"
            ],
            [
             0.4,
             "#fde0ef"
            ],
            [
             0.5,
             "#f7f7f7"
            ],
            [
             0.6,
             "#e6f5d0"
            ],
            [
             0.7,
             "#b8e186"
            ],
            [
             0.8,
             "#7fbc41"
            ],
            [
             0.9,
             "#4d9221"
            ],
            [
             1,
             "#276419"
            ]
           ],
           "sequential": [
            [
             0,
             "#0d0887"
            ],
            [
             0.1111111111111111,
             "#46039f"
            ],
            [
             0.2222222222222222,
             "#7201a8"
            ],
            [
             0.3333333333333333,
             "#9c179e"
            ],
            [
             0.4444444444444444,
             "#bd3786"
            ],
            [
             0.5555555555555556,
             "#d8576b"
            ],
            [
             0.6666666666666666,
             "#ed7953"
            ],
            [
             0.7777777777777778,
             "#fb9f3a"
            ],
            [
             0.8888888888888888,
             "#fdca26"
            ],
            [
             1,
             "#f0f921"
            ]
           ],
           "sequentialminus": [
            [
             0,
             "#0d0887"
            ],
            [
             0.1111111111111111,
             "#46039f"
            ],
            [
             0.2222222222222222,
             "#7201a8"
            ],
            [
             0.3333333333333333,
             "#9c179e"
            ],
            [
             0.4444444444444444,
             "#bd3786"
            ],
            [
             0.5555555555555556,
             "#d8576b"
            ],
            [
             0.6666666666666666,
             "#ed7953"
            ],
            [
             0.7777777777777778,
             "#fb9f3a"
            ],
            [
             0.8888888888888888,
             "#fdca26"
            ],
            [
             1,
             "#f0f921"
            ]
           ]
          },
          "colorway": [
           "#636efa",
           "#EF553B",
           "#00cc96",
           "#ab63fa",
           "#FFA15A",
           "#19d3f3",
           "#FF6692",
           "#B6E880",
           "#FF97FF",
           "#FECB52"
          ],
          "font": {
           "color": "#f2f5fa"
          },
          "geo": {
           "bgcolor": "rgb(17,17,17)",
           "lakecolor": "rgb(17,17,17)",
           "landcolor": "rgb(17,17,17)",
           "showlakes": true,
           "showland": true,
           "subunitcolor": "#506784"
          },
          "hoverlabel": {
           "align": "left"
          },
          "hovermode": "closest",
          "mapbox": {
           "style": "dark"
          },
          "paper_bgcolor": "rgb(17,17,17)",
          "plot_bgcolor": "rgb(17,17,17)",
          "polar": {
           "angularaxis": {
            "gridcolor": "#506784",
            "linecolor": "#506784",
            "ticks": ""
           },
           "bgcolor": "rgb(17,17,17)",
           "radialaxis": {
            "gridcolor": "#506784",
            "linecolor": "#506784",
            "ticks": ""
           }
          },
          "scene": {
           "xaxis": {
            "backgroundcolor": "rgb(17,17,17)",
            "gridcolor": "#506784",
            "gridwidth": 2,
            "linecolor": "#506784",
            "showbackground": true,
            "ticks": "",
            "zerolinecolor": "#C8D4E3"
           },
           "yaxis": {
            "backgroundcolor": "rgb(17,17,17)",
            "gridcolor": "#506784",
            "gridwidth": 2,
            "linecolor": "#506784",
            "showbackground": true,
            "ticks": "",
            "zerolinecolor": "#C8D4E3"
           },
           "zaxis": {
            "backgroundcolor": "rgb(17,17,17)",
            "gridcolor": "#506784",
            "gridwidth": 2,
            "linecolor": "#506784",
            "showbackground": true,
            "ticks": "",
            "zerolinecolor": "#C8D4E3"
           }
          },
          "shapedefaults": {
           "line": {
            "color": "#f2f5fa"
           }
          },
          "sliderdefaults": {
           "bgcolor": "#C8D4E3",
           "bordercolor": "rgb(17,17,17)",
           "borderwidth": 1,
           "tickwidth": 0
          },
          "ternary": {
           "aaxis": {
            "gridcolor": "#506784",
            "linecolor": "#506784",
            "ticks": ""
           },
           "baxis": {
            "gridcolor": "#506784",
            "linecolor": "#506784",
            "ticks": ""
           },
           "bgcolor": "rgb(17,17,17)",
           "caxis": {
            "gridcolor": "#506784",
            "linecolor": "#506784",
            "ticks": ""
           }
          },
          "title": {
           "x": 0.05
          },
          "updatemenudefaults": {
           "bgcolor": "#506784",
           "borderwidth": 0
          },
          "xaxis": {
           "automargin": true,
           "gridcolor": "#283442",
           "linecolor": "#506784",
           "ticks": "",
           "title": {
            "standoff": 15
           },
           "zerolinecolor": "#283442",
           "zerolinewidth": 2
          },
          "yaxis": {
           "automargin": true,
           "gridcolor": "#283442",
           "linecolor": "#506784",
           "ticks": "",
           "title": {
            "standoff": 15
           },
           "zerolinecolor": "#283442",
           "zerolinewidth": 2
          }
         }
        },
        "title": {
         "text": "Posterior marginal distribution of patch weights"
        },
        "xaxis": {
         "anchor": "y",
         "domain": [
          0,
          1
         ],
         "title": {
          "text": "value"
         }
        },
        "yaxis": {
         "anchor": "x",
         "domain": [
          0,
          1
         ],
         "title": {
          "text": "count"
         }
        }
       }
      }
     },
     "metadata": {},
     "output_type": "display_data"
    }
   ],
   "source": [
    "fig2 = px.histogram(\n",
    "    samples[\"weight_patch\"],\n",
    "    title=\"Posterior marginal distribution of patch weights\",\n",
    "    template=\"plotly_dark\",\n",
    ")\n",
    "\n",
    "mean_patch = samples[\"weight_patch\"].mean()\n",
    "\n",
    "\n",
    "fig2.update_traces(showlegend=False)\n",
    "fig2.add_vline(\n",
    "    x=mean_patch,\n",
    "    line_dash=\"dash\",\n",
    "    line_color=\"red\",\n",
    "    annotation_text=f\"Mean = {mean_patch:.2f}\",\n",
    "    annotation_position=\"top right\",\n",
    "    annotation_xshift=20,\n",
    ")\n"
   ]
  },
  {
   "cell_type": "code",
   "execution_count": null,
   "metadata": {},
   "outputs": [],
   "source": []
  }
 ],
 "metadata": {
  "kernelspec": {
   "display_name": "Python 3.11.5 ('elm_collab')",
   "language": "python",
   "name": "python3"
  },
  "language_info": {
   "codemirror_mode": {
    "name": "ipython",
    "version": 3
   },
   "file_extension": ".py",
   "mimetype": "text/x-python",
   "name": "python",
   "nbconvert_exporter": "python",
   "pygments_lexer": "ipython3",
   "version": "3.11.5"
  },
  "orig_nbformat": 4,
  "vscode": {
   "interpreter": {
    "hash": "5883c200001963f9c71d117b2067039ffcfe95d2ec18fe3e67d4d08d7043acc0"
   }
  }
 },
 "nbformat": 4,
 "nbformat_minor": 2
}
