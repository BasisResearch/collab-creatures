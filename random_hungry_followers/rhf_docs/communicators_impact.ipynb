{
 "cells": [
  {
   "cell_type": "code",
   "execution_count": 63,
   "metadata": {},
   "outputs": [],
   "source": [
    "import pandas as pd\n",
    "import numpy as np\n",
    "import plotly.express as px\n",
    "\n",
    "import torch\n",
    "import pyro\n",
    "import pyro.distributions as dist\n",
    "\n",
    "from pyro.infer import SVI, Trace_ELBO, Predictive\n",
    "from pyro.infer.autoguide import AutoMultivariateNormal\n",
    "\n",
    "from pyro.optim import Adam"
   ]
  },
  {
   "cell_type": "code",
   "execution_count": 7,
   "metadata": {},
   "outputs": [
    {
     "data": {
      "text/html": [
       "<div>\n",
       "<style scoped>\n",
       "    .dataframe tbody tr th:only-of-type {\n",
       "        vertical-align: middle;\n",
       "    }\n",
       "\n",
       "    .dataframe tbody tr th {\n",
       "        vertical-align: top;\n",
       "    }\n",
       "\n",
       "    .dataframe thead th {\n",
       "        text-align: right;\n",
       "    }\n",
       "</style>\n",
       "<table border=\"1\" class=\"dataframe\">\n",
       "  <thead>\n",
       "    <tr style=\"text-align: right;\">\n",
       "      <th></th>\n",
       "      <th>c_trust</th>\n",
       "      <th>sight_radius</th>\n",
       "      <th>reward_patch_dim</th>\n",
       "      <th>sim index</th>\n",
       "      <th>run index</th>\n",
       "      <th>time to first food</th>\n",
       "      <th>num birds failed</th>\n",
       "    </tr>\n",
       "  </thead>\n",
       "  <tbody>\n",
       "    <tr>\n",
       "      <th>0</th>\n",
       "      <td>0.0</td>\n",
       "      <td>5</td>\n",
       "      <td>1</td>\n",
       "      <td>0</td>\n",
       "      <td>0</td>\n",
       "      <td>1.555556</td>\n",
       "      <td>0</td>\n",
       "    </tr>\n",
       "    <tr>\n",
       "      <th>1</th>\n",
       "      <td>0.0</td>\n",
       "      <td>5</td>\n",
       "      <td>1</td>\n",
       "      <td>0</td>\n",
       "      <td>1</td>\n",
       "      <td>1.333333</td>\n",
       "      <td>0</td>\n",
       "    </tr>\n",
       "    <tr>\n",
       "      <th>2</th>\n",
       "      <td>0.0</td>\n",
       "      <td>5</td>\n",
       "      <td>1</td>\n",
       "      <td>0</td>\n",
       "      <td>2</td>\n",
       "      <td>4.222222</td>\n",
       "      <td>0</td>\n",
       "    </tr>\n",
       "    <tr>\n",
       "      <th>3</th>\n",
       "      <td>0.0</td>\n",
       "      <td>5</td>\n",
       "      <td>1</td>\n",
       "      <td>0</td>\n",
       "      <td>3</td>\n",
       "      <td>13.222222</td>\n",
       "      <td>1</td>\n",
       "    </tr>\n",
       "    <tr>\n",
       "      <th>4</th>\n",
       "      <td>0.0</td>\n",
       "      <td>5</td>\n",
       "      <td>1</td>\n",
       "      <td>0</td>\n",
       "      <td>4</td>\n",
       "      <td>2.555556</td>\n",
       "      <td>0</td>\n",
       "    </tr>\n",
       "    <tr>\n",
       "      <th>...</th>\n",
       "      <td>...</td>\n",
       "      <td>...</td>\n",
       "      <td>...</td>\n",
       "      <td>...</td>\n",
       "      <td>...</td>\n",
       "      <td>...</td>\n",
       "      <td>...</td>\n",
       "    </tr>\n",
       "    <tr>\n",
       "      <th>445</th>\n",
       "      <td>0.9</td>\n",
       "      <td>5</td>\n",
       "      <td>5</td>\n",
       "      <td>44</td>\n",
       "      <td>5</td>\n",
       "      <td>9.777778</td>\n",
       "      <td>0</td>\n",
       "    </tr>\n",
       "    <tr>\n",
       "      <th>446</th>\n",
       "      <td>0.9</td>\n",
       "      <td>5</td>\n",
       "      <td>5</td>\n",
       "      <td>44</td>\n",
       "      <td>6</td>\n",
       "      <td>10.222222</td>\n",
       "      <td>1</td>\n",
       "    </tr>\n",
       "    <tr>\n",
       "      <th>447</th>\n",
       "      <td>0.9</td>\n",
       "      <td>5</td>\n",
       "      <td>5</td>\n",
       "      <td>44</td>\n",
       "      <td>7</td>\n",
       "      <td>14.111111</td>\n",
       "      <td>0</td>\n",
       "    </tr>\n",
       "    <tr>\n",
       "      <th>448</th>\n",
       "      <td>0.9</td>\n",
       "      <td>5</td>\n",
       "      <td>5</td>\n",
       "      <td>44</td>\n",
       "      <td>8</td>\n",
       "      <td>4.333333</td>\n",
       "      <td>0</td>\n",
       "    </tr>\n",
       "    <tr>\n",
       "      <th>449</th>\n",
       "      <td>0.9</td>\n",
       "      <td>5</td>\n",
       "      <td>5</td>\n",
       "      <td>44</td>\n",
       "      <td>9</td>\n",
       "      <td>3.222222</td>\n",
       "      <td>0</td>\n",
       "    </tr>\n",
       "  </tbody>\n",
       "</table>\n",
       "<p>450 rows × 7 columns</p>\n",
       "</div>"
      ],
      "text/plain": [
       "     c_trust  sight_radius  reward_patch_dim  sim index  run index  \\\n",
       "0        0.0             5                 1          0          0   \n",
       "1        0.0             5                 1          0          1   \n",
       "2        0.0             5                 1          0          2   \n",
       "3        0.0             5                 1          0          3   \n",
       "4        0.0             5                 1          0          4   \n",
       "..       ...           ...               ...        ...        ...   \n",
       "445      0.9             5                 5         44          5   \n",
       "446      0.9             5                 5         44          6   \n",
       "447      0.9             5                 5         44          7   \n",
       "448      0.9             5                 5         44          8   \n",
       "449      0.9             5                 5         44          9   \n",
       "\n",
       "     time to first food  num birds failed  \n",
       "0              1.555556                 0  \n",
       "1              1.333333                 0  \n",
       "2              4.222222                 0  \n",
       "3             13.222222                 1  \n",
       "4              2.555556                 0  \n",
       "..                  ...               ...  \n",
       "445            9.777778                 0  \n",
       "446           10.222222                 1  \n",
       "447           14.111111                 0  \n",
       "448            4.333333                 0  \n",
       "449            3.222222                 0  \n",
       "\n",
       "[450 rows x 7 columns]"
      ]
     },
     "metadata": {},
     "output_type": "display_data"
    }
   ],
   "source": [
    "impactDF = pd.read_csv(\"communicators_impact_data/resultsDF.csv\", index_col=0)\n",
    "\n",
    "display(impactDF)"
   ]
  },
  {
   "cell_type": "code",
   "execution_count": 13,
   "metadata": {},
   "outputs": [
    {
     "data": {
      "application/vnd.plotly.v1+json": {
       "config": {
        "plotlyServerURL": "https://plot.ly"
       },
       "data": [
        {
         "alignmentgroup": "True",
         "bingroup": "x",
         "hovertemplate": "num birds failed=%{x}<br>count=%{y}<extra></extra>",
         "legendgroup": "",
         "marker": {
          "color": "#636efa",
          "pattern": {
           "shape": ""
          }
         },
         "name": "",
         "nbinsx": 20,
         "offsetgroup": "",
         "orientation": "v",
         "showlegend": false,
         "type": "histogram",
         "x": [
          0,
          0,
          0,
          1,
          0,
          0,
          0,
          0,
          0,
          0,
          3,
          1,
          5,
          1,
          3,
          2,
          2,
          1,
          2,
          3,
          3,
          1,
          4,
          2,
          2,
          6,
          1,
          2,
          4,
          0,
          4,
          3,
          4,
          2,
          4,
          6,
          4,
          2,
          5,
          7,
          2,
          2,
          5,
          3,
          6,
          3,
          5,
          3,
          1,
          1,
          0,
          0,
          0,
          0,
          0,
          0,
          0,
          0,
          0,
          0,
          0,
          0,
          0,
          0,
          2,
          0,
          0,
          0,
          0,
          0,
          0,
          0,
          0,
          0,
          0,
          0,
          0,
          2,
          0,
          1,
          0,
          0,
          0,
          1,
          0,
          0,
          0,
          0,
          0,
          0,
          0,
          0,
          0,
          0,
          0,
          0,
          0,
          0,
          0,
          3,
          0,
          0,
          0,
          0,
          0,
          0,
          0,
          0,
          0,
          0,
          0,
          0,
          0,
          0,
          0,
          0,
          0,
          0,
          0,
          0,
          0,
          0,
          0,
          0,
          0,
          0,
          0,
          0,
          0,
          0,
          0,
          0,
          1,
          0,
          0,
          0,
          0,
          0,
          0,
          1,
          0,
          0,
          0,
          0,
          0,
          0,
          0,
          0,
          0,
          0,
          0,
          0,
          0,
          0,
          0,
          0,
          0,
          0,
          0,
          0,
          0,
          0,
          1,
          0,
          0,
          0,
          0,
          0,
          0,
          0,
          0,
          0,
          0,
          0,
          0,
          0,
          0,
          0,
          0,
          0,
          1,
          0,
          0,
          0,
          0,
          0,
          0,
          0,
          1,
          0,
          0,
          0,
          2,
          0,
          0,
          0,
          0,
          0,
          0,
          9,
          0,
          0,
          0,
          0,
          0,
          0,
          0,
          0,
          0,
          0,
          0,
          0,
          0,
          0,
          0,
          0,
          0,
          0,
          0,
          0,
          0,
          0,
          0,
          0,
          0,
          0,
          0,
          1,
          0,
          0,
          0,
          1,
          0,
          0,
          0,
          1,
          0,
          0,
          0,
          0,
          0,
          0,
          0,
          0,
          0,
          0,
          0,
          0,
          0,
          0,
          0,
          0,
          0,
          0,
          0,
          0,
          0,
          0,
          0,
          0,
          1,
          0,
          0,
          0,
          0,
          0,
          0,
          0,
          0,
          0,
          0,
          0,
          0,
          0,
          0,
          0,
          0,
          0,
          0,
          0,
          0,
          0,
          0,
          0,
          0,
          0,
          0,
          0,
          0,
          0,
          1,
          1,
          0,
          0,
          0,
          1,
          0,
          3,
          0,
          0,
          0,
          0,
          0,
          0,
          0,
          0,
          0,
          0,
          0,
          0,
          0,
          0,
          0,
          0,
          0,
          0,
          0,
          0,
          0,
          0,
          0,
          0,
          0,
          0,
          0,
          0,
          0,
          0,
          0,
          0,
          0,
          1,
          0,
          0,
          0,
          0,
          0,
          0,
          0,
          0,
          0,
          0,
          1,
          0,
          0,
          1,
          0,
          0,
          0,
          0,
          0,
          0,
          0,
          0,
          0,
          0,
          0,
          0,
          0,
          0,
          0,
          0,
          0,
          0,
          0,
          0,
          0,
          0,
          0,
          0,
          0,
          0,
          0,
          0,
          0,
          0,
          0,
          0,
          0,
          0,
          0,
          0,
          1,
          0,
          0,
          0,
          0,
          0,
          0,
          0,
          0,
          0,
          0,
          0,
          1,
          0,
          0,
          0,
          1,
          0,
          0,
          0,
          0,
          0,
          0,
          0,
          0,
          0,
          0,
          0,
          0,
          0,
          4,
          0,
          0,
          0,
          0,
          0,
          0,
          0,
          0,
          0,
          0,
          0,
          0,
          2,
          0,
          0,
          0,
          0,
          0,
          0,
          0,
          3,
          0,
          0,
          0,
          0,
          0,
          0,
          0,
          0,
          0,
          0,
          0,
          0,
          1,
          0,
          0,
          0
         ],
         "xaxis": "x",
         "yaxis": "y"
        }
       ],
       "layout": {
        "barmode": "relative",
        "legend": {
         "tracegroupgap": 0
        },
        "template": {
         "data": {
          "bar": [
           {
            "error_x": {
             "color": "#f2f5fa"
            },
            "error_y": {
             "color": "#f2f5fa"
            },
            "marker": {
             "line": {
              "color": "rgb(17,17,17)",
              "width": 0.5
             },
             "pattern": {
              "fillmode": "overlay",
              "size": 10,
              "solidity": 0.2
             }
            },
            "type": "bar"
           }
          ],
          "barpolar": [
           {
            "marker": {
             "line": {
              "color": "rgb(17,17,17)",
              "width": 0.5
             },
             "pattern": {
              "fillmode": "overlay",
              "size": 10,
              "solidity": 0.2
             }
            },
            "type": "barpolar"
           }
          ],
          "carpet": [
           {
            "aaxis": {
             "endlinecolor": "#A2B1C6",
             "gridcolor": "#506784",
             "linecolor": "#506784",
             "minorgridcolor": "#506784",
             "startlinecolor": "#A2B1C6"
            },
            "baxis": {
             "endlinecolor": "#A2B1C6",
             "gridcolor": "#506784",
             "linecolor": "#506784",
             "minorgridcolor": "#506784",
             "startlinecolor": "#A2B1C6"
            },
            "type": "carpet"
           }
          ],
          "choropleth": [
           {
            "colorbar": {
             "outlinewidth": 0,
             "ticks": ""
            },
            "type": "choropleth"
           }
          ],
          "contour": [
           {
            "colorbar": {
             "outlinewidth": 0,
             "ticks": ""
            },
            "colorscale": [
             [
              0,
              "#0d0887"
             ],
             [
              0.1111111111111111,
              "#46039f"
             ],
             [
              0.2222222222222222,
              "#7201a8"
             ],
             [
              0.3333333333333333,
              "#9c179e"
             ],
             [
              0.4444444444444444,
              "#bd3786"
             ],
             [
              0.5555555555555556,
              "#d8576b"
             ],
             [
              0.6666666666666666,
              "#ed7953"
             ],
             [
              0.7777777777777778,
              "#fb9f3a"
             ],
             [
              0.8888888888888888,
              "#fdca26"
             ],
             [
              1,
              "#f0f921"
             ]
            ],
            "type": "contour"
           }
          ],
          "contourcarpet": [
           {
            "colorbar": {
             "outlinewidth": 0,
             "ticks": ""
            },
            "type": "contourcarpet"
           }
          ],
          "heatmap": [
           {
            "colorbar": {
             "outlinewidth": 0,
             "ticks": ""
            },
            "colorscale": [
             [
              0,
              "#0d0887"
             ],
             [
              0.1111111111111111,
              "#46039f"
             ],
             [
              0.2222222222222222,
              "#7201a8"
             ],
             [
              0.3333333333333333,
              "#9c179e"
             ],
             [
              0.4444444444444444,
              "#bd3786"
             ],
             [
              0.5555555555555556,
              "#d8576b"
             ],
             [
              0.6666666666666666,
              "#ed7953"
             ],
             [
              0.7777777777777778,
              "#fb9f3a"
             ],
             [
              0.8888888888888888,
              "#fdca26"
             ],
             [
              1,
              "#f0f921"
             ]
            ],
            "type": "heatmap"
           }
          ],
          "heatmapgl": [
           {
            "colorbar": {
             "outlinewidth": 0,
             "ticks": ""
            },
            "colorscale": [
             [
              0,
              "#0d0887"
             ],
             [
              0.1111111111111111,
              "#46039f"
             ],
             [
              0.2222222222222222,
              "#7201a8"
             ],
             [
              0.3333333333333333,
              "#9c179e"
             ],
             [
              0.4444444444444444,
              "#bd3786"
             ],
             [
              0.5555555555555556,
              "#d8576b"
             ],
             [
              0.6666666666666666,
              "#ed7953"
             ],
             [
              0.7777777777777778,
              "#fb9f3a"
             ],
             [
              0.8888888888888888,
              "#fdca26"
             ],
             [
              1,
              "#f0f921"
             ]
            ],
            "type": "heatmapgl"
           }
          ],
          "histogram": [
           {
            "marker": {
             "pattern": {
              "fillmode": "overlay",
              "size": 10,
              "solidity": 0.2
             }
            },
            "type": "histogram"
           }
          ],
          "histogram2d": [
           {
            "colorbar": {
             "outlinewidth": 0,
             "ticks": ""
            },
            "colorscale": [
             [
              0,
              "#0d0887"
             ],
             [
              0.1111111111111111,
              "#46039f"
             ],
             [
              0.2222222222222222,
              "#7201a8"
             ],
             [
              0.3333333333333333,
              "#9c179e"
             ],
             [
              0.4444444444444444,
              "#bd3786"
             ],
             [
              0.5555555555555556,
              "#d8576b"
             ],
             [
              0.6666666666666666,
              "#ed7953"
             ],
             [
              0.7777777777777778,
              "#fb9f3a"
             ],
             [
              0.8888888888888888,
              "#fdca26"
             ],
             [
              1,
              "#f0f921"
             ]
            ],
            "type": "histogram2d"
           }
          ],
          "histogram2dcontour": [
           {
            "colorbar": {
             "outlinewidth": 0,
             "ticks": ""
            },
            "colorscale": [
             [
              0,
              "#0d0887"
             ],
             [
              0.1111111111111111,
              "#46039f"
             ],
             [
              0.2222222222222222,
              "#7201a8"
             ],
             [
              0.3333333333333333,
              "#9c179e"
             ],
             [
              0.4444444444444444,
              "#bd3786"
             ],
             [
              0.5555555555555556,
              "#d8576b"
             ],
             [
              0.6666666666666666,
              "#ed7953"
             ],
             [
              0.7777777777777778,
              "#fb9f3a"
             ],
             [
              0.8888888888888888,
              "#fdca26"
             ],
             [
              1,
              "#f0f921"
             ]
            ],
            "type": "histogram2dcontour"
           }
          ],
          "mesh3d": [
           {
            "colorbar": {
             "outlinewidth": 0,
             "ticks": ""
            },
            "type": "mesh3d"
           }
          ],
          "parcoords": [
           {
            "line": {
             "colorbar": {
              "outlinewidth": 0,
              "ticks": ""
             }
            },
            "type": "parcoords"
           }
          ],
          "pie": [
           {
            "automargin": true,
            "type": "pie"
           }
          ],
          "scatter": [
           {
            "marker": {
             "line": {
              "color": "#283442"
             }
            },
            "type": "scatter"
           }
          ],
          "scatter3d": [
           {
            "line": {
             "colorbar": {
              "outlinewidth": 0,
              "ticks": ""
             }
            },
            "marker": {
             "colorbar": {
              "outlinewidth": 0,
              "ticks": ""
             }
            },
            "type": "scatter3d"
           }
          ],
          "scattercarpet": [
           {
            "marker": {
             "colorbar": {
              "outlinewidth": 0,
              "ticks": ""
             }
            },
            "type": "scattercarpet"
           }
          ],
          "scattergeo": [
           {
            "marker": {
             "colorbar": {
              "outlinewidth": 0,
              "ticks": ""
             }
            },
            "type": "scattergeo"
           }
          ],
          "scattergl": [
           {
            "marker": {
             "line": {
              "color": "#283442"
             }
            },
            "type": "scattergl"
           }
          ],
          "scattermapbox": [
           {
            "marker": {
             "colorbar": {
              "outlinewidth": 0,
              "ticks": ""
             }
            },
            "type": "scattermapbox"
           }
          ],
          "scatterpolar": [
           {
            "marker": {
             "colorbar": {
              "outlinewidth": 0,
              "ticks": ""
             }
            },
            "type": "scatterpolar"
           }
          ],
          "scatterpolargl": [
           {
            "marker": {
             "colorbar": {
              "outlinewidth": 0,
              "ticks": ""
             }
            },
            "type": "scatterpolargl"
           }
          ],
          "scatterternary": [
           {
            "marker": {
             "colorbar": {
              "outlinewidth": 0,
              "ticks": ""
             }
            },
            "type": "scatterternary"
           }
          ],
          "surface": [
           {
            "colorbar": {
             "outlinewidth": 0,
             "ticks": ""
            },
            "colorscale": [
             [
              0,
              "#0d0887"
             ],
             [
              0.1111111111111111,
              "#46039f"
             ],
             [
              0.2222222222222222,
              "#7201a8"
             ],
             [
              0.3333333333333333,
              "#9c179e"
             ],
             [
              0.4444444444444444,
              "#bd3786"
             ],
             [
              0.5555555555555556,
              "#d8576b"
             ],
             [
              0.6666666666666666,
              "#ed7953"
             ],
             [
              0.7777777777777778,
              "#fb9f3a"
             ],
             [
              0.8888888888888888,
              "#fdca26"
             ],
             [
              1,
              "#f0f921"
             ]
            ],
            "type": "surface"
           }
          ],
          "table": [
           {
            "cells": {
             "fill": {
              "color": "#506784"
             },
             "line": {
              "color": "rgb(17,17,17)"
             }
            },
            "header": {
             "fill": {
              "color": "#2a3f5f"
             },
             "line": {
              "color": "rgb(17,17,17)"
             }
            },
            "type": "table"
           }
          ]
         },
         "layout": {
          "annotationdefaults": {
           "arrowcolor": "#f2f5fa",
           "arrowhead": 0,
           "arrowwidth": 1
          },
          "autotypenumbers": "strict",
          "coloraxis": {
           "colorbar": {
            "outlinewidth": 0,
            "ticks": ""
           }
          },
          "colorscale": {
           "diverging": [
            [
             0,
             "#8e0152"
            ],
            [
             0.1,
             "#c51b7d"
            ],
            [
             0.2,
             "#de77ae"
            ],
            [
             0.3,
             "#f1b6da"
            ],
            [
             0.4,
             "#fde0ef"
            ],
            [
             0.5,
             "#f7f7f7"
            ],
            [
             0.6,
             "#e6f5d0"
            ],
            [
             0.7,
             "#b8e186"
            ],
            [
             0.8,
             "#7fbc41"
            ],
            [
             0.9,
             "#4d9221"
            ],
            [
             1,
             "#276419"
            ]
           ],
           "sequential": [
            [
             0,
             "#0d0887"
            ],
            [
             0.1111111111111111,
             "#46039f"
            ],
            [
             0.2222222222222222,
             "#7201a8"
            ],
            [
             0.3333333333333333,
             "#9c179e"
            ],
            [
             0.4444444444444444,
             "#bd3786"
            ],
            [
             0.5555555555555556,
             "#d8576b"
            ],
            [
             0.6666666666666666,
             "#ed7953"
            ],
            [
             0.7777777777777778,
             "#fb9f3a"
            ],
            [
             0.8888888888888888,
             "#fdca26"
            ],
            [
             1,
             "#f0f921"
            ]
           ],
           "sequentialminus": [
            [
             0,
             "#0d0887"
            ],
            [
             0.1111111111111111,
             "#46039f"
            ],
            [
             0.2222222222222222,
             "#7201a8"
            ],
            [
             0.3333333333333333,
             "#9c179e"
            ],
            [
             0.4444444444444444,
             "#bd3786"
            ],
            [
             0.5555555555555556,
             "#d8576b"
            ],
            [
             0.6666666666666666,
             "#ed7953"
            ],
            [
             0.7777777777777778,
             "#fb9f3a"
            ],
            [
             0.8888888888888888,
             "#fdca26"
            ],
            [
             1,
             "#f0f921"
            ]
           ]
          },
          "colorway": [
           "#636efa",
           "#EF553B",
           "#00cc96",
           "#ab63fa",
           "#FFA15A",
           "#19d3f3",
           "#FF6692",
           "#B6E880",
           "#FF97FF",
           "#FECB52"
          ],
          "font": {
           "color": "#f2f5fa"
          },
          "geo": {
           "bgcolor": "rgb(17,17,17)",
           "lakecolor": "rgb(17,17,17)",
           "landcolor": "rgb(17,17,17)",
           "showlakes": true,
           "showland": true,
           "subunitcolor": "#506784"
          },
          "hoverlabel": {
           "align": "left"
          },
          "hovermode": "closest",
          "mapbox": {
           "style": "dark"
          },
          "paper_bgcolor": "rgb(17,17,17)",
          "plot_bgcolor": "rgb(17,17,17)",
          "polar": {
           "angularaxis": {
            "gridcolor": "#506784",
            "linecolor": "#506784",
            "ticks": ""
           },
           "bgcolor": "rgb(17,17,17)",
           "radialaxis": {
            "gridcolor": "#506784",
            "linecolor": "#506784",
            "ticks": ""
           }
          },
          "scene": {
           "xaxis": {
            "backgroundcolor": "rgb(17,17,17)",
            "gridcolor": "#506784",
            "gridwidth": 2,
            "linecolor": "#506784",
            "showbackground": true,
            "ticks": "",
            "zerolinecolor": "#C8D4E3"
           },
           "yaxis": {
            "backgroundcolor": "rgb(17,17,17)",
            "gridcolor": "#506784",
            "gridwidth": 2,
            "linecolor": "#506784",
            "showbackground": true,
            "ticks": "",
            "zerolinecolor": "#C8D4E3"
           },
           "zaxis": {
            "backgroundcolor": "rgb(17,17,17)",
            "gridcolor": "#506784",
            "gridwidth": 2,
            "linecolor": "#506784",
            "showbackground": true,
            "ticks": "",
            "zerolinecolor": "#C8D4E3"
           }
          },
          "shapedefaults": {
           "line": {
            "color": "#f2f5fa"
           }
          },
          "sliderdefaults": {
           "bgcolor": "#C8D4E3",
           "bordercolor": "rgb(17,17,17)",
           "borderwidth": 1,
           "tickwidth": 0
          },
          "ternary": {
           "aaxis": {
            "gridcolor": "#506784",
            "linecolor": "#506784",
            "ticks": ""
           },
           "baxis": {
            "gridcolor": "#506784",
            "linecolor": "#506784",
            "ticks": ""
           },
           "bgcolor": "rgb(17,17,17)",
           "caxis": {
            "gridcolor": "#506784",
            "linecolor": "#506784",
            "ticks": ""
           }
          },
          "title": {
           "x": 0.05
          },
          "updatemenudefaults": {
           "bgcolor": "#506784",
           "borderwidth": 0
          },
          "xaxis": {
           "automargin": true,
           "gridcolor": "#283442",
           "linecolor": "#506784",
           "ticks": "",
           "title": {
            "standoff": 15
           },
           "zerolinecolor": "#283442",
           "zerolinewidth": 2
          },
          "yaxis": {
           "automargin": true,
           "gridcolor": "#283442",
           "linecolor": "#506784",
           "ticks": "",
           "title": {
            "standoff": 15
           },
           "zerolinecolor": "#283442",
           "zerolinewidth": 2
          }
         }
        },
        "title": {
         "text": "Overall number of birds failed"
        },
        "xaxis": {
         "anchor": "y",
         "domain": [
          0,
          1
         ],
         "title": {
          "text": "num birds failed"
         }
        },
        "yaxis": {
         "anchor": "x",
         "domain": [
          0,
          1
         ],
         "title": {
          "text": "count"
         }
        }
       }
      }
     },
     "metadata": {},
     "output_type": "display_data"
    }
   ],
   "source": [
    "# this is not going to be a useful metric, if the number of frames is sufficient\n",
    "# for birds to have enough time to succeed\n",
    "px.histogram(impactDF, x=\"num birds failed\", nbins=20, title=\"Overall number of birds failed\",\n",
    "             template=\"plotly_dark\")\n"
   ]
  },
  {
   "cell_type": "code",
   "execution_count": 14,
   "metadata": {},
   "outputs": [
    {
     "data": {
      "application/vnd.plotly.v1+json": {
       "config": {
        "plotlyServerURL": "https://plot.ly"
       },
       "data": [
        {
         "alignmentgroup": "True",
         "bingroup": "x",
         "hovertemplate": "time to first food=%{x}<br>count=%{y}<extra></extra>",
         "legendgroup": "",
         "marker": {
          "color": "#636efa",
          "pattern": {
           "shape": ""
          }
         },
         "name": "",
         "nbinsx": 20,
         "offsetgroup": "",
         "orientation": "v",
         "showlegend": false,
         "type": "histogram",
         "x": [
          1.5555555555555556,
          1.3333333333333333,
          4.222222222222222,
          13.22222222222222,
          2.555555555555556,
          3,
          2.111111111111111,
          1.4444444444444444,
          5.666666666666667,
          8.222222222222221,
          28.22222222222222,
          16.77777777777778,
          31.33333333333333,
          15.555555555555555,
          24.55555555555556,
          18,
          18.77777777777778,
          15.88888888888889,
          20.88888888888889,
          19,
          19.22222222222222,
          14,
          35.333333333333336,
          20.88888888888889,
          21.77777777777778,
          39.77777777777778,
          11.11111111111111,
          33.333333333333336,
          26.666666666666668,
          7.666666666666667,
          35.333333333333336,
          31.22222222222222,
          34.888888888888886,
          22.666666666666668,
          37,
          42,
          35.22222222222222,
          20,
          36,
          45.11111111111112,
          12.88888888888889,
          19.88888888888889,
          41.888888888888886,
          21.77777777777778,
          36.333333333333336,
          22.88888888888889,
          34.55555555555556,
          22.11111111111111,
          14.333333333333334,
          17.444444444444443,
          1.7777777777777777,
          3.111111111111111,
          1.6666666666666667,
          2.111111111111111,
          2.333333333333333,
          2.333333333333333,
          1.5555555555555556,
          2.7777777777777777,
          2.555555555555556,
          2.2222222222222223,
          3.4444444444444446,
          4.888888888888889,
          7,
          5.888888888888889,
          13.88888888888889,
          5.555555555555555,
          7.444444444444445,
          6.777777777777778,
          3.4444444444444446,
          4.222222222222222,
          7.666666666666667,
          3.4444444444444446,
          6,
          6,
          5.555555555555555,
          6.555555555555555,
          2.888888888888889,
          16,
          4,
          9.22222222222222,
          9.22222222222222,
          5.555555555555555,
          24,
          13.333333333333334,
          5.666666666666667,
          4.555555555555555,
          7.666666666666667,
          15.88888888888889,
          10.666666666666666,
          3.555555555555556,
          9,
          6.666666666666667,
          5.111111111111111,
          9.22222222222222,
          4.111111111111111,
          8.11111111111111,
          8.555555555555555,
          7.666666666666667,
          15.88888888888889,
          34.111111111111114,
          3,
          2.4444444444444446,
          3.2222222222222223,
          2.6666666666666665,
          2,
          3.111111111111111,
          2.6666666666666665,
          2.888888888888889,
          5,
          2.111111111111111,
          3.333333333333333,
          6.444444444444445,
          3.6666666666666665,
          2.2222222222222223,
          3,
          3.888888888888889,
          4.111111111111111,
          3.4444444444444446,
          2.333333333333333,
          4.666666666666667,
          7,
          6.666666666666667,
          4.111111111111111,
          5.777777777777778,
          3.333333333333333,
          5.666666666666667,
          4.222222222222222,
          4.444444444444445,
          8.88888888888889,
          6.555555555555555,
          8.11111111111111,
          13.444444444444445,
          16,
          8.666666666666666,
          5.888888888888889,
          4.555555555555555,
          5.777777777777778,
          7.555555555555555,
          9.88888888888889,
          10.22222222222222,
          8.222222222222221,
          17.88888888888889,
          12.333333333333334,
          7.111111111111111,
          4.111111111111111,
          6.111111111111111,
          9,
          7.666666666666667,
          4.333333333333333,
          8.666666666666666,
          2.6666666666666665,
          1.6666666666666667,
          2,
          2.888888888888889,
          2.555555555555556,
          1.5555555555555556,
          2.333333333333333,
          1.8888888888888888,
          2.333333333333333,
          2.2222222222222223,
          5.777777777777778,
          1.8888888888888888,
          8.222222222222221,
          4.888888888888889,
          8.777777777777779,
          2.2222222222222223,
          4.333333333333333,
          6,
          3,
          4.555555555555555,
          4.666666666666667,
          13.11111111111111,
          8.11111111111111,
          4,
          3,
          3.4444444444444446,
          5.222222222222222,
          3.555555555555556,
          6.222222222222222,
          5.888888888888889,
          9,
          4.555555555555555,
          4.666666666666667,
          6.333333333333333,
          5.333333333333333,
          5.111111111111111,
          9.444444444444445,
          6.777777777777778,
          9.22222222222222,
          5,
          6.444444444444445,
          7.222222222222222,
          32.77777777777778,
          7.666666666666667,
          4.222222222222222,
          10.333333333333334,
          25.666666666666668,
          7.666666666666667,
          7.222222222222222,
          50,
          1.6666666666666667,
          1.8888888888888888,
          2.6666666666666665,
          1.8888888888888888,
          1.5555555555555556,
          2.4444444444444446,
          1.5555555555555556,
          2.2222222222222223,
          2.888888888888889,
          3.888888888888889,
          6.333333333333333,
          2.888888888888889,
          4,
          5.555555555555555,
          4.333333333333333,
          2.4444444444444446,
          2.6666666666666665,
          9.77777777777778,
          3.7777777777777777,
          4.777777777777778,
          8.333333333333334,
          5.444444444444445,
          4.555555555555555,
          4,
          3.6666666666666665,
          5.111111111111111,
          6,
          11,
          5.555555555555555,
          5.888888888888889,
          9.77777777777778,
          11.444444444444445,
          3.6666666666666665,
          7.555555555555555,
          9.77777777777778,
          10.11111111111111,
          6.222222222222222,
          10,
          15.11111111111111,
          7.444444444444445,
          7.333333333333333,
          3.4444444444444446,
          11.666666666666666,
          8.777777777777779,
          6.777777777777778,
          3.333333333333333,
          20,
          10.11111111111111,
          7.111111111111111,
          3.888888888888889,
          2.555555555555556,
          1.5555555555555556,
          2.111111111111111,
          1.4444444444444444,
          3.111111111111111,
          2,
          2.7777777777777777,
          2.6666666666666665,
          3.6666666666666665,
          4.333333333333333,
          13.77777777777778,
          2.7777777777777777,
          5.222222222222222,
          2.6666666666666665,
          3.333333333333333,
          3.7777777777777777,
          4.555555555555555,
          5.333333333333333,
          4.111111111111111,
          27.444444444444443,
          4.444444444444445,
          12.88888888888889,
          3.555555555555556,
          4.111111111111111,
          6.555555555555555,
          3.333333333333333,
          4.888888888888889,
          4.888888888888889,
          4.666666666666667,
          3.7777777777777777,
          4.111111111111111,
          6.666666666666667,
          5.111111111111111,
          14.666666666666666,
          4.777777777777778,
          5.777777777777778,
          4.444444444444445,
          4.333333333333333,
          8.555555555555555,
          4.444444444444445,
          13,
          13.333333333333334,
          9.77777777777778,
          6.222222222222222,
          4.666666666666667,
          12.444444444444445,
          6.444444444444445,
          21.33333333333333,
          4.555555555555555,
          13.77777777777778,
          3.333333333333333,
          1.4444444444444444,
          2.333333333333333,
          3.111111111111111,
          3,
          4,
          1.3333333333333333,
          2.2222222222222223,
          3.333333333333333,
          1.5555555555555556,
          3.2222222222222223,
          3.333333333333333,
          2.555555555555556,
          4.666666666666667,
          2.333333333333333,
          5.888888888888889,
          2.7777777777777777,
          3.6666666666666665,
          3.333333333333333,
          2.888888888888889,
          3.6666666666666665,
          9.11111111111111,
          10,
          6.111111111111111,
          3.7777777777777777,
          2.6666666666666665,
          6.222222222222222,
          7.111111111111111,
          4.333333333333333,
          3.555555555555556,
          12,
          10.666666666666666,
          7.888888888888889,
          5.222222222222222,
          4.222222222222222,
          4.333333333333333,
          9.11111111111111,
          6.555555555555555,
          4.555555555555555,
          5.333333333333333,
          4.777777777777778,
          3,
          8.222222222222221,
          9.22222222222222,
          6.555555555555555,
          28,
          6.333333333333333,
          49,
          6.666666666666667,
          17.666666666666668,
          2,
          1.8888888888888888,
          1.7777777777777777,
          2.333333333333333,
          1.8888888888888888,
          1.8888888888888888,
          1.4444444444444444,
          3.2222222222222223,
          2,
          3,
          2.555555555555556,
          3.7777777777777777,
          5.666666666666667,
          3.2222222222222223,
          2.888888888888889,
          4.444444444444445,
          5.333333333333333,
          2.888888888888889,
          5.333333333333333,
          4.444444444444445,
          4.444444444444445,
          7,
          4.777777777777778,
          4.111111111111111,
          3.4444444444444446,
          7.666666666666667,
          4.777777777777778,
          8.777777777777779,
          10.11111111111111,
          5.666666666666667,
          6.333333333333333,
          9.11111111111111,
          12.666666666666666,
          13,
          4.222222222222222,
          3.7777777777777777,
          6.333333333333333,
          4.333333333333333,
          6,
          6.111111111111111,
          8.555555555555555,
          3.888888888888889,
          8.222222222222221,
          4.222222222222222,
          8.666666666666666,
          14.88888888888889,
          3.333333333333333,
          3.555555555555556,
          36,
          5.555555555555555,
          2.555555555555556,
          1.7777777777777777,
          2.111111111111111,
          2,
          1.8888888888888888,
          2,
          2,
          2.4444444444444446,
          2.333333333333333,
          2.7777777777777777,
          4.444444444444445,
          4.666666666666667,
          25.33333333333333,
          3.555555555555556,
          7.888888888888889,
          4.111111111111111,
          3.555555555555556,
          5.111111111111111,
          1.6666666666666667,
          2.888888888888889,
          6,
          4,
          4,
          3.6666666666666665,
          5.666666666666667,
          16.11111111111111,
          7.333333333333333,
          8.333333333333334,
          6.333333333333333,
          3.2222222222222223,
          39,
          5.777777777777778,
          6.444444444444445,
          30.11111111111111,
          5.888888888888889,
          5.111111111111111,
          7.444444444444445,
          7.111111111111111,
          4.333333333333333,
          16.22222222222222,
          9,
          4.444444444444445,
          16.444444444444443,
          4.888888888888889,
          9.77777777777778,
          9.77777777777778,
          10.22222222222222,
          14.11111111111111,
          4.333333333333333,
          3.2222222222222223
         ],
         "xaxis": "x",
         "yaxis": "y"
        }
       ],
       "layout": {
        "barmode": "relative",
        "legend": {
         "tracegroupgap": 0
        },
        "template": {
         "data": {
          "bar": [
           {
            "error_x": {
             "color": "#f2f5fa"
            },
            "error_y": {
             "color": "#f2f5fa"
            },
            "marker": {
             "line": {
              "color": "rgb(17,17,17)",
              "width": 0.5
             },
             "pattern": {
              "fillmode": "overlay",
              "size": 10,
              "solidity": 0.2
             }
            },
            "type": "bar"
           }
          ],
          "barpolar": [
           {
            "marker": {
             "line": {
              "color": "rgb(17,17,17)",
              "width": 0.5
             },
             "pattern": {
              "fillmode": "overlay",
              "size": 10,
              "solidity": 0.2
             }
            },
            "type": "barpolar"
           }
          ],
          "carpet": [
           {
            "aaxis": {
             "endlinecolor": "#A2B1C6",
             "gridcolor": "#506784",
             "linecolor": "#506784",
             "minorgridcolor": "#506784",
             "startlinecolor": "#A2B1C6"
            },
            "baxis": {
             "endlinecolor": "#A2B1C6",
             "gridcolor": "#506784",
             "linecolor": "#506784",
             "minorgridcolor": "#506784",
             "startlinecolor": "#A2B1C6"
            },
            "type": "carpet"
           }
          ],
          "choropleth": [
           {
            "colorbar": {
             "outlinewidth": 0,
             "ticks": ""
            },
            "type": "choropleth"
           }
          ],
          "contour": [
           {
            "colorbar": {
             "outlinewidth": 0,
             "ticks": ""
            },
            "colorscale": [
             [
              0,
              "#0d0887"
             ],
             [
              0.1111111111111111,
              "#46039f"
             ],
             [
              0.2222222222222222,
              "#7201a8"
             ],
             [
              0.3333333333333333,
              "#9c179e"
             ],
             [
              0.4444444444444444,
              "#bd3786"
             ],
             [
              0.5555555555555556,
              "#d8576b"
             ],
             [
              0.6666666666666666,
              "#ed7953"
             ],
             [
              0.7777777777777778,
              "#fb9f3a"
             ],
             [
              0.8888888888888888,
              "#fdca26"
             ],
             [
              1,
              "#f0f921"
             ]
            ],
            "type": "contour"
           }
          ],
          "contourcarpet": [
           {
            "colorbar": {
             "outlinewidth": 0,
             "ticks": ""
            },
            "type": "contourcarpet"
           }
          ],
          "heatmap": [
           {
            "colorbar": {
             "outlinewidth": 0,
             "ticks": ""
            },
            "colorscale": [
             [
              0,
              "#0d0887"
             ],
             [
              0.1111111111111111,
              "#46039f"
             ],
             [
              0.2222222222222222,
              "#7201a8"
             ],
             [
              0.3333333333333333,
              "#9c179e"
             ],
             [
              0.4444444444444444,
              "#bd3786"
             ],
             [
              0.5555555555555556,
              "#d8576b"
             ],
             [
              0.6666666666666666,
              "#ed7953"
             ],
             [
              0.7777777777777778,
              "#fb9f3a"
             ],
             [
              0.8888888888888888,
              "#fdca26"
             ],
             [
              1,
              "#f0f921"
             ]
            ],
            "type": "heatmap"
           }
          ],
          "heatmapgl": [
           {
            "colorbar": {
             "outlinewidth": 0,
             "ticks": ""
            },
            "colorscale": [
             [
              0,
              "#0d0887"
             ],
             [
              0.1111111111111111,
              "#46039f"
             ],
             [
              0.2222222222222222,
              "#7201a8"
             ],
             [
              0.3333333333333333,
              "#9c179e"
             ],
             [
              0.4444444444444444,
              "#bd3786"
             ],
             [
              0.5555555555555556,
              "#d8576b"
             ],
             [
              0.6666666666666666,
              "#ed7953"
             ],
             [
              0.7777777777777778,
              "#fb9f3a"
             ],
             [
              0.8888888888888888,
              "#fdca26"
             ],
             [
              1,
              "#f0f921"
             ]
            ],
            "type": "heatmapgl"
           }
          ],
          "histogram": [
           {
            "marker": {
             "pattern": {
              "fillmode": "overlay",
              "size": 10,
              "solidity": 0.2
             }
            },
            "type": "histogram"
           }
          ],
          "histogram2d": [
           {
            "colorbar": {
             "outlinewidth": 0,
             "ticks": ""
            },
            "colorscale": [
             [
              0,
              "#0d0887"
             ],
             [
              0.1111111111111111,
              "#46039f"
             ],
             [
              0.2222222222222222,
              "#7201a8"
             ],
             [
              0.3333333333333333,
              "#9c179e"
             ],
             [
              0.4444444444444444,
              "#bd3786"
             ],
             [
              0.5555555555555556,
              "#d8576b"
             ],
             [
              0.6666666666666666,
              "#ed7953"
             ],
             [
              0.7777777777777778,
              "#fb9f3a"
             ],
             [
              0.8888888888888888,
              "#fdca26"
             ],
             [
              1,
              "#f0f921"
             ]
            ],
            "type": "histogram2d"
           }
          ],
          "histogram2dcontour": [
           {
            "colorbar": {
             "outlinewidth": 0,
             "ticks": ""
            },
            "colorscale": [
             [
              0,
              "#0d0887"
             ],
             [
              0.1111111111111111,
              "#46039f"
             ],
             [
              0.2222222222222222,
              "#7201a8"
             ],
             [
              0.3333333333333333,
              "#9c179e"
             ],
             [
              0.4444444444444444,
              "#bd3786"
             ],
             [
              0.5555555555555556,
              "#d8576b"
             ],
             [
              0.6666666666666666,
              "#ed7953"
             ],
             [
              0.7777777777777778,
              "#fb9f3a"
             ],
             [
              0.8888888888888888,
              "#fdca26"
             ],
             [
              1,
              "#f0f921"
             ]
            ],
            "type": "histogram2dcontour"
           }
          ],
          "mesh3d": [
           {
            "colorbar": {
             "outlinewidth": 0,
             "ticks": ""
            },
            "type": "mesh3d"
           }
          ],
          "parcoords": [
           {
            "line": {
             "colorbar": {
              "outlinewidth": 0,
              "ticks": ""
             }
            },
            "type": "parcoords"
           }
          ],
          "pie": [
           {
            "automargin": true,
            "type": "pie"
           }
          ],
          "scatter": [
           {
            "marker": {
             "line": {
              "color": "#283442"
             }
            },
            "type": "scatter"
           }
          ],
          "scatter3d": [
           {
            "line": {
             "colorbar": {
              "outlinewidth": 0,
              "ticks": ""
             }
            },
            "marker": {
             "colorbar": {
              "outlinewidth": 0,
              "ticks": ""
             }
            },
            "type": "scatter3d"
           }
          ],
          "scattercarpet": [
           {
            "marker": {
             "colorbar": {
              "outlinewidth": 0,
              "ticks": ""
             }
            },
            "type": "scattercarpet"
           }
          ],
          "scattergeo": [
           {
            "marker": {
             "colorbar": {
              "outlinewidth": 0,
              "ticks": ""
             }
            },
            "type": "scattergeo"
           }
          ],
          "scattergl": [
           {
            "marker": {
             "line": {
              "color": "#283442"
             }
            },
            "type": "scattergl"
           }
          ],
          "scattermapbox": [
           {
            "marker": {
             "colorbar": {
              "outlinewidth": 0,
              "ticks": ""
             }
            },
            "type": "scattermapbox"
           }
          ],
          "scatterpolar": [
           {
            "marker": {
             "colorbar": {
              "outlinewidth": 0,
              "ticks": ""
             }
            },
            "type": "scatterpolar"
           }
          ],
          "scatterpolargl": [
           {
            "marker": {
             "colorbar": {
              "outlinewidth": 0,
              "ticks": ""
             }
            },
            "type": "scatterpolargl"
           }
          ],
          "scatterternary": [
           {
            "marker": {
             "colorbar": {
              "outlinewidth": 0,
              "ticks": ""
             }
            },
            "type": "scatterternary"
           }
          ],
          "surface": [
           {
            "colorbar": {
             "outlinewidth": 0,
             "ticks": ""
            },
            "colorscale": [
             [
              0,
              "#0d0887"
             ],
             [
              0.1111111111111111,
              "#46039f"
             ],
             [
              0.2222222222222222,
              "#7201a8"
             ],
             [
              0.3333333333333333,
              "#9c179e"
             ],
             [
              0.4444444444444444,
              "#bd3786"
             ],
             [
              0.5555555555555556,
              "#d8576b"
             ],
             [
              0.6666666666666666,
              "#ed7953"
             ],
             [
              0.7777777777777778,
              "#fb9f3a"
             ],
             [
              0.8888888888888888,
              "#fdca26"
             ],
             [
              1,
              "#f0f921"
             ]
            ],
            "type": "surface"
           }
          ],
          "table": [
           {
            "cells": {
             "fill": {
              "color": "#506784"
             },
             "line": {
              "color": "rgb(17,17,17)"
             }
            },
            "header": {
             "fill": {
              "color": "#2a3f5f"
             },
             "line": {
              "color": "rgb(17,17,17)"
             }
            },
            "type": "table"
           }
          ]
         },
         "layout": {
          "annotationdefaults": {
           "arrowcolor": "#f2f5fa",
           "arrowhead": 0,
           "arrowwidth": 1
          },
          "autotypenumbers": "strict",
          "coloraxis": {
           "colorbar": {
            "outlinewidth": 0,
            "ticks": ""
           }
          },
          "colorscale": {
           "diverging": [
            [
             0,
             "#8e0152"
            ],
            [
             0.1,
             "#c51b7d"
            ],
            [
             0.2,
             "#de77ae"
            ],
            [
             0.3,
             "#f1b6da"
            ],
            [
             0.4,
             "#fde0ef"
            ],
            [
             0.5,
             "#f7f7f7"
            ],
            [
             0.6,
             "#e6f5d0"
            ],
            [
             0.7,
             "#b8e186"
            ],
            [
             0.8,
             "#7fbc41"
            ],
            [
             0.9,
             "#4d9221"
            ],
            [
             1,
             "#276419"
            ]
           ],
           "sequential": [
            [
             0,
             "#0d0887"
            ],
            [
             0.1111111111111111,
             "#46039f"
            ],
            [
             0.2222222222222222,
             "#7201a8"
            ],
            [
             0.3333333333333333,
             "#9c179e"
            ],
            [
             0.4444444444444444,
             "#bd3786"
            ],
            [
             0.5555555555555556,
             "#d8576b"
            ],
            [
             0.6666666666666666,
             "#ed7953"
            ],
            [
             0.7777777777777778,
             "#fb9f3a"
            ],
            [
             0.8888888888888888,
             "#fdca26"
            ],
            [
             1,
             "#f0f921"
            ]
           ],
           "sequentialminus": [
            [
             0,
             "#0d0887"
            ],
            [
             0.1111111111111111,
             "#46039f"
            ],
            [
             0.2222222222222222,
             "#7201a8"
            ],
            [
             0.3333333333333333,
             "#9c179e"
            ],
            [
             0.4444444444444444,
             "#bd3786"
            ],
            [
             0.5555555555555556,
             "#d8576b"
            ],
            [
             0.6666666666666666,
             "#ed7953"
            ],
            [
             0.7777777777777778,
             "#fb9f3a"
            ],
            [
             0.8888888888888888,
             "#fdca26"
            ],
            [
             1,
             "#f0f921"
            ]
           ]
          },
          "colorway": [
           "#636efa",
           "#EF553B",
           "#00cc96",
           "#ab63fa",
           "#FFA15A",
           "#19d3f3",
           "#FF6692",
           "#B6E880",
           "#FF97FF",
           "#FECB52"
          ],
          "font": {
           "color": "#f2f5fa"
          },
          "geo": {
           "bgcolor": "rgb(17,17,17)",
           "lakecolor": "rgb(17,17,17)",
           "landcolor": "rgb(17,17,17)",
           "showlakes": true,
           "showland": true,
           "subunitcolor": "#506784"
          },
          "hoverlabel": {
           "align": "left"
          },
          "hovermode": "closest",
          "mapbox": {
           "style": "dark"
          },
          "paper_bgcolor": "rgb(17,17,17)",
          "plot_bgcolor": "rgb(17,17,17)",
          "polar": {
           "angularaxis": {
            "gridcolor": "#506784",
            "linecolor": "#506784",
            "ticks": ""
           },
           "bgcolor": "rgb(17,17,17)",
           "radialaxis": {
            "gridcolor": "#506784",
            "linecolor": "#506784",
            "ticks": ""
           }
          },
          "scene": {
           "xaxis": {
            "backgroundcolor": "rgb(17,17,17)",
            "gridcolor": "#506784",
            "gridwidth": 2,
            "linecolor": "#506784",
            "showbackground": true,
            "ticks": "",
            "zerolinecolor": "#C8D4E3"
           },
           "yaxis": {
            "backgroundcolor": "rgb(17,17,17)",
            "gridcolor": "#506784",
            "gridwidth": 2,
            "linecolor": "#506784",
            "showbackground": true,
            "ticks": "",
            "zerolinecolor": "#C8D4E3"
           },
           "zaxis": {
            "backgroundcolor": "rgb(17,17,17)",
            "gridcolor": "#506784",
            "gridwidth": 2,
            "linecolor": "#506784",
            "showbackground": true,
            "ticks": "",
            "zerolinecolor": "#C8D4E3"
           }
          },
          "shapedefaults": {
           "line": {
            "color": "#f2f5fa"
           }
          },
          "sliderdefaults": {
           "bgcolor": "#C8D4E3",
           "bordercolor": "rgb(17,17,17)",
           "borderwidth": 1,
           "tickwidth": 0
          },
          "ternary": {
           "aaxis": {
            "gridcolor": "#506784",
            "linecolor": "#506784",
            "ticks": ""
           },
           "baxis": {
            "gridcolor": "#506784",
            "linecolor": "#506784",
            "ticks": ""
           },
           "bgcolor": "rgb(17,17,17)",
           "caxis": {
            "gridcolor": "#506784",
            "linecolor": "#506784",
            "ticks": ""
           }
          },
          "title": {
           "x": 0.05
          },
          "updatemenudefaults": {
           "bgcolor": "#506784",
           "borderwidth": 0
          },
          "xaxis": {
           "automargin": true,
           "gridcolor": "#283442",
           "linecolor": "#506784",
           "ticks": "",
           "title": {
            "standoff": 15
           },
           "zerolinecolor": "#283442",
           "zerolinewidth": 2
          },
          "yaxis": {
           "automargin": true,
           "gridcolor": "#283442",
           "linecolor": "#506784",
           "ticks": "",
           "title": {
            "standoff": 15
           },
           "zerolinecolor": "#283442",
           "zerolinewidth": 2
          }
         }
        },
        "title": {
         "text": "Overall times to first food"
        },
        "xaxis": {
         "anchor": "y",
         "domain": [
          0,
          1
         ],
         "title": {
          "text": "time to first food"
         }
        },
        "yaxis": {
         "anchor": "x",
         "domain": [
          0,
          1
         ],
         "title": {
          "text": "count"
         }
        }
       }
      }
     },
     "metadata": {},
     "output_type": "display_data"
    }
   ],
   "source": [
    "#this migth be more useful\n",
    "px.histogram(impactDF, x=\"time to first food\", nbins=20, title=\"Overall times to first food\",\n",
    "             template=\"plotly_dark\")"
   ]
  },
  {
   "cell_type": "code",
   "execution_count": 17,
   "metadata": {},
   "outputs": [
    {
     "data": {
      "text/html": [
       "<div>\n",
       "<style scoped>\n",
       "    .dataframe tbody tr th:only-of-type {\n",
       "        vertical-align: middle;\n",
       "    }\n",
       "\n",
       "    .dataframe tbody tr th {\n",
       "        vertical-align: top;\n",
       "    }\n",
       "\n",
       "    .dataframe thead th {\n",
       "        text-align: right;\n",
       "    }\n",
       "</style>\n",
       "<table border=\"1\" class=\"dataframe\">\n",
       "  <thead>\n",
       "    <tr style=\"text-align: right;\">\n",
       "      <th></th>\n",
       "      <th>time to first food</th>\n",
       "      <th>num birds failed</th>\n",
       "    </tr>\n",
       "  </thead>\n",
       "  <tbody>\n",
       "    <tr>\n",
       "      <th>time to first food</th>\n",
       "      <td>1.000000</td>\n",
       "      <td>0.591975</td>\n",
       "    </tr>\n",
       "    <tr>\n",
       "      <th>num birds failed</th>\n",
       "      <td>0.591975</td>\n",
       "      <td>1.000000</td>\n",
       "    </tr>\n",
       "  </tbody>\n",
       "</table>\n",
       "</div>"
      ],
      "text/plain": [
       "                    time to first food  num birds failed\n",
       "time to first food            1.000000          0.591975\n",
       "num birds failed              0.591975          1.000000"
      ]
     },
     "execution_count": 17,
     "metadata": {},
     "output_type": "execute_result"
    }
   ],
   "source": [
    "# the success metrics are rather correlated anyway\n",
    "impactDF.iloc[:,-2:].corr(method=\"spearman\")"
   ]
  },
  {
   "cell_type": "code",
   "execution_count": 18,
   "metadata": {},
   "outputs": [
    {
     "data": {
      "application/vnd.plotly.v1+json": {
       "config": {
        "plotlyServerURL": "https://plot.ly"
       },
       "data": [
        {
         "hovertemplate": "num birds failed=%{x}<br>time to first food=%{y}<extra></extra>",
         "legendgroup": "",
         "marker": {
          "color": "#636efa",
          "symbol": "circle"
         },
         "mode": "markers",
         "name": "",
         "orientation": "v",
         "showlegend": false,
         "type": "scatter",
         "x": [
          0,
          0,
          0,
          1,
          0,
          0,
          0,
          0,
          0,
          0,
          3,
          1,
          5,
          1,
          3,
          2,
          2,
          1,
          2,
          3,
          3,
          1,
          4,
          2,
          2,
          6,
          1,
          2,
          4,
          0,
          4,
          3,
          4,
          2,
          4,
          6,
          4,
          2,
          5,
          7,
          2,
          2,
          5,
          3,
          6,
          3,
          5,
          3,
          1,
          1,
          0,
          0,
          0,
          0,
          0,
          0,
          0,
          0,
          0,
          0,
          0,
          0,
          0,
          0,
          2,
          0,
          0,
          0,
          0,
          0,
          0,
          0,
          0,
          0,
          0,
          0,
          0,
          2,
          0,
          1,
          0,
          0,
          0,
          1,
          0,
          0,
          0,
          0,
          0,
          0,
          0,
          0,
          0,
          0,
          0,
          0,
          0,
          0,
          0,
          3,
          0,
          0,
          0,
          0,
          0,
          0,
          0,
          0,
          0,
          0,
          0,
          0,
          0,
          0,
          0,
          0,
          0,
          0,
          0,
          0,
          0,
          0,
          0,
          0,
          0,
          0,
          0,
          0,
          0,
          0,
          0,
          0,
          1,
          0,
          0,
          0,
          0,
          0,
          0,
          1,
          0,
          0,
          0,
          0,
          0,
          0,
          0,
          0,
          0,
          0,
          0,
          0,
          0,
          0,
          0,
          0,
          0,
          0,
          0,
          0,
          0,
          0,
          1,
          0,
          0,
          0,
          0,
          0,
          0,
          0,
          0,
          0,
          0,
          0,
          0,
          0,
          0,
          0,
          0,
          0,
          1,
          0,
          0,
          0,
          0,
          0,
          0,
          0,
          1,
          0,
          0,
          0,
          2,
          0,
          0,
          0,
          0,
          0,
          0,
          9,
          0,
          0,
          0,
          0,
          0,
          0,
          0,
          0,
          0,
          0,
          0,
          0,
          0,
          0,
          0,
          0,
          0,
          0,
          0,
          0,
          0,
          0,
          0,
          0,
          0,
          0,
          0,
          1,
          0,
          0,
          0,
          1,
          0,
          0,
          0,
          1,
          0,
          0,
          0,
          0,
          0,
          0,
          0,
          0,
          0,
          0,
          0,
          0,
          0,
          0,
          0,
          0,
          0,
          0,
          0,
          0,
          0,
          0,
          0,
          0,
          1,
          0,
          0,
          0,
          0,
          0,
          0,
          0,
          0,
          0,
          0,
          0,
          0,
          0,
          0,
          0,
          0,
          0,
          0,
          0,
          0,
          0,
          0,
          0,
          0,
          0,
          0,
          0,
          0,
          0,
          1,
          1,
          0,
          0,
          0,
          1,
          0,
          3,
          0,
          0,
          0,
          0,
          0,
          0,
          0,
          0,
          0,
          0,
          0,
          0,
          0,
          0,
          0,
          0,
          0,
          0,
          0,
          0,
          0,
          0,
          0,
          0,
          0,
          0,
          0,
          0,
          0,
          0,
          0,
          0,
          0,
          1,
          0,
          0,
          0,
          0,
          0,
          0,
          0,
          0,
          0,
          0,
          1,
          0,
          0,
          1,
          0,
          0,
          0,
          0,
          0,
          0,
          0,
          0,
          0,
          0,
          0,
          0,
          0,
          0,
          0,
          0,
          0,
          0,
          0,
          0,
          0,
          0,
          0,
          0,
          0,
          0,
          0,
          0,
          0,
          0,
          0,
          0,
          0,
          0,
          0,
          0,
          1,
          0,
          0,
          0,
          0,
          0,
          0,
          0,
          0,
          0,
          0,
          0,
          1,
          0,
          0,
          0,
          1,
          0,
          0,
          0,
          0,
          0,
          0,
          0,
          0,
          0,
          0,
          0,
          0,
          0,
          4,
          0,
          0,
          0,
          0,
          0,
          0,
          0,
          0,
          0,
          0,
          0,
          0,
          2,
          0,
          0,
          0,
          0,
          0,
          0,
          0,
          3,
          0,
          0,
          0,
          0,
          0,
          0,
          0,
          0,
          0,
          0,
          0,
          0,
          1,
          0,
          0,
          0
         ],
         "xaxis": "x",
         "y": [
          1.5555555555555556,
          1.3333333333333333,
          4.222222222222222,
          13.22222222222222,
          2.555555555555556,
          3,
          2.111111111111111,
          1.4444444444444444,
          5.666666666666667,
          8.222222222222221,
          28.22222222222222,
          16.77777777777778,
          31.33333333333333,
          15.555555555555555,
          24.55555555555556,
          18,
          18.77777777777778,
          15.88888888888889,
          20.88888888888889,
          19,
          19.22222222222222,
          14,
          35.333333333333336,
          20.88888888888889,
          21.77777777777778,
          39.77777777777778,
          11.11111111111111,
          33.333333333333336,
          26.666666666666668,
          7.666666666666667,
          35.333333333333336,
          31.22222222222222,
          34.888888888888886,
          22.666666666666668,
          37,
          42,
          35.22222222222222,
          20,
          36,
          45.11111111111112,
          12.88888888888889,
          19.88888888888889,
          41.888888888888886,
          21.77777777777778,
          36.333333333333336,
          22.88888888888889,
          34.55555555555556,
          22.11111111111111,
          14.333333333333334,
          17.444444444444443,
          1.7777777777777777,
          3.111111111111111,
          1.6666666666666667,
          2.111111111111111,
          2.333333333333333,
          2.333333333333333,
          1.5555555555555556,
          2.7777777777777777,
          2.555555555555556,
          2.2222222222222223,
          3.4444444444444446,
          4.888888888888889,
          7,
          5.888888888888889,
          13.88888888888889,
          5.555555555555555,
          7.444444444444445,
          6.777777777777778,
          3.4444444444444446,
          4.222222222222222,
          7.666666666666667,
          3.4444444444444446,
          6,
          6,
          5.555555555555555,
          6.555555555555555,
          2.888888888888889,
          16,
          4,
          9.22222222222222,
          9.22222222222222,
          5.555555555555555,
          24,
          13.333333333333334,
          5.666666666666667,
          4.555555555555555,
          7.666666666666667,
          15.88888888888889,
          10.666666666666666,
          3.555555555555556,
          9,
          6.666666666666667,
          5.111111111111111,
          9.22222222222222,
          4.111111111111111,
          8.11111111111111,
          8.555555555555555,
          7.666666666666667,
          15.88888888888889,
          34.111111111111114,
          3,
          2.4444444444444446,
          3.2222222222222223,
          2.6666666666666665,
          2,
          3.111111111111111,
          2.6666666666666665,
          2.888888888888889,
          5,
          2.111111111111111,
          3.333333333333333,
          6.444444444444445,
          3.6666666666666665,
          2.2222222222222223,
          3,
          3.888888888888889,
          4.111111111111111,
          3.4444444444444446,
          2.333333333333333,
          4.666666666666667,
          7,
          6.666666666666667,
          4.111111111111111,
          5.777777777777778,
          3.333333333333333,
          5.666666666666667,
          4.222222222222222,
          4.444444444444445,
          8.88888888888889,
          6.555555555555555,
          8.11111111111111,
          13.444444444444445,
          16,
          8.666666666666666,
          5.888888888888889,
          4.555555555555555,
          5.777777777777778,
          7.555555555555555,
          9.88888888888889,
          10.22222222222222,
          8.222222222222221,
          17.88888888888889,
          12.333333333333334,
          7.111111111111111,
          4.111111111111111,
          6.111111111111111,
          9,
          7.666666666666667,
          4.333333333333333,
          8.666666666666666,
          2.6666666666666665,
          1.6666666666666667,
          2,
          2.888888888888889,
          2.555555555555556,
          1.5555555555555556,
          2.333333333333333,
          1.8888888888888888,
          2.333333333333333,
          2.2222222222222223,
          5.777777777777778,
          1.8888888888888888,
          8.222222222222221,
          4.888888888888889,
          8.777777777777779,
          2.2222222222222223,
          4.333333333333333,
          6,
          3,
          4.555555555555555,
          4.666666666666667,
          13.11111111111111,
          8.11111111111111,
          4,
          3,
          3.4444444444444446,
          5.222222222222222,
          3.555555555555556,
          6.222222222222222,
          5.888888888888889,
          9,
          4.555555555555555,
          4.666666666666667,
          6.333333333333333,
          5.333333333333333,
          5.111111111111111,
          9.444444444444445,
          6.777777777777778,
          9.22222222222222,
          5,
          6.444444444444445,
          7.222222222222222,
          32.77777777777778,
          7.666666666666667,
          4.222222222222222,
          10.333333333333334,
          25.666666666666668,
          7.666666666666667,
          7.222222222222222,
          50,
          1.6666666666666667,
          1.8888888888888888,
          2.6666666666666665,
          1.8888888888888888,
          1.5555555555555556,
          2.4444444444444446,
          1.5555555555555556,
          2.2222222222222223,
          2.888888888888889,
          3.888888888888889,
          6.333333333333333,
          2.888888888888889,
          4,
          5.555555555555555,
          4.333333333333333,
          2.4444444444444446,
          2.6666666666666665,
          9.77777777777778,
          3.7777777777777777,
          4.777777777777778,
          8.333333333333334,
          5.444444444444445,
          4.555555555555555,
          4,
          3.6666666666666665,
          5.111111111111111,
          6,
          11,
          5.555555555555555,
          5.888888888888889,
          9.77777777777778,
          11.444444444444445,
          3.6666666666666665,
          7.555555555555555,
          9.77777777777778,
          10.11111111111111,
          6.222222222222222,
          10,
          15.11111111111111,
          7.444444444444445,
          7.333333333333333,
          3.4444444444444446,
          11.666666666666666,
          8.777777777777779,
          6.777777777777778,
          3.333333333333333,
          20,
          10.11111111111111,
          7.111111111111111,
          3.888888888888889,
          2.555555555555556,
          1.5555555555555556,
          2.111111111111111,
          1.4444444444444444,
          3.111111111111111,
          2,
          2.7777777777777777,
          2.6666666666666665,
          3.6666666666666665,
          4.333333333333333,
          13.77777777777778,
          2.7777777777777777,
          5.222222222222222,
          2.6666666666666665,
          3.333333333333333,
          3.7777777777777777,
          4.555555555555555,
          5.333333333333333,
          4.111111111111111,
          27.444444444444443,
          4.444444444444445,
          12.88888888888889,
          3.555555555555556,
          4.111111111111111,
          6.555555555555555,
          3.333333333333333,
          4.888888888888889,
          4.888888888888889,
          4.666666666666667,
          3.7777777777777777,
          4.111111111111111,
          6.666666666666667,
          5.111111111111111,
          14.666666666666666,
          4.777777777777778,
          5.777777777777778,
          4.444444444444445,
          4.333333333333333,
          8.555555555555555,
          4.444444444444445,
          13,
          13.333333333333334,
          9.77777777777778,
          6.222222222222222,
          4.666666666666667,
          12.444444444444445,
          6.444444444444445,
          21.33333333333333,
          4.555555555555555,
          13.77777777777778,
          3.333333333333333,
          1.4444444444444444,
          2.333333333333333,
          3.111111111111111,
          3,
          4,
          1.3333333333333333,
          2.2222222222222223,
          3.333333333333333,
          1.5555555555555556,
          3.2222222222222223,
          3.333333333333333,
          2.555555555555556,
          4.666666666666667,
          2.333333333333333,
          5.888888888888889,
          2.7777777777777777,
          3.6666666666666665,
          3.333333333333333,
          2.888888888888889,
          3.6666666666666665,
          9.11111111111111,
          10,
          6.111111111111111,
          3.7777777777777777,
          2.6666666666666665,
          6.222222222222222,
          7.111111111111111,
          4.333333333333333,
          3.555555555555556,
          12,
          10.666666666666666,
          7.888888888888889,
          5.222222222222222,
          4.222222222222222,
          4.333333333333333,
          9.11111111111111,
          6.555555555555555,
          4.555555555555555,
          5.333333333333333,
          4.777777777777778,
          3,
          8.222222222222221,
          9.22222222222222,
          6.555555555555555,
          28,
          6.333333333333333,
          49,
          6.666666666666667,
          17.666666666666668,
          2,
          1.8888888888888888,
          1.7777777777777777,
          2.333333333333333,
          1.8888888888888888,
          1.8888888888888888,
          1.4444444444444444,
          3.2222222222222223,
          2,
          3,
          2.555555555555556,
          3.7777777777777777,
          5.666666666666667,
          3.2222222222222223,
          2.888888888888889,
          4.444444444444445,
          5.333333333333333,
          2.888888888888889,
          5.333333333333333,
          4.444444444444445,
          4.444444444444445,
          7,
          4.777777777777778,
          4.111111111111111,
          3.4444444444444446,
          7.666666666666667,
          4.777777777777778,
          8.777777777777779,
          10.11111111111111,
          5.666666666666667,
          6.333333333333333,
          9.11111111111111,
          12.666666666666666,
          13,
          4.222222222222222,
          3.7777777777777777,
          6.333333333333333,
          4.333333333333333,
          6,
          6.111111111111111,
          8.555555555555555,
          3.888888888888889,
          8.222222222222221,
          4.222222222222222,
          8.666666666666666,
          14.88888888888889,
          3.333333333333333,
          3.555555555555556,
          36,
          5.555555555555555,
          2.555555555555556,
          1.7777777777777777,
          2.111111111111111,
          2,
          1.8888888888888888,
          2,
          2,
          2.4444444444444446,
          2.333333333333333,
          2.7777777777777777,
          4.444444444444445,
          4.666666666666667,
          25.33333333333333,
          3.555555555555556,
          7.888888888888889,
          4.111111111111111,
          3.555555555555556,
          5.111111111111111,
          1.6666666666666667,
          2.888888888888889,
          6,
          4,
          4,
          3.6666666666666665,
          5.666666666666667,
          16.11111111111111,
          7.333333333333333,
          8.333333333333334,
          6.333333333333333,
          3.2222222222222223,
          39,
          5.777777777777778,
          6.444444444444445,
          30.11111111111111,
          5.888888888888889,
          5.111111111111111,
          7.444444444444445,
          7.111111111111111,
          4.333333333333333,
          16.22222222222222,
          9,
          4.444444444444445,
          16.444444444444443,
          4.888888888888889,
          9.77777777777778,
          9.77777777777778,
          10.22222222222222,
          14.11111111111111,
          4.333333333333333,
          3.2222222222222223
         ],
         "yaxis": "y"
        }
       ],
       "layout": {
        "legend": {
         "tracegroupgap": 0
        },
        "template": {
         "data": {
          "bar": [
           {
            "error_x": {
             "color": "#f2f5fa"
            },
            "error_y": {
             "color": "#f2f5fa"
            },
            "marker": {
             "line": {
              "color": "rgb(17,17,17)",
              "width": 0.5
             },
             "pattern": {
              "fillmode": "overlay",
              "size": 10,
              "solidity": 0.2
             }
            },
            "type": "bar"
           }
          ],
          "barpolar": [
           {
            "marker": {
             "line": {
              "color": "rgb(17,17,17)",
              "width": 0.5
             },
             "pattern": {
              "fillmode": "overlay",
              "size": 10,
              "solidity": 0.2
             }
            },
            "type": "barpolar"
           }
          ],
          "carpet": [
           {
            "aaxis": {
             "endlinecolor": "#A2B1C6",
             "gridcolor": "#506784",
             "linecolor": "#506784",
             "minorgridcolor": "#506784",
             "startlinecolor": "#A2B1C6"
            },
            "baxis": {
             "endlinecolor": "#A2B1C6",
             "gridcolor": "#506784",
             "linecolor": "#506784",
             "minorgridcolor": "#506784",
             "startlinecolor": "#A2B1C6"
            },
            "type": "carpet"
           }
          ],
          "choropleth": [
           {
            "colorbar": {
             "outlinewidth": 0,
             "ticks": ""
            },
            "type": "choropleth"
           }
          ],
          "contour": [
           {
            "colorbar": {
             "outlinewidth": 0,
             "ticks": ""
            },
            "colorscale": [
             [
              0,
              "#0d0887"
             ],
             [
              0.1111111111111111,
              "#46039f"
             ],
             [
              0.2222222222222222,
              "#7201a8"
             ],
             [
              0.3333333333333333,
              "#9c179e"
             ],
             [
              0.4444444444444444,
              "#bd3786"
             ],
             [
              0.5555555555555556,
              "#d8576b"
             ],
             [
              0.6666666666666666,
              "#ed7953"
             ],
             [
              0.7777777777777778,
              "#fb9f3a"
             ],
             [
              0.8888888888888888,
              "#fdca26"
             ],
             [
              1,
              "#f0f921"
             ]
            ],
            "type": "contour"
           }
          ],
          "contourcarpet": [
           {
            "colorbar": {
             "outlinewidth": 0,
             "ticks": ""
            },
            "type": "contourcarpet"
           }
          ],
          "heatmap": [
           {
            "colorbar": {
             "outlinewidth": 0,
             "ticks": ""
            },
            "colorscale": [
             [
              0,
              "#0d0887"
             ],
             [
              0.1111111111111111,
              "#46039f"
             ],
             [
              0.2222222222222222,
              "#7201a8"
             ],
             [
              0.3333333333333333,
              "#9c179e"
             ],
             [
              0.4444444444444444,
              "#bd3786"
             ],
             [
              0.5555555555555556,
              "#d8576b"
             ],
             [
              0.6666666666666666,
              "#ed7953"
             ],
             [
              0.7777777777777778,
              "#fb9f3a"
             ],
             [
              0.8888888888888888,
              "#fdca26"
             ],
             [
              1,
              "#f0f921"
             ]
            ],
            "type": "heatmap"
           }
          ],
          "heatmapgl": [
           {
            "colorbar": {
             "outlinewidth": 0,
             "ticks": ""
            },
            "colorscale": [
             [
              0,
              "#0d0887"
             ],
             [
              0.1111111111111111,
              "#46039f"
             ],
             [
              0.2222222222222222,
              "#7201a8"
             ],
             [
              0.3333333333333333,
              "#9c179e"
             ],
             [
              0.4444444444444444,
              "#bd3786"
             ],
             [
              0.5555555555555556,
              "#d8576b"
             ],
             [
              0.6666666666666666,
              "#ed7953"
             ],
             [
              0.7777777777777778,
              "#fb9f3a"
             ],
             [
              0.8888888888888888,
              "#fdca26"
             ],
             [
              1,
              "#f0f921"
             ]
            ],
            "type": "heatmapgl"
           }
          ],
          "histogram": [
           {
            "marker": {
             "pattern": {
              "fillmode": "overlay",
              "size": 10,
              "solidity": 0.2
             }
            },
            "type": "histogram"
           }
          ],
          "histogram2d": [
           {
            "colorbar": {
             "outlinewidth": 0,
             "ticks": ""
            },
            "colorscale": [
             [
              0,
              "#0d0887"
             ],
             [
              0.1111111111111111,
              "#46039f"
             ],
             [
              0.2222222222222222,
              "#7201a8"
             ],
             [
              0.3333333333333333,
              "#9c179e"
             ],
             [
              0.4444444444444444,
              "#bd3786"
             ],
             [
              0.5555555555555556,
              "#d8576b"
             ],
             [
              0.6666666666666666,
              "#ed7953"
             ],
             [
              0.7777777777777778,
              "#fb9f3a"
             ],
             [
              0.8888888888888888,
              "#fdca26"
             ],
             [
              1,
              "#f0f921"
             ]
            ],
            "type": "histogram2d"
           }
          ],
          "histogram2dcontour": [
           {
            "colorbar": {
             "outlinewidth": 0,
             "ticks": ""
            },
            "colorscale": [
             [
              0,
              "#0d0887"
             ],
             [
              0.1111111111111111,
              "#46039f"
             ],
             [
              0.2222222222222222,
              "#7201a8"
             ],
             [
              0.3333333333333333,
              "#9c179e"
             ],
             [
              0.4444444444444444,
              "#bd3786"
             ],
             [
              0.5555555555555556,
              "#d8576b"
             ],
             [
              0.6666666666666666,
              "#ed7953"
             ],
             [
              0.7777777777777778,
              "#fb9f3a"
             ],
             [
              0.8888888888888888,
              "#fdca26"
             ],
             [
              1,
              "#f0f921"
             ]
            ],
            "type": "histogram2dcontour"
           }
          ],
          "mesh3d": [
           {
            "colorbar": {
             "outlinewidth": 0,
             "ticks": ""
            },
            "type": "mesh3d"
           }
          ],
          "parcoords": [
           {
            "line": {
             "colorbar": {
              "outlinewidth": 0,
              "ticks": ""
             }
            },
            "type": "parcoords"
           }
          ],
          "pie": [
           {
            "automargin": true,
            "type": "pie"
           }
          ],
          "scatter": [
           {
            "marker": {
             "line": {
              "color": "#283442"
             }
            },
            "type": "scatter"
           }
          ],
          "scatter3d": [
           {
            "line": {
             "colorbar": {
              "outlinewidth": 0,
              "ticks": ""
             }
            },
            "marker": {
             "colorbar": {
              "outlinewidth": 0,
              "ticks": ""
             }
            },
            "type": "scatter3d"
           }
          ],
          "scattercarpet": [
           {
            "marker": {
             "colorbar": {
              "outlinewidth": 0,
              "ticks": ""
             }
            },
            "type": "scattercarpet"
           }
          ],
          "scattergeo": [
           {
            "marker": {
             "colorbar": {
              "outlinewidth": 0,
              "ticks": ""
             }
            },
            "type": "scattergeo"
           }
          ],
          "scattergl": [
           {
            "marker": {
             "line": {
              "color": "#283442"
             }
            },
            "type": "scattergl"
           }
          ],
          "scattermapbox": [
           {
            "marker": {
             "colorbar": {
              "outlinewidth": 0,
              "ticks": ""
             }
            },
            "type": "scattermapbox"
           }
          ],
          "scatterpolar": [
           {
            "marker": {
             "colorbar": {
              "outlinewidth": 0,
              "ticks": ""
             }
            },
            "type": "scatterpolar"
           }
          ],
          "scatterpolargl": [
           {
            "marker": {
             "colorbar": {
              "outlinewidth": 0,
              "ticks": ""
             }
            },
            "type": "scatterpolargl"
           }
          ],
          "scatterternary": [
           {
            "marker": {
             "colorbar": {
              "outlinewidth": 0,
              "ticks": ""
             }
            },
            "type": "scatterternary"
           }
          ],
          "surface": [
           {
            "colorbar": {
             "outlinewidth": 0,
             "ticks": ""
            },
            "colorscale": [
             [
              0,
              "#0d0887"
             ],
             [
              0.1111111111111111,
              "#46039f"
             ],
             [
              0.2222222222222222,
              "#7201a8"
             ],
             [
              0.3333333333333333,
              "#9c179e"
             ],
             [
              0.4444444444444444,
              "#bd3786"
             ],
             [
              0.5555555555555556,
              "#d8576b"
             ],
             [
              0.6666666666666666,
              "#ed7953"
             ],
             [
              0.7777777777777778,
              "#fb9f3a"
             ],
             [
              0.8888888888888888,
              "#fdca26"
             ],
             [
              1,
              "#f0f921"
             ]
            ],
            "type": "surface"
           }
          ],
          "table": [
           {
            "cells": {
             "fill": {
              "color": "#506784"
             },
             "line": {
              "color": "rgb(17,17,17)"
             }
            },
            "header": {
             "fill": {
              "color": "#2a3f5f"
             },
             "line": {
              "color": "rgb(17,17,17)"
             }
            },
            "type": "table"
           }
          ]
         },
         "layout": {
          "annotationdefaults": {
           "arrowcolor": "#f2f5fa",
           "arrowhead": 0,
           "arrowwidth": 1
          },
          "autotypenumbers": "strict",
          "coloraxis": {
           "colorbar": {
            "outlinewidth": 0,
            "ticks": ""
           }
          },
          "colorscale": {
           "diverging": [
            [
             0,
             "#8e0152"
            ],
            [
             0.1,
             "#c51b7d"
            ],
            [
             0.2,
             "#de77ae"
            ],
            [
             0.3,
             "#f1b6da"
            ],
            [
             0.4,
             "#fde0ef"
            ],
            [
             0.5,
             "#f7f7f7"
            ],
            [
             0.6,
             "#e6f5d0"
            ],
            [
             0.7,
             "#b8e186"
            ],
            [
             0.8,
             "#7fbc41"
            ],
            [
             0.9,
             "#4d9221"
            ],
            [
             1,
             "#276419"
            ]
           ],
           "sequential": [
            [
             0,
             "#0d0887"
            ],
            [
             0.1111111111111111,
             "#46039f"
            ],
            [
             0.2222222222222222,
             "#7201a8"
            ],
            [
             0.3333333333333333,
             "#9c179e"
            ],
            [
             0.4444444444444444,
             "#bd3786"
            ],
            [
             0.5555555555555556,
             "#d8576b"
            ],
            [
             0.6666666666666666,
             "#ed7953"
            ],
            [
             0.7777777777777778,
             "#fb9f3a"
            ],
            [
             0.8888888888888888,
             "#fdca26"
            ],
            [
             1,
             "#f0f921"
            ]
           ],
           "sequentialminus": [
            [
             0,
             "#0d0887"
            ],
            [
             0.1111111111111111,
             "#46039f"
            ],
            [
             0.2222222222222222,
             "#7201a8"
            ],
            [
             0.3333333333333333,
             "#9c179e"
            ],
            [
             0.4444444444444444,
             "#bd3786"
            ],
            [
             0.5555555555555556,
             "#d8576b"
            ],
            [
             0.6666666666666666,
             "#ed7953"
            ],
            [
             0.7777777777777778,
             "#fb9f3a"
            ],
            [
             0.8888888888888888,
             "#fdca26"
            ],
            [
             1,
             "#f0f921"
            ]
           ]
          },
          "colorway": [
           "#636efa",
           "#EF553B",
           "#00cc96",
           "#ab63fa",
           "#FFA15A",
           "#19d3f3",
           "#FF6692",
           "#B6E880",
           "#FF97FF",
           "#FECB52"
          ],
          "font": {
           "color": "#f2f5fa"
          },
          "geo": {
           "bgcolor": "rgb(17,17,17)",
           "lakecolor": "rgb(17,17,17)",
           "landcolor": "rgb(17,17,17)",
           "showlakes": true,
           "showland": true,
           "subunitcolor": "#506784"
          },
          "hoverlabel": {
           "align": "left"
          },
          "hovermode": "closest",
          "mapbox": {
           "style": "dark"
          },
          "paper_bgcolor": "rgb(17,17,17)",
          "plot_bgcolor": "rgb(17,17,17)",
          "polar": {
           "angularaxis": {
            "gridcolor": "#506784",
            "linecolor": "#506784",
            "ticks": ""
           },
           "bgcolor": "rgb(17,17,17)",
           "radialaxis": {
            "gridcolor": "#506784",
            "linecolor": "#506784",
            "ticks": ""
           }
          },
          "scene": {
           "xaxis": {
            "backgroundcolor": "rgb(17,17,17)",
            "gridcolor": "#506784",
            "gridwidth": 2,
            "linecolor": "#506784",
            "showbackground": true,
            "ticks": "",
            "zerolinecolor": "#C8D4E3"
           },
           "yaxis": {
            "backgroundcolor": "rgb(17,17,17)",
            "gridcolor": "#506784",
            "gridwidth": 2,
            "linecolor": "#506784",
            "showbackground": true,
            "ticks": "",
            "zerolinecolor": "#C8D4E3"
           },
           "zaxis": {
            "backgroundcolor": "rgb(17,17,17)",
            "gridcolor": "#506784",
            "gridwidth": 2,
            "linecolor": "#506784",
            "showbackground": true,
            "ticks": "",
            "zerolinecolor": "#C8D4E3"
           }
          },
          "shapedefaults": {
           "line": {
            "color": "#f2f5fa"
           }
          },
          "sliderdefaults": {
           "bgcolor": "#C8D4E3",
           "bordercolor": "rgb(17,17,17)",
           "borderwidth": 1,
           "tickwidth": 0
          },
          "ternary": {
           "aaxis": {
            "gridcolor": "#506784",
            "linecolor": "#506784",
            "ticks": ""
           },
           "baxis": {
            "gridcolor": "#506784",
            "linecolor": "#506784",
            "ticks": ""
           },
           "bgcolor": "rgb(17,17,17)",
           "caxis": {
            "gridcolor": "#506784",
            "linecolor": "#506784",
            "ticks": ""
           }
          },
          "title": {
           "x": 0.05
          },
          "updatemenudefaults": {
           "bgcolor": "#506784",
           "borderwidth": 0
          },
          "xaxis": {
           "automargin": true,
           "gridcolor": "#283442",
           "linecolor": "#506784",
           "ticks": "",
           "title": {
            "standoff": 15
           },
           "zerolinecolor": "#283442",
           "zerolinewidth": 2
          },
          "yaxis": {
           "automargin": true,
           "gridcolor": "#283442",
           "linecolor": "#506784",
           "ticks": "",
           "title": {
            "standoff": 15
           },
           "zerolinecolor": "#283442",
           "zerolinewidth": 2
          }
         }
        },
        "title": {
         "text": "Number of birds failed vs time to first food"
        },
        "xaxis": {
         "anchor": "y",
         "domain": [
          0,
          1
         ],
         "title": {
          "text": "num birds failed"
         }
        },
        "yaxis": {
         "anchor": "x",
         "domain": [
          0,
          1
         ],
         "title": {
          "text": "time to first food"
         }
        }
       }
      }
     },
     "metadata": {},
     "output_type": "display_data"
    }
   ],
   "source": [
    "px.scatter(impactDF, x=\"num birds failed\", y=\"time to first food\",\n",
    "            title=\"Number of birds failed vs time to first food\",\n",
    "            template=\"plotly_dark\")"
   ]
  },
  {
   "cell_type": "code",
   "execution_count": 43,
   "metadata": {},
   "outputs": [
    {
     "data": {
      "application/vnd.plotly.v1+json": {
       "config": {
        "plotlyServerURL": "https://plot.ly"
       },
       "data": [
        {
         "hovertemplate": "c_trust_jittered=%{x}<br>time to first food=%{y}<br>reward_patch_dim=%{marker.color}<extra></extra>",
         "legendgroup": "",
         "marker": {
          "color": [
           1,
           1,
           1,
           1,
           1,
           1,
           1,
           1,
           1,
           1,
           2,
           2,
           2,
           2,
           2,
           2,
           2,
           2,
           2,
           2,
           3,
           3,
           3,
           3,
           3,
           3,
           3,
           3,
           3,
           3,
           4,
           4,
           4,
           4,
           4,
           4,
           4,
           4,
           4,
           4,
           5,
           5,
           5,
           5,
           5,
           5,
           5,
           5,
           5,
           5,
           1,
           1,
           1,
           1,
           1,
           1,
           1,
           1,
           1,
           1,
           2,
           2,
           2,
           2,
           2,
           2,
           2,
           2,
           2,
           2,
           3,
           3,
           3,
           3,
           3,
           3,
           3,
           3,
           3,
           3,
           4,
           4,
           4,
           4,
           4,
           4,
           4,
           4,
           4,
           4,
           5,
           5,
           5,
           5,
           5,
           5,
           5,
           5,
           5,
           5,
           1,
           1,
           1,
           1,
           1,
           1,
           1,
           1,
           1,
           1,
           2,
           2,
           2,
           2,
           2,
           2,
           2,
           2,
           2,
           2,
           3,
           3,
           3,
           3,
           3,
           3,
           3,
           3,
           3,
           3,
           4,
           4,
           4,
           4,
           4,
           4,
           4,
           4,
           4,
           4,
           5,
           5,
           5,
           5,
           5,
           5,
           5,
           5,
           5,
           5,
           1,
           1,
           1,
           1,
           1,
           1,
           1,
           1,
           1,
           1,
           2,
           2,
           2,
           2,
           2,
           2,
           2,
           2,
           2,
           2,
           3,
           3,
           3,
           3,
           3,
           3,
           3,
           3,
           3,
           3,
           4,
           4,
           4,
           4,
           4,
           4,
           4,
           4,
           4,
           4,
           5,
           5,
           5,
           5,
           5,
           5,
           5,
           5,
           5,
           5,
           1,
           1,
           1,
           1,
           1,
           1,
           1,
           1,
           1,
           1,
           2,
           2,
           2,
           2,
           2,
           2,
           2,
           2,
           2,
           2,
           3,
           3,
           3,
           3,
           3,
           3,
           3,
           3,
           3,
           3,
           4,
           4,
           4,
           4,
           4,
           4,
           4,
           4,
           4,
           4,
           5,
           5,
           5,
           5,
           5,
           5,
           5,
           5,
           5,
           5,
           1,
           1,
           1,
           1,
           1,
           1,
           1,
           1,
           1,
           1,
           2,
           2,
           2,
           2,
           2,
           2,
           2,
           2,
           2,
           2,
           3,
           3,
           3,
           3,
           3,
           3,
           3,
           3,
           3,
           3,
           4,
           4,
           4,
           4,
           4,
           4,
           4,
           4,
           4,
           4,
           5,
           5,
           5,
           5,
           5,
           5,
           5,
           5,
           5,
           5,
           1,
           1,
           1,
           1,
           1,
           1,
           1,
           1,
           1,
           1,
           2,
           2,
           2,
           2,
           2,
           2,
           2,
           2,
           2,
           2,
           3,
           3,
           3,
           3,
           3,
           3,
           3,
           3,
           3,
           3,
           4,
           4,
           4,
           4,
           4,
           4,
           4,
           4,
           4,
           4,
           5,
           5,
           5,
           5,
           5,
           5,
           5,
           5,
           5,
           5,
           1,
           1,
           1,
           1,
           1,
           1,
           1,
           1,
           1,
           1,
           2,
           2,
           2,
           2,
           2,
           2,
           2,
           2,
           2,
           2,
           3,
           3,
           3,
           3,
           3,
           3,
           3,
           3,
           3,
           3,
           4,
           4,
           4,
           4,
           4,
           4,
           4,
           4,
           4,
           4,
           5,
           5,
           5,
           5,
           5,
           5,
           5,
           5,
           5,
           5,
           1,
           1,
           1,
           1,
           1,
           1,
           1,
           1,
           1,
           1,
           2,
           2,
           2,
           2,
           2,
           2,
           2,
           2,
           2,
           2,
           3,
           3,
           3,
           3,
           3,
           3,
           3,
           3,
           3,
           3,
           4,
           4,
           4,
           4,
           4,
           4,
           4,
           4,
           4,
           4,
           5,
           5,
           5,
           5,
           5,
           5,
           5,
           5,
           5,
           5
          ],
          "coloraxis": "coloraxis",
          "opacity": 0.5,
          "size": 5,
          "symbol": "circle"
         },
         "mode": "markers",
         "name": "",
         "orientation": "v",
         "showlegend": false,
         "type": "scatter",
         "x": [
          0.00858163157553989,
          0.016569380222950746,
          0.006413496188272871,
          -0.012199942164600177,
          0.018249899691878232,
          0.010409334854161574,
          -0.003154323549830057,
          0.012935319531410253,
          -0.007190276529846825,
          -0.006546578256710744,
          0.0050009946353837265,
          -0.0011796036704523859,
          -0.018557147396394403,
          -0.019133351425367328,
          -0.0028164200421062283,
          0.016042130477216417,
          -0.017124528181464826,
          -0.0021993588225320826,
          0.017095800226668848,
          -0.019518733266039874,
          0.019372986354161795,
          -0.018407766573128703,
          0.008403576601594704,
          -0.01319764180643785,
          0.005095803760182368,
          -0.004939017030435653,
          -0.009726612121857454,
          -0.01869794754418098,
          0.01913127503777814,
          -0.016051136427281308,
          -0.00378187495718605,
          -0.004791396497222817,
          0.01888644418411235,
          0.00237456474132422,
          0.00024641255670914547,
          -0.011124545633362683,
          -0.015117500323555199,
          -0.008031037265928359,
          0.0030537643762731798,
          -0.018077665040789167,
          0.018673234682545125,
          0.008911355729509577,
          -0.012156913878401334,
          -0.012100696927320822,
          0.0013152257380170292,
          0.013383340713302373,
          -0.01304984351050706,
          -0.010830981083993408,
          0.019984088574777407,
          -0.017009504180198122,
          0.08740627476119078,
          0.08002148821356489,
          0.09768626646312546,
          0.11918709283070282,
          0.08925068125708077,
          0.10008577921588792,
          0.10802971715135401,
          0.08706718965919731,
          0.10273359101295515,
          0.11537282758962301,
          0.11010628041075732,
          0.08188747688490179,
          0.09984267449365537,
          0.08143442039179827,
          0.1153074693234399,
          0.08723354232681643,
          0.10771459361199336,
          0.10736683863238652,
          0.10830809009643795,
          0.08851666761289731,
          0.10685730918887316,
          0.11302838908645503,
          0.08473291886371784,
          0.10994038318014426,
          0.11184508504428789,
          0.10711864417716148,
          0.0834814943761732,
          0.08025555760705927,
          0.1046560860347549,
          0.11684293240934127,
          0.10250978435128605,
          0.10794179683465677,
          0.11094680254402497,
          0.11385588866937922,
          0.09830401084629507,
          0.10168858438675463,
          0.08688510199443178,
          0.10110187000847509,
          0.10347290505226826,
          0.11827578288871594,
          0.0902337828653523,
          0.11822548835926122,
          0.08851823184429758,
          0.11378841096440201,
          0.08572007767837074,
          0.1152440306035136,
          0.09899088058182354,
          0.08305524635444425,
          0.1081639587894002,
          0.10301573424352108,
          0.2948290024858854,
          0.31336847048513905,
          0.2914069924674795,
          0.30480291477951016,
          0.3131983122302167,
          0.30015188738517684,
          0.28323081841854003,
          0.3036077121463561,
          0.2892425893184965,
          0.3062843021662541,
          0.2860070971921928,
          0.3161804632217852,
          0.31627225824247024,
          0.29899148842871415,
          0.28701537416179895,
          0.3169883935217501,
          0.3189716209457517,
          0.3081242623507845,
          0.31396554948956706,
          0.2902221468956884,
          0.28679392727883324,
          0.2968124382677256,
          0.304957463251369,
          0.282495182582958,
          0.2947292957328055,
          0.2989828744923737,
          0.30353071022560024,
          0.29719014688436524,
          0.30221130859572926,
          0.3151595651662526,
          0.29215145062166414,
          0.3092793213582933,
          0.292072361031151,
          0.3017487279885973,
          0.30855083397597216,
          0.292806597715198,
          0.2963093528944564,
          0.29519234197413663,
          0.2911688453800307,
          0.3167302324062291,
          0.2802445475781652,
          0.3108831527019695,
          0.2819518684112234,
          0.2908801506319596,
          0.3066571525931745,
          0.31712021310426386,
          0.3054548901184106,
          0.2827744430745155,
          0.2877558882041468,
          0.28202524628120257,
          0.3820111619758936,
          0.3924388887807358,
          0.38495054048519556,
          0.38383595958313366,
          0.3982261909538614,
          0.40537114184250406,
          0.39111144049650354,
          0.38450498194799443,
          0.38021349256432585,
          0.38904467278026933,
          0.4023311831476144,
          0.3843166504416325,
          0.40342115363023573,
          0.39156755510833446,
          0.40573567601787747,
          0.40685786763070975,
          0.38123057004981187,
          0.4146786558604455,
          0.417698227338555,
          0.3805730517094238,
          0.38416419247345357,
          0.38903086613617144,
          0.40271870435657103,
          0.38027411939448846,
          0.40729439092203945,
          0.41301110318638157,
          0.39052745453334825,
          0.41261937308142016,
          0.4013338673497841,
          0.3865214513915063,
          0.4072885369514433,
          0.4096124065356917,
          0.39802198456546034,
          0.3827237329027461,
          0.3928684981445397,
          0.4031285035568635,
          0.38056062353493764,
          0.3980300745901497,
          0.4192171928668196,
          0.3988600096006452,
          0.4160343653175603,
          0.40175325729007794,
          0.38072663158263576,
          0.39614223779019136,
          0.4010695819038804,
          0.40988109877239876,
          0.39565196728878704,
          0.41824623198396627,
          0.3868871673753177,
          0.4155846517428294,
          0.4817316188379471,
          0.5083444347724767,
          0.5145076254051066,
          0.5061917310312325,
          0.49560370256336406,
          0.48752559814393637,
          0.5144936462898559,
          0.49910635383279695,
          0.5087888081429147,
          0.49580890717220233,
          0.48616882275975837,
          0.49479682722052065,
          0.5042117368070979,
          0.512629482897808,
          0.48032002960616366,
          0.49945932384581626,
          0.48728039400240725,
          0.4811225321744777,
          0.49397064663721024,
          0.4914320371298556,
          0.5179378866171733,
          0.511423004067755,
          0.4880686511278155,
          0.5106488417831762,
          0.5160922209956792,
          0.5035231120227093,
          0.49936359038638517,
          0.4993362258354246,
          0.5062986160520094,
          0.5190263447948984,
          0.5150021180750755,
          0.4928166207846002,
          0.5173853185555632,
          0.4905085502715726,
          0.5159960537552901,
          0.48838481366663267,
          0.48229628331169677,
          0.5117892290748314,
          0.5095035145648079,
          0.490045785831496,
          0.5047892993200811,
          0.49527001889108974,
          0.5128862599673294,
          0.4864862618254661,
          0.5192095048931054,
          0.48742592637898313,
          0.502787068870882,
          0.4963270730812539,
          0.48727980998322123,
          0.48519357166377963,
          0.5875912106432193,
          0.6151277870925177,
          0.6175535822235577,
          0.5827393041338472,
          0.5916328954737025,
          0.5807926996724373,
          0.5891704115303201,
          0.5824925913629676,
          0.5803586606566353,
          0.580886287144879,
          0.5875561609817461,
          0.5803514845694587,
          0.6088581887543071,
          0.5810277776666086,
          0.5888290321418533,
          0.6196692573713989,
          0.5984281252206057,
          0.5850267937819814,
          0.6076603474076274,
          0.5849350133118938,
          0.5864455254678147,
          0.6039440131106532,
          0.6074450400598963,
          0.6167230147979532,
          0.5898342612318616,
          0.6052741385132799,
          0.6171949617613607,
          0.6020985308954137,
          0.6083744728538023,
          0.593979121018828,
          0.5958182066951992,
          0.6195814849649184,
          0.6038338979319331,
          0.591515514546112,
          0.5808536471660463,
          0.6109286540442732,
          0.6006067352916681,
          0.5932212200013667,
          0.6068752447373534,
          0.5833326015083108,
          0.5984817302442095,
          0.5831936164641269,
          0.5835151641326071,
          0.617037819158205,
          0.6180585069883348,
          0.5825509757540022,
          0.5927913706429442,
          0.5961385921634501,
          0.5924951210572219,
          0.5949618413222157,
          0.7155178116005344,
          0.7130770775916561,
          0.7058384965566534,
          0.6800278630225779,
          0.7145657294762451,
          0.7015609284320882,
          0.7070700165901582,
          0.6994087928467986,
          0.6951209385712742,
          0.712944335840581,
          0.6870792306407121,
          0.7074137683030084,
          0.7024010543912265,
          0.7028051025008898,
          0.6979135850437433,
          0.7033087200641763,
          0.6917785403224356,
          0.6924891951343043,
          0.7030253023373985,
          0.6878472378392857,
          0.7196201648992779,
          0.7005781376205407,
          0.7101522242781729,
          0.7196311017993628,
          0.7072445145347929,
          0.6819343036655191,
          0.6919390290553314,
          0.701267361131712,
          0.6954273821804451,
          0.6994857474588991,
          0.6861785088907938,
          0.7050080060977487,
          0.719856249304135,
          0.7145958020330021,
          0.7160873249524117,
          0.6873000762402095,
          0.6966979135575511,
          0.694030030904155,
          0.7124253903777299,
          0.6967527741799805,
          0.7023253908529484,
          0.6850205509191263,
          0.7127425142603953,
          0.6958021033246148,
          0.711979106834148,
          0.6826540043960141,
          0.7123600802979242,
          0.7051736852774186,
          0.6913024585093938,
          0.7194370185463861,
          0.8027407967922968,
          0.8127257913208034,
          0.8107552540664146,
          0.7831475654951287,
          0.7916308909362707,
          0.7838635778236308,
          0.815768482100287,
          0.812747142301691,
          0.801647165954376,
          0.7990246750087595,
          0.8054277154558972,
          0.8009481251504181,
          0.8199431330876826,
          0.8135856989165011,
          0.7846030898105099,
          0.7829630654290843,
          0.8163870066942334,
          0.7856107753815883,
          0.8090742481155612,
          0.7860510753243571,
          0.7873998585330181,
          0.8115716524455492,
          0.7914822033335175,
          0.7832943595249597,
          0.8192930535789151,
          0.797178565574987,
          0.784206990032087,
          0.7942973996917175,
          0.810699428933693,
          0.8056360503713244,
          0.7816087446914028,
          0.7920956489042031,
          0.8061475715203715,
          0.8150965110647158,
          0.7866207069949919,
          0.7953946729909036,
          0.8120666135369115,
          0.7845099630920543,
          0.7866441640884537,
          0.8029675504288925,
          0.8100894680914553,
          0.8039093841018338,
          0.8103673570626553,
          0.8172817741979451,
          0.8068934473845235,
          0.8113647087498996,
          0.7844024228158244,
          0.7953597633270747,
          0.7865733524752299,
          0.7936134152210348,
          0.9041480625549698,
          0.901558877192208,
          0.9104962757368031,
          0.887726553710743,
          0.8861492007288504,
          0.8861354316821938,
          0.9113987600241701,
          0.9199300496613175,
          0.8873215592449561,
          0.8900279668343644,
          0.9195603476826673,
          0.8997884183024888,
          0.8896425005311287,
          0.9031238206721686,
          0.8971079818666874,
          0.903650308955871,
          0.885927296342166,
          0.90523533062797,
          0.9172108694665589,
          0.9079489110295855,
          0.9098275812641936,
          0.9112755568885273,
          0.8852829997711726,
          0.8833975751595602,
          0.890052550391897,
          0.8888168355334264,
          0.8917538278377545,
          0.8927878334270279,
          0.8854482458700262,
          0.897605505135809,
          0.8896743868130998,
          0.9123399715972104,
          0.8882383554998033,
          0.9150069023083954,
          0.9028687162612186,
          0.9162961658391626,
          0.8971064059314255,
          0.8923778490904027,
          0.9018917618261797,
          0.8995868831259982,
          0.8954503999848983,
          0.8888263010563077,
          0.8859786513491078,
          0.906621237901853,
          0.8897706062434134,
          0.9028811178008643,
          0.9194387218537851,
          0.9187934652807326,
          0.9085321779970448,
          0.8874735389038977
         ],
         "xaxis": "x",
         "y": [
          1.5555555555555556,
          1.3333333333333333,
          4.222222222222222,
          13.22222222222222,
          2.555555555555556,
          3,
          2.111111111111111,
          1.4444444444444444,
          5.666666666666667,
          8.222222222222221,
          28.22222222222222,
          16.77777777777778,
          31.33333333333333,
          15.555555555555555,
          24.55555555555556,
          18,
          18.77777777777778,
          15.88888888888889,
          20.88888888888889,
          19,
          19.22222222222222,
          14,
          35.333333333333336,
          20.88888888888889,
          21.77777777777778,
          39.77777777777778,
          11.11111111111111,
          33.333333333333336,
          26.666666666666668,
          7.666666666666667,
          35.333333333333336,
          31.22222222222222,
          34.888888888888886,
          22.666666666666668,
          37,
          42,
          35.22222222222222,
          20,
          36,
          45.11111111111112,
          12.88888888888889,
          19.88888888888889,
          41.888888888888886,
          21.77777777777778,
          36.333333333333336,
          22.88888888888889,
          34.55555555555556,
          22.11111111111111,
          14.333333333333334,
          17.444444444444443,
          1.7777777777777777,
          3.111111111111111,
          1.6666666666666667,
          2.111111111111111,
          2.333333333333333,
          2.333333333333333,
          1.5555555555555556,
          2.7777777777777777,
          2.555555555555556,
          2.2222222222222223,
          3.4444444444444446,
          4.888888888888889,
          7,
          5.888888888888889,
          13.88888888888889,
          5.555555555555555,
          7.444444444444445,
          6.777777777777778,
          3.4444444444444446,
          4.222222222222222,
          7.666666666666667,
          3.4444444444444446,
          6,
          6,
          5.555555555555555,
          6.555555555555555,
          2.888888888888889,
          16,
          4,
          9.22222222222222,
          9.22222222222222,
          5.555555555555555,
          24,
          13.333333333333334,
          5.666666666666667,
          4.555555555555555,
          7.666666666666667,
          15.88888888888889,
          10.666666666666666,
          3.555555555555556,
          9,
          6.666666666666667,
          5.111111111111111,
          9.22222222222222,
          4.111111111111111,
          8.11111111111111,
          8.555555555555555,
          7.666666666666667,
          15.88888888888889,
          34.111111111111114,
          3,
          2.4444444444444446,
          3.2222222222222223,
          2.6666666666666665,
          2,
          3.111111111111111,
          2.6666666666666665,
          2.888888888888889,
          5,
          2.111111111111111,
          3.333333333333333,
          6.444444444444445,
          3.6666666666666665,
          2.2222222222222223,
          3,
          3.888888888888889,
          4.111111111111111,
          3.4444444444444446,
          2.333333333333333,
          4.666666666666667,
          7,
          6.666666666666667,
          4.111111111111111,
          5.777777777777778,
          3.333333333333333,
          5.666666666666667,
          4.222222222222222,
          4.444444444444445,
          8.88888888888889,
          6.555555555555555,
          8.11111111111111,
          13.444444444444445,
          16,
          8.666666666666666,
          5.888888888888889,
          4.555555555555555,
          5.777777777777778,
          7.555555555555555,
          9.88888888888889,
          10.22222222222222,
          8.222222222222221,
          17.88888888888889,
          12.333333333333334,
          7.111111111111111,
          4.111111111111111,
          6.111111111111111,
          9,
          7.666666666666667,
          4.333333333333333,
          8.666666666666666,
          2.6666666666666665,
          1.6666666666666667,
          2,
          2.888888888888889,
          2.555555555555556,
          1.5555555555555556,
          2.333333333333333,
          1.8888888888888888,
          2.333333333333333,
          2.2222222222222223,
          5.777777777777778,
          1.8888888888888888,
          8.222222222222221,
          4.888888888888889,
          8.777777777777779,
          2.2222222222222223,
          4.333333333333333,
          6,
          3,
          4.555555555555555,
          4.666666666666667,
          13.11111111111111,
          8.11111111111111,
          4,
          3,
          3.4444444444444446,
          5.222222222222222,
          3.555555555555556,
          6.222222222222222,
          5.888888888888889,
          9,
          4.555555555555555,
          4.666666666666667,
          6.333333333333333,
          5.333333333333333,
          5.111111111111111,
          9.444444444444445,
          6.777777777777778,
          9.22222222222222,
          5,
          6.444444444444445,
          7.222222222222222,
          32.77777777777778,
          7.666666666666667,
          4.222222222222222,
          10.333333333333334,
          25.666666666666668,
          7.666666666666667,
          7.222222222222222,
          50,
          1.6666666666666667,
          1.8888888888888888,
          2.6666666666666665,
          1.8888888888888888,
          1.5555555555555556,
          2.4444444444444446,
          1.5555555555555556,
          2.2222222222222223,
          2.888888888888889,
          3.888888888888889,
          6.333333333333333,
          2.888888888888889,
          4,
          5.555555555555555,
          4.333333333333333,
          2.4444444444444446,
          2.6666666666666665,
          9.77777777777778,
          3.7777777777777777,
          4.777777777777778,
          8.333333333333334,
          5.444444444444445,
          4.555555555555555,
          4,
          3.6666666666666665,
          5.111111111111111,
          6,
          11,
          5.555555555555555,
          5.888888888888889,
          9.77777777777778,
          11.444444444444445,
          3.6666666666666665,
          7.555555555555555,
          9.77777777777778,
          10.11111111111111,
          6.222222222222222,
          10,
          15.11111111111111,
          7.444444444444445,
          7.333333333333333,
          3.4444444444444446,
          11.666666666666666,
          8.777777777777779,
          6.777777777777778,
          3.333333333333333,
          20,
          10.11111111111111,
          7.111111111111111,
          3.888888888888889,
          2.555555555555556,
          1.5555555555555556,
          2.111111111111111,
          1.4444444444444444,
          3.111111111111111,
          2,
          2.7777777777777777,
          2.6666666666666665,
          3.6666666666666665,
          4.333333333333333,
          13.77777777777778,
          2.7777777777777777,
          5.222222222222222,
          2.6666666666666665,
          3.333333333333333,
          3.7777777777777777,
          4.555555555555555,
          5.333333333333333,
          4.111111111111111,
          27.444444444444443,
          4.444444444444445,
          12.88888888888889,
          3.555555555555556,
          4.111111111111111,
          6.555555555555555,
          3.333333333333333,
          4.888888888888889,
          4.888888888888889,
          4.666666666666667,
          3.7777777777777777,
          4.111111111111111,
          6.666666666666667,
          5.111111111111111,
          14.666666666666666,
          4.777777777777778,
          5.777777777777778,
          4.444444444444445,
          4.333333333333333,
          8.555555555555555,
          4.444444444444445,
          13,
          13.333333333333334,
          9.77777777777778,
          6.222222222222222,
          4.666666666666667,
          12.444444444444445,
          6.444444444444445,
          21.33333333333333,
          4.555555555555555,
          13.77777777777778,
          3.333333333333333,
          1.4444444444444444,
          2.333333333333333,
          3.111111111111111,
          3,
          4,
          1.3333333333333333,
          2.2222222222222223,
          3.333333333333333,
          1.5555555555555556,
          3.2222222222222223,
          3.333333333333333,
          2.555555555555556,
          4.666666666666667,
          2.333333333333333,
          5.888888888888889,
          2.7777777777777777,
          3.6666666666666665,
          3.333333333333333,
          2.888888888888889,
          3.6666666666666665,
          9.11111111111111,
          10,
          6.111111111111111,
          3.7777777777777777,
          2.6666666666666665,
          6.222222222222222,
          7.111111111111111,
          4.333333333333333,
          3.555555555555556,
          12,
          10.666666666666666,
          7.888888888888889,
          5.222222222222222,
          4.222222222222222,
          4.333333333333333,
          9.11111111111111,
          6.555555555555555,
          4.555555555555555,
          5.333333333333333,
          4.777777777777778,
          3,
          8.222222222222221,
          9.22222222222222,
          6.555555555555555,
          28,
          6.333333333333333,
          49,
          6.666666666666667,
          17.666666666666668,
          2,
          1.8888888888888888,
          1.7777777777777777,
          2.333333333333333,
          1.8888888888888888,
          1.8888888888888888,
          1.4444444444444444,
          3.2222222222222223,
          2,
          3,
          2.555555555555556,
          3.7777777777777777,
          5.666666666666667,
          3.2222222222222223,
          2.888888888888889,
          4.444444444444445,
          5.333333333333333,
          2.888888888888889,
          5.333333333333333,
          4.444444444444445,
          4.444444444444445,
          7,
          4.777777777777778,
          4.111111111111111,
          3.4444444444444446,
          7.666666666666667,
          4.777777777777778,
          8.777777777777779,
          10.11111111111111,
          5.666666666666667,
          6.333333333333333,
          9.11111111111111,
          12.666666666666666,
          13,
          4.222222222222222,
          3.7777777777777777,
          6.333333333333333,
          4.333333333333333,
          6,
          6.111111111111111,
          8.555555555555555,
          3.888888888888889,
          8.222222222222221,
          4.222222222222222,
          8.666666666666666,
          14.88888888888889,
          3.333333333333333,
          3.555555555555556,
          36,
          5.555555555555555,
          2.555555555555556,
          1.7777777777777777,
          2.111111111111111,
          2,
          1.8888888888888888,
          2,
          2,
          2.4444444444444446,
          2.333333333333333,
          2.7777777777777777,
          4.444444444444445,
          4.666666666666667,
          25.33333333333333,
          3.555555555555556,
          7.888888888888889,
          4.111111111111111,
          3.555555555555556,
          5.111111111111111,
          1.6666666666666667,
          2.888888888888889,
          6,
          4,
          4,
          3.6666666666666665,
          5.666666666666667,
          16.11111111111111,
          7.333333333333333,
          8.333333333333334,
          6.333333333333333,
          3.2222222222222223,
          39,
          5.777777777777778,
          6.444444444444445,
          30.11111111111111,
          5.888888888888889,
          5.111111111111111,
          7.444444444444445,
          7.111111111111111,
          4.333333333333333,
          16.22222222222222,
          9,
          4.444444444444445,
          16.444444444444443,
          4.888888888888889,
          9.77777777777778,
          9.77777777777778,
          10.22222222222222,
          14.11111111111111,
          4.333333333333333,
          3.2222222222222223
         ],
         "yaxis": "y"
        },
        {
         "hovertemplate": "<b>LOWESS trendline</b><br><br>c_trust_jittered=%{x}<br>time to first food=%{y} <b>(trend)</b><extra></extra>",
         "legendgroup": "",
         "marker": {
          "opacity": 0.5,
          "size": 5,
          "symbol": "circle"
         },
         "mode": "lines",
         "name": "",
         "showlegend": false,
         "type": "scatter",
         "x": [
          -0.019518733266039874,
          -0.019133351425367328,
          -0.01869794754418098,
          -0.018557147396394403,
          -0.018407766573128703,
          -0.018077665040789167,
          -0.017124528181464826,
          -0.017009504180198122,
          -0.016051136427281308,
          -0.015117500323555199,
          -0.01319764180643785,
          -0.01304984351050706,
          -0.012199942164600177,
          -0.012156913878401334,
          -0.012100696927320822,
          -0.011124545633362683,
          -0.010830981083993408,
          -0.009726612121857454,
          -0.008031037265928359,
          -0.007190276529846825,
          -0.006546578256710744,
          -0.004939017030435653,
          -0.004791396497222817,
          -0.00378187495718605,
          -0.003154323549830057,
          -0.0028164200421062283,
          -0.0021993588225320826,
          -0.0011796036704523859,
          0.00024641255670914547,
          0.0013152257380170292,
          0.00237456474132422,
          0.0030537643762731798,
          0.0050009946353837265,
          0.005095803760182368,
          0.006413496188272871,
          0.008403576601594704,
          0.00858163157553989,
          0.008911355729509577,
          0.010409334854161574,
          0.012935319531410253,
          0.013383340713302373,
          0.016042130477216417,
          0.016569380222950746,
          0.017095800226668848,
          0.018249899691878232,
          0.018673234682545125,
          0.01888644418411235,
          0.01913127503777814,
          0.019372986354161795,
          0.019984088574777407,
          0.08002148821356489,
          0.08025555760705927,
          0.08143442039179827,
          0.08188747688490179,
          0.08305524635444425,
          0.0834814943761732,
          0.08473291886371784,
          0.08572007767837074,
          0.08688510199443178,
          0.08706718965919731,
          0.08723354232681643,
          0.08740627476119078,
          0.08851666761289731,
          0.08851823184429758,
          0.08925068125708077,
          0.0902337828653523,
          0.09768626646312546,
          0.09830401084629507,
          0.09899088058182354,
          0.09984267449365537,
          0.10008577921588792,
          0.10110187000847509,
          0.10168858438675463,
          0.10250978435128605,
          0.10273359101295515,
          0.10301573424352108,
          0.10347290505226826,
          0.1046560860347549,
          0.10685730918887316,
          0.10711864417716148,
          0.10736683863238652,
          0.10771459361199336,
          0.10794179683465677,
          0.10802971715135401,
          0.1081639587894002,
          0.10830809009643795,
          0.10994038318014426,
          0.11010628041075732,
          0.11094680254402497,
          0.11184508504428789,
          0.11302838908645503,
          0.11378841096440201,
          0.11385588866937922,
          0.1152440306035136,
          0.1153074693234399,
          0.11537282758962301,
          0.11684293240934127,
          0.11822548835926122,
          0.11827578288871594,
          0.11918709283070282,
          0.2802445475781652,
          0.2819518684112234,
          0.28202524628120257,
          0.282495182582958,
          0.2827744430745155,
          0.28323081841854003,
          0.2860070971921928,
          0.28679392727883324,
          0.28701537416179895,
          0.2877558882041468,
          0.2892425893184965,
          0.2902221468956884,
          0.2908801506319596,
          0.2911688453800307,
          0.2914069924674795,
          0.292072361031151,
          0.29215145062166414,
          0.292806597715198,
          0.2947292957328055,
          0.2948290024858854,
          0.29519234197413663,
          0.2963093528944564,
          0.2968124382677256,
          0.29719014688436524,
          0.2989828744923737,
          0.29899148842871415,
          0.30015188738517684,
          0.3017487279885973,
          0.30221130859572926,
          0.30353071022560024,
          0.3036077121463561,
          0.30480291477951016,
          0.304957463251369,
          0.3054548901184106,
          0.3062843021662541,
          0.3066571525931745,
          0.3081242623507845,
          0.30855083397597216,
          0.3092793213582933,
          0.3108831527019695,
          0.3131983122302167,
          0.31336847048513905,
          0.31396554948956706,
          0.3151595651662526,
          0.3161804632217852,
          0.31627225824247024,
          0.3167302324062291,
          0.3169883935217501,
          0.31712021310426386,
          0.3189716209457517,
          0.38021349256432585,
          0.38027411939448846,
          0.38056062353493764,
          0.3805730517094238,
          0.38072663158263576,
          0.38123057004981187,
          0.3820111619758936,
          0.3827237329027461,
          0.38383595958313366,
          0.38416419247345357,
          0.3843166504416325,
          0.38450498194799443,
          0.38495054048519556,
          0.3865214513915063,
          0.3868871673753177,
          0.38903086613617144,
          0.38904467278026933,
          0.39052745453334825,
          0.39111144049650354,
          0.39156755510833446,
          0.3924388887807358,
          0.3928684981445397,
          0.39565196728878704,
          0.39614223779019136,
          0.39802198456546034,
          0.3980300745901497,
          0.3982261909538614,
          0.3988600096006452,
          0.4010695819038804,
          0.4013338673497841,
          0.40175325729007794,
          0.4023311831476144,
          0.40271870435657103,
          0.4031285035568635,
          0.40342115363023573,
          0.40537114184250406,
          0.40573567601787747,
          0.40685786763070975,
          0.4072885369514433,
          0.40729439092203945,
          0.4096124065356917,
          0.40988109877239876,
          0.41261937308142016,
          0.41301110318638157,
          0.4146786558604455,
          0.4155846517428294,
          0.4160343653175603,
          0.417698227338555,
          0.41824623198396627,
          0.4192171928668196,
          0.48032002960616366,
          0.4811225321744777,
          0.4817316188379471,
          0.48229628331169677,
          0.48519357166377963,
          0.48616882275975837,
          0.4864862618254661,
          0.48727980998322123,
          0.48728039400240725,
          0.48742592637898313,
          0.48752559814393637,
          0.4880686511278155,
          0.48838481366663267,
          0.490045785831496,
          0.4905085502715726,
          0.4914320371298556,
          0.4928166207846002,
          0.49397064663721024,
          0.49479682722052065,
          0.49527001889108974,
          0.49560370256336406,
          0.49580890717220233,
          0.4963270730812539,
          0.49910635383279695,
          0.4993362258354246,
          0.49936359038638517,
          0.49945932384581626,
          0.502787068870882,
          0.5035231120227093,
          0.5042117368070979,
          0.5047892993200811,
          0.5061917310312325,
          0.5062986160520094,
          0.5083444347724767,
          0.5087888081429147,
          0.5095035145648079,
          0.5106488417831762,
          0.511423004067755,
          0.5117892290748314,
          0.512629482897808,
          0.5128862599673294,
          0.5144936462898559,
          0.5145076254051066,
          0.5150021180750755,
          0.5159960537552901,
          0.5160922209956792,
          0.5173853185555632,
          0.5179378866171733,
          0.5190263447948984,
          0.5192095048931054,
          0.5803514845694587,
          0.5803586606566353,
          0.5807926996724373,
          0.5808536471660463,
          0.580886287144879,
          0.5810277776666086,
          0.5824925913629676,
          0.5825509757540022,
          0.5827393041338472,
          0.5831936164641269,
          0.5833326015083108,
          0.5835151641326071,
          0.5849350133118938,
          0.5850267937819814,
          0.5864455254678147,
          0.5875561609817461,
          0.5875912106432193,
          0.5888290321418533,
          0.5891704115303201,
          0.5898342612318616,
          0.591515514546112,
          0.5916328954737025,
          0.5924951210572219,
          0.5927913706429442,
          0.5932212200013667,
          0.593979121018828,
          0.5949618413222157,
          0.5958182066951992,
          0.5961385921634501,
          0.5984281252206057,
          0.5984817302442095,
          0.6006067352916681,
          0.6020985308954137,
          0.6038338979319331,
          0.6039440131106532,
          0.6052741385132799,
          0.6068752447373534,
          0.6074450400598963,
          0.6076603474076274,
          0.6083744728538023,
          0.6088581887543071,
          0.6109286540442732,
          0.6151277870925177,
          0.6167230147979532,
          0.617037819158205,
          0.6171949617613607,
          0.6175535822235577,
          0.6180585069883348,
          0.6195814849649184,
          0.6196692573713989,
          0.6800278630225779,
          0.6819343036655191,
          0.6826540043960141,
          0.6850205509191263,
          0.6861785088907938,
          0.6870792306407121,
          0.6873000762402095,
          0.6878472378392857,
          0.6913024585093938,
          0.6917785403224356,
          0.6919390290553314,
          0.6924891951343043,
          0.694030030904155,
          0.6951209385712742,
          0.6954273821804451,
          0.6958021033246148,
          0.6966979135575511,
          0.6967527741799805,
          0.6979135850437433,
          0.6994087928467986,
          0.6994857474588991,
          0.7005781376205407,
          0.701267361131712,
          0.7015609284320882,
          0.7023253908529484,
          0.7024010543912265,
          0.7028051025008898,
          0.7030253023373985,
          0.7033087200641763,
          0.7050080060977487,
          0.7051736852774186,
          0.7058384965566534,
          0.7070700165901582,
          0.7072445145347929,
          0.7074137683030084,
          0.7101522242781729,
          0.711979106834148,
          0.7123600802979242,
          0.7124253903777299,
          0.7127425142603953,
          0.712944335840581,
          0.7130770775916561,
          0.7145657294762451,
          0.7145958020330021,
          0.7155178116005344,
          0.7160873249524117,
          0.7194370185463861,
          0.7196201648992779,
          0.7196311017993628,
          0.719856249304135,
          0.7816087446914028,
          0.7829630654290843,
          0.7831475654951287,
          0.7832943595249597,
          0.7838635778236308,
          0.784206990032087,
          0.7844024228158244,
          0.7845099630920543,
          0.7846030898105099,
          0.7856107753815883,
          0.7860510753243571,
          0.7865733524752299,
          0.7866207069949919,
          0.7866441640884537,
          0.7873998585330181,
          0.7914822033335175,
          0.7916308909362707,
          0.7920956489042031,
          0.7936134152210348,
          0.7942973996917175,
          0.7953597633270747,
          0.7953946729909036,
          0.797178565574987,
          0.7990246750087595,
          0.8009481251504181,
          0.801647165954376,
          0.8027407967922968,
          0.8029675504288925,
          0.8039093841018338,
          0.8054277154558972,
          0.8056360503713244,
          0.8061475715203715,
          0.8068934473845235,
          0.8090742481155612,
          0.8100894680914553,
          0.8103673570626553,
          0.810699428933693,
          0.8107552540664146,
          0.8113647087498996,
          0.8115716524455492,
          0.8120666135369115,
          0.8127257913208034,
          0.812747142301691,
          0.8135856989165011,
          0.8150965110647158,
          0.815768482100287,
          0.8163870066942334,
          0.8172817741979451,
          0.8192930535789151,
          0.8199431330876826,
          0.8833975751595602,
          0.8852829997711726,
          0.8854482458700262,
          0.885927296342166,
          0.8859786513491078,
          0.8861354316821938,
          0.8861492007288504,
          0.8873215592449561,
          0.8874735389038977,
          0.887726553710743,
          0.8882383554998033,
          0.8888168355334264,
          0.8888263010563077,
          0.8896425005311287,
          0.8896743868130998,
          0.8897706062434134,
          0.8900279668343644,
          0.890052550391897,
          0.8917538278377545,
          0.8923778490904027,
          0.8927878334270279,
          0.8954503999848983,
          0.8971064059314255,
          0.8971079818666874,
          0.897605505135809,
          0.8995868831259982,
          0.8997884183024888,
          0.901558877192208,
          0.9018917618261797,
          0.9028687162612186,
          0.9028811178008643,
          0.9031238206721686,
          0.903650308955871,
          0.9041480625549698,
          0.90523533062797,
          0.906621237901853,
          0.9079489110295855,
          0.9085321779970448,
          0.9098275812641936,
          0.9104962757368031,
          0.9112755568885273,
          0.9113987600241701,
          0.9123399715972104,
          0.9150069023083954,
          0.9162961658391626,
          0.9172108694665589,
          0.9187934652807326,
          0.9194387218537851,
          0.9195603476826673,
          0.9199300496613175
         ],
         "xaxis": "x",
         "y": [
          10.209887702261257,
          10.203974156617868,
          10.197296425608783,
          10.195137761506363,
          10.192847954597921,
          10.187789443737994,
          10.173195080271865,
          10.171435007493574,
          10.156780034799711,
          10.142520007858385,
          10.113248696018085,
          10.110998169337718,
          10.0980647333265,
          10.097410310575068,
          10.096555352453596,
          10.081719372471216,
          10.077261163139184,
          10.060504216506617,
          10.034821187756084,
          10.022105986355047,
          10.012379912892182,
          9.988123599543815,
          9.985898554249276,
          9.97069301222203,
          9.961250147752924,
          9.956168635650373,
          9.946894414240353,
          9.93158298778673,
          9.910203115811328,
          9.89420259516799,
          9.87836396726143,
          9.868219409527374,
          9.839180343037208,
          9.837768140684744,
          9.818156912871315,
          9.788594916541163,
          9.785953245981059,
          9.781062784346199,
          9.758867777350725,
          9.72152557254071,
          9.71491331147478,
          9.675739599807192,
          9.667984753324562,
          9.660246514705369,
          9.64329684877285,
          9.637084778686159,
          9.633957173904939,
          9.63036658209838,
          9.626822652315932,
          9.617866803845244,
          8.758637102987379,
          8.755334698372064,
          8.738703844368418,
          8.732312850987409,
          8.715840921072123,
          8.709828823058785,
          8.692178616296312,
          8.678256181296659,
          8.661825479374894,
          8.659257443382135,
          8.65691132000031,
          8.654475216928217,
          8.638814811641428,
          8.63879275025564,
          8.628462416029635,
          8.614596473186035,
          8.509450945458214,
          8.500731340649631,
          8.49103507307822,
          8.479009183127971,
          8.47557664782993,
          8.461228331478402,
          8.452942102738156,
          8.441342689716334,
          8.43818111358094,
          8.43419525521091,
          8.427736292424589,
          8.411017346098646,
          8.379901417828442,
          8.37620620334238,
          8.372696578808991,
          8.367778751712093,
          8.364565498896159,
          8.363322025478723,
          8.361423368792911,
          8.359384766359481,
          8.336292316493031,
          8.333944783439913,
          8.32204937290865,
          8.309333553264846,
          8.292578282541719,
          8.281813659217589,
          8.280857822452163,
          8.261190388004449,
          8.260291388754942,
          8.259365169927001,
          8.238526989633456,
          8.218921366727317,
          8.218207997839643,
          8.20528020028545,
          5.871553408483302,
          5.851080454275902,
          5.850215025589721,
          5.8447018391969845,
          5.841449942733837,
          5.83617535865138,
          5.805206397137224,
          5.796797738660037,
          5.794461879727543,
          5.786750569542481,
          5.771743631832304,
          5.762211618330315,
          5.755970679216977,
          5.753274028561062,
          5.751068689744489,
          5.744999230652563,
          5.744286823754172,
          5.738459567610484,
          5.722119371196989,
          5.721302752463441,
          5.718352260086691,
          5.709527222072219,
          5.705671030717175,
          5.702822894947137,
          5.689826736008674,
          5.689766262390319,
          5.681947226580439,
          5.676953023184007,
          5.675647822617487,
          5.671950929931966,
          5.671736344183733,
          5.668421837957515,
          5.667995451210388,
          5.666626466409081,
          5.664355129473051,
          5.663338621575498,
          5.659365487227931,
          5.658218080757846,
          5.656266492422131,
          5.652004061593966,
          5.64592949892693,
          5.645486494657066,
          5.643935604429543,
          5.64085056073185,
          5.638229501891117,
          5.637994558275145,
          5.636824167518193,
          5.636165697961524,
          5.63582982944791,
          5.631136956601186,
          5.423990706610651,
          5.423745382790606,
          5.422588184532884,
          5.422538067589579,
          5.421919318461905,
          5.419896601704828,
          5.416787804568108,
          5.413977923216849,
          5.409651058259176,
          5.408388969187013,
          5.4078051770002915,
          5.4070861878564545,
          5.4053949822365785,
          5.39954986466509,
          5.398217257350434,
          5.390644012798457,
          5.390596635521288,
          5.385621036682381,
          5.383725078836904,
          5.382270398090357,
          5.379557082696407,
          5.378251786840241,
          5.3703395494271655,
          5.369046837037854,
          5.364377714878242,
          5.364358607920155,
          5.363898009436155,
          5.362443338499299,
          5.358994156440477,
          5.358737281282319,
          5.3583272785719425,
          5.3577574911062325,
          5.35737229444462,
          5.356962203951423,
          5.356667609981929,
          5.354667526934856,
          5.354286442067353,
          5.353099117244529,
          5.352637787336797,
          5.352631495056798,
          5.350095021952964,
          5.349795292036209,
          5.34667537027585,
          5.346219578461731,
          5.344254026971494,
          5.343169526656691,
          5.342627026802862,
          5.3405967017519895,
          5.3399203064600895,
          5.338712936192145,
          5.255344081070161,
          5.254357679309043,
          5.253610504190398,
          5.2529190170530535,
          5.249390675676541,
          5.248211099921746,
          5.247828108105436,
          5.2468728197218955,
          5.246872117812018,
          5.246697261425366,
          5.246577567852533,
          5.2459263197078245,
          5.245547873692218,
          5.243568651485498,
          5.243020018486709,
          5.2419290120941655,
          5.240303283151717,
          5.238957961631281,
          5.238000519334124,
          5.237454364627863,
          5.237070224199191,
          5.236834405605111,
          5.236240368489951,
          5.23309124384268,
          5.232833743743405,
          5.232803121877358,
          5.232696046077307,
          5.229028356731501,
          5.228232341248889,
          5.227492975101926,
          5.226876980671356,
          5.2253975502114445,
          5.22528577522817,
          5.223174564626347,
          5.222723362628919,
          5.222003475203063,
          5.220865319850154,
          5.2201072447762735,
          5.219751900754711,
          5.21894479026188,
          5.218700462743211,
          5.21719664575787,
          5.21718376622815,
          5.216730439680882,
          5.215832882239486,
          5.215747026742153,
          5.214610022377438,
          5.214134301793678,
          5.213215647480201,
          5.213063517097356,
          5.149003278615642,
          5.148993584609508,
          5.148408455184306,
          5.148326479180659,
          5.1482825963062675,
          5.1480925197460445,
          5.14613860898791,
          5.146061237579861,
          5.14583811867271,
          5.145237974483117,
          5.145054812299635,
          5.144814524494006,
          5.143590036205374,
          5.143531391417706,
          5.142549358289357,
          5.141402835565029,
          5.141356546771417,
          5.1403970195242925,
          5.14003324933603,
          5.139351925552875,
          5.137741706637629,
          5.137652524632416,
          5.136950500200406,
          5.136556492755965,
          5.135985595448269,
          5.135181519841566,
          5.134199539763619,
          5.133063836665292,
          5.132643766694243,
          5.130210291477942,
          5.130164699087231,
          5.127879219759907,
          5.126141965328448,
          5.12431203002324,
          5.124199143814893,
          5.122744035231229,
          5.120982463504509,
          5.120283286000424,
          5.120053913353549,
          5.119195477551284,
          5.1186593054047655,
          5.116439654450834,
          5.111752010699371,
          5.10993402795189,
          5.109581415168327,
          5.10940763838816,
          5.109004597032205,
          5.108445300494274,
          5.106784387718175,
          5.106687617577806,
          5.036772212337364,
          5.035835304411112,
          5.035479688544592,
          5.03430129452914,
          5.033719089808474,
          5.033263475824628,
          5.033151387146349,
          5.032873026098467,
          5.03109327849793,
          5.030845057387198,
          5.030761217750728,
          5.030473185694354,
          5.029661398144832,
          5.029082177171626,
          5.02891881274157,
          5.028718662649769,
          5.028238477086498,
          5.02820899237968,
          5.027583042831916,
          5.026771020252459,
          5.026729055495507,
          5.026131585433071,
          5.025752958262779,
          5.025591303572259,
          5.025169292394911,
          5.025127441343636,
          5.024903707297727,
          5.024781602301354,
          5.024624263797002,
          5.023676839811987,
          5.023584104968342,
          5.023211369117118,
          5.02251832920895,
          5.0224198681489085,
          5.0223243055688735,
          5.020770392820001,
          5.019726467887795,
          5.0195081150128695,
          5.019470661292995,
          5.019288710078983,
          5.019172838528011,
          5.019096596032057,
          5.0182399175186285,
          5.018222581780382,
          5.017690542982845,
          5.0173614178436114,
          5.015419295326624,
          5.015312850685482,
          5.015306493459813,
          5.015175606193089,
          4.980594434753398,
          4.979903792739246,
          4.979810012219173,
          4.979735450122402,
          4.979446765632975,
          4.979272942609135,
          4.979174136970913,
          4.979119803312241,
          4.979072772576482,
          4.978565107329488,
          4.978344005324339,
          4.9780823128907254,
          4.97805861655385,
          4.978046880484521,
          4.977669478729694,
          4.975654696864279,
          4.9755821074782975,
          4.975355584137784,
          4.974619807929977,
          4.974290256428671,
          4.973780940862297,
          4.973764257484491,
          4.972916276145958,
          4.9720482643227335,
          4.971154443549839,
          4.970832319368544,
          4.970331319749475,
          4.970227898471185,
          4.969800030780539,
          4.96911611838616,
          4.969022849181655,
          4.968794440814272,
          4.968462911796442,
          4.967504104400508,
          4.967063169856335,
          4.9669430818185,
          4.966799921653177,
          4.9667758914255575,
          4.966514234895511,
          4.9664256740788435,
          4.966214445015222,
          4.965934419140244,
          4.965925373479806,
          4.9655713185625325,
          4.964939386278356,
          4.9646607815441,
          4.964405673378122,
          4.964038895336037,
          4.963224207761856,
          4.96296377440769,
          4.9442246137962895,
          4.943864383100173,
          4.943833331329446,
          4.943743785511879,
          4.943734227840197,
          4.943705099527243,
          4.943702544968764,
          4.943487174154044,
          4.943459564125319,
          4.943413757277894,
          4.943321704704794,
          4.943218641404393,
          4.9432169637066385,
          4.943073356246789,
          4.94306778852742,
          4.943051006934077,
          4.943006264460172,
          4.943002001525907,
          4.94271164228362,
          4.942607447029363,
          4.942539666249814,
          4.942112472971405,
          4.941858044480395,
          4.9418578064256105,
          4.941783036498624,
          4.941492771769763,
          4.941463911438709,
          4.9412155366931065,
          4.94116985783171,
          4.941037635676893,
          4.941035974749952,
          4.941003557629274,
          4.94093380789559,
          4.9408685793331175,
          4.940728485041818,
          4.9405545944641105,
          4.940392845567611,
          4.940323259539453,
          4.940171887661115,
          4.940095446610112,
          4.940007808178957,
          4.939994094340138,
          4.939890599885755,
          4.939609530867033,
          4.939480079705458,
          4.939390763270984,
          4.939241170378753,
          4.939181976537927,
          4.939170935465293,
          4.939137600435926
         ],
         "yaxis": "y"
        }
       ],
       "layout": {
        "coloraxis": {
         "colorbar": {
          "title": {
           "text": "reward_patch_dim"
          }
         },
         "colorscale": [
          [
           0,
           "#0d0887"
          ],
          [
           0.1111111111111111,
           "#46039f"
          ],
          [
           0.2222222222222222,
           "#7201a8"
          ],
          [
           0.3333333333333333,
           "#9c179e"
          ],
          [
           0.4444444444444444,
           "#bd3786"
          ],
          [
           0.5555555555555556,
           "#d8576b"
          ],
          [
           0.6666666666666666,
           "#ed7953"
          ],
          [
           0.7777777777777778,
           "#fb9f3a"
          ],
          [
           0.8888888888888888,
           "#fdca26"
          ],
          [
           1,
           "#f0f921"
          ]
         ]
        },
        "legend": {
         "tracegroupgap": 0
        },
        "template": {
         "data": {
          "bar": [
           {
            "error_x": {
             "color": "#f2f5fa"
            },
            "error_y": {
             "color": "#f2f5fa"
            },
            "marker": {
             "line": {
              "color": "rgb(17,17,17)",
              "width": 0.5
             },
             "pattern": {
              "fillmode": "overlay",
              "size": 10,
              "solidity": 0.2
             }
            },
            "type": "bar"
           }
          ],
          "barpolar": [
           {
            "marker": {
             "line": {
              "color": "rgb(17,17,17)",
              "width": 0.5
             },
             "pattern": {
              "fillmode": "overlay",
              "size": 10,
              "solidity": 0.2
             }
            },
            "type": "barpolar"
           }
          ],
          "carpet": [
           {
            "aaxis": {
             "endlinecolor": "#A2B1C6",
             "gridcolor": "#506784",
             "linecolor": "#506784",
             "minorgridcolor": "#506784",
             "startlinecolor": "#A2B1C6"
            },
            "baxis": {
             "endlinecolor": "#A2B1C6",
             "gridcolor": "#506784",
             "linecolor": "#506784",
             "minorgridcolor": "#506784",
             "startlinecolor": "#A2B1C6"
            },
            "type": "carpet"
           }
          ],
          "choropleth": [
           {
            "colorbar": {
             "outlinewidth": 0,
             "ticks": ""
            },
            "type": "choropleth"
           }
          ],
          "contour": [
           {
            "colorbar": {
             "outlinewidth": 0,
             "ticks": ""
            },
            "colorscale": [
             [
              0,
              "#0d0887"
             ],
             [
              0.1111111111111111,
              "#46039f"
             ],
             [
              0.2222222222222222,
              "#7201a8"
             ],
             [
              0.3333333333333333,
              "#9c179e"
             ],
             [
              0.4444444444444444,
              "#bd3786"
             ],
             [
              0.5555555555555556,
              "#d8576b"
             ],
             [
              0.6666666666666666,
              "#ed7953"
             ],
             [
              0.7777777777777778,
              "#fb9f3a"
             ],
             [
              0.8888888888888888,
              "#fdca26"
             ],
             [
              1,
              "#f0f921"
             ]
            ],
            "type": "contour"
           }
          ],
          "contourcarpet": [
           {
            "colorbar": {
             "outlinewidth": 0,
             "ticks": ""
            },
            "type": "contourcarpet"
           }
          ],
          "heatmap": [
           {
            "colorbar": {
             "outlinewidth": 0,
             "ticks": ""
            },
            "colorscale": [
             [
              0,
              "#0d0887"
             ],
             [
              0.1111111111111111,
              "#46039f"
             ],
             [
              0.2222222222222222,
              "#7201a8"
             ],
             [
              0.3333333333333333,
              "#9c179e"
             ],
             [
              0.4444444444444444,
              "#bd3786"
             ],
             [
              0.5555555555555556,
              "#d8576b"
             ],
             [
              0.6666666666666666,
              "#ed7953"
             ],
             [
              0.7777777777777778,
              "#fb9f3a"
             ],
             [
              0.8888888888888888,
              "#fdca26"
             ],
             [
              1,
              "#f0f921"
             ]
            ],
            "type": "heatmap"
           }
          ],
          "heatmapgl": [
           {
            "colorbar": {
             "outlinewidth": 0,
             "ticks": ""
            },
            "colorscale": [
             [
              0,
              "#0d0887"
             ],
             [
              0.1111111111111111,
              "#46039f"
             ],
             [
              0.2222222222222222,
              "#7201a8"
             ],
             [
              0.3333333333333333,
              "#9c179e"
             ],
             [
              0.4444444444444444,
              "#bd3786"
             ],
             [
              0.5555555555555556,
              "#d8576b"
             ],
             [
              0.6666666666666666,
              "#ed7953"
             ],
             [
              0.7777777777777778,
              "#fb9f3a"
             ],
             [
              0.8888888888888888,
              "#fdca26"
             ],
             [
              1,
              "#f0f921"
             ]
            ],
            "type": "heatmapgl"
           }
          ],
          "histogram": [
           {
            "marker": {
             "pattern": {
              "fillmode": "overlay",
              "size": 10,
              "solidity": 0.2
             }
            },
            "type": "histogram"
           }
          ],
          "histogram2d": [
           {
            "colorbar": {
             "outlinewidth": 0,
             "ticks": ""
            },
            "colorscale": [
             [
              0,
              "#0d0887"
             ],
             [
              0.1111111111111111,
              "#46039f"
             ],
             [
              0.2222222222222222,
              "#7201a8"
             ],
             [
              0.3333333333333333,
              "#9c179e"
             ],
             [
              0.4444444444444444,
              "#bd3786"
             ],
             [
              0.5555555555555556,
              "#d8576b"
             ],
             [
              0.6666666666666666,
              "#ed7953"
             ],
             [
              0.7777777777777778,
              "#fb9f3a"
             ],
             [
              0.8888888888888888,
              "#fdca26"
             ],
             [
              1,
              "#f0f921"
             ]
            ],
            "type": "histogram2d"
           }
          ],
          "histogram2dcontour": [
           {
            "colorbar": {
             "outlinewidth": 0,
             "ticks": ""
            },
            "colorscale": [
             [
              0,
              "#0d0887"
             ],
             [
              0.1111111111111111,
              "#46039f"
             ],
             [
              0.2222222222222222,
              "#7201a8"
             ],
             [
              0.3333333333333333,
              "#9c179e"
             ],
             [
              0.4444444444444444,
              "#bd3786"
             ],
             [
              0.5555555555555556,
              "#d8576b"
             ],
             [
              0.6666666666666666,
              "#ed7953"
             ],
             [
              0.7777777777777778,
              "#fb9f3a"
             ],
             [
              0.8888888888888888,
              "#fdca26"
             ],
             [
              1,
              "#f0f921"
             ]
            ],
            "type": "histogram2dcontour"
           }
          ],
          "mesh3d": [
           {
            "colorbar": {
             "outlinewidth": 0,
             "ticks": ""
            },
            "type": "mesh3d"
           }
          ],
          "parcoords": [
           {
            "line": {
             "colorbar": {
              "outlinewidth": 0,
              "ticks": ""
             }
            },
            "type": "parcoords"
           }
          ],
          "pie": [
           {
            "automargin": true,
            "type": "pie"
           }
          ],
          "scatter": [
           {
            "marker": {
             "line": {
              "color": "#283442"
             }
            },
            "type": "scatter"
           }
          ],
          "scatter3d": [
           {
            "line": {
             "colorbar": {
              "outlinewidth": 0,
              "ticks": ""
             }
            },
            "marker": {
             "colorbar": {
              "outlinewidth": 0,
              "ticks": ""
             }
            },
            "type": "scatter3d"
           }
          ],
          "scattercarpet": [
           {
            "marker": {
             "colorbar": {
              "outlinewidth": 0,
              "ticks": ""
             }
            },
            "type": "scattercarpet"
           }
          ],
          "scattergeo": [
           {
            "marker": {
             "colorbar": {
              "outlinewidth": 0,
              "ticks": ""
             }
            },
            "type": "scattergeo"
           }
          ],
          "scattergl": [
           {
            "marker": {
             "line": {
              "color": "#283442"
             }
            },
            "type": "scattergl"
           }
          ],
          "scattermapbox": [
           {
            "marker": {
             "colorbar": {
              "outlinewidth": 0,
              "ticks": ""
             }
            },
            "type": "scattermapbox"
           }
          ],
          "scatterpolar": [
           {
            "marker": {
             "colorbar": {
              "outlinewidth": 0,
              "ticks": ""
             }
            },
            "type": "scatterpolar"
           }
          ],
          "scatterpolargl": [
           {
            "marker": {
             "colorbar": {
              "outlinewidth": 0,
              "ticks": ""
             }
            },
            "type": "scatterpolargl"
           }
          ],
          "scatterternary": [
           {
            "marker": {
             "colorbar": {
              "outlinewidth": 0,
              "ticks": ""
             }
            },
            "type": "scatterternary"
           }
          ],
          "surface": [
           {
            "colorbar": {
             "outlinewidth": 0,
             "ticks": ""
            },
            "colorscale": [
             [
              0,
              "#0d0887"
             ],
             [
              0.1111111111111111,
              "#46039f"
             ],
             [
              0.2222222222222222,
              "#7201a8"
             ],
             [
              0.3333333333333333,
              "#9c179e"
             ],
             [
              0.4444444444444444,
              "#bd3786"
             ],
             [
              0.5555555555555556,
              "#d8576b"
             ],
             [
              0.6666666666666666,
              "#ed7953"
             ],
             [
              0.7777777777777778,
              "#fb9f3a"
             ],
             [
              0.8888888888888888,
              "#fdca26"
             ],
             [
              1,
              "#f0f921"
             ]
            ],
            "type": "surface"
           }
          ],
          "table": [
           {
            "cells": {
             "fill": {
              "color": "#506784"
             },
             "line": {
              "color": "rgb(17,17,17)"
             }
            },
            "header": {
             "fill": {
              "color": "#2a3f5f"
             },
             "line": {
              "color": "rgb(17,17,17)"
             }
            },
            "type": "table"
           }
          ]
         },
         "layout": {
          "annotationdefaults": {
           "arrowcolor": "#f2f5fa",
           "arrowhead": 0,
           "arrowwidth": 1
          },
          "autotypenumbers": "strict",
          "coloraxis": {
           "colorbar": {
            "outlinewidth": 0,
            "ticks": ""
           }
          },
          "colorscale": {
           "diverging": [
            [
             0,
             "#8e0152"
            ],
            [
             0.1,
             "#c51b7d"
            ],
            [
             0.2,
             "#de77ae"
            ],
            [
             0.3,
             "#f1b6da"
            ],
            [
             0.4,
             "#fde0ef"
            ],
            [
             0.5,
             "#f7f7f7"
            ],
            [
             0.6,
             "#e6f5d0"
            ],
            [
             0.7,
             "#b8e186"
            ],
            [
             0.8,
             "#7fbc41"
            ],
            [
             0.9,
             "#4d9221"
            ],
            [
             1,
             "#276419"
            ]
           ],
           "sequential": [
            [
             0,
             "#0d0887"
            ],
            [
             0.1111111111111111,
             "#46039f"
            ],
            [
             0.2222222222222222,
             "#7201a8"
            ],
            [
             0.3333333333333333,
             "#9c179e"
            ],
            [
             0.4444444444444444,
             "#bd3786"
            ],
            [
             0.5555555555555556,
             "#d8576b"
            ],
            [
             0.6666666666666666,
             "#ed7953"
            ],
            [
             0.7777777777777778,
             "#fb9f3a"
            ],
            [
             0.8888888888888888,
             "#fdca26"
            ],
            [
             1,
             "#f0f921"
            ]
           ],
           "sequentialminus": [
            [
             0,
             "#0d0887"
            ],
            [
             0.1111111111111111,
             "#46039f"
            ],
            [
             0.2222222222222222,
             "#7201a8"
            ],
            [
             0.3333333333333333,
             "#9c179e"
            ],
            [
             0.4444444444444444,
             "#bd3786"
            ],
            [
             0.5555555555555556,
             "#d8576b"
            ],
            [
             0.6666666666666666,
             "#ed7953"
            ],
            [
             0.7777777777777778,
             "#fb9f3a"
            ],
            [
             0.8888888888888888,
             "#fdca26"
            ],
            [
             1,
             "#f0f921"
            ]
           ]
          },
          "colorway": [
           "#636efa",
           "#EF553B",
           "#00cc96",
           "#ab63fa",
           "#FFA15A",
           "#19d3f3",
           "#FF6692",
           "#B6E880",
           "#FF97FF",
           "#FECB52"
          ],
          "font": {
           "color": "#f2f5fa"
          },
          "geo": {
           "bgcolor": "rgb(17,17,17)",
           "lakecolor": "rgb(17,17,17)",
           "landcolor": "rgb(17,17,17)",
           "showlakes": true,
           "showland": true,
           "subunitcolor": "#506784"
          },
          "hoverlabel": {
           "align": "left"
          },
          "hovermode": "closest",
          "mapbox": {
           "style": "dark"
          },
          "paper_bgcolor": "rgb(17,17,17)",
          "plot_bgcolor": "rgb(17,17,17)",
          "polar": {
           "angularaxis": {
            "gridcolor": "#506784",
            "linecolor": "#506784",
            "ticks": ""
           },
           "bgcolor": "rgb(17,17,17)",
           "radialaxis": {
            "gridcolor": "#506784",
            "linecolor": "#506784",
            "ticks": ""
           }
          },
          "scene": {
           "xaxis": {
            "backgroundcolor": "rgb(17,17,17)",
            "gridcolor": "#506784",
            "gridwidth": 2,
            "linecolor": "#506784",
            "showbackground": true,
            "ticks": "",
            "zerolinecolor": "#C8D4E3"
           },
           "yaxis": {
            "backgroundcolor": "rgb(17,17,17)",
            "gridcolor": "#506784",
            "gridwidth": 2,
            "linecolor": "#506784",
            "showbackground": true,
            "ticks": "",
            "zerolinecolor": "#C8D4E3"
           },
           "zaxis": {
            "backgroundcolor": "rgb(17,17,17)",
            "gridcolor": "#506784",
            "gridwidth": 2,
            "linecolor": "#506784",
            "showbackground": true,
            "ticks": "",
            "zerolinecolor": "#C8D4E3"
           }
          },
          "shapedefaults": {
           "line": {
            "color": "#f2f5fa"
           }
          },
          "sliderdefaults": {
           "bgcolor": "#C8D4E3",
           "bordercolor": "rgb(17,17,17)",
           "borderwidth": 1,
           "tickwidth": 0
          },
          "ternary": {
           "aaxis": {
            "gridcolor": "#506784",
            "linecolor": "#506784",
            "ticks": ""
           },
           "baxis": {
            "gridcolor": "#506784",
            "linecolor": "#506784",
            "ticks": ""
           },
           "bgcolor": "rgb(17,17,17)",
           "caxis": {
            "gridcolor": "#506784",
            "linecolor": "#506784",
            "ticks": ""
           }
          },
          "title": {
           "x": 0.05
          },
          "updatemenudefaults": {
           "bgcolor": "#506784",
           "borderwidth": 0
          },
          "xaxis": {
           "automargin": true,
           "gridcolor": "#283442",
           "linecolor": "#506784",
           "ticks": "",
           "title": {
            "standoff": 15
           },
           "zerolinecolor": "#283442",
           "zerolinewidth": 2
          },
          "yaxis": {
           "automargin": true,
           "gridcolor": "#283442",
           "linecolor": "#506784",
           "ticks": "",
           "title": {
            "standoff": 15
           },
           "zerolinecolor": "#283442",
           "zerolinewidth": 2
          }
         }
        },
        "title": {
         "text": "Trust vs time to first food"
        },
        "xaxis": {
         "anchor": "y",
         "domain": [
          0,
          1
         ],
         "title": {
          "text": "c_trust_jittered"
         }
        },
        "yaxis": {
         "anchor": "x",
         "domain": [
          0,
          1
         ],
         "title": {
          "text": "time to first food"
         }
        }
       }
      }
     },
     "metadata": {},
     "output_type": "display_data"
    }
   ],
   "source": [
    "# note that initially the utility of communicating grows faster  \n",
    "jitter = 0.02 \n",
    "impactDF[\"c_trust_jittered\"] = impactDF[\"c_trust\"] + np.random.uniform(-jitter, jitter, len(impactDF))\n",
    "\n",
    "\n",
    "\n",
    "fig = px.scatter(impactDF, x=\"c_trust_jittered\", y=\"time to first food\", color=\"reward_patch_dim\",\n",
    "           template=\"plotly_dark\", title=\"Trust vs time to first food\",\n",
    "           trendline=\"lowess\")\n",
    "\n",
    "fig.update_traces({'marker':{'size': 5, 'opacity':0.5}})\n",
    "\n",
    "fig.show()"
   ]
  },
  {
   "cell_type": "code",
   "execution_count": 44,
   "metadata": {},
   "outputs": [
    {
     "data": {
      "application/vnd.plotly.v1+json": {
       "config": {
        "plotlyServerURL": "https://plot.ly"
       },
       "data": [
        {
         "hovertemplate": "c_trust_jittered=%{x}<br>time to first food=%{y}<br>reward_patch_dim=%{marker.color}<extra></extra>",
         "legendgroup": "",
         "marker": {
          "color": [
           1,
           1,
           1,
           1,
           1,
           1,
           1,
           1,
           1,
           1,
           2,
           2,
           2,
           2,
           2,
           2,
           2,
           2,
           2,
           2,
           3,
           3,
           3,
           3,
           3,
           3,
           3,
           3,
           3,
           3,
           4,
           4,
           4,
           4,
           4,
           4,
           4,
           4,
           4,
           4,
           5,
           5,
           5,
           5,
           5,
           5,
           5,
           5,
           5,
           5,
           1,
           1,
           1,
           1,
           1,
           1,
           1,
           1,
           1,
           1,
           2,
           2,
           2,
           2,
           2,
           2,
           2,
           2,
           2,
           2,
           3,
           3,
           3,
           3,
           3,
           3,
           3,
           3,
           3,
           3,
           4,
           4,
           4,
           4,
           4,
           4,
           4,
           4,
           4,
           4,
           5,
           5,
           5,
           5,
           5,
           5,
           5,
           5,
           5,
           5,
           1,
           1,
           1,
           1,
           1,
           1,
           1,
           1,
           1,
           1,
           2,
           2,
           2,
           2,
           2,
           2,
           2,
           2,
           2,
           2,
           3,
           3,
           3,
           3,
           3,
           3,
           3,
           3,
           3,
           3,
           4,
           4,
           4,
           4,
           4,
           4,
           4,
           4,
           4,
           4,
           5,
           5,
           5,
           5,
           5,
           5,
           5,
           5,
           5,
           5,
           1,
           1,
           1,
           1,
           1,
           1,
           1,
           1,
           1,
           1,
           2,
           2,
           2,
           2,
           2,
           2,
           2,
           2,
           2,
           2,
           3,
           3,
           3,
           3,
           3,
           3,
           3,
           3,
           3,
           3,
           4,
           4,
           4,
           4,
           4,
           4,
           4,
           4,
           4,
           4,
           5,
           5,
           5,
           5,
           5,
           5,
           5,
           5,
           5,
           5,
           1,
           1,
           1,
           1,
           1,
           1,
           1,
           1,
           1,
           1,
           2,
           2,
           2,
           2,
           2,
           2,
           2,
           2,
           2,
           2,
           3,
           3,
           3,
           3,
           3,
           3,
           3,
           3,
           3,
           3,
           4,
           4,
           4,
           4,
           4,
           4,
           4,
           4,
           4,
           4,
           5,
           5,
           5,
           5,
           5,
           5,
           5,
           5,
           5,
           5,
           1,
           1,
           1,
           1,
           1,
           1,
           1,
           1,
           1,
           1,
           2,
           2,
           2,
           2,
           2,
           2,
           2,
           2,
           2,
           2,
           3,
           3,
           3,
           3,
           3,
           3,
           3,
           3,
           3,
           3,
           4,
           4,
           4,
           4,
           4,
           4,
           4,
           4,
           4,
           4,
           5,
           5,
           5,
           5,
           5,
           5,
           5,
           5,
           5,
           5,
           1,
           1,
           1,
           1,
           1,
           1,
           1,
           1,
           1,
           1,
           2,
           2,
           2,
           2,
           2,
           2,
           2,
           2,
           2,
           2,
           3,
           3,
           3,
           3,
           3,
           3,
           3,
           3,
           3,
           3,
           4,
           4,
           4,
           4,
           4,
           4,
           4,
           4,
           4,
           4,
           5,
           5,
           5,
           5,
           5,
           5,
           5,
           5,
           5,
           5,
           1,
           1,
           1,
           1,
           1,
           1,
           1,
           1,
           1,
           1,
           2,
           2,
           2,
           2,
           2,
           2,
           2,
           2,
           2,
           2,
           3,
           3,
           3,
           3,
           3,
           3,
           3,
           3,
           3,
           3,
           4,
           4,
           4,
           4,
           4,
           4,
           4,
           4,
           4,
           4,
           5,
           5,
           5,
           5,
           5,
           5,
           5,
           5,
           5,
           5,
           1,
           1,
           1,
           1,
           1,
           1,
           1,
           1,
           1,
           1,
           2,
           2,
           2,
           2,
           2,
           2,
           2,
           2,
           2,
           2,
           3,
           3,
           3,
           3,
           3,
           3,
           3,
           3,
           3,
           3,
           4,
           4,
           4,
           4,
           4,
           4,
           4,
           4,
           4,
           4,
           5,
           5,
           5,
           5,
           5,
           5,
           5,
           5,
           5,
           5
          ],
          "coloraxis": "coloraxis",
          "opacity": 0.5,
          "size": 5,
          "symbol": "circle"
         },
         "mode": "markers",
         "name": "",
         "orientation": "v",
         "showlegend": false,
         "type": "scatter",
         "x": [
          0.00858163157553989,
          0.016569380222950746,
          0.006413496188272871,
          -0.012199942164600177,
          0.018249899691878232,
          0.010409334854161574,
          -0.003154323549830057,
          0.012935319531410253,
          -0.007190276529846825,
          -0.006546578256710744,
          0.0050009946353837265,
          -0.0011796036704523859,
          -0.018557147396394403,
          -0.019133351425367328,
          -0.0028164200421062283,
          0.016042130477216417,
          -0.017124528181464826,
          -0.0021993588225320826,
          0.017095800226668848,
          -0.019518733266039874,
          0.019372986354161795,
          -0.018407766573128703,
          0.008403576601594704,
          -0.01319764180643785,
          0.005095803760182368,
          -0.004939017030435653,
          -0.009726612121857454,
          -0.01869794754418098,
          0.01913127503777814,
          -0.016051136427281308,
          -0.00378187495718605,
          -0.004791396497222817,
          0.01888644418411235,
          0.00237456474132422,
          0.00024641255670914547,
          -0.011124545633362683,
          -0.015117500323555199,
          -0.008031037265928359,
          0.0030537643762731798,
          -0.018077665040789167,
          0.018673234682545125,
          0.008911355729509577,
          -0.012156913878401334,
          -0.012100696927320822,
          0.0013152257380170292,
          0.013383340713302373,
          -0.01304984351050706,
          -0.010830981083993408,
          0.019984088574777407,
          -0.017009504180198122,
          0.08740627476119078,
          0.08002148821356489,
          0.09768626646312546,
          0.11918709283070282,
          0.08925068125708077,
          0.10008577921588792,
          0.10802971715135401,
          0.08706718965919731,
          0.10273359101295515,
          0.11537282758962301,
          0.11010628041075732,
          0.08188747688490179,
          0.09984267449365537,
          0.08143442039179827,
          0.1153074693234399,
          0.08723354232681643,
          0.10771459361199336,
          0.10736683863238652,
          0.10830809009643795,
          0.08851666761289731,
          0.10685730918887316,
          0.11302838908645503,
          0.08473291886371784,
          0.10994038318014426,
          0.11184508504428789,
          0.10711864417716148,
          0.0834814943761732,
          0.08025555760705927,
          0.1046560860347549,
          0.11684293240934127,
          0.10250978435128605,
          0.10794179683465677,
          0.11094680254402497,
          0.11385588866937922,
          0.09830401084629507,
          0.10168858438675463,
          0.08688510199443178,
          0.10110187000847509,
          0.10347290505226826,
          0.11827578288871594,
          0.0902337828653523,
          0.11822548835926122,
          0.08851823184429758,
          0.11378841096440201,
          0.08572007767837074,
          0.1152440306035136,
          0.09899088058182354,
          0.08305524635444425,
          0.1081639587894002,
          0.10301573424352108,
          0.2948290024858854,
          0.31336847048513905,
          0.2914069924674795,
          0.30480291477951016,
          0.3131983122302167,
          0.30015188738517684,
          0.28323081841854003,
          0.3036077121463561,
          0.2892425893184965,
          0.3062843021662541,
          0.2860070971921928,
          0.3161804632217852,
          0.31627225824247024,
          0.29899148842871415,
          0.28701537416179895,
          0.3169883935217501,
          0.3189716209457517,
          0.3081242623507845,
          0.31396554948956706,
          0.2902221468956884,
          0.28679392727883324,
          0.2968124382677256,
          0.304957463251369,
          0.282495182582958,
          0.2947292957328055,
          0.2989828744923737,
          0.30353071022560024,
          0.29719014688436524,
          0.30221130859572926,
          0.3151595651662526,
          0.29215145062166414,
          0.3092793213582933,
          0.292072361031151,
          0.3017487279885973,
          0.30855083397597216,
          0.292806597715198,
          0.2963093528944564,
          0.29519234197413663,
          0.2911688453800307,
          0.3167302324062291,
          0.2802445475781652,
          0.3108831527019695,
          0.2819518684112234,
          0.2908801506319596,
          0.3066571525931745,
          0.31712021310426386,
          0.3054548901184106,
          0.2827744430745155,
          0.2877558882041468,
          0.28202524628120257,
          0.3820111619758936,
          0.3924388887807358,
          0.38495054048519556,
          0.38383595958313366,
          0.3982261909538614,
          0.40537114184250406,
          0.39111144049650354,
          0.38450498194799443,
          0.38021349256432585,
          0.38904467278026933,
          0.4023311831476144,
          0.3843166504416325,
          0.40342115363023573,
          0.39156755510833446,
          0.40573567601787747,
          0.40685786763070975,
          0.38123057004981187,
          0.4146786558604455,
          0.417698227338555,
          0.3805730517094238,
          0.38416419247345357,
          0.38903086613617144,
          0.40271870435657103,
          0.38027411939448846,
          0.40729439092203945,
          0.41301110318638157,
          0.39052745453334825,
          0.41261937308142016,
          0.4013338673497841,
          0.3865214513915063,
          0.4072885369514433,
          0.4096124065356917,
          0.39802198456546034,
          0.3827237329027461,
          0.3928684981445397,
          0.4031285035568635,
          0.38056062353493764,
          0.3980300745901497,
          0.4192171928668196,
          0.3988600096006452,
          0.4160343653175603,
          0.40175325729007794,
          0.38072663158263576,
          0.39614223779019136,
          0.4010695819038804,
          0.40988109877239876,
          0.39565196728878704,
          0.41824623198396627,
          0.3868871673753177,
          0.4155846517428294,
          0.4817316188379471,
          0.5083444347724767,
          0.5145076254051066,
          0.5061917310312325,
          0.49560370256336406,
          0.48752559814393637,
          0.5144936462898559,
          0.49910635383279695,
          0.5087888081429147,
          0.49580890717220233,
          0.48616882275975837,
          0.49479682722052065,
          0.5042117368070979,
          0.512629482897808,
          0.48032002960616366,
          0.49945932384581626,
          0.48728039400240725,
          0.4811225321744777,
          0.49397064663721024,
          0.4914320371298556,
          0.5179378866171733,
          0.511423004067755,
          0.4880686511278155,
          0.5106488417831762,
          0.5160922209956792,
          0.5035231120227093,
          0.49936359038638517,
          0.4993362258354246,
          0.5062986160520094,
          0.5190263447948984,
          0.5150021180750755,
          0.4928166207846002,
          0.5173853185555632,
          0.4905085502715726,
          0.5159960537552901,
          0.48838481366663267,
          0.48229628331169677,
          0.5117892290748314,
          0.5095035145648079,
          0.490045785831496,
          0.5047892993200811,
          0.49527001889108974,
          0.5128862599673294,
          0.4864862618254661,
          0.5192095048931054,
          0.48742592637898313,
          0.502787068870882,
          0.4963270730812539,
          0.48727980998322123,
          0.48519357166377963,
          0.5875912106432193,
          0.6151277870925177,
          0.6175535822235577,
          0.5827393041338472,
          0.5916328954737025,
          0.5807926996724373,
          0.5891704115303201,
          0.5824925913629676,
          0.5803586606566353,
          0.580886287144879,
          0.5875561609817461,
          0.5803514845694587,
          0.6088581887543071,
          0.5810277776666086,
          0.5888290321418533,
          0.6196692573713989,
          0.5984281252206057,
          0.5850267937819814,
          0.6076603474076274,
          0.5849350133118938,
          0.5864455254678147,
          0.6039440131106532,
          0.6074450400598963,
          0.6167230147979532,
          0.5898342612318616,
          0.6052741385132799,
          0.6171949617613607,
          0.6020985308954137,
          0.6083744728538023,
          0.593979121018828,
          0.5958182066951992,
          0.6195814849649184,
          0.6038338979319331,
          0.591515514546112,
          0.5808536471660463,
          0.6109286540442732,
          0.6006067352916681,
          0.5932212200013667,
          0.6068752447373534,
          0.5833326015083108,
          0.5984817302442095,
          0.5831936164641269,
          0.5835151641326071,
          0.617037819158205,
          0.6180585069883348,
          0.5825509757540022,
          0.5927913706429442,
          0.5961385921634501,
          0.5924951210572219,
          0.5949618413222157,
          0.7155178116005344,
          0.7130770775916561,
          0.7058384965566534,
          0.6800278630225779,
          0.7145657294762451,
          0.7015609284320882,
          0.7070700165901582,
          0.6994087928467986,
          0.6951209385712742,
          0.712944335840581,
          0.6870792306407121,
          0.7074137683030084,
          0.7024010543912265,
          0.7028051025008898,
          0.6979135850437433,
          0.7033087200641763,
          0.6917785403224356,
          0.6924891951343043,
          0.7030253023373985,
          0.6878472378392857,
          0.7196201648992779,
          0.7005781376205407,
          0.7101522242781729,
          0.7196311017993628,
          0.7072445145347929,
          0.6819343036655191,
          0.6919390290553314,
          0.701267361131712,
          0.6954273821804451,
          0.6994857474588991,
          0.6861785088907938,
          0.7050080060977487,
          0.719856249304135,
          0.7145958020330021,
          0.7160873249524117,
          0.6873000762402095,
          0.6966979135575511,
          0.694030030904155,
          0.7124253903777299,
          0.6967527741799805,
          0.7023253908529484,
          0.6850205509191263,
          0.7127425142603953,
          0.6958021033246148,
          0.711979106834148,
          0.6826540043960141,
          0.7123600802979242,
          0.7051736852774186,
          0.6913024585093938,
          0.7194370185463861,
          0.8027407967922968,
          0.8127257913208034,
          0.8107552540664146,
          0.7831475654951287,
          0.7916308909362707,
          0.7838635778236308,
          0.815768482100287,
          0.812747142301691,
          0.801647165954376,
          0.7990246750087595,
          0.8054277154558972,
          0.8009481251504181,
          0.8199431330876826,
          0.8135856989165011,
          0.7846030898105099,
          0.7829630654290843,
          0.8163870066942334,
          0.7856107753815883,
          0.8090742481155612,
          0.7860510753243571,
          0.7873998585330181,
          0.8115716524455492,
          0.7914822033335175,
          0.7832943595249597,
          0.8192930535789151,
          0.797178565574987,
          0.784206990032087,
          0.7942973996917175,
          0.810699428933693,
          0.8056360503713244,
          0.7816087446914028,
          0.7920956489042031,
          0.8061475715203715,
          0.8150965110647158,
          0.7866207069949919,
          0.7953946729909036,
          0.8120666135369115,
          0.7845099630920543,
          0.7866441640884537,
          0.8029675504288925,
          0.8100894680914553,
          0.8039093841018338,
          0.8103673570626553,
          0.8172817741979451,
          0.8068934473845235,
          0.8113647087498996,
          0.7844024228158244,
          0.7953597633270747,
          0.7865733524752299,
          0.7936134152210348,
          0.9041480625549698,
          0.901558877192208,
          0.9104962757368031,
          0.887726553710743,
          0.8861492007288504,
          0.8861354316821938,
          0.9113987600241701,
          0.9199300496613175,
          0.8873215592449561,
          0.8900279668343644,
          0.9195603476826673,
          0.8997884183024888,
          0.8896425005311287,
          0.9031238206721686,
          0.8971079818666874,
          0.903650308955871,
          0.885927296342166,
          0.90523533062797,
          0.9172108694665589,
          0.9079489110295855,
          0.9098275812641936,
          0.9112755568885273,
          0.8852829997711726,
          0.8833975751595602,
          0.890052550391897,
          0.8888168355334264,
          0.8917538278377545,
          0.8927878334270279,
          0.8854482458700262,
          0.897605505135809,
          0.8896743868130998,
          0.9123399715972104,
          0.8882383554998033,
          0.9150069023083954,
          0.9028687162612186,
          0.9162961658391626,
          0.8971064059314255,
          0.8923778490904027,
          0.9018917618261797,
          0.8995868831259982,
          0.8954503999848983,
          0.8888263010563077,
          0.8859786513491078,
          0.906621237901853,
          0.8897706062434134,
          0.9028811178008643,
          0.9194387218537851,
          0.9187934652807326,
          0.9085321779970448,
          0.8874735389038977
         ],
         "xaxis": "x",
         "y": [
          1.5555555555555556,
          1.3333333333333333,
          4.222222222222222,
          13.22222222222222,
          2.555555555555556,
          3,
          2.111111111111111,
          1.4444444444444444,
          5.666666666666667,
          8.222222222222221,
          28.22222222222222,
          16.77777777777778,
          31.33333333333333,
          15.555555555555555,
          24.55555555555556,
          18,
          18.77777777777778,
          15.88888888888889,
          20.88888888888889,
          19,
          19.22222222222222,
          14,
          35.333333333333336,
          20.88888888888889,
          21.77777777777778,
          39.77777777777778,
          11.11111111111111,
          33.333333333333336,
          26.666666666666668,
          7.666666666666667,
          35.333333333333336,
          31.22222222222222,
          34.888888888888886,
          22.666666666666668,
          37,
          42,
          35.22222222222222,
          20,
          36,
          45.11111111111112,
          12.88888888888889,
          19.88888888888889,
          41.888888888888886,
          21.77777777777778,
          36.333333333333336,
          22.88888888888889,
          34.55555555555556,
          22.11111111111111,
          14.333333333333334,
          17.444444444444443,
          1.7777777777777777,
          3.111111111111111,
          1.6666666666666667,
          2.111111111111111,
          2.333333333333333,
          2.333333333333333,
          1.5555555555555556,
          2.7777777777777777,
          2.555555555555556,
          2.2222222222222223,
          3.4444444444444446,
          4.888888888888889,
          7,
          5.888888888888889,
          13.88888888888889,
          5.555555555555555,
          7.444444444444445,
          6.777777777777778,
          3.4444444444444446,
          4.222222222222222,
          7.666666666666667,
          3.4444444444444446,
          6,
          6,
          5.555555555555555,
          6.555555555555555,
          2.888888888888889,
          16,
          4,
          9.22222222222222,
          9.22222222222222,
          5.555555555555555,
          24,
          13.333333333333334,
          5.666666666666667,
          4.555555555555555,
          7.666666666666667,
          15.88888888888889,
          10.666666666666666,
          3.555555555555556,
          9,
          6.666666666666667,
          5.111111111111111,
          9.22222222222222,
          4.111111111111111,
          8.11111111111111,
          8.555555555555555,
          7.666666666666667,
          15.88888888888889,
          34.111111111111114,
          3,
          2.4444444444444446,
          3.2222222222222223,
          2.6666666666666665,
          2,
          3.111111111111111,
          2.6666666666666665,
          2.888888888888889,
          5,
          2.111111111111111,
          3.333333333333333,
          6.444444444444445,
          3.6666666666666665,
          2.2222222222222223,
          3,
          3.888888888888889,
          4.111111111111111,
          3.4444444444444446,
          2.333333333333333,
          4.666666666666667,
          7,
          6.666666666666667,
          4.111111111111111,
          5.777777777777778,
          3.333333333333333,
          5.666666666666667,
          4.222222222222222,
          4.444444444444445,
          8.88888888888889,
          6.555555555555555,
          8.11111111111111,
          13.444444444444445,
          16,
          8.666666666666666,
          5.888888888888889,
          4.555555555555555,
          5.777777777777778,
          7.555555555555555,
          9.88888888888889,
          10.22222222222222,
          8.222222222222221,
          17.88888888888889,
          12.333333333333334,
          7.111111111111111,
          4.111111111111111,
          6.111111111111111,
          9,
          7.666666666666667,
          4.333333333333333,
          8.666666666666666,
          2.6666666666666665,
          1.6666666666666667,
          2,
          2.888888888888889,
          2.555555555555556,
          1.5555555555555556,
          2.333333333333333,
          1.8888888888888888,
          2.333333333333333,
          2.2222222222222223,
          5.777777777777778,
          1.8888888888888888,
          8.222222222222221,
          4.888888888888889,
          8.777777777777779,
          2.2222222222222223,
          4.333333333333333,
          6,
          3,
          4.555555555555555,
          4.666666666666667,
          13.11111111111111,
          8.11111111111111,
          4,
          3,
          3.4444444444444446,
          5.222222222222222,
          3.555555555555556,
          6.222222222222222,
          5.888888888888889,
          9,
          4.555555555555555,
          4.666666666666667,
          6.333333333333333,
          5.333333333333333,
          5.111111111111111,
          9.444444444444445,
          6.777777777777778,
          9.22222222222222,
          5,
          6.444444444444445,
          7.222222222222222,
          32.77777777777778,
          7.666666666666667,
          4.222222222222222,
          10.333333333333334,
          25.666666666666668,
          7.666666666666667,
          7.222222222222222,
          50,
          1.6666666666666667,
          1.8888888888888888,
          2.6666666666666665,
          1.8888888888888888,
          1.5555555555555556,
          2.4444444444444446,
          1.5555555555555556,
          2.2222222222222223,
          2.888888888888889,
          3.888888888888889,
          6.333333333333333,
          2.888888888888889,
          4,
          5.555555555555555,
          4.333333333333333,
          2.4444444444444446,
          2.6666666666666665,
          9.77777777777778,
          3.7777777777777777,
          4.777777777777778,
          8.333333333333334,
          5.444444444444445,
          4.555555555555555,
          4,
          3.6666666666666665,
          5.111111111111111,
          6,
          11,
          5.555555555555555,
          5.888888888888889,
          9.77777777777778,
          11.444444444444445,
          3.6666666666666665,
          7.555555555555555,
          9.77777777777778,
          10.11111111111111,
          6.222222222222222,
          10,
          15.11111111111111,
          7.444444444444445,
          7.333333333333333,
          3.4444444444444446,
          11.666666666666666,
          8.777777777777779,
          6.777777777777778,
          3.333333333333333,
          20,
          10.11111111111111,
          7.111111111111111,
          3.888888888888889,
          2.555555555555556,
          1.5555555555555556,
          2.111111111111111,
          1.4444444444444444,
          3.111111111111111,
          2,
          2.7777777777777777,
          2.6666666666666665,
          3.6666666666666665,
          4.333333333333333,
          13.77777777777778,
          2.7777777777777777,
          5.222222222222222,
          2.6666666666666665,
          3.333333333333333,
          3.7777777777777777,
          4.555555555555555,
          5.333333333333333,
          4.111111111111111,
          27.444444444444443,
          4.444444444444445,
          12.88888888888889,
          3.555555555555556,
          4.111111111111111,
          6.555555555555555,
          3.333333333333333,
          4.888888888888889,
          4.888888888888889,
          4.666666666666667,
          3.7777777777777777,
          4.111111111111111,
          6.666666666666667,
          5.111111111111111,
          14.666666666666666,
          4.777777777777778,
          5.777777777777778,
          4.444444444444445,
          4.333333333333333,
          8.555555555555555,
          4.444444444444445,
          13,
          13.333333333333334,
          9.77777777777778,
          6.222222222222222,
          4.666666666666667,
          12.444444444444445,
          6.444444444444445,
          21.33333333333333,
          4.555555555555555,
          13.77777777777778,
          3.333333333333333,
          1.4444444444444444,
          2.333333333333333,
          3.111111111111111,
          3,
          4,
          1.3333333333333333,
          2.2222222222222223,
          3.333333333333333,
          1.5555555555555556,
          3.2222222222222223,
          3.333333333333333,
          2.555555555555556,
          4.666666666666667,
          2.333333333333333,
          5.888888888888889,
          2.7777777777777777,
          3.6666666666666665,
          3.333333333333333,
          2.888888888888889,
          3.6666666666666665,
          9.11111111111111,
          10,
          6.111111111111111,
          3.7777777777777777,
          2.6666666666666665,
          6.222222222222222,
          7.111111111111111,
          4.333333333333333,
          3.555555555555556,
          12,
          10.666666666666666,
          7.888888888888889,
          5.222222222222222,
          4.222222222222222,
          4.333333333333333,
          9.11111111111111,
          6.555555555555555,
          4.555555555555555,
          5.333333333333333,
          4.777777777777778,
          3,
          8.222222222222221,
          9.22222222222222,
          6.555555555555555,
          28,
          6.333333333333333,
          49,
          6.666666666666667,
          17.666666666666668,
          2,
          1.8888888888888888,
          1.7777777777777777,
          2.333333333333333,
          1.8888888888888888,
          1.8888888888888888,
          1.4444444444444444,
          3.2222222222222223,
          2,
          3,
          2.555555555555556,
          3.7777777777777777,
          5.666666666666667,
          3.2222222222222223,
          2.888888888888889,
          4.444444444444445,
          5.333333333333333,
          2.888888888888889,
          5.333333333333333,
          4.444444444444445,
          4.444444444444445,
          7,
          4.777777777777778,
          4.111111111111111,
          3.4444444444444446,
          7.666666666666667,
          4.777777777777778,
          8.777777777777779,
          10.11111111111111,
          5.666666666666667,
          6.333333333333333,
          9.11111111111111,
          12.666666666666666,
          13,
          4.222222222222222,
          3.7777777777777777,
          6.333333333333333,
          4.333333333333333,
          6,
          6.111111111111111,
          8.555555555555555,
          3.888888888888889,
          8.222222222222221,
          4.222222222222222,
          8.666666666666666,
          14.88888888888889,
          3.333333333333333,
          3.555555555555556,
          36,
          5.555555555555555,
          2.555555555555556,
          1.7777777777777777,
          2.111111111111111,
          2,
          1.8888888888888888,
          2,
          2,
          2.4444444444444446,
          2.333333333333333,
          2.7777777777777777,
          4.444444444444445,
          4.666666666666667,
          25.33333333333333,
          3.555555555555556,
          7.888888888888889,
          4.111111111111111,
          3.555555555555556,
          5.111111111111111,
          1.6666666666666667,
          2.888888888888889,
          6,
          4,
          4,
          3.6666666666666665,
          5.666666666666667,
          16.11111111111111,
          7.333333333333333,
          8.333333333333334,
          6.333333333333333,
          3.2222222222222223,
          39,
          5.777777777777778,
          6.444444444444445,
          30.11111111111111,
          5.888888888888889,
          5.111111111111111,
          7.444444444444445,
          7.111111111111111,
          4.333333333333333,
          16.22222222222222,
          9,
          4.444444444444445,
          16.444444444444443,
          4.888888888888889,
          9.77777777777778,
          9.77777777777778,
          10.22222222222222,
          14.11111111111111,
          4.333333333333333,
          3.2222222222222223
         ],
         "yaxis": "y"
        },
        {
         "hovertemplate": "<b>LOWESS trendline</b><br><br>c_trust_jittered=%{x}<br>time to first food=%{y} <b>(trend)</b><extra></extra>",
         "legendgroup": "",
         "marker": {
          "opacity": 0.5,
          "size": 5,
          "symbol": "circle"
         },
         "mode": "lines",
         "name": "",
         "showlegend": false,
         "type": "scatter",
         "x": [
          -0.019518733266039874,
          -0.019133351425367328,
          -0.01869794754418098,
          -0.018557147396394403,
          -0.018407766573128703,
          -0.018077665040789167,
          -0.017124528181464826,
          -0.017009504180198122,
          -0.016051136427281308,
          -0.015117500323555199,
          -0.01319764180643785,
          -0.01304984351050706,
          -0.012199942164600177,
          -0.012156913878401334,
          -0.012100696927320822,
          -0.011124545633362683,
          -0.010830981083993408,
          -0.009726612121857454,
          -0.008031037265928359,
          -0.007190276529846825,
          -0.006546578256710744,
          -0.004939017030435653,
          -0.004791396497222817,
          -0.00378187495718605,
          -0.003154323549830057,
          -0.0028164200421062283,
          -0.0021993588225320826,
          -0.0011796036704523859,
          0.00024641255670914547,
          0.0013152257380170292,
          0.00237456474132422,
          0.0030537643762731798,
          0.0050009946353837265,
          0.005095803760182368,
          0.006413496188272871,
          0.008403576601594704,
          0.00858163157553989,
          0.008911355729509577,
          0.010409334854161574,
          0.012935319531410253,
          0.013383340713302373,
          0.016042130477216417,
          0.016569380222950746,
          0.017095800226668848,
          0.018249899691878232,
          0.018673234682545125,
          0.01888644418411235,
          0.01913127503777814,
          0.019372986354161795,
          0.019984088574777407,
          0.08002148821356489,
          0.08025555760705927,
          0.08143442039179827,
          0.08188747688490179,
          0.08305524635444425,
          0.0834814943761732,
          0.08473291886371784,
          0.08572007767837074,
          0.08688510199443178,
          0.08706718965919731,
          0.08723354232681643,
          0.08740627476119078,
          0.08851666761289731,
          0.08851823184429758,
          0.08925068125708077,
          0.0902337828653523,
          0.09768626646312546,
          0.09830401084629507,
          0.09899088058182354,
          0.09984267449365537,
          0.10008577921588792,
          0.10110187000847509,
          0.10168858438675463,
          0.10250978435128605,
          0.10273359101295515,
          0.10301573424352108,
          0.10347290505226826,
          0.1046560860347549,
          0.10685730918887316,
          0.10711864417716148,
          0.10736683863238652,
          0.10771459361199336,
          0.10794179683465677,
          0.10802971715135401,
          0.1081639587894002,
          0.10830809009643795,
          0.10994038318014426,
          0.11010628041075732,
          0.11094680254402497,
          0.11184508504428789,
          0.11302838908645503,
          0.11378841096440201,
          0.11385588866937922,
          0.1152440306035136,
          0.1153074693234399,
          0.11537282758962301,
          0.11684293240934127,
          0.11822548835926122,
          0.11827578288871594,
          0.11918709283070282,
          0.2802445475781652,
          0.2819518684112234,
          0.28202524628120257,
          0.282495182582958,
          0.2827744430745155,
          0.28323081841854003,
          0.2860070971921928,
          0.28679392727883324,
          0.28701537416179895,
          0.2877558882041468,
          0.2892425893184965,
          0.2902221468956884,
          0.2908801506319596,
          0.2911688453800307,
          0.2914069924674795,
          0.292072361031151,
          0.29215145062166414,
          0.292806597715198,
          0.2947292957328055,
          0.2948290024858854,
          0.29519234197413663,
          0.2963093528944564,
          0.2968124382677256,
          0.29719014688436524,
          0.2989828744923737,
          0.29899148842871415,
          0.30015188738517684,
          0.3017487279885973,
          0.30221130859572926,
          0.30353071022560024,
          0.3036077121463561,
          0.30480291477951016,
          0.304957463251369,
          0.3054548901184106,
          0.3062843021662541,
          0.3066571525931745,
          0.3081242623507845,
          0.30855083397597216,
          0.3092793213582933,
          0.3108831527019695,
          0.3131983122302167,
          0.31336847048513905,
          0.31396554948956706,
          0.3151595651662526,
          0.3161804632217852,
          0.31627225824247024,
          0.3167302324062291,
          0.3169883935217501,
          0.31712021310426386,
          0.3189716209457517,
          0.38021349256432585,
          0.38027411939448846,
          0.38056062353493764,
          0.3805730517094238,
          0.38072663158263576,
          0.38123057004981187,
          0.3820111619758936,
          0.3827237329027461,
          0.38383595958313366,
          0.38416419247345357,
          0.3843166504416325,
          0.38450498194799443,
          0.38495054048519556,
          0.3865214513915063,
          0.3868871673753177,
          0.38903086613617144,
          0.38904467278026933,
          0.39052745453334825,
          0.39111144049650354,
          0.39156755510833446,
          0.3924388887807358,
          0.3928684981445397,
          0.39565196728878704,
          0.39614223779019136,
          0.39802198456546034,
          0.3980300745901497,
          0.3982261909538614,
          0.3988600096006452,
          0.4010695819038804,
          0.4013338673497841,
          0.40175325729007794,
          0.4023311831476144,
          0.40271870435657103,
          0.4031285035568635,
          0.40342115363023573,
          0.40537114184250406,
          0.40573567601787747,
          0.40685786763070975,
          0.4072885369514433,
          0.40729439092203945,
          0.4096124065356917,
          0.40988109877239876,
          0.41261937308142016,
          0.41301110318638157,
          0.4146786558604455,
          0.4155846517428294,
          0.4160343653175603,
          0.417698227338555,
          0.41824623198396627,
          0.4192171928668196,
          0.48032002960616366,
          0.4811225321744777,
          0.4817316188379471,
          0.48229628331169677,
          0.48519357166377963,
          0.48616882275975837,
          0.4864862618254661,
          0.48727980998322123,
          0.48728039400240725,
          0.48742592637898313,
          0.48752559814393637,
          0.4880686511278155,
          0.48838481366663267,
          0.490045785831496,
          0.4905085502715726,
          0.4914320371298556,
          0.4928166207846002,
          0.49397064663721024,
          0.49479682722052065,
          0.49527001889108974,
          0.49560370256336406,
          0.49580890717220233,
          0.4963270730812539,
          0.49910635383279695,
          0.4993362258354246,
          0.49936359038638517,
          0.49945932384581626,
          0.502787068870882,
          0.5035231120227093,
          0.5042117368070979,
          0.5047892993200811,
          0.5061917310312325,
          0.5062986160520094,
          0.5083444347724767,
          0.5087888081429147,
          0.5095035145648079,
          0.5106488417831762,
          0.511423004067755,
          0.5117892290748314,
          0.512629482897808,
          0.5128862599673294,
          0.5144936462898559,
          0.5145076254051066,
          0.5150021180750755,
          0.5159960537552901,
          0.5160922209956792,
          0.5173853185555632,
          0.5179378866171733,
          0.5190263447948984,
          0.5192095048931054,
          0.5803514845694587,
          0.5803586606566353,
          0.5807926996724373,
          0.5808536471660463,
          0.580886287144879,
          0.5810277776666086,
          0.5824925913629676,
          0.5825509757540022,
          0.5827393041338472,
          0.5831936164641269,
          0.5833326015083108,
          0.5835151641326071,
          0.5849350133118938,
          0.5850267937819814,
          0.5864455254678147,
          0.5875561609817461,
          0.5875912106432193,
          0.5888290321418533,
          0.5891704115303201,
          0.5898342612318616,
          0.591515514546112,
          0.5916328954737025,
          0.5924951210572219,
          0.5927913706429442,
          0.5932212200013667,
          0.593979121018828,
          0.5949618413222157,
          0.5958182066951992,
          0.5961385921634501,
          0.5984281252206057,
          0.5984817302442095,
          0.6006067352916681,
          0.6020985308954137,
          0.6038338979319331,
          0.6039440131106532,
          0.6052741385132799,
          0.6068752447373534,
          0.6074450400598963,
          0.6076603474076274,
          0.6083744728538023,
          0.6088581887543071,
          0.6109286540442732,
          0.6151277870925177,
          0.6167230147979532,
          0.617037819158205,
          0.6171949617613607,
          0.6175535822235577,
          0.6180585069883348,
          0.6195814849649184,
          0.6196692573713989,
          0.6800278630225779,
          0.6819343036655191,
          0.6826540043960141,
          0.6850205509191263,
          0.6861785088907938,
          0.6870792306407121,
          0.6873000762402095,
          0.6878472378392857,
          0.6913024585093938,
          0.6917785403224356,
          0.6919390290553314,
          0.6924891951343043,
          0.694030030904155,
          0.6951209385712742,
          0.6954273821804451,
          0.6958021033246148,
          0.6966979135575511,
          0.6967527741799805,
          0.6979135850437433,
          0.6994087928467986,
          0.6994857474588991,
          0.7005781376205407,
          0.701267361131712,
          0.7015609284320882,
          0.7023253908529484,
          0.7024010543912265,
          0.7028051025008898,
          0.7030253023373985,
          0.7033087200641763,
          0.7050080060977487,
          0.7051736852774186,
          0.7058384965566534,
          0.7070700165901582,
          0.7072445145347929,
          0.7074137683030084,
          0.7101522242781729,
          0.711979106834148,
          0.7123600802979242,
          0.7124253903777299,
          0.7127425142603953,
          0.712944335840581,
          0.7130770775916561,
          0.7145657294762451,
          0.7145958020330021,
          0.7155178116005344,
          0.7160873249524117,
          0.7194370185463861,
          0.7196201648992779,
          0.7196311017993628,
          0.719856249304135,
          0.7816087446914028,
          0.7829630654290843,
          0.7831475654951287,
          0.7832943595249597,
          0.7838635778236308,
          0.784206990032087,
          0.7844024228158244,
          0.7845099630920543,
          0.7846030898105099,
          0.7856107753815883,
          0.7860510753243571,
          0.7865733524752299,
          0.7866207069949919,
          0.7866441640884537,
          0.7873998585330181,
          0.7914822033335175,
          0.7916308909362707,
          0.7920956489042031,
          0.7936134152210348,
          0.7942973996917175,
          0.7953597633270747,
          0.7953946729909036,
          0.797178565574987,
          0.7990246750087595,
          0.8009481251504181,
          0.801647165954376,
          0.8027407967922968,
          0.8029675504288925,
          0.8039093841018338,
          0.8054277154558972,
          0.8056360503713244,
          0.8061475715203715,
          0.8068934473845235,
          0.8090742481155612,
          0.8100894680914553,
          0.8103673570626553,
          0.810699428933693,
          0.8107552540664146,
          0.8113647087498996,
          0.8115716524455492,
          0.8120666135369115,
          0.8127257913208034,
          0.812747142301691,
          0.8135856989165011,
          0.8150965110647158,
          0.815768482100287,
          0.8163870066942334,
          0.8172817741979451,
          0.8192930535789151,
          0.8199431330876826,
          0.8833975751595602,
          0.8852829997711726,
          0.8854482458700262,
          0.885927296342166,
          0.8859786513491078,
          0.8861354316821938,
          0.8861492007288504,
          0.8873215592449561,
          0.8874735389038977,
          0.887726553710743,
          0.8882383554998033,
          0.8888168355334264,
          0.8888263010563077,
          0.8896425005311287,
          0.8896743868130998,
          0.8897706062434134,
          0.8900279668343644,
          0.890052550391897,
          0.8917538278377545,
          0.8923778490904027,
          0.8927878334270279,
          0.8954503999848983,
          0.8971064059314255,
          0.8971079818666874,
          0.897605505135809,
          0.8995868831259982,
          0.8997884183024888,
          0.901558877192208,
          0.9018917618261797,
          0.9028687162612186,
          0.9028811178008643,
          0.9031238206721686,
          0.903650308955871,
          0.9041480625549698,
          0.90523533062797,
          0.906621237901853,
          0.9079489110295855,
          0.9085321779970448,
          0.9098275812641936,
          0.9104962757368031,
          0.9112755568885273,
          0.9113987600241701,
          0.9123399715972104,
          0.9150069023083954,
          0.9162961658391626,
          0.9172108694665589,
          0.9187934652807326,
          0.9194387218537851,
          0.9195603476826673,
          0.9199300496613175
         ],
         "xaxis": "x",
         "y": [
          10.209887702261257,
          10.203974156617868,
          10.197296425608783,
          10.195137761506363,
          10.192847954597921,
          10.187789443737994,
          10.173195080271865,
          10.171435007493574,
          10.156780034799711,
          10.142520007858385,
          10.113248696018085,
          10.110998169337718,
          10.0980647333265,
          10.097410310575068,
          10.096555352453596,
          10.081719372471216,
          10.077261163139184,
          10.060504216506617,
          10.034821187756084,
          10.022105986355047,
          10.012379912892182,
          9.988123599543815,
          9.985898554249276,
          9.97069301222203,
          9.961250147752924,
          9.956168635650373,
          9.946894414240353,
          9.93158298778673,
          9.910203115811328,
          9.89420259516799,
          9.87836396726143,
          9.868219409527374,
          9.839180343037208,
          9.837768140684744,
          9.818156912871315,
          9.788594916541163,
          9.785953245981059,
          9.781062784346199,
          9.758867777350725,
          9.72152557254071,
          9.71491331147478,
          9.675739599807192,
          9.667984753324562,
          9.660246514705369,
          9.64329684877285,
          9.637084778686159,
          9.633957173904939,
          9.63036658209838,
          9.626822652315932,
          9.617866803845244,
          8.758637102987379,
          8.755334698372064,
          8.738703844368418,
          8.732312850987409,
          8.715840921072123,
          8.709828823058785,
          8.692178616296312,
          8.678256181296659,
          8.661825479374894,
          8.659257443382135,
          8.65691132000031,
          8.654475216928217,
          8.638814811641428,
          8.63879275025564,
          8.628462416029635,
          8.614596473186035,
          8.509450945458214,
          8.500731340649631,
          8.49103507307822,
          8.479009183127971,
          8.47557664782993,
          8.461228331478402,
          8.452942102738156,
          8.441342689716334,
          8.43818111358094,
          8.43419525521091,
          8.427736292424589,
          8.411017346098646,
          8.379901417828442,
          8.37620620334238,
          8.372696578808991,
          8.367778751712093,
          8.364565498896159,
          8.363322025478723,
          8.361423368792911,
          8.359384766359481,
          8.336292316493031,
          8.333944783439913,
          8.32204937290865,
          8.309333553264846,
          8.292578282541719,
          8.281813659217589,
          8.280857822452163,
          8.261190388004449,
          8.260291388754942,
          8.259365169927001,
          8.238526989633456,
          8.218921366727317,
          8.218207997839643,
          8.20528020028545,
          5.871553408483302,
          5.851080454275902,
          5.850215025589721,
          5.8447018391969845,
          5.841449942733837,
          5.83617535865138,
          5.805206397137224,
          5.796797738660037,
          5.794461879727543,
          5.786750569542481,
          5.771743631832304,
          5.762211618330315,
          5.755970679216977,
          5.753274028561062,
          5.751068689744489,
          5.744999230652563,
          5.744286823754172,
          5.738459567610484,
          5.722119371196989,
          5.721302752463441,
          5.718352260086691,
          5.709527222072219,
          5.705671030717175,
          5.702822894947137,
          5.689826736008674,
          5.689766262390319,
          5.681947226580439,
          5.676953023184007,
          5.675647822617487,
          5.671950929931966,
          5.671736344183733,
          5.668421837957515,
          5.667995451210388,
          5.666626466409081,
          5.664355129473051,
          5.663338621575498,
          5.659365487227931,
          5.658218080757846,
          5.656266492422131,
          5.652004061593966,
          5.64592949892693,
          5.645486494657066,
          5.643935604429543,
          5.64085056073185,
          5.638229501891117,
          5.637994558275145,
          5.636824167518193,
          5.636165697961524,
          5.63582982944791,
          5.631136956601186,
          5.423990706610651,
          5.423745382790606,
          5.422588184532884,
          5.422538067589579,
          5.421919318461905,
          5.419896601704828,
          5.416787804568108,
          5.413977923216849,
          5.409651058259176,
          5.408388969187013,
          5.4078051770002915,
          5.4070861878564545,
          5.4053949822365785,
          5.39954986466509,
          5.398217257350434,
          5.390644012798457,
          5.390596635521288,
          5.385621036682381,
          5.383725078836904,
          5.382270398090357,
          5.379557082696407,
          5.378251786840241,
          5.3703395494271655,
          5.369046837037854,
          5.364377714878242,
          5.364358607920155,
          5.363898009436155,
          5.362443338499299,
          5.358994156440477,
          5.358737281282319,
          5.3583272785719425,
          5.3577574911062325,
          5.35737229444462,
          5.356962203951423,
          5.356667609981929,
          5.354667526934856,
          5.354286442067353,
          5.353099117244529,
          5.352637787336797,
          5.352631495056798,
          5.350095021952964,
          5.349795292036209,
          5.34667537027585,
          5.346219578461731,
          5.344254026971494,
          5.343169526656691,
          5.342627026802862,
          5.3405967017519895,
          5.3399203064600895,
          5.338712936192145,
          5.255344081070161,
          5.254357679309043,
          5.253610504190398,
          5.2529190170530535,
          5.249390675676541,
          5.248211099921746,
          5.247828108105436,
          5.2468728197218955,
          5.246872117812018,
          5.246697261425366,
          5.246577567852533,
          5.2459263197078245,
          5.245547873692218,
          5.243568651485498,
          5.243020018486709,
          5.2419290120941655,
          5.240303283151717,
          5.238957961631281,
          5.238000519334124,
          5.237454364627863,
          5.237070224199191,
          5.236834405605111,
          5.236240368489951,
          5.23309124384268,
          5.232833743743405,
          5.232803121877358,
          5.232696046077307,
          5.229028356731501,
          5.228232341248889,
          5.227492975101926,
          5.226876980671356,
          5.2253975502114445,
          5.22528577522817,
          5.223174564626347,
          5.222723362628919,
          5.222003475203063,
          5.220865319850154,
          5.2201072447762735,
          5.219751900754711,
          5.21894479026188,
          5.218700462743211,
          5.21719664575787,
          5.21718376622815,
          5.216730439680882,
          5.215832882239486,
          5.215747026742153,
          5.214610022377438,
          5.214134301793678,
          5.213215647480201,
          5.213063517097356,
          5.149003278615642,
          5.148993584609508,
          5.148408455184306,
          5.148326479180659,
          5.1482825963062675,
          5.1480925197460445,
          5.14613860898791,
          5.146061237579861,
          5.14583811867271,
          5.145237974483117,
          5.145054812299635,
          5.144814524494006,
          5.143590036205374,
          5.143531391417706,
          5.142549358289357,
          5.141402835565029,
          5.141356546771417,
          5.1403970195242925,
          5.14003324933603,
          5.139351925552875,
          5.137741706637629,
          5.137652524632416,
          5.136950500200406,
          5.136556492755965,
          5.135985595448269,
          5.135181519841566,
          5.134199539763619,
          5.133063836665292,
          5.132643766694243,
          5.130210291477942,
          5.130164699087231,
          5.127879219759907,
          5.126141965328448,
          5.12431203002324,
          5.124199143814893,
          5.122744035231229,
          5.120982463504509,
          5.120283286000424,
          5.120053913353549,
          5.119195477551284,
          5.1186593054047655,
          5.116439654450834,
          5.111752010699371,
          5.10993402795189,
          5.109581415168327,
          5.10940763838816,
          5.109004597032205,
          5.108445300494274,
          5.106784387718175,
          5.106687617577806,
          5.036772212337364,
          5.035835304411112,
          5.035479688544592,
          5.03430129452914,
          5.033719089808474,
          5.033263475824628,
          5.033151387146349,
          5.032873026098467,
          5.03109327849793,
          5.030845057387198,
          5.030761217750728,
          5.030473185694354,
          5.029661398144832,
          5.029082177171626,
          5.02891881274157,
          5.028718662649769,
          5.028238477086498,
          5.02820899237968,
          5.027583042831916,
          5.026771020252459,
          5.026729055495507,
          5.026131585433071,
          5.025752958262779,
          5.025591303572259,
          5.025169292394911,
          5.025127441343636,
          5.024903707297727,
          5.024781602301354,
          5.024624263797002,
          5.023676839811987,
          5.023584104968342,
          5.023211369117118,
          5.02251832920895,
          5.0224198681489085,
          5.0223243055688735,
          5.020770392820001,
          5.019726467887795,
          5.0195081150128695,
          5.019470661292995,
          5.019288710078983,
          5.019172838528011,
          5.019096596032057,
          5.0182399175186285,
          5.018222581780382,
          5.017690542982845,
          5.0173614178436114,
          5.015419295326624,
          5.015312850685482,
          5.015306493459813,
          5.015175606193089,
          4.980594434753398,
          4.979903792739246,
          4.979810012219173,
          4.979735450122402,
          4.979446765632975,
          4.979272942609135,
          4.979174136970913,
          4.979119803312241,
          4.979072772576482,
          4.978565107329488,
          4.978344005324339,
          4.9780823128907254,
          4.97805861655385,
          4.978046880484521,
          4.977669478729694,
          4.975654696864279,
          4.9755821074782975,
          4.975355584137784,
          4.974619807929977,
          4.974290256428671,
          4.973780940862297,
          4.973764257484491,
          4.972916276145958,
          4.9720482643227335,
          4.971154443549839,
          4.970832319368544,
          4.970331319749475,
          4.970227898471185,
          4.969800030780539,
          4.96911611838616,
          4.969022849181655,
          4.968794440814272,
          4.968462911796442,
          4.967504104400508,
          4.967063169856335,
          4.9669430818185,
          4.966799921653177,
          4.9667758914255575,
          4.966514234895511,
          4.9664256740788435,
          4.966214445015222,
          4.965934419140244,
          4.965925373479806,
          4.9655713185625325,
          4.964939386278356,
          4.9646607815441,
          4.964405673378122,
          4.964038895336037,
          4.963224207761856,
          4.96296377440769,
          4.9442246137962895,
          4.943864383100173,
          4.943833331329446,
          4.943743785511879,
          4.943734227840197,
          4.943705099527243,
          4.943702544968764,
          4.943487174154044,
          4.943459564125319,
          4.943413757277894,
          4.943321704704794,
          4.943218641404393,
          4.9432169637066385,
          4.943073356246789,
          4.94306778852742,
          4.943051006934077,
          4.943006264460172,
          4.943002001525907,
          4.94271164228362,
          4.942607447029363,
          4.942539666249814,
          4.942112472971405,
          4.941858044480395,
          4.9418578064256105,
          4.941783036498624,
          4.941492771769763,
          4.941463911438709,
          4.9412155366931065,
          4.94116985783171,
          4.941037635676893,
          4.941035974749952,
          4.941003557629274,
          4.94093380789559,
          4.9408685793331175,
          4.940728485041818,
          4.9405545944641105,
          4.940392845567611,
          4.940323259539453,
          4.940171887661115,
          4.940095446610112,
          4.940007808178957,
          4.939994094340138,
          4.939890599885755,
          4.939609530867033,
          4.939480079705458,
          4.939390763270984,
          4.939241170378753,
          4.939181976537927,
          4.939170935465293,
          4.939137600435926
         ],
         "yaxis": "y"
        }
       ],
       "layout": {
        "coloraxis": {
         "colorbar": {
          "title": {
           "text": "reward_patch_dim"
          }
         },
         "colorscale": [
          [
           0,
           "#0d0887"
          ],
          [
           0.1111111111111111,
           "#46039f"
          ],
          [
           0.2222222222222222,
           "#7201a8"
          ],
          [
           0.3333333333333333,
           "#9c179e"
          ],
          [
           0.4444444444444444,
           "#bd3786"
          ],
          [
           0.5555555555555556,
           "#d8576b"
          ],
          [
           0.6666666666666666,
           "#ed7953"
          ],
          [
           0.7777777777777778,
           "#fb9f3a"
          ],
          [
           0.8888888888888888,
           "#fdca26"
          ],
          [
           1,
           "#f0f921"
          ]
         ]
        },
        "legend": {
         "tracegroupgap": 0
        },
        "template": {
         "data": {
          "bar": [
           {
            "error_x": {
             "color": "#f2f5fa"
            },
            "error_y": {
             "color": "#f2f5fa"
            },
            "marker": {
             "line": {
              "color": "rgb(17,17,17)",
              "width": 0.5
             },
             "pattern": {
              "fillmode": "overlay",
              "size": 10,
              "solidity": 0.2
             }
            },
            "type": "bar"
           }
          ],
          "barpolar": [
           {
            "marker": {
             "line": {
              "color": "rgb(17,17,17)",
              "width": 0.5
             },
             "pattern": {
              "fillmode": "overlay",
              "size": 10,
              "solidity": 0.2
             }
            },
            "type": "barpolar"
           }
          ],
          "carpet": [
           {
            "aaxis": {
             "endlinecolor": "#A2B1C6",
             "gridcolor": "#506784",
             "linecolor": "#506784",
             "minorgridcolor": "#506784",
             "startlinecolor": "#A2B1C6"
            },
            "baxis": {
             "endlinecolor": "#A2B1C6",
             "gridcolor": "#506784",
             "linecolor": "#506784",
             "minorgridcolor": "#506784",
             "startlinecolor": "#A2B1C6"
            },
            "type": "carpet"
           }
          ],
          "choropleth": [
           {
            "colorbar": {
             "outlinewidth": 0,
             "ticks": ""
            },
            "type": "choropleth"
           }
          ],
          "contour": [
           {
            "colorbar": {
             "outlinewidth": 0,
             "ticks": ""
            },
            "colorscale": [
             [
              0,
              "#0d0887"
             ],
             [
              0.1111111111111111,
              "#46039f"
             ],
             [
              0.2222222222222222,
              "#7201a8"
             ],
             [
              0.3333333333333333,
              "#9c179e"
             ],
             [
              0.4444444444444444,
              "#bd3786"
             ],
             [
              0.5555555555555556,
              "#d8576b"
             ],
             [
              0.6666666666666666,
              "#ed7953"
             ],
             [
              0.7777777777777778,
              "#fb9f3a"
             ],
             [
              0.8888888888888888,
              "#fdca26"
             ],
             [
              1,
              "#f0f921"
             ]
            ],
            "type": "contour"
           }
          ],
          "contourcarpet": [
           {
            "colorbar": {
             "outlinewidth": 0,
             "ticks": ""
            },
            "type": "contourcarpet"
           }
          ],
          "heatmap": [
           {
            "colorbar": {
             "outlinewidth": 0,
             "ticks": ""
            },
            "colorscale": [
             [
              0,
              "#0d0887"
             ],
             [
              0.1111111111111111,
              "#46039f"
             ],
             [
              0.2222222222222222,
              "#7201a8"
             ],
             [
              0.3333333333333333,
              "#9c179e"
             ],
             [
              0.4444444444444444,
              "#bd3786"
             ],
             [
              0.5555555555555556,
              "#d8576b"
             ],
             [
              0.6666666666666666,
              "#ed7953"
             ],
             [
              0.7777777777777778,
              "#fb9f3a"
             ],
             [
              0.8888888888888888,
              "#fdca26"
             ],
             [
              1,
              "#f0f921"
             ]
            ],
            "type": "heatmap"
           }
          ],
          "heatmapgl": [
           {
            "colorbar": {
             "outlinewidth": 0,
             "ticks": ""
            },
            "colorscale": [
             [
              0,
              "#0d0887"
             ],
             [
              0.1111111111111111,
              "#46039f"
             ],
             [
              0.2222222222222222,
              "#7201a8"
             ],
             [
              0.3333333333333333,
              "#9c179e"
             ],
             [
              0.4444444444444444,
              "#bd3786"
             ],
             [
              0.5555555555555556,
              "#d8576b"
             ],
             [
              0.6666666666666666,
              "#ed7953"
             ],
             [
              0.7777777777777778,
              "#fb9f3a"
             ],
             [
              0.8888888888888888,
              "#fdca26"
             ],
             [
              1,
              "#f0f921"
             ]
            ],
            "type": "heatmapgl"
           }
          ],
          "histogram": [
           {
            "marker": {
             "pattern": {
              "fillmode": "overlay",
              "size": 10,
              "solidity": 0.2
             }
            },
            "type": "histogram"
           }
          ],
          "histogram2d": [
           {
            "colorbar": {
             "outlinewidth": 0,
             "ticks": ""
            },
            "colorscale": [
             [
              0,
              "#0d0887"
             ],
             [
              0.1111111111111111,
              "#46039f"
             ],
             [
              0.2222222222222222,
              "#7201a8"
             ],
             [
              0.3333333333333333,
              "#9c179e"
             ],
             [
              0.4444444444444444,
              "#bd3786"
             ],
             [
              0.5555555555555556,
              "#d8576b"
             ],
             [
              0.6666666666666666,
              "#ed7953"
             ],
             [
              0.7777777777777778,
              "#fb9f3a"
             ],
             [
              0.8888888888888888,
              "#fdca26"
             ],
             [
              1,
              "#f0f921"
             ]
            ],
            "type": "histogram2d"
           }
          ],
          "histogram2dcontour": [
           {
            "colorbar": {
             "outlinewidth": 0,
             "ticks": ""
            },
            "colorscale": [
             [
              0,
              "#0d0887"
             ],
             [
              0.1111111111111111,
              "#46039f"
             ],
             [
              0.2222222222222222,
              "#7201a8"
             ],
             [
              0.3333333333333333,
              "#9c179e"
             ],
             [
              0.4444444444444444,
              "#bd3786"
             ],
             [
              0.5555555555555556,
              "#d8576b"
             ],
             [
              0.6666666666666666,
              "#ed7953"
             ],
             [
              0.7777777777777778,
              "#fb9f3a"
             ],
             [
              0.8888888888888888,
              "#fdca26"
             ],
             [
              1,
              "#f0f921"
             ]
            ],
            "type": "histogram2dcontour"
           }
          ],
          "mesh3d": [
           {
            "colorbar": {
             "outlinewidth": 0,
             "ticks": ""
            },
            "type": "mesh3d"
           }
          ],
          "parcoords": [
           {
            "line": {
             "colorbar": {
              "outlinewidth": 0,
              "ticks": ""
             }
            },
            "type": "parcoords"
           }
          ],
          "pie": [
           {
            "automargin": true,
            "type": "pie"
           }
          ],
          "scatter": [
           {
            "marker": {
             "line": {
              "color": "#283442"
             }
            },
            "type": "scatter"
           }
          ],
          "scatter3d": [
           {
            "line": {
             "colorbar": {
              "outlinewidth": 0,
              "ticks": ""
             }
            },
            "marker": {
             "colorbar": {
              "outlinewidth": 0,
              "ticks": ""
             }
            },
            "type": "scatter3d"
           }
          ],
          "scattercarpet": [
           {
            "marker": {
             "colorbar": {
              "outlinewidth": 0,
              "ticks": ""
             }
            },
            "type": "scattercarpet"
           }
          ],
          "scattergeo": [
           {
            "marker": {
             "colorbar": {
              "outlinewidth": 0,
              "ticks": ""
             }
            },
            "type": "scattergeo"
           }
          ],
          "scattergl": [
           {
            "marker": {
             "line": {
              "color": "#283442"
             }
            },
            "type": "scattergl"
           }
          ],
          "scattermapbox": [
           {
            "marker": {
             "colorbar": {
              "outlinewidth": 0,
              "ticks": ""
             }
            },
            "type": "scattermapbox"
           }
          ],
          "scatterpolar": [
           {
            "marker": {
             "colorbar": {
              "outlinewidth": 0,
              "ticks": ""
             }
            },
            "type": "scatterpolar"
           }
          ],
          "scatterpolargl": [
           {
            "marker": {
             "colorbar": {
              "outlinewidth": 0,
              "ticks": ""
             }
            },
            "type": "scatterpolargl"
           }
          ],
          "scatterternary": [
           {
            "marker": {
             "colorbar": {
              "outlinewidth": 0,
              "ticks": ""
             }
            },
            "type": "scatterternary"
           }
          ],
          "surface": [
           {
            "colorbar": {
             "outlinewidth": 0,
             "ticks": ""
            },
            "colorscale": [
             [
              0,
              "#0d0887"
             ],
             [
              0.1111111111111111,
              "#46039f"
             ],
             [
              0.2222222222222222,
              "#7201a8"
             ],
             [
              0.3333333333333333,
              "#9c179e"
             ],
             [
              0.4444444444444444,
              "#bd3786"
             ],
             [
              0.5555555555555556,
              "#d8576b"
             ],
             [
              0.6666666666666666,
              "#ed7953"
             ],
             [
              0.7777777777777778,
              "#fb9f3a"
             ],
             [
              0.8888888888888888,
              "#fdca26"
             ],
             [
              1,
              "#f0f921"
             ]
            ],
            "type": "surface"
           }
          ],
          "table": [
           {
            "cells": {
             "fill": {
              "color": "#506784"
             },
             "line": {
              "color": "rgb(17,17,17)"
             }
            },
            "header": {
             "fill": {
              "color": "#2a3f5f"
             },
             "line": {
              "color": "rgb(17,17,17)"
             }
            },
            "type": "table"
           }
          ]
         },
         "layout": {
          "annotationdefaults": {
           "arrowcolor": "#f2f5fa",
           "arrowhead": 0,
           "arrowwidth": 1
          },
          "autotypenumbers": "strict",
          "coloraxis": {
           "colorbar": {
            "outlinewidth": 0,
            "ticks": ""
           }
          },
          "colorscale": {
           "diverging": [
            [
             0,
             "#8e0152"
            ],
            [
             0.1,
             "#c51b7d"
            ],
            [
             0.2,
             "#de77ae"
            ],
            [
             0.3,
             "#f1b6da"
            ],
            [
             0.4,
             "#fde0ef"
            ],
            [
             0.5,
             "#f7f7f7"
            ],
            [
             0.6,
             "#e6f5d0"
            ],
            [
             0.7,
             "#b8e186"
            ],
            [
             0.8,
             "#7fbc41"
            ],
            [
             0.9,
             "#4d9221"
            ],
            [
             1,
             "#276419"
            ]
           ],
           "sequential": [
            [
             0,
             "#0d0887"
            ],
            [
             0.1111111111111111,
             "#46039f"
            ],
            [
             0.2222222222222222,
             "#7201a8"
            ],
            [
             0.3333333333333333,
             "#9c179e"
            ],
            [
             0.4444444444444444,
             "#bd3786"
            ],
            [
             0.5555555555555556,
             "#d8576b"
            ],
            [
             0.6666666666666666,
             "#ed7953"
            ],
            [
             0.7777777777777778,
             "#fb9f3a"
            ],
            [
             0.8888888888888888,
             "#fdca26"
            ],
            [
             1,
             "#f0f921"
            ]
           ],
           "sequentialminus": [
            [
             0,
             "#0d0887"
            ],
            [
             0.1111111111111111,
             "#46039f"
            ],
            [
             0.2222222222222222,
             "#7201a8"
            ],
            [
             0.3333333333333333,
             "#9c179e"
            ],
            [
             0.4444444444444444,
             "#bd3786"
            ],
            [
             0.5555555555555556,
             "#d8576b"
            ],
            [
             0.6666666666666666,
             "#ed7953"
            ],
            [
             0.7777777777777778,
             "#fb9f3a"
            ],
            [
             0.8888888888888888,
             "#fdca26"
            ],
            [
             1,
             "#f0f921"
            ]
           ]
          },
          "colorway": [
           "#636efa",
           "#EF553B",
           "#00cc96",
           "#ab63fa",
           "#FFA15A",
           "#19d3f3",
           "#FF6692",
           "#B6E880",
           "#FF97FF",
           "#FECB52"
          ],
          "font": {
           "color": "#f2f5fa"
          },
          "geo": {
           "bgcolor": "rgb(17,17,17)",
           "lakecolor": "rgb(17,17,17)",
           "landcolor": "rgb(17,17,17)",
           "showlakes": true,
           "showland": true,
           "subunitcolor": "#506784"
          },
          "hoverlabel": {
           "align": "left"
          },
          "hovermode": "closest",
          "mapbox": {
           "style": "dark"
          },
          "paper_bgcolor": "rgb(17,17,17)",
          "plot_bgcolor": "rgb(17,17,17)",
          "polar": {
           "angularaxis": {
            "gridcolor": "#506784",
            "linecolor": "#506784",
            "ticks": ""
           },
           "bgcolor": "rgb(17,17,17)",
           "radialaxis": {
            "gridcolor": "#506784",
            "linecolor": "#506784",
            "ticks": ""
           }
          },
          "scene": {
           "xaxis": {
            "backgroundcolor": "rgb(17,17,17)",
            "gridcolor": "#506784",
            "gridwidth": 2,
            "linecolor": "#506784",
            "showbackground": true,
            "ticks": "",
            "zerolinecolor": "#C8D4E3"
           },
           "yaxis": {
            "backgroundcolor": "rgb(17,17,17)",
            "gridcolor": "#506784",
            "gridwidth": 2,
            "linecolor": "#506784",
            "showbackground": true,
            "ticks": "",
            "zerolinecolor": "#C8D4E3"
           },
           "zaxis": {
            "backgroundcolor": "rgb(17,17,17)",
            "gridcolor": "#506784",
            "gridwidth": 2,
            "linecolor": "#506784",
            "showbackground": true,
            "ticks": "",
            "zerolinecolor": "#C8D4E3"
           }
          },
          "shapedefaults": {
           "line": {
            "color": "#f2f5fa"
           }
          },
          "sliderdefaults": {
           "bgcolor": "#C8D4E3",
           "bordercolor": "rgb(17,17,17)",
           "borderwidth": 1,
           "tickwidth": 0
          },
          "ternary": {
           "aaxis": {
            "gridcolor": "#506784",
            "linecolor": "#506784",
            "ticks": ""
           },
           "baxis": {
            "gridcolor": "#506784",
            "linecolor": "#506784",
            "ticks": ""
           },
           "bgcolor": "rgb(17,17,17)",
           "caxis": {
            "gridcolor": "#506784",
            "linecolor": "#506784",
            "ticks": ""
           }
          },
          "title": {
           "x": 0.05
          },
          "updatemenudefaults": {
           "bgcolor": "#506784",
           "borderwidth": 0
          },
          "xaxis": {
           "automargin": true,
           "gridcolor": "#283442",
           "linecolor": "#506784",
           "ticks": "",
           "title": {
            "standoff": 15
           },
           "zerolinecolor": "#283442",
           "zerolinewidth": 2
          },
          "yaxis": {
           "automargin": true,
           "gridcolor": "#283442",
           "linecolor": "#506784",
           "ticks": "",
           "title": {
            "standoff": 15
           },
           "zerolinecolor": "#283442",
           "zerolinewidth": 2
          }
         }
        },
        "title": {
         "text": "Trust vs time to first food"
        },
        "xaxis": {
         "anchor": "y",
         "domain": [
          0,
          1
         ],
         "title": {
          "text": "c_trust_jittered"
         }
        },
        "yaxis": {
         "anchor": "x",
         "domain": [
          0,
          1
         ],
         "range": [
          0,
          15
         ],
         "title": {
          "text": "time to first food"
         }
        }
       }
      }
     },
     "metadata": {},
     "output_type": "display_data"
    }
   ],
   "source": [
    "# let's take a closer look\n",
    "\n",
    "fig.update_yaxes(range=[0, 15])\n",
    "fig.show()"
   ]
  },
  {
   "cell_type": "code",
   "execution_count": 52,
   "metadata": {},
   "outputs": [],
   "source": [
    "trust = torch.tensor(impactDF[\"c_trust\"].values.astype(float))\n",
    "patch = torch.tensor(impactDF[\"reward_patch_dim\"].values.astype(float))\n",
    "time = torch.tensor(impactDF[\"time to first food\"].values.astype(float))\n",
    "\n"
   ]
  },
  {
   "cell_type": "code",
   "execution_count": 54,
   "metadata": {},
   "outputs": [],
   "source": [
    "def model(trust, patch, time):\n",
    "    w_trust = pyro.sample(\"weight_trust\", dist.Normal(0., 1.))\n",
    "    w_patch = pyro.sample(\"weight_patch\", dist.Normal(0., 1.))\n",
    "    bias = pyro.sample(\"bias\", dist.Normal(5., 4.))\n",
    "\n",
    "    sd = pyro.sample(\"sd\", dist.Exponential(.5))\n",
    "\n",
    "    mu = w_trust * trust + w_patch * patch + bias\n",
    "\n",
    "    with pyro.plate(\"data\", len(time)):\n",
    "        pyro.sample(\"obs\", dist.Normal(mu, sd), obs=time)\n"
   ]
  },
  {
   "cell_type": "code",
   "execution_count": 60,
   "metadata": {},
   "outputs": [
    {
     "name": "stdout",
     "output_type": "stream",
     "text": [
      "Iteration 100/2000, Loss: 1575.86\n",
      "Iteration 200/2000, Loss: 1572.45\n",
      "Iteration 300/2000, Loss: 1562.77\n",
      "Iteration 400/2000, Loss: 1561.19\n",
      "Iteration 500/2000, Loss: 1560.23\n",
      "Iteration 600/2000, Loss: 1561.13\n",
      "Iteration 700/2000, Loss: 1556.95\n",
      "Iteration 800/2000, Loss: 1559.20\n",
      "Iteration 900/2000, Loss: 1558.42\n",
      "Iteration 1000/2000, Loss: 1554.13\n",
      "Iteration 1100/2000, Loss: 1559.52\n",
      "Iteration 1200/2000, Loss: 1556.59\n",
      "Iteration 1300/2000, Loss: 1556.48\n",
      "Iteration 1400/2000, Loss: 1558.47\n",
      "Iteration 1500/2000, Loss: 1557.21\n",
      "Iteration 1600/2000, Loss: 1556.44\n",
      "Iteration 1700/2000, Loss: 1557.21\n",
      "Iteration 1800/2000, Loss: 1553.91\n",
      "Iteration 1900/2000, Loss: 1556.69\n",
      "Iteration 2000/2000, Loss: 1557.57\n"
     ]
    }
   ],
   "source": [
    "guide = AutoMultivariateNormal(model)\n",
    "\n",
    "pyro.clear_param_store()\n",
    "svi = SVI(model, guide, Adam({\"lr\": 0.03}), loss=Trace_ELBO())\n",
    "\n",
    "num_iterations = 2000\n",
    "for i in range(num_iterations):\n",
    "    loss = svi.step(trust, patch, time)\n",
    "    if (i + 1) % 100 == 0:\n",
    "        print(f\"Iteration {i + 1}/{num_iterations}, Loss: {loss:.2f}\")\n"
   ]
  },
  {
   "cell_type": "code",
   "execution_count": 68,
   "metadata": {},
   "outputs": [],
   "source": [
    "predictive = Predictive(model, guide=guide, num_samples=1000)\n",
    "samples = predictive(trust, patch, time)"
   ]
  },
  {
   "cell_type": "code",
   "execution_count": 80,
   "metadata": {},
   "outputs": [
    {
     "data": {
      "application/vnd.plotly.v1+json": {
       "config": {
        "plotlyServerURL": "https://plot.ly"
       },
       "data": [
        {
         "alignmentgroup": "True",
         "bingroup": "x",
         "hovertemplate": "variable=0<br>value=%{x}<br>count=%{y}<extra></extra>",
         "legendgroup": "0",
         "marker": {
          "color": "#636efa",
          "pattern": {
           "shape": ""
          }
         },
         "name": "0",
         "offsetgroup": "0",
         "orientation": "v",
         "showlegend": false,
         "type": "histogram",
         "x": [
          -4.44868278503418,
          -4.187306880950928,
          -4.044538497924805,
          -3.6068451404571533,
          -5.194558143615723,
          -2.916632652282715,
          -2.8127658367156982,
          -4.26273775100708,
          -3.293830633163452,
          -3.3310751914978027,
          -4.093082904815674,
          -3.729578971862793,
          -3.9652748107910156,
          -3.335305690765381,
          -4.333910942077637,
          -4.743678092956543,
          -4.871384620666504,
          -3.4184281826019287,
          -4.070679664611816,
          -3.434324264526367,
          -4.0794196128845215,
          -2.27516508102417,
          -4.994385719299316,
          -3.4939510822296143,
          -3.2251720428466797,
          -3.191418409347534,
          -3.452440023422241,
          -4.012547492980957,
          -4.192674160003662,
          -4.50034236907959,
          -4.813630104064941,
          -3.1563303470611572,
          -4.343188285827637,
          -3.6773903369903564,
          -4.147784233093262,
          -2.9136295318603516,
          -3.244528293609619,
          -5.64786434173584,
          -3.918524742126465,
          -3.5905063152313232,
          -3.3527276515960693,
          -4.846875190734863,
          -5.067293167114258,
          -3.9787886142730713,
          -3.385236978530884,
          -6.288943290710449,
          -3.097644805908203,
          -3.115151882171631,
          -2.953136444091797,
          -5.194268226623535,
          -3.8213541507720947,
          -4.136953353881836,
          -4.05398416519165,
          -4.832179069519043,
          -4.163895130157471,
          -5.679693698883057,
          -3.697610855102539,
          -4.385747909545898,
          -4.535751819610596,
          -3.19075608253479,
          -3.9452028274536133,
          -4.361264228820801,
          -3.7153801918029785,
          -3.529283285140991,
          -3.9892258644104004,
          -4.446622371673584,
          -2.0652832984924316,
          -4.179162979125977,
          -4.989113807678223,
          -3.5863606929779053,
          -5.8207807540893555,
          -2.846122980117798,
          -3.3663687705993652,
          -4.152933597564697,
          -4.64534854888916,
          -3.220900535583496,
          -3.8705086708068848,
          -3.385664463043213,
          -3.576342821121216,
          -4.858184814453125,
          -2.570753335952759,
          -4.303433895111084,
          -3.5894057750701904,
          -4.829315185546875,
          -6.981334686279297,
          -4.181757926940918,
          -4.893890380859375,
          -3.464548110961914,
          -2.683103561401367,
          -4.318999290466309,
          -3.761465072631836,
          -3.9499635696411133,
          -4.292909145355225,
          -4.804664134979248,
          -3.6986069679260254,
          -4.400707244873047,
          -1.4883294105529785,
          -3.824880838394165,
          -3.7896034717559814,
          -3.8108837604522705,
          -3.782266139984131,
          -4.851528167724609,
          -3.5076475143432617,
          -5.350872039794922,
          -4.323222637176514,
          -4.694155693054199,
          -4.750030517578125,
          -3.5967907905578613,
          -3.6237940788269043,
          -4.168039321899414,
          -4.6139397621154785,
          -4.551799774169922,
          -3.0094404220581055,
          -4.0389580726623535,
          -5.033944129943848,
          -3.665691375732422,
          -4.645591735839844,
          -4.007342338562012,
          -5.06732702255249,
          -3.684276580810547,
          -3.752354383468628,
          -4.235391139984131,
          -3.78049898147583,
          -3.9333457946777344,
          -4.193227291107178,
          -3.4871578216552734,
          -5.085632801055908,
          -4.0815749168396,
          -2.8624229431152344,
          -4.957630157470703,
          -3.9328649044036865,
          -4.5109782218933105,
          -4.113734245300293,
          -3.814326047897339,
          -4.174182415008545,
          -4.390530586242676,
          -4.666264533996582,
          -4.091949462890625,
          -4.580450534820557,
          -4.407656192779541,
          -3.2751646041870117,
          -4.000057697296143,
          -2.609437942504883,
          -3.700345754623413,
          -3.8070759773254395,
          -4.209607124328613,
          -2.739570379257202,
          -4.484793186187744,
          -5.265594959259033,
          -4.290574550628662,
          -3.8402903079986572,
          -4.5648932456970215,
          -3.6268882751464844,
          -3.6253271102905273,
          -3.283524990081787,
          -4.781597137451172,
          -4.398370742797852,
          -3.4986915588378906,
          -2.841243267059326,
          -3.722320318222046,
          -3.580056667327881,
          -3.385770320892334,
          -3.9011425971984863,
          -4.3501667976379395,
          -4.300267696380615,
          -5.057773113250732,
          -5.044669151306152,
          -4.296933174133301,
          -4.587602138519287,
          -2.2692041397094727,
          -2.7649714946746826,
          -5.239352226257324,
          -4.143618583679199,
          -3.8294692039489746,
          -5.278416156768799,
          -5.60902214050293,
          -2.1107845306396484,
          -4.0415215492248535,
          -4.132399082183838,
          -3.221468210220337,
          -3.151909589767456,
          -3.4688949584960938,
          -5.877993583679199,
          -3.4411332607269287,
          -5.1866278648376465,
          -4.033912181854248,
          -2.5661044120788574,
          -4.128044128417969,
          -5.285309314727783,
          -4.0689005851745605,
          -3.49399471282959,
          -3.5108401775360107,
          -3.064188003540039,
          -4.509788513183594,
          -3.781665563583374,
          -4.235343933105469,
          -4.450960159301758,
          -4.7693772315979,
          -4.632064342498779,
          -5.0602521896362305,
          -5.30750036239624,
          -3.7035837173461914,
          -5.629083633422852,
          -4.361603260040283,
          -5.04286003112793,
          -5.326347351074219,
          -5.353323936462402,
          -3.629549026489258,
          -5.024794578552246,
          -2.970578193664551,
          -3.6398918628692627,
          -4.0455098152160645,
          -4.330948829650879,
          -3.780179023742676,
          -3.5760536193847656,
          -5.7843499183654785,
          -4.7911224365234375,
          -4.49116849899292,
          -3.5925073623657227,
          -5.4258928298950195,
          -3.5938079357147217,
          -4.018598556518555,
          -4.752462863922119,
          -4.282090663909912,
          -3.4808778762817383,
          -3.438305377960205,
          -3.145266532897949,
          -4.278470516204834,
          -3.7333340644836426,
          -3.477544069290161,
          -4.108772277832031,
          -4.850652694702148,
          -3.8495657444000244,
          -3.1952366828918457,
          -4.64967155456543,
          -4.200037002563477,
          -4.500478267669678,
          -3.0749423503875732,
          -3.8024024963378906,
          -3.0067100524902344,
          -3.2453293800354004,
          -4.114885330200195,
          -3.942305088043213,
          -5.318296432495117,
          -3.311633825302124,
          -4.102574825286865,
          -3.5587081909179688,
          -3.4734466075897217,
          -4.841834545135498,
          -2.8923187255859375,
          -4.541512489318848,
          -3.3825697898864746,
          -4.107626914978027,
          -3.549626350402832,
          -3.21394419670105,
          -4.5503621101379395,
          -4.6069416999816895,
          -4.226442337036133,
          -3.8859705924987793,
          -3.2109508514404297,
          -4.614078044891357,
          -3.6802921295166016,
          -4.495110988616943,
          -3.7599446773529053,
          -2.2875547409057617,
          -4.679474353790283,
          -4.736623764038086,
          -4.183589935302734,
          -2.4980411529541016,
          -5.1797943115234375,
          -4.418253421783447,
          -3.5030088424682617,
          -3.8750429153442383,
          -4.504076957702637,
          -4.169829368591309,
          -4.517211437225342,
          -3.9183456897735596,
          -2.740511894226074,
          -2.360154151916504,
          -3.4379613399505615,
          -5.3393120765686035,
          -3.5726704597473145,
          -1.509094476699829,
          -3.738170623779297,
          -4.161931991577148,
          -5.1682820320129395,
          -4.142496109008789,
          -5.142621040344238,
          -3.298389196395874,
          -4.5304107666015625,
          -3.108274221420288,
          -3.2162599563598633,
          -5.284693241119385,
          -4.655151844024658,
          -4.066650390625,
          -4.504793643951416,
          -5.456594467163086,
          -3.745983600616455,
          -3.5958993434906006,
          -4.780825614929199,
          -6.101051330566406,
          -6.475450038909912,
          -3.6286489963531494,
          -3.8038766384124756,
          -4.9516096115112305,
          -3.16796612739563,
          -2.4559617042541504,
          -3.8360188007354736,
          -4.937745571136475,
          -3.87591552734375,
          -3.7890515327453613,
          -2.8798811435699463,
          -1.1914124488830566,
          -3.6749186515808105,
          -2.9487338066101074,
          -3.961575508117676,
          -3.990274667739868,
          -3.0296733379364014,
          -3.906586170196533,
          -3.8498423099517822,
          -3.1825718879699707,
          -4.6560845375061035,
          -4.515316486358643,
          -3.8839192390441895,
          -4.706162452697754,
          -3.074808359146118,
          -2.6894075870513916,
          -2.873394012451172,
          -4.216421604156494,
          -4.482885837554932,
          -4.4249267578125,
          -3.2340707778930664,
          -3.0770998001098633,
          -5.417483329772949,
          -3.5667614936828613,
          -3.9850969314575195,
          -5.013187885284424,
          -4.028605937957764,
          -4.420836925506592,
          -3.968912124633789,
          -6.381159782409668,
          -6.4113616943359375,
          -2.2620935440063477,
          -4.244895935058594,
          -5.255118370056152,
          -2.4691741466522217,
          -3.1775357723236084,
          -4.006110668182373,
          -3.868941068649292,
          -2.9585959911346436,
          -5.158984184265137,
          -3.9617674350738525,
          -4.654707431793213,
          -3.567448616027832,
          -4.16738224029541,
          -2.928445339202881,
          -4.311798572540283,
          -3.9666943550109863,
          -4.829824924468994,
          -4.117818832397461,
          -3.301257848739624,
          -3.392879009246826,
          -5.057468891143799,
          -4.067466735839844,
          -2.9936156272888184,
          -3.6868093013763428,
          -3.5590529441833496,
          -5.195467948913574,
          -3.539029121398926,
          -4.569895267486572,
          -4.794980049133301,
          -4.74547004699707,
          -3.9290354251861572,
          -4.2219038009643555,
          -5.042080879211426,
          -5.250879287719727,
          -5.263359546661377,
          -4.453479290008545,
          -3.264552116394043,
          -4.560750961303711,
          -2.3193869590759277,
          -5.42567777633667,
          -3.609652042388916,
          -3.624593496322632,
          -5.087364196777344,
          -3.3143558502197266,
          -2.5499019622802734,
          -2.9392313957214355,
          -6.124660491943359,
          -4.293767929077148,
          -4.922377109527588,
          -3.5312435626983643,
          -3.074767589569092,
          -4.698587417602539,
          -3.701000452041626,
          -5.271048545837402,
          -2.366309642791748,
          -4.135405540466309,
          -1.7263836860656738,
          -4.439690589904785,
          -5.290249347686768,
          -4.926743984222412,
          -5.249166488647461,
          -3.286795139312744,
          -2.847904682159424,
          -5.333224296569824,
          -3.6254634857177734,
          -5.010798931121826,
          -4.5419158935546875,
          -3.945950984954834,
          -4.974842548370361,
          -4.7579498291015625,
          -3.796914577484131,
          -2.583827495574951,
          -2.2559900283813477,
          -3.01474928855896,
          -2.5079755783081055,
          -4.6099772453308105,
          -4.538805961608887,
          -2.7789900302886963,
          -5.438704967498779,
          -4.5334882736206055,
          -4.605119705200195,
          -4.150075435638428,
          -5.066566467285156,
          -4.055141925811768,
          -5.02482795715332,
          -3.775876522064209,
          -4.012248992919922,
          -3.6991820335388184,
          -3.759012222290039,
          -5.322473526000977,
          -3.7140886783599854,
          -1.7743680477142334,
          -5.212355136871338,
          -2.6873221397399902,
          -3.6969213485717773,
          -4.029901504516602,
          -4.106827259063721,
          -3.4333977699279785,
          -2.1665611267089844,
          -5.293467998504639,
          -4.087076663970947,
          -3.670325517654419,
          -3.625016450881958,
          -4.190179824829102,
          -4.203423976898193,
          -5.371644973754883,
          -5.096874713897705,
          -4.20039701461792,
          -5.080552101135254,
          -4.773910999298096,
          -5.121236324310303,
          -4.641547203063965,
          -4.798882961273193,
          -2.6922388076782227,
          -5.2238078117370605,
          -2.769254684448242,
          -3.8744614124298096,
          -5.842372417449951,
          -4.658785343170166,
          -3.3191263675689697,
          -3.0032999515533447,
          -4.190798759460449,
          -3.9505724906921387,
          -3.1279635429382324,
          -4.447401523590088,
          -4.009467601776123,
          -4.48192834854126,
          -3.1713004112243652,
          -2.8808658123016357,
          -4.684628486633301,
          -3.1029231548309326,
          -5.000059604644775,
          -4.492945671081543,
          -4.781708717346191,
          -4.512236595153809,
          -3.387732744216919,
          -3.327826499938965,
          -4.046086311340332,
          -5.3013715744018555,
          -4.627708435058594,
          -3.37660551071167,
          -5.220854759216309,
          -5.242526054382324,
          -4.447803020477295,
          -4.665926933288574,
          -4.462839603424072,
          -5.213494777679443,
          -5.555253982543945,
          -2.9520063400268555,
          -4.5504961013793945,
          -3.334787368774414,
          -3.6187007427215576,
          -2.902409076690674,
          -3.449955701828003,
          -3.227423667907715,
          -3.8747971057891846,
          -3.725527763366699,
          -4.477840423583984,
          -3.99527907371521,
          -1.3450887203216553,
          -1.7669997215270996,
          -3.5221214294433594,
          -3.3119678497314453,
          -3.3741655349731445,
          -4.396466255187988,
          -3.2104086875915527,
          -4.256261825561523,
          -2.3471686840057373,
          -3.9232778549194336,
          -4.223947048187256,
          -2.765745162963867,
          -3.3607921600341797,
          -4.396815299987793,
          -4.8928446769714355,
          -3.1926727294921875,
          -4.736679553985596,
          -4.083749771118164,
          -4.388671875,
          -4.599356174468994,
          -3.23954176902771,
          -4.545161724090576,
          -4.710259914398193,
          -4.044691562652588,
          -4.462871551513672,
          -3.859391212463379,
          -4.325222492218018,
          -3.8650975227355957,
          -3.7124645709991455,
          -3.7730367183685303,
          -3.0636463165283203,
          -4.605618953704834,
          -2.907221794128418,
          -3.615154981613159,
          -5.472635269165039,
          -4.496006011962891,
          -3.6436715126037598,
          -3.334493637084961,
          -5.009297847747803,
          -4.826815128326416,
          -4.396272659301758,
          -3.89416241645813,
          -3.098052978515625,
          -3.9047133922576904,
          -3.3991477489471436,
          -4.774534225463867,
          -5.326459884643555,
          -3.2747957706451416,
          -3.97654128074646,
          -5.978093147277832,
          -4.449581623077393,
          -3.026566505432129,
          -3.9414713382720947,
          -4.560662746429443,
          -4.720726490020752,
          -4.498485088348389,
          -4.7237443923950195,
          -4.0647735595703125,
          -3.2512927055358887,
          -1.9987022876739502,
          -3.294203758239746,
          -5.0293755531311035,
          -5.112644672393799,
          -4.7054314613342285,
          -2.875673294067383,
          -3.6275744438171387,
          -2.634068489074707,
          -5.347456932067871,
          -2.951322317123413,
          -4.070123672485352,
          -5.822800159454346,
          -4.522061347961426,
          -4.285027027130127,
          -4.963770389556885,
          -3.7181053161621094,
          -5.008466720581055,
          -3.92246675491333,
          -2.116771936416626,
          -4.924919605255127,
          -4.670746326446533,
          -4.039860248565674,
          -4.383362770080566,
          -4.78160285949707,
          -5.27738618850708,
          -2.5594377517700195,
          -3.2717385292053223,
          -3.6469743251800537,
          -3.8018035888671875,
          -3.1968541145324707,
          -3.031494617462158,
          -3.578451633453369,
          -4.42772912979126,
          -2.5364742279052734,
          -4.013243675231934,
          -4.713054180145264,
          -5.008286476135254,
          -3.7715821266174316,
          -3.3427698612213135,
          -4.3766889572143555,
          -3.065514087677002,
          -4.713070869445801,
          -2.946197032928467,
          -3.6097447872161865,
          -3.6629443168640137,
          -3.8171565532684326,
          -6.303561210632324,
          -3.263549327850342,
          -4.587027549743652,
          -3.74963116645813,
          -3.9909229278564453,
          -2.443270683288574,
          -2.6103200912475586,
          -4.4861321449279785,
          -3.285341739654541,
          -3.7547171115875244,
          -3.472994327545166,
          -3.422755718231201,
          -3.801910877227783,
          -5.1715312004089355,
          -4.403406143188477,
          -3.843654155731201,
          -5.420814514160156,
          -3.875122308731079,
          -4.07534122467041,
          -4.2370429039001465,
          -4.390352249145508,
          -5.655096530914307,
          -1.793302059173584,
          -3.796786069869995,
          -4.128881931304932,
          -1.9131629467010498,
          -3.761300563812256,
          -3.2648415565490723,
          -3.806208610534668,
          -2.673403263092041,
          -3.81742525100708,
          -2.7547202110290527,
          -2.8985912799835205,
          -5.359659194946289,
          -3.656273365020752,
          -3.8278963565826416,
          -2.7754616737365723,
          -3.175955057144165,
          -5.0067901611328125,
          -4.333673477172852,
          -3.2279248237609863,
          -3.7316062450408936,
          -3.338797092437744,
          -5.010440349578857,
          -3.5795207023620605,
          -3.5033297538757324,
          -3.3740322589874268,
          -4.488241672515869,
          -5.079545021057129,
          -3.74308443069458,
          -3.824506998062134,
          -2.2139132022857666,
          -3.5606942176818848,
          -3.8924834728240967,
          -4.625585079193115,
          -3.5215704441070557,
          -4.557348251342773,
          -2.605099678039551,
          -2.29179310798645,
          -3.416476011276245,
          -3.439986228942871,
          -4.593871116638184,
          -3.056910991668701,
          -2.671292304992676,
          -3.2641828060150146,
          -3.019512176513672,
          -4.500277996063232,
          -3.2562646865844727,
          -5.463075637817383,
          -4.822114944458008,
          -5.057973861694336,
          -3.043971538543701,
          -3.9163818359375,
          -3.9082555770874023,
          -2.6694133281707764,
          -3.449512481689453,
          -3.913360595703125,
          -4.295599937438965,
          -4.245303630828857,
          -4.024621963500977,
          -4.775406837463379,
          -4.252477169036865,
          -4.486181259155273,
          -5.118204593658447,
          -5.53833532333374,
          -3.3208906650543213,
          -3.941466808319092,
          -3.9263484477996826,
          -4.38007116317749,
          -3.4945740699768066,
          -4.702148914337158,
          -3.6806390285491943,
          -2.8208184242248535,
          -3.662102460861206,
          -3.6477930545806885,
          -5.125166893005371,
          -4.074873447418213,
          -5.545928478240967,
          -4.7550482749938965,
          -4.8345537185668945,
          -4.22510290145874,
          -3.642925977706909,
          -3.4847335815429688,
          -3.0872769355773926,
          -5.232790946960449,
          -3.629206657409668,
          -5.598392486572266,
          -3.2882490158081055,
          -3.9327878952026367,
          -5.08059024810791,
          -3.2453227043151855,
          -3.2014622688293457,
          -3.5578079223632812,
          -4.644735336303711,
          -3.737236738204956,
          -4.276334762573242,
          -2.762643814086914,
          -3.258700370788574,
          -4.106935501098633,
          -5.148125171661377,
          -3.952457904815674,
          -6.80727481842041,
          -4.59064245223999,
          -5.306650638580322,
          -4.276050567626953,
          -6.075399875640869,
          -5.446724891662598,
          -4.390007495880127,
          -3.817711114883423,
          -3.0555877685546875,
          -4.025720119476318,
          -3.7641870975494385,
          -3.529527425765991,
          -3.779801607131958,
          -5.028258800506592,
          -5.132482528686523,
          -3.7159688472747803,
          -3.2759487628936768,
          -3.7516684532165527,
          -3.4725751876831055,
          -3.200685501098633,
          -3.644688367843628,
          -3.217254161834717,
          -2.458437204360962,
          -1.8220512866973877,
          -2.855968952178955,
          -2.2189574241638184,
          -3.338015079498291,
          -3.829418897628784,
          -4.458744049072266,
          -2.784362316131592,
          -4.428521156311035,
          -4.84414005279541,
          -3.8135690689086914,
          -4.189627647399902,
          -3.3599371910095215,
          -3.219421863555908,
          -3.321960926055908,
          -4.684985637664795,
          -3.147904396057129,
          -3.555211305618286,
          -4.965935707092285,
          -5.3105268478393555,
          -4.826526641845703,
          -5.2832183837890625,
          -4.2987060546875,
          -2.9309706687927246,
          -4.495912551879883,
          -4.790537357330322,
          -4.9575886726379395,
          -2.16102933883667,
          -3.300807237625122,
          -3.68869686126709,
          -3.3607468605041504,
          -4.106184959411621,
          -4.763186454772949,
          -4.208357810974121,
          -5.297355651855469,
          -5.075235843658447,
          -4.527864456176758,
          -4.13535737991333,
          -4.898758411407471,
          -3.9867660999298096,
          -4.36761999130249,
          -3.443402051925659,
          -4.284835338592529,
          -3.9062628746032715,
          -4.631901741027832,
          -3.932587146759033,
          -4.499446868896484,
          -5.1304521560668945,
          -4.560140609741211,
          -3.7248122692108154,
          -5.0543975830078125,
          -3.848278284072876,
          -5.025317192077637,
          -3.566283702850342,
          -4.371630668640137,
          -3.5761945247650146,
          -2.7272377014160156,
          -4.379367351531982,
          -4.3540730476379395,
          -3.9594240188598633,
          -5.871490478515625,
          -4.294564247131348,
          -3.4540538787841797,
          -4.422134876251221,
          -5.138274192810059,
          -4.549359321594238,
          -2.7180962562561035,
          -4.2154927253723145,
          -4.183338642120361,
          -4.243186950683594,
          -4.2629899978637695,
          -4.6468892097473145,
          -4.415404796600342,
          -4.544742584228516,
          -3.3466055393218994,
          -5.292409420013428,
          -5.0438714027404785,
          -3.8455677032470703,
          -4.226716041564941,
          -3.9143013954162598,
          -3.072002410888672,
          -4.168769836425781,
          -3.584233522415161,
          -3.448002576828003,
          -3.921619415283203,
          -3.721759557723999,
          -3.940246820449829,
          -4.109808444976807,
          -3.5840556621551514,
          -2.4247629642486572,
          -2.429436206817627,
          -3.531331777572632,
          -5.052961826324463,
          -2.8483829498291016,
          -5.677957534790039,
          -4.327613353729248,
          -4.294787883758545,
          -3.598328113555908,
          -3.2298743724823,
          -1.8555121421813965,
          -4.271942138671875,
          -4.267551898956299,
          -3.93510365486145,
          -3.7889835834503174,
          -4.041492938995361,
          -4.503254413604736,
          -3.2443735599517822,
          -3.7166614532470703,
          -3.481855630874634,
          -4.418210983276367,
          -3.0405750274658203,
          -5.374058246612549,
          -4.275546550750732,
          -4.2475385665893555,
          -3.6714630126953125,
          -4.436178207397461,
          -3.6250016689300537,
          -3.965331554412842,
          -3.802415370941162,
          -3.916435480117798,
          -3.793325901031494,
          -4.549745559692383,
          -3.158477306365967,
          -4.307034015655518,
          -4.111577033996582,
          -4.093698024749756,
          -3.4403905868530273,
          -3.8457727432250977,
          -5.381583213806152,
          -4.446834564208984,
          -3.0645768642425537,
          -3.899428129196167,
          -4.118493556976318,
          -2.724022388458252,
          -3.276667594909668,
          -4.584657669067383,
          -3.5230026245117188,
          -4.340854167938232,
          -6.388324737548828,
          -4.2902021408081055,
          -2.9437012672424316,
          -4.340026378631592,
          -3.721790313720703,
          -4.20576810836792,
          -3.979449987411499,
          -4.259795665740967,
          -2.97023344039917,
          -4.539481163024902,
          -3.4570531845092773,
          -4.894235610961914,
          -2.097637176513672,
          -3.8018219470977783,
          -2.3189425468444824,
          -4.284363746643066,
          -4.443856239318848,
          -4.623078346252441,
          -3.9450130462646484,
          -5.103878974914551,
          -5.271310806274414,
          -3.7750144004821777,
          -4.892617225646973,
          -3.801837205886841,
          -3.9955027103424072,
          -4.811376571655273,
          -3.1186912059783936,
          -5.213513374328613,
          -2.664344310760498,
          -4.780292510986328,
          -4.249007225036621,
          -5.365785598754883,
          -3.493840217590332,
          -3.49481201171875,
          -3.4044528007507324,
          -4.918031215667725,
          -3.3386471271514893,
          -4.151465892791748,
          -4.618564128875732,
          -4.847504138946533,
          -4.451080322265625,
          -4.675392150878906,
          -4.064291000366211,
          -3.099196672439575,
          -4.040443420410156,
          -4.844483852386475,
          -5.116551399230957,
          -3.5113234519958496,
          -4.487264633178711,
          -4.808992385864258,
          -5.044163703918457,
          -5.634949684143066,
          -3.3565797805786133,
          -2.414508819580078,
          -3.7234034538269043,
          -3.8624861240386963,
          -3.4546751976013184,
          -5.4461164474487305,
          -3.967442512512207,
          -5.118349552154541,
          -4.302637100219727,
          -4.710880756378174,
          -3.0097665786743164,
          -3.3027100563049316,
          -3.671130418777466,
          -3.3792810440063477,
          -5.33693790435791,
          -5.343269348144531,
          -3.5434842109680176,
          -3.587409496307373,
          -4.046371936798096,
          -1.8990223407745361,
          -4.453956604003906,
          -4.416245937347412,
          -2.5480661392211914,
          -5.212920665740967,
          -3.5358705520629883,
          -3.8659281730651855,
          -5.2100067138671875,
          -4.983508586883545,
          -4.894733905792236,
          -4.94476318359375,
          -4.630249977111816,
          -4.241918563842773,
          -4.82194709777832,
          -3.7823708057403564,
          -3.742720603942871,
          -3.9749205112457275,
          -3.794711112976074,
          -3.2001452445983887,
          -4.949718952178955,
          -6.142097473144531,
          -3.915768623352051,
          -5.173652648925781,
          -4.488335609436035,
          -3.2429349422454834,
          -4.69638204574585,
          -3.4773192405700684,
          -3.647308826446533,
          -4.06229829788208,
          -3.9034664630889893,
          -3.8960084915161133,
          -4.01232385635376,
          -3.3190739154815674,
          -4.119391918182373,
          -3.4477105140686035,
          -3.112971782684326,
          -3.9122471809387207,
          -3.7565622329711914,
          -4.855350017547607,
          -4.129147052764893,
          -4.803400039672852,
          -4.296605587005615
         ],
         "xaxis": "x",
         "yaxis": "y"
        }
       ],
       "layout": {
        "annotations": [
         {
          "showarrow": false,
          "text": "Mean = -4.03",
          "x": -4.025974750518799,
          "xanchor": "left",
          "xref": "x",
          "xshift": 20,
          "y": 1,
          "yanchor": "top",
          "yref": "y domain"
         }
        ],
        "barmode": "relative",
        "legend": {
         "title": {
          "text": "variable"
         },
         "tracegroupgap": 0
        },
        "shapes": [
         {
          "line": {
           "color": "red",
           "dash": "dash"
          },
          "type": "line",
          "x0": -4.025974750518799,
          "x1": -4.025974750518799,
          "xref": "x",
          "y0": 0,
          "y1": 1,
          "yref": "y domain"
         }
        ],
        "template": {
         "data": {
          "bar": [
           {
            "error_x": {
             "color": "#f2f5fa"
            },
            "error_y": {
             "color": "#f2f5fa"
            },
            "marker": {
             "line": {
              "color": "rgb(17,17,17)",
              "width": 0.5
             },
             "pattern": {
              "fillmode": "overlay",
              "size": 10,
              "solidity": 0.2
             }
            },
            "type": "bar"
           }
          ],
          "barpolar": [
           {
            "marker": {
             "line": {
              "color": "rgb(17,17,17)",
              "width": 0.5
             },
             "pattern": {
              "fillmode": "overlay",
              "size": 10,
              "solidity": 0.2
             }
            },
            "type": "barpolar"
           }
          ],
          "carpet": [
           {
            "aaxis": {
             "endlinecolor": "#A2B1C6",
             "gridcolor": "#506784",
             "linecolor": "#506784",
             "minorgridcolor": "#506784",
             "startlinecolor": "#A2B1C6"
            },
            "baxis": {
             "endlinecolor": "#A2B1C6",
             "gridcolor": "#506784",
             "linecolor": "#506784",
             "minorgridcolor": "#506784",
             "startlinecolor": "#A2B1C6"
            },
            "type": "carpet"
           }
          ],
          "choropleth": [
           {
            "colorbar": {
             "outlinewidth": 0,
             "ticks": ""
            },
            "type": "choropleth"
           }
          ],
          "contour": [
           {
            "colorbar": {
             "outlinewidth": 0,
             "ticks": ""
            },
            "colorscale": [
             [
              0,
              "#0d0887"
             ],
             [
              0.1111111111111111,
              "#46039f"
             ],
             [
              0.2222222222222222,
              "#7201a8"
             ],
             [
              0.3333333333333333,
              "#9c179e"
             ],
             [
              0.4444444444444444,
              "#bd3786"
             ],
             [
              0.5555555555555556,
              "#d8576b"
             ],
             [
              0.6666666666666666,
              "#ed7953"
             ],
             [
              0.7777777777777778,
              "#fb9f3a"
             ],
             [
              0.8888888888888888,
              "#fdca26"
             ],
             [
              1,
              "#f0f921"
             ]
            ],
            "type": "contour"
           }
          ],
          "contourcarpet": [
           {
            "colorbar": {
             "outlinewidth": 0,
             "ticks": ""
            },
            "type": "contourcarpet"
           }
          ],
          "heatmap": [
           {
            "colorbar": {
             "outlinewidth": 0,
             "ticks": ""
            },
            "colorscale": [
             [
              0,
              "#0d0887"
             ],
             [
              0.1111111111111111,
              "#46039f"
             ],
             [
              0.2222222222222222,
              "#7201a8"
             ],
             [
              0.3333333333333333,
              "#9c179e"
             ],
             [
              0.4444444444444444,
              "#bd3786"
             ],
             [
              0.5555555555555556,
              "#d8576b"
             ],
             [
              0.6666666666666666,
              "#ed7953"
             ],
             [
              0.7777777777777778,
              "#fb9f3a"
             ],
             [
              0.8888888888888888,
              "#fdca26"
             ],
             [
              1,
              "#f0f921"
             ]
            ],
            "type": "heatmap"
           }
          ],
          "heatmapgl": [
           {
            "colorbar": {
             "outlinewidth": 0,
             "ticks": ""
            },
            "colorscale": [
             [
              0,
              "#0d0887"
             ],
             [
              0.1111111111111111,
              "#46039f"
             ],
             [
              0.2222222222222222,
              "#7201a8"
             ],
             [
              0.3333333333333333,
              "#9c179e"
             ],
             [
              0.4444444444444444,
              "#bd3786"
             ],
             [
              0.5555555555555556,
              "#d8576b"
             ],
             [
              0.6666666666666666,
              "#ed7953"
             ],
             [
              0.7777777777777778,
              "#fb9f3a"
             ],
             [
              0.8888888888888888,
              "#fdca26"
             ],
             [
              1,
              "#f0f921"
             ]
            ],
            "type": "heatmapgl"
           }
          ],
          "histogram": [
           {
            "marker": {
             "pattern": {
              "fillmode": "overlay",
              "size": 10,
              "solidity": 0.2
             }
            },
            "type": "histogram"
           }
          ],
          "histogram2d": [
           {
            "colorbar": {
             "outlinewidth": 0,
             "ticks": ""
            },
            "colorscale": [
             [
              0,
              "#0d0887"
             ],
             [
              0.1111111111111111,
              "#46039f"
             ],
             [
              0.2222222222222222,
              "#7201a8"
             ],
             [
              0.3333333333333333,
              "#9c179e"
             ],
             [
              0.4444444444444444,
              "#bd3786"
             ],
             [
              0.5555555555555556,
              "#d8576b"
             ],
             [
              0.6666666666666666,
              "#ed7953"
             ],
             [
              0.7777777777777778,
              "#fb9f3a"
             ],
             [
              0.8888888888888888,
              "#fdca26"
             ],
             [
              1,
              "#f0f921"
             ]
            ],
            "type": "histogram2d"
           }
          ],
          "histogram2dcontour": [
           {
            "colorbar": {
             "outlinewidth": 0,
             "ticks": ""
            },
            "colorscale": [
             [
              0,
              "#0d0887"
             ],
             [
              0.1111111111111111,
              "#46039f"
             ],
             [
              0.2222222222222222,
              "#7201a8"
             ],
             [
              0.3333333333333333,
              "#9c179e"
             ],
             [
              0.4444444444444444,
              "#bd3786"
             ],
             [
              0.5555555555555556,
              "#d8576b"
             ],
             [
              0.6666666666666666,
              "#ed7953"
             ],
             [
              0.7777777777777778,
              "#fb9f3a"
             ],
             [
              0.8888888888888888,
              "#fdca26"
             ],
             [
              1,
              "#f0f921"
             ]
            ],
            "type": "histogram2dcontour"
           }
          ],
          "mesh3d": [
           {
            "colorbar": {
             "outlinewidth": 0,
             "ticks": ""
            },
            "type": "mesh3d"
           }
          ],
          "parcoords": [
           {
            "line": {
             "colorbar": {
              "outlinewidth": 0,
              "ticks": ""
             }
            },
            "type": "parcoords"
           }
          ],
          "pie": [
           {
            "automargin": true,
            "type": "pie"
           }
          ],
          "scatter": [
           {
            "marker": {
             "line": {
              "color": "#283442"
             }
            },
            "type": "scatter"
           }
          ],
          "scatter3d": [
           {
            "line": {
             "colorbar": {
              "outlinewidth": 0,
              "ticks": ""
             }
            },
            "marker": {
             "colorbar": {
              "outlinewidth": 0,
              "ticks": ""
             }
            },
            "type": "scatter3d"
           }
          ],
          "scattercarpet": [
           {
            "marker": {
             "colorbar": {
              "outlinewidth": 0,
              "ticks": ""
             }
            },
            "type": "scattercarpet"
           }
          ],
          "scattergeo": [
           {
            "marker": {
             "colorbar": {
              "outlinewidth": 0,
              "ticks": ""
             }
            },
            "type": "scattergeo"
           }
          ],
          "scattergl": [
           {
            "marker": {
             "line": {
              "color": "#283442"
             }
            },
            "type": "scattergl"
           }
          ],
          "scattermapbox": [
           {
            "marker": {
             "colorbar": {
              "outlinewidth": 0,
              "ticks": ""
             }
            },
            "type": "scattermapbox"
           }
          ],
          "scatterpolar": [
           {
            "marker": {
             "colorbar": {
              "outlinewidth": 0,
              "ticks": ""
             }
            },
            "type": "scatterpolar"
           }
          ],
          "scatterpolargl": [
           {
            "marker": {
             "colorbar": {
              "outlinewidth": 0,
              "ticks": ""
             }
            },
            "type": "scatterpolargl"
           }
          ],
          "scatterternary": [
           {
            "marker": {
             "colorbar": {
              "outlinewidth": 0,
              "ticks": ""
             }
            },
            "type": "scatterternary"
           }
          ],
          "surface": [
           {
            "colorbar": {
             "outlinewidth": 0,
             "ticks": ""
            },
            "colorscale": [
             [
              0,
              "#0d0887"
             ],
             [
              0.1111111111111111,
              "#46039f"
             ],
             [
              0.2222222222222222,
              "#7201a8"
             ],
             [
              0.3333333333333333,
              "#9c179e"
             ],
             [
              0.4444444444444444,
              "#bd3786"
             ],
             [
              0.5555555555555556,
              "#d8576b"
             ],
             [
              0.6666666666666666,
              "#ed7953"
             ],
             [
              0.7777777777777778,
              "#fb9f3a"
             ],
             [
              0.8888888888888888,
              "#fdca26"
             ],
             [
              1,
              "#f0f921"
             ]
            ],
            "type": "surface"
           }
          ],
          "table": [
           {
            "cells": {
             "fill": {
              "color": "#506784"
             },
             "line": {
              "color": "rgb(17,17,17)"
             }
            },
            "header": {
             "fill": {
              "color": "#2a3f5f"
             },
             "line": {
              "color": "rgb(17,17,17)"
             }
            },
            "type": "table"
           }
          ]
         },
         "layout": {
          "annotationdefaults": {
           "arrowcolor": "#f2f5fa",
           "arrowhead": 0,
           "arrowwidth": 1
          },
          "autotypenumbers": "strict",
          "coloraxis": {
           "colorbar": {
            "outlinewidth": 0,
            "ticks": ""
           }
          },
          "colorscale": {
           "diverging": [
            [
             0,
             "#8e0152"
            ],
            [
             0.1,
             "#c51b7d"
            ],
            [
             0.2,
             "#de77ae"
            ],
            [
             0.3,
             "#f1b6da"
            ],
            [
             0.4,
             "#fde0ef"
            ],
            [
             0.5,
             "#f7f7f7"
            ],
            [
             0.6,
             "#e6f5d0"
            ],
            [
             0.7,
             "#b8e186"
            ],
            [
             0.8,
             "#7fbc41"
            ],
            [
             0.9,
             "#4d9221"
            ],
            [
             1,
             "#276419"
            ]
           ],
           "sequential": [
            [
             0,
             "#0d0887"
            ],
            [
             0.1111111111111111,
             "#46039f"
            ],
            [
             0.2222222222222222,
             "#7201a8"
            ],
            [
             0.3333333333333333,
             "#9c179e"
            ],
            [
             0.4444444444444444,
             "#bd3786"
            ],
            [
             0.5555555555555556,
             "#d8576b"
            ],
            [
             0.6666666666666666,
             "#ed7953"
            ],
            [
             0.7777777777777778,
             "#fb9f3a"
            ],
            [
             0.8888888888888888,
             "#fdca26"
            ],
            [
             1,
             "#f0f921"
            ]
           ],
           "sequentialminus": [
            [
             0,
             "#0d0887"
            ],
            [
             0.1111111111111111,
             "#46039f"
            ],
            [
             0.2222222222222222,
             "#7201a8"
            ],
            [
             0.3333333333333333,
             "#9c179e"
            ],
            [
             0.4444444444444444,
             "#bd3786"
            ],
            [
             0.5555555555555556,
             "#d8576b"
            ],
            [
             0.6666666666666666,
             "#ed7953"
            ],
            [
             0.7777777777777778,
             "#fb9f3a"
            ],
            [
             0.8888888888888888,
             "#fdca26"
            ],
            [
             1,
             "#f0f921"
            ]
           ]
          },
          "colorway": [
           "#636efa",
           "#EF553B",
           "#00cc96",
           "#ab63fa",
           "#FFA15A",
           "#19d3f3",
           "#FF6692",
           "#B6E880",
           "#FF97FF",
           "#FECB52"
          ],
          "font": {
           "color": "#f2f5fa"
          },
          "geo": {
           "bgcolor": "rgb(17,17,17)",
           "lakecolor": "rgb(17,17,17)",
           "landcolor": "rgb(17,17,17)",
           "showlakes": true,
           "showland": true,
           "subunitcolor": "#506784"
          },
          "hoverlabel": {
           "align": "left"
          },
          "hovermode": "closest",
          "mapbox": {
           "style": "dark"
          },
          "paper_bgcolor": "rgb(17,17,17)",
          "plot_bgcolor": "rgb(17,17,17)",
          "polar": {
           "angularaxis": {
            "gridcolor": "#506784",
            "linecolor": "#506784",
            "ticks": ""
           },
           "bgcolor": "rgb(17,17,17)",
           "radialaxis": {
            "gridcolor": "#506784",
            "linecolor": "#506784",
            "ticks": ""
           }
          },
          "scene": {
           "xaxis": {
            "backgroundcolor": "rgb(17,17,17)",
            "gridcolor": "#506784",
            "gridwidth": 2,
            "linecolor": "#506784",
            "showbackground": true,
            "ticks": "",
            "zerolinecolor": "#C8D4E3"
           },
           "yaxis": {
            "backgroundcolor": "rgb(17,17,17)",
            "gridcolor": "#506784",
            "gridwidth": 2,
            "linecolor": "#506784",
            "showbackground": true,
            "ticks": "",
            "zerolinecolor": "#C8D4E3"
           },
           "zaxis": {
            "backgroundcolor": "rgb(17,17,17)",
            "gridcolor": "#506784",
            "gridwidth": 2,
            "linecolor": "#506784",
            "showbackground": true,
            "ticks": "",
            "zerolinecolor": "#C8D4E3"
           }
          },
          "shapedefaults": {
           "line": {
            "color": "#f2f5fa"
           }
          },
          "sliderdefaults": {
           "bgcolor": "#C8D4E3",
           "bordercolor": "rgb(17,17,17)",
           "borderwidth": 1,
           "tickwidth": 0
          },
          "ternary": {
           "aaxis": {
            "gridcolor": "#506784",
            "linecolor": "#506784",
            "ticks": ""
           },
           "baxis": {
            "gridcolor": "#506784",
            "linecolor": "#506784",
            "ticks": ""
           },
           "bgcolor": "rgb(17,17,17)",
           "caxis": {
            "gridcolor": "#506784",
            "linecolor": "#506784",
            "ticks": ""
           }
          },
          "title": {
           "x": 0.05
          },
          "updatemenudefaults": {
           "bgcolor": "#506784",
           "borderwidth": 0
          },
          "xaxis": {
           "automargin": true,
           "gridcolor": "#283442",
           "linecolor": "#506784",
           "ticks": "",
           "title": {
            "standoff": 15
           },
           "zerolinecolor": "#283442",
           "zerolinewidth": 2
          },
          "yaxis": {
           "automargin": true,
           "gridcolor": "#283442",
           "linecolor": "#506784",
           "ticks": "",
           "title": {
            "standoff": 15
           },
           "zerolinecolor": "#283442",
           "zerolinewidth": 2
          }
         }
        },
        "title": {
         "text": "Posterior marginal distribution of trust weights"
        },
        "xaxis": {
         "anchor": "y",
         "domain": [
          0,
          1
         ],
         "title": {
          "text": "value"
         }
        },
        "yaxis": {
         "anchor": "x",
         "domain": [
          0,
          1
         ],
         "title": {
          "text": "count"
         }
        }
       }
      }
     },
     "metadata": {},
     "output_type": "display_data"
    }
   ],
   "source": [
    "fig1 = px.histogram(samples[\"weight_trust\"], title=\"Posterior marginal distribution of trust weights\",\n",
    "             template=\"plotly_dark\")\n",
    "\n",
    "mean_trust = samples[\"weight_trust\"].mean()\n",
    "\n",
    "\n",
    "fig1.update_traces(showlegend=False)\n",
    "fig1.add_vline(x= mean_trust, line_dash=\"dash\", line_color=\"red\", annotation_text=f\"Mean = {mean_trust:.2f}\", \n",
    "               annotation_position=\"top right\", \n",
    "              annotation_xshift=20)\n"
   ]
  },
  {
   "cell_type": "code",
   "execution_count": 83,
   "metadata": {},
   "outputs": [
    {
     "data": {
      "application/vnd.plotly.v1+json": {
       "config": {
        "plotlyServerURL": "https://plot.ly"
       },
       "data": [
        {
         "alignmentgroup": "True",
         "bingroup": "x",
         "hovertemplate": "variable=0<br>value=%{x}<br>count=%{y}<extra></extra>",
         "legendgroup": "0",
         "marker": {
          "color": "#636efa",
          "pattern": {
           "shape": ""
          }
         },
         "name": "0",
         "offsetgroup": "0",
         "orientation": "v",
         "showlegend": false,
         "type": "histogram",
         "x": [
          2.3110227584838867,
          2.45219087600708,
          2.0023488998413086,
          2.123241424560547,
          2.3667898178100586,
          2.3324368000030518,
          2.0132157802581787,
          1.8683509826660156,
          2.4722774028778076,
          2.1750683784484863,
          2.1628565788269043,
          2.5787220001220703,
          2.1830406188964844,
          2.002624273300171,
          2.3790295124053955,
          2.0800275802612305,
          2.1834652423858643,
          1.6767313480377197,
          2.3748624324798584,
          1.783388614654541,
          2.0927822589874268,
          2.6088714599609375,
          2.472019672393799,
          2.1115543842315674,
          2.4129905700683594,
          1.8992702960968018,
          2.074965476989746,
          2.103147029876709,
          2.7707953453063965,
          2.368288993835449,
          2.561018943786621,
          2.229642152786255,
          1.9601819515228271,
          2.285008430480957,
          1.9001634120941162,
          2.156633138656616,
          1.9116851091384888,
          2.159296751022339,
          2.299389123916626,
          2.2887799739837646,
          1.9440956115722656,
          1.6543704271316528,
          2.040461540222168,
          1.9574031829833984,
          2.255779266357422,
          2.0178027153015137,
          1.673506259918213,
          2.0066335201263428,
          1.7971330881118774,
          2.84985613822937,
          2.4973580837249756,
          2.7039620876312256,
          2.0947771072387695,
          2.078401565551758,
          2.2217578887939453,
          2.113558292388916,
          1.6397838592529297,
          2.109375476837158,
          2.1018733978271484,
          2.144829750061035,
          2.433776378631592,
          2.1109440326690674,
          2.5348987579345703,
          2.4175186157226562,
          2.5645031929016113,
          2.13395094871521,
          2.0378947257995605,
          2.283891201019287,
          1.8824949264526367,
          1.8245863914489746,
          2.4355621337890625,
          2.1390602588653564,
          2.442584753036499,
          2.0188403129577637,
          2.430788278579712,
          2.460697889328003,
          2.514514446258545,
          2.2417876720428467,
          2.5391855239868164,
          2.2007954120635986,
          2.2871170043945312,
          2.0550079345703125,
          2.2094438076019287,
          2.164395570755005,
          2.2195801734924316,
          2.1708462238311768,
          2.4945931434631348,
          2.34782338142395,
          2.2074038982391357,
          2.0300068855285645,
          2.725341796875,
          2.0940775871276855,
          2.2735586166381836,
          2.2945199012756348,
          2.1799890995025635,
          1.8469152450561523,
          2.225076198577881,
          2.128666877746582,
          1.8181946277618408,
          2.512756586074829,
          2.208751678466797,
          2.244988203048706,
          2.4634153842926025,
          2.011662006378174,
          2.578026294708252,
          2.127624750137329,
          2.076960802078247,
          2.1234986782073975,
          2.5055501461029053,
          2.0936856269836426,
          2.1879398822784424,
          2.180985450744629,
          2.435563564300537,
          2.5174942016601562,
          1.7067348957061768,
          2.405250072479248,
          1.8328027725219727,
          2.318962335586548,
          1.7974750995635986,
          2.271245002746582,
          2.4635190963745117,
          2.472601890563965,
          2.1535205841064453,
          2.6060073375701904,
          2.7697954177856445,
          2.2339751720428467,
          1.905942440032959,
          2.4102783203125,
          2.5619325637817383,
          2.469374895095825,
          1.7792918682098389,
          2.174074649810791,
          2.085501194000244,
          1.9785252809524536,
          2.0141968727111816,
          2.5880286693573,
          2.5501885414123535,
          1.9407544136047363,
          2.219782829284668,
          2.1818840503692627,
          2.3448500633239746,
          2.518362045288086,
          2.3234424591064453,
          2.1810226440429688,
          2.077516794204712,
          2.35650372505188,
          2.444805383682251,
          2.243190288543701,
          1.971092939376831,
          2.380638837814331,
          1.4715567827224731,
          2.1340301036834717,
          2.4607064723968506,
          2.6024370193481445,
          1.8434364795684814,
          2.0772359371185303,
          2.0735018253326416,
          2.171976327896118,
          2.2147843837738037,
          2.311488151550293,
          1.9735227823257446,
          1.5874178409576416,
          2.0488624572753906,
          2.0960915088653564,
          2.0326812267303467,
          2.3623318672180176,
          2.004143238067627,
          2.635624885559082,
          2.0122084617614746,
          1.9873408079147339,
          2.332958698272705,
          2.3270792961120605,
          2.4848954677581787,
          2.514065980911255,
          2.284960985183716,
          2.440046787261963,
          2.2438974380493164,
          1.5328028202056885,
          2.134464979171753,
          2.2374160289764404,
          2.252176284790039,
          2.3541975021362305,
          2.285824775695801,
          2.1714000701904297,
          2.1395254135131836,
          2.2298848628997803,
          2.1343071460723877,
          2.3710904121398926,
          2.0060884952545166,
          2.2480826377868652,
          1.9913252592086792,
          2.0380241870880127,
          2.4929211139678955,
          2.314642906188965,
          2.123609781265259,
          2.4780259132385254,
          2.304137706756592,
          2.0475611686706543,
          2.1974663734436035,
          2.4147520065307617,
          3.02032470703125,
          1.8892593383789062,
          2.280168056488037,
          2.0719799995422363,
          2.108116388320923,
          2.2582054138183594,
          2.5295042991638184,
          1.9276690483093262,
          2.136847496032715,
          2.2170536518096924,
          1.8760111331939697,
          2.3141772747039795,
          1.819410800933838,
          2.170255422592163,
          2.447605848312378,
          2.2234718799591064,
          2.2524056434631348,
          2.1516425609588623,
          2.1222472190856934,
          2.510573148727417,
          2.553830862045288,
          1.8963432312011719,
          2.3010056018829346,
          2.4084901809692383,
          2.262789249420166,
          2.2500321865081787,
          2.523815393447876,
          2.0295958518981934,
          1.7094850540161133,
          2.605870246887207,
          2.3415067195892334,
          2.5567431449890137,
          2.74833345413208,
          2.390448570251465,
          2.115157127380371,
          1.8277188539505005,
          2.046207904815674,
          1.717620849609375,
          2.0209755897521973,
          2.116353750228882,
          2.294410467147827,
          2.4092249870300293,
          2.526592969894409,
          2.2825963497161865,
          2.7028136253356934,
          2.0449037551879883,
          1.8794490098953247,
          1.8194358348846436,
          2.561548948287964,
          2.4519574642181396,
          2.4681763648986816,
          1.9462332725524902,
          1.9796907901763916,
          2.366802453994751,
          1.901458740234375,
          1.9301438331604004,
          2.294524908065796,
          2.5368425846099854,
          1.9672545194625854,
          2.231966257095337,
          2.4623520374298096,
          2.313898801803589,
          1.8398308753967285,
          2.337576389312744,
          1.3134452104568481,
          2.1893723011016846,
          2.3750247955322266,
          2.490295648574829,
          2.22945237159729,
          2.4469618797302246,
          2.079610824584961,
          1.7673059701919556,
          2.5672011375427246,
          2.369426727294922,
          2.394028425216675,
          2.3675477504730225,
          2.272832155227661,
          2.516120672225952,
          2.0503950119018555,
          1.9205204248428345,
          2.3511345386505127,
          2.170344591140747,
          1.7793713808059692,
          2.5901989936828613,
          2.319300889968872,
          2.1246871948242188,
          2.2532737255096436,
          2.861083984375,
          2.823079824447632,
          2.336237668991089,
          2.004319906234741,
          2.211939811706543,
          2.5030441284179688,
          2.4671056270599365,
          1.7723546028137207,
          2.4133729934692383,
          2.5559613704681396,
          1.9843714237213135,
          1.555217981338501,
          2.2154505252838135,
          2.6773741245269775,
          2.325312852859497,
          2.145277976989746,
          1.6972246170043945,
          2.653167247772217,
          2.2449262142181396,
          2.305664300918579,
          2.005167245864868,
          2.163020372390747,
          2.3862907886505127,
          2.1552484035491943,
          1.9304239749908447,
          2.0495662689208984,
          2.163912773132324,
          2.05635404586792,
          2.0971055030822754,
          1.8680987358093262,
          2.0392253398895264,
          1.7537436485290527,
          2.1666510105133057,
          1.9855828285217285,
          2.6310575008392334,
          2.1120524406433105,
          2.691216468811035,
          2.1670854091644287,
          2.1425628662109375,
          2.563687801361084,
          2.4410645961761475,
          1.881292462348938,
          1.9356982707977295,
          2.0612411499023438,
          1.7394969463348389,
          1.9348161220550537,
          2.4956560134887695,
          2.4681196212768555,
          2.42195200920105,
          2.3507814407348633,
          2.2762041091918945,
          2.6419944763183594,
          2.3955588340759277,
          2.2960433959960938,
          2.193998336791992,
          1.9163771867752075,
          1.9719998836517334,
          2.2521708011627197,
          2.4057247638702393,
          2.3980681896209717,
          2.0115489959716797,
          2.5480456352233887,
          2.631211757659912,
          2.6025826930999756,
          2.5343382358551025,
          2.281090497970581,
          2.3951804637908936,
          2.5135443210601807,
          2.1268389225006104,
          2.378584623336792,
          2.061262845993042,
          2.077404260635376,
          2.319204807281494,
          1.7977840900421143,
          1.8759958744049072,
          2.112230062484741,
          2.1227002143859863,
          2.0583791732788086,
          2.6110780239105225,
          2.5628578662872314,
          2.1352837085723877,
          2.3723552227020264,
          2.509025812149048,
          1.9460474252700806,
          2.23858380317688,
          2.0690762996673584,
          1.7537055015563965,
          2.7840373516082764,
          2.3609724044799805,
          2.4095346927642822,
          1.9245820045471191,
          2.2228822708129883,
          2.4788832664489746,
          1.7763075828552246,
          2.2329177856445312,
          2.1051392555236816,
          2.0365452766418457,
          1.9430444240570068,
          2.1059677600860596,
          2.490849494934082,
          2.0933661460876465,
          2.444653034210205,
          2.5330474376678467,
          2.389343738555908,
          2.224254846572876,
          2.1332387924194336,
          1.8138184547424316,
          2.3400442600250244,
          2.1549580097198486,
          2.117521047592163,
          2.4927477836608887,
          1.9629583358764648,
          2.2416839599609375,
          2.332324743270874,
          1.5994641780853271,
          2.262901544570923,
          2.5911920070648193,
          2.5797698497772217,
          2.0288195610046387,
          2.190669059753418,
          2.4850480556488037,
          2.5834155082702637,
          1.939664363861084,
          2.5782620906829834,
          1.8536401987075806,
          2.1218369007110596,
          2.2980308532714844,
          2.058483600616455,
          2.537125825881958,
          2.3129920959472656,
          2.5225672721862793,
          2.2684671878814697,
          1.962185263633728,
          2.211704969406128,
          2.4099864959716797,
          2.4224765300750732,
          2.141552686691284,
          2.1997103691101074,
          2.2334182262420654,
          2.23569655418396,
          2.3184378147125244,
          1.7891870737075806,
          2.2529048919677734,
          1.9325628280639648,
          1.9563980102539062,
          1.815871000289917,
          2.6724905967712402,
          2.5315120220184326,
          1.9045193195343018,
          2.5816476345062256,
          2.251307725906372,
          2.3090152740478516,
          2.078901767730713,
          2.2857468128204346,
          2.5990371704101562,
          2.039983034133911,
          2.4166688919067383,
          2.3236777782440186,
          2.1871187686920166,
          1.9476039409637451,
          2.1499111652374268,
          2.505260944366455,
          2.1580119132995605,
          2.2850003242492676,
          2.0351529121398926,
          1.8152544498443604,
          2.136148691177368,
          2.3703293800354004,
          2.028904914855957,
          2.731562376022339,
          2.221801996231079,
          2.5816566944122314,
          2.0457406044006348,
          2.400861978530884,
          1.9477235078811646,
          2.387206792831421,
          1.9304569959640503,
          2.420985221862793,
          2.2803280353546143,
          2.2509610652923584,
          1.7584693431854248,
          1.6172150373458862,
          2.259521722793579,
          2.1426002979278564,
          2.492866039276123,
          2.0937628746032715,
          2.619934558868408,
          2.148952007293701,
          2.4605631828308105,
          2.3521060943603516,
          2.575368642807007,
          2.6694817543029785,
          1.7480647563934326,
          2.2005274295806885,
          2.2342939376831055,
          1.963362216949463,
          1.9796634912490845,
          2.369006395339966,
          2.1300570964813232,
          2.346677541732788,
          2.0989835262298584,
          2.7230474948883057,
          2.1990103721618652,
          2.004584550857544,
          2.1972951889038086,
          2.1393396854400635,
          2.3717143535614014,
          2.0588934421539307,
          1.8637839555740356,
          2.302647113800049,
          2.386861562728882,
          1.7383817434310913,
          2.484919786453247,
          2.0406527519226074,
          2.1362085342407227,
          1.9389097690582275,
          2.232682704925537,
          2.3152730464935303,
          2.0761590003967285,
          2.4247565269470215,
          1.8011555671691895,
          2.1857340335845947,
          2.2404720783233643,
          1.8891777992248535,
          2.0198912620544434,
          2.036705493927002,
          2.2607903480529785,
          1.930423617362976,
          2.4193344116210938,
          2.432244062423706,
          2.1990253925323486,
          2.245518207550049,
          1.8159072399139404,
          2.5747292041778564,
          2.2868833541870117,
          2.2997231483459473,
          2.228851079940796,
          2.5345311164855957,
          2.1175262928009033,
          2.245476245880127,
          2.421023368835449,
          2.7080447673797607,
          2.4438297748565674,
          1.975975513458252,
          1.9054559469223022,
          2.3249337673187256,
          2.2204673290252686,
          1.9880242347717285,
          2.171630859375,
          2.288238525390625,
          2.153716802597046,
          1.8900699615478516,
          2.0187737941741943,
          2.4927570819854736,
          2.5125489234924316,
          2.410707712173462,
          2.413902521133423,
          1.797226905822754,
          2.2969141006469727,
          2.528348207473755,
          2.1595280170440674,
          2.3259236812591553,
          2.3915438652038574,
          2.4373722076416016,
          1.8684734106063843,
          2.544067144393921,
          2.432222604751587,
          2.268920421600342,
          2.586045265197754,
          2.2237935066223145,
          1.9902182817459106,
          1.818880558013916,
          2.4904823303222656,
          2.0029356479644775,
          2.3806591033935547,
          2.5750956535339355,
          2.3828353881835938,
          2.5770816802978516,
          1.9629201889038086,
          2.217068910598755,
          2.3050029277801514,
          2.4472997188568115,
          2.3734092712402344,
          2.291135311126709,
          2.4853098392486572,
          2.0290918350219727,
          2.497180223464966,
          1.9355624914169312,
          2.1109542846679688,
          2.1397995948791504,
          1.9313052892684937,
          2.2955029010772705,
          2.0352954864501953,
          1.8442673683166504,
          2.757331371307373,
          2.2140862941741943,
          1.9959657192230225,
          2.1075823307037354,
          1.8844525814056396,
          2.8522162437438965,
          1.694511890411377,
          2.5070104598999023,
          2.141326665878296,
          2.447075128555298,
          2.308849334716797,
          2.1281871795654297,
          1.7489163875579834,
          2.1753032207489014,
          2.1993579864501953,
          2.416529893875122,
          2.267106533050537,
          2.665221929550171,
          2.4242734909057617,
          1.789198637008667,
          2.030358076095581,
          2.0501480102539062,
          2.292464017868042,
          2.1163582801818848,
          2.3870952129364014,
          2.1708738803863525,
          2.0093495845794678,
          2.0442490577697754,
          1.7141892910003662,
          2.5081472396850586,
          2.25529146194458,
          1.9350367784500122,
          2.3023712635040283,
          2.476735830307007,
          1.8656805753707886,
          2.075775384902954,
          2.108464479446411,
          1.8432636260986328,
          2.2963056564331055,
          2.625706434249878,
          2.1784794330596924,
          2.3752810955047607,
          2.1230435371398926,
          2.0664305686950684,
          2.16979718208313,
          1.7531635761260986,
          2.4368033409118652,
          2.417880058288574,
          2.2283692359924316,
          1.9507389068603516,
          1.8834710121154785,
          1.9874329566955566,
          2.079000949859619,
          2.6962480545043945,
          2.286893844604492,
          2.1574349403381348,
          2.0853793621063232,
          1.7929198741912842,
          2.633943557739258,
          2.2730116844177246,
          2.1523163318634033,
          2.2222487926483154,
          2.246584892272949,
          2.0843732357025146,
          2.599989175796509,
          2.22396183013916,
          2.5883655548095703,
          2.5099120140075684,
          1.9654909372329712,
          2.52404522895813,
          2.1049046516418457,
          2.2350614070892334,
          2.1802568435668945,
          2.055204391479492,
          2.276122808456421,
          2.4720773696899414,
          2.138957977294922,
          2.132551670074463,
          2.089648485183716,
          2.711160182952881,
          2.1069154739379883,
          1.9587085247039795,
          2.5201663970947266,
          1.7401502132415771,
          2.3381197452545166,
          2.344970703125,
          2.291236400604248,
          2.337383508682251,
          1.9061813354492188,
          2.2573018074035645,
          2.2045633792877197,
          2.4231526851654053,
          2.3320789337158203,
          2.0066280364990234,
          2.1378486156463623,
          2.009014129638672,
          2.086798667907715,
          2.342850685119629,
          2.1714324951171875,
          2.5013043880462646,
          2.123563051223755,
          2.4676413536071777,
          1.9628288745880127,
          2.3101704120635986,
          2.1740620136260986,
          2.2303242683410645,
          2.228682279586792,
          2.1777796745300293,
          2.3144936561584473,
          2.378692150115967,
          2.478196382522583,
          2.0048227310180664,
          2.003620147705078,
          2.125044584274292,
          2.272367238998413,
          1.9137943983078003,
          2.3711419105529785,
          2.4071385860443115,
          2.3354783058166504,
          2.5117673873901367,
          2.2989447116851807,
          2.370433807373047,
          2.2901358604431152,
          2.3465254306793213,
          2.1736278533935547,
          2.785205364227295,
          2.486588478088379,
          2.10660982131958,
          2.075706720352173,
          2.2585105895996094,
          2.426290988922119,
          2.325105667114258,
          1.9976394176483154,
          2.4138245582580566,
          2.540898084640503,
          2.4673147201538086,
          2.2465381622314453,
          2.257157802581787,
          2.755821943283081,
          2.1509816646575928,
          2.3688461780548096,
          2.1136107444763184,
          2.135103225708008,
          2.318612813949585,
          2.7374095916748047,
          2.2336010932922363,
          2.2153897285461426,
          1.865250587463379,
          1.8235838413238525,
          1.9710068702697754,
          2.018082618713379,
          2.1035141944885254,
          2.033005475997925,
          2.6553008556365967,
          2.012988328933716,
          2.1018786430358887,
          2.049128293991089,
          1.8168017864227295,
          2.253976583480835,
          2.2813010215759277,
          2.264847755432129,
          2.050687551498413,
          2.1725475788116455,
          1.978018879890442,
          2.143507242202759,
          1.943006992340088,
          1.9581021070480347,
          2.076197385787964,
          2.112527370452881,
          2.5394949913024902,
          2.0879578590393066,
          2.0853655338287354,
          2.256439685821533,
          2.2274892330169678,
          2.027623176574707,
          2.360727548599243,
          2.305060625076294,
          2.166853904724121,
          2.016683340072632,
          2.3015191555023193,
          1.7756930589675903,
          2.3838284015655518,
          2.3809010982513428,
          1.888100266456604,
          2.4037845134735107,
          2.3702855110168457,
          2.2492406368255615,
          1.9767498970031738,
          2.0652363300323486,
          2.5714235305786133,
          2.319465160369873,
          2.383549213409424,
          2.113649845123291,
          2.16300106048584,
          2.1310911178588867,
          2.47998046875,
          1.7899234294891357,
          2.694580316543579,
          2.512195348739624,
          1.8970327377319336,
          2.3158435821533203,
          1.9053236246109009,
          2.4256577491760254,
          2.1477460861206055,
          2.365112543106079,
          2.706010580062866,
          2.631875514984131,
          2.1288959980010986,
          2.1765472888946533,
          1.9427931308746338,
          2.375317096710205,
          2.4848415851593018,
          1.8744637966156006,
          2.515519142150879,
          2.412346601486206,
          2.301804780960083,
          2.014328718185425,
          2.784909248352051,
          1.9167901277542114,
          1.8198740482330322,
          2.1694016456604004,
          2.2242300510406494,
          2.428821325302124,
          1.9242949485778809,
          2.5293726921081543,
          2.4947311878204346,
          2.247537612915039,
          2.08242130279541,
          2.183642864227295,
          1.8197859525680542,
          2.4428961277008057,
          1.751387119293213,
          2.1443824768066406,
          2.6216840744018555,
          1.7835133075714111,
          2.1487858295440674,
          2.2907299995422363,
          1.952918529510498,
          2.2999887466430664,
          1.8823280334472656,
          2.4205102920532227,
          1.877637505531311,
          2.0273945331573486,
          2.5917084217071533,
          1.6414103507995605,
          2.3040833473205566,
          2.306817054748535,
          2.5316848754882812,
          2.079007625579834,
          1.9899301528930664,
          2.6757707595825195,
          2.517150402069092,
          2.196730613708496,
          2.5536816120147705,
          2.269965648651123,
          1.802459716796875,
          2.5129451751708984,
          2.7313263416290283,
          2.5549168586730957,
          2.1650466918945312,
          2.3695895671844482,
          2.3583712577819824,
          2.4943370819091797,
          2.0504868030548096,
          2.2059166431427,
          2.4716761112213135,
          2.327470541000366,
          2.111699342727661,
          2.479218006134033,
          2.178145408630371,
          2.1225571632385254,
          1.956443428993225,
          2.4766640663146973,
          2.042262554168701,
          2.4284121990203857,
          2.3121583461761475,
          2.3497583866119385,
          2.613933801651001,
          1.7494406700134277,
          2.095151901245117,
          2.52787184715271,
          1.9992409944534302,
          2.076340675354004,
          1.8682526350021362,
          2.0702409744262695,
          2.6117966175079346,
          2.029512882232666,
          2.2472314834594727,
          1.9843311309814453,
          2.196337938308716,
          2.378072738647461,
          2.268895387649536,
          2.3856027126312256,
          2.0846900939941406,
          2.48641300201416,
          1.8189160823822021,
          2.254990816116333,
          2.261807680130005,
          1.8848531246185303,
          2.0522701740264893,
          2.3620834350585938,
          1.8096836805343628,
          2.133354425430298,
          2.5831918716430664,
          2.276453733444214,
          2.1568760871887207,
          2.292663097381592,
          2.211142063140869,
          2.3836159706115723,
          2.2644546031951904,
          2.1810107231140137,
          2.4227066040039062,
          2.326423168182373,
          2.112062454223633,
          2.0367846488952637,
          2.0521368980407715,
          1.7903690338134766,
          2.194988489151001,
          1.871877670288086,
          1.9704766273498535,
          1.9748724699020386,
          2.375375986099243,
          1.9138215780258179,
          2.8908708095550537,
          2.4456446170806885,
          1.9461610317230225,
          2.157144784927368,
          2.240752696990967,
          1.9474430084228516,
          2.4624733924865723,
          2.7072594165802,
          2.162189245223999,
          2.1303319931030273,
          2.6135857105255127,
          2.6291980743408203,
          2.2638626098632812,
          2.285834550857544,
          2.192840814590454,
          2.4295814037323,
          2.186826705932617,
          1.888460636138916,
          2.505633592605591,
          2.359565496444702,
          1.6771275997161865,
          2.551360607147217,
          1.8014464378356934,
          1.9149829149246216,
          2.1763670444488525,
          2.242762565612793,
          2.362239122390747,
          2.2423408031463623,
          1.8419053554534912,
          2.213545560836792,
          2.3570353984832764,
          2.224989891052246,
          1.9341645240783691,
          1.9651545286178589,
          2.095099925994873,
          2.018014907836914,
          2.003387212753296,
          2.257554531097412,
          2.509063482284546,
          2.307739734649658,
          2.1910417079925537,
          1.9875411987304688,
          2.046874523162842,
          2.662022590637207,
          2.3245909214019775,
          1.9672117233276367,
          2.780116558074951,
          1.6567333936691284,
          2.192070722579956,
          2.094209671020508,
          2.5104336738586426,
          2.220329761505127,
          2.2588069438934326,
          2.3218812942504883,
          1.9236445426940918,
          2.5408191680908203,
          2.08161997795105,
          2.5707077980041504,
          2.0004215240478516,
          2.2875783443450928,
          1.9957590103149414,
          2.2162673473358154,
          2.6229050159454346,
          1.6167044639587402,
          2.323023796081543,
          2.207502841949463,
          2.1267154216766357,
          2.367741346359253,
          2.053335666656494,
          2.1926357746124268,
          2.6863720417022705,
          2.101807117462158,
          2.003220796585083,
          2.437734842300415,
          2.4907357692718506,
          2.8433828353881836,
          2.441197395324707,
          2.4758005142211914,
          1.9415216445922852,
          2.374680280685425,
          2.328519105911255,
          2.062472343444824,
          2.1792664527893066,
          2.110368490219116,
          2.3765664100646973,
          2.344104290008545,
          1.8909218311309814,
          2.1282544136047363,
          2.0225751399993896,
          2.2628848552703857,
          2.0562827587127686,
          1.8327603340148926,
          2.6280672550201416,
          2.3280444145202637,
          1.8731313943862915,
          2.3438103199005127
         ],
         "xaxis": "x",
         "yaxis": "y"
        }
       ],
       "layout": {
        "annotations": [
         {
          "showarrow": false,
          "text": "Mean = 2.22",
          "x": 2.219698190689087,
          "xanchor": "left",
          "xref": "x",
          "xshift": 20,
          "y": 1,
          "yanchor": "top",
          "yref": "y domain"
         }
        ],
        "barmode": "relative",
        "legend": {
         "title": {
          "text": "variable"
         },
         "tracegroupgap": 0
        },
        "shapes": [
         {
          "line": {
           "color": "red",
           "dash": "dash"
          },
          "type": "line",
          "x0": 2.219698190689087,
          "x1": 2.219698190689087,
          "xref": "x",
          "y0": 0,
          "y1": 1,
          "yref": "y domain"
         }
        ],
        "template": {
         "data": {
          "bar": [
           {
            "error_x": {
             "color": "#f2f5fa"
            },
            "error_y": {
             "color": "#f2f5fa"
            },
            "marker": {
             "line": {
              "color": "rgb(17,17,17)",
              "width": 0.5
             },
             "pattern": {
              "fillmode": "overlay",
              "size": 10,
              "solidity": 0.2
             }
            },
            "type": "bar"
           }
          ],
          "barpolar": [
           {
            "marker": {
             "line": {
              "color": "rgb(17,17,17)",
              "width": 0.5
             },
             "pattern": {
              "fillmode": "overlay",
              "size": 10,
              "solidity": 0.2
             }
            },
            "type": "barpolar"
           }
          ],
          "carpet": [
           {
            "aaxis": {
             "endlinecolor": "#A2B1C6",
             "gridcolor": "#506784",
             "linecolor": "#506784",
             "minorgridcolor": "#506784",
             "startlinecolor": "#A2B1C6"
            },
            "baxis": {
             "endlinecolor": "#A2B1C6",
             "gridcolor": "#506784",
             "linecolor": "#506784",
             "minorgridcolor": "#506784",
             "startlinecolor": "#A2B1C6"
            },
            "type": "carpet"
           }
          ],
          "choropleth": [
           {
            "colorbar": {
             "outlinewidth": 0,
             "ticks": ""
            },
            "type": "choropleth"
           }
          ],
          "contour": [
           {
            "colorbar": {
             "outlinewidth": 0,
             "ticks": ""
            },
            "colorscale": [
             [
              0,
              "#0d0887"
             ],
             [
              0.1111111111111111,
              "#46039f"
             ],
             [
              0.2222222222222222,
              "#7201a8"
             ],
             [
              0.3333333333333333,
              "#9c179e"
             ],
             [
              0.4444444444444444,
              "#bd3786"
             ],
             [
              0.5555555555555556,
              "#d8576b"
             ],
             [
              0.6666666666666666,
              "#ed7953"
             ],
             [
              0.7777777777777778,
              "#fb9f3a"
             ],
             [
              0.8888888888888888,
              "#fdca26"
             ],
             [
              1,
              "#f0f921"
             ]
            ],
            "type": "contour"
           }
          ],
          "contourcarpet": [
           {
            "colorbar": {
             "outlinewidth": 0,
             "ticks": ""
            },
            "type": "contourcarpet"
           }
          ],
          "heatmap": [
           {
            "colorbar": {
             "outlinewidth": 0,
             "ticks": ""
            },
            "colorscale": [
             [
              0,
              "#0d0887"
             ],
             [
              0.1111111111111111,
              "#46039f"
             ],
             [
              0.2222222222222222,
              "#7201a8"
             ],
             [
              0.3333333333333333,
              "#9c179e"
             ],
             [
              0.4444444444444444,
              "#bd3786"
             ],
             [
              0.5555555555555556,
              "#d8576b"
             ],
             [
              0.6666666666666666,
              "#ed7953"
             ],
             [
              0.7777777777777778,
              "#fb9f3a"
             ],
             [
              0.8888888888888888,
              "#fdca26"
             ],
             [
              1,
              "#f0f921"
             ]
            ],
            "type": "heatmap"
           }
          ],
          "heatmapgl": [
           {
            "colorbar": {
             "outlinewidth": 0,
             "ticks": ""
            },
            "colorscale": [
             [
              0,
              "#0d0887"
             ],
             [
              0.1111111111111111,
              "#46039f"
             ],
             [
              0.2222222222222222,
              "#7201a8"
             ],
             [
              0.3333333333333333,
              "#9c179e"
             ],
             [
              0.4444444444444444,
              "#bd3786"
             ],
             [
              0.5555555555555556,
              "#d8576b"
             ],
             [
              0.6666666666666666,
              "#ed7953"
             ],
             [
              0.7777777777777778,
              "#fb9f3a"
             ],
             [
              0.8888888888888888,
              "#fdca26"
             ],
             [
              1,
              "#f0f921"
             ]
            ],
            "type": "heatmapgl"
           }
          ],
          "histogram": [
           {
            "marker": {
             "pattern": {
              "fillmode": "overlay",
              "size": 10,
              "solidity": 0.2
             }
            },
            "type": "histogram"
           }
          ],
          "histogram2d": [
           {
            "colorbar": {
             "outlinewidth": 0,
             "ticks": ""
            },
            "colorscale": [
             [
              0,
              "#0d0887"
             ],
             [
              0.1111111111111111,
              "#46039f"
             ],
             [
              0.2222222222222222,
              "#7201a8"
             ],
             [
              0.3333333333333333,
              "#9c179e"
             ],
             [
              0.4444444444444444,
              "#bd3786"
             ],
             [
              0.5555555555555556,
              "#d8576b"
             ],
             [
              0.6666666666666666,
              "#ed7953"
             ],
             [
              0.7777777777777778,
              "#fb9f3a"
             ],
             [
              0.8888888888888888,
              "#fdca26"
             ],
             [
              1,
              "#f0f921"
             ]
            ],
            "type": "histogram2d"
           }
          ],
          "histogram2dcontour": [
           {
            "colorbar": {
             "outlinewidth": 0,
             "ticks": ""
            },
            "colorscale": [
             [
              0,
              "#0d0887"
             ],
             [
              0.1111111111111111,
              "#46039f"
             ],
             [
              0.2222222222222222,
              "#7201a8"
             ],
             [
              0.3333333333333333,
              "#9c179e"
             ],
             [
              0.4444444444444444,
              "#bd3786"
             ],
             [
              0.5555555555555556,
              "#d8576b"
             ],
             [
              0.6666666666666666,
              "#ed7953"
             ],
             [
              0.7777777777777778,
              "#fb9f3a"
             ],
             [
              0.8888888888888888,
              "#fdca26"
             ],
             [
              1,
              "#f0f921"
             ]
            ],
            "type": "histogram2dcontour"
           }
          ],
          "mesh3d": [
           {
            "colorbar": {
             "outlinewidth": 0,
             "ticks": ""
            },
            "type": "mesh3d"
           }
          ],
          "parcoords": [
           {
            "line": {
             "colorbar": {
              "outlinewidth": 0,
              "ticks": ""
             }
            },
            "type": "parcoords"
           }
          ],
          "pie": [
           {
            "automargin": true,
            "type": "pie"
           }
          ],
          "scatter": [
           {
            "marker": {
             "line": {
              "color": "#283442"
             }
            },
            "type": "scatter"
           }
          ],
          "scatter3d": [
           {
            "line": {
             "colorbar": {
              "outlinewidth": 0,
              "ticks": ""
             }
            },
            "marker": {
             "colorbar": {
              "outlinewidth": 0,
              "ticks": ""
             }
            },
            "type": "scatter3d"
           }
          ],
          "scattercarpet": [
           {
            "marker": {
             "colorbar": {
              "outlinewidth": 0,
              "ticks": ""
             }
            },
            "type": "scattercarpet"
           }
          ],
          "scattergeo": [
           {
            "marker": {
             "colorbar": {
              "outlinewidth": 0,
              "ticks": ""
             }
            },
            "type": "scattergeo"
           }
          ],
          "scattergl": [
           {
            "marker": {
             "line": {
              "color": "#283442"
             }
            },
            "type": "scattergl"
           }
          ],
          "scattermapbox": [
           {
            "marker": {
             "colorbar": {
              "outlinewidth": 0,
              "ticks": ""
             }
            },
            "type": "scattermapbox"
           }
          ],
          "scatterpolar": [
           {
            "marker": {
             "colorbar": {
              "outlinewidth": 0,
              "ticks": ""
             }
            },
            "type": "scatterpolar"
           }
          ],
          "scatterpolargl": [
           {
            "marker": {
             "colorbar": {
              "outlinewidth": 0,
              "ticks": ""
             }
            },
            "type": "scatterpolargl"
           }
          ],
          "scatterternary": [
           {
            "marker": {
             "colorbar": {
              "outlinewidth": 0,
              "ticks": ""
             }
            },
            "type": "scatterternary"
           }
          ],
          "surface": [
           {
            "colorbar": {
             "outlinewidth": 0,
             "ticks": ""
            },
            "colorscale": [
             [
              0,
              "#0d0887"
             ],
             [
              0.1111111111111111,
              "#46039f"
             ],
             [
              0.2222222222222222,
              "#7201a8"
             ],
             [
              0.3333333333333333,
              "#9c179e"
             ],
             [
              0.4444444444444444,
              "#bd3786"
             ],
             [
              0.5555555555555556,
              "#d8576b"
             ],
             [
              0.6666666666666666,
              "#ed7953"
             ],
             [
              0.7777777777777778,
              "#fb9f3a"
             ],
             [
              0.8888888888888888,
              "#fdca26"
             ],
             [
              1,
              "#f0f921"
             ]
            ],
            "type": "surface"
           }
          ],
          "table": [
           {
            "cells": {
             "fill": {
              "color": "#506784"
             },
             "line": {
              "color": "rgb(17,17,17)"
             }
            },
            "header": {
             "fill": {
              "color": "#2a3f5f"
             },
             "line": {
              "color": "rgb(17,17,17)"
             }
            },
            "type": "table"
           }
          ]
         },
         "layout": {
          "annotationdefaults": {
           "arrowcolor": "#f2f5fa",
           "arrowhead": 0,
           "arrowwidth": 1
          },
          "autotypenumbers": "strict",
          "coloraxis": {
           "colorbar": {
            "outlinewidth": 0,
            "ticks": ""
           }
          },
          "colorscale": {
           "diverging": [
            [
             0,
             "#8e0152"
            ],
            [
             0.1,
             "#c51b7d"
            ],
            [
             0.2,
             "#de77ae"
            ],
            [
             0.3,
             "#f1b6da"
            ],
            [
             0.4,
             "#fde0ef"
            ],
            [
             0.5,
             "#f7f7f7"
            ],
            [
             0.6,
             "#e6f5d0"
            ],
            [
             0.7,
             "#b8e186"
            ],
            [
             0.8,
             "#7fbc41"
            ],
            [
             0.9,
             "#4d9221"
            ],
            [
             1,
             "#276419"
            ]
           ],
           "sequential": [
            [
             0,
             "#0d0887"
            ],
            [
             0.1111111111111111,
             "#46039f"
            ],
            [
             0.2222222222222222,
             "#7201a8"
            ],
            [
             0.3333333333333333,
             "#9c179e"
            ],
            [
             0.4444444444444444,
             "#bd3786"
            ],
            [
             0.5555555555555556,
             "#d8576b"
            ],
            [
             0.6666666666666666,
             "#ed7953"
            ],
            [
             0.7777777777777778,
             "#fb9f3a"
            ],
            [
             0.8888888888888888,
             "#fdca26"
            ],
            [
             1,
             "#f0f921"
            ]
           ],
           "sequentialminus": [
            [
             0,
             "#0d0887"
            ],
            [
             0.1111111111111111,
             "#46039f"
            ],
            [
             0.2222222222222222,
             "#7201a8"
            ],
            [
             0.3333333333333333,
             "#9c179e"
            ],
            [
             0.4444444444444444,
             "#bd3786"
            ],
            [
             0.5555555555555556,
             "#d8576b"
            ],
            [
             0.6666666666666666,
             "#ed7953"
            ],
            [
             0.7777777777777778,
             "#fb9f3a"
            ],
            [
             0.8888888888888888,
             "#fdca26"
            ],
            [
             1,
             "#f0f921"
            ]
           ]
          },
          "colorway": [
           "#636efa",
           "#EF553B",
           "#00cc96",
           "#ab63fa",
           "#FFA15A",
           "#19d3f3",
           "#FF6692",
           "#B6E880",
           "#FF97FF",
           "#FECB52"
          ],
          "font": {
           "color": "#f2f5fa"
          },
          "geo": {
           "bgcolor": "rgb(17,17,17)",
           "lakecolor": "rgb(17,17,17)",
           "landcolor": "rgb(17,17,17)",
           "showlakes": true,
           "showland": true,
           "subunitcolor": "#506784"
          },
          "hoverlabel": {
           "align": "left"
          },
          "hovermode": "closest",
          "mapbox": {
           "style": "dark"
          },
          "paper_bgcolor": "rgb(17,17,17)",
          "plot_bgcolor": "rgb(17,17,17)",
          "polar": {
           "angularaxis": {
            "gridcolor": "#506784",
            "linecolor": "#506784",
            "ticks": ""
           },
           "bgcolor": "rgb(17,17,17)",
           "radialaxis": {
            "gridcolor": "#506784",
            "linecolor": "#506784",
            "ticks": ""
           }
          },
          "scene": {
           "xaxis": {
            "backgroundcolor": "rgb(17,17,17)",
            "gridcolor": "#506784",
            "gridwidth": 2,
            "linecolor": "#506784",
            "showbackground": true,
            "ticks": "",
            "zerolinecolor": "#C8D4E3"
           },
           "yaxis": {
            "backgroundcolor": "rgb(17,17,17)",
            "gridcolor": "#506784",
            "gridwidth": 2,
            "linecolor": "#506784",
            "showbackground": true,
            "ticks": "",
            "zerolinecolor": "#C8D4E3"
           },
           "zaxis": {
            "backgroundcolor": "rgb(17,17,17)",
            "gridcolor": "#506784",
            "gridwidth": 2,
            "linecolor": "#506784",
            "showbackground": true,
            "ticks": "",
            "zerolinecolor": "#C8D4E3"
           }
          },
          "shapedefaults": {
           "line": {
            "color": "#f2f5fa"
           }
          },
          "sliderdefaults": {
           "bgcolor": "#C8D4E3",
           "bordercolor": "rgb(17,17,17)",
           "borderwidth": 1,
           "tickwidth": 0
          },
          "ternary": {
           "aaxis": {
            "gridcolor": "#506784",
            "linecolor": "#506784",
            "ticks": ""
           },
           "baxis": {
            "gridcolor": "#506784",
            "linecolor": "#506784",
            "ticks": ""
           },
           "bgcolor": "rgb(17,17,17)",
           "caxis": {
            "gridcolor": "#506784",
            "linecolor": "#506784",
            "ticks": ""
           }
          },
          "title": {
           "x": 0.05
          },
          "updatemenudefaults": {
           "bgcolor": "#506784",
           "borderwidth": 0
          },
          "xaxis": {
           "automargin": true,
           "gridcolor": "#283442",
           "linecolor": "#506784",
           "ticks": "",
           "title": {
            "standoff": 15
           },
           "zerolinecolor": "#283442",
           "zerolinewidth": 2
          },
          "yaxis": {
           "automargin": true,
           "gridcolor": "#283442",
           "linecolor": "#506784",
           "ticks": "",
           "title": {
            "standoff": 15
           },
           "zerolinecolor": "#283442",
           "zerolinewidth": 2
          }
         }
        },
        "title": {
         "text": "Posterior marginal distribution of patch weights"
        },
        "xaxis": {
         "anchor": "y",
         "domain": [
          0,
          1
         ],
         "title": {
          "text": "value"
         }
        },
        "yaxis": {
         "anchor": "x",
         "domain": [
          0,
          1
         ],
         "title": {
          "text": "count"
         }
        }
       }
      }
     },
     "metadata": {},
     "output_type": "display_data"
    }
   ],
   "source": [
    "fig2 = px.histogram(samples[\"weight_patch\"], title=\"Posterior marginal distribution of patch weights\",\n",
    "             template=\"plotly_dark\")\n",
    "\n",
    "mean_patch = samples[\"weight_patch\"].mean()\n",
    "\n",
    "\n",
    "fig2.update_traces(showlegend=False)\n",
    "fig2.add_vline(x= mean_patch, line_dash=\"dash\", line_color=\"red\", annotation_text=f\"Mean = {mean_patch:.2f}\", \n",
    "               annotation_position=\"top right\", \n",
    "              annotation_xshift=20)"
   ]
  }
 ],
 "metadata": {
  "kernelspec": {
   "display_name": "causal_pyro",
   "language": "python",
   "name": "python3"
  },
  "language_info": {
   "codemirror_mode": {
    "name": "ipython",
    "version": 3
   },
   "file_extension": ".py",
   "mimetype": "text/x-python",
   "name": "python",
   "nbconvert_exporter": "python",
   "pygments_lexer": "ipython3",
   "version": "3.10.11"
  },
  "orig_nbformat": 4
 },
 "nbformat": 4,
 "nbformat_minor": 2
}
