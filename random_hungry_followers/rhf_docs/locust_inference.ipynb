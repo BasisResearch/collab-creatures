{
 "cells": [
  {
   "cell_type": "code",
   "execution_count": 1,
   "metadata": {},
   "outputs": [],
   "source": [
    "import sys\n",
    "\n",
    "sys.path.insert(0, \"..\")\n",
    "\n",
    "import random\n",
    "import numpy as np\n",
    "from sklearn.preprocessing import LabelEncoder\n",
    "\n",
    "import plotly.express as px\n",
    "import plotly.graph_objects as go\n",
    "import pandas as pd\n",
    "import random\n",
    "import matplotlib.pyplot as plt\n",
    "import seaborn as sns\n",
    "import pickle\n",
    "import torch\n",
    "import pyro\n",
    "import foraging_toolkit as ft\n",
    "import torch.nn.functional as F\n",
    "import pyro.distributions as dist\n",
    "import pyro.optim as optim\n",
    "from pyro.nn import PyroModule\n",
    "from pyro.infer.autoguide import (\n",
    "    AutoNormal,\n",
    "    AutoDiagonalNormal,\n",
    "    AutoMultivariateNormal,\n",
    "    init_to_mean,\n",
    "    init_to_value,\n",
    ")\n",
    "from pyro.contrib.autoguide import AutoLaplaceApproximation\n",
    "from pyro.infer import SVI, Trace_ELBO\n",
    "from pyro.optim import Adam\n",
    "from pyro.infer import Predictive\n",
    "from pyro.infer import MCMC, NUTS\n",
    "\n",
    "import os\n",
    "import logging\n",
    "\n",
    "logging.basicConfig(format=\"%(message)s\", level=logging.INFO)\n",
    "smoke_test = \"CI\" in os.environ\n",
    "\n",
    "\n",
    "# import foraging_toolkit as ft\n"
   ]
  },
  {
   "cell_type": "code",
   "execution_count": 2,
   "metadata": {},
   "outputs": [
    {
     "data": {
      "text/html": [
       "<div>\n",
       "<style scoped>\n",
       "    .dataframe tbody tr th:only-of-type {\n",
       "        vertical-align: middle;\n",
       "    }\n",
       "\n",
       "    .dataframe tbody tr th {\n",
       "        vertical-align: top;\n",
       "    }\n",
       "\n",
       "    .dataframe thead th {\n",
       "        text-align: right;\n",
       "    }\n",
       "</style>\n",
       "<table border=\"1\" class=\"dataframe\">\n",
       "  <thead>\n",
       "    <tr style=\"text-align: right;\">\n",
       "      <th></th>\n",
       "      <th>x</th>\n",
       "      <th>y</th>\n",
       "      <th>time</th>\n",
       "    </tr>\n",
       "  </thead>\n",
       "  <tbody>\n",
       "    <tr>\n",
       "      <th>0</th>\n",
       "      <td>0</td>\n",
       "      <td>24</td>\n",
       "      <td>1</td>\n",
       "    </tr>\n",
       "    <tr>\n",
       "      <th>1</th>\n",
       "      <td>1</td>\n",
       "      <td>24</td>\n",
       "      <td>1</td>\n",
       "    </tr>\n",
       "    <tr>\n",
       "      <th>2</th>\n",
       "      <td>2</td>\n",
       "      <td>24</td>\n",
       "      <td>1</td>\n",
       "    </tr>\n",
       "    <tr>\n",
       "      <th>3</th>\n",
       "      <td>3</td>\n",
       "      <td>24</td>\n",
       "      <td>1</td>\n",
       "    </tr>\n",
       "    <tr>\n",
       "      <th>4</th>\n",
       "      <td>0</td>\n",
       "      <td>25</td>\n",
       "      <td>1</td>\n",
       "    </tr>\n",
       "  </tbody>\n",
       "</table>\n",
       "</div>"
      ],
      "text/plain": [
       "   x   y  time\n",
       "0  0  24     1\n",
       "1  1  24     1\n",
       "2  2  24     1\n",
       "3  3  24     1\n",
       "4  0  25     1"
      ]
     },
     "execution_count": 2,
     "metadata": {},
     "output_type": "execute_result"
    }
   ],
   "source": [
    "with open(\"communicatorsDFs.pkl\", \"rb\") as f:\n",
    "    communicatorsDFs = pickle.load(f)\n",
    "birdsDF = communicatorsDFs[0]\n",
    "rewardsDF = communicatorsDFs[1]\n",
    "birdsDF = birdsDF[birdsDF[\"bird\"] >= 3]\n",
    "indices_to_rename = birdsDF[birdsDF[\"bird\"].isin([3, 4])].index\n",
    "new_values = birdsDF.loc[indices_to_rename, \"bird\"].replace({3: 1, 4: 2})\n",
    "birdsDF.loc[indices_to_rename, \"bird\"] = new_values\n",
    "communicators = ft.object_from_data(birdsDF, rewardsDF)\n",
    "\n",
    "rewardsDF.head()\n"
   ]
  },
  {
   "cell_type": "code",
   "execution_count": 3,
   "metadata": {},
   "outputs": [
    {
     "name": "stdout",
     "output_type": "stream",
     "text": [
      "(1350000, 4)\n"
     ]
    }
   ],
   "source": [
    "locust = pd.read_csv(\"locust.csv\")\n",
    "\n",
    "locust.drop(\"cnt\", axis=1, inplace=True)\n",
    "locust.rename(\n",
    "    columns={\"pos_x\": \"x\", \"pos_y\": \"y\", \"id\": \"bird\", \"frame\": \"time\"}, inplace=True\n",
    ")\n",
    "\n",
    "locust = locust[[\"x\", \"y\", \"time\", \"bird\"]]\n",
    "\n",
    "\n",
    "encoder = LabelEncoder()\n",
    "\n",
    "locust['bird'] = encoder.fit_transform(locust['bird'])\n",
    "\n",
    "locust['bird'] = locust['bird'] + 1\n",
    "\n",
    "locust.tail()\n",
    "print(locust.shape)\n"
   ]
  },
  {
   "cell_type": "code",
   "execution_count": 4,
   "metadata": {},
   "outputs": [],
   "source": [
    "#don't run twice!\n",
    "locust['x'] = np.round(locust['x']/ (2000/200)).astype(int)\n",
    "locust['y'] = np.round(locust['y']/ (2000/200)).astype(int)\n",
    "locust['time'] = np.round(locust['time']/ (90000/1800)).astype(int)\n",
    "\n",
    "locust = locust.drop_duplicates(subset=['time', 'bird'], keep='first')\n"
   ]
  },
  {
   "cell_type": "code",
   "execution_count": 7,
   "metadata": {},
   "outputs": [
    {
     "name": "stdout",
     "output_type": "stream",
     "text": [
      "           x    y  time  bird\n",
      "1349620   32   42  1800    11\n",
      "1349621  186  143  1800    12\n",
      "1349622  197   86  1800    13\n",
      "1349623   15   85  1800    14\n",
      "1349624  153   42  1800    15\n",
      "          x    y  time  bird\n",
      "134620  149  147   180    11\n",
      "134621   51   59   180    12\n",
      "134622  154  135   180    13\n",
      "134623   30  138   180    14\n",
      "134624   66  167   180    15\n"
     ]
    }
   ],
   "source": [
    "\n",
    "print(locust.tail())\n",
    "locust_initial = locust[locust['time'] <= 180]\n",
    "print(locust_initial.tail())"
   ]
  },
  {
   "cell_type": "code",
   "execution_count": 8,
   "metadata": {},
   "outputs": [],
   "source": [
    "def object_from_data(birdsDF, rewardsDF, trim = False):\n",
    "    grid_max = max(max(birdsDF[\"x\"]), max(birdsDF[\"y\"]))\n",
    "    maxes = [max(birdsDF[\"time\"]), max(rewardsDF[\"time\"])]\n",
    "    if trim:\n",
    "        limit = min(maxes)\n",
    "    else:\n",
    "        limit = max(maxes)\n",
    "    birdsDF = birdsDF[birdsDF[\"time\"] <= limit]\n",
    "    rewardsDF = rewardsDF[rewardsDF[\"time\"] <= limit]\n",
    "\n",
    "    class EmptyObject:\n",
    "        pass\n",
    "\n",
    "    sim = EmptyObject()\n",
    "\n",
    "    sim.grid_size = int(grid_max)\n",
    "    sim.num_frames = int(limit)\n",
    "    sim.birdsDF = birdsDF\n",
    "    sim.rewardsDF = rewardsDF\n",
    "    sim.birds = [group for _, group in birdsDF.groupby(\"bird\")]\n",
    "    sim.rewards = [group for _, group in rewardsDF.groupby(\"time\")]\n",
    "    sim.num_birds = len(sim.birds)\n",
    "\n",
    "    step_maxes = []\n",
    "\n",
    "\n",
    "    for b in range(len(sim.birds)):\n",
    "        step_maxes.append(\n",
    "            max(\n",
    "                max(\n",
    "                    [\n",
    "                        abs(sim.birds[b][\"x\"].iloc[t + 1] - sim.birds[b][\"x\"].iloc[t])\n",
    "                        for t in range(sim.num_frames - 1)\n",
    "                    ]\n",
    "                ),\n",
    "                max(\n",
    "                    [\n",
    "                        abs(sim.birds[b][\"y\"].iloc[t + 1] - sim.birds[b][\"y\"].iloc[t])\n",
    "                        for t in range(sim.num_frames - 1)\n",
    "                    ]\n",
    "                ),\n",
    "            )\n",
    "        )\n",
    "\n",
    "    sim.step_size_max = max(step_maxes)\n",
    "\n",
    "    return sim\n",
    "\n",
    "loc = object_from_data(locust_initial, rewardsDF)\n"
   ]
  },
  {
   "cell_type": "code",
   "execution_count": 9,
   "metadata": {},
   "outputs": [
    {
     "data": {
      "text/html": [
       "<div>\n",
       "<style scoped>\n",
       "    .dataframe tbody tr th:only-of-type {\n",
       "        vertical-align: middle;\n",
       "    }\n",
       "\n",
       "    .dataframe tbody tr th {\n",
       "        vertical-align: top;\n",
       "    }\n",
       "\n",
       "    .dataframe thead th {\n",
       "        text-align: right;\n",
       "    }\n",
       "</style>\n",
       "<table border=\"1\" class=\"dataframe\">\n",
       "  <thead>\n",
       "    <tr style=\"text-align: right;\">\n",
       "      <th></th>\n",
       "      <th>x</th>\n",
       "      <th>y</th>\n",
       "      <th>time</th>\n",
       "      <th>bird</th>\n",
       "    </tr>\n",
       "  </thead>\n",
       "  <tbody>\n",
       "    <tr>\n",
       "      <th>131610</th>\n",
       "      <td>92</td>\n",
       "      <td>154</td>\n",
       "      <td>176</td>\n",
       "      <td>1</td>\n",
       "    </tr>\n",
       "    <tr>\n",
       "      <th>132375</th>\n",
       "      <td>93</td>\n",
       "      <td>154</td>\n",
       "      <td>177</td>\n",
       "      <td>1</td>\n",
       "    </tr>\n",
       "    <tr>\n",
       "      <th>133110</th>\n",
       "      <td>92</td>\n",
       "      <td>157</td>\n",
       "      <td>178</td>\n",
       "      <td>1</td>\n",
       "    </tr>\n",
       "    <tr>\n",
       "      <th>133875</th>\n",
       "      <td>91</td>\n",
       "      <td>159</td>\n",
       "      <td>179</td>\n",
       "      <td>1</td>\n",
       "    </tr>\n",
       "    <tr>\n",
       "      <th>134610</th>\n",
       "      <td>90</td>\n",
       "      <td>160</td>\n",
       "      <td>180</td>\n",
       "      <td>1</td>\n",
       "    </tr>\n",
       "  </tbody>\n",
       "</table>\n",
       "</div>"
      ],
      "text/plain": [
       "         x    y  time  bird\n",
       "131610  92  154   176     1\n",
       "132375  93  154   177     1\n",
       "133110  92  157   178     1\n",
       "133875  91  159   179     1\n",
       "134610  90  160   180     1"
      ]
     },
     "execution_count": 9,
     "metadata": {},
     "output_type": "execute_result"
    }
   ],
   "source": [
    "loc.birds[0].tail()"
   ]
  },
  {
   "cell_type": "code",
   "execution_count": 10,
   "metadata": {},
   "outputs": [
    {
     "data": {
      "application/vnd.plotly.v1+json": {
       "config": {
        "plotlyServerURL": "https://plot.ly"
       },
       "data": [
        {
         "hovertemplate": "time=0<br>x=%{x}<br>y=%{y}<br>bird=%{marker.color}<extra></extra>",
         "legendgroup": "",
         "marker": {
          "color": [
           1,
           2,
           3,
           4,
           5,
           6,
           7,
           8,
           9,
           10,
           11,
           12,
           13,
           14,
           15
          ],
          "coloraxis": "coloraxis",
          "symbol": "circle"
         },
         "mode": "markers",
         "name": "",
         "orientation": "v",
         "showlegend": false,
         "type": "scatter",
         "x": [
          136,
          79,
          64,
          158,
          14,
          55,
          97,
          161,
          190,
          54,
          154,
          69,
          117,
          172,
          181
         ],
         "xaxis": "x",
         "y": [
          61,
          185,
          58,
          21,
          98,
          46,
          116,
          46,
          116,
          37,
          144,
          101,
          189,
          96,
          91
         ],
         "yaxis": "y"
        }
       ],
       "frames": [
        {
         "data": [
          {
           "hovertemplate": "time=0<br>x=%{x}<br>y=%{y}<br>bird=%{marker.color}<extra></extra>",
           "legendgroup": "",
           "marker": {
            "color": [
             1,
             2,
             3,
             4,
             5,
             6,
             7,
             8,
             9,
             10,
             11,
             12,
             13,
             14,
             15
            ],
            "coloraxis": "coloraxis",
            "symbol": "circle"
           },
           "mode": "markers",
           "name": "",
           "orientation": "v",
           "showlegend": false,
           "type": "scatter",
           "x": [
            136,
            79,
            64,
            158,
            14,
            55,
            97,
            161,
            190,
            54,
            154,
            69,
            117,
            172,
            181
           ],
           "xaxis": "x",
           "y": [
            61,
            185,
            58,
            21,
            98,
            46,
            116,
            46,
            116,
            37,
            144,
            101,
            189,
            96,
            91
           ],
           "yaxis": "y"
          }
         ],
         "name": "0"
        },
        {
         "data": [
          {
           "hovertemplate": "time=1<br>x=%{x}<br>y=%{y}<br>bird=%{marker.color}<extra></extra>",
           "legendgroup": "",
           "marker": {
            "color": [
             1,
             2,
             3,
             4,
             5,
             6,
             7,
             8,
             9,
             10,
             11,
             12,
             13,
             14,
             15
            ],
            "coloraxis": "coloraxis",
            "symbol": "circle"
           },
           "mode": "markers",
           "name": "",
           "orientation": "v",
           "showlegend": false,
           "type": "scatter",
           "x": [
            136,
            79,
            64,
            158,
            15,
            55,
            89,
            161,
            190,
            54,
            154,
            69,
            117,
            172,
            179
           ],
           "xaxis": "x",
           "y": [
            61,
            185,
            58,
            21,
            113,
            46,
            122,
            46,
            116,
            38,
            145,
            101,
            189,
            96,
            92
           ],
           "yaxis": "y"
          }
         ],
         "name": "1"
        },
        {
         "data": [
          {
           "hovertemplate": "time=2<br>x=%{x}<br>y=%{y}<br>bird=%{marker.color}<extra></extra>",
           "legendgroup": "",
           "marker": {
            "color": [
             1,
             2,
             3,
             4,
             5,
             6,
             7,
             8,
             9,
             10,
             11,
             12,
             13,
             14,
             15
            ],
            "coloraxis": "coloraxis",
            "symbol": "circle"
           },
           "mode": "markers",
           "name": "",
           "orientation": "v",
           "showlegend": false,
           "type": "scatter",
           "x": [
            134,
            79,
            65,
            158,
            25,
            56,
            76,
            161,
            190,
            53,
            153,
            60,
            119,
            157,
            175
           ],
           "xaxis": "x",
           "y": [
            61,
            185,
            58,
            21,
            141,
            47,
            132,
            46,
            116,
            38,
            145,
            112,
            187,
            108,
            93
           ],
           "yaxis": "y"
          }
         ],
         "name": "2"
        },
        {
         "data": [
          {
           "hovertemplate": "time=3<br>x=%{x}<br>y=%{y}<br>bird=%{marker.color}<extra></extra>",
           "legendgroup": "",
           "marker": {
            "color": [
             1,
             2,
             3,
             4,
             5,
             6,
             7,
             8,
             9,
             10,
             11,
             12,
             13,
             14,
             15
            ],
            "coloraxis": "coloraxis",
            "symbol": "circle"
           },
           "mode": "markers",
           "name": "",
           "orientation": "v",
           "showlegend": false,
           "type": "scatter",
           "x": [
            134,
            79,
            64,
            157,
            50,
            55,
            72,
            161,
            192,
            52,
            153,
            62,
            127,
            143,
            176
           ],
           "xaxis": "x",
           "y": [
            61,
            185,
            58,
            20,
            171,
            46,
            135,
            46,
            126,
            43,
            146,
            119,
            185,
            120,
            93
           ],
           "yaxis": "y"
          }
         ],
         "name": "3"
        },
        {
         "data": [
          {
           "hovertemplate": "time=4<br>x=%{x}<br>y=%{y}<br>bird=%{marker.color}<extra></extra>",
           "legendgroup": "",
           "marker": {
            "color": [
             1,
             2,
             3,
             4,
             5,
             6,
             7,
             8,
             9,
             10,
             11,
             12,
             13,
             14,
             15
            ],
            "coloraxis": "coloraxis",
            "symbol": "circle"
           },
           "mode": "markers",
           "name": "",
           "orientation": "v",
           "showlegend": false,
           "type": "scatter",
           "x": [
            134,
            79,
            64,
            155,
            58,
            56,
            72,
            161,
            188,
            51,
            153,
            64,
            133,
            145,
            175
           ],
           "xaxis": "x",
           "y": [
            61,
            185,
            59,
            20,
            176,
            47,
            135,
            46,
            136,
            45,
            147,
            130,
            183,
            127,
            93
           ],
           "yaxis": "y"
          }
         ],
         "name": "4"
        },
        {
         "data": [
          {
           "hovertemplate": "time=5<br>x=%{x}<br>y=%{y}<br>bird=%{marker.color}<extra></extra>",
           "legendgroup": "",
           "marker": {
            "color": [
             1,
             2,
             3,
             4,
             5,
             6,
             7,
             8,
             9,
             10,
             11,
             12,
             13,
             14,
             15
            ],
            "coloraxis": "coloraxis",
            "symbol": "circle"
           },
           "mode": "markers",
           "name": "",
           "orientation": "v",
           "showlegend": false,
           "type": "scatter",
           "x": [
            134,
            79,
            64,
            152,
            67,
            56,
            71,
            161,
            183,
            52,
            151,
            64,
            139,
            145,
            171
           ],
           "xaxis": "x",
           "y": [
            60,
            185,
            59,
            19,
            174,
            47,
            135,
            47,
            146,
            47,
            147,
            131,
            180,
            128,
            96
           ],
           "yaxis": "y"
          }
         ],
         "name": "5"
        },
        {
         "data": [
          {
           "hovertemplate": "time=6<br>x=%{x}<br>y=%{y}<br>bird=%{marker.color}<extra></extra>",
           "legendgroup": "",
           "marker": {
            "color": [
             1,
             2,
             3,
             4,
             5,
             6,
             7,
             8,
             9,
             10,
             11,
             12,
             13,
             14,
             15
            ],
            "coloraxis": "coloraxis",
            "symbol": "circle"
           },
           "mode": "markers",
           "name": "",
           "orientation": "v",
           "showlegend": false,
           "type": "scatter",
           "x": [
            133,
            79,
            64,
            151,
            67,
            57,
            71,
            161,
            173,
            52,
            151,
            64,
            140,
            149,
            170
           ],
           "xaxis": "x",
           "y": [
            60,
            185,
            59,
            19,
            174,
            47,
            135,
            48,
            154,
            47,
            147,
            131,
            179,
            132,
            98
           ],
           "yaxis": "y"
          }
         ],
         "name": "6"
        },
        {
         "data": [
          {
           "hovertemplate": "time=7<br>x=%{x}<br>y=%{y}<br>bird=%{marker.color}<extra></extra>",
           "legendgroup": "",
           "marker": {
            "color": [
             1,
             2,
             3,
             4,
             5,
             6,
             7,
             8,
             9,
             10,
             11,
             12,
             13,
             14,
             15
            ],
            "coloraxis": "coloraxis",
            "symbol": "circle"
           },
           "mode": "markers",
           "name": "",
           "orientation": "v",
           "showlegend": false,
           "type": "scatter",
           "x": [
            134,
            79,
            64,
            152,
            68,
            57,
            71,
            159,
            160,
            52,
            150,
            67,
            140,
            155,
            164
           ],
           "xaxis": "x",
           "y": [
            60,
            185,
            59,
            19,
            174,
            47,
            135,
            49,
            155,
            48,
            147,
            132,
            179,
            133,
            104
           ],
           "yaxis": "y"
          }
         ],
         "name": "7"
        },
        {
         "data": [
          {
           "hovertemplate": "time=8<br>x=%{x}<br>y=%{y}<br>bird=%{marker.color}<extra></extra>",
           "legendgroup": "",
           "marker": {
            "color": [
             1,
             2,
             3,
             4,
             5,
             6,
             7,
             8,
             9,
             10,
             11,
             12,
             13,
             14,
             15
            ],
            "coloraxis": "coloraxis",
            "symbol": "circle"
           },
           "mode": "markers",
           "name": "",
           "orientation": "v",
           "showlegend": false,
           "type": "scatter",
           "x": [
            134,
            79,
            64,
            152,
            70,
            57,
            71,
            156,
            154,
            52,
            151,
            70,
            140,
            154,
            158
           ],
           "xaxis": "x",
           "y": [
            60,
            185,
            59,
            19,
            168,
            47,
            136,
            50,
            151,
            48,
            146,
            131,
            179,
            133,
            111
           ],
           "yaxis": "y"
          }
         ],
         "name": "8"
        },
        {
         "data": [
          {
           "hovertemplate": "time=9<br>x=%{x}<br>y=%{y}<br>bird=%{marker.color}<extra></extra>",
           "legendgroup": "",
           "marker": {
            "color": [
             1,
             2,
             3,
             4,
             5,
             6,
             7,
             8,
             9,
             10,
             11,
             12,
             13,
             14,
             15
            ],
            "coloraxis": "coloraxis",
            "symbol": "circle"
           },
           "mode": "markers",
           "name": "",
           "orientation": "v",
           "showlegend": false,
           "type": "scatter",
           "x": [
            134,
            81,
            64,
            152,
            71,
            58,
            65,
            150,
            154,
            52,
            151,
            78,
            141,
            154,
            148
           ],
           "xaxis": "x",
           "y": [
            59,
            186,
            59,
            19,
            160,
            47,
            142,
            51,
            151,
            48,
            145,
            132,
            178,
            134,
            121
           ],
           "yaxis": "y"
          }
         ],
         "name": "9"
        },
        {
         "data": [
          {
           "hovertemplate": "time=10<br>x=%{x}<br>y=%{y}<br>bird=%{marker.color}<extra></extra>",
           "legendgroup": "",
           "marker": {
            "color": [
             1,
             2,
             3,
             4,
             5,
             6,
             7,
             8,
             9,
             10,
             11,
             12,
             13,
             14,
             15
            ],
            "coloraxis": "coloraxis",
            "symbol": "circle"
           },
           "mode": "markers",
           "name": "",
           "orientation": "v",
           "showlegend": false,
           "type": "scatter",
           "x": [
            134,
            95,
            64,
            152,
            71,
            58,
            58,
            145,
            154,
            52,
            150,
            78,
            143,
            155,
            148
           ],
           "xaxis": "x",
           "y": [
            59,
            189,
            59,
            19,
            160,
            47,
            142,
            52,
            151,
            48,
            143,
            132,
            173,
            134,
            128
           ],
           "yaxis": "y"
          }
         ],
         "name": "10"
        },
        {
         "data": [
          {
           "hovertemplate": "time=11<br>x=%{x}<br>y=%{y}<br>bird=%{marker.color}<extra></extra>",
           "legendgroup": "",
           "marker": {
            "color": [
             1,
             2,
             3,
             4,
             5,
             6,
             7,
             8,
             9,
             10,
             11,
             12,
             13,
             14,
             15
            ],
            "coloraxis": "coloraxis",
            "symbol": "circle"
           },
           "mode": "markers",
           "name": "",
           "orientation": "v",
           "showlegend": false,
           "type": "scatter",
           "x": [
            134,
            108,
            64,
            152,
            71,
            59,
            56,
            140,
            153,
            52,
            152,
            82,
            145,
            155,
            150
           ],
           "xaxis": "x",
           "y": [
            59,
            189,
            59,
            19,
            160,
            48,
            138,
            56,
            149,
            49,
            141,
            127,
            168,
            134,
            132
           ],
           "yaxis": "y"
          }
         ],
         "name": "11"
        },
        {
         "data": [
          {
           "hovertemplate": "time=12<br>x=%{x}<br>y=%{y}<br>bird=%{marker.color}<extra></extra>",
           "legendgroup": "",
           "marker": {
            "color": [
             1,
             2,
             3,
             4,
             5,
             6,
             7,
             8,
             9,
             10,
             11,
             12,
             13,
             14,
             15
            ],
            "coloraxis": "coloraxis",
            "symbol": "circle"
           },
           "mode": "markers",
           "name": "",
           "orientation": "v",
           "showlegend": false,
           "type": "scatter",
           "x": [
            131,
            121,
            63,
            152,
            82,
            59,
            56,
            139,
            152,
            53,
            150,
            79,
            146,
            155,
            151
           ],
           "xaxis": "x",
           "y": [
            59,
            188,
            59,
            19,
            143,
            48,
            137,
            59,
            147,
            49,
            140,
            112,
            167,
            135,
            134
           ],
           "yaxis": "y"
          }
         ],
         "name": "12"
        },
        {
         "data": [
          {
           "hovertemplate": "time=13<br>x=%{x}<br>y=%{y}<br>bird=%{marker.color}<extra></extra>",
           "legendgroup": "",
           "marker": {
            "color": [
             1,
             2,
             3,
             4,
             5,
             6,
             7,
             8,
             9,
             10,
             11,
             12,
             13,
             14,
             15
            ],
            "coloraxis": "coloraxis",
            "symbol": "circle"
           },
           "mode": "markers",
           "name": "",
           "orientation": "v",
           "showlegend": false,
           "type": "scatter",
           "x": [
            128,
            133,
            63,
            152,
            83,
            58,
            55,
            135,
            150,
            53,
            150,
            68,
            145,
            156,
            152
           ],
           "xaxis": "x",
           "y": [
            58,
            185,
            59,
            19,
            130,
            47,
            137,
            60,
            146,
            48,
            140,
            100,
            165,
            135,
            136
           ],
           "yaxis": "y"
          }
         ],
         "name": "13"
        },
        {
         "data": [
          {
           "hovertemplate": "time=14<br>x=%{x}<br>y=%{y}<br>bird=%{marker.color}<extra></extra>",
           "legendgroup": "",
           "marker": {
            "color": [
             1,
             2,
             3,
             4,
             5,
             6,
             7,
             8,
             9,
             10,
             11,
             12,
             13,
             14,
             15
            ],
            "coloraxis": "coloraxis",
            "symbol": "circle"
           },
           "mode": "markers",
           "name": "",
           "orientation": "v",
           "showlegend": false,
           "type": "scatter",
           "x": [
            122,
            147,
            63,
            152,
            86,
            59,
            56,
            132,
            150,
            54,
            147,
            62,
            145,
            156,
            152
           ],
           "xaxis": "x",
           "y": [
            59,
            179,
            59,
            19,
            103,
            46,
            137,
            60,
            144,
            47,
            138,
            86,
            165,
            135,
            136
           ],
           "yaxis": "y"
          }
         ],
         "name": "14"
        },
        {
         "data": [
          {
           "hovertemplate": "time=15<br>x=%{x}<br>y=%{y}<br>bird=%{marker.color}<extra></extra>",
           "legendgroup": "",
           "marker": {
            "color": [
             1,
             2,
             3,
             4,
             5,
             6,
             7,
             8,
             9,
             10,
             11,
             12,
             13,
             14,
             15
            ],
            "coloraxis": "coloraxis",
            "symbol": "circle"
           },
           "mode": "markers",
           "name": "",
           "orientation": "v",
           "showlegend": false,
           "type": "scatter",
           "x": [
            118,
            159,
            63,
            152,
            85,
            58,
            56,
            127,
            152,
            54,
            147,
            59,
            145,
            157,
            152
           ],
           "xaxis": "x",
           "y": [
            61,
            172,
            60,
            19,
            99,
            47,
            137,
            60,
            144,
            48,
            139,
            77,
            165,
            136,
            135
           ],
           "yaxis": "y"
          }
         ],
         "name": "15"
        },
        {
         "data": [
          {
           "hovertemplate": "time=16<br>x=%{x}<br>y=%{y}<br>bird=%{marker.color}<extra></extra>",
           "legendgroup": "",
           "marker": {
            "color": [
             1,
             2,
             3,
             4,
             5,
             6,
             7,
             8,
             9,
             10,
             11,
             12,
             13,
             14,
             15
            ],
            "coloraxis": "coloraxis",
            "symbol": "circle"
           },
           "mode": "markers",
           "name": "",
           "orientation": "v",
           "showlegend": false,
           "type": "scatter",
           "x": [
            115,
            172,
            63,
            152,
            86,
            58,
            56,
            124,
            155,
            54,
            147,
            59,
            147,
            158,
            152
           ],
           "xaxis": "x",
           "y": [
            65,
            162,
            60,
            19,
            99,
            49,
            137,
            61,
            140,
            48,
            138,
            77,
            160,
            136,
            135
           ],
           "yaxis": "y"
          }
         ],
         "name": "16"
        },
        {
         "data": [
          {
           "hovertemplate": "time=17<br>x=%{x}<br>y=%{y}<br>bird=%{marker.color}<extra></extra>",
           "legendgroup": "",
           "marker": {
            "color": [
             1,
             2,
             3,
             4,
             5,
             6,
             7,
             8,
             9,
             10,
             11,
             12,
             13,
             14,
             15
            ],
            "coloraxis": "coloraxis",
            "symbol": "circle"
           },
           "mode": "markers",
           "name": "",
           "orientation": "v",
           "showlegend": false,
           "type": "scatter",
           "x": [
            113,
            181,
            63,
            152,
            86,
            60,
            56,
            119,
            154,
            56,
            147,
            59,
            150,
            158,
            154
           ],
           "xaxis": "x",
           "y": [
            69,
            150,
            60,
            19,
            99,
            48,
            137,
            64,
            141,
            47,
            139,
            77,
            153,
            136,
            135
           ],
           "yaxis": "y"
          }
         ],
         "name": "17"
        },
        {
         "data": [
          {
           "hovertemplate": "time=18<br>x=%{x}<br>y=%{y}<br>bird=%{marker.color}<extra></extra>",
           "legendgroup": "",
           "marker": {
            "color": [
             1,
             2,
             3,
             4,
             5,
             6,
             7,
             8,
             9,
             10,
             11,
             12,
             13,
             14,
             15
            ],
            "coloraxis": "coloraxis",
            "symbol": "circle"
           },
           "mode": "markers",
           "name": "",
           "orientation": "v",
           "showlegend": false,
           "type": "scatter",
           "x": [
            110,
            189,
            63,
            151,
            86,
            61,
            57,
            117,
            152,
            56,
            148,
            59,
            150,
            159,
            154
           ],
           "xaxis": "x",
           "y": [
            74,
            137,
            60,
            19,
            99,
            48,
            135,
            67,
            138,
            46,
            140,
            77,
            151,
            137,
            136
           ],
           "yaxis": "y"
          }
         ],
         "name": "18"
        },
        {
         "data": [
          {
           "hovertemplate": "time=19<br>x=%{x}<br>y=%{y}<br>bird=%{marker.color}<extra></extra>",
           "legendgroup": "",
           "marker": {
            "color": [
             1,
             2,
             3,
             4,
             5,
             6,
             7,
             8,
             9,
             10,
             11,
             12,
             13,
             14,
             15
            ],
            "coloraxis": "coloraxis",
            "symbol": "circle"
           },
           "mode": "markers",
           "name": "",
           "orientation": "v",
           "showlegend": false,
           "type": "scatter",
           "x": [
            107,
            194,
            63,
            143,
            86,
            61,
            59,
            113,
            149,
            57,
            150,
            64,
            150,
            160,
            155
           ],
           "xaxis": "x",
           "y": [
            77,
            122,
            60,
            21,
            99,
            49,
            135,
            71,
            138,
            46,
            144,
            73,
            151,
            137,
            136
           ],
           "yaxis": "y"
          }
         ],
         "name": "19"
        },
        {
         "data": [
          {
           "hovertemplate": "time=20<br>x=%{x}<br>y=%{y}<br>bird=%{marker.color}<extra></extra>",
           "legendgroup": "",
           "marker": {
            "color": [
             1,
             2,
             3,
             4,
             5,
             6,
             7,
             8,
             9,
             10,
             11,
             12,
             13,
             14,
             15
            ],
            "coloraxis": "coloraxis",
            "symbol": "circle"
           },
           "mode": "markers",
           "name": "",
           "orientation": "v",
           "showlegend": false,
           "type": "scatter",
           "x": [
            104,
            197,
            62,
            142,
            87,
            62,
            59,
            111,
            147,
            57,
            152,
            65,
            150,
            161,
            156
           ],
           "xaxis": "x",
           "y": [
            80,
            107,
            60,
            26,
            98,
            49,
            135,
            75,
            139,
            46,
            145,
            73,
            151,
            140,
            137
           ],
           "yaxis": "y"
          }
         ],
         "name": "20"
        },
        {
         "data": [
          {
           "hovertemplate": "time=21<br>x=%{x}<br>y=%{y}<br>bird=%{marker.color}<extra></extra>",
           "legendgroup": "",
           "marker": {
            "color": [
             1,
             2,
             3,
             4,
             5,
             6,
             7,
             8,
             9,
             10,
             11,
             12,
             13,
             14,
             15
            ],
            "coloraxis": "coloraxis",
            "symbol": "circle"
           },
           "mode": "markers",
           "name": "",
           "orientation": "v",
           "showlegend": false,
           "type": "scatter",
           "x": [
            95,
            198,
            62,
            140,
            101,
            62,
            59,
            109,
            148,
            58,
            156,
            68,
            150,
            161,
            157
           ],
           "xaxis": "x",
           "y": [
            82,
            93,
            60,
            32,
            84,
            49,
            136,
            78,
            142,
            46,
            146,
            74,
            151,
            143,
            138
           ],
           "yaxis": "y"
          }
         ],
         "name": "21"
        },
        {
         "data": [
          {
           "hovertemplate": "time=22<br>x=%{x}<br>y=%{y}<br>bird=%{marker.color}<extra></extra>",
           "legendgroup": "",
           "marker": {
            "color": [
             1,
             2,
             3,
             4,
             5,
             6,
             7,
             8,
             9,
             10,
             11,
             12,
             13,
             14,
             15
            ],
            "coloraxis": "coloraxis",
            "symbol": "circle"
           },
           "mode": "markers",
           "name": "",
           "orientation": "v",
           "showlegend": false,
           "type": "scatter",
           "x": [
            88,
            196,
            62,
            136,
            110,
            62,
            59,
            107,
            149,
            58,
            159,
            71,
            150,
            161,
            157
           ],
           "xaxis": "x",
           "y": [
            87,
            76,
            60,
            37,
            55,
            50,
            136,
            81,
            145,
            46,
            148,
            75,
            151,
            143,
            137
           ],
           "yaxis": "y"
          }
         ],
         "name": "22"
        },
        {
         "data": [
          {
           "hovertemplate": "time=23<br>x=%{x}<br>y=%{y}<br>bird=%{marker.color}<extra></extra>",
           "legendgroup": "",
           "marker": {
            "color": [
             1,
             2,
             3,
             4,
             5,
             6,
             7,
             8,
             9,
             10,
             11,
             12,
             13,
             14,
             15
            ],
            "coloraxis": "coloraxis",
            "symbol": "circle"
           },
           "mode": "markers",
           "name": "",
           "orientation": "v",
           "showlegend": false,
           "type": "scatter",
           "x": [
            85,
            189,
            62,
            132,
            129,
            62,
            59,
            98,
            148,
            58,
            159,
            71,
            151,
            161,
            157
           ],
           "xaxis": "x",
           "y": [
            87,
            59,
            60,
            39,
            37,
            51,
            136,
            85,
            147,
            46,
            149,
            75,
            150,
            144,
            136
           ],
           "yaxis": "y"
          }
         ],
         "name": "23"
        },
        {
         "data": [
          {
           "hovertemplate": "time=24<br>x=%{x}<br>y=%{y}<br>bird=%{marker.color}<extra></extra>",
           "legendgroup": "",
           "marker": {
            "color": [
             1,
             2,
             3,
             4,
             5,
             6,
             7,
             8,
             9,
             10,
             11,
             12,
             13,
             14,
             15
            ],
            "coloraxis": "coloraxis",
            "symbol": "circle"
           },
           "mode": "markers",
           "name": "",
           "orientation": "v",
           "showlegend": false,
           "type": "scatter",
           "x": [
            85,
            182,
            62,
            122,
            132,
            61,
            59,
            93,
            150,
            57,
            162,
            76,
            151,
            161,
            157
           ],
           "xaxis": "x",
           "y": [
            87,
            46,
            60,
            45,
            37,
            51,
            136,
            86,
            147,
            46,
            148,
            80,
            153,
            144,
            136
           ],
           "yaxis": "y"
          }
         ],
         "name": "24"
        },
        {
         "data": [
          {
           "hovertemplate": "time=25<br>x=%{x}<br>y=%{y}<br>bird=%{marker.color}<extra></extra>",
           "legendgroup": "",
           "marker": {
            "color": [
             1,
             2,
             3,
             4,
             5,
             6,
             7,
             8,
             9,
             10,
             11,
             12,
             13,
             14,
             15
            ],
            "coloraxis": "coloraxis",
            "symbol": "circle"
           },
           "mode": "markers",
           "name": "",
           "orientation": "v",
           "showlegend": false,
           "type": "scatter",
           "x": [
            81,
            173,
            62,
            111,
            152,
            62,
            59,
            90,
            154,
            58,
            163,
            76,
            152,
            160,
            157
           ],
           "xaxis": "x",
           "y": [
            87,
            35,
            60,
            49,
            34,
            52,
            136,
            84,
            147,
            46,
            148,
            81,
            152,
            145,
            136
           ],
           "yaxis": "y"
          }
         ],
         "name": "25"
        },
        {
         "data": [
          {
           "hovertemplate": "time=26<br>x=%{x}<br>y=%{y}<br>bird=%{marker.color}<extra></extra>",
           "legendgroup": "",
           "marker": {
            "color": [
             1,
             2,
             3,
             4,
             5,
             6,
             7,
             8,
             9,
             10,
             11,
             12,
             13,
             14,
             15
            ],
            "coloraxis": "coloraxis",
            "symbol": "circle"
           },
           "mode": "markers",
           "name": "",
           "orientation": "v",
           "showlegend": false,
           "type": "scatter",
           "x": [
            76,
            164,
            62,
            110,
            147,
            62,
            59,
            89,
            157,
            58,
            162,
            73,
            153,
            161,
            157
           ],
           "xaxis": "x",
           "y": [
            89,
            27,
            60,
            50,
            21,
            52,
            136,
            85,
            148,
            46,
            150,
            85,
            151,
            143,
            136
           ],
           "yaxis": "y"
          }
         ],
         "name": "26"
        },
        {
         "data": [
          {
           "hovertemplate": "time=27<br>x=%{x}<br>y=%{y}<br>bird=%{marker.color}<extra></extra>",
           "legendgroup": "",
           "marker": {
            "color": [
             1,
             2,
             3,
             4,
             5,
             6,
             7,
             8,
             9,
             10,
             11,
             12,
             13,
             14,
             15
            ],
            "coloraxis": "coloraxis",
            "symbol": "circle"
           },
           "mode": "markers",
           "name": "",
           "orientation": "v",
           "showlegend": false,
           "type": "scatter",
           "x": [
            75,
            155,
            62,
            110,
            100,
            62,
            59,
            87,
            158,
            57,
            163,
            64,
            152,
            161,
            157
           ],
           "xaxis": "x",
           "y": [
            90,
            21,
            60,
            49,
            31,
            51,
            136,
            85,
            150,
            47,
            148,
            83,
            152,
            144,
            136
           ],
           "yaxis": "y"
          }
         ],
         "name": "27"
        },
        {
         "data": [
          {
           "hovertemplate": "time=28<br>x=%{x}<br>y=%{y}<br>bird=%{marker.color}<extra></extra>",
           "legendgroup": "",
           "marker": {
            "color": [
             1,
             2,
             3,
             4,
             5,
             6,
             7,
             8,
             9,
             10,
             11,
             12,
             13,
             14,
             15
            ],
            "coloraxis": "coloraxis",
            "symbol": "circle"
           },
           "mode": "markers",
           "name": "",
           "orientation": "v",
           "showlegend": false,
           "type": "scatter",
           "x": [
            74,
            142,
            62,
            110,
            73,
            63,
            59,
            82,
            159,
            58,
            163,
            55,
            152,
            159,
            158
           ],
           "xaxis": "x",
           "y": [
            92,
            14,
            60,
            49,
            75,
            53,
            136,
            87,
            152,
            47,
            144,
            68,
            152,
            147,
            136
           ],
           "yaxis": "y"
          }
         ],
         "name": "28"
        },
        {
         "data": [
          {
           "hovertemplate": "time=29<br>x=%{x}<br>y=%{y}<br>bird=%{marker.color}<extra></extra>",
           "legendgroup": "",
           "marker": {
            "color": [
             1,
             2,
             3,
             4,
             5,
             6,
             7,
             8,
             9,
             10,
             11,
             12,
             13,
             14,
             15
            ],
            "coloraxis": "coloraxis",
            "symbol": "circle"
           },
           "mode": "markers",
           "name": "",
           "orientation": "v",
           "showlegend": false,
           "type": "scatter",
           "x": [
            71,
            130,
            62,
            110,
            68,
            63,
            59,
            78,
            161,
            58,
            165,
            53,
            151,
            159,
            158
           ],
           "xaxis": "x",
           "y": [
            94,
            10,
            60,
            49,
            83,
            53,
            136,
            91,
            151,
            46,
            146,
            64,
            153,
            146,
            135
           ],
           "yaxis": "y"
          }
         ],
         "name": "29"
        },
        {
         "data": [
          {
           "hovertemplate": "time=30<br>x=%{x}<br>y=%{y}<br>bird=%{marker.color}<extra></extra>",
           "legendgroup": "",
           "marker": {
            "color": [
             1,
             2,
             3,
             4,
             5,
             6,
             7,
             8,
             9,
             10,
             11,
             12,
             13,
             14,
             15
            ],
            "coloraxis": "coloraxis",
            "symbol": "circle"
           },
           "mode": "markers",
           "name": "",
           "orientation": "v",
           "showlegend": false,
           "type": "scatter",
           "x": [
            62,
            114,
            62,
            110,
            68,
            63,
            59,
            75,
            161,
            60,
            165,
            53,
            153,
            159,
            159
           ],
           "xaxis": "x",
           "y": [
            96,
            7,
            60,
            50,
            84,
            53,
            136,
            92,
            148,
            44,
            146,
            64,
            153,
            146,
            135
           ],
           "yaxis": "y"
          }
         ],
         "name": "30"
        },
        {
         "data": [
          {
           "hovertemplate": "time=31<br>x=%{x}<br>y=%{y}<br>bird=%{marker.color}<extra></extra>",
           "legendgroup": "",
           "marker": {
            "color": [
             1,
             2,
             3,
             4,
             5,
             6,
             7,
             8,
             9,
             10,
             11,
             12,
             13,
             14,
             15
            ],
            "coloraxis": "coloraxis",
            "symbol": "circle"
           },
           "mode": "markers",
           "name": "",
           "orientation": "v",
           "showlegend": false,
           "type": "scatter",
           "x": [
            58,
            99,
            62,
            110,
            56,
            63,
            59,
            67,
            161,
            59,
            166,
            53,
            154,
            156,
            159
           ],
           "xaxis": "x",
           "y": [
            92,
            7,
            60,
            50,
            85,
            53,
            136,
            93,
            148,
            45,
            147,
            63,
            153,
            145,
            138
           ],
           "yaxis": "y"
          }
         ],
         "name": "31"
        },
        {
         "data": [
          {
           "hovertemplate": "time=32<br>x=%{x}<br>y=%{y}<br>bird=%{marker.color}<extra></extra>",
           "legendgroup": "",
           "marker": {
            "color": [
             1,
             2,
             3,
             4,
             5,
             6,
             7,
             8,
             9,
             10,
             11,
             12,
             13,
             14,
             15
            ],
            "coloraxis": "coloraxis",
            "symbol": "circle"
           },
           "mode": "markers",
           "name": "",
           "orientation": "v",
           "showlegend": false,
           "type": "scatter",
           "x": [
            47,
            89,
            62,
            111,
            30,
            64,
            59,
            61,
            161,
            58,
            165,
            53,
            155,
            156,
            160
           ],
           "xaxis": "x",
           "y": [
            91,
            8,
            60,
            49,
            88,
            53,
            136,
            91,
            147,
            46,
            146,
            64,
            152,
            145,
            142
           ],
           "yaxis": "y"
          }
         ],
         "name": "32"
        },
        {
         "data": [
          {
           "hovertemplate": "time=33<br>x=%{x}<br>y=%{y}<br>bird=%{marker.color}<extra></extra>",
           "legendgroup": "",
           "marker": {
            "color": [
             1,
             2,
             3,
             4,
             5,
             6,
             7,
             8,
             9,
             10,
             11,
             12,
             13,
             14,
             15
            ],
            "coloraxis": "coloraxis",
            "symbol": "circle"
           },
           "mode": "markers",
           "name": "",
           "orientation": "v",
           "showlegend": false,
           "type": "scatter",
           "x": [
            43,
            84,
            62,
            107,
            13,
            64,
            59,
            55,
            161,
            58,
            164,
            53,
            155,
            156,
            160
           ],
           "xaxis": "x",
           "y": [
            90,
            9,
            60,
            49,
            98,
            54,
            136,
            90,
            145,
            46,
            144,
            63,
            152,
            146,
            141
           ],
           "yaxis": "y"
          }
         ],
         "name": "33"
        },
        {
         "data": [
          {
           "hovertemplate": "time=34<br>x=%{x}<br>y=%{y}<br>bird=%{marker.color}<extra></extra>",
           "legendgroup": "",
           "marker": {
            "color": [
             1,
             2,
             3,
             4,
             5,
             6,
             7,
             8,
             9,
             10,
             11,
             12,
             13,
             14,
             15
            ],
            "coloraxis": "coloraxis",
            "symbol": "circle"
           },
           "mode": "markers",
           "name": "",
           "orientation": "v",
           "showlegend": false,
           "type": "scatter",
           "x": [
            36,
            77,
            61,
            90,
            15,
            64,
            57,
            51,
            162,
            58,
            164,
            53,
            155,
            156,
            159
           ],
           "xaxis": "x",
           "y": [
            90,
            10,
            60,
            46,
            117,
            54,
            135,
            90,
            148,
            46,
            140,
            65,
            152,
            146,
            139
           ],
           "yaxis": "y"
          }
         ],
         "name": "34"
        },
        {
         "data": [
          {
           "hovertemplate": "time=35<br>x=%{x}<br>y=%{y}<br>bird=%{marker.color}<extra></extra>",
           "legendgroup": "",
           "marker": {
            "color": [
             1,
             2,
             3,
             4,
             5,
             6,
             7,
             8,
             9,
             10,
             11,
             12,
             13,
             14,
             15
            ],
            "coloraxis": "coloraxis",
            "symbol": "circle"
           },
           "mode": "markers",
           "name": "",
           "orientation": "v",
           "showlegend": false,
           "type": "scatter",
           "x": [
            26,
            63,
            61,
            71,
            31,
            63,
            54,
            39,
            158,
            56,
            161,
            53,
            158,
            155,
            157
           ],
           "xaxis": "x",
           "y": [
            91,
            16,
            61,
            49,
            151,
            54,
            133,
            91,
            142,
            46,
            136,
            62,
            151,
            148,
            138
           ],
           "yaxis": "y"
          }
         ],
         "name": "35"
        },
        {
         "data": [
          {
           "hovertemplate": "time=36<br>x=%{x}<br>y=%{y}<br>bird=%{marker.color}<extra></extra>",
           "legendgroup": "",
           "marker": {
            "color": [
             1,
             2,
             3,
             4,
             5,
             6,
             7,
             8,
             9,
             10,
             11,
             12,
             13,
             14,
             15
            ],
            "coloraxis": "coloraxis",
            "symbol": "circle"
           },
           "mode": "markers",
           "name": "",
           "orientation": "v",
           "showlegend": false,
           "type": "scatter",
           "x": [
            24,
            55,
            61,
            69,
            60,
            63,
            54,
            36,
            157,
            57,
            162,
            53,
            159,
            154,
            157
           ],
           "xaxis": "x",
           "y": [
            91,
            21,
            61,
            50,
            177,
            53,
            133,
            92,
            140,
            46,
            135,
            63,
            149,
            147,
            137
           ],
           "yaxis": "y"
          }
         ],
         "name": "36"
        },
        {
         "data": [
          {
           "hovertemplate": "time=37<br>x=%{x}<br>y=%{y}<br>bird=%{marker.color}<extra></extra>",
           "legendgroup": "",
           "marker": {
            "color": [
             1,
             2,
             3,
             4,
             5,
             6,
             7,
             8,
             9,
             10,
             11,
             12,
             13,
             14,
             15
            ],
            "coloraxis": "coloraxis",
            "symbol": "circle"
           },
           "mode": "markers",
           "name": "",
           "orientation": "v",
           "showlegend": false,
           "type": "scatter",
           "x": [
            24,
            43,
            61,
            69,
            79,
            62,
            54,
            32,
            157,
            57,
            160,
            53,
            158,
            152,
            158
           ],
           "xaxis": "x",
           "y": [
            90,
            31,
            61,
            53,
            176,
            53,
            132,
            92,
            139,
            46,
            137,
            62,
            149,
            148,
            138
           ],
           "yaxis": "y"
          }
         ],
         "name": "37"
        },
        {
         "data": [
          {
           "hovertemplate": "time=38<br>x=%{x}<br>y=%{y}<br>bird=%{marker.color}<extra></extra>",
           "legendgroup": "",
           "marker": {
            "color": [
             1,
             2,
             3,
             4,
             5,
             6,
             7,
             8,
             9,
             10,
             11,
             12,
             13,
             14,
             15
            ],
            "coloraxis": "coloraxis",
            "symbol": "circle"
           },
           "mode": "markers",
           "name": "",
           "orientation": "v",
           "showlegend": false,
           "type": "scatter",
           "x": [
            21,
            33,
            61,
            69,
            79,
            62,
            54,
            23,
            155,
            56,
            158,
            53,
            159,
            151,
            158
           ],
           "xaxis": "x",
           "y": [
            91,
            41,
            61,
            52,
            175,
            53,
            132,
            106,
            140,
            46,
            132,
            62,
            148,
            148,
            137
           ],
           "yaxis": "y"
          }
         ],
         "name": "38"
        },
        {
         "data": [
          {
           "hovertemplate": "time=39<br>x=%{x}<br>y=%{y}<br>bird=%{marker.color}<extra></extra>",
           "legendgroup": "",
           "marker": {
            "color": [
             1,
             2,
             3,
             4,
             5,
             6,
             7,
             8,
             9,
             10,
             11,
             12,
             13,
             14,
             15
            ],
            "coloraxis": "coloraxis",
            "symbol": "circle"
           },
           "mode": "markers",
           "name": "",
           "orientation": "v",
           "showlegend": false,
           "type": "scatter",
           "x": [
            21,
            25,
            60,
            68,
            78,
            62,
            54,
            25,
            154,
            56,
            153,
            53,
            159,
            151,
            157
           ],
           "xaxis": "x",
           "y": [
            91,
            54,
            61,
            52,
            169,
            54,
            132,
            126,
            139,
            46,
            130,
            60,
            148,
            147,
            137
           ],
           "yaxis": "y"
          }
         ],
         "name": "39"
        },
        {
         "data": [
          {
           "hovertemplate": "time=40<br>x=%{x}<br>y=%{y}<br>bird=%{marker.color}<extra></extra>",
           "legendgroup": "",
           "marker": {
            "color": [
             1,
             2,
             3,
             4,
             5,
             6,
             7,
             8,
             9,
             10,
             11,
             12,
             13,
             14,
             15
            ],
            "coloraxis": "coloraxis",
            "symbol": "circle"
           },
           "mode": "markers",
           "name": "",
           "orientation": "v",
           "showlegend": false,
           "type": "scatter",
           "x": [
            17,
            17,
            61,
            68,
            70,
            62,
            51,
            27,
            145,
            55,
            146,
            52,
            158,
            151,
            156
           ],
           "xaxis": "x",
           "y": [
            93,
            73,
            61,
            52,
            149,
            54,
            129,
            145,
            136,
            47,
            132,
            60,
            149,
            147,
            138
           ],
           "yaxis": "y"
          }
         ],
         "name": "40"
        },
        {
         "data": [
          {
           "hovertemplate": "time=41<br>x=%{x}<br>y=%{y}<br>bird=%{marker.color}<extra></extra>",
           "legendgroup": "",
           "marker": {
            "color": [
             1,
             2,
             3,
             4,
             5,
             6,
             7,
             8,
             9,
             10,
             11,
             12,
             13,
             14,
             15
            ],
            "coloraxis": "coloraxis",
            "symbol": "circle"
           },
           "mode": "markers",
           "name": "",
           "orientation": "v",
           "showlegend": false,
           "type": "scatter",
           "x": [
            18,
            14,
            61,
            66,
            60,
            62,
            51,
            38,
            141,
            55,
            144,
            52,
            158,
            150,
            157
           ],
           "xaxis": "x",
           "y": [
            93,
            89,
            61,
            54,
            125,
            56,
            129,
            155,
            133,
            47,
            129,
            62,
            149,
            147,
            142
           ],
           "yaxis": "y"
          }
         ],
         "name": "41"
        },
        {
         "data": [
          {
           "hovertemplate": "time=42<br>x=%{x}<br>y=%{y}<br>bird=%{marker.color}<extra></extra>",
           "legendgroup": "",
           "marker": {
            "color": [
             1,
             2,
             3,
             4,
             5,
             6,
             7,
             8,
             9,
             10,
             11,
             12,
             13,
             14,
             15
            ],
            "coloraxis": "coloraxis",
            "symbol": "circle"
           },
           "mode": "markers",
           "name": "",
           "orientation": "v",
           "showlegend": false,
           "type": "scatter",
           "x": [
            19,
            14,
            61,
            66,
            59,
            62,
            51,
            43,
            140,
            55,
            145,
            52,
            159,
            150,
            156
           ],
           "xaxis": "x",
           "y": [
            102,
            103,
            61,
            54,
            125,
            55,
            129,
            157,
            128,
            48,
            126,
            63,
            149,
            145,
            144
           ],
           "yaxis": "y"
          }
         ],
         "name": "42"
        },
        {
         "data": [
          {
           "hovertemplate": "time=43<br>x=%{x}<br>y=%{y}<br>bird=%{marker.color}<extra></extra>",
           "legendgroup": "",
           "marker": {
            "color": [
             1,
             2,
             3,
             4,
             5,
             6,
             7,
             8,
             9,
             10,
             11,
             12,
             13,
             14,
             15
            ],
            "coloraxis": "coloraxis",
            "symbol": "circle"
           },
           "mode": "markers",
           "name": "",
           "orientation": "v",
           "showlegend": false,
           "type": "scatter",
           "x": [
            21,
            16,
            62,
            66,
            55,
            61,
            45,
            50,
            144,
            55,
            148,
            52,
            159,
            149,
            154
           ],
           "xaxis": "x",
           "y": [
            114,
            116,
            61,
            54,
            126,
            55,
            126,
            161,
            124,
            48,
            127,
            63,
            149,
            142,
            146
           ],
           "yaxis": "y"
          }
         ],
         "name": "43"
        },
        {
         "data": [
          {
           "hovertemplate": "time=44<br>x=%{x}<br>y=%{y}<br>bird=%{marker.color}<extra></extra>",
           "legendgroup": "",
           "marker": {
            "color": [
             1,
             2,
             3,
             4,
             5,
             6,
             7,
             8,
             9,
             10,
             11,
             12,
             13,
             14,
             15
            ],
            "coloraxis": "coloraxis",
            "symbol": "circle"
           },
           "mode": "markers",
           "name": "",
           "orientation": "v",
           "showlegend": false,
           "type": "scatter",
           "x": [
            23,
            18,
            62,
            66,
            55,
            62,
            45,
            50,
            151,
            54,
            149,
            52,
            159,
            149,
            154
           ],
           "xaxis": "x",
           "y": [
            124,
            126,
            61,
            54,
            126,
            56,
            126,
            161,
            127,
            48,
            131,
            63,
            149,
            141,
            146
           ],
           "yaxis": "y"
          }
         ],
         "name": "44"
        },
        {
         "data": [
          {
           "hovertemplate": "time=45<br>x=%{x}<br>y=%{y}<br>bird=%{marker.color}<extra></extra>",
           "legendgroup": "",
           "marker": {
            "color": [
             1,
             2,
             3,
             4,
             5,
             6,
             7,
             8,
             9,
             10,
             11,
             12,
             13,
             14,
             15
            ],
            "coloraxis": "coloraxis",
            "symbol": "circle"
           },
           "mode": "markers",
           "name": "",
           "orientation": "v",
           "showlegend": false,
           "type": "scatter",
           "x": [
            27,
            22,
            62,
            66,
            55,
            62,
            45,
            50,
            155,
            54,
            151,
            52,
            159,
            148,
            154
           ],
           "xaxis": "x",
           "y": [
            134,
            134,
            61,
            53,
            126,
            56,
            126,
            161,
            133,
            48,
            133,
            63,
            149,
            138,
            146
           ],
           "yaxis": "y"
          }
         ],
         "name": "45"
        },
        {
         "data": [
          {
           "hovertemplate": "time=46<br>x=%{x}<br>y=%{y}<br>bird=%{marker.color}<extra></extra>",
           "legendgroup": "",
           "marker": {
            "color": [
             1,
             2,
             3,
             4,
             5,
             6,
             7,
             8,
             9,
             10,
             11,
             12,
             13,
             14,
             15
            ],
            "coloraxis": "coloraxis",
            "symbol": "circle"
           },
           "mode": "markers",
           "name": "",
           "orientation": "v",
           "showlegend": false,
           "type": "scatter",
           "x": [
            32,
            26,
            60,
            69,
            40,
            62,
            45,
            50,
            155,
            55,
            151,
            52,
            160,
            147,
            155
           ],
           "xaxis": "x",
           "y": [
            143,
            141,
            62,
            52,
            139,
            57,
            126,
            160,
            133,
            47,
            133,
            62,
            151,
            137,
            149
           ],
           "yaxis": "y"
          }
         ],
         "name": "46"
        },
        {
         "data": [
          {
           "hovertemplate": "time=47<br>x=%{x}<br>y=%{y}<br>bird=%{marker.color}<extra></extra>",
           "legendgroup": "",
           "marker": {
            "color": [
             1,
             2,
             3,
             4,
             5,
             6,
             7,
             8,
             9,
             10,
             11,
             12,
             13,
             14,
             15
            ],
            "coloraxis": "coloraxis",
            "symbol": "circle"
           },
           "mode": "markers",
           "name": "",
           "orientation": "v",
           "showlegend": false,
           "type": "scatter",
           "x": [
            36,
            35,
            60,
            68,
            37,
            62,
            45,
            49,
            155,
            55,
            151,
            52,
            160,
            146,
            155
           ],
           "xaxis": "x",
           "y": [
            148,
            154,
            62,
            52,
            144,
            56,
            126,
            161,
            133,
            46,
            137,
            62,
            151,
            137,
            151
           ],
           "yaxis": "y"
          }
         ],
         "name": "47"
        },
        {
         "data": [
          {
           "hovertemplate": "time=48<br>x=%{x}<br>y=%{y}<br>bird=%{marker.color}<extra></extra>",
           "legendgroup": "",
           "marker": {
            "color": [
             1,
             2,
             3,
             4,
             5,
             6,
             7,
             8,
             9,
             10,
             11,
             12,
             13,
             14,
             15
            ],
            "coloraxis": "coloraxis",
            "symbol": "circle"
           },
           "mode": "markers",
           "name": "",
           "orientation": "v",
           "showlegend": false,
           "type": "scatter",
           "x": [
            36,
            40,
            60,
            69,
            42,
            62,
            45,
            49,
            157,
            55,
            153,
            51,
            161,
            144,
            155
           ],
           "xaxis": "x",
           "y": [
            152,
            161,
            62,
            51,
            150,
            58,
            126,
            165,
            138,
            47,
            136,
            62,
            150,
            136,
            152
           ],
           "yaxis": "y"
          }
         ],
         "name": "48"
        },
        {
         "data": [
          {
           "hovertemplate": "time=49<br>x=%{x}<br>y=%{y}<br>bird=%{marker.color}<extra></extra>",
           "legendgroup": "",
           "marker": {
            "color": [
             1,
             2,
             3,
             4,
             5,
             6,
             7,
             8,
             9,
             10,
             11,
             12,
             13,
             14,
             15
            ],
            "coloraxis": "coloraxis",
            "symbol": "circle"
           },
           "mode": "markers",
           "name": "",
           "orientation": "v",
           "showlegend": false,
           "type": "scatter",
           "x": [
            41,
            44,
            60,
            66,
            63,
            62,
            43,
            50,
            155,
            54,
            154,
            52,
            160,
            148,
            153
           ],
           "xaxis": "x",
           "y": [
            158,
            165,
            62,
            52,
            179,
            58,
            124,
            170,
            144,
            48,
            137,
            62,
            148,
            135,
            151
           ],
           "yaxis": "y"
          }
         ],
         "name": "49"
        },
        {
         "data": [
          {
           "hovertemplate": "time=50<br>x=%{x}<br>y=%{y}<br>bird=%{marker.color}<extra></extra>",
           "legendgroup": "",
           "marker": {
            "color": [
             1,
             2,
             3,
             4,
             5,
             6,
             7,
             8,
             9,
             10,
             11,
             12,
             13,
             14,
             15
            ],
            "coloraxis": "coloraxis",
            "symbol": "circle"
           },
           "mode": "markers",
           "name": "",
           "orientation": "v",
           "showlegend": false,
           "type": "scatter",
           "x": [
            41,
            46,
            60,
            66,
            91,
            62,
            43,
            51,
            156,
            54,
            153,
            52,
            160,
            149,
            151
           ],
           "xaxis": "x",
           "y": [
            158,
            167,
            62,
            52,
            188,
            58,
            124,
            171,
            148,
            48,
            139,
            62,
            148,
            136,
            152
           ],
           "yaxis": "y"
          }
         ],
         "name": "50"
        },
        {
         "data": [
          {
           "hovertemplate": "time=51<br>x=%{x}<br>y=%{y}<br>bird=%{marker.color}<extra></extra>",
           "legendgroup": "",
           "marker": {
            "color": [
             1,
             2,
             3,
             4,
             5,
             6,
             7,
             8,
             9,
             10,
             11,
             12,
             13,
             14,
             15
            ],
            "coloraxis": "coloraxis",
            "symbol": "circle"
           },
           "mode": "markers",
           "name": "",
           "orientation": "v",
           "showlegend": false,
           "type": "scatter",
           "x": [
            40,
            47,
            60,
            65,
            131,
            61,
            42,
            53,
            156,
            54,
            154,
            51,
            160,
            149,
            150
           ],
           "xaxis": "x",
           "y": [
            158,
            168,
            62,
            52,
            186,
            59,
            124,
            171,
            149,
            48,
            139,
            61,
            147,
            136,
            152
           ],
           "yaxis": "y"
          }
         ],
         "name": "51"
        },
        {
         "data": [
          {
           "hovertemplate": "time=52<br>x=%{x}<br>y=%{y}<br>bird=%{marker.color}<extra></extra>",
           "legendgroup": "",
           "marker": {
            "color": [
             1,
             2,
             3,
             4,
             5,
             6,
             7,
             8,
             9,
             10,
             11,
             12,
             13,
             14,
             15
            ],
            "coloraxis": "coloraxis",
            "symbol": "circle"
           },
           "mode": "markers",
           "name": "",
           "orientation": "v",
           "showlegend": false,
           "type": "scatter",
           "x": [
            40,
            47,
            60,
            64,
            138,
            61,
            44,
            55,
            156,
            54,
            152,
            53,
            160,
            149,
            150
           ],
           "xaxis": "x",
           "y": [
            157,
            168,
            61,
            52,
            183,
            57,
            125,
            170,
            153,
            48,
            143,
            61,
            146,
            136,
            151
           ],
           "yaxis": "y"
          }
         ],
         "name": "52"
        },
        {
         "data": [
          {
           "hovertemplate": "time=53<br>x=%{x}<br>y=%{y}<br>bird=%{marker.color}<extra></extra>",
           "legendgroup": "",
           "marker": {
            "color": [
             1,
             2,
             3,
             4,
             5,
             6,
             7,
             8,
             9,
             10,
             11,
             12,
             13,
             14,
             15
            ],
            "coloraxis": "coloraxis",
            "symbol": "circle"
           },
           "mode": "markers",
           "name": "",
           "orientation": "v",
           "showlegend": false,
           "type": "scatter",
           "x": [
            40,
            47,
            60,
            63,
            138,
            61,
            43,
            55,
            157,
            54,
            151,
            54,
            161,
            149,
            150
           ],
           "xaxis": "x",
           "y": [
            157,
            168,
            62,
            52,
            183,
            58,
            125,
            171,
            152,
            47,
            142,
            62,
            145,
            137,
            150
           ],
           "yaxis": "y"
          }
         ],
         "name": "53"
        },
        {
         "data": [
          {
           "hovertemplate": "time=54<br>x=%{x}<br>y=%{y}<br>bird=%{marker.color}<extra></extra>",
           "legendgroup": "",
           "marker": {
            "color": [
             1,
             2,
             3,
             4,
             5,
             6,
             7,
             8,
             9,
             10,
             11,
             12,
             13,
             14,
             15
            ],
            "coloraxis": "coloraxis",
            "symbol": "circle"
           },
           "mode": "markers",
           "name": "",
           "orientation": "v",
           "showlegend": false,
           "type": "scatter",
           "x": [
            40,
            56,
            59,
            65,
            152,
            62,
            43,
            52,
            157,
            54,
            151,
            51,
            162,
            152,
            149
           ],
           "xaxis": "x",
           "y": [
            157,
            174,
            62,
            52,
            171,
            55,
            125,
            167,
            151,
            47,
            141,
            61,
            144,
            137,
            151
           ],
           "yaxis": "y"
          }
         ],
         "name": "54"
        },
        {
         "data": [
          {
           "hovertemplate": "time=55<br>x=%{x}<br>y=%{y}<br>bird=%{marker.color}<extra></extra>",
           "legendgroup": "",
           "marker": {
            "color": [
             1,
             2,
             3,
             4,
             5,
             6,
             7,
             8,
             9,
             10,
             11,
             12,
             13,
             14,
             15
            ],
            "coloraxis": "coloraxis",
            "symbol": "circle"
           },
           "mode": "markers",
           "name": "",
           "orientation": "v",
           "showlegend": false,
           "type": "scatter",
           "x": [
            40,
            75,
            59,
            63,
            164,
            61,
            40,
            52,
            157,
            54,
            151,
            54,
            161,
            153,
            149
           ],
           "xaxis": "x",
           "y": [
            158,
            180,
            62,
            52,
            124,
            56,
            122,
            167,
            152,
            47,
            141,
            62,
            144,
            137,
            150
           ],
           "yaxis": "y"
          }
         ],
         "name": "55"
        },
        {
         "data": [
          {
           "hovertemplate": "time=56<br>x=%{x}<br>y=%{y}<br>bird=%{marker.color}<extra></extra>",
           "legendgroup": "",
           "marker": {
            "color": [
             1,
             2,
             3,
             4,
             5,
             6,
             7,
             8,
             9,
             10,
             11,
             12,
             13,
             14,
             15
            ],
            "coloraxis": "coloraxis",
            "symbol": "circle"
           },
           "mode": "markers",
           "name": "",
           "orientation": "v",
           "showlegend": false,
           "type": "scatter",
           "x": [
            40,
            93,
            58,
            63,
            153,
            61,
            40,
            52,
            160,
            54,
            149,
            54,
            162,
            154,
            150
           ],
           "xaxis": "x",
           "y": [
            158,
            178,
            63,
            51,
            97,
            57,
            115,
            167,
            152,
            47,
            141,
            62,
            144,
            137,
            149
           ],
           "yaxis": "y"
          }
         ],
         "name": "56"
        },
        {
         "data": [
          {
           "hovertemplate": "time=57<br>x=%{x}<br>y=%{y}<br>bird=%{marker.color}<extra></extra>",
           "legendgroup": "",
           "marker": {
            "color": [
             1,
             2,
             3,
             4,
             5,
             6,
             7,
             8,
             9,
             10,
             11,
             12,
             13,
             14,
             15
            ],
            "coloraxis": "coloraxis",
            "symbol": "circle"
           },
           "mode": "markers",
           "name": "",
           "orientation": "v",
           "showlegend": false,
           "type": "scatter",
           "x": [
            40,
            112,
            58,
            62,
            153,
            61,
            41,
            50,
            163,
            54,
            147,
            54,
            162,
            156,
            151
           ],
           "xaxis": "x",
           "y": [
            158,
            174,
            62,
            51,
            96,
            58,
            111,
            163,
            149,
            48,
            148,
            62,
            142,
            136,
            147
           ],
           "yaxis": "y"
          }
         ],
         "name": "57"
        },
        {
         "data": [
          {
           "hovertemplate": "time=58<br>x=%{x}<br>y=%{y}<br>bird=%{marker.color}<extra></extra>",
           "legendgroup": "",
           "marker": {
            "color": [
             1,
             2,
             3,
             4,
             5,
             6,
             7,
             8,
             9,
             10,
             11,
             12,
             13,
             14,
             15
            ],
            "coloraxis": "coloraxis",
            "symbol": "circle"
           },
           "mode": "markers",
           "name": "",
           "orientation": "v",
           "showlegend": false,
           "type": "scatter",
           "x": [
            40,
            128,
            59,
            62,
            154,
            59,
            43,
            49,
            167,
            54,
            147,
            54,
            163,
            155,
            150
           ],
           "xaxis": "x",
           "y": [
            161,
            174,
            62,
            51,
            98,
            59,
            107,
            162,
            139,
            48,
            149,
            62,
            142,
            136,
            141
           ],
           "yaxis": "y"
          }
         ],
         "name": "58"
        },
        {
         "data": [
          {
           "hovertemplate": "time=59<br>x=%{x}<br>y=%{y}<br>bird=%{marker.color}<extra></extra>",
           "legendgroup": "",
           "marker": {
            "color": [
             1,
             2,
             3,
             4,
             5,
             6,
             7,
             8,
             9,
             10,
             11,
             12,
             13,
             14,
             15
            ],
            "coloraxis": "coloraxis",
            "symbol": "circle"
           },
           "mode": "markers",
           "name": "",
           "orientation": "v",
           "showlegend": false,
           "type": "scatter",
           "x": [
            43,
            149,
            59,
            64,
            161,
            59,
            45,
            48,
            165,
            54,
            147,
            53,
            162,
            156,
            151
           ],
           "xaxis": "x",
           "y": [
            166,
            173,
            63,
            51,
            123,
            59,
            102,
            155,
            132,
            48,
            149,
            61,
            142,
            137,
            142
           ],
           "yaxis": "y"
          }
         ],
         "name": "59"
        },
        {
         "data": [
          {
           "hovertemplate": "time=60<br>x=%{x}<br>y=%{y}<br>bird=%{marker.color}<extra></extra>",
           "legendgroup": "",
           "marker": {
            "color": [
             1,
             2,
             3,
             4,
             5,
             6,
             7,
             8,
             9,
             10,
             11,
             12,
             13,
             14,
             15
            ],
            "coloraxis": "coloraxis",
            "symbol": "circle"
           },
           "mode": "markers",
           "name": "",
           "orientation": "v",
           "showlegend": false,
           "type": "scatter",
           "x": [
            50,
            159,
            59,
            65,
            161,
            60,
            46,
            48,
            155,
            54,
            150,
            51,
            163,
            157,
            152
           ],
           "xaxis": "x",
           "y": [
            171,
            170,
            62,
            52,
            123,
            58,
            98,
            153,
            130,
            47,
            151,
            61,
            142,
            137,
            141
           ],
           "yaxis": "y"
          }
         ],
         "name": "60"
        },
        {
         "data": [
          {
           "hovertemplate": "time=61<br>x=%{x}<br>y=%{y}<br>bird=%{marker.color}<extra></extra>",
           "legendgroup": "",
           "marker": {
            "color": [
             1,
             2,
             3,
             4,
             5,
             6,
             7,
             8,
             9,
             10,
             11,
             12,
             13,
             14,
             15
            ],
            "coloraxis": "coloraxis",
            "symbol": "circle"
           },
           "mode": "markers",
           "name": "",
           "orientation": "v",
           "showlegend": false,
           "type": "scatter",
           "x": [
            53,
            168,
            59,
            65,
            161,
            61,
            46,
            48,
            143,
            53,
            150,
            51,
            163,
            158,
            152
           ],
           "xaxis": "x",
           "y": [
            173,
            163,
            62,
            51,
            123,
            59,
            98,
            152,
            129,
            48,
            151,
            62,
            143,
            138,
            140
           ],
           "yaxis": "y"
          }
         ],
         "name": "61"
        },
        {
         "data": [
          {
           "hovertemplate": "time=62<br>x=%{x}<br>y=%{y}<br>bird=%{marker.color}<extra></extra>",
           "legendgroup": "",
           "marker": {
            "color": [
             1,
             2,
             3,
             4,
             5,
             6,
             7,
             8,
             9,
             10,
             11,
             12,
             13,
             14,
             15
            ],
            "coloraxis": "coloraxis",
            "symbol": "circle"
           },
           "mode": "markers",
           "name": "",
           "orientation": "v",
           "showlegend": false,
           "type": "scatter",
           "x": [
            55,
            177,
            59,
            64,
            162,
            59,
            46,
            48,
            133,
            53,
            152,
            50,
            163,
            158,
            154
           ],
           "xaxis": "x",
           "y": [
            175,
            154,
            61,
            51,
            124,
            58,
            97,
            153,
            138,
            47,
            150,
            62,
            143,
            139,
            137
           ],
           "yaxis": "y"
          }
         ],
         "name": "62"
        },
        {
         "data": [
          {
           "hovertemplate": "time=63<br>x=%{x}<br>y=%{y}<br>bird=%{marker.color}<extra></extra>",
           "legendgroup": "",
           "marker": {
            "color": [
             1,
             2,
             3,
             4,
             5,
             6,
             7,
             8,
             9,
             10,
             11,
             12,
             13,
             14,
             15
            ],
            "coloraxis": "coloraxis",
            "symbol": "circle"
           },
           "mode": "markers",
           "name": "",
           "orientation": "v",
           "showlegend": false,
           "type": "scatter",
           "x": [
            61,
            184,
            58,
            64,
            175,
            58,
            46,
            48,
            136,
            54,
            152,
            53,
            163,
            158,
            154
           ],
           "xaxis": "x",
           "y": [
            178,
            144,
            62,
            51,
            136,
            58,
            98,
            152,
            152,
            47,
            151,
            65,
            143,
            139,
            137
           ],
           "yaxis": "y"
          }
         ],
         "name": "63"
        },
        {
         "data": [
          {
           "hovertemplate": "time=64<br>x=%{x}<br>y=%{y}<br>bird=%{marker.color}<extra></extra>",
           "legendgroup": "",
           "marker": {
            "color": [
             1,
             2,
             3,
             4,
             5,
             6,
             7,
             8,
             9,
             10,
             11,
             12,
             13,
             14,
             15
            ],
            "coloraxis": "coloraxis",
            "symbol": "circle"
           },
           "mode": "markers",
           "name": "",
           "orientation": "v",
           "showlegend": false,
           "type": "scatter",
           "x": [
            67,
            189,
            59,
            64,
            194,
            58,
            46,
            48,
            145,
            54,
            152,
            53,
            163,
            159,
            154
           ],
           "xaxis": "x",
           "y": [
            181,
            136,
            61,
            51,
            121,
            58,
            98,
            153,
            166,
            47,
            149,
            64,
            143,
            140,
            137
           ],
           "yaxis": "y"
          }
         ],
         "name": "64"
        },
        {
         "data": [
          {
           "hovertemplate": "time=65<br>x=%{x}<br>y=%{y}<br>bird=%{marker.color}<extra></extra>",
           "legendgroup": "",
           "marker": {
            "color": [
             1,
             2,
             3,
             4,
             5,
             6,
             7,
             8,
             9,
             10,
             11,
             12,
             13,
             14,
             15
            ],
            "coloraxis": "coloraxis",
            "symbol": "circle"
           },
           "mode": "markers",
           "name": "",
           "orientation": "v",
           "showlegend": false,
           "type": "scatter",
           "x": [
            79,
            192,
            61,
            64,
            198,
            59,
            46,
            49,
            148,
            52,
            156,
            53,
            163,
            160,
            158
           ],
           "xaxis": "x",
           "y": [
            185,
            128,
            60,
            51,
            91,
            57,
            94,
            150,
            178,
            50,
            145,
            61,
            142,
            142,
            136
           ],
           "yaxis": "y"
          }
         ],
         "name": "65"
        },
        {
         "data": [
          {
           "hovertemplate": "time=66<br>x=%{x}<br>y=%{y}<br>bird=%{marker.color}<extra></extra>",
           "legendgroup": "",
           "marker": {
            "color": [
             1,
             2,
             3,
             4,
             5,
             6,
             7,
             8,
             9,
             10,
             11,
             12,
             13,
             14,
             15
            ],
            "coloraxis": "coloraxis",
            "symbol": "circle"
           },
           "mode": "markers",
           "name": "",
           "orientation": "v",
           "showlegend": false,
           "type": "scatter",
           "x": [
            88,
            196,
            61,
            63,
            187,
            58,
            46,
            49,
            146,
            52,
            155,
            55,
            163,
            160,
            157
           ],
           "xaxis": "x",
           "y": [
            187,
            115,
            59,
            51,
            56,
            56,
            94,
            150,
            180,
            50,
            144,
            59,
            142,
            143,
            136
           ],
           "yaxis": "y"
          }
         ],
         "name": "66"
        },
        {
         "data": [
          {
           "hovertemplate": "time=67<br>x=%{x}<br>y=%{y}<br>bird=%{marker.color}<extra></extra>",
           "legendgroup": "",
           "marker": {
            "color": [
             1,
             2,
             3,
             4,
             5,
             6,
             7,
             8,
             9,
             10,
             11,
             12,
             13,
             14,
             15
            ],
            "coloraxis": "coloraxis",
            "symbol": "circle"
           },
           "mode": "markers",
           "name": "",
           "orientation": "v",
           "showlegend": false,
           "type": "scatter",
           "x": [
            99,
            198,
            61,
            64,
            175,
            58,
            46,
            49,
            141,
            52,
            153,
            52,
            162,
            160,
            157
           ],
           "xaxis": "x",
           "y": [
            189,
            102,
            58,
            50,
            37,
            56,
            94,
            150,
            182,
            50,
            143,
            61,
            140,
            143,
            135
           ],
           "yaxis": "y"
          }
         ],
         "name": "67"
        },
        {
         "data": [
          {
           "hovertemplate": "time=68<br>x=%{x}<br>y=%{y}<br>bird=%{marker.color}<extra></extra>",
           "legendgroup": "",
           "marker": {
            "color": [
             1,
             2,
             3,
             4,
             5,
             6,
             7,
             8,
             9,
             10,
             11,
             12,
             13,
             14,
             15
            ],
            "coloraxis": "coloraxis",
            "symbol": "circle"
           },
           "mode": "markers",
           "name": "",
           "orientation": "v",
           "showlegend": false,
           "type": "scatter",
           "x": [
            105,
            197,
            61,
            64,
            175,
            56,
            46,
            49,
            137,
            52,
            153,
            52,
            162,
            161,
            155
           ],
           "xaxis": "x",
           "y": [
            189,
            88,
            58,
            50,
            37,
            56,
            94,
            150,
            184,
            50,
            142,
            61,
            139,
            144,
            134
           ],
           "yaxis": "y"
          }
         ],
         "name": "68"
        },
        {
         "data": [
          {
           "hovertemplate": "time=69<br>x=%{x}<br>y=%{y}<br>bird=%{marker.color}<extra></extra>",
           "legendgroup": "",
           "marker": {
            "color": [
             1,
             2,
             3,
             4,
             5,
             6,
             7,
             8,
             9,
             10,
             11,
             12,
             13,
             14,
             15
            ],
            "coloraxis": "coloraxis",
            "symbol": "circle"
           },
           "mode": "markers",
           "name": "",
           "orientation": "v",
           "showlegend": false,
           "type": "scatter",
           "x": [
            112,
            195,
            61,
            63,
            175,
            56,
            46,
            49,
            127,
            52,
            154,
            53,
            161,
            161,
            151
           ],
           "xaxis": "x",
           "y": [
            189,
            75,
            58,
            50,
            37,
            56,
            94,
            143,
            186,
            50,
            140,
            61,
            138,
            144,
            131
           ],
           "yaxis": "y"
          }
         ],
         "name": "69"
        },
        {
         "data": [
          {
           "hovertemplate": "time=70<br>x=%{x}<br>y=%{y}<br>bird=%{marker.color}<extra></extra>",
           "legendgroup": "",
           "marker": {
            "color": [
             1,
             2,
             3,
             4,
             5,
             6,
             7,
             8,
             9,
             10,
             11,
             12,
             13,
             14,
             15
            ],
            "coloraxis": "coloraxis",
            "symbol": "circle"
           },
           "mode": "markers",
           "name": "",
           "orientation": "v",
           "showlegend": false,
           "type": "scatter",
           "x": [
            113,
            191,
            61,
            63,
            146,
            56,
            46,
            52,
            120,
            52,
            155,
            52,
            161,
            161,
            148
           ],
           "xaxis": "x",
           "y": [
            189,
            61,
            58,
            50,
            38,
            55,
            94,
            131,
            187,
            50,
            140,
            61,
            137,
            146,
            130
           ],
           "yaxis": "y"
          }
         ],
         "name": "70"
        },
        {
         "data": [
          {
           "hovertemplate": "time=71<br>x=%{x}<br>y=%{y}<br>bird=%{marker.color}<extra></extra>",
           "legendgroup": "",
           "marker": {
            "color": [
             1,
             2,
             3,
             4,
             5,
             6,
             7,
             8,
             9,
             10,
             11,
             12,
             13,
             14,
             15
            ],
            "coloraxis": "coloraxis",
            "symbol": "circle"
           },
           "mode": "markers",
           "name": "",
           "orientation": "v",
           "showlegend": false,
           "type": "scatter",
           "x": [
            113,
            183,
            60,
            63,
            112,
            57,
            46,
            50,
            120,
            52,
            154,
            53,
            160,
            161,
            147
           ],
           "xaxis": "x",
           "y": [
            189,
            47,
            57,
            50,
            72,
            54,
            94,
            121,
            187,
            50,
            138,
            61,
            138,
            146,
            130
           ],
           "yaxis": "y"
          }
         ],
         "name": "71"
        },
        {
         "data": [
          {
           "hovertemplate": "time=72<br>x=%{x}<br>y=%{y}<br>bird=%{marker.color}<extra></extra>",
           "legendgroup": "",
           "marker": {
            "color": [
             1,
             2,
             3,
             4,
             5,
             6,
             7,
             8,
             9,
             10,
             11,
             12,
             13,
             14,
             15
            ],
            "coloraxis": "coloraxis",
            "symbol": "circle"
           },
           "mode": "markers",
           "name": "",
           "orientation": "v",
           "showlegend": false,
           "type": "scatter",
           "x": [
            113,
            173,
            61,
            63,
            77,
            58,
            46,
            46,
            120,
            52,
            151,
            53,
            160,
            160,
            146
           ],
           "xaxis": "x",
           "y": [
            189,
            35,
            58,
            50,
            80,
            52,
            94,
            114,
            187,
            50,
            136,
            62,
            138,
            147,
            130
           ],
           "yaxis": "y"
          }
         ],
         "name": "72"
        },
        {
         "data": [
          {
           "hovertemplate": "time=73<br>x=%{x}<br>y=%{y}<br>bird=%{marker.color}<extra></extra>",
           "legendgroup": "",
           "marker": {
            "color": [
             1,
             2,
             3,
             4,
             5,
             6,
             7,
             8,
             9,
             10,
             11,
             12,
             13,
             14,
             15
            ],
            "coloraxis": "coloraxis",
            "symbol": "circle"
           },
           "mode": "markers",
           "name": "",
           "orientation": "v",
           "showlegend": false,
           "type": "scatter",
           "x": [
            115,
            161,
            61,
            63,
            29,
            57,
            46,
            39,
            115,
            51,
            152,
            53,
            160,
            160,
            141
           ],
           "xaxis": "x",
           "y": [
            189,
            24,
            58,
            49,
            73,
            51,
            94,
            107,
            184,
            51,
            130,
            62,
            138,
            148,
            129
           ],
           "yaxis": "y"
          }
         ],
         "name": "73"
        },
        {
         "data": [
          {
           "hovertemplate": "time=74<br>x=%{x}<br>y=%{y}<br>bird=%{marker.color}<extra></extra>",
           "legendgroup": "",
           "marker": {
            "color": [
             1,
             2,
             3,
             4,
             5,
             6,
             7,
             8,
             9,
             10,
             11,
             12,
             13,
             14,
             15
            ],
            "coloraxis": "coloraxis",
            "symbol": "circle"
           },
           "mode": "markers",
           "name": "",
           "orientation": "v",
           "showlegend": false,
           "type": "scatter",
           "x": [
            122,
            147,
            60,
            63,
            13,
            56,
            46,
            21,
            106,
            51,
            152,
            54,
            160,
            157,
            138
           ],
           "xaxis": "x",
           "y": [
            186,
            15,
            59,
            49,
            92,
            51,
            94,
            99,
            186,
            52,
            127,
            62,
            138,
            149,
            129
           ],
           "yaxis": "y"
          }
         ],
         "name": "74"
        },
        {
         "data": [
          {
           "hovertemplate": "time=75<br>x=%{x}<br>y=%{y}<br>bird=%{marker.color}<extra></extra>",
           "legendgroup": "",
           "marker": {
            "color": [
             1,
             2,
             3,
             4,
             5,
             6,
             7,
             8,
             9,
             10,
             11,
             12,
             13,
             14,
             15
            ],
            "coloraxis": "coloraxis",
            "symbol": "circle"
           },
           "mode": "markers",
           "name": "",
           "orientation": "v",
           "showlegend": false,
           "type": "scatter",
           "x": [
            130,
            136,
            60,
            64,
            19,
            55,
            46,
            15,
            100,
            51,
            148,
            54,
            160,
            157,
            139
           ],
           "xaxis": "x",
           "y": [
            180,
            10,
            60,
            50,
            129,
            50,
            94,
            98,
            188,
            53,
            124,
            62,
            138,
            149,
            131
           ],
           "yaxis": "y"
          }
         ],
         "name": "75"
        },
        {
         "data": [
          {
           "hovertemplate": "time=76<br>x=%{x}<br>y=%{y}<br>bird=%{marker.color}<extra></extra>",
           "legendgroup": "",
           "marker": {
            "color": [
             1,
             2,
             3,
             4,
             5,
             6,
             7,
             8,
             9,
             10,
             11,
             12,
             13,
             14,
             15
            ],
            "coloraxis": "coloraxis",
            "symbol": "circle"
           },
           "mode": "markers",
           "name": "",
           "orientation": "v",
           "showlegend": false,
           "type": "scatter",
           "x": [
            137,
            122,
            61,
            64,
            46,
            54,
            46,
            14,
            100,
            50,
            148,
            51,
            159,
            155,
            140
           ],
           "xaxis": "x",
           "y": [
            175,
            7,
            59,
            50,
            167,
            50,
            94,
            105,
            188,
            53,
            124,
            61,
            138,
            149,
            138
           ],
           "yaxis": "y"
          }
         ],
         "name": "76"
        },
        {
         "data": [
          {
           "hovertemplate": "time=77<br>x=%{x}<br>y=%{y}<br>bird=%{marker.color}<extra></extra>",
           "legendgroup": "",
           "marker": {
            "color": [
             1,
             2,
             3,
             4,
             5,
             6,
             7,
             8,
             9,
             10,
             11,
             12,
             13,
             14,
             15
            ],
            "coloraxis": "coloraxis",
            "symbol": "circle"
           },
           "mode": "markers",
           "name": "",
           "orientation": "v",
           "showlegend": false,
           "type": "scatter",
           "x": [
            139,
            109,
            61,
            64,
            78,
            53,
            47,
            15,
            104,
            50,
            146,
            52,
            159,
            152,
            142
           ],
           "xaxis": "x",
           "y": [
            175,
            5,
            59,
            50,
            182,
            48,
            94,
            111,
            189,
            54,
            124,
            61,
            137,
            148,
            144
           ],
           "yaxis": "y"
          }
         ],
         "name": "77"
        },
        {
         "data": [
          {
           "hovertemplate": "time=78<br>x=%{x}<br>y=%{y}<br>bird=%{marker.color}<extra></extra>",
           "legendgroup": "",
           "marker": {
            "color": [
             1,
             2,
             3,
             4,
             5,
             6,
             7,
             8,
             9,
             10,
             11,
             12,
             13,
             14,
             15
            ],
            "coloraxis": "coloraxis",
            "symbol": "circle"
           },
           "mode": "markers",
           "name": "",
           "orientation": "v",
           "showlegend": false,
           "type": "scatter",
           "x": [
            139,
            95,
            61,
            63,
            121,
            53,
            47,
            15,
            110,
            50,
            146,
            51,
            159,
            152,
            145
           ],
           "xaxis": "x",
           "y": [
            174,
            6,
            59,
            50,
            167,
            49,
            94,
            113,
            189,
            55,
            125,
            61,
            137,
            148,
            144
           ],
           "yaxis": "y"
          }
         ],
         "name": "78"
        },
        {
         "data": [
          {
           "hovertemplate": "time=79<br>x=%{x}<br>y=%{y}<br>bird=%{marker.color}<extra></extra>",
           "legendgroup": "",
           "marker": {
            "color": [
             1,
             2,
             3,
             4,
             5,
             6,
             7,
             8,
             9,
             10,
             11,
             12,
             13,
             14,
             15
            ],
            "coloraxis": "coloraxis",
            "symbol": "circle"
           },
           "mode": "markers",
           "name": "",
           "orientation": "v",
           "showlegend": false,
           "type": "scatter",
           "x": [
            139,
            79,
            60,
            64,
            142,
            53,
            47,
            17,
            122,
            50,
            145,
            52,
            157,
            152,
            146
           ],
           "xaxis": "x",
           "y": [
            174,
            9,
            59,
            50,
            145,
            50,
            94,
            118,
            187,
            55,
            127,
            62,
            136,
            146,
            145
           ],
           "yaxis": "y"
          }
         ],
         "name": "79"
        },
        {
         "data": [
          {
           "hovertemplate": "time=80<br>x=%{x}<br>y=%{y}<br>bird=%{marker.color}<extra></extra>",
           "legendgroup": "",
           "marker": {
            "color": [
             1,
             2,
             3,
             4,
             5,
             6,
             7,
             8,
             9,
             10,
             11,
             12,
             13,
             14,
             15
            ],
            "coloraxis": "coloraxis",
            "symbol": "circle"
           },
           "mode": "markers",
           "name": "",
           "orientation": "v",
           "showlegend": false,
           "type": "scatter",
           "x": [
            147,
            64,
            59,
            64,
            145,
            52,
            47,
            17,
            133,
            50,
            145,
            51,
            158,
            151,
            148
           ],
           "xaxis": "x",
           "y": [
            169,
            15,
            59,
            50,
            141,
            51,
            94,
            118,
            184,
            56,
            127,
            63,
            138,
            146,
            148
           ],
           "yaxis": "y"
          }
         ],
         "name": "80"
        },
        {
         "data": [
          {
           "hovertemplate": "time=81<br>x=%{x}<br>y=%{y}<br>bird=%{marker.color}<extra></extra>",
           "legendgroup": "",
           "marker": {
            "color": [
             1,
             2,
             3,
             4,
             5,
             6,
             7,
             8,
             9,
             10,
             11,
             12,
             13,
             14,
             15
            ],
            "coloraxis": "coloraxis",
            "symbol": "circle"
           },
           "mode": "markers",
           "name": "",
           "orientation": "v",
           "showlegend": false,
           "type": "scatter",
           "x": [
            155,
            50,
            59,
            64,
            145,
            53,
            47,
            17,
            144,
            50,
            148,
            51,
            157,
            151,
            150
           ],
           "xaxis": "x",
           "y": [
            166,
            24,
            59,
            50,
            141,
            52,
            94,
            118,
            181,
            56,
            133,
            63,
            140,
            146,
            149
           ],
           "yaxis": "y"
          }
         ],
         "name": "81"
        },
        {
         "data": [
          {
           "hovertemplate": "time=82<br>x=%{x}<br>y=%{y}<br>bird=%{marker.color}<extra></extra>",
           "legendgroup": "",
           "marker": {
            "color": [
             1,
             2,
             3,
             4,
             5,
             6,
             7,
             8,
             9,
             10,
             11,
             12,
             13,
             14,
             15
            ],
            "coloraxis": "coloraxis",
            "symbol": "circle"
           },
           "mode": "markers",
           "name": "",
           "orientation": "v",
           "showlegend": false,
           "type": "scatter",
           "x": [
            162,
            38,
            59,
            64,
            146,
            52,
            47,
            17,
            154,
            49,
            149,
            54,
            156,
            151,
            153
           ],
           "xaxis": "x",
           "y": [
            163,
            34,
            59,
            50,
            141,
            53,
            94,
            118,
            174,
            56,
            135,
            63,
            140,
            146,
            148
           ],
           "yaxis": "y"
          }
         ],
         "name": "82"
        },
        {
         "data": [
          {
           "hovertemplate": "time=83<br>x=%{x}<br>y=%{y}<br>bird=%{marker.color}<extra></extra>",
           "legendgroup": "",
           "marker": {
            "color": [
             1,
             2,
             3,
             4,
             5,
             6,
             7,
             8,
             9,
             10,
             11,
             12,
             13,
             14,
             15
            ],
            "coloraxis": "coloraxis",
            "symbol": "circle"
           },
           "mode": "markers",
           "name": "",
           "orientation": "v",
           "showlegend": false,
           "type": "scatter",
           "x": [
            171,
            27,
            60,
            63,
            145,
            52,
            47,
            17,
            163,
            50,
            150,
            55,
            156,
            148,
            154
           ],
           "xaxis": "x",
           "y": [
            158,
            49,
            57,
            50,
            141,
            54,
            94,
            118,
            166,
            58,
            135,
            63,
            140,
            145,
            148
           ],
           "yaxis": "y"
          }
         ],
         "name": "83"
        },
        {
         "data": [
          {
           "hovertemplate": "time=84<br>x=%{x}<br>y=%{y}<br>bird=%{marker.color}<extra></extra>",
           "legendgroup": "",
           "marker": {
            "color": [
             1,
             2,
             3,
             4,
             5,
             6,
             7,
             8,
             9,
             10,
             11,
             12,
             13,
             14,
             15
            ],
            "coloraxis": "coloraxis",
            "symbol": "circle"
           },
           "mode": "markers",
           "name": "",
           "orientation": "v",
           "showlegend": false,
           "type": "scatter",
           "x": [
            173,
            22,
            60,
            62,
            148,
            52,
            47,
            17,
            164,
            51,
            152,
            54,
            157,
            150,
            156
           ],
           "xaxis": "x",
           "y": [
            158,
            61,
            57,
            50,
            140,
            54,
            95,
            118,
            164,
            58,
            137,
            63,
            141,
            144,
            147
           ],
           "yaxis": "y"
          }
         ],
         "name": "84"
        },
        {
         "data": [
          {
           "hovertemplate": "time=85<br>x=%{x}<br>y=%{y}<br>bird=%{marker.color}<extra></extra>",
           "legendgroup": "",
           "marker": {
            "color": [
             1,
             2,
             3,
             4,
             5,
             6,
             7,
             8,
             9,
             10,
             11,
             12,
             13,
             14,
             15
            ],
            "coloraxis": "coloraxis",
            "symbol": "circle"
           },
           "mode": "markers",
           "name": "",
           "orientation": "v",
           "showlegend": false,
           "type": "scatter",
           "x": [
            177,
            18,
            60,
            62,
            146,
            53,
            47,
            17,
            170,
            50,
            152,
            56,
            158,
            150,
            157
           ],
           "xaxis": "x",
           "y": [
            155,
            74,
            53,
            50,
            140,
            53,
            94,
            118,
            161,
            58,
            135,
            62,
            141,
            146,
            148
           ],
           "yaxis": "y"
          }
         ],
         "name": "85"
        },
        {
         "data": [
          {
           "hovertemplate": "time=86<br>x=%{x}<br>y=%{y}<br>bird=%{marker.color}<extra></extra>",
           "legendgroup": "",
           "marker": {
            "color": [
             1,
             2,
             3,
             4,
             5,
             6,
             7,
             8,
             9,
             10,
             11,
             12,
             13,
             14,
             15
            ],
            "coloraxis": "coloraxis",
            "symbol": "circle"
           },
           "mode": "markers",
           "name": "",
           "orientation": "v",
           "showlegend": false,
           "type": "scatter",
           "x": [
            184,
            14,
            58,
            64,
            147,
            52,
            47,
            18,
            177,
            49,
            160,
            57,
            158,
            149,
            160
           ],
           "xaxis": "x",
           "y": [
            145,
            90,
            54,
            49,
            136,
            57,
            94,
            119,
            154,
            58,
            137,
            62,
            144,
            144,
            149
           ],
           "yaxis": "y"
          }
         ],
         "name": "86"
        },
        {
         "data": [
          {
           "hovertemplate": "time=87<br>x=%{x}<br>y=%{y}<br>bird=%{marker.color}<extra></extra>",
           "legendgroup": "",
           "marker": {
            "color": [
             1,
             2,
             3,
             4,
             5,
             6,
             7,
             8,
             9,
             10,
             11,
             12,
             13,
             14,
             15
            ],
            "coloraxis": "coloraxis",
            "symbol": "circle"
           },
           "mode": "markers",
           "name": "",
           "orientation": "v",
           "showlegend": false,
           "type": "scatter",
           "x": [
            188,
            14,
            57,
            63,
            148,
            53,
            47,
            24,
            183,
            48,
            163,
            57,
            159,
            149,
            163
           ],
           "xaxis": "x",
           "y": [
            137,
            102,
            54,
            50,
            136,
            55,
            94,
            131,
            146,
            57,
            140,
            62,
            144,
            143,
            149
           ],
           "yaxis": "y"
          }
         ],
         "name": "87"
        },
        {
         "data": [
          {
           "hovertemplate": "time=88<br>x=%{x}<br>y=%{y}<br>bird=%{marker.color}<extra></extra>",
           "legendgroup": "",
           "marker": {
            "color": [
             1,
             2,
             3,
             4,
             5,
             6,
             7,
             8,
             9,
             10,
             11,
             12,
             13,
             14,
             15
            ],
            "coloraxis": "coloraxis",
            "symbol": "circle"
           },
           "mode": "markers",
           "name": "",
           "orientation": "v",
           "showlegend": false,
           "type": "scatter",
           "x": [
            192,
            15,
            57,
            64,
            150,
            54,
            47,
            26,
            188,
            51,
            163,
            58,
            159,
            149,
            163
           ],
           "xaxis": "x",
           "y": [
            128,
            117,
            55,
            50,
            137,
            54,
            94,
            142,
            137,
            58,
            141,
            62,
            147,
            142,
            150
           ],
           "yaxis": "y"
          }
         ],
         "name": "88"
        },
        {
         "data": [
          {
           "hovertemplate": "time=89<br>x=%{x}<br>y=%{y}<br>bird=%{marker.color}<extra></extra>",
           "legendgroup": "",
           "marker": {
            "color": [
             1,
             2,
             3,
             4,
             5,
             6,
             7,
             8,
             9,
             10,
             11,
             12,
             13,
             14,
             15
            ],
            "coloraxis": "coloraxis",
            "symbol": "circle"
           },
           "mode": "markers",
           "name": "",
           "orientation": "v",
           "showlegend": false,
           "type": "scatter",
           "x": [
            194,
            20,
            58,
            64,
            152,
            54,
            47,
            37,
            191,
            51,
            163,
            59,
            158,
            148,
            166
           ],
           "xaxis": "x",
           "y": [
            123,
            133,
            55,
            49,
            140,
            56,
            94,
            154,
            130,
            58,
            142,
            62,
            147,
            142,
            147
           ],
           "yaxis": "y"
          }
         ],
         "name": "89"
        },
        {
         "data": [
          {
           "hovertemplate": "time=90<br>x=%{x}<br>y=%{y}<br>bird=%{marker.color}<extra></extra>",
           "legendgroup": "",
           "marker": {
            "color": [
             1,
             2,
             3,
             4,
             5,
             6,
             7,
             8,
             9,
             10,
             11,
             12,
             13,
             14,
             15
            ],
            "coloraxis": "coloraxis",
            "symbol": "circle"
           },
           "mode": "markers",
           "name": "",
           "orientation": "v",
           "showlegend": false,
           "type": "scatter",
           "x": [
            195,
            28,
            58,
            64,
            152,
            55,
            47,
            41,
            191,
            51,
            162,
            61,
            157,
            148,
            167
           ],
           "xaxis": "x",
           "y": [
            120,
            146,
            54,
            49,
            140,
            57,
            94,
            158,
            129,
            59,
            147,
            61,
            147,
            142,
            146
           ],
           "yaxis": "y"
          }
         ],
         "name": "90"
        },
        {
         "data": [
          {
           "hovertemplate": "time=91<br>x=%{x}<br>y=%{y}<br>bird=%{marker.color}<extra></extra>",
           "legendgroup": "",
           "marker": {
            "color": [
             1,
             2,
             3,
             4,
             5,
             6,
             7,
             8,
             9,
             10,
             11,
             12,
             13,
             14,
             15
            ],
            "coloraxis": "coloraxis",
            "symbol": "circle"
           },
           "mode": "markers",
           "name": "",
           "orientation": "v",
           "showlegend": false,
           "type": "scatter",
           "x": [
            196,
            36,
            58,
            64,
            158,
            56,
            47,
            43,
            193,
            51,
            160,
            62,
            157,
            147,
            166
           ],
           "xaxis": "x",
           "y": [
            111,
            157,
            54,
            49,
            133,
            61,
            94,
            161,
            124,
            59,
            151,
            61,
            146,
            142,
            146
           ],
           "yaxis": "y"
          }
         ],
         "name": "91"
        },
        {
         "data": [
          {
           "hovertemplate": "time=92<br>x=%{x}<br>y=%{y}<br>bird=%{marker.color}<extra></extra>",
           "legendgroup": "",
           "marker": {
            "color": [
             1,
             2,
             3,
             4,
             5,
             6,
             7,
             8,
             9,
             10,
             11,
             12,
             13,
             14,
             15
            ],
            "coloraxis": "coloraxis",
            "symbol": "circle"
           },
           "mode": "markers",
           "name": "",
           "orientation": "v",
           "showlegend": false,
           "type": "scatter",
           "x": [
            197,
            45,
            59,
            64,
            159,
            59,
            47,
            51,
            195,
            51,
            158,
            63,
            158,
            147,
            166
           ],
           "xaxis": "x",
           "y": [
            104,
            166,
            54,
            49,
            136,
            65,
            94,
            168,
            112,
            59,
            153,
            59,
            146,
            143,
            145
           ],
           "yaxis": "y"
          }
         ],
         "name": "92"
        },
        {
         "data": [
          {
           "hovertemplate": "time=93<br>x=%{x}<br>y=%{y}<br>bird=%{marker.color}<extra></extra>",
           "legendgroup": "",
           "marker": {
            "color": [
             1,
             2,
             3,
             4,
             5,
             6,
             7,
             8,
             9,
             10,
             11,
             12,
             13,
             14,
             15
            ],
            "coloraxis": "coloraxis",
            "symbol": "circle"
           },
           "mode": "markers",
           "name": "",
           "orientation": "v",
           "showlegend": false,
           "type": "scatter",
           "x": [
            196,
            49,
            58,
            64,
            160,
            60,
            47,
            54,
            196,
            51,
            156,
            64,
            159,
            147,
            164
           ],
           "xaxis": "x",
           "y": [
            100,
            170,
            52,
            49,
            138,
            63,
            94,
            171,
            112,
            59,
            152,
            57,
            147,
            144,
            144
           ],
           "yaxis": "y"
          }
         ],
         "name": "93"
        },
        {
         "data": [
          {
           "hovertemplate": "time=94<br>x=%{x}<br>y=%{y}<br>bird=%{marker.color}<extra></extra>",
           "legendgroup": "",
           "marker": {
            "color": [
             1,
             2,
             3,
             4,
             5,
             6,
             7,
             8,
             9,
             10,
             11,
             12,
             13,
             14,
             15
            ],
            "coloraxis": "coloraxis",
            "symbol": "circle"
           },
           "mode": "markers",
           "name": "",
           "orientation": "v",
           "showlegend": false,
           "type": "scatter",
           "x": [
            197,
            51,
            55,
            64,
            158,
            60,
            47,
            55,
            196,
            51,
            155,
            64,
            160,
            148,
            163
           ],
           "xaxis": "x",
           "y": [
            98,
            171,
            52,
            49,
            139,
            63,
            94,
            173,
            112,
            59,
            152,
            57,
            147,
            143,
            143
           ],
           "yaxis": "y"
          }
         ],
         "name": "94"
        },
        {
         "data": [
          {
           "hovertemplate": "time=95<br>x=%{x}<br>y=%{y}<br>bird=%{marker.color}<extra></extra>",
           "legendgroup": "",
           "marker": {
            "color": [
             1,
             2,
             3,
             4,
             5,
             6,
             7,
             8,
             9,
             10,
             11,
             12,
             13,
             14,
             15
            ],
            "coloraxis": "coloraxis",
            "symbol": "circle"
           },
           "mode": "markers",
           "name": "",
           "orientation": "v",
           "showlegend": false,
           "type": "scatter",
           "x": [
            197,
            52,
            54,
            64,
            155,
            60,
            47,
            57,
            195,
            52,
            153,
            64,
            159,
            149,
            161
           ],
           "xaxis": "x",
           "y": [
            97,
            171,
            54,
            49,
            141,
            61,
            94,
            175,
            117,
            59,
            149,
            56,
            148,
            142,
            141
           ],
           "yaxis": "y"
          }
         ],
         "name": "95"
        },
        {
         "data": [
          {
           "hovertemplate": "time=96<br>x=%{x}<br>y=%{y}<br>bird=%{marker.color}<extra></extra>",
           "legendgroup": "",
           "marker": {
            "color": [
             1,
             2,
             3,
             4,
             5,
             6,
             7,
             8,
             9,
             10,
             11,
             12,
             13,
             14,
             15
            ],
            "coloraxis": "coloraxis",
            "symbol": "circle"
           },
           "mode": "markers",
           "name": "",
           "orientation": "v",
           "showlegend": false,
           "type": "scatter",
           "x": [
            197,
            54,
            53,
            64,
            154,
            61,
            47,
            59,
            194,
            51,
            153,
            63,
            160,
            150,
            160
           ],
           "xaxis": "x",
           "y": [
            98,
            173,
            53,
            49,
            143,
            60,
            94,
            177,
            123,
            60,
            148,
            55,
            148,
            140,
            141
           ],
           "yaxis": "y"
          }
         ],
         "name": "96"
        },
        {
         "data": [
          {
           "hovertemplate": "time=97<br>x=%{x}<br>y=%{y}<br>bird=%{marker.color}<extra></extra>",
           "legendgroup": "",
           "marker": {
            "color": [
             1,
             2,
             3,
             4,
             5,
             6,
             7,
             8,
             9,
             10,
             11,
             12,
             13,
             14,
             15
            ],
            "coloraxis": "coloraxis",
            "symbol": "circle"
           },
           "mode": "markers",
           "name": "",
           "orientation": "v",
           "showlegend": false,
           "type": "scatter",
           "x": [
            197,
            60,
            53,
            65,
            155,
            61,
            47,
            65,
            192,
            52,
            153,
            62,
            160,
            153,
            161
           ],
           "xaxis": "x",
           "y": [
            98,
            176,
            53,
            49,
            142,
            60,
            94,
            178,
            128,
            60,
            149,
            54,
            148,
            137,
            141
           ],
           "yaxis": "y"
          }
         ],
         "name": "97"
        },
        {
         "data": [
          {
           "hovertemplate": "time=98<br>x=%{x}<br>y=%{y}<br>bird=%{marker.color}<extra></extra>",
           "legendgroup": "",
           "marker": {
            "color": [
             1,
             2,
             3,
             4,
             5,
             6,
             7,
             8,
             9,
             10,
             11,
             12,
             13,
             14,
             15
            ],
            "coloraxis": "coloraxis",
            "symbol": "circle"
           },
           "mode": "markers",
           "name": "",
           "orientation": "v",
           "showlegend": false,
           "type": "scatter",
           "x": [
            197,
            64,
            53,
            64,
            158,
            60,
            48,
            68,
            189,
            51,
            153,
            61,
            159,
            155,
            160
           ],
           "xaxis": "x",
           "y": [
            98,
            180,
            54,
            49,
            145,
            60,
            93,
            180,
            133,
            60,
            150,
            53,
            149,
            136,
            142
           ],
           "yaxis": "y"
          }
         ],
         "name": "98"
        },
        {
         "data": [
          {
           "hovertemplate": "time=99<br>x=%{x}<br>y=%{y}<br>bird=%{marker.color}<extra></extra>",
           "legendgroup": "",
           "marker": {
            "color": [
             1,
             2,
             3,
             4,
             5,
             6,
             7,
             8,
             9,
             10,
             11,
             12,
             13,
             14,
             15
            ],
            "coloraxis": "coloraxis",
            "symbol": "circle"
           },
           "mode": "markers",
           "name": "",
           "orientation": "v",
           "showlegend": false,
           "type": "scatter",
           "x": [
            197,
            76,
            52,
            64,
            182,
            59,
            49,
            71,
            187,
            51,
            153,
            64,
            158,
            155,
            160
           ],
           "xaxis": "x",
           "y": [
            98,
            183,
            51,
            49,
            147,
            59,
            93,
            174,
            140,
            60,
            146,
            54,
            149,
            136,
            142
           ],
           "yaxis": "y"
          }
         ],
         "name": "99"
        },
        {
         "data": [
          {
           "hovertemplate": "time=100<br>x=%{x}<br>y=%{y}<br>bird=%{marker.color}<extra></extra>",
           "legendgroup": "",
           "marker": {
            "color": [
             1,
             2,
             3,
             4,
             5,
             6,
             7,
             8,
             9,
             10,
             11,
             12,
             13,
             14,
             15
            ],
            "coloraxis": "coloraxis",
            "symbol": "circle"
           },
           "mode": "markers",
           "name": "",
           "orientation": "v",
           "showlegend": false,
           "type": "scatter",
           "x": [
            197,
            94,
            52,
            64,
            184,
            59,
            48,
            70,
            184,
            52,
            153,
            63,
            157,
            157,
            159
           ],
           "xaxis": "x",
           "y": [
            97,
            188,
            53,
            49,
            137,
            55,
            95,
            172,
            138,
            61,
            142,
            55,
            148,
            134,
            142
           ],
           "yaxis": "y"
          }
         ],
         "name": "100"
        },
        {
         "data": [
          {
           "hovertemplate": "time=101<br>x=%{x}<br>y=%{y}<br>bird=%{marker.color}<extra></extra>",
           "legendgroup": "",
           "marker": {
            "color": [
             1,
             2,
             3,
             4,
             5,
             6,
             7,
             8,
             9,
             10,
             11,
             12,
             13,
             14,
             15
            ],
            "coloraxis": "coloraxis",
            "symbol": "circle"
           },
           "mode": "markers",
           "name": "",
           "orientation": "v",
           "showlegend": false,
           "type": "scatter",
           "x": [
            196,
            111,
            52,
            63,
            187,
            58,
            47,
            72,
            182,
            52,
            151,
            65,
            156,
            154,
            157
           ],
           "xaxis": "x",
           "y": [
            94,
            189,
            52,
            49,
            114,
            53,
            97,
            170,
            147,
            61,
            137,
            54,
            148,
            131,
            141
           ],
           "yaxis": "y"
          }
         ],
         "name": "101"
        },
        {
         "data": [
          {
           "hovertemplate": "time=102<br>x=%{x}<br>y=%{y}<br>bird=%{marker.color}<extra></extra>",
           "legendgroup": "",
           "marker": {
            "color": [
             1,
             2,
             3,
             4,
             5,
             6,
             7,
             8,
             9,
             10,
             11,
             12,
             13,
             14,
             15
            ],
            "coloraxis": "coloraxis",
            "symbol": "circle"
           },
           "mode": "markers",
           "name": "",
           "orientation": "v",
           "showlegend": false,
           "type": "scatter",
           "x": [
            197,
            125,
            52,
            64,
            187,
            58,
            46,
            72,
            180,
            52,
            147,
            65,
            155,
            151,
            156
           ],
           "xaxis": "x",
           "y": [
            91,
            187,
            52,
            49,
            113,
            51,
            98,
            170,
            152,
            61,
            136,
            55,
            147,
            132,
            141
           ],
           "yaxis": "y"
          }
         ],
         "name": "102"
        },
        {
         "data": [
          {
           "hovertemplate": "time=103<br>x=%{x}<br>y=%{y}<br>bird=%{marker.color}<extra></extra>",
           "legendgroup": "",
           "marker": {
            "color": [
             1,
             2,
             3,
             4,
             5,
             6,
             7,
             8,
             9,
             10,
             11,
             12,
             13,
             14,
             15
            ],
            "coloraxis": "coloraxis",
            "symbol": "circle"
           },
           "mode": "markers",
           "name": "",
           "orientation": "v",
           "showlegend": false,
           "type": "scatter",
           "x": [
            197,
            137,
            52,
            64,
            190,
            58,
            43,
            72,
            176,
            52,
            141,
            66,
            155,
            149,
            154
           ],
           "xaxis": "x",
           "y": [
            89,
            183,
            51,
            49,
            91,
            50,
            100,
            170,
            157,
            61,
            137,
            55,
            147,
            135,
            140
           ],
           "yaxis": "y"
          }
         ],
         "name": "103"
        },
        {
         "data": [
          {
           "hovertemplate": "time=104<br>x=%{x}<br>y=%{y}<br>bird=%{marker.color}<extra></extra>",
           "legendgroup": "",
           "marker": {
            "color": [
             1,
             2,
             3,
             4,
             5,
             6,
             7,
             8,
             9,
             10,
             11,
             12,
             13,
             14,
             15
            ],
            "coloraxis": "coloraxis",
            "symbol": "circle"
           },
           "mode": "markers",
           "name": "",
           "orientation": "v",
           "showlegend": false,
           "type": "scatter",
           "x": [
            197,
            149,
            52,
            64,
            192,
            56,
            40,
            79,
            169,
            53,
            141,
            65,
            154,
            150,
            155
           ],
           "xaxis": "x",
           "y": [
            89,
            178,
            51,
            49,
            65,
            46,
            98,
            153,
            164,
            60,
            137,
            55,
            149,
            135,
            139
           ],
           "yaxis": "y"
          }
         ],
         "name": "104"
        },
        {
         "data": [
          {
           "hovertemplate": "time=105<br>x=%{x}<br>y=%{y}<br>bird=%{marker.color}<extra></extra>",
           "legendgroup": "",
           "marker": {
            "color": [
             1,
             2,
             3,
             4,
             5,
             6,
             7,
             8,
             9,
             10,
             11,
             12,
             13,
             14,
             15
            ],
            "coloraxis": "coloraxis",
            "symbol": "circle"
           },
           "mode": "markers",
           "name": "",
           "orientation": "v",
           "showlegend": false,
           "type": "scatter",
           "x": [
            197,
            158,
            53,
            63,
            180,
            51,
            39,
            85,
            168,
            53,
            141,
            63,
            154,
            147,
            154
           ],
           "xaxis": "x",
           "y": [
            88,
            173,
            51,
            50,
            43,
            47,
            95,
            137,
            166,
            61,
            137,
            55,
            149,
            134,
            138
           ],
           "yaxis": "y"
          }
         ],
         "name": "105"
        },
        {
         "data": [
          {
           "hovertemplate": "time=106<br>x=%{x}<br>y=%{y}<br>bird=%{marker.color}<extra></extra>",
           "legendgroup": "",
           "marker": {
            "color": [
             1,
             2,
             3,
             4,
             5,
             6,
             7,
             8,
             9,
             10,
             11,
             12,
             13,
             14,
             15
            ],
            "coloraxis": "coloraxis",
            "symbol": "circle"
           },
           "mode": "markers",
           "name": "",
           "orientation": "v",
           "showlegend": false,
           "type": "scatter",
           "x": [
            197,
            164,
            54,
            64,
            159,
            51,
            39,
            88,
            169,
            53,
            141,
            62,
            153,
            150,
            156
           ],
           "xaxis": "x",
           "y": [
            85,
            169,
            50,
            48,
            23,
            47,
            91,
            122,
            164,
            61,
            137,
            54,
            149,
            137,
            139
           ],
           "yaxis": "y"
          }
         ],
         "name": "106"
        },
        {
         "data": [
          {
           "hovertemplate": "time=107<br>x=%{x}<br>y=%{y}<br>bird=%{marker.color}<extra></extra>",
           "legendgroup": "",
           "marker": {
            "color": [
             1,
             2,
             3,
             4,
             5,
             6,
             7,
             8,
             9,
             10,
             11,
             12,
             13,
             14,
             15
            ],
            "coloraxis": "coloraxis",
            "symbol": "circle"
           },
           "mode": "markers",
           "name": "",
           "orientation": "v",
           "showlegend": false,
           "type": "scatter",
           "x": [
            196,
            165,
            54,
            64,
            157,
            52,
            40,
            84,
            169,
            53,
            141,
            62,
            152,
            151,
            156
           ],
           "xaxis": "x",
           "y": [
            83,
            168,
            51,
            49,
            22,
            48,
            88,
            106,
            165,
            61,
            132,
            50,
            148,
            136,
            141
           ],
           "yaxis": "y"
          }
         ],
         "name": "107"
        },
        {
         "data": [
          {
           "hovertemplate": "time=108<br>x=%{x}<br>y=%{y}<br>bird=%{marker.color}<extra></extra>",
           "legendgroup": "",
           "marker": {
            "color": [
             1,
             2,
             3,
             4,
             5,
             6,
             7,
             8,
             9,
             10,
             11,
             12,
             13,
             14,
             15
            ],
            "coloraxis": "coloraxis",
            "symbol": "circle"
           },
           "mode": "markers",
           "name": "",
           "orientation": "v",
           "showlegend": false,
           "type": "scatter",
           "x": [
            195,
            164,
            53,
            64,
            134,
            52,
            40,
            82,
            167,
            54,
            141,
            61,
            149,
            152,
            155
           ],
           "xaxis": "x",
           "y": [
            77,
            170,
            52,
            49,
            37,
            48,
            89,
            99,
            165,
            61,
            130,
            54,
            147,
            136,
            140
           ],
           "yaxis": "y"
          }
         ],
         "name": "108"
        },
        {
         "data": [
          {
           "hovertemplate": "time=109<br>x=%{x}<br>y=%{y}<br>bird=%{marker.color}<extra></extra>",
           "legendgroup": "",
           "marker": {
            "color": [
             1,
             2,
             3,
             4,
             5,
             6,
             7,
             8,
             9,
             10,
             11,
             12,
             13,
             14,
             15
            ],
            "coloraxis": "coloraxis",
            "symbol": "circle"
           },
           "mode": "markers",
           "name": "",
           "orientation": "v",
           "showlegend": false,
           "type": "scatter",
           "x": [
            194,
            174,
            55,
            65,
            133,
            51,
            41,
            79,
            160,
            53,
            142,
            61,
            148,
            152,
            153
           ],
           "xaxis": "x",
           "y": [
            75,
            158,
            53,
            49,
            39,
            46,
            89,
            94,
            171,
            61,
            130,
            53,
            146,
            136,
            141
           ],
           "yaxis": "y"
          }
         ],
         "name": "109"
        },
        {
         "data": [
          {
           "hovertemplate": "time=110<br>x=%{x}<br>y=%{y}<br>bird=%{marker.color}<extra></extra>",
           "legendgroup": "",
           "marker": {
            "color": [
             1,
             2,
             3,
             4,
             5,
             6,
             7,
             8,
             9,
             10,
             11,
             12,
             13,
             14,
             15
            ],
            "coloraxis": "coloraxis",
            "symbol": "circle"
           },
           "mode": "markers",
           "name": "",
           "orientation": "v",
           "showlegend": false,
           "type": "scatter",
           "x": [
            193,
            183,
            54,
            64,
            122,
            51,
            41,
            66,
            151,
            53,
            147,
            58,
            149,
            155,
            152
           ],
           "xaxis": "x",
           "y": [
            72,
            147,
            55,
            50,
            45,
            50,
            85,
            76,
            177,
            61,
            131,
            49,
            146,
            136,
            141
           ],
           "yaxis": "y"
          }
         ],
         "name": "110"
        },
        {
         "data": [
          {
           "hovertemplate": "time=111<br>x=%{x}<br>y=%{y}<br>bird=%{marker.color}<extra></extra>",
           "legendgroup": "",
           "marker": {
            "color": [
             1,
             2,
             3,
             4,
             5,
             6,
             7,
             8,
             9,
             10,
             11,
             12,
             13,
             14,
             15
            ],
            "coloraxis": "coloraxis",
            "symbol": "circle"
           },
           "mode": "markers",
           "name": "",
           "orientation": "v",
           "showlegend": false,
           "type": "scatter",
           "x": [
            192,
            190,
            55,
            66,
            74,
            51,
            41,
            58,
            150,
            52,
            151,
            56,
            147,
            156,
            152
           ],
           "xaxis": "x",
           "y": [
            67,
            135,
            55,
            50,
            60,
            50,
            85,
            64,
            178,
            61,
            132,
            48,
            144,
            137,
            141
           ],
           "yaxis": "y"
          }
         ],
         "name": "111"
        },
        {
         "data": [
          {
           "hovertemplate": "time=112<br>x=%{x}<br>y=%{y}<br>bird=%{marker.color}<extra></extra>",
           "legendgroup": "",
           "marker": {
            "color": [
             1,
             2,
             3,
             4,
             5,
             6,
             7,
             8,
             9,
             10,
             11,
             12,
             13,
             14,
             15
            ],
            "coloraxis": "coloraxis",
            "symbol": "circle"
           },
           "mode": "markers",
           "name": "",
           "orientation": "v",
           "showlegend": false,
           "type": "scatter",
           "x": [
            191,
            195,
            56,
            63,
            50,
            50,
            41,
            58,
            150,
            53,
            152,
            57,
            147,
            158,
            151
           ],
           "xaxis": "x",
           "y": [
            63,
            119,
            55,
            49,
            73,
            52,
            85,
            64,
            178,
            61,
            133,
            48,
            144,
            138,
            143
           ],
           "yaxis": "y"
          }
         ],
         "name": "112"
        },
        {
         "data": [
          {
           "hovertemplate": "time=113<br>x=%{x}<br>y=%{y}<br>bird=%{marker.color}<extra></extra>",
           "legendgroup": "",
           "marker": {
            "color": [
             1,
             2,
             3,
             4,
             5,
             6,
             7,
             8,
             9,
             10,
             11,
             12,
             13,
             14,
             15
            ],
            "coloraxis": "coloraxis",
            "symbol": "circle"
           },
           "mode": "markers",
           "name": "",
           "orientation": "v",
           "showlegend": false,
           "type": "scatter",
           "x": [
            190,
            197,
            57,
            64,
            20,
            50,
            41,
            59,
            144,
            53,
            152,
            56,
            146,
            158,
            150
           ],
           "xaxis": "x",
           "y": [
            59,
            106,
            54,
            49,
            91,
            52,
            85,
            65,
            181,
            61,
            133,
            47,
            142,
            140,
            144
           ],
           "yaxis": "y"
          }
         ],
         "name": "113"
        },
        {
         "data": [
          {
           "hovertemplate": "time=114<br>x=%{x}<br>y=%{y}<br>bird=%{marker.color}<extra></extra>",
           "legendgroup": "",
           "marker": {
            "color": [
             1,
             2,
             3,
             4,
             5,
             6,
             7,
             8,
             9,
             10,
             11,
             12,
             13,
             14,
             15
            ],
            "coloraxis": "coloraxis",
            "symbol": "circle"
           },
           "mode": "markers",
           "name": "",
           "orientation": "v",
           "showlegend": false,
           "type": "scatter",
           "x": [
            187,
            197,
            57,
            64,
            14,
            50,
            41,
            59,
            143,
            54,
            153,
            55,
            146,
            160,
            150
           ],
           "xaxis": "x",
           "y": [
            54,
            91,
            53,
            49,
            109,
            53,
            85,
            64,
            181,
            61,
            135,
            48,
            142,
            142,
            145
           ],
           "yaxis": "y"
          }
         ],
         "name": "114"
        },
        {
         "data": [
          {
           "hovertemplate": "time=115<br>x=%{x}<br>y=%{y}<br>bird=%{marker.color}<extra></extra>",
           "legendgroup": "",
           "marker": {
            "color": [
             1,
             2,
             3,
             4,
             5,
             6,
             7,
             8,
             9,
             10,
             11,
             12,
             13,
             14,
             15
            ],
            "coloraxis": "coloraxis",
            "symbol": "circle"
           },
           "mode": "markers",
           "name": "",
           "orientation": "v",
           "showlegend": false,
           "type": "scatter",
           "x": [
            184,
            195,
            58,
            63,
            25,
            50,
            41,
            59,
            138,
            53,
            154,
            54,
            147,
            159,
            150
           ],
           "xaxis": "x",
           "y": [
            50,
            75,
            54,
            49,
            143,
            53,
            85,
            63,
            183,
            61,
            136,
            48,
            141,
            147,
            145
           ],
           "yaxis": "y"
          }
         ],
         "name": "115"
        },
        {
         "data": [
          {
           "hovertemplate": "time=116<br>x=%{x}<br>y=%{y}<br>bird=%{marker.color}<extra></extra>",
           "legendgroup": "",
           "marker": {
            "color": [
             1,
             2,
             3,
             4,
             5,
             6,
             7,
             8,
             9,
             10,
             11,
             12,
             13,
             14,
             15
            ],
            "coloraxis": "coloraxis",
            "symbol": "circle"
           },
           "mode": "markers",
           "name": "",
           "orientation": "v",
           "showlegend": false,
           "type": "scatter",
           "x": [
            179,
            191,
            59,
            62,
            54,
            51,
            41,
            59,
            130,
            53,
            154,
            54,
            148,
            159,
            149
           ],
           "xaxis": "x",
           "y": [
            43,
            61,
            55,
            49,
            174,
            53,
            85,
            62,
            186,
            61,
            138,
            49,
            139,
            147,
            145
           ],
           "yaxis": "y"
          }
         ],
         "name": "116"
        },
        {
         "data": [
          {
           "hovertemplate": "time=117<br>x=%{x}<br>y=%{y}<br>bird=%{marker.color}<extra></extra>",
           "legendgroup": "",
           "marker": {
            "color": [
             1,
             2,
             3,
             4,
             5,
             6,
             7,
             8,
             9,
             10,
             11,
             12,
             13,
             14,
             15
            ],
            "coloraxis": "coloraxis",
            "symbol": "circle"
           },
           "mode": "markers",
           "name": "",
           "orientation": "v",
           "showlegend": false,
           "type": "scatter",
           "x": [
            175,
            183,
            59,
            62,
            87,
            50,
            41,
            58,
            125,
            53,
            153,
            55,
            148,
            153,
            149
           ],
           "xaxis": "x",
           "y": [
            38,
            48,
            55,
            49,
            185,
            55,
            83,
            61,
            187,
            62,
            139,
            50,
            139,
            149,
            146
           ],
           "yaxis": "y"
          }
         ],
         "name": "117"
        },
        {
         "data": [
          {
           "hovertemplate": "time=118<br>x=%{x}<br>y=%{y}<br>bird=%{marker.color}<extra></extra>",
           "legendgroup": "",
           "marker": {
            "color": [
             1,
             2,
             3,
             4,
             5,
             6,
             7,
             8,
             9,
             10,
             11,
             12,
             13,
             14,
             15
            ],
            "coloraxis": "coloraxis",
            "symbol": "circle"
           },
           "mode": "markers",
           "name": "",
           "orientation": "v",
           "showlegend": false,
           "type": "scatter",
           "x": [
            169,
            178,
            57,
            61,
            126,
            50,
            41,
            60,
            122,
            54,
            152,
            54,
            148,
            152,
            148
           ],
           "xaxis": "x",
           "y": [
            32,
            40,
            55,
            49,
            175,
            55,
            78,
            64,
            188,
            62,
            139,
            50,
            138,
            149,
            147
           ],
           "yaxis": "y"
          }
         ],
         "name": "118"
        },
        {
         "data": [
          {
           "hovertemplate": "time=119<br>x=%{x}<br>y=%{y}<br>bird=%{marker.color}<extra></extra>",
           "legendgroup": "",
           "marker": {
            "color": [
             1,
             2,
             3,
             4,
             5,
             6,
             7,
             8,
             9,
             10,
             11,
             12,
             13,
             14,
             15
            ],
            "coloraxis": "coloraxis",
            "symbol": "circle"
           },
           "mode": "markers",
           "name": "",
           "orientation": "v",
           "showlegend": false,
           "type": "scatter",
           "x": [
            168,
            172,
            57,
            61,
            153,
            50,
            42,
            60,
            122,
            53,
            154,
            53,
            149,
            152,
            146
           ],
           "xaxis": "x",
           "y": [
            30,
            35,
            57,
            49,
            154,
            57,
            75,
            63,
            188,
            62,
            141,
            52,
            137,
            148,
            150
           ],
           "yaxis": "y"
          }
         ],
         "name": "119"
        },
        {
         "data": [
          {
           "hovertemplate": "time=120<br>x=%{x}<br>y=%{y}<br>bird=%{marker.color}<extra></extra>",
           "legendgroup": "",
           "marker": {
            "color": [
             1,
             2,
             3,
             4,
             5,
             6,
             7,
             8,
             9,
             10,
             11,
             12,
             13,
             14,
             15
            ],
            "coloraxis": "coloraxis",
            "symbol": "circle"
           },
           "mode": "markers",
           "name": "",
           "orientation": "v",
           "showlegend": false,
           "type": "scatter",
           "x": [
            165,
            171,
            56,
            62,
            154,
            50,
            43,
            60,
            122,
            54,
            158,
            53,
            151,
            150,
            145
           ],
           "xaxis": "x",
           "y": [
            28,
            34,
            57,
            48,
            151,
            58,
            73,
            63,
            188,
            62,
            142,
            52,
            136,
            150,
            152
           ],
           "yaxis": "y"
          }
         ],
         "name": "120"
        },
        {
         "data": [
          {
           "hovertemplate": "time=121<br>x=%{x}<br>y=%{y}<br>bird=%{marker.color}<extra></extra>",
           "legendgroup": "",
           "marker": {
            "color": [
             1,
             2,
             3,
             4,
             5,
             6,
             7,
             8,
             9,
             10,
             11,
             12,
             13,
             14,
             15
            ],
            "coloraxis": "coloraxis",
            "symbol": "circle"
           },
           "mode": "markers",
           "name": "",
           "orientation": "v",
           "showlegend": false,
           "type": "scatter",
           "x": [
            161,
            169,
            57,
            62,
            154,
            50,
            43,
            60,
            118,
            54,
            166,
            52,
            152,
            147,
            143
           ],
           "xaxis": "x",
           "y": [
            26,
            30,
            57,
            47,
            152,
            58,
            73,
            63,
            189,
            63,
            149,
            53,
            136,
            157,
            159
           ],
           "yaxis": "y"
          }
         ],
         "name": "121"
        },
        {
         "data": [
          {
           "hovertemplate": "time=122<br>x=%{x}<br>y=%{y}<br>bird=%{marker.color}<extra></extra>",
           "legendgroup": "",
           "marker": {
            "color": [
             1,
             2,
             3,
             4,
             5,
             6,
             7,
             8,
             9,
             10,
             11,
             12,
             13,
             14,
             15
            ],
            "coloraxis": "coloraxis",
            "symbol": "circle"
           },
           "mode": "markers",
           "name": "",
           "orientation": "v",
           "showlegend": false,
           "type": "scatter",
           "x": [
            158,
            164,
            56,
            61,
            154,
            50,
            44,
            60,
            109,
            55,
            167,
            52,
            152,
            147,
            146
           ],
           "xaxis": "x",
           "y": [
            24,
            26,
            57,
            48,
            151,
            58,
            71,
            63,
            190,
            62,
            152,
            53,
            136,
            158,
            164
           ],
           "yaxis": "y"
          }
         ],
         "name": "122"
        },
        {
         "data": [
          {
           "hovertemplate": "time=123<br>x=%{x}<br>y=%{y}<br>bird=%{marker.color}<extra></extra>",
           "legendgroup": "",
           "marker": {
            "color": [
             1,
             2,
             3,
             4,
             5,
             6,
             7,
             8,
             9,
             10,
             11,
             12,
             13,
             14,
             15
            ],
            "coloraxis": "coloraxis",
            "symbol": "circle"
           },
           "mode": "markers",
           "name": "",
           "orientation": "v",
           "showlegend": false,
           "type": "scatter",
           "x": [
            150,
            159,
            55,
            60,
            154,
            51,
            47,
            60,
            101,
            56,
            168,
            52,
            154,
            147,
            154
           ],
           "xaxis": "x",
           "y": [
            19,
            22,
            57,
            48,
            150,
            60,
            65,
            63,
            190,
            62,
            156,
            52,
            135,
            158,
            166
           ],
           "yaxis": "y"
          }
         ],
         "name": "123"
        },
        {
         "data": [
          {
           "hovertemplate": "time=124<br>x=%{x}<br>y=%{y}<br>bird=%{marker.color}<extra></extra>",
           "legendgroup": "",
           "marker": {
            "color": [
             1,
             2,
             3,
             4,
             5,
             6,
             7,
             8,
             9,
             10,
             11,
             12,
             13,
             14,
             15
            ],
            "coloraxis": "coloraxis",
            "symbol": "circle"
           },
           "mode": "markers",
           "name": "",
           "orientation": "v",
           "showlegend": false,
           "type": "scatter",
           "x": [
            140,
            154,
            55,
            59,
            153,
            51,
            47,
            60,
            95,
            56,
            168,
            49,
            154,
            147,
            158
           ],
           "xaxis": "x",
           "y": [
            13,
            19,
            56,
            48,
            148,
            60,
            64,
            63,
            189,
            63,
            156,
            53,
            135,
            158,
            165
           ],
           "yaxis": "y"
          }
         ],
         "name": "124"
        },
        {
         "data": [
          {
           "hovertemplate": "time=125<br>x=%{x}<br>y=%{y}<br>bird=%{marker.color}<extra></extra>",
           "legendgroup": "",
           "marker": {
            "color": [
             1,
             2,
             3,
             4,
             5,
             6,
             7,
             8,
             9,
             10,
             11,
             12,
             13,
             14,
             15
            ],
            "coloraxis": "coloraxis",
            "symbol": "circle"
           },
           "mode": "markers",
           "name": "",
           "orientation": "v",
           "showlegend": false,
           "type": "scatter",
           "x": [
            133,
            154,
            52,
            58,
            155,
            54,
            47,
            60,
            89,
            56,
            169,
            50,
            154,
            147,
            159
           ],
           "xaxis": "x",
           "y": [
            10,
            20,
            56,
            48,
            145,
            61,
            64,
            63,
            187,
            62,
            157,
            53,
            134,
            159,
            165
           ],
           "yaxis": "y"
          }
         ],
         "name": "125"
        },
        {
         "data": [
          {
           "hovertemplate": "time=126<br>x=%{x}<br>y=%{y}<br>bird=%{marker.color}<extra></extra>",
           "legendgroup": "",
           "marker": {
            "color": [
             1,
             2,
             3,
             4,
             5,
             6,
             7,
             8,
             9,
             10,
             11,
             12,
             13,
             14,
             15
            ],
            "coloraxis": "coloraxis",
            "symbol": "circle"
           },
           "mode": "markers",
           "name": "",
           "orientation": "v",
           "showlegend": false,
           "type": "scatter",
           "x": [
            133,
            150,
            51,
            57,
            152,
            54,
            46,
            61,
            78,
            57,
            170,
            50,
            157,
            146,
            166
           ],
           "xaxis": "x",
           "y": [
            11,
            17,
            57,
            48,
            145,
            60,
            65,
            60,
            185,
            62,
            158,
            52,
            133,
            161,
            162
           ],
           "yaxis": "y"
          }
         ],
         "name": "126"
        },
        {
         "data": [
          {
           "hovertemplate": "time=127<br>x=%{x}<br>y=%{y}<br>bird=%{marker.color}<extra></extra>",
           "legendgroup": "",
           "marker": {
            "color": [
             1,
             2,
             3,
             4,
             5,
             6,
             7,
             8,
             9,
             10,
             11,
             12,
             13,
             14,
             15
            ],
            "coloraxis": "coloraxis",
            "symbol": "circle"
           },
           "mode": "markers",
           "name": "",
           "orientation": "v",
           "showlegend": false,
           "type": "scatter",
           "x": [
            127,
            139,
            55,
            57,
            153,
            52,
            47,
            61,
            71,
            58,
            173,
            50,
            159,
            147,
            168
           ],
           "xaxis": "x",
           "y": [
            9,
            12,
            56,
            47,
            145,
            61,
            61,
            60,
            183,
            62,
            157,
            54,
            134,
            159,
            161
           ],
           "yaxis": "y"
          }
         ],
         "name": "127"
        },
        {
         "data": [
          {
           "hovertemplate": "time=128<br>x=%{x}<br>y=%{y}<br>bird=%{marker.color}<extra></extra>",
           "legendgroup": "",
           "marker": {
            "color": [
             1,
             2,
             3,
             4,
             5,
             6,
             7,
             8,
             9,
             10,
             11,
             12,
             13,
             14,
             15
            ],
            "coloraxis": "coloraxis",
            "symbol": "circle"
           },
           "mode": "markers",
           "name": "",
           "orientation": "v",
           "showlegend": false,
           "type": "scatter",
           "x": [
            117,
            127,
            60,
            57,
            156,
            54,
            49,
            61,
            63,
            58,
            177,
            49,
            160,
            137,
            170
           ],
           "xaxis": "x",
           "y": [
            7,
            9,
            55,
            47,
            145,
            61,
            60,
            60,
            179,
            62,
            152,
            54,
            137,
            156,
            160
           ],
           "yaxis": "y"
          }
         ],
         "name": "128"
        },
        {
         "data": [
          {
           "hovertemplate": "time=129<br>x=%{x}<br>y=%{y}<br>bird=%{marker.color}<extra></extra>",
           "legendgroup": "",
           "marker": {
            "color": [
             1,
             2,
             3,
             4,
             5,
             6,
             7,
             8,
             9,
             10,
             11,
             12,
             13,
             14,
             15
            ],
            "coloraxis": "coloraxis",
            "symbol": "circle"
           },
           "mode": "markers",
           "name": "",
           "orientation": "v",
           "showlegend": false,
           "type": "scatter",
           "x": [
            108,
            120,
            60,
            58,
            159,
            56,
            49,
            61,
            60,
            57,
            177,
            50,
            161,
            132,
            174
           ],
           "xaxis": "x",
           "y": [
            7,
            9,
            55,
            46,
            145,
            61,
            59,
            62,
            177,
            63,
            149,
            53,
            138,
            153,
            156
           ],
           "yaxis": "y"
          }
         ],
         "name": "129"
        },
        {
         "data": [
          {
           "hovertemplate": "time=130<br>x=%{x}<br>y=%{y}<br>bird=%{marker.color}<extra></extra>",
           "legendgroup": "",
           "marker": {
            "color": [
             1,
             2,
             3,
             4,
             5,
             6,
             7,
             8,
             9,
             10,
             11,
             12,
             13,
             14,
             15
            ],
            "coloraxis": "coloraxis",
            "symbol": "circle"
           },
           "mode": "markers",
           "name": "",
           "orientation": "v",
           "showlegend": false,
           "type": "scatter",
           "x": [
            100,
            110,
            60,
            57,
            159,
            55,
            48,
            61,
            55,
            55,
            179,
            50,
            160,
            132,
            177
           ],
           "xaxis": "x",
           "y": [
            7,
            9,
            54,
            46,
            146,
            61,
            59,
            61,
            173,
            64,
            141,
            53,
            138,
            153,
            151
           ],
           "yaxis": "y"
          }
         ],
         "name": "130"
        },
        {
         "data": [
          {
           "hovertemplate": "time=131<br>x=%{x}<br>y=%{y}<br>bird=%{marker.color}<extra></extra>",
           "legendgroup": "",
           "marker": {
            "color": [
             1,
             2,
             3,
             4,
             5,
             6,
             7,
             8,
             9,
             10,
             11,
             12,
             13,
             14,
             15
            ],
            "coloraxis": "coloraxis",
            "symbol": "circle"
           },
           "mode": "markers",
           "name": "",
           "orientation": "v",
           "showlegend": false,
           "type": "scatter",
           "x": [
            94,
            89,
            58,
            56,
            159,
            55,
            50,
            61,
            45,
            55,
            181,
            53,
            160,
            131,
            178
           ],
           "xaxis": "x",
           "y": [
            6,
            14,
            53,
            46,
            145,
            59,
            59,
            61,
            166,
            62,
            136,
            56,
            138,
            153,
            144
           ],
           "yaxis": "y"
          }
         ],
         "name": "131"
        },
        {
         "data": [
          {
           "hovertemplate": "time=132<br>x=%{x}<br>y=%{y}<br>bird=%{marker.color}<extra></extra>",
           "legendgroup": "",
           "marker": {
            "color": [
             1,
             2,
             3,
             4,
             5,
             6,
             7,
             8,
             9,
             10,
             11,
             12,
             13,
             14,
             15
            ],
            "coloraxis": "coloraxis",
            "symbol": "circle"
           },
           "mode": "markers",
           "name": "",
           "orientation": "v",
           "showlegend": false,
           "type": "scatter",
           "x": [
            91,
            69,
            59,
            56,
            163,
            57,
            50,
            62,
            38,
            55,
            180,
            52,
            160,
            131,
            180
           ],
           "xaxis": "x",
           "y": [
            8,
            18,
            52,
            45,
            143,
            59,
            59,
            61,
            159,
            62,
            135,
            55,
            138,
            153,
            141
           ],
           "yaxis": "y"
          }
         ],
         "name": "132"
        },
        {
         "data": [
          {
           "hovertemplate": "time=133<br>x=%{x}<br>y=%{y}<br>bird=%{marker.color}<extra></extra>",
           "legendgroup": "",
           "marker": {
            "color": [
             1,
             2,
             3,
             4,
             5,
             6,
             7,
             8,
             9,
             10,
             11,
             12,
             13,
             14,
             15
            ],
            "coloraxis": "coloraxis",
            "symbol": "circle"
           },
           "mode": "markers",
           "name": "",
           "orientation": "v",
           "showlegend": false,
           "type": "scatter",
           "x": [
            85,
            60,
            60,
            53,
            161,
            58,
            50,
            61,
            29,
            56,
            177,
            53,
            160,
            131,
            180
           ],
           "xaxis": "x",
           "y": [
            9,
            21,
            52,
            49,
            133,
            56,
            59,
            62,
            148,
            63,
            129,
            57,
            139,
            153,
            136
           ],
           "yaxis": "y"
          }
         ],
         "name": "133"
        },
        {
         "data": [
          {
           "hovertemplate": "time=134<br>x=%{x}<br>y=%{y}<br>bird=%{marker.color}<extra></extra>",
           "legendgroup": "",
           "marker": {
            "color": [
             1,
             2,
             3,
             4,
             5,
             6,
             7,
             8,
             9,
             10,
             11,
             12,
             13,
             14,
             15
            ],
            "coloraxis": "coloraxis",
            "symbol": "circle"
           },
           "mode": "markers",
           "name": "",
           "orientation": "v",
           "showlegend": false,
           "type": "scatter",
           "x": [
            82,
            59,
            62,
            54,
            158,
            57,
            51,
            62,
            24,
            56,
            171,
            54,
            160,
            131,
            179
           ],
           "xaxis": "x",
           "y": [
            10,
            22,
            53,
            49,
            129,
            57,
            59,
            61,
            140,
            62,
            125,
            57,
            141,
            153,
            131
           ],
           "yaxis": "y"
          }
         ],
         "name": "134"
        },
        {
         "data": [
          {
           "hovertemplate": "time=135<br>x=%{x}<br>y=%{y}<br>bird=%{marker.color}<extra></extra>",
           "legendgroup": "",
           "marker": {
            "color": [
             1,
             2,
             3,
             4,
             5,
             6,
             7,
             8,
             9,
             10,
             11,
             12,
             13,
             14,
             15
            ],
            "coloraxis": "coloraxis",
            "symbol": "circle"
           },
           "mode": "markers",
           "name": "",
           "orientation": "v",
           "showlegend": false,
           "type": "scatter",
           "x": [
            70,
            59,
            62,
            54,
            155,
            57,
            51,
            62,
            21,
            57,
            161,
            54,
            161,
            123,
            174
           ],
           "xaxis": "x",
           "y": [
            14,
            22,
            52,
            48,
            133,
            57,
            60,
            61,
            132,
            62,
            123,
            57,
            141,
            145,
            126
           ],
           "yaxis": "y"
          }
         ],
         "name": "135"
        },
        {
         "data": [
          {
           "hovertemplate": "time=136<br>x=%{x}<br>y=%{y}<br>bird=%{marker.color}<extra></extra>",
           "legendgroup": "",
           "marker": {
            "color": [
             1,
             2,
             3,
             4,
             5,
             6,
             7,
             8,
             9,
             10,
             11,
             12,
             13,
             14,
             15
            ],
            "coloraxis": "coloraxis",
            "symbol": "circle"
           },
           "mode": "markers",
           "name": "",
           "orientation": "v",
           "showlegend": false,
           "type": "scatter",
           "x": [
            63,
            59,
            62,
            54,
            148,
            57,
            50,
            62,
            17,
            55,
            152,
            53,
            162,
            108,
            169
           ],
           "xaxis": "x",
           "y": [
            16,
            22,
            52,
            47,
            135,
            56,
            60,
            61,
            122,
            61,
            123,
            56,
            142,
            138,
            122
           ],
           "yaxis": "y"
          }
         ],
         "name": "136"
        },
        {
         "data": [
          {
           "hovertemplate": "time=137<br>x=%{x}<br>y=%{y}<br>bird=%{marker.color}<extra></extra>",
           "legendgroup": "",
           "marker": {
            "color": [
             1,
             2,
             3,
             4,
             5,
             6,
             7,
             8,
             9,
             10,
             11,
             12,
             13,
             14,
             15
            ],
            "coloraxis": "coloraxis",
            "symbol": "circle"
           },
           "mode": "markers",
           "name": "",
           "orientation": "v",
           "showlegend": false,
           "type": "scatter",
           "x": [
            61,
            54,
            61,
            53,
            144,
            63,
            48,
            62,
            16,
            55,
            142,
            53,
            161,
            107,
            167
           ],
           "xaxis": "x",
           "y": [
            18,
            23,
            51,
            47,
            127,
            56,
            61,
            64,
            114,
            61,
            121,
            55,
            140,
            138,
            122
           ],
           "yaxis": "y"
          }
         ],
         "name": "137"
        },
        {
         "data": [
          {
           "hovertemplate": "time=138<br>x=%{x}<br>y=%{y}<br>bird=%{marker.color}<extra></extra>",
           "legendgroup": "",
           "marker": {
            "color": [
             1,
             2,
             3,
             4,
             5,
             6,
             7,
             8,
             9,
             10,
             11,
             12,
             13,
             14,
             15
            ],
            "coloraxis": "coloraxis",
            "symbol": "circle"
           },
           "mode": "markers",
           "name": "",
           "orientation": "v",
           "showlegend": false,
           "type": "scatter",
           "x": [
            57,
            43,
            62,
            53,
            143,
            65,
            47,
            62,
            14,
            56,
            137,
            53,
            161,
            107,
            162
           ],
           "xaxis": "x",
           "y": [
            20,
            31,
            51,
            48,
            127,
            54,
            62,
            64,
            104,
            61,
            120,
            55,
            143,
            138,
            120
           ],
           "yaxis": "y"
          }
         ],
         "name": "138"
        },
        {
         "data": [
          {
           "hovertemplate": "time=139<br>x=%{x}<br>y=%{y}<br>bird=%{marker.color}<extra></extra>",
           "legendgroup": "",
           "marker": {
            "color": [
             1,
             2,
             3,
             4,
             5,
             6,
             7,
             8,
             9,
             10,
             11,
             12,
             13,
             14,
             15
            ],
            "coloraxis": "coloraxis",
            "symbol": "circle"
           },
           "mode": "markers",
           "name": "",
           "orientation": "v",
           "showlegend": false,
           "type": "scatter",
           "x": [
            48,
            31,
            62,
            53,
            135,
            64,
            46,
            62,
            14,
            54,
            134,
            54,
            161,
            107,
            157
           ],
           "xaxis": "x",
           "y": [
            25,
            45,
            50,
            48,
            114,
            45,
            59,
            64,
            93,
            60,
            119,
            55,
            144,
            137,
            119
           ],
           "yaxis": "y"
          }
         ],
         "name": "139"
        },
        {
         "data": [
          {
           "hovertemplate": "time=140<br>x=%{x}<br>y=%{y}<br>bird=%{marker.color}<extra></extra>",
           "legendgroup": "",
           "marker": {
            "color": [
             1,
             2,
             3,
             4,
             5,
             6,
             7,
             8,
             9,
             10,
             11,
             12,
             13,
             14,
             15
            ],
            "coloraxis": "coloraxis",
            "symbol": "circle"
           },
           "mode": "markers",
           "name": "",
           "orientation": "v",
           "showlegend": false,
           "type": "scatter",
           "x": [
            39,
            22,
            62,
            52,
            134,
            60,
            46,
            62,
            15,
            53,
            125,
            57,
            160,
            107,
            157
           ],
           "xaxis": "x",
           "y": [
            34,
            60,
            49,
            48,
            113,
            43,
            60,
            61,
            83,
            60,
            117,
            53,
            144,
            137,
            119
           ],
           "yaxis": "y"
          }
         ],
         "name": "140"
        },
        {
         "data": [
          {
           "hovertemplate": "time=141<br>x=%{x}<br>y=%{y}<br>bird=%{marker.color}<extra></extra>",
           "legendgroup": "",
           "marker": {
            "color": [
             1,
             2,
             3,
             4,
             5,
             6,
             7,
             8,
             9,
             10,
             11,
             12,
             13,
             14,
             15
            ],
            "coloraxis": "coloraxis",
            "symbol": "circle"
           },
           "mode": "markers",
           "name": "",
           "orientation": "v",
           "showlegend": false,
           "type": "scatter",
           "x": [
            33,
            19,
            62,
            52,
            132,
            60,
            47,
            62,
            16,
            54,
            114,
            59,
            160,
            107,
            150
           ],
           "xaxis": "x",
           "y": [
            46,
            67,
            48,
            49,
            112,
            43,
            59,
            62,
            78,
            62,
            115,
            52,
            144,
            137,
            117
           ],
           "yaxis": "y"
          }
         ],
         "name": "141"
        },
        {
         "data": [
          {
           "hovertemplate": "time=142<br>x=%{x}<br>y=%{y}<br>bird=%{marker.color}<extra></extra>",
           "legendgroup": "",
           "marker": {
            "color": [
             1,
             2,
             3,
             4,
             5,
             6,
             7,
             8,
             9,
             10,
             11,
             12,
             13,
             14,
             15
            ],
            "coloraxis": "coloraxis",
            "symbol": "circle"
           },
           "mode": "markers",
           "name": "",
           "orientation": "v",
           "showlegend": false,
           "type": "scatter",
           "x": [
            28,
            18,
            61,
            51,
            123,
            60,
            46,
            61,
            15,
            53,
            105,
            60,
            160,
            107,
            141
           ],
           "xaxis": "x",
           "y": [
            57,
            67,
            47,
            48,
            109,
            43,
            56,
            62,
            80,
            60,
            114,
            52,
            145,
            137,
            114
           ],
           "yaxis": "y"
          }
         ],
         "name": "142"
        },
        {
         "data": [
          {
           "hovertemplate": "time=143<br>x=%{x}<br>y=%{y}<br>bird=%{marker.color}<extra></extra>",
           "legendgroup": "",
           "marker": {
            "color": [
             1,
             2,
             3,
             4,
             5,
             6,
             7,
             8,
             9,
             10,
             11,
             12,
             13,
             14,
             15
            ],
            "coloraxis": "coloraxis",
            "symbol": "circle"
           },
           "mode": "markers",
           "name": "",
           "orientation": "v",
           "showlegend": false,
           "type": "scatter",
           "x": [
            25,
            17,
            60,
            50,
            107,
            60,
            46,
            61,
            17,
            53,
            96,
            61,
            160,
            107,
            133
           ],
           "xaxis": "x",
           "y": [
            64,
            69,
            46,
            49,
            115,
            43,
            56,
            62,
            79,
            60,
            118,
            50,
            145,
            137,
            111
           ],
           "yaxis": "y"
          }
         ],
         "name": "143"
        },
        {
         "data": [
          {
           "hovertemplate": "time=144<br>x=%{x}<br>y=%{y}<br>bird=%{marker.color}<extra></extra>",
           "legendgroup": "",
           "marker": {
            "color": [
             1,
             2,
             3,
             4,
             5,
             6,
             7,
             8,
             9,
             10,
             11,
             12,
             13,
             14,
             15
            ],
            "coloraxis": "coloraxis",
            "symbol": "circle"
           },
           "mode": "markers",
           "name": "",
           "orientation": "v",
           "showlegend": false,
           "type": "scatter",
           "x": [
            25,
            17,
            59,
            50,
            102,
            60,
            46,
            60,
            17,
            53,
            85,
            61,
            158,
            107,
            123
           ],
           "xaxis": "x",
           "y": [
            64,
            70,
            46,
            50,
            116,
            43,
            56,
            63,
            80,
            60,
            124,
            50,
            146,
            137,
            110
           ],
           "yaxis": "y"
          }
         ],
         "name": "144"
        },
        {
         "data": [
          {
           "hovertemplate": "time=145<br>x=%{x}<br>y=%{y}<br>bird=%{marker.color}<extra></extra>",
           "legendgroup": "",
           "marker": {
            "color": [
             1,
             2,
             3,
             4,
             5,
             6,
             7,
             8,
             9,
             10,
             11,
             12,
             13,
             14,
             15
            ],
            "coloraxis": "coloraxis",
            "symbol": "circle"
           },
           "mode": "markers",
           "name": "",
           "orientation": "v",
           "showlegend": false,
           "type": "scatter",
           "x": [
            25,
            17,
            57,
            50,
            95,
            58,
            46,
            61,
            15,
            54,
            74,
            62,
            158,
            107,
            114
           ],
           "xaxis": "x",
           "y": [
            64,
            71,
            49,
            52,
            122,
            42,
            56,
            63,
            81,
            61,
            130,
            50,
            149,
            137,
            109
           ],
           "yaxis": "y"
          }
         ],
         "name": "145"
        },
        {
         "data": [
          {
           "hovertemplate": "time=146<br>x=%{x}<br>y=%{y}<br>bird=%{marker.color}<extra></extra>",
           "legendgroup": "",
           "marker": {
            "color": [
             1,
             2,
             3,
             4,
             5,
             6,
             7,
             8,
             9,
             10,
             11,
             12,
             13,
             14,
             15
            ],
            "coloraxis": "coloraxis",
            "symbol": "circle"
           },
           "mode": "markers",
           "name": "",
           "orientation": "v",
           "showlegend": false,
           "type": "scatter",
           "x": [
            25,
            16,
            56,
            47,
            95,
            51,
            46,
            60,
            17,
            55,
            61,
            62,
            158,
            107,
            111
           ],
           "xaxis": "x",
           "y": [
            64,
            71,
            49,
            51,
            122,
            44,
            56,
            60,
            82,
            61,
            137,
            50,
            149,
            137,
            109
           ],
           "yaxis": "y"
          }
         ],
         "name": "146"
        },
        {
         "data": [
          {
           "hovertemplate": "time=147<br>x=%{x}<br>y=%{y}<br>bird=%{marker.color}<extra></extra>",
           "legendgroup": "",
           "marker": {
            "color": [
             1,
             2,
             3,
             4,
             5,
             6,
             7,
             8,
             9,
             10,
             11,
             12,
             13,
             14,
             15
            ],
            "coloraxis": "coloraxis",
            "symbol": "circle"
           },
           "mode": "markers",
           "name": "",
           "orientation": "v",
           "showlegend": false,
           "type": "scatter",
           "x": [
            24,
            19,
            56,
            50,
            95,
            48,
            49,
            60,
            26,
            53,
            44,
            62,
            157,
            104,
            111
           ],
           "xaxis": "x",
           "y": [
            68,
            77,
            50,
            52,
            122,
            47,
            57,
            61,
            81,
            62,
            148,
            54,
            148,
            136,
            109
           ],
           "yaxis": "y"
          }
         ],
         "name": "147"
        },
        {
         "data": [
          {
           "hovertemplate": "time=148<br>x=%{x}<br>y=%{y}<br>bird=%{marker.color}<extra></extra>",
           "legendgroup": "",
           "marker": {
            "color": [
             1,
             2,
             3,
             4,
             5,
             6,
             7,
             8,
             9,
             10,
             11,
             12,
             13,
             14,
             15
            ],
            "coloraxis": "coloraxis",
            "symbol": "circle"
           },
           "mode": "markers",
           "name": "",
           "orientation": "v",
           "showlegend": false,
           "type": "scatter",
           "x": [
            22,
            30,
            56,
            50,
            95,
            46,
            49,
            61,
            31,
            53,
            36,
            62,
            157,
            104,
            111
           ],
           "xaxis": "x",
           "y": [
            72,
            92,
            52,
            52,
            122,
            48,
            57,
            61,
            75,
            61,
            152,
            54,
            149,
            136,
            109
           ],
           "yaxis": "y"
          }
         ],
         "name": "148"
        },
        {
         "data": [
          {
           "hovertemplate": "time=149<br>x=%{x}<br>y=%{y}<br>bird=%{marker.color}<extra></extra>",
           "legendgroup": "",
           "marker": {
            "color": [
             1,
             2,
             3,
             4,
             5,
             6,
             7,
             8,
             9,
             10,
             11,
             12,
             13,
             14,
             15
            ],
            "coloraxis": "coloraxis",
            "symbol": "circle"
           },
           "mode": "markers",
           "name": "",
           "orientation": "v",
           "showlegend": false,
           "type": "scatter",
           "x": [
            23,
            43,
            56,
            51,
            95,
            43,
            49,
            61,
            31,
            54,
            36,
            62,
            156,
            93,
            107
           ],
           "xaxis": "x",
           "y": [
            82,
            106,
            54,
            52,
            122,
            51,
            57,
            61,
            74,
            62,
            152,
            54,
            148,
            139,
            111
           ],
           "yaxis": "y"
          }
         ],
         "name": "149"
        },
        {
         "data": [
          {
           "hovertemplate": "time=150<br>x=%{x}<br>y=%{y}<br>bird=%{marker.color}<extra></extra>",
           "legendgroup": "",
           "marker": {
            "color": [
             1,
             2,
             3,
             4,
             5,
             6,
             7,
             8,
             9,
             10,
             11,
             12,
             13,
             14,
             15
            ],
            "coloraxis": "coloraxis",
            "symbol": "circle"
           },
           "mode": "markers",
           "name": "",
           "orientation": "v",
           "showlegend": false,
           "type": "scatter",
           "x": [
            27,
            43,
            56,
            51,
            93,
            40,
            49,
            61,
            31,
            54,
            36,
            61,
            155,
            72,
            96
           ],
           "xaxis": "x",
           "y": [
            94,
            106,
            55,
            54,
            123,
            59,
            57,
            63,
            74,
            62,
            154,
            56,
            149,
            139,
            116
           ],
           "yaxis": "y"
          }
         ],
         "name": "150"
        },
        {
         "data": [
          {
           "hovertemplate": "time=151<br>x=%{x}<br>y=%{y}<br>bird=%{marker.color}<extra></extra>",
           "legendgroup": "",
           "marker": {
            "color": [
             1,
             2,
             3,
             4,
             5,
             6,
             7,
             8,
             9,
             10,
             11,
             12,
             13,
             14,
             15
            ],
            "coloraxis": "coloraxis",
            "symbol": "circle"
           },
           "mode": "markers",
           "name": "",
           "orientation": "v",
           "showlegend": false,
           "type": "scatter",
           "x": [
            31,
            43,
            56,
            51,
            79,
            39,
            50,
            61,
            31,
            54,
            37,
            61,
            155,
            50,
            94
           ],
           "xaxis": "x",
           "y": [
            106,
            106,
            55,
            54,
            106,
            68,
            58,
            62,
            74,
            62,
            156,
            55,
            148,
            142,
            117
           ],
           "yaxis": "y"
          }
         ],
         "name": "151"
        },
        {
         "data": [
          {
           "hovertemplate": "time=152<br>x=%{x}<br>y=%{y}<br>bird=%{marker.color}<extra></extra>",
           "legendgroup": "",
           "marker": {
            "color": [
             1,
             2,
             3,
             4,
             5,
             6,
             7,
             8,
             9,
             10,
             11,
             12,
             13,
             14,
             15
            ],
            "coloraxis": "coloraxis",
            "symbol": "circle"
           },
           "mode": "markers",
           "name": "",
           "orientation": "v",
           "showlegend": false,
           "type": "scatter",
           "x": [
            33,
            43,
            56,
            50,
            68,
            38,
            49,
            61,
            31,
            54,
            41,
            63,
            154,
            39,
            89
           ],
           "xaxis": "x",
           "y": [
            114,
            106,
            57,
            56,
            77,
            76,
            59,
            62,
            74,
            63,
            159,
            54,
            148,
            151,
            120
           ],
           "yaxis": "y"
          }
         ],
         "name": "152"
        },
        {
         "data": [
          {
           "hovertemplate": "time=153<br>x=%{x}<br>y=%{y}<br>bird=%{marker.color}<extra></extra>",
           "legendgroup": "",
           "marker": {
            "color": [
             1,
             2,
             3,
             4,
             5,
             6,
             7,
             8,
             9,
             10,
             11,
             12,
             13,
             14,
             15
            ],
            "coloraxis": "coloraxis",
            "symbol": "circle"
           },
           "mode": "markers",
           "name": "",
           "orientation": "v",
           "showlegend": false,
           "type": "scatter",
           "x": [
            40,
            42,
            57,
            50,
            64,
            38,
            51,
            61,
            31,
            56,
            49,
            62,
            153,
            41,
            79
           ],
           "xaxis": "x",
           "y": [
            126,
            107,
            57,
            53,
            68,
            76,
            58,
            62,
            74,
            63,
            160,
            52,
            149,
            157,
            126
           ],
           "yaxis": "y"
          }
         ],
         "name": "153"
        },
        {
         "data": [
          {
           "hovertemplate": "time=154<br>x=%{x}<br>y=%{y}<br>bird=%{marker.color}<extra></extra>",
           "legendgroup": "",
           "marker": {
            "color": [
             1,
             2,
             3,
             4,
             5,
             6,
             7,
             8,
             9,
             10,
             11,
             12,
             13,
             14,
             15
            ],
            "coloraxis": "coloraxis",
            "symbol": "circle"
           },
           "mode": "markers",
           "name": "",
           "orientation": "v",
           "showlegend": false,
           "type": "scatter",
           "x": [
            45,
            43,
            56,
            51,
            64,
            39,
            51,
            61,
            36,
            55,
            51,
            62,
            153,
            43,
            70
           ],
           "xaxis": "x",
           "y": [
            134,
            107,
            61,
            53,
            68,
            78,
            58,
            61,
            72,
            66,
            159,
            52,
            150,
            158,
            130
           ],
           "yaxis": "y"
          }
         ],
         "name": "154"
        },
        {
         "data": [
          {
           "hovertemplate": "time=155<br>x=%{x}<br>y=%{y}<br>bird=%{marker.color}<extra></extra>",
           "legendgroup": "",
           "marker": {
            "color": [
             1,
             2,
             3,
             4,
             5,
             6,
             7,
             8,
             9,
             10,
             11,
             12,
             13,
             14,
             15
            ],
            "coloraxis": "coloraxis",
            "symbol": "circle"
           },
           "mode": "markers",
           "name": "",
           "orientation": "v",
           "showlegend": false,
           "type": "scatter",
           "x": [
            46,
            43,
            56,
            50,
            61,
            40,
            51,
            60,
            37,
            55,
            56,
            61,
            153,
            44,
            62
           ],
           "xaxis": "x",
           "y": [
            136,
            107,
            61,
            53,
            67,
            81,
            59,
            60,
            72,
            67,
            158,
            51,
            150,
            158,
            134
           ],
           "yaxis": "y"
          }
         ],
         "name": "155"
        },
        {
         "data": [
          {
           "hovertemplate": "time=156<br>x=%{x}<br>y=%{y}<br>bird=%{marker.color}<extra></extra>",
           "legendgroup": "",
           "marker": {
            "color": [
             1,
             2,
             3,
             4,
             5,
             6,
             7,
             8,
             9,
             10,
             11,
             12,
             13,
             14,
             15
            ],
            "coloraxis": "coloraxis",
            "symbol": "circle"
           },
           "mode": "markers",
           "name": "",
           "orientation": "v",
           "showlegend": false,
           "type": "scatter",
           "x": [
            46,
            43,
            56,
            50,
            59,
            46,
            51,
            60,
            44,
            54,
            56,
            61,
            152,
            44,
            56
           ],
           "xaxis": "x",
           "y": [
            136,
            107,
            58,
            56,
            65,
            82,
            59,
            60,
            71,
            63,
            158,
            51,
            150,
            158,
            137
           ],
           "yaxis": "y"
          }
         ],
         "name": "156"
        },
        {
         "data": [
          {
           "hovertemplate": "time=157<br>x=%{x}<br>y=%{y}<br>bird=%{marker.color}<extra></extra>",
           "legendgroup": "",
           "marker": {
            "color": [
             1,
             2,
             3,
             4,
             5,
             6,
             7,
             8,
             9,
             10,
             11,
             12,
             13,
             14,
             15
            ],
            "coloraxis": "coloraxis",
            "symbol": "circle"
           },
           "mode": "markers",
           "name": "",
           "orientation": "v",
           "showlegend": false,
           "type": "scatter",
           "x": [
            49,
            43,
            57,
            50,
            59,
            48,
            50,
            60,
            48,
            54,
            56,
            57,
            151,
            44,
            52
           ],
           "xaxis": "x",
           "y": [
            144,
            107,
            55,
            55,
            64,
            81,
            58,
            60,
            69,
            63,
            158,
            49,
            149,
            158,
            138
           ],
           "yaxis": "y"
          }
         ],
         "name": "157"
        },
        {
         "data": [
          {
           "hovertemplate": "time=158<br>x=%{x}<br>y=%{y}<br>bird=%{marker.color}<extra></extra>",
           "legendgroup": "",
           "marker": {
            "color": [
             1,
             2,
             3,
             4,
             5,
             6,
             7,
             8,
             9,
             10,
             11,
             12,
             13,
             14,
             15
            ],
            "coloraxis": "coloraxis",
            "symbol": "circle"
           },
           "mode": "markers",
           "name": "",
           "orientation": "v",
           "showlegend": false,
           "type": "scatter",
           "x": [
            50,
            42,
            56,
            50,
            60,
            50,
            51,
            62,
            51,
            56,
            63,
            56,
            149,
            44,
            47
           ],
           "xaxis": "x",
           "y": [
            153,
            111,
            54,
            55,
            66,
            80,
            59,
            60,
            63,
            63,
            160,
            48,
            147,
            162,
            140
           ],
           "yaxis": "y"
          }
         ],
         "name": "158"
        },
        {
         "data": [
          {
           "hovertemplate": "time=159<br>x=%{x}<br>y=%{y}<br>bird=%{marker.color}<extra></extra>",
           "legendgroup": "",
           "marker": {
            "color": [
             1,
             2,
             3,
             4,
             5,
             6,
             7,
             8,
             9,
             10,
             11,
             12,
             13,
             14,
             15
            ],
            "coloraxis": "coloraxis",
            "symbol": "circle"
           },
           "mode": "markers",
           "name": "",
           "orientation": "v",
           "showlegend": false,
           "type": "scatter",
           "x": [
            49,
            43,
            58,
            51,
            61,
            50,
            52,
            62,
            52,
            55,
            73,
            55,
            150,
            47,
            43
           ],
           "xaxis": "x",
           "y": [
            156,
            123,
            53,
            54,
            67,
            80,
            58,
            59,
            63,
            63,
            171,
            48,
            146,
            168,
            144
           ],
           "yaxis": "y"
          }
         ],
         "name": "159"
        },
        {
         "data": [
          {
           "hovertemplate": "time=160<br>x=%{x}<br>y=%{y}<br>bird=%{marker.color}<extra></extra>",
           "legendgroup": "",
           "marker": {
            "color": [
             1,
             2,
             3,
             4,
             5,
             6,
             7,
             8,
             9,
             10,
             11,
             12,
             13,
             14,
             15
            ],
            "coloraxis": "coloraxis",
            "symbol": "circle"
           },
           "mode": "markers",
           "name": "",
           "orientation": "v",
           "showlegend": false,
           "type": "scatter",
           "x": [
            53,
            42,
            59,
            49,
            60,
            51,
            52,
            62,
            52,
            56,
            77,
            53,
            150,
            51,
            42
           ],
           "xaxis": "x",
           "y": [
            159,
            139,
            52,
            52,
            64,
            79,
            58,
            59,
            63,
            62,
            185,
            49,
            147,
            172,
            149
           ],
           "yaxis": "y"
          }
         ],
         "name": "160"
        },
        {
         "data": [
          {
           "hovertemplate": "time=161<br>x=%{x}<br>y=%{y}<br>bird=%{marker.color}<extra></extra>",
           "legendgroup": "",
           "marker": {
            "color": [
             1,
             2,
             3,
             4,
             5,
             6,
             7,
             8,
             9,
             10,
             11,
             12,
             13,
             14,
             15
            ],
            "coloraxis": "coloraxis",
            "symbol": "circle"
           },
           "mode": "markers",
           "name": "",
           "orientation": "v",
           "showlegend": false,
           "type": "scatter",
           "x": [
            53,
            39,
            60,
            49,
            60,
            51,
            52,
            63,
            52,
            58,
            80,
            54,
            151,
            55,
            42
           ],
           "xaxis": "x",
           "y": [
            159,
            149,
            52,
            52,
            64,
            79,
            59,
            59,
            62,
            60,
            186,
            49,
            145,
            174,
            156
           ],
           "yaxis": "y"
          }
         ],
         "name": "161"
        },
        {
         "data": [
          {
           "hovertemplate": "time=162<br>x=%{x}<br>y=%{y}<br>bird=%{marker.color}<extra></extra>",
           "legendgroup": "",
           "marker": {
            "color": [
             1,
             2,
             3,
             4,
             5,
             6,
             7,
             8,
             9,
             10,
             11,
             12,
             13,
             14,
             15
            ],
            "coloraxis": "coloraxis",
            "symbol": "circle"
           },
           "mode": "markers",
           "name": "",
           "orientation": "v",
           "showlegend": false,
           "type": "scatter",
           "x": [
            53,
            37,
            61,
            50,
            60,
            55,
            52,
            63,
            50,
            59,
            83,
            54,
            151,
            56,
            46
           ],
           "xaxis": "x",
           "y": [
            159,
            151,
            52,
            54,
            64,
            73,
            59,
            59,
            64,
            60,
            187,
            51,
            144,
            175,
            161
           ],
           "yaxis": "y"
          }
         ],
         "name": "162"
        },
        {
         "data": [
          {
           "hovertemplate": "time=163<br>x=%{x}<br>y=%{y}<br>bird=%{marker.color}<extra></extra>",
           "legendgroup": "",
           "marker": {
            "color": [
             1,
             2,
             3,
             4,
             5,
             6,
             7,
             8,
             9,
             10,
             11,
             12,
             13,
             14,
             15
            ],
            "coloraxis": "coloraxis",
            "symbol": "circle"
           },
           "mode": "markers",
           "name": "",
           "orientation": "v",
           "showlegend": false,
           "type": "scatter",
           "x": [
            52,
            39,
            62,
            49,
            59,
            56,
            50,
            62,
            50,
            59,
            88,
            53,
            150,
            56,
            50
           ],
           "xaxis": "x",
           "y": [
            158,
            158,
            53,
            54,
            63,
            70,
            58,
            60,
            63,
            60,
            187,
            51,
            145,
            176,
            167
           ],
           "yaxis": "y"
          }
         ],
         "name": "163"
        },
        {
         "data": [
          {
           "hovertemplate": "time=164<br>x=%{x}<br>y=%{y}<br>bird=%{marker.color}<extra></extra>",
           "legendgroup": "",
           "marker": {
            "color": [
             1,
             2,
             3,
             4,
             5,
             6,
             7,
             8,
             9,
             10,
             11,
             12,
             13,
             14,
             15
            ],
            "coloraxis": "coloraxis",
            "symbol": "circle"
           },
           "mode": "markers",
           "name": "",
           "orientation": "v",
           "showlegend": false,
           "type": "scatter",
           "x": [
            52,
            44,
            62,
            48,
            59,
            56,
            49,
            62,
            50,
            58,
            93,
            53,
            151,
            57,
            52
           ],
           "xaxis": "x",
           "y": [
            158,
            165,
            52,
            52,
            63,
            68,
            57,
            60,
            63,
            60,
            187,
            52,
            145,
            175,
            169
           ],
           "yaxis": "y"
          }
         ],
         "name": "164"
        },
        {
         "data": [
          {
           "hovertemplate": "time=165<br>x=%{x}<br>y=%{y}<br>bird=%{marker.color}<extra></extra>",
           "legendgroup": "",
           "marker": {
            "color": [
             1,
             2,
             3,
             4,
             5,
             6,
             7,
             8,
             9,
             10,
             11,
             12,
             13,
             14,
             15
            ],
            "coloraxis": "coloraxis",
            "symbol": "circle"
           },
           "mode": "markers",
           "name": "",
           "orientation": "v",
           "showlegend": false,
           "type": "scatter",
           "x": [
            52,
            49,
            62,
            46,
            59,
            54,
            49,
            62,
            50,
            58,
            102,
            53,
            150,
            59,
            57
           ],
           "xaxis": "x",
           "y": [
            158,
            171,
            53,
            49,
            64,
            68,
            56,
            58,
            63,
            59,
            189,
            53,
            146,
            174,
            170
           ],
           "yaxis": "y"
          }
         ],
         "name": "165"
        },
        {
         "data": [
          {
           "hovertemplate": "time=166<br>x=%{x}<br>y=%{y}<br>bird=%{marker.color}<extra></extra>",
           "legendgroup": "",
           "marker": {
            "color": [
             1,
             2,
             3,
             4,
             5,
             6,
             7,
             8,
             9,
             10,
             11,
             12,
             13,
             14,
             15
            ],
            "coloraxis": "coloraxis",
            "symbol": "circle"
           },
           "mode": "markers",
           "name": "",
           "orientation": "v",
           "showlegend": false,
           "type": "scatter",
           "x": [
            52,
            52,
            63,
            44,
            59,
            50,
            50,
            62,
            51,
            59,
            108,
            52,
            150,
            63,
            60
           ],
           "xaxis": "x",
           "y": [
            158,
            172,
            54,
            49,
            62,
            67,
            56,
            58,
            62,
            59,
            189,
            53,
            145,
            177,
            172
           ],
           "yaxis": "y"
          }
         ],
         "name": "166"
        },
        {
         "data": [
          {
           "hovertemplate": "time=167<br>x=%{x}<br>y=%{y}<br>bird=%{marker.color}<extra></extra>",
           "legendgroup": "",
           "marker": {
            "color": [
             1,
             2,
             3,
             4,
             5,
             6,
             7,
             8,
             9,
             10,
             11,
             12,
             13,
             14,
             15
            ],
            "coloraxis": "coloraxis",
            "symbol": "circle"
           },
           "mode": "markers",
           "name": "",
           "orientation": "v",
           "showlegend": false,
           "type": "scatter",
           "x": [
            52,
            53,
            63,
            45,
            58,
            45,
            50,
            63,
            51,
            60,
            113,
            54,
            148,
            63,
            61
           ],
           "xaxis": "x",
           "y": [
            158,
            173,
            53,
            49,
            66,
            64,
            56,
            58,
            63,
            60,
            187,
            51,
            144,
            179,
            173
           ],
           "yaxis": "y"
          }
         ],
         "name": "167"
        },
        {
         "data": [
          {
           "hovertemplate": "time=168<br>x=%{x}<br>y=%{y}<br>bird=%{marker.color}<extra></extra>",
           "legendgroup": "",
           "marker": {
            "color": [
             1,
             2,
             3,
             4,
             5,
             6,
             7,
             8,
             9,
             10,
             11,
             12,
             13,
             14,
             15
            ],
            "coloraxis": "coloraxis",
            "symbol": "circle"
           },
           "mode": "markers",
           "name": "",
           "orientation": "v",
           "showlegend": false,
           "type": "scatter",
           "x": [
            52,
            54,
            62,
            45,
            57,
            44,
            49,
            63,
            52,
            59,
            121,
            55,
            149,
            62,
            62
           ],
           "xaxis": "x",
           "y": [
            158,
            173,
            53,
            49,
            66,
            62,
            57,
            59,
            63,
            60,
            182,
            51,
            144,
            178,
            172
           ],
           "yaxis": "y"
          }
         ],
         "name": "168"
        },
        {
         "data": [
          {
           "hovertemplate": "time=169<br>x=%{x}<br>y=%{y}<br>bird=%{marker.color}<extra></extra>",
           "legendgroup": "",
           "marker": {
            "color": [
             1,
             2,
             3,
             4,
             5,
             6,
             7,
             8,
             9,
             10,
             11,
             12,
             13,
             14,
             15
            ],
            "coloraxis": "coloraxis",
            "symbol": "circle"
           },
           "mode": "markers",
           "name": "",
           "orientation": "v",
           "showlegend": false,
           "type": "scatter",
           "x": [
            52,
            55,
            62,
            45,
            57,
            42,
            50,
            62,
            54,
            57,
            126,
            55,
            148,
            63,
            64
           ],
           "xaxis": "x",
           "y": [
            158,
            171,
            52,
            49,
            66,
            56,
            56,
            59,
            62,
            59,
            177,
            52,
            144,
            178,
            170
           ],
           "yaxis": "y"
          }
         ],
         "name": "169"
        },
        {
         "data": [
          {
           "hovertemplate": "time=170<br>x=%{x}<br>y=%{y}<br>bird=%{marker.color}<extra></extra>",
           "legendgroup": "",
           "marker": {
            "color": [
             1,
             2,
             3,
             4,
             5,
             6,
             7,
             8,
             9,
             10,
             11,
             12,
             13,
             14,
             15
            ],
            "coloraxis": "coloraxis",
            "symbol": "circle"
           },
           "mode": "markers",
           "name": "",
           "orientation": "v",
           "showlegend": false,
           "type": "scatter",
           "x": [
            52,
            55,
            62,
            49,
            57,
            42,
            50,
            62,
            52,
            56,
            130,
            55,
            147,
            63,
            64
           ],
           "xaxis": "x",
           "y": [
            158,
            174,
            52,
            50,
            66,
            50,
            56,
            59,
            63,
            59,
            173,
            52,
            144,
            175,
            169
           ],
           "yaxis": "y"
          }
         ],
         "name": "170"
        },
        {
         "data": [
          {
           "hovertemplate": "time=171<br>x=%{x}<br>y=%{y}<br>bird=%{marker.color}<extra></extra>",
           "legendgroup": "",
           "marker": {
            "color": [
             1,
             2,
             3,
             4,
             5,
             6,
             7,
             8,
             9,
             10,
             11,
             12,
             13,
             14,
             15
            ],
            "coloraxis": "coloraxis",
            "symbol": "circle"
           },
           "mode": "markers",
           "name": "",
           "orientation": "v",
           "showlegend": false,
           "type": "scatter",
           "x": [
            52,
            58,
            62,
            50,
            57,
            42,
            50,
            62,
            51,
            58,
            137,
            54,
            148,
            61,
            65
           ],
           "xaxis": "x",
           "y": [
            158,
            174,
            52,
            52,
            66,
            49,
            55,
            59,
            63,
            59,
            167,
            55,
            143,
            172,
            168
           ],
           "yaxis": "y"
          }
         ],
         "name": "171"
        },
        {
         "data": [
          {
           "hovertemplate": "time=172<br>x=%{x}<br>y=%{y}<br>bird=%{marker.color}<extra></extra>",
           "legendgroup": "",
           "marker": {
            "color": [
             1,
             2,
             3,
             4,
             5,
             6,
             7,
             8,
             9,
             10,
             11,
             12,
             13,
             14,
             15
            ],
            "coloraxis": "coloraxis",
            "symbol": "circle"
           },
           "mode": "markers",
           "name": "",
           "orientation": "v",
           "showlegend": false,
           "type": "scatter",
           "x": [
            53,
            70,
            62,
            50,
            57,
            44,
            50,
            62,
            51,
            59,
            144,
            51,
            147,
            52,
            66
           ],
           "xaxis": "x",
           "y": [
            158,
            178,
            52,
            51,
            66,
            46,
            55,
            60,
            63,
            59,
            160,
            59,
            141,
            165,
            167
           ],
           "yaxis": "y"
          }
         ],
         "name": "172"
        },
        {
         "data": [
          {
           "hovertemplate": "time=173<br>x=%{x}<br>y=%{y}<br>bird=%{marker.color}<extra></extra>",
           "legendgroup": "",
           "marker": {
            "color": [
             1,
             2,
             3,
             4,
             5,
             6,
             7,
             8,
             9,
             10,
             11,
             12,
             13,
             14,
             15
            ],
            "coloraxis": "coloraxis",
            "symbol": "circle"
           },
           "mode": "markers",
           "name": "",
           "orientation": "v",
           "showlegend": false,
           "type": "scatter",
           "x": [
            60,
            88,
            61,
            51,
            57,
            46,
            44,
            65,
            51,
            60,
            148,
            51,
            149,
            41,
            66
           ],
           "xaxis": "x",
           "y": [
            161,
            179,
            52,
            51,
            65,
            45,
            52,
            59,
            62,
            59,
            155,
            58,
            139,
            151,
            167
           ],
           "yaxis": "y"
          }
         ],
         "name": "173"
        },
        {
         "data": [
          {
           "hovertemplate": "time=174<br>x=%{x}<br>y=%{y}<br>bird=%{marker.color}<extra></extra>",
           "legendgroup": "",
           "marker": {
            "color": [
             1,
             2,
             3,
             4,
             5,
             6,
             7,
             8,
             9,
             10,
             11,
             12,
             13,
             14,
             15
            ],
            "coloraxis": "coloraxis",
            "symbol": "circle"
           },
           "mode": "markers",
           "name": "",
           "orientation": "v",
           "showlegend": false,
           "type": "scatter",
           "x": [
            70,
            105,
            60,
            51,
            56,
            52,
            45,
            65,
            52,
            60,
            149,
            51,
            150,
            38,
            66
           ],
           "xaxis": "x",
           "y": [
            160,
            179,
            52,
            51,
            66,
            43,
            52,
            59,
            62,
            60,
            155,
            58,
            139,
            146,
            167
           ],
           "yaxis": "y"
          }
         ],
         "name": "174"
        },
        {
         "data": [
          {
           "hovertemplate": "time=175<br>x=%{x}<br>y=%{y}<br>bird=%{marker.color}<extra></extra>",
           "legendgroup": "",
           "marker": {
            "color": [
             1,
             2,
             3,
             4,
             5,
             6,
             7,
             8,
             9,
             10,
             11,
             12,
             13,
             14,
             15
            ],
            "coloraxis": "coloraxis",
            "symbol": "circle"
           },
           "mode": "markers",
           "name": "",
           "orientation": "v",
           "showlegend": false,
           "type": "scatter",
           "x": [
            85,
            119,
            58,
            50,
            55,
            53,
            44,
            65,
            52,
            59,
            149,
            51,
            150,
            30,
            66
           ],
           "xaxis": "x",
           "y": [
            157,
            184,
            50,
            50,
            66,
            44,
            53,
            59,
            62,
            59,
            154,
            57,
            136,
            138,
            167
           ],
           "yaxis": "y"
          }
         ],
         "name": "175"
        },
        {
         "data": [
          {
           "hovertemplate": "time=176<br>x=%{x}<br>y=%{y}<br>bird=%{marker.color}<extra></extra>",
           "legendgroup": "",
           "marker": {
            "color": [
             1,
             2,
             3,
             4,
             5,
             6,
             7,
             8,
             9,
             10,
             11,
             12,
             13,
             14,
             15
            ],
            "coloraxis": "coloraxis",
            "symbol": "circle"
           },
           "mode": "markers",
           "name": "",
           "orientation": "v",
           "showlegend": false,
           "type": "scatter",
           "x": [
            92,
            121,
            58,
            50,
            55,
            54,
            44,
            66,
            53,
            61,
            149,
            51,
            151,
            30,
            66
           ],
           "xaxis": "x",
           "y": [
            154,
            184,
            51,
            50,
            65,
            45,
            53,
            59,
            63,
            59,
            152,
            57,
            136,
            137,
            167
           ],
           "yaxis": "y"
          }
         ],
         "name": "176"
        },
        {
         "data": [
          {
           "hovertemplate": "time=177<br>x=%{x}<br>y=%{y}<br>bird=%{marker.color}<extra></extra>",
           "legendgroup": "",
           "marker": {
            "color": [
             1,
             2,
             3,
             4,
             5,
             6,
             7,
             8,
             9,
             10,
             11,
             12,
             13,
             14,
             15
            ],
            "coloraxis": "coloraxis",
            "symbol": "circle"
           },
           "mode": "markers",
           "name": "",
           "orientation": "v",
           "showlegend": false,
           "type": "scatter",
           "x": [
            93,
            121,
            60,
            51,
            55,
            56,
            45,
            67,
            53,
            60,
            150,
            51,
            153,
            30,
            66
           ],
           "xaxis": "x",
           "y": [
            154,
            186,
            51,
            52,
            65,
            45,
            54,
            59,
            63,
            60,
            148,
            58,
            136,
            138,
            167
           ],
           "yaxis": "y"
          }
         ],
         "name": "177"
        },
        {
         "data": [
          {
           "hovertemplate": "time=178<br>x=%{x}<br>y=%{y}<br>bird=%{marker.color}<extra></extra>",
           "legendgroup": "",
           "marker": {
            "color": [
             1,
             2,
             3,
             4,
             5,
             6,
             7,
             8,
             9,
             10,
             11,
             12,
             13,
             14,
             15
            ],
            "coloraxis": "coloraxis",
            "symbol": "circle"
           },
           "mode": "markers",
           "name": "",
           "orientation": "v",
           "showlegend": false,
           "type": "scatter",
           "x": [
            92,
            127,
            56,
            50,
            55,
            59,
            45,
            65,
            52,
            60,
            150,
            51,
            153,
            30,
            66
           ],
           "xaxis": "x",
           "y": [
            157,
            186,
            55,
            51,
            65,
            46,
            54,
            58,
            64,
            59,
            146,
            58,
            135,
            138,
            167
           ],
           "yaxis": "y"
          }
         ],
         "name": "178"
        },
        {
         "data": [
          {
           "hovertemplate": "time=179<br>x=%{x}<br>y=%{y}<br>bird=%{marker.color}<extra></extra>",
           "legendgroup": "",
           "marker": {
            "color": [
             1,
             2,
             3,
             4,
             5,
             6,
             7,
             8,
             9,
             10,
             11,
             12,
             13,
             14,
             15
            ],
            "coloraxis": "coloraxis",
            "symbol": "circle"
           },
           "mode": "markers",
           "name": "",
           "orientation": "v",
           "showlegend": false,
           "type": "scatter",
           "x": [
            91,
            136,
            57,
            50,
            55,
            61,
            47,
            64,
            52,
            61,
            149,
            51,
            153,
            30,
            66
           ],
           "xaxis": "x",
           "y": [
            159,
            184,
            56,
            51,
            65,
            47,
            54,
            55,
            62,
            59,
            147,
            58,
            135,
            138,
            167
           ],
           "yaxis": "y"
          }
         ],
         "name": "179"
        },
        {
         "data": [
          {
           "hovertemplate": "time=180<br>x=%{x}<br>y=%{y}<br>bird=%{marker.color}<extra></extra>",
           "legendgroup": "",
           "marker": {
            "color": [
             1,
             2,
             3,
             4,
             5,
             6,
             7,
             8,
             9,
             10,
             11,
             12,
             13,
             14,
             15
            ],
            "coloraxis": "coloraxis",
            "symbol": "circle"
           },
           "mode": "markers",
           "name": "",
           "orientation": "v",
           "showlegend": false,
           "type": "scatter",
           "x": [
            90,
            143,
            57,
            50,
            55,
            62,
            49,
            64,
            53,
            61,
            149,
            51,
            154,
            30,
            66
           ],
           "xaxis": "x",
           "y": [
            160,
            180,
            56,
            51,
            65,
            46,
            53,
            54,
            62,
            57,
            147,
            59,
            135,
            138,
            167
           ],
           "yaxis": "y"
          }
         ],
         "name": "180"
        }
       ],
       "layout": {
        "autosize": false,
        "coloraxis": {
         "colorbar": {
          "title": {
           "text": "bird"
          }
         },
         "colorscale": [
          [
           0,
           "#0d0887"
          ],
          [
           0.1111111111111111,
           "#46039f"
          ],
          [
           0.2222222222222222,
           "#7201a8"
          ],
          [
           0.3333333333333333,
           "#9c179e"
          ],
          [
           0.4444444444444444,
           "#bd3786"
          ],
          [
           0.5555555555555556,
           "#d8576b"
          ],
          [
           0.6666666666666666,
           "#ed7953"
          ],
          [
           0.7777777777777778,
           "#fb9f3a"
          ],
          [
           0.8888888888888888,
           "#fdca26"
          ],
          [
           1,
           "#f0f921"
          ]
         ]
        },
        "height": 600,
        "legend": {
         "tracegroupgap": 0
        },
        "margin": {
         "t": 60
        },
        "sliders": [
         {
          "active": 0,
          "currentvalue": {
           "prefix": "time="
          },
          "len": 0.9,
          "pad": {
           "b": 10,
           "t": 60
          },
          "steps": [
           {
            "args": [
             [
              "0"
             ],
             {
              "frame": {
               "duration": 0,
               "redraw": false
              },
              "fromcurrent": true,
              "mode": "immediate",
              "transition": {
               "duration": 0,
               "easing": "linear"
              }
             }
            ],
            "label": "0",
            "method": "animate"
           },
           {
            "args": [
             [
              "1"
             ],
             {
              "frame": {
               "duration": 0,
               "redraw": false
              },
              "fromcurrent": true,
              "mode": "immediate",
              "transition": {
               "duration": 0,
               "easing": "linear"
              }
             }
            ],
            "label": "1",
            "method": "animate"
           },
           {
            "args": [
             [
              "2"
             ],
             {
              "frame": {
               "duration": 0,
               "redraw": false
              },
              "fromcurrent": true,
              "mode": "immediate",
              "transition": {
               "duration": 0,
               "easing": "linear"
              }
             }
            ],
            "label": "2",
            "method": "animate"
           },
           {
            "args": [
             [
              "3"
             ],
             {
              "frame": {
               "duration": 0,
               "redraw": false
              },
              "fromcurrent": true,
              "mode": "immediate",
              "transition": {
               "duration": 0,
               "easing": "linear"
              }
             }
            ],
            "label": "3",
            "method": "animate"
           },
           {
            "args": [
             [
              "4"
             ],
             {
              "frame": {
               "duration": 0,
               "redraw": false
              },
              "fromcurrent": true,
              "mode": "immediate",
              "transition": {
               "duration": 0,
               "easing": "linear"
              }
             }
            ],
            "label": "4",
            "method": "animate"
           },
           {
            "args": [
             [
              "5"
             ],
             {
              "frame": {
               "duration": 0,
               "redraw": false
              },
              "fromcurrent": true,
              "mode": "immediate",
              "transition": {
               "duration": 0,
               "easing": "linear"
              }
             }
            ],
            "label": "5",
            "method": "animate"
           },
           {
            "args": [
             [
              "6"
             ],
             {
              "frame": {
               "duration": 0,
               "redraw": false
              },
              "fromcurrent": true,
              "mode": "immediate",
              "transition": {
               "duration": 0,
               "easing": "linear"
              }
             }
            ],
            "label": "6",
            "method": "animate"
           },
           {
            "args": [
             [
              "7"
             ],
             {
              "frame": {
               "duration": 0,
               "redraw": false
              },
              "fromcurrent": true,
              "mode": "immediate",
              "transition": {
               "duration": 0,
               "easing": "linear"
              }
             }
            ],
            "label": "7",
            "method": "animate"
           },
           {
            "args": [
             [
              "8"
             ],
             {
              "frame": {
               "duration": 0,
               "redraw": false
              },
              "fromcurrent": true,
              "mode": "immediate",
              "transition": {
               "duration": 0,
               "easing": "linear"
              }
             }
            ],
            "label": "8",
            "method": "animate"
           },
           {
            "args": [
             [
              "9"
             ],
             {
              "frame": {
               "duration": 0,
               "redraw": false
              },
              "fromcurrent": true,
              "mode": "immediate",
              "transition": {
               "duration": 0,
               "easing": "linear"
              }
             }
            ],
            "label": "9",
            "method": "animate"
           },
           {
            "args": [
             [
              "10"
             ],
             {
              "frame": {
               "duration": 0,
               "redraw": false
              },
              "fromcurrent": true,
              "mode": "immediate",
              "transition": {
               "duration": 0,
               "easing": "linear"
              }
             }
            ],
            "label": "10",
            "method": "animate"
           },
           {
            "args": [
             [
              "11"
             ],
             {
              "frame": {
               "duration": 0,
               "redraw": false
              },
              "fromcurrent": true,
              "mode": "immediate",
              "transition": {
               "duration": 0,
               "easing": "linear"
              }
             }
            ],
            "label": "11",
            "method": "animate"
           },
           {
            "args": [
             [
              "12"
             ],
             {
              "frame": {
               "duration": 0,
               "redraw": false
              },
              "fromcurrent": true,
              "mode": "immediate",
              "transition": {
               "duration": 0,
               "easing": "linear"
              }
             }
            ],
            "label": "12",
            "method": "animate"
           },
           {
            "args": [
             [
              "13"
             ],
             {
              "frame": {
               "duration": 0,
               "redraw": false
              },
              "fromcurrent": true,
              "mode": "immediate",
              "transition": {
               "duration": 0,
               "easing": "linear"
              }
             }
            ],
            "label": "13",
            "method": "animate"
           },
           {
            "args": [
             [
              "14"
             ],
             {
              "frame": {
               "duration": 0,
               "redraw": false
              },
              "fromcurrent": true,
              "mode": "immediate",
              "transition": {
               "duration": 0,
               "easing": "linear"
              }
             }
            ],
            "label": "14",
            "method": "animate"
           },
           {
            "args": [
             [
              "15"
             ],
             {
              "frame": {
               "duration": 0,
               "redraw": false
              },
              "fromcurrent": true,
              "mode": "immediate",
              "transition": {
               "duration": 0,
               "easing": "linear"
              }
             }
            ],
            "label": "15",
            "method": "animate"
           },
           {
            "args": [
             [
              "16"
             ],
             {
              "frame": {
               "duration": 0,
               "redraw": false
              },
              "fromcurrent": true,
              "mode": "immediate",
              "transition": {
               "duration": 0,
               "easing": "linear"
              }
             }
            ],
            "label": "16",
            "method": "animate"
           },
           {
            "args": [
             [
              "17"
             ],
             {
              "frame": {
               "duration": 0,
               "redraw": false
              },
              "fromcurrent": true,
              "mode": "immediate",
              "transition": {
               "duration": 0,
               "easing": "linear"
              }
             }
            ],
            "label": "17",
            "method": "animate"
           },
           {
            "args": [
             [
              "18"
             ],
             {
              "frame": {
               "duration": 0,
               "redraw": false
              },
              "fromcurrent": true,
              "mode": "immediate",
              "transition": {
               "duration": 0,
               "easing": "linear"
              }
             }
            ],
            "label": "18",
            "method": "animate"
           },
           {
            "args": [
             [
              "19"
             ],
             {
              "frame": {
               "duration": 0,
               "redraw": false
              },
              "fromcurrent": true,
              "mode": "immediate",
              "transition": {
               "duration": 0,
               "easing": "linear"
              }
             }
            ],
            "label": "19",
            "method": "animate"
           },
           {
            "args": [
             [
              "20"
             ],
             {
              "frame": {
               "duration": 0,
               "redraw": false
              },
              "fromcurrent": true,
              "mode": "immediate",
              "transition": {
               "duration": 0,
               "easing": "linear"
              }
             }
            ],
            "label": "20",
            "method": "animate"
           },
           {
            "args": [
             [
              "21"
             ],
             {
              "frame": {
               "duration": 0,
               "redraw": false
              },
              "fromcurrent": true,
              "mode": "immediate",
              "transition": {
               "duration": 0,
               "easing": "linear"
              }
             }
            ],
            "label": "21",
            "method": "animate"
           },
           {
            "args": [
             [
              "22"
             ],
             {
              "frame": {
               "duration": 0,
               "redraw": false
              },
              "fromcurrent": true,
              "mode": "immediate",
              "transition": {
               "duration": 0,
               "easing": "linear"
              }
             }
            ],
            "label": "22",
            "method": "animate"
           },
           {
            "args": [
             [
              "23"
             ],
             {
              "frame": {
               "duration": 0,
               "redraw": false
              },
              "fromcurrent": true,
              "mode": "immediate",
              "transition": {
               "duration": 0,
               "easing": "linear"
              }
             }
            ],
            "label": "23",
            "method": "animate"
           },
           {
            "args": [
             [
              "24"
             ],
             {
              "frame": {
               "duration": 0,
               "redraw": false
              },
              "fromcurrent": true,
              "mode": "immediate",
              "transition": {
               "duration": 0,
               "easing": "linear"
              }
             }
            ],
            "label": "24",
            "method": "animate"
           },
           {
            "args": [
             [
              "25"
             ],
             {
              "frame": {
               "duration": 0,
               "redraw": false
              },
              "fromcurrent": true,
              "mode": "immediate",
              "transition": {
               "duration": 0,
               "easing": "linear"
              }
             }
            ],
            "label": "25",
            "method": "animate"
           },
           {
            "args": [
             [
              "26"
             ],
             {
              "frame": {
               "duration": 0,
               "redraw": false
              },
              "fromcurrent": true,
              "mode": "immediate",
              "transition": {
               "duration": 0,
               "easing": "linear"
              }
             }
            ],
            "label": "26",
            "method": "animate"
           },
           {
            "args": [
             [
              "27"
             ],
             {
              "frame": {
               "duration": 0,
               "redraw": false
              },
              "fromcurrent": true,
              "mode": "immediate",
              "transition": {
               "duration": 0,
               "easing": "linear"
              }
             }
            ],
            "label": "27",
            "method": "animate"
           },
           {
            "args": [
             [
              "28"
             ],
             {
              "frame": {
               "duration": 0,
               "redraw": false
              },
              "fromcurrent": true,
              "mode": "immediate",
              "transition": {
               "duration": 0,
               "easing": "linear"
              }
             }
            ],
            "label": "28",
            "method": "animate"
           },
           {
            "args": [
             [
              "29"
             ],
             {
              "frame": {
               "duration": 0,
               "redraw": false
              },
              "fromcurrent": true,
              "mode": "immediate",
              "transition": {
               "duration": 0,
               "easing": "linear"
              }
             }
            ],
            "label": "29",
            "method": "animate"
           },
           {
            "args": [
             [
              "30"
             ],
             {
              "frame": {
               "duration": 0,
               "redraw": false
              },
              "fromcurrent": true,
              "mode": "immediate",
              "transition": {
               "duration": 0,
               "easing": "linear"
              }
             }
            ],
            "label": "30",
            "method": "animate"
           },
           {
            "args": [
             [
              "31"
             ],
             {
              "frame": {
               "duration": 0,
               "redraw": false
              },
              "fromcurrent": true,
              "mode": "immediate",
              "transition": {
               "duration": 0,
               "easing": "linear"
              }
             }
            ],
            "label": "31",
            "method": "animate"
           },
           {
            "args": [
             [
              "32"
             ],
             {
              "frame": {
               "duration": 0,
               "redraw": false
              },
              "fromcurrent": true,
              "mode": "immediate",
              "transition": {
               "duration": 0,
               "easing": "linear"
              }
             }
            ],
            "label": "32",
            "method": "animate"
           },
           {
            "args": [
             [
              "33"
             ],
             {
              "frame": {
               "duration": 0,
               "redraw": false
              },
              "fromcurrent": true,
              "mode": "immediate",
              "transition": {
               "duration": 0,
               "easing": "linear"
              }
             }
            ],
            "label": "33",
            "method": "animate"
           },
           {
            "args": [
             [
              "34"
             ],
             {
              "frame": {
               "duration": 0,
               "redraw": false
              },
              "fromcurrent": true,
              "mode": "immediate",
              "transition": {
               "duration": 0,
               "easing": "linear"
              }
             }
            ],
            "label": "34",
            "method": "animate"
           },
           {
            "args": [
             [
              "35"
             ],
             {
              "frame": {
               "duration": 0,
               "redraw": false
              },
              "fromcurrent": true,
              "mode": "immediate",
              "transition": {
               "duration": 0,
               "easing": "linear"
              }
             }
            ],
            "label": "35",
            "method": "animate"
           },
           {
            "args": [
             [
              "36"
             ],
             {
              "frame": {
               "duration": 0,
               "redraw": false
              },
              "fromcurrent": true,
              "mode": "immediate",
              "transition": {
               "duration": 0,
               "easing": "linear"
              }
             }
            ],
            "label": "36",
            "method": "animate"
           },
           {
            "args": [
             [
              "37"
             ],
             {
              "frame": {
               "duration": 0,
               "redraw": false
              },
              "fromcurrent": true,
              "mode": "immediate",
              "transition": {
               "duration": 0,
               "easing": "linear"
              }
             }
            ],
            "label": "37",
            "method": "animate"
           },
           {
            "args": [
             [
              "38"
             ],
             {
              "frame": {
               "duration": 0,
               "redraw": false
              },
              "fromcurrent": true,
              "mode": "immediate",
              "transition": {
               "duration": 0,
               "easing": "linear"
              }
             }
            ],
            "label": "38",
            "method": "animate"
           },
           {
            "args": [
             [
              "39"
             ],
             {
              "frame": {
               "duration": 0,
               "redraw": false
              },
              "fromcurrent": true,
              "mode": "immediate",
              "transition": {
               "duration": 0,
               "easing": "linear"
              }
             }
            ],
            "label": "39",
            "method": "animate"
           },
           {
            "args": [
             [
              "40"
             ],
             {
              "frame": {
               "duration": 0,
               "redraw": false
              },
              "fromcurrent": true,
              "mode": "immediate",
              "transition": {
               "duration": 0,
               "easing": "linear"
              }
             }
            ],
            "label": "40",
            "method": "animate"
           },
           {
            "args": [
             [
              "41"
             ],
             {
              "frame": {
               "duration": 0,
               "redraw": false
              },
              "fromcurrent": true,
              "mode": "immediate",
              "transition": {
               "duration": 0,
               "easing": "linear"
              }
             }
            ],
            "label": "41",
            "method": "animate"
           },
           {
            "args": [
             [
              "42"
             ],
             {
              "frame": {
               "duration": 0,
               "redraw": false
              },
              "fromcurrent": true,
              "mode": "immediate",
              "transition": {
               "duration": 0,
               "easing": "linear"
              }
             }
            ],
            "label": "42",
            "method": "animate"
           },
           {
            "args": [
             [
              "43"
             ],
             {
              "frame": {
               "duration": 0,
               "redraw": false
              },
              "fromcurrent": true,
              "mode": "immediate",
              "transition": {
               "duration": 0,
               "easing": "linear"
              }
             }
            ],
            "label": "43",
            "method": "animate"
           },
           {
            "args": [
             [
              "44"
             ],
             {
              "frame": {
               "duration": 0,
               "redraw": false
              },
              "fromcurrent": true,
              "mode": "immediate",
              "transition": {
               "duration": 0,
               "easing": "linear"
              }
             }
            ],
            "label": "44",
            "method": "animate"
           },
           {
            "args": [
             [
              "45"
             ],
             {
              "frame": {
               "duration": 0,
               "redraw": false
              },
              "fromcurrent": true,
              "mode": "immediate",
              "transition": {
               "duration": 0,
               "easing": "linear"
              }
             }
            ],
            "label": "45",
            "method": "animate"
           },
           {
            "args": [
             [
              "46"
             ],
             {
              "frame": {
               "duration": 0,
               "redraw": false
              },
              "fromcurrent": true,
              "mode": "immediate",
              "transition": {
               "duration": 0,
               "easing": "linear"
              }
             }
            ],
            "label": "46",
            "method": "animate"
           },
           {
            "args": [
             [
              "47"
             ],
             {
              "frame": {
               "duration": 0,
               "redraw": false
              },
              "fromcurrent": true,
              "mode": "immediate",
              "transition": {
               "duration": 0,
               "easing": "linear"
              }
             }
            ],
            "label": "47",
            "method": "animate"
           },
           {
            "args": [
             [
              "48"
             ],
             {
              "frame": {
               "duration": 0,
               "redraw": false
              },
              "fromcurrent": true,
              "mode": "immediate",
              "transition": {
               "duration": 0,
               "easing": "linear"
              }
             }
            ],
            "label": "48",
            "method": "animate"
           },
           {
            "args": [
             [
              "49"
             ],
             {
              "frame": {
               "duration": 0,
               "redraw": false
              },
              "fromcurrent": true,
              "mode": "immediate",
              "transition": {
               "duration": 0,
               "easing": "linear"
              }
             }
            ],
            "label": "49",
            "method": "animate"
           },
           {
            "args": [
             [
              "50"
             ],
             {
              "frame": {
               "duration": 0,
               "redraw": false
              },
              "fromcurrent": true,
              "mode": "immediate",
              "transition": {
               "duration": 0,
               "easing": "linear"
              }
             }
            ],
            "label": "50",
            "method": "animate"
           },
           {
            "args": [
             [
              "51"
             ],
             {
              "frame": {
               "duration": 0,
               "redraw": false
              },
              "fromcurrent": true,
              "mode": "immediate",
              "transition": {
               "duration": 0,
               "easing": "linear"
              }
             }
            ],
            "label": "51",
            "method": "animate"
           },
           {
            "args": [
             [
              "52"
             ],
             {
              "frame": {
               "duration": 0,
               "redraw": false
              },
              "fromcurrent": true,
              "mode": "immediate",
              "transition": {
               "duration": 0,
               "easing": "linear"
              }
             }
            ],
            "label": "52",
            "method": "animate"
           },
           {
            "args": [
             [
              "53"
             ],
             {
              "frame": {
               "duration": 0,
               "redraw": false
              },
              "fromcurrent": true,
              "mode": "immediate",
              "transition": {
               "duration": 0,
               "easing": "linear"
              }
             }
            ],
            "label": "53",
            "method": "animate"
           },
           {
            "args": [
             [
              "54"
             ],
             {
              "frame": {
               "duration": 0,
               "redraw": false
              },
              "fromcurrent": true,
              "mode": "immediate",
              "transition": {
               "duration": 0,
               "easing": "linear"
              }
             }
            ],
            "label": "54",
            "method": "animate"
           },
           {
            "args": [
             [
              "55"
             ],
             {
              "frame": {
               "duration": 0,
               "redraw": false
              },
              "fromcurrent": true,
              "mode": "immediate",
              "transition": {
               "duration": 0,
               "easing": "linear"
              }
             }
            ],
            "label": "55",
            "method": "animate"
           },
           {
            "args": [
             [
              "56"
             ],
             {
              "frame": {
               "duration": 0,
               "redraw": false
              },
              "fromcurrent": true,
              "mode": "immediate",
              "transition": {
               "duration": 0,
               "easing": "linear"
              }
             }
            ],
            "label": "56",
            "method": "animate"
           },
           {
            "args": [
             [
              "57"
             ],
             {
              "frame": {
               "duration": 0,
               "redraw": false
              },
              "fromcurrent": true,
              "mode": "immediate",
              "transition": {
               "duration": 0,
               "easing": "linear"
              }
             }
            ],
            "label": "57",
            "method": "animate"
           },
           {
            "args": [
             [
              "58"
             ],
             {
              "frame": {
               "duration": 0,
               "redraw": false
              },
              "fromcurrent": true,
              "mode": "immediate",
              "transition": {
               "duration": 0,
               "easing": "linear"
              }
             }
            ],
            "label": "58",
            "method": "animate"
           },
           {
            "args": [
             [
              "59"
             ],
             {
              "frame": {
               "duration": 0,
               "redraw": false
              },
              "fromcurrent": true,
              "mode": "immediate",
              "transition": {
               "duration": 0,
               "easing": "linear"
              }
             }
            ],
            "label": "59",
            "method": "animate"
           },
           {
            "args": [
             [
              "60"
             ],
             {
              "frame": {
               "duration": 0,
               "redraw": false
              },
              "fromcurrent": true,
              "mode": "immediate",
              "transition": {
               "duration": 0,
               "easing": "linear"
              }
             }
            ],
            "label": "60",
            "method": "animate"
           },
           {
            "args": [
             [
              "61"
             ],
             {
              "frame": {
               "duration": 0,
               "redraw": false
              },
              "fromcurrent": true,
              "mode": "immediate",
              "transition": {
               "duration": 0,
               "easing": "linear"
              }
             }
            ],
            "label": "61",
            "method": "animate"
           },
           {
            "args": [
             [
              "62"
             ],
             {
              "frame": {
               "duration": 0,
               "redraw": false
              },
              "fromcurrent": true,
              "mode": "immediate",
              "transition": {
               "duration": 0,
               "easing": "linear"
              }
             }
            ],
            "label": "62",
            "method": "animate"
           },
           {
            "args": [
             [
              "63"
             ],
             {
              "frame": {
               "duration": 0,
               "redraw": false
              },
              "fromcurrent": true,
              "mode": "immediate",
              "transition": {
               "duration": 0,
               "easing": "linear"
              }
             }
            ],
            "label": "63",
            "method": "animate"
           },
           {
            "args": [
             [
              "64"
             ],
             {
              "frame": {
               "duration": 0,
               "redraw": false
              },
              "fromcurrent": true,
              "mode": "immediate",
              "transition": {
               "duration": 0,
               "easing": "linear"
              }
             }
            ],
            "label": "64",
            "method": "animate"
           },
           {
            "args": [
             [
              "65"
             ],
             {
              "frame": {
               "duration": 0,
               "redraw": false
              },
              "fromcurrent": true,
              "mode": "immediate",
              "transition": {
               "duration": 0,
               "easing": "linear"
              }
             }
            ],
            "label": "65",
            "method": "animate"
           },
           {
            "args": [
             [
              "66"
             ],
             {
              "frame": {
               "duration": 0,
               "redraw": false
              },
              "fromcurrent": true,
              "mode": "immediate",
              "transition": {
               "duration": 0,
               "easing": "linear"
              }
             }
            ],
            "label": "66",
            "method": "animate"
           },
           {
            "args": [
             [
              "67"
             ],
             {
              "frame": {
               "duration": 0,
               "redraw": false
              },
              "fromcurrent": true,
              "mode": "immediate",
              "transition": {
               "duration": 0,
               "easing": "linear"
              }
             }
            ],
            "label": "67",
            "method": "animate"
           },
           {
            "args": [
             [
              "68"
             ],
             {
              "frame": {
               "duration": 0,
               "redraw": false
              },
              "fromcurrent": true,
              "mode": "immediate",
              "transition": {
               "duration": 0,
               "easing": "linear"
              }
             }
            ],
            "label": "68",
            "method": "animate"
           },
           {
            "args": [
             [
              "69"
             ],
             {
              "frame": {
               "duration": 0,
               "redraw": false
              },
              "fromcurrent": true,
              "mode": "immediate",
              "transition": {
               "duration": 0,
               "easing": "linear"
              }
             }
            ],
            "label": "69",
            "method": "animate"
           },
           {
            "args": [
             [
              "70"
             ],
             {
              "frame": {
               "duration": 0,
               "redraw": false
              },
              "fromcurrent": true,
              "mode": "immediate",
              "transition": {
               "duration": 0,
               "easing": "linear"
              }
             }
            ],
            "label": "70",
            "method": "animate"
           },
           {
            "args": [
             [
              "71"
             ],
             {
              "frame": {
               "duration": 0,
               "redraw": false
              },
              "fromcurrent": true,
              "mode": "immediate",
              "transition": {
               "duration": 0,
               "easing": "linear"
              }
             }
            ],
            "label": "71",
            "method": "animate"
           },
           {
            "args": [
             [
              "72"
             ],
             {
              "frame": {
               "duration": 0,
               "redraw": false
              },
              "fromcurrent": true,
              "mode": "immediate",
              "transition": {
               "duration": 0,
               "easing": "linear"
              }
             }
            ],
            "label": "72",
            "method": "animate"
           },
           {
            "args": [
             [
              "73"
             ],
             {
              "frame": {
               "duration": 0,
               "redraw": false
              },
              "fromcurrent": true,
              "mode": "immediate",
              "transition": {
               "duration": 0,
               "easing": "linear"
              }
             }
            ],
            "label": "73",
            "method": "animate"
           },
           {
            "args": [
             [
              "74"
             ],
             {
              "frame": {
               "duration": 0,
               "redraw": false
              },
              "fromcurrent": true,
              "mode": "immediate",
              "transition": {
               "duration": 0,
               "easing": "linear"
              }
             }
            ],
            "label": "74",
            "method": "animate"
           },
           {
            "args": [
             [
              "75"
             ],
             {
              "frame": {
               "duration": 0,
               "redraw": false
              },
              "fromcurrent": true,
              "mode": "immediate",
              "transition": {
               "duration": 0,
               "easing": "linear"
              }
             }
            ],
            "label": "75",
            "method": "animate"
           },
           {
            "args": [
             [
              "76"
             ],
             {
              "frame": {
               "duration": 0,
               "redraw": false
              },
              "fromcurrent": true,
              "mode": "immediate",
              "transition": {
               "duration": 0,
               "easing": "linear"
              }
             }
            ],
            "label": "76",
            "method": "animate"
           },
           {
            "args": [
             [
              "77"
             ],
             {
              "frame": {
               "duration": 0,
               "redraw": false
              },
              "fromcurrent": true,
              "mode": "immediate",
              "transition": {
               "duration": 0,
               "easing": "linear"
              }
             }
            ],
            "label": "77",
            "method": "animate"
           },
           {
            "args": [
             [
              "78"
             ],
             {
              "frame": {
               "duration": 0,
               "redraw": false
              },
              "fromcurrent": true,
              "mode": "immediate",
              "transition": {
               "duration": 0,
               "easing": "linear"
              }
             }
            ],
            "label": "78",
            "method": "animate"
           },
           {
            "args": [
             [
              "79"
             ],
             {
              "frame": {
               "duration": 0,
               "redraw": false
              },
              "fromcurrent": true,
              "mode": "immediate",
              "transition": {
               "duration": 0,
               "easing": "linear"
              }
             }
            ],
            "label": "79",
            "method": "animate"
           },
           {
            "args": [
             [
              "80"
             ],
             {
              "frame": {
               "duration": 0,
               "redraw": false
              },
              "fromcurrent": true,
              "mode": "immediate",
              "transition": {
               "duration": 0,
               "easing": "linear"
              }
             }
            ],
            "label": "80",
            "method": "animate"
           },
           {
            "args": [
             [
              "81"
             ],
             {
              "frame": {
               "duration": 0,
               "redraw": false
              },
              "fromcurrent": true,
              "mode": "immediate",
              "transition": {
               "duration": 0,
               "easing": "linear"
              }
             }
            ],
            "label": "81",
            "method": "animate"
           },
           {
            "args": [
             [
              "82"
             ],
             {
              "frame": {
               "duration": 0,
               "redraw": false
              },
              "fromcurrent": true,
              "mode": "immediate",
              "transition": {
               "duration": 0,
               "easing": "linear"
              }
             }
            ],
            "label": "82",
            "method": "animate"
           },
           {
            "args": [
             [
              "83"
             ],
             {
              "frame": {
               "duration": 0,
               "redraw": false
              },
              "fromcurrent": true,
              "mode": "immediate",
              "transition": {
               "duration": 0,
               "easing": "linear"
              }
             }
            ],
            "label": "83",
            "method": "animate"
           },
           {
            "args": [
             [
              "84"
             ],
             {
              "frame": {
               "duration": 0,
               "redraw": false
              },
              "fromcurrent": true,
              "mode": "immediate",
              "transition": {
               "duration": 0,
               "easing": "linear"
              }
             }
            ],
            "label": "84",
            "method": "animate"
           },
           {
            "args": [
             [
              "85"
             ],
             {
              "frame": {
               "duration": 0,
               "redraw": false
              },
              "fromcurrent": true,
              "mode": "immediate",
              "transition": {
               "duration": 0,
               "easing": "linear"
              }
             }
            ],
            "label": "85",
            "method": "animate"
           },
           {
            "args": [
             [
              "86"
             ],
             {
              "frame": {
               "duration": 0,
               "redraw": false
              },
              "fromcurrent": true,
              "mode": "immediate",
              "transition": {
               "duration": 0,
               "easing": "linear"
              }
             }
            ],
            "label": "86",
            "method": "animate"
           },
           {
            "args": [
             [
              "87"
             ],
             {
              "frame": {
               "duration": 0,
               "redraw": false
              },
              "fromcurrent": true,
              "mode": "immediate",
              "transition": {
               "duration": 0,
               "easing": "linear"
              }
             }
            ],
            "label": "87",
            "method": "animate"
           },
           {
            "args": [
             [
              "88"
             ],
             {
              "frame": {
               "duration": 0,
               "redraw": false
              },
              "fromcurrent": true,
              "mode": "immediate",
              "transition": {
               "duration": 0,
               "easing": "linear"
              }
             }
            ],
            "label": "88",
            "method": "animate"
           },
           {
            "args": [
             [
              "89"
             ],
             {
              "frame": {
               "duration": 0,
               "redraw": false
              },
              "fromcurrent": true,
              "mode": "immediate",
              "transition": {
               "duration": 0,
               "easing": "linear"
              }
             }
            ],
            "label": "89",
            "method": "animate"
           },
           {
            "args": [
             [
              "90"
             ],
             {
              "frame": {
               "duration": 0,
               "redraw": false
              },
              "fromcurrent": true,
              "mode": "immediate",
              "transition": {
               "duration": 0,
               "easing": "linear"
              }
             }
            ],
            "label": "90",
            "method": "animate"
           },
           {
            "args": [
             [
              "91"
             ],
             {
              "frame": {
               "duration": 0,
               "redraw": false
              },
              "fromcurrent": true,
              "mode": "immediate",
              "transition": {
               "duration": 0,
               "easing": "linear"
              }
             }
            ],
            "label": "91",
            "method": "animate"
           },
           {
            "args": [
             [
              "92"
             ],
             {
              "frame": {
               "duration": 0,
               "redraw": false
              },
              "fromcurrent": true,
              "mode": "immediate",
              "transition": {
               "duration": 0,
               "easing": "linear"
              }
             }
            ],
            "label": "92",
            "method": "animate"
           },
           {
            "args": [
             [
              "93"
             ],
             {
              "frame": {
               "duration": 0,
               "redraw": false
              },
              "fromcurrent": true,
              "mode": "immediate",
              "transition": {
               "duration": 0,
               "easing": "linear"
              }
             }
            ],
            "label": "93",
            "method": "animate"
           },
           {
            "args": [
             [
              "94"
             ],
             {
              "frame": {
               "duration": 0,
               "redraw": false
              },
              "fromcurrent": true,
              "mode": "immediate",
              "transition": {
               "duration": 0,
               "easing": "linear"
              }
             }
            ],
            "label": "94",
            "method": "animate"
           },
           {
            "args": [
             [
              "95"
             ],
             {
              "frame": {
               "duration": 0,
               "redraw": false
              },
              "fromcurrent": true,
              "mode": "immediate",
              "transition": {
               "duration": 0,
               "easing": "linear"
              }
             }
            ],
            "label": "95",
            "method": "animate"
           },
           {
            "args": [
             [
              "96"
             ],
             {
              "frame": {
               "duration": 0,
               "redraw": false
              },
              "fromcurrent": true,
              "mode": "immediate",
              "transition": {
               "duration": 0,
               "easing": "linear"
              }
             }
            ],
            "label": "96",
            "method": "animate"
           },
           {
            "args": [
             [
              "97"
             ],
             {
              "frame": {
               "duration": 0,
               "redraw": false
              },
              "fromcurrent": true,
              "mode": "immediate",
              "transition": {
               "duration": 0,
               "easing": "linear"
              }
             }
            ],
            "label": "97",
            "method": "animate"
           },
           {
            "args": [
             [
              "98"
             ],
             {
              "frame": {
               "duration": 0,
               "redraw": false
              },
              "fromcurrent": true,
              "mode": "immediate",
              "transition": {
               "duration": 0,
               "easing": "linear"
              }
             }
            ],
            "label": "98",
            "method": "animate"
           },
           {
            "args": [
             [
              "99"
             ],
             {
              "frame": {
               "duration": 0,
               "redraw": false
              },
              "fromcurrent": true,
              "mode": "immediate",
              "transition": {
               "duration": 0,
               "easing": "linear"
              }
             }
            ],
            "label": "99",
            "method": "animate"
           },
           {
            "args": [
             [
              "100"
             ],
             {
              "frame": {
               "duration": 0,
               "redraw": false
              },
              "fromcurrent": true,
              "mode": "immediate",
              "transition": {
               "duration": 0,
               "easing": "linear"
              }
             }
            ],
            "label": "100",
            "method": "animate"
           },
           {
            "args": [
             [
              "101"
             ],
             {
              "frame": {
               "duration": 0,
               "redraw": false
              },
              "fromcurrent": true,
              "mode": "immediate",
              "transition": {
               "duration": 0,
               "easing": "linear"
              }
             }
            ],
            "label": "101",
            "method": "animate"
           },
           {
            "args": [
             [
              "102"
             ],
             {
              "frame": {
               "duration": 0,
               "redraw": false
              },
              "fromcurrent": true,
              "mode": "immediate",
              "transition": {
               "duration": 0,
               "easing": "linear"
              }
             }
            ],
            "label": "102",
            "method": "animate"
           },
           {
            "args": [
             [
              "103"
             ],
             {
              "frame": {
               "duration": 0,
               "redraw": false
              },
              "fromcurrent": true,
              "mode": "immediate",
              "transition": {
               "duration": 0,
               "easing": "linear"
              }
             }
            ],
            "label": "103",
            "method": "animate"
           },
           {
            "args": [
             [
              "104"
             ],
             {
              "frame": {
               "duration": 0,
               "redraw": false
              },
              "fromcurrent": true,
              "mode": "immediate",
              "transition": {
               "duration": 0,
               "easing": "linear"
              }
             }
            ],
            "label": "104",
            "method": "animate"
           },
           {
            "args": [
             [
              "105"
             ],
             {
              "frame": {
               "duration": 0,
               "redraw": false
              },
              "fromcurrent": true,
              "mode": "immediate",
              "transition": {
               "duration": 0,
               "easing": "linear"
              }
             }
            ],
            "label": "105",
            "method": "animate"
           },
           {
            "args": [
             [
              "106"
             ],
             {
              "frame": {
               "duration": 0,
               "redraw": false
              },
              "fromcurrent": true,
              "mode": "immediate",
              "transition": {
               "duration": 0,
               "easing": "linear"
              }
             }
            ],
            "label": "106",
            "method": "animate"
           },
           {
            "args": [
             [
              "107"
             ],
             {
              "frame": {
               "duration": 0,
               "redraw": false
              },
              "fromcurrent": true,
              "mode": "immediate",
              "transition": {
               "duration": 0,
               "easing": "linear"
              }
             }
            ],
            "label": "107",
            "method": "animate"
           },
           {
            "args": [
             [
              "108"
             ],
             {
              "frame": {
               "duration": 0,
               "redraw": false
              },
              "fromcurrent": true,
              "mode": "immediate",
              "transition": {
               "duration": 0,
               "easing": "linear"
              }
             }
            ],
            "label": "108",
            "method": "animate"
           },
           {
            "args": [
             [
              "109"
             ],
             {
              "frame": {
               "duration": 0,
               "redraw": false
              },
              "fromcurrent": true,
              "mode": "immediate",
              "transition": {
               "duration": 0,
               "easing": "linear"
              }
             }
            ],
            "label": "109",
            "method": "animate"
           },
           {
            "args": [
             [
              "110"
             ],
             {
              "frame": {
               "duration": 0,
               "redraw": false
              },
              "fromcurrent": true,
              "mode": "immediate",
              "transition": {
               "duration": 0,
               "easing": "linear"
              }
             }
            ],
            "label": "110",
            "method": "animate"
           },
           {
            "args": [
             [
              "111"
             ],
             {
              "frame": {
               "duration": 0,
               "redraw": false
              },
              "fromcurrent": true,
              "mode": "immediate",
              "transition": {
               "duration": 0,
               "easing": "linear"
              }
             }
            ],
            "label": "111",
            "method": "animate"
           },
           {
            "args": [
             [
              "112"
             ],
             {
              "frame": {
               "duration": 0,
               "redraw": false
              },
              "fromcurrent": true,
              "mode": "immediate",
              "transition": {
               "duration": 0,
               "easing": "linear"
              }
             }
            ],
            "label": "112",
            "method": "animate"
           },
           {
            "args": [
             [
              "113"
             ],
             {
              "frame": {
               "duration": 0,
               "redraw": false
              },
              "fromcurrent": true,
              "mode": "immediate",
              "transition": {
               "duration": 0,
               "easing": "linear"
              }
             }
            ],
            "label": "113",
            "method": "animate"
           },
           {
            "args": [
             [
              "114"
             ],
             {
              "frame": {
               "duration": 0,
               "redraw": false
              },
              "fromcurrent": true,
              "mode": "immediate",
              "transition": {
               "duration": 0,
               "easing": "linear"
              }
             }
            ],
            "label": "114",
            "method": "animate"
           },
           {
            "args": [
             [
              "115"
             ],
             {
              "frame": {
               "duration": 0,
               "redraw": false
              },
              "fromcurrent": true,
              "mode": "immediate",
              "transition": {
               "duration": 0,
               "easing": "linear"
              }
             }
            ],
            "label": "115",
            "method": "animate"
           },
           {
            "args": [
             [
              "116"
             ],
             {
              "frame": {
               "duration": 0,
               "redraw": false
              },
              "fromcurrent": true,
              "mode": "immediate",
              "transition": {
               "duration": 0,
               "easing": "linear"
              }
             }
            ],
            "label": "116",
            "method": "animate"
           },
           {
            "args": [
             [
              "117"
             ],
             {
              "frame": {
               "duration": 0,
               "redraw": false
              },
              "fromcurrent": true,
              "mode": "immediate",
              "transition": {
               "duration": 0,
               "easing": "linear"
              }
             }
            ],
            "label": "117",
            "method": "animate"
           },
           {
            "args": [
             [
              "118"
             ],
             {
              "frame": {
               "duration": 0,
               "redraw": false
              },
              "fromcurrent": true,
              "mode": "immediate",
              "transition": {
               "duration": 0,
               "easing": "linear"
              }
             }
            ],
            "label": "118",
            "method": "animate"
           },
           {
            "args": [
             [
              "119"
             ],
             {
              "frame": {
               "duration": 0,
               "redraw": false
              },
              "fromcurrent": true,
              "mode": "immediate",
              "transition": {
               "duration": 0,
               "easing": "linear"
              }
             }
            ],
            "label": "119",
            "method": "animate"
           },
           {
            "args": [
             [
              "120"
             ],
             {
              "frame": {
               "duration": 0,
               "redraw": false
              },
              "fromcurrent": true,
              "mode": "immediate",
              "transition": {
               "duration": 0,
               "easing": "linear"
              }
             }
            ],
            "label": "120",
            "method": "animate"
           },
           {
            "args": [
             [
              "121"
             ],
             {
              "frame": {
               "duration": 0,
               "redraw": false
              },
              "fromcurrent": true,
              "mode": "immediate",
              "transition": {
               "duration": 0,
               "easing": "linear"
              }
             }
            ],
            "label": "121",
            "method": "animate"
           },
           {
            "args": [
             [
              "122"
             ],
             {
              "frame": {
               "duration": 0,
               "redraw": false
              },
              "fromcurrent": true,
              "mode": "immediate",
              "transition": {
               "duration": 0,
               "easing": "linear"
              }
             }
            ],
            "label": "122",
            "method": "animate"
           },
           {
            "args": [
             [
              "123"
             ],
             {
              "frame": {
               "duration": 0,
               "redraw": false
              },
              "fromcurrent": true,
              "mode": "immediate",
              "transition": {
               "duration": 0,
               "easing": "linear"
              }
             }
            ],
            "label": "123",
            "method": "animate"
           },
           {
            "args": [
             [
              "124"
             ],
             {
              "frame": {
               "duration": 0,
               "redraw": false
              },
              "fromcurrent": true,
              "mode": "immediate",
              "transition": {
               "duration": 0,
               "easing": "linear"
              }
             }
            ],
            "label": "124",
            "method": "animate"
           },
           {
            "args": [
             [
              "125"
             ],
             {
              "frame": {
               "duration": 0,
               "redraw": false
              },
              "fromcurrent": true,
              "mode": "immediate",
              "transition": {
               "duration": 0,
               "easing": "linear"
              }
             }
            ],
            "label": "125",
            "method": "animate"
           },
           {
            "args": [
             [
              "126"
             ],
             {
              "frame": {
               "duration": 0,
               "redraw": false
              },
              "fromcurrent": true,
              "mode": "immediate",
              "transition": {
               "duration": 0,
               "easing": "linear"
              }
             }
            ],
            "label": "126",
            "method": "animate"
           },
           {
            "args": [
             [
              "127"
             ],
             {
              "frame": {
               "duration": 0,
               "redraw": false
              },
              "fromcurrent": true,
              "mode": "immediate",
              "transition": {
               "duration": 0,
               "easing": "linear"
              }
             }
            ],
            "label": "127",
            "method": "animate"
           },
           {
            "args": [
             [
              "128"
             ],
             {
              "frame": {
               "duration": 0,
               "redraw": false
              },
              "fromcurrent": true,
              "mode": "immediate",
              "transition": {
               "duration": 0,
               "easing": "linear"
              }
             }
            ],
            "label": "128",
            "method": "animate"
           },
           {
            "args": [
             [
              "129"
             ],
             {
              "frame": {
               "duration": 0,
               "redraw": false
              },
              "fromcurrent": true,
              "mode": "immediate",
              "transition": {
               "duration": 0,
               "easing": "linear"
              }
             }
            ],
            "label": "129",
            "method": "animate"
           },
           {
            "args": [
             [
              "130"
             ],
             {
              "frame": {
               "duration": 0,
               "redraw": false
              },
              "fromcurrent": true,
              "mode": "immediate",
              "transition": {
               "duration": 0,
               "easing": "linear"
              }
             }
            ],
            "label": "130",
            "method": "animate"
           },
           {
            "args": [
             [
              "131"
             ],
             {
              "frame": {
               "duration": 0,
               "redraw": false
              },
              "fromcurrent": true,
              "mode": "immediate",
              "transition": {
               "duration": 0,
               "easing": "linear"
              }
             }
            ],
            "label": "131",
            "method": "animate"
           },
           {
            "args": [
             [
              "132"
             ],
             {
              "frame": {
               "duration": 0,
               "redraw": false
              },
              "fromcurrent": true,
              "mode": "immediate",
              "transition": {
               "duration": 0,
               "easing": "linear"
              }
             }
            ],
            "label": "132",
            "method": "animate"
           },
           {
            "args": [
             [
              "133"
             ],
             {
              "frame": {
               "duration": 0,
               "redraw": false
              },
              "fromcurrent": true,
              "mode": "immediate",
              "transition": {
               "duration": 0,
               "easing": "linear"
              }
             }
            ],
            "label": "133",
            "method": "animate"
           },
           {
            "args": [
             [
              "134"
             ],
             {
              "frame": {
               "duration": 0,
               "redraw": false
              },
              "fromcurrent": true,
              "mode": "immediate",
              "transition": {
               "duration": 0,
               "easing": "linear"
              }
             }
            ],
            "label": "134",
            "method": "animate"
           },
           {
            "args": [
             [
              "135"
             ],
             {
              "frame": {
               "duration": 0,
               "redraw": false
              },
              "fromcurrent": true,
              "mode": "immediate",
              "transition": {
               "duration": 0,
               "easing": "linear"
              }
             }
            ],
            "label": "135",
            "method": "animate"
           },
           {
            "args": [
             [
              "136"
             ],
             {
              "frame": {
               "duration": 0,
               "redraw": false
              },
              "fromcurrent": true,
              "mode": "immediate",
              "transition": {
               "duration": 0,
               "easing": "linear"
              }
             }
            ],
            "label": "136",
            "method": "animate"
           },
           {
            "args": [
             [
              "137"
             ],
             {
              "frame": {
               "duration": 0,
               "redraw": false
              },
              "fromcurrent": true,
              "mode": "immediate",
              "transition": {
               "duration": 0,
               "easing": "linear"
              }
             }
            ],
            "label": "137",
            "method": "animate"
           },
           {
            "args": [
             [
              "138"
             ],
             {
              "frame": {
               "duration": 0,
               "redraw": false
              },
              "fromcurrent": true,
              "mode": "immediate",
              "transition": {
               "duration": 0,
               "easing": "linear"
              }
             }
            ],
            "label": "138",
            "method": "animate"
           },
           {
            "args": [
             [
              "139"
             ],
             {
              "frame": {
               "duration": 0,
               "redraw": false
              },
              "fromcurrent": true,
              "mode": "immediate",
              "transition": {
               "duration": 0,
               "easing": "linear"
              }
             }
            ],
            "label": "139",
            "method": "animate"
           },
           {
            "args": [
             [
              "140"
             ],
             {
              "frame": {
               "duration": 0,
               "redraw": false
              },
              "fromcurrent": true,
              "mode": "immediate",
              "transition": {
               "duration": 0,
               "easing": "linear"
              }
             }
            ],
            "label": "140",
            "method": "animate"
           },
           {
            "args": [
             [
              "141"
             ],
             {
              "frame": {
               "duration": 0,
               "redraw": false
              },
              "fromcurrent": true,
              "mode": "immediate",
              "transition": {
               "duration": 0,
               "easing": "linear"
              }
             }
            ],
            "label": "141",
            "method": "animate"
           },
           {
            "args": [
             [
              "142"
             ],
             {
              "frame": {
               "duration": 0,
               "redraw": false
              },
              "fromcurrent": true,
              "mode": "immediate",
              "transition": {
               "duration": 0,
               "easing": "linear"
              }
             }
            ],
            "label": "142",
            "method": "animate"
           },
           {
            "args": [
             [
              "143"
             ],
             {
              "frame": {
               "duration": 0,
               "redraw": false
              },
              "fromcurrent": true,
              "mode": "immediate",
              "transition": {
               "duration": 0,
               "easing": "linear"
              }
             }
            ],
            "label": "143",
            "method": "animate"
           },
           {
            "args": [
             [
              "144"
             ],
             {
              "frame": {
               "duration": 0,
               "redraw": false
              },
              "fromcurrent": true,
              "mode": "immediate",
              "transition": {
               "duration": 0,
               "easing": "linear"
              }
             }
            ],
            "label": "144",
            "method": "animate"
           },
           {
            "args": [
             [
              "145"
             ],
             {
              "frame": {
               "duration": 0,
               "redraw": false
              },
              "fromcurrent": true,
              "mode": "immediate",
              "transition": {
               "duration": 0,
               "easing": "linear"
              }
             }
            ],
            "label": "145",
            "method": "animate"
           },
           {
            "args": [
             [
              "146"
             ],
             {
              "frame": {
               "duration": 0,
               "redraw": false
              },
              "fromcurrent": true,
              "mode": "immediate",
              "transition": {
               "duration": 0,
               "easing": "linear"
              }
             }
            ],
            "label": "146",
            "method": "animate"
           },
           {
            "args": [
             [
              "147"
             ],
             {
              "frame": {
               "duration": 0,
               "redraw": false
              },
              "fromcurrent": true,
              "mode": "immediate",
              "transition": {
               "duration": 0,
               "easing": "linear"
              }
             }
            ],
            "label": "147",
            "method": "animate"
           },
           {
            "args": [
             [
              "148"
             ],
             {
              "frame": {
               "duration": 0,
               "redraw": false
              },
              "fromcurrent": true,
              "mode": "immediate",
              "transition": {
               "duration": 0,
               "easing": "linear"
              }
             }
            ],
            "label": "148",
            "method": "animate"
           },
           {
            "args": [
             [
              "149"
             ],
             {
              "frame": {
               "duration": 0,
               "redraw": false
              },
              "fromcurrent": true,
              "mode": "immediate",
              "transition": {
               "duration": 0,
               "easing": "linear"
              }
             }
            ],
            "label": "149",
            "method": "animate"
           },
           {
            "args": [
             [
              "150"
             ],
             {
              "frame": {
               "duration": 0,
               "redraw": false
              },
              "fromcurrent": true,
              "mode": "immediate",
              "transition": {
               "duration": 0,
               "easing": "linear"
              }
             }
            ],
            "label": "150",
            "method": "animate"
           },
           {
            "args": [
             [
              "151"
             ],
             {
              "frame": {
               "duration": 0,
               "redraw": false
              },
              "fromcurrent": true,
              "mode": "immediate",
              "transition": {
               "duration": 0,
               "easing": "linear"
              }
             }
            ],
            "label": "151",
            "method": "animate"
           },
           {
            "args": [
             [
              "152"
             ],
             {
              "frame": {
               "duration": 0,
               "redraw": false
              },
              "fromcurrent": true,
              "mode": "immediate",
              "transition": {
               "duration": 0,
               "easing": "linear"
              }
             }
            ],
            "label": "152",
            "method": "animate"
           },
           {
            "args": [
             [
              "153"
             ],
             {
              "frame": {
               "duration": 0,
               "redraw": false
              },
              "fromcurrent": true,
              "mode": "immediate",
              "transition": {
               "duration": 0,
               "easing": "linear"
              }
             }
            ],
            "label": "153",
            "method": "animate"
           },
           {
            "args": [
             [
              "154"
             ],
             {
              "frame": {
               "duration": 0,
               "redraw": false
              },
              "fromcurrent": true,
              "mode": "immediate",
              "transition": {
               "duration": 0,
               "easing": "linear"
              }
             }
            ],
            "label": "154",
            "method": "animate"
           },
           {
            "args": [
             [
              "155"
             ],
             {
              "frame": {
               "duration": 0,
               "redraw": false
              },
              "fromcurrent": true,
              "mode": "immediate",
              "transition": {
               "duration": 0,
               "easing": "linear"
              }
             }
            ],
            "label": "155",
            "method": "animate"
           },
           {
            "args": [
             [
              "156"
             ],
             {
              "frame": {
               "duration": 0,
               "redraw": false
              },
              "fromcurrent": true,
              "mode": "immediate",
              "transition": {
               "duration": 0,
               "easing": "linear"
              }
             }
            ],
            "label": "156",
            "method": "animate"
           },
           {
            "args": [
             [
              "157"
             ],
             {
              "frame": {
               "duration": 0,
               "redraw": false
              },
              "fromcurrent": true,
              "mode": "immediate",
              "transition": {
               "duration": 0,
               "easing": "linear"
              }
             }
            ],
            "label": "157",
            "method": "animate"
           },
           {
            "args": [
             [
              "158"
             ],
             {
              "frame": {
               "duration": 0,
               "redraw": false
              },
              "fromcurrent": true,
              "mode": "immediate",
              "transition": {
               "duration": 0,
               "easing": "linear"
              }
             }
            ],
            "label": "158",
            "method": "animate"
           },
           {
            "args": [
             [
              "159"
             ],
             {
              "frame": {
               "duration": 0,
               "redraw": false
              },
              "fromcurrent": true,
              "mode": "immediate",
              "transition": {
               "duration": 0,
               "easing": "linear"
              }
             }
            ],
            "label": "159",
            "method": "animate"
           },
           {
            "args": [
             [
              "160"
             ],
             {
              "frame": {
               "duration": 0,
               "redraw": false
              },
              "fromcurrent": true,
              "mode": "immediate",
              "transition": {
               "duration": 0,
               "easing": "linear"
              }
             }
            ],
            "label": "160",
            "method": "animate"
           },
           {
            "args": [
             [
              "161"
             ],
             {
              "frame": {
               "duration": 0,
               "redraw": false
              },
              "fromcurrent": true,
              "mode": "immediate",
              "transition": {
               "duration": 0,
               "easing": "linear"
              }
             }
            ],
            "label": "161",
            "method": "animate"
           },
           {
            "args": [
             [
              "162"
             ],
             {
              "frame": {
               "duration": 0,
               "redraw": false
              },
              "fromcurrent": true,
              "mode": "immediate",
              "transition": {
               "duration": 0,
               "easing": "linear"
              }
             }
            ],
            "label": "162",
            "method": "animate"
           },
           {
            "args": [
             [
              "163"
             ],
             {
              "frame": {
               "duration": 0,
               "redraw": false
              },
              "fromcurrent": true,
              "mode": "immediate",
              "transition": {
               "duration": 0,
               "easing": "linear"
              }
             }
            ],
            "label": "163",
            "method": "animate"
           },
           {
            "args": [
             [
              "164"
             ],
             {
              "frame": {
               "duration": 0,
               "redraw": false
              },
              "fromcurrent": true,
              "mode": "immediate",
              "transition": {
               "duration": 0,
               "easing": "linear"
              }
             }
            ],
            "label": "164",
            "method": "animate"
           },
           {
            "args": [
             [
              "165"
             ],
             {
              "frame": {
               "duration": 0,
               "redraw": false
              },
              "fromcurrent": true,
              "mode": "immediate",
              "transition": {
               "duration": 0,
               "easing": "linear"
              }
             }
            ],
            "label": "165",
            "method": "animate"
           },
           {
            "args": [
             [
              "166"
             ],
             {
              "frame": {
               "duration": 0,
               "redraw": false
              },
              "fromcurrent": true,
              "mode": "immediate",
              "transition": {
               "duration": 0,
               "easing": "linear"
              }
             }
            ],
            "label": "166",
            "method": "animate"
           },
           {
            "args": [
             [
              "167"
             ],
             {
              "frame": {
               "duration": 0,
               "redraw": false
              },
              "fromcurrent": true,
              "mode": "immediate",
              "transition": {
               "duration": 0,
               "easing": "linear"
              }
             }
            ],
            "label": "167",
            "method": "animate"
           },
           {
            "args": [
             [
              "168"
             ],
             {
              "frame": {
               "duration": 0,
               "redraw": false
              },
              "fromcurrent": true,
              "mode": "immediate",
              "transition": {
               "duration": 0,
               "easing": "linear"
              }
             }
            ],
            "label": "168",
            "method": "animate"
           },
           {
            "args": [
             [
              "169"
             ],
             {
              "frame": {
               "duration": 0,
               "redraw": false
              },
              "fromcurrent": true,
              "mode": "immediate",
              "transition": {
               "duration": 0,
               "easing": "linear"
              }
             }
            ],
            "label": "169",
            "method": "animate"
           },
           {
            "args": [
             [
              "170"
             ],
             {
              "frame": {
               "duration": 0,
               "redraw": false
              },
              "fromcurrent": true,
              "mode": "immediate",
              "transition": {
               "duration": 0,
               "easing": "linear"
              }
             }
            ],
            "label": "170",
            "method": "animate"
           },
           {
            "args": [
             [
              "171"
             ],
             {
              "frame": {
               "duration": 0,
               "redraw": false
              },
              "fromcurrent": true,
              "mode": "immediate",
              "transition": {
               "duration": 0,
               "easing": "linear"
              }
             }
            ],
            "label": "171",
            "method": "animate"
           },
           {
            "args": [
             [
              "172"
             ],
             {
              "frame": {
               "duration": 0,
               "redraw": false
              },
              "fromcurrent": true,
              "mode": "immediate",
              "transition": {
               "duration": 0,
               "easing": "linear"
              }
             }
            ],
            "label": "172",
            "method": "animate"
           },
           {
            "args": [
             [
              "173"
             ],
             {
              "frame": {
               "duration": 0,
               "redraw": false
              },
              "fromcurrent": true,
              "mode": "immediate",
              "transition": {
               "duration": 0,
               "easing": "linear"
              }
             }
            ],
            "label": "173",
            "method": "animate"
           },
           {
            "args": [
             [
              "174"
             ],
             {
              "frame": {
               "duration": 0,
               "redraw": false
              },
              "fromcurrent": true,
              "mode": "immediate",
              "transition": {
               "duration": 0,
               "easing": "linear"
              }
             }
            ],
            "label": "174",
            "method": "animate"
           },
           {
            "args": [
             [
              "175"
             ],
             {
              "frame": {
               "duration": 0,
               "redraw": false
              },
              "fromcurrent": true,
              "mode": "immediate",
              "transition": {
               "duration": 0,
               "easing": "linear"
              }
             }
            ],
            "label": "175",
            "method": "animate"
           },
           {
            "args": [
             [
              "176"
             ],
             {
              "frame": {
               "duration": 0,
               "redraw": false
              },
              "fromcurrent": true,
              "mode": "immediate",
              "transition": {
               "duration": 0,
               "easing": "linear"
              }
             }
            ],
            "label": "176",
            "method": "animate"
           },
           {
            "args": [
             [
              "177"
             ],
             {
              "frame": {
               "duration": 0,
               "redraw": false
              },
              "fromcurrent": true,
              "mode": "immediate",
              "transition": {
               "duration": 0,
               "easing": "linear"
              }
             }
            ],
            "label": "177",
            "method": "animate"
           },
           {
            "args": [
             [
              "178"
             ],
             {
              "frame": {
               "duration": 0,
               "redraw": false
              },
              "fromcurrent": true,
              "mode": "immediate",
              "transition": {
               "duration": 0,
               "easing": "linear"
              }
             }
            ],
            "label": "178",
            "method": "animate"
           },
           {
            "args": [
             [
              "179"
             ],
             {
              "frame": {
               "duration": 0,
               "redraw": false
              },
              "fromcurrent": true,
              "mode": "immediate",
              "transition": {
               "duration": 0,
               "easing": "linear"
              }
             }
            ],
            "label": "179",
            "method": "animate"
           },
           {
            "args": [
             [
              "180"
             ],
             {
              "frame": {
               "duration": 0,
               "redraw": false
              },
              "fromcurrent": true,
              "mode": "immediate",
              "transition": {
               "duration": 0,
               "easing": "linear"
              }
             }
            ],
            "label": "180",
            "method": "animate"
           }
          ],
          "x": 0.1,
          "xanchor": "left",
          "y": 0,
          "yanchor": "top"
         }
        ],
        "template": {
         "data": {
          "bar": [
           {
            "error_x": {
             "color": "#f2f5fa"
            },
            "error_y": {
             "color": "#f2f5fa"
            },
            "marker": {
             "line": {
              "color": "rgb(17,17,17)",
              "width": 0.5
             },
             "pattern": {
              "fillmode": "overlay",
              "size": 10,
              "solidity": 0.2
             }
            },
            "type": "bar"
           }
          ],
          "barpolar": [
           {
            "marker": {
             "line": {
              "color": "rgb(17,17,17)",
              "width": 0.5
             },
             "pattern": {
              "fillmode": "overlay",
              "size": 10,
              "solidity": 0.2
             }
            },
            "type": "barpolar"
           }
          ],
          "carpet": [
           {
            "aaxis": {
             "endlinecolor": "#A2B1C6",
             "gridcolor": "#506784",
             "linecolor": "#506784",
             "minorgridcolor": "#506784",
             "startlinecolor": "#A2B1C6"
            },
            "baxis": {
             "endlinecolor": "#A2B1C6",
             "gridcolor": "#506784",
             "linecolor": "#506784",
             "minorgridcolor": "#506784",
             "startlinecolor": "#A2B1C6"
            },
            "type": "carpet"
           }
          ],
          "choropleth": [
           {
            "colorbar": {
             "outlinewidth": 0,
             "ticks": ""
            },
            "type": "choropleth"
           }
          ],
          "contour": [
           {
            "colorbar": {
             "outlinewidth": 0,
             "ticks": ""
            },
            "colorscale": [
             [
              0,
              "#0d0887"
             ],
             [
              0.1111111111111111,
              "#46039f"
             ],
             [
              0.2222222222222222,
              "#7201a8"
             ],
             [
              0.3333333333333333,
              "#9c179e"
             ],
             [
              0.4444444444444444,
              "#bd3786"
             ],
             [
              0.5555555555555556,
              "#d8576b"
             ],
             [
              0.6666666666666666,
              "#ed7953"
             ],
             [
              0.7777777777777778,
              "#fb9f3a"
             ],
             [
              0.8888888888888888,
              "#fdca26"
             ],
             [
              1,
              "#f0f921"
             ]
            ],
            "type": "contour"
           }
          ],
          "contourcarpet": [
           {
            "colorbar": {
             "outlinewidth": 0,
             "ticks": ""
            },
            "type": "contourcarpet"
           }
          ],
          "heatmap": [
           {
            "colorbar": {
             "outlinewidth": 0,
             "ticks": ""
            },
            "colorscale": [
             [
              0,
              "#0d0887"
             ],
             [
              0.1111111111111111,
              "#46039f"
             ],
             [
              0.2222222222222222,
              "#7201a8"
             ],
             [
              0.3333333333333333,
              "#9c179e"
             ],
             [
              0.4444444444444444,
              "#bd3786"
             ],
             [
              0.5555555555555556,
              "#d8576b"
             ],
             [
              0.6666666666666666,
              "#ed7953"
             ],
             [
              0.7777777777777778,
              "#fb9f3a"
             ],
             [
              0.8888888888888888,
              "#fdca26"
             ],
             [
              1,
              "#f0f921"
             ]
            ],
            "type": "heatmap"
           }
          ],
          "heatmapgl": [
           {
            "colorbar": {
             "outlinewidth": 0,
             "ticks": ""
            },
            "colorscale": [
             [
              0,
              "#0d0887"
             ],
             [
              0.1111111111111111,
              "#46039f"
             ],
             [
              0.2222222222222222,
              "#7201a8"
             ],
             [
              0.3333333333333333,
              "#9c179e"
             ],
             [
              0.4444444444444444,
              "#bd3786"
             ],
             [
              0.5555555555555556,
              "#d8576b"
             ],
             [
              0.6666666666666666,
              "#ed7953"
             ],
             [
              0.7777777777777778,
              "#fb9f3a"
             ],
             [
              0.8888888888888888,
              "#fdca26"
             ],
             [
              1,
              "#f0f921"
             ]
            ],
            "type": "heatmapgl"
           }
          ],
          "histogram": [
           {
            "marker": {
             "pattern": {
              "fillmode": "overlay",
              "size": 10,
              "solidity": 0.2
             }
            },
            "type": "histogram"
           }
          ],
          "histogram2d": [
           {
            "colorbar": {
             "outlinewidth": 0,
             "ticks": ""
            },
            "colorscale": [
             [
              0,
              "#0d0887"
             ],
             [
              0.1111111111111111,
              "#46039f"
             ],
             [
              0.2222222222222222,
              "#7201a8"
             ],
             [
              0.3333333333333333,
              "#9c179e"
             ],
             [
              0.4444444444444444,
              "#bd3786"
             ],
             [
              0.5555555555555556,
              "#d8576b"
             ],
             [
              0.6666666666666666,
              "#ed7953"
             ],
             [
              0.7777777777777778,
              "#fb9f3a"
             ],
             [
              0.8888888888888888,
              "#fdca26"
             ],
             [
              1,
              "#f0f921"
             ]
            ],
            "type": "histogram2d"
           }
          ],
          "histogram2dcontour": [
           {
            "colorbar": {
             "outlinewidth": 0,
             "ticks": ""
            },
            "colorscale": [
             [
              0,
              "#0d0887"
             ],
             [
              0.1111111111111111,
              "#46039f"
             ],
             [
              0.2222222222222222,
              "#7201a8"
             ],
             [
              0.3333333333333333,
              "#9c179e"
             ],
             [
              0.4444444444444444,
              "#bd3786"
             ],
             [
              0.5555555555555556,
              "#d8576b"
             ],
             [
              0.6666666666666666,
              "#ed7953"
             ],
             [
              0.7777777777777778,
              "#fb9f3a"
             ],
             [
              0.8888888888888888,
              "#fdca26"
             ],
             [
              1,
              "#f0f921"
             ]
            ],
            "type": "histogram2dcontour"
           }
          ],
          "mesh3d": [
           {
            "colorbar": {
             "outlinewidth": 0,
             "ticks": ""
            },
            "type": "mesh3d"
           }
          ],
          "parcoords": [
           {
            "line": {
             "colorbar": {
              "outlinewidth": 0,
              "ticks": ""
             }
            },
            "type": "parcoords"
           }
          ],
          "pie": [
           {
            "automargin": true,
            "type": "pie"
           }
          ],
          "scatter": [
           {
            "marker": {
             "line": {
              "color": "#283442"
             }
            },
            "type": "scatter"
           }
          ],
          "scatter3d": [
           {
            "line": {
             "colorbar": {
              "outlinewidth": 0,
              "ticks": ""
             }
            },
            "marker": {
             "colorbar": {
              "outlinewidth": 0,
              "ticks": ""
             }
            },
            "type": "scatter3d"
           }
          ],
          "scattercarpet": [
           {
            "marker": {
             "colorbar": {
              "outlinewidth": 0,
              "ticks": ""
             }
            },
            "type": "scattercarpet"
           }
          ],
          "scattergeo": [
           {
            "marker": {
             "colorbar": {
              "outlinewidth": 0,
              "ticks": ""
             }
            },
            "type": "scattergeo"
           }
          ],
          "scattergl": [
           {
            "marker": {
             "line": {
              "color": "#283442"
             }
            },
            "type": "scattergl"
           }
          ],
          "scattermapbox": [
           {
            "marker": {
             "colorbar": {
              "outlinewidth": 0,
              "ticks": ""
             }
            },
            "type": "scattermapbox"
           }
          ],
          "scatterpolar": [
           {
            "marker": {
             "colorbar": {
              "outlinewidth": 0,
              "ticks": ""
             }
            },
            "type": "scatterpolar"
           }
          ],
          "scatterpolargl": [
           {
            "marker": {
             "colorbar": {
              "outlinewidth": 0,
              "ticks": ""
             }
            },
            "type": "scatterpolargl"
           }
          ],
          "scatterternary": [
           {
            "marker": {
             "colorbar": {
              "outlinewidth": 0,
              "ticks": ""
             }
            },
            "type": "scatterternary"
           }
          ],
          "surface": [
           {
            "colorbar": {
             "outlinewidth": 0,
             "ticks": ""
            },
            "colorscale": [
             [
              0,
              "#0d0887"
             ],
             [
              0.1111111111111111,
              "#46039f"
             ],
             [
              0.2222222222222222,
              "#7201a8"
             ],
             [
              0.3333333333333333,
              "#9c179e"
             ],
             [
              0.4444444444444444,
              "#bd3786"
             ],
             [
              0.5555555555555556,
              "#d8576b"
             ],
             [
              0.6666666666666666,
              "#ed7953"
             ],
             [
              0.7777777777777778,
              "#fb9f3a"
             ],
             [
              0.8888888888888888,
              "#fdca26"
             ],
             [
              1,
              "#f0f921"
             ]
            ],
            "type": "surface"
           }
          ],
          "table": [
           {
            "cells": {
             "fill": {
              "color": "#506784"
             },
             "line": {
              "color": "rgb(17,17,17)"
             }
            },
            "header": {
             "fill": {
              "color": "#2a3f5f"
             },
             "line": {
              "color": "rgb(17,17,17)"
             }
            },
            "type": "table"
           }
          ]
         },
         "layout": {
          "annotationdefaults": {
           "arrowcolor": "#f2f5fa",
           "arrowhead": 0,
           "arrowwidth": 1
          },
          "autotypenumbers": "strict",
          "coloraxis": {
           "colorbar": {
            "outlinewidth": 0,
            "ticks": ""
           }
          },
          "colorscale": {
           "diverging": [
            [
             0,
             "#8e0152"
            ],
            [
             0.1,
             "#c51b7d"
            ],
            [
             0.2,
             "#de77ae"
            ],
            [
             0.3,
             "#f1b6da"
            ],
            [
             0.4,
             "#fde0ef"
            ],
            [
             0.5,
             "#f7f7f7"
            ],
            [
             0.6,
             "#e6f5d0"
            ],
            [
             0.7,
             "#b8e186"
            ],
            [
             0.8,
             "#7fbc41"
            ],
            [
             0.9,
             "#4d9221"
            ],
            [
             1,
             "#276419"
            ]
           ],
           "sequential": [
            [
             0,
             "#0d0887"
            ],
            [
             0.1111111111111111,
             "#46039f"
            ],
            [
             0.2222222222222222,
             "#7201a8"
            ],
            [
             0.3333333333333333,
             "#9c179e"
            ],
            [
             0.4444444444444444,
             "#bd3786"
            ],
            [
             0.5555555555555556,
             "#d8576b"
            ],
            [
             0.6666666666666666,
             "#ed7953"
            ],
            [
             0.7777777777777778,
             "#fb9f3a"
            ],
            [
             0.8888888888888888,
             "#fdca26"
            ],
            [
             1,
             "#f0f921"
            ]
           ],
           "sequentialminus": [
            [
             0,
             "#0d0887"
            ],
            [
             0.1111111111111111,
             "#46039f"
            ],
            [
             0.2222222222222222,
             "#7201a8"
            ],
            [
             0.3333333333333333,
             "#9c179e"
            ],
            [
             0.4444444444444444,
             "#bd3786"
            ],
            [
             0.5555555555555556,
             "#d8576b"
            ],
            [
             0.6666666666666666,
             "#ed7953"
            ],
            [
             0.7777777777777778,
             "#fb9f3a"
            ],
            [
             0.8888888888888888,
             "#fdca26"
            ],
            [
             1,
             "#f0f921"
            ]
           ]
          },
          "colorway": [
           "#636efa",
           "#EF553B",
           "#00cc96",
           "#ab63fa",
           "#FFA15A",
           "#19d3f3",
           "#FF6692",
           "#B6E880",
           "#FF97FF",
           "#FECB52"
          ],
          "font": {
           "color": "#f2f5fa"
          },
          "geo": {
           "bgcolor": "rgb(17,17,17)",
           "lakecolor": "rgb(17,17,17)",
           "landcolor": "rgb(17,17,17)",
           "showlakes": true,
           "showland": true,
           "subunitcolor": "#506784"
          },
          "hoverlabel": {
           "align": "left"
          },
          "hovermode": "closest",
          "mapbox": {
           "style": "dark"
          },
          "paper_bgcolor": "rgb(17,17,17)",
          "plot_bgcolor": "rgb(17,17,17)",
          "polar": {
           "angularaxis": {
            "gridcolor": "#506784",
            "linecolor": "#506784",
            "ticks": ""
           },
           "bgcolor": "rgb(17,17,17)",
           "radialaxis": {
            "gridcolor": "#506784",
            "linecolor": "#506784",
            "ticks": ""
           }
          },
          "scene": {
           "xaxis": {
            "backgroundcolor": "rgb(17,17,17)",
            "gridcolor": "#506784",
            "gridwidth": 2,
            "linecolor": "#506784",
            "showbackground": true,
            "ticks": "",
            "zerolinecolor": "#C8D4E3"
           },
           "yaxis": {
            "backgroundcolor": "rgb(17,17,17)",
            "gridcolor": "#506784",
            "gridwidth": 2,
            "linecolor": "#506784",
            "showbackground": true,
            "ticks": "",
            "zerolinecolor": "#C8D4E3"
           },
           "zaxis": {
            "backgroundcolor": "rgb(17,17,17)",
            "gridcolor": "#506784",
            "gridwidth": 2,
            "linecolor": "#506784",
            "showbackground": true,
            "ticks": "",
            "zerolinecolor": "#C8D4E3"
           }
          },
          "shapedefaults": {
           "line": {
            "color": "#f2f5fa"
           }
          },
          "sliderdefaults": {
           "bgcolor": "#C8D4E3",
           "bordercolor": "rgb(17,17,17)",
           "borderwidth": 1,
           "tickwidth": 0
          },
          "ternary": {
           "aaxis": {
            "gridcolor": "#506784",
            "linecolor": "#506784",
            "ticks": ""
           },
           "baxis": {
            "gridcolor": "#506784",
            "linecolor": "#506784",
            "ticks": ""
           },
           "bgcolor": "rgb(17,17,17)",
           "caxis": {
            "gridcolor": "#506784",
            "linecolor": "#506784",
            "ticks": ""
           }
          },
          "title": {
           "x": 0.05
          },
          "updatemenudefaults": {
           "bgcolor": "#506784",
           "borderwidth": 0
          },
          "xaxis": {
           "automargin": true,
           "gridcolor": "#283442",
           "linecolor": "#506784",
           "ticks": "",
           "title": {
            "standoff": 15
           },
           "zerolinecolor": "#283442",
           "zerolinewidth": 2
          },
          "yaxis": {
           "automargin": true,
           "gridcolor": "#283442",
           "linecolor": "#506784",
           "ticks": "",
           "title": {
            "standoff": 15
           },
           "zerolinecolor": "#283442",
           "zerolinewidth": 2
          }
         }
        },
        "updatemenus": [
         {
          "buttons": [
           {
            "args": [
             null,
             {
              "frame": {
               "duration": 500,
               "redraw": false
              },
              "fromcurrent": true,
              "mode": "immediate",
              "transition": {
               "duration": 0,
               "easing": "linear"
              }
             }
            ],
            "label": "&#9654;",
            "method": "animate"
           },
           {
            "args": [
             [
              null
             ],
             {
              "frame": {
               "duration": 0,
               "redraw": false
              },
              "fromcurrent": true,
              "mode": "immediate",
              "transition": {
               "duration": 0,
               "easing": "linear"
              }
             }
            ],
            "label": "&#9724;",
            "method": "animate"
           }
          ],
          "direction": "left",
          "pad": {
           "r": 10,
           "t": 70
          },
          "showactive": false,
          "type": "buttons",
          "x": 0.1,
          "xanchor": "right",
          "y": 0,
          "yanchor": "top"
         }
        ],
        "width": 600,
        "xaxis": {
         "anchor": "y",
         "domain": [
          0,
          1
         ],
         "range": [
          -1,
          199
         ],
         "showgrid": false,
         "showticklabels": false,
         "ticks": "",
         "title": {
          "text": ""
         },
         "zeroline": false
        },
        "yaxis": {
         "anchor": "x",
         "domain": [
          0,
          1
         ],
         "range": [
          -1,
          199
         ],
         "showgrid": false,
         "showticklabels": false,
         "ticks": "",
         "title": {
          "text": ""
         },
         "zeroline": false
        }
       }
      }
     },
     "metadata": {},
     "output_type": "display_data"
    }
   ],
   "source": [
    "ft.animate_birds(loc, plot_rewards=False, width=600, height=600, point_size=10)\n"
   ]
  }
 ],
 "metadata": {
  "kernelspec": {
   "display_name": "chirho",
   "language": "python",
   "name": "python3"
  },
  "language_info": {
   "codemirror_mode": {
    "name": "ipython",
    "version": 3
   },
   "file_extension": ".py",
   "mimetype": "text/x-python",
   "name": "python",
   "nbconvert_exporter": "python",
   "pygments_lexer": "ipython3",
   "version": "3.11.4"
  },
  "orig_nbformat": 4
 },
 "nbformat": 4,
 "nbformat_minor": 2
}
