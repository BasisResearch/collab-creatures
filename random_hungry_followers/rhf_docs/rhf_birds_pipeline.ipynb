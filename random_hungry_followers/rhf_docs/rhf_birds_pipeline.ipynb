{
 "cells": [
  {
   "cell_type": "code",
   "execution_count": 1,
   "metadata": {},
   "outputs": [],
   "source": [
    "import sys\n",
    "sys.path.insert(0, \"..\")\n",
    "\n",
    "import random\n",
    "import numpy as np\n",
    "import plotly.express as px\n",
    "import plotly.graph_objects as go\n",
    "import pandas as pd\n",
    "import random\n",
    "import matplotlib.pyplot as plt\n",
    "import seaborn as sns\n",
    "\n",
    "import torch\n",
    "import pyro\n",
    "import foraging_toolkit as ft\n",
    "import torch.nn.functional as F\n",
    "import pyro.distributions as dist\n",
    "import pyro.optim as optim\n",
    "from pyro.nn import PyroModule\n",
    "from pyro.infer.autoguide import AutoNormal, AutoDiagonalNormal, AutoMultivariateNormal, init_to_mean, init_to_value\n",
    "from pyro.contrib.autoguide import AutoLaplaceApproximation\n",
    "from pyro.infer import SVI, Trace_ELBO\n",
    "from pyro.optim import Adam\n",
    "from pyro.infer import Predictive\n",
    "from pyro.infer import MCMC, NUTS\n",
    "\n",
    "import os\n",
    "import logging\n",
    "logging.basicConfig(format='%(message)s', level=logging.INFO)\n",
    "smoke_test = ('CI' in os.environ)\n",
    "\n",
    "\n",
    "import foraging_toolkit as ft"
   ]
  },
  {
   "cell_type": "markdown",
   "metadata": {},
   "source": [
    "## Random birds"
   ]
  },
  {
   "cell_type": "markdown",
   "metadata": {},
   "source": [
    "### Running a simulation"
   ]
  },
  {
   "cell_type": "code",
   "execution_count": 2,
   "metadata": {},
   "outputs": [
    {
     "name": "stdout",
     "output_type": "stream",
     "text": [
      "      x     y bird  time\n",
      "0  19.0  21.0    1     1\n",
      "1  15.0  21.0    1     2\n",
      "2  16.0  18.0    1     3\n",
      "3  15.0  18.0    1     4\n",
      "4  14.0  16.0    1     5\n",
      "5  12.0  18.0    1     6\n",
      "6  10.0  21.0    1     7\n",
      "7  11.0  21.0    1     8\n",
      "8   9.0  24.0    1     9\n",
      "9   7.0  21.0    1    10\n",
      "0  20.0  19.0    2     1\n",
      "1  17.0  17.0    2     2\n",
      "2  16.0  18.0    2     3\n",
      "3  13.0  18.0    2     4\n",
      "4  10.0  18.0    2     5\n",
      "5  11.0  17.0    2     6\n",
      "6   9.0  19.0    2     7\n",
      "7   6.0  20.0    2     8\n",
      "8   4.0  17.0    2     9\n",
      "9   2.0  19.0    2    10\n",
      "0  24.0  21.0    3     1\n",
      "1  24.0  18.0    3     2\n",
      "2  27.0  17.0    3     3\n",
      "3  25.0  20.0    3     4\n",
      "4  26.0  19.0    3     5\n",
      "5  25.0  15.0    3     6\n",
      "6  24.0  13.0    3     7\n",
      "7  26.0  10.0    3     8\n",
      "8  27.0  14.0    3     9\n",
      "9  31.0  18.0    3    10\n"
     ]
    }
   ],
   "source": [
    "random.seed(2)\n",
    "np.random.seed(2)\n",
    "# generate a simulation object with fixed \n",
    "# simulation parameters\n",
    "random_birds = ft.RandomBirds(grid_size= 40,\n",
    "                        probabilities= [1, 2, 3, 2, 1, 2, 3, 2, 1],\n",
    "                        num_birds= 3,\n",
    "                        num_frames= 10,\n",
    "                        num_rewards= 15,\n",
    "                        grab_range= 3)\n",
    "\n",
    "#run a particular simulation with these parameters\n",
    "random_birds()\n",
    "print(random_birds.birdsDF)"
   ]
  },
  {
   "cell_type": "code",
   "execution_count": null,
   "metadata": {},
   "outputs": [],
   "source": [
    "# you have created birds and rewards in a space-time grid\n",
    "\n",
    "#each row contains the x and y coordinates of a bird at a particular time\n",
    "random_birds.birdsDF.head()"
   ]
  },
  {
   "cell_type": "code",
   "execution_count": null,
   "metadata": {},
   "outputs": [],
   "source": [
    "# each row contains the x and y coordinates of a reward at a particular time\n",
    "random_birds.rewardsDF.head()"
   ]
  },
  {
   "cell_type": "code",
   "execution_count": null,
   "metadata": {},
   "outputs": [],
   "source": [
    "# look at just the birds\n",
    "\n",
    "ft.animate_birds(random_birds, plot_rewards=True,\n",
    "                  width = 600, height = 600, point_size = 10)\n"
   ]
  },
  {
   "cell_type": "markdown",
   "metadata": {},
   "source": [
    "### Transformed data"
   ]
  },
  {
   "cell_type": "code",
   "execution_count": null,
   "metadata": {},
   "outputs": [],
   "source": [
    "# let's add transformed data\n",
    "\n",
    "rbirds_transformed = ft.transform_birds(random_birds)"
   ]
  },
  {
   "cell_type": "code",
   "execution_count": null,
   "metadata": {},
   "outputs": [],
   "source": [
    "# now we can plot food traces in time:\n",
    "\n",
    "ft.animate_birds(rbirds_transformed, plot_rewards=True, width = 600,\n",
    "                  height = 600, point_size = 10,plot_traces=True)"
   ]
  },
  {
   "cell_type": "code",
   "execution_count": null,
   "metadata": {},
   "outputs": [],
   "source": [
    "# we can also plot visibility, for one bird at a time\n",
    "# as multiple birds' visibility is hard to see \n",
    "# let's say, bird 2\n",
    "\n",
    "ft.animate_birds(rbirds_transformed, plot_rewards=True, width = 600,\n",
    "                  height = 600, point_size = 10, \n",
    "                  plot_visibility=2, plot_traces=True)\n"
   ]
  },
  {
   "cell_type": "code",
   "execution_count": null,
   "metadata": {},
   "outputs": [],
   "source": [
    "# we can plot proximity score\n",
    "# bird 2 again\n",
    "\n",
    "ft.animate_birds(rbirds_transformed, plot_rewards=True, width = 600,\n",
    "                  height = 600, point_size = 10, plot_proximity=2)"
   ]
  },
  {
   "cell_type": "markdown",
   "metadata": {},
   "source": [
    "### Inference\n"
   ]
  },
  {
   "cell_type": "code",
   "execution_count": null,
   "metadata": {},
   "outputs": [],
   "source": [
    "# prepare data\n",
    "\n",
    "df = rbirds_transformed.transformationsDF.dropna()\n",
    "\n",
    "data = torch.tensor(df[[\"proximity_standardized\",\n",
    "                         \"trace_standardized\", \n",
    "                         \"visibility\", \"how_far_squared_scaled\"]].values, dtype=torch.float32)\n",
    "\n",
    "prox, tr, vis, hf = data[:, 0], data[:, 1], data[:, 2], data[:, 3]"
   ]
  },
  {
   "cell_type": "code",
   "execution_count": null,
   "metadata": {},
   "outputs": [],
   "source": [
    "# visualise key predictors:\n",
    "\n",
    "ft.visualise_bird_predictors(tr, prox, hf)"
   ]
  },
  {
   "cell_type": "code",
   "execution_count": null,
   "metadata": {},
   "outputs": [],
   "source": [
    "#setting up the MCMC inference method\n",
    "\n",
    "def summary(samples):\n",
    "    site_stats = {}\n",
    "    for site_name, values in samples.items():\n",
    "        marginal_site = pd.DataFrame(values)\n",
    "        describe = marginal_site.describe(percentiles=[.05, 0.25, 0.5, 0.75, 0.95]).transpose()\n",
    "        site_stats[site_name] = describe[[\"mean\", \"std\", \"5%\", \"25%\", \"50%\", \"75%\", \"95%\"]]\n",
    "    return site_stats\n",
    "\n",
    "def mcmc_training(model, *args):\n",
    "    nuts_kernel = NUTS(model)\n",
    "    mcmc = MCMC(nuts_kernel, num_samples=1000, warmup_steps=400)\n",
    "    mcmc.run(*args)\n",
    "\n",
    "    hmc_samples = {k: v.detach().cpu().numpy() for k, v in mcmc.get_samples().items()}\n",
    "\n",
    "    for site, values in summary(hmc_samples).items():\n",
    "        if site in [\"t\",\"p\"]:\n",
    "            print(\"Site: {}\".format(site))\n",
    "            print(values, \"\\n\")\n",
    "\n",
    "    return hmc_samples"
   ]
  },
  {
   "cell_type": "code",
   "execution_count": null,
   "metadata": {},
   "outputs": [],
   "source": [
    "# define the model\n",
    "\n",
    "def model_sigmavar(prox, tr, vis, hf):\n",
    "    p = pyro.sample(\"p\", dist.Normal(0, .3))\n",
    "    t = pyro.sample(\"t\", dist.Normal(0, .3))\n",
    "    v = pyro.sample(\"v\", dist.Normal(0, .3))\n",
    "    b = pyro.sample(\"b\", dist.Normal(.5, .3))\n",
    "\n",
    "    ps = pyro.sample(\"ps\", dist.Normal(0, .3))\n",
    "    ts = pyro.sample(\"ts\", dist.Normal(0, .3))\n",
    "    vs = pyro.sample(\"vs\", dist.Normal(0, .3))\n",
    "    bs = pyro.sample(\"bs\", dist.Normal(.2, .3))\n",
    "\n",
    "\n",
    "    sigmaRaw = bs + ps * prox + ts * tr + vs * vis\n",
    "    sigma = pyro.deterministic(\"sigma\", F.softplus(sigmaRaw))\n",
    "    mean = b + p * prox + t * tr + v * vis\n",
    "\n",
    "    with pyro.plate(\"data\", len(hf)):\n",
    "        pyro.sample(\"obs\", dist.Normal(mean, sigma), obs=hf)\n",
    "\n",
    "pyro.render_model(model_sigmavar, model_args=(prox, tr, vis, hf),\n",
    "                        render_distributions=True)"
   ]
  },
  {
   "cell_type": "code",
   "execution_count": null,
   "metadata": {},
   "outputs": [],
   "source": [
    "# Inference with SVI\n",
    "# note how long this takes\n",
    "# and compare with MCM \n",
    "\n",
    "guide = AutoMultivariateNormal(model_sigmavar, init_loc_fn=init_to_mean)\n",
    "svi = SVI(model_sigmavar,\n",
    "        guide,\n",
    "        optim.Adam({\"lr\": .01}),\n",
    "        loss=Trace_ELBO())\n",
    "\n",
    "iterations = []\n",
    "losses = []\n",
    "\n",
    "pyro.clear_param_store()\n",
    "num_iters = 1000\n",
    "for i in range(num_iters):\n",
    "    elbo = svi.step(prox, tr, vis, hf)\n",
    "    iterations.append(i)\n",
    "    losses.append(elbo)\n",
    "    if i % 200 == 0:\n",
    "        logging.info(\"Elbo loss: {}\".format(elbo))\n"
   ]
  },
  {
   "cell_type": "code",
   "execution_count": null,
   "metadata": {},
   "outputs": [],
   "source": [
    "df = pd.DataFrame({'iterations': iterations, 'ELBO Loss': losses})\n",
    "\n",
    "fig = px.line(df, x='iterations', y='ELBO Loss')\n",
    "\n",
    "fig.update_layout(\n",
    "    title=\"ELBO Loss over iterations\",\n",
    "    xaxis_title=\"iterations\",\n",
    "    yaxis_title=\"ELBO Loss\",\n",
    "    template=\"plotly_dark\", \n",
    "    showlegend=False,  \n",
    "    xaxis_showgrid=False,\n",
    "    yaxis_showgrid=False,\n",
    ")\n",
    "\n",
    "fig.show()"
   ]
  },
  {
   "cell_type": "code",
   "execution_count": null,
   "metadata": {},
   "outputs": [],
   "source": [
    "# inspect the summary of the SVI posterior\n",
    "# of key interest: t and p\n",
    "\n",
    "num_samples = 1000\n",
    "predictive = Predictive(model_sigmavar, guide=guide, \n",
    "                        num_samples=num_samples,\n",
    "                        return_sites = [\"t\", \"p\"])\n",
    "random_sigmavar = {k: v.flatten().reshape(num_samples, -1).detach().cpu().numpy()\n",
    "            for k, v in predictive(prox, tr, vis, hf).items()\n",
    "            if k != \"obs\"}\n",
    "\n",
    "for site, values in summary(random_sigmavar).items():\n",
    "            print(\"Site: {}\".format(site))\n",
    "            print(values, \"\\n\")"
   ]
  },
  {
   "cell_type": "code",
   "execution_count": null,
   "metadata": {},
   "outputs": [],
   "source": [
    "# as a sanity check\n",
    "# compare with the results \n",
    "# from the MCMC method\n",
    "\n",
    "# warning: MCMC training might take a bit of time to run\n",
    "#random_sigmavar_mcmc = mcmc_training(model_sigmavar, prox, tr, vis, hf)"
   ]
  },
  {
   "cell_type": "code",
   "execution_count": null,
   "metadata": {},
   "outputs": [],
   "source": [
    "# plot the marginal posterior distributions\n",
    "# for the coefficients of interest\n",
    "\n",
    "sites = [\"p\", \"t\"]\n",
    "plt.style.use(\"dark_background\")\n",
    "fig, axs = plt.subplots(nrows=1, ncols=2, figsize=(12, 10))\n",
    "fig.suptitle(\"Random birds (posterior densities)\", fontsize=16)\n",
    "for i, ax in enumerate(axs.reshape(-1)):\n",
    "    site = sites[i]\n",
    "    sns.histplot(random_sigmavar[site], ax=ax, label=\"svi\")\n",
    "    sns.histplot(random_sigmavar_mcmc [site], ax=ax, label=\"mcmc\")\n",
    "    ax.set_title(site)\n",
    "handles, labels = ax.get_legend_handles_labels()\n",
    "fig.legend(handles, labels, loc='upper right');"
   ]
  }
 ],
 "metadata": {
  "kernelspec": {
   "display_name": "Python 3",
   "language": "python",
   "name": "python3"
  },
  "language_info": {
   "codemirror_mode": {
    "name": "ipython",
    "version": 3
   },
   "file_extension": ".py",
   "mimetype": "text/x-python",
   "name": "python",
   "nbconvert_exporter": "python",
   "pygments_lexer": "ipython3",
   "version": "3.10.11"
  },
  "orig_nbformat": 4
 },
 "nbformat": 4,
 "nbformat_minor": 2
}
