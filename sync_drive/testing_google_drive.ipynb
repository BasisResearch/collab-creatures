{
 "cells": [
  {
   "cell_type": "code",
   "execution_count": 13,
   "metadata": {},
   "outputs": [
    {
     "data": {
      "text/plain": [
       "<module 'drive_io' from '/Users/emily/code/collaborative-intelligence/sync_drive/drive_io.py'>"
      ]
     },
     "execution_count": 13,
     "metadata": {},
     "output_type": "execute_result"
    }
   ],
   "source": [
    "from pydrive.auth import GoogleAuth\n",
    "from pydrive.drive import GoogleDrive\n",
    "import drive_io\n",
    "# reload the module, for development purposes\n",
    "import importlib\n",
    "importlib.reload(drive_io)\n",
    "# to change api, go to https://console.cloud.google.com/welcome?project=accessing-files\n",
    "# Do not push client_secrets.json to github. It's in the .gitignore file, and can be changed or downloaded from google console. "
   ]
  },
  {
   "cell_type": "code",
   "execution_count": 2,
   "metadata": {},
   "outputs": [],
   "source": [
    "shared_drive_foldername = 'collab-intell-shared' # our shared folder on google drive\n",
    "local_repo_foldername = '../' # point to collaborative-intelligence repo\n",
    "data_foldername = 'data' # this folder is ignored by .gitignore, and shared via google drive"
   ]
  },
  {
   "cell_type": "code",
   "execution_count": 15,
   "metadata": {},
   "outputs": [
    {
     "name": "stdout",
     "output_type": "stream",
     "text": [
      "Your browser has been opened to visit:\n",
      "\n",
      "    https://accounts.google.com/o/oauth2/auth?client_id=192179164139-4ta4iq8hm9damrd6bqmo3dk57spgmhh5.apps.googleusercontent.com&redirect_uri=http%3A%2F%2Flocalhost%3A8080%2F&scope=https%3A%2F%2Fwww.googleapis.com%2Fauth%2Fdrive&access_type=offline&response_type=code\n",
      "\n",
      "Authentication request was rejected\n",
      "Unexpected exception formatting exception. Falling back to standard exception\n"
     ]
    },
    {
     "name": "stderr",
     "output_type": "stream",
     "text": [
      "Traceback (most recent call last):\n",
      "  File \"/Users/emily/mambaforge/envs/elm_collab/lib/python3.11/site-packages/IPython/core/interactiveshell.py\", line 3526, in run_code\n",
      "    exec(code_obj, self.user_global_ns, self.user_ns)\n",
      "  File \"/var/folders/b6/yxvwzrjx5mlgxfckqfcn8tv40000gn/T/ipykernel_23867/2734375559.py\", line 3, in <module>\n",
      "    drive_io.pull_from_collab_drive(shared_drive_foldername, local_repo_foldername, data_foldername, skip_if_exists=skip_if_exists)\n",
      "  File \"/Users/emily/code/collaborative-intelligence/sync_drive/drive_io.py\", line 104, in pull_from_collab_drive\n",
      "    download_from_google_drive(drive, os.path.join(local_foldername, filename), file['id'], skip_if_exists=skip_if_exists, pause=pause)\n",
      "    ^^^^^^^^^^^\n",
      "  File \"/Users/emily/code/collaborative-intelligence/sync_drive/drive_io.py\", line 124, in get_drive\n",
      "  File \"/Users/emily/mambaforge/envs/elm_collab/lib/python3.11/site-packages/pydrive/auth.py\", line 115, in _decorated\n",
      "    code = decoratee(self, *args, **kwargs)\n",
      "           ^^^^^^^^^^^^^^^^^^^^^^^^^^^^^^^^\n",
      "  File \"/Users/emily/mambaforge/envs/elm_collab/lib/python3.11/site-packages/pydrive/auth.py\", line 235, in LocalWebserverAuth\n",
      "    raise AuthenticationRejected('User rejected authentication')\n",
      "pydrive.auth.AuthenticationRejected: User rejected authentication\n",
      "\n",
      "During handling of the above exception, another exception occurred:\n",
      "\n",
      "Traceback (most recent call last):\n",
      "  File \"/Users/emily/mambaforge/envs/elm_collab/lib/python3.11/site-packages/IPython/core/interactiveshell.py\", line 2120, in showtraceback\n",
      "    stb = self.InteractiveTB.structured_traceback(\n",
      "          ^^^^^^^^^^^^^^^^^^^^^^^^^^^^^^^^^^^^^^^^\n",
      "  File \"/Users/emily/mambaforge/envs/elm_collab/lib/python3.11/site-packages/IPython/core/ultratb.py\", line 1435, in structured_traceback\n",
      "    return FormattedTB.structured_traceback(\n",
      "           ^^^^^^^^^^^^^^^^^^^^^^^^^^^^^^^^^\n",
      "  File \"/Users/emily/mambaforge/envs/elm_collab/lib/python3.11/site-packages/IPython/core/ultratb.py\", line 1326, in structured_traceback\n",
      "    return VerboseTB.structured_traceback(\n",
      "           ^^^^^^^^^^^^^^^^^^^^^^^^^^^^^^^\n",
      "  File \"/Users/emily/mambaforge/envs/elm_collab/lib/python3.11/site-packages/IPython/core/ultratb.py\", line 1173, in structured_traceback\n",
      "    formatted_exception = self.format_exception_as_a_whole(etype, evalue, etb, number_of_lines_of_context,\n",
      "                          ^^^^^^^^^^^^^^^^^^^^^^^^^^^^^^^^^^^^^^^^^^^^^^^^^^^^^^^^^^^^^^^^^^^^^^^^^^^^^^^^\n",
      "  File \"/Users/emily/mambaforge/envs/elm_collab/lib/python3.11/site-packages/IPython/core/ultratb.py\", line 1088, in format_exception_as_a_whole\n",
      "    frames.append(self.format_record(record))\n",
      "                  ^^^^^^^^^^^^^^^^^^^^^^^^^^\n",
      "  File \"/Users/emily/mambaforge/envs/elm_collab/lib/python3.11/site-packages/IPython/core/ultratb.py\", line 970, in format_record\n",
      "    frame_info.lines, Colors, self.has_colors, lvals\n",
      "    ^^^^^^^^^^^^^^^^\n",
      "  File \"/Users/emily/mambaforge/envs/elm_collab/lib/python3.11/site-packages/IPython/core/ultratb.py\", line 792, in lines\n",
      "    return self._sd.lines\n",
      "           ^^^^^^^^^^^^^^\n",
      "  File \"/Users/emily/mambaforge/envs/elm_collab/lib/python3.11/site-packages/stack_data/utils.py\", line 144, in cached_property_wrapper\n",
      "    value = obj.__dict__[self.func.__name__] = self.func(obj)\n",
      "                                               ^^^^^^^^^^^^^^\n",
      "  File \"/Users/emily/mambaforge/envs/elm_collab/lib/python3.11/site-packages/stack_data/core.py\", line 734, in lines\n",
      "    pieces = self.included_pieces\n",
      "             ^^^^^^^^^^^^^^^^^^^^\n",
      "  File \"/Users/emily/mambaforge/envs/elm_collab/lib/python3.11/site-packages/stack_data/utils.py\", line 144, in cached_property_wrapper\n",
      "    value = obj.__dict__[self.func.__name__] = self.func(obj)\n",
      "                                               ^^^^^^^^^^^^^^\n",
      "  File \"/Users/emily/mambaforge/envs/elm_collab/lib/python3.11/site-packages/stack_data/core.py\", line 681, in included_pieces\n",
      "    pos = scope_pieces.index(self.executing_piece)\n",
      "                             ^^^^^^^^^^^^^^^^^^^^\n",
      "  File \"/Users/emily/mambaforge/envs/elm_collab/lib/python3.11/site-packages/stack_data/utils.py\", line 144, in cached_property_wrapper\n",
      "    value = obj.__dict__[self.func.__name__] = self.func(obj)\n",
      "                                               ^^^^^^^^^^^^^^\n",
      "  File \"/Users/emily/mambaforge/envs/elm_collab/lib/python3.11/site-packages/stack_data/core.py\", line 660, in executing_piece\n",
      "    return only(\n",
      "           ^^^^^\n",
      "  File \"/Users/emily/mambaforge/envs/elm_collab/lib/python3.11/site-packages/executing/executing.py\", line 190, in only\n",
      "    raise NotOneValueFound('Expected one value, found 0')\n",
      "executing.executing.NotOneValueFound: Expected one value, found 0\n"
     ]
    }
   ],
   "source": [
    "# Pull from drive to local\n",
    "skip_if_exists = True # change to False if you want to overwrite files\n",
    "drive_io.pull_from_collab_drive(shared_drive_foldername, local_repo_foldername, data_foldername, skip_if_exists=skip_if_exists)"
   ]
  },
  {
   "cell_type": "code",
   "execution_count": 16,
   "metadata": {},
   "outputs": [
    {
     "name": "stdout",
     "output_type": "stream",
     "text": [
      "Your browser has been opened to visit:\n",
      "\n",
      "    https://accounts.google.com/o/oauth2/auth?client_id=192179164139-4ta4iq8hm9damrd6bqmo3dk57spgmhh5.apps.googleusercontent.com&redirect_uri=http%3A%2F%2Flocalhost%3A8090%2F&scope=https%3A%2F%2Fwww.googleapis.com%2Fauth%2Fdrive&access_type=offline&response_type=code\n",
      "\n",
      "Authentication successful.\n",
      "Redirected but the response is missing a Location: header.\n",
      "../data/central_park_birds_2022/thermal_data_csq/20221229124843603.csq\n",
      "File size: 0.578547536 GB\n",
      "Redirected but the response is missing a Location: header.\n",
      "../data/central_park_birds_2022/thermal_data_csq/20221215123342191.csq\n",
      "File size: 0.236053352 GB\n",
      "Redirected but the response is missing a Location: header.\n",
      "../data/central_park_birds_2022/thermal_data_csq/20221230095646549.csq\n",
      "File size: 0.441762628 GB\n",
      "Redirected but the response is missing a Location: header.\n",
      "../data/central_park_birds_2022/thermal_data_csq/20221215121330884.csq\n",
      "File size: 0.116272236 GB\n",
      "Uploaded data from ../ to collab-intell-shared\n"
     ]
    }
   ],
   "source": [
    "# push from local to drive\n",
    "skip_if_exists = True # change to False if you want to overwrite files\n",
    "pause = 0 # pause between each file upload, in seconds. \n",
    "# \"Redirected but the response is missing a Location: header.\" errors may be due to file size; try uploading manually\n",
    "drive_io.push_to_collab_drive(shared_drive_foldername, local_repo_foldername, data_foldername, skip_if_exists=skip_if_exists, pause = pause)"
   ]
  },
  {
   "cell_type": "code",
   "execution_count": 5,
   "metadata": {},
   "outputs": [
    {
     "name": "stdout",
     "output_type": "stream",
     "text": [
      "Your browser has been opened to visit:\n",
      "\n",
      "    https://accounts.google.com/o/oauth2/auth?client_id=192179164139-4ta4iq8hm9damrd6bqmo3dk57spgmhh5.apps.googleusercontent.com&redirect_uri=http%3A%2F%2Flocalhost%3A8080%2F&scope=https%3A%2F%2Fwww.googleapis.com%2Fauth%2Fdrive&access_type=offline&response_type=code\n",
      "\n",
      "Authentication successful.\n",
      "data, id: 1BL_h02XqGSCO67EuDluDH744Bx8QtqU3\n",
      "CentralParkBirds2022, id: 1Oq1dlRw5xB1-2rjZys06JzDoIxSzW8R9\n",
      "Communicator_sims_091023, id: 1Ef-dUtBsFFoxjadWjYLE08U0jTge-ysM\n"
     ]
    }
   ],
   "source": [
    "# see what files & folders are in collab-intell-shared google drive folder\n",
    "drive = drive_io.get_drive()\n",
    "drive_io.ls_google_drive(drive, drive_io.get_root_id(drive, 'collab-intell-shared'))\n"
   ]
  },
  {
   "cell_type": "code",
   "execution_count": 6,
   "metadata": {},
   "outputs": [
    {
     "name": "stdout",
     "output_type": "stream",
     "text": [
      "testing.csv, id: 1fZm4jBKyy4IGedzoZRlPuJK1_2D7f40_\n",
      "communicators_data, id: 1z0waG4vtAJ2XJzdUgCC04h931J5aEQcr\n",
      ".DS_Store, id: 1_v7LZT1DkQJaSZLoufpuGvMvWOy46eWn\n",
      "communicators_strong, id: 1Ec86Jll1WOk4XUDi9WbcW3cUQw36Wy7N\n"
     ]
    }
   ],
   "source": [
    "# see what files are in data folder on drive \n",
    "drive_io.ls_google_drive(drive, '1BL_h02XqGSCO67EuDluDH744Bx8QtqU3')"
   ]
  },
  {
   "cell_type": "code",
   "execution_count": null,
   "metadata": {},
   "outputs": [],
   "source": []
  }
 ],
 "metadata": {
  "kernelspec": {
   "display_name": "Python 3.11.5 ('elm_collab')",
   "language": "python",
   "name": "python3"
  },
  "language_info": {
   "codemirror_mode": {
    "name": "ipython",
    "version": 3
   },
   "file_extension": ".py",
   "mimetype": "text/x-python",
   "name": "python",
   "nbconvert_exporter": "python",
   "pygments_lexer": "ipython3",
   "version": "3.11.5"
  },
  "orig_nbformat": 4,
  "vscode": {
   "interpreter": {
    "hash": "5883c200001963f9c71d117b2067039ffcfe95d2ec18fe3e67d4d08d7043acc0"
   }
  }
 },
 "nbformat": 4,
 "nbformat_minor": 2
}
