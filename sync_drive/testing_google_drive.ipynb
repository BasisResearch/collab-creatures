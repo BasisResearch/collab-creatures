{
 "cells": [
  {
   "cell_type": "code",
   "execution_count": 65,
   "metadata": {},
   "outputs": [
    {
     "data": {
      "text/plain": [
       "<module 'drive_io' from '/Users/emily/code/collaborative-intelligence/sync_drive/drive_io.py'>"
      ]
     },
     "execution_count": 65,
     "metadata": {},
     "output_type": "execute_result"
    }
   ],
   "source": [
    "from pydrive.auth import GoogleAuth\n",
    "from pydrive.drive import GoogleDrive\n",
    "import drive_io\n",
    "# reload the module\n",
    "import importlib\n",
    "importlib.reload(drive_io)\n",
    "# to change api, go to https://console.cloud.google.com/welcome?project=accessing-files\n",
    "# Do not push client_secrets.json to github. It's in the .gitignore file, and can be changed or downloaded from google console. \n"
   ]
  },
  {
   "cell_type": "code",
   "execution_count": 17,
   "metadata": {},
   "outputs": [
    {
     "name": "stdout",
     "output_type": "stream",
     "text": [
      "Your browser has been opened to visit:\n",
      "\n",
      "    https://accounts.google.com/o/oauth2/auth?client_id=192179164139-4ta4iq8hm9damrd6bqmo3dk57spgmhh5.apps.googleusercontent.com&redirect_uri=http%3A%2F%2Flocalhost%3A8080%2F&scope=https%3A%2F%2Fwww.googleapis.com%2Fauth%2Fdrive&access_type=offline&response_type=code\n",
      "\n",
      "Authentication successful.\n"
     ]
    }
   ],
   "source": [
    "gauth = GoogleAuth()\n",
    "gauth.LocalWebserverAuth()\n",
    "drive = GoogleDrive(gauth)"
   ]
  },
  {
   "cell_type": "code",
   "execution_count": 24,
   "metadata": {},
   "outputs": [],
   "source": [
    "filename = 'testing.csv'\n",
    "shared_drive_foldername = 'collab-intell-shared'\n",
    "local_foldername = '../data'\n",
    "drive_io.upload_to_google_drive(drive, local_foldername, drive_io.get_root_id(drive, shared_drive_foldername))"
   ]
  },
  {
   "cell_type": "code",
   "execution_count": 50,
   "metadata": {},
   "outputs": [
    {
     "name": "stdout",
     "output_type": "stream",
     "text": [
      "data, id: 1rveCa_6BYp1AaSizKbRfb8kAnWbHUf2e\n",
      "communicators_data, id: 1iQA-3Z8Frk6qf6xt0UA7BMLwIRMwPnQ5\n",
      "CentralParkBirds2022, id: 1Oq1dlRw5xB1-2rjZys06JzDoIxSzW8R9\n",
      "Communicator_sims_091023, id: 1Ef-dUtBsFFoxjadWjYLE08U0jTge-ysM\n"
     ]
    }
   ],
   "source": [
    "# list all files in shared google drive folder\n",
    "shared_drive_foldername = 'collab-intell-shared'\n",
    "\n",
    "shared_drive_id = drive_io.get_root_id(drive, shared_drive_foldername)\n",
    "drive_io.ls_google_drive(drive, shared_drive_id)\n"
   ]
  },
  {
   "cell_type": "code",
   "execution_count": 66,
   "metadata": {},
   "outputs": [
    {
     "name": "stdout",
     "output_type": "stream",
     "text": [
      "application/vnd.google-apps.folder\n",
      "text/csv\n",
      "../data/data/testing.csv\n",
      "text/csv\n",
      "application/vnd.google-apps.folder\n",
      "text/csv\n",
      "../data/data/communicators_data/additional_meta_params.csv\n",
      "text/csv\n",
      "text/csv\n",
      "../data/data/communicators_data/metadataDF.csv\n",
      "text/csv\n",
      "application/octet-stream\n",
      "../data/data/.DS_Store\n",
      "application/octet-stream\n",
      "application/vnd.google-apps.folder\n",
      "application/vnd.google-apps.folder\n",
      "text/csv\n",
      "../data/data/communicators_strong/sim1_run0/rewardlocsDF.csv\n",
      "text/csv\n",
      "text/csv\n",
      "../data/data/communicators_strong/sim1_run0/birdlocsDF.csv\n",
      "text/csv\n",
      "application/vnd.google-apps.folder\n",
      "application/vnd.google-apps.folder\n",
      "application/vnd.google-apps.folder\n",
      "text/csv\n",
      "../data/data/communicators_strong/resultsDF.csv\n",
      "text/csv\n",
      "application/vnd.google-apps.folder\n",
      "application/vnd.google-apps.folder\n"
     ]
    }
   ],
   "source": [
    "# download file from shared google drive folder\n",
    "\n",
    "drive_io.download_from_google_drive(drive, local_foldername, '1rveCa_6BYp1AaSizKbRfb8kAnWbHUf2e')\n"
   ]
  },
  {
   "cell_type": "code",
   "execution_count": null,
   "metadata": {},
   "outputs": [],
   "source": []
  },
  {
   "cell_type": "code",
   "execution_count": null,
   "metadata": {},
   "outputs": [],
   "source": []
  }
 ],
 "metadata": {
  "kernelspec": {
   "display_name": "Python 3.11.5 ('elm_collab')",
   "language": "python",
   "name": "python3"
  },
  "language_info": {
   "codemirror_mode": {
    "name": "ipython",
    "version": 3
   },
   "file_extension": ".py",
   "mimetype": "text/x-python",
   "name": "python",
   "nbconvert_exporter": "python",
   "pygments_lexer": "ipython3",
   "version": "3.11.5"
  },
  "orig_nbformat": 4,
  "vscode": {
   "interpreter": {
    "hash": "5883c200001963f9c71d117b2067039ffcfe95d2ec18fe3e67d4d08d7043acc0"
   }
  }
 },
 "nbformat": 4,
 "nbformat_minor": 2
}
