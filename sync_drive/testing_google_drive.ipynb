{
 "cells": [
  {
   "cell_type": "code",
   "execution_count": 1,
   "metadata": {},
   "outputs": [
    {
     "data": {
      "text/plain": [
       "<module 'drive_io' from '/Users/emily/code/collaborative-intelligence/sync_drive/drive_io.py'>"
      ]
     },
     "execution_count": 1,
     "metadata": {},
     "output_type": "execute_result"
    }
   ],
   "source": [
    "from pydrive.auth import GoogleAuth\n",
    "from pydrive.drive import GoogleDrive\n",
    "import drive_io\n",
    "# reload the module, for development purposes\n",
    "import importlib\n",
    "importlib.reload(drive_io)\n",
    "# to change api, go to https://console.cloud.google.com/welcome?project=accessing-files\n",
    "# Do not push client_secrets.json to github. It's in the .gitignore file, and can be changed or downloaded from google console. "
   ]
  },
  {
   "cell_type": "code",
   "execution_count": 2,
   "metadata": {},
   "outputs": [],
   "source": [
    "shared_drive_foldername = 'collab-intell-shared' # our shared folder on google drive\n",
    "local_repo_foldername = '../' # point to collaborative-intelligence repo\n",
    "data_foldername = 'data' # this folder is ignored by .gitignore, and shared via google drive"
   ]
  },
  {
   "cell_type": "code",
   "execution_count": 3,
   "metadata": {},
   "outputs": [
    {
     "name": "stdout",
     "output_type": "stream",
     "text": [
      "Your browser has been opened to visit:\n",
      "\n",
      "    https://accounts.google.com/o/oauth2/auth?client_id=192179164139-4ta4iq8hm9damrd6bqmo3dk57spgmhh5.apps.googleusercontent.com&redirect_uri=http%3A%2F%2Flocalhost%3A8080%2F&scope=https%3A%2F%2Fwww.googleapis.com%2Fauth%2Fdrive&access_type=offline&response_type=code\n",
      "\n",
      "Authentication successful.\n",
      "Downloaded data from collab-intell-shared to ../\n"
     ]
    }
   ],
   "source": [
    "# Pull from drive to local\n",
    "skip_if_exists = True # change to False if you want to overwrite files\n",
    "drive_io.pull_from_collab_drive(shared_drive_foldername, local_repo_foldername, data_foldername, skip_if_exists=skip_if_exists)"
   ]
  },
  {
   "cell_type": "code",
   "execution_count": 4,
   "metadata": {},
   "outputs": [
    {
     "name": "stdout",
     "output_type": "stream",
     "text": [
      "Your browser has been opened to visit:\n",
      "\n",
      "    https://accounts.google.com/o/oauth2/auth?client_id=192179164139-4ta4iq8hm9damrd6bqmo3dk57spgmhh5.apps.googleusercontent.com&redirect_uri=http%3A%2F%2Flocalhost%3A8080%2F&scope=https%3A%2F%2Fwww.googleapis.com%2Fauth%2Fdrive&access_type=offline&response_type=code\n",
      "\n",
      "Authentication successful.\n",
      "Uploaded data from ../ to collab-intell-shared\n"
     ]
    }
   ],
   "source": [
    "# push from local to drive\n",
    "skip_if_exists = True # change to False if you want to overwrite files\n",
    "drive_io.push_to_collab_drive(shared_drive_foldername, local_repo_foldername, data_foldername, skip_if_exists=skip_if_exists)"
   ]
  },
  {
   "cell_type": "code",
   "execution_count": 5,
   "metadata": {},
   "outputs": [
    {
     "name": "stdout",
     "output_type": "stream",
     "text": [
      "Your browser has been opened to visit:\n",
      "\n",
      "    https://accounts.google.com/o/oauth2/auth?client_id=192179164139-4ta4iq8hm9damrd6bqmo3dk57spgmhh5.apps.googleusercontent.com&redirect_uri=http%3A%2F%2Flocalhost%3A8080%2F&scope=https%3A%2F%2Fwww.googleapis.com%2Fauth%2Fdrive&access_type=offline&response_type=code\n",
      "\n",
      "Authentication successful.\n",
      "data, id: 1BL_h02XqGSCO67EuDluDH744Bx8QtqU3\n",
      "CentralParkBirds2022, id: 1Oq1dlRw5xB1-2rjZys06JzDoIxSzW8R9\n",
      "Communicator_sims_091023, id: 1Ef-dUtBsFFoxjadWjYLE08U0jTge-ysM\n"
     ]
    }
   ],
   "source": [
    "# see what files & folders are in collab-intell-shared google drive folder\n",
    "drive = drive_io.get_drive()\n",
    "drive_io.ls_google_drive(drive, drive_io.get_root_id(drive, 'collab-intell-shared'))\n"
   ]
  },
  {
   "cell_type": "code",
   "execution_count": 6,
   "metadata": {},
   "outputs": [
    {
     "name": "stdout",
     "output_type": "stream",
     "text": [
      "testing.csv, id: 1fZm4jBKyy4IGedzoZRlPuJK1_2D7f40_\n",
      "communicators_data, id: 1z0waG4vtAJ2XJzdUgCC04h931J5aEQcr\n",
      ".DS_Store, id: 1_v7LZT1DkQJaSZLoufpuGvMvWOy46eWn\n",
      "communicators_strong, id: 1Ec86Jll1WOk4XUDi9WbcW3cUQw36Wy7N\n"
     ]
    }
   ],
   "source": [
    "# see what files are in data folder on drive \n",
    "drive_io.ls_google_drive(drive, '1BL_h02XqGSCO67EuDluDH744Bx8QtqU3')"
   ]
  },
  {
   "cell_type": "code",
   "execution_count": null,
   "metadata": {},
   "outputs": [],
   "source": []
  }
 ],
 "metadata": {
  "kernelspec": {
   "display_name": "Python 3.11.5 ('elm_collab')",
   "language": "python",
   "name": "python3"
  },
  "language_info": {
   "codemirror_mode": {
    "name": "ipython",
    "version": 3
   },
   "file_extension": ".py",
   "mimetype": "text/x-python",
   "name": "python",
   "nbconvert_exporter": "python",
   "pygments_lexer": "ipython3",
   "version": "3.11.5"
  },
  "orig_nbformat": 4,
  "vscode": {
   "interpreter": {
    "hash": "5883c200001963f9c71d117b2067039ffcfe95d2ec18fe3e67d4d08d7043acc0"
   }
  }
 },
 "nbformat": 4,
 "nbformat_minor": 2
}
