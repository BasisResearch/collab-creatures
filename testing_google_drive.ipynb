{
 "cells": [
  {
   "cell_type": "code",
   "execution_count": 3,
   "metadata": {},
   "outputs": [],
   "source": [
    "from pydrive.auth import GoogleAuth\n",
    "from pydrive.drive import GoogleDrive\n",
    "# to change api, go to https://console.cloud.google.com/welcome?project=accessing-files\n",
    "# Do not push client_secrets.json to github. It's in the .gitignore file, and can be changed or downloaded from google console. \n"
   ]
  },
  {
   "cell_type": "code",
   "execution_count": 4,
   "metadata": {},
   "outputs": [
    {
     "name": "stdout",
     "output_type": "stream",
     "text": [
      "Your browser has been opened to visit:\n",
      "\n",
      "    https://accounts.google.com/o/oauth2/auth?client_id=192179164139-4ta4iq8hm9damrd6bqmo3dk57spgmhh5.apps.googleusercontent.com&redirect_uri=http%3A%2F%2Flocalhost%3A8080%2F&scope=https%3A%2F%2Fwww.googleapis.com%2Fauth%2Fdrive.file+https%3A%2F%2Fwww.googleapis.com%2Fauth%2Fdrive.readonly&access_type=offline&response_type=code\n",
      "\n",
      "Authentication successful.\n"
     ]
    }
   ],
   "source": [
    "gauth = GoogleAuth()\n",
    "gauth.LocalWebserverAuth()\n",
    "drive = GoogleDrive(gauth)"
   ]
  },
  {
   "cell_type": "code",
   "execution_count": 16,
   "metadata": {},
   "outputs": [],
   "source": [
    "# upload file to shared google drive folder\n",
    "def upload_to_google_drive(drive, filename, shared_drive_foldername):\n",
    "    shared_drive_folder = drive.ListFile({'q': \"title='\" + shared_drive_foldername + \"' and mimeType='application/vnd.google-apps.folder' and trashed=false\"}).GetList()[0]\n",
    "    shared_drive_folderid = shared_drive_folder['id']\n",
    "    # if file already exists, delete it\n",
    "    file_list = drive.ListFile({'q': \"title='\" + filename + \"' and trashed=false\"}).GetList()\n",
    "    if len(file_list) > 0:\n",
    "        file_list[0].Trash()\n",
    "    file = drive.CreateFile({'title': filename, 'parents': [{'id': shared_drive_folderid}]})\n",
    "    file.SetContentFile('tmp_files/' + filename)\n",
    "    file.Upload()\n",
    "\n",
    "filename = 'emily.stl'\n",
    "shared_drive_foldername = 'collab-intell-shared'\n",
    "\n",
    "upload_to_google_drive(drive, filename, shared_drive_foldername)"
   ]
  },
  {
   "cell_type": "code",
   "execution_count": 20,
   "metadata": {},
   "outputs": [],
   "source": [
    "# upload file to subfolder of shared google drive folder\n",
    "def upload_to_google_drive_subfolder(drive, filename, shared_drive_foldername, subfoldername):\n",
    "    shared_drive_folder = drive.ListFile({'q': \"title='\" + shared_drive_foldername + \"' and mimeType='application/vnd.google-apps.folder' and trashed=false\"}).GetList()[0]\n",
    "    shared_drive_folderid = shared_drive_folder['id']\n",
    "    # create subfolder if it doesn't exist\n",
    "    if len(drive.ListFile({'q': \"title='\" + subfoldername + \"' and mimeType='application/vnd.google-apps.folder' and trashed=false\"}).GetList()) == 0:\n",
    "        subfolder = drive.CreateFile({'title': subfoldername, 'parents': [{'id': shared_drive_folderid}], 'mimeType': 'application/vnd.google-apps.folder'})\n",
    "        subfolder.Upload()\n",
    "    else:\n",
    "        subfolder = drive.ListFile({'q': \"title='\" + subfoldername + \"' and mimeType='application/vnd.google-apps.folder' and trashed=false\"}).GetList()[0]\n",
    "    subfolderid = subfolder['id']\n",
    "    # if file already exists in the subfolder, delete it\n",
    "    file_list = drive.ListFile({'q': \"title='\" + filename + \"' and trashed=false and '\" + subfolderid + \"' in parents\"}).GetList()\n",
    "    if len(file_list) > 0:\n",
    "        file_list[0].Trash()\n",
    "    \n",
    "    file = drive.CreateFile({'title': filename, 'parents': [{'id': subfolderid}]})\n",
    "    file.SetContentFile('tmp_files/' + filename)\n",
    "    file.Upload()\n",
    "\n",
    "filename = 'emily.stl'\n",
    "shared_drive_foldername = 'collab-intell-shared'\n",
    "subfoldername = 'emily'\n",
    "\n",
    "upload_to_google_drive_subfolder(drive, filename, shared_drive_foldername, subfoldername)"
   ]
  },
  {
   "cell_type": "code",
   "execution_count": 33,
   "metadata": {},
   "outputs": [],
   "source": [
    "# upload folder to subfolder of shared google drive folder\n",
    "def upload_folder_to_google_drive_subfolder(drive, foldername, shared_drive_foldername, subfoldername):\n",
    "    shared_drive_folder = drive.ListFile({'q': \"title='\" + shared_drive_foldername + \"' and mimeType='application/vnd.google-apps.folder' and trashed=false\"}).GetList()[0]\n",
    "    shared_drive_folderid = shared_drive_folder['id']\n",
    "    # create subfolder if it doesn't exist\n",
    "    if len(drive.ListFile({'q': \"title='\" + subfoldername + \"' and mimeType='application/vnd.google-apps.folder' and trashed=false\"}).GetList()) == 0:\n",
    "        subfolder = drive.CreateFile({'title': subfoldername, 'parents': [{'id': shared_drive_folderid}], 'mimeType': 'application/vnd.google-apps.folder'})\n",
    "        subfolder.Upload()\n",
    "    else:\n",
    "        subfolder = drive.ListFile({'q': \"title='\" + subfoldername + \"' and mimeType='application/vnd.google-apps.folder' and trashed=false\"}).GetList()[0]\n",
    "    subfolderid = subfolder['id']\n",
    "    # create folder if it doesn't exist\n",
    "    destination_foldername = foldername.split('/')[-1]\n",
    "    if len(drive.ListFile({'q': \"title='\" + destination_foldername + \"' and trashed=false and '\" + subfolderid + \"' in parents and mimeType='application/vnd.google-apps.folder'\"}).GetList()) == 0:\n",
    "        folder = drive.CreateFile({'title': destination_foldername, 'parents': [{'id': subfolderid}], 'mimeType': 'application/vnd.google-apps.folder'})\n",
    "        folder.Upload()\n",
    "    else:\n",
    "        folder = drive.ListFile({'q': \"title='\" + destination_foldername + \"' and trashed=false and '\" + subfolderid + \"' in parents and mimeType='application/vnd.google-apps.folder'\"}).GetList()[0]\n",
    "    folderid = folder['id']\n",
    "    for file in os.listdir(foldername):\n",
    "        # check if it's a folder\n",
    "        if os.path.isdir(os.path.join(foldername, file)):\n",
    "            print('Folder ' + file + ' not uploaded because it is a folder')\n",
    "        else:\n",
    "            file_drive = drive.CreateFile({'title': file, 'parents': [{'id': folderid}]})\n",
    "            file_drive.SetContentFile(foldername + '/' + file)\n",
    "            file_drive.Upload()\n",
    "\n",
    "\n",
    "foldername = 'tmp_files/sim0_run0'\n",
    "shared_drive_foldername = 'collab-intell-shared'\n",
    "subfoldername = 'emily'\n",
    "\n",
    "upload_folder_to_google_drive_subfolder(drive, foldername, shared_drive_foldername, subfoldername)"
   ]
  },
  {
   "cell_type": "code",
   "execution_count": 34,
   "metadata": {},
   "outputs": [],
   "source": [
    "# upload folder to shared google drive folder\n",
    "def upload_folder_to_google_drive(drive, foldername, shared_drive_foldername):\n",
    "    shared_drive_folder = drive.ListFile({'q': \"title='\" + shared_drive_foldername + \"' and mimeType='application/vnd.google-apps.folder' and trashed=false\"}).GetList()[0]\n",
    "    shared_drive_folderid = shared_drive_folder['id']\n",
    "    # create folder if it doesn't exist\n",
    "    destination_foldername = foldername.split('/')[-1]\n",
    "    if len(drive.ListFile({'q': \"title='\" + destination_foldername + \"' and trashed=false and '\" + shared_drive_folderid + \"' in parents and mimeType='application/vnd.google-apps.folder'\"}).GetList()) == 0:\n",
    "        folder = drive.CreateFile({'title': destination_foldername, 'parents': [{'id': shared_drive_folderid}], 'mimeType': 'application/vnd.google-apps.folder'})\n",
    "        folder.Upload()\n",
    "    else:\n",
    "        folder = drive.ListFile({'q': \"title='\" + destination_foldername + \"' and trashed=false and '\" + shared_drive_folderid + \"' in parents and mimeType='application/vnd.google-apps.folder'\"}).GetList()[0]\n",
    "    folderid = folder['id']\n",
    "    for file in os.listdir(foldername):\n",
    "        file_drive = drive.CreateFile({'title': file, 'parents': [{'id': folderid}]})\n",
    "        file_drive.SetContentFile(foldername + '/' + file)\n",
    "        file_drive.Upload()\n",
    "\n",
    "foldername = 'tmp_files/sim0_run0'\n",
    "shared_drive_foldername = 'collab-intell-shared'\n",
    "\n",
    "upload_folder_to_google_drive(drive, foldername, shared_drive_foldername)"
   ]
  },
  {
   "cell_type": "code",
   "execution_count": 24,
   "metadata": {},
   "outputs": [
    {
     "name": "stdout",
     "output_type": "stream",
     "text": [
      "title: rewardlocsDF.csv, id: 1b6PokIFl_v_dJvnr_KhLjjuoHV7wI28e\n",
      "title: birdlocsDF.csv, id: 1oOmfZP9f8p7ycZJMsgLzDROm2uxEuQfy\n"
     ]
    }
   ],
   "source": [
    "# list all files in shared google drive folder\n",
    "shared_drive_foldername = 'collab-intell-shared'\n",
    "\n",
    "shared_drive_folder = drive.ListFile({'q': \"title='\" + shared_drive_foldername + \"' and mimeType='application/vnd.google-apps.folder' and trashed=false\"}).GetList()[0]\n",
    "shared_drive_folderid = shared_drive_folder['id']\n",
    "file_list = drive.ListFile({'q': \"'\" + shared_drive_folderid + \"' in parents and trashed=false\"}).GetList()\n",
    "for file in file_list:\n",
    "    print('title: %s, id: %s' % (file['title'], file['id']))\n",
    "    "
   ]
  },
  {
   "cell_type": "code",
   "execution_count": 25,
   "metadata": {},
   "outputs": [],
   "source": [
    "# download file from shared google drive folder\n",
    "def download_from_google_drive(drive, filename, shared_drive_foldername):\n",
    "    shared_drive_folder = drive.ListFile({'q': \"title='\" + shared_drive_foldername + \"' and mimeType='application/vnd.google-apps.folder' and trashed=false\"}).GetList()[0]\n",
    "    shared_drive_folderid = shared_drive_folder['id']\n",
    "    file = drive.ListFile({'q': \"title='\" + filename + \"' and '\" + shared_drive_folderid + \"' in parents and trashed=false\"}).GetList()[0]\n",
    "    file.GetContentFile(os.path.join('tmp_files/', filename))\n",
    "\n",
    "shared_drive_foldername = 'collab-intell-shared'\n",
    "filename = 'emily.stl'\n",
    "download_from_google_drive(drive, filename, shared_drive_foldername)\n"
   ]
  },
  {
   "cell_type": "code",
   "execution_count": 30,
   "metadata": {},
   "outputs": [],
   "source": [
    "# download file from subfolder of shared google drive folder\n",
    "def download_from_google_drive_subfolder(drive, filename, shared_drive_foldername, subfoldername):\n",
    "    shared_drive_folder = drive.ListFile({'q': \"title='\" + shared_drive_foldername + \"' and mimeType='application/vnd.google-apps.folder' and trashed=false\"}).GetList()[0]\n",
    "    shared_drive_folderid = shared_drive_folder['id']\n",
    "    subfolder = drive.ListFile({'q': \"title='\" + subfoldername + \"' and '\" + shared_drive_folderid + \"' in parents and trashed=false\"}).GetList()[0]\n",
    "    subfolderid = subfolder['id']\n",
    "    file = drive.ListFile({'q': \"title='\" + filename + \"' and '\" + subfolderid + \"' in parents and trashed=false\"}).GetList()[0]\n",
    "    file.GetContentFile(os.path.join('tmp_files/', filename))\n",
    "\n",
    "\n",
    "shared_drive_foldername = 'collab-intell-shared'\n",
    "subfolder_name = 'emily'\n",
    "filename = 'rewardlocsDF.csv'\n",
    "\n",
    "download_from_google_drive_subfolder(drive, filename, shared_drive_foldername, subfolder_name)\n"
   ]
  },
  {
   "cell_type": "code",
   "execution_count": null,
   "metadata": {},
   "outputs": [],
   "source": []
  }
 ],
 "metadata": {
  "kernelspec": {
   "display_name": "Python 3.11.5 ('elm_collab')",
   "language": "python",
   "name": "python3"
  },
  "language_info": {
   "codemirror_mode": {
    "name": "ipython",
    "version": 3
   },
   "file_extension": ".py",
   "mimetype": "text/x-python",
   "name": "python",
   "nbconvert_exporter": "python",
   "pygments_lexer": "ipython3",
   "version": "3.11.5"
  },
  "orig_nbformat": 4,
  "vscode": {
   "interpreter": {
    "hash": "5883c200001963f9c71d117b2067039ffcfe95d2ec18fe3e67d4d08d7043acc0"
   }
  }
 },
 "nbformat": 4,
 "nbformat_minor": 2
}
