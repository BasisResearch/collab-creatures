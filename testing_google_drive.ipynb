{
 "cells": [
  {
   "cell_type": "code",
   "execution_count": 10,
   "metadata": {},
   "outputs": [],
   "source": [
    "from pydrive.auth import GoogleAuth\n",
    "from pydrive.drive import GoogleDrive\n",
    "# to change api, go to https://console.cloud.google.com/welcome?project=accessing-files\n",
    "# Do not push client_secrets.json to github. It's in the .gitignore file, and can be changed or downloaded from google console. \n"
   ]
  },
  {
   "cell_type": "code",
   "execution_count": 9,
   "metadata": {},
   "outputs": [
    {
     "name": "stdout",
     "output_type": "stream",
     "text": [
      "Your browser has been opened to visit:\n",
      "\n",
      "    https://accounts.google.com/o/oauth2/auth?client_id=192179164139-4ta4iq8hm9damrd6bqmo3dk57spgmhh5.apps.googleusercontent.com&redirect_uri=http%3A%2F%2Flocalhost%3A8080%2F&scope=https%3A%2F%2Fwww.googleapis.com%2Fauth%2Fdrive.file+https%3A%2F%2Fwww.googleapis.com%2Fauth%2Fdrive.readonly&access_type=offline&response_type=code\n",
      "\n",
      "Authentication successful.\n"
     ]
    }
   ],
   "source": [
    "gauth = GoogleAuth()\n",
    "gauth.LocalWebserverAuth()\n",
    "\n",
    "drive = GoogleDrive(gauth)"
   ]
  },
  {
   "cell_type": "code",
   "execution_count": 25,
   "metadata": {},
   "outputs": [],
   "source": [
    "# upload file to shared google drive folder\n",
    "filename = 'emily.stl'\n",
    "shared_drive_foldername = 'collab-intell-shared'\n",
    "\n",
    "shared_drive_folder = drive.ListFile({'q': \"title='\" + shared_drive_foldername + \"' and mimeType='application/vnd.google-apps.folder' and trashed=false\"}).GetList()[0]\n",
    "shared_drive_folderid = shared_drive_folder['id']\n",
    "file = drive.CreateFile({'title': filename, 'parents': [{'id': shared_drive_folderid}]})\n",
    "file.SetContentFile('tmp_files/emily.stl')\n",
    "file.Upload()"
   ]
  },
  {
   "cell_type": "code",
   "execution_count": 26,
   "metadata": {},
   "outputs": [],
   "source": [
    "# upload file to subfolder of shared google drive folder\n",
    "filename = 'emily.stl'\n",
    "shared_drive_foldername = 'collab-intell-shared'\n",
    "subfoldername = 'emily'\n",
    "\n",
    "shared_drive_folder = drive.ListFile({'q': \"title='\" + shared_drive_foldername + \"' and mimeType='application/vnd.google-apps.folder' and trashed=false\"}).GetList()[0]\n",
    "shared_drive_folderid = shared_drive_folder['id']\n",
    "subfolder = drive.CreateFile({'title': subfoldername, 'parents': [{'id': shared_drive_folderid}], 'mimeType': 'application/vnd.google-apps.folder'})\n",
    "subfolder.Upload()\n",
    "subfolderid = subfolder['id']\n",
    "file = drive.CreateFile({'title': filename, 'parents': [{'id': subfolderid}]})\n",
    "file.SetContentFile('tmp_files/emily.stl')\n",
    "file.Upload()"
   ]
  },
  {
   "cell_type": "code",
   "execution_count": 27,
   "metadata": {},
   "outputs": [
    {
     "name": "stdout",
     "output_type": "stream",
     "text": [
      "title: emily, id: 1m9Nf9eAxhkczzTvoB9d-C3ydrCfXD3uL\n",
      "title: emily.stl, id: 1v78grn-pxhmbbSXstgAXIc2PmcbTqEYz\n"
     ]
    }
   ],
   "source": [
    "# list all files in shared google drive folder\n",
    "shared_drive_foldername = 'collab-intell-shared'\n",
    "\n",
    "shared_drive_folder = drive.ListFile({'q': \"title='\" + shared_drive_foldername + \"' and mimeType='application/vnd.google-apps.folder' and trashed=false\"}).GetList()[0]\n",
    "shared_drive_folderid = shared_drive_folder['id']\n",
    "file_list = drive.ListFile({'q': \"'\" + shared_drive_folderid + \"' in parents and trashed=false\"}).GetList()\n",
    "for file in file_list:\n",
    "    print('title: %s, id: %s' % (file['title'], file['id']))\n",
    "    "
   ]
  },
  {
   "cell_type": "code",
   "execution_count": 29,
   "metadata": {},
   "outputs": [],
   "source": [
    "# download file from shared google drive folder\n",
    "shared_drive_foldername = 'collab-intell-shared'\n",
    "filename = 'emily.stl'\n",
    "\n",
    "shared_drive_folder = drive.ListFile({'q': \"title='\" + shared_drive_foldername + \"' and mimeType='application/vnd.google-apps.folder' and trashed=false\"}).GetList()[0]\n",
    "shared_drive_folderid = shared_drive_folder['id']\n",
    "file = drive.ListFile({'q': \"title='\" + filename + \"' and '\" + shared_drive_folderid + \"' in parents and trashed=false\"}).GetList()[0]\n",
    "file.GetContentFile('tmp_files/'+filename)"
   ]
  },
  {
   "cell_type": "code",
   "execution_count": 30,
   "metadata": {},
   "outputs": [],
   "source": [
    "# download file from subfolder of shared google drive folder\n",
    "shared_drive_foldername = 'collab-intell-shared'\n",
    "subfolder_name = 'emily'\n",
    "filename = 'emily.stl'\n",
    "\n",
    "shared_drive_folder = drive.ListFile({'q': \"title='\" + shared_drive_foldername + \"' and mimeType='application/vnd.google-apps.folder' and trashed=false\"}).GetList()[0]\n",
    "shared_drive_folderid = shared_drive_folder['id']\n",
    "subfolder = drive.ListFile({'q': \"title='\" + subfolder_name + \"' and '\" + shared_drive_folderid + \"' in parents and trashed=false\"}).GetList()[0]\n",
    "subfolderid = subfolder['id']\n",
    "file = drive.ListFile({'q': \"title='\" + filename + \"' and '\" + subfolderid + \"' in parents and trashed=false\"}).GetList()[0]\n",
    "file.GetContentFile('tmp_files/'+filename)\n"
   ]
  },
  {
   "cell_type": "code",
   "execution_count": null,
   "metadata": {},
   "outputs": [],
   "source": []
  }
 ],
 "metadata": {
  "kernelspec": {
   "display_name": "Python 3.11.5 ('elm_collab')",
   "language": "python",
   "name": "python3"
  },
  "language_info": {
   "codemirror_mode": {
    "name": "ipython",
    "version": 3
   },
   "file_extension": ".py",
   "mimetype": "text/x-python",
   "name": "python",
   "nbconvert_exporter": "python",
   "pygments_lexer": "ipython3",
   "version": "3.11.5"
  },
  "orig_nbformat": 4,
  "vscode": {
   "interpreter": {
    "hash": "5883c200001963f9c71d117b2067039ffcfe95d2ec18fe3e67d4d08d7043acc0"
   }
  }
 },
 "nbformat": 4,
 "nbformat_minor": 2
}
